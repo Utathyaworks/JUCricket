{
 "cells": [
  {
   "cell_type": "code",
   "execution_count": 1,
   "id": "28d07b30",
   "metadata": {
    "_cell_guid": "b1076dfc-b9ad-4769-8c92-a6c4dae69d19",
    "_uuid": "8f2839f25d086af736a60e9eeb907d3b93b6e0e5",
    "execution": {
     "iopub.execute_input": "2025-09-09T12:14:55.866661Z",
     "iopub.status.busy": "2025-09-09T12:14:55.866443Z",
     "iopub.status.idle": "2025-09-09T12:15:21.200121Z",
     "shell.execute_reply": "2025-09-09T12:15:21.199277Z"
    },
    "papermill": {
     "duration": 25.338673,
     "end_time": "2025-09-09T12:15:21.201431",
     "exception": false,
     "start_time": "2025-09-09T12:14:55.862758",
     "status": "completed"
    },
    "tags": []
   },
   "outputs": [
    {
     "name": "stdout",
     "output_type": "stream",
     "text": [
      "Classes: ['Batting', 'Bowling', 'Fielding', 'Umpire']\n"
     ]
    }
   ],
   "source": [
    "import torch\n",
    "import torch.nn as nn\n",
    "import torch.nn.functional as F\n",
    "from torch.utils.data import DataLoader\n",
    "from torchvision import datasets, transforms\n",
    "from torchsummary import summary\n",
    "import matplotlib.pyplot as plt\n",
    "from sklearn.metrics import classification_report, confusion_matrix, accuracy_score\n",
    "import seaborn as sns\n",
    "import numpy as np\n",
    "\n",
    "# -----------------------------\n",
    "# 1. Data Preprocessing\n",
    "# -----------------------------\n",
    "data_dir = \"/kaggle/input/ju-cricket/Cricket_Dataset_final/Task_A\"\n",
    "\n",
    "transform = transforms.Compose([\n",
    "    transforms.Resize((224, 224)),\n",
    "    transforms.ToTensor(),\n",
    "    transforms.Normalize([0.485, 0.456, 0.406], \n",
    "                         [0.229, 0.224, 0.225])\n",
    "])\n",
    "\n",
    "train_ds = datasets.ImageFolder(f\"{data_dir}/train\", transform=transform)\n",
    "val_ds   = datasets.ImageFolder(f\"{data_dir}/val\", transform=transform)\n",
    "test_ds  = datasets.ImageFolder(f\"{data_dir}/test\", transform=transform)\n",
    "\n",
    "train_loader = DataLoader(train_ds, batch_size=32, shuffle=True)\n",
    "val_loader   = DataLoader(val_ds, batch_size=32, shuffle=False)\n",
    "test_loader  = DataLoader(test_ds, batch_size=32, shuffle=False)\n",
    "\n",
    "classes = train_ds.classes\n",
    "print(\"Classes:\", classes)"
   ]
  },
  {
   "cell_type": "code",
   "execution_count": 2,
   "id": "3c99c730",
   "metadata": {
    "execution": {
     "iopub.execute_input": "2025-09-09T12:15:21.208044Z",
     "iopub.status.busy": "2025-09-09T12:15:21.207330Z",
     "iopub.status.idle": "2025-09-09T12:15:21.212085Z",
     "shell.execute_reply": "2025-09-09T12:15:21.211330Z"
    },
    "papermill": {
     "duration": 0.009024,
     "end_time": "2025-09-09T12:15:21.213299",
     "exception": false,
     "start_time": "2025-09-09T12:15:21.204275",
     "status": "completed"
    },
    "tags": []
   },
   "outputs": [
    {
     "name": "stdout",
     "output_type": "stream",
     "text": [
      "Total training images: 11169\n",
      "Total validation images: 2898\n",
      "Total test images: 3627\n",
      "Total images in dataset: 17694\n"
     ]
    }
   ],
   "source": [
    "print(\"Total training images:\", len(train_ds))\n",
    "print(\"Total validation images:\", len(val_ds))\n",
    "print(\"Total test images:\", len(test_ds))\n",
    "\n",
    "total_images = len(train_ds) + len(val_ds) + len(test_ds)\n",
    "print(\"Total images in dataset:\", total_images)"
   ]
  },
  {
   "cell_type": "code",
   "execution_count": 3,
   "id": "20d02806",
   "metadata": {
    "execution": {
     "iopub.execute_input": "2025-09-09T12:15:21.218671Z",
     "iopub.status.busy": "2025-09-09T12:15:21.218480Z",
     "iopub.status.idle": "2025-09-09T12:15:21.232681Z",
     "shell.execute_reply": "2025-09-09T12:15:21.232016Z"
    },
    "papermill": {
     "duration": 0.018061,
     "end_time": "2025-09-09T12:15:21.233759",
     "exception": false,
     "start_time": "2025-09-09T12:15:21.215698",
     "status": "completed"
    },
    "tags": []
   },
   "outputs": [
    {
     "name": "stdout",
     "output_type": "stream",
     "text": [
      "Training images (excluding 'random_occlusion'): 9928\n",
      "Validation images (excluding 'random_occlusion'): 2576\n",
      "Test images (excluding 'random_occlusion'): 3224\n",
      "Total images (excluding 'random_occlusion'): 15728\n"
     ]
    }
   ],
   "source": [
    "ignore_folder = \"random_occlusion\"\n",
    "\n",
    "def count_images_ignore_folder(dataset, ignore_folder):\n",
    "    count = 0\n",
    "    for img_path, label in dataset.samples:\n",
    "        # Skip if the image path contains the ignore_folder\n",
    "        if ignore_folder not in img_path.split(\"/\"):\n",
    "            count += 1\n",
    "    return count\n",
    "\n",
    "train_count = count_images_ignore_folder(train_ds, ignore_folder)\n",
    "val_count   = count_images_ignore_folder(val_ds, ignore_folder)\n",
    "test_count  = count_images_ignore_folder(test_ds, ignore_folder)\n",
    "\n",
    "total_count = train_count + val_count + test_count\n",
    "\n",
    "print(\"Training images (excluding '{}'): {}\".format(ignore_folder, train_count))\n",
    "print(\"Validation images (excluding '{}'): {}\".format(ignore_folder, val_count))\n",
    "print(\"Test images (excluding '{}'): {}\".format(ignore_folder, test_count))\n",
    "print(\"Total images (excluding '{}'): {}\".format(ignore_folder, total_count))"
   ]
  },
  {
   "cell_type": "code",
   "execution_count": 4,
   "id": "d6c025e5",
   "metadata": {
    "execution": {
     "iopub.execute_input": "2025-09-09T12:15:21.239148Z",
     "iopub.status.busy": "2025-09-09T12:15:21.238960Z",
     "iopub.status.idle": "2025-09-09T12:15:21.259775Z",
     "shell.execute_reply": "2025-09-09T12:15:21.259189Z"
    },
    "papermill": {
     "duration": 0.02466,
     "end_time": "2025-09-09T12:15:21.260807",
     "exception": false,
     "start_time": "2025-09-09T12:15:21.236147",
     "status": "completed"
    },
    "tags": []
   },
   "outputs": [
    {
     "name": "stdout",
     "output_type": "stream",
     "text": [
      "Training folders considered: {'dirty_lens', 'blur', 'motion_blur', 'lens_flare', 'low_resolution', 'original', 'random_occlusion', 'chromatic_aberration', 'gaussian_noise'}\n",
      "Validation folders considered: {'dirty_lens', 'blur', 'motion_blur', 'lens_flare', 'low_resolution', 'original', 'random_occlusion', 'chromatic_aberration', 'gaussian_noise'}\n",
      "Test folders considered: {'dirty_lens', 'blur', 'motion_blur', 'lens_flare', 'low_resolution', 'original', 'random_occlusion', 'chromatic_aberration', 'gaussian_noise'}\n"
     ]
    }
   ],
   "source": [
    "ignore_folder = \"random_occlusionw\"\n",
    "\n",
    "def get_included_folders(dataset, ignore_folder):\n",
    "    included = set()\n",
    "    for img_path, label in dataset.samples:\n",
    "        # Split the path into parts and ignore if ignore_folder is in the path\n",
    "        if ignore_folder not in img_path.split(\"/\"):\n",
    "            # The folder name just above the image (or the class folder)\n",
    "            folder_name = img_path.split(\"/\")[-2]\n",
    "            included.add(folder_name)\n",
    "    return included\n",
    "\n",
    "train_folders = get_included_folders(train_ds, ignore_folder)\n",
    "val_folders   = get_included_folders(val_ds, ignore_folder)\n",
    "test_folders  = get_included_folders(test_ds, ignore_folder)\n",
    "\n",
    "print(\"Training folders considered:\", train_folders)\n",
    "print(\"Validation folders considered:\", val_folders)\n",
    "print(\"Test folders considered:\", test_folders)"
   ]
  },
  {
   "cell_type": "code",
   "execution_count": 5,
   "id": "47e1b4aa",
   "metadata": {
    "execution": {
     "iopub.execute_input": "2025-09-09T12:15:21.266012Z",
     "iopub.status.busy": "2025-09-09T12:15:21.265827Z",
     "iopub.status.idle": "2025-09-09T12:15:22.320545Z",
     "shell.execute_reply": "2025-09-09T12:15:22.319560Z"
    },
    "papermill": {
     "duration": 1.05881,
     "end_time": "2025-09-09T12:15:22.321979",
     "exception": false,
     "start_time": "2025-09-09T12:15:21.263169",
     "status": "completed"
    },
    "tags": []
   },
   "outputs": [
    {
     "name": "stdout",
     "output_type": "stream",
     "text": [
      "Classes: ['Batting', 'Bowling', 'Fielding', 'Umpire']\n",
      "Final Training images: 9928\n",
      "Final Validation images: 2576\n",
      "Final Test images: 3224\n",
      "Total images after filtering: 15728\n"
     ]
    }
   ],
   "source": [
    "ignore_folder = \"random_occlusion\"\n",
    "\n",
    "def filter_samples(dataset, ignore_folder):\n",
    "    # Keep only samples where ignore_folder is NOT in the path\n",
    "    filtered_samples = [s for s in dataset.samples if ignore_folder not in s[0].split(\"/\")]\n",
    "    dataset.samples = filtered_samples\n",
    "    dataset.targets = [s[1] for s in filtered_samples]  # Update targets accordingly\n",
    "    return dataset\n",
    "\n",
    "# Create original datasets\n",
    "train_ds = datasets.ImageFolder(f\"{data_dir}/train\", transform=transform)\n",
    "val_ds   = datasets.ImageFolder(f\"{data_dir}/val\", transform=transform)\n",
    "test_ds  = datasets.ImageFolder(f\"{data_dir}/test\", transform=transform)\n",
    "\n",
    "# Filter out 'random_occlusion' folder\n",
    "train_ds = filter_samples(train_ds, ignore_folder)\n",
    "val_ds   = filter_samples(val_ds, ignore_folder)\n",
    "test_ds  = filter_samples(test_ds, ignore_folder)\n",
    "\n",
    "# DataLoaders\n",
    "train_loader = DataLoader(train_ds, batch_size=32, shuffle=True)\n",
    "val_loader   = DataLoader(val_ds, batch_size=32, shuffle=False)\n",
    "test_loader  = DataLoader(test_ds, batch_size=32, shuffle=False)\n",
    "\n",
    "# Classes (will remain the same)\n",
    "classes = train_ds.classes\n",
    "print(\"Classes:\", classes)\n",
    "\n",
    "# Show counts\n",
    "print(\"Final Training images:\", len(train_ds))\n",
    "print(\"Final Validation images:\", len(val_ds))\n",
    "print(\"Final Test images:\", len(test_ds))\n",
    "print(\"Total images after filtering:\", len(train_ds) + len(val_ds) + len(test_ds))"
   ]
  },
  {
   "cell_type": "code",
   "execution_count": 6,
   "id": "a81de598",
   "metadata": {
    "execution": {
     "iopub.execute_input": "2025-09-09T12:15:22.328782Z",
     "iopub.status.busy": "2025-09-09T12:15:22.328528Z",
     "iopub.status.idle": "2025-09-09T12:15:22.351100Z",
     "shell.execute_reply": "2025-09-09T12:15:22.350393Z"
    },
    "papermill": {
     "duration": 0.027346,
     "end_time": "2025-09-09T12:15:22.352299",
     "exception": false,
     "start_time": "2025-09-09T12:15:22.324953",
     "status": "completed"
    },
    "tags": []
   },
   "outputs": [
    {
     "name": "stdout",
     "output_type": "stream",
     "text": [
      "Training folders considered: {'dirty_lens', 'blur', 'motion_blur', 'lens_flare', 'low_resolution', 'original', 'chromatic_aberration', 'gaussian_noise'}\n",
      "Validation folders considered: {'dirty_lens', 'blur', 'motion_blur', 'lens_flare', 'low_resolution', 'original', 'chromatic_aberration', 'gaussian_noise'}\n",
      "Test folders considered: {'dirty_lens', 'blur', 'motion_blur', 'lens_flare', 'low_resolution', 'original', 'chromatic_aberration', 'gaussian_noise'}\n"
     ]
    }
   ],
   "source": [
    "ignore_folder = \"random_occlusion\"\n",
    "\n",
    "def get_included_folders(dataset, ignore_folder):\n",
    "    included = set()\n",
    "    for img_path, label in dataset.samples:\n",
    "        # Split the path into parts and ignore if ignore_folder is in the path\n",
    "        if ignore_folder not in img_path.split(\"/\"):\n",
    "            # The folder name just above the image (or the class folder)\n",
    "            folder_name = img_path.split(\"/\")[-2]\n",
    "            included.add(folder_name)\n",
    "    return included\n",
    "\n",
    "train_folders = get_included_folders(train_ds, ignore_folder)\n",
    "val_folders   = get_included_folders(val_ds, ignore_folder)\n",
    "test_folders  = get_included_folders(test_ds, ignore_folder)\n",
    "\n",
    "print(\"Training folders considered:\", train_folders)\n",
    "print(\"Validation folders considered:\", val_folders)\n",
    "print(\"Test folders considered:\", test_folders)"
   ]
  },
  {
   "cell_type": "code",
   "execution_count": 7,
   "id": "9e8adcb3",
   "metadata": {
    "execution": {
     "iopub.execute_input": "2025-09-09T12:15:22.358781Z",
     "iopub.status.busy": "2025-09-09T12:15:22.358547Z",
     "iopub.status.idle": "2025-09-09T12:15:24.638469Z",
     "shell.execute_reply": "2025-09-09T12:15:24.637560Z"
    },
    "papermill": {
     "duration": 2.284468,
     "end_time": "2025-09-09T12:15:24.639545",
     "exception": false,
     "start_time": "2025-09-09T12:15:22.355077",
     "status": "completed"
    },
    "tags": []
   },
   "outputs": [
    {
     "name": "stdout",
     "output_type": "stream",
     "text": [
      "🔄 Loading and filtering datasets for Swin Transformer...\n",
      "✅ Classes: ['Batting', 'Bowling', 'Fielding', 'Umpire']\n",
      "📊 Dataset Statistics:\n",
      "│ Training images: 9928\n",
      "│ Validation images: 2576\n",
      "│ Test images: 3224\n",
      "│ Total images (after filtering): 15728\n",
      "│ Excluded folder: 'random_occlusion'\n",
      "│ Number of classes: 4\n",
      "Using device: cuda\n",
      "🔄 Loading pretrained Swin Transformer (Swin-T) from ImageNet...\n"
     ]
    },
    {
     "name": "stderr",
     "output_type": "stream",
     "text": [
      "/usr/local/lib/python3.11/dist-packages/torchvision/models/_utils.py:208: UserWarning: The parameter 'pretrained' is deprecated since 0.13 and may be removed in the future, please use 'weights' instead.\n",
      "  warnings.warn(\n",
      "/usr/local/lib/python3.11/dist-packages/torchvision/models/_utils.py:223: UserWarning: Arguments other than a weight enum or `None` for 'weights' are deprecated since 0.13 and may be removed in the future. The current behavior is equivalent to passing `weights=Swin_T_Weights.IMAGENET1K_V1`. You can also use `weights=Swin_T_Weights.DEFAULT` to get the most up-to-date weights.\n",
      "  warnings.warn(msg)\n",
      "Downloading: \"https://download.pytorch.org/models/swin_t-704ceda3.pth\" to /root/.cache/torch/hub/checkpoints/swin_t-704ceda3.pth\n",
      "100%|██████████| 108M/108M [00:00<00:00, 178MB/s]\n"
     ]
    },
    {
     "name": "stdout",
     "output_type": "stream",
     "text": [
      "✅ Model loaded with 4 output classes\n",
      "📊 Total parameters: 27,522,430\n",
      "📊 Trainable parameters: 27,522,430\n",
      "📊 Model file size: 105.27 MB\n",
      "📋 Model Architecture:\n",
      "│ Input size: (3, 224, 224)\n",
      "│ Swin-T features: 768\n",
      "│ Output classes: 4\n",
      "│ Patch size: 4x4\n",
      "│ Window size: 7x7\n",
      "│ Layers: [2, 2, 6, 2] per stage\n",
      "│ Hierarchical: Multi-scale feature maps\n"
     ]
    }
   ],
   "source": [
    "import torch\n",
    "import torch.nn as nn\n",
    "import torch.nn.functional as F\n",
    "import torch.optim as optim\n",
    "from torch.utils.data import DataLoader\n",
    "from torchvision import datasets, transforms, models\n",
    "import matplotlib.pyplot as plt\n",
    "from sklearn.metrics import classification_report, confusion_matrix, accuracy_score\n",
    "import seaborn as sns\n",
    "import numpy as np\n",
    "import pandas as pd\n",
    "from tqdm import tqdm\n",
    "import time\n",
    "import os\n",
    "import tempfile\n",
    "\n",
    "# -----------------------------\n",
    "# 1. Data Preprocessing with Filtering (Swin Transformer - 224x224)\n",
    "# -----------------------------\n",
    "data_dir = \"/kaggle/input/ju-cricket/Cricket_Dataset_final/Task_A\"\n",
    "\n",
    "# Swin Transformer uses 224x224 input size\n",
    "transform = transforms.Compose([\n",
    "    transforms.Resize((224, 224)),  # Swin Transformer input size\n",
    "    transforms.ToTensor(),\n",
    "    transforms.Normalize([0.485, 0.456, 0.406], \n",
    "                         [0.229, 0.224, 0.225])\n",
    "])\n",
    "\n",
    "ignore_folder = \"random_occlusion\"\n",
    "\n",
    "def filter_samples(dataset, ignore_folder):\n",
    "    \"\"\"Filter out samples containing the ignore_folder in their path\"\"\"\n",
    "    filtered_samples = [s for s in dataset.samples if ignore_folder not in s[0].split(\"/\")]\n",
    "    dataset.samples = filtered_samples\n",
    "    dataset.targets = [s[1] for s in filtered_samples]\n",
    "    return dataset\n",
    "\n",
    "# Create and filter datasets\n",
    "print(\"🔄 Loading and filtering datasets for Swin Transformer...\")\n",
    "train_ds = datasets.ImageFolder(f\"{data_dir}/train\", transform=transform)\n",
    "val_ds   = datasets.ImageFolder(f\"{data_dir}/val\", transform=transform)\n",
    "test_ds  = datasets.ImageFolder(f\"{data_dir}/test\", transform=transform)\n",
    "\n",
    "# Apply filtering\n",
    "train_ds = filter_samples(train_ds, ignore_folder)\n",
    "val_ds   = filter_samples(val_ds, ignore_folder)\n",
    "test_ds  = filter_samples(test_ds, ignore_folder)\n",
    "\n",
    "# Create DataLoaders\n",
    "train_loader = DataLoader(train_ds, batch_size=32, shuffle=True)\n",
    "val_loader   = DataLoader(val_ds, batch_size=32, shuffle=False)\n",
    "test_loader  = DataLoader(test_ds, batch_size=32, shuffle=False)\n",
    "\n",
    "# Display information\n",
    "classes = train_ds.classes\n",
    "print(f\"✅ Classes: {classes}\")\n",
    "print(f\"📊 Dataset Statistics:\")\n",
    "print(f\"│ Training images: {len(train_ds)}\")\n",
    "print(f\"│ Validation images: {len(val_ds)}\")\n",
    "print(f\"│ Test images: {len(test_ds)}\")\n",
    "print(f\"│ Total images (after filtering): {len(train_ds) + len(val_ds) + len(test_ds)}\")\n",
    "print(f\"│ Excluded folder: '{ignore_folder}'\")\n",
    "print(f\"│ Number of classes: {len(classes)}\")\n",
    "\n",
    "# -----------------------------\n",
    "# 2. Pretrained Swin Transformer Model\n",
    "# -----------------------------\n",
    "device = torch.device('cuda' if torch.cuda.is_available() else 'cpu')\n",
    "print(f\"Using device: {device}\")\n",
    "\n",
    "# Load pretrained Swin Transformer (Swin-T)\n",
    "print(\"🔄 Loading pretrained Swin Transformer (Swin-T) from ImageNet...\")\n",
    "model = models.swin_t(pretrained=True)\n",
    "\n",
    "# Replace final classification layer\n",
    "# Swin Transformer uses model.head (similar to ViT)\n",
    "num_features = model.head.in_features  # Get input features (768 for Swin-T)\n",
    "model.head = nn.Linear(num_features, len(classes))  # Replace final layer\n",
    "model = model.to(device)\n",
    "\n",
    "print(f\"✅ Model loaded with {len(classes)} output classes\")\n",
    "\n",
    "# Calculate model parameters and size\n",
    "total_params = sum(p.numel() for p in model.parameters())\n",
    "trainable_params = sum(p.numel() for p in model.parameters() if p.requires_grad)\n",
    "\n",
    "# Calculate model file size\n",
    "with tempfile.NamedTemporaryFile(delete=False, suffix='.pth') as tmp_file:\n",
    "    torch.save(model.state_dict(), tmp_file.name)\n",
    "    model_size_mb = os.path.getsize(tmp_file.name) / (1024 * 1024)\n",
    "    os.unlink(tmp_file.name)\n",
    "\n",
    "print(f\"📊 Total parameters: {total_params:,}\")\n",
    "print(f\"📊 Trainable parameters: {trainable_params:,}\")\n",
    "print(f\"📊 Model file size: {model_size_mb:.2f} MB\")\n",
    "print(f\"📋 Model Architecture:\")\n",
    "print(f\"│ Input size: (3, 224, 224)\")\n",
    "print(f\"│ Swin-T features: 768\")\n",
    "print(f\"│ Output classes: {len(classes)}\")\n",
    "print(f\"│ Patch size: 4x4\")\n",
    "print(f\"│ Window size: 7x7\")\n",
    "print(f\"│ Layers: [2, 2, 6, 2] per stage\")\n",
    "print(f\"│ Hierarchical: Multi-scale feature maps\")\n"
   ]
  },
  {
   "cell_type": "code",
   "execution_count": 8,
   "id": "0e62ce88",
   "metadata": {
    "execution": {
     "iopub.execute_input": "2025-09-09T12:15:24.646970Z",
     "iopub.status.busy": "2025-09-09T12:15:24.646742Z",
     "iopub.status.idle": "2025-09-09T15:27:34.983475Z",
     "shell.execute_reply": "2025-09-09T15:27:34.982689Z"
    },
    "papermill": {
     "duration": 11530.342786,
     "end_time": "2025-09-09T15:27:34.985508",
     "exception": false,
     "start_time": "2025-09-09T12:15:24.642722",
     "status": "completed"
    },
    "tags": []
   },
   "outputs": [
    {
     "name": "stdout",
     "output_type": "stream",
     "text": [
      "\n",
      "📋 Training Configuration:\n",
      "│ Model: Swin Transformer Tiny (pretrained)\n",
      "│ Optimizer: Adam (lr=0.0001)\n",
      "│ Loss Function: CrossEntropyLoss\n",
      "│ Batch Size: 32\n",
      "│ Device: cuda\n",
      "│ Data: Filtered (excluding 'random_occlusion')\n",
      "\n",
      "🚀 Starting Swin Transformer Fine-tuning for 50 epochs...\n",
      "================================================================================\n",
      "\n",
      "📈 Epoch 1/50\n",
      "--------------------------------------------------\n",
      "🔄 Training Phase...\n"
     ]
    },
    {
     "name": "stderr",
     "output_type": "stream",
     "text": [
      "Training: 100%|██████████████████████████████| 311/311 [03:55<00:00,  1.32it/s, Loss=0.3104, Acc=0.8826, GPU=0.4GB]\n"
     ]
    },
    {
     "name": "stdout",
     "output_type": "stream",
     "text": [
      "✅ Training completed in 235.88s\n",
      "🔍 Validation Phase...\n"
     ]
    },
    {
     "name": "stderr",
     "output_type": "stream",
     "text": [
      "Validation: 100%|██████████████████████████████| 81/81 [00:37<00:00,  2.14it/s, Loss=0.3562, Acc=0.8929]\n"
     ]
    },
    {
     "name": "stdout",
     "output_type": "stream",
     "text": [
      "✅ Validation completed in 37.86s\n",
      "🌟 New best model found! Validation Loss: 0.3562\n",
      "\n",
      "📊 Epoch 1 Summary:\n",
      "│ Train Loss: 0.3104 | Train Acc: 0.8826\n",
      "│ Val Loss:   0.3562 | Val Acc:   0.8929\n",
      "│ Train Time: 235.88s | Val Time: 37.86s\n",
      "│ Total Epoch Time: 273.75s\n",
      "│ Best Val Loss: 0.3562 (Epoch 1)\n",
      "│ GPU Memory: 0.4GB / 3.9GB\n",
      "================================================================================\n",
      "\n",
      "📈 Epoch 2/50\n",
      "--------------------------------------------------\n",
      "🔄 Training Phase...\n"
     ]
    },
    {
     "name": "stderr",
     "output_type": "stream",
     "text": [
      "Training: 100%|██████████████████████████████| 311/311 [03:19<00:00,  1.56it/s, Loss=0.0627, Acc=0.9789, GPU=0.4GB]\n"
     ]
    },
    {
     "name": "stdout",
     "output_type": "stream",
     "text": [
      "✅ Training completed in 199.35s\n",
      "🔍 Validation Phase...\n"
     ]
    },
    {
     "name": "stderr",
     "output_type": "stream",
     "text": [
      "Validation: 100%|██████████████████████████████| 81/81 [00:27<00:00,  2.92it/s, Loss=0.4201, Acc=0.8952]\n"
     ]
    },
    {
     "name": "stdout",
     "output_type": "stream",
     "text": [
      "✅ Validation completed in 27.75s\n",
      "\n",
      "📊 Epoch 2 Summary:\n",
      "│ Train Loss: 0.0627 | Train Acc: 0.9789\n",
      "│ Val Loss:   0.4201 | Val Acc:   0.8952\n",
      "│ Train Time: 199.35s | Val Time: 27.75s\n",
      "│ Total Epoch Time: 227.10s\n",
      "│ Best Val Loss: 0.3562 (Epoch 1)\n",
      "│ GPU Memory: 0.4GB / 3.9GB\n",
      "================================================================================\n",
      "\n",
      "📈 Epoch 3/50\n",
      "--------------------------------------------------\n",
      "🔄 Training Phase...\n"
     ]
    },
    {
     "name": "stderr",
     "output_type": "stream",
     "text": [
      "Training: 100%|██████████████████████████████| 311/311 [03:18<00:00,  1.57it/s, Loss=0.0451, Acc=0.9838, GPU=0.4GB]\n"
     ]
    },
    {
     "name": "stdout",
     "output_type": "stream",
     "text": [
      "✅ Training completed in 198.65s\n",
      "🔍 Validation Phase...\n"
     ]
    },
    {
     "name": "stderr",
     "output_type": "stream",
     "text": [
      "Validation: 100%|██████████████████████████████| 81/81 [00:27<00:00,  2.93it/s, Loss=0.5202, Acc=0.8824]\n"
     ]
    },
    {
     "name": "stdout",
     "output_type": "stream",
     "text": [
      "✅ Validation completed in 27.63s\n",
      "\n",
      "📊 Epoch 3 Summary:\n",
      "│ Train Loss: 0.0451 | Train Acc: 0.9838\n",
      "│ Val Loss:   0.5202 | Val Acc:   0.8824\n",
      "│ Train Time: 198.65s | Val Time: 27.63s\n",
      "│ Total Epoch Time: 226.28s\n",
      "│ Best Val Loss: 0.3562 (Epoch 1)\n",
      "│ GPU Memory: 0.4GB / 3.9GB\n",
      "================================================================================\n",
      "\n",
      "📈 Epoch 4/50\n",
      "--------------------------------------------------\n",
      "🔄 Training Phase...\n"
     ]
    },
    {
     "name": "stderr",
     "output_type": "stream",
     "text": [
      "Training: 100%|██████████████████████████████| 311/311 [03:18<00:00,  1.56it/s, Loss=0.0280, Acc=0.9914, GPU=0.4GB]\n"
     ]
    },
    {
     "name": "stdout",
     "output_type": "stream",
     "text": [
      "✅ Training completed in 198.91s\n",
      "🔍 Validation Phase...\n"
     ]
    },
    {
     "name": "stderr",
     "output_type": "stream",
     "text": [
      "Validation: 100%|██████████████████████████████| 81/81 [00:27<00:00,  2.93it/s, Loss=0.5076, Acc=0.8929]\n"
     ]
    },
    {
     "name": "stdout",
     "output_type": "stream",
     "text": [
      "✅ Validation completed in 27.63s\n",
      "\n",
      "📊 Epoch 4 Summary:\n",
      "│ Train Loss: 0.0280 | Train Acc: 0.9914\n",
      "│ Val Loss:   0.5076 | Val Acc:   0.8929\n",
      "│ Train Time: 198.91s | Val Time: 27.63s\n",
      "│ Total Epoch Time: 226.54s\n",
      "│ Best Val Loss: 0.3562 (Epoch 1)\n",
      "│ GPU Memory: 0.4GB / 3.9GB\n",
      "================================================================================\n",
      "\n",
      "📈 Epoch 5/50\n",
      "--------------------------------------------------\n",
      "🔄 Training Phase...\n"
     ]
    },
    {
     "name": "stderr",
     "output_type": "stream",
     "text": [
      "Training: 100%|██████████████████████████████| 311/311 [03:18<00:00,  1.57it/s, Loss=0.0259, Acc=0.9914, GPU=0.4GB]\n"
     ]
    },
    {
     "name": "stdout",
     "output_type": "stream",
     "text": [
      "✅ Training completed in 198.24s\n",
      "🔍 Validation Phase...\n"
     ]
    },
    {
     "name": "stderr",
     "output_type": "stream",
     "text": [
      "Validation: 100%|██████████████████████████████| 81/81 [00:27<00:00,  2.93it/s, Loss=0.5653, Acc=0.8898]\n"
     ]
    },
    {
     "name": "stdout",
     "output_type": "stream",
     "text": [
      "✅ Validation completed in 27.69s\n",
      "\n",
      "📊 Epoch 5 Summary:\n",
      "│ Train Loss: 0.0259 | Train Acc: 0.9914\n",
      "│ Val Loss:   0.5653 | Val Acc:   0.8898\n",
      "│ Train Time: 198.24s | Val Time: 27.69s\n",
      "│ Total Epoch Time: 225.94s\n",
      "│ Best Val Loss: 0.3562 (Epoch 1)\n",
      "│ GPU Memory: 0.4GB / 3.9GB\n",
      "================================================================================\n",
      "\n",
      "📈 Epoch 6/50\n",
      "--------------------------------------------------\n",
      "🔄 Training Phase...\n"
     ]
    },
    {
     "name": "stderr",
     "output_type": "stream",
     "text": [
      "Training: 100%|██████████████████████████████| 311/311 [03:19<00:00,  1.56it/s, Loss=0.0212, Acc=0.9935, GPU=0.4GB]\n"
     ]
    },
    {
     "name": "stdout",
     "output_type": "stream",
     "text": [
      "✅ Training completed in 199.13s\n",
      "🔍 Validation Phase...\n"
     ]
    },
    {
     "name": "stderr",
     "output_type": "stream",
     "text": [
      "Validation: 100%|██████████████████████████████| 81/81 [00:27<00:00,  2.92it/s, Loss=0.5033, Acc=0.8983]\n"
     ]
    },
    {
     "name": "stdout",
     "output_type": "stream",
     "text": [
      "✅ Validation completed in 27.77s\n",
      "\n",
      "📊 Epoch 6 Summary:\n",
      "│ Train Loss: 0.0212 | Train Acc: 0.9935\n",
      "│ Val Loss:   0.5033 | Val Acc:   0.8983\n",
      "│ Train Time: 199.13s | Val Time: 27.77s\n",
      "│ Total Epoch Time: 226.90s\n",
      "│ Best Val Loss: 0.3562 (Epoch 1)\n",
      "│ GPU Memory: 0.4GB / 3.9GB\n",
      "================================================================================\n",
      "\n",
      "📈 Epoch 7/50\n",
      "--------------------------------------------------\n",
      "🔄 Training Phase...\n"
     ]
    },
    {
     "name": "stderr",
     "output_type": "stream",
     "text": [
      "Training: 100%|██████████████████████████████| 311/311 [03:19<00:00,  1.56it/s, Loss=0.0184, Acc=0.9934, GPU=0.4GB]\n"
     ]
    },
    {
     "name": "stdout",
     "output_type": "stream",
     "text": [
      "✅ Training completed in 199.81s\n",
      "🔍 Validation Phase...\n"
     ]
    },
    {
     "name": "stderr",
     "output_type": "stream",
     "text": [
      "Validation: 100%|██████████████████████████████| 81/81 [00:28<00:00,  2.88it/s, Loss=0.4959, Acc=0.8960]\n"
     ]
    },
    {
     "name": "stdout",
     "output_type": "stream",
     "text": [
      "✅ Validation completed in 28.11s\n",
      "\n",
      "📊 Epoch 7 Summary:\n",
      "│ Train Loss: 0.0184 | Train Acc: 0.9934\n",
      "│ Val Loss:   0.4959 | Val Acc:   0.8960\n",
      "│ Train Time: 199.81s | Val Time: 28.11s\n",
      "│ Total Epoch Time: 227.93s\n",
      "│ Best Val Loss: 0.3562 (Epoch 1)\n",
      "│ GPU Memory: 0.4GB / 3.9GB\n",
      "================================================================================\n",
      "\n",
      "📈 Epoch 8/50\n",
      "--------------------------------------------------\n",
      "🔄 Training Phase...\n"
     ]
    },
    {
     "name": "stderr",
     "output_type": "stream",
     "text": [
      "Training: 100%|██████████████████████████████| 311/311 [03:19<00:00,  1.56it/s, Loss=0.0236, Acc=0.9907, GPU=0.4GB]\n"
     ]
    },
    {
     "name": "stdout",
     "output_type": "stream",
     "text": [
      "✅ Training completed in 199.03s\n",
      "🔍 Validation Phase...\n"
     ]
    },
    {
     "name": "stderr",
     "output_type": "stream",
     "text": [
      "Validation: 100%|██████████████████████████████| 81/81 [00:27<00:00,  2.91it/s, Loss=0.6234, Acc=0.8773]\n"
     ]
    },
    {
     "name": "stdout",
     "output_type": "stream",
     "text": [
      "✅ Validation completed in 27.82s\n",
      "\n",
      "📊 Epoch 8 Summary:\n",
      "│ Train Loss: 0.0236 | Train Acc: 0.9907\n",
      "│ Val Loss:   0.6234 | Val Acc:   0.8773\n",
      "│ Train Time: 199.03s | Val Time: 27.82s\n",
      "│ Total Epoch Time: 226.86s\n",
      "│ Best Val Loss: 0.3562 (Epoch 1)\n",
      "│ GPU Memory: 0.4GB / 3.9GB\n",
      "================================================================================\n",
      "\n",
      "📈 Epoch 9/50\n",
      "--------------------------------------------------\n",
      "🔄 Training Phase...\n"
     ]
    },
    {
     "name": "stderr",
     "output_type": "stream",
     "text": [
      "Training: 100%|██████████████████████████████| 311/311 [03:18<00:00,  1.57it/s, Loss=0.0186, Acc=0.9939, GPU=0.4GB]\n"
     ]
    },
    {
     "name": "stdout",
     "output_type": "stream",
     "text": [
      "✅ Training completed in 198.44s\n",
      "🔍 Validation Phase...\n"
     ]
    },
    {
     "name": "stderr",
     "output_type": "stream",
     "text": [
      "Validation: 100%|██████████████████████████████| 81/81 [00:28<00:00,  2.88it/s, Loss=0.7671, Acc=0.8731]\n"
     ]
    },
    {
     "name": "stdout",
     "output_type": "stream",
     "text": [
      "✅ Validation completed in 28.17s\n",
      "\n",
      "📊 Epoch 9 Summary:\n",
      "│ Train Loss: 0.0186 | Train Acc: 0.9939\n",
      "│ Val Loss:   0.7671 | Val Acc:   0.8731\n",
      "│ Train Time: 198.44s | Val Time: 28.17s\n",
      "│ Total Epoch Time: 226.61s\n",
      "│ Best Val Loss: 0.3562 (Epoch 1)\n",
      "│ GPU Memory: 0.4GB / 3.9GB\n",
      "================================================================================\n",
      "\n",
      "📈 Epoch 10/50\n",
      "--------------------------------------------------\n",
      "🔄 Training Phase...\n"
     ]
    },
    {
     "name": "stderr",
     "output_type": "stream",
     "text": [
      "Training: 100%|██████████████████████████████| 311/311 [03:19<00:00,  1.56it/s, Loss=0.0128, Acc=0.9959, GPU=0.4GB]\n"
     ]
    },
    {
     "name": "stdout",
     "output_type": "stream",
     "text": [
      "✅ Training completed in 199.21s\n",
      "🔍 Validation Phase...\n"
     ]
    },
    {
     "name": "stderr",
     "output_type": "stream",
     "text": [
      "Validation: 100%|██████████████████████████████| 81/81 [00:27<00:00,  2.93it/s, Loss=0.5536, Acc=0.8925]\n"
     ]
    },
    {
     "name": "stdout",
     "output_type": "stream",
     "text": [
      "✅ Validation completed in 27.66s\n",
      "\n",
      "📊 Epoch 10 Summary:\n",
      "│ Train Loss: 0.0128 | Train Acc: 0.9959\n",
      "│ Val Loss:   0.5536 | Val Acc:   0.8925\n",
      "│ Train Time: 199.21s | Val Time: 27.66s\n",
      "│ Total Epoch Time: 226.87s\n",
      "│ Best Val Loss: 0.3562 (Epoch 1)\n",
      "│ GPU Memory: 0.4GB / 3.9GB\n",
      "================================================================================\n",
      "\n",
      "📈 Epoch 11/50\n",
      "--------------------------------------------------\n",
      "🔄 Training Phase...\n"
     ]
    },
    {
     "name": "stderr",
     "output_type": "stream",
     "text": [
      "Training: 100%|██████████████████████████████| 311/311 [03:19<00:00,  1.56it/s, Loss=0.0181, Acc=0.9939, GPU=0.4GB]\n"
     ]
    },
    {
     "name": "stdout",
     "output_type": "stream",
     "text": [
      "✅ Training completed in 199.77s\n",
      "🔍 Validation Phase...\n"
     ]
    },
    {
     "name": "stderr",
     "output_type": "stream",
     "text": [
      "Validation: 100%|██████████████████████████████| 81/81 [00:27<00:00,  2.92it/s, Loss=0.5801, Acc=0.8874]\n"
     ]
    },
    {
     "name": "stdout",
     "output_type": "stream",
     "text": [
      "✅ Validation completed in 27.76s\n",
      "\n",
      "📊 Epoch 11 Summary:\n",
      "│ Train Loss: 0.0181 | Train Acc: 0.9939\n",
      "│ Val Loss:   0.5801 | Val Acc:   0.8874\n",
      "│ Train Time: 199.77s | Val Time: 27.76s\n",
      "│ Total Epoch Time: 227.53s\n",
      "│ Best Val Loss: 0.3562 (Epoch 1)\n",
      "│ GPU Memory: 0.4GB / 3.9GB\n",
      "================================================================================\n",
      "\n",
      "📈 Epoch 12/50\n",
      "--------------------------------------------------\n",
      "🔄 Training Phase...\n"
     ]
    },
    {
     "name": "stderr",
     "output_type": "stream",
     "text": [
      "Training: 100%|██████████████████████████████| 311/311 [03:19<00:00,  1.56it/s, Loss=0.0267, Acc=0.9930, GPU=0.4GB]\n"
     ]
    },
    {
     "name": "stdout",
     "output_type": "stream",
     "text": [
      "✅ Training completed in 199.65s\n",
      "🔍 Validation Phase...\n"
     ]
    },
    {
     "name": "stderr",
     "output_type": "stream",
     "text": [
      "Validation: 100%|██████████████████████████████| 81/81 [00:27<00:00,  2.90it/s, Loss=0.5462, Acc=0.8700]\n"
     ]
    },
    {
     "name": "stdout",
     "output_type": "stream",
     "text": [
      "✅ Validation completed in 27.95s\n",
      "\n",
      "📊 Epoch 12 Summary:\n",
      "│ Train Loss: 0.0267 | Train Acc: 0.9930\n",
      "│ Val Loss:   0.5462 | Val Acc:   0.8700\n",
      "│ Train Time: 199.65s | Val Time: 27.95s\n",
      "│ Total Epoch Time: 227.61s\n",
      "│ Best Val Loss: 0.3562 (Epoch 1)\n",
      "│ GPU Memory: 0.4GB / 3.9GB\n",
      "================================================================================\n",
      "\n",
      "📈 Epoch 13/50\n",
      "--------------------------------------------------\n",
      "🔄 Training Phase...\n"
     ]
    },
    {
     "name": "stderr",
     "output_type": "stream",
     "text": [
      "Training: 100%|██████████████████████████████| 311/311 [03:19<00:00,  1.56it/s, Loss=0.0082, Acc=0.9979, GPU=0.4GB]\n"
     ]
    },
    {
     "name": "stdout",
     "output_type": "stream",
     "text": [
      "✅ Training completed in 199.20s\n",
      "🔍 Validation Phase...\n"
     ]
    },
    {
     "name": "stderr",
     "output_type": "stream",
     "text": [
      "Validation: 100%|██████████████████████████████| 81/81 [00:27<00:00,  2.90it/s, Loss=0.5264, Acc=0.8971]\n"
     ]
    },
    {
     "name": "stdout",
     "output_type": "stream",
     "text": [
      "✅ Validation completed in 27.89s\n",
      "\n",
      "📊 Epoch 13 Summary:\n",
      "│ Train Loss: 0.0082 | Train Acc: 0.9979\n",
      "│ Val Loss:   0.5264 | Val Acc:   0.8971\n",
      "│ Train Time: 199.20s | Val Time: 27.89s\n",
      "│ Total Epoch Time: 227.10s\n",
      "│ Best Val Loss: 0.3562 (Epoch 1)\n",
      "│ GPU Memory: 0.4GB / 3.9GB\n",
      "================================================================================\n",
      "\n",
      "📈 Epoch 14/50\n",
      "--------------------------------------------------\n",
      "🔄 Training Phase...\n"
     ]
    },
    {
     "name": "stderr",
     "output_type": "stream",
     "text": [
      "Training: 100%|██████████████████████████████| 311/311 [03:18<00:00,  1.56it/s, Loss=0.0194, Acc=0.9939, GPU=0.4GB]\n"
     ]
    },
    {
     "name": "stdout",
     "output_type": "stream",
     "text": [
      "✅ Training completed in 198.85s\n",
      "🔍 Validation Phase...\n"
     ]
    },
    {
     "name": "stderr",
     "output_type": "stream",
     "text": [
      "Validation: 100%|██████████████████████████████| 81/81 [00:27<00:00,  2.93it/s, Loss=0.7198, Acc=0.8777]\n"
     ]
    },
    {
     "name": "stdout",
     "output_type": "stream",
     "text": [
      "✅ Validation completed in 27.66s\n",
      "\n",
      "📊 Epoch 14 Summary:\n",
      "│ Train Loss: 0.0194 | Train Acc: 0.9939\n",
      "│ Val Loss:   0.7198 | Val Acc:   0.8777\n",
      "│ Train Time: 198.85s | Val Time: 27.66s\n",
      "│ Total Epoch Time: 226.51s\n",
      "│ Best Val Loss: 0.3562 (Epoch 1)\n",
      "│ GPU Memory: 0.4GB / 3.9GB\n",
      "================================================================================\n",
      "\n",
      "📈 Epoch 15/50\n",
      "--------------------------------------------------\n",
      "🔄 Training Phase...\n"
     ]
    },
    {
     "name": "stderr",
     "output_type": "stream",
     "text": [
      "Training: 100%|██████████████████████████████| 311/311 [03:19<00:00,  1.56it/s, Loss=0.0138, Acc=0.9960, GPU=0.4GB]\n"
     ]
    },
    {
     "name": "stdout",
     "output_type": "stream",
     "text": [
      "✅ Training completed in 199.87s\n",
      "🔍 Validation Phase...\n"
     ]
    },
    {
     "name": "stderr",
     "output_type": "stream",
     "text": [
      "Validation: 100%|██████████████████████████████| 81/81 [00:27<00:00,  2.90it/s, Loss=0.6589, Acc=0.8723]\n"
     ]
    },
    {
     "name": "stdout",
     "output_type": "stream",
     "text": [
      "✅ Validation completed in 27.97s\n",
      "\n",
      "📊 Epoch 15 Summary:\n",
      "│ Train Loss: 0.0138 | Train Acc: 0.9960\n",
      "│ Val Loss:   0.6589 | Val Acc:   0.8723\n",
      "│ Train Time: 199.87s | Val Time: 27.97s\n",
      "│ Total Epoch Time: 227.85s\n",
      "│ Best Val Loss: 0.3562 (Epoch 1)\n",
      "│ GPU Memory: 0.4GB / 3.9GB\n",
      "================================================================================\n",
      "\n",
      "📈 Epoch 16/50\n",
      "--------------------------------------------------\n",
      "🔄 Training Phase...\n"
     ]
    },
    {
     "name": "stderr",
     "output_type": "stream",
     "text": [
      "Training: 100%|██████████████████████████████| 311/311 [03:18<00:00,  1.57it/s, Loss=0.0184, Acc=0.9943, GPU=0.4GB]\n"
     ]
    },
    {
     "name": "stdout",
     "output_type": "stream",
     "text": [
      "✅ Training completed in 198.65s\n",
      "🔍 Validation Phase...\n"
     ]
    },
    {
     "name": "stderr",
     "output_type": "stream",
     "text": [
      "Validation: 100%|██████████████████████████████| 81/81 [00:27<00:00,  2.95it/s, Loss=0.4617, Acc=0.8866]\n"
     ]
    },
    {
     "name": "stdout",
     "output_type": "stream",
     "text": [
      "✅ Validation completed in 27.48s\n",
      "\n",
      "📊 Epoch 16 Summary:\n",
      "│ Train Loss: 0.0184 | Train Acc: 0.9943\n",
      "│ Val Loss:   0.4617 | Val Acc:   0.8866\n",
      "│ Train Time: 198.65s | Val Time: 27.48s\n",
      "│ Total Epoch Time: 226.13s\n",
      "│ Best Val Loss: 0.3562 (Epoch 1)\n",
      "│ GPU Memory: 0.4GB / 3.9GB\n",
      "================================================================================\n",
      "\n",
      "📈 Epoch 17/50\n",
      "--------------------------------------------------\n",
      "🔄 Training Phase...\n"
     ]
    },
    {
     "name": "stderr",
     "output_type": "stream",
     "text": [
      "Training: 100%|██████████████████████████████| 311/311 [03:18<00:00,  1.57it/s, Loss=0.0063, Acc=0.9980, GPU=0.4GB]\n"
     ]
    },
    {
     "name": "stdout",
     "output_type": "stream",
     "text": [
      "✅ Training completed in 198.65s\n",
      "🔍 Validation Phase...\n"
     ]
    },
    {
     "name": "stderr",
     "output_type": "stream",
     "text": [
      "Validation: 100%|██████████████████████████████| 81/81 [00:28<00:00,  2.89it/s, Loss=0.6223, Acc=0.8839]\n"
     ]
    },
    {
     "name": "stdout",
     "output_type": "stream",
     "text": [
      "✅ Validation completed in 28.03s\n",
      "\n",
      "📊 Epoch 17 Summary:\n",
      "│ Train Loss: 0.0063 | Train Acc: 0.9980\n",
      "│ Val Loss:   0.6223 | Val Acc:   0.8839\n",
      "│ Train Time: 198.65s | Val Time: 28.03s\n",
      "│ Total Epoch Time: 226.69s\n",
      "│ Best Val Loss: 0.3562 (Epoch 1)\n",
      "│ GPU Memory: 0.4GB / 3.9GB\n",
      "================================================================================\n",
      "\n",
      "📈 Epoch 18/50\n",
      "--------------------------------------------------\n",
      "🔄 Training Phase...\n"
     ]
    },
    {
     "name": "stderr",
     "output_type": "stream",
     "text": [
      "Training: 100%|██████████████████████████████| 311/311 [03:19<00:00,  1.56it/s, Loss=0.0101, Acc=0.9971, GPU=0.4GB]\n"
     ]
    },
    {
     "name": "stdout",
     "output_type": "stream",
     "text": [
      "✅ Training completed in 199.19s\n",
      "🔍 Validation Phase...\n"
     ]
    },
    {
     "name": "stderr",
     "output_type": "stream",
     "text": [
      "Validation: 100%|██████████████████████████████| 81/81 [00:27<00:00,  2.92it/s, Loss=0.5995, Acc=0.8766]\n"
     ]
    },
    {
     "name": "stdout",
     "output_type": "stream",
     "text": [
      "✅ Validation completed in 27.71s\n",
      "\n",
      "📊 Epoch 18 Summary:\n",
      "│ Train Loss: 0.0101 | Train Acc: 0.9971\n",
      "│ Val Loss:   0.5995 | Val Acc:   0.8766\n",
      "│ Train Time: 199.19s | Val Time: 27.71s\n",
      "│ Total Epoch Time: 226.90s\n",
      "│ Best Val Loss: 0.3562 (Epoch 1)\n",
      "│ GPU Memory: 0.4GB / 3.9GB\n",
      "================================================================================\n",
      "\n",
      "📈 Epoch 19/50\n",
      "--------------------------------------------------\n",
      "🔄 Training Phase...\n"
     ]
    },
    {
     "name": "stderr",
     "output_type": "stream",
     "text": [
      "Training: 100%|██████████████████████████████| 311/311 [03:18<00:00,  1.57it/s, Loss=0.0232, Acc=0.9916, GPU=0.4GB]\n"
     ]
    },
    {
     "name": "stdout",
     "output_type": "stream",
     "text": [
      "✅ Training completed in 198.37s\n",
      "🔍 Validation Phase...\n"
     ]
    },
    {
     "name": "stderr",
     "output_type": "stream",
     "text": [
      "Validation: 100%|██████████████████████████████| 81/81 [00:27<00:00,  2.93it/s, Loss=0.4994, Acc=0.8948]\n"
     ]
    },
    {
     "name": "stdout",
     "output_type": "stream",
     "text": [
      "✅ Validation completed in 27.64s\n",
      "\n",
      "📊 Epoch 19 Summary:\n",
      "│ Train Loss: 0.0232 | Train Acc: 0.9916\n",
      "│ Val Loss:   0.4994 | Val Acc:   0.8948\n",
      "│ Train Time: 198.37s | Val Time: 27.64s\n",
      "│ Total Epoch Time: 226.01s\n",
      "│ Best Val Loss: 0.3562 (Epoch 1)\n",
      "│ GPU Memory: 0.4GB / 3.9GB\n",
      "================================================================================\n",
      "\n",
      "📈 Epoch 20/50\n",
      "--------------------------------------------------\n",
      "🔄 Training Phase...\n"
     ]
    },
    {
     "name": "stderr",
     "output_type": "stream",
     "text": [
      "Training: 100%|██████████████████████████████| 311/311 [03:19<00:00,  1.56it/s, Loss=0.0077, Acc=0.9976, GPU=0.4GB]\n"
     ]
    },
    {
     "name": "stdout",
     "output_type": "stream",
     "text": [
      "✅ Training completed in 199.16s\n",
      "🔍 Validation Phase...\n"
     ]
    },
    {
     "name": "stderr",
     "output_type": "stream",
     "text": [
      "Validation: 100%|██████████████████████████████| 81/81 [00:27<00:00,  2.91it/s, Loss=0.4204, Acc=0.9026]\n"
     ]
    },
    {
     "name": "stdout",
     "output_type": "stream",
     "text": [
      "✅ Validation completed in 27.88s\n",
      "\n",
      "📊 Epoch 20 Summary:\n",
      "│ Train Loss: 0.0077 | Train Acc: 0.9976\n",
      "│ Val Loss:   0.4204 | Val Acc:   0.9026\n",
      "│ Train Time: 199.16s | Val Time: 27.88s\n",
      "│ Total Epoch Time: 227.04s\n",
      "│ Best Val Loss: 0.3562 (Epoch 1)\n",
      "│ GPU Memory: 0.4GB / 3.9GB\n",
      "================================================================================\n",
      "\n",
      "📈 Epoch 21/50\n",
      "--------------------------------------------------\n",
      "🔄 Training Phase...\n"
     ]
    },
    {
     "name": "stderr",
     "output_type": "stream",
     "text": [
      "Training: 100%|██████████████████████████████| 311/311 [03:19<00:00,  1.56it/s, Loss=0.0116, Acc=0.9959, GPU=0.4GB]\n"
     ]
    },
    {
     "name": "stdout",
     "output_type": "stream",
     "text": [
      "✅ Training completed in 199.03s\n",
      "🔍 Validation Phase...\n"
     ]
    },
    {
     "name": "stderr",
     "output_type": "stream",
     "text": [
      "Validation: 100%|██████████████████████████████| 81/81 [00:27<00:00,  2.91it/s, Loss=0.5589, Acc=0.8917]\n"
     ]
    },
    {
     "name": "stdout",
     "output_type": "stream",
     "text": [
      "✅ Validation completed in 27.84s\n",
      "\n",
      "📊 Epoch 21 Summary:\n",
      "│ Train Loss: 0.0116 | Train Acc: 0.9959\n",
      "│ Val Loss:   0.5589 | Val Acc:   0.8917\n",
      "│ Train Time: 199.03s | Val Time: 27.84s\n",
      "│ Total Epoch Time: 226.87s\n",
      "│ Best Val Loss: 0.3562 (Epoch 1)\n",
      "│ GPU Memory: 0.4GB / 3.9GB\n",
      "================================================================================\n",
      "\n",
      "📈 Epoch 22/50\n",
      "--------------------------------------------------\n",
      "🔄 Training Phase...\n"
     ]
    },
    {
     "name": "stderr",
     "output_type": "stream",
     "text": [
      "Training: 100%|██████████████████████████████| 311/311 [03:19<00:00,  1.56it/s, Loss=0.0118, Acc=0.9964, GPU=0.4GB]\n"
     ]
    },
    {
     "name": "stdout",
     "output_type": "stream",
     "text": [
      "✅ Training completed in 200.00s\n",
      "🔍 Validation Phase...\n"
     ]
    },
    {
     "name": "stderr",
     "output_type": "stream",
     "text": [
      "Validation: 100%|██████████████████████████████| 81/81 [00:27<00:00,  2.92it/s, Loss=0.6548, Acc=0.8863]\n"
     ]
    },
    {
     "name": "stdout",
     "output_type": "stream",
     "text": [
      "✅ Validation completed in 27.78s\n",
      "\n",
      "📊 Epoch 22 Summary:\n",
      "│ Train Loss: 0.0118 | Train Acc: 0.9964\n",
      "│ Val Loss:   0.6548 | Val Acc:   0.8863\n",
      "│ Train Time: 200.00s | Val Time: 27.78s\n",
      "│ Total Epoch Time: 227.78s\n",
      "│ Best Val Loss: 0.3562 (Epoch 1)\n",
      "│ GPU Memory: 0.4GB / 3.9GB\n",
      "================================================================================\n",
      "\n",
      "📈 Epoch 23/50\n",
      "--------------------------------------------------\n",
      "🔄 Training Phase...\n"
     ]
    },
    {
     "name": "stderr",
     "output_type": "stream",
     "text": [
      "Training: 100%|██████████████████████████████| 311/311 [03:21<00:00,  1.54it/s, Loss=0.0128, Acc=0.9966, GPU=0.4GB]\n"
     ]
    },
    {
     "name": "stdout",
     "output_type": "stream",
     "text": [
      "✅ Training completed in 201.84s\n",
      "🔍 Validation Phase...\n"
     ]
    },
    {
     "name": "stderr",
     "output_type": "stream",
     "text": [
      "Validation: 100%|██████████████████████████████| 81/81 [00:28<00:00,  2.87it/s, Loss=0.5829, Acc=0.8944]\n"
     ]
    },
    {
     "name": "stdout",
     "output_type": "stream",
     "text": [
      "✅ Validation completed in 28.25s\n",
      "\n",
      "📊 Epoch 23 Summary:\n",
      "│ Train Loss: 0.0128 | Train Acc: 0.9966\n",
      "│ Val Loss:   0.5829 | Val Acc:   0.8944\n",
      "│ Train Time: 201.84s | Val Time: 28.25s\n",
      "│ Total Epoch Time: 230.09s\n",
      "│ Best Val Loss: 0.3562 (Epoch 1)\n",
      "│ GPU Memory: 0.4GB / 3.9GB\n",
      "================================================================================\n",
      "\n",
      "📈 Epoch 24/50\n",
      "--------------------------------------------------\n",
      "🔄 Training Phase...\n"
     ]
    },
    {
     "name": "stderr",
     "output_type": "stream",
     "text": [
      "Training: 100%|██████████████████████████████| 311/311 [03:20<00:00,  1.55it/s, Loss=0.0105, Acc=0.9969, GPU=0.4GB]\n"
     ]
    },
    {
     "name": "stdout",
     "output_type": "stream",
     "text": [
      "✅ Training completed in 200.81s\n",
      "🔍 Validation Phase...\n"
     ]
    },
    {
     "name": "stderr",
     "output_type": "stream",
     "text": [
      "Validation: 100%|██████████████████████████████| 81/81 [00:28<00:00,  2.89it/s, Loss=0.5043, Acc=0.8936]\n"
     ]
    },
    {
     "name": "stdout",
     "output_type": "stream",
     "text": [
      "✅ Validation completed in 28.05s\n",
      "\n",
      "📊 Epoch 24 Summary:\n",
      "│ Train Loss: 0.0105 | Train Acc: 0.9969\n",
      "│ Val Loss:   0.5043 | Val Acc:   0.8936\n",
      "│ Train Time: 200.81s | Val Time: 28.05s\n",
      "│ Total Epoch Time: 228.86s\n",
      "│ Best Val Loss: 0.3562 (Epoch 1)\n",
      "│ GPU Memory: 0.4GB / 3.9GB\n",
      "================================================================================\n",
      "\n",
      "📈 Epoch 25/50\n",
      "--------------------------------------------------\n",
      "🔄 Training Phase...\n"
     ]
    },
    {
     "name": "stderr",
     "output_type": "stream",
     "text": [
      "Training: 100%|██████████████████████████████| 311/311 [03:19<00:00,  1.56it/s, Loss=0.0072, Acc=0.9978, GPU=0.4GB]\n"
     ]
    },
    {
     "name": "stdout",
     "output_type": "stream",
     "text": [
      "✅ Training completed in 199.88s\n",
      "🔍 Validation Phase...\n"
     ]
    },
    {
     "name": "stderr",
     "output_type": "stream",
     "text": [
      "Validation: 100%|██████████████████████████████| 81/81 [00:27<00:00,  2.92it/s, Loss=0.6394, Acc=0.8898]\n"
     ]
    },
    {
     "name": "stdout",
     "output_type": "stream",
     "text": [
      "✅ Validation completed in 27.73s\n",
      "\n",
      "📊 Epoch 25 Summary:\n",
      "│ Train Loss: 0.0072 | Train Acc: 0.9978\n",
      "│ Val Loss:   0.6394 | Val Acc:   0.8898\n",
      "│ Train Time: 199.88s | Val Time: 27.73s\n",
      "│ Total Epoch Time: 227.61s\n",
      "│ Best Val Loss: 0.3562 (Epoch 1)\n",
      "│ GPU Memory: 0.4GB / 3.9GB\n",
      "================================================================================\n",
      "\n",
      "📈 Epoch 26/50\n",
      "--------------------------------------------------\n",
      "🔄 Training Phase...\n"
     ]
    },
    {
     "name": "stderr",
     "output_type": "stream",
     "text": [
      "Training: 100%|██████████████████████████████| 311/311 [03:18<00:00,  1.56it/s, Loss=0.0186, Acc=0.9936, GPU=0.4GB]\n"
     ]
    },
    {
     "name": "stdout",
     "output_type": "stream",
     "text": [
      "✅ Training completed in 198.88s\n",
      "🔍 Validation Phase...\n"
     ]
    },
    {
     "name": "stderr",
     "output_type": "stream",
     "text": [
      "Validation: 100%|██████████████████████████████| 81/81 [00:27<00:00,  2.93it/s, Loss=0.7073, Acc=0.8723]\n"
     ]
    },
    {
     "name": "stdout",
     "output_type": "stream",
     "text": [
      "✅ Validation completed in 27.69s\n",
      "\n",
      "📊 Epoch 26 Summary:\n",
      "│ Train Loss: 0.0186 | Train Acc: 0.9936\n",
      "│ Val Loss:   0.7073 | Val Acc:   0.8723\n",
      "│ Train Time: 198.88s | Val Time: 27.69s\n",
      "│ Total Epoch Time: 226.57s\n",
      "│ Best Val Loss: 0.3562 (Epoch 1)\n",
      "│ GPU Memory: 0.4GB / 3.9GB\n",
      "================================================================================\n",
      "\n",
      "📈 Epoch 27/50\n",
      "--------------------------------------------------\n",
      "🔄 Training Phase...\n"
     ]
    },
    {
     "name": "stderr",
     "output_type": "stream",
     "text": [
      "Training: 100%|██████████████████████████████| 311/311 [03:18<00:00,  1.56it/s, Loss=0.0114, Acc=0.9956, GPU=0.4GB]\n"
     ]
    },
    {
     "name": "stdout",
     "output_type": "stream",
     "text": [
      "✅ Training completed in 198.94s\n",
      "🔍 Validation Phase...\n"
     ]
    },
    {
     "name": "stderr",
     "output_type": "stream",
     "text": [
      "Validation: 100%|██████████████████████████████| 81/81 [00:28<00:00,  2.89it/s, Loss=0.5282, Acc=0.8878]\n"
     ]
    },
    {
     "name": "stdout",
     "output_type": "stream",
     "text": [
      "✅ Validation completed in 28.08s\n",
      "\n",
      "📊 Epoch 27 Summary:\n",
      "│ Train Loss: 0.0114 | Train Acc: 0.9956\n",
      "│ Val Loss:   0.5282 | Val Acc:   0.8878\n",
      "│ Train Time: 198.94s | Val Time: 28.08s\n",
      "│ Total Epoch Time: 227.02s\n",
      "│ Best Val Loss: 0.3562 (Epoch 1)\n",
      "│ GPU Memory: 0.4GB / 3.9GB\n",
      "================================================================================\n",
      "\n",
      "📈 Epoch 28/50\n",
      "--------------------------------------------------\n",
      "🔄 Training Phase...\n"
     ]
    },
    {
     "name": "stderr",
     "output_type": "stream",
     "text": [
      "Training: 100%|██████████████████████████████| 311/311 [03:20<00:00,  1.55it/s, Loss=0.0135, Acc=0.9966, GPU=0.4GB]\n"
     ]
    },
    {
     "name": "stdout",
     "output_type": "stream",
     "text": [
      "✅ Training completed in 200.29s\n",
      "🔍 Validation Phase...\n"
     ]
    },
    {
     "name": "stderr",
     "output_type": "stream",
     "text": [
      "Validation: 100%|██████████████████████████████| 81/81 [00:27<00:00,  2.91it/s, Loss=0.6179, Acc=0.8766]\n"
     ]
    },
    {
     "name": "stdout",
     "output_type": "stream",
     "text": [
      "✅ Validation completed in 27.80s\n",
      "\n",
      "📊 Epoch 28 Summary:\n",
      "│ Train Loss: 0.0135 | Train Acc: 0.9966\n",
      "│ Val Loss:   0.6179 | Val Acc:   0.8766\n",
      "│ Train Time: 200.29s | Val Time: 27.80s\n",
      "│ Total Epoch Time: 228.09s\n",
      "│ Best Val Loss: 0.3562 (Epoch 1)\n",
      "│ GPU Memory: 0.4GB / 3.9GB\n",
      "================================================================================\n",
      "\n",
      "📈 Epoch 29/50\n",
      "--------------------------------------------------\n",
      "🔄 Training Phase...\n"
     ]
    },
    {
     "name": "stderr",
     "output_type": "stream",
     "text": [
      "Training: 100%|██████████████████████████████| 311/311 [03:23<00:00,  1.53it/s, Loss=0.0037, Acc=0.9990, GPU=0.4GB]\n"
     ]
    },
    {
     "name": "stdout",
     "output_type": "stream",
     "text": [
      "✅ Training completed in 203.72s\n",
      "🔍 Validation Phase...\n"
     ]
    },
    {
     "name": "stderr",
     "output_type": "stream",
     "text": [
      "Validation: 100%|██████████████████████████████| 81/81 [00:29<00:00,  2.70it/s, Loss=0.7898, Acc=0.8769]\n"
     ]
    },
    {
     "name": "stdout",
     "output_type": "stream",
     "text": [
      "✅ Validation completed in 29.95s\n",
      "\n",
      "📊 Epoch 29 Summary:\n",
      "│ Train Loss: 0.0037 | Train Acc: 0.9990\n",
      "│ Val Loss:   0.7898 | Val Acc:   0.8769\n",
      "│ Train Time: 203.72s | Val Time: 29.95s\n",
      "│ Total Epoch Time: 233.67s\n",
      "│ Best Val Loss: 0.3562 (Epoch 1)\n",
      "│ GPU Memory: 0.4GB / 3.9GB\n",
      "================================================================================\n",
      "\n",
      "📈 Epoch 30/50\n",
      "--------------------------------------------------\n",
      "🔄 Training Phase...\n"
     ]
    },
    {
     "name": "stderr",
     "output_type": "stream",
     "text": [
      "Training: 100%|██████████████████████████████| 311/311 [03:24<00:00,  1.52it/s, Loss=0.0143, Acc=0.9949, GPU=0.4GB]\n"
     ]
    },
    {
     "name": "stdout",
     "output_type": "stream",
     "text": [
      "✅ Training completed in 204.30s\n",
      "🔍 Validation Phase...\n"
     ]
    },
    {
     "name": "stderr",
     "output_type": "stream",
     "text": [
      "Validation: 100%|██████████████████████████████| 81/81 [00:28<00:00,  2.80it/s, Loss=0.7174, Acc=0.8758]\n"
     ]
    },
    {
     "name": "stdout",
     "output_type": "stream",
     "text": [
      "✅ Validation completed in 28.93s\n",
      "\n",
      "📊 Epoch 30 Summary:\n",
      "│ Train Loss: 0.0143 | Train Acc: 0.9949\n",
      "│ Val Loss:   0.7174 | Val Acc:   0.8758\n",
      "│ Train Time: 204.30s | Val Time: 28.93s\n",
      "│ Total Epoch Time: 233.22s\n",
      "│ Best Val Loss: 0.3562 (Epoch 1)\n",
      "│ GPU Memory: 0.4GB / 3.9GB\n",
      "================================================================================\n",
      "\n",
      "📈 Epoch 31/50\n",
      "--------------------------------------------------\n",
      "🔄 Training Phase...\n"
     ]
    },
    {
     "name": "stderr",
     "output_type": "stream",
     "text": [
      "Training: 100%|██████████████████████████████| 311/311 [03:22<00:00,  1.54it/s, Loss=0.0151, Acc=0.9956, GPU=0.4GB]\n"
     ]
    },
    {
     "name": "stdout",
     "output_type": "stream",
     "text": [
      "✅ Training completed in 202.03s\n",
      "🔍 Validation Phase...\n"
     ]
    },
    {
     "name": "stderr",
     "output_type": "stream",
     "text": [
      "Validation: 100%|██████████████████████████████| 81/81 [00:28<00:00,  2.88it/s, Loss=0.5649, Acc=0.8804]\n"
     ]
    },
    {
     "name": "stdout",
     "output_type": "stream",
     "text": [
      "✅ Validation completed in 28.14s\n",
      "\n",
      "📊 Epoch 31 Summary:\n",
      "│ Train Loss: 0.0151 | Train Acc: 0.9956\n",
      "│ Val Loss:   0.5649 | Val Acc:   0.8804\n",
      "│ Train Time: 202.03s | Val Time: 28.14s\n",
      "│ Total Epoch Time: 230.18s\n",
      "│ Best Val Loss: 0.3562 (Epoch 1)\n",
      "│ GPU Memory: 0.4GB / 3.9GB\n",
      "================================================================================\n",
      "\n",
      "📈 Epoch 32/50\n",
      "--------------------------------------------------\n",
      "🔄 Training Phase...\n"
     ]
    },
    {
     "name": "stderr",
     "output_type": "stream",
     "text": [
      "Training: 100%|██████████████████████████████| 311/311 [03:21<00:00,  1.54it/s, Loss=0.0110, Acc=0.9970, GPU=0.4GB]\n"
     ]
    },
    {
     "name": "stdout",
     "output_type": "stream",
     "text": [
      "✅ Training completed in 201.82s\n",
      "🔍 Validation Phase...\n"
     ]
    },
    {
     "name": "stderr",
     "output_type": "stream",
     "text": [
      "Validation: 100%|██████████████████████████████| 81/81 [00:28<00:00,  2.84it/s, Loss=0.5503, Acc=0.8734]\n"
     ]
    },
    {
     "name": "stdout",
     "output_type": "stream",
     "text": [
      "✅ Validation completed in 28.52s\n",
      "\n",
      "📊 Epoch 32 Summary:\n",
      "│ Train Loss: 0.0110 | Train Acc: 0.9970\n",
      "│ Val Loss:   0.5503 | Val Acc:   0.8734\n",
      "│ Train Time: 201.82s | Val Time: 28.52s\n",
      "│ Total Epoch Time: 230.34s\n",
      "│ Best Val Loss: 0.3562 (Epoch 1)\n",
      "│ GPU Memory: 0.4GB / 3.9GB\n",
      "================================================================================\n",
      "\n",
      "📈 Epoch 33/50\n",
      "--------------------------------------------------\n",
      "🔄 Training Phase...\n"
     ]
    },
    {
     "name": "stderr",
     "output_type": "stream",
     "text": [
      "Training: 100%|██████████████████████████████| 311/311 [03:21<00:00,  1.55it/s, Loss=0.0052, Acc=0.9986, GPU=0.4GB]\n"
     ]
    },
    {
     "name": "stdout",
     "output_type": "stream",
     "text": [
      "✅ Training completed in 201.11s\n",
      "🔍 Validation Phase...\n"
     ]
    },
    {
     "name": "stderr",
     "output_type": "stream",
     "text": [
      "Validation: 100%|██████████████████████████████| 81/81 [00:27<00:00,  2.90it/s, Loss=0.6449, Acc=0.8738]\n"
     ]
    },
    {
     "name": "stdout",
     "output_type": "stream",
     "text": [
      "✅ Validation completed in 27.95s\n",
      "\n",
      "📊 Epoch 33 Summary:\n",
      "│ Train Loss: 0.0052 | Train Acc: 0.9986\n",
      "│ Val Loss:   0.6449 | Val Acc:   0.8738\n",
      "│ Train Time: 201.11s | Val Time: 27.95s\n",
      "│ Total Epoch Time: 229.06s\n",
      "│ Best Val Loss: 0.3562 (Epoch 1)\n",
      "│ GPU Memory: 0.4GB / 3.9GB\n",
      "================================================================================\n",
      "\n",
      "📈 Epoch 34/50\n",
      "--------------------------------------------------\n",
      "🔄 Training Phase...\n"
     ]
    },
    {
     "name": "stderr",
     "output_type": "stream",
     "text": [
      "Training: 100%|██████████████████████████████| 311/311 [03:21<00:00,  1.55it/s, Loss=0.0113, Acc=0.9966, GPU=0.4GB]\n"
     ]
    },
    {
     "name": "stdout",
     "output_type": "stream",
     "text": [
      "✅ Training completed in 201.23s\n",
      "🔍 Validation Phase...\n"
     ]
    },
    {
     "name": "stderr",
     "output_type": "stream",
     "text": [
      "Validation: 100%|██████████████████████████████| 81/81 [00:28<00:00,  2.82it/s, Loss=0.6268, Acc=0.8742]\n"
     ]
    },
    {
     "name": "stdout",
     "output_type": "stream",
     "text": [
      "✅ Validation completed in 28.68s\n",
      "\n",
      "📊 Epoch 34 Summary:\n",
      "│ Train Loss: 0.0113 | Train Acc: 0.9966\n",
      "│ Val Loss:   0.6268 | Val Acc:   0.8742\n",
      "│ Train Time: 201.23s | Val Time: 28.68s\n",
      "│ Total Epoch Time: 229.91s\n",
      "│ Best Val Loss: 0.3562 (Epoch 1)\n",
      "│ GPU Memory: 0.4GB / 3.9GB\n",
      "================================================================================\n",
      "\n",
      "📈 Epoch 35/50\n",
      "--------------------------------------------------\n",
      "🔄 Training Phase...\n"
     ]
    },
    {
     "name": "stderr",
     "output_type": "stream",
     "text": [
      "Training: 100%|██████████████████████████████| 311/311 [03:27<00:00,  1.50it/s, Loss=0.0105, Acc=0.9963, GPU=0.4GB]\n"
     ]
    },
    {
     "name": "stdout",
     "output_type": "stream",
     "text": [
      "✅ Training completed in 207.92s\n",
      "🔍 Validation Phase...\n"
     ]
    },
    {
     "name": "stderr",
     "output_type": "stream",
     "text": [
      "Validation: 100%|██████████████████████████████| 81/81 [00:30<00:00,  2.61it/s, Loss=0.6060, Acc=0.8828]\n"
     ]
    },
    {
     "name": "stdout",
     "output_type": "stream",
     "text": [
      "✅ Validation completed in 30.98s\n",
      "\n",
      "📊 Epoch 35 Summary:\n",
      "│ Train Loss: 0.0105 | Train Acc: 0.9963\n",
      "│ Val Loss:   0.6060 | Val Acc:   0.8828\n",
      "│ Train Time: 207.92s | Val Time: 30.98s\n",
      "│ Total Epoch Time: 238.91s\n",
      "│ Best Val Loss: 0.3562 (Epoch 1)\n",
      "│ GPU Memory: 0.4GB / 3.9GB\n",
      "================================================================================\n",
      "\n",
      "📈 Epoch 36/50\n",
      "--------------------------------------------------\n",
      "🔄 Training Phase...\n"
     ]
    },
    {
     "name": "stderr",
     "output_type": "stream",
     "text": [
      "Training: 100%|██████████████████████████████| 311/311 [03:24<00:00,  1.52it/s, Loss=0.0181, Acc=0.9948, GPU=0.4GB]\n"
     ]
    },
    {
     "name": "stdout",
     "output_type": "stream",
     "text": [
      "✅ Training completed in 204.26s\n",
      "🔍 Validation Phase...\n"
     ]
    },
    {
     "name": "stderr",
     "output_type": "stream",
     "text": [
      "Validation: 100%|██████████████████████████████| 81/81 [00:29<00:00,  2.79it/s, Loss=0.7030, Acc=0.8451]\n"
     ]
    },
    {
     "name": "stdout",
     "output_type": "stream",
     "text": [
      "✅ Validation completed in 29.08s\n",
      "\n",
      "📊 Epoch 36 Summary:\n",
      "│ Train Loss: 0.0181 | Train Acc: 0.9948\n",
      "│ Val Loss:   0.7030 | Val Acc:   0.8451\n",
      "│ Train Time: 204.26s | Val Time: 29.08s\n",
      "│ Total Epoch Time: 233.34s\n",
      "│ Best Val Loss: 0.3562 (Epoch 1)\n",
      "│ GPU Memory: 0.4GB / 3.9GB\n",
      "================================================================================\n",
      "\n",
      "📈 Epoch 37/50\n",
      "--------------------------------------------------\n",
      "🔄 Training Phase...\n"
     ]
    },
    {
     "name": "stderr",
     "output_type": "stream",
     "text": [
      "Training: 100%|██████████████████████████████| 311/311 [03:20<00:00,  1.55it/s, Loss=0.0060, Acc=0.9980, GPU=0.4GB]\n"
     ]
    },
    {
     "name": "stdout",
     "output_type": "stream",
     "text": [
      "✅ Training completed in 200.86s\n",
      "🔍 Validation Phase...\n"
     ]
    },
    {
     "name": "stderr",
     "output_type": "stream",
     "text": [
      "Validation: 100%|██████████████████████████████| 81/81 [00:28<00:00,  2.87it/s, Loss=0.5263, Acc=0.8940]\n"
     ]
    },
    {
     "name": "stdout",
     "output_type": "stream",
     "text": [
      "✅ Validation completed in 28.19s\n",
      "\n",
      "📊 Epoch 37 Summary:\n",
      "│ Train Loss: 0.0060 | Train Acc: 0.9980\n",
      "│ Val Loss:   0.5263 | Val Acc:   0.8940\n",
      "│ Train Time: 200.86s | Val Time: 28.19s\n",
      "│ Total Epoch Time: 229.05s\n",
      "│ Best Val Loss: 0.3562 (Epoch 1)\n",
      "│ GPU Memory: 0.4GB / 3.9GB\n",
      "================================================================================\n",
      "\n",
      "📈 Epoch 38/50\n",
      "--------------------------------------------------\n",
      "🔄 Training Phase...\n"
     ]
    },
    {
     "name": "stderr",
     "output_type": "stream",
     "text": [
      "Training: 100%|██████████████████████████████| 311/311 [03:20<00:00,  1.55it/s, Loss=0.0041, Acc=0.9990, GPU=0.4GB]\n"
     ]
    },
    {
     "name": "stdout",
     "output_type": "stream",
     "text": [
      "✅ Training completed in 200.35s\n",
      "🔍 Validation Phase...\n"
     ]
    },
    {
     "name": "stderr",
     "output_type": "stream",
     "text": [
      "Validation: 100%|██████████████████████████████| 81/81 [00:27<00:00,  2.91it/s, Loss=0.5230, Acc=0.8964]\n"
     ]
    },
    {
     "name": "stdout",
     "output_type": "stream",
     "text": [
      "✅ Validation completed in 27.80s\n",
      "\n",
      "📊 Epoch 38 Summary:\n",
      "│ Train Loss: 0.0041 | Train Acc: 0.9990\n",
      "│ Val Loss:   0.5230 | Val Acc:   0.8964\n",
      "│ Train Time: 200.35s | Val Time: 27.80s\n",
      "│ Total Epoch Time: 228.15s\n",
      "│ Best Val Loss: 0.3562 (Epoch 1)\n",
      "│ GPU Memory: 0.4GB / 3.9GB\n",
      "================================================================================\n",
      "\n",
      "📈 Epoch 39/50\n",
      "--------------------------------------------------\n",
      "🔄 Training Phase...\n"
     ]
    },
    {
     "name": "stderr",
     "output_type": "stream",
     "text": [
      "Training: 100%|██████████████████████████████| 311/311 [03:20<00:00,  1.55it/s, Loss=0.0035, Acc=0.9986, GPU=0.4GB]\n"
     ]
    },
    {
     "name": "stdout",
     "output_type": "stream",
     "text": [
      "✅ Training completed in 200.43s\n",
      "🔍 Validation Phase...\n"
     ]
    },
    {
     "name": "stderr",
     "output_type": "stream",
     "text": [
      "Validation: 100%|██████████████████████████████| 81/81 [00:28<00:00,  2.87it/s, Loss=1.1114, Acc=0.8405]\n"
     ]
    },
    {
     "name": "stdout",
     "output_type": "stream",
     "text": [
      "✅ Validation completed in 28.18s\n",
      "\n",
      "📊 Epoch 39 Summary:\n",
      "│ Train Loss: 0.0035 | Train Acc: 0.9986\n",
      "│ Val Loss:   1.1114 | Val Acc:   0.8405\n",
      "│ Train Time: 200.43s | Val Time: 28.18s\n",
      "│ Total Epoch Time: 228.61s\n",
      "│ Best Val Loss: 0.3562 (Epoch 1)\n",
      "│ GPU Memory: 0.4GB / 3.9GB\n",
      "================================================================================\n",
      "\n",
      "📈 Epoch 40/50\n",
      "--------------------------------------------------\n",
      "🔄 Training Phase...\n"
     ]
    },
    {
     "name": "stderr",
     "output_type": "stream",
     "text": [
      "Training: 100%|██████████████████████████████| 311/311 [03:20<00:00,  1.55it/s, Loss=0.0088, Acc=0.9963, GPU=0.4GB]\n"
     ]
    },
    {
     "name": "stdout",
     "output_type": "stream",
     "text": [
      "✅ Training completed in 200.17s\n",
      "🔍 Validation Phase...\n"
     ]
    },
    {
     "name": "stderr",
     "output_type": "stream",
     "text": [
      "Validation: 100%|██████████████████████████████| 81/81 [00:28<00:00,  2.89it/s, Loss=0.5464, Acc=0.8847]\n"
     ]
    },
    {
     "name": "stdout",
     "output_type": "stream",
     "text": [
      "✅ Validation completed in 28.01s\n",
      "\n",
      "📊 Epoch 40 Summary:\n",
      "│ Train Loss: 0.0088 | Train Acc: 0.9963\n",
      "│ Val Loss:   0.5464 | Val Acc:   0.8847\n",
      "│ Train Time: 200.17s | Val Time: 28.01s\n",
      "│ Total Epoch Time: 228.19s\n",
      "│ Best Val Loss: 0.3562 (Epoch 1)\n",
      "│ GPU Memory: 0.4GB / 3.9GB\n",
      "================================================================================\n",
      "\n",
      "📈 Epoch 41/50\n",
      "--------------------------------------------------\n",
      "🔄 Training Phase...\n"
     ]
    },
    {
     "name": "stderr",
     "output_type": "stream",
     "text": [
      "Training: 100%|██████████████████████████████| 311/311 [03:19<00:00,  1.56it/s, Loss=0.0135, Acc=0.9962, GPU=0.4GB]\n"
     ]
    },
    {
     "name": "stdout",
     "output_type": "stream",
     "text": [
      "✅ Training completed in 199.43s\n",
      "🔍 Validation Phase...\n"
     ]
    },
    {
     "name": "stderr",
     "output_type": "stream",
     "text": [
      "Validation: 100%|██████████████████████████████| 81/81 [00:28<00:00,  2.88it/s, Loss=0.6374, Acc=0.8455]\n"
     ]
    },
    {
     "name": "stdout",
     "output_type": "stream",
     "text": [
      "✅ Validation completed in 28.09s\n",
      "\n",
      "📊 Epoch 41 Summary:\n",
      "│ Train Loss: 0.0135 | Train Acc: 0.9962\n",
      "│ Val Loss:   0.6374 | Val Acc:   0.8455\n",
      "│ Train Time: 199.43s | Val Time: 28.09s\n",
      "│ Total Epoch Time: 227.52s\n",
      "│ Best Val Loss: 0.3562 (Epoch 1)\n",
      "│ GPU Memory: 0.4GB / 3.9GB\n",
      "================================================================================\n",
      "\n",
      "📈 Epoch 42/50\n",
      "--------------------------------------------------\n",
      "🔄 Training Phase...\n"
     ]
    },
    {
     "name": "stderr",
     "output_type": "stream",
     "text": [
      "Training: 100%|██████████████████████████████| 311/311 [03:23<00:00,  1.53it/s, Loss=0.0109, Acc=0.9969, GPU=0.4GB]\n"
     ]
    },
    {
     "name": "stdout",
     "output_type": "stream",
     "text": [
      "✅ Training completed in 203.58s\n",
      "🔍 Validation Phase...\n"
     ]
    },
    {
     "name": "stderr",
     "output_type": "stream",
     "text": [
      "Validation: 100%|██████████████████████████████| 81/81 [00:28<00:00,  2.87it/s, Loss=0.5688, Acc=0.8886]\n"
     ]
    },
    {
     "name": "stdout",
     "output_type": "stream",
     "text": [
      "✅ Validation completed in 28.21s\n",
      "\n",
      "📊 Epoch 42 Summary:\n",
      "│ Train Loss: 0.0109 | Train Acc: 0.9969\n",
      "│ Val Loss:   0.5688 | Val Acc:   0.8886\n",
      "│ Train Time: 203.58s | Val Time: 28.21s\n",
      "│ Total Epoch Time: 231.80s\n",
      "│ Best Val Loss: 0.3562 (Epoch 1)\n",
      "│ GPU Memory: 0.4GB / 3.9GB\n",
      "================================================================================\n",
      "\n",
      "📈 Epoch 43/50\n",
      "--------------------------------------------------\n",
      "🔄 Training Phase...\n"
     ]
    },
    {
     "name": "stderr",
     "output_type": "stream",
     "text": [
      "Training: 100%|██████████████████████████████| 311/311 [03:21<00:00,  1.54it/s, Loss=0.0091, Acc=0.9974, GPU=0.4GB]\n"
     ]
    },
    {
     "name": "stdout",
     "output_type": "stream",
     "text": [
      "✅ Training completed in 201.96s\n",
      "🔍 Validation Phase...\n"
     ]
    },
    {
     "name": "stderr",
     "output_type": "stream",
     "text": [
      "Validation: 100%|██████████████████████████████| 81/81 [00:27<00:00,  2.90it/s, Loss=0.7797, Acc=0.8599]\n"
     ]
    },
    {
     "name": "stdout",
     "output_type": "stream",
     "text": [
      "✅ Validation completed in 27.89s\n",
      "\n",
      "📊 Epoch 43 Summary:\n",
      "│ Train Loss: 0.0091 | Train Acc: 0.9974\n",
      "│ Val Loss:   0.7797 | Val Acc:   0.8599\n",
      "│ Train Time: 201.96s | Val Time: 27.89s\n",
      "│ Total Epoch Time: 229.85s\n",
      "│ Best Val Loss: 0.3562 (Epoch 1)\n",
      "│ GPU Memory: 0.4GB / 3.9GB\n",
      "================================================================================\n",
      "\n",
      "📈 Epoch 44/50\n",
      "--------------------------------------------------\n",
      "🔄 Training Phase...\n"
     ]
    },
    {
     "name": "stderr",
     "output_type": "stream",
     "text": [
      "Training: 100%|██████████████████████████████| 311/311 [03:20<00:00,  1.55it/s, Loss=0.0072, Acc=0.9975, GPU=0.4GB]\n"
     ]
    },
    {
     "name": "stdout",
     "output_type": "stream",
     "text": [
      "✅ Training completed in 200.38s\n",
      "🔍 Validation Phase...\n"
     ]
    },
    {
     "name": "stderr",
     "output_type": "stream",
     "text": [
      "Validation: 100%|██████████████████████████████| 81/81 [00:27<00:00,  2.94it/s, Loss=0.6964, Acc=0.8715]\n"
     ]
    },
    {
     "name": "stdout",
     "output_type": "stream",
     "text": [
      "✅ Validation completed in 27.56s\n",
      "\n",
      "📊 Epoch 44 Summary:\n",
      "│ Train Loss: 0.0072 | Train Acc: 0.9975\n",
      "│ Val Loss:   0.6964 | Val Acc:   0.8715\n",
      "│ Train Time: 200.38s | Val Time: 27.56s\n",
      "│ Total Epoch Time: 227.94s\n",
      "│ Best Val Loss: 0.3562 (Epoch 1)\n",
      "│ GPU Memory: 0.4GB / 3.9GB\n",
      "================================================================================\n",
      "\n",
      "📈 Epoch 45/50\n",
      "--------------------------------------------------\n",
      "🔄 Training Phase...\n"
     ]
    },
    {
     "name": "stderr",
     "output_type": "stream",
     "text": [
      "Training: 100%|██████████████████████████████| 311/311 [03:20<00:00,  1.55it/s, Loss=0.0084, Acc=0.9977, GPU=0.4GB]\n"
     ]
    },
    {
     "name": "stdout",
     "output_type": "stream",
     "text": [
      "✅ Training completed in 200.39s\n",
      "🔍 Validation Phase...\n"
     ]
    },
    {
     "name": "stderr",
     "output_type": "stream",
     "text": [
      "Validation: 100%|██████████████████████████████| 81/81 [00:28<00:00,  2.81it/s, Loss=0.6258, Acc=0.8960]\n"
     ]
    },
    {
     "name": "stdout",
     "output_type": "stream",
     "text": [
      "✅ Validation completed in 28.80s\n",
      "\n",
      "📊 Epoch 45 Summary:\n",
      "│ Train Loss: 0.0084 | Train Acc: 0.9977\n",
      "│ Val Loss:   0.6258 | Val Acc:   0.8960\n",
      "│ Train Time: 200.39s | Val Time: 28.80s\n",
      "│ Total Epoch Time: 229.20s\n",
      "│ Best Val Loss: 0.3562 (Epoch 1)\n",
      "│ GPU Memory: 0.4GB / 3.9GB\n",
      "================================================================================\n",
      "\n",
      "📈 Epoch 46/50\n",
      "--------------------------------------------------\n",
      "🔄 Training Phase...\n"
     ]
    },
    {
     "name": "stderr",
     "output_type": "stream",
     "text": [
      "Training: 100%|██████████████████████████████| 311/311 [03:20<00:00,  1.55it/s, Loss=0.0100, Acc=0.9974, GPU=0.4GB]\n"
     ]
    },
    {
     "name": "stdout",
     "output_type": "stream",
     "text": [
      "✅ Training completed in 200.64s\n",
      "🔍 Validation Phase...\n"
     ]
    },
    {
     "name": "stderr",
     "output_type": "stream",
     "text": [
      "Validation: 100%|██████████████████████████████| 81/81 [00:28<00:00,  2.89it/s, Loss=0.6744, Acc=0.8634]\n"
     ]
    },
    {
     "name": "stdout",
     "output_type": "stream",
     "text": [
      "✅ Validation completed in 28.04s\n",
      "\n",
      "📊 Epoch 46 Summary:\n",
      "│ Train Loss: 0.0100 | Train Acc: 0.9974\n",
      "│ Val Loss:   0.6744 | Val Acc:   0.8634\n",
      "│ Train Time: 200.64s | Val Time: 28.04s\n",
      "│ Total Epoch Time: 228.68s\n",
      "│ Best Val Loss: 0.3562 (Epoch 1)\n",
      "│ GPU Memory: 0.4GB / 3.9GB\n",
      "================================================================================\n",
      "\n",
      "📈 Epoch 47/50\n",
      "--------------------------------------------------\n",
      "🔄 Training Phase...\n"
     ]
    },
    {
     "name": "stderr",
     "output_type": "stream",
     "text": [
      "Training: 100%|██████████████████████████████| 311/311 [03:19<00:00,  1.56it/s, Loss=0.0153, Acc=0.9954, GPU=0.4GB]\n"
     ]
    },
    {
     "name": "stdout",
     "output_type": "stream",
     "text": [
      "✅ Training completed in 199.57s\n",
      "🔍 Validation Phase...\n"
     ]
    },
    {
     "name": "stderr",
     "output_type": "stream",
     "text": [
      "Validation: 100%|██████████████████████████████| 81/81 [00:28<00:00,  2.88it/s, Loss=0.7309, Acc=0.8711]\n"
     ]
    },
    {
     "name": "stdout",
     "output_type": "stream",
     "text": [
      "✅ Validation completed in 28.10s\n",
      "\n",
      "📊 Epoch 47 Summary:\n",
      "│ Train Loss: 0.0153 | Train Acc: 0.9954\n",
      "│ Val Loss:   0.7309 | Val Acc:   0.8711\n",
      "│ Train Time: 199.57s | Val Time: 28.10s\n",
      "│ Total Epoch Time: 227.67s\n",
      "│ Best Val Loss: 0.3562 (Epoch 1)\n",
      "│ GPU Memory: 0.4GB / 3.9GB\n",
      "================================================================================\n",
      "\n",
      "📈 Epoch 48/50\n",
      "--------------------------------------------------\n",
      "🔄 Training Phase...\n"
     ]
    },
    {
     "name": "stderr",
     "output_type": "stream",
     "text": [
      "Training: 100%|██████████████████████████████| 311/311 [03:19<00:00,  1.56it/s, Loss=0.0088, Acc=0.9974, GPU=0.4GB]\n"
     ]
    },
    {
     "name": "stdout",
     "output_type": "stream",
     "text": [
      "✅ Training completed in 199.81s\n",
      "🔍 Validation Phase...\n"
     ]
    },
    {
     "name": "stderr",
     "output_type": "stream",
     "text": [
      "Validation: 100%|██████████████████████████████| 81/81 [00:28<00:00,  2.89it/s, Loss=0.6518, Acc=0.8723]\n"
     ]
    },
    {
     "name": "stdout",
     "output_type": "stream",
     "text": [
      "✅ Validation completed in 28.01s\n",
      "\n",
      "📊 Epoch 48 Summary:\n",
      "│ Train Loss: 0.0088 | Train Acc: 0.9974\n",
      "│ Val Loss:   0.6518 | Val Acc:   0.8723\n",
      "│ Train Time: 199.81s | Val Time: 28.01s\n",
      "│ Total Epoch Time: 227.82s\n",
      "│ Best Val Loss: 0.3562 (Epoch 1)\n",
      "│ GPU Memory: 0.4GB / 3.9GB\n",
      "================================================================================\n",
      "\n",
      "📈 Epoch 49/50\n",
      "--------------------------------------------------\n",
      "🔄 Training Phase...\n"
     ]
    },
    {
     "name": "stderr",
     "output_type": "stream",
     "text": [
      "Training: 100%|██████████████████████████████| 311/311 [03:20<00:00,  1.55it/s, Loss=0.0111, Acc=0.9964, GPU=0.4GB]\n"
     ]
    },
    {
     "name": "stdout",
     "output_type": "stream",
     "text": [
      "✅ Training completed in 200.26s\n",
      "🔍 Validation Phase...\n"
     ]
    },
    {
     "name": "stderr",
     "output_type": "stream",
     "text": [
      "Validation: 100%|██████████████████████████████| 81/81 [00:28<00:00,  2.87it/s, Loss=0.6439, Acc=0.8781]\n"
     ]
    },
    {
     "name": "stdout",
     "output_type": "stream",
     "text": [
      "✅ Validation completed in 28.26s\n",
      "\n",
      "📊 Epoch 49 Summary:\n",
      "│ Train Loss: 0.0111 | Train Acc: 0.9964\n",
      "│ Val Loss:   0.6439 | Val Acc:   0.8781\n",
      "│ Train Time: 200.26s | Val Time: 28.26s\n",
      "│ Total Epoch Time: 228.53s\n",
      "│ Best Val Loss: 0.3562 (Epoch 1)\n",
      "│ GPU Memory: 0.4GB / 3.9GB\n",
      "================================================================================\n",
      "\n",
      "📈 Epoch 50/50\n",
      "--------------------------------------------------\n",
      "🔄 Training Phase...\n"
     ]
    },
    {
     "name": "stderr",
     "output_type": "stream",
     "text": [
      "Training: 100%|██████████████████████████████| 311/311 [03:20<00:00,  1.55it/s, Loss=0.0071, Acc=0.9980, GPU=0.4GB]\n"
     ]
    },
    {
     "name": "stdout",
     "output_type": "stream",
     "text": [
      "✅ Training completed in 200.58s\n",
      "🔍 Validation Phase...\n"
     ]
    },
    {
     "name": "stderr",
     "output_type": "stream",
     "text": [
      "Validation: 100%|██████████████████████████████| 81/81 [00:28<00:00,  2.88it/s, Loss=0.6366, Acc=0.8797]\n"
     ]
    },
    {
     "name": "stdout",
     "output_type": "stream",
     "text": [
      "✅ Validation completed in 28.14s\n",
      "\n",
      "📊 Epoch 50 Summary:\n",
      "│ Train Loss: 0.0071 | Train Acc: 0.9980\n",
      "│ Val Loss:   0.6366 | Val Acc:   0.8797\n",
      "│ Train Time: 200.58s | Val Time: 28.14s\n",
      "│ Total Epoch Time: 228.72s\n",
      "│ Best Val Loss: 0.3562 (Epoch 1)\n",
      "│ GPU Memory: 0.4GB / 3.9GB\n",
      "================================================================================\n",
      "\n",
      "💾 Best model saved as 'best_cricket_swin_filtered.pth'\n",
      "📊 Best model stats:\n",
      "│ Best Epoch: 1\n",
      "│ Best Val Loss: 0.3562\n",
      "│ Best Val Acc: 0.8929\n",
      "\n",
      "💾 Training history saved to 'cricket_swin_filtered_history_pretrained.csv'\n",
      "\n",
      "🎉 Swin Transformer Fine-tuning Complete!\n",
      "Total Training Time: 11467.43s (191.1 minutes)\n",
      "Average Epoch Time: 229.35s\n",
      "\n",
      "🧪 Loading Best Model for Testing...\n",
      "✅ Best model from epoch 1 loaded successfully!\n"
     ]
    },
    {
     "name": "stderr",
     "output_type": "stream",
     "text": [
      "Testing: 100%|██████████████████████████████| 101/101 [01:01<00:00,  1.64it/s]\n"
     ]
    },
    {
     "name": "stdout",
     "output_type": "stream",
     "text": [
      "✅ Testing completed in 61.69s\n",
      "\n",
      "📋 Classification Report:\n",
      "              precision    recall  f1-score   support\n",
      "\n",
      "     Batting       0.91      0.95      0.93      1656\n",
      "     Bowling       0.84      0.87      0.85       488\n",
      "    Fielding       0.83      0.72      0.78       560\n",
      "      Umpire       0.95      0.92      0.93       520\n",
      "\n",
      "    accuracy                           0.89      3224\n",
      "   macro avg       0.88      0.87      0.87      3224\n",
      "weighted avg       0.89      0.89      0.89      3224\n",
      "\n",
      "🎯 Test Accuracy: 0.8933\n",
      "\n",
      "📊 Cricket Classification Performance (Swin Transformer - Filtered Data):\n",
      "│ Best Validation Loss: 0.3562 (Epoch 1)\n",
      "│ Best Validation Acc:  0.8929 (Epoch 1)\n",
      "│ Final Test Accuracy:  0.8933\n",
      "│ Val-Test Gap:         0.0004\n",
      "│ Data Filtering: Excluded 'random_occlusion' folder\n",
      "\n",
      "💾 Files saved:\n",
      "│ best_cricket_swin_filtered.pth - Best model weights\n",
      "│ cricket_swin_filtered_history.csv - Training metrics\n"
     ]
    },
    {
     "data": {
      "image/png": "[encoded data removed]",
      "text/plain": [
       "<Figure size 1000x800 with 2 Axes>"
      ]
     },
     "metadata": {},
     "output_type": "display_data"
    },
    {
     "data": {
      "image/png": "[encoded data removed]",
      "text/plain": [
       "<Figure size 1500x500 with 3 Axes>"
      ]
     },
     "metadata": {},
     "output_type": "display_data"
    },
    {
     "name": "stdout",
     "output_type": "stream",
     "text": [
      "\n",
      "⏰ Final Timing Summary:\n",
      "│ Total Training: 11467.43s (191.1 min)\n",
      "│ Average per Epoch: 229.35s\n",
      "│ Testing Time: 61.69s\n",
      "│ Total Runtime: 11529.12s\n",
      "\n",
      "🪟 Swin Transformer + Filtered Data Benefits:\n",
      "│ Clean dataset: 'random_occlusion' folder excluded\n",
      "│ Hierarchical architecture: Multi-scale feature extraction\n",
      "│ Shifted windows: Efficient computation with cross-window connections\n",
      "│ Linear complexity: O(H×W) instead of O(H²×W²)\n",
      "│ CNNs + Transformers: Best of both architectural worlds\n",
      "│ ImageNet-22k pretrained: Superior feature representations\n",
      "│ Excellent performance: Often outperforms both CNNs and ViTs\n"
     ]
    }
   ],
   "source": [
    "# -----------------------------\n",
    "# 3. Training Setup\n",
    "# -----------------------------\n",
    "criterion = nn.CrossEntropyLoss()\n",
    "optimizer = optim.Adam(model.parameters(), lr=1e-4)  # Lower LR for fine-tuning\n",
    "\n",
    "print(f\"\\n📋 Training Configuration:\")\n",
    "print(f\"│ Model: Swin Transformer Tiny (pretrained)\")\n",
    "print(f\"│ Optimizer: Adam (lr={optimizer.param_groups[0]['lr']})\")\n",
    "print(f\"│ Loss Function: CrossEntropyLoss\")\n",
    "print(f\"│ Batch Size: 32\")\n",
    "print(f\"│ Device: {device}\")\n",
    "print(f\"│ Data: Filtered (excluding '{ignore_folder}')\")\n",
    "\n",
    "# -----------------------------\n",
    "# 4. Training Loop with Model Saving\n",
    "# -----------------------------\n",
    "train_losses, val_losses = [], []\n",
    "train_accs, val_accs = [], []\n",
    "epoch_times = []\n",
    "epochs = 50\n",
    "\n",
    "# Initialize best model tracking (using val_loss for fine-tuning)\n",
    "best_val_loss = float('inf')\n",
    "best_model_state = None\n",
    "best_epoch = 0\n",
    "best_val_acc = 0.0\n",
    "\n",
    "print(f\"\\n🚀 Starting Swin Transformer Fine-tuning for {epochs} epochs...\")\n",
    "print(\"=\" * 80)\n",
    "total_start_time = time.time()\n",
    "\n",
    "for epoch in range(epochs):\n",
    "    epoch_start_time = time.time()\n",
    "    \n",
    "    print(f\"\\n📈 Epoch {epoch+1}/{epochs}\")\n",
    "    print(\"-\" * 50)\n",
    "    \n",
    "    # Training Phase\n",
    "    print(\"🔄 Training Phase...\")\n",
    "    model.train()\n",
    "    running_loss, correct, total = 0, 0, 0\n",
    "    \n",
    "    train_pbar = tqdm(train_loader, desc=\"Training\", \n",
    "                     bar_format='{l_bar}{bar:30}{r_bar}{bar:-30b}')\n",
    "    \n",
    "    train_phase_start = time.time()\n",
    "    \n",
    "    for batch_idx, (imgs, labels) in enumerate(train_pbar):\n",
    "        imgs, labels = imgs.to(device), labels.to(device)\n",
    "        \n",
    "        optimizer.zero_grad()\n",
    "        outputs = model(imgs)\n",
    "        loss = criterion(outputs, labels)\n",
    "        loss.backward()\n",
    "        optimizer.step()\n",
    "        \n",
    "        running_loss += loss.item()\n",
    "        _, preds = torch.max(outputs, 1)\n",
    "        correct += (preds == labels).sum().item()\n",
    "        total += labels.size(0)\n",
    "        \n",
    "        current_acc = correct / total\n",
    "        train_pbar.set_postfix({\n",
    "            'Loss': f'{running_loss/(batch_idx+1):.4f}',\n",
    "            'Acc': f'{current_acc:.4f}'\n",
    "        })\n",
    "        \n",
    "        if device.type == 'cuda' and batch_idx % 10 == 0:\n",
    "            gpu_memory = torch.cuda.memory_allocated() / 1024**3\n",
    "            train_pbar.set_postfix({\n",
    "                'Loss': f'{running_loss/(batch_idx+1):.4f}',\n",
    "                'Acc': f'{current_acc:.4f}',\n",
    "                'GPU': f'{gpu_memory:.1f}GB'\n",
    "            })\n",
    "    \n",
    "    train_phase_time = time.time() - train_phase_start\n",
    "    train_loss = running_loss / len(train_loader)\n",
    "    train_acc = correct / total\n",
    "    train_losses.append(train_loss)\n",
    "    train_accs.append(train_acc)\n",
    "    \n",
    "    print(f\"✅ Training completed in {train_phase_time:.2f}s\")\n",
    "    \n",
    "    # Validation Phase\n",
    "    print(\"🔍 Validation Phase...\")\n",
    "    model.eval()\n",
    "    running_loss, correct, total = 0, 0, 0\n",
    "    \n",
    "    val_phase_start = time.time()\n",
    "    val_pbar = tqdm(val_loader, desc=\"Validation\", \n",
    "                   bar_format='{l_bar}{bar:30}{r_bar}{bar:-30b}')\n",
    "    \n",
    "    with torch.no_grad():\n",
    "        for batch_idx, (imgs, labels) in enumerate(val_pbar):\n",
    "            imgs, labels = imgs.to(device), labels.to(device)\n",
    "            outputs = model(imgs)\n",
    "            loss = criterion(outputs, labels)\n",
    "            \n",
    "            running_loss += loss.item()\n",
    "            _, preds = torch.max(outputs, 1)\n",
    "            correct += (preds == labels).sum().item()\n",
    "            total += labels.size(0)\n",
    "            \n",
    "            current_acc = correct / total\n",
    "            val_pbar.set_postfix({\n",
    "                'Loss': f'{running_loss/(batch_idx+1):.4f}',\n",
    "                'Acc': f'{current_acc:.4f}'\n",
    "            })\n",
    "    \n",
    "    val_phase_time = time.time() - val_phase_start\n",
    "    val_loss = running_loss / len(val_loader)\n",
    "    val_acc = correct / total\n",
    "    val_losses.append(val_loss)\n",
    "    val_accs.append(val_acc)\n",
    "    \n",
    "    print(f\"✅ Validation completed in {val_phase_time:.2f}s\")\n",
    "    \n",
    "    # Check if this is the best model (using val_loss for fine-tuning)\n",
    "    is_best = val_loss < best_val_loss\n",
    "    if is_best:\n",
    "        best_val_loss = val_loss\n",
    "        best_val_acc = val_acc\n",
    "        best_epoch = epoch + 1\n",
    "        best_model_state = model.state_dict().copy()\n",
    "        print(f\"🌟 New best model found! Validation Loss: {val_loss:.4f}\")\n",
    "    \n",
    "    # Epoch Summary\n",
    "    epoch_time = time.time() - epoch_start_time\n",
    "    epoch_times.append(epoch_time)\n",
    "    \n",
    "    print(f\"\\n📊 Epoch {epoch+1} Summary:\")\n",
    "    print(f\"│ Train Loss: {train_loss:.4f} | Train Acc: {train_acc:.4f}\")\n",
    "    print(f\"│ Val Loss:   {val_loss:.4f} | Val Acc:   {val_acc:.4f}\")\n",
    "    print(f\"│ Train Time: {train_phase_time:.2f}s | Val Time: {val_phase_time:.2f}s\")\n",
    "    print(f\"│ Total Epoch Time: {epoch_time:.2f}s\")\n",
    "    print(f\"│ Best Val Loss: {best_val_loss:.4f} (Epoch {best_epoch})\")\n",
    "    \n",
    "    if device.type == 'cuda':\n",
    "        print(f\"│ GPU Memory: {torch.cuda.memory_allocated()/1024**3:.1f}GB / {torch.cuda.memory_reserved()/1024**3:.1f}GB\")\n",
    "    \n",
    "    print(\"=\" * 80)\n",
    "\n",
    "total_training_time = time.time() - total_start_time\n",
    "\n",
    "# Save the best model\n",
    "if best_model_state is not None:\n",
    "    torch.save(best_model_state, 'best_cricket_swin_filtered_pretrained.pth')\n",
    "    print(f\"\\n💾 Best model saved as 'best_cricket_swin_filtered.pth'\")\n",
    "    print(f\"📊 Best model stats:\")\n",
    "    print(f\"│ Best Epoch: {best_epoch}\")\n",
    "    print(f\"│ Best Val Loss: {best_val_loss:.4f}\")\n",
    "    print(f\"│ Best Val Acc: {best_val_acc:.4f}\")\n",
    "\n",
    "# Save training history\n",
    "history_data = {\n",
    "    'epoch': list(range(1, epochs+1)),\n",
    "    'train_loss': train_losses,\n",
    "    'val_loss': val_losses,\n",
    "    'train_acc': train_accs,\n",
    "    'val_acc': val_accs,\n",
    "    'epoch_time': epoch_times\n",
    "}\n",
    "\n",
    "history_df = pd.DataFrame(history_data)\n",
    "history_df.to_csv('cricket_swin_filtered_history_pretrained.csv', index=False)\n",
    "print(\"\\n💾 Training history saved to 'cricket_swin_filtered_history_pretrained.csv'\")\n",
    "\n",
    "print(f\"\\n🎉 Swin Transformer Fine-tuning Complete!\")\n",
    "print(f\"Total Training Time: {total_training_time:.2f}s ({total_training_time/60:.1f} minutes)\")\n",
    "print(f\"Average Epoch Time: {np.mean(epoch_times):.2f}s\")\n",
    "\n",
    "# -----------------------------\n",
    "# 5. Load Best Model and Test\n",
    "# -----------------------------\n",
    "print(f\"\\n🧪 Loading Best Model for Testing...\")\n",
    "if best_model_state is not None:\n",
    "    model.load_state_dict(best_model_state)\n",
    "    print(f\"✅ Best model from epoch {best_epoch} loaded successfully!\")\n",
    "\n",
    "test_start_time = time.time()\n",
    "y_true, y_pred = [], []\n",
    "model.eval()\n",
    "test_pbar = tqdm(test_loader, desc=\"Testing\", \n",
    "                bar_format='{l_bar}{bar:30}{r_bar}{bar:-30b}')\n",
    "\n",
    "with torch.no_grad():\n",
    "    for imgs, labels in test_pbar:\n",
    "        imgs, labels = imgs.to(device), labels.to(device)\n",
    "        outputs = model(imgs)\n",
    "        _, preds = torch.max(outputs, 1)\n",
    "        y_true.extend(labels.cpu().numpy())\n",
    "        y_pred.extend(preds.cpu().numpy())\n",
    "\n",
    "test_time = time.time() - test_start_time\n",
    "test_accuracy = accuracy_score(y_true, y_pred)\n",
    "\n",
    "print(f\"✅ Testing completed in {test_time:.2f}s\")\n",
    "print(\"\\n📋 Classification Report:\")\n",
    "print(classification_report(y_true, y_pred, target_names=classes))\n",
    "print(f\"🎯 Test Accuracy: {test_accuracy:.4f}\")\n",
    "\n",
    "# Performance Summary\n",
    "print(f\"\\n📊 Cricket Classification Performance (Swin Transformer - Filtered Data):\")\n",
    "print(f\"│ Best Validation Loss: {best_val_loss:.4f} (Epoch {best_epoch})\")\n",
    "print(f\"│ Best Validation Acc:  {best_val_acc:.4f} (Epoch {best_epoch})\")\n",
    "print(f\"│ Final Test Accuracy:  {test_accuracy:.4f}\")\n",
    "print(f\"│ Val-Test Gap:         {abs(best_val_acc - test_accuracy):.4f}\")\n",
    "print(f\"│ Data Filtering: Excluded '{ignore_folder}' folder\")\n",
    "\n",
    "print(f\"\\n💾 Files saved:\")\n",
    "print(f\"│ best_cricket_swin_filtered.pth - Best model weights\")\n",
    "print(f\"│ cricket_swin_filtered_history.csv - Training metrics\")\n",
    "\n",
    "# -----------------------------\n",
    "# 6. Visualizations\n",
    "# -----------------------------\n",
    "# Confusion Matrix\n",
    "cm = confusion_matrix(y_true, y_pred)\n",
    "plt.figure(figsize=(10, 8))\n",
    "sns.heatmap(cm, annot=True, fmt=\"d\", cmap=\"Blues\", \n",
    "            xticklabels=classes, yticklabels=classes)\n",
    "plt.xlabel(\"Predicted\")\n",
    "plt.ylabel(\"True\")\n",
    "plt.title(f\"Cricket Classification - Swin Transformer (Filtered Data) - Epoch {best_epoch}\")\n",
    "plt.tight_layout()\n",
    "plt.show()\n",
    "\n",
    "# Training Curves\n",
    "plt.figure(figsize=(15, 5))\n",
    "\n",
    "# Loss Plot\n",
    "plt.subplot(1, 3, 1)\n",
    "plt.plot(range(1, epochs+1), train_losses, 'b-', label=\"Train Loss\", marker='o', linewidth=2)\n",
    "plt.plot(range(1, epochs+1), val_losses, 'r-', label=\"Val Loss\", marker='s', linewidth=2)\n",
    "plt.axvline(x=best_epoch, color='green', linestyle='--', alpha=0.7, label=f'Best (Epoch {best_epoch})')\n",
    "plt.scatter([best_epoch], [best_val_loss], color='green', s=100, zorder=5)\n",
    "plt.legend()\n",
    "plt.title(\"Swin Transformer Loss over Epochs (Filtered)\")\n",
    "plt.xlabel(\"Epoch\")\n",
    "plt.ylabel(\"Loss\")\n",
    "plt.grid(True, alpha=0.3)\n",
    "\n",
    "# Accuracy Plot\n",
    "plt.subplot(1, 3, 2)\n",
    "plt.plot(range(1, epochs+1), train_accs, 'b-', label=\"Train Accuracy\", marker='o', linewidth=2)\n",
    "plt.plot(range(1, epochs+1), val_accs, 'r-', label=\"Val Accuracy\", marker='s', linewidth=2)\n",
    "plt.axvline(x=best_epoch, color='green', linestyle='--', alpha=0.7, label=f'Best (Epoch {best_epoch})')\n",
    "plt.scatter([best_epoch], [best_val_acc], color='green', s=100, zorder=5)\n",
    "plt.legend()\n",
    "plt.title(\"Swin Transformer Accuracy over Epochs (Filtered)\")\n",
    "plt.xlabel(\"Epoch\")\n",
    "plt.ylabel(\"Accuracy\")\n",
    "plt.grid(True, alpha=0.3)\n",
    "\n",
    "# Final Performance\n",
    "plt.subplot(1, 3, 3)\n",
    "metrics = ['Best Val Acc', 'Test Acc']\n",
    "values = [best_val_acc, test_accuracy]\n",
    "colors = ['orange', 'green']\n",
    "bars = plt.bar(metrics, values, color=colors, alpha=0.7)\n",
    "plt.title(\"Swin Transformer Final Performance (Filtered)\")\n",
    "plt.ylabel(\"Accuracy\")\n",
    "plt.ylim(0, 1)\n",
    "plt.grid(True, alpha=0.3)\n",
    "for bar, val in zip(bars, values):\n",
    "    plt.text(bar.get_x() + bar.get_width()/2, val + 0.01, \n",
    "             f'{val:.4f}', ha='center', va='bottom')\n",
    "\n",
    "plt.tight_layout()\n",
    "plt.show()\n",
    "\n",
    "# Final Summary\n",
    "print(f\"\\n⏰ Final Timing Summary:\")\n",
    "print(f\"│ Total Training: {total_training_time:.2f}s ({total_training_time/60:.1f} min)\")\n",
    "print(f\"│ Average per Epoch: {np.mean(epoch_times):.2f}s\")\n",
    "print(f\"│ Testing Time: {test_time:.2f}s\")\n",
    "print(f\"│ Total Runtime: {total_training_time + test_time:.2f}s\")\n",
    "\n",
    "# Model and Data Info\n",
    "print(f\"\\n🪟 Swin Transformer + Filtered Data Benefits:\")\n",
    "print(f\"│ Clean dataset: '{ignore_folder}' folder excluded\")\n",
    "print(f\"│ Hierarchical architecture: Multi-scale feature extraction\")\n",
    "print(f\"│ Shifted windows: Efficient computation with cross-window connections\")\n",
    "print(f\"│ Linear complexity: O(H×W) instead of O(H²×W²)\")\n",
    "print(f\"│ CNNs + Transformers: Best of both architectural worlds\")\n",
    "print(f\"│ ImageNet-22k pretrained: Superior feature representations\")\n",
    "print(f\"│ Excellent performance: Often outperforms both CNNs and ViTs\")"
   ]
  }
 ],
 "metadata": {
  "kaggle": {
   "accelerator": "nvidiaTeslaT4",
   "dataSources": [
    {
     "datasetId": 7735666,
     "sourceId": 12275446,
     "sourceType": "datasetVersion"
    }
   ],
   "dockerImageVersionId": 31090,
   "isGpuEnabled": true,
   "isInternetEnabled": true,
   "language": "python",
   "sourceType": "notebook"
  },
  "kernelspec": {
   "display_name": "Python 3",
   "language": "python",
   "name": "python3"
  },
  "language_info": {
   "codemirror_mode": {
    "name": "ipython",
    "version": 3
   },
   "file_extension": ".py",
   "mimetype": "text/x-python",
   "name": "python",
   "nbconvert_exporter": "python",
   "pygments_lexer": "ipython3",
   "version": "3.11.13"
  },
  "papermill": {
   "default_parameters": {},
   "duration": 11569.376931,
   "end_time": "2025-09-09T15:27:39.621048",
   "environment_variables": {},
   "exception": null,
   "input_path": "__notebook__.ipynb",
   "output_path": "__notebook__.ipynb",
   "parameters": {},
   "start_time": "2025-09-09T12:14:50.244117",
   "version": "2.6.0"
  }
 },
 "nbformat": 4,
 "nbformat_minor": 5
}
