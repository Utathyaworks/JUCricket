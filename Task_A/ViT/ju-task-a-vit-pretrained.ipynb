{
 "cells": [
  {
   "cell_type": "code",
   "execution_count": 1,
   "id": "f34d311f",
   "metadata": {
    "execution": {
     "iopub.execute_input": "2025-09-09T12:02:34.641992Z",
     "iopub.status.busy": "2025-09-09T12:02:34.641727Z",
     "iopub.status.idle": "2025-09-09T12:03:08.850886Z",
     "shell.execute_reply": "2025-09-09T12:03:08.850106Z"
    },
    "papermill": {
     "duration": 34.216701,
     "end_time": "2025-09-09T12:03:08.854364",
     "exception": false,
     "start_time": "2025-09-09T12:02:34.637663",
     "status": "completed"
    },
    "tags": []
   },
   "outputs": [
    {
     "name": "stdout",
     "output_type": "stream",
     "text": [
      "Classes: ['Batting', 'Bowling', 'Fielding', 'Umpire']\n"
     ]
    }
   ],
   "source": [
    "import torch\n",
    "import torch.nn as nn\n",
    "import torch.nn.functional as F\n",
    "from torch.utils.data import DataLoader\n",
    "from torchvision import datasets, transforms\n",
    "from torchsummary import summary\n",
    "import matplotlib.pyplot as plt\n",
    "from sklearn.metrics import classification_report, confusion_matrix, accuracy_score\n",
    "import seaborn as sns\n",
    "import numpy as np\n",
    "\n",
    "# -----------------------------\n",
    "# 1. Data Preprocessing\n",
    "# -----------------------------\n",
    "data_dir = \"/kaggle/input/ju-cricket/Cricket_Dataset_final/Task_A\"\n",
    "\n",
    "transform = transforms.Compose([\n",
    "    transforms.Resize((224, 224)),\n",
    "    transforms.ToTensor(),\n",
    "    transforms.Normalize([0.485, 0.456, 0.406], \n",
    "                         [0.229, 0.224, 0.225])\n",
    "])\n",
    "\n",
    "train_ds = datasets.ImageFolder(f\"{data_dir}/train\", transform=transform)\n",
    "val_ds   = datasets.ImageFolder(f\"{data_dir}/val\", transform=transform)\n",
    "test_ds  = datasets.ImageFolder(f\"{data_dir}/test\", transform=transform)\n",
    "\n",
    "train_loader = DataLoader(train_ds, batch_size=32, shuffle=True)\n",
    "val_loader   = DataLoader(val_ds, batch_size=32, shuffle=False)\n",
    "test_loader  = DataLoader(test_ds, batch_size=32, shuffle=False)\n",
    "\n",
    "classes = train_ds.classes\n",
    "print(\"Classes:\", classes)"
   ]
  },
  {
   "cell_type": "code",
   "execution_count": 2,
   "id": "26147bcb",
   "metadata": {
    "execution": {
     "iopub.execute_input": "2025-09-09T12:03:08.860301Z",
     "iopub.status.busy": "2025-09-09T12:03:08.859773Z",
     "iopub.status.idle": "2025-09-09T12:03:08.864603Z",
     "shell.execute_reply": "2025-09-09T12:03:08.863768Z"
    },
    "papermill": {
     "duration": 0.008667,
     "end_time": "2025-09-09T12:03:08.865619",
     "exception": false,
     "start_time": "2025-09-09T12:03:08.856952",
     "status": "completed"
    },
    "tags": []
   },
   "outputs": [
    {
     "name": "stdout",
     "output_type": "stream",
     "text": [
      "Total training images: 11169\n",
      "Total validation images: 2898\n",
      "Total test images: 3627\n",
      "Total images in dataset: 17694\n"
     ]
    }
   ],
   "source": [
    "print(\"Total training images:\", len(train_ds))\n",
    "print(\"Total validation images:\", len(val_ds))\n",
    "print(\"Total test images:\", len(test_ds))\n",
    "\n",
    "total_images = len(train_ds) + len(val_ds) + len(test_ds)\n",
    "print(\"Total images in dataset:\", total_images)\n"
   ]
  },
  {
   "cell_type": "code",
   "execution_count": 3,
   "id": "c3664227",
   "metadata": {
    "execution": {
     "iopub.execute_input": "2025-09-09T12:03:08.870993Z",
     "iopub.status.busy": "2025-09-09T12:03:08.870764Z",
     "iopub.status.idle": "2025-09-09T12:03:08.885919Z",
     "shell.execute_reply": "2025-09-09T12:03:08.885182Z"
    },
    "papermill": {
     "duration": 0.019061,
     "end_time": "2025-09-09T12:03:08.886974",
     "exception": false,
     "start_time": "2025-09-09T12:03:08.867913",
     "status": "completed"
    },
    "tags": []
   },
   "outputs": [
    {
     "name": "stdout",
     "output_type": "stream",
     "text": [
      "Training images (excluding 'random_occlusion'): 9928\n",
      "Validation images (excluding 'random_occlusion'): 2576\n",
      "Test images (excluding 'random_occlusion'): 3224\n",
      "Total images (excluding 'random_occlusion'): 15728\n"
     ]
    }
   ],
   "source": [
    "ignore_folder = \"random_occlusion\"\n",
    "\n",
    "def count_images_ignore_folder(dataset, ignore_folder):\n",
    "    count = 0\n",
    "    for img_path, label in dataset.samples:\n",
    "        # Skip if the image path contains the ignore_folder\n",
    "        if ignore_folder not in img_path.split(\"/\"):\n",
    "            count += 1\n",
    "    return count\n",
    "\n",
    "train_count = count_images_ignore_folder(train_ds, ignore_folder)\n",
    "val_count   = count_images_ignore_folder(val_ds, ignore_folder)\n",
    "test_count  = count_images_ignore_folder(test_ds, ignore_folder)\n",
    "\n",
    "total_count = train_count + val_count + test_count\n",
    "\n",
    "print(\"Training images (excluding '{}'): {}\".format(ignore_folder, train_count))\n",
    "print(\"Validation images (excluding '{}'): {}\".format(ignore_folder, val_count))\n",
    "print(\"Test images (excluding '{}'): {}\".format(ignore_folder, test_count))\n",
    "print(\"Total images (excluding '{}'): {}\".format(ignore_folder, total_count))\n"
   ]
  },
  {
   "cell_type": "code",
   "execution_count": 4,
   "id": "83518b93",
   "metadata": {
    "execution": {
     "iopub.execute_input": "2025-09-09T12:03:08.892334Z",
     "iopub.status.busy": "2025-09-09T12:03:08.892105Z",
     "iopub.status.idle": "2025-09-09T12:03:08.913486Z",
     "shell.execute_reply": "2025-09-09T12:03:08.912646Z"
    },
    "papermill": {
     "duration": 0.025485,
     "end_time": "2025-09-09T12:03:08.914770",
     "exception": false,
     "start_time": "2025-09-09T12:03:08.889285",
     "status": "completed"
    },
    "tags": []
   },
   "outputs": [
    {
     "name": "stdout",
     "output_type": "stream",
     "text": [
      "Training folders considered: {'lens_flare', 'motion_blur', 'gaussian_noise', 'chromatic_aberration', 'original', 'dirty_lens', 'low_resolution', 'blur', 'random_occlusion'}\n",
      "Validation folders considered: {'lens_flare', 'motion_blur', 'gaussian_noise', 'chromatic_aberration', 'original', 'dirty_lens', 'low_resolution', 'blur', 'random_occlusion'}\n",
      "Test folders considered: {'lens_flare', 'motion_blur', 'gaussian_noise', 'chromatic_aberration', 'original', 'dirty_lens', 'low_resolution', 'blur', 'random_occlusion'}\n"
     ]
    }
   ],
   "source": [
    "ignore_folder = \"random_occlusionw\"\n",
    "\n",
    "def get_included_folders(dataset, ignore_folder):\n",
    "    included = set()\n",
    "    for img_path, label in dataset.samples:\n",
    "        # Split the path into parts and ignore if ignore_folder is in the path\n",
    "        if ignore_folder not in img_path.split(\"/\"):\n",
    "            # The folder name just above the image (or the class folder)\n",
    "            folder_name = img_path.split(\"/\")[-2]\n",
    "            included.add(folder_name)\n",
    "    return included\n",
    "\n",
    "train_folders = get_included_folders(train_ds, ignore_folder)\n",
    "val_folders   = get_included_folders(val_ds, ignore_folder)\n",
    "test_folders  = get_included_folders(test_ds, ignore_folder)\n",
    "\n",
    "print(\"Training folders considered:\", train_folders)\n",
    "print(\"Validation folders considered:\", val_folders)\n",
    "print(\"Test folders considered:\", test_folders)\n"
   ]
  },
  {
   "cell_type": "code",
   "execution_count": 5,
   "id": "a2678e80",
   "metadata": {
    "execution": {
     "iopub.execute_input": "2025-09-09T12:03:08.921410Z",
     "iopub.status.busy": "2025-09-09T12:03:08.920771Z",
     "iopub.status.idle": "2025-09-09T12:03:11.159073Z",
     "shell.execute_reply": "2025-09-09T12:03:11.158310Z"
    },
    "papermill": {
     "duration": 2.242708,
     "end_time": "2025-09-09T12:03:11.160311",
     "exception": false,
     "start_time": "2025-09-09T12:03:08.917603",
     "status": "completed"
    },
    "tags": []
   },
   "outputs": [
    {
     "name": "stdout",
     "output_type": "stream",
     "text": [
      "Classes: ['Batting', 'Bowling', 'Fielding', 'Umpire']\n",
      "Final Training images: 9928\n",
      "Final Validation images: 2576\n",
      "Final Test images: 3224\n",
      "Total images after filtering: 15728\n"
     ]
    }
   ],
   "source": [
    "ignore_folder = \"random_occlusion\"\n",
    "\n",
    "def filter_samples(dataset, ignore_folder):\n",
    "    # Keep only samples where ignore_folder is NOT in the path\n",
    "    filtered_samples = [s for s in dataset.samples if ignore_folder not in s[0].split(\"/\")]\n",
    "    dataset.samples = filtered_samples\n",
    "    dataset.targets = [s[1] for s in filtered_samples]  # Update targets accordingly\n",
    "    return dataset\n",
    "\n",
    "# Create original datasets\n",
    "train_ds = datasets.ImageFolder(f\"{data_dir}/train\", transform=transform)\n",
    "val_ds   = datasets.ImageFolder(f\"{data_dir}/val\", transform=transform)\n",
    "test_ds  = datasets.ImageFolder(f\"{data_dir}/test\", transform=transform)\n",
    "\n",
    "# Filter out 'random_occlusion' folder\n",
    "train_ds = filter_samples(train_ds, ignore_folder)\n",
    "val_ds   = filter_samples(val_ds, ignore_folder)\n",
    "test_ds  = filter_samples(test_ds, ignore_folder)\n",
    "\n",
    "# DataLoaders\n",
    "train_loader = DataLoader(train_ds, batch_size=32, shuffle=True)\n",
    "val_loader   = DataLoader(val_ds, batch_size=32, shuffle=False)\n",
    "test_loader  = DataLoader(test_ds, batch_size=32, shuffle=False)\n",
    "\n",
    "# Classes (will remain the same)\n",
    "classes = train_ds.classes\n",
    "print(\"Classes:\", classes)\n",
    "\n",
    "# Show counts\n",
    "print(\"Final Training images:\", len(train_ds))\n",
    "print(\"Final Validation images:\", len(val_ds))\n",
    "print(\"Final Test images:\", len(test_ds))\n",
    "print(\"Total images after filtering:\", len(train_ds) + len(val_ds) + len(test_ds))\n"
   ]
  },
  {
   "cell_type": "code",
   "execution_count": 6,
   "id": "6be661ea",
   "metadata": {
    "execution": {
     "iopub.execute_input": "2025-09-09T12:03:11.166475Z",
     "iopub.status.busy": "2025-09-09T12:03:11.166243Z",
     "iopub.status.idle": "2025-09-09T12:03:11.185546Z",
     "shell.execute_reply": "2025-09-09T12:03:11.184831Z"
    },
    "papermill": {
     "duration": 0.023501,
     "end_time": "2025-09-09T12:03:11.186574",
     "exception": false,
     "start_time": "2025-09-09T12:03:11.163073",
     "status": "completed"
    },
    "tags": []
   },
   "outputs": [
    {
     "name": "stdout",
     "output_type": "stream",
     "text": [
      "Training folders considered: {'lens_flare', 'motion_blur', 'gaussian_noise', 'chromatic_aberration', 'original', 'dirty_lens', 'low_resolution', 'blur'}\n",
      "Validation folders considered: {'lens_flare', 'motion_blur', 'gaussian_noise', 'chromatic_aberration', 'original', 'dirty_lens', 'low_resolution', 'blur'}\n",
      "Test folders considered: {'lens_flare', 'motion_blur', 'gaussian_noise', 'chromatic_aberration', 'original', 'dirty_lens', 'low_resolution', 'blur'}\n"
     ]
    }
   ],
   "source": [
    "ignore_folder = \"random_occlusion\"\n",
    "\n",
    "def get_included_folders(dataset, ignore_folder):\n",
    "    included = set()\n",
    "    for img_path, label in dataset.samples:\n",
    "        # Split the path into parts and ignore if ignore_folder is in the path\n",
    "        if ignore_folder not in img_path.split(\"/\"):\n",
    "            # The folder name just above the image (or the class folder)\n",
    "            folder_name = img_path.split(\"/\")[-2]\n",
    "            included.add(folder_name)\n",
    "    return included\n",
    "\n",
    "train_folders = get_included_folders(train_ds, ignore_folder)\n",
    "val_folders   = get_included_folders(val_ds, ignore_folder)\n",
    "test_folders  = get_included_folders(test_ds, ignore_folder)\n",
    "\n",
    "print(\"Training folders considered:\", train_folders)\n",
    "print(\"Validation folders considered:\", val_folders)\n",
    "print(\"Test folders considered:\", test_folders)\n"
   ]
  },
  {
   "cell_type": "code",
   "execution_count": 7,
   "id": "4bfa0273",
   "metadata": {
    "execution": {
     "iopub.execute_input": "2025-09-09T12:03:11.192396Z",
     "iopub.status.busy": "2025-09-09T12:03:11.192169Z",
     "iopub.status.idle": "2025-09-09T12:03:11.428545Z",
     "shell.execute_reply": "2025-09-09T12:03:11.427909Z"
    },
    "papermill": {
     "duration": 0.240674,
     "end_time": "2025-09-09T12:03:11.429669",
     "exception": false,
     "start_time": "2025-09-09T12:03:11.188995",
     "status": "completed"
    },
    "tags": []
   },
   "outputs": [
    {
     "name": "stdout",
     "output_type": "stream",
     "text": [
      "🔄 Loading and filtering datasets for Vision Transformer...\n",
      "✅ Classes: ['Batting', 'Bowling', 'Fielding', 'Umpire']\n",
      "📊 Dataset Statistics:\n",
      "│ Training images: 9928\n",
      "│ Validation images: 2576\n",
      "│ Test images: 3224\n",
      "│ Total images (after filtering): 15728\n",
      "│ Excluded folder: 'random_occlusion'\n",
      "│ Number of classes: 4\n"
     ]
    }
   ],
   "source": [
    "import torch\n",
    "import torch.nn as nn\n",
    "import torch.nn.functional as F\n",
    "import torch.optim as optim\n",
    "from torch.utils.data import DataLoader\n",
    "from torchvision import datasets, transforms, models\n",
    "import matplotlib.pyplot as plt\n",
    "from sklearn.metrics import classification_report, confusion_matrix, accuracy_score\n",
    "import seaborn as sns\n",
    "import numpy as np\n",
    "import pandas as pd\n",
    "from tqdm import tqdm\n",
    "import time\n",
    "import os\n",
    "import tempfile\n",
    "\n",
    "# -----------------------------\n",
    "# 1. Data Preprocessing with Filtering (ViT - 224x224)\n",
    "# -----------------------------\n",
    "data_dir = \"/kaggle/input/ju-cricket/Cricket_Dataset_final/Task_A\"\n",
    "\n",
    "# ViT-B/16 uses 224x224 input size\n",
    "transform = transforms.Compose([\n",
    "    transforms.Resize((224, 224)),  # ViT-B/16 input size\n",
    "    transforms.ToTensor(),\n",
    "    transforms.Normalize([0.485, 0.456, 0.406], \n",
    "                         [0.229, 0.224, 0.225])\n",
    "])\n",
    "\n",
    "ignore_folder = \"random_occlusion\"\n",
    "\n",
    "def filter_samples(dataset, ignore_folder):\n",
    "    \"\"\"Filter out samples containing the ignore_folder in their path\"\"\"\n",
    "    filtered_samples = [s for s in dataset.samples if ignore_folder not in s[0].split(\"/\")]\n",
    "    dataset.samples = filtered_samples\n",
    "    dataset.targets = [s[1] for s in filtered_samples]\n",
    "    return dataset\n",
    "\n",
    "# Create and filter datasets\n",
    "print(\"🔄 Loading and filtering datasets for Vision Transformer...\")\n",
    "train_ds = datasets.ImageFolder(f\"{data_dir}/train\", transform=transform)\n",
    "val_ds   = datasets.ImageFolder(f\"{data_dir}/val\", transform=transform)\n",
    "test_ds  = datasets.ImageFolder(f\"{data_dir}/test\", transform=transform)\n",
    "\n",
    "# Apply filtering\n",
    "train_ds = filter_samples(train_ds, ignore_folder)\n",
    "val_ds   = filter_samples(val_ds, ignore_folder)\n",
    "test_ds  = filter_samples(test_ds, ignore_folder)\n",
    "\n",
    "# Create DataLoaders\n",
    "train_loader = DataLoader(train_ds, batch_size=32, shuffle=True)\n",
    "val_loader   = DataLoader(val_ds, batch_size=32, shuffle=False)\n",
    "test_loader  = DataLoader(test_ds, batch_size=32, shuffle=False)\n",
    "\n",
    "# Display information\n",
    "classes = train_ds.classes\n",
    "print(f\"✅ Classes: {classes}\")\n",
    "print(f\"📊 Dataset Statistics:\")\n",
    "print(f\"│ Training images: {len(train_ds)}\")\n",
    "print(f\"│ Validation images: {len(val_ds)}\")\n",
    "print(f\"│ Test images: {len(test_ds)}\")\n",
    "print(f\"│ Total images (after filtering): {len(train_ds) + len(val_ds) + len(test_ds)}\")\n",
    "print(f\"│ Excluded folder: '{ignore_folder}'\")\n",
    "print(f\"│ Number of classes: {len(classes)}\")"
   ]
  },
  {
   "cell_type": "code",
   "execution_count": 8,
   "id": "a502929b",
   "metadata": {
    "execution": {
     "iopub.execute_input": "2025-09-09T12:03:11.435783Z",
     "iopub.status.busy": "2025-09-09T12:03:11.435596Z",
     "iopub.status.idle": "2025-09-09T12:03:16.206079Z",
     "shell.execute_reply": "2025-09-09T12:03:16.205177Z"
    },
    "papermill": {
     "duration": 4.774978,
     "end_time": "2025-09-09T12:03:16.207352",
     "exception": false,
     "start_time": "2025-09-09T12:03:11.432374",
     "status": "completed"
    },
    "tags": []
   },
   "outputs": [
    {
     "name": "stdout",
     "output_type": "stream",
     "text": [
      "Using device: cuda\n",
      "🔄 Loading pretrained Vision Transformer (ViT-B/16) from ImageNet...\n"
     ]
    },
    {
     "name": "stderr",
     "output_type": "stream",
     "text": [
      "/usr/local/lib/python3.11/dist-packages/torchvision/models/_utils.py:208: UserWarning: The parameter 'pretrained' is deprecated since 0.13 and may be removed in the future, please use 'weights' instead.\n",
      "  warnings.warn(\n",
      "/usr/local/lib/python3.11/dist-packages/torchvision/models/_utils.py:223: UserWarning: Arguments other than a weight enum or `None` for 'weights' are deprecated since 0.13 and may be removed in the future. The current behavior is equivalent to passing `weights=ViT_B_16_Weights.IMAGENET1K_V1`. You can also use `weights=ViT_B_16_Weights.DEFAULT` to get the most up-to-date weights.\n",
      "  warnings.warn(msg)\n",
      "Downloading: \"https://download.pytorch.org/models/vit_b_16-c867db91.pth\" to /root/.cache/torch/hub/checkpoints/vit_b_16-c867db91.pth\n",
      "100%|██████████| 330M/330M [00:01<00:00, 181MB/s]\n"
     ]
    },
    {
     "name": "stdout",
     "output_type": "stream",
     "text": [
      "✅ Model loaded with 4 output classes\n",
      "📊 Total parameters: 85,801,732\n",
      "📊 Trainable parameters: 85,801,732\n",
      "📊 Model file size: 327.37 MB\n",
      "📋 Model Architecture:\n",
      "│ Input size: (3, 224, 224)\n",
      "│ ViT-B/16 features: 768\n",
      "│ Output classes: 4\n",
      "│ Patch size: 16x16\n",
      "│ Sequence length: 196 patches + 1 CLS token\n",
      "│ Transformer layers: 12\n",
      "│ Attention heads: 12\n"
     ]
    }
   ],
   "source": [
    "# -----------------------------\n",
    "# 2. Pretrained Vision Transformer Model\n",
    "# -----------------------------\n",
    "device = torch.device('cuda' if torch.cuda.is_available() else 'cpu')\n",
    "print(f\"Using device: {device}\")\n",
    "\n",
    "# Load pretrained Vision Transformer (ViT-B/16)\n",
    "print(\"🔄 Loading pretrained Vision Transformer (ViT-B/16) from ImageNet...\")\n",
    "model = models.vit_b_16(pretrained=True)\n",
    "\n",
    "# Replace final classification layer\n",
    "# ViT uses model.heads.head (nested structure)\n",
    "num_features = model.heads.head.in_features  # Get input features (768)\n",
    "model.heads.head = nn.Linear(num_features, len(classes))  # Replace final layer\n",
    "model = model.to(device)\n",
    "\n",
    "print(f\"✅ Model loaded with {len(classes)} output classes\")\n",
    "\n",
    "# Calculate model parameters and size\n",
    "total_params = sum(p.numel() for p in model.parameters())\n",
    "trainable_params = sum(p.numel() for p in model.parameters() if p.requires_grad)\n",
    "\n",
    "# Calculate model file size\n",
    "with tempfile.NamedTemporaryFile(delete=False, suffix='.pth') as tmp_file:\n",
    "    torch.save(model.state_dict(), tmp_file.name)\n",
    "    model_size_mb = os.path.getsize(tmp_file.name) / (1024 * 1024)\n",
    "    os.unlink(tmp_file.name)\n",
    "\n",
    "print(f\"📊 Total parameters: {total_params:,}\")\n",
    "print(f\"📊 Trainable parameters: {trainable_params:,}\")\n",
    "print(f\"📊 Model file size: {model_size_mb:.2f} MB\")\n",
    "print(f\"📋 Model Architecture:\")\n",
    "print(f\"│ Input size: (3, 224, 224)\")\n",
    "print(f\"│ ViT-B/16 features: 768\")\n",
    "print(f\"│ Output classes: {len(classes)}\")\n",
    "print(f\"│ Patch size: 16x16\")\n",
    "print(f\"│ Sequence length: 196 patches + 1 CLS token\")\n",
    "print(f\"│ Transformer layers: 12\")\n",
    "print(f\"│ Attention heads: 12\")"
   ]
  },
  {
   "cell_type": "code",
   "execution_count": 9,
   "id": "a8dfc3ec",
   "metadata": {
    "execution": {
     "iopub.execute_input": "2025-09-09T12:03:16.216563Z",
     "iopub.status.busy": "2025-09-09T12:03:16.216365Z",
     "iopub.status.idle": "2025-09-09T18:20:24.583941Z",
     "shell.execute_reply": "2025-09-09T18:20:24.583221Z"
    },
    "papermill": {
     "duration": 22628.373988,
     "end_time": "2025-09-09T18:20:24.585519",
     "exception": false,
     "start_time": "2025-09-09T12:03:16.211531",
     "status": "completed"
    },
    "tags": []
   },
   "outputs": [
    {
     "name": "stdout",
     "output_type": "stream",
     "text": [
      "\n",
      "📋 Training Configuration:\n",
      "│ Model: Vision Transformer ViT-B/16 (pretrained)\n",
      "│ Optimizer: Adam (lr=0.0001)\n",
      "│ Loss Function: CrossEntropyLoss\n",
      "│ Batch Size: 32\n",
      "│ Device: cuda\n",
      "│ Data: Filtered (excluding 'random_occlusion')\n",
      "\n",
      "🚀 Starting Vision Transformer Fine-tuning for 50 epochs...\n",
      "================================================================================\n",
      "\n",
      "📈 Epoch 1/50\n",
      "--------------------------------------------------\n",
      "🔄 Training Phase...\n"
     ]
    },
    {
     "name": "stderr",
     "output_type": "stream",
     "text": [
      "Training: 100%|██████████████████████████████| 311/311 [08:09<00:00,  1.57s/it, Loss=0.2618, Acc=0.9079, GPU=1.3GB]\n"
     ]
    },
    {
     "name": "stdout",
     "output_type": "stream",
     "text": [
      "✅ Training completed in 489.80s\n",
      "🔍 Validation Phase...\n"
     ]
    },
    {
     "name": "stderr",
     "output_type": "stream",
     "text": [
      "Validation: 100%|██████████████████████████████| 81/81 [01:10<00:00,  1.16it/s, Loss=0.4579, Acc=0.8366]\n"
     ]
    },
    {
     "name": "stdout",
     "output_type": "stream",
     "text": [
      "✅ Validation completed in 70.12s\n",
      "🌟 New best model found! Validation Loss: 0.4579\n",
      "\n",
      "📊 Epoch 1 Summary:\n",
      "│ Train Loss: 0.2618 | Train Acc: 0.9079\n",
      "│ Val Loss:   0.4579 | Val Acc:   0.8366\n",
      "│ Train Time: 489.80s | Val Time: 70.12s\n",
      "│ Total Epoch Time: 559.92s\n",
      "│ Best Val Loss: 0.4579 (Epoch 1)\n",
      "│ GPU Memory: 1.3GB / 5.0GB\n",
      "================================================================================\n",
      "\n",
      "📈 Epoch 2/50\n",
      "--------------------------------------------------\n",
      "🔄 Training Phase...\n"
     ]
    },
    {
     "name": "stderr",
     "output_type": "stream",
     "text": [
      "Training: 100%|██████████████████████████████| 311/311 [06:44<00:00,  1.30s/it, Loss=0.0557, Acc=0.9821, GPU=1.3GB]\n"
     ]
    },
    {
     "name": "stdout",
     "output_type": "stream",
     "text": [
      "✅ Training completed in 404.43s\n",
      "🔍 Validation Phase...\n"
     ]
    },
    {
     "name": "stderr",
     "output_type": "stream",
     "text": [
      "Validation: 100%|██████████████████████████████| 81/81 [00:44<00:00,  1.83it/s, Loss=0.5307, Acc=0.8587]\n"
     ]
    },
    {
     "name": "stdout",
     "output_type": "stream",
     "text": [
      "✅ Validation completed in 44.35s\n",
      "\n",
      "📊 Epoch 2 Summary:\n",
      "│ Train Loss: 0.0557 | Train Acc: 0.9821\n",
      "│ Val Loss:   0.5307 | Val Acc:   0.8587\n",
      "│ Train Time: 404.43s | Val Time: 44.35s\n",
      "│ Total Epoch Time: 448.78s\n",
      "│ Best Val Loss: 0.4579 (Epoch 1)\n",
      "│ GPU Memory: 1.3GB / 5.0GB\n",
      "================================================================================\n",
      "\n",
      "📈 Epoch 3/50\n",
      "--------------------------------------------------\n",
      "🔄 Training Phase...\n"
     ]
    },
    {
     "name": "stderr",
     "output_type": "stream",
     "text": [
      "Training: 100%|██████████████████████████████| 311/311 [06:40<00:00,  1.29s/it, Loss=0.0464, Acc=0.9844, GPU=1.3GB]\n"
     ]
    },
    {
     "name": "stdout",
     "output_type": "stream",
     "text": [
      "✅ Training completed in 400.97s\n",
      "🔍 Validation Phase...\n"
     ]
    },
    {
     "name": "stderr",
     "output_type": "stream",
     "text": [
      "Validation: 100%|██████████████████████████████| 81/81 [00:44<00:00,  1.82it/s, Loss=0.8493, Acc=0.7803]\n"
     ]
    },
    {
     "name": "stdout",
     "output_type": "stream",
     "text": [
      "✅ Validation completed in 44.53s\n",
      "\n",
      "📊 Epoch 3 Summary:\n",
      "│ Train Loss: 0.0464 | Train Acc: 0.9844\n",
      "│ Val Loss:   0.8493 | Val Acc:   0.7803\n",
      "│ Train Time: 400.97s | Val Time: 44.53s\n",
      "│ Total Epoch Time: 445.51s\n",
      "│ Best Val Loss: 0.4579 (Epoch 1)\n",
      "│ GPU Memory: 1.3GB / 5.0GB\n",
      "================================================================================\n",
      "\n",
      "📈 Epoch 4/50\n",
      "--------------------------------------------------\n",
      "🔄 Training Phase...\n"
     ]
    },
    {
     "name": "stderr",
     "output_type": "stream",
     "text": [
      "Training: 100%|██████████████████████████████| 311/311 [06:40<00:00,  1.29s/it, Loss=0.0314, Acc=0.9896, GPU=1.3GB]\n"
     ]
    },
    {
     "name": "stdout",
     "output_type": "stream",
     "text": [
      "✅ Training completed in 400.61s\n",
      "🔍 Validation Phase...\n"
     ]
    },
    {
     "name": "stderr",
     "output_type": "stream",
     "text": [
      "Validation: 100%|██████████████████████████████| 81/81 [00:44<00:00,  1.84it/s, Loss=0.7934, Acc=0.8405]\n"
     ]
    },
    {
     "name": "stdout",
     "output_type": "stream",
     "text": [
      "✅ Validation completed in 44.14s\n",
      "\n",
      "📊 Epoch 4 Summary:\n",
      "│ Train Loss: 0.0314 | Train Acc: 0.9896\n",
      "│ Val Loss:   0.7934 | Val Acc:   0.8405\n",
      "│ Train Time: 400.61s | Val Time: 44.14s\n",
      "│ Total Epoch Time: 444.75s\n",
      "│ Best Val Loss: 0.4579 (Epoch 1)\n",
      "│ GPU Memory: 1.3GB / 5.0GB\n",
      "================================================================================\n",
      "\n",
      "📈 Epoch 5/50\n",
      "--------------------------------------------------\n",
      "🔄 Training Phase...\n"
     ]
    },
    {
     "name": "stderr",
     "output_type": "stream",
     "text": [
      "Training: 100%|██████████████████████████████| 311/311 [06:40<00:00,  1.29s/it, Loss=0.0272, Acc=0.9919, GPU=1.3GB]\n"
     ]
    },
    {
     "name": "stdout",
     "output_type": "stream",
     "text": [
      "✅ Training completed in 400.49s\n",
      "🔍 Validation Phase...\n"
     ]
    },
    {
     "name": "stderr",
     "output_type": "stream",
     "text": [
      "Validation: 100%|██████████████████████████████| 81/81 [00:44<00:00,  1.82it/s, Loss=0.6338, Acc=0.8327]\n"
     ]
    },
    {
     "name": "stdout",
     "output_type": "stream",
     "text": [
      "✅ Validation completed in 44.48s\n",
      "\n",
      "📊 Epoch 5 Summary:\n",
      "│ Train Loss: 0.0272 | Train Acc: 0.9919\n",
      "│ Val Loss:   0.6338 | Val Acc:   0.8327\n",
      "│ Train Time: 400.49s | Val Time: 44.48s\n",
      "│ Total Epoch Time: 444.97s\n",
      "│ Best Val Loss: 0.4579 (Epoch 1)\n",
      "│ GPU Memory: 1.3GB / 5.0GB\n",
      "================================================================================\n",
      "\n",
      "📈 Epoch 6/50\n",
      "--------------------------------------------------\n",
      "🔄 Training Phase...\n"
     ]
    },
    {
     "name": "stderr",
     "output_type": "stream",
     "text": [
      "Training: 100%|██████████████████████████████| 311/311 [06:40<00:00,  1.29s/it, Loss=0.0315, Acc=0.9899, GPU=1.3GB]\n"
     ]
    },
    {
     "name": "stdout",
     "output_type": "stream",
     "text": [
      "✅ Training completed in 400.97s\n",
      "🔍 Validation Phase...\n"
     ]
    },
    {
     "name": "stderr",
     "output_type": "stream",
     "text": [
      "Validation: 100%|██████████████████████████████| 81/81 [00:44<00:00,  1.82it/s, Loss=0.9742, Acc=0.7714]\n"
     ]
    },
    {
     "name": "stdout",
     "output_type": "stream",
     "text": [
      "✅ Validation completed in 44.43s\n",
      "\n",
      "📊 Epoch 6 Summary:\n",
      "│ Train Loss: 0.0315 | Train Acc: 0.9899\n",
      "│ Val Loss:   0.9742 | Val Acc:   0.7714\n",
      "│ Train Time: 400.97s | Val Time: 44.43s\n",
      "│ Total Epoch Time: 445.41s\n",
      "│ Best Val Loss: 0.4579 (Epoch 1)\n",
      "│ GPU Memory: 1.3GB / 5.0GB\n",
      "================================================================================\n",
      "\n",
      "📈 Epoch 7/50\n",
      "--------------------------------------------------\n",
      "🔄 Training Phase...\n"
     ]
    },
    {
     "name": "stderr",
     "output_type": "stream",
     "text": [
      "Training: 100%|██████████████████████████████| 311/311 [06:40<00:00,  1.29s/it, Loss=0.0417, Acc=0.9852, GPU=1.3GB]\n"
     ]
    },
    {
     "name": "stdout",
     "output_type": "stream",
     "text": [
      "✅ Training completed in 400.18s\n",
      "🔍 Validation Phase...\n"
     ]
    },
    {
     "name": "stderr",
     "output_type": "stream",
     "text": [
      "Validation: 100%|██████████████████████████████| 81/81 [00:43<00:00,  1.85it/s, Loss=0.5659, Acc=0.8591]\n"
     ]
    },
    {
     "name": "stdout",
     "output_type": "stream",
     "text": [
      "✅ Validation completed in 43.72s\n",
      "\n",
      "📊 Epoch 7 Summary:\n",
      "│ Train Loss: 0.0417 | Train Acc: 0.9852\n",
      "│ Val Loss:   0.5659 | Val Acc:   0.8591\n",
      "│ Train Time: 400.18s | Val Time: 43.72s\n",
      "│ Total Epoch Time: 443.90s\n",
      "│ Best Val Loss: 0.4579 (Epoch 1)\n",
      "│ GPU Memory: 1.3GB / 5.0GB\n",
      "================================================================================\n",
      "\n",
      "📈 Epoch 8/50\n",
      "--------------------------------------------------\n",
      "🔄 Training Phase...\n"
     ]
    },
    {
     "name": "stderr",
     "output_type": "stream",
     "text": [
      "Training: 100%|██████████████████████████████| 311/311 [06:39<00:00,  1.28s/it, Loss=0.0249, Acc=0.9909, GPU=1.3GB]\n"
     ]
    },
    {
     "name": "stdout",
     "output_type": "stream",
     "text": [
      "✅ Training completed in 399.19s\n",
      "🔍 Validation Phase...\n"
     ]
    },
    {
     "name": "stderr",
     "output_type": "stream",
     "text": [
      "Validation: 100%|██████████████████████████████| 81/81 [00:43<00:00,  1.85it/s, Loss=0.6823, Acc=0.8230]\n"
     ]
    },
    {
     "name": "stdout",
     "output_type": "stream",
     "text": [
      "✅ Validation completed in 43.87s\n",
      "\n",
      "📊 Epoch 8 Summary:\n",
      "│ Train Loss: 0.0249 | Train Acc: 0.9909\n",
      "│ Val Loss:   0.6823 | Val Acc:   0.8230\n",
      "│ Train Time: 399.19s | Val Time: 43.87s\n",
      "│ Total Epoch Time: 443.06s\n",
      "│ Best Val Loss: 0.4579 (Epoch 1)\n",
      "│ GPU Memory: 1.3GB / 5.0GB\n",
      "================================================================================\n",
      "\n",
      "📈 Epoch 9/50\n",
      "--------------------------------------------------\n",
      "🔄 Training Phase...\n"
     ]
    },
    {
     "name": "stderr",
     "output_type": "stream",
     "text": [
      "Training: 100%|██████████████████████████████| 311/311 [06:40<00:00,  1.29s/it, Loss=0.0146, Acc=0.9956, GPU=1.3GB]\n"
     ]
    },
    {
     "name": "stdout",
     "output_type": "stream",
     "text": [
      "✅ Training completed in 400.03s\n",
      "🔍 Validation Phase...\n"
     ]
    },
    {
     "name": "stderr",
     "output_type": "stream",
     "text": [
      "Validation: 100%|██████████████████████████████| 81/81 [00:44<00:00,  1.84it/s, Loss=0.6745, Acc=0.8370]\n"
     ]
    },
    {
     "name": "stdout",
     "output_type": "stream",
     "text": [
      "✅ Validation completed in 44.08s\n",
      "\n",
      "📊 Epoch 9 Summary:\n",
      "│ Train Loss: 0.0146 | Train Acc: 0.9956\n",
      "│ Val Loss:   0.6745 | Val Acc:   0.8370\n",
      "│ Train Time: 400.03s | Val Time: 44.08s\n",
      "│ Total Epoch Time: 444.11s\n",
      "│ Best Val Loss: 0.4579 (Epoch 1)\n",
      "│ GPU Memory: 1.3GB / 5.0GB\n",
      "================================================================================\n",
      "\n",
      "📈 Epoch 10/50\n",
      "--------------------------------------------------\n",
      "🔄 Training Phase...\n"
     ]
    },
    {
     "name": "stderr",
     "output_type": "stream",
     "text": [
      "Training: 100%|██████████████████████████████| 311/311 [06:40<00:00,  1.29s/it, Loss=0.0154, Acc=0.9952, GPU=1.3GB]\n"
     ]
    },
    {
     "name": "stdout",
     "output_type": "stream",
     "text": [
      "✅ Training completed in 400.11s\n",
      "🔍 Validation Phase...\n"
     ]
    },
    {
     "name": "stderr",
     "output_type": "stream",
     "text": [
      "Validation: 100%|██████████████████████████████| 81/81 [00:44<00:00,  1.83it/s, Loss=0.5847, Acc=0.8552]\n"
     ]
    },
    {
     "name": "stdout",
     "output_type": "stream",
     "text": [
      "✅ Validation completed in 44.33s\n",
      "\n",
      "📊 Epoch 10 Summary:\n",
      "│ Train Loss: 0.0154 | Train Acc: 0.9952\n",
      "│ Val Loss:   0.5847 | Val Acc:   0.8552\n",
      "│ Train Time: 400.11s | Val Time: 44.33s\n",
      "│ Total Epoch Time: 444.45s\n",
      "│ Best Val Loss: 0.4579 (Epoch 1)\n",
      "│ GPU Memory: 1.3GB / 5.0GB\n",
      "================================================================================\n",
      "\n",
      "📈 Epoch 11/50\n",
      "--------------------------------------------------\n",
      "🔄 Training Phase...\n"
     ]
    },
    {
     "name": "stderr",
     "output_type": "stream",
     "text": [
      "Training: 100%|██████████████████████████████| 311/311 [06:40<00:00,  1.29s/it, Loss=0.0309, Acc=0.9896, GPU=1.3GB]\n"
     ]
    },
    {
     "name": "stdout",
     "output_type": "stream",
     "text": [
      "✅ Training completed in 400.30s\n",
      "🔍 Validation Phase...\n"
     ]
    },
    {
     "name": "stderr",
     "output_type": "stream",
     "text": [
      "Validation: 100%|██████████████████████████████| 81/81 [00:44<00:00,  1.83it/s, Loss=0.6149, Acc=0.8086]\n"
     ]
    },
    {
     "name": "stdout",
     "output_type": "stream",
     "text": [
      "✅ Validation completed in 44.20s\n",
      "\n",
      "📊 Epoch 11 Summary:\n",
      "│ Train Loss: 0.0309 | Train Acc: 0.9896\n",
      "│ Val Loss:   0.6149 | Val Acc:   0.8086\n",
      "│ Train Time: 400.30s | Val Time: 44.20s\n",
      "│ Total Epoch Time: 444.50s\n",
      "│ Best Val Loss: 0.4579 (Epoch 1)\n",
      "│ GPU Memory: 1.3GB / 5.0GB\n",
      "================================================================================\n",
      "\n",
      "📈 Epoch 12/50\n",
      "--------------------------------------------------\n",
      "🔄 Training Phase...\n"
     ]
    },
    {
     "name": "stderr",
     "output_type": "stream",
     "text": [
      "Training: 100%|██████████████████████████████| 311/311 [06:39<00:00,  1.29s/it, Loss=0.0222, Acc=0.9922, GPU=1.3GB]\n"
     ]
    },
    {
     "name": "stdout",
     "output_type": "stream",
     "text": [
      "✅ Training completed in 399.75s\n",
      "🔍 Validation Phase...\n"
     ]
    },
    {
     "name": "stderr",
     "output_type": "stream",
     "text": [
      "Validation: 100%|██████████████████████████████| 81/81 [00:44<00:00,  1.83it/s, Loss=0.7875, Acc=0.8377]\n"
     ]
    },
    {
     "name": "stdout",
     "output_type": "stream",
     "text": [
      "✅ Validation completed in 44.38s\n",
      "\n",
      "📊 Epoch 12 Summary:\n",
      "│ Train Loss: 0.0222 | Train Acc: 0.9922\n",
      "│ Val Loss:   0.7875 | Val Acc:   0.8377\n",
      "│ Train Time: 399.75s | Val Time: 44.38s\n",
      "│ Total Epoch Time: 444.13s\n",
      "│ Best Val Loss: 0.4579 (Epoch 1)\n",
      "│ GPU Memory: 1.3GB / 5.0GB\n",
      "================================================================================\n",
      "\n",
      "📈 Epoch 13/50\n",
      "--------------------------------------------------\n",
      "🔄 Training Phase...\n"
     ]
    },
    {
     "name": "stderr",
     "output_type": "stream",
     "text": [
      "Training: 100%|██████████████████████████████| 311/311 [06:40<00:00,  1.29s/it, Loss=0.0171, Acc=0.9942, GPU=1.3GB]\n"
     ]
    },
    {
     "name": "stdout",
     "output_type": "stream",
     "text": [
      "✅ Training completed in 400.34s\n",
      "🔍 Validation Phase...\n"
     ]
    },
    {
     "name": "stderr",
     "output_type": "stream",
     "text": [
      "Validation: 100%|██████████████████████████████| 81/81 [00:44<00:00,  1.81it/s, Loss=0.7729, Acc=0.8144]\n"
     ]
    },
    {
     "name": "stdout",
     "output_type": "stream",
     "text": [
      "✅ Validation completed in 44.69s\n",
      "\n",
      "📊 Epoch 13 Summary:\n",
      "│ Train Loss: 0.0171 | Train Acc: 0.9942\n",
      "│ Val Loss:   0.7729 | Val Acc:   0.8144\n",
      "│ Train Time: 400.34s | Val Time: 44.69s\n",
      "│ Total Epoch Time: 445.03s\n",
      "│ Best Val Loss: 0.4579 (Epoch 1)\n",
      "│ GPU Memory: 1.3GB / 5.0GB\n",
      "================================================================================\n",
      "\n",
      "📈 Epoch 14/50\n",
      "--------------------------------------------------\n",
      "🔄 Training Phase...\n"
     ]
    },
    {
     "name": "stderr",
     "output_type": "stream",
     "text": [
      "Training: 100%|██████████████████████████████| 311/311 [06:40<00:00,  1.29s/it, Loss=0.0254, Acc=0.9920, GPU=1.3GB]\n"
     ]
    },
    {
     "name": "stdout",
     "output_type": "stream",
     "text": [
      "✅ Training completed in 400.91s\n",
      "🔍 Validation Phase...\n"
     ]
    },
    {
     "name": "stderr",
     "output_type": "stream",
     "text": [
      "Validation: 100%|██████████████████████████████| 81/81 [00:44<00:00,  1.84it/s, Loss=0.7162, Acc=0.8560]\n"
     ]
    },
    {
     "name": "stdout",
     "output_type": "stream",
     "text": [
      "✅ Validation completed in 44.07s\n",
      "\n",
      "📊 Epoch 14 Summary:\n",
      "│ Train Loss: 0.0254 | Train Acc: 0.9920\n",
      "│ Val Loss:   0.7162 | Val Acc:   0.8560\n",
      "│ Train Time: 400.91s | Val Time: 44.07s\n",
      "│ Total Epoch Time: 444.98s\n",
      "│ Best Val Loss: 0.4579 (Epoch 1)\n",
      "│ GPU Memory: 1.3GB / 5.0GB\n",
      "================================================================================\n",
      "\n",
      "📈 Epoch 15/50\n",
      "--------------------------------------------------\n",
      "🔄 Training Phase...\n"
     ]
    },
    {
     "name": "stderr",
     "output_type": "stream",
     "text": [
      "Training: 100%|██████████████████████████████| 311/311 [06:40<00:00,  1.29s/it, Loss=0.0003, Acc=1.0000, GPU=1.3GB]\n"
     ]
    },
    {
     "name": "stdout",
     "output_type": "stream",
     "text": [
      "✅ Training completed in 400.57s\n",
      "🔍 Validation Phase...\n"
     ]
    },
    {
     "name": "stderr",
     "output_type": "stream",
     "text": [
      "Validation: 100%|██████████████████████████████| 81/81 [00:44<00:00,  1.82it/s, Loss=0.7450, Acc=0.8575]\n"
     ]
    },
    {
     "name": "stdout",
     "output_type": "stream",
     "text": [
      "✅ Validation completed in 44.48s\n",
      "\n",
      "📊 Epoch 15 Summary:\n",
      "│ Train Loss: 0.0003 | Train Acc: 1.0000\n",
      "│ Val Loss:   0.7450 | Val Acc:   0.8575\n",
      "│ Train Time: 400.57s | Val Time: 44.48s\n",
      "│ Total Epoch Time: 445.06s\n",
      "│ Best Val Loss: 0.4579 (Epoch 1)\n",
      "│ GPU Memory: 1.3GB / 5.0GB\n",
      "================================================================================\n",
      "\n",
      "📈 Epoch 16/50\n",
      "--------------------------------------------------\n",
      "🔄 Training Phase...\n"
     ]
    },
    {
     "name": "stderr",
     "output_type": "stream",
     "text": [
      "Training: 100%|██████████████████████████████| 311/311 [06:40<00:00,  1.29s/it, Loss=0.0001, Acc=1.0000, GPU=1.3GB]\n"
     ]
    },
    {
     "name": "stdout",
     "output_type": "stream",
     "text": [
      "✅ Training completed in 400.85s\n",
      "🔍 Validation Phase...\n"
     ]
    },
    {
     "name": "stderr",
     "output_type": "stream",
     "text": [
      "Validation: 100%|██████████████████████████████| 81/81 [00:44<00:00,  1.82it/s, Loss=0.7553, Acc=0.8626]\n"
     ]
    },
    {
     "name": "stdout",
     "output_type": "stream",
     "text": [
      "✅ Validation completed in 44.60s\n",
      "\n",
      "📊 Epoch 16 Summary:\n",
      "│ Train Loss: 0.0001 | Train Acc: 1.0000\n",
      "│ Val Loss:   0.7553 | Val Acc:   0.8626\n",
      "│ Train Time: 400.85s | Val Time: 44.60s\n",
      "│ Total Epoch Time: 445.45s\n",
      "│ Best Val Loss: 0.4579 (Epoch 1)\n",
      "│ GPU Memory: 1.3GB / 5.0GB\n",
      "================================================================================\n",
      "\n",
      "📈 Epoch 17/50\n",
      "--------------------------------------------------\n",
      "🔄 Training Phase...\n"
     ]
    },
    {
     "name": "stderr",
     "output_type": "stream",
     "text": [
      "Training: 100%|██████████████████████████████| 311/311 [06:44<00:00,  1.30s/it, Loss=0.0001, Acc=1.0000, GPU=1.3GB]\n"
     ]
    },
    {
     "name": "stdout",
     "output_type": "stream",
     "text": [
      "✅ Training completed in 404.31s\n",
      "🔍 Validation Phase...\n"
     ]
    },
    {
     "name": "stderr",
     "output_type": "stream",
     "text": [
      "Validation: 100%|██████████████████████████████| 81/81 [00:44<00:00,  1.80it/s, Loss=0.7740, Acc=0.8637]\n"
     ]
    },
    {
     "name": "stdout",
     "output_type": "stream",
     "text": [
      "✅ Validation completed in 44.93s\n",
      "\n",
      "📊 Epoch 17 Summary:\n",
      "│ Train Loss: 0.0001 | Train Acc: 1.0000\n",
      "│ Val Loss:   0.7740 | Val Acc:   0.8637\n",
      "│ Train Time: 404.31s | Val Time: 44.93s\n",
      "│ Total Epoch Time: 449.24s\n",
      "│ Best Val Loss: 0.4579 (Epoch 1)\n",
      "│ GPU Memory: 1.3GB / 5.0GB\n",
      "================================================================================\n",
      "\n",
      "📈 Epoch 18/50\n",
      "--------------------------------------------------\n",
      "🔄 Training Phase...\n"
     ]
    },
    {
     "name": "stderr",
     "output_type": "stream",
     "text": [
      "Training: 100%|██████████████████████████████| 311/311 [06:41<00:00,  1.29s/it, Loss=0.0000, Acc=1.0000, GPU=1.3GB]\n"
     ]
    },
    {
     "name": "stdout",
     "output_type": "stream",
     "text": [
      "✅ Training completed in 401.99s\n",
      "🔍 Validation Phase...\n"
     ]
    },
    {
     "name": "stderr",
     "output_type": "stream",
     "text": [
      "Validation: 100%|██████████████████████████████| 81/81 [00:45<00:00,  1.80it/s, Loss=0.7884, Acc=0.8649]\n"
     ]
    },
    {
     "name": "stdout",
     "output_type": "stream",
     "text": [
      "✅ Validation completed in 45.04s\n",
      "\n",
      "📊 Epoch 18 Summary:\n",
      "│ Train Loss: 0.0000 | Train Acc: 1.0000\n",
      "│ Val Loss:   0.7884 | Val Acc:   0.8649\n",
      "│ Train Time: 401.99s | Val Time: 45.04s\n",
      "│ Total Epoch Time: 447.03s\n",
      "│ Best Val Loss: 0.4579 (Epoch 1)\n",
      "│ GPU Memory: 1.3GB / 5.0GB\n",
      "================================================================================\n",
      "\n",
      "📈 Epoch 19/50\n",
      "--------------------------------------------------\n",
      "🔄 Training Phase...\n"
     ]
    },
    {
     "name": "stderr",
     "output_type": "stream",
     "text": [
      "Training: 100%|██████████████████████████████| 311/311 [06:42<00:00,  1.29s/it, Loss=0.0000, Acc=1.0000, GPU=1.3GB]\n"
     ]
    },
    {
     "name": "stdout",
     "output_type": "stream",
     "text": [
      "✅ Training completed in 402.56s\n",
      "🔍 Validation Phase...\n"
     ]
    },
    {
     "name": "stderr",
     "output_type": "stream",
     "text": [
      "Validation: 100%|██████████████████████████████| 81/81 [00:44<00:00,  1.81it/s, Loss=0.8028, Acc=0.8661]\n"
     ]
    },
    {
     "name": "stdout",
     "output_type": "stream",
     "text": [
      "✅ Validation completed in 44.80s\n",
      "\n",
      "📊 Epoch 19 Summary:\n",
      "│ Train Loss: 0.0000 | Train Acc: 1.0000\n",
      "│ Val Loss:   0.8028 | Val Acc:   0.8661\n",
      "│ Train Time: 402.56s | Val Time: 44.80s\n",
      "│ Total Epoch Time: 447.36s\n",
      "│ Best Val Loss: 0.4579 (Epoch 1)\n",
      "│ GPU Memory: 1.3GB / 5.0GB\n",
      "================================================================================\n",
      "\n",
      "📈 Epoch 20/50\n",
      "--------------------------------------------------\n",
      "🔄 Training Phase...\n"
     ]
    },
    {
     "name": "stderr",
     "output_type": "stream",
     "text": [
      "Training: 100%|██████████████████████████████| 311/311 [06:45<00:00,  1.31s/it, Loss=0.0000, Acc=1.0000, GPU=1.3GB]\n"
     ]
    },
    {
     "name": "stdout",
     "output_type": "stream",
     "text": [
      "✅ Training completed in 405.90s\n",
      "🔍 Validation Phase...\n"
     ]
    },
    {
     "name": "stderr",
     "output_type": "stream",
     "text": [
      "Validation: 100%|██████████████████████████████| 81/81 [00:44<00:00,  1.80it/s, Loss=0.8159, Acc=0.8661]\n"
     ]
    },
    {
     "name": "stdout",
     "output_type": "stream",
     "text": [
      "✅ Validation completed in 44.91s\n",
      "\n",
      "📊 Epoch 20 Summary:\n",
      "│ Train Loss: 0.0000 | Train Acc: 1.0000\n",
      "│ Val Loss:   0.8159 | Val Acc:   0.8661\n",
      "│ Train Time: 405.90s | Val Time: 44.91s\n",
      "│ Total Epoch Time: 450.82s\n",
      "│ Best Val Loss: 0.4579 (Epoch 1)\n",
      "│ GPU Memory: 1.3GB / 5.0GB\n",
      "================================================================================\n",
      "\n",
      "📈 Epoch 21/50\n",
      "--------------------------------------------------\n",
      "🔄 Training Phase...\n"
     ]
    },
    {
     "name": "stderr",
     "output_type": "stream",
     "text": [
      "Training: 100%|██████████████████████████████| 311/311 [06:41<00:00,  1.29s/it, Loss=0.0000, Acc=1.0000, GPU=1.3GB]\n"
     ]
    },
    {
     "name": "stdout",
     "output_type": "stream",
     "text": [
      "✅ Training completed in 401.74s\n",
      "🔍 Validation Phase...\n"
     ]
    },
    {
     "name": "stderr",
     "output_type": "stream",
     "text": [
      "Validation: 100%|██████████████████████████████| 81/81 [00:44<00:00,  1.83it/s, Loss=0.8288, Acc=0.8665]\n"
     ]
    },
    {
     "name": "stdout",
     "output_type": "stream",
     "text": [
      "✅ Validation completed in 44.20s\n",
      "\n",
      "📊 Epoch 21 Summary:\n",
      "│ Train Loss: 0.0000 | Train Acc: 1.0000\n",
      "│ Val Loss:   0.8288 | Val Acc:   0.8665\n",
      "│ Train Time: 401.74s | Val Time: 44.20s\n",
      "│ Total Epoch Time: 445.94s\n",
      "│ Best Val Loss: 0.4579 (Epoch 1)\n",
      "│ GPU Memory: 1.3GB / 5.0GB\n",
      "================================================================================\n",
      "\n",
      "📈 Epoch 22/50\n",
      "--------------------------------------------------\n",
      "🔄 Training Phase...\n"
     ]
    },
    {
     "name": "stderr",
     "output_type": "stream",
     "text": [
      "Training: 100%|██████████████████████████████| 311/311 [06:41<00:00,  1.29s/it, Loss=0.0000, Acc=1.0000, GPU=1.3GB]\n"
     ]
    },
    {
     "name": "stdout",
     "output_type": "stream",
     "text": [
      "✅ Training completed in 401.39s\n",
      "🔍 Validation Phase...\n"
     ]
    },
    {
     "name": "stderr",
     "output_type": "stream",
     "text": [
      "Validation: 100%|██████████████████████████████| 81/81 [00:44<00:00,  1.80it/s, Loss=0.8419, Acc=0.8661]\n"
     ]
    },
    {
     "name": "stdout",
     "output_type": "stream",
     "text": [
      "✅ Validation completed in 44.93s\n",
      "\n",
      "📊 Epoch 22 Summary:\n",
      "│ Train Loss: 0.0000 | Train Acc: 1.0000\n",
      "│ Val Loss:   0.8419 | Val Acc:   0.8661\n",
      "│ Train Time: 401.39s | Val Time: 44.93s\n",
      "│ Total Epoch Time: 446.33s\n",
      "│ Best Val Loss: 0.4579 (Epoch 1)\n",
      "│ GPU Memory: 1.3GB / 5.0GB\n",
      "================================================================================\n",
      "\n",
      "📈 Epoch 23/50\n",
      "--------------------------------------------------\n",
      "🔄 Training Phase...\n"
     ]
    },
    {
     "name": "stderr",
     "output_type": "stream",
     "text": [
      "Training: 100%|██████████████████████████████| 311/311 [06:42<00:00,  1.30s/it, Loss=0.0000, Acc=1.0000, GPU=1.3GB]\n"
     ]
    },
    {
     "name": "stdout",
     "output_type": "stream",
     "text": [
      "✅ Training completed in 402.94s\n",
      "🔍 Validation Phase...\n"
     ]
    },
    {
     "name": "stderr",
     "output_type": "stream",
     "text": [
      "Validation: 100%|██████████████████████████████| 81/81 [00:44<00:00,  1.81it/s, Loss=0.8548, Acc=0.8665]\n"
     ]
    },
    {
     "name": "stdout",
     "output_type": "stream",
     "text": [
      "✅ Validation completed in 44.69s\n",
      "\n",
      "📊 Epoch 23 Summary:\n",
      "│ Train Loss: 0.0000 | Train Acc: 1.0000\n",
      "│ Val Loss:   0.8548 | Val Acc:   0.8665\n",
      "│ Train Time: 402.94s | Val Time: 44.69s\n",
      "│ Total Epoch Time: 447.64s\n",
      "│ Best Val Loss: 0.4579 (Epoch 1)\n",
      "│ GPU Memory: 1.3GB / 5.0GB\n",
      "================================================================================\n",
      "\n",
      "📈 Epoch 24/50\n",
      "--------------------------------------------------\n",
      "🔄 Training Phase...\n"
     ]
    },
    {
     "name": "stderr",
     "output_type": "stream",
     "text": [
      "Training: 100%|██████████████████████████████| 311/311 [06:41<00:00,  1.29s/it, Loss=0.0000, Acc=1.0000, GPU=1.3GB]\n"
     ]
    },
    {
     "name": "stdout",
     "output_type": "stream",
     "text": [
      "✅ Training completed in 401.82s\n",
      "🔍 Validation Phase...\n"
     ]
    },
    {
     "name": "stderr",
     "output_type": "stream",
     "text": [
      "Validation: 100%|██████████████████████████████| 81/81 [00:44<00:00,  1.83it/s, Loss=0.8669, Acc=0.8672]\n"
     ]
    },
    {
     "name": "stdout",
     "output_type": "stream",
     "text": [
      "✅ Validation completed in 44.16s\n",
      "\n",
      "📊 Epoch 24 Summary:\n",
      "│ Train Loss: 0.0000 | Train Acc: 1.0000\n",
      "│ Val Loss:   0.8669 | Val Acc:   0.8672\n",
      "│ Train Time: 401.82s | Val Time: 44.16s\n",
      "│ Total Epoch Time: 445.98s\n",
      "│ Best Val Loss: 0.4579 (Epoch 1)\n",
      "│ GPU Memory: 1.3GB / 5.0GB\n",
      "================================================================================\n",
      "\n",
      "📈 Epoch 25/50\n",
      "--------------------------------------------------\n",
      "🔄 Training Phase...\n"
     ]
    },
    {
     "name": "stderr",
     "output_type": "stream",
     "text": [
      "Training: 100%|██████████████████████████████| 311/311 [06:40<00:00,  1.29s/it, Loss=0.0000, Acc=1.0000, GPU=1.3GB]\n"
     ]
    },
    {
     "name": "stdout",
     "output_type": "stream",
     "text": [
      "✅ Training completed in 400.07s\n",
      "🔍 Validation Phase...\n"
     ]
    },
    {
     "name": "stderr",
     "output_type": "stream",
     "text": [
      "Validation: 100%|██████████████████████████████| 81/81 [00:44<00:00,  1.83it/s, Loss=0.8791, Acc=0.8676]\n"
     ]
    },
    {
     "name": "stdout",
     "output_type": "stream",
     "text": [
      "✅ Validation completed in 44.30s\n",
      "\n",
      "📊 Epoch 25 Summary:\n",
      "│ Train Loss: 0.0000 | Train Acc: 1.0000\n",
      "│ Val Loss:   0.8791 | Val Acc:   0.8676\n",
      "│ Train Time: 400.07s | Val Time: 44.30s\n",
      "│ Total Epoch Time: 444.38s\n",
      "│ Best Val Loss: 0.4579 (Epoch 1)\n",
      "│ GPU Memory: 1.3GB / 5.0GB\n",
      "================================================================================\n",
      "\n",
      "📈 Epoch 26/50\n",
      "--------------------------------------------------\n",
      "🔄 Training Phase...\n"
     ]
    },
    {
     "name": "stderr",
     "output_type": "stream",
     "text": [
      "Training: 100%|██████████████████████████████| 311/311 [06:40<00:00,  1.29s/it, Loss=0.0000, Acc=1.0000, GPU=1.3GB]\n"
     ]
    },
    {
     "name": "stdout",
     "output_type": "stream",
     "text": [
      "✅ Training completed in 400.47s\n",
      "🔍 Validation Phase...\n"
     ]
    },
    {
     "name": "stderr",
     "output_type": "stream",
     "text": [
      "Validation: 100%|██████████████████████████████| 81/81 [00:44<00:00,  1.82it/s, Loss=0.8914, Acc=0.8684]\n"
     ]
    },
    {
     "name": "stdout",
     "output_type": "stream",
     "text": [
      "✅ Validation completed in 44.60s\n",
      "\n",
      "📊 Epoch 26 Summary:\n",
      "│ Train Loss: 0.0000 | Train Acc: 1.0000\n",
      "│ Val Loss:   0.8914 | Val Acc:   0.8684\n",
      "│ Train Time: 400.47s | Val Time: 44.60s\n",
      "│ Total Epoch Time: 445.08s\n",
      "│ Best Val Loss: 0.4579 (Epoch 1)\n",
      "│ GPU Memory: 1.3GB / 5.0GB\n",
      "================================================================================\n",
      "\n",
      "📈 Epoch 27/50\n",
      "--------------------------------------------------\n",
      "🔄 Training Phase...\n"
     ]
    },
    {
     "name": "stderr",
     "output_type": "stream",
     "text": [
      "Training: 100%|██████████████████████████████| 311/311 [06:40<00:00,  1.29s/it, Loss=0.0000, Acc=1.0000, GPU=1.3GB]\n"
     ]
    },
    {
     "name": "stdout",
     "output_type": "stream",
     "text": [
      "✅ Training completed in 400.45s\n",
      "🔍 Validation Phase...\n"
     ]
    },
    {
     "name": "stderr",
     "output_type": "stream",
     "text": [
      "Validation: 100%|██████████████████████████████| 81/81 [00:44<00:00,  1.82it/s, Loss=0.9040, Acc=0.8680]\n"
     ]
    },
    {
     "name": "stdout",
     "output_type": "stream",
     "text": [
      "✅ Validation completed in 44.55s\n",
      "\n",
      "📊 Epoch 27 Summary:\n",
      "│ Train Loss: 0.0000 | Train Acc: 1.0000\n",
      "│ Val Loss:   0.9040 | Val Acc:   0.8680\n",
      "│ Train Time: 400.45s | Val Time: 44.55s\n",
      "│ Total Epoch Time: 445.00s\n",
      "│ Best Val Loss: 0.4579 (Epoch 1)\n",
      "│ GPU Memory: 1.3GB / 5.0GB\n",
      "================================================================================\n",
      "\n",
      "📈 Epoch 28/50\n",
      "--------------------------------------------------\n",
      "🔄 Training Phase...\n"
     ]
    },
    {
     "name": "stderr",
     "output_type": "stream",
     "text": [
      "Training: 100%|██████████████████████████████| 311/311 [06:42<00:00,  1.30s/it, Loss=0.0000, Acc=1.0000, GPU=1.3GB]\n"
     ]
    },
    {
     "name": "stdout",
     "output_type": "stream",
     "text": [
      "✅ Training completed in 402.98s\n",
      "🔍 Validation Phase...\n"
     ]
    },
    {
     "name": "stderr",
     "output_type": "stream",
     "text": [
      "Validation: 100%|██████████████████████████████| 81/81 [00:46<00:00,  1.75it/s, Loss=0.9159, Acc=0.8676]\n"
     ]
    },
    {
     "name": "stdout",
     "output_type": "stream",
     "text": [
      "✅ Validation completed in 46.34s\n",
      "\n",
      "📊 Epoch 28 Summary:\n",
      "│ Train Loss: 0.0000 | Train Acc: 1.0000\n",
      "│ Val Loss:   0.9159 | Val Acc:   0.8676\n",
      "│ Train Time: 402.98s | Val Time: 46.34s\n",
      "│ Total Epoch Time: 449.32s\n",
      "│ Best Val Loss: 0.4579 (Epoch 1)\n",
      "│ GPU Memory: 1.3GB / 5.0GB\n",
      "================================================================================\n",
      "\n",
      "📈 Epoch 29/50\n",
      "--------------------------------------------------\n",
      "🔄 Training Phase...\n"
     ]
    },
    {
     "name": "stderr",
     "output_type": "stream",
     "text": [
      "Training: 100%|██████████████████████████████| 311/311 [06:50<00:00,  1.32s/it, Loss=0.0000, Acc=1.0000, GPU=1.3GB]\n"
     ]
    },
    {
     "name": "stdout",
     "output_type": "stream",
     "text": [
      "✅ Training completed in 410.03s\n",
      "🔍 Validation Phase...\n"
     ]
    },
    {
     "name": "stderr",
     "output_type": "stream",
     "text": [
      "Validation: 100%|██████████████████████████████| 81/81 [00:47<00:00,  1.71it/s, Loss=0.9283, Acc=0.8672]\n"
     ]
    },
    {
     "name": "stdout",
     "output_type": "stream",
     "text": [
      "✅ Validation completed in 47.31s\n",
      "\n",
      "📊 Epoch 29 Summary:\n",
      "│ Train Loss: 0.0000 | Train Acc: 1.0000\n",
      "│ Val Loss:   0.9283 | Val Acc:   0.8672\n",
      "│ Train Time: 410.03s | Val Time: 47.31s\n",
      "│ Total Epoch Time: 457.34s\n",
      "│ Best Val Loss: 0.4579 (Epoch 1)\n",
      "│ GPU Memory: 1.3GB / 5.0GB\n",
      "================================================================================\n",
      "\n",
      "📈 Epoch 30/50\n",
      "--------------------------------------------------\n",
      "🔄 Training Phase...\n"
     ]
    },
    {
     "name": "stderr",
     "output_type": "stream",
     "text": [
      "Training: 100%|██████████████████████████████| 311/311 [06:48<00:00,  1.31s/it, Loss=0.0000, Acc=1.0000, GPU=1.3GB]\n"
     ]
    },
    {
     "name": "stdout",
     "output_type": "stream",
     "text": [
      "✅ Training completed in 408.51s\n",
      "🔍 Validation Phase...\n"
     ]
    },
    {
     "name": "stderr",
     "output_type": "stream",
     "text": [
      "Validation: 100%|██████████████████████████████| 81/81 [00:46<00:00,  1.72it/s, Loss=0.9403, Acc=0.8680]\n"
     ]
    },
    {
     "name": "stdout",
     "output_type": "stream",
     "text": [
      "✅ Validation completed in 46.97s\n",
      "\n",
      "📊 Epoch 30 Summary:\n",
      "│ Train Loss: 0.0000 | Train Acc: 1.0000\n",
      "│ Val Loss:   0.9403 | Val Acc:   0.8680\n",
      "│ Train Time: 408.51s | Val Time: 46.97s\n",
      "│ Total Epoch Time: 455.49s\n",
      "│ Best Val Loss: 0.4579 (Epoch 1)\n",
      "│ GPU Memory: 1.3GB / 5.0GB\n",
      "================================================================================\n",
      "\n",
      "📈 Epoch 31/50\n",
      "--------------------------------------------------\n",
      "🔄 Training Phase...\n"
     ]
    },
    {
     "name": "stderr",
     "output_type": "stream",
     "text": [
      "Training: 100%|██████████████████████████████| 311/311 [06:47<00:00,  1.31s/it, Loss=0.0000, Acc=1.0000, GPU=1.3GB]\n"
     ]
    },
    {
     "name": "stdout",
     "output_type": "stream",
     "text": [
      "✅ Training completed in 407.26s\n",
      "🔍 Validation Phase...\n"
     ]
    },
    {
     "name": "stderr",
     "output_type": "stream",
     "text": [
      "Validation: 100%|██████████████████████████████| 81/81 [00:46<00:00,  1.73it/s, Loss=0.9527, Acc=0.8676]\n"
     ]
    },
    {
     "name": "stdout",
     "output_type": "stream",
     "text": [
      "✅ Validation completed in 46.71s\n",
      "\n",
      "📊 Epoch 31 Summary:\n",
      "│ Train Loss: 0.0000 | Train Acc: 1.0000\n",
      "│ Val Loss:   0.9527 | Val Acc:   0.8676\n",
      "│ Train Time: 407.26s | Val Time: 46.71s\n",
      "│ Total Epoch Time: 453.98s\n",
      "│ Best Val Loss: 0.4579 (Epoch 1)\n",
      "│ GPU Memory: 1.3GB / 5.0GB\n",
      "================================================================================\n",
      "\n",
      "📈 Epoch 32/50\n",
      "--------------------------------------------------\n",
      "🔄 Training Phase...\n"
     ]
    },
    {
     "name": "stderr",
     "output_type": "stream",
     "text": [
      "Training: 100%|██████████████████████████████| 311/311 [06:47<00:00,  1.31s/it, Loss=0.0000, Acc=1.0000, GPU=1.3GB]\n"
     ]
    },
    {
     "name": "stdout",
     "output_type": "stream",
     "text": [
      "✅ Training completed in 407.78s\n",
      "🔍 Validation Phase...\n"
     ]
    },
    {
     "name": "stderr",
     "output_type": "stream",
     "text": [
      "Validation: 100%|██████████████████████████████| 81/81 [00:47<00:00,  1.70it/s, Loss=0.9653, Acc=0.8672]\n"
     ]
    },
    {
     "name": "stdout",
     "output_type": "stream",
     "text": [
      "✅ Validation completed in 47.53s\n",
      "\n",
      "📊 Epoch 32 Summary:\n",
      "│ Train Loss: 0.0000 | Train Acc: 1.0000\n",
      "│ Val Loss:   0.9653 | Val Acc:   0.8672\n",
      "│ Train Time: 407.78s | Val Time: 47.53s\n",
      "│ Total Epoch Time: 455.31s\n",
      "│ Best Val Loss: 0.4579 (Epoch 1)\n",
      "│ GPU Memory: 1.3GB / 5.0GB\n",
      "================================================================================\n",
      "\n",
      "📈 Epoch 33/50\n",
      "--------------------------------------------------\n",
      "🔄 Training Phase...\n"
     ]
    },
    {
     "name": "stderr",
     "output_type": "stream",
     "text": [
      "Training: 100%|██████████████████████████████| 311/311 [06:50<00:00,  1.32s/it, Loss=0.0000, Acc=1.0000, GPU=1.3GB]\n"
     ]
    },
    {
     "name": "stdout",
     "output_type": "stream",
     "text": [
      "✅ Training completed in 410.60s\n",
      "🔍 Validation Phase...\n"
     ]
    },
    {
     "name": "stderr",
     "output_type": "stream",
     "text": [
      "Validation: 100%|██████████████████████████████| 81/81 [00:48<00:00,  1.69it/s, Loss=0.9779, Acc=0.8676]\n"
     ]
    },
    {
     "name": "stdout",
     "output_type": "stream",
     "text": [
      "✅ Validation completed in 48.07s\n",
      "\n",
      "📊 Epoch 33 Summary:\n",
      "│ Train Loss: 0.0000 | Train Acc: 1.0000\n",
      "│ Val Loss:   0.9779 | Val Acc:   0.8676\n",
      "│ Train Time: 410.60s | Val Time: 48.07s\n",
      "│ Total Epoch Time: 458.67s\n",
      "│ Best Val Loss: 0.4579 (Epoch 1)\n",
      "│ GPU Memory: 1.3GB / 5.0GB\n",
      "================================================================================\n",
      "\n",
      "📈 Epoch 34/50\n",
      "--------------------------------------------------\n",
      "🔄 Training Phase...\n"
     ]
    },
    {
     "name": "stderr",
     "output_type": "stream",
     "text": [
      "Training: 100%|██████████████████████████████| 311/311 [06:48<00:00,  1.31s/it, Loss=0.0000, Acc=1.0000, GPU=1.3GB]\n"
     ]
    },
    {
     "name": "stdout",
     "output_type": "stream",
     "text": [
      "✅ Training completed in 408.77s\n",
      "🔍 Validation Phase...\n"
     ]
    },
    {
     "name": "stderr",
     "output_type": "stream",
     "text": [
      "Validation: 100%|██████████████████████████████| 81/81 [00:46<00:00,  1.75it/s, Loss=0.9903, Acc=0.8680]\n"
     ]
    },
    {
     "name": "stdout",
     "output_type": "stream",
     "text": [
      "✅ Validation completed in 46.39s\n",
      "\n",
      "📊 Epoch 34 Summary:\n",
      "│ Train Loss: 0.0000 | Train Acc: 1.0000\n",
      "│ Val Loss:   0.9903 | Val Acc:   0.8680\n",
      "│ Train Time: 408.77s | Val Time: 46.39s\n",
      "│ Total Epoch Time: 455.16s\n",
      "│ Best Val Loss: 0.4579 (Epoch 1)\n",
      "│ GPU Memory: 1.3GB / 5.0GB\n",
      "================================================================================\n",
      "\n",
      "📈 Epoch 35/50\n",
      "--------------------------------------------------\n",
      "🔄 Training Phase...\n"
     ]
    },
    {
     "name": "stderr",
     "output_type": "stream",
     "text": [
      "Training: 100%|██████████████████████████████| 311/311 [06:46<00:00,  1.31s/it, Loss=0.0000, Acc=1.0000, GPU=1.3GB]\n"
     ]
    },
    {
     "name": "stdout",
     "output_type": "stream",
     "text": [
      "✅ Training completed in 406.93s\n",
      "🔍 Validation Phase...\n"
     ]
    },
    {
     "name": "stderr",
     "output_type": "stream",
     "text": [
      "Validation: 100%|██████████████████████████████| 81/81 [00:46<00:00,  1.74it/s, Loss=1.0033, Acc=0.8676]\n"
     ]
    },
    {
     "name": "stdout",
     "output_type": "stream",
     "text": [
      "✅ Validation completed in 46.49s\n",
      "\n",
      "📊 Epoch 35 Summary:\n",
      "│ Train Loss: 0.0000 | Train Acc: 1.0000\n",
      "│ Val Loss:   1.0033 | Val Acc:   0.8676\n",
      "│ Train Time: 406.93s | Val Time: 46.49s\n",
      "│ Total Epoch Time: 453.42s\n",
      "│ Best Val Loss: 0.4579 (Epoch 1)\n",
      "│ GPU Memory: 1.3GB / 5.0GB\n",
      "================================================================================\n",
      "\n",
      "📈 Epoch 36/50\n",
      "--------------------------------------------------\n",
      "🔄 Training Phase...\n"
     ]
    },
    {
     "name": "stderr",
     "output_type": "stream",
     "text": [
      "Training: 100%|██████████████████████████████| 311/311 [06:47<00:00,  1.31s/it, Loss=0.0000, Acc=1.0000, GPU=1.3GB]\n"
     ]
    },
    {
     "name": "stdout",
     "output_type": "stream",
     "text": [
      "✅ Training completed in 407.12s\n",
      "🔍 Validation Phase...\n"
     ]
    },
    {
     "name": "stderr",
     "output_type": "stream",
     "text": [
      "Validation: 100%|██████████████████████████████| 81/81 [00:47<00:00,  1.70it/s, Loss=1.0158, Acc=0.8680]\n"
     ]
    },
    {
     "name": "stdout",
     "output_type": "stream",
     "text": [
      "✅ Validation completed in 47.71s\n",
      "\n",
      "📊 Epoch 36 Summary:\n",
      "│ Train Loss: 0.0000 | Train Acc: 1.0000\n",
      "│ Val Loss:   1.0158 | Val Acc:   0.8680\n",
      "│ Train Time: 407.12s | Val Time: 47.71s\n",
      "│ Total Epoch Time: 454.83s\n",
      "│ Best Val Loss: 0.4579 (Epoch 1)\n",
      "│ GPU Memory: 1.3GB / 5.0GB\n",
      "================================================================================\n",
      "\n",
      "📈 Epoch 37/50\n",
      "--------------------------------------------------\n",
      "🔄 Training Phase...\n"
     ]
    },
    {
     "name": "stderr",
     "output_type": "stream",
     "text": [
      "Training: 100%|██████████████████████████████| 311/311 [06:45<00:00,  1.30s/it, Loss=0.0000, Acc=1.0000, GPU=1.3GB]\n"
     ]
    },
    {
     "name": "stdout",
     "output_type": "stream",
     "text": [
      "✅ Training completed in 405.68s\n",
      "🔍 Validation Phase...\n"
     ]
    },
    {
     "name": "stderr",
     "output_type": "stream",
     "text": [
      "Validation: 100%|██████████████████████████████| 81/81 [00:44<00:00,  1.80it/s, Loss=1.0289, Acc=0.8684]\n"
     ]
    },
    {
     "name": "stdout",
     "output_type": "stream",
     "text": [
      "✅ Validation completed in 44.88s\n",
      "\n",
      "📊 Epoch 37 Summary:\n",
      "│ Train Loss: 0.0000 | Train Acc: 1.0000\n",
      "│ Val Loss:   1.0289 | Val Acc:   0.8684\n",
      "│ Train Time: 405.68s | Val Time: 44.88s\n",
      "│ Total Epoch Time: 450.57s\n",
      "│ Best Val Loss: 0.4579 (Epoch 1)\n",
      "│ GPU Memory: 1.3GB / 5.0GB\n",
      "================================================================================\n",
      "\n",
      "📈 Epoch 38/50\n",
      "--------------------------------------------------\n",
      "🔄 Training Phase...\n"
     ]
    },
    {
     "name": "stderr",
     "output_type": "stream",
     "text": [
      "Training: 100%|██████████████████████████████| 311/311 [06:42<00:00,  1.29s/it, Loss=0.0000, Acc=1.0000, GPU=1.3GB]\n"
     ]
    },
    {
     "name": "stdout",
     "output_type": "stream",
     "text": [
      "✅ Training completed in 402.35s\n",
      "🔍 Validation Phase...\n"
     ]
    },
    {
     "name": "stderr",
     "output_type": "stream",
     "text": [
      "Validation: 100%|██████████████████████████████| 81/81 [00:43<00:00,  1.85it/s, Loss=1.0423, Acc=0.8688]\n"
     ]
    },
    {
     "name": "stdout",
     "output_type": "stream",
     "text": [
      "✅ Validation completed in 43.71s\n",
      "\n",
      "📊 Epoch 38 Summary:\n",
      "│ Train Loss: 0.0000 | Train Acc: 1.0000\n",
      "│ Val Loss:   1.0423 | Val Acc:   0.8688\n",
      "│ Train Time: 402.35s | Val Time: 43.71s\n",
      "│ Total Epoch Time: 446.06s\n",
      "│ Best Val Loss: 0.4579 (Epoch 1)\n",
      "│ GPU Memory: 1.3GB / 5.0GB\n",
      "================================================================================\n",
      "\n",
      "📈 Epoch 39/50\n",
      "--------------------------------------------------\n",
      "🔄 Training Phase...\n"
     ]
    },
    {
     "name": "stderr",
     "output_type": "stream",
     "text": [
      "Training: 100%|██████████████████████████████| 311/311 [06:40<00:00,  1.29s/it, Loss=0.0000, Acc=1.0000, GPU=1.3GB]\n"
     ]
    },
    {
     "name": "stdout",
     "output_type": "stream",
     "text": [
      "✅ Training completed in 400.84s\n",
      "🔍 Validation Phase...\n"
     ]
    },
    {
     "name": "stderr",
     "output_type": "stream",
     "text": [
      "Validation: 100%|██████████████████████████████| 81/81 [00:44<00:00,  1.84it/s, Loss=1.0557, Acc=0.8696]\n"
     ]
    },
    {
     "name": "stdout",
     "output_type": "stream",
     "text": [
      "✅ Validation completed in 44.08s\n",
      "\n",
      "📊 Epoch 39 Summary:\n",
      "│ Train Loss: 0.0000 | Train Acc: 1.0000\n",
      "│ Val Loss:   1.0557 | Val Acc:   0.8696\n",
      "│ Train Time: 400.84s | Val Time: 44.08s\n",
      "│ Total Epoch Time: 444.92s\n",
      "│ Best Val Loss: 0.4579 (Epoch 1)\n",
      "│ GPU Memory: 1.3GB / 5.0GB\n",
      "================================================================================\n",
      "\n",
      "📈 Epoch 40/50\n",
      "--------------------------------------------------\n",
      "🔄 Training Phase...\n"
     ]
    },
    {
     "name": "stderr",
     "output_type": "stream",
     "text": [
      "Training: 100%|██████████████████████████████| 311/311 [06:44<00:00,  1.30s/it, Loss=0.0000, Acc=1.0000, GPU=1.3GB]\n"
     ]
    },
    {
     "name": "stdout",
     "output_type": "stream",
     "text": [
      "✅ Training completed in 404.85s\n",
      "🔍 Validation Phase...\n"
     ]
    },
    {
     "name": "stderr",
     "output_type": "stream",
     "text": [
      "Validation: 100%|██████████████████████████████| 81/81 [00:45<00:00,  1.79it/s, Loss=1.0692, Acc=0.8700]\n"
     ]
    },
    {
     "name": "stdout",
     "output_type": "stream",
     "text": [
      "✅ Validation completed in 45.20s\n",
      "\n",
      "📊 Epoch 40 Summary:\n",
      "│ Train Loss: 0.0000 | Train Acc: 1.0000\n",
      "│ Val Loss:   1.0692 | Val Acc:   0.8700\n",
      "│ Train Time: 404.85s | Val Time: 45.20s\n",
      "│ Total Epoch Time: 450.05s\n",
      "│ Best Val Loss: 0.4579 (Epoch 1)\n",
      "│ GPU Memory: 1.3GB / 5.0GB\n",
      "================================================================================\n",
      "\n",
      "📈 Epoch 41/50\n",
      "--------------------------------------------------\n",
      "🔄 Training Phase...\n"
     ]
    },
    {
     "name": "stderr",
     "output_type": "stream",
     "text": [
      "Training: 100%|██████████████████████████████| 311/311 [06:43<00:00,  1.30s/it, Loss=0.0000, Acc=1.0000, GPU=1.3GB]\n"
     ]
    },
    {
     "name": "stdout",
     "output_type": "stream",
     "text": [
      "✅ Training completed in 403.61s\n",
      "🔍 Validation Phase...\n"
     ]
    },
    {
     "name": "stderr",
     "output_type": "stream",
     "text": [
      "Validation: 100%|██████████████████████████████| 81/81 [00:46<00:00,  1.75it/s, Loss=1.0834, Acc=0.8696]\n"
     ]
    },
    {
     "name": "stdout",
     "output_type": "stream",
     "text": [
      "✅ Validation completed in 46.16s\n",
      "\n",
      "📊 Epoch 41 Summary:\n",
      "│ Train Loss: 0.0000 | Train Acc: 1.0000\n",
      "│ Val Loss:   1.0834 | Val Acc:   0.8696\n",
      "│ Train Time: 403.61s | Val Time: 46.16s\n",
      "│ Total Epoch Time: 449.77s\n",
      "│ Best Val Loss: 0.4579 (Epoch 1)\n",
      "│ GPU Memory: 1.3GB / 5.0GB\n",
      "================================================================================\n",
      "\n",
      "📈 Epoch 42/50\n",
      "--------------------------------------------------\n",
      "🔄 Training Phase...\n"
     ]
    },
    {
     "name": "stderr",
     "output_type": "stream",
     "text": [
      "Training: 100%|██████████████████████████████| 311/311 [06:49<00:00,  1.32s/it, Loss=0.0000, Acc=1.0000, GPU=1.3GB]\n"
     ]
    },
    {
     "name": "stdout",
     "output_type": "stream",
     "text": [
      "✅ Training completed in 409.18s\n",
      "🔍 Validation Phase...\n"
     ]
    },
    {
     "name": "stderr",
     "output_type": "stream",
     "text": [
      "Validation: 100%|██████████████████████████████| 81/81 [00:47<00:00,  1.71it/s, Loss=1.0974, Acc=0.8696]\n"
     ]
    },
    {
     "name": "stdout",
     "output_type": "stream",
     "text": [
      "✅ Validation completed in 47.45s\n",
      "\n",
      "📊 Epoch 42 Summary:\n",
      "│ Train Loss: 0.0000 | Train Acc: 1.0000\n",
      "│ Val Loss:   1.0974 | Val Acc:   0.8696\n",
      "│ Train Time: 409.18s | Val Time: 47.45s\n",
      "│ Total Epoch Time: 456.64s\n",
      "│ Best Val Loss: 0.4579 (Epoch 1)\n",
      "│ GPU Memory: 1.3GB / 5.0GB\n",
      "================================================================================\n",
      "\n",
      "📈 Epoch 43/50\n",
      "--------------------------------------------------\n",
      "🔄 Training Phase...\n"
     ]
    },
    {
     "name": "stderr",
     "output_type": "stream",
     "text": [
      "Training: 100%|██████████████████████████████| 311/311 [06:48<00:00,  1.31s/it, Loss=0.0000, Acc=1.0000, GPU=1.3GB]\n"
     ]
    },
    {
     "name": "stdout",
     "output_type": "stream",
     "text": [
      "✅ Training completed in 408.55s\n",
      "🔍 Validation Phase...\n"
     ]
    },
    {
     "name": "stderr",
     "output_type": "stream",
     "text": [
      "Validation: 100%|██████████████████████████████| 81/81 [00:46<00:00,  1.75it/s, Loss=1.1116, Acc=0.8696]\n"
     ]
    },
    {
     "name": "stdout",
     "output_type": "stream",
     "text": [
      "✅ Validation completed in 46.32s\n",
      "\n",
      "📊 Epoch 43 Summary:\n",
      "│ Train Loss: 0.0000 | Train Acc: 1.0000\n",
      "│ Val Loss:   1.1116 | Val Acc:   0.8696\n",
      "│ Train Time: 408.55s | Val Time: 46.32s\n",
      "│ Total Epoch Time: 454.88s\n",
      "│ Best Val Loss: 0.4579 (Epoch 1)\n",
      "│ GPU Memory: 1.3GB / 5.0GB\n",
      "================================================================================\n",
      "\n",
      "📈 Epoch 44/50\n",
      "--------------------------------------------------\n",
      "🔄 Training Phase...\n"
     ]
    },
    {
     "name": "stderr",
     "output_type": "stream",
     "text": [
      "Training: 100%|██████████████████████████████| 311/311 [06:45<00:00,  1.30s/it, Loss=0.0000, Acc=1.0000, GPU=1.3GB]\n"
     ]
    },
    {
     "name": "stdout",
     "output_type": "stream",
     "text": [
      "✅ Training completed in 405.50s\n",
      "🔍 Validation Phase...\n"
     ]
    },
    {
     "name": "stderr",
     "output_type": "stream",
     "text": [
      "Validation: 100%|██████████████████████████████| 81/81 [00:45<00:00,  1.79it/s, Loss=1.1261, Acc=0.8696]\n"
     ]
    },
    {
     "name": "stdout",
     "output_type": "stream",
     "text": [
      "✅ Validation completed in 45.23s\n",
      "\n",
      "📊 Epoch 44 Summary:\n",
      "│ Train Loss: 0.0000 | Train Acc: 1.0000\n",
      "│ Val Loss:   1.1261 | Val Acc:   0.8696\n",
      "│ Train Time: 405.50s | Val Time: 45.23s\n",
      "│ Total Epoch Time: 450.74s\n",
      "│ Best Val Loss: 0.4579 (Epoch 1)\n",
      "│ GPU Memory: 1.3GB / 5.0GB\n",
      "================================================================================\n",
      "\n",
      "📈 Epoch 45/50\n",
      "--------------------------------------------------\n",
      "🔄 Training Phase...\n"
     ]
    },
    {
     "name": "stderr",
     "output_type": "stream",
     "text": [
      "Training: 100%|██████████████████████████████| 311/311 [06:43<00:00,  1.30s/it, Loss=0.0000, Acc=1.0000, GPU=1.3GB]\n"
     ]
    },
    {
     "name": "stdout",
     "output_type": "stream",
     "text": [
      "✅ Training completed in 403.82s\n",
      "🔍 Validation Phase...\n"
     ]
    },
    {
     "name": "stderr",
     "output_type": "stream",
     "text": [
      "Validation: 100%|██████████████████████████████| 81/81 [00:44<00:00,  1.83it/s, Loss=1.1410, Acc=0.8696]\n"
     ]
    },
    {
     "name": "stdout",
     "output_type": "stream",
     "text": [
      "✅ Validation completed in 44.34s\n",
      "\n",
      "📊 Epoch 45 Summary:\n",
      "│ Train Loss: 0.0000 | Train Acc: 1.0000\n",
      "│ Val Loss:   1.1410 | Val Acc:   0.8696\n",
      "│ Train Time: 403.82s | Val Time: 44.34s\n",
      "│ Total Epoch Time: 448.16s\n",
      "│ Best Val Loss: 0.4579 (Epoch 1)\n",
      "│ GPU Memory: 1.3GB / 5.0GB\n",
      "================================================================================\n",
      "\n",
      "📈 Epoch 46/50\n",
      "--------------------------------------------------\n",
      "🔄 Training Phase...\n"
     ]
    },
    {
     "name": "stderr",
     "output_type": "stream",
     "text": [
      "Training: 100%|██████████████████████████████| 311/311 [06:44<00:00,  1.30s/it, Loss=0.0000, Acc=1.0000, GPU=1.3GB]\n"
     ]
    },
    {
     "name": "stdout",
     "output_type": "stream",
     "text": [
      "✅ Training completed in 404.70s\n",
      "🔍 Validation Phase...\n"
     ]
    },
    {
     "name": "stderr",
     "output_type": "stream",
     "text": [
      "Validation: 100%|██████████████████████████████| 81/81 [00:45<00:00,  1.79it/s, Loss=1.1563, Acc=0.8696]\n"
     ]
    },
    {
     "name": "stdout",
     "output_type": "stream",
     "text": [
      "✅ Validation completed in 45.26s\n",
      "\n",
      "📊 Epoch 46 Summary:\n",
      "│ Train Loss: 0.0000 | Train Acc: 1.0000\n",
      "│ Val Loss:   1.1563 | Val Acc:   0.8696\n",
      "│ Train Time: 404.70s | Val Time: 45.26s\n",
      "│ Total Epoch Time: 449.96s\n",
      "│ Best Val Loss: 0.4579 (Epoch 1)\n",
      "│ GPU Memory: 1.3GB / 5.0GB\n",
      "================================================================================\n",
      "\n",
      "📈 Epoch 47/50\n",
      "--------------------------------------------------\n",
      "🔄 Training Phase...\n"
     ]
    },
    {
     "name": "stderr",
     "output_type": "stream",
     "text": [
      "Training: 100%|██████████████████████████████| 311/311 [06:45<00:00,  1.30s/it, Loss=0.0000, Acc=1.0000, GPU=1.3GB]\n"
     ]
    },
    {
     "name": "stdout",
     "output_type": "stream",
     "text": [
      "✅ Training completed in 405.28s\n",
      "🔍 Validation Phase...\n"
     ]
    },
    {
     "name": "stderr",
     "output_type": "stream",
     "text": [
      "Validation: 100%|██████████████████████████████| 81/81 [00:46<00:00,  1.75it/s, Loss=1.1715, Acc=0.8696]\n"
     ]
    },
    {
     "name": "stdout",
     "output_type": "stream",
     "text": [
      "✅ Validation completed in 46.34s\n",
      "\n",
      "📊 Epoch 47 Summary:\n",
      "│ Train Loss: 0.0000 | Train Acc: 1.0000\n",
      "│ Val Loss:   1.1715 | Val Acc:   0.8696\n",
      "│ Train Time: 405.28s | Val Time: 46.34s\n",
      "│ Total Epoch Time: 451.62s\n",
      "│ Best Val Loss: 0.4579 (Epoch 1)\n",
      "│ GPU Memory: 1.3GB / 5.0GB\n",
      "================================================================================\n",
      "\n",
      "📈 Epoch 48/50\n",
      "--------------------------------------------------\n",
      "🔄 Training Phase...\n"
     ]
    },
    {
     "name": "stderr",
     "output_type": "stream",
     "text": [
      "Training: 100%|██████████████████████████████| 311/311 [06:45<00:00,  1.30s/it, Loss=0.0000, Acc=1.0000, GPU=1.3GB]\n"
     ]
    },
    {
     "name": "stdout",
     "output_type": "stream",
     "text": [
      "✅ Training completed in 405.82s\n",
      "🔍 Validation Phase...\n"
     ]
    },
    {
     "name": "stderr",
     "output_type": "stream",
     "text": [
      "Validation: 100%|██████████████████████████████| 81/81 [00:47<00:00,  1.72it/s, Loss=1.1869, Acc=0.8700]\n"
     ]
    },
    {
     "name": "stdout",
     "output_type": "stream",
     "text": [
      "✅ Validation completed in 47.21s\n",
      "\n",
      "📊 Epoch 48 Summary:\n",
      "│ Train Loss: 0.0000 | Train Acc: 1.0000\n",
      "│ Val Loss:   1.1869 | Val Acc:   0.8700\n",
      "│ Train Time: 405.82s | Val Time: 47.21s\n",
      "│ Total Epoch Time: 453.03s\n",
      "│ Best Val Loss: 0.4579 (Epoch 1)\n",
      "│ GPU Memory: 1.3GB / 5.0GB\n",
      "================================================================================\n",
      "\n",
      "📈 Epoch 49/50\n",
      "--------------------------------------------------\n",
      "🔄 Training Phase...\n"
     ]
    },
    {
     "name": "stderr",
     "output_type": "stream",
     "text": [
      "Training: 100%|██████████████████████████████| 311/311 [06:46<00:00,  1.31s/it, Loss=0.0000, Acc=1.0000, GPU=1.3GB]\n"
     ]
    },
    {
     "name": "stdout",
     "output_type": "stream",
     "text": [
      "✅ Training completed in 406.03s\n",
      "🔍 Validation Phase...\n"
     ]
    },
    {
     "name": "stderr",
     "output_type": "stream",
     "text": [
      "Validation: 100%|██████████████████████████████| 81/81 [00:46<00:00,  1.75it/s, Loss=1.2023, Acc=0.8707]\n"
     ]
    },
    {
     "name": "stdout",
     "output_type": "stream",
     "text": [
      "✅ Validation completed in 46.30s\n",
      "\n",
      "📊 Epoch 49 Summary:\n",
      "│ Train Loss: 0.0000 | Train Acc: 1.0000\n",
      "│ Val Loss:   1.2023 | Val Acc:   0.8707\n",
      "│ Train Time: 406.03s | Val Time: 46.30s\n",
      "│ Total Epoch Time: 452.34s\n",
      "│ Best Val Loss: 0.4579 (Epoch 1)\n",
      "│ GPU Memory: 1.3GB / 5.0GB\n",
      "================================================================================\n",
      "\n",
      "📈 Epoch 50/50\n",
      "--------------------------------------------------\n",
      "🔄 Training Phase...\n"
     ]
    },
    {
     "name": "stderr",
     "output_type": "stream",
     "text": [
      "Training: 100%|██████████████████████████████| 311/311 [06:44<00:00,  1.30s/it, Loss=0.0000, Acc=1.0000, GPU=1.3GB]\n"
     ]
    },
    {
     "name": "stdout",
     "output_type": "stream",
     "text": [
      "✅ Training completed in 404.12s\n",
      "🔍 Validation Phase...\n"
     ]
    },
    {
     "name": "stderr",
     "output_type": "stream",
     "text": [
      "Validation: 100%|██████████████████████████████| 81/81 [00:44<00:00,  1.84it/s, Loss=1.2184, Acc=0.8711]\n"
     ]
    },
    {
     "name": "stdout",
     "output_type": "stream",
     "text": [
      "✅ Validation completed in 44.00s\n",
      "\n",
      "📊 Epoch 50 Summary:\n",
      "│ Train Loss: 0.0000 | Train Acc: 1.0000\n",
      "│ Val Loss:   1.2184 | Val Acc:   0.8711\n",
      "│ Train Time: 404.12s | Val Time: 44.00s\n",
      "│ Total Epoch Time: 448.13s\n",
      "│ Best Val Loss: 0.4579 (Epoch 1)\n",
      "│ GPU Memory: 1.3GB / 5.0GB\n",
      "================================================================================\n",
      "\n",
      "💾 Best model saved as 'best_cricket_vit_filtered.pth'\n",
      "📊 Best model stats:\n",
      "│ Best Epoch: 1\n",
      "│ Best Val Loss: 0.4579\n",
      "│ Best Val Acc: 0.8366\n",
      "\n",
      "💾 Training history saved to 'cricket_vit_filtered_history_pretrained.csv'\n",
      "\n",
      "🎉 Vision Transformer Fine-tuning Complete!\n",
      "Total Training Time: 22549.26s (375.8 minutes)\n",
      "Average Epoch Time: 450.98s\n",
      "\n",
      "🧪 Loading Best Model for Testing...\n",
      "✅ Best model from epoch 1 loaded successfully!\n"
     ]
    },
    {
     "name": "stderr",
     "output_type": "stream",
     "text": [
      "Testing: 100%|██████████████████████████████| 101/101 [01:17<00:00,  1.30it/s]\n"
     ]
    },
    {
     "name": "stdout",
     "output_type": "stream",
     "text": [
      "✅ Testing completed in 77.61s\n",
      "\n",
      "📋 Classification Report:\n",
      "              precision    recall  f1-score   support\n",
      "\n",
      "     Batting       0.88      0.94      0.91      1656\n",
      "     Bowling       0.83      0.71      0.77       488\n",
      "    Fielding       0.76      0.71      0.73       560\n",
      "      Umpire       0.97      0.94      0.95       520\n",
      "\n",
      "    accuracy                           0.87      3224\n",
      "   macro avg       0.86      0.82      0.84      3224\n",
      "weighted avg       0.86      0.87      0.86      3224\n",
      "\n",
      "🎯 Test Accuracy: 0.8657\n",
      "\n",
      "📊 Cricket Classification Performance (Vision Transformer - Filtered Data):\n",
      "│ Best Validation Loss: 0.4579 (Epoch 1)\n",
      "│ Best Validation Acc:  0.8366 (Epoch 1)\n",
      "│ Final Test Accuracy:  0.8657\n",
      "│ Val-Test Gap:         0.0291\n",
      "│ Data Filtering: Excluded 'random_occlusion' folder\n",
      "\n",
      "💾 Files saved:\n",
      "│ best_cricket_vit_filtered.pth - Best model weights\n",
      "│ cricket_vit_filtered_history.csv - Training metrics\n"
     ]
    },
    {
     "data": {
      "image/png": "[encoded data removed]",
      "text/plain": [
       "<Figure size 1000x800 with 2 Axes>"
      ]
     },
     "metadata": {},
     "output_type": "display_data"
    },
    {
     "data": {
      "image/png": "[encoded data removed]",
      "text/plain": [
       "<Figure size 1500x500 with 3 Axes>"
      ]
     },
     "metadata": {},
     "output_type": "display_data"
    },
    {
     "name": "stdout",
     "output_type": "stream",
     "text": [
      "\n",
      "⏰ Final Timing Summary:\n",
      "│ Total Training: 22549.26s (375.8 min)\n",
      "│ Average per Epoch: 450.98s\n",
      "│ Testing Time: 77.61s\n",
      "│ Total Runtime: 22626.87s\n",
      "\n",
      "🔍 Vision Transformer + Filtered Data Benefits:\n",
      "│ Clean dataset: 'random_occlusion' folder excluded\n",
      "│ Self-attention: Global context understanding\n",
      "│ Patch-based: 16x16 patches processed as sequences\n",
      "│ Transformer architecture: State-of-the-art NLP applied to vision\n",
      "│ ImageNet-21k pretrained: High-quality feature representations\n",
      "│ Long-range dependencies: Better than CNNs for complex relationships\n"
     ]
    }
   ],
   "source": [
    "# -----------------------------\n",
    "# 3. Training Setup\n",
    "# -----------------------------\n",
    "criterion = nn.CrossEntropyLoss()\n",
    "optimizer = optim.Adam(model.parameters(), lr=1e-4)  # Lower LR for fine-tuning\n",
    "\n",
    "print(f\"\\n📋 Training Configuration:\")\n",
    "print(f\"│ Model: Vision Transformer ViT-B/16 (pretrained)\")\n",
    "print(f\"│ Optimizer: Adam (lr={optimizer.param_groups[0]['lr']})\")\n",
    "print(f\"│ Loss Function: CrossEntropyLoss\")\n",
    "print(f\"│ Batch Size: 32\")\n",
    "print(f\"│ Device: {device}\")\n",
    "print(f\"│ Data: Filtered (excluding '{ignore_folder}')\")\n",
    "\n",
    "# -----------------------------\n",
    "# 4. Training Loop with Model Saving\n",
    "# -----------------------------\n",
    "train_losses, val_losses = [], []\n",
    "train_accs, val_accs = [], []\n",
    "epoch_times = []\n",
    "epochs = 50\n",
    "\n",
    "# Initialize best model tracking (using val_loss for fine-tuning)\n",
    "best_val_loss = float('inf')\n",
    "best_model_state = None\n",
    "best_epoch = 0\n",
    "best_val_acc = 0.0\n",
    "\n",
    "print(f\"\\n🚀 Starting Vision Transformer Fine-tuning for {epochs} epochs...\")\n",
    "print(\"=\" * 80)\n",
    "total_start_time = time.time()\n",
    "\n",
    "for epoch in range(epochs):\n",
    "    epoch_start_time = time.time()\n",
    "    \n",
    "    print(f\"\\n📈 Epoch {epoch+1}/{epochs}\")\n",
    "    print(\"-\" * 50)\n",
    "    \n",
    "    # Training Phase\n",
    "    print(\"🔄 Training Phase...\")\n",
    "    model.train()\n",
    "    running_loss, correct, total = 0, 0, 0\n",
    "    \n",
    "    train_pbar = tqdm(train_loader, desc=\"Training\", \n",
    "                     bar_format='{l_bar}{bar:30}{r_bar}{bar:-30b}')\n",
    "    \n",
    "    train_phase_start = time.time()\n",
    "    \n",
    "    for batch_idx, (imgs, labels) in enumerate(train_pbar):\n",
    "        imgs, labels = imgs.to(device), labels.to(device)\n",
    "        \n",
    "        optimizer.zero_grad()\n",
    "        outputs = model(imgs)\n",
    "        loss = criterion(outputs, labels)\n",
    "        loss.backward()\n",
    "        optimizer.step()\n",
    "        \n",
    "        running_loss += loss.item()\n",
    "        _, preds = torch.max(outputs, 1)\n",
    "        correct += (preds == labels).sum().item()\n",
    "        total += labels.size(0)\n",
    "        \n",
    "        current_acc = correct / total\n",
    "        train_pbar.set_postfix({\n",
    "            'Loss': f'{running_loss/(batch_idx+1):.4f}',\n",
    "            'Acc': f'{current_acc:.4f}'\n",
    "        })\n",
    "        \n",
    "        if device.type == 'cuda' and batch_idx % 10 == 0:\n",
    "            gpu_memory = torch.cuda.memory_allocated() / 1024**3\n",
    "            train_pbar.set_postfix({\n",
    "                'Loss': f'{running_loss/(batch_idx+1):.4f}',\n",
    "                'Acc': f'{current_acc:.4f}',\n",
    "                'GPU': f'{gpu_memory:.1f}GB'\n",
    "            })\n",
    "    \n",
    "    train_phase_time = time.time() - train_phase_start\n",
    "    train_loss = running_loss / len(train_loader)\n",
    "    train_acc = correct / total\n",
    "    train_losses.append(train_loss)\n",
    "    train_accs.append(train_acc)\n",
    "    \n",
    "    print(f\"✅ Training completed in {train_phase_time:.2f}s\")\n",
    "    \n",
    "    # Validation Phase\n",
    "    print(\"🔍 Validation Phase...\")\n",
    "    model.eval()\n",
    "    running_loss, correct, total = 0, 0, 0\n",
    "    \n",
    "    val_phase_start = time.time()\n",
    "    val_pbar = tqdm(val_loader, desc=\"Validation\", \n",
    "                   bar_format='{l_bar}{bar:30}{r_bar}{bar:-30b}')\n",
    "    \n",
    "    with torch.no_grad():\n",
    "        for batch_idx, (imgs, labels) in enumerate(val_pbar):\n",
    "            imgs, labels = imgs.to(device), labels.to(device)\n",
    "            outputs = model(imgs)\n",
    "            loss = criterion(outputs, labels)\n",
    "            \n",
    "            running_loss += loss.item()\n",
    "            _, preds = torch.max(outputs, 1)\n",
    "            correct += (preds == labels).sum().item()\n",
    "            total += labels.size(0)\n",
    "            \n",
    "            current_acc = correct / total\n",
    "            val_pbar.set_postfix({\n",
    "                'Loss': f'{running_loss/(batch_idx+1):.4f}',\n",
    "                'Acc': f'{current_acc:.4f}'\n",
    "            })\n",
    "    \n",
    "    val_phase_time = time.time() - val_phase_start\n",
    "    val_loss = running_loss / len(val_loader)\n",
    "    val_acc = correct / total\n",
    "    val_losses.append(val_loss)\n",
    "    val_accs.append(val_acc)\n",
    "    \n",
    "    print(f\"✅ Validation completed in {val_phase_time:.2f}s\")\n",
    "    \n",
    "    # Check if this is the best model (using val_loss for fine-tuning)\n",
    "    is_best = val_loss < best_val_loss\n",
    "    if is_best:\n",
    "        best_val_loss = val_loss\n",
    "        best_val_acc = val_acc\n",
    "        best_epoch = epoch + 1\n",
    "        best_model_state = model.state_dict().copy()\n",
    "        print(f\"🌟 New best model found! Validation Loss: {val_loss:.4f}\")\n",
    "    \n",
    "    # Epoch Summary\n",
    "    epoch_time = time.time() - epoch_start_time\n",
    "    epoch_times.append(epoch_time)\n",
    "    \n",
    "    print(f\"\\n📊 Epoch {epoch+1} Summary:\")\n",
    "    print(f\"│ Train Loss: {train_loss:.4f} | Train Acc: {train_acc:.4f}\")\n",
    "    print(f\"│ Val Loss:   {val_loss:.4f} | Val Acc:   {val_acc:.4f}\")\n",
    "    print(f\"│ Train Time: {train_phase_time:.2f}s | Val Time: {val_phase_time:.2f}s\")\n",
    "    print(f\"│ Total Epoch Time: {epoch_time:.2f}s\")\n",
    "    print(f\"│ Best Val Loss: {best_val_loss:.4f} (Epoch {best_epoch})\")\n",
    "    \n",
    "    if device.type == 'cuda':\n",
    "        print(f\"│ GPU Memory: {torch.cuda.memory_allocated()/1024**3:.1f}GB / {torch.cuda.memory_reserved()/1024**3:.1f}GB\")\n",
    "    \n",
    "    print(\"=\" * 80)\n",
    "\n",
    "total_training_time = time.time() - total_start_time\n",
    "\n",
    "# Save the best model\n",
    "if best_model_state is not None:\n",
    "    torch.save(best_model_state, 'best_cricket_vit_filtered_pretrained.pth')\n",
    "    print(f\"\\n💾 Best model saved as 'best_cricket_vit_filtered.pth'\")\n",
    "    print(f\"📊 Best model stats:\")\n",
    "    print(f\"│ Best Epoch: {best_epoch}\")\n",
    "    print(f\"│ Best Val Loss: {best_val_loss:.4f}\")\n",
    "    print(f\"│ Best Val Acc: {best_val_acc:.4f}\")\n",
    "\n",
    "# Save training history\n",
    "history_data = {\n",
    "    'epoch': list(range(1, epochs+1)),\n",
    "    'train_loss': train_losses,\n",
    "    'val_loss': val_losses,\n",
    "    'train_acc': train_accs,\n",
    "    'val_acc': val_accs,\n",
    "    'epoch_time': epoch_times\n",
    "}\n",
    "\n",
    "history_df = pd.DataFrame(history_data)\n",
    "history_df.to_csv('cricket_vit_filtered_history_pretrained.csv', index=False)\n",
    "print(\"\\n💾 Training history saved to 'cricket_vit_filtered_history_pretrained.csv'\")\n",
    "\n",
    "print(f\"\\n🎉 Vision Transformer Fine-tuning Complete!\")\n",
    "print(f\"Total Training Time: {total_training_time:.2f}s ({total_training_time/60:.1f} minutes)\")\n",
    "print(f\"Average Epoch Time: {np.mean(epoch_times):.2f}s\")\n",
    "\n",
    "# -----------------------------\n",
    "# 5. Load Best Model and Test\n",
    "# -----------------------------\n",
    "print(f\"\\n🧪 Loading Best Model for Testing...\")\n",
    "if best_model_state is not None:\n",
    "    model.load_state_dict(best_model_state)\n",
    "    print(f\"✅ Best model from epoch {best_epoch} loaded successfully!\")\n",
    "\n",
    "test_start_time = time.time()\n",
    "y_true, y_pred = [], []\n",
    "model.eval()\n",
    "test_pbar = tqdm(test_loader, desc=\"Testing\", \n",
    "                bar_format='{l_bar}{bar:30}{r_bar}{bar:-30b}')\n",
    "\n",
    "with torch.no_grad():\n",
    "    for imgs, labels in test_pbar:\n",
    "        imgs, labels = imgs.to(device), labels.to(device)\n",
    "        outputs = model(imgs)\n",
    "        _, preds = torch.max(outputs, 1)\n",
    "        y_true.extend(labels.cpu().numpy())\n",
    "        y_pred.extend(preds.cpu().numpy())\n",
    "\n",
    "test_time = time.time() - test_start_time\n",
    "test_accuracy = accuracy_score(y_true, y_pred)\n",
    "\n",
    "print(f\"✅ Testing completed in {test_time:.2f}s\")\n",
    "print(\"\\n📋 Classification Report:\")\n",
    "print(classification_report(y_true, y_pred, target_names=classes))\n",
    "print(f\"🎯 Test Accuracy: {test_accuracy:.4f}\")\n",
    "\n",
    "# Performance Summary\n",
    "print(f\"\\n📊 Cricket Classification Performance (Vision Transformer - Filtered Data):\")\n",
    "print(f\"│ Best Validation Loss: {best_val_loss:.4f} (Epoch {best_epoch})\")\n",
    "print(f\"│ Best Validation Acc:  {best_val_acc:.4f} (Epoch {best_epoch})\")\n",
    "print(f\"│ Final Test Accuracy:  {test_accuracy:.4f}\")\n",
    "print(f\"│ Val-Test Gap:         {abs(best_val_acc - test_accuracy):.4f}\")\n",
    "print(f\"│ Data Filtering: Excluded '{ignore_folder}' folder\")\n",
    "\n",
    "print(f\"\\n💾 Files saved:\")\n",
    "print(f\"│ best_cricket_vit_filtered.pth - Best model weights\")\n",
    "print(f\"│ cricket_vit_filtered_history.csv - Training metrics\")\n",
    "\n",
    "# -----------------------------\n",
    "# 6. Visualizations\n",
    "# -----------------------------\n",
    "# Confusion Matrix\n",
    "cm = confusion_matrix(y_true, y_pred)\n",
    "plt.figure(figsize=(10, 8))\n",
    "sns.heatmap(cm, annot=True, fmt=\"d\", cmap=\"Blues\", \n",
    "            xticklabels=classes, yticklabels=classes)\n",
    "plt.xlabel(\"Predicted\")\n",
    "plt.ylabel(\"True\")\n",
    "plt.title(f\"Cricket Classification - Vision Transformer (Filtered Data) - Epoch {best_epoch}\")\n",
    "plt.tight_layout()\n",
    "plt.show()\n",
    "\n",
    "# Training Curves\n",
    "plt.figure(figsize=(15, 5))\n",
    "\n",
    "# Loss Plot\n",
    "plt.subplot(1, 3, 1)\n",
    "plt.plot(range(1, epochs+1), train_losses, 'b-', label=\"Train Loss\", marker='o', linewidth=2)\n",
    "plt.plot(range(1, epochs+1), val_losses, 'r-', label=\"Val Loss\", marker='s', linewidth=2)\n",
    "plt.axvline(x=best_epoch, color='green', linestyle='--', alpha=0.7, label=f'Best (Epoch {best_epoch})')\n",
    "plt.scatter([best_epoch], [best_val_loss], color='green', s=100, zorder=5)\n",
    "plt.legend()\n",
    "plt.title(\"Vision Transformer Loss over Epochs (Filtered)\")\n",
    "plt.xlabel(\"Epoch\")\n",
    "plt.ylabel(\"Loss\")\n",
    "plt.grid(True, alpha=0.3)\n",
    "\n",
    "# Accuracy Plot\n",
    "plt.subplot(1, 3, 2)\n",
    "plt.plot(range(1, epochs+1), train_accs, 'b-', label=\"Train Accuracy\", marker='o', linewidth=2)\n",
    "plt.plot(range(1, epochs+1), val_accs, 'r-', label=\"Val Accuracy\", marker='s', linewidth=2)\n",
    "plt.axvline(x=best_epoch, color='green', linestyle='--', alpha=0.7, label=f'Best (Epoch {best_epoch})')\n",
    "plt.scatter([best_epoch], [best_val_acc], color='green', s=100, zorder=5)\n",
    "plt.legend()\n",
    "plt.title(\"Vision Transformer Accuracy over Epochs (Filtered)\")\n",
    "plt.xlabel(\"Epoch\")\n",
    "plt.ylabel(\"Accuracy\")\n",
    "plt.grid(True, alpha=0.3)\n",
    "\n",
    "# Final Performance\n",
    "plt.subplot(1, 3, 3)\n",
    "metrics = ['Best Val Acc', 'Test Acc']\n",
    "values = [best_val_acc, test_accuracy]\n",
    "colors = ['orange', 'green']\n",
    "bars = plt.bar(metrics, values, color=colors, alpha=0.7)\n",
    "plt.title(\"Vision Transformer Final Performance (Filtered)\")\n",
    "plt.ylabel(\"Accuracy\")\n",
    "plt.ylim(0, 1)\n",
    "plt.grid(True, alpha=0.3)\n",
    "for bar, val in zip(bars, values):\n",
    "    plt.text(bar.get_x() + bar.get_width()/2, val + 0.01, \n",
    "             f'{val:.4f}', ha='center', va='bottom')\n",
    "\n",
    "plt.tight_layout()\n",
    "plt.show()\n",
    "\n",
    "# Final Summary\n",
    "print(f\"\\n⏰ Final Timing Summary:\")\n",
    "print(f\"│ Total Training: {total_training_time:.2f}s ({total_training_time/60:.1f} min)\")\n",
    "print(f\"│ Average per Epoch: {np.mean(epoch_times):.2f}s\")\n",
    "print(f\"│ Testing Time: {test_time:.2f}s\")\n",
    "print(f\"│ Total Runtime: {total_training_time + test_time:.2f}s\")\n",
    "\n",
    "# Model and Data Info\n",
    "print(f\"\\n🔍 Vision Transformer + Filtered Data Benefits:\")\n",
    "print(f\"│ Clean dataset: '{ignore_folder}' folder excluded\")\n",
    "print(f\"│ Self-attention: Global context understanding\")\n",
    "print(f\"│ Patch-based: 16x16 patches processed as sequences\")\n",
    "print(f\"│ Transformer architecture: State-of-the-art NLP applied to vision\")\n",
    "print(f\"│ ImageNet-21k pretrained: High-quality feature representations\")\n",
    "print(f\"│ Long-range dependencies: Better than CNNs for complex relationships\")"
   ]
  }
 ],
 "metadata": {
  "kaggle": {
   "accelerator": "nvidiaTeslaT4",
   "dataSources": [
    {
     "datasetId": 7735666,
     "sourceId": 12275446,
     "sourceType": "datasetVersion"
    }
   ],
   "dockerImageVersionId": 31090,
   "isGpuEnabled": true,
   "isInternetEnabled": true,
   "language": "python",
   "sourceType": "notebook"
  },
  "kernelspec": {
   "display_name": "Python 3",
   "language": "python",
   "name": "python3"
  },
  "language_info": {
   "codemirror_mode": {
    "name": "ipython",
    "version": 3
   },
   "file_extension": ".py",
   "mimetype": "text/x-python",
   "name": "python",
   "nbconvert_exporter": "python",
   "pygments_lexer": "ipython3",
   "version": "3.11.13"
  },
  "papermill": {
   "default_parameters": {},
   "duration": 22681.287502,
   "end_time": "2025-09-09T18:20:29.723399",
   "environment_variables": {},
   "exception": null,
   "input_path": "__notebook__.ipynb",
   "output_path": "__notebook__.ipynb",
   "parameters": {},
   "start_time": "2025-09-09T12:02:28.435897",
   "version": "2.6.0"
  }
 },
 "nbformat": 4,
 "nbformat_minor": 5
}
