{
 "cells": [
  {
   "cell_type": "code",
   "execution_count": 1,
   "id": "fa68761a",
   "metadata": {
    "_cell_guid": "b1076dfc-b9ad-4769-8c92-a6c4dae69d19",
    "_uuid": "8f2839f25d086af736a60e9eeb907d3b93b6e0e5",
    "execution": {
     "iopub.execute_input": "2025-09-09T18:33:24.577027Z",
     "iopub.status.busy": "2025-09-09T18:33:24.576818Z",
     "iopub.status.idle": "2025-09-09T18:33:46.944396Z",
     "shell.execute_reply": "2025-09-09T18:33:46.943612Z"
    },
    "papermill": {
     "duration": 22.372681,
     "end_time": "2025-09-09T18:33:46.945623",
     "exception": false,
     "start_time": "2025-09-09T18:33:24.572942",
     "status": "completed"
    },
    "tags": []
   },
   "outputs": [
    {
     "name": "stdout",
     "output_type": "stream",
     "text": [
      "Classes: ['Batting', 'Bowling', 'Fielding', 'Umpire']\n"
     ]
    }
   ],
   "source": [
    "import torch\n",
    "import torch.nn as nn\n",
    "import torch.nn.functional as F\n",
    "from torch.utils.data import DataLoader\n",
    "from torchvision import datasets, transforms\n",
    "from torchsummary import summary\n",
    "import matplotlib.pyplot as plt\n",
    "from sklearn.metrics import classification_report, confusion_matrix, accuracy_score\n",
    "import seaborn as sns\n",
    "import numpy as np\n",
    "\n",
    "# -----------------------------\n",
    "# 1. Data Preprocessing\n",
    "# -----------------------------\n",
    "data_dir = \"/kaggle/input/ju-cricket/Cricket_Dataset_final/Task_A\"\n",
    "\n",
    "transform = transforms.Compose([\n",
    "    transforms.Resize((224, 224)),\n",
    "    transforms.ToTensor(),\n",
    "    transforms.Normalize([0.485, 0.456, 0.406], \n",
    "                         [0.229, 0.224, 0.225])\n",
    "])\n",
    "\n",
    "train_ds = datasets.ImageFolder(f\"{data_dir}/train\", transform=transform)\n",
    "val_ds   = datasets.ImageFolder(f\"{data_dir}/val\", transform=transform)\n",
    "test_ds  = datasets.ImageFolder(f\"{data_dir}/test\", transform=transform)\n",
    "\n",
    "train_loader = DataLoader(train_ds, batch_size=32, shuffle=True)\n",
    "val_loader   = DataLoader(val_ds, batch_size=32, shuffle=False)\n",
    "test_loader  = DataLoader(test_ds, batch_size=32, shuffle=False)\n",
    "\n",
    "classes = train_ds.classes\n",
    "print(\"Classes:\", classes)"
   ]
  },
  {
   "cell_type": "code",
   "execution_count": 2,
   "id": "486f9160",
   "metadata": {
    "execution": {
     "iopub.execute_input": "2025-09-09T18:33:46.951937Z",
     "iopub.status.busy": "2025-09-09T18:33:46.951594Z",
     "iopub.status.idle": "2025-09-09T18:33:46.956143Z",
     "shell.execute_reply": "2025-09-09T18:33:46.955337Z"
    },
    "papermill": {
     "duration": 0.008728,
     "end_time": "2025-09-09T18:33:46.957210",
     "exception": false,
     "start_time": "2025-09-09T18:33:46.948482",
     "status": "completed"
    },
    "tags": []
   },
   "outputs": [
    {
     "name": "stdout",
     "output_type": "stream",
     "text": [
      "Total training images: 11169\n",
      "Total validation images: 2898\n",
      "Total test images: 3627\n",
      "Total images in dataset: 17694\n"
     ]
    }
   ],
   "source": [
    "print(\"Total training images:\", len(train_ds))\n",
    "print(\"Total validation images:\", len(val_ds))\n",
    "print(\"Total test images:\", len(test_ds))\n",
    "\n",
    "total_images = len(train_ds) + len(val_ds) + len(test_ds)\n",
    "print(\"Total images in dataset:\", total_images)"
   ]
  },
  {
   "cell_type": "code",
   "execution_count": 3,
   "id": "2d10ba9c",
   "metadata": {
    "execution": {
     "iopub.execute_input": "2025-09-09T18:33:46.962797Z",
     "iopub.status.busy": "2025-09-09T18:33:46.962585Z",
     "iopub.status.idle": "2025-09-09T18:33:46.976492Z",
     "shell.execute_reply": "2025-09-09T18:33:46.975880Z"
    },
    "papermill": {
     "duration": 0.017912,
     "end_time": "2025-09-09T18:33:46.977559",
     "exception": false,
     "start_time": "2025-09-09T18:33:46.959647",
     "status": "completed"
    },
    "tags": []
   },
   "outputs": [
    {
     "name": "stdout",
     "output_type": "stream",
     "text": [
      "Training images (excluding 'random_occlusion'): 9928\n",
      "Validation images (excluding 'random_occlusion'): 2576\n",
      "Test images (excluding 'random_occlusion'): 3224\n",
      "Total images (excluding 'random_occlusion'): 15728\n"
     ]
    }
   ],
   "source": [
    "ignore_folder = \"random_occlusion\"\n",
    "\n",
    "def count_images_ignore_folder(dataset, ignore_folder):\n",
    "    count = 0\n",
    "    for img_path, label in dataset.samples:\n",
    "        # Skip if the image path contains the ignore_folder\n",
    "        if ignore_folder not in img_path.split(\"/\"):\n",
    "            count += 1\n",
    "    return count\n",
    "\n",
    "train_count = count_images_ignore_folder(train_ds, ignore_folder)\n",
    "val_count   = count_images_ignore_folder(val_ds, ignore_folder)\n",
    "test_count  = count_images_ignore_folder(test_ds, ignore_folder)\n",
    "\n",
    "total_count = train_count + val_count + test_count\n",
    "\n",
    "print(\"Training images (excluding '{}'): {}\".format(ignore_folder, train_count))\n",
    "print(\"Validation images (excluding '{}'): {}\".format(ignore_folder, val_count))\n",
    "print(\"Test images (excluding '{}'): {}\".format(ignore_folder, test_count))\n",
    "print(\"Total images (excluding '{}'): {}\".format(ignore_folder, total_count))"
   ]
  },
  {
   "cell_type": "code",
   "execution_count": 4,
   "id": "f9dda78b",
   "metadata": {
    "execution": {
     "iopub.execute_input": "2025-09-09T18:33:46.983162Z",
     "iopub.status.busy": "2025-09-09T18:33:46.982937Z",
     "iopub.status.idle": "2025-09-09T18:33:47.003200Z",
     "shell.execute_reply": "2025-09-09T18:33:47.002583Z"
    },
    "papermill": {
     "duration": 0.024272,
     "end_time": "2025-09-09T18:33:47.004254",
     "exception": false,
     "start_time": "2025-09-09T18:33:46.979982",
     "status": "completed"
    },
    "tags": []
   },
   "outputs": [
    {
     "name": "stdout",
     "output_type": "stream",
     "text": [
      "Training folders considered: {'chromatic_aberration', 'lens_flare', 'original', 'random_occlusion', 'gaussian_noise', 'motion_blur', 'low_resolution', 'dirty_lens', 'blur'}\n",
      "Validation folders considered: {'chromatic_aberration', 'lens_flare', 'original', 'random_occlusion', 'gaussian_noise', 'motion_blur', 'low_resolution', 'dirty_lens', 'blur'}\n",
      "Test folders considered: {'chromatic_aberration', 'lens_flare', 'original', 'random_occlusion', 'gaussian_noise', 'motion_blur', 'low_resolution', 'dirty_lens', 'blur'}\n"
     ]
    }
   ],
   "source": [
    "ignore_folder = \"random_occlusionw\"\n",
    "\n",
    "def get_included_folders(dataset, ignore_folder):\n",
    "    included = set()\n",
    "    for img_path, label in dataset.samples:\n",
    "        # Split the path into parts and ignore if ignore_folder is in the path\n",
    "        if ignore_folder not in img_path.split(\"/\"):\n",
    "            # The folder name just above the image (or the class folder)\n",
    "            folder_name = img_path.split(\"/\")[-2]\n",
    "            included.add(folder_name)\n",
    "    return included\n",
    "\n",
    "train_folders = get_included_folders(train_ds, ignore_folder)\n",
    "val_folders   = get_included_folders(val_ds, ignore_folder)\n",
    "test_folders  = get_included_folders(test_ds, ignore_folder)\n",
    "\n",
    "print(\"Training folders considered:\", train_folders)\n",
    "print(\"Validation folders considered:\", val_folders)\n",
    "print(\"Test folders considered:\", test_folders)"
   ]
  },
  {
   "cell_type": "code",
   "execution_count": 5,
   "id": "6e0691bf",
   "metadata": {
    "execution": {
     "iopub.execute_input": "2025-09-09T18:33:47.009924Z",
     "iopub.status.busy": "2025-09-09T18:33:47.009716Z",
     "iopub.status.idle": "2025-09-09T18:33:47.880539Z",
     "shell.execute_reply": "2025-09-09T18:33:47.879654Z"
    },
    "papermill": {
     "duration": 0.875124,
     "end_time": "2025-09-09T18:33:47.881843",
     "exception": false,
     "start_time": "2025-09-09T18:33:47.006719",
     "status": "completed"
    },
    "tags": []
   },
   "outputs": [
    {
     "name": "stdout",
     "output_type": "stream",
     "text": [
      "Classes: ['Batting', 'Bowling', 'Fielding', 'Umpire']\n",
      "Final Training images: 9928\n",
      "Final Validation images: 2576\n",
      "Final Test images: 3224\n",
      "Total images after filtering: 15728\n"
     ]
    }
   ],
   "source": [
    "ignore_folder = \"random_occlusion\"\n",
    "\n",
    "def filter_samples(dataset, ignore_folder):\n",
    "    # Keep only samples where ignore_folder is NOT in the path\n",
    "    filtered_samples = [s for s in dataset.samples if ignore_folder not in s[0].split(\"/\")]\n",
    "    dataset.samples = filtered_samples\n",
    "    dataset.targets = [s[1] for s in filtered_samples]  # Update targets accordingly\n",
    "    return dataset\n",
    "\n",
    "# Create original datasets\n",
    "train_ds = datasets.ImageFolder(f\"{data_dir}/train\", transform=transform)\n",
    "val_ds   = datasets.ImageFolder(f\"{data_dir}/val\", transform=transform)\n",
    "test_ds  = datasets.ImageFolder(f\"{data_dir}/test\", transform=transform)\n",
    "\n",
    "# Filter out 'random_occlusion' folder\n",
    "train_ds = filter_samples(train_ds, ignore_folder)\n",
    "val_ds   = filter_samples(val_ds, ignore_folder)\n",
    "test_ds  = filter_samples(test_ds, ignore_folder)\n",
    "\n",
    "# DataLoaders\n",
    "train_loader = DataLoader(train_ds, batch_size=32, shuffle=True)\n",
    "val_loader   = DataLoader(val_ds, batch_size=32, shuffle=False)\n",
    "test_loader  = DataLoader(test_ds, batch_size=32, shuffle=False)\n",
    "\n",
    "# Classes (will remain the same)\n",
    "classes = train_ds.classes\n",
    "print(\"Classes:\", classes)\n",
    "\n",
    "# Show counts\n",
    "print(\"Final Training images:\", len(train_ds))\n",
    "print(\"Final Validation images:\", len(val_ds))\n",
    "print(\"Final Test images:\", len(test_ds))\n",
    "print(\"Total images after filtering:\", len(train_ds) + len(val_ds) + len(test_ds))"
   ]
  },
  {
   "cell_type": "code",
   "execution_count": 6,
   "id": "ce094315",
   "metadata": {
    "execution": {
     "iopub.execute_input": "2025-09-09T18:33:47.888009Z",
     "iopub.status.busy": "2025-09-09T18:33:47.887792Z",
     "iopub.status.idle": "2025-09-09T18:33:47.906917Z",
     "shell.execute_reply": "2025-09-09T18:33:47.906201Z"
    },
    "papermill": {
     "duration": 0.023378,
     "end_time": "2025-09-09T18:33:47.907976",
     "exception": false,
     "start_time": "2025-09-09T18:33:47.884598",
     "status": "completed"
    },
    "tags": []
   },
   "outputs": [
    {
     "name": "stdout",
     "output_type": "stream",
     "text": [
      "Training folders considered: {'chromatic_aberration', 'lens_flare', 'original', 'gaussian_noise', 'motion_blur', 'low_resolution', 'dirty_lens', 'blur'}\n",
      "Validation folders considered: {'chromatic_aberration', 'lens_flare', 'original', 'gaussian_noise', 'motion_blur', 'low_resolution', 'dirty_lens', 'blur'}\n",
      "Test folders considered: {'chromatic_aberration', 'lens_flare', 'original', 'gaussian_noise', 'motion_blur', 'low_resolution', 'dirty_lens', 'blur'}\n"
     ]
    }
   ],
   "source": [
    "ignore_folder = \"random_occlusion\"\n",
    "\n",
    "def get_included_folders(dataset, ignore_folder):\n",
    "    included = set()\n",
    "    for img_path, label in dataset.samples:\n",
    "        # Split the path into parts and ignore if ignore_folder is in the path\n",
    "        if ignore_folder not in img_path.split(\"/\"):\n",
    "            # The folder name just above the image (or the class folder)\n",
    "            folder_name = img_path.split(\"/\")[-2]\n",
    "            included.add(folder_name)\n",
    "    return included\n",
    "\n",
    "train_folders = get_included_folders(train_ds, ignore_folder)\n",
    "val_folders   = get_included_folders(val_ds, ignore_folder)\n",
    "test_folders  = get_included_folders(test_ds, ignore_folder)\n",
    "\n",
    "print(\"Training folders considered:\", train_folders)\n",
    "print(\"Validation folders considered:\", val_folders)\n",
    "print(\"Test folders considered:\", test_folders)"
   ]
  },
  {
   "cell_type": "code",
   "execution_count": 7,
   "id": "46fb60b8",
   "metadata": {
    "execution": {
     "iopub.execute_input": "2025-09-09T18:33:47.913975Z",
     "iopub.status.busy": "2025-09-09T18:33:47.913773Z",
     "iopub.status.idle": "2025-09-09T18:33:47.931381Z",
     "shell.execute_reply": "2025-09-09T18:33:47.930678Z"
    },
    "papermill": {
     "duration": 0.021933,
     "end_time": "2025-09-09T18:33:47.932430",
     "exception": false,
     "start_time": "2025-09-09T18:33:47.910497",
     "status": "completed"
    },
    "tags": []
   },
   "outputs": [],
   "source": [
    "# -----------------------------\n",
    "# 2. Define Vision Transformer (ViT) Model from Scratch\n",
    "# -----------------------------\n",
    "import torch\n",
    "import torch.nn as nn\n",
    "import torch.nn.functional as F\n",
    "import numpy as np\n",
    "import matplotlib.pyplot as plt\n",
    "import seaborn as sns\n",
    "from torchsummary import summary\n",
    "from sklearn.metrics import accuracy_score, classification_report, confusion_matrix\n",
    "import pandas as pd\n",
    "from tqdm import tqdm\n",
    "import time\n",
    "import math\n",
    "\n",
    "class PatchEmbedding(nn.Module):\n",
    "    \"\"\"Patch Embedding Layer - Convert image to patches and embed them\"\"\"\n",
    "    def __init__(self, img_size=224, patch_size=16, in_channels=3, embed_dim=768):\n",
    "        super().__init__()\n",
    "        self.img_size = img_size\n",
    "        self.patch_size = patch_size\n",
    "        self.n_patches = (img_size // patch_size) ** 2\n",
    "        \n",
    "        # Use Conv2d to create patch embeddings\n",
    "        self.proj = nn.Conv2d(in_channels, embed_dim, kernel_size=patch_size, stride=patch_size)\n",
    "        \n",
    "    def forward(self, x):\n",
    "        # x shape: (B, C, H, W)\n",
    "        x = self.proj(x)  # (B, embed_dim, H', W') where H' = H/patch_size, W' = W/patch_size\n",
    "        x = x.flatten(2)  # (B, embed_dim, n_patches)\n",
    "        x = x.transpose(1, 2)  # (B, n_patches, embed_dim)\n",
    "        return x\n",
    "\n",
    "class MultiHeadAttention(nn.Module):\n",
    "    \"\"\"Multi-Head Self-Attention mechanism\"\"\"\n",
    "    def __init__(self, embed_dim=768, n_heads=12, dropout=0.1):\n",
    "        super().__init__()\n",
    "        self.embed_dim = embed_dim\n",
    "        self.n_heads = n_heads\n",
    "        self.head_dim = embed_dim // n_heads\n",
    "        assert self.head_dim * n_heads == embed_dim, \"embed_dim must be divisible by n_heads\"\n",
    "        \n",
    "        self.qkv = nn.Linear(embed_dim, embed_dim * 3)\n",
    "        self.proj = nn.Linear(embed_dim, embed_dim)\n",
    "        self.dropout = nn.Dropout(dropout)\n",
    "        \n",
    "    def forward(self, x):\n",
    "        B, N, C = x.shape\n",
    "        \n",
    "        # Generate Q, K, V\n",
    "        qkv = self.qkv(x).reshape(B, N, 3, self.n_heads, self.head_dim).permute(2, 0, 3, 1, 4)\n",
    "        q, k, v = qkv[0], qkv[1], qkv[2]  # (B, n_heads, N, head_dim)\n",
    "        \n",
    "        # Attention\n",
    "        attn = (q @ k.transpose(-2, -1)) * (self.head_dim ** -0.5)\n",
    "        attn = F.softmax(attn, dim=-1)\n",
    "        attn = self.dropout(attn)\n",
    "        \n",
    "        # Apply attention to values\n",
    "        x = (attn @ v).transpose(1, 2).reshape(B, N, C)\n",
    "        x = self.proj(x)\n",
    "        x = self.dropout(x)\n",
    "        \n",
    "        return x\n",
    "\n",
    "class MLP(nn.Module):\n",
    "    \"\"\"Multi-Layer Perceptron (Feed-Forward Network)\"\"\"\n",
    "    def __init__(self, in_features, hidden_features=None, out_features=None, dropout=0.1):\n",
    "        super().__init__()\n",
    "        out_features = out_features or in_features\n",
    "        hidden_features = hidden_features or in_features\n",
    "        \n",
    "        self.fc1 = nn.Linear(in_features, hidden_features)\n",
    "        self.act = nn.GELU()\n",
    "        self.fc2 = nn.Linear(hidden_features, out_features)\n",
    "        self.dropout = nn.Dropout(dropout)\n",
    "        \n",
    "    def forward(self, x):\n",
    "        x = self.fc1(x)\n",
    "        x = self.act(x)\n",
    "        x = self.dropout(x)\n",
    "        x = self.fc2(x)\n",
    "        x = self.dropout(x)\n",
    "        return x\n",
    "\n",
    "class TransformerBlock(nn.Module):\n",
    "    \"\"\"Transformer Encoder Block\"\"\"\n",
    "    def __init__(self, embed_dim=768, n_heads=12, mlp_ratio=4.0, dropout=0.1):\n",
    "        super().__init__()\n",
    "        self.norm1 = nn.LayerNorm(embed_dim)\n",
    "        self.attn = MultiHeadAttention(embed_dim, n_heads, dropout)\n",
    "        self.norm2 = nn.LayerNorm(embed_dim)\n",
    "        mlp_hidden_dim = int(embed_dim * mlp_ratio)\n",
    "        self.mlp = MLP(embed_dim, mlp_hidden_dim, dropout=dropout)\n",
    "        \n",
    "    def forward(self, x):\n",
    "        # Pre-norm architecture (Layer Norm before attention and MLP)\n",
    "        x = x + self.attn(self.norm1(x))\n",
    "        x = x + self.mlp(self.norm2(x))\n",
    "        return x\n",
    "\n",
    "class MyVisionTransformer(nn.Module):\n",
    "    \"\"\"Vision Transformer (ViT) Implementation from Scratch\"\"\"\n",
    "    def __init__(self, img_size=224, patch_size=16, in_channels=3, num_classes=4, \n",
    "                 embed_dim=768, depth=12, n_heads=12, mlp_ratio=4.0, dropout=0.1, \n",
    "                 emb_dropout=0.1):\n",
    "        super().__init__()\n",
    "        self.num_classes = num_classes\n",
    "        self.num_tokens = 1  # CLS token\n",
    "        self.embed_dim = embed_dim\n",
    "        \n",
    "        # Patch embedding\n",
    "        self.patch_embed = PatchEmbedding(img_size, patch_size, in_channels, embed_dim)\n",
    "        num_patches = self.patch_embed.n_patches\n",
    "        \n",
    "        # CLS token and positional embeddings\n",
    "        self.cls_token = nn.Parameter(torch.zeros(1, 1, embed_dim))\n",
    "        self.pos_embed = nn.Parameter(torch.zeros(1, num_patches + self.num_tokens, embed_dim))\n",
    "        self.pos_drop = nn.Dropout(emb_dropout)\n",
    "        \n",
    "        # Transformer blocks\n",
    "        self.blocks = nn.ModuleList([\n",
    "            TransformerBlock(embed_dim, n_heads, mlp_ratio, dropout)\n",
    "            for _ in range(depth)\n",
    "        ])\n",
    "        \n",
    "        # Classification head\n",
    "        self.norm = nn.LayerNorm(embed_dim)\n",
    "        self.head = nn.Linear(embed_dim, num_classes) if num_classes > 0 else nn.Identity()\n",
    "        \n",
    "        # Initialize weights\n",
    "        self._init_weights()\n",
    "        \n",
    "    def _init_weights(self):\n",
    "        \"\"\"Initialize weights\"\"\"\n",
    "        # Initialize positional embeddings\n",
    "        nn.init.trunc_normal_(self.pos_embed, std=0.02)\n",
    "        nn.init.trunc_normal_(self.cls_token, std=0.02)\n",
    "        \n",
    "        # Initialize other weights\n",
    "        for m in self.modules():\n",
    "            if isinstance(m, nn.Linear):\n",
    "                nn.init.trunc_normal_(m.weight, std=0.02)\n",
    "                if m.bias is not None:\n",
    "                    nn.init.constant_(m.bias, 0)\n",
    "            elif isinstance(m, nn.LayerNorm):\n",
    "                nn.init.constant_(m.bias, 0)\n",
    "                nn.init.constant_(m.weight, 1.0)\n",
    "            elif isinstance(m, nn.Conv2d):\n",
    "                nn.init.trunc_normal_(m.weight, std=0.02)\n",
    "                if m.bias is not None:\n",
    "                    nn.init.constant_(m.bias, 0)\n",
    "                    \n",
    "    def forward(self, x):\n",
    "        B = x.shape[0]\n",
    "        \n",
    "        # Create patch embeddings\n",
    "        x = self.patch_embed(x)  # (B, n_patches, embed_dim)\n",
    "        \n",
    "        # Add CLS token\n",
    "        cls_tokens = self.cls_token.expand(B, -1, -1)  # (B, 1, embed_dim)\n",
    "        x = torch.cat((cls_tokens, x), dim=1)  # (B, n_patches + 1, embed_dim)\n",
    "        \n",
    "        # Add positional embeddings\n",
    "        x = x + self.pos_embed\n",
    "        x = self.pos_drop(x)\n",
    "        \n",
    "        # Pass through transformer blocks\n",
    "        for block in self.blocks:\n",
    "            x = block(x)\n",
    "        \n",
    "        # Final layer norm and classification\n",
    "        x = self.norm(x)\n",
    "        \n",
    "        # Use CLS token for classification\n",
    "        cls_token_final = x[:, 0]  # (B, embed_dim)\n",
    "        x = self.head(cls_token_final)  # (B, num_classes)\n",
    "        \n",
    "        return x"
   ]
  },
  {
   "cell_type": "code",
   "execution_count": 8,
   "id": "9ca5031c",
   "metadata": {
    "execution": {
     "iopub.execute_input": "2025-09-09T18:33:47.938015Z",
     "iopub.status.busy": "2025-09-09T18:33:47.937815Z",
     "iopub.status.idle": "2025-09-09T18:33:50.642430Z",
     "shell.execute_reply": "2025-09-09T18:33:50.640571Z"
    },
    "papermill": {
     "duration": 2.709044,
     "end_time": "2025-09-09T18:33:50.643953",
     "exception": false,
     "start_time": "2025-09-09T18:33:47.934909",
     "status": "completed"
    },
    "tags": []
   },
   "outputs": [
    {
     "name": "stdout",
     "output_type": "stream",
     "text": [
      "Vision Transformer (ViT) Model Summary:\n",
      "----------------------------------------------------------------\n",
      "        Layer (type)               Output Shape         Param #\n",
      "================================================================\n",
      "            Conv2d-1          [-1, 768, 14, 14]         590,592\n",
      "    PatchEmbedding-2             [-1, 196, 768]               0\n",
      "           Dropout-3             [-1, 197, 768]               0\n",
      "         LayerNorm-4             [-1, 197, 768]           1,536\n",
      "            Linear-5            [-1, 197, 2304]       1,771,776\n",
      "           Dropout-6         [-1, 12, 197, 197]               0\n",
      "            Linear-7             [-1, 197, 768]         590,592\n",
      "           Dropout-8             [-1, 197, 768]               0\n",
      "MultiHeadAttention-9             [-1, 197, 768]               0\n",
      "        LayerNorm-10             [-1, 197, 768]           1,536\n",
      "           Linear-11            [-1, 197, 3072]       2,362,368\n",
      "             GELU-12            [-1, 197, 3072]               0\n",
      "          Dropout-13            [-1, 197, 3072]               0\n",
      "           Linear-14             [-1, 197, 768]       2,360,064\n",
      "          Dropout-15             [-1, 197, 768]               0\n",
      "              MLP-16             [-1, 197, 768]               0\n",
      " TransformerBlock-17             [-1, 197, 768]               0\n",
      "        LayerNorm-18             [-1, 197, 768]           1,536\n",
      "           Linear-19            [-1, 197, 2304]       1,771,776\n",
      "          Dropout-20         [-1, 12, 197, 197]               0\n",
      "           Linear-21             [-1, 197, 768]         590,592\n",
      "          Dropout-22             [-1, 197, 768]               0\n",
      "MultiHeadAttention-23             [-1, 197, 768]               0\n",
      "        LayerNorm-24             [-1, 197, 768]           1,536\n",
      "           Linear-25            [-1, 197, 3072]       2,362,368\n",
      "             GELU-26            [-1, 197, 3072]               0\n",
      "          Dropout-27            [-1, 197, 3072]               0\n",
      "           Linear-28             [-1, 197, 768]       2,360,064\n",
      "          Dropout-29             [-1, 197, 768]               0\n",
      "              MLP-30             [-1, 197, 768]               0\n",
      " TransformerBlock-31             [-1, 197, 768]               0\n",
      "        LayerNorm-32             [-1, 197, 768]           1,536\n",
      "           Linear-33            [-1, 197, 2304]       1,771,776\n",
      "          Dropout-34         [-1, 12, 197, 197]               0\n",
      "           Linear-35             [-1, 197, 768]         590,592\n",
      "          Dropout-36             [-1, 197, 768]               0\n",
      "MultiHeadAttention-37             [-1, 197, 768]               0\n",
      "        LayerNorm-38             [-1, 197, 768]           1,536\n",
      "           Linear-39            [-1, 197, 3072]       2,362,368\n",
      "             GELU-40            [-1, 197, 3072]               0\n",
      "          Dropout-41            [-1, 197, 3072]               0\n",
      "           Linear-42             [-1, 197, 768]       2,360,064\n",
      "          Dropout-43             [-1, 197, 768]               0\n",
      "              MLP-44             [-1, 197, 768]               0\n",
      " TransformerBlock-45             [-1, 197, 768]               0\n",
      "        LayerNorm-46             [-1, 197, 768]           1,536\n",
      "           Linear-47            [-1, 197, 2304]       1,771,776\n",
      "          Dropout-48         [-1, 12, 197, 197]               0\n",
      "           Linear-49             [-1, 197, 768]         590,592\n",
      "          Dropout-50             [-1, 197, 768]               0\n",
      "MultiHeadAttention-51             [-1, 197, 768]               0\n",
      "        LayerNorm-52             [-1, 197, 768]           1,536\n",
      "           Linear-53            [-1, 197, 3072]       2,362,368\n",
      "             GELU-54            [-1, 197, 3072]               0\n",
      "          Dropout-55            [-1, 197, 3072]               0\n",
      "           Linear-56             [-1, 197, 768]       2,360,064\n",
      "          Dropout-57             [-1, 197, 768]               0\n",
      "              MLP-58             [-1, 197, 768]               0\n",
      " TransformerBlock-59             [-1, 197, 768]               0\n",
      "        LayerNorm-60             [-1, 197, 768]           1,536\n",
      "           Linear-61            [-1, 197, 2304]       1,771,776\n",
      "          Dropout-62         [-1, 12, 197, 197]               0\n",
      "           Linear-63             [-1, 197, 768]         590,592\n",
      "          Dropout-64             [-1, 197, 768]               0\n",
      "MultiHeadAttention-65             [-1, 197, 768]               0\n",
      "        LayerNorm-66             [-1, 197, 768]           1,536\n",
      "           Linear-67            [-1, 197, 3072]       2,362,368\n",
      "             GELU-68            [-1, 197, 3072]               0\n",
      "          Dropout-69            [-1, 197, 3072]               0\n",
      "           Linear-70             [-1, 197, 768]       2,360,064\n",
      "          Dropout-71             [-1, 197, 768]               0\n",
      "              MLP-72             [-1, 197, 768]               0\n",
      " TransformerBlock-73             [-1, 197, 768]               0\n",
      "        LayerNorm-74             [-1, 197, 768]           1,536\n",
      "           Linear-75            [-1, 197, 2304]       1,771,776\n",
      "          Dropout-76         [-1, 12, 197, 197]               0\n",
      "           Linear-77             [-1, 197, 768]         590,592\n",
      "          Dropout-78             [-1, 197, 768]               0\n",
      "MultiHeadAttention-79             [-1, 197, 768]               0\n",
      "        LayerNorm-80             [-1, 197, 768]           1,536\n",
      "           Linear-81            [-1, 197, 3072]       2,362,368\n",
      "             GELU-82            [-1, 197, 3072]               0\n",
      "          Dropout-83            [-1, 197, 3072]               0\n",
      "           Linear-84             [-1, 197, 768]       2,360,064\n",
      "          Dropout-85             [-1, 197, 768]               0\n",
      "              MLP-86             [-1, 197, 768]               0\n",
      " TransformerBlock-87             [-1, 197, 768]               0\n",
      "        LayerNorm-88             [-1, 197, 768]           1,536\n",
      "           Linear-89            [-1, 197, 2304]       1,771,776\n",
      "          Dropout-90         [-1, 12, 197, 197]               0\n",
      "           Linear-91             [-1, 197, 768]         590,592\n",
      "          Dropout-92             [-1, 197, 768]               0\n",
      "MultiHeadAttention-93             [-1, 197, 768]               0\n",
      "        LayerNorm-94             [-1, 197, 768]           1,536\n",
      "           Linear-95            [-1, 197, 3072]       2,362,368\n",
      "             GELU-96            [-1, 197, 3072]               0\n",
      "          Dropout-97            [-1, 197, 3072]               0\n",
      "           Linear-98             [-1, 197, 768]       2,360,064\n",
      "          Dropout-99             [-1, 197, 768]               0\n",
      "             MLP-100             [-1, 197, 768]               0\n",
      "TransformerBlock-101             [-1, 197, 768]               0\n",
      "       LayerNorm-102             [-1, 197, 768]           1,536\n",
      "          Linear-103            [-1, 197, 2304]       1,771,776\n",
      "         Dropout-104         [-1, 12, 197, 197]               0\n",
      "          Linear-105             [-1, 197, 768]         590,592\n",
      "         Dropout-106             [-1, 197, 768]               0\n",
      "MultiHeadAttention-107             [-1, 197, 768]               0\n",
      "       LayerNorm-108             [-1, 197, 768]           1,536\n",
      "          Linear-109            [-1, 197, 3072]       2,362,368\n",
      "            GELU-110            [-1, 197, 3072]               0\n",
      "         Dropout-111            [-1, 197, 3072]               0\n",
      "          Linear-112             [-1, 197, 768]       2,360,064\n",
      "         Dropout-113             [-1, 197, 768]               0\n",
      "             MLP-114             [-1, 197, 768]               0\n",
      "TransformerBlock-115             [-1, 197, 768]               0\n",
      "       LayerNorm-116             [-1, 197, 768]           1,536\n",
      "          Linear-117            [-1, 197, 2304]       1,771,776\n",
      "         Dropout-118         [-1, 12, 197, 197]               0\n",
      "          Linear-119             [-1, 197, 768]         590,592\n",
      "         Dropout-120             [-1, 197, 768]               0\n",
      "MultiHeadAttention-121             [-1, 197, 768]               0\n",
      "       LayerNorm-122             [-1, 197, 768]           1,536\n",
      "          Linear-123            [-1, 197, 3072]       2,362,368\n",
      "            GELU-124            [-1, 197, 3072]               0\n",
      "         Dropout-125            [-1, 197, 3072]               0\n",
      "          Linear-126             [-1, 197, 768]       2,360,064\n",
      "         Dropout-127             [-1, 197, 768]               0\n",
      "             MLP-128             [-1, 197, 768]               0\n",
      "TransformerBlock-129             [-1, 197, 768]               0\n",
      "       LayerNorm-130             [-1, 197, 768]           1,536\n",
      "          Linear-131            [-1, 197, 2304]       1,771,776\n",
      "         Dropout-132         [-1, 12, 197, 197]               0\n",
      "          Linear-133             [-1, 197, 768]         590,592\n",
      "         Dropout-134             [-1, 197, 768]               0\n",
      "MultiHeadAttention-135             [-1, 197, 768]               0\n",
      "       LayerNorm-136             [-1, 197, 768]           1,536\n",
      "          Linear-137            [-1, 197, 3072]       2,362,368\n",
      "            GELU-138            [-1, 197, 3072]               0\n",
      "         Dropout-139            [-1, 197, 3072]               0\n",
      "          Linear-140             [-1, 197, 768]       2,360,064\n",
      "         Dropout-141             [-1, 197, 768]               0\n",
      "             MLP-142             [-1, 197, 768]               0\n",
      "TransformerBlock-143             [-1, 197, 768]               0\n",
      "       LayerNorm-144             [-1, 197, 768]           1,536\n",
      "          Linear-145            [-1, 197, 2304]       1,771,776\n",
      "         Dropout-146         [-1, 12, 197, 197]               0\n",
      "          Linear-147             [-1, 197, 768]         590,592\n",
      "         Dropout-148             [-1, 197, 768]               0\n",
      "MultiHeadAttention-149             [-1, 197, 768]               0\n",
      "       LayerNorm-150             [-1, 197, 768]           1,536\n",
      "          Linear-151            [-1, 197, 3072]       2,362,368\n",
      "            GELU-152            [-1, 197, 3072]               0\n",
      "         Dropout-153            [-1, 197, 3072]               0\n",
      "          Linear-154             [-1, 197, 768]       2,360,064\n",
      "         Dropout-155             [-1, 197, 768]               0\n",
      "             MLP-156             [-1, 197, 768]               0\n",
      "TransformerBlock-157             [-1, 197, 768]               0\n",
      "       LayerNorm-158             [-1, 197, 768]           1,536\n",
      "          Linear-159            [-1, 197, 2304]       1,771,776\n",
      "         Dropout-160         [-1, 12, 197, 197]               0\n",
      "          Linear-161             [-1, 197, 768]         590,592\n",
      "         Dropout-162             [-1, 197, 768]               0\n",
      "MultiHeadAttention-163             [-1, 197, 768]               0\n",
      "       LayerNorm-164             [-1, 197, 768]           1,536\n",
      "          Linear-165            [-1, 197, 3072]       2,362,368\n",
      "            GELU-166            [-1, 197, 3072]               0\n",
      "         Dropout-167            [-1, 197, 3072]               0\n",
      "          Linear-168             [-1, 197, 768]       2,360,064\n",
      "         Dropout-169             [-1, 197, 768]               0\n",
      "             MLP-170             [-1, 197, 768]               0\n",
      "TransformerBlock-171             [-1, 197, 768]               0\n",
      "       LayerNorm-172             [-1, 197, 768]           1,536\n",
      "          Linear-173                    [-1, 4]           3,076\n",
      "================================================================\n",
      "Total params: 85,649,668\n",
      "Trainable params: 85,649,668\n",
      "Non-trainable params: 0\n",
      "----------------------------------------------------------------\n",
      "Input size (MB): 0.57\n",
      "Forward/backward pass size (MB): 379.68\n",
      "Params size (MB): 326.73\n",
      "Estimated Total Size (MB): 706.98\n",
      "----------------------------------------------------------------\n"
     ]
    }
   ],
   "source": [
    "# -----------------------------\n",
    "# 3. Training Setup\n",
    "# -----------------------------\n",
    "device = torch.device(\"cuda\" if torch.cuda.is_available() else \"cpu\")\n",
    "\n",
    "# ViT-Base configuration\n",
    "model = MyVisionTransformer(\n",
    "    img_size=224,\n",
    "    patch_size=16,\n",
    "    in_channels=3,\n",
    "    num_classes=len(classes),\n",
    "    embed_dim=768,\n",
    "    depth=12,\n",
    "    n_heads=12,\n",
    "    mlp_ratio=4.0,\n",
    "    dropout=0.1,\n",
    "    emb_dropout=0.1\n",
    ").to(device)\n",
    "\n",
    "criterion = nn.CrossEntropyLoss()\n",
    "optimizer = torch.optim.Adam(model.parameters(), lr=0.0001, weight_decay=0.05)  # Lower LR for ViT\n",
    "\n",
    "print(\"Vision Transformer (ViT) Model Summary:\")\n",
    "try:\n",
    "    summary(model, (3, 224, 224))\n",
    "except:\n",
    "    print(\"Model summary generation failed - this is normal for complex architectures\")\n",
    "    print(f\"Model created successfully with {sum(p.numel() for p in model.parameters()):,} parameters\")"
   ]
  },
  {
   "cell_type": "code",
   "execution_count": 9,
   "id": "66a2408e",
   "metadata": {
    "execution": {
     "iopub.execute_input": "2025-09-09T18:33:50.653051Z",
     "iopub.status.busy": "2025-09-09T18:33:50.652805Z",
     "iopub.status.idle": "2025-09-10T01:15:33.204865Z",
     "shell.execute_reply": "2025-09-10T01:15:33.204159Z"
    },
    "papermill": {
     "duration": 24102.558715,
     "end_time": "2025-09-10T01:15:33.207644",
     "exception": false,
     "start_time": "2025-09-09T18:33:50.648929",
     "status": "completed"
    },
    "tags": []
   },
   "outputs": [
    {
     "name": "stdout",
     "output_type": "stream",
     "text": [
      "\n",
      "🚀 Starting Vision Transformer Training for 50 epochs...\n",
      "================================================================================\n",
      "\n",
      "📈 Epoch 1/50\n",
      "--------------------------------------------------\n",
      "🔄 Training Phase...\n"
     ]
    },
    {
     "name": "stderr",
     "output_type": "stream",
     "text": [
      "Training: 100%|██████████████████████████████| 311/311 [07:45<00:00,  1.50s/it, Loss=1.2398, Acc=0.4923, GPU=1.3GB]\n"
     ]
    },
    {
     "name": "stdout",
     "output_type": "stream",
     "text": [
      "✅ Training completed in 465.84s\n",
      "🔍 Validation Phase...\n"
     ]
    },
    {
     "name": "stderr",
     "output_type": "stream",
     "text": [
      "Validation: 100%|██████████████████████████████| 81/81 [01:04<00:00,  1.26it/s, Loss=1.2637, Acc=0.5000]\n"
     ]
    },
    {
     "name": "stdout",
     "output_type": "stream",
     "text": [
      "✅ Validation completed in 64.41s\n",
      "🌟 New best Vision Transformer model found! Validation Accuracy: 0.5000\n",
      "\n",
      "📊 Epoch 1 Summary:\n",
      "│ Train Loss: 1.2398 | Train Acc: 0.4923\n",
      "│ Val Loss:   1.2637 | Val Acc:   0.5000\n",
      "│ Train Time: 465.84s | Val Time: 64.41s\n",
      "│ Total Epoch Time: 530.25s\n",
      "│ Best Val Acc: 0.5000 (Epoch 1)\n",
      "│ GPU Memory: 1.3GB / 6.7GB\n",
      "================================================================================\n",
      "\n",
      "📈 Epoch 2/50\n",
      "--------------------------------------------------\n",
      "🔄 Training Phase...\n"
     ]
    },
    {
     "name": "stderr",
     "output_type": "stream",
     "text": [
      "Training: 100%|██████████████████████████████| 311/311 [07:11<00:00,  1.39s/it, Loss=1.1620, Acc=0.5134, GPU=1.3GB]\n"
     ]
    },
    {
     "name": "stdout",
     "output_type": "stream",
     "text": [
      "✅ Training completed in 431.58s\n",
      "🔍 Validation Phase...\n"
     ]
    },
    {
     "name": "stderr",
     "output_type": "stream",
     "text": [
      "Validation: 100%|██████████████████████████████| 81/81 [00:48<00:00,  1.68it/s, Loss=1.1543, Acc=0.5190]\n"
     ]
    },
    {
     "name": "stdout",
     "output_type": "stream",
     "text": [
      "✅ Validation completed in 48.08s\n",
      "🌟 New best Vision Transformer model found! Validation Accuracy: 0.5190\n",
      "\n",
      "📊 Epoch 2 Summary:\n",
      "│ Train Loss: 1.1620 | Train Acc: 0.5134\n",
      "│ Val Loss:   1.1543 | Val Acc:   0.5190\n",
      "│ Train Time: 431.58s | Val Time: 48.08s\n",
      "│ Total Epoch Time: 479.66s\n",
      "│ Best Val Acc: 0.5190 (Epoch 2)\n",
      "│ GPU Memory: 1.3GB / 6.7GB\n",
      "================================================================================\n",
      "\n",
      "📈 Epoch 3/50\n",
      "--------------------------------------------------\n",
      "🔄 Training Phase...\n"
     ]
    },
    {
     "name": "stderr",
     "output_type": "stream",
     "text": [
      "Training: 100%|██████████████████████████████| 311/311 [07:30<00:00,  1.45s/it, Loss=1.1293, Acc=0.5179, GPU=1.3GB]\n"
     ]
    },
    {
     "name": "stdout",
     "output_type": "stream",
     "text": [
      "✅ Training completed in 450.31s\n",
      "🔍 Validation Phase...\n"
     ]
    },
    {
     "name": "stderr",
     "output_type": "stream",
     "text": [
      "Validation: 100%|██████████████████████████████| 81/81 [00:49<00:00,  1.65it/s, Loss=1.1920, Acc=0.5120]\n"
     ]
    },
    {
     "name": "stdout",
     "output_type": "stream",
     "text": [
      "✅ Validation completed in 49.22s\n",
      "\n",
      "📊 Epoch 3 Summary:\n",
      "│ Train Loss: 1.1293 | Train Acc: 0.5179\n",
      "│ Val Loss:   1.1920 | Val Acc:   0.5120\n",
      "│ Train Time: 450.31s | Val Time: 49.22s\n",
      "│ Total Epoch Time: 499.53s\n",
      "│ Best Val Acc: 0.5190 (Epoch 2)\n",
      "│ GPU Memory: 1.3GB / 6.7GB\n",
      "================================================================================\n",
      "\n",
      "📈 Epoch 4/50\n",
      "--------------------------------------------------\n",
      "🔄 Training Phase...\n"
     ]
    },
    {
     "name": "stderr",
     "output_type": "stream",
     "text": [
      "Training: 100%|██████████████████████████████| 311/311 [07:26<00:00,  1.44s/it, Loss=1.1099, Acc=0.5189, GPU=1.3GB]\n"
     ]
    },
    {
     "name": "stdout",
     "output_type": "stream",
     "text": [
      "✅ Training completed in 446.88s\n",
      "🔍 Validation Phase...\n"
     ]
    },
    {
     "name": "stderr",
     "output_type": "stream",
     "text": [
      "Validation: 100%|██████████████████████████████| 81/81 [00:47<00:00,  1.70it/s, Loss=1.1348, Acc=0.5167]\n"
     ]
    },
    {
     "name": "stdout",
     "output_type": "stream",
     "text": [
      "✅ Validation completed in 47.60s\n",
      "\n",
      "📊 Epoch 4 Summary:\n",
      "│ Train Loss: 1.1099 | Train Acc: 0.5189\n",
      "│ Val Loss:   1.1348 | Val Acc:   0.5167\n",
      "│ Train Time: 446.88s | Val Time: 47.60s\n",
      "│ Total Epoch Time: 494.49s\n",
      "│ Best Val Acc: 0.5190 (Epoch 2)\n",
      "│ GPU Memory: 1.3GB / 6.7GB\n",
      "================================================================================\n",
      "\n",
      "📈 Epoch 5/50\n",
      "--------------------------------------------------\n",
      "🔄 Training Phase...\n"
     ]
    },
    {
     "name": "stderr",
     "output_type": "stream",
     "text": [
      "Training: 100%|██████████████████████████████| 311/311 [07:08<00:00,  1.38s/it, Loss=1.0905, Acc=0.5297, GPU=1.3GB]\n"
     ]
    },
    {
     "name": "stdout",
     "output_type": "stream",
     "text": [
      "✅ Training completed in 428.49s\n",
      "🔍 Validation Phase...\n"
     ]
    },
    {
     "name": "stderr",
     "output_type": "stream",
     "text": [
      "Validation: 100%|██████████████████████████████| 81/81 [00:47<00:00,  1.70it/s, Loss=1.1315, Acc=0.5163]\n"
     ]
    },
    {
     "name": "stdout",
     "output_type": "stream",
     "text": [
      "✅ Validation completed in 47.58s\n",
      "\n",
      "📊 Epoch 5 Summary:\n",
      "│ Train Loss: 1.0905 | Train Acc: 0.5297\n",
      "│ Val Loss:   1.1315 | Val Acc:   0.5163\n",
      "│ Train Time: 428.49s | Val Time: 47.58s\n",
      "│ Total Epoch Time: 476.07s\n",
      "│ Best Val Acc: 0.5190 (Epoch 2)\n",
      "│ GPU Memory: 1.3GB / 6.7GB\n",
      "================================================================================\n",
      "\n",
      "📈 Epoch 6/50\n",
      "--------------------------------------------------\n",
      "🔄 Training Phase...\n"
     ]
    },
    {
     "name": "stderr",
     "output_type": "stream",
     "text": [
      "Training: 100%|██████████████████████████████| 311/311 [07:10<00:00,  1.38s/it, Loss=1.0847, Acc=0.5326, GPU=1.3GB]\n"
     ]
    },
    {
     "name": "stdout",
     "output_type": "stream",
     "text": [
      "✅ Training completed in 430.74s\n",
      "🔍 Validation Phase...\n"
     ]
    },
    {
     "name": "stderr",
     "output_type": "stream",
     "text": [
      "Validation: 100%|██████████████████████████████| 81/81 [00:46<00:00,  1.73it/s, Loss=1.1216, Acc=0.5179]\n"
     ]
    },
    {
     "name": "stdout",
     "output_type": "stream",
     "text": [
      "✅ Validation completed in 46.87s\n",
      "\n",
      "📊 Epoch 6 Summary:\n",
      "│ Train Loss: 1.0847 | Train Acc: 0.5326\n",
      "│ Val Loss:   1.1216 | Val Acc:   0.5179\n",
      "│ Train Time: 430.74s | Val Time: 46.87s\n",
      "│ Total Epoch Time: 477.61s\n",
      "│ Best Val Acc: 0.5190 (Epoch 2)\n",
      "│ GPU Memory: 1.3GB / 6.7GB\n",
      "================================================================================\n",
      "\n",
      "📈 Epoch 7/50\n",
      "--------------------------------------------------\n",
      "🔄 Training Phase...\n"
     ]
    },
    {
     "name": "stderr",
     "output_type": "stream",
     "text": [
      "Training: 100%|██████████████████████████████| 311/311 [07:09<00:00,  1.38s/it, Loss=1.0950, Acc=0.5345, GPU=1.3GB]\n"
     ]
    },
    {
     "name": "stdout",
     "output_type": "stream",
     "text": [
      "✅ Training completed in 429.69s\n",
      "🔍 Validation Phase...\n"
     ]
    },
    {
     "name": "stderr",
     "output_type": "stream",
     "text": [
      "Validation: 100%|██████████████████████████████| 81/81 [00:47<00:00,  1.72it/s, Loss=1.1487, Acc=0.5132]\n"
     ]
    },
    {
     "name": "stdout",
     "output_type": "stream",
     "text": [
      "✅ Validation completed in 47.10s\n",
      "\n",
      "📊 Epoch 7 Summary:\n",
      "│ Train Loss: 1.0950 | Train Acc: 0.5345\n",
      "│ Val Loss:   1.1487 | Val Acc:   0.5132\n",
      "│ Train Time: 429.69s | Val Time: 47.10s\n",
      "│ Total Epoch Time: 476.80s\n",
      "│ Best Val Acc: 0.5190 (Epoch 2)\n",
      "│ GPU Memory: 1.3GB / 6.7GB\n",
      "================================================================================\n",
      "\n",
      "📈 Epoch 8/50\n",
      "--------------------------------------------------\n",
      "🔄 Training Phase...\n"
     ]
    },
    {
     "name": "stderr",
     "output_type": "stream",
     "text": [
      "Training: 100%|██████████████████████████████| 311/311 [07:09<00:00,  1.38s/it, Loss=1.0887, Acc=0.5336, GPU=1.3GB]\n"
     ]
    },
    {
     "name": "stdout",
     "output_type": "stream",
     "text": [
      "✅ Training completed in 429.23s\n",
      "🔍 Validation Phase...\n"
     ]
    },
    {
     "name": "stderr",
     "output_type": "stream",
     "text": [
      "Validation: 100%|██████████████████████████████| 81/81 [00:46<00:00,  1.72it/s, Loss=1.1567, Acc=0.5167]\n"
     ]
    },
    {
     "name": "stdout",
     "output_type": "stream",
     "text": [
      "✅ Validation completed in 46.99s\n",
      "\n",
      "📊 Epoch 8 Summary:\n",
      "│ Train Loss: 1.0887 | Train Acc: 0.5336\n",
      "│ Val Loss:   1.1567 | Val Acc:   0.5167\n",
      "│ Train Time: 429.23s | Val Time: 46.99s\n",
      "│ Total Epoch Time: 476.22s\n",
      "│ Best Val Acc: 0.5190 (Epoch 2)\n",
      "│ GPU Memory: 1.3GB / 6.7GB\n",
      "================================================================================\n",
      "\n",
      "📈 Epoch 9/50\n",
      "--------------------------------------------------\n",
      "🔄 Training Phase...\n"
     ]
    },
    {
     "name": "stderr",
     "output_type": "stream",
     "text": [
      "Training: 100%|██████████████████████████████| 311/311 [07:09<00:00,  1.38s/it, Loss=1.0922, Acc=0.5342, GPU=1.3GB]\n"
     ]
    },
    {
     "name": "stdout",
     "output_type": "stream",
     "text": [
      "✅ Training completed in 429.06s\n",
      "🔍 Validation Phase...\n"
     ]
    },
    {
     "name": "stderr",
     "output_type": "stream",
     "text": [
      "Validation: 100%|██████████████████████████████| 81/81 [00:47<00:00,  1.71it/s, Loss=1.2524, Acc=0.5109]\n"
     ]
    },
    {
     "name": "stdout",
     "output_type": "stream",
     "text": [
      "✅ Validation completed in 47.24s\n",
      "\n",
      "📊 Epoch 9 Summary:\n",
      "│ Train Loss: 1.0922 | Train Acc: 0.5342\n",
      "│ Val Loss:   1.2524 | Val Acc:   0.5109\n",
      "│ Train Time: 429.06s | Val Time: 47.24s\n",
      "│ Total Epoch Time: 476.30s\n",
      "│ Best Val Acc: 0.5190 (Epoch 2)\n",
      "│ GPU Memory: 1.3GB / 6.7GB\n",
      "================================================================================\n",
      "\n",
      "📈 Epoch 10/50\n",
      "--------------------------------------------------\n",
      "🔄 Training Phase...\n"
     ]
    },
    {
     "name": "stderr",
     "output_type": "stream",
     "text": [
      "Training: 100%|██████████████████████████████| 311/311 [07:22<00:00,  1.42s/it, Loss=1.0965, Acc=0.5337, GPU=1.3GB]\n"
     ]
    },
    {
     "name": "stdout",
     "output_type": "stream",
     "text": [
      "✅ Training completed in 442.54s\n",
      "🔍 Validation Phase...\n"
     ]
    },
    {
     "name": "stderr",
     "output_type": "stream",
     "text": [
      "Validation: 100%|██████████████████████████████| 81/81 [00:49<00:00,  1.63it/s, Loss=1.1726, Acc=0.5182]\n"
     ]
    },
    {
     "name": "stdout",
     "output_type": "stream",
     "text": [
      "✅ Validation completed in 49.70s\n",
      "\n",
      "📊 Epoch 10 Summary:\n",
      "│ Train Loss: 1.0965 | Train Acc: 0.5337\n",
      "│ Val Loss:   1.1726 | Val Acc:   0.5182\n",
      "│ Train Time: 442.54s | Val Time: 49.70s\n",
      "│ Total Epoch Time: 492.24s\n",
      "│ Best Val Acc: 0.5190 (Epoch 2)\n",
      "│ GPU Memory: 1.3GB / 6.7GB\n",
      "================================================================================\n",
      "\n",
      "📈 Epoch 11/50\n",
      "--------------------------------------------------\n",
      "🔄 Training Phase...\n"
     ]
    },
    {
     "name": "stderr",
     "output_type": "stream",
     "text": [
      "Training: 100%|██████████████████████████████| 311/311 [07:34<00:00,  1.46s/it, Loss=1.0930, Acc=0.5336, GPU=1.3GB]\n"
     ]
    },
    {
     "name": "stdout",
     "output_type": "stream",
     "text": [
      "✅ Training completed in 454.02s\n",
      "🔍 Validation Phase...\n"
     ]
    },
    {
     "name": "stderr",
     "output_type": "stream",
     "text": [
      "Validation: 100%|██████████████████████████████| 81/81 [00:50<00:00,  1.60it/s, Loss=1.1353, Acc=0.5221]\n"
     ]
    },
    {
     "name": "stdout",
     "output_type": "stream",
     "text": [
      "✅ Validation completed in 50.75s\n",
      "🌟 New best Vision Transformer model found! Validation Accuracy: 0.5221\n",
      "\n",
      "📊 Epoch 11 Summary:\n",
      "│ Train Loss: 1.0930 | Train Acc: 0.5336\n",
      "│ Val Loss:   1.1353 | Val Acc:   0.5221\n",
      "│ Train Time: 454.02s | Val Time: 50.75s\n",
      "│ Total Epoch Time: 504.78s\n",
      "│ Best Val Acc: 0.5221 (Epoch 11)\n",
      "│ GPU Memory: 1.3GB / 6.7GB\n",
      "================================================================================\n",
      "\n",
      "📈 Epoch 12/50\n",
      "--------------------------------------------------\n",
      "🔄 Training Phase...\n"
     ]
    },
    {
     "name": "stderr",
     "output_type": "stream",
     "text": [
      "Training: 100%|██████████████████████████████| 311/311 [07:16<00:00,  1.40s/it, Loss=1.0939, Acc=0.5330, GPU=1.3GB]\n"
     ]
    },
    {
     "name": "stdout",
     "output_type": "stream",
     "text": [
      "✅ Training completed in 436.78s\n",
      "🔍 Validation Phase...\n"
     ]
    },
    {
     "name": "stderr",
     "output_type": "stream",
     "text": [
      "Validation: 100%|██████████████████████████████| 81/81 [00:48<00:00,  1.68it/s, Loss=1.1662, Acc=0.4996]\n"
     ]
    },
    {
     "name": "stdout",
     "output_type": "stream",
     "text": [
      "✅ Validation completed in 48.23s\n",
      "\n",
      "📊 Epoch 12 Summary:\n",
      "│ Train Loss: 1.0939 | Train Acc: 0.5330\n",
      "│ Val Loss:   1.1662 | Val Acc:   0.4996\n",
      "│ Train Time: 436.78s | Val Time: 48.23s\n",
      "│ Total Epoch Time: 485.02s\n",
      "│ Best Val Acc: 0.5221 (Epoch 11)\n",
      "│ GPU Memory: 1.3GB / 6.7GB\n",
      "================================================================================\n",
      "\n",
      "📈 Epoch 13/50\n",
      "--------------------------------------------------\n",
      "🔄 Training Phase...\n"
     ]
    },
    {
     "name": "stderr",
     "output_type": "stream",
     "text": [
      "Training: 100%|██████████████████████████████| 311/311 [07:11<00:00,  1.39s/it, Loss=1.0948, Acc=0.5337, GPU=1.3GB]\n"
     ]
    },
    {
     "name": "stdout",
     "output_type": "stream",
     "text": [
      "✅ Training completed in 431.33s\n",
      "🔍 Validation Phase...\n"
     ]
    },
    {
     "name": "stderr",
     "output_type": "stream",
     "text": [
      "Validation: 100%|██████████████████████████████| 81/81 [00:47<00:00,  1.72it/s, Loss=1.1269, Acc=0.5280]\n"
     ]
    },
    {
     "name": "stdout",
     "output_type": "stream",
     "text": [
      "✅ Validation completed in 47.15s\n",
      "🌟 New best Vision Transformer model found! Validation Accuracy: 0.5280\n",
      "\n",
      "📊 Epoch 13 Summary:\n",
      "│ Train Loss: 1.0948 | Train Acc: 0.5337\n",
      "│ Val Loss:   1.1269 | Val Acc:   0.5280\n",
      "│ Train Time: 431.33s | Val Time: 47.15s\n",
      "│ Total Epoch Time: 478.49s\n",
      "│ Best Val Acc: 0.5280 (Epoch 13)\n",
      "│ GPU Memory: 1.3GB / 6.7GB\n",
      "================================================================================\n",
      "\n",
      "📈 Epoch 14/50\n",
      "--------------------------------------------------\n",
      "🔄 Training Phase...\n"
     ]
    },
    {
     "name": "stderr",
     "output_type": "stream",
     "text": [
      "Training: 100%|██████████████████████████████| 311/311 [07:08<00:00,  1.38s/it, Loss=1.1017, Acc=0.5322, GPU=1.3GB]\n"
     ]
    },
    {
     "name": "stdout",
     "output_type": "stream",
     "text": [
      "✅ Training completed in 428.05s\n",
      "🔍 Validation Phase...\n"
     ]
    },
    {
     "name": "stderr",
     "output_type": "stream",
     "text": [
      "Validation: 100%|██████████████████████████████| 81/81 [00:47<00:00,  1.71it/s, Loss=1.1509, Acc=0.5260]\n"
     ]
    },
    {
     "name": "stdout",
     "output_type": "stream",
     "text": [
      "✅ Validation completed in 47.47s\n",
      "\n",
      "📊 Epoch 14 Summary:\n",
      "│ Train Loss: 1.1017 | Train Acc: 0.5322\n",
      "│ Val Loss:   1.1509 | Val Acc:   0.5260\n",
      "│ Train Time: 428.05s | Val Time: 47.47s\n",
      "│ Total Epoch Time: 475.52s\n",
      "│ Best Val Acc: 0.5280 (Epoch 13)\n",
      "│ GPU Memory: 1.3GB / 6.7GB\n",
      "================================================================================\n",
      "\n",
      "📈 Epoch 15/50\n",
      "--------------------------------------------------\n",
      "🔄 Training Phase...\n"
     ]
    },
    {
     "name": "stderr",
     "output_type": "stream",
     "text": [
      "Training: 100%|██████████████████████████████| 311/311 [07:09<00:00,  1.38s/it, Loss=1.0928, Acc=0.5350, GPU=1.3GB]\n"
     ]
    },
    {
     "name": "stdout",
     "output_type": "stream",
     "text": [
      "✅ Training completed in 429.16s\n",
      "🔍 Validation Phase...\n"
     ]
    },
    {
     "name": "stderr",
     "output_type": "stream",
     "text": [
      "Validation: 100%|██████████████████████████████| 81/81 [00:49<00:00,  1.65it/s, Loss=1.2255, Acc=0.5109]\n"
     ]
    },
    {
     "name": "stdout",
     "output_type": "stream",
     "text": [
      "✅ Validation completed in 49.13s\n",
      "\n",
      "📊 Epoch 15 Summary:\n",
      "│ Train Loss: 1.0928 | Train Acc: 0.5350\n",
      "│ Val Loss:   1.2255 | Val Acc:   0.5109\n",
      "│ Train Time: 429.16s | Val Time: 49.13s\n",
      "│ Total Epoch Time: 478.29s\n",
      "│ Best Val Acc: 0.5280 (Epoch 13)\n",
      "│ GPU Memory: 1.3GB / 6.7GB\n",
      "================================================================================\n",
      "\n",
      "📈 Epoch 16/50\n",
      "--------------------------------------------------\n",
      "🔄 Training Phase...\n"
     ]
    },
    {
     "name": "stderr",
     "output_type": "stream",
     "text": [
      "Training: 100%|██████████████████████████████| 311/311 [07:13<00:00,  1.39s/it, Loss=1.0867, Acc=0.5379, GPU=1.3GB]\n"
     ]
    },
    {
     "name": "stdout",
     "output_type": "stream",
     "text": [
      "✅ Training completed in 433.35s\n",
      "🔍 Validation Phase...\n"
     ]
    },
    {
     "name": "stderr",
     "output_type": "stream",
     "text": [
      "Validation: 100%|██████████████████████████████| 81/81 [00:47<00:00,  1.72it/s, Loss=1.1410, Acc=0.5085]\n"
     ]
    },
    {
     "name": "stdout",
     "output_type": "stream",
     "text": [
      "✅ Validation completed in 47.22s\n",
      "\n",
      "📊 Epoch 16 Summary:\n",
      "│ Train Loss: 1.0867 | Train Acc: 0.5379\n",
      "│ Val Loss:   1.1410 | Val Acc:   0.5085\n",
      "│ Train Time: 433.35s | Val Time: 47.22s\n",
      "│ Total Epoch Time: 480.58s\n",
      "│ Best Val Acc: 0.5280 (Epoch 13)\n",
      "│ GPU Memory: 1.3GB / 6.7GB\n",
      "================================================================================\n",
      "\n",
      "📈 Epoch 17/50\n",
      "--------------------------------------------------\n",
      "🔄 Training Phase...\n"
     ]
    },
    {
     "name": "stderr",
     "output_type": "stream",
     "text": [
      "Training: 100%|██████████████████████████████| 311/311 [07:08<00:00,  1.38s/it, Loss=1.0953, Acc=0.5338, GPU=1.3GB]\n"
     ]
    },
    {
     "name": "stdout",
     "output_type": "stream",
     "text": [
      "✅ Training completed in 428.46s\n",
      "🔍 Validation Phase...\n"
     ]
    },
    {
     "name": "stderr",
     "output_type": "stream",
     "text": [
      "Validation: 100%|██████████████████████████████| 81/81 [00:49<00:00,  1.63it/s, Loss=1.1388, Acc=0.5272]\n"
     ]
    },
    {
     "name": "stdout",
     "output_type": "stream",
     "text": [
      "✅ Validation completed in 49.72s\n",
      "\n",
      "📊 Epoch 17 Summary:\n",
      "│ Train Loss: 1.0953 | Train Acc: 0.5338\n",
      "│ Val Loss:   1.1388 | Val Acc:   0.5272\n",
      "│ Train Time: 428.46s | Val Time: 49.72s\n",
      "│ Total Epoch Time: 478.19s\n",
      "│ Best Val Acc: 0.5280 (Epoch 13)\n",
      "│ GPU Memory: 1.3GB / 6.7GB\n",
      "================================================================================\n",
      "\n",
      "📈 Epoch 18/50\n",
      "--------------------------------------------------\n",
      "🔄 Training Phase...\n"
     ]
    },
    {
     "name": "stderr",
     "output_type": "stream",
     "text": [
      "Training: 100%|██████████████████████████████| 311/311 [07:44<00:00,  1.49s/it, Loss=1.0991, Acc=0.5353, GPU=1.3GB]\n"
     ]
    },
    {
     "name": "stdout",
     "output_type": "stream",
     "text": [
      "✅ Training completed in 464.48s\n",
      "🔍 Validation Phase...\n"
     ]
    },
    {
     "name": "stderr",
     "output_type": "stream",
     "text": [
      "Validation: 100%|██████████████████████████████| 81/81 [00:55<00:00,  1.47it/s, Loss=1.1684, Acc=0.5206]\n"
     ]
    },
    {
     "name": "stdout",
     "output_type": "stream",
     "text": [
      "✅ Validation completed in 55.22s\n",
      "\n",
      "📊 Epoch 18 Summary:\n",
      "│ Train Loss: 1.0991 | Train Acc: 0.5353\n",
      "│ Val Loss:   1.1684 | Val Acc:   0.5206\n",
      "│ Train Time: 464.48s | Val Time: 55.22s\n",
      "│ Total Epoch Time: 519.70s\n",
      "│ Best Val Acc: 0.5280 (Epoch 13)\n",
      "│ GPU Memory: 1.3GB / 6.7GB\n",
      "================================================================================\n",
      "\n",
      "📈 Epoch 19/50\n",
      "--------------------------------------------------\n",
      "🔄 Training Phase...\n"
     ]
    },
    {
     "name": "stderr",
     "output_type": "stream",
     "text": [
      "Training: 100%|██████████████████████████████| 311/311 [07:28<00:00,  1.44s/it, Loss=1.0898, Acc=0.5378, GPU=1.3GB]\n"
     ]
    },
    {
     "name": "stdout",
     "output_type": "stream",
     "text": [
      "✅ Training completed in 448.62s\n",
      "🔍 Validation Phase...\n"
     ]
    },
    {
     "name": "stderr",
     "output_type": "stream",
     "text": [
      "Validation: 100%|██████████████████████████████| 81/81 [00:47<00:00,  1.71it/s, Loss=1.1954, Acc=0.4709]\n"
     ]
    },
    {
     "name": "stdout",
     "output_type": "stream",
     "text": [
      "✅ Validation completed in 47.37s\n",
      "\n",
      "📊 Epoch 19 Summary:\n",
      "│ Train Loss: 1.0898 | Train Acc: 0.5378\n",
      "│ Val Loss:   1.1954 | Val Acc:   0.4709\n",
      "│ Train Time: 448.62s | Val Time: 47.37s\n",
      "│ Total Epoch Time: 495.99s\n",
      "│ Best Val Acc: 0.5280 (Epoch 13)\n",
      "│ GPU Memory: 1.3GB / 6.7GB\n",
      "================================================================================\n",
      "\n",
      "📈 Epoch 20/50\n",
      "--------------------------------------------------\n",
      "🔄 Training Phase...\n"
     ]
    },
    {
     "name": "stderr",
     "output_type": "stream",
     "text": [
      "Training: 100%|██████████████████████████████| 311/311 [07:08<00:00,  1.38s/it, Loss=1.0980, Acc=0.5343, GPU=1.3GB]\n"
     ]
    },
    {
     "name": "stdout",
     "output_type": "stream",
     "text": [
      "✅ Training completed in 428.68s\n",
      "🔍 Validation Phase...\n"
     ]
    },
    {
     "name": "stderr",
     "output_type": "stream",
     "text": [
      "Validation: 100%|██████████████████████████████| 81/81 [00:46<00:00,  1.74it/s, Loss=1.1367, Acc=0.5280]\n"
     ]
    },
    {
     "name": "stdout",
     "output_type": "stream",
     "text": [
      "✅ Validation completed in 46.61s\n",
      "\n",
      "📊 Epoch 20 Summary:\n",
      "│ Train Loss: 1.0980 | Train Acc: 0.5343\n",
      "│ Val Loss:   1.1367 | Val Acc:   0.5280\n",
      "│ Train Time: 428.68s | Val Time: 46.61s\n",
      "│ Total Epoch Time: 475.29s\n",
      "│ Best Val Acc: 0.5280 (Epoch 13)\n",
      "│ GPU Memory: 1.3GB / 6.7GB\n",
      "================================================================================\n",
      "\n",
      "📈 Epoch 21/50\n",
      "--------------------------------------------------\n",
      "🔄 Training Phase...\n"
     ]
    },
    {
     "name": "stderr",
     "output_type": "stream",
     "text": [
      "Training: 100%|██████████████████████████████| 311/311 [07:07<00:00,  1.38s/it, Loss=1.0947, Acc=0.5334, GPU=1.3GB]\n"
     ]
    },
    {
     "name": "stdout",
     "output_type": "stream",
     "text": [
      "✅ Training completed in 427.86s\n",
      "🔍 Validation Phase...\n"
     ]
    },
    {
     "name": "stderr",
     "output_type": "stream",
     "text": [
      "Validation: 100%|██████████████████████████████| 81/81 [00:46<00:00,  1.73it/s, Loss=1.1390, Acc=0.5256]\n"
     ]
    },
    {
     "name": "stdout",
     "output_type": "stream",
     "text": [
      "✅ Validation completed in 46.91s\n",
      "\n",
      "📊 Epoch 21 Summary:\n",
      "│ Train Loss: 1.0947 | Train Acc: 0.5334\n",
      "│ Val Loss:   1.1390 | Val Acc:   0.5256\n",
      "│ Train Time: 427.86s | Val Time: 46.91s\n",
      "│ Total Epoch Time: 474.78s\n",
      "│ Best Val Acc: 0.5280 (Epoch 13)\n",
      "│ GPU Memory: 1.3GB / 6.7GB\n",
      "================================================================================\n",
      "\n",
      "📈 Epoch 22/50\n",
      "--------------------------------------------------\n",
      "🔄 Training Phase...\n"
     ]
    },
    {
     "name": "stderr",
     "output_type": "stream",
     "text": [
      "Training: 100%|██████████████████████████████| 311/311 [07:05<00:00,  1.37s/it, Loss=1.0905, Acc=0.5379, GPU=1.3GB]\n"
     ]
    },
    {
     "name": "stdout",
     "output_type": "stream",
     "text": [
      "✅ Training completed in 425.84s\n",
      "🔍 Validation Phase...\n"
     ]
    },
    {
     "name": "stderr",
     "output_type": "stream",
     "text": [
      "Validation: 100%|██████████████████████████████| 81/81 [00:47<00:00,  1.72it/s, Loss=1.2108, Acc=0.5182]\n"
     ]
    },
    {
     "name": "stdout",
     "output_type": "stream",
     "text": [
      "✅ Validation completed in 47.20s\n",
      "\n",
      "📊 Epoch 22 Summary:\n",
      "│ Train Loss: 1.0905 | Train Acc: 0.5379\n",
      "│ Val Loss:   1.2108 | Val Acc:   0.5182\n",
      "│ Train Time: 425.84s | Val Time: 47.20s\n",
      "│ Total Epoch Time: 473.04s\n",
      "│ Best Val Acc: 0.5280 (Epoch 13)\n",
      "│ GPU Memory: 1.3GB / 6.7GB\n",
      "================================================================================\n",
      "\n",
      "📈 Epoch 23/50\n",
      "--------------------------------------------------\n",
      "🔄 Training Phase...\n"
     ]
    },
    {
     "name": "stderr",
     "output_type": "stream",
     "text": [
      "Training: 100%|██████████████████████████████| 311/311 [07:06<00:00,  1.37s/it, Loss=1.0967, Acc=0.5386, GPU=1.3GB]\n"
     ]
    },
    {
     "name": "stdout",
     "output_type": "stream",
     "text": [
      "✅ Training completed in 426.21s\n",
      "🔍 Validation Phase...\n"
     ]
    },
    {
     "name": "stderr",
     "output_type": "stream",
     "text": [
      "Validation: 100%|██████████████████████████████| 81/81 [00:47<00:00,  1.72it/s, Loss=1.1667, Acc=0.5272]\n"
     ]
    },
    {
     "name": "stdout",
     "output_type": "stream",
     "text": [
      "✅ Validation completed in 47.17s\n",
      "\n",
      "📊 Epoch 23 Summary:\n",
      "│ Train Loss: 1.0967 | Train Acc: 0.5386\n",
      "│ Val Loss:   1.1667 | Val Acc:   0.5272\n",
      "│ Train Time: 426.21s | Val Time: 47.17s\n",
      "│ Total Epoch Time: 473.39s\n",
      "│ Best Val Acc: 0.5280 (Epoch 13)\n",
      "│ GPU Memory: 1.3GB / 6.7GB\n",
      "================================================================================\n",
      "\n",
      "📈 Epoch 24/50\n",
      "--------------------------------------------------\n",
      "🔄 Training Phase...\n"
     ]
    },
    {
     "name": "stderr",
     "output_type": "stream",
     "text": [
      "Training: 100%|██████████████████████████████| 311/311 [07:07<00:00,  1.38s/it, Loss=1.0958, Acc=0.5366, GPU=1.3GB]\n"
     ]
    },
    {
     "name": "stdout",
     "output_type": "stream",
     "text": [
      "✅ Training completed in 427.76s\n",
      "🔍 Validation Phase...\n"
     ]
    },
    {
     "name": "stderr",
     "output_type": "stream",
     "text": [
      "Validation: 100%|██████████████████████████████| 81/81 [00:46<00:00,  1.74it/s, Loss=1.1517, Acc=0.5120]\n"
     ]
    },
    {
     "name": "stdout",
     "output_type": "stream",
     "text": [
      "✅ Validation completed in 46.68s\n",
      "\n",
      "📊 Epoch 24 Summary:\n",
      "│ Train Loss: 1.0958 | Train Acc: 0.5366\n",
      "│ Val Loss:   1.1517 | Val Acc:   0.5120\n",
      "│ Train Time: 427.76s | Val Time: 46.68s\n",
      "│ Total Epoch Time: 474.44s\n",
      "│ Best Val Acc: 0.5280 (Epoch 13)\n",
      "│ GPU Memory: 1.3GB / 6.7GB\n",
      "================================================================================\n",
      "\n",
      "📈 Epoch 25/50\n",
      "--------------------------------------------------\n",
      "🔄 Training Phase...\n"
     ]
    },
    {
     "name": "stderr",
     "output_type": "stream",
     "text": [
      "Training: 100%|██████████████████████████████| 311/311 [07:22<00:00,  1.42s/it, Loss=1.1047, Acc=0.5374, GPU=1.3GB]\n"
     ]
    },
    {
     "name": "stdout",
     "output_type": "stream",
     "text": [
      "✅ Training completed in 442.08s\n",
      "🔍 Validation Phase...\n"
     ]
    },
    {
     "name": "stderr",
     "output_type": "stream",
     "text": [
      "Validation: 100%|██████████████████████████████| 81/81 [00:49<00:00,  1.63it/s, Loss=1.1593, Acc=0.5229]\n"
     ]
    },
    {
     "name": "stdout",
     "output_type": "stream",
     "text": [
      "✅ Validation completed in 49.69s\n",
      "\n",
      "📊 Epoch 25 Summary:\n",
      "│ Train Loss: 1.1047 | Train Acc: 0.5374\n",
      "│ Val Loss:   1.1593 | Val Acc:   0.5229\n",
      "│ Train Time: 442.08s | Val Time: 49.69s\n",
      "│ Total Epoch Time: 491.77s\n",
      "│ Best Val Acc: 0.5280 (Epoch 13)\n",
      "│ GPU Memory: 1.3GB / 6.7GB\n",
      "================================================================================\n",
      "\n",
      "📈 Epoch 26/50\n",
      "--------------------------------------------------\n",
      "🔄 Training Phase...\n"
     ]
    },
    {
     "name": "stderr",
     "output_type": "stream",
     "text": [
      "Training: 100%|██████████████████████████████| 311/311 [07:30<00:00,  1.45s/it, Loss=1.1000, Acc=0.5364, GPU=1.3GB]\n"
     ]
    },
    {
     "name": "stdout",
     "output_type": "stream",
     "text": [
      "✅ Training completed in 450.87s\n",
      "🔍 Validation Phase...\n"
     ]
    },
    {
     "name": "stderr",
     "output_type": "stream",
     "text": [
      "Validation: 100%|██████████████████████████████| 81/81 [00:48<00:00,  1.67it/s, Loss=1.1480, Acc=0.5229]\n"
     ]
    },
    {
     "name": "stdout",
     "output_type": "stream",
     "text": [
      "✅ Validation completed in 48.59s\n",
      "\n",
      "📊 Epoch 26 Summary:\n",
      "│ Train Loss: 1.1000 | Train Acc: 0.5364\n",
      "│ Val Loss:   1.1480 | Val Acc:   0.5229\n",
      "│ Train Time: 450.87s | Val Time: 48.59s\n",
      "│ Total Epoch Time: 499.46s\n",
      "│ Best Val Acc: 0.5280 (Epoch 13)\n",
      "│ GPU Memory: 1.3GB / 6.7GB\n",
      "================================================================================\n",
      "\n",
      "📈 Epoch 27/50\n",
      "--------------------------------------------------\n",
      "🔄 Training Phase...\n"
     ]
    },
    {
     "name": "stderr",
     "output_type": "stream",
     "text": [
      "Training: 100%|██████████████████████████████| 311/311 [07:09<00:00,  1.38s/it, Loss=1.1054, Acc=0.5344, GPU=1.3GB]\n"
     ]
    },
    {
     "name": "stdout",
     "output_type": "stream",
     "text": [
      "✅ Training completed in 429.82s\n",
      "🔍 Validation Phase...\n"
     ]
    },
    {
     "name": "stderr",
     "output_type": "stream",
     "text": [
      "Validation: 100%|██████████████████████████████| 81/81 [00:47<00:00,  1.71it/s, Loss=1.1522, Acc=0.5163]\n"
     ]
    },
    {
     "name": "stdout",
     "output_type": "stream",
     "text": [
      "✅ Validation completed in 47.46s\n",
      "\n",
      "📊 Epoch 27 Summary:\n",
      "│ Train Loss: 1.1054 | Train Acc: 0.5344\n",
      "│ Val Loss:   1.1522 | Val Acc:   0.5163\n",
      "│ Train Time: 429.82s | Val Time: 47.46s\n",
      "│ Total Epoch Time: 477.28s\n",
      "│ Best Val Acc: 0.5280 (Epoch 13)\n",
      "│ GPU Memory: 1.3GB / 6.7GB\n",
      "================================================================================\n",
      "\n",
      "📈 Epoch 28/50\n",
      "--------------------------------------------------\n",
      "🔄 Training Phase...\n"
     ]
    },
    {
     "name": "stderr",
     "output_type": "stream",
     "text": [
      "Training: 100%|██████████████████████████████| 311/311 [07:06<00:00,  1.37s/it, Loss=1.1051, Acc=0.5334, GPU=1.3GB]\n"
     ]
    },
    {
     "name": "stdout",
     "output_type": "stream",
     "text": [
      "✅ Training completed in 426.17s\n",
      "🔍 Validation Phase...\n"
     ]
    },
    {
     "name": "stderr",
     "output_type": "stream",
     "text": [
      "Validation: 100%|██████████████████████████████| 81/81 [00:47<00:00,  1.72it/s, Loss=1.1754, Acc=0.5151]\n"
     ]
    },
    {
     "name": "stdout",
     "output_type": "stream",
     "text": [
      "✅ Validation completed in 47.19s\n",
      "\n",
      "📊 Epoch 28 Summary:\n",
      "│ Train Loss: 1.1051 | Train Acc: 0.5334\n",
      "│ Val Loss:   1.1754 | Val Acc:   0.5151\n",
      "│ Train Time: 426.17s | Val Time: 47.19s\n",
      "│ Total Epoch Time: 473.36s\n",
      "│ Best Val Acc: 0.5280 (Epoch 13)\n",
      "│ GPU Memory: 1.3GB / 6.7GB\n",
      "================================================================================\n",
      "\n",
      "📈 Epoch 29/50\n",
      "--------------------------------------------------\n",
      "🔄 Training Phase...\n"
     ]
    },
    {
     "name": "stderr",
     "output_type": "stream",
     "text": [
      "Training: 100%|██████████████████████████████| 311/311 [07:05<00:00,  1.37s/it, Loss=1.1075, Acc=0.5372, GPU=1.3GB]\n"
     ]
    },
    {
     "name": "stdout",
     "output_type": "stream",
     "text": [
      "✅ Training completed in 425.37s\n",
      "🔍 Validation Phase...\n"
     ]
    },
    {
     "name": "stderr",
     "output_type": "stream",
     "text": [
      "Validation: 100%|██████████████████████████████| 81/81 [00:47<00:00,  1.72it/s, Loss=1.1620, Acc=0.5206]\n"
     ]
    },
    {
     "name": "stdout",
     "output_type": "stream",
     "text": [
      "✅ Validation completed in 47.19s\n",
      "\n",
      "📊 Epoch 29 Summary:\n",
      "│ Train Loss: 1.1075 | Train Acc: 0.5372\n",
      "│ Val Loss:   1.1620 | Val Acc:   0.5206\n",
      "│ Train Time: 425.37s | Val Time: 47.19s\n",
      "│ Total Epoch Time: 472.57s\n",
      "│ Best Val Acc: 0.5280 (Epoch 13)\n",
      "│ GPU Memory: 1.3GB / 6.7GB\n",
      "================================================================================\n",
      "\n",
      "📈 Epoch 30/50\n",
      "--------------------------------------------------\n",
      "🔄 Training Phase...\n"
     ]
    },
    {
     "name": "stderr",
     "output_type": "stream",
     "text": [
      "Training: 100%|██████████████████████████████| 311/311 [07:07<00:00,  1.37s/it, Loss=1.1132, Acc=0.5328, GPU=1.3GB]\n"
     ]
    },
    {
     "name": "stdout",
     "output_type": "stream",
     "text": [
      "✅ Training completed in 427.30s\n",
      "🔍 Validation Phase...\n"
     ]
    },
    {
     "name": "stderr",
     "output_type": "stream",
     "text": [
      "Validation: 100%|██████████████████████████████| 81/81 [00:46<00:00,  1.73it/s, Loss=1.1783, Acc=0.5198]\n"
     ]
    },
    {
     "name": "stdout",
     "output_type": "stream",
     "text": [
      "✅ Validation completed in 46.85s\n",
      "\n",
      "📊 Epoch 30 Summary:\n",
      "│ Train Loss: 1.1132 | Train Acc: 0.5328\n",
      "│ Val Loss:   1.1783 | Val Acc:   0.5198\n",
      "│ Train Time: 427.30s | Val Time: 46.85s\n",
      "│ Total Epoch Time: 474.16s\n",
      "│ Best Val Acc: 0.5280 (Epoch 13)\n",
      "│ GPU Memory: 1.3GB / 6.7GB\n",
      "================================================================================\n",
      "\n",
      "📈 Epoch 31/50\n",
      "--------------------------------------------------\n",
      "🔄 Training Phase...\n"
     ]
    },
    {
     "name": "stderr",
     "output_type": "stream",
     "text": [
      "Training: 100%|██████████████████████████████| 311/311 [07:07<00:00,  1.37s/it, Loss=1.1190, Acc=0.5348, GPU=1.3GB]\n"
     ]
    },
    {
     "name": "stdout",
     "output_type": "stream",
     "text": [
      "✅ Training completed in 427.30s\n",
      "🔍 Validation Phase...\n"
     ]
    },
    {
     "name": "stderr",
     "output_type": "stream",
     "text": [
      "Validation: 100%|██████████████████████████████| 81/81 [00:47<00:00,  1.71it/s, Loss=1.1672, Acc=0.5225]\n"
     ]
    },
    {
     "name": "stdout",
     "output_type": "stream",
     "text": [
      "✅ Validation completed in 47.34s\n",
      "\n",
      "📊 Epoch 31 Summary:\n",
      "│ Train Loss: 1.1190 | Train Acc: 0.5348\n",
      "│ Val Loss:   1.1672 | Val Acc:   0.5225\n",
      "│ Train Time: 427.30s | Val Time: 47.34s\n",
      "│ Total Epoch Time: 474.64s\n",
      "│ Best Val Acc: 0.5280 (Epoch 13)\n",
      "│ GPU Memory: 1.3GB / 6.7GB\n",
      "================================================================================\n",
      "\n",
      "📈 Epoch 32/50\n",
      "--------------------------------------------------\n",
      "🔄 Training Phase...\n"
     ]
    },
    {
     "name": "stderr",
     "output_type": "stream",
     "text": [
      "Training: 100%|██████████████████████████████| 311/311 [07:07<00:00,  1.37s/it, Loss=1.1298, Acc=0.5313, GPU=1.3GB]\n"
     ]
    },
    {
     "name": "stdout",
     "output_type": "stream",
     "text": [
      "✅ Training completed in 427.60s\n",
      "🔍 Validation Phase...\n"
     ]
    },
    {
     "name": "stderr",
     "output_type": "stream",
     "text": [
      "Validation: 100%|██████████████████████████████| 81/81 [00:48<00:00,  1.67it/s, Loss=1.1641, Acc=0.5245]\n"
     ]
    },
    {
     "name": "stdout",
     "output_type": "stream",
     "text": [
      "✅ Validation completed in 48.39s\n",
      "\n",
      "📊 Epoch 32 Summary:\n",
      "│ Train Loss: 1.1298 | Train Acc: 0.5313\n",
      "│ Val Loss:   1.1641 | Val Acc:   0.5245\n",
      "│ Train Time: 427.60s | Val Time: 48.39s\n",
      "│ Total Epoch Time: 475.99s\n",
      "│ Best Val Acc: 0.5280 (Epoch 13)\n",
      "│ GPU Memory: 1.3GB / 6.7GB\n",
      "================================================================================\n",
      "\n",
      "📈 Epoch 33/50\n",
      "--------------------------------------------------\n",
      "🔄 Training Phase...\n"
     ]
    },
    {
     "name": "stderr",
     "output_type": "stream",
     "text": [
      "Training: 100%|██████████████████████████████| 311/311 [07:28<00:00,  1.44s/it, Loss=1.1338, Acc=0.5321, GPU=1.3GB]\n"
     ]
    },
    {
     "name": "stdout",
     "output_type": "stream",
     "text": [
      "✅ Training completed in 448.80s\n",
      "🔍 Validation Phase...\n"
     ]
    },
    {
     "name": "stderr",
     "output_type": "stream",
     "text": [
      "Validation: 100%|██████████████████████████████| 81/81 [00:49<00:00,  1.65it/s, Loss=1.1724, Acc=0.5248]\n"
     ]
    },
    {
     "name": "stdout",
     "output_type": "stream",
     "text": [
      "✅ Validation completed in 49.21s\n",
      "\n",
      "📊 Epoch 33 Summary:\n",
      "│ Train Loss: 1.1338 | Train Acc: 0.5321\n",
      "│ Val Loss:   1.1724 | Val Acc:   0.5248\n",
      "│ Train Time: 448.80s | Val Time: 49.21s\n",
      "│ Total Epoch Time: 498.02s\n",
      "│ Best Val Acc: 0.5280 (Epoch 13)\n",
      "│ GPU Memory: 1.3GB / 6.7GB\n",
      "================================================================================\n",
      "\n",
      "📈 Epoch 34/50\n",
      "--------------------------------------------------\n",
      "🔄 Training Phase...\n"
     ]
    },
    {
     "name": "stderr",
     "output_type": "stream",
     "text": [
      "Training: 100%|██████████████████████████████| 311/311 [07:21<00:00,  1.42s/it, Loss=1.1408, Acc=0.5337, GPU=1.3GB]\n"
     ]
    },
    {
     "name": "stdout",
     "output_type": "stream",
     "text": [
      "✅ Training completed in 441.48s\n",
      "🔍 Validation Phase...\n"
     ]
    },
    {
     "name": "stderr",
     "output_type": "stream",
     "text": [
      "Validation: 100%|██████████████████████████████| 81/81 [00:47<00:00,  1.72it/s, Loss=1.1758, Acc=0.5155]\n"
     ]
    },
    {
     "name": "stdout",
     "output_type": "stream",
     "text": [
      "✅ Validation completed in 47.21s\n",
      "\n",
      "📊 Epoch 34 Summary:\n",
      "│ Train Loss: 1.1408 | Train Acc: 0.5337\n",
      "│ Val Loss:   1.1758 | Val Acc:   0.5155\n",
      "│ Train Time: 441.48s | Val Time: 47.21s\n",
      "│ Total Epoch Time: 488.69s\n",
      "│ Best Val Acc: 0.5280 (Epoch 13)\n",
      "│ GPU Memory: 1.3GB / 6.7GB\n",
      "================================================================================\n",
      "\n",
      "📈 Epoch 35/50\n",
      "--------------------------------------------------\n",
      "🔄 Training Phase...\n"
     ]
    },
    {
     "name": "stderr",
     "output_type": "stream",
     "text": [
      "Training: 100%|██████████████████████████████| 311/311 [07:03<00:00,  1.36s/it, Loss=1.1504, Acc=0.5297, GPU=1.3GB]\n"
     ]
    },
    {
     "name": "stdout",
     "output_type": "stream",
     "text": [
      "✅ Training completed in 423.38s\n",
      "🔍 Validation Phase...\n"
     ]
    },
    {
     "name": "stderr",
     "output_type": "stream",
     "text": [
      "Validation: 100%|██████████████████████████████| 81/81 [00:46<00:00,  1.73it/s, Loss=1.1844, Acc=0.5175]\n"
     ]
    },
    {
     "name": "stdout",
     "output_type": "stream",
     "text": [
      "✅ Validation completed in 46.91s\n",
      "\n",
      "📊 Epoch 35 Summary:\n",
      "│ Train Loss: 1.1504 | Train Acc: 0.5297\n",
      "│ Val Loss:   1.1844 | Val Acc:   0.5175\n",
      "│ Train Time: 423.38s | Val Time: 46.91s\n",
      "│ Total Epoch Time: 470.29s\n",
      "│ Best Val Acc: 0.5280 (Epoch 13)\n",
      "│ GPU Memory: 1.3GB / 6.7GB\n",
      "================================================================================\n",
      "\n",
      "📈 Epoch 36/50\n",
      "--------------------------------------------------\n",
      "🔄 Training Phase...\n"
     ]
    },
    {
     "name": "stderr",
     "output_type": "stream",
     "text": [
      "Training: 100%|██████████████████████████████| 311/311 [07:03<00:00,  1.36s/it, Loss=1.1525, Acc=0.5327, GPU=1.3GB]\n"
     ]
    },
    {
     "name": "stdout",
     "output_type": "stream",
     "text": [
      "✅ Training completed in 423.76s\n",
      "🔍 Validation Phase...\n"
     ]
    },
    {
     "name": "stderr",
     "output_type": "stream",
     "text": [
      "Validation: 100%|██████████████████████████████| 81/81 [00:46<00:00,  1.72it/s, Loss=1.1847, Acc=0.5175]\n"
     ]
    },
    {
     "name": "stdout",
     "output_type": "stream",
     "text": [
      "✅ Validation completed in 47.00s\n",
      "\n",
      "📊 Epoch 36 Summary:\n",
      "│ Train Loss: 1.1525 | Train Acc: 0.5327\n",
      "│ Val Loss:   1.1847 | Val Acc:   0.5175\n",
      "│ Train Time: 423.76s | Val Time: 47.00s\n",
      "│ Total Epoch Time: 470.76s\n",
      "│ Best Val Acc: 0.5280 (Epoch 13)\n",
      "│ GPU Memory: 1.3GB / 6.7GB\n",
      "================================================================================\n",
      "\n",
      "📈 Epoch 37/50\n",
      "--------------------------------------------------\n",
      "🔄 Training Phase...\n"
     ]
    },
    {
     "name": "stderr",
     "output_type": "stream",
     "text": [
      "Training: 100%|██████████████████████████████| 311/311 [07:01<00:00,  1.35s/it, Loss=1.1531, Acc=0.5300, GPU=1.3GB]\n"
     ]
    },
    {
     "name": "stdout",
     "output_type": "stream",
     "text": [
      "✅ Training completed in 421.23s\n",
      "🔍 Validation Phase...\n"
     ]
    },
    {
     "name": "stderr",
     "output_type": "stream",
     "text": [
      "Validation: 100%|██████████████████████████████| 81/81 [00:46<00:00,  1.74it/s, Loss=1.1877, Acc=0.5140]\n"
     ]
    },
    {
     "name": "stdout",
     "output_type": "stream",
     "text": [
      "✅ Validation completed in 46.56s\n",
      "\n",
      "📊 Epoch 37 Summary:\n",
      "│ Train Loss: 1.1531 | Train Acc: 0.5300\n",
      "│ Val Loss:   1.1877 | Val Acc:   0.5140\n",
      "│ Train Time: 421.23s | Val Time: 46.56s\n",
      "│ Total Epoch Time: 467.79s\n",
      "│ Best Val Acc: 0.5280 (Epoch 13)\n",
      "│ GPU Memory: 1.3GB / 6.7GB\n",
      "================================================================================\n",
      "\n",
      "📈 Epoch 38/50\n",
      "--------------------------------------------------\n",
      "🔄 Training Phase...\n"
     ]
    },
    {
     "name": "stderr",
     "output_type": "stream",
     "text": [
      "Training: 100%|██████████████████████████████| 311/311 [06:58<00:00,  1.35s/it, Loss=1.1531, Acc=0.5297, GPU=1.3GB]\n"
     ]
    },
    {
     "name": "stdout",
     "output_type": "stream",
     "text": [
      "✅ Training completed in 418.43s\n",
      "🔍 Validation Phase...\n"
     ]
    },
    {
     "name": "stderr",
     "output_type": "stream",
     "text": [
      "Validation: 100%|██████████████████████████████| 81/81 [00:46<00:00,  1.74it/s, Loss=1.1812, Acc=0.5186]\n"
     ]
    },
    {
     "name": "stdout",
     "output_type": "stream",
     "text": [
      "✅ Validation completed in 46.51s\n",
      "\n",
      "📊 Epoch 38 Summary:\n",
      "│ Train Loss: 1.1531 | Train Acc: 0.5297\n",
      "│ Val Loss:   1.1812 | Val Acc:   0.5186\n",
      "│ Train Time: 418.43s | Val Time: 46.51s\n",
      "│ Total Epoch Time: 464.94s\n",
      "│ Best Val Acc: 0.5280 (Epoch 13)\n",
      "│ GPU Memory: 1.3GB / 6.7GB\n",
      "================================================================================\n",
      "\n",
      "📈 Epoch 39/50\n",
      "--------------------------------------------------\n",
      "🔄 Training Phase...\n"
     ]
    },
    {
     "name": "stderr",
     "output_type": "stream",
     "text": [
      "Training: 100%|██████████████████████████████| 311/311 [06:59<00:00,  1.35s/it, Loss=1.1525, Acc=0.5326, GPU=1.3GB]\n"
     ]
    },
    {
     "name": "stdout",
     "output_type": "stream",
     "text": [
      "✅ Training completed in 419.08s\n",
      "🔍 Validation Phase...\n"
     ]
    },
    {
     "name": "stderr",
     "output_type": "stream",
     "text": [
      "Validation: 100%|██████████████████████████████| 81/81 [00:46<00:00,  1.75it/s, Loss=1.1852, Acc=0.5202]\n"
     ]
    },
    {
     "name": "stdout",
     "output_type": "stream",
     "text": [
      "✅ Validation completed in 46.26s\n",
      "\n",
      "📊 Epoch 39 Summary:\n",
      "│ Train Loss: 1.1525 | Train Acc: 0.5326\n",
      "│ Val Loss:   1.1852 | Val Acc:   0.5202\n",
      "│ Train Time: 419.08s | Val Time: 46.26s\n",
      "│ Total Epoch Time: 465.34s\n",
      "│ Best Val Acc: 0.5280 (Epoch 13)\n",
      "│ GPU Memory: 1.3GB / 6.7GB\n",
      "================================================================================\n",
      "\n",
      "📈 Epoch 40/50\n",
      "--------------------------------------------------\n",
      "🔄 Training Phase...\n"
     ]
    },
    {
     "name": "stderr",
     "output_type": "stream",
     "text": [
      "Training: 100%|██████████████████████████████| 311/311 [07:10<00:00,  1.39s/it, Loss=1.1470, Acc=0.5317, GPU=1.3GB]\n"
     ]
    },
    {
     "name": "stdout",
     "output_type": "stream",
     "text": [
      "✅ Training completed in 430.82s\n",
      "🔍 Validation Phase...\n"
     ]
    },
    {
     "name": "stderr",
     "output_type": "stream",
     "text": [
      "Validation: 100%|██████████████████████████████| 81/81 [00:48<00:00,  1.68it/s, Loss=1.1755, Acc=0.5186]\n"
     ]
    },
    {
     "name": "stdout",
     "output_type": "stream",
     "text": [
      "✅ Validation completed in 48.25s\n",
      "\n",
      "📊 Epoch 40 Summary:\n",
      "│ Train Loss: 1.1470 | Train Acc: 0.5317\n",
      "│ Val Loss:   1.1755 | Val Acc:   0.5186\n",
      "│ Train Time: 430.82s | Val Time: 48.25s\n",
      "│ Total Epoch Time: 479.07s\n",
      "│ Best Val Acc: 0.5280 (Epoch 13)\n",
      "│ GPU Memory: 1.3GB / 6.7GB\n",
      "================================================================================\n",
      "\n",
      "📈 Epoch 41/50\n",
      "--------------------------------------------------\n",
      "🔄 Training Phase...\n"
     ]
    },
    {
     "name": "stderr",
     "output_type": "stream",
     "text": [
      "Training: 100%|██████████████████████████████| 311/311 [07:18<00:00,  1.41s/it, Loss=1.1396, Acc=0.5330, GPU=1.3GB]\n"
     ]
    },
    {
     "name": "stdout",
     "output_type": "stream",
     "text": [
      "✅ Training completed in 438.63s\n",
      "🔍 Validation Phase...\n"
     ]
    },
    {
     "name": "stderr",
     "output_type": "stream",
     "text": [
      "Validation: 100%|██████████████████████████████| 81/81 [00:48<00:00,  1.66it/s, Loss=1.1707, Acc=0.5206]\n"
     ]
    },
    {
     "name": "stdout",
     "output_type": "stream",
     "text": [
      "✅ Validation completed in 48.73s\n",
      "\n",
      "📊 Epoch 41 Summary:\n",
      "│ Train Loss: 1.1396 | Train Acc: 0.5330\n",
      "│ Val Loss:   1.1707 | Val Acc:   0.5206\n",
      "│ Train Time: 438.63s | Val Time: 48.73s\n",
      "│ Total Epoch Time: 487.36s\n",
      "│ Best Val Acc: 0.5280 (Epoch 13)\n",
      "│ GPU Memory: 1.3GB / 6.7GB\n",
      "================================================================================\n",
      "\n",
      "📈 Epoch 42/50\n",
      "--------------------------------------------------\n",
      "🔄 Training Phase...\n"
     ]
    },
    {
     "name": "stderr",
     "output_type": "stream",
     "text": [
      "Training: 100%|██████████████████████████████| 311/311 [07:02<00:00,  1.36s/it, Loss=1.1419, Acc=0.5289, GPU=1.3GB]\n"
     ]
    },
    {
     "name": "stdout",
     "output_type": "stream",
     "text": [
      "✅ Training completed in 422.40s\n",
      "🔍 Validation Phase...\n"
     ]
    },
    {
     "name": "stderr",
     "output_type": "stream",
     "text": [
      "Validation: 100%|██████████████████████████████| 81/81 [00:46<00:00,  1.76it/s, Loss=1.1825, Acc=0.5066]\n"
     ]
    },
    {
     "name": "stdout",
     "output_type": "stream",
     "text": [
      "✅ Validation completed in 46.11s\n",
      "\n",
      "📊 Epoch 42 Summary:\n",
      "│ Train Loss: 1.1419 | Train Acc: 0.5289\n",
      "│ Val Loss:   1.1825 | Val Acc:   0.5066\n",
      "│ Train Time: 422.40s | Val Time: 46.11s\n",
      "│ Total Epoch Time: 468.51s\n",
      "│ Best Val Acc: 0.5280 (Epoch 13)\n",
      "│ GPU Memory: 1.3GB / 6.7GB\n",
      "================================================================================\n",
      "\n",
      "📈 Epoch 43/50\n",
      "--------------------------------------------------\n",
      "🔄 Training Phase...\n"
     ]
    },
    {
     "name": "stderr",
     "output_type": "stream",
     "text": [
      "Training: 100%|██████████████████████████████| 311/311 [06:56<00:00,  1.34s/it, Loss=1.1388, Acc=0.5293, GPU=1.3GB]\n"
     ]
    },
    {
     "name": "stdout",
     "output_type": "stream",
     "text": [
      "✅ Training completed in 416.49s\n",
      "🔍 Validation Phase...\n"
     ]
    },
    {
     "name": "stderr",
     "output_type": "stream",
     "text": [
      "Validation: 100%|██████████████████████████████| 81/81 [00:46<00:00,  1.74it/s, Loss=1.1728, Acc=0.5190]\n"
     ]
    },
    {
     "name": "stdout",
     "output_type": "stream",
     "text": [
      "✅ Validation completed in 46.47s\n",
      "\n",
      "📊 Epoch 43 Summary:\n",
      "│ Train Loss: 1.1388 | Train Acc: 0.5293\n",
      "│ Val Loss:   1.1728 | Val Acc:   0.5190\n",
      "│ Train Time: 416.49s | Val Time: 46.47s\n",
      "│ Total Epoch Time: 462.96s\n",
      "│ Best Val Acc: 0.5280 (Epoch 13)\n",
      "│ GPU Memory: 1.3GB / 6.7GB\n",
      "================================================================================\n",
      "\n",
      "📈 Epoch 44/50\n",
      "--------------------------------------------------\n",
      "🔄 Training Phase...\n"
     ]
    },
    {
     "name": "stderr",
     "output_type": "stream",
     "text": [
      "Training: 100%|██████████████████████████████| 311/311 [06:58<00:00,  1.34s/it, Loss=1.1402, Acc=0.5305, GPU=1.3GB]\n"
     ]
    },
    {
     "name": "stdout",
     "output_type": "stream",
     "text": [
      "✅ Training completed in 418.05s\n",
      "🔍 Validation Phase...\n"
     ]
    },
    {
     "name": "stderr",
     "output_type": "stream",
     "text": [
      "Validation: 100%|██████████████████████████████| 81/81 [00:46<00:00,  1.75it/s, Loss=1.1779, Acc=0.5179]\n"
     ]
    },
    {
     "name": "stdout",
     "output_type": "stream",
     "text": [
      "✅ Validation completed in 46.29s\n",
      "\n",
      "📊 Epoch 44 Summary:\n",
      "│ Train Loss: 1.1402 | Train Acc: 0.5305\n",
      "│ Val Loss:   1.1779 | Val Acc:   0.5179\n",
      "│ Train Time: 418.05s | Val Time: 46.29s\n",
      "│ Total Epoch Time: 464.34s\n",
      "│ Best Val Acc: 0.5280 (Epoch 13)\n",
      "│ GPU Memory: 1.3GB / 6.7GB\n",
      "================================================================================\n",
      "\n",
      "📈 Epoch 45/50\n",
      "--------------------------------------------------\n",
      "🔄 Training Phase...\n"
     ]
    },
    {
     "name": "stderr",
     "output_type": "stream",
     "text": [
      "Training: 100%|██████████████████████████████| 311/311 [06:57<00:00,  1.34s/it, Loss=1.1416, Acc=0.5289, GPU=1.3GB]\n"
     ]
    },
    {
     "name": "stdout",
     "output_type": "stream",
     "text": [
      "✅ Training completed in 417.30s\n",
      "🔍 Validation Phase...\n"
     ]
    },
    {
     "name": "stderr",
     "output_type": "stream",
     "text": [
      "Validation: 100%|██████████████████████████████| 81/81 [00:46<00:00,  1.74it/s, Loss=1.1749, Acc=0.4992]\n"
     ]
    },
    {
     "name": "stdout",
     "output_type": "stream",
     "text": [
      "✅ Validation completed in 46.58s\n",
      "\n",
      "📊 Epoch 45 Summary:\n",
      "│ Train Loss: 1.1416 | Train Acc: 0.5289\n",
      "│ Val Loss:   1.1749 | Val Acc:   0.4992\n",
      "│ Train Time: 417.30s | Val Time: 46.58s\n",
      "│ Total Epoch Time: 463.88s\n",
      "│ Best Val Acc: 0.5280 (Epoch 13)\n",
      "│ GPU Memory: 1.3GB / 6.7GB\n",
      "================================================================================\n",
      "\n",
      "📈 Epoch 46/50\n",
      "--------------------------------------------------\n",
      "🔄 Training Phase...\n"
     ]
    },
    {
     "name": "stderr",
     "output_type": "stream",
     "text": [
      "Training: 100%|██████████████████████████████| 311/311 [06:58<00:00,  1.34s/it, Loss=1.1382, Acc=0.5302, GPU=1.3GB]\n"
     ]
    },
    {
     "name": "stdout",
     "output_type": "stream",
     "text": [
      "✅ Training completed in 418.07s\n",
      "🔍 Validation Phase...\n"
     ]
    },
    {
     "name": "stderr",
     "output_type": "stream",
     "text": [
      "Validation: 100%|██████████████████████████████| 81/81 [00:46<00:00,  1.75it/s, Loss=1.1784, Acc=0.5175]\n"
     ]
    },
    {
     "name": "stdout",
     "output_type": "stream",
     "text": [
      "✅ Validation completed in 46.19s\n",
      "\n",
      "📊 Epoch 46 Summary:\n",
      "│ Train Loss: 1.1382 | Train Acc: 0.5302\n",
      "│ Val Loss:   1.1784 | Val Acc:   0.5175\n",
      "│ Train Time: 418.07s | Val Time: 46.19s\n",
      "│ Total Epoch Time: 464.27s\n",
      "│ Best Val Acc: 0.5280 (Epoch 13)\n",
      "│ GPU Memory: 1.3GB / 6.7GB\n",
      "================================================================================\n",
      "\n",
      "📈 Epoch 47/50\n",
      "--------------------------------------------------\n",
      "🔄 Training Phase...\n"
     ]
    },
    {
     "name": "stderr",
     "output_type": "stream",
     "text": [
      "Training: 100%|██████████████████████████████| 311/311 [07:01<00:00,  1.36s/it, Loss=1.1342, Acc=0.5325, GPU=1.3GB]\n"
     ]
    },
    {
     "name": "stdout",
     "output_type": "stream",
     "text": [
      "✅ Training completed in 421.83s\n",
      "🔍 Validation Phase...\n"
     ]
    },
    {
     "name": "stderr",
     "output_type": "stream",
     "text": [
      "Validation: 100%|██████████████████████████████| 81/81 [00:47<00:00,  1.71it/s, Loss=1.1652, Acc=0.5217]\n"
     ]
    },
    {
     "name": "stdout",
     "output_type": "stream",
     "text": [
      "✅ Validation completed in 47.29s\n",
      "\n",
      "📊 Epoch 47 Summary:\n",
      "│ Train Loss: 1.1342 | Train Acc: 0.5325\n",
      "│ Val Loss:   1.1652 | Val Acc:   0.5217\n",
      "│ Train Time: 421.83s | Val Time: 47.29s\n",
      "│ Total Epoch Time: 469.13s\n",
      "│ Best Val Acc: 0.5280 (Epoch 13)\n",
      "│ GPU Memory: 1.3GB / 6.7GB\n",
      "================================================================================\n",
      "\n",
      "📈 Epoch 48/50\n",
      "--------------------------------------------------\n",
      "🔄 Training Phase...\n"
     ]
    },
    {
     "name": "stderr",
     "output_type": "stream",
     "text": [
      "Training: 100%|██████████████████████████████| 311/311 [07:23<00:00,  1.42s/it, Loss=1.1362, Acc=0.5315, GPU=1.3GB]\n"
     ]
    },
    {
     "name": "stdout",
     "output_type": "stream",
     "text": [
      "✅ Training completed in 443.07s\n",
      "🔍 Validation Phase...\n"
     ]
    },
    {
     "name": "stderr",
     "output_type": "stream",
     "text": [
      "Validation: 100%|██████████████████████████████| 81/81 [00:48<00:00,  1.67it/s, Loss=1.1785, Acc=0.5291]\n"
     ]
    },
    {
     "name": "stdout",
     "output_type": "stream",
     "text": [
      "✅ Validation completed in 48.37s\n",
      "🌟 New best Vision Transformer model found! Validation Accuracy: 0.5291\n",
      "\n",
      "📊 Epoch 48 Summary:\n",
      "│ Train Loss: 1.1362 | Train Acc: 0.5315\n",
      "│ Val Loss:   1.1785 | Val Acc:   0.5291\n",
      "│ Train Time: 443.07s | Val Time: 48.37s\n",
      "│ Total Epoch Time: 491.44s\n",
      "│ Best Val Acc: 0.5291 (Epoch 48)\n",
      "│ GPU Memory: 1.3GB / 6.7GB\n",
      "================================================================================\n",
      "\n",
      "📈 Epoch 49/50\n",
      "--------------------------------------------------\n",
      "🔄 Training Phase...\n"
     ]
    },
    {
     "name": "stderr",
     "output_type": "stream",
     "text": [
      "Training: 100%|██████████████████████████████| 311/311 [07:23<00:00,  1.43s/it, Loss=1.1344, Acc=0.5302, GPU=1.3GB]\n"
     ]
    },
    {
     "name": "stdout",
     "output_type": "stream",
     "text": [
      "✅ Training completed in 443.78s\n",
      "🔍 Validation Phase...\n"
     ]
    },
    {
     "name": "stderr",
     "output_type": "stream",
     "text": [
      "Validation: 100%|██████████████████████████████| 81/81 [00:46<00:00,  1.74it/s, Loss=1.1701, Acc=0.5132]\n"
     ]
    },
    {
     "name": "stdout",
     "output_type": "stream",
     "text": [
      "✅ Validation completed in 46.66s\n",
      "\n",
      "📊 Epoch 49 Summary:\n",
      "│ Train Loss: 1.1344 | Train Acc: 0.5302\n",
      "│ Val Loss:   1.1701 | Val Acc:   0.5132\n",
      "│ Train Time: 443.78s | Val Time: 46.66s\n",
      "│ Total Epoch Time: 490.44s\n",
      "│ Best Val Acc: 0.5291 (Epoch 48)\n",
      "│ GPU Memory: 1.3GB / 6.7GB\n",
      "================================================================================\n",
      "\n",
      "📈 Epoch 50/50\n",
      "--------------------------------------------------\n",
      "🔄 Training Phase...\n"
     ]
    },
    {
     "name": "stderr",
     "output_type": "stream",
     "text": [
      "Training: 100%|██████████████████████████████| 311/311 [07:02<00:00,  1.36s/it, Loss=1.1386, Acc=0.5295, GPU=1.3GB]\n"
     ]
    },
    {
     "name": "stdout",
     "output_type": "stream",
     "text": [
      "✅ Training completed in 422.55s\n",
      "🔍 Validation Phase...\n"
     ]
    },
    {
     "name": "stderr",
     "output_type": "stream",
     "text": [
      "Validation: 100%|██████████████████████████████| 81/81 [00:46<00:00,  1.74it/s, Loss=1.1807, Acc=0.5175]\n"
     ]
    },
    {
     "name": "stdout",
     "output_type": "stream",
     "text": [
      "✅ Validation completed in 46.50s\n",
      "\n",
      "📊 Epoch 50 Summary:\n",
      "│ Train Loss: 1.1386 | Train Acc: 0.5295\n",
      "│ Val Loss:   1.1807 | Val Acc:   0.5175\n",
      "│ Train Time: 422.55s | Val Time: 46.50s\n",
      "│ Total Epoch Time: 469.05s\n",
      "│ Best Val Acc: 0.5291 (Epoch 48)\n",
      "│ GPU Memory: 1.3GB / 6.7GB\n",
      "================================================================================\n",
      "\n",
      "💾 Best Vision Transformer model saved as 'best_vit_model.pth'\n",
      "📊 Best model stats:\n",
      "│ Best Epoch: 48\n",
      "│ Best Val Acc: 0.5291\n",
      "\n",
      "💾 Vision Transformer training history saved to 'vit_training_history.csv'\n",
      "\n",
      "🎉 Vision Transformer Training Complete!\n",
      "Total Training Time: 24022.20s (400.4 minutes)\n",
      "Average Epoch Time: 480.44s\n",
      "\n",
      "⏱️  Epoch Timing Breakdown:\n",
      "│ Epoch 1: 530.25s\n",
      "│ Epoch 2: 479.66s\n",
      "│ Epoch 3: 499.53s\n",
      "│ Epoch 4: 494.49s\n",
      "│ Epoch 5: 476.07s\n",
      "│ Epoch 6: 477.61s\n",
      "│ Epoch 7: 476.80s\n",
      "│ Epoch 8: 476.22s\n",
      "│ Epoch 9: 476.30s\n",
      "│ Epoch 10: 492.24s\n",
      "│ Epoch 11: 504.78s\n",
      "│ Epoch 12: 485.02s\n",
      "│ Epoch 13: 478.49s\n",
      "│ Epoch 14: 475.52s\n",
      "│ Epoch 15: 478.29s\n",
      "│ Epoch 16: 480.58s\n",
      "│ Epoch 17: 478.19s\n",
      "│ Epoch 18: 519.70s\n",
      "│ Epoch 19: 495.99s\n",
      "│ Epoch 20: 475.29s\n",
      "│ Epoch 21: 474.78s\n",
      "│ Epoch 22: 473.04s\n",
      "│ Epoch 23: 473.39s\n",
      "│ Epoch 24: 474.44s\n",
      "│ Epoch 25: 491.77s\n",
      "│ Epoch 26: 499.46s\n",
      "│ Epoch 27: 477.28s\n",
      "│ Epoch 28: 473.36s\n",
      "│ Epoch 29: 472.57s\n",
      "│ Epoch 30: 474.16s\n",
      "│ Epoch 31: 474.64s\n",
      "│ Epoch 32: 475.99s\n",
      "│ Epoch 33: 498.02s\n",
      "│ Epoch 34: 488.69s\n",
      "│ Epoch 35: 470.29s\n",
      "│ Epoch 36: 470.76s\n",
      "│ Epoch 37: 467.79s\n",
      "│ Epoch 38: 464.94s\n",
      "│ Epoch 39: 465.34s\n",
      "│ Epoch 40: 479.07s\n",
      "│ Epoch 41: 487.36s\n",
      "│ Epoch 42: 468.51s\n",
      "│ Epoch 43: 462.96s\n",
      "│ Epoch 44: 464.34s\n",
      "│ Epoch 45: 463.88s\n",
      "│ Epoch 46: 464.27s\n",
      "│ Epoch 47: 469.13s\n",
      "│ Epoch 48: 491.44s\n",
      "│ Epoch 49: 490.44s\n",
      "│ Epoch 50: 469.05s\n",
      "\n",
      "🧪 Loading Best Vision Transformer Model for Testing...\n",
      "✅ Best Vision Transformer model from epoch 48 loaded successfully!\n"
     ]
    },
    {
     "name": "stderr",
     "output_type": "stream",
     "text": [
      "Testing Vision Transformer: 100%|██████████████████████████████| 101/101 [01:18<00:00,  1.29it/s]\n",
      "/usr/local/lib/python3.11/dist-packages/sklearn/metrics/_classification.py:1344: UndefinedMetricWarning: Precision and F-score are ill-defined and being set to 0.0 in labels with no predicted samples. Use `zero_division` parameter to control this behavior.\n",
      "  _warn_prf(average, modifier, msg_start, len(result))\n",
      "/usr/local/lib/python3.11/dist-packages/sklearn/metrics/_classification.py:1344: UndefinedMetricWarning: Precision and F-score are ill-defined and being set to 0.0 in labels with no predicted samples. Use `zero_division` parameter to control this behavior.\n",
      "  _warn_prf(average, modifier, msg_start, len(result))\n",
      "/usr/local/lib/python3.11/dist-packages/sklearn/metrics/_classification.py:1344: UndefinedMetricWarning: Precision and F-score are ill-defined and being set to 0.0 in labels with no predicted samples. Use `zero_division` parameter to control this behavior.\n",
      "  _warn_prf(average, modifier, msg_start, len(result))\n"
     ]
    },
    {
     "name": "stdout",
     "output_type": "stream",
     "text": [
      "✅ Vision Transformer Testing completed in 78.53s\n",
      "\n",
      "📋 Vision Transformer Classification Report:\n",
      "              precision    recall  f1-score   support\n",
      "\n",
      "     Batting       0.57      0.96      0.72      1656\n",
      "     Bowling       0.00      0.00      0.00       488\n",
      "    Fielding       0.40      0.29      0.34       560\n",
      "      Umpire       0.00      0.00      0.00       520\n",
      "\n",
      "    accuracy                           0.55      3224\n",
      "   macro avg       0.24      0.31      0.26      3224\n",
      "weighted avg       0.36      0.55      0.43      3224\n",
      "\n",
      "🎯 Vision Transformer Test Accuracy: 0.5465\n",
      "\n",
      "📊 Vision Transformer Model Performance Summary:\n",
      "│ Best Validation Acc:  0.5291 (Epoch 48)\n",
      "│ Final Test Accuracy:  0.5465\n",
      "│ Val-Test Gap:         0.0174\n"
     ]
    },
    {
     "data": {
      "image/png": "[encoded data removed]",
      "text/plain": [
       "<Figure size 800x600 with 2 Axes>"
      ]
     },
     "metadata": {},
     "output_type": "display_data"
    },
    {
     "data": {
      "image/png": "[encoded data removed]",
      "text/plain": [
       "<Figure size 2000x500 with 4 Axes>"
      ]
     },
     "metadata": {},
     "output_type": "display_data"
    },
    {
     "name": "stdout",
     "output_type": "stream",
     "text": [
      "\n",
      "⏰ Vision Transformer Final Timing Summary:\n",
      "│ Total Training: 24022.20s\n",
      "│ Average per Epoch: 480.44s\n",
      "│ Testing Time: 78.53s\n",
      "│ Total Runtime: 24100.73s\n",
      "\n",
      "💾 Vision Transformer Files saved:\n",
      "│ best_vit_model.pth - Best validation accuracy model\n",
      "│ vit_training_history.csv - Training metrics for later plotting\n",
      "\n",
      "🏗️  Vision Transformer Architecture Summary:\n",
      "│ Total Parameters: 85,801,732\n",
      "│ Trainable Parameters: 85,801,732\n",
      "│ Model Size: 327.31 MB\n",
      "│ Input Size: 224x224x3\n",
      "│ Patch Size: 16x16\n",
      "│ Number of Patches: 196\n",
      "│ Embed Dimension: 768\n",
      "│ Number of Heads: 12\n",
      "│ Number of Layers: 12\n",
      "│ MLP Ratio: 4.0\n",
      "│ Output Classes: 4\n",
      "│ Activation: GELU\n",
      "│ Attention Dropout: 0.1\n",
      "│ Embedding Dropout: 0.1\n"
     ]
    }
   ],
   "source": [
    "# -----------------------------\n",
    "# 4. Training Loop with Best Model Saving (Val Accuracy) - Vision Transformer\n",
    "# -----------------------------\n",
    "train_losses, val_losses = [], []\n",
    "train_accs, val_accs = [], []\n",
    "epoch_times = []\n",
    "epochs = 50\n",
    "\n",
    "# Initialize best model tracking\n",
    "best_val_acc = 0.0\n",
    "best_model_state = None\n",
    "best_epoch = 0\n",
    "\n",
    "print(f\"\\n🚀 Starting Vision Transformer Training for {epochs} epochs...\")\n",
    "print(\"=\" * 80)\n",
    "\n",
    "total_start_time = time.time()\n",
    "\n",
    "for epoch in range(epochs):\n",
    "    epoch_start_time = time.time()\n",
    "    \n",
    "    print(f\"\\n📈 Epoch {epoch+1}/{epochs}\")\n",
    "    print(\"-\" * 50)\n",
    "    \n",
    "    # Training Phase\n",
    "    print(\"🔄 Training Phase...\")\n",
    "    model.train()\n",
    "    running_loss, correct, total = 0, 0, 0\n",
    "    \n",
    "    train_pbar = tqdm(train_loader, desc=f\"Training\", \n",
    "                     bar_format='{l_bar}{bar:30}{r_bar}{bar:-30b}')\n",
    "    \n",
    "    train_phase_start = time.time()\n",
    "    \n",
    "    for batch_idx, (imgs, labels) in enumerate(train_pbar):\n",
    "        imgs, labels = imgs.to(device), labels.to(device)\n",
    "        \n",
    "        optimizer.zero_grad()\n",
    "        outputs = model(imgs)\n",
    "        loss = criterion(outputs, labels)\n",
    "        loss.backward()\n",
    "        \n",
    "        # Gradient clipping for stability\n",
    "        torch.nn.utils.clip_grad_norm_(model.parameters(), max_norm=1.0)\n",
    "        \n",
    "        optimizer.step()\n",
    "        \n",
    "        running_loss += loss.item()\n",
    "        _, preds = torch.max(outputs, 1)\n",
    "        correct += (preds == labels).sum().item()\n",
    "        total += labels.size(0)\n",
    "        \n",
    "        current_acc = correct / total\n",
    "        train_pbar.set_postfix({\n",
    "            'Loss': f'{running_loss/(batch_idx+1):.4f}',\n",
    "            'Acc': f'{current_acc:.4f}'\n",
    "        })\n",
    "        \n",
    "        if device.type == 'cuda' and batch_idx % 10 == 0:\n",
    "            gpu_memory = torch.cuda.memory_allocated() / 1024**3\n",
    "            train_pbar.set_postfix({\n",
    "                'Loss': f'{running_loss/(batch_idx+1):.4f}',\n",
    "                'Acc': f'{current_acc:.4f}',\n",
    "                'GPU': f'{gpu_memory:.1f}GB'\n",
    "            })\n",
    "    \n",
    "    train_phase_time = time.time() - train_phase_start\n",
    "    train_loss = running_loss / len(train_loader)\n",
    "    train_acc = correct / total\n",
    "    train_losses.append(train_loss)\n",
    "    train_accs.append(train_acc)\n",
    "    \n",
    "    print(f\"✅ Training completed in {train_phase_time:.2f}s\")\n",
    "    \n",
    "    # Validation Phase\n",
    "    print(\"🔍 Validation Phase...\")\n",
    "    model.eval()\n",
    "    running_loss, correct, total = 0, 0, 0\n",
    "    \n",
    "    val_phase_start = time.time()\n",
    "    val_pbar = tqdm(val_loader, desc=f\"Validation\", \n",
    "                   bar_format='{l_bar}{bar:30}{r_bar}{bar:-30b}')\n",
    "    \n",
    "    with torch.no_grad():\n",
    "        for batch_idx, (imgs, labels) in enumerate(val_pbar):\n",
    "            imgs, labels = imgs.to(device), labels.to(device)\n",
    "            outputs = model(imgs)\n",
    "            loss = criterion(outputs, labels)\n",
    "            \n",
    "            running_loss += loss.item()\n",
    "            _, preds = torch.max(outputs, 1)\n",
    "            correct += (preds == labels).sum().item()\n",
    "            total += labels.size(0)\n",
    "            \n",
    "            current_acc = correct / total\n",
    "            val_pbar.set_postfix({\n",
    "                'Loss': f'{running_loss/(batch_idx+1):.4f}',\n",
    "                'Acc': f'{current_acc:.4f}'\n",
    "            })\n",
    "    \n",
    "    val_phase_time = time.time() - val_phase_start\n",
    "    val_loss = running_loss / len(val_loader)\n",
    "    val_acc = correct / total\n",
    "    val_losses.append(val_loss)\n",
    "    val_accs.append(val_acc)\n",
    "    \n",
    "    print(f\"✅ Validation completed in {val_phase_time:.2f}s\")\n",
    "    \n",
    "    # Check if this is the best model so far based on val_acc\n",
    "    is_best = val_acc > best_val_acc\n",
    "    if is_best:\n",
    "        best_val_acc = val_acc\n",
    "        best_epoch = epoch + 1\n",
    "        best_model_state = model.state_dict().copy()\n",
    "        print(f\"🌟 New best Vision Transformer model found! Validation Accuracy: {val_acc:.4f}\")\n",
    "    \n",
    "    # Epoch Summary\n",
    "    epoch_time = time.time() - epoch_start_time\n",
    "    epoch_times.append(epoch_time)\n",
    "    \n",
    "    print(f\"\\n📊 Epoch {epoch+1} Summary:\")\n",
    "    print(f\"│ Train Loss: {train_loss:.4f} | Train Acc: {train_acc:.4f}\")\n",
    "    print(f\"│ Val Loss:   {val_loss:.4f} | Val Acc:   {val_acc:.4f}\")\n",
    "    print(f\"│ Train Time: {train_phase_time:.2f}s | Val Time: {val_phase_time:.2f}s\")\n",
    "    print(f\"│ Total Epoch Time: {epoch_time:.2f}s\")\n",
    "    print(f\"│ Best Val Acc: {best_val_acc:.4f} (Epoch {best_epoch})\")\n",
    "    \n",
    "    if device.type == 'cuda':\n",
    "        print(f\"│ GPU Memory: {torch.cuda.memory_allocated()/1024**3:.1f}GB / {torch.cuda.memory_reserved()/1024**3:.1f}GB\")\n",
    "    \n",
    "    print(\"=\" * 80)\n",
    "\n",
    "total_training_time = time.time() - total_start_time\n",
    "\n",
    "# Save the best model\n",
    "if best_model_state is not None:\n",
    "    torch.save(best_model_state, 'best_vit_model.pth')\n",
    "    print(f\"\\n💾 Best Vision Transformer model saved as 'best_vit_model.pth'\")\n",
    "    print(f\"📊 Best model stats:\")\n",
    "    print(f\"│ Best Epoch: {best_epoch}\")\n",
    "    print(f\"│ Best Val Acc: {best_val_acc:.4f}\")\n",
    "\n",
    "# Save training history data to CSV\n",
    "history_data = {\n",
    "    'epoch': list(range(1, epochs+1)),\n",
    "    'train_loss': train_losses,\n",
    "    'val_loss': val_losses,\n",
    "    'train_acc': train_accs,\n",
    "    'val_acc': val_accs,\n",
    "    'epoch_time': epoch_times\n",
    "}\n",
    "history_df = pd.DataFrame(history_data)\n",
    "history_df.to_csv('vit_training_history.csv', index=False)\n",
    "print(\"\\n💾 Vision Transformer training history saved to 'vit_training_history.csv'\")\n",
    "\n",
    "# Training Summary\n",
    "print(f\"\\n🎉 Vision Transformer Training Complete!\")\n",
    "print(f\"Total Training Time: {total_training_time:.2f}s ({total_training_time/60:.1f} minutes)\")\n",
    "print(f\"Average Epoch Time: {np.mean(epoch_times):.2f}s\")\n",
    "print(\"\\n⏱️  Epoch Timing Breakdown:\")\n",
    "for i, t in enumerate(epoch_times):\n",
    "    print(f\"│ Epoch {i+1}: {t:.2f}s\")\n",
    "\n",
    "# -----------------------------\n",
    "# 5. Load Best Model and Test\n",
    "# -----------------------------\n",
    "print(f\"\\n🧪 Loading Best Vision Transformer Model for Testing...\")\n",
    "\n",
    "# Load the best model state\n",
    "if best_model_state is not None:\n",
    "    model.load_state_dict(best_model_state)\n",
    "    print(f\"✅ Best Vision Transformer model from epoch {best_epoch} loaded successfully!\")\n",
    "else:\n",
    "    print(\"⚠️  No best model found, using current model state\")\n",
    "\n",
    "test_start_time = time.time()\n",
    "y_true, y_pred = [], []\n",
    "model.eval()\n",
    "\n",
    "test_pbar = tqdm(test_loader, desc=\"Testing Vision Transformer\", \n",
    "                bar_format='{l_bar}{bar:30}{r_bar}{bar:-30b}')\n",
    "\n",
    "with torch.no_grad():\n",
    "    for imgs, labels in test_pbar:\n",
    "        imgs, labels = imgs.to(device), labels.to(device)\n",
    "        outputs = model(imgs)\n",
    "        _, preds = torch.max(outputs, 1)\n",
    "        y_true.extend(labels.cpu().numpy())\n",
    "        y_pred.extend(preds.cpu().numpy())\n",
    "\n",
    "test_time = time.time() - test_start_time\n",
    "test_accuracy = accuracy_score(y_true, y_pred)\n",
    "\n",
    "print(f\"✅ Vision Transformer Testing completed in {test_time:.2f}s\")\n",
    "print(\"\\n📋 Vision Transformer Classification Report:\")\n",
    "print(classification_report(y_true, y_pred, target_names=classes))\n",
    "print(f\"🎯 Vision Transformer Test Accuracy: {test_accuracy:.4f}\")\n",
    "\n",
    "# Model Performance Summary\n",
    "print(f\"\\n📊 Vision Transformer Model Performance Summary:\")\n",
    "print(f\"│ Best Validation Acc:  {best_val_acc:.4f} (Epoch {best_epoch})\")\n",
    "print(f\"│ Final Test Accuracy:  {test_accuracy:.4f}\")\n",
    "print(f\"│ Val-Test Gap:         {abs(best_val_acc - test_accuracy):.4f}\")\n",
    "\n",
    "# Confusion Matrix\n",
    "cm = confusion_matrix(y_true, y_pred)\n",
    "plt.figure(figsize=(8, 6))\n",
    "sns.heatmap(cm, annot=True, fmt=\"d\", cmap=\"Reds\", xticklabels=classes, yticklabels=classes)\n",
    "plt.xlabel(\"Predicted\")\n",
    "plt.ylabel(\"True\")\n",
    "plt.title(f\"Vision Transformer Confusion Matrix - Best Model (Epoch {best_epoch})\")\n",
    "plt.show()\n",
    "\n",
    "# -----------------------------\n",
    "# 6. Enhanced Visualizations\n",
    "# -----------------------------\n",
    "plt.figure(figsize=(20, 5))\n",
    "\n",
    "# Loss Plot\n",
    "plt.subplot(1, 4, 1)\n",
    "plt.plot(range(1, epochs+1), train_losses, 'b-', label=\"Train Loss\", marker='o', linewidth=2)\n",
    "plt.plot(range(1, epochs+1), val_losses, 'r-', label=\"Val Loss\", marker='s', linewidth=2)\n",
    "plt.axvline(x=best_epoch, color='red', linestyle='--', alpha=0.7, label=f'Best (Epoch {best_epoch})')\n",
    "plt.legend()\n",
    "plt.title(\"Vision Transformer Loss over Epochs\")\n",
    "plt.xlabel(\"Epoch\")\n",
    "plt.ylabel(\"Loss\")\n",
    "plt.grid(True, alpha=0.3)\n",
    "\n",
    "# Accuracy Plot\n",
    "plt.subplot(1, 4, 2)\n",
    "plt.plot(range(1, epochs+1), train_accs, 'b-', label=\"Train Accuracy\", marker='o', linewidth=2)\n",
    "plt.plot(range(1, epochs+1), val_accs, 'r-', label=\"Val Accuracy\", marker='s', linewidth=2)\n",
    "plt.axvline(x=best_epoch, color='red', linestyle='--', alpha=0.7, label=f'Best (Epoch {best_epoch})')\n",
    "plt.scatter([best_epoch], [best_val_acc], color='red', s=100, zorder=5)\n",
    "plt.legend()\n",
    "plt.title(\"Vision Transformer Accuracy over Epochs\")\n",
    "plt.xlabel(\"Epoch\")\n",
    "plt.ylabel(\"Accuracy\")\n",
    "plt.grid(True, alpha=0.3)\n",
    "\n",
    "# Timing Plot\n",
    "plt.subplot(1, 4, 3)\n",
    "bars = plt.bar(range(1, epochs+1), epoch_times, color='lightcoral', alpha=0.7)\n",
    "bars[best_epoch-1].set_color('red')\n",
    "plt.title(\"Vision Transformer Training Time per Epoch\")\n",
    "plt.xlabel(\"Epoch\")\n",
    "plt.ylabel(\"Time (seconds)\")\n",
    "plt.grid(True, alpha=0.3)\n",
    "for i, t in enumerate(epoch_times):\n",
    "    plt.text(i+1, t+0.5, f'{t:.1f}s', ha='center', va='bottom')\n",
    "\n",
    "# Performance Comparison\n",
    "plt.subplot(1, 4, 4)\n",
    "metrics = ['Best Val Acc', 'Test Acc']\n",
    "values = [best_val_acc, test_accuracy]\n",
    "colors = ['lightcoral', 'red']\n",
    "bars = plt.bar(metrics, values, color=colors, alpha=0.7)\n",
    "plt.title(\"Vision Transformer Final Model Performance\")\n",
    "plt.ylabel(\"Accuracy\")\n",
    "plt.ylim(0, 1)\n",
    "plt.grid(True, alpha=0.3)\n",
    "for bar, val in zip(bars, values):\n",
    "    plt.text(bar.get_x() + bar.get_width()/2, val + 0.01, \n",
    "             f'{val:.4f}', ha='center', va='bottom')\n",
    "\n",
    "plt.tight_layout()\n",
    "plt.show()\n",
    "\n",
    "print(f\"\\n⏰ Vision Transformer Final Timing Summary:\")\n",
    "print(f\"│ Total Training: {total_training_time:.2f}s\")\n",
    "print(f\"│ Average per Epoch: {np.mean(epoch_times):.2f}s\")\n",
    "print(f\"│ Testing Time: {test_time:.2f}s\")\n",
    "print(f\"│ Total Runtime: {total_training_time + test_time:.2f}s\")\n",
    "\n",
    "print(f\"\\n💾 Vision Transformer Files saved:\")\n",
    "print(f\"│ best_vit_model.pth - Best validation accuracy model\")\n",
    "print(f\"│ vit_training_history.csv - Training metrics for later plotting\")\n",
    "\n",
    "# -----------------------------\n",
    "# 7. Vision Transformer Architecture Summary\n",
    "# -----------------------------\n",
    "print(f\"\\n🏗️  Vision Transformer Architecture Summary:\")\n",
    "print(f\"│ Total Parameters: {sum(p.numel() for p in model.parameters()):,}\")\n",
    "print(f\"│ Trainable Parameters: {sum(p.numel() for p in model.parameters() if p.requires_grad):,}\")\n",
    "print(f\"│ Model Size: {sum(p.numel() * p.element_size() for p in model.parameters()) / 1024**2:.2f} MB\")\n",
    "print(f\"│ Input Size: 224x224x3\")\n",
    "print(f\"│ Patch Size: 16x16\")\n",
    "print(f\"│ Number of Patches: {model.patch_embed.n_patches}\")\n",
    "print(f\"│ Embed Dimension: {model.embed_dim}\")\n",
    "print(f\"│ Number of Heads: 12\")\n",
    "print(f\"│ Number of Layers: 12\")\n",
    "print(f\"│ MLP Ratio: 4.0\")\n",
    "print(f\"│ Output Classes: {len(classes)}\")\n",
    "print(f\"│ Activation: GELU\")\n",
    "print(f\"│ Attention Dropout: 0.1\")\n",
    "print(f\"│ Embedding Dropout: 0.1\")\n"
   ]
  }
 ],
 "metadata": {
  "kaggle": {
   "accelerator": "nvidiaTeslaT4",
   "dataSources": [
    {
     "datasetId": 7735666,
     "sourceId": 12275446,
     "sourceType": "datasetVersion"
    }
   ],
   "dockerImageVersionId": 31090,
   "isGpuEnabled": true,
   "isInternetEnabled": true,
   "language": "python",
   "sourceType": "notebook"
  },
  "kernelspec": {
   "display_name": "Python 3",
   "language": "python",
   "name": "python3"
  },
  "language_info": {
   "codemirror_mode": {
    "name": "ipython",
    "version": 3
   },
   "file_extension": ".py",
   "mimetype": "text/x-python",
   "name": "python",
   "nbconvert_exporter": "python",
   "pygments_lexer": "ipython3",
   "version": "3.11.13"
  },
  "papermill": {
   "default_parameters": {},
   "duration": 24137.654815,
   "end_time": "2025-09-10T01:15:37.982153",
   "environment_variables": {},
   "exception": null,
   "input_path": "__notebook__.ipynb",
   "output_path": "__notebook__.ipynb",
   "parameters": {},
   "start_time": "2025-09-09T18:33:20.327338",
   "version": "2.6.0"
  }
 },
 "nbformat": 4,
 "nbformat_minor": 5
}
