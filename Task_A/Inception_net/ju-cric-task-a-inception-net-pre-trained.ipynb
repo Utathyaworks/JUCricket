{
 "cells": [
  {
   "cell_type": "code",
   "execution_count": 1,
   "id": "678bc93f",
   "metadata": {
    "_cell_guid": "b1076dfc-b9ad-4769-8c92-a6c4dae69d19",
    "_uuid": "8f2839f25d086af736a60e9eeb907d3b93b6e0e5",
    "execution": {
     "iopub.execute_input": "2025-09-07T03:57:49.098663Z",
     "iopub.status.busy": "2025-09-07T03:57:49.098425Z",
     "iopub.status.idle": "2025-09-07T03:58:04.977603Z",
     "shell.execute_reply": "2025-09-07T03:58:04.976674Z"
    },
    "papermill": {
     "duration": 15.88397,
     "end_time": "2025-09-07T03:58:04.978933",
     "exception": false,
     "start_time": "2025-09-07T03:57:49.094963",
     "status": "completed"
    },
    "tags": []
   },
   "outputs": [
    {
     "name": "stdout",
     "output_type": "stream",
     "text": [
      "Classes: ['Batting', 'Bowling', 'Fielding', 'Umpire']\n"
     ]
    }
   ],
   "source": [
    "import torch\n",
    "import torch.nn as nn\n",
    "import torch.nn.functional as F\n",
    "from torch.utils.data import DataLoader\n",
    "from torchvision import datasets, transforms\n",
    "from torchsummary import summary\n",
    "import matplotlib.pyplot as plt\n",
    "from sklearn.metrics import classification_report, confusion_matrix, accuracy_score\n",
    "import seaborn as sns\n",
    "import numpy as np\n",
    "\n",
    "# -----------------------------\n",
    "# 1. Data Preprocessing\n",
    "# -----------------------------\n",
    "data_dir = \"/kaggle/input/ju-cricket/Cricket_Dataset_final/Task_A\"\n",
    "\n",
    "transform = transforms.Compose([\n",
    "    transforms.Resize((224, 224)),\n",
    "    transforms.ToTensor(),\n",
    "    transforms.Normalize([0.485, 0.456, 0.406], \n",
    "                         [0.229, 0.224, 0.225])\n",
    "])\n",
    "\n",
    "train_ds = datasets.ImageFolder(f\"{data_dir}/train\", transform=transform)\n",
    "val_ds   = datasets.ImageFolder(f\"{data_dir}/val\", transform=transform)\n",
    "test_ds  = datasets.ImageFolder(f\"{data_dir}/test\", transform=transform)\n",
    "\n",
    "train_loader = DataLoader(train_ds, batch_size=32, shuffle=True)\n",
    "val_loader   = DataLoader(val_ds, batch_size=32, shuffle=False)\n",
    "test_loader  = DataLoader(test_ds, batch_size=32, shuffle=False)\n",
    "\n",
    "classes = train_ds.classes\n",
    "print(\"Classes:\", classes)\n",
    "\n"
   ]
  },
  {
   "cell_type": "code",
   "execution_count": 2,
   "id": "ab11a915",
   "metadata": {
    "execution": {
     "iopub.execute_input": "2025-09-07T03:58:04.984661Z",
     "iopub.status.busy": "2025-09-07T03:58:04.984246Z",
     "iopub.status.idle": "2025-09-07T03:58:04.988705Z",
     "shell.execute_reply": "2025-09-07T03:58:04.988082Z"
    },
    "papermill": {
     "duration": 0.00812,
     "end_time": "2025-09-07T03:58:04.989715",
     "exception": false,
     "start_time": "2025-09-07T03:58:04.981595",
     "status": "completed"
    },
    "tags": []
   },
   "outputs": [
    {
     "name": "stdout",
     "output_type": "stream",
     "text": [
      "Total training images: 11169\n",
      "Total validation images: 2898\n",
      "Total test images: 3627\n",
      "Total images in dataset: 17694\n"
     ]
    }
   ],
   "source": [
    "print(\"Total training images:\", len(train_ds))\n",
    "print(\"Total validation images:\", len(val_ds))\n",
    "print(\"Total test images:\", len(test_ds))\n",
    "\n",
    "total_images = len(train_ds) + len(val_ds) + len(test_ds)\n",
    "print(\"Total images in dataset:\", total_images)\n"
   ]
  },
  {
   "cell_type": "code",
   "execution_count": 3,
   "id": "2160f24c",
   "metadata": {
    "execution": {
     "iopub.execute_input": "2025-09-07T03:58:04.994633Z",
     "iopub.status.busy": "2025-09-07T03:58:04.994428Z",
     "iopub.status.idle": "2025-09-07T03:58:05.008105Z",
     "shell.execute_reply": "2025-09-07T03:58:05.007437Z"
    },
    "papermill": {
     "duration": 0.017258,
     "end_time": "2025-09-07T03:58:05.009094",
     "exception": false,
     "start_time": "2025-09-07T03:58:04.991836",
     "status": "completed"
    },
    "tags": []
   },
   "outputs": [
    {
     "name": "stdout",
     "output_type": "stream",
     "text": [
      "Training images (excluding 'random_occlusion'): 9928\n",
      "Validation images (excluding 'random_occlusion'): 2576\n",
      "Test images (excluding 'random_occlusion'): 3224\n",
      "Total images (excluding 'random_occlusion'): 15728\n"
     ]
    }
   ],
   "source": [
    "ignore_folder = \"random_occlusion\"\n",
    "\n",
    "def count_images_ignore_folder(dataset, ignore_folder):\n",
    "    count = 0\n",
    "    for img_path, label in dataset.samples:\n",
    "        # Skip if the image path contains the ignore_folder\n",
    "        if ignore_folder not in img_path.split(\"/\"):\n",
    "            count += 1\n",
    "    return count\n",
    "\n",
    "train_count = count_images_ignore_folder(train_ds, ignore_folder)\n",
    "val_count   = count_images_ignore_folder(val_ds, ignore_folder)\n",
    "test_count  = count_images_ignore_folder(test_ds, ignore_folder)\n",
    "\n",
    "total_count = train_count + val_count + test_count\n",
    "\n",
    "print(\"Training images (excluding '{}'): {}\".format(ignore_folder, train_count))\n",
    "print(\"Validation images (excluding '{}'): {}\".format(ignore_folder, val_count))\n",
    "print(\"Test images (excluding '{}'): {}\".format(ignore_folder, test_count))\n",
    "print(\"Total images (excluding '{}'): {}\".format(ignore_folder, total_count))\n"
   ]
  },
  {
   "cell_type": "code",
   "execution_count": 4,
   "id": "f9ab7ebd",
   "metadata": {
    "execution": {
     "iopub.execute_input": "2025-09-07T03:58:05.014627Z",
     "iopub.status.busy": "2025-09-07T03:58:05.014026Z",
     "iopub.status.idle": "2025-09-07T03:58:05.033253Z",
     "shell.execute_reply": "2025-09-07T03:58:05.032556Z"
    },
    "papermill": {
     "duration": 0.022936,
     "end_time": "2025-09-07T03:58:05.034242",
     "exception": false,
     "start_time": "2025-09-07T03:58:05.011306",
     "status": "completed"
    },
    "tags": []
   },
   "outputs": [
    {
     "name": "stdout",
     "output_type": "stream",
     "text": [
      "Training folders considered: {'dirty_lens', 'original', 'blur', 'motion_blur', 'low_resolution', 'gaussian_noise', 'lens_flare', 'chromatic_aberration'}\n",
      "Validation folders considered: {'dirty_lens', 'original', 'blur', 'motion_blur', 'low_resolution', 'gaussian_noise', 'lens_flare', 'chromatic_aberration'}\n",
      "Test folders considered: {'dirty_lens', 'original', 'blur', 'motion_blur', 'low_resolution', 'gaussian_noise', 'lens_flare', 'chromatic_aberration'}\n"
     ]
    }
   ],
   "source": [
    "ignore_folder = \"random_occlusion\"\n",
    "\n",
    "def get_included_folders(dataset, ignore_folder):\n",
    "    included = set()\n",
    "    for img_path, label in dataset.samples:\n",
    "        # Split the path into parts and ignore if ignore_folder is in the path\n",
    "        if ignore_folder not in img_path.split(\"/\"):\n",
    "            # The folder name just above the image (or the class folder)\n",
    "            folder_name = img_path.split(\"/\")[-2]\n",
    "            included.add(folder_name)\n",
    "    return included\n",
    "\n",
    "train_folders = get_included_folders(train_ds, ignore_folder)\n",
    "val_folders   = get_included_folders(val_ds, ignore_folder)\n",
    "test_folders  = get_included_folders(test_ds, ignore_folder)\n",
    "\n",
    "print(\"Training folders considered:\", train_folders)\n",
    "print(\"Validation folders considered:\", val_folders)\n",
    "print(\"Test folders considered:\", test_folders)\n"
   ]
  },
  {
   "cell_type": "code",
   "execution_count": 5,
   "id": "3f58c3bf",
   "metadata": {
    "execution": {
     "iopub.execute_input": "2025-09-07T03:58:05.039612Z",
     "iopub.status.busy": "2025-09-07T03:58:05.039226Z",
     "iopub.status.idle": "2025-09-07T03:58:05.708667Z",
     "shell.execute_reply": "2025-09-07T03:58:05.707798Z"
    },
    "papermill": {
     "duration": 0.673326,
     "end_time": "2025-09-07T03:58:05.709801",
     "exception": false,
     "start_time": "2025-09-07T03:58:05.036475",
     "status": "completed"
    },
    "tags": []
   },
   "outputs": [
    {
     "name": "stdout",
     "output_type": "stream",
     "text": [
      "Classes: ['Batting', 'Bowling', 'Fielding', 'Umpire']\n",
      "Final Training images: 9928\n",
      "Final Validation images: 2576\n",
      "Final Test images: 3224\n",
      "Total images after filtering: 15728\n"
     ]
    }
   ],
   "source": [
    "ignore_folder = \"random_occlusion\"\n",
    "\n",
    "def filter_samples(dataset, ignore_folder):\n",
    "    # Keep only samples where ignore_folder is NOT in the path\n",
    "    filtered_samples = [s for s in dataset.samples if ignore_folder not in s[0].split(\"/\")]\n",
    "    dataset.samples = filtered_samples\n",
    "    dataset.targets = [s[1] for s in filtered_samples]  # Update targets accordingly\n",
    "    return dataset\n",
    "\n",
    "# Create original datasets\n",
    "train_ds = datasets.ImageFolder(f\"{data_dir}/train\", transform=transform)\n",
    "val_ds   = datasets.ImageFolder(f\"{data_dir}/val\", transform=transform)\n",
    "test_ds  = datasets.ImageFolder(f\"{data_dir}/test\", transform=transform)\n",
    "\n",
    "# Filter out 'random_occlusion' folder\n",
    "train_ds = filter_samples(train_ds, ignore_folder)\n",
    "val_ds   = filter_samples(val_ds, ignore_folder)\n",
    "test_ds  = filter_samples(test_ds, ignore_folder)\n",
    "\n",
    "# DataLoaders\n",
    "train_loader = DataLoader(train_ds, batch_size=32, shuffle=True)\n",
    "val_loader   = DataLoader(val_ds, batch_size=32, shuffle=False)\n",
    "test_loader  = DataLoader(test_ds, batch_size=32, shuffle=False)\n",
    "\n",
    "# Classes (will remain the same)\n",
    "classes = train_ds.classes\n",
    "print(\"Classes:\", classes)\n",
    "\n",
    "# Show counts\n",
    "print(\"Final Training images:\", len(train_ds))\n",
    "print(\"Final Validation images:\", len(val_ds))\n",
    "print(\"Final Test images:\", len(test_ds))\n",
    "print(\"Total images after filtering:\", len(train_ds) + len(val_ds) + len(test_ds))\n"
   ]
  },
  {
   "cell_type": "code",
   "execution_count": 6,
   "id": "dd367ae0",
   "metadata": {
    "execution": {
     "iopub.execute_input": "2025-09-07T03:58:05.715624Z",
     "iopub.status.busy": "2025-09-07T03:58:05.715387Z",
     "iopub.status.idle": "2025-09-07T03:58:05.734221Z",
     "shell.execute_reply": "2025-09-07T03:58:05.733457Z"
    },
    "papermill": {
     "duration": 0.02292,
     "end_time": "2025-09-07T03:58:05.735264",
     "exception": false,
     "start_time": "2025-09-07T03:58:05.712344",
     "status": "completed"
    },
    "tags": []
   },
   "outputs": [
    {
     "name": "stdout",
     "output_type": "stream",
     "text": [
      "Training folders considered: {'dirty_lens', 'original', 'blur', 'motion_blur', 'low_resolution', 'gaussian_noise', 'lens_flare', 'chromatic_aberration'}\n",
      "Validation folders considered: {'dirty_lens', 'original', 'blur', 'motion_blur', 'low_resolution', 'gaussian_noise', 'lens_flare', 'chromatic_aberration'}\n",
      "Test folders considered: {'dirty_lens', 'original', 'blur', 'motion_blur', 'low_resolution', 'gaussian_noise', 'lens_flare', 'chromatic_aberration'}\n"
     ]
    }
   ],
   "source": [
    "ignore_folder = \"random_occlusion\"\n",
    "\n",
    "def get_included_folders(dataset, ignore_folder):\n",
    "    included = set()\n",
    "    for img_path, label in dataset.samples:\n",
    "        # Split the path into parts and ignore if ignore_folder is in the path\n",
    "        if ignore_folder not in img_path.split(\"/\"):\n",
    "            # The folder name just above the image (or the class folder)\n",
    "            folder_name = img_path.split(\"/\")[-2]\n",
    "            included.add(folder_name)\n",
    "    return included\n",
    "\n",
    "train_folders = get_included_folders(train_ds, ignore_folder)\n",
    "val_folders   = get_included_folders(val_ds, ignore_folder)\n",
    "test_folders  = get_included_folders(test_ds, ignore_folder)\n",
    "\n",
    "print(\"Training folders considered:\", train_folders)\n",
    "print(\"Validation folders considered:\", val_folders)\n",
    "print(\"Test folders considered:\", test_folders)\n"
   ]
  },
  {
   "cell_type": "code",
   "execution_count": 7,
   "id": "ecb95f13",
   "metadata": {
    "execution": {
     "iopub.execute_input": "2025-09-07T03:58:05.741093Z",
     "iopub.status.busy": "2025-09-07T03:58:05.740890Z",
     "iopub.status.idle": "2025-09-07T03:58:05.905850Z",
     "shell.execute_reply": "2025-09-07T03:58:05.905127Z"
    },
    "papermill": {
     "duration": 0.169194,
     "end_time": "2025-09-07T03:58:05.906899",
     "exception": false,
     "start_time": "2025-09-07T03:58:05.737705",
     "status": "completed"
    },
    "tags": []
   },
   "outputs": [
    {
     "name": "stdout",
     "output_type": "stream",
     "text": [
      "🔄 Loading and filtering datasets for InceptionV3...\n",
      "✅ Classes: ['Batting', 'Bowling', 'Fielding', 'Umpire']\n",
      "📊 Dataset Statistics:\n",
      "│ Training images: 9928\n",
      "│ Validation images: 2576\n",
      "│ Test images: 3224\n",
      "│ Total images (after filtering): 15728\n",
      "│ Excluded folder: 'random_occlusion'\n",
      "│ Number of classes: 4\n"
     ]
    }
   ],
   "source": [
    "import torch\n",
    "import torch.nn as nn\n",
    "import torch.nn.functional as F\n",
    "import torch.optim as optim\n",
    "from torch.utils.data import DataLoader\n",
    "from torchvision import datasets, transforms, models\n",
    "import matplotlib.pyplot as plt\n",
    "from sklearn.metrics import classification_report, confusion_matrix, accuracy_score\n",
    "import seaborn as sns\n",
    "import numpy as np\n",
    "import pandas as pd\n",
    "from tqdm import tqdm\n",
    "import time\n",
    "import os\n",
    "import tempfile\n",
    "\n",
    "# -----------------------------\n",
    "# 1. Data Preprocessing with Filtering (InceptionV3 - 299x299)\n",
    "# -----------------------------\n",
    "data_dir = \"/kaggle/input/ju-cricket/Cricket_Dataset_final/Task_A\"\n",
    "\n",
    "# InceptionV3 requires 299x299 input size\n",
    "transform = transforms.Compose([\n",
    "    transforms.Resize((299, 299)),  # InceptionV3 specific size\n",
    "    transforms.ToTensor(),\n",
    "    transforms.Normalize([0.485, 0.456, 0.406], \n",
    "                         [0.229, 0.224, 0.225])\n",
    "])\n",
    "\n",
    "ignore_folder = \"random_occlusion\"\n",
    "\n",
    "def filter_samples(dataset, ignore_folder):\n",
    "    \"\"\"Filter out samples containing the ignore_folder in their path\"\"\"\n",
    "    filtered_samples = [s for s in dataset.samples if ignore_folder not in s[0].split(\"/\")]\n",
    "    dataset.samples = filtered_samples\n",
    "    dataset.targets = [s[1] for s in filtered_samples]\n",
    "    return dataset\n",
    "\n",
    "# Create and filter datasets\n",
    "print(\"🔄 Loading and filtering datasets for InceptionV3...\")\n",
    "train_ds = datasets.ImageFolder(f\"{data_dir}/train\", transform=transform)\n",
    "val_ds   = datasets.ImageFolder(f\"{data_dir}/val\", transform=transform)\n",
    "test_ds  = datasets.ImageFolder(f\"{data_dir}/test\", transform=transform)\n",
    "\n",
    "# Apply filtering\n",
    "train_ds = filter_samples(train_ds, ignore_folder)\n",
    "val_ds   = filter_samples(val_ds, ignore_folder)\n",
    "test_ds  = filter_samples(test_ds, ignore_folder)\n",
    "\n",
    "# Create DataLoaders\n",
    "train_loader = DataLoader(train_ds, batch_size=32, shuffle=True)\n",
    "val_loader   = DataLoader(val_ds, batch_size=32, shuffle=False)\n",
    "test_loader  = DataLoader(test_ds, batch_size=32, shuffle=False)\n",
    "\n",
    "# Display information\n",
    "classes = train_ds.classes\n",
    "print(f\"✅ Classes: {classes}\")\n",
    "print(f\"📊 Dataset Statistics:\")\n",
    "print(f\"│ Training images: {len(train_ds)}\")\n",
    "print(f\"│ Validation images: {len(val_ds)}\")\n",
    "print(f\"│ Test images: {len(test_ds)}\")\n",
    "print(f\"│ Total images (after filtering): {len(train_ds) + len(val_ds) + len(test_ds)}\")\n",
    "print(f\"│ Excluded folder: '{ignore_folder}'\")\n",
    "print(f\"│ Number of classes: {len(classes)}\")\n"
   ]
  },
  {
   "cell_type": "code",
   "execution_count": 8,
   "id": "decd8b1f",
   "metadata": {
    "execution": {
     "iopub.execute_input": "2025-09-07T03:58:05.913115Z",
     "iopub.status.busy": "2025-09-07T03:58:05.912746Z",
     "iopub.status.idle": "2025-09-07T03:58:07.653911Z",
     "shell.execute_reply": "2025-09-07T03:58:07.653142Z"
    },
    "papermill": {
     "duration": 1.745488,
     "end_time": "2025-09-07T03:58:07.655034",
     "exception": false,
     "start_time": "2025-09-07T03:58:05.909546",
     "status": "completed"
    },
    "tags": []
   },
   "outputs": [
    {
     "name": "stdout",
     "output_type": "stream",
     "text": [
      "Using device: cuda\n",
      "🔄 Loading pretrained InceptionV3 from ImageNet...\n"
     ]
    },
    {
     "name": "stderr",
     "output_type": "stream",
     "text": [
      "/usr/local/lib/python3.11/dist-packages/torchvision/models/_utils.py:208: UserWarning: The parameter 'pretrained' is deprecated since 0.13 and may be removed in the future, please use 'weights' instead.\n",
      "  warnings.warn(\n",
      "/usr/local/lib/python3.11/dist-packages/torchvision/models/_utils.py:223: UserWarning: Arguments other than a weight enum or `None` for 'weights' are deprecated since 0.13 and may be removed in the future. The current behavior is equivalent to passing `weights=Inception_V3_Weights.IMAGENET1K_V1`. You can also use `weights=Inception_V3_Weights.DEFAULT` to get the most up-to-date weights.\n",
      "  warnings.warn(msg)\n",
      "Downloading: \"https://download.pytorch.org/models/inception_v3_google-0cc3c7bd.pth\" to /root/.cache/torch/hub/checkpoints/inception_v3_google-0cc3c7bd.pth\n",
      "100%|██████████| 104M/104M [00:00<00:00, 161MB/s] \n"
     ]
    },
    {
     "name": "stdout",
     "output_type": "stream",
     "text": [
      "✅ Model loaded with 4 output classes\n",
      "📊 Total parameters: 25,120,460\n",
      "📊 Trainable parameters: 25,120,460\n",
      "📊 Model file size: 96.16 MB\n",
      "📋 Model Architecture:\n",
      "│ Input size: (3, 299, 299)\n",
      "│ InceptionV3 features: 2048\n",
      "│ Output classes: 4\n",
      "│ Auxiliary classifier: Disabled\n"
     ]
    }
   ],
   "source": [
    "# -----------------------------\n",
    "# 2. Pretrained InceptionV3 Model\n",
    "# -----------------------------\n",
    "device = torch.device('cuda' if torch.cuda.is_available() else 'cpu')\n",
    "print(f\"Using device: {device}\")\n",
    "\n",
    "# Load pretrained InceptionV3\n",
    "print(\"🔄 Loading pretrained InceptionV3 from ImageNet...\")\n",
    "model = models.inception_v3(pretrained=True)\n",
    "\n",
    "# InceptionV3 has auxiliary classifier - disable it for fine-tuning\n",
    "model.aux_logits = False\n",
    "\n",
    "# Replace final classification layer\n",
    "num_features = model.fc.in_features  # Get input features (2048)\n",
    "model.fc = nn.Linear(num_features, len(classes))  # Replace final layer\n",
    "model = model.to(device)\n",
    "\n",
    "print(f\"✅ Model loaded with {len(classes)} output classes\")\n",
    "\n",
    "# Calculate model parameters and size\n",
    "total_params = sum(p.numel() for p in model.parameters())\n",
    "trainable_params = sum(p.numel() for p in model.parameters() if p.requires_grad)\n",
    "\n",
    "# Calculate model file size\n",
    "with tempfile.NamedTemporaryFile(delete=False, suffix='.pth') as tmp_file:\n",
    "    torch.save(model.state_dict(), tmp_file.name)\n",
    "    model_size_mb = os.path.getsize(tmp_file.name) / (1024 * 1024)\n",
    "    os.unlink(tmp_file.name)\n",
    "\n",
    "print(f\"📊 Total parameters: {total_params:,}\")\n",
    "print(f\"📊 Trainable parameters: {trainable_params:,}\")\n",
    "print(f\"📊 Model file size: {model_size_mb:.2f} MB\")\n",
    "print(f\"📋 Model Architecture:\")\n",
    "print(f\"│ Input size: (3, 299, 299)\")  # InceptionV3 specific\n",
    "print(f\"│ InceptionV3 features: 2048\")\n",
    "print(f\"│ Output classes: {len(classes)}\")\n",
    "print(f\"│ Auxiliary classifier: Disabled\")\n"
   ]
  },
  {
   "cell_type": "code",
   "execution_count": 9,
   "id": "76009349",
   "metadata": {
    "execution": {
     "iopub.execute_input": "2025-09-07T03:58:07.662822Z",
     "iopub.status.busy": "2025-09-07T03:58:07.662628Z",
     "iopub.status.idle": "2025-09-07T07:30:07.178586Z",
     "shell.execute_reply": "2025-09-07T07:30:07.177803Z"
    },
    "papermill": {
     "duration": 12720.208476,
     "end_time": "2025-09-07T07:30:07.866932",
     "exception": false,
     "start_time": "2025-09-07T03:58:07.658456",
     "status": "completed"
    },
    "tags": []
   },
   "outputs": [
    {
     "name": "stdout",
     "output_type": "stream",
     "text": [
      "\n",
      "📋 Training Configuration:\n",
      "│ Model: InceptionV3 (pretrained)\n",
      "│ Optimizer: Adam (lr=0.0001)\n",
      "│ Loss Function: CrossEntropyLoss\n",
      "│ Batch Size: 32\n",
      "│ Device: cuda\n",
      "│ Data: Filtered (excluding 'random_occlusion')\n",
      "\n",
      "🚀 Starting InceptionV3 Fine-tuning for 50 epochs...\n",
      "================================================================================\n",
      "\n",
      "📈 Epoch 1/50\n",
      "--------------------------------------------------\n",
      "🔄 Training Phase...\n"
     ]
    },
    {
     "name": "stderr",
     "output_type": "stream",
     "text": [
      "Training: 100%|██████████████████████████████| 311/311 [04:04<00:00,  1.27it/s, Loss=0.2670, Acc=0.9047, GPU=0.4GB]\n"
     ]
    },
    {
     "name": "stdout",
     "output_type": "stream",
     "text": [
      "✅ Training completed in 244.06s\n",
      "🔍 Validation Phase...\n"
     ]
    },
    {
     "name": "stderr",
     "output_type": "stream",
     "text": [
      "Validation: 100%|██████████████████████████████| 81/81 [00:36<00:00,  2.21it/s, Loss=0.3579, Acc=0.8828]\n"
     ]
    },
    {
     "name": "stdout",
     "output_type": "stream",
     "text": [
      "✅ Validation completed in 36.65s\n",
      "🌟 New best model found! Validation Loss: 0.3579\n",
      "\n",
      "📊 Epoch 1 Summary:\n",
      "│ Train Loss: 0.2670 | Train Acc: 0.9047\n",
      "│ Val Loss:   0.3579 | Val Acc:   0.8828\n",
      "│ Train Time: 244.06s | Val Time: 36.65s\n",
      "│ Total Epoch Time: 280.72s\n",
      "│ Best Val Loss: 0.3579 (Epoch 1)\n",
      "│ GPU Memory: 0.4GB / 4.0GB\n",
      "================================================================================\n",
      "\n",
      "📈 Epoch 2/50\n",
      "--------------------------------------------------\n",
      "🔄 Training Phase...\n"
     ]
    },
    {
     "name": "stderr",
     "output_type": "stream",
     "text": [
      "Training: 100%|██████████████████████████████| 311/311 [03:42<00:00,  1.40it/s, Loss=0.0304, Acc=0.9912, GPU=0.4GB]\n"
     ]
    },
    {
     "name": "stdout",
     "output_type": "stream",
     "text": [
      "✅ Training completed in 222.36s\n",
      "🔍 Validation Phase...\n"
     ]
    },
    {
     "name": "stderr",
     "output_type": "stream",
     "text": [
      "Validation: 100%|██████████████████████████████| 81/81 [00:29<00:00,  2.72it/s, Loss=0.4028, Acc=0.8785]\n"
     ]
    },
    {
     "name": "stdout",
     "output_type": "stream",
     "text": [
      "✅ Validation completed in 29.78s\n",
      "\n",
      "📊 Epoch 2 Summary:\n",
      "│ Train Loss: 0.0304 | Train Acc: 0.9912\n",
      "│ Val Loss:   0.4028 | Val Acc:   0.8785\n",
      "│ Train Time: 222.36s | Val Time: 29.78s\n",
      "│ Total Epoch Time: 252.14s\n",
      "│ Best Val Loss: 0.3579 (Epoch 1)\n",
      "│ GPU Memory: 0.4GB / 4.0GB\n",
      "================================================================================\n",
      "\n",
      "📈 Epoch 3/50\n",
      "--------------------------------------------------\n",
      "🔄 Training Phase...\n"
     ]
    },
    {
     "name": "stderr",
     "output_type": "stream",
     "text": [
      "Training: 100%|██████████████████████████████| 311/311 [03:42<00:00,  1.40it/s, Loss=0.0226, Acc=0.9938, GPU=0.4GB]\n"
     ]
    },
    {
     "name": "stdout",
     "output_type": "stream",
     "text": [
      "✅ Training completed in 222.28s\n",
      "🔍 Validation Phase...\n"
     ]
    },
    {
     "name": "stderr",
     "output_type": "stream",
     "text": [
      "Validation: 100%|██████████████████████████████| 81/81 [00:29<00:00,  2.72it/s, Loss=0.4461, Acc=0.8750]\n"
     ]
    },
    {
     "name": "stdout",
     "output_type": "stream",
     "text": [
      "✅ Validation completed in 29.80s\n",
      "\n",
      "📊 Epoch 3 Summary:\n",
      "│ Train Loss: 0.0226 | Train Acc: 0.9938\n",
      "│ Val Loss:   0.4461 | Val Acc:   0.8750\n",
      "│ Train Time: 222.28s | Val Time: 29.80s\n",
      "│ Total Epoch Time: 252.09s\n",
      "│ Best Val Loss: 0.3579 (Epoch 1)\n",
      "│ GPU Memory: 0.4GB / 4.0GB\n",
      "================================================================================\n",
      "\n",
      "📈 Epoch 4/50\n",
      "--------------------------------------------------\n",
      "🔄 Training Phase...\n"
     ]
    },
    {
     "name": "stderr",
     "output_type": "stream",
     "text": [
      "Training: 100%|██████████████████████████████| 311/311 [03:43<00:00,  1.39it/s, Loss=0.0241, Acc=0.9926, GPU=0.4GB]\n"
     ]
    },
    {
     "name": "stdout",
     "output_type": "stream",
     "text": [
      "✅ Training completed in 223.07s\n",
      "🔍 Validation Phase...\n"
     ]
    },
    {
     "name": "stderr",
     "output_type": "stream",
     "text": [
      "Validation: 100%|██████████████████████████████| 81/81 [00:29<00:00,  2.70it/s, Loss=0.5217, Acc=0.8556]\n"
     ]
    },
    {
     "name": "stdout",
     "output_type": "stream",
     "text": [
      "✅ Validation completed in 29.97s\n",
      "\n",
      "📊 Epoch 4 Summary:\n",
      "│ Train Loss: 0.0241 | Train Acc: 0.9926\n",
      "│ Val Loss:   0.5217 | Val Acc:   0.8556\n",
      "│ Train Time: 223.07s | Val Time: 29.97s\n",
      "│ Total Epoch Time: 253.04s\n",
      "│ Best Val Loss: 0.3579 (Epoch 1)\n",
      "│ GPU Memory: 0.4GB / 4.0GB\n",
      "================================================================================\n",
      "\n",
      "📈 Epoch 5/50\n",
      "--------------------------------------------------\n",
      "🔄 Training Phase...\n"
     ]
    },
    {
     "name": "stderr",
     "output_type": "stream",
     "text": [
      "Training: 100%|██████████████████████████████| 311/311 [03:43<00:00,  1.39it/s, Loss=0.0227, Acc=0.9938, GPU=0.4GB]\n"
     ]
    },
    {
     "name": "stdout",
     "output_type": "stream",
     "text": [
      "✅ Training completed in 223.10s\n",
      "🔍 Validation Phase...\n"
     ]
    },
    {
     "name": "stderr",
     "output_type": "stream",
     "text": [
      "Validation: 100%|██████████████████████████████| 81/81 [00:29<00:00,  2.71it/s, Loss=0.3981, Acc=0.8762]\n"
     ]
    },
    {
     "name": "stdout",
     "output_type": "stream",
     "text": [
      "✅ Validation completed in 29.88s\n",
      "\n",
      "📊 Epoch 5 Summary:\n",
      "│ Train Loss: 0.0227 | Train Acc: 0.9938\n",
      "│ Val Loss:   0.3981 | Val Acc:   0.8762\n",
      "│ Train Time: 223.10s | Val Time: 29.88s\n",
      "│ Total Epoch Time: 252.99s\n",
      "│ Best Val Loss: 0.3579 (Epoch 1)\n",
      "│ GPU Memory: 0.4GB / 4.0GB\n",
      "================================================================================\n",
      "\n",
      "📈 Epoch 6/50\n",
      "--------------------------------------------------\n",
      "🔄 Training Phase...\n"
     ]
    },
    {
     "name": "stderr",
     "output_type": "stream",
     "text": [
      "Training: 100%|██████████████████████████████| 311/311 [03:42<00:00,  1.40it/s, Loss=0.0176, Acc=0.9950, GPU=0.4GB]\n"
     ]
    },
    {
     "name": "stdout",
     "output_type": "stream",
     "text": [
      "✅ Training completed in 222.76s\n",
      "🔍 Validation Phase...\n"
     ]
    },
    {
     "name": "stderr",
     "output_type": "stream",
     "text": [
      "Validation: 100%|██████████████████████████████| 81/81 [00:29<00:00,  2.70it/s, Loss=0.4010, Acc=0.8859]\n"
     ]
    },
    {
     "name": "stdout",
     "output_type": "stream",
     "text": [
      "✅ Validation completed in 29.97s\n",
      "\n",
      "📊 Epoch 6 Summary:\n",
      "│ Train Loss: 0.0176 | Train Acc: 0.9950\n",
      "│ Val Loss:   0.4010 | Val Acc:   0.8859\n",
      "│ Train Time: 222.76s | Val Time: 29.97s\n",
      "│ Total Epoch Time: 252.74s\n",
      "│ Best Val Loss: 0.3579 (Epoch 1)\n",
      "│ GPU Memory: 0.4GB / 4.0GB\n",
      "================================================================================\n",
      "\n",
      "📈 Epoch 7/50\n",
      "--------------------------------------------------\n",
      "🔄 Training Phase...\n"
     ]
    },
    {
     "name": "stderr",
     "output_type": "stream",
     "text": [
      "Training: 100%|██████████████████████████████| 311/311 [03:42<00:00,  1.40it/s, Loss=0.0067, Acc=0.9984, GPU=0.4GB]\n"
     ]
    },
    {
     "name": "stdout",
     "output_type": "stream",
     "text": [
      "✅ Training completed in 222.94s\n",
      "🔍 Validation Phase...\n"
     ]
    },
    {
     "name": "stderr",
     "output_type": "stream",
     "text": [
      "Validation: 100%|██████████████████████████████| 81/81 [00:29<00:00,  2.73it/s, Loss=0.3678, Acc=0.8995]\n"
     ]
    },
    {
     "name": "stdout",
     "output_type": "stream",
     "text": [
      "✅ Validation completed in 29.69s\n",
      "\n",
      "📊 Epoch 7 Summary:\n",
      "│ Train Loss: 0.0067 | Train Acc: 0.9984\n",
      "│ Val Loss:   0.3678 | Val Acc:   0.8995\n",
      "│ Train Time: 222.94s | Val Time: 29.69s\n",
      "│ Total Epoch Time: 252.64s\n",
      "│ Best Val Loss: 0.3579 (Epoch 1)\n",
      "│ GPU Memory: 0.4GB / 4.0GB\n",
      "================================================================================\n",
      "\n",
      "📈 Epoch 8/50\n",
      "--------------------------------------------------\n",
      "🔄 Training Phase...\n"
     ]
    },
    {
     "name": "stderr",
     "output_type": "stream",
     "text": [
      "Training: 100%|██████████████████████████████| 311/311 [03:42<00:00,  1.39it/s, Loss=0.0066, Acc=0.9984, GPU=0.4GB]\n"
     ]
    },
    {
     "name": "stdout",
     "output_type": "stream",
     "text": [
      "✅ Training completed in 222.98s\n",
      "🔍 Validation Phase...\n"
     ]
    },
    {
     "name": "stderr",
     "output_type": "stream",
     "text": [
      "Validation: 100%|██████████████████████████████| 81/81 [00:29<00:00,  2.75it/s, Loss=0.4840, Acc=0.8824]\n"
     ]
    },
    {
     "name": "stdout",
     "output_type": "stream",
     "text": [
      "✅ Validation completed in 29.43s\n",
      "\n",
      "📊 Epoch 8 Summary:\n",
      "│ Train Loss: 0.0066 | Train Acc: 0.9984\n",
      "│ Val Loss:   0.4840 | Val Acc:   0.8824\n",
      "│ Train Time: 222.98s | Val Time: 29.43s\n",
      "│ Total Epoch Time: 252.42s\n",
      "│ Best Val Loss: 0.3579 (Epoch 1)\n",
      "│ GPU Memory: 0.4GB / 4.0GB\n",
      "================================================================================\n",
      "\n",
      "📈 Epoch 9/50\n",
      "--------------------------------------------------\n",
      "🔄 Training Phase...\n"
     ]
    },
    {
     "name": "stderr",
     "output_type": "stream",
     "text": [
      "Training: 100%|██████████████████████████████| 311/311 [03:42<00:00,  1.40it/s, Loss=0.0076, Acc=0.9976, GPU=0.4GB]\n"
     ]
    },
    {
     "name": "stdout",
     "output_type": "stream",
     "text": [
      "✅ Training completed in 222.43s\n",
      "🔍 Validation Phase...\n"
     ]
    },
    {
     "name": "stderr",
     "output_type": "stream",
     "text": [
      "Validation: 100%|██████████████████████████████| 81/81 [00:30<00:00,  2.69it/s, Loss=0.4508, Acc=0.8886]\n"
     ]
    },
    {
     "name": "stdout",
     "output_type": "stream",
     "text": [
      "✅ Validation completed in 30.16s\n",
      "\n",
      "📊 Epoch 9 Summary:\n",
      "│ Train Loss: 0.0076 | Train Acc: 0.9976\n",
      "│ Val Loss:   0.4508 | Val Acc:   0.8886\n",
      "│ Train Time: 222.43s | Val Time: 30.16s\n",
      "│ Total Epoch Time: 252.59s\n",
      "│ Best Val Loss: 0.3579 (Epoch 1)\n",
      "│ GPU Memory: 0.4GB / 4.0GB\n",
      "================================================================================\n",
      "\n",
      "📈 Epoch 10/50\n",
      "--------------------------------------------------\n",
      "🔄 Training Phase...\n"
     ]
    },
    {
     "name": "stderr",
     "output_type": "stream",
     "text": [
      "Training: 100%|██████████████████████████████| 311/311 [03:43<00:00,  1.39it/s, Loss=0.0279, Acc=0.9907, GPU=0.4GB]\n"
     ]
    },
    {
     "name": "stdout",
     "output_type": "stream",
     "text": [
      "✅ Training completed in 223.01s\n",
      "🔍 Validation Phase...\n"
     ]
    },
    {
     "name": "stderr",
     "output_type": "stream",
     "text": [
      "Validation: 100%|██████████████████████████████| 81/81 [00:32<00:00,  2.47it/s, Loss=0.4603, Acc=0.8762]\n"
     ]
    },
    {
     "name": "stdout",
     "output_type": "stream",
     "text": [
      "✅ Validation completed in 32.83s\n",
      "\n",
      "📊 Epoch 10 Summary:\n",
      "│ Train Loss: 0.0279 | Train Acc: 0.9907\n",
      "│ Val Loss:   0.4603 | Val Acc:   0.8762\n",
      "│ Train Time: 223.01s | Val Time: 32.83s\n",
      "│ Total Epoch Time: 255.84s\n",
      "│ Best Val Loss: 0.3579 (Epoch 1)\n",
      "│ GPU Memory: 0.4GB / 4.0GB\n",
      "================================================================================\n",
      "\n",
      "📈 Epoch 11/50\n",
      "--------------------------------------------------\n",
      "🔄 Training Phase...\n"
     ]
    },
    {
     "name": "stderr",
     "output_type": "stream",
     "text": [
      "Training: 100%|██████████████████████████████| 311/311 [03:51<00:00,  1.34it/s, Loss=0.0089, Acc=0.9972, GPU=0.4GB]\n"
     ]
    },
    {
     "name": "stdout",
     "output_type": "stream",
     "text": [
      "✅ Training completed in 231.63s\n",
      "🔍 Validation Phase...\n"
     ]
    },
    {
     "name": "stderr",
     "output_type": "stream",
     "text": [
      "Validation: 100%|██████████████████████████████| 81/81 [00:29<00:00,  2.72it/s, Loss=0.4760, Acc=0.8866]\n"
     ]
    },
    {
     "name": "stdout",
     "output_type": "stream",
     "text": [
      "✅ Validation completed in 29.83s\n",
      "\n",
      "📊 Epoch 11 Summary:\n",
      "│ Train Loss: 0.0089 | Train Acc: 0.9972\n",
      "│ Val Loss:   0.4760 | Val Acc:   0.8866\n",
      "│ Train Time: 231.63s | Val Time: 29.83s\n",
      "│ Total Epoch Time: 261.46s\n",
      "│ Best Val Loss: 0.3579 (Epoch 1)\n",
      "│ GPU Memory: 0.4GB / 4.0GB\n",
      "================================================================================\n",
      "\n",
      "📈 Epoch 12/50\n",
      "--------------------------------------------------\n",
      "🔄 Training Phase...\n"
     ]
    },
    {
     "name": "stderr",
     "output_type": "stream",
     "text": [
      "Training: 100%|██████████████████████████████| 311/311 [03:42<00:00,  1.40it/s, Loss=0.0047, Acc=0.9987, GPU=0.4GB]\n"
     ]
    },
    {
     "name": "stdout",
     "output_type": "stream",
     "text": [
      "✅ Training completed in 222.33s\n",
      "🔍 Validation Phase...\n"
     ]
    },
    {
     "name": "stderr",
     "output_type": "stream",
     "text": [
      "Validation: 100%|██████████████████████████████| 81/81 [00:29<00:00,  2.76it/s, Loss=0.4031, Acc=0.9053]\n"
     ]
    },
    {
     "name": "stdout",
     "output_type": "stream",
     "text": [
      "✅ Validation completed in 29.40s\n",
      "\n",
      "📊 Epoch 12 Summary:\n",
      "│ Train Loss: 0.0047 | Train Acc: 0.9987\n",
      "│ Val Loss:   0.4031 | Val Acc:   0.9053\n",
      "│ Train Time: 222.33s | Val Time: 29.40s\n",
      "│ Total Epoch Time: 251.74s\n",
      "│ Best Val Loss: 0.3579 (Epoch 1)\n",
      "│ GPU Memory: 0.4GB / 4.0GB\n",
      "================================================================================\n",
      "\n",
      "📈 Epoch 13/50\n",
      "--------------------------------------------------\n",
      "🔄 Training Phase...\n"
     ]
    },
    {
     "name": "stderr",
     "output_type": "stream",
     "text": [
      "Training: 100%|██████████████████████████████| 311/311 [03:42<00:00,  1.40it/s, Loss=0.0047, Acc=0.9986, GPU=0.4GB]\n"
     ]
    },
    {
     "name": "stdout",
     "output_type": "stream",
     "text": [
      "✅ Training completed in 222.25s\n",
      "🔍 Validation Phase...\n"
     ]
    },
    {
     "name": "stderr",
     "output_type": "stream",
     "text": [
      "Validation: 100%|██████████████████████████████| 81/81 [00:29<00:00,  2.73it/s, Loss=0.5663, Acc=0.8808]\n"
     ]
    },
    {
     "name": "stdout",
     "output_type": "stream",
     "text": [
      "✅ Validation completed in 29.72s\n",
      "\n",
      "📊 Epoch 13 Summary:\n",
      "│ Train Loss: 0.0047 | Train Acc: 0.9986\n",
      "│ Val Loss:   0.5663 | Val Acc:   0.8808\n",
      "│ Train Time: 222.25s | Val Time: 29.72s\n",
      "│ Total Epoch Time: 251.98s\n",
      "│ Best Val Loss: 0.3579 (Epoch 1)\n",
      "│ GPU Memory: 0.4GB / 4.0GB\n",
      "================================================================================\n",
      "\n",
      "📈 Epoch 14/50\n",
      "--------------------------------------------------\n",
      "🔄 Training Phase...\n"
     ]
    },
    {
     "name": "stderr",
     "output_type": "stream",
     "text": [
      "Training: 100%|██████████████████████████████| 311/311 [03:42<00:00,  1.40it/s, Loss=0.0171, Acc=0.9947, GPU=0.4GB]\n"
     ]
    },
    {
     "name": "stdout",
     "output_type": "stream",
     "text": [
      "✅ Training completed in 222.09s\n",
      "🔍 Validation Phase...\n"
     ]
    },
    {
     "name": "stderr",
     "output_type": "stream",
     "text": [
      "Validation: 100%|██████████████████████████████| 81/81 [00:29<00:00,  2.72it/s, Loss=0.5769, Acc=0.8641]\n"
     ]
    },
    {
     "name": "stdout",
     "output_type": "stream",
     "text": [
      "✅ Validation completed in 29.82s\n",
      "\n",
      "📊 Epoch 14 Summary:\n",
      "│ Train Loss: 0.0171 | Train Acc: 0.9947\n",
      "│ Val Loss:   0.5769 | Val Acc:   0.8641\n",
      "│ Train Time: 222.09s | Val Time: 29.82s\n",
      "│ Total Epoch Time: 251.91s\n",
      "│ Best Val Loss: 0.3579 (Epoch 1)\n",
      "│ GPU Memory: 0.4GB / 4.0GB\n",
      "================================================================================\n",
      "\n",
      "📈 Epoch 15/50\n",
      "--------------------------------------------------\n",
      "🔄 Training Phase...\n"
     ]
    },
    {
     "name": "stderr",
     "output_type": "stream",
     "text": [
      "Training: 100%|██████████████████████████████| 311/311 [03:41<00:00,  1.40it/s, Loss=0.0058, Acc=0.9988, GPU=0.4GB]\n"
     ]
    },
    {
     "name": "stdout",
     "output_type": "stream",
     "text": [
      "✅ Training completed in 221.51s\n",
      "🔍 Validation Phase...\n"
     ]
    },
    {
     "name": "stderr",
     "output_type": "stream",
     "text": [
      "Validation: 100%|██████████████████████████████| 81/81 [00:29<00:00,  2.70it/s, Loss=0.4064, Acc=0.8987]\n"
     ]
    },
    {
     "name": "stdout",
     "output_type": "stream",
     "text": [
      "✅ Validation completed in 29.95s\n",
      "\n",
      "📊 Epoch 15 Summary:\n",
      "│ Train Loss: 0.0058 | Train Acc: 0.9988\n",
      "│ Val Loss:   0.4064 | Val Acc:   0.8987\n",
      "│ Train Time: 221.51s | Val Time: 29.95s\n",
      "│ Total Epoch Time: 251.47s\n",
      "│ Best Val Loss: 0.3579 (Epoch 1)\n",
      "│ GPU Memory: 0.4GB / 4.0GB\n",
      "================================================================================\n",
      "\n",
      "📈 Epoch 16/50\n",
      "--------------------------------------------------\n",
      "🔄 Training Phase...\n"
     ]
    },
    {
     "name": "stderr",
     "output_type": "stream",
     "text": [
      "Training: 100%|██████████████████████████████| 311/311 [03:42<00:00,  1.40it/s, Loss=0.0026, Acc=0.9992, GPU=0.4GB]\n"
     ]
    },
    {
     "name": "stdout",
     "output_type": "stream",
     "text": [
      "✅ Training completed in 222.75s\n",
      "🔍 Validation Phase...\n"
     ]
    },
    {
     "name": "stderr",
     "output_type": "stream",
     "text": [
      "Validation: 100%|██████████████████████████████| 81/81 [00:29<00:00,  2.75it/s, Loss=0.6144, Acc=0.8711]\n"
     ]
    },
    {
     "name": "stdout",
     "output_type": "stream",
     "text": [
      "✅ Validation completed in 29.43s\n",
      "\n",
      "📊 Epoch 16 Summary:\n",
      "│ Train Loss: 0.0026 | Train Acc: 0.9992\n",
      "│ Val Loss:   0.6144 | Val Acc:   0.8711\n",
      "│ Train Time: 222.75s | Val Time: 29.43s\n",
      "│ Total Epoch Time: 252.18s\n",
      "│ Best Val Loss: 0.3579 (Epoch 1)\n",
      "│ GPU Memory: 0.4GB / 4.0GB\n",
      "================================================================================\n",
      "\n",
      "📈 Epoch 17/50\n",
      "--------------------------------------------------\n",
      "🔄 Training Phase...\n"
     ]
    },
    {
     "name": "stderr",
     "output_type": "stream",
     "text": [
      "Training: 100%|██████████████████████████████| 311/311 [03:41<00:00,  1.40it/s, Loss=0.0230, Acc=0.9924, GPU=0.4GB]\n"
     ]
    },
    {
     "name": "stdout",
     "output_type": "stream",
     "text": [
      "✅ Training completed in 221.63s\n",
      "🔍 Validation Phase...\n"
     ]
    },
    {
     "name": "stderr",
     "output_type": "stream",
     "text": [
      "Validation: 100%|██████████████████████████████| 81/81 [00:29<00:00,  2.75it/s, Loss=0.4971, Acc=0.8653]\n"
     ]
    },
    {
     "name": "stdout",
     "output_type": "stream",
     "text": [
      "✅ Validation completed in 29.50s\n",
      "\n",
      "📊 Epoch 17 Summary:\n",
      "│ Train Loss: 0.0230 | Train Acc: 0.9924\n",
      "│ Val Loss:   0.4971 | Val Acc:   0.8653\n",
      "│ Train Time: 221.63s | Val Time: 29.50s\n",
      "│ Total Epoch Time: 251.14s\n",
      "│ Best Val Loss: 0.3579 (Epoch 1)\n",
      "│ GPU Memory: 0.4GB / 4.0GB\n",
      "================================================================================\n",
      "\n",
      "📈 Epoch 18/50\n",
      "--------------------------------------------------\n",
      "🔄 Training Phase...\n"
     ]
    },
    {
     "name": "stderr",
     "output_type": "stream",
     "text": [
      "Training: 100%|██████████████████████████████| 311/311 [03:41<00:00,  1.40it/s, Loss=0.0053, Acc=0.9985, GPU=0.4GB]\n"
     ]
    },
    {
     "name": "stdout",
     "output_type": "stream",
     "text": [
      "✅ Training completed in 221.53s\n",
      "🔍 Validation Phase...\n"
     ]
    },
    {
     "name": "stderr",
     "output_type": "stream",
     "text": [
      "Validation: 100%|██████████████████████████████| 81/81 [00:29<00:00,  2.75it/s, Loss=0.4990, Acc=0.8746]\n"
     ]
    },
    {
     "name": "stdout",
     "output_type": "stream",
     "text": [
      "✅ Validation completed in 29.46s\n",
      "\n",
      "📊 Epoch 18 Summary:\n",
      "│ Train Loss: 0.0053 | Train Acc: 0.9985\n",
      "│ Val Loss:   0.4990 | Val Acc:   0.8746\n",
      "│ Train Time: 221.53s | Val Time: 29.46s\n",
      "│ Total Epoch Time: 251.00s\n",
      "│ Best Val Loss: 0.3579 (Epoch 1)\n",
      "│ GPU Memory: 0.4GB / 4.0GB\n",
      "================================================================================\n",
      "\n",
      "📈 Epoch 19/50\n",
      "--------------------------------------------------\n",
      "🔄 Training Phase...\n"
     ]
    },
    {
     "name": "stderr",
     "output_type": "stream",
     "text": [
      "Training: 100%|██████████████████████████████| 311/311 [03:41<00:00,  1.40it/s, Loss=0.0151, Acc=0.9970, GPU=0.4GB]\n"
     ]
    },
    {
     "name": "stdout",
     "output_type": "stream",
     "text": [
      "✅ Training completed in 221.73s\n",
      "🔍 Validation Phase...\n"
     ]
    },
    {
     "name": "stderr",
     "output_type": "stream",
     "text": [
      "Validation: 100%|██████████████████████████████| 81/81 [00:29<00:00,  2.74it/s, Loss=0.4964, Acc=0.8886]\n"
     ]
    },
    {
     "name": "stdout",
     "output_type": "stream",
     "text": [
      "✅ Validation completed in 29.56s\n",
      "\n",
      "📊 Epoch 19 Summary:\n",
      "│ Train Loss: 0.0151 | Train Acc: 0.9970\n",
      "│ Val Loss:   0.4964 | Val Acc:   0.8886\n",
      "│ Train Time: 221.73s | Val Time: 29.56s\n",
      "│ Total Epoch Time: 251.30s\n",
      "│ Best Val Loss: 0.3579 (Epoch 1)\n",
      "│ GPU Memory: 0.4GB / 4.0GB\n",
      "================================================================================\n",
      "\n",
      "📈 Epoch 20/50\n",
      "--------------------------------------------------\n",
      "🔄 Training Phase...\n"
     ]
    },
    {
     "name": "stderr",
     "output_type": "stream",
     "text": [
      "Training: 100%|██████████████████████████████| 311/311 [03:42<00:00,  1.40it/s, Loss=0.0034, Acc=0.9993, GPU=0.4GB]\n"
     ]
    },
    {
     "name": "stdout",
     "output_type": "stream",
     "text": [
      "✅ Training completed in 222.06s\n",
      "🔍 Validation Phase...\n"
     ]
    },
    {
     "name": "stderr",
     "output_type": "stream",
     "text": [
      "Validation: 100%|██████████████████████████████| 81/81 [00:30<00:00,  2.68it/s, Loss=0.6138, Acc=0.8672]\n"
     ]
    },
    {
     "name": "stdout",
     "output_type": "stream",
     "text": [
      "✅ Validation completed in 30.24s\n",
      "\n",
      "📊 Epoch 20 Summary:\n",
      "│ Train Loss: 0.0034 | Train Acc: 0.9993\n",
      "│ Val Loss:   0.6138 | Val Acc:   0.8672\n",
      "│ Train Time: 222.06s | Val Time: 30.24s\n",
      "│ Total Epoch Time: 252.30s\n",
      "│ Best Val Loss: 0.3579 (Epoch 1)\n",
      "│ GPU Memory: 0.4GB / 4.0GB\n",
      "================================================================================\n",
      "\n",
      "📈 Epoch 21/50\n",
      "--------------------------------------------------\n",
      "🔄 Training Phase...\n"
     ]
    },
    {
     "name": "stderr",
     "output_type": "stream",
     "text": [
      "Training: 100%|██████████████████████████████| 311/311 [03:42<00:00,  1.40it/s, Loss=0.0172, Acc=0.9947, GPU=0.4GB]\n"
     ]
    },
    {
     "name": "stdout",
     "output_type": "stream",
     "text": [
      "✅ Training completed in 222.30s\n",
      "🔍 Validation Phase...\n"
     ]
    },
    {
     "name": "stderr",
     "output_type": "stream",
     "text": [
      "Validation: 100%|██████████████████████████████| 81/81 [00:29<00:00,  2.73it/s, Loss=0.5178, Acc=0.8696]\n"
     ]
    },
    {
     "name": "stdout",
     "output_type": "stream",
     "text": [
      "✅ Validation completed in 29.65s\n",
      "\n",
      "📊 Epoch 21 Summary:\n",
      "│ Train Loss: 0.0172 | Train Acc: 0.9947\n",
      "│ Val Loss:   0.5178 | Val Acc:   0.8696\n",
      "│ Train Time: 222.30s | Val Time: 29.65s\n",
      "│ Total Epoch Time: 251.95s\n",
      "│ Best Val Loss: 0.3579 (Epoch 1)\n",
      "│ GPU Memory: 0.4GB / 4.0GB\n",
      "================================================================================\n",
      "\n",
      "📈 Epoch 22/50\n",
      "--------------------------------------------------\n",
      "🔄 Training Phase...\n"
     ]
    },
    {
     "name": "stderr",
     "output_type": "stream",
     "text": [
      "Training: 100%|██████████████████████████████| 311/311 [03:42<00:00,  1.40it/s, Loss=0.0075, Acc=0.9976, GPU=0.4GB]\n"
     ]
    },
    {
     "name": "stdout",
     "output_type": "stream",
     "text": [
      "✅ Training completed in 222.93s\n",
      "🔍 Validation Phase...\n"
     ]
    },
    {
     "name": "stderr",
     "output_type": "stream",
     "text": [
      "Validation: 100%|██████████████████████████████| 81/81 [00:29<00:00,  2.74it/s, Loss=0.4482, Acc=0.8828]\n"
     ]
    },
    {
     "name": "stdout",
     "output_type": "stream",
     "text": [
      "✅ Validation completed in 29.62s\n",
      "\n",
      "📊 Epoch 22 Summary:\n",
      "│ Train Loss: 0.0075 | Train Acc: 0.9976\n",
      "│ Val Loss:   0.4482 | Val Acc:   0.8828\n",
      "│ Train Time: 222.93s | Val Time: 29.62s\n",
      "│ Total Epoch Time: 252.55s\n",
      "│ Best Val Loss: 0.3579 (Epoch 1)\n",
      "│ GPU Memory: 0.4GB / 4.0GB\n",
      "================================================================================\n",
      "\n",
      "📈 Epoch 23/50\n",
      "--------------------------------------------------\n",
      "🔄 Training Phase...\n"
     ]
    },
    {
     "name": "stderr",
     "output_type": "stream",
     "text": [
      "Training: 100%|██████████████████████████████| 311/311 [03:43<00:00,  1.39it/s, Loss=0.0017, Acc=0.9994, GPU=0.4GB]\n"
     ]
    },
    {
     "name": "stdout",
     "output_type": "stream",
     "text": [
      "✅ Training completed in 223.54s\n",
      "🔍 Validation Phase...\n"
     ]
    },
    {
     "name": "stderr",
     "output_type": "stream",
     "text": [
      "Validation: 100%|██████████████████████████████| 81/81 [00:29<00:00,  2.75it/s, Loss=0.5305, Acc=0.8824]\n"
     ]
    },
    {
     "name": "stdout",
     "output_type": "stream",
     "text": [
      "✅ Validation completed in 29.47s\n",
      "\n",
      "📊 Epoch 23 Summary:\n",
      "│ Train Loss: 0.0017 | Train Acc: 0.9994\n",
      "│ Val Loss:   0.5305 | Val Acc:   0.8824\n",
      "│ Train Time: 223.54s | Val Time: 29.47s\n",
      "│ Total Epoch Time: 253.01s\n",
      "│ Best Val Loss: 0.3579 (Epoch 1)\n",
      "│ GPU Memory: 0.4GB / 4.0GB\n",
      "================================================================================\n",
      "\n",
      "📈 Epoch 24/50\n",
      "--------------------------------------------------\n",
      "🔄 Training Phase...\n"
     ]
    },
    {
     "name": "stderr",
     "output_type": "stream",
     "text": [
      "Training: 100%|██████████████████████████████| 311/311 [03:42<00:00,  1.40it/s, Loss=0.0009, Acc=0.9998, GPU=0.4GB]\n"
     ]
    },
    {
     "name": "stdout",
     "output_type": "stream",
     "text": [
      "✅ Training completed in 222.61s\n",
      "🔍 Validation Phase...\n"
     ]
    },
    {
     "name": "stderr",
     "output_type": "stream",
     "text": [
      "Validation: 100%|██████████████████████████████| 81/81 [00:29<00:00,  2.73it/s, Loss=0.5971, Acc=0.8758]\n"
     ]
    },
    {
     "name": "stdout",
     "output_type": "stream",
     "text": [
      "✅ Validation completed in 29.69s\n",
      "\n",
      "📊 Epoch 24 Summary:\n",
      "│ Train Loss: 0.0009 | Train Acc: 0.9998\n",
      "│ Val Loss:   0.5971 | Val Acc:   0.8758\n",
      "│ Train Time: 222.61s | Val Time: 29.69s\n",
      "│ Total Epoch Time: 252.31s\n",
      "│ Best Val Loss: 0.3579 (Epoch 1)\n",
      "│ GPU Memory: 0.4GB / 4.0GB\n",
      "================================================================================\n",
      "\n",
      "📈 Epoch 25/50\n",
      "--------------------------------------------------\n",
      "🔄 Training Phase...\n"
     ]
    },
    {
     "name": "stderr",
     "output_type": "stream",
     "text": [
      "Training: 100%|██████████████████████████████| 311/311 [03:42<00:00,  1.40it/s, Loss=0.0077, Acc=0.9979, GPU=0.4GB]\n"
     ]
    },
    {
     "name": "stdout",
     "output_type": "stream",
     "text": [
      "✅ Training completed in 222.40s\n",
      "🔍 Validation Phase...\n"
     ]
    },
    {
     "name": "stderr",
     "output_type": "stream",
     "text": [
      "Validation: 100%|██████████████████████████████| 81/81 [00:29<00:00,  2.73it/s, Loss=0.6485, Acc=0.8513]\n"
     ]
    },
    {
     "name": "stdout",
     "output_type": "stream",
     "text": [
      "✅ Validation completed in 29.67s\n",
      "\n",
      "📊 Epoch 25 Summary:\n",
      "│ Train Loss: 0.0077 | Train Acc: 0.9979\n",
      "│ Val Loss:   0.6485 | Val Acc:   0.8513\n",
      "│ Train Time: 222.40s | Val Time: 29.67s\n",
      "│ Total Epoch Time: 252.07s\n",
      "│ Best Val Loss: 0.3579 (Epoch 1)\n",
      "│ GPU Memory: 0.4GB / 4.0GB\n",
      "================================================================================\n",
      "\n",
      "📈 Epoch 26/50\n",
      "--------------------------------------------------\n",
      "🔄 Training Phase...\n"
     ]
    },
    {
     "name": "stderr",
     "output_type": "stream",
     "text": [
      "Training: 100%|██████████████████████████████| 311/311 [03:42<00:00,  1.40it/s, Loss=0.0132, Acc=0.9963, GPU=0.4GB]\n"
     ]
    },
    {
     "name": "stdout",
     "output_type": "stream",
     "text": [
      "✅ Training completed in 222.34s\n",
      "🔍 Validation Phase...\n"
     ]
    },
    {
     "name": "stderr",
     "output_type": "stream",
     "text": [
      "Validation: 100%|██████████████████████████████| 81/81 [00:30<00:00,  2.70it/s, Loss=0.6188, Acc=0.8684]\n"
     ]
    },
    {
     "name": "stdout",
     "output_type": "stream",
     "text": [
      "✅ Validation completed in 30.04s\n",
      "\n",
      "📊 Epoch 26 Summary:\n",
      "│ Train Loss: 0.0132 | Train Acc: 0.9963\n",
      "│ Val Loss:   0.6188 | Val Acc:   0.8684\n",
      "│ Train Time: 222.34s | Val Time: 30.04s\n",
      "│ Total Epoch Time: 252.38s\n",
      "│ Best Val Loss: 0.3579 (Epoch 1)\n",
      "│ GPU Memory: 0.4GB / 4.0GB\n",
      "================================================================================\n",
      "\n",
      "📈 Epoch 27/50\n",
      "--------------------------------------------------\n",
      "🔄 Training Phase...\n"
     ]
    },
    {
     "name": "stderr",
     "output_type": "stream",
     "text": [
      "Training: 100%|██████████████████████████████| 311/311 [03:42<00:00,  1.40it/s, Loss=0.0031, Acc=0.9988, GPU=0.4GB]\n"
     ]
    },
    {
     "name": "stdout",
     "output_type": "stream",
     "text": [
      "✅ Training completed in 222.48s\n",
      "🔍 Validation Phase...\n"
     ]
    },
    {
     "name": "stderr",
     "output_type": "stream",
     "text": [
      "Validation: 100%|██████████████████████████████| 81/81 [00:29<00:00,  2.74it/s, Loss=0.5886, Acc=0.8797]\n"
     ]
    },
    {
     "name": "stdout",
     "output_type": "stream",
     "text": [
      "✅ Validation completed in 29.58s\n",
      "\n",
      "📊 Epoch 27 Summary:\n",
      "│ Train Loss: 0.0031 | Train Acc: 0.9988\n",
      "│ Val Loss:   0.5886 | Val Acc:   0.8797\n",
      "│ Train Time: 222.48s | Val Time: 29.58s\n",
      "│ Total Epoch Time: 252.06s\n",
      "│ Best Val Loss: 0.3579 (Epoch 1)\n",
      "│ GPU Memory: 0.4GB / 4.0GB\n",
      "================================================================================\n",
      "\n",
      "📈 Epoch 28/50\n",
      "--------------------------------------------------\n",
      "🔄 Training Phase...\n"
     ]
    },
    {
     "name": "stderr",
     "output_type": "stream",
     "text": [
      "Training: 100%|██████████████████████████████| 311/311 [03:42<00:00,  1.40it/s, Loss=0.0032, Acc=0.9990, GPU=0.4GB]\n"
     ]
    },
    {
     "name": "stdout",
     "output_type": "stream",
     "text": [
      "✅ Training completed in 222.16s\n",
      "🔍 Validation Phase...\n"
     ]
    },
    {
     "name": "stderr",
     "output_type": "stream",
     "text": [
      "Validation: 100%|██████████████████████████████| 81/81 [00:29<00:00,  2.76it/s, Loss=0.6064, Acc=0.8703]\n"
     ]
    },
    {
     "name": "stdout",
     "output_type": "stream",
     "text": [
      "✅ Validation completed in 29.38s\n",
      "\n",
      "📊 Epoch 28 Summary:\n",
      "│ Train Loss: 0.0032 | Train Acc: 0.9990\n",
      "│ Val Loss:   0.6064 | Val Acc:   0.8703\n",
      "│ Train Time: 222.16s | Val Time: 29.38s\n",
      "│ Total Epoch Time: 251.54s\n",
      "│ Best Val Loss: 0.3579 (Epoch 1)\n",
      "│ GPU Memory: 0.4GB / 4.0GB\n",
      "================================================================================\n",
      "\n",
      "📈 Epoch 29/50\n",
      "--------------------------------------------------\n",
      "🔄 Training Phase...\n"
     ]
    },
    {
     "name": "stderr",
     "output_type": "stream",
     "text": [
      "Training: 100%|██████████████████████████████| 311/311 [03:43<00:00,  1.39it/s, Loss=0.0089, Acc=0.9971, GPU=0.4GB]\n"
     ]
    },
    {
     "name": "stdout",
     "output_type": "stream",
     "text": [
      "✅ Training completed in 223.18s\n",
      "🔍 Validation Phase...\n"
     ]
    },
    {
     "name": "stderr",
     "output_type": "stream",
     "text": [
      "Validation: 100%|██████████████████████████████| 81/81 [00:29<00:00,  2.73it/s, Loss=0.6821, Acc=0.8797]\n"
     ]
    },
    {
     "name": "stdout",
     "output_type": "stream",
     "text": [
      "✅ Validation completed in 29.67s\n",
      "\n",
      "📊 Epoch 29 Summary:\n",
      "│ Train Loss: 0.0089 | Train Acc: 0.9971\n",
      "│ Val Loss:   0.6821 | Val Acc:   0.8797\n",
      "│ Train Time: 223.18s | Val Time: 29.67s\n",
      "│ Total Epoch Time: 252.86s\n",
      "│ Best Val Loss: 0.3579 (Epoch 1)\n",
      "│ GPU Memory: 0.4GB / 4.0GB\n",
      "================================================================================\n",
      "\n",
      "📈 Epoch 30/50\n",
      "--------------------------------------------------\n",
      "🔄 Training Phase...\n"
     ]
    },
    {
     "name": "stderr",
     "output_type": "stream",
     "text": [
      "Training: 100%|██████████████████████████████| 311/311 [03:42<00:00,  1.40it/s, Loss=0.0093, Acc=0.9969, GPU=0.4GB]\n"
     ]
    },
    {
     "name": "stdout",
     "output_type": "stream",
     "text": [
      "✅ Training completed in 222.23s\n",
      "🔍 Validation Phase...\n"
     ]
    },
    {
     "name": "stderr",
     "output_type": "stream",
     "text": [
      "Validation: 100%|██████████████████████████████| 81/81 [00:30<00:00,  2.70it/s, Loss=0.6022, Acc=0.8641]\n"
     ]
    },
    {
     "name": "stdout",
     "output_type": "stream",
     "text": [
      "✅ Validation completed in 30.02s\n",
      "\n",
      "📊 Epoch 30 Summary:\n",
      "│ Train Loss: 0.0093 | Train Acc: 0.9969\n",
      "│ Val Loss:   0.6022 | Val Acc:   0.8641\n",
      "│ Train Time: 222.23s | Val Time: 30.02s\n",
      "│ Total Epoch Time: 252.25s\n",
      "│ Best Val Loss: 0.3579 (Epoch 1)\n",
      "│ GPU Memory: 0.4GB / 4.0GB\n",
      "================================================================================\n",
      "\n",
      "📈 Epoch 31/50\n",
      "--------------------------------------------------\n",
      "🔄 Training Phase...\n"
     ]
    },
    {
     "name": "stderr",
     "output_type": "stream",
     "text": [
      "Training: 100%|██████████████████████████████| 311/311 [03:42<00:00,  1.40it/s, Loss=0.0099, Acc=0.9972, GPU=0.4GB]\n"
     ]
    },
    {
     "name": "stdout",
     "output_type": "stream",
     "text": [
      "✅ Training completed in 222.70s\n",
      "🔍 Validation Phase...\n"
     ]
    },
    {
     "name": "stderr",
     "output_type": "stream",
     "text": [
      "Validation: 100%|██████████████████████████████| 81/81 [00:29<00:00,  2.73it/s, Loss=0.5347, Acc=0.8839]\n"
     ]
    },
    {
     "name": "stdout",
     "output_type": "stream",
     "text": [
      "✅ Validation completed in 29.63s\n",
      "\n",
      "📊 Epoch 31 Summary:\n",
      "│ Train Loss: 0.0099 | Train Acc: 0.9972\n",
      "│ Val Loss:   0.5347 | Val Acc:   0.8839\n",
      "│ Train Time: 222.70s | Val Time: 29.63s\n",
      "│ Total Epoch Time: 252.33s\n",
      "│ Best Val Loss: 0.3579 (Epoch 1)\n",
      "│ GPU Memory: 0.4GB / 4.0GB\n",
      "================================================================================\n",
      "\n",
      "📈 Epoch 32/50\n",
      "--------------------------------------------------\n",
      "🔄 Training Phase...\n"
     ]
    },
    {
     "name": "stderr",
     "output_type": "stream",
     "text": [
      "Training: 100%|██████████████████████████████| 311/311 [03:42<00:00,  1.40it/s, Loss=0.0030, Acc=0.9991, GPU=0.4GB]\n"
     ]
    },
    {
     "name": "stdout",
     "output_type": "stream",
     "text": [
      "✅ Training completed in 222.17s\n",
      "🔍 Validation Phase...\n"
     ]
    },
    {
     "name": "stderr",
     "output_type": "stream",
     "text": [
      "Validation: 100%|██████████████████████████████| 81/81 [00:30<00:00,  2.69it/s, Loss=0.6280, Acc=0.8723]\n"
     ]
    },
    {
     "name": "stdout",
     "output_type": "stream",
     "text": [
      "✅ Validation completed in 30.08s\n",
      "\n",
      "📊 Epoch 32 Summary:\n",
      "│ Train Loss: 0.0030 | Train Acc: 0.9991\n",
      "│ Val Loss:   0.6280 | Val Acc:   0.8723\n",
      "│ Train Time: 222.17s | Val Time: 30.08s\n",
      "│ Total Epoch Time: 252.25s\n",
      "│ Best Val Loss: 0.3579 (Epoch 1)\n",
      "│ GPU Memory: 0.4GB / 4.0GB\n",
      "================================================================================\n",
      "\n",
      "📈 Epoch 33/50\n",
      "--------------------------------------------------\n",
      "🔄 Training Phase...\n"
     ]
    },
    {
     "name": "stderr",
     "output_type": "stream",
     "text": [
      "Training: 100%|██████████████████████████████| 311/311 [03:42<00:00,  1.40it/s, Loss=0.0049, Acc=0.9985, GPU=0.4GB]\n"
     ]
    },
    {
     "name": "stdout",
     "output_type": "stream",
     "text": [
      "✅ Training completed in 222.57s\n",
      "🔍 Validation Phase...\n"
     ]
    },
    {
     "name": "stderr",
     "output_type": "stream",
     "text": [
      "Validation: 100%|██████████████████████████████| 81/81 [00:29<00:00,  2.72it/s, Loss=0.5156, Acc=0.8882]\n"
     ]
    },
    {
     "name": "stdout",
     "output_type": "stream",
     "text": [
      "✅ Validation completed in 29.78s\n",
      "\n",
      "📊 Epoch 33 Summary:\n",
      "│ Train Loss: 0.0049 | Train Acc: 0.9985\n",
      "│ Val Loss:   0.5156 | Val Acc:   0.8882\n",
      "│ Train Time: 222.57s | Val Time: 29.78s\n",
      "│ Total Epoch Time: 252.35s\n",
      "│ Best Val Loss: 0.3579 (Epoch 1)\n",
      "│ GPU Memory: 0.4GB / 4.0GB\n",
      "================================================================================\n",
      "\n",
      "📈 Epoch 34/50\n",
      "--------------------------------------------------\n",
      "🔄 Training Phase...\n"
     ]
    },
    {
     "name": "stderr",
     "output_type": "stream",
     "text": [
      "Training: 100%|██████████████████████████████| 311/311 [03:42<00:00,  1.40it/s, Loss=0.0082, Acc=0.9975, GPU=0.4GB]\n"
     ]
    },
    {
     "name": "stdout",
     "output_type": "stream",
     "text": [
      "✅ Training completed in 222.48s\n",
      "🔍 Validation Phase...\n"
     ]
    },
    {
     "name": "stderr",
     "output_type": "stream",
     "text": [
      "Validation: 100%|██████████████████████████████| 81/81 [00:29<00:00,  2.71it/s, Loss=0.4946, Acc=0.8905]\n"
     ]
    },
    {
     "name": "stdout",
     "output_type": "stream",
     "text": [
      "✅ Validation completed in 29.89s\n",
      "\n",
      "📊 Epoch 34 Summary:\n",
      "│ Train Loss: 0.0082 | Train Acc: 0.9975\n",
      "│ Val Loss:   0.4946 | Val Acc:   0.8905\n",
      "│ Train Time: 222.48s | Val Time: 29.89s\n",
      "│ Total Epoch Time: 252.38s\n",
      "│ Best Val Loss: 0.3579 (Epoch 1)\n",
      "│ GPU Memory: 0.4GB / 4.0GB\n",
      "================================================================================\n",
      "\n",
      "📈 Epoch 35/50\n",
      "--------------------------------------------------\n",
      "🔄 Training Phase...\n"
     ]
    },
    {
     "name": "stderr",
     "output_type": "stream",
     "text": [
      "Training: 100%|██████████████████████████████| 311/311 [03:43<00:00,  1.39it/s, Loss=0.0016, Acc=0.9993, GPU=0.4GB]\n"
     ]
    },
    {
     "name": "stdout",
     "output_type": "stream",
     "text": [
      "✅ Training completed in 223.05s\n",
      "🔍 Validation Phase...\n"
     ]
    },
    {
     "name": "stderr",
     "output_type": "stream",
     "text": [
      "Validation: 100%|██████████████████████████████| 81/81 [00:29<00:00,  2.70it/s, Loss=0.5099, Acc=0.8863]\n"
     ]
    },
    {
     "name": "stdout",
     "output_type": "stream",
     "text": [
      "✅ Validation completed in 29.97s\n",
      "\n",
      "📊 Epoch 35 Summary:\n",
      "│ Train Loss: 0.0016 | Train Acc: 0.9993\n",
      "│ Val Loss:   0.5099 | Val Acc:   0.8863\n",
      "│ Train Time: 223.05s | Val Time: 29.97s\n",
      "│ Total Epoch Time: 253.03s\n",
      "│ Best Val Loss: 0.3579 (Epoch 1)\n",
      "│ GPU Memory: 0.4GB / 4.0GB\n",
      "================================================================================\n",
      "\n",
      "📈 Epoch 36/50\n",
      "--------------------------------------------------\n",
      "🔄 Training Phase...\n"
     ]
    },
    {
     "name": "stderr",
     "output_type": "stream",
     "text": [
      "Training: 100%|██████████████████████████████| 311/311 [03:43<00:00,  1.39it/s, Loss=0.0016, Acc=0.9996, GPU=0.4GB]\n"
     ]
    },
    {
     "name": "stdout",
     "output_type": "stream",
     "text": [
      "✅ Training completed in 223.31s\n",
      "🔍 Validation Phase...\n"
     ]
    },
    {
     "name": "stderr",
     "output_type": "stream",
     "text": [
      "Validation: 100%|██████████████████████████████| 81/81 [00:30<00:00,  2.69it/s, Loss=0.6600, Acc=0.8835]\n"
     ]
    },
    {
     "name": "stdout",
     "output_type": "stream",
     "text": [
      "✅ Validation completed in 30.12s\n",
      "\n",
      "📊 Epoch 36 Summary:\n",
      "│ Train Loss: 0.0016 | Train Acc: 0.9996\n",
      "│ Val Loss:   0.6600 | Val Acc:   0.8835\n",
      "│ Train Time: 223.31s | Val Time: 30.12s\n",
      "│ Total Epoch Time: 253.44s\n",
      "│ Best Val Loss: 0.3579 (Epoch 1)\n",
      "│ GPU Memory: 0.4GB / 4.0GB\n",
      "================================================================================\n",
      "\n",
      "📈 Epoch 37/50\n",
      "--------------------------------------------------\n",
      "🔄 Training Phase...\n"
     ]
    },
    {
     "name": "stderr",
     "output_type": "stream",
     "text": [
      "Training: 100%|██████████████████████████████| 311/311 [03:43<00:00,  1.39it/s, Loss=0.0077, Acc=0.9977, GPU=0.4GB]\n"
     ]
    },
    {
     "name": "stdout",
     "output_type": "stream",
     "text": [
      "✅ Training completed in 223.13s\n",
      "🔍 Validation Phase...\n"
     ]
    },
    {
     "name": "stderr",
     "output_type": "stream",
     "text": [
      "Validation: 100%|██████████████████████████████| 81/81 [00:29<00:00,  2.71it/s, Loss=0.7101, Acc=0.8618]\n"
     ]
    },
    {
     "name": "stdout",
     "output_type": "stream",
     "text": [
      "✅ Validation completed in 29.90s\n",
      "\n",
      "📊 Epoch 37 Summary:\n",
      "│ Train Loss: 0.0077 | Train Acc: 0.9977\n",
      "│ Val Loss:   0.7101 | Val Acc:   0.8618\n",
      "│ Train Time: 223.13s | Val Time: 29.90s\n",
      "│ Total Epoch Time: 253.04s\n",
      "│ Best Val Loss: 0.3579 (Epoch 1)\n",
      "│ GPU Memory: 0.4GB / 4.0GB\n",
      "================================================================================\n",
      "\n",
      "📈 Epoch 38/50\n",
      "--------------------------------------------------\n",
      "🔄 Training Phase...\n"
     ]
    },
    {
     "name": "stderr",
     "output_type": "stream",
     "text": [
      "Training: 100%|██████████████████████████████| 311/311 [03:42<00:00,  1.40it/s, Loss=0.0147, Acc=0.9950, GPU=0.4GB]\n"
     ]
    },
    {
     "name": "stdout",
     "output_type": "stream",
     "text": [
      "✅ Training completed in 222.73s\n",
      "🔍 Validation Phase...\n"
     ]
    },
    {
     "name": "stderr",
     "output_type": "stream",
     "text": [
      "Validation: 100%|██████████████████████████████| 81/81 [00:30<00:00,  2.66it/s, Loss=0.5397, Acc=0.8832]\n"
     ]
    },
    {
     "name": "stdout",
     "output_type": "stream",
     "text": [
      "✅ Validation completed in 30.47s\n",
      "\n",
      "📊 Epoch 38 Summary:\n",
      "│ Train Loss: 0.0147 | Train Acc: 0.9950\n",
      "│ Val Loss:   0.5397 | Val Acc:   0.8832\n",
      "│ Train Time: 222.73s | Val Time: 30.47s\n",
      "│ Total Epoch Time: 253.20s\n",
      "│ Best Val Loss: 0.3579 (Epoch 1)\n",
      "│ GPU Memory: 0.4GB / 4.0GB\n",
      "================================================================================\n",
      "\n",
      "📈 Epoch 39/50\n",
      "--------------------------------------------------\n",
      "🔄 Training Phase...\n"
     ]
    },
    {
     "name": "stderr",
     "output_type": "stream",
     "text": [
      "Training: 100%|██████████████████████████████| 311/311 [03:42<00:00,  1.40it/s, Loss=0.0081, Acc=0.9978, GPU=0.4GB]\n"
     ]
    },
    {
     "name": "stdout",
     "output_type": "stream",
     "text": [
      "✅ Training completed in 222.75s\n",
      "🔍 Validation Phase...\n"
     ]
    },
    {
     "name": "stderr",
     "output_type": "stream",
     "text": [
      "Validation: 100%|██████████████████████████████| 81/81 [00:30<00:00,  2.68it/s, Loss=0.5672, Acc=0.8742]\n"
     ]
    },
    {
     "name": "stdout",
     "output_type": "stream",
     "text": [
      "✅ Validation completed in 30.21s\n",
      "\n",
      "📊 Epoch 39 Summary:\n",
      "│ Train Loss: 0.0081 | Train Acc: 0.9978\n",
      "│ Val Loss:   0.5672 | Val Acc:   0.8742\n",
      "│ Train Time: 222.75s | Val Time: 30.21s\n",
      "│ Total Epoch Time: 252.97s\n",
      "│ Best Val Loss: 0.3579 (Epoch 1)\n",
      "│ GPU Memory: 0.4GB / 4.0GB\n",
      "================================================================================\n",
      "\n",
      "📈 Epoch 40/50\n",
      "--------------------------------------------------\n",
      "🔄 Training Phase...\n"
     ]
    },
    {
     "name": "stderr",
     "output_type": "stream",
     "text": [
      "Training: 100%|██████████████████████████████| 311/311 [03:42<00:00,  1.40it/s, Loss=0.0063, Acc=0.9982, GPU=0.4GB]\n"
     ]
    },
    {
     "name": "stdout",
     "output_type": "stream",
     "text": [
      "✅ Training completed in 222.87s\n",
      "🔍 Validation Phase...\n"
     ]
    },
    {
     "name": "stderr",
     "output_type": "stream",
     "text": [
      "Validation: 100%|██████████████████████████████| 81/81 [00:30<00:00,  2.68it/s, Loss=0.5454, Acc=0.8936]\n"
     ]
    },
    {
     "name": "stdout",
     "output_type": "stream",
     "text": [
      "✅ Validation completed in 30.20s\n",
      "\n",
      "📊 Epoch 40 Summary:\n",
      "│ Train Loss: 0.0063 | Train Acc: 0.9982\n",
      "│ Val Loss:   0.5454 | Val Acc:   0.8936\n",
      "│ Train Time: 222.87s | Val Time: 30.20s\n",
      "│ Total Epoch Time: 253.08s\n",
      "│ Best Val Loss: 0.3579 (Epoch 1)\n",
      "│ GPU Memory: 0.4GB / 4.0GB\n",
      "================================================================================\n",
      "\n",
      "📈 Epoch 41/50\n",
      "--------------------------------------------------\n",
      "🔄 Training Phase...\n"
     ]
    },
    {
     "name": "stderr",
     "output_type": "stream",
     "text": [
      "Training: 100%|██████████████████████████████| 311/311 [03:43<00:00,  1.39it/s, Loss=0.0007, Acc=1.0000, GPU=0.4GB]\n"
     ]
    },
    {
     "name": "stdout",
     "output_type": "stream",
     "text": [
      "✅ Training completed in 223.44s\n",
      "🔍 Validation Phase...\n"
     ]
    },
    {
     "name": "stderr",
     "output_type": "stream",
     "text": [
      "Validation: 100%|██████████████████████████████| 81/81 [00:29<00:00,  2.75it/s, Loss=0.5783, Acc=0.8866]\n"
     ]
    },
    {
     "name": "stdout",
     "output_type": "stream",
     "text": [
      "✅ Validation completed in 29.51s\n",
      "\n",
      "📊 Epoch 41 Summary:\n",
      "│ Train Loss: 0.0007 | Train Acc: 1.0000\n",
      "│ Val Loss:   0.5783 | Val Acc:   0.8866\n",
      "│ Train Time: 223.44s | Val Time: 29.51s\n",
      "│ Total Epoch Time: 252.96s\n",
      "│ Best Val Loss: 0.3579 (Epoch 1)\n",
      "│ GPU Memory: 0.4GB / 4.0GB\n",
      "================================================================================\n",
      "\n",
      "📈 Epoch 42/50\n",
      "--------------------------------------------------\n",
      "🔄 Training Phase...\n"
     ]
    },
    {
     "name": "stderr",
     "output_type": "stream",
     "text": [
      "Training: 100%|██████████████████████████████| 311/311 [03:43<00:00,  1.39it/s, Loss=0.0002, Acc=1.0000, GPU=0.4GB]\n"
     ]
    },
    {
     "name": "stdout",
     "output_type": "stream",
     "text": [
      "✅ Training completed in 223.29s\n",
      "🔍 Validation Phase...\n"
     ]
    },
    {
     "name": "stderr",
     "output_type": "stream",
     "text": [
      "Validation: 100%|██████████████████████████████| 81/81 [00:30<00:00,  2.69it/s, Loss=0.6620, Acc=0.8766]\n"
     ]
    },
    {
     "name": "stdout",
     "output_type": "stream",
     "text": [
      "✅ Validation completed in 30.17s\n",
      "\n",
      "📊 Epoch 42 Summary:\n",
      "│ Train Loss: 0.0002 | Train Acc: 1.0000\n",
      "│ Val Loss:   0.6620 | Val Acc:   0.8766\n",
      "│ Train Time: 223.29s | Val Time: 30.17s\n",
      "│ Total Epoch Time: 253.46s\n",
      "│ Best Val Loss: 0.3579 (Epoch 1)\n",
      "│ GPU Memory: 0.4GB / 4.0GB\n",
      "================================================================================\n",
      "\n",
      "📈 Epoch 43/50\n",
      "--------------------------------------------------\n",
      "🔄 Training Phase...\n"
     ]
    },
    {
     "name": "stderr",
     "output_type": "stream",
     "text": [
      "Training: 100%|██████████████████████████████| 311/311 [03:43<00:00,  1.39it/s, Loss=0.0002, Acc=1.0000, GPU=0.4GB]\n"
     ]
    },
    {
     "name": "stdout",
     "output_type": "stream",
     "text": [
      "✅ Training completed in 223.49s\n",
      "🔍 Validation Phase...\n"
     ]
    },
    {
     "name": "stderr",
     "output_type": "stream",
     "text": [
      "Validation: 100%|██████████████████████████████| 81/81 [00:30<00:00,  2.69it/s, Loss=0.6262, Acc=0.8890]\n"
     ]
    },
    {
     "name": "stdout",
     "output_type": "stream",
     "text": [
      "✅ Validation completed in 30.16s\n",
      "\n",
      "📊 Epoch 43 Summary:\n",
      "│ Train Loss: 0.0002 | Train Acc: 1.0000\n",
      "│ Val Loss:   0.6262 | Val Acc:   0.8890\n",
      "│ Train Time: 223.49s | Val Time: 30.16s\n",
      "│ Total Epoch Time: 253.66s\n",
      "│ Best Val Loss: 0.3579 (Epoch 1)\n",
      "│ GPU Memory: 0.4GB / 4.0GB\n",
      "================================================================================\n",
      "\n",
      "📈 Epoch 44/50\n",
      "--------------------------------------------------\n",
      "🔄 Training Phase...\n"
     ]
    },
    {
     "name": "stderr",
     "output_type": "stream",
     "text": [
      "Training: 100%|██████████████████████████████| 311/311 [03:43<00:00,  1.39it/s, Loss=0.0002, Acc=0.9999, GPU=0.4GB]\n"
     ]
    },
    {
     "name": "stdout",
     "output_type": "stream",
     "text": [
      "✅ Training completed in 223.44s\n",
      "🔍 Validation Phase...\n"
     ]
    },
    {
     "name": "stderr",
     "output_type": "stream",
     "text": [
      "Validation: 100%|██████████████████████████████| 81/81 [00:30<00:00,  2.69it/s, Loss=0.6432, Acc=0.8839]\n"
     ]
    },
    {
     "name": "stdout",
     "output_type": "stream",
     "text": [
      "✅ Validation completed in 30.06s\n",
      "\n",
      "📊 Epoch 44 Summary:\n",
      "│ Train Loss: 0.0002 | Train Acc: 0.9999\n",
      "│ Val Loss:   0.6432 | Val Acc:   0.8839\n",
      "│ Train Time: 223.44s | Val Time: 30.06s\n",
      "│ Total Epoch Time: 253.50s\n",
      "│ Best Val Loss: 0.3579 (Epoch 1)\n",
      "│ GPU Memory: 0.4GB / 4.0GB\n",
      "================================================================================\n",
      "\n",
      "📈 Epoch 45/50\n",
      "--------------------------------------------------\n",
      "🔄 Training Phase...\n"
     ]
    },
    {
     "name": "stderr",
     "output_type": "stream",
     "text": [
      "Training: 100%|██████████████████████████████| 311/311 [03:43<00:00,  1.39it/s, Loss=0.0001, Acc=1.0000, GPU=0.4GB]\n"
     ]
    },
    {
     "name": "stdout",
     "output_type": "stream",
     "text": [
      "✅ Training completed in 223.49s\n",
      "🔍 Validation Phase...\n"
     ]
    },
    {
     "name": "stderr",
     "output_type": "stream",
     "text": [
      "Validation: 100%|██████████████████████████████| 81/81 [00:30<00:00,  2.69it/s, Loss=0.6352, Acc=0.8921]\n"
     ]
    },
    {
     "name": "stdout",
     "output_type": "stream",
     "text": [
      "✅ Validation completed in 30.14s\n",
      "\n",
      "📊 Epoch 45 Summary:\n",
      "│ Train Loss: 0.0001 | Train Acc: 1.0000\n",
      "│ Val Loss:   0.6352 | Val Acc:   0.8921\n",
      "│ Train Time: 223.49s | Val Time: 30.14s\n",
      "│ Total Epoch Time: 253.63s\n",
      "│ Best Val Loss: 0.3579 (Epoch 1)\n",
      "│ GPU Memory: 0.4GB / 4.0GB\n",
      "================================================================================\n",
      "\n",
      "📈 Epoch 46/50\n",
      "--------------------------------------------------\n",
      "🔄 Training Phase...\n"
     ]
    },
    {
     "name": "stderr",
     "output_type": "stream",
     "text": [
      "Training: 100%|██████████████████████████████| 311/311 [03:44<00:00,  1.39it/s, Loss=0.0000, Acc=1.0000, GPU=0.4GB]\n"
     ]
    },
    {
     "name": "stdout",
     "output_type": "stream",
     "text": [
      "✅ Training completed in 224.13s\n",
      "🔍 Validation Phase...\n"
     ]
    },
    {
     "name": "stderr",
     "output_type": "stream",
     "text": [
      "Validation: 100%|██████████████████████████████| 81/81 [00:29<00:00,  2.72it/s, Loss=0.6127, Acc=0.8967]\n"
     ]
    },
    {
     "name": "stdout",
     "output_type": "stream",
     "text": [
      "✅ Validation completed in 29.75s\n",
      "\n",
      "📊 Epoch 46 Summary:\n",
      "│ Train Loss: 0.0000 | Train Acc: 1.0000\n",
      "│ Val Loss:   0.6127 | Val Acc:   0.8967\n",
      "│ Train Time: 224.13s | Val Time: 29.75s\n",
      "│ Total Epoch Time: 253.89s\n",
      "│ Best Val Loss: 0.3579 (Epoch 1)\n",
      "│ GPU Memory: 0.4GB / 4.0GB\n",
      "================================================================================\n",
      "\n",
      "📈 Epoch 47/50\n",
      "--------------------------------------------------\n",
      "🔄 Training Phase...\n"
     ]
    },
    {
     "name": "stderr",
     "output_type": "stream",
     "text": [
      "Training: 100%|██████████████████████████████| 311/311 [03:43<00:00,  1.39it/s, Loss=0.0001, Acc=1.0000, GPU=0.4GB]\n"
     ]
    },
    {
     "name": "stdout",
     "output_type": "stream",
     "text": [
      "✅ Training completed in 223.77s\n",
      "🔍 Validation Phase...\n"
     ]
    },
    {
     "name": "stderr",
     "output_type": "stream",
     "text": [
      "Validation: 100%|██████████████████████████████| 81/81 [00:30<00:00,  2.68it/s, Loss=0.6352, Acc=0.8917]\n"
     ]
    },
    {
     "name": "stdout",
     "output_type": "stream",
     "text": [
      "✅ Validation completed in 30.28s\n",
      "\n",
      "📊 Epoch 47 Summary:\n",
      "│ Train Loss: 0.0001 | Train Acc: 1.0000\n",
      "│ Val Loss:   0.6352 | Val Acc:   0.8917\n",
      "│ Train Time: 223.77s | Val Time: 30.28s\n",
      "│ Total Epoch Time: 254.05s\n",
      "│ Best Val Loss: 0.3579 (Epoch 1)\n",
      "│ GPU Memory: 0.4GB / 4.0GB\n",
      "================================================================================\n",
      "\n",
      "📈 Epoch 48/50\n",
      "--------------------------------------------------\n",
      "🔄 Training Phase...\n"
     ]
    },
    {
     "name": "stderr",
     "output_type": "stream",
     "text": [
      "Training: 100%|██████████████████████████████| 311/311 [03:43<00:00,  1.39it/s, Loss=0.0052, Acc=0.9983, GPU=0.4GB]\n"
     ]
    },
    {
     "name": "stdout",
     "output_type": "stream",
     "text": [
      "✅ Training completed in 223.45s\n",
      "🔍 Validation Phase...\n"
     ]
    },
    {
     "name": "stderr",
     "output_type": "stream",
     "text": [
      "Validation: 100%|██████████████████████████████| 81/81 [00:29<00:00,  2.71it/s, Loss=0.6985, Acc=0.8261]\n"
     ]
    },
    {
     "name": "stdout",
     "output_type": "stream",
     "text": [
      "✅ Validation completed in 29.87s\n",
      "\n",
      "📊 Epoch 48 Summary:\n",
      "│ Train Loss: 0.0052 | Train Acc: 0.9983\n",
      "│ Val Loss:   0.6985 | Val Acc:   0.8261\n",
      "│ Train Time: 223.45s | Val Time: 29.87s\n",
      "│ Total Epoch Time: 253.32s\n",
      "│ Best Val Loss: 0.3579 (Epoch 1)\n",
      "│ GPU Memory: 0.4GB / 4.0GB\n",
      "================================================================================\n",
      "\n",
      "📈 Epoch 49/50\n",
      "--------------------------------------------------\n",
      "🔄 Training Phase...\n"
     ]
    },
    {
     "name": "stderr",
     "output_type": "stream",
     "text": [
      "Training: 100%|██████████████████████████████| 311/311 [03:43<00:00,  1.39it/s, Loss=0.0327, Acc=0.9910, GPU=0.4GB]\n"
     ]
    },
    {
     "name": "stdout",
     "output_type": "stream",
     "text": [
      "✅ Training completed in 223.68s\n",
      "🔍 Validation Phase...\n"
     ]
    },
    {
     "name": "stderr",
     "output_type": "stream",
     "text": [
      "Validation: 100%|██████████████████████████████| 81/81 [00:30<00:00,  2.70it/s, Loss=0.5564, Acc=0.8766]\n"
     ]
    },
    {
     "name": "stdout",
     "output_type": "stream",
     "text": [
      "✅ Validation completed in 30.04s\n",
      "\n",
      "📊 Epoch 49 Summary:\n",
      "│ Train Loss: 0.0327 | Train Acc: 0.9910\n",
      "│ Val Loss:   0.5564 | Val Acc:   0.8766\n",
      "│ Train Time: 223.68s | Val Time: 30.04s\n",
      "│ Total Epoch Time: 253.73s\n",
      "│ Best Val Loss: 0.3579 (Epoch 1)\n",
      "│ GPU Memory: 0.4GB / 4.0GB\n",
      "================================================================================\n",
      "\n",
      "📈 Epoch 50/50\n",
      "--------------------------------------------------\n",
      "🔄 Training Phase...\n"
     ]
    },
    {
     "name": "stderr",
     "output_type": "stream",
     "text": [
      "Training: 100%|██████████████████████████████| 311/311 [03:43<00:00,  1.39it/s, Loss=0.0035, Acc=0.9988, GPU=0.4GB]\n"
     ]
    },
    {
     "name": "stdout",
     "output_type": "stream",
     "text": [
      "✅ Training completed in 223.98s\n",
      "🔍 Validation Phase...\n"
     ]
    },
    {
     "name": "stderr",
     "output_type": "stream",
     "text": [
      "Validation: 100%|██████████████████████████████| 81/81 [00:30<00:00,  2.69it/s, Loss=0.5324, Acc=0.8777]\n"
     ]
    },
    {
     "name": "stdout",
     "output_type": "stream",
     "text": [
      "✅ Validation completed in 30.07s\n",
      "\n",
      "📊 Epoch 50 Summary:\n",
      "│ Train Loss: 0.0035 | Train Acc: 0.9988\n",
      "│ Val Loss:   0.5324 | Val Acc:   0.8777\n",
      "│ Train Time: 223.98s | Val Time: 30.07s\n",
      "│ Total Epoch Time: 254.06s\n",
      "│ Best Val Loss: 0.3579 (Epoch 1)\n",
      "│ GPU Memory: 0.4GB / 4.0GB\n",
      "================================================================================\n",
      "\n",
      "💾 Best model saved as 'best_cricket_inceptionv3_filtered.pth'\n",
      "📊 Best model stats:\n",
      "│ Best Epoch: 1\n",
      "│ Best Val Loss: 0.3579\n",
      "│ Best Val Acc: 0.8828\n",
      "\n",
      "💾 Training history saved to 'cricket_inceptionv3_filtered_history_pretrained.csv'\n",
      "\n",
      "🎉 InceptionV3 Fine-tuning Complete!\n",
      "Total Training Time: 12671.00s (211.2 minutes)\n",
      "Average Epoch Time: 253.42s\n",
      "\n",
      "🧪 Loading Best Model for Testing...\n",
      "✅ Best model from epoch 1 loaded successfully!\n"
     ]
    },
    {
     "name": "stderr",
     "output_type": "stream",
     "text": [
      "Testing: 100%|██████████████████████████████| 101/101 [00:47<00:00,  2.13it/s]\n"
     ]
    },
    {
     "name": "stdout",
     "output_type": "stream",
     "text": [
      "✅ Testing completed in 47.49s\n",
      "\n",
      "📋 Classification Report:\n",
      "              precision    recall  f1-score   support\n",
      "\n",
      "     Batting       0.90      0.95      0.92      1656\n",
      "     Bowling       0.85      0.84      0.85       488\n",
      "    Fielding       0.81      0.72      0.76       560\n",
      "      Umpire       0.98      0.93      0.96       520\n",
      "\n",
      "    accuracy                           0.89      3224\n",
      "   macro avg       0.89      0.86      0.87      3224\n",
      "weighted avg       0.89      0.89      0.89      3224\n",
      "\n",
      "🎯 Test Accuracy: 0.8893\n",
      "\n",
      "📊 Cricket Classification Performance (InceptionV3 - Filtered Data):\n",
      "│ Best Validation Loss: 0.3579 (Epoch 1)\n",
      "│ Best Validation Acc:  0.8828 (Epoch 1)\n",
      "│ Final Test Accuracy:  0.8893\n",
      "│ Val-Test Gap:         0.0065\n",
      "│ Data Filtering: Excluded 'random_occlusion' folder\n",
      "\n",
      "💾 Files saved:\n",
      "│ best_cricket_inceptionv3_filtered.pth - Best model weights\n",
      "│ cricket_inceptionv3_filtered_history.csv - Training metrics\n"
     ]
    },
    {
     "data": {
      "image/png": "[encoded data removed]",
      "text/plain": [
       "<Figure size 1000x800 with 2 Axes>"
      ]
     },
     "metadata": {},
     "output_type": "display_data"
    },
    {
     "data": {
      "image/png": "[encoded data removed]",
      "text/plain": [
       "<Figure size 1500x500 with 3 Axes>"
      ]
     },
     "metadata": {},
     "output_type": "display_data"
    },
    {
     "name": "stdout",
     "output_type": "stream",
     "text": [
      "\n",
      "⏰ Final Timing Summary:\n",
      "│ Total Training: 12671.00s (211.2 min)\n",
      "│ Average per Epoch: 253.42s\n",
      "│ Testing Time: 47.49s\n",
      "│ Total Runtime: 12718.49s\n",
      "\n",
      "🏗️ InceptionV3 + Filtered Data Benefits:\n",
      "│ Clean dataset: 'random_occlusion' folder excluded\n",
      "│ Multi-scale features: Inception modules with multiple filter sizes\n",
      "│ High resolution: 299x299 input captures more detail\n",
      "│ ImageNet pretrained: Leverages powerful feature representations\n",
      "│ Optimized for quality: Should achieve excellent cricket classification\n"
     ]
    }
   ],
   "source": [
    "# -----------------------------\n",
    "# 3. Training Setup\n",
    "# -----------------------------\n",
    "criterion = nn.CrossEntropyLoss()\n",
    "optimizer = optim.Adam(model.parameters(), lr=1e-4)  # Lower LR for fine-tuning\n",
    "\n",
    "print(f\"\\n📋 Training Configuration:\")\n",
    "print(f\"│ Model: InceptionV3 (pretrained)\")\n",
    "print(f\"│ Optimizer: Adam (lr={optimizer.param_groups[0]['lr']})\")\n",
    "print(f\"│ Loss Function: CrossEntropyLoss\")\n",
    "print(f\"│ Batch Size: 32\")\n",
    "print(f\"│ Device: {device}\")\n",
    "print(f\"│ Data: Filtered (excluding '{ignore_folder}')\")\n",
    "\n",
    "# -----------------------------\n",
    "# 4. Training Loop with Model Saving\n",
    "# -----------------------------\n",
    "train_losses, val_losses = [], []\n",
    "train_accs, val_accs = [], []\n",
    "epoch_times = []\n",
    "epochs = 50\n",
    "\n",
    "# Initialize best model tracking (using val_loss for fine-tuning)\n",
    "best_val_loss = float('inf')\n",
    "best_model_state = None\n",
    "best_epoch = 0\n",
    "best_val_acc = 0.0\n",
    "\n",
    "print(f\"\\n🚀 Starting InceptionV3 Fine-tuning for {epochs} epochs...\")\n",
    "print(\"=\" * 80)\n",
    "total_start_time = time.time()\n",
    "\n",
    "for epoch in range(epochs):\n",
    "    epoch_start_time = time.time()\n",
    "    \n",
    "    print(f\"\\n📈 Epoch {epoch+1}/{epochs}\")\n",
    "    print(\"-\" * 50)\n",
    "    \n",
    "    # Training Phase\n",
    "    print(\"🔄 Training Phase...\")\n",
    "    model.train()\n",
    "    running_loss, correct, total = 0, 0, 0\n",
    "    \n",
    "    train_pbar = tqdm(train_loader, desc=\"Training\", \n",
    "                     bar_format='{l_bar}{bar:30}{r_bar}{bar:-30b}')\n",
    "    \n",
    "    train_phase_start = time.time()\n",
    "    \n",
    "    for batch_idx, (imgs, labels) in enumerate(train_pbar):\n",
    "        imgs, labels = imgs.to(device), labels.to(device)\n",
    "        \n",
    "        optimizer.zero_grad()\n",
    "        outputs = model(imgs)\n",
    "        loss = criterion(outputs, labels)\n",
    "        loss.backward()\n",
    "        optimizer.step()\n",
    "        \n",
    "        running_loss += loss.item()\n",
    "        _, preds = torch.max(outputs, 1)\n",
    "        correct += (preds == labels).sum().item()\n",
    "        total += labels.size(0)\n",
    "        \n",
    "        current_acc = correct / total\n",
    "        train_pbar.set_postfix({\n",
    "            'Loss': f'{running_loss/(batch_idx+1):.4f}',\n",
    "            'Acc': f'{current_acc:.4f}'\n",
    "        })\n",
    "        \n",
    "        if device.type == 'cuda' and batch_idx % 10 == 0:\n",
    "            gpu_memory = torch.cuda.memory_allocated() / 1024**3\n",
    "            train_pbar.set_postfix({\n",
    "                'Loss': f'{running_loss/(batch_idx+1):.4f}',\n",
    "                'Acc': f'{current_acc:.4f}',\n",
    "                'GPU': f'{gpu_memory:.1f}GB'\n",
    "            })\n",
    "    \n",
    "    train_phase_time = time.time() - train_phase_start\n",
    "    train_loss = running_loss / len(train_loader)\n",
    "    train_acc = correct / total\n",
    "    train_losses.append(train_loss)\n",
    "    train_accs.append(train_acc)\n",
    "    \n",
    "    print(f\"✅ Training completed in {train_phase_time:.2f}s\")\n",
    "    \n",
    "    # Validation Phase\n",
    "    print(\"🔍 Validation Phase...\")\n",
    "    model.eval()\n",
    "    running_loss, correct, total = 0, 0, 0\n",
    "    \n",
    "    val_phase_start = time.time()\n",
    "    val_pbar = tqdm(val_loader, desc=\"Validation\", \n",
    "                   bar_format='{l_bar}{bar:30}{r_bar}{bar:-30b}')\n",
    "    \n",
    "    with torch.no_grad():\n",
    "        for batch_idx, (imgs, labels) in enumerate(val_pbar):\n",
    "            imgs, labels = imgs.to(device), labels.to(device)\n",
    "            outputs = model(imgs)\n",
    "            loss = criterion(outputs, labels)\n",
    "            \n",
    "            running_loss += loss.item()\n",
    "            _, preds = torch.max(outputs, 1)\n",
    "            correct += (preds == labels).sum().item()\n",
    "            total += labels.size(0)\n",
    "            \n",
    "            current_acc = correct / total\n",
    "            val_pbar.set_postfix({\n",
    "                'Loss': f'{running_loss/(batch_idx+1):.4f}',\n",
    "                'Acc': f'{current_acc:.4f}'\n",
    "            })\n",
    "    \n",
    "    val_phase_time = time.time() - val_phase_start\n",
    "    val_loss = running_loss / len(val_loader)\n",
    "    val_acc = correct / total\n",
    "    val_losses.append(val_loss)\n",
    "    val_accs.append(val_acc)\n",
    "    \n",
    "    print(f\"✅ Validation completed in {val_phase_time:.2f}s\")\n",
    "    \n",
    "    # Check if this is the best model (using val_loss for fine-tuning)\n",
    "    is_best = val_loss < best_val_loss\n",
    "    if is_best:\n",
    "        best_val_loss = val_loss\n",
    "        best_val_acc = val_acc\n",
    "        best_epoch = epoch + 1\n",
    "        best_model_state = model.state_dict().copy()\n",
    "        print(f\"🌟 New best model found! Validation Loss: {val_loss:.4f}\")\n",
    "    \n",
    "    # Epoch Summary\n",
    "    epoch_time = time.time() - epoch_start_time\n",
    "    epoch_times.append(epoch_time)\n",
    "    \n",
    "    print(f\"\\n📊 Epoch {epoch+1} Summary:\")\n",
    "    print(f\"│ Train Loss: {train_loss:.4f} | Train Acc: {train_acc:.4f}\")\n",
    "    print(f\"│ Val Loss:   {val_loss:.4f} | Val Acc:   {val_acc:.4f}\")\n",
    "    print(f\"│ Train Time: {train_phase_time:.2f}s | Val Time: {val_phase_time:.2f}s\")\n",
    "    print(f\"│ Total Epoch Time: {epoch_time:.2f}s\")\n",
    "    print(f\"│ Best Val Loss: {best_val_loss:.4f} (Epoch {best_epoch})\")\n",
    "    \n",
    "    if device.type == 'cuda':\n",
    "        print(f\"│ GPU Memory: {torch.cuda.memory_allocated()/1024**3:.1f}GB / {torch.cuda.memory_reserved()/1024**3:.1f}GB\")\n",
    "    \n",
    "    print(\"=\" * 80)\n",
    "\n",
    "total_training_time = time.time() - total_start_time\n",
    "\n",
    "# Save the best model\n",
    "if best_model_state is not None:\n",
    "    torch.save(best_model_state, 'best_cricket_inceptionv3_filtered_pretrained.pth')\n",
    "    print(f\"\\n💾 Best model saved as 'best_cricket_inceptionv3_filtered.pth'\")\n",
    "    print(f\"📊 Best model stats:\")\n",
    "    print(f\"│ Best Epoch: {best_epoch}\")\n",
    "    print(f\"│ Best Val Loss: {best_val_loss:.4f}\")\n",
    "    print(f\"│ Best Val Acc: {best_val_acc:.4f}\")\n",
    "\n",
    "# Save training history\n",
    "history_data = {\n",
    "    'epoch': list(range(1, epochs+1)),\n",
    "    'train_loss': train_losses,\n",
    "    'val_loss': val_losses,\n",
    "    'train_acc': train_accs,\n",
    "    'val_acc': val_accs,\n",
    "    'epoch_time': epoch_times\n",
    "}\n",
    "\n",
    "history_df = pd.DataFrame(history_data)\n",
    "history_df.to_csv('cricket_inceptionv3_filtered_history_pretrained.csv', index=False)\n",
    "print(\"\\n💾 Training history saved to 'cricket_inceptionv3_filtered_history_pretrained.csv'\")\n",
    "\n",
    "print(f\"\\n🎉 InceptionV3 Fine-tuning Complete!\")\n",
    "print(f\"Total Training Time: {total_training_time:.2f}s ({total_training_time/60:.1f} minutes)\")\n",
    "print(f\"Average Epoch Time: {np.mean(epoch_times):.2f}s\")\n",
    "\n",
    "# -----------------------------\n",
    "# 5. Load Best Model and Test\n",
    "# -----------------------------\n",
    "print(f\"\\n🧪 Loading Best Model for Testing...\")\n",
    "if best_model_state is not None:\n",
    "    model.load_state_dict(best_model_state)\n",
    "    print(f\"✅ Best model from epoch {best_epoch} loaded successfully!\")\n",
    "\n",
    "test_start_time = time.time()\n",
    "y_true, y_pred = [], []\n",
    "model.eval()\n",
    "test_pbar = tqdm(test_loader, desc=\"Testing\", \n",
    "                bar_format='{l_bar}{bar:30}{r_bar}{bar:-30b}')\n",
    "\n",
    "with torch.no_grad():\n",
    "    for imgs, labels in test_pbar:\n",
    "        imgs, labels = imgs.to(device), labels.to(device)\n",
    "        outputs = model(imgs)\n",
    "        _, preds = torch.max(outputs, 1)\n",
    "        y_true.extend(labels.cpu().numpy())\n",
    "        y_pred.extend(preds.cpu().numpy())\n",
    "\n",
    "test_time = time.time() - test_start_time\n",
    "test_accuracy = accuracy_score(y_true, y_pred)\n",
    "\n",
    "print(f\"✅ Testing completed in {test_time:.2f}s\")\n",
    "print(\"\\n📋 Classification Report:\")\n",
    "print(classification_report(y_true, y_pred, target_names=classes))\n",
    "print(f\"🎯 Test Accuracy: {test_accuracy:.4f}\")\n",
    "\n",
    "# Performance Summary\n",
    "print(f\"\\n📊 Cricket Classification Performance (InceptionV3 - Filtered Data):\")\n",
    "print(f\"│ Best Validation Loss: {best_val_loss:.4f} (Epoch {best_epoch})\")\n",
    "print(f\"│ Best Validation Acc:  {best_val_acc:.4f} (Epoch {best_epoch})\")\n",
    "print(f\"│ Final Test Accuracy:  {test_accuracy:.4f}\")\n",
    "print(f\"│ Val-Test Gap:         {abs(best_val_acc - test_accuracy):.4f}\")\n",
    "print(f\"│ Data Filtering: Excluded '{ignore_folder}' folder\")\n",
    "\n",
    "print(f\"\\n💾 Files saved:\")\n",
    "print(f\"│ best_cricket_inceptionv3_filtered.pth - Best model weights\")\n",
    "print(f\"│ cricket_inceptionv3_filtered_history.csv - Training metrics\")\n",
    "\n",
    "# -----------------------------\n",
    "# 6. Visualizations\n",
    "# -----------------------------\n",
    "# Confusion Matrix\n",
    "cm = confusion_matrix(y_true, y_pred)\n",
    "plt.figure(figsize=(10, 8))\n",
    "sns.heatmap(cm, annot=True, fmt=\"d\", cmap=\"Blues\", \n",
    "            xticklabels=classes, yticklabels=classes)\n",
    "plt.xlabel(\"Predicted\")\n",
    "plt.ylabel(\"True\")\n",
    "plt.title(f\"Cricket Classification - InceptionV3 (Filtered Data) - Epoch {best_epoch}\")\n",
    "plt.tight_layout()\n",
    "plt.show()\n",
    "\n",
    "# Training Curves\n",
    "plt.figure(figsize=(15, 5))\n",
    "\n",
    "# Loss Plot\n",
    "plt.subplot(1, 3, 1)\n",
    "plt.plot(range(1, epochs+1), train_losses, 'b-', label=\"Train Loss\", marker='o', linewidth=2)\n",
    "plt.plot(range(1, epochs+1), val_losses, 'r-', label=\"Val Loss\", marker='s', linewidth=2)\n",
    "plt.axvline(x=best_epoch, color='green', linestyle='--', alpha=0.7, label=f'Best (Epoch {best_epoch})')\n",
    "plt.scatter([best_epoch], [best_val_loss], color='green', s=100, zorder=5)\n",
    "plt.legend()\n",
    "plt.title(\"InceptionV3 Loss over Epochs (Filtered)\")\n",
    "plt.xlabel(\"Epoch\")\n",
    "plt.ylabel(\"Loss\")\n",
    "plt.grid(True, alpha=0.3)\n",
    "\n",
    "# Accuracy Plot\n",
    "plt.subplot(1, 3, 2)\n",
    "plt.plot(range(1, epochs+1), train_accs, 'b-', label=\"Train Accuracy\", marker='o', linewidth=2)\n",
    "plt.plot(range(1, epochs+1), val_accs, 'r-', label=\"Val Accuracy\", marker='s', linewidth=2)\n",
    "plt.axvline(x=best_epoch, color='green', linestyle='--', alpha=0.7, label=f'Best (Epoch {best_epoch})')\n",
    "plt.scatter([best_epoch], [best_val_acc], color='green', s=100, zorder=5)\n",
    "plt.legend()\n",
    "plt.title(\"InceptionV3 Accuracy over Epochs (Filtered)\")\n",
    "plt.xlabel(\"Epoch\")\n",
    "plt.ylabel(\"Accuracy\")\n",
    "plt.grid(True, alpha=0.3)\n",
    "\n",
    "# Final Performance\n",
    "plt.subplot(1, 3, 3)\n",
    "metrics = ['Best Val Acc', 'Test Acc']\n",
    "values = [best_val_acc, test_accuracy]\n",
    "colors = ['orange', 'green']\n",
    "bars = plt.bar(metrics, values, color=colors, alpha=0.7)\n",
    "plt.title(\"InceptionV3 Final Performance (Filtered)\")\n",
    "plt.ylabel(\"Accuracy\")\n",
    "plt.ylim(0, 1)\n",
    "plt.grid(True, alpha=0.3)\n",
    "for bar, val in zip(bars, values):\n",
    "    plt.text(bar.get_x() + bar.get_width()/2, val + 0.01, \n",
    "             f'{val:.4f}', ha='center', va='bottom')\n",
    "\n",
    "plt.tight_layout()\n",
    "plt.show()\n",
    "\n",
    "# Final Summary\n",
    "print(f\"\\n⏰ Final Timing Summary:\")\n",
    "print(f\"│ Total Training: {total_training_time:.2f}s ({total_training_time/60:.1f} min)\")\n",
    "print(f\"│ Average per Epoch: {np.mean(epoch_times):.2f}s\")\n",
    "print(f\"│ Testing Time: {test_time:.2f}s\")\n",
    "print(f\"│ Total Runtime: {total_training_time + test_time:.2f}s\")\n",
    "\n",
    "# Model and Data Info\n",
    "print(f\"\\n🏗️ InceptionV3 + Filtered Data Benefits:\")\n",
    "print(f\"│ Clean dataset: '{ignore_folder}' folder excluded\")\n",
    "print(f\"│ Multi-scale features: Inception modules with multiple filter sizes\")\n",
    "print(f\"│ High resolution: 299x299 input captures more detail\")\n",
    "print(f\"│ ImageNet pretrained: Leverages powerful feature representations\")\n",
    "print(f\"│ Optimized for quality: Should achieve excellent cricket classification\")"
   ]
  }
 ],
 "metadata": {
  "kaggle": {
   "accelerator": "nvidiaTeslaT4",
   "dataSources": [
    {
     "datasetId": 7735666,
     "sourceId": 12275446,
     "sourceType": "datasetVersion"
    }
   ],
   "isGpuEnabled": true,
   "isInternetEnabled": true,
   "language": "python",
   "sourceType": "notebook"
  },
  "kernelspec": {
   "display_name": "Python 3",
   "language": "python",
   "name": "python3"
  },
  "language_info": {
   "codemirror_mode": {
    "name": "ipython",
    "version": 3
   },
   "file_extension": ".py",
   "mimetype": "text/x-python",
   "name": "python",
   "nbconvert_exporter": "python",
   "pygments_lexer": "ipython3",
   "version": "3.11.13"
  },
  "papermill": {
   "default_parameters": {},
   "duration": 12746.940119,
   "end_time": "2025-09-07T07:30:11.993033",
   "environment_variables": {},
   "exception": null,
   "input_path": "__notebook__.ipynb",
   "output_path": "__notebook__.ipynb",
   "parameters": {},
   "start_time": "2025-09-07T03:57:45.052914",
   "version": "2.6.0"
  }
 },
 "nbformat": 4,
 "nbformat_minor": 5
}
