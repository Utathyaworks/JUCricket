{
 "cells": [
  {
   "cell_type": "code",
   "execution_count": 1,
   "id": "326cc8ad",
   "metadata": {
    "_cell_guid": "b1076dfc-b9ad-4769-8c92-a6c4dae69d19",
    "_uuid": "8f2839f25d086af736a60e9eeb907d3b93b6e0e5",
    "execution": {
     "iopub.execute_input": "2025-09-06T13:34:01.050593Z",
     "iopub.status.busy": "2025-09-06T13:34:01.050264Z",
     "iopub.status.idle": "2025-09-06T13:34:25.405626Z",
     "shell.execute_reply": "2025-09-06T13:34:25.404882Z"
    },
    "papermill": {
     "duration": 24.36065,
     "end_time": "2025-09-06T13:34:25.406775",
     "exception": false,
     "start_time": "2025-09-06T13:34:01.046125",
     "status": "completed"
    },
    "tags": []
   },
   "outputs": [
    {
     "name": "stdout",
     "output_type": "stream",
     "text": [
      "Classes: ['Batting', 'Bowling', 'Fielding', 'Umpire']\n"
     ]
    }
   ],
   "source": [
    "import torch\n",
    "import torch.nn as nn\n",
    "import torch.nn.functional as F\n",
    "from torch.utils.data import DataLoader\n",
    "from torchvision import datasets, transforms\n",
    "from torchsummary import summary\n",
    "import matplotlib.pyplot as plt\n",
    "from sklearn.metrics import classification_report, confusion_matrix, accuracy_score\n",
    "import seaborn as sns\n",
    "import numpy as np\n",
    "\n",
    "# -----------------------------\n",
    "# 1. Data Preprocessing\n",
    "# -----------------------------\n",
    "data_dir = \"/kaggle/input/ju-cricket/Cricket_Dataset_final/Task_A\"\n",
    "\n",
    "transform = transforms.Compose([\n",
    "    transforms.Resize((224, 224)),\n",
    "    transforms.ToTensor(),\n",
    "    transforms.Normalize([0.485, 0.456, 0.406], \n",
    "                         [0.229, 0.224, 0.225])\n",
    "])\n",
    "\n",
    "train_ds = datasets.ImageFolder(f\"{data_dir}/train\", transform=transform)\n",
    "val_ds   = datasets.ImageFolder(f\"{data_dir}/val\", transform=transform)\n",
    "test_ds  = datasets.ImageFolder(f\"{data_dir}/test\", transform=transform)\n",
    "\n",
    "train_loader = DataLoader(train_ds, batch_size=32, shuffle=True)\n",
    "val_loader   = DataLoader(val_ds, batch_size=32, shuffle=False)\n",
    "test_loader  = DataLoader(test_ds, batch_size=32, shuffle=False)\n",
    "\n",
    "classes = train_ds.classes\n",
    "print(\"Classes:\", classes)"
   ]
  },
  {
   "cell_type": "code",
   "execution_count": 2,
   "id": "6aee9ed1",
   "metadata": {
    "execution": {
     "iopub.execute_input": "2025-09-06T13:34:25.413731Z",
     "iopub.status.busy": "2025-09-06T13:34:25.413027Z",
     "iopub.status.idle": "2025-09-06T13:34:25.417714Z",
     "shell.execute_reply": "2025-09-06T13:34:25.417055Z"
    },
    "papermill": {
     "duration": 0.00869,
     "end_time": "2025-09-06T13:34:25.418707",
     "exception": false,
     "start_time": "2025-09-06T13:34:25.410017",
     "status": "completed"
    },
    "tags": []
   },
   "outputs": [
    {
     "name": "stdout",
     "output_type": "stream",
     "text": [
      "Total training images: 11169\n",
      "Total validation images: 2898\n",
      "Total test images: 3627\n",
      "Total images in dataset: 17694\n"
     ]
    }
   ],
   "source": [
    "print(\"Total training images:\", len(train_ds))\n",
    "print(\"Total validation images:\", len(val_ds))\n",
    "print(\"Total test images:\", len(test_ds))\n",
    "\n",
    "total_images = len(train_ds) + len(val_ds) + len(test_ds)\n",
    "print(\"Total images in dataset:\", total_images)"
   ]
  },
  {
   "cell_type": "code",
   "execution_count": 3,
   "id": "123fd85c",
   "metadata": {
    "execution": {
     "iopub.execute_input": "2025-09-06T13:34:25.424228Z",
     "iopub.status.busy": "2025-09-06T13:34:25.423827Z",
     "iopub.status.idle": "2025-09-06T13:34:25.437439Z",
     "shell.execute_reply": "2025-09-06T13:34:25.436820Z"
    },
    "papermill": {
     "duration": 0.017428,
     "end_time": "2025-09-06T13:34:25.438457",
     "exception": false,
     "start_time": "2025-09-06T13:34:25.421029",
     "status": "completed"
    },
    "tags": []
   },
   "outputs": [
    {
     "name": "stdout",
     "output_type": "stream",
     "text": [
      "Training images (excluding 'random_occlusion'): 9928\n",
      "Validation images (excluding 'random_occlusion'): 2576\n",
      "Test images (excluding 'random_occlusion'): 3224\n",
      "Total images (excluding 'random_occlusion'): 15728\n"
     ]
    }
   ],
   "source": [
    "ignore_folder = \"random_occlusion\"\n",
    "\n",
    "def count_images_ignore_folder(dataset, ignore_folder):\n",
    "    count = 0\n",
    "    for img_path, label in dataset.samples:\n",
    "        # Skip if the image path contains the ignore_folder\n",
    "        if ignore_folder not in img_path.split(\"/\"):\n",
    "            count += 1\n",
    "    return count\n",
    "\n",
    "train_count = count_images_ignore_folder(train_ds, ignore_folder)\n",
    "val_count   = count_images_ignore_folder(val_ds, ignore_folder)\n",
    "test_count  = count_images_ignore_folder(test_ds, ignore_folder)\n",
    "\n",
    "total_count = train_count + val_count + test_count\n",
    "\n",
    "print(\"Training images (excluding '{}'): {}\".format(ignore_folder, train_count))\n",
    "print(\"Validation images (excluding '{}'): {}\".format(ignore_folder, val_count))\n",
    "print(\"Test images (excluding '{}'): {}\".format(ignore_folder, test_count))\n",
    "print(\"Total images (excluding '{}'): {}\".format(ignore_folder, total_count))"
   ]
  },
  {
   "cell_type": "code",
   "execution_count": 4,
   "id": "41ca53ec",
   "metadata": {
    "execution": {
     "iopub.execute_input": "2025-09-06T13:34:25.444373Z",
     "iopub.status.busy": "2025-09-06T13:34:25.443932Z",
     "iopub.status.idle": "2025-09-06T13:34:25.464528Z",
     "shell.execute_reply": "2025-09-06T13:34:25.463913Z"
    },
    "papermill": {
     "duration": 0.024653,
     "end_time": "2025-09-06T13:34:25.465522",
     "exception": false,
     "start_time": "2025-09-06T13:34:25.440869",
     "status": "completed"
    },
    "tags": []
   },
   "outputs": [
    {
     "name": "stdout",
     "output_type": "stream",
     "text": [
      "Training folders considered: {'dirty_lens', 'motion_blur', 'lens_flare', 'low_resolution', 'original', 'blur', 'chromatic_aberration', 'gaussian_noise', 'random_occlusion'}\n",
      "Validation folders considered: {'dirty_lens', 'motion_blur', 'lens_flare', 'low_resolution', 'original', 'blur', 'chromatic_aberration', 'gaussian_noise', 'random_occlusion'}\n",
      "Test folders considered: {'dirty_lens', 'motion_blur', 'lens_flare', 'low_resolution', 'original', 'blur', 'chromatic_aberration', 'gaussian_noise', 'random_occlusion'}\n"
     ]
    }
   ],
   "source": [
    "ignore_folder = \"random_occlusionw\"\n",
    "\n",
    "def get_included_folders(dataset, ignore_folder):\n",
    "    included = set()\n",
    "    for img_path, label in dataset.samples:\n",
    "        # Split the path into parts and ignore if ignore_folder is in the path\n",
    "        if ignore_folder not in img_path.split(\"/\"):\n",
    "            # The folder name just above the image (or the class folder)\n",
    "            folder_name = img_path.split(\"/\")[-2]\n",
    "            included.add(folder_name)\n",
    "    return included\n",
    "\n",
    "train_folders = get_included_folders(train_ds, ignore_folder)\n",
    "val_folders   = get_included_folders(val_ds, ignore_folder)\n",
    "test_folders  = get_included_folders(test_ds, ignore_folder)\n",
    "\n",
    "print(\"Training folders considered:\", train_folders)\n",
    "print(\"Validation folders considered:\", val_folders)\n",
    "print(\"Test folders considered:\", test_folders)"
   ]
  },
  {
   "cell_type": "code",
   "execution_count": 5,
   "id": "1504b239",
   "metadata": {
    "execution": {
     "iopub.execute_input": "2025-09-06T13:34:25.470985Z",
     "iopub.status.busy": "2025-09-06T13:34:25.470808Z",
     "iopub.status.idle": "2025-09-06T13:34:26.891479Z",
     "shell.execute_reply": "2025-09-06T13:34:26.890672Z"
    },
    "papermill": {
     "duration": 1.42475,
     "end_time": "2025-09-06T13:34:26.892698",
     "exception": false,
     "start_time": "2025-09-06T13:34:25.467948",
     "status": "completed"
    },
    "tags": []
   },
   "outputs": [
    {
     "name": "stdout",
     "output_type": "stream",
     "text": [
      "Classes: ['Batting', 'Bowling', 'Fielding', 'Umpire']\n",
      "Final Training images: 9928\n",
      "Final Validation images: 2576\n",
      "Final Test images: 3224\n",
      "Total images after filtering: 15728\n"
     ]
    }
   ],
   "source": [
    "ignore_folder = \"random_occlusion\"\n",
    "\n",
    "def filter_samples(dataset, ignore_folder):\n",
    "    # Keep only samples where ignore_folder is NOT in the path\n",
    "    filtered_samples = [s for s in dataset.samples if ignore_folder not in s[0].split(\"/\")]\n",
    "    dataset.samples = filtered_samples\n",
    "    dataset.targets = [s[1] for s in filtered_samples]  # Update targets accordingly\n",
    "    return dataset\n",
    "\n",
    "# Create original datasets\n",
    "train_ds = datasets.ImageFolder(f\"{data_dir}/train\", transform=transform)\n",
    "val_ds   = datasets.ImageFolder(f\"{data_dir}/val\", transform=transform)\n",
    "test_ds  = datasets.ImageFolder(f\"{data_dir}/test\", transform=transform)\n",
    "\n",
    "# Filter out 'random_occlusion' folder\n",
    "train_ds = filter_samples(train_ds, ignore_folder)\n",
    "val_ds   = filter_samples(val_ds, ignore_folder)\n",
    "test_ds  = filter_samples(test_ds, ignore_folder)\n",
    "\n",
    "# DataLoaders\n",
    "train_loader = DataLoader(train_ds, batch_size=32, shuffle=True)\n",
    "val_loader   = DataLoader(val_ds, batch_size=32, shuffle=False)\n",
    "test_loader  = DataLoader(test_ds, batch_size=32, shuffle=False)\n",
    "\n",
    "# Classes (will remain the same)\n",
    "classes = train_ds.classes\n",
    "print(\"Classes:\", classes)\n",
    "\n",
    "# Show counts\n",
    "print(\"Final Training images:\", len(train_ds))\n",
    "print(\"Final Validation images:\", len(val_ds))\n",
    "print(\"Final Test images:\", len(test_ds))\n",
    "print(\"Total images after filtering:\", len(train_ds) + len(val_ds) + len(test_ds))"
   ]
  },
  {
   "cell_type": "code",
   "execution_count": 6,
   "id": "b369685d",
   "metadata": {
    "execution": {
     "iopub.execute_input": "2025-09-06T13:34:26.898794Z",
     "iopub.status.busy": "2025-09-06T13:34:26.898573Z",
     "iopub.status.idle": "2025-09-06T13:34:26.917637Z",
     "shell.execute_reply": "2025-09-06T13:34:26.917090Z"
    },
    "papermill": {
     "duration": 0.023182,
     "end_time": "2025-09-06T13:34:26.918669",
     "exception": false,
     "start_time": "2025-09-06T13:34:26.895487",
     "status": "completed"
    },
    "tags": []
   },
   "outputs": [
    {
     "name": "stdout",
     "output_type": "stream",
     "text": [
      "Training folders considered: {'dirty_lens', 'motion_blur', 'lens_flare', 'low_resolution', 'original', 'blur', 'chromatic_aberration', 'gaussian_noise'}\n",
      "Validation folders considered: {'dirty_lens', 'motion_blur', 'lens_flare', 'low_resolution', 'original', 'blur', 'chromatic_aberration', 'gaussian_noise'}\n",
      "Test folders considered: {'dirty_lens', 'motion_blur', 'lens_flare', 'low_resolution', 'original', 'blur', 'chromatic_aberration', 'gaussian_noise'}\n"
     ]
    }
   ],
   "source": [
    "ignore_folder = \"random_occlusion\"\n",
    "\n",
    "def get_included_folders(dataset, ignore_folder):\n",
    "    included = set()\n",
    "    for img_path, label in dataset.samples:\n",
    "        # Split the path into parts and ignore if ignore_folder is in the path\n",
    "        if ignore_folder not in img_path.split(\"/\"):\n",
    "            # The folder name just above the image (or the class folder)\n",
    "            folder_name = img_path.split(\"/\")[-2]\n",
    "            included.add(folder_name)\n",
    "    return included\n",
    "\n",
    "train_folders = get_included_folders(train_ds, ignore_folder)\n",
    "val_folders   = get_included_folders(val_ds, ignore_folder)\n",
    "test_folders  = get_included_folders(test_ds, ignore_folder)\n",
    "\n",
    "print(\"Training folders considered:\", train_folders)\n",
    "print(\"Validation folders considered:\", val_folders)\n",
    "print(\"Test folders considered:\", test_folders)"
   ]
  },
  {
   "cell_type": "code",
   "execution_count": 7,
   "id": "b5c8d000",
   "metadata": {
    "execution": {
     "iopub.execute_input": "2025-09-06T13:34:26.924820Z",
     "iopub.status.busy": "2025-09-06T13:34:26.924618Z",
     "iopub.status.idle": "2025-09-06T13:34:28.615346Z",
     "shell.execute_reply": "2025-09-06T13:34:28.614336Z"
    },
    "papermill": {
     "duration": 1.695892,
     "end_time": "2025-09-06T13:34:28.617108",
     "exception": false,
     "start_time": "2025-09-06T13:34:26.921216",
     "status": "completed"
    },
    "tags": []
   },
   "outputs": [
    {
     "name": "stdout",
     "output_type": "stream",
     "text": [
      "DenseNet-121 Model Summary:\n",
      "----------------------------------------------------------------\n",
      "        Layer (type)               Output Shape         Param #\n",
      "================================================================\n",
      "            Conv2d-1         [-1, 64, 112, 112]           9,408\n",
      "       BatchNorm2d-2         [-1, 64, 112, 112]             128\n",
      "         MaxPool2d-3           [-1, 64, 56, 56]               0\n",
      "       BatchNorm2d-4           [-1, 64, 56, 56]             128\n",
      "            Conv2d-5          [-1, 128, 56, 56]           8,192\n",
      "       BatchNorm2d-6          [-1, 128, 56, 56]             256\n",
      "            Conv2d-7           [-1, 32, 56, 56]          36,864\n",
      "        DenseLayer-8           [-1, 96, 56, 56]               0\n",
      "       BatchNorm2d-9           [-1, 96, 56, 56]             192\n",
      "           Conv2d-10          [-1, 128, 56, 56]          12,288\n",
      "      BatchNorm2d-11          [-1, 128, 56, 56]             256\n",
      "           Conv2d-12           [-1, 32, 56, 56]          36,864\n",
      "       DenseLayer-13          [-1, 128, 56, 56]               0\n",
      "      BatchNorm2d-14          [-1, 128, 56, 56]             256\n",
      "           Conv2d-15          [-1, 128, 56, 56]          16,384\n",
      "      BatchNorm2d-16          [-1, 128, 56, 56]             256\n",
      "           Conv2d-17           [-1, 32, 56, 56]          36,864\n",
      "       DenseLayer-18          [-1, 160, 56, 56]               0\n",
      "      BatchNorm2d-19          [-1, 160, 56, 56]             320\n",
      "           Conv2d-20          [-1, 128, 56, 56]          20,480\n",
      "      BatchNorm2d-21          [-1, 128, 56, 56]             256\n",
      "           Conv2d-22           [-1, 32, 56, 56]          36,864\n",
      "       DenseLayer-23          [-1, 192, 56, 56]               0\n",
      "      BatchNorm2d-24          [-1, 192, 56, 56]             384\n",
      "           Conv2d-25          [-1, 128, 56, 56]          24,576\n",
      "      BatchNorm2d-26          [-1, 128, 56, 56]             256\n",
      "           Conv2d-27           [-1, 32, 56, 56]          36,864\n",
      "       DenseLayer-28          [-1, 224, 56, 56]               0\n",
      "      BatchNorm2d-29          [-1, 224, 56, 56]             448\n",
      "           Conv2d-30          [-1, 128, 56, 56]          28,672\n",
      "      BatchNorm2d-31          [-1, 128, 56, 56]             256\n",
      "           Conv2d-32           [-1, 32, 56, 56]          36,864\n",
      "       DenseLayer-33          [-1, 256, 56, 56]               0\n",
      "       DenseBlock-34          [-1, 256, 56, 56]               0\n",
      "      BatchNorm2d-35          [-1, 256, 56, 56]             512\n",
      "           Conv2d-36          [-1, 128, 56, 56]          32,768\n",
      "        AvgPool2d-37          [-1, 128, 28, 28]               0\n",
      "  TransitionLayer-38          [-1, 128, 28, 28]               0\n",
      "      BatchNorm2d-39          [-1, 128, 28, 28]             256\n",
      "           Conv2d-40          [-1, 128, 28, 28]          16,384\n",
      "      BatchNorm2d-41          [-1, 128, 28, 28]             256\n",
      "           Conv2d-42           [-1, 32, 28, 28]          36,864\n",
      "       DenseLayer-43          [-1, 160, 28, 28]               0\n",
      "      BatchNorm2d-44          [-1, 160, 28, 28]             320\n",
      "           Conv2d-45          [-1, 128, 28, 28]          20,480\n",
      "      BatchNorm2d-46          [-1, 128, 28, 28]             256\n",
      "           Conv2d-47           [-1, 32, 28, 28]          36,864\n",
      "       DenseLayer-48          [-1, 192, 28, 28]               0\n",
      "      BatchNorm2d-49          [-1, 192, 28, 28]             384\n",
      "           Conv2d-50          [-1, 128, 28, 28]          24,576\n",
      "      BatchNorm2d-51          [-1, 128, 28, 28]             256\n",
      "           Conv2d-52           [-1, 32, 28, 28]          36,864\n",
      "       DenseLayer-53          [-1, 224, 28, 28]               0\n",
      "      BatchNorm2d-54          [-1, 224, 28, 28]             448\n",
      "           Conv2d-55          [-1, 128, 28, 28]          28,672\n",
      "      BatchNorm2d-56          [-1, 128, 28, 28]             256\n",
      "           Conv2d-57           [-1, 32, 28, 28]          36,864\n",
      "       DenseLayer-58          [-1, 256, 28, 28]               0\n",
      "      BatchNorm2d-59          [-1, 256, 28, 28]             512\n",
      "           Conv2d-60          [-1, 128, 28, 28]          32,768\n",
      "      BatchNorm2d-61          [-1, 128, 28, 28]             256\n",
      "           Conv2d-62           [-1, 32, 28, 28]          36,864\n",
      "       DenseLayer-63          [-1, 288, 28, 28]               0\n",
      "      BatchNorm2d-64          [-1, 288, 28, 28]             576\n",
      "           Conv2d-65          [-1, 128, 28, 28]          36,864\n",
      "      BatchNorm2d-66          [-1, 128, 28, 28]             256\n",
      "           Conv2d-67           [-1, 32, 28, 28]          36,864\n",
      "       DenseLayer-68          [-1, 320, 28, 28]               0\n",
      "      BatchNorm2d-69          [-1, 320, 28, 28]             640\n",
      "           Conv2d-70          [-1, 128, 28, 28]          40,960\n",
      "      BatchNorm2d-71          [-1, 128, 28, 28]             256\n",
      "           Conv2d-72           [-1, 32, 28, 28]          36,864\n",
      "       DenseLayer-73          [-1, 352, 28, 28]               0\n",
      "      BatchNorm2d-74          [-1, 352, 28, 28]             704\n",
      "           Conv2d-75          [-1, 128, 28, 28]          45,056\n",
      "      BatchNorm2d-76          [-1, 128, 28, 28]             256\n",
      "           Conv2d-77           [-1, 32, 28, 28]          36,864\n",
      "       DenseLayer-78          [-1, 384, 28, 28]               0\n",
      "      BatchNorm2d-79          [-1, 384, 28, 28]             768\n",
      "           Conv2d-80          [-1, 128, 28, 28]          49,152\n",
      "      BatchNorm2d-81          [-1, 128, 28, 28]             256\n",
      "           Conv2d-82           [-1, 32, 28, 28]          36,864\n",
      "       DenseLayer-83          [-1, 416, 28, 28]               0\n",
      "      BatchNorm2d-84          [-1, 416, 28, 28]             832\n",
      "           Conv2d-85          [-1, 128, 28, 28]          53,248\n",
      "      BatchNorm2d-86          [-1, 128, 28, 28]             256\n",
      "           Conv2d-87           [-1, 32, 28, 28]          36,864\n",
      "       DenseLayer-88          [-1, 448, 28, 28]               0\n",
      "      BatchNorm2d-89          [-1, 448, 28, 28]             896\n",
      "           Conv2d-90          [-1, 128, 28, 28]          57,344\n",
      "      BatchNorm2d-91          [-1, 128, 28, 28]             256\n",
      "           Conv2d-92           [-1, 32, 28, 28]          36,864\n",
      "       DenseLayer-93          [-1, 480, 28, 28]               0\n",
      "      BatchNorm2d-94          [-1, 480, 28, 28]             960\n",
      "           Conv2d-95          [-1, 128, 28, 28]          61,440\n",
      "      BatchNorm2d-96          [-1, 128, 28, 28]             256\n",
      "           Conv2d-97           [-1, 32, 28, 28]          36,864\n",
      "       DenseLayer-98          [-1, 512, 28, 28]               0\n",
      "       DenseBlock-99          [-1, 512, 28, 28]               0\n",
      "     BatchNorm2d-100          [-1, 512, 28, 28]           1,024\n",
      "          Conv2d-101          [-1, 256, 28, 28]         131,072\n",
      "       AvgPool2d-102          [-1, 256, 14, 14]               0\n",
      " TransitionLayer-103          [-1, 256, 14, 14]               0\n",
      "     BatchNorm2d-104          [-1, 256, 14, 14]             512\n",
      "          Conv2d-105          [-1, 128, 14, 14]          32,768\n",
      "     BatchNorm2d-106          [-1, 128, 14, 14]             256\n",
      "          Conv2d-107           [-1, 32, 14, 14]          36,864\n",
      "      DenseLayer-108          [-1, 288, 14, 14]               0\n",
      "     BatchNorm2d-109          [-1, 288, 14, 14]             576\n",
      "          Conv2d-110          [-1, 128, 14, 14]          36,864\n",
      "     BatchNorm2d-111          [-1, 128, 14, 14]             256\n",
      "          Conv2d-112           [-1, 32, 14, 14]          36,864\n",
      "      DenseLayer-113          [-1, 320, 14, 14]               0\n",
      "     BatchNorm2d-114          [-1, 320, 14, 14]             640\n",
      "          Conv2d-115          [-1, 128, 14, 14]          40,960\n",
      "     BatchNorm2d-116          [-1, 128, 14, 14]             256\n",
      "          Conv2d-117           [-1, 32, 14, 14]          36,864\n",
      "      DenseLayer-118          [-1, 352, 14, 14]               0\n",
      "     BatchNorm2d-119          [-1, 352, 14, 14]             704\n",
      "          Conv2d-120          [-1, 128, 14, 14]          45,056\n",
      "     BatchNorm2d-121          [-1, 128, 14, 14]             256\n",
      "          Conv2d-122           [-1, 32, 14, 14]          36,864\n",
      "      DenseLayer-123          [-1, 384, 14, 14]               0\n",
      "     BatchNorm2d-124          [-1, 384, 14, 14]             768\n",
      "          Conv2d-125          [-1, 128, 14, 14]          49,152\n",
      "     BatchNorm2d-126          [-1, 128, 14, 14]             256\n",
      "          Conv2d-127           [-1, 32, 14, 14]          36,864\n",
      "      DenseLayer-128          [-1, 416, 14, 14]               0\n",
      "     BatchNorm2d-129          [-1, 416, 14, 14]             832\n",
      "          Conv2d-130          [-1, 128, 14, 14]          53,248\n",
      "     BatchNorm2d-131          [-1, 128, 14, 14]             256\n",
      "          Conv2d-132           [-1, 32, 14, 14]          36,864\n",
      "      DenseLayer-133          [-1, 448, 14, 14]               0\n",
      "     BatchNorm2d-134          [-1, 448, 14, 14]             896\n",
      "          Conv2d-135          [-1, 128, 14, 14]          57,344\n",
      "     BatchNorm2d-136          [-1, 128, 14, 14]             256\n",
      "          Conv2d-137           [-1, 32, 14, 14]          36,864\n",
      "      DenseLayer-138          [-1, 480, 14, 14]               0\n",
      "     BatchNorm2d-139          [-1, 480, 14, 14]             960\n",
      "          Conv2d-140          [-1, 128, 14, 14]          61,440\n",
      "     BatchNorm2d-141          [-1, 128, 14, 14]             256\n",
      "          Conv2d-142           [-1, 32, 14, 14]          36,864\n",
      "      DenseLayer-143          [-1, 512, 14, 14]               0\n",
      "     BatchNorm2d-144          [-1, 512, 14, 14]           1,024\n",
      "          Conv2d-145          [-1, 128, 14, 14]          65,536\n",
      "     BatchNorm2d-146          [-1, 128, 14, 14]             256\n",
      "          Conv2d-147           [-1, 32, 14, 14]          36,864\n",
      "      DenseLayer-148          [-1, 544, 14, 14]               0\n",
      "     BatchNorm2d-149          [-1, 544, 14, 14]           1,088\n",
      "          Conv2d-150          [-1, 128, 14, 14]          69,632\n",
      "     BatchNorm2d-151          [-1, 128, 14, 14]             256\n",
      "          Conv2d-152           [-1, 32, 14, 14]          36,864\n",
      "      DenseLayer-153          [-1, 576, 14, 14]               0\n",
      "     BatchNorm2d-154          [-1, 576, 14, 14]           1,152\n",
      "          Conv2d-155          [-1, 128, 14, 14]          73,728\n",
      "     BatchNorm2d-156          [-1, 128, 14, 14]             256\n",
      "          Conv2d-157           [-1, 32, 14, 14]          36,864\n",
      "      DenseLayer-158          [-1, 608, 14, 14]               0\n",
      "     BatchNorm2d-159          [-1, 608, 14, 14]           1,216\n",
      "          Conv2d-160          [-1, 128, 14, 14]          77,824\n",
      "     BatchNorm2d-161          [-1, 128, 14, 14]             256\n",
      "          Conv2d-162           [-1, 32, 14, 14]          36,864\n",
      "      DenseLayer-163          [-1, 640, 14, 14]               0\n",
      "     BatchNorm2d-164          [-1, 640, 14, 14]           1,280\n",
      "          Conv2d-165          [-1, 128, 14, 14]          81,920\n",
      "     BatchNorm2d-166          [-1, 128, 14, 14]             256\n",
      "          Conv2d-167           [-1, 32, 14, 14]          36,864\n",
      "      DenseLayer-168          [-1, 672, 14, 14]               0\n",
      "     BatchNorm2d-169          [-1, 672, 14, 14]           1,344\n",
      "          Conv2d-170          [-1, 128, 14, 14]          86,016\n",
      "     BatchNorm2d-171          [-1, 128, 14, 14]             256\n",
      "          Conv2d-172           [-1, 32, 14, 14]          36,864\n",
      "      DenseLayer-173          [-1, 704, 14, 14]               0\n",
      "     BatchNorm2d-174          [-1, 704, 14, 14]           1,408\n",
      "          Conv2d-175          [-1, 128, 14, 14]          90,112\n",
      "     BatchNorm2d-176          [-1, 128, 14, 14]             256\n",
      "          Conv2d-177           [-1, 32, 14, 14]          36,864\n",
      "      DenseLayer-178          [-1, 736, 14, 14]               0\n",
      "     BatchNorm2d-179          [-1, 736, 14, 14]           1,472\n",
      "          Conv2d-180          [-1, 128, 14, 14]          94,208\n",
      "     BatchNorm2d-181          [-1, 128, 14, 14]             256\n",
      "          Conv2d-182           [-1, 32, 14, 14]          36,864\n",
      "      DenseLayer-183          [-1, 768, 14, 14]               0\n",
      "     BatchNorm2d-184          [-1, 768, 14, 14]           1,536\n",
      "          Conv2d-185          [-1, 128, 14, 14]          98,304\n",
      "     BatchNorm2d-186          [-1, 128, 14, 14]             256\n",
      "          Conv2d-187           [-1, 32, 14, 14]          36,864\n",
      "      DenseLayer-188          [-1, 800, 14, 14]               0\n",
      "     BatchNorm2d-189          [-1, 800, 14, 14]           1,600\n",
      "          Conv2d-190          [-1, 128, 14, 14]         102,400\n",
      "     BatchNorm2d-191          [-1, 128, 14, 14]             256\n",
      "          Conv2d-192           [-1, 32, 14, 14]          36,864\n",
      "      DenseLayer-193          [-1, 832, 14, 14]               0\n",
      "     BatchNorm2d-194          [-1, 832, 14, 14]           1,664\n",
      "          Conv2d-195          [-1, 128, 14, 14]         106,496\n",
      "     BatchNorm2d-196          [-1, 128, 14, 14]             256\n",
      "          Conv2d-197           [-1, 32, 14, 14]          36,864\n",
      "      DenseLayer-198          [-1, 864, 14, 14]               0\n",
      "     BatchNorm2d-199          [-1, 864, 14, 14]           1,728\n",
      "          Conv2d-200          [-1, 128, 14, 14]         110,592\n",
      "     BatchNorm2d-201          [-1, 128, 14, 14]             256\n",
      "          Conv2d-202           [-1, 32, 14, 14]          36,864\n",
      "      DenseLayer-203          [-1, 896, 14, 14]               0\n",
      "     BatchNorm2d-204          [-1, 896, 14, 14]           1,792\n",
      "          Conv2d-205          [-1, 128, 14, 14]         114,688\n",
      "     BatchNorm2d-206          [-1, 128, 14, 14]             256\n",
      "          Conv2d-207           [-1, 32, 14, 14]          36,864\n",
      "      DenseLayer-208          [-1, 928, 14, 14]               0\n",
      "     BatchNorm2d-209          [-1, 928, 14, 14]           1,856\n",
      "          Conv2d-210          [-1, 128, 14, 14]         118,784\n",
      "     BatchNorm2d-211          [-1, 128, 14, 14]             256\n",
      "          Conv2d-212           [-1, 32, 14, 14]          36,864\n",
      "      DenseLayer-213          [-1, 960, 14, 14]               0\n",
      "     BatchNorm2d-214          [-1, 960, 14, 14]           1,920\n",
      "          Conv2d-215          [-1, 128, 14, 14]         122,880\n",
      "     BatchNorm2d-216          [-1, 128, 14, 14]             256\n",
      "          Conv2d-217           [-1, 32, 14, 14]          36,864\n",
      "      DenseLayer-218          [-1, 992, 14, 14]               0\n",
      "     BatchNorm2d-219          [-1, 992, 14, 14]           1,984\n",
      "          Conv2d-220          [-1, 128, 14, 14]         126,976\n",
      "     BatchNorm2d-221          [-1, 128, 14, 14]             256\n",
      "          Conv2d-222           [-1, 32, 14, 14]          36,864\n",
      "      DenseLayer-223         [-1, 1024, 14, 14]               0\n",
      "      DenseBlock-224         [-1, 1024, 14, 14]               0\n",
      "     BatchNorm2d-225         [-1, 1024, 14, 14]           2,048\n",
      "          Conv2d-226          [-1, 512, 14, 14]         524,288\n",
      "       AvgPool2d-227            [-1, 512, 7, 7]               0\n",
      " TransitionLayer-228            [-1, 512, 7, 7]               0\n",
      "     BatchNorm2d-229            [-1, 512, 7, 7]           1,024\n",
      "          Conv2d-230            [-1, 128, 7, 7]          65,536\n",
      "     BatchNorm2d-231            [-1, 128, 7, 7]             256\n",
      "          Conv2d-232             [-1, 32, 7, 7]          36,864\n",
      "      DenseLayer-233            [-1, 544, 7, 7]               0\n",
      "     BatchNorm2d-234            [-1, 544, 7, 7]           1,088\n",
      "          Conv2d-235            [-1, 128, 7, 7]          69,632\n",
      "     BatchNorm2d-236            [-1, 128, 7, 7]             256\n",
      "          Conv2d-237             [-1, 32, 7, 7]          36,864\n",
      "      DenseLayer-238            [-1, 576, 7, 7]               0\n",
      "     BatchNorm2d-239            [-1, 576, 7, 7]           1,152\n",
      "          Conv2d-240            [-1, 128, 7, 7]          73,728\n",
      "     BatchNorm2d-241            [-1, 128, 7, 7]             256\n",
      "          Conv2d-242             [-1, 32, 7, 7]          36,864\n",
      "      DenseLayer-243            [-1, 608, 7, 7]               0\n",
      "     BatchNorm2d-244            [-1, 608, 7, 7]           1,216\n",
      "          Conv2d-245            [-1, 128, 7, 7]          77,824\n",
      "     BatchNorm2d-246            [-1, 128, 7, 7]             256\n",
      "          Conv2d-247             [-1, 32, 7, 7]          36,864\n",
      "      DenseLayer-248            [-1, 640, 7, 7]               0\n",
      "     BatchNorm2d-249            [-1, 640, 7, 7]           1,280\n",
      "          Conv2d-250            [-1, 128, 7, 7]          81,920\n",
      "     BatchNorm2d-251            [-1, 128, 7, 7]             256\n",
      "          Conv2d-252             [-1, 32, 7, 7]          36,864\n",
      "      DenseLayer-253            [-1, 672, 7, 7]               0\n",
      "     BatchNorm2d-254            [-1, 672, 7, 7]           1,344\n",
      "          Conv2d-255            [-1, 128, 7, 7]          86,016\n",
      "     BatchNorm2d-256            [-1, 128, 7, 7]             256\n",
      "          Conv2d-257             [-1, 32, 7, 7]          36,864\n",
      "      DenseLayer-258            [-1, 704, 7, 7]               0\n",
      "     BatchNorm2d-259            [-1, 704, 7, 7]           1,408\n",
      "          Conv2d-260            [-1, 128, 7, 7]          90,112\n",
      "     BatchNorm2d-261            [-1, 128, 7, 7]             256\n",
      "          Conv2d-262             [-1, 32, 7, 7]          36,864\n",
      "      DenseLayer-263            [-1, 736, 7, 7]               0\n",
      "     BatchNorm2d-264            [-1, 736, 7, 7]           1,472\n",
      "          Conv2d-265            [-1, 128, 7, 7]          94,208\n",
      "     BatchNorm2d-266            [-1, 128, 7, 7]             256\n",
      "          Conv2d-267             [-1, 32, 7, 7]          36,864\n",
      "      DenseLayer-268            [-1, 768, 7, 7]               0\n",
      "     BatchNorm2d-269            [-1, 768, 7, 7]           1,536\n",
      "          Conv2d-270            [-1, 128, 7, 7]          98,304\n",
      "     BatchNorm2d-271            [-1, 128, 7, 7]             256\n",
      "          Conv2d-272             [-1, 32, 7, 7]          36,864\n",
      "      DenseLayer-273            [-1, 800, 7, 7]               0\n",
      "     BatchNorm2d-274            [-1, 800, 7, 7]           1,600\n",
      "          Conv2d-275            [-1, 128, 7, 7]         102,400\n",
      "     BatchNorm2d-276            [-1, 128, 7, 7]             256\n",
      "          Conv2d-277             [-1, 32, 7, 7]          36,864\n",
      "      DenseLayer-278            [-1, 832, 7, 7]               0\n",
      "     BatchNorm2d-279            [-1, 832, 7, 7]           1,664\n",
      "          Conv2d-280            [-1, 128, 7, 7]         106,496\n",
      "     BatchNorm2d-281            [-1, 128, 7, 7]             256\n",
      "          Conv2d-282             [-1, 32, 7, 7]          36,864\n",
      "      DenseLayer-283            [-1, 864, 7, 7]               0\n",
      "     BatchNorm2d-284            [-1, 864, 7, 7]           1,728\n",
      "          Conv2d-285            [-1, 128, 7, 7]         110,592\n",
      "     BatchNorm2d-286            [-1, 128, 7, 7]             256\n",
      "          Conv2d-287             [-1, 32, 7, 7]          36,864\n",
      "      DenseLayer-288            [-1, 896, 7, 7]               0\n",
      "     BatchNorm2d-289            [-1, 896, 7, 7]           1,792\n",
      "          Conv2d-290            [-1, 128, 7, 7]         114,688\n",
      "     BatchNorm2d-291            [-1, 128, 7, 7]             256\n",
      "          Conv2d-292             [-1, 32, 7, 7]          36,864\n",
      "      DenseLayer-293            [-1, 928, 7, 7]               0\n",
      "     BatchNorm2d-294            [-1, 928, 7, 7]           1,856\n",
      "          Conv2d-295            [-1, 128, 7, 7]         118,784\n",
      "     BatchNorm2d-296            [-1, 128, 7, 7]             256\n",
      "          Conv2d-297             [-1, 32, 7, 7]          36,864\n",
      "      DenseLayer-298            [-1, 960, 7, 7]               0\n",
      "     BatchNorm2d-299            [-1, 960, 7, 7]           1,920\n",
      "          Conv2d-300            [-1, 128, 7, 7]         122,880\n",
      "     BatchNorm2d-301            [-1, 128, 7, 7]             256\n",
      "          Conv2d-302             [-1, 32, 7, 7]          36,864\n",
      "      DenseLayer-303            [-1, 992, 7, 7]               0\n",
      "     BatchNorm2d-304            [-1, 992, 7, 7]           1,984\n",
      "          Conv2d-305            [-1, 128, 7, 7]         126,976\n",
      "     BatchNorm2d-306            [-1, 128, 7, 7]             256\n",
      "          Conv2d-307             [-1, 32, 7, 7]          36,864\n",
      "      DenseLayer-308           [-1, 1024, 7, 7]               0\n",
      "      DenseBlock-309           [-1, 1024, 7, 7]               0\n",
      "     BatchNorm2d-310           [-1, 1024, 7, 7]           2,048\n",
      "AdaptiveAvgPool2d-311           [-1, 1024, 1, 1]               0\n",
      "         Flatten-312                 [-1, 1024]               0\n",
      "          Linear-313                    [-1, 4]           4,100\n",
      "================================================================\n",
      "Total params: 6,957,956\n",
      "Trainable params: 6,957,956\n",
      "Non-trainable params: 0\n",
      "----------------------------------------------------------------\n",
      "Input size (MB): 0.57\n",
      "Forward/backward pass size (MB): 265.11\n",
      "Params size (MB): 26.54\n",
      "Estimated Total Size (MB): 292.23\n",
      "----------------------------------------------------------------\n"
     ]
    }
   ],
   "source": [
    "# -----------------------------\n",
    "# 2. Define DenseNet-121 Model from Scratch\n",
    "# -----------------------------\n",
    "\n",
    "class DenseLayer(nn.Module):\n",
    "    \"\"\"Single Dense Layer: BN-ReLU-Conv(1x1)-BN-ReLU-Conv(3x3)\"\"\"\n",
    "    def __init__(self, in_channels, growth_rate=32, bn_size=4):\n",
    "        super().__init__()\n",
    "        self.bn1 = nn.BatchNorm2d(in_channels)\n",
    "        self.conv1 = nn.Conv2d(in_channels, bn_size * growth_rate, \n",
    "                              kernel_size=1, bias=False)\n",
    "        self.bn2 = nn.BatchNorm2d(bn_size * growth_rate)\n",
    "        self.conv2 = nn.Conv2d(bn_size * growth_rate, growth_rate, \n",
    "                              kernel_size=3, padding=1, bias=False)\n",
    "        \n",
    "    def forward(self, x):\n",
    "        # First convolution block\n",
    "        out = F.relu(self.bn1(x))\n",
    "        out = self.conv1(out)\n",
    "        \n",
    "        # Second convolution block\n",
    "        out = F.relu(self.bn2(out))\n",
    "        out = self.conv2(out)\n",
    "        \n",
    "        # Concatenate input with output (dense connection)\n",
    "        return torch.cat([x, out], 1)\n",
    "\n",
    "class DenseBlock(nn.Module):\n",
    "    \"\"\"Dense Block containing multiple Dense Layers\"\"\"\n",
    "    def __init__(self, num_layers, in_channels, growth_rate=32, bn_size=4):\n",
    "        super().__init__()\n",
    "        self.layers = nn.ModuleList()\n",
    "        \n",
    "        for i in range(num_layers):\n",
    "            layer = DenseLayer(in_channels + i * growth_rate, growth_rate, bn_size)\n",
    "            self.layers.append(layer)\n",
    "            \n",
    "    def forward(self, x):\n",
    "        for layer in self.layers:\n",
    "            x = layer(x)\n",
    "        return x\n",
    "\n",
    "class TransitionLayer(nn.Module):\n",
    "    \"\"\"Transition Layer: BN-ReLU-Conv(1x1)-AvgPool(2x2)\"\"\"\n",
    "    def __init__(self, in_channels, out_channels):\n",
    "        super().__init__()\n",
    "        self.bn = nn.BatchNorm2d(in_channels)\n",
    "        self.conv = nn.Conv2d(in_channels, out_channels, kernel_size=1, bias=False)\n",
    "        self.pool = nn.AvgPool2d(kernel_size=2, stride=2)\n",
    "        \n",
    "    def forward(self, x):\n",
    "        out = F.relu(self.bn(x))\n",
    "        out = self.conv(out)\n",
    "        out = self.pool(out)\n",
    "        return out\n",
    "\n",
    "class MyDenseNet121(nn.Module):\n",
    "    \"\"\"DenseNet-121 Implementation from Scratch\"\"\"\n",
    "    def __init__(self, in_channels=3, classes=4, growth_rate=32, \n",
    "                 block_config=[6, 12, 24, 16], bn_size=4, compression_rate=0.5):\n",
    "        super().__init__()\n",
    "        \n",
    "        # Initial convolution layer\n",
    "        self.initial_conv = nn.Conv2d(in_channels, 64, kernel_size=7, \n",
    "                                     stride=2, padding=3, bias=False)\n",
    "        self.initial_bn = nn.BatchNorm2d(64)\n",
    "        self.initial_pool = nn.MaxPool2d(kernel_size=3, stride=2, padding=1)\n",
    "        \n",
    "        # Dense blocks and transition layers\n",
    "        num_features = 64\n",
    "        \n",
    "        # Dense Block 1 + Transition 1\n",
    "        self.dense_block1 = DenseBlock(block_config[0], num_features, growth_rate, bn_size)\n",
    "        num_features += block_config[0] * growth_rate\n",
    "        out_features = int(num_features * compression_rate)\n",
    "        self.transition1 = TransitionLayer(num_features, out_features)\n",
    "        num_features = out_features\n",
    "        \n",
    "        # Dense Block 2 + Transition 2\n",
    "        self.dense_block2 = DenseBlock(block_config[1], num_features, growth_rate, bn_size)\n",
    "        num_features += block_config[1] * growth_rate\n",
    "        out_features = int(num_features * compression_rate)\n",
    "        self.transition2 = TransitionLayer(num_features, out_features)\n",
    "        num_features = out_features\n",
    "        \n",
    "        # Dense Block 3 + Transition 3\n",
    "        self.dense_block3 = DenseBlock(block_config[2], num_features, growth_rate, bn_size)\n",
    "        num_features += block_config[2] * growth_rate\n",
    "        out_features = int(num_features * compression_rate)\n",
    "        self.transition3 = TransitionLayer(num_features, out_features)\n",
    "        num_features = out_features\n",
    "        \n",
    "        # Dense Block 4 (no transition after last block)\n",
    "        self.dense_block4 = DenseBlock(block_config[3], num_features, growth_rate, bn_size)\n",
    "        num_features += block_config[3] * growth_rate\n",
    "        \n",
    "        # Final layers\n",
    "        self.final_bn = nn.BatchNorm2d(num_features)\n",
    "        self.global_pool = nn.AdaptiveAvgPool2d((1, 1))\n",
    "        self.flatten = nn.Flatten()\n",
    "        self.classifier = nn.Linear(num_features, classes)\n",
    "        \n",
    "        # Initialize weights\n",
    "        self._initialize_weights()\n",
    "    \n",
    "    def _initialize_weights(self):\n",
    "        \"\"\"Initialize weights using He initialization for conv layers\"\"\"\n",
    "        for m in self.modules():\n",
    "            if isinstance(m, nn.Conv2d):\n",
    "                nn.init.kaiming_normal_(m.weight, mode='fan_out', nonlinearity='relu')\n",
    "            elif isinstance(m, nn.BatchNorm2d):\n",
    "                nn.init.constant_(m.weight, 1)\n",
    "                nn.init.constant_(m.bias, 0)\n",
    "            elif isinstance(m, nn.Linear):\n",
    "                nn.init.normal_(m.weight, 0, 0.01)\n",
    "                nn.init.constant_(m.bias, 0)\n",
    "    \n",
    "    def forward(self, x):\n",
    "        # Initial convolution and pooling\n",
    "        x = self.initial_conv(x)\n",
    "        x = F.relu(self.initial_bn(x))\n",
    "        x = self.initial_pool(x)\n",
    "        \n",
    "        # Dense blocks with transitions\n",
    "        x = self.dense_block1(x)\n",
    "        x = self.transition1(x)\n",
    "        \n",
    "        x = self.dense_block2(x)\n",
    "        x = self.transition2(x)\n",
    "        \n",
    "        x = self.dense_block3(x)\n",
    "        x = self.transition3(x)\n",
    "        \n",
    "        x = self.dense_block4(x)\n",
    "        \n",
    "        # Final classification layers\n",
    "        x = F.relu(self.final_bn(x))\n",
    "        x = self.global_pool(x)\n",
    "        x = self.flatten(x)\n",
    "        x = self.classifier(x)\n",
    "        \n",
    "        return x\n",
    "\n",
    "# -----------------------------\n",
    "# 3. Training Setup\n",
    "# -----------------------------\n",
    "device = torch.device(\"cuda\" if torch.cuda.is_available() else \"cpu\")\n",
    "model = MyDenseNet121(3, classes=len(classes)).to(device)\n",
    "\n",
    "criterion = nn.CrossEntropyLoss()\n",
    "optimizer = torch.optim.Adam(model.parameters(), lr=0.001)\n",
    "\n",
    "print(\"DenseNet-121 Model Summary:\")\n",
    "summary(model, (3, 224, 224))"
   ]
  },
  {
   "cell_type": "code",
   "execution_count": 8,
   "id": "81975f70",
   "metadata": {
    "execution": {
     "iopub.execute_input": "2025-09-06T13:34:28.624948Z",
     "iopub.status.busy": "2025-09-06T13:34:28.624491Z",
     "iopub.status.idle": "2025-09-06T16:09:31.942929Z",
     "shell.execute_reply": "2025-09-06T16:09:31.942214Z"
    },
    "papermill": {
     "duration": 9303.325122,
     "end_time": "2025-09-06T16:09:31.945658",
     "exception": false,
     "start_time": "2025-09-06T13:34:28.620536",
     "status": "completed"
    },
    "tags": []
   },
   "outputs": [
    {
     "name": "stdout",
     "output_type": "stream",
     "text": [
      "\n",
      "🚀 Starting DenseNet-121 Training for 50 epochs...\n",
      "================================================================================\n",
      "\n",
      "📈 Epoch 1/50\n",
      "--------------------------------------------------\n",
      "🔄 Training Phase...\n"
     ]
    },
    {
     "name": "stderr",
     "output_type": "stream",
     "text": [
      "Training: 100%|██████████████████████████████| 311/311 [03:16<00:00,  1.58it/s, Loss=1.0161, Acc=0.5754, GPU=0.1GB]\n"
     ]
    },
    {
     "name": "stdout",
     "output_type": "stream",
     "text": [
      "✅ Training completed in 196.30s\n",
      "🔍 Validation Phase...\n"
     ]
    },
    {
     "name": "stderr",
     "output_type": "stream",
     "text": [
      "Validation: 100%|██████████████████████████████| 81/81 [00:33<00:00,  2.42it/s, Loss=0.9717, Acc=0.5943]\n"
     ]
    },
    {
     "name": "stdout",
     "output_type": "stream",
     "text": [
      "✅ Validation completed in 33.51s\n",
      "🌟 New best DenseNet-121 model found! Validation Accuracy: 0.5943\n",
      "\n",
      "📊 Epoch 1 Summary:\n",
      "│ Train Loss: 1.0161 | Train Acc: 0.5754\n",
      "│ Val Loss:   0.9717 | Val Acc:   0.5943\n",
      "│ Train Time: 196.30s | Val Time: 33.51s\n",
      "│ Total Epoch Time: 229.82s\n",
      "│ Best Val Acc: 0.5943 (Epoch 1)\n",
      "│ GPU Memory: 0.1GB / 4.5GB\n",
      "================================================================================\n",
      "\n",
      "📈 Epoch 2/50\n",
      "--------------------------------------------------\n",
      "🔄 Training Phase...\n"
     ]
    },
    {
     "name": "stderr",
     "output_type": "stream",
     "text": [
      "Training: 100%|██████████████████████████████| 311/311 [02:40<00:00,  1.94it/s, Loss=0.8195, Acc=0.6635, GPU=0.1GB]\n"
     ]
    },
    {
     "name": "stdout",
     "output_type": "stream",
     "text": [
      "✅ Training completed in 160.47s\n",
      "🔍 Validation Phase...\n"
     ]
    },
    {
     "name": "stderr",
     "output_type": "stream",
     "text": [
      "Validation: 100%|██████████████████████████████| 81/81 [00:23<00:00,  3.44it/s, Loss=0.8435, Acc=0.6696]\n"
     ]
    },
    {
     "name": "stdout",
     "output_type": "stream",
     "text": [
      "✅ Validation completed in 23.58s\n",
      "🌟 New best DenseNet-121 model found! Validation Accuracy: 0.6696\n",
      "\n",
      "📊 Epoch 2 Summary:\n",
      "│ Train Loss: 0.8195 | Train Acc: 0.6635\n",
      "│ Val Loss:   0.8435 | Val Acc:   0.6696\n",
      "│ Train Time: 160.47s | Val Time: 23.58s\n",
      "│ Total Epoch Time: 184.06s\n",
      "│ Best Val Acc: 0.6696 (Epoch 2)\n",
      "│ GPU Memory: 0.1GB / 4.5GB\n",
      "================================================================================\n",
      "\n",
      "📈 Epoch 3/50\n",
      "--------------------------------------------------\n",
      "🔄 Training Phase...\n"
     ]
    },
    {
     "name": "stderr",
     "output_type": "stream",
     "text": [
      "Training: 100%|██████████████████████████████| 311/311 [02:39<00:00,  1.95it/s, Loss=0.6693, Acc=0.7297, GPU=0.1GB]\n"
     ]
    },
    {
     "name": "stdout",
     "output_type": "stream",
     "text": [
      "✅ Training completed in 159.41s\n",
      "🔍 Validation Phase...\n"
     ]
    },
    {
     "name": "stderr",
     "output_type": "stream",
     "text": [
      "Validation: 100%|██████████████████████████████| 81/81 [00:23<00:00,  3.43it/s, Loss=0.7683, Acc=0.7073]\n"
     ]
    },
    {
     "name": "stdout",
     "output_type": "stream",
     "text": [
      "✅ Validation completed in 23.60s\n",
      "🌟 New best DenseNet-121 model found! Validation Accuracy: 0.7073\n",
      "\n",
      "📊 Epoch 3 Summary:\n",
      "│ Train Loss: 0.6693 | Train Acc: 0.7297\n",
      "│ Val Loss:   0.7683 | Val Acc:   0.7073\n",
      "│ Train Time: 159.41s | Val Time: 23.60s\n",
      "│ Total Epoch Time: 183.02s\n",
      "│ Best Val Acc: 0.7073 (Epoch 3)\n",
      "│ GPU Memory: 0.1GB / 4.5GB\n",
      "================================================================================\n",
      "\n",
      "📈 Epoch 4/50\n",
      "--------------------------------------------------\n",
      "🔄 Training Phase...\n"
     ]
    },
    {
     "name": "stderr",
     "output_type": "stream",
     "text": [
      "Training: 100%|██████████████████████████████| 311/311 [02:40<00:00,  1.94it/s, Loss=0.5144, Acc=0.8061, GPU=0.1GB]\n"
     ]
    },
    {
     "name": "stdout",
     "output_type": "stream",
     "text": [
      "✅ Training completed in 160.44s\n",
      "🔍 Validation Phase...\n"
     ]
    },
    {
     "name": "stderr",
     "output_type": "stream",
     "text": [
      "Validation: 100%|██████████████████████████████| 81/81 [00:23<00:00,  3.42it/s, Loss=0.8766, Acc=0.6782]\n"
     ]
    },
    {
     "name": "stdout",
     "output_type": "stream",
     "text": [
      "✅ Validation completed in 23.70s\n",
      "\n",
      "📊 Epoch 4 Summary:\n",
      "│ Train Loss: 0.5144 | Train Acc: 0.8061\n",
      "│ Val Loss:   0.8766 | Val Acc:   0.6782\n",
      "│ Train Time: 160.44s | Val Time: 23.70s\n",
      "│ Total Epoch Time: 184.14s\n",
      "│ Best Val Acc: 0.7073 (Epoch 3)\n",
      "│ GPU Memory: 0.1GB / 4.5GB\n",
      "================================================================================\n",
      "\n",
      "📈 Epoch 5/50\n",
      "--------------------------------------------------\n",
      "🔄 Training Phase...\n"
     ]
    },
    {
     "name": "stderr",
     "output_type": "stream",
     "text": [
      "Training: 100%|██████████████████████████████| 311/311 [02:40<00:00,  1.94it/s, Loss=0.3538, Acc=0.8708, GPU=0.1GB]\n"
     ]
    },
    {
     "name": "stdout",
     "output_type": "stream",
     "text": [
      "✅ Training completed in 160.20s\n",
      "🔍 Validation Phase...\n"
     ]
    },
    {
     "name": "stderr",
     "output_type": "stream",
     "text": [
      "Validation: 100%|██████████████████████████████| 81/81 [00:24<00:00,  3.35it/s, Loss=0.9180, Acc=0.7155]\n"
     ]
    },
    {
     "name": "stdout",
     "output_type": "stream",
     "text": [
      "✅ Validation completed in 24.18s\n",
      "🌟 New best DenseNet-121 model found! Validation Accuracy: 0.7155\n",
      "\n",
      "📊 Epoch 5 Summary:\n",
      "│ Train Loss: 0.3538 | Train Acc: 0.8708\n",
      "│ Val Loss:   0.9180 | Val Acc:   0.7155\n",
      "│ Train Time: 160.20s | Val Time: 24.18s\n",
      "│ Total Epoch Time: 184.39s\n",
      "│ Best Val Acc: 0.7155 (Epoch 5)\n",
      "│ GPU Memory: 0.1GB / 4.5GB\n",
      "================================================================================\n",
      "\n",
      "📈 Epoch 6/50\n",
      "--------------------------------------------------\n",
      "🔄 Training Phase...\n"
     ]
    },
    {
     "name": "stderr",
     "output_type": "stream",
     "text": [
      "Training: 100%|██████████████████████████████| 311/311 [02:40<00:00,  1.94it/s, Loss=0.2274, Acc=0.9219, GPU=0.1GB]\n"
     ]
    },
    {
     "name": "stdout",
     "output_type": "stream",
     "text": [
      "✅ Training completed in 160.32s\n",
      "🔍 Validation Phase...\n"
     ]
    },
    {
     "name": "stderr",
     "output_type": "stream",
     "text": [
      "Validation: 100%|██████████████████████████████| 81/81 [00:23<00:00,  3.46it/s, Loss=1.0286, Acc=0.7473]\n"
     ]
    },
    {
     "name": "stdout",
     "output_type": "stream",
     "text": [
      "✅ Validation completed in 23.42s\n",
      "🌟 New best DenseNet-121 model found! Validation Accuracy: 0.7473\n",
      "\n",
      "📊 Epoch 6 Summary:\n",
      "│ Train Loss: 0.2274 | Train Acc: 0.9219\n",
      "│ Val Loss:   1.0286 | Val Acc:   0.7473\n",
      "│ Train Time: 160.32s | Val Time: 23.42s\n",
      "│ Total Epoch Time: 183.75s\n",
      "│ Best Val Acc: 0.7473 (Epoch 6)\n",
      "│ GPU Memory: 0.1GB / 4.5GB\n",
      "================================================================================\n",
      "\n",
      "📈 Epoch 7/50\n",
      "--------------------------------------------------\n",
      "🔄 Training Phase...\n"
     ]
    },
    {
     "name": "stderr",
     "output_type": "stream",
     "text": [
      "Training: 100%|██████████████████████████████| 311/311 [02:40<00:00,  1.94it/s, Loss=0.1579, Acc=0.9437, GPU=0.1GB]\n"
     ]
    },
    {
     "name": "stdout",
     "output_type": "stream",
     "text": [
      "✅ Training completed in 160.02s\n",
      "🔍 Validation Phase...\n"
     ]
    },
    {
     "name": "stderr",
     "output_type": "stream",
     "text": [
      "Validation: 100%|██████████████████████████████| 81/81 [00:23<00:00,  3.45it/s, Loss=1.2529, Acc=0.7189]\n"
     ]
    },
    {
     "name": "stdout",
     "output_type": "stream",
     "text": [
      "✅ Validation completed in 23.48s\n",
      "\n",
      "📊 Epoch 7 Summary:\n",
      "│ Train Loss: 0.1579 | Train Acc: 0.9437\n",
      "│ Val Loss:   1.2529 | Val Acc:   0.7189\n",
      "│ Train Time: 160.02s | Val Time: 23.48s\n",
      "│ Total Epoch Time: 183.51s\n",
      "│ Best Val Acc: 0.7473 (Epoch 6)\n",
      "│ GPU Memory: 0.1GB / 4.5GB\n",
      "================================================================================\n",
      "\n",
      "📈 Epoch 8/50\n",
      "--------------------------------------------------\n",
      "🔄 Training Phase...\n"
     ]
    },
    {
     "name": "stderr",
     "output_type": "stream",
     "text": [
      "Training: 100%|██████████████████████████████| 311/311 [02:39<00:00,  1.95it/s, Loss=0.0968, Acc=0.9658, GPU=0.1GB]\n"
     ]
    },
    {
     "name": "stdout",
     "output_type": "stream",
     "text": [
      "✅ Training completed in 159.17s\n",
      "🔍 Validation Phase...\n"
     ]
    },
    {
     "name": "stderr",
     "output_type": "stream",
     "text": [
      "Validation: 100%|██████████████████████████████| 81/81 [00:23<00:00,  3.44it/s, Loss=1.2429, Acc=0.7376]\n"
     ]
    },
    {
     "name": "stdout",
     "output_type": "stream",
     "text": [
      "✅ Validation completed in 23.53s\n",
      "\n",
      "📊 Epoch 8 Summary:\n",
      "│ Train Loss: 0.0968 | Train Acc: 0.9658\n",
      "│ Val Loss:   1.2429 | Val Acc:   0.7376\n",
      "│ Train Time: 159.17s | Val Time: 23.53s\n",
      "│ Total Epoch Time: 182.71s\n",
      "│ Best Val Acc: 0.7473 (Epoch 6)\n",
      "│ GPU Memory: 0.1GB / 4.5GB\n",
      "================================================================================\n",
      "\n",
      "📈 Epoch 9/50\n",
      "--------------------------------------------------\n",
      "🔄 Training Phase...\n"
     ]
    },
    {
     "name": "stderr",
     "output_type": "stream",
     "text": [
      "Training: 100%|██████████████████████████████| 311/311 [02:39<00:00,  1.95it/s, Loss=0.0772, Acc=0.9733, GPU=0.1GB]\n"
     ]
    },
    {
     "name": "stdout",
     "output_type": "stream",
     "text": [
      "✅ Training completed in 159.23s\n",
      "🔍 Validation Phase...\n"
     ]
    },
    {
     "name": "stderr",
     "output_type": "stream",
     "text": [
      "Validation: 100%|██████████████████████████████| 81/81 [00:23<00:00,  3.44it/s, Loss=1.4709, Acc=0.7081]\n"
     ]
    },
    {
     "name": "stdout",
     "output_type": "stream",
     "text": [
      "✅ Validation completed in 23.55s\n",
      "\n",
      "📊 Epoch 9 Summary:\n",
      "│ Train Loss: 0.0772 | Train Acc: 0.9733\n",
      "│ Val Loss:   1.4709 | Val Acc:   0.7081\n",
      "│ Train Time: 159.23s | Val Time: 23.55s\n",
      "│ Total Epoch Time: 182.79s\n",
      "│ Best Val Acc: 0.7473 (Epoch 6)\n",
      "│ GPU Memory: 0.1GB / 4.5GB\n",
      "================================================================================\n",
      "\n",
      "📈 Epoch 10/50\n",
      "--------------------------------------------------\n",
      "🔄 Training Phase...\n"
     ]
    },
    {
     "name": "stderr",
     "output_type": "stream",
     "text": [
      "Training: 100%|██████████████████████████████| 311/311 [02:39<00:00,  1.95it/s, Loss=0.0584, Acc=0.9815, GPU=0.1GB]\n"
     ]
    },
    {
     "name": "stdout",
     "output_type": "stream",
     "text": [
      "✅ Training completed in 159.54s\n",
      "🔍 Validation Phase...\n"
     ]
    },
    {
     "name": "stderr",
     "output_type": "stream",
     "text": [
      "Validation: 100%|██████████████████████████████| 81/81 [00:23<00:00,  3.47it/s, Loss=1.5131, Acc=0.7162]\n"
     ]
    },
    {
     "name": "stdout",
     "output_type": "stream",
     "text": [
      "✅ Validation completed in 23.37s\n",
      "\n",
      "📊 Epoch 10 Summary:\n",
      "│ Train Loss: 0.0584 | Train Acc: 0.9815\n",
      "│ Val Loss:   1.5131 | Val Acc:   0.7162\n",
      "│ Train Time: 159.54s | Val Time: 23.37s\n",
      "│ Total Epoch Time: 182.92s\n",
      "│ Best Val Acc: 0.7473 (Epoch 6)\n",
      "│ GPU Memory: 0.1GB / 4.5GB\n",
      "================================================================================\n",
      "\n",
      "📈 Epoch 11/50\n",
      "--------------------------------------------------\n",
      "🔄 Training Phase...\n"
     ]
    },
    {
     "name": "stderr",
     "output_type": "stream",
     "text": [
      "Training: 100%|██████████████████████████████| 311/311 [02:39<00:00,  1.95it/s, Loss=0.0602, Acc=0.9828, GPU=0.1GB]\n"
     ]
    },
    {
     "name": "stdout",
     "output_type": "stream",
     "text": [
      "✅ Training completed in 159.73s\n",
      "🔍 Validation Phase...\n"
     ]
    },
    {
     "name": "stderr",
     "output_type": "stream",
     "text": [
      "Validation: 100%|██████████████████████████████| 81/81 [00:23<00:00,  3.42it/s, Loss=1.1496, Acc=0.7492]\n"
     ]
    },
    {
     "name": "stdout",
     "output_type": "stream",
     "text": [
      "✅ Validation completed in 23.69s\n",
      "🌟 New best DenseNet-121 model found! Validation Accuracy: 0.7492\n",
      "\n",
      "📊 Epoch 11 Summary:\n",
      "│ Train Loss: 0.0602 | Train Acc: 0.9828\n",
      "│ Val Loss:   1.1496 | Val Acc:   0.7492\n",
      "│ Train Time: 159.73s | Val Time: 23.69s\n",
      "│ Total Epoch Time: 183.42s\n",
      "│ Best Val Acc: 0.7492 (Epoch 11)\n",
      "│ GPU Memory: 0.1GB / 4.5GB\n",
      "================================================================================\n",
      "\n",
      "📈 Epoch 12/50\n",
      "--------------------------------------------------\n",
      "🔄 Training Phase...\n"
     ]
    },
    {
     "name": "stderr",
     "output_type": "stream",
     "text": [
      "Training: 100%|██████████████████████████████| 311/311 [02:39<00:00,  1.94it/s, Loss=0.0617, Acc=0.9799, GPU=0.1GB]\n"
     ]
    },
    {
     "name": "stdout",
     "output_type": "stream",
     "text": [
      "✅ Training completed in 159.98s\n",
      "🔍 Validation Phase...\n"
     ]
    },
    {
     "name": "stderr",
     "output_type": "stream",
     "text": [
      "Validation: 100%|██████████████████████████████| 81/81 [00:23<00:00,  3.42it/s, Loss=1.1544, Acc=0.7372]\n"
     ]
    },
    {
     "name": "stdout",
     "output_type": "stream",
     "text": [
      "✅ Validation completed in 23.69s\n",
      "\n",
      "📊 Epoch 12 Summary:\n",
      "│ Train Loss: 0.0617 | Train Acc: 0.9799\n",
      "│ Val Loss:   1.1544 | Val Acc:   0.7372\n",
      "│ Train Time: 159.98s | Val Time: 23.69s\n",
      "│ Total Epoch Time: 183.67s\n",
      "│ Best Val Acc: 0.7492 (Epoch 11)\n",
      "│ GPU Memory: 0.1GB / 4.5GB\n",
      "================================================================================\n",
      "\n",
      "📈 Epoch 13/50\n",
      "--------------------------------------------------\n",
      "🔄 Training Phase...\n"
     ]
    },
    {
     "name": "stderr",
     "output_type": "stream",
     "text": [
      "Training: 100%|██████████████████████████████| 311/311 [02:39<00:00,  1.95it/s, Loss=0.0335, Acc=0.9886, GPU=0.1GB]\n"
     ]
    },
    {
     "name": "stdout",
     "output_type": "stream",
     "text": [
      "✅ Training completed in 159.36s\n",
      "🔍 Validation Phase...\n"
     ]
    },
    {
     "name": "stderr",
     "output_type": "stream",
     "text": [
      "Validation: 100%|██████████████████████████████| 81/81 [00:23<00:00,  3.43it/s, Loss=1.3935, Acc=0.7372]\n"
     ]
    },
    {
     "name": "stdout",
     "output_type": "stream",
     "text": [
      "✅ Validation completed in 23.58s\n",
      "\n",
      "📊 Epoch 13 Summary:\n",
      "│ Train Loss: 0.0335 | Train Acc: 0.9886\n",
      "│ Val Loss:   1.3935 | Val Acc:   0.7372\n",
      "│ Train Time: 159.36s | Val Time: 23.58s\n",
      "│ Total Epoch Time: 182.95s\n",
      "│ Best Val Acc: 0.7492 (Epoch 11)\n",
      "│ GPU Memory: 0.1GB / 4.5GB\n",
      "================================================================================\n",
      "\n",
      "📈 Epoch 14/50\n",
      "--------------------------------------------------\n",
      "🔄 Training Phase...\n"
     ]
    },
    {
     "name": "stderr",
     "output_type": "stream",
     "text": [
      "Training: 100%|██████████████████████████████| 311/311 [02:39<00:00,  1.94it/s, Loss=0.0317, Acc=0.9892, GPU=0.1GB]\n"
     ]
    },
    {
     "name": "stdout",
     "output_type": "stream",
     "text": [
      "✅ Training completed in 160.00s\n",
      "🔍 Validation Phase...\n"
     ]
    },
    {
     "name": "stderr",
     "output_type": "stream",
     "text": [
      "Validation: 100%|██████████████████████████████| 81/81 [00:23<00:00,  3.45it/s, Loss=1.3342, Acc=0.7220]\n"
     ]
    },
    {
     "name": "stdout",
     "output_type": "stream",
     "text": [
      "✅ Validation completed in 23.46s\n",
      "\n",
      "📊 Epoch 14 Summary:\n",
      "│ Train Loss: 0.0317 | Train Acc: 0.9892\n",
      "│ Val Loss:   1.3342 | Val Acc:   0.7220\n",
      "│ Train Time: 160.00s | Val Time: 23.46s\n",
      "│ Total Epoch Time: 183.46s\n",
      "│ Best Val Acc: 0.7492 (Epoch 11)\n",
      "│ GPU Memory: 0.1GB / 4.5GB\n",
      "================================================================================\n",
      "\n",
      "📈 Epoch 15/50\n",
      "--------------------------------------------------\n",
      "🔄 Training Phase...\n"
     ]
    },
    {
     "name": "stderr",
     "output_type": "stream",
     "text": [
      "Training: 100%|██████████████████████████████| 311/311 [02:39<00:00,  1.95it/s, Loss=0.0551, Acc=0.9811, GPU=0.1GB]\n"
     ]
    },
    {
     "name": "stdout",
     "output_type": "stream",
     "text": [
      "✅ Training completed in 159.65s\n",
      "🔍 Validation Phase...\n"
     ]
    },
    {
     "name": "stderr",
     "output_type": "stream",
     "text": [
      "Validation: 100%|██████████████████████████████| 81/81 [00:23<00:00,  3.44it/s, Loss=1.3871, Acc=0.7174]\n"
     ]
    },
    {
     "name": "stdout",
     "output_type": "stream",
     "text": [
      "✅ Validation completed in 23.56s\n",
      "\n",
      "📊 Epoch 15 Summary:\n",
      "│ Train Loss: 0.0551 | Train Acc: 0.9811\n",
      "│ Val Loss:   1.3871 | Val Acc:   0.7174\n",
      "│ Train Time: 159.65s | Val Time: 23.56s\n",
      "│ Total Epoch Time: 183.21s\n",
      "│ Best Val Acc: 0.7492 (Epoch 11)\n",
      "│ GPU Memory: 0.1GB / 4.5GB\n",
      "================================================================================\n",
      "\n",
      "📈 Epoch 16/50\n",
      "--------------------------------------------------\n",
      "🔄 Training Phase...\n"
     ]
    },
    {
     "name": "stderr",
     "output_type": "stream",
     "text": [
      "Training: 100%|██████████████████████████████| 311/311 [02:40<00:00,  1.94it/s, Loss=0.0341, Acc=0.9905, GPU=0.1GB]\n"
     ]
    },
    {
     "name": "stdout",
     "output_type": "stream",
     "text": [
      "✅ Training completed in 160.10s\n",
      "🔍 Validation Phase...\n"
     ]
    },
    {
     "name": "stderr",
     "output_type": "stream",
     "text": [
      "Validation: 100%|██████████████████████████████| 81/81 [00:23<00:00,  3.40it/s, Loss=1.4495, Acc=0.7341]\n"
     ]
    },
    {
     "name": "stdout",
     "output_type": "stream",
     "text": [
      "✅ Validation completed in 23.85s\n",
      "\n",
      "📊 Epoch 16 Summary:\n",
      "│ Train Loss: 0.0341 | Train Acc: 0.9905\n",
      "│ Val Loss:   1.4495 | Val Acc:   0.7341\n",
      "│ Train Time: 160.10s | Val Time: 23.85s\n",
      "│ Total Epoch Time: 183.96s\n",
      "│ Best Val Acc: 0.7492 (Epoch 11)\n",
      "│ GPU Memory: 0.1GB / 4.5GB\n",
      "================================================================================\n",
      "\n",
      "📈 Epoch 17/50\n",
      "--------------------------------------------------\n",
      "🔄 Training Phase...\n"
     ]
    },
    {
     "name": "stderr",
     "output_type": "stream",
     "text": [
      "Training: 100%|██████████████████████████████| 311/311 [02:40<00:00,  1.93it/s, Loss=0.0243, Acc=0.9920, GPU=0.1GB]\n"
     ]
    },
    {
     "name": "stdout",
     "output_type": "stream",
     "text": [
      "✅ Training completed in 160.77s\n",
      "🔍 Validation Phase...\n"
     ]
    },
    {
     "name": "stderr",
     "output_type": "stream",
     "text": [
      "Validation: 100%|██████████████████████████████| 81/81 [00:23<00:00,  3.39it/s, Loss=1.3547, Acc=0.7488]\n"
     ]
    },
    {
     "name": "stdout",
     "output_type": "stream",
     "text": [
      "✅ Validation completed in 23.87s\n",
      "\n",
      "📊 Epoch 17 Summary:\n",
      "│ Train Loss: 0.0243 | Train Acc: 0.9920\n",
      "│ Val Loss:   1.3547 | Val Acc:   0.7488\n",
      "│ Train Time: 160.77s | Val Time: 23.87s\n",
      "│ Total Epoch Time: 184.64s\n",
      "│ Best Val Acc: 0.7492 (Epoch 11)\n",
      "│ GPU Memory: 0.1GB / 4.5GB\n",
      "================================================================================\n",
      "\n",
      "📈 Epoch 18/50\n",
      "--------------------------------------------------\n",
      "🔄 Training Phase...\n"
     ]
    },
    {
     "name": "stderr",
     "output_type": "stream",
     "text": [
      "Training: 100%|██████████████████████████████| 311/311 [02:45<00:00,  1.87it/s, Loss=0.0132, Acc=0.9954, GPU=0.1GB]\n"
     ]
    },
    {
     "name": "stdout",
     "output_type": "stream",
     "text": [
      "✅ Training completed in 165.94s\n",
      "🔍 Validation Phase...\n"
     ]
    },
    {
     "name": "stderr",
     "output_type": "stream",
     "text": [
      "Validation: 100%|██████████████████████████████| 81/81 [00:26<00:00,  3.09it/s, Loss=1.6270, Acc=0.7337]\n"
     ]
    },
    {
     "name": "stdout",
     "output_type": "stream",
     "text": [
      "✅ Validation completed in 26.22s\n",
      "\n",
      "📊 Epoch 18 Summary:\n",
      "│ Train Loss: 0.0132 | Train Acc: 0.9954\n",
      "│ Val Loss:   1.6270 | Val Acc:   0.7337\n",
      "│ Train Time: 165.94s | Val Time: 26.22s\n",
      "│ Total Epoch Time: 192.16s\n",
      "│ Best Val Acc: 0.7492 (Epoch 11)\n",
      "│ GPU Memory: 0.1GB / 4.5GB\n",
      "================================================================================\n",
      "\n",
      "📈 Epoch 19/50\n",
      "--------------------------------------------------\n",
      "🔄 Training Phase...\n"
     ]
    },
    {
     "name": "stderr",
     "output_type": "stream",
     "text": [
      "Training: 100%|██████████████████████████████| 311/311 [02:45<00:00,  1.88it/s, Loss=0.0741, Acc=0.9740, GPU=0.1GB]\n"
     ]
    },
    {
     "name": "stdout",
     "output_type": "stream",
     "text": [
      "✅ Training completed in 165.13s\n",
      "🔍 Validation Phase...\n"
     ]
    },
    {
     "name": "stderr",
     "output_type": "stream",
     "text": [
      "Validation: 100%|██████████████████████████████| 81/81 [00:24<00:00,  3.26it/s, Loss=1.5192, Acc=0.7364]\n"
     ]
    },
    {
     "name": "stdout",
     "output_type": "stream",
     "text": [
      "✅ Validation completed in 24.83s\n",
      "\n",
      "📊 Epoch 19 Summary:\n",
      "│ Train Loss: 0.0741 | Train Acc: 0.9740\n",
      "│ Val Loss:   1.5192 | Val Acc:   0.7364\n",
      "│ Train Time: 165.13s | Val Time: 24.83s\n",
      "│ Total Epoch Time: 189.96s\n",
      "│ Best Val Acc: 0.7492 (Epoch 11)\n",
      "│ GPU Memory: 0.1GB / 4.5GB\n",
      "================================================================================\n",
      "\n",
      "📈 Epoch 20/50\n",
      "--------------------------------------------------\n",
      "🔄 Training Phase...\n"
     ]
    },
    {
     "name": "stderr",
     "output_type": "stream",
     "text": [
      "Training: 100%|██████████████████████████████| 311/311 [02:40<00:00,  1.93it/s, Loss=0.0173, Acc=0.9941, GPU=0.1GB]\n"
     ]
    },
    {
     "name": "stdout",
     "output_type": "stream",
     "text": [
      "✅ Training completed in 160.99s\n",
      "🔍 Validation Phase...\n"
     ]
    },
    {
     "name": "stderr",
     "output_type": "stream",
     "text": [
      "Validation: 100%|██████████████████████████████| 81/81 [00:23<00:00,  3.44it/s, Loss=1.3999, Acc=0.7411]\n"
     ]
    },
    {
     "name": "stdout",
     "output_type": "stream",
     "text": [
      "✅ Validation completed in 23.52s\n",
      "\n",
      "📊 Epoch 20 Summary:\n",
      "│ Train Loss: 0.0173 | Train Acc: 0.9941\n",
      "│ Val Loss:   1.3999 | Val Acc:   0.7411\n",
      "│ Train Time: 160.99s | Val Time: 23.52s\n",
      "│ Total Epoch Time: 184.51s\n",
      "│ Best Val Acc: 0.7492 (Epoch 11)\n",
      "│ GPU Memory: 0.1GB / 4.5GB\n",
      "================================================================================\n",
      "\n",
      "📈 Epoch 21/50\n",
      "--------------------------------------------------\n",
      "🔄 Training Phase...\n"
     ]
    },
    {
     "name": "stderr",
     "output_type": "stream",
     "text": [
      "Training: 100%|██████████████████████████████| 311/311 [02:40<00:00,  1.94it/s, Loss=0.0167, Acc=0.9937, GPU=0.1GB]\n"
     ]
    },
    {
     "name": "stdout",
     "output_type": "stream",
     "text": [
      "✅ Training completed in 160.35s\n",
      "🔍 Validation Phase...\n"
     ]
    },
    {
     "name": "stderr",
     "output_type": "stream",
     "text": [
      "Validation: 100%|██████████████████████████████| 81/81 [00:23<00:00,  3.42it/s, Loss=1.6785, Acc=0.7092]\n"
     ]
    },
    {
     "name": "stdout",
     "output_type": "stream",
     "text": [
      "✅ Validation completed in 23.66s\n",
      "\n",
      "📊 Epoch 21 Summary:\n",
      "│ Train Loss: 0.0167 | Train Acc: 0.9937\n",
      "│ Val Loss:   1.6785 | Val Acc:   0.7092\n",
      "│ Train Time: 160.35s | Val Time: 23.66s\n",
      "│ Total Epoch Time: 184.01s\n",
      "│ Best Val Acc: 0.7492 (Epoch 11)\n",
      "│ GPU Memory: 0.1GB / 4.5GB\n",
      "================================================================================\n",
      "\n",
      "📈 Epoch 22/50\n",
      "--------------------------------------------------\n",
      "🔄 Training Phase...\n"
     ]
    },
    {
     "name": "stderr",
     "output_type": "stream",
     "text": [
      "Training: 100%|██████████████████████████████| 311/311 [02:39<00:00,  1.95it/s, Loss=0.0391, Acc=0.9873, GPU=0.1GB]\n"
     ]
    },
    {
     "name": "stdout",
     "output_type": "stream",
     "text": [
      "✅ Training completed in 159.47s\n",
      "🔍 Validation Phase...\n"
     ]
    },
    {
     "name": "stderr",
     "output_type": "stream",
     "text": [
      "Validation: 100%|██████████████████████████████| 81/81 [00:23<00:00,  3.47it/s, Loss=1.5728, Acc=0.7286]\n"
     ]
    },
    {
     "name": "stdout",
     "output_type": "stream",
     "text": [
      "✅ Validation completed in 23.35s\n",
      "\n",
      "📊 Epoch 22 Summary:\n",
      "│ Train Loss: 0.0391 | Train Acc: 0.9873\n",
      "│ Val Loss:   1.5728 | Val Acc:   0.7286\n",
      "│ Train Time: 159.47s | Val Time: 23.35s\n",
      "│ Total Epoch Time: 182.83s\n",
      "│ Best Val Acc: 0.7492 (Epoch 11)\n",
      "│ GPU Memory: 0.1GB / 4.5GB\n",
      "================================================================================\n",
      "\n",
      "📈 Epoch 23/50\n",
      "--------------------------------------------------\n",
      "🔄 Training Phase...\n"
     ]
    },
    {
     "name": "stderr",
     "output_type": "stream",
     "text": [
      "Training: 100%|██████████████████████████████| 311/311 [02:39<00:00,  1.95it/s, Loss=0.0061, Acc=0.9982, GPU=0.1GB]\n"
     ]
    },
    {
     "name": "stdout",
     "output_type": "stream",
     "text": [
      "✅ Training completed in 159.64s\n",
      "🔍 Validation Phase...\n"
     ]
    },
    {
     "name": "stderr",
     "output_type": "stream",
     "text": [
      "Validation: 100%|██████████████████████████████| 81/81 [00:23<00:00,  3.45it/s, Loss=1.6634, Acc=0.7453]\n"
     ]
    },
    {
     "name": "stdout",
     "output_type": "stream",
     "text": [
      "✅ Validation completed in 23.47s\n",
      "\n",
      "📊 Epoch 23 Summary:\n",
      "│ Train Loss: 0.0061 | Train Acc: 0.9982\n",
      "│ Val Loss:   1.6634 | Val Acc:   0.7453\n",
      "│ Train Time: 159.64s | Val Time: 23.47s\n",
      "│ Total Epoch Time: 183.12s\n",
      "│ Best Val Acc: 0.7492 (Epoch 11)\n",
      "│ GPU Memory: 0.1GB / 4.5GB\n",
      "================================================================================\n",
      "\n",
      "📈 Epoch 24/50\n",
      "--------------------------------------------------\n",
      "🔄 Training Phase...\n"
     ]
    },
    {
     "name": "stderr",
     "output_type": "stream",
     "text": [
      "Training: 100%|██████████████████████████████| 311/311 [02:40<00:00,  1.94it/s, Loss=0.0254, Acc=0.9925, GPU=0.1GB]\n"
     ]
    },
    {
     "name": "stdout",
     "output_type": "stream",
     "text": [
      "✅ Training completed in 160.25s\n",
      "🔍 Validation Phase...\n"
     ]
    },
    {
     "name": "stderr",
     "output_type": "stream",
     "text": [
      "Validation: 100%|██████████████████████████████| 81/81 [00:23<00:00,  3.42it/s, Loss=1.5007, Acc=0.7252]\n"
     ]
    },
    {
     "name": "stdout",
     "output_type": "stream",
     "text": [
      "✅ Validation completed in 23.69s\n",
      "\n",
      "📊 Epoch 24 Summary:\n",
      "│ Train Loss: 0.0254 | Train Acc: 0.9925\n",
      "│ Val Loss:   1.5007 | Val Acc:   0.7252\n",
      "│ Train Time: 160.25s | Val Time: 23.69s\n",
      "│ Total Epoch Time: 183.94s\n",
      "│ Best Val Acc: 0.7492 (Epoch 11)\n",
      "│ GPU Memory: 0.1GB / 4.5GB\n",
      "================================================================================\n",
      "\n",
      "📈 Epoch 25/50\n",
      "--------------------------------------------------\n",
      "🔄 Training Phase...\n"
     ]
    },
    {
     "name": "stderr",
     "output_type": "stream",
     "text": [
      "Training: 100%|██████████████████████████████| 311/311 [02:41<00:00,  1.93it/s, Loss=0.0464, Acc=0.9874, GPU=0.1GB]\n"
     ]
    },
    {
     "name": "stdout",
     "output_type": "stream",
     "text": [
      "✅ Training completed in 161.23s\n",
      "🔍 Validation Phase...\n"
     ]
    },
    {
     "name": "stderr",
     "output_type": "stream",
     "text": [
      "Validation: 100%|██████████████████████████████| 81/81 [00:23<00:00,  3.38it/s, Loss=1.6458, Acc=0.7345]\n"
     ]
    },
    {
     "name": "stdout",
     "output_type": "stream",
     "text": [
      "✅ Validation completed in 23.97s\n",
      "\n",
      "📊 Epoch 25 Summary:\n",
      "│ Train Loss: 0.0464 | Train Acc: 0.9874\n",
      "│ Val Loss:   1.6458 | Val Acc:   0.7345\n",
      "│ Train Time: 161.23s | Val Time: 23.97s\n",
      "│ Total Epoch Time: 185.20s\n",
      "│ Best Val Acc: 0.7492 (Epoch 11)\n",
      "│ GPU Memory: 0.1GB / 4.5GB\n",
      "================================================================================\n",
      "\n",
      "📈 Epoch 26/50\n",
      "--------------------------------------------------\n",
      "🔄 Training Phase...\n"
     ]
    },
    {
     "name": "stderr",
     "output_type": "stream",
     "text": [
      "Training: 100%|██████████████████████████████| 311/311 [02:39<00:00,  1.95it/s, Loss=0.0317, Acc=0.9892, GPU=0.1GB]\n"
     ]
    },
    {
     "name": "stdout",
     "output_type": "stream",
     "text": [
      "✅ Training completed in 159.51s\n",
      "🔍 Validation Phase...\n"
     ]
    },
    {
     "name": "stderr",
     "output_type": "stream",
     "text": [
      "Validation: 100%|██████████████████████████████| 81/81 [00:23<00:00,  3.44it/s, Loss=1.3331, Acc=0.7628]\n"
     ]
    },
    {
     "name": "stdout",
     "output_type": "stream",
     "text": [
      "✅ Validation completed in 23.57s\n",
      "🌟 New best DenseNet-121 model found! Validation Accuracy: 0.7628\n",
      "\n",
      "📊 Epoch 26 Summary:\n",
      "│ Train Loss: 0.0317 | Train Acc: 0.9892\n",
      "│ Val Loss:   1.3331 | Val Acc:   0.7628\n",
      "│ Train Time: 159.51s | Val Time: 23.57s\n",
      "│ Total Epoch Time: 183.08s\n",
      "│ Best Val Acc: 0.7628 (Epoch 26)\n",
      "│ GPU Memory: 0.1GB / 4.5GB\n",
      "================================================================================\n",
      "\n",
      "📈 Epoch 27/50\n",
      "--------------------------------------------------\n",
      "🔄 Training Phase...\n"
     ]
    },
    {
     "name": "stderr",
     "output_type": "stream",
     "text": [
      "Training: 100%|██████████████████████████████| 311/311 [02:40<00:00,  1.94it/s, Loss=0.0075, Acc=0.9981, GPU=0.1GB]\n"
     ]
    },
    {
     "name": "stdout",
     "output_type": "stream",
     "text": [
      "✅ Training completed in 160.06s\n",
      "🔍 Validation Phase...\n"
     ]
    },
    {
     "name": "stderr",
     "output_type": "stream",
     "text": [
      "Validation: 100%|██████████████████████████████| 81/81 [00:23<00:00,  3.45it/s, Loss=1.5605, Acc=0.7422]\n"
     ]
    },
    {
     "name": "stdout",
     "output_type": "stream",
     "text": [
      "✅ Validation completed in 23.49s\n",
      "\n",
      "📊 Epoch 27 Summary:\n",
      "│ Train Loss: 0.0075 | Train Acc: 0.9981\n",
      "│ Val Loss:   1.5605 | Val Acc:   0.7422\n",
      "│ Train Time: 160.06s | Val Time: 23.49s\n",
      "│ Total Epoch Time: 183.55s\n",
      "│ Best Val Acc: 0.7628 (Epoch 26)\n",
      "│ GPU Memory: 0.1GB / 4.5GB\n",
      "================================================================================\n",
      "\n",
      "📈 Epoch 28/50\n",
      "--------------------------------------------------\n",
      "🔄 Training Phase...\n"
     ]
    },
    {
     "name": "stderr",
     "output_type": "stream",
     "text": [
      "Training: 100%|██████████████████████████████| 311/311 [02:39<00:00,  1.94it/s, Loss=0.0031, Acc=0.9992, GPU=0.1GB]\n"
     ]
    },
    {
     "name": "stdout",
     "output_type": "stream",
     "text": [
      "✅ Training completed in 159.98s\n",
      "🔍 Validation Phase...\n"
     ]
    },
    {
     "name": "stderr",
     "output_type": "stream",
     "text": [
      "Validation: 100%|██████████████████████████████| 81/81 [00:23<00:00,  3.46it/s, Loss=1.5399, Acc=0.7492]\n"
     ]
    },
    {
     "name": "stdout",
     "output_type": "stream",
     "text": [
      "✅ Validation completed in 23.44s\n",
      "\n",
      "📊 Epoch 28 Summary:\n",
      "│ Train Loss: 0.0031 | Train Acc: 0.9992\n",
      "│ Val Loss:   1.5399 | Val Acc:   0.7492\n",
      "│ Train Time: 159.98s | Val Time: 23.44s\n",
      "│ Total Epoch Time: 183.42s\n",
      "│ Best Val Acc: 0.7628 (Epoch 26)\n",
      "│ GPU Memory: 0.1GB / 4.5GB\n",
      "================================================================================\n",
      "\n",
      "📈 Epoch 29/50\n",
      "--------------------------------------------------\n",
      "🔄 Training Phase...\n"
     ]
    },
    {
     "name": "stderr",
     "output_type": "stream",
     "text": [
      "Training: 100%|██████████████████████████████| 311/311 [02:39<00:00,  1.95it/s, Loss=0.0342, Acc=0.9908, GPU=0.1GB]\n"
     ]
    },
    {
     "name": "stdout",
     "output_type": "stream",
     "text": [
      "✅ Training completed in 159.45s\n",
      "🔍 Validation Phase...\n"
     ]
    },
    {
     "name": "stderr",
     "output_type": "stream",
     "text": [
      "Validation: 100%|██████████████████████████████| 81/81 [00:23<00:00,  3.45it/s, Loss=1.4001, Acc=0.7341]\n"
     ]
    },
    {
     "name": "stdout",
     "output_type": "stream",
     "text": [
      "✅ Validation completed in 23.50s\n",
      "\n",
      "📊 Epoch 29 Summary:\n",
      "│ Train Loss: 0.0342 | Train Acc: 0.9908\n",
      "│ Val Loss:   1.4001 | Val Acc:   0.7341\n",
      "│ Train Time: 159.45s | Val Time: 23.50s\n",
      "│ Total Epoch Time: 182.96s\n",
      "│ Best Val Acc: 0.7628 (Epoch 26)\n",
      "│ GPU Memory: 0.1GB / 4.5GB\n",
      "================================================================================\n",
      "\n",
      "📈 Epoch 30/50\n",
      "--------------------------------------------------\n",
      "🔄 Training Phase...\n"
     ]
    },
    {
     "name": "stderr",
     "output_type": "stream",
     "text": [
      "Training: 100%|██████████████████████████████| 311/311 [02:39<00:00,  1.95it/s, Loss=0.0305, Acc=0.9897, GPU=0.1GB]\n"
     ]
    },
    {
     "name": "stdout",
     "output_type": "stream",
     "text": [
      "✅ Training completed in 159.43s\n",
      "🔍 Validation Phase...\n"
     ]
    },
    {
     "name": "stderr",
     "output_type": "stream",
     "text": [
      "Validation: 100%|██████████████████████████████| 81/81 [00:23<00:00,  3.41it/s, Loss=1.4649, Acc=0.7484]\n"
     ]
    },
    {
     "name": "stdout",
     "output_type": "stream",
     "text": [
      "✅ Validation completed in 23.73s\n",
      "\n",
      "📊 Epoch 30 Summary:\n",
      "│ Train Loss: 0.0305 | Train Acc: 0.9897\n",
      "│ Val Loss:   1.4649 | Val Acc:   0.7484\n",
      "│ Train Time: 159.43s | Val Time: 23.73s\n",
      "│ Total Epoch Time: 183.16s\n",
      "│ Best Val Acc: 0.7628 (Epoch 26)\n",
      "│ GPU Memory: 0.1GB / 4.5GB\n",
      "================================================================================\n",
      "\n",
      "📈 Epoch 31/50\n",
      "--------------------------------------------------\n",
      "🔄 Training Phase...\n"
     ]
    },
    {
     "name": "stderr",
     "output_type": "stream",
     "text": [
      "Training: 100%|██████████████████████████████| 311/311 [02:39<00:00,  1.95it/s, Loss=0.0040, Acc=0.9991, GPU=0.1GB]\n"
     ]
    },
    {
     "name": "stdout",
     "output_type": "stream",
     "text": [
      "✅ Training completed in 159.54s\n",
      "🔍 Validation Phase...\n"
     ]
    },
    {
     "name": "stderr",
     "output_type": "stream",
     "text": [
      "Validation: 100%|██████████████████████████████| 81/81 [00:23<00:00,  3.44it/s, Loss=1.5075, Acc=0.7531]\n"
     ]
    },
    {
     "name": "stdout",
     "output_type": "stream",
     "text": [
      "✅ Validation completed in 23.56s\n",
      "\n",
      "📊 Epoch 31 Summary:\n",
      "│ Train Loss: 0.0040 | Train Acc: 0.9991\n",
      "│ Val Loss:   1.5075 | Val Acc:   0.7531\n",
      "│ Train Time: 159.54s | Val Time: 23.56s\n",
      "│ Total Epoch Time: 183.11s\n",
      "│ Best Val Acc: 0.7628 (Epoch 26)\n",
      "│ GPU Memory: 0.1GB / 4.5GB\n",
      "================================================================================\n",
      "\n",
      "📈 Epoch 32/50\n",
      "--------------------------------------------------\n",
      "🔄 Training Phase...\n"
     ]
    },
    {
     "name": "stderr",
     "output_type": "stream",
     "text": [
      "Training: 100%|██████████████████████████████| 311/311 [02:40<00:00,  1.93it/s, Loss=0.0161, Acc=0.9951, GPU=0.1GB]\n"
     ]
    },
    {
     "name": "stdout",
     "output_type": "stream",
     "text": [
      "✅ Training completed in 160.82s\n",
      "🔍 Validation Phase...\n"
     ]
    },
    {
     "name": "stderr",
     "output_type": "stream",
     "text": [
      "Validation: 100%|██████████████████████████████| 81/81 [00:23<00:00,  3.39it/s, Loss=1.8139, Acc=0.7298]\n"
     ]
    },
    {
     "name": "stdout",
     "output_type": "stream",
     "text": [
      "✅ Validation completed in 23.89s\n",
      "\n",
      "📊 Epoch 32 Summary:\n",
      "│ Train Loss: 0.0161 | Train Acc: 0.9951\n",
      "│ Val Loss:   1.8139 | Val Acc:   0.7298\n",
      "│ Train Time: 160.82s | Val Time: 23.89s\n",
      "│ Total Epoch Time: 184.71s\n",
      "│ Best Val Acc: 0.7628 (Epoch 26)\n",
      "│ GPU Memory: 0.1GB / 4.5GB\n",
      "================================================================================\n",
      "\n",
      "📈 Epoch 33/50\n",
      "--------------------------------------------------\n",
      "🔄 Training Phase...\n"
     ]
    },
    {
     "name": "stderr",
     "output_type": "stream",
     "text": [
      "Training: 100%|██████████████████████████████| 311/311 [02:39<00:00,  1.95it/s, Loss=0.0242, Acc=0.9909, GPU=0.1GB]\n"
     ]
    },
    {
     "name": "stdout",
     "output_type": "stream",
     "text": [
      "✅ Training completed in 159.66s\n",
      "🔍 Validation Phase...\n"
     ]
    },
    {
     "name": "stderr",
     "output_type": "stream",
     "text": [
      "Validation: 100%|██████████████████████████████| 81/81 [00:24<00:00,  3.31it/s, Loss=1.5107, Acc=0.7310]\n"
     ]
    },
    {
     "name": "stdout",
     "output_type": "stream",
     "text": [
      "✅ Validation completed in 24.44s\n",
      "\n",
      "📊 Epoch 33 Summary:\n",
      "│ Train Loss: 0.0242 | Train Acc: 0.9909\n",
      "│ Val Loss:   1.5107 | Val Acc:   0.7310\n",
      "│ Train Time: 159.66s | Val Time: 24.44s\n",
      "│ Total Epoch Time: 184.10s\n",
      "│ Best Val Acc: 0.7628 (Epoch 26)\n",
      "│ GPU Memory: 0.1GB / 4.5GB\n",
      "================================================================================\n",
      "\n",
      "📈 Epoch 34/50\n",
      "--------------------------------------------------\n",
      "🔄 Training Phase...\n"
     ]
    },
    {
     "name": "stderr",
     "output_type": "stream",
     "text": [
      "Training: 100%|██████████████████████████████| 311/311 [02:40<00:00,  1.94it/s, Loss=0.0201, Acc=0.9935, GPU=0.1GB]\n"
     ]
    },
    {
     "name": "stdout",
     "output_type": "stream",
     "text": [
      "✅ Training completed in 160.03s\n",
      "🔍 Validation Phase...\n"
     ]
    },
    {
     "name": "stderr",
     "output_type": "stream",
     "text": [
      "Validation: 100%|██████████████████████████████| 81/81 [00:23<00:00,  3.47it/s, Loss=1.5396, Acc=0.7352]\n"
     ]
    },
    {
     "name": "stdout",
     "output_type": "stream",
     "text": [
      "✅ Validation completed in 23.38s\n",
      "\n",
      "📊 Epoch 34 Summary:\n",
      "│ Train Loss: 0.0201 | Train Acc: 0.9935\n",
      "│ Val Loss:   1.5396 | Val Acc:   0.7352\n",
      "│ Train Time: 160.03s | Val Time: 23.38s\n",
      "│ Total Epoch Time: 183.41s\n",
      "│ Best Val Acc: 0.7628 (Epoch 26)\n",
      "│ GPU Memory: 0.1GB / 4.5GB\n",
      "================================================================================\n",
      "\n",
      "📈 Epoch 35/50\n",
      "--------------------------------------------------\n",
      "🔄 Training Phase...\n"
     ]
    },
    {
     "name": "stderr",
     "output_type": "stream",
     "text": [
      "Training: 100%|██████████████████████████████| 311/311 [02:39<00:00,  1.95it/s, Loss=0.0070, Acc=0.9989, GPU=0.1GB]\n"
     ]
    },
    {
     "name": "stdout",
     "output_type": "stream",
     "text": [
      "✅ Training completed in 159.43s\n",
      "🔍 Validation Phase...\n"
     ]
    },
    {
     "name": "stderr",
     "output_type": "stream",
     "text": [
      "Validation: 100%|██████████████████████████████| 81/81 [00:23<00:00,  3.38it/s, Loss=1.5445, Acc=0.7473]\n"
     ]
    },
    {
     "name": "stdout",
     "output_type": "stream",
     "text": [
      "✅ Validation completed in 24.00s\n",
      "\n",
      "📊 Epoch 35 Summary:\n",
      "│ Train Loss: 0.0070 | Train Acc: 0.9989\n",
      "│ Val Loss:   1.5445 | Val Acc:   0.7473\n",
      "│ Train Time: 159.43s | Val Time: 24.00s\n",
      "│ Total Epoch Time: 183.43s\n",
      "│ Best Val Acc: 0.7628 (Epoch 26)\n",
      "│ GPU Memory: 0.1GB / 4.5GB\n",
      "================================================================================\n",
      "\n",
      "📈 Epoch 36/50\n",
      "--------------------------------------------------\n",
      "🔄 Training Phase...\n"
     ]
    },
    {
     "name": "stderr",
     "output_type": "stream",
     "text": [
      "Training: 100%|██████████████████████████████| 311/311 [02:39<00:00,  1.95it/s, Loss=0.0385, Acc=0.9884, GPU=0.1GB]\n"
     ]
    },
    {
     "name": "stdout",
     "output_type": "stream",
     "text": [
      "✅ Training completed in 159.76s\n",
      "🔍 Validation Phase...\n"
     ]
    },
    {
     "name": "stderr",
     "output_type": "stream",
     "text": [
      "Validation: 100%|██████████████████████████████| 81/81 [00:23<00:00,  3.44it/s, Loss=1.5756, Acc=0.7325]\n"
     ]
    },
    {
     "name": "stdout",
     "output_type": "stream",
     "text": [
      "✅ Validation completed in 23.55s\n",
      "\n",
      "📊 Epoch 36 Summary:\n",
      "│ Train Loss: 0.0385 | Train Acc: 0.9884\n",
      "│ Val Loss:   1.5756 | Val Acc:   0.7325\n",
      "│ Train Time: 159.76s | Val Time: 23.55s\n",
      "│ Total Epoch Time: 183.32s\n",
      "│ Best Val Acc: 0.7628 (Epoch 26)\n",
      "│ GPU Memory: 0.1GB / 4.5GB\n",
      "================================================================================\n",
      "\n",
      "📈 Epoch 37/50\n",
      "--------------------------------------------------\n",
      "🔄 Training Phase...\n"
     ]
    },
    {
     "name": "stderr",
     "output_type": "stream",
     "text": [
      "Training: 100%|██████████████████████████████| 311/311 [02:39<00:00,  1.95it/s, Loss=0.0050, Acc=0.9987, GPU=0.1GB]\n"
     ]
    },
    {
     "name": "stdout",
     "output_type": "stream",
     "text": [
      "✅ Training completed in 159.50s\n",
      "🔍 Validation Phase...\n"
     ]
    },
    {
     "name": "stderr",
     "output_type": "stream",
     "text": [
      "Validation: 100%|██████████████████████████████| 81/81 [00:23<00:00,  3.47it/s, Loss=1.4802, Acc=0.7543]\n"
     ]
    },
    {
     "name": "stdout",
     "output_type": "stream",
     "text": [
      "✅ Validation completed in 23.37s\n",
      "\n",
      "📊 Epoch 37 Summary:\n",
      "│ Train Loss: 0.0050 | Train Acc: 0.9987\n",
      "│ Val Loss:   1.4802 | Val Acc:   0.7543\n",
      "│ Train Time: 159.50s | Val Time: 23.37s\n",
      "│ Total Epoch Time: 182.87s\n",
      "│ Best Val Acc: 0.7628 (Epoch 26)\n",
      "│ GPU Memory: 0.1GB / 4.5GB\n",
      "================================================================================\n",
      "\n",
      "📈 Epoch 38/50\n",
      "--------------------------------------------------\n",
      "🔄 Training Phase...\n"
     ]
    },
    {
     "name": "stderr",
     "output_type": "stream",
     "text": [
      "Training: 100%|██████████████████████████████| 311/311 [02:39<00:00,  1.95it/s, Loss=0.0032, Acc=0.9992, GPU=0.1GB]\n"
     ]
    },
    {
     "name": "stdout",
     "output_type": "stream",
     "text": [
      "✅ Training completed in 159.90s\n",
      "🔍 Validation Phase...\n"
     ]
    },
    {
     "name": "stderr",
     "output_type": "stream",
     "text": [
      "Validation: 100%|██████████████████████████████| 81/81 [00:23<00:00,  3.38it/s, Loss=1.5837, Acc=0.7411]\n"
     ]
    },
    {
     "name": "stdout",
     "output_type": "stream",
     "text": [
      "✅ Validation completed in 23.94s\n",
      "\n",
      "📊 Epoch 38 Summary:\n",
      "│ Train Loss: 0.0032 | Train Acc: 0.9992\n",
      "│ Val Loss:   1.5837 | Val Acc:   0.7411\n",
      "│ Train Time: 159.90s | Val Time: 23.94s\n",
      "│ Total Epoch Time: 183.84s\n",
      "│ Best Val Acc: 0.7628 (Epoch 26)\n",
      "│ GPU Memory: 0.1GB / 4.5GB\n",
      "================================================================================\n",
      "\n",
      "📈 Epoch 39/50\n",
      "--------------------------------------------------\n",
      "🔄 Training Phase...\n"
     ]
    },
    {
     "name": "stderr",
     "output_type": "stream",
     "text": [
      "Training: 100%|██████████████████████████████| 311/311 [02:40<00:00,  1.94it/s, Loss=0.0007, Acc=0.9999, GPU=0.1GB]\n"
     ]
    },
    {
     "name": "stdout",
     "output_type": "stream",
     "text": [
      "✅ Training completed in 160.20s\n",
      "🔍 Validation Phase...\n"
     ]
    },
    {
     "name": "stderr",
     "output_type": "stream",
     "text": [
      "Validation: 100%|██████████████████████████████| 81/81 [00:23<00:00,  3.45it/s, Loss=1.6070, Acc=0.7461]\n"
     ]
    },
    {
     "name": "stdout",
     "output_type": "stream",
     "text": [
      "✅ Validation completed in 23.50s\n",
      "\n",
      "📊 Epoch 39 Summary:\n",
      "│ Train Loss: 0.0007 | Train Acc: 0.9999\n",
      "│ Val Loss:   1.6070 | Val Acc:   0.7461\n",
      "│ Train Time: 160.20s | Val Time: 23.50s\n",
      "│ Total Epoch Time: 183.71s\n",
      "│ Best Val Acc: 0.7628 (Epoch 26)\n",
      "│ GPU Memory: 0.1GB / 4.5GB\n",
      "================================================================================\n",
      "\n",
      "📈 Epoch 40/50\n",
      "--------------------------------------------------\n",
      "🔄 Training Phase...\n"
     ]
    },
    {
     "name": "stderr",
     "output_type": "stream",
     "text": [
      "Training: 100%|██████████████████████████████| 311/311 [02:39<00:00,  1.95it/s, Loss=0.0002, Acc=1.0000, GPU=0.1GB]\n"
     ]
    },
    {
     "name": "stdout",
     "output_type": "stream",
     "text": [
      "✅ Training completed in 159.85s\n",
      "🔍 Validation Phase...\n"
     ]
    },
    {
     "name": "stderr",
     "output_type": "stream",
     "text": [
      "Validation: 100%|██████████████████████████████| 81/81 [00:23<00:00,  3.46it/s, Loss=1.6154, Acc=0.7465]\n"
     ]
    },
    {
     "name": "stdout",
     "output_type": "stream",
     "text": [
      "✅ Validation completed in 23.40s\n",
      "\n",
      "📊 Epoch 40 Summary:\n",
      "│ Train Loss: 0.0002 | Train Acc: 1.0000\n",
      "│ Val Loss:   1.6154 | Val Acc:   0.7465\n",
      "│ Train Time: 159.85s | Val Time: 23.40s\n",
      "│ Total Epoch Time: 183.26s\n",
      "│ Best Val Acc: 0.7628 (Epoch 26)\n",
      "│ GPU Memory: 0.1GB / 4.5GB\n",
      "================================================================================\n",
      "\n",
      "📈 Epoch 41/50\n",
      "--------------------------------------------------\n",
      "🔄 Training Phase...\n"
     ]
    },
    {
     "name": "stderr",
     "output_type": "stream",
     "text": [
      "Training: 100%|██████████████████████████████| 311/311 [02:39<00:00,  1.95it/s, Loss=0.0007, Acc=0.9999, GPU=0.1GB]\n"
     ]
    },
    {
     "name": "stdout",
     "output_type": "stream",
     "text": [
      "✅ Training completed in 159.56s\n",
      "🔍 Validation Phase...\n"
     ]
    },
    {
     "name": "stderr",
     "output_type": "stream",
     "text": [
      "Validation: 100%|██████████████████████████████| 81/81 [00:23<00:00,  3.47it/s, Loss=1.6834, Acc=0.7527]\n"
     ]
    },
    {
     "name": "stdout",
     "output_type": "stream",
     "text": [
      "✅ Validation completed in 23.37s\n",
      "\n",
      "📊 Epoch 41 Summary:\n",
      "│ Train Loss: 0.0007 | Train Acc: 0.9999\n",
      "│ Val Loss:   1.6834 | Val Acc:   0.7527\n",
      "│ Train Time: 159.56s | Val Time: 23.37s\n",
      "│ Total Epoch Time: 182.94s\n",
      "│ Best Val Acc: 0.7628 (Epoch 26)\n",
      "│ GPU Memory: 0.1GB / 4.5GB\n",
      "================================================================================\n",
      "\n",
      "📈 Epoch 42/50\n",
      "--------------------------------------------------\n",
      "🔄 Training Phase...\n"
     ]
    },
    {
     "name": "stderr",
     "output_type": "stream",
     "text": [
      "Training: 100%|██████████████████████████████| 311/311 [02:39<00:00,  1.95it/s, Loss=0.0670, Acc=0.9783, GPU=0.1GB]\n"
     ]
    },
    {
     "name": "stdout",
     "output_type": "stream",
     "text": [
      "✅ Training completed in 159.71s\n",
      "🔍 Validation Phase...\n"
     ]
    },
    {
     "name": "stderr",
     "output_type": "stream",
     "text": [
      "Validation: 100%|██████████████████████████████| 81/81 [00:23<00:00,  3.43it/s, Loss=1.5509, Acc=0.7399]\n"
     ]
    },
    {
     "name": "stdout",
     "output_type": "stream",
     "text": [
      "✅ Validation completed in 23.62s\n",
      "\n",
      "📊 Epoch 42 Summary:\n",
      "│ Train Loss: 0.0670 | Train Acc: 0.9783\n",
      "│ Val Loss:   1.5509 | Val Acc:   0.7399\n",
      "│ Train Time: 159.71s | Val Time: 23.62s\n",
      "│ Total Epoch Time: 183.34s\n",
      "│ Best Val Acc: 0.7628 (Epoch 26)\n",
      "│ GPU Memory: 0.1GB / 4.5GB\n",
      "================================================================================\n",
      "\n",
      "📈 Epoch 43/50\n",
      "--------------------------------------------------\n",
      "🔄 Training Phase...\n"
     ]
    },
    {
     "name": "stderr",
     "output_type": "stream",
     "text": [
      "Training: 100%|██████████████████████████████| 311/311 [02:41<00:00,  1.92it/s, Loss=0.0163, Acc=0.9952, GPU=0.1GB]\n"
     ]
    },
    {
     "name": "stdout",
     "output_type": "stream",
     "text": [
      "✅ Training completed in 161.62s\n",
      "🔍 Validation Phase...\n"
     ]
    },
    {
     "name": "stderr",
     "output_type": "stream",
     "text": [
      "Validation: 100%|██████████████████████████████| 81/81 [00:23<00:00,  3.39it/s, Loss=1.5290, Acc=0.7512]\n"
     ]
    },
    {
     "name": "stdout",
     "output_type": "stream",
     "text": [
      "✅ Validation completed in 23.88s\n",
      "\n",
      "📊 Epoch 43 Summary:\n",
      "│ Train Loss: 0.0163 | Train Acc: 0.9952\n",
      "│ Val Loss:   1.5290 | Val Acc:   0.7512\n",
      "│ Train Time: 161.62s | Val Time: 23.88s\n",
      "│ Total Epoch Time: 185.51s\n",
      "│ Best Val Acc: 0.7628 (Epoch 26)\n",
      "│ GPU Memory: 0.1GB / 4.5GB\n",
      "================================================================================\n",
      "\n",
      "📈 Epoch 44/50\n",
      "--------------------------------------------------\n",
      "🔄 Training Phase...\n"
     ]
    },
    {
     "name": "stderr",
     "output_type": "stream",
     "text": [
      "Training: 100%|██████████████████████████████| 311/311 [02:41<00:00,  1.93it/s, Loss=0.0034, Acc=0.9994, GPU=0.1GB]\n"
     ]
    },
    {
     "name": "stdout",
     "output_type": "stream",
     "text": [
      "✅ Training completed in 161.22s\n",
      "🔍 Validation Phase...\n"
     ]
    },
    {
     "name": "stderr",
     "output_type": "stream",
     "text": [
      "Validation: 100%|██████████████████████████████| 81/81 [00:23<00:00,  3.40it/s, Loss=1.4936, Acc=0.7488]\n"
     ]
    },
    {
     "name": "stdout",
     "output_type": "stream",
     "text": [
      "✅ Validation completed in 23.82s\n",
      "\n",
      "📊 Epoch 44 Summary:\n",
      "│ Train Loss: 0.0034 | Train Acc: 0.9994\n",
      "│ Val Loss:   1.4936 | Val Acc:   0.7488\n",
      "│ Train Time: 161.22s | Val Time: 23.82s\n",
      "│ Total Epoch Time: 185.04s\n",
      "│ Best Val Acc: 0.7628 (Epoch 26)\n",
      "│ GPU Memory: 0.1GB / 4.5GB\n",
      "================================================================================\n",
      "\n",
      "📈 Epoch 45/50\n",
      "--------------------------------------------------\n",
      "🔄 Training Phase...\n"
     ]
    },
    {
     "name": "stderr",
     "output_type": "stream",
     "text": [
      "Training: 100%|██████████████████████████████| 311/311 [02:41<00:00,  1.93it/s, Loss=0.0071, Acc=0.9983, GPU=0.1GB]\n"
     ]
    },
    {
     "name": "stdout",
     "output_type": "stream",
     "text": [
      "✅ Training completed in 161.39s\n",
      "🔍 Validation Phase...\n"
     ]
    },
    {
     "name": "stderr",
     "output_type": "stream",
     "text": [
      "Validation: 100%|██████████████████████████████| 81/81 [00:23<00:00,  3.44it/s, Loss=1.5406, Acc=0.7562]\n"
     ]
    },
    {
     "name": "stdout",
     "output_type": "stream",
     "text": [
      "✅ Validation completed in 23.53s\n",
      "\n",
      "📊 Epoch 45 Summary:\n",
      "│ Train Loss: 0.0071 | Train Acc: 0.9983\n",
      "│ Val Loss:   1.5406 | Val Acc:   0.7562\n",
      "│ Train Time: 161.39s | Val Time: 23.53s\n",
      "│ Total Epoch Time: 184.92s\n",
      "│ Best Val Acc: 0.7628 (Epoch 26)\n",
      "│ GPU Memory: 0.1GB / 4.5GB\n",
      "================================================================================\n",
      "\n",
      "📈 Epoch 46/50\n",
      "--------------------------------------------------\n",
      "🔄 Training Phase...\n"
     ]
    },
    {
     "name": "stderr",
     "output_type": "stream",
     "text": [
      "Training: 100%|██████████████████████████████| 311/311 [02:43<00:00,  1.90it/s, Loss=0.0172, Acc=0.9940, GPU=0.1GB]\n"
     ]
    },
    {
     "name": "stdout",
     "output_type": "stream",
     "text": [
      "✅ Training completed in 163.60s\n",
      "🔍 Validation Phase...\n"
     ]
    },
    {
     "name": "stderr",
     "output_type": "stream",
     "text": [
      "Validation: 100%|██████████████████████████████| 81/81 [00:23<00:00,  3.43it/s, Loss=1.9809, Acc=0.7349]\n"
     ]
    },
    {
     "name": "stdout",
     "output_type": "stream",
     "text": [
      "✅ Validation completed in 23.64s\n",
      "\n",
      "📊 Epoch 46 Summary:\n",
      "│ Train Loss: 0.0172 | Train Acc: 0.9940\n",
      "│ Val Loss:   1.9809 | Val Acc:   0.7349\n",
      "│ Train Time: 163.60s | Val Time: 23.64s\n",
      "│ Total Epoch Time: 187.25s\n",
      "│ Best Val Acc: 0.7628 (Epoch 26)\n",
      "│ GPU Memory: 0.1GB / 4.5GB\n",
      "================================================================================\n",
      "\n",
      "📈 Epoch 47/50\n",
      "--------------------------------------------------\n",
      "🔄 Training Phase...\n"
     ]
    },
    {
     "name": "stderr",
     "output_type": "stream",
     "text": [
      "Training: 100%|██████████████████████████████| 311/311 [02:41<00:00,  1.93it/s, Loss=0.0199, Acc=0.9951, GPU=0.1GB]\n"
     ]
    },
    {
     "name": "stdout",
     "output_type": "stream",
     "text": [
      "✅ Training completed in 161.01s\n",
      "🔍 Validation Phase...\n"
     ]
    },
    {
     "name": "stderr",
     "output_type": "stream",
     "text": [
      "Validation: 100%|██████████████████████████████| 81/81 [00:23<00:00,  3.45it/s, Loss=1.3850, Acc=0.7442]\n"
     ]
    },
    {
     "name": "stdout",
     "output_type": "stream",
     "text": [
      "✅ Validation completed in 23.51s\n",
      "\n",
      "📊 Epoch 47 Summary:\n",
      "│ Train Loss: 0.0199 | Train Acc: 0.9951\n",
      "│ Val Loss:   1.3850 | Val Acc:   0.7442\n",
      "│ Train Time: 161.01s | Val Time: 23.51s\n",
      "│ Total Epoch Time: 184.52s\n",
      "│ Best Val Acc: 0.7628 (Epoch 26)\n",
      "│ GPU Memory: 0.1GB / 4.5GB\n",
      "================================================================================\n",
      "\n",
      "📈 Epoch 48/50\n",
      "--------------------------------------------------\n",
      "🔄 Training Phase...\n"
     ]
    },
    {
     "name": "stderr",
     "output_type": "stream",
     "text": [
      "Training: 100%|██████████████████████████████| 311/311 [02:40<00:00,  1.94it/s, Loss=0.0320, Acc=0.9896, GPU=0.1GB]\n"
     ]
    },
    {
     "name": "stdout",
     "output_type": "stream",
     "text": [
      "✅ Training completed in 160.31s\n",
      "🔍 Validation Phase...\n"
     ]
    },
    {
     "name": "stderr",
     "output_type": "stream",
     "text": [
      "Validation: 100%|██████████████████████████████| 81/81 [00:24<00:00,  3.31it/s, Loss=1.6690, Acc=0.7457]\n"
     ]
    },
    {
     "name": "stdout",
     "output_type": "stream",
     "text": [
      "✅ Validation completed in 24.48s\n",
      "\n",
      "📊 Epoch 48 Summary:\n",
      "│ Train Loss: 0.0320 | Train Acc: 0.9896\n",
      "│ Val Loss:   1.6690 | Val Acc:   0.7457\n",
      "│ Train Time: 160.31s | Val Time: 24.48s\n",
      "│ Total Epoch Time: 184.79s\n",
      "│ Best Val Acc: 0.7628 (Epoch 26)\n",
      "│ GPU Memory: 0.1GB / 4.5GB\n",
      "================================================================================\n",
      "\n",
      "📈 Epoch 49/50\n",
      "--------------------------------------------------\n",
      "🔄 Training Phase...\n"
     ]
    },
    {
     "name": "stderr",
     "output_type": "stream",
     "text": [
      "Training: 100%|██████████████████████████████| 311/311 [02:41<00:00,  1.92it/s, Loss=0.0049, Acc=0.9983, GPU=0.1GB]\n"
     ]
    },
    {
     "name": "stdout",
     "output_type": "stream",
     "text": [
      "✅ Training completed in 161.72s\n",
      "🔍 Validation Phase...\n"
     ]
    },
    {
     "name": "stderr",
     "output_type": "stream",
     "text": [
      "Validation: 100%|██████████████████████████████| 81/81 [00:24<00:00,  3.34it/s, Loss=1.6907, Acc=0.7422]\n"
     ]
    },
    {
     "name": "stdout",
     "output_type": "stream",
     "text": [
      "✅ Validation completed in 24.23s\n",
      "\n",
      "📊 Epoch 49 Summary:\n",
      "│ Train Loss: 0.0049 | Train Acc: 0.9983\n",
      "│ Val Loss:   1.6907 | Val Acc:   0.7422\n",
      "│ Train Time: 161.72s | Val Time: 24.23s\n",
      "│ Total Epoch Time: 185.96s\n",
      "│ Best Val Acc: 0.7628 (Epoch 26)\n",
      "│ GPU Memory: 0.1GB / 4.5GB\n",
      "================================================================================\n",
      "\n",
      "📈 Epoch 50/50\n",
      "--------------------------------------------------\n",
      "🔄 Training Phase...\n"
     ]
    },
    {
     "name": "stderr",
     "output_type": "stream",
     "text": [
      "Training: 100%|██████████████████████████████| 311/311 [02:42<00:00,  1.91it/s, Loss=0.0048, Acc=0.9986, GPU=0.1GB]\n"
     ]
    },
    {
     "name": "stdout",
     "output_type": "stream",
     "text": [
      "✅ Training completed in 162.75s\n",
      "🔍 Validation Phase...\n"
     ]
    },
    {
     "name": "stderr",
     "output_type": "stream",
     "text": [
      "Validation: 100%|██████████████████████████████| 81/81 [00:24<00:00,  3.30it/s, Loss=1.5699, Acc=0.7616]\n"
     ]
    },
    {
     "name": "stdout",
     "output_type": "stream",
     "text": [
      "✅ Validation completed in 24.51s\n",
      "\n",
      "📊 Epoch 50 Summary:\n",
      "│ Train Loss: 0.0048 | Train Acc: 0.9986\n",
      "│ Val Loss:   1.5699 | Val Acc:   0.7616\n",
      "│ Train Time: 162.75s | Val Time: 24.51s\n",
      "│ Total Epoch Time: 187.26s\n",
      "│ Best Val Acc: 0.7628 (Epoch 26)\n",
      "│ GPU Memory: 0.1GB / 4.5GB\n",
      "================================================================================\n",
      "\n",
      "💾 Best DenseNet-121 model saved as 'best_densenet121_model.pth'\n",
      "📊 Best model stats:\n",
      "│ Best Epoch: 26\n",
      "│ Best Val Acc: 0.7628\n",
      "\n",
      "💾 DenseNet-121 training history saved to 'densenet121_training_history.csv'\n",
      "\n",
      "🎉 DenseNet-121 Training Complete!\n",
      "Total Training Time: 9255.65s (154.3 minutes)\n",
      "Average Epoch Time: 185.11s\n",
      "\n",
      "⏱️  Epoch Timing Breakdown:\n",
      "│ Epoch 1: 229.82s\n",
      "│ Epoch 2: 184.06s\n",
      "│ Epoch 3: 183.02s\n",
      "│ Epoch 4: 184.14s\n",
      "│ Epoch 5: 184.39s\n",
      "│ Epoch 6: 183.75s\n",
      "│ Epoch 7: 183.51s\n",
      "│ Epoch 8: 182.71s\n",
      "│ Epoch 9: 182.79s\n",
      "│ Epoch 10: 182.92s\n",
      "│ Epoch 11: 183.42s\n",
      "│ Epoch 12: 183.67s\n",
      "│ Epoch 13: 182.95s\n",
      "│ Epoch 14: 183.46s\n",
      "│ Epoch 15: 183.21s\n",
      "│ Epoch 16: 183.96s\n",
      "│ Epoch 17: 184.64s\n",
      "│ Epoch 18: 192.16s\n",
      "│ Epoch 19: 189.96s\n",
      "│ Epoch 20: 184.51s\n",
      "│ Epoch 21: 184.01s\n",
      "│ Epoch 22: 182.83s\n",
      "│ Epoch 23: 183.12s\n",
      "│ Epoch 24: 183.94s\n",
      "│ Epoch 25: 185.20s\n",
      "│ Epoch 26: 183.08s\n",
      "│ Epoch 27: 183.55s\n",
      "│ Epoch 28: 183.42s\n",
      "│ Epoch 29: 182.96s\n",
      "│ Epoch 30: 183.16s\n",
      "│ Epoch 31: 183.11s\n",
      "│ Epoch 32: 184.71s\n",
      "│ Epoch 33: 184.10s\n",
      "│ Epoch 34: 183.41s\n",
      "│ Epoch 35: 183.43s\n",
      "│ Epoch 36: 183.32s\n",
      "│ Epoch 37: 182.87s\n",
      "│ Epoch 38: 183.84s\n",
      "│ Epoch 39: 183.71s\n",
      "│ Epoch 40: 183.26s\n",
      "│ Epoch 41: 182.94s\n",
      "│ Epoch 42: 183.34s\n",
      "│ Epoch 43: 185.51s\n",
      "│ Epoch 44: 185.04s\n",
      "│ Epoch 45: 184.92s\n",
      "│ Epoch 46: 187.25s\n",
      "│ Epoch 47: 184.52s\n",
      "│ Epoch 48: 184.79s\n",
      "│ Epoch 49: 185.96s\n",
      "│ Epoch 50: 187.26s\n",
      "\n",
      "🧪 Loading Best DenseNet-121 Model for Testing...\n",
      "✅ Best DenseNet-121 model from epoch 26 loaded successfully!\n"
     ]
    },
    {
     "name": "stderr",
     "output_type": "stream",
     "text": [
      "Testing DenseNet-121: 100%|██████████████████████████████| 101/101 [00:46<00:00,  2.19it/s]\n"
     ]
    },
    {
     "name": "stdout",
     "output_type": "stream",
     "text": [
      "✅ DenseNet-121 Testing completed in 46.02s\n",
      "\n",
      "📋 DenseNet-121 Classification Report:\n",
      "              precision    recall  f1-score   support\n",
      "\n",
      "     Batting       0.82      0.86      0.84      1656\n",
      "     Bowling       0.56      0.38      0.45       488\n",
      "    Fielding       0.63      0.67      0.65       560\n",
      "      Umpire       0.80      0.86      0.83       520\n",
      "\n",
      "    accuracy                           0.75      3224\n",
      "   macro avg       0.70      0.69      0.69      3224\n",
      "weighted avg       0.74      0.75      0.74      3224\n",
      "\n",
      "🎯 DenseNet-121 Test Accuracy: 0.7531\n",
      "\n",
      "📊 DenseNet-121 Model Performance Summary:\n",
      "│ Best Validation Acc:  0.7628 (Epoch 26)\n",
      "│ Final Test Accuracy:  0.7531\n",
      "│ Val-Test Gap:         0.0097\n"
     ]
    },
    {
     "data": {
      "image/png": "[encoded data removed]",
      "text/plain": [
       "<Figure size 800x600 with 2 Axes>"
      ]
     },
     "metadata": {},
     "output_type": "display_data"
    },
    {
     "data": {
      "image/png": "[encoded data removed]",
      "text/plain": [
       "<Figure size 2000x500 with 4 Axes>"
      ]
     },
     "metadata": {},
     "output_type": "display_data"
    },
    {
     "name": "stdout",
     "output_type": "stream",
     "text": [
      "\n",
      "⏰ DenseNet-121 Final Timing Summary:\n",
      "│ Total Training: 9255.65s\n",
      "│ Average per Epoch: 185.11s\n",
      "│ Testing Time: 46.02s\n",
      "│ Total Runtime: 9301.68s\n",
      "\n",
      "💾 DenseNet-121 Files saved:\n",
      "│ best_densenet121_model.pth - Best validation accuracy model\n",
      "│ densenet121_training_history.csv - Training metrics for later plotting\n"
     ]
    }
   ],
   "source": [
    "# -----------------------------\n",
    "# 4. Training Loop with Best Model Saving (Val Accuracy) - DenseNet-121\n",
    "# -----------------------------\n",
    "import pandas as pd\n",
    "from tqdm import tqdm\n",
    "import time\n",
    "\n",
    "train_losses, val_losses = [], []\n",
    "train_accs, val_accs = [], []\n",
    "epoch_times = []\n",
    "epochs = 50\n",
    "\n",
    "# Initialize best model tracking - CHANGED TO VAL_ACC\n",
    "best_val_acc = 0.0  # Changed from best_val_loss = float('inf')\n",
    "best_model_state = None\n",
    "best_epoch = 0\n",
    "\n",
    "print(f\"\\n🚀 Starting DenseNet-121 Training for {epochs} epochs...\")\n",
    "print(\"=\" * 80)\n",
    "total_start_time = time.time()\n",
    "\n",
    "for epoch in range(epochs):\n",
    "    epoch_start_time = time.time()\n",
    "    \n",
    "    print(f\"\\n📈 Epoch {epoch+1}/{epochs}\")\n",
    "    print(\"-\" * 50)\n",
    "    \n",
    "    # Training Phase\n",
    "    print(\"🔄 Training Phase...\")\n",
    "    model.train()\n",
    "    running_loss, correct, total = 0, 0, 0\n",
    "    \n",
    "    train_pbar = tqdm(train_loader, desc=f\"Training\", \n",
    "                     bar_format='{l_bar}{bar:30}{r_bar}{bar:-30b}')\n",
    "    \n",
    "    train_phase_start = time.time()\n",
    "    \n",
    "    for batch_idx, (imgs, labels) in enumerate(train_pbar):\n",
    "        imgs, labels = imgs.to(device), labels.to(device)\n",
    "        \n",
    "        optimizer.zero_grad()\n",
    "        outputs = model(imgs)\n",
    "        loss = criterion(outputs, labels)\n",
    "        loss.backward()\n",
    "        optimizer.step()\n",
    "        \n",
    "        running_loss += loss.item()\n",
    "        _, preds = torch.max(outputs, 1)\n",
    "        correct += (preds == labels).sum().item()\n",
    "        total += labels.size(0)\n",
    "        \n",
    "        current_acc = correct / total\n",
    "        train_pbar.set_postfix({\n",
    "            'Loss': f'{running_loss/(batch_idx+1):.4f}',\n",
    "            'Acc': f'{current_acc:.4f}'\n",
    "        })\n",
    "        \n",
    "        if device.type == 'cuda' and batch_idx % 10 == 0:\n",
    "            gpu_memory = torch.cuda.memory_allocated() / 1024**3\n",
    "            train_pbar.set_postfix({\n",
    "                'Loss': f'{running_loss/(batch_idx+1):.4f}',\n",
    "                'Acc': f'{current_acc:.4f}',\n",
    "                'GPU': f'{gpu_memory:.1f}GB'\n",
    "            })\n",
    "    \n",
    "    train_phase_time = time.time() - train_phase_start\n",
    "    train_loss = running_loss / len(train_loader)\n",
    "    train_acc = correct / total\n",
    "    train_losses.append(train_loss)\n",
    "    train_accs.append(train_acc)\n",
    "    \n",
    "    print(f\"✅ Training completed in {train_phase_time:.2f}s\")\n",
    "    \n",
    "    # Validation Phase\n",
    "    print(\"🔍 Validation Phase...\")\n",
    "    model.eval()\n",
    "    running_loss, correct, total = 0, 0, 0\n",
    "    \n",
    "    val_phase_start = time.time()\n",
    "    val_pbar = tqdm(val_loader, desc=f\"Validation\", \n",
    "                   bar_format='{l_bar}{bar:30}{r_bar}{bar:-30b}')\n",
    "    \n",
    "    with torch.no_grad():\n",
    "        for batch_idx, (imgs, labels) in enumerate(val_pbar):\n",
    "            imgs, labels = imgs.to(device), labels.to(device)\n",
    "            outputs = model(imgs)\n",
    "            loss = criterion(outputs, labels)\n",
    "            \n",
    "            running_loss += loss.item()\n",
    "            _, preds = torch.max(outputs, 1)\n",
    "            correct += (preds == labels).sum().item()\n",
    "            total += labels.size(0)\n",
    "            \n",
    "            current_acc = correct / total\n",
    "            val_pbar.set_postfix({\n",
    "                'Loss': f'{running_loss/(batch_idx+1):.4f}',\n",
    "                'Acc': f'{current_acc:.4f}'\n",
    "            })\n",
    "    \n",
    "    val_phase_time = time.time() - val_phase_start\n",
    "    val_loss = running_loss / len(val_loader)\n",
    "    val_acc = correct / total\n",
    "    val_losses.append(val_loss)\n",
    "    val_accs.append(val_acc)\n",
    "    \n",
    "    print(f\"✅ Validation completed in {val_phase_time:.2f}s\")\n",
    "    \n",
    "    # Check if this is the best model so far based on val_acc - CHANGED\n",
    "    is_best = val_acc > best_val_acc  # Changed from val_loss < best_val_loss\n",
    "    if is_best:\n",
    "        best_val_acc = val_acc\n",
    "        best_epoch = epoch + 1\n",
    "        best_model_state = model.state_dict().copy()\n",
    "        print(f\"🌟 New best DenseNet-121 model found! Validation Accuracy: {val_acc:.4f}\")\n",
    "    \n",
    "    # Epoch Summary\n",
    "    epoch_time = time.time() - epoch_start_time\n",
    "    epoch_times.append(epoch_time)\n",
    "    \n",
    "    print(f\"\\n📊 Epoch {epoch+1} Summary:\")\n",
    "    print(f\"│ Train Loss: {train_loss:.4f} | Train Acc: {train_acc:.4f}\")\n",
    "    print(f\"│ Val Loss:   {val_loss:.4f} | Val Acc:   {val_acc:.4f}\")\n",
    "    print(f\"│ Train Time: {train_phase_time:.2f}s | Val Time: {val_phase_time:.2f}s\")\n",
    "    print(f\"│ Total Epoch Time: {epoch_time:.2f}s\")\n",
    "    print(f\"│ Best Val Acc: {best_val_acc:.4f} (Epoch {best_epoch})\")  # Changed\n",
    "    \n",
    "    if device.type == 'cuda':\n",
    "        print(f\"│ GPU Memory: {torch.cuda.memory_allocated()/1024**3:.1f}GB / {torch.cuda.memory_reserved()/1024**3:.1f}GB\")\n",
    "    \n",
    "    print(\"=\" * 80)\n",
    "\n",
    "total_training_time = time.time() - total_start_time\n",
    "\n",
    "# Save the best model - UPDATED MESSAGES\n",
    "if best_model_state is not None:\n",
    "    torch.save(best_model_state, 'best_densenet121_model.pth')\n",
    "    print(f\"\\n💾 Best DenseNet-121 model saved as 'best_densenet121_model.pth'\")\n",
    "    print(f\"📊 Best model stats:\")\n",
    "    print(f\"│ Best Epoch: {best_epoch}\")\n",
    "    print(f\"│ Best Val Acc: {best_val_acc:.4f}\")  # Changed from best_val_loss\n",
    "\n",
    "# NEW: Save training history data to CSV\n",
    "history_data = {\n",
    "    'epoch': list(range(1, epochs+1)),\n",
    "    'train_loss': train_losses,\n",
    "    'val_loss': val_losses,\n",
    "    'train_acc': train_accs,\n",
    "    'val_acc': val_accs,\n",
    "    'epoch_time': epoch_times\n",
    "}\n",
    "history_df = pd.DataFrame(history_data)\n",
    "history_df.to_csv('densenet121_training_history.csv', index=False)\n",
    "print(\"\\n💾 DenseNet-121 training history saved to 'densenet121_training_history.csv'\")\n",
    "\n",
    "# Training Summary\n",
    "print(f\"\\n🎉 DenseNet-121 Training Complete!\")\n",
    "print(f\"Total Training Time: {total_training_time:.2f}s ({total_training_time/60:.1f} minutes)\")\n",
    "print(f\"Average Epoch Time: {np.mean(epoch_times):.2f}s\")\n",
    "print(\"\\n⏱️  Epoch Timing Breakdown:\")\n",
    "for i, t in enumerate(epoch_times):\n",
    "    print(f\"│ Epoch {i+1}: {t:.2f}s\")\n",
    "\n",
    "# -----------------------------\n",
    "# 5. Load Best Model and Test\n",
    "# -----------------------------\n",
    "print(f\"\\n🧪 Loading Best DenseNet-121 Model for Testing...\")\n",
    "# Load the best model state\n",
    "if best_model_state is not None:\n",
    "    model.load_state_dict(best_model_state)\n",
    "    print(f\"✅ Best DenseNet-121 model from epoch {best_epoch} loaded successfully!\")\n",
    "else:\n",
    "    print(\"⚠️  No best model found, using current model state\")\n",
    "\n",
    "test_start_time = time.time()\n",
    "y_true, y_pred = [], []\n",
    "model.eval()\n",
    "\n",
    "test_pbar = tqdm(test_loader, desc=\"Testing DenseNet-121\", \n",
    "                bar_format='{l_bar}{bar:30}{r_bar}{bar:-30b}')\n",
    "\n",
    "with torch.no_grad():\n",
    "    for imgs, labels in test_pbar:\n",
    "        imgs, labels = imgs.to(device), labels.to(device)\n",
    "        outputs = model(imgs)\n",
    "        _, preds = torch.max(outputs, 1)\n",
    "        y_true.extend(labels.cpu().numpy())\n",
    "        y_pred.extend(preds.cpu().numpy())\n",
    "\n",
    "test_time = time.time() - test_start_time\n",
    "test_accuracy = accuracy_score(y_true, y_pred)\n",
    "\n",
    "print(f\"✅ DenseNet-121 Testing completed in {test_time:.2f}s\")\n",
    "print(\"\\n📋 DenseNet-121 Classification Report:\")\n",
    "print(classification_report(y_true, y_pred, target_names=classes))\n",
    "print(f\"🎯 DenseNet-121 Test Accuracy: {test_accuracy:.4f}\")\n",
    "\n",
    "# Model Performance Summary - UPDATED\n",
    "print(f\"\\n📊 DenseNet-121 Model Performance Summary:\")\n",
    "print(f\"│ Best Validation Acc:  {best_val_acc:.4f} (Epoch {best_epoch})\")  # Changed\n",
    "print(f\"│ Final Test Accuracy:  {test_accuracy:.4f}\")\n",
    "print(f\"│ Val-Test Gap:         {abs(best_val_acc - test_accuracy):.4f}\")\n",
    "\n",
    "# Confusion Matrix\n",
    "cm = confusion_matrix(y_true, y_pred)\n",
    "plt.figure(figsize=(8, 6))\n",
    "sns.heatmap(cm, annot=True, fmt=\"d\", cmap=\"Greens\", xticklabels=classes, yticklabels=classes)\n",
    "plt.xlabel(\"Predicted\")\n",
    "plt.ylabel(\"True\")\n",
    "plt.title(f\"DenseNet-121 Confusion Matrix - Best Model (Epoch {best_epoch})\")\n",
    "plt.show()\n",
    "\n",
    "# -----------------------------\n",
    "# 6. Enhanced Visualizations - UPDATED\n",
    "# -----------------------------\n",
    "plt.figure(figsize=(20, 5))\n",
    "\n",
    "# Loss Plot\n",
    "plt.subplot(1, 4, 1)\n",
    "plt.plot(range(1, epochs+1), train_losses, 'b-', label=\"Train Loss\", marker='o', linewidth=2)\n",
    "plt.plot(range(1, epochs+1), val_losses, 'r-', label=\"Val Loss\", marker='s', linewidth=2)\n",
    "plt.axvline(x=best_epoch, color='green', linestyle='--', alpha=0.7, label=f'Best (Epoch {best_epoch})')\n",
    "plt.legend()\n",
    "plt.title(\"DenseNet-121 Loss over Epochs\")\n",
    "plt.xlabel(\"Epoch\")\n",
    "plt.ylabel(\"Loss\")\n",
    "plt.grid(True, alpha=0.3)\n",
    "\n",
    "# Accuracy Plot - UPDATED\n",
    "plt.subplot(1, 4, 2)\n",
    "plt.plot(range(1, epochs+1), train_accs, 'b-', label=\"Train Accuracy\", marker='o', linewidth=2)\n",
    "plt.plot(range(1, epochs+1), val_accs, 'r-', label=\"Val Accuracy\", marker='s', linewidth=2)\n",
    "plt.axvline(x=best_epoch, color='green', linestyle='--', alpha=0.7, label=f'Best (Epoch {best_epoch})')\n",
    "plt.scatter([best_epoch], [best_val_acc], color='green', s=100, zorder=5)  # Changed to best_val_acc\n",
    "plt.legend()\n",
    "plt.title(\"DenseNet-121 Accuracy over Epochs\")\n",
    "plt.xlabel(\"Epoch\")\n",
    "plt.ylabel(\"Accuracy\")\n",
    "plt.grid(True, alpha=0.3)\n",
    "\n",
    "# Timing Plot\n",
    "plt.subplot(1, 4, 3)\n",
    "bars = plt.bar(range(1, epochs+1), epoch_times, color='lightgreen', alpha=0.7)\n",
    "bars[best_epoch-1].set_color('green')\n",
    "plt.title(\"DenseNet-121 Training Time per Epoch\")\n",
    "plt.xlabel(\"Epoch\")\n",
    "plt.ylabel(\"Time (seconds)\")\n",
    "plt.grid(True, alpha=0.3)\n",
    "for i, t in enumerate(epoch_times):\n",
    "    plt.text(i+1, t+0.5, f'{t:.1f}s', ha='center', va='bottom')\n",
    "\n",
    "# Performance Comparison\n",
    "plt.subplot(1, 4, 4)\n",
    "metrics = ['Best Val Acc', 'Test Acc']\n",
    "values = [best_val_acc, test_accuracy]\n",
    "colors = ['lightgreen', 'green']\n",
    "bars = plt.bar(metrics, values, color=colors, alpha=0.7)\n",
    "plt.title(\"DenseNet-121 Final Model Performance\")\n",
    "plt.ylabel(\"Accuracy\")\n",
    "plt.ylim(0, 1)\n",
    "plt.grid(True, alpha=0.3)\n",
    "for bar, val in zip(bars, values):\n",
    "    plt.text(bar.get_x() + bar.get_width()/2, val + 0.01, \n",
    "             f'{val:.4f}', ha='center', va='bottom')\n",
    "\n",
    "plt.tight_layout()\n",
    "plt.show()\n",
    "\n",
    "print(f\"\\n⏰ DenseNet-121 Final Timing Summary:\")\n",
    "print(f\"│ Total Training: {total_training_time:.2f}s\")\n",
    "print(f\"│ Average per Epoch: {np.mean(epoch_times):.2f}s\")\n",
    "print(f\"│ Testing Time: {test_time:.2f}s\")\n",
    "print(f\"│ Total Runtime: {total_training_time + test_time:.2f}s\")\n",
    "\n",
    "print(f\"\\n💾 DenseNet-121 Files saved:\")\n",
    "print(f\"│ best_densenet121_model.pth - Best validation accuracy model\")\n",
    "print(f\"│ densenet121_training_history.csv - Training metrics for later plotting\")"
   ]
  },
  {
   "cell_type": "code",
   "execution_count": 9,
   "id": "77fd0d33",
   "metadata": {
    "execution": {
     "iopub.execute_input": "2025-09-06T16:09:35.669098Z",
     "iopub.status.busy": "2025-09-06T16:09:35.668823Z",
     "iopub.status.idle": "2025-09-06T16:09:35.733132Z",
     "shell.execute_reply": "2025-09-06T16:09:35.732337Z"
    },
    "papermill": {
     "duration": 2.014407,
     "end_time": "2025-09-06T16:09:35.734410",
     "exception": false,
     "start_time": "2025-09-06T16:09:33.720003",
     "status": "completed"
    },
    "tags": []
   },
   "outputs": [
    {
     "data": {
      "text/html": [
       "<div>\n",
       "<style scoped>\n",
       "    .dataframe tbody tr th:only-of-type {\n",
       "        vertical-align: middle;\n",
       "    }\n",
       "\n",
       "    .dataframe tbody tr th {\n",
       "        vertical-align: top;\n",
       "    }\n",
       "\n",
       "    .dataframe thead th {\n",
       "        text-align: right;\n",
       "    }\n",
       "</style>\n",
       "<table border=\"1\" class=\"dataframe\">\n",
       "  <thead>\n",
       "    <tr style=\"text-align: right;\">\n",
       "      <th></th>\n",
       "      <th>epoch</th>\n",
       "      <th>train_loss</th>\n",
       "      <th>val_loss</th>\n",
       "      <th>train_acc</th>\n",
       "      <th>val_acc</th>\n",
       "      <th>epoch_time</th>\n",
       "    </tr>\n",
       "  </thead>\n",
       "  <tbody>\n",
       "    <tr>\n",
       "      <th>0</th>\n",
       "      <td>1</td>\n",
       "      <td>1.016125</td>\n",
       "      <td>0.971659</td>\n",
       "      <td>0.575443</td>\n",
       "      <td>0.594332</td>\n",
       "      <td>229.822622</td>\n",
       "    </tr>\n",
       "    <tr>\n",
       "      <th>1</th>\n",
       "      <td>2</td>\n",
       "      <td>0.819511</td>\n",
       "      <td>0.843500</td>\n",
       "      <td>0.663477</td>\n",
       "      <td>0.669643</td>\n",
       "      <td>184.056535</td>\n",
       "    </tr>\n",
       "    <tr>\n",
       "      <th>2</th>\n",
       "      <td>3</td>\n",
       "      <td>0.669321</td>\n",
       "      <td>0.768316</td>\n",
       "      <td>0.729654</td>\n",
       "      <td>0.707298</td>\n",
       "      <td>183.019121</td>\n",
       "    </tr>\n",
       "    <tr>\n",
       "      <th>3</th>\n",
       "      <td>4</td>\n",
       "      <td>0.514419</td>\n",
       "      <td>0.876604</td>\n",
       "      <td>0.806104</td>\n",
       "      <td>0.678183</td>\n",
       "      <td>184.140821</td>\n",
       "    </tr>\n",
       "    <tr>\n",
       "      <th>4</th>\n",
       "      <td>5</td>\n",
       "      <td>0.353799</td>\n",
       "      <td>0.917959</td>\n",
       "      <td>0.870770</td>\n",
       "      <td>0.715450</td>\n",
       "      <td>184.394984</td>\n",
       "    </tr>\n",
       "    <tr>\n",
       "      <th>5</th>\n",
       "      <td>6</td>\n",
       "      <td>0.227431</td>\n",
       "      <td>1.028585</td>\n",
       "      <td>0.921938</td>\n",
       "      <td>0.747283</td>\n",
       "      <td>183.751687</td>\n",
       "    </tr>\n",
       "    <tr>\n",
       "      <th>6</th>\n",
       "      <td>7</td>\n",
       "      <td>0.157909</td>\n",
       "      <td>1.252941</td>\n",
       "      <td>0.943695</td>\n",
       "      <td>0.718944</td>\n",
       "      <td>183.509321</td>\n",
       "    </tr>\n",
       "    <tr>\n",
       "      <th>7</th>\n",
       "      <td>8</td>\n",
       "      <td>0.096766</td>\n",
       "      <td>1.242946</td>\n",
       "      <td>0.965753</td>\n",
       "      <td>0.737578</td>\n",
       "      <td>182.706472</td>\n",
       "    </tr>\n",
       "    <tr>\n",
       "      <th>8</th>\n",
       "      <td>9</td>\n",
       "      <td>0.077204</td>\n",
       "      <td>1.470947</td>\n",
       "      <td>0.973308</td>\n",
       "      <td>0.708075</td>\n",
       "      <td>182.785300</td>\n",
       "    </tr>\n",
       "    <tr>\n",
       "      <th>9</th>\n",
       "      <td>10</td>\n",
       "      <td>0.058391</td>\n",
       "      <td>1.513086</td>\n",
       "      <td>0.981467</td>\n",
       "      <td>0.716227</td>\n",
       "      <td>182.921253</td>\n",
       "    </tr>\n",
       "    <tr>\n",
       "      <th>10</th>\n",
       "      <td>11</td>\n",
       "      <td>0.060158</td>\n",
       "      <td>1.149620</td>\n",
       "      <td>0.982776</td>\n",
       "      <td>0.749224</td>\n",
       "      <td>183.424922</td>\n",
       "    </tr>\n",
       "    <tr>\n",
       "      <th>11</th>\n",
       "      <td>12</td>\n",
       "      <td>0.061704</td>\n",
       "      <td>1.154399</td>\n",
       "      <td>0.979855</td>\n",
       "      <td>0.737189</td>\n",
       "      <td>183.672821</td>\n",
       "    </tr>\n",
       "    <tr>\n",
       "      <th>12</th>\n",
       "      <td>13</td>\n",
       "      <td>0.033538</td>\n",
       "      <td>1.393516</td>\n",
       "      <td>0.988618</td>\n",
       "      <td>0.737189</td>\n",
       "      <td>182.948311</td>\n",
       "    </tr>\n",
       "    <tr>\n",
       "      <th>13</th>\n",
       "      <td>14</td>\n",
       "      <td>0.031702</td>\n",
       "      <td>1.334235</td>\n",
       "      <td>0.989222</td>\n",
       "      <td>0.722050</td>\n",
       "      <td>183.461625</td>\n",
       "    </tr>\n",
       "    <tr>\n",
       "      <th>14</th>\n",
       "      <td>15</td>\n",
       "      <td>0.055085</td>\n",
       "      <td>1.387081</td>\n",
       "      <td>0.981064</td>\n",
       "      <td>0.717391</td>\n",
       "      <td>183.206393</td>\n",
       "    </tr>\n",
       "    <tr>\n",
       "      <th>15</th>\n",
       "      <td>16</td>\n",
       "      <td>0.034131</td>\n",
       "      <td>1.449464</td>\n",
       "      <td>0.990532</td>\n",
       "      <td>0.734084</td>\n",
       "      <td>183.961910</td>\n",
       "    </tr>\n",
       "    <tr>\n",
       "      <th>16</th>\n",
       "      <td>17</td>\n",
       "      <td>0.024322</td>\n",
       "      <td>1.354671</td>\n",
       "      <td>0.992043</td>\n",
       "      <td>0.748835</td>\n",
       "      <td>184.640647</td>\n",
       "    </tr>\n",
       "    <tr>\n",
       "      <th>17</th>\n",
       "      <td>18</td>\n",
       "      <td>0.013184</td>\n",
       "      <td>1.626965</td>\n",
       "      <td>0.995367</td>\n",
       "      <td>0.733696</td>\n",
       "      <td>192.164504</td>\n",
       "    </tr>\n",
       "    <tr>\n",
       "      <th>18</th>\n",
       "      <td>19</td>\n",
       "      <td>0.074126</td>\n",
       "      <td>1.519197</td>\n",
       "      <td>0.974013</td>\n",
       "      <td>0.736413</td>\n",
       "      <td>189.959937</td>\n",
       "    </tr>\n",
       "    <tr>\n",
       "      <th>19</th>\n",
       "      <td>20</td>\n",
       "      <td>0.017291</td>\n",
       "      <td>1.399881</td>\n",
       "      <td>0.994057</td>\n",
       "      <td>0.741071</td>\n",
       "      <td>184.513818</td>\n",
       "    </tr>\n",
       "    <tr>\n",
       "      <th>20</th>\n",
       "      <td>21</td>\n",
       "      <td>0.016672</td>\n",
       "      <td>1.678491</td>\n",
       "      <td>0.993654</td>\n",
       "      <td>0.709239</td>\n",
       "      <td>184.012973</td>\n",
       "    </tr>\n",
       "    <tr>\n",
       "      <th>21</th>\n",
       "      <td>22</td>\n",
       "      <td>0.039147</td>\n",
       "      <td>1.572801</td>\n",
       "      <td>0.987309</td>\n",
       "      <td>0.728649</td>\n",
       "      <td>182.828329</td>\n",
       "    </tr>\n",
       "    <tr>\n",
       "      <th>22</th>\n",
       "      <td>23</td>\n",
       "      <td>0.006115</td>\n",
       "      <td>1.663357</td>\n",
       "      <td>0.998187</td>\n",
       "      <td>0.745342</td>\n",
       "      <td>183.116596</td>\n",
       "    </tr>\n",
       "    <tr>\n",
       "      <th>23</th>\n",
       "      <td>24</td>\n",
       "      <td>0.025421</td>\n",
       "      <td>1.500715</td>\n",
       "      <td>0.992546</td>\n",
       "      <td>0.725155</td>\n",
       "      <td>183.941715</td>\n",
       "    </tr>\n",
       "    <tr>\n",
       "      <th>24</th>\n",
       "      <td>25</td>\n",
       "      <td>0.046428</td>\n",
       "      <td>1.645809</td>\n",
       "      <td>0.987409</td>\n",
       "      <td>0.734472</td>\n",
       "      <td>185.202153</td>\n",
       "    </tr>\n",
       "    <tr>\n",
       "      <th>25</th>\n",
       "      <td>26</td>\n",
       "      <td>0.031660</td>\n",
       "      <td>1.333075</td>\n",
       "      <td>0.989222</td>\n",
       "      <td>0.762811</td>\n",
       "      <td>183.081089</td>\n",
       "    </tr>\n",
       "    <tr>\n",
       "      <th>26</th>\n",
       "      <td>27</td>\n",
       "      <td>0.007463</td>\n",
       "      <td>1.560505</td>\n",
       "      <td>0.998086</td>\n",
       "      <td>0.742236</td>\n",
       "      <td>183.548420</td>\n",
       "    </tr>\n",
       "    <tr>\n",
       "      <th>27</th>\n",
       "      <td>28</td>\n",
       "      <td>0.003081</td>\n",
       "      <td>1.539878</td>\n",
       "      <td>0.999194</td>\n",
       "      <td>0.749224</td>\n",
       "      <td>183.424884</td>\n",
       "    </tr>\n",
       "    <tr>\n",
       "      <th>28</th>\n",
       "      <td>29</td>\n",
       "      <td>0.034196</td>\n",
       "      <td>1.400071</td>\n",
       "      <td>0.990834</td>\n",
       "      <td>0.734084</td>\n",
       "      <td>182.958644</td>\n",
       "    </tr>\n",
       "    <tr>\n",
       "      <th>29</th>\n",
       "      <td>30</td>\n",
       "      <td>0.030549</td>\n",
       "      <td>1.464888</td>\n",
       "      <td>0.989726</td>\n",
       "      <td>0.748447</td>\n",
       "      <td>183.162047</td>\n",
       "    </tr>\n",
       "    <tr>\n",
       "      <th>30</th>\n",
       "      <td>31</td>\n",
       "      <td>0.004033</td>\n",
       "      <td>1.507526</td>\n",
       "      <td>0.999093</td>\n",
       "      <td>0.753106</td>\n",
       "      <td>183.106827</td>\n",
       "    </tr>\n",
       "    <tr>\n",
       "      <th>31</th>\n",
       "      <td>32</td>\n",
       "      <td>0.016102</td>\n",
       "      <td>1.813938</td>\n",
       "      <td>0.995064</td>\n",
       "      <td>0.729814</td>\n",
       "      <td>184.709586</td>\n",
       "    </tr>\n",
       "    <tr>\n",
       "      <th>32</th>\n",
       "      <td>33</td>\n",
       "      <td>0.024164</td>\n",
       "      <td>1.510715</td>\n",
       "      <td>0.990935</td>\n",
       "      <td>0.730978</td>\n",
       "      <td>184.103672</td>\n",
       "    </tr>\n",
       "    <tr>\n",
       "      <th>33</th>\n",
       "      <td>34</td>\n",
       "      <td>0.020111</td>\n",
       "      <td>1.539645</td>\n",
       "      <td>0.993453</td>\n",
       "      <td>0.735248</td>\n",
       "      <td>183.406253</td>\n",
       "    </tr>\n",
       "    <tr>\n",
       "      <th>34</th>\n",
       "      <td>35</td>\n",
       "      <td>0.007038</td>\n",
       "      <td>1.544519</td>\n",
       "      <td>0.998892</td>\n",
       "      <td>0.747283</td>\n",
       "      <td>183.426807</td>\n",
       "    </tr>\n",
       "    <tr>\n",
       "      <th>35</th>\n",
       "      <td>36</td>\n",
       "      <td>0.038471</td>\n",
       "      <td>1.575616</td>\n",
       "      <td>0.988417</td>\n",
       "      <td>0.732531</td>\n",
       "      <td>183.318052</td>\n",
       "    </tr>\n",
       "    <tr>\n",
       "      <th>36</th>\n",
       "      <td>37</td>\n",
       "      <td>0.005046</td>\n",
       "      <td>1.480168</td>\n",
       "      <td>0.998691</td>\n",
       "      <td>0.754270</td>\n",
       "      <td>182.874643</td>\n",
       "    </tr>\n",
       "    <tr>\n",
       "      <th>37</th>\n",
       "      <td>38</td>\n",
       "      <td>0.003229</td>\n",
       "      <td>1.583680</td>\n",
       "      <td>0.999194</td>\n",
       "      <td>0.741071</td>\n",
       "      <td>183.838651</td>\n",
       "    </tr>\n",
       "    <tr>\n",
       "      <th>38</th>\n",
       "      <td>39</td>\n",
       "      <td>0.000713</td>\n",
       "      <td>1.607014</td>\n",
       "      <td>0.999899</td>\n",
       "      <td>0.746118</td>\n",
       "      <td>183.706581</td>\n",
       "    </tr>\n",
       "    <tr>\n",
       "      <th>39</th>\n",
       "      <td>40</td>\n",
       "      <td>0.000208</td>\n",
       "      <td>1.615397</td>\n",
       "      <td>1.000000</td>\n",
       "      <td>0.746506</td>\n",
       "      <td>183.264631</td>\n",
       "    </tr>\n",
       "    <tr>\n",
       "      <th>40</th>\n",
       "      <td>41</td>\n",
       "      <td>0.000705</td>\n",
       "      <td>1.683362</td>\n",
       "      <td>0.999899</td>\n",
       "      <td>0.752717</td>\n",
       "      <td>182.939723</td>\n",
       "    </tr>\n",
       "    <tr>\n",
       "      <th>41</th>\n",
       "      <td>42</td>\n",
       "      <td>0.066985</td>\n",
       "      <td>1.550883</td>\n",
       "      <td>0.978344</td>\n",
       "      <td>0.739907</td>\n",
       "      <td>183.339530</td>\n",
       "    </tr>\n",
       "    <tr>\n",
       "      <th>42</th>\n",
       "      <td>43</td>\n",
       "      <td>0.016272</td>\n",
       "      <td>1.528969</td>\n",
       "      <td>0.995165</td>\n",
       "      <td>0.751165</td>\n",
       "      <td>185.507271</td>\n",
       "    </tr>\n",
       "    <tr>\n",
       "      <th>43</th>\n",
       "      <td>44</td>\n",
       "      <td>0.003430</td>\n",
       "      <td>1.493590</td>\n",
       "      <td>0.999396</td>\n",
       "      <td>0.748835</td>\n",
       "      <td>185.041793</td>\n",
       "    </tr>\n",
       "    <tr>\n",
       "      <th>44</th>\n",
       "      <td>45</td>\n",
       "      <td>0.007062</td>\n",
       "      <td>1.540617</td>\n",
       "      <td>0.998288</td>\n",
       "      <td>0.756211</td>\n",
       "      <td>184.921991</td>\n",
       "    </tr>\n",
       "    <tr>\n",
       "      <th>45</th>\n",
       "      <td>46</td>\n",
       "      <td>0.017156</td>\n",
       "      <td>1.980898</td>\n",
       "      <td>0.993956</td>\n",
       "      <td>0.734860</td>\n",
       "      <td>187.247467</td>\n",
       "    </tr>\n",
       "    <tr>\n",
       "      <th>46</th>\n",
       "      <td>47</td>\n",
       "      <td>0.019881</td>\n",
       "      <td>1.385006</td>\n",
       "      <td>0.995064</td>\n",
       "      <td>0.744177</td>\n",
       "      <td>184.518458</td>\n",
       "    </tr>\n",
       "    <tr>\n",
       "      <th>47</th>\n",
       "      <td>48</td>\n",
       "      <td>0.031952</td>\n",
       "      <td>1.669043</td>\n",
       "      <td>0.989625</td>\n",
       "      <td>0.745730</td>\n",
       "      <td>184.794993</td>\n",
       "    </tr>\n",
       "    <tr>\n",
       "      <th>48</th>\n",
       "      <td>49</td>\n",
       "      <td>0.004870</td>\n",
       "      <td>1.690698</td>\n",
       "      <td>0.998288</td>\n",
       "      <td>0.742236</td>\n",
       "      <td>185.959283</td>\n",
       "    </tr>\n",
       "    <tr>\n",
       "      <th>49</th>\n",
       "      <td>50</td>\n",
       "      <td>0.004759</td>\n",
       "      <td>1.569879</td>\n",
       "      <td>0.998590</td>\n",
       "      <td>0.761646</td>\n",
       "      <td>187.262388</td>\n",
       "    </tr>\n",
       "  </tbody>\n",
       "</table>\n",
       "</div>"
      ],
      "text/plain": [
       "    epoch  train_loss  val_loss  train_acc   val_acc  epoch_time\n",
       "0       1    1.016125  0.971659   0.575443  0.594332  229.822622\n",
       "1       2    0.819511  0.843500   0.663477  0.669643  184.056535\n",
       "2       3    0.669321  0.768316   0.729654  0.707298  183.019121\n",
       "3       4    0.514419  0.876604   0.806104  0.678183  184.140821\n",
       "4       5    0.353799  0.917959   0.870770  0.715450  184.394984\n",
       "5       6    0.227431  1.028585   0.921938  0.747283  183.751687\n",
       "6       7    0.157909  1.252941   0.943695  0.718944  183.509321\n",
       "7       8    0.096766  1.242946   0.965753  0.737578  182.706472\n",
       "8       9    0.077204  1.470947   0.973308  0.708075  182.785300\n",
       "9      10    0.058391  1.513086   0.981467  0.716227  182.921253\n",
       "10     11    0.060158  1.149620   0.982776  0.749224  183.424922\n",
       "11     12    0.061704  1.154399   0.979855  0.737189  183.672821\n",
       "12     13    0.033538  1.393516   0.988618  0.737189  182.948311\n",
       "13     14    0.031702  1.334235   0.989222  0.722050  183.461625\n",
       "14     15    0.055085  1.387081   0.981064  0.717391  183.206393\n",
       "15     16    0.034131  1.449464   0.990532  0.734084  183.961910\n",
       "16     17    0.024322  1.354671   0.992043  0.748835  184.640647\n",
       "17     18    0.013184  1.626965   0.995367  0.733696  192.164504\n",
       "18     19    0.074126  1.519197   0.974013  0.736413  189.959937\n",
       "19     20    0.017291  1.399881   0.994057  0.741071  184.513818\n",
       "20     21    0.016672  1.678491   0.993654  0.709239  184.012973\n",
       "21     22    0.039147  1.572801   0.987309  0.728649  182.828329\n",
       "22     23    0.006115  1.663357   0.998187  0.745342  183.116596\n",
       "23     24    0.025421  1.500715   0.992546  0.725155  183.941715\n",
       "24     25    0.046428  1.645809   0.987409  0.734472  185.202153\n",
       "25     26    0.031660  1.333075   0.989222  0.762811  183.081089\n",
       "26     27    0.007463  1.560505   0.998086  0.742236  183.548420\n",
       "27     28    0.003081  1.539878   0.999194  0.749224  183.424884\n",
       "28     29    0.034196  1.400071   0.990834  0.734084  182.958644\n",
       "29     30    0.030549  1.464888   0.989726  0.748447  183.162047\n",
       "30     31    0.004033  1.507526   0.999093  0.753106  183.106827\n",
       "31     32    0.016102  1.813938   0.995064  0.729814  184.709586\n",
       "32     33    0.024164  1.510715   0.990935  0.730978  184.103672\n",
       "33     34    0.020111  1.539645   0.993453  0.735248  183.406253\n",
       "34     35    0.007038  1.544519   0.998892  0.747283  183.426807\n",
       "35     36    0.038471  1.575616   0.988417  0.732531  183.318052\n",
       "36     37    0.005046  1.480168   0.998691  0.754270  182.874643\n",
       "37     38    0.003229  1.583680   0.999194  0.741071  183.838651\n",
       "38     39    0.000713  1.607014   0.999899  0.746118  183.706581\n",
       "39     40    0.000208  1.615397   1.000000  0.746506  183.264631\n",
       "40     41    0.000705  1.683362   0.999899  0.752717  182.939723\n",
       "41     42    0.066985  1.550883   0.978344  0.739907  183.339530\n",
       "42     43    0.016272  1.528969   0.995165  0.751165  185.507271\n",
       "43     44    0.003430  1.493590   0.999396  0.748835  185.041793\n",
       "44     45    0.007062  1.540617   0.998288  0.756211  184.921991\n",
       "45     46    0.017156  1.980898   0.993956  0.734860  187.247467\n",
       "46     47    0.019881  1.385006   0.995064  0.744177  184.518458\n",
       "47     48    0.031952  1.669043   0.989625  0.745730  184.794993\n",
       "48     49    0.004870  1.690698   0.998288  0.742236  185.959283\n",
       "49     50    0.004759  1.569879   0.998590  0.761646  187.262388"
      ]
     },
     "execution_count": 9,
     "metadata": {},
     "output_type": "execute_result"
    }
   ],
   "source": [
    "import pandas as pd\n",
    "df=pd.read_csv(\"/kaggle/working/densenet121_training_history.csv\")\n",
    "df"
   ]
  }
 ],
 "metadata": {
  "kaggle": {
   "accelerator": "nvidiaTeslaT4",
   "dataSources": [
    {
     "datasetId": 7735666,
     "sourceId": 12275446,
     "sourceType": "datasetVersion"
    }
   ],
   "dockerImageVersionId": 31090,
   "isGpuEnabled": true,
   "isInternetEnabled": true,
   "language": "python",
   "sourceType": "notebook"
  },
  "kernelspec": {
   "display_name": "Python 3",
   "language": "python",
   "name": "python3"
  },
  "language_info": {
   "codemirror_mode": {
    "name": "ipython",
    "version": 3
   },
   "file_extension": ".py",
   "mimetype": "text/x-python",
   "name": "python",
   "nbconvert_exporter": "python",
   "pygments_lexer": "ipython3",
   "version": "3.11.13"
  },
  "papermill": {
   "default_parameters": {},
   "duration": 9345.388045,
   "end_time": "2025-09-06T16:09:40.849709",
   "environment_variables": {},
   "exception": null,
   "input_path": "__notebook__.ipynb",
   "output_path": "__notebook__.ipynb",
   "parameters": {},
   "start_time": "2025-09-06T13:33:55.461664",
   "version": "2.6.0"
  }
 },
 "nbformat": 4,
 "nbformat_minor": 5
}
