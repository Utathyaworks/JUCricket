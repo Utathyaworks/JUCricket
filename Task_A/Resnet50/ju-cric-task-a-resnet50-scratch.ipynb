{
 "cells": [
  {
   "cell_type": "code",
   "execution_count": 1,
   "id": "59f813c3",
   "metadata": {
    "_cell_guid": "b1076dfc-b9ad-4769-8c92-a6c4dae69d19",
    "_uuid": "8f2839f25d086af736a60e9eeb907d3b93b6e0e5",
    "execution": {
     "iopub.execute_input": "2025-09-05T13:49:20.671239Z",
     "iopub.status.busy": "2025-09-05T13:49:20.670964Z",
     "iopub.status.idle": "2025-09-05T13:49:47.363236Z",
     "shell.execute_reply": "2025-09-05T13:49:47.362321Z"
    },
    "papermill": {
     "duration": 26.697902,
     "end_time": "2025-09-05T13:49:47.364614",
     "exception": false,
     "start_time": "2025-09-05T13:49:20.666712",
     "status": "completed"
    },
    "tags": []
   },
   "outputs": [
    {
     "name": "stdout",
     "output_type": "stream",
     "text": [
      "Classes: ['Batting', 'Bowling', 'Fielding', 'Umpire']\n"
     ]
    }
   ],
   "source": [
    "import torch\n",
    "import torch.nn as nn\n",
    "import torch.nn.functional as F\n",
    "from torch.utils.data import DataLoader\n",
    "from torchvision import datasets, transforms\n",
    "from torchsummary import summary\n",
    "import matplotlib.pyplot as plt\n",
    "from sklearn.metrics import classification_report, confusion_matrix, accuracy_score\n",
    "import seaborn as sns\n",
    "import numpy as np\n",
    "\n",
    "# -----------------------------\n",
    "# 1. Data Preprocessing\n",
    "# -----------------------------\n",
    "data_dir = \"/kaggle/input/ju-cricket/Cricket_Dataset_final/Task_A\"\n",
    "\n",
    "transform = transforms.Compose([\n",
    "    transforms.Resize((224, 224)),\n",
    "    transforms.ToTensor(),\n",
    "    transforms.Normalize([0.485, 0.456, 0.406], \n",
    "                         [0.229, 0.224, 0.225])\n",
    "])\n",
    "\n",
    "train_ds = datasets.ImageFolder(f\"{data_dir}/train\", transform=transform)\n",
    "val_ds   = datasets.ImageFolder(f\"{data_dir}/val\", transform=transform)\n",
    "test_ds  = datasets.ImageFolder(f\"{data_dir}/test\", transform=transform)\n",
    "\n",
    "train_loader = DataLoader(train_ds, batch_size=32, shuffle=True)\n",
    "val_loader   = DataLoader(val_ds, batch_size=32, shuffle=False)\n",
    "test_loader  = DataLoader(test_ds, batch_size=32, shuffle=False)\n",
    "\n",
    "classes = train_ds.classes\n",
    "print(\"Classes:\", classes)"
   ]
  },
  {
   "cell_type": "code",
   "execution_count": 2,
   "id": "0e99e834",
   "metadata": {
    "execution": {
     "iopub.execute_input": "2025-09-05T13:49:47.372360Z",
     "iopub.status.busy": "2025-09-05T13:49:47.371756Z",
     "iopub.status.idle": "2025-09-05T13:49:47.376591Z",
     "shell.execute_reply": "2025-09-05T13:49:47.375880Z"
    },
    "papermill": {
     "duration": 0.009495,
     "end_time": "2025-09-05T13:49:47.377812",
     "exception": false,
     "start_time": "2025-09-05T13:49:47.368317",
     "status": "completed"
    },
    "tags": []
   },
   "outputs": [
    {
     "name": "stdout",
     "output_type": "stream",
     "text": [
      "Total training images: 11169\n",
      "Total validation images: 2898\n",
      "Total test images: 3627\n",
      "Total images in dataset: 17694\n"
     ]
    }
   ],
   "source": [
    "print(\"Total training images:\", len(train_ds))\n",
    "print(\"Total validation images:\", len(val_ds))\n",
    "print(\"Total test images:\", len(test_ds))\n",
    "\n",
    "total_images = len(train_ds) + len(val_ds) + len(test_ds)\n",
    "print(\"Total images in dataset:\", total_images)"
   ]
  },
  {
   "cell_type": "code",
   "execution_count": 3,
   "id": "5b890138",
   "metadata": {
    "execution": {
     "iopub.execute_input": "2025-09-05T13:49:47.384356Z",
     "iopub.status.busy": "2025-09-05T13:49:47.383946Z",
     "iopub.status.idle": "2025-09-05T13:49:47.399453Z",
     "shell.execute_reply": "2025-09-05T13:49:47.398737Z"
    },
    "papermill": {
     "duration": 0.019955,
     "end_time": "2025-09-05T13:49:47.400655",
     "exception": false,
     "start_time": "2025-09-05T13:49:47.380700",
     "status": "completed"
    },
    "tags": []
   },
   "outputs": [
    {
     "name": "stdout",
     "output_type": "stream",
     "text": [
      "Training images (excluding 'random_occlusion'): 9928\n",
      "Validation images (excluding 'random_occlusion'): 2576\n",
      "Test images (excluding 'random_occlusion'): 3224\n",
      "Total images (excluding 'random_occlusion'): 15728\n"
     ]
    }
   ],
   "source": [
    "ignore_folder = \"random_occlusion\"\n",
    "\n",
    "def count_images_ignore_folder(dataset, ignore_folder):\n",
    "    count = 0\n",
    "    for img_path, label in dataset.samples:\n",
    "        # Skip if the image path contains the ignore_folder\n",
    "        if ignore_folder not in img_path.split(\"/\"):\n",
    "            count += 1\n",
    "    return count\n",
    "\n",
    "train_count = count_images_ignore_folder(train_ds, ignore_folder)\n",
    "val_count   = count_images_ignore_folder(val_ds, ignore_folder)\n",
    "test_count  = count_images_ignore_folder(test_ds, ignore_folder)\n",
    "\n",
    "total_count = train_count + val_count + test_count\n",
    "\n",
    "print(\"Training images (excluding '{}'): {}\".format(ignore_folder, train_count))\n",
    "print(\"Validation images (excluding '{}'): {}\".format(ignore_folder, val_count))\n",
    "print(\"Test images (excluding '{}'): {}\".format(ignore_folder, test_count))\n",
    "print(\"Total images (excluding '{}'): {}\".format(ignore_folder, total_count))"
   ]
  },
  {
   "cell_type": "code",
   "execution_count": 4,
   "id": "2fc2c32d",
   "metadata": {
    "execution": {
     "iopub.execute_input": "2025-09-05T13:49:47.407464Z",
     "iopub.status.busy": "2025-09-05T13:49:47.407239Z",
     "iopub.status.idle": "2025-09-05T13:49:47.430453Z",
     "shell.execute_reply": "2025-09-05T13:49:47.429655Z"
    },
    "papermill": {
     "duration": 0.02801,
     "end_time": "2025-09-05T13:49:47.431674",
     "exception": false,
     "start_time": "2025-09-05T13:49:47.403664",
     "status": "completed"
    },
    "tags": []
   },
   "outputs": [
    {
     "name": "stdout",
     "output_type": "stream",
     "text": [
      "Training folders considered: {'gaussian_noise', 'dirty_lens', 'low_resolution', 'motion_blur', 'original', 'blur', 'lens_flare', 'random_occlusion', 'chromatic_aberration'}\n",
      "Validation folders considered: {'gaussian_noise', 'dirty_lens', 'low_resolution', 'motion_blur', 'original', 'blur', 'lens_flare', 'random_occlusion', 'chromatic_aberration'}\n",
      "Test folders considered: {'gaussian_noise', 'dirty_lens', 'low_resolution', 'motion_blur', 'original', 'blur', 'lens_flare', 'random_occlusion', 'chromatic_aberration'}\n"
     ]
    }
   ],
   "source": [
    "ignore_folder = \"random_occlusionw\"\n",
    "\n",
    "def get_included_folders(dataset, ignore_folder):\n",
    "    included = set()\n",
    "    for img_path, label in dataset.samples:\n",
    "        # Split the path into parts and ignore if ignore_folder is in the path\n",
    "        if ignore_folder not in img_path.split(\"/\"):\n",
    "            # The folder name just above the image (or the class folder)\n",
    "            folder_name = img_path.split(\"/\")[-2]\n",
    "            included.add(folder_name)\n",
    "    return included\n",
    "\n",
    "train_folders = get_included_folders(train_ds, ignore_folder)\n",
    "val_folders   = get_included_folders(val_ds, ignore_folder)\n",
    "test_folders  = get_included_folders(test_ds, ignore_folder)\n",
    "\n",
    "print(\"Training folders considered:\", train_folders)\n",
    "print(\"Validation folders considered:\", val_folders)\n",
    "print(\"Test folders considered:\", test_folders)"
   ]
  },
  {
   "cell_type": "code",
   "execution_count": 5,
   "id": "3beb7c96",
   "metadata": {
    "execution": {
     "iopub.execute_input": "2025-09-05T13:49:47.438711Z",
     "iopub.status.busy": "2025-09-05T13:49:47.438496Z",
     "iopub.status.idle": "2025-09-05T13:49:48.675488Z",
     "shell.execute_reply": "2025-09-05T13:49:48.674485Z"
    },
    "papermill": {
     "duration": 1.242081,
     "end_time": "2025-09-05T13:49:48.676815",
     "exception": false,
     "start_time": "2025-09-05T13:49:47.434734",
     "status": "completed"
    },
    "tags": []
   },
   "outputs": [
    {
     "name": "stdout",
     "output_type": "stream",
     "text": [
      "Classes: ['Batting', 'Bowling', 'Fielding', 'Umpire']\n",
      "Final Training images: 9928\n",
      "Final Validation images: 2576\n",
      "Final Test images: 3224\n",
      "Total images after filtering: 15728\n"
     ]
    }
   ],
   "source": [
    "ignore_folder = \"random_occlusion\"\n",
    "\n",
    "def filter_samples(dataset, ignore_folder):\n",
    "    # Keep only samples where ignore_folder is NOT in the path\n",
    "    filtered_samples = [s for s in dataset.samples if ignore_folder not in s[0].split(\"/\")]\n",
    "    dataset.samples = filtered_samples\n",
    "    dataset.targets = [s[1] for s in filtered_samples]  # Update targets accordingly\n",
    "    return dataset\n",
    "\n",
    "# Create original datasets\n",
    "train_ds = datasets.ImageFolder(f\"{data_dir}/train\", transform=transform)\n",
    "val_ds   = datasets.ImageFolder(f\"{data_dir}/val\", transform=transform)\n",
    "test_ds  = datasets.ImageFolder(f\"{data_dir}/test\", transform=transform)\n",
    "\n",
    "# Filter out 'random_occlusion' folder\n",
    "train_ds = filter_samples(train_ds, ignore_folder)\n",
    "val_ds   = filter_samples(val_ds, ignore_folder)\n",
    "test_ds  = filter_samples(test_ds, ignore_folder)\n",
    "\n",
    "# DataLoaders\n",
    "train_loader = DataLoader(train_ds, batch_size=32, shuffle=True)\n",
    "val_loader   = DataLoader(val_ds, batch_size=32, shuffle=False)\n",
    "test_loader  = DataLoader(test_ds, batch_size=32, shuffle=False)\n",
    "\n",
    "# Classes (will remain the same)\n",
    "classes = train_ds.classes\n",
    "print(\"Classes:\", classes)\n",
    "\n",
    "# Show counts\n",
    "print(\"Final Training images:\", len(train_ds))\n",
    "print(\"Final Validation images:\", len(val_ds))\n",
    "print(\"Final Test images:\", len(test_ds))\n",
    "print(\"Total images after filtering:\", len(train_ds) + len(val_ds) + len(test_ds))"
   ]
  },
  {
   "cell_type": "code",
   "execution_count": 6,
   "id": "bcf9d47f",
   "metadata": {
    "execution": {
     "iopub.execute_input": "2025-09-05T13:49:48.683893Z",
     "iopub.status.busy": "2025-09-05T13:49:48.683654Z",
     "iopub.status.idle": "2025-09-05T13:49:48.704223Z",
     "shell.execute_reply": "2025-09-05T13:49:48.703514Z"
    },
    "papermill": {
     "duration": 0.025207,
     "end_time": "2025-09-05T13:49:48.705261",
     "exception": false,
     "start_time": "2025-09-05T13:49:48.680054",
     "status": "completed"
    },
    "tags": []
   },
   "outputs": [
    {
     "name": "stdout",
     "output_type": "stream",
     "text": [
      "Training folders considered: {'gaussian_noise', 'dirty_lens', 'low_resolution', 'motion_blur', 'original', 'blur', 'lens_flare', 'chromatic_aberration'}\n",
      "Validation folders considered: {'gaussian_noise', 'dirty_lens', 'low_resolution', 'motion_blur', 'original', 'blur', 'lens_flare', 'chromatic_aberration'}\n",
      "Test folders considered: {'gaussian_noise', 'dirty_lens', 'low_resolution', 'motion_blur', 'original', 'blur', 'lens_flare', 'chromatic_aberration'}\n"
     ]
    }
   ],
   "source": [
    "ignore_folder = \"random_occlusion\"\n",
    "\n",
    "def get_included_folders(dataset, ignore_folder):\n",
    "    included = set()\n",
    "    for img_path, label in dataset.samples:\n",
    "        # Split the path into parts and ignore if ignore_folder is in the path\n",
    "        if ignore_folder not in img_path.split(\"/\"):\n",
    "            # The folder name just above the image (or the class folder)\n",
    "            folder_name = img_path.split(\"/\")[-2]\n",
    "            included.add(folder_name)\n",
    "    return included\n",
    "\n",
    "train_folders = get_included_folders(train_ds, ignore_folder)\n",
    "val_folders   = get_included_folders(val_ds, ignore_folder)\n",
    "test_folders  = get_included_folders(test_ds, ignore_folder)\n",
    "\n",
    "print(\"Training folders considered:\", train_folders)\n",
    "print(\"Validation folders considered:\", val_folders)\n",
    "print(\"Test folders considered:\", test_folders)"
   ]
  },
  {
   "cell_type": "code",
   "execution_count": 7,
   "id": "c455458f",
   "metadata": {
    "execution": {
     "iopub.execute_input": "2025-09-05T13:49:48.711780Z",
     "iopub.status.busy": "2025-09-05T13:49:48.711553Z",
     "iopub.status.idle": "2025-09-05T13:49:48.714982Z",
     "shell.execute_reply": "2025-09-05T13:49:48.714430Z"
    },
    "papermill": {
     "duration": 0.007681,
     "end_time": "2025-09-05T13:49:48.715971",
     "exception": false,
     "start_time": "2025-09-05T13:49:48.708290",
     "status": "completed"
    },
    "tags": []
   },
   "outputs": [],
   "source": [
    "import seaborn as sns\n",
    "import numpy as np\n",
    "import time\n",
    "from tqdm import tqdm"
   ]
  },
  {
   "cell_type": "code",
   "execution_count": 8,
   "id": "2928c68c",
   "metadata": {
    "execution": {
     "iopub.execute_input": "2025-09-05T13:49:48.722920Z",
     "iopub.status.busy": "2025-09-05T13:49:48.722710Z",
     "iopub.status.idle": "2025-09-05T13:49:48.737800Z",
     "shell.execute_reply": "2025-09-05T13:49:48.737188Z"
    },
    "papermill": {
     "duration": 0.019813,
     "end_time": "2025-09-05T13:49:48.738904",
     "exception": false,
     "start_time": "2025-09-05T13:49:48.719091",
     "status": "completed"
    },
    "tags": []
   },
   "outputs": [],
   "source": [
    "# -----------------------------\n",
    "# 2. Define ResNet50 Model from Scratch\n",
    "# -----------------------------\n",
    "import torch\n",
    "import torch.nn as nn\n",
    "import torch.nn.functional as F\n",
    "import numpy as np\n",
    "import matplotlib.pyplot as plt\n",
    "import seaborn as sns\n",
    "from torchsummary import summary\n",
    "from sklearn.metrics import accuracy_score, classification_report, confusion_matrix\n",
    "import pandas as pd\n",
    "from tqdm import tqdm\n",
    "import time\n",
    "\n",
    "class Bottleneck(nn.Module):\n",
    "    \"\"\"Bottleneck block for ResNet50\"\"\"\n",
    "    expansion = 4\n",
    "    \n",
    "    def __init__(self, inplanes, planes, stride=1, downsample=None):\n",
    "        super().__init__()\n",
    "        self.conv1 = nn.Conv2d(inplanes, planes, kernel_size=1, bias=False)\n",
    "        self.bn1 = nn.BatchNorm2d(planes)\n",
    "        self.conv2 = nn.Conv2d(planes, planes, kernel_size=3, stride=stride, padding=1, bias=False)\n",
    "        self.bn2 = nn.BatchNorm2d(planes)\n",
    "        self.conv3 = nn.Conv2d(planes, planes * self.expansion, kernel_size=1, bias=False)\n",
    "        self.bn3 = nn.BatchNorm2d(planes * self.expansion)\n",
    "        self.relu = nn.ReLU(inplace=True)\n",
    "        self.downsample = downsample\n",
    "        self.stride = stride\n",
    "    \n",
    "    def forward(self, x):\n",
    "        identity = x\n",
    "        \n",
    "        out = self.conv1(x)\n",
    "        out = self.bn1(out)\n",
    "        out = self.relu(out)\n",
    "        \n",
    "        out = self.conv2(out)\n",
    "        out = self.bn2(out)\n",
    "        out = self.relu(out)\n",
    "        \n",
    "        out = self.conv3(out)\n",
    "        out = self.bn3(out)\n",
    "        \n",
    "        if self.downsample is not None:\n",
    "            identity = self.downsample(x)\n",
    "        \n",
    "        out += identity\n",
    "        out = self.relu(out)\n",
    "        \n",
    "        return out\n",
    "\n",
    "class MyResNet50(nn.Module):\n",
    "    \"\"\"ResNet50 Implementation from Scratch\"\"\"\n",
    "    def __init__(self, num_classes=4, zero_init_residual=False):\n",
    "        super().__init__()\n",
    "        self.inplanes = 64\n",
    "        \n",
    "        # Initial convolution and pooling layers\n",
    "        self.conv1 = nn.Conv2d(3, 64, kernel_size=7, stride=2, padding=3, bias=False)\n",
    "        self.bn1 = nn.BatchNorm2d(64)\n",
    "        self.relu = nn.ReLU(inplace=True)\n",
    "        self.maxpool = nn.MaxPool2d(kernel_size=3, stride=2, padding=1)\n",
    "        \n",
    "        # Residual layers\n",
    "        self.layer1 = self._make_layer(64, 3)\n",
    "        self.layer2 = self._make_layer(128, 4, stride=2)\n",
    "        self.layer3 = self._make_layer(256, 6, stride=2)\n",
    "        self.layer4 = self._make_layer(512, 3, stride=2)\n",
    "        \n",
    "        # Final layers\n",
    "        self.avgpool = nn.AdaptiveAvgPool2d((1, 1))\n",
    "        self.fc = nn.Linear(512 * Bottleneck.expansion, num_classes)\n",
    "        \n",
    "        # Initialize weights\n",
    "        self._initialize_weights(zero_init_residual)\n",
    "    \n",
    "    def _make_layer(self, planes, blocks, stride=1):\n",
    "        \"\"\"Create a residual layer with specified number of blocks\"\"\"\n",
    "        downsample = None\n",
    "        if stride != 1 or self.inplanes != planes * Bottleneck.expansion:\n",
    "            downsample = nn.Sequential(\n",
    "                nn.Conv2d(self.inplanes, planes * Bottleneck.expansion,\n",
    "                          kernel_size=1, stride=stride, bias=False),\n",
    "                nn.BatchNorm2d(planes * Bottleneck.expansion),\n",
    "            )\n",
    "        \n",
    "        layers = []\n",
    "        layers.append(Bottleneck(self.inplanes, planes, stride, downsample))\n",
    "        self.inplanes = planes * Bottleneck.expansion\n",
    "        for _ in range(1, blocks):\n",
    "            layers.append(Bottleneck(self.inplanes, planes))\n",
    "        \n",
    "        return nn.Sequential(*layers)\n",
    "    \n",
    "    def _initialize_weights(self, zero_init_residual):\n",
    "        \"\"\"Initialize weights using He initialization\"\"\"\n",
    "        for m in self.modules():\n",
    "            if isinstance(m, nn.Conv2d):\n",
    "                nn.init.kaiming_normal_(m.weight, mode='fan_out', nonlinearity='relu')\n",
    "            elif isinstance(m, (nn.BatchNorm2d, nn.GroupNorm)):\n",
    "                nn.init.constant_(m.weight, 1)\n",
    "                nn.init.constant_(m.bias, 0)\n",
    "            elif isinstance(m, nn.Linear):\n",
    "                nn.init.normal_(m.weight, 0, 0.01)\n",
    "                nn.init.constant_(m.bias, 0)\n",
    "        \n",
    "        # Zero-initialize the last BN in each residual branch for better training\n",
    "        if zero_init_residual:\n",
    "            for m in self.modules():\n",
    "                if isinstance(m, Bottleneck):\n",
    "                    nn.init.constant_(m.bn3.weight, 0)\n",
    "    \n",
    "    def forward(self, x):\n",
    "        x = self.conv1(x)\n",
    "        x = self.bn1(x)\n",
    "        x = self.relu(x)\n",
    "        x = self.maxpool(x)\n",
    "        \n",
    "        x = self.layer1(x)\n",
    "        x = self.layer2(x)\n",
    "        x = self.layer3(x)\n",
    "        x = self.layer4(x)\n",
    "        \n",
    "        x = self.avgpool(x)\n",
    "        x = torch.flatten(x, 1)\n",
    "        x = self.fc(x)\n",
    "        \n",
    "        return x"
   ]
  },
  {
   "cell_type": "code",
   "execution_count": 9,
   "id": "5a44b94d",
   "metadata": {
    "execution": {
     "iopub.execute_input": "2025-09-05T13:49:48.745736Z",
     "iopub.status.busy": "2025-09-05T13:49:48.745475Z",
     "iopub.status.idle": "2025-09-05T13:49:50.176771Z",
     "shell.execute_reply": "2025-09-05T13:49:50.175896Z"
    },
    "papermill": {
     "duration": 1.436739,
     "end_time": "2025-09-05T13:49:50.178747",
     "exception": false,
     "start_time": "2025-09-05T13:49:48.742008",
     "status": "completed"
    },
    "tags": []
   },
   "outputs": [
    {
     "name": "stdout",
     "output_type": "stream",
     "text": [
      "ResNet50 Model Summary:\n",
      "----------------------------------------------------------------\n",
      "        Layer (type)               Output Shape         Param #\n",
      "================================================================\n",
      "            Conv2d-1         [-1, 64, 112, 112]           9,408\n",
      "       BatchNorm2d-2         [-1, 64, 112, 112]             128\n",
      "              ReLU-3         [-1, 64, 112, 112]               0\n",
      "         MaxPool2d-4           [-1, 64, 56, 56]               0\n",
      "            Conv2d-5           [-1, 64, 56, 56]           4,096\n",
      "       BatchNorm2d-6           [-1, 64, 56, 56]             128\n",
      "              ReLU-7           [-1, 64, 56, 56]               0\n",
      "            Conv2d-8           [-1, 64, 56, 56]          36,864\n",
      "       BatchNorm2d-9           [-1, 64, 56, 56]             128\n",
      "             ReLU-10           [-1, 64, 56, 56]               0\n",
      "           Conv2d-11          [-1, 256, 56, 56]          16,384\n",
      "      BatchNorm2d-12          [-1, 256, 56, 56]             512\n",
      "           Conv2d-13          [-1, 256, 56, 56]          16,384\n",
      "      BatchNorm2d-14          [-1, 256, 56, 56]             512\n",
      "             ReLU-15          [-1, 256, 56, 56]               0\n",
      "       Bottleneck-16          [-1, 256, 56, 56]               0\n",
      "           Conv2d-17           [-1, 64, 56, 56]          16,384\n",
      "      BatchNorm2d-18           [-1, 64, 56, 56]             128\n",
      "             ReLU-19           [-1, 64, 56, 56]               0\n",
      "           Conv2d-20           [-1, 64, 56, 56]          36,864\n",
      "      BatchNorm2d-21           [-1, 64, 56, 56]             128\n",
      "             ReLU-22           [-1, 64, 56, 56]               0\n",
      "           Conv2d-23          [-1, 256, 56, 56]          16,384\n",
      "      BatchNorm2d-24          [-1, 256, 56, 56]             512\n",
      "             ReLU-25          [-1, 256, 56, 56]               0\n",
      "       Bottleneck-26          [-1, 256, 56, 56]               0\n",
      "           Conv2d-27           [-1, 64, 56, 56]          16,384\n",
      "      BatchNorm2d-28           [-1, 64, 56, 56]             128\n",
      "             ReLU-29           [-1, 64, 56, 56]               0\n",
      "           Conv2d-30           [-1, 64, 56, 56]          36,864\n",
      "      BatchNorm2d-31           [-1, 64, 56, 56]             128\n",
      "             ReLU-32           [-1, 64, 56, 56]               0\n",
      "           Conv2d-33          [-1, 256, 56, 56]          16,384\n",
      "      BatchNorm2d-34          [-1, 256, 56, 56]             512\n",
      "             ReLU-35          [-1, 256, 56, 56]               0\n",
      "       Bottleneck-36          [-1, 256, 56, 56]               0\n",
      "           Conv2d-37          [-1, 128, 56, 56]          32,768\n",
      "      BatchNorm2d-38          [-1, 128, 56, 56]             256\n",
      "             ReLU-39          [-1, 128, 56, 56]               0\n",
      "           Conv2d-40          [-1, 128, 28, 28]         147,456\n",
      "      BatchNorm2d-41          [-1, 128, 28, 28]             256\n",
      "             ReLU-42          [-1, 128, 28, 28]               0\n",
      "           Conv2d-43          [-1, 512, 28, 28]          65,536\n",
      "      BatchNorm2d-44          [-1, 512, 28, 28]           1,024\n",
      "           Conv2d-45          [-1, 512, 28, 28]         131,072\n",
      "      BatchNorm2d-46          [-1, 512, 28, 28]           1,024\n",
      "             ReLU-47          [-1, 512, 28, 28]               0\n",
      "       Bottleneck-48          [-1, 512, 28, 28]               0\n",
      "           Conv2d-49          [-1, 128, 28, 28]          65,536\n",
      "      BatchNorm2d-50          [-1, 128, 28, 28]             256\n",
      "             ReLU-51          [-1, 128, 28, 28]               0\n",
      "           Conv2d-52          [-1, 128, 28, 28]         147,456\n",
      "      BatchNorm2d-53          [-1, 128, 28, 28]             256\n",
      "             ReLU-54          [-1, 128, 28, 28]               0\n",
      "           Conv2d-55          [-1, 512, 28, 28]          65,536\n",
      "      BatchNorm2d-56          [-1, 512, 28, 28]           1,024\n",
      "             ReLU-57          [-1, 512, 28, 28]               0\n",
      "       Bottleneck-58          [-1, 512, 28, 28]               0\n",
      "           Conv2d-59          [-1, 128, 28, 28]          65,536\n",
      "      BatchNorm2d-60          [-1, 128, 28, 28]             256\n",
      "             ReLU-61          [-1, 128, 28, 28]               0\n",
      "           Conv2d-62          [-1, 128, 28, 28]         147,456\n",
      "      BatchNorm2d-63          [-1, 128, 28, 28]             256\n",
      "             ReLU-64          [-1, 128, 28, 28]               0\n",
      "           Conv2d-65          [-1, 512, 28, 28]          65,536\n",
      "      BatchNorm2d-66          [-1, 512, 28, 28]           1,024\n",
      "             ReLU-67          [-1, 512, 28, 28]               0\n",
      "       Bottleneck-68          [-1, 512, 28, 28]               0\n",
      "           Conv2d-69          [-1, 128, 28, 28]          65,536\n",
      "      BatchNorm2d-70          [-1, 128, 28, 28]             256\n",
      "             ReLU-71          [-1, 128, 28, 28]               0\n",
      "           Conv2d-72          [-1, 128, 28, 28]         147,456\n",
      "      BatchNorm2d-73          [-1, 128, 28, 28]             256\n",
      "             ReLU-74          [-1, 128, 28, 28]               0\n",
      "           Conv2d-75          [-1, 512, 28, 28]          65,536\n",
      "      BatchNorm2d-76          [-1, 512, 28, 28]           1,024\n",
      "             ReLU-77          [-1, 512, 28, 28]               0\n",
      "       Bottleneck-78          [-1, 512, 28, 28]               0\n",
      "           Conv2d-79          [-1, 256, 28, 28]         131,072\n",
      "      BatchNorm2d-80          [-1, 256, 28, 28]             512\n",
      "             ReLU-81          [-1, 256, 28, 28]               0\n",
      "           Conv2d-82          [-1, 256, 14, 14]         589,824\n",
      "      BatchNorm2d-83          [-1, 256, 14, 14]             512\n",
      "             ReLU-84          [-1, 256, 14, 14]               0\n",
      "           Conv2d-85         [-1, 1024, 14, 14]         262,144\n",
      "      BatchNorm2d-86         [-1, 1024, 14, 14]           2,048\n",
      "           Conv2d-87         [-1, 1024, 14, 14]         524,288\n",
      "      BatchNorm2d-88         [-1, 1024, 14, 14]           2,048\n",
      "             ReLU-89         [-1, 1024, 14, 14]               0\n",
      "       Bottleneck-90         [-1, 1024, 14, 14]               0\n",
      "           Conv2d-91          [-1, 256, 14, 14]         262,144\n",
      "      BatchNorm2d-92          [-1, 256, 14, 14]             512\n",
      "             ReLU-93          [-1, 256, 14, 14]               0\n",
      "           Conv2d-94          [-1, 256, 14, 14]         589,824\n",
      "      BatchNorm2d-95          [-1, 256, 14, 14]             512\n",
      "             ReLU-96          [-1, 256, 14, 14]               0\n",
      "           Conv2d-97         [-1, 1024, 14, 14]         262,144\n",
      "      BatchNorm2d-98         [-1, 1024, 14, 14]           2,048\n",
      "             ReLU-99         [-1, 1024, 14, 14]               0\n",
      "      Bottleneck-100         [-1, 1024, 14, 14]               0\n",
      "          Conv2d-101          [-1, 256, 14, 14]         262,144\n",
      "     BatchNorm2d-102          [-1, 256, 14, 14]             512\n",
      "            ReLU-103          [-1, 256, 14, 14]               0\n",
      "          Conv2d-104          [-1, 256, 14, 14]         589,824\n",
      "     BatchNorm2d-105          [-1, 256, 14, 14]             512\n",
      "            ReLU-106          [-1, 256, 14, 14]               0\n",
      "          Conv2d-107         [-1, 1024, 14, 14]         262,144\n",
      "     BatchNorm2d-108         [-1, 1024, 14, 14]           2,048\n",
      "            ReLU-109         [-1, 1024, 14, 14]               0\n",
      "      Bottleneck-110         [-1, 1024, 14, 14]               0\n",
      "          Conv2d-111          [-1, 256, 14, 14]         262,144\n",
      "     BatchNorm2d-112          [-1, 256, 14, 14]             512\n",
      "            ReLU-113          [-1, 256, 14, 14]               0\n",
      "          Conv2d-114          [-1, 256, 14, 14]         589,824\n",
      "     BatchNorm2d-115          [-1, 256, 14, 14]             512\n",
      "            ReLU-116          [-1, 256, 14, 14]               0\n",
      "          Conv2d-117         [-1, 1024, 14, 14]         262,144\n",
      "     BatchNorm2d-118         [-1, 1024, 14, 14]           2,048\n",
      "            ReLU-119         [-1, 1024, 14, 14]               0\n",
      "      Bottleneck-120         [-1, 1024, 14, 14]               0\n",
      "          Conv2d-121          [-1, 256, 14, 14]         262,144\n",
      "     BatchNorm2d-122          [-1, 256, 14, 14]             512\n",
      "            ReLU-123          [-1, 256, 14, 14]               0\n",
      "          Conv2d-124          [-1, 256, 14, 14]         589,824\n",
      "     BatchNorm2d-125          [-1, 256, 14, 14]             512\n",
      "            ReLU-126          [-1, 256, 14, 14]               0\n",
      "          Conv2d-127         [-1, 1024, 14, 14]         262,144\n",
      "     BatchNorm2d-128         [-1, 1024, 14, 14]           2,048\n",
      "            ReLU-129         [-1, 1024, 14, 14]               0\n",
      "      Bottleneck-130         [-1, 1024, 14, 14]               0\n",
      "          Conv2d-131          [-1, 256, 14, 14]         262,144\n",
      "     BatchNorm2d-132          [-1, 256, 14, 14]             512\n",
      "            ReLU-133          [-1, 256, 14, 14]               0\n",
      "          Conv2d-134          [-1, 256, 14, 14]         589,824\n",
      "     BatchNorm2d-135          [-1, 256, 14, 14]             512\n",
      "            ReLU-136          [-1, 256, 14, 14]               0\n",
      "          Conv2d-137         [-1, 1024, 14, 14]         262,144\n",
      "     BatchNorm2d-138         [-1, 1024, 14, 14]           2,048\n",
      "            ReLU-139         [-1, 1024, 14, 14]               0\n",
      "      Bottleneck-140         [-1, 1024, 14, 14]               0\n",
      "          Conv2d-141          [-1, 512, 14, 14]         524,288\n",
      "     BatchNorm2d-142          [-1, 512, 14, 14]           1,024\n",
      "            ReLU-143          [-1, 512, 14, 14]               0\n",
      "          Conv2d-144            [-1, 512, 7, 7]       2,359,296\n",
      "     BatchNorm2d-145            [-1, 512, 7, 7]           1,024\n",
      "            ReLU-146            [-1, 512, 7, 7]               0\n",
      "          Conv2d-147           [-1, 2048, 7, 7]       1,048,576\n",
      "     BatchNorm2d-148           [-1, 2048, 7, 7]           4,096\n",
      "          Conv2d-149           [-1, 2048, 7, 7]       2,097,152\n",
      "     BatchNorm2d-150           [-1, 2048, 7, 7]           4,096\n",
      "            ReLU-151           [-1, 2048, 7, 7]               0\n",
      "      Bottleneck-152           [-1, 2048, 7, 7]               0\n",
      "          Conv2d-153            [-1, 512, 7, 7]       1,048,576\n",
      "     BatchNorm2d-154            [-1, 512, 7, 7]           1,024\n",
      "            ReLU-155            [-1, 512, 7, 7]               0\n",
      "          Conv2d-156            [-1, 512, 7, 7]       2,359,296\n",
      "     BatchNorm2d-157            [-1, 512, 7, 7]           1,024\n",
      "            ReLU-158            [-1, 512, 7, 7]               0\n",
      "          Conv2d-159           [-1, 2048, 7, 7]       1,048,576\n",
      "     BatchNorm2d-160           [-1, 2048, 7, 7]           4,096\n",
      "            ReLU-161           [-1, 2048, 7, 7]               0\n",
      "      Bottleneck-162           [-1, 2048, 7, 7]               0\n",
      "          Conv2d-163            [-1, 512, 7, 7]       1,048,576\n",
      "     BatchNorm2d-164            [-1, 512, 7, 7]           1,024\n",
      "            ReLU-165            [-1, 512, 7, 7]               0\n",
      "          Conv2d-166            [-1, 512, 7, 7]       2,359,296\n",
      "     BatchNorm2d-167            [-1, 512, 7, 7]           1,024\n",
      "            ReLU-168            [-1, 512, 7, 7]               0\n",
      "          Conv2d-169           [-1, 2048, 7, 7]       1,048,576\n",
      "     BatchNorm2d-170           [-1, 2048, 7, 7]           4,096\n",
      "            ReLU-171           [-1, 2048, 7, 7]               0\n",
      "      Bottleneck-172           [-1, 2048, 7, 7]               0\n",
      "AdaptiveAvgPool2d-173           [-1, 2048, 1, 1]               0\n",
      "          Linear-174                    [-1, 4]           8,196\n",
      "================================================================\n",
      "Total params: 23,516,228\n",
      "Trainable params: 23,516,228\n",
      "Non-trainable params: 0\n",
      "----------------------------------------------------------------\n",
      "Input size (MB): 0.57\n",
      "Forward/backward pass size (MB): 286.55\n",
      "Params size (MB): 89.71\n",
      "Estimated Total Size (MB): 376.83\n",
      "----------------------------------------------------------------\n"
     ]
    }
   ],
   "source": [
    "# -----------------------------\n",
    "# 3. Training Setup\n",
    "# -----------------------------\n",
    "device = torch.device(\"cuda\" if torch.cuda.is_available() else \"cpu\")\n",
    "model = MyResNet50(num_classes=len(classes), zero_init_residual=True).to(device)\n",
    "criterion = nn.CrossEntropyLoss()\n",
    "optimizer = torch.optim.SGD(model.parameters(), lr=0.1, momentum=0.9, weight_decay=1e-4)\n",
    "\n",
    "print(\"ResNet50 Model Summary:\")\n",
    "try:\n",
    "    summary(model, (3, 224, 224))\n",
    "except:\n",
    "    print(\"Model summary generation failed - this is normal for complex architectures\")\n",
    "    print(f\"Model created successfully with {sum(p.numel() for p in model.parameters()):,} parameters\")"
   ]
  },
  {
   "cell_type": "code",
   "execution_count": 10,
   "id": "9e2cd2b6",
   "metadata": {
    "execution": {
     "iopub.execute_input": "2025-09-05T13:49:50.188270Z",
     "iopub.status.busy": "2025-09-05T13:49:50.188016Z",
     "iopub.status.idle": "2025-09-05T16:27:10.117389Z",
     "shell.execute_reply": "2025-09-05T16:27:10.116615Z"
    },
    "papermill": {
     "duration": 9439.937312,
     "end_time": "2025-09-05T16:27:10.120758",
     "exception": false,
     "start_time": "2025-09-05T13:49:50.183446",
     "status": "completed"
    },
    "tags": []
   },
   "outputs": [
    {
     "name": "stdout",
     "output_type": "stream",
     "text": [
      "\n",
      "🚀 Starting ResNet50 Training for 50 epochs...\n",
      "================================================================================\n",
      "\n",
      "📈 Epoch 1/50\n",
      "--------------------------------------------------\n",
      "🔄 Training Phase...\n"
     ]
    },
    {
     "name": "stderr",
     "output_type": "stream",
     "text": [
      "Training: 100%|██████████████████████████████| 311/311 [03:42<00:00,  1.40it/s, Loss=1.5725, Acc=0.5026, GPU=0.3GB]\n"
     ]
    },
    {
     "name": "stdout",
     "output_type": "stream",
     "text": [
      "✅ Training completed in 222.87s\n",
      "🔍 Validation Phase...\n"
     ]
    },
    {
     "name": "stderr",
     "output_type": "stream",
     "text": [
      "Validation: 100%|██████████████████████████████| 81/81 [00:40<00:00,  1.99it/s, Loss=1.1313, Acc=0.5256]\n"
     ]
    },
    {
     "name": "stdout",
     "output_type": "stream",
     "text": [
      "✅ Validation completed in 40.62s\n",
      "🌟 New best ResNet50 model found! Validation Accuracy: 0.5256\n",
      "\n",
      "📊 Epoch 1 Summary:\n",
      "│ Train Loss: 1.5725 | Train Acc: 0.5026\n",
      "│ Val Loss:   1.1313 | Val Acc:   0.5256\n",
      "│ Train Time: 222.87s | Val Time: 40.62s\n",
      "│ Total Epoch Time: 263.50s\n",
      "│ Best Val Acc: 0.5256 (Epoch 1)\n",
      "│ GPU Memory: 0.3GB / 3.2GB\n",
      "================================================================================\n",
      "\n",
      "📈 Epoch 2/50\n",
      "--------------------------------------------------\n",
      "🔄 Training Phase...\n"
     ]
    },
    {
     "name": "stderr",
     "output_type": "stream",
     "text": [
      "Training: 100%|██████████████████████████████| 311/311 [02:39<00:00,  1.95it/s, Loss=1.0530, Acc=0.5535, GPU=0.3GB]\n"
     ]
    },
    {
     "name": "stdout",
     "output_type": "stream",
     "text": [
      "✅ Training completed in 159.82s\n",
      "🔍 Validation Phase...\n"
     ]
    },
    {
     "name": "stderr",
     "output_type": "stream",
     "text": [
      "Validation: 100%|██████████████████████████████| 81/81 [00:24<00:00,  3.36it/s, Loss=1.1055, Acc=0.5450]\n"
     ]
    },
    {
     "name": "stdout",
     "output_type": "stream",
     "text": [
      "✅ Validation completed in 24.13s\n",
      "🌟 New best ResNet50 model found! Validation Accuracy: 0.5450\n",
      "\n",
      "📊 Epoch 2 Summary:\n",
      "│ Train Loss: 1.0530 | Train Acc: 0.5535\n",
      "│ Val Loss:   1.1055 | Val Acc:   0.5450\n",
      "│ Train Time: 159.82s | Val Time: 24.13s\n",
      "│ Total Epoch Time: 183.96s\n",
      "│ Best Val Acc: 0.5450 (Epoch 2)\n",
      "│ GPU Memory: 0.3GB / 3.2GB\n",
      "================================================================================\n",
      "\n",
      "📈 Epoch 3/50\n",
      "--------------------------------------------------\n",
      "🔄 Training Phase...\n"
     ]
    },
    {
     "name": "stderr",
     "output_type": "stream",
     "text": [
      "Training: 100%|██████████████████████████████| 311/311 [02:40<00:00,  1.94it/s, Loss=0.9260, Acc=0.6203, GPU=0.3GB]\n"
     ]
    },
    {
     "name": "stdout",
     "output_type": "stream",
     "text": [
      "✅ Training completed in 160.04s\n",
      "🔍 Validation Phase...\n"
     ]
    },
    {
     "name": "stderr",
     "output_type": "stream",
     "text": [
      "Validation: 100%|██████████████████████████████| 81/81 [00:24<00:00,  3.31it/s, Loss=1.3595, Acc=0.5512]\n"
     ]
    },
    {
     "name": "stdout",
     "output_type": "stream",
     "text": [
      "✅ Validation completed in 24.49s\n",
      "🌟 New best ResNet50 model found! Validation Accuracy: 0.5512\n",
      "\n",
      "📊 Epoch 3 Summary:\n",
      "│ Train Loss: 0.9260 | Train Acc: 0.6203\n",
      "│ Val Loss:   1.3595 | Val Acc:   0.5512\n",
      "│ Train Time: 160.04s | Val Time: 24.49s\n",
      "│ Total Epoch Time: 184.54s\n",
      "│ Best Val Acc: 0.5512 (Epoch 3)\n",
      "│ GPU Memory: 0.3GB / 3.2GB\n",
      "================================================================================\n",
      "\n",
      "📈 Epoch 4/50\n",
      "--------------------------------------------------\n",
      "🔄 Training Phase...\n"
     ]
    },
    {
     "name": "stderr",
     "output_type": "stream",
     "text": [
      "Training: 100%|██████████████████████████████| 311/311 [02:40<00:00,  1.94it/s, Loss=0.7393, Acc=0.7047, GPU=0.3GB]\n"
     ]
    },
    {
     "name": "stdout",
     "output_type": "stream",
     "text": [
      "✅ Training completed in 160.05s\n",
      "🔍 Validation Phase...\n"
     ]
    },
    {
     "name": "stderr",
     "output_type": "stream",
     "text": [
      "Validation: 100%|██████████████████████████████| 81/81 [00:24<00:00,  3.29it/s, Loss=1.1339, Acc=0.6250]\n"
     ]
    },
    {
     "name": "stdout",
     "output_type": "stream",
     "text": [
      "✅ Validation completed in 24.62s\n",
      "🌟 New best ResNet50 model found! Validation Accuracy: 0.6250\n",
      "\n",
      "📊 Epoch 4 Summary:\n",
      "│ Train Loss: 0.7393 | Train Acc: 0.7047\n",
      "│ Val Loss:   1.1339 | Val Acc:   0.6250\n",
      "│ Train Time: 160.05s | Val Time: 24.62s\n",
      "│ Total Epoch Time: 184.68s\n",
      "│ Best Val Acc: 0.6250 (Epoch 4)\n",
      "│ GPU Memory: 0.3GB / 3.2GB\n",
      "================================================================================\n",
      "\n",
      "📈 Epoch 5/50\n",
      "--------------------------------------------------\n",
      "🔄 Training Phase...\n"
     ]
    },
    {
     "name": "stderr",
     "output_type": "stream",
     "text": [
      "Training: 100%|██████████████████████████████| 311/311 [02:40<00:00,  1.94it/s, Loss=0.5109, Acc=0.8067, GPU=0.3GB]\n"
     ]
    },
    {
     "name": "stdout",
     "output_type": "stream",
     "text": [
      "✅ Training completed in 160.08s\n",
      "🔍 Validation Phase...\n"
     ]
    },
    {
     "name": "stderr",
     "output_type": "stream",
     "text": [
      "Validation: 100%|██████████████████████████████| 81/81 [00:24<00:00,  3.34it/s, Loss=1.4615, Acc=0.6308]\n"
     ]
    },
    {
     "name": "stdout",
     "output_type": "stream",
     "text": [
      "✅ Validation completed in 24.28s\n",
      "🌟 New best ResNet50 model found! Validation Accuracy: 0.6308\n",
      "\n",
      "📊 Epoch 5 Summary:\n",
      "│ Train Loss: 0.5109 | Train Acc: 0.8067\n",
      "│ Val Loss:   1.4615 | Val Acc:   0.6308\n",
      "│ Train Time: 160.08s | Val Time: 24.28s\n",
      "│ Total Epoch Time: 184.36s\n",
      "│ Best Val Acc: 0.6308 (Epoch 5)\n",
      "│ GPU Memory: 0.3GB / 3.2GB\n",
      "================================================================================\n",
      "\n",
      "📈 Epoch 6/50\n",
      "--------------------------------------------------\n",
      "🔄 Training Phase...\n"
     ]
    },
    {
     "name": "stderr",
     "output_type": "stream",
     "text": [
      "Training: 100%|██████████████████████████████| 311/311 [02:40<00:00,  1.94it/s, Loss=0.3228, Acc=0.8816, GPU=0.3GB]\n"
     ]
    },
    {
     "name": "stdout",
     "output_type": "stream",
     "text": [
      "✅ Training completed in 160.71s\n",
      "🔍 Validation Phase...\n"
     ]
    },
    {
     "name": "stderr",
     "output_type": "stream",
     "text": [
      "Validation: 100%|██████████████████████████████| 81/81 [00:24<00:00,  3.32it/s, Loss=1.8200, Acc=0.5819]\n"
     ]
    },
    {
     "name": "stdout",
     "output_type": "stream",
     "text": [
      "✅ Validation completed in 24.38s\n",
      "\n",
      "📊 Epoch 6 Summary:\n",
      "│ Train Loss: 0.3228 | Train Acc: 0.8816\n",
      "│ Val Loss:   1.8200 | Val Acc:   0.5819\n",
      "│ Train Time: 160.71s | Val Time: 24.38s\n",
      "│ Total Epoch Time: 185.09s\n",
      "│ Best Val Acc: 0.6308 (Epoch 5)\n",
      "│ GPU Memory: 0.3GB / 3.2GB\n",
      "================================================================================\n",
      "\n",
      "📈 Epoch 7/50\n",
      "--------------------------------------------------\n",
      "🔄 Training Phase...\n"
     ]
    },
    {
     "name": "stderr",
     "output_type": "stream",
     "text": [
      "Training: 100%|██████████████████████████████| 311/311 [02:42<00:00,  1.92it/s, Loss=0.1943, Acc=0.9312, GPU=0.3GB]\n"
     ]
    },
    {
     "name": "stdout",
     "output_type": "stream",
     "text": [
      "✅ Training completed in 162.33s\n",
      "🔍 Validation Phase...\n"
     ]
    },
    {
     "name": "stderr",
     "output_type": "stream",
     "text": [
      "Validation: 100%|██████████████████████████████| 81/81 [00:25<00:00,  3.23it/s, Loss=1.6431, Acc=0.6366]\n"
     ]
    },
    {
     "name": "stdout",
     "output_type": "stream",
     "text": [
      "✅ Validation completed in 25.06s\n",
      "🌟 New best ResNet50 model found! Validation Accuracy: 0.6366\n",
      "\n",
      "📊 Epoch 7 Summary:\n",
      "│ Train Loss: 0.1943 | Train Acc: 0.9312\n",
      "│ Val Loss:   1.6431 | Val Acc:   0.6366\n",
      "│ Train Time: 162.33s | Val Time: 25.06s\n",
      "│ Total Epoch Time: 187.39s\n",
      "│ Best Val Acc: 0.6366 (Epoch 7)\n",
      "│ GPU Memory: 0.3GB / 3.2GB\n",
      "================================================================================\n",
      "\n",
      "📈 Epoch 8/50\n",
      "--------------------------------------------------\n",
      "🔄 Training Phase...\n"
     ]
    },
    {
     "name": "stderr",
     "output_type": "stream",
     "text": [
      "Training: 100%|██████████████████████████████| 311/311 [02:40<00:00,  1.94it/s, Loss=0.1189, Acc=0.9612, GPU=0.3GB]\n"
     ]
    },
    {
     "name": "stdout",
     "output_type": "stream",
     "text": [
      "✅ Training completed in 160.24s\n",
      "🔍 Validation Phase...\n"
     ]
    },
    {
     "name": "stderr",
     "output_type": "stream",
     "text": [
      "Validation: 100%|██████████████████████████████| 81/81 [00:24<00:00,  3.28it/s, Loss=2.2462, Acc=0.5769]\n"
     ]
    },
    {
     "name": "stdout",
     "output_type": "stream",
     "text": [
      "✅ Validation completed in 24.72s\n",
      "\n",
      "📊 Epoch 8 Summary:\n",
      "│ Train Loss: 0.1189 | Train Acc: 0.9612\n",
      "│ Val Loss:   2.2462 | Val Acc:   0.5769\n",
      "│ Train Time: 160.24s | Val Time: 24.72s\n",
      "│ Total Epoch Time: 184.97s\n",
      "│ Best Val Acc: 0.6366 (Epoch 7)\n",
      "│ GPU Memory: 0.3GB / 3.2GB\n",
      "================================================================================\n",
      "\n",
      "📈 Epoch 9/50\n",
      "--------------------------------------------------\n",
      "🔄 Training Phase...\n"
     ]
    },
    {
     "name": "stderr",
     "output_type": "stream",
     "text": [
      "Training: 100%|██████████████████████████████| 311/311 [02:40<00:00,  1.94it/s, Loss=0.1160, Acc=0.9605, GPU=0.3GB]\n"
     ]
    },
    {
     "name": "stdout",
     "output_type": "stream",
     "text": [
      "✅ Training completed in 160.51s\n",
      "🔍 Validation Phase...\n"
     ]
    },
    {
     "name": "stderr",
     "output_type": "stream",
     "text": [
      "Validation: 100%|██████████████████████████████| 81/81 [00:25<00:00,  3.21it/s, Loss=1.8723, Acc=0.6378]\n"
     ]
    },
    {
     "name": "stdout",
     "output_type": "stream",
     "text": [
      "✅ Validation completed in 25.27s\n",
      "🌟 New best ResNet50 model found! Validation Accuracy: 0.6378\n",
      "\n",
      "📊 Epoch 9 Summary:\n",
      "│ Train Loss: 0.1160 | Train Acc: 0.9605\n",
      "│ Val Loss:   1.8723 | Val Acc:   0.6378\n",
      "│ Train Time: 160.51s | Val Time: 25.27s\n",
      "│ Total Epoch Time: 185.79s\n",
      "│ Best Val Acc: 0.6378 (Epoch 9)\n",
      "│ GPU Memory: 0.3GB / 3.2GB\n",
      "================================================================================\n",
      "\n",
      "📈 Epoch 10/50\n",
      "--------------------------------------------------\n",
      "🔄 Training Phase...\n"
     ]
    },
    {
     "name": "stderr",
     "output_type": "stream",
     "text": [
      "Training: 100%|██████████████████████████████| 311/311 [02:42<00:00,  1.91it/s, Loss=0.0563, Acc=0.9810, GPU=0.3GB]\n"
     ]
    },
    {
     "name": "stdout",
     "output_type": "stream",
     "text": [
      "✅ Training completed in 162.68s\n",
      "🔍 Validation Phase...\n"
     ]
    },
    {
     "name": "stderr",
     "output_type": "stream",
     "text": [
      "Validation: 100%|██████████████████████████████| 81/81 [00:24<00:00,  3.31it/s, Loss=1.7504, Acc=0.6487]\n"
     ]
    },
    {
     "name": "stdout",
     "output_type": "stream",
     "text": [
      "✅ Validation completed in 24.50s\n",
      "🌟 New best ResNet50 model found! Validation Accuracy: 0.6487\n",
      "\n",
      "📊 Epoch 10 Summary:\n",
      "│ Train Loss: 0.0563 | Train Acc: 0.9810\n",
      "│ Val Loss:   1.7504 | Val Acc:   0.6487\n",
      "│ Train Time: 162.68s | Val Time: 24.50s\n",
      "│ Total Epoch Time: 187.19s\n",
      "│ Best Val Acc: 0.6487 (Epoch 10)\n",
      "│ GPU Memory: 0.3GB / 3.2GB\n",
      "================================================================================\n",
      "\n",
      "📈 Epoch 11/50\n",
      "--------------------------------------------------\n",
      "🔄 Training Phase...\n"
     ]
    },
    {
     "name": "stderr",
     "output_type": "stream",
     "text": [
      "Training: 100%|██████████████████████████████| 311/311 [02:43<00:00,  1.91it/s, Loss=0.0528, Acc=0.9806, GPU=0.3GB]\n"
     ]
    },
    {
     "name": "stdout",
     "output_type": "stream",
     "text": [
      "✅ Training completed in 163.05s\n",
      "🔍 Validation Phase...\n"
     ]
    },
    {
     "name": "stderr",
     "output_type": "stream",
     "text": [
      "Validation: 100%|██████████████████████████████| 81/81 [00:24<00:00,  3.25it/s, Loss=2.0684, Acc=0.6281]\n"
     ]
    },
    {
     "name": "stdout",
     "output_type": "stream",
     "text": [
      "✅ Validation completed in 24.90s\n",
      "\n",
      "📊 Epoch 11 Summary:\n",
      "│ Train Loss: 0.0528 | Train Acc: 0.9806\n",
      "│ Val Loss:   2.0684 | Val Acc:   0.6281\n",
      "│ Train Time: 163.05s | Val Time: 24.90s\n",
      "│ Total Epoch Time: 187.95s\n",
      "│ Best Val Acc: 0.6487 (Epoch 10)\n",
      "│ GPU Memory: 0.3GB / 3.2GB\n",
      "================================================================================\n",
      "\n",
      "📈 Epoch 12/50\n",
      "--------------------------------------------------\n",
      "🔄 Training Phase...\n"
     ]
    },
    {
     "name": "stderr",
     "output_type": "stream",
     "text": [
      "Training: 100%|██████████████████████████████| 311/311 [02:42<00:00,  1.92it/s, Loss=0.0522, Acc=0.9846, GPU=0.3GB]\n"
     ]
    },
    {
     "name": "stdout",
     "output_type": "stream",
     "text": [
      "✅ Training completed in 162.34s\n",
      "🔍 Validation Phase...\n"
     ]
    },
    {
     "name": "stderr",
     "output_type": "stream",
     "text": [
      "Validation: 100%|██████████████████████████████| 81/81 [00:24<00:00,  3.28it/s, Loss=1.9195, Acc=0.6700]\n"
     ]
    },
    {
     "name": "stdout",
     "output_type": "stream",
     "text": [
      "✅ Validation completed in 24.68s\n",
      "🌟 New best ResNet50 model found! Validation Accuracy: 0.6700\n",
      "\n",
      "📊 Epoch 12 Summary:\n",
      "│ Train Loss: 0.0522 | Train Acc: 0.9846\n",
      "│ Val Loss:   1.9195 | Val Acc:   0.6700\n",
      "│ Train Time: 162.34s | Val Time: 24.68s\n",
      "│ Total Epoch Time: 187.02s\n",
      "│ Best Val Acc: 0.6700 (Epoch 12)\n",
      "│ GPU Memory: 0.3GB / 3.2GB\n",
      "================================================================================\n",
      "\n",
      "📈 Epoch 13/50\n",
      "--------------------------------------------------\n",
      "🔄 Training Phase...\n"
     ]
    },
    {
     "name": "stderr",
     "output_type": "stream",
     "text": [
      "Training: 100%|██████████████████████████████| 311/311 [02:41<00:00,  1.93it/s, Loss=0.0249, Acc=0.9933, GPU=0.3GB]\n"
     ]
    },
    {
     "name": "stdout",
     "output_type": "stream",
     "text": [
      "✅ Training completed in 161.56s\n",
      "🔍 Validation Phase...\n"
     ]
    },
    {
     "name": "stderr",
     "output_type": "stream",
     "text": [
      "Validation: 100%|██████████████████████████████| 81/81 [00:24<00:00,  3.29it/s, Loss=2.1102, Acc=0.6495]\n"
     ]
    },
    {
     "name": "stdout",
     "output_type": "stream",
     "text": [
      "✅ Validation completed in 24.64s\n",
      "\n",
      "📊 Epoch 13 Summary:\n",
      "│ Train Loss: 0.0249 | Train Acc: 0.9933\n",
      "│ Val Loss:   2.1102 | Val Acc:   0.6495\n",
      "│ Train Time: 161.56s | Val Time: 24.64s\n",
      "│ Total Epoch Time: 186.19s\n",
      "│ Best Val Acc: 0.6700 (Epoch 12)\n",
      "│ GPU Memory: 0.3GB / 3.2GB\n",
      "================================================================================\n",
      "\n",
      "📈 Epoch 14/50\n",
      "--------------------------------------------------\n",
      "🔄 Training Phase...\n"
     ]
    },
    {
     "name": "stderr",
     "output_type": "stream",
     "text": [
      "Training: 100%|██████████████████████████████| 311/311 [02:41<00:00,  1.92it/s, Loss=0.0499, Acc=0.9823, GPU=0.3GB]\n"
     ]
    },
    {
     "name": "stdout",
     "output_type": "stream",
     "text": [
      "✅ Training completed in 161.92s\n",
      "🔍 Validation Phase...\n"
     ]
    },
    {
     "name": "stderr",
     "output_type": "stream",
     "text": [
      "Validation: 100%|██████████████████████████████| 81/81 [00:25<00:00,  3.22it/s, Loss=2.2071, Acc=0.6432]\n"
     ]
    },
    {
     "name": "stdout",
     "output_type": "stream",
     "text": [
      "✅ Validation completed in 25.15s\n",
      "\n",
      "📊 Epoch 14 Summary:\n",
      "│ Train Loss: 0.0499 | Train Acc: 0.9823\n",
      "│ Val Loss:   2.2071 | Val Acc:   0.6432\n",
      "│ Train Time: 161.92s | Val Time: 25.15s\n",
      "│ Total Epoch Time: 187.07s\n",
      "│ Best Val Acc: 0.6700 (Epoch 12)\n",
      "│ GPU Memory: 0.3GB / 3.2GB\n",
      "================================================================================\n",
      "\n",
      "📈 Epoch 15/50\n",
      "--------------------------------------------------\n",
      "🔄 Training Phase...\n"
     ]
    },
    {
     "name": "stderr",
     "output_type": "stream",
     "text": [
      "Training: 100%|██████████████████████████████| 311/311 [02:42<00:00,  1.92it/s, Loss=0.0380, Acc=0.9879, GPU=0.3GB]\n"
     ]
    },
    {
     "name": "stdout",
     "output_type": "stream",
     "text": [
      "✅ Training completed in 162.19s\n",
      "🔍 Validation Phase...\n"
     ]
    },
    {
     "name": "stderr",
     "output_type": "stream",
     "text": [
      "Validation: 100%|██████████████████████████████| 81/81 [00:24<00:00,  3.32it/s, Loss=1.8738, Acc=0.6689]\n"
     ]
    },
    {
     "name": "stdout",
     "output_type": "stream",
     "text": [
      "✅ Validation completed in 24.41s\n",
      "\n",
      "📊 Epoch 15 Summary:\n",
      "│ Train Loss: 0.0380 | Train Acc: 0.9879\n",
      "│ Val Loss:   1.8738 | Val Acc:   0.6689\n",
      "│ Train Time: 162.19s | Val Time: 24.41s\n",
      "│ Total Epoch Time: 186.60s\n",
      "│ Best Val Acc: 0.6700 (Epoch 12)\n",
      "│ GPU Memory: 0.3GB / 3.2GB\n",
      "================================================================================\n",
      "\n",
      "📈 Epoch 16/50\n",
      "--------------------------------------------------\n",
      "🔄 Training Phase...\n"
     ]
    },
    {
     "name": "stderr",
     "output_type": "stream",
     "text": [
      "Training: 100%|██████████████████████████████| 311/311 [02:41<00:00,  1.92it/s, Loss=0.0286, Acc=0.9908, GPU=0.3GB]\n"
     ]
    },
    {
     "name": "stdout",
     "output_type": "stream",
     "text": [
      "✅ Training completed in 161.99s\n",
      "🔍 Validation Phase...\n"
     ]
    },
    {
     "name": "stderr",
     "output_type": "stream",
     "text": [
      "Validation: 100%|██████████████████████████████| 81/81 [00:24<00:00,  3.28it/s, Loss=2.1119, Acc=0.6153]\n"
     ]
    },
    {
     "name": "stdout",
     "output_type": "stream",
     "text": [
      "✅ Validation completed in 24.69s\n",
      "\n",
      "📊 Epoch 16 Summary:\n",
      "│ Train Loss: 0.0286 | Train Acc: 0.9908\n",
      "│ Val Loss:   2.1119 | Val Acc:   0.6153\n",
      "│ Train Time: 161.99s | Val Time: 24.69s\n",
      "│ Total Epoch Time: 186.68s\n",
      "│ Best Val Acc: 0.6700 (Epoch 12)\n",
      "│ GPU Memory: 0.3GB / 3.2GB\n",
      "================================================================================\n",
      "\n",
      "📈 Epoch 17/50\n",
      "--------------------------------------------------\n",
      "🔄 Training Phase...\n"
     ]
    },
    {
     "name": "stderr",
     "output_type": "stream",
     "text": [
      "Training: 100%|██████████████████████████████| 311/311 [02:41<00:00,  1.93it/s, Loss=0.0524, Acc=0.9828, GPU=0.3GB]\n"
     ]
    },
    {
     "name": "stdout",
     "output_type": "stream",
     "text": [
      "✅ Training completed in 161.32s\n",
      "🔍 Validation Phase...\n"
     ]
    },
    {
     "name": "stderr",
     "output_type": "stream",
     "text": [
      "Validation: 100%|██████████████████████████████| 81/81 [00:24<00:00,  3.33it/s, Loss=1.6808, Acc=0.6999]\n"
     ]
    },
    {
     "name": "stdout",
     "output_type": "stream",
     "text": [
      "✅ Validation completed in 24.36s\n",
      "🌟 New best ResNet50 model found! Validation Accuracy: 0.6999\n",
      "\n",
      "📊 Epoch 17 Summary:\n",
      "│ Train Loss: 0.0524 | Train Acc: 0.9828\n",
      "│ Val Loss:   1.6808 | Val Acc:   0.6999\n",
      "│ Train Time: 161.32s | Val Time: 24.36s\n",
      "│ Total Epoch Time: 185.68s\n",
      "│ Best Val Acc: 0.6999 (Epoch 17)\n",
      "│ GPU Memory: 0.3GB / 3.2GB\n",
      "================================================================================\n",
      "\n",
      "📈 Epoch 18/50\n",
      "--------------------------------------------------\n",
      "🔄 Training Phase...\n"
     ]
    },
    {
     "name": "stderr",
     "output_type": "stream",
     "text": [
      "Training: 100%|██████████████████████████████| 311/311 [02:41<00:00,  1.93it/s, Loss=0.0117, Acc=0.9970, GPU=0.3GB]\n"
     ]
    },
    {
     "name": "stdout",
     "output_type": "stream",
     "text": [
      "✅ Training completed in 161.22s\n",
      "🔍 Validation Phase...\n"
     ]
    },
    {
     "name": "stderr",
     "output_type": "stream",
     "text": [
      "Validation: 100%|██████████████████████████████| 81/81 [00:24<00:00,  3.33it/s, Loss=1.8508, Acc=0.6813]\n"
     ]
    },
    {
     "name": "stdout",
     "output_type": "stream",
     "text": [
      "✅ Validation completed in 24.29s\n",
      "\n",
      "📊 Epoch 18 Summary:\n",
      "│ Train Loss: 0.0117 | Train Acc: 0.9970\n",
      "│ Val Loss:   1.8508 | Val Acc:   0.6813\n",
      "│ Train Time: 161.22s | Val Time: 24.29s\n",
      "│ Total Epoch Time: 185.52s\n",
      "│ Best Val Acc: 0.6999 (Epoch 17)\n",
      "│ GPU Memory: 0.3GB / 3.2GB\n",
      "================================================================================\n",
      "\n",
      "📈 Epoch 19/50\n",
      "--------------------------------------------------\n",
      "🔄 Training Phase...\n"
     ]
    },
    {
     "name": "stderr",
     "output_type": "stream",
     "text": [
      "Training: 100%|██████████████████████████████| 311/311 [02:41<00:00,  1.92it/s, Loss=0.0366, Acc=0.9886, GPU=0.3GB]\n"
     ]
    },
    {
     "name": "stdout",
     "output_type": "stream",
     "text": [
      "✅ Training completed in 161.70s\n",
      "🔍 Validation Phase...\n"
     ]
    },
    {
     "name": "stderr",
     "output_type": "stream",
     "text": [
      "Validation: 100%|██████████████████████████████| 81/81 [00:24<00:00,  3.30it/s, Loss=1.8935, Acc=0.6840]\n"
     ]
    },
    {
     "name": "stdout",
     "output_type": "stream",
     "text": [
      "✅ Validation completed in 24.57s\n",
      "\n",
      "📊 Epoch 19 Summary:\n",
      "│ Train Loss: 0.0366 | Train Acc: 0.9886\n",
      "│ Val Loss:   1.8935 | Val Acc:   0.6840\n",
      "│ Train Time: 161.70s | Val Time: 24.57s\n",
      "│ Total Epoch Time: 186.27s\n",
      "│ Best Val Acc: 0.6999 (Epoch 17)\n",
      "│ GPU Memory: 0.3GB / 3.2GB\n",
      "================================================================================\n",
      "\n",
      "📈 Epoch 20/50\n",
      "--------------------------------------------------\n",
      "🔄 Training Phase...\n"
     ]
    },
    {
     "name": "stderr",
     "output_type": "stream",
     "text": [
      "Training: 100%|██████████████████████████████| 311/311 [02:40<00:00,  1.94it/s, Loss=0.0080, Acc=0.9983, GPU=0.3GB]\n"
     ]
    },
    {
     "name": "stdout",
     "output_type": "stream",
     "text": [
      "✅ Training completed in 160.39s\n",
      "🔍 Validation Phase...\n"
     ]
    },
    {
     "name": "stderr",
     "output_type": "stream",
     "text": [
      "Validation: 100%|██████████████████████████████| 81/81 [00:24<00:00,  3.36it/s, Loss=1.9238, Acc=0.6561]\n"
     ]
    },
    {
     "name": "stdout",
     "output_type": "stream",
     "text": [
      "✅ Validation completed in 24.08s\n",
      "\n",
      "📊 Epoch 20 Summary:\n",
      "│ Train Loss: 0.0080 | Train Acc: 0.9983\n",
      "│ Val Loss:   1.9238 | Val Acc:   0.6561\n",
      "│ Train Time: 160.39s | Val Time: 24.08s\n",
      "│ Total Epoch Time: 184.47s\n",
      "│ Best Val Acc: 0.6999 (Epoch 17)\n",
      "│ GPU Memory: 0.3GB / 3.2GB\n",
      "================================================================================\n",
      "\n",
      "📈 Epoch 21/50\n",
      "--------------------------------------------------\n",
      "🔄 Training Phase...\n"
     ]
    },
    {
     "name": "stderr",
     "output_type": "stream",
     "text": [
      "Training: 100%|██████████████████████████████| 311/311 [02:39<00:00,  1.95it/s, Loss=0.0048, Acc=0.9989, GPU=0.3GB]\n"
     ]
    },
    {
     "name": "stdout",
     "output_type": "stream",
     "text": [
      "✅ Training completed in 159.65s\n",
      "🔍 Validation Phase...\n"
     ]
    },
    {
     "name": "stderr",
     "output_type": "stream",
     "text": [
      "Validation: 100%|██████████████████████████████| 81/81 [00:24<00:00,  3.35it/s, Loss=1.7788, Acc=0.6906]\n"
     ]
    },
    {
     "name": "stdout",
     "output_type": "stream",
     "text": [
      "✅ Validation completed in 24.18s\n",
      "\n",
      "📊 Epoch 21 Summary:\n",
      "│ Train Loss: 0.0048 | Train Acc: 0.9989\n",
      "│ Val Loss:   1.7788 | Val Acc:   0.6906\n",
      "│ Train Time: 159.65s | Val Time: 24.18s\n",
      "│ Total Epoch Time: 183.83s\n",
      "│ Best Val Acc: 0.6999 (Epoch 17)\n",
      "│ GPU Memory: 0.3GB / 3.2GB\n",
      "================================================================================\n",
      "\n",
      "📈 Epoch 22/50\n",
      "--------------------------------------------------\n",
      "🔄 Training Phase...\n"
     ]
    },
    {
     "name": "stderr",
     "output_type": "stream",
     "text": [
      "Training: 100%|██████████████████████████████| 311/311 [02:41<00:00,  1.92it/s, Loss=0.0227, Acc=0.9920, GPU=0.3GB]\n"
     ]
    },
    {
     "name": "stdout",
     "output_type": "stream",
     "text": [
      "✅ Training completed in 161.75s\n",
      "🔍 Validation Phase...\n"
     ]
    },
    {
     "name": "stderr",
     "output_type": "stream",
     "text": [
      "Validation: 100%|██████████████████████████████| 81/81 [00:24<00:00,  3.25it/s, Loss=1.7654, Acc=0.6677]\n"
     ]
    },
    {
     "name": "stdout",
     "output_type": "stream",
     "text": [
      "✅ Validation completed in 24.95s\n",
      "\n",
      "📊 Epoch 22 Summary:\n",
      "│ Train Loss: 0.0227 | Train Acc: 0.9920\n",
      "│ Val Loss:   1.7654 | Val Acc:   0.6677\n",
      "│ Train Time: 161.75s | Val Time: 24.95s\n",
      "│ Total Epoch Time: 186.70s\n",
      "│ Best Val Acc: 0.6999 (Epoch 17)\n",
      "│ GPU Memory: 0.3GB / 3.2GB\n",
      "================================================================================\n",
      "\n",
      "📈 Epoch 23/50\n",
      "--------------------------------------------------\n",
      "🔄 Training Phase...\n"
     ]
    },
    {
     "name": "stderr",
     "output_type": "stream",
     "text": [
      "Training: 100%|██████████████████████████████| 311/311 [02:44<00:00,  1.89it/s, Loss=0.0550, Acc=0.9823, GPU=0.3GB]\n"
     ]
    },
    {
     "name": "stdout",
     "output_type": "stream",
     "text": [
      "✅ Training completed in 164.85s\n",
      "🔍 Validation Phase...\n"
     ]
    },
    {
     "name": "stderr",
     "output_type": "stream",
     "text": [
      "Validation: 100%|██████████████████████████████| 81/81 [00:24<00:00,  3.25it/s, Loss=1.6885, Acc=0.6863]\n"
     ]
    },
    {
     "name": "stdout",
     "output_type": "stream",
     "text": [
      "✅ Validation completed in 24.89s\n",
      "\n",
      "📊 Epoch 23 Summary:\n",
      "│ Train Loss: 0.0550 | Train Acc: 0.9823\n",
      "│ Val Loss:   1.6885 | Val Acc:   0.6863\n",
      "│ Train Time: 164.85s | Val Time: 24.89s\n",
      "│ Total Epoch Time: 189.75s\n",
      "│ Best Val Acc: 0.6999 (Epoch 17)\n",
      "│ GPU Memory: 0.3GB / 3.2GB\n",
      "================================================================================\n",
      "\n",
      "📈 Epoch 24/50\n",
      "--------------------------------------------------\n",
      "🔄 Training Phase...\n"
     ]
    },
    {
     "name": "stderr",
     "output_type": "stream",
     "text": [
      "Training: 100%|██████████████████████████████| 311/311 [02:42<00:00,  1.91it/s, Loss=0.0173, Acc=0.9950, GPU=0.3GB]\n"
     ]
    },
    {
     "name": "stdout",
     "output_type": "stream",
     "text": [
      "✅ Training completed in 162.90s\n",
      "🔍 Validation Phase...\n"
     ]
    },
    {
     "name": "stderr",
     "output_type": "stream",
     "text": [
      "Validation: 100%|██████████████████████████████| 81/81 [00:24<00:00,  3.26it/s, Loss=1.9384, Acc=0.6755]\n"
     ]
    },
    {
     "name": "stdout",
     "output_type": "stream",
     "text": [
      "✅ Validation completed in 24.88s\n",
      "\n",
      "📊 Epoch 24 Summary:\n",
      "│ Train Loss: 0.0173 | Train Acc: 0.9950\n",
      "│ Val Loss:   1.9384 | Val Acc:   0.6755\n",
      "│ Train Time: 162.90s | Val Time: 24.88s\n",
      "│ Total Epoch Time: 187.78s\n",
      "│ Best Val Acc: 0.6999 (Epoch 17)\n",
      "│ GPU Memory: 0.3GB / 3.2GB\n",
      "================================================================================\n",
      "\n",
      "📈 Epoch 25/50\n",
      "--------------------------------------------------\n",
      "🔄 Training Phase...\n"
     ]
    },
    {
     "name": "stderr",
     "output_type": "stream",
     "text": [
      "Training: 100%|██████████████████████████████| 311/311 [02:41<00:00,  1.92it/s, Loss=0.0200, Acc=0.9933, GPU=0.3GB]\n"
     ]
    },
    {
     "name": "stdout",
     "output_type": "stream",
     "text": [
      "✅ Training completed in 161.68s\n",
      "🔍 Validation Phase...\n"
     ]
    },
    {
     "name": "stderr",
     "output_type": "stream",
     "text": [
      "Validation: 100%|██████████████████████████████| 81/81 [00:24<00:00,  3.26it/s, Loss=1.8963, Acc=0.6844]\n"
     ]
    },
    {
     "name": "stdout",
     "output_type": "stream",
     "text": [
      "✅ Validation completed in 24.86s\n",
      "\n",
      "📊 Epoch 25 Summary:\n",
      "│ Train Loss: 0.0200 | Train Acc: 0.9933\n",
      "│ Val Loss:   1.8963 | Val Acc:   0.6844\n",
      "│ Train Time: 161.68s | Val Time: 24.86s\n",
      "│ Total Epoch Time: 186.54s\n",
      "│ Best Val Acc: 0.6999 (Epoch 17)\n",
      "│ GPU Memory: 0.3GB / 3.2GB\n",
      "================================================================================\n",
      "\n",
      "📈 Epoch 26/50\n",
      "--------------------------------------------------\n",
      "🔄 Training Phase...\n"
     ]
    },
    {
     "name": "stderr",
     "output_type": "stream",
     "text": [
      "Training: 100%|██████████████████████████████| 311/311 [02:41<00:00,  1.92it/s, Loss=0.0291, Acc=0.9897, GPU=0.3GB]\n"
     ]
    },
    {
     "name": "stdout",
     "output_type": "stream",
     "text": [
      "✅ Training completed in 161.97s\n",
      "🔍 Validation Phase...\n"
     ]
    },
    {
     "name": "stderr",
     "output_type": "stream",
     "text": [
      "Validation: 100%|██████████████████████████████| 81/81 [00:24<00:00,  3.32it/s, Loss=2.2169, Acc=0.6421]\n"
     ]
    },
    {
     "name": "stdout",
     "output_type": "stream",
     "text": [
      "✅ Validation completed in 24.40s\n",
      "\n",
      "📊 Epoch 26 Summary:\n",
      "│ Train Loss: 0.0291 | Train Acc: 0.9897\n",
      "│ Val Loss:   2.2169 | Val Acc:   0.6421\n",
      "│ Train Time: 161.97s | Val Time: 24.40s\n",
      "│ Total Epoch Time: 186.37s\n",
      "│ Best Val Acc: 0.6999 (Epoch 17)\n",
      "│ GPU Memory: 0.3GB / 3.2GB\n",
      "================================================================================\n",
      "\n",
      "📈 Epoch 27/50\n",
      "--------------------------------------------------\n",
      "🔄 Training Phase...\n"
     ]
    },
    {
     "name": "stderr",
     "output_type": "stream",
     "text": [
      "Training: 100%|██████████████████████████████| 311/311 [02:42<00:00,  1.92it/s, Loss=0.0464, Acc=0.9848, GPU=0.3GB]\n"
     ]
    },
    {
     "name": "stdout",
     "output_type": "stream",
     "text": [
      "✅ Training completed in 162.01s\n",
      "🔍 Validation Phase...\n"
     ]
    },
    {
     "name": "stderr",
     "output_type": "stream",
     "text": [
      "Validation: 100%|██████████████████████████████| 81/81 [00:24<00:00,  3.28it/s, Loss=2.0046, Acc=0.6828]\n"
     ]
    },
    {
     "name": "stdout",
     "output_type": "stream",
     "text": [
      "✅ Validation completed in 24.69s\n",
      "\n",
      "📊 Epoch 27 Summary:\n",
      "│ Train Loss: 0.0464 | Train Acc: 0.9848\n",
      "│ Val Loss:   2.0046 | Val Acc:   0.6828\n",
      "│ Train Time: 162.01s | Val Time: 24.69s\n",
      "│ Total Epoch Time: 186.71s\n",
      "│ Best Val Acc: 0.6999 (Epoch 17)\n",
      "│ GPU Memory: 0.3GB / 3.2GB\n",
      "================================================================================\n",
      "\n",
      "📈 Epoch 28/50\n",
      "--------------------------------------------------\n",
      "🔄 Training Phase...\n"
     ]
    },
    {
     "name": "stderr",
     "output_type": "stream",
     "text": [
      "Training: 100%|██████████████████████████████| 311/311 [02:41<00:00,  1.92it/s, Loss=0.0411, Acc=0.9860, GPU=0.3GB]\n"
     ]
    },
    {
     "name": "stdout",
     "output_type": "stream",
     "text": [
      "✅ Training completed in 161.88s\n",
      "🔍 Validation Phase...\n"
     ]
    },
    {
     "name": "stderr",
     "output_type": "stream",
     "text": [
      "Validation: 100%|██████████████████████████████| 81/81 [00:24<00:00,  3.33it/s, Loss=1.9737, Acc=0.6219]\n"
     ]
    },
    {
     "name": "stdout",
     "output_type": "stream",
     "text": [
      "✅ Validation completed in 24.32s\n",
      "\n",
      "📊 Epoch 28 Summary:\n",
      "│ Train Loss: 0.0411 | Train Acc: 0.9860\n",
      "│ Val Loss:   1.9737 | Val Acc:   0.6219\n",
      "│ Train Time: 161.88s | Val Time: 24.32s\n",
      "│ Total Epoch Time: 186.20s\n",
      "│ Best Val Acc: 0.6999 (Epoch 17)\n",
      "│ GPU Memory: 0.3GB / 3.2GB\n",
      "================================================================================\n",
      "\n",
      "📈 Epoch 29/50\n",
      "--------------------------------------------------\n",
      "🔄 Training Phase...\n"
     ]
    },
    {
     "name": "stderr",
     "output_type": "stream",
     "text": [
      "Training: 100%|██████████████████████████████| 311/311 [02:42<00:00,  1.92it/s, Loss=0.0155, Acc=0.9953, GPU=0.3GB]\n"
     ]
    },
    {
     "name": "stdout",
     "output_type": "stream",
     "text": [
      "✅ Training completed in 162.33s\n",
      "🔍 Validation Phase...\n"
     ]
    },
    {
     "name": "stderr",
     "output_type": "stream",
     "text": [
      "Validation: 100%|██████████████████████████████| 81/81 [00:24<00:00,  3.25it/s, Loss=1.9738, Acc=0.6941]\n"
     ]
    },
    {
     "name": "stdout",
     "output_type": "stream",
     "text": [
      "✅ Validation completed in 24.90s\n",
      "\n",
      "📊 Epoch 29 Summary:\n",
      "│ Train Loss: 0.0155 | Train Acc: 0.9953\n",
      "│ Val Loss:   1.9738 | Val Acc:   0.6941\n",
      "│ Train Time: 162.33s | Val Time: 24.90s\n",
      "│ Total Epoch Time: 187.24s\n",
      "│ Best Val Acc: 0.6999 (Epoch 17)\n",
      "│ GPU Memory: 0.3GB / 3.2GB\n",
      "================================================================================\n",
      "\n",
      "📈 Epoch 30/50\n",
      "--------------------------------------------------\n",
      "🔄 Training Phase...\n"
     ]
    },
    {
     "name": "stderr",
     "output_type": "stream",
     "text": [
      "Training: 100%|██████████████████████████████| 311/311 [02:42<00:00,  1.91it/s, Loss=0.0622, Acc=0.9790, GPU=0.3GB]\n"
     ]
    },
    {
     "name": "stdout",
     "output_type": "stream",
     "text": [
      "✅ Training completed in 162.55s\n",
      "🔍 Validation Phase...\n"
     ]
    },
    {
     "name": "stderr",
     "output_type": "stream",
     "text": [
      "Validation: 100%|██████████████████████████████| 81/81 [00:24<00:00,  3.26it/s, Loss=1.6370, Acc=0.6960]\n"
     ]
    },
    {
     "name": "stdout",
     "output_type": "stream",
     "text": [
      "✅ Validation completed in 24.84s\n",
      "\n",
      "📊 Epoch 30 Summary:\n",
      "│ Train Loss: 0.0622 | Train Acc: 0.9790\n",
      "│ Val Loss:   1.6370 | Val Acc:   0.6960\n",
      "│ Train Time: 162.55s | Val Time: 24.84s\n",
      "│ Total Epoch Time: 187.39s\n",
      "│ Best Val Acc: 0.6999 (Epoch 17)\n",
      "│ GPU Memory: 0.3GB / 3.2GB\n",
      "================================================================================\n",
      "\n",
      "📈 Epoch 31/50\n",
      "--------------------------------------------------\n",
      "🔄 Training Phase...\n"
     ]
    },
    {
     "name": "stderr",
     "output_type": "stream",
     "text": [
      "Training: 100%|██████████████████████████████| 311/311 [02:41<00:00,  1.92it/s, Loss=0.0082, Acc=0.9982, GPU=0.3GB]\n"
     ]
    },
    {
     "name": "stdout",
     "output_type": "stream",
     "text": [
      "✅ Training completed in 161.98s\n",
      "🔍 Validation Phase...\n"
     ]
    },
    {
     "name": "stderr",
     "output_type": "stream",
     "text": [
      "Validation: 100%|██████████████████████████████| 81/81 [00:24<00:00,  3.24it/s, Loss=1.7493, Acc=0.6949]\n"
     ]
    },
    {
     "name": "stdout",
     "output_type": "stream",
     "text": [
      "✅ Validation completed in 25.00s\n",
      "\n",
      "📊 Epoch 31 Summary:\n",
      "│ Train Loss: 0.0082 | Train Acc: 0.9982\n",
      "│ Val Loss:   1.7493 | Val Acc:   0.6949\n",
      "│ Train Time: 161.98s | Val Time: 25.00s\n",
      "│ Total Epoch Time: 186.99s\n",
      "│ Best Val Acc: 0.6999 (Epoch 17)\n",
      "│ GPU Memory: 0.3GB / 3.2GB\n",
      "================================================================================\n",
      "\n",
      "📈 Epoch 32/50\n",
      "--------------------------------------------------\n",
      "🔄 Training Phase...\n"
     ]
    },
    {
     "name": "stderr",
     "output_type": "stream",
     "text": [
      "Training: 100%|██████████████████████████████| 311/311 [02:41<00:00,  1.93it/s, Loss=0.0029, Acc=0.9994, GPU=0.3GB]\n"
     ]
    },
    {
     "name": "stdout",
     "output_type": "stream",
     "text": [
      "✅ Training completed in 161.11s\n",
      "🔍 Validation Phase...\n"
     ]
    },
    {
     "name": "stderr",
     "output_type": "stream",
     "text": [
      "Validation: 100%|██████████████████████████████| 81/81 [00:24<00:00,  3.36it/s, Loss=1.7572, Acc=0.6933]\n"
     ]
    },
    {
     "name": "stdout",
     "output_type": "stream",
     "text": [
      "✅ Validation completed in 24.08s\n",
      "\n",
      "📊 Epoch 32 Summary:\n",
      "│ Train Loss: 0.0029 | Train Acc: 0.9994\n",
      "│ Val Loss:   1.7572 | Val Acc:   0.6933\n",
      "│ Train Time: 161.11s | Val Time: 24.08s\n",
      "│ Total Epoch Time: 185.19s\n",
      "│ Best Val Acc: 0.6999 (Epoch 17)\n",
      "│ GPU Memory: 0.3GB / 3.2GB\n",
      "================================================================================\n",
      "\n",
      "📈 Epoch 33/50\n",
      "--------------------------------------------------\n",
      "🔄 Training Phase...\n"
     ]
    },
    {
     "name": "stderr",
     "output_type": "stream",
     "text": [
      "Training: 100%|██████████████████████████████| 311/311 [02:39<00:00,  1.95it/s, Loss=0.0013, Acc=0.9998, GPU=0.3GB]\n"
     ]
    },
    {
     "name": "stdout",
     "output_type": "stream",
     "text": [
      "✅ Training completed in 159.47s\n",
      "🔍 Validation Phase...\n"
     ]
    },
    {
     "name": "stderr",
     "output_type": "stream",
     "text": [
      "Validation: 100%|██████████████████████████████| 81/81 [00:24<00:00,  3.30it/s, Loss=1.7451, Acc=0.6922]\n"
     ]
    },
    {
     "name": "stdout",
     "output_type": "stream",
     "text": [
      "✅ Validation completed in 24.55s\n",
      "\n",
      "📊 Epoch 33 Summary:\n",
      "│ Train Loss: 0.0013 | Train Acc: 0.9998\n",
      "│ Val Loss:   1.7451 | Val Acc:   0.6922\n",
      "│ Train Time: 159.47s | Val Time: 24.55s\n",
      "│ Total Epoch Time: 184.02s\n",
      "│ Best Val Acc: 0.6999 (Epoch 17)\n",
      "│ GPU Memory: 0.3GB / 3.2GB\n",
      "================================================================================\n",
      "\n",
      "📈 Epoch 34/50\n",
      "--------------------------------------------------\n",
      "🔄 Training Phase...\n"
     ]
    },
    {
     "name": "stderr",
     "output_type": "stream",
     "text": [
      "Training: 100%|██████████████████████████████| 311/311 [02:41<00:00,  1.93it/s, Loss=0.0008, Acc=0.9999, GPU=0.3GB]\n"
     ]
    },
    {
     "name": "stdout",
     "output_type": "stream",
     "text": [
      "✅ Training completed in 161.26s\n",
      "🔍 Validation Phase...\n"
     ]
    },
    {
     "name": "stderr",
     "output_type": "stream",
     "text": [
      "Validation: 100%|██████████████████████████████| 81/81 [00:24<00:00,  3.31it/s, Loss=1.6862, Acc=0.6991]\n"
     ]
    },
    {
     "name": "stdout",
     "output_type": "stream",
     "text": [
      "✅ Validation completed in 24.45s\n",
      "\n",
      "📊 Epoch 34 Summary:\n",
      "│ Train Loss: 0.0008 | Train Acc: 0.9999\n",
      "│ Val Loss:   1.6862 | Val Acc:   0.6991\n",
      "│ Train Time: 161.26s | Val Time: 24.45s\n",
      "│ Total Epoch Time: 185.71s\n",
      "│ Best Val Acc: 0.6999 (Epoch 17)\n",
      "│ GPU Memory: 0.3GB / 3.2GB\n",
      "================================================================================\n",
      "\n",
      "📈 Epoch 35/50\n",
      "--------------------------------------------------\n",
      "🔄 Training Phase...\n"
     ]
    },
    {
     "name": "stderr",
     "output_type": "stream",
     "text": [
      "Training: 100%|██████████████████████████████| 311/311 [02:41<00:00,  1.92it/s, Loss=0.0007, Acc=1.0000, GPU=0.3GB]\n"
     ]
    },
    {
     "name": "stdout",
     "output_type": "stream",
     "text": [
      "✅ Training completed in 161.62s\n",
      "🔍 Validation Phase...\n"
     ]
    },
    {
     "name": "stderr",
     "output_type": "stream",
     "text": [
      "Validation: 100%|██████████████████████████████| 81/81 [00:24<00:00,  3.29it/s, Loss=1.7589, Acc=0.7054]\n"
     ]
    },
    {
     "name": "stdout",
     "output_type": "stream",
     "text": [
      "✅ Validation completed in 24.65s\n",
      "🌟 New best ResNet50 model found! Validation Accuracy: 0.7054\n",
      "\n",
      "📊 Epoch 35 Summary:\n",
      "│ Train Loss: 0.0007 | Train Acc: 1.0000\n",
      "│ Val Loss:   1.7589 | Val Acc:   0.7054\n",
      "│ Train Time: 161.62s | Val Time: 24.65s\n",
      "│ Total Epoch Time: 186.28s\n",
      "│ Best Val Acc: 0.7054 (Epoch 35)\n",
      "│ GPU Memory: 0.3GB / 3.2GB\n",
      "================================================================================\n",
      "\n",
      "📈 Epoch 36/50\n",
      "--------------------------------------------------\n",
      "🔄 Training Phase...\n"
     ]
    },
    {
     "name": "stderr",
     "output_type": "stream",
     "text": [
      "Training: 100%|██████████████████████████████| 311/311 [02:41<00:00,  1.92it/s, Loss=0.0004, Acc=1.0000, GPU=0.3GB]\n"
     ]
    },
    {
     "name": "stdout",
     "output_type": "stream",
     "text": [
      "✅ Training completed in 161.59s\n",
      "🔍 Validation Phase...\n"
     ]
    },
    {
     "name": "stderr",
     "output_type": "stream",
     "text": [
      "Validation: 100%|██████████████████████████████| 81/81 [00:24<00:00,  3.30it/s, Loss=1.5753, Acc=0.6999]\n"
     ]
    },
    {
     "name": "stdout",
     "output_type": "stream",
     "text": [
      "✅ Validation completed in 24.55s\n",
      "\n",
      "📊 Epoch 36 Summary:\n",
      "│ Train Loss: 0.0004 | Train Acc: 1.0000\n",
      "│ Val Loss:   1.5753 | Val Acc:   0.6999\n",
      "│ Train Time: 161.59s | Val Time: 24.55s\n",
      "│ Total Epoch Time: 186.14s\n",
      "│ Best Val Acc: 0.7054 (Epoch 35)\n",
      "│ GPU Memory: 0.3GB / 3.2GB\n",
      "================================================================================\n",
      "\n",
      "📈 Epoch 37/50\n",
      "--------------------------------------------------\n",
      "🔄 Training Phase...\n"
     ]
    },
    {
     "name": "stderr",
     "output_type": "stream",
     "text": [
      "Training: 100%|██████████████████████████████| 311/311 [02:41<00:00,  1.93it/s, Loss=0.0006, Acc=0.9999, GPU=0.3GB]\n"
     ]
    },
    {
     "name": "stdout",
     "output_type": "stream",
     "text": [
      "✅ Training completed in 161.47s\n",
      "🔍 Validation Phase...\n"
     ]
    },
    {
     "name": "stderr",
     "output_type": "stream",
     "text": [
      "Validation: 100%|██████████████████████████████| 81/81 [00:24<00:00,  3.27it/s, Loss=1.5829, Acc=0.6929]\n"
     ]
    },
    {
     "name": "stdout",
     "output_type": "stream",
     "text": [
      "✅ Validation completed in 24.75s\n",
      "\n",
      "📊 Epoch 37 Summary:\n",
      "│ Train Loss: 0.0006 | Train Acc: 0.9999\n",
      "│ Val Loss:   1.5829 | Val Acc:   0.6929\n",
      "│ Train Time: 161.47s | Val Time: 24.75s\n",
      "│ Total Epoch Time: 186.22s\n",
      "│ Best Val Acc: 0.7054 (Epoch 35)\n",
      "│ GPU Memory: 0.3GB / 3.2GB\n",
      "================================================================================\n",
      "\n",
      "📈 Epoch 38/50\n",
      "--------------------------------------------------\n",
      "🔄 Training Phase...\n"
     ]
    },
    {
     "name": "stderr",
     "output_type": "stream",
     "text": [
      "Training: 100%|██████████████████████████████| 311/311 [02:42<00:00,  1.91it/s, Loss=0.0004, Acc=1.0000, GPU=0.3GB]\n"
     ]
    },
    {
     "name": "stdout",
     "output_type": "stream",
     "text": [
      "✅ Training completed in 162.77s\n",
      "🔍 Validation Phase...\n"
     ]
    },
    {
     "name": "stderr",
     "output_type": "stream",
     "text": [
      "Validation: 100%|██████████████████████████████| 81/81 [00:25<00:00,  3.20it/s, Loss=1.5465, Acc=0.6968]\n"
     ]
    },
    {
     "name": "stdout",
     "output_type": "stream",
     "text": [
      "✅ Validation completed in 25.32s\n",
      "\n",
      "📊 Epoch 38 Summary:\n",
      "│ Train Loss: 0.0004 | Train Acc: 1.0000\n",
      "│ Val Loss:   1.5465 | Val Acc:   0.6968\n",
      "│ Train Time: 162.77s | Val Time: 25.32s\n",
      "│ Total Epoch Time: 188.09s\n",
      "│ Best Val Acc: 0.7054 (Epoch 35)\n",
      "│ GPU Memory: 0.3GB / 3.2GB\n",
      "================================================================================\n",
      "\n",
      "📈 Epoch 39/50\n",
      "--------------------------------------------------\n",
      "🔄 Training Phase...\n"
     ]
    },
    {
     "name": "stderr",
     "output_type": "stream",
     "text": [
      "Training: 100%|██████████████████████████████| 311/311 [02:41<00:00,  1.92it/s, Loss=0.0004, Acc=1.0000, GPU=0.3GB]\n"
     ]
    },
    {
     "name": "stdout",
     "output_type": "stream",
     "text": [
      "✅ Training completed in 161.59s\n",
      "🔍 Validation Phase...\n"
     ]
    },
    {
     "name": "stderr",
     "output_type": "stream",
     "text": [
      "Validation: 100%|██████████████████████████████| 81/81 [00:24<00:00,  3.28it/s, Loss=1.4280, Acc=0.6976]\n"
     ]
    },
    {
     "name": "stdout",
     "output_type": "stream",
     "text": [
      "✅ Validation completed in 24.72s\n",
      "\n",
      "📊 Epoch 39 Summary:\n",
      "│ Train Loss: 0.0004 | Train Acc: 1.0000\n",
      "│ Val Loss:   1.4280 | Val Acc:   0.6976\n",
      "│ Train Time: 161.59s | Val Time: 24.72s\n",
      "│ Total Epoch Time: 186.30s\n",
      "│ Best Val Acc: 0.7054 (Epoch 35)\n",
      "│ GPU Memory: 0.3GB / 3.2GB\n",
      "================================================================================\n",
      "\n",
      "📈 Epoch 40/50\n",
      "--------------------------------------------------\n",
      "🔄 Training Phase...\n"
     ]
    },
    {
     "name": "stderr",
     "output_type": "stream",
     "text": [
      "Training: 100%|██████████████████████████████| 311/311 [02:41<00:00,  1.93it/s, Loss=0.0003, Acc=1.0000, GPU=0.3GB]\n"
     ]
    },
    {
     "name": "stdout",
     "output_type": "stream",
     "text": [
      "✅ Training completed in 161.53s\n",
      "🔍 Validation Phase...\n"
     ]
    },
    {
     "name": "stderr",
     "output_type": "stream",
     "text": [
      "Validation: 100%|██████████████████████████████| 81/81 [00:24<00:00,  3.29it/s, Loss=1.4056, Acc=0.6957]\n"
     ]
    },
    {
     "name": "stdout",
     "output_type": "stream",
     "text": [
      "✅ Validation completed in 24.59s\n",
      "\n",
      "📊 Epoch 40 Summary:\n",
      "│ Train Loss: 0.0003 | Train Acc: 1.0000\n",
      "│ Val Loss:   1.4056 | Val Acc:   0.6957\n",
      "│ Train Time: 161.53s | Val Time: 24.59s\n",
      "│ Total Epoch Time: 186.13s\n",
      "│ Best Val Acc: 0.7054 (Epoch 35)\n",
      "│ GPU Memory: 0.3GB / 3.2GB\n",
      "================================================================================\n",
      "\n",
      "📈 Epoch 41/50\n",
      "--------------------------------------------------\n",
      "🔄 Training Phase...\n"
     ]
    },
    {
     "name": "stderr",
     "output_type": "stream",
     "text": [
      "Training: 100%|██████████████████████████████| 311/311 [02:41<00:00,  1.93it/s, Loss=0.0003, Acc=1.0000, GPU=0.3GB]\n"
     ]
    },
    {
     "name": "stdout",
     "output_type": "stream",
     "text": [
      "✅ Training completed in 161.18s\n",
      "🔍 Validation Phase...\n"
     ]
    },
    {
     "name": "stderr",
     "output_type": "stream",
     "text": [
      "Validation: 100%|██████████████████████████████| 81/81 [00:24<00:00,  3.29it/s, Loss=1.3447, Acc=0.6991]\n"
     ]
    },
    {
     "name": "stdout",
     "output_type": "stream",
     "text": [
      "✅ Validation completed in 24.60s\n",
      "\n",
      "📊 Epoch 41 Summary:\n",
      "│ Train Loss: 0.0003 | Train Acc: 1.0000\n",
      "│ Val Loss:   1.3447 | Val Acc:   0.6991\n",
      "│ Train Time: 161.18s | Val Time: 24.60s\n",
      "│ Total Epoch Time: 185.78s\n",
      "│ Best Val Acc: 0.7054 (Epoch 35)\n",
      "│ GPU Memory: 0.3GB / 3.2GB\n",
      "================================================================================\n",
      "\n",
      "📈 Epoch 42/50\n",
      "--------------------------------------------------\n",
      "🔄 Training Phase...\n"
     ]
    },
    {
     "name": "stderr",
     "output_type": "stream",
     "text": [
      "Training: 100%|██████████████████████████████| 311/311 [02:41<00:00,  1.93it/s, Loss=0.0004, Acc=1.0000, GPU=0.3GB]\n"
     ]
    },
    {
     "name": "stdout",
     "output_type": "stream",
     "text": [
      "✅ Training completed in 161.14s\n",
      "🔍 Validation Phase...\n"
     ]
    },
    {
     "name": "stderr",
     "output_type": "stream",
     "text": [
      "Validation: 100%|██████████████████████████████| 81/81 [00:24<00:00,  3.28it/s, Loss=1.3654, Acc=0.6957]\n"
     ]
    },
    {
     "name": "stdout",
     "output_type": "stream",
     "text": [
      "✅ Validation completed in 24.67s\n",
      "\n",
      "📊 Epoch 42 Summary:\n",
      "│ Train Loss: 0.0004 | Train Acc: 1.0000\n",
      "│ Val Loss:   1.3654 | Val Acc:   0.6957\n",
      "│ Train Time: 161.14s | Val Time: 24.67s\n",
      "│ Total Epoch Time: 185.81s\n",
      "│ Best Val Acc: 0.7054 (Epoch 35)\n",
      "│ GPU Memory: 0.3GB / 3.2GB\n",
      "================================================================================\n",
      "\n",
      "📈 Epoch 43/50\n",
      "--------------------------------------------------\n",
      "🔄 Training Phase...\n"
     ]
    },
    {
     "name": "stderr",
     "output_type": "stream",
     "text": [
      "Training: 100%|██████████████████████████████| 311/311 [02:42<00:00,  1.92it/s, Loss=0.0005, Acc=1.0000, GPU=0.3GB]\n"
     ]
    },
    {
     "name": "stdout",
     "output_type": "stream",
     "text": [
      "✅ Training completed in 162.37s\n",
      "🔍 Validation Phase...\n"
     ]
    },
    {
     "name": "stderr",
     "output_type": "stream",
     "text": [
      "Validation: 100%|██████████████████████████████| 81/81 [00:25<00:00,  3.23it/s, Loss=1.4390, Acc=0.7026]\n"
     ]
    },
    {
     "name": "stdout",
     "output_type": "stream",
     "text": [
      "✅ Validation completed in 25.04s\n",
      "\n",
      "📊 Epoch 43 Summary:\n",
      "│ Train Loss: 0.0005 | Train Acc: 1.0000\n",
      "│ Val Loss:   1.4390 | Val Acc:   0.7026\n",
      "│ Train Time: 162.37s | Val Time: 25.04s\n",
      "│ Total Epoch Time: 187.42s\n",
      "│ Best Val Acc: 0.7054 (Epoch 35)\n",
      "│ GPU Memory: 0.3GB / 3.2GB\n",
      "================================================================================\n",
      "\n",
      "📈 Epoch 44/50\n",
      "--------------------------------------------------\n",
      "🔄 Training Phase...\n"
     ]
    },
    {
     "name": "stderr",
     "output_type": "stream",
     "text": [
      "Training: 100%|██████████████████████████████| 311/311 [02:41<00:00,  1.93it/s, Loss=0.0004, Acc=1.0000, GPU=0.3GB]\n"
     ]
    },
    {
     "name": "stdout",
     "output_type": "stream",
     "text": [
      "✅ Training completed in 161.08s\n",
      "🔍 Validation Phase...\n"
     ]
    },
    {
     "name": "stderr",
     "output_type": "stream",
     "text": [
      "Validation: 100%|██████████████████████████████| 81/81 [00:23<00:00,  3.41it/s, Loss=1.2809, Acc=0.7003]\n"
     ]
    },
    {
     "name": "stdout",
     "output_type": "stream",
     "text": [
      "✅ Validation completed in 23.73s\n",
      "\n",
      "📊 Epoch 44 Summary:\n",
      "│ Train Loss: 0.0004 | Train Acc: 1.0000\n",
      "│ Val Loss:   1.2809 | Val Acc:   0.7003\n",
      "│ Train Time: 161.08s | Val Time: 23.73s\n",
      "│ Total Epoch Time: 184.81s\n",
      "│ Best Val Acc: 0.7054 (Epoch 35)\n",
      "│ GPU Memory: 0.3GB / 3.2GB\n",
      "================================================================================\n",
      "\n",
      "📈 Epoch 45/50\n",
      "--------------------------------------------------\n",
      "🔄 Training Phase...\n"
     ]
    },
    {
     "name": "stderr",
     "output_type": "stream",
     "text": [
      "Training: 100%|██████████████████████████████| 311/311 [02:39<00:00,  1.95it/s, Loss=0.0005, Acc=1.0000, GPU=0.3GB]\n"
     ]
    },
    {
     "name": "stdout",
     "output_type": "stream",
     "text": [
      "✅ Training completed in 159.87s\n",
      "🔍 Validation Phase...\n"
     ]
    },
    {
     "name": "stderr",
     "output_type": "stream",
     "text": [
      "Validation: 100%|██████████████████████████████| 81/81 [00:24<00:00,  3.32it/s, Loss=1.3753, Acc=0.6929]\n"
     ]
    },
    {
     "name": "stdout",
     "output_type": "stream",
     "text": [
      "✅ Validation completed in 24.43s\n",
      "\n",
      "📊 Epoch 45 Summary:\n",
      "│ Train Loss: 0.0005 | Train Acc: 1.0000\n",
      "│ Val Loss:   1.3753 | Val Acc:   0.6929\n",
      "│ Train Time: 159.87s | Val Time: 24.43s\n",
      "│ Total Epoch Time: 184.31s\n",
      "│ Best Val Acc: 0.7054 (Epoch 35)\n",
      "│ GPU Memory: 0.3GB / 3.2GB\n",
      "================================================================================\n",
      "\n",
      "📈 Epoch 46/50\n",
      "--------------------------------------------------\n",
      "🔄 Training Phase...\n"
     ]
    },
    {
     "name": "stderr",
     "output_type": "stream",
     "text": [
      "Training: 100%|██████████████████████████████| 311/311 [02:40<00:00,  1.94it/s, Loss=0.0004, Acc=1.0000, GPU=0.3GB]\n"
     ]
    },
    {
     "name": "stdout",
     "output_type": "stream",
     "text": [
      "✅ Training completed in 160.32s\n",
      "🔍 Validation Phase...\n"
     ]
    },
    {
     "name": "stderr",
     "output_type": "stream",
     "text": [
      "Validation: 100%|██████████████████████████████| 81/81 [00:24<00:00,  3.32it/s, Loss=1.3216, Acc=0.7003]\n"
     ]
    },
    {
     "name": "stdout",
     "output_type": "stream",
     "text": [
      "✅ Validation completed in 24.40s\n",
      "\n",
      "📊 Epoch 46 Summary:\n",
      "│ Train Loss: 0.0004 | Train Acc: 1.0000\n",
      "│ Val Loss:   1.3216 | Val Acc:   0.7003\n",
      "│ Train Time: 160.32s | Val Time: 24.40s\n",
      "│ Total Epoch Time: 184.72s\n",
      "│ Best Val Acc: 0.7054 (Epoch 35)\n",
      "│ GPU Memory: 0.3GB / 3.2GB\n",
      "================================================================================\n",
      "\n",
      "📈 Epoch 47/50\n",
      "--------------------------------------------------\n",
      "🔄 Training Phase...\n"
     ]
    },
    {
     "name": "stderr",
     "output_type": "stream",
     "text": [
      "Training: 100%|██████████████████████████████| 311/311 [02:41<00:00,  1.93it/s, Loss=0.0005, Acc=1.0000, GPU=0.3GB]\n"
     ]
    },
    {
     "name": "stdout",
     "output_type": "stream",
     "text": [
      "✅ Training completed in 161.42s\n",
      "🔍 Validation Phase...\n"
     ]
    },
    {
     "name": "stderr",
     "output_type": "stream",
     "text": [
      "Validation: 100%|██████████████████████████████| 81/81 [00:24<00:00,  3.29it/s, Loss=1.2876, Acc=0.6984]\n"
     ]
    },
    {
     "name": "stdout",
     "output_type": "stream",
     "text": [
      "✅ Validation completed in 24.65s\n",
      "\n",
      "📊 Epoch 47 Summary:\n",
      "│ Train Loss: 0.0005 | Train Acc: 1.0000\n",
      "│ Val Loss:   1.2876 | Val Acc:   0.6984\n",
      "│ Train Time: 161.42s | Val Time: 24.65s\n",
      "│ Total Epoch Time: 186.07s\n",
      "│ Best Val Acc: 0.7054 (Epoch 35)\n",
      "│ GPU Memory: 0.3GB / 3.2GB\n",
      "================================================================================\n",
      "\n",
      "📈 Epoch 48/50\n",
      "--------------------------------------------------\n",
      "🔄 Training Phase...\n"
     ]
    },
    {
     "name": "stderr",
     "output_type": "stream",
     "text": [
      "Training: 100%|██████████████████████████████| 311/311 [02:42<00:00,  1.92it/s, Loss=0.2243, Acc=0.9186, GPU=0.3GB]\n"
     ]
    },
    {
     "name": "stdout",
     "output_type": "stream",
     "text": [
      "✅ Training completed in 162.16s\n",
      "🔍 Validation Phase...\n"
     ]
    },
    {
     "name": "stderr",
     "output_type": "stream",
     "text": [
      "Validation: 100%|██████████████████████████████| 81/81 [00:24<00:00,  3.27it/s, Loss=1.4136, Acc=0.6176]\n"
     ]
    },
    {
     "name": "stdout",
     "output_type": "stream",
     "text": [
      "✅ Validation completed in 24.75s\n",
      "\n",
      "📊 Epoch 48 Summary:\n",
      "│ Train Loss: 0.2243 | Train Acc: 0.9186\n",
      "│ Val Loss:   1.4136 | Val Acc:   0.6176\n",
      "│ Train Time: 162.16s | Val Time: 24.75s\n",
      "│ Total Epoch Time: 186.91s\n",
      "│ Best Val Acc: 0.7054 (Epoch 35)\n",
      "│ GPU Memory: 0.3GB / 3.2GB\n",
      "================================================================================\n",
      "\n",
      "📈 Epoch 49/50\n",
      "--------------------------------------------------\n",
      "🔄 Training Phase...\n"
     ]
    },
    {
     "name": "stderr",
     "output_type": "stream",
     "text": [
      "Training: 100%|██████████████████████████████| 311/311 [02:42<00:00,  1.91it/s, Loss=0.1502, Acc=0.9484, GPU=0.3GB]\n"
     ]
    },
    {
     "name": "stdout",
     "output_type": "stream",
     "text": [
      "✅ Training completed in 162.60s\n",
      "🔍 Validation Phase...\n"
     ]
    },
    {
     "name": "stderr",
     "output_type": "stream",
     "text": [
      "Validation: 100%|██████████████████████████████| 81/81 [00:24<00:00,  3.28it/s, Loss=2.0071, Acc=0.5769]\n"
     ]
    },
    {
     "name": "stdout",
     "output_type": "stream",
     "text": [
      "✅ Validation completed in 24.73s\n",
      "\n",
      "📊 Epoch 49 Summary:\n",
      "│ Train Loss: 0.1502 | Train Acc: 0.9484\n",
      "│ Val Loss:   2.0071 | Val Acc:   0.5769\n",
      "│ Train Time: 162.60s | Val Time: 24.73s\n",
      "│ Total Epoch Time: 187.33s\n",
      "│ Best Val Acc: 0.7054 (Epoch 35)\n",
      "│ GPU Memory: 0.3GB / 3.2GB\n",
      "================================================================================\n",
      "\n",
      "📈 Epoch 50/50\n",
      "--------------------------------------------------\n",
      "🔄 Training Phase...\n"
     ]
    },
    {
     "name": "stderr",
     "output_type": "stream",
     "text": [
      "Training: 100%|██████████████████████████████| 311/311 [02:42<00:00,  1.92it/s, Loss=0.0947, Acc=0.9681, GPU=0.3GB]\n"
     ]
    },
    {
     "name": "stdout",
     "output_type": "stream",
     "text": [
      "✅ Training completed in 162.37s\n",
      "🔍 Validation Phase...\n"
     ]
    },
    {
     "name": "stderr",
     "output_type": "stream",
     "text": [
      "Validation: 100%|██████████████████████████████| 81/81 [00:25<00:00,  3.19it/s, Loss=1.7048, Acc=0.5877]\n"
     ]
    },
    {
     "name": "stdout",
     "output_type": "stream",
     "text": [
      "✅ Validation completed in 25.36s\n",
      "\n",
      "📊 Epoch 50 Summary:\n",
      "│ Train Loss: 0.0947 | Train Acc: 0.9681\n",
      "│ Val Loss:   1.7048 | Val Acc:   0.5877\n",
      "│ Train Time: 162.37s | Val Time: 25.36s\n",
      "│ Total Epoch Time: 187.74s\n",
      "│ Best Val Acc: 0.7054 (Epoch 35)\n",
      "│ GPU Memory: 0.3GB / 3.2GB\n",
      "================================================================================\n",
      "\n",
      "💾 Best ResNet50 model saved as 'best_resnet50_model.pth'\n",
      "📊 Best model stats:\n",
      "│ Best Epoch: 35\n",
      "│ Best Val Acc: 0.7054\n",
      "\n",
      "💾 ResNet50 training history saved to 'resnet50_training_history.csv'\n",
      "\n",
      "🎉 ResNet50 Training Complete!\n",
      "Total Training Time: 9385.46s (156.4 minutes)\n",
      "Average Epoch Time: 187.71s\n",
      "\n",
      "⏱️  Epoch Timing Breakdown:\n",
      "│ Epoch 1: 263.50s\n",
      "│ Epoch 2: 183.96s\n",
      "│ Epoch 3: 184.54s\n",
      "│ Epoch 4: 184.68s\n",
      "│ Epoch 5: 184.36s\n",
      "│ Epoch 6: 185.09s\n",
      "│ Epoch 7: 187.39s\n",
      "│ Epoch 8: 184.97s\n",
      "│ Epoch 9: 185.79s\n",
      "│ Epoch 10: 187.19s\n",
      "│ Epoch 11: 187.95s\n",
      "│ Epoch 12: 187.02s\n",
      "│ Epoch 13: 186.19s\n",
      "│ Epoch 14: 187.07s\n",
      "│ Epoch 15: 186.60s\n",
      "│ Epoch 16: 186.68s\n",
      "│ Epoch 17: 185.68s\n",
      "│ Epoch 18: 185.52s\n",
      "│ Epoch 19: 186.27s\n",
      "│ Epoch 20: 184.47s\n",
      "│ Epoch 21: 183.83s\n",
      "│ Epoch 22: 186.70s\n",
      "│ Epoch 23: 189.75s\n",
      "│ Epoch 24: 187.78s\n",
      "│ Epoch 25: 186.54s\n",
      "│ Epoch 26: 186.37s\n",
      "│ Epoch 27: 186.71s\n",
      "│ Epoch 28: 186.20s\n",
      "│ Epoch 29: 187.24s\n",
      "│ Epoch 30: 187.39s\n",
      "│ Epoch 31: 186.99s\n",
      "│ Epoch 32: 185.19s\n",
      "│ Epoch 33: 184.02s\n",
      "│ Epoch 34: 185.71s\n",
      "│ Epoch 35: 186.28s\n",
      "│ Epoch 36: 186.14s\n",
      "│ Epoch 37: 186.22s\n",
      "│ Epoch 38: 188.09s\n",
      "│ Epoch 39: 186.30s\n",
      "│ Epoch 40: 186.13s\n",
      "│ Epoch 41: 185.78s\n",
      "│ Epoch 42: 185.81s\n",
      "│ Epoch 43: 187.42s\n",
      "│ Epoch 44: 184.81s\n",
      "│ Epoch 45: 184.31s\n",
      "│ Epoch 46: 184.72s\n",
      "│ Epoch 47: 186.07s\n",
      "│ Epoch 48: 186.91s\n",
      "│ Epoch 49: 187.33s\n",
      "│ Epoch 50: 187.74s\n",
      "\n",
      "🧪 Loading Best ResNet50 Model for Testing...\n",
      "✅ Best ResNet50 model from epoch 35 loaded successfully!\n"
     ]
    },
    {
     "name": "stderr",
     "output_type": "stream",
     "text": [
      "Testing ResNet50: 100%|██████████████████████████████| 101/101 [00:53<00:00,  1.90it/s]\n"
     ]
    },
    {
     "name": "stdout",
     "output_type": "stream",
     "text": [
      "✅ ResNet50 Testing completed in 53.06s\n",
      "\n",
      "📋 ResNet50 Classification Report:\n",
      "              precision    recall  f1-score   support\n",
      "\n",
      "     Batting     0.7775    0.6498    0.7079      1656\n",
      "     Bowling     0.3226    0.5143    0.3965       488\n",
      "    Fielding     0.5162    0.5964    0.5534       560\n",
      "      Umpire     0.7470    0.5962    0.6631       520\n",
      "\n",
      "    accuracy                         0.6114      3224\n",
      "   macro avg     0.5908    0.5892    0.5802      3224\n",
      "weighted avg     0.6583    0.6114    0.6267      3224\n",
      "\n",
      "🎯 ResNet50 Test Accuracy: 0.6114\n",
      "\n",
      "📊 ResNet50 Model Performance Summary:\n",
      "│ Best Validation Acc:  0.7054 (Epoch 35)\n",
      "│ Final Test Accuracy:  0.6114\n",
      "│ Val-Test Gap:         0.0940\n"
     ]
    },
    {
     "data": {
      "image/png": "[encoded data removed]",
      "text/plain": [
       "<Figure size 800x600 with 2 Axes>"
      ]
     },
     "metadata": {},
     "output_type": "display_data"
    },
    {
     "data": {
      "image/png": "[encoded data removed]",
      "text/plain": [
       "<Figure size 2000x500 with 4 Axes>"
      ]
     },
     "metadata": {},
     "output_type": "display_data"
    },
    {
     "name": "stdout",
     "output_type": "stream",
     "text": [
      "\n",
      "⏰ ResNet50 Final Timing Summary:\n",
      "│ Total Training: 9385.46s\n",
      "│ Average per Epoch: 187.71s\n",
      "│ Testing Time: 53.06s\n",
      "│ Total Runtime: 9438.52s\n",
      "\n",
      "💾 ResNet50 Files saved:\n",
      "│ best_resnet50_model.pth - Best validation accuracy model\n",
      "│ resnet50_training_history.csv - Training metrics for later plotting\n",
      "\n",
      "🏗️  ResNet50 Architecture Summary:\n",
      "│ Total Parameters: 23,516,228\n",
      "│ Trainable Parameters: 23,516,228\n",
      "│ Model Size: 89.71 MB\n",
      "│ Input Size: 224x224x3\n",
      "│ Output Classes: 4\n",
      "│ Architecture: ResNet50\n",
      "│ Block Type: Bottleneck\n",
      "│ Layers: [3, 4, 6, 3]\n",
      "│ Skip Connections: Yes\n",
      "│ Batch Normalization: Yes\n",
      "│ Activation: ReLU\n",
      "│ Zero Init Residual: Yes\n"
     ]
    }
   ],
   "source": [
    "# -----------------------------\n",
    "# 4. Training Loop with Best Model Saving (Val Accuracy) - ResNet50\n",
    "# -----------------------------\n",
    "train_losses, val_losses = [], []\n",
    "train_accs, val_accs = [], []\n",
    "epoch_times = []\n",
    "epochs = 50\n",
    "\n",
    "# Initialize best model tracking\n",
    "best_val_acc = 0.0\n",
    "best_model_state = None\n",
    "best_epoch = 0\n",
    "\n",
    "print(f\"\\n🚀 Starting ResNet50 Training for {epochs} epochs...\")\n",
    "print(\"=\" * 80)\n",
    "\n",
    "total_start_time = time.time()\n",
    "\n",
    "for epoch in range(epochs):\n",
    "    epoch_start_time = time.time()\n",
    "    \n",
    "    print(f\"\\n📈 Epoch {epoch+1}/{epochs}\")\n",
    "    print(\"-\" * 50)\n",
    "    \n",
    "    # Training Phase\n",
    "    print(\"🔄 Training Phase...\")\n",
    "    model.train()\n",
    "    running_loss, correct, total = 0, 0, 0\n",
    "    \n",
    "    train_pbar = tqdm(train_loader, desc=f\"Training\", \n",
    "                     bar_format='{l_bar}{bar:30}{r_bar}{bar:-30b}')\n",
    "    \n",
    "    train_phase_start = time.time()\n",
    "    \n",
    "    for batch_idx, (imgs, labels) in enumerate(train_pbar):\n",
    "        imgs, labels = imgs.to(device), labels.to(device)\n",
    "        \n",
    "        optimizer.zero_grad()\n",
    "        outputs = model(imgs)\n",
    "        loss = criterion(outputs, labels)\n",
    "        loss.backward()\n",
    "        optimizer.step()\n",
    "        \n",
    "        running_loss += loss.item()\n",
    "        _, preds = torch.max(outputs, 1)\n",
    "        correct += (preds == labels).sum().item()\n",
    "        total += labels.size(0)\n",
    "        \n",
    "        current_acc = correct / total\n",
    "        train_pbar.set_postfix({\n",
    "            'Loss': f'{running_loss/(batch_idx+1):.4f}',\n",
    "            'Acc': f'{current_acc:.4f}'\n",
    "        })\n",
    "        \n",
    "        if device.type == 'cuda' and batch_idx % 10 == 0:\n",
    "            gpu_memory = torch.cuda.memory_allocated() / 1024**3\n",
    "            train_pbar.set_postfix({\n",
    "                'Loss': f'{running_loss/(batch_idx+1):.4f}',\n",
    "                'Acc': f'{current_acc:.4f}',\n",
    "                'GPU': f'{gpu_memory:.1f}GB'\n",
    "            })\n",
    "    \n",
    "    train_phase_time = time.time() - train_phase_start\n",
    "    train_loss = running_loss / len(train_loader)\n",
    "    train_acc = correct / total\n",
    "    train_losses.append(train_loss)\n",
    "    train_accs.append(train_acc)\n",
    "    \n",
    "    print(f\"✅ Training completed in {train_phase_time:.2f}s\")\n",
    "    \n",
    "    # Validation Phase\n",
    "    print(\"🔍 Validation Phase...\")\n",
    "    model.eval()\n",
    "    running_loss, correct, total = 0, 0, 0\n",
    "    \n",
    "    val_phase_start = time.time()\n",
    "    val_pbar = tqdm(val_loader, desc=f\"Validation\", \n",
    "                   bar_format='{l_bar}{bar:30}{r_bar}{bar:-30b}')\n",
    "    \n",
    "    with torch.no_grad():\n",
    "        for batch_idx, (imgs, labels) in enumerate(val_pbar):\n",
    "            imgs, labels = imgs.to(device), labels.to(device)\n",
    "            outputs = model(imgs)\n",
    "            loss = criterion(outputs, labels)\n",
    "            \n",
    "            running_loss += loss.item()\n",
    "            _, preds = torch.max(outputs, 1)\n",
    "            correct += (preds == labels).sum().item()\n",
    "            total += labels.size(0)\n",
    "            \n",
    "            current_acc = correct / total\n",
    "            val_pbar.set_postfix({\n",
    "                'Loss': f'{running_loss/(batch_idx+1):.4f}',\n",
    "                'Acc': f'{current_acc:.4f}'\n",
    "            })\n",
    "    \n",
    "    val_phase_time = time.time() - val_phase_start\n",
    "    val_loss = running_loss / len(val_loader)\n",
    "    val_acc = correct / total\n",
    "    val_losses.append(val_loss)\n",
    "    val_accs.append(val_acc)\n",
    "    \n",
    "    print(f\"✅ Validation completed in {val_phase_time:.2f}s\")\n",
    "    \n",
    "    # Check if this is the best model so far based on val_acc\n",
    "    is_best = val_acc > best_val_acc\n",
    "    if is_best:\n",
    "        best_val_acc = val_acc\n",
    "        best_epoch = epoch + 1\n",
    "        best_model_state = model.state_dict().copy()\n",
    "        print(f\"🌟 New best ResNet50 model found! Validation Accuracy: {val_acc:.4f}\")\n",
    "    \n",
    "    # Epoch Summary\n",
    "    epoch_time = time.time() - epoch_start_time\n",
    "    epoch_times.append(epoch_time)\n",
    "    \n",
    "    print(f\"\\n📊 Epoch {epoch+1} Summary:\")\n",
    "    print(f\"│ Train Loss: {train_loss:.4f} | Train Acc: {train_acc:.4f}\")\n",
    "    print(f\"│ Val Loss:   {val_loss:.4f} | Val Acc:   {val_acc:.4f}\")\n",
    "    print(f\"│ Train Time: {train_phase_time:.2f}s | Val Time: {val_phase_time:.2f}s\")\n",
    "    print(f\"│ Total Epoch Time: {epoch_time:.2f}s\")\n",
    "    print(f\"│ Best Val Acc: {best_val_acc:.4f} (Epoch {best_epoch})\")\n",
    "    \n",
    "    if device.type == 'cuda':\n",
    "        print(f\"│ GPU Memory: {torch.cuda.memory_allocated()/1024**3:.1f}GB / {torch.cuda.memory_reserved()/1024**3:.1f}GB\")\n",
    "    \n",
    "    print(\"=\" * 80)\n",
    "\n",
    "total_training_time = time.time() - total_start_time\n",
    "\n",
    "# Save the best model\n",
    "if best_model_state is not None:\n",
    "    torch.save(best_model_state, 'best_resnet50_model.pth')\n",
    "    print(f\"\\n💾 Best ResNet50 model saved as 'best_resnet50_model.pth'\")\n",
    "    print(f\"📊 Best model stats:\")\n",
    "    print(f\"│ Best Epoch: {best_epoch}\")\n",
    "    print(f\"│ Best Val Acc: {best_val_acc:.4f}\")\n",
    "\n",
    "# Save training history data to CSV\n",
    "history_data = {\n",
    "    'epoch': list(range(1, epochs+1)),\n",
    "    'train_loss': train_losses,\n",
    "    'val_loss': val_losses,\n",
    "    'train_acc': train_accs,\n",
    "    'val_acc': val_accs,\n",
    "    'epoch_time': epoch_times\n",
    "}\n",
    "history_df = pd.DataFrame(history_data)\n",
    "history_df.to_csv('resnet50_training_history.csv', index=False)\n",
    "print(\"\\n💾 ResNet50 training history saved to 'resnet50_training_history.csv'\")\n",
    "\n",
    "# Training Summary\n",
    "print(f\"\\n🎉 ResNet50 Training Complete!\")\n",
    "print(f\"Total Training Time: {total_training_time:.2f}s ({total_training_time/60:.1f} minutes)\")\n",
    "print(f\"Average Epoch Time: {np.mean(epoch_times):.2f}s\")\n",
    "print(\"\\n⏱️  Epoch Timing Breakdown:\")\n",
    "for i, t in enumerate(epoch_times):\n",
    "    print(f\"│ Epoch {i+1}: {t:.2f}s\")\n",
    "\n",
    "# -----------------------------\n",
    "# 5. Load Best Model and Test\n",
    "# -----------------------------\n",
    "print(f\"\\n🧪 Loading Best ResNet50 Model for Testing...\")\n",
    "\n",
    "# Load the best model state\n",
    "if best_model_state is not None:\n",
    "    model.load_state_dict(best_model_state)\n",
    "    print(f\"✅ Best ResNet50 model from epoch {best_epoch} loaded successfully!\")\n",
    "else:\n",
    "    print(\"⚠️  No best model found, using current model state\")\n",
    "\n",
    "test_start_time = time.time()\n",
    "y_true, y_pred = [], []\n",
    "model.eval()\n",
    "\n",
    "test_pbar = tqdm(test_loader, desc=\"Testing ResNet50\", \n",
    "                bar_format='{l_bar}{bar:30}{r_bar}{bar:-30b}')\n",
    "\n",
    "with torch.no_grad():\n",
    "    for imgs, labels in test_pbar:\n",
    "        imgs, labels = imgs.to(device), labels.to(device)\n",
    "        outputs = model(imgs)\n",
    "        _, preds = torch.max(outputs, 1)\n",
    "        y_true.extend(labels.cpu().numpy())\n",
    "        y_pred.extend(preds.cpu().numpy())\n",
    "\n",
    "test_time = time.time() - test_start_time\n",
    "test_accuracy = accuracy_score(y_true, y_pred)\n",
    "\n",
    "print(f\"✅ ResNet50 Testing completed in {test_time:.2f}s\")\n",
    "print(\"\\n📋 ResNet50 Classification Report:\")\n",
    "print(classification_report(y_true, y_pred, target_names=classes,digits=4))\n",
    "print(f\"🎯 ResNet50 Test Accuracy: {test_accuracy:.4f}\")\n",
    "\n",
    "# Model Performance Summary\n",
    "print(f\"\\n📊 ResNet50 Model Performance Summary:\")\n",
    "print(f\"│ Best Validation Acc:  {best_val_acc:.4f} (Epoch {best_epoch})\")\n",
    "print(f\"│ Final Test Accuracy:  {test_accuracy:.4f}\")\n",
    "print(f\"│ Val-Test Gap:         {abs(best_val_acc - test_accuracy):.4f}\")\n",
    "\n",
    "# Confusion Matrix\n",
    "cm = confusion_matrix(y_true, y_pred)\n",
    "plt.figure(figsize=(8, 6))\n",
    "sns.heatmap(cm, annot=True, fmt=\"d\", cmap=\"Blues\", xticklabels=classes, yticklabels=classes)\n",
    "plt.xlabel(\"Predicted\")\n",
    "plt.ylabel(\"True\")\n",
    "plt.title(f\"ResNet50 Confusion Matrix - Best Model (Epoch {best_epoch})\")\n",
    "plt.show()\n",
    "\n",
    "# -----------------------------\n",
    "# 6. Enhanced Visualizations\n",
    "# -----------------------------\n",
    "plt.figure(figsize=(20, 5))\n",
    "\n",
    "# Loss Plot\n",
    "plt.subplot(1, 4, 1)\n",
    "plt.plot(range(1, epochs+1), train_losses, 'b-', label=\"Train Loss\", marker='o', linewidth=2)\n",
    "plt.plot(range(1, epochs+1), val_losses, 'r-', label=\"Val Loss\", marker='s', linewidth=2)\n",
    "plt.axvline(x=best_epoch, color='blue', linestyle='--', alpha=0.7, label=f'Best (Epoch {best_epoch})')\n",
    "plt.legend()\n",
    "plt.title(\"ResNet50 Loss over Epochs\")\n",
    "plt.xlabel(\"Epoch\")\n",
    "plt.ylabel(\"Loss\")\n",
    "plt.grid(True, alpha=0.3)\n",
    "\n",
    "# Accuracy Plot\n",
    "plt.subplot(1, 4, 2)\n",
    "plt.plot(range(1, epochs+1), train_accs, 'b-', label=\"Train Accuracy\", marker='o', linewidth=2)\n",
    "plt.plot(range(1, epochs+1), val_accs, 'r-', label=\"Val Accuracy\", marker='s', linewidth=2)\n",
    "plt.axvline(x=best_epoch, color='blue', linestyle='--', alpha=0.7, label=f'Best (Epoch {best_epoch})')\n",
    "plt.scatter([best_epoch], [best_val_acc], color='blue', s=100, zorder=5)\n",
    "plt.legend()\n",
    "plt.title(\"ResNet50 Accuracy over Epochs\")\n",
    "plt.xlabel(\"Epoch\")\n",
    "plt.ylabel(\"Accuracy\")\n",
    "plt.grid(True, alpha=0.3)\n",
    "\n",
    "# Timing Plot\n",
    "plt.subplot(1, 4, 3)\n",
    "bars = plt.bar(range(1, epochs+1), epoch_times, color='lightblue', alpha=0.7)\n",
    "bars[best_epoch-1].set_color('blue')\n",
    "plt.title(\"ResNet50 Training Time per Epoch\")\n",
    "plt.xlabel(\"Epoch\")\n",
    "plt.ylabel(\"Time (seconds)\")\n",
    "plt.grid(True, alpha=0.3)\n",
    "for i, t in enumerate(epoch_times):\n",
    "    plt.text(i+1, t+0.5, f'{t:.1f}s', ha='center', va='bottom')\n",
    "\n",
    "# Performance Comparison\n",
    "plt.subplot(1, 4, 4)\n",
    "metrics = ['Best Val Acc', 'Test Acc']\n",
    "values = [best_val_acc, test_accuracy]\n",
    "colors = ['lightblue', 'blue']\n",
    "bars = plt.bar(metrics, values, color=colors, alpha=0.7)\n",
    "plt.title(\"ResNet50 Final Model Performance\")\n",
    "plt.ylabel(\"Accuracy\")\n",
    "plt.ylim(0, 1)\n",
    "plt.grid(True, alpha=0.3)\n",
    "for bar, val in zip(bars, values):\n",
    "    plt.text(bar.get_x() + bar.get_width()/2, val + 0.01, \n",
    "             f'{val:.4f}', ha='center', va='bottom')\n",
    "\n",
    "plt.tight_layout()\n",
    "plt.show()\n",
    "\n",
    "print(f\"\\n⏰ ResNet50 Final Timing Summary:\")\n",
    "print(f\"│ Total Training: {total_training_time:.2f}s\")\n",
    "print(f\"│ Average per Epoch: {np.mean(epoch_times):.2f}s\")\n",
    "print(f\"│ Testing Time: {test_time:.2f}s\")\n",
    "print(f\"│ Total Runtime: {total_training_time + test_time:.2f}s\")\n",
    "\n",
    "print(f\"\\n💾 ResNet50 Files saved:\")\n",
    "print(f\"│ best_resnet50_model.pth - Best validation accuracy model\")\n",
    "print(f\"│ resnet50_training_history.csv - Training metrics for later plotting\")\n",
    "\n",
    "# -----------------------------\n",
    "# 7. ResNet50 Architecture Summary\n",
    "# -----------------------------\n",
    "print(f\"\\n🏗️  ResNet50 Architecture Summary:\")\n",
    "print(f\"│ Total Parameters: {sum(p.numel() for p in model.parameters()):,}\")\n",
    "print(f\"│ Trainable Parameters: {sum(p.numel() for p in model.parameters() if p.requires_grad):,}\")\n",
    "print(f\"│ Model Size: {sum(p.numel() * p.element_size() for p in model.parameters()) / 1024**2:.2f} MB\")\n",
    "print(f\"│ Input Size: 224x224x3\")\n",
    "print(f\"│ Output Classes: {len(classes)}\")\n",
    "print(f\"│ Architecture: ResNet50\")\n",
    "print(f\"│ Block Type: Bottleneck\")\n",
    "print(f\"│ Layers: [3, 4, 6, 3]\")\n",
    "print(f\"│ Skip Connections: Yes\")\n",
    "print(f\"│ Batch Normalization: Yes\")\n",
    "print(f\"│ Activation: ReLU\")\n",
    "print(f\"│ Zero Init Residual: Yes\")\n"
   ]
  },
  {
   "cell_type": "code",
   "execution_count": 11,
   "id": "2444e863",
   "metadata": {
    "execution": {
     "iopub.execute_input": "2025-09-05T16:27:14.101306Z",
     "iopub.status.busy": "2025-09-05T16:27:14.100954Z",
     "iopub.status.idle": "2025-09-05T16:27:14.131494Z",
     "shell.execute_reply": "2025-09-05T16:27:14.130779Z"
    },
    "papermill": {
     "duration": 2.135219,
     "end_time": "2025-09-05T16:27:14.132758",
     "exception": false,
     "start_time": "2025-09-05T16:27:11.997539",
     "status": "completed"
    },
    "tags": []
   },
   "outputs": [
    {
     "data": {
      "text/html": [
       "<div>\n",
       "<style scoped>\n",
       "    .dataframe tbody tr th:only-of-type {\n",
       "        vertical-align: middle;\n",
       "    }\n",
       "\n",
       "    .dataframe tbody tr th {\n",
       "        vertical-align: top;\n",
       "    }\n",
       "\n",
       "    .dataframe thead th {\n",
       "        text-align: right;\n",
       "    }\n",
       "</style>\n",
       "<table border=\"1\" class=\"dataframe\">\n",
       "  <thead>\n",
       "    <tr style=\"text-align: right;\">\n",
       "      <th></th>\n",
       "      <th>epoch</th>\n",
       "      <th>train_loss</th>\n",
       "      <th>val_loss</th>\n",
       "      <th>train_acc</th>\n",
       "      <th>val_acc</th>\n",
       "      <th>epoch_time</th>\n",
       "    </tr>\n",
       "  </thead>\n",
       "  <tbody>\n",
       "    <tr>\n",
       "      <th>0</th>\n",
       "      <td>1</td>\n",
       "      <td>1.572479</td>\n",
       "      <td>1.131333</td>\n",
       "      <td>0.502619</td>\n",
       "      <td>0.525621</td>\n",
       "      <td>263.499411</td>\n",
       "    </tr>\n",
       "    <tr>\n",
       "      <th>1</th>\n",
       "      <td>2</td>\n",
       "      <td>1.052967</td>\n",
       "      <td>1.105494</td>\n",
       "      <td>0.553485</td>\n",
       "      <td>0.545031</td>\n",
       "      <td>183.955354</td>\n",
       "    </tr>\n",
       "    <tr>\n",
       "      <th>2</th>\n",
       "      <td>3</td>\n",
       "      <td>0.925984</td>\n",
       "      <td>1.359474</td>\n",
       "      <td>0.620266</td>\n",
       "      <td>0.551242</td>\n",
       "      <td>184.536202</td>\n",
       "    </tr>\n",
       "    <tr>\n",
       "      <th>3</th>\n",
       "      <td>4</td>\n",
       "      <td>0.739288</td>\n",
       "      <td>1.133872</td>\n",
       "      <td>0.704674</td>\n",
       "      <td>0.625000</td>\n",
       "      <td>184.679500</td>\n",
       "    </tr>\n",
       "    <tr>\n",
       "      <th>4</th>\n",
       "      <td>5</td>\n",
       "      <td>0.510949</td>\n",
       "      <td>1.461462</td>\n",
       "      <td>0.806708</td>\n",
       "      <td>0.630823</td>\n",
       "      <td>184.360162</td>\n",
       "    </tr>\n",
       "    <tr>\n",
       "      <th>5</th>\n",
       "      <td>6</td>\n",
       "      <td>0.322785</td>\n",
       "      <td>1.820033</td>\n",
       "      <td>0.881648</td>\n",
       "      <td>0.581910</td>\n",
       "      <td>185.092276</td>\n",
       "    </tr>\n",
       "    <tr>\n",
       "      <th>6</th>\n",
       "      <td>7</td>\n",
       "      <td>0.194295</td>\n",
       "      <td>1.643066</td>\n",
       "      <td>0.931205</td>\n",
       "      <td>0.636646</td>\n",
       "      <td>187.392352</td>\n",
       "    </tr>\n",
       "    <tr>\n",
       "      <th>7</th>\n",
       "      <td>8</td>\n",
       "      <td>0.118872</td>\n",
       "      <td>2.246238</td>\n",
       "      <td>0.961221</td>\n",
       "      <td>0.576863</td>\n",
       "      <td>184.965568</td>\n",
       "    </tr>\n",
       "    <tr>\n",
       "      <th>8</th>\n",
       "      <td>9</td>\n",
       "      <td>0.116029</td>\n",
       "      <td>1.872340</td>\n",
       "      <td>0.960516</td>\n",
       "      <td>0.637811</td>\n",
       "      <td>185.790400</td>\n",
       "    </tr>\n",
       "    <tr>\n",
       "      <th>9</th>\n",
       "      <td>10</td>\n",
       "      <td>0.056301</td>\n",
       "      <td>1.750357</td>\n",
       "      <td>0.980963</td>\n",
       "      <td>0.648680</td>\n",
       "      <td>187.186312</td>\n",
       "    </tr>\n",
       "    <tr>\n",
       "      <th>10</th>\n",
       "      <td>11</td>\n",
       "      <td>0.052775</td>\n",
       "      <td>2.068408</td>\n",
       "      <td>0.980560</td>\n",
       "      <td>0.628106</td>\n",
       "      <td>187.952260</td>\n",
       "    </tr>\n",
       "    <tr>\n",
       "      <th>11</th>\n",
       "      <td>12</td>\n",
       "      <td>0.052245</td>\n",
       "      <td>1.919533</td>\n",
       "      <td>0.984589</td>\n",
       "      <td>0.670031</td>\n",
       "      <td>187.022532</td>\n",
       "    </tr>\n",
       "    <tr>\n",
       "      <th>12</th>\n",
       "      <td>13</td>\n",
       "      <td>0.024941</td>\n",
       "      <td>2.110248</td>\n",
       "      <td>0.993251</td>\n",
       "      <td>0.649457</td>\n",
       "      <td>186.194677</td>\n",
       "    </tr>\n",
       "    <tr>\n",
       "      <th>13</th>\n",
       "      <td>14</td>\n",
       "      <td>0.049943</td>\n",
       "      <td>2.207102</td>\n",
       "      <td>0.982272</td>\n",
       "      <td>0.643245</td>\n",
       "      <td>187.066836</td>\n",
       "    </tr>\n",
       "    <tr>\n",
       "      <th>14</th>\n",
       "      <td>15</td>\n",
       "      <td>0.037970</td>\n",
       "      <td>1.873825</td>\n",
       "      <td>0.987913</td>\n",
       "      <td>0.668866</td>\n",
       "      <td>186.603457</td>\n",
       "    </tr>\n",
       "    <tr>\n",
       "      <th>15</th>\n",
       "      <td>16</td>\n",
       "      <td>0.028620</td>\n",
       "      <td>2.111854</td>\n",
       "      <td>0.990834</td>\n",
       "      <td>0.615295</td>\n",
       "      <td>186.681993</td>\n",
       "    </tr>\n",
       "    <tr>\n",
       "      <th>16</th>\n",
       "      <td>17</td>\n",
       "      <td>0.052404</td>\n",
       "      <td>1.680750</td>\n",
       "      <td>0.982776</td>\n",
       "      <td>0.699922</td>\n",
       "      <td>185.681423</td>\n",
       "    </tr>\n",
       "    <tr>\n",
       "      <th>17</th>\n",
       "      <td>18</td>\n",
       "      <td>0.011685</td>\n",
       "      <td>1.850840</td>\n",
       "      <td>0.996978</td>\n",
       "      <td>0.681289</td>\n",
       "      <td>185.515641</td>\n",
       "    </tr>\n",
       "    <tr>\n",
       "      <th>18</th>\n",
       "      <td>19</td>\n",
       "      <td>0.036562</td>\n",
       "      <td>1.893480</td>\n",
       "      <td>0.988618</td>\n",
       "      <td>0.684006</td>\n",
       "      <td>186.273797</td>\n",
       "    </tr>\n",
       "    <tr>\n",
       "      <th>19</th>\n",
       "      <td>20</td>\n",
       "      <td>0.008039</td>\n",
       "      <td>1.923825</td>\n",
       "      <td>0.998288</td>\n",
       "      <td>0.656056</td>\n",
       "      <td>184.473881</td>\n",
       "    </tr>\n",
       "    <tr>\n",
       "      <th>20</th>\n",
       "      <td>21</td>\n",
       "      <td>0.004801</td>\n",
       "      <td>1.778752</td>\n",
       "      <td>0.998892</td>\n",
       "      <td>0.690606</td>\n",
       "      <td>183.834235</td>\n",
       "    </tr>\n",
       "    <tr>\n",
       "      <th>21</th>\n",
       "      <td>22</td>\n",
       "      <td>0.022707</td>\n",
       "      <td>1.765352</td>\n",
       "      <td>0.992043</td>\n",
       "      <td>0.667702</td>\n",
       "      <td>186.699794</td>\n",
       "    </tr>\n",
       "    <tr>\n",
       "      <th>22</th>\n",
       "      <td>23</td>\n",
       "      <td>0.054997</td>\n",
       "      <td>1.688501</td>\n",
       "      <td>0.982272</td>\n",
       "      <td>0.686335</td>\n",
       "      <td>189.749633</td>\n",
       "    </tr>\n",
       "    <tr>\n",
       "      <th>23</th>\n",
       "      <td>24</td>\n",
       "      <td>0.017337</td>\n",
       "      <td>1.938412</td>\n",
       "      <td>0.994964</td>\n",
       "      <td>0.675466</td>\n",
       "      <td>187.783643</td>\n",
       "    </tr>\n",
       "    <tr>\n",
       "      <th>24</th>\n",
       "      <td>25</td>\n",
       "      <td>0.020035</td>\n",
       "      <td>1.896348</td>\n",
       "      <td>0.993251</td>\n",
       "      <td>0.684394</td>\n",
       "      <td>186.541108</td>\n",
       "    </tr>\n",
       "    <tr>\n",
       "      <th>25</th>\n",
       "      <td>26</td>\n",
       "      <td>0.029052</td>\n",
       "      <td>2.216856</td>\n",
       "      <td>0.989726</td>\n",
       "      <td>0.642081</td>\n",
       "      <td>186.368698</td>\n",
       "    </tr>\n",
       "    <tr>\n",
       "      <th>26</th>\n",
       "      <td>27</td>\n",
       "      <td>0.046403</td>\n",
       "      <td>2.004589</td>\n",
       "      <td>0.984790</td>\n",
       "      <td>0.682842</td>\n",
       "      <td>186.705673</td>\n",
       "    </tr>\n",
       "    <tr>\n",
       "      <th>27</th>\n",
       "      <td>28</td>\n",
       "      <td>0.041132</td>\n",
       "      <td>1.973710</td>\n",
       "      <td>0.985999</td>\n",
       "      <td>0.621894</td>\n",
       "      <td>186.200712</td>\n",
       "    </tr>\n",
       "    <tr>\n",
       "      <th>28</th>\n",
       "      <td>29</td>\n",
       "      <td>0.015536</td>\n",
       "      <td>1.973821</td>\n",
       "      <td>0.995266</td>\n",
       "      <td>0.694099</td>\n",
       "      <td>187.240218</td>\n",
       "    </tr>\n",
       "    <tr>\n",
       "      <th>29</th>\n",
       "      <td>30</td>\n",
       "      <td>0.062209</td>\n",
       "      <td>1.636984</td>\n",
       "      <td>0.979049</td>\n",
       "      <td>0.696040</td>\n",
       "      <td>187.387540</td>\n",
       "    </tr>\n",
       "    <tr>\n",
       "      <th>30</th>\n",
       "      <td>31</td>\n",
       "      <td>0.008162</td>\n",
       "      <td>1.749273</td>\n",
       "      <td>0.998187</td>\n",
       "      <td>0.694876</td>\n",
       "      <td>186.986439</td>\n",
       "    </tr>\n",
       "    <tr>\n",
       "      <th>31</th>\n",
       "      <td>32</td>\n",
       "      <td>0.002915</td>\n",
       "      <td>1.757242</td>\n",
       "      <td>0.999396</td>\n",
       "      <td>0.693323</td>\n",
       "      <td>185.193097</td>\n",
       "    </tr>\n",
       "    <tr>\n",
       "      <th>32</th>\n",
       "      <td>33</td>\n",
       "      <td>0.001338</td>\n",
       "      <td>1.745111</td>\n",
       "      <td>0.999799</td>\n",
       "      <td>0.692158</td>\n",
       "      <td>184.023980</td>\n",
       "    </tr>\n",
       "    <tr>\n",
       "      <th>33</th>\n",
       "      <td>34</td>\n",
       "      <td>0.000814</td>\n",
       "      <td>1.686207</td>\n",
       "      <td>0.999899</td>\n",
       "      <td>0.699146</td>\n",
       "      <td>185.713587</td>\n",
       "    </tr>\n",
       "    <tr>\n",
       "      <th>34</th>\n",
       "      <td>35</td>\n",
       "      <td>0.000725</td>\n",
       "      <td>1.758932</td>\n",
       "      <td>1.000000</td>\n",
       "      <td>0.705357</td>\n",
       "      <td>186.279323</td>\n",
       "    </tr>\n",
       "    <tr>\n",
       "      <th>35</th>\n",
       "      <td>36</td>\n",
       "      <td>0.000422</td>\n",
       "      <td>1.575287</td>\n",
       "      <td>1.000000</td>\n",
       "      <td>0.699922</td>\n",
       "      <td>186.140397</td>\n",
       "    </tr>\n",
       "    <tr>\n",
       "      <th>36</th>\n",
       "      <td>37</td>\n",
       "      <td>0.000605</td>\n",
       "      <td>1.582874</td>\n",
       "      <td>0.999899</td>\n",
       "      <td>0.692935</td>\n",
       "      <td>186.224804</td>\n",
       "    </tr>\n",
       "    <tr>\n",
       "      <th>37</th>\n",
       "      <td>38</td>\n",
       "      <td>0.000407</td>\n",
       "      <td>1.546485</td>\n",
       "      <td>1.000000</td>\n",
       "      <td>0.696817</td>\n",
       "      <td>188.087632</td>\n",
       "    </tr>\n",
       "    <tr>\n",
       "      <th>38</th>\n",
       "      <td>39</td>\n",
       "      <td>0.000372</td>\n",
       "      <td>1.427998</td>\n",
       "      <td>1.000000</td>\n",
       "      <td>0.697593</td>\n",
       "      <td>186.304889</td>\n",
       "    </tr>\n",
       "    <tr>\n",
       "      <th>39</th>\n",
       "      <td>40</td>\n",
       "      <td>0.000346</td>\n",
       "      <td>1.405583</td>\n",
       "      <td>1.000000</td>\n",
       "      <td>0.695652</td>\n",
       "      <td>186.126028</td>\n",
       "    </tr>\n",
       "    <tr>\n",
       "      <th>40</th>\n",
       "      <td>41</td>\n",
       "      <td>0.000319</td>\n",
       "      <td>1.344742</td>\n",
       "      <td>1.000000</td>\n",
       "      <td>0.699146</td>\n",
       "      <td>185.777570</td>\n",
       "    </tr>\n",
       "    <tr>\n",
       "      <th>41</th>\n",
       "      <td>42</td>\n",
       "      <td>0.000361</td>\n",
       "      <td>1.365371</td>\n",
       "      <td>1.000000</td>\n",
       "      <td>0.695652</td>\n",
       "      <td>185.812234</td>\n",
       "    </tr>\n",
       "    <tr>\n",
       "      <th>42</th>\n",
       "      <td>43</td>\n",
       "      <td>0.000501</td>\n",
       "      <td>1.439034</td>\n",
       "      <td>1.000000</td>\n",
       "      <td>0.702640</td>\n",
       "      <td>187.421135</td>\n",
       "    </tr>\n",
       "    <tr>\n",
       "      <th>43</th>\n",
       "      <td>44</td>\n",
       "      <td>0.000419</td>\n",
       "      <td>1.280865</td>\n",
       "      <td>1.000000</td>\n",
       "      <td>0.700311</td>\n",
       "      <td>184.810930</td>\n",
       "    </tr>\n",
       "    <tr>\n",
       "      <th>44</th>\n",
       "      <td>45</td>\n",
       "      <td>0.000496</td>\n",
       "      <td>1.375262</td>\n",
       "      <td>1.000000</td>\n",
       "      <td>0.692935</td>\n",
       "      <td>184.308691</td>\n",
       "    </tr>\n",
       "    <tr>\n",
       "      <th>45</th>\n",
       "      <td>46</td>\n",
       "      <td>0.000364</td>\n",
       "      <td>1.321582</td>\n",
       "      <td>1.000000</td>\n",
       "      <td>0.700311</td>\n",
       "      <td>184.724932</td>\n",
       "    </tr>\n",
       "    <tr>\n",
       "      <th>46</th>\n",
       "      <td>47</td>\n",
       "      <td>0.000472</td>\n",
       "      <td>1.287605</td>\n",
       "      <td>1.000000</td>\n",
       "      <td>0.698370</td>\n",
       "      <td>186.072698</td>\n",
       "    </tr>\n",
       "    <tr>\n",
       "      <th>47</th>\n",
       "      <td>48</td>\n",
       "      <td>0.224311</td>\n",
       "      <td>1.413591</td>\n",
       "      <td>0.918614</td>\n",
       "      <td>0.617624</td>\n",
       "      <td>186.914219</td>\n",
       "    </tr>\n",
       "    <tr>\n",
       "      <th>48</th>\n",
       "      <td>49</td>\n",
       "      <td>0.150172</td>\n",
       "      <td>2.007098</td>\n",
       "      <td>0.948429</td>\n",
       "      <td>0.576863</td>\n",
       "      <td>187.334193</td>\n",
       "    </tr>\n",
       "    <tr>\n",
       "      <th>49</th>\n",
       "      <td>50</td>\n",
       "      <td>0.094725</td>\n",
       "      <td>1.704791</td>\n",
       "      <td>0.968070</td>\n",
       "      <td>0.587733</td>\n",
       "      <td>187.735427</td>\n",
       "    </tr>\n",
       "  </tbody>\n",
       "</table>\n",
       "</div>"
      ],
      "text/plain": [
       "    epoch  train_loss  val_loss  train_acc   val_acc  epoch_time\n",
       "0       1    1.572479  1.131333   0.502619  0.525621  263.499411\n",
       "1       2    1.052967  1.105494   0.553485  0.545031  183.955354\n",
       "2       3    0.925984  1.359474   0.620266  0.551242  184.536202\n",
       "3       4    0.739288  1.133872   0.704674  0.625000  184.679500\n",
       "4       5    0.510949  1.461462   0.806708  0.630823  184.360162\n",
       "5       6    0.322785  1.820033   0.881648  0.581910  185.092276\n",
       "6       7    0.194295  1.643066   0.931205  0.636646  187.392352\n",
       "7       8    0.118872  2.246238   0.961221  0.576863  184.965568\n",
       "8       9    0.116029  1.872340   0.960516  0.637811  185.790400\n",
       "9      10    0.056301  1.750357   0.980963  0.648680  187.186312\n",
       "10     11    0.052775  2.068408   0.980560  0.628106  187.952260\n",
       "11     12    0.052245  1.919533   0.984589  0.670031  187.022532\n",
       "12     13    0.024941  2.110248   0.993251  0.649457  186.194677\n",
       "13     14    0.049943  2.207102   0.982272  0.643245  187.066836\n",
       "14     15    0.037970  1.873825   0.987913  0.668866  186.603457\n",
       "15     16    0.028620  2.111854   0.990834  0.615295  186.681993\n",
       "16     17    0.052404  1.680750   0.982776  0.699922  185.681423\n",
       "17     18    0.011685  1.850840   0.996978  0.681289  185.515641\n",
       "18     19    0.036562  1.893480   0.988618  0.684006  186.273797\n",
       "19     20    0.008039  1.923825   0.998288  0.656056  184.473881\n",
       "20     21    0.004801  1.778752   0.998892  0.690606  183.834235\n",
       "21     22    0.022707  1.765352   0.992043  0.667702  186.699794\n",
       "22     23    0.054997  1.688501   0.982272  0.686335  189.749633\n",
       "23     24    0.017337  1.938412   0.994964  0.675466  187.783643\n",
       "24     25    0.020035  1.896348   0.993251  0.684394  186.541108\n",
       "25     26    0.029052  2.216856   0.989726  0.642081  186.368698\n",
       "26     27    0.046403  2.004589   0.984790  0.682842  186.705673\n",
       "27     28    0.041132  1.973710   0.985999  0.621894  186.200712\n",
       "28     29    0.015536  1.973821   0.995266  0.694099  187.240218\n",
       "29     30    0.062209  1.636984   0.979049  0.696040  187.387540\n",
       "30     31    0.008162  1.749273   0.998187  0.694876  186.986439\n",
       "31     32    0.002915  1.757242   0.999396  0.693323  185.193097\n",
       "32     33    0.001338  1.745111   0.999799  0.692158  184.023980\n",
       "33     34    0.000814  1.686207   0.999899  0.699146  185.713587\n",
       "34     35    0.000725  1.758932   1.000000  0.705357  186.279323\n",
       "35     36    0.000422  1.575287   1.000000  0.699922  186.140397\n",
       "36     37    0.000605  1.582874   0.999899  0.692935  186.224804\n",
       "37     38    0.000407  1.546485   1.000000  0.696817  188.087632\n",
       "38     39    0.000372  1.427998   1.000000  0.697593  186.304889\n",
       "39     40    0.000346  1.405583   1.000000  0.695652  186.126028\n",
       "40     41    0.000319  1.344742   1.000000  0.699146  185.777570\n",
       "41     42    0.000361  1.365371   1.000000  0.695652  185.812234\n",
       "42     43    0.000501  1.439034   1.000000  0.702640  187.421135\n",
       "43     44    0.000419  1.280865   1.000000  0.700311  184.810930\n",
       "44     45    0.000496  1.375262   1.000000  0.692935  184.308691\n",
       "45     46    0.000364  1.321582   1.000000  0.700311  184.724932\n",
       "46     47    0.000472  1.287605   1.000000  0.698370  186.072698\n",
       "47     48    0.224311  1.413591   0.918614  0.617624  186.914219\n",
       "48     49    0.150172  2.007098   0.948429  0.576863  187.334193\n",
       "49     50    0.094725  1.704791   0.968070  0.587733  187.735427"
      ]
     },
     "execution_count": 11,
     "metadata": {},
     "output_type": "execute_result"
    }
   ],
   "source": [
    "import pandas as pd\n",
    "df=pd.read_csv(\"/kaggle/working/resnet50_training_history.csv\")\n",
    "df"
   ]
  },
  {
   "cell_type": "code",
   "execution_count": 12,
   "id": "dc607f5b",
   "metadata": {
    "execution": {
     "iopub.execute_input": "2025-09-05T16:27:17.925551Z",
     "iopub.status.busy": "2025-09-05T16:27:17.925217Z",
     "iopub.status.idle": "2025-09-05T16:27:18.410262Z",
     "shell.execute_reply": "2025-09-05T16:27:18.409114Z"
    },
    "papermill": {
     "duration": 2.321437,
     "end_time": "2025-09-05T16:27:18.411357",
     "exception": true,
     "start_time": "2025-09-05T16:27:16.089920",
     "status": "failed"
    },
    "tags": []
   },
   "outputs": [
    {
     "ename": "NameError",
     "evalue": "name 'os' is not defined",
     "output_type": "error",
     "traceback": [
      "\u001b[0;31m---------------------------------------------------------------------------\u001b[0m",
      "\u001b[0;31mNameError\u001b[0m                                 Traceback (most recent call last)",
      "\u001b[0;32m/tmp/ipykernel_19/898973616.py\u001b[0m in \u001b[0;36m<cell line: 0>\u001b[0;34m()\u001b[0m\n\u001b[1;32m      6\u001b[0m \u001b[0;31m# -----------------------------\u001b[0m\u001b[0;34m\u001b[0m\u001b[0;34m\u001b[0m\u001b[0m\n\u001b[1;32m      7\u001b[0m \u001b[0mmisclassified_records\u001b[0m \u001b[0;34m=\u001b[0m \u001b[0;34m[\u001b[0m\u001b[0;34m]\u001b[0m\u001b[0;34m\u001b[0m\u001b[0;34m\u001b[0m\u001b[0m\n\u001b[0;32m----> 8\u001b[0;31m \u001b[0mos\u001b[0m\u001b[0;34m.\u001b[0m\u001b[0mmakedirs\u001b[0m\u001b[0;34m(\u001b[0m\u001b[0;34m\"misclassified\"\u001b[0m\u001b[0;34m,\u001b[0m \u001b[0mexist_ok\u001b[0m\u001b[0;34m=\u001b[0m\u001b[0;32mTrue\u001b[0m\u001b[0;34m)\u001b[0m\u001b[0;34m\u001b[0m\u001b[0;34m\u001b[0m\u001b[0m\n\u001b[0m\u001b[1;32m      9\u001b[0m \u001b[0mos\u001b[0m\u001b[0;34m.\u001b[0m\u001b[0mmakedirs\u001b[0m\u001b[0;34m(\u001b[0m\u001b[0;34m\"gradcam\"\u001b[0m\u001b[0;34m,\u001b[0m \u001b[0mexist_ok\u001b[0m\u001b[0;34m=\u001b[0m\u001b[0;32mTrue\u001b[0m\u001b[0;34m)\u001b[0m\u001b[0;34m\u001b[0m\u001b[0;34m\u001b[0m\u001b[0m\n\u001b[1;32m     10\u001b[0m \u001b[0;34m\u001b[0m\u001b[0m\n",
      "\u001b[0;31mNameError\u001b[0m: name 'os' is not defined"
     ]
    }
   ],
   "source": [
    "import random\n",
    "import openpyxl\n",
    "\n",
    "# -----------------------------\n",
    "# Save Misclassified Images Info to Excel\n",
    "# -----------------------------\n",
    "misclassified_records = []\n",
    "os.makedirs(\"misclassified\", exist_ok=True)\n",
    "os.makedirs(\"gradcam\", exist_ok=True)\n",
    "\n",
    "for idx, (img_tensor, true_lbl, pred_lbl) in enumerate(misclassified):\n",
    "    # Undo normalization for saving\n",
    "    img = inv_normalize(img_tensor).permute(1, 2, 0).numpy()\n",
    "    img = np.clip(img * 255, 0, 255).astype(np.uint8)\n",
    "\n",
    "    filename = f\"misclassified/img_{idx}_true_{classes[true_lbl]}_pred_{classes[pred_lbl]}.png\"\n",
    "    cv2.imwrite(filename, cv2.cvtColor(img, cv2.COLOR_RGB2BGR))\n",
    "\n",
    "    misclassified_records.append({\n",
    "        \"Index\": idx,\n",
    "        \"True_Label\": classes[true_lbl],\n",
    "        \"Pred_Label\": classes[pred_lbl],\n",
    "        \"File\": filename\n",
    "    })\n",
    "\n",
    "# Save details to Excel\n",
    "misclassified_df = pd.DataFrame(misclassified_records)\n",
    "misclassified_df.to_excel(\"misclassified_images.xlsx\", index=False)\n",
    "print(f\"💾 Misclassified details saved to 'misclassified_images.xlsx'\")\n",
    "print(f\"📌 Total misclassified images saved: {len(misclassified_records)}\")\n",
    "\n",
    "# -----------------------------\n",
    "# Save 5 Grad-CAM Overlays\n",
    "# -----------------------------\n",
    "print(\"\\n🔥 Saving 10 Grad-CAM overlays...\")\n",
    "sampled_misclassified = random.sample(misclassified, min(10, len(misclassified)))\n",
    "\n",
    "for idx, (img_tensor, true_lbl, pred_lbl) in enumerate(sampled_misclassified):\n",
    "    img = inv_normalize(img_tensor).permute(1, 2, 0).numpy()\n",
    "    img = np.clip(img * 255, 0, 255).astype(np.uint8)\n",
    "\n",
    "    input_img = img_tensor.unsqueeze(0).to(device)\n",
    "    cam = gradcam(input_img, class_idx=pred_lbl)\n",
    "\n",
    "    heatmap = cv2.applyColorMap(np.uint8(255 * cam), cv2.COLORMAP_JET)\n",
    "    overlay = cv2.addWeighted(cv2.cvtColor(img, cv2.COLOR_RGB2BGR), 0.6, heatmap, 0.4, 0)\n",
    "\n",
    "    gradcam_path = f\"gradcam/gradcam_{idx}_true_{classes[true_lbl]}_pred_{classes[pred_lbl]}.png\"\n",
    "    cv2.imwrite(gradcam_path, overlay)\n",
    "\n",
    "print(\"✅ 10 Grad-CAM images saved in 'gradcam/' folder\")"
   ]
  }
 ],
 "metadata": {
  "kaggle": {
   "accelerator": "nvidiaTeslaT4",
   "dataSources": [
    {
     "datasetId": 7735666,
     "sourceId": 12275446,
     "sourceType": "datasetVersion"
    }
   ],
   "dockerImageVersionId": 31090,
   "isGpuEnabled": true,
   "isInternetEnabled": true,
   "language": "python",
   "sourceType": "notebook"
  },
  "kernelspec": {
   "display_name": "Python 3",
   "language": "python",
   "name": "python3"
  },
  "language_info": {
   "codemirror_mode": {
    "name": "ipython",
    "version": 3
   },
   "file_extension": ".py",
   "mimetype": "text/x-python",
   "name": "python",
   "nbconvert_exporter": "python",
   "pygments_lexer": "ipython3",
   "version": "3.11.13"
  },
  "papermill": {
   "default_parameters": {},
   "duration": 9486.92271,
   "end_time": "2025-09-05T16:27:23.301354",
   "environment_variables": {},
   "exception": true,
   "input_path": "__notebook__.ipynb",
   "output_path": "__notebook__.ipynb",
   "parameters": {},
   "start_time": "2025-09-05T13:49:16.378644",
   "version": "2.6.0"
  }
 },
 "nbformat": 4,
 "nbformat_minor": 5
}
