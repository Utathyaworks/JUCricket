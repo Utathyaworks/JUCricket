{
 "cells": [
  {
   "cell_type": "code",
   "execution_count": 1,
   "id": "8064115a",
   "metadata": {
    "_cell_guid": "b1076dfc-b9ad-4769-8c92-a6c4dae69d19",
    "_uuid": "8f2839f25d086af736a60e9eeb907d3b93b6e0e5",
    "execution": {
     "iopub.execute_input": "2025-09-07T04:58:37.028512Z",
     "iopub.status.busy": "2025-09-07T04:58:37.028272Z",
     "iopub.status.idle": "2025-09-07T04:58:58.747006Z",
     "shell.execute_reply": "2025-09-07T04:58:58.746211Z"
    },
    "papermill": {
     "duration": 21.723934,
     "end_time": "2025-09-07T04:58:58.748211",
     "exception": false,
     "start_time": "2025-09-07T04:58:37.024277",
     "status": "completed"
    },
    "tags": []
   },
   "outputs": [
    {
     "name": "stdout",
     "output_type": "stream",
     "text": [
      "Classes: ['Batting', 'Bowling', 'Fielding', 'Umpire']\n"
     ]
    }
   ],
   "source": [
    "import torch\n",
    "import torch.nn as nn\n",
    "import torch.nn.functional as F\n",
    "from torch.utils.data import DataLoader\n",
    "from torchvision import datasets, transforms\n",
    "from torchsummary import summary\n",
    "import matplotlib.pyplot as plt\n",
    "from sklearn.metrics import classification_report, confusion_matrix, accuracy_score\n",
    "import seaborn as sns\n",
    "import numpy as np\n",
    "\n",
    "# -----------------------------\n",
    "# 1. Data Preprocessing\n",
    "# -----------------------------\n",
    "data_dir = \"/kaggle/input/ju-cricket/Cricket_Dataset_final/Task_A\"\n",
    "\n",
    "transform = transforms.Compose([\n",
    "    transforms.Resize((224, 224)),\n",
    "    transforms.ToTensor(),\n",
    "    transforms.Normalize([0.485, 0.456, 0.406], \n",
    "                         [0.229, 0.224, 0.225])\n",
    "])\n",
    "\n",
    "train_ds = datasets.ImageFolder(f\"{data_dir}/train\", transform=transform)\n",
    "val_ds   = datasets.ImageFolder(f\"{data_dir}/val\", transform=transform)\n",
    "test_ds  = datasets.ImageFolder(f\"{data_dir}/test\", transform=transform)\n",
    "\n",
    "train_loader = DataLoader(train_ds, batch_size=32, shuffle=True)\n",
    "val_loader   = DataLoader(val_ds, batch_size=32, shuffle=False)\n",
    "test_loader  = DataLoader(test_ds, batch_size=32, shuffle=False)\n",
    "\n",
    "classes = train_ds.classes\n",
    "print(\"Classes:\", classes)\n",
    "\n"
   ]
  },
  {
   "cell_type": "code",
   "execution_count": 2,
   "id": "63ee63ff",
   "metadata": {
    "execution": {
     "iopub.execute_input": "2025-09-07T04:58:58.754886Z",
     "iopub.status.busy": "2025-09-07T04:58:58.754234Z",
     "iopub.status.idle": "2025-09-07T04:58:58.758817Z",
     "shell.execute_reply": "2025-09-07T04:58:58.758232Z"
    },
    "papermill": {
     "duration": 0.008669,
     "end_time": "2025-09-07T04:58:58.759763",
     "exception": false,
     "start_time": "2025-09-07T04:58:58.751094",
     "status": "completed"
    },
    "tags": []
   },
   "outputs": [
    {
     "name": "stdout",
     "output_type": "stream",
     "text": [
      "Total training images: 11169\n",
      "Total validation images: 2898\n",
      "Total test images: 3627\n",
      "Total images in dataset: 17694\n"
     ]
    }
   ],
   "source": [
    "print(\"Total training images:\", len(train_ds))\n",
    "print(\"Total validation images:\", len(val_ds))\n",
    "print(\"Total test images:\", len(test_ds))\n",
    "\n",
    "total_images = len(train_ds) + len(val_ds) + len(test_ds)\n",
    "print(\"Total images in dataset:\", total_images)\n"
   ]
  },
  {
   "cell_type": "code",
   "execution_count": 3,
   "id": "8a2481c0",
   "metadata": {
    "execution": {
     "iopub.execute_input": "2025-09-07T04:58:58.765416Z",
     "iopub.status.busy": "2025-09-07T04:58:58.765212Z",
     "iopub.status.idle": "2025-09-07T04:58:58.779041Z",
     "shell.execute_reply": "2025-09-07T04:58:58.778394Z"
    },
    "papermill": {
     "duration": 0.01771,
     "end_time": "2025-09-07T04:58:58.780039",
     "exception": false,
     "start_time": "2025-09-07T04:58:58.762329",
     "status": "completed"
    },
    "tags": []
   },
   "outputs": [
    {
     "name": "stdout",
     "output_type": "stream",
     "text": [
      "Training images (excluding 'random_occlusion'): 9928\n",
      "Validation images (excluding 'random_occlusion'): 2576\n",
      "Test images (excluding 'random_occlusion'): 3224\n",
      "Total images (excluding 'random_occlusion'): 15728\n"
     ]
    }
   ],
   "source": [
    "ignore_folder = \"random_occlusion\"\n",
    "\n",
    "def count_images_ignore_folder(dataset, ignore_folder):\n",
    "    count = 0\n",
    "    for img_path, label in dataset.samples:\n",
    "        # Skip if the image path contains the ignore_folder\n",
    "        if ignore_folder not in img_path.split(\"/\"):\n",
    "            count += 1\n",
    "    return count\n",
    "\n",
    "train_count = count_images_ignore_folder(train_ds, ignore_folder)\n",
    "val_count   = count_images_ignore_folder(val_ds, ignore_folder)\n",
    "test_count  = count_images_ignore_folder(test_ds, ignore_folder)\n",
    "\n",
    "total_count = train_count + val_count + test_count\n",
    "\n",
    "print(\"Training images (excluding '{}'): {}\".format(ignore_folder, train_count))\n",
    "print(\"Validation images (excluding '{}'): {}\".format(ignore_folder, val_count))\n",
    "print(\"Test images (excluding '{}'): {}\".format(ignore_folder, test_count))\n",
    "print(\"Total images (excluding '{}'): {}\".format(ignore_folder, total_count))\n"
   ]
  },
  {
   "cell_type": "code",
   "execution_count": 4,
   "id": "09208b3a",
   "metadata": {
    "execution": {
     "iopub.execute_input": "2025-09-07T04:58:58.786439Z",
     "iopub.status.busy": "2025-09-07T04:58:58.786204Z",
     "iopub.status.idle": "2025-09-07T04:58:58.806215Z",
     "shell.execute_reply": "2025-09-07T04:58:58.805517Z"
    },
    "papermill": {
     "duration": 0.024942,
     "end_time": "2025-09-07T04:58:58.807432",
     "exception": false,
     "start_time": "2025-09-07T04:58:58.782490",
     "status": "completed"
    },
    "tags": []
   },
   "outputs": [
    {
     "name": "stdout",
     "output_type": "stream",
     "text": [
      "Training folders considered: {'chromatic_aberration', 'gaussian_noise', 'low_resolution', 'motion_blur', 'original', 'random_occlusion', 'dirty_lens', 'lens_flare', 'blur'}\n",
      "Validation folders considered: {'chromatic_aberration', 'gaussian_noise', 'low_resolution', 'motion_blur', 'original', 'random_occlusion', 'dirty_lens', 'lens_flare', 'blur'}\n",
      "Test folders considered: {'chromatic_aberration', 'gaussian_noise', 'low_resolution', 'motion_blur', 'original', 'random_occlusion', 'dirty_lens', 'lens_flare', 'blur'}\n"
     ]
    }
   ],
   "source": [
    "ignore_folder = \"random_occlusionw\"\n",
    "\n",
    "def get_included_folders(dataset, ignore_folder):\n",
    "    included = set()\n",
    "    for img_path, label in dataset.samples:\n",
    "        # Split the path into parts and ignore if ignore_folder is in the path\n",
    "        if ignore_folder not in img_path.split(\"/\"):\n",
    "            # The folder name just above the image (or the class folder)\n",
    "            folder_name = img_path.split(\"/\")[-2]\n",
    "            included.add(folder_name)\n",
    "    return included\n",
    "\n",
    "train_folders = get_included_folders(train_ds, ignore_folder)\n",
    "val_folders   = get_included_folders(val_ds, ignore_folder)\n",
    "test_folders  = get_included_folders(test_ds, ignore_folder)\n",
    "\n",
    "print(\"Training folders considered:\", train_folders)\n",
    "print(\"Validation folders considered:\", val_folders)\n",
    "print(\"Test folders considered:\", test_folders)\n"
   ]
  },
  {
   "cell_type": "code",
   "execution_count": 5,
   "id": "ab3bbe30",
   "metadata": {
    "execution": {
     "iopub.execute_input": "2025-09-07T04:58:58.813065Z",
     "iopub.status.busy": "2025-09-07T04:58:58.812855Z",
     "iopub.status.idle": "2025-09-07T04:58:59.782672Z",
     "shell.execute_reply": "2025-09-07T04:58:59.781827Z"
    },
    "papermill": {
     "duration": 0.973976,
     "end_time": "2025-09-07T04:58:59.783905",
     "exception": false,
     "start_time": "2025-09-07T04:58:58.809929",
     "status": "completed"
    },
    "tags": []
   },
   "outputs": [
    {
     "name": "stdout",
     "output_type": "stream",
     "text": [
      "Classes: ['Batting', 'Bowling', 'Fielding', 'Umpire']\n",
      "Final Training images: 9928\n",
      "Final Validation images: 2576\n",
      "Final Test images: 3224\n",
      "Total images after filtering: 15728\n"
     ]
    }
   ],
   "source": [
    "ignore_folder = \"random_occlusion\"\n",
    "\n",
    "def filter_samples(dataset, ignore_folder):\n",
    "    # Keep only samples where ignore_folder is NOT in the path\n",
    "    filtered_samples = [s for s in dataset.samples if ignore_folder not in s[0].split(\"/\")]\n",
    "    dataset.samples = filtered_samples\n",
    "    dataset.targets = [s[1] for s in filtered_samples]  # Update targets accordingly\n",
    "    return dataset\n",
    "\n",
    "# Create original datasets\n",
    "train_ds = datasets.ImageFolder(f\"{data_dir}/train\", transform=transform)\n",
    "val_ds   = datasets.ImageFolder(f\"{data_dir}/val\", transform=transform)\n",
    "test_ds  = datasets.ImageFolder(f\"{data_dir}/test\", transform=transform)\n",
    "\n",
    "# Filter out 'random_occlusion' folder\n",
    "train_ds = filter_samples(train_ds, ignore_folder)\n",
    "val_ds   = filter_samples(val_ds, ignore_folder)\n",
    "test_ds  = filter_samples(test_ds, ignore_folder)\n",
    "\n",
    "# DataLoaders\n",
    "train_loader = DataLoader(train_ds, batch_size=32, shuffle=True)\n",
    "val_loader   = DataLoader(val_ds, batch_size=32, shuffle=False)\n",
    "test_loader  = DataLoader(test_ds, batch_size=32, shuffle=False)\n",
    "\n",
    "# Classes (will remain the same)\n",
    "classes = train_ds.classes\n",
    "print(\"Classes:\", classes)\n",
    "\n",
    "# Show counts\n",
    "print(\"Final Training images:\", len(train_ds))\n",
    "print(\"Final Validation images:\", len(val_ds))\n",
    "print(\"Final Test images:\", len(test_ds))\n",
    "print(\"Total images after filtering:\", len(train_ds) + len(val_ds) + len(test_ds))\n"
   ]
  },
  {
   "cell_type": "code",
   "execution_count": 6,
   "id": "d2297c10",
   "metadata": {
    "execution": {
     "iopub.execute_input": "2025-09-07T04:58:59.791336Z",
     "iopub.status.busy": "2025-09-07T04:58:59.790974Z",
     "iopub.status.idle": "2025-09-07T04:58:59.810100Z",
     "shell.execute_reply": "2025-09-07T04:58:59.809528Z"
    },
    "papermill": {
     "duration": 0.024327,
     "end_time": "2025-09-07T04:58:59.811128",
     "exception": false,
     "start_time": "2025-09-07T04:58:59.786801",
     "status": "completed"
    },
    "tags": []
   },
   "outputs": [
    {
     "name": "stdout",
     "output_type": "stream",
     "text": [
      "Training folders considered: {'chromatic_aberration', 'gaussian_noise', 'low_resolution', 'motion_blur', 'original', 'dirty_lens', 'lens_flare', 'blur'}\n",
      "Validation folders considered: {'chromatic_aberration', 'gaussian_noise', 'low_resolution', 'motion_blur', 'original', 'dirty_lens', 'lens_flare', 'blur'}\n",
      "Test folders considered: {'chromatic_aberration', 'gaussian_noise', 'low_resolution', 'motion_blur', 'original', 'dirty_lens', 'lens_flare', 'blur'}\n"
     ]
    }
   ],
   "source": [
    "ignore_folder = \"random_occlusion\"\n",
    "\n",
    "def get_included_folders(dataset, ignore_folder):\n",
    "    included = set()\n",
    "    for img_path, label in dataset.samples:\n",
    "        # Split the path into parts and ignore if ignore_folder is in the path\n",
    "        if ignore_folder not in img_path.split(\"/\"):\n",
    "            # The folder name just above the image (or the class folder)\n",
    "            folder_name = img_path.split(\"/\")[-2]\n",
    "            included.add(folder_name)\n",
    "    return included\n",
    "\n",
    "train_folders = get_included_folders(train_ds, ignore_folder)\n",
    "val_folders   = get_included_folders(val_ds, ignore_folder)\n",
    "test_folders  = get_included_folders(test_ds, ignore_folder)\n",
    "\n",
    "print(\"Training folders considered:\", train_folders)\n",
    "print(\"Validation folders considered:\", val_folders)\n",
    "print(\"Test folders considered:\", test_folders)\n"
   ]
  },
  {
   "cell_type": "code",
   "execution_count": 7,
   "id": "32a7dfc7",
   "metadata": {
    "execution": {
     "iopub.execute_input": "2025-09-07T04:58:59.817414Z",
     "iopub.status.busy": "2025-09-07T04:58:59.817218Z",
     "iopub.status.idle": "2025-09-07T04:58:59.834727Z",
     "shell.execute_reply": "2025-09-07T04:58:59.834212Z"
    },
    "papermill": {
     "duration": 0.021903,
     "end_time": "2025-09-07T04:58:59.835773",
     "exception": false,
     "start_time": "2025-09-07T04:58:59.813870",
     "status": "completed"
    },
    "tags": []
   },
   "outputs": [],
   "source": [
    "\n",
    "\n",
    "def _make_divisible(v, divisor, min_value=None):\n",
    "    \"\"\"\n",
    "    This function is taken from the original tf repo.\n",
    "    It ensures that all layers have a channel number that is divisible by 8\n",
    "    \"\"\"\n",
    "    if min_value is None:\n",
    "        min_value = divisor\n",
    "    new_v = max(min_value, int(v + divisor / 2) // divisor * divisor)\n",
    "    if new_v < 0.9 * v:\n",
    "        new_v += divisor\n",
    "    return new_v\n",
    "\n",
    "class Swish(nn.Module):\n",
    "    \"\"\"Swish activation function (x * sigmoid(x))\"\"\"\n",
    "    def forward(self, x):\n",
    "        return x * torch.sigmoid(x)\n",
    "\n",
    "class SqueezeExcitation(nn.Module):\n",
    "    \"\"\"Squeeze-and-Excitation block\"\"\"\n",
    "    def __init__(self, in_planes, reduced_dim):\n",
    "        super().__init__()\n",
    "        self.se = nn.Sequential(\n",
    "            nn.AdaptiveAvgPool2d(1),\n",
    "            nn.Conv2d(in_planes, reduced_dim, 1),\n",
    "            Swish(),\n",
    "            nn.Conv2d(reduced_dim, in_planes, 1),\n",
    "            nn.Sigmoid()\n",
    "        )\n",
    "\n",
    "    def forward(self, x):\n",
    "        return x * self.se(x)\n",
    "\n",
    "class StochasticDepth(nn.Module):\n",
    "    \"\"\"Stochastic Depth regularization\"\"\"\n",
    "    def __init__(self, drop_rate):\n",
    "        super().__init__()\n",
    "        self.drop_rate = drop_rate\n",
    "\n",
    "    def forward(self, x, residual):\n",
    "        if not self.training:\n",
    "            return residual + x\n",
    "        \n",
    "        if self.drop_rate > 0:\n",
    "            batch_size = x.shape[0]\n",
    "            random_tensor = (1 - self.drop_rate) + torch.rand(\n",
    "                (batch_size, 1, 1, 1), dtype=x.dtype, device=x.device\n",
    "            )\n",
    "            binary_mask = torch.floor(random_tensor)\n",
    "            x = x / (1 - self.drop_rate) * binary_mask\n",
    "        return residual + x\n",
    "\n",
    "class MBConvBlock(nn.Module):\n",
    "    \"\"\"Mobile Inverted Residual Bottleneck Block\"\"\"\n",
    "    def __init__(self, in_planes, out_planes, kernel_size, stride, expand_ratio, se_ratio, drop_rate):\n",
    "        super().__init__()\n",
    "        self.in_planes = in_planes\n",
    "        self.out_planes = out_planes\n",
    "        self.stride = stride\n",
    "        self.expand_ratio = expand_ratio\n",
    "        \n",
    "        # Expansion phase\n",
    "        hidden_dim = in_planes * expand_ratio\n",
    "        self.expand_conv = nn.Conv2d(in_planes, hidden_dim, 1, bias=False) if expand_ratio != 1 else nn.Identity()\n",
    "        self.expand_bn = nn.BatchNorm2d(hidden_dim) if expand_ratio != 1 else nn.Identity()\n",
    "        \n",
    "        # Depthwise convolution\n",
    "        self.depthwise_conv = nn.Conv2d(hidden_dim, hidden_dim, kernel_size, stride, \n",
    "                                       padding=(kernel_size-1)//2, groups=hidden_dim, bias=False)\n",
    "        self.depthwise_bn = nn.BatchNorm2d(hidden_dim)\n",
    "        \n",
    "        # Squeeze-and-Excitation\n",
    "        se_planes = max(1, int(in_planes * se_ratio))\n",
    "        self.se = SqueezeExcitation(hidden_dim, se_planes)\n",
    "        \n",
    "        # Output phase\n",
    "        self.project_conv = nn.Conv2d(hidden_dim, out_planes, 1, bias=False)\n",
    "        self.project_bn = nn.BatchNorm2d(out_planes)\n",
    "        \n",
    "        # Stochastic depth\n",
    "        self.stoch_depth = StochasticDepth(drop_rate)\n",
    "        \n",
    "        # Skip connection\n",
    "        self.use_skip_connection = (stride == 1) and (in_planes == out_planes)\n",
    "        \n",
    "    def forward(self, x):\n",
    "        residual = x\n",
    "        \n",
    "        # Expansion\n",
    "        if self.expand_ratio != 1:\n",
    "            x = Swish()(self.expand_bn(self.expand_conv(x)))\n",
    "        \n",
    "        # Depthwise\n",
    "        x = Swish()(self.depthwise_bn(self.depthwise_conv(x)))\n",
    "        \n",
    "        # Squeeze-and-Excitation\n",
    "        x = self.se(x)\n",
    "        \n",
    "        # Project\n",
    "        x = self.project_bn(self.project_conv(x))\n",
    "        \n",
    "        # Skip connection and stochastic depth\n",
    "        if self.use_skip_connection:\n",
    "            x = self.stoch_depth(x, residual)\n",
    "        \n",
    "        return x\n",
    "\n",
    "class MyEfficientNetB0(nn.Module):\n",
    "    \"\"\"EfficientNetB0 Implementation from Scratch\"\"\"\n",
    "    def __init__(self, num_classes=4, width_coeff=1.0, depth_coeff=1.0, dropout_rate=0.2, drop_connect_rate=0.2):\n",
    "        super().__init__()\n",
    "        \n",
    "        # EfficientNet-B0 baseline\n",
    "        # [expansion, output_filter, num_repeat, stride, kernel_size, se_ratio]\n",
    "        settings = [\n",
    "            [1,  16, 1, 1, 3, 0.25],  # MBConv1_3x3, SE, 112 -> 112\n",
    "            [6,  24, 2, 2, 3, 0.25],  # MBConv6_3x3, SE, 112 ->  56\n",
    "            [6,  40, 2, 2, 5, 0.25],  # MBConv6_5x5, SE,  56 ->  28\n",
    "            [6,  80, 3, 2, 3, 0.25],  # MBConv6_3x3, SE,  28 ->  14\n",
    "            [6, 112, 3, 1, 5, 0.25],  # MBConv6_5x5, SE,  14 ->  14\n",
    "            [6, 192, 4, 2, 5, 0.25],  # MBConv6_5x5, SE,  14 ->   7\n",
    "            [6, 320, 1, 1, 3, 0.25],  # MBConv6_3x3, SE,   7 ->   7\n",
    "        ]\n",
    "        \n",
    "        # Stem\n",
    "        out_channels = _make_divisible(32 * width_coeff, 8)\n",
    "        self.stem_conv = nn.Conv2d(3, out_channels, 3, stride=2, padding=1, bias=False)\n",
    "        self.stem_bn = nn.BatchNorm2d(out_channels)\n",
    "        \n",
    "        # Building inverted residual blocks\n",
    "        self.blocks = nn.ModuleList([])\n",
    "        in_channels = out_channels\n",
    "        \n",
    "        total_blocks = sum([max(1, int(math.ceil(num_repeat * depth_coeff))) for _, _, num_repeat, _, _, _ in settings])\n",
    "        block_idx = 0\n",
    "        \n",
    "        for expand_ratio, output_filter, num_repeat, stride, kernel_size, se_ratio in settings:\n",
    "            output_filter = _make_divisible(output_filter * width_coeff, 8)\n",
    "            num_repeat = max(1, int(math.ceil(num_repeat * depth_coeff)))\n",
    "            \n",
    "            for i in range(num_repeat):\n",
    "                drop_rate = drop_connect_rate * block_idx / total_blocks\n",
    "                \n",
    "                self.blocks.append(MBConvBlock(\n",
    "                    in_channels if i == 0 else output_filter,\n",
    "                    output_filter,\n",
    "                    kernel_size,\n",
    "                    stride if i == 0 else 1,\n",
    "                    expand_ratio,\n",
    "                    se_ratio,\n",
    "                    drop_rate\n",
    "                ))\n",
    "                \n",
    "                block_idx += 1\n",
    "            in_channels = output_filter\n",
    "        \n",
    "        # Head\n",
    "        self.head_conv = nn.Conv2d(in_channels, _make_divisible(1280 * width_coeff, 8), 1, bias=False)\n",
    "        self.head_bn = nn.BatchNorm2d(_make_divisible(1280 * width_coeff, 8))\n",
    "        self.avgpool = nn.AdaptiveAvgPool2d((1, 1))\n",
    "        self.dropout = nn.Dropout(dropout_rate)\n",
    "        self.classifier = nn.Linear(_make_divisible(1280 * width_coeff, 8), num_classes)\n",
    "        \n",
    "        # Initialize weights\n",
    "        self._initialize_weights()\n",
    "    \n",
    "    def _initialize_weights(self):\n",
    "        \"\"\"Initialize weights using appropriate methods\"\"\"\n",
    "        for m in self.modules():\n",
    "            if isinstance(m, nn.Conv2d):\n",
    "                nn.init.kaiming_normal_(m.weight, mode='fan_out', nonlinearity='relu')\n",
    "                if m.bias is not None:\n",
    "                    nn.init.zeros_(m.bias)\n",
    "            elif isinstance(m, nn.BatchNorm2d):\n",
    "                nn.init.ones_(m.weight)\n",
    "                nn.init.zeros_(m.bias)\n",
    "            elif isinstance(m, nn.Linear):\n",
    "                nn.init.normal_(m.weight, 0, 0.01)\n",
    "                nn.init.zeros_(m.bias)\n",
    "    \n",
    "    def forward(self, x):\n",
    "        # Stem\n",
    "        x = Swish()(self.stem_bn(self.stem_conv(x)))\n",
    "        \n",
    "        # Blocks\n",
    "        for block in self.blocks:\n",
    "            x = block(x)\n",
    "        \n",
    "        # Head\n",
    "        x = Swish()(self.head_bn(self.head_conv(x)))\n",
    "        x = self.avgpool(x)\n",
    "        x = torch.flatten(x, 1)\n",
    "        x = self.dropout(x)\n",
    "        x = self.classifier(x)\n",
    "        \n",
    "        return x"
   ]
  },
  {
   "cell_type": "code",
   "execution_count": 8,
   "id": "bd73b2ca",
   "metadata": {
    "execution": {
     "iopub.execute_input": "2025-09-07T04:58:59.841403Z",
     "iopub.status.busy": "2025-09-07T04:58:59.841204Z",
     "iopub.status.idle": "2025-09-07T04:59:01.452077Z",
     "shell.execute_reply": "2025-09-07T04:59:01.451408Z"
    },
    "papermill": {
     "duration": 1.616211,
     "end_time": "2025-09-07T04:59:01.454524",
     "exception": false,
     "start_time": "2025-09-07T04:58:59.838313",
     "status": "completed"
    },
    "tags": []
   },
   "outputs": [
    {
     "name": "stdout",
     "output_type": "stream",
     "text": [
      "EfficientNetB0 Model Summary:\n",
      "----------------------------------------------------------------\n",
      "        Layer (type)               Output Shape         Param #\n",
      "================================================================\n",
      "            Conv2d-1         [-1, 32, 112, 112]             864\n",
      "       BatchNorm2d-2         [-1, 32, 112, 112]              64\n",
      "            Conv2d-3         [-1, 32, 112, 112]             288\n",
      "       BatchNorm2d-4         [-1, 32, 112, 112]              64\n",
      " AdaptiveAvgPool2d-5             [-1, 32, 1, 1]               0\n",
      "            Conv2d-6              [-1, 8, 1, 1]             264\n",
      "             Swish-7              [-1, 8, 1, 1]               0\n",
      "            Conv2d-8             [-1, 32, 1, 1]             288\n",
      "           Sigmoid-9             [-1, 32, 1, 1]               0\n",
      "SqueezeExcitation-10         [-1, 32, 112, 112]               0\n",
      "           Conv2d-11         [-1, 16, 112, 112]             512\n",
      "      BatchNorm2d-12         [-1, 16, 112, 112]              32\n",
      "      MBConvBlock-13         [-1, 16, 112, 112]               0\n",
      "           Conv2d-14         [-1, 96, 112, 112]           1,536\n",
      "      BatchNorm2d-15         [-1, 96, 112, 112]             192\n",
      "           Conv2d-16           [-1, 96, 56, 56]             864\n",
      "      BatchNorm2d-17           [-1, 96, 56, 56]             192\n",
      "AdaptiveAvgPool2d-18             [-1, 96, 1, 1]               0\n",
      "           Conv2d-19              [-1, 4, 1, 1]             388\n",
      "            Swish-20              [-1, 4, 1, 1]               0\n",
      "           Conv2d-21             [-1, 96, 1, 1]             480\n",
      "          Sigmoid-22             [-1, 96, 1, 1]               0\n",
      "SqueezeExcitation-23           [-1, 96, 56, 56]               0\n",
      "           Conv2d-24           [-1, 24, 56, 56]           2,304\n",
      "      BatchNorm2d-25           [-1, 24, 56, 56]              48\n",
      "      MBConvBlock-26           [-1, 24, 56, 56]               0\n",
      "           Conv2d-27          [-1, 144, 56, 56]           3,456\n",
      "      BatchNorm2d-28          [-1, 144, 56, 56]             288\n",
      "           Conv2d-29          [-1, 144, 56, 56]           1,296\n",
      "      BatchNorm2d-30          [-1, 144, 56, 56]             288\n",
      "AdaptiveAvgPool2d-31            [-1, 144, 1, 1]               0\n",
      "           Conv2d-32              [-1, 6, 1, 1]             870\n",
      "            Swish-33              [-1, 6, 1, 1]               0\n",
      "           Conv2d-34            [-1, 144, 1, 1]           1,008\n",
      "          Sigmoid-35            [-1, 144, 1, 1]               0\n",
      "SqueezeExcitation-36          [-1, 144, 56, 56]               0\n",
      "           Conv2d-37           [-1, 24, 56, 56]           3,456\n",
      "      BatchNorm2d-38           [-1, 24, 56, 56]              48\n",
      "  StochasticDepth-39           [-1, 24, 56, 56]               0\n",
      "      MBConvBlock-40           [-1, 24, 56, 56]               0\n",
      "           Conv2d-41          [-1, 144, 56, 56]           3,456\n",
      "      BatchNorm2d-42          [-1, 144, 56, 56]             288\n",
      "           Conv2d-43          [-1, 144, 28, 28]           3,600\n",
      "      BatchNorm2d-44          [-1, 144, 28, 28]             288\n",
      "AdaptiveAvgPool2d-45            [-1, 144, 1, 1]               0\n",
      "           Conv2d-46              [-1, 6, 1, 1]             870\n",
      "            Swish-47              [-1, 6, 1, 1]               0\n",
      "           Conv2d-48            [-1, 144, 1, 1]           1,008\n",
      "          Sigmoid-49            [-1, 144, 1, 1]               0\n",
      "SqueezeExcitation-50          [-1, 144, 28, 28]               0\n",
      "           Conv2d-51           [-1, 40, 28, 28]           5,760\n",
      "      BatchNorm2d-52           [-1, 40, 28, 28]              80\n",
      "      MBConvBlock-53           [-1, 40, 28, 28]               0\n",
      "           Conv2d-54          [-1, 240, 28, 28]           9,600\n",
      "      BatchNorm2d-55          [-1, 240, 28, 28]             480\n",
      "           Conv2d-56          [-1, 240, 28, 28]           6,000\n",
      "      BatchNorm2d-57          [-1, 240, 28, 28]             480\n",
      "AdaptiveAvgPool2d-58            [-1, 240, 1, 1]               0\n",
      "           Conv2d-59             [-1, 10, 1, 1]           2,410\n",
      "            Swish-60             [-1, 10, 1, 1]               0\n",
      "           Conv2d-61            [-1, 240, 1, 1]           2,640\n",
      "          Sigmoid-62            [-1, 240, 1, 1]               0\n",
      "SqueezeExcitation-63          [-1, 240, 28, 28]               0\n",
      "           Conv2d-64           [-1, 40, 28, 28]           9,600\n",
      "      BatchNorm2d-65           [-1, 40, 28, 28]              80\n",
      "  StochasticDepth-66           [-1, 40, 28, 28]               0\n",
      "      MBConvBlock-67           [-1, 40, 28, 28]               0\n",
      "           Conv2d-68          [-1, 240, 28, 28]           9,600\n",
      "      BatchNorm2d-69          [-1, 240, 28, 28]             480\n",
      "           Conv2d-70          [-1, 240, 14, 14]           2,160\n",
      "      BatchNorm2d-71          [-1, 240, 14, 14]             480\n",
      "AdaptiveAvgPool2d-72            [-1, 240, 1, 1]               0\n",
      "           Conv2d-73             [-1, 10, 1, 1]           2,410\n",
      "            Swish-74             [-1, 10, 1, 1]               0\n",
      "           Conv2d-75            [-1, 240, 1, 1]           2,640\n",
      "          Sigmoid-76            [-1, 240, 1, 1]               0\n",
      "SqueezeExcitation-77          [-1, 240, 14, 14]               0\n",
      "           Conv2d-78           [-1, 80, 14, 14]          19,200\n",
      "      BatchNorm2d-79           [-1, 80, 14, 14]             160\n",
      "      MBConvBlock-80           [-1, 80, 14, 14]               0\n",
      "           Conv2d-81          [-1, 480, 14, 14]          38,400\n",
      "      BatchNorm2d-82          [-1, 480, 14, 14]             960\n",
      "           Conv2d-83          [-1, 480, 14, 14]           4,320\n",
      "      BatchNorm2d-84          [-1, 480, 14, 14]             960\n",
      "AdaptiveAvgPool2d-85            [-1, 480, 1, 1]               0\n",
      "           Conv2d-86             [-1, 20, 1, 1]           9,620\n",
      "            Swish-87             [-1, 20, 1, 1]               0\n",
      "           Conv2d-88            [-1, 480, 1, 1]          10,080\n",
      "          Sigmoid-89            [-1, 480, 1, 1]               0\n",
      "SqueezeExcitation-90          [-1, 480, 14, 14]               0\n",
      "           Conv2d-91           [-1, 80, 14, 14]          38,400\n",
      "      BatchNorm2d-92           [-1, 80, 14, 14]             160\n",
      "  StochasticDepth-93           [-1, 80, 14, 14]               0\n",
      "      MBConvBlock-94           [-1, 80, 14, 14]               0\n",
      "           Conv2d-95          [-1, 480, 14, 14]          38,400\n",
      "      BatchNorm2d-96          [-1, 480, 14, 14]             960\n",
      "           Conv2d-97          [-1, 480, 14, 14]           4,320\n",
      "      BatchNorm2d-98          [-1, 480, 14, 14]             960\n",
      "AdaptiveAvgPool2d-99            [-1, 480, 1, 1]               0\n",
      "          Conv2d-100             [-1, 20, 1, 1]           9,620\n",
      "           Swish-101             [-1, 20, 1, 1]               0\n",
      "          Conv2d-102            [-1, 480, 1, 1]          10,080\n",
      "         Sigmoid-103            [-1, 480, 1, 1]               0\n",
      "SqueezeExcitation-104          [-1, 480, 14, 14]               0\n",
      "          Conv2d-105           [-1, 80, 14, 14]          38,400\n",
      "     BatchNorm2d-106           [-1, 80, 14, 14]             160\n",
      " StochasticDepth-107           [-1, 80, 14, 14]               0\n",
      "     MBConvBlock-108           [-1, 80, 14, 14]               0\n",
      "          Conv2d-109          [-1, 480, 14, 14]          38,400\n",
      "     BatchNorm2d-110          [-1, 480, 14, 14]             960\n",
      "          Conv2d-111          [-1, 480, 14, 14]          12,000\n",
      "     BatchNorm2d-112          [-1, 480, 14, 14]             960\n",
      "AdaptiveAvgPool2d-113            [-1, 480, 1, 1]               0\n",
      "          Conv2d-114             [-1, 20, 1, 1]           9,620\n",
      "           Swish-115             [-1, 20, 1, 1]               0\n",
      "          Conv2d-116            [-1, 480, 1, 1]          10,080\n",
      "         Sigmoid-117            [-1, 480, 1, 1]               0\n",
      "SqueezeExcitation-118          [-1, 480, 14, 14]               0\n",
      "          Conv2d-119          [-1, 112, 14, 14]          53,760\n",
      "     BatchNorm2d-120          [-1, 112, 14, 14]             224\n",
      "     MBConvBlock-121          [-1, 112, 14, 14]               0\n",
      "          Conv2d-122          [-1, 672, 14, 14]          75,264\n",
      "     BatchNorm2d-123          [-1, 672, 14, 14]           1,344\n",
      "          Conv2d-124          [-1, 672, 14, 14]          16,800\n",
      "     BatchNorm2d-125          [-1, 672, 14, 14]           1,344\n",
      "AdaptiveAvgPool2d-126            [-1, 672, 1, 1]               0\n",
      "          Conv2d-127             [-1, 28, 1, 1]          18,844\n",
      "           Swish-128             [-1, 28, 1, 1]               0\n",
      "          Conv2d-129            [-1, 672, 1, 1]          19,488\n",
      "         Sigmoid-130            [-1, 672, 1, 1]               0\n",
      "SqueezeExcitation-131          [-1, 672, 14, 14]               0\n",
      "          Conv2d-132          [-1, 112, 14, 14]          75,264\n",
      "     BatchNorm2d-133          [-1, 112, 14, 14]             224\n",
      " StochasticDepth-134          [-1, 112, 14, 14]               0\n",
      "     MBConvBlock-135          [-1, 112, 14, 14]               0\n",
      "          Conv2d-136          [-1, 672, 14, 14]          75,264\n",
      "     BatchNorm2d-137          [-1, 672, 14, 14]           1,344\n",
      "          Conv2d-138          [-1, 672, 14, 14]          16,800\n",
      "     BatchNorm2d-139          [-1, 672, 14, 14]           1,344\n",
      "AdaptiveAvgPool2d-140            [-1, 672, 1, 1]               0\n",
      "          Conv2d-141             [-1, 28, 1, 1]          18,844\n",
      "           Swish-142             [-1, 28, 1, 1]               0\n",
      "          Conv2d-143            [-1, 672, 1, 1]          19,488\n",
      "         Sigmoid-144            [-1, 672, 1, 1]               0\n",
      "SqueezeExcitation-145          [-1, 672, 14, 14]               0\n",
      "          Conv2d-146          [-1, 112, 14, 14]          75,264\n",
      "     BatchNorm2d-147          [-1, 112, 14, 14]             224\n",
      " StochasticDepth-148          [-1, 112, 14, 14]               0\n",
      "     MBConvBlock-149          [-1, 112, 14, 14]               0\n",
      "          Conv2d-150          [-1, 672, 14, 14]          75,264\n",
      "     BatchNorm2d-151          [-1, 672, 14, 14]           1,344\n",
      "          Conv2d-152            [-1, 672, 7, 7]          16,800\n",
      "     BatchNorm2d-153            [-1, 672, 7, 7]           1,344\n",
      "AdaptiveAvgPool2d-154            [-1, 672, 1, 1]               0\n",
      "          Conv2d-155             [-1, 28, 1, 1]          18,844\n",
      "           Swish-156             [-1, 28, 1, 1]               0\n",
      "          Conv2d-157            [-1, 672, 1, 1]          19,488\n",
      "         Sigmoid-158            [-1, 672, 1, 1]               0\n",
      "SqueezeExcitation-159            [-1, 672, 7, 7]               0\n",
      "          Conv2d-160            [-1, 192, 7, 7]         129,024\n",
      "     BatchNorm2d-161            [-1, 192, 7, 7]             384\n",
      "     MBConvBlock-162            [-1, 192, 7, 7]               0\n",
      "          Conv2d-163           [-1, 1152, 7, 7]         221,184\n",
      "     BatchNorm2d-164           [-1, 1152, 7, 7]           2,304\n",
      "          Conv2d-165           [-1, 1152, 7, 7]          28,800\n",
      "     BatchNorm2d-166           [-1, 1152, 7, 7]           2,304\n",
      "AdaptiveAvgPool2d-167           [-1, 1152, 1, 1]               0\n",
      "          Conv2d-168             [-1, 48, 1, 1]          55,344\n",
      "           Swish-169             [-1, 48, 1, 1]               0\n",
      "          Conv2d-170           [-1, 1152, 1, 1]          56,448\n",
      "         Sigmoid-171           [-1, 1152, 1, 1]               0\n",
      "SqueezeExcitation-172           [-1, 1152, 7, 7]               0\n",
      "          Conv2d-173            [-1, 192, 7, 7]         221,184\n",
      "     BatchNorm2d-174            [-1, 192, 7, 7]             384\n",
      " StochasticDepth-175            [-1, 192, 7, 7]               0\n",
      "     MBConvBlock-176            [-1, 192, 7, 7]               0\n",
      "          Conv2d-177           [-1, 1152, 7, 7]         221,184\n",
      "     BatchNorm2d-178           [-1, 1152, 7, 7]           2,304\n",
      "          Conv2d-179           [-1, 1152, 7, 7]          28,800\n",
      "     BatchNorm2d-180           [-1, 1152, 7, 7]           2,304\n",
      "AdaptiveAvgPool2d-181           [-1, 1152, 1, 1]               0\n",
      "          Conv2d-182             [-1, 48, 1, 1]          55,344\n",
      "           Swish-183             [-1, 48, 1, 1]               0\n",
      "          Conv2d-184           [-1, 1152, 1, 1]          56,448\n",
      "         Sigmoid-185           [-1, 1152, 1, 1]               0\n",
      "SqueezeExcitation-186           [-1, 1152, 7, 7]               0\n",
      "          Conv2d-187            [-1, 192, 7, 7]         221,184\n",
      "     BatchNorm2d-188            [-1, 192, 7, 7]             384\n",
      " StochasticDepth-189            [-1, 192, 7, 7]               0\n",
      "     MBConvBlock-190            [-1, 192, 7, 7]               0\n",
      "          Conv2d-191           [-1, 1152, 7, 7]         221,184\n",
      "     BatchNorm2d-192           [-1, 1152, 7, 7]           2,304\n",
      "          Conv2d-193           [-1, 1152, 7, 7]          28,800\n",
      "     BatchNorm2d-194           [-1, 1152, 7, 7]           2,304\n",
      "AdaptiveAvgPool2d-195           [-1, 1152, 1, 1]               0\n",
      "          Conv2d-196             [-1, 48, 1, 1]          55,344\n",
      "           Swish-197             [-1, 48, 1, 1]               0\n",
      "          Conv2d-198           [-1, 1152, 1, 1]          56,448\n",
      "         Sigmoid-199           [-1, 1152, 1, 1]               0\n",
      "SqueezeExcitation-200           [-1, 1152, 7, 7]               0\n",
      "          Conv2d-201            [-1, 192, 7, 7]         221,184\n",
      "     BatchNorm2d-202            [-1, 192, 7, 7]             384\n",
      " StochasticDepth-203            [-1, 192, 7, 7]               0\n",
      "     MBConvBlock-204            [-1, 192, 7, 7]               0\n",
      "          Conv2d-205           [-1, 1152, 7, 7]         221,184\n",
      "     BatchNorm2d-206           [-1, 1152, 7, 7]           2,304\n",
      "          Conv2d-207           [-1, 1152, 7, 7]          10,368\n",
      "     BatchNorm2d-208           [-1, 1152, 7, 7]           2,304\n",
      "AdaptiveAvgPool2d-209           [-1, 1152, 1, 1]               0\n",
      "          Conv2d-210             [-1, 48, 1, 1]          55,344\n",
      "           Swish-211             [-1, 48, 1, 1]               0\n",
      "          Conv2d-212           [-1, 1152, 1, 1]          56,448\n",
      "         Sigmoid-213           [-1, 1152, 1, 1]               0\n",
      "SqueezeExcitation-214           [-1, 1152, 7, 7]               0\n",
      "          Conv2d-215            [-1, 320, 7, 7]         368,640\n",
      "     BatchNorm2d-216            [-1, 320, 7, 7]             640\n",
      "     MBConvBlock-217            [-1, 320, 7, 7]               0\n",
      "          Conv2d-218           [-1, 1280, 7, 7]         409,600\n",
      "     BatchNorm2d-219           [-1, 1280, 7, 7]           2,560\n",
      "AdaptiveAvgPool2d-220           [-1, 1280, 1, 1]               0\n",
      "         Dropout-221                 [-1, 1280]               0\n",
      "          Linear-222                    [-1, 4]           5,124\n",
      "================================================================\n",
      "Total params: 4,012,672\n",
      "Trainable params: 4,012,672\n",
      "Non-trainable params: 0\n",
      "----------------------------------------------------------------\n",
      "Input size (MB): 0.57\n",
      "Forward/backward pass size (MB): 126.67\n",
      "Params size (MB): 15.31\n",
      "Estimated Total Size (MB): 142.55\n",
      "----------------------------------------------------------------\n"
     ]
    }
   ],
   "source": [
    "import math\n",
    "# -----------------------------\n",
    "# 3. Training Setup\n",
    "# -----------------------------\n",
    "device = torch.device(\"cuda\" if torch.cuda.is_available() else \"cpu\")\n",
    "model = MyEfficientNetB0(num_classes=len(classes)).to(device)\n",
    "criterion = nn.CrossEntropyLoss()\n",
    "optimizer = torch.optim.Adam(model.parameters(), lr=0.001)\n",
    "\n",
    "print(\"EfficientNetB0 Model Summary:\")\n",
    "try:\n",
    "    summary(model, (3, 224, 224))\n",
    "except:\n",
    "    print(\"Model summary generation failed - this is normal for complex architectures\")\n",
    "    print(f\"Model created successfully with {sum(p.numel() for p in model.parameters()):,} parameters\")"
   ]
  },
  {
   "cell_type": "code",
   "execution_count": 9,
   "id": "534540e6",
   "metadata": {
    "execution": {
     "iopub.execute_input": "2025-09-07T04:59:01.462267Z",
     "iopub.status.busy": "2025-09-07T04:59:01.461976Z",
     "iopub.status.idle": "2025-09-07T06:52:56.633906Z",
     "shell.execute_reply": "2025-09-07T06:52:56.633219Z"
    },
    "papermill": {
     "duration": 6836.950619,
     "end_time": "2025-09-07T06:52:58.408496",
     "exception": false,
     "start_time": "2025-09-07T04:59:01.457877",
     "status": "completed"
    },
    "tags": []
   },
   "outputs": [
    {
     "name": "stdout",
     "output_type": "stream",
     "text": [
      "\n",
      "🚀 Starting EfficientNetB0 Training for 50 epochs...\n",
      "================================================================================\n",
      "\n",
      "📈 Epoch 1/50\n",
      "--------------------------------------------------\n",
      "🔄 Training Phase...\n"
     ]
    },
    {
     "name": "stderr",
     "output_type": "stream",
     "text": [
      "Training: 100%|██████████████████████████████| 311/311 [02:26<00:00,  2.12it/s, Loss=1.0872, Acc=0.5588, GPU=0.1GB]\n"
     ]
    },
    {
     "name": "stdout",
     "output_type": "stream",
     "text": [
      "✅ Training completed in 146.71s\n",
      "🔍 Validation Phase...\n"
     ]
    },
    {
     "name": "stderr",
     "output_type": "stream",
     "text": [
      "Validation: 100%|██████████████████████████████| 81/81 [00:29<00:00,  2.72it/s, Loss=1.1415, Acc=0.5361]\n"
     ]
    },
    {
     "name": "stdout",
     "output_type": "stream",
     "text": [
      "✅ Validation completed in 29.79s\n",
      "🌟 New best EfficientNetB0 model found! Validation Accuracy: 0.5361\n",
      "\n",
      "📊 Epoch 1 Summary:\n",
      "│ Train Loss: 1.0872 | Train Acc: 0.5588\n",
      "│ Val Loss:   1.1415 | Val Acc:   0.5361\n",
      "│ Train Time: 146.71s | Val Time: 29.79s\n",
      "│ Total Epoch Time: 176.50s\n",
      "│ Best Val Acc: 0.5361 (Epoch 1)\n",
      "│ GPU Memory: 0.1GB / 4.1GB\n",
      "================================================================================\n",
      "\n",
      "📈 Epoch 2/50\n",
      "--------------------------------------------------\n",
      "🔄 Training Phase...\n"
     ]
    },
    {
     "name": "stderr",
     "output_type": "stream",
     "text": [
      "Training: 100%|██████████████████████████████| 311/311 [01:53<00:00,  2.74it/s, Loss=0.8531, Acc=0.6558, GPU=0.1GB]\n"
     ]
    },
    {
     "name": "stdout",
     "output_type": "stream",
     "text": [
      "✅ Training completed in 113.33s\n",
      "🔍 Validation Phase...\n"
     ]
    },
    {
     "name": "stderr",
     "output_type": "stream",
     "text": [
      "Validation: 100%|██████████████████████████████| 81/81 [00:20<00:00,  3.99it/s, Loss=0.8449, Acc=0.6661]\n"
     ]
    },
    {
     "name": "stdout",
     "output_type": "stream",
     "text": [
      "✅ Validation completed in 20.30s\n",
      "🌟 New best EfficientNetB0 model found! Validation Accuracy: 0.6661\n",
      "\n",
      "📊 Epoch 2 Summary:\n",
      "│ Train Loss: 0.8531 | Train Acc: 0.6558\n",
      "│ Val Loss:   0.8449 | Val Acc:   0.6661\n",
      "│ Train Time: 113.33s | Val Time: 20.30s\n",
      "│ Total Epoch Time: 133.63s\n",
      "│ Best Val Acc: 0.6661 (Epoch 2)\n",
      "│ GPU Memory: 0.1GB / 4.1GB\n",
      "================================================================================\n",
      "\n",
      "📈 Epoch 3/50\n",
      "--------------------------------------------------\n",
      "🔄 Training Phase...\n"
     ]
    },
    {
     "name": "stderr",
     "output_type": "stream",
     "text": [
      "Training: 100%|██████████████████████████████| 311/311 [01:53<00:00,  2.74it/s, Loss=0.6998, Acc=0.7261, GPU=0.1GB]\n"
     ]
    },
    {
     "name": "stdout",
     "output_type": "stream",
     "text": [
      "✅ Training completed in 113.56s\n",
      "🔍 Validation Phase...\n"
     ]
    },
    {
     "name": "stderr",
     "output_type": "stream",
     "text": [
      "Validation: 100%|██████████████████████████████| 81/81 [00:20<00:00,  3.98it/s, Loss=0.8823, Acc=0.6611]\n"
     ]
    },
    {
     "name": "stdout",
     "output_type": "stream",
     "text": [
      "✅ Validation completed in 20.36s\n",
      "\n",
      "📊 Epoch 3 Summary:\n",
      "│ Train Loss: 0.6998 | Train Acc: 0.7261\n",
      "│ Val Loss:   0.8823 | Val Acc:   0.6611\n",
      "│ Train Time: 113.56s | Val Time: 20.36s\n",
      "│ Total Epoch Time: 133.93s\n",
      "│ Best Val Acc: 0.6661 (Epoch 2)\n",
      "│ GPU Memory: 0.1GB / 4.1GB\n",
      "================================================================================\n",
      "\n",
      "📈 Epoch 4/50\n",
      "--------------------------------------------------\n",
      "🔄 Training Phase...\n"
     ]
    },
    {
     "name": "stderr",
     "output_type": "stream",
     "text": [
      "Training: 100%|██████████████████████████████| 311/311 [01:54<00:00,  2.71it/s, Loss=0.5287, Acc=0.8009, GPU=0.1GB]\n"
     ]
    },
    {
     "name": "stdout",
     "output_type": "stream",
     "text": [
      "✅ Training completed in 114.63s\n",
      "🔍 Validation Phase...\n"
     ]
    },
    {
     "name": "stderr",
     "output_type": "stream",
     "text": [
      "Validation: 100%|██████████████████████████████| 81/81 [00:20<00:00,  4.02it/s, Loss=0.7664, Acc=0.6988]\n"
     ]
    },
    {
     "name": "stdout",
     "output_type": "stream",
     "text": [
      "✅ Validation completed in 20.16s\n",
      "🌟 New best EfficientNetB0 model found! Validation Accuracy: 0.6988\n",
      "\n",
      "📊 Epoch 4 Summary:\n",
      "│ Train Loss: 0.5287 | Train Acc: 0.8009\n",
      "│ Val Loss:   0.7664 | Val Acc:   0.6988\n",
      "│ Train Time: 114.63s | Val Time: 20.16s\n",
      "│ Total Epoch Time: 134.79s\n",
      "│ Best Val Acc: 0.6988 (Epoch 4)\n",
      "│ GPU Memory: 0.1GB / 4.1GB\n",
      "================================================================================\n",
      "\n",
      "📈 Epoch 5/50\n",
      "--------------------------------------------------\n",
      "🔄 Training Phase...\n"
     ]
    },
    {
     "name": "stderr",
     "output_type": "stream",
     "text": [
      "Training: 100%|██████████████████████████████| 311/311 [01:54<00:00,  2.72it/s, Loss=0.3647, Acc=0.8676, GPU=0.1GB]\n"
     ]
    },
    {
     "name": "stdout",
     "output_type": "stream",
     "text": [
      "✅ Training completed in 114.38s\n",
      "🔍 Validation Phase...\n"
     ]
    },
    {
     "name": "stderr",
     "output_type": "stream",
     "text": [
      "Validation: 100%|██████████████████████████████| 81/81 [00:20<00:00,  4.05it/s, Loss=0.8238, Acc=0.7306]\n"
     ]
    },
    {
     "name": "stdout",
     "output_type": "stream",
     "text": [
      "✅ Validation completed in 20.02s\n",
      "🌟 New best EfficientNetB0 model found! Validation Accuracy: 0.7306\n",
      "\n",
      "📊 Epoch 5 Summary:\n",
      "│ Train Loss: 0.3647 | Train Acc: 0.8676\n",
      "│ Val Loss:   0.8238 | Val Acc:   0.7306\n",
      "│ Train Time: 114.38s | Val Time: 20.02s\n",
      "│ Total Epoch Time: 134.40s\n",
      "│ Best Val Acc: 0.7306 (Epoch 5)\n",
      "│ GPU Memory: 0.1GB / 4.1GB\n",
      "================================================================================\n",
      "\n",
      "📈 Epoch 6/50\n",
      "--------------------------------------------------\n",
      "🔄 Training Phase...\n"
     ]
    },
    {
     "name": "stderr",
     "output_type": "stream",
     "text": [
      "Training: 100%|██████████████████████████████| 311/311 [01:55<00:00,  2.70it/s, Loss=0.2414, Acc=0.9111, GPU=0.1GB]\n"
     ]
    },
    {
     "name": "stdout",
     "output_type": "stream",
     "text": [
      "✅ Training completed in 115.17s\n",
      "🔍 Validation Phase...\n"
     ]
    },
    {
     "name": "stderr",
     "output_type": "stream",
     "text": [
      "Validation: 100%|██████████████████████████████| 81/81 [00:20<00:00,  4.04it/s, Loss=0.9919, Acc=0.7259]\n"
     ]
    },
    {
     "name": "stdout",
     "output_type": "stream",
     "text": [
      "✅ Validation completed in 20.05s\n",
      "\n",
      "📊 Epoch 6 Summary:\n",
      "│ Train Loss: 0.2414 | Train Acc: 0.9111\n",
      "│ Val Loss:   0.9919 | Val Acc:   0.7259\n",
      "│ Train Time: 115.17s | Val Time: 20.05s\n",
      "│ Total Epoch Time: 135.22s\n",
      "│ Best Val Acc: 0.7306 (Epoch 5)\n",
      "│ GPU Memory: 0.1GB / 4.1GB\n",
      "================================================================================\n",
      "\n",
      "📈 Epoch 7/50\n",
      "--------------------------------------------------\n",
      "🔄 Training Phase...\n"
     ]
    },
    {
     "name": "stderr",
     "output_type": "stream",
     "text": [
      "Training: 100%|██████████████████████████████| 311/311 [01:55<00:00,  2.70it/s, Loss=0.1702, Acc=0.9413, GPU=0.1GB]\n"
     ]
    },
    {
     "name": "stdout",
     "output_type": "stream",
     "text": [
      "✅ Training completed in 115.19s\n",
      "🔍 Validation Phase...\n"
     ]
    },
    {
     "name": "stderr",
     "output_type": "stream",
     "text": [
      "Validation: 100%|██████████████████████████████| 81/81 [00:19<00:00,  4.05it/s, Loss=0.9432, Acc=0.7283]\n"
     ]
    },
    {
     "name": "stdout",
     "output_type": "stream",
     "text": [
      "✅ Validation completed in 19.98s\n",
      "\n",
      "📊 Epoch 7 Summary:\n",
      "│ Train Loss: 0.1702 | Train Acc: 0.9413\n",
      "│ Val Loss:   0.9432 | Val Acc:   0.7283\n",
      "│ Train Time: 115.19s | Val Time: 19.98s\n",
      "│ Total Epoch Time: 135.18s\n",
      "│ Best Val Acc: 0.7306 (Epoch 5)\n",
      "│ GPU Memory: 0.1GB / 4.1GB\n",
      "================================================================================\n",
      "\n",
      "📈 Epoch 8/50\n",
      "--------------------------------------------------\n",
      "🔄 Training Phase...\n"
     ]
    },
    {
     "name": "stderr",
     "output_type": "stream",
     "text": [
      "Training: 100%|██████████████████████████████| 311/311 [01:54<00:00,  2.71it/s, Loss=0.1263, Acc=0.9548, GPU=0.1GB]\n"
     ]
    },
    {
     "name": "stdout",
     "output_type": "stream",
     "text": [
      "✅ Training completed in 114.59s\n",
      "🔍 Validation Phase...\n"
     ]
    },
    {
     "name": "stderr",
     "output_type": "stream",
     "text": [
      "Validation: 100%|██████████████████████████████| 81/81 [00:19<00:00,  4.06it/s, Loss=1.0810, Acc=0.7543]\n"
     ]
    },
    {
     "name": "stdout",
     "output_type": "stream",
     "text": [
      "✅ Validation completed in 19.96s\n",
      "🌟 New best EfficientNetB0 model found! Validation Accuracy: 0.7543\n",
      "\n",
      "📊 Epoch 8 Summary:\n",
      "│ Train Loss: 0.1263 | Train Acc: 0.9548\n",
      "│ Val Loss:   1.0810 | Val Acc:   0.7543\n",
      "│ Train Time: 114.59s | Val Time: 19.96s\n",
      "│ Total Epoch Time: 134.55s\n",
      "│ Best Val Acc: 0.7543 (Epoch 8)\n",
      "│ GPU Memory: 0.1GB / 4.1GB\n",
      "================================================================================\n",
      "\n",
      "📈 Epoch 9/50\n",
      "--------------------------------------------------\n",
      "🔄 Training Phase...\n"
     ]
    },
    {
     "name": "stderr",
     "output_type": "stream",
     "text": [
      "Training: 100%|██████████████████████████████| 311/311 [01:54<00:00,  2.71it/s, Loss=0.0894, Acc=0.9700, GPU=0.1GB]\n"
     ]
    },
    {
     "name": "stdout",
     "output_type": "stream",
     "text": [
      "✅ Training completed in 114.77s\n",
      "🔍 Validation Phase...\n"
     ]
    },
    {
     "name": "stderr",
     "output_type": "stream",
     "text": [
      "Validation: 100%|██████████████████████████████| 81/81 [00:19<00:00,  4.06it/s, Loss=1.2053, Acc=0.7484]\n"
     ]
    },
    {
     "name": "stdout",
     "output_type": "stream",
     "text": [
      "✅ Validation completed in 19.95s\n",
      "\n",
      "📊 Epoch 9 Summary:\n",
      "│ Train Loss: 0.0894 | Train Acc: 0.9700\n",
      "│ Val Loss:   1.2053 | Val Acc:   0.7484\n",
      "│ Train Time: 114.77s | Val Time: 19.95s\n",
      "│ Total Epoch Time: 134.73s\n",
      "│ Best Val Acc: 0.7543 (Epoch 8)\n",
      "│ GPU Memory: 0.1GB / 4.1GB\n",
      "================================================================================\n",
      "\n",
      "📈 Epoch 10/50\n",
      "--------------------------------------------------\n",
      "🔄 Training Phase...\n"
     ]
    },
    {
     "name": "stderr",
     "output_type": "stream",
     "text": [
      "Training: 100%|██████████████████████████████| 311/311 [01:54<00:00,  2.72it/s, Loss=0.0843, Acc=0.9732, GPU=0.1GB]\n"
     ]
    },
    {
     "name": "stdout",
     "output_type": "stream",
     "text": [
      "✅ Training completed in 114.38s\n",
      "🔍 Validation Phase...\n"
     ]
    },
    {
     "name": "stderr",
     "output_type": "stream",
     "text": [
      "Validation: 100%|██████████████████████████████| 81/81 [00:20<00:00,  3.99it/s, Loss=1.1345, Acc=0.7527]\n"
     ]
    },
    {
     "name": "stdout",
     "output_type": "stream",
     "text": [
      "✅ Validation completed in 20.31s\n",
      "\n",
      "📊 Epoch 10 Summary:\n",
      "│ Train Loss: 0.0843 | Train Acc: 0.9732\n",
      "│ Val Loss:   1.1345 | Val Acc:   0.7527\n",
      "│ Train Time: 114.38s | Val Time: 20.31s\n",
      "│ Total Epoch Time: 134.70s\n",
      "│ Best Val Acc: 0.7543 (Epoch 8)\n",
      "│ GPU Memory: 0.1GB / 4.1GB\n",
      "================================================================================\n",
      "\n",
      "📈 Epoch 11/50\n",
      "--------------------------------------------------\n",
      "🔄 Training Phase...\n"
     ]
    },
    {
     "name": "stderr",
     "output_type": "stream",
     "text": [
      "Training: 100%|██████████████████████████████| 311/311 [01:54<00:00,  2.71it/s, Loss=0.0796, Acc=0.9712, GPU=0.1GB]\n"
     ]
    },
    {
     "name": "stdout",
     "output_type": "stream",
     "text": [
      "✅ Training completed in 114.59s\n",
      "🔍 Validation Phase...\n"
     ]
    },
    {
     "name": "stderr",
     "output_type": "stream",
     "text": [
      "Validation: 100%|██████████████████████████████| 81/81 [00:20<00:00,  3.97it/s, Loss=1.1544, Acc=0.7531]\n"
     ]
    },
    {
     "name": "stdout",
     "output_type": "stream",
     "text": [
      "✅ Validation completed in 20.42s\n",
      "\n",
      "📊 Epoch 11 Summary:\n",
      "│ Train Loss: 0.0796 | Train Acc: 0.9712\n",
      "│ Val Loss:   1.1544 | Val Acc:   0.7531\n",
      "│ Train Time: 114.59s | Val Time: 20.42s\n",
      "│ Total Epoch Time: 135.01s\n",
      "│ Best Val Acc: 0.7543 (Epoch 8)\n",
      "│ GPU Memory: 0.1GB / 4.1GB\n",
      "================================================================================\n",
      "\n",
      "📈 Epoch 12/50\n",
      "--------------------------------------------------\n",
      "🔄 Training Phase...\n"
     ]
    },
    {
     "name": "stderr",
     "output_type": "stream",
     "text": [
      "Training: 100%|██████████████████████████████| 311/311 [01:54<00:00,  2.73it/s, Loss=0.0536, Acc=0.9829, GPU=0.1GB]\n"
     ]
    },
    {
     "name": "stdout",
     "output_type": "stream",
     "text": [
      "✅ Training completed in 114.12s\n",
      "🔍 Validation Phase...\n"
     ]
    },
    {
     "name": "stderr",
     "output_type": "stream",
     "text": [
      "Validation: 100%|██████████████████████████████| 81/81 [00:19<00:00,  4.11it/s, Loss=1.2916, Acc=0.7318]\n"
     ]
    },
    {
     "name": "stdout",
     "output_type": "stream",
     "text": [
      "✅ Validation completed in 19.71s\n",
      "\n",
      "📊 Epoch 12 Summary:\n",
      "│ Train Loss: 0.0536 | Train Acc: 0.9829\n",
      "│ Val Loss:   1.2916 | Val Acc:   0.7318\n",
      "│ Train Time: 114.12s | Val Time: 19.71s\n",
      "│ Total Epoch Time: 133.83s\n",
      "│ Best Val Acc: 0.7543 (Epoch 8)\n",
      "│ GPU Memory: 0.1GB / 4.1GB\n",
      "================================================================================\n",
      "\n",
      "📈 Epoch 13/50\n",
      "--------------------------------------------------\n",
      "🔄 Training Phase...\n"
     ]
    },
    {
     "name": "stderr",
     "output_type": "stream",
     "text": [
      "Training: 100%|██████████████████████████████| 311/311 [01:55<00:00,  2.70it/s, Loss=0.0721, Acc=0.9764, GPU=0.1GB]\n"
     ]
    },
    {
     "name": "stdout",
     "output_type": "stream",
     "text": [
      "✅ Training completed in 115.06s\n",
      "🔍 Validation Phase...\n"
     ]
    },
    {
     "name": "stderr",
     "output_type": "stream",
     "text": [
      "Validation: 100%|██████████████████████████████| 81/81 [00:19<00:00,  4.07it/s, Loss=1.2797, Acc=0.7574]\n"
     ]
    },
    {
     "name": "stdout",
     "output_type": "stream",
     "text": [
      "✅ Validation completed in 19.92s\n",
      "🌟 New best EfficientNetB0 model found! Validation Accuracy: 0.7574\n",
      "\n",
      "📊 Epoch 13 Summary:\n",
      "│ Train Loss: 0.0721 | Train Acc: 0.9764\n",
      "│ Val Loss:   1.2797 | Val Acc:   0.7574\n",
      "│ Train Time: 115.06s | Val Time: 19.92s\n",
      "│ Total Epoch Time: 134.99s\n",
      "│ Best Val Acc: 0.7574 (Epoch 13)\n",
      "│ GPU Memory: 0.1GB / 4.1GB\n",
      "================================================================================\n",
      "\n",
      "📈 Epoch 14/50\n",
      "--------------------------------------------------\n",
      "🔄 Training Phase...\n"
     ]
    },
    {
     "name": "stderr",
     "output_type": "stream",
     "text": [
      "Training: 100%|██████████████████████████████| 311/311 [01:54<00:00,  2.71it/s, Loss=0.0545, Acc=0.9823, GPU=0.1GB]\n"
     ]
    },
    {
     "name": "stdout",
     "output_type": "stream",
     "text": [
      "✅ Training completed in 114.68s\n",
      "🔍 Validation Phase...\n"
     ]
    },
    {
     "name": "stderr",
     "output_type": "stream",
     "text": [
      "Validation: 100%|██████████████████████████████| 81/81 [00:20<00:00,  4.01it/s, Loss=1.4263, Acc=0.7442]\n"
     ]
    },
    {
     "name": "stdout",
     "output_type": "stream",
     "text": [
      "✅ Validation completed in 20.19s\n",
      "\n",
      "📊 Epoch 14 Summary:\n",
      "│ Train Loss: 0.0545 | Train Acc: 0.9823\n",
      "│ Val Loss:   1.4263 | Val Acc:   0.7442\n",
      "│ Train Time: 114.68s | Val Time: 20.19s\n",
      "│ Total Epoch Time: 134.87s\n",
      "│ Best Val Acc: 0.7574 (Epoch 13)\n",
      "│ GPU Memory: 0.1GB / 4.1GB\n",
      "================================================================================\n",
      "\n",
      "📈 Epoch 15/50\n",
      "--------------------------------------------------\n",
      "🔄 Training Phase...\n"
     ]
    },
    {
     "name": "stderr",
     "output_type": "stream",
     "text": [
      "Training: 100%|██████████████████████████████| 311/311 [01:54<00:00,  2.71it/s, Loss=0.0449, Acc=0.9852, GPU=0.1GB]\n"
     ]
    },
    {
     "name": "stdout",
     "output_type": "stream",
     "text": [
      "✅ Training completed in 114.82s\n",
      "🔍 Validation Phase...\n"
     ]
    },
    {
     "name": "stderr",
     "output_type": "stream",
     "text": [
      "Validation: 100%|██████████████████████████████| 81/81 [00:20<00:00,  4.01it/s, Loss=1.3063, Acc=0.7605]\n"
     ]
    },
    {
     "name": "stdout",
     "output_type": "stream",
     "text": [
      "✅ Validation completed in 20.20s\n",
      "🌟 New best EfficientNetB0 model found! Validation Accuracy: 0.7605\n",
      "\n",
      "📊 Epoch 15 Summary:\n",
      "│ Train Loss: 0.0449 | Train Acc: 0.9852\n",
      "│ Val Loss:   1.3063 | Val Acc:   0.7605\n",
      "│ Train Time: 114.82s | Val Time: 20.20s\n",
      "│ Total Epoch Time: 135.02s\n",
      "│ Best Val Acc: 0.7605 (Epoch 15)\n",
      "│ GPU Memory: 0.1GB / 4.1GB\n",
      "================================================================================\n",
      "\n",
      "📈 Epoch 16/50\n",
      "--------------------------------------------------\n",
      "🔄 Training Phase...\n"
     ]
    },
    {
     "name": "stderr",
     "output_type": "stream",
     "text": [
      "Training: 100%|██████████████████████████████| 311/311 [01:54<00:00,  2.70it/s, Loss=0.0308, Acc=0.9889, GPU=0.1GB]\n"
     ]
    },
    {
     "name": "stdout",
     "output_type": "stream",
     "text": [
      "✅ Training completed in 114.98s\n",
      "🔍 Validation Phase...\n"
     ]
    },
    {
     "name": "stderr",
     "output_type": "stream",
     "text": [
      "Validation: 100%|██████████████████████████████| 81/81 [00:20<00:00,  3.96it/s, Loss=1.4045, Acc=0.7469]\n"
     ]
    },
    {
     "name": "stdout",
     "output_type": "stream",
     "text": [
      "✅ Validation completed in 20.44s\n",
      "\n",
      "📊 Epoch 16 Summary:\n",
      "│ Train Loss: 0.0308 | Train Acc: 0.9889\n",
      "│ Val Loss:   1.4045 | Val Acc:   0.7469\n",
      "│ Train Time: 114.98s | Val Time: 20.44s\n",
      "│ Total Epoch Time: 135.42s\n",
      "│ Best Val Acc: 0.7605 (Epoch 15)\n",
      "│ GPU Memory: 0.1GB / 4.1GB\n",
      "================================================================================\n",
      "\n",
      "📈 Epoch 17/50\n",
      "--------------------------------------------------\n",
      "🔄 Training Phase...\n"
     ]
    },
    {
     "name": "stderr",
     "output_type": "stream",
     "text": [
      "Training: 100%|██████████████████████████████| 311/311 [01:54<00:00,  2.72it/s, Loss=0.0503, Acc=0.9844, GPU=0.1GB]\n"
     ]
    },
    {
     "name": "stdout",
     "output_type": "stream",
     "text": [
      "✅ Training completed in 114.21s\n",
      "🔍 Validation Phase...\n"
     ]
    },
    {
     "name": "stderr",
     "output_type": "stream",
     "text": [
      "Validation: 100%|██████████████████████████████| 81/81 [00:19<00:00,  4.10it/s, Loss=1.3230, Acc=0.7554]\n"
     ]
    },
    {
     "name": "stdout",
     "output_type": "stream",
     "text": [
      "✅ Validation completed in 19.76s\n",
      "\n",
      "📊 Epoch 17 Summary:\n",
      "│ Train Loss: 0.0503 | Train Acc: 0.9844\n",
      "│ Val Loss:   1.3230 | Val Acc:   0.7554\n",
      "│ Train Time: 114.21s | Val Time: 19.76s\n",
      "│ Total Epoch Time: 133.98s\n",
      "│ Best Val Acc: 0.7605 (Epoch 15)\n",
      "│ GPU Memory: 0.1GB / 4.1GB\n",
      "================================================================================\n",
      "\n",
      "📈 Epoch 18/50\n",
      "--------------------------------------------------\n",
      "🔄 Training Phase...\n"
     ]
    },
    {
     "name": "stderr",
     "output_type": "stream",
     "text": [
      "Training: 100%|██████████████████████████████| 311/311 [01:54<00:00,  2.72it/s, Loss=0.0327, Acc=0.9887, GPU=0.1GB]\n"
     ]
    },
    {
     "name": "stdout",
     "output_type": "stream",
     "text": [
      "✅ Training completed in 114.51s\n",
      "🔍 Validation Phase...\n"
     ]
    },
    {
     "name": "stderr",
     "output_type": "stream",
     "text": [
      "Validation: 100%|██████████████████████████████| 81/81 [00:20<00:00,  4.04it/s, Loss=2.1891, Acc=0.7364]\n"
     ]
    },
    {
     "name": "stdout",
     "output_type": "stream",
     "text": [
      "✅ Validation completed in 20.06s\n",
      "\n",
      "📊 Epoch 18 Summary:\n",
      "│ Train Loss: 0.0327 | Train Acc: 0.9887\n",
      "│ Val Loss:   2.1891 | Val Acc:   0.7364\n",
      "│ Train Time: 114.51s | Val Time: 20.06s\n",
      "│ Total Epoch Time: 134.58s\n",
      "│ Best Val Acc: 0.7605 (Epoch 15)\n",
      "│ GPU Memory: 0.1GB / 4.1GB\n",
      "================================================================================\n",
      "\n",
      "📈 Epoch 19/50\n",
      "--------------------------------------------------\n",
      "🔄 Training Phase...\n"
     ]
    },
    {
     "name": "stderr",
     "output_type": "stream",
     "text": [
      "Training: 100%|██████████████████████████████| 311/311 [01:55<00:00,  2.70it/s, Loss=0.0541, Acc=0.9823, GPU=0.1GB]\n"
     ]
    },
    {
     "name": "stdout",
     "output_type": "stream",
     "text": [
      "✅ Training completed in 115.19s\n",
      "🔍 Validation Phase...\n"
     ]
    },
    {
     "name": "stderr",
     "output_type": "stream",
     "text": [
      "Validation: 100%|██████████████████████████████| 81/81 [00:20<00:00,  3.99it/s, Loss=1.3650, Acc=0.7667]\n"
     ]
    },
    {
     "name": "stdout",
     "output_type": "stream",
     "text": [
      "✅ Validation completed in 20.33s\n",
      "🌟 New best EfficientNetB0 model found! Validation Accuracy: 0.7667\n",
      "\n",
      "📊 Epoch 19 Summary:\n",
      "│ Train Loss: 0.0541 | Train Acc: 0.9823\n",
      "│ Val Loss:   1.3650 | Val Acc:   0.7667\n",
      "│ Train Time: 115.19s | Val Time: 20.33s\n",
      "│ Total Epoch Time: 135.53s\n",
      "│ Best Val Acc: 0.7667 (Epoch 19)\n",
      "│ GPU Memory: 0.1GB / 4.1GB\n",
      "================================================================================\n",
      "\n",
      "📈 Epoch 20/50\n",
      "--------------------------------------------------\n",
      "🔄 Training Phase...\n"
     ]
    },
    {
     "name": "stderr",
     "output_type": "stream",
     "text": [
      "Training: 100%|██████████████████████████████| 311/311 [01:54<00:00,  2.71it/s, Loss=0.0235, Acc=0.9922, GPU=0.1GB]\n"
     ]
    },
    {
     "name": "stdout",
     "output_type": "stream",
     "text": [
      "✅ Training completed in 114.83s\n",
      "🔍 Validation Phase...\n"
     ]
    },
    {
     "name": "stderr",
     "output_type": "stream",
     "text": [
      "Validation: 100%|██████████████████████████████| 81/81 [00:20<00:00,  3.99it/s, Loss=1.4530, Acc=0.7543]\n"
     ]
    },
    {
     "name": "stdout",
     "output_type": "stream",
     "text": [
      "✅ Validation completed in 20.29s\n",
      "\n",
      "📊 Epoch 20 Summary:\n",
      "│ Train Loss: 0.0235 | Train Acc: 0.9922\n",
      "│ Val Loss:   1.4530 | Val Acc:   0.7543\n",
      "│ Train Time: 114.83s | Val Time: 20.29s\n",
      "│ Total Epoch Time: 135.12s\n",
      "│ Best Val Acc: 0.7667 (Epoch 19)\n",
      "│ GPU Memory: 0.1GB / 4.1GB\n",
      "================================================================================\n",
      "\n",
      "📈 Epoch 21/50\n",
      "--------------------------------------------------\n",
      "🔄 Training Phase...\n"
     ]
    },
    {
     "name": "stderr",
     "output_type": "stream",
     "text": [
      "Training: 100%|██████████████████████████████| 311/311 [01:54<00:00,  2.71it/s, Loss=0.0291, Acc=0.9915, GPU=0.1GB]\n"
     ]
    },
    {
     "name": "stdout",
     "output_type": "stream",
     "text": [
      "✅ Training completed in 114.74s\n",
      "🔍 Validation Phase...\n"
     ]
    },
    {
     "name": "stderr",
     "output_type": "stream",
     "text": [
      "Validation: 100%|██████████████████████████████| 81/81 [00:20<00:00,  4.00it/s, Loss=1.2964, Acc=0.7764]\n"
     ]
    },
    {
     "name": "stdout",
     "output_type": "stream",
     "text": [
      "✅ Validation completed in 20.27s\n",
      "🌟 New best EfficientNetB0 model found! Validation Accuracy: 0.7764\n",
      "\n",
      "📊 Epoch 21 Summary:\n",
      "│ Train Loss: 0.0291 | Train Acc: 0.9915\n",
      "│ Val Loss:   1.2964 | Val Acc:   0.7764\n",
      "│ Train Time: 114.74s | Val Time: 20.27s\n",
      "│ Total Epoch Time: 135.01s\n",
      "│ Best Val Acc: 0.7764 (Epoch 21)\n",
      "│ GPU Memory: 0.1GB / 4.1GB\n",
      "================================================================================\n",
      "\n",
      "📈 Epoch 22/50\n",
      "--------------------------------------------------\n",
      "🔄 Training Phase...\n"
     ]
    },
    {
     "name": "stderr",
     "output_type": "stream",
     "text": [
      "Training: 100%|██████████████████████████████| 311/311 [01:55<00:00,  2.70it/s, Loss=0.0300, Acc=0.9902, GPU=0.1GB]\n"
     ]
    },
    {
     "name": "stdout",
     "output_type": "stream",
     "text": [
      "✅ Training completed in 115.23s\n",
      "🔍 Validation Phase...\n"
     ]
    },
    {
     "name": "stderr",
     "output_type": "stream",
     "text": [
      "Validation: 100%|██████████████████████████████| 81/81 [00:20<00:00,  4.01it/s, Loss=1.5874, Acc=0.7616]\n"
     ]
    },
    {
     "name": "stdout",
     "output_type": "stream",
     "text": [
      "✅ Validation completed in 20.20s\n",
      "\n",
      "📊 Epoch 22 Summary:\n",
      "│ Train Loss: 0.0300 | Train Acc: 0.9902\n",
      "│ Val Loss:   1.5874 | Val Acc:   0.7616\n",
      "│ Train Time: 115.23s | Val Time: 20.20s\n",
      "│ Total Epoch Time: 135.44s\n",
      "│ Best Val Acc: 0.7764 (Epoch 21)\n",
      "│ GPU Memory: 0.1GB / 4.1GB\n",
      "================================================================================\n",
      "\n",
      "📈 Epoch 23/50\n",
      "--------------------------------------------------\n",
      "🔄 Training Phase...\n"
     ]
    },
    {
     "name": "stderr",
     "output_type": "stream",
     "text": [
      "Training: 100%|██████████████████████████████| 311/311 [01:55<00:00,  2.70it/s, Loss=0.0401, Acc=0.9865, GPU=0.1GB]\n"
     ]
    },
    {
     "name": "stdout",
     "output_type": "stream",
     "text": [
      "✅ Training completed in 115.23s\n",
      "🔍 Validation Phase...\n"
     ]
    },
    {
     "name": "stderr",
     "output_type": "stream",
     "text": [
      "Validation: 100%|██████████████████████████████| 81/81 [00:20<00:00,  3.95it/s, Loss=1.3116, Acc=0.7391]\n"
     ]
    },
    {
     "name": "stdout",
     "output_type": "stream",
     "text": [
      "✅ Validation completed in 20.50s\n",
      "\n",
      "📊 Epoch 23 Summary:\n",
      "│ Train Loss: 0.0401 | Train Acc: 0.9865\n",
      "│ Val Loss:   1.3116 | Val Acc:   0.7391\n",
      "│ Train Time: 115.23s | Val Time: 20.50s\n",
      "│ Total Epoch Time: 135.73s\n",
      "│ Best Val Acc: 0.7764 (Epoch 21)\n",
      "│ GPU Memory: 0.1GB / 4.1GB\n",
      "================================================================================\n",
      "\n",
      "📈 Epoch 24/50\n",
      "--------------------------------------------------\n",
      "🔄 Training Phase...\n"
     ]
    },
    {
     "name": "stderr",
     "output_type": "stream",
     "text": [
      "Training: 100%|██████████████████████████████| 311/311 [01:55<00:00,  2.70it/s, Loss=0.0374, Acc=0.9886, GPU=0.1GB]\n"
     ]
    },
    {
     "name": "stdout",
     "output_type": "stream",
     "text": [
      "✅ Training completed in 115.39s\n",
      "🔍 Validation Phase...\n"
     ]
    },
    {
     "name": "stderr",
     "output_type": "stream",
     "text": [
      "Validation: 100%|██████████████████████████████| 81/81 [00:20<00:00,  3.95it/s, Loss=1.6891, Acc=0.7259]\n"
     ]
    },
    {
     "name": "stdout",
     "output_type": "stream",
     "text": [
      "✅ Validation completed in 20.52s\n",
      "\n",
      "📊 Epoch 24 Summary:\n",
      "│ Train Loss: 0.0374 | Train Acc: 0.9886\n",
      "│ Val Loss:   1.6891 | Val Acc:   0.7259\n",
      "│ Train Time: 115.39s | Val Time: 20.52s\n",
      "│ Total Epoch Time: 135.92s\n",
      "│ Best Val Acc: 0.7764 (Epoch 21)\n",
      "│ GPU Memory: 0.1GB / 4.1GB\n",
      "================================================================================\n",
      "\n",
      "📈 Epoch 25/50\n",
      "--------------------------------------------------\n",
      "🔄 Training Phase...\n"
     ]
    },
    {
     "name": "stderr",
     "output_type": "stream",
     "text": [
      "Training: 100%|██████████████████████████████| 311/311 [01:55<00:00,  2.70it/s, Loss=0.0113, Acc=0.9959, GPU=0.1GB]\n"
     ]
    },
    {
     "name": "stdout",
     "output_type": "stream",
     "text": [
      "✅ Training completed in 115.37s\n",
      "🔍 Validation Phase...\n"
     ]
    },
    {
     "name": "stderr",
     "output_type": "stream",
     "text": [
      "Validation: 100%|██████████████████████████████| 81/81 [00:20<00:00,  4.04it/s, Loss=1.4585, Acc=0.7574]\n"
     ]
    },
    {
     "name": "stdout",
     "output_type": "stream",
     "text": [
      "✅ Validation completed in 20.07s\n",
      "\n",
      "📊 Epoch 25 Summary:\n",
      "│ Train Loss: 0.0113 | Train Acc: 0.9959\n",
      "│ Val Loss:   1.4585 | Val Acc:   0.7574\n",
      "│ Train Time: 115.37s | Val Time: 20.07s\n",
      "│ Total Epoch Time: 135.45s\n",
      "│ Best Val Acc: 0.7764 (Epoch 21)\n",
      "│ GPU Memory: 0.1GB / 4.1GB\n",
      "================================================================================\n",
      "\n",
      "📈 Epoch 26/50\n",
      "--------------------------------------------------\n",
      "🔄 Training Phase...\n"
     ]
    },
    {
     "name": "stderr",
     "output_type": "stream",
     "text": [
      "Training: 100%|██████████████████████████████| 311/311 [01:54<00:00,  2.71it/s, Loss=0.0152, Acc=0.9946, GPU=0.1GB]\n"
     ]
    },
    {
     "name": "stdout",
     "output_type": "stream",
     "text": [
      "✅ Training completed in 114.56s\n",
      "🔍 Validation Phase...\n"
     ]
    },
    {
     "name": "stderr",
     "output_type": "stream",
     "text": [
      "Validation: 100%|██████████████████████████████| 81/81 [00:20<00:00,  4.03it/s, Loss=1.8867, Acc=0.7426]\n"
     ]
    },
    {
     "name": "stdout",
     "output_type": "stream",
     "text": [
      "✅ Validation completed in 20.12s\n",
      "\n",
      "📊 Epoch 26 Summary:\n",
      "│ Train Loss: 0.0152 | Train Acc: 0.9946\n",
      "│ Val Loss:   1.8867 | Val Acc:   0.7426\n",
      "│ Train Time: 114.56s | Val Time: 20.12s\n",
      "│ Total Epoch Time: 134.69s\n",
      "│ Best Val Acc: 0.7764 (Epoch 21)\n",
      "│ GPU Memory: 0.1GB / 4.1GB\n",
      "================================================================================\n",
      "\n",
      "📈 Epoch 27/50\n",
      "--------------------------------------------------\n",
      "🔄 Training Phase...\n"
     ]
    },
    {
     "name": "stderr",
     "output_type": "stream",
     "text": [
      "Training: 100%|██████████████████████████████| 311/311 [01:55<00:00,  2.70it/s, Loss=0.0468, Acc=0.9842, GPU=0.1GB]\n"
     ]
    },
    {
     "name": "stdout",
     "output_type": "stream",
     "text": [
      "✅ Training completed in 115.12s\n",
      "🔍 Validation Phase...\n"
     ]
    },
    {
     "name": "stderr",
     "output_type": "stream",
     "text": [
      "Validation: 100%|██████████████████████████████| 81/81 [00:20<00:00,  3.97it/s, Loss=1.3944, Acc=0.7609]\n"
     ]
    },
    {
     "name": "stdout",
     "output_type": "stream",
     "text": [
      "✅ Validation completed in 20.40s\n",
      "\n",
      "📊 Epoch 27 Summary:\n",
      "│ Train Loss: 0.0468 | Train Acc: 0.9842\n",
      "│ Val Loss:   1.3944 | Val Acc:   0.7609\n",
      "│ Train Time: 115.12s | Val Time: 20.40s\n",
      "│ Total Epoch Time: 135.52s\n",
      "│ Best Val Acc: 0.7764 (Epoch 21)\n",
      "│ GPU Memory: 0.1GB / 4.1GB\n",
      "================================================================================\n",
      "\n",
      "📈 Epoch 28/50\n",
      "--------------------------------------------------\n",
      "🔄 Training Phase...\n"
     ]
    },
    {
     "name": "stderr",
     "output_type": "stream",
     "text": [
      "Training: 100%|██████████████████████████████| 311/311 [01:54<00:00,  2.73it/s, Loss=0.0202, Acc=0.9928, GPU=0.1GB]\n"
     ]
    },
    {
     "name": "stdout",
     "output_type": "stream",
     "text": [
      "✅ Training completed in 114.10s\n",
      "🔍 Validation Phase...\n"
     ]
    },
    {
     "name": "stderr",
     "output_type": "stream",
     "text": [
      "Validation: 100%|██████████████████████████████| 81/81 [00:19<00:00,  4.09it/s, Loss=1.7924, Acc=0.7481]\n"
     ]
    },
    {
     "name": "stdout",
     "output_type": "stream",
     "text": [
      "✅ Validation completed in 19.79s\n",
      "\n",
      "📊 Epoch 28 Summary:\n",
      "│ Train Loss: 0.0202 | Train Acc: 0.9928\n",
      "│ Val Loss:   1.7924 | Val Acc:   0.7481\n",
      "│ Train Time: 114.10s | Val Time: 19.79s\n",
      "│ Total Epoch Time: 133.89s\n",
      "│ Best Val Acc: 0.7764 (Epoch 21)\n",
      "│ GPU Memory: 0.1GB / 4.1GB\n",
      "================================================================================\n",
      "\n",
      "📈 Epoch 29/50\n",
      "--------------------------------------------------\n",
      "🔄 Training Phase...\n"
     ]
    },
    {
     "name": "stderr",
     "output_type": "stream",
     "text": [
      "Training: 100%|██████████████████████████████| 311/311 [01:54<00:00,  2.71it/s, Loss=0.0219, Acc=0.9941, GPU=0.1GB]\n"
     ]
    },
    {
     "name": "stdout",
     "output_type": "stream",
     "text": [
      "✅ Training completed in 114.94s\n",
      "🔍 Validation Phase...\n"
     ]
    },
    {
     "name": "stderr",
     "output_type": "stream",
     "text": [
      "Validation: 100%|██████████████████████████████| 81/81 [00:20<00:00,  4.03it/s, Loss=1.8787, Acc=0.7263]\n"
     ]
    },
    {
     "name": "stdout",
     "output_type": "stream",
     "text": [
      "✅ Validation completed in 20.08s\n",
      "\n",
      "📊 Epoch 29 Summary:\n",
      "│ Train Loss: 0.0219 | Train Acc: 0.9941\n",
      "│ Val Loss:   1.8787 | Val Acc:   0.7263\n",
      "│ Train Time: 114.94s | Val Time: 20.08s\n",
      "│ Total Epoch Time: 135.02s\n",
      "│ Best Val Acc: 0.7764 (Epoch 21)\n",
      "│ GPU Memory: 0.1GB / 4.1GB\n",
      "================================================================================\n",
      "\n",
      "📈 Epoch 30/50\n",
      "--------------------------------------------------\n",
      "🔄 Training Phase...\n"
     ]
    },
    {
     "name": "stderr",
     "output_type": "stream",
     "text": [
      "Training: 100%|██████████████████████████████| 311/311 [01:55<00:00,  2.69it/s, Loss=0.0448, Acc=0.9840, GPU=0.1GB]\n"
     ]
    },
    {
     "name": "stdout",
     "output_type": "stream",
     "text": [
      "✅ Training completed in 115.69s\n",
      "🔍 Validation Phase...\n"
     ]
    },
    {
     "name": "stderr",
     "output_type": "stream",
     "text": [
      "Validation: 100%|██████████████████████████████| 81/81 [00:20<00:00,  3.97it/s, Loss=1.4434, Acc=0.7407]\n"
     ]
    },
    {
     "name": "stdout",
     "output_type": "stream",
     "text": [
      "✅ Validation completed in 20.39s\n",
      "\n",
      "📊 Epoch 30 Summary:\n",
      "│ Train Loss: 0.0448 | Train Acc: 0.9840\n",
      "│ Val Loss:   1.4434 | Val Acc:   0.7407\n",
      "│ Train Time: 115.69s | Val Time: 20.39s\n",
      "│ Total Epoch Time: 136.09s\n",
      "│ Best Val Acc: 0.7764 (Epoch 21)\n",
      "│ GPU Memory: 0.1GB / 4.1GB\n",
      "================================================================================\n",
      "\n",
      "📈 Epoch 31/50\n",
      "--------------------------------------------------\n",
      "🔄 Training Phase...\n"
     ]
    },
    {
     "name": "stderr",
     "output_type": "stream",
     "text": [
      "Training: 100%|██████████████████████████████| 311/311 [01:55<00:00,  2.70it/s, Loss=0.0120, Acc=0.9957, GPU=0.1GB]\n"
     ]
    },
    {
     "name": "stdout",
     "output_type": "stream",
     "text": [
      "✅ Training completed in 115.00s\n",
      "🔍 Validation Phase...\n"
     ]
    },
    {
     "name": "stderr",
     "output_type": "stream",
     "text": [
      "Validation: 100%|██████████████████████████████| 81/81 [00:20<00:00,  4.01it/s, Loss=1.8892, Acc=0.7255]\n"
     ]
    },
    {
     "name": "stdout",
     "output_type": "stream",
     "text": [
      "✅ Validation completed in 20.22s\n",
      "\n",
      "📊 Epoch 31 Summary:\n",
      "│ Train Loss: 0.0120 | Train Acc: 0.9957\n",
      "│ Val Loss:   1.8892 | Val Acc:   0.7255\n",
      "│ Train Time: 115.00s | Val Time: 20.22s\n",
      "│ Total Epoch Time: 135.23s\n",
      "│ Best Val Acc: 0.7764 (Epoch 21)\n",
      "│ GPU Memory: 0.1GB / 4.1GB\n",
      "================================================================================\n",
      "\n",
      "📈 Epoch 32/50\n",
      "--------------------------------------------------\n",
      "🔄 Training Phase...\n"
     ]
    },
    {
     "name": "stderr",
     "output_type": "stream",
     "text": [
      "Training: 100%|██████████████████████████████| 311/311 [01:55<00:00,  2.70it/s, Loss=0.0123, Acc=0.9961, GPU=0.1GB]\n"
     ]
    },
    {
     "name": "stdout",
     "output_type": "stream",
     "text": [
      "✅ Training completed in 115.07s\n",
      "🔍 Validation Phase...\n"
     ]
    },
    {
     "name": "stderr",
     "output_type": "stream",
     "text": [
      "Validation: 100%|██████████████████████████████| 81/81 [00:20<00:00,  3.94it/s, Loss=1.8232, Acc=0.7376]\n"
     ]
    },
    {
     "name": "stdout",
     "output_type": "stream",
     "text": [
      "✅ Validation completed in 20.54s\n",
      "\n",
      "📊 Epoch 32 Summary:\n",
      "│ Train Loss: 0.0123 | Train Acc: 0.9961\n",
      "│ Val Loss:   1.8232 | Val Acc:   0.7376\n",
      "│ Train Time: 115.07s | Val Time: 20.54s\n",
      "│ Total Epoch Time: 135.61s\n",
      "│ Best Val Acc: 0.7764 (Epoch 21)\n",
      "│ GPU Memory: 0.1GB / 4.1GB\n",
      "================================================================================\n",
      "\n",
      "📈 Epoch 33/50\n",
      "--------------------------------------------------\n",
      "🔄 Training Phase...\n"
     ]
    },
    {
     "name": "stderr",
     "output_type": "stream",
     "text": [
      "Training: 100%|██████████████████████████████| 311/311 [01:54<00:00,  2.71it/s, Loss=0.0469, Acc=0.9849, GPU=0.1GB]\n"
     ]
    },
    {
     "name": "stdout",
     "output_type": "stream",
     "text": [
      "✅ Training completed in 114.79s\n",
      "🔍 Validation Phase...\n"
     ]
    },
    {
     "name": "stderr",
     "output_type": "stream",
     "text": [
      "Validation: 100%|██████████████████████████████| 81/81 [00:20<00:00,  3.96it/s, Loss=1.3178, Acc=0.7252]\n"
     ]
    },
    {
     "name": "stdout",
     "output_type": "stream",
     "text": [
      "✅ Validation completed in 20.44s\n",
      "\n",
      "📊 Epoch 33 Summary:\n",
      "│ Train Loss: 0.0469 | Train Acc: 0.9849\n",
      "│ Val Loss:   1.3178 | Val Acc:   0.7252\n",
      "│ Train Time: 114.79s | Val Time: 20.44s\n",
      "│ Total Epoch Time: 135.24s\n",
      "│ Best Val Acc: 0.7764 (Epoch 21)\n",
      "│ GPU Memory: 0.1GB / 4.1GB\n",
      "================================================================================\n",
      "\n",
      "📈 Epoch 34/50\n",
      "--------------------------------------------------\n",
      "🔄 Training Phase...\n"
     ]
    },
    {
     "name": "stderr",
     "output_type": "stream",
     "text": [
      "Training: 100%|██████████████████████████████| 311/311 [01:55<00:00,  2.70it/s, Loss=0.0039, Acc=0.9989, GPU=0.1GB]\n"
     ]
    },
    {
     "name": "stdout",
     "output_type": "stream",
     "text": [
      "✅ Training completed in 115.02s\n",
      "🔍 Validation Phase...\n"
     ]
    },
    {
     "name": "stderr",
     "output_type": "stream",
     "text": [
      "Validation: 100%|██████████████████████████████| 81/81 [00:20<00:00,  3.98it/s, Loss=1.4247, Acc=0.7585]\n"
     ]
    },
    {
     "name": "stdout",
     "output_type": "stream",
     "text": [
      "✅ Validation completed in 20.38s\n",
      "\n",
      "📊 Epoch 34 Summary:\n",
      "│ Train Loss: 0.0039 | Train Acc: 0.9989\n",
      "│ Val Loss:   1.4247 | Val Acc:   0.7585\n",
      "│ Train Time: 115.02s | Val Time: 20.38s\n",
      "│ Total Epoch Time: 135.40s\n",
      "│ Best Val Acc: 0.7764 (Epoch 21)\n",
      "│ GPU Memory: 0.1GB / 4.1GB\n",
      "================================================================================\n",
      "\n",
      "📈 Epoch 35/50\n",
      "--------------------------------------------------\n",
      "🔄 Training Phase...\n"
     ]
    },
    {
     "name": "stderr",
     "output_type": "stream",
     "text": [
      "Training: 100%|██████████████████████████████| 311/311 [01:54<00:00,  2.71it/s, Loss=0.0167, Acc=0.9941, GPU=0.1GB]\n"
     ]
    },
    {
     "name": "stdout",
     "output_type": "stream",
     "text": [
      "✅ Training completed in 114.84s\n",
      "🔍 Validation Phase...\n"
     ]
    },
    {
     "name": "stderr",
     "output_type": "stream",
     "text": [
      "Validation: 100%|██████████████████████████████| 81/81 [00:20<00:00,  4.02it/s, Loss=1.5350, Acc=0.7461]\n"
     ]
    },
    {
     "name": "stdout",
     "output_type": "stream",
     "text": [
      "✅ Validation completed in 20.18s\n",
      "\n",
      "📊 Epoch 35 Summary:\n",
      "│ Train Loss: 0.0167 | Train Acc: 0.9941\n",
      "│ Val Loss:   1.5350 | Val Acc:   0.7461\n",
      "│ Train Time: 114.84s | Val Time: 20.18s\n",
      "│ Total Epoch Time: 135.02s\n",
      "│ Best Val Acc: 0.7764 (Epoch 21)\n",
      "│ GPU Memory: 0.1GB / 4.1GB\n",
      "================================================================================\n",
      "\n",
      "📈 Epoch 36/50\n",
      "--------------------------------------------------\n",
      "🔄 Training Phase...\n"
     ]
    },
    {
     "name": "stderr",
     "output_type": "stream",
     "text": [
      "Training: 100%|██████████████████████████████| 311/311 [01:54<00:00,  2.73it/s, Loss=0.0279, Acc=0.9906, GPU=0.1GB]\n"
     ]
    },
    {
     "name": "stdout",
     "output_type": "stream",
     "text": [
      "✅ Training completed in 114.05s\n",
      "🔍 Validation Phase...\n"
     ]
    },
    {
     "name": "stderr",
     "output_type": "stream",
     "text": [
      "Validation: 100%|██████████████████████████████| 81/81 [00:20<00:00,  3.97it/s, Loss=1.4565, Acc=0.7360]\n"
     ]
    },
    {
     "name": "stdout",
     "output_type": "stream",
     "text": [
      "✅ Validation completed in 20.39s\n",
      "\n",
      "📊 Epoch 36 Summary:\n",
      "│ Train Loss: 0.0279 | Train Acc: 0.9906\n",
      "│ Val Loss:   1.4565 | Val Acc:   0.7360\n",
      "│ Train Time: 114.05s | Val Time: 20.39s\n",
      "│ Total Epoch Time: 134.44s\n",
      "│ Best Val Acc: 0.7764 (Epoch 21)\n",
      "│ GPU Memory: 0.1GB / 4.1GB\n",
      "================================================================================\n",
      "\n",
      "📈 Epoch 37/50\n",
      "--------------------------------------------------\n",
      "🔄 Training Phase...\n"
     ]
    },
    {
     "name": "stderr",
     "output_type": "stream",
     "text": [
      "Training: 100%|██████████████████████████████| 311/311 [01:54<00:00,  2.71it/s, Loss=0.0145, Acc=0.9954, GPU=0.1GB]\n"
     ]
    },
    {
     "name": "stdout",
     "output_type": "stream",
     "text": [
      "✅ Training completed in 114.56s\n",
      "🔍 Validation Phase...\n"
     ]
    },
    {
     "name": "stderr",
     "output_type": "stream",
     "text": [
      "Validation: 100%|██████████████████████████████| 81/81 [00:19<00:00,  4.06it/s, Loss=1.7687, Acc=0.7356]\n"
     ]
    },
    {
     "name": "stdout",
     "output_type": "stream",
     "text": [
      "✅ Validation completed in 19.95s\n",
      "\n",
      "📊 Epoch 37 Summary:\n",
      "│ Train Loss: 0.0145 | Train Acc: 0.9954\n",
      "│ Val Loss:   1.7687 | Val Acc:   0.7356\n",
      "│ Train Time: 114.56s | Val Time: 19.95s\n",
      "│ Total Epoch Time: 134.52s\n",
      "│ Best Val Acc: 0.7764 (Epoch 21)\n",
      "│ GPU Memory: 0.1GB / 4.1GB\n",
      "================================================================================\n",
      "\n",
      "📈 Epoch 38/50\n",
      "--------------------------------------------------\n",
      "🔄 Training Phase...\n"
     ]
    },
    {
     "name": "stderr",
     "output_type": "stream",
     "text": [
      "Training: 100%|██████████████████████████████| 311/311 [01:55<00:00,  2.70it/s, Loss=0.0154, Acc=0.9946, GPU=0.1GB]\n"
     ]
    },
    {
     "name": "stdout",
     "output_type": "stream",
     "text": [
      "✅ Training completed in 115.17s\n",
      "🔍 Validation Phase...\n"
     ]
    },
    {
     "name": "stderr",
     "output_type": "stream",
     "text": [
      "Validation: 100%|██████████████████████████████| 81/81 [00:20<00:00,  3.98it/s, Loss=1.6760, Acc=0.7252]\n"
     ]
    },
    {
     "name": "stdout",
     "output_type": "stream",
     "text": [
      "✅ Validation completed in 20.35s\n",
      "\n",
      "📊 Epoch 38 Summary:\n",
      "│ Train Loss: 0.0154 | Train Acc: 0.9946\n",
      "│ Val Loss:   1.6760 | Val Acc:   0.7252\n",
      "│ Train Time: 115.17s | Val Time: 20.35s\n",
      "│ Total Epoch Time: 135.53s\n",
      "│ Best Val Acc: 0.7764 (Epoch 21)\n",
      "│ GPU Memory: 0.1GB / 4.1GB\n",
      "================================================================================\n",
      "\n",
      "📈 Epoch 39/50\n",
      "--------------------------------------------------\n",
      "🔄 Training Phase...\n"
     ]
    },
    {
     "name": "stderr",
     "output_type": "stream",
     "text": [
      "Training: 100%|██████████████████████████████| 311/311 [01:55<00:00,  2.69it/s, Loss=0.0296, Acc=0.9906, GPU=0.1GB]\n"
     ]
    },
    {
     "name": "stdout",
     "output_type": "stream",
     "text": [
      "✅ Training completed in 115.41s\n",
      "🔍 Validation Phase...\n"
     ]
    },
    {
     "name": "stderr",
     "output_type": "stream",
     "text": [
      "Validation: 100%|██████████████████████████████| 81/81 [00:20<00:00,  3.94it/s, Loss=1.3383, Acc=0.7368]\n"
     ]
    },
    {
     "name": "stdout",
     "output_type": "stream",
     "text": [
      "✅ Validation completed in 20.54s\n",
      "\n",
      "📊 Epoch 39 Summary:\n",
      "│ Train Loss: 0.0296 | Train Acc: 0.9906\n",
      "│ Val Loss:   1.3383 | Val Acc:   0.7368\n",
      "│ Train Time: 115.41s | Val Time: 20.54s\n",
      "│ Total Epoch Time: 135.96s\n",
      "│ Best Val Acc: 0.7764 (Epoch 21)\n",
      "│ GPU Memory: 0.1GB / 4.1GB\n",
      "================================================================================\n",
      "\n",
      "📈 Epoch 40/50\n",
      "--------------------------------------------------\n",
      "🔄 Training Phase...\n"
     ]
    },
    {
     "name": "stderr",
     "output_type": "stream",
     "text": [
      "Training: 100%|██████████████████████████████| 311/311 [01:54<00:00,  2.71it/s, Loss=0.0329, Acc=0.9889, GPU=0.1GB]\n"
     ]
    },
    {
     "name": "stdout",
     "output_type": "stream",
     "text": [
      "✅ Training completed in 114.74s\n",
      "🔍 Validation Phase...\n"
     ]
    },
    {
     "name": "stderr",
     "output_type": "stream",
     "text": [
      "Validation: 100%|██████████████████████████████| 81/81 [00:20<00:00,  3.98it/s, Loss=1.5364, Acc=0.7426]\n"
     ]
    },
    {
     "name": "stdout",
     "output_type": "stream",
     "text": [
      "✅ Validation completed in 20.37s\n",
      "\n",
      "📊 Epoch 40 Summary:\n",
      "│ Train Loss: 0.0329 | Train Acc: 0.9889\n",
      "│ Val Loss:   1.5364 | Val Acc:   0.7426\n",
      "│ Train Time: 114.74s | Val Time: 20.37s\n",
      "│ Total Epoch Time: 135.12s\n",
      "│ Best Val Acc: 0.7764 (Epoch 21)\n",
      "│ GPU Memory: 0.1GB / 4.1GB\n",
      "================================================================================\n",
      "\n",
      "📈 Epoch 41/50\n",
      "--------------------------------------------------\n",
      "🔄 Training Phase...\n"
     ]
    },
    {
     "name": "stderr",
     "output_type": "stream",
     "text": [
      "Training: 100%|██████████████████████████████| 311/311 [01:54<00:00,  2.71it/s, Loss=0.0053, Acc=0.9985, GPU=0.1GB]\n"
     ]
    },
    {
     "name": "stdout",
     "output_type": "stream",
     "text": [
      "✅ Training completed in 114.84s\n",
      "🔍 Validation Phase...\n"
     ]
    },
    {
     "name": "stderr",
     "output_type": "stream",
     "text": [
      "Validation: 100%|██████████████████████████████| 81/81 [00:19<00:00,  4.07it/s, Loss=1.6571, Acc=0.7407]\n"
     ]
    },
    {
     "name": "stdout",
     "output_type": "stream",
     "text": [
      "✅ Validation completed in 19.91s\n",
      "\n",
      "📊 Epoch 41 Summary:\n",
      "│ Train Loss: 0.0053 | Train Acc: 0.9985\n",
      "│ Val Loss:   1.6571 | Val Acc:   0.7407\n",
      "│ Train Time: 114.84s | Val Time: 19.91s\n",
      "│ Total Epoch Time: 134.76s\n",
      "│ Best Val Acc: 0.7764 (Epoch 21)\n",
      "│ GPU Memory: 0.1GB / 4.1GB\n",
      "================================================================================\n",
      "\n",
      "📈 Epoch 42/50\n",
      "--------------------------------------------------\n",
      "🔄 Training Phase...\n"
     ]
    },
    {
     "name": "stderr",
     "output_type": "stream",
     "text": [
      "Training: 100%|██████████████████████████████| 311/311 [01:54<00:00,  2.73it/s, Loss=0.0033, Acc=0.9991, GPU=0.1GB]\n"
     ]
    },
    {
     "name": "stdout",
     "output_type": "stream",
     "text": [
      "✅ Training completed in 114.09s\n",
      "🔍 Validation Phase...\n"
     ]
    },
    {
     "name": "stderr",
     "output_type": "stream",
     "text": [
      "Validation: 100%|██████████████████████████████| 81/81 [00:20<00:00,  4.00it/s, Loss=2.2413, Acc=0.7263]\n"
     ]
    },
    {
     "name": "stdout",
     "output_type": "stream",
     "text": [
      "✅ Validation completed in 20.25s\n",
      "\n",
      "📊 Epoch 42 Summary:\n",
      "│ Train Loss: 0.0033 | Train Acc: 0.9991\n",
      "│ Val Loss:   2.2413 | Val Acc:   0.7263\n",
      "│ Train Time: 114.09s | Val Time: 20.25s\n",
      "│ Total Epoch Time: 134.34s\n",
      "│ Best Val Acc: 0.7764 (Epoch 21)\n",
      "│ GPU Memory: 0.1GB / 4.1GB\n",
      "================================================================================\n",
      "\n",
      "📈 Epoch 43/50\n",
      "--------------------------------------------------\n",
      "🔄 Training Phase...\n"
     ]
    },
    {
     "name": "stderr",
     "output_type": "stream",
     "text": [
      "Training: 100%|██████████████████████████████| 311/311 [01:54<00:00,  2.71it/s, Loss=0.0336, Acc=0.9879, GPU=0.1GB]\n"
     ]
    },
    {
     "name": "stdout",
     "output_type": "stream",
     "text": [
      "✅ Training completed in 114.60s\n",
      "🔍 Validation Phase...\n"
     ]
    },
    {
     "name": "stderr",
     "output_type": "stream",
     "text": [
      "Validation: 100%|██████████████████████████████| 81/81 [00:20<00:00,  3.93it/s, Loss=1.6370, Acc=0.7263]\n"
     ]
    },
    {
     "name": "stdout",
     "output_type": "stream",
     "text": [
      "✅ Validation completed in 20.62s\n",
      "\n",
      "📊 Epoch 43 Summary:\n",
      "│ Train Loss: 0.0336 | Train Acc: 0.9879\n",
      "│ Val Loss:   1.6370 | Val Acc:   0.7263\n",
      "│ Train Time: 114.60s | Val Time: 20.62s\n",
      "│ Total Epoch Time: 135.23s\n",
      "│ Best Val Acc: 0.7764 (Epoch 21)\n",
      "│ GPU Memory: 0.1GB / 4.1GB\n",
      "================================================================================\n",
      "\n",
      "📈 Epoch 44/50\n",
      "--------------------------------------------------\n",
      "🔄 Training Phase...\n"
     ]
    },
    {
     "name": "stderr",
     "output_type": "stream",
     "text": [
      "Training: 100%|██████████████████████████████| 311/311 [01:55<00:00,  2.70it/s, Loss=0.0241, Acc=0.9907, GPU=0.1GB]\n"
     ]
    },
    {
     "name": "stdout",
     "output_type": "stream",
     "text": [
      "✅ Training completed in 115.22s\n",
      "🔍 Validation Phase...\n"
     ]
    },
    {
     "name": "stderr",
     "output_type": "stream",
     "text": [
      "Validation: 100%|██████████████████████████████| 81/81 [00:20<00:00,  3.89it/s, Loss=1.6656, Acc=0.7465]\n"
     ]
    },
    {
     "name": "stdout",
     "output_type": "stream",
     "text": [
      "✅ Validation completed in 20.83s\n",
      "\n",
      "📊 Epoch 44 Summary:\n",
      "│ Train Loss: 0.0241 | Train Acc: 0.9907\n",
      "│ Val Loss:   1.6656 | Val Acc:   0.7465\n",
      "│ Train Time: 115.22s | Val Time: 20.83s\n",
      "│ Total Epoch Time: 136.05s\n",
      "│ Best Val Acc: 0.7764 (Epoch 21)\n",
      "│ GPU Memory: 0.1GB / 4.1GB\n",
      "================================================================================\n",
      "\n",
      "📈 Epoch 45/50\n",
      "--------------------------------------------------\n",
      "🔄 Training Phase...\n"
     ]
    },
    {
     "name": "stderr",
     "output_type": "stream",
     "text": [
      "Training: 100%|██████████████████████████████| 311/311 [01:55<00:00,  2.69it/s, Loss=0.0193, Acc=0.9949, GPU=0.1GB]\n"
     ]
    },
    {
     "name": "stdout",
     "output_type": "stream",
     "text": [
      "✅ Training completed in 115.71s\n",
      "🔍 Validation Phase...\n"
     ]
    },
    {
     "name": "stderr",
     "output_type": "stream",
     "text": [
      "Validation: 100%|██████████████████████████████| 81/81 [00:20<00:00,  3.95it/s, Loss=1.6806, Acc=0.7418]\n"
     ]
    },
    {
     "name": "stdout",
     "output_type": "stream",
     "text": [
      "✅ Validation completed in 20.49s\n",
      "\n",
      "📊 Epoch 45 Summary:\n",
      "│ Train Loss: 0.0193 | Train Acc: 0.9949\n",
      "│ Val Loss:   1.6806 | Val Acc:   0.7418\n",
      "│ Train Time: 115.71s | Val Time: 20.49s\n",
      "│ Total Epoch Time: 136.20s\n",
      "│ Best Val Acc: 0.7764 (Epoch 21)\n",
      "│ GPU Memory: 0.1GB / 4.1GB\n",
      "================================================================================\n",
      "\n",
      "📈 Epoch 46/50\n",
      "--------------------------------------------------\n",
      "🔄 Training Phase...\n"
     ]
    },
    {
     "name": "stderr",
     "output_type": "stream",
     "text": [
      "Training: 100%|██████████████████████████████| 311/311 [01:55<00:00,  2.69it/s, Loss=0.0030, Acc=0.9992, GPU=0.1GB]\n"
     ]
    },
    {
     "name": "stdout",
     "output_type": "stream",
     "text": [
      "✅ Training completed in 115.67s\n",
      "🔍 Validation Phase...\n"
     ]
    },
    {
     "name": "stderr",
     "output_type": "stream",
     "text": [
      "Validation: 100%|██████████████████████████████| 81/81 [00:20<00:00,  3.91it/s, Loss=1.8267, Acc=0.7415]\n"
     ]
    },
    {
     "name": "stdout",
     "output_type": "stream",
     "text": [
      "✅ Validation completed in 20.72s\n",
      "\n",
      "📊 Epoch 46 Summary:\n",
      "│ Train Loss: 0.0030 | Train Acc: 0.9992\n",
      "│ Val Loss:   1.8267 | Val Acc:   0.7415\n",
      "│ Train Time: 115.67s | Val Time: 20.72s\n",
      "│ Total Epoch Time: 136.39s\n",
      "│ Best Val Acc: 0.7764 (Epoch 21)\n",
      "│ GPU Memory: 0.1GB / 4.1GB\n",
      "================================================================================\n",
      "\n",
      "📈 Epoch 47/50\n",
      "--------------------------------------------------\n",
      "🔄 Training Phase...\n"
     ]
    },
    {
     "name": "stderr",
     "output_type": "stream",
     "text": [
      "Training: 100%|██████████████████████████████| 311/311 [01:54<00:00,  2.71it/s, Loss=0.0056, Acc=0.9984, GPU=0.1GB]\n"
     ]
    },
    {
     "name": "stdout",
     "output_type": "stream",
     "text": [
      "✅ Training completed in 114.68s\n",
      "🔍 Validation Phase...\n"
     ]
    },
    {
     "name": "stderr",
     "output_type": "stream",
     "text": [
      "Validation: 100%|██████████████████████████████| 81/81 [00:20<00:00,  3.99it/s, Loss=1.7719, Acc=0.7290]\n"
     ]
    },
    {
     "name": "stdout",
     "output_type": "stream",
     "text": [
      "✅ Validation completed in 20.31s\n",
      "\n",
      "📊 Epoch 47 Summary:\n",
      "│ Train Loss: 0.0056 | Train Acc: 0.9984\n",
      "│ Val Loss:   1.7719 | Val Acc:   0.7290\n",
      "│ Train Time: 114.68s | Val Time: 20.31s\n",
      "│ Total Epoch Time: 135.00s\n",
      "│ Best Val Acc: 0.7764 (Epoch 21)\n",
      "│ GPU Memory: 0.1GB / 4.1GB\n",
      "================================================================================\n",
      "\n",
      "📈 Epoch 48/50\n",
      "--------------------------------------------------\n",
      "🔄 Training Phase...\n"
     ]
    },
    {
     "name": "stderr",
     "output_type": "stream",
     "text": [
      "Training: 100%|██████████████████████████████| 311/311 [01:54<00:00,  2.71it/s, Loss=0.0130, Acc=0.9948, GPU=0.1GB]\n"
     ]
    },
    {
     "name": "stdout",
     "output_type": "stream",
     "text": [
      "✅ Training completed in 114.66s\n",
      "🔍 Validation Phase...\n"
     ]
    },
    {
     "name": "stderr",
     "output_type": "stream",
     "text": [
      "Validation: 100%|██████████████████████████████| 81/81 [00:20<00:00,  3.96it/s, Loss=1.8615, Acc=0.7310]\n"
     ]
    },
    {
     "name": "stdout",
     "output_type": "stream",
     "text": [
      "✅ Validation completed in 20.46s\n",
      "\n",
      "📊 Epoch 48 Summary:\n",
      "│ Train Loss: 0.0130 | Train Acc: 0.9948\n",
      "│ Val Loss:   1.8615 | Val Acc:   0.7310\n",
      "│ Train Time: 114.66s | Val Time: 20.46s\n",
      "│ Total Epoch Time: 135.13s\n",
      "│ Best Val Acc: 0.7764 (Epoch 21)\n",
      "│ GPU Memory: 0.1GB / 4.1GB\n",
      "================================================================================\n",
      "\n",
      "📈 Epoch 49/50\n",
      "--------------------------------------------------\n",
      "🔄 Training Phase...\n"
     ]
    },
    {
     "name": "stderr",
     "output_type": "stream",
     "text": [
      "Training: 100%|██████████████████████████████| 311/311 [01:54<00:00,  2.71it/s, Loss=0.0284, Acc=0.9901, GPU=0.1GB]\n"
     ]
    },
    {
     "name": "stdout",
     "output_type": "stream",
     "text": [
      "✅ Training completed in 114.69s\n",
      "🔍 Validation Phase...\n"
     ]
    },
    {
     "name": "stderr",
     "output_type": "stream",
     "text": [
      "Validation: 100%|██████████████████████████████| 81/81 [00:20<00:00,  4.03it/s, Loss=1.5774, Acc=0.7418]\n"
     ]
    },
    {
     "name": "stdout",
     "output_type": "stream",
     "text": [
      "✅ Validation completed in 20.09s\n",
      "\n",
      "📊 Epoch 49 Summary:\n",
      "│ Train Loss: 0.0284 | Train Acc: 0.9901\n",
      "│ Val Loss:   1.5774 | Val Acc:   0.7418\n",
      "│ Train Time: 114.69s | Val Time: 20.09s\n",
      "│ Total Epoch Time: 134.79s\n",
      "│ Best Val Acc: 0.7764 (Epoch 21)\n",
      "│ GPU Memory: 0.1GB / 4.1GB\n",
      "================================================================================\n",
      "\n",
      "📈 Epoch 50/50\n",
      "--------------------------------------------------\n",
      "🔄 Training Phase...\n"
     ]
    },
    {
     "name": "stderr",
     "output_type": "stream",
     "text": [
      "Training: 100%|██████████████████████████████| 311/311 [01:55<00:00,  2.69it/s, Loss=0.0135, Acc=0.9953, GPU=0.1GB]\n"
     ]
    },
    {
     "name": "stdout",
     "output_type": "stream",
     "text": [
      "✅ Training completed in 115.52s\n",
      "🔍 Validation Phase...\n"
     ]
    },
    {
     "name": "stderr",
     "output_type": "stream",
     "text": [
      "Validation: 100%|██████████████████████████████| 81/81 [00:20<00:00,  3.94it/s, Loss=1.5365, Acc=0.7539]\n"
     ]
    },
    {
     "name": "stdout",
     "output_type": "stream",
     "text": [
      "✅ Validation completed in 20.57s\n",
      "\n",
      "📊 Epoch 50 Summary:\n",
      "│ Train Loss: 0.0135 | Train Acc: 0.9953\n",
      "│ Val Loss:   1.5365 | Val Acc:   0.7539\n",
      "│ Train Time: 115.52s | Val Time: 20.57s\n",
      "│ Total Epoch Time: 136.09s\n",
      "│ Best Val Acc: 0.7764 (Epoch 21)\n",
      "│ GPU Memory: 0.1GB / 4.1GB\n",
      "================================================================================\n",
      "\n",
      "💾 Best EfficientNetB0 model saved as 'best_efficientnetb0_model.pth'\n",
      "📊 Best model stats:\n",
      "│ Best Epoch: 21\n",
      "│ Best Val Acc: 0.7764\n",
      "\n",
      "💾 EfficientNetB0 training history saved to 'efficientnetb0_training_history.csv'\n",
      "\n",
      "🎉 EfficientNetB0 Training Complete!\n",
      "Total Training Time: 6794.81s (113.2 minutes)\n",
      "Average Epoch Time: 135.90s\n",
      "\n",
      "⏱️  Epoch Timing Breakdown:\n",
      "│ Epoch 1: 176.50s\n",
      "│ Epoch 2: 133.63s\n",
      "│ Epoch 3: 133.93s\n",
      "│ Epoch 4: 134.79s\n",
      "│ Epoch 5: 134.40s\n",
      "│ Epoch 6: 135.22s\n",
      "│ Epoch 7: 135.18s\n",
      "│ Epoch 8: 134.55s\n",
      "│ Epoch 9: 134.73s\n",
      "│ Epoch 10: 134.70s\n",
      "│ Epoch 11: 135.01s\n",
      "│ Epoch 12: 133.83s\n",
      "│ Epoch 13: 134.99s\n",
      "│ Epoch 14: 134.87s\n",
      "│ Epoch 15: 135.02s\n",
      "│ Epoch 16: 135.42s\n",
      "│ Epoch 17: 133.98s\n",
      "│ Epoch 18: 134.58s\n",
      "│ Epoch 19: 135.53s\n",
      "│ Epoch 20: 135.12s\n",
      "│ Epoch 21: 135.01s\n",
      "│ Epoch 22: 135.44s\n",
      "│ Epoch 23: 135.73s\n",
      "│ Epoch 24: 135.92s\n",
      "│ Epoch 25: 135.45s\n",
      "│ Epoch 26: 134.69s\n",
      "│ Epoch 27: 135.52s\n",
      "│ Epoch 28: 133.89s\n",
      "│ Epoch 29: 135.02s\n",
      "│ Epoch 30: 136.09s\n",
      "│ Epoch 31: 135.23s\n",
      "│ Epoch 32: 135.61s\n",
      "│ Epoch 33: 135.24s\n",
      "│ Epoch 34: 135.40s\n",
      "│ Epoch 35: 135.02s\n",
      "│ Epoch 36: 134.44s\n",
      "│ Epoch 37: 134.52s\n",
      "│ Epoch 38: 135.53s\n",
      "│ Epoch 39: 135.96s\n",
      "│ Epoch 40: 135.12s\n",
      "│ Epoch 41: 134.76s\n",
      "│ Epoch 42: 134.34s\n",
      "│ Epoch 43: 135.23s\n",
      "│ Epoch 44: 136.05s\n",
      "│ Epoch 45: 136.20s\n",
      "│ Epoch 46: 136.39s\n",
      "│ Epoch 47: 135.00s\n",
      "│ Epoch 48: 135.13s\n",
      "│ Epoch 49: 134.79s\n",
      "│ Epoch 50: 136.09s\n",
      "\n",
      "🧪 Loading Best EfficientNetB0 Model for Testing...\n",
      "✅ Best EfficientNetB0 model from epoch 21 loaded successfully!\n"
     ]
    },
    {
     "name": "stderr",
     "output_type": "stream",
     "text": [
      "Testing EfficientNetB0: 100%|██████████████████████████████| 101/101 [00:39<00:00,  2.59it/s]\n"
     ]
    },
    {
     "name": "stdout",
     "output_type": "stream",
     "text": [
      "✅ EfficientNetB0 Testing completed in 39.06s\n",
      "\n",
      "📋 EfficientNetB0 Classification Report:\n",
      "              precision    recall  f1-score   support\n",
      "\n",
      "     Batting       0.81      0.85      0.83      1656\n",
      "     Bowling       0.50      0.45      0.47       488\n",
      "    Fielding       0.64      0.56      0.59       560\n",
      "      Umpire       0.85      0.89      0.87       520\n",
      "\n",
      "    accuracy                           0.74      3224\n",
      "   macro avg       0.70      0.69      0.69      3224\n",
      "weighted avg       0.74      0.74      0.74      3224\n",
      "\n",
      "🎯 EfficientNetB0 Test Accuracy: 0.7444\n",
      "\n",
      "📊 EfficientNetB0 Model Performance Summary:\n",
      "│ Best Validation Acc:  0.7764 (Epoch 21)\n",
      "│ Final Test Accuracy:  0.7444\n",
      "│ Val-Test Gap:         0.0320\n"
     ]
    },
    {
     "data": {
      "image/png": "[encoded data removed]",
      "text/plain": [
       "<Figure size 800x600 with 2 Axes>"
      ]
     },
     "metadata": {},
     "output_type": "display_data"
    },
    {
     "data": {
      "image/png": "[encoded data removed]",
      "text/plain": [
       "<Figure size 2000x500 with 4 Axes>"
      ]
     },
     "metadata": {},
     "output_type": "display_data"
    },
    {
     "name": "stdout",
     "output_type": "stream",
     "text": [
      "\n",
      "⏰ EfficientNetB0 Final Timing Summary:\n",
      "│ Total Training: 6794.81s\n",
      "│ Average per Epoch: 135.90s\n",
      "│ Testing Time: 39.06s\n",
      "│ Total Runtime: 6833.88s\n",
      "\n",
      "💾 EfficientNetB0 Files saved:\n",
      "│ best_efficientnetb0_model.pth - Best validation accuracy model\n",
      "│ efficientnetb0_training_history.csv - Training metrics for later plotting\n",
      "\n",
      "🏗️  EfficientNetB0 Architecture Summary:\n",
      "│ Total Parameters: 4,012,672\n",
      "│ Trainable Parameters: 4,012,672\n",
      "│ Model Size: 15.31 MB\n",
      "│ Input Size: 224x224x3\n",
      "│ Output Classes: 4\n",
      "│ Width Coefficient: 1.0\n",
      "│ Depth Coefficient: 1.0\n",
      "│ Dropout Rate: 0.2\n",
      "│ Drop Connect Rate: 0.2\n",
      "│ MBConv Blocks: 16\n",
      "│ Squeeze-and-Excitation: Yes\n",
      "│ Swish Activation: Yes\n",
      "│ Stochastic Depth: Yes\n"
     ]
    }
   ],
   "source": [
    "import torch\n",
    "import torch.nn as nn\n",
    "import torch.nn.functional as F\n",
    "import numpy as np\n",
    "import matplotlib.pyplot as plt\n",
    "import seaborn as sns\n",
    "from torchsummary import summary\n",
    "from sklearn.metrics import accuracy_score, classification_report, confusion_matrix\n",
    "import pandas as pd\n",
    "from tqdm import tqdm\n",
    "import time\n",
    "# -----------------------------\n",
    "# 4. Training Loop with Best Model Saving (Val Accuracy) - EfficientNetB0\n",
    "# -----------------------------\n",
    "train_losses, val_losses = [], []\n",
    "train_accs, val_accs = [], []\n",
    "epoch_times = []\n",
    "epochs = 50\n",
    "\n",
    "# Initialize best model tracking\n",
    "best_val_acc = 0.0\n",
    "best_model_state = None\n",
    "best_epoch = 0\n",
    "\n",
    "print(f\"\\n🚀 Starting EfficientNetB0 Training for {epochs} epochs...\")\n",
    "print(\"=\" * 80)\n",
    "\n",
    "total_start_time = time.time()\n",
    "\n",
    "for epoch in range(epochs):\n",
    "    epoch_start_time = time.time()\n",
    "    \n",
    "    print(f\"\\n📈 Epoch {epoch+1}/{epochs}\")\n",
    "    print(\"-\" * 50)\n",
    "    \n",
    "    # Training Phase\n",
    "    print(\"🔄 Training Phase...\")\n",
    "    model.train()\n",
    "    running_loss, correct, total = 0, 0, 0\n",
    "    \n",
    "    train_pbar = tqdm(train_loader, desc=f\"Training\", \n",
    "                     bar_format='{l_bar}{bar:30}{r_bar}{bar:-30b}')\n",
    "    \n",
    "    train_phase_start = time.time()\n",
    "    \n",
    "    for batch_idx, (imgs, labels) in enumerate(train_pbar):\n",
    "        imgs, labels = imgs.to(device), labels.to(device)\n",
    "        \n",
    "        optimizer.zero_grad()\n",
    "        outputs = model(imgs)\n",
    "        loss = criterion(outputs, labels)\n",
    "        loss.backward()\n",
    "        optimizer.step()\n",
    "        \n",
    "        running_loss += loss.item()\n",
    "        _, preds = torch.max(outputs, 1)\n",
    "        correct += (preds == labels).sum().item()\n",
    "        total += labels.size(0)\n",
    "        \n",
    "        current_acc = correct / total\n",
    "        train_pbar.set_postfix({\n",
    "            'Loss': f'{running_loss/(batch_idx+1):.4f}',\n",
    "            'Acc': f'{current_acc:.4f}'\n",
    "        })\n",
    "        \n",
    "        if device.type == 'cuda' and batch_idx % 10 == 0:\n",
    "            gpu_memory = torch.cuda.memory_allocated() / 1024**3\n",
    "            train_pbar.set_postfix({\n",
    "                'Loss': f'{running_loss/(batch_idx+1):.4f}',\n",
    "                'Acc': f'{current_acc:.4f}',\n",
    "                'GPU': f'{gpu_memory:.1f}GB'\n",
    "            })\n",
    "    \n",
    "    train_phase_time = time.time() - train_phase_start\n",
    "    train_loss = running_loss / len(train_loader)\n",
    "    train_acc = correct / total\n",
    "    train_losses.append(train_loss)\n",
    "    train_accs.append(train_acc)\n",
    "    \n",
    "    print(f\"✅ Training completed in {train_phase_time:.2f}s\")\n",
    "    \n",
    "    # Validation Phase\n",
    "    print(\"🔍 Validation Phase...\")\n",
    "    model.eval()\n",
    "    running_loss, correct, total = 0, 0, 0\n",
    "    \n",
    "    val_phase_start = time.time()\n",
    "    val_pbar = tqdm(val_loader, desc=f\"Validation\", \n",
    "                   bar_format='{l_bar}{bar:30}{r_bar}{bar:-30b}')\n",
    "    \n",
    "    with torch.no_grad():\n",
    "        for batch_idx, (imgs, labels) in enumerate(val_pbar):\n",
    "            imgs, labels = imgs.to(device), labels.to(device)\n",
    "            outputs = model(imgs)\n",
    "            loss = criterion(outputs, labels)\n",
    "            \n",
    "            running_loss += loss.item()\n",
    "            _, preds = torch.max(outputs, 1)\n",
    "            correct += (preds == labels).sum().item()\n",
    "            total += labels.size(0)\n",
    "            \n",
    "            current_acc = correct / total\n",
    "            val_pbar.set_postfix({\n",
    "                'Loss': f'{running_loss/(batch_idx+1):.4f}',\n",
    "                'Acc': f'{current_acc:.4f}'\n",
    "            })\n",
    "    \n",
    "    val_phase_time = time.time() - val_phase_start\n",
    "    val_loss = running_loss / len(val_loader)\n",
    "    val_acc = correct / total\n",
    "    val_losses.append(val_loss)\n",
    "    val_accs.append(val_acc)\n",
    "    \n",
    "    print(f\"✅ Validation completed in {val_phase_time:.2f}s\")\n",
    "    \n",
    "    # Check if this is the best model so far based on val_acc\n",
    "    is_best = val_acc > best_val_acc\n",
    "    if is_best:\n",
    "        best_val_acc = val_acc\n",
    "        best_epoch = epoch + 1\n",
    "        best_model_state = model.state_dict().copy()\n",
    "        print(f\"🌟 New best EfficientNetB0 model found! Validation Accuracy: {val_acc:.4f}\")\n",
    "    \n",
    "    # Epoch Summary\n",
    "    epoch_time = time.time() - epoch_start_time\n",
    "    epoch_times.append(epoch_time)\n",
    "    \n",
    "    print(f\"\\n📊 Epoch {epoch+1} Summary:\")\n",
    "    print(f\"│ Train Loss: {train_loss:.4f} | Train Acc: {train_acc:.4f}\")\n",
    "    print(f\"│ Val Loss:   {val_loss:.4f} | Val Acc:   {val_acc:.4f}\")\n",
    "    print(f\"│ Train Time: {train_phase_time:.2f}s | Val Time: {val_phase_time:.2f}s\")\n",
    "    print(f\"│ Total Epoch Time: {epoch_time:.2f}s\")\n",
    "    print(f\"│ Best Val Acc: {best_val_acc:.4f} (Epoch {best_epoch})\")\n",
    "    \n",
    "    if device.type == 'cuda':\n",
    "        print(f\"│ GPU Memory: {torch.cuda.memory_allocated()/1024**3:.1f}GB / {torch.cuda.memory_reserved()/1024**3:.1f}GB\")\n",
    "    \n",
    "    print(\"=\" * 80)\n",
    "\n",
    "total_training_time = time.time() - total_start_time\n",
    "\n",
    "# Save the best model\n",
    "if best_model_state is not None:\n",
    "    torch.save(best_model_state, 'best_efficientnetb0_model.pth')\n",
    "    print(f\"\\n💾 Best EfficientNetB0 model saved as 'best_efficientnetb0_model.pth'\")\n",
    "    print(f\"📊 Best model stats:\")\n",
    "    print(f\"│ Best Epoch: {best_epoch}\")\n",
    "    print(f\"│ Best Val Acc: {best_val_acc:.4f}\")\n",
    "\n",
    "# Save training history data to CSV\n",
    "history_data = {\n",
    "    'epoch': list(range(1, epochs+1)),\n",
    "    'train_loss': train_losses,\n",
    "    'val_loss': val_losses,\n",
    "    'train_acc': train_accs,\n",
    "    'val_acc': val_accs,\n",
    "    'epoch_time': epoch_times\n",
    "}\n",
    "history_df = pd.DataFrame(history_data)\n",
    "history_df.to_csv('efficientnetb0_training_history.csv', index=False)\n",
    "print(\"\\n💾 EfficientNetB0 training history saved to 'efficientnetb0_training_history.csv'\")\n",
    "\n",
    "# Training Summary\n",
    "print(f\"\\n🎉 EfficientNetB0 Training Complete!\")\n",
    "print(f\"Total Training Time: {total_training_time:.2f}s ({total_training_time/60:.1f} minutes)\")\n",
    "print(f\"Average Epoch Time: {np.mean(epoch_times):.2f}s\")\n",
    "print(\"\\n⏱️  Epoch Timing Breakdown:\")\n",
    "for i, t in enumerate(epoch_times):\n",
    "    print(f\"│ Epoch {i+1}: {t:.2f}s\")\n",
    "\n",
    "# -----------------------------\n",
    "# 5. Load Best Model and Test\n",
    "# -----------------------------\n",
    "print(f\"\\n🧪 Loading Best EfficientNetB0 Model for Testing...\")\n",
    "\n",
    "# Load the best model state\n",
    "if best_model_state is not None:\n",
    "    model.load_state_dict(best_model_state)\n",
    "    print(f\"✅ Best EfficientNetB0 model from epoch {best_epoch} loaded successfully!\")\n",
    "else:\n",
    "    print(\"⚠️  No best model found, using current model state\")\n",
    "\n",
    "test_start_time = time.time()\n",
    "y_true, y_pred = [], []\n",
    "model.eval()\n",
    "\n",
    "test_pbar = tqdm(test_loader, desc=\"Testing EfficientNetB0\", \n",
    "                bar_format='{l_bar}{bar:30}{r_bar}{bar:-30b}')\n",
    "\n",
    "with torch.no_grad():\n",
    "    for imgs, labels in test_pbar:\n",
    "        imgs, labels = imgs.to(device), labels.to(device)\n",
    "        outputs = model(imgs)\n",
    "        _, preds = torch.max(outputs, 1)\n",
    "        y_true.extend(labels.cpu().numpy())\n",
    "        y_pred.extend(preds.cpu().numpy())\n",
    "\n",
    "test_time = time.time() - test_start_time\n",
    "test_accuracy = accuracy_score(y_true, y_pred)\n",
    "\n",
    "print(f\"✅ EfficientNetB0 Testing completed in {test_time:.2f}s\")\n",
    "print(\"\\n📋 EfficientNetB0 Classification Report:\")\n",
    "print(classification_report(y_true, y_pred, target_names=classes))\n",
    "print(f\"🎯 EfficientNetB0 Test Accuracy: {test_accuracy:.4f}\")\n",
    "\n",
    "# Model Performance Summary\n",
    "print(f\"\\n📊 EfficientNetB0 Model Performance Summary:\")\n",
    "print(f\"│ Best Validation Acc:  {best_val_acc:.4f} (Epoch {best_epoch})\")\n",
    "print(f\"│ Final Test Accuracy:  {test_accuracy:.4f}\")\n",
    "print(f\"│ Val-Test Gap:         {abs(best_val_acc - test_accuracy):.4f}\")\n",
    "\n",
    "# Confusion Matrix\n",
    "cm = confusion_matrix(y_true, y_pred)\n",
    "plt.figure(figsize=(8, 6))\n",
    "sns.heatmap(cm, annot=True, fmt=\"d\", cmap=\"Purples\", xticklabels=classes, yticklabels=classes)\n",
    "plt.xlabel(\"Predicted\")\n",
    "plt.ylabel(\"True\")\n",
    "plt.title(f\"EfficientNetB0 Confusion Matrix - Best Model (Epoch {best_epoch})\")\n",
    "plt.show()\n",
    "\n",
    "# -----------------------------\n",
    "# 6. Enhanced Visualizations\n",
    "# -----------------------------\n",
    "plt.figure(figsize=(20, 5))\n",
    "\n",
    "# Loss Plot\n",
    "plt.subplot(1, 4, 1)\n",
    "plt.plot(range(1, epochs+1), train_losses, 'b-', label=\"Train Loss\", marker='o', linewidth=2)\n",
    "plt.plot(range(1, epochs+1), val_losses, 'r-', label=\"Val Loss\", marker='s', linewidth=2)\n",
    "plt.axvline(x=best_epoch, color='purple', linestyle='--', alpha=0.7, label=f'Best (Epoch {best_epoch})')\n",
    "plt.legend()\n",
    "plt.title(\"EfficientNetB0 Loss over Epochs\")\n",
    "plt.xlabel(\"Epoch\")\n",
    "plt.ylabel(\"Loss\")\n",
    "plt.grid(True, alpha=0.3)\n",
    "\n",
    "# Accuracy Plot\n",
    "plt.subplot(1, 4, 2)\n",
    "plt.plot(range(1, epochs+1), train_accs, 'b-', label=\"Train Accuracy\", marker='o', linewidth=2)\n",
    "plt.plot(range(1, epochs+1), val_accs, 'r-', label=\"Val Accuracy\", marker='s', linewidth=2)\n",
    "plt.axvline(x=best_epoch, color='purple', linestyle='--', alpha=0.7, label=f'Best (Epoch {best_epoch})')\n",
    "plt.scatter([best_epoch], [best_val_acc], color='purple', s=100, zorder=5)\n",
    "plt.legend()\n",
    "plt.title(\"EfficientNetB0 Accuracy over Epochs\")\n",
    "plt.xlabel(\"Epoch\")\n",
    "plt.ylabel(\"Accuracy\")\n",
    "plt.grid(True, alpha=0.3)\n",
    "\n",
    "# Timing Plot\n",
    "plt.subplot(1, 4, 3)\n",
    "bars = plt.bar(range(1, epochs+1), epoch_times, color='plum', alpha=0.7)\n",
    "bars[best_epoch-1].set_color('purple')\n",
    "plt.title(\"EfficientNetB0 Training Time per Epoch\")\n",
    "plt.xlabel(\"Epoch\")\n",
    "plt.ylabel(\"Time (seconds)\")\n",
    "plt.grid(True, alpha=0.3)\n",
    "for i, t in enumerate(epoch_times):\n",
    "    plt.text(i+1, t+0.5, f'{t:.1f}s', ha='center', va='bottom')\n",
    "\n",
    "# Performance Comparison\n",
    "plt.subplot(1, 4, 4)\n",
    "metrics = ['Best Val Acc', 'Test Acc']\n",
    "values = [best_val_acc, test_accuracy]\n",
    "colors = ['plum', 'purple']\n",
    "bars = plt.bar(metrics, values, color=colors, alpha=0.7)\n",
    "plt.title(\"EfficientNetB0 Final Model Performance\")\n",
    "plt.ylabel(\"Accuracy\")\n",
    "plt.ylim(0, 1)\n",
    "plt.grid(True, alpha=0.3)\n",
    "for bar, val in zip(bars, values):\n",
    "    plt.text(bar.get_x() + bar.get_width()/2, val + 0.01, \n",
    "             f'{val:.4f}', ha='center', va='bottom')\n",
    "\n",
    "plt.tight_layout()\n",
    "plt.show()\n",
    "\n",
    "print(f\"\\n⏰ EfficientNetB0 Final Timing Summary:\")\n",
    "print(f\"│ Total Training: {total_training_time:.2f}s\")\n",
    "print(f\"│ Average per Epoch: {np.mean(epoch_times):.2f}s\")\n",
    "print(f\"│ Testing Time: {test_time:.2f}s\")\n",
    "print(f\"│ Total Runtime: {total_training_time + test_time:.2f}s\")\n",
    "\n",
    "print(f\"\\n💾 EfficientNetB0 Files saved:\")\n",
    "print(f\"│ best_efficientnetb0_model.pth - Best validation accuracy model\")\n",
    "print(f\"│ efficientnetb0_training_history.csv - Training metrics for later plotting\")\n",
    "\n",
    "# -----------------------------\n",
    "# 7. EfficientNetB0 Architecture Summary\n",
    "# -----------------------------\n",
    "print(f\"\\n🏗️  EfficientNetB0 Architecture Summary:\")\n",
    "print(f\"│ Total Parameters: {sum(p.numel() for p in model.parameters()):,}\")\n",
    "print(f\"│ Trainable Parameters: {sum(p.numel() for p in model.parameters() if p.requires_grad):,}\")\n",
    "print(f\"│ Model Size: {sum(p.numel() * p.element_size() for p in model.parameters()) / 1024**2:.2f} MB\")\n",
    "print(f\"│ Input Size: 224x224x3\")\n",
    "print(f\"│ Output Classes: {len(classes)}\")\n",
    "print(f\"│ Width Coefficient: 1.0\")\n",
    "print(f\"│ Depth Coefficient: 1.0\")\n",
    "print(f\"│ Dropout Rate: 0.2\")\n",
    "print(f\"│ Drop Connect Rate: 0.2\")\n",
    "print(f\"│ MBConv Blocks: {len(model.blocks)}\")\n",
    "print(f\"│ Squeeze-and-Excitation: Yes\")\n",
    "print(f\"│ Swish Activation: Yes\")\n",
    "print(f\"│ Stochastic Depth: Yes\")"
   ]
  }
 ],
 "metadata": {
  "kaggle": {
   "accelerator": "nvidiaTeslaT4",
   "dataSources": [
    {
     "datasetId": 7735666,
     "sourceId": 12275446,
     "sourceType": "datasetVersion"
    }
   ],
   "dockerImageVersionId": 31090,
   "isGpuEnabled": true,
   "isInternetEnabled": true,
   "language": "python",
   "sourceType": "notebook"
  },
  "kernelspec": {
   "display_name": "Python 3",
   "language": "python",
   "name": "python3"
  },
  "language_info": {
   "codemirror_mode": {
    "name": "ipython",
    "version": 3
   },
   "file_extension": ".py",
   "mimetype": "text/x-python",
   "name": "python",
   "nbconvert_exporter": "python",
   "pygments_lexer": "ipython3",
   "version": "3.11.13"
  },
  "papermill": {
   "default_parameters": {},
   "duration": 6871.415412,
   "end_time": "2025-09-07T06:53:02.949246",
   "environment_variables": {},
   "exception": null,
   "input_path": "__notebook__.ipynb",
   "output_path": "__notebook__.ipynb",
   "parameters": {},
   "start_time": "2025-09-07T04:58:31.533834",
   "version": "2.6.0"
  }
 },
 "nbformat": 4,
 "nbformat_minor": 5
}
