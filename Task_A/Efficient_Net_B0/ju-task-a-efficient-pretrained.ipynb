{
 "cells": [
  {
   "cell_type": "code",
   "execution_count": 1,
   "id": "64188c45",
   "metadata": {
    "_cell_guid": "b1076dfc-b9ad-4769-8c92-a6c4dae69d19",
    "_uuid": "8f2839f25d086af736a60e9eeb907d3b93b6e0e5",
    "execution": {
     "iopub.execute_input": "2025-09-07T07:23:05.701609Z",
     "iopub.status.busy": "2025-09-07T07:23:05.701390Z",
     "iopub.status.idle": "2025-09-07T07:23:22.220023Z",
     "shell.execute_reply": "2025-09-07T07:23:22.219183Z"
    },
    "papermill": {
     "duration": 16.523644,
     "end_time": "2025-09-07T07:23:22.221247",
     "exception": false,
     "start_time": "2025-09-07T07:23:05.697603",
     "status": "completed"
    },
    "tags": []
   },
   "outputs": [
    {
     "name": "stdout",
     "output_type": "stream",
     "text": [
      "Classes: ['Batting', 'Bowling', 'Fielding', 'Umpire']\n"
     ]
    }
   ],
   "source": [
    "import torch\n",
    "import torch.nn as nn\n",
    "import torch.nn.functional as F\n",
    "from torch.utils.data import DataLoader\n",
    "from torchvision import datasets, transforms\n",
    "from torchsummary import summary\n",
    "import matplotlib.pyplot as plt\n",
    "from sklearn.metrics import classification_report, confusion_matrix, accuracy_score\n",
    "import seaborn as sns\n",
    "import numpy as np\n",
    "\n",
    "# -----------------------------\n",
    "# 1. Data Preprocessing\n",
    "# -----------------------------\n",
    "data_dir = \"/kaggle/input/ju-cricket/Cricket_Dataset_final/Task_A\"\n",
    "\n",
    "transform = transforms.Compose([\n",
    "    transforms.Resize((224, 224)),\n",
    "    transforms.ToTensor(),\n",
    "    transforms.Normalize([0.485, 0.456, 0.406], \n",
    "                         [0.229, 0.224, 0.225])\n",
    "])\n",
    "\n",
    "train_ds = datasets.ImageFolder(f\"{data_dir}/train\", transform=transform)\n",
    "val_ds   = datasets.ImageFolder(f\"{data_dir}/val\", transform=transform)\n",
    "test_ds  = datasets.ImageFolder(f\"{data_dir}/test\", transform=transform)\n",
    "\n",
    "train_loader = DataLoader(train_ds, batch_size=32, shuffle=True)\n",
    "val_loader   = DataLoader(val_ds, batch_size=32, shuffle=False)\n",
    "test_loader  = DataLoader(test_ds, batch_size=32, shuffle=False)\n",
    "\n",
    "classes = train_ds.classes\n",
    "print(\"Classes:\", classes)"
   ]
  },
  {
   "cell_type": "code",
   "execution_count": 2,
   "id": "6e9700d6",
   "metadata": {
    "execution": {
     "iopub.execute_input": "2025-09-07T07:23:22.227449Z",
     "iopub.status.busy": "2025-09-07T07:23:22.226861Z",
     "iopub.status.idle": "2025-09-07T07:23:22.231516Z",
     "shell.execute_reply": "2025-09-07T07:23:22.230677Z"
    },
    "papermill": {
     "duration": 0.008644,
     "end_time": "2025-09-07T07:23:22.232559",
     "exception": false,
     "start_time": "2025-09-07T07:23:22.223915",
     "status": "completed"
    },
    "tags": []
   },
   "outputs": [
    {
     "name": "stdout",
     "output_type": "stream",
     "text": [
      "Total training images: 11169\n",
      "Total validation images: 2898\n",
      "Total test images: 3627\n",
      "Total images in dataset: 17694\n"
     ]
    }
   ],
   "source": [
    "print(\"Total training images:\", len(train_ds))\n",
    "print(\"Total validation images:\", len(val_ds))\n",
    "print(\"Total test images:\", len(test_ds))\n",
    "\n",
    "total_images = len(train_ds) + len(val_ds) + len(test_ds)\n",
    "print(\"Total images in dataset:\", total_images)"
   ]
  },
  {
   "cell_type": "code",
   "execution_count": 3,
   "id": "0c9ab6e5",
   "metadata": {
    "execution": {
     "iopub.execute_input": "2025-09-07T07:23:22.238100Z",
     "iopub.status.busy": "2025-09-07T07:23:22.237574Z",
     "iopub.status.idle": "2025-09-07T07:23:22.251306Z",
     "shell.execute_reply": "2025-09-07T07:23:22.250674Z"
    },
    "papermill": {
     "duration": 0.01741,
     "end_time": "2025-09-07T07:23:22.252217",
     "exception": false,
     "start_time": "2025-09-07T07:23:22.234807",
     "status": "completed"
    },
    "tags": []
   },
   "outputs": [
    {
     "name": "stdout",
     "output_type": "stream",
     "text": [
      "Training images (excluding 'random_occlusion'): 9928\n",
      "Validation images (excluding 'random_occlusion'): 2576\n",
      "Test images (excluding 'random_occlusion'): 3224\n",
      "Total images (excluding 'random_occlusion'): 15728\n"
     ]
    }
   ],
   "source": [
    "ignore_folder = \"random_occlusion\"\n",
    "\n",
    "def count_images_ignore_folder(dataset, ignore_folder):\n",
    "    count = 0\n",
    "    for img_path, label in dataset.samples:\n",
    "        # Skip if the image path contains the ignore_folder\n",
    "        if ignore_folder not in img_path.split(\"/\"):\n",
    "            count += 1\n",
    "    return count\n",
    "\n",
    "train_count = count_images_ignore_folder(train_ds, ignore_folder)\n",
    "val_count   = count_images_ignore_folder(val_ds, ignore_folder)\n",
    "test_count  = count_images_ignore_folder(test_ds, ignore_folder)\n",
    "\n",
    "total_count = train_count + val_count + test_count\n",
    "\n",
    "print(\"Training images (excluding '{}'): {}\".format(ignore_folder, train_count))\n",
    "print(\"Validation images (excluding '{}'): {}\".format(ignore_folder, val_count))\n",
    "print(\"Test images (excluding '{}'): {}\".format(ignore_folder, test_count))\n",
    "print(\"Total images (excluding '{}'): {}\".format(ignore_folder, total_count))"
   ]
  },
  {
   "cell_type": "code",
   "execution_count": 4,
   "id": "f63dea50",
   "metadata": {
    "execution": {
     "iopub.execute_input": "2025-09-07T07:23:22.257496Z",
     "iopub.status.busy": "2025-09-07T07:23:22.257301Z",
     "iopub.status.idle": "2025-09-07T07:23:22.278413Z",
     "shell.execute_reply": "2025-09-07T07:23:22.277703Z"
    },
    "papermill": {
     "duration": 0.024872,
     "end_time": "2025-09-07T07:23:22.279364",
     "exception": false,
     "start_time": "2025-09-07T07:23:22.254492",
     "status": "completed"
    },
    "tags": []
   },
   "outputs": [
    {
     "name": "stdout",
     "output_type": "stream",
     "text": [
      "Training folders considered: {'dirty_lens', 'original', 'low_resolution', 'chromatic_aberration', 'random_occlusion', 'motion_blur', 'lens_flare', 'gaussian_noise', 'blur'}\n",
      "Validation folders considered: {'dirty_lens', 'original', 'low_resolution', 'chromatic_aberration', 'random_occlusion', 'motion_blur', 'lens_flare', 'gaussian_noise', 'blur'}\n",
      "Test folders considered: {'dirty_lens', 'original', 'low_resolution', 'chromatic_aberration', 'random_occlusion', 'motion_blur', 'lens_flare', 'gaussian_noise', 'blur'}\n"
     ]
    }
   ],
   "source": [
    "ignore_folder = \"random_occlusionw\"\n",
    "\n",
    "def get_included_folders(dataset, ignore_folder):\n",
    "    included = set()\n",
    "    for img_path, label in dataset.samples:\n",
    "        # Split the path into parts and ignore if ignore_folder is in the path\n",
    "        if ignore_folder not in img_path.split(\"/\"):\n",
    "            # The folder name just above the image (or the class folder)\n",
    "            folder_name = img_path.split(\"/\")[-2]\n",
    "            included.add(folder_name)\n",
    "    return included\n",
    "\n",
    "train_folders = get_included_folders(train_ds, ignore_folder)\n",
    "val_folders   = get_included_folders(val_ds, ignore_folder)\n",
    "test_folders  = get_included_folders(test_ds, ignore_folder)\n",
    "\n",
    "print(\"Training folders considered:\", train_folders)\n",
    "print(\"Validation folders considered:\", val_folders)\n",
    "print(\"Test folders considered:\", test_folders)"
   ]
  },
  {
   "cell_type": "code",
   "execution_count": 5,
   "id": "91a0944d",
   "metadata": {
    "execution": {
     "iopub.execute_input": "2025-09-07T07:23:22.284459Z",
     "iopub.status.busy": "2025-09-07T07:23:22.284283Z",
     "iopub.status.idle": "2025-09-07T07:23:23.197646Z",
     "shell.execute_reply": "2025-09-07T07:23:23.196819Z"
    },
    "papermill": {
     "duration": 0.917286,
     "end_time": "2025-09-07T07:23:23.198864",
     "exception": false,
     "start_time": "2025-09-07T07:23:22.281578",
     "status": "completed"
    },
    "tags": []
   },
   "outputs": [
    {
     "name": "stdout",
     "output_type": "stream",
     "text": [
      "Classes: ['Batting', 'Bowling', 'Fielding', 'Umpire']\n",
      "Final Training images: 9928\n",
      "Final Validation images: 2576\n",
      "Final Test images: 3224\n",
      "Total images after filtering: 15728\n"
     ]
    }
   ],
   "source": [
    "ignore_folder = \"random_occlusion\"\n",
    "\n",
    "def filter_samples(dataset, ignore_folder):\n",
    "    # Keep only samples where ignore_folder is NOT in the path\n",
    "    filtered_samples = [s for s in dataset.samples if ignore_folder not in s[0].split(\"/\")]\n",
    "    dataset.samples = filtered_samples\n",
    "    dataset.targets = [s[1] for s in filtered_samples]  # Update targets accordingly\n",
    "    return dataset\n",
    "\n",
    "# Create original datasets\n",
    "train_ds = datasets.ImageFolder(f\"{data_dir}/train\", transform=transform)\n",
    "val_ds   = datasets.ImageFolder(f\"{data_dir}/val\", transform=transform)\n",
    "test_ds  = datasets.ImageFolder(f\"{data_dir}/test\", transform=transform)\n",
    "\n",
    "# Filter out 'random_occlusion' folder\n",
    "train_ds = filter_samples(train_ds, ignore_folder)\n",
    "val_ds   = filter_samples(val_ds, ignore_folder)\n",
    "test_ds  = filter_samples(test_ds, ignore_folder)\n",
    "\n",
    "# DataLoaders\n",
    "train_loader = DataLoader(train_ds, batch_size=32, shuffle=True)\n",
    "val_loader   = DataLoader(val_ds, batch_size=32, shuffle=False)\n",
    "test_loader  = DataLoader(test_ds, batch_size=32, shuffle=False)\n",
    "\n",
    "# Classes (will remain the same)\n",
    "classes = train_ds.classes\n",
    "print(\"Classes:\", classes)\n",
    "\n",
    "# Show counts\n",
    "print(\"Final Training images:\", len(train_ds))\n",
    "print(\"Final Validation images:\", len(val_ds))\n",
    "print(\"Final Test images:\", len(test_ds))\n",
    "print(\"Total images after filtering:\", len(train_ds) + len(val_ds) + len(test_ds))"
   ]
  },
  {
   "cell_type": "code",
   "execution_count": 6,
   "id": "772529e2",
   "metadata": {
    "execution": {
     "iopub.execute_input": "2025-09-07T07:23:23.204577Z",
     "iopub.status.busy": "2025-09-07T07:23:23.204376Z",
     "iopub.status.idle": "2025-09-07T07:23:23.223418Z",
     "shell.execute_reply": "2025-09-07T07:23:23.222824Z"
    },
    "papermill": {
     "duration": 0.022916,
     "end_time": "2025-09-07T07:23:23.224340",
     "exception": false,
     "start_time": "2025-09-07T07:23:23.201424",
     "status": "completed"
    },
    "tags": []
   },
   "outputs": [
    {
     "name": "stdout",
     "output_type": "stream",
     "text": [
      "Training folders considered: {'dirty_lens', 'original', 'low_resolution', 'chromatic_aberration', 'motion_blur', 'lens_flare', 'gaussian_noise', 'blur'}\n",
      "Validation folders considered: {'dirty_lens', 'original', 'low_resolution', 'chromatic_aberration', 'motion_blur', 'lens_flare', 'gaussian_noise', 'blur'}\n",
      "Test folders considered: {'dirty_lens', 'original', 'low_resolution', 'chromatic_aberration', 'motion_blur', 'lens_flare', 'gaussian_noise', 'blur'}\n"
     ]
    }
   ],
   "source": [
    "ignore_folder = \"random_occlusion\"\n",
    "\n",
    "def get_included_folders(dataset, ignore_folder):\n",
    "    included = set()\n",
    "    for img_path, label in dataset.samples:\n",
    "        # Split the path into parts and ignore if ignore_folder is in the path\n",
    "        if ignore_folder not in img_path.split(\"/\"):\n",
    "            # The folder name just above the image (or the class folder)\n",
    "            folder_name = img_path.split(\"/\")[-2]\n",
    "            included.add(folder_name)\n",
    "    return included\n",
    "\n",
    "train_folders = get_included_folders(train_ds, ignore_folder)\n",
    "val_folders   = get_included_folders(val_ds, ignore_folder)\n",
    "test_folders  = get_included_folders(test_ds, ignore_folder)\n",
    "\n",
    "print(\"Training folders considered:\", train_folders)\n",
    "print(\"Validation folders considered:\", val_folders)\n",
    "print(\"Test folders considered:\", test_folders)"
   ]
  },
  {
   "cell_type": "code",
   "execution_count": 7,
   "id": "a62930ea",
   "metadata": {
    "execution": {
     "iopub.execute_input": "2025-09-07T07:23:23.230164Z",
     "iopub.status.busy": "2025-09-07T07:23:23.229831Z",
     "iopub.status.idle": "2025-09-07T07:23:24.076367Z",
     "shell.execute_reply": "2025-09-07T07:23:24.075500Z"
    },
    "papermill": {
     "duration": 0.850772,
     "end_time": "2025-09-07T07:23:24.077479",
     "exception": false,
     "start_time": "2025-09-07T07:23:23.226707",
     "status": "completed"
    },
    "tags": []
   },
   "outputs": [
    {
     "name": "stdout",
     "output_type": "stream",
     "text": [
      "🔄 Loading and filtering datasets for EfficientNet-B0...\n",
      "✅ Classes: ['Batting', 'Bowling', 'Fielding', 'Umpire']\n",
      "📊 Dataset Statistics:\n",
      "│ Training images: 9928\n",
      "│ Validation images: 2576\n",
      "│ Test images: 3224\n",
      "│ Total images (after filtering): 15728\n",
      "│ Excluded folder: 'random_occlusion'\n",
      "│ Number of classes: 4\n",
      "Using device: cuda\n",
      "🔄 Loading pretrained EfficientNet-B0 from ImageNet...\n"
     ]
    },
    {
     "name": "stderr",
     "output_type": "stream",
     "text": [
      "/usr/local/lib/python3.11/dist-packages/torchvision/models/_utils.py:208: UserWarning: The parameter 'pretrained' is deprecated since 0.13 and may be removed in the future, please use 'weights' instead.\n",
      "  warnings.warn(\n",
      "/usr/local/lib/python3.11/dist-packages/torchvision/models/_utils.py:223: UserWarning: Arguments other than a weight enum or `None` for 'weights' are deprecated since 0.13 and may be removed in the future. The current behavior is equivalent to passing `weights=EfficientNet_B0_Weights.IMAGENET1K_V1`. You can also use `weights=EfficientNet_B0_Weights.DEFAULT` to get the most up-to-date weights.\n",
      "  warnings.warn(msg)\n",
      "Downloading: \"https://download.pytorch.org/models/efficientnet_b0_rwightman-7f5810bc.pth\" to /root/.cache/torch/hub/checkpoints/efficientnet_b0_rwightman-7f5810bc.pth\n",
      "100%|██████████| 20.5M/20.5M [00:00<00:00, 175MB/s]\n"
     ]
    },
    {
     "name": "stdout",
     "output_type": "stream",
     "text": [
      "✅ Model loaded with 4 output classes\n",
      "📊 Total parameters: 4,012,672\n",
      "📊 Trainable parameters: 4,012,672\n",
      "📊 Model file size: 15.59 MB\n",
      "📋 Model Architecture:\n",
      "│ Input size: (3, 224, 224)\n",
      "│ EfficientNet-B0 features: 1280\n",
      "│ Output classes: 4\n",
      "│ Compound scaling: Depth/Width/Resolution optimized\n"
     ]
    }
   ],
   "source": [
    "import torch\n",
    "import torch.nn as nn\n",
    "import torch.nn.functional as F\n",
    "import torch.optim as optim\n",
    "from torch.utils.data import DataLoader\n",
    "from torchvision import datasets, transforms, models\n",
    "import matplotlib.pyplot as plt\n",
    "from sklearn.metrics import classification_report, confusion_matrix, accuracy_score\n",
    "import seaborn as sns\n",
    "import numpy as np\n",
    "import pandas as pd\n",
    "from tqdm import tqdm\n",
    "import time\n",
    "import os\n",
    "import tempfile\n",
    "\n",
    "# -----------------------------\n",
    "# 1. Data Preprocessing with Filtering (EfficientNet-B0 - 224x224)\n",
    "# -----------------------------\n",
    "data_dir = \"/kaggle/input/ju-cricket/Cricket_Dataset_final/Task_A\"\n",
    "\n",
    "# EfficientNet-B0 uses 224x224 input size (same as ResNet/DenseNet)\n",
    "transform = transforms.Compose([\n",
    "    transforms.Resize((224, 224)),  # EfficientNet-B0 input size\n",
    "    transforms.ToTensor(),\n",
    "    transforms.Normalize([0.485, 0.456, 0.406], \n",
    "                         [0.229, 0.224, 0.225])\n",
    "])\n",
    "\n",
    "ignore_folder = \"random_occlusion\"\n",
    "\n",
    "def filter_samples(dataset, ignore_folder):\n",
    "    \"\"\"Filter out samples containing the ignore_folder in their path\"\"\"\n",
    "    filtered_samples = [s for s in dataset.samples if ignore_folder not in s[0].split(\"/\")]\n",
    "    dataset.samples = filtered_samples\n",
    "    dataset.targets = [s[1] for s in filtered_samples]\n",
    "    return dataset\n",
    "\n",
    "# Create and filter datasets\n",
    "print(\"🔄 Loading and filtering datasets for EfficientNet-B0...\")\n",
    "train_ds = datasets.ImageFolder(f\"{data_dir}/train\", transform=transform)\n",
    "val_ds   = datasets.ImageFolder(f\"{data_dir}/val\", transform=transform)\n",
    "test_ds  = datasets.ImageFolder(f\"{data_dir}/test\", transform=transform)\n",
    "\n",
    "# Apply filtering\n",
    "train_ds = filter_samples(train_ds, ignore_folder)\n",
    "val_ds   = filter_samples(val_ds, ignore_folder)\n",
    "test_ds  = filter_samples(test_ds, ignore_folder)\n",
    "\n",
    "# Create DataLoaders\n",
    "train_loader = DataLoader(train_ds, batch_size=32, shuffle=True)\n",
    "val_loader   = DataLoader(val_ds, batch_size=32, shuffle=False)\n",
    "test_loader  = DataLoader(test_ds, batch_size=32, shuffle=False)\n",
    "\n",
    "# Display information\n",
    "classes = train_ds.classes\n",
    "print(f\"✅ Classes: {classes}\")\n",
    "print(f\"📊 Dataset Statistics:\")\n",
    "print(f\"│ Training images: {len(train_ds)}\")\n",
    "print(f\"│ Validation images: {len(val_ds)}\")\n",
    "print(f\"│ Test images: {len(test_ds)}\")\n",
    "print(f\"│ Total images (after filtering): {len(train_ds) + len(val_ds) + len(test_ds)}\")\n",
    "print(f\"│ Excluded folder: '{ignore_folder}'\")\n",
    "print(f\"│ Number of classes: {len(classes)}\")\n",
    "\n",
    "# -----------------------------\n",
    "# 2. Pretrained EfficientNet-B0 Model\n",
    "# -----------------------------\n",
    "device = torch.device('cuda' if torch.cuda.is_available() else 'cpu')\n",
    "print(f\"Using device: {device}\")\n",
    "\n",
    "# Load pretrained EfficientNet-B0\n",
    "print(\"🔄 Loading pretrained EfficientNet-B0 from ImageNet...\")\n",
    "model = models.efficientnet_b0(pretrained=True)\n",
    "\n",
    "# Replace final classification layer\n",
    "# EfficientNet-B0 uses model.classifier (similar to DenseNet)\n",
    "num_features = model.classifier[1].in_features  # Get input features (1280)\n",
    "model.classifier[1] = nn.Linear(num_features, len(classes))  # Replace final layer\n",
    "model = model.to(device)\n",
    "\n",
    "print(f\"✅ Model loaded with {len(classes)} output classes\")\n",
    "\n",
    "# Calculate model parameters and size\n",
    "total_params = sum(p.numel() for p in model.parameters())\n",
    "trainable_params = sum(p.numel() for p in model.parameters() if p.requires_grad)\n",
    "\n",
    "# Calculate model file size\n",
    "with tempfile.NamedTemporaryFile(delete=False, suffix='.pth') as tmp_file:\n",
    "    torch.save(model.state_dict(), tmp_file.name)\n",
    "    model_size_mb = os.path.getsize(tmp_file.name) / (1024 * 1024)\n",
    "    os.unlink(tmp_file.name)\n",
    "\n",
    "print(f\"📊 Total parameters: {total_params:,}\")\n",
    "print(f\"📊 Trainable parameters: {trainable_params:,}\")\n",
    "print(f\"📊 Model file size: {model_size_mb:.2f} MB\")\n",
    "print(f\"📋 Model Architecture:\")\n",
    "print(f\"│ Input size: (3, 224, 224)\")\n",
    "print(f\"│ EfficientNet-B0 features: 1280\")\n",
    "print(f\"│ Output classes: {len(classes)}\")\n",
    "print(f\"│ Compound scaling: Depth/Width/Resolution optimized\")\n"
   ]
  },
  {
   "cell_type": "code",
   "execution_count": 8,
   "id": "222f325b",
   "metadata": {
    "execution": {
     "iopub.execute_input": "2025-09-07T07:23:24.084659Z",
     "iopub.status.busy": "2025-09-07T07:23:24.084418Z",
     "iopub.status.idle": "2025-09-07T09:07:51.215433Z",
     "shell.execute_reply": "2025-09-07T09:07:51.214793Z"
    },
    "papermill": {
     "duration": 6267.137411,
     "end_time": "2025-09-07T09:07:51.218028",
     "exception": false,
     "start_time": "2025-09-07T07:23:24.080617",
     "status": "completed"
    },
    "tags": []
   },
   "outputs": [
    {
     "name": "stdout",
     "output_type": "stream",
     "text": [
      "\n",
      "📋 Training Configuration:\n",
      "│ Model: EfficientNet-B0 (pretrained)\n",
      "│ Optimizer: Adam (lr=0.0001)\n",
      "│ Loss Function: CrossEntropyLoss\n",
      "│ Batch Size: 32\n",
      "│ Device: cuda\n",
      "│ Data: Filtered (excluding 'random_occlusion')\n",
      "\n",
      "🚀 Starting EfficientNet-B0 Fine-tuning for 50 epochs...\n",
      "================================================================================\n",
      "\n",
      "📈 Epoch 1/50\n",
      "--------------------------------------------------\n",
      "🔄 Training Phase...\n"
     ]
    },
    {
     "name": "stderr",
     "output_type": "stream",
     "text": [
      "Training: 100%|██████████████████████████████| 311/311 [02:18<00:00,  2.25it/s, Loss=0.5109, Acc=0.8164, GPU=0.1GB]\n"
     ]
    },
    {
     "name": "stdout",
     "output_type": "stream",
     "text": [
      "✅ Training completed in 138.05s\n",
      "🔍 Validation Phase...\n"
     ]
    },
    {
     "name": "stderr",
     "output_type": "stream",
     "text": [
      "Validation: 100%|██████████████████████████████| 81/81 [00:28<00:00,  2.87it/s, Loss=0.3249, Acc=0.8738]\n"
     ]
    },
    {
     "name": "stdout",
     "output_type": "stream",
     "text": [
      "✅ Validation completed in 28.18s\n",
      "🌟 New best model found! Validation Loss: 0.3249\n",
      "\n",
      "📊 Epoch 1 Summary:\n",
      "│ Train Loss: 0.5109 | Train Acc: 0.8164\n",
      "│ Val Loss:   0.3249 | Val Acc:   0.8738\n",
      "│ Train Time: 138.05s | Val Time: 28.18s\n",
      "│ Total Epoch Time: 166.24s\n",
      "│ Best Val Loss: 0.3249 (Epoch 1)\n",
      "│ GPU Memory: 0.1GB / 3.2GB\n",
      "================================================================================\n",
      "\n",
      "📈 Epoch 2/50\n",
      "--------------------------------------------------\n",
      "🔄 Training Phase...\n"
     ]
    },
    {
     "name": "stderr",
     "output_type": "stream",
     "text": [
      "Training: 100%|██████████████████████████████| 311/311 [01:43<00:00,  3.00it/s, Loss=0.0932, Acc=0.9725, GPU=0.1GB]\n"
     ]
    },
    {
     "name": "stdout",
     "output_type": "stream",
     "text": [
      "✅ Training completed in 103.75s\n",
      "🔍 Validation Phase...\n"
     ]
    },
    {
     "name": "stderr",
     "output_type": "stream",
     "text": [
      "Validation: 100%|██████████████████████████████| 81/81 [00:19<00:00,  4.23it/s, Loss=0.3321, Acc=0.8890]\n"
     ]
    },
    {
     "name": "stdout",
     "output_type": "stream",
     "text": [
      "✅ Validation completed in 19.16s\n",
      "\n",
      "📊 Epoch 2 Summary:\n",
      "│ Train Loss: 0.0932 | Train Acc: 0.9725\n",
      "│ Val Loss:   0.3321 | Val Acc:   0.8890\n",
      "│ Train Time: 103.75s | Val Time: 19.16s\n",
      "│ Total Epoch Time: 122.91s\n",
      "│ Best Val Loss: 0.3249 (Epoch 1)\n",
      "│ GPU Memory: 0.1GB / 3.2GB\n",
      "================================================================================\n",
      "\n",
      "📈 Epoch 3/50\n",
      "--------------------------------------------------\n",
      "🔄 Training Phase...\n"
     ]
    },
    {
     "name": "stderr",
     "output_type": "stream",
     "text": [
      "Training: 100%|██████████████████████████████| 311/311 [01:43<00:00,  3.01it/s, Loss=0.0416, Acc=0.9877, GPU=0.1GB]\n"
     ]
    },
    {
     "name": "stdout",
     "output_type": "stream",
     "text": [
      "✅ Training completed in 103.36s\n",
      "🔍 Validation Phase...\n"
     ]
    },
    {
     "name": "stderr",
     "output_type": "stream",
     "text": [
      "Validation: 100%|██████████████████████████████| 81/81 [00:20<00:00,  4.02it/s, Loss=0.3422, Acc=0.8956]\n"
     ]
    },
    {
     "name": "stdout",
     "output_type": "stream",
     "text": [
      "✅ Validation completed in 20.13s\n",
      "\n",
      "📊 Epoch 3 Summary:\n",
      "│ Train Loss: 0.0416 | Train Acc: 0.9877\n",
      "│ Val Loss:   0.3422 | Val Acc:   0.8956\n",
      "│ Train Time: 103.36s | Val Time: 20.13s\n",
      "│ Total Epoch Time: 123.49s\n",
      "│ Best Val Loss: 0.3249 (Epoch 1)\n",
      "│ GPU Memory: 0.1GB / 3.2GB\n",
      "================================================================================\n",
      "\n",
      "📈 Epoch 4/50\n",
      "--------------------------------------------------\n",
      "🔄 Training Phase...\n"
     ]
    },
    {
     "name": "stderr",
     "output_type": "stream",
     "text": [
      "Training: 100%|██████████████████████████████| 311/311 [01:44<00:00,  2.97it/s, Loss=0.0266, Acc=0.9925, GPU=0.1GB]\n"
     ]
    },
    {
     "name": "stdout",
     "output_type": "stream",
     "text": [
      "✅ Training completed in 104.70s\n",
      "🔍 Validation Phase...\n"
     ]
    },
    {
     "name": "stderr",
     "output_type": "stream",
     "text": [
      "Validation: 100%|██████████████████████████████| 81/81 [00:19<00:00,  4.18it/s, Loss=0.3700, Acc=0.8940]\n"
     ]
    },
    {
     "name": "stdout",
     "output_type": "stream",
     "text": [
      "✅ Validation completed in 19.38s\n",
      "\n",
      "📊 Epoch 4 Summary:\n",
      "│ Train Loss: 0.0266 | Train Acc: 0.9925\n",
      "│ Val Loss:   0.3700 | Val Acc:   0.8940\n",
      "│ Train Time: 104.70s | Val Time: 19.38s\n",
      "│ Total Epoch Time: 124.09s\n",
      "│ Best Val Loss: 0.3249 (Epoch 1)\n",
      "│ GPU Memory: 0.1GB / 3.2GB\n",
      "================================================================================\n",
      "\n",
      "📈 Epoch 5/50\n",
      "--------------------------------------------------\n",
      "🔄 Training Phase...\n"
     ]
    },
    {
     "name": "stderr",
     "output_type": "stream",
     "text": [
      "Training: 100%|██████████████████████████████| 311/311 [01:43<00:00,  2.99it/s, Loss=0.0183, Acc=0.9954, GPU=0.1GB]\n"
     ]
    },
    {
     "name": "stdout",
     "output_type": "stream",
     "text": [
      "✅ Training completed in 103.84s\n",
      "🔍 Validation Phase...\n"
     ]
    },
    {
     "name": "stderr",
     "output_type": "stream",
     "text": [
      "Validation: 100%|██████████████████████████████| 81/81 [00:19<00:00,  4.11it/s, Loss=0.3658, Acc=0.8909]\n"
     ]
    },
    {
     "name": "stdout",
     "output_type": "stream",
     "text": [
      "✅ Validation completed in 19.70s\n",
      "\n",
      "📊 Epoch 5 Summary:\n",
      "│ Train Loss: 0.0183 | Train Acc: 0.9954\n",
      "│ Val Loss:   0.3658 | Val Acc:   0.8909\n",
      "│ Train Time: 103.84s | Val Time: 19.70s\n",
      "│ Total Epoch Time: 123.55s\n",
      "│ Best Val Loss: 0.3249 (Epoch 1)\n",
      "│ GPU Memory: 0.1GB / 3.2GB\n",
      "================================================================================\n",
      "\n",
      "📈 Epoch 6/50\n",
      "--------------------------------------------------\n",
      "🔄 Training Phase...\n"
     ]
    },
    {
     "name": "stderr",
     "output_type": "stream",
     "text": [
      "Training: 100%|██████████████████████████████| 311/311 [01:44<00:00,  2.98it/s, Loss=0.0160, Acc=0.9954, GPU=0.1GB]\n"
     ]
    },
    {
     "name": "stdout",
     "output_type": "stream",
     "text": [
      "✅ Training completed in 104.43s\n",
      "🔍 Validation Phase...\n"
     ]
    },
    {
     "name": "stderr",
     "output_type": "stream",
     "text": [
      "Validation: 100%|██████████████████████████████| 81/81 [00:19<00:00,  4.10it/s, Loss=0.4068, Acc=0.8952]\n"
     ]
    },
    {
     "name": "stdout",
     "output_type": "stream",
     "text": [
      "✅ Validation completed in 19.75s\n",
      "\n",
      "📊 Epoch 6 Summary:\n",
      "│ Train Loss: 0.0160 | Train Acc: 0.9954\n",
      "│ Val Loss:   0.4068 | Val Acc:   0.8952\n",
      "│ Train Time: 104.43s | Val Time: 19.75s\n",
      "│ Total Epoch Time: 124.19s\n",
      "│ Best Val Loss: 0.3249 (Epoch 1)\n",
      "│ GPU Memory: 0.1GB / 3.2GB\n",
      "================================================================================\n",
      "\n",
      "📈 Epoch 7/50\n",
      "--------------------------------------------------\n",
      "🔄 Training Phase...\n"
     ]
    },
    {
     "name": "stderr",
     "output_type": "stream",
     "text": [
      "Training: 100%|██████████████████████████████| 311/311 [01:45<00:00,  2.96it/s, Loss=0.0185, Acc=0.9949, GPU=0.1GB]\n"
     ]
    },
    {
     "name": "stdout",
     "output_type": "stream",
     "text": [
      "✅ Training completed in 105.17s\n",
      "🔍 Validation Phase...\n"
     ]
    },
    {
     "name": "stderr",
     "output_type": "stream",
     "text": [
      "Validation: 100%|██████████████████████████████| 81/81 [00:20<00:00,  4.00it/s, Loss=0.3932, Acc=0.8979]\n"
     ]
    },
    {
     "name": "stdout",
     "output_type": "stream",
     "text": [
      "✅ Validation completed in 20.24s\n",
      "\n",
      "📊 Epoch 7 Summary:\n",
      "│ Train Loss: 0.0185 | Train Acc: 0.9949\n",
      "│ Val Loss:   0.3932 | Val Acc:   0.8979\n",
      "│ Train Time: 105.17s | Val Time: 20.24s\n",
      "│ Total Epoch Time: 125.41s\n",
      "│ Best Val Loss: 0.3249 (Epoch 1)\n",
      "│ GPU Memory: 0.1GB / 3.2GB\n",
      "================================================================================\n",
      "\n",
      "📈 Epoch 8/50\n",
      "--------------------------------------------------\n",
      "🔄 Training Phase...\n"
     ]
    },
    {
     "name": "stderr",
     "output_type": "stream",
     "text": [
      "Training: 100%|██████████████████████████████| 311/311 [01:44<00:00,  2.97it/s, Loss=0.0175, Acc=0.9939, GPU=0.1GB]\n"
     ]
    },
    {
     "name": "stdout",
     "output_type": "stream",
     "text": [
      "✅ Training completed in 104.78s\n",
      "🔍 Validation Phase...\n"
     ]
    },
    {
     "name": "stderr",
     "output_type": "stream",
     "text": [
      "Validation: 100%|██████████████████████████████| 81/81 [00:19<00:00,  4.11it/s, Loss=0.3564, Acc=0.8987]\n"
     ]
    },
    {
     "name": "stdout",
     "output_type": "stream",
     "text": [
      "✅ Validation completed in 19.71s\n",
      "\n",
      "📊 Epoch 8 Summary:\n",
      "│ Train Loss: 0.0175 | Train Acc: 0.9939\n",
      "│ Val Loss:   0.3564 | Val Acc:   0.8987\n",
      "│ Train Time: 104.78s | Val Time: 19.71s\n",
      "│ Total Epoch Time: 124.49s\n",
      "│ Best Val Loss: 0.3249 (Epoch 1)\n",
      "│ GPU Memory: 0.1GB / 3.2GB\n",
      "================================================================================\n",
      "\n",
      "📈 Epoch 9/50\n",
      "--------------------------------------------------\n",
      "🔄 Training Phase...\n"
     ]
    },
    {
     "name": "stderr",
     "output_type": "stream",
     "text": [
      "Training: 100%|██████████████████████████████| 311/311 [01:45<00:00,  2.95it/s, Loss=0.0063, Acc=0.9985, GPU=0.1GB]\n"
     ]
    },
    {
     "name": "stdout",
     "output_type": "stream",
     "text": [
      "✅ Training completed in 105.29s\n",
      "🔍 Validation Phase...\n"
     ]
    },
    {
     "name": "stderr",
     "output_type": "stream",
     "text": [
      "Validation: 100%|██████████████████████████████| 81/81 [00:19<00:00,  4.15it/s, Loss=0.3522, Acc=0.9080]\n"
     ]
    },
    {
     "name": "stdout",
     "output_type": "stream",
     "text": [
      "✅ Validation completed in 19.53s\n",
      "\n",
      "📊 Epoch 9 Summary:\n",
      "│ Train Loss: 0.0063 | Train Acc: 0.9985\n",
      "│ Val Loss:   0.3522 | Val Acc:   0.9080\n",
      "│ Train Time: 105.29s | Val Time: 19.53s\n",
      "│ Total Epoch Time: 124.82s\n",
      "│ Best Val Loss: 0.3249 (Epoch 1)\n",
      "│ GPU Memory: 0.1GB / 3.2GB\n",
      "================================================================================\n",
      "\n",
      "📈 Epoch 10/50\n",
      "--------------------------------------------------\n",
      "🔄 Training Phase...\n"
     ]
    },
    {
     "name": "stderr",
     "output_type": "stream",
     "text": [
      "Training: 100%|██████████████████████████████| 311/311 [01:46<00:00,  2.93it/s, Loss=0.0051, Acc=0.9989, GPU=0.1GB]\n"
     ]
    },
    {
     "name": "stdout",
     "output_type": "stream",
     "text": [
      "✅ Training completed in 106.24s\n",
      "🔍 Validation Phase...\n"
     ]
    },
    {
     "name": "stderr",
     "output_type": "stream",
     "text": [
      "Validation: 100%|██████████████████████████████| 81/81 [00:19<00:00,  4.06it/s, Loss=0.3975, Acc=0.8971]\n"
     ]
    },
    {
     "name": "stdout",
     "output_type": "stream",
     "text": [
      "✅ Validation completed in 19.95s\n",
      "\n",
      "📊 Epoch 10 Summary:\n",
      "│ Train Loss: 0.0051 | Train Acc: 0.9989\n",
      "│ Val Loss:   0.3975 | Val Acc:   0.8971\n",
      "│ Train Time: 106.24s | Val Time: 19.95s\n",
      "│ Total Epoch Time: 126.20s\n",
      "│ Best Val Loss: 0.3249 (Epoch 1)\n",
      "│ GPU Memory: 0.1GB / 3.2GB\n",
      "================================================================================\n",
      "\n",
      "📈 Epoch 11/50\n",
      "--------------------------------------------------\n",
      "🔄 Training Phase...\n"
     ]
    },
    {
     "name": "stderr",
     "output_type": "stream",
     "text": [
      "Training: 100%|██████████████████████████████| 311/311 [01:44<00:00,  2.97it/s, Loss=0.0079, Acc=0.9981, GPU=0.1GB]\n"
     ]
    },
    {
     "name": "stdout",
     "output_type": "stream",
     "text": [
      "✅ Training completed in 104.64s\n",
      "🔍 Validation Phase...\n"
     ]
    },
    {
     "name": "stderr",
     "output_type": "stream",
     "text": [
      "Validation: 100%|██████████████████████████████| 81/81 [00:19<00:00,  4.13it/s, Loss=0.3993, Acc=0.8960]\n"
     ]
    },
    {
     "name": "stdout",
     "output_type": "stream",
     "text": [
      "✅ Validation completed in 19.64s\n",
      "\n",
      "📊 Epoch 11 Summary:\n",
      "│ Train Loss: 0.0079 | Train Acc: 0.9981\n",
      "│ Val Loss:   0.3993 | Val Acc:   0.8960\n",
      "│ Train Time: 104.64s | Val Time: 19.64s\n",
      "│ Total Epoch Time: 124.28s\n",
      "│ Best Val Loss: 0.3249 (Epoch 1)\n",
      "│ GPU Memory: 0.1GB / 3.2GB\n",
      "================================================================================\n",
      "\n",
      "📈 Epoch 12/50\n",
      "--------------------------------------------------\n",
      "🔄 Training Phase...\n"
     ]
    },
    {
     "name": "stderr",
     "output_type": "stream",
     "text": [
      "Training: 100%|██████████████████████████████| 311/311 [01:45<00:00,  2.95it/s, Loss=0.0094, Acc=0.9965, GPU=0.1GB]\n"
     ]
    },
    {
     "name": "stdout",
     "output_type": "stream",
     "text": [
      "✅ Training completed in 105.33s\n",
      "🔍 Validation Phase...\n"
     ]
    },
    {
     "name": "stderr",
     "output_type": "stream",
     "text": [
      "Validation: 100%|██████████████████████████████| 81/81 [00:19<00:00,  4.11it/s, Loss=0.3869, Acc=0.8952]\n"
     ]
    },
    {
     "name": "stdout",
     "output_type": "stream",
     "text": [
      "✅ Validation completed in 19.70s\n",
      "\n",
      "📊 Epoch 12 Summary:\n",
      "│ Train Loss: 0.0094 | Train Acc: 0.9965\n",
      "│ Val Loss:   0.3869 | Val Acc:   0.8952\n",
      "│ Train Time: 105.33s | Val Time: 19.70s\n",
      "│ Total Epoch Time: 125.03s\n",
      "│ Best Val Loss: 0.3249 (Epoch 1)\n",
      "│ GPU Memory: 0.1GB / 3.2GB\n",
      "================================================================================\n",
      "\n",
      "📈 Epoch 13/50\n",
      "--------------------------------------------------\n",
      "🔄 Training Phase...\n"
     ]
    },
    {
     "name": "stderr",
     "output_type": "stream",
     "text": [
      "Training: 100%|██████████████████████████████| 311/311 [01:45<00:00,  2.94it/s, Loss=0.0081, Acc=0.9976, GPU=0.1GB]\n"
     ]
    },
    {
     "name": "stdout",
     "output_type": "stream",
     "text": [
      "✅ Training completed in 105.71s\n",
      "🔍 Validation Phase...\n"
     ]
    },
    {
     "name": "stderr",
     "output_type": "stream",
     "text": [
      "Validation: 100%|██████████████████████████████| 81/81 [00:19<00:00,  4.12it/s, Loss=0.4888, Acc=0.8863]\n"
     ]
    },
    {
     "name": "stdout",
     "output_type": "stream",
     "text": [
      "✅ Validation completed in 19.65s\n",
      "\n",
      "📊 Epoch 13 Summary:\n",
      "│ Train Loss: 0.0081 | Train Acc: 0.9976\n",
      "│ Val Loss:   0.4888 | Val Acc:   0.8863\n",
      "│ Train Time: 105.71s | Val Time: 19.65s\n",
      "│ Total Epoch Time: 125.36s\n",
      "│ Best Val Loss: 0.3249 (Epoch 1)\n",
      "│ GPU Memory: 0.1GB / 3.2GB\n",
      "================================================================================\n",
      "\n",
      "📈 Epoch 14/50\n",
      "--------------------------------------------------\n",
      "🔄 Training Phase...\n"
     ]
    },
    {
     "name": "stderr",
     "output_type": "stream",
     "text": [
      "Training: 100%|██████████████████████████████| 311/311 [01:43<00:00,  2.99it/s, Loss=0.0096, Acc=0.9970, GPU=0.1GB]\n"
     ]
    },
    {
     "name": "stdout",
     "output_type": "stream",
     "text": [
      "✅ Training completed in 103.90s\n",
      "🔍 Validation Phase...\n"
     ]
    },
    {
     "name": "stderr",
     "output_type": "stream",
     "text": [
      "Validation: 100%|██████████████████████████████| 81/81 [00:19<00:00,  4.10it/s, Loss=0.3989, Acc=0.8921]\n"
     ]
    },
    {
     "name": "stdout",
     "output_type": "stream",
     "text": [
      "✅ Validation completed in 19.78s\n",
      "\n",
      "📊 Epoch 14 Summary:\n",
      "│ Train Loss: 0.0096 | Train Acc: 0.9970\n",
      "│ Val Loss:   0.3989 | Val Acc:   0.8921\n",
      "│ Train Time: 103.90s | Val Time: 19.78s\n",
      "│ Total Epoch Time: 123.69s\n",
      "│ Best Val Loss: 0.3249 (Epoch 1)\n",
      "│ GPU Memory: 0.1GB / 3.2GB\n",
      "================================================================================\n",
      "\n",
      "📈 Epoch 15/50\n",
      "--------------------------------------------------\n",
      "🔄 Training Phase...\n"
     ]
    },
    {
     "name": "stderr",
     "output_type": "stream",
     "text": [
      "Training: 100%|██████████████████████████████| 311/311 [01:43<00:00,  3.01it/s, Loss=0.0081, Acc=0.9980, GPU=0.1GB]\n"
     ]
    },
    {
     "name": "stdout",
     "output_type": "stream",
     "text": [
      "✅ Training completed in 103.38s\n",
      "🔍 Validation Phase...\n"
     ]
    },
    {
     "name": "stderr",
     "output_type": "stream",
     "text": [
      "Validation: 100%|██████████████████████████████| 81/81 [00:19<00:00,  4.23it/s, Loss=0.4214, Acc=0.9006]\n"
     ]
    },
    {
     "name": "stdout",
     "output_type": "stream",
     "text": [
      "✅ Validation completed in 19.16s\n",
      "\n",
      "📊 Epoch 15 Summary:\n",
      "│ Train Loss: 0.0081 | Train Acc: 0.9980\n",
      "│ Val Loss:   0.4214 | Val Acc:   0.9006\n",
      "│ Train Time: 103.38s | Val Time: 19.16s\n",
      "│ Total Epoch Time: 122.54s\n",
      "│ Best Val Loss: 0.3249 (Epoch 1)\n",
      "│ GPU Memory: 0.1GB / 3.2GB\n",
      "================================================================================\n",
      "\n",
      "📈 Epoch 16/50\n",
      "--------------------------------------------------\n",
      "🔄 Training Phase...\n"
     ]
    },
    {
     "name": "stderr",
     "output_type": "stream",
     "text": [
      "Training: 100%|██████████████████████████████| 311/311 [01:44<00:00,  2.98it/s, Loss=0.0053, Acc=0.9986, GPU=0.1GB]\n"
     ]
    },
    {
     "name": "stdout",
     "output_type": "stream",
     "text": [
      "✅ Training completed in 104.20s\n",
      "🔍 Validation Phase...\n"
     ]
    },
    {
     "name": "stderr",
     "output_type": "stream",
     "text": [
      "Validation: 100%|██████████████████████████████| 81/81 [00:19<00:00,  4.23it/s, Loss=0.4542, Acc=0.8960]\n"
     ]
    },
    {
     "name": "stdout",
     "output_type": "stream",
     "text": [
      "✅ Validation completed in 19.16s\n",
      "\n",
      "📊 Epoch 16 Summary:\n",
      "│ Train Loss: 0.0053 | Train Acc: 0.9986\n",
      "│ Val Loss:   0.4542 | Val Acc:   0.8960\n",
      "│ Train Time: 104.20s | Val Time: 19.16s\n",
      "│ Total Epoch Time: 123.36s\n",
      "│ Best Val Loss: 0.3249 (Epoch 1)\n",
      "│ GPU Memory: 0.1GB / 3.2GB\n",
      "================================================================================\n",
      "\n",
      "📈 Epoch 17/50\n",
      "--------------------------------------------------\n",
      "🔄 Training Phase...\n"
     ]
    },
    {
     "name": "stderr",
     "output_type": "stream",
     "text": [
      "Training: 100%|██████████████████████████████| 311/311 [01:43<00:00,  3.00it/s, Loss=0.0059, Acc=0.9980, GPU=0.1GB]\n"
     ]
    },
    {
     "name": "stdout",
     "output_type": "stream",
     "text": [
      "✅ Training completed in 103.64s\n",
      "🔍 Validation Phase...\n"
     ]
    },
    {
     "name": "stderr",
     "output_type": "stream",
     "text": [
      "Validation: 100%|██████████████████████████████| 81/81 [00:19<00:00,  4.17it/s, Loss=0.4149, Acc=0.9033]\n"
     ]
    },
    {
     "name": "stdout",
     "output_type": "stream",
     "text": [
      "✅ Validation completed in 19.42s\n",
      "\n",
      "📊 Epoch 17 Summary:\n",
      "│ Train Loss: 0.0059 | Train Acc: 0.9980\n",
      "│ Val Loss:   0.4149 | Val Acc:   0.9033\n",
      "│ Train Time: 103.64s | Val Time: 19.42s\n",
      "│ Total Epoch Time: 123.06s\n",
      "│ Best Val Loss: 0.3249 (Epoch 1)\n",
      "│ GPU Memory: 0.1GB / 3.2GB\n",
      "================================================================================\n",
      "\n",
      "📈 Epoch 18/50\n",
      "--------------------------------------------------\n",
      "🔄 Training Phase...\n"
     ]
    },
    {
     "name": "stderr",
     "output_type": "stream",
     "text": [
      "Training: 100%|██████████████████████████████| 311/311 [01:44<00:00,  2.98it/s, Loss=0.0043, Acc=0.9983, GPU=0.1GB]\n"
     ]
    },
    {
     "name": "stdout",
     "output_type": "stream",
     "text": [
      "✅ Training completed in 104.28s\n",
      "🔍 Validation Phase...\n"
     ]
    },
    {
     "name": "stderr",
     "output_type": "stream",
     "text": [
      "Validation: 100%|██████████████████████████████| 81/81 [00:19<00:00,  4.11it/s, Loss=0.4256, Acc=0.8948]\n"
     ]
    },
    {
     "name": "stdout",
     "output_type": "stream",
     "text": [
      "✅ Validation completed in 19.73s\n",
      "\n",
      "📊 Epoch 18 Summary:\n",
      "│ Train Loss: 0.0043 | Train Acc: 0.9983\n",
      "│ Val Loss:   0.4256 | Val Acc:   0.8948\n",
      "│ Train Time: 104.28s | Val Time: 19.73s\n",
      "│ Total Epoch Time: 124.01s\n",
      "│ Best Val Loss: 0.3249 (Epoch 1)\n",
      "│ GPU Memory: 0.1GB / 3.2GB\n",
      "================================================================================\n",
      "\n",
      "📈 Epoch 19/50\n",
      "--------------------------------------------------\n",
      "🔄 Training Phase...\n"
     ]
    },
    {
     "name": "stderr",
     "output_type": "stream",
     "text": [
      "Training: 100%|██████████████████████████████| 311/311 [01:43<00:00,  3.00it/s, Loss=0.0051, Acc=0.9986, GPU=0.1GB]\n"
     ]
    },
    {
     "name": "stdout",
     "output_type": "stream",
     "text": [
      "✅ Training completed in 103.73s\n",
      "🔍 Validation Phase...\n"
     ]
    },
    {
     "name": "stderr",
     "output_type": "stream",
     "text": [
      "Validation: 100%|██████████████████████████████| 81/81 [00:19<00:00,  4.19it/s, Loss=0.4498, Acc=0.8987]\n"
     ]
    },
    {
     "name": "stdout",
     "output_type": "stream",
     "text": [
      "✅ Validation completed in 19.34s\n",
      "\n",
      "📊 Epoch 19 Summary:\n",
      "│ Train Loss: 0.0051 | Train Acc: 0.9986\n",
      "│ Val Loss:   0.4498 | Val Acc:   0.8987\n",
      "│ Train Time: 103.73s | Val Time: 19.34s\n",
      "│ Total Epoch Time: 123.08s\n",
      "│ Best Val Loss: 0.3249 (Epoch 1)\n",
      "│ GPU Memory: 0.1GB / 3.2GB\n",
      "================================================================================\n",
      "\n",
      "📈 Epoch 20/50\n",
      "--------------------------------------------------\n",
      "🔄 Training Phase...\n"
     ]
    },
    {
     "name": "stderr",
     "output_type": "stream",
     "text": [
      "Training: 100%|██████████████████████████████| 311/311 [01:43<00:00,  3.01it/s, Loss=0.0032, Acc=0.9994, GPU=0.1GB]\n"
     ]
    },
    {
     "name": "stdout",
     "output_type": "stream",
     "text": [
      "✅ Training completed in 103.27s\n",
      "🔍 Validation Phase...\n"
     ]
    },
    {
     "name": "stderr",
     "output_type": "stream",
     "text": [
      "Validation: 100%|██████████████████████████████| 81/81 [00:19<00:00,  4.21it/s, Loss=0.4641, Acc=0.8932]\n"
     ]
    },
    {
     "name": "stdout",
     "output_type": "stream",
     "text": [
      "✅ Validation completed in 19.26s\n",
      "\n",
      "📊 Epoch 20 Summary:\n",
      "│ Train Loss: 0.0032 | Train Acc: 0.9994\n",
      "│ Val Loss:   0.4641 | Val Acc:   0.8932\n",
      "│ Train Time: 103.27s | Val Time: 19.26s\n",
      "│ Total Epoch Time: 122.53s\n",
      "│ Best Val Loss: 0.3249 (Epoch 1)\n",
      "│ GPU Memory: 0.1GB / 3.2GB\n",
      "================================================================================\n",
      "\n",
      "📈 Epoch 21/50\n",
      "--------------------------------------------------\n",
      "🔄 Training Phase...\n"
     ]
    },
    {
     "name": "stderr",
     "output_type": "stream",
     "text": [
      "Training: 100%|██████████████████████████████| 311/311 [01:43<00:00,  3.01it/s, Loss=0.0043, Acc=0.9989, GPU=0.1GB]\n"
     ]
    },
    {
     "name": "stdout",
     "output_type": "stream",
     "text": [
      "✅ Training completed in 103.19s\n",
      "🔍 Validation Phase...\n"
     ]
    },
    {
     "name": "stderr",
     "output_type": "stream",
     "text": [
      "Validation: 100%|██████████████████████████████| 81/81 [00:19<00:00,  4.19it/s, Loss=0.4283, Acc=0.9068]\n"
     ]
    },
    {
     "name": "stdout",
     "output_type": "stream",
     "text": [
      "✅ Validation completed in 19.31s\n",
      "\n",
      "📊 Epoch 21 Summary:\n",
      "│ Train Loss: 0.0043 | Train Acc: 0.9989\n",
      "│ Val Loss:   0.4283 | Val Acc:   0.9068\n",
      "│ Train Time: 103.19s | Val Time: 19.31s\n",
      "│ Total Epoch Time: 122.51s\n",
      "│ Best Val Loss: 0.3249 (Epoch 1)\n",
      "│ GPU Memory: 0.1GB / 3.2GB\n",
      "================================================================================\n",
      "\n",
      "📈 Epoch 22/50\n",
      "--------------------------------------------------\n",
      "🔄 Training Phase...\n"
     ]
    },
    {
     "name": "stderr",
     "output_type": "stream",
     "text": [
      "Training: 100%|██████████████████████████████| 311/311 [01:42<00:00,  3.03it/s, Loss=0.0052, Acc=0.9984, GPU=0.1GB]\n"
     ]
    },
    {
     "name": "stdout",
     "output_type": "stream",
     "text": [
      "✅ Training completed in 102.71s\n",
      "🔍 Validation Phase...\n"
     ]
    },
    {
     "name": "stderr",
     "output_type": "stream",
     "text": [
      "Validation: 100%|██████████████████████████████| 81/81 [00:23<00:00,  3.46it/s, Loss=0.4947, Acc=0.8936]\n"
     ]
    },
    {
     "name": "stdout",
     "output_type": "stream",
     "text": [
      "✅ Validation completed in 23.43s\n",
      "\n",
      "📊 Epoch 22 Summary:\n",
      "│ Train Loss: 0.0052 | Train Acc: 0.9984\n",
      "│ Val Loss:   0.4947 | Val Acc:   0.8936\n",
      "│ Train Time: 102.71s | Val Time: 23.43s\n",
      "│ Total Epoch Time: 126.15s\n",
      "│ Best Val Loss: 0.3249 (Epoch 1)\n",
      "│ GPU Memory: 0.1GB / 3.2GB\n",
      "================================================================================\n",
      "\n",
      "📈 Epoch 23/50\n",
      "--------------------------------------------------\n",
      "🔄 Training Phase...\n"
     ]
    },
    {
     "name": "stderr",
     "output_type": "stream",
     "text": [
      "Training: 100%|██████████████████████████████| 311/311 [01:51<00:00,  2.79it/s, Loss=0.0060, Acc=0.9981, GPU=0.1GB]\n"
     ]
    },
    {
     "name": "stdout",
     "output_type": "stream",
     "text": [
      "✅ Training completed in 111.61s\n",
      "🔍 Validation Phase...\n"
     ]
    },
    {
     "name": "stderr",
     "output_type": "stream",
     "text": [
      "Validation: 100%|██████████████████████████████| 81/81 [00:19<00:00,  4.17it/s, Loss=0.4488, Acc=0.8971]\n"
     ]
    },
    {
     "name": "stdout",
     "output_type": "stream",
     "text": [
      "✅ Validation completed in 19.43s\n",
      "\n",
      "📊 Epoch 23 Summary:\n",
      "│ Train Loss: 0.0060 | Train Acc: 0.9981\n",
      "│ Val Loss:   0.4488 | Val Acc:   0.8971\n",
      "│ Train Time: 111.61s | Val Time: 19.43s\n",
      "│ Total Epoch Time: 131.05s\n",
      "│ Best Val Loss: 0.3249 (Epoch 1)\n",
      "│ GPU Memory: 0.1GB / 3.2GB\n",
      "================================================================================\n",
      "\n",
      "📈 Epoch 24/50\n",
      "--------------------------------------------------\n",
      "🔄 Training Phase...\n"
     ]
    },
    {
     "name": "stderr",
     "output_type": "stream",
     "text": [
      "Training: 100%|██████████████████████████████| 311/311 [01:43<00:00,  3.01it/s, Loss=0.0116, Acc=0.9969, GPU=0.1GB]\n"
     ]
    },
    {
     "name": "stdout",
     "output_type": "stream",
     "text": [
      "✅ Training completed in 103.35s\n",
      "🔍 Validation Phase...\n"
     ]
    },
    {
     "name": "stderr",
     "output_type": "stream",
     "text": [
      "Validation: 100%|██████████████████████████████| 81/81 [00:19<00:00,  4.20it/s, Loss=0.4806, Acc=0.8960]\n"
     ]
    },
    {
     "name": "stdout",
     "output_type": "stream",
     "text": [
      "✅ Validation completed in 19.27s\n",
      "\n",
      "📊 Epoch 24 Summary:\n",
      "│ Train Loss: 0.0116 | Train Acc: 0.9969\n",
      "│ Val Loss:   0.4806 | Val Acc:   0.8960\n",
      "│ Train Time: 103.35s | Val Time: 19.27s\n",
      "│ Total Epoch Time: 122.63s\n",
      "│ Best Val Loss: 0.3249 (Epoch 1)\n",
      "│ GPU Memory: 0.1GB / 3.2GB\n",
      "================================================================================\n",
      "\n",
      "📈 Epoch 25/50\n",
      "--------------------------------------------------\n",
      "🔄 Training Phase...\n"
     ]
    },
    {
     "name": "stderr",
     "output_type": "stream",
     "text": [
      "Training: 100%|██████████████████████████████| 311/311 [01:44<00:00,  2.99it/s, Loss=0.0037, Acc=0.9988, GPU=0.1GB]\n"
     ]
    },
    {
     "name": "stdout",
     "output_type": "stream",
     "text": [
      "✅ Training completed in 104.05s\n",
      "🔍 Validation Phase...\n"
     ]
    },
    {
     "name": "stderr",
     "output_type": "stream",
     "text": [
      "Validation: 100%|██████████████████████████████| 81/81 [00:19<00:00,  4.22it/s, Loss=0.4939, Acc=0.8944]\n"
     ]
    },
    {
     "name": "stdout",
     "output_type": "stream",
     "text": [
      "✅ Validation completed in 19.21s\n",
      "\n",
      "📊 Epoch 25 Summary:\n",
      "│ Train Loss: 0.0037 | Train Acc: 0.9988\n",
      "│ Val Loss:   0.4939 | Val Acc:   0.8944\n",
      "│ Train Time: 104.05s | Val Time: 19.21s\n",
      "│ Total Epoch Time: 123.26s\n",
      "│ Best Val Loss: 0.3249 (Epoch 1)\n",
      "│ GPU Memory: 0.1GB / 3.2GB\n",
      "================================================================================\n",
      "\n",
      "📈 Epoch 26/50\n",
      "--------------------------------------------------\n",
      "🔄 Training Phase...\n"
     ]
    },
    {
     "name": "stderr",
     "output_type": "stream",
     "text": [
      "Training: 100%|██████████████████████████████| 311/311 [01:43<00:00,  3.00it/s, Loss=0.0052, Acc=0.9984, GPU=0.1GB]\n"
     ]
    },
    {
     "name": "stdout",
     "output_type": "stream",
     "text": [
      "✅ Training completed in 103.64s\n",
      "🔍 Validation Phase...\n"
     ]
    },
    {
     "name": "stderr",
     "output_type": "stream",
     "text": [
      "Validation: 100%|██████████████████████████████| 81/81 [00:19<00:00,  4.19it/s, Loss=0.4680, Acc=0.9022]\n"
     ]
    },
    {
     "name": "stdout",
     "output_type": "stream",
     "text": [
      "✅ Validation completed in 19.32s\n",
      "\n",
      "📊 Epoch 26 Summary:\n",
      "│ Train Loss: 0.0052 | Train Acc: 0.9984\n",
      "│ Val Loss:   0.4680 | Val Acc:   0.9022\n",
      "│ Train Time: 103.64s | Val Time: 19.32s\n",
      "│ Total Epoch Time: 122.96s\n",
      "│ Best Val Loss: 0.3249 (Epoch 1)\n",
      "│ GPU Memory: 0.1GB / 3.2GB\n",
      "================================================================================\n",
      "\n",
      "📈 Epoch 27/50\n",
      "--------------------------------------------------\n",
      "🔄 Training Phase...\n"
     ]
    },
    {
     "name": "stderr",
     "output_type": "stream",
     "text": [
      "Training: 100%|██████████████████████████████| 311/311 [01:45<00:00,  2.96it/s, Loss=0.0028, Acc=0.9992, GPU=0.1GB]\n"
     ]
    },
    {
     "name": "stdout",
     "output_type": "stream",
     "text": [
      "✅ Training completed in 105.07s\n",
      "🔍 Validation Phase...\n"
     ]
    },
    {
     "name": "stderr",
     "output_type": "stream",
     "text": [
      "Validation: 100%|██████████████████████████████| 81/81 [00:19<00:00,  4.22it/s, Loss=0.3965, Acc=0.9030]\n"
     ]
    },
    {
     "name": "stdout",
     "output_type": "stream",
     "text": [
      "✅ Validation completed in 19.21s\n",
      "\n",
      "📊 Epoch 27 Summary:\n",
      "│ Train Loss: 0.0028 | Train Acc: 0.9992\n",
      "│ Val Loss:   0.3965 | Val Acc:   0.9030\n",
      "│ Train Time: 105.07s | Val Time: 19.21s\n",
      "│ Total Epoch Time: 124.29s\n",
      "│ Best Val Loss: 0.3249 (Epoch 1)\n",
      "│ GPU Memory: 0.1GB / 3.2GB\n",
      "================================================================================\n",
      "\n",
      "📈 Epoch 28/50\n",
      "--------------------------------------------------\n",
      "🔄 Training Phase...\n"
     ]
    },
    {
     "name": "stderr",
     "output_type": "stream",
     "text": [
      "Training: 100%|██████████████████████████████| 311/311 [01:44<00:00,  2.99it/s, Loss=0.0035, Acc=0.9986, GPU=0.1GB]\n"
     ]
    },
    {
     "name": "stdout",
     "output_type": "stream",
     "text": [
      "✅ Training completed in 104.17s\n",
      "🔍 Validation Phase...\n"
     ]
    },
    {
     "name": "stderr",
     "output_type": "stream",
     "text": [
      "Validation: 100%|██████████████████████████████| 81/81 [00:19<00:00,  4.19it/s, Loss=0.4665, Acc=0.8925]\n"
     ]
    },
    {
     "name": "stdout",
     "output_type": "stream",
     "text": [
      "✅ Validation completed in 19.34s\n",
      "\n",
      "📊 Epoch 28 Summary:\n",
      "│ Train Loss: 0.0035 | Train Acc: 0.9986\n",
      "│ Val Loss:   0.4665 | Val Acc:   0.8925\n",
      "│ Train Time: 104.17s | Val Time: 19.34s\n",
      "│ Total Epoch Time: 123.52s\n",
      "│ Best Val Loss: 0.3249 (Epoch 1)\n",
      "│ GPU Memory: 0.1GB / 3.2GB\n",
      "================================================================================\n",
      "\n",
      "📈 Epoch 29/50\n",
      "--------------------------------------------------\n",
      "🔄 Training Phase...\n"
     ]
    },
    {
     "name": "stderr",
     "output_type": "stream",
     "text": [
      "Training: 100%|██████████████████████████████| 311/311 [01:43<00:00,  3.00it/s, Loss=0.0039, Acc=0.9988, GPU=0.1GB]\n"
     ]
    },
    {
     "name": "stdout",
     "output_type": "stream",
     "text": [
      "✅ Training completed in 103.67s\n",
      "🔍 Validation Phase...\n"
     ]
    },
    {
     "name": "stderr",
     "output_type": "stream",
     "text": [
      "Validation: 100%|██████████████████████████████| 81/81 [00:19<00:00,  4.23it/s, Loss=0.4683, Acc=0.8956]\n"
     ]
    },
    {
     "name": "stdout",
     "output_type": "stream",
     "text": [
      "✅ Validation completed in 19.17s\n",
      "\n",
      "📊 Epoch 29 Summary:\n",
      "│ Train Loss: 0.0039 | Train Acc: 0.9988\n",
      "│ Val Loss:   0.4683 | Val Acc:   0.8956\n",
      "│ Train Time: 103.67s | Val Time: 19.17s\n",
      "│ Total Epoch Time: 122.85s\n",
      "│ Best Val Loss: 0.3249 (Epoch 1)\n",
      "│ GPU Memory: 0.1GB / 3.2GB\n",
      "================================================================================\n",
      "\n",
      "📈 Epoch 30/50\n",
      "--------------------------------------------------\n",
      "🔄 Training Phase...\n"
     ]
    },
    {
     "name": "stderr",
     "output_type": "stream",
     "text": [
      "Training: 100%|██████████████████████████████| 311/311 [01:44<00:00,  2.99it/s, Loss=0.0050, Acc=0.9985, GPU=0.1GB]\n"
     ]
    },
    {
     "name": "stdout",
     "output_type": "stream",
     "text": [
      "✅ Training completed in 104.19s\n",
      "🔍 Validation Phase...\n"
     ]
    },
    {
     "name": "stderr",
     "output_type": "stream",
     "text": [
      "Validation: 100%|██████████████████████████████| 81/81 [00:19<00:00,  4.24it/s, Loss=0.4648, Acc=0.8917]\n"
     ]
    },
    {
     "name": "stdout",
     "output_type": "stream",
     "text": [
      "✅ Validation completed in 19.09s\n",
      "\n",
      "📊 Epoch 30 Summary:\n",
      "│ Train Loss: 0.0050 | Train Acc: 0.9985\n",
      "│ Val Loss:   0.4648 | Val Acc:   0.8917\n",
      "│ Train Time: 104.19s | Val Time: 19.09s\n",
      "│ Total Epoch Time: 123.28s\n",
      "│ Best Val Loss: 0.3249 (Epoch 1)\n",
      "│ GPU Memory: 0.1GB / 3.2GB\n",
      "================================================================================\n",
      "\n",
      "📈 Epoch 31/50\n",
      "--------------------------------------------------\n",
      "🔄 Training Phase...\n"
     ]
    },
    {
     "name": "stderr",
     "output_type": "stream",
     "text": [
      "Training: 100%|██████████████████████████████| 311/311 [01:43<00:00,  3.01it/s, Loss=0.0018, Acc=0.9996, GPU=0.1GB]\n"
     ]
    },
    {
     "name": "stdout",
     "output_type": "stream",
     "text": [
      "✅ Training completed in 103.23s\n",
      "🔍 Validation Phase...\n"
     ]
    },
    {
     "name": "stderr",
     "output_type": "stream",
     "text": [
      "Validation: 100%|██████████████████████████████| 81/81 [00:19<00:00,  4.21it/s, Loss=0.4465, Acc=0.8995]\n"
     ]
    },
    {
     "name": "stdout",
     "output_type": "stream",
     "text": [
      "✅ Validation completed in 19.25s\n",
      "\n",
      "📊 Epoch 31 Summary:\n",
      "│ Train Loss: 0.0018 | Train Acc: 0.9996\n",
      "│ Val Loss:   0.4465 | Val Acc:   0.8995\n",
      "│ Train Time: 103.23s | Val Time: 19.25s\n",
      "│ Total Epoch Time: 122.49s\n",
      "│ Best Val Loss: 0.3249 (Epoch 1)\n",
      "│ GPU Memory: 0.1GB / 3.2GB\n",
      "================================================================================\n",
      "\n",
      "📈 Epoch 32/50\n",
      "--------------------------------------------------\n",
      "🔄 Training Phase...\n"
     ]
    },
    {
     "name": "stderr",
     "output_type": "stream",
     "text": [
      "Training: 100%|██████████████████████████████| 311/311 [01:43<00:00,  3.02it/s, Loss=0.0023, Acc=0.9992, GPU=0.1GB]\n"
     ]
    },
    {
     "name": "stdout",
     "output_type": "stream",
     "text": [
      "✅ Training completed in 103.13s\n",
      "🔍 Validation Phase...\n"
     ]
    },
    {
     "name": "stderr",
     "output_type": "stream",
     "text": [
      "Validation: 100%|██████████████████████████████| 81/81 [00:19<00:00,  4.24it/s, Loss=0.5912, Acc=0.8789]\n"
     ]
    },
    {
     "name": "stdout",
     "output_type": "stream",
     "text": [
      "✅ Validation completed in 19.09s\n",
      "\n",
      "📊 Epoch 32 Summary:\n",
      "│ Train Loss: 0.0023 | Train Acc: 0.9992\n",
      "│ Val Loss:   0.5912 | Val Acc:   0.8789\n",
      "│ Train Time: 103.13s | Val Time: 19.09s\n",
      "│ Total Epoch Time: 122.23s\n",
      "│ Best Val Loss: 0.3249 (Epoch 1)\n",
      "│ GPU Memory: 0.1GB / 3.2GB\n",
      "================================================================================\n",
      "\n",
      "📈 Epoch 33/50\n",
      "--------------------------------------------------\n",
      "🔄 Training Phase...\n"
     ]
    },
    {
     "name": "stderr",
     "output_type": "stream",
     "text": [
      "Training: 100%|██████████████████████████████| 311/311 [01:43<00:00,  3.01it/s, Loss=0.0075, Acc=0.9988, GPU=0.1GB]\n"
     ]
    },
    {
     "name": "stdout",
     "output_type": "stream",
     "text": [
      "✅ Training completed in 103.37s\n",
      "🔍 Validation Phase...\n"
     ]
    },
    {
     "name": "stderr",
     "output_type": "stream",
     "text": [
      "Validation: 100%|██████████████████████████████| 81/81 [00:19<00:00,  4.15it/s, Loss=0.5277, Acc=0.8905]\n"
     ]
    },
    {
     "name": "stdout",
     "output_type": "stream",
     "text": [
      "✅ Validation completed in 19.51s\n",
      "\n",
      "📊 Epoch 33 Summary:\n",
      "│ Train Loss: 0.0075 | Train Acc: 0.9988\n",
      "│ Val Loss:   0.5277 | Val Acc:   0.8905\n",
      "│ Train Time: 103.37s | Val Time: 19.51s\n",
      "│ Total Epoch Time: 122.89s\n",
      "│ Best Val Loss: 0.3249 (Epoch 1)\n",
      "│ GPU Memory: 0.1GB / 3.2GB\n",
      "================================================================================\n",
      "\n",
      "📈 Epoch 34/50\n",
      "--------------------------------------------------\n",
      "🔄 Training Phase...\n"
     ]
    },
    {
     "name": "stderr",
     "output_type": "stream",
     "text": [
      "Training: 100%|██████████████████████████████| 311/311 [01:43<00:00,  3.00it/s, Loss=0.0069, Acc=0.9977, GPU=0.1GB]\n"
     ]
    },
    {
     "name": "stdout",
     "output_type": "stream",
     "text": [
      "✅ Training completed in 103.81s\n",
      "🔍 Validation Phase...\n"
     ]
    },
    {
     "name": "stderr",
     "output_type": "stream",
     "text": [
      "Validation: 100%|██████████████████████████████| 81/81 [00:19<00:00,  4.24it/s, Loss=0.5098, Acc=0.8898]\n"
     ]
    },
    {
     "name": "stdout",
     "output_type": "stream",
     "text": [
      "✅ Validation completed in 19.13s\n",
      "\n",
      "📊 Epoch 34 Summary:\n",
      "│ Train Loss: 0.0069 | Train Acc: 0.9977\n",
      "│ Val Loss:   0.5098 | Val Acc:   0.8898\n",
      "│ Train Time: 103.81s | Val Time: 19.13s\n",
      "│ Total Epoch Time: 122.95s\n",
      "│ Best Val Loss: 0.3249 (Epoch 1)\n",
      "│ GPU Memory: 0.1GB / 3.2GB\n",
      "================================================================================\n",
      "\n",
      "📈 Epoch 35/50\n",
      "--------------------------------------------------\n",
      "🔄 Training Phase...\n"
     ]
    },
    {
     "name": "stderr",
     "output_type": "stream",
     "text": [
      "Training: 100%|██████████████████████████████| 311/311 [01:43<00:00,  3.01it/s, Loss=0.0087, Acc=0.9977, GPU=0.1GB]\n"
     ]
    },
    {
     "name": "stdout",
     "output_type": "stream",
     "text": [
      "✅ Training completed in 103.44s\n",
      "🔍 Validation Phase...\n"
     ]
    },
    {
     "name": "stderr",
     "output_type": "stream",
     "text": [
      "Validation: 100%|██████████████████████████████| 81/81 [00:19<00:00,  4.23it/s, Loss=0.5914, Acc=0.8711]\n"
     ]
    },
    {
     "name": "stdout",
     "output_type": "stream",
     "text": [
      "✅ Validation completed in 19.17s\n",
      "\n",
      "📊 Epoch 35 Summary:\n",
      "│ Train Loss: 0.0087 | Train Acc: 0.9977\n",
      "│ Val Loss:   0.5914 | Val Acc:   0.8711\n",
      "│ Train Time: 103.44s | Val Time: 19.17s\n",
      "│ Total Epoch Time: 122.62s\n",
      "│ Best Val Loss: 0.3249 (Epoch 1)\n",
      "│ GPU Memory: 0.1GB / 3.2GB\n",
      "================================================================================\n",
      "\n",
      "📈 Epoch 36/50\n",
      "--------------------------------------------------\n",
      "🔄 Training Phase...\n"
     ]
    },
    {
     "name": "stderr",
     "output_type": "stream",
     "text": [
      "Training: 100%|██████████████████████████████| 311/311 [01:43<00:00,  3.00it/s, Loss=0.0082, Acc=0.9975, GPU=0.1GB]\n"
     ]
    },
    {
     "name": "stdout",
     "output_type": "stream",
     "text": [
      "✅ Training completed in 103.75s\n",
      "🔍 Validation Phase...\n"
     ]
    },
    {
     "name": "stderr",
     "output_type": "stream",
     "text": [
      "Validation: 100%|██████████████████████████████| 81/81 [00:19<00:00,  4.12it/s, Loss=0.4671, Acc=0.9026]\n"
     ]
    },
    {
     "name": "stdout",
     "output_type": "stream",
     "text": [
      "✅ Validation completed in 19.66s\n",
      "\n",
      "📊 Epoch 36 Summary:\n",
      "│ Train Loss: 0.0082 | Train Acc: 0.9975\n",
      "│ Val Loss:   0.4671 | Val Acc:   0.9026\n",
      "│ Train Time: 103.75s | Val Time: 19.66s\n",
      "│ Total Epoch Time: 123.42s\n",
      "│ Best Val Loss: 0.3249 (Epoch 1)\n",
      "│ GPU Memory: 0.1GB / 3.2GB\n",
      "================================================================================\n",
      "\n",
      "📈 Epoch 37/50\n",
      "--------------------------------------------------\n",
      "🔄 Training Phase...\n"
     ]
    },
    {
     "name": "stderr",
     "output_type": "stream",
     "text": [
      "Training: 100%|██████████████████████████████| 311/311 [01:43<00:00,  2.99it/s, Loss=0.0034, Acc=0.9992, GPU=0.1GB]\n"
     ]
    },
    {
     "name": "stdout",
     "output_type": "stream",
     "text": [
      "✅ Training completed in 103.89s\n",
      "🔍 Validation Phase...\n"
     ]
    },
    {
     "name": "stderr",
     "output_type": "stream",
     "text": [
      "Validation: 100%|██████████████████████████████| 81/81 [00:19<00:00,  4.15it/s, Loss=0.4568, Acc=0.9030]\n"
     ]
    },
    {
     "name": "stdout",
     "output_type": "stream",
     "text": [
      "✅ Validation completed in 19.54s\n",
      "\n",
      "📊 Epoch 37 Summary:\n",
      "│ Train Loss: 0.0034 | Train Acc: 0.9992\n",
      "│ Val Loss:   0.4568 | Val Acc:   0.9030\n",
      "│ Train Time: 103.89s | Val Time: 19.54s\n",
      "│ Total Epoch Time: 123.43s\n",
      "│ Best Val Loss: 0.3249 (Epoch 1)\n",
      "│ GPU Memory: 0.1GB / 3.2GB\n",
      "================================================================================\n",
      "\n",
      "📈 Epoch 38/50\n",
      "--------------------------------------------------\n",
      "🔄 Training Phase...\n"
     ]
    },
    {
     "name": "stderr",
     "output_type": "stream",
     "text": [
      "Training: 100%|██████████████████████████████| 311/311 [01:43<00:00,  3.00it/s, Loss=0.0011, Acc=0.9996, GPU=0.1GB]\n"
     ]
    },
    {
     "name": "stdout",
     "output_type": "stream",
     "text": [
      "✅ Training completed in 103.58s\n",
      "🔍 Validation Phase...\n"
     ]
    },
    {
     "name": "stderr",
     "output_type": "stream",
     "text": [
      "Validation: 100%|██████████████████████████████| 81/81 [00:19<00:00,  4.19it/s, Loss=0.4756, Acc=0.9084]\n"
     ]
    },
    {
     "name": "stdout",
     "output_type": "stream",
     "text": [
      "✅ Validation completed in 19.32s\n",
      "\n",
      "📊 Epoch 38 Summary:\n",
      "│ Train Loss: 0.0011 | Train Acc: 0.9996\n",
      "│ Val Loss:   0.4756 | Val Acc:   0.9084\n",
      "│ Train Time: 103.58s | Val Time: 19.32s\n",
      "│ Total Epoch Time: 122.90s\n",
      "│ Best Val Loss: 0.3249 (Epoch 1)\n",
      "│ GPU Memory: 0.1GB / 3.2GB\n",
      "================================================================================\n",
      "\n",
      "📈 Epoch 39/50\n",
      "--------------------------------------------------\n",
      "🔄 Training Phase...\n"
     ]
    },
    {
     "name": "stderr",
     "output_type": "stream",
     "text": [
      "Training: 100%|██████████████████████████████| 311/311 [01:43<00:00,  3.00it/s, Loss=0.0009, Acc=0.9998, GPU=0.1GB]\n"
     ]
    },
    {
     "name": "stdout",
     "output_type": "stream",
     "text": [
      "✅ Training completed in 103.76s\n",
      "🔍 Validation Phase...\n"
     ]
    },
    {
     "name": "stderr",
     "output_type": "stream",
     "text": [
      "Validation: 100%|██████████████████████████████| 81/81 [00:19<00:00,  4.13it/s, Loss=0.5059, Acc=0.9030]\n"
     ]
    },
    {
     "name": "stdout",
     "output_type": "stream",
     "text": [
      "✅ Validation completed in 19.64s\n",
      "\n",
      "📊 Epoch 39 Summary:\n",
      "│ Train Loss: 0.0009 | Train Acc: 0.9998\n",
      "│ Val Loss:   0.5059 | Val Acc:   0.9030\n",
      "│ Train Time: 103.76s | Val Time: 19.64s\n",
      "│ Total Epoch Time: 123.40s\n",
      "│ Best Val Loss: 0.3249 (Epoch 1)\n",
      "│ GPU Memory: 0.1GB / 3.2GB\n",
      "================================================================================\n",
      "\n",
      "📈 Epoch 40/50\n",
      "--------------------------------------------------\n",
      "🔄 Training Phase...\n"
     ]
    },
    {
     "name": "stderr",
     "output_type": "stream",
     "text": [
      "Training: 100%|██████████████████████████████| 311/311 [01:43<00:00,  3.01it/s, Loss=0.0033, Acc=0.9992, GPU=0.1GB]\n"
     ]
    },
    {
     "name": "stdout",
     "output_type": "stream",
     "text": [
      "✅ Training completed in 103.45s\n",
      "🔍 Validation Phase...\n"
     ]
    },
    {
     "name": "stderr",
     "output_type": "stream",
     "text": [
      "Validation: 100%|██████████████████████████████| 81/81 [00:19<00:00,  4.22it/s, Loss=0.4768, Acc=0.9095]\n"
     ]
    },
    {
     "name": "stdout",
     "output_type": "stream",
     "text": [
      "✅ Validation completed in 19.21s\n",
      "\n",
      "📊 Epoch 40 Summary:\n",
      "│ Train Loss: 0.0033 | Train Acc: 0.9992\n",
      "│ Val Loss:   0.4768 | Val Acc:   0.9095\n",
      "│ Train Time: 103.45s | Val Time: 19.21s\n",
      "│ Total Epoch Time: 122.66s\n",
      "│ Best Val Loss: 0.3249 (Epoch 1)\n",
      "│ GPU Memory: 0.1GB / 3.2GB\n",
      "================================================================================\n",
      "\n",
      "📈 Epoch 41/50\n",
      "--------------------------------------------------\n",
      "🔄 Training Phase...\n"
     ]
    },
    {
     "name": "stderr",
     "output_type": "stream",
     "text": [
      "Training: 100%|██████████████████████████████| 311/311 [01:43<00:00,  3.01it/s, Loss=0.0042, Acc=0.9987, GPU=0.1GB]\n"
     ]
    },
    {
     "name": "stdout",
     "output_type": "stream",
     "text": [
      "✅ Training completed in 103.43s\n",
      "🔍 Validation Phase...\n"
     ]
    },
    {
     "name": "stderr",
     "output_type": "stream",
     "text": [
      "Validation: 100%|██████████████████████████████| 81/81 [00:19<00:00,  4.22it/s, Loss=0.5428, Acc=0.8995]\n"
     ]
    },
    {
     "name": "stdout",
     "output_type": "stream",
     "text": [
      "✅ Validation completed in 19.18s\n",
      "\n",
      "📊 Epoch 41 Summary:\n",
      "│ Train Loss: 0.0042 | Train Acc: 0.9987\n",
      "│ Val Loss:   0.5428 | Val Acc:   0.8995\n",
      "│ Train Time: 103.43s | Val Time: 19.18s\n",
      "│ Total Epoch Time: 122.61s\n",
      "│ Best Val Loss: 0.3249 (Epoch 1)\n",
      "│ GPU Memory: 0.1GB / 3.2GB\n",
      "================================================================================\n",
      "\n",
      "📈 Epoch 42/50\n",
      "--------------------------------------------------\n",
      "🔄 Training Phase...\n"
     ]
    },
    {
     "name": "stderr",
     "output_type": "stream",
     "text": [
      "Training: 100%|██████████████████████████████| 311/311 [01:44<00:00,  2.96it/s, Loss=0.0030, Acc=0.9995, GPU=0.1GB]\n"
     ]
    },
    {
     "name": "stdout",
     "output_type": "stream",
     "text": [
      "✅ Training completed in 104.96s\n",
      "🔍 Validation Phase...\n"
     ]
    },
    {
     "name": "stderr",
     "output_type": "stream",
     "text": [
      "Validation: 100%|██████████████████████████████| 81/81 [00:19<00:00,  4.20it/s, Loss=0.5889, Acc=0.8971]\n"
     ]
    },
    {
     "name": "stdout",
     "output_type": "stream",
     "text": [
      "✅ Validation completed in 19.28s\n",
      "\n",
      "📊 Epoch 42 Summary:\n",
      "│ Train Loss: 0.0030 | Train Acc: 0.9995\n",
      "│ Val Loss:   0.5889 | Val Acc:   0.8971\n",
      "│ Train Time: 104.96s | Val Time: 19.28s\n",
      "│ Total Epoch Time: 124.24s\n",
      "│ Best Val Loss: 0.3249 (Epoch 1)\n",
      "│ GPU Memory: 0.1GB / 3.2GB\n",
      "================================================================================\n",
      "\n",
      "📈 Epoch 43/50\n",
      "--------------------------------------------------\n",
      "🔄 Training Phase...\n"
     ]
    },
    {
     "name": "stderr",
     "output_type": "stream",
     "text": [
      "Training: 100%|██████████████████████████████| 311/311 [01:45<00:00,  2.94it/s, Loss=0.0052, Acc=0.9985, GPU=0.1GB]\n"
     ]
    },
    {
     "name": "stdout",
     "output_type": "stream",
     "text": [
      "✅ Training completed in 105.88s\n",
      "🔍 Validation Phase...\n"
     ]
    },
    {
     "name": "stderr",
     "output_type": "stream",
     "text": [
      "Validation: 100%|██████████████████████████████| 81/81 [00:19<00:00,  4.10it/s, Loss=0.5376, Acc=0.8882]\n"
     ]
    },
    {
     "name": "stdout",
     "output_type": "stream",
     "text": [
      "✅ Validation completed in 19.76s\n",
      "\n",
      "📊 Epoch 43 Summary:\n",
      "│ Train Loss: 0.0052 | Train Acc: 0.9985\n",
      "│ Val Loss:   0.5376 | Val Acc:   0.8882\n",
      "│ Train Time: 105.88s | Val Time: 19.76s\n",
      "│ Total Epoch Time: 125.65s\n",
      "│ Best Val Loss: 0.3249 (Epoch 1)\n",
      "│ GPU Memory: 0.1GB / 3.2GB\n",
      "================================================================================\n",
      "\n",
      "📈 Epoch 44/50\n",
      "--------------------------------------------------\n",
      "🔄 Training Phase...\n"
     ]
    },
    {
     "name": "stderr",
     "output_type": "stream",
     "text": [
      "Training: 100%|██████████████████████████████| 311/311 [01:45<00:00,  2.95it/s, Loss=0.0041, Acc=0.9989, GPU=0.1GB]\n"
     ]
    },
    {
     "name": "stdout",
     "output_type": "stream",
     "text": [
      "✅ Training completed in 105.60s\n",
      "🔍 Validation Phase...\n"
     ]
    },
    {
     "name": "stderr",
     "output_type": "stream",
     "text": [
      "Validation: 100%|██████████████████████████████| 81/81 [00:18<00:00,  4.29it/s, Loss=0.5621, Acc=0.8890]\n"
     ]
    },
    {
     "name": "stdout",
     "output_type": "stream",
     "text": [
      "✅ Validation completed in 18.89s\n",
      "\n",
      "📊 Epoch 44 Summary:\n",
      "│ Train Loss: 0.0041 | Train Acc: 0.9989\n",
      "│ Val Loss:   0.5621 | Val Acc:   0.8890\n",
      "│ Train Time: 105.60s | Val Time: 18.89s\n",
      "│ Total Epoch Time: 124.50s\n",
      "│ Best Val Loss: 0.3249 (Epoch 1)\n",
      "│ GPU Memory: 0.1GB / 3.2GB\n",
      "================================================================================\n",
      "\n",
      "📈 Epoch 45/50\n",
      "--------------------------------------------------\n",
      "🔄 Training Phase...\n"
     ]
    },
    {
     "name": "stderr",
     "output_type": "stream",
     "text": [
      "Training: 100%|██████████████████████████████| 311/311 [01:43<00:00,  3.00it/s, Loss=0.0020, Acc=0.9993, GPU=0.1GB]\n"
     ]
    },
    {
     "name": "stdout",
     "output_type": "stream",
     "text": [
      "✅ Training completed in 103.70s\n",
      "🔍 Validation Phase...\n"
     ]
    },
    {
     "name": "stderr",
     "output_type": "stream",
     "text": [
      "Validation: 100%|██████████████████████████████| 81/81 [00:19<00:00,  4.23it/s, Loss=0.5215, Acc=0.8952]\n"
     ]
    },
    {
     "name": "stdout",
     "output_type": "stream",
     "text": [
      "✅ Validation completed in 19.14s\n",
      "\n",
      "📊 Epoch 45 Summary:\n",
      "│ Train Loss: 0.0020 | Train Acc: 0.9993\n",
      "│ Val Loss:   0.5215 | Val Acc:   0.8952\n",
      "│ Train Time: 103.70s | Val Time: 19.14s\n",
      "│ Total Epoch Time: 122.84s\n",
      "│ Best Val Loss: 0.3249 (Epoch 1)\n",
      "│ GPU Memory: 0.1GB / 3.2GB\n",
      "================================================================================\n",
      "\n",
      "📈 Epoch 46/50\n",
      "--------------------------------------------------\n",
      "🔄 Training Phase...\n"
     ]
    },
    {
     "name": "stderr",
     "output_type": "stream",
     "text": [
      "Training: 100%|██████████████████████████████| 311/311 [01:43<00:00,  3.01it/s, Loss=0.0016, Acc=0.9996, GPU=0.1GB]\n"
     ]
    },
    {
     "name": "stdout",
     "output_type": "stream",
     "text": [
      "✅ Training completed in 103.43s\n",
      "🔍 Validation Phase...\n"
     ]
    },
    {
     "name": "stderr",
     "output_type": "stream",
     "text": [
      "Validation: 100%|██████████████████████████████| 81/81 [00:19<00:00,  4.25it/s, Loss=0.5092, Acc=0.9010]\n"
     ]
    },
    {
     "name": "stdout",
     "output_type": "stream",
     "text": [
      "✅ Validation completed in 19.06s\n",
      "\n",
      "📊 Epoch 46 Summary:\n",
      "│ Train Loss: 0.0016 | Train Acc: 0.9996\n",
      "│ Val Loss:   0.5092 | Val Acc:   0.9010\n",
      "│ Train Time: 103.43s | Val Time: 19.06s\n",
      "│ Total Epoch Time: 122.50s\n",
      "│ Best Val Loss: 0.3249 (Epoch 1)\n",
      "│ GPU Memory: 0.1GB / 3.2GB\n",
      "================================================================================\n",
      "\n",
      "📈 Epoch 47/50\n",
      "--------------------------------------------------\n",
      "🔄 Training Phase...\n"
     ]
    },
    {
     "name": "stderr",
     "output_type": "stream",
     "text": [
      "Training: 100%|██████████████████████████████| 311/311 [01:43<00:00,  3.01it/s, Loss=0.0012, Acc=0.9997, GPU=0.1GB]\n"
     ]
    },
    {
     "name": "stdout",
     "output_type": "stream",
     "text": [
      "✅ Training completed in 103.36s\n",
      "🔍 Validation Phase...\n"
     ]
    },
    {
     "name": "stderr",
     "output_type": "stream",
     "text": [
      "Validation: 100%|██████████████████████████████| 81/81 [00:19<00:00,  4.20it/s, Loss=0.5174, Acc=0.8991]\n"
     ]
    },
    {
     "name": "stdout",
     "output_type": "stream",
     "text": [
      "✅ Validation completed in 19.28s\n",
      "\n",
      "📊 Epoch 47 Summary:\n",
      "│ Train Loss: 0.0012 | Train Acc: 0.9997\n",
      "│ Val Loss:   0.5174 | Val Acc:   0.8991\n",
      "│ Train Time: 103.36s | Val Time: 19.28s\n",
      "│ Total Epoch Time: 122.64s\n",
      "│ Best Val Loss: 0.3249 (Epoch 1)\n",
      "│ GPU Memory: 0.1GB / 3.2GB\n",
      "================================================================================\n",
      "\n",
      "📈 Epoch 48/50\n",
      "--------------------------------------------------\n",
      "🔄 Training Phase...\n"
     ]
    },
    {
     "name": "stderr",
     "output_type": "stream",
     "text": [
      "Training: 100%|██████████████████████████████| 311/311 [01:47<00:00,  2.91it/s, Loss=0.0018, Acc=0.9994, GPU=0.1GB]\n"
     ]
    },
    {
     "name": "stdout",
     "output_type": "stream",
     "text": [
      "✅ Training completed in 107.01s\n",
      "🔍 Validation Phase...\n"
     ]
    },
    {
     "name": "stderr",
     "output_type": "stream",
     "text": [
      "Validation: 100%|██████████████████████████████| 81/81 [00:19<00:00,  4.15it/s, Loss=0.5574, Acc=0.8995]\n"
     ]
    },
    {
     "name": "stdout",
     "output_type": "stream",
     "text": [
      "✅ Validation completed in 19.51s\n",
      "\n",
      "📊 Epoch 48 Summary:\n",
      "│ Train Loss: 0.0018 | Train Acc: 0.9994\n",
      "│ Val Loss:   0.5574 | Val Acc:   0.8995\n",
      "│ Train Time: 107.01s | Val Time: 19.51s\n",
      "│ Total Epoch Time: 126.52s\n",
      "│ Best Val Loss: 0.3249 (Epoch 1)\n",
      "│ GPU Memory: 0.1GB / 3.2GB\n",
      "================================================================================\n",
      "\n",
      "📈 Epoch 49/50\n",
      "--------------------------------------------------\n",
      "🔄 Training Phase...\n"
     ]
    },
    {
     "name": "stderr",
     "output_type": "stream",
     "text": [
      "Training: 100%|██████████████████████████████| 311/311 [01:43<00:00,  3.01it/s, Loss=0.0027, Acc=0.9992, GPU=0.1GB]\n"
     ]
    },
    {
     "name": "stdout",
     "output_type": "stream",
     "text": [
      "✅ Training completed in 103.30s\n",
      "🔍 Validation Phase...\n"
     ]
    },
    {
     "name": "stderr",
     "output_type": "stream",
     "text": [
      "Validation: 100%|██████████████████████████████| 81/81 [00:18<00:00,  4.28it/s, Loss=0.4577, Acc=0.8998]\n"
     ]
    },
    {
     "name": "stdout",
     "output_type": "stream",
     "text": [
      "✅ Validation completed in 18.94s\n",
      "\n",
      "📊 Epoch 49 Summary:\n",
      "│ Train Loss: 0.0027 | Train Acc: 0.9992\n",
      "│ Val Loss:   0.4577 | Val Acc:   0.8998\n",
      "│ Train Time: 103.30s | Val Time: 18.94s\n",
      "│ Total Epoch Time: 122.24s\n",
      "│ Best Val Loss: 0.3249 (Epoch 1)\n",
      "│ GPU Memory: 0.1GB / 3.2GB\n",
      "================================================================================\n",
      "\n",
      "📈 Epoch 50/50\n",
      "--------------------------------------------------\n",
      "🔄 Training Phase...\n"
     ]
    },
    {
     "name": "stderr",
     "output_type": "stream",
     "text": [
      "Training: 100%|██████████████████████████████| 311/311 [01:43<00:00,  3.00it/s, Loss=0.0020, Acc=0.9993, GPU=0.1GB]\n"
     ]
    },
    {
     "name": "stdout",
     "output_type": "stream",
     "text": [
      "✅ Training completed in 103.79s\n",
      "🔍 Validation Phase...\n"
     ]
    },
    {
     "name": "stderr",
     "output_type": "stream",
     "text": [
      "Validation: 100%|██████████████████████████████| 81/81 [00:19<00:00,  4.25it/s, Loss=0.5327, Acc=0.8901]\n"
     ]
    },
    {
     "name": "stdout",
     "output_type": "stream",
     "text": [
      "✅ Validation completed in 19.06s\n",
      "\n",
      "📊 Epoch 50 Summary:\n",
      "│ Train Loss: 0.0020 | Train Acc: 0.9993\n",
      "│ Val Loss:   0.5327 | Val Acc:   0.8901\n",
      "│ Train Time: 103.79s | Val Time: 19.06s\n",
      "│ Total Epoch Time: 122.85s\n",
      "│ Best Val Loss: 0.3249 (Epoch 1)\n",
      "│ GPU Memory: 0.1GB / 3.2GB\n",
      "================================================================================\n",
      "\n",
      "💾 Best model saved as 'best_cricket_efficientnetb0_filtered.pth'\n",
      "📊 Best model stats:\n",
      "│ Best Epoch: 1\n",
      "│ Best Val Loss: 0.3249\n",
      "│ Best Val Acc: 0.8738\n",
      "\n",
      "💾 Training history saved to 'cricket_efficientnetb0_filtered_history_pretrained.csv'\n",
      "\n",
      "🎉 EfficientNet-B0 Fine-tuning Complete!\n",
      "Total Training Time: 6230.42s (103.8 minutes)\n",
      "Average Epoch Time: 124.61s\n",
      "\n",
      "🧪 Loading Best Model for Testing...\n",
      "✅ Best model from epoch 1 loaded successfully!\n"
     ]
    },
    {
     "name": "stderr",
     "output_type": "stream",
     "text": [
      "Testing: 100%|██████████████████████████████| 101/101 [00:35<00:00,  2.84it/s]\n"
     ]
    },
    {
     "name": "stdout",
     "output_type": "stream",
     "text": [
      "✅ Testing completed in 35.61s\n",
      "\n",
      "📋 Classification Report:\n",
      "              precision    recall  f1-score   support\n",
      "\n",
      "     Batting       0.92      0.95      0.94      1656\n",
      "     Bowling       0.88      0.86      0.87       488\n",
      "    Fielding       0.83      0.78      0.80       560\n",
      "      Umpire       0.97      0.97      0.97       520\n",
      "\n",
      "    accuracy                           0.91      3224\n",
      "   macro avg       0.90      0.89      0.89      3224\n",
      "weighted avg       0.91      0.91      0.91      3224\n",
      "\n",
      "🎯 Test Accuracy: 0.9085\n",
      "\n",
      "📊 Cricket Classification Performance (EfficientNet-B0 - Filtered Data):\n",
      "│ Best Validation Loss: 0.3249 (Epoch 1)\n",
      "│ Best Validation Acc:  0.8738 (Epoch 1)\n",
      "│ Final Test Accuracy:  0.9085\n",
      "│ Val-Test Gap:         0.0347\n",
      "│ Data Filtering: Excluded 'random_occlusion' folder\n",
      "\n",
      "💾 Files saved:\n",
      "│ best_cricket_efficientnetb0_filtered.pth - Best model weights\n",
      "│ cricket_efficientnetb0_filtered_history.csv - Training metrics\n"
     ]
    },
    {
     "data": {
      "image/png": "[encoded data removed]",
      "text/plain": [
       "<Figure size 1000x800 with 2 Axes>"
      ]
     },
     "metadata": {},
     "output_type": "display_data"
    },
    {
     "data": {
      "image/png": "[encoded data removed]",
      "text/plain": [
       "<Figure size 1500x500 with 3 Axes>"
      ]
     },
     "metadata": {},
     "output_type": "display_data"
    },
    {
     "name": "stdout",
     "output_type": "stream",
     "text": [
      "\n",
      "⏰ Final Timing Summary:\n",
      "│ Total Training: 6230.42s (103.8 min)\n",
      "│ Average per Epoch: 124.61s\n",
      "│ Testing Time: 35.61s\n",
      "│ Total Runtime: 6266.03s\n",
      "\n",
      "⚡ EfficientNet-B0 + Filtered Data Benefits:\n",
      "│ Clean dataset: 'random_occlusion' folder excluded\n",
      "│ Compound scaling: Optimally balanced depth/width/resolution\n",
      "│ Parameter efficient: ~5.3M parameters (vs ~25M ResNet50)\n",
      "│ High accuracy: Often achieves excellent performance\n",
      "│ Fast inference: Optimized for efficiency\n",
      "│ Mobile-friendly: Designed for resource-constrained environments\n"
     ]
    }
   ],
   "source": [
    "# -----------------------------\n",
    "# 3. Training Setup\n",
    "# -----------------------------\n",
    "criterion = nn.CrossEntropyLoss()\n",
    "optimizer = optim.Adam(model.parameters(), lr=1e-4)  # Lower LR for fine-tuning\n",
    "\n",
    "print(f\"\\n📋 Training Configuration:\")\n",
    "print(f\"│ Model: EfficientNet-B0 (pretrained)\")\n",
    "print(f\"│ Optimizer: Adam (lr={optimizer.param_groups[0]['lr']})\")\n",
    "print(f\"│ Loss Function: CrossEntropyLoss\")\n",
    "print(f\"│ Batch Size: 32\")\n",
    "print(f\"│ Device: {device}\")\n",
    "print(f\"│ Data: Filtered (excluding '{ignore_folder}')\")\n",
    "\n",
    "# -----------------------------\n",
    "# 4. Training Loop with Model Saving\n",
    "# -----------------------------\n",
    "train_losses, val_losses = [], []\n",
    "train_accs, val_accs = [], []\n",
    "epoch_times = []\n",
    "epochs = 50\n",
    "\n",
    "# Initialize best model tracking (using val_loss for fine-tuning)\n",
    "best_val_loss = float('inf')\n",
    "best_model_state = None\n",
    "best_epoch = 0\n",
    "best_val_acc = 0.0\n",
    "\n",
    "print(f\"\\n🚀 Starting EfficientNet-B0 Fine-tuning for {epochs} epochs...\")\n",
    "print(\"=\" * 80)\n",
    "total_start_time = time.time()\n",
    "\n",
    "for epoch in range(epochs):\n",
    "    epoch_start_time = time.time()\n",
    "    \n",
    "    print(f\"\\n📈 Epoch {epoch+1}/{epochs}\")\n",
    "    print(\"-\" * 50)\n",
    "    \n",
    "    # Training Phase\n",
    "    print(\"🔄 Training Phase...\")\n",
    "    model.train()\n",
    "    running_loss, correct, total = 0, 0, 0\n",
    "    \n",
    "    train_pbar = tqdm(train_loader, desc=\"Training\", \n",
    "                     bar_format='{l_bar}{bar:30}{r_bar}{bar:-30b}')\n",
    "    \n",
    "    train_phase_start = time.time()\n",
    "    \n",
    "    for batch_idx, (imgs, labels) in enumerate(train_pbar):\n",
    "        imgs, labels = imgs.to(device), labels.to(device)\n",
    "        \n",
    "        optimizer.zero_grad()\n",
    "        outputs = model(imgs)\n",
    "        loss = criterion(outputs, labels)\n",
    "        loss.backward()\n",
    "        optimizer.step()\n",
    "        \n",
    "        running_loss += loss.item()\n",
    "        _, preds = torch.max(outputs, 1)\n",
    "        correct += (preds == labels).sum().item()\n",
    "        total += labels.size(0)\n",
    "        \n",
    "        current_acc = correct / total\n",
    "        train_pbar.set_postfix({\n",
    "            'Loss': f'{running_loss/(batch_idx+1):.4f}',\n",
    "            'Acc': f'{current_acc:.4f}'\n",
    "        })\n",
    "        \n",
    "        if device.type == 'cuda' and batch_idx % 10 == 0:\n",
    "            gpu_memory = torch.cuda.memory_allocated() / 1024**3\n",
    "            train_pbar.set_postfix({\n",
    "                'Loss': f'{running_loss/(batch_idx+1):.4f}',\n",
    "                'Acc': f'{current_acc:.4f}',\n",
    "                'GPU': f'{gpu_memory:.1f}GB'\n",
    "            })\n",
    "    \n",
    "    train_phase_time = time.time() - train_phase_start\n",
    "    train_loss = running_loss / len(train_loader)\n",
    "    train_acc = correct / total\n",
    "    train_losses.append(train_loss)\n",
    "    train_accs.append(train_acc)\n",
    "    \n",
    "    print(f\"✅ Training completed in {train_phase_time:.2f}s\")\n",
    "    \n",
    "    # Validation Phase\n",
    "    print(\"🔍 Validation Phase...\")\n",
    "    model.eval()\n",
    "    running_loss, correct, total = 0, 0, 0\n",
    "    \n",
    "    val_phase_start = time.time()\n",
    "    val_pbar = tqdm(val_loader, desc=\"Validation\", \n",
    "                   bar_format='{l_bar}{bar:30}{r_bar}{bar:-30b}')\n",
    "    \n",
    "    with torch.no_grad():\n",
    "        for batch_idx, (imgs, labels) in enumerate(val_pbar):\n",
    "            imgs, labels = imgs.to(device), labels.to(device)\n",
    "            outputs = model(imgs)\n",
    "            loss = criterion(outputs, labels)\n",
    "            \n",
    "            running_loss += loss.item()\n",
    "            _, preds = torch.max(outputs, 1)\n",
    "            correct += (preds == labels).sum().item()\n",
    "            total += labels.size(0)\n",
    "            \n",
    "            current_acc = correct / total\n",
    "            val_pbar.set_postfix({\n",
    "                'Loss': f'{running_loss/(batch_idx+1):.4f}',\n",
    "                'Acc': f'{current_acc:.4f}'\n",
    "            })\n",
    "    \n",
    "    val_phase_time = time.time() - val_phase_start\n",
    "    val_loss = running_loss / len(val_loader)\n",
    "    val_acc = correct / total\n",
    "    val_losses.append(val_loss)\n",
    "    val_accs.append(val_acc)\n",
    "    \n",
    "    print(f\"✅ Validation completed in {val_phase_time:.2f}s\")\n",
    "    \n",
    "    # Check if this is the best model (using val_loss for fine-tuning)\n",
    "    is_best = val_loss < best_val_loss\n",
    "    if is_best:\n",
    "        best_val_loss = val_loss\n",
    "        best_val_acc = val_acc\n",
    "        best_epoch = epoch + 1\n",
    "        best_model_state = model.state_dict().copy()\n",
    "        print(f\"🌟 New best model found! Validation Loss: {val_loss:.4f}\")\n",
    "    \n",
    "    # Epoch Summary\n",
    "    epoch_time = time.time() - epoch_start_time\n",
    "    epoch_times.append(epoch_time)\n",
    "    \n",
    "    print(f\"\\n📊 Epoch {epoch+1} Summary:\")\n",
    "    print(f\"│ Train Loss: {train_loss:.4f} | Train Acc: {train_acc:.4f}\")\n",
    "    print(f\"│ Val Loss:   {val_loss:.4f} | Val Acc:   {val_acc:.4f}\")\n",
    "    print(f\"│ Train Time: {train_phase_time:.2f}s | Val Time: {val_phase_time:.2f}s\")\n",
    "    print(f\"│ Total Epoch Time: {epoch_time:.2f}s\")\n",
    "    print(f\"│ Best Val Loss: {best_val_loss:.4f} (Epoch {best_epoch})\")\n",
    "    \n",
    "    if device.type == 'cuda':\n",
    "        print(f\"│ GPU Memory: {torch.cuda.memory_allocated()/1024**3:.1f}GB / {torch.cuda.memory_reserved()/1024**3:.1f}GB\")\n",
    "    \n",
    "    print(\"=\" * 80)\n",
    "\n",
    "total_training_time = time.time() - total_start_time\n",
    "\n",
    "# Save the best model\n",
    "if best_model_state is not None:\n",
    "    torch.save(best_model_state, 'best_cricket_efficientnetb0_filtered_pretrained.pth')\n",
    "    print(f\"\\n💾 Best model saved as 'best_cricket_efficientnetb0_filtered.pth'\")\n",
    "    print(f\"📊 Best model stats:\")\n",
    "    print(f\"│ Best Epoch: {best_epoch}\")\n",
    "    print(f\"│ Best Val Loss: {best_val_loss:.4f}\")\n",
    "    print(f\"│ Best Val Acc: {best_val_acc:.4f}\")\n",
    "\n",
    "# Save training history\n",
    "history_data = {\n",
    "    'epoch': list(range(1, epochs+1)),\n",
    "    'train_loss': train_losses,\n",
    "    'val_loss': val_losses,\n",
    "    'train_acc': train_accs,\n",
    "    'val_acc': val_accs,\n",
    "    'epoch_time': epoch_times\n",
    "}\n",
    "\n",
    "history_df = pd.DataFrame(history_data)\n",
    "history_df.to_csv('cricket_efficientnetb0_filtered_history_pretrained.csv', index=False)\n",
    "print(\"\\n💾 Training history saved to 'cricket_efficientnetb0_filtered_history_pretrained.csv'\")\n",
    "\n",
    "print(f\"\\n🎉 EfficientNet-B0 Fine-tuning Complete!\")\n",
    "print(f\"Total Training Time: {total_training_time:.2f}s ({total_training_time/60:.1f} minutes)\")\n",
    "print(f\"Average Epoch Time: {np.mean(epoch_times):.2f}s\")\n",
    "\n",
    "# -----------------------------\n",
    "# 5. Load Best Model and Test\n",
    "# -----------------------------\n",
    "print(f\"\\n🧪 Loading Best Model for Testing...\")\n",
    "if best_model_state is not None:\n",
    "    model.load_state_dict(best_model_state)\n",
    "    print(f\"✅ Best model from epoch {best_epoch} loaded successfully!\")\n",
    "\n",
    "test_start_time = time.time()\n",
    "y_true, y_pred = [], []\n",
    "model.eval()\n",
    "test_pbar = tqdm(test_loader, desc=\"Testing\", \n",
    "                bar_format='{l_bar}{bar:30}{r_bar}{bar:-30b}')\n",
    "\n",
    "with torch.no_grad():\n",
    "    for imgs, labels in test_pbar:\n",
    "        imgs, labels = imgs.to(device), labels.to(device)\n",
    "        outputs = model(imgs)\n",
    "        _, preds = torch.max(outputs, 1)\n",
    "        y_true.extend(labels.cpu().numpy())\n",
    "        y_pred.extend(preds.cpu().numpy())\n",
    "\n",
    "test_time = time.time() - test_start_time\n",
    "test_accuracy = accuracy_score(y_true, y_pred)\n",
    "\n",
    "print(f\"✅ Testing completed in {test_time:.2f}s\")\n",
    "print(\"\\n📋 Classification Report:\")\n",
    "print(classification_report(y_true, y_pred, target_names=classes))\n",
    "print(f\"🎯 Test Accuracy: {test_accuracy:.4f}\")\n",
    "\n",
    "# Performance Summary\n",
    "print(f\"\\n📊 Cricket Classification Performance (EfficientNet-B0 - Filtered Data):\")\n",
    "print(f\"│ Best Validation Loss: {best_val_loss:.4f} (Epoch {best_epoch})\")\n",
    "print(f\"│ Best Validation Acc:  {best_val_acc:.4f} (Epoch {best_epoch})\")\n",
    "print(f\"│ Final Test Accuracy:  {test_accuracy:.4f}\")\n",
    "print(f\"│ Val-Test Gap:         {abs(best_val_acc - test_accuracy):.4f}\")\n",
    "print(f\"│ Data Filtering: Excluded '{ignore_folder}' folder\")\n",
    "\n",
    "print(f\"\\n💾 Files saved:\")\n",
    "print(f\"│ best_cricket_efficientnetb0_filtered.pth - Best model weights\")\n",
    "print(f\"│ cricket_efficientnetb0_filtered_history.csv - Training metrics\")\n",
    "\n",
    "# -----------------------------\n",
    "# 6. Visualizations\n",
    "# -----------------------------\n",
    "# Confusion Matrix\n",
    "cm = confusion_matrix(y_true, y_pred)\n",
    "plt.figure(figsize=(10, 8))\n",
    "sns.heatmap(cm, annot=True, fmt=\"d\", cmap=\"Blues\", \n",
    "            xticklabels=classes, yticklabels=classes)\n",
    "plt.xlabel(\"Predicted\")\n",
    "plt.ylabel(\"True\")\n",
    "plt.title(f\"Cricket Classification - EfficientNet-B0 (Filtered Data) - Epoch {best_epoch}\")\n",
    "plt.tight_layout()\n",
    "plt.show()\n",
    "\n",
    "# Training Curves\n",
    "plt.figure(figsize=(15, 5))\n",
    "\n",
    "# Loss Plot\n",
    "plt.subplot(1, 3, 1)\n",
    "plt.plot(range(1, epochs+1), train_losses, 'b-', label=\"Train Loss\", marker='o', linewidth=2)\n",
    "plt.plot(range(1, epochs+1), val_losses, 'r-', label=\"Val Loss\", marker='s', linewidth=2)\n",
    "plt.axvline(x=best_epoch, color='green', linestyle='--', alpha=0.7, label=f'Best (Epoch {best_epoch})')\n",
    "plt.scatter([best_epoch], [best_val_loss], color='green', s=100, zorder=5)\n",
    "plt.legend()\n",
    "plt.title(\"EfficientNet-B0 Loss over Epochs (Filtered)\")\n",
    "plt.xlabel(\"Epoch\")\n",
    "plt.ylabel(\"Loss\")\n",
    "plt.grid(True, alpha=0.3)\n",
    "\n",
    "# Accuracy Plot\n",
    "plt.subplot(1, 3, 2)\n",
    "plt.plot(range(1, epochs+1), train_accs, 'b-', label=\"Train Accuracy\", marker='o', linewidth=2)\n",
    "plt.plot(range(1, epochs+1), val_accs, 'r-', label=\"Val Accuracy\", marker='s', linewidth=2)\n",
    "plt.axvline(x=best_epoch, color='green', linestyle='--', alpha=0.7, label=f'Best (Epoch {best_epoch})')\n",
    "plt.scatter([best_epoch], [best_val_acc], color='green', s=100, zorder=5)\n",
    "plt.legend()\n",
    "plt.title(\"EfficientNet-B0 Accuracy over Epochs (Filtered)\")\n",
    "plt.xlabel(\"Epoch\")\n",
    "plt.ylabel(\"Accuracy\")\n",
    "plt.grid(True, alpha=0.3)\n",
    "\n",
    "# Final Performance\n",
    "plt.subplot(1, 3, 3)\n",
    "metrics = ['Best Val Acc', 'Test Acc']\n",
    "values = [best_val_acc, test_accuracy]\n",
    "colors = ['orange', 'green']\n",
    "bars = plt.bar(metrics, values, color=colors, alpha=0.7)\n",
    "plt.title(\"EfficientNet-B0 Final Performance (Filtered)\")\n",
    "plt.ylabel(\"Accuracy\")\n",
    "plt.ylim(0, 1)\n",
    "plt.grid(True, alpha=0.3)\n",
    "for bar, val in zip(bars, values):\n",
    "    plt.text(bar.get_x() + bar.get_width()/2, val + 0.01, \n",
    "             f'{val:.4f}', ha='center', va='bottom')\n",
    "\n",
    "plt.tight_layout()\n",
    "plt.show()\n",
    "\n",
    "# Final Summary\n",
    "print(f\"\\n⏰ Final Timing Summary:\")\n",
    "print(f\"│ Total Training: {total_training_time:.2f}s ({total_training_time/60:.1f} min)\")\n",
    "print(f\"│ Average per Epoch: {np.mean(epoch_times):.2f}s\")\n",
    "print(f\"│ Testing Time: {test_time:.2f}s\")\n",
    "print(f\"│ Total Runtime: {total_training_time + test_time:.2f}s\")\n",
    "\n",
    "# Model and Data Info\n",
    "print(f\"\\n⚡ EfficientNet-B0 + Filtered Data Benefits:\")\n",
    "print(f\"│ Clean dataset: '{ignore_folder}' folder excluded\")\n",
    "print(f\"│ Compound scaling: Optimally balanced depth/width/resolution\")\n",
    "print(f\"│ Parameter efficient: ~5.3M parameters (vs ~25M ResNet50)\")\n",
    "print(f\"│ High accuracy: Often achieves excellent performance\")\n",
    "print(f\"│ Fast inference: Optimized for efficiency\")\n",
    "print(f\"│ Mobile-friendly: Designed for resource-constrained environments\")"
   ]
  }
 ],
 "metadata": {
  "kaggle": {
   "accelerator": "nvidiaTeslaT4",
   "dataSources": [
    {
     "datasetId": 7735666,
     "sourceId": 12275446,
     "sourceType": "datasetVersion"
    }
   ],
   "dockerImageVersionId": 31090,
   "isGpuEnabled": true,
   "isInternetEnabled": true,
   "language": "python",
   "sourceType": "notebook"
  },
  "kernelspec": {
   "display_name": "Python 3",
   "language": "python",
   "name": "python3"
  },
  "language_info": {
   "codemirror_mode": {
    "name": "ipython",
    "version": 3
   },
   "file_extension": ".py",
   "mimetype": "text/x-python",
   "name": "python",
   "nbconvert_exporter": "python",
   "pygments_lexer": "ipython3",
   "version": "3.11.13"
  },
  "papermill": {
   "default_parameters": {},
   "duration": 6293.837924,
   "end_time": "2025-09-07T09:07:55.351674",
   "environment_variables": {},
   "exception": null,
   "input_path": "__notebook__.ipynb",
   "output_path": "__notebook__.ipynb",
   "parameters": {},
   "start_time": "2025-09-07T07:23:01.513750",
   "version": "2.6.0"
  }
 },
 "nbformat": 4,
 "nbformat_minor": 5
}
