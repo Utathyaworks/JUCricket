{
 "cells": [
  {
   "cell_type": "code",
   "execution_count": 1,
   "id": "a45ffc36",
   "metadata": {
    "_cell_guid": "b1076dfc-b9ad-4769-8c92-a6c4dae69d19",
    "_uuid": "8f2839f25d086af736a60e9eeb907d3b93b6e0e5",
    "execution": {
     "iopub.execute_input": "2025-09-08T10:08:22.742327Z",
     "iopub.status.busy": "2025-09-08T10:08:22.741938Z",
     "iopub.status.idle": "2025-09-08T10:08:36.785795Z",
     "shell.execute_reply": "2025-09-08T10:08:36.784899Z"
    },
    "papermill": {
     "duration": 14.049282,
     "end_time": "2025-09-08T10:08:36.786913",
     "exception": false,
     "start_time": "2025-09-08T10:08:22.737631",
     "status": "completed"
    },
    "tags": []
   },
   "outputs": [
    {
     "name": "stdout",
     "output_type": "stream",
     "text": [
      "Classes: ['Four', 'Leg_Bye', 'No_ball', 'Out', 'Six', 'Wide']\n"
     ]
    }
   ],
   "source": [
    "import torch\n",
    "import torch.nn as nn\n",
    "import torch.nn.functional as F\n",
    "from torch.utils.data import DataLoader\n",
    "from torchvision import datasets, transforms\n",
    "from torchsummary import summary\n",
    "import matplotlib.pyplot as plt\n",
    "from sklearn.metrics import classification_report, confusion_matrix, accuracy_score\n",
    "import seaborn as sns\n",
    "import numpy as np\n",
    "\n",
    "# -----------------------------\n",
    "# 1. Data Preprocessing\n",
    "# -----------------------------\n",
    "data_dir = \"/kaggle/input/ju-cricket/Cricket_Dataset_final/Task_B\"\n",
    "\n",
    "transform = transforms.Compose([\n",
    "    transforms.Resize((224, 224)),\n",
    "    transforms.ToTensor(),\n",
    "    transforms.Normalize([0.485, 0.456, 0.406], \n",
    "                         [0.229, 0.224, 0.225])\n",
    "])\n",
    "\n",
    "train_ds = datasets.ImageFolder(f\"{data_dir}/train/Umpire\", transform=transform)\n",
    "val_ds   = datasets.ImageFolder(f\"{data_dir}/val/Umpire\", transform=transform)\n",
    "test_ds  = datasets.ImageFolder(f\"{data_dir}/test/Umpire\", transform=transform)\n",
    "\n",
    "train_loader = DataLoader(train_ds, batch_size=32, shuffle=True)\n",
    "val_loader   = DataLoader(val_ds, batch_size=32, shuffle=False)\n",
    "test_loader  = DataLoader(test_ds, batch_size=32, shuffle=False)\n",
    "\n",
    "classes = train_ds.classes\n",
    "print(\"Classes:\", classes)"
   ]
  },
  {
   "cell_type": "code",
   "execution_count": 2,
   "id": "273ac0a9",
   "metadata": {
    "execution": {
     "iopub.execute_input": "2025-09-08T10:08:36.793121Z",
     "iopub.status.busy": "2025-09-08T10:08:36.792721Z",
     "iopub.status.idle": "2025-09-08T10:08:36.797539Z",
     "shell.execute_reply": "2025-09-08T10:08:36.796630Z"
    },
    "papermill": {
     "duration": 0.008869,
     "end_time": "2025-09-08T10:08:36.798639",
     "exception": false,
     "start_time": "2025-09-08T10:08:36.789770",
     "status": "completed"
    },
    "tags": []
   },
   "outputs": [
    {
     "name": "stdout",
     "output_type": "stream",
     "text": [
      "Total training images: 1728\n",
      "Total validation images: 468\n",
      "Total test images: 585\n",
      "Total images in dataset: 2781\n"
     ]
    }
   ],
   "source": [
    "print(\"Total training images:\", len(train_ds))\n",
    "print(\"Total validation images:\", len(val_ds))\n",
    "print(\"Total test images:\", len(test_ds))\n",
    "\n",
    "total_images = len(train_ds) + len(val_ds) + len(test_ds)\n",
    "print(\"Total images in dataset:\", total_images)"
   ]
  },
  {
   "cell_type": "code",
   "execution_count": 3,
   "id": "e527a9e4",
   "metadata": {
    "execution": {
     "iopub.execute_input": "2025-09-08T10:08:36.804321Z",
     "iopub.status.busy": "2025-09-08T10:08:36.803794Z",
     "iopub.status.idle": "2025-09-08T10:08:36.810779Z",
     "shell.execute_reply": "2025-09-08T10:08:36.810086Z"
    },
    "papermill": {
     "duration": 0.010795,
     "end_time": "2025-09-08T10:08:36.811795",
     "exception": false,
     "start_time": "2025-09-08T10:08:36.801000",
     "status": "completed"
    },
    "tags": []
   },
   "outputs": [
    {
     "name": "stdout",
     "output_type": "stream",
     "text": [
      "Training images (excluding 'random_occlusion'): 1536\n",
      "Validation images (excluding 'random_occlusion'): 416\n",
      "Test images (excluding 'random_occlusion'): 520\n",
      "Total images (excluding 'random_occlusion'): 2472\n"
     ]
    }
   ],
   "source": [
    "ignore_folder = \"random_occlusion\"\n",
    "\n",
    "def count_images_ignore_folder(dataset, ignore_folder):\n",
    "    count = 0\n",
    "    for img_path, label in dataset.samples:\n",
    "        # Skip if the image path contains the ignore_folder\n",
    "        if ignore_folder not in img_path.split(\"/\"):\n",
    "            count += 1\n",
    "    return count\n",
    "\n",
    "train_count = count_images_ignore_folder(train_ds, ignore_folder)\n",
    "val_count   = count_images_ignore_folder(val_ds, ignore_folder)\n",
    "test_count  = count_images_ignore_folder(test_ds, ignore_folder)\n",
    "\n",
    "total_count = train_count + val_count + test_count\n",
    "\n",
    "print(\"Training images (excluding '{}'): {}\".format(ignore_folder, train_count))\n",
    "print(\"Validation images (excluding '{}'): {}\".format(ignore_folder, val_count))\n",
    "print(\"Test images (excluding '{}'): {}\".format(ignore_folder, test_count))\n",
    "print(\"Total images (excluding '{}'): {}\".format(ignore_folder, total_count))"
   ]
  },
  {
   "cell_type": "code",
   "execution_count": 4,
   "id": "b641e4ec",
   "metadata": {
    "execution": {
     "iopub.execute_input": "2025-09-08T10:08:36.817248Z",
     "iopub.status.busy": "2025-09-08T10:08:36.817002Z",
     "iopub.status.idle": "2025-09-08T10:08:36.824601Z",
     "shell.execute_reply": "2025-09-08T10:08:36.824064Z"
    },
    "papermill": {
     "duration": 0.011481,
     "end_time": "2025-09-08T10:08:36.825638",
     "exception": false,
     "start_time": "2025-09-08T10:08:36.814157",
     "status": "completed"
    },
    "tags": []
   },
   "outputs": [
    {
     "name": "stdout",
     "output_type": "stream",
     "text": [
      "Training folders considered: {'original', 'blur', 'dirty_lens', 'chromatic_aberration', 'lens_flare', 'random_occlusion', 'low_resolution', 'motion_blur', 'gaussian_noise'}\n",
      "Validation folders considered: {'original', 'blur', 'dirty_lens', 'chromatic_aberration', 'lens_flare', 'random_occlusion', 'low_resolution', 'motion_blur', 'gaussian_noise'}\n",
      "Test folders considered: {'original', 'blur', 'dirty_lens', 'chromatic_aberration', 'lens_flare', 'random_occlusion', 'low_resolution', 'motion_blur', 'gaussian_noise'}\n"
     ]
    }
   ],
   "source": [
    "ignore_folder = \"random_occlusionw\"\n",
    "\n",
    "def get_included_folders(dataset, ignore_folder):\n",
    "    included = set()\n",
    "    for img_path, label in dataset.samples:\n",
    "        # Split the path into parts and ignore if ignore_folder is in the path\n",
    "        if ignore_folder not in img_path.split(\"/\"):\n",
    "            # The folder name just above the image (or the class folder)\n",
    "            folder_name = img_path.split(\"/\")[-2]\n",
    "            included.add(folder_name)\n",
    "    return included\n",
    "\n",
    "train_folders = get_included_folders(train_ds, ignore_folder)\n",
    "val_folders   = get_included_folders(val_ds, ignore_folder)\n",
    "test_folders  = get_included_folders(test_ds, ignore_folder)\n",
    "\n",
    "print(\"Training folders considered:\", train_folders)\n",
    "print(\"Validation folders considered:\", val_folders)\n",
    "print(\"Test folders considered:\", test_folders)"
   ]
  },
  {
   "cell_type": "code",
   "execution_count": 5,
   "id": "5d6075c6",
   "metadata": {
    "execution": {
     "iopub.execute_input": "2025-09-08T10:08:36.831314Z",
     "iopub.status.busy": "2025-09-08T10:08:36.830877Z",
     "iopub.status.idle": "2025-09-08T10:08:36.957392Z",
     "shell.execute_reply": "2025-09-08T10:08:36.956616Z"
    },
    "papermill": {
     "duration": 0.130514,
     "end_time": "2025-09-08T10:08:36.958530",
     "exception": false,
     "start_time": "2025-09-08T10:08:36.828016",
     "status": "completed"
    },
    "tags": []
   },
   "outputs": [
    {
     "name": "stdout",
     "output_type": "stream",
     "text": [
      "Classes: ['Four', 'Leg_Bye', 'No_ball', 'Out', 'Six', 'Wide']\n",
      "Final Training images: 1536\n",
      "Final Validation images: 416\n",
      "Final Test images: 520\n",
      "Total images after filtering: 2472\n"
     ]
    }
   ],
   "source": [
    "ignore_folder = \"random_occlusion\"\n",
    "\n",
    "def filter_samples(dataset, ignore_folder):\n",
    "    # Keep only samples where ignore_folder is NOT in the path\n",
    "    filtered_samples = [s for s in dataset.samples if ignore_folder not in s[0].split(\"/\")]\n",
    "    dataset.samples = filtered_samples\n",
    "    dataset.targets = [s[1] for s in filtered_samples]  # Update targets accordingly\n",
    "    return dataset\n",
    "\n",
    "# Create original datasets\n",
    "train_ds = datasets.ImageFolder(f\"{data_dir}/train/Umpire\", transform=transform)\n",
    "val_ds   = datasets.ImageFolder(f\"{data_dir}/val/Umpire\", transform=transform)\n",
    "test_ds  = datasets.ImageFolder(f\"{data_dir}/test/Umpire\", transform=transform)\n",
    "\n",
    "# Filter out 'random_occlusion' folder\n",
    "train_ds = filter_samples(train_ds, ignore_folder)\n",
    "val_ds   = filter_samples(val_ds, ignore_folder)\n",
    "test_ds  = filter_samples(test_ds, ignore_folder)\n",
    "\n",
    "# DataLoaders\n",
    "train_loader = DataLoader(train_ds, batch_size=32, shuffle=True)\n",
    "val_loader   = DataLoader(val_ds, batch_size=32, shuffle=False)\n",
    "test_loader  = DataLoader(test_ds, batch_size=32, shuffle=False)\n",
    "\n",
    "# Classes (will remain the same)\n",
    "classes = train_ds.classes\n",
    "print(\"Classes:\", classes)\n",
    "\n",
    "# Show counts\n",
    "print(\"Final Training images:\", len(train_ds))\n",
    "print(\"Final Validation images:\", len(val_ds))\n",
    "print(\"Final Test images:\", len(test_ds))\n",
    "print(\"Total images after filtering:\", len(train_ds) + len(val_ds) + len(test_ds))"
   ]
  },
  {
   "cell_type": "code",
   "execution_count": 6,
   "id": "573b0c21",
   "metadata": {
    "execution": {
     "iopub.execute_input": "2025-09-08T10:08:36.964066Z",
     "iopub.status.busy": "2025-09-08T10:08:36.963863Z",
     "iopub.status.idle": "2025-09-08T10:08:36.971163Z",
     "shell.execute_reply": "2025-09-08T10:08:36.970489Z"
    },
    "papermill": {
     "duration": 0.011232,
     "end_time": "2025-09-08T10:08:36.972218",
     "exception": false,
     "start_time": "2025-09-08T10:08:36.960986",
     "status": "completed"
    },
    "tags": []
   },
   "outputs": [
    {
     "name": "stdout",
     "output_type": "stream",
     "text": [
      "Training folders considered: {'original', 'blur', 'dirty_lens', 'chromatic_aberration', 'lens_flare', 'low_resolution', 'motion_blur', 'gaussian_noise'}\n",
      "Validation folders considered: {'original', 'blur', 'dirty_lens', 'chromatic_aberration', 'lens_flare', 'low_resolution', 'motion_blur', 'gaussian_noise'}\n",
      "Test folders considered: {'original', 'blur', 'dirty_lens', 'chromatic_aberration', 'lens_flare', 'low_resolution', 'motion_blur', 'gaussian_noise'}\n"
     ]
    }
   ],
   "source": [
    "ignore_folder = \"random_occlusion\"\n",
    "\n",
    "def get_included_folders(dataset, ignore_folder):\n",
    "    included = set()\n",
    "    for img_path, label in dataset.samples:\n",
    "        # Split the path into parts and ignore if ignore_folder is in the path\n",
    "        if ignore_folder not in img_path.split(\"/\"):\n",
    "            # The folder name just above the image (or the class folder)\n",
    "            folder_name = img_path.split(\"/\")[-2]\n",
    "            included.add(folder_name)\n",
    "    return included\n",
    "\n",
    "train_folders = get_included_folders(train_ds, ignore_folder)\n",
    "val_folders   = get_included_folders(val_ds, ignore_folder)\n",
    "test_folders  = get_included_folders(test_ds, ignore_folder)\n",
    "\n",
    "print(\"Training folders considered:\", train_folders)\n",
    "print(\"Validation folders considered:\", val_folders)\n",
    "print(\"Test folders considered:\", test_folders)"
   ]
  },
  {
   "cell_type": "code",
   "execution_count": 7,
   "id": "4f60e8bf",
   "metadata": {
    "execution": {
     "iopub.execute_input": "2025-09-08T10:08:36.978009Z",
     "iopub.status.busy": "2025-09-08T10:08:36.977815Z",
     "iopub.status.idle": "2025-09-08T10:08:38.395790Z",
     "shell.execute_reply": "2025-09-08T10:08:38.395147Z"
    },
    "papermill": {
     "duration": 1.423121,
     "end_time": "2025-09-08T10:08:38.397730",
     "exception": false,
     "start_time": "2025-09-08T10:08:36.974609",
     "status": "completed"
    },
    "tags": []
   },
   "outputs": [
    {
     "name": "stdout",
     "output_type": "stream",
     "text": [
      "DenseNet-121 Model Summary:\n",
      "----------------------------------------------------------------\n",
      "        Layer (type)               Output Shape         Param #\n",
      "================================================================\n",
      "            Conv2d-1         [-1, 64, 112, 112]           9,408\n",
      "       BatchNorm2d-2         [-1, 64, 112, 112]             128\n",
      "         MaxPool2d-3           [-1, 64, 56, 56]               0\n",
      "       BatchNorm2d-4           [-1, 64, 56, 56]             128\n",
      "            Conv2d-5          [-1, 128, 56, 56]           8,192\n",
      "       BatchNorm2d-6          [-1, 128, 56, 56]             256\n",
      "            Conv2d-7           [-1, 32, 56, 56]          36,864\n",
      "        DenseLayer-8           [-1, 96, 56, 56]               0\n",
      "       BatchNorm2d-9           [-1, 96, 56, 56]             192\n",
      "           Conv2d-10          [-1, 128, 56, 56]          12,288\n",
      "      BatchNorm2d-11          [-1, 128, 56, 56]             256\n",
      "           Conv2d-12           [-1, 32, 56, 56]          36,864\n",
      "       DenseLayer-13          [-1, 128, 56, 56]               0\n",
      "      BatchNorm2d-14          [-1, 128, 56, 56]             256\n",
      "           Conv2d-15          [-1, 128, 56, 56]          16,384\n",
      "      BatchNorm2d-16          [-1, 128, 56, 56]             256\n",
      "           Conv2d-17           [-1, 32, 56, 56]          36,864\n",
      "       DenseLayer-18          [-1, 160, 56, 56]               0\n",
      "      BatchNorm2d-19          [-1, 160, 56, 56]             320\n",
      "           Conv2d-20          [-1, 128, 56, 56]          20,480\n",
      "      BatchNorm2d-21          [-1, 128, 56, 56]             256\n",
      "           Conv2d-22           [-1, 32, 56, 56]          36,864\n",
      "       DenseLayer-23          [-1, 192, 56, 56]               0\n",
      "      BatchNorm2d-24          [-1, 192, 56, 56]             384\n",
      "           Conv2d-25          [-1, 128, 56, 56]          24,576\n",
      "      BatchNorm2d-26          [-1, 128, 56, 56]             256\n",
      "           Conv2d-27           [-1, 32, 56, 56]          36,864\n",
      "       DenseLayer-28          [-1, 224, 56, 56]               0\n",
      "      BatchNorm2d-29          [-1, 224, 56, 56]             448\n",
      "           Conv2d-30          [-1, 128, 56, 56]          28,672\n",
      "      BatchNorm2d-31          [-1, 128, 56, 56]             256\n",
      "           Conv2d-32           [-1, 32, 56, 56]          36,864\n",
      "       DenseLayer-33          [-1, 256, 56, 56]               0\n",
      "       DenseBlock-34          [-1, 256, 56, 56]               0\n",
      "      BatchNorm2d-35          [-1, 256, 56, 56]             512\n",
      "           Conv2d-36          [-1, 128, 56, 56]          32,768\n",
      "        AvgPool2d-37          [-1, 128, 28, 28]               0\n",
      "  TransitionLayer-38          [-1, 128, 28, 28]               0\n",
      "      BatchNorm2d-39          [-1, 128, 28, 28]             256\n",
      "           Conv2d-40          [-1, 128, 28, 28]          16,384\n",
      "      BatchNorm2d-41          [-1, 128, 28, 28]             256\n",
      "           Conv2d-42           [-1, 32, 28, 28]          36,864\n",
      "       DenseLayer-43          [-1, 160, 28, 28]               0\n",
      "      BatchNorm2d-44          [-1, 160, 28, 28]             320\n",
      "           Conv2d-45          [-1, 128, 28, 28]          20,480\n",
      "      BatchNorm2d-46          [-1, 128, 28, 28]             256\n",
      "           Conv2d-47           [-1, 32, 28, 28]          36,864\n",
      "       DenseLayer-48          [-1, 192, 28, 28]               0\n",
      "      BatchNorm2d-49          [-1, 192, 28, 28]             384\n",
      "           Conv2d-50          [-1, 128, 28, 28]          24,576\n",
      "      BatchNorm2d-51          [-1, 128, 28, 28]             256\n",
      "           Conv2d-52           [-1, 32, 28, 28]          36,864\n",
      "       DenseLayer-53          [-1, 224, 28, 28]               0\n",
      "      BatchNorm2d-54          [-1, 224, 28, 28]             448\n",
      "           Conv2d-55          [-1, 128, 28, 28]          28,672\n",
      "      BatchNorm2d-56          [-1, 128, 28, 28]             256\n",
      "           Conv2d-57           [-1, 32, 28, 28]          36,864\n",
      "       DenseLayer-58          [-1, 256, 28, 28]               0\n",
      "      BatchNorm2d-59          [-1, 256, 28, 28]             512\n",
      "           Conv2d-60          [-1, 128, 28, 28]          32,768\n",
      "      BatchNorm2d-61          [-1, 128, 28, 28]             256\n",
      "           Conv2d-62           [-1, 32, 28, 28]          36,864\n",
      "       DenseLayer-63          [-1, 288, 28, 28]               0\n",
      "      BatchNorm2d-64          [-1, 288, 28, 28]             576\n",
      "           Conv2d-65          [-1, 128, 28, 28]          36,864\n",
      "      BatchNorm2d-66          [-1, 128, 28, 28]             256\n",
      "           Conv2d-67           [-1, 32, 28, 28]          36,864\n",
      "       DenseLayer-68          [-1, 320, 28, 28]               0\n",
      "      BatchNorm2d-69          [-1, 320, 28, 28]             640\n",
      "           Conv2d-70          [-1, 128, 28, 28]          40,960\n",
      "      BatchNorm2d-71          [-1, 128, 28, 28]             256\n",
      "           Conv2d-72           [-1, 32, 28, 28]          36,864\n",
      "       DenseLayer-73          [-1, 352, 28, 28]               0\n",
      "      BatchNorm2d-74          [-1, 352, 28, 28]             704\n",
      "           Conv2d-75          [-1, 128, 28, 28]          45,056\n",
      "      BatchNorm2d-76          [-1, 128, 28, 28]             256\n",
      "           Conv2d-77           [-1, 32, 28, 28]          36,864\n",
      "       DenseLayer-78          [-1, 384, 28, 28]               0\n",
      "      BatchNorm2d-79          [-1, 384, 28, 28]             768\n",
      "           Conv2d-80          [-1, 128, 28, 28]          49,152\n",
      "      BatchNorm2d-81          [-1, 128, 28, 28]             256\n",
      "           Conv2d-82           [-1, 32, 28, 28]          36,864\n",
      "       DenseLayer-83          [-1, 416, 28, 28]               0\n",
      "      BatchNorm2d-84          [-1, 416, 28, 28]             832\n",
      "           Conv2d-85          [-1, 128, 28, 28]          53,248\n",
      "      BatchNorm2d-86          [-1, 128, 28, 28]             256\n",
      "           Conv2d-87           [-1, 32, 28, 28]          36,864\n",
      "       DenseLayer-88          [-1, 448, 28, 28]               0\n",
      "      BatchNorm2d-89          [-1, 448, 28, 28]             896\n",
      "           Conv2d-90          [-1, 128, 28, 28]          57,344\n",
      "      BatchNorm2d-91          [-1, 128, 28, 28]             256\n",
      "           Conv2d-92           [-1, 32, 28, 28]          36,864\n",
      "       DenseLayer-93          [-1, 480, 28, 28]               0\n",
      "      BatchNorm2d-94          [-1, 480, 28, 28]             960\n",
      "           Conv2d-95          [-1, 128, 28, 28]          61,440\n",
      "      BatchNorm2d-96          [-1, 128, 28, 28]             256\n",
      "           Conv2d-97           [-1, 32, 28, 28]          36,864\n",
      "       DenseLayer-98          [-1, 512, 28, 28]               0\n",
      "       DenseBlock-99          [-1, 512, 28, 28]               0\n",
      "     BatchNorm2d-100          [-1, 512, 28, 28]           1,024\n",
      "          Conv2d-101          [-1, 256, 28, 28]         131,072\n",
      "       AvgPool2d-102          [-1, 256, 14, 14]               0\n",
      " TransitionLayer-103          [-1, 256, 14, 14]               0\n",
      "     BatchNorm2d-104          [-1, 256, 14, 14]             512\n",
      "          Conv2d-105          [-1, 128, 14, 14]          32,768\n",
      "     BatchNorm2d-106          [-1, 128, 14, 14]             256\n",
      "          Conv2d-107           [-1, 32, 14, 14]          36,864\n",
      "      DenseLayer-108          [-1, 288, 14, 14]               0\n",
      "     BatchNorm2d-109          [-1, 288, 14, 14]             576\n",
      "          Conv2d-110          [-1, 128, 14, 14]          36,864\n",
      "     BatchNorm2d-111          [-1, 128, 14, 14]             256\n",
      "          Conv2d-112           [-1, 32, 14, 14]          36,864\n",
      "      DenseLayer-113          [-1, 320, 14, 14]               0\n",
      "     BatchNorm2d-114          [-1, 320, 14, 14]             640\n",
      "          Conv2d-115          [-1, 128, 14, 14]          40,960\n",
      "     BatchNorm2d-116          [-1, 128, 14, 14]             256\n",
      "          Conv2d-117           [-1, 32, 14, 14]          36,864\n",
      "      DenseLayer-118          [-1, 352, 14, 14]               0\n",
      "     BatchNorm2d-119          [-1, 352, 14, 14]             704\n",
      "          Conv2d-120          [-1, 128, 14, 14]          45,056\n",
      "     BatchNorm2d-121          [-1, 128, 14, 14]             256\n",
      "          Conv2d-122           [-1, 32, 14, 14]          36,864\n",
      "      DenseLayer-123          [-1, 384, 14, 14]               0\n",
      "     BatchNorm2d-124          [-1, 384, 14, 14]             768\n",
      "          Conv2d-125          [-1, 128, 14, 14]          49,152\n",
      "     BatchNorm2d-126          [-1, 128, 14, 14]             256\n",
      "          Conv2d-127           [-1, 32, 14, 14]          36,864\n",
      "      DenseLayer-128          [-1, 416, 14, 14]               0\n",
      "     BatchNorm2d-129          [-1, 416, 14, 14]             832\n",
      "          Conv2d-130          [-1, 128, 14, 14]          53,248\n",
      "     BatchNorm2d-131          [-1, 128, 14, 14]             256\n",
      "          Conv2d-132           [-1, 32, 14, 14]          36,864\n",
      "      DenseLayer-133          [-1, 448, 14, 14]               0\n",
      "     BatchNorm2d-134          [-1, 448, 14, 14]             896\n",
      "          Conv2d-135          [-1, 128, 14, 14]          57,344\n",
      "     BatchNorm2d-136          [-1, 128, 14, 14]             256\n",
      "          Conv2d-137           [-1, 32, 14, 14]          36,864\n",
      "      DenseLayer-138          [-1, 480, 14, 14]               0\n",
      "     BatchNorm2d-139          [-1, 480, 14, 14]             960\n",
      "          Conv2d-140          [-1, 128, 14, 14]          61,440\n",
      "     BatchNorm2d-141          [-1, 128, 14, 14]             256\n",
      "          Conv2d-142           [-1, 32, 14, 14]          36,864\n",
      "      DenseLayer-143          [-1, 512, 14, 14]               0\n",
      "     BatchNorm2d-144          [-1, 512, 14, 14]           1,024\n",
      "          Conv2d-145          [-1, 128, 14, 14]          65,536\n",
      "     BatchNorm2d-146          [-1, 128, 14, 14]             256\n",
      "          Conv2d-147           [-1, 32, 14, 14]          36,864\n",
      "      DenseLayer-148          [-1, 544, 14, 14]               0\n",
      "     BatchNorm2d-149          [-1, 544, 14, 14]           1,088\n",
      "          Conv2d-150          [-1, 128, 14, 14]          69,632\n",
      "     BatchNorm2d-151          [-1, 128, 14, 14]             256\n",
      "          Conv2d-152           [-1, 32, 14, 14]          36,864\n",
      "      DenseLayer-153          [-1, 576, 14, 14]               0\n",
      "     BatchNorm2d-154          [-1, 576, 14, 14]           1,152\n",
      "          Conv2d-155          [-1, 128, 14, 14]          73,728\n",
      "     BatchNorm2d-156          [-1, 128, 14, 14]             256\n",
      "          Conv2d-157           [-1, 32, 14, 14]          36,864\n",
      "      DenseLayer-158          [-1, 608, 14, 14]               0\n",
      "     BatchNorm2d-159          [-1, 608, 14, 14]           1,216\n",
      "          Conv2d-160          [-1, 128, 14, 14]          77,824\n",
      "     BatchNorm2d-161          [-1, 128, 14, 14]             256\n",
      "          Conv2d-162           [-1, 32, 14, 14]          36,864\n",
      "      DenseLayer-163          [-1, 640, 14, 14]               0\n",
      "     BatchNorm2d-164          [-1, 640, 14, 14]           1,280\n",
      "          Conv2d-165          [-1, 128, 14, 14]          81,920\n",
      "     BatchNorm2d-166          [-1, 128, 14, 14]             256\n",
      "          Conv2d-167           [-1, 32, 14, 14]          36,864\n",
      "      DenseLayer-168          [-1, 672, 14, 14]               0\n",
      "     BatchNorm2d-169          [-1, 672, 14, 14]           1,344\n",
      "          Conv2d-170          [-1, 128, 14, 14]          86,016\n",
      "     BatchNorm2d-171          [-1, 128, 14, 14]             256\n",
      "          Conv2d-172           [-1, 32, 14, 14]          36,864\n",
      "      DenseLayer-173          [-1, 704, 14, 14]               0\n",
      "     BatchNorm2d-174          [-1, 704, 14, 14]           1,408\n",
      "          Conv2d-175          [-1, 128, 14, 14]          90,112\n",
      "     BatchNorm2d-176          [-1, 128, 14, 14]             256\n",
      "          Conv2d-177           [-1, 32, 14, 14]          36,864\n",
      "      DenseLayer-178          [-1, 736, 14, 14]               0\n",
      "     BatchNorm2d-179          [-1, 736, 14, 14]           1,472\n",
      "          Conv2d-180          [-1, 128, 14, 14]          94,208\n",
      "     BatchNorm2d-181          [-1, 128, 14, 14]             256\n",
      "          Conv2d-182           [-1, 32, 14, 14]          36,864\n",
      "      DenseLayer-183          [-1, 768, 14, 14]               0\n",
      "     BatchNorm2d-184          [-1, 768, 14, 14]           1,536\n",
      "          Conv2d-185          [-1, 128, 14, 14]          98,304\n",
      "     BatchNorm2d-186          [-1, 128, 14, 14]             256\n",
      "          Conv2d-187           [-1, 32, 14, 14]          36,864\n",
      "      DenseLayer-188          [-1, 800, 14, 14]               0\n",
      "     BatchNorm2d-189          [-1, 800, 14, 14]           1,600\n",
      "          Conv2d-190          [-1, 128, 14, 14]         102,400\n",
      "     BatchNorm2d-191          [-1, 128, 14, 14]             256\n",
      "          Conv2d-192           [-1, 32, 14, 14]          36,864\n",
      "      DenseLayer-193          [-1, 832, 14, 14]               0\n",
      "     BatchNorm2d-194          [-1, 832, 14, 14]           1,664\n",
      "          Conv2d-195          [-1, 128, 14, 14]         106,496\n",
      "     BatchNorm2d-196          [-1, 128, 14, 14]             256\n",
      "          Conv2d-197           [-1, 32, 14, 14]          36,864\n",
      "      DenseLayer-198          [-1, 864, 14, 14]               0\n",
      "     BatchNorm2d-199          [-1, 864, 14, 14]           1,728\n",
      "          Conv2d-200          [-1, 128, 14, 14]         110,592\n",
      "     BatchNorm2d-201          [-1, 128, 14, 14]             256\n",
      "          Conv2d-202           [-1, 32, 14, 14]          36,864\n",
      "      DenseLayer-203          [-1, 896, 14, 14]               0\n",
      "     BatchNorm2d-204          [-1, 896, 14, 14]           1,792\n",
      "          Conv2d-205          [-1, 128, 14, 14]         114,688\n",
      "     BatchNorm2d-206          [-1, 128, 14, 14]             256\n",
      "          Conv2d-207           [-1, 32, 14, 14]          36,864\n",
      "      DenseLayer-208          [-1, 928, 14, 14]               0\n",
      "     BatchNorm2d-209          [-1, 928, 14, 14]           1,856\n",
      "          Conv2d-210          [-1, 128, 14, 14]         118,784\n",
      "     BatchNorm2d-211          [-1, 128, 14, 14]             256\n",
      "          Conv2d-212           [-1, 32, 14, 14]          36,864\n",
      "      DenseLayer-213          [-1, 960, 14, 14]               0\n",
      "     BatchNorm2d-214          [-1, 960, 14, 14]           1,920\n",
      "          Conv2d-215          [-1, 128, 14, 14]         122,880\n",
      "     BatchNorm2d-216          [-1, 128, 14, 14]             256\n",
      "          Conv2d-217           [-1, 32, 14, 14]          36,864\n",
      "      DenseLayer-218          [-1, 992, 14, 14]               0\n",
      "     BatchNorm2d-219          [-1, 992, 14, 14]           1,984\n",
      "          Conv2d-220          [-1, 128, 14, 14]         126,976\n",
      "     BatchNorm2d-221          [-1, 128, 14, 14]             256\n",
      "          Conv2d-222           [-1, 32, 14, 14]          36,864\n",
      "      DenseLayer-223         [-1, 1024, 14, 14]               0\n",
      "      DenseBlock-224         [-1, 1024, 14, 14]               0\n",
      "     BatchNorm2d-225         [-1, 1024, 14, 14]           2,048\n",
      "          Conv2d-226          [-1, 512, 14, 14]         524,288\n",
      "       AvgPool2d-227            [-1, 512, 7, 7]               0\n",
      " TransitionLayer-228            [-1, 512, 7, 7]               0\n",
      "     BatchNorm2d-229            [-1, 512, 7, 7]           1,024\n",
      "          Conv2d-230            [-1, 128, 7, 7]          65,536\n",
      "     BatchNorm2d-231            [-1, 128, 7, 7]             256\n",
      "          Conv2d-232             [-1, 32, 7, 7]          36,864\n",
      "      DenseLayer-233            [-1, 544, 7, 7]               0\n",
      "     BatchNorm2d-234            [-1, 544, 7, 7]           1,088\n",
      "          Conv2d-235            [-1, 128, 7, 7]          69,632\n",
      "     BatchNorm2d-236            [-1, 128, 7, 7]             256\n",
      "          Conv2d-237             [-1, 32, 7, 7]          36,864\n",
      "      DenseLayer-238            [-1, 576, 7, 7]               0\n",
      "     BatchNorm2d-239            [-1, 576, 7, 7]           1,152\n",
      "          Conv2d-240            [-1, 128, 7, 7]          73,728\n",
      "     BatchNorm2d-241            [-1, 128, 7, 7]             256\n",
      "          Conv2d-242             [-1, 32, 7, 7]          36,864\n",
      "      DenseLayer-243            [-1, 608, 7, 7]               0\n",
      "     BatchNorm2d-244            [-1, 608, 7, 7]           1,216\n",
      "          Conv2d-245            [-1, 128, 7, 7]          77,824\n",
      "     BatchNorm2d-246            [-1, 128, 7, 7]             256\n",
      "          Conv2d-247             [-1, 32, 7, 7]          36,864\n",
      "      DenseLayer-248            [-1, 640, 7, 7]               0\n",
      "     BatchNorm2d-249            [-1, 640, 7, 7]           1,280\n",
      "          Conv2d-250            [-1, 128, 7, 7]          81,920\n",
      "     BatchNorm2d-251            [-1, 128, 7, 7]             256\n",
      "          Conv2d-252             [-1, 32, 7, 7]          36,864\n",
      "      DenseLayer-253            [-1, 672, 7, 7]               0\n",
      "     BatchNorm2d-254            [-1, 672, 7, 7]           1,344\n",
      "          Conv2d-255            [-1, 128, 7, 7]          86,016\n",
      "     BatchNorm2d-256            [-1, 128, 7, 7]             256\n",
      "          Conv2d-257             [-1, 32, 7, 7]          36,864\n",
      "      DenseLayer-258            [-1, 704, 7, 7]               0\n",
      "     BatchNorm2d-259            [-1, 704, 7, 7]           1,408\n",
      "          Conv2d-260            [-1, 128, 7, 7]          90,112\n",
      "     BatchNorm2d-261            [-1, 128, 7, 7]             256\n",
      "          Conv2d-262             [-1, 32, 7, 7]          36,864\n",
      "      DenseLayer-263            [-1, 736, 7, 7]               0\n",
      "     BatchNorm2d-264            [-1, 736, 7, 7]           1,472\n",
      "          Conv2d-265            [-1, 128, 7, 7]          94,208\n",
      "     BatchNorm2d-266            [-1, 128, 7, 7]             256\n",
      "          Conv2d-267             [-1, 32, 7, 7]          36,864\n",
      "      DenseLayer-268            [-1, 768, 7, 7]               0\n",
      "     BatchNorm2d-269            [-1, 768, 7, 7]           1,536\n",
      "          Conv2d-270            [-1, 128, 7, 7]          98,304\n",
      "     BatchNorm2d-271            [-1, 128, 7, 7]             256\n",
      "          Conv2d-272             [-1, 32, 7, 7]          36,864\n",
      "      DenseLayer-273            [-1, 800, 7, 7]               0\n",
      "     BatchNorm2d-274            [-1, 800, 7, 7]           1,600\n",
      "          Conv2d-275            [-1, 128, 7, 7]         102,400\n",
      "     BatchNorm2d-276            [-1, 128, 7, 7]             256\n",
      "          Conv2d-277             [-1, 32, 7, 7]          36,864\n",
      "      DenseLayer-278            [-1, 832, 7, 7]               0\n",
      "     BatchNorm2d-279            [-1, 832, 7, 7]           1,664\n",
      "          Conv2d-280            [-1, 128, 7, 7]         106,496\n",
      "     BatchNorm2d-281            [-1, 128, 7, 7]             256\n",
      "          Conv2d-282             [-1, 32, 7, 7]          36,864\n",
      "      DenseLayer-283            [-1, 864, 7, 7]               0\n",
      "     BatchNorm2d-284            [-1, 864, 7, 7]           1,728\n",
      "          Conv2d-285            [-1, 128, 7, 7]         110,592\n",
      "     BatchNorm2d-286            [-1, 128, 7, 7]             256\n",
      "          Conv2d-287             [-1, 32, 7, 7]          36,864\n",
      "      DenseLayer-288            [-1, 896, 7, 7]               0\n",
      "     BatchNorm2d-289            [-1, 896, 7, 7]           1,792\n",
      "          Conv2d-290            [-1, 128, 7, 7]         114,688\n",
      "     BatchNorm2d-291            [-1, 128, 7, 7]             256\n",
      "          Conv2d-292             [-1, 32, 7, 7]          36,864\n",
      "      DenseLayer-293            [-1, 928, 7, 7]               0\n",
      "     BatchNorm2d-294            [-1, 928, 7, 7]           1,856\n",
      "          Conv2d-295            [-1, 128, 7, 7]         118,784\n",
      "     BatchNorm2d-296            [-1, 128, 7, 7]             256\n",
      "          Conv2d-297             [-1, 32, 7, 7]          36,864\n",
      "      DenseLayer-298            [-1, 960, 7, 7]               0\n",
      "     BatchNorm2d-299            [-1, 960, 7, 7]           1,920\n",
      "          Conv2d-300            [-1, 128, 7, 7]         122,880\n",
      "     BatchNorm2d-301            [-1, 128, 7, 7]             256\n",
      "          Conv2d-302             [-1, 32, 7, 7]          36,864\n",
      "      DenseLayer-303            [-1, 992, 7, 7]               0\n",
      "     BatchNorm2d-304            [-1, 992, 7, 7]           1,984\n",
      "          Conv2d-305            [-1, 128, 7, 7]         126,976\n",
      "     BatchNorm2d-306            [-1, 128, 7, 7]             256\n",
      "          Conv2d-307             [-1, 32, 7, 7]          36,864\n",
      "      DenseLayer-308           [-1, 1024, 7, 7]               0\n",
      "      DenseBlock-309           [-1, 1024, 7, 7]               0\n",
      "     BatchNorm2d-310           [-1, 1024, 7, 7]           2,048\n",
      "AdaptiveAvgPool2d-311           [-1, 1024, 1, 1]               0\n",
      "         Flatten-312                 [-1, 1024]               0\n",
      "          Linear-313                    [-1, 6]           6,150\n",
      "================================================================\n",
      "Total params: 6,960,006\n",
      "Trainable params: 6,960,006\n",
      "Non-trainable params: 0\n",
      "----------------------------------------------------------------\n",
      "Input size (MB): 0.57\n",
      "Forward/backward pass size (MB): 265.11\n",
      "Params size (MB): 26.55\n",
      "Estimated Total Size (MB): 292.24\n",
      "----------------------------------------------------------------\n"
     ]
    }
   ],
   "source": [
    "# -----------------------------\n",
    "# 2. Define DenseNet-121 Model from Scratch\n",
    "# -----------------------------\n",
    "\n",
    "class DenseLayer(nn.Module):\n",
    "    \"\"\"Single Dense Layer: BN-ReLU-Conv(1x1)-BN-ReLU-Conv(3x3)\"\"\"\n",
    "    def __init__(self, in_channels, growth_rate=32, bn_size=4):\n",
    "        super().__init__()\n",
    "        self.bn1 = nn.BatchNorm2d(in_channels)\n",
    "        self.conv1 = nn.Conv2d(in_channels, bn_size * growth_rate, \n",
    "                              kernel_size=1, bias=False)\n",
    "        self.bn2 = nn.BatchNorm2d(bn_size * growth_rate)\n",
    "        self.conv2 = nn.Conv2d(bn_size * growth_rate, growth_rate, \n",
    "                              kernel_size=3, padding=1, bias=False)\n",
    "        \n",
    "    def forward(self, x):\n",
    "        # First convolution block\n",
    "        out = F.relu(self.bn1(x))\n",
    "        out = self.conv1(out)\n",
    "        \n",
    "        # Second convolution block\n",
    "        out = F.relu(self.bn2(out))\n",
    "        out = self.conv2(out)\n",
    "        \n",
    "        # Concatenate input with output (dense connection)\n",
    "        return torch.cat([x, out], 1)\n",
    "\n",
    "class DenseBlock(nn.Module):\n",
    "    \"\"\"Dense Block containing multiple Dense Layers\"\"\"\n",
    "    def __init__(self, num_layers, in_channels, growth_rate=32, bn_size=4):\n",
    "        super().__init__()\n",
    "        self.layers = nn.ModuleList()\n",
    "        \n",
    "        for i in range(num_layers):\n",
    "            layer = DenseLayer(in_channels + i * growth_rate, growth_rate, bn_size)\n",
    "            self.layers.append(layer)\n",
    "            \n",
    "    def forward(self, x):\n",
    "        for layer in self.layers:\n",
    "            x = layer(x)\n",
    "        return x\n",
    "\n",
    "class TransitionLayer(nn.Module):\n",
    "    \"\"\"Transition Layer: BN-ReLU-Conv(1x1)-AvgPool(2x2)\"\"\"\n",
    "    def __init__(self, in_channels, out_channels):\n",
    "        super().__init__()\n",
    "        self.bn = nn.BatchNorm2d(in_channels)\n",
    "        self.conv = nn.Conv2d(in_channels, out_channels, kernel_size=1, bias=False)\n",
    "        self.pool = nn.AvgPool2d(kernel_size=2, stride=2)\n",
    "        \n",
    "    def forward(self, x):\n",
    "        out = F.relu(self.bn(x))\n",
    "        out = self.conv(out)\n",
    "        out = self.pool(out)\n",
    "        return out\n",
    "\n",
    "class MyDenseNet121(nn.Module):\n",
    "    \"\"\"DenseNet-121 Implementation from Scratch\"\"\"\n",
    "    def __init__(self, in_channels=3, classes=4, growth_rate=32, \n",
    "                 block_config=[6, 12, 24, 16], bn_size=4, compression_rate=0.5):\n",
    "        super().__init__()\n",
    "        \n",
    "        # Initial convolution layer\n",
    "        self.initial_conv = nn.Conv2d(in_channels, 64, kernel_size=7, \n",
    "                                     stride=2, padding=3, bias=False)\n",
    "        self.initial_bn = nn.BatchNorm2d(64)\n",
    "        self.initial_pool = nn.MaxPool2d(kernel_size=3, stride=2, padding=1)\n",
    "        \n",
    "        # Dense blocks and transition layers\n",
    "        num_features = 64\n",
    "        \n",
    "        # Dense Block 1 + Transition 1\n",
    "        self.dense_block1 = DenseBlock(block_config[0], num_features, growth_rate, bn_size)\n",
    "        num_features += block_config[0] * growth_rate\n",
    "        out_features = int(num_features * compression_rate)\n",
    "        self.transition1 = TransitionLayer(num_features, out_features)\n",
    "        num_features = out_features\n",
    "        \n",
    "        # Dense Block 2 + Transition 2\n",
    "        self.dense_block2 = DenseBlock(block_config[1], num_features, growth_rate, bn_size)\n",
    "        num_features += block_config[1] * growth_rate\n",
    "        out_features = int(num_features * compression_rate)\n",
    "        self.transition2 = TransitionLayer(num_features, out_features)\n",
    "        num_features = out_features\n",
    "        \n",
    "        # Dense Block 3 + Transition 3\n",
    "        self.dense_block3 = DenseBlock(block_config[2], num_features, growth_rate, bn_size)\n",
    "        num_features += block_config[2] * growth_rate\n",
    "        out_features = int(num_features * compression_rate)\n",
    "        self.transition3 = TransitionLayer(num_features, out_features)\n",
    "        num_features = out_features\n",
    "        \n",
    "        # Dense Block 4 (no transition after last block)\n",
    "        self.dense_block4 = DenseBlock(block_config[3], num_features, growth_rate, bn_size)\n",
    "        num_features += block_config[3] * growth_rate\n",
    "        \n",
    "        # Final layers\n",
    "        self.final_bn = nn.BatchNorm2d(num_features)\n",
    "        self.global_pool = nn.AdaptiveAvgPool2d((1, 1))\n",
    "        self.flatten = nn.Flatten()\n",
    "        self.classifier = nn.Linear(num_features, classes)\n",
    "        \n",
    "        # Initialize weights\n",
    "        self._initialize_weights()\n",
    "    \n",
    "    def _initialize_weights(self):\n",
    "        \"\"\"Initialize weights using He initialization for conv layers\"\"\"\n",
    "        for m in self.modules():\n",
    "            if isinstance(m, nn.Conv2d):\n",
    "                nn.init.kaiming_normal_(m.weight, mode='fan_out', nonlinearity='relu')\n",
    "            elif isinstance(m, nn.BatchNorm2d):\n",
    "                nn.init.constant_(m.weight, 1)\n",
    "                nn.init.constant_(m.bias, 0)\n",
    "            elif isinstance(m, nn.Linear):\n",
    "                nn.init.normal_(m.weight, 0, 0.01)\n",
    "                nn.init.constant_(m.bias, 0)\n",
    "    \n",
    "    def forward(self, x):\n",
    "        # Initial convolution and pooling\n",
    "        x = self.initial_conv(x)\n",
    "        x = F.relu(self.initial_bn(x))\n",
    "        x = self.initial_pool(x)\n",
    "        \n",
    "        # Dense blocks with transitions\n",
    "        x = self.dense_block1(x)\n",
    "        x = self.transition1(x)\n",
    "        \n",
    "        x = self.dense_block2(x)\n",
    "        x = self.transition2(x)\n",
    "        \n",
    "        x = self.dense_block3(x)\n",
    "        x = self.transition3(x)\n",
    "        \n",
    "        x = self.dense_block4(x)\n",
    "        \n",
    "        # Final classification layers\n",
    "        x = F.relu(self.final_bn(x))\n",
    "        x = self.global_pool(x)\n",
    "        x = self.flatten(x)\n",
    "        x = self.classifier(x)\n",
    "        \n",
    "        return x\n",
    "\n",
    "# -----------------------------\n",
    "# 3. Training Setup\n",
    "# -----------------------------\n",
    "device = torch.device(\"cuda\" if torch.cuda.is_available() else \"cpu\")\n",
    "model = MyDenseNet121(3, classes=len(classes)).to(device)\n",
    "\n",
    "criterion = nn.CrossEntropyLoss()\n",
    "optimizer = torch.optim.Adam(model.parameters(), lr=0.001)\n",
    "\n",
    "print(\"DenseNet-121 Model Summary:\")\n",
    "summary(model, (3, 224, 224))"
   ]
  },
  {
   "cell_type": "code",
   "execution_count": 8,
   "id": "0d1ad842",
   "metadata": {
    "execution": {
     "iopub.execute_input": "2025-09-08T10:08:38.406274Z",
     "iopub.status.busy": "2025-09-08T10:08:38.406018Z",
     "iopub.status.idle": "2025-09-08T10:32:48.266743Z",
     "shell.execute_reply": "2025-09-08T10:32:48.266102Z"
    },
    "papermill": {
     "duration": 1449.86822,
     "end_time": "2025-09-08T10:32:48.269851",
     "exception": false,
     "start_time": "2025-09-08T10:08:38.401631",
     "status": "completed"
    },
    "tags": []
   },
   "outputs": [
    {
     "name": "stdout",
     "output_type": "stream",
     "text": [
      "\n",
      "🚀 Starting DenseNet-121 Training for 50 epochs...\n",
      "================================================================================\n",
      "\n",
      "📈 Epoch 1/50\n",
      "--------------------------------------------------\n",
      "🔄 Training Phase...\n"
     ]
    },
    {
     "name": "stderr",
     "output_type": "stream",
     "text": [
      "Training: 100%|██████████████████████████████| 48/48 [00:31<00:00,  1.55it/s, Loss=1.5602, Acc=0.3639]\n"
     ]
    },
    {
     "name": "stdout",
     "output_type": "stream",
     "text": [
      "✅ Training completed in 31.01s\n",
      "🔍 Validation Phase...\n"
     ]
    },
    {
     "name": "stderr",
     "output_type": "stream",
     "text": [
      "Validation: 100%|██████████████████████████████| 13/13 [00:05<00:00,  2.54it/s, Loss=1.8142, Acc=0.3365]\n"
     ]
    },
    {
     "name": "stdout",
     "output_type": "stream",
     "text": [
      "✅ Validation completed in 5.12s\n",
      "🌟 New best DenseNet-121 model found! Validation Accuracy: 0.3365\n",
      "\n",
      "📊 Epoch 1 Summary:\n",
      "│ Train Loss: 1.5602 | Train Acc: 0.3639\n",
      "│ Val Loss:   1.8142 | Val Acc:   0.3365\n",
      "│ Train Time: 31.01s | Val Time: 5.12s\n",
      "│ Total Epoch Time: 36.14s\n",
      "│ Best Val Acc: 0.3365 (Epoch 1)\n",
      "│ GPU Memory: 0.1GB / 4.5GB\n",
      "================================================================================\n",
      "\n",
      "📈 Epoch 2/50\n",
      "--------------------------------------------------\n",
      "🔄 Training Phase...\n"
     ]
    },
    {
     "name": "stderr",
     "output_type": "stream",
     "text": [
      "Training: 100%|██████████████████████████████| 48/48 [00:24<00:00,  1.96it/s, Loss=1.4089, Acc=0.4199]\n"
     ]
    },
    {
     "name": "stdout",
     "output_type": "stream",
     "text": [
      "✅ Training completed in 24.53s\n",
      "🔍 Validation Phase...\n"
     ]
    },
    {
     "name": "stderr",
     "output_type": "stream",
     "text": [
      "Validation: 100%|██████████████████████████████| 13/13 [00:03<00:00,  3.58it/s, Loss=1.6472, Acc=0.3678]\n"
     ]
    },
    {
     "name": "stdout",
     "output_type": "stream",
     "text": [
      "✅ Validation completed in 3.64s\n",
      "🌟 New best DenseNet-121 model found! Validation Accuracy: 0.3678\n",
      "\n",
      "📊 Epoch 2 Summary:\n",
      "│ Train Loss: 1.4089 | Train Acc: 0.4199\n",
      "│ Val Loss:   1.6472 | Val Acc:   0.3678\n",
      "│ Train Time: 24.53s | Val Time: 3.64s\n",
      "│ Total Epoch Time: 28.18s\n",
      "│ Best Val Acc: 0.3678 (Epoch 2)\n",
      "│ GPU Memory: 0.1GB / 4.5GB\n",
      "================================================================================\n",
      "\n",
      "📈 Epoch 3/50\n",
      "--------------------------------------------------\n",
      "🔄 Training Phase...\n"
     ]
    },
    {
     "name": "stderr",
     "output_type": "stream",
     "text": [
      "Training: 100%|██████████████████████████████| 48/48 [00:24<00:00,  1.95it/s, Loss=1.2584, Acc=0.5052]\n"
     ]
    },
    {
     "name": "stdout",
     "output_type": "stream",
     "text": [
      "✅ Training completed in 24.64s\n",
      "🔍 Validation Phase...\n"
     ]
    },
    {
     "name": "stderr",
     "output_type": "stream",
     "text": [
      "Validation: 100%|██████████████████████████████| 13/13 [00:03<00:00,  3.57it/s, Loss=1.8113, Acc=0.3654]\n"
     ]
    },
    {
     "name": "stdout",
     "output_type": "stream",
     "text": [
      "✅ Validation completed in 3.64s\n",
      "\n",
      "📊 Epoch 3 Summary:\n",
      "│ Train Loss: 1.2584 | Train Acc: 0.5052\n",
      "│ Val Loss:   1.8113 | Val Acc:   0.3654\n",
      "│ Train Time: 24.64s | Val Time: 3.64s\n",
      "│ Total Epoch Time: 28.28s\n",
      "│ Best Val Acc: 0.3678 (Epoch 2)\n",
      "│ GPU Memory: 0.1GB / 4.5GB\n",
      "================================================================================\n",
      "\n",
      "📈 Epoch 4/50\n",
      "--------------------------------------------------\n",
      "🔄 Training Phase...\n"
     ]
    },
    {
     "name": "stderr",
     "output_type": "stream",
     "text": [
      "Training: 100%|██████████████████████████████| 48/48 [00:24<00:00,  1.93it/s, Loss=1.1496, Acc=0.5469]\n"
     ]
    },
    {
     "name": "stdout",
     "output_type": "stream",
     "text": [
      "✅ Training completed in 24.84s\n",
      "🔍 Validation Phase...\n"
     ]
    },
    {
     "name": "stderr",
     "output_type": "stream",
     "text": [
      "Validation: 100%|██████████████████████████████| 13/13 [00:03<00:00,  3.58it/s, Loss=2.1481, Acc=0.3269]\n"
     ]
    },
    {
     "name": "stdout",
     "output_type": "stream",
     "text": [
      "✅ Validation completed in 3.64s\n",
      "\n",
      "📊 Epoch 4 Summary:\n",
      "│ Train Loss: 1.1496 | Train Acc: 0.5469\n",
      "│ Val Loss:   2.1481 | Val Acc:   0.3269\n",
      "│ Train Time: 24.84s | Val Time: 3.64s\n",
      "│ Total Epoch Time: 28.48s\n",
      "│ Best Val Acc: 0.3678 (Epoch 2)\n",
      "│ GPU Memory: 0.1GB / 4.5GB\n",
      "================================================================================\n",
      "\n",
      "📈 Epoch 5/50\n",
      "--------------------------------------------------\n",
      "🔄 Training Phase...\n"
     ]
    },
    {
     "name": "stderr",
     "output_type": "stream",
     "text": [
      "Training: 100%|██████████████████████████████| 48/48 [00:24<00:00,  1.93it/s, Loss=0.8913, Acc=0.6628]\n"
     ]
    },
    {
     "name": "stdout",
     "output_type": "stream",
     "text": [
      "✅ Training completed in 24.83s\n",
      "🔍 Validation Phase...\n"
     ]
    },
    {
     "name": "stderr",
     "output_type": "stream",
     "text": [
      "Validation: 100%|██████████████████████████████| 13/13 [00:03<00:00,  3.62it/s, Loss=2.2889, Acc=0.3678]\n"
     ]
    },
    {
     "name": "stdout",
     "output_type": "stream",
     "text": [
      "✅ Validation completed in 3.59s\n",
      "\n",
      "📊 Epoch 5 Summary:\n",
      "│ Train Loss: 0.8913 | Train Acc: 0.6628\n",
      "│ Val Loss:   2.2889 | Val Acc:   0.3678\n",
      "│ Train Time: 24.83s | Val Time: 3.59s\n",
      "│ Total Epoch Time: 28.42s\n",
      "│ Best Val Acc: 0.3678 (Epoch 2)\n",
      "│ GPU Memory: 0.1GB / 4.5GB\n",
      "================================================================================\n",
      "\n",
      "📈 Epoch 6/50\n",
      "--------------------------------------------------\n",
      "🔄 Training Phase...\n"
     ]
    },
    {
     "name": "stderr",
     "output_type": "stream",
     "text": [
      "Training: 100%|██████████████████████████████| 48/48 [00:24<00:00,  1.93it/s, Loss=0.8016, Acc=0.7064]\n"
     ]
    },
    {
     "name": "stdout",
     "output_type": "stream",
     "text": [
      "✅ Training completed in 24.82s\n",
      "🔍 Validation Phase...\n"
     ]
    },
    {
     "name": "stderr",
     "output_type": "stream",
     "text": [
      "Validation: 100%|██████████████████████████████| 13/13 [00:03<00:00,  3.55it/s, Loss=2.4726, Acc=0.3918]\n"
     ]
    },
    {
     "name": "stdout",
     "output_type": "stream",
     "text": [
      "✅ Validation completed in 3.66s\n",
      "🌟 New best DenseNet-121 model found! Validation Accuracy: 0.3918\n",
      "\n",
      "📊 Epoch 6 Summary:\n",
      "│ Train Loss: 0.8016 | Train Acc: 0.7064\n",
      "│ Val Loss:   2.4726 | Val Acc:   0.3918\n",
      "│ Train Time: 24.82s | Val Time: 3.66s\n",
      "│ Total Epoch Time: 28.50s\n",
      "│ Best Val Acc: 0.3918 (Epoch 6)\n",
      "│ GPU Memory: 0.1GB / 4.5GB\n",
      "================================================================================\n",
      "\n",
      "📈 Epoch 7/50\n",
      "--------------------------------------------------\n",
      "🔄 Training Phase...\n"
     ]
    },
    {
     "name": "stderr",
     "output_type": "stream",
     "text": [
      "Training: 100%|██████████████████████████████| 48/48 [00:24<00:00,  1.93it/s, Loss=0.6904, Acc=0.7461]\n"
     ]
    },
    {
     "name": "stdout",
     "output_type": "stream",
     "text": [
      "✅ Training completed in 24.89s\n",
      "🔍 Validation Phase...\n"
     ]
    },
    {
     "name": "stderr",
     "output_type": "stream",
     "text": [
      "Validation: 100%|██████████████████████████████| 13/13 [00:03<00:00,  3.60it/s, Loss=1.8107, Acc=0.4135]\n"
     ]
    },
    {
     "name": "stdout",
     "output_type": "stream",
     "text": [
      "✅ Validation completed in 3.62s\n",
      "🌟 New best DenseNet-121 model found! Validation Accuracy: 0.4135\n",
      "\n",
      "📊 Epoch 7 Summary:\n",
      "│ Train Loss: 0.6904 | Train Acc: 0.7461\n",
      "│ Val Loss:   1.8107 | Val Acc:   0.4135\n",
      "│ Train Time: 24.89s | Val Time: 3.62s\n",
      "│ Total Epoch Time: 28.51s\n",
      "│ Best Val Acc: 0.4135 (Epoch 7)\n",
      "│ GPU Memory: 0.1GB / 4.5GB\n",
      "================================================================================\n",
      "\n",
      "📈 Epoch 8/50\n",
      "--------------------------------------------------\n",
      "🔄 Training Phase...\n"
     ]
    },
    {
     "name": "stderr",
     "output_type": "stream",
     "text": [
      "Training: 100%|██████████████████████████████| 48/48 [00:24<00:00,  1.92it/s, Loss=0.4396, Acc=0.8411]\n"
     ]
    },
    {
     "name": "stdout",
     "output_type": "stream",
     "text": [
      "✅ Training completed in 24.95s\n",
      "🔍 Validation Phase...\n"
     ]
    },
    {
     "name": "stderr",
     "output_type": "stream",
     "text": [
      "Validation: 100%|██████████████████████████████| 13/13 [00:03<00:00,  3.50it/s, Loss=1.9795, Acc=0.5361]\n"
     ]
    },
    {
     "name": "stdout",
     "output_type": "stream",
     "text": [
      "✅ Validation completed in 3.72s\n",
      "🌟 New best DenseNet-121 model found! Validation Accuracy: 0.5361\n",
      "\n",
      "📊 Epoch 8 Summary:\n",
      "│ Train Loss: 0.4396 | Train Acc: 0.8411\n",
      "│ Val Loss:   1.9795 | Val Acc:   0.5361\n",
      "│ Train Time: 24.95s | Val Time: 3.72s\n",
      "│ Total Epoch Time: 28.68s\n",
      "│ Best Val Acc: 0.5361 (Epoch 8)\n",
      "│ GPU Memory: 0.1GB / 4.5GB\n",
      "================================================================================\n",
      "\n",
      "📈 Epoch 9/50\n",
      "--------------------------------------------------\n",
      "🔄 Training Phase...\n"
     ]
    },
    {
     "name": "stderr",
     "output_type": "stream",
     "text": [
      "Training: 100%|██████████████████████████████| 48/48 [00:24<00:00,  1.92it/s, Loss=0.3428, Acc=0.8848]\n"
     ]
    },
    {
     "name": "stdout",
     "output_type": "stream",
     "text": [
      "✅ Training completed in 24.97s\n",
      "🔍 Validation Phase...\n"
     ]
    },
    {
     "name": "stderr",
     "output_type": "stream",
     "text": [
      "Validation: 100%|██████████████████████████████| 13/13 [00:03<00:00,  3.66it/s, Loss=1.7818, Acc=0.4976]\n"
     ]
    },
    {
     "name": "stdout",
     "output_type": "stream",
     "text": [
      "✅ Validation completed in 3.56s\n",
      "\n",
      "📊 Epoch 9 Summary:\n",
      "│ Train Loss: 0.3428 | Train Acc: 0.8848\n",
      "│ Val Loss:   1.7818 | Val Acc:   0.4976\n",
      "│ Train Time: 24.97s | Val Time: 3.56s\n",
      "│ Total Epoch Time: 28.53s\n",
      "│ Best Val Acc: 0.5361 (Epoch 8)\n",
      "│ GPU Memory: 0.1GB / 4.5GB\n",
      "================================================================================\n",
      "\n",
      "📈 Epoch 10/50\n",
      "--------------------------------------------------\n",
      "🔄 Training Phase...\n"
     ]
    },
    {
     "name": "stderr",
     "output_type": "stream",
     "text": [
      "Training: 100%|██████████████████████████████| 48/48 [00:24<00:00,  1.93it/s, Loss=0.2909, Acc=0.8893]\n"
     ]
    },
    {
     "name": "stdout",
     "output_type": "stream",
     "text": [
      "✅ Training completed in 24.91s\n",
      "🔍 Validation Phase...\n"
     ]
    },
    {
     "name": "stderr",
     "output_type": "stream",
     "text": [
      "Validation: 100%|██████████████████████████████| 13/13 [00:03<00:00,  3.60it/s, Loss=1.8572, Acc=0.4880]\n"
     ]
    },
    {
     "name": "stdout",
     "output_type": "stream",
     "text": [
      "✅ Validation completed in 3.62s\n",
      "\n",
      "📊 Epoch 10 Summary:\n",
      "│ Train Loss: 0.2909 | Train Acc: 0.8893\n",
      "│ Val Loss:   1.8572 | Val Acc:   0.4880\n",
      "│ Train Time: 24.91s | Val Time: 3.62s\n",
      "│ Total Epoch Time: 28.54s\n",
      "│ Best Val Acc: 0.5361 (Epoch 8)\n",
      "│ GPU Memory: 0.1GB / 4.5GB\n",
      "================================================================================\n",
      "\n",
      "📈 Epoch 11/50\n",
      "--------------------------------------------------\n",
      "🔄 Training Phase...\n"
     ]
    },
    {
     "name": "stderr",
     "output_type": "stream",
     "text": [
      "Training: 100%|██████████████████████████████| 48/48 [00:25<00:00,  1.91it/s, Loss=0.2413, Acc=0.9167]\n"
     ]
    },
    {
     "name": "stdout",
     "output_type": "stream",
     "text": [
      "✅ Training completed in 25.19s\n",
      "🔍 Validation Phase...\n"
     ]
    },
    {
     "name": "stderr",
     "output_type": "stream",
     "text": [
      "Validation: 100%|██████████████████████████████| 13/13 [00:03<00:00,  3.65it/s, Loss=2.5464, Acc=0.4471]\n"
     ]
    },
    {
     "name": "stdout",
     "output_type": "stream",
     "text": [
      "✅ Validation completed in 3.56s\n",
      "\n",
      "📊 Epoch 11 Summary:\n",
      "│ Train Loss: 0.2413 | Train Acc: 0.9167\n",
      "│ Val Loss:   2.5464 | Val Acc:   0.4471\n",
      "│ Train Time: 25.19s | Val Time: 3.56s\n",
      "│ Total Epoch Time: 28.76s\n",
      "│ Best Val Acc: 0.5361 (Epoch 8)\n",
      "│ GPU Memory: 0.1GB / 4.5GB\n",
      "================================================================================\n",
      "\n",
      "📈 Epoch 12/50\n",
      "--------------------------------------------------\n",
      "🔄 Training Phase...\n"
     ]
    },
    {
     "name": "stderr",
     "output_type": "stream",
     "text": [
      "Training: 100%|██████████████████████████████| 48/48 [00:24<00:00,  1.92it/s, Loss=0.2053, Acc=0.9310]\n"
     ]
    },
    {
     "name": "stdout",
     "output_type": "stream",
     "text": [
      "✅ Training completed in 24.99s\n",
      "🔍 Validation Phase...\n"
     ]
    },
    {
     "name": "stderr",
     "output_type": "stream",
     "text": [
      "Validation: 100%|██████████████████████████████| 13/13 [00:03<00:00,  3.67it/s, Loss=2.7028, Acc=0.4399]\n"
     ]
    },
    {
     "name": "stdout",
     "output_type": "stream",
     "text": [
      "✅ Validation completed in 3.55s\n",
      "\n",
      "📊 Epoch 12 Summary:\n",
      "│ Train Loss: 0.2053 | Train Acc: 0.9310\n",
      "│ Val Loss:   2.7028 | Val Acc:   0.4399\n",
      "│ Train Time: 24.99s | Val Time: 3.55s\n",
      "│ Total Epoch Time: 28.54s\n",
      "│ Best Val Acc: 0.5361 (Epoch 8)\n",
      "│ GPU Memory: 0.1GB / 4.5GB\n",
      "================================================================================\n",
      "\n",
      "📈 Epoch 13/50\n",
      "--------------------------------------------------\n",
      "🔄 Training Phase...\n"
     ]
    },
    {
     "name": "stderr",
     "output_type": "stream",
     "text": [
      "Training: 100%|██████████████████████████████| 48/48 [00:25<00:00,  1.91it/s, Loss=0.1500, Acc=0.9583]\n"
     ]
    },
    {
     "name": "stdout",
     "output_type": "stream",
     "text": [
      "✅ Training completed in 25.20s\n",
      "🔍 Validation Phase...\n"
     ]
    },
    {
     "name": "stderr",
     "output_type": "stream",
     "text": [
      "Validation: 100%|██████████████████████████████| 13/13 [00:03<00:00,  3.55it/s, Loss=2.6366, Acc=0.4712]\n"
     ]
    },
    {
     "name": "stdout",
     "output_type": "stream",
     "text": [
      "✅ Validation completed in 3.66s\n",
      "\n",
      "📊 Epoch 13 Summary:\n",
      "│ Train Loss: 0.1500 | Train Acc: 0.9583\n",
      "│ Val Loss:   2.6366 | Val Acc:   0.4712\n",
      "│ Train Time: 25.20s | Val Time: 3.66s\n",
      "│ Total Epoch Time: 28.87s\n",
      "│ Best Val Acc: 0.5361 (Epoch 8)\n",
      "│ GPU Memory: 0.1GB / 4.5GB\n",
      "================================================================================\n",
      "\n",
      "📈 Epoch 14/50\n",
      "--------------------------------------------------\n",
      "🔄 Training Phase...\n"
     ]
    },
    {
     "name": "stderr",
     "output_type": "stream",
     "text": [
      "Training: 100%|██████████████████████████████| 48/48 [00:25<00:00,  1.91it/s, Loss=0.1464, Acc=0.9512]\n"
     ]
    },
    {
     "name": "stdout",
     "output_type": "stream",
     "text": [
      "✅ Training completed in 25.17s\n",
      "🔍 Validation Phase...\n"
     ]
    },
    {
     "name": "stderr",
     "output_type": "stream",
     "text": [
      "Validation: 100%|██████████████████████████████| 13/13 [00:03<00:00,  3.55it/s, Loss=2.1900, Acc=0.5216]\n"
     ]
    },
    {
     "name": "stdout",
     "output_type": "stream",
     "text": [
      "✅ Validation completed in 3.66s\n",
      "\n",
      "📊 Epoch 14 Summary:\n",
      "│ Train Loss: 0.1464 | Train Acc: 0.9512\n",
      "│ Val Loss:   2.1900 | Val Acc:   0.5216\n",
      "│ Train Time: 25.17s | Val Time: 3.66s\n",
      "│ Total Epoch Time: 28.84s\n",
      "│ Best Val Acc: 0.5361 (Epoch 8)\n",
      "│ GPU Memory: 0.1GB / 4.5GB\n",
      "================================================================================\n",
      "\n",
      "📈 Epoch 15/50\n",
      "--------------------------------------------------\n",
      "🔄 Training Phase...\n"
     ]
    },
    {
     "name": "stderr",
     "output_type": "stream",
     "text": [
      "Training: 100%|██████████████████████████████| 48/48 [00:25<00:00,  1.91it/s, Loss=0.1050, Acc=0.9629]\n"
     ]
    },
    {
     "name": "stdout",
     "output_type": "stream",
     "text": [
      "✅ Training completed in 25.18s\n",
      "🔍 Validation Phase...\n"
     ]
    },
    {
     "name": "stderr",
     "output_type": "stream",
     "text": [
      "Validation: 100%|██████████████████████████████| 13/13 [00:03<00:00,  3.62it/s, Loss=2.6645, Acc=0.4976]\n"
     ]
    },
    {
     "name": "stdout",
     "output_type": "stream",
     "text": [
      "✅ Validation completed in 3.59s\n",
      "\n",
      "📊 Epoch 15 Summary:\n",
      "│ Train Loss: 0.1050 | Train Acc: 0.9629\n",
      "│ Val Loss:   2.6645 | Val Acc:   0.4976\n",
      "│ Train Time: 25.18s | Val Time: 3.59s\n",
      "│ Total Epoch Time: 28.77s\n",
      "│ Best Val Acc: 0.5361 (Epoch 8)\n",
      "│ GPU Memory: 0.1GB / 4.5GB\n",
      "================================================================================\n",
      "\n",
      "📈 Epoch 16/50\n",
      "--------------------------------------------------\n",
      "🔄 Training Phase...\n"
     ]
    },
    {
     "name": "stderr",
     "output_type": "stream",
     "text": [
      "Training: 100%|██████████████████████████████| 48/48 [00:25<00:00,  1.91it/s, Loss=0.1248, Acc=0.9525]\n"
     ]
    },
    {
     "name": "stdout",
     "output_type": "stream",
     "text": [
      "✅ Training completed in 25.15s\n",
      "🔍 Validation Phase...\n"
     ]
    },
    {
     "name": "stderr",
     "output_type": "stream",
     "text": [
      "Validation: 100%|██████████████████████████████| 13/13 [00:03<00:00,  3.44it/s, Loss=2.0280, Acc=0.5529]\n"
     ]
    },
    {
     "name": "stdout",
     "output_type": "stream",
     "text": [
      "✅ Validation completed in 3.79s\n",
      "🌟 New best DenseNet-121 model found! Validation Accuracy: 0.5529\n",
      "\n",
      "📊 Epoch 16 Summary:\n",
      "│ Train Loss: 0.1248 | Train Acc: 0.9525\n",
      "│ Val Loss:   2.0280 | Val Acc:   0.5529\n",
      "│ Train Time: 25.15s | Val Time: 3.79s\n",
      "│ Total Epoch Time: 28.95s\n",
      "│ Best Val Acc: 0.5529 (Epoch 16)\n",
      "│ GPU Memory: 0.1GB / 4.5GB\n",
      "================================================================================\n",
      "\n",
      "📈 Epoch 17/50\n",
      "--------------------------------------------------\n",
      "🔄 Training Phase...\n"
     ]
    },
    {
     "name": "stderr",
     "output_type": "stream",
     "text": [
      "Training: 100%|██████████████████████████████| 48/48 [00:25<00:00,  1.90it/s, Loss=0.1074, Acc=0.9603]\n"
     ]
    },
    {
     "name": "stdout",
     "output_type": "stream",
     "text": [
      "✅ Training completed in 25.23s\n",
      "🔍 Validation Phase...\n"
     ]
    },
    {
     "name": "stderr",
     "output_type": "stream",
     "text": [
      "Validation: 100%|██████████████████████████████| 13/13 [00:03<00:00,  3.66it/s, Loss=2.2795, Acc=0.5216]\n"
     ]
    },
    {
     "name": "stdout",
     "output_type": "stream",
     "text": [
      "✅ Validation completed in 3.56s\n",
      "\n",
      "📊 Epoch 17 Summary:\n",
      "│ Train Loss: 0.1074 | Train Acc: 0.9603\n",
      "│ Val Loss:   2.2795 | Val Acc:   0.5216\n",
      "│ Train Time: 25.23s | Val Time: 3.56s\n",
      "│ Total Epoch Time: 28.79s\n",
      "│ Best Val Acc: 0.5529 (Epoch 16)\n",
      "│ GPU Memory: 0.1GB / 4.5GB\n",
      "================================================================================\n",
      "\n",
      "📈 Epoch 18/50\n",
      "--------------------------------------------------\n",
      "🔄 Training Phase...\n"
     ]
    },
    {
     "name": "stderr",
     "output_type": "stream",
     "text": [
      "Training: 100%|██████████████████████████████| 48/48 [00:24<00:00,  1.92it/s, Loss=0.1161, Acc=0.9635]\n"
     ]
    },
    {
     "name": "stdout",
     "output_type": "stream",
     "text": [
      "✅ Training completed in 24.99s\n",
      "🔍 Validation Phase...\n"
     ]
    },
    {
     "name": "stderr",
     "output_type": "stream",
     "text": [
      "Validation: 100%|██████████████████████████████| 13/13 [00:03<00:00,  3.54it/s, Loss=2.5484, Acc=0.4928]\n"
     ]
    },
    {
     "name": "stdout",
     "output_type": "stream",
     "text": [
      "✅ Validation completed in 3.68s\n",
      "\n",
      "📊 Epoch 18 Summary:\n",
      "│ Train Loss: 0.1161 | Train Acc: 0.9635\n",
      "│ Val Loss:   2.5484 | Val Acc:   0.4928\n",
      "│ Train Time: 24.99s | Val Time: 3.68s\n",
      "│ Total Epoch Time: 28.67s\n",
      "│ Best Val Acc: 0.5529 (Epoch 16)\n",
      "│ GPU Memory: 0.1GB / 4.5GB\n",
      "================================================================================\n",
      "\n",
      "📈 Epoch 19/50\n",
      "--------------------------------------------------\n",
      "🔄 Training Phase...\n"
     ]
    },
    {
     "name": "stderr",
     "output_type": "stream",
     "text": [
      "Training: 100%|██████████████████████████████| 48/48 [00:25<00:00,  1.91it/s, Loss=0.0726, Acc=0.9772]\n"
     ]
    },
    {
     "name": "stdout",
     "output_type": "stream",
     "text": [
      "✅ Training completed in 25.10s\n",
      "🔍 Validation Phase...\n"
     ]
    },
    {
     "name": "stderr",
     "output_type": "stream",
     "text": [
      "Validation: 100%|██████████████████████████████| 13/13 [00:03<00:00,  3.66it/s, Loss=2.5279, Acc=0.5312]\n"
     ]
    },
    {
     "name": "stdout",
     "output_type": "stream",
     "text": [
      "✅ Validation completed in 3.55s\n",
      "\n",
      "📊 Epoch 19 Summary:\n",
      "│ Train Loss: 0.0726 | Train Acc: 0.9772\n",
      "│ Val Loss:   2.5279 | Val Acc:   0.5312\n",
      "│ Train Time: 25.10s | Val Time: 3.55s\n",
      "│ Total Epoch Time: 28.65s\n",
      "│ Best Val Acc: 0.5529 (Epoch 16)\n",
      "│ GPU Memory: 0.1GB / 4.5GB\n",
      "================================================================================\n",
      "\n",
      "📈 Epoch 20/50\n",
      "--------------------------------------------------\n",
      "🔄 Training Phase...\n"
     ]
    },
    {
     "name": "stderr",
     "output_type": "stream",
     "text": [
      "Training: 100%|██████████████████████████████| 48/48 [00:24<00:00,  1.93it/s, Loss=0.0591, Acc=0.9818]\n"
     ]
    },
    {
     "name": "stdout",
     "output_type": "stream",
     "text": [
      "✅ Training completed in 24.92s\n",
      "🔍 Validation Phase...\n"
     ]
    },
    {
     "name": "stderr",
     "output_type": "stream",
     "text": [
      "Validation: 100%|██████████████████████████████| 13/13 [00:03<00:00,  3.60it/s, Loss=2.0811, Acc=0.6442]\n"
     ]
    },
    {
     "name": "stdout",
     "output_type": "stream",
     "text": [
      "✅ Validation completed in 3.61s\n",
      "🌟 New best DenseNet-121 model found! Validation Accuracy: 0.6442\n",
      "\n",
      "📊 Epoch 20 Summary:\n",
      "│ Train Loss: 0.0591 | Train Acc: 0.9818\n",
      "│ Val Loss:   2.0811 | Val Acc:   0.6442\n",
      "│ Train Time: 24.92s | Val Time: 3.61s\n",
      "│ Total Epoch Time: 28.54s\n",
      "│ Best Val Acc: 0.6442 (Epoch 20)\n",
      "│ GPU Memory: 0.1GB / 4.5GB\n",
      "================================================================================\n",
      "\n",
      "📈 Epoch 21/50\n",
      "--------------------------------------------------\n",
      "🔄 Training Phase...\n"
     ]
    },
    {
     "name": "stderr",
     "output_type": "stream",
     "text": [
      "Training: 100%|██████████████████████████████| 48/48 [00:25<00:00,  1.90it/s, Loss=0.0429, Acc=0.9889]\n"
     ]
    },
    {
     "name": "stdout",
     "output_type": "stream",
     "text": [
      "✅ Training completed in 25.24s\n",
      "🔍 Validation Phase...\n"
     ]
    },
    {
     "name": "stderr",
     "output_type": "stream",
     "text": [
      "Validation: 100%|██████████████████████████████| 13/13 [00:03<00:00,  3.65it/s, Loss=2.2454, Acc=0.5601]\n"
     ]
    },
    {
     "name": "stdout",
     "output_type": "stream",
     "text": [
      "✅ Validation completed in 3.56s\n",
      "\n",
      "📊 Epoch 21 Summary:\n",
      "│ Train Loss: 0.0429 | Train Acc: 0.9889\n",
      "│ Val Loss:   2.2454 | Val Acc:   0.5601\n",
      "│ Train Time: 25.24s | Val Time: 3.56s\n",
      "│ Total Epoch Time: 28.81s\n",
      "│ Best Val Acc: 0.6442 (Epoch 20)\n",
      "│ GPU Memory: 0.1GB / 4.5GB\n",
      "================================================================================\n",
      "\n",
      "📈 Epoch 22/50\n",
      "--------------------------------------------------\n",
      "🔄 Training Phase...\n"
     ]
    },
    {
     "name": "stderr",
     "output_type": "stream",
     "text": [
      "Training: 100%|██████████████████████████████| 48/48 [00:25<00:00,  1.92it/s, Loss=0.0354, Acc=0.9870]\n"
     ]
    },
    {
     "name": "stdout",
     "output_type": "stream",
     "text": [
      "✅ Training completed in 25.04s\n",
      "🔍 Validation Phase...\n"
     ]
    },
    {
     "name": "stderr",
     "output_type": "stream",
     "text": [
      "Validation: 100%|██████████████████████████████| 13/13 [00:03<00:00,  3.55it/s, Loss=2.2159, Acc=0.5288]\n"
     ]
    },
    {
     "name": "stdout",
     "output_type": "stream",
     "text": [
      "✅ Validation completed in 3.67s\n",
      "\n",
      "📊 Epoch 22 Summary:\n",
      "│ Train Loss: 0.0354 | Train Acc: 0.9870\n",
      "│ Val Loss:   2.2159 | Val Acc:   0.5288\n",
      "│ Train Time: 25.04s | Val Time: 3.67s\n",
      "│ Total Epoch Time: 28.71s\n",
      "│ Best Val Acc: 0.6442 (Epoch 20)\n",
      "│ GPU Memory: 0.1GB / 4.5GB\n",
      "================================================================================\n",
      "\n",
      "📈 Epoch 23/50\n",
      "--------------------------------------------------\n",
      "🔄 Training Phase...\n"
     ]
    },
    {
     "name": "stderr",
     "output_type": "stream",
     "text": [
      "Training: 100%|██████████████████████████████| 48/48 [00:25<00:00,  1.91it/s, Loss=0.0451, Acc=0.9811]\n"
     ]
    },
    {
     "name": "stdout",
     "output_type": "stream",
     "text": [
      "✅ Training completed in 25.13s\n",
      "🔍 Validation Phase...\n"
     ]
    },
    {
     "name": "stderr",
     "output_type": "stream",
     "text": [
      "Validation: 100%|██████████████████████████████| 13/13 [00:03<00:00,  3.61it/s, Loss=2.5258, Acc=0.5769]\n"
     ]
    },
    {
     "name": "stdout",
     "output_type": "stream",
     "text": [
      "✅ Validation completed in 3.60s\n",
      "\n",
      "📊 Epoch 23 Summary:\n",
      "│ Train Loss: 0.0451 | Train Acc: 0.9811\n",
      "│ Val Loss:   2.5258 | Val Acc:   0.5769\n",
      "│ Train Time: 25.13s | Val Time: 3.60s\n",
      "│ Total Epoch Time: 28.74s\n",
      "│ Best Val Acc: 0.6442 (Epoch 20)\n",
      "│ GPU Memory: 0.1GB / 4.5GB\n",
      "================================================================================\n",
      "\n",
      "📈 Epoch 24/50\n",
      "--------------------------------------------------\n",
      "🔄 Training Phase...\n"
     ]
    },
    {
     "name": "stderr",
     "output_type": "stream",
     "text": [
      "Training: 100%|██████████████████████████████| 48/48 [00:24<00:00,  1.92it/s, Loss=0.0777, Acc=0.9772]\n"
     ]
    },
    {
     "name": "stdout",
     "output_type": "stream",
     "text": [
      "✅ Training completed in 24.98s\n",
      "🔍 Validation Phase...\n"
     ]
    },
    {
     "name": "stderr",
     "output_type": "stream",
     "text": [
      "Validation: 100%|██████████████████████████████| 13/13 [00:03<00:00,  3.53it/s, Loss=2.4782, Acc=0.4832]\n"
     ]
    },
    {
     "name": "stdout",
     "output_type": "stream",
     "text": [
      "✅ Validation completed in 3.68s\n",
      "\n",
      "📊 Epoch 24 Summary:\n",
      "│ Train Loss: 0.0777 | Train Acc: 0.9772\n",
      "│ Val Loss:   2.4782 | Val Acc:   0.4832\n",
      "│ Train Time: 24.98s | Val Time: 3.68s\n",
      "│ Total Epoch Time: 28.67s\n",
      "│ Best Val Acc: 0.6442 (Epoch 20)\n",
      "│ GPU Memory: 0.1GB / 4.5GB\n",
      "================================================================================\n",
      "\n",
      "📈 Epoch 25/50\n",
      "--------------------------------------------------\n",
      "🔄 Training Phase...\n"
     ]
    },
    {
     "name": "stderr",
     "output_type": "stream",
     "text": [
      "Training: 100%|██████████████████████████████| 48/48 [00:25<00:00,  1.91it/s, Loss=0.0649, Acc=0.9759]\n"
     ]
    },
    {
     "name": "stdout",
     "output_type": "stream",
     "text": [
      "✅ Training completed in 25.19s\n",
      "🔍 Validation Phase...\n"
     ]
    },
    {
     "name": "stderr",
     "output_type": "stream",
     "text": [
      "Validation: 100%|██████████████████████████████| 13/13 [00:03<00:00,  3.62it/s, Loss=2.3293, Acc=0.5673]\n"
     ]
    },
    {
     "name": "stdout",
     "output_type": "stream",
     "text": [
      "✅ Validation completed in 3.60s\n",
      "\n",
      "📊 Epoch 25 Summary:\n",
      "│ Train Loss: 0.0649 | Train Acc: 0.9759\n",
      "│ Val Loss:   2.3293 | Val Acc:   0.5673\n",
      "│ Train Time: 25.19s | Val Time: 3.60s\n",
      "│ Total Epoch Time: 28.80s\n",
      "│ Best Val Acc: 0.6442 (Epoch 20)\n",
      "│ GPU Memory: 0.1GB / 4.5GB\n",
      "================================================================================\n",
      "\n",
      "📈 Epoch 26/50\n",
      "--------------------------------------------------\n",
      "🔄 Training Phase...\n"
     ]
    },
    {
     "name": "stderr",
     "output_type": "stream",
     "text": [
      "Training: 100%|██████████████████████████████| 48/48 [00:25<00:00,  1.91it/s, Loss=0.0710, Acc=0.9779]\n"
     ]
    },
    {
     "name": "stdout",
     "output_type": "stream",
     "text": [
      "✅ Training completed in 25.16s\n",
      "🔍 Validation Phase...\n"
     ]
    },
    {
     "name": "stderr",
     "output_type": "stream",
     "text": [
      "Validation: 100%|██████████████████████████████| 13/13 [00:03<00:00,  3.68it/s, Loss=2.0979, Acc=0.5553]\n"
     ]
    },
    {
     "name": "stdout",
     "output_type": "stream",
     "text": [
      "✅ Validation completed in 3.54s\n",
      "\n",
      "📊 Epoch 26 Summary:\n",
      "│ Train Loss: 0.0710 | Train Acc: 0.9779\n",
      "│ Val Loss:   2.0979 | Val Acc:   0.5553\n",
      "│ Train Time: 25.16s | Val Time: 3.54s\n",
      "│ Total Epoch Time: 28.70s\n",
      "│ Best Val Acc: 0.6442 (Epoch 20)\n",
      "│ GPU Memory: 0.1GB / 4.5GB\n",
      "================================================================================\n",
      "\n",
      "📈 Epoch 27/50\n",
      "--------------------------------------------------\n",
      "🔄 Training Phase...\n"
     ]
    },
    {
     "name": "stderr",
     "output_type": "stream",
     "text": [
      "Training: 100%|██████████████████████████████| 48/48 [00:25<00:00,  1.90it/s, Loss=0.0559, Acc=0.9779]\n"
     ]
    },
    {
     "name": "stdout",
     "output_type": "stream",
     "text": [
      "✅ Training completed in 25.26s\n",
      "🔍 Validation Phase...\n"
     ]
    },
    {
     "name": "stderr",
     "output_type": "stream",
     "text": [
      "Validation: 100%|██████████████████████████████| 13/13 [00:03<00:00,  3.60it/s, Loss=1.9900, Acc=0.6274]\n"
     ]
    },
    {
     "name": "stdout",
     "output_type": "stream",
     "text": [
      "✅ Validation completed in 3.61s\n",
      "\n",
      "📊 Epoch 27 Summary:\n",
      "│ Train Loss: 0.0559 | Train Acc: 0.9779\n",
      "│ Val Loss:   1.9900 | Val Acc:   0.6274\n",
      "│ Train Time: 25.26s | Val Time: 3.61s\n",
      "│ Total Epoch Time: 28.88s\n",
      "│ Best Val Acc: 0.6442 (Epoch 20)\n",
      "│ GPU Memory: 0.1GB / 4.5GB\n",
      "================================================================================\n",
      "\n",
      "📈 Epoch 28/50\n",
      "--------------------------------------------------\n",
      "🔄 Training Phase...\n"
     ]
    },
    {
     "name": "stderr",
     "output_type": "stream",
     "text": [
      "Training: 100%|██████████████████████████████| 48/48 [00:25<00:00,  1.90it/s, Loss=0.0182, Acc=0.9948]\n"
     ]
    },
    {
     "name": "stdout",
     "output_type": "stream",
     "text": [
      "✅ Training completed in 25.30s\n",
      "🔍 Validation Phase...\n"
     ]
    },
    {
     "name": "stderr",
     "output_type": "stream",
     "text": [
      "Validation: 100%|██████████████████████████████| 13/13 [00:03<00:00,  3.57it/s, Loss=2.0077, Acc=0.6058]\n"
     ]
    },
    {
     "name": "stdout",
     "output_type": "stream",
     "text": [
      "✅ Validation completed in 3.64s\n",
      "\n",
      "📊 Epoch 28 Summary:\n",
      "│ Train Loss: 0.0182 | Train Acc: 0.9948\n",
      "│ Val Loss:   2.0077 | Val Acc:   0.6058\n",
      "│ Train Time: 25.30s | Val Time: 3.64s\n",
      "│ Total Epoch Time: 28.95s\n",
      "│ Best Val Acc: 0.6442 (Epoch 20)\n",
      "│ GPU Memory: 0.1GB / 4.5GB\n",
      "================================================================================\n",
      "\n",
      "📈 Epoch 29/50\n",
      "--------------------------------------------------\n",
      "🔄 Training Phase...\n"
     ]
    },
    {
     "name": "stderr",
     "output_type": "stream",
     "text": [
      "Training: 100%|██████████████████████████████| 48/48 [00:25<00:00,  1.91it/s, Loss=0.0266, Acc=0.9896]\n"
     ]
    },
    {
     "name": "stdout",
     "output_type": "stream",
     "text": [
      "✅ Training completed in 25.19s\n",
      "🔍 Validation Phase...\n"
     ]
    },
    {
     "name": "stderr",
     "output_type": "stream",
     "text": [
      "Validation: 100%|██████████████████████████████| 13/13 [00:03<00:00,  3.46it/s, Loss=2.4458, Acc=0.5889]\n"
     ]
    },
    {
     "name": "stdout",
     "output_type": "stream",
     "text": [
      "✅ Validation completed in 3.76s\n",
      "\n",
      "📊 Epoch 29 Summary:\n",
      "│ Train Loss: 0.0266 | Train Acc: 0.9896\n",
      "│ Val Loss:   2.4458 | Val Acc:   0.5889\n",
      "│ Train Time: 25.19s | Val Time: 3.76s\n",
      "│ Total Epoch Time: 28.95s\n",
      "│ Best Val Acc: 0.6442 (Epoch 20)\n",
      "│ GPU Memory: 0.1GB / 4.5GB\n",
      "================================================================================\n",
      "\n",
      "📈 Epoch 30/50\n",
      "--------------------------------------------------\n",
      "🔄 Training Phase...\n"
     ]
    },
    {
     "name": "stderr",
     "output_type": "stream",
     "text": [
      "Training: 100%|██████████████████████████████| 48/48 [00:25<00:00,  1.90it/s, Loss=0.0526, Acc=0.9844]\n"
     ]
    },
    {
     "name": "stdout",
     "output_type": "stream",
     "text": [
      "✅ Training completed in 25.33s\n",
      "🔍 Validation Phase...\n"
     ]
    },
    {
     "name": "stderr",
     "output_type": "stream",
     "text": [
      "Validation: 100%|██████████████████████████████| 13/13 [00:03<00:00,  3.67it/s, Loss=2.6550, Acc=0.5409]\n"
     ]
    },
    {
     "name": "stdout",
     "output_type": "stream",
     "text": [
      "✅ Validation completed in 3.54s\n",
      "\n",
      "📊 Epoch 30 Summary:\n",
      "│ Train Loss: 0.0526 | Train Acc: 0.9844\n",
      "│ Val Loss:   2.6550 | Val Acc:   0.5409\n",
      "│ Train Time: 25.33s | Val Time: 3.54s\n",
      "│ Total Epoch Time: 28.87s\n",
      "│ Best Val Acc: 0.6442 (Epoch 20)\n",
      "│ GPU Memory: 0.1GB / 4.5GB\n",
      "================================================================================\n",
      "\n",
      "📈 Epoch 31/50\n",
      "--------------------------------------------------\n",
      "🔄 Training Phase...\n"
     ]
    },
    {
     "name": "stderr",
     "output_type": "stream",
     "text": [
      "Training: 100%|██████████████████████████████| 48/48 [00:25<00:00,  1.90it/s, Loss=0.0713, Acc=0.9759]\n"
     ]
    },
    {
     "name": "stdout",
     "output_type": "stream",
     "text": [
      "✅ Training completed in 25.22s\n",
      "🔍 Validation Phase...\n"
     ]
    },
    {
     "name": "stderr",
     "output_type": "stream",
     "text": [
      "Validation: 100%|██████████████████████████████| 13/13 [00:03<00:00,  3.56it/s, Loss=2.8714, Acc=0.5409]\n"
     ]
    },
    {
     "name": "stdout",
     "output_type": "stream",
     "text": [
      "✅ Validation completed in 3.65s\n",
      "\n",
      "📊 Epoch 31 Summary:\n",
      "│ Train Loss: 0.0713 | Train Acc: 0.9759\n",
      "│ Val Loss:   2.8714 | Val Acc:   0.5409\n",
      "│ Train Time: 25.22s | Val Time: 3.65s\n",
      "│ Total Epoch Time: 28.88s\n",
      "│ Best Val Acc: 0.6442 (Epoch 20)\n",
      "│ GPU Memory: 0.1GB / 4.5GB\n",
      "================================================================================\n",
      "\n",
      "📈 Epoch 32/50\n",
      "--------------------------------------------------\n",
      "🔄 Training Phase...\n"
     ]
    },
    {
     "name": "stderr",
     "output_type": "stream",
     "text": [
      "Training: 100%|██████████████████████████████| 48/48 [00:25<00:00,  1.90it/s, Loss=0.0321, Acc=0.9876]\n"
     ]
    },
    {
     "name": "stdout",
     "output_type": "stream",
     "text": [
      "✅ Training completed in 25.29s\n",
      "🔍 Validation Phase...\n"
     ]
    },
    {
     "name": "stderr",
     "output_type": "stream",
     "text": [
      "Validation: 100%|██████████████████████████████| 13/13 [00:03<00:00,  3.63it/s, Loss=2.4253, Acc=0.5962]\n"
     ]
    },
    {
     "name": "stdout",
     "output_type": "stream",
     "text": [
      "✅ Validation completed in 3.58s\n",
      "\n",
      "📊 Epoch 32 Summary:\n",
      "│ Train Loss: 0.0321 | Train Acc: 0.9876\n",
      "│ Val Loss:   2.4253 | Val Acc:   0.5962\n",
      "│ Train Time: 25.29s | Val Time: 3.58s\n",
      "│ Total Epoch Time: 28.88s\n",
      "│ Best Val Acc: 0.6442 (Epoch 20)\n",
      "│ GPU Memory: 0.1GB / 4.5GB\n",
      "================================================================================\n",
      "\n",
      "📈 Epoch 33/50\n",
      "--------------------------------------------------\n",
      "🔄 Training Phase...\n"
     ]
    },
    {
     "name": "stderr",
     "output_type": "stream",
     "text": [
      "Training: 100%|██████████████████████████████| 48/48 [00:25<00:00,  1.92it/s, Loss=0.0402, Acc=0.9883]\n"
     ]
    },
    {
     "name": "stdout",
     "output_type": "stream",
     "text": [
      "✅ Training completed in 25.02s\n",
      "🔍 Validation Phase...\n"
     ]
    },
    {
     "name": "stderr",
     "output_type": "stream",
     "text": [
      "Validation: 100%|██████████████████████████████| 13/13 [00:03<00:00,  3.64it/s, Loss=3.2076, Acc=0.4784]\n"
     ]
    },
    {
     "name": "stdout",
     "output_type": "stream",
     "text": [
      "✅ Validation completed in 3.57s\n",
      "\n",
      "📊 Epoch 33 Summary:\n",
      "│ Train Loss: 0.0402 | Train Acc: 0.9883\n",
      "│ Val Loss:   3.2076 | Val Acc:   0.4784\n",
      "│ Train Time: 25.02s | Val Time: 3.57s\n",
      "│ Total Epoch Time: 28.60s\n",
      "│ Best Val Acc: 0.6442 (Epoch 20)\n",
      "│ GPU Memory: 0.1GB / 4.5GB\n",
      "================================================================================\n",
      "\n",
      "📈 Epoch 34/50\n",
      "--------------------------------------------------\n",
      "🔄 Training Phase...\n"
     ]
    },
    {
     "name": "stderr",
     "output_type": "stream",
     "text": [
      "Training: 100%|██████████████████████████████| 48/48 [00:25<00:00,  1.91it/s, Loss=0.0361, Acc=0.9831]\n"
     ]
    },
    {
     "name": "stdout",
     "output_type": "stream",
     "text": [
      "✅ Training completed in 25.19s\n",
      "🔍 Validation Phase...\n"
     ]
    },
    {
     "name": "stderr",
     "output_type": "stream",
     "text": [
      "Validation: 100%|██████████████████████████████| 13/13 [00:03<00:00,  3.59it/s, Loss=2.5113, Acc=0.5865]\n"
     ]
    },
    {
     "name": "stdout",
     "output_type": "stream",
     "text": [
      "✅ Validation completed in 3.63s\n",
      "\n",
      "📊 Epoch 34 Summary:\n",
      "│ Train Loss: 0.0361 | Train Acc: 0.9831\n",
      "│ Val Loss:   2.5113 | Val Acc:   0.5865\n",
      "│ Train Time: 25.19s | Val Time: 3.63s\n",
      "│ Total Epoch Time: 28.82s\n",
      "│ Best Val Acc: 0.6442 (Epoch 20)\n",
      "│ GPU Memory: 0.1GB / 4.5GB\n",
      "================================================================================\n",
      "\n",
      "📈 Epoch 35/50\n",
      "--------------------------------------------------\n",
      "🔄 Training Phase...\n"
     ]
    },
    {
     "name": "stderr",
     "output_type": "stream",
     "text": [
      "Training: 100%|██████████████████████████████| 48/48 [00:25<00:00,  1.91it/s, Loss=0.0437, Acc=0.9863]\n"
     ]
    },
    {
     "name": "stdout",
     "output_type": "stream",
     "text": [
      "✅ Training completed in 25.10s\n",
      "🔍 Validation Phase...\n"
     ]
    },
    {
     "name": "stderr",
     "output_type": "stream",
     "text": [
      "Validation: 100%|██████████████████████████████| 13/13 [00:03<00:00,  3.67it/s, Loss=2.6687, Acc=0.5216]\n"
     ]
    },
    {
     "name": "stdout",
     "output_type": "stream",
     "text": [
      "✅ Validation completed in 3.54s\n",
      "\n",
      "📊 Epoch 35 Summary:\n",
      "│ Train Loss: 0.0437 | Train Acc: 0.9863\n",
      "│ Val Loss:   2.6687 | Val Acc:   0.5216\n",
      "│ Train Time: 25.10s | Val Time: 3.54s\n",
      "│ Total Epoch Time: 28.65s\n",
      "│ Best Val Acc: 0.6442 (Epoch 20)\n",
      "│ GPU Memory: 0.1GB / 4.5GB\n",
      "================================================================================\n",
      "\n",
      "📈 Epoch 36/50\n",
      "--------------------------------------------------\n",
      "🔄 Training Phase...\n"
     ]
    },
    {
     "name": "stderr",
     "output_type": "stream",
     "text": [
      "Training: 100%|██████████████████████████████| 48/48 [00:25<00:00,  1.91it/s, Loss=0.0796, Acc=0.9727]\n"
     ]
    },
    {
     "name": "stdout",
     "output_type": "stream",
     "text": [
      "✅ Training completed in 25.07s\n",
      "🔍 Validation Phase...\n"
     ]
    },
    {
     "name": "stderr",
     "output_type": "stream",
     "text": [
      "Validation: 100%|██████████████████████████████| 13/13 [00:03<00:00,  3.68it/s, Loss=2.7931, Acc=0.5457]\n"
     ]
    },
    {
     "name": "stdout",
     "output_type": "stream",
     "text": [
      "✅ Validation completed in 3.53s\n",
      "\n",
      "📊 Epoch 36 Summary:\n",
      "│ Train Loss: 0.0796 | Train Acc: 0.9727\n",
      "│ Val Loss:   2.7931 | Val Acc:   0.5457\n",
      "│ Train Time: 25.07s | Val Time: 3.53s\n",
      "│ Total Epoch Time: 28.61s\n",
      "│ Best Val Acc: 0.6442 (Epoch 20)\n",
      "│ GPU Memory: 0.1GB / 4.5GB\n",
      "================================================================================\n",
      "\n",
      "📈 Epoch 37/50\n",
      "--------------------------------------------------\n",
      "🔄 Training Phase...\n"
     ]
    },
    {
     "name": "stderr",
     "output_type": "stream",
     "text": [
      "Training: 100%|██████████████████████████████| 48/48 [00:25<00:00,  1.90it/s, Loss=0.0436, Acc=0.9831]\n"
     ]
    },
    {
     "name": "stdout",
     "output_type": "stream",
     "text": [
      "✅ Training completed in 25.22s\n",
      "🔍 Validation Phase...\n"
     ]
    },
    {
     "name": "stderr",
     "output_type": "stream",
     "text": [
      "Validation: 100%|██████████████████████████████| 13/13 [00:03<00:00,  3.61it/s, Loss=2.6522, Acc=0.5216]\n"
     ]
    },
    {
     "name": "stdout",
     "output_type": "stream",
     "text": [
      "✅ Validation completed in 3.61s\n",
      "\n",
      "📊 Epoch 37 Summary:\n",
      "│ Train Loss: 0.0436 | Train Acc: 0.9831\n",
      "│ Val Loss:   2.6522 | Val Acc:   0.5216\n",
      "│ Train Time: 25.22s | Val Time: 3.61s\n",
      "│ Total Epoch Time: 28.83s\n",
      "│ Best Val Acc: 0.6442 (Epoch 20)\n",
      "│ GPU Memory: 0.1GB / 4.5GB\n",
      "================================================================================\n",
      "\n",
      "📈 Epoch 38/50\n",
      "--------------------------------------------------\n",
      "🔄 Training Phase...\n"
     ]
    },
    {
     "name": "stderr",
     "output_type": "stream",
     "text": [
      "Training: 100%|██████████████████████████████| 48/48 [00:25<00:00,  1.89it/s, Loss=0.0342, Acc=0.9889]\n"
     ]
    },
    {
     "name": "stdout",
     "output_type": "stream",
     "text": [
      "✅ Training completed in 25.40s\n",
      "🔍 Validation Phase...\n"
     ]
    },
    {
     "name": "stderr",
     "output_type": "stream",
     "text": [
      "Validation: 100%|██████████████████████████████| 13/13 [00:03<00:00,  3.68it/s, Loss=2.4336, Acc=0.6370]\n"
     ]
    },
    {
     "name": "stdout",
     "output_type": "stream",
     "text": [
      "✅ Validation completed in 3.53s\n",
      "\n",
      "📊 Epoch 38 Summary:\n",
      "│ Train Loss: 0.0342 | Train Acc: 0.9889\n",
      "│ Val Loss:   2.4336 | Val Acc:   0.6370\n",
      "│ Train Time: 25.40s | Val Time: 3.53s\n",
      "│ Total Epoch Time: 28.94s\n",
      "│ Best Val Acc: 0.6442 (Epoch 20)\n",
      "│ GPU Memory: 0.1GB / 4.5GB\n",
      "================================================================================\n",
      "\n",
      "📈 Epoch 39/50\n",
      "--------------------------------------------------\n",
      "🔄 Training Phase...\n"
     ]
    },
    {
     "name": "stderr",
     "output_type": "stream",
     "text": [
      "Training: 100%|██████████████████████████████| 48/48 [00:24<00:00,  1.92it/s, Loss=0.0445, Acc=0.9850]\n"
     ]
    },
    {
     "name": "stdout",
     "output_type": "stream",
     "text": [
      "✅ Training completed in 24.99s\n",
      "🔍 Validation Phase...\n"
     ]
    },
    {
     "name": "stderr",
     "output_type": "stream",
     "text": [
      "Validation: 100%|██████████████████████████████| 13/13 [00:03<00:00,  3.50it/s, Loss=2.1181, Acc=0.5913]\n"
     ]
    },
    {
     "name": "stdout",
     "output_type": "stream",
     "text": [
      "✅ Validation completed in 3.72s\n",
      "\n",
      "📊 Epoch 39 Summary:\n",
      "│ Train Loss: 0.0445 | Train Acc: 0.9850\n",
      "│ Val Loss:   2.1181 | Val Acc:   0.5913\n",
      "│ Train Time: 24.99s | Val Time: 3.72s\n",
      "│ Total Epoch Time: 28.71s\n",
      "│ Best Val Acc: 0.6442 (Epoch 20)\n",
      "│ GPU Memory: 0.1GB / 4.5GB\n",
      "================================================================================\n",
      "\n",
      "📈 Epoch 40/50\n",
      "--------------------------------------------------\n",
      "🔄 Training Phase...\n"
     ]
    },
    {
     "name": "stderr",
     "output_type": "stream",
     "text": [
      "Training: 100%|██████████████████████████████| 48/48 [00:25<00:00,  1.91it/s, Loss=0.0190, Acc=0.9922]\n"
     ]
    },
    {
     "name": "stdout",
     "output_type": "stream",
     "text": [
      "✅ Training completed in 25.07s\n",
      "🔍 Validation Phase...\n"
     ]
    },
    {
     "name": "stderr",
     "output_type": "stream",
     "text": [
      "Validation: 100%|██████████████████████████████| 13/13 [00:03<00:00,  3.62it/s, Loss=2.9800, Acc=0.6010]\n"
     ]
    },
    {
     "name": "stdout",
     "output_type": "stream",
     "text": [
      "✅ Validation completed in 3.59s\n",
      "\n",
      "📊 Epoch 40 Summary:\n",
      "│ Train Loss: 0.0190 | Train Acc: 0.9922\n",
      "│ Val Loss:   2.9800 | Val Acc:   0.6010\n",
      "│ Train Time: 25.07s | Val Time: 3.59s\n",
      "│ Total Epoch Time: 28.67s\n",
      "│ Best Val Acc: 0.6442 (Epoch 20)\n",
      "│ GPU Memory: 0.1GB / 4.5GB\n",
      "================================================================================\n",
      "\n",
      "📈 Epoch 41/50\n",
      "--------------------------------------------------\n",
      "🔄 Training Phase...\n"
     ]
    },
    {
     "name": "stderr",
     "output_type": "stream",
     "text": [
      "Training: 100%|██████████████████████████████| 48/48 [00:25<00:00,  1.92it/s, Loss=0.0240, Acc=0.9935]\n"
     ]
    },
    {
     "name": "stdout",
     "output_type": "stream",
     "text": [
      "✅ Training completed in 25.07s\n",
      "🔍 Validation Phase...\n"
     ]
    },
    {
     "name": "stderr",
     "output_type": "stream",
     "text": [
      "Validation: 100%|██████████████████████████████| 13/13 [00:03<00:00,  3.61it/s, Loss=2.8125, Acc=0.5962]\n"
     ]
    },
    {
     "name": "stdout",
     "output_type": "stream",
     "text": [
      "✅ Validation completed in 3.60s\n",
      "\n",
      "📊 Epoch 41 Summary:\n",
      "│ Train Loss: 0.0240 | Train Acc: 0.9935\n",
      "│ Val Loss:   2.8125 | Val Acc:   0.5962\n",
      "│ Train Time: 25.07s | Val Time: 3.60s\n",
      "│ Total Epoch Time: 28.67s\n",
      "│ Best Val Acc: 0.6442 (Epoch 20)\n",
      "│ GPU Memory: 0.1GB / 4.5GB\n",
      "================================================================================\n",
      "\n",
      "📈 Epoch 42/50\n",
      "--------------------------------------------------\n",
      "🔄 Training Phase...\n"
     ]
    },
    {
     "name": "stderr",
     "output_type": "stream",
     "text": [
      "Training: 100%|██████████████████████████████| 48/48 [00:24<00:00,  1.92it/s, Loss=0.0505, Acc=0.9850]\n"
     ]
    },
    {
     "name": "stdout",
     "output_type": "stream",
     "text": [
      "✅ Training completed in 24.97s\n",
      "🔍 Validation Phase...\n"
     ]
    },
    {
     "name": "stderr",
     "output_type": "stream",
     "text": [
      "Validation: 100%|██████████████████████████████| 13/13 [00:03<00:00,  3.61it/s, Loss=3.0069, Acc=0.5793]\n"
     ]
    },
    {
     "name": "stdout",
     "output_type": "stream",
     "text": [
      "✅ Validation completed in 3.61s\n",
      "\n",
      "📊 Epoch 42 Summary:\n",
      "│ Train Loss: 0.0505 | Train Acc: 0.9850\n",
      "│ Val Loss:   3.0069 | Val Acc:   0.5793\n",
      "│ Train Time: 24.97s | Val Time: 3.61s\n",
      "│ Total Epoch Time: 28.58s\n",
      "│ Best Val Acc: 0.6442 (Epoch 20)\n",
      "│ GPU Memory: 0.1GB / 4.5GB\n",
      "================================================================================\n",
      "\n",
      "📈 Epoch 43/50\n",
      "--------------------------------------------------\n",
      "🔄 Training Phase...\n"
     ]
    },
    {
     "name": "stderr",
     "output_type": "stream",
     "text": [
      "Training: 100%|██████████████████████████████| 48/48 [00:25<00:00,  1.92it/s, Loss=0.0166, Acc=0.9948]\n"
     ]
    },
    {
     "name": "stdout",
     "output_type": "stream",
     "text": [
      "✅ Training completed in 25.01s\n",
      "🔍 Validation Phase...\n"
     ]
    },
    {
     "name": "stderr",
     "output_type": "stream",
     "text": [
      "Validation: 100%|██████████████████████████████| 13/13 [00:03<00:00,  3.62it/s, Loss=2.0476, Acc=0.5577]\n"
     ]
    },
    {
     "name": "stdout",
     "output_type": "stream",
     "text": [
      "✅ Validation completed in 3.59s\n",
      "\n",
      "📊 Epoch 43 Summary:\n",
      "│ Train Loss: 0.0166 | Train Acc: 0.9948\n",
      "│ Val Loss:   2.0476 | Val Acc:   0.5577\n",
      "│ Train Time: 25.01s | Val Time: 3.59s\n",
      "│ Total Epoch Time: 28.60s\n",
      "│ Best Val Acc: 0.6442 (Epoch 20)\n",
      "│ GPU Memory: 0.1GB / 4.5GB\n",
      "================================================================================\n",
      "\n",
      "📈 Epoch 44/50\n",
      "--------------------------------------------------\n",
      "🔄 Training Phase...\n"
     ]
    },
    {
     "name": "stderr",
     "output_type": "stream",
     "text": [
      "Training: 100%|██████████████████████████████| 48/48 [00:25<00:00,  1.92it/s, Loss=0.0041, Acc=0.9993]\n"
     ]
    },
    {
     "name": "stdout",
     "output_type": "stream",
     "text": [
      "✅ Training completed in 25.07s\n",
      "🔍 Validation Phase...\n"
     ]
    },
    {
     "name": "stderr",
     "output_type": "stream",
     "text": [
      "Validation: 100%|██████████████████████████████| 13/13 [00:03<00:00,  3.65it/s, Loss=2.3401, Acc=0.6154]\n"
     ]
    },
    {
     "name": "stdout",
     "output_type": "stream",
     "text": [
      "✅ Validation completed in 3.57s\n",
      "\n",
      "📊 Epoch 44 Summary:\n",
      "│ Train Loss: 0.0041 | Train Acc: 0.9993\n",
      "│ Val Loss:   2.3401 | Val Acc:   0.6154\n",
      "│ Train Time: 25.07s | Val Time: 3.57s\n",
      "│ Total Epoch Time: 28.64s\n",
      "│ Best Val Acc: 0.6442 (Epoch 20)\n",
      "│ GPU Memory: 0.1GB / 4.5GB\n",
      "================================================================================\n",
      "\n",
      "📈 Epoch 45/50\n",
      "--------------------------------------------------\n",
      "🔄 Training Phase...\n"
     ]
    },
    {
     "name": "stderr",
     "output_type": "stream",
     "text": [
      "Training: 100%|██████████████████████████████| 48/48 [00:25<00:00,  1.91it/s, Loss=0.0024, Acc=0.9993]\n"
     ]
    },
    {
     "name": "stdout",
     "output_type": "stream",
     "text": [
      "✅ Training completed in 25.08s\n",
      "🔍 Validation Phase...\n"
     ]
    },
    {
     "name": "stderr",
     "output_type": "stream",
     "text": [
      "Validation: 100%|██████████████████████████████| 13/13 [00:03<00:00,  3.66it/s, Loss=2.5875, Acc=0.6202]\n"
     ]
    },
    {
     "name": "stdout",
     "output_type": "stream",
     "text": [
      "✅ Validation completed in 3.55s\n",
      "\n",
      "📊 Epoch 45 Summary:\n",
      "│ Train Loss: 0.0024 | Train Acc: 0.9993\n",
      "│ Val Loss:   2.5875 | Val Acc:   0.6202\n",
      "│ Train Time: 25.08s | Val Time: 3.55s\n",
      "│ Total Epoch Time: 28.64s\n",
      "│ Best Val Acc: 0.6442 (Epoch 20)\n",
      "│ GPU Memory: 0.1GB / 4.5GB\n",
      "================================================================================\n",
      "\n",
      "📈 Epoch 46/50\n",
      "--------------------------------------------------\n",
      "🔄 Training Phase...\n"
     ]
    },
    {
     "name": "stderr",
     "output_type": "stream",
     "text": [
      "Training: 100%|██████████████████████████████| 48/48 [00:25<00:00,  1.92it/s, Loss=0.0017, Acc=1.0000]\n"
     ]
    },
    {
     "name": "stdout",
     "output_type": "stream",
     "text": [
      "✅ Training completed in 25.02s\n",
      "🔍 Validation Phase...\n"
     ]
    },
    {
     "name": "stderr",
     "output_type": "stream",
     "text": [
      "Validation: 100%|██████████████████████████████| 13/13 [00:03<00:00,  3.55it/s, Loss=2.1381, Acc=0.6466]\n"
     ]
    },
    {
     "name": "stdout",
     "output_type": "stream",
     "text": [
      "✅ Validation completed in 3.66s\n",
      "🌟 New best DenseNet-121 model found! Validation Accuracy: 0.6466\n",
      "\n",
      "📊 Epoch 46 Summary:\n",
      "│ Train Loss: 0.0017 | Train Acc: 1.0000\n",
      "│ Val Loss:   2.1381 | Val Acc:   0.6466\n",
      "│ Train Time: 25.02s | Val Time: 3.66s\n",
      "│ Total Epoch Time: 28.69s\n",
      "│ Best Val Acc: 0.6466 (Epoch 46)\n",
      "│ GPU Memory: 0.1GB / 4.5GB\n",
      "================================================================================\n",
      "\n",
      "📈 Epoch 47/50\n",
      "--------------------------------------------------\n",
      "🔄 Training Phase...\n"
     ]
    },
    {
     "name": "stderr",
     "output_type": "stream",
     "text": [
      "Training: 100%|██████████████████████████████| 48/48 [00:25<00:00,  1.90it/s, Loss=0.0010, Acc=1.0000]\n"
     ]
    },
    {
     "name": "stdout",
     "output_type": "stream",
     "text": [
      "✅ Training completed in 25.33s\n",
      "🔍 Validation Phase...\n"
     ]
    },
    {
     "name": "stderr",
     "output_type": "stream",
     "text": [
      "Validation: 100%|██████████████████████████████| 13/13 [00:03<00:00,  3.60it/s, Loss=2.1308, Acc=0.6418]\n"
     ]
    },
    {
     "name": "stdout",
     "output_type": "stream",
     "text": [
      "✅ Validation completed in 3.61s\n",
      "\n",
      "📊 Epoch 47 Summary:\n",
      "│ Train Loss: 0.0010 | Train Acc: 1.0000\n",
      "│ Val Loss:   2.1308 | Val Acc:   0.6418\n",
      "│ Train Time: 25.33s | Val Time: 3.61s\n",
      "│ Total Epoch Time: 28.95s\n",
      "│ Best Val Acc: 0.6466 (Epoch 46)\n",
      "│ GPU Memory: 0.1GB / 4.5GB\n",
      "================================================================================\n",
      "\n",
      "📈 Epoch 48/50\n",
      "--------------------------------------------------\n",
      "🔄 Training Phase...\n"
     ]
    },
    {
     "name": "stderr",
     "output_type": "stream",
     "text": [
      "Training: 100%|██████████████████████████████| 48/48 [00:25<00:00,  1.92it/s, Loss=0.0015, Acc=1.0000]\n"
     ]
    },
    {
     "name": "stdout",
     "output_type": "stream",
     "text": [
      "✅ Training completed in 25.03s\n",
      "🔍 Validation Phase...\n"
     ]
    },
    {
     "name": "stderr",
     "output_type": "stream",
     "text": [
      "Validation: 100%|██████████████████████████████| 13/13 [00:03<00:00,  3.54it/s, Loss=2.4508, Acc=0.6154]\n"
     ]
    },
    {
     "name": "stdout",
     "output_type": "stream",
     "text": [
      "✅ Validation completed in 3.68s\n",
      "\n",
      "📊 Epoch 48 Summary:\n",
      "│ Train Loss: 0.0015 | Train Acc: 1.0000\n",
      "│ Val Loss:   2.4508 | Val Acc:   0.6154\n",
      "│ Train Time: 25.03s | Val Time: 3.68s\n",
      "│ Total Epoch Time: 28.72s\n",
      "│ Best Val Acc: 0.6466 (Epoch 46)\n",
      "│ GPU Memory: 0.1GB / 4.5GB\n",
      "================================================================================\n",
      "\n",
      "📈 Epoch 49/50\n",
      "--------------------------------------------------\n",
      "🔄 Training Phase...\n"
     ]
    },
    {
     "name": "stderr",
     "output_type": "stream",
     "text": [
      "Training: 100%|██████████████████████████████| 48/48 [00:25<00:00,  1.92it/s, Loss=0.0011, Acc=1.0000]\n"
     ]
    },
    {
     "name": "stdout",
     "output_type": "stream",
     "text": [
      "✅ Training completed in 25.02s\n",
      "🔍 Validation Phase...\n"
     ]
    },
    {
     "name": "stderr",
     "output_type": "stream",
     "text": [
      "Validation: 100%|██████████████████████████████| 13/13 [00:03<00:00,  3.60it/s, Loss=2.3510, Acc=0.6178]\n"
     ]
    },
    {
     "name": "stdout",
     "output_type": "stream",
     "text": [
      "✅ Validation completed in 3.61s\n",
      "\n",
      "📊 Epoch 49 Summary:\n",
      "│ Train Loss: 0.0011 | Train Acc: 1.0000\n",
      "│ Val Loss:   2.3510 | Val Acc:   0.6178\n",
      "│ Train Time: 25.02s | Val Time: 3.61s\n",
      "│ Total Epoch Time: 28.63s\n",
      "│ Best Val Acc: 0.6466 (Epoch 46)\n",
      "│ GPU Memory: 0.1GB / 4.5GB\n",
      "================================================================================\n",
      "\n",
      "📈 Epoch 50/50\n",
      "--------------------------------------------------\n",
      "🔄 Training Phase...\n"
     ]
    },
    {
     "name": "stderr",
     "output_type": "stream",
     "text": [
      "Training: 100%|██████████████████████████████| 48/48 [00:25<00:00,  1.91it/s, Loss=0.0005, Acc=1.0000]\n"
     ]
    },
    {
     "name": "stdout",
     "output_type": "stream",
     "text": [
      "✅ Training completed in 25.07s\n",
      "🔍 Validation Phase...\n"
     ]
    },
    {
     "name": "stderr",
     "output_type": "stream",
     "text": [
      "Validation: 100%|██████████████████████████████| 13/13 [00:03<00:00,  3.60it/s, Loss=2.4650, Acc=0.6106]\n"
     ]
    },
    {
     "name": "stdout",
     "output_type": "stream",
     "text": [
      "✅ Validation completed in 3.61s\n",
      "\n",
      "📊 Epoch 50 Summary:\n",
      "│ Train Loss: 0.0005 | Train Acc: 1.0000\n",
      "│ Val Loss:   2.4650 | Val Acc:   0.6106\n",
      "│ Train Time: 25.07s | Val Time: 3.61s\n",
      "│ Total Epoch Time: 28.68s\n",
      "│ Best Val Acc: 0.6466 (Epoch 46)\n",
      "│ GPU Memory: 0.1GB / 4.5GB\n",
      "================================================================================\n",
      "\n",
      "💾 Best DenseNet-121 model saved as 'best_densenet121_model.pth'\n",
      "📊 Best model stats:\n",
      "│ Best Epoch: 46\n",
      "│ Best Val Acc: 0.6466\n",
      "\n",
      "💾 DenseNet-121 training history saved to 'densenet121_training_history.csv'\n",
      "\n",
      "🎉 DenseNet-121 Training Complete!\n",
      "Total Training Time: 1442.13s (24.0 minutes)\n",
      "Average Epoch Time: 28.84s\n",
      "\n",
      "⏱️  Epoch Timing Breakdown:\n",
      "│ Epoch 1: 36.14s\n",
      "│ Epoch 2: 28.18s\n",
      "│ Epoch 3: 28.28s\n",
      "│ Epoch 4: 28.48s\n",
      "│ Epoch 5: 28.42s\n",
      "│ Epoch 6: 28.50s\n",
      "│ Epoch 7: 28.51s\n",
      "│ Epoch 8: 28.68s\n",
      "│ Epoch 9: 28.53s\n",
      "│ Epoch 10: 28.54s\n",
      "│ Epoch 11: 28.76s\n",
      "│ Epoch 12: 28.54s\n",
      "│ Epoch 13: 28.87s\n",
      "│ Epoch 14: 28.84s\n",
      "│ Epoch 15: 28.77s\n",
      "│ Epoch 16: 28.95s\n",
      "│ Epoch 17: 28.79s\n",
      "│ Epoch 18: 28.67s\n",
      "│ Epoch 19: 28.65s\n",
      "│ Epoch 20: 28.54s\n",
      "│ Epoch 21: 28.81s\n",
      "│ Epoch 22: 28.71s\n",
      "│ Epoch 23: 28.74s\n",
      "│ Epoch 24: 28.67s\n",
      "│ Epoch 25: 28.80s\n",
      "│ Epoch 26: 28.70s\n",
      "│ Epoch 27: 28.88s\n",
      "│ Epoch 28: 28.95s\n",
      "│ Epoch 29: 28.95s\n",
      "│ Epoch 30: 28.87s\n",
      "│ Epoch 31: 28.88s\n",
      "│ Epoch 32: 28.88s\n",
      "│ Epoch 33: 28.60s\n",
      "│ Epoch 34: 28.82s\n",
      "│ Epoch 35: 28.65s\n",
      "│ Epoch 36: 28.61s\n",
      "│ Epoch 37: 28.83s\n",
      "│ Epoch 38: 28.94s\n",
      "│ Epoch 39: 28.71s\n",
      "│ Epoch 40: 28.67s\n",
      "│ Epoch 41: 28.67s\n",
      "│ Epoch 42: 28.58s\n",
      "│ Epoch 43: 28.60s\n",
      "│ Epoch 44: 28.64s\n",
      "│ Epoch 45: 28.64s\n",
      "│ Epoch 46: 28.69s\n",
      "│ Epoch 47: 28.95s\n",
      "│ Epoch 48: 28.72s\n",
      "│ Epoch 49: 28.63s\n",
      "│ Epoch 50: 28.68s\n",
      "\n",
      "🧪 Loading Best DenseNet-121 Model for Testing...\n",
      "✅ Best DenseNet-121 model from epoch 46 loaded successfully!\n"
     ]
    },
    {
     "name": "stderr",
     "output_type": "stream",
     "text": [
      "Testing DenseNet-121: 100%|██████████████████████████████| 17/17 [00:06<00:00,  2.62it/s]\n"
     ]
    },
    {
     "name": "stdout",
     "output_type": "stream",
     "text": [
      "✅ DenseNet-121 Testing completed in 6.49s\n",
      "\n",
      "📋 DenseNet-121 Classification Report:\n",
      "              precision    recall  f1-score   support\n",
      "\n",
      "        Four       0.00      0.00      0.00        40\n",
      "     Leg_Bye       0.60      0.23      0.33        40\n",
      "     No_ball       0.50      0.52      0.51       104\n",
      "         Out       0.55      0.62      0.58        48\n",
      "         Six       0.67      0.67      0.67       152\n",
      "        Wide       0.55      0.62      0.58       136\n",
      "\n",
      "    accuracy                           0.54       520\n",
      "   macro avg       0.48      0.44      0.45       520\n",
      "weighted avg       0.54      0.54      0.53       520\n",
      "\n",
      "🎯 DenseNet-121 Test Accuracy: 0.5365\n",
      "\n",
      "📊 DenseNet-121 Model Performance Summary:\n",
      "│ Best Validation Acc:  0.6466 (Epoch 46)\n",
      "│ Final Test Accuracy:  0.5365\n",
      "│ Val-Test Gap:         0.1101\n"
     ]
    },
    {
     "data": {
      "image/png": "[encoded data removed]",
      "text/plain": [
       "<Figure size 800x600 with 2 Axes>"
      ]
     },
     "metadata": {},
     "output_type": "display_data"
    },
    {
     "data": {
      "image/png": "[encoded data removed]",
      "text/plain": [
       "<Figure size 2000x500 with 4 Axes>"
      ]
     },
     "metadata": {},
     "output_type": "display_data"
    },
    {
     "name": "stdout",
     "output_type": "stream",
     "text": [
      "\n",
      "⏰ DenseNet-121 Final Timing Summary:\n",
      "│ Total Training: 1442.13s\n",
      "│ Average per Epoch: 28.84s\n",
      "│ Testing Time: 6.49s\n",
      "│ Total Runtime: 1448.61s\n",
      "\n",
      "💾 DenseNet-121 Files saved:\n",
      "│ best_densenet121_model.pth - Best validation accuracy model\n",
      "│ densenet121_training_history.csv - Training metrics for later plotting\n"
     ]
    }
   ],
   "source": [
    "# -----------------------------\n",
    "# 4. Training Loop with Best Model Saving (Val Accuracy) - DenseNet-121\n",
    "# -----------------------------\n",
    "import pandas as pd\n",
    "from tqdm import tqdm\n",
    "import time\n",
    "\n",
    "train_losses, val_losses = [], []\n",
    "train_accs, val_accs = [], []\n",
    "epoch_times = []\n",
    "epochs = 50\n",
    "\n",
    "# Initialize best model tracking - CHANGED TO VAL_ACC\n",
    "best_val_acc = 0.0  # Changed from best_val_loss = float('inf')\n",
    "best_model_state = None\n",
    "best_epoch = 0\n",
    "\n",
    "print(f\"\\n🚀 Starting DenseNet-121 Training for {epochs} epochs...\")\n",
    "print(\"=\" * 80)\n",
    "total_start_time = time.time()\n",
    "\n",
    "for epoch in range(epochs):\n",
    "    epoch_start_time = time.time()\n",
    "    \n",
    "    print(f\"\\n📈 Epoch {epoch+1}/{epochs}\")\n",
    "    print(\"-\" * 50)\n",
    "    \n",
    "    # Training Phase\n",
    "    print(\"🔄 Training Phase...\")\n",
    "    model.train()\n",
    "    running_loss, correct, total = 0, 0, 0\n",
    "    \n",
    "    train_pbar = tqdm(train_loader, desc=f\"Training\", \n",
    "                     bar_format='{l_bar}{bar:30}{r_bar}{bar:-30b}')\n",
    "    \n",
    "    train_phase_start = time.time()\n",
    "    \n",
    "    for batch_idx, (imgs, labels) in enumerate(train_pbar):\n",
    "        imgs, labels = imgs.to(device), labels.to(device)\n",
    "        \n",
    "        optimizer.zero_grad()\n",
    "        outputs = model(imgs)\n",
    "        loss = criterion(outputs, labels)\n",
    "        loss.backward()\n",
    "        optimizer.step()\n",
    "        \n",
    "        running_loss += loss.item()\n",
    "        _, preds = torch.max(outputs, 1)\n",
    "        correct += (preds == labels).sum().item()\n",
    "        total += labels.size(0)\n",
    "        \n",
    "        current_acc = correct / total\n",
    "        train_pbar.set_postfix({\n",
    "            'Loss': f'{running_loss/(batch_idx+1):.4f}',\n",
    "            'Acc': f'{current_acc:.4f}'\n",
    "        })\n",
    "        \n",
    "        if device.type == 'cuda' and batch_idx % 10 == 0:\n",
    "            gpu_memory = torch.cuda.memory_allocated() / 1024**3\n",
    "            train_pbar.set_postfix({\n",
    "                'Loss': f'{running_loss/(batch_idx+1):.4f}',\n",
    "                'Acc': f'{current_acc:.4f}',\n",
    "                'GPU': f'{gpu_memory:.1f}GB'\n",
    "            })\n",
    "    \n",
    "    train_phase_time = time.time() - train_phase_start\n",
    "    train_loss = running_loss / len(train_loader)\n",
    "    train_acc = correct / total\n",
    "    train_losses.append(train_loss)\n",
    "    train_accs.append(train_acc)\n",
    "    \n",
    "    print(f\"✅ Training completed in {train_phase_time:.2f}s\")\n",
    "    \n",
    "    # Validation Phase\n",
    "    print(\"🔍 Validation Phase...\")\n",
    "    model.eval()\n",
    "    running_loss, correct, total = 0, 0, 0\n",
    "    \n",
    "    val_phase_start = time.time()\n",
    "    val_pbar = tqdm(val_loader, desc=f\"Validation\", \n",
    "                   bar_format='{l_bar}{bar:30}{r_bar}{bar:-30b}')\n",
    "    \n",
    "    with torch.no_grad():\n",
    "        for batch_idx, (imgs, labels) in enumerate(val_pbar):\n",
    "            imgs, labels = imgs.to(device), labels.to(device)\n",
    "            outputs = model(imgs)\n",
    "            loss = criterion(outputs, labels)\n",
    "            \n",
    "            running_loss += loss.item()\n",
    "            _, preds = torch.max(outputs, 1)\n",
    "            correct += (preds == labels).sum().item()\n",
    "            total += labels.size(0)\n",
    "            \n",
    "            current_acc = correct / total\n",
    "            val_pbar.set_postfix({\n",
    "                'Loss': f'{running_loss/(batch_idx+1):.4f}',\n",
    "                'Acc': f'{current_acc:.4f}'\n",
    "            })\n",
    "    \n",
    "    val_phase_time = time.time() - val_phase_start\n",
    "    val_loss = running_loss / len(val_loader)\n",
    "    val_acc = correct / total\n",
    "    val_losses.append(val_loss)\n",
    "    val_accs.append(val_acc)\n",
    "    \n",
    "    print(f\"✅ Validation completed in {val_phase_time:.2f}s\")\n",
    "    \n",
    "    # Check if this is the best model so far based on val_acc - CHANGED\n",
    "    is_best = val_acc > best_val_acc  # Changed from val_loss < best_val_loss\n",
    "    if is_best:\n",
    "        best_val_acc = val_acc\n",
    "        best_epoch = epoch + 1\n",
    "        best_model_state = model.state_dict().copy()\n",
    "        print(f\"🌟 New best DenseNet-121 model found! Validation Accuracy: {val_acc:.4f}\")\n",
    "    \n",
    "    # Epoch Summary\n",
    "    epoch_time = time.time() - epoch_start_time\n",
    "    epoch_times.append(epoch_time)\n",
    "    \n",
    "    print(f\"\\n📊 Epoch {epoch+1} Summary:\")\n",
    "    print(f\"│ Train Loss: {train_loss:.4f} | Train Acc: {train_acc:.4f}\")\n",
    "    print(f\"│ Val Loss:   {val_loss:.4f} | Val Acc:   {val_acc:.4f}\")\n",
    "    print(f\"│ Train Time: {train_phase_time:.2f}s | Val Time: {val_phase_time:.2f}s\")\n",
    "    print(f\"│ Total Epoch Time: {epoch_time:.2f}s\")\n",
    "    print(f\"│ Best Val Acc: {best_val_acc:.4f} (Epoch {best_epoch})\")  # Changed\n",
    "    \n",
    "    if device.type == 'cuda':\n",
    "        print(f\"│ GPU Memory: {torch.cuda.memory_allocated()/1024**3:.1f}GB / {torch.cuda.memory_reserved()/1024**3:.1f}GB\")\n",
    "    \n",
    "    print(\"=\" * 80)\n",
    "\n",
    "total_training_time = time.time() - total_start_time\n",
    "\n",
    "# Save the best model - UPDATED MESSAGES\n",
    "if best_model_state is not None:\n",
    "    torch.save(best_model_state, 'best_densenet121_model.pth')\n",
    "    print(f\"\\n💾 Best DenseNet-121 model saved as 'best_densenet121_model.pth'\")\n",
    "    print(f\"📊 Best model stats:\")\n",
    "    print(f\"│ Best Epoch: {best_epoch}\")\n",
    "    print(f\"│ Best Val Acc: {best_val_acc:.4f}\")  # Changed from best_val_loss\n",
    "\n",
    "# NEW: Save training history data to CSV\n",
    "history_data = {\n",
    "    'epoch': list(range(1, epochs+1)),\n",
    "    'train_loss': train_losses,\n",
    "    'val_loss': val_losses,\n",
    "    'train_acc': train_accs,\n",
    "    'val_acc': val_accs,\n",
    "    'epoch_time': epoch_times\n",
    "}\n",
    "history_df = pd.DataFrame(history_data)\n",
    "history_df.to_csv('densenet121_training_history.csv', index=False)\n",
    "print(\"\\n💾 DenseNet-121 training history saved to 'densenet121_training_history.csv'\")\n",
    "\n",
    "# Training Summary\n",
    "print(f\"\\n🎉 DenseNet-121 Training Complete!\")\n",
    "print(f\"Total Training Time: {total_training_time:.2f}s ({total_training_time/60:.1f} minutes)\")\n",
    "print(f\"Average Epoch Time: {np.mean(epoch_times):.2f}s\")\n",
    "print(\"\\n⏱️  Epoch Timing Breakdown:\")\n",
    "for i, t in enumerate(epoch_times):\n",
    "    print(f\"│ Epoch {i+1}: {t:.2f}s\")\n",
    "\n",
    "# -----------------------------\n",
    "# 5. Load Best Model and Test\n",
    "# -----------------------------\n",
    "print(f\"\\n🧪 Loading Best DenseNet-121 Model for Testing...\")\n",
    "# Load the best model state\n",
    "if best_model_state is not None:\n",
    "    model.load_state_dict(best_model_state)\n",
    "    print(f\"✅ Best DenseNet-121 model from epoch {best_epoch} loaded successfully!\")\n",
    "else:\n",
    "    print(\"⚠️  No best model found, using current model state\")\n",
    "\n",
    "test_start_time = time.time()\n",
    "y_true, y_pred = [], []\n",
    "model.eval()\n",
    "\n",
    "test_pbar = tqdm(test_loader, desc=\"Testing DenseNet-121\", \n",
    "                bar_format='{l_bar}{bar:30}{r_bar}{bar:-30b}')\n",
    "\n",
    "with torch.no_grad():\n",
    "    for imgs, labels in test_pbar:\n",
    "        imgs, labels = imgs.to(device), labels.to(device)\n",
    "        outputs = model(imgs)\n",
    "        _, preds = torch.max(outputs, 1)\n",
    "        y_true.extend(labels.cpu().numpy())\n",
    "        y_pred.extend(preds.cpu().numpy())\n",
    "\n",
    "test_time = time.time() - test_start_time\n",
    "test_accuracy = accuracy_score(y_true, y_pred)\n",
    "\n",
    "print(f\"✅ DenseNet-121 Testing completed in {test_time:.2f}s\")\n",
    "print(\"\\n📋 DenseNet-121 Classification Report:\")\n",
    "print(classification_report(y_true, y_pred, target_names=classes))\n",
    "print(f\"🎯 DenseNet-121 Test Accuracy: {test_accuracy:.4f}\")\n",
    "\n",
    "# Model Performance Summary - UPDATED\n",
    "print(f\"\\n📊 DenseNet-121 Model Performance Summary:\")\n",
    "print(f\"│ Best Validation Acc:  {best_val_acc:.4f} (Epoch {best_epoch})\")  # Changed\n",
    "print(f\"│ Final Test Accuracy:  {test_accuracy:.4f}\")\n",
    "print(f\"│ Val-Test Gap:         {abs(best_val_acc - test_accuracy):.4f}\")\n",
    "\n",
    "# Confusion Matrix\n",
    "cm = confusion_matrix(y_true, y_pred)\n",
    "plt.figure(figsize=(8, 6))\n",
    "sns.heatmap(cm, annot=True, fmt=\"d\", cmap=\"Greens\", xticklabels=classes, yticklabels=classes)\n",
    "plt.xlabel(\"Predicted\")\n",
    "plt.ylabel(\"True\")\n",
    "plt.title(f\"DenseNet-121 Confusion Matrix - Best Model (Epoch {best_epoch})\")\n",
    "plt.show()\n",
    "\n",
    "# -----------------------------\n",
    "# 6. Enhanced Visualizations - UPDATED\n",
    "# -----------------------------\n",
    "plt.figure(figsize=(20, 5))\n",
    "\n",
    "# Loss Plot\n",
    "plt.subplot(1, 4, 1)\n",
    "plt.plot(range(1, epochs+1), train_losses, 'b-', label=\"Train Loss\", marker='o', linewidth=2)\n",
    "plt.plot(range(1, epochs+1), val_losses, 'r-', label=\"Val Loss\", marker='s', linewidth=2)\n",
    "plt.axvline(x=best_epoch, color='green', linestyle='--', alpha=0.7, label=f'Best (Epoch {best_epoch})')\n",
    "plt.legend()\n",
    "plt.title(\"DenseNet-121 Loss over Epochs\")\n",
    "plt.xlabel(\"Epoch\")\n",
    "plt.ylabel(\"Loss\")\n",
    "plt.grid(True, alpha=0.3)\n",
    "\n",
    "# Accuracy Plot - UPDATED\n",
    "plt.subplot(1, 4, 2)\n",
    "plt.plot(range(1, epochs+1), train_accs, 'b-', label=\"Train Accuracy\", marker='o', linewidth=2)\n",
    "plt.plot(range(1, epochs+1), val_accs, 'r-', label=\"Val Accuracy\", marker='s', linewidth=2)\n",
    "plt.axvline(x=best_epoch, color='green', linestyle='--', alpha=0.7, label=f'Best (Epoch {best_epoch})')\n",
    "plt.scatter([best_epoch], [best_val_acc], color='green', s=100, zorder=5)  # Changed to best_val_acc\n",
    "plt.legend()\n",
    "plt.title(\"DenseNet-121 Accuracy over Epochs\")\n",
    "plt.xlabel(\"Epoch\")\n",
    "plt.ylabel(\"Accuracy\")\n",
    "plt.grid(True, alpha=0.3)\n",
    "\n",
    "# Timing Plot\n",
    "plt.subplot(1, 4, 3)\n",
    "bars = plt.bar(range(1, epochs+1), epoch_times, color='lightgreen', alpha=0.7)\n",
    "bars[best_epoch-1].set_color('green')\n",
    "plt.title(\"DenseNet-121 Training Time per Epoch\")\n",
    "plt.xlabel(\"Epoch\")\n",
    "plt.ylabel(\"Time (seconds)\")\n",
    "plt.grid(True, alpha=0.3)\n",
    "for i, t in enumerate(epoch_times):\n",
    "    plt.text(i+1, t+0.5, f'{t:.1f}s', ha='center', va='bottom')\n",
    "\n",
    "# Performance Comparison\n",
    "plt.subplot(1, 4, 4)\n",
    "metrics = ['Best Val Acc', 'Test Acc']\n",
    "values = [best_val_acc, test_accuracy]\n",
    "colors = ['lightgreen', 'green']\n",
    "bars = plt.bar(metrics, values, color=colors, alpha=0.7)\n",
    "plt.title(\"DenseNet-121 Final Model Performance\")\n",
    "plt.ylabel(\"Accuracy\")\n",
    "plt.ylim(0, 1)\n",
    "plt.grid(True, alpha=0.3)\n",
    "for bar, val in zip(bars, values):\n",
    "    plt.text(bar.get_x() + bar.get_width()/2, val + 0.01, \n",
    "             f'{val:.4f}', ha='center', va='bottom')\n",
    "\n",
    "plt.tight_layout()\n",
    "plt.show()\n",
    "\n",
    "print(f\"\\n⏰ DenseNet-121 Final Timing Summary:\")\n",
    "print(f\"│ Total Training: {total_training_time:.2f}s\")\n",
    "print(f\"│ Average per Epoch: {np.mean(epoch_times):.2f}s\")\n",
    "print(f\"│ Testing Time: {test_time:.2f}s\")\n",
    "print(f\"│ Total Runtime: {total_training_time + test_time:.2f}s\")\n",
    "\n",
    "print(f\"\\n💾 DenseNet-121 Files saved:\")\n",
    "print(f\"│ best_densenet121_model.pth - Best validation accuracy model\")\n",
    "print(f\"│ densenet121_training_history.csv - Training metrics for later plotting\")"
   ]
  },
  {
   "cell_type": "code",
   "execution_count": 9,
   "id": "00ddb71a",
   "metadata": {
    "execution": {
     "iopub.execute_input": "2025-09-08T10:32:48.819357Z",
     "iopub.status.busy": "2025-09-08T10:32:48.819055Z",
     "iopub.status.idle": "2025-09-08T10:32:48.858141Z",
     "shell.execute_reply": "2025-09-08T10:32:48.857366Z"
    },
    "papermill": {
     "duration": 0.314797,
     "end_time": "2025-09-08T10:32:48.859535",
     "exception": false,
     "start_time": "2025-09-08T10:32:48.544738",
     "status": "completed"
    },
    "tags": []
   },
   "outputs": [
    {
     "data": {
      "text/html": [
       "<div>\n",
       "<style scoped>\n",
       "    .dataframe tbody tr th:only-of-type {\n",
       "        vertical-align: middle;\n",
       "    }\n",
       "\n",
       "    .dataframe tbody tr th {\n",
       "        vertical-align: top;\n",
       "    }\n",
       "\n",
       "    .dataframe thead th {\n",
       "        text-align: right;\n",
       "    }\n",
       "</style>\n",
       "<table border=\"1\" class=\"dataframe\">\n",
       "  <thead>\n",
       "    <tr style=\"text-align: right;\">\n",
       "      <th></th>\n",
       "      <th>epoch</th>\n",
       "      <th>train_loss</th>\n",
       "      <th>val_loss</th>\n",
       "      <th>train_acc</th>\n",
       "      <th>val_acc</th>\n",
       "      <th>epoch_time</th>\n",
       "    </tr>\n",
       "  </thead>\n",
       "  <tbody>\n",
       "    <tr>\n",
       "      <th>0</th>\n",
       "      <td>1</td>\n",
       "      <td>1.560222</td>\n",
       "      <td>1.814160</td>\n",
       "      <td>0.363932</td>\n",
       "      <td>0.336538</td>\n",
       "      <td>36.138387</td>\n",
       "    </tr>\n",
       "    <tr>\n",
       "      <th>1</th>\n",
       "      <td>2</td>\n",
       "      <td>1.408877</td>\n",
       "      <td>1.647199</td>\n",
       "      <td>0.419922</td>\n",
       "      <td>0.367788</td>\n",
       "      <td>28.178643</td>\n",
       "    </tr>\n",
       "    <tr>\n",
       "      <th>2</th>\n",
       "      <td>3</td>\n",
       "      <td>1.258419</td>\n",
       "      <td>1.811282</td>\n",
       "      <td>0.505208</td>\n",
       "      <td>0.365385</td>\n",
       "      <td>28.284655</td>\n",
       "    </tr>\n",
       "    <tr>\n",
       "      <th>3</th>\n",
       "      <td>4</td>\n",
       "      <td>1.149581</td>\n",
       "      <td>2.148065</td>\n",
       "      <td>0.546875</td>\n",
       "      <td>0.326923</td>\n",
       "      <td>28.478535</td>\n",
       "    </tr>\n",
       "    <tr>\n",
       "      <th>4</th>\n",
       "      <td>5</td>\n",
       "      <td>0.891296</td>\n",
       "      <td>2.288893</td>\n",
       "      <td>0.662760</td>\n",
       "      <td>0.367788</td>\n",
       "      <td>28.421212</td>\n",
       "    </tr>\n",
       "    <tr>\n",
       "      <th>5</th>\n",
       "      <td>6</td>\n",
       "      <td>0.801597</td>\n",
       "      <td>2.472557</td>\n",
       "      <td>0.706380</td>\n",
       "      <td>0.391827</td>\n",
       "      <td>28.495896</td>\n",
       "    </tr>\n",
       "    <tr>\n",
       "      <th>6</th>\n",
       "      <td>7</td>\n",
       "      <td>0.690367</td>\n",
       "      <td>1.810679</td>\n",
       "      <td>0.746094</td>\n",
       "      <td>0.413462</td>\n",
       "      <td>28.510274</td>\n",
       "    </tr>\n",
       "    <tr>\n",
       "      <th>7</th>\n",
       "      <td>8</td>\n",
       "      <td>0.439597</td>\n",
       "      <td>1.979546</td>\n",
       "      <td>0.841146</td>\n",
       "      <td>0.536058</td>\n",
       "      <td>28.678919</td>\n",
       "    </tr>\n",
       "    <tr>\n",
       "      <th>8</th>\n",
       "      <td>9</td>\n",
       "      <td>0.342839</td>\n",
       "      <td>1.781757</td>\n",
       "      <td>0.884766</td>\n",
       "      <td>0.497596</td>\n",
       "      <td>28.530587</td>\n",
       "    </tr>\n",
       "    <tr>\n",
       "      <th>9</th>\n",
       "      <td>10</td>\n",
       "      <td>0.290925</td>\n",
       "      <td>1.857198</td>\n",
       "      <td>0.889323</td>\n",
       "      <td>0.487981</td>\n",
       "      <td>28.535145</td>\n",
       "    </tr>\n",
       "    <tr>\n",
       "      <th>10</th>\n",
       "      <td>11</td>\n",
       "      <td>0.241307</td>\n",
       "      <td>2.546364</td>\n",
       "      <td>0.916667</td>\n",
       "      <td>0.447115</td>\n",
       "      <td>28.758665</td>\n",
       "    </tr>\n",
       "    <tr>\n",
       "      <th>11</th>\n",
       "      <td>12</td>\n",
       "      <td>0.205296</td>\n",
       "      <td>2.702779</td>\n",
       "      <td>0.930990</td>\n",
       "      <td>0.439904</td>\n",
       "      <td>28.542027</td>\n",
       "    </tr>\n",
       "    <tr>\n",
       "      <th>12</th>\n",
       "      <td>13</td>\n",
       "      <td>0.150021</td>\n",
       "      <td>2.636552</td>\n",
       "      <td>0.958333</td>\n",
       "      <td>0.471154</td>\n",
       "      <td>28.865437</td>\n",
       "    </tr>\n",
       "    <tr>\n",
       "      <th>13</th>\n",
       "      <td>14</td>\n",
       "      <td>0.146436</td>\n",
       "      <td>2.189982</td>\n",
       "      <td>0.951172</td>\n",
       "      <td>0.521635</td>\n",
       "      <td>28.843185</td>\n",
       "    </tr>\n",
       "    <tr>\n",
       "      <th>14</th>\n",
       "      <td>15</td>\n",
       "      <td>0.105004</td>\n",
       "      <td>2.664455</td>\n",
       "      <td>0.962891</td>\n",
       "      <td>0.497596</td>\n",
       "      <td>28.772031</td>\n",
       "    </tr>\n",
       "    <tr>\n",
       "      <th>15</th>\n",
       "      <td>16</td>\n",
       "      <td>0.124822</td>\n",
       "      <td>2.027959</td>\n",
       "      <td>0.952474</td>\n",
       "      <td>0.552885</td>\n",
       "      <td>28.951166</td>\n",
       "    </tr>\n",
       "    <tr>\n",
       "      <th>16</th>\n",
       "      <td>17</td>\n",
       "      <td>0.107380</td>\n",
       "      <td>2.279480</td>\n",
       "      <td>0.960286</td>\n",
       "      <td>0.521635</td>\n",
       "      <td>28.794819</td>\n",
       "    </tr>\n",
       "    <tr>\n",
       "      <th>17</th>\n",
       "      <td>18</td>\n",
       "      <td>0.116121</td>\n",
       "      <td>2.548444</td>\n",
       "      <td>0.963542</td>\n",
       "      <td>0.492788</td>\n",
       "      <td>28.672960</td>\n",
       "    </tr>\n",
       "    <tr>\n",
       "      <th>18</th>\n",
       "      <td>19</td>\n",
       "      <td>0.072571</td>\n",
       "      <td>2.527887</td>\n",
       "      <td>0.977214</td>\n",
       "      <td>0.531250</td>\n",
       "      <td>28.652590</td>\n",
       "    </tr>\n",
       "    <tr>\n",
       "      <th>19</th>\n",
       "      <td>20</td>\n",
       "      <td>0.059077</td>\n",
       "      <td>2.081132</td>\n",
       "      <td>0.981771</td>\n",
       "      <td>0.644231</td>\n",
       "      <td>28.538414</td>\n",
       "    </tr>\n",
       "    <tr>\n",
       "      <th>20</th>\n",
       "      <td>21</td>\n",
       "      <td>0.042903</td>\n",
       "      <td>2.245417</td>\n",
       "      <td>0.988932</td>\n",
       "      <td>0.560096</td>\n",
       "      <td>28.807219</td>\n",
       "    </tr>\n",
       "    <tr>\n",
       "      <th>21</th>\n",
       "      <td>22</td>\n",
       "      <td>0.035378</td>\n",
       "      <td>2.215911</td>\n",
       "      <td>0.986979</td>\n",
       "      <td>0.528846</td>\n",
       "      <td>28.712984</td>\n",
       "    </tr>\n",
       "    <tr>\n",
       "      <th>22</th>\n",
       "      <td>23</td>\n",
       "      <td>0.045145</td>\n",
       "      <td>2.525809</td>\n",
       "      <td>0.981120</td>\n",
       "      <td>0.576923</td>\n",
       "      <td>28.741095</td>\n",
       "    </tr>\n",
       "    <tr>\n",
       "      <th>23</th>\n",
       "      <td>24</td>\n",
       "      <td>0.077740</td>\n",
       "      <td>2.478214</td>\n",
       "      <td>0.977214</td>\n",
       "      <td>0.483173</td>\n",
       "      <td>28.667569</td>\n",
       "    </tr>\n",
       "    <tr>\n",
       "      <th>24</th>\n",
       "      <td>25</td>\n",
       "      <td>0.064874</td>\n",
       "      <td>2.329286</td>\n",
       "      <td>0.975911</td>\n",
       "      <td>0.567308</td>\n",
       "      <td>28.795386</td>\n",
       "    </tr>\n",
       "    <tr>\n",
       "      <th>25</th>\n",
       "      <td>26</td>\n",
       "      <td>0.071018</td>\n",
       "      <td>2.097862</td>\n",
       "      <td>0.977865</td>\n",
       "      <td>0.555288</td>\n",
       "      <td>28.701575</td>\n",
       "    </tr>\n",
       "    <tr>\n",
       "      <th>26</th>\n",
       "      <td>27</td>\n",
       "      <td>0.055931</td>\n",
       "      <td>1.990046</td>\n",
       "      <td>0.977865</td>\n",
       "      <td>0.627404</td>\n",
       "      <td>28.877731</td>\n",
       "    </tr>\n",
       "    <tr>\n",
       "      <th>27</th>\n",
       "      <td>28</td>\n",
       "      <td>0.018172</td>\n",
       "      <td>2.007748</td>\n",
       "      <td>0.994792</td>\n",
       "      <td>0.605769</td>\n",
       "      <td>28.945233</td>\n",
       "    </tr>\n",
       "    <tr>\n",
       "      <th>28</th>\n",
       "      <td>29</td>\n",
       "      <td>0.026629</td>\n",
       "      <td>2.445849</td>\n",
       "      <td>0.989583</td>\n",
       "      <td>0.588942</td>\n",
       "      <td>28.951592</td>\n",
       "    </tr>\n",
       "    <tr>\n",
       "      <th>29</th>\n",
       "      <td>30</td>\n",
       "      <td>0.052587</td>\n",
       "      <td>2.654974</td>\n",
       "      <td>0.984375</td>\n",
       "      <td>0.540865</td>\n",
       "      <td>28.873700</td>\n",
       "    </tr>\n",
       "    <tr>\n",
       "      <th>30</th>\n",
       "      <td>31</td>\n",
       "      <td>0.071341</td>\n",
       "      <td>2.871363</td>\n",
       "      <td>0.975911</td>\n",
       "      <td>0.540865</td>\n",
       "      <td>28.881111</td>\n",
       "    </tr>\n",
       "    <tr>\n",
       "      <th>31</th>\n",
       "      <td>32</td>\n",
       "      <td>0.032062</td>\n",
       "      <td>2.425299</td>\n",
       "      <td>0.987630</td>\n",
       "      <td>0.596154</td>\n",
       "      <td>28.878343</td>\n",
       "    </tr>\n",
       "    <tr>\n",
       "      <th>32</th>\n",
       "      <td>33</td>\n",
       "      <td>0.040156</td>\n",
       "      <td>3.207576</td>\n",
       "      <td>0.988281</td>\n",
       "      <td>0.478365</td>\n",
       "      <td>28.599633</td>\n",
       "    </tr>\n",
       "    <tr>\n",
       "      <th>33</th>\n",
       "      <td>34</td>\n",
       "      <td>0.036063</td>\n",
       "      <td>2.511347</td>\n",
       "      <td>0.983073</td>\n",
       "      <td>0.586538</td>\n",
       "      <td>28.818791</td>\n",
       "    </tr>\n",
       "    <tr>\n",
       "      <th>34</th>\n",
       "      <td>35</td>\n",
       "      <td>0.043738</td>\n",
       "      <td>2.668652</td>\n",
       "      <td>0.986328</td>\n",
       "      <td>0.521635</td>\n",
       "      <td>28.647960</td>\n",
       "    </tr>\n",
       "    <tr>\n",
       "      <th>35</th>\n",
       "      <td>36</td>\n",
       "      <td>0.079575</td>\n",
       "      <td>2.793093</td>\n",
       "      <td>0.972656</td>\n",
       "      <td>0.545673</td>\n",
       "      <td>28.610101</td>\n",
       "    </tr>\n",
       "    <tr>\n",
       "      <th>36</th>\n",
       "      <td>37</td>\n",
       "      <td>0.043567</td>\n",
       "      <td>2.652236</td>\n",
       "      <td>0.983073</td>\n",
       "      <td>0.521635</td>\n",
       "      <td>28.826868</td>\n",
       "    </tr>\n",
       "    <tr>\n",
       "      <th>37</th>\n",
       "      <td>38</td>\n",
       "      <td>0.034193</td>\n",
       "      <td>2.433584</td>\n",
       "      <td>0.988932</td>\n",
       "      <td>0.637019</td>\n",
       "      <td>28.935614</td>\n",
       "    </tr>\n",
       "    <tr>\n",
       "      <th>38</th>\n",
       "      <td>39</td>\n",
       "      <td>0.044459</td>\n",
       "      <td>2.118089</td>\n",
       "      <td>0.985026</td>\n",
       "      <td>0.591346</td>\n",
       "      <td>28.711932</td>\n",
       "    </tr>\n",
       "    <tr>\n",
       "      <th>39</th>\n",
       "      <td>40</td>\n",
       "      <td>0.018966</td>\n",
       "      <td>2.980037</td>\n",
       "      <td>0.992188</td>\n",
       "      <td>0.600962</td>\n",
       "      <td>28.669633</td>\n",
       "    </tr>\n",
       "    <tr>\n",
       "      <th>40</th>\n",
       "      <td>41</td>\n",
       "      <td>0.023995</td>\n",
       "      <td>2.812467</td>\n",
       "      <td>0.993490</td>\n",
       "      <td>0.596154</td>\n",
       "      <td>28.672282</td>\n",
       "    </tr>\n",
       "    <tr>\n",
       "      <th>41</th>\n",
       "      <td>42</td>\n",
       "      <td>0.050545</td>\n",
       "      <td>3.006866</td>\n",
       "      <td>0.985026</td>\n",
       "      <td>0.579327</td>\n",
       "      <td>28.576792</td>\n",
       "    </tr>\n",
       "    <tr>\n",
       "      <th>42</th>\n",
       "      <td>43</td>\n",
       "      <td>0.016646</td>\n",
       "      <td>2.047632</td>\n",
       "      <td>0.994792</td>\n",
       "      <td>0.557692</td>\n",
       "      <td>28.603833</td>\n",
       "    </tr>\n",
       "    <tr>\n",
       "      <th>43</th>\n",
       "      <td>44</td>\n",
       "      <td>0.004060</td>\n",
       "      <td>2.340087</td>\n",
       "      <td>0.999349</td>\n",
       "      <td>0.615385</td>\n",
       "      <td>28.642910</td>\n",
       "    </tr>\n",
       "    <tr>\n",
       "      <th>44</th>\n",
       "      <td>45</td>\n",
       "      <td>0.002432</td>\n",
       "      <td>2.587537</td>\n",
       "      <td>0.999349</td>\n",
       "      <td>0.620192</td>\n",
       "      <td>28.635327</td>\n",
       "    </tr>\n",
       "    <tr>\n",
       "      <th>45</th>\n",
       "      <td>46</td>\n",
       "      <td>0.001737</td>\n",
       "      <td>2.138069</td>\n",
       "      <td>1.000000</td>\n",
       "      <td>0.646635</td>\n",
       "      <td>28.687279</td>\n",
       "    </tr>\n",
       "    <tr>\n",
       "      <th>46</th>\n",
       "      <td>47</td>\n",
       "      <td>0.000954</td>\n",
       "      <td>2.130774</td>\n",
       "      <td>1.000000</td>\n",
       "      <td>0.641827</td>\n",
       "      <td>28.946336</td>\n",
       "    </tr>\n",
       "    <tr>\n",
       "      <th>47</th>\n",
       "      <td>48</td>\n",
       "      <td>0.001479</td>\n",
       "      <td>2.450817</td>\n",
       "      <td>1.000000</td>\n",
       "      <td>0.615385</td>\n",
       "      <td>28.718116</td>\n",
       "    </tr>\n",
       "    <tr>\n",
       "      <th>48</th>\n",
       "      <td>49</td>\n",
       "      <td>0.001134</td>\n",
       "      <td>2.350987</td>\n",
       "      <td>1.000000</td>\n",
       "      <td>0.617788</td>\n",
       "      <td>28.634657</td>\n",
       "    </tr>\n",
       "    <tr>\n",
       "      <th>49</th>\n",
       "      <td>50</td>\n",
       "      <td>0.000534</td>\n",
       "      <td>2.464956</td>\n",
       "      <td>1.000000</td>\n",
       "      <td>0.610577</td>\n",
       "      <td>28.684295</td>\n",
       "    </tr>\n",
       "  </tbody>\n",
       "</table>\n",
       "</div>"
      ],
      "text/plain": [
       "    epoch  train_loss  val_loss  train_acc   val_acc  epoch_time\n",
       "0       1    1.560222  1.814160   0.363932  0.336538   36.138387\n",
       "1       2    1.408877  1.647199   0.419922  0.367788   28.178643\n",
       "2       3    1.258419  1.811282   0.505208  0.365385   28.284655\n",
       "3       4    1.149581  2.148065   0.546875  0.326923   28.478535\n",
       "4       5    0.891296  2.288893   0.662760  0.367788   28.421212\n",
       "5       6    0.801597  2.472557   0.706380  0.391827   28.495896\n",
       "6       7    0.690367  1.810679   0.746094  0.413462   28.510274\n",
       "7       8    0.439597  1.979546   0.841146  0.536058   28.678919\n",
       "8       9    0.342839  1.781757   0.884766  0.497596   28.530587\n",
       "9      10    0.290925  1.857198   0.889323  0.487981   28.535145\n",
       "10     11    0.241307  2.546364   0.916667  0.447115   28.758665\n",
       "11     12    0.205296  2.702779   0.930990  0.439904   28.542027\n",
       "12     13    0.150021  2.636552   0.958333  0.471154   28.865437\n",
       "13     14    0.146436  2.189982   0.951172  0.521635   28.843185\n",
       "14     15    0.105004  2.664455   0.962891  0.497596   28.772031\n",
       "15     16    0.124822  2.027959   0.952474  0.552885   28.951166\n",
       "16     17    0.107380  2.279480   0.960286  0.521635   28.794819\n",
       "17     18    0.116121  2.548444   0.963542  0.492788   28.672960\n",
       "18     19    0.072571  2.527887   0.977214  0.531250   28.652590\n",
       "19     20    0.059077  2.081132   0.981771  0.644231   28.538414\n",
       "20     21    0.042903  2.245417   0.988932  0.560096   28.807219\n",
       "21     22    0.035378  2.215911   0.986979  0.528846   28.712984\n",
       "22     23    0.045145  2.525809   0.981120  0.576923   28.741095\n",
       "23     24    0.077740  2.478214   0.977214  0.483173   28.667569\n",
       "24     25    0.064874  2.329286   0.975911  0.567308   28.795386\n",
       "25     26    0.071018  2.097862   0.977865  0.555288   28.701575\n",
       "26     27    0.055931  1.990046   0.977865  0.627404   28.877731\n",
       "27     28    0.018172  2.007748   0.994792  0.605769   28.945233\n",
       "28     29    0.026629  2.445849   0.989583  0.588942   28.951592\n",
       "29     30    0.052587  2.654974   0.984375  0.540865   28.873700\n",
       "30     31    0.071341  2.871363   0.975911  0.540865   28.881111\n",
       "31     32    0.032062  2.425299   0.987630  0.596154   28.878343\n",
       "32     33    0.040156  3.207576   0.988281  0.478365   28.599633\n",
       "33     34    0.036063  2.511347   0.983073  0.586538   28.818791\n",
       "34     35    0.043738  2.668652   0.986328  0.521635   28.647960\n",
       "35     36    0.079575  2.793093   0.972656  0.545673   28.610101\n",
       "36     37    0.043567  2.652236   0.983073  0.521635   28.826868\n",
       "37     38    0.034193  2.433584   0.988932  0.637019   28.935614\n",
       "38     39    0.044459  2.118089   0.985026  0.591346   28.711932\n",
       "39     40    0.018966  2.980037   0.992188  0.600962   28.669633\n",
       "40     41    0.023995  2.812467   0.993490  0.596154   28.672282\n",
       "41     42    0.050545  3.006866   0.985026  0.579327   28.576792\n",
       "42     43    0.016646  2.047632   0.994792  0.557692   28.603833\n",
       "43     44    0.004060  2.340087   0.999349  0.615385   28.642910\n",
       "44     45    0.002432  2.587537   0.999349  0.620192   28.635327\n",
       "45     46    0.001737  2.138069   1.000000  0.646635   28.687279\n",
       "46     47    0.000954  2.130774   1.000000  0.641827   28.946336\n",
       "47     48    0.001479  2.450817   1.000000  0.615385   28.718116\n",
       "48     49    0.001134  2.350987   1.000000  0.617788   28.634657\n",
       "49     50    0.000534  2.464956   1.000000  0.610577   28.684295"
      ]
     },
     "execution_count": 9,
     "metadata": {},
     "output_type": "execute_result"
    }
   ],
   "source": [
    "import pandas as pd\n",
    "df=pd.read_csv(\"/kaggle/working/densenet121_training_history.csv\")\n",
    "df"
   ]
  }
 ],
 "metadata": {
  "kaggle": {
   "accelerator": "nvidiaTeslaT4",
   "dataSources": [
    {
     "datasetId": 7735666,
     "sourceId": 12275446,
     "sourceType": "datasetVersion"
    }
   ],
   "dockerImageVersionId": 31090,
   "isGpuEnabled": true,
   "isInternetEnabled": true,
   "language": "python",
   "sourceType": "notebook"
  },
  "kernelspec": {
   "display_name": "Python 3",
   "language": "python",
   "name": "python3"
  },
  "language_info": {
   "codemirror_mode": {
    "name": "ipython",
    "version": 3
   },
   "file_extension": ".py",
   "mimetype": "text/x-python",
   "name": "python",
   "nbconvert_exporter": "python",
   "pygments_lexer": "ipython3",
   "version": "3.11.13"
  },
  "papermill": {
   "default_parameters": {},
   "duration": 1474.117613,
   "end_time": "2025-09-08T10:32:52.212161",
   "environment_variables": {},
   "exception": null,
   "input_path": "__notebook__.ipynb",
   "output_path": "__notebook__.ipynb",
   "parameters": {},
   "start_time": "2025-09-08T10:08:18.094548",
   "version": "2.6.0"
  }
 },
 "nbformat": 4,
 "nbformat_minor": 5
}
