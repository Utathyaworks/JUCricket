{
 "cells": [
  {
   "cell_type": "code",
   "execution_count": 1,
   "id": "255884e7",
   "metadata": {
    "execution": {
     "iopub.execute_input": "2025-09-08T14:44:03.437804Z",
     "iopub.status.busy": "2025-09-08T14:44:03.437170Z",
     "iopub.status.idle": "2025-09-08T14:44:17.550686Z",
     "shell.execute_reply": "2025-09-08T14:44:17.549829Z"
    },
    "papermill": {
     "duration": 14.118497,
     "end_time": "2025-09-08T14:44:17.551959",
     "exception": false,
     "start_time": "2025-09-08T14:44:03.433462",
     "status": "completed"
    },
    "tags": []
   },
   "outputs": [
    {
     "name": "stdout",
     "output_type": "stream",
     "text": [
      "Classes: ['Four', 'Leg_Bye', 'No_ball', 'Out', 'Six', 'Wide']\n"
     ]
    }
   ],
   "source": [
    "import torch\n",
    "import torch.nn as nn\n",
    "import torch.nn.functional as F\n",
    "from torch.utils.data import DataLoader\n",
    "from torchvision import datasets, transforms\n",
    "from torchsummary import summary\n",
    "import matplotlib.pyplot as plt\n",
    "from sklearn.metrics import classification_report, confusion_matrix, accuracy_score\n",
    "import seaborn as sns\n",
    "import numpy as np\n",
    "\n",
    "# -----------------------------\n",
    "# 1. Data Preprocessing\n",
    "# -----------------------------\n",
    "data_dir = \"/kaggle/input/ju-cricket/Cricket_Dataset_final/Task_B\"\n",
    "\n",
    "transform = transforms.Compose([\n",
    "    transforms.Resize((224, 224)),\n",
    "    transforms.ToTensor(),\n",
    "    transforms.Normalize([0.485, 0.456, 0.406], \n",
    "                         [0.229, 0.224, 0.225])\n",
    "])\n",
    "\n",
    "train_ds = datasets.ImageFolder(f\"{data_dir}/train/Umpire\", transform=transform)\n",
    "val_ds   = datasets.ImageFolder(f\"{data_dir}/val/Umpire\", transform=transform)\n",
    "test_ds  = datasets.ImageFolder(f\"{data_dir}/test/Umpire\", transform=transform)\n",
    "\n",
    "train_loader = DataLoader(train_ds, batch_size=32, shuffle=True)\n",
    "val_loader   = DataLoader(val_ds, batch_size=32, shuffle=False)\n",
    "test_loader  = DataLoader(test_ds, batch_size=32, shuffle=False)\n",
    "\n",
    "classes = train_ds.classes\n",
    "print(\"Classes:\", classes)"
   ]
  },
  {
   "cell_type": "code",
   "execution_count": 2,
   "id": "4943795f",
   "metadata": {
    "execution": {
     "iopub.execute_input": "2025-09-08T14:44:17.558374Z",
     "iopub.status.busy": "2025-09-08T14:44:17.558046Z",
     "iopub.status.idle": "2025-09-08T14:44:17.563035Z",
     "shell.execute_reply": "2025-09-08T14:44:17.562137Z"
    },
    "papermill": {
     "duration": 0.009226,
     "end_time": "2025-09-08T14:44:17.564263",
     "exception": false,
     "start_time": "2025-09-08T14:44:17.555037",
     "status": "completed"
    },
    "tags": []
   },
   "outputs": [
    {
     "name": "stdout",
     "output_type": "stream",
     "text": [
      "Total training images: 1728\n",
      "Total validation images: 468\n",
      "Total test images: 585\n",
      "Total images in dataset: 2781\n"
     ]
    }
   ],
   "source": [
    "print(\"Total training images:\", len(train_ds))\n",
    "print(\"Total validation images:\", len(val_ds))\n",
    "print(\"Total test images:\", len(test_ds))\n",
    "\n",
    "total_images = len(train_ds) + len(val_ds) + len(test_ds)\n",
    "print(\"Total images in dataset:\", total_images)\n"
   ]
  },
  {
   "cell_type": "code",
   "execution_count": 3,
   "id": "65ac7a4e",
   "metadata": {
    "execution": {
     "iopub.execute_input": "2025-09-08T14:44:17.570029Z",
     "iopub.status.busy": "2025-09-08T14:44:17.569652Z",
     "iopub.status.idle": "2025-09-08T14:44:17.576764Z",
     "shell.execute_reply": "2025-09-08T14:44:17.576021Z"
    },
    "papermill": {
     "duration": 0.011173,
     "end_time": "2025-09-08T14:44:17.577906",
     "exception": false,
     "start_time": "2025-09-08T14:44:17.566733",
     "status": "completed"
    },
    "tags": []
   },
   "outputs": [
    {
     "name": "stdout",
     "output_type": "stream",
     "text": [
      "Training images (excluding 'random_occlusion'): 1536\n",
      "Validation images (excluding 'random_occlusion'): 416\n",
      "Test images (excluding 'random_occlusion'): 520\n",
      "Total images (excluding 'random_occlusion'): 2472\n"
     ]
    }
   ],
   "source": [
    "ignore_folder = \"random_occlusion\"\n",
    "\n",
    "def count_images_ignore_folder(dataset, ignore_folder):\n",
    "    count = 0\n",
    "    for img_path, label in dataset.samples:\n",
    "        # Skip if the image path contains the ignore_folder\n",
    "        if ignore_folder not in img_path.split(\"/\"):\n",
    "            count += 1\n",
    "    return count\n",
    "\n",
    "train_count = count_images_ignore_folder(train_ds, ignore_folder)\n",
    "val_count   = count_images_ignore_folder(val_ds, ignore_folder)\n",
    "test_count  = count_images_ignore_folder(test_ds, ignore_folder)\n",
    "\n",
    "total_count = train_count + val_count + test_count\n",
    "\n",
    "print(\"Training images (excluding '{}'): {}\".format(ignore_folder, train_count))\n",
    "print(\"Validation images (excluding '{}'): {}\".format(ignore_folder, val_count))\n",
    "print(\"Test images (excluding '{}'): {}\".format(ignore_folder, test_count))\n",
    "print(\"Total images (excluding '{}'): {}\".format(ignore_folder, total_count))\n"
   ]
  },
  {
   "cell_type": "code",
   "execution_count": 4,
   "id": "d5a84eeb",
   "metadata": {
    "execution": {
     "iopub.execute_input": "2025-09-08T14:44:17.583563Z",
     "iopub.status.busy": "2025-09-08T14:44:17.583347Z",
     "iopub.status.idle": "2025-09-08T14:44:17.591273Z",
     "shell.execute_reply": "2025-09-08T14:44:17.590544Z"
    },
    "papermill": {
     "duration": 0.011978,
     "end_time": "2025-09-08T14:44:17.592329",
     "exception": false,
     "start_time": "2025-09-08T14:44:17.580351",
     "status": "completed"
    },
    "tags": []
   },
   "outputs": [
    {
     "name": "stdout",
     "output_type": "stream",
     "text": [
      "Training folders considered: {'original', 'gaussian_noise', 'low_resolution', 'dirty_lens', 'blur', 'random_occlusion', 'chromatic_aberration', 'lens_flare', 'motion_blur'}\n",
      "Validation folders considered: {'original', 'gaussian_noise', 'low_resolution', 'dirty_lens', 'blur', 'random_occlusion', 'chromatic_aberration', 'lens_flare', 'motion_blur'}\n",
      "Test folders considered: {'original', 'gaussian_noise', 'low_resolution', 'dirty_lens', 'blur', 'random_occlusion', 'chromatic_aberration', 'lens_flare', 'motion_blur'}\n"
     ]
    }
   ],
   "source": [
    "ignore_folder = \"random_occlusionw\"\n",
    "\n",
    "def get_included_folders(dataset, ignore_folder):\n",
    "    included = set()\n",
    "    for img_path, label in dataset.samples:\n",
    "        # Split the path into parts and ignore if ignore_folder is in the path\n",
    "        if ignore_folder not in img_path.split(\"/\"):\n",
    "            # The folder name just above the image (or the class folder)\n",
    "            folder_name = img_path.split(\"/\")[-2]\n",
    "            included.add(folder_name)\n",
    "    return included\n",
    "\n",
    "train_folders = get_included_folders(train_ds, ignore_folder)\n",
    "val_folders   = get_included_folders(val_ds, ignore_folder)\n",
    "test_folders  = get_included_folders(test_ds, ignore_folder)\n",
    "\n",
    "print(\"Training folders considered:\", train_folders)\n",
    "print(\"Validation folders considered:\", val_folders)\n",
    "print(\"Test folders considered:\", test_folders)\n"
   ]
  },
  {
   "cell_type": "code",
   "execution_count": 5,
   "id": "80a17d8a",
   "metadata": {
    "execution": {
     "iopub.execute_input": "2025-09-08T14:44:17.597923Z",
     "iopub.status.busy": "2025-09-08T14:44:17.597701Z",
     "iopub.status.idle": "2025-09-08T14:44:17.692099Z",
     "shell.execute_reply": "2025-09-08T14:44:17.691484Z"
    },
    "papermill": {
     "duration": 0.098352,
     "end_time": "2025-09-08T14:44:17.693113",
     "exception": false,
     "start_time": "2025-09-08T14:44:17.594761",
     "status": "completed"
    },
    "tags": []
   },
   "outputs": [
    {
     "name": "stdout",
     "output_type": "stream",
     "text": [
      "Classes: ['Four', 'Leg_Bye', 'No_ball', 'Out', 'Six', 'Wide']\n",
      "Final Training images: 1536\n",
      "Final Validation images: 416\n",
      "Final Test images: 520\n",
      "Total images after filtering: 2472\n"
     ]
    }
   ],
   "source": [
    "ignore_folder = \"random_occlusion\"\n",
    "\n",
    "def filter_samples(dataset, ignore_folder):\n",
    "    # Keep only samples where ignore_folder is NOT in the path\n",
    "    filtered_samples = [s for s in dataset.samples if ignore_folder not in s[0].split(\"/\")]\n",
    "    dataset.samples = filtered_samples\n",
    "    dataset.targets = [s[1] for s in filtered_samples]  # Update targets accordingly\n",
    "    return dataset\n",
    "\n",
    "# Create original datasets\n",
    "train_ds = datasets.ImageFolder(f\"{data_dir}/train/Umpire\", transform=transform)\n",
    "val_ds   = datasets.ImageFolder(f\"{data_dir}/val/Umpire\", transform=transform)\n",
    "test_ds  = datasets.ImageFolder(f\"{data_dir}/test/Umpire\", transform=transform)\n",
    "\n",
    "# Filter out 'random_occlusion' folder\n",
    "train_ds = filter_samples(train_ds, ignore_folder)\n",
    "val_ds   = filter_samples(val_ds, ignore_folder)\n",
    "test_ds  = filter_samples(test_ds, ignore_folder)\n",
    "\n",
    "# DataLoaders\n",
    "train_loader = DataLoader(train_ds, batch_size=32, shuffle=True)\n",
    "val_loader   = DataLoader(val_ds, batch_size=32, shuffle=False)\n",
    "test_loader  = DataLoader(test_ds, batch_size=32, shuffle=False)\n",
    "\n",
    "# Classes (will remain the same)\n",
    "classes = train_ds.classes\n",
    "print(\"Classes:\", classes)\n",
    "\n",
    "# Show counts\n",
    "print(\"Final Training images:\", len(train_ds))\n",
    "print(\"Final Validation images:\", len(val_ds))\n",
    "print(\"Final Test images:\", len(test_ds))\n",
    "print(\"Total images after filtering:\", len(train_ds) + len(val_ds) + len(test_ds))\n"
   ]
  },
  {
   "cell_type": "code",
   "execution_count": 6,
   "id": "f7aaed2e",
   "metadata": {
    "execution": {
     "iopub.execute_input": "2025-09-08T14:44:17.698521Z",
     "iopub.status.busy": "2025-09-08T14:44:17.698350Z",
     "iopub.status.idle": "2025-09-08T14:44:17.705469Z",
     "shell.execute_reply": "2025-09-08T14:44:17.704898Z"
    },
    "papermill": {
     "duration": 0.010935,
     "end_time": "2025-09-08T14:44:17.706476",
     "exception": false,
     "start_time": "2025-09-08T14:44:17.695541",
     "status": "completed"
    },
    "tags": []
   },
   "outputs": [
    {
     "name": "stdout",
     "output_type": "stream",
     "text": [
      "Training folders considered: {'original', 'gaussian_noise', 'low_resolution', 'dirty_lens', 'blur', 'chromatic_aberration', 'lens_flare', 'motion_blur'}\n",
      "Validation folders considered: {'original', 'gaussian_noise', 'low_resolution', 'dirty_lens', 'blur', 'chromatic_aberration', 'lens_flare', 'motion_blur'}\n",
      "Test folders considered: {'original', 'gaussian_noise', 'low_resolution', 'dirty_lens', 'blur', 'chromatic_aberration', 'lens_flare', 'motion_blur'}\n"
     ]
    }
   ],
   "source": [
    "ignore_folder = \"random_occlusion\"\n",
    "\n",
    "def get_included_folders(dataset, ignore_folder):\n",
    "    included = set()\n",
    "    for img_path, label in dataset.samples:\n",
    "        # Split the path into parts and ignore if ignore_folder is in the path\n",
    "        if ignore_folder not in img_path.split(\"/\"):\n",
    "            # The folder name just above the image (or the class folder)\n",
    "            folder_name = img_path.split(\"/\")[-2]\n",
    "            included.add(folder_name)\n",
    "    return included\n",
    "\n",
    "train_folders = get_included_folders(train_ds, ignore_folder)\n",
    "val_folders   = get_included_folders(val_ds, ignore_folder)\n",
    "test_folders  = get_included_folders(test_ds, ignore_folder)\n",
    "\n",
    "print(\"Training folders considered:\", train_folders)\n",
    "print(\"Validation folders considered:\", val_folders)\n",
    "print(\"Test folders considered:\", test_folders)\n"
   ]
  },
  {
   "cell_type": "code",
   "execution_count": 7,
   "id": "f87b0a8e",
   "metadata": {
    "execution": {
     "iopub.execute_input": "2025-09-08T14:44:17.712356Z",
     "iopub.status.busy": "2025-09-08T14:44:17.711950Z",
     "iopub.status.idle": "2025-09-08T14:44:17.847086Z",
     "shell.execute_reply": "2025-09-08T14:44:17.846330Z"
    },
    "papermill": {
     "duration": 0.139236,
     "end_time": "2025-09-08T14:44:17.848125",
     "exception": false,
     "start_time": "2025-09-08T14:44:17.708889",
     "status": "completed"
    },
    "tags": []
   },
   "outputs": [
    {
     "name": "stdout",
     "output_type": "stream",
     "text": [
      "🔄 Loading and filtering datasets for Vision Transformer...\n",
      "✅ Classes: ['Four', 'Leg_Bye', 'No_ball', 'Out', 'Six', 'Wide']\n",
      "📊 Dataset Statistics:\n",
      "│ Training images: 1536\n",
      "│ Validation images: 416\n",
      "│ Test images: 520\n",
      "│ Total images (after filtering): 2472\n",
      "│ Excluded folder: 'random_occlusion'\n",
      "│ Number of classes: 6\n"
     ]
    }
   ],
   "source": [
    "import torch\n",
    "import torch.nn as nn\n",
    "import torch.nn.functional as F\n",
    "import torch.optim as optim\n",
    "from torch.utils.data import DataLoader\n",
    "from torchvision import datasets, transforms, models\n",
    "import matplotlib.pyplot as plt\n",
    "from sklearn.metrics import classification_report, confusion_matrix, accuracy_score\n",
    "import seaborn as sns\n",
    "import numpy as np\n",
    "import pandas as pd\n",
    "from tqdm import tqdm\n",
    "import time\n",
    "import os\n",
    "import tempfile\n",
    "\n",
    "# -----------------------------\n",
    "# 1. Data Preprocessing with Filtering (ViT - 224x224)\n",
    "# -----------------------------\n",
    "data_dir = \"/kaggle/input/ju-cricket/Cricket_Dataset_final/Task_B\"\n",
    "\n",
    "# ViT-B/16 uses 224x224 input size\n",
    "transform = transforms.Compose([\n",
    "    transforms.Resize((224, 224)),  # ViT-B/16 input size\n",
    "    transforms.ToTensor(),\n",
    "    transforms.Normalize([0.485, 0.456, 0.406], \n",
    "                         [0.229, 0.224, 0.225])\n",
    "])\n",
    "\n",
    "ignore_folder = \"random_occlusion\"\n",
    "\n",
    "def filter_samples(dataset, ignore_folder):\n",
    "    \"\"\"Filter out samples containing the ignore_folder in their path\"\"\"\n",
    "    filtered_samples = [s for s in dataset.samples if ignore_folder not in s[0].split(\"/\")]\n",
    "    dataset.samples = filtered_samples\n",
    "    dataset.targets = [s[1] for s in filtered_samples]\n",
    "    return dataset\n",
    "\n",
    "# Create and filter datasets\n",
    "print(\"🔄 Loading and filtering datasets for Vision Transformer...\")\n",
    "train_ds = datasets.ImageFolder(f\"{data_dir}/train/Umpire\", transform=transform)\n",
    "val_ds   = datasets.ImageFolder(f\"{data_dir}/val/Umpire\", transform=transform)\n",
    "test_ds  = datasets.ImageFolder(f\"{data_dir}/test/Umpire\", transform=transform)\n",
    "\n",
    "# Apply filtering\n",
    "train_ds = filter_samples(train_ds, ignore_folder)\n",
    "val_ds   = filter_samples(val_ds, ignore_folder)\n",
    "test_ds  = filter_samples(test_ds, ignore_folder)\n",
    "\n",
    "# Create DataLoaders\n",
    "train_loader = DataLoader(train_ds, batch_size=32, shuffle=True)\n",
    "val_loader   = DataLoader(val_ds, batch_size=32, shuffle=False)\n",
    "test_loader  = DataLoader(test_ds, batch_size=32, shuffle=False)\n",
    "\n",
    "# Display information\n",
    "classes = train_ds.classes\n",
    "print(f\"✅ Classes: {classes}\")\n",
    "print(f\"📊 Dataset Statistics:\")\n",
    "print(f\"│ Training images: {len(train_ds)}\")\n",
    "print(f\"│ Validation images: {len(val_ds)}\")\n",
    "print(f\"│ Test images: {len(test_ds)}\")\n",
    "print(f\"│ Total images (after filtering): {len(train_ds) + len(val_ds) + len(test_ds)}\")\n",
    "print(f\"│ Excluded folder: '{ignore_folder}'\")\n",
    "print(f\"│ Number of classes: {len(classes)}\")"
   ]
  },
  {
   "cell_type": "code",
   "execution_count": 8,
   "id": "85b57340",
   "metadata": {
    "execution": {
     "iopub.execute_input": "2025-09-08T14:44:17.853850Z",
     "iopub.status.busy": "2025-09-08T14:44:17.853484Z",
     "iopub.status.idle": "2025-09-08T14:44:22.381375Z",
     "shell.execute_reply": "2025-09-08T14:44:22.380492Z"
    },
    "papermill": {
     "duration": 4.532074,
     "end_time": "2025-09-08T14:44:22.382657",
     "exception": false,
     "start_time": "2025-09-08T14:44:17.850583",
     "status": "completed"
    },
    "tags": []
   },
   "outputs": [
    {
     "name": "stdout",
     "output_type": "stream",
     "text": [
      "Using device: cuda\n",
      "🔄 Loading pretrained Vision Transformer (ViT-B/16) from ImageNet...\n"
     ]
    },
    {
     "name": "stderr",
     "output_type": "stream",
     "text": [
      "/usr/local/lib/python3.11/dist-packages/torchvision/models/_utils.py:208: UserWarning: The parameter 'pretrained' is deprecated since 0.13 and may be removed in the future, please use 'weights' instead.\n",
      "  warnings.warn(\n",
      "/usr/local/lib/python3.11/dist-packages/torchvision/models/_utils.py:223: UserWarning: Arguments other than a weight enum or `None` for 'weights' are deprecated since 0.13 and may be removed in the future. The current behavior is equivalent to passing `weights=ViT_B_16_Weights.IMAGENET1K_V1`. You can also use `weights=ViT_B_16_Weights.DEFAULT` to get the most up-to-date weights.\n",
      "  warnings.warn(msg)\n",
      "Downloading: \"https://download.pytorch.org/models/vit_b_16-c867db91.pth\" to /root/.cache/torch/hub/checkpoints/vit_b_16-c867db91.pth\n",
      "100%|██████████| 330M/330M [00:01<00:00, 192MB/s]\n"
     ]
    },
    {
     "name": "stdout",
     "output_type": "stream",
     "text": [
      "✅ Model loaded with 6 output classes\n",
      "📊 Total parameters: 85,803,270\n",
      "📊 Trainable parameters: 85,803,270\n",
      "📊 Model file size: 327.37 MB\n",
      "📋 Model Architecture:\n",
      "│ Input size: (3, 224, 224)\n",
      "│ ViT-B/16 features: 768\n",
      "│ Output classes: 6\n",
      "│ Patch size: 16x16\n",
      "│ Sequence length: 196 patches + 1 CLS token\n",
      "│ Transformer layers: 12\n",
      "│ Attention heads: 12\n"
     ]
    }
   ],
   "source": [
    "# -----------------------------\n",
    "# 2. Pretrained Vision Transformer Model\n",
    "# -----------------------------\n",
    "device = torch.device('cuda' if torch.cuda.is_available() else 'cpu')\n",
    "print(f\"Using device: {device}\")\n",
    "\n",
    "# Load pretrained Vision Transformer (ViT-B/16)\n",
    "print(\"🔄 Loading pretrained Vision Transformer (ViT-B/16) from ImageNet...\")\n",
    "model = models.vit_b_16(pretrained=True)\n",
    "\n",
    "# Replace final classification layer\n",
    "# ViT uses model.heads.head (nested structure)\n",
    "num_features = model.heads.head.in_features  # Get input features (768)\n",
    "model.heads.head = nn.Linear(num_features, len(classes))  # Replace final layer\n",
    "model = model.to(device)\n",
    "\n",
    "print(f\"✅ Model loaded with {len(classes)} output classes\")\n",
    "\n",
    "# Calculate model parameters and size\n",
    "total_params = sum(p.numel() for p in model.parameters())\n",
    "trainable_params = sum(p.numel() for p in model.parameters() if p.requires_grad)\n",
    "\n",
    "# Calculate model file size\n",
    "with tempfile.NamedTemporaryFile(delete=False, suffix='.pth') as tmp_file:\n",
    "    torch.save(model.state_dict(), tmp_file.name)\n",
    "    model_size_mb = os.path.getsize(tmp_file.name) / (1024 * 1024)\n",
    "    os.unlink(tmp_file.name)\n",
    "\n",
    "print(f\"📊 Total parameters: {total_params:,}\")\n",
    "print(f\"📊 Trainable parameters: {trainable_params:,}\")\n",
    "print(f\"📊 Model file size: {model_size_mb:.2f} MB\")\n",
    "print(f\"📋 Model Architecture:\")\n",
    "print(f\"│ Input size: (3, 224, 224)\")\n",
    "print(f\"│ ViT-B/16 features: 768\")\n",
    "print(f\"│ Output classes: {len(classes)}\")\n",
    "print(f\"│ Patch size: 16x16\")\n",
    "print(f\"│ Sequence length: 196 patches + 1 CLS token\")\n",
    "print(f\"│ Transformer layers: 12\")\n",
    "print(f\"│ Attention heads: 12\")"
   ]
  },
  {
   "cell_type": "code",
   "execution_count": 9,
   "id": "824de7b2",
   "metadata": {
    "execution": {
     "iopub.execute_input": "2025-09-08T14:44:22.391375Z",
     "iopub.status.busy": "2025-09-08T14:44:22.391143Z",
     "iopub.status.idle": "2025-09-08T15:49:44.841576Z",
     "shell.execute_reply": "2025-09-08T15:49:44.840865Z"
    },
    "papermill": {
     "duration": 3922.457523,
     "end_time": "2025-09-08T15:49:44.844050",
     "exception": false,
     "start_time": "2025-09-08T14:44:22.386527",
     "status": "completed"
    },
    "tags": []
   },
   "outputs": [
    {
     "name": "stdout",
     "output_type": "stream",
     "text": [
      "\n",
      "📋 Training Configuration:\n",
      "│ Model: Vision Transformer ViT-B/16 (pretrained)\n",
      "│ Optimizer: Adam (lr=0.0001)\n",
      "│ Loss Function: CrossEntropyLoss\n",
      "│ Batch Size: 32\n",
      "│ Device: cuda\n",
      "│ Data: Filtered (excluding 'random_occlusion')\n",
      "\n",
      "🚀 Starting Vision Transformer Fine-tuning for 50 epochs...\n",
      "================================================================================\n",
      "\n",
      "📈 Epoch 1/50\n",
      "--------------------------------------------------\n",
      "🔄 Training Phase...\n"
     ]
    },
    {
     "name": "stderr",
     "output_type": "stream",
     "text": [
      "Training: 100%|██████████████████████████████| 48/48 [01:09<00:00,  1.45s/it, Loss=0.5344, Acc=0.8229]\n"
     ]
    },
    {
     "name": "stdout",
     "output_type": "stream",
     "text": [
      "✅ Training completed in 69.80s\n",
      "🔍 Validation Phase...\n"
     ]
    },
    {
     "name": "stderr",
     "output_type": "stream",
     "text": [
      "Validation: 100%|██████████████████████████████| 13/13 [00:09<00:00,  1.43it/s, Loss=0.7457, Acc=0.7644]\n"
     ]
    },
    {
     "name": "stdout",
     "output_type": "stream",
     "text": [
      "✅ Validation completed in 9.08s\n",
      "🌟 New best model found! Validation Loss: 0.7457\n",
      "\n",
      "📊 Epoch 1 Summary:\n",
      "│ Train Loss: 0.5344 | Train Acc: 0.8229\n",
      "│ Val Loss:   0.7457 | Val Acc:   0.7644\n",
      "│ Train Time: 69.80s | Val Time: 9.08s\n",
      "│ Total Epoch Time: 78.88s\n",
      "│ Best Val Loss: 0.7457 (Epoch 1)\n",
      "│ GPU Memory: 1.3GB / 5.0GB\n",
      "================================================================================\n",
      "\n",
      "📈 Epoch 2/50\n",
      "--------------------------------------------------\n",
      "🔄 Training Phase...\n"
     ]
    },
    {
     "name": "stderr",
     "output_type": "stream",
     "text": [
      "Training: 100%|██████████████████████████████| 48/48 [01:10<00:00,  1.46s/it, Loss=0.0374, Acc=0.9922]\n"
     ]
    },
    {
     "name": "stdout",
     "output_type": "stream",
     "text": [
      "✅ Training completed in 70.06s\n",
      "🔍 Validation Phase...\n"
     ]
    },
    {
     "name": "stderr",
     "output_type": "stream",
     "text": [
      "Validation: 100%|██████████████████████████████| 13/13 [00:07<00:00,  1.73it/s, Loss=0.7752, Acc=0.7885]\n"
     ]
    },
    {
     "name": "stdout",
     "output_type": "stream",
     "text": [
      "✅ Validation completed in 7.53s\n",
      "\n",
      "📊 Epoch 2 Summary:\n",
      "│ Train Loss: 0.0374 | Train Acc: 0.9922\n",
      "│ Val Loss:   0.7752 | Val Acc:   0.7885\n",
      "│ Train Time: 70.06s | Val Time: 7.53s\n",
      "│ Total Epoch Time: 77.59s\n",
      "│ Best Val Loss: 0.7457 (Epoch 1)\n",
      "│ GPU Memory: 1.3GB / 5.0GB\n",
      "================================================================================\n",
      "\n",
      "📈 Epoch 3/50\n",
      "--------------------------------------------------\n",
      "🔄 Training Phase...\n"
     ]
    },
    {
     "name": "stderr",
     "output_type": "stream",
     "text": [
      "Training: 100%|██████████████████████████████| 48/48 [01:10<00:00,  1.46s/it, Loss=0.0060, Acc=1.0000]\n"
     ]
    },
    {
     "name": "stdout",
     "output_type": "stream",
     "text": [
      "✅ Training completed in 70.20s\n",
      "🔍 Validation Phase...\n"
     ]
    },
    {
     "name": "stderr",
     "output_type": "stream",
     "text": [
      "Validation: 100%|██████████████████████████████| 13/13 [00:07<00:00,  1.74it/s, Loss=0.6738, Acc=0.8413]\n"
     ]
    },
    {
     "name": "stdout",
     "output_type": "stream",
     "text": [
      "✅ Validation completed in 7.48s\n",
      "🌟 New best model found! Validation Loss: 0.6738\n",
      "\n",
      "📊 Epoch 3 Summary:\n",
      "│ Train Loss: 0.0060 | Train Acc: 1.0000\n",
      "│ Val Loss:   0.6738 | Val Acc:   0.8413\n",
      "│ Train Time: 70.20s | Val Time: 7.48s\n",
      "│ Total Epoch Time: 77.68s\n",
      "│ Best Val Loss: 0.6738 (Epoch 3)\n",
      "│ GPU Memory: 1.3GB / 5.0GB\n",
      "================================================================================\n",
      "\n",
      "📈 Epoch 4/50\n",
      "--------------------------------------------------\n",
      "🔄 Training Phase...\n"
     ]
    },
    {
     "name": "stderr",
     "output_type": "stream",
     "text": [
      "Training: 100%|██████████████████████████████| 48/48 [01:10<00:00,  1.47s/it, Loss=0.0013, Acc=1.0000]\n"
     ]
    },
    {
     "name": "stdout",
     "output_type": "stream",
     "text": [
      "✅ Training completed in 70.51s\n",
      "🔍 Validation Phase...\n"
     ]
    },
    {
     "name": "stderr",
     "output_type": "stream",
     "text": [
      "Validation: 100%|██████████████████████████████| 13/13 [00:07<00:00,  1.72it/s, Loss=0.6909, Acc=0.8341]\n"
     ]
    },
    {
     "name": "stdout",
     "output_type": "stream",
     "text": [
      "✅ Validation completed in 7.55s\n",
      "\n",
      "📊 Epoch 4 Summary:\n",
      "│ Train Loss: 0.0013 | Train Acc: 1.0000\n",
      "│ Val Loss:   0.6909 | Val Acc:   0.8341\n",
      "│ Train Time: 70.51s | Val Time: 7.55s\n",
      "│ Total Epoch Time: 78.06s\n",
      "│ Best Val Loss: 0.6738 (Epoch 3)\n",
      "│ GPU Memory: 1.3GB / 5.0GB\n",
      "================================================================================\n",
      "\n",
      "📈 Epoch 5/50\n",
      "--------------------------------------------------\n",
      "🔄 Training Phase...\n"
     ]
    },
    {
     "name": "stderr",
     "output_type": "stream",
     "text": [
      "Training: 100%|██████████████████████████████| 48/48 [01:10<00:00,  1.47s/it, Loss=0.0008, Acc=1.0000]\n"
     ]
    },
    {
     "name": "stdout",
     "output_type": "stream",
     "text": [
      "✅ Training completed in 70.67s\n",
      "🔍 Validation Phase...\n"
     ]
    },
    {
     "name": "stderr",
     "output_type": "stream",
     "text": [
      "Validation: 100%|██████████████████████████████| 13/13 [00:07<00:00,  1.74it/s, Loss=0.6885, Acc=0.8389]\n"
     ]
    },
    {
     "name": "stdout",
     "output_type": "stream",
     "text": [
      "✅ Validation completed in 7.48s\n",
      "\n",
      "📊 Epoch 5 Summary:\n",
      "│ Train Loss: 0.0008 | Train Acc: 1.0000\n",
      "│ Val Loss:   0.6885 | Val Acc:   0.8389\n",
      "│ Train Time: 70.67s | Val Time: 7.48s\n",
      "│ Total Epoch Time: 78.15s\n",
      "│ Best Val Loss: 0.6738 (Epoch 3)\n",
      "│ GPU Memory: 1.3GB / 5.0GB\n",
      "================================================================================\n",
      "\n",
      "📈 Epoch 6/50\n",
      "--------------------------------------------------\n",
      "🔄 Training Phase...\n"
     ]
    },
    {
     "name": "stderr",
     "output_type": "stream",
     "text": [
      "Training: 100%|██████████████████████████████| 48/48 [01:10<00:00,  1.47s/it, Loss=0.0006, Acc=1.0000]\n"
     ]
    },
    {
     "name": "stdout",
     "output_type": "stream",
     "text": [
      "✅ Training completed in 70.73s\n",
      "🔍 Validation Phase...\n"
     ]
    },
    {
     "name": "stderr",
     "output_type": "stream",
     "text": [
      "Validation: 100%|██████████████████████████████| 13/13 [00:07<00:00,  1.72it/s, Loss=0.7123, Acc=0.8413]\n"
     ]
    },
    {
     "name": "stdout",
     "output_type": "stream",
     "text": [
      "✅ Validation completed in 7.56s\n",
      "\n",
      "📊 Epoch 6 Summary:\n",
      "│ Train Loss: 0.0006 | Train Acc: 1.0000\n",
      "│ Val Loss:   0.7123 | Val Acc:   0.8413\n",
      "│ Train Time: 70.73s | Val Time: 7.56s\n",
      "│ Total Epoch Time: 78.30s\n",
      "│ Best Val Loss: 0.6738 (Epoch 3)\n",
      "│ GPU Memory: 1.3GB / 5.0GB\n",
      "================================================================================\n",
      "\n",
      "📈 Epoch 7/50\n",
      "--------------------------------------------------\n",
      "🔄 Training Phase...\n"
     ]
    },
    {
     "name": "stderr",
     "output_type": "stream",
     "text": [
      "Training: 100%|██████████████████████████████| 48/48 [01:10<00:00,  1.48s/it, Loss=0.0005, Acc=1.0000]\n"
     ]
    },
    {
     "name": "stdout",
     "output_type": "stream",
     "text": [
      "✅ Training completed in 70.91s\n",
      "🔍 Validation Phase...\n"
     ]
    },
    {
     "name": "stderr",
     "output_type": "stream",
     "text": [
      "Validation: 100%|██████████████████████████████| 13/13 [00:07<00:00,  1.75it/s, Loss=0.7192, Acc=0.8438]\n"
     ]
    },
    {
     "name": "stdout",
     "output_type": "stream",
     "text": [
      "✅ Validation completed in 7.45s\n",
      "\n",
      "📊 Epoch 7 Summary:\n",
      "│ Train Loss: 0.0005 | Train Acc: 1.0000\n",
      "│ Val Loss:   0.7192 | Val Acc:   0.8438\n",
      "│ Train Time: 70.91s | Val Time: 7.45s\n",
      "│ Total Epoch Time: 78.36s\n",
      "│ Best Val Loss: 0.6738 (Epoch 3)\n",
      "│ GPU Memory: 1.3GB / 5.0GB\n",
      "================================================================================\n",
      "\n",
      "📈 Epoch 8/50\n",
      "--------------------------------------------------\n",
      "🔄 Training Phase...\n"
     ]
    },
    {
     "name": "stderr",
     "output_type": "stream",
     "text": [
      "Training: 100%|██████████████████████████████| 48/48 [01:10<00:00,  1.48s/it, Loss=0.0004, Acc=1.0000]\n"
     ]
    },
    {
     "name": "stdout",
     "output_type": "stream",
     "text": [
      "✅ Training completed in 70.81s\n",
      "🔍 Validation Phase...\n"
     ]
    },
    {
     "name": "stderr",
     "output_type": "stream",
     "text": [
      "Validation: 100%|██████████████████████████████| 13/13 [00:07<00:00,  1.74it/s, Loss=0.7301, Acc=0.8413]\n"
     ]
    },
    {
     "name": "stdout",
     "output_type": "stream",
     "text": [
      "✅ Validation completed in 7.47s\n",
      "\n",
      "📊 Epoch 8 Summary:\n",
      "│ Train Loss: 0.0004 | Train Acc: 1.0000\n",
      "│ Val Loss:   0.7301 | Val Acc:   0.8413\n",
      "│ Train Time: 70.81s | Val Time: 7.47s\n",
      "│ Total Epoch Time: 78.29s\n",
      "│ Best Val Loss: 0.6738 (Epoch 3)\n",
      "│ GPU Memory: 1.3GB / 5.0GB\n",
      "================================================================================\n",
      "\n",
      "📈 Epoch 9/50\n",
      "--------------------------------------------------\n",
      "🔄 Training Phase...\n"
     ]
    },
    {
     "name": "stderr",
     "output_type": "stream",
     "text": [
      "Training: 100%|██████████████████████████████| 48/48 [01:10<00:00,  1.47s/it, Loss=0.0004, Acc=1.0000]\n"
     ]
    },
    {
     "name": "stdout",
     "output_type": "stream",
     "text": [
      "✅ Training completed in 70.70s\n",
      "🔍 Validation Phase...\n"
     ]
    },
    {
     "name": "stderr",
     "output_type": "stream",
     "text": [
      "Validation: 100%|██████████████████████████████| 13/13 [00:07<00:00,  1.74it/s, Loss=0.7383, Acc=0.8413]\n"
     ]
    },
    {
     "name": "stdout",
     "output_type": "stream",
     "text": [
      "✅ Validation completed in 7.49s\n",
      "\n",
      "📊 Epoch 9 Summary:\n",
      "│ Train Loss: 0.0004 | Train Acc: 1.0000\n",
      "│ Val Loss:   0.7383 | Val Acc:   0.8413\n",
      "│ Train Time: 70.70s | Val Time: 7.49s\n",
      "│ Total Epoch Time: 78.20s\n",
      "│ Best Val Loss: 0.6738 (Epoch 3)\n",
      "│ GPU Memory: 1.3GB / 5.0GB\n",
      "================================================================================\n",
      "\n",
      "📈 Epoch 10/50\n",
      "--------------------------------------------------\n",
      "🔄 Training Phase...\n"
     ]
    },
    {
     "name": "stderr",
     "output_type": "stream",
     "text": [
      "Training: 100%|██████████████████████████████| 48/48 [01:10<00:00,  1.47s/it, Loss=0.0003, Acc=1.0000]\n"
     ]
    },
    {
     "name": "stdout",
     "output_type": "stream",
     "text": [
      "✅ Training completed in 70.77s\n",
      "🔍 Validation Phase...\n"
     ]
    },
    {
     "name": "stderr",
     "output_type": "stream",
     "text": [
      "Validation: 100%|██████████████████████████████| 13/13 [00:07<00:00,  1.74it/s, Loss=0.7418, Acc=0.8438]\n"
     ]
    },
    {
     "name": "stdout",
     "output_type": "stream",
     "text": [
      "✅ Validation completed in 7.49s\n",
      "\n",
      "📊 Epoch 10 Summary:\n",
      "│ Train Loss: 0.0003 | Train Acc: 1.0000\n",
      "│ Val Loss:   0.7418 | Val Acc:   0.8438\n",
      "│ Train Time: 70.77s | Val Time: 7.49s\n",
      "│ Total Epoch Time: 78.27s\n",
      "│ Best Val Loss: 0.6738 (Epoch 3)\n",
      "│ GPU Memory: 1.3GB / 5.0GB\n",
      "================================================================================\n",
      "\n",
      "📈 Epoch 11/50\n",
      "--------------------------------------------------\n",
      "🔄 Training Phase...\n"
     ]
    },
    {
     "name": "stderr",
     "output_type": "stream",
     "text": [
      "Training: 100%|██████████████████████████████| 48/48 [01:10<00:00,  1.48s/it, Loss=0.0003, Acc=1.0000]\n"
     ]
    },
    {
     "name": "stdout",
     "output_type": "stream",
     "text": [
      "✅ Training completed in 70.87s\n",
      "🔍 Validation Phase...\n"
     ]
    },
    {
     "name": "stderr",
     "output_type": "stream",
     "text": [
      "Validation: 100%|██████████████████████████████| 13/13 [00:07<00:00,  1.75it/s, Loss=0.7524, Acc=0.8413]\n"
     ]
    },
    {
     "name": "stdout",
     "output_type": "stream",
     "text": [
      "✅ Validation completed in 7.42s\n",
      "\n",
      "📊 Epoch 11 Summary:\n",
      "│ Train Loss: 0.0003 | Train Acc: 1.0000\n",
      "│ Val Loss:   0.7524 | Val Acc:   0.8413\n",
      "│ Train Time: 70.87s | Val Time: 7.42s\n",
      "│ Total Epoch Time: 78.29s\n",
      "│ Best Val Loss: 0.6738 (Epoch 3)\n",
      "│ GPU Memory: 1.3GB / 5.0GB\n",
      "================================================================================\n",
      "\n",
      "📈 Epoch 12/50\n",
      "--------------------------------------------------\n",
      "🔄 Training Phase...\n"
     ]
    },
    {
     "name": "stderr",
     "output_type": "stream",
     "text": [
      "Training: 100%|██████████████████████████████| 48/48 [01:10<00:00,  1.48s/it, Loss=0.0002, Acc=1.0000]\n"
     ]
    },
    {
     "name": "stdout",
     "output_type": "stream",
     "text": [
      "✅ Training completed in 70.82s\n",
      "🔍 Validation Phase...\n"
     ]
    },
    {
     "name": "stderr",
     "output_type": "stream",
     "text": [
      "Validation: 100%|██████████████████████████████| 13/13 [00:07<00:00,  1.65it/s, Loss=0.7573, Acc=0.8438]\n"
     ]
    },
    {
     "name": "stdout",
     "output_type": "stream",
     "text": [
      "✅ Validation completed in 7.87s\n",
      "\n",
      "📊 Epoch 12 Summary:\n",
      "│ Train Loss: 0.0002 | Train Acc: 1.0000\n",
      "│ Val Loss:   0.7573 | Val Acc:   0.8438\n",
      "│ Train Time: 70.82s | Val Time: 7.87s\n",
      "│ Total Epoch Time: 78.69s\n",
      "│ Best Val Loss: 0.6738 (Epoch 3)\n",
      "│ GPU Memory: 1.3GB / 5.0GB\n",
      "================================================================================\n",
      "\n",
      "📈 Epoch 13/50\n",
      "--------------------------------------------------\n",
      "🔄 Training Phase...\n"
     ]
    },
    {
     "name": "stderr",
     "output_type": "stream",
     "text": [
      "Training: 100%|██████████████████████████████| 48/48 [01:11<00:00,  1.48s/it, Loss=0.0002, Acc=1.0000]\n"
     ]
    },
    {
     "name": "stdout",
     "output_type": "stream",
     "text": [
      "✅ Training completed in 71.03s\n",
      "🔍 Validation Phase...\n"
     ]
    },
    {
     "name": "stderr",
     "output_type": "stream",
     "text": [
      "Validation: 100%|██████████████████████████████| 13/13 [00:07<00:00,  1.74it/s, Loss=0.7629, Acc=0.8438]\n"
     ]
    },
    {
     "name": "stdout",
     "output_type": "stream",
     "text": [
      "✅ Validation completed in 7.48s\n",
      "\n",
      "📊 Epoch 13 Summary:\n",
      "│ Train Loss: 0.0002 | Train Acc: 1.0000\n",
      "│ Val Loss:   0.7629 | Val Acc:   0.8438\n",
      "│ Train Time: 71.03s | Val Time: 7.48s\n",
      "│ Total Epoch Time: 78.51s\n",
      "│ Best Val Loss: 0.6738 (Epoch 3)\n",
      "│ GPU Memory: 1.3GB / 5.0GB\n",
      "================================================================================\n",
      "\n",
      "📈 Epoch 14/50\n",
      "--------------------------------------------------\n",
      "🔄 Training Phase...\n"
     ]
    },
    {
     "name": "stderr",
     "output_type": "stream",
     "text": [
      "Training: 100%|██████████████████████████████| 48/48 [01:10<00:00,  1.48s/it, Loss=0.0002, Acc=1.0000]\n"
     ]
    },
    {
     "name": "stdout",
     "output_type": "stream",
     "text": [
      "✅ Training completed in 70.81s\n",
      "🔍 Validation Phase...\n"
     ]
    },
    {
     "name": "stderr",
     "output_type": "stream",
     "text": [
      "Validation: 100%|██████████████████████████████| 13/13 [00:07<00:00,  1.73it/s, Loss=0.7696, Acc=0.8438]\n"
     ]
    },
    {
     "name": "stdout",
     "output_type": "stream",
     "text": [
      "✅ Validation completed in 7.50s\n",
      "\n",
      "📊 Epoch 14 Summary:\n",
      "│ Train Loss: 0.0002 | Train Acc: 1.0000\n",
      "│ Val Loss:   0.7696 | Val Acc:   0.8438\n",
      "│ Train Time: 70.81s | Val Time: 7.50s\n",
      "│ Total Epoch Time: 78.32s\n",
      "│ Best Val Loss: 0.6738 (Epoch 3)\n",
      "│ GPU Memory: 1.3GB / 5.0GB\n",
      "================================================================================\n",
      "\n",
      "📈 Epoch 15/50\n",
      "--------------------------------------------------\n",
      "🔄 Training Phase...\n"
     ]
    },
    {
     "name": "stderr",
     "output_type": "stream",
     "text": [
      "Training: 100%|██████████████████████████████| 48/48 [01:10<00:00,  1.47s/it, Loss=0.0002, Acc=1.0000]\n"
     ]
    },
    {
     "name": "stdout",
     "output_type": "stream",
     "text": [
      "✅ Training completed in 70.77s\n",
      "🔍 Validation Phase...\n"
     ]
    },
    {
     "name": "stderr",
     "output_type": "stream",
     "text": [
      "Validation: 100%|██████████████████████████████| 13/13 [00:07<00:00,  1.70it/s, Loss=0.7741, Acc=0.8438]\n"
     ]
    },
    {
     "name": "stdout",
     "output_type": "stream",
     "text": [
      "✅ Validation completed in 7.65s\n",
      "\n",
      "📊 Epoch 15 Summary:\n",
      "│ Train Loss: 0.0002 | Train Acc: 1.0000\n",
      "│ Val Loss:   0.7741 | Val Acc:   0.8438\n",
      "│ Train Time: 70.77s | Val Time: 7.65s\n",
      "│ Total Epoch Time: 78.42s\n",
      "│ Best Val Loss: 0.6738 (Epoch 3)\n",
      "│ GPU Memory: 1.3GB / 5.0GB\n",
      "================================================================================\n",
      "\n",
      "📈 Epoch 16/50\n",
      "--------------------------------------------------\n",
      "🔄 Training Phase...\n"
     ]
    },
    {
     "name": "stderr",
     "output_type": "stream",
     "text": [
      "Training: 100%|██████████████████████████████| 48/48 [01:10<00:00,  1.47s/it, Loss=0.0002, Acc=1.0000]\n"
     ]
    },
    {
     "name": "stdout",
     "output_type": "stream",
     "text": [
      "✅ Training completed in 70.64s\n",
      "🔍 Validation Phase...\n"
     ]
    },
    {
     "name": "stderr",
     "output_type": "stream",
     "text": [
      "Validation: 100%|██████████████████████████████| 13/13 [00:07<00:00,  1.73it/s, Loss=0.7800, Acc=0.8413]\n"
     ]
    },
    {
     "name": "stdout",
     "output_type": "stream",
     "text": [
      "✅ Validation completed in 7.50s\n",
      "\n",
      "📊 Epoch 16 Summary:\n",
      "│ Train Loss: 0.0002 | Train Acc: 1.0000\n",
      "│ Val Loss:   0.7800 | Val Acc:   0.8413\n",
      "│ Train Time: 70.64s | Val Time: 7.50s\n",
      "│ Total Epoch Time: 78.14s\n",
      "│ Best Val Loss: 0.6738 (Epoch 3)\n",
      "│ GPU Memory: 1.3GB / 5.0GB\n",
      "================================================================================\n",
      "\n",
      "📈 Epoch 17/50\n",
      "--------------------------------------------------\n",
      "🔄 Training Phase...\n"
     ]
    },
    {
     "name": "stderr",
     "output_type": "stream",
     "text": [
      "Training: 100%|██████████████████████████████| 48/48 [01:10<00:00,  1.47s/it, Loss=0.0002, Acc=1.0000]\n"
     ]
    },
    {
     "name": "stdout",
     "output_type": "stream",
     "text": [
      "✅ Training completed in 70.58s\n",
      "🔍 Validation Phase...\n"
     ]
    },
    {
     "name": "stderr",
     "output_type": "stream",
     "text": [
      "Validation: 100%|██████████████████████████████| 13/13 [00:07<00:00,  1.74it/s, Loss=0.7870, Acc=0.8413]\n"
     ]
    },
    {
     "name": "stdout",
     "output_type": "stream",
     "text": [
      "✅ Validation completed in 7.49s\n",
      "\n",
      "📊 Epoch 17 Summary:\n",
      "│ Train Loss: 0.0002 | Train Acc: 1.0000\n",
      "│ Val Loss:   0.7870 | Val Acc:   0.8413\n",
      "│ Train Time: 70.58s | Val Time: 7.49s\n",
      "│ Total Epoch Time: 78.08s\n",
      "│ Best Val Loss: 0.6738 (Epoch 3)\n",
      "│ GPU Memory: 1.3GB / 5.0GB\n",
      "================================================================================\n",
      "\n",
      "📈 Epoch 18/50\n",
      "--------------------------------------------------\n",
      "🔄 Training Phase...\n"
     ]
    },
    {
     "name": "stderr",
     "output_type": "stream",
     "text": [
      "Training: 100%|██████████████████████████████| 48/48 [01:10<00:00,  1.47s/it, Loss=0.0002, Acc=1.0000]\n"
     ]
    },
    {
     "name": "stdout",
     "output_type": "stream",
     "text": [
      "✅ Training completed in 70.49s\n",
      "🔍 Validation Phase...\n"
     ]
    },
    {
     "name": "stderr",
     "output_type": "stream",
     "text": [
      "Validation: 100%|██████████████████████████████| 13/13 [00:07<00:00,  1.75it/s, Loss=0.7892, Acc=0.8438]\n"
     ]
    },
    {
     "name": "stdout",
     "output_type": "stream",
     "text": [
      "✅ Validation completed in 7.41s\n",
      "\n",
      "📊 Epoch 18 Summary:\n",
      "│ Train Loss: 0.0002 | Train Acc: 1.0000\n",
      "│ Val Loss:   0.7892 | Val Acc:   0.8438\n",
      "│ Train Time: 70.49s | Val Time: 7.41s\n",
      "│ Total Epoch Time: 77.90s\n",
      "│ Best Val Loss: 0.6738 (Epoch 3)\n",
      "│ GPU Memory: 1.3GB / 5.0GB\n",
      "================================================================================\n",
      "\n",
      "📈 Epoch 19/50\n",
      "--------------------------------------------------\n",
      "🔄 Training Phase...\n"
     ]
    },
    {
     "name": "stderr",
     "output_type": "stream",
     "text": [
      "Training: 100%|██████████████████████████████| 48/48 [01:10<00:00,  1.47s/it, Loss=0.0001, Acc=1.0000]\n"
     ]
    },
    {
     "name": "stdout",
     "output_type": "stream",
     "text": [
      "✅ Training completed in 70.67s\n",
      "🔍 Validation Phase...\n"
     ]
    },
    {
     "name": "stderr",
     "output_type": "stream",
     "text": [
      "Validation: 100%|██████████████████████████████| 13/13 [00:07<00:00,  1.74it/s, Loss=0.7943, Acc=0.8413]\n"
     ]
    },
    {
     "name": "stdout",
     "output_type": "stream",
     "text": [
      "✅ Validation completed in 7.49s\n",
      "\n",
      "📊 Epoch 19 Summary:\n",
      "│ Train Loss: 0.0001 | Train Acc: 1.0000\n",
      "│ Val Loss:   0.7943 | Val Acc:   0.8413\n",
      "│ Train Time: 70.67s | Val Time: 7.49s\n",
      "│ Total Epoch Time: 78.16s\n",
      "│ Best Val Loss: 0.6738 (Epoch 3)\n",
      "│ GPU Memory: 1.3GB / 5.0GB\n",
      "================================================================================\n",
      "\n",
      "📈 Epoch 20/50\n",
      "--------------------------------------------------\n",
      "🔄 Training Phase...\n"
     ]
    },
    {
     "name": "stderr",
     "output_type": "stream",
     "text": [
      "Training: 100%|██████████████████████████████| 48/48 [01:10<00:00,  1.47s/it, Loss=0.0001, Acc=1.0000]\n"
     ]
    },
    {
     "name": "stdout",
     "output_type": "stream",
     "text": [
      "✅ Training completed in 70.52s\n",
      "🔍 Validation Phase...\n"
     ]
    },
    {
     "name": "stderr",
     "output_type": "stream",
     "text": [
      "Validation: 100%|██████████████████████████████| 13/13 [00:07<00:00,  1.74it/s, Loss=0.7993, Acc=0.8413]\n"
     ]
    },
    {
     "name": "stdout",
     "output_type": "stream",
     "text": [
      "✅ Validation completed in 7.48s\n",
      "\n",
      "📊 Epoch 20 Summary:\n",
      "│ Train Loss: 0.0001 | Train Acc: 1.0000\n",
      "│ Val Loss:   0.7993 | Val Acc:   0.8413\n",
      "│ Train Time: 70.52s | Val Time: 7.48s\n",
      "│ Total Epoch Time: 78.00s\n",
      "│ Best Val Loss: 0.6738 (Epoch 3)\n",
      "│ GPU Memory: 1.3GB / 5.0GB\n",
      "================================================================================\n",
      "\n",
      "📈 Epoch 21/50\n",
      "--------------------------------------------------\n",
      "🔄 Training Phase...\n"
     ]
    },
    {
     "name": "stderr",
     "output_type": "stream",
     "text": [
      "Training: 100%|██████████████████████████████| 48/48 [01:10<00:00,  1.47s/it, Loss=0.0001, Acc=1.0000]\n"
     ]
    },
    {
     "name": "stdout",
     "output_type": "stream",
     "text": [
      "✅ Training completed in 70.59s\n",
      "🔍 Validation Phase...\n"
     ]
    },
    {
     "name": "stderr",
     "output_type": "stream",
     "text": [
      "Validation: 100%|██████████████████████████████| 13/13 [00:07<00:00,  1.72it/s, Loss=0.8050, Acc=0.8413]\n"
     ]
    },
    {
     "name": "stdout",
     "output_type": "stream",
     "text": [
      "✅ Validation completed in 7.56s\n",
      "\n",
      "📊 Epoch 21 Summary:\n",
      "│ Train Loss: 0.0001 | Train Acc: 1.0000\n",
      "│ Val Loss:   0.8050 | Val Acc:   0.8413\n",
      "│ Train Time: 70.59s | Val Time: 7.56s\n",
      "│ Total Epoch Time: 78.15s\n",
      "│ Best Val Loss: 0.6738 (Epoch 3)\n",
      "│ GPU Memory: 1.3GB / 5.0GB\n",
      "================================================================================\n",
      "\n",
      "📈 Epoch 22/50\n",
      "--------------------------------------------------\n",
      "🔄 Training Phase...\n"
     ]
    },
    {
     "name": "stderr",
     "output_type": "stream",
     "text": [
      "Training: 100%|██████████████████████████████| 48/48 [01:10<00:00,  1.47s/it, Loss=0.0001, Acc=1.0000]\n"
     ]
    },
    {
     "name": "stdout",
     "output_type": "stream",
     "text": [
      "✅ Training completed in 70.60s\n",
      "🔍 Validation Phase...\n"
     ]
    },
    {
     "name": "stderr",
     "output_type": "stream",
     "text": [
      "Validation: 100%|██████████████████████████████| 13/13 [00:07<00:00,  1.73it/s, Loss=0.8102, Acc=0.8413]\n"
     ]
    },
    {
     "name": "stdout",
     "output_type": "stream",
     "text": [
      "✅ Validation completed in 7.50s\n",
      "\n",
      "📊 Epoch 22 Summary:\n",
      "│ Train Loss: 0.0001 | Train Acc: 1.0000\n",
      "│ Val Loss:   0.8102 | Val Acc:   0.8413\n",
      "│ Train Time: 70.60s | Val Time: 7.50s\n",
      "│ Total Epoch Time: 78.10s\n",
      "│ Best Val Loss: 0.6738 (Epoch 3)\n",
      "│ GPU Memory: 1.3GB / 5.0GB\n",
      "================================================================================\n",
      "\n",
      "📈 Epoch 23/50\n",
      "--------------------------------------------------\n",
      "🔄 Training Phase...\n"
     ]
    },
    {
     "name": "stderr",
     "output_type": "stream",
     "text": [
      "Training: 100%|██████████████████████████████| 48/48 [01:10<00:00,  1.47s/it, Loss=0.0001, Acc=1.0000]\n"
     ]
    },
    {
     "name": "stdout",
     "output_type": "stream",
     "text": [
      "✅ Training completed in 70.55s\n",
      "🔍 Validation Phase...\n"
     ]
    },
    {
     "name": "stderr",
     "output_type": "stream",
     "text": [
      "Validation: 100%|██████████████████████████████| 13/13 [00:07<00:00,  1.74it/s, Loss=0.8135, Acc=0.8413]\n"
     ]
    },
    {
     "name": "stdout",
     "output_type": "stream",
     "text": [
      "✅ Validation completed in 7.45s\n",
      "\n",
      "📊 Epoch 23 Summary:\n",
      "│ Train Loss: 0.0001 | Train Acc: 1.0000\n",
      "│ Val Loss:   0.8135 | Val Acc:   0.8413\n",
      "│ Train Time: 70.55s | Val Time: 7.45s\n",
      "│ Total Epoch Time: 78.01s\n",
      "│ Best Val Loss: 0.6738 (Epoch 3)\n",
      "│ GPU Memory: 1.3GB / 5.0GB\n",
      "================================================================================\n",
      "\n",
      "📈 Epoch 24/50\n",
      "--------------------------------------------------\n",
      "🔄 Training Phase...\n"
     ]
    },
    {
     "name": "stderr",
     "output_type": "stream",
     "text": [
      "Training: 100%|██████████████████████████████| 48/48 [01:10<00:00,  1.47s/it, Loss=0.0001, Acc=1.0000]\n"
     ]
    },
    {
     "name": "stdout",
     "output_type": "stream",
     "text": [
      "✅ Training completed in 70.60s\n",
      "🔍 Validation Phase...\n"
     ]
    },
    {
     "name": "stderr",
     "output_type": "stream",
     "text": [
      "Validation: 100%|██████████████████████████████| 13/13 [00:07<00:00,  1.73it/s, Loss=0.8163, Acc=0.8413]\n"
     ]
    },
    {
     "name": "stdout",
     "output_type": "stream",
     "text": [
      "✅ Validation completed in 7.50s\n",
      "\n",
      "📊 Epoch 24 Summary:\n",
      "│ Train Loss: 0.0001 | Train Acc: 1.0000\n",
      "│ Val Loss:   0.8163 | Val Acc:   0.8413\n",
      "│ Train Time: 70.60s | Val Time: 7.50s\n",
      "│ Total Epoch Time: 78.10s\n",
      "│ Best Val Loss: 0.6738 (Epoch 3)\n",
      "│ GPU Memory: 1.3GB / 5.0GB\n",
      "================================================================================\n",
      "\n",
      "📈 Epoch 25/50\n",
      "--------------------------------------------------\n",
      "🔄 Training Phase...\n"
     ]
    },
    {
     "name": "stderr",
     "output_type": "stream",
     "text": [
      "Training: 100%|██████████████████████████████| 48/48 [01:10<00:00,  1.47s/it, Loss=0.0001, Acc=1.0000]\n"
     ]
    },
    {
     "name": "stdout",
     "output_type": "stream",
     "text": [
      "✅ Training completed in 70.71s\n",
      "🔍 Validation Phase...\n"
     ]
    },
    {
     "name": "stderr",
     "output_type": "stream",
     "text": [
      "Validation: 100%|██████████████████████████████| 13/13 [00:07<00:00,  1.71it/s, Loss=0.8221, Acc=0.8413]\n"
     ]
    },
    {
     "name": "stdout",
     "output_type": "stream",
     "text": [
      "✅ Validation completed in 7.62s\n",
      "\n",
      "📊 Epoch 25 Summary:\n",
      "│ Train Loss: 0.0001 | Train Acc: 1.0000\n",
      "│ Val Loss:   0.8221 | Val Acc:   0.8413\n",
      "│ Train Time: 70.71s | Val Time: 7.62s\n",
      "│ Total Epoch Time: 78.34s\n",
      "│ Best Val Loss: 0.6738 (Epoch 3)\n",
      "│ GPU Memory: 1.3GB / 5.0GB\n",
      "================================================================================\n",
      "\n",
      "📈 Epoch 26/50\n",
      "--------------------------------------------------\n",
      "🔄 Training Phase...\n"
     ]
    },
    {
     "name": "stderr",
     "output_type": "stream",
     "text": [
      "Training: 100%|██████████████████████████████| 48/48 [01:10<00:00,  1.47s/it, Loss=0.0001, Acc=1.0000]\n"
     ]
    },
    {
     "name": "stdout",
     "output_type": "stream",
     "text": [
      "✅ Training completed in 70.65s\n",
      "🔍 Validation Phase...\n"
     ]
    },
    {
     "name": "stderr",
     "output_type": "stream",
     "text": [
      "Validation: 100%|██████████████████████████████| 13/13 [00:07<00:00,  1.74it/s, Loss=0.8262, Acc=0.8413]\n"
     ]
    },
    {
     "name": "stdout",
     "output_type": "stream",
     "text": [
      "✅ Validation completed in 7.49s\n",
      "\n",
      "📊 Epoch 26 Summary:\n",
      "│ Train Loss: 0.0001 | Train Acc: 1.0000\n",
      "│ Val Loss:   0.8262 | Val Acc:   0.8413\n",
      "│ Train Time: 70.65s | Val Time: 7.49s\n",
      "│ Total Epoch Time: 78.14s\n",
      "│ Best Val Loss: 0.6738 (Epoch 3)\n",
      "│ GPU Memory: 1.3GB / 5.0GB\n",
      "================================================================================\n",
      "\n",
      "📈 Epoch 27/50\n",
      "--------------------------------------------------\n",
      "🔄 Training Phase...\n"
     ]
    },
    {
     "name": "stderr",
     "output_type": "stream",
     "text": [
      "Training: 100%|██████████████████████████████| 48/48 [01:10<00:00,  1.47s/it, Loss=0.0001, Acc=1.0000]\n"
     ]
    },
    {
     "name": "stdout",
     "output_type": "stream",
     "text": [
      "✅ Training completed in 70.72s\n",
      "🔍 Validation Phase...\n"
     ]
    },
    {
     "name": "stderr",
     "output_type": "stream",
     "text": [
      "Validation: 100%|██████████████████████████████| 13/13 [00:07<00:00,  1.72it/s, Loss=0.8301, Acc=0.8413]\n"
     ]
    },
    {
     "name": "stdout",
     "output_type": "stream",
     "text": [
      "✅ Validation completed in 7.57s\n",
      "\n",
      "📊 Epoch 27 Summary:\n",
      "│ Train Loss: 0.0001 | Train Acc: 1.0000\n",
      "│ Val Loss:   0.8301 | Val Acc:   0.8413\n",
      "│ Train Time: 70.72s | Val Time: 7.57s\n",
      "│ Total Epoch Time: 78.29s\n",
      "│ Best Val Loss: 0.6738 (Epoch 3)\n",
      "│ GPU Memory: 1.3GB / 5.0GB\n",
      "================================================================================\n",
      "\n",
      "📈 Epoch 28/50\n",
      "--------------------------------------------------\n",
      "🔄 Training Phase...\n"
     ]
    },
    {
     "name": "stderr",
     "output_type": "stream",
     "text": [
      "Training: 100%|██████████████████████████████| 48/48 [01:10<00:00,  1.48s/it, Loss=0.0001, Acc=1.0000]\n"
     ]
    },
    {
     "name": "stdout",
     "output_type": "stream",
     "text": [
      "✅ Training completed in 70.80s\n",
      "🔍 Validation Phase...\n"
     ]
    },
    {
     "name": "stderr",
     "output_type": "stream",
     "text": [
      "Validation: 100%|██████████████████████████████| 13/13 [00:07<00:00,  1.74it/s, Loss=0.8341, Acc=0.8413]\n"
     ]
    },
    {
     "name": "stdout",
     "output_type": "stream",
     "text": [
      "✅ Validation completed in 7.47s\n",
      "\n",
      "📊 Epoch 28 Summary:\n",
      "│ Train Loss: 0.0001 | Train Acc: 1.0000\n",
      "│ Val Loss:   0.8341 | Val Acc:   0.8413\n",
      "│ Train Time: 70.80s | Val Time: 7.47s\n",
      "│ Total Epoch Time: 78.28s\n",
      "│ Best Val Loss: 0.6738 (Epoch 3)\n",
      "│ GPU Memory: 1.3GB / 5.0GB\n",
      "================================================================================\n",
      "\n",
      "📈 Epoch 29/50\n",
      "--------------------------------------------------\n",
      "🔄 Training Phase...\n"
     ]
    },
    {
     "name": "stderr",
     "output_type": "stream",
     "text": [
      "Training: 100%|██████████████████████████████| 48/48 [01:11<00:00,  1.48s/it, Loss=0.0001, Acc=1.0000]\n"
     ]
    },
    {
     "name": "stdout",
     "output_type": "stream",
     "text": [
      "✅ Training completed in 71.03s\n",
      "🔍 Validation Phase...\n"
     ]
    },
    {
     "name": "stderr",
     "output_type": "stream",
     "text": [
      "Validation: 100%|██████████████████████████████| 13/13 [00:07<00:00,  1.73it/s, Loss=0.8376, Acc=0.8413]\n"
     ]
    },
    {
     "name": "stdout",
     "output_type": "stream",
     "text": [
      "✅ Validation completed in 7.53s\n",
      "\n",
      "📊 Epoch 29 Summary:\n",
      "│ Train Loss: 0.0001 | Train Acc: 1.0000\n",
      "│ Val Loss:   0.8376 | Val Acc:   0.8413\n",
      "│ Train Time: 71.03s | Val Time: 7.53s\n",
      "│ Total Epoch Time: 78.56s\n",
      "│ Best Val Loss: 0.6738 (Epoch 3)\n",
      "│ GPU Memory: 1.3GB / 5.0GB\n",
      "================================================================================\n",
      "\n",
      "📈 Epoch 30/50\n",
      "--------------------------------------------------\n",
      "🔄 Training Phase...\n"
     ]
    },
    {
     "name": "stderr",
     "output_type": "stream",
     "text": [
      "Training: 100%|██████████████████████████████| 48/48 [01:10<00:00,  1.47s/it, Loss=0.0001, Acc=1.0000]\n"
     ]
    },
    {
     "name": "stdout",
     "output_type": "stream",
     "text": [
      "✅ Training completed in 70.71s\n",
      "🔍 Validation Phase...\n"
     ]
    },
    {
     "name": "stderr",
     "output_type": "stream",
     "text": [
      "Validation: 100%|██████████████████████████████| 13/13 [00:07<00:00,  1.71it/s, Loss=0.8401, Acc=0.8413]\n"
     ]
    },
    {
     "name": "stdout",
     "output_type": "stream",
     "text": [
      "✅ Validation completed in 7.58s\n",
      "\n",
      "📊 Epoch 30 Summary:\n",
      "│ Train Loss: 0.0001 | Train Acc: 1.0000\n",
      "│ Val Loss:   0.8401 | Val Acc:   0.8413\n",
      "│ Train Time: 70.71s | Val Time: 7.58s\n",
      "│ Total Epoch Time: 78.30s\n",
      "│ Best Val Loss: 0.6738 (Epoch 3)\n",
      "│ GPU Memory: 1.3GB / 5.0GB\n",
      "================================================================================\n",
      "\n",
      "📈 Epoch 31/50\n",
      "--------------------------------------------------\n",
      "🔄 Training Phase...\n"
     ]
    },
    {
     "name": "stderr",
     "output_type": "stream",
     "text": [
      "Training: 100%|██████████████████████████████| 48/48 [01:10<00:00,  1.47s/it, Loss=0.0001, Acc=1.0000]\n"
     ]
    },
    {
     "name": "stdout",
     "output_type": "stream",
     "text": [
      "✅ Training completed in 70.78s\n",
      "🔍 Validation Phase...\n"
     ]
    },
    {
     "name": "stderr",
     "output_type": "stream",
     "text": [
      "Validation: 100%|██████████████████████████████| 13/13 [00:07<00:00,  1.75it/s, Loss=0.8431, Acc=0.8413]\n"
     ]
    },
    {
     "name": "stdout",
     "output_type": "stream",
     "text": [
      "✅ Validation completed in 7.44s\n",
      "\n",
      "📊 Epoch 31 Summary:\n",
      "│ Train Loss: 0.0001 | Train Acc: 1.0000\n",
      "│ Val Loss:   0.8431 | Val Acc:   0.8413\n",
      "│ Train Time: 70.78s | Val Time: 7.44s\n",
      "│ Total Epoch Time: 78.22s\n",
      "│ Best Val Loss: 0.6738 (Epoch 3)\n",
      "│ GPU Memory: 1.3GB / 5.0GB\n",
      "================================================================================\n",
      "\n",
      "📈 Epoch 32/50\n",
      "--------------------------------------------------\n",
      "🔄 Training Phase...\n"
     ]
    },
    {
     "name": "stderr",
     "output_type": "stream",
     "text": [
      "Training: 100%|██████████████████████████████| 48/48 [01:10<00:00,  1.47s/it, Loss=0.0001, Acc=1.0000]\n"
     ]
    },
    {
     "name": "stdout",
     "output_type": "stream",
     "text": [
      "✅ Training completed in 70.36s\n",
      "🔍 Validation Phase...\n"
     ]
    },
    {
     "name": "stderr",
     "output_type": "stream",
     "text": [
      "Validation: 100%|██████████████████████████████| 13/13 [00:07<00:00,  1.72it/s, Loss=0.8471, Acc=0.8413]\n"
     ]
    },
    {
     "name": "stdout",
     "output_type": "stream",
     "text": [
      "✅ Validation completed in 7.55s\n",
      "\n",
      "📊 Epoch 32 Summary:\n",
      "│ Train Loss: 0.0001 | Train Acc: 1.0000\n",
      "│ Val Loss:   0.8471 | Val Acc:   0.8413\n",
      "│ Train Time: 70.36s | Val Time: 7.55s\n",
      "│ Total Epoch Time: 77.91s\n",
      "│ Best Val Loss: 0.6738 (Epoch 3)\n",
      "│ GPU Memory: 1.3GB / 5.0GB\n",
      "================================================================================\n",
      "\n",
      "📈 Epoch 33/50\n",
      "--------------------------------------------------\n",
      "🔄 Training Phase...\n"
     ]
    },
    {
     "name": "stderr",
     "output_type": "stream",
     "text": [
      "Training: 100%|██████████████████████████████| 48/48 [01:10<00:00,  1.47s/it, Loss=0.0001, Acc=1.0000]\n"
     ]
    },
    {
     "name": "stdout",
     "output_type": "stream",
     "text": [
      "✅ Training completed in 70.65s\n",
      "🔍 Validation Phase...\n"
     ]
    },
    {
     "name": "stderr",
     "output_type": "stream",
     "text": [
      "Validation: 100%|██████████████████████████████| 13/13 [00:07<00:00,  1.75it/s, Loss=0.8500, Acc=0.8413]\n"
     ]
    },
    {
     "name": "stdout",
     "output_type": "stream",
     "text": [
      "✅ Validation completed in 7.44s\n",
      "\n",
      "📊 Epoch 33 Summary:\n",
      "│ Train Loss: 0.0001 | Train Acc: 1.0000\n",
      "│ Val Loss:   0.8500 | Val Acc:   0.8413\n",
      "│ Train Time: 70.65s | Val Time: 7.44s\n",
      "│ Total Epoch Time: 78.09s\n",
      "│ Best Val Loss: 0.6738 (Epoch 3)\n",
      "│ GPU Memory: 1.3GB / 5.0GB\n",
      "================================================================================\n",
      "\n",
      "📈 Epoch 34/50\n",
      "--------------------------------------------------\n",
      "🔄 Training Phase...\n"
     ]
    },
    {
     "name": "stderr",
     "output_type": "stream",
     "text": [
      "Training: 100%|██████████████████████████████| 48/48 [01:10<00:00,  1.47s/it, Loss=0.0001, Acc=1.0000]\n"
     ]
    },
    {
     "name": "stdout",
     "output_type": "stream",
     "text": [
      "✅ Training completed in 70.63s\n",
      "🔍 Validation Phase...\n"
     ]
    },
    {
     "name": "stderr",
     "output_type": "stream",
     "text": [
      "Validation: 100%|██████████████████████████████| 13/13 [00:07<00:00,  1.73it/s, Loss=0.8531, Acc=0.8413]\n"
     ]
    },
    {
     "name": "stdout",
     "output_type": "stream",
     "text": [
      "✅ Validation completed in 7.54s\n",
      "\n",
      "📊 Epoch 34 Summary:\n",
      "│ Train Loss: 0.0001 | Train Acc: 1.0000\n",
      "│ Val Loss:   0.8531 | Val Acc:   0.8413\n",
      "│ Train Time: 70.63s | Val Time: 7.54s\n",
      "│ Total Epoch Time: 78.17s\n",
      "│ Best Val Loss: 0.6738 (Epoch 3)\n",
      "│ GPU Memory: 1.3GB / 5.0GB\n",
      "================================================================================\n",
      "\n",
      "📈 Epoch 35/50\n",
      "--------------------------------------------------\n",
      "🔄 Training Phase...\n"
     ]
    },
    {
     "name": "stderr",
     "output_type": "stream",
     "text": [
      "Training: 100%|██████████████████████████████| 48/48 [01:10<00:00,  1.47s/it, Loss=0.0001, Acc=1.0000]\n"
     ]
    },
    {
     "name": "stdout",
     "output_type": "stream",
     "text": [
      "✅ Training completed in 70.64s\n",
      "🔍 Validation Phase...\n"
     ]
    },
    {
     "name": "stderr",
     "output_type": "stream",
     "text": [
      "Validation: 100%|██████████████████████████████| 13/13 [00:07<00:00,  1.72it/s, Loss=0.8567, Acc=0.8438]\n"
     ]
    },
    {
     "name": "stdout",
     "output_type": "stream",
     "text": [
      "✅ Validation completed in 7.56s\n",
      "\n",
      "📊 Epoch 35 Summary:\n",
      "│ Train Loss: 0.0001 | Train Acc: 1.0000\n",
      "│ Val Loss:   0.8567 | Val Acc:   0.8438\n",
      "│ Train Time: 70.64s | Val Time: 7.56s\n",
      "│ Total Epoch Time: 78.21s\n",
      "│ Best Val Loss: 0.6738 (Epoch 3)\n",
      "│ GPU Memory: 1.3GB / 5.0GB\n",
      "================================================================================\n",
      "\n",
      "📈 Epoch 36/50\n",
      "--------------------------------------------------\n",
      "🔄 Training Phase...\n"
     ]
    },
    {
     "name": "stderr",
     "output_type": "stream",
     "text": [
      "Training: 100%|██████████████████████████████| 48/48 [01:10<00:00,  1.48s/it, Loss=0.0001, Acc=1.0000]\n"
     ]
    },
    {
     "name": "stdout",
     "output_type": "stream",
     "text": [
      "✅ Training completed in 70.87s\n",
      "🔍 Validation Phase...\n"
     ]
    },
    {
     "name": "stderr",
     "output_type": "stream",
     "text": [
      "Validation: 100%|██████████████████████████████| 13/13 [00:07<00:00,  1.71it/s, Loss=0.8589, Acc=0.8462]\n"
     ]
    },
    {
     "name": "stdout",
     "output_type": "stream",
     "text": [
      "✅ Validation completed in 7.59s\n",
      "\n",
      "📊 Epoch 36 Summary:\n",
      "│ Train Loss: 0.0001 | Train Acc: 1.0000\n",
      "│ Val Loss:   0.8589 | Val Acc:   0.8462\n",
      "│ Train Time: 70.87s | Val Time: 7.59s\n",
      "│ Total Epoch Time: 78.47s\n",
      "│ Best Val Loss: 0.6738 (Epoch 3)\n",
      "│ GPU Memory: 1.3GB / 5.0GB\n",
      "================================================================================\n",
      "\n",
      "📈 Epoch 37/50\n",
      "--------------------------------------------------\n",
      "🔄 Training Phase...\n"
     ]
    },
    {
     "name": "stderr",
     "output_type": "stream",
     "text": [
      "Training: 100%|██████████████████████████████| 48/48 [01:10<00:00,  1.47s/it, Loss=0.0001, Acc=1.0000]\n"
     ]
    },
    {
     "name": "stdout",
     "output_type": "stream",
     "text": [
      "✅ Training completed in 70.58s\n",
      "🔍 Validation Phase...\n"
     ]
    },
    {
     "name": "stderr",
     "output_type": "stream",
     "text": [
      "Validation: 100%|██████████████████████████████| 13/13 [00:07<00:00,  1.74it/s, Loss=0.8635, Acc=0.8462]\n"
     ]
    },
    {
     "name": "stdout",
     "output_type": "stream",
     "text": [
      "✅ Validation completed in 7.49s\n",
      "\n",
      "📊 Epoch 37 Summary:\n",
      "│ Train Loss: 0.0001 | Train Acc: 1.0000\n",
      "│ Val Loss:   0.8635 | Val Acc:   0.8462\n",
      "│ Train Time: 70.58s | Val Time: 7.49s\n",
      "│ Total Epoch Time: 78.08s\n",
      "│ Best Val Loss: 0.6738 (Epoch 3)\n",
      "│ GPU Memory: 1.3GB / 5.0GB\n",
      "================================================================================\n",
      "\n",
      "📈 Epoch 38/50\n",
      "--------------------------------------------------\n",
      "🔄 Training Phase...\n"
     ]
    },
    {
     "name": "stderr",
     "output_type": "stream",
     "text": [
      "Training: 100%|██████████████████████████████| 48/48 [01:10<00:00,  1.47s/it, Loss=0.0001, Acc=1.0000]\n"
     ]
    },
    {
     "name": "stdout",
     "output_type": "stream",
     "text": [
      "✅ Training completed in 70.45s\n",
      "🔍 Validation Phase...\n"
     ]
    },
    {
     "name": "stderr",
     "output_type": "stream",
     "text": [
      "Validation: 100%|██████████████████████████████| 13/13 [00:07<00:00,  1.74it/s, Loss=0.8645, Acc=0.8462]\n"
     ]
    },
    {
     "name": "stdout",
     "output_type": "stream",
     "text": [
      "✅ Validation completed in 7.46s\n",
      "\n",
      "📊 Epoch 38 Summary:\n",
      "│ Train Loss: 0.0001 | Train Acc: 1.0000\n",
      "│ Val Loss:   0.8645 | Val Acc:   0.8462\n",
      "│ Train Time: 70.45s | Val Time: 7.46s\n",
      "│ Total Epoch Time: 77.92s\n",
      "│ Best Val Loss: 0.6738 (Epoch 3)\n",
      "│ GPU Memory: 1.3GB / 5.0GB\n",
      "================================================================================\n",
      "\n",
      "📈 Epoch 39/50\n",
      "--------------------------------------------------\n",
      "🔄 Training Phase...\n"
     ]
    },
    {
     "name": "stderr",
     "output_type": "stream",
     "text": [
      "Training: 100%|██████████████████████████████| 48/48 [01:10<00:00,  1.47s/it, Loss=0.0001, Acc=1.0000]\n"
     ]
    },
    {
     "name": "stdout",
     "output_type": "stream",
     "text": [
      "✅ Training completed in 70.45s\n",
      "🔍 Validation Phase...\n"
     ]
    },
    {
     "name": "stderr",
     "output_type": "stream",
     "text": [
      "Validation: 100%|██████████████████████████████| 13/13 [00:07<00:00,  1.73it/s, Loss=0.8698, Acc=0.8462]\n"
     ]
    },
    {
     "name": "stdout",
     "output_type": "stream",
     "text": [
      "✅ Validation completed in 7.52s\n",
      "\n",
      "📊 Epoch 39 Summary:\n",
      "│ Train Loss: 0.0001 | Train Acc: 1.0000\n",
      "│ Val Loss:   0.8698 | Val Acc:   0.8462\n",
      "│ Train Time: 70.45s | Val Time: 7.52s\n",
      "│ Total Epoch Time: 77.97s\n",
      "│ Best Val Loss: 0.6738 (Epoch 3)\n",
      "│ GPU Memory: 1.3GB / 5.0GB\n",
      "================================================================================\n",
      "\n",
      "📈 Epoch 40/50\n",
      "--------------------------------------------------\n",
      "🔄 Training Phase...\n"
     ]
    },
    {
     "name": "stderr",
     "output_type": "stream",
     "text": [
      "Training: 100%|██████████████████████████████| 48/48 [01:10<00:00,  1.48s/it, Loss=0.0001, Acc=1.0000]\n"
     ]
    },
    {
     "name": "stdout",
     "output_type": "stream",
     "text": [
      "✅ Training completed in 70.89s\n",
      "🔍 Validation Phase...\n"
     ]
    },
    {
     "name": "stderr",
     "output_type": "stream",
     "text": [
      "Validation: 100%|██████████████████████████████| 13/13 [00:07<00:00,  1.73it/s, Loss=0.8732, Acc=0.8462]\n"
     ]
    },
    {
     "name": "stdout",
     "output_type": "stream",
     "text": [
      "✅ Validation completed in 7.52s\n",
      "\n",
      "📊 Epoch 40 Summary:\n",
      "│ Train Loss: 0.0001 | Train Acc: 1.0000\n",
      "│ Val Loss:   0.8732 | Val Acc:   0.8462\n",
      "│ Train Time: 70.89s | Val Time: 7.52s\n",
      "│ Total Epoch Time: 78.41s\n",
      "│ Best Val Loss: 0.6738 (Epoch 3)\n",
      "│ GPU Memory: 1.3GB / 5.0GB\n",
      "================================================================================\n",
      "\n",
      "📈 Epoch 41/50\n",
      "--------------------------------------------------\n",
      "🔄 Training Phase...\n"
     ]
    },
    {
     "name": "stderr",
     "output_type": "stream",
     "text": [
      "Training: 100%|██████████████████████████████| 48/48 [01:10<00:00,  1.47s/it, Loss=0.0001, Acc=1.0000]\n"
     ]
    },
    {
     "name": "stdout",
     "output_type": "stream",
     "text": [
      "✅ Training completed in 70.68s\n",
      "🔍 Validation Phase...\n"
     ]
    },
    {
     "name": "stderr",
     "output_type": "stream",
     "text": [
      "Validation: 100%|██████████████████████████████| 13/13 [00:07<00:00,  1.75it/s, Loss=0.8739, Acc=0.8462]\n"
     ]
    },
    {
     "name": "stdout",
     "output_type": "stream",
     "text": [
      "✅ Validation completed in 7.44s\n",
      "\n",
      "📊 Epoch 41 Summary:\n",
      "│ Train Loss: 0.0001 | Train Acc: 1.0000\n",
      "│ Val Loss:   0.8739 | Val Acc:   0.8462\n",
      "│ Train Time: 70.68s | Val Time: 7.44s\n",
      "│ Total Epoch Time: 78.13s\n",
      "│ Best Val Loss: 0.6738 (Epoch 3)\n",
      "│ GPU Memory: 1.3GB / 5.0GB\n",
      "================================================================================\n",
      "\n",
      "📈 Epoch 42/50\n",
      "--------------------------------------------------\n",
      "🔄 Training Phase...\n"
     ]
    },
    {
     "name": "stderr",
     "output_type": "stream",
     "text": [
      "Training: 100%|██████████████████████████████| 48/48 [01:10<00:00,  1.47s/it, Loss=0.0001, Acc=1.0000]\n"
     ]
    },
    {
     "name": "stdout",
     "output_type": "stream",
     "text": [
      "✅ Training completed in 70.34s\n",
      "🔍 Validation Phase...\n"
     ]
    },
    {
     "name": "stderr",
     "output_type": "stream",
     "text": [
      "Validation: 100%|██████████████████████████████| 13/13 [00:07<00:00,  1.73it/s, Loss=0.8773, Acc=0.8462]\n"
     ]
    },
    {
     "name": "stdout",
     "output_type": "stream",
     "text": [
      "✅ Validation completed in 7.52s\n",
      "\n",
      "📊 Epoch 42 Summary:\n",
      "│ Train Loss: 0.0001 | Train Acc: 1.0000\n",
      "│ Val Loss:   0.8773 | Val Acc:   0.8462\n",
      "│ Train Time: 70.34s | Val Time: 7.52s\n",
      "│ Total Epoch Time: 77.86s\n",
      "│ Best Val Loss: 0.6738 (Epoch 3)\n",
      "│ GPU Memory: 1.3GB / 5.0GB\n",
      "================================================================================\n",
      "\n",
      "📈 Epoch 43/50\n",
      "--------------------------------------------------\n",
      "🔄 Training Phase...\n"
     ]
    },
    {
     "name": "stderr",
     "output_type": "stream",
     "text": [
      "Training: 100%|██████████████████████████████| 48/48 [01:10<00:00,  1.47s/it, Loss=0.0000, Acc=1.0000]\n"
     ]
    },
    {
     "name": "stdout",
     "output_type": "stream",
     "text": [
      "✅ Training completed in 70.65s\n",
      "🔍 Validation Phase...\n"
     ]
    },
    {
     "name": "stderr",
     "output_type": "stream",
     "text": [
      "Validation: 100%|██████████████████████████████| 13/13 [00:07<00:00,  1.73it/s, Loss=0.8797, Acc=0.8462]\n"
     ]
    },
    {
     "name": "stdout",
     "output_type": "stream",
     "text": [
      "✅ Validation completed in 7.52s\n",
      "\n",
      "📊 Epoch 43 Summary:\n",
      "│ Train Loss: 0.0000 | Train Acc: 1.0000\n",
      "│ Val Loss:   0.8797 | Val Acc:   0.8462\n",
      "│ Train Time: 70.65s | Val Time: 7.52s\n",
      "│ Total Epoch Time: 78.18s\n",
      "│ Best Val Loss: 0.6738 (Epoch 3)\n",
      "│ GPU Memory: 1.3GB / 5.0GB\n",
      "================================================================================\n",
      "\n",
      "📈 Epoch 44/50\n",
      "--------------------------------------------------\n",
      "🔄 Training Phase...\n"
     ]
    },
    {
     "name": "stderr",
     "output_type": "stream",
     "text": [
      "Training: 100%|██████████████████████████████| 48/48 [01:10<00:00,  1.48s/it, Loss=0.0000, Acc=1.0000]\n"
     ]
    },
    {
     "name": "stdout",
     "output_type": "stream",
     "text": [
      "✅ Training completed in 70.90s\n",
      "🔍 Validation Phase...\n"
     ]
    },
    {
     "name": "stderr",
     "output_type": "stream",
     "text": [
      "Validation: 100%|██████████████████████████████| 13/13 [00:07<00:00,  1.71it/s, Loss=0.8827, Acc=0.8462]\n"
     ]
    },
    {
     "name": "stdout",
     "output_type": "stream",
     "text": [
      "✅ Validation completed in 7.60s\n",
      "\n",
      "📊 Epoch 44 Summary:\n",
      "│ Train Loss: 0.0000 | Train Acc: 1.0000\n",
      "│ Val Loss:   0.8827 | Val Acc:   0.8462\n",
      "│ Train Time: 70.90s | Val Time: 7.60s\n",
      "│ Total Epoch Time: 78.50s\n",
      "│ Best Val Loss: 0.6738 (Epoch 3)\n",
      "│ GPU Memory: 1.3GB / 5.0GB\n",
      "================================================================================\n",
      "\n",
      "📈 Epoch 45/50\n",
      "--------------------------------------------------\n",
      "🔄 Training Phase...\n"
     ]
    },
    {
     "name": "stderr",
     "output_type": "stream",
     "text": [
      "Training: 100%|██████████████████████████████| 48/48 [01:10<00:00,  1.47s/it, Loss=0.0000, Acc=1.0000]\n"
     ]
    },
    {
     "name": "stdout",
     "output_type": "stream",
     "text": [
      "✅ Training completed in 70.35s\n",
      "🔍 Validation Phase...\n"
     ]
    },
    {
     "name": "stderr",
     "output_type": "stream",
     "text": [
      "Validation: 100%|██████████████████████████████| 13/13 [00:07<00:00,  1.72it/s, Loss=0.8828, Acc=0.8462]\n"
     ]
    },
    {
     "name": "stdout",
     "output_type": "stream",
     "text": [
      "✅ Validation completed in 7.54s\n",
      "\n",
      "📊 Epoch 45 Summary:\n",
      "│ Train Loss: 0.0000 | Train Acc: 1.0000\n",
      "│ Val Loss:   0.8828 | Val Acc:   0.8462\n",
      "│ Train Time: 70.35s | Val Time: 7.54s\n",
      "│ Total Epoch Time: 77.89s\n",
      "│ Best Val Loss: 0.6738 (Epoch 3)\n",
      "│ GPU Memory: 1.3GB / 5.0GB\n",
      "================================================================================\n",
      "\n",
      "📈 Epoch 46/50\n",
      "--------------------------------------------------\n",
      "🔄 Training Phase...\n"
     ]
    },
    {
     "name": "stderr",
     "output_type": "stream",
     "text": [
      "Training: 100%|██████████████████████████████| 48/48 [01:10<00:00,  1.47s/it, Loss=0.0000, Acc=1.0000]\n"
     ]
    },
    {
     "name": "stdout",
     "output_type": "stream",
     "text": [
      "✅ Training completed in 70.58s\n",
      "🔍 Validation Phase...\n"
     ]
    },
    {
     "name": "stderr",
     "output_type": "stream",
     "text": [
      "Validation: 100%|██████████████████████████████| 13/13 [00:07<00:00,  1.76it/s, Loss=0.8863, Acc=0.8462]\n"
     ]
    },
    {
     "name": "stdout",
     "output_type": "stream",
     "text": [
      "✅ Validation completed in 7.38s\n",
      "\n",
      "📊 Epoch 46 Summary:\n",
      "│ Train Loss: 0.0000 | Train Acc: 1.0000\n",
      "│ Val Loss:   0.8863 | Val Acc:   0.8462\n",
      "│ Train Time: 70.58s | Val Time: 7.38s\n",
      "│ Total Epoch Time: 77.97s\n",
      "│ Best Val Loss: 0.6738 (Epoch 3)\n",
      "│ GPU Memory: 1.3GB / 5.0GB\n",
      "================================================================================\n",
      "\n",
      "📈 Epoch 47/50\n",
      "--------------------------------------------------\n",
      "🔄 Training Phase...\n"
     ]
    },
    {
     "name": "stderr",
     "output_type": "stream",
     "text": [
      "Training: 100%|██████████████████████████████| 48/48 [01:10<00:00,  1.47s/it, Loss=0.0000, Acc=1.0000]\n"
     ]
    },
    {
     "name": "stdout",
     "output_type": "stream",
     "text": [
      "✅ Training completed in 70.54s\n",
      "🔍 Validation Phase...\n"
     ]
    },
    {
     "name": "stderr",
     "output_type": "stream",
     "text": [
      "Validation: 100%|██████████████████████████████| 13/13 [00:07<00:00,  1.75it/s, Loss=0.8884, Acc=0.8438]\n"
     ]
    },
    {
     "name": "stdout",
     "output_type": "stream",
     "text": [
      "✅ Validation completed in 7.45s\n",
      "\n",
      "📊 Epoch 47 Summary:\n",
      "│ Train Loss: 0.0000 | Train Acc: 1.0000\n",
      "│ Val Loss:   0.8884 | Val Acc:   0.8438\n",
      "│ Train Time: 70.54s | Val Time: 7.45s\n",
      "│ Total Epoch Time: 78.00s\n",
      "│ Best Val Loss: 0.6738 (Epoch 3)\n",
      "│ GPU Memory: 1.3GB / 5.0GB\n",
      "================================================================================\n",
      "\n",
      "📈 Epoch 48/50\n",
      "--------------------------------------------------\n",
      "🔄 Training Phase...\n"
     ]
    },
    {
     "name": "stderr",
     "output_type": "stream",
     "text": [
      "Training: 100%|██████████████████████████████| 48/48 [01:10<00:00,  1.47s/it, Loss=0.0000, Acc=1.0000]\n"
     ]
    },
    {
     "name": "stdout",
     "output_type": "stream",
     "text": [
      "✅ Training completed in 70.53s\n",
      "🔍 Validation Phase...\n"
     ]
    },
    {
     "name": "stderr",
     "output_type": "stream",
     "text": [
      "Validation: 100%|██████████████████████████████| 13/13 [00:07<00:00,  1.75it/s, Loss=0.8906, Acc=0.8438]\n"
     ]
    },
    {
     "name": "stdout",
     "output_type": "stream",
     "text": [
      "✅ Validation completed in 7.43s\n",
      "\n",
      "📊 Epoch 48 Summary:\n",
      "│ Train Loss: 0.0000 | Train Acc: 1.0000\n",
      "│ Val Loss:   0.8906 | Val Acc:   0.8438\n",
      "│ Train Time: 70.53s | Val Time: 7.43s\n",
      "│ Total Epoch Time: 77.97s\n",
      "│ Best Val Loss: 0.6738 (Epoch 3)\n",
      "│ GPU Memory: 1.3GB / 5.0GB\n",
      "================================================================================\n",
      "\n",
      "📈 Epoch 49/50\n",
      "--------------------------------------------------\n",
      "🔄 Training Phase...\n"
     ]
    },
    {
     "name": "stderr",
     "output_type": "stream",
     "text": [
      "Training: 100%|██████████████████████████████| 48/48 [01:10<00:00,  1.47s/it, Loss=0.0000, Acc=1.0000]\n"
     ]
    },
    {
     "name": "stdout",
     "output_type": "stream",
     "text": [
      "✅ Training completed in 70.41s\n",
      "🔍 Validation Phase...\n"
     ]
    },
    {
     "name": "stderr",
     "output_type": "stream",
     "text": [
      "Validation: 100%|██████████████████████████████| 13/13 [00:07<00:00,  1.74it/s, Loss=0.8942, Acc=0.8438]\n"
     ]
    },
    {
     "name": "stdout",
     "output_type": "stream",
     "text": [
      "✅ Validation completed in 7.48s\n",
      "\n",
      "📊 Epoch 49 Summary:\n",
      "│ Train Loss: 0.0000 | Train Acc: 1.0000\n",
      "│ Val Loss:   0.8942 | Val Acc:   0.8438\n",
      "│ Train Time: 70.41s | Val Time: 7.48s\n",
      "│ Total Epoch Time: 77.90s\n",
      "│ Best Val Loss: 0.6738 (Epoch 3)\n",
      "│ GPU Memory: 1.3GB / 5.0GB\n",
      "================================================================================\n",
      "\n",
      "📈 Epoch 50/50\n",
      "--------------------------------------------------\n",
      "🔄 Training Phase...\n"
     ]
    },
    {
     "name": "stderr",
     "output_type": "stream",
     "text": [
      "Training: 100%|██████████████████████████████| 48/48 [01:10<00:00,  1.47s/it, Loss=0.0000, Acc=1.0000]\n"
     ]
    },
    {
     "name": "stdout",
     "output_type": "stream",
     "text": [
      "✅ Training completed in 70.63s\n",
      "🔍 Validation Phase...\n"
     ]
    },
    {
     "name": "stderr",
     "output_type": "stream",
     "text": [
      "Validation: 100%|██████████████████████████████| 13/13 [00:07<00:00,  1.76it/s, Loss=0.8945, Acc=0.8462]\n"
     ]
    },
    {
     "name": "stdout",
     "output_type": "stream",
     "text": [
      "✅ Validation completed in 7.37s\n",
      "\n",
      "📊 Epoch 50 Summary:\n",
      "│ Train Loss: 0.0000 | Train Acc: 1.0000\n",
      "│ Val Loss:   0.8945 | Val Acc:   0.8462\n",
      "│ Train Time: 70.63s | Val Time: 7.37s\n",
      "│ Total Epoch Time: 78.01s\n",
      "│ Best Val Loss: 0.6738 (Epoch 3)\n",
      "│ GPU Memory: 1.3GB / 5.0GB\n",
      "================================================================================\n",
      "\n",
      "💾 Best model saved as 'best_cricket_vit_filtered.pth'\n",
      "📊 Best model stats:\n",
      "│ Best Epoch: 3\n",
      "│ Best Val Loss: 0.6738\n",
      "│ Best Val Acc: 0.8413\n",
      "\n",
      "💾 Training history saved to 'cricket_vit_filtered_history_pretrained.csv'\n",
      "\n",
      "🎉 Vision Transformer Fine-tuning Complete!\n",
      "Total Training Time: 3908.43s (65.1 minutes)\n",
      "Average Epoch Time: 78.17s\n",
      "\n",
      "🧪 Loading Best Model for Testing...\n",
      "✅ Best model from epoch 3 loaded successfully!\n"
     ]
    },
    {
     "name": "stderr",
     "output_type": "stream",
     "text": [
      "Testing: 100%|██████████████████████████████| 17/17 [00:12<00:00,  1.36it/s]\n"
     ]
    },
    {
     "name": "stdout",
     "output_type": "stream",
     "text": [
      "✅ Testing completed in 12.54s\n",
      "\n",
      "📋 Classification Report:\n",
      "              precision    recall  f1-score   support\n",
      "\n",
      "        Four       0.00      0.00      0.00        40\n",
      "     Leg_Bye       0.88      0.70      0.78        40\n",
      "     No_ball       0.58      0.79      0.67       104\n",
      "         Out       0.79      0.94      0.86        48\n",
      "         Six       0.88      0.92      0.90       152\n",
      "        Wide       0.85      0.78      0.82       136\n",
      "\n",
      "    accuracy                           0.77       520\n",
      "   macro avg       0.66      0.69      0.67       520\n",
      "weighted avg       0.74      0.77      0.75       520\n",
      "\n",
      "🎯 Test Accuracy: 0.7712\n",
      "\n",
      "📊 Cricket Classification Performance (Vision Transformer - Filtered Data):\n",
      "│ Best Validation Loss: 0.6738 (Epoch 3)\n",
      "│ Best Validation Acc:  0.8413 (Epoch 3)\n",
      "│ Final Test Accuracy:  0.7712\n",
      "│ Val-Test Gap:         0.0702\n",
      "│ Data Filtering: Excluded 'random_occlusion' folder\n",
      "\n",
      "💾 Files saved:\n",
      "│ best_cricket_vit_filtered.pth - Best model weights\n",
      "│ cricket_vit_filtered_history.csv - Training metrics\n"
     ]
    },
    {
     "data": {
      "image/png": "[encoded data removed]",
      "text/plain": [
       "<Figure size 1000x800 with 2 Axes>"
      ]
     },
     "metadata": {},
     "output_type": "display_data"
    },
    {
     "data": {
      "image/png": "[encoded data removed]",
      "text/plain": [
       "<Figure size 1500x500 with 3 Axes>"
      ]
     },
     "metadata": {},
     "output_type": "display_data"
    },
    {
     "name": "stdout",
     "output_type": "stream",
     "text": [
      "\n",
      "⏰ Final Timing Summary:\n",
      "│ Total Training: 3908.43s (65.1 min)\n",
      "│ Average per Epoch: 78.17s\n",
      "│ Testing Time: 12.54s\n",
      "│ Total Runtime: 3920.97s\n",
      "\n",
      "🔍 Vision Transformer + Filtered Data Benefits:\n",
      "│ Clean dataset: 'random_occlusion' folder excluded\n",
      "│ Self-attention: Global context understanding\n",
      "│ Patch-based: 16x16 patches processed as sequences\n",
      "│ Transformer architecture: State-of-the-art NLP applied to vision\n",
      "│ ImageNet-21k pretrained: High-quality feature representations\n",
      "│ Long-range dependencies: Better than CNNs for complex relationships\n"
     ]
    }
   ],
   "source": [
    "# -----------------------------\n",
    "# 3. Training Setup\n",
    "# -----------------------------\n",
    "criterion = nn.CrossEntropyLoss()\n",
    "optimizer = optim.Adam(model.parameters(), lr=1e-4)  # Lower LR for fine-tuning\n",
    "\n",
    "print(f\"\\n📋 Training Configuration:\")\n",
    "print(f\"│ Model: Vision Transformer ViT-B/16 (pretrained)\")\n",
    "print(f\"│ Optimizer: Adam (lr={optimizer.param_groups[0]['lr']})\")\n",
    "print(f\"│ Loss Function: CrossEntropyLoss\")\n",
    "print(f\"│ Batch Size: 32\")\n",
    "print(f\"│ Device: {device}\")\n",
    "print(f\"│ Data: Filtered (excluding '{ignore_folder}')\")\n",
    "\n",
    "# -----------------------------\n",
    "# 4. Training Loop with Model Saving\n",
    "# -----------------------------\n",
    "train_losses, val_losses = [], []\n",
    "train_accs, val_accs = [], []\n",
    "epoch_times = []\n",
    "epochs = 50\n",
    "\n",
    "# Initialize best model tracking (using val_loss for fine-tuning)\n",
    "best_val_loss = float('inf')\n",
    "best_model_state = None\n",
    "best_epoch = 0\n",
    "best_val_acc = 0.0\n",
    "\n",
    "print(f\"\\n🚀 Starting Vision Transformer Fine-tuning for {epochs} epochs...\")\n",
    "print(\"=\" * 80)\n",
    "total_start_time = time.time()\n",
    "\n",
    "for epoch in range(epochs):\n",
    "    epoch_start_time = time.time()\n",
    "    \n",
    "    print(f\"\\n📈 Epoch {epoch+1}/{epochs}\")\n",
    "    print(\"-\" * 50)\n",
    "    \n",
    "    # Training Phase\n",
    "    print(\"🔄 Training Phase...\")\n",
    "    model.train()\n",
    "    running_loss, correct, total = 0, 0, 0\n",
    "    \n",
    "    train_pbar = tqdm(train_loader, desc=\"Training\", \n",
    "                     bar_format='{l_bar}{bar:30}{r_bar}{bar:-30b}')\n",
    "    \n",
    "    train_phase_start = time.time()\n",
    "    \n",
    "    for batch_idx, (imgs, labels) in enumerate(train_pbar):\n",
    "        imgs, labels = imgs.to(device), labels.to(device)\n",
    "        \n",
    "        optimizer.zero_grad()\n",
    "        outputs = model(imgs)\n",
    "        loss = criterion(outputs, labels)\n",
    "        loss.backward()\n",
    "        optimizer.step()\n",
    "        \n",
    "        running_loss += loss.item()\n",
    "        _, preds = torch.max(outputs, 1)\n",
    "        correct += (preds == labels).sum().item()\n",
    "        total += labels.size(0)\n",
    "        \n",
    "        current_acc = correct / total\n",
    "        train_pbar.set_postfix({\n",
    "            'Loss': f'{running_loss/(batch_idx+1):.4f}',\n",
    "            'Acc': f'{current_acc:.4f}'\n",
    "        })\n",
    "        \n",
    "        if device.type == 'cuda' and batch_idx % 10 == 0:\n",
    "            gpu_memory = torch.cuda.memory_allocated() / 1024**3\n",
    "            train_pbar.set_postfix({\n",
    "                'Loss': f'{running_loss/(batch_idx+1):.4f}',\n",
    "                'Acc': f'{current_acc:.4f}',\n",
    "                'GPU': f'{gpu_memory:.1f}GB'\n",
    "            })\n",
    "    \n",
    "    train_phase_time = time.time() - train_phase_start\n",
    "    train_loss = running_loss / len(train_loader)\n",
    "    train_acc = correct / total\n",
    "    train_losses.append(train_loss)\n",
    "    train_accs.append(train_acc)\n",
    "    \n",
    "    print(f\"✅ Training completed in {train_phase_time:.2f}s\")\n",
    "    \n",
    "    # Validation Phase\n",
    "    print(\"🔍 Validation Phase...\")\n",
    "    model.eval()\n",
    "    running_loss, correct, total = 0, 0, 0\n",
    "    \n",
    "    val_phase_start = time.time()\n",
    "    val_pbar = tqdm(val_loader, desc=\"Validation\", \n",
    "                   bar_format='{l_bar}{bar:30}{r_bar}{bar:-30b}')\n",
    "    \n",
    "    with torch.no_grad():\n",
    "        for batch_idx, (imgs, labels) in enumerate(val_pbar):\n",
    "            imgs, labels = imgs.to(device), labels.to(device)\n",
    "            outputs = model(imgs)\n",
    "            loss = criterion(outputs, labels)\n",
    "            \n",
    "            running_loss += loss.item()\n",
    "            _, preds = torch.max(outputs, 1)\n",
    "            correct += (preds == labels).sum().item()\n",
    "            total += labels.size(0)\n",
    "            \n",
    "            current_acc = correct / total\n",
    "            val_pbar.set_postfix({\n",
    "                'Loss': f'{running_loss/(batch_idx+1):.4f}',\n",
    "                'Acc': f'{current_acc:.4f}'\n",
    "            })\n",
    "    \n",
    "    val_phase_time = time.time() - val_phase_start\n",
    "    val_loss = running_loss / len(val_loader)\n",
    "    val_acc = correct / total\n",
    "    val_losses.append(val_loss)\n",
    "    val_accs.append(val_acc)\n",
    "    \n",
    "    print(f\"✅ Validation completed in {val_phase_time:.2f}s\")\n",
    "    \n",
    "    # Check if this is the best model (using val_loss for fine-tuning)\n",
    "    is_best = val_loss < best_val_loss\n",
    "    if is_best:\n",
    "        best_val_loss = val_loss\n",
    "        best_val_acc = val_acc\n",
    "        best_epoch = epoch + 1\n",
    "        best_model_state = model.state_dict().copy()\n",
    "        print(f\"🌟 New best model found! Validation Loss: {val_loss:.4f}\")\n",
    "    \n",
    "    # Epoch Summary\n",
    "    epoch_time = time.time() - epoch_start_time\n",
    "    epoch_times.append(epoch_time)\n",
    "    \n",
    "    print(f\"\\n📊 Epoch {epoch+1} Summary:\")\n",
    "    print(f\"│ Train Loss: {train_loss:.4f} | Train Acc: {train_acc:.4f}\")\n",
    "    print(f\"│ Val Loss:   {val_loss:.4f} | Val Acc:   {val_acc:.4f}\")\n",
    "    print(f\"│ Train Time: {train_phase_time:.2f}s | Val Time: {val_phase_time:.2f}s\")\n",
    "    print(f\"│ Total Epoch Time: {epoch_time:.2f}s\")\n",
    "    print(f\"│ Best Val Loss: {best_val_loss:.4f} (Epoch {best_epoch})\")\n",
    "    \n",
    "    if device.type == 'cuda':\n",
    "        print(f\"│ GPU Memory: {torch.cuda.memory_allocated()/1024**3:.1f}GB / {torch.cuda.memory_reserved()/1024**3:.1f}GB\")\n",
    "    \n",
    "    print(\"=\" * 80)\n",
    "\n",
    "total_training_time = time.time() - total_start_time\n",
    "\n",
    "# Save the best model\n",
    "if best_model_state is not None:\n",
    "    torch.save(best_model_state, 'best_cricket_vit_filtered_pretrained.pth')\n",
    "    print(f\"\\n💾 Best model saved as 'best_cricket_vit_filtered.pth'\")\n",
    "    print(f\"📊 Best model stats:\")\n",
    "    print(f\"│ Best Epoch: {best_epoch}\")\n",
    "    print(f\"│ Best Val Loss: {best_val_loss:.4f}\")\n",
    "    print(f\"│ Best Val Acc: {best_val_acc:.4f}\")\n",
    "\n",
    "# Save training history\n",
    "history_data = {\n",
    "    'epoch': list(range(1, epochs+1)),\n",
    "    'train_loss': train_losses,\n",
    "    'val_loss': val_losses,\n",
    "    'train_acc': train_accs,\n",
    "    'val_acc': val_accs,\n",
    "    'epoch_time': epoch_times\n",
    "}\n",
    "\n",
    "history_df = pd.DataFrame(history_data)\n",
    "history_df.to_csv('cricket_vit_filtered_history_pretrained.csv', index=False)\n",
    "print(\"\\n💾 Training history saved to 'cricket_vit_filtered_history_pretrained.csv'\")\n",
    "\n",
    "print(f\"\\n🎉 Vision Transformer Fine-tuning Complete!\")\n",
    "print(f\"Total Training Time: {total_training_time:.2f}s ({total_training_time/60:.1f} minutes)\")\n",
    "print(f\"Average Epoch Time: {np.mean(epoch_times):.2f}s\")\n",
    "\n",
    "# -----------------------------\n",
    "# 5. Load Best Model and Test\n",
    "# -----------------------------\n",
    "print(f\"\\n🧪 Loading Best Model for Testing...\")\n",
    "if best_model_state is not None:\n",
    "    model.load_state_dict(best_model_state)\n",
    "    print(f\"✅ Best model from epoch {best_epoch} loaded successfully!\")\n",
    "\n",
    "test_start_time = time.time()\n",
    "y_true, y_pred = [], []\n",
    "model.eval()\n",
    "test_pbar = tqdm(test_loader, desc=\"Testing\", \n",
    "                bar_format='{l_bar}{bar:30}{r_bar}{bar:-30b}')\n",
    "\n",
    "with torch.no_grad():\n",
    "    for imgs, labels in test_pbar:\n",
    "        imgs, labels = imgs.to(device), labels.to(device)\n",
    "        outputs = model(imgs)\n",
    "        _, preds = torch.max(outputs, 1)\n",
    "        y_true.extend(labels.cpu().numpy())\n",
    "        y_pred.extend(preds.cpu().numpy())\n",
    "\n",
    "test_time = time.time() - test_start_time\n",
    "test_accuracy = accuracy_score(y_true, y_pred)\n",
    "\n",
    "print(f\"✅ Testing completed in {test_time:.2f}s\")\n",
    "print(\"\\n📋 Classification Report:\")\n",
    "print(classification_report(y_true, y_pred, target_names=classes))\n",
    "print(f\"🎯 Test Accuracy: {test_accuracy:.4f}\")\n",
    "\n",
    "# Performance Summary\n",
    "print(f\"\\n📊 Cricket Classification Performance (Vision Transformer - Filtered Data):\")\n",
    "print(f\"│ Best Validation Loss: {best_val_loss:.4f} (Epoch {best_epoch})\")\n",
    "print(f\"│ Best Validation Acc:  {best_val_acc:.4f} (Epoch {best_epoch})\")\n",
    "print(f\"│ Final Test Accuracy:  {test_accuracy:.4f}\")\n",
    "print(f\"│ Val-Test Gap:         {abs(best_val_acc - test_accuracy):.4f}\")\n",
    "print(f\"│ Data Filtering: Excluded '{ignore_folder}' folder\")\n",
    "\n",
    "print(f\"\\n💾 Files saved:\")\n",
    "print(f\"│ best_cricket_vit_filtered.pth - Best model weights\")\n",
    "print(f\"│ cricket_vit_filtered_history.csv - Training metrics\")\n",
    "\n",
    "# -----------------------------\n",
    "# 6. Visualizations\n",
    "# -----------------------------\n",
    "# Confusion Matrix\n",
    "cm = confusion_matrix(y_true, y_pred)\n",
    "plt.figure(figsize=(10, 8))\n",
    "sns.heatmap(cm, annot=True, fmt=\"d\", cmap=\"Blues\", \n",
    "            xticklabels=classes, yticklabels=classes)\n",
    "plt.xlabel(\"Predicted\")\n",
    "plt.ylabel(\"True\")\n",
    "plt.title(f\"Cricket Classification - Vision Transformer (Filtered Data) - Epoch {best_epoch}\")\n",
    "plt.tight_layout()\n",
    "plt.show()\n",
    "\n",
    "# Training Curves\n",
    "plt.figure(figsize=(15, 5))\n",
    "\n",
    "# Loss Plot\n",
    "plt.subplot(1, 3, 1)\n",
    "plt.plot(range(1, epochs+1), train_losses, 'b-', label=\"Train Loss\", marker='o', linewidth=2)\n",
    "plt.plot(range(1, epochs+1), val_losses, 'r-', label=\"Val Loss\", marker='s', linewidth=2)\n",
    "plt.axvline(x=best_epoch, color='green', linestyle='--', alpha=0.7, label=f'Best (Epoch {best_epoch})')\n",
    "plt.scatter([best_epoch], [best_val_loss], color='green', s=100, zorder=5)\n",
    "plt.legend()\n",
    "plt.title(\"Vision Transformer Loss over Epochs (Filtered)\")\n",
    "plt.xlabel(\"Epoch\")\n",
    "plt.ylabel(\"Loss\")\n",
    "plt.grid(True, alpha=0.3)\n",
    "\n",
    "# Accuracy Plot\n",
    "plt.subplot(1, 3, 2)\n",
    "plt.plot(range(1, epochs+1), train_accs, 'b-', label=\"Train Accuracy\", marker='o', linewidth=2)\n",
    "plt.plot(range(1, epochs+1), val_accs, 'r-', label=\"Val Accuracy\", marker='s', linewidth=2)\n",
    "plt.axvline(x=best_epoch, color='green', linestyle='--', alpha=0.7, label=f'Best (Epoch {best_epoch})')\n",
    "plt.scatter([best_epoch], [best_val_acc], color='green', s=100, zorder=5)\n",
    "plt.legend()\n",
    "plt.title(\"Vision Transformer Accuracy over Epochs (Filtered)\")\n",
    "plt.xlabel(\"Epoch\")\n",
    "plt.ylabel(\"Accuracy\")\n",
    "plt.grid(True, alpha=0.3)\n",
    "\n",
    "# Final Performance\n",
    "plt.subplot(1, 3, 3)\n",
    "metrics = ['Best Val Acc', 'Test Acc']\n",
    "values = [best_val_acc, test_accuracy]\n",
    "colors = ['orange', 'green']\n",
    "bars = plt.bar(metrics, values, color=colors, alpha=0.7)\n",
    "plt.title(\"Vision Transformer Final Performance (Filtered)\")\n",
    "plt.ylabel(\"Accuracy\")\n",
    "plt.ylim(0, 1)\n",
    "plt.grid(True, alpha=0.3)\n",
    "for bar, val in zip(bars, values):\n",
    "    plt.text(bar.get_x() + bar.get_width()/2, val + 0.01, \n",
    "             f'{val:.4f}', ha='center', va='bottom')\n",
    "\n",
    "plt.tight_layout()\n",
    "plt.show()\n",
    "\n",
    "# Final Summary\n",
    "print(f\"\\n⏰ Final Timing Summary:\")\n",
    "print(f\"│ Total Training: {total_training_time:.2f}s ({total_training_time/60:.1f} min)\")\n",
    "print(f\"│ Average per Epoch: {np.mean(epoch_times):.2f}s\")\n",
    "print(f\"│ Testing Time: {test_time:.2f}s\")\n",
    "print(f\"│ Total Runtime: {total_training_time + test_time:.2f}s\")\n",
    "\n",
    "# Model and Data Info\n",
    "print(f\"\\n🔍 Vision Transformer + Filtered Data Benefits:\")\n",
    "print(f\"│ Clean dataset: '{ignore_folder}' folder excluded\")\n",
    "print(f\"│ Self-attention: Global context understanding\")\n",
    "print(f\"│ Patch-based: 16x16 patches processed as sequences\")\n",
    "print(f\"│ Transformer architecture: State-of-the-art NLP applied to vision\")\n",
    "print(f\"│ ImageNet-21k pretrained: High-quality feature representations\")\n",
    "print(f\"│ Long-range dependencies: Better than CNNs for complex relationships\")"
   ]
  }
 ],
 "metadata": {
  "kaggle": {
   "accelerator": "nvidiaTeslaT4",
   "dataSources": [
    {
     "datasetId": 7735666,
     "sourceId": 12275446,
     "sourceType": "datasetVersion"
    }
   ],
   "dockerImageVersionId": 31090,
   "isGpuEnabled": true,
   "isInternetEnabled": true,
   "language": "python",
   "sourceType": "notebook"
  },
  "kernelspec": {
   "display_name": "Python 3",
   "language": "python",
   "name": "python3"
  },
  "language_info": {
   "codemirror_mode": {
    "name": "ipython",
    "version": 3
   },
   "file_extension": ".py",
   "mimetype": "text/x-python",
   "name": "python",
   "nbconvert_exporter": "python",
   "pygments_lexer": "ipython3",
   "version": "3.11.13"
  },
  "papermill": {
   "default_parameters": {},
   "duration": 3947.54417,
   "end_time": "2025-09-08T15:49:46.845823",
   "environment_variables": {},
   "exception": null,
   "input_path": "__notebook__.ipynb",
   "output_path": "__notebook__.ipynb",
   "parameters": {},
   "start_time": "2025-09-08T14:43:59.301653",
   "version": "2.6.0"
  }
 },
 "nbformat": 4,
 "nbformat_minor": 5
}
