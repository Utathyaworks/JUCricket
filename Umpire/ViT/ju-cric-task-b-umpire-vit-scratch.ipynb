{
 "cells": [
  {
   "cell_type": "code",
   "execution_count": 1,
   "id": "32102d24",
   "metadata": {
    "_cell_guid": "b1076dfc-b9ad-4769-8c92-a6c4dae69d19",
    "_uuid": "8f2839f25d086af736a60e9eeb907d3b93b6e0e5",
    "execution": {
     "iopub.execute_input": "2025-09-08T14:42:46.331898Z",
     "iopub.status.busy": "2025-09-08T14:42:46.331704Z",
     "iopub.status.idle": "2025-09-08T14:42:58.685843Z",
     "shell.execute_reply": "2025-09-08T14:42:58.685043Z"
    },
    "papermill": {
     "duration": 12.359543,
     "end_time": "2025-09-08T14:42:58.687447",
     "exception": false,
     "start_time": "2025-09-08T14:42:46.327904",
     "status": "completed"
    },
    "tags": []
   },
   "outputs": [
    {
     "name": "stdout",
     "output_type": "stream",
     "text": [
      "Classes: ['Four', 'Leg_Bye', 'No_ball', 'Out', 'Six', 'Wide']\n"
     ]
    }
   ],
   "source": [
    "import torch\n",
    "import torch.nn as nn\n",
    "import torch.nn.functional as F\n",
    "from torch.utils.data import DataLoader\n",
    "from torchvision import datasets, transforms\n",
    "from torchsummary import summary\n",
    "import matplotlib.pyplot as plt\n",
    "from sklearn.metrics import classification_report, confusion_matrix, accuracy_score\n",
    "import seaborn as sns\n",
    "import numpy as np\n",
    "\n",
    "# -----------------------------\n",
    "# 1. Data Preprocessing\n",
    "# -----------------------------\n",
    "data_dir = \"/kaggle/input/ju-cricket/Cricket_Dataset_final/Task_B\"\n",
    "\n",
    "transform = transforms.Compose([\n",
    "    transforms.Resize((224, 224)),\n",
    "    transforms.ToTensor(),\n",
    "    transforms.Normalize([0.485, 0.456, 0.406], \n",
    "                         [0.229, 0.224, 0.225])\n",
    "])\n",
    "\n",
    "train_ds = datasets.ImageFolder(f\"{data_dir}/train/Umpire\", transform=transform)\n",
    "val_ds   = datasets.ImageFolder(f\"{data_dir}/val/Umpire\", transform=transform)\n",
    "test_ds  = datasets.ImageFolder(f\"{data_dir}/test/Umpire\", transform=transform)\n",
    "\n",
    "train_loader = DataLoader(train_ds, batch_size=32, shuffle=True)\n",
    "val_loader   = DataLoader(val_ds, batch_size=32, shuffle=False)\n",
    "test_loader  = DataLoader(test_ds, batch_size=32, shuffle=False)\n",
    "\n",
    "classes = train_ds.classes\n",
    "print(\"Classes:\", classes)"
   ]
  },
  {
   "cell_type": "code",
   "execution_count": 2,
   "id": "a03cf4a2",
   "metadata": {
    "execution": {
     "iopub.execute_input": "2025-09-08T14:42:58.696388Z",
     "iopub.status.busy": "2025-09-08T14:42:58.695968Z",
     "iopub.status.idle": "2025-09-08T14:42:58.700886Z",
     "shell.execute_reply": "2025-09-08T14:42:58.700238Z"
    },
    "papermill": {
     "duration": 0.009711,
     "end_time": "2025-09-08T14:42:58.701907",
     "exception": false,
     "start_time": "2025-09-08T14:42:58.692196",
     "status": "completed"
    },
    "tags": []
   },
   "outputs": [
    {
     "name": "stdout",
     "output_type": "stream",
     "text": [
      "Total training images: 1728\n",
      "Total validation images: 468\n",
      "Total test images: 585\n",
      "Total images in dataset: 2781\n"
     ]
    }
   ],
   "source": [
    "print(\"Total training images:\", len(train_ds))\n",
    "print(\"Total validation images:\", len(val_ds))\n",
    "print(\"Total test images:\", len(test_ds))\n",
    "\n",
    "total_images = len(train_ds) + len(val_ds) + len(test_ds)\n",
    "print(\"Total images in dataset:\", total_images)"
   ]
  },
  {
   "cell_type": "code",
   "execution_count": 3,
   "id": "1918dc96",
   "metadata": {
    "execution": {
     "iopub.execute_input": "2025-09-08T14:42:58.707734Z",
     "iopub.status.busy": "2025-09-08T14:42:58.707218Z",
     "iopub.status.idle": "2025-09-08T14:42:58.713915Z",
     "shell.execute_reply": "2025-09-08T14:42:58.713328Z"
    },
    "papermill": {
     "duration": 0.01059,
     "end_time": "2025-09-08T14:42:58.714888",
     "exception": false,
     "start_time": "2025-09-08T14:42:58.704298",
     "status": "completed"
    },
    "tags": []
   },
   "outputs": [
    {
     "name": "stdout",
     "output_type": "stream",
     "text": [
      "Training images (excluding 'random_occlusion'): 1536\n",
      "Validation images (excluding 'random_occlusion'): 416\n",
      "Test images (excluding 'random_occlusion'): 520\n",
      "Total images (excluding 'random_occlusion'): 2472\n"
     ]
    }
   ],
   "source": [
    "ignore_folder = \"random_occlusion\"\n",
    "\n",
    "def count_images_ignore_folder(dataset, ignore_folder):\n",
    "    count = 0\n",
    "    for img_path, label in dataset.samples:\n",
    "        # Skip if the image path contains the ignore_folder\n",
    "        if ignore_folder not in img_path.split(\"/\"):\n",
    "            count += 1\n",
    "    return count\n",
    "\n",
    "train_count = count_images_ignore_folder(train_ds, ignore_folder)\n",
    "val_count   = count_images_ignore_folder(val_ds, ignore_folder)\n",
    "test_count  = count_images_ignore_folder(test_ds, ignore_folder)\n",
    "\n",
    "total_count = train_count + val_count + test_count\n",
    "\n",
    "print(\"Training images (excluding '{}'): {}\".format(ignore_folder, train_count))\n",
    "print(\"Validation images (excluding '{}'): {}\".format(ignore_folder, val_count))\n",
    "print(\"Test images (excluding '{}'): {}\".format(ignore_folder, test_count))\n",
    "print(\"Total images (excluding '{}'): {}\".format(ignore_folder, total_count))"
   ]
  },
  {
   "cell_type": "code",
   "execution_count": 4,
   "id": "07adb075",
   "metadata": {
    "execution": {
     "iopub.execute_input": "2025-09-08T14:42:58.720660Z",
     "iopub.status.busy": "2025-09-08T14:42:58.720322Z",
     "iopub.status.idle": "2025-09-08T14:42:58.727742Z",
     "shell.execute_reply": "2025-09-08T14:42:58.727182Z"
    },
    "papermill": {
     "duration": 0.011466,
     "end_time": "2025-09-08T14:42:58.728823",
     "exception": false,
     "start_time": "2025-09-08T14:42:58.717357",
     "status": "completed"
    },
    "tags": []
   },
   "outputs": [
    {
     "name": "stdout",
     "output_type": "stream",
     "text": [
      "Training folders considered: {'original', 'chromatic_aberration', 'gaussian_noise', 'blur', 'random_occlusion', 'motion_blur', 'low_resolution', 'lens_flare', 'dirty_lens'}\n",
      "Validation folders considered: {'original', 'chromatic_aberration', 'gaussian_noise', 'blur', 'random_occlusion', 'motion_blur', 'low_resolution', 'lens_flare', 'dirty_lens'}\n",
      "Test folders considered: {'original', 'chromatic_aberration', 'gaussian_noise', 'blur', 'random_occlusion', 'motion_blur', 'low_resolution', 'lens_flare', 'dirty_lens'}\n"
     ]
    }
   ],
   "source": [
    "ignore_folder = \"random_occlusionw\"\n",
    "\n",
    "def get_included_folders(dataset, ignore_folder):\n",
    "    included = set()\n",
    "    for img_path, label in dataset.samples:\n",
    "        # Split the path into parts and ignore if ignore_folder is in the path\n",
    "        if ignore_folder not in img_path.split(\"/\"):\n",
    "            # The folder name just above the image (or the class folder)\n",
    "            folder_name = img_path.split(\"/\")[-2]\n",
    "            included.add(folder_name)\n",
    "    return included\n",
    "\n",
    "train_folders = get_included_folders(train_ds, ignore_folder)\n",
    "val_folders   = get_included_folders(val_ds, ignore_folder)\n",
    "test_folders  = get_included_folders(test_ds, ignore_folder)\n",
    "\n",
    "print(\"Training folders considered:\", train_folders)\n",
    "print(\"Validation folders considered:\", val_folders)\n",
    "print(\"Test folders considered:\", test_folders)"
   ]
  },
  {
   "cell_type": "code",
   "execution_count": 5,
   "id": "1a778a07",
   "metadata": {
    "execution": {
     "iopub.execute_input": "2025-09-08T14:42:58.734495Z",
     "iopub.status.busy": "2025-09-08T14:42:58.734304Z",
     "iopub.status.idle": "2025-09-08T14:42:58.847486Z",
     "shell.execute_reply": "2025-09-08T14:42:58.846955Z"
    },
    "papermill": {
     "duration": 0.11721,
     "end_time": "2025-09-08T14:42:58.848523",
     "exception": false,
     "start_time": "2025-09-08T14:42:58.731313",
     "status": "completed"
    },
    "tags": []
   },
   "outputs": [
    {
     "name": "stdout",
     "output_type": "stream",
     "text": [
      "Classes: ['Four', 'Leg_Bye', 'No_ball', 'Out', 'Six', 'Wide']\n",
      "Final Training images: 1536\n",
      "Final Validation images: 416\n",
      "Final Test images: 520\n",
      "Total images after filtering: 2472\n"
     ]
    }
   ],
   "source": [
    "ignore_folder = \"random_occlusion\"\n",
    "\n",
    "def filter_samples(dataset, ignore_folder):\n",
    "    # Keep only samples where ignore_folder is NOT in the path\n",
    "    filtered_samples = [s for s in dataset.samples if ignore_folder not in s[0].split(\"/\")]\n",
    "    dataset.samples = filtered_samples\n",
    "    dataset.targets = [s[1] for s in filtered_samples]  # Update targets accordingly\n",
    "    return dataset\n",
    "\n",
    "# Create original datasets\n",
    "train_ds = datasets.ImageFolder(f\"{data_dir}/train/Umpire\", transform=transform)\n",
    "val_ds   = datasets.ImageFolder(f\"{data_dir}/val/Umpire\", transform=transform)\n",
    "test_ds  = datasets.ImageFolder(f\"{data_dir}/test/Umpire\", transform=transform)\n",
    "\n",
    "# Filter out 'random_occlusion' folder\n",
    "train_ds = filter_samples(train_ds, ignore_folder)\n",
    "val_ds   = filter_samples(val_ds, ignore_folder)\n",
    "test_ds  = filter_samples(test_ds, ignore_folder)\n",
    "\n",
    "# DataLoaders\n",
    "train_loader = DataLoader(train_ds, batch_size=32, shuffle=True)\n",
    "val_loader   = DataLoader(val_ds, batch_size=32, shuffle=False)\n",
    "test_loader  = DataLoader(test_ds, batch_size=32, shuffle=False)\n",
    "\n",
    "# Classes (will remain the same)\n",
    "classes = train_ds.classes\n",
    "print(\"Classes:\", classes)\n",
    "\n",
    "# Show counts\n",
    "print(\"Final Training images:\", len(train_ds))\n",
    "print(\"Final Validation images:\", len(val_ds))\n",
    "print(\"Final Test images:\", len(test_ds))\n",
    "print(\"Total images after filtering:\", len(train_ds) + len(val_ds) + len(test_ds))"
   ]
  },
  {
   "cell_type": "code",
   "execution_count": 6,
   "id": "d7dc7a81",
   "metadata": {
    "execution": {
     "iopub.execute_input": "2025-09-08T14:42:58.854347Z",
     "iopub.status.busy": "2025-09-08T14:42:58.853991Z",
     "iopub.status.idle": "2025-09-08T14:42:58.861287Z",
     "shell.execute_reply": "2025-09-08T14:42:58.860585Z"
    },
    "papermill": {
     "duration": 0.011283,
     "end_time": "2025-09-08T14:42:58.862376",
     "exception": false,
     "start_time": "2025-09-08T14:42:58.851093",
     "status": "completed"
    },
    "tags": []
   },
   "outputs": [
    {
     "name": "stdout",
     "output_type": "stream",
     "text": [
      "Training folders considered: {'original', 'chromatic_aberration', 'gaussian_noise', 'blur', 'motion_blur', 'low_resolution', 'lens_flare', 'dirty_lens'}\n",
      "Validation folders considered: {'original', 'chromatic_aberration', 'gaussian_noise', 'blur', 'motion_blur', 'low_resolution', 'lens_flare', 'dirty_lens'}\n",
      "Test folders considered: {'original', 'chromatic_aberration', 'gaussian_noise', 'blur', 'motion_blur', 'low_resolution', 'lens_flare', 'dirty_lens'}\n"
     ]
    }
   ],
   "source": [
    "ignore_folder = \"random_occlusion\"\n",
    "\n",
    "def get_included_folders(dataset, ignore_folder):\n",
    "    included = set()\n",
    "    for img_path, label in dataset.samples:\n",
    "        # Split the path into parts and ignore if ignore_folder is in the path\n",
    "        if ignore_folder not in img_path.split(\"/\"):\n",
    "            # The folder name just above the image (or the class folder)\n",
    "            folder_name = img_path.split(\"/\")[-2]\n",
    "            included.add(folder_name)\n",
    "    return included\n",
    "\n",
    "train_folders = get_included_folders(train_ds, ignore_folder)\n",
    "val_folders   = get_included_folders(val_ds, ignore_folder)\n",
    "test_folders  = get_included_folders(test_ds, ignore_folder)\n",
    "\n",
    "print(\"Training folders considered:\", train_folders)\n",
    "print(\"Validation folders considered:\", val_folders)\n",
    "print(\"Test folders considered:\", test_folders)"
   ]
  },
  {
   "cell_type": "code",
   "execution_count": 7,
   "id": "fceb1bf4",
   "metadata": {
    "execution": {
     "iopub.execute_input": "2025-09-08T14:42:58.868181Z",
     "iopub.status.busy": "2025-09-08T14:42:58.867989Z",
     "iopub.status.idle": "2025-09-08T14:42:58.885842Z",
     "shell.execute_reply": "2025-09-08T14:42:58.885219Z"
    },
    "papermill": {
     "duration": 0.02204,
     "end_time": "2025-09-08T14:42:58.886898",
     "exception": false,
     "start_time": "2025-09-08T14:42:58.864858",
     "status": "completed"
    },
    "tags": []
   },
   "outputs": [],
   "source": [
    "# -----------------------------\n",
    "# 2. Define Vision Transformer (ViT) Model from Scratch\n",
    "# -----------------------------\n",
    "import torch\n",
    "import torch.nn as nn\n",
    "import torch.nn.functional as F\n",
    "import numpy as np\n",
    "import matplotlib.pyplot as plt\n",
    "import seaborn as sns\n",
    "from torchsummary import summary\n",
    "from sklearn.metrics import accuracy_score, classification_report, confusion_matrix\n",
    "import pandas as pd\n",
    "from tqdm import tqdm\n",
    "import time\n",
    "import math\n",
    "\n",
    "class PatchEmbedding(nn.Module):\n",
    "    \"\"\"Patch Embedding Layer - Convert image to patches and embed them\"\"\"\n",
    "    def __init__(self, img_size=224, patch_size=16, in_channels=3, embed_dim=768):\n",
    "        super().__init__()\n",
    "        self.img_size = img_size\n",
    "        self.patch_size = patch_size\n",
    "        self.n_patches = (img_size // patch_size) ** 2\n",
    "        \n",
    "        # Use Conv2d to create patch embeddings\n",
    "        self.proj = nn.Conv2d(in_channels, embed_dim, kernel_size=patch_size, stride=patch_size)\n",
    "        \n",
    "    def forward(self, x):\n",
    "        # x shape: (B, C, H, W)\n",
    "        x = self.proj(x)  # (B, embed_dim, H', W') where H' = H/patch_size, W' = W/patch_size\n",
    "        x = x.flatten(2)  # (B, embed_dim, n_patches)\n",
    "        x = x.transpose(1, 2)  # (B, n_patches, embed_dim)\n",
    "        return x\n",
    "\n",
    "class MultiHeadAttention(nn.Module):\n",
    "    \"\"\"Multi-Head Self-Attention mechanism\"\"\"\n",
    "    def __init__(self, embed_dim=768, n_heads=12, dropout=0.1):\n",
    "        super().__init__()\n",
    "        self.embed_dim = embed_dim\n",
    "        self.n_heads = n_heads\n",
    "        self.head_dim = embed_dim // n_heads\n",
    "        assert self.head_dim * n_heads == embed_dim, \"embed_dim must be divisible by n_heads\"\n",
    "        \n",
    "        self.qkv = nn.Linear(embed_dim, embed_dim * 3)\n",
    "        self.proj = nn.Linear(embed_dim, embed_dim)\n",
    "        self.dropout = nn.Dropout(dropout)\n",
    "        \n",
    "    def forward(self, x):\n",
    "        B, N, C = x.shape\n",
    "        \n",
    "        # Generate Q, K, V\n",
    "        qkv = self.qkv(x).reshape(B, N, 3, self.n_heads, self.head_dim).permute(2, 0, 3, 1, 4)\n",
    "        q, k, v = qkv[0], qkv[1], qkv[2]  # (B, n_heads, N, head_dim)\n",
    "        \n",
    "        # Attention\n",
    "        attn = (q @ k.transpose(-2, -1)) * (self.head_dim ** -0.5)\n",
    "        attn = F.softmax(attn, dim=-1)\n",
    "        attn = self.dropout(attn)\n",
    "        \n",
    "        # Apply attention to values\n",
    "        x = (attn @ v).transpose(1, 2).reshape(B, N, C)\n",
    "        x = self.proj(x)\n",
    "        x = self.dropout(x)\n",
    "        \n",
    "        return x\n",
    "\n",
    "class MLP(nn.Module):\n",
    "    \"\"\"Multi-Layer Perceptron (Feed-Forward Network)\"\"\"\n",
    "    def __init__(self, in_features, hidden_features=None, out_features=None, dropout=0.1):\n",
    "        super().__init__()\n",
    "        out_features = out_features or in_features\n",
    "        hidden_features = hidden_features or in_features\n",
    "        \n",
    "        self.fc1 = nn.Linear(in_features, hidden_features)\n",
    "        self.act = nn.GELU()\n",
    "        self.fc2 = nn.Linear(hidden_features, out_features)\n",
    "        self.dropout = nn.Dropout(dropout)\n",
    "        \n",
    "    def forward(self, x):\n",
    "        x = self.fc1(x)\n",
    "        x = self.act(x)\n",
    "        x = self.dropout(x)\n",
    "        x = self.fc2(x)\n",
    "        x = self.dropout(x)\n",
    "        return x\n",
    "\n",
    "class TransformerBlock(nn.Module):\n",
    "    \"\"\"Transformer Encoder Block\"\"\"\n",
    "    def __init__(self, embed_dim=768, n_heads=12, mlp_ratio=4.0, dropout=0.1):\n",
    "        super().__init__()\n",
    "        self.norm1 = nn.LayerNorm(embed_dim)\n",
    "        self.attn = MultiHeadAttention(embed_dim, n_heads, dropout)\n",
    "        self.norm2 = nn.LayerNorm(embed_dim)\n",
    "        mlp_hidden_dim = int(embed_dim * mlp_ratio)\n",
    "        self.mlp = MLP(embed_dim, mlp_hidden_dim, dropout=dropout)\n",
    "        \n",
    "    def forward(self, x):\n",
    "        # Pre-norm architecture (Layer Norm before attention and MLP)\n",
    "        x = x + self.attn(self.norm1(x))\n",
    "        x = x + self.mlp(self.norm2(x))\n",
    "        return x\n",
    "\n",
    "class MyVisionTransformer(nn.Module):\n",
    "    \"\"\"Vision Transformer (ViT) Implementation from Scratch\"\"\"\n",
    "    def __init__(self, img_size=224, patch_size=16, in_channels=3, num_classes=4, \n",
    "                 embed_dim=768, depth=12, n_heads=12, mlp_ratio=4.0, dropout=0.1, \n",
    "                 emb_dropout=0.1):\n",
    "        super().__init__()\n",
    "        self.num_classes = num_classes\n",
    "        self.num_tokens = 1  # CLS token\n",
    "        self.embed_dim = embed_dim\n",
    "        \n",
    "        # Patch embedding\n",
    "        self.patch_embed = PatchEmbedding(img_size, patch_size, in_channels, embed_dim)\n",
    "        num_patches = self.patch_embed.n_patches\n",
    "        \n",
    "        # CLS token and positional embeddings\n",
    "        self.cls_token = nn.Parameter(torch.zeros(1, 1, embed_dim))\n",
    "        self.pos_embed = nn.Parameter(torch.zeros(1, num_patches + self.num_tokens, embed_dim))\n",
    "        self.pos_drop = nn.Dropout(emb_dropout)\n",
    "        \n",
    "        # Transformer blocks\n",
    "        self.blocks = nn.ModuleList([\n",
    "            TransformerBlock(embed_dim, n_heads, mlp_ratio, dropout)\n",
    "            for _ in range(depth)\n",
    "        ])\n",
    "        \n",
    "        # Classification head\n",
    "        self.norm = nn.LayerNorm(embed_dim)\n",
    "        self.head = nn.Linear(embed_dim, num_classes) if num_classes > 0 else nn.Identity()\n",
    "        \n",
    "        # Initialize weights\n",
    "        self._init_weights()\n",
    "        \n",
    "    def _init_weights(self):\n",
    "        \"\"\"Initialize weights\"\"\"\n",
    "        # Initialize positional embeddings\n",
    "        nn.init.trunc_normal_(self.pos_embed, std=0.02)\n",
    "        nn.init.trunc_normal_(self.cls_token, std=0.02)\n",
    "        \n",
    "        # Initialize other weights\n",
    "        for m in self.modules():\n",
    "            if isinstance(m, nn.Linear):\n",
    "                nn.init.trunc_normal_(m.weight, std=0.02)\n",
    "                if m.bias is not None:\n",
    "                    nn.init.constant_(m.bias, 0)\n",
    "            elif isinstance(m, nn.LayerNorm):\n",
    "                nn.init.constant_(m.bias, 0)\n",
    "                nn.init.constant_(m.weight, 1.0)\n",
    "            elif isinstance(m, nn.Conv2d):\n",
    "                nn.init.trunc_normal_(m.weight, std=0.02)\n",
    "                if m.bias is not None:\n",
    "                    nn.init.constant_(m.bias, 0)\n",
    "                    \n",
    "    def forward(self, x):\n",
    "        B = x.shape[0]\n",
    "        \n",
    "        # Create patch embeddings\n",
    "        x = self.patch_embed(x)  # (B, n_patches, embed_dim)\n",
    "        \n",
    "        # Add CLS token\n",
    "        cls_tokens = self.cls_token.expand(B, -1, -1)  # (B, 1, embed_dim)\n",
    "        x = torch.cat((cls_tokens, x), dim=1)  # (B, n_patches + 1, embed_dim)\n",
    "        \n",
    "        # Add positional embeddings\n",
    "        x = x + self.pos_embed\n",
    "        x = self.pos_drop(x)\n",
    "        \n",
    "        # Pass through transformer blocks\n",
    "        for block in self.blocks:\n",
    "            x = block(x)\n",
    "        \n",
    "        # Final layer norm and classification\n",
    "        x = self.norm(x)\n",
    "        \n",
    "        # Use CLS token for classification\n",
    "        cls_token_final = x[:, 0]  # (B, embed_dim)\n",
    "        x = self.head(cls_token_final)  # (B, num_classes)\n",
    "        \n",
    "        return x"
   ]
  },
  {
   "cell_type": "code",
   "execution_count": 8,
   "id": "7c04af50",
   "metadata": {
    "execution": {
     "iopub.execute_input": "2025-09-08T14:42:58.892756Z",
     "iopub.status.busy": "2025-09-08T14:42:58.892513Z",
     "iopub.status.idle": "2025-09-08T14:43:01.214721Z",
     "shell.execute_reply": "2025-09-08T14:43:01.214003Z"
    },
    "papermill": {
     "duration": 2.326674,
     "end_time": "2025-09-08T14:43:01.216128",
     "exception": false,
     "start_time": "2025-09-08T14:42:58.889454",
     "status": "completed"
    },
    "tags": []
   },
   "outputs": [
    {
     "name": "stdout",
     "output_type": "stream",
     "text": [
      "Vision Transformer (ViT) Model Summary:\n",
      "----------------------------------------------------------------\n",
      "        Layer (type)               Output Shape         Param #\n",
      "================================================================\n",
      "            Conv2d-1          [-1, 768, 14, 14]         590,592\n",
      "    PatchEmbedding-2             [-1, 196, 768]               0\n",
      "           Dropout-3             [-1, 197, 768]               0\n",
      "         LayerNorm-4             [-1, 197, 768]           1,536\n",
      "            Linear-5            [-1, 197, 2304]       1,771,776\n",
      "           Dropout-6         [-1, 12, 197, 197]               0\n",
      "            Linear-7             [-1, 197, 768]         590,592\n",
      "           Dropout-8             [-1, 197, 768]               0\n",
      "MultiHeadAttention-9             [-1, 197, 768]               0\n",
      "        LayerNorm-10             [-1, 197, 768]           1,536\n",
      "           Linear-11            [-1, 197, 3072]       2,362,368\n",
      "             GELU-12            [-1, 197, 3072]               0\n",
      "          Dropout-13            [-1, 197, 3072]               0\n",
      "           Linear-14             [-1, 197, 768]       2,360,064\n",
      "          Dropout-15             [-1, 197, 768]               0\n",
      "              MLP-16             [-1, 197, 768]               0\n",
      " TransformerBlock-17             [-1, 197, 768]               0\n",
      "        LayerNorm-18             [-1, 197, 768]           1,536\n",
      "           Linear-19            [-1, 197, 2304]       1,771,776\n",
      "          Dropout-20         [-1, 12, 197, 197]               0\n",
      "           Linear-21             [-1, 197, 768]         590,592\n",
      "          Dropout-22             [-1, 197, 768]               0\n",
      "MultiHeadAttention-23             [-1, 197, 768]               0\n",
      "        LayerNorm-24             [-1, 197, 768]           1,536\n",
      "           Linear-25            [-1, 197, 3072]       2,362,368\n",
      "             GELU-26            [-1, 197, 3072]               0\n",
      "          Dropout-27            [-1, 197, 3072]               0\n",
      "           Linear-28             [-1, 197, 768]       2,360,064\n",
      "          Dropout-29             [-1, 197, 768]               0\n",
      "              MLP-30             [-1, 197, 768]               0\n",
      " TransformerBlock-31             [-1, 197, 768]               0\n",
      "        LayerNorm-32             [-1, 197, 768]           1,536\n",
      "           Linear-33            [-1, 197, 2304]       1,771,776\n",
      "          Dropout-34         [-1, 12, 197, 197]               0\n",
      "           Linear-35             [-1, 197, 768]         590,592\n",
      "          Dropout-36             [-1, 197, 768]               0\n",
      "MultiHeadAttention-37             [-1, 197, 768]               0\n",
      "        LayerNorm-38             [-1, 197, 768]           1,536\n",
      "           Linear-39            [-1, 197, 3072]       2,362,368\n",
      "             GELU-40            [-1, 197, 3072]               0\n",
      "          Dropout-41            [-1, 197, 3072]               0\n",
      "           Linear-42             [-1, 197, 768]       2,360,064\n",
      "          Dropout-43             [-1, 197, 768]               0\n",
      "              MLP-44             [-1, 197, 768]               0\n",
      " TransformerBlock-45             [-1, 197, 768]               0\n",
      "        LayerNorm-46             [-1, 197, 768]           1,536\n",
      "           Linear-47            [-1, 197, 2304]       1,771,776\n",
      "          Dropout-48         [-1, 12, 197, 197]               0\n",
      "           Linear-49             [-1, 197, 768]         590,592\n",
      "          Dropout-50             [-1, 197, 768]               0\n",
      "MultiHeadAttention-51             [-1, 197, 768]               0\n",
      "        LayerNorm-52             [-1, 197, 768]           1,536\n",
      "           Linear-53            [-1, 197, 3072]       2,362,368\n",
      "             GELU-54            [-1, 197, 3072]               0\n",
      "          Dropout-55            [-1, 197, 3072]               0\n",
      "           Linear-56             [-1, 197, 768]       2,360,064\n",
      "          Dropout-57             [-1, 197, 768]               0\n",
      "              MLP-58             [-1, 197, 768]               0\n",
      " TransformerBlock-59             [-1, 197, 768]               0\n",
      "        LayerNorm-60             [-1, 197, 768]           1,536\n",
      "           Linear-61            [-1, 197, 2304]       1,771,776\n",
      "          Dropout-62         [-1, 12, 197, 197]               0\n",
      "           Linear-63             [-1, 197, 768]         590,592\n",
      "          Dropout-64             [-1, 197, 768]               0\n",
      "MultiHeadAttention-65             [-1, 197, 768]               0\n",
      "        LayerNorm-66             [-1, 197, 768]           1,536\n",
      "           Linear-67            [-1, 197, 3072]       2,362,368\n",
      "             GELU-68            [-1, 197, 3072]               0\n",
      "          Dropout-69            [-1, 197, 3072]               0\n",
      "           Linear-70             [-1, 197, 768]       2,360,064\n",
      "          Dropout-71             [-1, 197, 768]               0\n",
      "              MLP-72             [-1, 197, 768]               0\n",
      " TransformerBlock-73             [-1, 197, 768]               0\n",
      "        LayerNorm-74             [-1, 197, 768]           1,536\n",
      "           Linear-75            [-1, 197, 2304]       1,771,776\n",
      "          Dropout-76         [-1, 12, 197, 197]               0\n",
      "           Linear-77             [-1, 197, 768]         590,592\n",
      "          Dropout-78             [-1, 197, 768]               0\n",
      "MultiHeadAttention-79             [-1, 197, 768]               0\n",
      "        LayerNorm-80             [-1, 197, 768]           1,536\n",
      "           Linear-81            [-1, 197, 3072]       2,362,368\n",
      "             GELU-82            [-1, 197, 3072]               0\n",
      "          Dropout-83            [-1, 197, 3072]               0\n",
      "           Linear-84             [-1, 197, 768]       2,360,064\n",
      "          Dropout-85             [-1, 197, 768]               0\n",
      "              MLP-86             [-1, 197, 768]               0\n",
      " TransformerBlock-87             [-1, 197, 768]               0\n",
      "        LayerNorm-88             [-1, 197, 768]           1,536\n",
      "           Linear-89            [-1, 197, 2304]       1,771,776\n",
      "          Dropout-90         [-1, 12, 197, 197]               0\n",
      "           Linear-91             [-1, 197, 768]         590,592\n",
      "          Dropout-92             [-1, 197, 768]               0\n",
      "MultiHeadAttention-93             [-1, 197, 768]               0\n",
      "        LayerNorm-94             [-1, 197, 768]           1,536\n",
      "           Linear-95            [-1, 197, 3072]       2,362,368\n",
      "             GELU-96            [-1, 197, 3072]               0\n",
      "          Dropout-97            [-1, 197, 3072]               0\n",
      "           Linear-98             [-1, 197, 768]       2,360,064\n",
      "          Dropout-99             [-1, 197, 768]               0\n",
      "             MLP-100             [-1, 197, 768]               0\n",
      "TransformerBlock-101             [-1, 197, 768]               0\n",
      "       LayerNorm-102             [-1, 197, 768]           1,536\n",
      "          Linear-103            [-1, 197, 2304]       1,771,776\n",
      "         Dropout-104         [-1, 12, 197, 197]               0\n",
      "          Linear-105             [-1, 197, 768]         590,592\n",
      "         Dropout-106             [-1, 197, 768]               0\n",
      "MultiHeadAttention-107             [-1, 197, 768]               0\n",
      "       LayerNorm-108             [-1, 197, 768]           1,536\n",
      "          Linear-109            [-1, 197, 3072]       2,362,368\n",
      "            GELU-110            [-1, 197, 3072]               0\n",
      "         Dropout-111            [-1, 197, 3072]               0\n",
      "          Linear-112             [-1, 197, 768]       2,360,064\n",
      "         Dropout-113             [-1, 197, 768]               0\n",
      "             MLP-114             [-1, 197, 768]               0\n",
      "TransformerBlock-115             [-1, 197, 768]               0\n",
      "       LayerNorm-116             [-1, 197, 768]           1,536\n",
      "          Linear-117            [-1, 197, 2304]       1,771,776\n",
      "         Dropout-118         [-1, 12, 197, 197]               0\n",
      "          Linear-119             [-1, 197, 768]         590,592\n",
      "         Dropout-120             [-1, 197, 768]               0\n",
      "MultiHeadAttention-121             [-1, 197, 768]               0\n",
      "       LayerNorm-122             [-1, 197, 768]           1,536\n",
      "          Linear-123            [-1, 197, 3072]       2,362,368\n",
      "            GELU-124            [-1, 197, 3072]               0\n",
      "         Dropout-125            [-1, 197, 3072]               0\n",
      "          Linear-126             [-1, 197, 768]       2,360,064\n",
      "         Dropout-127             [-1, 197, 768]               0\n",
      "             MLP-128             [-1, 197, 768]               0\n",
      "TransformerBlock-129             [-1, 197, 768]               0\n",
      "       LayerNorm-130             [-1, 197, 768]           1,536\n",
      "          Linear-131            [-1, 197, 2304]       1,771,776\n",
      "         Dropout-132         [-1, 12, 197, 197]               0\n",
      "          Linear-133             [-1, 197, 768]         590,592\n",
      "         Dropout-134             [-1, 197, 768]               0\n",
      "MultiHeadAttention-135             [-1, 197, 768]               0\n",
      "       LayerNorm-136             [-1, 197, 768]           1,536\n",
      "          Linear-137            [-1, 197, 3072]       2,362,368\n",
      "            GELU-138            [-1, 197, 3072]               0\n",
      "         Dropout-139            [-1, 197, 3072]               0\n",
      "          Linear-140             [-1, 197, 768]       2,360,064\n",
      "         Dropout-141             [-1, 197, 768]               0\n",
      "             MLP-142             [-1, 197, 768]               0\n",
      "TransformerBlock-143             [-1, 197, 768]               0\n",
      "       LayerNorm-144             [-1, 197, 768]           1,536\n",
      "          Linear-145            [-1, 197, 2304]       1,771,776\n",
      "         Dropout-146         [-1, 12, 197, 197]               0\n",
      "          Linear-147             [-1, 197, 768]         590,592\n",
      "         Dropout-148             [-1, 197, 768]               0\n",
      "MultiHeadAttention-149             [-1, 197, 768]               0\n",
      "       LayerNorm-150             [-1, 197, 768]           1,536\n",
      "          Linear-151            [-1, 197, 3072]       2,362,368\n",
      "            GELU-152            [-1, 197, 3072]               0\n",
      "         Dropout-153            [-1, 197, 3072]               0\n",
      "          Linear-154             [-1, 197, 768]       2,360,064\n",
      "         Dropout-155             [-1, 197, 768]               0\n",
      "             MLP-156             [-1, 197, 768]               0\n",
      "TransformerBlock-157             [-1, 197, 768]               0\n",
      "       LayerNorm-158             [-1, 197, 768]           1,536\n",
      "          Linear-159            [-1, 197, 2304]       1,771,776\n",
      "         Dropout-160         [-1, 12, 197, 197]               0\n",
      "          Linear-161             [-1, 197, 768]         590,592\n",
      "         Dropout-162             [-1, 197, 768]               0\n",
      "MultiHeadAttention-163             [-1, 197, 768]               0\n",
      "       LayerNorm-164             [-1, 197, 768]           1,536\n",
      "          Linear-165            [-1, 197, 3072]       2,362,368\n",
      "            GELU-166            [-1, 197, 3072]               0\n",
      "         Dropout-167            [-1, 197, 3072]               0\n",
      "          Linear-168             [-1, 197, 768]       2,360,064\n",
      "         Dropout-169             [-1, 197, 768]               0\n",
      "             MLP-170             [-1, 197, 768]               0\n",
      "TransformerBlock-171             [-1, 197, 768]               0\n",
      "       LayerNorm-172             [-1, 197, 768]           1,536\n",
      "          Linear-173                    [-1, 6]           4,614\n",
      "================================================================\n",
      "Total params: 85,651,206\n",
      "Trainable params: 85,651,206\n",
      "Non-trainable params: 0\n",
      "----------------------------------------------------------------\n",
      "Input size (MB): 0.57\n",
      "Forward/backward pass size (MB): 379.68\n",
      "Params size (MB): 326.73\n",
      "Estimated Total Size (MB): 706.99\n",
      "----------------------------------------------------------------\n"
     ]
    }
   ],
   "source": [
    "# -----------------------------\n",
    "# 3. Training Setup\n",
    "# -----------------------------\n",
    "device = torch.device(\"cuda\" if torch.cuda.is_available() else \"cpu\")\n",
    "\n",
    "# ViT-Base configuration\n",
    "model = MyVisionTransformer(\n",
    "    img_size=224,\n",
    "    patch_size=16,\n",
    "    in_channels=3,\n",
    "    num_classes=len(classes),\n",
    "    embed_dim=768,\n",
    "    depth=12,\n",
    "    n_heads=12,\n",
    "    mlp_ratio=4.0,\n",
    "    dropout=0.1,\n",
    "    emb_dropout=0.1\n",
    ").to(device)\n",
    "\n",
    "criterion = nn.CrossEntropyLoss()\n",
    "optimizer = torch.optim.Adam(model.parameters(), lr=0.0001, weight_decay=0.05)  # Lower LR for ViT\n",
    "\n",
    "print(\"Vision Transformer (ViT) Model Summary:\")\n",
    "try:\n",
    "    summary(model, (3, 224, 224))\n",
    "except:\n",
    "    print(\"Model summary generation failed - this is normal for complex architectures\")\n",
    "    print(f\"Model created successfully with {sum(p.numel() for p in model.parameters()):,} parameters\")"
   ]
  },
  {
   "cell_type": "code",
   "execution_count": 9,
   "id": "64263973",
   "metadata": {
    "execution": {
     "iopub.execute_input": "2025-09-08T14:43:01.223651Z",
     "iopub.status.busy": "2025-09-08T14:43:01.223257Z",
     "iopub.status.idle": "2025-09-08T15:41:49.744392Z",
     "shell.execute_reply": "2025-09-08T15:41:49.743730Z"
    },
    "papermill": {
     "duration": 3528.528315,
     "end_time": "2025-09-08T15:41:49.747838",
     "exception": false,
     "start_time": "2025-09-08T14:43:01.219523",
     "status": "completed"
    },
    "tags": []
   },
   "outputs": [
    {
     "name": "stdout",
     "output_type": "stream",
     "text": [
      "\n",
      "🚀 Starting Vision Transformer Training for 50 epochs...\n",
      "================================================================================\n",
      "\n",
      "📈 Epoch 1/50\n",
      "--------------------------------------------------\n",
      "🔄 Training Phase...\n"
     ]
    },
    {
     "name": "stderr",
     "output_type": "stream",
     "text": [
      "Training: 100%|██████████████████████████████| 48/48 [01:06<00:00,  1.40s/it, Loss=1.6697, Acc=0.3086]\n"
     ]
    },
    {
     "name": "stdout",
     "output_type": "stream",
     "text": [
      "✅ Training completed in 66.98s\n",
      "🔍 Validation Phase...\n"
     ]
    },
    {
     "name": "stderr",
     "output_type": "stream",
     "text": [
      "Validation: 100%|██████████████████████████████| 13/13 [00:08<00:00,  1.52it/s, Loss=2.0559, Acc=0.2812]\n"
     ]
    },
    {
     "name": "stdout",
     "output_type": "stream",
     "text": [
      "✅ Validation completed in 8.53s\n",
      "🌟 New best Vision Transformer model found! Validation Accuracy: 0.2812\n",
      "\n",
      "📊 Epoch 1 Summary:\n",
      "│ Train Loss: 1.6697 | Train Acc: 0.3086\n",
      "│ Val Loss:   2.0559 | Val Acc:   0.2812\n",
      "│ Train Time: 66.98s | Val Time: 8.53s\n",
      "│ Total Epoch Time: 75.51s\n",
      "│ Best Val Acc: 0.2812 (Epoch 1)\n",
      "│ GPU Memory: 1.3GB / 6.7GB\n",
      "================================================================================\n",
      "\n",
      "📈 Epoch 2/50\n",
      "--------------------------------------------------\n",
      "🔄 Training Phase...\n"
     ]
    },
    {
     "name": "stderr",
     "output_type": "stream",
     "text": [
      "Training: 100%|██████████████████████████████| 48/48 [01:03<00:00,  1.32s/it, Loss=1.6352, Acc=0.3275]\n"
     ]
    },
    {
     "name": "stdout",
     "output_type": "stream",
     "text": [
      "✅ Training completed in 63.42s\n",
      "🔍 Validation Phase...\n"
     ]
    },
    {
     "name": "stderr",
     "output_type": "stream",
     "text": [
      "Validation: 100%|██████████████████████████████| 13/13 [00:06<00:00,  1.88it/s, Loss=1.7576, Acc=0.3558]\n"
     ]
    },
    {
     "name": "stdout",
     "output_type": "stream",
     "text": [
      "✅ Validation completed in 6.90s\n",
      "🌟 New best Vision Transformer model found! Validation Accuracy: 0.3558\n",
      "\n",
      "📊 Epoch 2 Summary:\n",
      "│ Train Loss: 1.6352 | Train Acc: 0.3275\n",
      "│ Val Loss:   1.7576 | Val Acc:   0.3558\n",
      "│ Train Time: 63.42s | Val Time: 6.90s\n",
      "│ Total Epoch Time: 70.33s\n",
      "│ Best Val Acc: 0.3558 (Epoch 2)\n",
      "│ GPU Memory: 1.3GB / 6.7GB\n",
      "================================================================================\n",
      "\n",
      "📈 Epoch 3/50\n",
      "--------------------------------------------------\n",
      "🔄 Training Phase...\n"
     ]
    },
    {
     "name": "stderr",
     "output_type": "stream",
     "text": [
      "Training: 100%|██████████████████████████████| 48/48 [01:03<00:00,  1.32s/it, Loss=1.6336, Acc=0.3516]\n"
     ]
    },
    {
     "name": "stdout",
     "output_type": "stream",
     "text": [
      "✅ Training completed in 63.46s\n",
      "🔍 Validation Phase...\n"
     ]
    },
    {
     "name": "stderr",
     "output_type": "stream",
     "text": [
      "Validation: 100%|██████████████████████████████| 13/13 [00:07<00:00,  1.86it/s, Loss=1.8957, Acc=0.3221]\n"
     ]
    },
    {
     "name": "stdout",
     "output_type": "stream",
     "text": [
      "✅ Validation completed in 7.01s\n",
      "\n",
      "📊 Epoch 3 Summary:\n",
      "│ Train Loss: 1.6336 | Train Acc: 0.3516\n",
      "│ Val Loss:   1.8957 | Val Acc:   0.3221\n",
      "│ Train Time: 63.46s | Val Time: 7.01s\n",
      "│ Total Epoch Time: 70.46s\n",
      "│ Best Val Acc: 0.3558 (Epoch 2)\n",
      "│ GPU Memory: 1.3GB / 6.7GB\n",
      "================================================================================\n",
      "\n",
      "📈 Epoch 4/50\n",
      "--------------------------------------------------\n",
      "🔄 Training Phase...\n"
     ]
    },
    {
     "name": "stderr",
     "output_type": "stream",
     "text": [
      "Training: 100%|██████████████████████████████| 48/48 [01:03<00:00,  1.31s/it, Loss=1.6568, Acc=0.3132]\n"
     ]
    },
    {
     "name": "stdout",
     "output_type": "stream",
     "text": [
      "✅ Training completed in 63.07s\n",
      "🔍 Validation Phase...\n"
     ]
    },
    {
     "name": "stderr",
     "output_type": "stream",
     "text": [
      "Validation: 100%|██████████████████████████████| 13/13 [00:06<00:00,  1.87it/s, Loss=1.5994, Acc=0.4062]\n"
     ]
    },
    {
     "name": "stdout",
     "output_type": "stream",
     "text": [
      "✅ Validation completed in 6.94s\n",
      "🌟 New best Vision Transformer model found! Validation Accuracy: 0.4062\n",
      "\n",
      "📊 Epoch 4 Summary:\n",
      "│ Train Loss: 1.6568 | Train Acc: 0.3132\n",
      "│ Val Loss:   1.5994 | Val Acc:   0.4062\n",
      "│ Train Time: 63.07s | Val Time: 6.94s\n",
      "│ Total Epoch Time: 70.02s\n",
      "│ Best Val Acc: 0.4062 (Epoch 4)\n",
      "│ GPU Memory: 1.3GB / 6.7GB\n",
      "================================================================================\n",
      "\n",
      "📈 Epoch 5/50\n",
      "--------------------------------------------------\n",
      "🔄 Training Phase...\n"
     ]
    },
    {
     "name": "stderr",
     "output_type": "stream",
     "text": [
      "Training: 100%|██████████████████████████████| 48/48 [01:03<00:00,  1.32s/it, Loss=1.6067, Acc=0.3307]\n"
     ]
    },
    {
     "name": "stdout",
     "output_type": "stream",
     "text": [
      "✅ Training completed in 63.16s\n",
      "🔍 Validation Phase...\n"
     ]
    },
    {
     "name": "stderr",
     "output_type": "stream",
     "text": [
      "Validation: 100%|██████████████████████████████| 13/13 [00:07<00:00,  1.85it/s, Loss=1.6119, Acc=0.3438]\n"
     ]
    },
    {
     "name": "stdout",
     "output_type": "stream",
     "text": [
      "✅ Validation completed in 7.03s\n",
      "\n",
      "📊 Epoch 5 Summary:\n",
      "│ Train Loss: 1.6067 | Train Acc: 0.3307\n",
      "│ Val Loss:   1.6119 | Val Acc:   0.3438\n",
      "│ Train Time: 63.16s | Val Time: 7.03s\n",
      "│ Total Epoch Time: 70.19s\n",
      "│ Best Val Acc: 0.4062 (Epoch 4)\n",
      "│ GPU Memory: 1.3GB / 6.7GB\n",
      "================================================================================\n",
      "\n",
      "📈 Epoch 6/50\n",
      "--------------------------------------------------\n",
      "🔄 Training Phase...\n"
     ]
    },
    {
     "name": "stderr",
     "output_type": "stream",
     "text": [
      "Training: 100%|██████████████████████████████| 48/48 [01:03<00:00,  1.32s/it, Loss=1.6367, Acc=0.3314]\n"
     ]
    },
    {
     "name": "stdout",
     "output_type": "stream",
     "text": [
      "✅ Training completed in 63.18s\n",
      "🔍 Validation Phase...\n"
     ]
    },
    {
     "name": "stderr",
     "output_type": "stream",
     "text": [
      "Validation: 100%|██████████████████████████████| 13/13 [00:07<00:00,  1.82it/s, Loss=1.7218, Acc=0.2981]\n"
     ]
    },
    {
     "name": "stdout",
     "output_type": "stream",
     "text": [
      "✅ Validation completed in 7.15s\n",
      "\n",
      "📊 Epoch 6 Summary:\n",
      "│ Train Loss: 1.6367 | Train Acc: 0.3314\n",
      "│ Val Loss:   1.7218 | Val Acc:   0.2981\n",
      "│ Train Time: 63.18s | Val Time: 7.15s\n",
      "│ Total Epoch Time: 70.33s\n",
      "│ Best Val Acc: 0.4062 (Epoch 4)\n",
      "│ GPU Memory: 1.3GB / 6.7GB\n",
      "================================================================================\n",
      "\n",
      "📈 Epoch 7/50\n",
      "--------------------------------------------------\n",
      "🔄 Training Phase...\n"
     ]
    },
    {
     "name": "stderr",
     "output_type": "stream",
     "text": [
      "Training: 100%|██████████████████████████████| 48/48 [01:03<00:00,  1.31s/it, Loss=1.6378, Acc=0.3255]\n"
     ]
    },
    {
     "name": "stdout",
     "output_type": "stream",
     "text": [
      "✅ Training completed in 63.08s\n",
      "🔍 Validation Phase...\n"
     ]
    },
    {
     "name": "stderr",
     "output_type": "stream",
     "text": [
      "Validation: 100%|██████████████████████████████| 13/13 [00:06<00:00,  1.87it/s, Loss=1.6351, Acc=0.3462]\n"
     ]
    },
    {
     "name": "stdout",
     "output_type": "stream",
     "text": [
      "✅ Validation completed in 6.97s\n",
      "\n",
      "📊 Epoch 7 Summary:\n",
      "│ Train Loss: 1.6378 | Train Acc: 0.3255\n",
      "│ Val Loss:   1.6351 | Val Acc:   0.3462\n",
      "│ Train Time: 63.08s | Val Time: 6.97s\n",
      "│ Total Epoch Time: 70.05s\n",
      "│ Best Val Acc: 0.4062 (Epoch 4)\n",
      "│ GPU Memory: 1.3GB / 6.7GB\n",
      "================================================================================\n",
      "\n",
      "📈 Epoch 8/50\n",
      "--------------------------------------------------\n",
      "🔄 Training Phase...\n"
     ]
    },
    {
     "name": "stderr",
     "output_type": "stream",
     "text": [
      "Training: 100%|██████████████████████████████| 48/48 [01:03<00:00,  1.32s/it, Loss=1.6479, Acc=0.3255]\n"
     ]
    },
    {
     "name": "stdout",
     "output_type": "stream",
     "text": [
      "✅ Training completed in 63.27s\n",
      "🔍 Validation Phase...\n"
     ]
    },
    {
     "name": "stderr",
     "output_type": "stream",
     "text": [
      "Validation: 100%|██████████████████████████████| 13/13 [00:06<00:00,  1.87it/s, Loss=1.6098, Acc=0.3269]\n"
     ]
    },
    {
     "name": "stdout",
     "output_type": "stream",
     "text": [
      "✅ Validation completed in 6.97s\n",
      "\n",
      "📊 Epoch 8 Summary:\n",
      "│ Train Loss: 1.6479 | Train Acc: 0.3255\n",
      "│ Val Loss:   1.6098 | Val Acc:   0.3269\n",
      "│ Train Time: 63.27s | Val Time: 6.97s\n",
      "│ Total Epoch Time: 70.24s\n",
      "│ Best Val Acc: 0.4062 (Epoch 4)\n",
      "│ GPU Memory: 1.3GB / 6.7GB\n",
      "================================================================================\n",
      "\n",
      "📈 Epoch 9/50\n",
      "--------------------------------------------------\n",
      "🔄 Training Phase...\n"
     ]
    },
    {
     "name": "stderr",
     "output_type": "stream",
     "text": [
      "Training: 100%|██████████████████████████████| 48/48 [01:03<00:00,  1.32s/it, Loss=1.6632, Acc=0.3066]\n"
     ]
    },
    {
     "name": "stdout",
     "output_type": "stream",
     "text": [
      "✅ Training completed in 63.25s\n",
      "🔍 Validation Phase...\n"
     ]
    },
    {
     "name": "stderr",
     "output_type": "stream",
     "text": [
      "Validation: 100%|██████████████████████████████| 13/13 [00:07<00:00,  1.84it/s, Loss=1.6467, Acc=0.2933]\n"
     ]
    },
    {
     "name": "stdout",
     "output_type": "stream",
     "text": [
      "✅ Validation completed in 7.07s\n",
      "\n",
      "📊 Epoch 9 Summary:\n",
      "│ Train Loss: 1.6632 | Train Acc: 0.3066\n",
      "│ Val Loss:   1.6467 | Val Acc:   0.2933\n",
      "│ Train Time: 63.25s | Val Time: 7.07s\n",
      "│ Total Epoch Time: 70.33s\n",
      "│ Best Val Acc: 0.4062 (Epoch 4)\n",
      "│ GPU Memory: 1.3GB / 6.7GB\n",
      "================================================================================\n",
      "\n",
      "📈 Epoch 10/50\n",
      "--------------------------------------------------\n",
      "🔄 Training Phase...\n"
     ]
    },
    {
     "name": "stderr",
     "output_type": "stream",
     "text": [
      "Training: 100%|██████████████████████████████| 48/48 [01:03<00:00,  1.31s/it, Loss=1.6572, Acc=0.3177]\n"
     ]
    },
    {
     "name": "stdout",
     "output_type": "stream",
     "text": [
      "✅ Training completed in 63.09s\n",
      "🔍 Validation Phase...\n"
     ]
    },
    {
     "name": "stderr",
     "output_type": "stream",
     "text": [
      "Validation: 100%|██████████████████████████████| 13/13 [00:07<00:00,  1.86it/s, Loss=1.6508, Acc=0.4159]\n"
     ]
    },
    {
     "name": "stdout",
     "output_type": "stream",
     "text": [
      "✅ Validation completed in 7.00s\n",
      "🌟 New best Vision Transformer model found! Validation Accuracy: 0.4159\n",
      "\n",
      "📊 Epoch 10 Summary:\n",
      "│ Train Loss: 1.6572 | Train Acc: 0.3177\n",
      "│ Val Loss:   1.6508 | Val Acc:   0.4159\n",
      "│ Train Time: 63.09s | Val Time: 7.00s\n",
      "│ Total Epoch Time: 70.10s\n",
      "│ Best Val Acc: 0.4159 (Epoch 10)\n",
      "│ GPU Memory: 1.3GB / 6.7GB\n",
      "================================================================================\n",
      "\n",
      "📈 Epoch 11/50\n",
      "--------------------------------------------------\n",
      "🔄 Training Phase...\n"
     ]
    },
    {
     "name": "stderr",
     "output_type": "stream",
     "text": [
      "Training: 100%|██████████████████████████████| 48/48 [01:03<00:00,  1.31s/it, Loss=1.6700, Acc=0.2962]\n"
     ]
    },
    {
     "name": "stdout",
     "output_type": "stream",
     "text": [
      "✅ Training completed in 63.04s\n",
      "🔍 Validation Phase...\n"
     ]
    },
    {
     "name": "stderr",
     "output_type": "stream",
     "text": [
      "Validation: 100%|██████████████████████████████| 13/13 [00:07<00:00,  1.86it/s, Loss=1.6486, Acc=0.3726]\n"
     ]
    },
    {
     "name": "stdout",
     "output_type": "stream",
     "text": [
      "✅ Validation completed in 7.01s\n",
      "\n",
      "📊 Epoch 11 Summary:\n",
      "│ Train Loss: 1.6700 | Train Acc: 0.2962\n",
      "│ Val Loss:   1.6486 | Val Acc:   0.3726\n",
      "│ Train Time: 63.04s | Val Time: 7.01s\n",
      "│ Total Epoch Time: 70.05s\n",
      "│ Best Val Acc: 0.4159 (Epoch 10)\n",
      "│ GPU Memory: 1.3GB / 6.7GB\n",
      "================================================================================\n",
      "\n",
      "📈 Epoch 12/50\n",
      "--------------------------------------------------\n",
      "🔄 Training Phase...\n"
     ]
    },
    {
     "name": "stderr",
     "output_type": "stream",
     "text": [
      "Training: 100%|██████████████████████████████| 48/48 [01:03<00:00,  1.31s/it, Loss=1.6688, Acc=0.3079]\n"
     ]
    },
    {
     "name": "stdout",
     "output_type": "stream",
     "text": [
      "✅ Training completed in 63.04s\n",
      "🔍 Validation Phase...\n"
     ]
    },
    {
     "name": "stderr",
     "output_type": "stream",
     "text": [
      "Validation: 100%|██████████████████████████████| 13/13 [00:07<00:00,  1.84it/s, Loss=1.6057, Acc=0.3125]\n"
     ]
    },
    {
     "name": "stdout",
     "output_type": "stream",
     "text": [
      "✅ Validation completed in 7.07s\n",
      "\n",
      "📊 Epoch 12 Summary:\n",
      "│ Train Loss: 1.6688 | Train Acc: 0.3079\n",
      "│ Val Loss:   1.6057 | Val Acc:   0.3125\n",
      "│ Train Time: 63.04s | Val Time: 7.07s\n",
      "│ Total Epoch Time: 70.11s\n",
      "│ Best Val Acc: 0.4159 (Epoch 10)\n",
      "│ GPU Memory: 1.3GB / 6.7GB\n",
      "================================================================================\n",
      "\n",
      "📈 Epoch 13/50\n",
      "--------------------------------------------------\n",
      "🔄 Training Phase...\n"
     ]
    },
    {
     "name": "stderr",
     "output_type": "stream",
     "text": [
      "Training: 100%|██████████████████████████████| 48/48 [01:03<00:00,  1.31s/it, Loss=1.6444, Acc=0.2969]\n"
     ]
    },
    {
     "name": "stdout",
     "output_type": "stream",
     "text": [
      "✅ Training completed in 63.05s\n",
      "🔍 Validation Phase...\n"
     ]
    },
    {
     "name": "stderr",
     "output_type": "stream",
     "text": [
      "Validation: 100%|██████████████████████████████| 13/13 [00:06<00:00,  1.87it/s, Loss=1.6187, Acc=0.3125]\n"
     ]
    },
    {
     "name": "stdout",
     "output_type": "stream",
     "text": [
      "✅ Validation completed in 6.97s\n",
      "\n",
      "📊 Epoch 13 Summary:\n",
      "│ Train Loss: 1.6444 | Train Acc: 0.2969\n",
      "│ Val Loss:   1.6187 | Val Acc:   0.3125\n",
      "│ Train Time: 63.05s | Val Time: 6.97s\n",
      "│ Total Epoch Time: 70.02s\n",
      "│ Best Val Acc: 0.4159 (Epoch 10)\n",
      "│ GPU Memory: 1.3GB / 6.7GB\n",
      "================================================================================\n",
      "\n",
      "📈 Epoch 14/50\n",
      "--------------------------------------------------\n",
      "🔄 Training Phase...\n"
     ]
    },
    {
     "name": "stderr",
     "output_type": "stream",
     "text": [
      "Training: 100%|██████████████████████████████| 48/48 [01:02<00:00,  1.31s/it, Loss=1.6265, Acc=0.3079]\n"
     ]
    },
    {
     "name": "stdout",
     "output_type": "stream",
     "text": [
      "✅ Training completed in 62.98s\n",
      "🔍 Validation Phase...\n"
     ]
    },
    {
     "name": "stderr",
     "output_type": "stream",
     "text": [
      "Validation: 100%|██████████████████████████████| 13/13 [00:06<00:00,  1.86it/s, Loss=1.5944, Acc=0.3510]\n"
     ]
    },
    {
     "name": "stdout",
     "output_type": "stream",
     "text": [
      "✅ Validation completed in 6.97s\n",
      "\n",
      "📊 Epoch 14 Summary:\n",
      "│ Train Loss: 1.6265 | Train Acc: 0.3079\n",
      "│ Val Loss:   1.5944 | Val Acc:   0.3510\n",
      "│ Train Time: 62.98s | Val Time: 6.97s\n",
      "│ Total Epoch Time: 69.95s\n",
      "│ Best Val Acc: 0.4159 (Epoch 10)\n",
      "│ GPU Memory: 1.3GB / 6.7GB\n",
      "================================================================================\n",
      "\n",
      "📈 Epoch 15/50\n",
      "--------------------------------------------------\n",
      "🔄 Training Phase...\n"
     ]
    },
    {
     "name": "stderr",
     "output_type": "stream",
     "text": [
      "Training: 100%|██████████████████████████████| 48/48 [01:03<00:00,  1.32s/it, Loss=1.6290, Acc=0.3118]\n"
     ]
    },
    {
     "name": "stdout",
     "output_type": "stream",
     "text": [
      "✅ Training completed in 63.30s\n",
      "🔍 Validation Phase...\n"
     ]
    },
    {
     "name": "stderr",
     "output_type": "stream",
     "text": [
      "Validation: 100%|██████████████████████████████| 13/13 [00:06<00:00,  1.87it/s, Loss=1.7105, Acc=0.2332]\n"
     ]
    },
    {
     "name": "stdout",
     "output_type": "stream",
     "text": [
      "✅ Validation completed in 6.97s\n",
      "\n",
      "📊 Epoch 15 Summary:\n",
      "│ Train Loss: 1.6290 | Train Acc: 0.3118\n",
      "│ Val Loss:   1.7105 | Val Acc:   0.2332\n",
      "│ Train Time: 63.30s | Val Time: 6.97s\n",
      "│ Total Epoch Time: 70.27s\n",
      "│ Best Val Acc: 0.4159 (Epoch 10)\n",
      "│ GPU Memory: 1.3GB / 6.7GB\n",
      "================================================================================\n",
      "\n",
      "📈 Epoch 16/50\n",
      "--------------------------------------------------\n",
      "🔄 Training Phase...\n"
     ]
    },
    {
     "name": "stderr",
     "output_type": "stream",
     "text": [
      "Training: 100%|██████████████████████████████| 48/48 [01:03<00:00,  1.32s/it, Loss=1.6268, Acc=0.3229]\n"
     ]
    },
    {
     "name": "stdout",
     "output_type": "stream",
     "text": [
      "✅ Training completed in 63.22s\n",
      "🔍 Validation Phase...\n"
     ]
    },
    {
     "name": "stderr",
     "output_type": "stream",
     "text": [
      "Validation: 100%|██████████████████████████████| 13/13 [00:07<00:00,  1.85it/s, Loss=1.5918, Acc=0.3101]\n"
     ]
    },
    {
     "name": "stdout",
     "output_type": "stream",
     "text": [
      "✅ Validation completed in 7.04s\n",
      "\n",
      "📊 Epoch 16 Summary:\n",
      "│ Train Loss: 1.6268 | Train Acc: 0.3229\n",
      "│ Val Loss:   1.5918 | Val Acc:   0.3101\n",
      "│ Train Time: 63.22s | Val Time: 7.04s\n",
      "│ Total Epoch Time: 70.26s\n",
      "│ Best Val Acc: 0.4159 (Epoch 10)\n",
      "│ GPU Memory: 1.3GB / 6.7GB\n",
      "================================================================================\n",
      "\n",
      "📈 Epoch 17/50\n",
      "--------------------------------------------------\n",
      "🔄 Training Phase...\n"
     ]
    },
    {
     "name": "stderr",
     "output_type": "stream",
     "text": [
      "Training: 100%|██████████████████████████████| 48/48 [01:03<00:00,  1.32s/it, Loss=1.6374, Acc=0.3164]\n"
     ]
    },
    {
     "name": "stdout",
     "output_type": "stream",
     "text": [
      "✅ Training completed in 63.12s\n",
      "🔍 Validation Phase...\n"
     ]
    },
    {
     "name": "stderr",
     "output_type": "stream",
     "text": [
      "Validation: 100%|██████████████████████████████| 13/13 [00:07<00:00,  1.85it/s, Loss=1.6195, Acc=0.2788]\n"
     ]
    },
    {
     "name": "stdout",
     "output_type": "stream",
     "text": [
      "✅ Validation completed in 7.02s\n",
      "\n",
      "📊 Epoch 17 Summary:\n",
      "│ Train Loss: 1.6374 | Train Acc: 0.3164\n",
      "│ Val Loss:   1.6195 | Val Acc:   0.2788\n",
      "│ Train Time: 63.12s | Val Time: 7.02s\n",
      "│ Total Epoch Time: 70.14s\n",
      "│ Best Val Acc: 0.4159 (Epoch 10)\n",
      "│ GPU Memory: 1.3GB / 6.7GB\n",
      "================================================================================\n",
      "\n",
      "📈 Epoch 18/50\n",
      "--------------------------------------------------\n",
      "🔄 Training Phase...\n"
     ]
    },
    {
     "name": "stderr",
     "output_type": "stream",
     "text": [
      "Training: 100%|██████████████████████████████| 48/48 [01:03<00:00,  1.32s/it, Loss=1.6083, Acc=0.2982]\n"
     ]
    },
    {
     "name": "stdout",
     "output_type": "stream",
     "text": [
      "✅ Training completed in 63.24s\n",
      "🔍 Validation Phase...\n"
     ]
    },
    {
     "name": "stderr",
     "output_type": "stream",
     "text": [
      "Validation: 100%|██████████████████████████████| 13/13 [00:06<00:00,  1.87it/s, Loss=1.7525, Acc=0.2332]\n"
     ]
    },
    {
     "name": "stdout",
     "output_type": "stream",
     "text": [
      "✅ Validation completed in 6.95s\n",
      "\n",
      "📊 Epoch 18 Summary:\n",
      "│ Train Loss: 1.6083 | Train Acc: 0.2982\n",
      "│ Val Loss:   1.7525 | Val Acc:   0.2332\n",
      "│ Train Time: 63.24s | Val Time: 6.95s\n",
      "│ Total Epoch Time: 70.19s\n",
      "│ Best Val Acc: 0.4159 (Epoch 10)\n",
      "│ GPU Memory: 1.3GB / 6.7GB\n",
      "================================================================================\n",
      "\n",
      "📈 Epoch 19/50\n",
      "--------------------------------------------------\n",
      "🔄 Training Phase...\n"
     ]
    },
    {
     "name": "stderr",
     "output_type": "stream",
     "text": [
      "Training: 100%|██████████████████████████████| 48/48 [01:03<00:00,  1.32s/it, Loss=1.6248, Acc=0.2956]\n"
     ]
    },
    {
     "name": "stdout",
     "output_type": "stream",
     "text": [
      "✅ Training completed in 63.13s\n",
      "🔍 Validation Phase...\n"
     ]
    },
    {
     "name": "stderr",
     "output_type": "stream",
     "text": [
      "Validation: 100%|██████████████████████████████| 13/13 [00:06<00:00,  1.86it/s, Loss=1.6769, Acc=0.3462]\n"
     ]
    },
    {
     "name": "stdout",
     "output_type": "stream",
     "text": [
      "✅ Validation completed in 6.99s\n",
      "\n",
      "📊 Epoch 19 Summary:\n",
      "│ Train Loss: 1.6248 | Train Acc: 0.2956\n",
      "│ Val Loss:   1.6769 | Val Acc:   0.3462\n",
      "│ Train Time: 63.13s | Val Time: 6.99s\n",
      "│ Total Epoch Time: 70.12s\n",
      "│ Best Val Acc: 0.4159 (Epoch 10)\n",
      "│ GPU Memory: 1.3GB / 6.7GB\n",
      "================================================================================\n",
      "\n",
      "📈 Epoch 20/50\n",
      "--------------------------------------------------\n",
      "🔄 Training Phase...\n"
     ]
    },
    {
     "name": "stderr",
     "output_type": "stream",
     "text": [
      "Training: 100%|██████████████████████████████| 48/48 [01:03<00:00,  1.31s/it, Loss=1.6057, Acc=0.2969]\n"
     ]
    },
    {
     "name": "stdout",
     "output_type": "stream",
     "text": [
      "✅ Training completed in 63.07s\n",
      "🔍 Validation Phase...\n"
     ]
    },
    {
     "name": "stderr",
     "output_type": "stream",
     "text": [
      "Validation: 100%|██████████████████████████████| 13/13 [00:06<00:00,  1.86it/s, Loss=1.6040, Acc=0.2885]\n"
     ]
    },
    {
     "name": "stdout",
     "output_type": "stream",
     "text": [
      "✅ Validation completed in 6.98s\n",
      "\n",
      "📊 Epoch 20 Summary:\n",
      "│ Train Loss: 1.6057 | Train Acc: 0.2969\n",
      "│ Val Loss:   1.6040 | Val Acc:   0.2885\n",
      "│ Train Time: 63.07s | Val Time: 6.98s\n",
      "│ Total Epoch Time: 70.05s\n",
      "│ Best Val Acc: 0.4159 (Epoch 10)\n",
      "│ GPU Memory: 1.3GB / 6.7GB\n",
      "================================================================================\n",
      "\n",
      "📈 Epoch 21/50\n",
      "--------------------------------------------------\n",
      "🔄 Training Phase...\n"
     ]
    },
    {
     "name": "stderr",
     "output_type": "stream",
     "text": [
      "Training: 100%|██████████████████████████████| 48/48 [01:03<00:00,  1.32s/it, Loss=1.6035, Acc=0.3008]\n"
     ]
    },
    {
     "name": "stdout",
     "output_type": "stream",
     "text": [
      "✅ Training completed in 63.29s\n",
      "🔍 Validation Phase...\n"
     ]
    },
    {
     "name": "stderr",
     "output_type": "stream",
     "text": [
      "Validation: 100%|██████████████████████████████| 13/13 [00:06<00:00,  1.87it/s, Loss=1.6704, Acc=0.3101]\n"
     ]
    },
    {
     "name": "stdout",
     "output_type": "stream",
     "text": [
      "✅ Validation completed in 6.94s\n",
      "\n",
      "📊 Epoch 21 Summary:\n",
      "│ Train Loss: 1.6035 | Train Acc: 0.3008\n",
      "│ Val Loss:   1.6704 | Val Acc:   0.3101\n",
      "│ Train Time: 63.29s | Val Time: 6.94s\n",
      "│ Total Epoch Time: 70.23s\n",
      "│ Best Val Acc: 0.4159 (Epoch 10)\n",
      "│ GPU Memory: 1.3GB / 6.7GB\n",
      "================================================================================\n",
      "\n",
      "📈 Epoch 22/50\n",
      "--------------------------------------------------\n",
      "🔄 Training Phase...\n"
     ]
    },
    {
     "name": "stderr",
     "output_type": "stream",
     "text": [
      "Training: 100%|██████████████████████████████| 48/48 [01:03<00:00,  1.31s/it, Loss=1.6216, Acc=0.3053]\n"
     ]
    },
    {
     "name": "stdout",
     "output_type": "stream",
     "text": [
      "✅ Training completed in 63.03s\n",
      "🔍 Validation Phase...\n"
     ]
    },
    {
     "name": "stderr",
     "output_type": "stream",
     "text": [
      "Validation: 100%|██████████████████████████████| 13/13 [00:06<00:00,  1.86it/s, Loss=1.6438, Acc=0.3654]\n"
     ]
    },
    {
     "name": "stdout",
     "output_type": "stream",
     "text": [
      "✅ Validation completed in 6.98s\n",
      "\n",
      "📊 Epoch 22 Summary:\n",
      "│ Train Loss: 1.6216 | Train Acc: 0.3053\n",
      "│ Val Loss:   1.6438 | Val Acc:   0.3654\n",
      "│ Train Time: 63.03s | Val Time: 6.98s\n",
      "│ Total Epoch Time: 70.02s\n",
      "│ Best Val Acc: 0.4159 (Epoch 10)\n",
      "│ GPU Memory: 1.3GB / 6.7GB\n",
      "================================================================================\n",
      "\n",
      "📈 Epoch 23/50\n",
      "--------------------------------------------------\n",
      "🔄 Training Phase...\n"
     ]
    },
    {
     "name": "stderr",
     "output_type": "stream",
     "text": [
      "Training: 100%|██████████████████████████████| 48/48 [01:03<00:00,  1.32s/it, Loss=1.6058, Acc=0.3346]\n"
     ]
    },
    {
     "name": "stdout",
     "output_type": "stream",
     "text": [
      "✅ Training completed in 63.12s\n",
      "🔍 Validation Phase...\n"
     ]
    },
    {
     "name": "stderr",
     "output_type": "stream",
     "text": [
      "Validation: 100%|██████████████████████████████| 13/13 [00:07<00:00,  1.82it/s, Loss=1.6099, Acc=0.3245]\n"
     ]
    },
    {
     "name": "stdout",
     "output_type": "stream",
     "text": [
      "✅ Validation completed in 7.16s\n",
      "\n",
      "📊 Epoch 23 Summary:\n",
      "│ Train Loss: 1.6058 | Train Acc: 0.3346\n",
      "│ Val Loss:   1.6099 | Val Acc:   0.3245\n",
      "│ Train Time: 63.12s | Val Time: 7.16s\n",
      "│ Total Epoch Time: 70.29s\n",
      "│ Best Val Acc: 0.4159 (Epoch 10)\n",
      "│ GPU Memory: 1.3GB / 6.7GB\n",
      "================================================================================\n",
      "\n",
      "📈 Epoch 24/50\n",
      "--------------------------------------------------\n",
      "🔄 Training Phase...\n"
     ]
    },
    {
     "name": "stderr",
     "output_type": "stream",
     "text": [
      "Training: 100%|██████████████████████████████| 48/48 [01:03<00:00,  1.33s/it, Loss=1.6035, Acc=0.3184]\n"
     ]
    },
    {
     "name": "stdout",
     "output_type": "stream",
     "text": [
      "✅ Training completed in 63.74s\n",
      "🔍 Validation Phase...\n"
     ]
    },
    {
     "name": "stderr",
     "output_type": "stream",
     "text": [
      "Validation: 100%|██████████████████████████████| 13/13 [00:07<00:00,  1.83it/s, Loss=1.6480, Acc=0.3197]\n"
     ]
    },
    {
     "name": "stdout",
     "output_type": "stream",
     "text": [
      "✅ Validation completed in 7.10s\n",
      "\n",
      "📊 Epoch 24 Summary:\n",
      "│ Train Loss: 1.6035 | Train Acc: 0.3184\n",
      "│ Val Loss:   1.6480 | Val Acc:   0.3197\n",
      "│ Train Time: 63.74s | Val Time: 7.10s\n",
      "│ Total Epoch Time: 70.84s\n",
      "│ Best Val Acc: 0.4159 (Epoch 10)\n",
      "│ GPU Memory: 1.3GB / 6.7GB\n",
      "================================================================================\n",
      "\n",
      "📈 Epoch 25/50\n",
      "--------------------------------------------------\n",
      "🔄 Training Phase...\n"
     ]
    },
    {
     "name": "stderr",
     "output_type": "stream",
     "text": [
      "Training: 100%|██████████████████████████████| 48/48 [01:03<00:00,  1.32s/it, Loss=1.6019, Acc=0.3236]\n"
     ]
    },
    {
     "name": "stdout",
     "output_type": "stream",
     "text": [
      "✅ Training completed in 63.19s\n",
      "🔍 Validation Phase...\n"
     ]
    },
    {
     "name": "stderr",
     "output_type": "stream",
     "text": [
      "Validation: 100%|██████████████████████████████| 13/13 [00:06<00:00,  1.86it/s, Loss=1.6158, Acc=0.3221]\n"
     ]
    },
    {
     "name": "stdout",
     "output_type": "stream",
     "text": [
      "✅ Validation completed in 6.98s\n",
      "\n",
      "📊 Epoch 25 Summary:\n",
      "│ Train Loss: 1.6019 | Train Acc: 0.3236\n",
      "│ Val Loss:   1.6158 | Val Acc:   0.3221\n",
      "│ Train Time: 63.19s | Val Time: 6.98s\n",
      "│ Total Epoch Time: 70.17s\n",
      "│ Best Val Acc: 0.4159 (Epoch 10)\n",
      "│ GPU Memory: 1.3GB / 6.7GB\n",
      "================================================================================\n",
      "\n",
      "📈 Epoch 26/50\n",
      "--------------------------------------------------\n",
      "🔄 Training Phase...\n"
     ]
    },
    {
     "name": "stderr",
     "output_type": "stream",
     "text": [
      "Training: 100%|██████████████████████████████| 48/48 [01:03<00:00,  1.32s/it, Loss=1.6043, Acc=0.3184]\n"
     ]
    },
    {
     "name": "stdout",
     "output_type": "stream",
     "text": [
      "✅ Training completed in 63.15s\n",
      "🔍 Validation Phase...\n"
     ]
    },
    {
     "name": "stderr",
     "output_type": "stream",
     "text": [
      "Validation: 100%|██████████████████████████████| 13/13 [00:07<00:00,  1.84it/s, Loss=1.6171, Acc=0.3245]\n"
     ]
    },
    {
     "name": "stdout",
     "output_type": "stream",
     "text": [
      "✅ Validation completed in 7.06s\n",
      "\n",
      "📊 Epoch 26 Summary:\n",
      "│ Train Loss: 1.6043 | Train Acc: 0.3184\n",
      "│ Val Loss:   1.6171 | Val Acc:   0.3245\n",
      "│ Train Time: 63.15s | Val Time: 7.06s\n",
      "│ Total Epoch Time: 70.22s\n",
      "│ Best Val Acc: 0.4159 (Epoch 10)\n",
      "│ GPU Memory: 1.3GB / 6.7GB\n",
      "================================================================================\n",
      "\n",
      "📈 Epoch 27/50\n",
      "--------------------------------------------------\n",
      "🔄 Training Phase...\n"
     ]
    },
    {
     "name": "stderr",
     "output_type": "stream",
     "text": [
      "Training: 100%|██████████████████████████████| 48/48 [01:03<00:00,  1.32s/it, Loss=1.5998, Acc=0.3190]\n"
     ]
    },
    {
     "name": "stdout",
     "output_type": "stream",
     "text": [
      "✅ Training completed in 63.18s\n",
      "🔍 Validation Phase...\n"
     ]
    },
    {
     "name": "stderr",
     "output_type": "stream",
     "text": [
      "Validation: 100%|██████████████████████████████| 13/13 [00:06<00:00,  1.86it/s, Loss=1.6344, Acc=0.2692]\n"
     ]
    },
    {
     "name": "stdout",
     "output_type": "stream",
     "text": [
      "✅ Validation completed in 6.98s\n",
      "\n",
      "📊 Epoch 27 Summary:\n",
      "│ Train Loss: 1.5998 | Train Acc: 0.3190\n",
      "│ Val Loss:   1.6344 | Val Acc:   0.2692\n",
      "│ Train Time: 63.18s | Val Time: 6.98s\n",
      "│ Total Epoch Time: 70.16s\n",
      "│ Best Val Acc: 0.4159 (Epoch 10)\n",
      "│ GPU Memory: 1.3GB / 6.7GB\n",
      "================================================================================\n",
      "\n",
      "📈 Epoch 28/50\n",
      "--------------------------------------------------\n",
      "🔄 Training Phase...\n"
     ]
    },
    {
     "name": "stderr",
     "output_type": "stream",
     "text": [
      "Training: 100%|██████████████████████████████| 48/48 [01:03<00:00,  1.32s/it, Loss=1.6188, Acc=0.3223]\n"
     ]
    },
    {
     "name": "stdout",
     "output_type": "stream",
     "text": [
      "✅ Training completed in 63.16s\n",
      "🔍 Validation Phase...\n"
     ]
    },
    {
     "name": "stderr",
     "output_type": "stream",
     "text": [
      "Validation: 100%|██████████████████████████████| 13/13 [00:06<00:00,  1.87it/s, Loss=1.6220, Acc=0.3029]\n"
     ]
    },
    {
     "name": "stdout",
     "output_type": "stream",
     "text": [
      "✅ Validation completed in 6.97s\n",
      "\n",
      "📊 Epoch 28 Summary:\n",
      "│ Train Loss: 1.6188 | Train Acc: 0.3223\n",
      "│ Val Loss:   1.6220 | Val Acc:   0.3029\n",
      "│ Train Time: 63.16s | Val Time: 6.97s\n",
      "│ Total Epoch Time: 70.13s\n",
      "│ Best Val Acc: 0.4159 (Epoch 10)\n",
      "│ GPU Memory: 1.3GB / 6.7GB\n",
      "================================================================================\n",
      "\n",
      "📈 Epoch 29/50\n",
      "--------------------------------------------------\n",
      "🔄 Training Phase...\n"
     ]
    },
    {
     "name": "stderr",
     "output_type": "stream",
     "text": [
      "Training: 100%|██████████████████████████████| 48/48 [01:03<00:00,  1.32s/it, Loss=1.6145, Acc=0.3164]\n"
     ]
    },
    {
     "name": "stdout",
     "output_type": "stream",
     "text": [
      "✅ Training completed in 63.21s\n",
      "🔍 Validation Phase...\n"
     ]
    },
    {
     "name": "stderr",
     "output_type": "stream",
     "text": [
      "Validation: 100%|██████████████████████████████| 13/13 [00:06<00:00,  1.86it/s, Loss=1.6438, Acc=0.3582]\n"
     ]
    },
    {
     "name": "stdout",
     "output_type": "stream",
     "text": [
      "✅ Validation completed in 7.00s\n",
      "\n",
      "📊 Epoch 29 Summary:\n",
      "│ Train Loss: 1.6145 | Train Acc: 0.3164\n",
      "│ Val Loss:   1.6438 | Val Acc:   0.3582\n",
      "│ Train Time: 63.21s | Val Time: 7.00s\n",
      "│ Total Epoch Time: 70.21s\n",
      "│ Best Val Acc: 0.4159 (Epoch 10)\n",
      "│ GPU Memory: 1.3GB / 6.7GB\n",
      "================================================================================\n",
      "\n",
      "📈 Epoch 30/50\n",
      "--------------------------------------------------\n",
      "🔄 Training Phase...\n"
     ]
    },
    {
     "name": "stderr",
     "output_type": "stream",
     "text": [
      "Training: 100%|██████████████████████████████| 48/48 [01:03<00:00,  1.32s/it, Loss=1.6051, Acc=0.3190]\n"
     ]
    },
    {
     "name": "stdout",
     "output_type": "stream",
     "text": [
      "✅ Training completed in 63.14s\n",
      "🔍 Validation Phase...\n"
     ]
    },
    {
     "name": "stderr",
     "output_type": "stream",
     "text": [
      "Validation: 100%|██████████████████████████████| 13/13 [00:07<00:00,  1.85it/s, Loss=1.6428, Acc=0.2788]\n"
     ]
    },
    {
     "name": "stdout",
     "output_type": "stream",
     "text": [
      "✅ Validation completed in 7.05s\n",
      "\n",
      "📊 Epoch 30 Summary:\n",
      "│ Train Loss: 1.6051 | Train Acc: 0.3190\n",
      "│ Val Loss:   1.6428 | Val Acc:   0.2788\n",
      "│ Train Time: 63.14s | Val Time: 7.05s\n",
      "│ Total Epoch Time: 70.19s\n",
      "│ Best Val Acc: 0.4159 (Epoch 10)\n",
      "│ GPU Memory: 1.3GB / 6.7GB\n",
      "================================================================================\n",
      "\n",
      "📈 Epoch 31/50\n",
      "--------------------------------------------------\n",
      "🔄 Training Phase...\n"
     ]
    },
    {
     "name": "stderr",
     "output_type": "stream",
     "text": [
      "Training: 100%|██████████████████████████████| 48/48 [01:03<00:00,  1.31s/it, Loss=1.6085, Acc=0.3327]\n"
     ]
    },
    {
     "name": "stdout",
     "output_type": "stream",
     "text": [
      "✅ Training completed in 63.12s\n",
      "🔍 Validation Phase...\n"
     ]
    },
    {
     "name": "stderr",
     "output_type": "stream",
     "text": [
      "Validation: 100%|██████████████████████████████| 13/13 [00:06<00:00,  1.88it/s, Loss=1.6321, Acc=0.3101]\n"
     ]
    },
    {
     "name": "stdout",
     "output_type": "stream",
     "text": [
      "✅ Validation completed in 6.91s\n",
      "\n",
      "📊 Epoch 31 Summary:\n",
      "│ Train Loss: 1.6085 | Train Acc: 0.3327\n",
      "│ Val Loss:   1.6321 | Val Acc:   0.3101\n",
      "│ Train Time: 63.12s | Val Time: 6.91s\n",
      "│ Total Epoch Time: 70.03s\n",
      "│ Best Val Acc: 0.4159 (Epoch 10)\n",
      "│ GPU Memory: 1.3GB / 6.7GB\n",
      "================================================================================\n",
      "\n",
      "📈 Epoch 32/50\n",
      "--------------------------------------------------\n",
      "🔄 Training Phase...\n"
     ]
    },
    {
     "name": "stderr",
     "output_type": "stream",
     "text": [
      "Training: 100%|██████████████████████████████| 48/48 [01:03<00:00,  1.32s/it, Loss=1.5989, Acc=0.3053]\n"
     ]
    },
    {
     "name": "stdout",
     "output_type": "stream",
     "text": [
      "✅ Training completed in 63.20s\n",
      "🔍 Validation Phase...\n"
     ]
    },
    {
     "name": "stderr",
     "output_type": "stream",
     "text": [
      "Validation: 100%|██████████████████████████████| 13/13 [00:07<00:00,  1.83it/s, Loss=1.6171, Acc=0.3486]\n"
     ]
    },
    {
     "name": "stdout",
     "output_type": "stream",
     "text": [
      "✅ Validation completed in 7.10s\n",
      "\n",
      "📊 Epoch 32 Summary:\n",
      "│ Train Loss: 1.5989 | Train Acc: 0.3053\n",
      "│ Val Loss:   1.6171 | Val Acc:   0.3486\n",
      "│ Train Time: 63.20s | Val Time: 7.10s\n",
      "│ Total Epoch Time: 70.30s\n",
      "│ Best Val Acc: 0.4159 (Epoch 10)\n",
      "│ GPU Memory: 1.3GB / 6.7GB\n",
      "================================================================================\n",
      "\n",
      "📈 Epoch 33/50\n",
      "--------------------------------------------------\n",
      "🔄 Training Phase...\n"
     ]
    },
    {
     "name": "stderr",
     "output_type": "stream",
     "text": [
      "Training: 100%|██████████████████████████████| 48/48 [01:03<00:00,  1.32s/it, Loss=1.6018, Acc=0.3288]\n"
     ]
    },
    {
     "name": "stdout",
     "output_type": "stream",
     "text": [
      "✅ Training completed in 63.19s\n",
      "🔍 Validation Phase...\n"
     ]
    },
    {
     "name": "stderr",
     "output_type": "stream",
     "text": [
      "Validation: 100%|██████████████████████████████| 13/13 [00:06<00:00,  1.86it/s, Loss=1.6508, Acc=0.2981]\n"
     ]
    },
    {
     "name": "stdout",
     "output_type": "stream",
     "text": [
      "✅ Validation completed in 6.98s\n",
      "\n",
      "📊 Epoch 33 Summary:\n",
      "│ Train Loss: 1.6018 | Train Acc: 0.3288\n",
      "│ Val Loss:   1.6508 | Val Acc:   0.2981\n",
      "│ Train Time: 63.19s | Val Time: 6.98s\n",
      "│ Total Epoch Time: 70.17s\n",
      "│ Best Val Acc: 0.4159 (Epoch 10)\n",
      "│ GPU Memory: 1.3GB / 6.7GB\n",
      "================================================================================\n",
      "\n",
      "📈 Epoch 34/50\n",
      "--------------------------------------------------\n",
      "🔄 Training Phase...\n"
     ]
    },
    {
     "name": "stderr",
     "output_type": "stream",
     "text": [
      "Training: 100%|██████████████████████████████| 48/48 [01:03<00:00,  1.31s/it, Loss=1.5818, Acc=0.3561]\n"
     ]
    },
    {
     "name": "stdout",
     "output_type": "stream",
     "text": [
      "✅ Training completed in 63.11s\n",
      "🔍 Validation Phase...\n"
     ]
    },
    {
     "name": "stderr",
     "output_type": "stream",
     "text": [
      "Validation: 100%|██████████████████████████████| 13/13 [00:06<00:00,  1.87it/s, Loss=1.5969, Acc=0.3293]\n"
     ]
    },
    {
     "name": "stdout",
     "output_type": "stream",
     "text": [
      "✅ Validation completed in 6.95s\n",
      "\n",
      "📊 Epoch 34 Summary:\n",
      "│ Train Loss: 1.5818 | Train Acc: 0.3561\n",
      "│ Val Loss:   1.5969 | Val Acc:   0.3293\n",
      "│ Train Time: 63.11s | Val Time: 6.95s\n",
      "│ Total Epoch Time: 70.06s\n",
      "│ Best Val Acc: 0.4159 (Epoch 10)\n",
      "│ GPU Memory: 1.3GB / 6.7GB\n",
      "================================================================================\n",
      "\n",
      "📈 Epoch 35/50\n",
      "--------------------------------------------------\n",
      "🔄 Training Phase...\n"
     ]
    },
    {
     "name": "stderr",
     "output_type": "stream",
     "text": [
      "Training: 100%|██████████████████████████████| 48/48 [01:03<00:00,  1.32s/it, Loss=1.5905, Acc=0.3470]\n"
     ]
    },
    {
     "name": "stdout",
     "output_type": "stream",
     "text": [
      "✅ Training completed in 63.39s\n",
      "🔍 Validation Phase...\n"
     ]
    },
    {
     "name": "stderr",
     "output_type": "stream",
     "text": [
      "Validation: 100%|██████████████████████████████| 13/13 [00:07<00:00,  1.82it/s, Loss=1.6255, Acc=0.3438]\n"
     ]
    },
    {
     "name": "stdout",
     "output_type": "stream",
     "text": [
      "✅ Validation completed in 7.14s\n",
      "\n",
      "📊 Epoch 35 Summary:\n",
      "│ Train Loss: 1.5905 | Train Acc: 0.3470\n",
      "│ Val Loss:   1.6255 | Val Acc:   0.3438\n",
      "│ Train Time: 63.39s | Val Time: 7.14s\n",
      "│ Total Epoch Time: 70.53s\n",
      "│ Best Val Acc: 0.4159 (Epoch 10)\n",
      "│ GPU Memory: 1.3GB / 6.7GB\n",
      "================================================================================\n",
      "\n",
      "📈 Epoch 36/50\n",
      "--------------------------------------------------\n",
      "🔄 Training Phase...\n"
     ]
    },
    {
     "name": "stderr",
     "output_type": "stream",
     "text": [
      "Training: 100%|██████████████████████████████| 48/48 [01:03<00:00,  1.32s/it, Loss=1.5903, Acc=0.3203]\n"
     ]
    },
    {
     "name": "stdout",
     "output_type": "stream",
     "text": [
      "✅ Training completed in 63.19s\n",
      "🔍 Validation Phase...\n"
     ]
    },
    {
     "name": "stderr",
     "output_type": "stream",
     "text": [
      "Validation: 100%|██████████████████████████████| 13/13 [00:06<00:00,  1.86it/s, Loss=1.7106, Acc=0.2067]\n"
     ]
    },
    {
     "name": "stdout",
     "output_type": "stream",
     "text": [
      "✅ Validation completed in 6.97s\n",
      "\n",
      "📊 Epoch 36 Summary:\n",
      "│ Train Loss: 1.5903 | Train Acc: 0.3203\n",
      "│ Val Loss:   1.7106 | Val Acc:   0.2067\n",
      "│ Train Time: 63.19s | Val Time: 6.97s\n",
      "│ Total Epoch Time: 70.16s\n",
      "│ Best Val Acc: 0.4159 (Epoch 10)\n",
      "│ GPU Memory: 1.3GB / 6.7GB\n",
      "================================================================================\n",
      "\n",
      "📈 Epoch 37/50\n",
      "--------------------------------------------------\n",
      "🔄 Training Phase...\n"
     ]
    },
    {
     "name": "stderr",
     "output_type": "stream",
     "text": [
      "Training: 100%|██████████████████████████████| 48/48 [01:03<00:00,  1.32s/it, Loss=1.5934, Acc=0.3242]\n"
     ]
    },
    {
     "name": "stdout",
     "output_type": "stream",
     "text": [
      "✅ Training completed in 63.28s\n",
      "🔍 Validation Phase...\n"
     ]
    },
    {
     "name": "stderr",
     "output_type": "stream",
     "text": [
      "Validation: 100%|██████████████████████████████| 13/13 [00:06<00:00,  1.88it/s, Loss=1.5928, Acc=0.3389]\n"
     ]
    },
    {
     "name": "stdout",
     "output_type": "stream",
     "text": [
      "✅ Validation completed in 6.91s\n",
      "\n",
      "📊 Epoch 37 Summary:\n",
      "│ Train Loss: 1.5934 | Train Acc: 0.3242\n",
      "│ Val Loss:   1.5928 | Val Acc:   0.3389\n",
      "│ Train Time: 63.28s | Val Time: 6.91s\n",
      "│ Total Epoch Time: 70.20s\n",
      "│ Best Val Acc: 0.4159 (Epoch 10)\n",
      "│ GPU Memory: 1.3GB / 6.7GB\n",
      "================================================================================\n",
      "\n",
      "📈 Epoch 38/50\n",
      "--------------------------------------------------\n",
      "🔄 Training Phase...\n"
     ]
    },
    {
     "name": "stderr",
     "output_type": "stream",
     "text": [
      "Training: 100%|██████████████████████████████| 48/48 [01:03<00:00,  1.31s/it, Loss=1.5830, Acc=0.3405]\n"
     ]
    },
    {
     "name": "stdout",
     "output_type": "stream",
     "text": [
      "✅ Training completed in 63.12s\n",
      "🔍 Validation Phase...\n"
     ]
    },
    {
     "name": "stderr",
     "output_type": "stream",
     "text": [
      "Validation: 100%|██████████████████████████████| 13/13 [00:07<00:00,  1.84it/s, Loss=1.5893, Acc=0.3125]\n"
     ]
    },
    {
     "name": "stdout",
     "output_type": "stream",
     "text": [
      "✅ Validation completed in 7.08s\n",
      "\n",
      "📊 Epoch 38 Summary:\n",
      "│ Train Loss: 1.5830 | Train Acc: 0.3405\n",
      "│ Val Loss:   1.5893 | Val Acc:   0.3125\n",
      "│ Train Time: 63.12s | Val Time: 7.08s\n",
      "│ Total Epoch Time: 70.21s\n",
      "│ Best Val Acc: 0.4159 (Epoch 10)\n",
      "│ GPU Memory: 1.3GB / 6.7GB\n",
      "================================================================================\n",
      "\n",
      "📈 Epoch 39/50\n",
      "--------------------------------------------------\n",
      "🔄 Training Phase...\n"
     ]
    },
    {
     "name": "stderr",
     "output_type": "stream",
     "text": [
      "Training: 100%|██████████████████████████████| 48/48 [01:03<00:00,  1.33s/it, Loss=1.5819, Acc=0.3392]\n"
     ]
    },
    {
     "name": "stdout",
     "output_type": "stream",
     "text": [
      "✅ Training completed in 63.78s\n",
      "🔍 Validation Phase...\n"
     ]
    },
    {
     "name": "stderr",
     "output_type": "stream",
     "text": [
      "Validation: 100%|██████████████████████████████| 13/13 [00:07<00:00,  1.84it/s, Loss=1.6474, Acc=0.2981]\n"
     ]
    },
    {
     "name": "stdout",
     "output_type": "stream",
     "text": [
      "✅ Validation completed in 7.07s\n",
      "\n",
      "📊 Epoch 39 Summary:\n",
      "│ Train Loss: 1.5819 | Train Acc: 0.3392\n",
      "│ Val Loss:   1.6474 | Val Acc:   0.2981\n",
      "│ Train Time: 63.78s | Val Time: 7.07s\n",
      "│ Total Epoch Time: 70.86s\n",
      "│ Best Val Acc: 0.4159 (Epoch 10)\n",
      "│ GPU Memory: 1.3GB / 6.7GB\n",
      "================================================================================\n",
      "\n",
      "📈 Epoch 40/50\n",
      "--------------------------------------------------\n",
      "🔄 Training Phase...\n"
     ]
    },
    {
     "name": "stderr",
     "output_type": "stream",
     "text": [
      "Training: 100%|██████████████████████████████| 48/48 [01:02<00:00,  1.31s/it, Loss=1.5854, Acc=0.3477]\n"
     ]
    },
    {
     "name": "stdout",
     "output_type": "stream",
     "text": [
      "✅ Training completed in 63.00s\n",
      "🔍 Validation Phase...\n"
     ]
    },
    {
     "name": "stderr",
     "output_type": "stream",
     "text": [
      "Validation: 100%|██████████████████████████████| 13/13 [00:06<00:00,  1.86it/s, Loss=1.5982, Acc=0.3534]\n"
     ]
    },
    {
     "name": "stdout",
     "output_type": "stream",
     "text": [
      "✅ Validation completed in 6.97s\n",
      "\n",
      "📊 Epoch 40 Summary:\n",
      "│ Train Loss: 1.5854 | Train Acc: 0.3477\n",
      "│ Val Loss:   1.5982 | Val Acc:   0.3534\n",
      "│ Train Time: 63.00s | Val Time: 6.97s\n",
      "│ Total Epoch Time: 69.98s\n",
      "│ Best Val Acc: 0.4159 (Epoch 10)\n",
      "│ GPU Memory: 1.3GB / 6.7GB\n",
      "================================================================================\n",
      "\n",
      "📈 Epoch 41/50\n",
      "--------------------------------------------------\n",
      "🔄 Training Phase...\n"
     ]
    },
    {
     "name": "stderr",
     "output_type": "stream",
     "text": [
      "Training: 100%|██████████████████████████████| 48/48 [01:03<00:00,  1.32s/it, Loss=1.5814, Acc=0.3398]\n"
     ]
    },
    {
     "name": "stdout",
     "output_type": "stream",
     "text": [
      "✅ Training completed in 63.21s\n",
      "🔍 Validation Phase...\n"
     ]
    },
    {
     "name": "stderr",
     "output_type": "stream",
     "text": [
      "Validation: 100%|██████████████████████████████| 13/13 [00:07<00:00,  1.85it/s, Loss=1.6111, Acc=0.3029]\n"
     ]
    },
    {
     "name": "stdout",
     "output_type": "stream",
     "text": [
      "✅ Validation completed in 7.04s\n",
      "\n",
      "📊 Epoch 41 Summary:\n",
      "│ Train Loss: 1.5814 | Train Acc: 0.3398\n",
      "│ Val Loss:   1.6111 | Val Acc:   0.3029\n",
      "│ Train Time: 63.21s | Val Time: 7.04s\n",
      "│ Total Epoch Time: 70.26s\n",
      "│ Best Val Acc: 0.4159 (Epoch 10)\n",
      "│ GPU Memory: 1.3GB / 6.7GB\n",
      "================================================================================\n",
      "\n",
      "📈 Epoch 42/50\n",
      "--------------------------------------------------\n",
      "🔄 Training Phase...\n"
     ]
    },
    {
     "name": "stderr",
     "output_type": "stream",
     "text": [
      "Training: 100%|██████████████████████████████| 48/48 [01:03<00:00,  1.31s/it, Loss=1.5867, Acc=0.3262]\n"
     ]
    },
    {
     "name": "stdout",
     "output_type": "stream",
     "text": [
      "✅ Training completed in 63.03s\n",
      "🔍 Validation Phase...\n"
     ]
    },
    {
     "name": "stderr",
     "output_type": "stream",
     "text": [
      "Validation: 100%|██████████████████████████████| 13/13 [00:06<00:00,  1.88it/s, Loss=1.6355, Acc=0.2933]\n"
     ]
    },
    {
     "name": "stdout",
     "output_type": "stream",
     "text": [
      "✅ Validation completed in 6.91s\n",
      "\n",
      "📊 Epoch 42 Summary:\n",
      "│ Train Loss: 1.5867 | Train Acc: 0.3262\n",
      "│ Val Loss:   1.6355 | Val Acc:   0.2933\n",
      "│ Train Time: 63.03s | Val Time: 6.91s\n",
      "│ Total Epoch Time: 69.94s\n",
      "│ Best Val Acc: 0.4159 (Epoch 10)\n",
      "│ GPU Memory: 1.3GB / 6.7GB\n",
      "================================================================================\n",
      "\n",
      "📈 Epoch 43/50\n",
      "--------------------------------------------------\n",
      "🔄 Training Phase...\n"
     ]
    },
    {
     "name": "stderr",
     "output_type": "stream",
     "text": [
      "Training: 100%|██████████████████████████████| 48/48 [01:03<00:00,  1.32s/it, Loss=1.5992, Acc=0.3216]\n"
     ]
    },
    {
     "name": "stdout",
     "output_type": "stream",
     "text": [
      "✅ Training completed in 63.22s\n",
      "🔍 Validation Phase...\n"
     ]
    },
    {
     "name": "stderr",
     "output_type": "stream",
     "text": [
      "Validation: 100%|██████████████████████████████| 13/13 [00:06<00:00,  1.86it/s, Loss=1.5782, Acc=0.3365]\n"
     ]
    },
    {
     "name": "stdout",
     "output_type": "stream",
     "text": [
      "✅ Validation completed in 7.00s\n",
      "\n",
      "📊 Epoch 43 Summary:\n",
      "│ Train Loss: 1.5992 | Train Acc: 0.3216\n",
      "│ Val Loss:   1.5782 | Val Acc:   0.3365\n",
      "│ Train Time: 63.22s | Val Time: 7.00s\n",
      "│ Total Epoch Time: 70.22s\n",
      "│ Best Val Acc: 0.4159 (Epoch 10)\n",
      "│ GPU Memory: 1.3GB / 6.7GB\n",
      "================================================================================\n",
      "\n",
      "📈 Epoch 44/50\n",
      "--------------------------------------------------\n",
      "🔄 Training Phase...\n"
     ]
    },
    {
     "name": "stderr",
     "output_type": "stream",
     "text": [
      "Training: 100%|██████████████████████████████| 48/48 [01:03<00:00,  1.32s/it, Loss=1.5781, Acc=0.3385]\n"
     ]
    },
    {
     "name": "stdout",
     "output_type": "stream",
     "text": [
      "✅ Training completed in 63.17s\n",
      "🔍 Validation Phase...\n"
     ]
    },
    {
     "name": "stderr",
     "output_type": "stream",
     "text": [
      "Validation: 100%|██████████████████████████████| 13/13 [00:07<00:00,  1.84it/s, Loss=1.5966, Acc=0.2981]\n"
     ]
    },
    {
     "name": "stdout",
     "output_type": "stream",
     "text": [
      "✅ Validation completed in 7.08s\n",
      "\n",
      "📊 Epoch 44 Summary:\n",
      "│ Train Loss: 1.5781 | Train Acc: 0.3385\n",
      "│ Val Loss:   1.5966 | Val Acc:   0.2981\n",
      "│ Train Time: 63.17s | Val Time: 7.08s\n",
      "│ Total Epoch Time: 70.25s\n",
      "│ Best Val Acc: 0.4159 (Epoch 10)\n",
      "│ GPU Memory: 1.3GB / 6.7GB\n",
      "================================================================================\n",
      "\n",
      "📈 Epoch 45/50\n",
      "--------------------------------------------------\n",
      "🔄 Training Phase...\n"
     ]
    },
    {
     "name": "stderr",
     "output_type": "stream",
     "text": [
      "Training: 100%|██████████████████████████████| 48/48 [01:03<00:00,  1.32s/it, Loss=1.5726, Acc=0.3535]\n"
     ]
    },
    {
     "name": "stdout",
     "output_type": "stream",
     "text": [
      "✅ Training completed in 63.32s\n",
      "🔍 Validation Phase...\n"
     ]
    },
    {
     "name": "stderr",
     "output_type": "stream",
     "text": [
      "Validation: 100%|██████████████████████████████| 13/13 [00:06<00:00,  1.88it/s, Loss=1.6042, Acc=0.2957]\n"
     ]
    },
    {
     "name": "stdout",
     "output_type": "stream",
     "text": [
      "✅ Validation completed in 6.90s\n",
      "\n",
      "📊 Epoch 45 Summary:\n",
      "│ Train Loss: 1.5726 | Train Acc: 0.3535\n",
      "│ Val Loss:   1.6042 | Val Acc:   0.2957\n",
      "│ Train Time: 63.32s | Val Time: 6.90s\n",
      "│ Total Epoch Time: 70.23s\n",
      "│ Best Val Acc: 0.4159 (Epoch 10)\n",
      "│ GPU Memory: 1.3GB / 6.7GB\n",
      "================================================================================\n",
      "\n",
      "📈 Epoch 46/50\n",
      "--------------------------------------------------\n",
      "🔄 Training Phase...\n"
     ]
    },
    {
     "name": "stderr",
     "output_type": "stream",
     "text": [
      "Training: 100%|██████████████████████████████| 48/48 [01:03<00:00,  1.32s/it, Loss=1.5707, Acc=0.3561]\n"
     ]
    },
    {
     "name": "stdout",
     "output_type": "stream",
     "text": [
      "✅ Training completed in 63.15s\n",
      "🔍 Validation Phase...\n"
     ]
    },
    {
     "name": "stderr",
     "output_type": "stream",
     "text": [
      "Validation: 100%|██████████████████████████████| 13/13 [00:06<00:00,  1.87it/s, Loss=1.6214, Acc=0.3101]\n"
     ]
    },
    {
     "name": "stdout",
     "output_type": "stream",
     "text": [
      "✅ Validation completed in 6.96s\n",
      "\n",
      "📊 Epoch 46 Summary:\n",
      "│ Train Loss: 1.5707 | Train Acc: 0.3561\n",
      "│ Val Loss:   1.6214 | Val Acc:   0.3101\n",
      "│ Train Time: 63.15s | Val Time: 6.96s\n",
      "│ Total Epoch Time: 70.11s\n",
      "│ Best Val Acc: 0.4159 (Epoch 10)\n",
      "│ GPU Memory: 1.3GB / 6.7GB\n",
      "================================================================================\n",
      "\n",
      "📈 Epoch 47/50\n",
      "--------------------------------------------------\n",
      "🔄 Training Phase...\n"
     ]
    },
    {
     "name": "stderr",
     "output_type": "stream",
     "text": [
      "Training: 100%|██████████████████████████████| 48/48 [01:03<00:00,  1.32s/it, Loss=1.5737, Acc=0.3600]\n"
     ]
    },
    {
     "name": "stdout",
     "output_type": "stream",
     "text": [
      "✅ Training completed in 63.32s\n",
      "🔍 Validation Phase...\n"
     ]
    },
    {
     "name": "stderr",
     "output_type": "stream",
     "text": [
      "Validation: 100%|██████████████████████████████| 13/13 [00:07<00:00,  1.85it/s, Loss=1.6090, Acc=0.3077]\n"
     ]
    },
    {
     "name": "stdout",
     "output_type": "stream",
     "text": [
      "✅ Validation completed in 7.04s\n",
      "\n",
      "📊 Epoch 47 Summary:\n",
      "│ Train Loss: 1.5737 | Train Acc: 0.3600\n",
      "│ Val Loss:   1.6090 | Val Acc:   0.3077\n",
      "│ Train Time: 63.32s | Val Time: 7.04s\n",
      "│ Total Epoch Time: 70.36s\n",
      "│ Best Val Acc: 0.4159 (Epoch 10)\n",
      "│ GPU Memory: 1.3GB / 6.7GB\n",
      "================================================================================\n",
      "\n",
      "📈 Epoch 48/50\n",
      "--------------------------------------------------\n",
      "🔄 Training Phase...\n"
     ]
    },
    {
     "name": "stderr",
     "output_type": "stream",
     "text": [
      "Training: 100%|██████████████████████████████| 48/48 [01:03<00:00,  1.32s/it, Loss=1.5681, Acc=0.3438]\n"
     ]
    },
    {
     "name": "stdout",
     "output_type": "stream",
     "text": [
      "✅ Training completed in 63.21s\n",
      "🔍 Validation Phase...\n"
     ]
    },
    {
     "name": "stderr",
     "output_type": "stream",
     "text": [
      "Validation: 100%|██████████████████████████████| 13/13 [00:06<00:00,  1.86it/s, Loss=1.6552, Acc=0.2933]\n"
     ]
    },
    {
     "name": "stdout",
     "output_type": "stream",
     "text": [
      "✅ Validation completed in 6.99s\n",
      "\n",
      "📊 Epoch 48 Summary:\n",
      "│ Train Loss: 1.5681 | Train Acc: 0.3438\n",
      "│ Val Loss:   1.6552 | Val Acc:   0.2933\n",
      "│ Train Time: 63.21s | Val Time: 6.99s\n",
      "│ Total Epoch Time: 70.21s\n",
      "│ Best Val Acc: 0.4159 (Epoch 10)\n",
      "│ GPU Memory: 1.3GB / 6.7GB\n",
      "================================================================================\n",
      "\n",
      "📈 Epoch 49/50\n",
      "--------------------------------------------------\n",
      "🔄 Training Phase...\n"
     ]
    },
    {
     "name": "stderr",
     "output_type": "stream",
     "text": [
      "Training: 100%|██████████████████████████████| 48/48 [01:03<00:00,  1.31s/it, Loss=1.5747, Acc=0.3366]\n"
     ]
    },
    {
     "name": "stdout",
     "output_type": "stream",
     "text": [
      "✅ Training completed in 63.04s\n",
      "🔍 Validation Phase...\n"
     ]
    },
    {
     "name": "stderr",
     "output_type": "stream",
     "text": [
      "Validation: 100%|██████████████████████████████| 13/13 [00:06<00:00,  1.88it/s, Loss=1.6104, Acc=0.3245]\n"
     ]
    },
    {
     "name": "stdout",
     "output_type": "stream",
     "text": [
      "✅ Validation completed in 6.93s\n",
      "\n",
      "📊 Epoch 49 Summary:\n",
      "│ Train Loss: 1.5747 | Train Acc: 0.3366\n",
      "│ Val Loss:   1.6104 | Val Acc:   0.3245\n",
      "│ Train Time: 63.04s | Val Time: 6.93s\n",
      "│ Total Epoch Time: 69.97s\n",
      "│ Best Val Acc: 0.4159 (Epoch 10)\n",
      "│ GPU Memory: 1.3GB / 6.7GB\n",
      "================================================================================\n",
      "\n",
      "📈 Epoch 50/50\n",
      "--------------------------------------------------\n",
      "🔄 Training Phase...\n"
     ]
    },
    {
     "name": "stderr",
     "output_type": "stream",
     "text": [
      "Training: 100%|██████████████████████████████| 48/48 [01:03<00:00,  1.32s/it, Loss=1.5651, Acc=0.3431]\n"
     ]
    },
    {
     "name": "stdout",
     "output_type": "stream",
     "text": [
      "✅ Training completed in 63.13s\n",
      "🔍 Validation Phase...\n"
     ]
    },
    {
     "name": "stderr",
     "output_type": "stream",
     "text": [
      "Validation: 100%|██████████████████████████████| 13/13 [00:06<00:00,  1.88it/s, Loss=1.6038, Acc=0.3149]\n"
     ]
    },
    {
     "name": "stdout",
     "output_type": "stream",
     "text": [
      "✅ Validation completed in 6.92s\n",
      "\n",
      "📊 Epoch 50 Summary:\n",
      "│ Train Loss: 1.5651 | Train Acc: 0.3431\n",
      "│ Val Loss:   1.6038 | Val Acc:   0.3149\n",
      "│ Train Time: 63.13s | Val Time: 6.92s\n",
      "│ Total Epoch Time: 70.05s\n",
      "│ Best Val Acc: 0.4159 (Epoch 10)\n",
      "│ GPU Memory: 1.3GB / 6.7GB\n",
      "================================================================================\n",
      "\n",
      "💾 Best Vision Transformer model saved as 'best_vit_model.pth'\n",
      "📊 Best model stats:\n",
      "│ Best Epoch: 10\n",
      "│ Best Val Acc: 0.4159\n",
      "\n",
      "💾 Vision Transformer training history saved to 'vit_training_history.csv'\n",
      "\n",
      "🎉 Vision Transformer Training Complete!\n",
      "Total Training Time: 3515.30s (58.6 minutes)\n",
      "Average Epoch Time: 70.31s\n",
      "\n",
      "⏱️  Epoch Timing Breakdown:\n",
      "│ Epoch 1: 75.51s\n",
      "│ Epoch 2: 70.33s\n",
      "│ Epoch 3: 70.46s\n",
      "│ Epoch 4: 70.02s\n",
      "│ Epoch 5: 70.19s\n",
      "│ Epoch 6: 70.33s\n",
      "│ Epoch 7: 70.05s\n",
      "│ Epoch 8: 70.24s\n",
      "│ Epoch 9: 70.33s\n",
      "│ Epoch 10: 70.10s\n",
      "│ Epoch 11: 70.05s\n",
      "│ Epoch 12: 70.11s\n",
      "│ Epoch 13: 70.02s\n",
      "│ Epoch 14: 69.95s\n",
      "│ Epoch 15: 70.27s\n",
      "│ Epoch 16: 70.26s\n",
      "│ Epoch 17: 70.14s\n",
      "│ Epoch 18: 70.19s\n",
      "│ Epoch 19: 70.12s\n",
      "│ Epoch 20: 70.05s\n",
      "│ Epoch 21: 70.23s\n",
      "│ Epoch 22: 70.02s\n",
      "│ Epoch 23: 70.29s\n",
      "│ Epoch 24: 70.84s\n",
      "│ Epoch 25: 70.17s\n",
      "│ Epoch 26: 70.22s\n",
      "│ Epoch 27: 70.16s\n",
      "│ Epoch 28: 70.13s\n",
      "│ Epoch 29: 70.21s\n",
      "│ Epoch 30: 70.19s\n",
      "│ Epoch 31: 70.03s\n",
      "│ Epoch 32: 70.30s\n",
      "│ Epoch 33: 70.17s\n",
      "│ Epoch 34: 70.06s\n",
      "│ Epoch 35: 70.53s\n",
      "│ Epoch 36: 70.16s\n",
      "│ Epoch 37: 70.20s\n",
      "│ Epoch 38: 70.21s\n",
      "│ Epoch 39: 70.86s\n",
      "│ Epoch 40: 69.98s\n",
      "│ Epoch 41: 70.26s\n",
      "│ Epoch 42: 69.94s\n",
      "│ Epoch 43: 70.22s\n",
      "│ Epoch 44: 70.25s\n",
      "│ Epoch 45: 70.23s\n",
      "│ Epoch 46: 70.11s\n",
      "│ Epoch 47: 70.36s\n",
      "│ Epoch 48: 70.21s\n",
      "│ Epoch 49: 69.97s\n",
      "│ Epoch 50: 70.05s\n",
      "\n",
      "🧪 Loading Best Vision Transformer Model for Testing...\n",
      "✅ Best Vision Transformer model from epoch 10 loaded successfully!\n"
     ]
    },
    {
     "name": "stderr",
     "output_type": "stream",
     "text": [
      "Testing Vision Transformer: 100%|██████████████████████████████| 17/17 [00:11<00:00,  1.47it/s]\n",
      "/usr/local/lib/python3.11/dist-packages/sklearn/metrics/_classification.py:1344: UndefinedMetricWarning: Precision and F-score are ill-defined and being set to 0.0 in labels with no predicted samples. Use `zero_division` parameter to control this behavior.\n",
      "  _warn_prf(average, modifier, msg_start, len(result))\n",
      "/usr/local/lib/python3.11/dist-packages/sklearn/metrics/_classification.py:1344: UndefinedMetricWarning: Precision and F-score are ill-defined and being set to 0.0 in labels with no predicted samples. Use `zero_division` parameter to control this behavior.\n",
      "  _warn_prf(average, modifier, msg_start, len(result))\n",
      "/usr/local/lib/python3.11/dist-packages/sklearn/metrics/_classification.py:1344: UndefinedMetricWarning: Precision and F-score are ill-defined and being set to 0.0 in labels with no predicted samples. Use `zero_division` parameter to control this behavior.\n",
      "  _warn_prf(average, modifier, msg_start, len(result))\n"
     ]
    },
    {
     "name": "stdout",
     "output_type": "stream",
     "text": [
      "✅ Vision Transformer Testing completed in 11.54s\n",
      "\n",
      "📋 Vision Transformer Classification Report:\n",
      "              precision    recall  f1-score   support\n",
      "\n",
      "        Four       0.00      0.00      0.00        40\n",
      "     Leg_Bye       0.00      0.00      0.00        40\n",
      "     No_ball       0.12      0.01      0.02       104\n",
      "         Out       0.00      0.00      0.00        48\n",
      "         Six       0.33      0.51      0.41       152\n",
      "        Wide       0.27      0.55      0.36       136\n",
      "\n",
      "    accuracy                           0.30       520\n",
      "   macro avg       0.12      0.18      0.13       520\n",
      "weighted avg       0.19      0.30      0.22       520\n",
      "\n",
      "🎯 Vision Transformer Test Accuracy: 0.2962\n",
      "\n",
      "📊 Vision Transformer Model Performance Summary:\n",
      "│ Best Validation Acc:  0.4159 (Epoch 10)\n",
      "│ Final Test Accuracy:  0.2962\n",
      "│ Val-Test Gap:         0.1197\n"
     ]
    },
    {
     "data": {
      "image/png": "[encoded data removed]",
      "text/plain": [
       "<Figure size 800x600 with 2 Axes>"
      ]
     },
     "metadata": {},
     "output_type": "display_data"
    },
    {
     "data": {
      "image/png": "[encoded data removed]",
      "text/plain": [
       "<Figure size 2000x500 with 4 Axes>"
      ]
     },
     "metadata": {},
     "output_type": "display_data"
    },
    {
     "name": "stdout",
     "output_type": "stream",
     "text": [
      "\n",
      "⏰ Vision Transformer Final Timing Summary:\n",
      "│ Total Training: 3515.30s\n",
      "│ Average per Epoch: 70.31s\n",
      "│ Testing Time: 11.54s\n",
      "│ Total Runtime: 3526.85s\n",
      "\n",
      "💾 Vision Transformer Files saved:\n",
      "│ best_vit_model.pth - Best validation accuracy model\n",
      "│ vit_training_history.csv - Training metrics for later plotting\n",
      "\n",
      "🏗️  Vision Transformer Architecture Summary:\n",
      "│ Total Parameters: 85,803,270\n",
      "│ Trainable Parameters: 85,803,270\n",
      "│ Model Size: 327.31 MB\n",
      "│ Input Size: 224x224x3\n",
      "│ Patch Size: 16x16\n",
      "│ Number of Patches: 196\n",
      "│ Embed Dimension: 768\n",
      "│ Number of Heads: 12\n",
      "│ Number of Layers: 12\n",
      "│ MLP Ratio: 4.0\n",
      "│ Output Classes: 6\n",
      "│ Activation: GELU\n",
      "│ Attention Dropout: 0.1\n",
      "│ Embedding Dropout: 0.1\n"
     ]
    }
   ],
   "source": [
    "# -----------------------------\n",
    "# 4. Training Loop with Best Model Saving (Val Accuracy) - Vision Transformer\n",
    "# -----------------------------\n",
    "train_losses, val_losses = [], []\n",
    "train_accs, val_accs = [], []\n",
    "epoch_times = []\n",
    "epochs = 50\n",
    "\n",
    "# Initialize best model tracking\n",
    "best_val_acc = 0.0\n",
    "best_model_state = None\n",
    "best_epoch = 0\n",
    "\n",
    "print(f\"\\n🚀 Starting Vision Transformer Training for {epochs} epochs...\")\n",
    "print(\"=\" * 80)\n",
    "\n",
    "total_start_time = time.time()\n",
    "\n",
    "for epoch in range(epochs):\n",
    "    epoch_start_time = time.time()\n",
    "    \n",
    "    print(f\"\\n📈 Epoch {epoch+1}/{epochs}\")\n",
    "    print(\"-\" * 50)\n",
    "    \n",
    "    # Training Phase\n",
    "    print(\"🔄 Training Phase...\")\n",
    "    model.train()\n",
    "    running_loss, correct, total = 0, 0, 0\n",
    "    \n",
    "    train_pbar = tqdm(train_loader, desc=f\"Training\", \n",
    "                     bar_format='{l_bar}{bar:30}{r_bar}{bar:-30b}')\n",
    "    \n",
    "    train_phase_start = time.time()\n",
    "    \n",
    "    for batch_idx, (imgs, labels) in enumerate(train_pbar):\n",
    "        imgs, labels = imgs.to(device), labels.to(device)\n",
    "        \n",
    "        optimizer.zero_grad()\n",
    "        outputs = model(imgs)\n",
    "        loss = criterion(outputs, labels)\n",
    "        loss.backward()\n",
    "        \n",
    "        # Gradient clipping for stability\n",
    "        torch.nn.utils.clip_grad_norm_(model.parameters(), max_norm=1.0)\n",
    "        \n",
    "        optimizer.step()\n",
    "        \n",
    "        running_loss += loss.item()\n",
    "        _, preds = torch.max(outputs, 1)\n",
    "        correct += (preds == labels).sum().item()\n",
    "        total += labels.size(0)\n",
    "        \n",
    "        current_acc = correct / total\n",
    "        train_pbar.set_postfix({\n",
    "            'Loss': f'{running_loss/(batch_idx+1):.4f}',\n",
    "            'Acc': f'{current_acc:.4f}'\n",
    "        })\n",
    "        \n",
    "        if device.type == 'cuda' and batch_idx % 10 == 0:\n",
    "            gpu_memory = torch.cuda.memory_allocated() / 1024**3\n",
    "            train_pbar.set_postfix({\n",
    "                'Loss': f'{running_loss/(batch_idx+1):.4f}',\n",
    "                'Acc': f'{current_acc:.4f}',\n",
    "                'GPU': f'{gpu_memory:.1f}GB'\n",
    "            })\n",
    "    \n",
    "    train_phase_time = time.time() - train_phase_start\n",
    "    train_loss = running_loss / len(train_loader)\n",
    "    train_acc = correct / total\n",
    "    train_losses.append(train_loss)\n",
    "    train_accs.append(train_acc)\n",
    "    \n",
    "    print(f\"✅ Training completed in {train_phase_time:.2f}s\")\n",
    "    \n",
    "    # Validation Phase\n",
    "    print(\"🔍 Validation Phase...\")\n",
    "    model.eval()\n",
    "    running_loss, correct, total = 0, 0, 0\n",
    "    \n",
    "    val_phase_start = time.time()\n",
    "    val_pbar = tqdm(val_loader, desc=f\"Validation\", \n",
    "                   bar_format='{l_bar}{bar:30}{r_bar}{bar:-30b}')\n",
    "    \n",
    "    with torch.no_grad():\n",
    "        for batch_idx, (imgs, labels) in enumerate(val_pbar):\n",
    "            imgs, labels = imgs.to(device), labels.to(device)\n",
    "            outputs = model(imgs)\n",
    "            loss = criterion(outputs, labels)\n",
    "            \n",
    "            running_loss += loss.item()\n",
    "            _, preds = torch.max(outputs, 1)\n",
    "            correct += (preds == labels).sum().item()\n",
    "            total += labels.size(0)\n",
    "            \n",
    "            current_acc = correct / total\n",
    "            val_pbar.set_postfix({\n",
    "                'Loss': f'{running_loss/(batch_idx+1):.4f}',\n",
    "                'Acc': f'{current_acc:.4f}'\n",
    "            })\n",
    "    \n",
    "    val_phase_time = time.time() - val_phase_start\n",
    "    val_loss = running_loss / len(val_loader)\n",
    "    val_acc = correct / total\n",
    "    val_losses.append(val_loss)\n",
    "    val_accs.append(val_acc)\n",
    "    \n",
    "    print(f\"✅ Validation completed in {val_phase_time:.2f}s\")\n",
    "    \n",
    "    # Check if this is the best model so far based on val_acc\n",
    "    is_best = val_acc > best_val_acc\n",
    "    if is_best:\n",
    "        best_val_acc = val_acc\n",
    "        best_epoch = epoch + 1\n",
    "        best_model_state = model.state_dict().copy()\n",
    "        print(f\"🌟 New best Vision Transformer model found! Validation Accuracy: {val_acc:.4f}\")\n",
    "    \n",
    "    # Epoch Summary\n",
    "    epoch_time = time.time() - epoch_start_time\n",
    "    epoch_times.append(epoch_time)\n",
    "    \n",
    "    print(f\"\\n📊 Epoch {epoch+1} Summary:\")\n",
    "    print(f\"│ Train Loss: {train_loss:.4f} | Train Acc: {train_acc:.4f}\")\n",
    "    print(f\"│ Val Loss:   {val_loss:.4f} | Val Acc:   {val_acc:.4f}\")\n",
    "    print(f\"│ Train Time: {train_phase_time:.2f}s | Val Time: {val_phase_time:.2f}s\")\n",
    "    print(f\"│ Total Epoch Time: {epoch_time:.2f}s\")\n",
    "    print(f\"│ Best Val Acc: {best_val_acc:.4f} (Epoch {best_epoch})\")\n",
    "    \n",
    "    if device.type == 'cuda':\n",
    "        print(f\"│ GPU Memory: {torch.cuda.memory_allocated()/1024**3:.1f}GB / {torch.cuda.memory_reserved()/1024**3:.1f}GB\")\n",
    "    \n",
    "    print(\"=\" * 80)\n",
    "\n",
    "total_training_time = time.time() - total_start_time\n",
    "\n",
    "# Save the best model\n",
    "if best_model_state is not None:\n",
    "    torch.save(best_model_state, 'best_vit_model.pth')\n",
    "    print(f\"\\n💾 Best Vision Transformer model saved as 'best_vit_model.pth'\")\n",
    "    print(f\"📊 Best model stats:\")\n",
    "    print(f\"│ Best Epoch: {best_epoch}\")\n",
    "    print(f\"│ Best Val Acc: {best_val_acc:.4f}\")\n",
    "\n",
    "# Save training history data to CSV\n",
    "history_data = {\n",
    "    'epoch': list(range(1, epochs+1)),\n",
    "    'train_loss': train_losses,\n",
    "    'val_loss': val_losses,\n",
    "    'train_acc': train_accs,\n",
    "    'val_acc': val_accs,\n",
    "    'epoch_time': epoch_times\n",
    "}\n",
    "history_df = pd.DataFrame(history_data)\n",
    "history_df.to_csv('vit_training_history.csv', index=False)\n",
    "print(\"\\n💾 Vision Transformer training history saved to 'vit_training_history.csv'\")\n",
    "\n",
    "# Training Summary\n",
    "print(f\"\\n🎉 Vision Transformer Training Complete!\")\n",
    "print(f\"Total Training Time: {total_training_time:.2f}s ({total_training_time/60:.1f} minutes)\")\n",
    "print(f\"Average Epoch Time: {np.mean(epoch_times):.2f}s\")\n",
    "print(\"\\n⏱️  Epoch Timing Breakdown:\")\n",
    "for i, t in enumerate(epoch_times):\n",
    "    print(f\"│ Epoch {i+1}: {t:.2f}s\")\n",
    "\n",
    "# -----------------------------\n",
    "# 5. Load Best Model and Test\n",
    "# -----------------------------\n",
    "print(f\"\\n🧪 Loading Best Vision Transformer Model for Testing...\")\n",
    "\n",
    "# Load the best model state\n",
    "if best_model_state is not None:\n",
    "    model.load_state_dict(best_model_state)\n",
    "    print(f\"✅ Best Vision Transformer model from epoch {best_epoch} loaded successfully!\")\n",
    "else:\n",
    "    print(\"⚠️  No best model found, using current model state\")\n",
    "\n",
    "test_start_time = time.time()\n",
    "y_true, y_pred = [], []\n",
    "model.eval()\n",
    "\n",
    "test_pbar = tqdm(test_loader, desc=\"Testing Vision Transformer\", \n",
    "                bar_format='{l_bar}{bar:30}{r_bar}{bar:-30b}')\n",
    "\n",
    "with torch.no_grad():\n",
    "    for imgs, labels in test_pbar:\n",
    "        imgs, labels = imgs.to(device), labels.to(device)\n",
    "        outputs = model(imgs)\n",
    "        _, preds = torch.max(outputs, 1)\n",
    "        y_true.extend(labels.cpu().numpy())\n",
    "        y_pred.extend(preds.cpu().numpy())\n",
    "\n",
    "test_time = time.time() - test_start_time\n",
    "test_accuracy = accuracy_score(y_true, y_pred)\n",
    "\n",
    "print(f\"✅ Vision Transformer Testing completed in {test_time:.2f}s\")\n",
    "print(\"\\n📋 Vision Transformer Classification Report:\")\n",
    "print(classification_report(y_true, y_pred, target_names=classes))\n",
    "print(f\"🎯 Vision Transformer Test Accuracy: {test_accuracy:.4f}\")\n",
    "\n",
    "# Model Performance Summary\n",
    "print(f\"\\n📊 Vision Transformer Model Performance Summary:\")\n",
    "print(f\"│ Best Validation Acc:  {best_val_acc:.4f} (Epoch {best_epoch})\")\n",
    "print(f\"│ Final Test Accuracy:  {test_accuracy:.4f}\")\n",
    "print(f\"│ Val-Test Gap:         {abs(best_val_acc - test_accuracy):.4f}\")\n",
    "\n",
    "# Confusion Matrix\n",
    "cm = confusion_matrix(y_true, y_pred)\n",
    "plt.figure(figsize=(8, 6))\n",
    "sns.heatmap(cm, annot=True, fmt=\"d\", cmap=\"Reds\", xticklabels=classes, yticklabels=classes)\n",
    "plt.xlabel(\"Predicted\")\n",
    "plt.ylabel(\"True\")\n",
    "plt.title(f\"Vision Transformer Confusion Matrix - Best Model (Epoch {best_epoch})\")\n",
    "plt.show()\n",
    "\n",
    "# -----------------------------\n",
    "# 6. Enhanced Visualizations\n",
    "# -----------------------------\n",
    "plt.figure(figsize=(20, 5))\n",
    "\n",
    "# Loss Plot\n",
    "plt.subplot(1, 4, 1)\n",
    "plt.plot(range(1, epochs+1), train_losses, 'b-', label=\"Train Loss\", marker='o', linewidth=2)\n",
    "plt.plot(range(1, epochs+1), val_losses, 'r-', label=\"Val Loss\", marker='s', linewidth=2)\n",
    "plt.axvline(x=best_epoch, color='red', linestyle='--', alpha=0.7, label=f'Best (Epoch {best_epoch})')\n",
    "plt.legend()\n",
    "plt.title(\"Vision Transformer Loss over Epochs\")\n",
    "plt.xlabel(\"Epoch\")\n",
    "plt.ylabel(\"Loss\")\n",
    "plt.grid(True, alpha=0.3)\n",
    "\n",
    "# Accuracy Plot\n",
    "plt.subplot(1, 4, 2)\n",
    "plt.plot(range(1, epochs+1), train_accs, 'b-', label=\"Train Accuracy\", marker='o', linewidth=2)\n",
    "plt.plot(range(1, epochs+1), val_accs, 'r-', label=\"Val Accuracy\", marker='s', linewidth=2)\n",
    "plt.axvline(x=best_epoch, color='red', linestyle='--', alpha=0.7, label=f'Best (Epoch {best_epoch})')\n",
    "plt.scatter([best_epoch], [best_val_acc], color='red', s=100, zorder=5)\n",
    "plt.legend()\n",
    "plt.title(\"Vision Transformer Accuracy over Epochs\")\n",
    "plt.xlabel(\"Epoch\")\n",
    "plt.ylabel(\"Accuracy\")\n",
    "plt.grid(True, alpha=0.3)\n",
    "\n",
    "# Timing Plot\n",
    "plt.subplot(1, 4, 3)\n",
    "bars = plt.bar(range(1, epochs+1), epoch_times, color='lightcoral', alpha=0.7)\n",
    "bars[best_epoch-1].set_color('red')\n",
    "plt.title(\"Vision Transformer Training Time per Epoch\")\n",
    "plt.xlabel(\"Epoch\")\n",
    "plt.ylabel(\"Time (seconds)\")\n",
    "plt.grid(True, alpha=0.3)\n",
    "for i, t in enumerate(epoch_times):\n",
    "    plt.text(i+1, t+0.5, f'{t:.1f}s', ha='center', va='bottom')\n",
    "\n",
    "# Performance Comparison\n",
    "plt.subplot(1, 4, 4)\n",
    "metrics = ['Best Val Acc', 'Test Acc']\n",
    "values = [best_val_acc, test_accuracy]\n",
    "colors = ['lightcoral', 'red']\n",
    "bars = plt.bar(metrics, values, color=colors, alpha=0.7)\n",
    "plt.title(\"Vision Transformer Final Model Performance\")\n",
    "plt.ylabel(\"Accuracy\")\n",
    "plt.ylim(0, 1)\n",
    "plt.grid(True, alpha=0.3)\n",
    "for bar, val in zip(bars, values):\n",
    "    plt.text(bar.get_x() + bar.get_width()/2, val + 0.01, \n",
    "             f'{val:.4f}', ha='center', va='bottom')\n",
    "\n",
    "plt.tight_layout()\n",
    "plt.show()\n",
    "\n",
    "print(f\"\\n⏰ Vision Transformer Final Timing Summary:\")\n",
    "print(f\"│ Total Training: {total_training_time:.2f}s\")\n",
    "print(f\"│ Average per Epoch: {np.mean(epoch_times):.2f}s\")\n",
    "print(f\"│ Testing Time: {test_time:.2f}s\")\n",
    "print(f\"│ Total Runtime: {total_training_time + test_time:.2f}s\")\n",
    "\n",
    "print(f\"\\n💾 Vision Transformer Files saved:\")\n",
    "print(f\"│ best_vit_model.pth - Best validation accuracy model\")\n",
    "print(f\"│ vit_training_history.csv - Training metrics for later plotting\")\n",
    "\n",
    "# -----------------------------\n",
    "# 7. Vision Transformer Architecture Summary\n",
    "# -----------------------------\n",
    "print(f\"\\n🏗️  Vision Transformer Architecture Summary:\")\n",
    "print(f\"│ Total Parameters: {sum(p.numel() for p in model.parameters()):,}\")\n",
    "print(f\"│ Trainable Parameters: {sum(p.numel() for p in model.parameters() if p.requires_grad):,}\")\n",
    "print(f\"│ Model Size: {sum(p.numel() * p.element_size() for p in model.parameters()) / 1024**2:.2f} MB\")\n",
    "print(f\"│ Input Size: 224x224x3\")\n",
    "print(f\"│ Patch Size: 16x16\")\n",
    "print(f\"│ Number of Patches: {model.patch_embed.n_patches}\")\n",
    "print(f\"│ Embed Dimension: {model.embed_dim}\")\n",
    "print(f\"│ Number of Heads: 12\")\n",
    "print(f\"│ Number of Layers: 12\")\n",
    "print(f\"│ MLP Ratio: 4.0\")\n",
    "print(f\"│ Output Classes: {len(classes)}\")\n",
    "print(f\"│ Activation: GELU\")\n",
    "print(f\"│ Attention Dropout: 0.1\")\n",
    "print(f\"│ Embedding Dropout: 0.1\")\n"
   ]
  }
 ],
 "metadata": {
  "kaggle": {
   "accelerator": "nvidiaTeslaT4",
   "dataSources": [
    {
     "datasetId": 7735666,
     "sourceId": 12275446,
     "sourceType": "datasetVersion"
    }
   ],
   "dockerImageVersionId": 31090,
   "isGpuEnabled": true,
   "isInternetEnabled": true,
   "language": "python",
   "sourceType": "notebook"
  },
  "kernelspec": {
   "display_name": "Python 3",
   "language": "python",
   "name": "python3"
  },
  "language_info": {
   "codemirror_mode": {
    "name": "ipython",
    "version": 3
   },
   "file_extension": ".py",
   "mimetype": "text/x-python",
   "name": "python",
   "nbconvert_exporter": "python",
   "pygments_lexer": "ipython3",
   "version": "3.11.13"
  },
  "papermill": {
   "default_parameters": {},
   "duration": 3549.856098,
   "end_time": "2025-09-08T15:41:52.233476",
   "environment_variables": {},
   "exception": null,
   "input_path": "__notebook__.ipynb",
   "output_path": "__notebook__.ipynb",
   "parameters": {},
   "start_time": "2025-09-08T14:42:42.377378",
   "version": "2.6.0"
  }
 },
 "nbformat": 4,
 "nbformat_minor": 5
}
