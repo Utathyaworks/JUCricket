{
 "cells": [
  {
   "cell_type": "code",
   "execution_count": 1,
   "id": "cbe97362",
   "metadata": {
    "_cell_guid": "b1076dfc-b9ad-4769-8c92-a6c4dae69d19",
    "_uuid": "8f2839f25d086af736a60e9eeb907d3b93b6e0e5",
    "execution": {
     "iopub.execute_input": "2025-09-08T10:01:02.561161Z",
     "iopub.status.busy": "2025-09-08T10:01:02.560965Z",
     "iopub.status.idle": "2025-09-08T10:01:17.754316Z",
     "shell.execute_reply": "2025-09-08T10:01:17.753489Z"
    },
    "papermill": {
     "duration": 15.198629,
     "end_time": "2025-09-08T10:01:17.755689",
     "exception": false,
     "start_time": "2025-09-08T10:01:02.557060",
     "status": "completed"
    },
    "tags": []
   },
   "outputs": [
    {
     "name": "stdout",
     "output_type": "stream",
     "text": [
      "Batting Subclasses: ['Four', 'Leg_Bye', 'No_ball', 'Out', 'Six', 'Wide']\n",
      "Train samples: 1728 Val samples: 468 Test samples: 585\n"
     ]
    }
   ],
   "source": [
    "import torch\n",
    "from torch.utils.data import DataLoader\n",
    "from torchvision import datasets, transforms\n",
    "\n",
    "# -----------------------------\n",
    "# 1. Data Preprocessing (Batting Subclasses)\n",
    "# -----------------------------\n",
    "base_dir = \"/kaggle/input/ju-cricket/Cricket_Dataset_final/Task_B\"\n",
    "\n",
    "transform = transforms.Compose([\n",
    "    transforms.Resize((224, 224)),   \n",
    "    transforms.ToTensor(),\n",
    "    transforms.Normalize([0.485, 0.456, 0.406], \n",
    "                         [0.229, 0.224, 0.225])\n",
    "])\n",
    "\n",
    "# Point directly inside Batting folder\n",
    "train_ds = datasets.ImageFolder(f\"{base_dir}/train/Umpire\", transform=transform)\n",
    "val_ds   = datasets.ImageFolder(f\"{base_dir}/val/Umpire\", transform=transform)\n",
    "test_ds  = datasets.ImageFolder(f\"{base_dir}/test/Umpire\", transform=transform)\n",
    "\n",
    "train_loader = DataLoader(train_ds, batch_size=32, shuffle=True)\n",
    "val_loader   = DataLoader(val_ds, batch_size=32, shuffle=False)\n",
    "test_loader  = DataLoader(test_ds, batch_size=32, shuffle=False)\n",
    "\n",
    "classes = train_ds.classes\n",
    "print(\"Batting Subclasses:\", classes)\n",
    "print(\"Train samples:\", len(train_ds), \"Val samples:\", len(val_ds), \"Test samples:\", len(test_ds))\n"
   ]
  },
  {
   "cell_type": "code",
   "execution_count": 2,
   "id": "b7350e14",
   "metadata": {
    "execution": {
     "iopub.execute_input": "2025-09-08T10:01:17.762128Z",
     "iopub.status.busy": "2025-09-08T10:01:17.761830Z",
     "iopub.status.idle": "2025-09-08T10:01:17.766352Z",
     "shell.execute_reply": "2025-09-08T10:01:17.765627Z"
    },
    "papermill": {
     "duration": 0.008656,
     "end_time": "2025-09-08T10:01:17.767343",
     "exception": false,
     "start_time": "2025-09-08T10:01:17.758687",
     "status": "completed"
    },
    "tags": []
   },
   "outputs": [
    {
     "name": "stdout",
     "output_type": "stream",
     "text": [
      "Total training images: 1728\n",
      "Total validation images: 468\n",
      "Total test images: 585\n",
      "Total images in dataset: 2781\n"
     ]
    }
   ],
   "source": [
    "print(\"Total training images:\", len(train_ds))\n",
    "print(\"Total validation images:\", len(val_ds))\n",
    "print(\"Total test images:\", len(test_ds))\n",
    "\n",
    "total_images = len(train_ds) + len(val_ds) + len(test_ds)\n",
    "print(\"Total images in dataset:\", total_images)"
   ]
  },
  {
   "cell_type": "code",
   "execution_count": 3,
   "id": "fdc287bf",
   "metadata": {
    "execution": {
     "iopub.execute_input": "2025-09-08T10:01:17.773004Z",
     "iopub.status.busy": "2025-09-08T10:01:17.772805Z",
     "iopub.status.idle": "2025-09-08T10:01:17.779348Z",
     "shell.execute_reply": "2025-09-08T10:01:17.778838Z"
    },
    "papermill": {
     "duration": 0.010544,
     "end_time": "2025-09-08T10:01:17.780423",
     "exception": false,
     "start_time": "2025-09-08T10:01:17.769879",
     "status": "completed"
    },
    "tags": []
   },
   "outputs": [
    {
     "name": "stdout",
     "output_type": "stream",
     "text": [
      "Training images (excluding 'random_occlusion'): 1536\n",
      "Validation images (excluding 'random_occlusion'): 416\n",
      "Test images (excluding 'random_occlusion'): 520\n",
      "Total images (excluding 'random_occlusion'): 2472\n"
     ]
    }
   ],
   "source": [
    "ignore_folder = \"random_occlusion\"\n",
    "\n",
    "def count_images_ignore_folder(dataset, ignore_folder):\n",
    "    count = 0\n",
    "    for img_path, label in dataset.samples:\n",
    "        # Skip if the image path contains the ignore_folder\n",
    "        if ignore_folder not in img_path.split(\"/\"):\n",
    "            count += 1\n",
    "    return count\n",
    "\n",
    "train_count = count_images_ignore_folder(train_ds, ignore_folder)\n",
    "val_count   = count_images_ignore_folder(val_ds, ignore_folder)\n",
    "test_count  = count_images_ignore_folder(test_ds, ignore_folder)\n",
    "\n",
    "total_count = train_count + val_count + test_count\n",
    "\n",
    "print(\"Training images (excluding '{}'): {}\".format(ignore_folder, train_count))\n",
    "print(\"Validation images (excluding '{}'): {}\".format(ignore_folder, val_count))\n",
    "print(\"Test images (excluding '{}'): {}\".format(ignore_folder, test_count))\n",
    "print(\"Total images (excluding '{}'): {}\".format(ignore_folder, total_count))"
   ]
  },
  {
   "cell_type": "code",
   "execution_count": 4,
   "id": "6e5993bb",
   "metadata": {
    "execution": {
     "iopub.execute_input": "2025-09-08T10:01:17.786435Z",
     "iopub.status.busy": "2025-09-08T10:01:17.786076Z",
     "iopub.status.idle": "2025-09-08T10:01:17.793591Z",
     "shell.execute_reply": "2025-09-08T10:01:17.792876Z"
    },
    "papermill": {
     "duration": 0.011503,
     "end_time": "2025-09-08T10:01:17.794576",
     "exception": false,
     "start_time": "2025-09-08T10:01:17.783073",
     "status": "completed"
    },
    "tags": []
   },
   "outputs": [
    {
     "name": "stdout",
     "output_type": "stream",
     "text": [
      "Training folders considered: {'lens_flare', 'motion_blur', 'original', 'chromatic_aberration', 'low_resolution', 'blur', 'dirty_lens', 'random_occlusion', 'gaussian_noise'}\n",
      "Validation folders considered: {'lens_flare', 'motion_blur', 'original', 'chromatic_aberration', 'low_resolution', 'blur', 'dirty_lens', 'random_occlusion', 'gaussian_noise'}\n",
      "Test folders considered: {'lens_flare', 'motion_blur', 'original', 'chromatic_aberration', 'low_resolution', 'blur', 'dirty_lens', 'random_occlusion', 'gaussian_noise'}\n"
     ]
    }
   ],
   "source": [
    "ignore_folder = \"random_occlusionw\"\n",
    "\n",
    "def get_included_folders(dataset, ignore_folder):\n",
    "    included = set()\n",
    "    for img_path, label in dataset.samples:\n",
    "        # Split the path into parts and ignore if ignore_folder is in the path\n",
    "        if ignore_folder not in img_path.split(\"/\"):\n",
    "            # The folder name just above the image (or the class folder)\n",
    "            folder_name = img_path.split(\"/\")[-2]\n",
    "            included.add(folder_name)\n",
    "    return included\n",
    "\n",
    "train_folders = get_included_folders(train_ds, ignore_folder)\n",
    "val_folders   = get_included_folders(val_ds, ignore_folder)\n",
    "test_folders  = get_included_folders(test_ds, ignore_folder)\n",
    "\n",
    "print(\"Training folders considered:\", train_folders)\n",
    "print(\"Validation folders considered:\", val_folders)\n",
    "print(\"Test folders considered:\", test_folders)"
   ]
  },
  {
   "cell_type": "code",
   "execution_count": 5,
   "id": "0d3d3c68",
   "metadata": {
    "execution": {
     "iopub.execute_input": "2025-09-08T10:01:17.800294Z",
     "iopub.status.busy": "2025-09-08T10:01:17.800125Z",
     "iopub.status.idle": "2025-09-08T10:01:17.916817Z",
     "shell.execute_reply": "2025-09-08T10:01:17.916204Z"
    },
    "papermill": {
     "duration": 0.12069,
     "end_time": "2025-09-08T10:01:17.917794",
     "exception": false,
     "start_time": "2025-09-08T10:01:17.797104",
     "status": "completed"
    },
    "tags": []
   },
   "outputs": [
    {
     "name": "stdout",
     "output_type": "stream",
     "text": [
      "Classes: ['Four', 'Leg_Bye', 'No_ball', 'Out', 'Six', 'Wide']\n",
      "Final Training images: 1536\n",
      "Final Validation images: 416\n",
      "Final Test images: 520\n",
      "Total images after filtering: 2472\n"
     ]
    }
   ],
   "source": [
    "ignore_folder = \"random_occlusion\"\n",
    "\n",
    "def filter_samples(dataset, ignore_folder):\n",
    "    # Keep only samples where ignore_folder is NOT in the path\n",
    "    filtered_samples = [s for s in dataset.samples if ignore_folder not in s[0].split(\"/\")]\n",
    "    dataset.samples = filtered_samples\n",
    "    dataset.targets = [s[1] for s in filtered_samples]  # Update targets accordingly\n",
    "    return dataset\n",
    "\n",
    "# Create original datasets\n",
    "train_ds = datasets.ImageFolder(f\"{base_dir}/train/Umpire\", transform=transform)\n",
    "val_ds   = datasets.ImageFolder(f\"{base_dir}/val/Umpire\", transform=transform)\n",
    "test_ds  = datasets.ImageFolder(f\"{base_dir}/test/Umpire\", transform=transform)\n",
    "\n",
    "# Filter out 'random_occlusion' folder\n",
    "train_ds = filter_samples(train_ds, ignore_folder)\n",
    "val_ds   = filter_samples(val_ds, ignore_folder)\n",
    "test_ds  = filter_samples(test_ds, ignore_folder)\n",
    "\n",
    "# DataLoaders\n",
    "train_loader = DataLoader(train_ds, batch_size=32, shuffle=True)\n",
    "val_loader   = DataLoader(val_ds, batch_size=32, shuffle=False)\n",
    "test_loader  = DataLoader(test_ds, batch_size=32, shuffle=False)\n",
    "\n",
    "# Classes (will remain the same)\n",
    "classes = train_ds.classes\n",
    "print(\"Classes:\", classes)\n",
    "\n",
    "# Show counts\n",
    "print(\"Final Training images:\", len(train_ds))\n",
    "print(\"Final Validation images:\", len(val_ds))\n",
    "print(\"Final Test images:\", len(test_ds))\n",
    "print(\"Total images after filtering:\", len(train_ds) + len(val_ds) + len(test_ds))"
   ]
  },
  {
   "cell_type": "code",
   "execution_count": 6,
   "id": "d92d4322",
   "metadata": {
    "execution": {
     "iopub.execute_input": "2025-09-08T10:01:17.923797Z",
     "iopub.status.busy": "2025-09-08T10:01:17.923599Z",
     "iopub.status.idle": "2025-09-08T10:01:17.931988Z",
     "shell.execute_reply": "2025-09-08T10:01:17.931320Z"
    },
    "papermill": {
     "duration": 0.012663,
     "end_time": "2025-09-08T10:01:17.933072",
     "exception": false,
     "start_time": "2025-09-08T10:01:17.920409",
     "status": "completed"
    },
    "tags": []
   },
   "outputs": [
    {
     "name": "stdout",
     "output_type": "stream",
     "text": [
      "Training folders considered: {'lens_flare', 'motion_blur', 'original', 'chromatic_aberration', 'low_resolution', 'blur', 'dirty_lens', 'gaussian_noise'}\n",
      "Validation folders considered: {'lens_flare', 'motion_blur', 'original', 'chromatic_aberration', 'low_resolution', 'blur', 'dirty_lens', 'gaussian_noise'}\n",
      "Test folders considered: {'lens_flare', 'motion_blur', 'original', 'chromatic_aberration', 'low_resolution', 'blur', 'dirty_lens', 'gaussian_noise'}\n"
     ]
    }
   ],
   "source": [
    "ignore_folder = \"random_occlusion\"\n",
    "\n",
    "def get_included_folders(dataset, ignore_folder):\n",
    "    included = set()\n",
    "    for img_path, label in dataset.samples:\n",
    "        # Split the path into parts and ignore if ignore_folder is in the path\n",
    "        if ignore_folder not in img_path.split(\"/\"):\n",
    "            # The folder name just above the image (or the class folder)\n",
    "            folder_name = img_path.split(\"/\")[-2]\n",
    "            included.add(folder_name)\n",
    "    return included\n",
    "\n",
    "train_folders = get_included_folders(train_ds, ignore_folder)\n",
    "val_folders   = get_included_folders(val_ds, ignore_folder)\n",
    "test_folders  = get_included_folders(test_ds, ignore_folder)\n",
    "\n",
    "print(\"Training folders considered:\", train_folders)\n",
    "print(\"Validation folders considered:\", val_folders)\n",
    "print(\"Test folders considered:\", test_folders)"
   ]
  },
  {
   "cell_type": "code",
   "execution_count": 7,
   "id": "09037dab",
   "metadata": {
    "execution": {
     "iopub.execute_input": "2025-09-08T10:01:17.939076Z",
     "iopub.status.busy": "2025-09-08T10:01:17.938890Z",
     "iopub.status.idle": "2025-09-08T10:01:21.961790Z",
     "shell.execute_reply": "2025-09-08T10:01:21.961188Z"
    },
    "papermill": {
     "duration": 4.027265,
     "end_time": "2025-09-08T10:01:21.963053",
     "exception": false,
     "start_time": "2025-09-08T10:01:17.935788",
     "status": "completed"
    },
    "tags": []
   },
   "outputs": [],
   "source": [
    "import seaborn as sns\n",
    "import numpy as np\n",
    "import time\n",
    "from tqdm import tqdm"
   ]
  },
  {
   "cell_type": "code",
   "execution_count": 8,
   "id": "0d6c3f8e",
   "metadata": {
    "execution": {
     "iopub.execute_input": "2025-09-08T10:01:21.970033Z",
     "iopub.status.busy": "2025-09-08T10:01:21.969750Z",
     "iopub.status.idle": "2025-09-08T10:01:22.342621Z",
     "shell.execute_reply": "2025-09-08T10:01:22.342034Z"
    },
    "papermill": {
     "duration": 0.378061,
     "end_time": "2025-09-08T10:01:22.344114",
     "exception": false,
     "start_time": "2025-09-08T10:01:21.966053",
     "status": "completed"
    },
    "tags": []
   },
   "outputs": [],
   "source": [
    "# -----------------------------\n",
    "# 2. Define ResNet50 Model from Scratch\n",
    "# -----------------------------\n",
    "import torch\n",
    "import torch.nn as nn\n",
    "import torch.nn.functional as F\n",
    "import numpy as np\n",
    "import matplotlib.pyplot as plt\n",
    "import seaborn as sns\n",
    "from torchsummary import summary\n",
    "from sklearn.metrics import accuracy_score, classification_report, confusion_matrix\n",
    "import pandas as pd\n",
    "from tqdm import tqdm\n",
    "import time\n",
    "\n",
    "class Bottleneck(nn.Module):\n",
    "    \"\"\"Bottleneck block for ResNet50\"\"\"\n",
    "    expansion = 4\n",
    "    \n",
    "    def __init__(self, inplanes, planes, stride=1, downsample=None):\n",
    "        super().__init__()\n",
    "        self.conv1 = nn.Conv2d(inplanes, planes, kernel_size=1, bias=False)\n",
    "        self.bn1 = nn.BatchNorm2d(planes)\n",
    "        self.conv2 = nn.Conv2d(planes, planes, kernel_size=3, stride=stride, padding=1, bias=False)\n",
    "        self.bn2 = nn.BatchNorm2d(planes)\n",
    "        self.conv3 = nn.Conv2d(planes, planes * self.expansion, kernel_size=1, bias=False)\n",
    "        self.bn3 = nn.BatchNorm2d(planes * self.expansion)\n",
    "        self.relu = nn.ReLU(inplace=True)\n",
    "        self.downsample = downsample\n",
    "        self.stride = stride\n",
    "    \n",
    "    def forward(self, x):\n",
    "        identity = x\n",
    "        \n",
    "        out = self.conv1(x)\n",
    "        out = self.bn1(out)\n",
    "        out = self.relu(out)\n",
    "        \n",
    "        out = self.conv2(out)\n",
    "        out = self.bn2(out)\n",
    "        out = self.relu(out)\n",
    "        \n",
    "        out = self.conv3(out)\n",
    "        out = self.bn3(out)\n",
    "        \n",
    "        if self.downsample is not None:\n",
    "            identity = self.downsample(x)\n",
    "        \n",
    "        out += identity\n",
    "        out = self.relu(out)\n",
    "        \n",
    "        return out\n",
    "\n",
    "class MyResNet50(nn.Module):\n",
    "    \"\"\"ResNet50 Implementation from Scratch\"\"\"\n",
    "    def __init__(self, num_classes=4, zero_init_residual=False):\n",
    "        super().__init__()\n",
    "        self.inplanes = 64\n",
    "        \n",
    "        # Initial convolution and pooling layers\n",
    "        self.conv1 = nn.Conv2d(3, 64, kernel_size=7, stride=2, padding=3, bias=False)\n",
    "        self.bn1 = nn.BatchNorm2d(64)\n",
    "        self.relu = nn.ReLU(inplace=True)\n",
    "        self.maxpool = nn.MaxPool2d(kernel_size=3, stride=2, padding=1)\n",
    "        \n",
    "        # Residual layers\n",
    "        self.layer1 = self._make_layer(64, 3)\n",
    "        self.layer2 = self._make_layer(128, 4, stride=2)\n",
    "        self.layer3 = self._make_layer(256, 6, stride=2)\n",
    "        self.layer4 = self._make_layer(512, 3, stride=2)\n",
    "        \n",
    "        # Final layers\n",
    "        self.avgpool = nn.AdaptiveAvgPool2d((1, 1))\n",
    "        self.fc = nn.Linear(512 * Bottleneck.expansion, num_classes)\n",
    "        \n",
    "        # Initialize weights\n",
    "        self._initialize_weights(zero_init_residual)\n",
    "    \n",
    "    def _make_layer(self, planes, blocks, stride=1):\n",
    "        \"\"\"Create a residual layer with specified number of blocks\"\"\"\n",
    "        downsample = None\n",
    "        if stride != 1 or self.inplanes != planes * Bottleneck.expansion:\n",
    "            downsample = nn.Sequential(\n",
    "                nn.Conv2d(self.inplanes, planes * Bottleneck.expansion,\n",
    "                          kernel_size=1, stride=stride, bias=False),\n",
    "                nn.BatchNorm2d(planes * Bottleneck.expansion),\n",
    "            )\n",
    "        \n",
    "        layers = []\n",
    "        layers.append(Bottleneck(self.inplanes, planes, stride, downsample))\n",
    "        self.inplanes = planes * Bottleneck.expansion\n",
    "        for _ in range(1, blocks):\n",
    "            layers.append(Bottleneck(self.inplanes, planes))\n",
    "        \n",
    "        return nn.Sequential(*layers)\n",
    "    \n",
    "    def _initialize_weights(self, zero_init_residual):\n",
    "        \"\"\"Initialize weights using He initialization\"\"\"\n",
    "        for m in self.modules():\n",
    "            if isinstance(m, nn.Conv2d):\n",
    "                nn.init.kaiming_normal_(m.weight, mode='fan_out', nonlinearity='relu')\n",
    "            elif isinstance(m, (nn.BatchNorm2d, nn.GroupNorm)):\n",
    "                nn.init.constant_(m.weight, 1)\n",
    "                nn.init.constant_(m.bias, 0)\n",
    "            elif isinstance(m, nn.Linear):\n",
    "                nn.init.normal_(m.weight, 0, 0.01)\n",
    "                nn.init.constant_(m.bias, 0)\n",
    "        \n",
    "        # Zero-initialize the last BN in each residual branch for better training\n",
    "        if zero_init_residual:\n",
    "            for m in self.modules():\n",
    "                if isinstance(m, Bottleneck):\n",
    "                    nn.init.constant_(m.bn3.weight, 0)\n",
    "    \n",
    "    def forward(self, x):\n",
    "        x = self.conv1(x)\n",
    "        x = self.bn1(x)\n",
    "        x = self.relu(x)\n",
    "        x = self.maxpool(x)\n",
    "        \n",
    "        x = self.layer1(x)\n",
    "        x = self.layer2(x)\n",
    "        x = self.layer3(x)\n",
    "        x = self.layer4(x)\n",
    "        \n",
    "        x = self.avgpool(x)\n",
    "        x = torch.flatten(x, 1)\n",
    "        x = self.fc(x)\n",
    "        \n",
    "        return x"
   ]
  },
  {
   "cell_type": "code",
   "execution_count": 9,
   "id": "9a869a08",
   "metadata": {
    "execution": {
     "iopub.execute_input": "2025-09-08T10:01:22.351053Z",
     "iopub.status.busy": "2025-09-08T10:01:22.350836Z",
     "iopub.status.idle": "2025-09-08T10:01:24.128077Z",
     "shell.execute_reply": "2025-09-08T10:01:24.127390Z"
    },
    "papermill": {
     "duration": 1.782221,
     "end_time": "2025-09-08T10:01:24.129599",
     "exception": false,
     "start_time": "2025-09-08T10:01:22.347378",
     "status": "completed"
    },
    "tags": []
   },
   "outputs": [
    {
     "name": "stdout",
     "output_type": "stream",
     "text": [
      "ResNet50 Model Summary:\n",
      "----------------------------------------------------------------\n",
      "        Layer (type)               Output Shape         Param #\n",
      "================================================================\n",
      "            Conv2d-1         [-1, 64, 112, 112]           9,408\n",
      "       BatchNorm2d-2         [-1, 64, 112, 112]             128\n",
      "              ReLU-3         [-1, 64, 112, 112]               0\n",
      "         MaxPool2d-4           [-1, 64, 56, 56]               0\n",
      "            Conv2d-5           [-1, 64, 56, 56]           4,096\n",
      "       BatchNorm2d-6           [-1, 64, 56, 56]             128\n",
      "              ReLU-7           [-1, 64, 56, 56]               0\n",
      "            Conv2d-8           [-1, 64, 56, 56]          36,864\n",
      "       BatchNorm2d-9           [-1, 64, 56, 56]             128\n",
      "             ReLU-10           [-1, 64, 56, 56]               0\n",
      "           Conv2d-11          [-1, 256, 56, 56]          16,384\n",
      "      BatchNorm2d-12          [-1, 256, 56, 56]             512\n",
      "           Conv2d-13          [-1, 256, 56, 56]          16,384\n",
      "      BatchNorm2d-14          [-1, 256, 56, 56]             512\n",
      "             ReLU-15          [-1, 256, 56, 56]               0\n",
      "       Bottleneck-16          [-1, 256, 56, 56]               0\n",
      "           Conv2d-17           [-1, 64, 56, 56]          16,384\n",
      "      BatchNorm2d-18           [-1, 64, 56, 56]             128\n",
      "             ReLU-19           [-1, 64, 56, 56]               0\n",
      "           Conv2d-20           [-1, 64, 56, 56]          36,864\n",
      "      BatchNorm2d-21           [-1, 64, 56, 56]             128\n",
      "             ReLU-22           [-1, 64, 56, 56]               0\n",
      "           Conv2d-23          [-1, 256, 56, 56]          16,384\n",
      "      BatchNorm2d-24          [-1, 256, 56, 56]             512\n",
      "             ReLU-25          [-1, 256, 56, 56]               0\n",
      "       Bottleneck-26          [-1, 256, 56, 56]               0\n",
      "           Conv2d-27           [-1, 64, 56, 56]          16,384\n",
      "      BatchNorm2d-28           [-1, 64, 56, 56]             128\n",
      "             ReLU-29           [-1, 64, 56, 56]               0\n",
      "           Conv2d-30           [-1, 64, 56, 56]          36,864\n",
      "      BatchNorm2d-31           [-1, 64, 56, 56]             128\n",
      "             ReLU-32           [-1, 64, 56, 56]               0\n",
      "           Conv2d-33          [-1, 256, 56, 56]          16,384\n",
      "      BatchNorm2d-34          [-1, 256, 56, 56]             512\n",
      "             ReLU-35          [-1, 256, 56, 56]               0\n",
      "       Bottleneck-36          [-1, 256, 56, 56]               0\n",
      "           Conv2d-37          [-1, 128, 56, 56]          32,768\n",
      "      BatchNorm2d-38          [-1, 128, 56, 56]             256\n",
      "             ReLU-39          [-1, 128, 56, 56]               0\n",
      "           Conv2d-40          [-1, 128, 28, 28]         147,456\n",
      "      BatchNorm2d-41          [-1, 128, 28, 28]             256\n",
      "             ReLU-42          [-1, 128, 28, 28]               0\n",
      "           Conv2d-43          [-1, 512, 28, 28]          65,536\n",
      "      BatchNorm2d-44          [-1, 512, 28, 28]           1,024\n",
      "           Conv2d-45          [-1, 512, 28, 28]         131,072\n",
      "      BatchNorm2d-46          [-1, 512, 28, 28]           1,024\n",
      "             ReLU-47          [-1, 512, 28, 28]               0\n",
      "       Bottleneck-48          [-1, 512, 28, 28]               0\n",
      "           Conv2d-49          [-1, 128, 28, 28]          65,536\n",
      "      BatchNorm2d-50          [-1, 128, 28, 28]             256\n",
      "             ReLU-51          [-1, 128, 28, 28]               0\n",
      "           Conv2d-52          [-1, 128, 28, 28]         147,456\n",
      "      BatchNorm2d-53          [-1, 128, 28, 28]             256\n",
      "             ReLU-54          [-1, 128, 28, 28]               0\n",
      "           Conv2d-55          [-1, 512, 28, 28]          65,536\n",
      "      BatchNorm2d-56          [-1, 512, 28, 28]           1,024\n",
      "             ReLU-57          [-1, 512, 28, 28]               0\n",
      "       Bottleneck-58          [-1, 512, 28, 28]               0\n",
      "           Conv2d-59          [-1, 128, 28, 28]          65,536\n",
      "      BatchNorm2d-60          [-1, 128, 28, 28]             256\n",
      "             ReLU-61          [-1, 128, 28, 28]               0\n",
      "           Conv2d-62          [-1, 128, 28, 28]         147,456\n",
      "      BatchNorm2d-63          [-1, 128, 28, 28]             256\n",
      "             ReLU-64          [-1, 128, 28, 28]               0\n",
      "           Conv2d-65          [-1, 512, 28, 28]          65,536\n",
      "      BatchNorm2d-66          [-1, 512, 28, 28]           1,024\n",
      "             ReLU-67          [-1, 512, 28, 28]               0\n",
      "       Bottleneck-68          [-1, 512, 28, 28]               0\n",
      "           Conv2d-69          [-1, 128, 28, 28]          65,536\n",
      "      BatchNorm2d-70          [-1, 128, 28, 28]             256\n",
      "             ReLU-71          [-1, 128, 28, 28]               0\n",
      "           Conv2d-72          [-1, 128, 28, 28]         147,456\n",
      "      BatchNorm2d-73          [-1, 128, 28, 28]             256\n",
      "             ReLU-74          [-1, 128, 28, 28]               0\n",
      "           Conv2d-75          [-1, 512, 28, 28]          65,536\n",
      "      BatchNorm2d-76          [-1, 512, 28, 28]           1,024\n",
      "             ReLU-77          [-1, 512, 28, 28]               0\n",
      "       Bottleneck-78          [-1, 512, 28, 28]               0\n",
      "           Conv2d-79          [-1, 256, 28, 28]         131,072\n",
      "      BatchNorm2d-80          [-1, 256, 28, 28]             512\n",
      "             ReLU-81          [-1, 256, 28, 28]               0\n",
      "           Conv2d-82          [-1, 256, 14, 14]         589,824\n",
      "      BatchNorm2d-83          [-1, 256, 14, 14]             512\n",
      "             ReLU-84          [-1, 256, 14, 14]               0\n",
      "           Conv2d-85         [-1, 1024, 14, 14]         262,144\n",
      "      BatchNorm2d-86         [-1, 1024, 14, 14]           2,048\n",
      "           Conv2d-87         [-1, 1024, 14, 14]         524,288\n",
      "      BatchNorm2d-88         [-1, 1024, 14, 14]           2,048\n",
      "             ReLU-89         [-1, 1024, 14, 14]               0\n",
      "       Bottleneck-90         [-1, 1024, 14, 14]               0\n",
      "           Conv2d-91          [-1, 256, 14, 14]         262,144\n",
      "      BatchNorm2d-92          [-1, 256, 14, 14]             512\n",
      "             ReLU-93          [-1, 256, 14, 14]               0\n",
      "           Conv2d-94          [-1, 256, 14, 14]         589,824\n",
      "      BatchNorm2d-95          [-1, 256, 14, 14]             512\n",
      "             ReLU-96          [-1, 256, 14, 14]               0\n",
      "           Conv2d-97         [-1, 1024, 14, 14]         262,144\n",
      "      BatchNorm2d-98         [-1, 1024, 14, 14]           2,048\n",
      "             ReLU-99         [-1, 1024, 14, 14]               0\n",
      "      Bottleneck-100         [-1, 1024, 14, 14]               0\n",
      "          Conv2d-101          [-1, 256, 14, 14]         262,144\n",
      "     BatchNorm2d-102          [-1, 256, 14, 14]             512\n",
      "            ReLU-103          [-1, 256, 14, 14]               0\n",
      "          Conv2d-104          [-1, 256, 14, 14]         589,824\n",
      "     BatchNorm2d-105          [-1, 256, 14, 14]             512\n",
      "            ReLU-106          [-1, 256, 14, 14]               0\n",
      "          Conv2d-107         [-1, 1024, 14, 14]         262,144\n",
      "     BatchNorm2d-108         [-1, 1024, 14, 14]           2,048\n",
      "            ReLU-109         [-1, 1024, 14, 14]               0\n",
      "      Bottleneck-110         [-1, 1024, 14, 14]               0\n",
      "          Conv2d-111          [-1, 256, 14, 14]         262,144\n",
      "     BatchNorm2d-112          [-1, 256, 14, 14]             512\n",
      "            ReLU-113          [-1, 256, 14, 14]               0\n",
      "          Conv2d-114          [-1, 256, 14, 14]         589,824\n",
      "     BatchNorm2d-115          [-1, 256, 14, 14]             512\n",
      "            ReLU-116          [-1, 256, 14, 14]               0\n",
      "          Conv2d-117         [-1, 1024, 14, 14]         262,144\n",
      "     BatchNorm2d-118         [-1, 1024, 14, 14]           2,048\n",
      "            ReLU-119         [-1, 1024, 14, 14]               0\n",
      "      Bottleneck-120         [-1, 1024, 14, 14]               0\n",
      "          Conv2d-121          [-1, 256, 14, 14]         262,144\n",
      "     BatchNorm2d-122          [-1, 256, 14, 14]             512\n",
      "            ReLU-123          [-1, 256, 14, 14]               0\n",
      "          Conv2d-124          [-1, 256, 14, 14]         589,824\n",
      "     BatchNorm2d-125          [-1, 256, 14, 14]             512\n",
      "            ReLU-126          [-1, 256, 14, 14]               0\n",
      "          Conv2d-127         [-1, 1024, 14, 14]         262,144\n",
      "     BatchNorm2d-128         [-1, 1024, 14, 14]           2,048\n",
      "            ReLU-129         [-1, 1024, 14, 14]               0\n",
      "      Bottleneck-130         [-1, 1024, 14, 14]               0\n",
      "          Conv2d-131          [-1, 256, 14, 14]         262,144\n",
      "     BatchNorm2d-132          [-1, 256, 14, 14]             512\n",
      "            ReLU-133          [-1, 256, 14, 14]               0\n",
      "          Conv2d-134          [-1, 256, 14, 14]         589,824\n",
      "     BatchNorm2d-135          [-1, 256, 14, 14]             512\n",
      "            ReLU-136          [-1, 256, 14, 14]               0\n",
      "          Conv2d-137         [-1, 1024, 14, 14]         262,144\n",
      "     BatchNorm2d-138         [-1, 1024, 14, 14]           2,048\n",
      "            ReLU-139         [-1, 1024, 14, 14]               0\n",
      "      Bottleneck-140         [-1, 1024, 14, 14]               0\n",
      "          Conv2d-141          [-1, 512, 14, 14]         524,288\n",
      "     BatchNorm2d-142          [-1, 512, 14, 14]           1,024\n",
      "            ReLU-143          [-1, 512, 14, 14]               0\n",
      "          Conv2d-144            [-1, 512, 7, 7]       2,359,296\n",
      "     BatchNorm2d-145            [-1, 512, 7, 7]           1,024\n",
      "            ReLU-146            [-1, 512, 7, 7]               0\n",
      "          Conv2d-147           [-1, 2048, 7, 7]       1,048,576\n",
      "     BatchNorm2d-148           [-1, 2048, 7, 7]           4,096\n",
      "          Conv2d-149           [-1, 2048, 7, 7]       2,097,152\n",
      "     BatchNorm2d-150           [-1, 2048, 7, 7]           4,096\n",
      "            ReLU-151           [-1, 2048, 7, 7]               0\n",
      "      Bottleneck-152           [-1, 2048, 7, 7]               0\n",
      "          Conv2d-153            [-1, 512, 7, 7]       1,048,576\n",
      "     BatchNorm2d-154            [-1, 512, 7, 7]           1,024\n",
      "            ReLU-155            [-1, 512, 7, 7]               0\n",
      "          Conv2d-156            [-1, 512, 7, 7]       2,359,296\n",
      "     BatchNorm2d-157            [-1, 512, 7, 7]           1,024\n",
      "            ReLU-158            [-1, 512, 7, 7]               0\n",
      "          Conv2d-159           [-1, 2048, 7, 7]       1,048,576\n",
      "     BatchNorm2d-160           [-1, 2048, 7, 7]           4,096\n",
      "            ReLU-161           [-1, 2048, 7, 7]               0\n",
      "      Bottleneck-162           [-1, 2048, 7, 7]               0\n",
      "          Conv2d-163            [-1, 512, 7, 7]       1,048,576\n",
      "     BatchNorm2d-164            [-1, 512, 7, 7]           1,024\n",
      "            ReLU-165            [-1, 512, 7, 7]               0\n",
      "          Conv2d-166            [-1, 512, 7, 7]       2,359,296\n",
      "     BatchNorm2d-167            [-1, 512, 7, 7]           1,024\n",
      "            ReLU-168            [-1, 512, 7, 7]               0\n",
      "          Conv2d-169           [-1, 2048, 7, 7]       1,048,576\n",
      "     BatchNorm2d-170           [-1, 2048, 7, 7]           4,096\n",
      "            ReLU-171           [-1, 2048, 7, 7]               0\n",
      "      Bottleneck-172           [-1, 2048, 7, 7]               0\n",
      "AdaptiveAvgPool2d-173           [-1, 2048, 1, 1]               0\n",
      "          Linear-174                    [-1, 6]          12,294\n",
      "================================================================\n",
      "Total params: 23,520,326\n",
      "Trainable params: 23,520,326\n",
      "Non-trainable params: 0\n",
      "----------------------------------------------------------------\n",
      "Input size (MB): 0.57\n",
      "Forward/backward pass size (MB): 286.55\n",
      "Params size (MB): 89.72\n",
      "Estimated Total Size (MB): 376.85\n",
      "----------------------------------------------------------------\n"
     ]
    }
   ],
   "source": [
    "# -----------------------------\n",
    "# 3. Training Setup\n",
    "# -----------------------------\n",
    "device = torch.device(\"cuda\" if torch.cuda.is_available() else \"cpu\")\n",
    "model = MyResNet50(num_classes=len(classes), zero_init_residual=True).to(device)\n",
    "criterion = nn.CrossEntropyLoss()\n",
    "optimizer = torch.optim.SGD(model.parameters(), lr=0.1, momentum=0.9, weight_decay=1e-4)\n",
    "\n",
    "print(\"ResNet50 Model Summary:\")\n",
    "try:\n",
    "    summary(model, (3, 224, 224))\n",
    "except:\n",
    "    print(\"Model summary generation failed - this is normal for complex architectures\")\n",
    "    print(f\"Model created successfully with {sum(p.numel() for p in model.parameters()):,} parameters\")"
   ]
  },
  {
   "cell_type": "code",
   "execution_count": 10,
   "id": "d1219a03",
   "metadata": {
    "execution": {
     "iopub.execute_input": "2025-09-08T10:01:24.137383Z",
     "iopub.status.busy": "2025-09-08T10:01:24.137174Z",
     "iopub.status.idle": "2025-09-08T10:26:23.649308Z",
     "shell.execute_reply": "2025-09-08T10:26:23.648478Z"
    },
    "papermill": {
     "duration": 1499.518913,
     "end_time": "2025-09-08T10:26:23.651875",
     "exception": false,
     "start_time": "2025-09-08T10:01:24.132962",
     "status": "completed"
    },
    "tags": []
   },
   "outputs": [
    {
     "name": "stdout",
     "output_type": "stream",
     "text": [
      "\n",
      "🚀 Starting ResNet50 Training for 50 epochs...\n",
      "================================================================================\n",
      "\n",
      "📈 Epoch 1/50\n",
      "--------------------------------------------------\n",
      "🔄 Training Phase...\n"
     ]
    },
    {
     "name": "stderr",
     "output_type": "stream",
     "text": [
      "Training: 100%|██████████████████████████████| 48/48 [00:33<00:00,  1.42it/s, Loss=4.5442, Acc=0.2656]\n"
     ]
    },
    {
     "name": "stdout",
     "output_type": "stream",
     "text": [
      "✅ Training completed in 33.73s\n",
      "🔍 Validation Phase...\n"
     ]
    },
    {
     "name": "stderr",
     "output_type": "stream",
     "text": [
      "Validation: 100%|██████████████████████████████| 13/13 [00:06<00:00,  2.15it/s, Loss=2.5600, Acc=0.3005]\n"
     ]
    },
    {
     "name": "stdout",
     "output_type": "stream",
     "text": [
      "✅ Validation completed in 6.06s\n",
      "🌟 New best ResNet50 model found! Validation Accuracy: 0.3005\n",
      "\n",
      "📊 Epoch 1 Summary:\n",
      "│ Train Loss: 4.5442 | Train Acc: 0.2656\n",
      "│ Val Loss:   2.5600 | Val Acc:   0.3005\n",
      "│ Train Time: 33.73s | Val Time: 6.06s\n",
      "│ Total Epoch Time: 39.80s\n",
      "│ Best Val Acc: 0.3005 (Epoch 1)\n",
      "│ GPU Memory: 0.3GB / 3.2GB\n",
      "================================================================================\n",
      "\n",
      "📈 Epoch 2/50\n",
      "--------------------------------------------------\n",
      "🔄 Training Phase...\n"
     ]
    },
    {
     "name": "stderr",
     "output_type": "stream",
     "text": [
      "Training: 100%|██████████████████████████████| 48/48 [00:23<00:00,  2.00it/s, Loss=1.7079, Acc=0.3223]\n"
     ]
    },
    {
     "name": "stdout",
     "output_type": "stream",
     "text": [
      "✅ Training completed in 23.99s\n",
      "🔍 Validation Phase...\n"
     ]
    },
    {
     "name": "stderr",
     "output_type": "stream",
     "text": [
      "Validation: 100%|██████████████████████████████| 13/13 [00:03<00:00,  3.70it/s, Loss=1.7806, Acc=0.2933]\n"
     ]
    },
    {
     "name": "stdout",
     "output_type": "stream",
     "text": [
      "✅ Validation completed in 3.52s\n",
      "\n",
      "📊 Epoch 2 Summary:\n",
      "│ Train Loss: 1.7079 | Train Acc: 0.3223\n",
      "│ Val Loss:   1.7806 | Val Acc:   0.2933\n",
      "│ Train Time: 23.99s | Val Time: 3.52s\n",
      "│ Total Epoch Time: 27.51s\n",
      "│ Best Val Acc: 0.3005 (Epoch 1)\n",
      "│ GPU Memory: 0.3GB / 3.2GB\n",
      "================================================================================\n",
      "\n",
      "📈 Epoch 3/50\n",
      "--------------------------------------------------\n",
      "🔄 Training Phase...\n"
     ]
    },
    {
     "name": "stderr",
     "output_type": "stream",
     "text": [
      "Training: 100%|██████████████████████████████| 48/48 [00:24<00:00,  1.95it/s, Loss=1.6081, Acc=0.3398]\n"
     ]
    },
    {
     "name": "stdout",
     "output_type": "stream",
     "text": [
      "✅ Training completed in 24.61s\n",
      "🔍 Validation Phase...\n"
     ]
    },
    {
     "name": "stderr",
     "output_type": "stream",
     "text": [
      "Validation: 100%|██████████████████████████████| 13/13 [00:03<00:00,  3.56it/s, Loss=1.6717, Acc=0.2284]\n"
     ]
    },
    {
     "name": "stdout",
     "output_type": "stream",
     "text": [
      "✅ Validation completed in 3.65s\n",
      "\n",
      "📊 Epoch 3 Summary:\n",
      "│ Train Loss: 1.6081 | Train Acc: 0.3398\n",
      "│ Val Loss:   1.6717 | Val Acc:   0.2284\n",
      "│ Train Time: 24.61s | Val Time: 3.65s\n",
      "│ Total Epoch Time: 28.27s\n",
      "│ Best Val Acc: 0.3005 (Epoch 1)\n",
      "│ GPU Memory: 0.3GB / 3.2GB\n",
      "================================================================================\n",
      "\n",
      "📈 Epoch 4/50\n",
      "--------------------------------------------------\n",
      "🔄 Training Phase...\n"
     ]
    },
    {
     "name": "stderr",
     "output_type": "stream",
     "text": [
      "Training: 100%|██████████████████████████████| 48/48 [00:24<00:00,  1.93it/s, Loss=1.5412, Acc=0.3763]\n"
     ]
    },
    {
     "name": "stdout",
     "output_type": "stream",
     "text": [
      "✅ Training completed in 24.84s\n",
      "🔍 Validation Phase...\n"
     ]
    },
    {
     "name": "stderr",
     "output_type": "stream",
     "text": [
      "Validation: 100%|██████████████████████████████| 13/13 [00:03<00:00,  3.57it/s, Loss=1.6425, Acc=0.2716]\n"
     ]
    },
    {
     "name": "stdout",
     "output_type": "stream",
     "text": [
      "✅ Validation completed in 3.64s\n",
      "\n",
      "📊 Epoch 4 Summary:\n",
      "│ Train Loss: 1.5412 | Train Acc: 0.3763\n",
      "│ Val Loss:   1.6425 | Val Acc:   0.2716\n",
      "│ Train Time: 24.84s | Val Time: 3.64s\n",
      "│ Total Epoch Time: 28.49s\n",
      "│ Best Val Acc: 0.3005 (Epoch 1)\n",
      "│ GPU Memory: 0.3GB / 3.2GB\n",
      "================================================================================\n",
      "\n",
      "📈 Epoch 5/50\n",
      "--------------------------------------------------\n",
      "🔄 Training Phase...\n"
     ]
    },
    {
     "name": "stderr",
     "output_type": "stream",
     "text": [
      "Training: 100%|██████████████████████████████| 48/48 [00:24<00:00,  1.93it/s, Loss=1.4732, Acc=0.4284]\n"
     ]
    },
    {
     "name": "stdout",
     "output_type": "stream",
     "text": [
      "✅ Training completed in 24.93s\n",
      "🔍 Validation Phase...\n"
     ]
    },
    {
     "name": "stderr",
     "output_type": "stream",
     "text": [
      "Validation: 100%|██████████████████████████████| 13/13 [00:03<00:00,  3.67it/s, Loss=1.8174, Acc=0.3173]\n"
     ]
    },
    {
     "name": "stdout",
     "output_type": "stream",
     "text": [
      "✅ Validation completed in 3.55s\n",
      "🌟 New best ResNet50 model found! Validation Accuracy: 0.3173\n",
      "\n",
      "📊 Epoch 5 Summary:\n",
      "│ Train Loss: 1.4732 | Train Acc: 0.4284\n",
      "│ Val Loss:   1.8174 | Val Acc:   0.3173\n",
      "│ Train Time: 24.93s | Val Time: 3.55s\n",
      "│ Total Epoch Time: 28.48s\n",
      "│ Best Val Acc: 0.3173 (Epoch 5)\n",
      "│ GPU Memory: 0.3GB / 3.2GB\n",
      "================================================================================\n",
      "\n",
      "📈 Epoch 6/50\n",
      "--------------------------------------------------\n",
      "🔄 Training Phase...\n"
     ]
    },
    {
     "name": "stderr",
     "output_type": "stream",
     "text": [
      "Training: 100%|██████████████████████████████| 48/48 [00:24<00:00,  1.93it/s, Loss=1.4527, Acc=0.4388]\n"
     ]
    },
    {
     "name": "stdout",
     "output_type": "stream",
     "text": [
      "✅ Training completed in 24.93s\n",
      "🔍 Validation Phase...\n"
     ]
    },
    {
     "name": "stderr",
     "output_type": "stream",
     "text": [
      "Validation: 100%|██████████████████████████████| 13/13 [00:03<00:00,  3.74it/s, Loss=1.8824, Acc=0.2981]\n"
     ]
    },
    {
     "name": "stdout",
     "output_type": "stream",
     "text": [
      "✅ Validation completed in 3.48s\n",
      "\n",
      "📊 Epoch 6 Summary:\n",
      "│ Train Loss: 1.4527 | Train Acc: 0.4388\n",
      "│ Val Loss:   1.8824 | Val Acc:   0.2981\n",
      "│ Train Time: 24.93s | Val Time: 3.48s\n",
      "│ Total Epoch Time: 28.41s\n",
      "│ Best Val Acc: 0.3173 (Epoch 5)\n",
      "│ GPU Memory: 0.3GB / 3.2GB\n",
      "================================================================================\n",
      "\n",
      "📈 Epoch 7/50\n",
      "--------------------------------------------------\n",
      "🔄 Training Phase...\n"
     ]
    },
    {
     "name": "stderr",
     "output_type": "stream",
     "text": [
      "Training: 100%|██████████████████████████████| 48/48 [00:25<00:00,  1.91it/s, Loss=1.3660, Acc=0.4811]\n"
     ]
    },
    {
     "name": "stdout",
     "output_type": "stream",
     "text": [
      "✅ Training completed in 25.18s\n",
      "🔍 Validation Phase...\n"
     ]
    },
    {
     "name": "stderr",
     "output_type": "stream",
     "text": [
      "Validation: 100%|██████████████████████████████| 13/13 [00:03<00:00,  3.64it/s, Loss=1.7630, Acc=0.2812]\n"
     ]
    },
    {
     "name": "stdout",
     "output_type": "stream",
     "text": [
      "✅ Validation completed in 3.58s\n",
      "\n",
      "📊 Epoch 7 Summary:\n",
      "│ Train Loss: 1.3660 | Train Acc: 0.4811\n",
      "│ Val Loss:   1.7630 | Val Acc:   0.2812\n",
      "│ Train Time: 25.18s | Val Time: 3.58s\n",
      "│ Total Epoch Time: 28.76s\n",
      "│ Best Val Acc: 0.3173 (Epoch 5)\n",
      "│ GPU Memory: 0.3GB / 3.2GB\n",
      "================================================================================\n",
      "\n",
      "📈 Epoch 8/50\n",
      "--------------------------------------------------\n",
      "🔄 Training Phase...\n"
     ]
    },
    {
     "name": "stderr",
     "output_type": "stream",
     "text": [
      "Training: 100%|██████████████████████████████| 48/48 [00:25<00:00,  1.89it/s, Loss=1.2863, Acc=0.5085]\n"
     ]
    },
    {
     "name": "stdout",
     "output_type": "stream",
     "text": [
      "✅ Training completed in 25.44s\n",
      "🔍 Validation Phase...\n"
     ]
    },
    {
     "name": "stderr",
     "output_type": "stream",
     "text": [
      "Validation: 100%|██████████████████████████████| 13/13 [00:03<00:00,  3.62it/s, Loss=1.5595, Acc=0.3365]\n"
     ]
    },
    {
     "name": "stdout",
     "output_type": "stream",
     "text": [
      "✅ Validation completed in 3.60s\n",
      "🌟 New best ResNet50 model found! Validation Accuracy: 0.3365\n",
      "\n",
      "📊 Epoch 8 Summary:\n",
      "│ Train Loss: 1.2863 | Train Acc: 0.5085\n",
      "│ Val Loss:   1.5595 | Val Acc:   0.3365\n",
      "│ Train Time: 25.44s | Val Time: 3.60s\n",
      "│ Total Epoch Time: 29.04s\n",
      "│ Best Val Acc: 0.3365 (Epoch 8)\n",
      "│ GPU Memory: 0.3GB / 3.2GB\n",
      "================================================================================\n",
      "\n",
      "📈 Epoch 9/50\n",
      "--------------------------------------------------\n",
      "🔄 Training Phase...\n"
     ]
    },
    {
     "name": "stderr",
     "output_type": "stream",
     "text": [
      "Training: 100%|██████████████████████████████| 48/48 [00:25<00:00,  1.91it/s, Loss=1.0350, Acc=0.6074]\n"
     ]
    },
    {
     "name": "stdout",
     "output_type": "stream",
     "text": [
      "✅ Training completed in 25.13s\n",
      "🔍 Validation Phase...\n"
     ]
    },
    {
     "name": "stderr",
     "output_type": "stream",
     "text": [
      "Validation: 100%|██████████████████████████████| 13/13 [00:03<00:00,  3.75it/s, Loss=2.0579, Acc=0.3197]\n"
     ]
    },
    {
     "name": "stdout",
     "output_type": "stream",
     "text": [
      "✅ Validation completed in 3.47s\n",
      "\n",
      "📊 Epoch 9 Summary:\n",
      "│ Train Loss: 1.0350 | Train Acc: 0.6074\n",
      "│ Val Loss:   2.0579 | Val Acc:   0.3197\n",
      "│ Train Time: 25.13s | Val Time: 3.47s\n",
      "│ Total Epoch Time: 28.61s\n",
      "│ Best Val Acc: 0.3365 (Epoch 8)\n",
      "│ GPU Memory: 0.3GB / 3.2GB\n",
      "================================================================================\n",
      "\n",
      "📈 Epoch 10/50\n",
      "--------------------------------------------------\n",
      "🔄 Training Phase...\n"
     ]
    },
    {
     "name": "stderr",
     "output_type": "stream",
     "text": [
      "Training: 100%|██████████████████████████████| 48/48 [00:25<00:00,  1.88it/s, Loss=0.9365, Acc=0.6712]\n"
     ]
    },
    {
     "name": "stdout",
     "output_type": "stream",
     "text": [
      "✅ Training completed in 25.56s\n",
      "🔍 Validation Phase...\n"
     ]
    },
    {
     "name": "stderr",
     "output_type": "stream",
     "text": [
      "Validation: 100%|██████████████████████████████| 13/13 [00:03<00:00,  3.70it/s, Loss=1.7626, Acc=0.4207]\n"
     ]
    },
    {
     "name": "stdout",
     "output_type": "stream",
     "text": [
      "✅ Validation completed in 3.51s\n",
      "🌟 New best ResNet50 model found! Validation Accuracy: 0.4207\n",
      "\n",
      "📊 Epoch 10 Summary:\n",
      "│ Train Loss: 0.9365 | Train Acc: 0.6712\n",
      "│ Val Loss:   1.7626 | Val Acc:   0.4207\n",
      "│ Train Time: 25.56s | Val Time: 3.51s\n",
      "│ Total Epoch Time: 29.08s\n",
      "│ Best Val Acc: 0.4207 (Epoch 10)\n",
      "│ GPU Memory: 0.3GB / 3.2GB\n",
      "================================================================================\n",
      "\n",
      "📈 Epoch 11/50\n",
      "--------------------------------------------------\n",
      "🔄 Training Phase...\n"
     ]
    },
    {
     "name": "stderr",
     "output_type": "stream",
     "text": [
      "Training: 100%|██████████████████████████████| 48/48 [00:25<00:00,  1.89it/s, Loss=0.5263, Acc=0.8242]\n"
     ]
    },
    {
     "name": "stdout",
     "output_type": "stream",
     "text": [
      "✅ Training completed in 25.44s\n",
      "🔍 Validation Phase...\n"
     ]
    },
    {
     "name": "stderr",
     "output_type": "stream",
     "text": [
      "Validation: 100%|██████████████████████████████| 13/13 [00:03<00:00,  3.68it/s, Loss=3.8439, Acc=0.3726]\n"
     ]
    },
    {
     "name": "stdout",
     "output_type": "stream",
     "text": [
      "✅ Validation completed in 3.53s\n",
      "\n",
      "📊 Epoch 11 Summary:\n",
      "│ Train Loss: 0.5263 | Train Acc: 0.8242\n",
      "│ Val Loss:   3.8439 | Val Acc:   0.3726\n",
      "│ Train Time: 25.44s | Val Time: 3.53s\n",
      "│ Total Epoch Time: 28.98s\n",
      "│ Best Val Acc: 0.4207 (Epoch 10)\n",
      "│ GPU Memory: 0.3GB / 3.2GB\n",
      "================================================================================\n",
      "\n",
      "📈 Epoch 12/50\n",
      "--------------------------------------------------\n",
      "🔄 Training Phase...\n"
     ]
    },
    {
     "name": "stderr",
     "output_type": "stream",
     "text": [
      "Training: 100%|██████████████████████████████| 48/48 [00:25<00:00,  1.88it/s, Loss=0.4383, Acc=0.8464]\n"
     ]
    },
    {
     "name": "stdout",
     "output_type": "stream",
     "text": [
      "✅ Training completed in 25.49s\n",
      "🔍 Validation Phase...\n"
     ]
    },
    {
     "name": "stderr",
     "output_type": "stream",
     "text": [
      "Validation: 100%|██████████████████████████████| 13/13 [00:03<00:00,  3.78it/s, Loss=3.1531, Acc=0.3846]\n"
     ]
    },
    {
     "name": "stdout",
     "output_type": "stream",
     "text": [
      "✅ Validation completed in 3.44s\n",
      "\n",
      "📊 Epoch 12 Summary:\n",
      "│ Train Loss: 0.4383 | Train Acc: 0.8464\n",
      "│ Val Loss:   3.1531 | Val Acc:   0.3846\n",
      "│ Train Time: 25.49s | Val Time: 3.44s\n",
      "│ Total Epoch Time: 28.93s\n",
      "│ Best Val Acc: 0.4207 (Epoch 10)\n",
      "│ GPU Memory: 0.3GB / 3.2GB\n",
      "================================================================================\n",
      "\n",
      "📈 Epoch 13/50\n",
      "--------------------------------------------------\n",
      "🔄 Training Phase...\n"
     ]
    },
    {
     "name": "stderr",
     "output_type": "stream",
     "text": [
      "Training: 100%|██████████████████████████████| 48/48 [00:25<00:00,  1.88it/s, Loss=0.2668, Acc=0.9134]\n"
     ]
    },
    {
     "name": "stdout",
     "output_type": "stream",
     "text": [
      "✅ Training completed in 25.60s\n",
      "🔍 Validation Phase...\n"
     ]
    },
    {
     "name": "stderr",
     "output_type": "stream",
     "text": [
      "Validation: 100%|██████████████████████████████| 13/13 [00:03<00:00,  3.67it/s, Loss=4.3080, Acc=0.3077]\n"
     ]
    },
    {
     "name": "stdout",
     "output_type": "stream",
     "text": [
      "✅ Validation completed in 3.55s\n",
      "\n",
      "📊 Epoch 13 Summary:\n",
      "│ Train Loss: 0.2668 | Train Acc: 0.9134\n",
      "│ Val Loss:   4.3080 | Val Acc:   0.3077\n",
      "│ Train Time: 25.60s | Val Time: 3.55s\n",
      "│ Total Epoch Time: 29.15s\n",
      "│ Best Val Acc: 0.4207 (Epoch 10)\n",
      "│ GPU Memory: 0.3GB / 3.2GB\n",
      "================================================================================\n",
      "\n",
      "📈 Epoch 14/50\n",
      "--------------------------------------------------\n",
      "🔄 Training Phase...\n"
     ]
    },
    {
     "name": "stderr",
     "output_type": "stream",
     "text": [
      "Training: 100%|██████████████████████████████| 48/48 [00:25<00:00,  1.85it/s, Loss=0.1888, Acc=0.9362]\n"
     ]
    },
    {
     "name": "stdout",
     "output_type": "stream",
     "text": [
      "✅ Training completed in 25.92s\n",
      "🔍 Validation Phase...\n"
     ]
    },
    {
     "name": "stderr",
     "output_type": "stream",
     "text": [
      "Validation: 100%|██████████████████████████████| 13/13 [00:03<00:00,  3.65it/s, Loss=3.5127, Acc=0.4207]\n"
     ]
    },
    {
     "name": "stdout",
     "output_type": "stream",
     "text": [
      "✅ Validation completed in 3.56s\n",
      "\n",
      "📊 Epoch 14 Summary:\n",
      "│ Train Loss: 0.1888 | Train Acc: 0.9362\n",
      "│ Val Loss:   3.5127 | Val Acc:   0.4207\n",
      "│ Train Time: 25.92s | Val Time: 3.56s\n",
      "│ Total Epoch Time: 29.48s\n",
      "│ Best Val Acc: 0.4207 (Epoch 10)\n",
      "│ GPU Memory: 0.3GB / 3.2GB\n",
      "================================================================================\n",
      "\n",
      "📈 Epoch 15/50\n",
      "--------------------------------------------------\n",
      "🔄 Training Phase...\n"
     ]
    },
    {
     "name": "stderr",
     "output_type": "stream",
     "text": [
      "Training: 100%|██████████████████████████████| 48/48 [00:25<00:00,  1.87it/s, Loss=0.0695, Acc=0.9785]\n"
     ]
    },
    {
     "name": "stdout",
     "output_type": "stream",
     "text": [
      "✅ Training completed in 25.73s\n",
      "🔍 Validation Phase...\n"
     ]
    },
    {
     "name": "stderr",
     "output_type": "stream",
     "text": [
      "Validation: 100%|██████████████████████████████| 13/13 [00:03<00:00,  3.76it/s, Loss=3.7135, Acc=0.4062]\n"
     ]
    },
    {
     "name": "stdout",
     "output_type": "stream",
     "text": [
      "✅ Validation completed in 3.46s\n",
      "\n",
      "📊 Epoch 15 Summary:\n",
      "│ Train Loss: 0.0695 | Train Acc: 0.9785\n",
      "│ Val Loss:   3.7135 | Val Acc:   0.4062\n",
      "│ Train Time: 25.73s | Val Time: 3.46s\n",
      "│ Total Epoch Time: 29.19s\n",
      "│ Best Val Acc: 0.4207 (Epoch 10)\n",
      "│ GPU Memory: 0.3GB / 3.2GB\n",
      "================================================================================\n",
      "\n",
      "📈 Epoch 16/50\n",
      "--------------------------------------------------\n",
      "🔄 Training Phase...\n"
     ]
    },
    {
     "name": "stderr",
     "output_type": "stream",
     "text": [
      "Training: 100%|██████████████████████████████| 48/48 [00:25<00:00,  1.85it/s, Loss=0.0434, Acc=0.9863]\n"
     ]
    },
    {
     "name": "stdout",
     "output_type": "stream",
     "text": [
      "✅ Training completed in 25.94s\n",
      "🔍 Validation Phase...\n"
     ]
    },
    {
     "name": "stderr",
     "output_type": "stream",
     "text": [
      "Validation: 100%|██████████████████████████████| 13/13 [00:03<00:00,  3.60it/s, Loss=4.5574, Acc=0.3918]\n"
     ]
    },
    {
     "name": "stdout",
     "output_type": "stream",
     "text": [
      "✅ Validation completed in 3.61s\n",
      "\n",
      "📊 Epoch 16 Summary:\n",
      "│ Train Loss: 0.0434 | Train Acc: 0.9863\n",
      "│ Val Loss:   4.5574 | Val Acc:   0.3918\n",
      "│ Train Time: 25.94s | Val Time: 3.61s\n",
      "│ Total Epoch Time: 29.56s\n",
      "│ Best Val Acc: 0.4207 (Epoch 10)\n",
      "│ GPU Memory: 0.3GB / 3.2GB\n",
      "================================================================================\n",
      "\n",
      "📈 Epoch 17/50\n",
      "--------------------------------------------------\n",
      "🔄 Training Phase...\n"
     ]
    },
    {
     "name": "stderr",
     "output_type": "stream",
     "text": [
      "Training: 100%|██████████████████████████████| 48/48 [00:26<00:00,  1.83it/s, Loss=0.0919, Acc=0.9727]\n"
     ]
    },
    {
     "name": "stdout",
     "output_type": "stream",
     "text": [
      "✅ Training completed in 26.29s\n",
      "🔍 Validation Phase...\n"
     ]
    },
    {
     "name": "stderr",
     "output_type": "stream",
     "text": [
      "Validation: 100%|██████████████████████████████| 13/13 [00:03<00:00,  3.49it/s, Loss=3.7579, Acc=0.4495]\n"
     ]
    },
    {
     "name": "stdout",
     "output_type": "stream",
     "text": [
      "✅ Validation completed in 3.73s\n",
      "🌟 New best ResNet50 model found! Validation Accuracy: 0.4495\n",
      "\n",
      "📊 Epoch 17 Summary:\n",
      "│ Train Loss: 0.0919 | Train Acc: 0.9727\n",
      "│ Val Loss:   3.7579 | Val Acc:   0.4495\n",
      "│ Train Time: 26.29s | Val Time: 3.73s\n",
      "│ Total Epoch Time: 30.03s\n",
      "│ Best Val Acc: 0.4495 (Epoch 17)\n",
      "│ GPU Memory: 0.3GB / 3.2GB\n",
      "================================================================================\n",
      "\n",
      "📈 Epoch 18/50\n",
      "--------------------------------------------------\n",
      "🔄 Training Phase...\n"
     ]
    },
    {
     "name": "stderr",
     "output_type": "stream",
     "text": [
      "Training: 100%|██████████████████████████████| 48/48 [00:26<00:00,  1.83it/s, Loss=0.0904, Acc=0.9701]\n"
     ]
    },
    {
     "name": "stdout",
     "output_type": "stream",
     "text": [
      "✅ Training completed in 26.28s\n",
      "🔍 Validation Phase...\n"
     ]
    },
    {
     "name": "stderr",
     "output_type": "stream",
     "text": [
      "Validation: 100%|██████████████████████████████| 13/13 [00:03<00:00,  3.65it/s, Loss=3.0767, Acc=0.4207]\n"
     ]
    },
    {
     "name": "stdout",
     "output_type": "stream",
     "text": [
      "✅ Validation completed in 3.56s\n",
      "\n",
      "📊 Epoch 18 Summary:\n",
      "│ Train Loss: 0.0904 | Train Acc: 0.9701\n",
      "│ Val Loss:   3.0767 | Val Acc:   0.4207\n",
      "│ Train Time: 26.28s | Val Time: 3.56s\n",
      "│ Total Epoch Time: 29.84s\n",
      "│ Best Val Acc: 0.4495 (Epoch 17)\n",
      "│ GPU Memory: 0.3GB / 3.2GB\n",
      "================================================================================\n",
      "\n",
      "📈 Epoch 19/50\n",
      "--------------------------------------------------\n",
      "🔄 Training Phase...\n"
     ]
    },
    {
     "name": "stderr",
     "output_type": "stream",
     "text": [
      "Training: 100%|██████████████████████████████| 48/48 [00:26<00:00,  1.84it/s, Loss=0.1260, Acc=0.9596]\n"
     ]
    },
    {
     "name": "stdout",
     "output_type": "stream",
     "text": [
      "✅ Training completed in 26.09s\n",
      "🔍 Validation Phase...\n"
     ]
    },
    {
     "name": "stderr",
     "output_type": "stream",
     "text": [
      "Validation: 100%|██████████████████████████████| 13/13 [00:03<00:00,  3.65it/s, Loss=4.4695, Acc=0.3702]\n"
     ]
    },
    {
     "name": "stdout",
     "output_type": "stream",
     "text": [
      "✅ Validation completed in 3.57s\n",
      "\n",
      "📊 Epoch 19 Summary:\n",
      "│ Train Loss: 0.1260 | Train Acc: 0.9596\n",
      "│ Val Loss:   4.4695 | Val Acc:   0.3702\n",
      "│ Train Time: 26.09s | Val Time: 3.57s\n",
      "│ Total Epoch Time: 29.66s\n",
      "│ Best Val Acc: 0.4495 (Epoch 17)\n",
      "│ GPU Memory: 0.3GB / 3.2GB\n",
      "================================================================================\n",
      "\n",
      "📈 Epoch 20/50\n",
      "--------------------------------------------------\n",
      "🔄 Training Phase...\n"
     ]
    },
    {
     "name": "stderr",
     "output_type": "stream",
     "text": [
      "Training: 100%|██████████████████████████████| 48/48 [00:25<00:00,  1.85it/s, Loss=0.0806, Acc=0.9733]\n"
     ]
    },
    {
     "name": "stdout",
     "output_type": "stream",
     "text": [
      "✅ Training completed in 25.99s\n",
      "🔍 Validation Phase...\n"
     ]
    },
    {
     "name": "stderr",
     "output_type": "stream",
     "text": [
      "Validation: 100%|██████████████████████████████| 13/13 [00:03<00:00,  3.70it/s, Loss=4.3242, Acc=0.4135]\n"
     ]
    },
    {
     "name": "stdout",
     "output_type": "stream",
     "text": [
      "✅ Validation completed in 3.52s\n",
      "\n",
      "📊 Epoch 20 Summary:\n",
      "│ Train Loss: 0.0806 | Train Acc: 0.9733\n",
      "│ Val Loss:   4.3242 | Val Acc:   0.4135\n",
      "│ Train Time: 25.99s | Val Time: 3.52s\n",
      "│ Total Epoch Time: 29.51s\n",
      "│ Best Val Acc: 0.4495 (Epoch 17)\n",
      "│ GPU Memory: 0.3GB / 3.2GB\n",
      "================================================================================\n",
      "\n",
      "📈 Epoch 21/50\n",
      "--------------------------------------------------\n",
      "🔄 Training Phase...\n"
     ]
    },
    {
     "name": "stderr",
     "output_type": "stream",
     "text": [
      "Training: 100%|██████████████████████████████| 48/48 [00:25<00:00,  1.86it/s, Loss=0.0709, Acc=0.9772]\n"
     ]
    },
    {
     "name": "stdout",
     "output_type": "stream",
     "text": [
      "✅ Training completed in 25.79s\n",
      "🔍 Validation Phase...\n"
     ]
    },
    {
     "name": "stderr",
     "output_type": "stream",
     "text": [
      "Validation: 100%|██████████████████████████████| 13/13 [00:03<00:00,  3.76it/s, Loss=3.9623, Acc=0.4014]\n"
     ]
    },
    {
     "name": "stdout",
     "output_type": "stream",
     "text": [
      "✅ Validation completed in 3.46s\n",
      "\n",
      "📊 Epoch 21 Summary:\n",
      "│ Train Loss: 0.0709 | Train Acc: 0.9772\n",
      "│ Val Loss:   3.9623 | Val Acc:   0.4014\n",
      "│ Train Time: 25.79s | Val Time: 3.46s\n",
      "│ Total Epoch Time: 29.25s\n",
      "│ Best Val Acc: 0.4495 (Epoch 17)\n",
      "│ GPU Memory: 0.3GB / 3.2GB\n",
      "================================================================================\n",
      "\n",
      "📈 Epoch 22/50\n",
      "--------------------------------------------------\n",
      "🔄 Training Phase...\n"
     ]
    },
    {
     "name": "stderr",
     "output_type": "stream",
     "text": [
      "Training: 100%|██████████████████████████████| 48/48 [00:25<00:00,  1.86it/s, Loss=0.0401, Acc=0.9909]\n"
     ]
    },
    {
     "name": "stdout",
     "output_type": "stream",
     "text": [
      "✅ Training completed in 25.80s\n",
      "🔍 Validation Phase...\n"
     ]
    },
    {
     "name": "stderr",
     "output_type": "stream",
     "text": [
      "Validation: 100%|██████████████████████████████| 13/13 [00:03<00:00,  3.58it/s, Loss=3.9912, Acc=0.3822]\n"
     ]
    },
    {
     "name": "stdout",
     "output_type": "stream",
     "text": [
      "✅ Validation completed in 3.64s\n",
      "\n",
      "📊 Epoch 22 Summary:\n",
      "│ Train Loss: 0.0401 | Train Acc: 0.9909\n",
      "│ Val Loss:   3.9912 | Val Acc:   0.3822\n",
      "│ Train Time: 25.80s | Val Time: 3.64s\n",
      "│ Total Epoch Time: 29.44s\n",
      "│ Best Val Acc: 0.4495 (Epoch 17)\n",
      "│ GPU Memory: 0.3GB / 3.2GB\n",
      "================================================================================\n",
      "\n",
      "📈 Epoch 23/50\n",
      "--------------------------------------------------\n",
      "🔄 Training Phase...\n"
     ]
    },
    {
     "name": "stderr",
     "output_type": "stream",
     "text": [
      "Training: 100%|██████████████████████████████| 48/48 [00:26<00:00,  1.85it/s, Loss=0.0102, Acc=0.9980]\n"
     ]
    },
    {
     "name": "stdout",
     "output_type": "stream",
     "text": [
      "✅ Training completed in 26.01s\n",
      "🔍 Validation Phase...\n"
     ]
    },
    {
     "name": "stderr",
     "output_type": "stream",
     "text": [
      "Validation: 100%|██████████████████████████████| 13/13 [00:03<00:00,  3.64it/s, Loss=3.9039, Acc=0.4231]\n"
     ]
    },
    {
     "name": "stdout",
     "output_type": "stream",
     "text": [
      "✅ Validation completed in 3.57s\n",
      "\n",
      "📊 Epoch 23 Summary:\n",
      "│ Train Loss: 0.0102 | Train Acc: 0.9980\n",
      "│ Val Loss:   3.9039 | Val Acc:   0.4231\n",
      "│ Train Time: 26.01s | Val Time: 3.57s\n",
      "│ Total Epoch Time: 29.58s\n",
      "│ Best Val Acc: 0.4495 (Epoch 17)\n",
      "│ GPU Memory: 0.3GB / 3.2GB\n",
      "================================================================================\n",
      "\n",
      "📈 Epoch 24/50\n",
      "--------------------------------------------------\n",
      "🔄 Training Phase...\n"
     ]
    },
    {
     "name": "stderr",
     "output_type": "stream",
     "text": [
      "Training: 100%|██████████████████████████████| 48/48 [00:25<00:00,  1.85it/s, Loss=0.0040, Acc=0.9993]\n"
     ]
    },
    {
     "name": "stdout",
     "output_type": "stream",
     "text": [
      "✅ Training completed in 25.93s\n",
      "🔍 Validation Phase...\n"
     ]
    },
    {
     "name": "stderr",
     "output_type": "stream",
     "text": [
      "Validation: 100%|██████████████████████████████| 13/13 [00:03<00:00,  3.69it/s, Loss=3.9772, Acc=0.4087]\n"
     ]
    },
    {
     "name": "stdout",
     "output_type": "stream",
     "text": [
      "✅ Validation completed in 3.53s\n",
      "\n",
      "📊 Epoch 24 Summary:\n",
      "│ Train Loss: 0.0040 | Train Acc: 0.9993\n",
      "│ Val Loss:   3.9772 | Val Acc:   0.4087\n",
      "│ Train Time: 25.93s | Val Time: 3.53s\n",
      "│ Total Epoch Time: 29.46s\n",
      "│ Best Val Acc: 0.4495 (Epoch 17)\n",
      "│ GPU Memory: 0.3GB / 3.2GB\n",
      "================================================================================\n",
      "\n",
      "📈 Epoch 25/50\n",
      "--------------------------------------------------\n",
      "🔄 Training Phase...\n"
     ]
    },
    {
     "name": "stderr",
     "output_type": "stream",
     "text": [
      "Training: 100%|██████████████████████████████| 48/48 [00:25<00:00,  1.86it/s, Loss=0.0021, Acc=1.0000]\n"
     ]
    },
    {
     "name": "stdout",
     "output_type": "stream",
     "text": [
      "✅ Training completed in 25.86s\n",
      "🔍 Validation Phase...\n"
     ]
    },
    {
     "name": "stderr",
     "output_type": "stream",
     "text": [
      "Validation: 100%|██████████████████████████████| 13/13 [00:03<00:00,  3.70it/s, Loss=4.0228, Acc=0.3918]\n"
     ]
    },
    {
     "name": "stdout",
     "output_type": "stream",
     "text": [
      "✅ Validation completed in 3.52s\n",
      "\n",
      "📊 Epoch 25 Summary:\n",
      "│ Train Loss: 0.0021 | Train Acc: 1.0000\n",
      "│ Val Loss:   4.0228 | Val Acc:   0.3918\n",
      "│ Train Time: 25.86s | Val Time: 3.52s\n",
      "│ Total Epoch Time: 29.38s\n",
      "│ Best Val Acc: 0.4495 (Epoch 17)\n",
      "│ GPU Memory: 0.3GB / 3.2GB\n",
      "================================================================================\n",
      "\n",
      "📈 Epoch 26/50\n",
      "--------------------------------------------------\n",
      "🔄 Training Phase...\n"
     ]
    },
    {
     "name": "stderr",
     "output_type": "stream",
     "text": [
      "Training: 100%|██████████████████████████████| 48/48 [00:25<00:00,  1.85it/s, Loss=0.0047, Acc=0.9993]\n"
     ]
    },
    {
     "name": "stdout",
     "output_type": "stream",
     "text": [
      "✅ Training completed in 25.90s\n",
      "🔍 Validation Phase...\n"
     ]
    },
    {
     "name": "stderr",
     "output_type": "stream",
     "text": [
      "Validation: 100%|██████████████████████████████| 13/13 [00:03<00:00,  3.69it/s, Loss=4.3234, Acc=0.4038]\n"
     ]
    },
    {
     "name": "stdout",
     "output_type": "stream",
     "text": [
      "✅ Validation completed in 3.52s\n",
      "\n",
      "📊 Epoch 26 Summary:\n",
      "│ Train Loss: 0.0047 | Train Acc: 0.9993\n",
      "│ Val Loss:   4.3234 | Val Acc:   0.4038\n",
      "│ Train Time: 25.90s | Val Time: 3.52s\n",
      "│ Total Epoch Time: 29.43s\n",
      "│ Best Val Acc: 0.4495 (Epoch 17)\n",
      "│ GPU Memory: 0.3GB / 3.2GB\n",
      "================================================================================\n",
      "\n",
      "📈 Epoch 27/50\n",
      "--------------------------------------------------\n",
      "🔄 Training Phase...\n"
     ]
    },
    {
     "name": "stderr",
     "output_type": "stream",
     "text": [
      "Training: 100%|██████████████████████████████| 48/48 [00:25<00:00,  1.86it/s, Loss=0.0041, Acc=0.9987]\n"
     ]
    },
    {
     "name": "stdout",
     "output_type": "stream",
     "text": [
      "✅ Training completed in 25.87s\n",
      "🔍 Validation Phase...\n"
     ]
    },
    {
     "name": "stderr",
     "output_type": "stream",
     "text": [
      "Validation: 100%|██████████████████████████████| 13/13 [00:03<00:00,  3.66it/s, Loss=4.0051, Acc=0.4135]\n"
     ]
    },
    {
     "name": "stdout",
     "output_type": "stream",
     "text": [
      "✅ Validation completed in 3.56s\n",
      "\n",
      "📊 Epoch 27 Summary:\n",
      "│ Train Loss: 0.0041 | Train Acc: 0.9987\n",
      "│ Val Loss:   4.0051 | Val Acc:   0.4135\n",
      "│ Train Time: 25.87s | Val Time: 3.56s\n",
      "│ Total Epoch Time: 29.43s\n",
      "│ Best Val Acc: 0.4495 (Epoch 17)\n",
      "│ GPU Memory: 0.3GB / 3.2GB\n",
      "================================================================================\n",
      "\n",
      "📈 Epoch 28/50\n",
      "--------------------------------------------------\n",
      "🔄 Training Phase...\n"
     ]
    },
    {
     "name": "stderr",
     "output_type": "stream",
     "text": [
      "Training: 100%|██████████████████████████████| 48/48 [00:26<00:00,  1.84it/s, Loss=0.0016, Acc=1.0000]\n"
     ]
    },
    {
     "name": "stdout",
     "output_type": "stream",
     "text": [
      "✅ Training completed in 26.02s\n",
      "🔍 Validation Phase...\n"
     ]
    },
    {
     "name": "stderr",
     "output_type": "stream",
     "text": [
      "Validation: 100%|██████████████████████████████| 13/13 [00:03<00:00,  3.49it/s, Loss=4.0968, Acc=0.3966]\n"
     ]
    },
    {
     "name": "stdout",
     "output_type": "stream",
     "text": [
      "✅ Validation completed in 3.73s\n",
      "\n",
      "📊 Epoch 28 Summary:\n",
      "│ Train Loss: 0.0016 | Train Acc: 1.0000\n",
      "│ Val Loss:   4.0968 | Val Acc:   0.3966\n",
      "│ Train Time: 26.02s | Val Time: 3.73s\n",
      "│ Total Epoch Time: 29.76s\n",
      "│ Best Val Acc: 0.4495 (Epoch 17)\n",
      "│ GPU Memory: 0.3GB / 3.2GB\n",
      "================================================================================\n",
      "\n",
      "📈 Epoch 29/50\n",
      "--------------------------------------------------\n",
      "🔄 Training Phase...\n"
     ]
    },
    {
     "name": "stderr",
     "output_type": "stream",
     "text": [
      "Training: 100%|██████████████████████████████| 48/48 [00:26<00:00,  1.84it/s, Loss=0.0010, Acc=1.0000]\n"
     ]
    },
    {
     "name": "stdout",
     "output_type": "stream",
     "text": [
      "✅ Training completed in 26.06s\n",
      "🔍 Validation Phase...\n"
     ]
    },
    {
     "name": "stderr",
     "output_type": "stream",
     "text": [
      "Validation: 100%|██████████████████████████████| 13/13 [00:03<00:00,  3.64it/s, Loss=4.0167, Acc=0.4135]\n"
     ]
    },
    {
     "name": "stdout",
     "output_type": "stream",
     "text": [
      "✅ Validation completed in 3.58s\n",
      "\n",
      "📊 Epoch 29 Summary:\n",
      "│ Train Loss: 0.0010 | Train Acc: 1.0000\n",
      "│ Val Loss:   4.0167 | Val Acc:   0.4135\n",
      "│ Train Time: 26.06s | Val Time: 3.58s\n",
      "│ Total Epoch Time: 29.64s\n",
      "│ Best Val Acc: 0.4495 (Epoch 17)\n",
      "│ GPU Memory: 0.3GB / 3.2GB\n",
      "================================================================================\n",
      "\n",
      "📈 Epoch 30/50\n",
      "--------------------------------------------------\n",
      "🔄 Training Phase...\n"
     ]
    },
    {
     "name": "stderr",
     "output_type": "stream",
     "text": [
      "Training: 100%|██████████████████████████████| 48/48 [00:26<00:00,  1.84it/s, Loss=0.0017, Acc=0.9993]\n"
     ]
    },
    {
     "name": "stdout",
     "output_type": "stream",
     "text": [
      "✅ Training completed in 26.03s\n",
      "🔍 Validation Phase...\n"
     ]
    },
    {
     "name": "stderr",
     "output_type": "stream",
     "text": [
      "Validation: 100%|██████████████████████████████| 13/13 [00:03<00:00,  3.61it/s, Loss=3.9661, Acc=0.4327]\n"
     ]
    },
    {
     "name": "stdout",
     "output_type": "stream",
     "text": [
      "✅ Validation completed in 3.60s\n",
      "\n",
      "📊 Epoch 30 Summary:\n",
      "│ Train Loss: 0.0017 | Train Acc: 0.9993\n",
      "│ Val Loss:   3.9661 | Val Acc:   0.4327\n",
      "│ Train Time: 26.03s | Val Time: 3.60s\n",
      "│ Total Epoch Time: 29.63s\n",
      "│ Best Val Acc: 0.4495 (Epoch 17)\n",
      "│ GPU Memory: 0.3GB / 3.2GB\n",
      "================================================================================\n",
      "\n",
      "📈 Epoch 31/50\n",
      "--------------------------------------------------\n",
      "🔄 Training Phase...\n"
     ]
    },
    {
     "name": "stderr",
     "output_type": "stream",
     "text": [
      "Training: 100%|██████████████████████████████| 48/48 [00:26<00:00,  1.83it/s, Loss=0.0017, Acc=0.9993]\n"
     ]
    },
    {
     "name": "stdout",
     "output_type": "stream",
     "text": [
      "✅ Training completed in 26.31s\n",
      "🔍 Validation Phase...\n"
     ]
    },
    {
     "name": "stderr",
     "output_type": "stream",
     "text": [
      "Validation: 100%|██████████████████████████████| 13/13 [00:03<00:00,  3.64it/s, Loss=3.8251, Acc=0.3774]\n"
     ]
    },
    {
     "name": "stdout",
     "output_type": "stream",
     "text": [
      "✅ Validation completed in 3.57s\n",
      "\n",
      "📊 Epoch 31 Summary:\n",
      "│ Train Loss: 0.0017 | Train Acc: 0.9993\n",
      "│ Val Loss:   3.8251 | Val Acc:   0.3774\n",
      "│ Train Time: 26.31s | Val Time: 3.57s\n",
      "│ Total Epoch Time: 29.88s\n",
      "│ Best Val Acc: 0.4495 (Epoch 17)\n",
      "│ GPU Memory: 0.3GB / 3.2GB\n",
      "================================================================================\n",
      "\n",
      "📈 Epoch 32/50\n",
      "--------------------------------------------------\n",
      "🔄 Training Phase...\n"
     ]
    },
    {
     "name": "stderr",
     "output_type": "stream",
     "text": [
      "Training: 100%|██████████████████████████████| 48/48 [00:26<00:00,  1.84it/s, Loss=0.0009, Acc=1.0000]\n"
     ]
    },
    {
     "name": "stdout",
     "output_type": "stream",
     "text": [
      "✅ Training completed in 26.07s\n",
      "🔍 Validation Phase...\n"
     ]
    },
    {
     "name": "stderr",
     "output_type": "stream",
     "text": [
      "Validation: 100%|██████████████████████████████| 13/13 [00:03<00:00,  3.64it/s, Loss=3.9157, Acc=0.3966]\n"
     ]
    },
    {
     "name": "stdout",
     "output_type": "stream",
     "text": [
      "✅ Validation completed in 3.58s\n",
      "\n",
      "📊 Epoch 32 Summary:\n",
      "│ Train Loss: 0.0009 | Train Acc: 1.0000\n",
      "│ Val Loss:   3.9157 | Val Acc:   0.3966\n",
      "│ Train Time: 26.07s | Val Time: 3.58s\n",
      "│ Total Epoch Time: 29.65s\n",
      "│ Best Val Acc: 0.4495 (Epoch 17)\n",
      "│ GPU Memory: 0.3GB / 3.2GB\n",
      "================================================================================\n",
      "\n",
      "📈 Epoch 33/50\n",
      "--------------------------------------------------\n",
      "🔄 Training Phase...\n"
     ]
    },
    {
     "name": "stderr",
     "output_type": "stream",
     "text": [
      "Training: 100%|██████████████████████████████| 48/48 [00:26<00:00,  1.84it/s, Loss=0.0006, Acc=1.0000]\n"
     ]
    },
    {
     "name": "stdout",
     "output_type": "stream",
     "text": [
      "✅ Training completed in 26.09s\n",
      "🔍 Validation Phase...\n"
     ]
    },
    {
     "name": "stderr",
     "output_type": "stream",
     "text": [
      "Validation: 100%|██████████████████████████████| 13/13 [00:03<00:00,  3.58it/s, Loss=3.9130, Acc=0.3966]\n"
     ]
    },
    {
     "name": "stdout",
     "output_type": "stream",
     "text": [
      "✅ Validation completed in 3.64s\n",
      "\n",
      "📊 Epoch 33 Summary:\n",
      "│ Train Loss: 0.0006 | Train Acc: 1.0000\n",
      "│ Val Loss:   3.9130 | Val Acc:   0.3966\n",
      "│ Train Time: 26.09s | Val Time: 3.64s\n",
      "│ Total Epoch Time: 29.73s\n",
      "│ Best Val Acc: 0.4495 (Epoch 17)\n",
      "│ GPU Memory: 0.3GB / 3.2GB\n",
      "================================================================================\n",
      "\n",
      "📈 Epoch 34/50\n",
      "--------------------------------------------------\n",
      "🔄 Training Phase...\n"
     ]
    },
    {
     "name": "stderr",
     "output_type": "stream",
     "text": [
      "Training: 100%|██████████████████████████████| 48/48 [00:26<00:00,  1.84it/s, Loss=0.0006, Acc=1.0000]\n"
     ]
    },
    {
     "name": "stdout",
     "output_type": "stream",
     "text": [
      "✅ Training completed in 26.08s\n",
      "🔍 Validation Phase...\n"
     ]
    },
    {
     "name": "stderr",
     "output_type": "stream",
     "text": [
      "Validation: 100%|██████████████████████████████| 13/13 [00:03<00:00,  3.47it/s, Loss=3.9551, Acc=0.3918]\n"
     ]
    },
    {
     "name": "stdout",
     "output_type": "stream",
     "text": [
      "✅ Validation completed in 3.75s\n",
      "\n",
      "📊 Epoch 34 Summary:\n",
      "│ Train Loss: 0.0006 | Train Acc: 1.0000\n",
      "│ Val Loss:   3.9551 | Val Acc:   0.3918\n",
      "│ Train Time: 26.08s | Val Time: 3.75s\n",
      "│ Total Epoch Time: 29.83s\n",
      "│ Best Val Acc: 0.4495 (Epoch 17)\n",
      "│ GPU Memory: 0.3GB / 3.2GB\n",
      "================================================================================\n",
      "\n",
      "📈 Epoch 35/50\n",
      "--------------------------------------------------\n",
      "🔄 Training Phase...\n"
     ]
    },
    {
     "name": "stderr",
     "output_type": "stream",
     "text": [
      "Training: 100%|██████████████████████████████| 48/48 [00:26<00:00,  1.82it/s, Loss=0.0004, Acc=1.0000]\n"
     ]
    },
    {
     "name": "stdout",
     "output_type": "stream",
     "text": [
      "✅ Training completed in 26.37s\n",
      "🔍 Validation Phase...\n"
     ]
    },
    {
     "name": "stderr",
     "output_type": "stream",
     "text": [
      "Validation: 100%|██████████████████████████████| 13/13 [00:03<00:00,  3.43it/s, Loss=3.9883, Acc=0.3846]\n"
     ]
    },
    {
     "name": "stdout",
     "output_type": "stream",
     "text": [
      "✅ Validation completed in 3.80s\n",
      "\n",
      "📊 Epoch 35 Summary:\n",
      "│ Train Loss: 0.0004 | Train Acc: 1.0000\n",
      "│ Val Loss:   3.9883 | Val Acc:   0.3846\n",
      "│ Train Time: 26.37s | Val Time: 3.80s\n",
      "│ Total Epoch Time: 30.17s\n",
      "│ Best Val Acc: 0.4495 (Epoch 17)\n",
      "│ GPU Memory: 0.3GB / 3.2GB\n",
      "================================================================================\n",
      "\n",
      "📈 Epoch 36/50\n",
      "--------------------------------------------------\n",
      "🔄 Training Phase...\n"
     ]
    },
    {
     "name": "stderr",
     "output_type": "stream",
     "text": [
      "Training: 100%|██████████████████████████████| 48/48 [00:26<00:00,  1.81it/s, Loss=0.0005, Acc=1.0000]\n"
     ]
    },
    {
     "name": "stdout",
     "output_type": "stream",
     "text": [
      "✅ Training completed in 26.52s\n",
      "🔍 Validation Phase...\n"
     ]
    },
    {
     "name": "stderr",
     "output_type": "stream",
     "text": [
      "Validation: 100%|██████████████████████████████| 13/13 [00:03<00:00,  3.43it/s, Loss=3.8384, Acc=0.4159]\n"
     ]
    },
    {
     "name": "stdout",
     "output_type": "stream",
     "text": [
      "✅ Validation completed in 3.79s\n",
      "\n",
      "📊 Epoch 36 Summary:\n",
      "│ Train Loss: 0.0005 | Train Acc: 1.0000\n",
      "│ Val Loss:   3.8384 | Val Acc:   0.4159\n",
      "│ Train Time: 26.52s | Val Time: 3.79s\n",
      "│ Total Epoch Time: 30.31s\n",
      "│ Best Val Acc: 0.4495 (Epoch 17)\n",
      "│ GPU Memory: 0.3GB / 3.2GB\n",
      "================================================================================\n",
      "\n",
      "📈 Epoch 37/50\n",
      "--------------------------------------------------\n",
      "🔄 Training Phase...\n"
     ]
    },
    {
     "name": "stderr",
     "output_type": "stream",
     "text": [
      "Training: 100%|██████████████████████████████| 48/48 [00:26<00:00,  1.81it/s, Loss=0.0003, Acc=1.0000]\n"
     ]
    },
    {
     "name": "stdout",
     "output_type": "stream",
     "text": [
      "✅ Training completed in 26.49s\n",
      "🔍 Validation Phase...\n"
     ]
    },
    {
     "name": "stderr",
     "output_type": "stream",
     "text": [
      "Validation: 100%|██████████████████████████████| 13/13 [00:03<00:00,  3.45it/s, Loss=3.8801, Acc=0.4038]\n"
     ]
    },
    {
     "name": "stdout",
     "output_type": "stream",
     "text": [
      "✅ Validation completed in 3.78s\n",
      "\n",
      "📊 Epoch 37 Summary:\n",
      "│ Train Loss: 0.0003 | Train Acc: 1.0000\n",
      "│ Val Loss:   3.8801 | Val Acc:   0.4038\n",
      "│ Train Time: 26.49s | Val Time: 3.78s\n",
      "│ Total Epoch Time: 30.27s\n",
      "│ Best Val Acc: 0.4495 (Epoch 17)\n",
      "│ GPU Memory: 0.3GB / 3.2GB\n",
      "================================================================================\n",
      "\n",
      "📈 Epoch 38/50\n",
      "--------------------------------------------------\n",
      "🔄 Training Phase...\n"
     ]
    },
    {
     "name": "stderr",
     "output_type": "stream",
     "text": [
      "Training: 100%|██████████████████████████████| 48/48 [00:26<00:00,  1.82it/s, Loss=0.0004, Acc=1.0000]\n"
     ]
    },
    {
     "name": "stdout",
     "output_type": "stream",
     "text": [
      "✅ Training completed in 26.37s\n",
      "🔍 Validation Phase...\n"
     ]
    },
    {
     "name": "stderr",
     "output_type": "stream",
     "text": [
      "Validation: 100%|██████████████████████████████| 13/13 [00:03<00:00,  3.37it/s, Loss=3.8049, Acc=0.3918]\n"
     ]
    },
    {
     "name": "stdout",
     "output_type": "stream",
     "text": [
      "✅ Validation completed in 3.86s\n",
      "\n",
      "📊 Epoch 38 Summary:\n",
      "│ Train Loss: 0.0004 | Train Acc: 1.0000\n",
      "│ Val Loss:   3.8049 | Val Acc:   0.3918\n",
      "│ Train Time: 26.37s | Val Time: 3.86s\n",
      "│ Total Epoch Time: 30.23s\n",
      "│ Best Val Acc: 0.4495 (Epoch 17)\n",
      "│ GPU Memory: 0.3GB / 3.2GB\n",
      "================================================================================\n",
      "\n",
      "📈 Epoch 39/50\n",
      "--------------------------------------------------\n",
      "🔄 Training Phase...\n"
     ]
    },
    {
     "name": "stderr",
     "output_type": "stream",
     "text": [
      "Training: 100%|██████████████████████████████| 48/48 [00:26<00:00,  1.83it/s, Loss=0.0003, Acc=1.0000]\n"
     ]
    },
    {
     "name": "stdout",
     "output_type": "stream",
     "text": [
      "✅ Training completed in 26.30s\n",
      "🔍 Validation Phase...\n"
     ]
    },
    {
     "name": "stderr",
     "output_type": "stream",
     "text": [
      "Validation: 100%|██████████████████████████████| 13/13 [00:03<00:00,  3.50it/s, Loss=3.7396, Acc=0.3846]\n"
     ]
    },
    {
     "name": "stdout",
     "output_type": "stream",
     "text": [
      "✅ Validation completed in 3.72s\n",
      "\n",
      "📊 Epoch 39 Summary:\n",
      "│ Train Loss: 0.0003 | Train Acc: 1.0000\n",
      "│ Val Loss:   3.7396 | Val Acc:   0.3846\n",
      "│ Train Time: 26.30s | Val Time: 3.72s\n",
      "│ Total Epoch Time: 30.02s\n",
      "│ Best Val Acc: 0.4495 (Epoch 17)\n",
      "│ GPU Memory: 0.3GB / 3.2GB\n",
      "================================================================================\n",
      "\n",
      "📈 Epoch 40/50\n",
      "--------------------------------------------------\n",
      "🔄 Training Phase...\n"
     ]
    },
    {
     "name": "stderr",
     "output_type": "stream",
     "text": [
      "Training: 100%|██████████████████████████████| 48/48 [00:26<00:00,  1.79it/s, Loss=0.0003, Acc=1.0000]\n"
     ]
    },
    {
     "name": "stdout",
     "output_type": "stream",
     "text": [
      "✅ Training completed in 26.78s\n",
      "🔍 Validation Phase...\n"
     ]
    },
    {
     "name": "stderr",
     "output_type": "stream",
     "text": [
      "Validation: 100%|██████████████████████████████| 13/13 [00:03<00:00,  3.44it/s, Loss=3.8714, Acc=0.3726]\n"
     ]
    },
    {
     "name": "stdout",
     "output_type": "stream",
     "text": [
      "✅ Validation completed in 3.79s\n",
      "\n",
      "📊 Epoch 40 Summary:\n",
      "│ Train Loss: 0.0003 | Train Acc: 1.0000\n",
      "│ Val Loss:   3.8714 | Val Acc:   0.3726\n",
      "│ Train Time: 26.78s | Val Time: 3.79s\n",
      "│ Total Epoch Time: 30.58s\n",
      "│ Best Val Acc: 0.4495 (Epoch 17)\n",
      "│ GPU Memory: 0.3GB / 3.2GB\n",
      "================================================================================\n",
      "\n",
      "📈 Epoch 41/50\n",
      "--------------------------------------------------\n",
      "🔄 Training Phase...\n"
     ]
    },
    {
     "name": "stderr",
     "output_type": "stream",
     "text": [
      "Training: 100%|██████████████████████████████| 48/48 [00:26<00:00,  1.81it/s, Loss=0.0003, Acc=1.0000]\n"
     ]
    },
    {
     "name": "stdout",
     "output_type": "stream",
     "text": [
      "✅ Training completed in 26.52s\n",
      "🔍 Validation Phase...\n"
     ]
    },
    {
     "name": "stderr",
     "output_type": "stream",
     "text": [
      "Validation: 100%|██████████████████████████████| 13/13 [00:03<00:00,  3.46it/s, Loss=3.6921, Acc=0.3990]\n"
     ]
    },
    {
     "name": "stdout",
     "output_type": "stream",
     "text": [
      "✅ Validation completed in 3.76s\n",
      "\n",
      "📊 Epoch 41 Summary:\n",
      "│ Train Loss: 0.0003 | Train Acc: 1.0000\n",
      "│ Val Loss:   3.6921 | Val Acc:   0.3990\n",
      "│ Train Time: 26.52s | Val Time: 3.76s\n",
      "│ Total Epoch Time: 30.29s\n",
      "│ Best Val Acc: 0.4495 (Epoch 17)\n",
      "│ GPU Memory: 0.3GB / 3.2GB\n",
      "================================================================================\n",
      "\n",
      "📈 Epoch 42/50\n",
      "--------------------------------------------------\n",
      "🔄 Training Phase...\n"
     ]
    },
    {
     "name": "stderr",
     "output_type": "stream",
     "text": [
      "Training: 100%|██████████████████████████████| 48/48 [00:26<00:00,  1.79it/s, Loss=0.0004, Acc=1.0000]\n"
     ]
    },
    {
     "name": "stdout",
     "output_type": "stream",
     "text": [
      "✅ Training completed in 26.86s\n",
      "🔍 Validation Phase...\n"
     ]
    },
    {
     "name": "stderr",
     "output_type": "stream",
     "text": [
      "Validation: 100%|██████████████████████████████| 13/13 [00:03<00:00,  3.30it/s, Loss=3.7643, Acc=0.3966]\n"
     ]
    },
    {
     "name": "stdout",
     "output_type": "stream",
     "text": [
      "✅ Validation completed in 3.94s\n",
      "\n",
      "📊 Epoch 42 Summary:\n",
      "│ Train Loss: 0.0004 | Train Acc: 1.0000\n",
      "│ Val Loss:   3.7643 | Val Acc:   0.3966\n",
      "│ Train Time: 26.86s | Val Time: 3.94s\n",
      "│ Total Epoch Time: 30.81s\n",
      "│ Best Val Acc: 0.4495 (Epoch 17)\n",
      "│ GPU Memory: 0.3GB / 3.2GB\n",
      "================================================================================\n",
      "\n",
      "📈 Epoch 43/50\n",
      "--------------------------------------------------\n",
      "🔄 Training Phase...\n"
     ]
    },
    {
     "name": "stderr",
     "output_type": "stream",
     "text": [
      "Training: 100%|██████████████████████████████| 48/48 [00:26<00:00,  1.78it/s, Loss=0.0002, Acc=1.0000]\n"
     ]
    },
    {
     "name": "stdout",
     "output_type": "stream",
     "text": [
      "✅ Training completed in 26.91s\n",
      "🔍 Validation Phase...\n"
     ]
    },
    {
     "name": "stderr",
     "output_type": "stream",
     "text": [
      "Validation: 100%|██████████████████████████████| 13/13 [00:03<00:00,  3.46it/s, Loss=3.7497, Acc=0.4038]\n"
     ]
    },
    {
     "name": "stdout",
     "output_type": "stream",
     "text": [
      "✅ Validation completed in 3.77s\n",
      "\n",
      "📊 Epoch 43 Summary:\n",
      "│ Train Loss: 0.0002 | Train Acc: 1.0000\n",
      "│ Val Loss:   3.7497 | Val Acc:   0.4038\n",
      "│ Train Time: 26.91s | Val Time: 3.77s\n",
      "│ Total Epoch Time: 30.68s\n",
      "│ Best Val Acc: 0.4495 (Epoch 17)\n",
      "│ GPU Memory: 0.3GB / 3.2GB\n",
      "================================================================================\n",
      "\n",
      "📈 Epoch 44/50\n",
      "--------------------------------------------------\n",
      "🔄 Training Phase...\n"
     ]
    },
    {
     "name": "stderr",
     "output_type": "stream",
     "text": [
      "Training: 100%|██████████████████████████████| 48/48 [00:26<00:00,  1.79it/s, Loss=0.0003, Acc=1.0000]\n"
     ]
    },
    {
     "name": "stdout",
     "output_type": "stream",
     "text": [
      "✅ Training completed in 26.87s\n",
      "🔍 Validation Phase...\n"
     ]
    },
    {
     "name": "stderr",
     "output_type": "stream",
     "text": [
      "Validation: 100%|██████████████████████████████| 13/13 [00:03<00:00,  3.32it/s, Loss=3.7084, Acc=0.4038]\n"
     ]
    },
    {
     "name": "stdout",
     "output_type": "stream",
     "text": [
      "✅ Validation completed in 3.92s\n",
      "\n",
      "📊 Epoch 44 Summary:\n",
      "│ Train Loss: 0.0003 | Train Acc: 1.0000\n",
      "│ Val Loss:   3.7084 | Val Acc:   0.4038\n",
      "│ Train Time: 26.87s | Val Time: 3.92s\n",
      "│ Total Epoch Time: 30.79s\n",
      "│ Best Val Acc: 0.4495 (Epoch 17)\n",
      "│ GPU Memory: 0.3GB / 3.2GB\n",
      "================================================================================\n",
      "\n",
      "📈 Epoch 45/50\n",
      "--------------------------------------------------\n",
      "🔄 Training Phase...\n"
     ]
    },
    {
     "name": "stderr",
     "output_type": "stream",
     "text": [
      "Training: 100%|██████████████████████████████| 48/48 [00:26<00:00,  1.79it/s, Loss=0.0004, Acc=1.0000]\n"
     ]
    },
    {
     "name": "stdout",
     "output_type": "stream",
     "text": [
      "✅ Training completed in 26.88s\n",
      "🔍 Validation Phase...\n"
     ]
    },
    {
     "name": "stderr",
     "output_type": "stream",
     "text": [
      "Validation: 100%|██████████████████████████████| 13/13 [00:03<00:00,  3.35it/s, Loss=3.6759, Acc=0.4062]\n"
     ]
    },
    {
     "name": "stdout",
     "output_type": "stream",
     "text": [
      "✅ Validation completed in 3.89s\n",
      "\n",
      "📊 Epoch 45 Summary:\n",
      "│ Train Loss: 0.0004 | Train Acc: 1.0000\n",
      "│ Val Loss:   3.6759 | Val Acc:   0.4062\n",
      "│ Train Time: 26.88s | Val Time: 3.89s\n",
      "│ Total Epoch Time: 30.76s\n",
      "│ Best Val Acc: 0.4495 (Epoch 17)\n",
      "│ GPU Memory: 0.3GB / 3.2GB\n",
      "================================================================================\n",
      "\n",
      "📈 Epoch 46/50\n",
      "--------------------------------------------------\n",
      "🔄 Training Phase...\n"
     ]
    },
    {
     "name": "stderr",
     "output_type": "stream",
     "text": [
      "Training: 100%|██████████████████████████████| 48/48 [00:26<00:00,  1.79it/s, Loss=0.0003, Acc=1.0000]\n"
     ]
    },
    {
     "name": "stdout",
     "output_type": "stream",
     "text": [
      "✅ Training completed in 26.81s\n",
      "🔍 Validation Phase...\n"
     ]
    },
    {
     "name": "stderr",
     "output_type": "stream",
     "text": [
      "Validation: 100%|██████████████████████████████| 13/13 [00:03<00:00,  3.36it/s, Loss=3.6768, Acc=0.4014]\n"
     ]
    },
    {
     "name": "stdout",
     "output_type": "stream",
     "text": [
      "✅ Validation completed in 3.88s\n",
      "\n",
      "📊 Epoch 46 Summary:\n",
      "│ Train Loss: 0.0003 | Train Acc: 1.0000\n",
      "│ Val Loss:   3.6768 | Val Acc:   0.4014\n",
      "│ Train Time: 26.81s | Val Time: 3.88s\n",
      "│ Total Epoch Time: 30.69s\n",
      "│ Best Val Acc: 0.4495 (Epoch 17)\n",
      "│ GPU Memory: 0.3GB / 3.2GB\n",
      "================================================================================\n",
      "\n",
      "📈 Epoch 47/50\n",
      "--------------------------------------------------\n",
      "🔄 Training Phase...\n"
     ]
    },
    {
     "name": "stderr",
     "output_type": "stream",
     "text": [
      "Training: 100%|██████████████████████████████| 48/48 [00:26<00:00,  1.80it/s, Loss=0.0004, Acc=1.0000]\n"
     ]
    },
    {
     "name": "stdout",
     "output_type": "stream",
     "text": [
      "✅ Training completed in 26.74s\n",
      "🔍 Validation Phase...\n"
     ]
    },
    {
     "name": "stderr",
     "output_type": "stream",
     "text": [
      "Validation: 100%|██████████████████████████████| 13/13 [00:03<00:00,  3.48it/s, Loss=3.7123, Acc=0.4135]\n"
     ]
    },
    {
     "name": "stdout",
     "output_type": "stream",
     "text": [
      "✅ Validation completed in 3.74s\n",
      "\n",
      "📊 Epoch 47 Summary:\n",
      "│ Train Loss: 0.0004 | Train Acc: 1.0000\n",
      "│ Val Loss:   3.7123 | Val Acc:   0.4135\n",
      "│ Train Time: 26.74s | Val Time: 3.74s\n",
      "│ Total Epoch Time: 30.48s\n",
      "│ Best Val Acc: 0.4495 (Epoch 17)\n",
      "│ GPU Memory: 0.3GB / 3.2GB\n",
      "================================================================================\n",
      "\n",
      "📈 Epoch 48/50\n",
      "--------------------------------------------------\n",
      "🔄 Training Phase...\n"
     ]
    },
    {
     "name": "stderr",
     "output_type": "stream",
     "text": [
      "Training: 100%|██████████████████████████████| 48/48 [00:26<00:00,  1.84it/s, Loss=0.0004, Acc=1.0000]\n"
     ]
    },
    {
     "name": "stdout",
     "output_type": "stream",
     "text": [
      "✅ Training completed in 26.15s\n",
      "🔍 Validation Phase...\n"
     ]
    },
    {
     "name": "stderr",
     "output_type": "stream",
     "text": [
      "Validation: 100%|██████████████████████████████| 13/13 [00:03<00:00,  3.65it/s, Loss=3.6367, Acc=0.4038]\n"
     ]
    },
    {
     "name": "stdout",
     "output_type": "stream",
     "text": [
      "✅ Validation completed in 3.56s\n",
      "\n",
      "📊 Epoch 48 Summary:\n",
      "│ Train Loss: 0.0004 | Train Acc: 1.0000\n",
      "│ Val Loss:   3.6367 | Val Acc:   0.4038\n",
      "│ Train Time: 26.15s | Val Time: 3.56s\n",
      "│ Total Epoch Time: 29.72s\n",
      "│ Best Val Acc: 0.4495 (Epoch 17)\n",
      "│ GPU Memory: 0.3GB / 3.2GB\n",
      "================================================================================\n",
      "\n",
      "📈 Epoch 49/50\n",
      "--------------------------------------------------\n",
      "🔄 Training Phase...\n"
     ]
    },
    {
     "name": "stderr",
     "output_type": "stream",
     "text": [
      "Training: 100%|██████████████████████████████| 48/48 [00:26<00:00,  1.83it/s, Loss=0.0003, Acc=1.0000]\n"
     ]
    },
    {
     "name": "stdout",
     "output_type": "stream",
     "text": [
      "✅ Training completed in 26.19s\n",
      "🔍 Validation Phase...\n"
     ]
    },
    {
     "name": "stderr",
     "output_type": "stream",
     "text": [
      "Validation: 100%|██████████████████████████████| 13/13 [00:03<00:00,  3.54it/s, Loss=3.6411, Acc=0.4062]\n"
     ]
    },
    {
     "name": "stdout",
     "output_type": "stream",
     "text": [
      "✅ Validation completed in 3.68s\n",
      "\n",
      "📊 Epoch 49 Summary:\n",
      "│ Train Loss: 0.0003 | Train Acc: 1.0000\n",
      "│ Val Loss:   3.6411 | Val Acc:   0.4062\n",
      "│ Train Time: 26.19s | Val Time: 3.68s\n",
      "│ Total Epoch Time: 29.88s\n",
      "│ Best Val Acc: 0.4495 (Epoch 17)\n",
      "│ GPU Memory: 0.3GB / 3.2GB\n",
      "================================================================================\n",
      "\n",
      "📈 Epoch 50/50\n",
      "--------------------------------------------------\n",
      "🔄 Training Phase...\n"
     ]
    },
    {
     "name": "stderr",
     "output_type": "stream",
     "text": [
      "Training: 100%|██████████████████████████████| 48/48 [00:26<00:00,  1.81it/s, Loss=0.0003, Acc=1.0000]\n"
     ]
    },
    {
     "name": "stdout",
     "output_type": "stream",
     "text": [
      "✅ Training completed in 26.49s\n",
      "🔍 Validation Phase...\n"
     ]
    },
    {
     "name": "stderr",
     "output_type": "stream",
     "text": [
      "Validation: 100%|██████████████████████████████| 13/13 [00:03<00:00,  3.47it/s, Loss=3.6513, Acc=0.4038]\n"
     ]
    },
    {
     "name": "stdout",
     "output_type": "stream",
     "text": [
      "✅ Validation completed in 3.76s\n",
      "\n",
      "📊 Epoch 50 Summary:\n",
      "│ Train Loss: 0.0003 | Train Acc: 1.0000\n",
      "│ Val Loss:   3.6513 | Val Acc:   0.4038\n",
      "│ Train Time: 26.49s | Val Time: 3.76s\n",
      "│ Total Epoch Time: 30.25s\n",
      "│ Best Val Acc: 0.4495 (Epoch 17)\n",
      "│ GPU Memory: 0.3GB / 3.2GB\n",
      "================================================================================\n",
      "\n",
      "💾 Best ResNet50 model saved as 'best_resnet50_model.pth'\n",
      "📊 Best model stats:\n",
      "│ Best Epoch: 17\n",
      "│ Best Val Acc: 0.4495\n",
      "\n",
      "💾 ResNet50 training history saved to 'resnet50_training_history.csv'\n",
      "\n",
      "🎉 ResNet50 Training Complete!\n",
      "Total Training Time: 1490.84s (24.8 minutes)\n",
      "Average Epoch Time: 29.82s\n",
      "\n",
      "⏱️  Epoch Timing Breakdown:\n",
      "│ Epoch 1: 39.80s\n",
      "│ Epoch 2: 27.51s\n",
      "│ Epoch 3: 28.27s\n",
      "│ Epoch 4: 28.49s\n",
      "│ Epoch 5: 28.48s\n",
      "│ Epoch 6: 28.41s\n",
      "│ Epoch 7: 28.76s\n",
      "│ Epoch 8: 29.04s\n",
      "│ Epoch 9: 28.61s\n",
      "│ Epoch 10: 29.08s\n",
      "│ Epoch 11: 28.98s\n",
      "│ Epoch 12: 28.93s\n",
      "│ Epoch 13: 29.15s\n",
      "│ Epoch 14: 29.48s\n",
      "│ Epoch 15: 29.19s\n",
      "│ Epoch 16: 29.56s\n",
      "│ Epoch 17: 30.03s\n",
      "│ Epoch 18: 29.84s\n",
      "│ Epoch 19: 29.66s\n",
      "│ Epoch 20: 29.51s\n",
      "│ Epoch 21: 29.25s\n",
      "│ Epoch 22: 29.44s\n",
      "│ Epoch 23: 29.58s\n",
      "│ Epoch 24: 29.46s\n",
      "│ Epoch 25: 29.38s\n",
      "│ Epoch 26: 29.43s\n",
      "│ Epoch 27: 29.43s\n",
      "│ Epoch 28: 29.76s\n",
      "│ Epoch 29: 29.64s\n",
      "│ Epoch 30: 29.63s\n",
      "│ Epoch 31: 29.88s\n",
      "│ Epoch 32: 29.65s\n",
      "│ Epoch 33: 29.73s\n",
      "│ Epoch 34: 29.83s\n",
      "│ Epoch 35: 30.17s\n",
      "│ Epoch 36: 30.31s\n",
      "│ Epoch 37: 30.27s\n",
      "│ Epoch 38: 30.23s\n",
      "│ Epoch 39: 30.02s\n",
      "│ Epoch 40: 30.58s\n",
      "│ Epoch 41: 30.29s\n",
      "│ Epoch 42: 30.81s\n",
      "│ Epoch 43: 30.68s\n",
      "│ Epoch 44: 30.79s\n",
      "│ Epoch 45: 30.76s\n",
      "│ Epoch 46: 30.69s\n",
      "│ Epoch 47: 30.48s\n",
      "│ Epoch 48: 29.72s\n",
      "│ Epoch 49: 29.88s\n",
      "│ Epoch 50: 30.25s\n",
      "\n",
      "🧪 Loading Best ResNet50 Model for Testing...\n",
      "✅ Best ResNet50 model from epoch 17 loaded successfully!\n"
     ]
    },
    {
     "name": "stderr",
     "output_type": "stream",
     "text": [
      "Testing ResNet50: 100%|██████████████████████████████| 17/17 [00:06<00:00,  2.49it/s]\n"
     ]
    },
    {
     "name": "stdout",
     "output_type": "stream",
     "text": [
      "✅ ResNet50 Testing completed in 6.83s\n",
      "\n",
      "📋 ResNet50 Classification Report:\n",
      "              precision    recall  f1-score   support\n",
      "\n",
      "        Four     0.0000    0.0000    0.0000        40\n",
      "     Leg_Bye     0.1429    0.1000    0.1176        40\n",
      "     No_ball     0.3778    0.3269    0.3505       104\n",
      "         Out     0.3333    0.0833    0.1333        48\n",
      "         Six     0.4221    0.5526    0.4786       152\n",
      "        Wide     0.3836    0.4485    0.4136       136\n",
      "\n",
      "    accuracy                         0.3596       520\n",
      "   macro avg     0.2766    0.2519    0.2489       520\n",
      "weighted avg     0.3410    0.3596    0.3395       520\n",
      "\n",
      "🎯 ResNet50 Test Accuracy: 0.3596\n",
      "\n",
      "📊 ResNet50 Model Performance Summary:\n",
      "│ Best Validation Acc:  0.4495 (Epoch 17)\n",
      "│ Final Test Accuracy:  0.3596\n",
      "│ Val-Test Gap:         0.0899\n"
     ]
    },
    {
     "data": {
      "image/png": "[encoded data removed]",
      "text/plain": [
       "<Figure size 800x600 with 2 Axes>"
      ]
     },
     "metadata": {},
     "output_type": "display_data"
    },
    {
     "data": {
      "image/png": "[encoded data removed]",
      "text/plain": [
       "<Figure size 2000x500 with 4 Axes>"
      ]
     },
     "metadata": {},
     "output_type": "display_data"
    },
    {
     "name": "stdout",
     "output_type": "stream",
     "text": [
      "\n",
      "⏰ ResNet50 Final Timing Summary:\n",
      "│ Total Training: 1490.84s\n",
      "│ Average per Epoch: 29.82s\n",
      "│ Testing Time: 6.83s\n",
      "│ Total Runtime: 1497.67s\n",
      "\n",
      "💾 ResNet50 Files saved:\n",
      "│ best_resnet50_model.pth - Best validation accuracy model\n",
      "│ resnet50_training_history.csv - Training metrics for later plotting\n",
      "\n",
      "🏗️  ResNet50 Architecture Summary:\n",
      "│ Total Parameters: 23,520,326\n",
      "│ Trainable Parameters: 23,520,326\n",
      "│ Model Size: 89.72 MB\n",
      "│ Input Size: 224x224x3\n",
      "│ Output Classes: 6\n",
      "│ Architecture: ResNet50\n",
      "│ Block Type: Bottleneck\n",
      "│ Layers: [3, 4, 6, 3]\n",
      "│ Skip Connections: Yes\n",
      "│ Batch Normalization: Yes\n",
      "│ Activation: ReLU\n",
      "│ Zero Init Residual: Yes\n"
     ]
    }
   ],
   "source": [
    "# -----------------------------\n",
    "# 4. Training Loop with Best Model Saving (Val Accuracy) - ResNet50\n",
    "# -----------------------------\n",
    "train_losses, val_losses = [], []\n",
    "train_accs, val_accs = [], []\n",
    "epoch_times = []\n",
    "epochs = 50\n",
    "\n",
    "# Initialize best model tracking\n",
    "best_val_acc = 0.0\n",
    "best_model_state = None\n",
    "best_epoch = 0\n",
    "\n",
    "print(f\"\\n🚀 Starting ResNet50 Training for {epochs} epochs...\")\n",
    "print(\"=\" * 80)\n",
    "\n",
    "total_start_time = time.time()\n",
    "\n",
    "for epoch in range(epochs):\n",
    "    epoch_start_time = time.time()\n",
    "    \n",
    "    print(f\"\\n📈 Epoch {epoch+1}/{epochs}\")\n",
    "    print(\"-\" * 50)\n",
    "    \n",
    "    # Training Phase\n",
    "    print(\"🔄 Training Phase...\")\n",
    "    model.train()\n",
    "    running_loss, correct, total = 0, 0, 0\n",
    "    \n",
    "    train_pbar = tqdm(train_loader, desc=f\"Training\", \n",
    "                     bar_format='{l_bar}{bar:30}{r_bar}{bar:-30b}')\n",
    "    \n",
    "    train_phase_start = time.time()\n",
    "    \n",
    "    for batch_idx, (imgs, labels) in enumerate(train_pbar):\n",
    "        imgs, labels = imgs.to(device), labels.to(device)\n",
    "        \n",
    "        optimizer.zero_grad()\n",
    "        outputs = model(imgs)\n",
    "        loss = criterion(outputs, labels)\n",
    "        loss.backward()\n",
    "        optimizer.step()\n",
    "        \n",
    "        running_loss += loss.item()\n",
    "        _, preds = torch.max(outputs, 1)\n",
    "        correct += (preds == labels).sum().item()\n",
    "        total += labels.size(0)\n",
    "        \n",
    "        current_acc = correct / total\n",
    "        train_pbar.set_postfix({\n",
    "            'Loss': f'{running_loss/(batch_idx+1):.4f}',\n",
    "            'Acc': f'{current_acc:.4f}'\n",
    "        })\n",
    "        \n",
    "        if device.type == 'cuda' and batch_idx % 10 == 0:\n",
    "            gpu_memory = torch.cuda.memory_allocated() / 1024**3\n",
    "            train_pbar.set_postfix({\n",
    "                'Loss': f'{running_loss/(batch_idx+1):.4f}',\n",
    "                'Acc': f'{current_acc:.4f}',\n",
    "                'GPU': f'{gpu_memory:.1f}GB'\n",
    "            })\n",
    "    \n",
    "    train_phase_time = time.time() - train_phase_start\n",
    "    train_loss = running_loss / len(train_loader)\n",
    "    train_acc = correct / total\n",
    "    train_losses.append(train_loss)\n",
    "    train_accs.append(train_acc)\n",
    "    \n",
    "    print(f\"✅ Training completed in {train_phase_time:.2f}s\")\n",
    "    \n",
    "    # Validation Phase\n",
    "    print(\"🔍 Validation Phase...\")\n",
    "    model.eval()\n",
    "    running_loss, correct, total = 0, 0, 0\n",
    "    \n",
    "    val_phase_start = time.time()\n",
    "    val_pbar = tqdm(val_loader, desc=f\"Validation\", \n",
    "                   bar_format='{l_bar}{bar:30}{r_bar}{bar:-30b}')\n",
    "    \n",
    "    with torch.no_grad():\n",
    "        for batch_idx, (imgs, labels) in enumerate(val_pbar):\n",
    "            imgs, labels = imgs.to(device), labels.to(device)\n",
    "            outputs = model(imgs)\n",
    "            loss = criterion(outputs, labels)\n",
    "            \n",
    "            running_loss += loss.item()\n",
    "            _, preds = torch.max(outputs, 1)\n",
    "            correct += (preds == labels).sum().item()\n",
    "            total += labels.size(0)\n",
    "            \n",
    "            current_acc = correct / total\n",
    "            val_pbar.set_postfix({\n",
    "                'Loss': f'{running_loss/(batch_idx+1):.4f}',\n",
    "                'Acc': f'{current_acc:.4f}'\n",
    "            })\n",
    "    \n",
    "    val_phase_time = time.time() - val_phase_start\n",
    "    val_loss = running_loss / len(val_loader)\n",
    "    val_acc = correct / total\n",
    "    val_losses.append(val_loss)\n",
    "    val_accs.append(val_acc)\n",
    "    \n",
    "    print(f\"✅ Validation completed in {val_phase_time:.2f}s\")\n",
    "    \n",
    "    # Check if this is the best model so far based on val_acc\n",
    "    is_best = val_acc > best_val_acc\n",
    "    if is_best:\n",
    "        best_val_acc = val_acc\n",
    "        best_epoch = epoch + 1\n",
    "        best_model_state = model.state_dict().copy()\n",
    "        print(f\"🌟 New best ResNet50 model found! Validation Accuracy: {val_acc:.4f}\")\n",
    "    \n",
    "    # Epoch Summary\n",
    "    epoch_time = time.time() - epoch_start_time\n",
    "    epoch_times.append(epoch_time)\n",
    "    \n",
    "    print(f\"\\n📊 Epoch {epoch+1} Summary:\")\n",
    "    print(f\"│ Train Loss: {train_loss:.4f} | Train Acc: {train_acc:.4f}\")\n",
    "    print(f\"│ Val Loss:   {val_loss:.4f} | Val Acc:   {val_acc:.4f}\")\n",
    "    print(f\"│ Train Time: {train_phase_time:.2f}s | Val Time: {val_phase_time:.2f}s\")\n",
    "    print(f\"│ Total Epoch Time: {epoch_time:.2f}s\")\n",
    "    print(f\"│ Best Val Acc: {best_val_acc:.4f} (Epoch {best_epoch})\")\n",
    "    \n",
    "    if device.type == 'cuda':\n",
    "        print(f\"│ GPU Memory: {torch.cuda.memory_allocated()/1024**3:.1f}GB / {torch.cuda.memory_reserved()/1024**3:.1f}GB\")\n",
    "    \n",
    "    print(\"=\" * 80)\n",
    "\n",
    "total_training_time = time.time() - total_start_time\n",
    "\n",
    "# Save the best model\n",
    "if best_model_state is not None:\n",
    "    torch.save(best_model_state, 'best_resnet50_model.pth')\n",
    "    print(f\"\\n💾 Best ResNet50 model saved as 'best_resnet50_model.pth'\")\n",
    "    print(f\"📊 Best model stats:\")\n",
    "    print(f\"│ Best Epoch: {best_epoch}\")\n",
    "    print(f\"│ Best Val Acc: {best_val_acc:.4f}\")\n",
    "\n",
    "# Save training history data to CSV\n",
    "history_data = {\n",
    "    'epoch': list(range(1, epochs+1)),\n",
    "    'train_loss': train_losses,\n",
    "    'val_loss': val_losses,\n",
    "    'train_acc': train_accs,\n",
    "    'val_acc': val_accs,\n",
    "    'epoch_time': epoch_times\n",
    "}\n",
    "history_df = pd.DataFrame(history_data)\n",
    "history_df.to_csv('resnet50_training_history.csv', index=False)\n",
    "print(\"\\n💾 ResNet50 training history saved to 'resnet50_training_history.csv'\")\n",
    "\n",
    "# Training Summary\n",
    "print(f\"\\n🎉 ResNet50 Training Complete!\")\n",
    "print(f\"Total Training Time: {total_training_time:.2f}s ({total_training_time/60:.1f} minutes)\")\n",
    "print(f\"Average Epoch Time: {np.mean(epoch_times):.2f}s\")\n",
    "print(\"\\n⏱️  Epoch Timing Breakdown:\")\n",
    "for i, t in enumerate(epoch_times):\n",
    "    print(f\"│ Epoch {i+1}: {t:.2f}s\")\n",
    "\n",
    "# -----------------------------\n",
    "# 5. Load Best Model and Test\n",
    "# -----------------------------\n",
    "print(f\"\\n🧪 Loading Best ResNet50 Model for Testing...\")\n",
    "\n",
    "# Load the best model state\n",
    "if best_model_state is not None:\n",
    "    model.load_state_dict(best_model_state)\n",
    "    print(f\"✅ Best ResNet50 model from epoch {best_epoch} loaded successfully!\")\n",
    "else:\n",
    "    print(\"⚠️  No best model found, using current model state\")\n",
    "\n",
    "test_start_time = time.time()\n",
    "y_true, y_pred = [], []\n",
    "model.eval()\n",
    "\n",
    "test_pbar = tqdm(test_loader, desc=\"Testing ResNet50\", \n",
    "                bar_format='{l_bar}{bar:30}{r_bar}{bar:-30b}')\n",
    "\n",
    "with torch.no_grad():\n",
    "    for imgs, labels in test_pbar:\n",
    "        imgs, labels = imgs.to(device), labels.to(device)\n",
    "        outputs = model(imgs)\n",
    "        _, preds = torch.max(outputs, 1)\n",
    "        y_true.extend(labels.cpu().numpy())\n",
    "        y_pred.extend(preds.cpu().numpy())\n",
    "\n",
    "test_time = time.time() - test_start_time\n",
    "test_accuracy = accuracy_score(y_true, y_pred)\n",
    "\n",
    "print(f\"✅ ResNet50 Testing completed in {test_time:.2f}s\")\n",
    "print(\"\\n📋 ResNet50 Classification Report:\")\n",
    "print(classification_report(y_true, y_pred, target_names=classes,digits=4))\n",
    "print(f\"🎯 ResNet50 Test Accuracy: {test_accuracy:.4f}\")\n",
    "\n",
    "# Model Performance Summary\n",
    "print(f\"\\n📊 ResNet50 Model Performance Summary:\")\n",
    "print(f\"│ Best Validation Acc:  {best_val_acc:.4f} (Epoch {best_epoch})\")\n",
    "print(f\"│ Final Test Accuracy:  {test_accuracy:.4f}\")\n",
    "print(f\"│ Val-Test Gap:         {abs(best_val_acc - test_accuracy):.4f}\")\n",
    "\n",
    "# Confusion Matrix\n",
    "cm = confusion_matrix(y_true, y_pred)\n",
    "plt.figure(figsize=(8, 6))\n",
    "sns.heatmap(cm, annot=True, fmt=\"d\", cmap=\"Blues\", xticklabels=classes, yticklabels=classes)\n",
    "plt.xlabel(\"Predicted\")\n",
    "plt.ylabel(\"True\")\n",
    "plt.title(f\"ResNet50 Confusion Matrix - Best Model (Epoch {best_epoch})\")\n",
    "plt.show()\n",
    "\n",
    "# -----------------------------\n",
    "# 6. Enhanced Visualizations\n",
    "# -----------------------------\n",
    "plt.figure(figsize=(20, 5))\n",
    "\n",
    "# Loss Plot\n",
    "plt.subplot(1, 4, 1)\n",
    "plt.plot(range(1, epochs+1), train_losses, 'b-', label=\"Train Loss\", marker='o', linewidth=2)\n",
    "plt.plot(range(1, epochs+1), val_losses, 'r-', label=\"Val Loss\", marker='s', linewidth=2)\n",
    "plt.axvline(x=best_epoch, color='blue', linestyle='--', alpha=0.7, label=f'Best (Epoch {best_epoch})')\n",
    "plt.legend()\n",
    "plt.title(\"ResNet50 Loss over Epochs\")\n",
    "plt.xlabel(\"Epoch\")\n",
    "plt.ylabel(\"Loss\")\n",
    "plt.grid(True, alpha=0.3)\n",
    "\n",
    "# Accuracy Plot\n",
    "plt.subplot(1, 4, 2)\n",
    "plt.plot(range(1, epochs+1), train_accs, 'b-', label=\"Train Accuracy\", marker='o', linewidth=2)\n",
    "plt.plot(range(1, epochs+1), val_accs, 'r-', label=\"Val Accuracy\", marker='s', linewidth=2)\n",
    "plt.axvline(x=best_epoch, color='blue', linestyle='--', alpha=0.7, label=f'Best (Epoch {best_epoch})')\n",
    "plt.scatter([best_epoch], [best_val_acc], color='blue', s=100, zorder=5)\n",
    "plt.legend()\n",
    "plt.title(\"ResNet50 Accuracy over Epochs\")\n",
    "plt.xlabel(\"Epoch\")\n",
    "plt.ylabel(\"Accuracy\")\n",
    "plt.grid(True, alpha=0.3)\n",
    "\n",
    "# Timing Plot\n",
    "plt.subplot(1, 4, 3)\n",
    "bars = plt.bar(range(1, epochs+1), epoch_times, color='lightblue', alpha=0.7)\n",
    "bars[best_epoch-1].set_color('blue')\n",
    "plt.title(\"ResNet50 Training Time per Epoch\")\n",
    "plt.xlabel(\"Epoch\")\n",
    "plt.ylabel(\"Time (seconds)\")\n",
    "plt.grid(True, alpha=0.3)\n",
    "for i, t in enumerate(epoch_times):\n",
    "    plt.text(i+1, t+0.5, f'{t:.1f}s', ha='center', va='bottom')\n",
    "\n",
    "# Performance Comparison\n",
    "plt.subplot(1, 4, 4)\n",
    "metrics = ['Best Val Acc', 'Test Acc']\n",
    "values = [best_val_acc, test_accuracy]\n",
    "colors = ['lightblue', 'blue']\n",
    "bars = plt.bar(metrics, values, color=colors, alpha=0.7)\n",
    "plt.title(\"ResNet50 Final Model Performance\")\n",
    "plt.ylabel(\"Accuracy\")\n",
    "plt.ylim(0, 1)\n",
    "plt.grid(True, alpha=0.3)\n",
    "for bar, val in zip(bars, values):\n",
    "    plt.text(bar.get_x() + bar.get_width()/2, val + 0.01, \n",
    "             f'{val:.4f}', ha='center', va='bottom')\n",
    "\n",
    "plt.tight_layout()\n",
    "plt.show()\n",
    "\n",
    "print(f\"\\n⏰ ResNet50 Final Timing Summary:\")\n",
    "print(f\"│ Total Training: {total_training_time:.2f}s\")\n",
    "print(f\"│ Average per Epoch: {np.mean(epoch_times):.2f}s\")\n",
    "print(f\"│ Testing Time: {test_time:.2f}s\")\n",
    "print(f\"│ Total Runtime: {total_training_time + test_time:.2f}s\")\n",
    "\n",
    "print(f\"\\n💾 ResNet50 Files saved:\")\n",
    "print(f\"│ best_resnet50_model.pth - Best validation accuracy model\")\n",
    "print(f\"│ resnet50_training_history.csv - Training metrics for later plotting\")\n",
    "\n",
    "# -----------------------------\n",
    "# 7. ResNet50 Architecture Summary\n",
    "# -----------------------------\n",
    "print(f\"\\n🏗️  ResNet50 Architecture Summary:\")\n",
    "print(f\"│ Total Parameters: {sum(p.numel() for p in model.parameters()):,}\")\n",
    "print(f\"│ Trainable Parameters: {sum(p.numel() for p in model.parameters() if p.requires_grad):,}\")\n",
    "print(f\"│ Model Size: {sum(p.numel() * p.element_size() for p in model.parameters()) / 1024**2:.2f} MB\")\n",
    "print(f\"│ Input Size: 224x224x3\")\n",
    "print(f\"│ Output Classes: {len(classes)}\")\n",
    "print(f\"│ Architecture: ResNet50\")\n",
    "print(f\"│ Block Type: Bottleneck\")\n",
    "print(f\"│ Layers: [3, 4, 6, 3]\")\n",
    "print(f\"│ Skip Connections: Yes\")\n",
    "print(f\"│ Batch Normalization: Yes\")\n",
    "print(f\"│ Activation: ReLU\")\n",
    "print(f\"│ Zero Init Residual: Yes\")\n"
   ]
  },
  {
   "cell_type": "code",
   "execution_count": 11,
   "id": "ebeacc5f",
   "metadata": {
    "execution": {
     "iopub.execute_input": "2025-09-08T10:26:24.339969Z",
     "iopub.status.busy": "2025-09-08T10:26:24.339655Z",
     "iopub.status.idle": "2025-09-08T10:26:24.411582Z",
     "shell.execute_reply": "2025-09-08T10:26:24.410705Z"
    },
    "papermill": {
     "duration": 0.451595,
     "end_time": "2025-09-08T10:26:24.412998",
     "exception": false,
     "start_time": "2025-09-08T10:26:23.961403",
     "status": "completed"
    },
    "tags": []
   },
   "outputs": [
    {
     "data": {
      "text/html": [
       "<div>\n",
       "<style scoped>\n",
       "    .dataframe tbody tr th:only-of-type {\n",
       "        vertical-align: middle;\n",
       "    }\n",
       "\n",
       "    .dataframe tbody tr th {\n",
       "        vertical-align: top;\n",
       "    }\n",
       "\n",
       "    .dataframe thead th {\n",
       "        text-align: right;\n",
       "    }\n",
       "</style>\n",
       "<table border=\"1\" class=\"dataframe\">\n",
       "  <thead>\n",
       "    <tr style=\"text-align: right;\">\n",
       "      <th></th>\n",
       "      <th>epoch</th>\n",
       "      <th>train_loss</th>\n",
       "      <th>val_loss</th>\n",
       "      <th>train_acc</th>\n",
       "      <th>val_acc</th>\n",
       "      <th>epoch_time</th>\n",
       "    </tr>\n",
       "  </thead>\n",
       "  <tbody>\n",
       "    <tr>\n",
       "      <th>0</th>\n",
       "      <td>1</td>\n",
       "      <td>4.544154</td>\n",
       "      <td>2.559968</td>\n",
       "      <td>0.265625</td>\n",
       "      <td>0.300481</td>\n",
       "      <td>39.797015</td>\n",
       "    </tr>\n",
       "    <tr>\n",
       "      <th>1</th>\n",
       "      <td>2</td>\n",
       "      <td>1.707938</td>\n",
       "      <td>1.780608</td>\n",
       "      <td>0.322266</td>\n",
       "      <td>0.293269</td>\n",
       "      <td>27.508976</td>\n",
       "    </tr>\n",
       "    <tr>\n",
       "      <th>2</th>\n",
       "      <td>3</td>\n",
       "      <td>1.608150</td>\n",
       "      <td>1.671717</td>\n",
       "      <td>0.339844</td>\n",
       "      <td>0.228365</td>\n",
       "      <td>28.270063</td>\n",
       "    </tr>\n",
       "    <tr>\n",
       "      <th>3</th>\n",
       "      <td>4</td>\n",
       "      <td>1.541185</td>\n",
       "      <td>1.642490</td>\n",
       "      <td>0.376302</td>\n",
       "      <td>0.271635</td>\n",
       "      <td>28.491682</td>\n",
       "    </tr>\n",
       "    <tr>\n",
       "      <th>4</th>\n",
       "      <td>5</td>\n",
       "      <td>1.473197</td>\n",
       "      <td>1.817380</td>\n",
       "      <td>0.428385</td>\n",
       "      <td>0.317308</td>\n",
       "      <td>28.484359</td>\n",
       "    </tr>\n",
       "    <tr>\n",
       "      <th>5</th>\n",
       "      <td>6</td>\n",
       "      <td>1.452656</td>\n",
       "      <td>1.882380</td>\n",
       "      <td>0.438802</td>\n",
       "      <td>0.298077</td>\n",
       "      <td>28.413974</td>\n",
       "    </tr>\n",
       "    <tr>\n",
       "      <th>6</th>\n",
       "      <td>7</td>\n",
       "      <td>1.366005</td>\n",
       "      <td>1.762975</td>\n",
       "      <td>0.481120</td>\n",
       "      <td>0.281250</td>\n",
       "      <td>28.757849</td>\n",
       "    </tr>\n",
       "    <tr>\n",
       "      <th>7</th>\n",
       "      <td>8</td>\n",
       "      <td>1.286252</td>\n",
       "      <td>1.559452</td>\n",
       "      <td>0.508464</td>\n",
       "      <td>0.336538</td>\n",
       "      <td>29.043816</td>\n",
       "    </tr>\n",
       "    <tr>\n",
       "      <th>8</th>\n",
       "      <td>9</td>\n",
       "      <td>1.035019</td>\n",
       "      <td>2.057868</td>\n",
       "      <td>0.607422</td>\n",
       "      <td>0.319712</td>\n",
       "      <td>28.607231</td>\n",
       "    </tr>\n",
       "    <tr>\n",
       "      <th>9</th>\n",
       "      <td>10</td>\n",
       "      <td>0.936515</td>\n",
       "      <td>1.762559</td>\n",
       "      <td>0.671224</td>\n",
       "      <td>0.420673</td>\n",
       "      <td>29.076972</td>\n",
       "    </tr>\n",
       "    <tr>\n",
       "      <th>10</th>\n",
       "      <td>11</td>\n",
       "      <td>0.526325</td>\n",
       "      <td>3.843865</td>\n",
       "      <td>0.824219</td>\n",
       "      <td>0.372596</td>\n",
       "      <td>28.976387</td>\n",
       "    </tr>\n",
       "    <tr>\n",
       "      <th>11</th>\n",
       "      <td>12</td>\n",
       "      <td>0.438314</td>\n",
       "      <td>3.153073</td>\n",
       "      <td>0.846354</td>\n",
       "      <td>0.384615</td>\n",
       "      <td>28.932099</td>\n",
       "    </tr>\n",
       "    <tr>\n",
       "      <th>12</th>\n",
       "      <td>13</td>\n",
       "      <td>0.266804</td>\n",
       "      <td>4.307953</td>\n",
       "      <td>0.913411</td>\n",
       "      <td>0.307692</td>\n",
       "      <td>29.148254</td>\n",
       "    </tr>\n",
       "    <tr>\n",
       "      <th>13</th>\n",
       "      <td>14</td>\n",
       "      <td>0.188800</td>\n",
       "      <td>3.512670</td>\n",
       "      <td>0.936198</td>\n",
       "      <td>0.420673</td>\n",
       "      <td>29.484827</td>\n",
       "    </tr>\n",
       "    <tr>\n",
       "      <th>14</th>\n",
       "      <td>15</td>\n",
       "      <td>0.069453</td>\n",
       "      <td>3.713549</td>\n",
       "      <td>0.978516</td>\n",
       "      <td>0.406250</td>\n",
       "      <td>29.191863</td>\n",
       "    </tr>\n",
       "    <tr>\n",
       "      <th>15</th>\n",
       "      <td>16</td>\n",
       "      <td>0.043358</td>\n",
       "      <td>4.557442</td>\n",
       "      <td>0.986328</td>\n",
       "      <td>0.391827</td>\n",
       "      <td>29.555242</td>\n",
       "    </tr>\n",
       "    <tr>\n",
       "      <th>16</th>\n",
       "      <td>17</td>\n",
       "      <td>0.091897</td>\n",
       "      <td>3.757893</td>\n",
       "      <td>0.972656</td>\n",
       "      <td>0.449519</td>\n",
       "      <td>30.031000</td>\n",
       "    </tr>\n",
       "    <tr>\n",
       "      <th>17</th>\n",
       "      <td>18</td>\n",
       "      <td>0.090381</td>\n",
       "      <td>3.076738</td>\n",
       "      <td>0.970052</td>\n",
       "      <td>0.420673</td>\n",
       "      <td>29.844899</td>\n",
       "    </tr>\n",
       "    <tr>\n",
       "      <th>18</th>\n",
       "      <td>19</td>\n",
       "      <td>0.125957</td>\n",
       "      <td>4.469461</td>\n",
       "      <td>0.959635</td>\n",
       "      <td>0.370192</td>\n",
       "      <td>29.661366</td>\n",
       "    </tr>\n",
       "    <tr>\n",
       "      <th>19</th>\n",
       "      <td>20</td>\n",
       "      <td>0.080611</td>\n",
       "      <td>4.324222</td>\n",
       "      <td>0.973307</td>\n",
       "      <td>0.413462</td>\n",
       "      <td>29.510076</td>\n",
       "    </tr>\n",
       "    <tr>\n",
       "      <th>20</th>\n",
       "      <td>21</td>\n",
       "      <td>0.070934</td>\n",
       "      <td>3.962291</td>\n",
       "      <td>0.977214</td>\n",
       "      <td>0.401442</td>\n",
       "      <td>29.252387</td>\n",
       "    </tr>\n",
       "    <tr>\n",
       "      <th>21</th>\n",
       "      <td>22</td>\n",
       "      <td>0.040091</td>\n",
       "      <td>3.991239</td>\n",
       "      <td>0.990885</td>\n",
       "      <td>0.382212</td>\n",
       "      <td>29.440451</td>\n",
       "    </tr>\n",
       "    <tr>\n",
       "      <th>22</th>\n",
       "      <td>23</td>\n",
       "      <td>0.010238</td>\n",
       "      <td>3.903880</td>\n",
       "      <td>0.998047</td>\n",
       "      <td>0.423077</td>\n",
       "      <td>29.583378</td>\n",
       "    </tr>\n",
       "    <tr>\n",
       "      <th>23</th>\n",
       "      <td>24</td>\n",
       "      <td>0.004014</td>\n",
       "      <td>3.977214</td>\n",
       "      <td>0.999349</td>\n",
       "      <td>0.408654</td>\n",
       "      <td>29.455980</td>\n",
       "    </tr>\n",
       "    <tr>\n",
       "      <th>24</th>\n",
       "      <td>25</td>\n",
       "      <td>0.002057</td>\n",
       "      <td>4.022828</td>\n",
       "      <td>1.000000</td>\n",
       "      <td>0.391827</td>\n",
       "      <td>29.378906</td>\n",
       "    </tr>\n",
       "    <tr>\n",
       "      <th>25</th>\n",
       "      <td>26</td>\n",
       "      <td>0.004657</td>\n",
       "      <td>4.323366</td>\n",
       "      <td>0.999349</td>\n",
       "      <td>0.403846</td>\n",
       "      <td>29.427380</td>\n",
       "    </tr>\n",
       "    <tr>\n",
       "      <th>26</th>\n",
       "      <td>27</td>\n",
       "      <td>0.004091</td>\n",
       "      <td>4.005054</td>\n",
       "      <td>0.998698</td>\n",
       "      <td>0.413462</td>\n",
       "      <td>29.427870</td>\n",
       "    </tr>\n",
       "    <tr>\n",
       "      <th>27</th>\n",
       "      <td>28</td>\n",
       "      <td>0.001600</td>\n",
       "      <td>4.096848</td>\n",
       "      <td>1.000000</td>\n",
       "      <td>0.396635</td>\n",
       "      <td>29.756808</td>\n",
       "    </tr>\n",
       "    <tr>\n",
       "      <th>28</th>\n",
       "      <td>29</td>\n",
       "      <td>0.000951</td>\n",
       "      <td>4.016693</td>\n",
       "      <td>1.000000</td>\n",
       "      <td>0.413462</td>\n",
       "      <td>29.643990</td>\n",
       "    </tr>\n",
       "    <tr>\n",
       "      <th>29</th>\n",
       "      <td>30</td>\n",
       "      <td>0.001724</td>\n",
       "      <td>3.966101</td>\n",
       "      <td>0.999349</td>\n",
       "      <td>0.432692</td>\n",
       "      <td>29.631060</td>\n",
       "    </tr>\n",
       "    <tr>\n",
       "      <th>30</th>\n",
       "      <td>31</td>\n",
       "      <td>0.001704</td>\n",
       "      <td>3.825085</td>\n",
       "      <td>0.999349</td>\n",
       "      <td>0.377404</td>\n",
       "      <td>29.882369</td>\n",
       "    </tr>\n",
       "    <tr>\n",
       "      <th>31</th>\n",
       "      <td>32</td>\n",
       "      <td>0.000852</td>\n",
       "      <td>3.915670</td>\n",
       "      <td>1.000000</td>\n",
       "      <td>0.396635</td>\n",
       "      <td>29.653218</td>\n",
       "    </tr>\n",
       "    <tr>\n",
       "      <th>32</th>\n",
       "      <td>33</td>\n",
       "      <td>0.000574</td>\n",
       "      <td>3.912962</td>\n",
       "      <td>1.000000</td>\n",
       "      <td>0.396635</td>\n",
       "      <td>29.731431</td>\n",
       "    </tr>\n",
       "    <tr>\n",
       "      <th>33</th>\n",
       "      <td>34</td>\n",
       "      <td>0.000553</td>\n",
       "      <td>3.955125</td>\n",
       "      <td>1.000000</td>\n",
       "      <td>0.391827</td>\n",
       "      <td>29.829483</td>\n",
       "    </tr>\n",
       "    <tr>\n",
       "      <th>34</th>\n",
       "      <td>35</td>\n",
       "      <td>0.000370</td>\n",
       "      <td>3.988309</td>\n",
       "      <td>1.000000</td>\n",
       "      <td>0.384615</td>\n",
       "      <td>30.173998</td>\n",
       "    </tr>\n",
       "    <tr>\n",
       "      <th>35</th>\n",
       "      <td>36</td>\n",
       "      <td>0.000500</td>\n",
       "      <td>3.838417</td>\n",
       "      <td>1.000000</td>\n",
       "      <td>0.415865</td>\n",
       "      <td>30.314744</td>\n",
       "    </tr>\n",
       "    <tr>\n",
       "      <th>36</th>\n",
       "      <td>37</td>\n",
       "      <td>0.000341</td>\n",
       "      <td>3.880056</td>\n",
       "      <td>1.000000</td>\n",
       "      <td>0.403846</td>\n",
       "      <td>30.273044</td>\n",
       "    </tr>\n",
       "    <tr>\n",
       "      <th>37</th>\n",
       "      <td>38</td>\n",
       "      <td>0.000407</td>\n",
       "      <td>3.804923</td>\n",
       "      <td>1.000000</td>\n",
       "      <td>0.391827</td>\n",
       "      <td>30.234802</td>\n",
       "    </tr>\n",
       "    <tr>\n",
       "      <th>38</th>\n",
       "      <td>39</td>\n",
       "      <td>0.000317</td>\n",
       "      <td>3.739551</td>\n",
       "      <td>1.000000</td>\n",
       "      <td>0.384615</td>\n",
       "      <td>30.023794</td>\n",
       "    </tr>\n",
       "    <tr>\n",
       "      <th>39</th>\n",
       "      <td>40</td>\n",
       "      <td>0.000314</td>\n",
       "      <td>3.871405</td>\n",
       "      <td>1.000000</td>\n",
       "      <td>0.372596</td>\n",
       "      <td>30.576620</td>\n",
       "    </tr>\n",
       "    <tr>\n",
       "      <th>40</th>\n",
       "      <td>41</td>\n",
       "      <td>0.000284</td>\n",
       "      <td>3.692057</td>\n",
       "      <td>1.000000</td>\n",
       "      <td>0.399038</td>\n",
       "      <td>30.285948</td>\n",
       "    </tr>\n",
       "    <tr>\n",
       "      <th>41</th>\n",
       "      <td>42</td>\n",
       "      <td>0.000410</td>\n",
       "      <td>3.764263</td>\n",
       "      <td>1.000000</td>\n",
       "      <td>0.396635</td>\n",
       "      <td>30.805058</td>\n",
       "    </tr>\n",
       "    <tr>\n",
       "      <th>42</th>\n",
       "      <td>43</td>\n",
       "      <td>0.000235</td>\n",
       "      <td>3.749694</td>\n",
       "      <td>1.000000</td>\n",
       "      <td>0.403846</td>\n",
       "      <td>30.682919</td>\n",
       "    </tr>\n",
       "    <tr>\n",
       "      <th>43</th>\n",
       "      <td>44</td>\n",
       "      <td>0.000319</td>\n",
       "      <td>3.708373</td>\n",
       "      <td>1.000000</td>\n",
       "      <td>0.403846</td>\n",
       "      <td>30.788063</td>\n",
       "    </tr>\n",
       "    <tr>\n",
       "      <th>44</th>\n",
       "      <td>45</td>\n",
       "      <td>0.000356</td>\n",
       "      <td>3.675863</td>\n",
       "      <td>1.000000</td>\n",
       "      <td>0.406250</td>\n",
       "      <td>30.764646</td>\n",
       "    </tr>\n",
       "    <tr>\n",
       "      <th>45</th>\n",
       "      <td>46</td>\n",
       "      <td>0.000311</td>\n",
       "      <td>3.676751</td>\n",
       "      <td>1.000000</td>\n",
       "      <td>0.401442</td>\n",
       "      <td>30.688265</td>\n",
       "    </tr>\n",
       "    <tr>\n",
       "      <th>46</th>\n",
       "      <td>47</td>\n",
       "      <td>0.000371</td>\n",
       "      <td>3.712324</td>\n",
       "      <td>1.000000</td>\n",
       "      <td>0.413462</td>\n",
       "      <td>30.483583</td>\n",
       "    </tr>\n",
       "    <tr>\n",
       "      <th>47</th>\n",
       "      <td>48</td>\n",
       "      <td>0.000357</td>\n",
       "      <td>3.636738</td>\n",
       "      <td>1.000000</td>\n",
       "      <td>0.403846</td>\n",
       "      <td>29.715767</td>\n",
       "    </tr>\n",
       "    <tr>\n",
       "      <th>48</th>\n",
       "      <td>49</td>\n",
       "      <td>0.000292</td>\n",
       "      <td>3.641123</td>\n",
       "      <td>1.000000</td>\n",
       "      <td>0.406250</td>\n",
       "      <td>29.875552</td>\n",
       "    </tr>\n",
       "    <tr>\n",
       "      <th>49</th>\n",
       "      <td>50</td>\n",
       "      <td>0.000312</td>\n",
       "      <td>3.651330</td>\n",
       "      <td>1.000000</td>\n",
       "      <td>0.403846</td>\n",
       "      <td>30.246787</td>\n",
       "    </tr>\n",
       "  </tbody>\n",
       "</table>\n",
       "</div>"
      ],
      "text/plain": [
       "    epoch  train_loss  val_loss  train_acc   val_acc  epoch_time\n",
       "0       1    4.544154  2.559968   0.265625  0.300481   39.797015\n",
       "1       2    1.707938  1.780608   0.322266  0.293269   27.508976\n",
       "2       3    1.608150  1.671717   0.339844  0.228365   28.270063\n",
       "3       4    1.541185  1.642490   0.376302  0.271635   28.491682\n",
       "4       5    1.473197  1.817380   0.428385  0.317308   28.484359\n",
       "5       6    1.452656  1.882380   0.438802  0.298077   28.413974\n",
       "6       7    1.366005  1.762975   0.481120  0.281250   28.757849\n",
       "7       8    1.286252  1.559452   0.508464  0.336538   29.043816\n",
       "8       9    1.035019  2.057868   0.607422  0.319712   28.607231\n",
       "9      10    0.936515  1.762559   0.671224  0.420673   29.076972\n",
       "10     11    0.526325  3.843865   0.824219  0.372596   28.976387\n",
       "11     12    0.438314  3.153073   0.846354  0.384615   28.932099\n",
       "12     13    0.266804  4.307953   0.913411  0.307692   29.148254\n",
       "13     14    0.188800  3.512670   0.936198  0.420673   29.484827\n",
       "14     15    0.069453  3.713549   0.978516  0.406250   29.191863\n",
       "15     16    0.043358  4.557442   0.986328  0.391827   29.555242\n",
       "16     17    0.091897  3.757893   0.972656  0.449519   30.031000\n",
       "17     18    0.090381  3.076738   0.970052  0.420673   29.844899\n",
       "18     19    0.125957  4.469461   0.959635  0.370192   29.661366\n",
       "19     20    0.080611  4.324222   0.973307  0.413462   29.510076\n",
       "20     21    0.070934  3.962291   0.977214  0.401442   29.252387\n",
       "21     22    0.040091  3.991239   0.990885  0.382212   29.440451\n",
       "22     23    0.010238  3.903880   0.998047  0.423077   29.583378\n",
       "23     24    0.004014  3.977214   0.999349  0.408654   29.455980\n",
       "24     25    0.002057  4.022828   1.000000  0.391827   29.378906\n",
       "25     26    0.004657  4.323366   0.999349  0.403846   29.427380\n",
       "26     27    0.004091  4.005054   0.998698  0.413462   29.427870\n",
       "27     28    0.001600  4.096848   1.000000  0.396635   29.756808\n",
       "28     29    0.000951  4.016693   1.000000  0.413462   29.643990\n",
       "29     30    0.001724  3.966101   0.999349  0.432692   29.631060\n",
       "30     31    0.001704  3.825085   0.999349  0.377404   29.882369\n",
       "31     32    0.000852  3.915670   1.000000  0.396635   29.653218\n",
       "32     33    0.000574  3.912962   1.000000  0.396635   29.731431\n",
       "33     34    0.000553  3.955125   1.000000  0.391827   29.829483\n",
       "34     35    0.000370  3.988309   1.000000  0.384615   30.173998\n",
       "35     36    0.000500  3.838417   1.000000  0.415865   30.314744\n",
       "36     37    0.000341  3.880056   1.000000  0.403846   30.273044\n",
       "37     38    0.000407  3.804923   1.000000  0.391827   30.234802\n",
       "38     39    0.000317  3.739551   1.000000  0.384615   30.023794\n",
       "39     40    0.000314  3.871405   1.000000  0.372596   30.576620\n",
       "40     41    0.000284  3.692057   1.000000  0.399038   30.285948\n",
       "41     42    0.000410  3.764263   1.000000  0.396635   30.805058\n",
       "42     43    0.000235  3.749694   1.000000  0.403846   30.682919\n",
       "43     44    0.000319  3.708373   1.000000  0.403846   30.788063\n",
       "44     45    0.000356  3.675863   1.000000  0.406250   30.764646\n",
       "45     46    0.000311  3.676751   1.000000  0.401442   30.688265\n",
       "46     47    0.000371  3.712324   1.000000  0.413462   30.483583\n",
       "47     48    0.000357  3.636738   1.000000  0.403846   29.715767\n",
       "48     49    0.000292  3.641123   1.000000  0.406250   29.875552\n",
       "49     50    0.000312  3.651330   1.000000  0.403846   30.246787"
      ]
     },
     "execution_count": 11,
     "metadata": {},
     "output_type": "execute_result"
    }
   ],
   "source": [
    "import pandas as pd\n",
    "df=pd.read_csv(\"/kaggle/working/resnet50_training_history.csv\")\n",
    "df"
   ]
  }
 ],
 "metadata": {
  "kaggle": {
   "accelerator": "nvidiaTeslaT4",
   "dataSources": [
    {
     "datasetId": 7735666,
     "sourceId": 12275446,
     "sourceType": "datasetVersion"
    }
   ],
   "dockerImageVersionId": 31090,
   "isGpuEnabled": true,
   "isInternetEnabled": true,
   "language": "python",
   "sourceType": "notebook"
  },
  "kernelspec": {
   "display_name": "Python 3",
   "language": "python",
   "name": "python3"
  },
  "language_info": {
   "codemirror_mode": {
    "name": "ipython",
    "version": 3
   },
   "file_extension": ".py",
   "mimetype": "text/x-python",
   "name": "python",
   "nbconvert_exporter": "python",
   "pygments_lexer": "ipython3",
   "version": "3.11.13"
  },
  "papermill": {
   "default_parameters": {},
   "duration": 1530.57254,
   "end_time": "2025-09-08T10:26:27.592616",
   "environment_variables": {},
   "exception": null,
   "input_path": "__notebook__.ipynb",
   "output_path": "__notebook__.ipynb",
   "parameters": {},
   "start_time": "2025-09-08T10:00:57.020076",
   "version": "2.6.0"
  }
 },
 "nbformat": 4,
 "nbformat_minor": 5
}
