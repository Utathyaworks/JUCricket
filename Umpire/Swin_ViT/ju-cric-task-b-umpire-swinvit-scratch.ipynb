{
 "cells": [
  {
   "cell_type": "code",
   "execution_count": 1,
   "id": "daac67b1",
   "metadata": {
    "_cell_guid": "b1076dfc-b9ad-4769-8c92-a6c4dae69d19",
    "_uuid": "8f2839f25d086af736a60e9eeb907d3b93b6e0e5",
    "execution": {
     "iopub.execute_input": "2025-09-08T14:42:28.978272Z",
     "iopub.status.busy": "2025-09-08T14:42:28.978004Z",
     "iopub.status.idle": "2025-09-08T14:42:50.050874Z",
     "shell.execute_reply": "2025-09-08T14:42:50.049941Z"
    },
    "papermill": {
     "duration": 21.078933,
     "end_time": "2025-09-08T14:42:50.052187",
     "exception": false,
     "start_time": "2025-09-08T14:42:28.973254",
     "status": "completed"
    },
    "tags": []
   },
   "outputs": [
    {
     "name": "stdout",
     "output_type": "stream",
     "text": [
      "Classes: ['Four', 'Leg_Bye', 'No_ball', 'Out', 'Six', 'Wide']\n"
     ]
    }
   ],
   "source": [
    "import torch\n",
    "import torch.nn as nn\n",
    "import torch.nn.functional as F\n",
    "from torch.utils.data import DataLoader\n",
    "from torchvision import datasets, transforms\n",
    "from torchsummary import summary\n",
    "import matplotlib.pyplot as plt\n",
    "from sklearn.metrics import classification_report, confusion_matrix, accuracy_score\n",
    "import seaborn as sns\n",
    "import numpy as np\n",
    "\n",
    "# -----------------------------\n",
    "# 1. Data Preprocessing\n",
    "# -----------------------------\n",
    "data_dir = \"/kaggle/input/ju-cricket/Cricket_Dataset_final/Task_B\"\n",
    "\n",
    "transform = transforms.Compose([\n",
    "    transforms.Resize((224, 224)),\n",
    "    transforms.ToTensor(),\n",
    "    transforms.Normalize([0.485, 0.456, 0.406], \n",
    "                         [0.229, 0.224, 0.225])\n",
    "])\n",
    "\n",
    "train_ds = datasets.ImageFolder(f\"{data_dir}/train/Umpire\", transform=transform)\n",
    "val_ds   = datasets.ImageFolder(f\"{data_dir}/val/Umpire\", transform=transform)\n",
    "test_ds  = datasets.ImageFolder(f\"{data_dir}/test/Umpire\", transform=transform)\n",
    "\n",
    "train_loader = DataLoader(train_ds, batch_size=32, shuffle=True)\n",
    "val_loader   = DataLoader(val_ds, batch_size=32, shuffle=False)\n",
    "test_loader  = DataLoader(test_ds, batch_size=32, shuffle=False)\n",
    "\n",
    "classes = train_ds.classes\n",
    "print(\"Classes:\", classes)"
   ]
  },
  {
   "cell_type": "code",
   "execution_count": 2,
   "id": "bf334a50",
   "metadata": {
    "execution": {
     "iopub.execute_input": "2025-09-08T14:42:50.059724Z",
     "iopub.status.busy": "2025-09-08T14:42:50.059178Z",
     "iopub.status.idle": "2025-09-08T14:42:50.064022Z",
     "shell.execute_reply": "2025-09-08T14:42:50.063155Z"
    },
    "papermill": {
     "duration": 0.009563,
     "end_time": "2025-09-08T14:42:50.065217",
     "exception": false,
     "start_time": "2025-09-08T14:42:50.055654",
     "status": "completed"
    },
    "tags": []
   },
   "outputs": [
    {
     "name": "stdout",
     "output_type": "stream",
     "text": [
      "Total training images: 1728\n",
      "Total validation images: 468\n",
      "Total test images: 585\n",
      "Total images in dataset: 2781\n"
     ]
    }
   ],
   "source": [
    "print(\"Total training images:\", len(train_ds))\n",
    "print(\"Total validation images:\", len(val_ds))\n",
    "print(\"Total test images:\", len(test_ds))\n",
    "\n",
    "total_images = len(train_ds) + len(val_ds) + len(test_ds)\n",
    "print(\"Total images in dataset:\", total_images)"
   ]
  },
  {
   "cell_type": "code",
   "execution_count": 3,
   "id": "4fdc8f71",
   "metadata": {
    "execution": {
     "iopub.execute_input": "2025-09-08T14:42:50.071792Z",
     "iopub.status.busy": "2025-09-08T14:42:50.071569Z",
     "iopub.status.idle": "2025-09-08T14:42:50.078814Z",
     "shell.execute_reply": "2025-09-08T14:42:50.078103Z"
    },
    "papermill": {
     "duration": 0.011931,
     "end_time": "2025-09-08T14:42:50.080009",
     "exception": false,
     "start_time": "2025-09-08T14:42:50.068078",
     "status": "completed"
    },
    "tags": []
   },
   "outputs": [
    {
     "name": "stdout",
     "output_type": "stream",
     "text": [
      "Training images (excluding 'random_occlusion'): 1536\n",
      "Validation images (excluding 'random_occlusion'): 416\n",
      "Test images (excluding 'random_occlusion'): 520\n",
      "Total images (excluding 'random_occlusion'): 2472\n"
     ]
    }
   ],
   "source": [
    "ignore_folder = \"random_occlusion\"\n",
    "\n",
    "def count_images_ignore_folder(dataset, ignore_folder):\n",
    "    count = 0\n",
    "    for img_path, label in dataset.samples:\n",
    "        # Skip if the image path contains the ignore_folder\n",
    "        if ignore_folder not in img_path.split(\"/\"):\n",
    "            count += 1\n",
    "    return count\n",
    "\n",
    "train_count = count_images_ignore_folder(train_ds, ignore_folder)\n",
    "val_count   = count_images_ignore_folder(val_ds, ignore_folder)\n",
    "test_count  = count_images_ignore_folder(test_ds, ignore_folder)\n",
    "\n",
    "total_count = train_count + val_count + test_count\n",
    "\n",
    "print(\"Training images (excluding '{}'): {}\".format(ignore_folder, train_count))\n",
    "print(\"Validation images (excluding '{}'): {}\".format(ignore_folder, val_count))\n",
    "print(\"Test images (excluding '{}'): {}\".format(ignore_folder, test_count))\n",
    "print(\"Total images (excluding '{}'): {}\".format(ignore_folder, total_count))"
   ]
  },
  {
   "cell_type": "code",
   "execution_count": 4,
   "id": "f076c5c3",
   "metadata": {
    "execution": {
     "iopub.execute_input": "2025-09-08T14:42:50.086867Z",
     "iopub.status.busy": "2025-09-08T14:42:50.086256Z",
     "iopub.status.idle": "2025-09-08T14:42:50.094945Z",
     "shell.execute_reply": "2025-09-08T14:42:50.094137Z"
    },
    "papermill": {
     "duration": 0.013338,
     "end_time": "2025-09-08T14:42:50.096157",
     "exception": false,
     "start_time": "2025-09-08T14:42:50.082819",
     "status": "completed"
    },
    "tags": []
   },
   "outputs": [
    {
     "name": "stdout",
     "output_type": "stream",
     "text": [
      "Training folders considered: {'chromatic_aberration', 'random_occlusion', 'original', 'gaussian_noise', 'dirty_lens', 'motion_blur', 'low_resolution', 'blur', 'lens_flare'}\n",
      "Validation folders considered: {'chromatic_aberration', 'random_occlusion', 'original', 'gaussian_noise', 'dirty_lens', 'motion_blur', 'low_resolution', 'blur', 'lens_flare'}\n",
      "Test folders considered: {'chromatic_aberration', 'random_occlusion', 'original', 'gaussian_noise', 'dirty_lens', 'motion_blur', 'low_resolution', 'blur', 'lens_flare'}\n"
     ]
    }
   ],
   "source": [
    "ignore_folder = \"random_occlusionw\"\n",
    "\n",
    "def get_included_folders(dataset, ignore_folder):\n",
    "    included = set()\n",
    "    for img_path, label in dataset.samples:\n",
    "        # Split the path into parts and ignore if ignore_folder is in the path\n",
    "        if ignore_folder not in img_path.split(\"/\"):\n",
    "            # The folder name just above the image (or the class folder)\n",
    "            folder_name = img_path.split(\"/\")[-2]\n",
    "            included.add(folder_name)\n",
    "    return included\n",
    "\n",
    "train_folders = get_included_folders(train_ds, ignore_folder)\n",
    "val_folders   = get_included_folders(val_ds, ignore_folder)\n",
    "test_folders  = get_included_folders(test_ds, ignore_folder)\n",
    "\n",
    "print(\"Training folders considered:\", train_folders)\n",
    "print(\"Validation folders considered:\", val_folders)\n",
    "print(\"Test folders considered:\", test_folders)"
   ]
  },
  {
   "cell_type": "code",
   "execution_count": 5,
   "id": "f94ecebd",
   "metadata": {
    "execution": {
     "iopub.execute_input": "2025-09-08T14:42:50.103123Z",
     "iopub.status.busy": "2025-09-08T14:42:50.102713Z",
     "iopub.status.idle": "2025-09-08T14:42:50.351383Z",
     "shell.execute_reply": "2025-09-08T14:42:50.350588Z"
    },
    "papermill": {
     "duration": 0.25354,
     "end_time": "2025-09-08T14:42:50.352721",
     "exception": false,
     "start_time": "2025-09-08T14:42:50.099181",
     "status": "completed"
    },
    "tags": []
   },
   "outputs": [
    {
     "name": "stdout",
     "output_type": "stream",
     "text": [
      "Classes: ['Four', 'Leg_Bye', 'No_ball', 'Out', 'Six', 'Wide']\n",
      "Final Training images: 1536\n",
      "Final Validation images: 416\n",
      "Final Test images: 520\n",
      "Total images after filtering: 2472\n"
     ]
    }
   ],
   "source": [
    "ignore_folder = \"random_occlusion\"\n",
    "\n",
    "def filter_samples(dataset, ignore_folder):\n",
    "    # Keep only samples where ignore_folder is NOT in the path\n",
    "    filtered_samples = [s for s in dataset.samples if ignore_folder not in s[0].split(\"/\")]\n",
    "    dataset.samples = filtered_samples\n",
    "    dataset.targets = [s[1] for s in filtered_samples]  # Update targets accordingly\n",
    "    return dataset\n",
    "\n",
    "# Create original datasets\n",
    "train_ds = datasets.ImageFolder(f\"{data_dir}/train/Umpire\", transform=transform)\n",
    "val_ds   = datasets.ImageFolder(f\"{data_dir}/val/Umpire\", transform=transform)\n",
    "test_ds  = datasets.ImageFolder(f\"{data_dir}/test/Umpire\", transform=transform)\n",
    "\n",
    "# Filter out 'random_occlusion' folder\n",
    "train_ds = filter_samples(train_ds, ignore_folder)\n",
    "val_ds   = filter_samples(val_ds, ignore_folder)\n",
    "test_ds  = filter_samples(test_ds, ignore_folder)\n",
    "\n",
    "# DataLoaders\n",
    "train_loader = DataLoader(train_ds, batch_size=32, shuffle=True)\n",
    "val_loader   = DataLoader(val_ds, batch_size=32, shuffle=False)\n",
    "test_loader  = DataLoader(test_ds, batch_size=32, shuffle=False)\n",
    "\n",
    "# Classes (will remain the same)\n",
    "classes = train_ds.classes\n",
    "print(\"Classes:\", classes)\n",
    "\n",
    "# Show counts\n",
    "print(\"Final Training images:\", len(train_ds))\n",
    "print(\"Final Validation images:\", len(val_ds))\n",
    "print(\"Final Test images:\", len(test_ds))\n",
    "print(\"Total images after filtering:\", len(train_ds) + len(val_ds) + len(test_ds))"
   ]
  },
  {
   "cell_type": "code",
   "execution_count": 6,
   "id": "cbb6eb04",
   "metadata": {
    "execution": {
     "iopub.execute_input": "2025-09-08T14:42:50.359810Z",
     "iopub.status.busy": "2025-09-08T14:42:50.359555Z",
     "iopub.status.idle": "2025-09-08T14:42:50.367362Z",
     "shell.execute_reply": "2025-09-08T14:42:50.366747Z"
    },
    "papermill": {
     "duration": 0.012689,
     "end_time": "2025-09-08T14:42:50.368620",
     "exception": false,
     "start_time": "2025-09-08T14:42:50.355931",
     "status": "completed"
    },
    "tags": []
   },
   "outputs": [
    {
     "name": "stdout",
     "output_type": "stream",
     "text": [
      "Training folders considered: {'chromatic_aberration', 'original', 'gaussian_noise', 'dirty_lens', 'motion_blur', 'low_resolution', 'blur', 'lens_flare'}\n",
      "Validation folders considered: {'chromatic_aberration', 'original', 'gaussian_noise', 'dirty_lens', 'motion_blur', 'low_resolution', 'blur', 'lens_flare'}\n",
      "Test folders considered: {'chromatic_aberration', 'original', 'gaussian_noise', 'dirty_lens', 'motion_blur', 'low_resolution', 'blur', 'lens_flare'}\n"
     ]
    }
   ],
   "source": [
    "ignore_folder = \"random_occlusion\"\n",
    "\n",
    "def get_included_folders(dataset, ignore_folder):\n",
    "    included = set()\n",
    "    for img_path, label in dataset.samples:\n",
    "        # Split the path into parts and ignore if ignore_folder is in the path\n",
    "        if ignore_folder not in img_path.split(\"/\"):\n",
    "            # The folder name just above the image (or the class folder)\n",
    "            folder_name = img_path.split(\"/\")[-2]\n",
    "            included.add(folder_name)\n",
    "    return included\n",
    "\n",
    "train_folders = get_included_folders(train_ds, ignore_folder)\n",
    "val_folders   = get_included_folders(val_ds, ignore_folder)\n",
    "test_folders  = get_included_folders(test_ds, ignore_folder)\n",
    "\n",
    "print(\"Training folders considered:\", train_folders)\n",
    "print(\"Validation folders considered:\", val_folders)\n",
    "print(\"Test folders considered:\", test_folders)"
   ]
  },
  {
   "cell_type": "code",
   "execution_count": 7,
   "id": "b385c8ea",
   "metadata": {
    "execution": {
     "iopub.execute_input": "2025-09-08T14:42:50.375951Z",
     "iopub.status.busy": "2025-09-08T14:42:50.375736Z",
     "iopub.status.idle": "2025-09-08T14:42:50.421187Z",
     "shell.execute_reply": "2025-09-08T14:42:50.420308Z"
    },
    "papermill": {
     "duration": 0.050777,
     "end_time": "2025-09-08T14:42:50.422486",
     "exception": false,
     "start_time": "2025-09-08T14:42:50.371709",
     "status": "completed"
    },
    "tags": []
   },
   "outputs": [],
   "source": [
    "# -----------------------------\n",
    "# 2. Define Swin Transformer Model from Scratch\n",
    "# -----------------------------\n",
    "import torch\n",
    "import torch.nn as nn\n",
    "import torch.nn.functional as F\n",
    "import numpy as np\n",
    "import matplotlib.pyplot as plt\n",
    "import seaborn as sns\n",
    "from torchsummary import summary\n",
    "from sklearn.metrics import accuracy_score, classification_report, confusion_matrix\n",
    "import pandas as pd\n",
    "from tqdm import tqdm\n",
    "import time\n",
    "import math\n",
    "from typing import Optional\n",
    "\n",
    "def window_partition(x, window_size):\n",
    "    \"\"\"\n",
    "    Partition into non-overlapping windows\n",
    "    Args:\n",
    "        x: (B, H, W, C)\n",
    "        window_size (int): window size\n",
    "    Returns:\n",
    "        windows: (num_windows*B, window_size, window_size, C)\n",
    "    \"\"\"\n",
    "    B, H, W, C = x.shape\n",
    "    x = x.view(B, H // window_size, window_size, W // window_size, window_size, C)\n",
    "    windows = x.permute(0, 1, 3, 2, 4, 5).contiguous().view(-1, window_size, window_size, C)\n",
    "    return windows\n",
    "\n",
    "def window_reverse(windows, window_size, H, W):\n",
    "    \"\"\"\n",
    "    Reverse window partition\n",
    "    Args:\n",
    "        windows: (num_windows*B, window_size, window_size, C)\n",
    "        window_size (int): Window size\n",
    "        H (int): Height of image\n",
    "        W (int): Width of image\n",
    "    Returns:\n",
    "        x: (B, H, W, C)\n",
    "    \"\"\"\n",
    "    B = int(windows.shape[0] / (H * W / window_size / window_size))\n",
    "    x = windows.view(B, H // window_size, W // window_size, window_size, window_size, -1)\n",
    "    x = x.permute(0, 1, 3, 2, 4, 5).contiguous().view(B, H, W, -1)\n",
    "    return x\n",
    "\n",
    "class PatchEmbedding(nn.Module):\n",
    "    \"\"\"Image to Patch Embedding\"\"\"\n",
    "    def __init__(self, patch_size=4, in_chans=3, embed_dim=96, norm_layer=None):\n",
    "        super().__init__()\n",
    "        self.patch_size = patch_size\n",
    "        self.in_chans = in_chans\n",
    "        self.embed_dim = embed_dim\n",
    "        \n",
    "        self.proj = nn.Conv2d(in_chans, embed_dim, kernel_size=patch_size, stride=patch_size)\n",
    "        self.norm = norm_layer(embed_dim) if norm_layer else None\n",
    "        \n",
    "    def forward(self, x):\n",
    "        \"\"\"Forward function.\"\"\"\n",
    "        # padding\n",
    "        _, _, H, W = x.size()\n",
    "        if W % self.patch_size != 0:\n",
    "            x = F.pad(x, (0, self.patch_size - W % self.patch_size))\n",
    "        if H % self.patch_size != 0:\n",
    "            x = F.pad(x, (0, 0, 0, self.patch_size - H % self.patch_size))\n",
    "            \n",
    "        x = self.proj(x)  # B C Wh Ww\n",
    "        if self.norm is not None:\n",
    "            Wh, Ww = x.size(2), x.size(3)\n",
    "            x = x.flatten(2).transpose(1, 2)\n",
    "            x = self.norm(x)\n",
    "            x = x.transpose(1, 2).view(-1, self.embed_dim, Wh, Ww)\n",
    "        return x\n",
    "\n",
    "class PatchMerging(nn.Module):\n",
    "    \"\"\"Patch Merging Layer\"\"\"\n",
    "    def __init__(self, input_resolution, dim, norm_layer=nn.LayerNorm):\n",
    "        super().__init__()\n",
    "        self.input_resolution = input_resolution\n",
    "        self.dim = dim\n",
    "        self.reduction = nn.Linear(4 * dim, 2 * dim, bias=False)\n",
    "        self.norm = norm_layer(4 * dim)\n",
    "    \n",
    "    def forward(self, x):\n",
    "        \"\"\"\n",
    "        x: B, H*W, C\n",
    "        \"\"\"\n",
    "        H, W = self.input_resolution\n",
    "        B, L, C = x.shape\n",
    "        assert L == H * W, \"input feature has wrong size\"\n",
    "        assert H % 2 == 0 and W % 2 == 0, f\"x size ({H}*{W}) are not even.\"\n",
    "        \n",
    "        x = x.view(B, H, W, C)\n",
    "        \n",
    "        x0 = x[:, 0::2, 0::2, :]  # B H/2 W/2 C\n",
    "        x1 = x[:, 1::2, 0::2, :]  # B H/2 W/2 C\n",
    "        x2 = x[:, 0::2, 1::2, :]  # B H/2 W/2 C\n",
    "        x3 = x[:, 1::2, 1::2, :]  # B H/2 W/2 C\n",
    "        x = torch.cat([x0, x1, x2, x3], -1)  # B H/2 W/2 4*C\n",
    "        x = x.view(B, -1, 4 * C)  # B H/2*W/2 4*C\n",
    "        \n",
    "        x = self.norm(x)\n",
    "        x = self.reduction(x)\n",
    "        \n",
    "        return x\n",
    "\n",
    "class WindowAttention(nn.Module):\n",
    "    \"\"\"Window based multi-head self attention (W-MSA) module with relative position bias\"\"\"\n",
    "    def __init__(self, dim, window_size, num_heads, qkv_bias=True, attn_drop=0., proj_drop=0.):\n",
    "        super().__init__()\n",
    "        self.dim = dim\n",
    "        self.window_size = window_size  # Wh, Ww\n",
    "        self.num_heads = num_heads\n",
    "        head_dim = dim // num_heads\n",
    "        self.scale = head_dim ** -0.5\n",
    "        \n",
    "        # define a parameter table of relative position bias\n",
    "        self.relative_position_bias_table = nn.Parameter(\n",
    "            torch.zeros((2 * window_size[0] - 1) * (2 * window_size[1] - 1), num_heads))  # 2*Wh-1 * 2*Ww-1, nH\n",
    "        \n",
    "        # get pair-wise relative position index for each token inside the window\n",
    "        coords_h = torch.arange(self.window_size[0])\n",
    "        coords_w = torch.arange(self.window_size[1])\n",
    "        coords = torch.stack(torch.meshgrid([coords_h, coords_w], indexing='ij'))  # 2, Wh, Ww\n",
    "        coords_flatten = torch.flatten(coords, 1)  # 2, Wh*Ww\n",
    "        relative_coords = coords_flatten[:, :, None] - coords_flatten[:, None, :]  # 2, Wh*Ww, Wh*Ww\n",
    "        relative_coords = relative_coords.permute(1, 2, 0).contiguous()  # Wh*Ww, Wh*Ww, 2\n",
    "        relative_coords[:, :, 0] += self.window_size[0] - 1  # shift to start from 0\n",
    "        relative_coords[:, :, 1] += self.window_size[1] - 1\n",
    "        relative_coords[:, :, 0] *= 2 * self.window_size[1] - 1\n",
    "        relative_position_index = relative_coords.sum(-1)  # Wh*Ww, Wh*Ww\n",
    "        self.register_buffer(\"relative_position_index\", relative_position_index)\n",
    "        \n",
    "        self.qkv = nn.Linear(dim, dim * 3, bias=qkv_bias)\n",
    "        self.attn_drop = nn.Dropout(attn_drop)\n",
    "        self.proj = nn.Linear(dim, dim)\n",
    "        self.proj_drop = nn.Dropout(proj_drop)\n",
    "        \n",
    "        nn.init.trunc_normal_(self.relative_position_bias_table, std=.02)\n",
    "        self.softmax = nn.Softmax(dim=-1)\n",
    "    \n",
    "    def forward(self, x, mask: Optional[torch.Tensor] = None):\n",
    "        \"\"\"\n",
    "        Args:\n",
    "            x: input features with shape of (num_windows*B, N, C)\n",
    "            mask: (0/-inf) mask with shape of (num_windows, Wh*Ww, Wh*Ww) or None\n",
    "        \"\"\"\n",
    "        B_, N, C = x.shape\n",
    "        qkv = self.qkv(x).reshape(B_, N, 3, self.num_heads, C // self.num_heads).permute(2, 0, 3, 1, 4)\n",
    "        q, k, v = qkv[0], qkv[1], qkv[2]  # make torchscript happy (cannot use tensor as tuple)\n",
    "        \n",
    "        q = q * self.scale\n",
    "        attn = (q @ k.transpose(-2, -1))\n",
    "        \n",
    "        relative_position_bias = self.relative_position_bias_table[self.relative_position_index.view(-1)].view(\n",
    "            self.window_size[0] * self.window_size[1], self.window_size[0] * self.window_size[1], -1)  # Wh*Ww,Wh*Ww,nH\n",
    "        relative_position_bias = relative_position_bias.permute(2, 0, 1).contiguous()  # nH, Wh*Ww, Wh*Ww\n",
    "        attn = attn + relative_position_bias.unsqueeze(0)\n",
    "        \n",
    "        if mask is not None:\n",
    "            nW = mask.shape[0]\n",
    "            attn = attn.view(B_ // nW, nW, self.num_heads, N, N) + mask.unsqueeze(1).unsqueeze(0)\n",
    "            attn = attn.view(-1, self.num_heads, N, N)\n",
    "            attn = self.softmax(attn)\n",
    "        else:\n",
    "            attn = self.softmax(attn)\n",
    "            \n",
    "        attn = self.attn_drop(attn)\n",
    "        \n",
    "        x = (attn @ v).transpose(1, 2).reshape(B_, N, C)\n",
    "        x = self.proj(x)\n",
    "        x = self.proj_drop(x)\n",
    "        return x\n",
    "\n",
    "class SwinTransformerBlock(nn.Module):\n",
    "    \"\"\"Swin Transformer Block\"\"\"\n",
    "    def __init__(self, dim, input_resolution, num_heads, window_size=7, shift_size=0,\n",
    "                 mlp_ratio=4., qkv_bias=True, drop=0., attn_drop=0., drop_path=0.,\n",
    "                 act_layer=nn.GELU, norm_layer=nn.LayerNorm):\n",
    "        super().__init__()\n",
    "        self.dim = dim\n",
    "        self.input_resolution = input_resolution\n",
    "        self.num_heads = num_heads\n",
    "        self.window_size = window_size\n",
    "        self.shift_size = shift_size\n",
    "        self.mlp_ratio = mlp_ratio\n",
    "        if min(self.input_resolution) <= self.window_size:\n",
    "            # if window size is larger than input resolution, we don't partition windows\n",
    "            self.shift_size = 0\n",
    "            self.window_size = min(self.input_resolution)\n",
    "        assert 0 <= self.shift_size < self.window_size, \"shift_size must in 0-window_size\"\n",
    "        \n",
    "        self.norm1 = norm_layer(dim)\n",
    "        self.attn = WindowAttention(\n",
    "            dim, window_size=(self.window_size, self.window_size), num_heads=num_heads,\n",
    "            qkv_bias=qkv_bias, attn_drop=attn_drop, proj_drop=drop)\n",
    "        \n",
    "        self.drop_path = DropPath(drop_path) if drop_path > 0. else nn.Identity()\n",
    "        self.norm2 = norm_layer(dim)\n",
    "        mlp_hidden_dim = int(dim * mlp_ratio)\n",
    "        self.mlp = Mlp(in_features=dim, hidden_features=mlp_hidden_dim, act_layer=act_layer, drop=drop)\n",
    "        \n",
    "        if self.shift_size > 0:\n",
    "            # calculate attention mask for SW-MSA\n",
    "            H, W = self.input_resolution\n",
    "            img_mask = torch.zeros((1, H, W, 1))  # 1 H W 1\n",
    "            h_slices = (slice(0, -self.window_size),\n",
    "                        slice(-self.window_size, -self.shift_size),\n",
    "                        slice(-self.shift_size, None))\n",
    "            w_slices = (slice(0, -self.window_size),\n",
    "                        slice(-self.window_size, -self.shift_size),\n",
    "                        slice(-self.shift_size, None))\n",
    "            cnt = 0\n",
    "            for h in h_slices:\n",
    "                for w in w_slices:\n",
    "                    img_mask[:, h, w, :] = cnt\n",
    "                    cnt += 1\n",
    "                    \n",
    "            mask_windows = window_partition(img_mask, self.window_size)  # nW, window_size, window_size, 1\n",
    "            mask_windows = mask_windows.view(-1, self.window_size * self.window_size)\n",
    "            attn_mask = mask_windows.unsqueeze(1) - mask_windows.unsqueeze(2)\n",
    "            attn_mask = attn_mask.masked_fill(attn_mask != 0, float(-100.0)).masked_fill(attn_mask == 0, float(0.0))\n",
    "        else:\n",
    "            attn_mask = None\n",
    "            \n",
    "        self.register_buffer(\"attn_mask\", attn_mask)\n",
    "    \n",
    "    def forward(self, x):\n",
    "        H, W = self.input_resolution\n",
    "        B, L, C = x.shape\n",
    "        assert L == H * W, \"input feature has wrong size\"\n",
    "        \n",
    "        shortcut = x\n",
    "        x = self.norm1(x)\n",
    "        x = x.view(B, H, W, C)\n",
    "        \n",
    "        # cyclic shift\n",
    "        if self.shift_size > 0:\n",
    "            shifted_x = torch.roll(x, shifts=(-self.shift_size, -self.shift_size), dims=(1, 2))\n",
    "        else:\n",
    "            shifted_x = x\n",
    "            \n",
    "        # partition windows\n",
    "        x_windows = window_partition(shifted_x, self.window_size)  # nW*B, window_size, window_size, C\n",
    "        x_windows = x_windows.view(-1, self.window_size * self.window_size, C)  # nW*B, window_size*window_size, C\n",
    "        \n",
    "        # W-MSA/SW-MSA\n",
    "        attn_windows = self.attn(x_windows, mask=self.attn_mask)  # nW*B, window_size*window_size, C\n",
    "        \n",
    "        # merge windows\n",
    "        attn_windows = attn_windows.view(-1, self.window_size, self.window_size, C)\n",
    "        shifted_x = window_reverse(attn_windows, self.window_size, H, W)  # B H' W' C\n",
    "        \n",
    "        # reverse cyclic shift\n",
    "        if self.shift_size > 0:\n",
    "            x = torch.roll(shifted_x, shifts=(self.shift_size, self.shift_size), dims=(1, 2))\n",
    "        else:\n",
    "            x = shifted_x\n",
    "        x = x.view(B, H * W, C)\n",
    "        \n",
    "        # FFN\n",
    "        x = shortcut + self.drop_path(x)\n",
    "        x = x + self.drop_path(self.mlp(self.norm2(x)))\n",
    "        \n",
    "        return x\n",
    "\n",
    "class DropPath(nn.Module):\n",
    "    \"\"\"Drop paths (Stochastic Depth) per sample  (when applied in main path of residual blocks).\"\"\"\n",
    "    def __init__(self, drop_prob=None):\n",
    "        super(DropPath, self).__init__()\n",
    "        self.drop_prob = drop_prob\n",
    "\n",
    "    def forward(self, x):\n",
    "        if self.drop_prob == 0. or not self.training:\n",
    "            return x\n",
    "        keep_prob = 1 - self.drop_prob\n",
    "        shape = (x.shape[0],) + (1,) * (x.ndim - 1)  # work with diff dim tensors, not just 2D ConvNets\n",
    "        random_tensor = keep_prob + torch.rand(shape, dtype=x.dtype, device=x.device)\n",
    "        random_tensor.floor_()  # binarize\n",
    "        output = x.div(keep_prob) * random_tensor\n",
    "        return output\n",
    "\n",
    "class Mlp(nn.Module):\n",
    "    \"\"\"Multi-Layer Perceptron\"\"\"\n",
    "    def __init__(self, in_features, hidden_features=None, out_features=None, act_layer=nn.GELU, drop=0.):\n",
    "        super().__init__()\n",
    "        out_features = out_features or in_features\n",
    "        hidden_features = hidden_features or in_features\n",
    "        self.fc1 = nn.Linear(in_features, hidden_features)\n",
    "        self.act = act_layer()\n",
    "        self.fc2 = nn.Linear(hidden_features, out_features)\n",
    "        self.drop = nn.Dropout(drop)\n",
    "\n",
    "    def forward(self, x):\n",
    "        x = self.fc1(x)\n",
    "        x = self.act(x)\n",
    "        x = self.drop(x)\n",
    "        x = self.fc2(x)\n",
    "        x = self.drop(x)\n",
    "        return x\n",
    "\n",
    "class BasicLayer(nn.Module):\n",
    "    \"\"\"A basic Swin Transformer layer for one stage\"\"\"\n",
    "    def __init__(self, dim, input_resolution, depth, num_heads, window_size,\n",
    "                 mlp_ratio=4., qkv_bias=True, drop=0., attn_drop=0.,\n",
    "                 drop_path=0., norm_layer=nn.LayerNorm, downsample=None, use_checkpoint=False):\n",
    "        super().__init__()\n",
    "        self.dim = dim\n",
    "        self.input_resolution = input_resolution\n",
    "        self.depth = depth\n",
    "        self.use_checkpoint = use_checkpoint\n",
    "        \n",
    "        # build blocks\n",
    "        self.blocks = nn.ModuleList([\n",
    "            SwinTransformerBlock(\n",
    "                dim=dim, input_resolution=input_resolution,\n",
    "                num_heads=num_heads, window_size=window_size,\n",
    "                shift_size=0 if (i % 2 == 0) else window_size // 2,\n",
    "                mlp_ratio=mlp_ratio,\n",
    "                qkv_bias=qkv_bias,\n",
    "                drop=drop, attn_drop=attn_drop,\n",
    "                drop_path=drop_path[i] if isinstance(drop_path, list) else drop_path,\n",
    "                norm_layer=norm_layer)\n",
    "            for i in range(depth)])\n",
    "        \n",
    "        # patch merging layer\n",
    "        if downsample is not None:\n",
    "            self.downsample = downsample(input_resolution, dim=dim, norm_layer=norm_layer)\n",
    "        else:\n",
    "            self.downsample = None\n",
    "            \n",
    "    def forward(self, x):\n",
    "        for blk in self.blocks:\n",
    "            x = blk(x)\n",
    "        if self.downsample is not None:\n",
    "            x = self.downsample(x)\n",
    "        return x\n",
    "\n",
    "class MySwinTransformer(nn.Module):\n",
    "    \"\"\"Swin Transformer Implementation from Scratch\"\"\"\n",
    "    def __init__(self, img_size=224, patch_size=4, in_chans=3, num_classes=4,\n",
    "                 embed_dim=96, depths=[2, 2, 6, 2], num_heads=[3, 6, 12, 24],\n",
    "                 window_size=7, mlp_ratio=4., qkv_bias=True,\n",
    "                 drop_rate=0., attn_drop_rate=0., drop_path_rate=0.1,\n",
    "                 norm_layer=nn.LayerNorm, ape=False, patch_norm=True, use_checkpoint=False):\n",
    "        super().__init__()\n",
    "        \n",
    "        self.num_classes = num_classes\n",
    "        self.num_layers = len(depths)\n",
    "        self.embed_dim = embed_dim\n",
    "        self.ape = ape\n",
    "        self.patch_norm = patch_norm\n",
    "        self.num_features = int(embed_dim * 2 ** (self.num_layers - 1))\n",
    "        self.mlp_ratio = mlp_ratio\n",
    "        \n",
    "        # split image into non-overlapping patches\n",
    "        self.patch_embed = PatchEmbedding(\n",
    "            patch_size=patch_size, in_chans=in_chans, embed_dim=embed_dim,\n",
    "            norm_layer=norm_layer if self.patch_norm else None)\n",
    "        num_patches = self.patch_embed.num_patches = (img_size // patch_size) ** 2\n",
    "        patches_resolution = self.patch_embed.patches_resolution = [img_size // patch_size, img_size // patch_size]\n",
    "        self.patches_resolution = patches_resolution\n",
    "        \n",
    "        # absolute position embedding\n",
    "        if self.ape:\n",
    "            self.absolute_pos_embed = nn.Parameter(torch.zeros(1, num_patches, embed_dim))\n",
    "            nn.init.trunc_normal_(self.absolute_pos_embed, std=.02)\n",
    "            \n",
    "        self.pos_drop = nn.Dropout(p=drop_rate)\n",
    "        \n",
    "        # stochastic depth\n",
    "        dpr = [x.item() for x in torch.linspace(0, drop_path_rate, sum(depths))]  # stochastic depth decay rule\n",
    "        \n",
    "        # build layers\n",
    "        self.layers = nn.ModuleList()\n",
    "        for i_layer in range(self.num_layers):\n",
    "            layer = BasicLayer(\n",
    "                dim=int(embed_dim * 2 ** i_layer),\n",
    "                input_resolution=(patches_resolution[0] // (2 ** i_layer),\n",
    "                                  patches_resolution[1] // (2 ** i_layer)),\n",
    "                depth=depths[i_layer],\n",
    "                num_heads=num_heads[i_layer],\n",
    "                window_size=window_size,\n",
    "                mlp_ratio=self.mlp_ratio,\n",
    "                qkv_bias=qkv_bias,\n",
    "                drop=drop_rate,\n",
    "                attn_drop=attn_drop_rate,\n",
    "                drop_path=dpr[sum(depths[:i_layer]):sum(depths[:i_layer + 1])],\n",
    "                norm_layer=norm_layer,\n",
    "                downsample=PatchMerging if (i_layer < self.num_layers - 1) else None,\n",
    "                use_checkpoint=use_checkpoint)\n",
    "            self.layers.append(layer)\n",
    "            \n",
    "        self.norm = norm_layer(self.num_features)\n",
    "        self.avgpool = nn.AdaptiveAvgPool1d(1)\n",
    "        self.head = nn.Linear(self.num_features, num_classes) if num_classes > 0 else nn.Identity()\n",
    "        \n",
    "        self.apply(self._init_weights)\n",
    "    \n",
    "    def _init_weights(self, m):\n",
    "        if isinstance(m, nn.Linear):\n",
    "            nn.init.trunc_normal_(m.weight, std=.02)\n",
    "            if isinstance(m, nn.Linear) and m.bias is not None:\n",
    "                nn.init.constant_(m.bias, 0)\n",
    "        elif isinstance(m, nn.LayerNorm):\n",
    "            nn.init.constant_(m.bias, 0)\n",
    "            nn.init.constant_(m.weight, 1.0)\n",
    "            \n",
    "    def forward(self, x):\n",
    "        x = self.patch_embed(x)\n",
    "        if self.ape:\n",
    "            x = x + self.absolute_pos_embed\n",
    "        x = self.pos_drop(x)\n",
    "        \n",
    "        # Flatten for transformer blocks\n",
    "        x = x.flatten(2).transpose(1, 2)  # B Ph*Pw C\n",
    "        \n",
    "        for layer in self.layers:\n",
    "            x = layer(x)\n",
    "            \n",
    "        x = self.norm(x)  # B L C\n",
    "        x = self.avgpool(x.transpose(1, 2))  # B C 1\n",
    "        x = torch.flatten(x, 1)\n",
    "        x = self.head(x)\n",
    "        return x"
   ]
  },
  {
   "cell_type": "code",
   "execution_count": 8,
   "id": "5827e7a3",
   "metadata": {
    "execution": {
     "iopub.execute_input": "2025-09-08T14:42:50.430079Z",
     "iopub.status.busy": "2025-09-08T14:42:50.429863Z",
     "iopub.status.idle": "2025-09-08T14:42:53.026342Z",
     "shell.execute_reply": "2025-09-08T14:42:53.025566Z"
    },
    "papermill": {
     "duration": 2.6022,
     "end_time": "2025-09-08T14:42:53.028289",
     "exception": false,
     "start_time": "2025-09-08T14:42:50.426089",
     "status": "completed"
    },
    "tags": []
   },
   "outputs": [
    {
     "name": "stdout",
     "output_type": "stream",
     "text": [
      "Swin Transformer Model Summary:\n",
      "----------------------------------------------------------------\n",
      "        Layer (type)               Output Shape         Param #\n",
      "================================================================\n",
      "            Conv2d-1           [-1, 96, 56, 56]           4,704\n",
      "         LayerNorm-2             [-1, 3136, 96]             192\n",
      "    PatchEmbedding-3           [-1, 96, 56, 56]               0\n",
      "           Dropout-4           [-1, 96, 56, 56]               0\n",
      "         LayerNorm-5             [-1, 3136, 96]             192\n",
      "            Linear-6              [-1, 49, 288]          27,936\n",
      "           Softmax-7            [-1, 3, 49, 49]               0\n",
      "           Dropout-8            [-1, 3, 49, 49]               0\n",
      "            Linear-9               [-1, 49, 96]           9,312\n",
      "          Dropout-10               [-1, 49, 96]               0\n",
      "  WindowAttention-11               [-1, 49, 96]               0\n",
      "         Identity-12             [-1, 3136, 96]               0\n",
      "        LayerNorm-13             [-1, 3136, 96]             192\n",
      "           Linear-14            [-1, 3136, 384]          37,248\n",
      "             GELU-15            [-1, 3136, 384]               0\n",
      "          Dropout-16            [-1, 3136, 384]               0\n",
      "           Linear-17             [-1, 3136, 96]          36,960\n",
      "          Dropout-18             [-1, 3136, 96]               0\n",
      "              Mlp-19             [-1, 3136, 96]               0\n",
      "         Identity-20             [-1, 3136, 96]               0\n",
      "SwinTransformerBlock-21             [-1, 3136, 96]               0\n",
      "        LayerNorm-22             [-1, 3136, 96]             192\n",
      "           Linear-23              [-1, 49, 288]          27,936\n",
      "          Softmax-24            [-1, 3, 49, 49]               0\n",
      "          Dropout-25            [-1, 3, 49, 49]               0\n",
      "           Linear-26               [-1, 49, 96]           9,312\n",
      "          Dropout-27               [-1, 49, 96]               0\n",
      "  WindowAttention-28               [-1, 49, 96]               0\n",
      "         DropPath-29             [-1, 3136, 96]               0\n",
      "        LayerNorm-30             [-1, 3136, 96]             192\n",
      "           Linear-31            [-1, 3136, 384]          37,248\n",
      "             GELU-32            [-1, 3136, 384]               0\n",
      "          Dropout-33            [-1, 3136, 384]               0\n",
      "           Linear-34             [-1, 3136, 96]          36,960\n",
      "          Dropout-35             [-1, 3136, 96]               0\n",
      "              Mlp-36             [-1, 3136, 96]               0\n",
      "         DropPath-37             [-1, 3136, 96]               0\n",
      "SwinTransformerBlock-38             [-1, 3136, 96]               0\n",
      "        LayerNorm-39             [-1, 784, 384]             768\n",
      "           Linear-40             [-1, 784, 192]          73,728\n",
      "     PatchMerging-41             [-1, 784, 192]               0\n",
      "       BasicLayer-42             [-1, 784, 192]               0\n",
      "        LayerNorm-43             [-1, 784, 192]             384\n",
      "           Linear-44              [-1, 49, 576]         111,168\n",
      "          Softmax-45            [-1, 6, 49, 49]               0\n",
      "          Dropout-46            [-1, 6, 49, 49]               0\n",
      "           Linear-47              [-1, 49, 192]          37,056\n",
      "          Dropout-48              [-1, 49, 192]               0\n",
      "  WindowAttention-49              [-1, 49, 192]               0\n",
      "         DropPath-50             [-1, 784, 192]               0\n",
      "        LayerNorm-51             [-1, 784, 192]             384\n",
      "           Linear-52             [-1, 784, 768]         148,224\n",
      "             GELU-53             [-1, 784, 768]               0\n",
      "          Dropout-54             [-1, 784, 768]               0\n",
      "           Linear-55             [-1, 784, 192]         147,648\n",
      "          Dropout-56             [-1, 784, 192]               0\n",
      "              Mlp-57             [-1, 784, 192]               0\n",
      "         DropPath-58             [-1, 784, 192]               0\n",
      "SwinTransformerBlock-59             [-1, 784, 192]               0\n",
      "        LayerNorm-60             [-1, 784, 192]             384\n",
      "           Linear-61              [-1, 49, 576]         111,168\n",
      "          Softmax-62            [-1, 6, 49, 49]               0\n",
      "          Dropout-63            [-1, 6, 49, 49]               0\n",
      "           Linear-64              [-1, 49, 192]          37,056\n",
      "          Dropout-65              [-1, 49, 192]               0\n",
      "  WindowAttention-66              [-1, 49, 192]               0\n",
      "         DropPath-67             [-1, 784, 192]               0\n",
      "        LayerNorm-68             [-1, 784, 192]             384\n",
      "           Linear-69             [-1, 784, 768]         148,224\n",
      "             GELU-70             [-1, 784, 768]               0\n",
      "          Dropout-71             [-1, 784, 768]               0\n",
      "           Linear-72             [-1, 784, 192]         147,648\n",
      "          Dropout-73             [-1, 784, 192]               0\n",
      "              Mlp-74             [-1, 784, 192]               0\n",
      "         DropPath-75             [-1, 784, 192]               0\n",
      "SwinTransformerBlock-76             [-1, 784, 192]               0\n",
      "        LayerNorm-77             [-1, 196, 768]           1,536\n",
      "           Linear-78             [-1, 196, 384]         294,912\n",
      "     PatchMerging-79             [-1, 196, 384]               0\n",
      "       BasicLayer-80             [-1, 196, 384]               0\n",
      "        LayerNorm-81             [-1, 196, 384]             768\n",
      "           Linear-82             [-1, 49, 1152]         443,520\n",
      "          Softmax-83           [-1, 12, 49, 49]               0\n",
      "          Dropout-84           [-1, 12, 49, 49]               0\n",
      "           Linear-85              [-1, 49, 384]         147,840\n",
      "          Dropout-86              [-1, 49, 384]               0\n",
      "  WindowAttention-87              [-1, 49, 384]               0\n",
      "         DropPath-88             [-1, 196, 384]               0\n",
      "        LayerNorm-89             [-1, 196, 384]             768\n",
      "           Linear-90            [-1, 196, 1536]         591,360\n",
      "             GELU-91            [-1, 196, 1536]               0\n",
      "          Dropout-92            [-1, 196, 1536]               0\n",
      "           Linear-93             [-1, 196, 384]         590,208\n",
      "          Dropout-94             [-1, 196, 384]               0\n",
      "              Mlp-95             [-1, 196, 384]               0\n",
      "         DropPath-96             [-1, 196, 384]               0\n",
      "SwinTransformerBlock-97             [-1, 196, 384]               0\n",
      "        LayerNorm-98             [-1, 196, 384]             768\n",
      "           Linear-99             [-1, 49, 1152]         443,520\n",
      "         Softmax-100           [-1, 12, 49, 49]               0\n",
      "         Dropout-101           [-1, 12, 49, 49]               0\n",
      "          Linear-102              [-1, 49, 384]         147,840\n",
      "         Dropout-103              [-1, 49, 384]               0\n",
      " WindowAttention-104              [-1, 49, 384]               0\n",
      "        DropPath-105             [-1, 196, 384]               0\n",
      "       LayerNorm-106             [-1, 196, 384]             768\n",
      "          Linear-107            [-1, 196, 1536]         591,360\n",
      "            GELU-108            [-1, 196, 1536]               0\n",
      "         Dropout-109            [-1, 196, 1536]               0\n",
      "          Linear-110             [-1, 196, 384]         590,208\n",
      "         Dropout-111             [-1, 196, 384]               0\n",
      "             Mlp-112             [-1, 196, 384]               0\n",
      "        DropPath-113             [-1, 196, 384]               0\n",
      "SwinTransformerBlock-114             [-1, 196, 384]               0\n",
      "       LayerNorm-115             [-1, 196, 384]             768\n",
      "          Linear-116             [-1, 49, 1152]         443,520\n",
      "         Softmax-117           [-1, 12, 49, 49]               0\n",
      "         Dropout-118           [-1, 12, 49, 49]               0\n",
      "          Linear-119              [-1, 49, 384]         147,840\n",
      "         Dropout-120              [-1, 49, 384]               0\n",
      " WindowAttention-121              [-1, 49, 384]               0\n",
      "        DropPath-122             [-1, 196, 384]               0\n",
      "       LayerNorm-123             [-1, 196, 384]             768\n",
      "          Linear-124            [-1, 196, 1536]         591,360\n",
      "            GELU-125            [-1, 196, 1536]               0\n",
      "         Dropout-126            [-1, 196, 1536]               0\n",
      "          Linear-127             [-1, 196, 384]         590,208\n",
      "         Dropout-128             [-1, 196, 384]               0\n",
      "             Mlp-129             [-1, 196, 384]               0\n",
      "        DropPath-130             [-1, 196, 384]               0\n",
      "SwinTransformerBlock-131             [-1, 196, 384]               0\n",
      "       LayerNorm-132             [-1, 196, 384]             768\n",
      "          Linear-133             [-1, 49, 1152]         443,520\n",
      "         Softmax-134           [-1, 12, 49, 49]               0\n",
      "         Dropout-135           [-1, 12, 49, 49]               0\n",
      "          Linear-136              [-1, 49, 384]         147,840\n",
      "         Dropout-137              [-1, 49, 384]               0\n",
      " WindowAttention-138              [-1, 49, 384]               0\n",
      "        DropPath-139             [-1, 196, 384]               0\n",
      "       LayerNorm-140             [-1, 196, 384]             768\n",
      "          Linear-141            [-1, 196, 1536]         591,360\n",
      "            GELU-142            [-1, 196, 1536]               0\n",
      "         Dropout-143            [-1, 196, 1536]               0\n",
      "          Linear-144             [-1, 196, 384]         590,208\n",
      "         Dropout-145             [-1, 196, 384]               0\n",
      "             Mlp-146             [-1, 196, 384]               0\n",
      "        DropPath-147             [-1, 196, 384]               0\n",
      "SwinTransformerBlock-148             [-1, 196, 384]               0\n",
      "       LayerNorm-149             [-1, 196, 384]             768\n",
      "          Linear-150             [-1, 49, 1152]         443,520\n",
      "         Softmax-151           [-1, 12, 49, 49]               0\n",
      "         Dropout-152           [-1, 12, 49, 49]               0\n",
      "          Linear-153              [-1, 49, 384]         147,840\n",
      "         Dropout-154              [-1, 49, 384]               0\n",
      " WindowAttention-155              [-1, 49, 384]               0\n",
      "        DropPath-156             [-1, 196, 384]               0\n",
      "       LayerNorm-157             [-1, 196, 384]             768\n",
      "          Linear-158            [-1, 196, 1536]         591,360\n",
      "            GELU-159            [-1, 196, 1536]               0\n",
      "         Dropout-160            [-1, 196, 1536]               0\n",
      "          Linear-161             [-1, 196, 384]         590,208\n",
      "         Dropout-162             [-1, 196, 384]               0\n",
      "             Mlp-163             [-1, 196, 384]               0\n",
      "        DropPath-164             [-1, 196, 384]               0\n",
      "SwinTransformerBlock-165             [-1, 196, 384]               0\n",
      "       LayerNorm-166             [-1, 196, 384]             768\n",
      "          Linear-167             [-1, 49, 1152]         443,520\n",
      "         Softmax-168           [-1, 12, 49, 49]               0\n",
      "         Dropout-169           [-1, 12, 49, 49]               0\n",
      "          Linear-170              [-1, 49, 384]         147,840\n",
      "         Dropout-171              [-1, 49, 384]               0\n",
      " WindowAttention-172              [-1, 49, 384]               0\n",
      "        DropPath-173             [-1, 196, 384]               0\n",
      "       LayerNorm-174             [-1, 196, 384]             768\n",
      "          Linear-175            [-1, 196, 1536]         591,360\n",
      "            GELU-176            [-1, 196, 1536]               0\n",
      "         Dropout-177            [-1, 196, 1536]               0\n",
      "          Linear-178             [-1, 196, 384]         590,208\n",
      "         Dropout-179             [-1, 196, 384]               0\n",
      "             Mlp-180             [-1, 196, 384]               0\n",
      "        DropPath-181             [-1, 196, 384]               0\n",
      "SwinTransformerBlock-182             [-1, 196, 384]               0\n",
      "       LayerNorm-183             [-1, 49, 1536]           3,072\n",
      "          Linear-184              [-1, 49, 768]       1,179,648\n",
      "    PatchMerging-185              [-1, 49, 768]               0\n",
      "      BasicLayer-186              [-1, 49, 768]               0\n",
      "       LayerNorm-187              [-1, 49, 768]           1,536\n",
      "          Linear-188             [-1, 49, 2304]       1,771,776\n",
      "         Softmax-189           [-1, 24, 49, 49]               0\n",
      "         Dropout-190           [-1, 24, 49, 49]               0\n",
      "          Linear-191              [-1, 49, 768]         590,592\n",
      "         Dropout-192              [-1, 49, 768]               0\n",
      " WindowAttention-193              [-1, 49, 768]               0\n",
      "        DropPath-194              [-1, 49, 768]               0\n",
      "       LayerNorm-195              [-1, 49, 768]           1,536\n",
      "          Linear-196             [-1, 49, 3072]       2,362,368\n",
      "            GELU-197             [-1, 49, 3072]               0\n",
      "         Dropout-198             [-1, 49, 3072]               0\n",
      "          Linear-199              [-1, 49, 768]       2,360,064\n",
      "         Dropout-200              [-1, 49, 768]               0\n",
      "             Mlp-201              [-1, 49, 768]               0\n",
      "        DropPath-202              [-1, 49, 768]               0\n",
      "SwinTransformerBlock-203              [-1, 49, 768]               0\n",
      "       LayerNorm-204              [-1, 49, 768]           1,536\n",
      "          Linear-205             [-1, 49, 2304]       1,771,776\n",
      "         Softmax-206           [-1, 24, 49, 49]               0\n",
      "         Dropout-207           [-1, 24, 49, 49]               0\n",
      "          Linear-208              [-1, 49, 768]         590,592\n",
      "         Dropout-209              [-1, 49, 768]               0\n",
      " WindowAttention-210              [-1, 49, 768]               0\n",
      "        DropPath-211              [-1, 49, 768]               0\n",
      "       LayerNorm-212              [-1, 49, 768]           1,536\n",
      "          Linear-213             [-1, 49, 3072]       2,362,368\n",
      "            GELU-214             [-1, 49, 3072]               0\n",
      "         Dropout-215             [-1, 49, 3072]               0\n",
      "          Linear-216              [-1, 49, 768]       2,360,064\n",
      "         Dropout-217              [-1, 49, 768]               0\n",
      "             Mlp-218              [-1, 49, 768]               0\n",
      "        DropPath-219              [-1, 49, 768]               0\n",
      "SwinTransformerBlock-220              [-1, 49, 768]               0\n",
      "      BasicLayer-221              [-1, 49, 768]               0\n",
      "       LayerNorm-222              [-1, 49, 768]           1,536\n",
      "AdaptiveAvgPool1d-223               [-1, 768, 1]               0\n",
      "          Linear-224                    [-1, 6]           4,614\n",
      "================================================================\n",
      "Total params: 27,500,646\n",
      "Trainable params: 27,500,646\n",
      "Non-trainable params: 0\n",
      "----------------------------------------------------------------\n",
      "Input size (MB): 0.57\n",
      "Forward/backward pass size (MB): 252.98\n",
      "Params size (MB): 104.91\n",
      "Estimated Total Size (MB): 358.46\n",
      "----------------------------------------------------------------\n"
     ]
    }
   ],
   "source": [
    "# -----------------------------\n",
    "# 3. Training Setup\n",
    "# -----------------------------\n",
    "device = torch.device(\"cuda\" if torch.cuda.is_available() else \"cpu\")\n",
    "\n",
    "# Swin-Tiny configuration\n",
    "model = MySwinTransformer(\n",
    "    img_size=224,\n",
    "    patch_size=4,\n",
    "    in_chans=3,\n",
    "    num_classes=len(classes),\n",
    "    embed_dim=96,\n",
    "    depths=[2, 2, 6, 2],\n",
    "    num_heads=[3, 6, 12, 24],\n",
    "    window_size=7,\n",
    "    mlp_ratio=4.0,\n",
    "    qkv_bias=True,\n",
    "    drop_rate=0.0,\n",
    "    attn_drop_rate=0.0,\n",
    "    drop_path_rate=0.1,\n",
    "    norm_layer=nn.LayerNorm,\n",
    "    ape=False,\n",
    "    patch_norm=True,\n",
    "    use_checkpoint=False\n",
    ").to(device)\n",
    "\n",
    "criterion = nn.CrossEntropyLoss()\n",
    "optimizer = torch.optim.AdamW(model.parameters(), lr=0.001, weight_decay=0.05)\n",
    "\n",
    "print(\"Swin Transformer Model Summary:\")\n",
    "try:\n",
    "    summary(model, (3, 224, 224))\n",
    "except:\n",
    "    print(\"Model summary generation failed - this is normal for complex architectures\")\n",
    "    print(f\"Model created successfully with {sum(p.numel() for p in model.parameters()):,} parameters\")"
   ]
  },
  {
   "cell_type": "code",
   "execution_count": 9,
   "id": "5607fb02",
   "metadata": {
    "execution": {
     "iopub.execute_input": "2025-09-08T14:42:53.036866Z",
     "iopub.status.busy": "2025-09-08T14:42:53.036627Z",
     "iopub.status.idle": "2025-09-08T15:15:29.309034Z",
     "shell.execute_reply": "2025-09-08T15:15:29.308230Z"
    },
    "papermill": {
     "duration": 1956.279712,
     "end_time": "2025-09-08T15:15:29.311859",
     "exception": false,
     "start_time": "2025-09-08T14:42:53.032147",
     "status": "completed"
    },
    "tags": []
   },
   "outputs": [
    {
     "name": "stdout",
     "output_type": "stream",
     "text": [
      "\n",
      "🚀 Starting Swin Transformer Training for 50 epochs...\n",
      "================================================================================\n",
      "\n",
      "📈 Epoch 1/50\n",
      "--------------------------------------------------\n",
      "🔄 Training Phase...\n"
     ]
    },
    {
     "name": "stderr",
     "output_type": "stream",
     "text": [
      "Training: 100%|██████████████████████████████| 48/48 [00:39<00:00,  1.21it/s, Loss=1.9390, Acc=0.2747]\n"
     ]
    },
    {
     "name": "stdout",
     "output_type": "stream",
     "text": [
      "✅ Training completed in 39.57s\n",
      "🔍 Validation Phase...\n"
     ]
    },
    {
     "name": "stderr",
     "output_type": "stream",
     "text": [
      "Validation: 100%|██████████████████████████████| 13/13 [00:06<00:00,  1.95it/s, Loss=1.6286, Acc=0.3149]\n"
     ]
    },
    {
     "name": "stdout",
     "output_type": "stream",
     "text": [
      "✅ Validation completed in 6.68s\n",
      "🌟 New best Swin Transformer model found! Validation Accuracy: 0.3149\n",
      "\n",
      "📊 Epoch 1 Summary:\n",
      "│ Train Loss: 1.9390 | Train Acc: 0.2747\n",
      "│ Val Loss:   1.6286 | Val Acc:   0.3149\n",
      "│ Train Time: 39.57s | Val Time: 6.68s\n",
      "│ Total Epoch Time: 46.26s\n",
      "│ Best Val Acc: 0.3149 (Epoch 1)\n",
      "│ GPU Memory: 0.5GB / 4.0GB\n",
      "================================================================================\n",
      "\n",
      "📈 Epoch 2/50\n",
      "--------------------------------------------------\n",
      "🔄 Training Phase...\n"
     ]
    },
    {
     "name": "stderr",
     "output_type": "stream",
     "text": [
      "Training: 100%|██████████████████████████████| 48/48 [00:30<00:00,  1.58it/s, Loss=1.6646, Acc=0.3021]\n"
     ]
    },
    {
     "name": "stdout",
     "output_type": "stream",
     "text": [
      "✅ Training completed in 30.31s\n",
      "🔍 Validation Phase...\n"
     ]
    },
    {
     "name": "stderr",
     "output_type": "stream",
     "text": [
      "Validation: 100%|██████████████████████████████| 13/13 [00:04<00:00,  2.93it/s, Loss=1.6217, Acc=0.3221]\n"
     ]
    },
    {
     "name": "stdout",
     "output_type": "stream",
     "text": [
      "✅ Validation completed in 4.44s\n",
      "🌟 New best Swin Transformer model found! Validation Accuracy: 0.3221\n",
      "\n",
      "📊 Epoch 2 Summary:\n",
      "│ Train Loss: 1.6646 | Train Acc: 0.3021\n",
      "│ Val Loss:   1.6217 | Val Acc:   0.3221\n",
      "│ Train Time: 30.31s | Val Time: 4.44s\n",
      "│ Total Epoch Time: 34.75s\n",
      "│ Best Val Acc: 0.3221 (Epoch 2)\n",
      "│ GPU Memory: 0.5GB / 4.0GB\n",
      "================================================================================\n",
      "\n",
      "📈 Epoch 3/50\n",
      "--------------------------------------------------\n",
      "🔄 Training Phase...\n"
     ]
    },
    {
     "name": "stderr",
     "output_type": "stream",
     "text": [
      "Training: 100%|██████████████████████████████| 48/48 [00:31<00:00,  1.54it/s, Loss=1.6702, Acc=0.2982]\n"
     ]
    },
    {
     "name": "stdout",
     "output_type": "stream",
     "text": [
      "✅ Training completed in 31.10s\n",
      "🔍 Validation Phase...\n"
     ]
    },
    {
     "name": "stderr",
     "output_type": "stream",
     "text": [
      "Validation: 100%|██████████████████████████████| 13/13 [00:04<00:00,  2.80it/s, Loss=1.6766, Acc=0.3462]\n"
     ]
    },
    {
     "name": "stdout",
     "output_type": "stream",
     "text": [
      "✅ Validation completed in 4.65s\n",
      "🌟 New best Swin Transformer model found! Validation Accuracy: 0.3462\n",
      "\n",
      "📊 Epoch 3 Summary:\n",
      "│ Train Loss: 1.6702 | Train Acc: 0.2982\n",
      "│ Val Loss:   1.6766 | Val Acc:   0.3462\n",
      "│ Train Time: 31.10s | Val Time: 4.65s\n",
      "│ Total Epoch Time: 35.76s\n",
      "│ Best Val Acc: 0.3462 (Epoch 3)\n",
      "│ GPU Memory: 0.5GB / 4.0GB\n",
      "================================================================================\n",
      "\n",
      "📈 Epoch 4/50\n",
      "--------------------------------------------------\n",
      "🔄 Training Phase...\n"
     ]
    },
    {
     "name": "stderr",
     "output_type": "stream",
     "text": [
      "Training: 100%|██████████████████████████████| 48/48 [00:32<00:00,  1.49it/s, Loss=1.6502, Acc=0.2721]\n"
     ]
    },
    {
     "name": "stdout",
     "output_type": "stream",
     "text": [
      "✅ Training completed in 32.33s\n",
      "🔍 Validation Phase...\n"
     ]
    },
    {
     "name": "stderr",
     "output_type": "stream",
     "text": [
      "Validation: 100%|██████████████████████████████| 13/13 [00:04<00:00,  2.87it/s, Loss=1.5927, Acc=0.2620]\n"
     ]
    },
    {
     "name": "stdout",
     "output_type": "stream",
     "text": [
      "✅ Validation completed in 4.55s\n",
      "\n",
      "📊 Epoch 4 Summary:\n",
      "│ Train Loss: 1.6502 | Train Acc: 0.2721\n",
      "│ Val Loss:   1.5927 | Val Acc:   0.2620\n",
      "│ Train Time: 32.33s | Val Time: 4.55s\n",
      "│ Total Epoch Time: 36.87s\n",
      "│ Best Val Acc: 0.3462 (Epoch 3)\n",
      "│ GPU Memory: 0.5GB / 4.0GB\n",
      "================================================================================\n",
      "\n",
      "📈 Epoch 5/50\n",
      "--------------------------------------------------\n",
      "🔄 Training Phase...\n"
     ]
    },
    {
     "name": "stderr",
     "output_type": "stream",
     "text": [
      "Training: 100%|██████████████████████████████| 48/48 [00:33<00:00,  1.42it/s, Loss=1.6443, Acc=0.2982]\n"
     ]
    },
    {
     "name": "stdout",
     "output_type": "stream",
     "text": [
      "✅ Training completed in 33.85s\n",
      "🔍 Validation Phase...\n"
     ]
    },
    {
     "name": "stderr",
     "output_type": "stream",
     "text": [
      "Validation: 100%|██████████████████████████████| 13/13 [00:04<00:00,  2.72it/s, Loss=1.6756, Acc=0.2957]\n"
     ]
    },
    {
     "name": "stdout",
     "output_type": "stream",
     "text": [
      "✅ Validation completed in 4.79s\n",
      "\n",
      "📊 Epoch 5 Summary:\n",
      "│ Train Loss: 1.6443 | Train Acc: 0.2982\n",
      "│ Val Loss:   1.6756 | Val Acc:   0.2957\n",
      "│ Train Time: 33.85s | Val Time: 4.79s\n",
      "│ Total Epoch Time: 38.64s\n",
      "│ Best Val Acc: 0.3462 (Epoch 3)\n",
      "│ GPU Memory: 0.5GB / 4.0GB\n",
      "================================================================================\n",
      "\n",
      "📈 Epoch 6/50\n",
      "--------------------------------------------------\n",
      "🔄 Training Phase...\n"
     ]
    },
    {
     "name": "stderr",
     "output_type": "stream",
     "text": [
      "Training: 100%|██████████████████████████████| 48/48 [00:34<00:00,  1.37it/s, Loss=1.6403, Acc=0.3151]\n"
     ]
    },
    {
     "name": "stdout",
     "output_type": "stream",
     "text": [
      "✅ Training completed in 34.97s\n",
      "🔍 Validation Phase...\n"
     ]
    },
    {
     "name": "stderr",
     "output_type": "stream",
     "text": [
      "Validation: 100%|██████████████████████████████| 13/13 [00:04<00:00,  2.76it/s, Loss=1.6730, Acc=0.2885]\n"
     ]
    },
    {
     "name": "stdout",
     "output_type": "stream",
     "text": [
      "✅ Validation completed in 4.71s\n",
      "\n",
      "📊 Epoch 6 Summary:\n",
      "│ Train Loss: 1.6403 | Train Acc: 0.3151\n",
      "│ Val Loss:   1.6730 | Val Acc:   0.2885\n",
      "│ Train Time: 34.97s | Val Time: 4.71s\n",
      "│ Total Epoch Time: 39.68s\n",
      "│ Best Val Acc: 0.3462 (Epoch 3)\n",
      "│ GPU Memory: 0.5GB / 4.0GB\n",
      "================================================================================\n",
      "\n",
      "📈 Epoch 7/50\n",
      "--------------------------------------------------\n",
      "🔄 Training Phase...\n"
     ]
    },
    {
     "name": "stderr",
     "output_type": "stream",
     "text": [
      "Training: 100%|██████████████████████████████| 48/48 [00:34<00:00,  1.40it/s, Loss=1.6805, Acc=0.2806]\n"
     ]
    },
    {
     "name": "stdout",
     "output_type": "stream",
     "text": [
      "✅ Training completed in 34.31s\n",
      "🔍 Validation Phase...\n"
     ]
    },
    {
     "name": "stderr",
     "output_type": "stream",
     "text": [
      "Validation: 100%|██████████████████████████████| 13/13 [00:04<00:00,  2.74it/s, Loss=1.6719, Acc=0.2885]\n"
     ]
    },
    {
     "name": "stdout",
     "output_type": "stream",
     "text": [
      "✅ Validation completed in 4.76s\n",
      "\n",
      "📊 Epoch 7 Summary:\n",
      "│ Train Loss: 1.6805 | Train Acc: 0.2806\n",
      "│ Val Loss:   1.6719 | Val Acc:   0.2885\n",
      "│ Train Time: 34.31s | Val Time: 4.76s\n",
      "│ Total Epoch Time: 39.07s\n",
      "│ Best Val Acc: 0.3462 (Epoch 3)\n",
      "│ GPU Memory: 0.5GB / 4.0GB\n",
      "================================================================================\n",
      "\n",
      "📈 Epoch 8/50\n",
      "--------------------------------------------------\n",
      "🔄 Training Phase...\n"
     ]
    },
    {
     "name": "stderr",
     "output_type": "stream",
     "text": [
      "Training: 100%|██████████████████████████████| 48/48 [00:34<00:00,  1.39it/s, Loss=1.6366, Acc=0.3066]\n"
     ]
    },
    {
     "name": "stdout",
     "output_type": "stream",
     "text": [
      "✅ Training completed in 34.54s\n",
      "🔍 Validation Phase...\n"
     ]
    },
    {
     "name": "stderr",
     "output_type": "stream",
     "text": [
      "Validation: 100%|██████████████████████████████| 13/13 [00:04<00:00,  2.77it/s, Loss=1.7382, Acc=0.3005]\n"
     ]
    },
    {
     "name": "stdout",
     "output_type": "stream",
     "text": [
      "✅ Validation completed in 4.70s\n",
      "\n",
      "📊 Epoch 8 Summary:\n",
      "│ Train Loss: 1.6366 | Train Acc: 0.3066\n",
      "│ Val Loss:   1.7382 | Val Acc:   0.3005\n",
      "│ Train Time: 34.54s | Val Time: 4.70s\n",
      "│ Total Epoch Time: 39.24s\n",
      "│ Best Val Acc: 0.3462 (Epoch 3)\n",
      "│ GPU Memory: 0.5GB / 4.0GB\n",
      "================================================================================\n",
      "\n",
      "📈 Epoch 9/50\n",
      "--------------------------------------------------\n",
      "🔄 Training Phase...\n"
     ]
    },
    {
     "name": "stderr",
     "output_type": "stream",
     "text": [
      "Training: 100%|██████████████████████████████| 48/48 [00:34<00:00,  1.40it/s, Loss=1.6483, Acc=0.2956]\n"
     ]
    },
    {
     "name": "stdout",
     "output_type": "stream",
     "text": [
      "✅ Training completed in 34.38s\n",
      "🔍 Validation Phase...\n"
     ]
    },
    {
     "name": "stderr",
     "output_type": "stream",
     "text": [
      "Validation: 100%|██████████████████████████████| 13/13 [00:04<00:00,  2.71it/s, Loss=1.6619, Acc=0.2885]\n"
     ]
    },
    {
     "name": "stdout",
     "output_type": "stream",
     "text": [
      "✅ Validation completed in 4.80s\n",
      "\n",
      "📊 Epoch 9 Summary:\n",
      "│ Train Loss: 1.6483 | Train Acc: 0.2956\n",
      "│ Val Loss:   1.6619 | Val Acc:   0.2885\n",
      "│ Train Time: 34.38s | Val Time: 4.80s\n",
      "│ Total Epoch Time: 39.18s\n",
      "│ Best Val Acc: 0.3462 (Epoch 3)\n",
      "│ GPU Memory: 0.5GB / 4.0GB\n",
      "================================================================================\n",
      "\n",
      "📈 Epoch 10/50\n",
      "--------------------------------------------------\n",
      "🔄 Training Phase...\n"
     ]
    },
    {
     "name": "stderr",
     "output_type": "stream",
     "text": [
      "Training: 100%|██████████████████████████████| 48/48 [00:34<00:00,  1.39it/s, Loss=1.6510, Acc=0.2806]\n"
     ]
    },
    {
     "name": "stdout",
     "output_type": "stream",
     "text": [
      "✅ Training completed in 34.42s\n",
      "🔍 Validation Phase...\n"
     ]
    },
    {
     "name": "stderr",
     "output_type": "stream",
     "text": [
      "Validation: 100%|██████████████████████████████| 13/13 [00:04<00:00,  2.77it/s, Loss=1.7357, Acc=0.2500]\n"
     ]
    },
    {
     "name": "stdout",
     "output_type": "stream",
     "text": [
      "✅ Validation completed in 4.70s\n",
      "\n",
      "📊 Epoch 10 Summary:\n",
      "│ Train Loss: 1.6510 | Train Acc: 0.2806\n",
      "│ Val Loss:   1.7357 | Val Acc:   0.2500\n",
      "│ Train Time: 34.42s | Val Time: 4.70s\n",
      "│ Total Epoch Time: 39.13s\n",
      "│ Best Val Acc: 0.3462 (Epoch 3)\n",
      "│ GPU Memory: 0.5GB / 4.0GB\n",
      "================================================================================\n",
      "\n",
      "📈 Epoch 11/50\n",
      "--------------------------------------------------\n",
      "🔄 Training Phase...\n"
     ]
    },
    {
     "name": "stderr",
     "output_type": "stream",
     "text": [
      "Training: 100%|██████████████████████████████| 48/48 [00:34<00:00,  1.39it/s, Loss=1.6478, Acc=0.2812]\n"
     ]
    },
    {
     "name": "stdout",
     "output_type": "stream",
     "text": [
      "✅ Training completed in 34.44s\n",
      "🔍 Validation Phase...\n"
     ]
    },
    {
     "name": "stderr",
     "output_type": "stream",
     "text": [
      "Validation: 100%|██████████████████████████████| 13/13 [00:04<00:00,  2.69it/s, Loss=1.6732, Acc=0.2885]\n"
     ]
    },
    {
     "name": "stdout",
     "output_type": "stream",
     "text": [
      "✅ Validation completed in 4.84s\n",
      "\n",
      "📊 Epoch 11 Summary:\n",
      "│ Train Loss: 1.6478 | Train Acc: 0.2812\n",
      "│ Val Loss:   1.6732 | Val Acc:   0.2885\n",
      "│ Train Time: 34.44s | Val Time: 4.84s\n",
      "│ Total Epoch Time: 39.29s\n",
      "│ Best Val Acc: 0.3462 (Epoch 3)\n",
      "│ GPU Memory: 0.5GB / 4.0GB\n",
      "================================================================================\n",
      "\n",
      "📈 Epoch 12/50\n",
      "--------------------------------------------------\n",
      "🔄 Training Phase...\n"
     ]
    },
    {
     "name": "stderr",
     "output_type": "stream",
     "text": [
      "Training: 100%|██████████████████████████████| 48/48 [00:34<00:00,  1.40it/s, Loss=1.6541, Acc=0.2852]\n"
     ]
    },
    {
     "name": "stdout",
     "output_type": "stream",
     "text": [
      "✅ Training completed in 34.28s\n",
      "🔍 Validation Phase...\n"
     ]
    },
    {
     "name": "stderr",
     "output_type": "stream",
     "text": [
      "Validation: 100%|██████████████████████████████| 13/13 [00:04<00:00,  2.78it/s, Loss=1.6814, Acc=0.2885]\n"
     ]
    },
    {
     "name": "stdout",
     "output_type": "stream",
     "text": [
      "✅ Validation completed in 4.68s\n",
      "\n",
      "📊 Epoch 12 Summary:\n",
      "│ Train Loss: 1.6541 | Train Acc: 0.2852\n",
      "│ Val Loss:   1.6814 | Val Acc:   0.2885\n",
      "│ Train Time: 34.28s | Val Time: 4.68s\n",
      "│ Total Epoch Time: 38.96s\n",
      "│ Best Val Acc: 0.3462 (Epoch 3)\n",
      "│ GPU Memory: 0.5GB / 4.0GB\n",
      "================================================================================\n",
      "\n",
      "📈 Epoch 13/50\n",
      "--------------------------------------------------\n",
      "🔄 Training Phase...\n"
     ]
    },
    {
     "name": "stderr",
     "output_type": "stream",
     "text": [
      "Training: 100%|██████████████████████████████| 48/48 [00:34<00:00,  1.40it/s, Loss=1.6409, Acc=0.2923]\n"
     ]
    },
    {
     "name": "stdout",
     "output_type": "stream",
     "text": [
      "✅ Training completed in 34.38s\n",
      "🔍 Validation Phase...\n"
     ]
    },
    {
     "name": "stderr",
     "output_type": "stream",
     "text": [
      "Validation: 100%|██████████████████████████████| 13/13 [00:04<00:00,  2.73it/s, Loss=1.6810, Acc=0.2500]\n"
     ]
    },
    {
     "name": "stdout",
     "output_type": "stream",
     "text": [
      "✅ Validation completed in 4.78s\n",
      "\n",
      "📊 Epoch 13 Summary:\n",
      "│ Train Loss: 1.6409 | Train Acc: 0.2923\n",
      "│ Val Loss:   1.6810 | Val Acc:   0.2500\n",
      "│ Train Time: 34.38s | Val Time: 4.78s\n",
      "│ Total Epoch Time: 39.16s\n",
      "│ Best Val Acc: 0.3462 (Epoch 3)\n",
      "│ GPU Memory: 0.5GB / 4.0GB\n",
      "================================================================================\n",
      "\n",
      "📈 Epoch 14/50\n",
      "--------------------------------------------------\n",
      "🔄 Training Phase...\n"
     ]
    },
    {
     "name": "stderr",
     "output_type": "stream",
     "text": [
      "Training: 100%|██████████████████████████████| 48/48 [00:34<00:00,  1.40it/s, Loss=1.6485, Acc=0.2826]\n"
     ]
    },
    {
     "name": "stdout",
     "output_type": "stream",
     "text": [
      "✅ Training completed in 34.23s\n",
      "🔍 Validation Phase...\n"
     ]
    },
    {
     "name": "stderr",
     "output_type": "stream",
     "text": [
      "Validation: 100%|██████████████████████████████| 13/13 [00:04<00:00,  2.79it/s, Loss=1.6599, Acc=0.2500]\n"
     ]
    },
    {
     "name": "stdout",
     "output_type": "stream",
     "text": [
      "✅ Validation completed in 4.67s\n",
      "\n",
      "📊 Epoch 14 Summary:\n",
      "│ Train Loss: 1.6485 | Train Acc: 0.2826\n",
      "│ Val Loss:   1.6599 | Val Acc:   0.2500\n",
      "│ Train Time: 34.23s | Val Time: 4.67s\n",
      "│ Total Epoch Time: 38.90s\n",
      "│ Best Val Acc: 0.3462 (Epoch 3)\n",
      "│ GPU Memory: 0.5GB / 4.0GB\n",
      "================================================================================\n",
      "\n",
      "📈 Epoch 15/50\n",
      "--------------------------------------------------\n",
      "🔄 Training Phase...\n"
     ]
    },
    {
     "name": "stderr",
     "output_type": "stream",
     "text": [
      "Training: 100%|██████████████████████████████| 48/48 [00:34<00:00,  1.40it/s, Loss=1.6446, Acc=0.2897]\n"
     ]
    },
    {
     "name": "stdout",
     "output_type": "stream",
     "text": [
      "✅ Training completed in 34.34s\n",
      "🔍 Validation Phase...\n"
     ]
    },
    {
     "name": "stderr",
     "output_type": "stream",
     "text": [
      "Validation: 100%|██████████████████████████████| 13/13 [00:04<00:00,  2.78it/s, Loss=1.6779, Acc=0.2885]\n"
     ]
    },
    {
     "name": "stdout",
     "output_type": "stream",
     "text": [
      "✅ Validation completed in 4.69s\n",
      "\n",
      "📊 Epoch 15 Summary:\n",
      "│ Train Loss: 1.6446 | Train Acc: 0.2897\n",
      "│ Val Loss:   1.6779 | Val Acc:   0.2885\n",
      "│ Train Time: 34.34s | Val Time: 4.69s\n",
      "│ Total Epoch Time: 39.03s\n",
      "│ Best Val Acc: 0.3462 (Epoch 3)\n",
      "│ GPU Memory: 0.5GB / 4.0GB\n",
      "================================================================================\n",
      "\n",
      "📈 Epoch 16/50\n",
      "--------------------------------------------------\n",
      "🔄 Training Phase...\n"
     ]
    },
    {
     "name": "stderr",
     "output_type": "stream",
     "text": [
      "Training: 100%|██████████████████████████████| 48/48 [00:34<00:00,  1.40it/s, Loss=1.6416, Acc=0.3073]\n"
     ]
    },
    {
     "name": "stdout",
     "output_type": "stream",
     "text": [
      "✅ Training completed in 34.18s\n",
      "🔍 Validation Phase...\n"
     ]
    },
    {
     "name": "stderr",
     "output_type": "stream",
     "text": [
      "Validation: 100%|██████████████████████████████| 13/13 [00:04<00:00,  2.81it/s, Loss=1.6972, Acc=0.2885]\n"
     ]
    },
    {
     "name": "stdout",
     "output_type": "stream",
     "text": [
      "✅ Validation completed in 4.63s\n",
      "\n",
      "📊 Epoch 16 Summary:\n",
      "│ Train Loss: 1.6416 | Train Acc: 0.3073\n",
      "│ Val Loss:   1.6972 | Val Acc:   0.2885\n",
      "│ Train Time: 34.18s | Val Time: 4.63s\n",
      "│ Total Epoch Time: 38.82s\n",
      "│ Best Val Acc: 0.3462 (Epoch 3)\n",
      "│ GPU Memory: 0.5GB / 4.0GB\n",
      "================================================================================\n",
      "\n",
      "📈 Epoch 17/50\n",
      "--------------------------------------------------\n",
      "🔄 Training Phase...\n"
     ]
    },
    {
     "name": "stderr",
     "output_type": "stream",
     "text": [
      "Training: 100%|██████████████████████████████| 48/48 [00:34<00:00,  1.40it/s, Loss=1.6447, Acc=0.2930]\n"
     ]
    },
    {
     "name": "stdout",
     "output_type": "stream",
     "text": [
      "✅ Training completed in 34.24s\n",
      "🔍 Validation Phase...\n"
     ]
    },
    {
     "name": "stderr",
     "output_type": "stream",
     "text": [
      "Validation: 100%|██████████████████████████████| 13/13 [00:04<00:00,  2.70it/s, Loss=1.6692, Acc=0.2885]\n"
     ]
    },
    {
     "name": "stdout",
     "output_type": "stream",
     "text": [
      "✅ Validation completed in 4.82s\n",
      "\n",
      "📊 Epoch 17 Summary:\n",
      "│ Train Loss: 1.6447 | Train Acc: 0.2930\n",
      "│ Val Loss:   1.6692 | Val Acc:   0.2885\n",
      "│ Train Time: 34.24s | Val Time: 4.82s\n",
      "│ Total Epoch Time: 39.06s\n",
      "│ Best Val Acc: 0.3462 (Epoch 3)\n",
      "│ GPU Memory: 0.5GB / 4.0GB\n",
      "================================================================================\n",
      "\n",
      "📈 Epoch 18/50\n",
      "--------------------------------------------------\n",
      "🔄 Training Phase...\n"
     ]
    },
    {
     "name": "stderr",
     "output_type": "stream",
     "text": [
      "Training: 100%|██████████████████████████████| 48/48 [00:34<00:00,  1.40it/s, Loss=1.6360, Acc=0.2962]\n"
     ]
    },
    {
     "name": "stdout",
     "output_type": "stream",
     "text": [
      "✅ Training completed in 34.24s\n",
      "🔍 Validation Phase...\n"
     ]
    },
    {
     "name": "stderr",
     "output_type": "stream",
     "text": [
      "Validation: 100%|██████████████████████████████| 13/13 [00:04<00:00,  2.78it/s, Loss=1.6622, Acc=0.2885]\n"
     ]
    },
    {
     "name": "stdout",
     "output_type": "stream",
     "text": [
      "✅ Validation completed in 4.68s\n",
      "\n",
      "📊 Epoch 18 Summary:\n",
      "│ Train Loss: 1.6360 | Train Acc: 0.2962\n",
      "│ Val Loss:   1.6622 | Val Acc:   0.2885\n",
      "│ Train Time: 34.24s | Val Time: 4.68s\n",
      "│ Total Epoch Time: 38.92s\n",
      "│ Best Val Acc: 0.3462 (Epoch 3)\n",
      "│ GPU Memory: 0.5GB / 4.0GB\n",
      "================================================================================\n",
      "\n",
      "📈 Epoch 19/50\n",
      "--------------------------------------------------\n",
      "🔄 Training Phase...\n"
     ]
    },
    {
     "name": "stderr",
     "output_type": "stream",
     "text": [
      "Training: 100%|██████████████████████████████| 48/48 [00:34<00:00,  1.39it/s, Loss=1.6374, Acc=0.2878]\n"
     ]
    },
    {
     "name": "stdout",
     "output_type": "stream",
     "text": [
      "✅ Training completed in 34.47s\n",
      "🔍 Validation Phase...\n"
     ]
    },
    {
     "name": "stderr",
     "output_type": "stream",
     "text": [
      "Validation: 100%|██████████████████████████████| 13/13 [00:04<00:00,  2.71it/s, Loss=1.6606, Acc=0.2500]\n"
     ]
    },
    {
     "name": "stdout",
     "output_type": "stream",
     "text": [
      "✅ Validation completed in 4.81s\n",
      "\n",
      "📊 Epoch 19 Summary:\n",
      "│ Train Loss: 1.6374 | Train Acc: 0.2878\n",
      "│ Val Loss:   1.6606 | Val Acc:   0.2500\n",
      "│ Train Time: 34.47s | Val Time: 4.81s\n",
      "│ Total Epoch Time: 39.28s\n",
      "│ Best Val Acc: 0.3462 (Epoch 3)\n",
      "│ GPU Memory: 0.5GB / 4.0GB\n",
      "================================================================================\n",
      "\n",
      "📈 Epoch 20/50\n",
      "--------------------------------------------------\n",
      "🔄 Training Phase...\n"
     ]
    },
    {
     "name": "stderr",
     "output_type": "stream",
     "text": [
      "Training: 100%|██████████████████████████████| 48/48 [00:34<00:00,  1.40it/s, Loss=1.6370, Acc=0.2865]\n"
     ]
    },
    {
     "name": "stdout",
     "output_type": "stream",
     "text": [
      "✅ Training completed in 34.23s\n",
      "🔍 Validation Phase...\n"
     ]
    },
    {
     "name": "stderr",
     "output_type": "stream",
     "text": [
      "Validation: 100%|██████████████████████████████| 13/13 [00:04<00:00,  2.78it/s, Loss=1.6640, Acc=0.2885]\n"
     ]
    },
    {
     "name": "stdout",
     "output_type": "stream",
     "text": [
      "✅ Validation completed in 4.68s\n",
      "\n",
      "📊 Epoch 20 Summary:\n",
      "│ Train Loss: 1.6370 | Train Acc: 0.2865\n",
      "│ Val Loss:   1.6640 | Val Acc:   0.2885\n",
      "│ Train Time: 34.23s | Val Time: 4.68s\n",
      "│ Total Epoch Time: 38.91s\n",
      "│ Best Val Acc: 0.3462 (Epoch 3)\n",
      "│ GPU Memory: 0.5GB / 4.0GB\n",
      "================================================================================\n",
      "\n",
      "📈 Epoch 21/50\n",
      "--------------------------------------------------\n",
      "🔄 Training Phase...\n"
     ]
    },
    {
     "name": "stderr",
     "output_type": "stream",
     "text": [
      "Training: 100%|██████████████████████████████| 48/48 [00:34<00:00,  1.40it/s, Loss=1.6361, Acc=0.2871]\n"
     ]
    },
    {
     "name": "stdout",
     "output_type": "stream",
     "text": [
      "✅ Training completed in 34.28s\n",
      "🔍 Validation Phase...\n"
     ]
    },
    {
     "name": "stderr",
     "output_type": "stream",
     "text": [
      "Validation: 100%|██████████████████████████████| 13/13 [00:04<00:00,  2.80it/s, Loss=1.6635, Acc=0.2885]\n"
     ]
    },
    {
     "name": "stdout",
     "output_type": "stream",
     "text": [
      "✅ Validation completed in 4.65s\n",
      "\n",
      "📊 Epoch 21 Summary:\n",
      "│ Train Loss: 1.6361 | Train Acc: 0.2871\n",
      "│ Val Loss:   1.6635 | Val Acc:   0.2885\n",
      "│ Train Time: 34.28s | Val Time: 4.65s\n",
      "│ Total Epoch Time: 38.93s\n",
      "│ Best Val Acc: 0.3462 (Epoch 3)\n",
      "│ GPU Memory: 0.5GB / 4.0GB\n",
      "================================================================================\n",
      "\n",
      "📈 Epoch 22/50\n",
      "--------------------------------------------------\n",
      "🔄 Training Phase...\n"
     ]
    },
    {
     "name": "stderr",
     "output_type": "stream",
     "text": [
      "Training: 100%|██████████████████████████████| 48/48 [00:34<00:00,  1.41it/s, Loss=1.6312, Acc=0.3027]\n"
     ]
    },
    {
     "name": "stdout",
     "output_type": "stream",
     "text": [
      "✅ Training completed in 34.06s\n",
      "🔍 Validation Phase...\n"
     ]
    },
    {
     "name": "stderr",
     "output_type": "stream",
     "text": [
      "Validation: 100%|██████████████████████████████| 13/13 [00:04<00:00,  2.84it/s, Loss=1.6608, Acc=0.2885]\n"
     ]
    },
    {
     "name": "stdout",
     "output_type": "stream",
     "text": [
      "✅ Validation completed in 4.59s\n",
      "\n",
      "📊 Epoch 22 Summary:\n",
      "│ Train Loss: 1.6312 | Train Acc: 0.3027\n",
      "│ Val Loss:   1.6608 | Val Acc:   0.2885\n",
      "│ Train Time: 34.06s | Val Time: 4.59s\n",
      "│ Total Epoch Time: 38.65s\n",
      "│ Best Val Acc: 0.3462 (Epoch 3)\n",
      "│ GPU Memory: 0.5GB / 4.0GB\n",
      "================================================================================\n",
      "\n",
      "📈 Epoch 23/50\n",
      "--------------------------------------------------\n",
      "🔄 Training Phase...\n"
     ]
    },
    {
     "name": "stderr",
     "output_type": "stream",
     "text": [
      "Training: 100%|██████████████████████████████| 48/48 [00:34<00:00,  1.41it/s, Loss=1.6338, Acc=0.2936]\n"
     ]
    },
    {
     "name": "stdout",
     "output_type": "stream",
     "text": [
      "✅ Training completed in 34.08s\n",
      "🔍 Validation Phase...\n"
     ]
    },
    {
     "name": "stderr",
     "output_type": "stream",
     "text": [
      "Validation: 100%|██████████████████████████████| 13/13 [00:04<00:00,  2.81it/s, Loss=1.6687, Acc=0.2885]\n"
     ]
    },
    {
     "name": "stdout",
     "output_type": "stream",
     "text": [
      "✅ Validation completed in 4.64s\n",
      "\n",
      "📊 Epoch 23 Summary:\n",
      "│ Train Loss: 1.6338 | Train Acc: 0.2936\n",
      "│ Val Loss:   1.6687 | Val Acc:   0.2885\n",
      "│ Train Time: 34.08s | Val Time: 4.64s\n",
      "│ Total Epoch Time: 38.72s\n",
      "│ Best Val Acc: 0.3462 (Epoch 3)\n",
      "│ GPU Memory: 0.5GB / 4.0GB\n",
      "================================================================================\n",
      "\n",
      "📈 Epoch 24/50\n",
      "--------------------------------------------------\n",
      "🔄 Training Phase...\n"
     ]
    },
    {
     "name": "stderr",
     "output_type": "stream",
     "text": [
      "Training: 100%|██████████████████████████████| 48/48 [00:33<00:00,  1.41it/s, Loss=1.6326, Acc=0.3034]\n"
     ]
    },
    {
     "name": "stdout",
     "output_type": "stream",
     "text": [
      "✅ Training completed in 33.96s\n",
      "🔍 Validation Phase...\n"
     ]
    },
    {
     "name": "stderr",
     "output_type": "stream",
     "text": [
      "Validation: 100%|██████████████████████████████| 13/13 [00:04<00:00,  2.80it/s, Loss=1.6665, Acc=0.2885]\n"
     ]
    },
    {
     "name": "stdout",
     "output_type": "stream",
     "text": [
      "✅ Validation completed in 4.64s\n",
      "\n",
      "📊 Epoch 24 Summary:\n",
      "│ Train Loss: 1.6326 | Train Acc: 0.3034\n",
      "│ Val Loss:   1.6665 | Val Acc:   0.2885\n",
      "│ Train Time: 33.96s | Val Time: 4.64s\n",
      "│ Total Epoch Time: 38.61s\n",
      "│ Best Val Acc: 0.3462 (Epoch 3)\n",
      "│ GPU Memory: 0.5GB / 4.0GB\n",
      "================================================================================\n",
      "\n",
      "📈 Epoch 25/50\n",
      "--------------------------------------------------\n",
      "🔄 Training Phase...\n"
     ]
    },
    {
     "name": "stderr",
     "output_type": "stream",
     "text": [
      "Training: 100%|██████████████████████████████| 48/48 [00:34<00:00,  1.40it/s, Loss=1.6368, Acc=0.2878]\n"
     ]
    },
    {
     "name": "stdout",
     "output_type": "stream",
     "text": [
      "✅ Training completed in 34.20s\n",
      "🔍 Validation Phase...\n"
     ]
    },
    {
     "name": "stderr",
     "output_type": "stream",
     "text": [
      "Validation: 100%|██████████████████████████████| 13/13 [00:04<00:00,  2.75it/s, Loss=1.6581, Acc=0.2885]\n"
     ]
    },
    {
     "name": "stdout",
     "output_type": "stream",
     "text": [
      "✅ Validation completed in 4.73s\n",
      "\n",
      "📊 Epoch 25 Summary:\n",
      "│ Train Loss: 1.6368 | Train Acc: 0.2878\n",
      "│ Val Loss:   1.6581 | Val Acc:   0.2885\n",
      "│ Train Time: 34.20s | Val Time: 4.73s\n",
      "│ Total Epoch Time: 38.93s\n",
      "│ Best Val Acc: 0.3462 (Epoch 3)\n",
      "│ GPU Memory: 0.5GB / 4.0GB\n",
      "================================================================================\n",
      "\n",
      "📈 Epoch 26/50\n",
      "--------------------------------------------------\n",
      "🔄 Training Phase...\n"
     ]
    },
    {
     "name": "stderr",
     "output_type": "stream",
     "text": [
      "Training: 100%|██████████████████████████████| 48/48 [00:34<00:00,  1.40it/s, Loss=1.6292, Acc=0.2982]\n"
     ]
    },
    {
     "name": "stdout",
     "output_type": "stream",
     "text": [
      "✅ Training completed in 34.17s\n",
      "🔍 Validation Phase...\n"
     ]
    },
    {
     "name": "stderr",
     "output_type": "stream",
     "text": [
      "Validation: 100%|██████████████████████████████| 13/13 [00:04<00:00,  2.79it/s, Loss=1.6626, Acc=0.2885]\n"
     ]
    },
    {
     "name": "stdout",
     "output_type": "stream",
     "text": [
      "✅ Validation completed in 4.66s\n",
      "\n",
      "📊 Epoch 26 Summary:\n",
      "│ Train Loss: 1.6292 | Train Acc: 0.2982\n",
      "│ Val Loss:   1.6626 | Val Acc:   0.2885\n",
      "│ Train Time: 34.17s | Val Time: 4.66s\n",
      "│ Total Epoch Time: 38.84s\n",
      "│ Best Val Acc: 0.3462 (Epoch 3)\n",
      "│ GPU Memory: 0.5GB / 4.0GB\n",
      "================================================================================\n",
      "\n",
      "📈 Epoch 27/50\n",
      "--------------------------------------------------\n",
      "🔄 Training Phase...\n"
     ]
    },
    {
     "name": "stderr",
     "output_type": "stream",
     "text": [
      "Training: 100%|██████████████████████████████| 48/48 [00:34<00:00,  1.41it/s, Loss=1.6315, Acc=0.2962]\n"
     ]
    },
    {
     "name": "stdout",
     "output_type": "stream",
     "text": [
      "✅ Training completed in 34.12s\n",
      "🔍 Validation Phase...\n"
     ]
    },
    {
     "name": "stderr",
     "output_type": "stream",
     "text": [
      "Validation: 100%|██████████████████████████████| 13/13 [00:04<00:00,  2.73it/s, Loss=1.6617, Acc=0.2885]\n"
     ]
    },
    {
     "name": "stdout",
     "output_type": "stream",
     "text": [
      "✅ Validation completed in 4.77s\n",
      "\n",
      "📊 Epoch 27 Summary:\n",
      "│ Train Loss: 1.6315 | Train Acc: 0.2962\n",
      "│ Val Loss:   1.6617 | Val Acc:   0.2885\n",
      "│ Train Time: 34.12s | Val Time: 4.77s\n",
      "│ Total Epoch Time: 38.89s\n",
      "│ Best Val Acc: 0.3462 (Epoch 3)\n",
      "│ GPU Memory: 0.5GB / 4.0GB\n",
      "================================================================================\n",
      "\n",
      "📈 Epoch 28/50\n",
      "--------------------------------------------------\n",
      "🔄 Training Phase...\n"
     ]
    },
    {
     "name": "stderr",
     "output_type": "stream",
     "text": [
      "Training: 100%|██████████████████████████████| 48/48 [00:34<00:00,  1.39it/s, Loss=1.6323, Acc=0.2760]\n"
     ]
    },
    {
     "name": "stdout",
     "output_type": "stream",
     "text": [
      "✅ Training completed in 34.44s\n",
      "🔍 Validation Phase...\n"
     ]
    },
    {
     "name": "stderr",
     "output_type": "stream",
     "text": [
      "Validation: 100%|██████████████████████████████| 13/13 [00:04<00:00,  2.76it/s, Loss=1.6599, Acc=0.2885]\n"
     ]
    },
    {
     "name": "stdout",
     "output_type": "stream",
     "text": [
      "✅ Validation completed in 4.71s\n",
      "\n",
      "📊 Epoch 28 Summary:\n",
      "│ Train Loss: 1.6323 | Train Acc: 0.2760\n",
      "│ Val Loss:   1.6599 | Val Acc:   0.2885\n",
      "│ Train Time: 34.44s | Val Time: 4.71s\n",
      "│ Total Epoch Time: 39.15s\n",
      "│ Best Val Acc: 0.3462 (Epoch 3)\n",
      "│ GPU Memory: 0.5GB / 4.0GB\n",
      "================================================================================\n",
      "\n",
      "📈 Epoch 29/50\n",
      "--------------------------------------------------\n",
      "🔄 Training Phase...\n"
     ]
    },
    {
     "name": "stderr",
     "output_type": "stream",
     "text": [
      "Training: 100%|██████████████████████████████| 48/48 [00:34<00:00,  1.39it/s, Loss=1.6298, Acc=0.2845]\n"
     ]
    },
    {
     "name": "stdout",
     "output_type": "stream",
     "text": [
      "✅ Training completed in 34.44s\n",
      "🔍 Validation Phase...\n"
     ]
    },
    {
     "name": "stderr",
     "output_type": "stream",
     "text": [
      "Validation: 100%|██████████████████████████████| 13/13 [00:04<00:00,  2.65it/s, Loss=1.6709, Acc=0.2500]\n"
     ]
    },
    {
     "name": "stdout",
     "output_type": "stream",
     "text": [
      "✅ Validation completed in 4.90s\n",
      "\n",
      "📊 Epoch 29 Summary:\n",
      "│ Train Loss: 1.6298 | Train Acc: 0.2845\n",
      "│ Val Loss:   1.6709 | Val Acc:   0.2500\n",
      "│ Train Time: 34.44s | Val Time: 4.90s\n",
      "│ Total Epoch Time: 39.35s\n",
      "│ Best Val Acc: 0.3462 (Epoch 3)\n",
      "│ GPU Memory: 0.5GB / 4.0GB\n",
      "================================================================================\n",
      "\n",
      "📈 Epoch 30/50\n",
      "--------------------------------------------------\n",
      "🔄 Training Phase...\n"
     ]
    },
    {
     "name": "stderr",
     "output_type": "stream",
     "text": [
      "Training: 100%|██████████████████████████████| 48/48 [00:34<00:00,  1.39it/s, Loss=1.6282, Acc=0.3014]\n"
     ]
    },
    {
     "name": "stdout",
     "output_type": "stream",
     "text": [
      "✅ Training completed in 34.50s\n",
      "🔍 Validation Phase...\n"
     ]
    },
    {
     "name": "stderr",
     "output_type": "stream",
     "text": [
      "Validation: 100%|██████████████████████████████| 13/13 [00:04<00:00,  2.79it/s, Loss=1.6607, Acc=0.2885]\n"
     ]
    },
    {
     "name": "stdout",
     "output_type": "stream",
     "text": [
      "✅ Validation completed in 4.67s\n",
      "\n",
      "📊 Epoch 30 Summary:\n",
      "│ Train Loss: 1.6282 | Train Acc: 0.3014\n",
      "│ Val Loss:   1.6607 | Val Acc:   0.2885\n",
      "│ Train Time: 34.50s | Val Time: 4.67s\n",
      "│ Total Epoch Time: 39.17s\n",
      "│ Best Val Acc: 0.3462 (Epoch 3)\n",
      "│ GPU Memory: 0.5GB / 4.0GB\n",
      "================================================================================\n",
      "\n",
      "📈 Epoch 31/50\n",
      "--------------------------------------------------\n",
      "🔄 Training Phase...\n"
     ]
    },
    {
     "name": "stderr",
     "output_type": "stream",
     "text": [
      "Training: 100%|██████████████████████████████| 48/48 [00:34<00:00,  1.40it/s, Loss=1.6328, Acc=0.2839]\n"
     ]
    },
    {
     "name": "stdout",
     "output_type": "stream",
     "text": [
      "✅ Training completed in 34.31s\n",
      "🔍 Validation Phase...\n"
     ]
    },
    {
     "name": "stderr",
     "output_type": "stream",
     "text": [
      "Validation: 100%|██████████████████████████████| 13/13 [00:04<00:00,  2.73it/s, Loss=1.6619, Acc=0.2885]\n"
     ]
    },
    {
     "name": "stdout",
     "output_type": "stream",
     "text": [
      "✅ Validation completed in 4.76s\n",
      "\n",
      "📊 Epoch 31 Summary:\n",
      "│ Train Loss: 1.6328 | Train Acc: 0.2839\n",
      "│ Val Loss:   1.6619 | Val Acc:   0.2885\n",
      "│ Train Time: 34.31s | Val Time: 4.76s\n",
      "│ Total Epoch Time: 39.07s\n",
      "│ Best Val Acc: 0.3462 (Epoch 3)\n",
      "│ GPU Memory: 0.5GB / 4.0GB\n",
      "================================================================================\n",
      "\n",
      "📈 Epoch 32/50\n",
      "--------------------------------------------------\n",
      "🔄 Training Phase...\n"
     ]
    },
    {
     "name": "stderr",
     "output_type": "stream",
     "text": [
      "Training: 100%|██████████████████████████████| 48/48 [00:34<00:00,  1.41it/s, Loss=1.6309, Acc=0.2891]\n"
     ]
    },
    {
     "name": "stdout",
     "output_type": "stream",
     "text": [
      "✅ Training completed in 34.07s\n",
      "🔍 Validation Phase...\n"
     ]
    },
    {
     "name": "stderr",
     "output_type": "stream",
     "text": [
      "Validation: 100%|██████████████████████████████| 13/13 [00:04<00:00,  2.82it/s, Loss=1.6574, Acc=0.2885]\n"
     ]
    },
    {
     "name": "stdout",
     "output_type": "stream",
     "text": [
      "✅ Validation completed in 4.61s\n",
      "\n",
      "📊 Epoch 32 Summary:\n",
      "│ Train Loss: 1.6309 | Train Acc: 0.2891\n",
      "│ Val Loss:   1.6574 | Val Acc:   0.2885\n",
      "│ Train Time: 34.07s | Val Time: 4.61s\n",
      "│ Total Epoch Time: 38.68s\n",
      "│ Best Val Acc: 0.3462 (Epoch 3)\n",
      "│ GPU Memory: 0.5GB / 4.0GB\n",
      "================================================================================\n",
      "\n",
      "📈 Epoch 33/50\n",
      "--------------------------------------------------\n",
      "🔄 Training Phase...\n"
     ]
    },
    {
     "name": "stderr",
     "output_type": "stream",
     "text": [
      "Training: 100%|██████████████████████████████| 48/48 [00:34<00:00,  1.40it/s, Loss=1.6297, Acc=0.2884]\n"
     ]
    },
    {
     "name": "stdout",
     "output_type": "stream",
     "text": [
      "✅ Training completed in 34.40s\n",
      "🔍 Validation Phase...\n"
     ]
    },
    {
     "name": "stderr",
     "output_type": "stream",
     "text": [
      "Validation: 100%|██████████████████████████████| 13/13 [00:04<00:00,  2.76it/s, Loss=1.6618, Acc=0.2885]\n"
     ]
    },
    {
     "name": "stdout",
     "output_type": "stream",
     "text": [
      "✅ Validation completed in 4.71s\n",
      "\n",
      "📊 Epoch 33 Summary:\n",
      "│ Train Loss: 1.6297 | Train Acc: 0.2884\n",
      "│ Val Loss:   1.6618 | Val Acc:   0.2885\n",
      "│ Train Time: 34.40s | Val Time: 4.71s\n",
      "│ Total Epoch Time: 39.11s\n",
      "│ Best Val Acc: 0.3462 (Epoch 3)\n",
      "│ GPU Memory: 0.5GB / 4.0GB\n",
      "================================================================================\n",
      "\n",
      "📈 Epoch 34/50\n",
      "--------------------------------------------------\n",
      "🔄 Training Phase...\n"
     ]
    },
    {
     "name": "stderr",
     "output_type": "stream",
     "text": [
      "Training: 100%|██████████████████████████████| 48/48 [00:34<00:00,  1.41it/s, Loss=1.6262, Acc=0.2923]\n"
     ]
    },
    {
     "name": "stdout",
     "output_type": "stream",
     "text": [
      "✅ Training completed in 34.15s\n",
      "🔍 Validation Phase...\n"
     ]
    },
    {
     "name": "stderr",
     "output_type": "stream",
     "text": [
      "Validation: 100%|██████████████████████████████| 13/13 [00:04<00:00,  2.84it/s, Loss=1.6605, Acc=0.2885]\n"
     ]
    },
    {
     "name": "stdout",
     "output_type": "stream",
     "text": [
      "✅ Validation completed in 4.59s\n",
      "\n",
      "📊 Epoch 34 Summary:\n",
      "│ Train Loss: 1.6262 | Train Acc: 0.2923\n",
      "│ Val Loss:   1.6605 | Val Acc:   0.2885\n",
      "│ Train Time: 34.15s | Val Time: 4.59s\n",
      "│ Total Epoch Time: 38.75s\n",
      "│ Best Val Acc: 0.3462 (Epoch 3)\n",
      "│ GPU Memory: 0.5GB / 4.0GB\n",
      "================================================================================\n",
      "\n",
      "📈 Epoch 35/50\n",
      "--------------------------------------------------\n",
      "🔄 Training Phase...\n"
     ]
    },
    {
     "name": "stderr",
     "output_type": "stream",
     "text": [
      "Training: 100%|██████████████████████████████| 48/48 [00:34<00:00,  1.40it/s, Loss=1.6280, Acc=0.2819]\n"
     ]
    },
    {
     "name": "stdout",
     "output_type": "stream",
     "text": [
      "✅ Training completed in 34.23s\n",
      "🔍 Validation Phase...\n"
     ]
    },
    {
     "name": "stderr",
     "output_type": "stream",
     "text": [
      "Validation: 100%|██████████████████████████████| 13/13 [00:04<00:00,  2.73it/s, Loss=1.6783, Acc=0.2500]\n"
     ]
    },
    {
     "name": "stdout",
     "output_type": "stream",
     "text": [
      "✅ Validation completed in 4.77s\n",
      "\n",
      "📊 Epoch 35 Summary:\n",
      "│ Train Loss: 1.6280 | Train Acc: 0.2819\n",
      "│ Val Loss:   1.6783 | Val Acc:   0.2500\n",
      "│ Train Time: 34.23s | Val Time: 4.77s\n",
      "│ Total Epoch Time: 39.01s\n",
      "│ Best Val Acc: 0.3462 (Epoch 3)\n",
      "│ GPU Memory: 0.5GB / 4.0GB\n",
      "================================================================================\n",
      "\n",
      "📈 Epoch 36/50\n",
      "--------------------------------------------------\n",
      "🔄 Training Phase...\n"
     ]
    },
    {
     "name": "stderr",
     "output_type": "stream",
     "text": [
      "Training: 100%|██████████████████████████████| 48/48 [00:34<00:00,  1.40it/s, Loss=1.6307, Acc=0.2995]\n"
     ]
    },
    {
     "name": "stdout",
     "output_type": "stream",
     "text": [
      "✅ Training completed in 34.22s\n",
      "🔍 Validation Phase...\n"
     ]
    },
    {
     "name": "stderr",
     "output_type": "stream",
     "text": [
      "Validation: 100%|██████████████████████████████| 13/13 [00:04<00:00,  2.73it/s, Loss=1.6758, Acc=0.2885]\n"
     ]
    },
    {
     "name": "stdout",
     "output_type": "stream",
     "text": [
      "✅ Validation completed in 4.76s\n",
      "\n",
      "📊 Epoch 36 Summary:\n",
      "│ Train Loss: 1.6307 | Train Acc: 0.2995\n",
      "│ Val Loss:   1.6758 | Val Acc:   0.2885\n",
      "│ Train Time: 34.22s | Val Time: 4.76s\n",
      "│ Total Epoch Time: 38.98s\n",
      "│ Best Val Acc: 0.3462 (Epoch 3)\n",
      "│ GPU Memory: 0.5GB / 4.0GB\n",
      "================================================================================\n",
      "\n",
      "📈 Epoch 37/50\n",
      "--------------------------------------------------\n",
      "🔄 Training Phase...\n"
     ]
    },
    {
     "name": "stderr",
     "output_type": "stream",
     "text": [
      "Training: 100%|██████████████████████████████| 48/48 [00:34<00:00,  1.40it/s, Loss=1.6334, Acc=0.2943]\n"
     ]
    },
    {
     "name": "stdout",
     "output_type": "stream",
     "text": [
      "✅ Training completed in 34.35s\n",
      "🔍 Validation Phase...\n"
     ]
    },
    {
     "name": "stderr",
     "output_type": "stream",
     "text": [
      "Validation: 100%|██████████████████████████████| 13/13 [00:04<00:00,  2.75it/s, Loss=1.6563, Acc=0.2885]\n"
     ]
    },
    {
     "name": "stdout",
     "output_type": "stream",
     "text": [
      "✅ Validation completed in 4.73s\n",
      "\n",
      "📊 Epoch 37 Summary:\n",
      "│ Train Loss: 1.6334 | Train Acc: 0.2943\n",
      "│ Val Loss:   1.6563 | Val Acc:   0.2885\n",
      "│ Train Time: 34.35s | Val Time: 4.73s\n",
      "│ Total Epoch Time: 39.09s\n",
      "│ Best Val Acc: 0.3462 (Epoch 3)\n",
      "│ GPU Memory: 0.5GB / 4.0GB\n",
      "================================================================================\n",
      "\n",
      "📈 Epoch 38/50\n",
      "--------------------------------------------------\n",
      "🔄 Training Phase...\n"
     ]
    },
    {
     "name": "stderr",
     "output_type": "stream",
     "text": [
      "Training: 100%|██████████████████████████████| 48/48 [00:34<00:00,  1.41it/s, Loss=1.6293, Acc=0.3021]\n"
     ]
    },
    {
     "name": "stdout",
     "output_type": "stream",
     "text": [
      "✅ Training completed in 34.08s\n",
      "🔍 Validation Phase...\n"
     ]
    },
    {
     "name": "stderr",
     "output_type": "stream",
     "text": [
      "Validation: 100%|██████████████████████████████| 13/13 [00:04<00:00,  2.82it/s, Loss=1.6572, Acc=0.2500]\n"
     ]
    },
    {
     "name": "stdout",
     "output_type": "stream",
     "text": [
      "✅ Validation completed in 4.61s\n",
      "\n",
      "📊 Epoch 38 Summary:\n",
      "│ Train Loss: 1.6293 | Train Acc: 0.3021\n",
      "│ Val Loss:   1.6572 | Val Acc:   0.2500\n",
      "│ Train Time: 34.08s | Val Time: 4.61s\n",
      "│ Total Epoch Time: 38.69s\n",
      "│ Best Val Acc: 0.3462 (Epoch 3)\n",
      "│ GPU Memory: 0.5GB / 4.0GB\n",
      "================================================================================\n",
      "\n",
      "📈 Epoch 39/50\n",
      "--------------------------------------------------\n",
      "🔄 Training Phase...\n"
     ]
    },
    {
     "name": "stderr",
     "output_type": "stream",
     "text": [
      "Training: 100%|██████████████████████████████| 48/48 [00:34<00:00,  1.41it/s, Loss=1.6338, Acc=0.2780]\n"
     ]
    },
    {
     "name": "stdout",
     "output_type": "stream",
     "text": [
      "✅ Training completed in 34.05s\n",
      "🔍 Validation Phase...\n"
     ]
    },
    {
     "name": "stderr",
     "output_type": "stream",
     "text": [
      "Validation: 100%|██████████████████████████████| 13/13 [00:04<00:00,  2.73it/s, Loss=1.6635, Acc=0.2885]\n"
     ]
    },
    {
     "name": "stdout",
     "output_type": "stream",
     "text": [
      "✅ Validation completed in 4.77s\n",
      "\n",
      "📊 Epoch 39 Summary:\n",
      "│ Train Loss: 1.6338 | Train Acc: 0.2780\n",
      "│ Val Loss:   1.6635 | Val Acc:   0.2885\n",
      "│ Train Time: 34.05s | Val Time: 4.77s\n",
      "│ Total Epoch Time: 38.83s\n",
      "│ Best Val Acc: 0.3462 (Epoch 3)\n",
      "│ GPU Memory: 0.5GB / 4.0GB\n",
      "================================================================================\n",
      "\n",
      "📈 Epoch 40/50\n",
      "--------------------------------------------------\n",
      "🔄 Training Phase...\n"
     ]
    },
    {
     "name": "stderr",
     "output_type": "stream",
     "text": [
      "Training: 100%|██████████████████████████████| 48/48 [00:34<00:00,  1.39it/s, Loss=1.6316, Acc=0.2878]\n"
     ]
    },
    {
     "name": "stdout",
     "output_type": "stream",
     "text": [
      "✅ Training completed in 34.47s\n",
      "🔍 Validation Phase...\n"
     ]
    },
    {
     "name": "stderr",
     "output_type": "stream",
     "text": [
      "Validation: 100%|██████████████████████████████| 13/13 [00:04<00:00,  2.75it/s, Loss=1.6555, Acc=0.2885]\n"
     ]
    },
    {
     "name": "stdout",
     "output_type": "stream",
     "text": [
      "✅ Validation completed in 4.74s\n",
      "\n",
      "📊 Epoch 40 Summary:\n",
      "│ Train Loss: 1.6316 | Train Acc: 0.2878\n",
      "│ Val Loss:   1.6555 | Val Acc:   0.2885\n",
      "│ Train Time: 34.47s | Val Time: 4.74s\n",
      "│ Total Epoch Time: 39.21s\n",
      "│ Best Val Acc: 0.3462 (Epoch 3)\n",
      "│ GPU Memory: 0.5GB / 4.0GB\n",
      "================================================================================\n",
      "\n",
      "📈 Epoch 41/50\n",
      "--------------------------------------------------\n",
      "🔄 Training Phase...\n"
     ]
    },
    {
     "name": "stderr",
     "output_type": "stream",
     "text": [
      "Training: 100%|██████████████████████████████| 48/48 [00:34<00:00,  1.41it/s, Loss=1.6277, Acc=0.2982]\n"
     ]
    },
    {
     "name": "stdout",
     "output_type": "stream",
     "text": [
      "✅ Training completed in 34.07s\n",
      "🔍 Validation Phase...\n"
     ]
    },
    {
     "name": "stderr",
     "output_type": "stream",
     "text": [
      "Validation: 100%|██████████████████████████████| 13/13 [00:04<00:00,  2.80it/s, Loss=1.6593, Acc=0.2885]\n"
     ]
    },
    {
     "name": "stdout",
     "output_type": "stream",
     "text": [
      "✅ Validation completed in 4.65s\n",
      "\n",
      "📊 Epoch 41 Summary:\n",
      "│ Train Loss: 1.6277 | Train Acc: 0.2982\n",
      "│ Val Loss:   1.6593 | Val Acc:   0.2885\n",
      "│ Train Time: 34.07s | Val Time: 4.65s\n",
      "│ Total Epoch Time: 38.72s\n",
      "│ Best Val Acc: 0.3462 (Epoch 3)\n",
      "│ GPU Memory: 0.5GB / 4.0GB\n",
      "================================================================================\n",
      "\n",
      "📈 Epoch 42/50\n",
      "--------------------------------------------------\n",
      "🔄 Training Phase...\n"
     ]
    },
    {
     "name": "stderr",
     "output_type": "stream",
     "text": [
      "Training: 100%|██████████████████████████████| 48/48 [00:34<00:00,  1.41it/s, Loss=1.6303, Acc=0.2956]\n"
     ]
    },
    {
     "name": "stdout",
     "output_type": "stream",
     "text": [
      "✅ Training completed in 34.13s\n",
      "🔍 Validation Phase...\n"
     ]
    },
    {
     "name": "stderr",
     "output_type": "stream",
     "text": [
      "Validation: 100%|██████████████████████████████| 13/13 [00:04<00:00,  2.79it/s, Loss=1.6628, Acc=0.2885]\n"
     ]
    },
    {
     "name": "stdout",
     "output_type": "stream",
     "text": [
      "✅ Validation completed in 4.66s\n",
      "\n",
      "📊 Epoch 42 Summary:\n",
      "│ Train Loss: 1.6303 | Train Acc: 0.2956\n",
      "│ Val Loss:   1.6628 | Val Acc:   0.2885\n",
      "│ Train Time: 34.13s | Val Time: 4.66s\n",
      "│ Total Epoch Time: 38.80s\n",
      "│ Best Val Acc: 0.3462 (Epoch 3)\n",
      "│ GPU Memory: 0.5GB / 4.0GB\n",
      "================================================================================\n",
      "\n",
      "📈 Epoch 43/50\n",
      "--------------------------------------------------\n",
      "🔄 Training Phase...\n"
     ]
    },
    {
     "name": "stderr",
     "output_type": "stream",
     "text": [
      "Training: 100%|██████████████████████████████| 48/48 [00:34<00:00,  1.41it/s, Loss=1.6264, Acc=0.2923]\n"
     ]
    },
    {
     "name": "stdout",
     "output_type": "stream",
     "text": [
      "✅ Training completed in 34.02s\n",
      "🔍 Validation Phase...\n"
     ]
    },
    {
     "name": "stderr",
     "output_type": "stream",
     "text": [
      "Validation: 100%|██████████████████████████████| 13/13 [00:04<00:00,  2.69it/s, Loss=1.6605, Acc=0.2885]\n"
     ]
    },
    {
     "name": "stdout",
     "output_type": "stream",
     "text": [
      "✅ Validation completed in 4.84s\n",
      "\n",
      "📊 Epoch 43 Summary:\n",
      "│ Train Loss: 1.6264 | Train Acc: 0.2923\n",
      "│ Val Loss:   1.6605 | Val Acc:   0.2885\n",
      "│ Train Time: 34.02s | Val Time: 4.84s\n",
      "│ Total Epoch Time: 38.86s\n",
      "│ Best Val Acc: 0.3462 (Epoch 3)\n",
      "│ GPU Memory: 0.5GB / 4.0GB\n",
      "================================================================================\n",
      "\n",
      "📈 Epoch 44/50\n",
      "--------------------------------------------------\n",
      "🔄 Training Phase...\n"
     ]
    },
    {
     "name": "stderr",
     "output_type": "stream",
     "text": [
      "Training: 100%|██████████████████████████████| 48/48 [00:34<00:00,  1.41it/s, Loss=1.6266, Acc=0.2956]\n"
     ]
    },
    {
     "name": "stdout",
     "output_type": "stream",
     "text": [
      "✅ Training completed in 34.13s\n",
      "🔍 Validation Phase...\n"
     ]
    },
    {
     "name": "stderr",
     "output_type": "stream",
     "text": [
      "Validation: 100%|██████████████████████████████| 13/13 [00:04<00:00,  2.84it/s, Loss=1.6571, Acc=0.2885]\n"
     ]
    },
    {
     "name": "stdout",
     "output_type": "stream",
     "text": [
      "✅ Validation completed in 4.59s\n",
      "\n",
      "📊 Epoch 44 Summary:\n",
      "│ Train Loss: 1.6266 | Train Acc: 0.2956\n",
      "│ Val Loss:   1.6571 | Val Acc:   0.2885\n",
      "│ Train Time: 34.13s | Val Time: 4.59s\n",
      "│ Total Epoch Time: 38.73s\n",
      "│ Best Val Acc: 0.3462 (Epoch 3)\n",
      "│ GPU Memory: 0.5GB / 4.0GB\n",
      "================================================================================\n",
      "\n",
      "📈 Epoch 45/50\n",
      "--------------------------------------------------\n",
      "🔄 Training Phase...\n"
     ]
    },
    {
     "name": "stderr",
     "output_type": "stream",
     "text": [
      "Training: 100%|██████████████████████████████| 48/48 [00:34<00:00,  1.41it/s, Loss=1.6253, Acc=0.2884]\n"
     ]
    },
    {
     "name": "stdout",
     "output_type": "stream",
     "text": [
      "✅ Training completed in 34.13s\n",
      "🔍 Validation Phase...\n"
     ]
    },
    {
     "name": "stderr",
     "output_type": "stream",
     "text": [
      "Validation: 100%|██████████████████████████████| 13/13 [00:04<00:00,  2.79it/s, Loss=1.6654, Acc=0.2885]\n"
     ]
    },
    {
     "name": "stdout",
     "output_type": "stream",
     "text": [
      "✅ Validation completed in 4.67s\n",
      "\n",
      "📊 Epoch 45 Summary:\n",
      "│ Train Loss: 1.6253 | Train Acc: 0.2884\n",
      "│ Val Loss:   1.6654 | Val Acc:   0.2885\n",
      "│ Train Time: 34.13s | Val Time: 4.67s\n",
      "│ Total Epoch Time: 38.81s\n",
      "│ Best Val Acc: 0.3462 (Epoch 3)\n",
      "│ GPU Memory: 0.5GB / 4.0GB\n",
      "================================================================================\n",
      "\n",
      "📈 Epoch 46/50\n",
      "--------------------------------------------------\n",
      "🔄 Training Phase...\n"
     ]
    },
    {
     "name": "stderr",
     "output_type": "stream",
     "text": [
      "Training: 100%|██████████████████████████████| 48/48 [00:34<00:00,  1.41it/s, Loss=1.6310, Acc=0.2930]\n"
     ]
    },
    {
     "name": "stdout",
     "output_type": "stream",
     "text": [
      "✅ Training completed in 34.01s\n",
      "🔍 Validation Phase...\n"
     ]
    },
    {
     "name": "stderr",
     "output_type": "stream",
     "text": [
      "Validation: 100%|██████████████████████████████| 13/13 [00:04<00:00,  2.77it/s, Loss=1.6552, Acc=0.2885]\n"
     ]
    },
    {
     "name": "stdout",
     "output_type": "stream",
     "text": [
      "✅ Validation completed in 4.69s\n",
      "\n",
      "📊 Epoch 46 Summary:\n",
      "│ Train Loss: 1.6310 | Train Acc: 0.2930\n",
      "│ Val Loss:   1.6552 | Val Acc:   0.2885\n",
      "│ Train Time: 34.01s | Val Time: 4.69s\n",
      "│ Total Epoch Time: 38.71s\n",
      "│ Best Val Acc: 0.3462 (Epoch 3)\n",
      "│ GPU Memory: 0.5GB / 4.0GB\n",
      "================================================================================\n",
      "\n",
      "📈 Epoch 47/50\n",
      "--------------------------------------------------\n",
      "🔄 Training Phase...\n"
     ]
    },
    {
     "name": "stderr",
     "output_type": "stream",
     "text": [
      "Training: 100%|██████████████████████████████| 48/48 [00:34<00:00,  1.41it/s, Loss=1.6268, Acc=0.3021]\n"
     ]
    },
    {
     "name": "stdout",
     "output_type": "stream",
     "text": [
      "✅ Training completed in 34.07s\n",
      "🔍 Validation Phase...\n"
     ]
    },
    {
     "name": "stderr",
     "output_type": "stream",
     "text": [
      "Validation: 100%|██████████████████████████████| 13/13 [00:04<00:00,  2.81it/s, Loss=1.6726, Acc=0.2885]\n"
     ]
    },
    {
     "name": "stdout",
     "output_type": "stream",
     "text": [
      "✅ Validation completed in 4.63s\n",
      "\n",
      "📊 Epoch 47 Summary:\n",
      "│ Train Loss: 1.6268 | Train Acc: 0.3021\n",
      "│ Val Loss:   1.6726 | Val Acc:   0.2885\n",
      "│ Train Time: 34.07s | Val Time: 4.63s\n",
      "│ Total Epoch Time: 38.70s\n",
      "│ Best Val Acc: 0.3462 (Epoch 3)\n",
      "│ GPU Memory: 0.5GB / 4.0GB\n",
      "================================================================================\n",
      "\n",
      "📈 Epoch 48/50\n",
      "--------------------------------------------------\n",
      "🔄 Training Phase...\n"
     ]
    },
    {
     "name": "stderr",
     "output_type": "stream",
     "text": [
      "Training: 100%|██████████████████████████████| 48/48 [00:34<00:00,  1.41it/s, Loss=1.6289, Acc=0.2884]\n"
     ]
    },
    {
     "name": "stdout",
     "output_type": "stream",
     "text": [
      "✅ Training completed in 34.06s\n",
      "🔍 Validation Phase...\n"
     ]
    },
    {
     "name": "stderr",
     "output_type": "stream",
     "text": [
      "Validation: 100%|██████████████████████████████| 13/13 [00:04<00:00,  2.81it/s, Loss=1.6554, Acc=0.2885]\n"
     ]
    },
    {
     "name": "stdout",
     "output_type": "stream",
     "text": [
      "✅ Validation completed in 4.63s\n",
      "\n",
      "📊 Epoch 48 Summary:\n",
      "│ Train Loss: 1.6289 | Train Acc: 0.2884\n",
      "│ Val Loss:   1.6554 | Val Acc:   0.2885\n",
      "│ Train Time: 34.06s | Val Time: 4.63s\n",
      "│ Total Epoch Time: 38.70s\n",
      "│ Best Val Acc: 0.3462 (Epoch 3)\n",
      "│ GPU Memory: 0.5GB / 4.0GB\n",
      "================================================================================\n",
      "\n",
      "📈 Epoch 49/50\n",
      "--------------------------------------------------\n",
      "🔄 Training Phase...\n"
     ]
    },
    {
     "name": "stderr",
     "output_type": "stream",
     "text": [
      "Training: 100%|██████████████████████████████| 48/48 [00:34<00:00,  1.40it/s, Loss=1.6269, Acc=0.2969]\n"
     ]
    },
    {
     "name": "stdout",
     "output_type": "stream",
     "text": [
      "✅ Training completed in 34.24s\n",
      "🔍 Validation Phase...\n"
     ]
    },
    {
     "name": "stderr",
     "output_type": "stream",
     "text": [
      "Validation: 100%|██████████████████████████████| 13/13 [00:04<00:00,  2.77it/s, Loss=1.6575, Acc=0.2885]\n"
     ]
    },
    {
     "name": "stdout",
     "output_type": "stream",
     "text": [
      "✅ Validation completed in 4.70s\n",
      "\n",
      "📊 Epoch 49 Summary:\n",
      "│ Train Loss: 1.6269 | Train Acc: 0.2969\n",
      "│ Val Loss:   1.6575 | Val Acc:   0.2885\n",
      "│ Train Time: 34.24s | Val Time: 4.70s\n",
      "│ Total Epoch Time: 38.94s\n",
      "│ Best Val Acc: 0.3462 (Epoch 3)\n",
      "│ GPU Memory: 0.5GB / 4.0GB\n",
      "================================================================================\n",
      "\n",
      "📈 Epoch 50/50\n",
      "--------------------------------------------------\n",
      "🔄 Training Phase...\n"
     ]
    },
    {
     "name": "stderr",
     "output_type": "stream",
     "text": [
      "Training: 100%|██████████████████████████████| 48/48 [00:34<00:00,  1.41it/s, Loss=1.6259, Acc=0.2904]\n"
     ]
    },
    {
     "name": "stdout",
     "output_type": "stream",
     "text": [
      "✅ Training completed in 34.15s\n",
      "🔍 Validation Phase...\n"
     ]
    },
    {
     "name": "stderr",
     "output_type": "stream",
     "text": [
      "Validation: 100%|██████████████████████████████| 13/13 [00:04<00:00,  2.83it/s, Loss=1.6565, Acc=0.2885]\n"
     ]
    },
    {
     "name": "stdout",
     "output_type": "stream",
     "text": [
      "✅ Validation completed in 4.59s\n",
      "\n",
      "📊 Epoch 50 Summary:\n",
      "│ Train Loss: 1.6259 | Train Acc: 0.2904\n",
      "│ Val Loss:   1.6565 | Val Acc:   0.2885\n",
      "│ Train Time: 34.15s | Val Time: 4.59s\n",
      "│ Total Epoch Time: 38.74s\n",
      "│ Best Val Acc: 0.3462 (Epoch 3)\n",
      "│ GPU Memory: 0.5GB / 4.0GB\n",
      "================================================================================\n",
      "\n",
      "💾 Best Swin Transformer model saved as 'best_swin_transformer_model.pth'\n",
      "📊 Best model stats:\n",
      "│ Best Epoch: 3\n",
      "│ Best Val Acc: 0.3462\n",
      "\n",
      "💾 Swin Transformer training history saved to 'swin_transformer_training_history.csv'\n",
      "\n",
      "🎉 Swin Transformer Training Complete!\n",
      "Total Training Time: 1945.33s (32.4 minutes)\n",
      "Average Epoch Time: 38.91s\n",
      "\n",
      "⏱️  Epoch Timing Breakdown:\n",
      "│ Epoch 1: 46.26s\n",
      "│ Epoch 2: 34.75s\n",
      "│ Epoch 3: 35.76s\n",
      "│ Epoch 4: 36.87s\n",
      "│ Epoch 5: 38.64s\n",
      "│ Epoch 6: 39.68s\n",
      "│ Epoch 7: 39.07s\n",
      "│ Epoch 8: 39.24s\n",
      "│ Epoch 9: 39.18s\n",
      "│ Epoch 10: 39.13s\n",
      "│ Epoch 11: 39.29s\n",
      "│ Epoch 12: 38.96s\n",
      "│ Epoch 13: 39.16s\n",
      "│ Epoch 14: 38.90s\n",
      "│ Epoch 15: 39.03s\n",
      "│ Epoch 16: 38.82s\n",
      "│ Epoch 17: 39.06s\n",
      "│ Epoch 18: 38.92s\n",
      "│ Epoch 19: 39.28s\n",
      "│ Epoch 20: 38.91s\n",
      "│ Epoch 21: 38.93s\n",
      "│ Epoch 22: 38.65s\n",
      "│ Epoch 23: 38.72s\n",
      "│ Epoch 24: 38.61s\n",
      "│ Epoch 25: 38.93s\n",
      "│ Epoch 26: 38.84s\n",
      "│ Epoch 27: 38.89s\n",
      "│ Epoch 28: 39.15s\n",
      "│ Epoch 29: 39.35s\n",
      "│ Epoch 30: 39.17s\n",
      "│ Epoch 31: 39.07s\n",
      "│ Epoch 32: 38.68s\n",
      "│ Epoch 33: 39.11s\n",
      "│ Epoch 34: 38.75s\n",
      "│ Epoch 35: 39.01s\n",
      "│ Epoch 36: 38.98s\n",
      "│ Epoch 37: 39.09s\n",
      "│ Epoch 38: 38.69s\n",
      "│ Epoch 39: 38.83s\n",
      "│ Epoch 40: 39.21s\n",
      "│ Epoch 41: 38.72s\n",
      "│ Epoch 42: 38.80s\n",
      "│ Epoch 43: 38.86s\n",
      "│ Epoch 44: 38.73s\n",
      "│ Epoch 45: 38.81s\n",
      "│ Epoch 46: 38.71s\n",
      "│ Epoch 47: 38.70s\n",
      "│ Epoch 48: 38.70s\n",
      "│ Epoch 49: 38.94s\n",
      "│ Epoch 50: 38.74s\n",
      "\n",
      "🧪 Loading Best Swin Transformer Model for Testing...\n",
      "✅ Best Swin Transformer model from epoch 3 loaded successfully!\n"
     ]
    },
    {
     "name": "stderr",
     "output_type": "stream",
     "text": [
      "Testing Swin Transformer: 100%|██████████████████████████████| 17/17 [00:09<00:00,  1.83it/s]\n",
      "/usr/local/lib/python3.11/dist-packages/sklearn/metrics/_classification.py:1344: UndefinedMetricWarning: Precision and F-score are ill-defined and being set to 0.0 in labels with no predicted samples. Use `zero_division` parameter to control this behavior.\n",
      "  _warn_prf(average, modifier, msg_start, len(result))\n",
      "/usr/local/lib/python3.11/dist-packages/sklearn/metrics/_classification.py:1344: UndefinedMetricWarning: Precision and F-score are ill-defined and being set to 0.0 in labels with no predicted samples. Use `zero_division` parameter to control this behavior.\n",
      "  _warn_prf(average, modifier, msg_start, len(result))\n",
      "/usr/local/lib/python3.11/dist-packages/sklearn/metrics/_classification.py:1344: UndefinedMetricWarning: Precision and F-score are ill-defined and being set to 0.0 in labels with no predicted samples. Use `zero_division` parameter to control this behavior.\n",
      "  _warn_prf(average, modifier, msg_start, len(result))\n"
     ]
    },
    {
     "name": "stdout",
     "output_type": "stream",
     "text": [
      "✅ Swin Transformer Testing completed in 9.28s\n",
      "\n",
      "📋 Swin Transformer Classification Report:\n",
      "              precision    recall  f1-score   support\n",
      "\n",
      "        Four       0.00      0.00      0.00        40\n",
      "     Leg_Bye       0.00      0.00      0.00        40\n",
      "     No_ball       0.00      0.00      0.00       104\n",
      "         Out       0.00      0.00      0.00        48\n",
      "         Six       0.29      1.00      0.45       152\n",
      "        Wide       0.00      0.00      0.00       136\n",
      "\n",
      "    accuracy                           0.29       520\n",
      "   macro avg       0.05      0.17      0.08       520\n",
      "weighted avg       0.09      0.29      0.13       520\n",
      "\n",
      "🎯 Swin Transformer Test Accuracy: 0.2923\n",
      "\n",
      "📊 Swin Transformer Model Performance Summary:\n",
      "│ Best Validation Acc:  0.3462 (Epoch 3)\n",
      "│ Final Test Accuracy:  0.2923\n",
      "│ Val-Test Gap:         0.0538\n"
     ]
    },
    {
     "data": {
      "image/png": "[encoded data removed]",
      "text/plain": [
       "<Figure size 800x600 with 2 Axes>"
      ]
     },
     "metadata": {},
     "output_type": "display_data"
    },
    {
     "data": {
      "image/png": "[encoded data removed]",
      "text/plain": [
       "<Figure size 2000x500 with 4 Axes>"
      ]
     },
     "metadata": {},
     "output_type": "display_data"
    },
    {
     "name": "stdout",
     "output_type": "stream",
     "text": [
      "\n",
      "⏰ Swin Transformer Final Timing Summary:\n",
      "│ Total Training: 1945.33s\n",
      "│ Average per Epoch: 38.91s\n",
      "│ Testing Time: 9.28s\n",
      "│ Total Runtime: 1954.60s\n",
      "\n",
      "💾 Swin Transformer Files saved:\n",
      "│ best_swin_transformer_model.pth - Best validation accuracy model\n",
      "│ swin_transformer_training_history.csv - Training metrics for later plotting\n",
      "\n",
      "🏗️  Swin Transformer Architecture Summary:\n",
      "│ Total Parameters: 27,523,968\n",
      "│ Trainable Parameters: 27,523,968\n",
      "│ Model Size: 105.00 MB\n",
      "│ Input Size: 224x224x3\n",
      "│ Patch Size: 4x4\n",
      "│ Window Size: 7x7\n",
      "│ Embed Dimension: 96\n",
      "│ Depths: [2, 2, 6, 2]\n",
      "│ Number of Heads: [3, 6, 12, 24]\n",
      "│ Drop Path Rate: 0.1\n",
      "│ Output Classes: 6\n",
      "│ Hierarchical Structure: Yes\n",
      "│ Shifted Windows: Yes\n",
      "│ Relative Position Bias: Yes\n"
     ]
    }
   ],
   "source": [
    "# -----------------------------\n",
    "# 4. Training Loop with Best Model Saving (Val Accuracy) - Swin Transformer\n",
    "# -----------------------------\n",
    "train_losses, val_losses = [], []\n",
    "train_accs, val_accs = [], []\n",
    "epoch_times = []\n",
    "epochs = 50\n",
    "\n",
    "# Initialize best model tracking\n",
    "best_val_acc = 0.0\n",
    "best_model_state = None\n",
    "best_epoch = 0\n",
    "\n",
    "print(f\"\\n🚀 Starting Swin Transformer Training for {epochs} epochs...\")\n",
    "print(\"=\" * 80)\n",
    "\n",
    "total_start_time = time.time()\n",
    "\n",
    "for epoch in range(epochs):\n",
    "    epoch_start_time = time.time()\n",
    "    \n",
    "    print(f\"\\n📈 Epoch {epoch+1}/{epochs}\")\n",
    "    print(\"-\" * 50)\n",
    "    \n",
    "    # Training Phase\n",
    "    print(\"🔄 Training Phase...\")\n",
    "    model.train()\n",
    "    running_loss, correct, total = 0, 0, 0\n",
    "    \n",
    "    train_pbar = tqdm(train_loader, desc=f\"Training\", \n",
    "                     bar_format='{l_bar}{bar:30}{r_bar}{bar:-30b}')\n",
    "    \n",
    "    train_phase_start = time.time()\n",
    "    \n",
    "    for batch_idx, (imgs, labels) in enumerate(train_pbar):\n",
    "        imgs, labels = imgs.to(device), labels.to(device)\n",
    "        \n",
    "        optimizer.zero_grad()\n",
    "        outputs = model(imgs)\n",
    "        loss = criterion(outputs, labels)\n",
    "        loss.backward()\n",
    "        \n",
    "        # Gradient clipping for stability\n",
    "        torch.nn.utils.clip_grad_norm_(model.parameters(), max_norm=1.0)\n",
    "        \n",
    "        optimizer.step()\n",
    "        \n",
    "        running_loss += loss.item()\n",
    "        _, preds = torch.max(outputs, 1)\n",
    "        correct += (preds == labels).sum().item()\n",
    "        total += labels.size(0)\n",
    "        \n",
    "        current_acc = correct / total\n",
    "        train_pbar.set_postfix({\n",
    "            'Loss': f'{running_loss/(batch_idx+1):.4f}',\n",
    "            'Acc': f'{current_acc:.4f}'\n",
    "        })\n",
    "        \n",
    "        if device.type == 'cuda' and batch_idx % 10 == 0:\n",
    "            gpu_memory = torch.cuda.memory_allocated() / 1024**3\n",
    "            train_pbar.set_postfix({\n",
    "                'Loss': f'{running_loss/(batch_idx+1):.4f}',\n",
    "                'Acc': f'{current_acc:.4f}',\n",
    "                'GPU': f'{gpu_memory:.1f}GB'\n",
    "            })\n",
    "    \n",
    "    train_phase_time = time.time() - train_phase_start\n",
    "    train_loss = running_loss / len(train_loader)\n",
    "    train_acc = correct / total\n",
    "    train_losses.append(train_loss)\n",
    "    train_accs.append(train_acc)\n",
    "    \n",
    "    print(f\"✅ Training completed in {train_phase_time:.2f}s\")\n",
    "    \n",
    "    # Validation Phase\n",
    "    print(\"🔍 Validation Phase...\")\n",
    "    model.eval()\n",
    "    running_loss, correct, total = 0, 0, 0\n",
    "    \n",
    "    val_phase_start = time.time()\n",
    "    val_pbar = tqdm(val_loader, desc=f\"Validation\", \n",
    "                   bar_format='{l_bar}{bar:30}{r_bar}{bar:-30b}')\n",
    "    \n",
    "    with torch.no_grad():\n",
    "        for batch_idx, (imgs, labels) in enumerate(val_pbar):\n",
    "            imgs, labels = imgs.to(device), labels.to(device)\n",
    "            outputs = model(imgs)\n",
    "            loss = criterion(outputs, labels)\n",
    "            \n",
    "            running_loss += loss.item()\n",
    "            _, preds = torch.max(outputs, 1)\n",
    "            correct += (preds == labels).sum().item()\n",
    "            total += labels.size(0)\n",
    "            \n",
    "            current_acc = correct / total\n",
    "            val_pbar.set_postfix({\n",
    "                'Loss': f'{running_loss/(batch_idx+1):.4f}',\n",
    "                'Acc': f'{current_acc:.4f}'\n",
    "            })\n",
    "    \n",
    "    val_phase_time = time.time() - val_phase_start\n",
    "    val_loss = running_loss / len(val_loader)\n",
    "    val_acc = correct / total\n",
    "    val_losses.append(val_loss)\n",
    "    val_accs.append(val_acc)\n",
    "    \n",
    "    print(f\"✅ Validation completed in {val_phase_time:.2f}s\")\n",
    "    \n",
    "    # Check if this is the best model so far based on val_acc\n",
    "    is_best = val_acc > best_val_acc\n",
    "    if is_best:\n",
    "        best_val_acc = val_acc\n",
    "        best_epoch = epoch + 1\n",
    "        best_model_state = model.state_dict().copy()\n",
    "        print(f\"🌟 New best Swin Transformer model found! Validation Accuracy: {val_acc:.4f}\")\n",
    "    \n",
    "    # Epoch Summary\n",
    "    epoch_time = time.time() - epoch_start_time\n",
    "    epoch_times.append(epoch_time)\n",
    "    \n",
    "    print(f\"\\n📊 Epoch {epoch+1} Summary:\")\n",
    "    print(f\"│ Train Loss: {train_loss:.4f} | Train Acc: {train_acc:.4f}\")\n",
    "    print(f\"│ Val Loss:   {val_loss:.4f} | Val Acc:   {val_acc:.4f}\")\n",
    "    print(f\"│ Train Time: {train_phase_time:.2f}s | Val Time: {val_phase_time:.2f}s\")\n",
    "    print(f\"│ Total Epoch Time: {epoch_time:.2f}s\")\n",
    "    print(f\"│ Best Val Acc: {best_val_acc:.4f} (Epoch {best_epoch})\")\n",
    "    \n",
    "    if device.type == 'cuda':\n",
    "        print(f\"│ GPU Memory: {torch.cuda.memory_allocated()/1024**3:.1f}GB / {torch.cuda.memory_reserved()/1024**3:.1f}GB\")\n",
    "    \n",
    "    print(\"=\" * 80)\n",
    "\n",
    "total_training_time = time.time() - total_start_time\n",
    "\n",
    "# Save the best model\n",
    "if best_model_state is not None:\n",
    "    torch.save(best_model_state, 'best_swin_transformer_model.pth')\n",
    "    print(f\"\\n💾 Best Swin Transformer model saved as 'best_swin_transformer_model.pth'\")\n",
    "    print(f\"📊 Best model stats:\")\n",
    "    print(f\"│ Best Epoch: {best_epoch}\")\n",
    "    print(f\"│ Best Val Acc: {best_val_acc:.4f}\")\n",
    "\n",
    "# Save training history data to CSV\n",
    "history_data = {\n",
    "    'epoch': list(range(1, epochs+1)),\n",
    "    'train_loss': train_losses,\n",
    "    'val_loss': val_losses,\n",
    "    'train_acc': train_accs,\n",
    "    'val_acc': val_accs,\n",
    "    'epoch_time': epoch_times\n",
    "}\n",
    "history_df = pd.DataFrame(history_data)\n",
    "history_df.to_csv('swin_transformer_training_history.csv', index=False)\n",
    "print(\"\\n💾 Swin Transformer training history saved to 'swin_transformer_training_history.csv'\")\n",
    "\n",
    "# Training Summary\n",
    "print(f\"\\n🎉 Swin Transformer Training Complete!\")\n",
    "print(f\"Total Training Time: {total_training_time:.2f}s ({total_training_time/60:.1f} minutes)\")\n",
    "print(f\"Average Epoch Time: {np.mean(epoch_times):.2f}s\")\n",
    "print(\"\\n⏱️  Epoch Timing Breakdown:\")\n",
    "for i, t in enumerate(epoch_times):\n",
    "    print(f\"│ Epoch {i+1}: {t:.2f}s\")\n",
    "\n",
    "# -----------------------------\n",
    "# 5. Load Best Model and Test\n",
    "# -----------------------------\n",
    "print(f\"\\n🧪 Loading Best Swin Transformer Model for Testing...\")\n",
    "\n",
    "# Load the best model state\n",
    "if best_model_state is not None:\n",
    "    model.load_state_dict(best_model_state)\n",
    "    print(f\"✅ Best Swin Transformer model from epoch {best_epoch} loaded successfully!\")\n",
    "else:\n",
    "    print(\"⚠️  No best model found, using current model state\")\n",
    "\n",
    "test_start_time = time.time()\n",
    "y_true, y_pred = [], []\n",
    "model.eval()\n",
    "\n",
    "test_pbar = tqdm(test_loader, desc=\"Testing Swin Transformer\", \n",
    "                bar_format='{l_bar}{bar:30}{r_bar}{bar:-30b}')\n",
    "\n",
    "with torch.no_grad():\n",
    "    for imgs, labels in test_pbar:\n",
    "        imgs, labels = imgs.to(device), labels.to(device)\n",
    "        outputs = model(imgs)\n",
    "        _, preds = torch.max(outputs, 1)\n",
    "        y_true.extend(labels.cpu().numpy())\n",
    "        y_pred.extend(preds.cpu().numpy())\n",
    "\n",
    "test_time = time.time() - test_start_time\n",
    "test_accuracy = accuracy_score(y_true, y_pred)\n",
    "\n",
    "print(f\"✅ Swin Transformer Testing completed in {test_time:.2f}s\")\n",
    "print(\"\\n📋 Swin Transformer Classification Report:\")\n",
    "print(classification_report(y_true, y_pred, target_names=classes))\n",
    "print(f\"🎯 Swin Transformer Test Accuracy: {test_accuracy:.4f}\")\n",
    "\n",
    "# Model Performance Summary\n",
    "print(f\"\\n📊 Swin Transformer Model Performance Summary:\")\n",
    "print(f\"│ Best Validation Acc:  {best_val_acc:.4f} (Epoch {best_epoch})\")\n",
    "print(f\"│ Final Test Accuracy:  {test_accuracy:.4f}\")\n",
    "print(f\"│ Val-Test Gap:         {abs(best_val_acc - test_accuracy):.4f}\")\n",
    "\n",
    "# Confusion Matrix\n",
    "cm = confusion_matrix(y_true, y_pred)\n",
    "plt.figure(figsize=(8, 6))\n",
    "sns.heatmap(cm, annot=True, fmt=\"d\", cmap=\"Greens\", xticklabels=classes, yticklabels=classes)\n",
    "plt.xlabel(\"Predicted\")\n",
    "plt.ylabel(\"True\")\n",
    "plt.title(f\"Swin Transformer Confusion Matrix - Best Model (Epoch {best_epoch})\")\n",
    "plt.show()\n",
    "\n",
    "# -----------------------------\n",
    "# 6. Enhanced Visualizations\n",
    "# -----------------------------\n",
    "plt.figure(figsize=(20, 5))\n",
    "\n",
    "# Loss Plot\n",
    "plt.subplot(1, 4, 1)\n",
    "plt.plot(range(1, epochs+1), train_losses, 'b-', label=\"Train Loss\", marker='o', linewidth=2)\n",
    "plt.plot(range(1, epochs+1), val_losses, 'r-', label=\"Val Loss\", marker='s', linewidth=2)\n",
    "plt.axvline(x=best_epoch, color='green', linestyle='--', alpha=0.7, label=f'Best (Epoch {best_epoch})')\n",
    "plt.legend()\n",
    "plt.title(\"Swin Transformer Loss over Epochs\")\n",
    "plt.xlabel(\"Epoch\")\n",
    "plt.ylabel(\"Loss\")\n",
    "plt.grid(True, alpha=0.3)\n",
    "\n",
    "# Accuracy Plot\n",
    "plt.subplot(1, 4, 2)\n",
    "plt.plot(range(1, epochs+1), train_accs, 'b-', label=\"Train Accuracy\", marker='o', linewidth=2)\n",
    "plt.plot(range(1, epochs+1), val_accs, 'r-', label=\"Val Accuracy\", marker='s', linewidth=2)\n",
    "plt.axvline(x=best_epoch, color='green', linestyle='--', alpha=0.7, label=f'Best (Epoch {best_epoch})')\n",
    "plt.scatter([best_epoch], [best_val_acc], color='green', s=100, zorder=5)\n",
    "plt.legend()\n",
    "plt.title(\"Swin Transformer Accuracy over Epochs\")\n",
    "plt.xlabel(\"Epoch\")\n",
    "plt.ylabel(\"Accuracy\")\n",
    "plt.grid(True, alpha=0.3)\n",
    "\n",
    "# Timing Plot\n",
    "plt.subplot(1, 4, 3)\n",
    "bars = plt.bar(range(1, epochs+1), epoch_times, color='lightgreen', alpha=0.7)\n",
    "bars[best_epoch-1].set_color('green')\n",
    "plt.title(\"Swin Transformer Training Time per Epoch\")\n",
    "plt.xlabel(\"Epoch\")\n",
    "plt.ylabel(\"Time (seconds)\")\n",
    "plt.grid(True, alpha=0.3)\n",
    "for i, t in enumerate(epoch_times):\n",
    "    plt.text(i+1, t+0.5, f'{t:.1f}s', ha='center', va='bottom')\n",
    "\n",
    "# Performance Comparison\n",
    "plt.subplot(1, 4, 4)\n",
    "metrics = ['Best Val Acc', 'Test Acc']\n",
    "values = [best_val_acc, test_accuracy]\n",
    "colors = ['lightgreen', 'green']\n",
    "bars = plt.bar(metrics, values, color=colors, alpha=0.7)\n",
    "plt.title(\"Swin Transformer Final Model Performance\")\n",
    "plt.ylabel(\"Accuracy\")\n",
    "plt.ylim(0, 1)\n",
    "plt.grid(True, alpha=0.3)\n",
    "for bar, val in zip(bars, values):\n",
    "    plt.text(bar.get_x() + bar.get_width()/2, val + 0.01, \n",
    "             f'{val:.4f}', ha='center', va='bottom')\n",
    "\n",
    "plt.tight_layout()\n",
    "plt.show()\n",
    "\n",
    "print(f\"\\n⏰ Swin Transformer Final Timing Summary:\")\n",
    "print(f\"│ Total Training: {total_training_time:.2f}s\")\n",
    "print(f\"│ Average per Epoch: {np.mean(epoch_times):.2f}s\")\n",
    "print(f\"│ Testing Time: {test_time:.2f}s\")\n",
    "print(f\"│ Total Runtime: {total_training_time + test_time:.2f}s\")\n",
    "\n",
    "print(f\"\\n💾 Swin Transformer Files saved:\")\n",
    "print(f\"│ best_swin_transformer_model.pth - Best validation accuracy model\")\n",
    "print(f\"│ swin_transformer_training_history.csv - Training metrics for later plotting\")\n",
    "\n",
    "# -----------------------------\n",
    "# 7. Swin Transformer Architecture Summary\n",
    "# -----------------------------\n",
    "print(f\"\\n🏗️  Swin Transformer Architecture Summary:\")\n",
    "print(f\"│ Total Parameters: {sum(p.numel() for p in model.parameters()):,}\")\n",
    "print(f\"│ Trainable Parameters: {sum(p.numel() for p in model.parameters() if p.requires_grad):,}\")\n",
    "print(f\"│ Model Size: {sum(p.numel() * p.element_size() for p in model.parameters()) / 1024**2:.2f} MB\")\n",
    "print(f\"│ Input Size: 224x224x3\")\n",
    "print(f\"│ Patch Size: 4x4\")\n",
    "print(f\"│ Window Size: 7x7\")\n",
    "print(f\"│ Embed Dimension: {model.embed_dim}\")\n",
    "print(f\"│ Depths: {[2, 2, 6, 2]}\")\n",
    "print(f\"│ Number of Heads: {[3, 6, 12, 24]}\")\n",
    "print(f\"│ Drop Path Rate: 0.1\")\n",
    "print(f\"│ Output Classes: {len(classes)}\")\n",
    "print(f\"│ Hierarchical Structure: Yes\")\n",
    "print(f\"│ Shifted Windows: Yes\")\n",
    "print(f\"│ Relative Position Bias: Yes\")"
   ]
  }
 ],
 "metadata": {
  "kaggle": {
   "accelerator": "nvidiaTeslaT4",
   "dataSources": [
    {
     "datasetId": 7735666,
     "sourceId": 12275446,
     "sourceType": "datasetVersion"
    }
   ],
   "dockerImageVersionId": 31090,
   "isGpuEnabled": true,
   "isInternetEnabled": true,
   "language": "python",
   "sourceType": "notebook"
  },
  "kernelspec": {
   "display_name": "Python 3",
   "language": "python",
   "name": "python3"
  },
  "language_info": {
   "codemirror_mode": {
    "name": "ipython",
    "version": 3
   },
   "file_extension": ".py",
   "mimetype": "text/x-python",
   "name": "python",
   "nbconvert_exporter": "python",
   "pygments_lexer": "ipython3",
   "version": "3.11.13"
  },
  "papermill": {
   "default_parameters": {},
   "duration": 1990.178525,
   "end_time": "2025-09-08T15:15:32.905658",
   "environment_variables": {},
   "exception": null,
   "input_path": "__notebook__.ipynb",
   "output_path": "__notebook__.ipynb",
   "parameters": {},
   "start_time": "2025-09-08T14:42:22.727133",
   "version": "2.6.0"
  }
 },
 "nbformat": 4,
 "nbformat_minor": 5
}
