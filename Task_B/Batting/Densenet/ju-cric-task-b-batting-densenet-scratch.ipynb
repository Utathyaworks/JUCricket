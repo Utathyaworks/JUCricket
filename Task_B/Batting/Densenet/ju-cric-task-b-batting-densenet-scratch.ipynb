{
 "cells": [
  {
   "cell_type": "code",
   "execution_count": 1,
   "id": "369ab458",
   "metadata": {
    "_cell_guid": "b1076dfc-b9ad-4769-8c92-a6c4dae69d19",
    "_uuid": "8f2839f25d086af736a60e9eeb907d3b93b6e0e5",
    "execution": {
     "iopub.execute_input": "2025-09-07T17:12:31.269033Z",
     "iopub.status.busy": "2025-09-07T17:12:31.268783Z",
     "iopub.status.idle": "2025-09-07T17:12:51.385596Z",
     "shell.execute_reply": "2025-09-07T17:12:51.384664Z"
    },
    "papermill": {
     "duration": 20.122109,
     "end_time": "2025-09-07T17:12:51.387031",
     "exception": false,
     "start_time": "2025-09-07T17:12:31.264922",
     "status": "completed"
    },
    "tags": []
   },
   "outputs": [
    {
     "name": "stdout",
     "output_type": "stream",
     "text": [
      "Classes: ['Cut', 'Drive', 'Leg Shot', 'PullShot', 'Scoop', 'Straight', 'Sweep']\n"
     ]
    }
   ],
   "source": [
    "import torch\n",
    "import torch.nn as nn\n",
    "import torch.nn.functional as F\n",
    "from torch.utils.data import DataLoader\n",
    "from torchvision import datasets, transforms\n",
    "from torchsummary import summary\n",
    "import matplotlib.pyplot as plt\n",
    "from sklearn.metrics import classification_report, confusion_matrix, accuracy_score\n",
    "import seaborn as sns\n",
    "import numpy as np\n",
    "\n",
    "# -----------------------------\n",
    "# 1. Data Preprocessing\n",
    "# -----------------------------\n",
    "data_dir = \"/kaggle/input/ju-cricket/Cricket_Dataset_final/Task_B\"\n",
    "\n",
    "transform = transforms.Compose([\n",
    "    transforms.Resize((224, 224)),\n",
    "    transforms.ToTensor(),\n",
    "    transforms.Normalize([0.485, 0.456, 0.406], \n",
    "                         [0.229, 0.224, 0.225])\n",
    "])\n",
    "\n",
    "train_ds = datasets.ImageFolder(f\"{data_dir}/train/Batting\", transform=transform)\n",
    "val_ds   = datasets.ImageFolder(f\"{data_dir}/val/Batting\", transform=transform)\n",
    "test_ds  = datasets.ImageFolder(f\"{data_dir}/test/Batting\", transform=transform)\n",
    "\n",
    "train_loader = DataLoader(train_ds, batch_size=32, shuffle=True)\n",
    "val_loader   = DataLoader(val_ds, batch_size=32, shuffle=False)\n",
    "test_loader  = DataLoader(test_ds, batch_size=32, shuffle=False)\n",
    "\n",
    "classes = train_ds.classes\n",
    "print(\"Classes:\", classes)"
   ]
  },
  {
   "cell_type": "code",
   "execution_count": 2,
   "id": "d70b7431",
   "metadata": {
    "execution": {
     "iopub.execute_input": "2025-09-07T17:12:51.395672Z",
     "iopub.status.busy": "2025-09-07T17:12:51.395279Z",
     "iopub.status.idle": "2025-09-07T17:12:51.399939Z",
     "shell.execute_reply": "2025-09-07T17:12:51.399300Z"
    },
    "papermill": {
     "duration": 0.009097,
     "end_time": "2025-09-07T17:12:51.401123",
     "exception": false,
     "start_time": "2025-09-07T17:12:51.392026",
     "status": "completed"
    },
    "tags": []
   },
   "outputs": [
    {
     "name": "stdout",
     "output_type": "stream",
     "text": [
      "Total training images: 5814\n",
      "Total validation images: 1494\n",
      "Total test images: 1863\n",
      "Total images in dataset: 9171\n"
     ]
    }
   ],
   "source": [
    "print(\"Total training images:\", len(train_ds))\n",
    "print(\"Total validation images:\", len(val_ds))\n",
    "print(\"Total test images:\", len(test_ds))\n",
    "\n",
    "total_images = len(train_ds) + len(val_ds) + len(test_ds)\n",
    "print(\"Total images in dataset:\", total_images)"
   ]
  },
  {
   "cell_type": "code",
   "execution_count": 3,
   "id": "7270202e",
   "metadata": {
    "execution": {
     "iopub.execute_input": "2025-09-07T17:12:51.406631Z",
     "iopub.status.busy": "2025-09-07T17:12:51.406408Z",
     "iopub.status.idle": "2025-09-07T17:12:51.416612Z",
     "shell.execute_reply": "2025-09-07T17:12:51.415826Z"
    },
    "papermill": {
     "duration": 0.014109,
     "end_time": "2025-09-07T17:12:51.417615",
     "exception": false,
     "start_time": "2025-09-07T17:12:51.403506",
     "status": "completed"
    },
    "tags": []
   },
   "outputs": [
    {
     "name": "stdout",
     "output_type": "stream",
     "text": [
      "Training images (excluding 'random_occlusion'): 5168\n",
      "Validation images (excluding 'random_occlusion'): 1328\n",
      "Test images (excluding 'random_occlusion'): 1656\n",
      "Total images (excluding 'random_occlusion'): 8152\n"
     ]
    }
   ],
   "source": [
    "ignore_folder = \"random_occlusion\"\n",
    "\n",
    "def count_images_ignore_folder(dataset, ignore_folder):\n",
    "    count = 0\n",
    "    for img_path, label in dataset.samples:\n",
    "        # Skip if the image path contains the ignore_folder\n",
    "        if ignore_folder not in img_path.split(\"/\"):\n",
    "            count += 1\n",
    "    return count\n",
    "\n",
    "train_count = count_images_ignore_folder(train_ds, ignore_folder)\n",
    "val_count   = count_images_ignore_folder(val_ds, ignore_folder)\n",
    "test_count  = count_images_ignore_folder(test_ds, ignore_folder)\n",
    "\n",
    "total_count = train_count + val_count + test_count\n",
    "\n",
    "print(\"Training images (excluding '{}'): {}\".format(ignore_folder, train_count))\n",
    "print(\"Validation images (excluding '{}'): {}\".format(ignore_folder, val_count))\n",
    "print(\"Test images (excluding '{}'): {}\".format(ignore_folder, test_count))\n",
    "print(\"Total images (excluding '{}'): {}\".format(ignore_folder, total_count))"
   ]
  },
  {
   "cell_type": "code",
   "execution_count": 4,
   "id": "f09c4bb9",
   "metadata": {
    "execution": {
     "iopub.execute_input": "2025-09-07T17:12:51.423513Z",
     "iopub.status.busy": "2025-09-07T17:12:51.422946Z",
     "iopub.status.idle": "2025-09-07T17:12:51.436597Z",
     "shell.execute_reply": "2025-09-07T17:12:51.436030Z"
    },
    "papermill": {
     "duration": 0.017537,
     "end_time": "2025-09-07T17:12:51.437598",
     "exception": false,
     "start_time": "2025-09-07T17:12:51.420061",
     "status": "completed"
    },
    "tags": []
   },
   "outputs": [
    {
     "name": "stdout",
     "output_type": "stream",
     "text": [
      "Training folders considered: {'dirty_lens', 'motion_blur', 'random_occlusion', 'gaussian_noise', 'blur', 'low_resolution', 'lens_flare', 'original', 'chromatic_aberration'}\n",
      "Validation folders considered: {'dirty_lens', 'motion_blur', 'random_occlusion', 'gaussian_noise', 'blur', 'low_resolution', 'lens_flare', 'original', 'chromatic_aberration'}\n",
      "Test folders considered: {'dirty_lens', 'motion_blur', 'random_occlusion', 'gaussian_noise', 'blur', 'low_resolution', 'lens_flare', 'original', 'chromatic_aberration'}\n"
     ]
    }
   ],
   "source": [
    "ignore_folder = \"random_occlusionw\"\n",
    "\n",
    "def get_included_folders(dataset, ignore_folder):\n",
    "    included = set()\n",
    "    for img_path, label in dataset.samples:\n",
    "        # Split the path into parts and ignore if ignore_folder is in the path\n",
    "        if ignore_folder not in img_path.split(\"/\"):\n",
    "            # The folder name just above the image (or the class folder)\n",
    "            folder_name = img_path.split(\"/\")[-2]\n",
    "            included.add(folder_name)\n",
    "    return included\n",
    "\n",
    "train_folders = get_included_folders(train_ds, ignore_folder)\n",
    "val_folders   = get_included_folders(val_ds, ignore_folder)\n",
    "test_folders  = get_included_folders(test_ds, ignore_folder)\n",
    "\n",
    "print(\"Training folders considered:\", train_folders)\n",
    "print(\"Validation folders considered:\", val_folders)\n",
    "print(\"Test folders considered:\", test_folders)"
   ]
  },
  {
   "cell_type": "code",
   "execution_count": 5,
   "id": "1a960b43",
   "metadata": {
    "execution": {
     "iopub.execute_input": "2025-09-07T17:12:51.443155Z",
     "iopub.status.busy": "2025-09-07T17:12:51.442917Z",
     "iopub.status.idle": "2025-09-07T17:12:51.730306Z",
     "shell.execute_reply": "2025-09-07T17:12:51.729662Z"
    },
    "papermill": {
     "duration": 0.291443,
     "end_time": "2025-09-07T17:12:51.731483",
     "exception": false,
     "start_time": "2025-09-07T17:12:51.440040",
     "status": "completed"
    },
    "tags": []
   },
   "outputs": [
    {
     "name": "stdout",
     "output_type": "stream",
     "text": [
      "Classes: ['Cut', 'Drive', 'Leg Shot', 'PullShot', 'Scoop', 'Straight', 'Sweep']\n",
      "Final Training images: 5168\n",
      "Final Validation images: 1328\n",
      "Final Test images: 1656\n",
      "Total images after filtering: 8152\n"
     ]
    }
   ],
   "source": [
    "ignore_folder = \"random_occlusion\"\n",
    "\n",
    "def filter_samples(dataset, ignore_folder):\n",
    "    # Keep only samples where ignore_folder is NOT in the path\n",
    "    filtered_samples = [s for s in dataset.samples if ignore_folder not in s[0].split(\"/\")]\n",
    "    dataset.samples = filtered_samples\n",
    "    dataset.targets = [s[1] for s in filtered_samples]  # Update targets accordingly\n",
    "    return dataset\n",
    "\n",
    "# Create original datasets\n",
    "train_ds = datasets.ImageFolder(f\"{data_dir}/train/Batting\", transform=transform)\n",
    "val_ds   = datasets.ImageFolder(f\"{data_dir}/val/Batting\", transform=transform)\n",
    "test_ds  = datasets.ImageFolder(f\"{data_dir}/test/Batting\", transform=transform)\n",
    "\n",
    "# Filter out 'random_occlusion' folder\n",
    "train_ds = filter_samples(train_ds, ignore_folder)\n",
    "val_ds   = filter_samples(val_ds, ignore_folder)\n",
    "test_ds  = filter_samples(test_ds, ignore_folder)\n",
    "\n",
    "# DataLoaders\n",
    "train_loader = DataLoader(train_ds, batch_size=32, shuffle=True)\n",
    "val_loader   = DataLoader(val_ds, batch_size=32, shuffle=False)\n",
    "test_loader  = DataLoader(test_ds, batch_size=32, shuffle=False)\n",
    "\n",
    "# Classes (will remain the same)\n",
    "classes = train_ds.classes\n",
    "print(\"Classes:\", classes)\n",
    "\n",
    "# Show counts\n",
    "print(\"Final Training images:\", len(train_ds))\n",
    "print(\"Final Validation images:\", len(val_ds))\n",
    "print(\"Final Test images:\", len(test_ds))\n",
    "print(\"Total images after filtering:\", len(train_ds) + len(val_ds) + len(test_ds))"
   ]
  },
  {
   "cell_type": "code",
   "execution_count": 6,
   "id": "0cfe6ac1",
   "metadata": {
    "execution": {
     "iopub.execute_input": "2025-09-07T17:12:51.737427Z",
     "iopub.status.busy": "2025-09-07T17:12:51.737224Z",
     "iopub.status.idle": "2025-09-07T17:12:51.749690Z",
     "shell.execute_reply": "2025-09-07T17:12:51.749005Z"
    },
    "papermill": {
     "duration": 0.016588,
     "end_time": "2025-09-07T17:12:51.750741",
     "exception": false,
     "start_time": "2025-09-07T17:12:51.734153",
     "status": "completed"
    },
    "tags": []
   },
   "outputs": [
    {
     "name": "stdout",
     "output_type": "stream",
     "text": [
      "Training folders considered: {'dirty_lens', 'motion_blur', 'gaussian_noise', 'blur', 'low_resolution', 'lens_flare', 'original', 'chromatic_aberration'}\n",
      "Validation folders considered: {'dirty_lens', 'motion_blur', 'gaussian_noise', 'blur', 'low_resolution', 'lens_flare', 'original', 'chromatic_aberration'}\n",
      "Test folders considered: {'dirty_lens', 'motion_blur', 'gaussian_noise', 'blur', 'low_resolution', 'lens_flare', 'original', 'chromatic_aberration'}\n"
     ]
    }
   ],
   "source": [
    "ignore_folder = \"random_occlusion\"\n",
    "\n",
    "def get_included_folders(dataset, ignore_folder):\n",
    "    included = set()\n",
    "    for img_path, label in dataset.samples:\n",
    "        # Split the path into parts and ignore if ignore_folder is in the path\n",
    "        if ignore_folder not in img_path.split(\"/\"):\n",
    "            # The folder name just above the image (or the class folder)\n",
    "            folder_name = img_path.split(\"/\")[-2]\n",
    "            included.add(folder_name)\n",
    "    return included\n",
    "\n",
    "train_folders = get_included_folders(train_ds, ignore_folder)\n",
    "val_folders   = get_included_folders(val_ds, ignore_folder)\n",
    "test_folders  = get_included_folders(test_ds, ignore_folder)\n",
    "\n",
    "print(\"Training folders considered:\", train_folders)\n",
    "print(\"Validation folders considered:\", val_folders)\n",
    "print(\"Test folders considered:\", test_folders)"
   ]
  },
  {
   "cell_type": "code",
   "execution_count": 7,
   "id": "8352979f",
   "metadata": {
    "execution": {
     "iopub.execute_input": "2025-09-07T17:12:51.756638Z",
     "iopub.status.busy": "2025-09-07T17:12:51.756458Z",
     "iopub.status.idle": "2025-09-07T17:12:53.489920Z",
     "shell.execute_reply": "2025-09-07T17:12:53.489035Z"
    },
    "papermill": {
     "duration": 1.738547,
     "end_time": "2025-09-07T17:12:53.491762",
     "exception": false,
     "start_time": "2025-09-07T17:12:51.753215",
     "status": "completed"
    },
    "tags": []
   },
   "outputs": [
    {
     "name": "stdout",
     "output_type": "stream",
     "text": [
      "DenseNet-121 Model Summary:\n",
      "----------------------------------------------------------------\n",
      "        Layer (type)               Output Shape         Param #\n",
      "================================================================\n",
      "            Conv2d-1         [-1, 64, 112, 112]           9,408\n",
      "       BatchNorm2d-2         [-1, 64, 112, 112]             128\n",
      "         MaxPool2d-3           [-1, 64, 56, 56]               0\n",
      "       BatchNorm2d-4           [-1, 64, 56, 56]             128\n",
      "            Conv2d-5          [-1, 128, 56, 56]           8,192\n",
      "       BatchNorm2d-6          [-1, 128, 56, 56]             256\n",
      "            Conv2d-7           [-1, 32, 56, 56]          36,864\n",
      "        DenseLayer-8           [-1, 96, 56, 56]               0\n",
      "       BatchNorm2d-9           [-1, 96, 56, 56]             192\n",
      "           Conv2d-10          [-1, 128, 56, 56]          12,288\n",
      "      BatchNorm2d-11          [-1, 128, 56, 56]             256\n",
      "           Conv2d-12           [-1, 32, 56, 56]          36,864\n",
      "       DenseLayer-13          [-1, 128, 56, 56]               0\n",
      "      BatchNorm2d-14          [-1, 128, 56, 56]             256\n",
      "           Conv2d-15          [-1, 128, 56, 56]          16,384\n",
      "      BatchNorm2d-16          [-1, 128, 56, 56]             256\n",
      "           Conv2d-17           [-1, 32, 56, 56]          36,864\n",
      "       DenseLayer-18          [-1, 160, 56, 56]               0\n",
      "      BatchNorm2d-19          [-1, 160, 56, 56]             320\n",
      "           Conv2d-20          [-1, 128, 56, 56]          20,480\n",
      "      BatchNorm2d-21          [-1, 128, 56, 56]             256\n",
      "           Conv2d-22           [-1, 32, 56, 56]          36,864\n",
      "       DenseLayer-23          [-1, 192, 56, 56]               0\n",
      "      BatchNorm2d-24          [-1, 192, 56, 56]             384\n",
      "           Conv2d-25          [-1, 128, 56, 56]          24,576\n",
      "      BatchNorm2d-26          [-1, 128, 56, 56]             256\n",
      "           Conv2d-27           [-1, 32, 56, 56]          36,864\n",
      "       DenseLayer-28          [-1, 224, 56, 56]               0\n",
      "      BatchNorm2d-29          [-1, 224, 56, 56]             448\n",
      "           Conv2d-30          [-1, 128, 56, 56]          28,672\n",
      "      BatchNorm2d-31          [-1, 128, 56, 56]             256\n",
      "           Conv2d-32           [-1, 32, 56, 56]          36,864\n",
      "       DenseLayer-33          [-1, 256, 56, 56]               0\n",
      "       DenseBlock-34          [-1, 256, 56, 56]               0\n",
      "      BatchNorm2d-35          [-1, 256, 56, 56]             512\n",
      "           Conv2d-36          [-1, 128, 56, 56]          32,768\n",
      "        AvgPool2d-37          [-1, 128, 28, 28]               0\n",
      "  TransitionLayer-38          [-1, 128, 28, 28]               0\n",
      "      BatchNorm2d-39          [-1, 128, 28, 28]             256\n",
      "           Conv2d-40          [-1, 128, 28, 28]          16,384\n",
      "      BatchNorm2d-41          [-1, 128, 28, 28]             256\n",
      "           Conv2d-42           [-1, 32, 28, 28]          36,864\n",
      "       DenseLayer-43          [-1, 160, 28, 28]               0\n",
      "      BatchNorm2d-44          [-1, 160, 28, 28]             320\n",
      "           Conv2d-45          [-1, 128, 28, 28]          20,480\n",
      "      BatchNorm2d-46          [-1, 128, 28, 28]             256\n",
      "           Conv2d-47           [-1, 32, 28, 28]          36,864\n",
      "       DenseLayer-48          [-1, 192, 28, 28]               0\n",
      "      BatchNorm2d-49          [-1, 192, 28, 28]             384\n",
      "           Conv2d-50          [-1, 128, 28, 28]          24,576\n",
      "      BatchNorm2d-51          [-1, 128, 28, 28]             256\n",
      "           Conv2d-52           [-1, 32, 28, 28]          36,864\n",
      "       DenseLayer-53          [-1, 224, 28, 28]               0\n",
      "      BatchNorm2d-54          [-1, 224, 28, 28]             448\n",
      "           Conv2d-55          [-1, 128, 28, 28]          28,672\n",
      "      BatchNorm2d-56          [-1, 128, 28, 28]             256\n",
      "           Conv2d-57           [-1, 32, 28, 28]          36,864\n",
      "       DenseLayer-58          [-1, 256, 28, 28]               0\n",
      "      BatchNorm2d-59          [-1, 256, 28, 28]             512\n",
      "           Conv2d-60          [-1, 128, 28, 28]          32,768\n",
      "      BatchNorm2d-61          [-1, 128, 28, 28]             256\n",
      "           Conv2d-62           [-1, 32, 28, 28]          36,864\n",
      "       DenseLayer-63          [-1, 288, 28, 28]               0\n",
      "      BatchNorm2d-64          [-1, 288, 28, 28]             576\n",
      "           Conv2d-65          [-1, 128, 28, 28]          36,864\n",
      "      BatchNorm2d-66          [-1, 128, 28, 28]             256\n",
      "           Conv2d-67           [-1, 32, 28, 28]          36,864\n",
      "       DenseLayer-68          [-1, 320, 28, 28]               0\n",
      "      BatchNorm2d-69          [-1, 320, 28, 28]             640\n",
      "           Conv2d-70          [-1, 128, 28, 28]          40,960\n",
      "      BatchNorm2d-71          [-1, 128, 28, 28]             256\n",
      "           Conv2d-72           [-1, 32, 28, 28]          36,864\n",
      "       DenseLayer-73          [-1, 352, 28, 28]               0\n",
      "      BatchNorm2d-74          [-1, 352, 28, 28]             704\n",
      "           Conv2d-75          [-1, 128, 28, 28]          45,056\n",
      "      BatchNorm2d-76          [-1, 128, 28, 28]             256\n",
      "           Conv2d-77           [-1, 32, 28, 28]          36,864\n",
      "       DenseLayer-78          [-1, 384, 28, 28]               0\n",
      "      BatchNorm2d-79          [-1, 384, 28, 28]             768\n",
      "           Conv2d-80          [-1, 128, 28, 28]          49,152\n",
      "      BatchNorm2d-81          [-1, 128, 28, 28]             256\n",
      "           Conv2d-82           [-1, 32, 28, 28]          36,864\n",
      "       DenseLayer-83          [-1, 416, 28, 28]               0\n",
      "      BatchNorm2d-84          [-1, 416, 28, 28]             832\n",
      "           Conv2d-85          [-1, 128, 28, 28]          53,248\n",
      "      BatchNorm2d-86          [-1, 128, 28, 28]             256\n",
      "           Conv2d-87           [-1, 32, 28, 28]          36,864\n",
      "       DenseLayer-88          [-1, 448, 28, 28]               0\n",
      "      BatchNorm2d-89          [-1, 448, 28, 28]             896\n",
      "           Conv2d-90          [-1, 128, 28, 28]          57,344\n",
      "      BatchNorm2d-91          [-1, 128, 28, 28]             256\n",
      "           Conv2d-92           [-1, 32, 28, 28]          36,864\n",
      "       DenseLayer-93          [-1, 480, 28, 28]               0\n",
      "      BatchNorm2d-94          [-1, 480, 28, 28]             960\n",
      "           Conv2d-95          [-1, 128, 28, 28]          61,440\n",
      "      BatchNorm2d-96          [-1, 128, 28, 28]             256\n",
      "           Conv2d-97           [-1, 32, 28, 28]          36,864\n",
      "       DenseLayer-98          [-1, 512, 28, 28]               0\n",
      "       DenseBlock-99          [-1, 512, 28, 28]               0\n",
      "     BatchNorm2d-100          [-1, 512, 28, 28]           1,024\n",
      "          Conv2d-101          [-1, 256, 28, 28]         131,072\n",
      "       AvgPool2d-102          [-1, 256, 14, 14]               0\n",
      " TransitionLayer-103          [-1, 256, 14, 14]               0\n",
      "     BatchNorm2d-104          [-1, 256, 14, 14]             512\n",
      "          Conv2d-105          [-1, 128, 14, 14]          32,768\n",
      "     BatchNorm2d-106          [-1, 128, 14, 14]             256\n",
      "          Conv2d-107           [-1, 32, 14, 14]          36,864\n",
      "      DenseLayer-108          [-1, 288, 14, 14]               0\n",
      "     BatchNorm2d-109          [-1, 288, 14, 14]             576\n",
      "          Conv2d-110          [-1, 128, 14, 14]          36,864\n",
      "     BatchNorm2d-111          [-1, 128, 14, 14]             256\n",
      "          Conv2d-112           [-1, 32, 14, 14]          36,864\n",
      "      DenseLayer-113          [-1, 320, 14, 14]               0\n",
      "     BatchNorm2d-114          [-1, 320, 14, 14]             640\n",
      "          Conv2d-115          [-1, 128, 14, 14]          40,960\n",
      "     BatchNorm2d-116          [-1, 128, 14, 14]             256\n",
      "          Conv2d-117           [-1, 32, 14, 14]          36,864\n",
      "      DenseLayer-118          [-1, 352, 14, 14]               0\n",
      "     BatchNorm2d-119          [-1, 352, 14, 14]             704\n",
      "          Conv2d-120          [-1, 128, 14, 14]          45,056\n",
      "     BatchNorm2d-121          [-1, 128, 14, 14]             256\n",
      "          Conv2d-122           [-1, 32, 14, 14]          36,864\n",
      "      DenseLayer-123          [-1, 384, 14, 14]               0\n",
      "     BatchNorm2d-124          [-1, 384, 14, 14]             768\n",
      "          Conv2d-125          [-1, 128, 14, 14]          49,152\n",
      "     BatchNorm2d-126          [-1, 128, 14, 14]             256\n",
      "          Conv2d-127           [-1, 32, 14, 14]          36,864\n",
      "      DenseLayer-128          [-1, 416, 14, 14]               0\n",
      "     BatchNorm2d-129          [-1, 416, 14, 14]             832\n",
      "          Conv2d-130          [-1, 128, 14, 14]          53,248\n",
      "     BatchNorm2d-131          [-1, 128, 14, 14]             256\n",
      "          Conv2d-132           [-1, 32, 14, 14]          36,864\n",
      "      DenseLayer-133          [-1, 448, 14, 14]               0\n",
      "     BatchNorm2d-134          [-1, 448, 14, 14]             896\n",
      "          Conv2d-135          [-1, 128, 14, 14]          57,344\n",
      "     BatchNorm2d-136          [-1, 128, 14, 14]             256\n",
      "          Conv2d-137           [-1, 32, 14, 14]          36,864\n",
      "      DenseLayer-138          [-1, 480, 14, 14]               0\n",
      "     BatchNorm2d-139          [-1, 480, 14, 14]             960\n",
      "          Conv2d-140          [-1, 128, 14, 14]          61,440\n",
      "     BatchNorm2d-141          [-1, 128, 14, 14]             256\n",
      "          Conv2d-142           [-1, 32, 14, 14]          36,864\n",
      "      DenseLayer-143          [-1, 512, 14, 14]               0\n",
      "     BatchNorm2d-144          [-1, 512, 14, 14]           1,024\n",
      "          Conv2d-145          [-1, 128, 14, 14]          65,536\n",
      "     BatchNorm2d-146          [-1, 128, 14, 14]             256\n",
      "          Conv2d-147           [-1, 32, 14, 14]          36,864\n",
      "      DenseLayer-148          [-1, 544, 14, 14]               0\n",
      "     BatchNorm2d-149          [-1, 544, 14, 14]           1,088\n",
      "          Conv2d-150          [-1, 128, 14, 14]          69,632\n",
      "     BatchNorm2d-151          [-1, 128, 14, 14]             256\n",
      "          Conv2d-152           [-1, 32, 14, 14]          36,864\n",
      "      DenseLayer-153          [-1, 576, 14, 14]               0\n",
      "     BatchNorm2d-154          [-1, 576, 14, 14]           1,152\n",
      "          Conv2d-155          [-1, 128, 14, 14]          73,728\n",
      "     BatchNorm2d-156          [-1, 128, 14, 14]             256\n",
      "          Conv2d-157           [-1, 32, 14, 14]          36,864\n",
      "      DenseLayer-158          [-1, 608, 14, 14]               0\n",
      "     BatchNorm2d-159          [-1, 608, 14, 14]           1,216\n",
      "          Conv2d-160          [-1, 128, 14, 14]          77,824\n",
      "     BatchNorm2d-161          [-1, 128, 14, 14]             256\n",
      "          Conv2d-162           [-1, 32, 14, 14]          36,864\n",
      "      DenseLayer-163          [-1, 640, 14, 14]               0\n",
      "     BatchNorm2d-164          [-1, 640, 14, 14]           1,280\n",
      "          Conv2d-165          [-1, 128, 14, 14]          81,920\n",
      "     BatchNorm2d-166          [-1, 128, 14, 14]             256\n",
      "          Conv2d-167           [-1, 32, 14, 14]          36,864\n",
      "      DenseLayer-168          [-1, 672, 14, 14]               0\n",
      "     BatchNorm2d-169          [-1, 672, 14, 14]           1,344\n",
      "          Conv2d-170          [-1, 128, 14, 14]          86,016\n",
      "     BatchNorm2d-171          [-1, 128, 14, 14]             256\n",
      "          Conv2d-172           [-1, 32, 14, 14]          36,864\n",
      "      DenseLayer-173          [-1, 704, 14, 14]               0\n",
      "     BatchNorm2d-174          [-1, 704, 14, 14]           1,408\n",
      "          Conv2d-175          [-1, 128, 14, 14]          90,112\n",
      "     BatchNorm2d-176          [-1, 128, 14, 14]             256\n",
      "          Conv2d-177           [-1, 32, 14, 14]          36,864\n",
      "      DenseLayer-178          [-1, 736, 14, 14]               0\n",
      "     BatchNorm2d-179          [-1, 736, 14, 14]           1,472\n",
      "          Conv2d-180          [-1, 128, 14, 14]          94,208\n",
      "     BatchNorm2d-181          [-1, 128, 14, 14]             256\n",
      "          Conv2d-182           [-1, 32, 14, 14]          36,864\n",
      "      DenseLayer-183          [-1, 768, 14, 14]               0\n",
      "     BatchNorm2d-184          [-1, 768, 14, 14]           1,536\n",
      "          Conv2d-185          [-1, 128, 14, 14]          98,304\n",
      "     BatchNorm2d-186          [-1, 128, 14, 14]             256\n",
      "          Conv2d-187           [-1, 32, 14, 14]          36,864\n",
      "      DenseLayer-188          [-1, 800, 14, 14]               0\n",
      "     BatchNorm2d-189          [-1, 800, 14, 14]           1,600\n",
      "          Conv2d-190          [-1, 128, 14, 14]         102,400\n",
      "     BatchNorm2d-191          [-1, 128, 14, 14]             256\n",
      "          Conv2d-192           [-1, 32, 14, 14]          36,864\n",
      "      DenseLayer-193          [-1, 832, 14, 14]               0\n",
      "     BatchNorm2d-194          [-1, 832, 14, 14]           1,664\n",
      "          Conv2d-195          [-1, 128, 14, 14]         106,496\n",
      "     BatchNorm2d-196          [-1, 128, 14, 14]             256\n",
      "          Conv2d-197           [-1, 32, 14, 14]          36,864\n",
      "      DenseLayer-198          [-1, 864, 14, 14]               0\n",
      "     BatchNorm2d-199          [-1, 864, 14, 14]           1,728\n",
      "          Conv2d-200          [-1, 128, 14, 14]         110,592\n",
      "     BatchNorm2d-201          [-1, 128, 14, 14]             256\n",
      "          Conv2d-202           [-1, 32, 14, 14]          36,864\n",
      "      DenseLayer-203          [-1, 896, 14, 14]               0\n",
      "     BatchNorm2d-204          [-1, 896, 14, 14]           1,792\n",
      "          Conv2d-205          [-1, 128, 14, 14]         114,688\n",
      "     BatchNorm2d-206          [-1, 128, 14, 14]             256\n",
      "          Conv2d-207           [-1, 32, 14, 14]          36,864\n",
      "      DenseLayer-208          [-1, 928, 14, 14]               0\n",
      "     BatchNorm2d-209          [-1, 928, 14, 14]           1,856\n",
      "          Conv2d-210          [-1, 128, 14, 14]         118,784\n",
      "     BatchNorm2d-211          [-1, 128, 14, 14]             256\n",
      "          Conv2d-212           [-1, 32, 14, 14]          36,864\n",
      "      DenseLayer-213          [-1, 960, 14, 14]               0\n",
      "     BatchNorm2d-214          [-1, 960, 14, 14]           1,920\n",
      "          Conv2d-215          [-1, 128, 14, 14]         122,880\n",
      "     BatchNorm2d-216          [-1, 128, 14, 14]             256\n",
      "          Conv2d-217           [-1, 32, 14, 14]          36,864\n",
      "      DenseLayer-218          [-1, 992, 14, 14]               0\n",
      "     BatchNorm2d-219          [-1, 992, 14, 14]           1,984\n",
      "          Conv2d-220          [-1, 128, 14, 14]         126,976\n",
      "     BatchNorm2d-221          [-1, 128, 14, 14]             256\n",
      "          Conv2d-222           [-1, 32, 14, 14]          36,864\n",
      "      DenseLayer-223         [-1, 1024, 14, 14]               0\n",
      "      DenseBlock-224         [-1, 1024, 14, 14]               0\n",
      "     BatchNorm2d-225         [-1, 1024, 14, 14]           2,048\n",
      "          Conv2d-226          [-1, 512, 14, 14]         524,288\n",
      "       AvgPool2d-227            [-1, 512, 7, 7]               0\n",
      " TransitionLayer-228            [-1, 512, 7, 7]               0\n",
      "     BatchNorm2d-229            [-1, 512, 7, 7]           1,024\n",
      "          Conv2d-230            [-1, 128, 7, 7]          65,536\n",
      "     BatchNorm2d-231            [-1, 128, 7, 7]             256\n",
      "          Conv2d-232             [-1, 32, 7, 7]          36,864\n",
      "      DenseLayer-233            [-1, 544, 7, 7]               0\n",
      "     BatchNorm2d-234            [-1, 544, 7, 7]           1,088\n",
      "          Conv2d-235            [-1, 128, 7, 7]          69,632\n",
      "     BatchNorm2d-236            [-1, 128, 7, 7]             256\n",
      "          Conv2d-237             [-1, 32, 7, 7]          36,864\n",
      "      DenseLayer-238            [-1, 576, 7, 7]               0\n",
      "     BatchNorm2d-239            [-1, 576, 7, 7]           1,152\n",
      "          Conv2d-240            [-1, 128, 7, 7]          73,728\n",
      "     BatchNorm2d-241            [-1, 128, 7, 7]             256\n",
      "          Conv2d-242             [-1, 32, 7, 7]          36,864\n",
      "      DenseLayer-243            [-1, 608, 7, 7]               0\n",
      "     BatchNorm2d-244            [-1, 608, 7, 7]           1,216\n",
      "          Conv2d-245            [-1, 128, 7, 7]          77,824\n",
      "     BatchNorm2d-246            [-1, 128, 7, 7]             256\n",
      "          Conv2d-247             [-1, 32, 7, 7]          36,864\n",
      "      DenseLayer-248            [-1, 640, 7, 7]               0\n",
      "     BatchNorm2d-249            [-1, 640, 7, 7]           1,280\n",
      "          Conv2d-250            [-1, 128, 7, 7]          81,920\n",
      "     BatchNorm2d-251            [-1, 128, 7, 7]             256\n",
      "          Conv2d-252             [-1, 32, 7, 7]          36,864\n",
      "      DenseLayer-253            [-1, 672, 7, 7]               0\n",
      "     BatchNorm2d-254            [-1, 672, 7, 7]           1,344\n",
      "          Conv2d-255            [-1, 128, 7, 7]          86,016\n",
      "     BatchNorm2d-256            [-1, 128, 7, 7]             256\n",
      "          Conv2d-257             [-1, 32, 7, 7]          36,864\n",
      "      DenseLayer-258            [-1, 704, 7, 7]               0\n",
      "     BatchNorm2d-259            [-1, 704, 7, 7]           1,408\n",
      "          Conv2d-260            [-1, 128, 7, 7]          90,112\n",
      "     BatchNorm2d-261            [-1, 128, 7, 7]             256\n",
      "          Conv2d-262             [-1, 32, 7, 7]          36,864\n",
      "      DenseLayer-263            [-1, 736, 7, 7]               0\n",
      "     BatchNorm2d-264            [-1, 736, 7, 7]           1,472\n",
      "          Conv2d-265            [-1, 128, 7, 7]          94,208\n",
      "     BatchNorm2d-266            [-1, 128, 7, 7]             256\n",
      "          Conv2d-267             [-1, 32, 7, 7]          36,864\n",
      "      DenseLayer-268            [-1, 768, 7, 7]               0\n",
      "     BatchNorm2d-269            [-1, 768, 7, 7]           1,536\n",
      "          Conv2d-270            [-1, 128, 7, 7]          98,304\n",
      "     BatchNorm2d-271            [-1, 128, 7, 7]             256\n",
      "          Conv2d-272             [-1, 32, 7, 7]          36,864\n",
      "      DenseLayer-273            [-1, 800, 7, 7]               0\n",
      "     BatchNorm2d-274            [-1, 800, 7, 7]           1,600\n",
      "          Conv2d-275            [-1, 128, 7, 7]         102,400\n",
      "     BatchNorm2d-276            [-1, 128, 7, 7]             256\n",
      "          Conv2d-277             [-1, 32, 7, 7]          36,864\n",
      "      DenseLayer-278            [-1, 832, 7, 7]               0\n",
      "     BatchNorm2d-279            [-1, 832, 7, 7]           1,664\n",
      "          Conv2d-280            [-1, 128, 7, 7]         106,496\n",
      "     BatchNorm2d-281            [-1, 128, 7, 7]             256\n",
      "          Conv2d-282             [-1, 32, 7, 7]          36,864\n",
      "      DenseLayer-283            [-1, 864, 7, 7]               0\n",
      "     BatchNorm2d-284            [-1, 864, 7, 7]           1,728\n",
      "          Conv2d-285            [-1, 128, 7, 7]         110,592\n",
      "     BatchNorm2d-286            [-1, 128, 7, 7]             256\n",
      "          Conv2d-287             [-1, 32, 7, 7]          36,864\n",
      "      DenseLayer-288            [-1, 896, 7, 7]               0\n",
      "     BatchNorm2d-289            [-1, 896, 7, 7]           1,792\n",
      "          Conv2d-290            [-1, 128, 7, 7]         114,688\n",
      "     BatchNorm2d-291            [-1, 128, 7, 7]             256\n",
      "          Conv2d-292             [-1, 32, 7, 7]          36,864\n",
      "      DenseLayer-293            [-1, 928, 7, 7]               0\n",
      "     BatchNorm2d-294            [-1, 928, 7, 7]           1,856\n",
      "          Conv2d-295            [-1, 128, 7, 7]         118,784\n",
      "     BatchNorm2d-296            [-1, 128, 7, 7]             256\n",
      "          Conv2d-297             [-1, 32, 7, 7]          36,864\n",
      "      DenseLayer-298            [-1, 960, 7, 7]               0\n",
      "     BatchNorm2d-299            [-1, 960, 7, 7]           1,920\n",
      "          Conv2d-300            [-1, 128, 7, 7]         122,880\n",
      "     BatchNorm2d-301            [-1, 128, 7, 7]             256\n",
      "          Conv2d-302             [-1, 32, 7, 7]          36,864\n",
      "      DenseLayer-303            [-1, 992, 7, 7]               0\n",
      "     BatchNorm2d-304            [-1, 992, 7, 7]           1,984\n",
      "          Conv2d-305            [-1, 128, 7, 7]         126,976\n",
      "     BatchNorm2d-306            [-1, 128, 7, 7]             256\n",
      "          Conv2d-307             [-1, 32, 7, 7]          36,864\n",
      "      DenseLayer-308           [-1, 1024, 7, 7]               0\n",
      "      DenseBlock-309           [-1, 1024, 7, 7]               0\n",
      "     BatchNorm2d-310           [-1, 1024, 7, 7]           2,048\n",
      "AdaptiveAvgPool2d-311           [-1, 1024, 1, 1]               0\n",
      "         Flatten-312                 [-1, 1024]               0\n",
      "          Linear-313                    [-1, 7]           7,175\n",
      "================================================================\n",
      "Total params: 6,961,031\n",
      "Trainable params: 6,961,031\n",
      "Non-trainable params: 0\n",
      "----------------------------------------------------------------\n",
      "Input size (MB): 0.57\n",
      "Forward/backward pass size (MB): 265.11\n",
      "Params size (MB): 26.55\n",
      "Estimated Total Size (MB): 292.24\n",
      "----------------------------------------------------------------\n"
     ]
    }
   ],
   "source": [
    "# -----------------------------\n",
    "# 2. Define DenseNet-121 Model from Scratch\n",
    "# -----------------------------\n",
    "\n",
    "class DenseLayer(nn.Module):\n",
    "    \"\"\"Single Dense Layer: BN-ReLU-Conv(1x1)-BN-ReLU-Conv(3x3)\"\"\"\n",
    "    def __init__(self, in_channels, growth_rate=32, bn_size=4):\n",
    "        super().__init__()\n",
    "        self.bn1 = nn.BatchNorm2d(in_channels)\n",
    "        self.conv1 = nn.Conv2d(in_channels, bn_size * growth_rate, \n",
    "                              kernel_size=1, bias=False)\n",
    "        self.bn2 = nn.BatchNorm2d(bn_size * growth_rate)\n",
    "        self.conv2 = nn.Conv2d(bn_size * growth_rate, growth_rate, \n",
    "                              kernel_size=3, padding=1, bias=False)\n",
    "        \n",
    "    def forward(self, x):\n",
    "        # First convolution block\n",
    "        out = F.relu(self.bn1(x))\n",
    "        out = self.conv1(out)\n",
    "        \n",
    "        # Second convolution block\n",
    "        out = F.relu(self.bn2(out))\n",
    "        out = self.conv2(out)\n",
    "        \n",
    "        # Concatenate input with output (dense connection)\n",
    "        return torch.cat([x, out], 1)\n",
    "\n",
    "class DenseBlock(nn.Module):\n",
    "    \"\"\"Dense Block containing multiple Dense Layers\"\"\"\n",
    "    def __init__(self, num_layers, in_channels, growth_rate=32, bn_size=4):\n",
    "        super().__init__()\n",
    "        self.layers = nn.ModuleList()\n",
    "        \n",
    "        for i in range(num_layers):\n",
    "            layer = DenseLayer(in_channels + i * growth_rate, growth_rate, bn_size)\n",
    "            self.layers.append(layer)\n",
    "            \n",
    "    def forward(self, x):\n",
    "        for layer in self.layers:\n",
    "            x = layer(x)\n",
    "        return x\n",
    "\n",
    "class TransitionLayer(nn.Module):\n",
    "    \"\"\"Transition Layer: BN-ReLU-Conv(1x1)-AvgPool(2x2)\"\"\"\n",
    "    def __init__(self, in_channels, out_channels):\n",
    "        super().__init__()\n",
    "        self.bn = nn.BatchNorm2d(in_channels)\n",
    "        self.conv = nn.Conv2d(in_channels, out_channels, kernel_size=1, bias=False)\n",
    "        self.pool = nn.AvgPool2d(kernel_size=2, stride=2)\n",
    "        \n",
    "    def forward(self, x):\n",
    "        out = F.relu(self.bn(x))\n",
    "        out = self.conv(out)\n",
    "        out = self.pool(out)\n",
    "        return out\n",
    "\n",
    "class MyDenseNet121(nn.Module):\n",
    "    \"\"\"DenseNet-121 Implementation from Scratch\"\"\"\n",
    "    def __init__(self, in_channels=3, classes=4, growth_rate=32, \n",
    "                 block_config=[6, 12, 24, 16], bn_size=4, compression_rate=0.5):\n",
    "        super().__init__()\n",
    "        \n",
    "        # Initial convolution layer\n",
    "        self.initial_conv = nn.Conv2d(in_channels, 64, kernel_size=7, \n",
    "                                     stride=2, padding=3, bias=False)\n",
    "        self.initial_bn = nn.BatchNorm2d(64)\n",
    "        self.initial_pool = nn.MaxPool2d(kernel_size=3, stride=2, padding=1)\n",
    "        \n",
    "        # Dense blocks and transition layers\n",
    "        num_features = 64\n",
    "        \n",
    "        # Dense Block 1 + Transition 1\n",
    "        self.dense_block1 = DenseBlock(block_config[0], num_features, growth_rate, bn_size)\n",
    "        num_features += block_config[0] * growth_rate\n",
    "        out_features = int(num_features * compression_rate)\n",
    "        self.transition1 = TransitionLayer(num_features, out_features)\n",
    "        num_features = out_features\n",
    "        \n",
    "        # Dense Block 2 + Transition 2\n",
    "        self.dense_block2 = DenseBlock(block_config[1], num_features, growth_rate, bn_size)\n",
    "        num_features += block_config[1] * growth_rate\n",
    "        out_features = int(num_features * compression_rate)\n",
    "        self.transition2 = TransitionLayer(num_features, out_features)\n",
    "        num_features = out_features\n",
    "        \n",
    "        # Dense Block 3 + Transition 3\n",
    "        self.dense_block3 = DenseBlock(block_config[2], num_features, growth_rate, bn_size)\n",
    "        num_features += block_config[2] * growth_rate\n",
    "        out_features = int(num_features * compression_rate)\n",
    "        self.transition3 = TransitionLayer(num_features, out_features)\n",
    "        num_features = out_features\n",
    "        \n",
    "        # Dense Block 4 (no transition after last block)\n",
    "        self.dense_block4 = DenseBlock(block_config[3], num_features, growth_rate, bn_size)\n",
    "        num_features += block_config[3] * growth_rate\n",
    "        \n",
    "        # Final layers\n",
    "        self.final_bn = nn.BatchNorm2d(num_features)\n",
    "        self.global_pool = nn.AdaptiveAvgPool2d((1, 1))\n",
    "        self.flatten = nn.Flatten()\n",
    "        self.classifier = nn.Linear(num_features, classes)\n",
    "        \n",
    "        # Initialize weights\n",
    "        self._initialize_weights()\n",
    "    \n",
    "    def _initialize_weights(self):\n",
    "        \"\"\"Initialize weights using He initialization for conv layers\"\"\"\n",
    "        for m in self.modules():\n",
    "            if isinstance(m, nn.Conv2d):\n",
    "                nn.init.kaiming_normal_(m.weight, mode='fan_out', nonlinearity='relu')\n",
    "            elif isinstance(m, nn.BatchNorm2d):\n",
    "                nn.init.constant_(m.weight, 1)\n",
    "                nn.init.constant_(m.bias, 0)\n",
    "            elif isinstance(m, nn.Linear):\n",
    "                nn.init.normal_(m.weight, 0, 0.01)\n",
    "                nn.init.constant_(m.bias, 0)\n",
    "    \n",
    "    def forward(self, x):\n",
    "        # Initial convolution and pooling\n",
    "        x = self.initial_conv(x)\n",
    "        x = F.relu(self.initial_bn(x))\n",
    "        x = self.initial_pool(x)\n",
    "        \n",
    "        # Dense blocks with transitions\n",
    "        x = self.dense_block1(x)\n",
    "        x = self.transition1(x)\n",
    "        \n",
    "        x = self.dense_block2(x)\n",
    "        x = self.transition2(x)\n",
    "        \n",
    "        x = self.dense_block3(x)\n",
    "        x = self.transition3(x)\n",
    "        \n",
    "        x = self.dense_block4(x)\n",
    "        \n",
    "        # Final classification layers\n",
    "        x = F.relu(self.final_bn(x))\n",
    "        x = self.global_pool(x)\n",
    "        x = self.flatten(x)\n",
    "        x = self.classifier(x)\n",
    "        \n",
    "        return x\n",
    "\n",
    "# -----------------------------\n",
    "# 3. Training Setup\n",
    "# -----------------------------\n",
    "device = torch.device(\"cuda\" if torch.cuda.is_available() else \"cpu\")\n",
    "model = MyDenseNet121(3, classes=len(classes)).to(device)\n",
    "\n",
    "criterion = nn.CrossEntropyLoss()\n",
    "optimizer = torch.optim.Adam(model.parameters(), lr=0.001)\n",
    "\n",
    "print(\"DenseNet-121 Model Summary:\")\n",
    "summary(model, (3, 224, 224))"
   ]
  },
  {
   "cell_type": "code",
   "execution_count": 8,
   "id": "af3f204d",
   "metadata": {
    "execution": {
     "iopub.execute_input": "2025-09-07T17:12:53.500533Z",
     "iopub.status.busy": "2025-09-07T17:12:53.500258Z",
     "iopub.status.idle": "2025-09-07T18:28:47.822024Z",
     "shell.execute_reply": "2025-09-07T18:28:47.821310Z"
    },
    "papermill": {
     "duration": 4554.328674,
     "end_time": "2025-09-07T18:28:47.824327",
     "exception": false,
     "start_time": "2025-09-07T17:12:53.495653",
     "status": "completed"
    },
    "tags": []
   },
   "outputs": [
    {
     "name": "stdout",
     "output_type": "stream",
     "text": [
      "\n",
      "🚀 Starting DenseNet-121 Training for 50 epochs...\n",
      "================================================================================\n",
      "\n",
      "📈 Epoch 1/50\n",
      "--------------------------------------------------\n",
      "🔄 Training Phase...\n"
     ]
    },
    {
     "name": "stderr",
     "output_type": "stream",
     "text": [
      "Training: 100%|██████████████████████████████| 162/162 [01:31<00:00,  1.76it/s, Loss=1.6877, Acc=0.3069]\n"
     ]
    },
    {
     "name": "stdout",
     "output_type": "stream",
     "text": [
      "✅ Training completed in 91.96s\n",
      "🔍 Validation Phase...\n"
     ]
    },
    {
     "name": "stderr",
     "output_type": "stream",
     "text": [
      "Validation: 100%|██████████████████████████████| 42/42 [00:17<00:00,  2.46it/s, Loss=1.8045, Acc=0.2538]\n"
     ]
    },
    {
     "name": "stdout",
     "output_type": "stream",
     "text": [
      "✅ Validation completed in 17.09s\n",
      "🌟 New best DenseNet-121 model found! Validation Accuracy: 0.2538\n",
      "\n",
      "📊 Epoch 1 Summary:\n",
      "│ Train Loss: 1.6877 | Train Acc: 0.3069\n",
      "│ Val Loss:   1.8045 | Val Acc:   0.2538\n",
      "│ Train Time: 91.96s | Val Time: 17.09s\n",
      "│ Total Epoch Time: 109.06s\n",
      "│ Best Val Acc: 0.2538 (Epoch 1)\n",
      "│ GPU Memory: 0.1GB / 4.5GB\n",
      "================================================================================\n",
      "\n",
      "📈 Epoch 2/50\n",
      "--------------------------------------------------\n",
      "🔄 Training Phase...\n"
     ]
    },
    {
     "name": "stderr",
     "output_type": "stream",
     "text": [
      "Training: 100%|██████████████████████████████| 162/162 [01:14<00:00,  2.18it/s, Loss=1.5274, Acc=0.3812]\n"
     ]
    },
    {
     "name": "stdout",
     "output_type": "stream",
     "text": [
      "✅ Training completed in 74.26s\n",
      "🔍 Validation Phase...\n"
     ]
    },
    {
     "name": "stderr",
     "output_type": "stream",
     "text": [
      "Validation: 100%|██████████████████████████████| 42/42 [00:12<00:00,  3.32it/s, Loss=1.7574, Acc=0.3396]\n"
     ]
    },
    {
     "name": "stdout",
     "output_type": "stream",
     "text": [
      "✅ Validation completed in 12.64s\n",
      "🌟 New best DenseNet-121 model found! Validation Accuracy: 0.3396\n",
      "\n",
      "📊 Epoch 2 Summary:\n",
      "│ Train Loss: 1.5274 | Train Acc: 0.3812\n",
      "│ Val Loss:   1.7574 | Val Acc:   0.3396\n",
      "│ Train Time: 74.26s | Val Time: 12.64s\n",
      "│ Total Epoch Time: 86.90s\n",
      "│ Best Val Acc: 0.3396 (Epoch 2)\n",
      "│ GPU Memory: 0.1GB / 4.5GB\n",
      "================================================================================\n",
      "\n",
      "📈 Epoch 3/50\n",
      "--------------------------------------------------\n",
      "🔄 Training Phase...\n"
     ]
    },
    {
     "name": "stderr",
     "output_type": "stream",
     "text": [
      "Training: 100%|██████████████████████████████| 162/162 [01:15<00:00,  2.15it/s, Loss=1.3477, Acc=0.4675]\n"
     ]
    },
    {
     "name": "stdout",
     "output_type": "stream",
     "text": [
      "✅ Training completed in 75.20s\n",
      "🔍 Validation Phase...\n"
     ]
    },
    {
     "name": "stderr",
     "output_type": "stream",
     "text": [
      "Validation: 100%|██████████████████████████████| 42/42 [00:12<00:00,  3.32it/s, Loss=1.6143, Acc=0.3855]\n"
     ]
    },
    {
     "name": "stdout",
     "output_type": "stream",
     "text": [
      "✅ Validation completed in 12.67s\n",
      "🌟 New best DenseNet-121 model found! Validation Accuracy: 0.3855\n",
      "\n",
      "📊 Epoch 3 Summary:\n",
      "│ Train Loss: 1.3477 | Train Acc: 0.4675\n",
      "│ Val Loss:   1.6143 | Val Acc:   0.3855\n",
      "│ Train Time: 75.20s | Val Time: 12.67s\n",
      "│ Total Epoch Time: 87.87s\n",
      "│ Best Val Acc: 0.3855 (Epoch 3)\n",
      "│ GPU Memory: 0.1GB / 4.5GB\n",
      "================================================================================\n",
      "\n",
      "📈 Epoch 4/50\n",
      "--------------------------------------------------\n",
      "🔄 Training Phase...\n"
     ]
    },
    {
     "name": "stderr",
     "output_type": "stream",
     "text": [
      "Training: 100%|██████████████████████████████| 162/162 [01:15<00:00,  2.14it/s, Loss=1.0920, Acc=0.5888]\n"
     ]
    },
    {
     "name": "stdout",
     "output_type": "stream",
     "text": [
      "✅ Training completed in 75.54s\n",
      "🔍 Validation Phase...\n"
     ]
    },
    {
     "name": "stderr",
     "output_type": "stream",
     "text": [
      "Validation: 100%|██████████████████████████████| 42/42 [00:12<00:00,  3.33it/s, Loss=1.9447, Acc=0.4307]\n"
     ]
    },
    {
     "name": "stdout",
     "output_type": "stream",
     "text": [
      "✅ Validation completed in 12.60s\n",
      "🌟 New best DenseNet-121 model found! Validation Accuracy: 0.4307\n",
      "\n",
      "📊 Epoch 4 Summary:\n",
      "│ Train Loss: 1.0920 | Train Acc: 0.5888\n",
      "│ Val Loss:   1.9447 | Val Acc:   0.4307\n",
      "│ Train Time: 75.54s | Val Time: 12.60s\n",
      "│ Total Epoch Time: 88.15s\n",
      "│ Best Val Acc: 0.4307 (Epoch 4)\n",
      "│ GPU Memory: 0.1GB / 4.5GB\n",
      "================================================================================\n",
      "\n",
      "📈 Epoch 5/50\n",
      "--------------------------------------------------\n",
      "🔄 Training Phase...\n"
     ]
    },
    {
     "name": "stderr",
     "output_type": "stream",
     "text": [
      "Training: 100%|██████████████████████████████| 162/162 [01:16<00:00,  2.13it/s, Loss=0.7638, Acc=0.7266]\n"
     ]
    },
    {
     "name": "stdout",
     "output_type": "stream",
     "text": [
      "✅ Training completed in 76.18s\n",
      "🔍 Validation Phase...\n"
     ]
    },
    {
     "name": "stderr",
     "output_type": "stream",
     "text": [
      "Validation: 100%|██████████████████████████████| 42/42 [00:12<00:00,  3.32it/s, Loss=1.7392, Acc=0.4661]\n"
     ]
    },
    {
     "name": "stdout",
     "output_type": "stream",
     "text": [
      "✅ Validation completed in 12.66s\n",
      "🌟 New best DenseNet-121 model found! Validation Accuracy: 0.4661\n",
      "\n",
      "📊 Epoch 5 Summary:\n",
      "│ Train Loss: 0.7638 | Train Acc: 0.7266\n",
      "│ Val Loss:   1.7392 | Val Acc:   0.4661\n",
      "│ Train Time: 76.18s | Val Time: 12.66s\n",
      "│ Total Epoch Time: 88.85s\n",
      "│ Best Val Acc: 0.4661 (Epoch 5)\n",
      "│ GPU Memory: 0.1GB / 4.5GB\n",
      "================================================================================\n",
      "\n",
      "📈 Epoch 6/50\n",
      "--------------------------------------------------\n",
      "🔄 Training Phase...\n"
     ]
    },
    {
     "name": "stderr",
     "output_type": "stream",
     "text": [
      "Training: 100%|██████████████████████████████| 162/162 [01:16<00:00,  2.12it/s, Loss=0.4928, Acc=0.8315]\n"
     ]
    },
    {
     "name": "stdout",
     "output_type": "stream",
     "text": [
      "✅ Training completed in 76.34s\n",
      "🔍 Validation Phase...\n"
     ]
    },
    {
     "name": "stderr",
     "output_type": "stream",
     "text": [
      "Validation: 100%|██████████████████████████████| 42/42 [00:12<00:00,  3.32it/s, Loss=1.5612, Acc=0.5821]\n"
     ]
    },
    {
     "name": "stdout",
     "output_type": "stream",
     "text": [
      "✅ Validation completed in 12.66s\n",
      "🌟 New best DenseNet-121 model found! Validation Accuracy: 0.5821\n",
      "\n",
      "📊 Epoch 6 Summary:\n",
      "│ Train Loss: 0.4928 | Train Acc: 0.8315\n",
      "│ Val Loss:   1.5612 | Val Acc:   0.5821\n",
      "│ Train Time: 76.34s | Val Time: 12.66s\n",
      "│ Total Epoch Time: 89.00s\n",
      "│ Best Val Acc: 0.5821 (Epoch 6)\n",
      "│ GPU Memory: 0.1GB / 4.5GB\n",
      "================================================================================\n",
      "\n",
      "📈 Epoch 7/50\n",
      "--------------------------------------------------\n",
      "🔄 Training Phase...\n"
     ]
    },
    {
     "name": "stderr",
     "output_type": "stream",
     "text": [
      "Training: 100%|██████████████████████████████| 162/162 [01:16<00:00,  2.11it/s, Loss=0.3026, Acc=0.9029]\n"
     ]
    },
    {
     "name": "stdout",
     "output_type": "stream",
     "text": [
      "✅ Training completed in 76.82s\n",
      "🔍 Validation Phase...\n"
     ]
    },
    {
     "name": "stderr",
     "output_type": "stream",
     "text": [
      "Validation: 100%|██████████████████████████████| 42/42 [00:12<00:00,  3.27it/s, Loss=1.9332, Acc=0.5324]\n"
     ]
    },
    {
     "name": "stdout",
     "output_type": "stream",
     "text": [
      "✅ Validation completed in 12.83s\n",
      "\n",
      "📊 Epoch 7 Summary:\n",
      "│ Train Loss: 0.3026 | Train Acc: 0.9029\n",
      "│ Val Loss:   1.9332 | Val Acc:   0.5324\n",
      "│ Train Time: 76.82s | Val Time: 12.83s\n",
      "│ Total Epoch Time: 89.65s\n",
      "│ Best Val Acc: 0.5821 (Epoch 6)\n",
      "│ GPU Memory: 0.1GB / 4.5GB\n",
      "================================================================================\n",
      "\n",
      "📈 Epoch 8/50\n",
      "--------------------------------------------------\n",
      "🔄 Training Phase...\n"
     ]
    },
    {
     "name": "stderr",
     "output_type": "stream",
     "text": [
      "Training: 100%|██████████████████████████████| 162/162 [01:16<00:00,  2.11it/s, Loss=0.1893, Acc=0.9373]\n"
     ]
    },
    {
     "name": "stdout",
     "output_type": "stream",
     "text": [
      "✅ Training completed in 76.95s\n",
      "🔍 Validation Phase...\n"
     ]
    },
    {
     "name": "stderr",
     "output_type": "stream",
     "text": [
      "Validation: 100%|██████████████████████████████| 42/42 [00:12<00:00,  3.29it/s, Loss=1.9724, Acc=0.5557]\n"
     ]
    },
    {
     "name": "stdout",
     "output_type": "stream",
     "text": [
      "✅ Validation completed in 12.78s\n",
      "\n",
      "📊 Epoch 8 Summary:\n",
      "│ Train Loss: 0.1893 | Train Acc: 0.9373\n",
      "│ Val Loss:   1.9724 | Val Acc:   0.5557\n",
      "│ Train Time: 76.95s | Val Time: 12.78s\n",
      "│ Total Epoch Time: 89.73s\n",
      "│ Best Val Acc: 0.5821 (Epoch 6)\n",
      "│ GPU Memory: 0.1GB / 4.5GB\n",
      "================================================================================\n",
      "\n",
      "📈 Epoch 9/50\n",
      "--------------------------------------------------\n",
      "🔄 Training Phase...\n"
     ]
    },
    {
     "name": "stderr",
     "output_type": "stream",
     "text": [
      "Training: 100%|██████████████████████████████| 162/162 [01:16<00:00,  2.12it/s, Loss=0.1182, Acc=0.9623]\n"
     ]
    },
    {
     "name": "stdout",
     "output_type": "stream",
     "text": [
      "✅ Training completed in 76.56s\n",
      "🔍 Validation Phase...\n"
     ]
    },
    {
     "name": "stderr",
     "output_type": "stream",
     "text": [
      "Validation: 100%|██████████████████████████████| 42/42 [00:12<00:00,  3.31it/s, Loss=2.0495, Acc=0.5904]\n"
     ]
    },
    {
     "name": "stdout",
     "output_type": "stream",
     "text": [
      "✅ Validation completed in 12.71s\n",
      "🌟 New best DenseNet-121 model found! Validation Accuracy: 0.5904\n",
      "\n",
      "📊 Epoch 9 Summary:\n",
      "│ Train Loss: 0.1182 | Train Acc: 0.9623\n",
      "│ Val Loss:   2.0495 | Val Acc:   0.5904\n",
      "│ Train Time: 76.56s | Val Time: 12.71s\n",
      "│ Total Epoch Time: 89.27s\n",
      "│ Best Val Acc: 0.5904 (Epoch 9)\n",
      "│ GPU Memory: 0.1GB / 4.5GB\n",
      "================================================================================\n",
      "\n",
      "📈 Epoch 10/50\n",
      "--------------------------------------------------\n",
      "🔄 Training Phase...\n"
     ]
    },
    {
     "name": "stderr",
     "output_type": "stream",
     "text": [
      "Training: 100%|██████████████████████████████| 162/162 [01:16<00:00,  2.11it/s, Loss=0.0976, Acc=0.9683]\n"
     ]
    },
    {
     "name": "stdout",
     "output_type": "stream",
     "text": [
      "✅ Training completed in 76.62s\n",
      "🔍 Validation Phase...\n"
     ]
    },
    {
     "name": "stderr",
     "output_type": "stream",
     "text": [
      "Validation: 100%|██████████████████████████████| 42/42 [00:12<00:00,  3.32it/s, Loss=2.4172, Acc=0.5324]\n"
     ]
    },
    {
     "name": "stdout",
     "output_type": "stream",
     "text": [
      "✅ Validation completed in 12.65s\n",
      "\n",
      "📊 Epoch 10 Summary:\n",
      "│ Train Loss: 0.0976 | Train Acc: 0.9683\n",
      "│ Val Loss:   2.4172 | Val Acc:   0.5324\n",
      "│ Train Time: 76.62s | Val Time: 12.65s\n",
      "│ Total Epoch Time: 89.27s\n",
      "│ Best Val Acc: 0.5904 (Epoch 9)\n",
      "│ GPU Memory: 0.1GB / 4.5GB\n",
      "================================================================================\n",
      "\n",
      "📈 Epoch 11/50\n",
      "--------------------------------------------------\n",
      "🔄 Training Phase...\n"
     ]
    },
    {
     "name": "stderr",
     "output_type": "stream",
     "text": [
      "Training: 100%|██████████████████████████████| 162/162 [01:16<00:00,  2.11it/s, Loss=0.1049, Acc=0.9644]\n"
     ]
    },
    {
     "name": "stdout",
     "output_type": "stream",
     "text": [
      "✅ Training completed in 76.77s\n",
      "🔍 Validation Phase...\n"
     ]
    },
    {
     "name": "stderr",
     "output_type": "stream",
     "text": [
      "Validation: 100%|██████████████████████████████| 42/42 [00:12<00:00,  3.28it/s, Loss=2.3268, Acc=0.5715]\n"
     ]
    },
    {
     "name": "stdout",
     "output_type": "stream",
     "text": [
      "✅ Validation completed in 12.80s\n",
      "\n",
      "📊 Epoch 11 Summary:\n",
      "│ Train Loss: 0.1049 | Train Acc: 0.9644\n",
      "│ Val Loss:   2.3268 | Val Acc:   0.5715\n",
      "│ Train Time: 76.77s | Val Time: 12.80s\n",
      "│ Total Epoch Time: 89.57s\n",
      "│ Best Val Acc: 0.5904 (Epoch 9)\n",
      "│ GPU Memory: 0.1GB / 4.5GB\n",
      "================================================================================\n",
      "\n",
      "📈 Epoch 12/50\n",
      "--------------------------------------------------\n",
      "🔄 Training Phase...\n"
     ]
    },
    {
     "name": "stderr",
     "output_type": "stream",
     "text": [
      "Training: 100%|██████████████████████████████| 162/162 [01:17<00:00,  2.10it/s, Loss=0.0761, Acc=0.9756]\n"
     ]
    },
    {
     "name": "stdout",
     "output_type": "stream",
     "text": [
      "✅ Training completed in 77.19s\n",
      "🔍 Validation Phase...\n"
     ]
    },
    {
     "name": "stderr",
     "output_type": "stream",
     "text": [
      "Validation: 100%|██████████████████████████████| 42/42 [00:12<00:00,  3.31it/s, Loss=2.1589, Acc=0.5542]\n"
     ]
    },
    {
     "name": "stdout",
     "output_type": "stream",
     "text": [
      "✅ Validation completed in 12.68s\n",
      "\n",
      "📊 Epoch 12 Summary:\n",
      "│ Train Loss: 0.0761 | Train Acc: 0.9756\n",
      "│ Val Loss:   2.1589 | Val Acc:   0.5542\n",
      "│ Train Time: 77.19s | Val Time: 12.68s\n",
      "│ Total Epoch Time: 89.87s\n",
      "│ Best Val Acc: 0.5904 (Epoch 9)\n",
      "│ GPU Memory: 0.1GB / 4.5GB\n",
      "================================================================================\n",
      "\n",
      "📈 Epoch 13/50\n",
      "--------------------------------------------------\n",
      "🔄 Training Phase...\n"
     ]
    },
    {
     "name": "stderr",
     "output_type": "stream",
     "text": [
      "Training: 100%|██████████████████████████████| 162/162 [01:16<00:00,  2.12it/s, Loss=0.0508, Acc=0.9845]\n"
     ]
    },
    {
     "name": "stdout",
     "output_type": "stream",
     "text": [
      "✅ Training completed in 76.39s\n",
      "🔍 Validation Phase...\n"
     ]
    },
    {
     "name": "stderr",
     "output_type": "stream",
     "text": [
      "Validation: 100%|██████████████████████████████| 42/42 [00:12<00:00,  3.31it/s, Loss=2.2660, Acc=0.5467]\n"
     ]
    },
    {
     "name": "stdout",
     "output_type": "stream",
     "text": [
      "✅ Validation completed in 12.69s\n",
      "\n",
      "📊 Epoch 13 Summary:\n",
      "│ Train Loss: 0.0508 | Train Acc: 0.9845\n",
      "│ Val Loss:   2.2660 | Val Acc:   0.5467\n",
      "│ Train Time: 76.39s | Val Time: 12.69s\n",
      "│ Total Epoch Time: 89.08s\n",
      "│ Best Val Acc: 0.5904 (Epoch 9)\n",
      "│ GPU Memory: 0.1GB / 4.5GB\n",
      "================================================================================\n",
      "\n",
      "📈 Epoch 14/50\n",
      "--------------------------------------------------\n",
      "🔄 Training Phase...\n"
     ]
    },
    {
     "name": "stderr",
     "output_type": "stream",
     "text": [
      "Training: 100%|██████████████████████████████| 162/162 [01:16<00:00,  2.11it/s, Loss=0.0673, Acc=0.9758]\n"
     ]
    },
    {
     "name": "stdout",
     "output_type": "stream",
     "text": [
      "✅ Training completed in 76.87s\n",
      "🔍 Validation Phase...\n"
     ]
    },
    {
     "name": "stderr",
     "output_type": "stream",
     "text": [
      "Validation: 100%|██████████████████████████████| 42/42 [00:12<00:00,  3.33it/s, Loss=2.4697, Acc=0.5873]\n"
     ]
    },
    {
     "name": "stdout",
     "output_type": "stream",
     "text": [
      "✅ Validation completed in 12.62s\n",
      "\n",
      "📊 Epoch 14 Summary:\n",
      "│ Train Loss: 0.0673 | Train Acc: 0.9758\n",
      "│ Val Loss:   2.4697 | Val Acc:   0.5873\n",
      "│ Train Time: 76.87s | Val Time: 12.62s\n",
      "│ Total Epoch Time: 89.50s\n",
      "│ Best Val Acc: 0.5904 (Epoch 9)\n",
      "│ GPU Memory: 0.1GB / 4.5GB\n",
      "================================================================================\n",
      "\n",
      "📈 Epoch 15/50\n",
      "--------------------------------------------------\n",
      "🔄 Training Phase...\n"
     ]
    },
    {
     "name": "stderr",
     "output_type": "stream",
     "text": [
      "Training: 100%|██████████████████████████████| 162/162 [01:16<00:00,  2.11it/s, Loss=0.0448, Acc=0.9832]\n"
     ]
    },
    {
     "name": "stdout",
     "output_type": "stream",
     "text": [
      "✅ Training completed in 76.60s\n",
      "🔍 Validation Phase...\n"
     ]
    },
    {
     "name": "stderr",
     "output_type": "stream",
     "text": [
      "Validation: 100%|██████████████████████████████| 42/42 [00:12<00:00,  3.31it/s, Loss=2.3999, Acc=0.5904]\n"
     ]
    },
    {
     "name": "stdout",
     "output_type": "stream",
     "text": [
      "✅ Validation completed in 12.71s\n",
      "\n",
      "📊 Epoch 15 Summary:\n",
      "│ Train Loss: 0.0448 | Train Acc: 0.9832\n",
      "│ Val Loss:   2.3999 | Val Acc:   0.5904\n",
      "│ Train Time: 76.60s | Val Time: 12.71s\n",
      "│ Total Epoch Time: 89.32s\n",
      "│ Best Val Acc: 0.5904 (Epoch 9)\n",
      "│ GPU Memory: 0.1GB / 4.5GB\n",
      "================================================================================\n",
      "\n",
      "📈 Epoch 16/50\n",
      "--------------------------------------------------\n",
      "🔄 Training Phase...\n"
     ]
    },
    {
     "name": "stderr",
     "output_type": "stream",
     "text": [
      "Training: 100%|██████████████████████████████| 162/162 [01:16<00:00,  2.11it/s, Loss=0.0884, Acc=0.9717]\n"
     ]
    },
    {
     "name": "stdout",
     "output_type": "stream",
     "text": [
      "✅ Training completed in 76.74s\n",
      "🔍 Validation Phase...\n"
     ]
    },
    {
     "name": "stderr",
     "output_type": "stream",
     "text": [
      "Validation: 100%|██████████████████████████████| 42/42 [00:12<00:00,  3.29it/s, Loss=2.3711, Acc=0.5685]\n"
     ]
    },
    {
     "name": "stdout",
     "output_type": "stream",
     "text": [
      "✅ Validation completed in 12.76s\n",
      "\n",
      "📊 Epoch 16 Summary:\n",
      "│ Train Loss: 0.0884 | Train Acc: 0.9717\n",
      "│ Val Loss:   2.3711 | Val Acc:   0.5685\n",
      "│ Train Time: 76.74s | Val Time: 12.76s\n",
      "│ Total Epoch Time: 89.50s\n",
      "│ Best Val Acc: 0.5904 (Epoch 9)\n",
      "│ GPU Memory: 0.1GB / 4.5GB\n",
      "================================================================================\n",
      "\n",
      "📈 Epoch 17/50\n",
      "--------------------------------------------------\n",
      "🔄 Training Phase...\n"
     ]
    },
    {
     "name": "stderr",
     "output_type": "stream",
     "text": [
      "Training: 100%|██████████████████████████████| 162/162 [01:16<00:00,  2.11it/s, Loss=0.0394, Acc=0.9876]\n"
     ]
    },
    {
     "name": "stdout",
     "output_type": "stream",
     "text": [
      "✅ Training completed in 76.87s\n",
      "🔍 Validation Phase...\n"
     ]
    },
    {
     "name": "stderr",
     "output_type": "stream",
     "text": [
      "Validation: 100%|██████████████████████████████| 42/42 [00:12<00:00,  3.30it/s, Loss=2.2325, Acc=0.5723]\n"
     ]
    },
    {
     "name": "stdout",
     "output_type": "stream",
     "text": [
      "✅ Validation completed in 12.73s\n",
      "\n",
      "📊 Epoch 17 Summary:\n",
      "│ Train Loss: 0.0394 | Train Acc: 0.9876\n",
      "│ Val Loss:   2.2325 | Val Acc:   0.5723\n",
      "│ Train Time: 76.87s | Val Time: 12.73s\n",
      "│ Total Epoch Time: 89.61s\n",
      "│ Best Val Acc: 0.5904 (Epoch 9)\n",
      "│ GPU Memory: 0.1GB / 4.5GB\n",
      "================================================================================\n",
      "\n",
      "📈 Epoch 18/50\n",
      "--------------------------------------------------\n",
      "🔄 Training Phase...\n"
     ]
    },
    {
     "name": "stderr",
     "output_type": "stream",
     "text": [
      "Training: 100%|██████████████████████████████| 162/162 [01:16<00:00,  2.12it/s, Loss=0.0507, Acc=0.9818]\n"
     ]
    },
    {
     "name": "stdout",
     "output_type": "stream",
     "text": [
      "✅ Training completed in 76.58s\n",
      "🔍 Validation Phase...\n"
     ]
    },
    {
     "name": "stderr",
     "output_type": "stream",
     "text": [
      "Validation: 100%|██████████████████████████████| 42/42 [00:12<00:00,  3.29it/s, Loss=2.3548, Acc=0.5617]\n"
     ]
    },
    {
     "name": "stdout",
     "output_type": "stream",
     "text": [
      "✅ Validation completed in 12.78s\n",
      "\n",
      "📊 Epoch 18 Summary:\n",
      "│ Train Loss: 0.0507 | Train Acc: 0.9818\n",
      "│ Val Loss:   2.3548 | Val Acc:   0.5617\n",
      "│ Train Time: 76.58s | Val Time: 12.78s\n",
      "│ Total Epoch Time: 89.36s\n",
      "│ Best Val Acc: 0.5904 (Epoch 9)\n",
      "│ GPU Memory: 0.1GB / 4.5GB\n",
      "================================================================================\n",
      "\n",
      "📈 Epoch 19/50\n",
      "--------------------------------------------------\n",
      "🔄 Training Phase...\n"
     ]
    },
    {
     "name": "stderr",
     "output_type": "stream",
     "text": [
      "Training: 100%|██████████████████████████████| 162/162 [01:16<00:00,  2.11it/s, Loss=0.0674, Acc=0.9758]\n"
     ]
    },
    {
     "name": "stdout",
     "output_type": "stream",
     "text": [
      "✅ Training completed in 76.71s\n",
      "🔍 Validation Phase...\n"
     ]
    },
    {
     "name": "stderr",
     "output_type": "stream",
     "text": [
      "Validation: 100%|██████████████████████████████| 42/42 [00:12<00:00,  3.28it/s, Loss=2.7077, Acc=0.5602]\n"
     ]
    },
    {
     "name": "stdout",
     "output_type": "stream",
     "text": [
      "✅ Validation completed in 12.82s\n",
      "\n",
      "📊 Epoch 19 Summary:\n",
      "│ Train Loss: 0.0674 | Train Acc: 0.9758\n",
      "│ Val Loss:   2.7077 | Val Acc:   0.5602\n",
      "│ Train Time: 76.71s | Val Time: 12.82s\n",
      "│ Total Epoch Time: 89.54s\n",
      "│ Best Val Acc: 0.5904 (Epoch 9)\n",
      "│ GPU Memory: 0.1GB / 4.5GB\n",
      "================================================================================\n",
      "\n",
      "📈 Epoch 20/50\n",
      "--------------------------------------------------\n",
      "🔄 Training Phase...\n"
     ]
    },
    {
     "name": "stderr",
     "output_type": "stream",
     "text": [
      "Training: 100%|██████████████████████████████| 162/162 [01:17<00:00,  2.10it/s, Loss=0.0401, Acc=0.9845]\n"
     ]
    },
    {
     "name": "stdout",
     "output_type": "stream",
     "text": [
      "✅ Training completed in 77.04s\n",
      "🔍 Validation Phase...\n"
     ]
    },
    {
     "name": "stderr",
     "output_type": "stream",
     "text": [
      "Validation: 100%|██████████████████████████████| 42/42 [00:12<00:00,  3.30it/s, Loss=2.1988, Acc=0.6002]\n"
     ]
    },
    {
     "name": "stdout",
     "output_type": "stream",
     "text": [
      "✅ Validation completed in 12.75s\n",
      "🌟 New best DenseNet-121 model found! Validation Accuracy: 0.6002\n",
      "\n",
      "📊 Epoch 20 Summary:\n",
      "│ Train Loss: 0.0401 | Train Acc: 0.9845\n",
      "│ Val Loss:   2.1988 | Val Acc:   0.6002\n",
      "│ Train Time: 77.04s | Val Time: 12.75s\n",
      "│ Total Epoch Time: 89.80s\n",
      "│ Best Val Acc: 0.6002 (Epoch 20)\n",
      "│ GPU Memory: 0.1GB / 4.5GB\n",
      "================================================================================\n",
      "\n",
      "📈 Epoch 21/50\n",
      "--------------------------------------------------\n",
      "🔄 Training Phase...\n"
     ]
    },
    {
     "name": "stderr",
     "output_type": "stream",
     "text": [
      "Training: 100%|██████████████████████████████| 162/162 [01:16<00:00,  2.11it/s, Loss=0.0335, Acc=0.9884]\n"
     ]
    },
    {
     "name": "stdout",
     "output_type": "stream",
     "text": [
      "✅ Training completed in 76.61s\n",
      "🔍 Validation Phase...\n"
     ]
    },
    {
     "name": "stderr",
     "output_type": "stream",
     "text": [
      "Validation: 100%|██████████████████████████████| 42/42 [00:12<00:00,  3.31it/s, Loss=2.2084, Acc=0.6069]\n"
     ]
    },
    {
     "name": "stdout",
     "output_type": "stream",
     "text": [
      "✅ Validation completed in 12.71s\n",
      "🌟 New best DenseNet-121 model found! Validation Accuracy: 0.6069\n",
      "\n",
      "📊 Epoch 21 Summary:\n",
      "│ Train Loss: 0.0335 | Train Acc: 0.9884\n",
      "│ Val Loss:   2.2084 | Val Acc:   0.6069\n",
      "│ Train Time: 76.61s | Val Time: 12.71s\n",
      "│ Total Epoch Time: 89.32s\n",
      "│ Best Val Acc: 0.6069 (Epoch 21)\n",
      "│ GPU Memory: 0.1GB / 4.5GB\n",
      "================================================================================\n",
      "\n",
      "📈 Epoch 22/50\n",
      "--------------------------------------------------\n",
      "🔄 Training Phase...\n"
     ]
    },
    {
     "name": "stderr",
     "output_type": "stream",
     "text": [
      "Training: 100%|██████████████████████████████| 162/162 [01:16<00:00,  2.12it/s, Loss=0.0229, Acc=0.9909]\n"
     ]
    },
    {
     "name": "stdout",
     "output_type": "stream",
     "text": [
      "✅ Training completed in 76.49s\n",
      "🔍 Validation Phase...\n"
     ]
    },
    {
     "name": "stderr",
     "output_type": "stream",
     "text": [
      "Validation: 100%|██████████████████████████████| 42/42 [00:12<00:00,  3.32it/s, Loss=2.0394, Acc=0.6386]\n"
     ]
    },
    {
     "name": "stdout",
     "output_type": "stream",
     "text": [
      "✅ Validation completed in 12.65s\n",
      "🌟 New best DenseNet-121 model found! Validation Accuracy: 0.6386\n",
      "\n",
      "📊 Epoch 22 Summary:\n",
      "│ Train Loss: 0.0229 | Train Acc: 0.9909\n",
      "│ Val Loss:   2.0394 | Val Acc:   0.6386\n",
      "│ Train Time: 76.49s | Val Time: 12.65s\n",
      "│ Total Epoch Time: 89.15s\n",
      "│ Best Val Acc: 0.6386 (Epoch 22)\n",
      "│ GPU Memory: 0.1GB / 4.5GB\n",
      "================================================================================\n",
      "\n",
      "📈 Epoch 23/50\n",
      "--------------------------------------------------\n",
      "🔄 Training Phase...\n"
     ]
    },
    {
     "name": "stderr",
     "output_type": "stream",
     "text": [
      "Training: 100%|██████████████████████████████| 162/162 [01:16<00:00,  2.11it/s, Loss=0.0186, Acc=0.9925]\n"
     ]
    },
    {
     "name": "stdout",
     "output_type": "stream",
     "text": [
      "✅ Training completed in 76.78s\n",
      "🔍 Validation Phase...\n"
     ]
    },
    {
     "name": "stderr",
     "output_type": "stream",
     "text": [
      "Validation: 100%|██████████████████████████████| 42/42 [00:12<00:00,  3.29it/s, Loss=2.2154, Acc=0.6242]\n"
     ]
    },
    {
     "name": "stdout",
     "output_type": "stream",
     "text": [
      "✅ Validation completed in 12.77s\n",
      "\n",
      "📊 Epoch 23 Summary:\n",
      "│ Train Loss: 0.0186 | Train Acc: 0.9925\n",
      "│ Val Loss:   2.2154 | Val Acc:   0.6242\n",
      "│ Train Time: 76.78s | Val Time: 12.77s\n",
      "│ Total Epoch Time: 89.55s\n",
      "│ Best Val Acc: 0.6386 (Epoch 22)\n",
      "│ GPU Memory: 0.1GB / 4.5GB\n",
      "================================================================================\n",
      "\n",
      "📈 Epoch 24/50\n",
      "--------------------------------------------------\n",
      "🔄 Training Phase...\n"
     ]
    },
    {
     "name": "stderr",
     "output_type": "stream",
     "text": [
      "Training: 100%|██████████████████████████████| 162/162 [01:16<00:00,  2.11it/s, Loss=0.0149, Acc=0.9930]\n"
     ]
    },
    {
     "name": "stdout",
     "output_type": "stream",
     "text": [
      "✅ Training completed in 76.91s\n",
      "🔍 Validation Phase...\n"
     ]
    },
    {
     "name": "stderr",
     "output_type": "stream",
     "text": [
      "Validation: 100%|██████████████████████████████| 42/42 [00:12<00:00,  3.27it/s, Loss=2.0719, Acc=0.6370]\n"
     ]
    },
    {
     "name": "stdout",
     "output_type": "stream",
     "text": [
      "✅ Validation completed in 12.85s\n",
      "\n",
      "📊 Epoch 24 Summary:\n",
      "│ Train Loss: 0.0149 | Train Acc: 0.9930\n",
      "│ Val Loss:   2.0719 | Val Acc:   0.6370\n",
      "│ Train Time: 76.91s | Val Time: 12.85s\n",
      "│ Total Epoch Time: 89.76s\n",
      "│ Best Val Acc: 0.6386 (Epoch 22)\n",
      "│ GPU Memory: 0.1GB / 4.5GB\n",
      "================================================================================\n",
      "\n",
      "📈 Epoch 25/50\n",
      "--------------------------------------------------\n",
      "🔄 Training Phase...\n"
     ]
    },
    {
     "name": "stderr",
     "output_type": "stream",
     "text": [
      "Training: 100%|██████████████████████████████| 162/162 [01:17<00:00,  2.09it/s, Loss=0.0149, Acc=0.9936]\n"
     ]
    },
    {
     "name": "stdout",
     "output_type": "stream",
     "text": [
      "✅ Training completed in 77.47s\n",
      "🔍 Validation Phase...\n"
     ]
    },
    {
     "name": "stderr",
     "output_type": "stream",
     "text": [
      "Validation: 100%|██████████████████████████████| 42/42 [00:12<00:00,  3.31it/s, Loss=2.2381, Acc=0.6273]\n"
     ]
    },
    {
     "name": "stdout",
     "output_type": "stream",
     "text": [
      "✅ Validation completed in 12.68s\n",
      "\n",
      "📊 Epoch 25 Summary:\n",
      "│ Train Loss: 0.0149 | Train Acc: 0.9936\n",
      "│ Val Loss:   2.2381 | Val Acc:   0.6273\n",
      "│ Train Time: 77.47s | Val Time: 12.68s\n",
      "│ Total Epoch Time: 90.16s\n",
      "│ Best Val Acc: 0.6386 (Epoch 22)\n",
      "│ GPU Memory: 0.1GB / 4.5GB\n",
      "================================================================================\n",
      "\n",
      "📈 Epoch 26/50\n",
      "--------------------------------------------------\n",
      "🔄 Training Phase...\n"
     ]
    },
    {
     "name": "stderr",
     "output_type": "stream",
     "text": [
      "Training: 100%|██████████████████████████████| 162/162 [01:19<00:00,  2.04it/s, Loss=0.1088, Acc=0.9621]\n"
     ]
    },
    {
     "name": "stdout",
     "output_type": "stream",
     "text": [
      "✅ Training completed in 79.54s\n",
      "🔍 Validation Phase...\n"
     ]
    },
    {
     "name": "stderr",
     "output_type": "stream",
     "text": [
      "Validation: 100%|██████████████████████████████| 42/42 [00:12<00:00,  3.31it/s, Loss=3.1663, Acc=0.5565]\n"
     ]
    },
    {
     "name": "stdout",
     "output_type": "stream",
     "text": [
      "✅ Validation completed in 12.70s\n",
      "\n",
      "📊 Epoch 26 Summary:\n",
      "│ Train Loss: 0.1088 | Train Acc: 0.9621\n",
      "│ Val Loss:   3.1663 | Val Acc:   0.5565\n",
      "│ Train Time: 79.54s | Val Time: 12.70s\n",
      "│ Total Epoch Time: 92.25s\n",
      "│ Best Val Acc: 0.6386 (Epoch 22)\n",
      "│ GPU Memory: 0.1GB / 4.5GB\n",
      "================================================================================\n",
      "\n",
      "📈 Epoch 27/50\n",
      "--------------------------------------------------\n",
      "🔄 Training Phase...\n"
     ]
    },
    {
     "name": "stderr",
     "output_type": "stream",
     "text": [
      "Training: 100%|██████████████████████████████| 162/162 [01:21<00:00,  1.99it/s, Loss=0.0947, Acc=0.9706]\n"
     ]
    },
    {
     "name": "stdout",
     "output_type": "stream",
     "text": [
      "✅ Training completed in 81.48s\n",
      "🔍 Validation Phase...\n"
     ]
    },
    {
     "name": "stderr",
     "output_type": "stream",
     "text": [
      "Validation: 100%|██████████████████████████████| 42/42 [00:12<00:00,  3.27it/s, Loss=2.1171, Acc=0.6160]\n"
     ]
    },
    {
     "name": "stdout",
     "output_type": "stream",
     "text": [
      "✅ Validation completed in 12.84s\n",
      "\n",
      "📊 Epoch 27 Summary:\n",
      "│ Train Loss: 0.0947 | Train Acc: 0.9706\n",
      "│ Val Loss:   2.1171 | Val Acc:   0.6160\n",
      "│ Train Time: 81.48s | Val Time: 12.84s\n",
      "│ Total Epoch Time: 94.33s\n",
      "│ Best Val Acc: 0.6386 (Epoch 22)\n",
      "│ GPU Memory: 0.1GB / 4.5GB\n",
      "================================================================================\n",
      "\n",
      "📈 Epoch 28/50\n",
      "--------------------------------------------------\n",
      "🔄 Training Phase...\n"
     ]
    },
    {
     "name": "stderr",
     "output_type": "stream",
     "text": [
      "Training: 100%|██████████████████████████████| 162/162 [01:21<00:00,  1.98it/s, Loss=0.0236, Acc=0.9911]\n"
     ]
    },
    {
     "name": "stdout",
     "output_type": "stream",
     "text": [
      "✅ Training completed in 81.89s\n",
      "🔍 Validation Phase...\n"
     ]
    },
    {
     "name": "stderr",
     "output_type": "stream",
     "text": [
      "Validation: 100%|██████████████████████████████| 42/42 [00:12<00:00,  3.27it/s, Loss=2.3298, Acc=0.6363]\n"
     ]
    },
    {
     "name": "stdout",
     "output_type": "stream",
     "text": [
      "✅ Validation completed in 12.85s\n",
      "\n",
      "📊 Epoch 28 Summary:\n",
      "│ Train Loss: 0.0236 | Train Acc: 0.9911\n",
      "│ Val Loss:   2.3298 | Val Acc:   0.6363\n",
      "│ Train Time: 81.89s | Val Time: 12.85s\n",
      "│ Total Epoch Time: 94.74s\n",
      "│ Best Val Acc: 0.6386 (Epoch 22)\n",
      "│ GPU Memory: 0.1GB / 4.5GB\n",
      "================================================================================\n",
      "\n",
      "📈 Epoch 29/50\n",
      "--------------------------------------------------\n",
      "🔄 Training Phase...\n"
     ]
    },
    {
     "name": "stderr",
     "output_type": "stream",
     "text": [
      "Training: 100%|██████████████████████████████| 162/162 [01:23<00:00,  1.95it/s, Loss=0.0176, Acc=0.9925]\n"
     ]
    },
    {
     "name": "stdout",
     "output_type": "stream",
     "text": [
      "✅ Training completed in 83.09s\n",
      "🔍 Validation Phase...\n"
     ]
    },
    {
     "name": "stderr",
     "output_type": "stream",
     "text": [
      "Validation: 100%|██████████████████████████████| 42/42 [00:13<00:00,  3.17it/s, Loss=2.3415, Acc=0.5896]\n"
     ]
    },
    {
     "name": "stdout",
     "output_type": "stream",
     "text": [
      "✅ Validation completed in 13.27s\n",
      "\n",
      "📊 Epoch 29 Summary:\n",
      "│ Train Loss: 0.0176 | Train Acc: 0.9925\n",
      "│ Val Loss:   2.3415 | Val Acc:   0.5896\n",
      "│ Train Time: 83.09s | Val Time: 13.27s\n",
      "│ Total Epoch Time: 96.36s\n",
      "│ Best Val Acc: 0.6386 (Epoch 22)\n",
      "│ GPU Memory: 0.1GB / 4.5GB\n",
      "================================================================================\n",
      "\n",
      "📈 Epoch 30/50\n",
      "--------------------------------------------------\n",
      "🔄 Training Phase...\n"
     ]
    },
    {
     "name": "stderr",
     "output_type": "stream",
     "text": [
      "Training: 100%|██████████████████████████████| 162/162 [01:22<00:00,  1.95it/s, Loss=0.0311, Acc=0.9876]\n"
     ]
    },
    {
     "name": "stdout",
     "output_type": "stream",
     "text": [
      "✅ Training completed in 82.95s\n",
      "🔍 Validation Phase...\n"
     ]
    },
    {
     "name": "stderr",
     "output_type": "stream",
     "text": [
      "Validation: 100%|██████████████████████████████| 42/42 [00:12<00:00,  3.27it/s, Loss=2.2811, Acc=0.6167]\n"
     ]
    },
    {
     "name": "stdout",
     "output_type": "stream",
     "text": [
      "✅ Validation completed in 12.86s\n",
      "\n",
      "📊 Epoch 30 Summary:\n",
      "│ Train Loss: 0.0311 | Train Acc: 0.9876\n",
      "│ Val Loss:   2.2811 | Val Acc:   0.6167\n",
      "│ Train Time: 82.95s | Val Time: 12.86s\n",
      "│ Total Epoch Time: 95.81s\n",
      "│ Best Val Acc: 0.6386 (Epoch 22)\n",
      "│ GPU Memory: 0.1GB / 4.5GB\n",
      "================================================================================\n",
      "\n",
      "📈 Epoch 31/50\n",
      "--------------------------------------------------\n",
      "🔄 Training Phase...\n"
     ]
    },
    {
     "name": "stderr",
     "output_type": "stream",
     "text": [
      "Training: 100%|██████████████████████████████| 162/162 [01:22<00:00,  1.95it/s, Loss=0.0249, Acc=0.9897]\n"
     ]
    },
    {
     "name": "stdout",
     "output_type": "stream",
     "text": [
      "✅ Training completed in 82.94s\n",
      "🔍 Validation Phase...\n"
     ]
    },
    {
     "name": "stderr",
     "output_type": "stream",
     "text": [
      "Validation: 100%|██████████████████████████████| 42/42 [00:13<00:00,  3.22it/s, Loss=2.5780, Acc=0.5919]\n"
     ]
    },
    {
     "name": "stdout",
     "output_type": "stream",
     "text": [
      "✅ Validation completed in 13.06s\n",
      "\n",
      "📊 Epoch 31 Summary:\n",
      "│ Train Loss: 0.0249 | Train Acc: 0.9897\n",
      "│ Val Loss:   2.5780 | Val Acc:   0.5919\n",
      "│ Train Time: 82.94s | Val Time: 13.06s\n",
      "│ Total Epoch Time: 96.01s\n",
      "│ Best Val Acc: 0.6386 (Epoch 22)\n",
      "│ GPU Memory: 0.1GB / 4.5GB\n",
      "================================================================================\n",
      "\n",
      "📈 Epoch 32/50\n",
      "--------------------------------------------------\n",
      "🔄 Training Phase...\n"
     ]
    },
    {
     "name": "stderr",
     "output_type": "stream",
     "text": [
      "Training: 100%|██████████████████████████████| 162/162 [01:23<00:00,  1.94it/s, Loss=0.0442, Acc=0.9849]\n"
     ]
    },
    {
     "name": "stdout",
     "output_type": "stream",
     "text": [
      "✅ Training completed in 83.31s\n",
      "🔍 Validation Phase...\n"
     ]
    },
    {
     "name": "stderr",
     "output_type": "stream",
     "text": [
      "Validation: 100%|██████████████████████████████| 42/42 [00:13<00:00,  3.22it/s, Loss=2.8907, Acc=0.5565]\n"
     ]
    },
    {
     "name": "stdout",
     "output_type": "stream",
     "text": [
      "✅ Validation completed in 13.06s\n",
      "\n",
      "📊 Epoch 32 Summary:\n",
      "│ Train Loss: 0.0442 | Train Acc: 0.9849\n",
      "│ Val Loss:   2.8907 | Val Acc:   0.5565\n",
      "│ Train Time: 83.31s | Val Time: 13.06s\n",
      "│ Total Epoch Time: 96.37s\n",
      "│ Best Val Acc: 0.6386 (Epoch 22)\n",
      "│ GPU Memory: 0.1GB / 4.5GB\n",
      "================================================================================\n",
      "\n",
      "📈 Epoch 33/50\n",
      "--------------------------------------------------\n",
      "🔄 Training Phase...\n"
     ]
    },
    {
     "name": "stderr",
     "output_type": "stream",
     "text": [
      "Training: 100%|██████████████████████████████| 162/162 [01:20<00:00,  2.02it/s, Loss=0.0213, Acc=0.9911]\n"
     ]
    },
    {
     "name": "stdout",
     "output_type": "stream",
     "text": [
      "✅ Training completed in 80.36s\n",
      "🔍 Validation Phase...\n"
     ]
    },
    {
     "name": "stderr",
     "output_type": "stream",
     "text": [
      "Validation: 100%|██████████████████████████████| 42/42 [00:12<00:00,  3.32it/s, Loss=2.2963, Acc=0.6227]\n"
     ]
    },
    {
     "name": "stdout",
     "output_type": "stream",
     "text": [
      "✅ Validation completed in 12.67s\n",
      "\n",
      "📊 Epoch 33 Summary:\n",
      "│ Train Loss: 0.0213 | Train Acc: 0.9911\n",
      "│ Val Loss:   2.2963 | Val Acc:   0.6227\n",
      "│ Train Time: 80.36s | Val Time: 12.67s\n",
      "│ Total Epoch Time: 93.03s\n",
      "│ Best Val Acc: 0.6386 (Epoch 22)\n",
      "│ GPU Memory: 0.1GB / 4.5GB\n",
      "================================================================================\n",
      "\n",
      "📈 Epoch 34/50\n",
      "--------------------------------------------------\n",
      "🔄 Training Phase...\n"
     ]
    },
    {
     "name": "stderr",
     "output_type": "stream",
     "text": [
      "Training: 100%|██████████████████████████████| 162/162 [01:17<00:00,  2.09it/s, Loss=0.0147, Acc=0.9942]\n"
     ]
    },
    {
     "name": "stdout",
     "output_type": "stream",
     "text": [
      "✅ Training completed in 77.69s\n",
      "🔍 Validation Phase...\n"
     ]
    },
    {
     "name": "stderr",
     "output_type": "stream",
     "text": [
      "Validation: 100%|██████████████████████████████| 42/42 [00:12<00:00,  3.32it/s, Loss=2.3733, Acc=0.6521]\n"
     ]
    },
    {
     "name": "stdout",
     "output_type": "stream",
     "text": [
      "✅ Validation completed in 12.67s\n",
      "🌟 New best DenseNet-121 model found! Validation Accuracy: 0.6521\n",
      "\n",
      "📊 Epoch 34 Summary:\n",
      "│ Train Loss: 0.0147 | Train Acc: 0.9942\n",
      "│ Val Loss:   2.3733 | Val Acc:   0.6521\n",
      "│ Train Time: 77.69s | Val Time: 12.67s\n",
      "│ Total Epoch Time: 90.37s\n",
      "│ Best Val Acc: 0.6521 (Epoch 34)\n",
      "│ GPU Memory: 0.1GB / 4.5GB\n",
      "================================================================================\n",
      "\n",
      "📈 Epoch 35/50\n",
      "--------------------------------------------------\n",
      "🔄 Training Phase...\n"
     ]
    },
    {
     "name": "stderr",
     "output_type": "stream",
     "text": [
      "Training: 100%|██████████████████████████████| 162/162 [01:17<00:00,  2.09it/s, Loss=0.0215, Acc=0.9905]\n"
     ]
    },
    {
     "name": "stdout",
     "output_type": "stream",
     "text": [
      "✅ Training completed in 77.59s\n",
      "🔍 Validation Phase...\n"
     ]
    },
    {
     "name": "stderr",
     "output_type": "stream",
     "text": [
      "Validation: 100%|██████████████████████████████| 42/42 [00:12<00:00,  3.30it/s, Loss=2.6495, Acc=0.5858]\n"
     ]
    },
    {
     "name": "stdout",
     "output_type": "stream",
     "text": [
      "✅ Validation completed in 12.73s\n",
      "\n",
      "📊 Epoch 35 Summary:\n",
      "│ Train Loss: 0.0215 | Train Acc: 0.9905\n",
      "│ Val Loss:   2.6495 | Val Acc:   0.5858\n",
      "│ Train Time: 77.59s | Val Time: 12.73s\n",
      "│ Total Epoch Time: 90.32s\n",
      "│ Best Val Acc: 0.6521 (Epoch 34)\n",
      "│ GPU Memory: 0.1GB / 4.5GB\n",
      "================================================================================\n",
      "\n",
      "📈 Epoch 36/50\n",
      "--------------------------------------------------\n",
      "🔄 Training Phase...\n"
     ]
    },
    {
     "name": "stderr",
     "output_type": "stream",
     "text": [
      "Training: 100%|██████████████████████████████| 162/162 [01:16<00:00,  2.10it/s, Loss=0.0409, Acc=0.9859]\n"
     ]
    },
    {
     "name": "stdout",
     "output_type": "stream",
     "text": [
      "✅ Training completed in 76.98s\n",
      "🔍 Validation Phase...\n"
     ]
    },
    {
     "name": "stderr",
     "output_type": "stream",
     "text": [
      "Validation: 100%|██████████████████████████████| 42/42 [00:12<00:00,  3.31it/s, Loss=2.7522, Acc=0.5602]\n"
     ]
    },
    {
     "name": "stdout",
     "output_type": "stream",
     "text": [
      "✅ Validation completed in 12.70s\n",
      "\n",
      "📊 Epoch 36 Summary:\n",
      "│ Train Loss: 0.0409 | Train Acc: 0.9859\n",
      "│ Val Loss:   2.7522 | Val Acc:   0.5602\n",
      "│ Train Time: 76.98s | Val Time: 12.70s\n",
      "│ Total Epoch Time: 89.68s\n",
      "│ Best Val Acc: 0.6521 (Epoch 34)\n",
      "│ GPU Memory: 0.1GB / 4.5GB\n",
      "================================================================================\n",
      "\n",
      "📈 Epoch 37/50\n",
      "--------------------------------------------------\n",
      "🔄 Training Phase...\n"
     ]
    },
    {
     "name": "stderr",
     "output_type": "stream",
     "text": [
      "Training: 100%|██████████████████████████████| 162/162 [01:16<00:00,  2.11it/s, Loss=0.0773, Acc=0.9739]\n"
     ]
    },
    {
     "name": "stdout",
     "output_type": "stream",
     "text": [
      "✅ Training completed in 76.85s\n",
      "🔍 Validation Phase...\n"
     ]
    },
    {
     "name": "stderr",
     "output_type": "stream",
     "text": [
      "Validation: 100%|██████████████████████████████| 42/42 [00:12<00:00,  3.28it/s, Loss=3.2046, Acc=0.5753]\n"
     ]
    },
    {
     "name": "stdout",
     "output_type": "stream",
     "text": [
      "✅ Validation completed in 12.80s\n",
      "\n",
      "📊 Epoch 37 Summary:\n",
      "│ Train Loss: 0.0773 | Train Acc: 0.9739\n",
      "│ Val Loss:   3.2046 | Val Acc:   0.5753\n",
      "│ Train Time: 76.85s | Val Time: 12.80s\n",
      "│ Total Epoch Time: 89.65s\n",
      "│ Best Val Acc: 0.6521 (Epoch 34)\n",
      "│ GPU Memory: 0.1GB / 4.5GB\n",
      "================================================================================\n",
      "\n",
      "📈 Epoch 38/50\n",
      "--------------------------------------------------\n",
      "🔄 Training Phase...\n"
     ]
    },
    {
     "name": "stderr",
     "output_type": "stream",
     "text": [
      "Training: 100%|██████████████████████████████| 162/162 [01:17<00:00,  2.10it/s, Loss=0.0387, Acc=0.9851]\n"
     ]
    },
    {
     "name": "stdout",
     "output_type": "stream",
     "text": [
      "✅ Training completed in 77.08s\n",
      "🔍 Validation Phase...\n"
     ]
    },
    {
     "name": "stderr",
     "output_type": "stream",
     "text": [
      "Validation: 100%|██████████████████████████████| 42/42 [00:12<00:00,  3.29it/s, Loss=2.2522, Acc=0.6303]\n"
     ]
    },
    {
     "name": "stdout",
     "output_type": "stream",
     "text": [
      "✅ Validation completed in 12.78s\n",
      "\n",
      "📊 Epoch 38 Summary:\n",
      "│ Train Loss: 0.0387 | Train Acc: 0.9851\n",
      "│ Val Loss:   2.2522 | Val Acc:   0.6303\n",
      "│ Train Time: 77.08s | Val Time: 12.78s\n",
      "│ Total Epoch Time: 89.87s\n",
      "│ Best Val Acc: 0.6521 (Epoch 34)\n",
      "│ GPU Memory: 0.1GB / 4.5GB\n",
      "================================================================================\n",
      "\n",
      "📈 Epoch 39/50\n",
      "--------------------------------------------------\n",
      "🔄 Training Phase...\n"
     ]
    },
    {
     "name": "stderr",
     "output_type": "stream",
     "text": [
      "Training: 100%|██████████████████████████████| 162/162 [01:17<00:00,  2.10it/s, Loss=0.0275, Acc=0.9876]\n"
     ]
    },
    {
     "name": "stdout",
     "output_type": "stream",
     "text": [
      "✅ Training completed in 77.16s\n",
      "🔍 Validation Phase...\n"
     ]
    },
    {
     "name": "stderr",
     "output_type": "stream",
     "text": [
      "Validation: 100%|██████████████████████████████| 42/42 [00:12<00:00,  3.27it/s, Loss=2.3759, Acc=0.6130]\n"
     ]
    },
    {
     "name": "stdout",
     "output_type": "stream",
     "text": [
      "✅ Validation completed in 12.84s\n",
      "\n",
      "📊 Epoch 39 Summary:\n",
      "│ Train Loss: 0.0275 | Train Acc: 0.9876\n",
      "│ Val Loss:   2.3759 | Val Acc:   0.6130\n",
      "│ Train Time: 77.16s | Val Time: 12.84s\n",
      "│ Total Epoch Time: 90.00s\n",
      "│ Best Val Acc: 0.6521 (Epoch 34)\n",
      "│ GPU Memory: 0.1GB / 4.5GB\n",
      "================================================================================\n",
      "\n",
      "📈 Epoch 40/50\n",
      "--------------------------------------------------\n",
      "🔄 Training Phase...\n"
     ]
    },
    {
     "name": "stderr",
     "output_type": "stream",
     "text": [
      "Training: 100%|██████████████████████████████| 162/162 [01:16<00:00,  2.11it/s, Loss=0.0326, Acc=0.9870]\n"
     ]
    },
    {
     "name": "stdout",
     "output_type": "stream",
     "text": [
      "✅ Training completed in 76.87s\n",
      "🔍 Validation Phase...\n"
     ]
    },
    {
     "name": "stderr",
     "output_type": "stream",
     "text": [
      "Validation: 100%|██████████████████████████████| 42/42 [00:12<00:00,  3.32it/s, Loss=2.5835, Acc=0.6235]\n"
     ]
    },
    {
     "name": "stdout",
     "output_type": "stream",
     "text": [
      "✅ Validation completed in 12.66s\n",
      "\n",
      "📊 Epoch 40 Summary:\n",
      "│ Train Loss: 0.0326 | Train Acc: 0.9870\n",
      "│ Val Loss:   2.5835 | Val Acc:   0.6235\n",
      "│ Train Time: 76.87s | Val Time: 12.66s\n",
      "│ Total Epoch Time: 89.53s\n",
      "│ Best Val Acc: 0.6521 (Epoch 34)\n",
      "│ GPU Memory: 0.1GB / 4.5GB\n",
      "================================================================================\n",
      "\n",
      "📈 Epoch 41/50\n",
      "--------------------------------------------------\n",
      "🔄 Training Phase...\n"
     ]
    },
    {
     "name": "stderr",
     "output_type": "stream",
     "text": [
      "Training: 100%|██████████████████████████████| 162/162 [01:16<00:00,  2.11it/s, Loss=0.0410, Acc=0.9853]\n"
     ]
    },
    {
     "name": "stdout",
     "output_type": "stream",
     "text": [
      "✅ Training completed in 76.68s\n",
      "🔍 Validation Phase...\n"
     ]
    },
    {
     "name": "stderr",
     "output_type": "stream",
     "text": [
      "Validation: 100%|██████████████████████████████| 42/42 [00:12<00:00,  3.31it/s, Loss=2.7811, Acc=0.5964]\n"
     ]
    },
    {
     "name": "stdout",
     "output_type": "stream",
     "text": [
      "✅ Validation completed in 12.68s\n",
      "\n",
      "📊 Epoch 41 Summary:\n",
      "│ Train Loss: 0.0410 | Train Acc: 0.9853\n",
      "│ Val Loss:   2.7811 | Val Acc:   0.5964\n",
      "│ Train Time: 76.68s | Val Time: 12.68s\n",
      "│ Total Epoch Time: 89.37s\n",
      "│ Best Val Acc: 0.6521 (Epoch 34)\n",
      "│ GPU Memory: 0.1GB / 4.5GB\n",
      "================================================================================\n",
      "\n",
      "📈 Epoch 42/50\n",
      "--------------------------------------------------\n",
      "🔄 Training Phase...\n"
     ]
    },
    {
     "name": "stderr",
     "output_type": "stream",
     "text": [
      "Training: 100%|██████████████████████████████| 162/162 [01:16<00:00,  2.11it/s, Loss=0.0294, Acc=0.9874]\n"
     ]
    },
    {
     "name": "stdout",
     "output_type": "stream",
     "text": [
      "✅ Training completed in 76.67s\n",
      "🔍 Validation Phase...\n"
     ]
    },
    {
     "name": "stderr",
     "output_type": "stream",
     "text": [
      "Validation: 100%|██████████████████████████████| 42/42 [00:12<00:00,  3.29it/s, Loss=3.0056, Acc=0.5730]\n"
     ]
    },
    {
     "name": "stdout",
     "output_type": "stream",
     "text": [
      "✅ Validation completed in 12.75s\n",
      "\n",
      "📊 Epoch 42 Summary:\n",
      "│ Train Loss: 0.0294 | Train Acc: 0.9874\n",
      "│ Val Loss:   3.0056 | Val Acc:   0.5730\n",
      "│ Train Time: 76.67s | Val Time: 12.75s\n",
      "│ Total Epoch Time: 89.43s\n",
      "│ Best Val Acc: 0.6521 (Epoch 34)\n",
      "│ GPU Memory: 0.1GB / 4.5GB\n",
      "================================================================================\n",
      "\n",
      "📈 Epoch 43/50\n",
      "--------------------------------------------------\n",
      "🔄 Training Phase...\n"
     ]
    },
    {
     "name": "stderr",
     "output_type": "stream",
     "text": [
      "Training: 100%|██████████████████████████████| 162/162 [01:16<00:00,  2.11it/s, Loss=0.0262, Acc=0.9897]\n"
     ]
    },
    {
     "name": "stdout",
     "output_type": "stream",
     "text": [
      "✅ Training completed in 76.61s\n",
      "🔍 Validation Phase...\n"
     ]
    },
    {
     "name": "stderr",
     "output_type": "stream",
     "text": [
      "Validation: 100%|██████████████████████████████| 42/42 [00:12<00:00,  3.31it/s, Loss=2.7890, Acc=0.6227]\n"
     ]
    },
    {
     "name": "stdout",
     "output_type": "stream",
     "text": [
      "✅ Validation completed in 12.70s\n",
      "\n",
      "📊 Epoch 43 Summary:\n",
      "│ Train Loss: 0.0262 | Train Acc: 0.9897\n",
      "│ Val Loss:   2.7890 | Val Acc:   0.6227\n",
      "│ Train Time: 76.61s | Val Time: 12.70s\n",
      "│ Total Epoch Time: 89.31s\n",
      "│ Best Val Acc: 0.6521 (Epoch 34)\n",
      "│ GPU Memory: 0.1GB / 4.5GB\n",
      "================================================================================\n",
      "\n",
      "📈 Epoch 44/50\n",
      "--------------------------------------------------\n",
      "🔄 Training Phase...\n"
     ]
    },
    {
     "name": "stderr",
     "output_type": "stream",
     "text": [
      "Training: 100%|██████████████████████████████| 162/162 [01:16<00:00,  2.11it/s, Loss=0.0151, Acc=0.9932]\n"
     ]
    },
    {
     "name": "stdout",
     "output_type": "stream",
     "text": [
      "✅ Training completed in 76.72s\n",
      "🔍 Validation Phase...\n"
     ]
    },
    {
     "name": "stderr",
     "output_type": "stream",
     "text": [
      "Validation: 100%|██████████████████████████████| 42/42 [00:12<00:00,  3.29it/s, Loss=2.4363, Acc=0.6461]\n"
     ]
    },
    {
     "name": "stdout",
     "output_type": "stream",
     "text": [
      "✅ Validation completed in 12.77s\n",
      "\n",
      "📊 Epoch 44 Summary:\n",
      "│ Train Loss: 0.0151 | Train Acc: 0.9932\n",
      "│ Val Loss:   2.4363 | Val Acc:   0.6461\n",
      "│ Train Time: 76.72s | Val Time: 12.77s\n",
      "│ Total Epoch Time: 89.49s\n",
      "│ Best Val Acc: 0.6521 (Epoch 34)\n",
      "│ GPU Memory: 0.1GB / 4.5GB\n",
      "================================================================================\n",
      "\n",
      "📈 Epoch 45/50\n",
      "--------------------------------------------------\n",
      "🔄 Training Phase...\n"
     ]
    },
    {
     "name": "stderr",
     "output_type": "stream",
     "text": [
      "Training: 100%|██████████████████████████████| 162/162 [01:16<00:00,  2.12it/s, Loss=0.0130, Acc=0.9915]\n"
     ]
    },
    {
     "name": "stdout",
     "output_type": "stream",
     "text": [
      "✅ Training completed in 76.56s\n",
      "🔍 Validation Phase...\n"
     ]
    },
    {
     "name": "stderr",
     "output_type": "stream",
     "text": [
      "Validation: 100%|██████████████████████████████| 42/42 [00:12<00:00,  3.31it/s, Loss=2.4342, Acc=0.6483]\n"
     ]
    },
    {
     "name": "stdout",
     "output_type": "stream",
     "text": [
      "✅ Validation completed in 12.67s\n",
      "\n",
      "📊 Epoch 45 Summary:\n",
      "│ Train Loss: 0.0130 | Train Acc: 0.9915\n",
      "│ Val Loss:   2.4342 | Val Acc:   0.6483\n",
      "│ Train Time: 76.56s | Val Time: 12.67s\n",
      "│ Total Epoch Time: 89.23s\n",
      "│ Best Val Acc: 0.6521 (Epoch 34)\n",
      "│ GPU Memory: 0.1GB / 4.5GB\n",
      "================================================================================\n",
      "\n",
      "📈 Epoch 46/50\n",
      "--------------------------------------------------\n",
      "🔄 Training Phase...\n"
     ]
    },
    {
     "name": "stderr",
     "output_type": "stream",
     "text": [
      "Training: 100%|██████████████████████████████| 162/162 [01:17<00:00,  2.10it/s, Loss=0.0106, Acc=0.9950]\n"
     ]
    },
    {
     "name": "stdout",
     "output_type": "stream",
     "text": [
      "✅ Training completed in 77.09s\n",
      "🔍 Validation Phase...\n"
     ]
    },
    {
     "name": "stderr",
     "output_type": "stream",
     "text": [
      "Validation: 100%|██████████████████████████████| 42/42 [00:12<00:00,  3.32it/s, Loss=2.5182, Acc=0.6333]\n"
     ]
    },
    {
     "name": "stdout",
     "output_type": "stream",
     "text": [
      "✅ Validation completed in 12.66s\n",
      "\n",
      "📊 Epoch 46 Summary:\n",
      "│ Train Loss: 0.0106 | Train Acc: 0.9950\n",
      "│ Val Loss:   2.5182 | Val Acc:   0.6333\n",
      "│ Train Time: 77.09s | Val Time: 12.66s\n",
      "│ Total Epoch Time: 89.75s\n",
      "│ Best Val Acc: 0.6521 (Epoch 34)\n",
      "│ GPU Memory: 0.1GB / 4.5GB\n",
      "================================================================================\n",
      "\n",
      "📈 Epoch 47/50\n",
      "--------------------------------------------------\n",
      "🔄 Training Phase...\n"
     ]
    },
    {
     "name": "stderr",
     "output_type": "stream",
     "text": [
      "Training: 100%|██████████████████████████████| 162/162 [01:16<00:00,  2.11it/s, Loss=0.0115, Acc=0.9926]\n"
     ]
    },
    {
     "name": "stdout",
     "output_type": "stream",
     "text": [
      "✅ Training completed in 76.80s\n",
      "🔍 Validation Phase...\n"
     ]
    },
    {
     "name": "stderr",
     "output_type": "stream",
     "text": [
      "Validation: 100%|██████████████████████████████| 42/42 [00:12<00:00,  3.34it/s, Loss=2.5419, Acc=0.6476]\n"
     ]
    },
    {
     "name": "stdout",
     "output_type": "stream",
     "text": [
      "✅ Validation completed in 12.56s\n",
      "\n",
      "📊 Epoch 47 Summary:\n",
      "│ Train Loss: 0.0115 | Train Acc: 0.9926\n",
      "│ Val Loss:   2.5419 | Val Acc:   0.6476\n",
      "│ Train Time: 76.80s | Val Time: 12.56s\n",
      "│ Total Epoch Time: 89.36s\n",
      "│ Best Val Acc: 0.6521 (Epoch 34)\n",
      "│ GPU Memory: 0.1GB / 4.5GB\n",
      "================================================================================\n",
      "\n",
      "📈 Epoch 48/50\n",
      "--------------------------------------------------\n",
      "🔄 Training Phase...\n"
     ]
    },
    {
     "name": "stderr",
     "output_type": "stream",
     "text": [
      "Training: 100%|██████████████████████████████| 162/162 [01:16<00:00,  2.11it/s, Loss=0.0107, Acc=0.9930]\n"
     ]
    },
    {
     "name": "stdout",
     "output_type": "stream",
     "text": [
      "✅ Training completed in 76.62s\n",
      "🔍 Validation Phase...\n"
     ]
    },
    {
     "name": "stderr",
     "output_type": "stream",
     "text": [
      "Validation: 100%|██████████████████████████████| 42/42 [00:12<00:00,  3.33it/s, Loss=2.6537, Acc=0.6130]\n"
     ]
    },
    {
     "name": "stdout",
     "output_type": "stream",
     "text": [
      "✅ Validation completed in 12.63s\n",
      "\n",
      "📊 Epoch 48 Summary:\n",
      "│ Train Loss: 0.0107 | Train Acc: 0.9930\n",
      "│ Val Loss:   2.6537 | Val Acc:   0.6130\n",
      "│ Train Time: 76.62s | Val Time: 12.63s\n",
      "│ Total Epoch Time: 89.25s\n",
      "│ Best Val Acc: 0.6521 (Epoch 34)\n",
      "│ GPU Memory: 0.1GB / 4.5GB\n",
      "================================================================================\n",
      "\n",
      "📈 Epoch 49/50\n",
      "--------------------------------------------------\n",
      "🔄 Training Phase...\n"
     ]
    },
    {
     "name": "stderr",
     "output_type": "stream",
     "text": [
      "Training: 100%|██████████████████████████████| 162/162 [01:16<00:00,  2.11it/s, Loss=0.0522, Acc=0.9795]\n"
     ]
    },
    {
     "name": "stdout",
     "output_type": "stream",
     "text": [
      "✅ Training completed in 76.60s\n",
      "🔍 Validation Phase...\n"
     ]
    },
    {
     "name": "stderr",
     "output_type": "stream",
     "text": [
      "Validation: 100%|██████████████████████████████| 42/42 [00:12<00:00,  3.31it/s, Loss=2.9856, Acc=0.5459]\n"
     ]
    },
    {
     "name": "stdout",
     "output_type": "stream",
     "text": [
      "✅ Validation completed in 12.68s\n",
      "\n",
      "📊 Epoch 49 Summary:\n",
      "│ Train Loss: 0.0522 | Train Acc: 0.9795\n",
      "│ Val Loss:   2.9856 | Val Acc:   0.5459\n",
      "│ Train Time: 76.60s | Val Time: 12.68s\n",
      "│ Total Epoch Time: 89.29s\n",
      "│ Best Val Acc: 0.6521 (Epoch 34)\n",
      "│ GPU Memory: 0.1GB / 4.5GB\n",
      "================================================================================\n",
      "\n",
      "📈 Epoch 50/50\n",
      "--------------------------------------------------\n",
      "🔄 Training Phase...\n"
     ]
    },
    {
     "name": "stderr",
     "output_type": "stream",
     "text": [
      "Training: 100%|██████████████████████████████| 162/162 [01:16<00:00,  2.11it/s, Loss=0.0731, Acc=0.9754]\n"
     ]
    },
    {
     "name": "stdout",
     "output_type": "stream",
     "text": [
      "✅ Training completed in 76.96s\n",
      "🔍 Validation Phase...\n"
     ]
    },
    {
     "name": "stderr",
     "output_type": "stream",
     "text": [
      "Validation: 100%|██████████████████████████████| 42/42 [00:12<00:00,  3.25it/s, Loss=2.7434, Acc=0.5723]\n"
     ]
    },
    {
     "name": "stdout",
     "output_type": "stream",
     "text": [
      "✅ Validation completed in 12.91s\n",
      "\n",
      "📊 Epoch 50 Summary:\n",
      "│ Train Loss: 0.0731 | Train Acc: 0.9754\n",
      "│ Val Loss:   2.7434 | Val Acc:   0.5723\n",
      "│ Train Time: 76.96s | Val Time: 12.91s\n",
      "│ Total Epoch Time: 89.87s\n",
      "│ Best Val Acc: 0.6521 (Epoch 34)\n",
      "│ GPU Memory: 0.1GB / 4.5GB\n",
      "================================================================================\n",
      "\n",
      "💾 Best DenseNet-121 model saved as 'best_densenet121_model.pth'\n",
      "📊 Best model stats:\n",
      "│ Best Epoch: 34\n",
      "│ Best Val Acc: 0.6521\n",
      "\n",
      "💾 DenseNet-121 training history saved to 'densenet121_training_history.csv'\n",
      "\n",
      "🎉 DenseNet-121 Training Complete!\n",
      "Total Training Time: 4533.56s (75.6 minutes)\n",
      "Average Epoch Time: 90.67s\n",
      "\n",
      "⏱️  Epoch Timing Breakdown:\n",
      "│ Epoch 1: 109.06s\n",
      "│ Epoch 2: 86.90s\n",
      "│ Epoch 3: 87.87s\n",
      "│ Epoch 4: 88.15s\n",
      "│ Epoch 5: 88.85s\n",
      "│ Epoch 6: 89.00s\n",
      "│ Epoch 7: 89.65s\n",
      "│ Epoch 8: 89.73s\n",
      "│ Epoch 9: 89.27s\n",
      "│ Epoch 10: 89.27s\n",
      "│ Epoch 11: 89.57s\n",
      "│ Epoch 12: 89.87s\n",
      "│ Epoch 13: 89.08s\n",
      "│ Epoch 14: 89.50s\n",
      "│ Epoch 15: 89.32s\n",
      "│ Epoch 16: 89.50s\n",
      "│ Epoch 17: 89.61s\n",
      "│ Epoch 18: 89.36s\n",
      "│ Epoch 19: 89.54s\n",
      "│ Epoch 20: 89.80s\n",
      "│ Epoch 21: 89.32s\n",
      "│ Epoch 22: 89.15s\n",
      "│ Epoch 23: 89.55s\n",
      "│ Epoch 24: 89.76s\n",
      "│ Epoch 25: 90.16s\n",
      "│ Epoch 26: 92.25s\n",
      "│ Epoch 27: 94.33s\n",
      "│ Epoch 28: 94.74s\n",
      "│ Epoch 29: 96.36s\n",
      "│ Epoch 30: 95.81s\n",
      "│ Epoch 31: 96.01s\n",
      "│ Epoch 32: 96.37s\n",
      "│ Epoch 33: 93.03s\n",
      "│ Epoch 34: 90.37s\n",
      "│ Epoch 35: 90.32s\n",
      "│ Epoch 36: 89.68s\n",
      "│ Epoch 37: 89.65s\n",
      "│ Epoch 38: 89.87s\n",
      "│ Epoch 39: 90.00s\n",
      "│ Epoch 40: 89.53s\n",
      "│ Epoch 41: 89.37s\n",
      "│ Epoch 42: 89.43s\n",
      "│ Epoch 43: 89.31s\n",
      "│ Epoch 44: 89.49s\n",
      "│ Epoch 45: 89.23s\n",
      "│ Epoch 46: 89.75s\n",
      "│ Epoch 47: 89.36s\n",
      "│ Epoch 48: 89.25s\n",
      "│ Epoch 49: 89.29s\n",
      "│ Epoch 50: 89.87s\n",
      "\n",
      "🧪 Loading Best DenseNet-121 Model for Testing...\n",
      "✅ Best DenseNet-121 model from epoch 34 loaded successfully!\n"
     ]
    },
    {
     "name": "stderr",
     "output_type": "stream",
     "text": [
      "Testing DenseNet-121: 100%|██████████████████████████████| 52/52 [00:19<00:00,  2.69it/s]\n"
     ]
    },
    {
     "name": "stdout",
     "output_type": "stream",
     "text": [
      "✅ DenseNet-121 Testing completed in 19.36s\n",
      "\n",
      "📋 DenseNet-121 Classification Report:\n",
      "              precision    recall  f1-score   support\n",
      "\n",
      "         Cut       0.60      0.51      0.55       400\n",
      "       Drive       0.43      0.53      0.47       336\n",
      "    Leg Shot       0.64      0.61      0.63       136\n",
      "    PullShot       0.55      0.74      0.63       192\n",
      "       Scoop       0.66      0.64      0.65       360\n",
      "    Straight       0.40      0.36      0.38       144\n",
      "       Sweep       0.51      0.24      0.33        88\n",
      "\n",
      "    accuracy                           0.55      1656\n",
      "   macro avg       0.54      0.52      0.52      1656\n",
      "weighted avg       0.56      0.55      0.55      1656\n",
      "\n",
      "🎯 DenseNet-121 Test Accuracy: 0.5489\n",
      "\n",
      "📊 DenseNet-121 Model Performance Summary:\n",
      "│ Best Validation Acc:  0.6521 (Epoch 34)\n",
      "│ Final Test Accuracy:  0.5489\n",
      "│ Val-Test Gap:         0.1032\n"
     ]
    },
    {
     "data": {
      "image/png": "[encoded data removed]",
      "text/plain": [
       "<Figure size 800x600 with 2 Axes>"
      ]
     },
     "metadata": {},
     "output_type": "display_data"
    },
    {
     "data": {
      "image/png": "[encoded data removed]",
      "text/plain": [
       "<Figure size 2000x500 with 4 Axes>"
      ]
     },
     "metadata": {},
     "output_type": "display_data"
    },
    {
     "name": "stdout",
     "output_type": "stream",
     "text": [
      "\n",
      "⏰ DenseNet-121 Final Timing Summary:\n",
      "│ Total Training: 4533.56s\n",
      "│ Average per Epoch: 90.67s\n",
      "│ Testing Time: 19.36s\n",
      "│ Total Runtime: 4552.92s\n",
      "\n",
      "💾 DenseNet-121 Files saved:\n",
      "│ best_densenet121_model.pth - Best validation accuracy model\n",
      "│ densenet121_training_history.csv - Training metrics for later plotting\n"
     ]
    }
   ],
   "source": [
    "# -----------------------------\n",
    "# 4. Training Loop with Best Model Saving (Val Accuracy) - DenseNet-121\n",
    "# -----------------------------\n",
    "import pandas as pd\n",
    "from tqdm import tqdm\n",
    "import time\n",
    "\n",
    "train_losses, val_losses = [], []\n",
    "train_accs, val_accs = [], []\n",
    "epoch_times = []\n",
    "epochs = 50\n",
    "\n",
    "# Initialize best model tracking - CHANGED TO VAL_ACC\n",
    "best_val_acc = 0.0  # Changed from best_val_loss = float('inf')\n",
    "best_model_state = None\n",
    "best_epoch = 0\n",
    "\n",
    "print(f\"\\n🚀 Starting DenseNet-121 Training for {epochs} epochs...\")\n",
    "print(\"=\" * 80)\n",
    "total_start_time = time.time()\n",
    "\n",
    "for epoch in range(epochs):\n",
    "    epoch_start_time = time.time()\n",
    "    \n",
    "    print(f\"\\n📈 Epoch {epoch+1}/{epochs}\")\n",
    "    print(\"-\" * 50)\n",
    "    \n",
    "    # Training Phase\n",
    "    print(\"🔄 Training Phase...\")\n",
    "    model.train()\n",
    "    running_loss, correct, total = 0, 0, 0\n",
    "    \n",
    "    train_pbar = tqdm(train_loader, desc=f\"Training\", \n",
    "                     bar_format='{l_bar}{bar:30}{r_bar}{bar:-30b}')\n",
    "    \n",
    "    train_phase_start = time.time()\n",
    "    \n",
    "    for batch_idx, (imgs, labels) in enumerate(train_pbar):\n",
    "        imgs, labels = imgs.to(device), labels.to(device)\n",
    "        \n",
    "        optimizer.zero_grad()\n",
    "        outputs = model(imgs)\n",
    "        loss = criterion(outputs, labels)\n",
    "        loss.backward()\n",
    "        optimizer.step()\n",
    "        \n",
    "        running_loss += loss.item()\n",
    "        _, preds = torch.max(outputs, 1)\n",
    "        correct += (preds == labels).sum().item()\n",
    "        total += labels.size(0)\n",
    "        \n",
    "        current_acc = correct / total\n",
    "        train_pbar.set_postfix({\n",
    "            'Loss': f'{running_loss/(batch_idx+1):.4f}',\n",
    "            'Acc': f'{current_acc:.4f}'\n",
    "        })\n",
    "        \n",
    "        if device.type == 'cuda' and batch_idx % 10 == 0:\n",
    "            gpu_memory = torch.cuda.memory_allocated() / 1024**3\n",
    "            train_pbar.set_postfix({\n",
    "                'Loss': f'{running_loss/(batch_idx+1):.4f}',\n",
    "                'Acc': f'{current_acc:.4f}',\n",
    "                'GPU': f'{gpu_memory:.1f}GB'\n",
    "            })\n",
    "    \n",
    "    train_phase_time = time.time() - train_phase_start\n",
    "    train_loss = running_loss / len(train_loader)\n",
    "    train_acc = correct / total\n",
    "    train_losses.append(train_loss)\n",
    "    train_accs.append(train_acc)\n",
    "    \n",
    "    print(f\"✅ Training completed in {train_phase_time:.2f}s\")\n",
    "    \n",
    "    # Validation Phase\n",
    "    print(\"🔍 Validation Phase...\")\n",
    "    model.eval()\n",
    "    running_loss, correct, total = 0, 0, 0\n",
    "    \n",
    "    val_phase_start = time.time()\n",
    "    val_pbar = tqdm(val_loader, desc=f\"Validation\", \n",
    "                   bar_format='{l_bar}{bar:30}{r_bar}{bar:-30b}')\n",
    "    \n",
    "    with torch.no_grad():\n",
    "        for batch_idx, (imgs, labels) in enumerate(val_pbar):\n",
    "            imgs, labels = imgs.to(device), labels.to(device)\n",
    "            outputs = model(imgs)\n",
    "            loss = criterion(outputs, labels)\n",
    "            \n",
    "            running_loss += loss.item()\n",
    "            _, preds = torch.max(outputs, 1)\n",
    "            correct += (preds == labels).sum().item()\n",
    "            total += labels.size(0)\n",
    "            \n",
    "            current_acc = correct / total\n",
    "            val_pbar.set_postfix({\n",
    "                'Loss': f'{running_loss/(batch_idx+1):.4f}',\n",
    "                'Acc': f'{current_acc:.4f}'\n",
    "            })\n",
    "    \n",
    "    val_phase_time = time.time() - val_phase_start\n",
    "    val_loss = running_loss / len(val_loader)\n",
    "    val_acc = correct / total\n",
    "    val_losses.append(val_loss)\n",
    "    val_accs.append(val_acc)\n",
    "    \n",
    "    print(f\"✅ Validation completed in {val_phase_time:.2f}s\")\n",
    "    \n",
    "    # Check if this is the best model so far based on val_acc - CHANGED\n",
    "    is_best = val_acc > best_val_acc  # Changed from val_loss < best_val_loss\n",
    "    if is_best:\n",
    "        best_val_acc = val_acc\n",
    "        best_epoch = epoch + 1\n",
    "        best_model_state = model.state_dict().copy()\n",
    "        print(f\"🌟 New best DenseNet-121 model found! Validation Accuracy: {val_acc:.4f}\")\n",
    "    \n",
    "    # Epoch Summary\n",
    "    epoch_time = time.time() - epoch_start_time\n",
    "    epoch_times.append(epoch_time)\n",
    "    \n",
    "    print(f\"\\n📊 Epoch {epoch+1} Summary:\")\n",
    "    print(f\"│ Train Loss: {train_loss:.4f} | Train Acc: {train_acc:.4f}\")\n",
    "    print(f\"│ Val Loss:   {val_loss:.4f} | Val Acc:   {val_acc:.4f}\")\n",
    "    print(f\"│ Train Time: {train_phase_time:.2f}s | Val Time: {val_phase_time:.2f}s\")\n",
    "    print(f\"│ Total Epoch Time: {epoch_time:.2f}s\")\n",
    "    print(f\"│ Best Val Acc: {best_val_acc:.4f} (Epoch {best_epoch})\")  # Changed\n",
    "    \n",
    "    if device.type == 'cuda':\n",
    "        print(f\"│ GPU Memory: {torch.cuda.memory_allocated()/1024**3:.1f}GB / {torch.cuda.memory_reserved()/1024**3:.1f}GB\")\n",
    "    \n",
    "    print(\"=\" * 80)\n",
    "\n",
    "total_training_time = time.time() - total_start_time\n",
    "\n",
    "# Save the best model - UPDATED MESSAGES\n",
    "if best_model_state is not None:\n",
    "    torch.save(best_model_state, 'best_densenet121_model.pth')\n",
    "    print(f\"\\n💾 Best DenseNet-121 model saved as 'best_densenet121_model.pth'\")\n",
    "    print(f\"📊 Best model stats:\")\n",
    "    print(f\"│ Best Epoch: {best_epoch}\")\n",
    "    print(f\"│ Best Val Acc: {best_val_acc:.4f}\")  # Changed from best_val_loss\n",
    "\n",
    "# NEW: Save training history data to CSV\n",
    "history_data = {\n",
    "    'epoch': list(range(1, epochs+1)),\n",
    "    'train_loss': train_losses,\n",
    "    'val_loss': val_losses,\n",
    "    'train_acc': train_accs,\n",
    "    'val_acc': val_accs,\n",
    "    'epoch_time': epoch_times\n",
    "}\n",
    "history_df = pd.DataFrame(history_data)\n",
    "history_df.to_csv('densenet121_training_history.csv', index=False)\n",
    "print(\"\\n💾 DenseNet-121 training history saved to 'densenet121_training_history.csv'\")\n",
    "\n",
    "# Training Summary\n",
    "print(f\"\\n🎉 DenseNet-121 Training Complete!\")\n",
    "print(f\"Total Training Time: {total_training_time:.2f}s ({total_training_time/60:.1f} minutes)\")\n",
    "print(f\"Average Epoch Time: {np.mean(epoch_times):.2f}s\")\n",
    "print(\"\\n⏱️  Epoch Timing Breakdown:\")\n",
    "for i, t in enumerate(epoch_times):\n",
    "    print(f\"│ Epoch {i+1}: {t:.2f}s\")\n",
    "\n",
    "# -----------------------------\n",
    "# 5. Load Best Model and Test\n",
    "# -----------------------------\n",
    "print(f\"\\n🧪 Loading Best DenseNet-121 Model for Testing...\")\n",
    "# Load the best model state\n",
    "if best_model_state is not None:\n",
    "    model.load_state_dict(best_model_state)\n",
    "    print(f\"✅ Best DenseNet-121 model from epoch {best_epoch} loaded successfully!\")\n",
    "else:\n",
    "    print(\"⚠️  No best model found, using current model state\")\n",
    "\n",
    "test_start_time = time.time()\n",
    "y_true, y_pred = [], []\n",
    "model.eval()\n",
    "\n",
    "test_pbar = tqdm(test_loader, desc=\"Testing DenseNet-121\", \n",
    "                bar_format='{l_bar}{bar:30}{r_bar}{bar:-30b}')\n",
    "\n",
    "with torch.no_grad():\n",
    "    for imgs, labels in test_pbar:\n",
    "        imgs, labels = imgs.to(device), labels.to(device)\n",
    "        outputs = model(imgs)\n",
    "        _, preds = torch.max(outputs, 1)\n",
    "        y_true.extend(labels.cpu().numpy())\n",
    "        y_pred.extend(preds.cpu().numpy())\n",
    "\n",
    "test_time = time.time() - test_start_time\n",
    "test_accuracy = accuracy_score(y_true, y_pred)\n",
    "\n",
    "print(f\"✅ DenseNet-121 Testing completed in {test_time:.2f}s\")\n",
    "print(\"\\n📋 DenseNet-121 Classification Report:\")\n",
    "print(classification_report(y_true, y_pred, target_names=classes))\n",
    "print(f\"🎯 DenseNet-121 Test Accuracy: {test_accuracy:.4f}\")\n",
    "\n",
    "# Model Performance Summary - UPDATED\n",
    "print(f\"\\n📊 DenseNet-121 Model Performance Summary:\")\n",
    "print(f\"│ Best Validation Acc:  {best_val_acc:.4f} (Epoch {best_epoch})\")  # Changed\n",
    "print(f\"│ Final Test Accuracy:  {test_accuracy:.4f}\")\n",
    "print(f\"│ Val-Test Gap:         {abs(best_val_acc - test_accuracy):.4f}\")\n",
    "\n",
    "# Confusion Matrix\n",
    "cm = confusion_matrix(y_true, y_pred)\n",
    "plt.figure(figsize=(8, 6))\n",
    "sns.heatmap(cm, annot=True, fmt=\"d\", cmap=\"Greens\", xticklabels=classes, yticklabels=classes)\n",
    "plt.xlabel(\"Predicted\")\n",
    "plt.ylabel(\"True\")\n",
    "plt.title(f\"DenseNet-121 Confusion Matrix - Best Model (Epoch {best_epoch})\")\n",
    "plt.show()\n",
    "\n",
    "# -----------------------------\n",
    "# 6. Enhanced Visualizations - UPDATED\n",
    "# -----------------------------\n",
    "plt.figure(figsize=(20, 5))\n",
    "\n",
    "# Loss Plot\n",
    "plt.subplot(1, 4, 1)\n",
    "plt.plot(range(1, epochs+1), train_losses, 'b-', label=\"Train Loss\", marker='o', linewidth=2)\n",
    "plt.plot(range(1, epochs+1), val_losses, 'r-', label=\"Val Loss\", marker='s', linewidth=2)\n",
    "plt.axvline(x=best_epoch, color='green', linestyle='--', alpha=0.7, label=f'Best (Epoch {best_epoch})')\n",
    "plt.legend()\n",
    "plt.title(\"DenseNet-121 Loss over Epochs\")\n",
    "plt.xlabel(\"Epoch\")\n",
    "plt.ylabel(\"Loss\")\n",
    "plt.grid(True, alpha=0.3)\n",
    "\n",
    "# Accuracy Plot - UPDATED\n",
    "plt.subplot(1, 4, 2)\n",
    "plt.plot(range(1, epochs+1), train_accs, 'b-', label=\"Train Accuracy\", marker='o', linewidth=2)\n",
    "plt.plot(range(1, epochs+1), val_accs, 'r-', label=\"Val Accuracy\", marker='s', linewidth=2)\n",
    "plt.axvline(x=best_epoch, color='green', linestyle='--', alpha=0.7, label=f'Best (Epoch {best_epoch})')\n",
    "plt.scatter([best_epoch], [best_val_acc], color='green', s=100, zorder=5)  # Changed to best_val_acc\n",
    "plt.legend()\n",
    "plt.title(\"DenseNet-121 Accuracy over Epochs\")\n",
    "plt.xlabel(\"Epoch\")\n",
    "plt.ylabel(\"Accuracy\")\n",
    "plt.grid(True, alpha=0.3)\n",
    "\n",
    "# Timing Plot\n",
    "plt.subplot(1, 4, 3)\n",
    "bars = plt.bar(range(1, epochs+1), epoch_times, color='lightgreen', alpha=0.7)\n",
    "bars[best_epoch-1].set_color('green')\n",
    "plt.title(\"DenseNet-121 Training Time per Epoch\")\n",
    "plt.xlabel(\"Epoch\")\n",
    "plt.ylabel(\"Time (seconds)\")\n",
    "plt.grid(True, alpha=0.3)\n",
    "for i, t in enumerate(epoch_times):\n",
    "    plt.text(i+1, t+0.5, f'{t:.1f}s', ha='center', va='bottom')\n",
    "\n",
    "# Performance Comparison\n",
    "plt.subplot(1, 4, 4)\n",
    "metrics = ['Best Val Acc', 'Test Acc']\n",
    "values = [best_val_acc, test_accuracy]\n",
    "colors = ['lightgreen', 'green']\n",
    "bars = plt.bar(metrics, values, color=colors, alpha=0.7)\n",
    "plt.title(\"DenseNet-121 Final Model Performance\")\n",
    "plt.ylabel(\"Accuracy\")\n",
    "plt.ylim(0, 1)\n",
    "plt.grid(True, alpha=0.3)\n",
    "for bar, val in zip(bars, values):\n",
    "    plt.text(bar.get_x() + bar.get_width()/2, val + 0.01, \n",
    "             f'{val:.4f}', ha='center', va='bottom')\n",
    "\n",
    "plt.tight_layout()\n",
    "plt.show()\n",
    "\n",
    "print(f\"\\n⏰ DenseNet-121 Final Timing Summary:\")\n",
    "print(f\"│ Total Training: {total_training_time:.2f}s\")\n",
    "print(f\"│ Average per Epoch: {np.mean(epoch_times):.2f}s\")\n",
    "print(f\"│ Testing Time: {test_time:.2f}s\")\n",
    "print(f\"│ Total Runtime: {total_training_time + test_time:.2f}s\")\n",
    "\n",
    "print(f\"\\n💾 DenseNet-121 Files saved:\")\n",
    "print(f\"│ best_densenet121_model.pth - Best validation accuracy model\")\n",
    "print(f\"│ densenet121_training_history.csv - Training metrics for later plotting\")"
   ]
  },
  {
   "cell_type": "code",
   "execution_count": 9,
   "id": "987def94",
   "metadata": {
    "execution": {
     "iopub.execute_input": "2025-09-07T18:28:49.750343Z",
     "iopub.status.busy": "2025-09-07T18:28:49.750061Z",
     "iopub.status.idle": "2025-09-07T18:28:49.816297Z",
     "shell.execute_reply": "2025-09-07T18:28:49.815430Z"
    },
    "papermill": {
     "duration": 1.012804,
     "end_time": "2025-09-07T18:28:49.817466",
     "exception": false,
     "start_time": "2025-09-07T18:28:48.804662",
     "status": "completed"
    },
    "tags": []
   },
   "outputs": [
    {
     "data": {
      "text/html": [
       "<div>\n",
       "<style scoped>\n",
       "    .dataframe tbody tr th:only-of-type {\n",
       "        vertical-align: middle;\n",
       "    }\n",
       "\n",
       "    .dataframe tbody tr th {\n",
       "        vertical-align: top;\n",
       "    }\n",
       "\n",
       "    .dataframe thead th {\n",
       "        text-align: right;\n",
       "    }\n",
       "</style>\n",
       "<table border=\"1\" class=\"dataframe\">\n",
       "  <thead>\n",
       "    <tr style=\"text-align: right;\">\n",
       "      <th></th>\n",
       "      <th>epoch</th>\n",
       "      <th>train_loss</th>\n",
       "      <th>val_loss</th>\n",
       "      <th>train_acc</th>\n",
       "      <th>val_acc</th>\n",
       "      <th>epoch_time</th>\n",
       "    </tr>\n",
       "  </thead>\n",
       "  <tbody>\n",
       "    <tr>\n",
       "      <th>0</th>\n",
       "      <td>1</td>\n",
       "      <td>1.687704</td>\n",
       "      <td>1.804508</td>\n",
       "      <td>0.306889</td>\n",
       "      <td>0.253765</td>\n",
       "      <td>109.057630</td>\n",
       "    </tr>\n",
       "    <tr>\n",
       "      <th>1</th>\n",
       "      <td>2</td>\n",
       "      <td>1.527416</td>\n",
       "      <td>1.757378</td>\n",
       "      <td>0.381192</td>\n",
       "      <td>0.339608</td>\n",
       "      <td>86.901996</td>\n",
       "    </tr>\n",
       "    <tr>\n",
       "      <th>2</th>\n",
       "      <td>3</td>\n",
       "      <td>1.347670</td>\n",
       "      <td>1.614283</td>\n",
       "      <td>0.467492</td>\n",
       "      <td>0.385542</td>\n",
       "      <td>87.874427</td>\n",
       "    </tr>\n",
       "    <tr>\n",
       "      <th>3</th>\n",
       "      <td>4</td>\n",
       "      <td>1.092039</td>\n",
       "      <td>1.944651</td>\n",
       "      <td>0.588816</td>\n",
       "      <td>0.430723</td>\n",
       "      <td>88.149528</td>\n",
       "    </tr>\n",
       "    <tr>\n",
       "      <th>4</th>\n",
       "      <td>5</td>\n",
       "      <td>0.763804</td>\n",
       "      <td>1.739159</td>\n",
       "      <td>0.726587</td>\n",
       "      <td>0.466114</td>\n",
       "      <td>88.845988</td>\n",
       "    </tr>\n",
       "    <tr>\n",
       "      <th>5</th>\n",
       "      <td>6</td>\n",
       "      <td>0.492757</td>\n",
       "      <td>1.561215</td>\n",
       "      <td>0.831463</td>\n",
       "      <td>0.582078</td>\n",
       "      <td>89.004316</td>\n",
       "    </tr>\n",
       "    <tr>\n",
       "      <th>6</th>\n",
       "      <td>7</td>\n",
       "      <td>0.302609</td>\n",
       "      <td>1.933178</td>\n",
       "      <td>0.902864</td>\n",
       "      <td>0.532380</td>\n",
       "      <td>89.654483</td>\n",
       "    </tr>\n",
       "    <tr>\n",
       "      <th>7</th>\n",
       "      <td>8</td>\n",
       "      <td>0.189307</td>\n",
       "      <td>1.972416</td>\n",
       "      <td>0.937307</td>\n",
       "      <td>0.555723</td>\n",
       "      <td>89.734208</td>\n",
       "    </tr>\n",
       "    <tr>\n",
       "      <th>8</th>\n",
       "      <td>9</td>\n",
       "      <td>0.118210</td>\n",
       "      <td>2.049503</td>\n",
       "      <td>0.962268</td>\n",
       "      <td>0.590361</td>\n",
       "      <td>89.272731</td>\n",
       "    </tr>\n",
       "    <tr>\n",
       "      <th>9</th>\n",
       "      <td>10</td>\n",
       "      <td>0.097630</td>\n",
       "      <td>2.417182</td>\n",
       "      <td>0.968266</td>\n",
       "      <td>0.532380</td>\n",
       "      <td>89.271659</td>\n",
       "    </tr>\n",
       "    <tr>\n",
       "      <th>10</th>\n",
       "      <td>11</td>\n",
       "      <td>0.104940</td>\n",
       "      <td>2.326845</td>\n",
       "      <td>0.964396</td>\n",
       "      <td>0.571536</td>\n",
       "      <td>89.572659</td>\n",
       "    </tr>\n",
       "    <tr>\n",
       "      <th>11</th>\n",
       "      <td>12</td>\n",
       "      <td>0.076103</td>\n",
       "      <td>2.158893</td>\n",
       "      <td>0.975619</td>\n",
       "      <td>0.554217</td>\n",
       "      <td>89.872926</td>\n",
       "    </tr>\n",
       "    <tr>\n",
       "      <th>12</th>\n",
       "      <td>13</td>\n",
       "      <td>0.050832</td>\n",
       "      <td>2.266039</td>\n",
       "      <td>0.984520</td>\n",
       "      <td>0.546687</td>\n",
       "      <td>89.083771</td>\n",
       "    </tr>\n",
       "    <tr>\n",
       "      <th>13</th>\n",
       "      <td>14</td>\n",
       "      <td>0.067325</td>\n",
       "      <td>2.469663</td>\n",
       "      <td>0.975813</td>\n",
       "      <td>0.587349</td>\n",
       "      <td>89.499022</td>\n",
       "    </tr>\n",
       "    <tr>\n",
       "      <th>14</th>\n",
       "      <td>15</td>\n",
       "      <td>0.044823</td>\n",
       "      <td>2.399896</td>\n",
       "      <td>0.983166</td>\n",
       "      <td>0.590361</td>\n",
       "      <td>89.316609</td>\n",
       "    </tr>\n",
       "    <tr>\n",
       "      <th>15</th>\n",
       "      <td>16</td>\n",
       "      <td>0.088443</td>\n",
       "      <td>2.371059</td>\n",
       "      <td>0.971749</td>\n",
       "      <td>0.568524</td>\n",
       "      <td>89.504230</td>\n",
       "    </tr>\n",
       "    <tr>\n",
       "      <th>16</th>\n",
       "      <td>17</td>\n",
       "      <td>0.039395</td>\n",
       "      <td>2.232528</td>\n",
       "      <td>0.987616</td>\n",
       "      <td>0.572289</td>\n",
       "      <td>89.607394</td>\n",
       "    </tr>\n",
       "    <tr>\n",
       "      <th>17</th>\n",
       "      <td>18</td>\n",
       "      <td>0.050746</td>\n",
       "      <td>2.354819</td>\n",
       "      <td>0.981811</td>\n",
       "      <td>0.561747</td>\n",
       "      <td>89.360340</td>\n",
       "    </tr>\n",
       "    <tr>\n",
       "      <th>18</th>\n",
       "      <td>19</td>\n",
       "      <td>0.067446</td>\n",
       "      <td>2.707681</td>\n",
       "      <td>0.975813</td>\n",
       "      <td>0.560241</td>\n",
       "      <td>89.537489</td>\n",
       "    </tr>\n",
       "    <tr>\n",
       "      <th>19</th>\n",
       "      <td>20</td>\n",
       "      <td>0.040097</td>\n",
       "      <td>2.198785</td>\n",
       "      <td>0.984520</td>\n",
       "      <td>0.600151</td>\n",
       "      <td>89.795105</td>\n",
       "    </tr>\n",
       "    <tr>\n",
       "      <th>20</th>\n",
       "      <td>21</td>\n",
       "      <td>0.033478</td>\n",
       "      <td>2.208390</td>\n",
       "      <td>0.988390</td>\n",
       "      <td>0.606928</td>\n",
       "      <td>89.321576</td>\n",
       "    </tr>\n",
       "    <tr>\n",
       "      <th>21</th>\n",
       "      <td>22</td>\n",
       "      <td>0.022939</td>\n",
       "      <td>2.039447</td>\n",
       "      <td>0.990906</td>\n",
       "      <td>0.638554</td>\n",
       "      <td>89.152443</td>\n",
       "    </tr>\n",
       "    <tr>\n",
       "      <th>22</th>\n",
       "      <td>23</td>\n",
       "      <td>0.018631</td>\n",
       "      <td>2.215365</td>\n",
       "      <td>0.992454</td>\n",
       "      <td>0.624247</td>\n",
       "      <td>89.554049</td>\n",
       "    </tr>\n",
       "    <tr>\n",
       "      <th>23</th>\n",
       "      <td>24</td>\n",
       "      <td>0.014869</td>\n",
       "      <td>2.071904</td>\n",
       "      <td>0.993034</td>\n",
       "      <td>0.637048</td>\n",
       "      <td>89.760374</td>\n",
       "    </tr>\n",
       "    <tr>\n",
       "      <th>24</th>\n",
       "      <td>25</td>\n",
       "      <td>0.014852</td>\n",
       "      <td>2.238100</td>\n",
       "      <td>0.993615</td>\n",
       "      <td>0.627259</td>\n",
       "      <td>90.158293</td>\n",
       "    </tr>\n",
       "    <tr>\n",
       "      <th>25</th>\n",
       "      <td>26</td>\n",
       "      <td>0.108790</td>\n",
       "      <td>3.166285</td>\n",
       "      <td>0.962074</td>\n",
       "      <td>0.556476</td>\n",
       "      <td>92.249486</td>\n",
       "    </tr>\n",
       "    <tr>\n",
       "      <th>26</th>\n",
       "      <td>27</td>\n",
       "      <td>0.094727</td>\n",
       "      <td>2.117074</td>\n",
       "      <td>0.970588</td>\n",
       "      <td>0.615964</td>\n",
       "      <td>94.325804</td>\n",
       "    </tr>\n",
       "    <tr>\n",
       "      <th>27</th>\n",
       "      <td>28</td>\n",
       "      <td>0.023567</td>\n",
       "      <td>2.329844</td>\n",
       "      <td>0.991099</td>\n",
       "      <td>0.636295</td>\n",
       "      <td>94.741493</td>\n",
       "    </tr>\n",
       "    <tr>\n",
       "      <th>28</th>\n",
       "      <td>29</td>\n",
       "      <td>0.017622</td>\n",
       "      <td>2.341451</td>\n",
       "      <td>0.992454</td>\n",
       "      <td>0.589608</td>\n",
       "      <td>96.362145</td>\n",
       "    </tr>\n",
       "    <tr>\n",
       "      <th>29</th>\n",
       "      <td>30</td>\n",
       "      <td>0.031078</td>\n",
       "      <td>2.281091</td>\n",
       "      <td>0.987616</td>\n",
       "      <td>0.616717</td>\n",
       "      <td>95.808336</td>\n",
       "    </tr>\n",
       "    <tr>\n",
       "      <th>30</th>\n",
       "      <td>31</td>\n",
       "      <td>0.024933</td>\n",
       "      <td>2.578005</td>\n",
       "      <td>0.989745</td>\n",
       "      <td>0.591867</td>\n",
       "      <td>96.007572</td>\n",
       "    </tr>\n",
       "    <tr>\n",
       "      <th>31</th>\n",
       "      <td>32</td>\n",
       "      <td>0.044242</td>\n",
       "      <td>2.890672</td>\n",
       "      <td>0.984907</td>\n",
       "      <td>0.556476</td>\n",
       "      <td>96.372864</td>\n",
       "    </tr>\n",
       "    <tr>\n",
       "      <th>32</th>\n",
       "      <td>33</td>\n",
       "      <td>0.021332</td>\n",
       "      <td>2.296301</td>\n",
       "      <td>0.991099</td>\n",
       "      <td>0.622741</td>\n",
       "      <td>93.029844</td>\n",
       "    </tr>\n",
       "    <tr>\n",
       "      <th>33</th>\n",
       "      <td>34</td>\n",
       "      <td>0.014703</td>\n",
       "      <td>2.373315</td>\n",
       "      <td>0.994195</td>\n",
       "      <td>0.652108</td>\n",
       "      <td>90.371729</td>\n",
       "    </tr>\n",
       "    <tr>\n",
       "      <th>34</th>\n",
       "      <td>35</td>\n",
       "      <td>0.021516</td>\n",
       "      <td>2.649488</td>\n",
       "      <td>0.990519</td>\n",
       "      <td>0.585843</td>\n",
       "      <td>90.321837</td>\n",
       "    </tr>\n",
       "    <tr>\n",
       "      <th>35</th>\n",
       "      <td>36</td>\n",
       "      <td>0.040929</td>\n",
       "      <td>2.752151</td>\n",
       "      <td>0.985875</td>\n",
       "      <td>0.560241</td>\n",
       "      <td>89.681105</td>\n",
       "    </tr>\n",
       "    <tr>\n",
       "      <th>36</th>\n",
       "      <td>37</td>\n",
       "      <td>0.077306</td>\n",
       "      <td>3.204598</td>\n",
       "      <td>0.973878</td>\n",
       "      <td>0.575301</td>\n",
       "      <td>89.651937</td>\n",
       "    </tr>\n",
       "    <tr>\n",
       "      <th>37</th>\n",
       "      <td>38</td>\n",
       "      <td>0.038656</td>\n",
       "      <td>2.252212</td>\n",
       "      <td>0.985101</td>\n",
       "      <td>0.630271</td>\n",
       "      <td>89.868061</td>\n",
       "    </tr>\n",
       "    <tr>\n",
       "      <th>38</th>\n",
       "      <td>39</td>\n",
       "      <td>0.027469</td>\n",
       "      <td>2.375894</td>\n",
       "      <td>0.987616</td>\n",
       "      <td>0.612952</td>\n",
       "      <td>90.003322</td>\n",
       "    </tr>\n",
       "    <tr>\n",
       "      <th>39</th>\n",
       "      <td>40</td>\n",
       "      <td>0.032569</td>\n",
       "      <td>2.583514</td>\n",
       "      <td>0.987036</td>\n",
       "      <td>0.623494</td>\n",
       "      <td>89.534278</td>\n",
       "    </tr>\n",
       "    <tr>\n",
       "      <th>40</th>\n",
       "      <td>41</td>\n",
       "      <td>0.040957</td>\n",
       "      <td>2.781092</td>\n",
       "      <td>0.985294</td>\n",
       "      <td>0.596386</td>\n",
       "      <td>89.367230</td>\n",
       "    </tr>\n",
       "    <tr>\n",
       "      <th>41</th>\n",
       "      <td>42</td>\n",
       "      <td>0.029417</td>\n",
       "      <td>3.005597</td>\n",
       "      <td>0.987423</td>\n",
       "      <td>0.573042</td>\n",
       "      <td>89.425850</td>\n",
       "    </tr>\n",
       "    <tr>\n",
       "      <th>42</th>\n",
       "      <td>43</td>\n",
       "      <td>0.026197</td>\n",
       "      <td>2.789017</td>\n",
       "      <td>0.989745</td>\n",
       "      <td>0.622741</td>\n",
       "      <td>89.305736</td>\n",
       "    </tr>\n",
       "    <tr>\n",
       "      <th>43</th>\n",
       "      <td>44</td>\n",
       "      <td>0.015052</td>\n",
       "      <td>2.436346</td>\n",
       "      <td>0.993228</td>\n",
       "      <td>0.646084</td>\n",
       "      <td>89.490403</td>\n",
       "    </tr>\n",
       "    <tr>\n",
       "      <th>44</th>\n",
       "      <td>45</td>\n",
       "      <td>0.012967</td>\n",
       "      <td>2.434249</td>\n",
       "      <td>0.991486</td>\n",
       "      <td>0.648343</td>\n",
       "      <td>89.233733</td>\n",
       "    </tr>\n",
       "    <tr>\n",
       "      <th>45</th>\n",
       "      <td>46</td>\n",
       "      <td>0.010614</td>\n",
       "      <td>2.518190</td>\n",
       "      <td>0.994969</td>\n",
       "      <td>0.633283</td>\n",
       "      <td>89.751772</td>\n",
       "    </tr>\n",
       "    <tr>\n",
       "      <th>46</th>\n",
       "      <td>47</td>\n",
       "      <td>0.011452</td>\n",
       "      <td>2.541922</td>\n",
       "      <td>0.992647</td>\n",
       "      <td>0.647590</td>\n",
       "      <td>89.362036</td>\n",
       "    </tr>\n",
       "    <tr>\n",
       "      <th>47</th>\n",
       "      <td>48</td>\n",
       "      <td>0.010707</td>\n",
       "      <td>2.653710</td>\n",
       "      <td>0.993034</td>\n",
       "      <td>0.612952</td>\n",
       "      <td>89.248553</td>\n",
       "    </tr>\n",
       "    <tr>\n",
       "      <th>48</th>\n",
       "      <td>49</td>\n",
       "      <td>0.052222</td>\n",
       "      <td>2.985641</td>\n",
       "      <td>0.979489</td>\n",
       "      <td>0.545934</td>\n",
       "      <td>89.288260</td>\n",
       "    </tr>\n",
       "    <tr>\n",
       "      <th>49</th>\n",
       "      <td>50</td>\n",
       "      <td>0.073064</td>\n",
       "      <td>2.743426</td>\n",
       "      <td>0.975426</td>\n",
       "      <td>0.572289</td>\n",
       "      <td>89.865906</td>\n",
       "    </tr>\n",
       "  </tbody>\n",
       "</table>\n",
       "</div>"
      ],
      "text/plain": [
       "    epoch  train_loss  val_loss  train_acc   val_acc  epoch_time\n",
       "0       1    1.687704  1.804508   0.306889  0.253765  109.057630\n",
       "1       2    1.527416  1.757378   0.381192  0.339608   86.901996\n",
       "2       3    1.347670  1.614283   0.467492  0.385542   87.874427\n",
       "3       4    1.092039  1.944651   0.588816  0.430723   88.149528\n",
       "4       5    0.763804  1.739159   0.726587  0.466114   88.845988\n",
       "5       6    0.492757  1.561215   0.831463  0.582078   89.004316\n",
       "6       7    0.302609  1.933178   0.902864  0.532380   89.654483\n",
       "7       8    0.189307  1.972416   0.937307  0.555723   89.734208\n",
       "8       9    0.118210  2.049503   0.962268  0.590361   89.272731\n",
       "9      10    0.097630  2.417182   0.968266  0.532380   89.271659\n",
       "10     11    0.104940  2.326845   0.964396  0.571536   89.572659\n",
       "11     12    0.076103  2.158893   0.975619  0.554217   89.872926\n",
       "12     13    0.050832  2.266039   0.984520  0.546687   89.083771\n",
       "13     14    0.067325  2.469663   0.975813  0.587349   89.499022\n",
       "14     15    0.044823  2.399896   0.983166  0.590361   89.316609\n",
       "15     16    0.088443  2.371059   0.971749  0.568524   89.504230\n",
       "16     17    0.039395  2.232528   0.987616  0.572289   89.607394\n",
       "17     18    0.050746  2.354819   0.981811  0.561747   89.360340\n",
       "18     19    0.067446  2.707681   0.975813  0.560241   89.537489\n",
       "19     20    0.040097  2.198785   0.984520  0.600151   89.795105\n",
       "20     21    0.033478  2.208390   0.988390  0.606928   89.321576\n",
       "21     22    0.022939  2.039447   0.990906  0.638554   89.152443\n",
       "22     23    0.018631  2.215365   0.992454  0.624247   89.554049\n",
       "23     24    0.014869  2.071904   0.993034  0.637048   89.760374\n",
       "24     25    0.014852  2.238100   0.993615  0.627259   90.158293\n",
       "25     26    0.108790  3.166285   0.962074  0.556476   92.249486\n",
       "26     27    0.094727  2.117074   0.970588  0.615964   94.325804\n",
       "27     28    0.023567  2.329844   0.991099  0.636295   94.741493\n",
       "28     29    0.017622  2.341451   0.992454  0.589608   96.362145\n",
       "29     30    0.031078  2.281091   0.987616  0.616717   95.808336\n",
       "30     31    0.024933  2.578005   0.989745  0.591867   96.007572\n",
       "31     32    0.044242  2.890672   0.984907  0.556476   96.372864\n",
       "32     33    0.021332  2.296301   0.991099  0.622741   93.029844\n",
       "33     34    0.014703  2.373315   0.994195  0.652108   90.371729\n",
       "34     35    0.021516  2.649488   0.990519  0.585843   90.321837\n",
       "35     36    0.040929  2.752151   0.985875  0.560241   89.681105\n",
       "36     37    0.077306  3.204598   0.973878  0.575301   89.651937\n",
       "37     38    0.038656  2.252212   0.985101  0.630271   89.868061\n",
       "38     39    0.027469  2.375894   0.987616  0.612952   90.003322\n",
       "39     40    0.032569  2.583514   0.987036  0.623494   89.534278\n",
       "40     41    0.040957  2.781092   0.985294  0.596386   89.367230\n",
       "41     42    0.029417  3.005597   0.987423  0.573042   89.425850\n",
       "42     43    0.026197  2.789017   0.989745  0.622741   89.305736\n",
       "43     44    0.015052  2.436346   0.993228  0.646084   89.490403\n",
       "44     45    0.012967  2.434249   0.991486  0.648343   89.233733\n",
       "45     46    0.010614  2.518190   0.994969  0.633283   89.751772\n",
       "46     47    0.011452  2.541922   0.992647  0.647590   89.362036\n",
       "47     48    0.010707  2.653710   0.993034  0.612952   89.248553\n",
       "48     49    0.052222  2.985641   0.979489  0.545934   89.288260\n",
       "49     50    0.073064  2.743426   0.975426  0.572289   89.865906"
      ]
     },
     "execution_count": 9,
     "metadata": {},
     "output_type": "execute_result"
    }
   ],
   "source": [
    "import pandas as pd\n",
    "df=pd.read_csv(\"/kaggle/working/densenet121_training_history.csv\")\n",
    "df"
   ]
  }
 ],
 "metadata": {
  "kaggle": {
   "accelerator": "nvidiaTeslaT4",
   "dataSources": [
    {
     "datasetId": 7735666,
     "sourceId": 12275446,
     "sourceType": "datasetVersion"
    }
   ],
   "dockerImageVersionId": 31090,
   "isGpuEnabled": true,
   "isInternetEnabled": true,
   "language": "python",
   "sourceType": "notebook"
  },
  "kernelspec": {
   "display_name": "Python 3",
   "language": "python",
   "name": "python3"
  },
  "language_info": {
   "codemirror_mode": {
    "name": "ipython",
    "version": 3
   },
   "file_extension": ".py",
   "mimetype": "text/x-python",
   "name": "python",
   "nbconvert_exporter": "python",
   "pygments_lexer": "ipython3",
   "version": "3.11.13"
  },
  "papermill": {
   "default_parameters": {},
   "duration": 4587.830298,
   "end_time": "2025-09-07T18:28:53.664547",
   "environment_variables": {},
   "exception": null,
   "input_path": "__notebook__.ipynb",
   "output_path": "__notebook__.ipynb",
   "parameters": {},
   "start_time": "2025-09-07T17:12:25.834249",
   "version": "2.6.0"
  }
 },
 "nbformat": 4,
 "nbformat_minor": 5
}
