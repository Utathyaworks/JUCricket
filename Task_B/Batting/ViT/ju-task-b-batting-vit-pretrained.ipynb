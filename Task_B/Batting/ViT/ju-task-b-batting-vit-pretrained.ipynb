{
 "cells": [
  {
   "cell_type": "code",
   "execution_count": 1,
   "id": "a4bc95f5",
   "metadata": {
    "execution": {
     "iopub.execute_input": "2025-09-09T04:48:54.063722Z",
     "iopub.status.busy": "2025-09-09T04:48:54.063508Z",
     "iopub.status.idle": "2025-09-09T04:49:15.608729Z",
     "shell.execute_reply": "2025-09-09T04:49:15.607848Z"
    },
    "papermill": {
     "duration": 21.550552,
     "end_time": "2025-09-09T04:49:15.610225",
     "exception": false,
     "start_time": "2025-09-09T04:48:54.059673",
     "status": "completed"
    },
    "tags": []
   },
   "outputs": [
    {
     "name": "stdout",
     "output_type": "stream",
     "text": [
      "Classes: ['Cut', 'Drive', 'Leg Shot', 'PullShot', 'Scoop', 'Straight', 'Sweep']\n"
     ]
    }
   ],
   "source": [
    "import torch\n",
    "import torch.nn as nn\n",
    "import torch.nn.functional as F\n",
    "from torch.utils.data import DataLoader\n",
    "from torchvision import datasets, transforms\n",
    "from torchsummary import summary\n",
    "import matplotlib.pyplot as plt\n",
    "from sklearn.metrics import classification_report, confusion_matrix, accuracy_score\n",
    "import seaborn as sns\n",
    "import numpy as np\n",
    "\n",
    "# -----------------------------\n",
    "# 1. Data Preprocessing\n",
    "# -----------------------------\n",
    "data_dir = \"/kaggle/input/ju-cricket/Cricket_Dataset_final/Task_B\"\n",
    "\n",
    "transform = transforms.Compose([\n",
    "    transforms.Resize((224, 224)),\n",
    "    transforms.ToTensor(),\n",
    "    transforms.Normalize([0.485, 0.456, 0.406], \n",
    "                         [0.229, 0.224, 0.225])\n",
    "])\n",
    "\n",
    "train_ds = datasets.ImageFolder(f\"{data_dir}/train/Batting\", transform=transform)\n",
    "val_ds   = datasets.ImageFolder(f\"{data_dir}/val/Batting\", transform=transform)\n",
    "test_ds  = datasets.ImageFolder(f\"{data_dir}/test/Batting\", transform=transform)\n",
    "\n",
    "train_loader = DataLoader(train_ds, batch_size=32, shuffle=True)\n",
    "val_loader   = DataLoader(val_ds, batch_size=32, shuffle=False)\n",
    "test_loader  = DataLoader(test_ds, batch_size=32, shuffle=False)\n",
    "\n",
    "classes = train_ds.classes\n",
    "print(\"Classes:\", classes)"
   ]
  },
  {
   "cell_type": "code",
   "execution_count": 2,
   "id": "38754faf",
   "metadata": {
    "execution": {
     "iopub.execute_input": "2025-09-09T04:49:15.616868Z",
     "iopub.status.busy": "2025-09-09T04:49:15.616522Z",
     "iopub.status.idle": "2025-09-09T04:49:15.620885Z",
     "shell.execute_reply": "2025-09-09T04:49:15.620312Z"
    },
    "papermill": {
     "duration": 0.008566,
     "end_time": "2025-09-09T04:49:15.621901",
     "exception": false,
     "start_time": "2025-09-09T04:49:15.613335",
     "status": "completed"
    },
    "tags": []
   },
   "outputs": [
    {
     "name": "stdout",
     "output_type": "stream",
     "text": [
      "Total training images: 5814\n",
      "Total validation images: 1494\n",
      "Total test images: 1863\n",
      "Total images in dataset: 9171\n"
     ]
    }
   ],
   "source": [
    "print(\"Total training images:\", len(train_ds))\n",
    "print(\"Total validation images:\", len(val_ds))\n",
    "print(\"Total test images:\", len(test_ds))\n",
    "\n",
    "total_images = len(train_ds) + len(val_ds) + len(test_ds)\n",
    "print(\"Total images in dataset:\", total_images)\n"
   ]
  },
  {
   "cell_type": "code",
   "execution_count": 3,
   "id": "5ebfc094",
   "metadata": {
    "execution": {
     "iopub.execute_input": "2025-09-09T04:49:15.627229Z",
     "iopub.status.busy": "2025-09-09T04:49:15.627019Z",
     "iopub.status.idle": "2025-09-09T04:49:15.637142Z",
     "shell.execute_reply": "2025-09-09T04:49:15.636460Z"
    },
    "papermill": {
     "duration": 0.014005,
     "end_time": "2025-09-09T04:49:15.638238",
     "exception": false,
     "start_time": "2025-09-09T04:49:15.624233",
     "status": "completed"
    },
    "tags": []
   },
   "outputs": [
    {
     "name": "stdout",
     "output_type": "stream",
     "text": [
      "Training images (excluding 'random_occlusion'): 5168\n",
      "Validation images (excluding 'random_occlusion'): 1328\n",
      "Test images (excluding 'random_occlusion'): 1656\n",
      "Total images (excluding 'random_occlusion'): 8152\n"
     ]
    }
   ],
   "source": [
    "ignore_folder = \"random_occlusion\"\n",
    "\n",
    "def count_images_ignore_folder(dataset, ignore_folder):\n",
    "    count = 0\n",
    "    for img_path, label in dataset.samples:\n",
    "        # Skip if the image path contains the ignore_folder\n",
    "        if ignore_folder not in img_path.split(\"/\"):\n",
    "            count += 1\n",
    "    return count\n",
    "\n",
    "train_count = count_images_ignore_folder(train_ds, ignore_folder)\n",
    "val_count   = count_images_ignore_folder(val_ds, ignore_folder)\n",
    "test_count  = count_images_ignore_folder(test_ds, ignore_folder)\n",
    "\n",
    "total_count = train_count + val_count + test_count\n",
    "\n",
    "print(\"Training images (excluding '{}'): {}\".format(ignore_folder, train_count))\n",
    "print(\"Validation images (excluding '{}'): {}\".format(ignore_folder, val_count))\n",
    "print(\"Test images (excluding '{}'): {}\".format(ignore_folder, test_count))\n",
    "print(\"Total images (excluding '{}'): {}\".format(ignore_folder, total_count))\n"
   ]
  },
  {
   "cell_type": "code",
   "execution_count": 4,
   "id": "06dc8a41",
   "metadata": {
    "execution": {
     "iopub.execute_input": "2025-09-09T04:49:15.643647Z",
     "iopub.status.busy": "2025-09-09T04:49:15.643448Z",
     "iopub.status.idle": "2025-09-09T04:49:15.657262Z",
     "shell.execute_reply": "2025-09-09T04:49:15.656593Z"
    },
    "papermill": {
     "duration": 0.017728,
     "end_time": "2025-09-09T04:49:15.658361",
     "exception": false,
     "start_time": "2025-09-09T04:49:15.640633",
     "status": "completed"
    },
    "tags": []
   },
   "outputs": [
    {
     "name": "stdout",
     "output_type": "stream",
     "text": [
      "Training folders considered: {'low_resolution', 'gaussian_noise', 'blur', 'lens_flare', 'motion_blur', 'dirty_lens', 'chromatic_aberration', 'original', 'random_occlusion'}\n",
      "Validation folders considered: {'low_resolution', 'gaussian_noise', 'blur', 'lens_flare', 'motion_blur', 'dirty_lens', 'chromatic_aberration', 'original', 'random_occlusion'}\n",
      "Test folders considered: {'low_resolution', 'gaussian_noise', 'blur', 'lens_flare', 'motion_blur', 'dirty_lens', 'chromatic_aberration', 'original', 'random_occlusion'}\n"
     ]
    }
   ],
   "source": [
    "ignore_folder = \"random_occlusionw\"\n",
    "\n",
    "def get_included_folders(dataset, ignore_folder):\n",
    "    included = set()\n",
    "    for img_path, label in dataset.samples:\n",
    "        # Split the path into parts and ignore if ignore_folder is in the path\n",
    "        if ignore_folder not in img_path.split(\"/\"):\n",
    "            # The folder name just above the image (or the class folder)\n",
    "            folder_name = img_path.split(\"/\")[-2]\n",
    "            included.add(folder_name)\n",
    "    return included\n",
    "\n",
    "train_folders = get_included_folders(train_ds, ignore_folder)\n",
    "val_folders   = get_included_folders(val_ds, ignore_folder)\n",
    "test_folders  = get_included_folders(test_ds, ignore_folder)\n",
    "\n",
    "print(\"Training folders considered:\", train_folders)\n",
    "print(\"Validation folders considered:\", val_folders)\n",
    "print(\"Test folders considered:\", test_folders)\n"
   ]
  },
  {
   "cell_type": "code",
   "execution_count": 5,
   "id": "59df89ac",
   "metadata": {
    "execution": {
     "iopub.execute_input": "2025-09-09T04:49:15.664215Z",
     "iopub.status.busy": "2025-09-09T04:49:15.663646Z",
     "iopub.status.idle": "2025-09-09T04:49:16.041048Z",
     "shell.execute_reply": "2025-09-09T04:49:16.040221Z"
    },
    "papermill": {
     "duration": 0.381514,
     "end_time": "2025-09-09T04:49:16.042246",
     "exception": false,
     "start_time": "2025-09-09T04:49:15.660732",
     "status": "completed"
    },
    "tags": []
   },
   "outputs": [
    {
     "name": "stdout",
     "output_type": "stream",
     "text": [
      "Classes: ['Cut', 'Drive', 'Leg Shot', 'PullShot', 'Scoop', 'Straight', 'Sweep']\n",
      "Final Training images: 5168\n",
      "Final Validation images: 1328\n",
      "Final Test images: 1656\n",
      "Total images after filtering: 8152\n"
     ]
    }
   ],
   "source": [
    "ignore_folder = \"random_occlusion\"\n",
    "\n",
    "def filter_samples(dataset, ignore_folder):\n",
    "    # Keep only samples where ignore_folder is NOT in the path\n",
    "    filtered_samples = [s for s in dataset.samples if ignore_folder not in s[0].split(\"/\")]\n",
    "    dataset.samples = filtered_samples\n",
    "    dataset.targets = [s[1] for s in filtered_samples]  # Update targets accordingly\n",
    "    return dataset\n",
    "\n",
    "# Create original datasets\n",
    "train_ds = datasets.ImageFolder(f\"{data_dir}/train/Batting\", transform=transform)\n",
    "val_ds   = datasets.ImageFolder(f\"{data_dir}/val/Batting\", transform=transform)\n",
    "test_ds  = datasets.ImageFolder(f\"{data_dir}/test/Batting\", transform=transform)\n",
    "\n",
    "# Filter out 'random_occlusion' folder\n",
    "train_ds = filter_samples(train_ds, ignore_folder)\n",
    "val_ds   = filter_samples(val_ds, ignore_folder)\n",
    "test_ds  = filter_samples(test_ds, ignore_folder)\n",
    "\n",
    "# DataLoaders\n",
    "train_loader = DataLoader(train_ds, batch_size=32, shuffle=True)\n",
    "val_loader   = DataLoader(val_ds, batch_size=32, shuffle=False)\n",
    "test_loader  = DataLoader(test_ds, batch_size=32, shuffle=False)\n",
    "\n",
    "# Classes (will remain the same)\n",
    "classes = train_ds.classes\n",
    "print(\"Classes:\", classes)\n",
    "\n",
    "# Show counts\n",
    "print(\"Final Training images:\", len(train_ds))\n",
    "print(\"Final Validation images:\", len(val_ds))\n",
    "print(\"Final Test images:\", len(test_ds))\n",
    "print(\"Total images after filtering:\", len(train_ds) + len(val_ds) + len(test_ds))\n"
   ]
  },
  {
   "cell_type": "code",
   "execution_count": 6,
   "id": "4daed422",
   "metadata": {
    "execution": {
     "iopub.execute_input": "2025-09-09T04:49:16.048164Z",
     "iopub.status.busy": "2025-09-09T04:49:16.047958Z",
     "iopub.status.idle": "2025-09-09T04:49:16.061149Z",
     "shell.execute_reply": "2025-09-09T04:49:16.060465Z"
    },
    "papermill": {
     "duration": 0.017244,
     "end_time": "2025-09-09T04:49:16.062276",
     "exception": false,
     "start_time": "2025-09-09T04:49:16.045032",
     "status": "completed"
    },
    "tags": []
   },
   "outputs": [
    {
     "name": "stdout",
     "output_type": "stream",
     "text": [
      "Training folders considered: {'low_resolution', 'gaussian_noise', 'blur', 'lens_flare', 'motion_blur', 'dirty_lens', 'chromatic_aberration', 'original'}\n",
      "Validation folders considered: {'low_resolution', 'gaussian_noise', 'blur', 'lens_flare', 'motion_blur', 'dirty_lens', 'chromatic_aberration', 'original'}\n",
      "Test folders considered: {'low_resolution', 'gaussian_noise', 'blur', 'lens_flare', 'motion_blur', 'dirty_lens', 'chromatic_aberration', 'original'}\n"
     ]
    }
   ],
   "source": [
    "ignore_folder = \"random_occlusion\"\n",
    "\n",
    "def get_included_folders(dataset, ignore_folder):\n",
    "    included = set()\n",
    "    for img_path, label in dataset.samples:\n",
    "        # Split the path into parts and ignore if ignore_folder is in the path\n",
    "        if ignore_folder not in img_path.split(\"/\"):\n",
    "            # The folder name just above the image (or the class folder)\n",
    "            folder_name = img_path.split(\"/\")[-2]\n",
    "            included.add(folder_name)\n",
    "    return included\n",
    "\n",
    "train_folders = get_included_folders(train_ds, ignore_folder)\n",
    "val_folders   = get_included_folders(val_ds, ignore_folder)\n",
    "test_folders  = get_included_folders(test_ds, ignore_folder)\n",
    "\n",
    "print(\"Training folders considered:\", train_folders)\n",
    "print(\"Validation folders considered:\", val_folders)\n",
    "print(\"Test folders considered:\", test_folders)\n"
   ]
  },
  {
   "cell_type": "code",
   "execution_count": 7,
   "id": "c896a034",
   "metadata": {
    "execution": {
     "iopub.execute_input": "2025-09-09T04:49:16.070351Z",
     "iopub.status.busy": "2025-09-09T04:49:16.070142Z",
     "iopub.status.idle": "2025-09-09T04:49:16.285966Z",
     "shell.execute_reply": "2025-09-09T04:49:16.285261Z"
    },
    "papermill": {
     "duration": 0.221923,
     "end_time": "2025-09-09T04:49:16.287022",
     "exception": false,
     "start_time": "2025-09-09T04:49:16.065099",
     "status": "completed"
    },
    "tags": []
   },
   "outputs": [
    {
     "name": "stdout",
     "output_type": "stream",
     "text": [
      "🔄 Loading and filtering datasets for Vision Transformer...\n",
      "✅ Classes: ['Cut', 'Drive', 'Leg Shot', 'PullShot', 'Scoop', 'Straight', 'Sweep']\n",
      "📊 Dataset Statistics:\n",
      "│ Training images: 5168\n",
      "│ Validation images: 1328\n",
      "│ Test images: 1656\n",
      "│ Total images (after filtering): 8152\n",
      "│ Excluded folder: 'random_occlusion'\n",
      "│ Number of classes: 7\n"
     ]
    }
   ],
   "source": [
    "import torch\n",
    "import torch.nn as nn\n",
    "import torch.nn.functional as F\n",
    "import torch.optim as optim\n",
    "from torch.utils.data import DataLoader\n",
    "from torchvision import datasets, transforms, models\n",
    "import matplotlib.pyplot as plt\n",
    "from sklearn.metrics import classification_report, confusion_matrix, accuracy_score\n",
    "import seaborn as sns\n",
    "import numpy as np\n",
    "import pandas as pd\n",
    "from tqdm import tqdm\n",
    "import time\n",
    "import os\n",
    "import tempfile\n",
    "\n",
    "# -----------------------------\n",
    "# 1. Data Preprocessing with Filtering (ViT - 224x224)\n",
    "# -----------------------------\n",
    "data_dir = \"/kaggle/input/ju-cricket/Cricket_Dataset_final/Task_B\"\n",
    "\n",
    "# ViT-B/16 uses 224x224 input size\n",
    "transform = transforms.Compose([\n",
    "    transforms.Resize((224, 224)),  # ViT-B/16 input size\n",
    "    transforms.ToTensor(),\n",
    "    transforms.Normalize([0.485, 0.456, 0.406], \n",
    "                         [0.229, 0.224, 0.225])\n",
    "])\n",
    "\n",
    "ignore_folder = \"random_occlusion\"\n",
    "\n",
    "def filter_samples(dataset, ignore_folder):\n",
    "    \"\"\"Filter out samples containing the ignore_folder in their path\"\"\"\n",
    "    filtered_samples = [s for s in dataset.samples if ignore_folder not in s[0].split(\"/\")]\n",
    "    dataset.samples = filtered_samples\n",
    "    dataset.targets = [s[1] for s in filtered_samples]\n",
    "    return dataset\n",
    "\n",
    "# Create and filter datasets\n",
    "print(\"🔄 Loading and filtering datasets for Vision Transformer...\")\n",
    "train_ds = datasets.ImageFolder(f\"{data_dir}/train/Batting\", transform=transform)\n",
    "val_ds   = datasets.ImageFolder(f\"{data_dir}/val/Batting\", transform=transform)\n",
    "test_ds  = datasets.ImageFolder(f\"{data_dir}/test/Batting\", transform=transform)\n",
    "\n",
    "# Apply filtering\n",
    "train_ds = filter_samples(train_ds, ignore_folder)\n",
    "val_ds   = filter_samples(val_ds, ignore_folder)\n",
    "test_ds  = filter_samples(test_ds, ignore_folder)\n",
    "\n",
    "# Create DataLoaders\n",
    "train_loader = DataLoader(train_ds, batch_size=32, shuffle=True)\n",
    "val_loader   = DataLoader(val_ds, batch_size=32, shuffle=False)\n",
    "test_loader  = DataLoader(test_ds, batch_size=32, shuffle=False)\n",
    "\n",
    "# Display information\n",
    "classes = train_ds.classes\n",
    "print(f\"✅ Classes: {classes}\")\n",
    "print(f\"📊 Dataset Statistics:\")\n",
    "print(f\"│ Training images: {len(train_ds)}\")\n",
    "print(f\"│ Validation images: {len(val_ds)}\")\n",
    "print(f\"│ Test images: {len(test_ds)}\")\n",
    "print(f\"│ Total images (after filtering): {len(train_ds) + len(val_ds) + len(test_ds)}\")\n",
    "print(f\"│ Excluded folder: '{ignore_folder}'\")\n",
    "print(f\"│ Number of classes: {len(classes)}\")"
   ]
  },
  {
   "cell_type": "code",
   "execution_count": 8,
   "id": "07debe78",
   "metadata": {
    "execution": {
     "iopub.execute_input": "2025-09-09T04:49:16.293093Z",
     "iopub.status.busy": "2025-09-09T04:49:16.292867Z",
     "iopub.status.idle": "2025-09-09T04:49:20.717947Z",
     "shell.execute_reply": "2025-09-09T04:49:20.717143Z"
    },
    "papermill": {
     "duration": 4.429396,
     "end_time": "2025-09-09T04:49:20.719203",
     "exception": false,
     "start_time": "2025-09-09T04:49:16.289807",
     "status": "completed"
    },
    "tags": []
   },
   "outputs": [
    {
     "name": "stdout",
     "output_type": "stream",
     "text": [
      "Using device: cuda\n",
      "🔄 Loading pretrained Vision Transformer (ViT-B/16) from ImageNet...\n"
     ]
    },
    {
     "name": "stderr",
     "output_type": "stream",
     "text": [
      "/usr/local/lib/python3.11/dist-packages/torchvision/models/_utils.py:208: UserWarning: The parameter 'pretrained' is deprecated since 0.13 and may be removed in the future, please use 'weights' instead.\n",
      "  warnings.warn(\n",
      "/usr/local/lib/python3.11/dist-packages/torchvision/models/_utils.py:223: UserWarning: Arguments other than a weight enum or `None` for 'weights' are deprecated since 0.13 and may be removed in the future. The current behavior is equivalent to passing `weights=ViT_B_16_Weights.IMAGENET1K_V1`. You can also use `weights=ViT_B_16_Weights.DEFAULT` to get the most up-to-date weights.\n",
      "  warnings.warn(msg)\n",
      "Downloading: \"https://download.pytorch.org/models/vit_b_16-c867db91.pth\" to /root/.cache/torch/hub/checkpoints/vit_b_16-c867db91.pth\n",
      "100%|██████████| 330M/330M [00:01<00:00, 201MB/s]\n"
     ]
    },
    {
     "name": "stdout",
     "output_type": "stream",
     "text": [
      "✅ Model loaded with 7 output classes\n",
      "📊 Total parameters: 85,804,039\n",
      "📊 Trainable parameters: 85,804,039\n",
      "📊 Model file size: 327.37 MB\n",
      "📋 Model Architecture:\n",
      "│ Input size: (3, 224, 224)\n",
      "│ ViT-B/16 features: 768\n",
      "│ Output classes: 7\n",
      "│ Patch size: 16x16\n",
      "│ Sequence length: 196 patches + 1 CLS token\n",
      "│ Transformer layers: 12\n",
      "│ Attention heads: 12\n"
     ]
    }
   ],
   "source": [
    "# -----------------------------\n",
    "# 2. Pretrained Vision Transformer Model\n",
    "# -----------------------------\n",
    "device = torch.device('cuda' if torch.cuda.is_available() else 'cpu')\n",
    "print(f\"Using device: {device}\")\n",
    "\n",
    "# Load pretrained Vision Transformer (ViT-B/16)\n",
    "print(\"🔄 Loading pretrained Vision Transformer (ViT-B/16) from ImageNet...\")\n",
    "model = models.vit_b_16(pretrained=True)\n",
    "\n",
    "# Replace final classification layer\n",
    "# ViT uses model.heads.head (nested structure)\n",
    "num_features = model.heads.head.in_features  # Get input features (768)\n",
    "model.heads.head = nn.Linear(num_features, len(classes))  # Replace final layer\n",
    "model = model.to(device)\n",
    "\n",
    "print(f\"✅ Model loaded with {len(classes)} output classes\")\n",
    "\n",
    "# Calculate model parameters and size\n",
    "total_params = sum(p.numel() for p in model.parameters())\n",
    "trainable_params = sum(p.numel() for p in model.parameters() if p.requires_grad)\n",
    "\n",
    "# Calculate model file size\n",
    "with tempfile.NamedTemporaryFile(delete=False, suffix='.pth') as tmp_file:\n",
    "    torch.save(model.state_dict(), tmp_file.name)\n",
    "    model_size_mb = os.path.getsize(tmp_file.name) / (1024 * 1024)\n",
    "    os.unlink(tmp_file.name)\n",
    "\n",
    "print(f\"📊 Total parameters: {total_params:,}\")\n",
    "print(f\"📊 Trainable parameters: {trainable_params:,}\")\n",
    "print(f\"📊 Model file size: {model_size_mb:.2f} MB\")\n",
    "print(f\"📋 Model Architecture:\")\n",
    "print(f\"│ Input size: (3, 224, 224)\")\n",
    "print(f\"│ ViT-B/16 features: 768\")\n",
    "print(f\"│ Output classes: {len(classes)}\")\n",
    "print(f\"│ Patch size: 16x16\")\n",
    "print(f\"│ Sequence length: 196 patches + 1 CLS token\")\n",
    "print(f\"│ Transformer layers: 12\")\n",
    "print(f\"│ Attention heads: 12\")"
   ]
  },
  {
   "cell_type": "code",
   "execution_count": 9,
   "id": "91137863",
   "metadata": {
    "execution": {
     "iopub.execute_input": "2025-09-09T04:49:20.728235Z",
     "iopub.status.busy": "2025-09-09T04:49:20.727981Z",
     "iopub.status.idle": "2025-09-09T08:34:18.505336Z",
     "shell.execute_reply": "2025-09-09T08:34:18.504619Z"
    },
    "papermill": {
     "duration": 13497.783974,
     "end_time": "2025-09-09T08:34:18.507223",
     "exception": false,
     "start_time": "2025-09-09T04:49:20.723249",
     "status": "completed"
    },
    "tags": []
   },
   "outputs": [
    {
     "name": "stdout",
     "output_type": "stream",
     "text": [
      "\n",
      "📋 Training Configuration:\n",
      "│ Model: Vision Transformer ViT-B/16 (pretrained)\n",
      "│ Optimizer: Adam (lr=0.0001)\n",
      "│ Loss Function: CrossEntropyLoss\n",
      "│ Batch Size: 32\n",
      "│ Device: cuda\n",
      "│ Data: Filtered (excluding 'random_occlusion')\n",
      "\n",
      "🚀 Starting Vision Transformer Fine-tuning for 50 epochs...\n",
      "================================================================================\n",
      "\n",
      "📈 Epoch 1/50\n",
      "--------------------------------------------------\n",
      "🔄 Training Phase...\n"
     ]
    },
    {
     "name": "stderr",
     "output_type": "stream",
     "text": [
      "Training: 100%|██████████████████████████████| 162/162 [04:23<00:00,  1.63s/it, Loss=0.5967, Acc=0.7885]\n"
     ]
    },
    {
     "name": "stdout",
     "output_type": "stream",
     "text": [
      "✅ Training completed in 263.51s\n",
      "🔍 Validation Phase...\n"
     ]
    },
    {
     "name": "stderr",
     "output_type": "stream",
     "text": [
      "Validation: 100%|██████████████████████████████| 42/42 [00:34<00:00,  1.20it/s, Loss=1.1233, Acc=0.6709]\n"
     ]
    },
    {
     "name": "stdout",
     "output_type": "stream",
     "text": [
      "✅ Validation completed in 34.88s\n",
      "🌟 New best model found! Validation Loss: 1.1233\n",
      "\n",
      "📊 Epoch 1 Summary:\n",
      "│ Train Loss: 0.5967 | Train Acc: 0.7885\n",
      "│ Val Loss:   1.1233 | Val Acc:   0.6709\n",
      "│ Train Time: 263.51s | Val Time: 34.88s\n",
      "│ Total Epoch Time: 298.40s\n",
      "│ Best Val Loss: 1.1233 (Epoch 1)\n",
      "│ GPU Memory: 1.3GB / 5.0GB\n",
      "================================================================================\n",
      "\n",
      "📈 Epoch 2/50\n",
      "--------------------------------------------------\n",
      "🔄 Training Phase...\n"
     ]
    },
    {
     "name": "stderr",
     "output_type": "stream",
     "text": [
      "Training: 100%|██████████████████████████████| 162/162 [04:02<00:00,  1.50s/it, Loss=0.0715, Acc=0.9801]\n"
     ]
    },
    {
     "name": "stdout",
     "output_type": "stream",
     "text": [
      "✅ Training completed in 242.49s\n",
      "🔍 Validation Phase...\n"
     ]
    },
    {
     "name": "stderr",
     "output_type": "stream",
     "text": [
      "Validation: 100%|██████████████████████████████| 42/42 [00:26<00:00,  1.61it/s, Loss=1.2469, Acc=0.6815]\n"
     ]
    },
    {
     "name": "stdout",
     "output_type": "stream",
     "text": [
      "✅ Validation completed in 26.14s\n",
      "\n",
      "📊 Epoch 2 Summary:\n",
      "│ Train Loss: 0.0715 | Train Acc: 0.9801\n",
      "│ Val Loss:   1.2469 | Val Acc:   0.6815\n",
      "│ Train Time: 242.49s | Val Time: 26.14s\n",
      "│ Total Epoch Time: 268.64s\n",
      "│ Best Val Loss: 1.1233 (Epoch 1)\n",
      "│ GPU Memory: 1.3GB / 5.0GB\n",
      "================================================================================\n",
      "\n",
      "📈 Epoch 3/50\n",
      "--------------------------------------------------\n",
      "🔄 Training Phase...\n"
     ]
    },
    {
     "name": "stderr",
     "output_type": "stream",
     "text": [
      "Training: 100%|██████████████████████████████| 162/162 [04:01<00:00,  1.49s/it, Loss=0.0513, Acc=0.9830]\n"
     ]
    },
    {
     "name": "stdout",
     "output_type": "stream",
     "text": [
      "✅ Training completed in 241.54s\n",
      "🔍 Validation Phase...\n"
     ]
    },
    {
     "name": "stderr",
     "output_type": "stream",
     "text": [
      "Validation: 100%|██████████████████████████████| 42/42 [00:26<00:00,  1.61it/s, Loss=1.4460, Acc=0.6852]\n"
     ]
    },
    {
     "name": "stdout",
     "output_type": "stream",
     "text": [
      "✅ Validation completed in 26.07s\n",
      "\n",
      "📊 Epoch 3 Summary:\n",
      "│ Train Loss: 0.0513 | Train Acc: 0.9830\n",
      "│ Val Loss:   1.4460 | Val Acc:   0.6852\n",
      "│ Train Time: 241.54s | Val Time: 26.07s\n",
      "│ Total Epoch Time: 267.61s\n",
      "│ Best Val Loss: 1.1233 (Epoch 1)\n",
      "│ GPU Memory: 1.3GB / 5.0GB\n",
      "================================================================================\n",
      "\n",
      "📈 Epoch 4/50\n",
      "--------------------------------------------------\n",
      "🔄 Training Phase...\n"
     ]
    },
    {
     "name": "stderr",
     "output_type": "stream",
     "text": [
      "Training: 100%|██████████████████████████████| 162/162 [04:01<00:00,  1.49s/it, Loss=0.0778, Acc=0.9729]\n"
     ]
    },
    {
     "name": "stdout",
     "output_type": "stream",
     "text": [
      "✅ Training completed in 241.47s\n",
      "🔍 Validation Phase...\n"
     ]
    },
    {
     "name": "stderr",
     "output_type": "stream",
     "text": [
      "Validation: 100%|██████████████████████████████| 42/42 [00:26<00:00,  1.60it/s, Loss=1.4916, Acc=0.6717]\n"
     ]
    },
    {
     "name": "stdout",
     "output_type": "stream",
     "text": [
      "✅ Validation completed in 26.20s\n",
      "\n",
      "📊 Epoch 4 Summary:\n",
      "│ Train Loss: 0.0778 | Train Acc: 0.9729\n",
      "│ Val Loss:   1.4916 | Val Acc:   0.6717\n",
      "│ Train Time: 241.47s | Val Time: 26.20s\n",
      "│ Total Epoch Time: 267.67s\n",
      "│ Best Val Loss: 1.1233 (Epoch 1)\n",
      "│ GPU Memory: 1.3GB / 5.0GB\n",
      "================================================================================\n",
      "\n",
      "📈 Epoch 5/50\n",
      "--------------------------------------------------\n",
      "🔄 Training Phase...\n"
     ]
    },
    {
     "name": "stderr",
     "output_type": "stream",
     "text": [
      "Training: 100%|██████████████████████████████| 162/162 [04:01<00:00,  1.49s/it, Loss=0.0201, Acc=0.9930]\n"
     ]
    },
    {
     "name": "stdout",
     "output_type": "stream",
     "text": [
      "✅ Training completed in 241.04s\n",
      "🔍 Validation Phase...\n"
     ]
    },
    {
     "name": "stderr",
     "output_type": "stream",
     "text": [
      "Validation: 100%|██████████████████████████████| 42/42 [00:26<00:00,  1.61it/s, Loss=1.4163, Acc=0.6928]\n"
     ]
    },
    {
     "name": "stdout",
     "output_type": "stream",
     "text": [
      "✅ Validation completed in 26.10s\n",
      "\n",
      "📊 Epoch 5 Summary:\n",
      "│ Train Loss: 0.0201 | Train Acc: 0.9930\n",
      "│ Val Loss:   1.4163 | Val Acc:   0.6928\n",
      "│ Train Time: 241.04s | Val Time: 26.10s\n",
      "│ Total Epoch Time: 267.14s\n",
      "│ Best Val Loss: 1.1233 (Epoch 1)\n",
      "│ GPU Memory: 1.3GB / 5.0GB\n",
      "================================================================================\n",
      "\n",
      "📈 Epoch 6/50\n",
      "--------------------------------------------------\n",
      "🔄 Training Phase...\n"
     ]
    },
    {
     "name": "stderr",
     "output_type": "stream",
     "text": [
      "Training: 100%|██████████████████████████████| 162/162 [04:01<00:00,  1.49s/it, Loss=0.0648, Acc=0.9783]\n"
     ]
    },
    {
     "name": "stdout",
     "output_type": "stream",
     "text": [
      "✅ Training completed in 241.44s\n",
      "🔍 Validation Phase...\n"
     ]
    },
    {
     "name": "stderr",
     "output_type": "stream",
     "text": [
      "Validation: 100%|██████████████████████████████| 42/42 [00:26<00:00,  1.61it/s, Loss=2.0730, Acc=0.5964]\n"
     ]
    },
    {
     "name": "stdout",
     "output_type": "stream",
     "text": [
      "✅ Validation completed in 26.12s\n",
      "\n",
      "📊 Epoch 6 Summary:\n",
      "│ Train Loss: 0.0648 | Train Acc: 0.9783\n",
      "│ Val Loss:   2.0730 | Val Acc:   0.5964\n",
      "│ Train Time: 241.44s | Val Time: 26.12s\n",
      "│ Total Epoch Time: 267.57s\n",
      "│ Best Val Loss: 1.1233 (Epoch 1)\n",
      "│ GPU Memory: 1.3GB / 5.0GB\n",
      "================================================================================\n",
      "\n",
      "📈 Epoch 7/50\n",
      "--------------------------------------------------\n",
      "🔄 Training Phase...\n"
     ]
    },
    {
     "name": "stderr",
     "output_type": "stream",
     "text": [
      "Training: 100%|██████████████████████████████| 162/162 [04:02<00:00,  1.50s/it, Loss=0.0428, Acc=0.9853]\n"
     ]
    },
    {
     "name": "stdout",
     "output_type": "stream",
     "text": [
      "✅ Training completed in 242.45s\n",
      "🔍 Validation Phase...\n"
     ]
    },
    {
     "name": "stderr",
     "output_type": "stream",
     "text": [
      "Validation: 100%|██████████████████████████████| 42/42 [00:26<00:00,  1.58it/s, Loss=1.6037, Acc=0.6785]\n"
     ]
    },
    {
     "name": "stdout",
     "output_type": "stream",
     "text": [
      "✅ Validation completed in 26.56s\n",
      "\n",
      "📊 Epoch 7 Summary:\n",
      "│ Train Loss: 0.0428 | Train Acc: 0.9853\n",
      "│ Val Loss:   1.6037 | Val Acc:   0.6785\n",
      "│ Train Time: 242.45s | Val Time: 26.56s\n",
      "│ Total Epoch Time: 269.02s\n",
      "│ Best Val Loss: 1.1233 (Epoch 1)\n",
      "│ GPU Memory: 1.3GB / 5.0GB\n",
      "================================================================================\n",
      "\n",
      "📈 Epoch 8/50\n",
      "--------------------------------------------------\n",
      "🔄 Training Phase...\n"
     ]
    },
    {
     "name": "stderr",
     "output_type": "stream",
     "text": [
      "Training: 100%|██████████████████████████████| 162/162 [04:02<00:00,  1.50s/it, Loss=0.0129, Acc=0.9936]\n"
     ]
    },
    {
     "name": "stdout",
     "output_type": "stream",
     "text": [
      "✅ Training completed in 242.46s\n",
      "🔍 Validation Phase...\n"
     ]
    },
    {
     "name": "stderr",
     "output_type": "stream",
     "text": [
      "Validation: 100%|██████████████████████████████| 42/42 [00:26<00:00,  1.60it/s, Loss=1.6458, Acc=0.6905]\n"
     ]
    },
    {
     "name": "stdout",
     "output_type": "stream",
     "text": [
      "✅ Validation completed in 26.32s\n",
      "\n",
      "📊 Epoch 8 Summary:\n",
      "│ Train Loss: 0.0129 | Train Acc: 0.9936\n",
      "│ Val Loss:   1.6458 | Val Acc:   0.6905\n",
      "│ Train Time: 242.46s | Val Time: 26.32s\n",
      "│ Total Epoch Time: 268.79s\n",
      "│ Best Val Loss: 1.1233 (Epoch 1)\n",
      "│ GPU Memory: 1.3GB / 5.0GB\n",
      "================================================================================\n",
      "\n",
      "📈 Epoch 9/50\n",
      "--------------------------------------------------\n",
      "🔄 Training Phase...\n"
     ]
    },
    {
     "name": "stderr",
     "output_type": "stream",
     "text": [
      "Training: 100%|██████████████████████████████| 162/162 [04:02<00:00,  1.50s/it, Loss=0.0091, Acc=0.9954]\n"
     ]
    },
    {
     "name": "stdout",
     "output_type": "stream",
     "text": [
      "✅ Training completed in 242.79s\n",
      "🔍 Validation Phase...\n"
     ]
    },
    {
     "name": "stderr",
     "output_type": "stream",
     "text": [
      "Validation: 100%|██████████████████████████████| 42/42 [00:26<00:00,  1.59it/s, Loss=1.6936, Acc=0.6935]\n"
     ]
    },
    {
     "name": "stdout",
     "output_type": "stream",
     "text": [
      "✅ Validation completed in 26.38s\n",
      "\n",
      "📊 Epoch 9 Summary:\n",
      "│ Train Loss: 0.0091 | Train Acc: 0.9954\n",
      "│ Val Loss:   1.6936 | Val Acc:   0.6935\n",
      "│ Train Time: 242.79s | Val Time: 26.38s\n",
      "│ Total Epoch Time: 269.18s\n",
      "│ Best Val Loss: 1.1233 (Epoch 1)\n",
      "│ GPU Memory: 1.3GB / 5.0GB\n",
      "================================================================================\n",
      "\n",
      "📈 Epoch 10/50\n",
      "--------------------------------------------------\n",
      "🔄 Training Phase...\n"
     ]
    },
    {
     "name": "stderr",
     "output_type": "stream",
     "text": [
      "Training: 100%|██████████████████████████████| 162/162 [04:02<00:00,  1.50s/it, Loss=0.0098, Acc=0.9952]\n"
     ]
    },
    {
     "name": "stdout",
     "output_type": "stream",
     "text": [
      "✅ Training completed in 242.66s\n",
      "🔍 Validation Phase...\n"
     ]
    },
    {
     "name": "stderr",
     "output_type": "stream",
     "text": [
      "Validation: 100%|██████████████████████████████| 42/42 [00:26<00:00,  1.60it/s, Loss=1.6785, Acc=0.6928]\n"
     ]
    },
    {
     "name": "stdout",
     "output_type": "stream",
     "text": [
      "✅ Validation completed in 26.25s\n",
      "\n",
      "📊 Epoch 10 Summary:\n",
      "│ Train Loss: 0.0098 | Train Acc: 0.9952\n",
      "│ Val Loss:   1.6785 | Val Acc:   0.6928\n",
      "│ Train Time: 242.66s | Val Time: 26.25s\n",
      "│ Total Epoch Time: 268.92s\n",
      "│ Best Val Loss: 1.1233 (Epoch 1)\n",
      "│ GPU Memory: 1.3GB / 5.0GB\n",
      "================================================================================\n",
      "\n",
      "📈 Epoch 11/50\n",
      "--------------------------------------------------\n",
      "🔄 Training Phase...\n"
     ]
    },
    {
     "name": "stderr",
     "output_type": "stream",
     "text": [
      "Training: 100%|██████████████████████████████| 162/162 [04:02<00:00,  1.49s/it, Loss=0.0097, Acc=0.9948]\n"
     ]
    },
    {
     "name": "stdout",
     "output_type": "stream",
     "text": [
      "✅ Training completed in 242.06s\n",
      "🔍 Validation Phase...\n"
     ]
    },
    {
     "name": "stderr",
     "output_type": "stream",
     "text": [
      "Validation: 100%|██████████████████████████████| 42/42 [00:26<00:00,  1.61it/s, Loss=1.6844, Acc=0.6920]\n"
     ]
    },
    {
     "name": "stdout",
     "output_type": "stream",
     "text": [
      "✅ Validation completed in 26.12s\n",
      "\n",
      "📊 Epoch 11 Summary:\n",
      "│ Train Loss: 0.0097 | Train Acc: 0.9948\n",
      "│ Val Loss:   1.6844 | Val Acc:   0.6920\n",
      "│ Train Time: 242.06s | Val Time: 26.12s\n",
      "│ Total Epoch Time: 268.19s\n",
      "│ Best Val Loss: 1.1233 (Epoch 1)\n",
      "│ GPU Memory: 1.3GB / 5.0GB\n",
      "================================================================================\n",
      "\n",
      "📈 Epoch 12/50\n",
      "--------------------------------------------------\n",
      "🔄 Training Phase...\n"
     ]
    },
    {
     "name": "stderr",
     "output_type": "stream",
     "text": [
      "Training: 100%|██████████████████████████████| 162/162 [04:01<00:00,  1.49s/it, Loss=0.0097, Acc=0.9952]\n"
     ]
    },
    {
     "name": "stdout",
     "output_type": "stream",
     "text": [
      "✅ Training completed in 241.75s\n",
      "🔍 Validation Phase...\n"
     ]
    },
    {
     "name": "stderr",
     "output_type": "stream",
     "text": [
      "Validation: 100%|██████████████████████████████| 42/42 [00:26<00:00,  1.60it/s, Loss=1.6999, Acc=0.6950]\n"
     ]
    },
    {
     "name": "stdout",
     "output_type": "stream",
     "text": [
      "✅ Validation completed in 26.24s\n",
      "\n",
      "📊 Epoch 12 Summary:\n",
      "│ Train Loss: 0.0097 | Train Acc: 0.9952\n",
      "│ Val Loss:   1.6999 | Val Acc:   0.6950\n",
      "│ Train Time: 241.75s | Val Time: 26.24s\n",
      "│ Total Epoch Time: 268.00s\n",
      "│ Best Val Loss: 1.1233 (Epoch 1)\n",
      "│ GPU Memory: 1.3GB / 5.0GB\n",
      "================================================================================\n",
      "\n",
      "📈 Epoch 13/50\n",
      "--------------------------------------------------\n",
      "🔄 Training Phase...\n"
     ]
    },
    {
     "name": "stderr",
     "output_type": "stream",
     "text": [
      "Training: 100%|██████████████████████████████| 162/162 [04:01<00:00,  1.49s/it, Loss=0.0476, Acc=0.9820]\n"
     ]
    },
    {
     "name": "stdout",
     "output_type": "stream",
     "text": [
      "✅ Training completed in 241.07s\n",
      "🔍 Validation Phase...\n"
     ]
    },
    {
     "name": "stderr",
     "output_type": "stream",
     "text": [
      "Validation: 100%|██████████████████████████████| 42/42 [00:26<00:00,  1.60it/s, Loss=1.8285, Acc=0.6325]\n"
     ]
    },
    {
     "name": "stdout",
     "output_type": "stream",
     "text": [
      "✅ Validation completed in 26.18s\n",
      "\n",
      "📊 Epoch 13 Summary:\n",
      "│ Train Loss: 0.0476 | Train Acc: 0.9820\n",
      "│ Val Loss:   1.8285 | Val Acc:   0.6325\n",
      "│ Train Time: 241.07s | Val Time: 26.18s\n",
      "│ Total Epoch Time: 267.26s\n",
      "│ Best Val Loss: 1.1233 (Epoch 1)\n",
      "│ GPU Memory: 1.3GB / 5.0GB\n",
      "================================================================================\n",
      "\n",
      "📈 Epoch 14/50\n",
      "--------------------------------------------------\n",
      "🔄 Training Phase...\n"
     ]
    },
    {
     "name": "stderr",
     "output_type": "stream",
     "text": [
      "Training: 100%|██████████████████████████████| 162/162 [04:01<00:00,  1.49s/it, Loss=0.1400, Acc=0.9538]\n"
     ]
    },
    {
     "name": "stdout",
     "output_type": "stream",
     "text": [
      "✅ Training completed in 241.84s\n",
      "🔍 Validation Phase...\n"
     ]
    },
    {
     "name": "stderr",
     "output_type": "stream",
     "text": [
      "Validation: 100%|██████████████████████████████| 42/42 [00:26<00:00,  1.60it/s, Loss=1.6252, Acc=0.6227]\n"
     ]
    },
    {
     "name": "stdout",
     "output_type": "stream",
     "text": [
      "✅ Validation completed in 26.21s\n",
      "\n",
      "📊 Epoch 14 Summary:\n",
      "│ Train Loss: 0.1400 | Train Acc: 0.9538\n",
      "│ Val Loss:   1.6252 | Val Acc:   0.6227\n",
      "│ Train Time: 241.84s | Val Time: 26.21s\n",
      "│ Total Epoch Time: 268.05s\n",
      "│ Best Val Loss: 1.1233 (Epoch 1)\n",
      "│ GPU Memory: 1.3GB / 5.0GB\n",
      "================================================================================\n",
      "\n",
      "📈 Epoch 15/50\n",
      "--------------------------------------------------\n",
      "🔄 Training Phase...\n"
     ]
    },
    {
     "name": "stderr",
     "output_type": "stream",
     "text": [
      "Training: 100%|██████████████████████████████| 162/162 [04:02<00:00,  1.50s/it, Loss=0.0432, Acc=0.9847]\n"
     ]
    },
    {
     "name": "stdout",
     "output_type": "stream",
     "text": [
      "✅ Training completed in 242.26s\n",
      "🔍 Validation Phase...\n"
     ]
    },
    {
     "name": "stderr",
     "output_type": "stream",
     "text": [
      "Validation: 100%|██████████████████████████████| 42/42 [00:26<00:00,  1.60it/s, Loss=1.8178, Acc=0.6551]\n"
     ]
    },
    {
     "name": "stdout",
     "output_type": "stream",
     "text": [
      "✅ Validation completed in 26.25s\n",
      "\n",
      "📊 Epoch 15 Summary:\n",
      "│ Train Loss: 0.0432 | Train Acc: 0.9847\n",
      "│ Val Loss:   1.8178 | Val Acc:   0.6551\n",
      "│ Train Time: 242.26s | Val Time: 26.25s\n",
      "│ Total Epoch Time: 268.51s\n",
      "│ Best Val Loss: 1.1233 (Epoch 1)\n",
      "│ GPU Memory: 1.3GB / 5.0GB\n",
      "================================================================================\n",
      "\n",
      "📈 Epoch 16/50\n",
      "--------------------------------------------------\n",
      "🔄 Training Phase...\n"
     ]
    },
    {
     "name": "stderr",
     "output_type": "stream",
     "text": [
      "Training: 100%|██████████████████████████████| 162/162 [04:02<00:00,  1.49s/it, Loss=0.0502, Acc=0.9816]\n"
     ]
    },
    {
     "name": "stdout",
     "output_type": "stream",
     "text": [
      "✅ Training completed in 242.17s\n",
      "🔍 Validation Phase...\n"
     ]
    },
    {
     "name": "stderr",
     "output_type": "stream",
     "text": [
      "Validation: 100%|██████████████████████████████| 42/42 [00:26<00:00,  1.60it/s, Loss=1.8105, Acc=0.6468]\n"
     ]
    },
    {
     "name": "stdout",
     "output_type": "stream",
     "text": [
      "✅ Validation completed in 26.24s\n",
      "\n",
      "📊 Epoch 16 Summary:\n",
      "│ Train Loss: 0.0502 | Train Acc: 0.9816\n",
      "│ Val Loss:   1.8105 | Val Acc:   0.6468\n",
      "│ Train Time: 242.17s | Val Time: 26.24s\n",
      "│ Total Epoch Time: 268.41s\n",
      "│ Best Val Loss: 1.1233 (Epoch 1)\n",
      "│ GPU Memory: 1.3GB / 5.0GB\n",
      "================================================================================\n",
      "\n",
      "📈 Epoch 17/50\n",
      "--------------------------------------------------\n",
      "🔄 Training Phase...\n"
     ]
    },
    {
     "name": "stderr",
     "output_type": "stream",
     "text": [
      "Training: 100%|██████████████████████████████| 162/162 [04:01<00:00,  1.49s/it, Loss=0.0142, Acc=0.9932]\n"
     ]
    },
    {
     "name": "stdout",
     "output_type": "stream",
     "text": [
      "✅ Training completed in 241.41s\n",
      "🔍 Validation Phase...\n"
     ]
    },
    {
     "name": "stderr",
     "output_type": "stream",
     "text": [
      "Validation: 100%|██████████████████████████████| 42/42 [00:26<00:00,  1.60it/s, Loss=1.7872, Acc=0.6732]\n"
     ]
    },
    {
     "name": "stdout",
     "output_type": "stream",
     "text": [
      "✅ Validation completed in 26.27s\n",
      "\n",
      "📊 Epoch 17 Summary:\n",
      "│ Train Loss: 0.0142 | Train Acc: 0.9932\n",
      "│ Val Loss:   1.7872 | Val Acc:   0.6732\n",
      "│ Train Time: 241.41s | Val Time: 26.27s\n",
      "│ Total Epoch Time: 267.68s\n",
      "│ Best Val Loss: 1.1233 (Epoch 1)\n",
      "│ GPU Memory: 1.3GB / 5.0GB\n",
      "================================================================================\n",
      "\n",
      "📈 Epoch 18/50\n",
      "--------------------------------------------------\n",
      "🔄 Training Phase...\n"
     ]
    },
    {
     "name": "stderr",
     "output_type": "stream",
     "text": [
      "Training: 100%|██████████████████████████████| 162/162 [04:02<00:00,  1.49s/it, Loss=0.0103, Acc=0.9952]\n"
     ]
    },
    {
     "name": "stdout",
     "output_type": "stream",
     "text": [
      "✅ Training completed in 242.14s\n",
      "🔍 Validation Phase...\n"
     ]
    },
    {
     "name": "stderr",
     "output_type": "stream",
     "text": [
      "Validation: 100%|██████████████████████████████| 42/42 [00:26<00:00,  1.61it/s, Loss=1.6900, Acc=0.6905]\n"
     ]
    },
    {
     "name": "stdout",
     "output_type": "stream",
     "text": [
      "✅ Validation completed in 26.16s\n",
      "\n",
      "📊 Epoch 18 Summary:\n",
      "│ Train Loss: 0.0103 | Train Acc: 0.9952\n",
      "│ Val Loss:   1.6900 | Val Acc:   0.6905\n",
      "│ Train Time: 242.14s | Val Time: 26.16s\n",
      "│ Total Epoch Time: 268.30s\n",
      "│ Best Val Loss: 1.1233 (Epoch 1)\n",
      "│ GPU Memory: 1.3GB / 5.0GB\n",
      "================================================================================\n",
      "\n",
      "📈 Epoch 19/50\n",
      "--------------------------------------------------\n",
      "🔄 Training Phase...\n"
     ]
    },
    {
     "name": "stderr",
     "output_type": "stream",
     "text": [
      "Training: 100%|██████████████████████████████| 162/162 [04:02<00:00,  1.49s/it, Loss=0.0174, Acc=0.9925]\n"
     ]
    },
    {
     "name": "stdout",
     "output_type": "stream",
     "text": [
      "✅ Training completed in 242.15s\n",
      "🔍 Validation Phase...\n"
     ]
    },
    {
     "name": "stderr",
     "output_type": "stream",
     "text": [
      "Validation: 100%|██████████████████████████████| 42/42 [00:26<00:00,  1.59it/s, Loss=1.6209, Acc=0.6619]\n"
     ]
    },
    {
     "name": "stdout",
     "output_type": "stream",
     "text": [
      "✅ Validation completed in 26.38s\n",
      "\n",
      "📊 Epoch 19 Summary:\n",
      "│ Train Loss: 0.0174 | Train Acc: 0.9925\n",
      "│ Val Loss:   1.6209 | Val Acc:   0.6619\n",
      "│ Train Time: 242.15s | Val Time: 26.38s\n",
      "│ Total Epoch Time: 268.53s\n",
      "│ Best Val Loss: 1.1233 (Epoch 1)\n",
      "│ GPU Memory: 1.3GB / 5.0GB\n",
      "================================================================================\n",
      "\n",
      "📈 Epoch 20/50\n",
      "--------------------------------------------------\n",
      "🔄 Training Phase...\n"
     ]
    },
    {
     "name": "stderr",
     "output_type": "stream",
     "text": [
      "Training: 100%|██████████████████████████████| 162/162 [04:02<00:00,  1.50s/it, Loss=0.0678, Acc=0.9758]\n"
     ]
    },
    {
     "name": "stdout",
     "output_type": "stream",
     "text": [
      "✅ Training completed in 242.34s\n",
      "🔍 Validation Phase...\n"
     ]
    },
    {
     "name": "stderr",
     "output_type": "stream",
     "text": [
      "Validation: 100%|██████████████████████████████| 42/42 [00:26<00:00,  1.59it/s, Loss=2.2176, Acc=0.6084]\n"
     ]
    },
    {
     "name": "stdout",
     "output_type": "stream",
     "text": [
      "✅ Validation completed in 26.40s\n",
      "\n",
      "📊 Epoch 20 Summary:\n",
      "│ Train Loss: 0.0678 | Train Acc: 0.9758\n",
      "│ Val Loss:   2.2176 | Val Acc:   0.6084\n",
      "│ Train Time: 242.34s | Val Time: 26.40s\n",
      "│ Total Epoch Time: 268.74s\n",
      "│ Best Val Loss: 1.1233 (Epoch 1)\n",
      "│ GPU Memory: 1.3GB / 5.0GB\n",
      "================================================================================\n",
      "\n",
      "📈 Epoch 21/50\n",
      "--------------------------------------------------\n",
      "🔄 Training Phase...\n"
     ]
    },
    {
     "name": "stderr",
     "output_type": "stream",
     "text": [
      "Training: 100%|██████████████████████████████| 162/162 [04:03<00:00,  1.50s/it, Loss=0.0306, Acc=0.9886]\n"
     ]
    },
    {
     "name": "stdout",
     "output_type": "stream",
     "text": [
      "✅ Training completed in 243.13s\n",
      "🔍 Validation Phase...\n"
     ]
    },
    {
     "name": "stderr",
     "output_type": "stream",
     "text": [
      "Validation: 100%|██████████████████████████████| 42/42 [00:26<00:00,  1.59it/s, Loss=2.0004, Acc=0.6913]\n"
     ]
    },
    {
     "name": "stdout",
     "output_type": "stream",
     "text": [
      "✅ Validation completed in 26.35s\n",
      "\n",
      "📊 Epoch 21 Summary:\n",
      "│ Train Loss: 0.0306 | Train Acc: 0.9886\n",
      "│ Val Loss:   2.0004 | Val Acc:   0.6913\n",
      "│ Train Time: 243.13s | Val Time: 26.35s\n",
      "│ Total Epoch Time: 269.49s\n",
      "│ Best Val Loss: 1.1233 (Epoch 1)\n",
      "│ GPU Memory: 1.3GB / 5.0GB\n",
      "================================================================================\n",
      "\n",
      "📈 Epoch 22/50\n",
      "--------------------------------------------------\n",
      "🔄 Training Phase...\n"
     ]
    },
    {
     "name": "stderr",
     "output_type": "stream",
     "text": [
      "Training: 100%|██████████████████████████████| 162/162 [04:02<00:00,  1.50s/it, Loss=0.0086, Acc=0.9957]\n"
     ]
    },
    {
     "name": "stdout",
     "output_type": "stream",
     "text": [
      "✅ Training completed in 242.75s\n",
      "🔍 Validation Phase...\n"
     ]
    },
    {
     "name": "stderr",
     "output_type": "stream",
     "text": [
      "Validation: 100%|██████████████████████████████| 42/42 [00:26<00:00,  1.60it/s, Loss=1.9247, Acc=0.6815]\n"
     ]
    },
    {
     "name": "stdout",
     "output_type": "stream",
     "text": [
      "✅ Validation completed in 26.26s\n",
      "\n",
      "📊 Epoch 22 Summary:\n",
      "│ Train Loss: 0.0086 | Train Acc: 0.9957\n",
      "│ Val Loss:   1.9247 | Val Acc:   0.6815\n",
      "│ Train Time: 242.75s | Val Time: 26.26s\n",
      "│ Total Epoch Time: 269.01s\n",
      "│ Best Val Loss: 1.1233 (Epoch 1)\n",
      "│ GPU Memory: 1.3GB / 5.0GB\n",
      "================================================================================\n",
      "\n",
      "📈 Epoch 23/50\n",
      "--------------------------------------------------\n",
      "🔄 Training Phase...\n"
     ]
    },
    {
     "name": "stderr",
     "output_type": "stream",
     "text": [
      "Training: 100%|██████████████████████████████| 162/162 [04:03<00:00,  1.50s/it, Loss=0.0081, Acc=0.9959]\n"
     ]
    },
    {
     "name": "stdout",
     "output_type": "stream",
     "text": [
      "✅ Training completed in 243.45s\n",
      "🔍 Validation Phase...\n"
     ]
    },
    {
     "name": "stderr",
     "output_type": "stream",
     "text": [
      "Validation: 100%|██████████████████████████████| 42/42 [00:26<00:00,  1.60it/s, Loss=1.8816, Acc=0.6890]\n"
     ]
    },
    {
     "name": "stdout",
     "output_type": "stream",
     "text": [
      "✅ Validation completed in 26.22s\n",
      "\n",
      "📊 Epoch 23 Summary:\n",
      "│ Train Loss: 0.0081 | Train Acc: 0.9959\n",
      "│ Val Loss:   1.8816 | Val Acc:   0.6890\n",
      "│ Train Time: 243.45s | Val Time: 26.22s\n",
      "│ Total Epoch Time: 269.67s\n",
      "│ Best Val Loss: 1.1233 (Epoch 1)\n",
      "│ GPU Memory: 1.3GB / 5.0GB\n",
      "================================================================================\n",
      "\n",
      "📈 Epoch 24/50\n",
      "--------------------------------------------------\n",
      "🔄 Training Phase...\n"
     ]
    },
    {
     "name": "stderr",
     "output_type": "stream",
     "text": [
      "Training: 100%|██████████████████████████████| 162/162 [04:02<00:00,  1.50s/it, Loss=0.0099, Acc=0.9948]\n"
     ]
    },
    {
     "name": "stdout",
     "output_type": "stream",
     "text": [
      "✅ Training completed in 242.80s\n",
      "🔍 Validation Phase...\n"
     ]
    },
    {
     "name": "stderr",
     "output_type": "stream",
     "text": [
      "Validation: 100%|██████████████████████████████| 42/42 [00:26<00:00,  1.60it/s, Loss=1.8852, Acc=0.6875]\n"
     ]
    },
    {
     "name": "stdout",
     "output_type": "stream",
     "text": [
      "✅ Validation completed in 26.25s\n",
      "\n",
      "📊 Epoch 24 Summary:\n",
      "│ Train Loss: 0.0099 | Train Acc: 0.9948\n",
      "│ Val Loss:   1.8852 | Val Acc:   0.6875\n",
      "│ Train Time: 242.80s | Val Time: 26.25s\n",
      "│ Total Epoch Time: 269.05s\n",
      "│ Best Val Loss: 1.1233 (Epoch 1)\n",
      "│ GPU Memory: 1.3GB / 5.0GB\n",
      "================================================================================\n",
      "\n",
      "📈 Epoch 25/50\n",
      "--------------------------------------------------\n",
      "🔄 Training Phase...\n"
     ]
    },
    {
     "name": "stderr",
     "output_type": "stream",
     "text": [
      "Training: 100%|██████████████████████████████| 162/162 [04:02<00:00,  1.50s/it, Loss=0.0063, Acc=0.9973]\n"
     ]
    },
    {
     "name": "stdout",
     "output_type": "stream",
     "text": [
      "✅ Training completed in 242.85s\n",
      "🔍 Validation Phase...\n"
     ]
    },
    {
     "name": "stderr",
     "output_type": "stream",
     "text": [
      "Validation: 100%|██████████████████████████████| 42/42 [00:26<00:00,  1.60it/s, Loss=1.9188, Acc=0.6875]\n"
     ]
    },
    {
     "name": "stdout",
     "output_type": "stream",
     "text": [
      "✅ Validation completed in 26.32s\n",
      "\n",
      "📊 Epoch 25 Summary:\n",
      "│ Train Loss: 0.0063 | Train Acc: 0.9973\n",
      "│ Val Loss:   1.9188 | Val Acc:   0.6875\n",
      "│ Train Time: 242.85s | Val Time: 26.32s\n",
      "│ Total Epoch Time: 269.17s\n",
      "│ Best Val Loss: 1.1233 (Epoch 1)\n",
      "│ GPU Memory: 1.3GB / 5.0GB\n",
      "================================================================================\n",
      "\n",
      "📈 Epoch 26/50\n",
      "--------------------------------------------------\n",
      "🔄 Training Phase...\n"
     ]
    },
    {
     "name": "stderr",
     "output_type": "stream",
     "text": [
      "Training: 100%|██████████████████████████████| 162/162 [04:02<00:00,  1.50s/it, Loss=0.0058, Acc=0.9971]\n"
     ]
    },
    {
     "name": "stdout",
     "output_type": "stream",
     "text": [
      "✅ Training completed in 242.58s\n",
      "🔍 Validation Phase...\n"
     ]
    },
    {
     "name": "stderr",
     "output_type": "stream",
     "text": [
      "Validation: 100%|██████████████████████████████| 42/42 [00:26<00:00,  1.58it/s, Loss=2.0326, Acc=0.6792]\n"
     ]
    },
    {
     "name": "stdout",
     "output_type": "stream",
     "text": [
      "✅ Validation completed in 26.59s\n",
      "\n",
      "📊 Epoch 26 Summary:\n",
      "│ Train Loss: 0.0058 | Train Acc: 0.9971\n",
      "│ Val Loss:   2.0326 | Val Acc:   0.6792\n",
      "│ Train Time: 242.58s | Val Time: 26.59s\n",
      "│ Total Epoch Time: 269.17s\n",
      "│ Best Val Loss: 1.1233 (Epoch 1)\n",
      "│ GPU Memory: 1.3GB / 5.0GB\n",
      "================================================================================\n",
      "\n",
      "📈 Epoch 27/50\n",
      "--------------------------------------------------\n",
      "🔄 Training Phase...\n"
     ]
    },
    {
     "name": "stderr",
     "output_type": "stream",
     "text": [
      "Training: 100%|██████████████████████████████| 162/162 [04:02<00:00,  1.50s/it, Loss=0.0070, Acc=0.9969]\n"
     ]
    },
    {
     "name": "stdout",
     "output_type": "stream",
     "text": [
      "✅ Training completed in 242.53s\n",
      "🔍 Validation Phase...\n"
     ]
    },
    {
     "name": "stderr",
     "output_type": "stream",
     "text": [
      "Validation: 100%|██████████████████████████████| 42/42 [00:26<00:00,  1.58it/s, Loss=1.9945, Acc=0.6792]\n"
     ]
    },
    {
     "name": "stdout",
     "output_type": "stream",
     "text": [
      "✅ Validation completed in 26.55s\n",
      "\n",
      "📊 Epoch 27 Summary:\n",
      "│ Train Loss: 0.0070 | Train Acc: 0.9969\n",
      "│ Val Loss:   1.9945 | Val Acc:   0.6792\n",
      "│ Train Time: 242.53s | Val Time: 26.55s\n",
      "│ Total Epoch Time: 269.08s\n",
      "│ Best Val Loss: 1.1233 (Epoch 1)\n",
      "│ GPU Memory: 1.3GB / 5.0GB\n",
      "================================================================================\n",
      "\n",
      "📈 Epoch 28/50\n",
      "--------------------------------------------------\n",
      "🔄 Training Phase...\n"
     ]
    },
    {
     "name": "stderr",
     "output_type": "stream",
     "text": [
      "Training: 100%|██████████████████████████████| 162/162 [04:02<00:00,  1.49s/it, Loss=0.0062, Acc=0.9971]\n"
     ]
    },
    {
     "name": "stdout",
     "output_type": "stream",
     "text": [
      "✅ Training completed in 242.18s\n",
      "🔍 Validation Phase...\n"
     ]
    },
    {
     "name": "stderr",
     "output_type": "stream",
     "text": [
      "Validation: 100%|██████████████████████████████| 42/42 [00:26<00:00,  1.60it/s, Loss=2.2143, Acc=0.6822]\n"
     ]
    },
    {
     "name": "stdout",
     "output_type": "stream",
     "text": [
      "✅ Validation completed in 26.22s\n",
      "\n",
      "📊 Epoch 28 Summary:\n",
      "│ Train Loss: 0.0062 | Train Acc: 0.9971\n",
      "│ Val Loss:   2.2143 | Val Acc:   0.6822\n",
      "│ Train Time: 242.18s | Val Time: 26.22s\n",
      "│ Total Epoch Time: 268.41s\n",
      "│ Best Val Loss: 1.1233 (Epoch 1)\n",
      "│ GPU Memory: 1.3GB / 5.0GB\n",
      "================================================================================\n",
      "\n",
      "📈 Epoch 29/50\n",
      "--------------------------------------------------\n",
      "🔄 Training Phase...\n"
     ]
    },
    {
     "name": "stderr",
     "output_type": "stream",
     "text": [
      "Training: 100%|██████████████████████████████| 162/162 [04:02<00:00,  1.50s/it, Loss=0.0061, Acc=0.9965]\n"
     ]
    },
    {
     "name": "stdout",
     "output_type": "stream",
     "text": [
      "✅ Training completed in 242.85s\n",
      "🔍 Validation Phase...\n"
     ]
    },
    {
     "name": "stderr",
     "output_type": "stream",
     "text": [
      "Validation: 100%|██████████████████████████████| 42/42 [00:26<00:00,  1.58it/s, Loss=2.1813, Acc=0.6883]\n"
     ]
    },
    {
     "name": "stdout",
     "output_type": "stream",
     "text": [
      "✅ Validation completed in 26.52s\n",
      "\n",
      "📊 Epoch 29 Summary:\n",
      "│ Train Loss: 0.0061 | Train Acc: 0.9965\n",
      "│ Val Loss:   2.1813 | Val Acc:   0.6883\n",
      "│ Train Time: 242.85s | Val Time: 26.52s\n",
      "│ Total Epoch Time: 269.37s\n",
      "│ Best Val Loss: 1.1233 (Epoch 1)\n",
      "│ GPU Memory: 1.3GB / 5.0GB\n",
      "================================================================================\n",
      "\n",
      "📈 Epoch 30/50\n",
      "--------------------------------------------------\n",
      "🔄 Training Phase...\n"
     ]
    },
    {
     "name": "stderr",
     "output_type": "stream",
     "text": [
      "Training: 100%|██████████████████████████████| 162/162 [04:02<00:00,  1.50s/it, Loss=0.0056, Acc=0.9973]\n"
     ]
    },
    {
     "name": "stdout",
     "output_type": "stream",
     "text": [
      "✅ Training completed in 242.48s\n",
      "🔍 Validation Phase...\n"
     ]
    },
    {
     "name": "stderr",
     "output_type": "stream",
     "text": [
      "Validation: 100%|██████████████████████████████| 42/42 [00:26<00:00,  1.61it/s, Loss=2.2503, Acc=0.6867]\n"
     ]
    },
    {
     "name": "stdout",
     "output_type": "stream",
     "text": [
      "✅ Validation completed in 26.03s\n",
      "\n",
      "📊 Epoch 30 Summary:\n",
      "│ Train Loss: 0.0056 | Train Acc: 0.9973\n",
      "│ Val Loss:   2.2503 | Val Acc:   0.6867\n",
      "│ Train Time: 242.48s | Val Time: 26.03s\n",
      "│ Total Epoch Time: 268.51s\n",
      "│ Best Val Loss: 1.1233 (Epoch 1)\n",
      "│ GPU Memory: 1.3GB / 5.0GB\n",
      "================================================================================\n",
      "\n",
      "📈 Epoch 31/50\n",
      "--------------------------------------------------\n",
      "🔄 Training Phase...\n"
     ]
    },
    {
     "name": "stderr",
     "output_type": "stream",
     "text": [
      "Training: 100%|██████████████████████████████| 162/162 [04:01<00:00,  1.49s/it, Loss=0.1521, Acc=0.9501]\n"
     ]
    },
    {
     "name": "stdout",
     "output_type": "stream",
     "text": [
      "✅ Training completed in 241.41s\n",
      "🔍 Validation Phase...\n"
     ]
    },
    {
     "name": "stderr",
     "output_type": "stream",
     "text": [
      "Validation: 100%|██████████████████████████████| 42/42 [00:26<00:00,  1.61it/s, Loss=1.7310, Acc=0.5881]\n"
     ]
    },
    {
     "name": "stdout",
     "output_type": "stream",
     "text": [
      "✅ Validation completed in 26.15s\n",
      "\n",
      "📊 Epoch 31 Summary:\n",
      "│ Train Loss: 0.1521 | Train Acc: 0.9501\n",
      "│ Val Loss:   1.7310 | Val Acc:   0.5881\n",
      "│ Train Time: 241.41s | Val Time: 26.15s\n",
      "│ Total Epoch Time: 267.56s\n",
      "│ Best Val Loss: 1.1233 (Epoch 1)\n",
      "│ GPU Memory: 1.3GB / 5.0GB\n",
      "================================================================================\n",
      "\n",
      "📈 Epoch 32/50\n",
      "--------------------------------------------------\n",
      "🔄 Training Phase...\n"
     ]
    },
    {
     "name": "stderr",
     "output_type": "stream",
     "text": [
      "Training: 100%|██████████████████████████████| 162/162 [04:02<00:00,  1.50s/it, Loss=0.0466, Acc=0.9812]\n"
     ]
    },
    {
     "name": "stdout",
     "output_type": "stream",
     "text": [
      "✅ Training completed in 242.47s\n",
      "🔍 Validation Phase...\n"
     ]
    },
    {
     "name": "stderr",
     "output_type": "stream",
     "text": [
      "Validation: 100%|██████████████████████████████| 42/42 [00:26<00:00,  1.60it/s, Loss=1.7245, Acc=0.6770]\n"
     ]
    },
    {
     "name": "stdout",
     "output_type": "stream",
     "text": [
      "✅ Validation completed in 26.19s\n",
      "\n",
      "📊 Epoch 32 Summary:\n",
      "│ Train Loss: 0.0466 | Train Acc: 0.9812\n",
      "│ Val Loss:   1.7245 | Val Acc:   0.6770\n",
      "│ Train Time: 242.47s | Val Time: 26.19s\n",
      "│ Total Epoch Time: 268.66s\n",
      "│ Best Val Loss: 1.1233 (Epoch 1)\n",
      "│ GPU Memory: 1.3GB / 5.0GB\n",
      "================================================================================\n",
      "\n",
      "📈 Epoch 33/50\n",
      "--------------------------------------------------\n",
      "🔄 Training Phase...\n"
     ]
    },
    {
     "name": "stderr",
     "output_type": "stream",
     "text": [
      "Training: 100%|██████████████████████████████| 162/162 [04:02<00:00,  1.50s/it, Loss=0.0146, Acc=0.9940]\n"
     ]
    },
    {
     "name": "stdout",
     "output_type": "stream",
     "text": [
      "✅ Training completed in 242.25s\n",
      "🔍 Validation Phase...\n"
     ]
    },
    {
     "name": "stderr",
     "output_type": "stream",
     "text": [
      "Validation: 100%|██████████████████████████████| 42/42 [00:26<00:00,  1.60it/s, Loss=2.0124, Acc=0.6355]\n"
     ]
    },
    {
     "name": "stdout",
     "output_type": "stream",
     "text": [
      "✅ Validation completed in 26.28s\n",
      "\n",
      "📊 Epoch 33 Summary:\n",
      "│ Train Loss: 0.0146 | Train Acc: 0.9940\n",
      "│ Val Loss:   2.0124 | Val Acc:   0.6355\n",
      "│ Train Time: 242.25s | Val Time: 26.28s\n",
      "│ Total Epoch Time: 268.53s\n",
      "│ Best Val Loss: 1.1233 (Epoch 1)\n",
      "│ GPU Memory: 1.3GB / 5.0GB\n",
      "================================================================================\n",
      "\n",
      "📈 Epoch 34/50\n",
      "--------------------------------------------------\n",
      "🔄 Training Phase...\n"
     ]
    },
    {
     "name": "stderr",
     "output_type": "stream",
     "text": [
      "Training: 100%|██████████████████████████████| 162/162 [04:01<00:00,  1.49s/it, Loss=0.0095, Acc=0.9955]\n"
     ]
    },
    {
     "name": "stdout",
     "output_type": "stream",
     "text": [
      "✅ Training completed in 241.97s\n",
      "🔍 Validation Phase...\n"
     ]
    },
    {
     "name": "stderr",
     "output_type": "stream",
     "text": [
      "Validation: 100%|██████████████████████████████| 42/42 [00:26<00:00,  1.59it/s, Loss=1.9482, Acc=0.6551]\n"
     ]
    },
    {
     "name": "stdout",
     "output_type": "stream",
     "text": [
      "✅ Validation completed in 26.45s\n",
      "\n",
      "📊 Epoch 34 Summary:\n",
      "│ Train Loss: 0.0095 | Train Acc: 0.9955\n",
      "│ Val Loss:   1.9482 | Val Acc:   0.6551\n",
      "│ Train Time: 241.97s | Val Time: 26.45s\n",
      "│ Total Epoch Time: 268.42s\n",
      "│ Best Val Loss: 1.1233 (Epoch 1)\n",
      "│ GPU Memory: 1.3GB / 5.0GB\n",
      "================================================================================\n",
      "\n",
      "📈 Epoch 35/50\n",
      "--------------------------------------------------\n",
      "🔄 Training Phase...\n"
     ]
    },
    {
     "name": "stderr",
     "output_type": "stream",
     "text": [
      "Training: 100%|██████████████████████████████| 162/162 [04:01<00:00,  1.49s/it, Loss=0.0150, Acc=0.9940]\n"
     ]
    },
    {
     "name": "stdout",
     "output_type": "stream",
     "text": [
      "✅ Training completed in 241.76s\n",
      "🔍 Validation Phase...\n"
     ]
    },
    {
     "name": "stderr",
     "output_type": "stream",
     "text": [
      "Validation: 100%|██████████████████████████████| 42/42 [00:26<00:00,  1.59it/s, Loss=2.0363, Acc=0.6491]\n"
     ]
    },
    {
     "name": "stdout",
     "output_type": "stream",
     "text": [
      "✅ Validation completed in 26.34s\n",
      "\n",
      "📊 Epoch 35 Summary:\n",
      "│ Train Loss: 0.0150 | Train Acc: 0.9940\n",
      "│ Val Loss:   2.0363 | Val Acc:   0.6491\n",
      "│ Train Time: 241.76s | Val Time: 26.34s\n",
      "│ Total Epoch Time: 268.11s\n",
      "│ Best Val Loss: 1.1233 (Epoch 1)\n",
      "│ GPU Memory: 1.3GB / 5.0GB\n",
      "================================================================================\n",
      "\n",
      "📈 Epoch 36/50\n",
      "--------------------------------------------------\n",
      "🔄 Training Phase...\n"
     ]
    },
    {
     "name": "stderr",
     "output_type": "stream",
     "text": [
      "Training: 100%|██████████████████████████████| 162/162 [04:01<00:00,  1.49s/it, Loss=0.0087, Acc=0.9952]\n"
     ]
    },
    {
     "name": "stdout",
     "output_type": "stream",
     "text": [
      "✅ Training completed in 241.64s\n",
      "🔍 Validation Phase...\n"
     ]
    },
    {
     "name": "stderr",
     "output_type": "stream",
     "text": [
      "Validation: 100%|██████████████████████████████| 42/42 [00:26<00:00,  1.60it/s, Loss=1.9811, Acc=0.6883]\n"
     ]
    },
    {
     "name": "stdout",
     "output_type": "stream",
     "text": [
      "✅ Validation completed in 26.23s\n",
      "\n",
      "📊 Epoch 36 Summary:\n",
      "│ Train Loss: 0.0087 | Train Acc: 0.9952\n",
      "│ Val Loss:   1.9811 | Val Acc:   0.6883\n",
      "│ Train Time: 241.64s | Val Time: 26.23s\n",
      "│ Total Epoch Time: 267.87s\n",
      "│ Best Val Loss: 1.1233 (Epoch 1)\n",
      "│ GPU Memory: 1.3GB / 5.0GB\n",
      "================================================================================\n",
      "\n",
      "📈 Epoch 37/50\n",
      "--------------------------------------------------\n",
      "🔄 Training Phase...\n"
     ]
    },
    {
     "name": "stderr",
     "output_type": "stream",
     "text": [
      "Training: 100%|██████████████████████████████| 162/162 [04:01<00:00,  1.49s/it, Loss=0.0053, Acc=0.9969]\n"
     ]
    },
    {
     "name": "stdout",
     "output_type": "stream",
     "text": [
      "✅ Training completed in 241.32s\n",
      "🔍 Validation Phase...\n"
     ]
    },
    {
     "name": "stderr",
     "output_type": "stream",
     "text": [
      "Validation: 100%|██████████████████████████████| 42/42 [00:26<00:00,  1.60it/s, Loss=2.0575, Acc=0.6724]\n"
     ]
    },
    {
     "name": "stdout",
     "output_type": "stream",
     "text": [
      "✅ Validation completed in 26.25s\n",
      "\n",
      "📊 Epoch 37 Summary:\n",
      "│ Train Loss: 0.0053 | Train Acc: 0.9969\n",
      "│ Val Loss:   2.0575 | Val Acc:   0.6724\n",
      "│ Train Time: 241.32s | Val Time: 26.25s\n",
      "│ Total Epoch Time: 267.57s\n",
      "│ Best Val Loss: 1.1233 (Epoch 1)\n",
      "│ GPU Memory: 1.3GB / 5.0GB\n",
      "================================================================================\n",
      "\n",
      "📈 Epoch 38/50\n",
      "--------------------------------------------------\n",
      "🔄 Training Phase...\n"
     ]
    },
    {
     "name": "stderr",
     "output_type": "stream",
     "text": [
      "Training: 100%|██████████████████████████████| 162/162 [04:01<00:00,  1.49s/it, Loss=0.0072, Acc=0.9957]\n"
     ]
    },
    {
     "name": "stdout",
     "output_type": "stream",
     "text": [
      "✅ Training completed in 241.54s\n",
      "🔍 Validation Phase...\n"
     ]
    },
    {
     "name": "stderr",
     "output_type": "stream",
     "text": [
      "Validation: 100%|██████████████████████████████| 42/42 [00:26<00:00,  1.61it/s, Loss=2.0470, Acc=0.6785]\n"
     ]
    },
    {
     "name": "stdout",
     "output_type": "stream",
     "text": [
      "✅ Validation completed in 26.13s\n",
      "\n",
      "📊 Epoch 38 Summary:\n",
      "│ Train Loss: 0.0072 | Train Acc: 0.9957\n",
      "│ Val Loss:   2.0470 | Val Acc:   0.6785\n",
      "│ Train Time: 241.54s | Val Time: 26.13s\n",
      "│ Total Epoch Time: 267.67s\n",
      "│ Best Val Loss: 1.1233 (Epoch 1)\n",
      "│ GPU Memory: 1.3GB / 5.0GB\n",
      "================================================================================\n",
      "\n",
      "📈 Epoch 39/50\n",
      "--------------------------------------------------\n",
      "🔄 Training Phase...\n"
     ]
    },
    {
     "name": "stderr",
     "output_type": "stream",
     "text": [
      "Training: 100%|██████████████████████████████| 162/162 [04:01<00:00,  1.49s/it, Loss=0.0073, Acc=0.9975]\n"
     ]
    },
    {
     "name": "stdout",
     "output_type": "stream",
     "text": [
      "✅ Training completed in 241.69s\n",
      "🔍 Validation Phase...\n"
     ]
    },
    {
     "name": "stderr",
     "output_type": "stream",
     "text": [
      "Validation: 100%|██████████████████████████████| 42/42 [00:26<00:00,  1.60it/s, Loss=1.9899, Acc=0.6822]\n"
     ]
    },
    {
     "name": "stdout",
     "output_type": "stream",
     "text": [
      "✅ Validation completed in 26.33s\n",
      "\n",
      "📊 Epoch 39 Summary:\n",
      "│ Train Loss: 0.0073 | Train Acc: 0.9975\n",
      "│ Val Loss:   1.9899 | Val Acc:   0.6822\n",
      "│ Train Time: 241.69s | Val Time: 26.33s\n",
      "│ Total Epoch Time: 268.02s\n",
      "│ Best Val Loss: 1.1233 (Epoch 1)\n",
      "│ GPU Memory: 1.3GB / 5.0GB\n",
      "================================================================================\n",
      "\n",
      "📈 Epoch 40/50\n",
      "--------------------------------------------------\n",
      "🔄 Training Phase...\n"
     ]
    },
    {
     "name": "stderr",
     "output_type": "stream",
     "text": [
      "Training: 100%|██████████████████████████████| 162/162 [04:01<00:00,  1.49s/it, Loss=0.0094, Acc=0.9952]\n"
     ]
    },
    {
     "name": "stdout",
     "output_type": "stream",
     "text": [
      "✅ Training completed in 241.11s\n",
      "🔍 Validation Phase...\n"
     ]
    },
    {
     "name": "stderr",
     "output_type": "stream",
     "text": [
      "Validation: 100%|██████████████████████████████| 42/42 [00:26<00:00,  1.61it/s, Loss=1.9802, Acc=0.6732]\n"
     ]
    },
    {
     "name": "stdout",
     "output_type": "stream",
     "text": [
      "✅ Validation completed in 26.11s\n",
      "\n",
      "📊 Epoch 40 Summary:\n",
      "│ Train Loss: 0.0094 | Train Acc: 0.9952\n",
      "│ Val Loss:   1.9802 | Val Acc:   0.6732\n",
      "│ Train Time: 241.11s | Val Time: 26.11s\n",
      "│ Total Epoch Time: 267.23s\n",
      "│ Best Val Loss: 1.1233 (Epoch 1)\n",
      "│ GPU Memory: 1.3GB / 5.0GB\n",
      "================================================================================\n",
      "\n",
      "📈 Epoch 41/50\n",
      "--------------------------------------------------\n",
      "🔄 Training Phase...\n"
     ]
    },
    {
     "name": "stderr",
     "output_type": "stream",
     "text": [
      "Training: 100%|██████████████████████████████| 162/162 [04:02<00:00,  1.50s/it, Loss=0.0066, Acc=0.9977]\n"
     ]
    },
    {
     "name": "stdout",
     "output_type": "stream",
     "text": [
      "✅ Training completed in 242.41s\n",
      "🔍 Validation Phase...\n"
     ]
    },
    {
     "name": "stderr",
     "output_type": "stream",
     "text": [
      "Validation: 100%|██████████████████████████████| 42/42 [00:26<00:00,  1.60it/s, Loss=2.0258, Acc=0.6845]\n"
     ]
    },
    {
     "name": "stdout",
     "output_type": "stream",
     "text": [
      "✅ Validation completed in 26.33s\n",
      "\n",
      "📊 Epoch 41 Summary:\n",
      "│ Train Loss: 0.0066 | Train Acc: 0.9977\n",
      "│ Val Loss:   2.0258 | Val Acc:   0.6845\n",
      "│ Train Time: 242.41s | Val Time: 26.33s\n",
      "│ Total Epoch Time: 268.75s\n",
      "│ Best Val Loss: 1.1233 (Epoch 1)\n",
      "│ GPU Memory: 1.3GB / 5.0GB\n",
      "================================================================================\n",
      "\n",
      "📈 Epoch 42/50\n",
      "--------------------------------------------------\n",
      "🔄 Training Phase...\n"
     ]
    },
    {
     "name": "stderr",
     "output_type": "stream",
     "text": [
      "Training: 100%|██████████████████████████████| 162/162 [04:02<00:00,  1.49s/it, Loss=0.0060, Acc=0.9969]\n"
     ]
    },
    {
     "name": "stdout",
     "output_type": "stream",
     "text": [
      "✅ Training completed in 242.15s\n",
      "🔍 Validation Phase...\n"
     ]
    },
    {
     "name": "stderr",
     "output_type": "stream",
     "text": [
      "Validation: 100%|██████████████████████████████| 42/42 [00:29<00:00,  1.43it/s, Loss=2.0279, Acc=0.6800]\n"
     ]
    },
    {
     "name": "stdout",
     "output_type": "stream",
     "text": [
      "✅ Validation completed in 29.41s\n",
      "\n",
      "📊 Epoch 42 Summary:\n",
      "│ Train Loss: 0.0060 | Train Acc: 0.9969\n",
      "│ Val Loss:   2.0279 | Val Acc:   0.6800\n",
      "│ Train Time: 242.15s | Val Time: 29.41s\n",
      "│ Total Epoch Time: 271.57s\n",
      "│ Best Val Loss: 1.1233 (Epoch 1)\n",
      "│ GPU Memory: 1.3GB / 5.0GB\n",
      "================================================================================\n",
      "\n",
      "📈 Epoch 43/50\n",
      "--------------------------------------------------\n",
      "🔄 Training Phase...\n"
     ]
    },
    {
     "name": "stderr",
     "output_type": "stream",
     "text": [
      "Training: 100%|██████████████████████████████| 162/162 [04:03<00:00,  1.50s/it, Loss=0.0058, Acc=0.9963]\n"
     ]
    },
    {
     "name": "stdout",
     "output_type": "stream",
     "text": [
      "✅ Training completed in 243.39s\n",
      "🔍 Validation Phase...\n"
     ]
    },
    {
     "name": "stderr",
     "output_type": "stream",
     "text": [
      "Validation: 100%|██████████████████████████████| 42/42 [00:26<00:00,  1.58it/s, Loss=2.0992, Acc=0.6762]\n"
     ]
    },
    {
     "name": "stdout",
     "output_type": "stream",
     "text": [
      "✅ Validation completed in 26.62s\n",
      "\n",
      "📊 Epoch 43 Summary:\n",
      "│ Train Loss: 0.0058 | Train Acc: 0.9963\n",
      "│ Val Loss:   2.0992 | Val Acc:   0.6762\n",
      "│ Train Time: 243.39s | Val Time: 26.62s\n",
      "│ Total Epoch Time: 270.02s\n",
      "│ Best Val Loss: 1.1233 (Epoch 1)\n",
      "│ GPU Memory: 1.3GB / 5.0GB\n",
      "================================================================================\n",
      "\n",
      "📈 Epoch 44/50\n",
      "--------------------------------------------------\n",
      "🔄 Training Phase...\n"
     ]
    },
    {
     "name": "stderr",
     "output_type": "stream",
     "text": [
      "Training: 100%|██████████████████████████████| 162/162 [04:01<00:00,  1.49s/it, Loss=0.0080, Acc=0.9971]\n"
     ]
    },
    {
     "name": "stdout",
     "output_type": "stream",
     "text": [
      "✅ Training completed in 241.95s\n",
      "🔍 Validation Phase...\n"
     ]
    },
    {
     "name": "stderr",
     "output_type": "stream",
     "text": [
      "Validation: 100%|██████████████████████████████| 42/42 [00:25<00:00,  1.62it/s, Loss=2.1533, Acc=0.6837]\n"
     ]
    },
    {
     "name": "stdout",
     "output_type": "stream",
     "text": [
      "✅ Validation completed in 25.99s\n",
      "\n",
      "📊 Epoch 44 Summary:\n",
      "│ Train Loss: 0.0080 | Train Acc: 0.9971\n",
      "│ Val Loss:   2.1533 | Val Acc:   0.6837\n",
      "│ Train Time: 241.95s | Val Time: 25.99s\n",
      "│ Total Epoch Time: 267.94s\n",
      "│ Best Val Loss: 1.1233 (Epoch 1)\n",
      "│ GPU Memory: 1.3GB / 5.0GB\n",
      "================================================================================\n",
      "\n",
      "📈 Epoch 45/50\n",
      "--------------------------------------------------\n",
      "🔄 Training Phase...\n"
     ]
    },
    {
     "name": "stderr",
     "output_type": "stream",
     "text": [
      "Training: 100%|██████████████████████████████| 162/162 [04:02<00:00,  1.50s/it, Loss=0.0051, Acc=0.9971]\n"
     ]
    },
    {
     "name": "stdout",
     "output_type": "stream",
     "text": [
      "✅ Training completed in 242.41s\n",
      "🔍 Validation Phase...\n"
     ]
    },
    {
     "name": "stderr",
     "output_type": "stream",
     "text": [
      "Validation: 100%|██████████████████████████████| 42/42 [00:26<00:00,  1.61it/s, Loss=2.2410, Acc=0.6747]\n"
     ]
    },
    {
     "name": "stdout",
     "output_type": "stream",
     "text": [
      "✅ Validation completed in 26.15s\n",
      "\n",
      "📊 Epoch 45 Summary:\n",
      "│ Train Loss: 0.0051 | Train Acc: 0.9971\n",
      "│ Val Loss:   2.2410 | Val Acc:   0.6747\n",
      "│ Train Time: 242.41s | Val Time: 26.15s\n",
      "│ Total Epoch Time: 268.56s\n",
      "│ Best Val Loss: 1.1233 (Epoch 1)\n",
      "│ GPU Memory: 1.3GB / 5.0GB\n",
      "================================================================================\n",
      "\n",
      "📈 Epoch 46/50\n",
      "--------------------------------------------------\n",
      "🔄 Training Phase...\n"
     ]
    },
    {
     "name": "stderr",
     "output_type": "stream",
     "text": [
      "Training: 100%|██████████████████████████████| 162/162 [04:02<00:00,  1.50s/it, Loss=0.0048, Acc=0.9971]\n"
     ]
    },
    {
     "name": "stdout",
     "output_type": "stream",
     "text": [
      "✅ Training completed in 242.36s\n",
      "🔍 Validation Phase...\n"
     ]
    },
    {
     "name": "stderr",
     "output_type": "stream",
     "text": [
      "Validation: 100%|██████████████████████████████| 42/42 [00:26<00:00,  1.58it/s, Loss=2.2954, Acc=0.6694]\n"
     ]
    },
    {
     "name": "stdout",
     "output_type": "stream",
     "text": [
      "✅ Validation completed in 26.59s\n",
      "\n",
      "📊 Epoch 46 Summary:\n",
      "│ Train Loss: 0.0048 | Train Acc: 0.9971\n",
      "│ Val Loss:   2.2954 | Val Acc:   0.6694\n",
      "│ Train Time: 242.36s | Val Time: 26.59s\n",
      "│ Total Epoch Time: 268.96s\n",
      "│ Best Val Loss: 1.1233 (Epoch 1)\n",
      "│ GPU Memory: 1.3GB / 5.0GB\n",
      "================================================================================\n",
      "\n",
      "📈 Epoch 47/50\n",
      "--------------------------------------------------\n",
      "🔄 Training Phase...\n"
     ]
    },
    {
     "name": "stderr",
     "output_type": "stream",
     "text": [
      "Training: 100%|██████████████████████████████| 162/162 [04:02<00:00,  1.49s/it, Loss=0.1672, Acc=0.9460]\n"
     ]
    },
    {
     "name": "stdout",
     "output_type": "stream",
     "text": [
      "✅ Training completed in 242.10s\n",
      "🔍 Validation Phase...\n"
     ]
    },
    {
     "name": "stderr",
     "output_type": "stream",
     "text": [
      "Validation: 100%|██████████████████████████████| 42/42 [00:26<00:00,  1.60it/s, Loss=1.6845, Acc=0.6242]\n"
     ]
    },
    {
     "name": "stdout",
     "output_type": "stream",
     "text": [
      "✅ Validation completed in 26.21s\n",
      "\n",
      "📊 Epoch 47 Summary:\n",
      "│ Train Loss: 0.1672 | Train Acc: 0.9460\n",
      "│ Val Loss:   1.6845 | Val Acc:   0.6242\n",
      "│ Train Time: 242.10s | Val Time: 26.21s\n",
      "│ Total Epoch Time: 268.31s\n",
      "│ Best Val Loss: 1.1233 (Epoch 1)\n",
      "│ GPU Memory: 1.3GB / 5.0GB\n",
      "================================================================================\n",
      "\n",
      "📈 Epoch 48/50\n",
      "--------------------------------------------------\n",
      "🔄 Training Phase...\n"
     ]
    },
    {
     "name": "stderr",
     "output_type": "stream",
     "text": [
      "Training: 100%|██████████████████████████████| 162/162 [04:03<00:00,  1.50s/it, Loss=0.0459, Acc=0.9822]\n"
     ]
    },
    {
     "name": "stdout",
     "output_type": "stream",
     "text": [
      "✅ Training completed in 243.12s\n",
      "🔍 Validation Phase...\n"
     ]
    },
    {
     "name": "stderr",
     "output_type": "stream",
     "text": [
      "Validation: 100%|██████████████████████████████| 42/42 [00:26<00:00,  1.60it/s, Loss=2.1678, Acc=0.5738]\n"
     ]
    },
    {
     "name": "stdout",
     "output_type": "stream",
     "text": [
      "✅ Validation completed in 26.32s\n",
      "\n",
      "📊 Epoch 48 Summary:\n",
      "│ Train Loss: 0.0459 | Train Acc: 0.9822\n",
      "│ Val Loss:   2.1678 | Val Acc:   0.5738\n",
      "│ Train Time: 243.12s | Val Time: 26.32s\n",
      "│ Total Epoch Time: 269.44s\n",
      "│ Best Val Loss: 1.1233 (Epoch 1)\n",
      "│ GPU Memory: 1.3GB / 5.0GB\n",
      "================================================================================\n",
      "\n",
      "📈 Epoch 49/50\n",
      "--------------------------------------------------\n",
      "🔄 Training Phase...\n"
     ]
    },
    {
     "name": "stderr",
     "output_type": "stream",
     "text": [
      "Training: 100%|██████████████████████████████| 162/162 [04:01<00:00,  1.49s/it, Loss=0.0397, Acc=0.9855]\n"
     ]
    },
    {
     "name": "stdout",
     "output_type": "stream",
     "text": [
      "✅ Training completed in 241.92s\n",
      "🔍 Validation Phase...\n"
     ]
    },
    {
     "name": "stderr",
     "output_type": "stream",
     "text": [
      "Validation: 100%|██████████████████████████████| 42/42 [00:26<00:00,  1.60it/s, Loss=1.7383, Acc=0.6446]\n"
     ]
    },
    {
     "name": "stdout",
     "output_type": "stream",
     "text": [
      "✅ Validation completed in 26.31s\n",
      "\n",
      "📊 Epoch 49 Summary:\n",
      "│ Train Loss: 0.0397 | Train Acc: 0.9855\n",
      "│ Val Loss:   1.7383 | Val Acc:   0.6446\n",
      "│ Train Time: 241.92s | Val Time: 26.31s\n",
      "│ Total Epoch Time: 268.23s\n",
      "│ Best Val Loss: 1.1233 (Epoch 1)\n",
      "│ GPU Memory: 1.3GB / 5.0GB\n",
      "================================================================================\n",
      "\n",
      "📈 Epoch 50/50\n",
      "--------------------------------------------------\n",
      "🔄 Training Phase...\n"
     ]
    },
    {
     "name": "stderr",
     "output_type": "stream",
     "text": [
      "Training: 100%|██████████████████████████████| 162/162 [04:02<00:00,  1.50s/it, Loss=0.0169, Acc=0.9936]\n"
     ]
    },
    {
     "name": "stdout",
     "output_type": "stream",
     "text": [
      "✅ Training completed in 242.34s\n",
      "🔍 Validation Phase...\n"
     ]
    },
    {
     "name": "stderr",
     "output_type": "stream",
     "text": [
      "Validation: 100%|██████████████████████████████| 42/42 [00:26<00:00,  1.59it/s, Loss=1.7003, Acc=0.6559]\n"
     ]
    },
    {
     "name": "stdout",
     "output_type": "stream",
     "text": [
      "✅ Validation completed in 26.36s\n",
      "\n",
      "📊 Epoch 50 Summary:\n",
      "│ Train Loss: 0.0169 | Train Acc: 0.9936\n",
      "│ Val Loss:   1.7003 | Val Acc:   0.6559\n",
      "│ Train Time: 242.34s | Val Time: 26.36s\n",
      "│ Total Epoch Time: 268.70s\n",
      "│ Best Val Loss: 1.1233 (Epoch 1)\n",
      "│ GPU Memory: 1.3GB / 5.0GB\n",
      "================================================================================\n",
      "\n",
      "💾 Best model saved as 'best_cricket_vit_filtered.pth'\n",
      "📊 Best model stats:\n",
      "│ Best Epoch: 1\n",
      "│ Best Val Loss: 1.1233\n",
      "│ Best Val Acc: 0.6709\n",
      "\n",
      "💾 Training history saved to 'cricket_vit_filtered_history_pretrained.csv'\n",
      "\n",
      "🎉 Vision Transformer Fine-tuning Complete!\n",
      "Total Training Time: 13455.67s (224.3 minutes)\n",
      "Average Epoch Time: 269.11s\n",
      "\n",
      "🧪 Loading Best Model for Testing...\n",
      "✅ Best model from epoch 1 loaded successfully!\n"
     ]
    },
    {
     "name": "stderr",
     "output_type": "stream",
     "text": [
      "Testing: 100%|██████████████████████████████| 52/52 [00:40<00:00,  1.28it/s]\n"
     ]
    },
    {
     "name": "stdout",
     "output_type": "stream",
     "text": [
      "✅ Testing completed in 40.49s\n",
      "\n",
      "📋 Classification Report:\n",
      "              precision    recall  f1-score   support\n",
      "\n",
      "         Cut       0.65      0.42      0.51       400\n",
      "       Drive       0.42      0.74      0.53       336\n",
      "    Leg Shot       0.75      0.57      0.65       136\n",
      "    PullShot       0.85      0.70      0.77       192\n",
      "       Scoop       0.67      0.69      0.68       360\n",
      "    Straight       0.58      0.49      0.53       144\n",
      "       Sweep       0.60      0.32      0.41        88\n",
      "\n",
      "    accuracy                           0.59      1656\n",
      "   macro avg       0.65      0.56      0.58      1656\n",
      "weighted avg       0.63      0.59      0.59      1656\n",
      "\n",
      "🎯 Test Accuracy: 0.5900\n",
      "\n",
      "📊 Cricket Classification Performance (Vision Transformer - Filtered Data):\n",
      "│ Best Validation Loss: 1.1233 (Epoch 1)\n",
      "│ Best Validation Acc:  0.6709 (Epoch 1)\n",
      "│ Final Test Accuracy:  0.5900\n",
      "│ Val-Test Gap:         0.0810\n",
      "│ Data Filtering: Excluded 'random_occlusion' folder\n",
      "\n",
      "💾 Files saved:\n",
      "│ best_cricket_vit_filtered.pth - Best model weights\n",
      "│ cricket_vit_filtered_history.csv - Training metrics\n"
     ]
    },
    {
     "data": {
      "image/png": "[encoded data removed]",
      "text/plain": [
       "<Figure size 1000x800 with 2 Axes>"
      ]
     },
     "metadata": {},
     "output_type": "display_data"
    },
    {
     "data": {
      "image/png": "[encoded data removed]",
      "text/plain": [
       "<Figure size 1500x500 with 3 Axes>"
      ]
     },
     "metadata": {},
     "output_type": "display_data"
    },
    {
     "name": "stdout",
     "output_type": "stream",
     "text": [
      "\n",
      "⏰ Final Timing Summary:\n",
      "│ Total Training: 13455.67s (224.3 min)\n",
      "│ Average per Epoch: 269.11s\n",
      "│ Testing Time: 40.49s\n",
      "│ Total Runtime: 13496.16s\n",
      "\n",
      "🔍 Vision Transformer + Filtered Data Benefits:\n",
      "│ Clean dataset: 'random_occlusion' folder excluded\n",
      "│ Self-attention: Global context understanding\n",
      "│ Patch-based: 16x16 patches processed as sequences\n",
      "│ Transformer architecture: State-of-the-art NLP applied to vision\n",
      "│ ImageNet-21k pretrained: High-quality feature representations\n",
      "│ Long-range dependencies: Better than CNNs for complex relationships\n"
     ]
    }
   ],
   "source": [
    "# -----------------------------\n",
    "# 3. Training Setup\n",
    "# -----------------------------\n",
    "criterion = nn.CrossEntropyLoss()\n",
    "optimizer = optim.Adam(model.parameters(), lr=1e-4)  # Lower LR for fine-tuning\n",
    "\n",
    "print(f\"\\n📋 Training Configuration:\")\n",
    "print(f\"│ Model: Vision Transformer ViT-B/16 (pretrained)\")\n",
    "print(f\"│ Optimizer: Adam (lr={optimizer.param_groups[0]['lr']})\")\n",
    "print(f\"│ Loss Function: CrossEntropyLoss\")\n",
    "print(f\"│ Batch Size: 32\")\n",
    "print(f\"│ Device: {device}\")\n",
    "print(f\"│ Data: Filtered (excluding '{ignore_folder}')\")\n",
    "\n",
    "# -----------------------------\n",
    "# 4. Training Loop with Model Saving\n",
    "# -----------------------------\n",
    "train_losses, val_losses = [], []\n",
    "train_accs, val_accs = [], []\n",
    "epoch_times = []\n",
    "epochs = 50\n",
    "\n",
    "# Initialize best model tracking (using val_loss for fine-tuning)\n",
    "best_val_loss = float('inf')\n",
    "best_model_state = None\n",
    "best_epoch = 0\n",
    "best_val_acc = 0.0\n",
    "\n",
    "print(f\"\\n🚀 Starting Vision Transformer Fine-tuning for {epochs} epochs...\")\n",
    "print(\"=\" * 80)\n",
    "total_start_time = time.time()\n",
    "\n",
    "for epoch in range(epochs):\n",
    "    epoch_start_time = time.time()\n",
    "    \n",
    "    print(f\"\\n📈 Epoch {epoch+1}/{epochs}\")\n",
    "    print(\"-\" * 50)\n",
    "    \n",
    "    # Training Phase\n",
    "    print(\"🔄 Training Phase...\")\n",
    "    model.train()\n",
    "    running_loss, correct, total = 0, 0, 0\n",
    "    \n",
    "    train_pbar = tqdm(train_loader, desc=\"Training\", \n",
    "                     bar_format='{l_bar}{bar:30}{r_bar}{bar:-30b}')\n",
    "    \n",
    "    train_phase_start = time.time()\n",
    "    \n",
    "    for batch_idx, (imgs, labels) in enumerate(train_pbar):\n",
    "        imgs, labels = imgs.to(device), labels.to(device)\n",
    "        \n",
    "        optimizer.zero_grad()\n",
    "        outputs = model(imgs)\n",
    "        loss = criterion(outputs, labels)\n",
    "        loss.backward()\n",
    "        optimizer.step()\n",
    "        \n",
    "        running_loss += loss.item()\n",
    "        _, preds = torch.max(outputs, 1)\n",
    "        correct += (preds == labels).sum().item()\n",
    "        total += labels.size(0)\n",
    "        \n",
    "        current_acc = correct / total\n",
    "        train_pbar.set_postfix({\n",
    "            'Loss': f'{running_loss/(batch_idx+1):.4f}',\n",
    "            'Acc': f'{current_acc:.4f}'\n",
    "        })\n",
    "        \n",
    "        if device.type == 'cuda' and batch_idx % 10 == 0:\n",
    "            gpu_memory = torch.cuda.memory_allocated() / 1024**3\n",
    "            train_pbar.set_postfix({\n",
    "                'Loss': f'{running_loss/(batch_idx+1):.4f}',\n",
    "                'Acc': f'{current_acc:.4f}',\n",
    "                'GPU': f'{gpu_memory:.1f}GB'\n",
    "            })\n",
    "    \n",
    "    train_phase_time = time.time() - train_phase_start\n",
    "    train_loss = running_loss / len(train_loader)\n",
    "    train_acc = correct / total\n",
    "    train_losses.append(train_loss)\n",
    "    train_accs.append(train_acc)\n",
    "    \n",
    "    print(f\"✅ Training completed in {train_phase_time:.2f}s\")\n",
    "    \n",
    "    # Validation Phase\n",
    "    print(\"🔍 Validation Phase...\")\n",
    "    model.eval()\n",
    "    running_loss, correct, total = 0, 0, 0\n",
    "    \n",
    "    val_phase_start = time.time()\n",
    "    val_pbar = tqdm(val_loader, desc=\"Validation\", \n",
    "                   bar_format='{l_bar}{bar:30}{r_bar}{bar:-30b}')\n",
    "    \n",
    "    with torch.no_grad():\n",
    "        for batch_idx, (imgs, labels) in enumerate(val_pbar):\n",
    "            imgs, labels = imgs.to(device), labels.to(device)\n",
    "            outputs = model(imgs)\n",
    "            loss = criterion(outputs, labels)\n",
    "            \n",
    "            running_loss += loss.item()\n",
    "            _, preds = torch.max(outputs, 1)\n",
    "            correct += (preds == labels).sum().item()\n",
    "            total += labels.size(0)\n",
    "            \n",
    "            current_acc = correct / total\n",
    "            val_pbar.set_postfix({\n",
    "                'Loss': f'{running_loss/(batch_idx+1):.4f}',\n",
    "                'Acc': f'{current_acc:.4f}'\n",
    "            })\n",
    "    \n",
    "    val_phase_time = time.time() - val_phase_start\n",
    "    val_loss = running_loss / len(val_loader)\n",
    "    val_acc = correct / total\n",
    "    val_losses.append(val_loss)\n",
    "    val_accs.append(val_acc)\n",
    "    \n",
    "    print(f\"✅ Validation completed in {val_phase_time:.2f}s\")\n",
    "    \n",
    "    # Check if this is the best model (using val_loss for fine-tuning)\n",
    "    is_best = val_loss < best_val_loss\n",
    "    if is_best:\n",
    "        best_val_loss = val_loss\n",
    "        best_val_acc = val_acc\n",
    "        best_epoch = epoch + 1\n",
    "        best_model_state = model.state_dict().copy()\n",
    "        print(f\"🌟 New best model found! Validation Loss: {val_loss:.4f}\")\n",
    "    \n",
    "    # Epoch Summary\n",
    "    epoch_time = time.time() - epoch_start_time\n",
    "    epoch_times.append(epoch_time)\n",
    "    \n",
    "    print(f\"\\n📊 Epoch {epoch+1} Summary:\")\n",
    "    print(f\"│ Train Loss: {train_loss:.4f} | Train Acc: {train_acc:.4f}\")\n",
    "    print(f\"│ Val Loss:   {val_loss:.4f} | Val Acc:   {val_acc:.4f}\")\n",
    "    print(f\"│ Train Time: {train_phase_time:.2f}s | Val Time: {val_phase_time:.2f}s\")\n",
    "    print(f\"│ Total Epoch Time: {epoch_time:.2f}s\")\n",
    "    print(f\"│ Best Val Loss: {best_val_loss:.4f} (Epoch {best_epoch})\")\n",
    "    \n",
    "    if device.type == 'cuda':\n",
    "        print(f\"│ GPU Memory: {torch.cuda.memory_allocated()/1024**3:.1f}GB / {torch.cuda.memory_reserved()/1024**3:.1f}GB\")\n",
    "    \n",
    "    print(\"=\" * 80)\n",
    "\n",
    "total_training_time = time.time() - total_start_time\n",
    "\n",
    "# Save the best model\n",
    "if best_model_state is not None:\n",
    "    torch.save(best_model_state, 'best_cricket_vit_filtered_pretrained.pth')\n",
    "    print(f\"\\n💾 Best model saved as 'best_cricket_vit_filtered.pth'\")\n",
    "    print(f\"📊 Best model stats:\")\n",
    "    print(f\"│ Best Epoch: {best_epoch}\")\n",
    "    print(f\"│ Best Val Loss: {best_val_loss:.4f}\")\n",
    "    print(f\"│ Best Val Acc: {best_val_acc:.4f}\")\n",
    "\n",
    "# Save training history\n",
    "history_data = {\n",
    "    'epoch': list(range(1, epochs+1)),\n",
    "    'train_loss': train_losses,\n",
    "    'val_loss': val_losses,\n",
    "    'train_acc': train_accs,\n",
    "    'val_acc': val_accs,\n",
    "    'epoch_time': epoch_times\n",
    "}\n",
    "\n",
    "history_df = pd.DataFrame(history_data)\n",
    "history_df.to_csv('cricket_vit_filtered_history_pretrained.csv', index=False)\n",
    "print(\"\\n💾 Training history saved to 'cricket_vit_filtered_history_pretrained.csv'\")\n",
    "\n",
    "print(f\"\\n🎉 Vision Transformer Fine-tuning Complete!\")\n",
    "print(f\"Total Training Time: {total_training_time:.2f}s ({total_training_time/60:.1f} minutes)\")\n",
    "print(f\"Average Epoch Time: {np.mean(epoch_times):.2f}s\")\n",
    "\n",
    "# -----------------------------\n",
    "# 5. Load Best Model and Test\n",
    "# -----------------------------\n",
    "print(f\"\\n🧪 Loading Best Model for Testing...\")\n",
    "if best_model_state is not None:\n",
    "    model.load_state_dict(best_model_state)\n",
    "    print(f\"✅ Best model from epoch {best_epoch} loaded successfully!\")\n",
    "\n",
    "test_start_time = time.time()\n",
    "y_true, y_pred = [], []\n",
    "model.eval()\n",
    "test_pbar = tqdm(test_loader, desc=\"Testing\", \n",
    "                bar_format='{l_bar}{bar:30}{r_bar}{bar:-30b}')\n",
    "\n",
    "with torch.no_grad():\n",
    "    for imgs, labels in test_pbar:\n",
    "        imgs, labels = imgs.to(device), labels.to(device)\n",
    "        outputs = model(imgs)\n",
    "        _, preds = torch.max(outputs, 1)\n",
    "        y_true.extend(labels.cpu().numpy())\n",
    "        y_pred.extend(preds.cpu().numpy())\n",
    "\n",
    "test_time = time.time() - test_start_time\n",
    "test_accuracy = accuracy_score(y_true, y_pred)\n",
    "\n",
    "print(f\"✅ Testing completed in {test_time:.2f}s\")\n",
    "print(\"\\n📋 Classification Report:\")\n",
    "print(classification_report(y_true, y_pred, target_names=classes))\n",
    "print(f\"🎯 Test Accuracy: {test_accuracy:.4f}\")\n",
    "\n",
    "# Performance Summary\n",
    "print(f\"\\n📊 Cricket Classification Performance (Vision Transformer - Filtered Data):\")\n",
    "print(f\"│ Best Validation Loss: {best_val_loss:.4f} (Epoch {best_epoch})\")\n",
    "print(f\"│ Best Validation Acc:  {best_val_acc:.4f} (Epoch {best_epoch})\")\n",
    "print(f\"│ Final Test Accuracy:  {test_accuracy:.4f}\")\n",
    "print(f\"│ Val-Test Gap:         {abs(best_val_acc - test_accuracy):.4f}\")\n",
    "print(f\"│ Data Filtering: Excluded '{ignore_folder}' folder\")\n",
    "\n",
    "print(f\"\\n💾 Files saved:\")\n",
    "print(f\"│ best_cricket_vit_filtered.pth - Best model weights\")\n",
    "print(f\"│ cricket_vit_filtered_history.csv - Training metrics\")\n",
    "\n",
    "# -----------------------------\n",
    "# 6. Visualizations\n",
    "# -----------------------------\n",
    "# Confusion Matrix\n",
    "cm = confusion_matrix(y_true, y_pred)\n",
    "plt.figure(figsize=(10, 8))\n",
    "sns.heatmap(cm, annot=True, fmt=\"d\", cmap=\"Blues\", \n",
    "            xticklabels=classes, yticklabels=classes)\n",
    "plt.xlabel(\"Predicted\")\n",
    "plt.ylabel(\"True\")\n",
    "plt.title(f\"Cricket Classification - Vision Transformer (Filtered Data) - Epoch {best_epoch}\")\n",
    "plt.tight_layout()\n",
    "plt.show()\n",
    "\n",
    "# Training Curves\n",
    "plt.figure(figsize=(15, 5))\n",
    "\n",
    "# Loss Plot\n",
    "plt.subplot(1, 3, 1)\n",
    "plt.plot(range(1, epochs+1), train_losses, 'b-', label=\"Train Loss\", marker='o', linewidth=2)\n",
    "plt.plot(range(1, epochs+1), val_losses, 'r-', label=\"Val Loss\", marker='s', linewidth=2)\n",
    "plt.axvline(x=best_epoch, color='green', linestyle='--', alpha=0.7, label=f'Best (Epoch {best_epoch})')\n",
    "plt.scatter([best_epoch], [best_val_loss], color='green', s=100, zorder=5)\n",
    "plt.legend()\n",
    "plt.title(\"Vision Transformer Loss over Epochs (Filtered)\")\n",
    "plt.xlabel(\"Epoch\")\n",
    "plt.ylabel(\"Loss\")\n",
    "plt.grid(True, alpha=0.3)\n",
    "\n",
    "# Accuracy Plot\n",
    "plt.subplot(1, 3, 2)\n",
    "plt.plot(range(1, epochs+1), train_accs, 'b-', label=\"Train Accuracy\", marker='o', linewidth=2)\n",
    "plt.plot(range(1, epochs+1), val_accs, 'r-', label=\"Val Accuracy\", marker='s', linewidth=2)\n",
    "plt.axvline(x=best_epoch, color='green', linestyle='--', alpha=0.7, label=f'Best (Epoch {best_epoch})')\n",
    "plt.scatter([best_epoch], [best_val_acc], color='green', s=100, zorder=5)\n",
    "plt.legend()\n",
    "plt.title(\"Vision Transformer Accuracy over Epochs (Filtered)\")\n",
    "plt.xlabel(\"Epoch\")\n",
    "plt.ylabel(\"Accuracy\")\n",
    "plt.grid(True, alpha=0.3)\n",
    "\n",
    "# Final Performance\n",
    "plt.subplot(1, 3, 3)\n",
    "metrics = ['Best Val Acc', 'Test Acc']\n",
    "values = [best_val_acc, test_accuracy]\n",
    "colors = ['orange', 'green']\n",
    "bars = plt.bar(metrics, values, color=colors, alpha=0.7)\n",
    "plt.title(\"Vision Transformer Final Performance (Filtered)\")\n",
    "plt.ylabel(\"Accuracy\")\n",
    "plt.ylim(0, 1)\n",
    "plt.grid(True, alpha=0.3)\n",
    "for bar, val in zip(bars, values):\n",
    "    plt.text(bar.get_x() + bar.get_width()/2, val + 0.01, \n",
    "             f'{val:.4f}', ha='center', va='bottom')\n",
    "\n",
    "plt.tight_layout()\n",
    "plt.show()\n",
    "\n",
    "# Final Summary\n",
    "print(f\"\\n⏰ Final Timing Summary:\")\n",
    "print(f\"│ Total Training: {total_training_time:.2f}s ({total_training_time/60:.1f} min)\")\n",
    "print(f\"│ Average per Epoch: {np.mean(epoch_times):.2f}s\")\n",
    "print(f\"│ Testing Time: {test_time:.2f}s\")\n",
    "print(f\"│ Total Runtime: {total_training_time + test_time:.2f}s\")\n",
    "\n",
    "# Model and Data Info\n",
    "print(f\"\\n🔍 Vision Transformer + Filtered Data Benefits:\")\n",
    "print(f\"│ Clean dataset: '{ignore_folder}' folder excluded\")\n",
    "print(f\"│ Self-attention: Global context understanding\")\n",
    "print(f\"│ Patch-based: 16x16 patches processed as sequences\")\n",
    "print(f\"│ Transformer architecture: State-of-the-art NLP applied to vision\")\n",
    "print(f\"│ ImageNet-21k pretrained: High-quality feature representations\")\n",
    "print(f\"│ Long-range dependencies: Better than CNNs for complex relationships\")"
   ]
  }
 ],
 "metadata": {
  "kaggle": {
   "accelerator": "nvidiaTeslaT4",
   "dataSources": [
    {
     "datasetId": 7735666,
     "sourceId": 12275446,
     "sourceType": "datasetVersion"
    }
   ],
   "dockerImageVersionId": 31090,
   "isGpuEnabled": true,
   "isInternetEnabled": true,
   "language": "python",
   "sourceType": "notebook"
  },
  "kernelspec": {
   "display_name": "Python 3",
   "language": "python",
   "name": "python3"
  },
  "language_info": {
   "codemirror_mode": {
    "name": "ipython",
    "version": 3
   },
   "file_extension": ".py",
   "mimetype": "text/x-python",
   "name": "python",
   "nbconvert_exporter": "python",
   "pygments_lexer": "ipython3",
   "version": "3.11.13"
  },
  "papermill": {
   "default_parameters": {},
   "duration": 13531.035148,
   "end_time": "2025-09-09T08:34:21.025642",
   "environment_variables": {},
   "exception": null,
   "input_path": "__notebook__.ipynb",
   "output_path": "__notebook__.ipynb",
   "parameters": {},
   "start_time": "2025-09-09T04:48:49.990494",
   "version": "2.6.0"
  }
 },
 "nbformat": 4,
 "nbformat_minor": 5
}
