{
 "cells": [
  {
   "cell_type": "code",
   "execution_count": 1,
   "id": "8ba7412b",
   "metadata": {
    "_cell_guid": "b1076dfc-b9ad-4769-8c92-a6c4dae69d19",
    "_uuid": "8f2839f25d086af736a60e9eeb907d3b93b6e0e5",
    "execution": {
     "iopub.execute_input": "2025-09-09T03:46:18.196421Z",
     "iopub.status.busy": "2025-09-09T03:46:18.195811Z",
     "iopub.status.idle": "2025-09-09T03:46:35.794390Z",
     "shell.execute_reply": "2025-09-09T03:46:35.793614Z"
    },
    "papermill": {
     "duration": 17.604017,
     "end_time": "2025-09-09T03:46:35.795735",
     "exception": false,
     "start_time": "2025-09-09T03:46:18.191718",
     "status": "completed"
    },
    "tags": []
   },
   "outputs": [
    {
     "name": "stdout",
     "output_type": "stream",
     "text": [
      "Classes: ['Cut', 'Drive', 'Leg Shot', 'PullShot', 'Scoop', 'Straight', 'Sweep']\n"
     ]
    }
   ],
   "source": [
    "import torch\n",
    "import torch.nn as nn\n",
    "import torch.nn.functional as F\n",
    "from torch.utils.data import DataLoader\n",
    "from torchvision import datasets, transforms\n",
    "from torchsummary import summary\n",
    "import matplotlib.pyplot as plt\n",
    "from sklearn.metrics import classification_report, confusion_matrix, accuracy_score\n",
    "import seaborn as sns\n",
    "import numpy as np\n",
    "\n",
    "# -----------------------------\n",
    "# 1. Data Preprocessing\n",
    "# -----------------------------\n",
    "data_dir = \"/kaggle/input/ju-cricket/Cricket_Dataset_final/Task_B\"\n",
    "\n",
    "transform = transforms.Compose([\n",
    "    transforms.Resize((224, 224)),\n",
    "    transforms.ToTensor(),\n",
    "    transforms.Normalize([0.485, 0.456, 0.406], \n",
    "                         [0.229, 0.224, 0.225])\n",
    "])\n",
    "\n",
    "train_ds = datasets.ImageFolder(f\"{data_dir}/train/Batting\", transform=transform)\n",
    "val_ds   = datasets.ImageFolder(f\"{data_dir}/val/Batting\", transform=transform)\n",
    "test_ds  = datasets.ImageFolder(f\"{data_dir}/test/Batting\", transform=transform)\n",
    "\n",
    "train_loader = DataLoader(train_ds, batch_size=32, shuffle=True)\n",
    "val_loader   = DataLoader(val_ds, batch_size=32, shuffle=False)\n",
    "test_loader  = DataLoader(test_ds, batch_size=32, shuffle=False)\n",
    "\n",
    "classes = train_ds.classes\n",
    "print(\"Classes:\", classes)"
   ]
  },
  {
   "cell_type": "code",
   "execution_count": 2,
   "id": "ca165799",
   "metadata": {
    "execution": {
     "iopub.execute_input": "2025-09-09T03:46:35.801943Z",
     "iopub.status.busy": "2025-09-09T03:46:35.801626Z",
     "iopub.status.idle": "2025-09-09T03:46:35.806144Z",
     "shell.execute_reply": "2025-09-09T03:46:35.805442Z"
    },
    "papermill": {
     "duration": 0.008641,
     "end_time": "2025-09-09T03:46:35.807213",
     "exception": false,
     "start_time": "2025-09-09T03:46:35.798572",
     "status": "completed"
    },
    "tags": []
   },
   "outputs": [
    {
     "name": "stdout",
     "output_type": "stream",
     "text": [
      "Total training images: 5814\n",
      "Total validation images: 1494\n",
      "Total test images: 1863\n",
      "Total images in dataset: 9171\n"
     ]
    }
   ],
   "source": [
    "print(\"Total training images:\", len(train_ds))\n",
    "print(\"Total validation images:\", len(val_ds))\n",
    "print(\"Total test images:\", len(test_ds))\n",
    "\n",
    "total_images = len(train_ds) + len(val_ds) + len(test_ds)\n",
    "print(\"Total images in dataset:\", total_images)"
   ]
  },
  {
   "cell_type": "code",
   "execution_count": 3,
   "id": "194ccc08",
   "metadata": {
    "execution": {
     "iopub.execute_input": "2025-09-09T03:46:35.812900Z",
     "iopub.status.busy": "2025-09-09T03:46:35.812704Z",
     "iopub.status.idle": "2025-09-09T03:46:35.823083Z",
     "shell.execute_reply": "2025-09-09T03:46:35.822462Z"
    },
    "papermill": {
     "duration": 0.014453,
     "end_time": "2025-09-09T03:46:35.824132",
     "exception": false,
     "start_time": "2025-09-09T03:46:35.809679",
     "status": "completed"
    },
    "tags": []
   },
   "outputs": [
    {
     "name": "stdout",
     "output_type": "stream",
     "text": [
      "Training images (excluding 'random_occlusion'): 5168\n",
      "Validation images (excluding 'random_occlusion'): 1328\n",
      "Test images (excluding 'random_occlusion'): 1656\n",
      "Total images (excluding 'random_occlusion'): 8152\n"
     ]
    }
   ],
   "source": [
    "ignore_folder = \"random_occlusion\"\n",
    "\n",
    "def count_images_ignore_folder(dataset, ignore_folder):\n",
    "    count = 0\n",
    "    for img_path, label in dataset.samples:\n",
    "        # Skip if the image path contains the ignore_folder\n",
    "        if ignore_folder not in img_path.split(\"/\"):\n",
    "            count += 1\n",
    "    return count\n",
    "\n",
    "train_count = count_images_ignore_folder(train_ds, ignore_folder)\n",
    "val_count   = count_images_ignore_folder(val_ds, ignore_folder)\n",
    "test_count  = count_images_ignore_folder(test_ds, ignore_folder)\n",
    "\n",
    "total_count = train_count + val_count + test_count\n",
    "\n",
    "print(\"Training images (excluding '{}'): {}\".format(ignore_folder, train_count))\n",
    "print(\"Validation images (excluding '{}'): {}\".format(ignore_folder, val_count))\n",
    "print(\"Test images (excluding '{}'): {}\".format(ignore_folder, test_count))\n",
    "print(\"Total images (excluding '{}'): {}\".format(ignore_folder, total_count))"
   ]
  },
  {
   "cell_type": "code",
   "execution_count": 4,
   "id": "026343a6",
   "metadata": {
    "execution": {
     "iopub.execute_input": "2025-09-09T03:46:35.830298Z",
     "iopub.status.busy": "2025-09-09T03:46:35.829600Z",
     "iopub.status.idle": "2025-09-09T03:46:35.843884Z",
     "shell.execute_reply": "2025-09-09T03:46:35.843122Z"
    },
    "papermill": {
     "duration": 0.018415,
     "end_time": "2025-09-09T03:46:35.845012",
     "exception": false,
     "start_time": "2025-09-09T03:46:35.826597",
     "status": "completed"
    },
    "tags": []
   },
   "outputs": [
    {
     "name": "stdout",
     "output_type": "stream",
     "text": [
      "Training folders considered: {'lens_flare', 'dirty_lens', 'low_resolution', 'motion_blur', 'gaussian_noise', 'random_occlusion', 'chromatic_aberration', 'original', 'blur'}\n",
      "Validation folders considered: {'lens_flare', 'dirty_lens', 'low_resolution', 'motion_blur', 'gaussian_noise', 'random_occlusion', 'chromatic_aberration', 'original', 'blur'}\n",
      "Test folders considered: {'lens_flare', 'dirty_lens', 'low_resolution', 'motion_blur', 'gaussian_noise', 'random_occlusion', 'chromatic_aberration', 'original', 'blur'}\n"
     ]
    }
   ],
   "source": [
    "ignore_folder = \"random_occlusionw\"\n",
    "\n",
    "def get_included_folders(dataset, ignore_folder):\n",
    "    included = set()\n",
    "    for img_path, label in dataset.samples:\n",
    "        # Split the path into parts and ignore if ignore_folder is in the path\n",
    "        if ignore_folder not in img_path.split(\"/\"):\n",
    "            # The folder name just above the image (or the class folder)\n",
    "            folder_name = img_path.split(\"/\")[-2]\n",
    "            included.add(folder_name)\n",
    "    return included\n",
    "\n",
    "train_folders = get_included_folders(train_ds, ignore_folder)\n",
    "val_folders   = get_included_folders(val_ds, ignore_folder)\n",
    "test_folders  = get_included_folders(test_ds, ignore_folder)\n",
    "\n",
    "print(\"Training folders considered:\", train_folders)\n",
    "print(\"Validation folders considered:\", val_folders)\n",
    "print(\"Test folders considered:\", test_folders)"
   ]
  },
  {
   "cell_type": "code",
   "execution_count": 5,
   "id": "bd07b7fe",
   "metadata": {
    "execution": {
     "iopub.execute_input": "2025-09-09T03:46:35.850754Z",
     "iopub.status.busy": "2025-09-09T03:46:35.850526Z",
     "iopub.status.idle": "2025-09-09T03:46:36.075512Z",
     "shell.execute_reply": "2025-09-09T03:46:36.074661Z"
    },
    "papermill": {
     "duration": 0.229184,
     "end_time": "2025-09-09T03:46:36.076694",
     "exception": false,
     "start_time": "2025-09-09T03:46:35.847510",
     "status": "completed"
    },
    "tags": []
   },
   "outputs": [
    {
     "name": "stdout",
     "output_type": "stream",
     "text": [
      "Classes: ['Cut', 'Drive', 'Leg Shot', 'PullShot', 'Scoop', 'Straight', 'Sweep']\n",
      "Final Training images: 5168\n",
      "Final Validation images: 1328\n",
      "Final Test images: 1656\n",
      "Total images after filtering: 8152\n"
     ]
    }
   ],
   "source": [
    "ignore_folder = \"random_occlusion\"\n",
    "\n",
    "def filter_samples(dataset, ignore_folder):\n",
    "    # Keep only samples where ignore_folder is NOT in the path\n",
    "    filtered_samples = [s for s in dataset.samples if ignore_folder not in s[0].split(\"/\")]\n",
    "    dataset.samples = filtered_samples\n",
    "    dataset.targets = [s[1] for s in filtered_samples]  # Update targets accordingly\n",
    "    return dataset\n",
    "\n",
    "# Create original datasets\n",
    "train_ds = datasets.ImageFolder(f\"{data_dir}/train/Batting\", transform=transform)\n",
    "val_ds   = datasets.ImageFolder(f\"{data_dir}/val/Batting\", transform=transform)\n",
    "test_ds  = datasets.ImageFolder(f\"{data_dir}/test/Batting\", transform=transform)\n",
    "\n",
    "# Filter out 'random_occlusion' folder\n",
    "train_ds = filter_samples(train_ds, ignore_folder)\n",
    "val_ds   = filter_samples(val_ds, ignore_folder)\n",
    "test_ds  = filter_samples(test_ds, ignore_folder)\n",
    "\n",
    "# DataLoaders\n",
    "train_loader = DataLoader(train_ds, batch_size=32, shuffle=True)\n",
    "val_loader   = DataLoader(val_ds, batch_size=32, shuffle=False)\n",
    "test_loader  = DataLoader(test_ds, batch_size=32, shuffle=False)\n",
    "\n",
    "# Classes (will remain the same)\n",
    "classes = train_ds.classes\n",
    "print(\"Classes:\", classes)\n",
    "\n",
    "# Show counts\n",
    "print(\"Final Training images:\", len(train_ds))\n",
    "print(\"Final Validation images:\", len(val_ds))\n",
    "print(\"Final Test images:\", len(test_ds))\n",
    "print(\"Total images after filtering:\", len(train_ds) + len(val_ds) + len(test_ds))"
   ]
  },
  {
   "cell_type": "code",
   "execution_count": 6,
   "id": "f794fd33",
   "metadata": {
    "execution": {
     "iopub.execute_input": "2025-09-09T03:46:36.084345Z",
     "iopub.status.busy": "2025-09-09T03:46:36.083638Z",
     "iopub.status.idle": "2025-09-09T03:46:36.096516Z",
     "shell.execute_reply": "2025-09-09T03:46:36.095881Z"
    },
    "papermill": {
     "duration": 0.017002,
     "end_time": "2025-09-09T03:46:36.097480",
     "exception": false,
     "start_time": "2025-09-09T03:46:36.080478",
     "status": "completed"
    },
    "tags": []
   },
   "outputs": [
    {
     "name": "stdout",
     "output_type": "stream",
     "text": [
      "Training folders considered: {'lens_flare', 'dirty_lens', 'low_resolution', 'motion_blur', 'gaussian_noise', 'chromatic_aberration', 'original', 'blur'}\n",
      "Validation folders considered: {'lens_flare', 'dirty_lens', 'low_resolution', 'motion_blur', 'gaussian_noise', 'chromatic_aberration', 'original', 'blur'}\n",
      "Test folders considered: {'lens_flare', 'dirty_lens', 'low_resolution', 'motion_blur', 'gaussian_noise', 'chromatic_aberration', 'original', 'blur'}\n"
     ]
    }
   ],
   "source": [
    "ignore_folder = \"random_occlusion\"\n",
    "\n",
    "def get_included_folders(dataset, ignore_folder):\n",
    "    included = set()\n",
    "    for img_path, label in dataset.samples:\n",
    "        # Split the path into parts and ignore if ignore_folder is in the path\n",
    "        if ignore_folder not in img_path.split(\"/\"):\n",
    "            # The folder name just above the image (or the class folder)\n",
    "            folder_name = img_path.split(\"/\")[-2]\n",
    "            included.add(folder_name)\n",
    "    return included\n",
    "\n",
    "train_folders = get_included_folders(train_ds, ignore_folder)\n",
    "val_folders   = get_included_folders(val_ds, ignore_folder)\n",
    "test_folders  = get_included_folders(test_ds, ignore_folder)\n",
    "\n",
    "print(\"Training folders considered:\", train_folders)\n",
    "print(\"Validation folders considered:\", val_folders)\n",
    "print(\"Test folders considered:\", test_folders)"
   ]
  },
  {
   "cell_type": "code",
   "execution_count": 7,
   "id": "7af850ad",
   "metadata": {
    "execution": {
     "iopub.execute_input": "2025-09-09T03:46:36.103712Z",
     "iopub.status.busy": "2025-09-09T03:46:36.103507Z",
     "iopub.status.idle": "2025-09-09T03:46:36.121348Z",
     "shell.execute_reply": "2025-09-09T03:46:36.120773Z"
    },
    "papermill": {
     "duration": 0.022366,
     "end_time": "2025-09-09T03:46:36.122379",
     "exception": false,
     "start_time": "2025-09-09T03:46:36.100013",
     "status": "completed"
    },
    "tags": []
   },
   "outputs": [],
   "source": [
    "# -----------------------------\n",
    "# 2. Define Vision Transformer (ViT) Model from Scratch\n",
    "# -----------------------------\n",
    "import torch\n",
    "import torch.nn as nn\n",
    "import torch.nn.functional as F\n",
    "import numpy as np\n",
    "import matplotlib.pyplot as plt\n",
    "import seaborn as sns\n",
    "from torchsummary import summary\n",
    "from sklearn.metrics import accuracy_score, classification_report, confusion_matrix\n",
    "import pandas as pd\n",
    "from tqdm import tqdm\n",
    "import time\n",
    "import math\n",
    "\n",
    "class PatchEmbedding(nn.Module):\n",
    "    \"\"\"Patch Embedding Layer - Convert image to patches and embed them\"\"\"\n",
    "    def __init__(self, img_size=224, patch_size=16, in_channels=3, embed_dim=768):\n",
    "        super().__init__()\n",
    "        self.img_size = img_size\n",
    "        self.patch_size = patch_size\n",
    "        self.n_patches = (img_size // patch_size) ** 2\n",
    "        \n",
    "        # Use Conv2d to create patch embeddings\n",
    "        self.proj = nn.Conv2d(in_channels, embed_dim, kernel_size=patch_size, stride=patch_size)\n",
    "        \n",
    "    def forward(self, x):\n",
    "        # x shape: (B, C, H, W)\n",
    "        x = self.proj(x)  # (B, embed_dim, H', W') where H' = H/patch_size, W' = W/patch_size\n",
    "        x = x.flatten(2)  # (B, embed_dim, n_patches)\n",
    "        x = x.transpose(1, 2)  # (B, n_patches, embed_dim)\n",
    "        return x\n",
    "\n",
    "class MultiHeadAttention(nn.Module):\n",
    "    \"\"\"Multi-Head Self-Attention mechanism\"\"\"\n",
    "    def __init__(self, embed_dim=768, n_heads=12, dropout=0.1):\n",
    "        super().__init__()\n",
    "        self.embed_dim = embed_dim\n",
    "        self.n_heads = n_heads\n",
    "        self.head_dim = embed_dim // n_heads\n",
    "        assert self.head_dim * n_heads == embed_dim, \"embed_dim must be divisible by n_heads\"\n",
    "        \n",
    "        self.qkv = nn.Linear(embed_dim, embed_dim * 3)\n",
    "        self.proj = nn.Linear(embed_dim, embed_dim)\n",
    "        self.dropout = nn.Dropout(dropout)\n",
    "        \n",
    "    def forward(self, x):\n",
    "        B, N, C = x.shape\n",
    "        \n",
    "        # Generate Q, K, V\n",
    "        qkv = self.qkv(x).reshape(B, N, 3, self.n_heads, self.head_dim).permute(2, 0, 3, 1, 4)\n",
    "        q, k, v = qkv[0], qkv[1], qkv[2]  # (B, n_heads, N, head_dim)\n",
    "        \n",
    "        # Attention\n",
    "        attn = (q @ k.transpose(-2, -1)) * (self.head_dim ** -0.5)\n",
    "        attn = F.softmax(attn, dim=-1)\n",
    "        attn = self.dropout(attn)\n",
    "        \n",
    "        # Apply attention to values\n",
    "        x = (attn @ v).transpose(1, 2).reshape(B, N, C)\n",
    "        x = self.proj(x)\n",
    "        x = self.dropout(x)\n",
    "        \n",
    "        return x\n",
    "\n",
    "class MLP(nn.Module):\n",
    "    \"\"\"Multi-Layer Perceptron (Feed-Forward Network)\"\"\"\n",
    "    def __init__(self, in_features, hidden_features=None, out_features=None, dropout=0.1):\n",
    "        super().__init__()\n",
    "        out_features = out_features or in_features\n",
    "        hidden_features = hidden_features or in_features\n",
    "        \n",
    "        self.fc1 = nn.Linear(in_features, hidden_features)\n",
    "        self.act = nn.GELU()\n",
    "        self.fc2 = nn.Linear(hidden_features, out_features)\n",
    "        self.dropout = nn.Dropout(dropout)\n",
    "        \n",
    "    def forward(self, x):\n",
    "        x = self.fc1(x)\n",
    "        x = self.act(x)\n",
    "        x = self.dropout(x)\n",
    "        x = self.fc2(x)\n",
    "        x = self.dropout(x)\n",
    "        return x\n",
    "\n",
    "class TransformerBlock(nn.Module):\n",
    "    \"\"\"Transformer Encoder Block\"\"\"\n",
    "    def __init__(self, embed_dim=768, n_heads=12, mlp_ratio=4.0, dropout=0.1):\n",
    "        super().__init__()\n",
    "        self.norm1 = nn.LayerNorm(embed_dim)\n",
    "        self.attn = MultiHeadAttention(embed_dim, n_heads, dropout)\n",
    "        self.norm2 = nn.LayerNorm(embed_dim)\n",
    "        mlp_hidden_dim = int(embed_dim * mlp_ratio)\n",
    "        self.mlp = MLP(embed_dim, mlp_hidden_dim, dropout=dropout)\n",
    "        \n",
    "    def forward(self, x):\n",
    "        # Pre-norm architecture (Layer Norm before attention and MLP)\n",
    "        x = x + self.attn(self.norm1(x))\n",
    "        x = x + self.mlp(self.norm2(x))\n",
    "        return x\n",
    "\n",
    "class MyVisionTransformer(nn.Module):\n",
    "    \"\"\"Vision Transformer (ViT) Implementation from Scratch\"\"\"\n",
    "    def __init__(self, img_size=224, patch_size=16, in_channels=3, num_classes=4, \n",
    "                 embed_dim=768, depth=12, n_heads=12, mlp_ratio=4.0, dropout=0.1, \n",
    "                 emb_dropout=0.1):\n",
    "        super().__init__()\n",
    "        self.num_classes = num_classes\n",
    "        self.num_tokens = 1  # CLS token\n",
    "        self.embed_dim = embed_dim\n",
    "        \n",
    "        # Patch embedding\n",
    "        self.patch_embed = PatchEmbedding(img_size, patch_size, in_channels, embed_dim)\n",
    "        num_patches = self.patch_embed.n_patches\n",
    "        \n",
    "        # CLS token and positional embeddings\n",
    "        self.cls_token = nn.Parameter(torch.zeros(1, 1, embed_dim))\n",
    "        self.pos_embed = nn.Parameter(torch.zeros(1, num_patches + self.num_tokens, embed_dim))\n",
    "        self.pos_drop = nn.Dropout(emb_dropout)\n",
    "        \n",
    "        # Transformer blocks\n",
    "        self.blocks = nn.ModuleList([\n",
    "            TransformerBlock(embed_dim, n_heads, mlp_ratio, dropout)\n",
    "            for _ in range(depth)\n",
    "        ])\n",
    "        \n",
    "        # Classification head\n",
    "        self.norm = nn.LayerNorm(embed_dim)\n",
    "        self.head = nn.Linear(embed_dim, num_classes) if num_classes > 0 else nn.Identity()\n",
    "        \n",
    "        # Initialize weights\n",
    "        self._init_weights()\n",
    "        \n",
    "    def _init_weights(self):\n",
    "        \"\"\"Initialize weights\"\"\"\n",
    "        # Initialize positional embeddings\n",
    "        nn.init.trunc_normal_(self.pos_embed, std=0.02)\n",
    "        nn.init.trunc_normal_(self.cls_token, std=0.02)\n",
    "        \n",
    "        # Initialize other weights\n",
    "        for m in self.modules():\n",
    "            if isinstance(m, nn.Linear):\n",
    "                nn.init.trunc_normal_(m.weight, std=0.02)\n",
    "                if m.bias is not None:\n",
    "                    nn.init.constant_(m.bias, 0)\n",
    "            elif isinstance(m, nn.LayerNorm):\n",
    "                nn.init.constant_(m.bias, 0)\n",
    "                nn.init.constant_(m.weight, 1.0)\n",
    "            elif isinstance(m, nn.Conv2d):\n",
    "                nn.init.trunc_normal_(m.weight, std=0.02)\n",
    "                if m.bias is not None:\n",
    "                    nn.init.constant_(m.bias, 0)\n",
    "                    \n",
    "    def forward(self, x):\n",
    "        B = x.shape[0]\n",
    "        \n",
    "        # Create patch embeddings\n",
    "        x = self.patch_embed(x)  # (B, n_patches, embed_dim)\n",
    "        \n",
    "        # Add CLS token\n",
    "        cls_tokens = self.cls_token.expand(B, -1, -1)  # (B, 1, embed_dim)\n",
    "        x = torch.cat((cls_tokens, x), dim=1)  # (B, n_patches + 1, embed_dim)\n",
    "        \n",
    "        # Add positional embeddings\n",
    "        x = x + self.pos_embed\n",
    "        x = self.pos_drop(x)\n",
    "        \n",
    "        # Pass through transformer blocks\n",
    "        for block in self.blocks:\n",
    "            x = block(x)\n",
    "        \n",
    "        # Final layer norm and classification\n",
    "        x = self.norm(x)\n",
    "        \n",
    "        # Use CLS token for classification\n",
    "        cls_token_final = x[:, 0]  # (B, embed_dim)\n",
    "        x = self.head(cls_token_final)  # (B, num_classes)\n",
    "        \n",
    "        return x"
   ]
  },
  {
   "cell_type": "code",
   "execution_count": 8,
   "id": "c30dd83d",
   "metadata": {
    "execution": {
     "iopub.execute_input": "2025-09-09T03:46:36.128340Z",
     "iopub.status.busy": "2025-09-09T03:46:36.127874Z",
     "iopub.status.idle": "2025-09-09T03:46:38.610786Z",
     "shell.execute_reply": "2025-09-09T03:46:38.610131Z"
    },
    "papermill": {
     "duration": 2.487714,
     "end_time": "2025-09-09T03:46:38.612585",
     "exception": false,
     "start_time": "2025-09-09T03:46:36.124871",
     "status": "completed"
    },
    "tags": []
   },
   "outputs": [
    {
     "name": "stdout",
     "output_type": "stream",
     "text": [
      "Vision Transformer (ViT) Model Summary:\n",
      "----------------------------------------------------------------\n",
      "        Layer (type)               Output Shape         Param #\n",
      "================================================================\n",
      "            Conv2d-1          [-1, 768, 14, 14]         590,592\n",
      "    PatchEmbedding-2             [-1, 196, 768]               0\n",
      "           Dropout-3             [-1, 197, 768]               0\n",
      "         LayerNorm-4             [-1, 197, 768]           1,536\n",
      "            Linear-5            [-1, 197, 2304]       1,771,776\n",
      "           Dropout-6         [-1, 12, 197, 197]               0\n",
      "            Linear-7             [-1, 197, 768]         590,592\n",
      "           Dropout-8             [-1, 197, 768]               0\n",
      "MultiHeadAttention-9             [-1, 197, 768]               0\n",
      "        LayerNorm-10             [-1, 197, 768]           1,536\n",
      "           Linear-11            [-1, 197, 3072]       2,362,368\n",
      "             GELU-12            [-1, 197, 3072]               0\n",
      "          Dropout-13            [-1, 197, 3072]               0\n",
      "           Linear-14             [-1, 197, 768]       2,360,064\n",
      "          Dropout-15             [-1, 197, 768]               0\n",
      "              MLP-16             [-1, 197, 768]               0\n",
      " TransformerBlock-17             [-1, 197, 768]               0\n",
      "        LayerNorm-18             [-1, 197, 768]           1,536\n",
      "           Linear-19            [-1, 197, 2304]       1,771,776\n",
      "          Dropout-20         [-1, 12, 197, 197]               0\n",
      "           Linear-21             [-1, 197, 768]         590,592\n",
      "          Dropout-22             [-1, 197, 768]               0\n",
      "MultiHeadAttention-23             [-1, 197, 768]               0\n",
      "        LayerNorm-24             [-1, 197, 768]           1,536\n",
      "           Linear-25            [-1, 197, 3072]       2,362,368\n",
      "             GELU-26            [-1, 197, 3072]               0\n",
      "          Dropout-27            [-1, 197, 3072]               0\n",
      "           Linear-28             [-1, 197, 768]       2,360,064\n",
      "          Dropout-29             [-1, 197, 768]               0\n",
      "              MLP-30             [-1, 197, 768]               0\n",
      " TransformerBlock-31             [-1, 197, 768]               0\n",
      "        LayerNorm-32             [-1, 197, 768]           1,536\n",
      "           Linear-33            [-1, 197, 2304]       1,771,776\n",
      "          Dropout-34         [-1, 12, 197, 197]               0\n",
      "           Linear-35             [-1, 197, 768]         590,592\n",
      "          Dropout-36             [-1, 197, 768]               0\n",
      "MultiHeadAttention-37             [-1, 197, 768]               0\n",
      "        LayerNorm-38             [-1, 197, 768]           1,536\n",
      "           Linear-39            [-1, 197, 3072]       2,362,368\n",
      "             GELU-40            [-1, 197, 3072]               0\n",
      "          Dropout-41            [-1, 197, 3072]               0\n",
      "           Linear-42             [-1, 197, 768]       2,360,064\n",
      "          Dropout-43             [-1, 197, 768]               0\n",
      "              MLP-44             [-1, 197, 768]               0\n",
      " TransformerBlock-45             [-1, 197, 768]               0\n",
      "        LayerNorm-46             [-1, 197, 768]           1,536\n",
      "           Linear-47            [-1, 197, 2304]       1,771,776\n",
      "          Dropout-48         [-1, 12, 197, 197]               0\n",
      "           Linear-49             [-1, 197, 768]         590,592\n",
      "          Dropout-50             [-1, 197, 768]               0\n",
      "MultiHeadAttention-51             [-1, 197, 768]               0\n",
      "        LayerNorm-52             [-1, 197, 768]           1,536\n",
      "           Linear-53            [-1, 197, 3072]       2,362,368\n",
      "             GELU-54            [-1, 197, 3072]               0\n",
      "          Dropout-55            [-1, 197, 3072]               0\n",
      "           Linear-56             [-1, 197, 768]       2,360,064\n",
      "          Dropout-57             [-1, 197, 768]               0\n",
      "              MLP-58             [-1, 197, 768]               0\n",
      " TransformerBlock-59             [-1, 197, 768]               0\n",
      "        LayerNorm-60             [-1, 197, 768]           1,536\n",
      "           Linear-61            [-1, 197, 2304]       1,771,776\n",
      "          Dropout-62         [-1, 12, 197, 197]               0\n",
      "           Linear-63             [-1, 197, 768]         590,592\n",
      "          Dropout-64             [-1, 197, 768]               0\n",
      "MultiHeadAttention-65             [-1, 197, 768]               0\n",
      "        LayerNorm-66             [-1, 197, 768]           1,536\n",
      "           Linear-67            [-1, 197, 3072]       2,362,368\n",
      "             GELU-68            [-1, 197, 3072]               0\n",
      "          Dropout-69            [-1, 197, 3072]               0\n",
      "           Linear-70             [-1, 197, 768]       2,360,064\n",
      "          Dropout-71             [-1, 197, 768]               0\n",
      "              MLP-72             [-1, 197, 768]               0\n",
      " TransformerBlock-73             [-1, 197, 768]               0\n",
      "        LayerNorm-74             [-1, 197, 768]           1,536\n",
      "           Linear-75            [-1, 197, 2304]       1,771,776\n",
      "          Dropout-76         [-1, 12, 197, 197]               0\n",
      "           Linear-77             [-1, 197, 768]         590,592\n",
      "          Dropout-78             [-1, 197, 768]               0\n",
      "MultiHeadAttention-79             [-1, 197, 768]               0\n",
      "        LayerNorm-80             [-1, 197, 768]           1,536\n",
      "           Linear-81            [-1, 197, 3072]       2,362,368\n",
      "             GELU-82            [-1, 197, 3072]               0\n",
      "          Dropout-83            [-1, 197, 3072]               0\n",
      "           Linear-84             [-1, 197, 768]       2,360,064\n",
      "          Dropout-85             [-1, 197, 768]               0\n",
      "              MLP-86             [-1, 197, 768]               0\n",
      " TransformerBlock-87             [-1, 197, 768]               0\n",
      "        LayerNorm-88             [-1, 197, 768]           1,536\n",
      "           Linear-89            [-1, 197, 2304]       1,771,776\n",
      "          Dropout-90         [-1, 12, 197, 197]               0\n",
      "           Linear-91             [-1, 197, 768]         590,592\n",
      "          Dropout-92             [-1, 197, 768]               0\n",
      "MultiHeadAttention-93             [-1, 197, 768]               0\n",
      "        LayerNorm-94             [-1, 197, 768]           1,536\n",
      "           Linear-95            [-1, 197, 3072]       2,362,368\n",
      "             GELU-96            [-1, 197, 3072]               0\n",
      "          Dropout-97            [-1, 197, 3072]               0\n",
      "           Linear-98             [-1, 197, 768]       2,360,064\n",
      "          Dropout-99             [-1, 197, 768]               0\n",
      "             MLP-100             [-1, 197, 768]               0\n",
      "TransformerBlock-101             [-1, 197, 768]               0\n",
      "       LayerNorm-102             [-1, 197, 768]           1,536\n",
      "          Linear-103            [-1, 197, 2304]       1,771,776\n",
      "         Dropout-104         [-1, 12, 197, 197]               0\n",
      "          Linear-105             [-1, 197, 768]         590,592\n",
      "         Dropout-106             [-1, 197, 768]               0\n",
      "MultiHeadAttention-107             [-1, 197, 768]               0\n",
      "       LayerNorm-108             [-1, 197, 768]           1,536\n",
      "          Linear-109            [-1, 197, 3072]       2,362,368\n",
      "            GELU-110            [-1, 197, 3072]               0\n",
      "         Dropout-111            [-1, 197, 3072]               0\n",
      "          Linear-112             [-1, 197, 768]       2,360,064\n",
      "         Dropout-113             [-1, 197, 768]               0\n",
      "             MLP-114             [-1, 197, 768]               0\n",
      "TransformerBlock-115             [-1, 197, 768]               0\n",
      "       LayerNorm-116             [-1, 197, 768]           1,536\n",
      "          Linear-117            [-1, 197, 2304]       1,771,776\n",
      "         Dropout-118         [-1, 12, 197, 197]               0\n",
      "          Linear-119             [-1, 197, 768]         590,592\n",
      "         Dropout-120             [-1, 197, 768]               0\n",
      "MultiHeadAttention-121             [-1, 197, 768]               0\n",
      "       LayerNorm-122             [-1, 197, 768]           1,536\n",
      "          Linear-123            [-1, 197, 3072]       2,362,368\n",
      "            GELU-124            [-1, 197, 3072]               0\n",
      "         Dropout-125            [-1, 197, 3072]               0\n",
      "          Linear-126             [-1, 197, 768]       2,360,064\n",
      "         Dropout-127             [-1, 197, 768]               0\n",
      "             MLP-128             [-1, 197, 768]               0\n",
      "TransformerBlock-129             [-1, 197, 768]               0\n",
      "       LayerNorm-130             [-1, 197, 768]           1,536\n",
      "          Linear-131            [-1, 197, 2304]       1,771,776\n",
      "         Dropout-132         [-1, 12, 197, 197]               0\n",
      "          Linear-133             [-1, 197, 768]         590,592\n",
      "         Dropout-134             [-1, 197, 768]               0\n",
      "MultiHeadAttention-135             [-1, 197, 768]               0\n",
      "       LayerNorm-136             [-1, 197, 768]           1,536\n",
      "          Linear-137            [-1, 197, 3072]       2,362,368\n",
      "            GELU-138            [-1, 197, 3072]               0\n",
      "         Dropout-139            [-1, 197, 3072]               0\n",
      "          Linear-140             [-1, 197, 768]       2,360,064\n",
      "         Dropout-141             [-1, 197, 768]               0\n",
      "             MLP-142             [-1, 197, 768]               0\n",
      "TransformerBlock-143             [-1, 197, 768]               0\n",
      "       LayerNorm-144             [-1, 197, 768]           1,536\n",
      "          Linear-145            [-1, 197, 2304]       1,771,776\n",
      "         Dropout-146         [-1, 12, 197, 197]               0\n",
      "          Linear-147             [-1, 197, 768]         590,592\n",
      "         Dropout-148             [-1, 197, 768]               0\n",
      "MultiHeadAttention-149             [-1, 197, 768]               0\n",
      "       LayerNorm-150             [-1, 197, 768]           1,536\n",
      "          Linear-151            [-1, 197, 3072]       2,362,368\n",
      "            GELU-152            [-1, 197, 3072]               0\n",
      "         Dropout-153            [-1, 197, 3072]               0\n",
      "          Linear-154             [-1, 197, 768]       2,360,064\n",
      "         Dropout-155             [-1, 197, 768]               0\n",
      "             MLP-156             [-1, 197, 768]               0\n",
      "TransformerBlock-157             [-1, 197, 768]               0\n",
      "       LayerNorm-158             [-1, 197, 768]           1,536\n",
      "          Linear-159            [-1, 197, 2304]       1,771,776\n",
      "         Dropout-160         [-1, 12, 197, 197]               0\n",
      "          Linear-161             [-1, 197, 768]         590,592\n",
      "         Dropout-162             [-1, 197, 768]               0\n",
      "MultiHeadAttention-163             [-1, 197, 768]               0\n",
      "       LayerNorm-164             [-1, 197, 768]           1,536\n",
      "          Linear-165            [-1, 197, 3072]       2,362,368\n",
      "            GELU-166            [-1, 197, 3072]               0\n",
      "         Dropout-167            [-1, 197, 3072]               0\n",
      "          Linear-168             [-1, 197, 768]       2,360,064\n",
      "         Dropout-169             [-1, 197, 768]               0\n",
      "             MLP-170             [-1, 197, 768]               0\n",
      "TransformerBlock-171             [-1, 197, 768]               0\n",
      "       LayerNorm-172             [-1, 197, 768]           1,536\n",
      "          Linear-173                    [-1, 7]           5,383\n",
      "================================================================\n",
      "Total params: 85,651,975\n",
      "Trainable params: 85,651,975\n",
      "Non-trainable params: 0\n",
      "----------------------------------------------------------------\n",
      "Input size (MB): 0.57\n",
      "Forward/backward pass size (MB): 379.68\n",
      "Params size (MB): 326.74\n",
      "Estimated Total Size (MB): 706.99\n",
      "----------------------------------------------------------------\n"
     ]
    }
   ],
   "source": [
    "# -----------------------------\n",
    "# 3. Training Setup\n",
    "# -----------------------------\n",
    "device = torch.device(\"cuda\" if torch.cuda.is_available() else \"cpu\")\n",
    "\n",
    "# ViT-Base configuration\n",
    "model = MyVisionTransformer(\n",
    "    img_size=224,\n",
    "    patch_size=16,\n",
    "    in_channels=3,\n",
    "    num_classes=len(classes),\n",
    "    embed_dim=768,\n",
    "    depth=12,\n",
    "    n_heads=12,\n",
    "    mlp_ratio=4.0,\n",
    "    dropout=0.1,\n",
    "    emb_dropout=0.1\n",
    ").to(device)\n",
    "\n",
    "criterion = nn.CrossEntropyLoss()\n",
    "optimizer = torch.optim.Adam(model.parameters(), lr=0.0001, weight_decay=0.05)  # Lower LR for ViT\n",
    "\n",
    "print(\"Vision Transformer (ViT) Model Summary:\")\n",
    "try:\n",
    "    summary(model, (3, 224, 224))\n",
    "except:\n",
    "    print(\"Model summary generation failed - this is normal for complex architectures\")\n",
    "    print(f\"Model created successfully with {sum(p.numel() for p in model.parameters()):,} parameters\")"
   ]
  },
  {
   "cell_type": "code",
   "execution_count": 9,
   "id": "3d05ad23",
   "metadata": {
    "execution": {
     "iopub.execute_input": "2025-09-09T03:46:38.620281Z",
     "iopub.status.busy": "2025-09-09T03:46:38.620024Z",
     "iopub.status.idle": "2025-09-09T07:21:57.047960Z",
     "shell.execute_reply": "2025-09-09T07:21:57.047198Z"
    },
    "papermill": {
     "duration": 12918.435543,
     "end_time": "2025-09-09T07:21:57.051525",
     "exception": false,
     "start_time": "2025-09-09T03:46:38.615982",
     "status": "completed"
    },
    "tags": []
   },
   "outputs": [
    {
     "name": "stdout",
     "output_type": "stream",
     "text": [
      "\n",
      "🚀 Starting Vision Transformer Training for 50 epochs...\n",
      "================================================================================\n",
      "\n",
      "📈 Epoch 1/50\n",
      "--------------------------------------------------\n",
      "🔄 Training Phase...\n"
     ]
    },
    {
     "name": "stderr",
     "output_type": "stream",
     "text": [
      "Training: 100%|██████████████████████████████| 162/162 [04:06<00:00,  1.52s/it, Loss=1.8551, Acc=0.2690]\n"
     ]
    },
    {
     "name": "stdout",
     "output_type": "stream",
     "text": [
      "✅ Training completed in 246.01s\n",
      "🔍 Validation Phase...\n"
     ]
    },
    {
     "name": "stderr",
     "output_type": "stream",
     "text": [
      "Validation: 100%|██████████████████████████████| 42/42 [00:34<00:00,  1.22it/s, Loss=1.9103, Acc=0.2380]\n"
     ]
    },
    {
     "name": "stdout",
     "output_type": "stream",
     "text": [
      "✅ Validation completed in 34.33s\n",
      "🌟 New best Vision Transformer model found! Validation Accuracy: 0.2380\n",
      "\n",
      "📊 Epoch 1 Summary:\n",
      "│ Train Loss: 1.8551 | Train Acc: 0.2690\n",
      "│ Val Loss:   1.9103 | Val Acc:   0.2380\n",
      "│ Train Time: 246.01s | Val Time: 34.33s\n",
      "│ Total Epoch Time: 280.35s\n",
      "│ Best Val Acc: 0.2380 (Epoch 1)\n",
      "│ GPU Memory: 1.3GB / 6.7GB\n",
      "================================================================================\n",
      "\n",
      "📈 Epoch 2/50\n",
      "--------------------------------------------------\n",
      "🔄 Training Phase...\n"
     ]
    },
    {
     "name": "stderr",
     "output_type": "stream",
     "text": [
      "Training: 100%|██████████████████████████████| 162/162 [03:51<00:00,  1.43s/it, Loss=1.8318, Acc=0.2550]\n"
     ]
    },
    {
     "name": "stdout",
     "output_type": "stream",
     "text": [
      "✅ Training completed in 231.14s\n",
      "🔍 Validation Phase...\n"
     ]
    },
    {
     "name": "stderr",
     "output_type": "stream",
     "text": [
      "Validation: 100%|██████████████████████████████| 42/42 [00:26<00:00,  1.61it/s, Loss=1.8549, Acc=0.2658]\n"
     ]
    },
    {
     "name": "stdout",
     "output_type": "stream",
     "text": [
      "✅ Validation completed in 26.08s\n",
      "🌟 New best Vision Transformer model found! Validation Accuracy: 0.2658\n",
      "\n",
      "📊 Epoch 2 Summary:\n",
      "│ Train Loss: 1.8318 | Train Acc: 0.2550\n",
      "│ Val Loss:   1.8549 | Val Acc:   0.2658\n",
      "│ Train Time: 231.14s | Val Time: 26.08s\n",
      "│ Total Epoch Time: 257.23s\n",
      "│ Best Val Acc: 0.2658 (Epoch 2)\n",
      "│ GPU Memory: 1.3GB / 6.7GB\n",
      "================================================================================\n",
      "\n",
      "📈 Epoch 3/50\n",
      "--------------------------------------------------\n",
      "🔄 Training Phase...\n"
     ]
    },
    {
     "name": "stderr",
     "output_type": "stream",
     "text": [
      "Training: 100%|██████████████████████████████| 162/162 [03:50<00:00,  1.42s/it, Loss=1.7797, Acc=0.2632]\n"
     ]
    },
    {
     "name": "stdout",
     "output_type": "stream",
     "text": [
      "✅ Training completed in 230.62s\n",
      "🔍 Validation Phase...\n"
     ]
    },
    {
     "name": "stderr",
     "output_type": "stream",
     "text": [
      "Validation: 100%|██████████████████████████████| 42/42 [00:26<00:00,  1.59it/s, Loss=1.7658, Acc=0.2651]\n"
     ]
    },
    {
     "name": "stdout",
     "output_type": "stream",
     "text": [
      "✅ Validation completed in 26.34s\n",
      "\n",
      "📊 Epoch 3 Summary:\n",
      "│ Train Loss: 1.7797 | Train Acc: 0.2632\n",
      "│ Val Loss:   1.7658 | Val Acc:   0.2651\n",
      "│ Train Time: 230.62s | Val Time: 26.34s\n",
      "│ Total Epoch Time: 256.96s\n",
      "│ Best Val Acc: 0.2658 (Epoch 2)\n",
      "│ GPU Memory: 1.3GB / 6.7GB\n",
      "================================================================================\n",
      "\n",
      "📈 Epoch 4/50\n",
      "--------------------------------------------------\n",
      "🔄 Training Phase...\n"
     ]
    },
    {
     "name": "stderr",
     "output_type": "stream",
     "text": [
      "Training: 100%|██████████████████████████████| 162/162 [03:50<00:00,  1.42s/it, Loss=1.7359, Acc=0.2792]\n"
     ]
    },
    {
     "name": "stdout",
     "output_type": "stream",
     "text": [
      "✅ Training completed in 230.38s\n",
      "🔍 Validation Phase...\n"
     ]
    },
    {
     "name": "stderr",
     "output_type": "stream",
     "text": [
      "Validation: 100%|██████████████████████████████| 42/42 [00:26<00:00,  1.61it/s, Loss=1.7606, Acc=0.2470]\n"
     ]
    },
    {
     "name": "stdout",
     "output_type": "stream",
     "text": [
      "✅ Validation completed in 26.15s\n",
      "\n",
      "📊 Epoch 4 Summary:\n",
      "│ Train Loss: 1.7359 | Train Acc: 0.2792\n",
      "│ Val Loss:   1.7606 | Val Acc:   0.2470\n",
      "│ Train Time: 230.38s | Val Time: 26.15s\n",
      "│ Total Epoch Time: 256.53s\n",
      "│ Best Val Acc: 0.2658 (Epoch 2)\n",
      "│ GPU Memory: 1.3GB / 6.7GB\n",
      "================================================================================\n",
      "\n",
      "📈 Epoch 5/50\n",
      "--------------------------------------------------\n",
      "🔄 Training Phase...\n"
     ]
    },
    {
     "name": "stderr",
     "output_type": "stream",
     "text": [
      "Training: 100%|██████████████████████████████| 162/162 [03:51<00:00,  1.43s/it, Loss=1.7174, Acc=0.2750]\n"
     ]
    },
    {
     "name": "stdout",
     "output_type": "stream",
     "text": [
      "✅ Training completed in 231.06s\n",
      "🔍 Validation Phase...\n"
     ]
    },
    {
     "name": "stderr",
     "output_type": "stream",
     "text": [
      "Validation: 100%|██████████████████████████████| 42/42 [00:26<00:00,  1.60it/s, Loss=1.7550, Acc=0.2515]\n"
     ]
    },
    {
     "name": "stdout",
     "output_type": "stream",
     "text": [
      "✅ Validation completed in 26.33s\n",
      "\n",
      "📊 Epoch 5 Summary:\n",
      "│ Train Loss: 1.7174 | Train Acc: 0.2750\n",
      "│ Val Loss:   1.7550 | Val Acc:   0.2515\n",
      "│ Train Time: 231.06s | Val Time: 26.33s\n",
      "│ Total Epoch Time: 257.40s\n",
      "│ Best Val Acc: 0.2658 (Epoch 2)\n",
      "│ GPU Memory: 1.3GB / 6.7GB\n",
      "================================================================================\n",
      "\n",
      "📈 Epoch 6/50\n",
      "--------------------------------------------------\n",
      "🔄 Training Phase...\n"
     ]
    },
    {
     "name": "stderr",
     "output_type": "stream",
     "text": [
      "Training: 100%|██████████████████████████████| 162/162 [03:51<00:00,  1.43s/it, Loss=1.7212, Acc=0.2775]\n"
     ]
    },
    {
     "name": "stdout",
     "output_type": "stream",
     "text": [
      "✅ Training completed in 231.47s\n",
      "🔍 Validation Phase...\n"
     ]
    },
    {
     "name": "stderr",
     "output_type": "stream",
     "text": [
      "Validation: 100%|██████████████████████████████| 42/42 [00:26<00:00,  1.59it/s, Loss=1.7417, Acc=0.2718]\n"
     ]
    },
    {
     "name": "stdout",
     "output_type": "stream",
     "text": [
      "✅ Validation completed in 26.49s\n",
      "🌟 New best Vision Transformer model found! Validation Accuracy: 0.2718\n",
      "\n",
      "📊 Epoch 6 Summary:\n",
      "│ Train Loss: 1.7212 | Train Acc: 0.2775\n",
      "│ Val Loss:   1.7417 | Val Acc:   0.2718\n",
      "│ Train Time: 231.47s | Val Time: 26.49s\n",
      "│ Total Epoch Time: 257.96s\n",
      "│ Best Val Acc: 0.2718 (Epoch 6)\n",
      "│ GPU Memory: 1.3GB / 6.7GB\n",
      "================================================================================\n",
      "\n",
      "📈 Epoch 7/50\n",
      "--------------------------------------------------\n",
      "🔄 Training Phase...\n"
     ]
    },
    {
     "name": "stderr",
     "output_type": "stream",
     "text": [
      "Training: 100%|██████████████████████████████| 162/162 [03:50<00:00,  1.42s/it, Loss=1.7049, Acc=0.2771]\n"
     ]
    },
    {
     "name": "stdout",
     "output_type": "stream",
     "text": [
      "✅ Training completed in 230.71s\n",
      "🔍 Validation Phase...\n"
     ]
    },
    {
     "name": "stderr",
     "output_type": "stream",
     "text": [
      "Validation: 100%|██████████████████████████████| 42/42 [00:25<00:00,  1.62it/s, Loss=1.7732, Acc=0.2696]\n"
     ]
    },
    {
     "name": "stdout",
     "output_type": "stream",
     "text": [
      "✅ Validation completed in 25.87s\n",
      "\n",
      "📊 Epoch 7 Summary:\n",
      "│ Train Loss: 1.7049 | Train Acc: 0.2771\n",
      "│ Val Loss:   1.7732 | Val Acc:   0.2696\n",
      "│ Train Time: 230.71s | Val Time: 25.87s\n",
      "│ Total Epoch Time: 256.58s\n",
      "│ Best Val Acc: 0.2718 (Epoch 6)\n",
      "│ GPU Memory: 1.3GB / 6.7GB\n",
      "================================================================================\n",
      "\n",
      "📈 Epoch 8/50\n",
      "--------------------------------------------------\n",
      "🔄 Training Phase...\n"
     ]
    },
    {
     "name": "stderr",
     "output_type": "stream",
     "text": [
      "Training: 100%|██████████████████████████████| 162/162 [03:50<00:00,  1.42s/it, Loss=1.7057, Acc=0.2908]\n"
     ]
    },
    {
     "name": "stdout",
     "output_type": "stream",
     "text": [
      "✅ Training completed in 230.62s\n",
      "🔍 Validation Phase...\n"
     ]
    },
    {
     "name": "stderr",
     "output_type": "stream",
     "text": [
      "Validation: 100%|██████████████████████████████| 42/42 [00:26<00:00,  1.60it/s, Loss=1.7438, Acc=0.2688]\n"
     ]
    },
    {
     "name": "stdout",
     "output_type": "stream",
     "text": [
      "✅ Validation completed in 26.18s\n",
      "\n",
      "📊 Epoch 8 Summary:\n",
      "│ Train Loss: 1.7057 | Train Acc: 0.2908\n",
      "│ Val Loss:   1.7438 | Val Acc:   0.2688\n",
      "│ Train Time: 230.62s | Val Time: 26.18s\n",
      "│ Total Epoch Time: 256.81s\n",
      "│ Best Val Acc: 0.2718 (Epoch 6)\n",
      "│ GPU Memory: 1.3GB / 6.7GB\n",
      "================================================================================\n",
      "\n",
      "📈 Epoch 9/50\n",
      "--------------------------------------------------\n",
      "🔄 Training Phase...\n"
     ]
    },
    {
     "name": "stderr",
     "output_type": "stream",
     "text": [
      "Training: 100%|██████████████████████████████| 162/162 [03:51<00:00,  1.43s/it, Loss=1.6950, Acc=0.2879]\n"
     ]
    },
    {
     "name": "stdout",
     "output_type": "stream",
     "text": [
      "✅ Training completed in 231.21s\n",
      "🔍 Validation Phase...\n"
     ]
    },
    {
     "name": "stderr",
     "output_type": "stream",
     "text": [
      "Validation: 100%|██████████████████████████████| 42/42 [00:25<00:00,  1.62it/s, Loss=1.7414, Acc=0.2387]\n"
     ]
    },
    {
     "name": "stdout",
     "output_type": "stream",
     "text": [
      "✅ Validation completed in 25.95s\n",
      "\n",
      "📊 Epoch 9 Summary:\n",
      "│ Train Loss: 1.6950 | Train Acc: 0.2879\n",
      "│ Val Loss:   1.7414 | Val Acc:   0.2387\n",
      "│ Train Time: 231.21s | Val Time: 25.95s\n",
      "│ Total Epoch Time: 257.17s\n",
      "│ Best Val Acc: 0.2718 (Epoch 6)\n",
      "│ GPU Memory: 1.3GB / 6.7GB\n",
      "================================================================================\n",
      "\n",
      "📈 Epoch 10/50\n",
      "--------------------------------------------------\n",
      "🔄 Training Phase...\n"
     ]
    },
    {
     "name": "stderr",
     "output_type": "stream",
     "text": [
      "Training: 100%|██████████████████████████████| 162/162 [03:49<00:00,  1.42s/it, Loss=1.6907, Acc=0.2924]\n"
     ]
    },
    {
     "name": "stdout",
     "output_type": "stream",
     "text": [
      "✅ Training completed in 229.94s\n",
      "🔍 Validation Phase...\n"
     ]
    },
    {
     "name": "stderr",
     "output_type": "stream",
     "text": [
      "Validation: 100%|██████████████████████████████| 42/42 [00:26<00:00,  1.61it/s, Loss=1.7487, Acc=0.2989]\n"
     ]
    },
    {
     "name": "stdout",
     "output_type": "stream",
     "text": [
      "✅ Validation completed in 26.06s\n",
      "🌟 New best Vision Transformer model found! Validation Accuracy: 0.2989\n",
      "\n",
      "📊 Epoch 10 Summary:\n",
      "│ Train Loss: 1.6907 | Train Acc: 0.2924\n",
      "│ Val Loss:   1.7487 | Val Acc:   0.2989\n",
      "│ Train Time: 229.94s | Val Time: 26.06s\n",
      "│ Total Epoch Time: 256.01s\n",
      "│ Best Val Acc: 0.2989 (Epoch 10)\n",
      "│ GPU Memory: 1.3GB / 6.7GB\n",
      "================================================================================\n",
      "\n",
      "📈 Epoch 11/50\n",
      "--------------------------------------------------\n",
      "🔄 Training Phase...\n"
     ]
    },
    {
     "name": "stderr",
     "output_type": "stream",
     "text": [
      "Training: 100%|██████████████████████████████| 162/162 [03:49<00:00,  1.42s/it, Loss=1.6913, Acc=0.2957]\n"
     ]
    },
    {
     "name": "stdout",
     "output_type": "stream",
     "text": [
      "✅ Training completed in 229.94s\n",
      "🔍 Validation Phase...\n"
     ]
    },
    {
     "name": "stderr",
     "output_type": "stream",
     "text": [
      "Validation: 100%|██████████████████████████████| 42/42 [00:26<00:00,  1.61it/s, Loss=1.7458, Acc=0.2718]\n"
     ]
    },
    {
     "name": "stdout",
     "output_type": "stream",
     "text": [
      "✅ Validation completed in 26.08s\n",
      "\n",
      "📊 Epoch 11 Summary:\n",
      "│ Train Loss: 1.6913 | Train Acc: 0.2957\n",
      "│ Val Loss:   1.7458 | Val Acc:   0.2718\n",
      "│ Train Time: 229.94s | Val Time: 26.08s\n",
      "│ Total Epoch Time: 256.03s\n",
      "│ Best Val Acc: 0.2989 (Epoch 10)\n",
      "│ GPU Memory: 1.3GB / 6.7GB\n",
      "================================================================================\n",
      "\n",
      "📈 Epoch 12/50\n",
      "--------------------------------------------------\n",
      "🔄 Training Phase...\n"
     ]
    },
    {
     "name": "stderr",
     "output_type": "stream",
     "text": [
      "Training: 100%|██████████████████████████████| 162/162 [03:50<00:00,  1.42s/it, Loss=1.6837, Acc=0.3007]\n"
     ]
    },
    {
     "name": "stdout",
     "output_type": "stream",
     "text": [
      "✅ Training completed in 230.33s\n",
      "🔍 Validation Phase...\n"
     ]
    },
    {
     "name": "stderr",
     "output_type": "stream",
     "text": [
      "Validation: 100%|██████████████████████████████| 42/42 [00:26<00:00,  1.62it/s, Loss=1.7451, Acc=0.2515]\n"
     ]
    },
    {
     "name": "stdout",
     "output_type": "stream",
     "text": [
      "✅ Validation completed in 26.00s\n",
      "\n",
      "📊 Epoch 12 Summary:\n",
      "│ Train Loss: 1.6837 | Train Acc: 0.3007\n",
      "│ Val Loss:   1.7451 | Val Acc:   0.2515\n",
      "│ Train Time: 230.33s | Val Time: 26.00s\n",
      "│ Total Epoch Time: 256.33s\n",
      "│ Best Val Acc: 0.2989 (Epoch 10)\n",
      "│ GPU Memory: 1.3GB / 6.7GB\n",
      "================================================================================\n",
      "\n",
      "📈 Epoch 13/50\n",
      "--------------------------------------------------\n",
      "🔄 Training Phase...\n"
     ]
    },
    {
     "name": "stderr",
     "output_type": "stream",
     "text": [
      "Training: 100%|██████████████████████████████| 162/162 [03:50<00:00,  1.42s/it, Loss=1.6854, Acc=0.3036]\n"
     ]
    },
    {
     "name": "stdout",
     "output_type": "stream",
     "text": [
      "✅ Training completed in 230.47s\n",
      "🔍 Validation Phase...\n"
     ]
    },
    {
     "name": "stderr",
     "output_type": "stream",
     "text": [
      "Validation: 100%|██████████████████████████████| 42/42 [00:25<00:00,  1.62it/s, Loss=1.8194, Acc=0.2831]\n"
     ]
    },
    {
     "name": "stdout",
     "output_type": "stream",
     "text": [
      "✅ Validation completed in 25.93s\n",
      "\n",
      "📊 Epoch 13 Summary:\n",
      "│ Train Loss: 1.6854 | Train Acc: 0.3036\n",
      "│ Val Loss:   1.8194 | Val Acc:   0.2831\n",
      "│ Train Time: 230.47s | Val Time: 25.93s\n",
      "│ Total Epoch Time: 256.40s\n",
      "│ Best Val Acc: 0.2989 (Epoch 10)\n",
      "│ GPU Memory: 1.3GB / 6.7GB\n",
      "================================================================================\n",
      "\n",
      "📈 Epoch 14/50\n",
      "--------------------------------------------------\n",
      "🔄 Training Phase...\n"
     ]
    },
    {
     "name": "stderr",
     "output_type": "stream",
     "text": [
      "Training: 100%|██████████████████████████████| 162/162 [03:51<00:00,  1.43s/it, Loss=1.6843, Acc=0.3003]\n"
     ]
    },
    {
     "name": "stdout",
     "output_type": "stream",
     "text": [
      "✅ Training completed in 231.27s\n",
      "🔍 Validation Phase...\n"
     ]
    },
    {
     "name": "stderr",
     "output_type": "stream",
     "text": [
      "Validation: 100%|██████████████████████████████| 42/42 [00:26<00:00,  1.60it/s, Loss=1.7279, Acc=0.2929]\n"
     ]
    },
    {
     "name": "stdout",
     "output_type": "stream",
     "text": [
      "✅ Validation completed in 26.30s\n",
      "\n",
      "📊 Epoch 14 Summary:\n",
      "│ Train Loss: 1.6843 | Train Acc: 0.3003\n",
      "│ Val Loss:   1.7279 | Val Acc:   0.2929\n",
      "│ Train Time: 231.27s | Val Time: 26.30s\n",
      "│ Total Epoch Time: 257.57s\n",
      "│ Best Val Acc: 0.2989 (Epoch 10)\n",
      "│ GPU Memory: 1.3GB / 6.7GB\n",
      "================================================================================\n",
      "\n",
      "📈 Epoch 15/50\n",
      "--------------------------------------------------\n",
      "🔄 Training Phase...\n"
     ]
    },
    {
     "name": "stderr",
     "output_type": "stream",
     "text": [
      "Training: 100%|██████████████████████████████| 162/162 [03:51<00:00,  1.43s/it, Loss=1.6725, Acc=0.3001]\n"
     ]
    },
    {
     "name": "stdout",
     "output_type": "stream",
     "text": [
      "✅ Training completed in 231.95s\n",
      "🔍 Validation Phase...\n"
     ]
    },
    {
     "name": "stderr",
     "output_type": "stream",
     "text": [
      "Validation: 100%|██████████████████████████████| 42/42 [00:26<00:00,  1.60it/s, Loss=1.7420, Acc=0.2831]\n"
     ]
    },
    {
     "name": "stdout",
     "output_type": "stream",
     "text": [
      "✅ Validation completed in 26.29s\n",
      "\n",
      "📊 Epoch 15 Summary:\n",
      "│ Train Loss: 1.6725 | Train Acc: 0.3001\n",
      "│ Val Loss:   1.7420 | Val Acc:   0.2831\n",
      "│ Train Time: 231.95s | Val Time: 26.29s\n",
      "│ Total Epoch Time: 258.24s\n",
      "│ Best Val Acc: 0.2989 (Epoch 10)\n",
      "│ GPU Memory: 1.3GB / 6.7GB\n",
      "================================================================================\n",
      "\n",
      "📈 Epoch 16/50\n",
      "--------------------------------------------------\n",
      "🔄 Training Phase...\n"
     ]
    },
    {
     "name": "stderr",
     "output_type": "stream",
     "text": [
      "Training: 100%|██████████████████████████████| 162/162 [03:52<00:00,  1.43s/it, Loss=1.6720, Acc=0.2988]\n"
     ]
    },
    {
     "name": "stdout",
     "output_type": "stream",
     "text": [
      "✅ Training completed in 232.41s\n",
      "🔍 Validation Phase...\n"
     ]
    },
    {
     "name": "stderr",
     "output_type": "stream",
     "text": [
      "Validation: 100%|██████████████████████████████| 42/42 [00:26<00:00,  1.60it/s, Loss=1.7066, Acc=0.2861]\n"
     ]
    },
    {
     "name": "stdout",
     "output_type": "stream",
     "text": [
      "✅ Validation completed in 26.30s\n",
      "\n",
      "📊 Epoch 16 Summary:\n",
      "│ Train Loss: 1.6720 | Train Acc: 0.2988\n",
      "│ Val Loss:   1.7066 | Val Acc:   0.2861\n",
      "│ Train Time: 232.41s | Val Time: 26.30s\n",
      "│ Total Epoch Time: 258.72s\n",
      "│ Best Val Acc: 0.2989 (Epoch 10)\n",
      "│ GPU Memory: 1.3GB / 6.7GB\n",
      "================================================================================\n",
      "\n",
      "📈 Epoch 17/50\n",
      "--------------------------------------------------\n",
      "🔄 Training Phase...\n"
     ]
    },
    {
     "name": "stderr",
     "output_type": "stream",
     "text": [
      "Training: 100%|██████████████████████████████| 162/162 [03:50<00:00,  1.43s/it, Loss=1.6809, Acc=0.2988]\n"
     ]
    },
    {
     "name": "stdout",
     "output_type": "stream",
     "text": [
      "✅ Training completed in 230.90s\n",
      "🔍 Validation Phase...\n"
     ]
    },
    {
     "name": "stderr",
     "output_type": "stream",
     "text": [
      "Validation: 100%|██████████████████████████████| 42/42 [00:26<00:00,  1.61it/s, Loss=1.7334, Acc=0.2877]\n"
     ]
    },
    {
     "name": "stdout",
     "output_type": "stream",
     "text": [
      "✅ Validation completed in 26.14s\n",
      "\n",
      "📊 Epoch 17 Summary:\n",
      "│ Train Loss: 1.6809 | Train Acc: 0.2988\n",
      "│ Val Loss:   1.7334 | Val Acc:   0.2877\n",
      "│ Train Time: 230.90s | Val Time: 26.14s\n",
      "│ Total Epoch Time: 257.04s\n",
      "│ Best Val Acc: 0.2989 (Epoch 10)\n",
      "│ GPU Memory: 1.3GB / 6.7GB\n",
      "================================================================================\n",
      "\n",
      "📈 Epoch 18/50\n",
      "--------------------------------------------------\n",
      "🔄 Training Phase...\n"
     ]
    },
    {
     "name": "stderr",
     "output_type": "stream",
     "text": [
      "Training: 100%|██████████████████████████████| 162/162 [03:50<00:00,  1.42s/it, Loss=1.6760, Acc=0.3046]\n"
     ]
    },
    {
     "name": "stdout",
     "output_type": "stream",
     "text": [
      "✅ Training completed in 230.17s\n",
      "🔍 Validation Phase...\n"
     ]
    },
    {
     "name": "stderr",
     "output_type": "stream",
     "text": [
      "Validation: 100%|██████████████████████████████| 42/42 [00:25<00:00,  1.62it/s, Loss=1.7151, Acc=0.2756]\n"
     ]
    },
    {
     "name": "stdout",
     "output_type": "stream",
     "text": [
      "✅ Validation completed in 25.93s\n",
      "\n",
      "📊 Epoch 18 Summary:\n",
      "│ Train Loss: 1.6760 | Train Acc: 0.3046\n",
      "│ Val Loss:   1.7151 | Val Acc:   0.2756\n",
      "│ Train Time: 230.17s | Val Time: 25.93s\n",
      "│ Total Epoch Time: 256.11s\n",
      "│ Best Val Acc: 0.2989 (Epoch 10)\n",
      "│ GPU Memory: 1.3GB / 6.7GB\n",
      "================================================================================\n",
      "\n",
      "📈 Epoch 19/50\n",
      "--------------------------------------------------\n",
      "🔄 Training Phase...\n"
     ]
    },
    {
     "name": "stderr",
     "output_type": "stream",
     "text": [
      "Training: 100%|██████████████████████████████| 162/162 [03:49<00:00,  1.42s/it, Loss=1.6808, Acc=0.3082]\n"
     ]
    },
    {
     "name": "stdout",
     "output_type": "stream",
     "text": [
      "✅ Training completed in 229.52s\n",
      "🔍 Validation Phase...\n"
     ]
    },
    {
     "name": "stderr",
     "output_type": "stream",
     "text": [
      "Validation: 100%|██████████████████████████████| 42/42 [00:25<00:00,  1.63it/s, Loss=1.7243, Acc=0.2892]\n"
     ]
    },
    {
     "name": "stdout",
     "output_type": "stream",
     "text": [
      "✅ Validation completed in 25.82s\n",
      "\n",
      "📊 Epoch 19 Summary:\n",
      "│ Train Loss: 1.6808 | Train Acc: 0.3082\n",
      "│ Val Loss:   1.7243 | Val Acc:   0.2892\n",
      "│ Train Time: 229.52s | Val Time: 25.82s\n",
      "│ Total Epoch Time: 255.35s\n",
      "│ Best Val Acc: 0.2989 (Epoch 10)\n",
      "│ GPU Memory: 1.3GB / 6.7GB\n",
      "================================================================================\n",
      "\n",
      "📈 Epoch 20/50\n",
      "--------------------------------------------------\n",
      "🔄 Training Phase...\n"
     ]
    },
    {
     "name": "stderr",
     "output_type": "stream",
     "text": [
      "Training: 100%|██████████████████████████████| 162/162 [03:50<00:00,  1.42s/it, Loss=1.6813, Acc=0.3096]\n"
     ]
    },
    {
     "name": "stdout",
     "output_type": "stream",
     "text": [
      "✅ Training completed in 230.16s\n",
      "🔍 Validation Phase...\n"
     ]
    },
    {
     "name": "stderr",
     "output_type": "stream",
     "text": [
      "Validation: 100%|██████████████████████████████| 42/42 [00:26<00:00,  1.61it/s, Loss=1.7292, Acc=0.2711]\n"
     ]
    },
    {
     "name": "stdout",
     "output_type": "stream",
     "text": [
      "✅ Validation completed in 26.11s\n",
      "\n",
      "📊 Epoch 20 Summary:\n",
      "│ Train Loss: 1.6813 | Train Acc: 0.3096\n",
      "│ Val Loss:   1.7292 | Val Acc:   0.2711\n",
      "│ Train Time: 230.16s | Val Time: 26.11s\n",
      "│ Total Epoch Time: 256.28s\n",
      "│ Best Val Acc: 0.2989 (Epoch 10)\n",
      "│ GPU Memory: 1.3GB / 6.7GB\n",
      "================================================================================\n",
      "\n",
      "📈 Epoch 21/50\n",
      "--------------------------------------------------\n",
      "🔄 Training Phase...\n"
     ]
    },
    {
     "name": "stderr",
     "output_type": "stream",
     "text": [
      "Training: 100%|██████████████████████████████| 162/162 [03:50<00:00,  1.42s/it, Loss=1.6770, Acc=0.3034]\n"
     ]
    },
    {
     "name": "stdout",
     "output_type": "stream",
     "text": [
      "✅ Training completed in 230.28s\n",
      "🔍 Validation Phase...\n"
     ]
    },
    {
     "name": "stderr",
     "output_type": "stream",
     "text": [
      "Validation: 100%|██████████████████████████████| 42/42 [00:25<00:00,  1.62it/s, Loss=1.7125, Acc=0.2967]\n"
     ]
    },
    {
     "name": "stdout",
     "output_type": "stream",
     "text": [
      "✅ Validation completed in 25.95s\n",
      "\n",
      "📊 Epoch 21 Summary:\n",
      "│ Train Loss: 1.6770 | Train Acc: 0.3034\n",
      "│ Val Loss:   1.7125 | Val Acc:   0.2967\n",
      "│ Train Time: 230.28s | Val Time: 25.95s\n",
      "│ Total Epoch Time: 256.23s\n",
      "│ Best Val Acc: 0.2989 (Epoch 10)\n",
      "│ GPU Memory: 1.3GB / 6.7GB\n",
      "================================================================================\n",
      "\n",
      "📈 Epoch 22/50\n",
      "--------------------------------------------------\n",
      "🔄 Training Phase...\n"
     ]
    },
    {
     "name": "stderr",
     "output_type": "stream",
     "text": [
      "Training: 100%|██████████████████████████████| 162/162 [03:50<00:00,  1.42s/it, Loss=1.6816, Acc=0.3032]\n"
     ]
    },
    {
     "name": "stdout",
     "output_type": "stream",
     "text": [
      "✅ Training completed in 230.28s\n",
      "🔍 Validation Phase...\n"
     ]
    },
    {
     "name": "stderr",
     "output_type": "stream",
     "text": [
      "Validation: 100%|██████████████████████████████| 42/42 [00:25<00:00,  1.63it/s, Loss=1.7027, Acc=0.2508]\n"
     ]
    },
    {
     "name": "stdout",
     "output_type": "stream",
     "text": [
      "✅ Validation completed in 25.81s\n",
      "\n",
      "📊 Epoch 22 Summary:\n",
      "│ Train Loss: 1.6816 | Train Acc: 0.3032\n",
      "│ Val Loss:   1.7027 | Val Acc:   0.2508\n",
      "│ Train Time: 230.28s | Val Time: 25.81s\n",
      "│ Total Epoch Time: 256.10s\n",
      "│ Best Val Acc: 0.2989 (Epoch 10)\n",
      "│ GPU Memory: 1.3GB / 6.7GB\n",
      "================================================================================\n",
      "\n",
      "📈 Epoch 23/50\n",
      "--------------------------------------------------\n",
      "🔄 Training Phase...\n"
     ]
    },
    {
     "name": "stderr",
     "output_type": "stream",
     "text": [
      "Training: 100%|██████████████████████████████| 162/162 [03:50<00:00,  1.42s/it, Loss=1.6794, Acc=0.2943]\n"
     ]
    },
    {
     "name": "stdout",
     "output_type": "stream",
     "text": [
      "✅ Training completed in 230.26s\n",
      "🔍 Validation Phase...\n"
     ]
    },
    {
     "name": "stderr",
     "output_type": "stream",
     "text": [
      "Validation: 100%|██████████████████████████████| 42/42 [00:25<00:00,  1.62it/s, Loss=1.7217, Acc=0.2809]\n"
     ]
    },
    {
     "name": "stdout",
     "output_type": "stream",
     "text": [
      "✅ Validation completed in 25.86s\n",
      "\n",
      "📊 Epoch 23 Summary:\n",
      "│ Train Loss: 1.6794 | Train Acc: 0.2943\n",
      "│ Val Loss:   1.7217 | Val Acc:   0.2809\n",
      "│ Train Time: 230.26s | Val Time: 25.86s\n",
      "│ Total Epoch Time: 256.12s\n",
      "│ Best Val Acc: 0.2989 (Epoch 10)\n",
      "│ GPU Memory: 1.3GB / 6.7GB\n",
      "================================================================================\n",
      "\n",
      "📈 Epoch 24/50\n",
      "--------------------------------------------------\n",
      "🔄 Training Phase...\n"
     ]
    },
    {
     "name": "stderr",
     "output_type": "stream",
     "text": [
      "Training: 100%|██████████████████████████████| 162/162 [03:51<00:00,  1.43s/it, Loss=1.6840, Acc=0.3032]\n"
     ]
    },
    {
     "name": "stdout",
     "output_type": "stream",
     "text": [
      "✅ Training completed in 231.11s\n",
      "🔍 Validation Phase...\n"
     ]
    },
    {
     "name": "stderr",
     "output_type": "stream",
     "text": [
      "Validation: 100%|██████████████████████████████| 42/42 [00:25<00:00,  1.63it/s, Loss=1.7495, Acc=0.2590]\n"
     ]
    },
    {
     "name": "stdout",
     "output_type": "stream",
     "text": [
      "✅ Validation completed in 25.85s\n",
      "\n",
      "📊 Epoch 24 Summary:\n",
      "│ Train Loss: 1.6840 | Train Acc: 0.3032\n",
      "│ Val Loss:   1.7495 | Val Acc:   0.2590\n",
      "│ Train Time: 231.11s | Val Time: 25.85s\n",
      "│ Total Epoch Time: 256.96s\n",
      "│ Best Val Acc: 0.2989 (Epoch 10)\n",
      "│ GPU Memory: 1.3GB / 6.7GB\n",
      "================================================================================\n",
      "\n",
      "📈 Epoch 25/50\n",
      "--------------------------------------------------\n",
      "🔄 Training Phase...\n"
     ]
    },
    {
     "name": "stderr",
     "output_type": "stream",
     "text": [
      "Training: 100%|██████████████████████████████| 162/162 [03:49<00:00,  1.42s/it, Loss=1.6801, Acc=0.2941]\n"
     ]
    },
    {
     "name": "stdout",
     "output_type": "stream",
     "text": [
      "✅ Training completed in 230.00s\n",
      "🔍 Validation Phase...\n"
     ]
    },
    {
     "name": "stderr",
     "output_type": "stream",
     "text": [
      "Validation: 100%|██████████████████████████████| 42/42 [00:25<00:00,  1.62it/s, Loss=1.7314, Acc=0.2786]\n"
     ]
    },
    {
     "name": "stdout",
     "output_type": "stream",
     "text": [
      "✅ Validation completed in 25.97s\n",
      "\n",
      "📊 Epoch 25 Summary:\n",
      "│ Train Loss: 1.6801 | Train Acc: 0.2941\n",
      "│ Val Loss:   1.7314 | Val Acc:   0.2786\n",
      "│ Train Time: 230.00s | Val Time: 25.97s\n",
      "│ Total Epoch Time: 255.97s\n",
      "│ Best Val Acc: 0.2989 (Epoch 10)\n",
      "│ GPU Memory: 1.3GB / 6.7GB\n",
      "================================================================================\n",
      "\n",
      "📈 Epoch 26/50\n",
      "--------------------------------------------------\n",
      "🔄 Training Phase...\n"
     ]
    },
    {
     "name": "stderr",
     "output_type": "stream",
     "text": [
      "Training: 100%|██████████████████████████████| 162/162 [03:50<00:00,  1.42s/it, Loss=1.6878, Acc=0.2920]\n"
     ]
    },
    {
     "name": "stdout",
     "output_type": "stream",
     "text": [
      "✅ Training completed in 230.53s\n",
      "🔍 Validation Phase...\n"
     ]
    },
    {
     "name": "stderr",
     "output_type": "stream",
     "text": [
      "Validation: 100%|██████████████████████████████| 42/42 [00:26<00:00,  1.61it/s, Loss=1.7380, Acc=0.2786]\n"
     ]
    },
    {
     "name": "stdout",
     "output_type": "stream",
     "text": [
      "✅ Validation completed in 26.01s\n",
      "\n",
      "📊 Epoch 26 Summary:\n",
      "│ Train Loss: 1.6878 | Train Acc: 0.2920\n",
      "│ Val Loss:   1.7380 | Val Acc:   0.2786\n",
      "│ Train Time: 230.53s | Val Time: 26.01s\n",
      "│ Total Epoch Time: 256.54s\n",
      "│ Best Val Acc: 0.2989 (Epoch 10)\n",
      "│ GPU Memory: 1.3GB / 6.7GB\n",
      "================================================================================\n",
      "\n",
      "📈 Epoch 27/50\n",
      "--------------------------------------------------\n",
      "🔄 Training Phase...\n"
     ]
    },
    {
     "name": "stderr",
     "output_type": "stream",
     "text": [
      "Training: 100%|██████████████████████████████| 162/162 [03:50<00:00,  1.43s/it, Loss=1.6817, Acc=0.2920]\n"
     ]
    },
    {
     "name": "stdout",
     "output_type": "stream",
     "text": [
      "✅ Training completed in 231.00s\n",
      "🔍 Validation Phase...\n"
     ]
    },
    {
     "name": "stderr",
     "output_type": "stream",
     "text": [
      "Validation: 100%|██████████████████████████████| 42/42 [00:26<00:00,  1.61it/s, Loss=1.7090, Acc=0.3042]\n"
     ]
    },
    {
     "name": "stdout",
     "output_type": "stream",
     "text": [
      "✅ Validation completed in 26.09s\n",
      "🌟 New best Vision Transformer model found! Validation Accuracy: 0.3042\n",
      "\n",
      "📊 Epoch 27 Summary:\n",
      "│ Train Loss: 1.6817 | Train Acc: 0.2920\n",
      "│ Val Loss:   1.7090 | Val Acc:   0.3042\n",
      "│ Train Time: 231.00s | Val Time: 26.09s\n",
      "│ Total Epoch Time: 257.10s\n",
      "│ Best Val Acc: 0.3042 (Epoch 27)\n",
      "│ GPU Memory: 1.3GB / 6.7GB\n",
      "================================================================================\n",
      "\n",
      "📈 Epoch 28/50\n",
      "--------------------------------------------------\n",
      "🔄 Training Phase...\n"
     ]
    },
    {
     "name": "stderr",
     "output_type": "stream",
     "text": [
      "Training: 100%|██████████████████████████████| 162/162 [03:50<00:00,  1.42s/it, Loss=1.6839, Acc=0.2916]\n"
     ]
    },
    {
     "name": "stdout",
     "output_type": "stream",
     "text": [
      "✅ Training completed in 230.84s\n",
      "🔍 Validation Phase...\n"
     ]
    },
    {
     "name": "stderr",
     "output_type": "stream",
     "text": [
      "Validation: 100%|██████████████████████████████| 42/42 [00:25<00:00,  1.63it/s, Loss=1.7127, Acc=0.2771]\n"
     ]
    },
    {
     "name": "stdout",
     "output_type": "stream",
     "text": [
      "✅ Validation completed in 25.84s\n",
      "\n",
      "📊 Epoch 28 Summary:\n",
      "│ Train Loss: 1.6839 | Train Acc: 0.2916\n",
      "│ Val Loss:   1.7127 | Val Acc:   0.2771\n",
      "│ Train Time: 230.84s | Val Time: 25.84s\n",
      "│ Total Epoch Time: 256.68s\n",
      "│ Best Val Acc: 0.3042 (Epoch 27)\n",
      "│ GPU Memory: 1.3GB / 6.7GB\n",
      "================================================================================\n",
      "\n",
      "📈 Epoch 29/50\n",
      "--------------------------------------------------\n",
      "🔄 Training Phase...\n"
     ]
    },
    {
     "name": "stderr",
     "output_type": "stream",
     "text": [
      "Training: 100%|██████████████████████████████| 162/162 [03:51<00:00,  1.43s/it, Loss=1.6816, Acc=0.3003]\n"
     ]
    },
    {
     "name": "stdout",
     "output_type": "stream",
     "text": [
      "✅ Training completed in 231.69s\n",
      "🔍 Validation Phase...\n"
     ]
    },
    {
     "name": "stderr",
     "output_type": "stream",
     "text": [
      "Validation: 100%|██████████████████████████████| 42/42 [00:26<00:00,  1.60it/s, Loss=1.7528, Acc=0.2530]\n"
     ]
    },
    {
     "name": "stdout",
     "output_type": "stream",
     "text": [
      "✅ Validation completed in 26.18s\n",
      "\n",
      "📊 Epoch 29 Summary:\n",
      "│ Train Loss: 1.6816 | Train Acc: 0.3003\n",
      "│ Val Loss:   1.7528 | Val Acc:   0.2530\n",
      "│ Train Time: 231.69s | Val Time: 26.18s\n",
      "│ Total Epoch Time: 257.88s\n",
      "│ Best Val Acc: 0.3042 (Epoch 27)\n",
      "│ GPU Memory: 1.3GB / 6.7GB\n",
      "================================================================================\n",
      "\n",
      "📈 Epoch 30/50\n",
      "--------------------------------------------------\n",
      "🔄 Training Phase...\n"
     ]
    },
    {
     "name": "stderr",
     "output_type": "stream",
     "text": [
      "Training: 100%|██████████████████████████████| 162/162 [03:50<00:00,  1.42s/it, Loss=1.7006, Acc=0.2891]\n"
     ]
    },
    {
     "name": "stdout",
     "output_type": "stream",
     "text": [
      "✅ Training completed in 230.81s\n",
      "🔍 Validation Phase...\n"
     ]
    },
    {
     "name": "stderr",
     "output_type": "stream",
     "text": [
      "Validation: 100%|██████████████████████████████| 42/42 [00:25<00:00,  1.62it/s, Loss=1.7153, Acc=0.2764]\n"
     ]
    },
    {
     "name": "stdout",
     "output_type": "stream",
     "text": [
      "✅ Validation completed in 25.94s\n",
      "\n",
      "📊 Epoch 30 Summary:\n",
      "│ Train Loss: 1.7006 | Train Acc: 0.2891\n",
      "│ Val Loss:   1.7153 | Val Acc:   0.2764\n",
      "│ Train Time: 230.81s | Val Time: 25.94s\n",
      "│ Total Epoch Time: 256.75s\n",
      "│ Best Val Acc: 0.3042 (Epoch 27)\n",
      "│ GPU Memory: 1.3GB / 6.7GB\n",
      "================================================================================\n",
      "\n",
      "📈 Epoch 31/50\n",
      "--------------------------------------------------\n",
      "🔄 Training Phase...\n"
     ]
    },
    {
     "name": "stderr",
     "output_type": "stream",
     "text": [
      "Training: 100%|██████████████████████████████| 162/162 [03:50<00:00,  1.42s/it, Loss=1.6872, Acc=0.2990]\n"
     ]
    },
    {
     "name": "stdout",
     "output_type": "stream",
     "text": [
      "✅ Training completed in 230.84s\n",
      "🔍 Validation Phase...\n"
     ]
    },
    {
     "name": "stderr",
     "output_type": "stream",
     "text": [
      "Validation: 100%|██████████████████████████████| 42/42 [00:26<00:00,  1.61it/s, Loss=1.7182, Acc=0.3095]\n"
     ]
    },
    {
     "name": "stdout",
     "output_type": "stream",
     "text": [
      "✅ Validation completed in 26.05s\n",
      "🌟 New best Vision Transformer model found! Validation Accuracy: 0.3095\n",
      "\n",
      "📊 Epoch 31 Summary:\n",
      "│ Train Loss: 1.6872 | Train Acc: 0.2990\n",
      "│ Val Loss:   1.7182 | Val Acc:   0.3095\n",
      "│ Train Time: 230.84s | Val Time: 26.05s\n",
      "│ Total Epoch Time: 256.89s\n",
      "│ Best Val Acc: 0.3095 (Epoch 31)\n",
      "│ GPU Memory: 1.3GB / 6.7GB\n",
      "================================================================================\n",
      "\n",
      "📈 Epoch 32/50\n",
      "--------------------------------------------------\n",
      "🔄 Training Phase...\n"
     ]
    },
    {
     "name": "stderr",
     "output_type": "stream",
     "text": [
      "Training: 100%|██████████████████████████████| 162/162 [03:51<00:00,  1.43s/it, Loss=1.6900, Acc=0.2970]\n"
     ]
    },
    {
     "name": "stdout",
     "output_type": "stream",
     "text": [
      "✅ Training completed in 231.20s\n",
      "🔍 Validation Phase...\n"
     ]
    },
    {
     "name": "stderr",
     "output_type": "stream",
     "text": [
      "Validation: 100%|██████████████████████████████| 42/42 [00:26<00:00,  1.61it/s, Loss=1.7113, Acc=0.2575]\n"
     ]
    },
    {
     "name": "stdout",
     "output_type": "stream",
     "text": [
      "✅ Validation completed in 26.05s\n",
      "\n",
      "📊 Epoch 32 Summary:\n",
      "│ Train Loss: 1.6900 | Train Acc: 0.2970\n",
      "│ Val Loss:   1.7113 | Val Acc:   0.2575\n",
      "│ Train Time: 231.20s | Val Time: 26.05s\n",
      "│ Total Epoch Time: 257.26s\n",
      "│ Best Val Acc: 0.3095 (Epoch 31)\n",
      "│ GPU Memory: 1.3GB / 6.7GB\n",
      "================================================================================\n",
      "\n",
      "📈 Epoch 33/50\n",
      "--------------------------------------------------\n",
      "🔄 Training Phase...\n"
     ]
    },
    {
     "name": "stderr",
     "output_type": "stream",
     "text": [
      "Training: 100%|██████████████████████████████| 162/162 [03:51<00:00,  1.43s/it, Loss=1.6857, Acc=0.3092]\n"
     ]
    },
    {
     "name": "stdout",
     "output_type": "stream",
     "text": [
      "✅ Training completed in 231.28s\n",
      "🔍 Validation Phase...\n"
     ]
    },
    {
     "name": "stderr",
     "output_type": "stream",
     "text": [
      "Validation: 100%|██████████████████████████████| 42/42 [00:26<00:00,  1.61it/s, Loss=1.7033, Acc=0.2869]\n"
     ]
    },
    {
     "name": "stdout",
     "output_type": "stream",
     "text": [
      "✅ Validation completed in 26.05s\n",
      "\n",
      "📊 Epoch 33 Summary:\n",
      "│ Train Loss: 1.6857 | Train Acc: 0.3092\n",
      "│ Val Loss:   1.7033 | Val Acc:   0.2869\n",
      "│ Train Time: 231.28s | Val Time: 26.05s\n",
      "│ Total Epoch Time: 257.33s\n",
      "│ Best Val Acc: 0.3095 (Epoch 31)\n",
      "│ GPU Memory: 1.3GB / 6.7GB\n",
      "================================================================================\n",
      "\n",
      "📈 Epoch 34/50\n",
      "--------------------------------------------------\n",
      "🔄 Training Phase...\n"
     ]
    },
    {
     "name": "stderr",
     "output_type": "stream",
     "text": [
      "Training: 100%|██████████████████████████████| 162/162 [03:50<00:00,  1.43s/it, Loss=1.6876, Acc=0.2970]\n"
     ]
    },
    {
     "name": "stdout",
     "output_type": "stream",
     "text": [
      "✅ Training completed in 230.93s\n",
      "🔍 Validation Phase...\n"
     ]
    },
    {
     "name": "stderr",
     "output_type": "stream",
     "text": [
      "Validation: 100%|██████████████████████████████| 42/42 [00:25<00:00,  1.62it/s, Loss=1.8039, Acc=0.2447]\n"
     ]
    },
    {
     "name": "stdout",
     "output_type": "stream",
     "text": [
      "✅ Validation completed in 25.93s\n",
      "\n",
      "📊 Epoch 34 Summary:\n",
      "│ Train Loss: 1.6876 | Train Acc: 0.2970\n",
      "│ Val Loss:   1.8039 | Val Acc:   0.2447\n",
      "│ Train Time: 230.93s | Val Time: 25.93s\n",
      "│ Total Epoch Time: 256.86s\n",
      "│ Best Val Acc: 0.3095 (Epoch 31)\n",
      "│ GPU Memory: 1.3GB / 6.7GB\n",
      "================================================================================\n",
      "\n",
      "📈 Epoch 35/50\n",
      "--------------------------------------------------\n",
      "🔄 Training Phase...\n"
     ]
    },
    {
     "name": "stderr",
     "output_type": "stream",
     "text": [
      "Training: 100%|██████████████████████████████| 162/162 [03:51<00:00,  1.43s/it, Loss=1.6978, Acc=0.2860]\n"
     ]
    },
    {
     "name": "stdout",
     "output_type": "stream",
     "text": [
      "✅ Training completed in 231.04s\n",
      "🔍 Validation Phase...\n"
     ]
    },
    {
     "name": "stderr",
     "output_type": "stream",
     "text": [
      "Validation: 100%|██████████████████████████████| 42/42 [00:25<00:00,  1.62it/s, Loss=1.7324, Acc=0.2854]\n"
     ]
    },
    {
     "name": "stdout",
     "output_type": "stream",
     "text": [
      "✅ Validation completed in 25.91s\n",
      "\n",
      "📊 Epoch 35 Summary:\n",
      "│ Train Loss: 1.6978 | Train Acc: 0.2860\n",
      "│ Val Loss:   1.7324 | Val Acc:   0.2854\n",
      "│ Train Time: 231.04s | Val Time: 25.91s\n",
      "│ Total Epoch Time: 256.95s\n",
      "│ Best Val Acc: 0.3095 (Epoch 31)\n",
      "│ GPU Memory: 1.3GB / 6.7GB\n",
      "================================================================================\n",
      "\n",
      "📈 Epoch 36/50\n",
      "--------------------------------------------------\n",
      "🔄 Training Phase...\n"
     ]
    },
    {
     "name": "stderr",
     "output_type": "stream",
     "text": [
      "Training: 100%|██████████████████████████████| 162/162 [03:51<00:00,  1.43s/it, Loss=1.6969, Acc=0.2962]\n"
     ]
    },
    {
     "name": "stdout",
     "output_type": "stream",
     "text": [
      "✅ Training completed in 231.26s\n",
      "🔍 Validation Phase...\n"
     ]
    },
    {
     "name": "stderr",
     "output_type": "stream",
     "text": [
      "Validation: 100%|██████████████████████████████| 42/42 [00:25<00:00,  1.62it/s, Loss=1.7136, Acc=0.2824]\n"
     ]
    },
    {
     "name": "stdout",
     "output_type": "stream",
     "text": [
      "✅ Validation completed in 25.97s\n",
      "\n",
      "📊 Epoch 36 Summary:\n",
      "│ Train Loss: 1.6969 | Train Acc: 0.2962\n",
      "│ Val Loss:   1.7136 | Val Acc:   0.2824\n",
      "│ Train Time: 231.26s | Val Time: 25.97s\n",
      "│ Total Epoch Time: 257.23s\n",
      "│ Best Val Acc: 0.3095 (Epoch 31)\n",
      "│ GPU Memory: 1.3GB / 6.7GB\n",
      "================================================================================\n",
      "\n",
      "📈 Epoch 37/50\n",
      "--------------------------------------------------\n",
      "🔄 Training Phase...\n"
     ]
    },
    {
     "name": "stderr",
     "output_type": "stream",
     "text": [
      "Training: 100%|██████████████████████████████| 162/162 [03:51<00:00,  1.43s/it, Loss=1.6994, Acc=0.2870]\n"
     ]
    },
    {
     "name": "stdout",
     "output_type": "stream",
     "text": [
      "✅ Training completed in 231.83s\n",
      "🔍 Validation Phase...\n"
     ]
    },
    {
     "name": "stderr",
     "output_type": "stream",
     "text": [
      "Validation: 100%|██████████████████████████████| 42/42 [00:25<00:00,  1.62it/s, Loss=1.7177, Acc=0.2575]\n"
     ]
    },
    {
     "name": "stdout",
     "output_type": "stream",
     "text": [
      "✅ Validation completed in 25.96s\n",
      "\n",
      "📊 Epoch 37 Summary:\n",
      "│ Train Loss: 1.6994 | Train Acc: 0.2870\n",
      "│ Val Loss:   1.7177 | Val Acc:   0.2575\n",
      "│ Train Time: 231.83s | Val Time: 25.96s\n",
      "│ Total Epoch Time: 257.79s\n",
      "│ Best Val Acc: 0.3095 (Epoch 31)\n",
      "│ GPU Memory: 1.3GB / 6.7GB\n",
      "================================================================================\n",
      "\n",
      "📈 Epoch 38/50\n",
      "--------------------------------------------------\n",
      "🔄 Training Phase...\n"
     ]
    },
    {
     "name": "stderr",
     "output_type": "stream",
     "text": [
      "Training: 100%|██████████████████████████████| 162/162 [03:51<00:00,  1.43s/it, Loss=1.7058, Acc=0.2951]\n"
     ]
    },
    {
     "name": "stdout",
     "output_type": "stream",
     "text": [
      "✅ Training completed in 231.14s\n",
      "🔍 Validation Phase...\n"
     ]
    },
    {
     "name": "stderr",
     "output_type": "stream",
     "text": [
      "Validation: 100%|██████████████████████████████| 42/42 [00:25<00:00,  1.62it/s, Loss=1.7895, Acc=0.2500]\n"
     ]
    },
    {
     "name": "stdout",
     "output_type": "stream",
     "text": [
      "✅ Validation completed in 25.94s\n",
      "\n",
      "📊 Epoch 38 Summary:\n",
      "│ Train Loss: 1.7058 | Train Acc: 0.2951\n",
      "│ Val Loss:   1.7895 | Val Acc:   0.2500\n",
      "│ Train Time: 231.14s | Val Time: 25.94s\n",
      "│ Total Epoch Time: 257.09s\n",
      "│ Best Val Acc: 0.3095 (Epoch 31)\n",
      "│ GPU Memory: 1.3GB / 6.7GB\n",
      "================================================================================\n",
      "\n",
      "📈 Epoch 39/50\n",
      "--------------------------------------------------\n",
      "🔄 Training Phase...\n"
     ]
    },
    {
     "name": "stderr",
     "output_type": "stream",
     "text": [
      "Training: 100%|██████████████████████████████| 162/162 [03:50<00:00,  1.42s/it, Loss=1.6976, Acc=0.3003]\n"
     ]
    },
    {
     "name": "stdout",
     "output_type": "stream",
     "text": [
      "✅ Training completed in 230.81s\n",
      "🔍 Validation Phase...\n"
     ]
    },
    {
     "name": "stderr",
     "output_type": "stream",
     "text": [
      "Validation: 100%|██████████████████████████████| 42/42 [00:25<00:00,  1.62it/s, Loss=1.7565, Acc=0.2327]\n"
     ]
    },
    {
     "name": "stdout",
     "output_type": "stream",
     "text": [
      "✅ Validation completed in 25.97s\n",
      "\n",
      "📊 Epoch 39 Summary:\n",
      "│ Train Loss: 1.6976 | Train Acc: 0.3003\n",
      "│ Val Loss:   1.7565 | Val Acc:   0.2327\n",
      "│ Train Time: 230.81s | Val Time: 25.97s\n",
      "│ Total Epoch Time: 256.79s\n",
      "│ Best Val Acc: 0.3095 (Epoch 31)\n",
      "│ GPU Memory: 1.3GB / 6.7GB\n",
      "================================================================================\n",
      "\n",
      "📈 Epoch 40/50\n",
      "--------------------------------------------------\n",
      "🔄 Training Phase...\n"
     ]
    },
    {
     "name": "stderr",
     "output_type": "stream",
     "text": [
      "Training: 100%|██████████████████████████████| 162/162 [03:51<00:00,  1.43s/it, Loss=1.7157, Acc=0.2831]\n"
     ]
    },
    {
     "name": "stdout",
     "output_type": "stream",
     "text": [
      "✅ Training completed in 231.04s\n",
      "🔍 Validation Phase...\n"
     ]
    },
    {
     "name": "stderr",
     "output_type": "stream",
     "text": [
      "Validation: 100%|██████████████████████████████| 42/42 [00:26<00:00,  1.61it/s, Loss=1.7075, Acc=0.2854]\n"
     ]
    },
    {
     "name": "stdout",
     "output_type": "stream",
     "text": [
      "✅ Validation completed in 26.12s\n",
      "\n",
      "📊 Epoch 40 Summary:\n",
      "│ Train Loss: 1.7157 | Train Acc: 0.2831\n",
      "│ Val Loss:   1.7075 | Val Acc:   0.2854\n",
      "│ Train Time: 231.04s | Val Time: 26.12s\n",
      "│ Total Epoch Time: 257.16s\n",
      "│ Best Val Acc: 0.3095 (Epoch 31)\n",
      "│ GPU Memory: 1.3GB / 6.7GB\n",
      "================================================================================\n",
      "\n",
      "📈 Epoch 41/50\n",
      "--------------------------------------------------\n",
      "🔄 Training Phase...\n"
     ]
    },
    {
     "name": "stderr",
     "output_type": "stream",
     "text": [
      "Training: 100%|██████████████████████████████| 162/162 [03:52<00:00,  1.44s/it, Loss=1.7013, Acc=0.2959]\n"
     ]
    },
    {
     "name": "stdout",
     "output_type": "stream",
     "text": [
      "✅ Training completed in 232.78s\n",
      "🔍 Validation Phase...\n"
     ]
    },
    {
     "name": "stderr",
     "output_type": "stream",
     "text": [
      "Validation: 100%|██████████████████████████████| 42/42 [00:25<00:00,  1.62it/s, Loss=1.7200, Acc=0.2831]\n"
     ]
    },
    {
     "name": "stdout",
     "output_type": "stream",
     "text": [
      "✅ Validation completed in 25.87s\n",
      "\n",
      "📊 Epoch 41 Summary:\n",
      "│ Train Loss: 1.7013 | Train Acc: 0.2959\n",
      "│ Val Loss:   1.7200 | Val Acc:   0.2831\n",
      "│ Train Time: 232.78s | Val Time: 25.87s\n",
      "│ Total Epoch Time: 258.65s\n",
      "│ Best Val Acc: 0.3095 (Epoch 31)\n",
      "│ GPU Memory: 1.3GB / 6.7GB\n",
      "================================================================================\n",
      "\n",
      "📈 Epoch 42/50\n",
      "--------------------------------------------------\n",
      "🔄 Training Phase...\n"
     ]
    },
    {
     "name": "stderr",
     "output_type": "stream",
     "text": [
      "Training: 100%|██████████████████████████████| 162/162 [03:50<00:00,  1.42s/it, Loss=1.7039, Acc=0.2848]\n"
     ]
    },
    {
     "name": "stdout",
     "output_type": "stream",
     "text": [
      "✅ Training completed in 230.61s\n",
      "🔍 Validation Phase...\n"
     ]
    },
    {
     "name": "stderr",
     "output_type": "stream",
     "text": [
      "Validation: 100%|██████████████████████████████| 42/42 [00:25<00:00,  1.62it/s, Loss=1.7498, Acc=0.2801]\n"
     ]
    },
    {
     "name": "stdout",
     "output_type": "stream",
     "text": [
      "✅ Validation completed in 25.91s\n",
      "\n",
      "📊 Epoch 42 Summary:\n",
      "│ Train Loss: 1.7039 | Train Acc: 0.2848\n",
      "│ Val Loss:   1.7498 | Val Acc:   0.2801\n",
      "│ Train Time: 230.61s | Val Time: 25.91s\n",
      "│ Total Epoch Time: 256.53s\n",
      "│ Best Val Acc: 0.3095 (Epoch 31)\n",
      "│ GPU Memory: 1.3GB / 6.7GB\n",
      "================================================================================\n",
      "\n",
      "📈 Epoch 43/50\n",
      "--------------------------------------------------\n",
      "🔄 Training Phase...\n"
     ]
    },
    {
     "name": "stderr",
     "output_type": "stream",
     "text": [
      "Training: 100%|██████████████████████████████| 162/162 [03:51<00:00,  1.43s/it, Loss=1.7119, Acc=0.2804]\n"
     ]
    },
    {
     "name": "stdout",
     "output_type": "stream",
     "text": [
      "✅ Training completed in 231.67s\n",
      "🔍 Validation Phase...\n"
     ]
    },
    {
     "name": "stderr",
     "output_type": "stream",
     "text": [
      "Validation: 100%|██████████████████████████████| 42/42 [00:26<00:00,  1.60it/s, Loss=1.7270, Acc=0.2929]\n"
     ]
    },
    {
     "name": "stdout",
     "output_type": "stream",
     "text": [
      "✅ Validation completed in 26.28s\n",
      "\n",
      "📊 Epoch 43 Summary:\n",
      "│ Train Loss: 1.7119 | Train Acc: 0.2804\n",
      "│ Val Loss:   1.7270 | Val Acc:   0.2929\n",
      "│ Train Time: 231.67s | Val Time: 26.28s\n",
      "│ Total Epoch Time: 257.96s\n",
      "│ Best Val Acc: 0.3095 (Epoch 31)\n",
      "│ GPU Memory: 1.3GB / 6.7GB\n",
      "================================================================================\n",
      "\n",
      "📈 Epoch 44/50\n",
      "--------------------------------------------------\n",
      "🔄 Training Phase...\n"
     ]
    },
    {
     "name": "stderr",
     "output_type": "stream",
     "text": [
      "Training: 100%|██████████████████████████████| 162/162 [03:52<00:00,  1.43s/it, Loss=1.7173, Acc=0.2854]\n"
     ]
    },
    {
     "name": "stdout",
     "output_type": "stream",
     "text": [
      "✅ Training completed in 232.04s\n",
      "🔍 Validation Phase...\n"
     ]
    },
    {
     "name": "stderr",
     "output_type": "stream",
     "text": [
      "Validation: 100%|██████████████████████████████| 42/42 [00:25<00:00,  1.62it/s, Loss=1.7377, Acc=0.2779]\n"
     ]
    },
    {
     "name": "stdout",
     "output_type": "stream",
     "text": [
      "✅ Validation completed in 25.93s\n",
      "\n",
      "📊 Epoch 44 Summary:\n",
      "│ Train Loss: 1.7173 | Train Acc: 0.2854\n",
      "│ Val Loss:   1.7377 | Val Acc:   0.2779\n",
      "│ Train Time: 232.04s | Val Time: 25.93s\n",
      "│ Total Epoch Time: 257.97s\n",
      "│ Best Val Acc: 0.3095 (Epoch 31)\n",
      "│ GPU Memory: 1.3GB / 6.7GB\n",
      "================================================================================\n",
      "\n",
      "📈 Epoch 45/50\n",
      "--------------------------------------------------\n",
      "🔄 Training Phase...\n"
     ]
    },
    {
     "name": "stderr",
     "output_type": "stream",
     "text": [
      "Training: 100%|██████████████████████████████| 162/162 [03:51<00:00,  1.43s/it, Loss=1.7269, Acc=0.2846]\n"
     ]
    },
    {
     "name": "stdout",
     "output_type": "stream",
     "text": [
      "✅ Training completed in 231.81s\n",
      "🔍 Validation Phase...\n"
     ]
    },
    {
     "name": "stderr",
     "output_type": "stream",
     "text": [
      "Validation: 100%|██████████████████████████████| 42/42 [00:26<00:00,  1.61it/s, Loss=1.7504, Acc=0.2297]\n"
     ]
    },
    {
     "name": "stdout",
     "output_type": "stream",
     "text": [
      "✅ Validation completed in 26.03s\n",
      "\n",
      "📊 Epoch 45 Summary:\n",
      "│ Train Loss: 1.7269 | Train Acc: 0.2846\n",
      "│ Val Loss:   1.7504 | Val Acc:   0.2297\n",
      "│ Train Time: 231.81s | Val Time: 26.03s\n",
      "│ Total Epoch Time: 257.84s\n",
      "│ Best Val Acc: 0.3095 (Epoch 31)\n",
      "│ GPU Memory: 1.3GB / 6.7GB\n",
      "================================================================================\n",
      "\n",
      "📈 Epoch 46/50\n",
      "--------------------------------------------------\n",
      "🔄 Training Phase...\n"
     ]
    },
    {
     "name": "stderr",
     "output_type": "stream",
     "text": [
      "Training: 100%|██████████████████████████████| 162/162 [03:50<00:00,  1.43s/it, Loss=1.7364, Acc=0.2761]\n"
     ]
    },
    {
     "name": "stdout",
     "output_type": "stream",
     "text": [
      "✅ Training completed in 230.88s\n",
      "🔍 Validation Phase...\n"
     ]
    },
    {
     "name": "stderr",
     "output_type": "stream",
     "text": [
      "Validation: 100%|██████████████████████████████| 42/42 [00:26<00:00,  1.61it/s, Loss=1.8048, Acc=0.2455]\n"
     ]
    },
    {
     "name": "stdout",
     "output_type": "stream",
     "text": [
      "✅ Validation completed in 26.13s\n",
      "\n",
      "📊 Epoch 46 Summary:\n",
      "│ Train Loss: 1.7364 | Train Acc: 0.2761\n",
      "│ Val Loss:   1.8048 | Val Acc:   0.2455\n",
      "│ Train Time: 230.88s | Val Time: 26.13s\n",
      "│ Total Epoch Time: 257.01s\n",
      "│ Best Val Acc: 0.3095 (Epoch 31)\n",
      "│ GPU Memory: 1.3GB / 6.7GB\n",
      "================================================================================\n",
      "\n",
      "📈 Epoch 47/50\n",
      "--------------------------------------------------\n",
      "🔄 Training Phase...\n"
     ]
    },
    {
     "name": "stderr",
     "output_type": "stream",
     "text": [
      "Training: 100%|██████████████████████████████| 162/162 [03:50<00:00,  1.42s/it, Loss=1.7312, Acc=0.2790]\n"
     ]
    },
    {
     "name": "stdout",
     "output_type": "stream",
     "text": [
      "✅ Training completed in 230.83s\n",
      "🔍 Validation Phase...\n"
     ]
    },
    {
     "name": "stderr",
     "output_type": "stream",
     "text": [
      "Validation: 100%|██████████████████████████████| 42/42 [00:26<00:00,  1.61it/s, Loss=1.7412, Acc=0.2071]\n"
     ]
    },
    {
     "name": "stdout",
     "output_type": "stream",
     "text": [
      "✅ Validation completed in 26.13s\n",
      "\n",
      "📊 Epoch 47 Summary:\n",
      "│ Train Loss: 1.7312 | Train Acc: 0.2790\n",
      "│ Val Loss:   1.7412 | Val Acc:   0.2071\n",
      "│ Train Time: 230.83s | Val Time: 26.13s\n",
      "│ Total Epoch Time: 256.97s\n",
      "│ Best Val Acc: 0.3095 (Epoch 31)\n",
      "│ GPU Memory: 1.3GB / 6.7GB\n",
      "================================================================================\n",
      "\n",
      "📈 Epoch 48/50\n",
      "--------------------------------------------------\n",
      "🔄 Training Phase...\n"
     ]
    },
    {
     "name": "stderr",
     "output_type": "stream",
     "text": [
      "Training: 100%|██████████████████████████████| 162/162 [03:51<00:00,  1.43s/it, Loss=1.7231, Acc=0.2821]\n"
     ]
    },
    {
     "name": "stdout",
     "output_type": "stream",
     "text": [
      "✅ Training completed in 231.70s\n",
      "🔍 Validation Phase...\n"
     ]
    },
    {
     "name": "stderr",
     "output_type": "stream",
     "text": [
      "Validation: 100%|██████████████████████████████| 42/42 [00:26<00:00,  1.61it/s, Loss=1.7341, Acc=0.2395]\n"
     ]
    },
    {
     "name": "stdout",
     "output_type": "stream",
     "text": [
      "✅ Validation completed in 26.07s\n",
      "\n",
      "📊 Epoch 48 Summary:\n",
      "│ Train Loss: 1.7231 | Train Acc: 0.2821\n",
      "│ Val Loss:   1.7341 | Val Acc:   0.2395\n",
      "│ Train Time: 231.70s | Val Time: 26.07s\n",
      "│ Total Epoch Time: 257.78s\n",
      "│ Best Val Acc: 0.3095 (Epoch 31)\n",
      "│ GPU Memory: 1.3GB / 6.7GB\n",
      "================================================================================\n",
      "\n",
      "📈 Epoch 49/50\n",
      "--------------------------------------------------\n",
      "🔄 Training Phase...\n"
     ]
    },
    {
     "name": "stderr",
     "output_type": "stream",
     "text": [
      "Training: 100%|██████████████████████████████| 162/162 [03:52<00:00,  1.43s/it, Loss=1.7238, Acc=0.2846]\n"
     ]
    },
    {
     "name": "stdout",
     "output_type": "stream",
     "text": [
      "✅ Training completed in 232.30s\n",
      "🔍 Validation Phase...\n"
     ]
    },
    {
     "name": "stderr",
     "output_type": "stream",
     "text": [
      "Validation: 100%|██████████████████████████████| 42/42 [00:25<00:00,  1.62it/s, Loss=1.7702, Acc=0.2289]\n"
     ]
    },
    {
     "name": "stdout",
     "output_type": "stream",
     "text": [
      "✅ Validation completed in 25.91s\n",
      "\n",
      "📊 Epoch 49 Summary:\n",
      "│ Train Loss: 1.7238 | Train Acc: 0.2846\n",
      "│ Val Loss:   1.7702 | Val Acc:   0.2289\n",
      "│ Train Time: 232.30s | Val Time: 25.91s\n",
      "│ Total Epoch Time: 258.22s\n",
      "│ Best Val Acc: 0.3095 (Epoch 31)\n",
      "│ GPU Memory: 1.3GB / 6.7GB\n",
      "================================================================================\n",
      "\n",
      "📈 Epoch 50/50\n",
      "--------------------------------------------------\n",
      "🔄 Training Phase...\n"
     ]
    },
    {
     "name": "stderr",
     "output_type": "stream",
     "text": [
      "Training: 100%|██████████████████████████████| 162/162 [03:50<00:00,  1.42s/it, Loss=1.7259, Acc=0.2839]\n"
     ]
    },
    {
     "name": "stdout",
     "output_type": "stream",
     "text": [
      "✅ Training completed in 230.59s\n",
      "🔍 Validation Phase...\n"
     ]
    },
    {
     "name": "stderr",
     "output_type": "stream",
     "text": [
      "Validation: 100%|██████████████████████████████| 42/42 [00:25<00:00,  1.62it/s, Loss=1.7402, Acc=0.2726]\n"
     ]
    },
    {
     "name": "stdout",
     "output_type": "stream",
     "text": [
      "✅ Validation completed in 25.98s\n",
      "\n",
      "📊 Epoch 50 Summary:\n",
      "│ Train Loss: 1.7259 | Train Acc: 0.2839\n",
      "│ Val Loss:   1.7402 | Val Acc:   0.2726\n",
      "│ Train Time: 230.59s | Val Time: 25.98s\n",
      "│ Total Epoch Time: 256.57s\n",
      "│ Best Val Acc: 0.3095 (Epoch 31)\n",
      "│ GPU Memory: 1.3GB / 6.7GB\n",
      "================================================================================\n",
      "\n",
      "💾 Best Vision Transformer model saved as 'best_vit_model.pth'\n",
      "📊 Best model stats:\n",
      "│ Best Epoch: 31\n",
      "│ Best Val Acc: 0.3095\n",
      "\n",
      "💾 Vision Transformer training history saved to 'vit_training_history.csv'\n",
      "\n",
      "🎉 Vision Transformer Training Complete!\n",
      "Total Training Time: 12874.29s (214.6 minutes)\n",
      "Average Epoch Time: 257.49s\n",
      "\n",
      "⏱️  Epoch Timing Breakdown:\n",
      "│ Epoch 1: 280.35s\n",
      "│ Epoch 2: 257.23s\n",
      "│ Epoch 3: 256.96s\n",
      "│ Epoch 4: 256.53s\n",
      "│ Epoch 5: 257.40s\n",
      "│ Epoch 6: 257.96s\n",
      "│ Epoch 7: 256.58s\n",
      "│ Epoch 8: 256.81s\n",
      "│ Epoch 9: 257.17s\n",
      "│ Epoch 10: 256.01s\n",
      "│ Epoch 11: 256.03s\n",
      "│ Epoch 12: 256.33s\n",
      "│ Epoch 13: 256.40s\n",
      "│ Epoch 14: 257.57s\n",
      "│ Epoch 15: 258.24s\n",
      "│ Epoch 16: 258.72s\n",
      "│ Epoch 17: 257.04s\n",
      "│ Epoch 18: 256.11s\n",
      "│ Epoch 19: 255.35s\n",
      "│ Epoch 20: 256.28s\n",
      "│ Epoch 21: 256.23s\n",
      "│ Epoch 22: 256.10s\n",
      "│ Epoch 23: 256.12s\n",
      "│ Epoch 24: 256.96s\n",
      "│ Epoch 25: 255.97s\n",
      "│ Epoch 26: 256.54s\n",
      "│ Epoch 27: 257.10s\n",
      "│ Epoch 28: 256.68s\n",
      "│ Epoch 29: 257.88s\n",
      "│ Epoch 30: 256.75s\n",
      "│ Epoch 31: 256.89s\n",
      "│ Epoch 32: 257.26s\n",
      "│ Epoch 33: 257.33s\n",
      "│ Epoch 34: 256.86s\n",
      "│ Epoch 35: 256.95s\n",
      "│ Epoch 36: 257.23s\n",
      "│ Epoch 37: 257.79s\n",
      "│ Epoch 38: 257.09s\n",
      "│ Epoch 39: 256.79s\n",
      "│ Epoch 40: 257.16s\n",
      "│ Epoch 41: 258.65s\n",
      "│ Epoch 42: 256.53s\n",
      "│ Epoch 43: 257.96s\n",
      "│ Epoch 44: 257.97s\n",
      "│ Epoch 45: 257.84s\n",
      "│ Epoch 46: 257.01s\n",
      "│ Epoch 47: 256.97s\n",
      "│ Epoch 48: 257.78s\n",
      "│ Epoch 49: 258.22s\n",
      "│ Epoch 50: 256.57s\n",
      "\n",
      "🧪 Loading Best Vision Transformer Model for Testing...\n",
      "✅ Best Vision Transformer model from epoch 31 loaded successfully!\n"
     ]
    },
    {
     "name": "stderr",
     "output_type": "stream",
     "text": [
      "Testing Vision Transformer: 100%|██████████████████████████████| 52/52 [00:42<00:00,  1.23it/s]\n",
      "/usr/local/lib/python3.11/dist-packages/sklearn/metrics/_classification.py:1344: UndefinedMetricWarning: Precision and F-score are ill-defined and being set to 0.0 in labels with no predicted samples. Use `zero_division` parameter to control this behavior.\n",
      "  _warn_prf(average, modifier, msg_start, len(result))\n",
      "/usr/local/lib/python3.11/dist-packages/sklearn/metrics/_classification.py:1344: UndefinedMetricWarning: Precision and F-score are ill-defined and being set to 0.0 in labels with no predicted samples. Use `zero_division` parameter to control this behavior.\n",
      "  _warn_prf(average, modifier, msg_start, len(result))\n",
      "/usr/local/lib/python3.11/dist-packages/sklearn/metrics/_classification.py:1344: UndefinedMetricWarning: Precision and F-score are ill-defined and being set to 0.0 in labels with no predicted samples. Use `zero_division` parameter to control this behavior.\n",
      "  _warn_prf(average, modifier, msg_start, len(result))\n"
     ]
    },
    {
     "name": "stdout",
     "output_type": "stream",
     "text": [
      "✅ Vision Transformer Testing completed in 42.36s\n",
      "\n",
      "📋 Vision Transformer Classification Report:\n",
      "              precision    recall  f1-score   support\n",
      "\n",
      "         Cut       0.29      0.47      0.36       400\n",
      "       Drive       0.27      0.42      0.33       336\n",
      "    Leg Shot       0.24      0.63      0.35       136\n",
      "    PullShot       0.00      0.00      0.00       192\n",
      "       Scoop       0.36      0.11      0.17       360\n",
      "    Straight       0.32      0.06      0.10       144\n",
      "       Sweep       0.00      0.00      0.00        88\n",
      "\n",
      "    accuracy                           0.28      1656\n",
      "   macro avg       0.21      0.24      0.19      1656\n",
      "weighted avg       0.25      0.28      0.23      1656\n",
      "\n",
      "🎯 Vision Transformer Test Accuracy: 0.2790\n",
      "\n",
      "📊 Vision Transformer Model Performance Summary:\n",
      "│ Best Validation Acc:  0.3095 (Epoch 31)\n",
      "│ Final Test Accuracy:  0.2790\n",
      "│ Val-Test Gap:         0.0305\n"
     ]
    },
    {
     "data": {
      "image/png": "[encoded data removed]",
      "text/plain": [
       "<Figure size 800x600 with 2 Axes>"
      ]
     },
     "metadata": {},
     "output_type": "display_data"
    },
    {
     "data": {
      "image/png": "[encoded data removed]",
      "text/plain": [
       "<Figure size 2000x500 with 4 Axes>"
      ]
     },
     "metadata": {},
     "output_type": "display_data"
    },
    {
     "name": "stdout",
     "output_type": "stream",
     "text": [
      "\n",
      "⏰ Vision Transformer Final Timing Summary:\n",
      "│ Total Training: 12874.29s\n",
      "│ Average per Epoch: 257.49s\n",
      "│ Testing Time: 42.36s\n",
      "│ Total Runtime: 12916.65s\n",
      "\n",
      "💾 Vision Transformer Files saved:\n",
      "│ best_vit_model.pth - Best validation accuracy model\n",
      "│ vit_training_history.csv - Training metrics for later plotting\n",
      "\n",
      "🏗️  Vision Transformer Architecture Summary:\n",
      "│ Total Parameters: 85,804,039\n",
      "│ Trainable Parameters: 85,804,039\n",
      "│ Model Size: 327.32 MB\n",
      "│ Input Size: 224x224x3\n",
      "│ Patch Size: 16x16\n",
      "│ Number of Patches: 196\n",
      "│ Embed Dimension: 768\n",
      "│ Number of Heads: 12\n",
      "│ Number of Layers: 12\n",
      "│ MLP Ratio: 4.0\n",
      "│ Output Classes: 7\n",
      "│ Activation: GELU\n",
      "│ Attention Dropout: 0.1\n",
      "│ Embedding Dropout: 0.1\n"
     ]
    }
   ],
   "source": [
    "# -----------------------------\n",
    "# 4. Training Loop with Best Model Saving (Val Accuracy) - Vision Transformer\n",
    "# -----------------------------\n",
    "train_losses, val_losses = [], []\n",
    "train_accs, val_accs = [], []\n",
    "epoch_times = []\n",
    "epochs = 50\n",
    "\n",
    "# Initialize best model tracking\n",
    "best_val_acc = 0.0\n",
    "best_model_state = None\n",
    "best_epoch = 0\n",
    "\n",
    "print(f\"\\n🚀 Starting Vision Transformer Training for {epochs} epochs...\")\n",
    "print(\"=\" * 80)\n",
    "\n",
    "total_start_time = time.time()\n",
    "\n",
    "for epoch in range(epochs):\n",
    "    epoch_start_time = time.time()\n",
    "    \n",
    "    print(f\"\\n📈 Epoch {epoch+1}/{epochs}\")\n",
    "    print(\"-\" * 50)\n",
    "    \n",
    "    # Training Phase\n",
    "    print(\"🔄 Training Phase...\")\n",
    "    model.train()\n",
    "    running_loss, correct, total = 0, 0, 0\n",
    "    \n",
    "    train_pbar = tqdm(train_loader, desc=f\"Training\", \n",
    "                     bar_format='{l_bar}{bar:30}{r_bar}{bar:-30b}')\n",
    "    \n",
    "    train_phase_start = time.time()\n",
    "    \n",
    "    for batch_idx, (imgs, labels) in enumerate(train_pbar):\n",
    "        imgs, labels = imgs.to(device), labels.to(device)\n",
    "        \n",
    "        optimizer.zero_grad()\n",
    "        outputs = model(imgs)\n",
    "        loss = criterion(outputs, labels)\n",
    "        loss.backward()\n",
    "        \n",
    "        # Gradient clipping for stability\n",
    "        torch.nn.utils.clip_grad_norm_(model.parameters(), max_norm=1.0)\n",
    "        \n",
    "        optimizer.step()\n",
    "        \n",
    "        running_loss += loss.item()\n",
    "        _, preds = torch.max(outputs, 1)\n",
    "        correct += (preds == labels).sum().item()\n",
    "        total += labels.size(0)\n",
    "        \n",
    "        current_acc = correct / total\n",
    "        train_pbar.set_postfix({\n",
    "            'Loss': f'{running_loss/(batch_idx+1):.4f}',\n",
    "            'Acc': f'{current_acc:.4f}'\n",
    "        })\n",
    "        \n",
    "        if device.type == 'cuda' and batch_idx % 10 == 0:\n",
    "            gpu_memory = torch.cuda.memory_allocated() / 1024**3\n",
    "            train_pbar.set_postfix({\n",
    "                'Loss': f'{running_loss/(batch_idx+1):.4f}',\n",
    "                'Acc': f'{current_acc:.4f}',\n",
    "                'GPU': f'{gpu_memory:.1f}GB'\n",
    "            })\n",
    "    \n",
    "    train_phase_time = time.time() - train_phase_start\n",
    "    train_loss = running_loss / len(train_loader)\n",
    "    train_acc = correct / total\n",
    "    train_losses.append(train_loss)\n",
    "    train_accs.append(train_acc)\n",
    "    \n",
    "    print(f\"✅ Training completed in {train_phase_time:.2f}s\")\n",
    "    \n",
    "    # Validation Phase\n",
    "    print(\"🔍 Validation Phase...\")\n",
    "    model.eval()\n",
    "    running_loss, correct, total = 0, 0, 0\n",
    "    \n",
    "    val_phase_start = time.time()\n",
    "    val_pbar = tqdm(val_loader, desc=f\"Validation\", \n",
    "                   bar_format='{l_bar}{bar:30}{r_bar}{bar:-30b}')\n",
    "    \n",
    "    with torch.no_grad():\n",
    "        for batch_idx, (imgs, labels) in enumerate(val_pbar):\n",
    "            imgs, labels = imgs.to(device), labels.to(device)\n",
    "            outputs = model(imgs)\n",
    "            loss = criterion(outputs, labels)\n",
    "            \n",
    "            running_loss += loss.item()\n",
    "            _, preds = torch.max(outputs, 1)\n",
    "            correct += (preds == labels).sum().item()\n",
    "            total += labels.size(0)\n",
    "            \n",
    "            current_acc = correct / total\n",
    "            val_pbar.set_postfix({\n",
    "                'Loss': f'{running_loss/(batch_idx+1):.4f}',\n",
    "                'Acc': f'{current_acc:.4f}'\n",
    "            })\n",
    "    \n",
    "    val_phase_time = time.time() - val_phase_start\n",
    "    val_loss = running_loss / len(val_loader)\n",
    "    val_acc = correct / total\n",
    "    val_losses.append(val_loss)\n",
    "    val_accs.append(val_acc)\n",
    "    \n",
    "    print(f\"✅ Validation completed in {val_phase_time:.2f}s\")\n",
    "    \n",
    "    # Check if this is the best model so far based on val_acc\n",
    "    is_best = val_acc > best_val_acc\n",
    "    if is_best:\n",
    "        best_val_acc = val_acc\n",
    "        best_epoch = epoch + 1\n",
    "        best_model_state = model.state_dict().copy()\n",
    "        print(f\"🌟 New best Vision Transformer model found! Validation Accuracy: {val_acc:.4f}\")\n",
    "    \n",
    "    # Epoch Summary\n",
    "    epoch_time = time.time() - epoch_start_time\n",
    "    epoch_times.append(epoch_time)\n",
    "    \n",
    "    print(f\"\\n📊 Epoch {epoch+1} Summary:\")\n",
    "    print(f\"│ Train Loss: {train_loss:.4f} | Train Acc: {train_acc:.4f}\")\n",
    "    print(f\"│ Val Loss:   {val_loss:.4f} | Val Acc:   {val_acc:.4f}\")\n",
    "    print(f\"│ Train Time: {train_phase_time:.2f}s | Val Time: {val_phase_time:.2f}s\")\n",
    "    print(f\"│ Total Epoch Time: {epoch_time:.2f}s\")\n",
    "    print(f\"│ Best Val Acc: {best_val_acc:.4f} (Epoch {best_epoch})\")\n",
    "    \n",
    "    if device.type == 'cuda':\n",
    "        print(f\"│ GPU Memory: {torch.cuda.memory_allocated()/1024**3:.1f}GB / {torch.cuda.memory_reserved()/1024**3:.1f}GB\")\n",
    "    \n",
    "    print(\"=\" * 80)\n",
    "\n",
    "total_training_time = time.time() - total_start_time\n",
    "\n",
    "# Save the best model\n",
    "if best_model_state is not None:\n",
    "    torch.save(best_model_state, 'best_vit_model.pth')\n",
    "    print(f\"\\n💾 Best Vision Transformer model saved as 'best_vit_model.pth'\")\n",
    "    print(f\"📊 Best model stats:\")\n",
    "    print(f\"│ Best Epoch: {best_epoch}\")\n",
    "    print(f\"│ Best Val Acc: {best_val_acc:.4f}\")\n",
    "\n",
    "# Save training history data to CSV\n",
    "history_data = {\n",
    "    'epoch': list(range(1, epochs+1)),\n",
    "    'train_loss': train_losses,\n",
    "    'val_loss': val_losses,\n",
    "    'train_acc': train_accs,\n",
    "    'val_acc': val_accs,\n",
    "    'epoch_time': epoch_times\n",
    "}\n",
    "history_df = pd.DataFrame(history_data)\n",
    "history_df.to_csv('vit_training_history.csv', index=False)\n",
    "print(\"\\n💾 Vision Transformer training history saved to 'vit_training_history.csv'\")\n",
    "\n",
    "# Training Summary\n",
    "print(f\"\\n🎉 Vision Transformer Training Complete!\")\n",
    "print(f\"Total Training Time: {total_training_time:.2f}s ({total_training_time/60:.1f} minutes)\")\n",
    "print(f\"Average Epoch Time: {np.mean(epoch_times):.2f}s\")\n",
    "print(\"\\n⏱️  Epoch Timing Breakdown:\")\n",
    "for i, t in enumerate(epoch_times):\n",
    "    print(f\"│ Epoch {i+1}: {t:.2f}s\")\n",
    "\n",
    "# -----------------------------\n",
    "# 5. Load Best Model and Test\n",
    "# -----------------------------\n",
    "print(f\"\\n🧪 Loading Best Vision Transformer Model for Testing...\")\n",
    "\n",
    "# Load the best model state\n",
    "if best_model_state is not None:\n",
    "    model.load_state_dict(best_model_state)\n",
    "    print(f\"✅ Best Vision Transformer model from epoch {best_epoch} loaded successfully!\")\n",
    "else:\n",
    "    print(\"⚠️  No best model found, using current model state\")\n",
    "\n",
    "test_start_time = time.time()\n",
    "y_true, y_pred = [], []\n",
    "model.eval()\n",
    "\n",
    "test_pbar = tqdm(test_loader, desc=\"Testing Vision Transformer\", \n",
    "                bar_format='{l_bar}{bar:30}{r_bar}{bar:-30b}')\n",
    "\n",
    "with torch.no_grad():\n",
    "    for imgs, labels in test_pbar:\n",
    "        imgs, labels = imgs.to(device), labels.to(device)\n",
    "        outputs = model(imgs)\n",
    "        _, preds = torch.max(outputs, 1)\n",
    "        y_true.extend(labels.cpu().numpy())\n",
    "        y_pred.extend(preds.cpu().numpy())\n",
    "\n",
    "test_time = time.time() - test_start_time\n",
    "test_accuracy = accuracy_score(y_true, y_pred)\n",
    "\n",
    "print(f\"✅ Vision Transformer Testing completed in {test_time:.2f}s\")\n",
    "print(\"\\n📋 Vision Transformer Classification Report:\")\n",
    "print(classification_report(y_true, y_pred, target_names=classes))\n",
    "print(f\"🎯 Vision Transformer Test Accuracy: {test_accuracy:.4f}\")\n",
    "\n",
    "# Model Performance Summary\n",
    "print(f\"\\n📊 Vision Transformer Model Performance Summary:\")\n",
    "print(f\"│ Best Validation Acc:  {best_val_acc:.4f} (Epoch {best_epoch})\")\n",
    "print(f\"│ Final Test Accuracy:  {test_accuracy:.4f}\")\n",
    "print(f\"│ Val-Test Gap:         {abs(best_val_acc - test_accuracy):.4f}\")\n",
    "\n",
    "# Confusion Matrix\n",
    "cm = confusion_matrix(y_true, y_pred)\n",
    "plt.figure(figsize=(8, 6))\n",
    "sns.heatmap(cm, annot=True, fmt=\"d\", cmap=\"Reds\", xticklabels=classes, yticklabels=classes)\n",
    "plt.xlabel(\"Predicted\")\n",
    "plt.ylabel(\"True\")\n",
    "plt.title(f\"Vision Transformer Confusion Matrix - Best Model (Epoch {best_epoch})\")\n",
    "plt.show()\n",
    "\n",
    "# -----------------------------\n",
    "# 6. Enhanced Visualizations\n",
    "# -----------------------------\n",
    "plt.figure(figsize=(20, 5))\n",
    "\n",
    "# Loss Plot\n",
    "plt.subplot(1, 4, 1)\n",
    "plt.plot(range(1, epochs+1), train_losses, 'b-', label=\"Train Loss\", marker='o', linewidth=2)\n",
    "plt.plot(range(1, epochs+1), val_losses, 'r-', label=\"Val Loss\", marker='s', linewidth=2)\n",
    "plt.axvline(x=best_epoch, color='red', linestyle='--', alpha=0.7, label=f'Best (Epoch {best_epoch})')\n",
    "plt.legend()\n",
    "plt.title(\"Vision Transformer Loss over Epochs\")\n",
    "plt.xlabel(\"Epoch\")\n",
    "plt.ylabel(\"Loss\")\n",
    "plt.grid(True, alpha=0.3)\n",
    "\n",
    "# Accuracy Plot\n",
    "plt.subplot(1, 4, 2)\n",
    "plt.plot(range(1, epochs+1), train_accs, 'b-', label=\"Train Accuracy\", marker='o', linewidth=2)\n",
    "plt.plot(range(1, epochs+1), val_accs, 'r-', label=\"Val Accuracy\", marker='s', linewidth=2)\n",
    "plt.axvline(x=best_epoch, color='red', linestyle='--', alpha=0.7, label=f'Best (Epoch {best_epoch})')\n",
    "plt.scatter([best_epoch], [best_val_acc], color='red', s=100, zorder=5)\n",
    "plt.legend()\n",
    "plt.title(\"Vision Transformer Accuracy over Epochs\")\n",
    "plt.xlabel(\"Epoch\")\n",
    "plt.ylabel(\"Accuracy\")\n",
    "plt.grid(True, alpha=0.3)\n",
    "\n",
    "# Timing Plot\n",
    "plt.subplot(1, 4, 3)\n",
    "bars = plt.bar(range(1, epochs+1), epoch_times, color='lightcoral', alpha=0.7)\n",
    "bars[best_epoch-1].set_color('red')\n",
    "plt.title(\"Vision Transformer Training Time per Epoch\")\n",
    "plt.xlabel(\"Epoch\")\n",
    "plt.ylabel(\"Time (seconds)\")\n",
    "plt.grid(True, alpha=0.3)\n",
    "for i, t in enumerate(epoch_times):\n",
    "    plt.text(i+1, t+0.5, f'{t:.1f}s', ha='center', va='bottom')\n",
    "\n",
    "# Performance Comparison\n",
    "plt.subplot(1, 4, 4)\n",
    "metrics = ['Best Val Acc', 'Test Acc']\n",
    "values = [best_val_acc, test_accuracy]\n",
    "colors = ['lightcoral', 'red']\n",
    "bars = plt.bar(metrics, values, color=colors, alpha=0.7)\n",
    "plt.title(\"Vision Transformer Final Model Performance\")\n",
    "plt.ylabel(\"Accuracy\")\n",
    "plt.ylim(0, 1)\n",
    "plt.grid(True, alpha=0.3)\n",
    "for bar, val in zip(bars, values):\n",
    "    plt.text(bar.get_x() + bar.get_width()/2, val + 0.01, \n",
    "             f'{val:.4f}', ha='center', va='bottom')\n",
    "\n",
    "plt.tight_layout()\n",
    "plt.show()\n",
    "\n",
    "print(f\"\\n⏰ Vision Transformer Final Timing Summary:\")\n",
    "print(f\"│ Total Training: {total_training_time:.2f}s\")\n",
    "print(f\"│ Average per Epoch: {np.mean(epoch_times):.2f}s\")\n",
    "print(f\"│ Testing Time: {test_time:.2f}s\")\n",
    "print(f\"│ Total Runtime: {total_training_time + test_time:.2f}s\")\n",
    "\n",
    "print(f\"\\n💾 Vision Transformer Files saved:\")\n",
    "print(f\"│ best_vit_model.pth - Best validation accuracy model\")\n",
    "print(f\"│ vit_training_history.csv - Training metrics for later plotting\")\n",
    "\n",
    "# -----------------------------\n",
    "# 7. Vision Transformer Architecture Summary\n",
    "# -----------------------------\n",
    "print(f\"\\n🏗️  Vision Transformer Architecture Summary:\")\n",
    "print(f\"│ Total Parameters: {sum(p.numel() for p in model.parameters()):,}\")\n",
    "print(f\"│ Trainable Parameters: {sum(p.numel() for p in model.parameters() if p.requires_grad):,}\")\n",
    "print(f\"│ Model Size: {sum(p.numel() * p.element_size() for p in model.parameters()) / 1024**2:.2f} MB\")\n",
    "print(f\"│ Input Size: 224x224x3\")\n",
    "print(f\"│ Patch Size: 16x16\")\n",
    "print(f\"│ Number of Patches: {model.patch_embed.n_patches}\")\n",
    "print(f\"│ Embed Dimension: {model.embed_dim}\")\n",
    "print(f\"│ Number of Heads: 12\")\n",
    "print(f\"│ Number of Layers: 12\")\n",
    "print(f\"│ MLP Ratio: 4.0\")\n",
    "print(f\"│ Output Classes: {len(classes)}\")\n",
    "print(f\"│ Activation: GELU\")\n",
    "print(f\"│ Attention Dropout: 0.1\")\n",
    "print(f\"│ Embedding Dropout: 0.1\")\n"
   ]
  }
 ],
 "metadata": {
  "kaggle": {
   "accelerator": "nvidiaTeslaT4",
   "dataSources": [
    {
     "datasetId": 7735666,
     "sourceId": 12275446,
     "sourceType": "datasetVersion"
    }
   ],
   "dockerImageVersionId": 31090,
   "isGpuEnabled": true,
   "isInternetEnabled": true,
   "language": "python",
   "sourceType": "notebook"
  },
  "kernelspec": {
   "display_name": "Python 3",
   "language": "python",
   "name": "python3"
  },
  "language_info": {
   "codemirror_mode": {
    "name": "ipython",
    "version": 3
   },
   "file_extension": ".py",
   "mimetype": "text/x-python",
   "name": "python",
   "nbconvert_exporter": "python",
   "pygments_lexer": "ipython3",
   "version": "3.11.13"
  },
  "papermill": {
   "default_parameters": {},
   "duration": 12946.579346,
   "end_time": "2025-09-09T07:22:00.427318",
   "environment_variables": {},
   "exception": null,
   "input_path": "__notebook__.ipynb",
   "output_path": "__notebook__.ipynb",
   "parameters": {},
   "start_time": "2025-09-09T03:46:13.847972",
   "version": "2.6.0"
  }
 },
 "nbformat": 4,
 "nbformat_minor": 5
}
