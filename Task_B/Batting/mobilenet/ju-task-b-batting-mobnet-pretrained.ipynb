{
 "cells": [
  {
   "cell_type": "code",
   "execution_count": 1,
   "id": "fbd8021e",
   "metadata": {
    "_cell_guid": "b1076dfc-b9ad-4769-8c92-a6c4dae69d19",
    "_uuid": "8f2839f25d086af736a60e9eeb907d3b93b6e0e5",
    "execution": {
     "iopub.execute_input": "2025-09-07T17:02:07.556513Z",
     "iopub.status.busy": "2025-09-07T17:02:07.555870Z",
     "iopub.status.idle": "2025-09-07T17:02:31.564871Z",
     "shell.execute_reply": "2025-09-07T17:02:31.563833Z"
    },
    "papermill": {
     "duration": 24.014704,
     "end_time": "2025-09-07T17:02:31.566290",
     "exception": false,
     "start_time": "2025-09-07T17:02:07.551586",
     "status": "completed"
    },
    "tags": []
   },
   "outputs": [
    {
     "name": "stdout",
     "output_type": "stream",
     "text": [
      "Classes: ['Cut', 'Drive', 'Leg Shot', 'PullShot', 'Scoop', 'Straight', 'Sweep']\n"
     ]
    }
   ],
   "source": [
    "import torch\n",
    "import torch.nn as nn\n",
    "import torch.nn.functional as F\n",
    "from torch.utils.data import DataLoader\n",
    "from torchvision import datasets, transforms\n",
    "from torchsummary import summary\n",
    "import matplotlib.pyplot as plt\n",
    "from sklearn.metrics import classification_report, confusion_matrix, accuracy_score\n",
    "import seaborn as sns\n",
    "import numpy as np\n",
    "\n",
    "# -----------------------------\n",
    "# 1. Data Preprocessing\n",
    "# -----------------------------\n",
    "data_dir = \"/kaggle/input/ju-cricket/Cricket_Dataset_final/Task_B\"\n",
    "\n",
    "transform = transforms.Compose([\n",
    "    transforms.Resize((224, 224)),\n",
    "    transforms.ToTensor(),\n",
    "    transforms.Normalize([0.485, 0.456, 0.406], \n",
    "                         [0.229, 0.224, 0.225])\n",
    "])\n",
    "\n",
    "train_ds = datasets.ImageFolder(f\"{data_dir}/train/Batting\", transform=transform)\n",
    "val_ds   = datasets.ImageFolder(f\"{data_dir}/val/Batting\", transform=transform)\n",
    "test_ds  = datasets.ImageFolder(f\"{data_dir}/test/Batting\", transform=transform)\n",
    "\n",
    "train_loader = DataLoader(train_ds, batch_size=32, shuffle=True)\n",
    "val_loader   = DataLoader(val_ds, batch_size=32, shuffle=False)\n",
    "test_loader  = DataLoader(test_ds, batch_size=32, shuffle=False)\n",
    "\n",
    "classes = train_ds.classes\n",
    "print(\"Classes:\", classes)\n",
    "\n"
   ]
  },
  {
   "cell_type": "code",
   "execution_count": 2,
   "id": "bc8dd0de",
   "metadata": {
    "execution": {
     "iopub.execute_input": "2025-09-07T17:02:31.572872Z",
     "iopub.status.busy": "2025-09-07T17:02:31.572528Z",
     "iopub.status.idle": "2025-09-07T17:02:31.577662Z",
     "shell.execute_reply": "2025-09-07T17:02:31.576818Z"
    },
    "papermill": {
     "duration": 0.009689,
     "end_time": "2025-09-07T17:02:31.578985",
     "exception": false,
     "start_time": "2025-09-07T17:02:31.569296",
     "status": "completed"
    },
    "tags": []
   },
   "outputs": [
    {
     "name": "stdout",
     "output_type": "stream",
     "text": [
      "Total training images: 5814\n",
      "Total validation images: 1494\n",
      "Total test images: 1863\n",
      "Total images in dataset: 9171\n"
     ]
    }
   ],
   "source": [
    "print(\"Total training images:\", len(train_ds))\n",
    "print(\"Total validation images:\", len(val_ds))\n",
    "print(\"Total test images:\", len(test_ds))\n",
    "\n",
    "total_images = len(train_ds) + len(val_ds) + len(test_ds)\n",
    "print(\"Total images in dataset:\", total_images)\n"
   ]
  },
  {
   "cell_type": "code",
   "execution_count": 3,
   "id": "8548059c",
   "metadata": {
    "execution": {
     "iopub.execute_input": "2025-09-07T17:02:31.585157Z",
     "iopub.status.busy": "2025-09-07T17:02:31.584874Z",
     "iopub.status.idle": "2025-09-07T17:02:31.596609Z",
     "shell.execute_reply": "2025-09-07T17:02:31.595938Z"
    },
    "papermill": {
     "duration": 0.015962,
     "end_time": "2025-09-07T17:02:31.597721",
     "exception": false,
     "start_time": "2025-09-07T17:02:31.581759",
     "status": "completed"
    },
    "tags": []
   },
   "outputs": [
    {
     "name": "stdout",
     "output_type": "stream",
     "text": [
      "Training images (excluding 'random_occlusion'): 5168\n",
      "Validation images (excluding 'random_occlusion'): 1328\n",
      "Test images (excluding 'random_occlusion'): 1656\n",
      "Total images (excluding 'random_occlusion'): 8152\n"
     ]
    }
   ],
   "source": [
    "ignore_folder = \"random_occlusion\"\n",
    "\n",
    "def count_images_ignore_folder(dataset, ignore_folder):\n",
    "    count = 0\n",
    "    for img_path, label in dataset.samples:\n",
    "        # Skip if the image path contains the ignore_folder\n",
    "        if ignore_folder not in img_path.split(\"/\"):\n",
    "            count += 1\n",
    "    return count\n",
    "\n",
    "train_count = count_images_ignore_folder(train_ds, ignore_folder)\n",
    "val_count   = count_images_ignore_folder(val_ds, ignore_folder)\n",
    "test_count  = count_images_ignore_folder(test_ds, ignore_folder)\n",
    "\n",
    "total_count = train_count + val_count + test_count\n",
    "\n",
    "print(\"Training images (excluding '{}'): {}\".format(ignore_folder, train_count))\n",
    "print(\"Validation images (excluding '{}'): {}\".format(ignore_folder, val_count))\n",
    "print(\"Test images (excluding '{}'): {}\".format(ignore_folder, test_count))\n",
    "print(\"Total images (excluding '{}'): {}\".format(ignore_folder, total_count))\n"
   ]
  },
  {
   "cell_type": "code",
   "execution_count": 4,
   "id": "43547863",
   "metadata": {
    "execution": {
     "iopub.execute_input": "2025-09-07T17:02:31.603427Z",
     "iopub.status.busy": "2025-09-07T17:02:31.603185Z",
     "iopub.status.idle": "2025-09-07T17:02:31.617979Z",
     "shell.execute_reply": "2025-09-07T17:02:31.617257Z"
    },
    "papermill": {
     "duration": 0.01885,
     "end_time": "2025-09-07T17:02:31.618998",
     "exception": false,
     "start_time": "2025-09-07T17:02:31.600148",
     "status": "completed"
    },
    "tags": []
   },
   "outputs": [
    {
     "name": "stdout",
     "output_type": "stream",
     "text": [
      "Training folders considered: {'random_occlusion', 'low_resolution', 'gaussian_noise', 'chromatic_aberration', 'dirty_lens', 'lens_flare', 'original', 'motion_blur', 'blur'}\n",
      "Validation folders considered: {'random_occlusion', 'low_resolution', 'gaussian_noise', 'chromatic_aberration', 'dirty_lens', 'lens_flare', 'original', 'motion_blur', 'blur'}\n",
      "Test folders considered: {'random_occlusion', 'low_resolution', 'gaussian_noise', 'chromatic_aberration', 'dirty_lens', 'lens_flare', 'original', 'motion_blur', 'blur'}\n"
     ]
    }
   ],
   "source": [
    "ignore_folder = \"random_occlusionw\"\n",
    "\n",
    "def get_included_folders(dataset, ignore_folder):\n",
    "    included = set()\n",
    "    for img_path, label in dataset.samples:\n",
    "        # Split the path into parts and ignore if ignore_folder is in the path\n",
    "        if ignore_folder not in img_path.split(\"/\"):\n",
    "            # The folder name just above the image (or the class folder)\n",
    "            folder_name = img_path.split(\"/\")[-2]\n",
    "            included.add(folder_name)\n",
    "    return included\n",
    "\n",
    "train_folders = get_included_folders(train_ds, ignore_folder)\n",
    "val_folders   = get_included_folders(val_ds, ignore_folder)\n",
    "test_folders  = get_included_folders(test_ds, ignore_folder)\n",
    "\n",
    "print(\"Training folders considered:\", train_folders)\n",
    "print(\"Validation folders considered:\", val_folders)\n",
    "print(\"Test folders considered:\", test_folders)\n"
   ]
  },
  {
   "cell_type": "code",
   "execution_count": 5,
   "id": "c71786ec",
   "metadata": {
    "execution": {
     "iopub.execute_input": "2025-09-07T17:02:31.624408Z",
     "iopub.status.busy": "2025-09-07T17:02:31.624130Z",
     "iopub.status.idle": "2025-09-07T17:02:32.069153Z",
     "shell.execute_reply": "2025-09-07T17:02:32.068299Z"
    },
    "papermill": {
     "duration": 0.449135,
     "end_time": "2025-09-07T17:02:32.070494",
     "exception": false,
     "start_time": "2025-09-07T17:02:31.621359",
     "status": "completed"
    },
    "tags": []
   },
   "outputs": [
    {
     "name": "stdout",
     "output_type": "stream",
     "text": [
      "Classes: ['Cut', 'Drive', 'Leg Shot', 'PullShot', 'Scoop', 'Straight', 'Sweep']\n",
      "Final Training images: 5168\n",
      "Final Validation images: 1328\n",
      "Final Test images: 1656\n",
      "Total images after filtering: 8152\n"
     ]
    }
   ],
   "source": [
    "ignore_folder = \"random_occlusion\"\n",
    "\n",
    "def filter_samples(dataset, ignore_folder):\n",
    "    # Keep only samples where ignore_folder is NOT in the path\n",
    "    filtered_samples = [s for s in dataset.samples if ignore_folder not in s[0].split(\"/\")]\n",
    "    dataset.samples = filtered_samples\n",
    "    dataset.targets = [s[1] for s in filtered_samples]  # Update targets accordingly\n",
    "    return dataset\n",
    "\n",
    "# Create original datasets\n",
    "train_ds = datasets.ImageFolder(f\"{data_dir}/train/Batting\", transform=transform)\n",
    "val_ds   = datasets.ImageFolder(f\"{data_dir}/val/Batting\", transform=transform)\n",
    "test_ds  = datasets.ImageFolder(f\"{data_dir}/test/Batting\", transform=transform)\n",
    "\n",
    "# Filter out 'random_occlusion' folder\n",
    "train_ds = filter_samples(train_ds, ignore_folder)\n",
    "val_ds   = filter_samples(val_ds, ignore_folder)\n",
    "test_ds  = filter_samples(test_ds, ignore_folder)\n",
    "\n",
    "# DataLoaders\n",
    "train_loader = DataLoader(train_ds, batch_size=32, shuffle=True)\n",
    "val_loader   = DataLoader(val_ds, batch_size=32, shuffle=False)\n",
    "test_loader  = DataLoader(test_ds, batch_size=32, shuffle=False)\n",
    "\n",
    "# Classes (will remain the same)\n",
    "classes = train_ds.classes\n",
    "print(\"Classes:\", classes)\n",
    "\n",
    "# Show counts\n",
    "print(\"Final Training images:\", len(train_ds))\n",
    "print(\"Final Validation images:\", len(val_ds))\n",
    "print(\"Final Test images:\", len(test_ds))\n",
    "print(\"Total images after filtering:\", len(train_ds) + len(val_ds) + len(test_ds))\n"
   ]
  },
  {
   "cell_type": "code",
   "execution_count": 6,
   "id": "b2a6538e",
   "metadata": {
    "execution": {
     "iopub.execute_input": "2025-09-07T17:02:32.076982Z",
     "iopub.status.busy": "2025-09-07T17:02:32.076223Z",
     "iopub.status.idle": "2025-09-07T17:02:32.089538Z",
     "shell.execute_reply": "2025-09-07T17:02:32.088786Z"
    },
    "papermill": {
     "duration": 0.017581,
     "end_time": "2025-09-07T17:02:32.090698",
     "exception": false,
     "start_time": "2025-09-07T17:02:32.073117",
     "status": "completed"
    },
    "tags": []
   },
   "outputs": [
    {
     "name": "stdout",
     "output_type": "stream",
     "text": [
      "Training folders considered: {'low_resolution', 'gaussian_noise', 'chromatic_aberration', 'dirty_lens', 'lens_flare', 'original', 'motion_blur', 'blur'}\n",
      "Validation folders considered: {'low_resolution', 'gaussian_noise', 'chromatic_aberration', 'dirty_lens', 'lens_flare', 'original', 'motion_blur', 'blur'}\n",
      "Test folders considered: {'low_resolution', 'gaussian_noise', 'chromatic_aberration', 'dirty_lens', 'lens_flare', 'original', 'motion_blur', 'blur'}\n"
     ]
    }
   ],
   "source": [
    "ignore_folder = \"random_occlusion\"\n",
    "\n",
    "def get_included_folders(dataset, ignore_folder):\n",
    "    included = set()\n",
    "    for img_path, label in dataset.samples:\n",
    "        # Split the path into parts and ignore if ignore_folder is in the path\n",
    "        if ignore_folder not in img_path.split(\"/\"):\n",
    "            # The folder name just above the image (or the class folder)\n",
    "            folder_name = img_path.split(\"/\")[-2]\n",
    "            included.add(folder_name)\n",
    "    return included\n",
    "\n",
    "train_folders = get_included_folders(train_ds, ignore_folder)\n",
    "val_folders   = get_included_folders(val_ds, ignore_folder)\n",
    "test_folders  = get_included_folders(test_ds, ignore_folder)\n",
    "\n",
    "print(\"Training folders considered:\", train_folders)\n",
    "print(\"Validation folders considered:\", val_folders)\n",
    "print(\"Test folders considered:\", test_folders)\n"
   ]
  },
  {
   "cell_type": "code",
   "execution_count": 7,
   "id": "ff1def53",
   "metadata": {
    "execution": {
     "iopub.execute_input": "2025-09-07T17:02:32.096346Z",
     "iopub.status.busy": "2025-09-07T17:02:32.096099Z",
     "iopub.status.idle": "2025-09-07T17:02:34.403696Z",
     "shell.execute_reply": "2025-09-07T17:02:34.402811Z"
    },
    "papermill": {
     "duration": 2.312256,
     "end_time": "2025-09-07T17:02:34.405301",
     "exception": false,
     "start_time": "2025-09-07T17:02:32.093045",
     "status": "completed"
    },
    "tags": []
   },
   "outputs": [
    {
     "name": "stdout",
     "output_type": "stream",
     "text": [
      "Classes: ['Cut', 'Drive', 'Leg Shot', 'PullShot', 'Scoop', 'Straight', 'Sweep']\n",
      "Number of classes: 7\n",
      "Train samples: 5168\n",
      "Val samples: 1328\n",
      "Test samples: 1656\n",
      "Using device: cuda\n",
      "🔄 Loading pretrained MobileNetV2 from ImageNet...\n"
     ]
    },
    {
     "name": "stderr",
     "output_type": "stream",
     "text": [
      "/usr/local/lib/python3.11/dist-packages/torchvision/models/_utils.py:208: UserWarning: The parameter 'pretrained' is deprecated since 0.13 and may be removed in the future, please use 'weights' instead.\n",
      "  warnings.warn(\n",
      "/usr/local/lib/python3.11/dist-packages/torchvision/models/_utils.py:223: UserWarning: Arguments other than a weight enum or `None` for 'weights' are deprecated since 0.13 and may be removed in the future. The current behavior is equivalent to passing `weights=MobileNet_V2_Weights.IMAGENET1K_V1`. You can also use `weights=MobileNet_V2_Weights.DEFAULT` to get the most up-to-date weights.\n",
      "  warnings.warn(msg)\n",
      "Downloading: \"https://download.pytorch.org/models/mobilenet_v2-b0353104.pth\" to /root/.cache/torch/hub/checkpoints/mobilenet_v2-b0353104.pth\n",
      "100%|██████████| 13.6M/13.6M [00:00<00:00, 111MB/s] \n"
     ]
    },
    {
     "name": "stdout",
     "output_type": "stream",
     "text": [
      "✅ Model loaded with 7 output classes\n",
      "📊 Total parameters: 2,232,839\n",
      "📊 Trainable parameters: 2,232,839\n",
      "----------------------------------------------------------------\n",
      "        Layer (type)               Output Shape         Param #\n",
      "================================================================\n",
      "            Conv2d-1         [-1, 32, 112, 112]             864\n",
      "       BatchNorm2d-2         [-1, 32, 112, 112]              64\n",
      "             ReLU6-3         [-1, 32, 112, 112]               0\n",
      "            Conv2d-4         [-1, 32, 112, 112]             288\n",
      "       BatchNorm2d-5         [-1, 32, 112, 112]              64\n",
      "             ReLU6-6         [-1, 32, 112, 112]               0\n",
      "            Conv2d-7         [-1, 16, 112, 112]             512\n",
      "       BatchNorm2d-8         [-1, 16, 112, 112]              32\n",
      "  InvertedResidual-9         [-1, 16, 112, 112]               0\n",
      "           Conv2d-10         [-1, 96, 112, 112]           1,536\n",
      "      BatchNorm2d-11         [-1, 96, 112, 112]             192\n",
      "            ReLU6-12         [-1, 96, 112, 112]               0\n",
      "           Conv2d-13           [-1, 96, 56, 56]             864\n",
      "      BatchNorm2d-14           [-1, 96, 56, 56]             192\n",
      "            ReLU6-15           [-1, 96, 56, 56]               0\n",
      "           Conv2d-16           [-1, 24, 56, 56]           2,304\n",
      "      BatchNorm2d-17           [-1, 24, 56, 56]              48\n",
      " InvertedResidual-18           [-1, 24, 56, 56]               0\n",
      "           Conv2d-19          [-1, 144, 56, 56]           3,456\n",
      "      BatchNorm2d-20          [-1, 144, 56, 56]             288\n",
      "            ReLU6-21          [-1, 144, 56, 56]               0\n",
      "           Conv2d-22          [-1, 144, 56, 56]           1,296\n",
      "      BatchNorm2d-23          [-1, 144, 56, 56]             288\n",
      "            ReLU6-24          [-1, 144, 56, 56]               0\n",
      "           Conv2d-25           [-1, 24, 56, 56]           3,456\n",
      "      BatchNorm2d-26           [-1, 24, 56, 56]              48\n",
      " InvertedResidual-27           [-1, 24, 56, 56]               0\n",
      "           Conv2d-28          [-1, 144, 56, 56]           3,456\n",
      "      BatchNorm2d-29          [-1, 144, 56, 56]             288\n",
      "            ReLU6-30          [-1, 144, 56, 56]               0\n",
      "           Conv2d-31          [-1, 144, 28, 28]           1,296\n",
      "      BatchNorm2d-32          [-1, 144, 28, 28]             288\n",
      "            ReLU6-33          [-1, 144, 28, 28]               0\n",
      "           Conv2d-34           [-1, 32, 28, 28]           4,608\n",
      "      BatchNorm2d-35           [-1, 32, 28, 28]              64\n",
      " InvertedResidual-36           [-1, 32, 28, 28]               0\n",
      "           Conv2d-37          [-1, 192, 28, 28]           6,144\n",
      "      BatchNorm2d-38          [-1, 192, 28, 28]             384\n",
      "            ReLU6-39          [-1, 192, 28, 28]               0\n",
      "           Conv2d-40          [-1, 192, 28, 28]           1,728\n",
      "      BatchNorm2d-41          [-1, 192, 28, 28]             384\n",
      "            ReLU6-42          [-1, 192, 28, 28]               0\n",
      "           Conv2d-43           [-1, 32, 28, 28]           6,144\n",
      "      BatchNorm2d-44           [-1, 32, 28, 28]              64\n",
      " InvertedResidual-45           [-1, 32, 28, 28]               0\n",
      "           Conv2d-46          [-1, 192, 28, 28]           6,144\n",
      "      BatchNorm2d-47          [-1, 192, 28, 28]             384\n",
      "            ReLU6-48          [-1, 192, 28, 28]               0\n",
      "           Conv2d-49          [-1, 192, 28, 28]           1,728\n",
      "      BatchNorm2d-50          [-1, 192, 28, 28]             384\n",
      "            ReLU6-51          [-1, 192, 28, 28]               0\n",
      "           Conv2d-52           [-1, 32, 28, 28]           6,144\n",
      "      BatchNorm2d-53           [-1, 32, 28, 28]              64\n",
      " InvertedResidual-54           [-1, 32, 28, 28]               0\n",
      "           Conv2d-55          [-1, 192, 28, 28]           6,144\n",
      "      BatchNorm2d-56          [-1, 192, 28, 28]             384\n",
      "            ReLU6-57          [-1, 192, 28, 28]               0\n",
      "           Conv2d-58          [-1, 192, 14, 14]           1,728\n",
      "      BatchNorm2d-59          [-1, 192, 14, 14]             384\n",
      "            ReLU6-60          [-1, 192, 14, 14]               0\n",
      "           Conv2d-61           [-1, 64, 14, 14]          12,288\n",
      "      BatchNorm2d-62           [-1, 64, 14, 14]             128\n",
      " InvertedResidual-63           [-1, 64, 14, 14]               0\n",
      "           Conv2d-64          [-1, 384, 14, 14]          24,576\n",
      "      BatchNorm2d-65          [-1, 384, 14, 14]             768\n",
      "            ReLU6-66          [-1, 384, 14, 14]               0\n",
      "           Conv2d-67          [-1, 384, 14, 14]           3,456\n",
      "      BatchNorm2d-68          [-1, 384, 14, 14]             768\n",
      "            ReLU6-69          [-1, 384, 14, 14]               0\n",
      "           Conv2d-70           [-1, 64, 14, 14]          24,576\n",
      "      BatchNorm2d-71           [-1, 64, 14, 14]             128\n",
      " InvertedResidual-72           [-1, 64, 14, 14]               0\n",
      "           Conv2d-73          [-1, 384, 14, 14]          24,576\n",
      "      BatchNorm2d-74          [-1, 384, 14, 14]             768\n",
      "            ReLU6-75          [-1, 384, 14, 14]               0\n",
      "           Conv2d-76          [-1, 384, 14, 14]           3,456\n",
      "      BatchNorm2d-77          [-1, 384, 14, 14]             768\n",
      "            ReLU6-78          [-1, 384, 14, 14]               0\n",
      "           Conv2d-79           [-1, 64, 14, 14]          24,576\n",
      "      BatchNorm2d-80           [-1, 64, 14, 14]             128\n",
      " InvertedResidual-81           [-1, 64, 14, 14]               0\n",
      "           Conv2d-82          [-1, 384, 14, 14]          24,576\n",
      "      BatchNorm2d-83          [-1, 384, 14, 14]             768\n",
      "            ReLU6-84          [-1, 384, 14, 14]               0\n",
      "           Conv2d-85          [-1, 384, 14, 14]           3,456\n",
      "      BatchNorm2d-86          [-1, 384, 14, 14]             768\n",
      "            ReLU6-87          [-1, 384, 14, 14]               0\n",
      "           Conv2d-88           [-1, 64, 14, 14]          24,576\n",
      "      BatchNorm2d-89           [-1, 64, 14, 14]             128\n",
      " InvertedResidual-90           [-1, 64, 14, 14]               0\n",
      "           Conv2d-91          [-1, 384, 14, 14]          24,576\n",
      "      BatchNorm2d-92          [-1, 384, 14, 14]             768\n",
      "            ReLU6-93          [-1, 384, 14, 14]               0\n",
      "           Conv2d-94          [-1, 384, 14, 14]           3,456\n",
      "      BatchNorm2d-95          [-1, 384, 14, 14]             768\n",
      "            ReLU6-96          [-1, 384, 14, 14]               0\n",
      "           Conv2d-97           [-1, 96, 14, 14]          36,864\n",
      "      BatchNorm2d-98           [-1, 96, 14, 14]             192\n",
      " InvertedResidual-99           [-1, 96, 14, 14]               0\n",
      "          Conv2d-100          [-1, 576, 14, 14]          55,296\n",
      "     BatchNorm2d-101          [-1, 576, 14, 14]           1,152\n",
      "           ReLU6-102          [-1, 576, 14, 14]               0\n",
      "          Conv2d-103          [-1, 576, 14, 14]           5,184\n",
      "     BatchNorm2d-104          [-1, 576, 14, 14]           1,152\n",
      "           ReLU6-105          [-1, 576, 14, 14]               0\n",
      "          Conv2d-106           [-1, 96, 14, 14]          55,296\n",
      "     BatchNorm2d-107           [-1, 96, 14, 14]             192\n",
      "InvertedResidual-108           [-1, 96, 14, 14]               0\n",
      "          Conv2d-109          [-1, 576, 14, 14]          55,296\n",
      "     BatchNorm2d-110          [-1, 576, 14, 14]           1,152\n",
      "           ReLU6-111          [-1, 576, 14, 14]               0\n",
      "          Conv2d-112          [-1, 576, 14, 14]           5,184\n",
      "     BatchNorm2d-113          [-1, 576, 14, 14]           1,152\n",
      "           ReLU6-114          [-1, 576, 14, 14]               0\n",
      "          Conv2d-115           [-1, 96, 14, 14]          55,296\n",
      "     BatchNorm2d-116           [-1, 96, 14, 14]             192\n",
      "InvertedResidual-117           [-1, 96, 14, 14]               0\n",
      "          Conv2d-118          [-1, 576, 14, 14]          55,296\n",
      "     BatchNorm2d-119          [-1, 576, 14, 14]           1,152\n",
      "           ReLU6-120          [-1, 576, 14, 14]               0\n",
      "          Conv2d-121            [-1, 576, 7, 7]           5,184\n",
      "     BatchNorm2d-122            [-1, 576, 7, 7]           1,152\n",
      "           ReLU6-123            [-1, 576, 7, 7]               0\n",
      "          Conv2d-124            [-1, 160, 7, 7]          92,160\n",
      "     BatchNorm2d-125            [-1, 160, 7, 7]             320\n",
      "InvertedResidual-126            [-1, 160, 7, 7]               0\n",
      "          Conv2d-127            [-1, 960, 7, 7]         153,600\n",
      "     BatchNorm2d-128            [-1, 960, 7, 7]           1,920\n",
      "           ReLU6-129            [-1, 960, 7, 7]               0\n",
      "          Conv2d-130            [-1, 960, 7, 7]           8,640\n",
      "     BatchNorm2d-131            [-1, 960, 7, 7]           1,920\n",
      "           ReLU6-132            [-1, 960, 7, 7]               0\n",
      "          Conv2d-133            [-1, 160, 7, 7]         153,600\n",
      "     BatchNorm2d-134            [-1, 160, 7, 7]             320\n",
      "InvertedResidual-135            [-1, 160, 7, 7]               0\n",
      "          Conv2d-136            [-1, 960, 7, 7]         153,600\n",
      "     BatchNorm2d-137            [-1, 960, 7, 7]           1,920\n",
      "           ReLU6-138            [-1, 960, 7, 7]               0\n",
      "          Conv2d-139            [-1, 960, 7, 7]           8,640\n",
      "     BatchNorm2d-140            [-1, 960, 7, 7]           1,920\n",
      "           ReLU6-141            [-1, 960, 7, 7]               0\n",
      "          Conv2d-142            [-1, 160, 7, 7]         153,600\n",
      "     BatchNorm2d-143            [-1, 160, 7, 7]             320\n",
      "InvertedResidual-144            [-1, 160, 7, 7]               0\n",
      "          Conv2d-145            [-1, 960, 7, 7]         153,600\n",
      "     BatchNorm2d-146            [-1, 960, 7, 7]           1,920\n",
      "           ReLU6-147            [-1, 960, 7, 7]               0\n",
      "          Conv2d-148            [-1, 960, 7, 7]           8,640\n",
      "     BatchNorm2d-149            [-1, 960, 7, 7]           1,920\n",
      "           ReLU6-150            [-1, 960, 7, 7]               0\n",
      "          Conv2d-151            [-1, 320, 7, 7]         307,200\n",
      "     BatchNorm2d-152            [-1, 320, 7, 7]             640\n",
      "InvertedResidual-153            [-1, 320, 7, 7]               0\n",
      "          Conv2d-154           [-1, 1280, 7, 7]         409,600\n",
      "     BatchNorm2d-155           [-1, 1280, 7, 7]           2,560\n",
      "           ReLU6-156           [-1, 1280, 7, 7]               0\n",
      "         Dropout-157                 [-1, 1280]               0\n",
      "          Linear-158                    [-1, 7]           8,967\n",
      "================================================================\n",
      "Total params: 2,232,839\n",
      "Trainable params: 2,232,839\n",
      "Non-trainable params: 0\n",
      "----------------------------------------------------------------\n",
      "Input size (MB): 0.57\n",
      "Forward/backward pass size (MB): 152.86\n",
      "Params size (MB): 8.52\n",
      "Estimated Total Size (MB): 161.95\n",
      "----------------------------------------------------------------\n"
     ]
    }
   ],
   "source": [
    "import torch\n",
    "import torch.nn as nn\n",
    "import torch.nn.functional as F\n",
    "import torch.optim as optim\n",
    "from torch.utils.data import DataLoader\n",
    "from torchvision import datasets, transforms, models\n",
    "from torchsummary import summary\n",
    "import matplotlib.pyplot as plt\n",
    "from sklearn.metrics import classification_report, confusion_matrix, accuracy_score\n",
    "import seaborn as sns\n",
    "import numpy as np\n",
    "import pandas as pd\n",
    "from tqdm import tqdm\n",
    "import time\n",
    "\n",
    "classes = train_ds.classes\n",
    "print(\"Classes:\", classes)\n",
    "print(f\"Number of classes: {len(classes)}\")\n",
    "print(f\"Train samples: {len(train_ds)}\")\n",
    "print(f\"Val samples: {len(val_ds)}\")\n",
    "print(f\"Test samples: {len(test_ds)}\")\n",
    "\n",
    "# -----------------------------\n",
    "# 2. Pretrained MobileNetV2 Model\n",
    "# -----------------------------\n",
    "device = torch.device('cuda' if torch.cuda.is_available() else 'cpu')\n",
    "print(f\"Using device: {device}\")\n",
    "\n",
    "# Load pretrained MobileNetV2\n",
    "print(\"🔄 Loading pretrained MobileNetV2 from ImageNet...\")\n",
    "model = models.mobilenet_v2(pretrained=True)\n",
    "\n",
    "# Replace final classification layer\n",
    "# MobileNetV2 has a different structure: model.classifier[1] instead of model.fc\n",
    "num_features = model.classifier[1].in_features  # Get input features (1280)\n",
    "model.classifier[1] = nn.Linear(num_features, len(classes))  # Replace final layer\n",
    "model = model.to(device)\n",
    "\n",
    "print(f\"✅ Model loaded with {len(classes)} output classes\")\n",
    "print(f\"📊 Total parameters: {sum(p.numel() for p in model.parameters()):,}\")\n",
    "print(f\"📊 Trainable parameters: {sum(p.numel() for p in model.parameters() if p.requires_grad):,}\")\n",
    "\n",
    "# Model summary\n",
    "try:\n",
    "    summary(model, (3, 224, 224))\n",
    "except:\n",
    "    print(\"Model summary not available\")\n",
    "\n"
   ]
  },
  {
   "cell_type": "code",
   "execution_count": 8,
   "id": "61cdf86c",
   "metadata": {
    "execution": {
     "iopub.execute_input": "2025-09-07T17:02:34.413274Z",
     "iopub.status.busy": "2025-09-07T17:02:34.413029Z",
     "iopub.status.idle": "2025-09-07T17:51:44.632165Z",
     "shell.execute_reply": "2025-09-07T17:51:44.631489Z"
    },
    "papermill": {
     "duration": 2950.225928,
     "end_time": "2025-09-07T17:51:44.634543",
     "exception": false,
     "start_time": "2025-09-07T17:02:34.408615",
     "status": "completed"
    },
    "tags": []
   },
   "outputs": [
    {
     "name": "stdout",
     "output_type": "stream",
     "text": [
      "\n",
      "📋 Training Configuration:\n",
      "│ Model: MobileNetV2 (pretrained)\n",
      "│ Optimizer: Adam (lr=0.0001)\n",
      "│ Loss Function: CrossEntropyLoss\n",
      "│ Batch Size: 32\n",
      "│ Device: cuda\n",
      "\n",
      "🚀 Starting MobileNetV2 Fine-tuning for 50 epochs...\n",
      "================================================================================\n",
      "\n",
      "📈 Epoch 1/50\n",
      "--------------------------------------------------\n",
      "🔄 Training Phase...\n"
     ]
    },
    {
     "name": "stderr",
     "output_type": "stream",
     "text": [
      "Training: 100%|██████████████████████████████| 162/162 [01:12<00:00,  2.24it/s, Loss=0.9568, Acc=0.6682]\n"
     ]
    },
    {
     "name": "stdout",
     "output_type": "stream",
     "text": [
      "✅ Training completed in 72.38s\n",
      "🔍 Validation Phase...\n"
     ]
    },
    {
     "name": "stderr",
     "output_type": "stream",
     "text": [
      "Validation: 100%|██████████████████████████████| 42/42 [00:18<00:00,  2.28it/s, Loss=0.9516, Acc=0.6649]\n"
     ]
    },
    {
     "name": "stdout",
     "output_type": "stream",
     "text": [
      "✅ Validation completed in 18.41s\n",
      "🌟 New best model found! Validation Loss: 0.9516\n",
      "\n",
      "📊 Epoch 1 Summary:\n",
      "│ Train Loss: 0.9568 | Train Acc: 0.6682\n",
      "│ Val Loss:   0.9516 | Val Acc:   0.6649\n",
      "│ Train Time: 72.38s | Val Time: 18.41s\n",
      "│ Total Epoch Time: 90.80s\n",
      "│ Best Val Loss: 0.9516 (Epoch 1)\n",
      "│ GPU Memory: 0.1GB / 2.8GB\n",
      "================================================================================\n",
      "\n",
      "📈 Epoch 2/50\n",
      "--------------------------------------------------\n",
      "🔄 Training Phase...\n"
     ]
    },
    {
     "name": "stderr",
     "output_type": "stream",
     "text": [
      "Training: 100%|██████████████████████████████| 162/162 [00:46<00:00,  3.51it/s, Loss=0.1871, Acc=0.9528]\n"
     ]
    },
    {
     "name": "stdout",
     "output_type": "stream",
     "text": [
      "✅ Training completed in 46.11s\n",
      "🔍 Validation Phase...\n"
     ]
    },
    {
     "name": "stderr",
     "output_type": "stream",
     "text": [
      "Validation: 100%|██████████████████████████████| 42/42 [00:11<00:00,  3.81it/s, Loss=0.9789, Acc=0.7018]\n"
     ]
    },
    {
     "name": "stdout",
     "output_type": "stream",
     "text": [
      "✅ Validation completed in 11.03s\n",
      "\n",
      "📊 Epoch 2 Summary:\n",
      "│ Train Loss: 0.1871 | Train Acc: 0.9528\n",
      "│ Val Loss:   0.9789 | Val Acc:   0.7018\n",
      "│ Train Time: 46.11s | Val Time: 11.03s\n",
      "│ Total Epoch Time: 57.15s\n",
      "│ Best Val Loss: 0.9516 (Epoch 1)\n",
      "│ GPU Memory: 0.1GB / 2.8GB\n",
      "================================================================================\n",
      "\n",
      "📈 Epoch 3/50\n",
      "--------------------------------------------------\n",
      "🔄 Training Phase...\n"
     ]
    },
    {
     "name": "stderr",
     "output_type": "stream",
     "text": [
      "Training: 100%|██████████████████████████████| 162/162 [00:46<00:00,  3.45it/s, Loss=0.0582, Acc=0.9866]\n"
     ]
    },
    {
     "name": "stdout",
     "output_type": "stream",
     "text": [
      "✅ Training completed in 46.91s\n",
      "🔍 Validation Phase...\n"
     ]
    },
    {
     "name": "stderr",
     "output_type": "stream",
     "text": [
      "Validation: 100%|██████████████████████████████| 42/42 [00:11<00:00,  3.71it/s, Loss=1.0805, Acc=0.6958]\n"
     ]
    },
    {
     "name": "stdout",
     "output_type": "stream",
     "text": [
      "✅ Validation completed in 11.33s\n",
      "\n",
      "📊 Epoch 3 Summary:\n",
      "│ Train Loss: 0.0582 | Train Acc: 0.9866\n",
      "│ Val Loss:   1.0805 | Val Acc:   0.6958\n",
      "│ Train Time: 46.91s | Val Time: 11.33s\n",
      "│ Total Epoch Time: 58.23s\n",
      "│ Best Val Loss: 0.9516 (Epoch 1)\n",
      "│ GPU Memory: 0.1GB / 2.8GB\n",
      "================================================================================\n",
      "\n",
      "📈 Epoch 4/50\n",
      "--------------------------------------------------\n",
      "🔄 Training Phase...\n"
     ]
    },
    {
     "name": "stderr",
     "output_type": "stream",
     "text": [
      "Training: 100%|██████████████████████████████| 162/162 [00:47<00:00,  3.39it/s, Loss=0.0369, Acc=0.9909]\n"
     ]
    },
    {
     "name": "stdout",
     "output_type": "stream",
     "text": [
      "✅ Training completed in 47.82s\n",
      "🔍 Validation Phase...\n"
     ]
    },
    {
     "name": "stderr",
     "output_type": "stream",
     "text": [
      "Validation: 100%|██████████████████████████████| 42/42 [00:11<00:00,  3.80it/s, Loss=1.0349, Acc=0.7199]\n"
     ]
    },
    {
     "name": "stdout",
     "output_type": "stream",
     "text": [
      "✅ Validation completed in 11.06s\n",
      "\n",
      "📊 Epoch 4 Summary:\n",
      "│ Train Loss: 0.0369 | Train Acc: 0.9909\n",
      "│ Val Loss:   1.0349 | Val Acc:   0.7199\n",
      "│ Train Time: 47.82s | Val Time: 11.06s\n",
      "│ Total Epoch Time: 58.89s\n",
      "│ Best Val Loss: 0.9516 (Epoch 1)\n",
      "│ GPU Memory: 0.1GB / 2.8GB\n",
      "================================================================================\n",
      "\n",
      "📈 Epoch 5/50\n",
      "--------------------------------------------------\n",
      "🔄 Training Phase...\n"
     ]
    },
    {
     "name": "stderr",
     "output_type": "stream",
     "text": [
      "Training: 100%|██████████████████████████████| 162/162 [00:47<00:00,  3.40it/s, Loss=0.0219, Acc=0.9938]\n"
     ]
    },
    {
     "name": "stdout",
     "output_type": "stream",
     "text": [
      "✅ Training completed in 47.70s\n",
      "🔍 Validation Phase...\n"
     ]
    },
    {
     "name": "stderr",
     "output_type": "stream",
     "text": [
      "Validation: 100%|██████████████████████████████| 42/42 [00:11<00:00,  3.70it/s, Loss=1.0648, Acc=0.7191]\n"
     ]
    },
    {
     "name": "stdout",
     "output_type": "stream",
     "text": [
      "✅ Validation completed in 11.36s\n",
      "\n",
      "📊 Epoch 5 Summary:\n",
      "│ Train Loss: 0.0219 | Train Acc: 0.9938\n",
      "│ Val Loss:   1.0648 | Val Acc:   0.7191\n",
      "│ Train Time: 47.70s | Val Time: 11.36s\n",
      "│ Total Epoch Time: 59.07s\n",
      "│ Best Val Loss: 0.9516 (Epoch 1)\n",
      "│ GPU Memory: 0.1GB / 2.8GB\n",
      "================================================================================\n",
      "\n",
      "📈 Epoch 6/50\n",
      "--------------------------------------------------\n",
      "🔄 Training Phase...\n"
     ]
    },
    {
     "name": "stderr",
     "output_type": "stream",
     "text": [
      "Training: 100%|██████████████████████████████| 162/162 [00:47<00:00,  3.43it/s, Loss=0.0225, Acc=0.9940]\n"
     ]
    },
    {
     "name": "stdout",
     "output_type": "stream",
     "text": [
      "✅ Training completed in 47.27s\n",
      "🔍 Validation Phase...\n"
     ]
    },
    {
     "name": "stderr",
     "output_type": "stream",
     "text": [
      "Validation: 100%|██████████████████████████████| 42/42 [00:11<00:00,  3.81it/s, Loss=1.1629, Acc=0.7229]\n"
     ]
    },
    {
     "name": "stdout",
     "output_type": "stream",
     "text": [
      "✅ Validation completed in 11.02s\n",
      "\n",
      "📊 Epoch 6 Summary:\n",
      "│ Train Loss: 0.0225 | Train Acc: 0.9940\n",
      "│ Val Loss:   1.1629 | Val Acc:   0.7229\n",
      "│ Train Time: 47.27s | Val Time: 11.02s\n",
      "│ Total Epoch Time: 58.29s\n",
      "│ Best Val Loss: 0.9516 (Epoch 1)\n",
      "│ GPU Memory: 0.1GB / 2.8GB\n",
      "================================================================================\n",
      "\n",
      "📈 Epoch 7/50\n",
      "--------------------------------------------------\n",
      "🔄 Training Phase...\n"
     ]
    },
    {
     "name": "stderr",
     "output_type": "stream",
     "text": [
      "Training: 100%|██████████████████████████████| 162/162 [00:46<00:00,  3.47it/s, Loss=0.0245, Acc=0.9921]\n"
     ]
    },
    {
     "name": "stdout",
     "output_type": "stream",
     "text": [
      "✅ Training completed in 46.69s\n",
      "🔍 Validation Phase...\n"
     ]
    },
    {
     "name": "stderr",
     "output_type": "stream",
     "text": [
      "Validation: 100%|██████████████████████████████| 42/42 [00:11<00:00,  3.79it/s, Loss=1.2736, Acc=0.6958]\n"
     ]
    },
    {
     "name": "stdout",
     "output_type": "stream",
     "text": [
      "✅ Validation completed in 11.09s\n",
      "\n",
      "📊 Epoch 7 Summary:\n",
      "│ Train Loss: 0.0245 | Train Acc: 0.9921\n",
      "│ Val Loss:   1.2736 | Val Acc:   0.6958\n",
      "│ Train Time: 46.69s | Val Time: 11.09s\n",
      "│ Total Epoch Time: 57.78s\n",
      "│ Best Val Loss: 0.9516 (Epoch 1)\n",
      "│ GPU Memory: 0.1GB / 2.8GB\n",
      "================================================================================\n",
      "\n",
      "📈 Epoch 8/50\n",
      "--------------------------------------------------\n",
      "🔄 Training Phase...\n"
     ]
    },
    {
     "name": "stderr",
     "output_type": "stream",
     "text": [
      "Training: 100%|██████████████████████████████| 162/162 [00:46<00:00,  3.47it/s, Loss=0.0279, Acc=0.9913]\n"
     ]
    },
    {
     "name": "stdout",
     "output_type": "stream",
     "text": [
      "✅ Training completed in 46.68s\n",
      "🔍 Validation Phase...\n"
     ]
    },
    {
     "name": "stderr",
     "output_type": "stream",
     "text": [
      "Validation: 100%|██████████████████████████████| 42/42 [00:10<00:00,  3.85it/s, Loss=1.1316, Acc=0.7139]\n"
     ]
    },
    {
     "name": "stdout",
     "output_type": "stream",
     "text": [
      "✅ Validation completed in 10.90s\n",
      "\n",
      "📊 Epoch 8 Summary:\n",
      "│ Train Loss: 0.0279 | Train Acc: 0.9913\n",
      "│ Val Loss:   1.1316 | Val Acc:   0.7139\n",
      "│ Train Time: 46.68s | Val Time: 10.90s\n",
      "│ Total Epoch Time: 57.58s\n",
      "│ Best Val Loss: 0.9516 (Epoch 1)\n",
      "│ GPU Memory: 0.1GB / 2.8GB\n",
      "================================================================================\n",
      "\n",
      "📈 Epoch 9/50\n",
      "--------------------------------------------------\n",
      "🔄 Training Phase...\n"
     ]
    },
    {
     "name": "stderr",
     "output_type": "stream",
     "text": [
      "Training: 100%|██████████████████████████████| 162/162 [00:46<00:00,  3.46it/s, Loss=0.0142, Acc=0.9965]\n"
     ]
    },
    {
     "name": "stdout",
     "output_type": "stream",
     "text": [
      "✅ Training completed in 46.86s\n",
      "🔍 Validation Phase...\n"
     ]
    },
    {
     "name": "stderr",
     "output_type": "stream",
     "text": [
      "Validation: 100%|██████████████████████████████| 42/42 [00:11<00:00,  3.77it/s, Loss=1.1908, Acc=0.7252]\n"
     ]
    },
    {
     "name": "stdout",
     "output_type": "stream",
     "text": [
      "✅ Validation completed in 11.15s\n",
      "\n",
      "📊 Epoch 9 Summary:\n",
      "│ Train Loss: 0.0142 | Train Acc: 0.9965\n",
      "│ Val Loss:   1.1908 | Val Acc:   0.7252\n",
      "│ Train Time: 46.86s | Val Time: 11.15s\n",
      "│ Total Epoch Time: 58.02s\n",
      "│ Best Val Loss: 0.9516 (Epoch 1)\n",
      "│ GPU Memory: 0.1GB / 2.8GB\n",
      "================================================================================\n",
      "\n",
      "📈 Epoch 10/50\n",
      "--------------------------------------------------\n",
      "🔄 Training Phase...\n"
     ]
    },
    {
     "name": "stderr",
     "output_type": "stream",
     "text": [
      "Training: 100%|██████████████████████████████| 162/162 [00:47<00:00,  3.41it/s, Loss=0.0120, Acc=0.9959]\n"
     ]
    },
    {
     "name": "stdout",
     "output_type": "stream",
     "text": [
      "✅ Training completed in 47.51s\n",
      "🔍 Validation Phase...\n"
     ]
    },
    {
     "name": "stderr",
     "output_type": "stream",
     "text": [
      "Validation: 100%|██████████████████████████████| 42/42 [00:11<00:00,  3.74it/s, Loss=1.1712, Acc=0.7327]\n"
     ]
    },
    {
     "name": "stdout",
     "output_type": "stream",
     "text": [
      "✅ Validation completed in 11.24s\n",
      "\n",
      "📊 Epoch 10 Summary:\n",
      "│ Train Loss: 0.0120 | Train Acc: 0.9959\n",
      "│ Val Loss:   1.1712 | Val Acc:   0.7327\n",
      "│ Train Time: 47.51s | Val Time: 11.24s\n",
      "│ Total Epoch Time: 58.75s\n",
      "│ Best Val Loss: 0.9516 (Epoch 1)\n",
      "│ GPU Memory: 0.1GB / 2.8GB\n",
      "================================================================================\n",
      "\n",
      "📈 Epoch 11/50\n",
      "--------------------------------------------------\n",
      "🔄 Training Phase...\n"
     ]
    },
    {
     "name": "stderr",
     "output_type": "stream",
     "text": [
      "Training: 100%|██████████████████████████████| 162/162 [00:47<00:00,  3.43it/s, Loss=0.0088, Acc=0.9963]\n"
     ]
    },
    {
     "name": "stdout",
     "output_type": "stream",
     "text": [
      "✅ Training completed in 47.28s\n",
      "🔍 Validation Phase...\n"
     ]
    },
    {
     "name": "stderr",
     "output_type": "stream",
     "text": [
      "Validation: 100%|██████████████████████████████| 42/42 [00:11<00:00,  3.80it/s, Loss=1.2800, Acc=0.7123]\n"
     ]
    },
    {
     "name": "stdout",
     "output_type": "stream",
     "text": [
      "✅ Validation completed in 11.06s\n",
      "\n",
      "📊 Epoch 11 Summary:\n",
      "│ Train Loss: 0.0088 | Train Acc: 0.9963\n",
      "│ Val Loss:   1.2800 | Val Acc:   0.7123\n",
      "│ Train Time: 47.28s | Val Time: 11.06s\n",
      "│ Total Epoch Time: 58.34s\n",
      "│ Best Val Loss: 0.9516 (Epoch 1)\n",
      "│ GPU Memory: 0.1GB / 2.8GB\n",
      "================================================================================\n",
      "\n",
      "📈 Epoch 12/50\n",
      "--------------------------------------------------\n",
      "🔄 Training Phase...\n"
     ]
    },
    {
     "name": "stderr",
     "output_type": "stream",
     "text": [
      "Training: 100%|██████████████████████████████| 162/162 [00:47<00:00,  3.45it/s, Loss=0.0135, Acc=0.9961]\n"
     ]
    },
    {
     "name": "stdout",
     "output_type": "stream",
     "text": [
      "✅ Training completed in 47.01s\n",
      "🔍 Validation Phase...\n"
     ]
    },
    {
     "name": "stderr",
     "output_type": "stream",
     "text": [
      "Validation: 100%|██████████████████████████████| 42/42 [00:11<00:00,  3.77it/s, Loss=1.3141, Acc=0.7146]\n"
     ]
    },
    {
     "name": "stdout",
     "output_type": "stream",
     "text": [
      "✅ Validation completed in 11.15s\n",
      "\n",
      "📊 Epoch 12 Summary:\n",
      "│ Train Loss: 0.0135 | Train Acc: 0.9961\n",
      "│ Val Loss:   1.3141 | Val Acc:   0.7146\n",
      "│ Train Time: 47.01s | Val Time: 11.15s\n",
      "│ Total Epoch Time: 58.16s\n",
      "│ Best Val Loss: 0.9516 (Epoch 1)\n",
      "│ GPU Memory: 0.1GB / 2.8GB\n",
      "================================================================================\n",
      "\n",
      "📈 Epoch 13/50\n",
      "--------------------------------------------------\n",
      "🔄 Training Phase...\n"
     ]
    },
    {
     "name": "stderr",
     "output_type": "stream",
     "text": [
      "Training: 100%|██████████████████████████████| 162/162 [00:46<00:00,  3.47it/s, Loss=0.0081, Acc=0.9965]\n"
     ]
    },
    {
     "name": "stdout",
     "output_type": "stream",
     "text": [
      "✅ Training completed in 46.67s\n",
      "🔍 Validation Phase...\n"
     ]
    },
    {
     "name": "stderr",
     "output_type": "stream",
     "text": [
      "Validation: 100%|██████████████████████████████| 42/42 [00:10<00:00,  3.84it/s, Loss=1.2108, Acc=0.7078]\n"
     ]
    },
    {
     "name": "stdout",
     "output_type": "stream",
     "text": [
      "✅ Validation completed in 10.93s\n",
      "\n",
      "📊 Epoch 13 Summary:\n",
      "│ Train Loss: 0.0081 | Train Acc: 0.9965\n",
      "│ Val Loss:   1.2108 | Val Acc:   0.7078\n",
      "│ Train Time: 46.67s | Val Time: 10.93s\n",
      "│ Total Epoch Time: 57.60s\n",
      "│ Best Val Loss: 0.9516 (Epoch 1)\n",
      "│ GPU Memory: 0.1GB / 2.8GB\n",
      "================================================================================\n",
      "\n",
      "📈 Epoch 14/50\n",
      "--------------------------------------------------\n",
      "🔄 Training Phase...\n"
     ]
    },
    {
     "name": "stderr",
     "output_type": "stream",
     "text": [
      "Training: 100%|██████████████████████████████| 162/162 [00:46<00:00,  3.45it/s, Loss=0.0072, Acc=0.9965]\n"
     ]
    },
    {
     "name": "stdout",
     "output_type": "stream",
     "text": [
      "✅ Training completed in 46.94s\n",
      "🔍 Validation Phase...\n"
     ]
    },
    {
     "name": "stderr",
     "output_type": "stream",
     "text": [
      "Validation: 100%|██████████████████████████████| 42/42 [00:11<00:00,  3.69it/s, Loss=1.2389, Acc=0.7402]\n"
     ]
    },
    {
     "name": "stdout",
     "output_type": "stream",
     "text": [
      "✅ Validation completed in 11.39s\n",
      "\n",
      "📊 Epoch 14 Summary:\n",
      "│ Train Loss: 0.0072 | Train Acc: 0.9965\n",
      "│ Val Loss:   1.2389 | Val Acc:   0.7402\n",
      "│ Train Time: 46.94s | Val Time: 11.39s\n",
      "│ Total Epoch Time: 58.33s\n",
      "│ Best Val Loss: 0.9516 (Epoch 1)\n",
      "│ GPU Memory: 0.1GB / 2.8GB\n",
      "================================================================================\n",
      "\n",
      "📈 Epoch 15/50\n",
      "--------------------------------------------------\n",
      "🔄 Training Phase...\n"
     ]
    },
    {
     "name": "stderr",
     "output_type": "stream",
     "text": [
      "Training: 100%|██████████████████████████████| 162/162 [00:46<00:00,  3.45it/s, Loss=0.0445, Acc=0.9865]\n"
     ]
    },
    {
     "name": "stdout",
     "output_type": "stream",
     "text": [
      "✅ Training completed in 46.99s\n",
      "🔍 Validation Phase...\n"
     ]
    },
    {
     "name": "stderr",
     "output_type": "stream",
     "text": [
      "Validation: 100%|██████████████████████████████| 42/42 [00:10<00:00,  3.83it/s, Loss=1.2948, Acc=0.7169]\n"
     ]
    },
    {
     "name": "stdout",
     "output_type": "stream",
     "text": [
      "✅ Validation completed in 10.97s\n",
      "\n",
      "📊 Epoch 15 Summary:\n",
      "│ Train Loss: 0.0445 | Train Acc: 0.9865\n",
      "│ Val Loss:   1.2948 | Val Acc:   0.7169\n",
      "│ Train Time: 46.99s | Val Time: 10.97s\n",
      "│ Total Epoch Time: 57.97s\n",
      "│ Best Val Loss: 0.9516 (Epoch 1)\n",
      "│ GPU Memory: 0.1GB / 2.8GB\n",
      "================================================================================\n",
      "\n",
      "📈 Epoch 16/50\n",
      "--------------------------------------------------\n",
      "🔄 Training Phase...\n"
     ]
    },
    {
     "name": "stderr",
     "output_type": "stream",
     "text": [
      "Training: 100%|██████████████████████████████| 162/162 [00:46<00:00,  3.45it/s, Loss=0.0306, Acc=0.9890]\n"
     ]
    },
    {
     "name": "stdout",
     "output_type": "stream",
     "text": [
      "✅ Training completed in 46.94s\n",
      "🔍 Validation Phase...\n"
     ]
    },
    {
     "name": "stderr",
     "output_type": "stream",
     "text": [
      "Validation: 100%|██████████████████████████████| 42/42 [00:10<00:00,  3.83it/s, Loss=1.3588, Acc=0.6905]\n"
     ]
    },
    {
     "name": "stdout",
     "output_type": "stream",
     "text": [
      "✅ Validation completed in 10.96s\n",
      "\n",
      "📊 Epoch 16 Summary:\n",
      "│ Train Loss: 0.0306 | Train Acc: 0.9890\n",
      "│ Val Loss:   1.3588 | Val Acc:   0.6905\n",
      "│ Train Time: 46.94s | Val Time: 10.96s\n",
      "│ Total Epoch Time: 57.91s\n",
      "│ Best Val Loss: 0.9516 (Epoch 1)\n",
      "│ GPU Memory: 0.1GB / 2.8GB\n",
      "================================================================================\n",
      "\n",
      "📈 Epoch 17/50\n",
      "--------------------------------------------------\n",
      "🔄 Training Phase...\n"
     ]
    },
    {
     "name": "stderr",
     "output_type": "stream",
     "text": [
      "Training: 100%|██████████████████████████████| 162/162 [00:46<00:00,  3.47it/s, Loss=0.0220, Acc=0.9934]\n"
     ]
    },
    {
     "name": "stdout",
     "output_type": "stream",
     "text": [
      "✅ Training completed in 46.64s\n",
      "🔍 Validation Phase...\n"
     ]
    },
    {
     "name": "stderr",
     "output_type": "stream",
     "text": [
      "Validation: 100%|██████████████████████████████| 42/42 [00:10<00:00,  3.85it/s, Loss=1.2886, Acc=0.7221]\n"
     ]
    },
    {
     "name": "stdout",
     "output_type": "stream",
     "text": [
      "✅ Validation completed in 10.91s\n",
      "\n",
      "📊 Epoch 17 Summary:\n",
      "│ Train Loss: 0.0220 | Train Acc: 0.9934\n",
      "│ Val Loss:   1.2886 | Val Acc:   0.7221\n",
      "│ Train Time: 46.64s | Val Time: 10.91s\n",
      "│ Total Epoch Time: 57.56s\n",
      "│ Best Val Loss: 0.9516 (Epoch 1)\n",
      "│ GPU Memory: 0.1GB / 2.8GB\n",
      "================================================================================\n",
      "\n",
      "📈 Epoch 18/50\n",
      "--------------------------------------------------\n",
      "🔄 Training Phase...\n"
     ]
    },
    {
     "name": "stderr",
     "output_type": "stream",
     "text": [
      "Training: 100%|██████████████████████████████| 162/162 [00:46<00:00,  3.47it/s, Loss=0.0168, Acc=0.9940]\n"
     ]
    },
    {
     "name": "stdout",
     "output_type": "stream",
     "text": [
      "✅ Training completed in 46.69s\n",
      "🔍 Validation Phase...\n"
     ]
    },
    {
     "name": "stderr",
     "output_type": "stream",
     "text": [
      "Validation: 100%|██████████████████████████████| 42/42 [00:10<00:00,  3.90it/s, Loss=1.2539, Acc=0.7048]\n"
     ]
    },
    {
     "name": "stdout",
     "output_type": "stream",
     "text": [
      "✅ Validation completed in 10.78s\n",
      "\n",
      "📊 Epoch 18 Summary:\n",
      "│ Train Loss: 0.0168 | Train Acc: 0.9940\n",
      "│ Val Loss:   1.2539 | Val Acc:   0.7048\n",
      "│ Train Time: 46.69s | Val Time: 10.78s\n",
      "│ Total Epoch Time: 57.47s\n",
      "│ Best Val Loss: 0.9516 (Epoch 1)\n",
      "│ GPU Memory: 0.1GB / 2.8GB\n",
      "================================================================================\n",
      "\n",
      "📈 Epoch 19/50\n",
      "--------------------------------------------------\n",
      "🔄 Training Phase...\n"
     ]
    },
    {
     "name": "stderr",
     "output_type": "stream",
     "text": [
      "Training: 100%|██████████████████████████████| 162/162 [00:46<00:00,  3.49it/s, Loss=0.0175, Acc=0.9925]\n"
     ]
    },
    {
     "name": "stdout",
     "output_type": "stream",
     "text": [
      "✅ Training completed in 46.37s\n",
      "🔍 Validation Phase...\n"
     ]
    },
    {
     "name": "stderr",
     "output_type": "stream",
     "text": [
      "Validation: 100%|██████████████████████████████| 42/42 [00:10<00:00,  3.93it/s, Loss=1.2837, Acc=0.7199]\n"
     ]
    },
    {
     "name": "stdout",
     "output_type": "stream",
     "text": [
      "✅ Validation completed in 10.69s\n",
      "\n",
      "📊 Epoch 19 Summary:\n",
      "│ Train Loss: 0.0175 | Train Acc: 0.9925\n",
      "│ Val Loss:   1.2837 | Val Acc:   0.7199\n",
      "│ Train Time: 46.37s | Val Time: 10.69s\n",
      "│ Total Epoch Time: 57.06s\n",
      "│ Best Val Loss: 0.9516 (Epoch 1)\n",
      "│ GPU Memory: 0.1GB / 2.8GB\n",
      "================================================================================\n",
      "\n",
      "📈 Epoch 20/50\n",
      "--------------------------------------------------\n",
      "🔄 Training Phase...\n"
     ]
    },
    {
     "name": "stderr",
     "output_type": "stream",
     "text": [
      "Training: 100%|██████████████████████████████| 162/162 [00:46<00:00,  3.52it/s, Loss=0.0091, Acc=0.9961]\n"
     ]
    },
    {
     "name": "stdout",
     "output_type": "stream",
     "text": [
      "✅ Training completed in 46.06s\n",
      "🔍 Validation Phase...\n"
     ]
    },
    {
     "name": "stderr",
     "output_type": "stream",
     "text": [
      "Validation: 100%|██████████████████████████████| 42/42 [00:10<00:00,  3.87it/s, Loss=1.2292, Acc=0.7515]\n"
     ]
    },
    {
     "name": "stdout",
     "output_type": "stream",
     "text": [
      "✅ Validation completed in 10.84s\n",
      "\n",
      "📊 Epoch 20 Summary:\n",
      "│ Train Loss: 0.0091 | Train Acc: 0.9961\n",
      "│ Val Loss:   1.2292 | Val Acc:   0.7515\n",
      "│ Train Time: 46.06s | Val Time: 10.84s\n",
      "│ Total Epoch Time: 56.91s\n",
      "│ Best Val Loss: 0.9516 (Epoch 1)\n",
      "│ GPU Memory: 0.1GB / 2.8GB\n",
      "================================================================================\n",
      "\n",
      "📈 Epoch 21/50\n",
      "--------------------------------------------------\n",
      "🔄 Training Phase...\n"
     ]
    },
    {
     "name": "stderr",
     "output_type": "stream",
     "text": [
      "Training: 100%|██████████████████████████████| 162/162 [00:46<00:00,  3.51it/s, Loss=0.0085, Acc=0.9967]\n"
     ]
    },
    {
     "name": "stdout",
     "output_type": "stream",
     "text": [
      "✅ Training completed in 46.15s\n",
      "🔍 Validation Phase...\n"
     ]
    },
    {
     "name": "stderr",
     "output_type": "stream",
     "text": [
      "Validation: 100%|██████████████████████████████| 42/42 [00:11<00:00,  3.79it/s, Loss=1.1537, Acc=0.7515]\n"
     ]
    },
    {
     "name": "stdout",
     "output_type": "stream",
     "text": [
      "✅ Validation completed in 11.09s\n",
      "\n",
      "📊 Epoch 21 Summary:\n",
      "│ Train Loss: 0.0085 | Train Acc: 0.9967\n",
      "│ Val Loss:   1.1537 | Val Acc:   0.7515\n",
      "│ Train Time: 46.15s | Val Time: 11.09s\n",
      "│ Total Epoch Time: 57.25s\n",
      "│ Best Val Loss: 0.9516 (Epoch 1)\n",
      "│ GPU Memory: 0.1GB / 2.8GB\n",
      "================================================================================\n",
      "\n",
      "📈 Epoch 22/50\n",
      "--------------------------------------------------\n",
      "🔄 Training Phase...\n"
     ]
    },
    {
     "name": "stderr",
     "output_type": "stream",
     "text": [
      "Training: 100%|██████████████████████████████| 162/162 [00:46<00:00,  3.45it/s, Loss=0.0046, Acc=0.9975]\n"
     ]
    },
    {
     "name": "stdout",
     "output_type": "stream",
     "text": [
      "✅ Training completed in 46.91s\n",
      "🔍 Validation Phase...\n"
     ]
    },
    {
     "name": "stderr",
     "output_type": "stream",
     "text": [
      "Validation: 100%|██████████████████████████████| 42/42 [00:11<00:00,  3.70it/s, Loss=1.2306, Acc=0.7387]\n"
     ]
    },
    {
     "name": "stdout",
     "output_type": "stream",
     "text": [
      "✅ Validation completed in 11.36s\n",
      "\n",
      "📊 Epoch 22 Summary:\n",
      "│ Train Loss: 0.0046 | Train Acc: 0.9975\n",
      "│ Val Loss:   1.2306 | Val Acc:   0.7387\n",
      "│ Train Time: 46.91s | Val Time: 11.36s\n",
      "│ Total Epoch Time: 58.27s\n",
      "│ Best Val Loss: 0.9516 (Epoch 1)\n",
      "│ GPU Memory: 0.1GB / 2.8GB\n",
      "================================================================================\n",
      "\n",
      "📈 Epoch 23/50\n",
      "--------------------------------------------------\n",
      "🔄 Training Phase...\n"
     ]
    },
    {
     "name": "stderr",
     "output_type": "stream",
     "text": [
      "Training: 100%|██████████████████████████████| 162/162 [00:47<00:00,  3.43it/s, Loss=0.0049, Acc=0.9973]\n"
     ]
    },
    {
     "name": "stdout",
     "output_type": "stream",
     "text": [
      "✅ Training completed in 47.19s\n",
      "🔍 Validation Phase...\n"
     ]
    },
    {
     "name": "stderr",
     "output_type": "stream",
     "text": [
      "Validation: 100%|██████████████████████████████| 42/42 [00:11<00:00,  3.80it/s, Loss=1.2505, Acc=0.7319]\n"
     ]
    },
    {
     "name": "stdout",
     "output_type": "stream",
     "text": [
      "✅ Validation completed in 11.06s\n",
      "\n",
      "📊 Epoch 23 Summary:\n",
      "│ Train Loss: 0.0049 | Train Acc: 0.9973\n",
      "│ Val Loss:   1.2505 | Val Acc:   0.7319\n",
      "│ Train Time: 47.19s | Val Time: 11.06s\n",
      "│ Total Epoch Time: 58.26s\n",
      "│ Best Val Loss: 0.9516 (Epoch 1)\n",
      "│ GPU Memory: 0.1GB / 2.8GB\n",
      "================================================================================\n",
      "\n",
      "📈 Epoch 24/50\n",
      "--------------------------------------------------\n",
      "🔄 Training Phase...\n"
     ]
    },
    {
     "name": "stderr",
     "output_type": "stream",
     "text": [
      "Training: 100%|██████████████████████████████| 162/162 [00:47<00:00,  3.45it/s, Loss=0.0088, Acc=0.9961]\n"
     ]
    },
    {
     "name": "stdout",
     "output_type": "stream",
     "text": [
      "✅ Training completed in 47.02s\n",
      "🔍 Validation Phase...\n"
     ]
    },
    {
     "name": "stderr",
     "output_type": "stream",
     "text": [
      "Validation: 100%|██████████████████████████████| 42/42 [00:11<00:00,  3.72it/s, Loss=1.2878, Acc=0.7282]\n"
     ]
    },
    {
     "name": "stdout",
     "output_type": "stream",
     "text": [
      "✅ Validation completed in 11.29s\n",
      "\n",
      "📊 Epoch 24 Summary:\n",
      "│ Train Loss: 0.0088 | Train Acc: 0.9961\n",
      "│ Val Loss:   1.2878 | Val Acc:   0.7282\n",
      "│ Train Time: 47.02s | Val Time: 11.29s\n",
      "│ Total Epoch Time: 58.32s\n",
      "│ Best Val Loss: 0.9516 (Epoch 1)\n",
      "│ GPU Memory: 0.1GB / 2.8GB\n",
      "================================================================================\n",
      "\n",
      "📈 Epoch 25/50\n",
      "--------------------------------------------------\n",
      "🔄 Training Phase...\n"
     ]
    },
    {
     "name": "stderr",
     "output_type": "stream",
     "text": [
      "Training: 100%|██████████████████████████████| 162/162 [00:47<00:00,  3.44it/s, Loss=0.0107, Acc=0.9959]\n"
     ]
    },
    {
     "name": "stdout",
     "output_type": "stream",
     "text": [
      "✅ Training completed in 47.10s\n",
      "🔍 Validation Phase...\n"
     ]
    },
    {
     "name": "stderr",
     "output_type": "stream",
     "text": [
      "Validation: 100%|██████████████████████████████| 42/42 [00:11<00:00,  3.78it/s, Loss=1.4993, Acc=0.7206]\n"
     ]
    },
    {
     "name": "stdout",
     "output_type": "stream",
     "text": [
      "✅ Validation completed in 11.12s\n",
      "\n",
      "📊 Epoch 25 Summary:\n",
      "│ Train Loss: 0.0107 | Train Acc: 0.9959\n",
      "│ Val Loss:   1.4993 | Val Acc:   0.7206\n",
      "│ Train Time: 47.10s | Val Time: 11.12s\n",
      "│ Total Epoch Time: 58.22s\n",
      "│ Best Val Loss: 0.9516 (Epoch 1)\n",
      "│ GPU Memory: 0.1GB / 2.8GB\n",
      "================================================================================\n",
      "\n",
      "📈 Epoch 26/50\n",
      "--------------------------------------------------\n",
      "🔄 Training Phase...\n"
     ]
    },
    {
     "name": "stderr",
     "output_type": "stream",
     "text": [
      "Training: 100%|██████████████████████████████| 162/162 [00:46<00:00,  3.45it/s, Loss=0.0171, Acc=0.9944]\n"
     ]
    },
    {
     "name": "stdout",
     "output_type": "stream",
     "text": [
      "✅ Training completed in 46.95s\n",
      "🔍 Validation Phase...\n"
     ]
    },
    {
     "name": "stderr",
     "output_type": "stream",
     "text": [
      "Validation: 100%|██████████████████████████████| 42/42 [00:11<00:00,  3.76it/s, Loss=1.5084, Acc=0.7101]\n"
     ]
    },
    {
     "name": "stdout",
     "output_type": "stream",
     "text": [
      "✅ Validation completed in 11.18s\n",
      "\n",
      "📊 Epoch 26 Summary:\n",
      "│ Train Loss: 0.0171 | Train Acc: 0.9944\n",
      "│ Val Loss:   1.5084 | Val Acc:   0.7101\n",
      "│ Train Time: 46.95s | Val Time: 11.18s\n",
      "│ Total Epoch Time: 58.14s\n",
      "│ Best Val Loss: 0.9516 (Epoch 1)\n",
      "│ GPU Memory: 0.1GB / 2.8GB\n",
      "================================================================================\n",
      "\n",
      "📈 Epoch 27/50\n",
      "--------------------------------------------------\n",
      "🔄 Training Phase...\n"
     ]
    },
    {
     "name": "stderr",
     "output_type": "stream",
     "text": [
      "Training: 100%|██████████████████████████████| 162/162 [00:47<00:00,  3.44it/s, Loss=0.0090, Acc=0.9965]\n"
     ]
    },
    {
     "name": "stdout",
     "output_type": "stream",
     "text": [
      "✅ Training completed in 47.10s\n",
      "🔍 Validation Phase...\n"
     ]
    },
    {
     "name": "stderr",
     "output_type": "stream",
     "text": [
      "Validation: 100%|██████████████████████████████| 42/42 [00:11<00:00,  3.78it/s, Loss=1.5465, Acc=0.7252]\n"
     ]
    },
    {
     "name": "stdout",
     "output_type": "stream",
     "text": [
      "✅ Validation completed in 11.11s\n",
      "\n",
      "📊 Epoch 27 Summary:\n",
      "│ Train Loss: 0.0090 | Train Acc: 0.9965\n",
      "│ Val Loss:   1.5465 | Val Acc:   0.7252\n",
      "│ Train Time: 47.10s | Val Time: 11.11s\n",
      "│ Total Epoch Time: 58.22s\n",
      "│ Best Val Loss: 0.9516 (Epoch 1)\n",
      "│ GPU Memory: 0.1GB / 2.8GB\n",
      "================================================================================\n",
      "\n",
      "📈 Epoch 28/50\n",
      "--------------------------------------------------\n",
      "🔄 Training Phase...\n"
     ]
    },
    {
     "name": "stderr",
     "output_type": "stream",
     "text": [
      "Training: 100%|██████████████████████████████| 162/162 [00:47<00:00,  3.42it/s, Loss=0.0138, Acc=0.9952]\n"
     ]
    },
    {
     "name": "stdout",
     "output_type": "stream",
     "text": [
      "✅ Training completed in 47.34s\n",
      "🔍 Validation Phase...\n"
     ]
    },
    {
     "name": "stderr",
     "output_type": "stream",
     "text": [
      "Validation: 100%|██████████████████████████████| 42/42 [00:11<00:00,  3.77it/s, Loss=1.5367, Acc=0.7259]\n"
     ]
    },
    {
     "name": "stdout",
     "output_type": "stream",
     "text": [
      "✅ Validation completed in 11.14s\n",
      "\n",
      "📊 Epoch 28 Summary:\n",
      "│ Train Loss: 0.0138 | Train Acc: 0.9952\n",
      "│ Val Loss:   1.5367 | Val Acc:   0.7259\n",
      "│ Train Time: 47.34s | Val Time: 11.14s\n",
      "│ Total Epoch Time: 58.49s\n",
      "│ Best Val Loss: 0.9516 (Epoch 1)\n",
      "│ GPU Memory: 0.1GB / 2.8GB\n",
      "================================================================================\n",
      "\n",
      "📈 Epoch 29/50\n",
      "--------------------------------------------------\n",
      "🔄 Training Phase...\n"
     ]
    },
    {
     "name": "stderr",
     "output_type": "stream",
     "text": [
      "Training: 100%|██████████████████████████████| 162/162 [00:47<00:00,  3.43it/s, Loss=0.0332, Acc=0.9870]\n"
     ]
    },
    {
     "name": "stdout",
     "output_type": "stream",
     "text": [
      "✅ Training completed in 47.18s\n",
      "🔍 Validation Phase...\n"
     ]
    },
    {
     "name": "stderr",
     "output_type": "stream",
     "text": [
      "Validation: 100%|██████████████████████████████| 42/42 [00:11<00:00,  3.69it/s, Loss=1.6345, Acc=0.6980]\n"
     ]
    },
    {
     "name": "stdout",
     "output_type": "stream",
     "text": [
      "✅ Validation completed in 11.38s\n",
      "\n",
      "📊 Epoch 29 Summary:\n",
      "│ Train Loss: 0.0332 | Train Acc: 0.9870\n",
      "│ Val Loss:   1.6345 | Val Acc:   0.6980\n",
      "│ Train Time: 47.18s | Val Time: 11.38s\n",
      "│ Total Epoch Time: 58.56s\n",
      "│ Best Val Loss: 0.9516 (Epoch 1)\n",
      "│ GPU Memory: 0.1GB / 2.8GB\n",
      "================================================================================\n",
      "\n",
      "📈 Epoch 30/50\n",
      "--------------------------------------------------\n",
      "🔄 Training Phase...\n"
     ]
    },
    {
     "name": "stderr",
     "output_type": "stream",
     "text": [
      "Training: 100%|██████████████████████████████| 162/162 [00:47<00:00,  3.44it/s, Loss=0.0169, Acc=0.9952]\n"
     ]
    },
    {
     "name": "stdout",
     "output_type": "stream",
     "text": [
      "✅ Training completed in 47.13s\n",
      "🔍 Validation Phase...\n"
     ]
    },
    {
     "name": "stderr",
     "output_type": "stream",
     "text": [
      "Validation: 100%|██████████████████████████████| 42/42 [00:11<00:00,  3.73it/s, Loss=1.3846, Acc=0.7274]\n"
     ]
    },
    {
     "name": "stdout",
     "output_type": "stream",
     "text": [
      "✅ Validation completed in 11.27s\n",
      "\n",
      "📊 Epoch 30 Summary:\n",
      "│ Train Loss: 0.0169 | Train Acc: 0.9952\n",
      "│ Val Loss:   1.3846 | Val Acc:   0.7274\n",
      "│ Train Time: 47.13s | Val Time: 11.27s\n",
      "│ Total Epoch Time: 58.40s\n",
      "│ Best Val Loss: 0.9516 (Epoch 1)\n",
      "│ GPU Memory: 0.1GB / 2.8GB\n",
      "================================================================================\n",
      "\n",
      "📈 Epoch 31/50\n",
      "--------------------------------------------------\n",
      "🔄 Training Phase...\n"
     ]
    },
    {
     "name": "stderr",
     "output_type": "stream",
     "text": [
      "Training: 100%|██████████████████████████████| 162/162 [00:46<00:00,  3.48it/s, Loss=0.0076, Acc=0.9967]\n"
     ]
    },
    {
     "name": "stdout",
     "output_type": "stream",
     "text": [
      "✅ Training completed in 46.50s\n",
      "🔍 Validation Phase...\n"
     ]
    },
    {
     "name": "stderr",
     "output_type": "stream",
     "text": [
      "Validation: 100%|██████████████████████████████| 42/42 [00:10<00:00,  3.84it/s, Loss=1.3852, Acc=0.7289]\n"
     ]
    },
    {
     "name": "stdout",
     "output_type": "stream",
     "text": [
      "✅ Validation completed in 10.93s\n",
      "\n",
      "📊 Epoch 31 Summary:\n",
      "│ Train Loss: 0.0076 | Train Acc: 0.9967\n",
      "│ Val Loss:   1.3852 | Val Acc:   0.7289\n",
      "│ Train Time: 46.50s | Val Time: 10.93s\n",
      "│ Total Epoch Time: 57.44s\n",
      "│ Best Val Loss: 0.9516 (Epoch 1)\n",
      "│ GPU Memory: 0.1GB / 2.8GB\n",
      "================================================================================\n",
      "\n",
      "📈 Epoch 32/50\n",
      "--------------------------------------------------\n",
      "🔄 Training Phase...\n"
     ]
    },
    {
     "name": "stderr",
     "output_type": "stream",
     "text": [
      "Training: 100%|██████████████████████████████| 162/162 [00:46<00:00,  3.45it/s, Loss=0.0050, Acc=0.9979]\n"
     ]
    },
    {
     "name": "stdout",
     "output_type": "stream",
     "text": [
      "✅ Training completed in 46.98s\n",
      "🔍 Validation Phase...\n"
     ]
    },
    {
     "name": "stderr",
     "output_type": "stream",
     "text": [
      "Validation: 100%|██████████████████████████████| 42/42 [00:10<00:00,  3.86it/s, Loss=1.3966, Acc=0.7380]\n"
     ]
    },
    {
     "name": "stdout",
     "output_type": "stream",
     "text": [
      "✅ Validation completed in 10.89s\n",
      "\n",
      "📊 Epoch 32 Summary:\n",
      "│ Train Loss: 0.0050 | Train Acc: 0.9979\n",
      "│ Val Loss:   1.3966 | Val Acc:   0.7380\n",
      "│ Train Time: 46.98s | Val Time: 10.89s\n",
      "│ Total Epoch Time: 57.86s\n",
      "│ Best Val Loss: 0.9516 (Epoch 1)\n",
      "│ GPU Memory: 0.1GB / 2.8GB\n",
      "================================================================================\n",
      "\n",
      "📈 Epoch 33/50\n",
      "--------------------------------------------------\n",
      "🔄 Training Phase...\n"
     ]
    },
    {
     "name": "stderr",
     "output_type": "stream",
     "text": [
      "Training: 100%|██████████████████████████████| 162/162 [00:46<00:00,  3.46it/s, Loss=0.0045, Acc=0.9975]\n"
     ]
    },
    {
     "name": "stdout",
     "output_type": "stream",
     "text": [
      "✅ Training completed in 46.85s\n",
      "🔍 Validation Phase...\n"
     ]
    },
    {
     "name": "stderr",
     "output_type": "stream",
     "text": [
      "Validation: 100%|██████████████████████████████| 42/42 [00:10<00:00,  3.83it/s, Loss=1.3177, Acc=0.7515]\n"
     ]
    },
    {
     "name": "stdout",
     "output_type": "stream",
     "text": [
      "✅ Validation completed in 10.96s\n",
      "\n",
      "📊 Epoch 33 Summary:\n",
      "│ Train Loss: 0.0045 | Train Acc: 0.9975\n",
      "│ Val Loss:   1.3177 | Val Acc:   0.7515\n",
      "│ Train Time: 46.85s | Val Time: 10.96s\n",
      "│ Total Epoch Time: 57.81s\n",
      "│ Best Val Loss: 0.9516 (Epoch 1)\n",
      "│ GPU Memory: 0.1GB / 2.8GB\n",
      "================================================================================\n",
      "\n",
      "📈 Epoch 34/50\n",
      "--------------------------------------------------\n",
      "🔄 Training Phase...\n"
     ]
    },
    {
     "name": "stderr",
     "output_type": "stream",
     "text": [
      "Training: 100%|██████████████████████████████| 162/162 [00:46<00:00,  3.46it/s, Loss=0.0113, Acc=0.9961]\n"
     ]
    },
    {
     "name": "stdout",
     "output_type": "stream",
     "text": [
      "✅ Training completed in 46.76s\n",
      "🔍 Validation Phase...\n"
     ]
    },
    {
     "name": "stderr",
     "output_type": "stream",
     "text": [
      "Validation: 100%|██████████████████████████████| 42/42 [00:10<00:00,  3.89it/s, Loss=1.4775, Acc=0.7206]\n"
     ]
    },
    {
     "name": "stdout",
     "output_type": "stream",
     "text": [
      "✅ Validation completed in 10.79s\n",
      "\n",
      "📊 Epoch 34 Summary:\n",
      "│ Train Loss: 0.0113 | Train Acc: 0.9961\n",
      "│ Val Loss:   1.4775 | Val Acc:   0.7206\n",
      "│ Train Time: 46.76s | Val Time: 10.79s\n",
      "│ Total Epoch Time: 57.55s\n",
      "│ Best Val Loss: 0.9516 (Epoch 1)\n",
      "│ GPU Memory: 0.1GB / 2.8GB\n",
      "================================================================================\n",
      "\n",
      "📈 Epoch 35/50\n",
      "--------------------------------------------------\n",
      "🔄 Training Phase...\n"
     ]
    },
    {
     "name": "stderr",
     "output_type": "stream",
     "text": [
      "Training: 100%|██████████████████████████████| 162/162 [00:46<00:00,  3.48it/s, Loss=0.0250, Acc=0.9899]\n"
     ]
    },
    {
     "name": "stdout",
     "output_type": "stream",
     "text": [
      "✅ Training completed in 46.52s\n",
      "🔍 Validation Phase...\n"
     ]
    },
    {
     "name": "stderr",
     "output_type": "stream",
     "text": [
      "Validation: 100%|██████████████████████████████| 42/42 [00:10<00:00,  3.86it/s, Loss=1.4362, Acc=0.7252]\n"
     ]
    },
    {
     "name": "stdout",
     "output_type": "stream",
     "text": [
      "✅ Validation completed in 10.88s\n",
      "\n",
      "📊 Epoch 35 Summary:\n",
      "│ Train Loss: 0.0250 | Train Acc: 0.9899\n",
      "│ Val Loss:   1.4362 | Val Acc:   0.7252\n",
      "│ Train Time: 46.52s | Val Time: 10.88s\n",
      "│ Total Epoch Time: 57.40s\n",
      "│ Best Val Loss: 0.9516 (Epoch 1)\n",
      "│ GPU Memory: 0.1GB / 2.8GB\n",
      "================================================================================\n",
      "\n",
      "📈 Epoch 36/50\n",
      "--------------------------------------------------\n",
      "🔄 Training Phase...\n"
     ]
    },
    {
     "name": "stderr",
     "output_type": "stream",
     "text": [
      "Training: 100%|██████████████████████████████| 162/162 [00:46<00:00,  3.45it/s, Loss=0.0159, Acc=0.9940]\n"
     ]
    },
    {
     "name": "stdout",
     "output_type": "stream",
     "text": [
      "✅ Training completed in 46.99s\n",
      "🔍 Validation Phase...\n"
     ]
    },
    {
     "name": "stderr",
     "output_type": "stream",
     "text": [
      "Validation: 100%|██████████████████████████████| 42/42 [00:10<00:00,  3.84it/s, Loss=1.5057, Acc=0.7334]\n"
     ]
    },
    {
     "name": "stdout",
     "output_type": "stream",
     "text": [
      "✅ Validation completed in 10.94s\n",
      "\n",
      "📊 Epoch 36 Summary:\n",
      "│ Train Loss: 0.0159 | Train Acc: 0.9940\n",
      "│ Val Loss:   1.5057 | Val Acc:   0.7334\n",
      "│ Train Time: 46.99s | Val Time: 10.94s\n",
      "│ Total Epoch Time: 57.93s\n",
      "│ Best Val Loss: 0.9516 (Epoch 1)\n",
      "│ GPU Memory: 0.1GB / 2.8GB\n",
      "================================================================================\n",
      "\n",
      "📈 Epoch 37/50\n",
      "--------------------------------------------------\n",
      "🔄 Training Phase...\n"
     ]
    },
    {
     "name": "stderr",
     "output_type": "stream",
     "text": [
      "Training: 100%|██████████████████████████████| 162/162 [00:46<00:00,  3.47it/s, Loss=0.0082, Acc=0.9967]\n"
     ]
    },
    {
     "name": "stdout",
     "output_type": "stream",
     "text": [
      "✅ Training completed in 46.63s\n",
      "🔍 Validation Phase...\n"
     ]
    },
    {
     "name": "stderr",
     "output_type": "stream",
     "text": [
      "Validation: 100%|██████████████████████████████| 42/42 [00:11<00:00,  3.81it/s, Loss=1.5172, Acc=0.7304]\n"
     ]
    },
    {
     "name": "stdout",
     "output_type": "stream",
     "text": [
      "✅ Validation completed in 11.03s\n",
      "\n",
      "📊 Epoch 37 Summary:\n",
      "│ Train Loss: 0.0082 | Train Acc: 0.9967\n",
      "│ Val Loss:   1.5172 | Val Acc:   0.7304\n",
      "│ Train Time: 46.63s | Val Time: 11.03s\n",
      "│ Total Epoch Time: 57.66s\n",
      "│ Best Val Loss: 0.9516 (Epoch 1)\n",
      "│ GPU Memory: 0.1GB / 2.8GB\n",
      "================================================================================\n",
      "\n",
      "📈 Epoch 38/50\n",
      "--------------------------------------------------\n",
      "🔄 Training Phase...\n"
     ]
    },
    {
     "name": "stderr",
     "output_type": "stream",
     "text": [
      "Training: 100%|██████████████████████████████| 162/162 [00:46<00:00,  3.49it/s, Loss=0.0048, Acc=0.9973]\n"
     ]
    },
    {
     "name": "stdout",
     "output_type": "stream",
     "text": [
      "✅ Training completed in 46.38s\n",
      "🔍 Validation Phase...\n"
     ]
    },
    {
     "name": "stderr",
     "output_type": "stream",
     "text": [
      "Validation: 100%|██████████████████████████████| 42/42 [00:10<00:00,  3.83it/s, Loss=1.4885, Acc=0.7327]\n"
     ]
    },
    {
     "name": "stdout",
     "output_type": "stream",
     "text": [
      "✅ Validation completed in 10.96s\n",
      "\n",
      "📊 Epoch 38 Summary:\n",
      "│ Train Loss: 0.0048 | Train Acc: 0.9973\n",
      "│ Val Loss:   1.4885 | Val Acc:   0.7327\n",
      "│ Train Time: 46.38s | Val Time: 10.96s\n",
      "│ Total Epoch Time: 57.35s\n",
      "│ Best Val Loss: 0.9516 (Epoch 1)\n",
      "│ GPU Memory: 0.1GB / 2.8GB\n",
      "================================================================================\n",
      "\n",
      "📈 Epoch 39/50\n",
      "--------------------------------------------------\n",
      "🔄 Training Phase...\n"
     ]
    },
    {
     "name": "stderr",
     "output_type": "stream",
     "text": [
      "Training: 100%|██████████████████████████████| 162/162 [00:46<00:00,  3.46it/s, Loss=0.0044, Acc=0.9967]\n"
     ]
    },
    {
     "name": "stdout",
     "output_type": "stream",
     "text": [
      "✅ Training completed in 46.79s\n",
      "🔍 Validation Phase...\n"
     ]
    },
    {
     "name": "stderr",
     "output_type": "stream",
     "text": [
      "Validation: 100%|██████████████████████████████| 42/42 [00:11<00:00,  3.78it/s, Loss=1.4872, Acc=0.7432]\n"
     ]
    },
    {
     "name": "stdout",
     "output_type": "stream",
     "text": [
      "✅ Validation completed in 11.13s\n",
      "\n",
      "📊 Epoch 39 Summary:\n",
      "│ Train Loss: 0.0044 | Train Acc: 0.9967\n",
      "│ Val Loss:   1.4872 | Val Acc:   0.7432\n",
      "│ Train Time: 46.79s | Val Time: 11.13s\n",
      "│ Total Epoch Time: 57.92s\n",
      "│ Best Val Loss: 0.9516 (Epoch 1)\n",
      "│ GPU Memory: 0.1GB / 2.8GB\n",
      "================================================================================\n",
      "\n",
      "📈 Epoch 40/50\n",
      "--------------------------------------------------\n",
      "🔄 Training Phase...\n"
     ]
    },
    {
     "name": "stderr",
     "output_type": "stream",
     "text": [
      "Training: 100%|██████████████████████████████| 162/162 [00:46<00:00,  3.45it/s, Loss=0.0052, Acc=0.9973]\n"
     ]
    },
    {
     "name": "stdout",
     "output_type": "stream",
     "text": [
      "✅ Training completed in 47.00s\n",
      "🔍 Validation Phase...\n"
     ]
    },
    {
     "name": "stderr",
     "output_type": "stream",
     "text": [
      "Validation: 100%|██████████████████████████████| 42/42 [00:11<00:00,  3.75it/s, Loss=1.5266, Acc=0.7349]\n"
     ]
    },
    {
     "name": "stdout",
     "output_type": "stream",
     "text": [
      "✅ Validation completed in 11.19s\n",
      "\n",
      "📊 Epoch 40 Summary:\n",
      "│ Train Loss: 0.0052 | Train Acc: 0.9973\n",
      "│ Val Loss:   1.5266 | Val Acc:   0.7349\n",
      "│ Train Time: 47.00s | Val Time: 11.19s\n",
      "│ Total Epoch Time: 58.19s\n",
      "│ Best Val Loss: 0.9516 (Epoch 1)\n",
      "│ GPU Memory: 0.1GB / 2.8GB\n",
      "================================================================================\n",
      "\n",
      "📈 Epoch 41/50\n",
      "--------------------------------------------------\n",
      "🔄 Training Phase...\n"
     ]
    },
    {
     "name": "stderr",
     "output_type": "stream",
     "text": [
      "Training: 100%|██████████████████████████████| 162/162 [00:47<00:00,  3.44it/s, Loss=0.0041, Acc=0.9979]\n"
     ]
    },
    {
     "name": "stdout",
     "output_type": "stream",
     "text": [
      "✅ Training completed in 47.03s\n",
      "🔍 Validation Phase...\n"
     ]
    },
    {
     "name": "stderr",
     "output_type": "stream",
     "text": [
      "Validation: 100%|██████████████████████████████| 42/42 [00:10<00:00,  3.84it/s, Loss=1.4837, Acc=0.7387]\n"
     ]
    },
    {
     "name": "stdout",
     "output_type": "stream",
     "text": [
      "✅ Validation completed in 10.93s\n",
      "\n",
      "📊 Epoch 41 Summary:\n",
      "│ Train Loss: 0.0041 | Train Acc: 0.9979\n",
      "│ Val Loss:   1.4837 | Val Acc:   0.7387\n",
      "│ Train Time: 47.03s | Val Time: 10.93s\n",
      "│ Total Epoch Time: 57.96s\n",
      "│ Best Val Loss: 0.9516 (Epoch 1)\n",
      "│ GPU Memory: 0.1GB / 2.8GB\n",
      "================================================================================\n",
      "\n",
      "📈 Epoch 42/50\n",
      "--------------------------------------------------\n",
      "🔄 Training Phase...\n"
     ]
    },
    {
     "name": "stderr",
     "output_type": "stream",
     "text": [
      "Training: 100%|██████████████████████████████| 162/162 [00:46<00:00,  3.45it/s, Loss=0.0039, Acc=0.9977]\n"
     ]
    },
    {
     "name": "stdout",
     "output_type": "stream",
     "text": [
      "✅ Training completed in 46.95s\n",
      "🔍 Validation Phase...\n"
     ]
    },
    {
     "name": "stderr",
     "output_type": "stream",
     "text": [
      "Validation: 100%|██████████████████████████████| 42/42 [00:11<00:00,  3.80it/s, Loss=1.4738, Acc=0.7492]\n"
     ]
    },
    {
     "name": "stdout",
     "output_type": "stream",
     "text": [
      "✅ Validation completed in 11.07s\n",
      "\n",
      "📊 Epoch 42 Summary:\n",
      "│ Train Loss: 0.0039 | Train Acc: 0.9977\n",
      "│ Val Loss:   1.4738 | Val Acc:   0.7492\n",
      "│ Train Time: 46.95s | Val Time: 11.07s\n",
      "│ Total Epoch Time: 58.03s\n",
      "│ Best Val Loss: 0.9516 (Epoch 1)\n",
      "│ GPU Memory: 0.1GB / 2.8GB\n",
      "================================================================================\n",
      "\n",
      "📈 Epoch 43/50\n",
      "--------------------------------------------------\n",
      "🔄 Training Phase...\n"
     ]
    },
    {
     "name": "stderr",
     "output_type": "stream",
     "text": [
      "Training: 100%|██████████████████████████████| 162/162 [00:46<00:00,  3.47it/s, Loss=0.0035, Acc=0.9975]\n"
     ]
    },
    {
     "name": "stdout",
     "output_type": "stream",
     "text": [
      "✅ Training completed in 46.66s\n",
      "🔍 Validation Phase...\n"
     ]
    },
    {
     "name": "stderr",
     "output_type": "stream",
     "text": [
      "Validation: 100%|██████████████████████████████| 42/42 [00:10<00:00,  3.83it/s, Loss=1.4671, Acc=0.7357]\n"
     ]
    },
    {
     "name": "stdout",
     "output_type": "stream",
     "text": [
      "✅ Validation completed in 10.97s\n",
      "\n",
      "📊 Epoch 43 Summary:\n",
      "│ Train Loss: 0.0035 | Train Acc: 0.9975\n",
      "│ Val Loss:   1.4671 | Val Acc:   0.7357\n",
      "│ Train Time: 46.66s | Val Time: 10.97s\n",
      "│ Total Epoch Time: 57.63s\n",
      "│ Best Val Loss: 0.9516 (Epoch 1)\n",
      "│ GPU Memory: 0.1GB / 2.8GB\n",
      "================================================================================\n",
      "\n",
      "📈 Epoch 44/50\n",
      "--------------------------------------------------\n",
      "🔄 Training Phase...\n"
     ]
    },
    {
     "name": "stderr",
     "output_type": "stream",
     "text": [
      "Training: 100%|██████████████████████████████| 162/162 [00:46<00:00,  3.47it/s, Loss=0.0034, Acc=0.9979]\n"
     ]
    },
    {
     "name": "stdout",
     "output_type": "stream",
     "text": [
      "✅ Training completed in 46.66s\n",
      "🔍 Validation Phase...\n"
     ]
    },
    {
     "name": "stderr",
     "output_type": "stream",
     "text": [
      "Validation: 100%|██████████████████████████████| 42/42 [00:11<00:00,  3.81it/s, Loss=1.5784, Acc=0.7334]\n"
     ]
    },
    {
     "name": "stdout",
     "output_type": "stream",
     "text": [
      "✅ Validation completed in 11.04s\n",
      "\n",
      "📊 Epoch 44 Summary:\n",
      "│ Train Loss: 0.0034 | Train Acc: 0.9979\n",
      "│ Val Loss:   1.5784 | Val Acc:   0.7334\n",
      "│ Train Time: 46.66s | Val Time: 11.04s\n",
      "│ Total Epoch Time: 57.70s\n",
      "│ Best Val Loss: 0.9516 (Epoch 1)\n",
      "│ GPU Memory: 0.1GB / 2.8GB\n",
      "================================================================================\n",
      "\n",
      "📈 Epoch 45/50\n",
      "--------------------------------------------------\n",
      "🔄 Training Phase...\n"
     ]
    },
    {
     "name": "stderr",
     "output_type": "stream",
     "text": [
      "Training: 100%|██████████████████████████████| 162/162 [00:46<00:00,  3.48it/s, Loss=0.0037, Acc=0.9986]\n"
     ]
    },
    {
     "name": "stdout",
     "output_type": "stream",
     "text": [
      "✅ Training completed in 46.50s\n",
      "🔍 Validation Phase...\n"
     ]
    },
    {
     "name": "stderr",
     "output_type": "stream",
     "text": [
      "Validation: 100%|██████████████████████████████| 42/42 [00:10<00:00,  3.91it/s, Loss=1.4823, Acc=0.7349]\n"
     ]
    },
    {
     "name": "stdout",
     "output_type": "stream",
     "text": [
      "✅ Validation completed in 10.75s\n",
      "\n",
      "📊 Epoch 45 Summary:\n",
      "│ Train Loss: 0.0037 | Train Acc: 0.9986\n",
      "│ Val Loss:   1.4823 | Val Acc:   0.7349\n",
      "│ Train Time: 46.50s | Val Time: 10.75s\n",
      "│ Total Epoch Time: 57.26s\n",
      "│ Best Val Loss: 0.9516 (Epoch 1)\n",
      "│ GPU Memory: 0.1GB / 2.8GB\n",
      "================================================================================\n",
      "\n",
      "📈 Epoch 46/50\n",
      "--------------------------------------------------\n",
      "🔄 Training Phase...\n"
     ]
    },
    {
     "name": "stderr",
     "output_type": "stream",
     "text": [
      "Training: 100%|██████████████████████████████| 162/162 [00:46<00:00,  3.49it/s, Loss=0.0047, Acc=0.9983]\n"
     ]
    },
    {
     "name": "stdout",
     "output_type": "stream",
     "text": [
      "✅ Training completed in 46.46s\n",
      "🔍 Validation Phase...\n"
     ]
    },
    {
     "name": "stderr",
     "output_type": "stream",
     "text": [
      "Validation: 100%|██████████████████████████████| 42/42 [00:10<00:00,  3.88it/s, Loss=1.5361, Acc=0.7380]\n"
     ]
    },
    {
     "name": "stdout",
     "output_type": "stream",
     "text": [
      "✅ Validation completed in 10.83s\n",
      "\n",
      "📊 Epoch 46 Summary:\n",
      "│ Train Loss: 0.0047 | Train Acc: 0.9983\n",
      "│ Val Loss:   1.5361 | Val Acc:   0.7380\n",
      "│ Train Time: 46.46s | Val Time: 10.83s\n",
      "│ Total Epoch Time: 57.29s\n",
      "│ Best Val Loss: 0.9516 (Epoch 1)\n",
      "│ GPU Memory: 0.1GB / 2.8GB\n",
      "================================================================================\n",
      "\n",
      "📈 Epoch 47/50\n",
      "--------------------------------------------------\n",
      "🔄 Training Phase...\n"
     ]
    },
    {
     "name": "stderr",
     "output_type": "stream",
     "text": [
      "Training: 100%|██████████████████████████████| 162/162 [00:46<00:00,  3.48it/s, Loss=0.0041, Acc=0.9973]\n"
     ]
    },
    {
     "name": "stdout",
     "output_type": "stream",
     "text": [
      "✅ Training completed in 46.61s\n",
      "🔍 Validation Phase...\n"
     ]
    },
    {
     "name": "stderr",
     "output_type": "stream",
     "text": [
      "Validation: 100%|██████████████████████████████| 42/42 [00:10<00:00,  3.89it/s, Loss=1.5735, Acc=0.7349]\n"
     ]
    },
    {
     "name": "stdout",
     "output_type": "stream",
     "text": [
      "✅ Validation completed in 10.80s\n",
      "\n",
      "📊 Epoch 47 Summary:\n",
      "│ Train Loss: 0.0041 | Train Acc: 0.9973\n",
      "│ Val Loss:   1.5735 | Val Acc:   0.7349\n",
      "│ Train Time: 46.61s | Val Time: 10.80s\n",
      "│ Total Epoch Time: 57.42s\n",
      "│ Best Val Loss: 0.9516 (Epoch 1)\n",
      "│ GPU Memory: 0.1GB / 2.8GB\n",
      "================================================================================\n",
      "\n",
      "📈 Epoch 48/50\n",
      "--------------------------------------------------\n",
      "🔄 Training Phase...\n"
     ]
    },
    {
     "name": "stderr",
     "output_type": "stream",
     "text": [
      "Training: 100%|██████████████████████████████| 162/162 [00:46<00:00,  3.45it/s, Loss=0.0058, Acc=0.9973]\n"
     ]
    },
    {
     "name": "stdout",
     "output_type": "stream",
     "text": [
      "✅ Training completed in 46.97s\n",
      "🔍 Validation Phase...\n"
     ]
    },
    {
     "name": "stderr",
     "output_type": "stream",
     "text": [
      "Validation: 100%|██████████████████████████████| 42/42 [00:11<00:00,  3.68it/s, Loss=1.4397, Acc=0.7297]\n"
     ]
    },
    {
     "name": "stdout",
     "output_type": "stream",
     "text": [
      "✅ Validation completed in 11.41s\n",
      "\n",
      "📊 Epoch 48 Summary:\n",
      "│ Train Loss: 0.0058 | Train Acc: 0.9973\n",
      "│ Val Loss:   1.4397 | Val Acc:   0.7297\n",
      "│ Train Time: 46.97s | Val Time: 11.41s\n",
      "│ Total Epoch Time: 58.39s\n",
      "│ Best Val Loss: 0.9516 (Epoch 1)\n",
      "│ GPU Memory: 0.1GB / 2.8GB\n",
      "================================================================================\n",
      "\n",
      "📈 Epoch 49/50\n",
      "--------------------------------------------------\n",
      "🔄 Training Phase...\n"
     ]
    },
    {
     "name": "stderr",
     "output_type": "stream",
     "text": [
      "Training: 100%|██████████████████████████████| 162/162 [00:46<00:00,  3.46it/s, Loss=0.0468, Acc=0.9845]\n"
     ]
    },
    {
     "name": "stdout",
     "output_type": "stream",
     "text": [
      "✅ Training completed in 46.81s\n",
      "🔍 Validation Phase...\n"
     ]
    },
    {
     "name": "stderr",
     "output_type": "stream",
     "text": [
      "Validation: 100%|██████████████████████████████| 42/42 [00:10<00:00,  3.87it/s, Loss=1.8262, Acc=0.6905]\n"
     ]
    },
    {
     "name": "stdout",
     "output_type": "stream",
     "text": [
      "✅ Validation completed in 10.86s\n",
      "\n",
      "📊 Epoch 49 Summary:\n",
      "│ Train Loss: 0.0468 | Train Acc: 0.9845\n",
      "│ Val Loss:   1.8262 | Val Acc:   0.6905\n",
      "│ Train Time: 46.81s | Val Time: 10.86s\n",
      "│ Total Epoch Time: 57.67s\n",
      "│ Best Val Loss: 0.9516 (Epoch 1)\n",
      "│ GPU Memory: 0.1GB / 2.8GB\n",
      "================================================================================\n",
      "\n",
      "📈 Epoch 50/50\n",
      "--------------------------------------------------\n",
      "🔄 Training Phase...\n"
     ]
    },
    {
     "name": "stderr",
     "output_type": "stream",
     "text": [
      "Training: 100%|██████████████████████████████| 162/162 [00:46<00:00,  3.46it/s, Loss=0.0316, Acc=0.9878]\n"
     ]
    },
    {
     "name": "stdout",
     "output_type": "stream",
     "text": [
      "✅ Training completed in 46.76s\n",
      "🔍 Validation Phase...\n"
     ]
    },
    {
     "name": "stderr",
     "output_type": "stream",
     "text": [
      "Validation: 100%|██████████████████████████████| 42/42 [00:11<00:00,  3.81it/s, Loss=1.5572, Acc=0.7349]\n"
     ]
    },
    {
     "name": "stdout",
     "output_type": "stream",
     "text": [
      "✅ Validation completed in 11.02s\n",
      "\n",
      "📊 Epoch 50 Summary:\n",
      "│ Train Loss: 0.0316 | Train Acc: 0.9878\n",
      "│ Val Loss:   1.5572 | Val Acc:   0.7349\n",
      "│ Train Time: 46.76s | Val Time: 11.02s\n",
      "│ Total Epoch Time: 57.79s\n",
      "│ Best Val Loss: 0.9516 (Epoch 1)\n",
      "│ GPU Memory: 0.1GB / 2.8GB\n",
      "================================================================================\n",
      "\n",
      "💾 Best model saved as 'best_cricket_mobilenetv2.pth'\n",
      "📊 Best model stats:\n",
      "│ Best Epoch: 1\n",
      "│ Best Val Loss: 0.9516\n",
      "│ Best Val Acc: 0.6649\n",
      "\n",
      "💾 Training history saved to 'cricket_mobilenetv2_history_pretrained.csv'\n",
      "\n",
      "🎉 MobileNetV2 Fine-tuning Complete!\n",
      "Total Training Time: 2928.27s (48.8 minutes)\n",
      "Average Epoch Time: 58.56s\n",
      "\n",
      "🧪 Loading Best Model for Testing...\n",
      "✅ Best model from epoch 1 loaded successfully!\n"
     ]
    },
    {
     "name": "stderr",
     "output_type": "stream",
     "text": [
      "Testing: 100%|██████████████████████████████| 52/52 [00:20<00:00,  2.50it/s]\n"
     ]
    },
    {
     "name": "stdout",
     "output_type": "stream",
     "text": [
      "✅ Testing completed in 20.76s\n",
      "\n",
      "📋 Classification Report:\n",
      "              precision    recall  f1-score   support\n",
      "\n",
      "         Cut       0.58      0.67      0.62       400\n",
      "       Drive       0.81      0.48      0.60       336\n",
      "    Leg Shot       0.73      0.76      0.74       136\n",
      "    PullShot       0.80      0.87      0.84       192\n",
      "       Scoop       0.62      0.78      0.69       360\n",
      "    Straight       0.61      0.60      0.61       144\n",
      "       Sweep       0.76      0.51      0.61        88\n",
      "\n",
      "    accuracy                           0.67      1656\n",
      "   macro avg       0.70      0.67      0.67      1656\n",
      "weighted avg       0.69      0.67      0.66      1656\n",
      "\n",
      "🎯 Test Accuracy: 0.6685\n",
      "\n",
      "📊 Cricket Classification Performance (MobileNetV2):\n",
      "│ Best Validation Loss: 0.9516 (Epoch 1)\n",
      "│ Best Validation Acc:  0.6649 (Epoch 1)\n",
      "│ Final Test Accuracy:  0.6685\n",
      "│ Val-Test Gap:         0.0036\n",
      "\n",
      "💾 Files saved:\n",
      "│ best_cricket_mobilenetv2.pth - Best model weights\n",
      "│ cricket_mobilenetv2_history.csv - Training metrics\n"
     ]
    },
    {
     "data": {
      "image/png": "[encoded data removed]",
      "text/plain": [
       "<Figure size 1000x800 with 2 Axes>"
      ]
     },
     "metadata": {},
     "output_type": "display_data"
    },
    {
     "data": {
      "image/png": "[encoded data removed]",
      "text/plain": [
       "<Figure size 1500x500 with 3 Axes>"
      ]
     },
     "metadata": {},
     "output_type": "display_data"
    },
    {
     "name": "stdout",
     "output_type": "stream",
     "text": [
      "\n",
      "⏰ Final Timing Summary:\n",
      "│ Total Training: 2928.27s (48.8 min)\n",
      "│ Average per Epoch: 58.56s\n",
      "│ Testing Time: 20.76s\n",
      "│ Total Runtime: 2949.04s\n",
      "\n",
      "📱 MobileNetV2 Advantages:\n",
      "│ Lightweight: ~3.5M parameters vs ~25M (ResNet50)\n",
      "│ Mobile-optimized: Designed for resource-constrained devices\n",
      "│ Faster training: Typically trains faster than ResNet50\n",
      "│ Lower memory: Uses less GPU memory during training\n"
     ]
    }
   ],
   "source": [
    "# -----------------------------\n",
    "# 3. Training Setup\n",
    "# -----------------------------\n",
    "criterion = nn.CrossEntropyLoss()\n",
    "optimizer = optim.Adam(model.parameters(), lr=1e-4)  # Lower LR for fine-tuning\n",
    "\n",
    "print(f\"\\n📋 Training Configuration:\")\n",
    "print(f\"│ Model: MobileNetV2 (pretrained)\")\n",
    "print(f\"│ Optimizer: Adam (lr={optimizer.param_groups[0]['lr']})\")\n",
    "print(f\"│ Loss Function: CrossEntropyLoss\")\n",
    "print(f\"│ Batch Size: 32\")\n",
    "print(f\"│ Device: {device}\")\n",
    "\n",
    "# -----------------------------\n",
    "# 4. Training Loop with Model Saving\n",
    "# -----------------------------\n",
    "train_losses, val_losses = [], []\n",
    "train_accs, val_accs = [], []\n",
    "epoch_times = []\n",
    "epochs = 50\n",
    "\n",
    "# Initialize best model tracking (using val_loss for fine-tuning)\n",
    "best_val_loss = float('inf')\n",
    "best_model_state = None\n",
    "best_epoch = 0\n",
    "best_val_acc = 0.0\n",
    "\n",
    "print(f\"\\n🚀 Starting MobileNetV2 Fine-tuning for {epochs} epochs...\")\n",
    "print(\"=\" * 80)\n",
    "total_start_time = time.time()\n",
    "\n",
    "for epoch in range(epochs):\n",
    "    epoch_start_time = time.time()\n",
    "    \n",
    "    print(f\"\\n📈 Epoch {epoch+1}/{epochs}\")\n",
    "    print(\"-\" * 50)\n",
    "    \n",
    "    # Training Phase\n",
    "    print(\"🔄 Training Phase...\")\n",
    "    model.train()\n",
    "    running_loss, correct, total = 0, 0, 0\n",
    "    \n",
    "    train_pbar = tqdm(train_loader, desc=\"Training\", \n",
    "                     bar_format='{l_bar}{bar:30}{r_bar}{bar:-30b}')\n",
    "    \n",
    "    train_phase_start = time.time()\n",
    "    \n",
    "    for batch_idx, (imgs, labels) in enumerate(train_pbar):\n",
    "        imgs, labels = imgs.to(device), labels.to(device)\n",
    "        \n",
    "        optimizer.zero_grad()\n",
    "        outputs = model(imgs)\n",
    "        loss = criterion(outputs, labels)\n",
    "        loss.backward()\n",
    "        optimizer.step()\n",
    "        \n",
    "        running_loss += loss.item()\n",
    "        _, preds = torch.max(outputs, 1)\n",
    "        correct += (preds == labels).sum().item()\n",
    "        total += labels.size(0)\n",
    "        \n",
    "        current_acc = correct / total\n",
    "        train_pbar.set_postfix({\n",
    "            'Loss': f'{running_loss/(batch_idx+1):.4f}',\n",
    "            'Acc': f'{current_acc:.4f}'\n",
    "        })\n",
    "        \n",
    "        if device.type == 'cuda' and batch_idx % 10 == 0:\n",
    "            gpu_memory = torch.cuda.memory_allocated() / 1024**3\n",
    "            train_pbar.set_postfix({\n",
    "                'Loss': f'{running_loss/(batch_idx+1):.4f}',\n",
    "                'Acc': f'{current_acc:.4f}',\n",
    "                'GPU': f'{gpu_memory:.1f}GB'\n",
    "            })\n",
    "    \n",
    "    train_phase_time = time.time() - train_phase_start\n",
    "    train_loss = running_loss / len(train_loader)\n",
    "    train_acc = correct / total\n",
    "    train_losses.append(train_loss)\n",
    "    train_accs.append(train_acc)\n",
    "    \n",
    "    print(f\"✅ Training completed in {train_phase_time:.2f}s\")\n",
    "    \n",
    "    # Validation Phase\n",
    "    print(\"🔍 Validation Phase...\")\n",
    "    model.eval()\n",
    "    running_loss, correct, total = 0, 0, 0\n",
    "    \n",
    "    val_phase_start = time.time()\n",
    "    val_pbar = tqdm(val_loader, desc=\"Validation\", \n",
    "                   bar_format='{l_bar}{bar:30}{r_bar}{bar:-30b}')\n",
    "    \n",
    "    with torch.no_grad():\n",
    "        for batch_idx, (imgs, labels) in enumerate(val_pbar):\n",
    "            imgs, labels = imgs.to(device), labels.to(device)\n",
    "            outputs = model(imgs)\n",
    "            loss = criterion(outputs, labels)\n",
    "            \n",
    "            running_loss += loss.item()\n",
    "            _, preds = torch.max(outputs, 1)\n",
    "            correct += (preds == labels).sum().item()\n",
    "            total += labels.size(0)\n",
    "            \n",
    "            current_acc = correct / total\n",
    "            val_pbar.set_postfix({\n",
    "                'Loss': f'{running_loss/(batch_idx+1):.4f}',\n",
    "                'Acc': f'{current_acc:.4f}'\n",
    "            })\n",
    "    \n",
    "    val_phase_time = time.time() - val_phase_start\n",
    "    val_loss = running_loss / len(val_loader)\n",
    "    val_acc = correct / total\n",
    "    val_losses.append(val_loss)\n",
    "    val_accs.append(val_acc)\n",
    "    \n",
    "    print(f\"✅ Validation completed in {val_phase_time:.2f}s\")\n",
    "    \n",
    "    # Check if this is the best model (using val_loss for fine-tuning)\n",
    "    is_best = val_loss < best_val_loss\n",
    "    if is_best:\n",
    "        best_val_loss = val_loss\n",
    "        best_val_acc = val_acc\n",
    "        best_epoch = epoch + 1\n",
    "        best_model_state = model.state_dict().copy()\n",
    "        print(f\"🌟 New best model found! Validation Loss: {val_loss:.4f}\")\n",
    "    \n",
    "    # Epoch Summary\n",
    "    epoch_time = time.time() - epoch_start_time\n",
    "    epoch_times.append(epoch_time)\n",
    "    \n",
    "    print(f\"\\n📊 Epoch {epoch+1} Summary:\")\n",
    "    print(f\"│ Train Loss: {train_loss:.4f} | Train Acc: {train_acc:.4f}\")\n",
    "    print(f\"│ Val Loss:   {val_loss:.4f} | Val Acc:   {val_acc:.4f}\")\n",
    "    print(f\"│ Train Time: {train_phase_time:.2f}s | Val Time: {val_phase_time:.2f}s\")\n",
    "    print(f\"│ Total Epoch Time: {epoch_time:.2f}s\")\n",
    "    print(f\"│ Best Val Loss: {best_val_loss:.4f} (Epoch {best_epoch})\")\n",
    "    \n",
    "    if device.type == 'cuda':\n",
    "        print(f\"│ GPU Memory: {torch.cuda.memory_allocated()/1024**3:.1f}GB / {torch.cuda.memory_reserved()/1024**3:.1f}GB\")\n",
    "    \n",
    "    print(\"=\" * 80)\n",
    "\n",
    "total_training_time = time.time() - total_start_time\n",
    "\n",
    "# Save the best model\n",
    "if best_model_state is not None:\n",
    "    torch.save(best_model_state, 'best_cricket_mobilenetv2_pretrained.pth')\n",
    "    print(f\"\\n💾 Best model saved as 'best_cricket_mobilenetv2.pth'\")\n",
    "    print(f\"📊 Best model stats:\")\n",
    "    print(f\"│ Best Epoch: {best_epoch}\")\n",
    "    print(f\"│ Best Val Loss: {best_val_loss:.4f}\")\n",
    "    print(f\"│ Best Val Acc: {best_val_acc:.4f}\")\n",
    "\n",
    "# Save training history\n",
    "history_data = {\n",
    "    'epoch': list(range(1, epochs+1)),\n",
    "    'train_loss': train_losses,\n",
    "    'val_loss': val_losses,\n",
    "    'train_acc': train_accs,\n",
    "    'val_acc': val_accs,\n",
    "    'epoch_time': epoch_times\n",
    "}\n",
    "\n",
    "history_df = pd.DataFrame(history_data)\n",
    "history_df.to_csv('cricket_mobilenetv2_history_pretrained.csv', index=False)\n",
    "print(\"\\n💾 Training history saved to 'cricket_mobilenetv2_history_pretrained.csv'\")\n",
    "\n",
    "print(f\"\\n🎉 MobileNetV2 Fine-tuning Complete!\")\n",
    "print(f\"Total Training Time: {total_training_time:.2f}s ({total_training_time/60:.1f} minutes)\")\n",
    "print(f\"Average Epoch Time: {np.mean(epoch_times):.2f}s\")\n",
    "\n",
    "# -----------------------------\n",
    "# 5. Load Best Model and Test\n",
    "# -----------------------------\n",
    "print(f\"\\n🧪 Loading Best Model for Testing...\")\n",
    "if best_model_state is not None:\n",
    "    model.load_state_dict(best_model_state)\n",
    "    print(f\"✅ Best model from epoch {best_epoch} loaded successfully!\")\n",
    "\n",
    "test_start_time = time.time()\n",
    "y_true, y_pred = [], []\n",
    "model.eval()\n",
    "test_pbar = tqdm(test_loader, desc=\"Testing\", \n",
    "                bar_format='{l_bar}{bar:30}{r_bar}{bar:-30b}')\n",
    "\n",
    "with torch.no_grad():\n",
    "    for imgs, labels in test_pbar:\n",
    "        imgs, labels = imgs.to(device), labels.to(device)\n",
    "        outputs = model(imgs)\n",
    "        _, preds = torch.max(outputs, 1)\n",
    "        y_true.extend(labels.cpu().numpy())\n",
    "        y_pred.extend(preds.cpu().numpy())\n",
    "\n",
    "test_time = time.time() - test_start_time\n",
    "test_accuracy = accuracy_score(y_true, y_pred)\n",
    "\n",
    "print(f\"✅ Testing completed in {test_time:.2f}s\")\n",
    "print(\"\\n📋 Classification Report:\")\n",
    "print(classification_report(y_true, y_pred, target_names=classes))\n",
    "print(f\"🎯 Test Accuracy: {test_accuracy:.4f}\")\n",
    "\n",
    "# Performance Summary\n",
    "print(f\"\\n📊 Cricket Classification Performance (MobileNetV2):\")\n",
    "print(f\"│ Best Validation Loss: {best_val_loss:.4f} (Epoch {best_epoch})\")\n",
    "print(f\"│ Best Validation Acc:  {best_val_acc:.4f} (Epoch {best_epoch})\")\n",
    "print(f\"│ Final Test Accuracy:  {test_accuracy:.4f}\")\n",
    "print(f\"│ Val-Test Gap:         {abs(best_val_acc - test_accuracy):.4f}\")\n",
    "\n",
    "print(f\"\\n💾 Files saved:\")\n",
    "print(f\"│ best_cricket_mobilenetv2.pth - Best model weights\")\n",
    "print(f\"│ cricket_mobilenetv2_history.csv - Training metrics\")\n",
    "\n",
    "# -----------------------------\n",
    "# 6. Visualizations\n",
    "# -----------------------------\n",
    "# Confusion Matrix\n",
    "cm = confusion_matrix(y_true, y_pred)\n",
    "plt.figure(figsize=(10, 8))\n",
    "sns.heatmap(cm, annot=True, fmt=\"d\", cmap=\"Blues\", \n",
    "            xticklabels=classes, yticklabels=classes)\n",
    "plt.xlabel(\"Predicted\")\n",
    "plt.ylabel(\"True\")\n",
    "plt.title(f\"Cricket Classification - MobileNetV2 Confusion Matrix (Epoch {best_epoch})\")\n",
    "plt.tight_layout()\n",
    "plt.show()\n",
    "\n",
    "# Training Curves\n",
    "plt.figure(figsize=(15, 5))\n",
    "\n",
    "# Loss Plot\n",
    "plt.subplot(1, 3, 1)\n",
    "plt.plot(range(1, epochs+1), train_losses, 'b-', label=\"Train Loss\", marker='o', linewidth=2)\n",
    "plt.plot(range(1, epochs+1), val_losses, 'r-', label=\"Val Loss\", marker='s', linewidth=2)\n",
    "plt.axvline(x=best_epoch, color='green', linestyle='--', alpha=0.7, label=f'Best (Epoch {best_epoch})')\n",
    "plt.scatter([best_epoch], [best_val_loss], color='green', s=100, zorder=5)\n",
    "plt.legend()\n",
    "plt.title(\"MobileNetV2 Loss over Epochs\")\n",
    "plt.xlabel(\"Epoch\")\n",
    "plt.ylabel(\"Loss\")\n",
    "plt.grid(True, alpha=0.3)\n",
    "\n",
    "# Accuracy Plot\n",
    "plt.subplot(1, 3, 2)\n",
    "plt.plot(range(1, epochs+1), train_accs, 'b-', label=\"Train Accuracy\", marker='o', linewidth=2)\n",
    "plt.plot(range(1, epochs+1), val_accs, 'r-', label=\"Val Accuracy\", marker='s', linewidth=2)\n",
    "plt.axvline(x=best_epoch, color='green', linestyle='--', alpha=0.7, label=f'Best (Epoch {best_epoch})')\n",
    "plt.scatter([best_epoch], [best_val_acc], color='green', s=100, zorder=5)\n",
    "plt.legend()\n",
    "plt.title(\"MobileNetV2 Accuracy over Epochs\")\n",
    "plt.xlabel(\"Epoch\")\n",
    "plt.ylabel(\"Accuracy\")\n",
    "plt.grid(True, alpha=0.3)\n",
    "\n",
    "# Final Performance\n",
    "plt.subplot(1, 3, 3)\n",
    "metrics = ['Best Val Acc', 'Test Acc']\n",
    "values = [best_val_acc, test_accuracy]\n",
    "colors = ['orange', 'green']\n",
    "bars = plt.bar(metrics, values, color=colors, alpha=0.7)\n",
    "plt.title(\"MobileNetV2 Final Performance\")\n",
    "plt.ylabel(\"Accuracy\")\n",
    "plt.ylim(0, 1)\n",
    "plt.grid(True, alpha=0.3)\n",
    "for bar, val in zip(bars, values):\n",
    "    plt.text(bar.get_x() + bar.get_width()/2, val + 0.01, \n",
    "             f'{val:.4f}', ha='center', va='bottom')\n",
    "\n",
    "plt.tight_layout()\n",
    "plt.show()\n",
    "\n",
    "# Final Summary\n",
    "print(f\"\\n⏰ Final Timing Summary:\")\n",
    "print(f\"│ Total Training: {total_training_time:.2f}s ({total_training_time/60:.1f} min)\")\n",
    "print(f\"│ Average per Epoch: {np.mean(epoch_times):.2f}s\")\n",
    "print(f\"│ Testing Time: {test_time:.2f}s\")\n",
    "print(f\"│ Total Runtime: {total_training_time + test_time:.2f}s\")\n",
    "\n",
    "# Model Comparison Info\n",
    "print(f\"\\n📱 MobileNetV2 Advantages:\")\n",
    "print(f\"│ Lightweight: ~3.5M parameters vs ~25M (ResNet50)\")\n",
    "print(f\"│ Mobile-optimized: Designed for resource-constrained devices\")\n",
    "print(f\"│ Faster training: Typically trains faster than ResNet50\")\n",
    "print(f\"│ Lower memory: Uses less GPU memory during training\")\n"
   ]
  }
 ],
 "metadata": {
  "kaggle": {
   "accelerator": "nvidiaTeslaT4",
   "dataSources": [
    {
     "datasetId": 7735666,
     "sourceId": 12275446,
     "sourceType": "datasetVersion"
    }
   ],
   "dockerImageVersionId": 31090,
   "isGpuEnabled": true,
   "isInternetEnabled": true,
   "language": "python",
   "sourceType": "notebook"
  },
  "kernelspec": {
   "display_name": "Python 3",
   "language": "python",
   "name": "python3"
  },
  "language_info": {
   "codemirror_mode": {
    "name": "ipython",
    "version": 3
   },
   "file_extension": ".py",
   "mimetype": "text/x-python",
   "name": "python",
   "nbconvert_exporter": "python",
   "pygments_lexer": "ipython3",
   "version": "3.11.13"
  },
  "papermill": {
   "default_parameters": {},
   "duration": 2988.026731,
   "end_time": "2025-09-07T17:51:49.130370",
   "environment_variables": {},
   "exception": null,
   "input_path": "__notebook__.ipynb",
   "output_path": "__notebook__.ipynb",
   "parameters": {},
   "start_time": "2025-09-07T17:02:01.103639",
   "version": "2.6.0"
  }
 },
 "nbformat": 4,
 "nbformat_minor": 5
}
