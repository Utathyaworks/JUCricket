{
 "cells": [
  {
   "cell_type": "code",
   "execution_count": 1,
   "id": "7b544929",
   "metadata": {
    "_cell_guid": "b1076dfc-b9ad-4769-8c92-a6c4dae69d19",
    "_uuid": "8f2839f25d086af736a60e9eeb907d3b93b6e0e5",
    "execution": {
     "iopub.execute_input": "2025-09-07T15:45:18.557586Z",
     "iopub.status.busy": "2025-09-07T15:45:18.557377Z",
     "iopub.status.idle": "2025-09-07T15:45:38.572047Z",
     "shell.execute_reply": "2025-09-07T15:45:38.571231Z"
    },
    "papermill": {
     "duration": 20.019651,
     "end_time": "2025-09-07T15:45:38.573340",
     "exception": false,
     "start_time": "2025-09-07T15:45:18.553689",
     "status": "completed"
    },
    "tags": []
   },
   "outputs": [
    {
     "name": "stdout",
     "output_type": "stream",
     "text": [
      "Classes: ['Cut', 'Drive', 'Leg Shot', 'PullShot', 'Scoop', 'Straight', 'Sweep']\n"
     ]
    }
   ],
   "source": [
    "import torch\n",
    "import torch.nn as nn\n",
    "import torch.nn.functional as F\n",
    "from torch.utils.data import DataLoader\n",
    "from torchvision import datasets, transforms\n",
    "from torchsummary import summary\n",
    "import matplotlib.pyplot as plt\n",
    "from sklearn.metrics import classification_report, confusion_matrix, accuracy_score\n",
    "import seaborn as sns\n",
    "import numpy as np\n",
    "\n",
    "# -----------------------------\n",
    "# 1. Data Preprocessing\n",
    "# -----------------------------\n",
    "data_dir = \"/kaggle/input/ju-cricket/Cricket_Dataset_final/Task_B\"\n",
    "\n",
    "transform = transforms.Compose([\n",
    "    transforms.Resize((224, 224)),\n",
    "    transforms.ToTensor(),\n",
    "    transforms.Normalize([0.485, 0.456, 0.406], \n",
    "                         [0.229, 0.224, 0.225])\n",
    "])\n",
    "\n",
    "train_ds = datasets.ImageFolder(f\"{data_dir}/train/Batting\", transform=transform)\n",
    "val_ds   = datasets.ImageFolder(f\"{data_dir}/val/Batting\", transform=transform)\n",
    "test_ds  = datasets.ImageFolder(f\"{data_dir}/test/Batting\", transform=transform)\n",
    "\n",
    "train_loader = DataLoader(train_ds, batch_size=32, shuffle=True)\n",
    "val_loader   = DataLoader(val_ds, batch_size=32, shuffle=False)\n",
    "test_loader  = DataLoader(test_ds, batch_size=32, shuffle=False)\n",
    "\n",
    "classes = train_ds.classes\n",
    "print(\"Classes:\", classes)\n",
    "\n"
   ]
  },
  {
   "cell_type": "code",
   "execution_count": 2,
   "id": "770d936c",
   "metadata": {
    "execution": {
     "iopub.execute_input": "2025-09-07T15:45:38.579650Z",
     "iopub.status.busy": "2025-09-07T15:45:38.579301Z",
     "iopub.status.idle": "2025-09-07T15:45:38.583938Z",
     "shell.execute_reply": "2025-09-07T15:45:38.583121Z"
    },
    "papermill": {
     "duration": 0.008829,
     "end_time": "2025-09-07T15:45:38.585089",
     "exception": false,
     "start_time": "2025-09-07T15:45:38.576260",
     "status": "completed"
    },
    "tags": []
   },
   "outputs": [
    {
     "name": "stdout",
     "output_type": "stream",
     "text": [
      "Total training images: 5814\n",
      "Total validation images: 1494\n",
      "Total test images: 1863\n",
      "Total images in dataset: 9171\n"
     ]
    }
   ],
   "source": [
    "print(\"Total training images:\", len(train_ds))\n",
    "print(\"Total validation images:\", len(val_ds))\n",
    "print(\"Total test images:\", len(test_ds))\n",
    "\n",
    "total_images = len(train_ds) + len(val_ds) + len(test_ds)\n",
    "print(\"Total images in dataset:\", total_images)\n"
   ]
  },
  {
   "cell_type": "code",
   "execution_count": 3,
   "id": "2f76c547",
   "metadata": {
    "execution": {
     "iopub.execute_input": "2025-09-07T15:45:38.593232Z",
     "iopub.status.busy": "2025-09-07T15:45:38.593018Z",
     "iopub.status.idle": "2025-09-07T15:45:38.603445Z",
     "shell.execute_reply": "2025-09-07T15:45:38.602905Z"
    },
    "papermill": {
     "duration": 0.014507,
     "end_time": "2025-09-07T15:45:38.604424",
     "exception": false,
     "start_time": "2025-09-07T15:45:38.589917",
     "status": "completed"
    },
    "tags": []
   },
   "outputs": [
    {
     "name": "stdout",
     "output_type": "stream",
     "text": [
      "Training images (excluding 'random_occlusion'): 5168\n",
      "Validation images (excluding 'random_occlusion'): 1328\n",
      "Test images (excluding 'random_occlusion'): 1656\n",
      "Total images (excluding 'random_occlusion'): 8152\n"
     ]
    }
   ],
   "source": [
    "ignore_folder = \"random_occlusion\"\n",
    "\n",
    "def count_images_ignore_folder(dataset, ignore_folder):\n",
    "    count = 0\n",
    "    for img_path, label in dataset.samples:\n",
    "        # Skip if the image path contains the ignore_folder\n",
    "        if ignore_folder not in img_path.split(\"/\"):\n",
    "            count += 1\n",
    "    return count\n",
    "\n",
    "train_count = count_images_ignore_folder(train_ds, ignore_folder)\n",
    "val_count   = count_images_ignore_folder(val_ds, ignore_folder)\n",
    "test_count  = count_images_ignore_folder(test_ds, ignore_folder)\n",
    "\n",
    "total_count = train_count + val_count + test_count\n",
    "\n",
    "print(\"Training images (excluding '{}'): {}\".format(ignore_folder, train_count))\n",
    "print(\"Validation images (excluding '{}'): {}\".format(ignore_folder, val_count))\n",
    "print(\"Test images (excluding '{}'): {}\".format(ignore_folder, test_count))\n",
    "print(\"Total images (excluding '{}'): {}\".format(ignore_folder, total_count))\n"
   ]
  },
  {
   "cell_type": "code",
   "execution_count": 4,
   "id": "3be87ad4",
   "metadata": {
    "execution": {
     "iopub.execute_input": "2025-09-07T15:45:38.610298Z",
     "iopub.status.busy": "2025-09-07T15:45:38.610095Z",
     "iopub.status.idle": "2025-09-07T15:45:38.624420Z",
     "shell.execute_reply": "2025-09-07T15:45:38.623842Z"
    },
    "papermill": {
     "duration": 0.018416,
     "end_time": "2025-09-07T15:45:38.625385",
     "exception": false,
     "start_time": "2025-09-07T15:45:38.606969",
     "status": "completed"
    },
    "tags": []
   },
   "outputs": [
    {
     "name": "stdout",
     "output_type": "stream",
     "text": [
      "Training folders considered: {'motion_blur', 'lens_flare', 'blur', 'dirty_lens', 'chromatic_aberration', 'original', 'gaussian_noise', 'random_occlusion', 'low_resolution'}\n",
      "Validation folders considered: {'motion_blur', 'lens_flare', 'blur', 'dirty_lens', 'chromatic_aberration', 'original', 'gaussian_noise', 'random_occlusion', 'low_resolution'}\n",
      "Test folders considered: {'motion_blur', 'lens_flare', 'blur', 'dirty_lens', 'chromatic_aberration', 'original', 'gaussian_noise', 'random_occlusion', 'low_resolution'}\n"
     ]
    }
   ],
   "source": [
    "ignore_folder = \"random_occlusionw\"\n",
    "\n",
    "def get_included_folders(dataset, ignore_folder):\n",
    "    included = set()\n",
    "    for img_path, label in dataset.samples:\n",
    "        # Split the path into parts and ignore if ignore_folder is in the path\n",
    "        if ignore_folder not in img_path.split(\"/\"):\n",
    "            # The folder name just above the image (or the class folder)\n",
    "            folder_name = img_path.split(\"/\")[-2]\n",
    "            included.add(folder_name)\n",
    "    return included\n",
    "\n",
    "train_folders = get_included_folders(train_ds, ignore_folder)\n",
    "val_folders   = get_included_folders(val_ds, ignore_folder)\n",
    "test_folders  = get_included_folders(test_ds, ignore_folder)\n",
    "\n",
    "print(\"Training folders considered:\", train_folders)\n",
    "print(\"Validation folders considered:\", val_folders)\n",
    "print(\"Test folders considered:\", test_folders)\n"
   ]
  },
  {
   "cell_type": "code",
   "execution_count": 5,
   "id": "c44f9acd",
   "metadata": {
    "execution": {
     "iopub.execute_input": "2025-09-07T15:45:38.630996Z",
     "iopub.status.busy": "2025-09-07T15:45:38.630795Z",
     "iopub.status.idle": "2025-09-07T15:45:38.910513Z",
     "shell.execute_reply": "2025-09-07T15:45:38.909597Z"
    },
    "papermill": {
     "duration": 0.283748,
     "end_time": "2025-09-07T15:45:38.911633",
     "exception": false,
     "start_time": "2025-09-07T15:45:38.627885",
     "status": "completed"
    },
    "tags": []
   },
   "outputs": [
    {
     "name": "stdout",
     "output_type": "stream",
     "text": [
      "Classes: ['Cut', 'Drive', 'Leg Shot', 'PullShot', 'Scoop', 'Straight', 'Sweep']\n",
      "Final Training images: 5168\n",
      "Final Validation images: 1328\n",
      "Final Test images: 1656\n",
      "Total images after filtering: 8152\n"
     ]
    }
   ],
   "source": [
    "ignore_folder = \"random_occlusion\"\n",
    "\n",
    "def filter_samples(dataset, ignore_folder):\n",
    "    # Keep only samples where ignore_folder is NOT in the path\n",
    "    filtered_samples = [s for s in dataset.samples if ignore_folder not in s[0].split(\"/\")]\n",
    "    dataset.samples = filtered_samples\n",
    "    dataset.targets = [s[1] for s in filtered_samples]  # Update targets accordingly\n",
    "    return dataset\n",
    "\n",
    "# Create original datasets\n",
    "train_ds = datasets.ImageFolder(f\"{data_dir}/train/Batting\", transform=transform)\n",
    "val_ds   = datasets.ImageFolder(f\"{data_dir}/val/Batting\", transform=transform)\n",
    "test_ds  = datasets.ImageFolder(f\"{data_dir}/test/Batting\", transform=transform)\n",
    "\n",
    "# Filter out 'random_occlusion' folder\n",
    "train_ds = filter_samples(train_ds, ignore_folder)\n",
    "val_ds   = filter_samples(val_ds, ignore_folder)\n",
    "test_ds  = filter_samples(test_ds, ignore_folder)\n",
    "\n",
    "# DataLoaders\n",
    "train_loader = DataLoader(train_ds, batch_size=32, shuffle=True)\n",
    "val_loader   = DataLoader(val_ds, batch_size=32, shuffle=False)\n",
    "test_loader  = DataLoader(test_ds, batch_size=32, shuffle=False)\n",
    "\n",
    "# Classes (will remain the same)\n",
    "classes = train_ds.classes\n",
    "print(\"Classes:\", classes)\n",
    "\n",
    "# Show counts\n",
    "print(\"Final Training images:\", len(train_ds))\n",
    "print(\"Final Validation images:\", len(val_ds))\n",
    "print(\"Final Test images:\", len(test_ds))\n",
    "print(\"Total images after filtering:\", len(train_ds) + len(val_ds) + len(test_ds))\n"
   ]
  },
  {
   "cell_type": "code",
   "execution_count": 6,
   "id": "64f320c6",
   "metadata": {
    "execution": {
     "iopub.execute_input": "2025-09-07T15:45:38.917424Z",
     "iopub.status.busy": "2025-09-07T15:45:38.917175Z",
     "iopub.status.idle": "2025-09-07T15:45:38.929914Z",
     "shell.execute_reply": "2025-09-07T15:45:38.929325Z"
    },
    "papermill": {
     "duration": 0.016828,
     "end_time": "2025-09-07T15:45:38.930963",
     "exception": false,
     "start_time": "2025-09-07T15:45:38.914135",
     "status": "completed"
    },
    "tags": []
   },
   "outputs": [
    {
     "name": "stdout",
     "output_type": "stream",
     "text": [
      "Training folders considered: {'motion_blur', 'lens_flare', 'blur', 'dirty_lens', 'chromatic_aberration', 'original', 'gaussian_noise', 'low_resolution'}\n",
      "Validation folders considered: {'motion_blur', 'lens_flare', 'blur', 'dirty_lens', 'chromatic_aberration', 'original', 'gaussian_noise', 'low_resolution'}\n",
      "Test folders considered: {'motion_blur', 'lens_flare', 'blur', 'dirty_lens', 'chromatic_aberration', 'original', 'gaussian_noise', 'low_resolution'}\n"
     ]
    }
   ],
   "source": [
    "ignore_folder = \"random_occlusion\"\n",
    "\n",
    "def get_included_folders(dataset, ignore_folder):\n",
    "    included = set()\n",
    "    for img_path, label in dataset.samples:\n",
    "        # Split the path into parts and ignore if ignore_folder is in the path\n",
    "        if ignore_folder not in img_path.split(\"/\"):\n",
    "            # The folder name just above the image (or the class folder)\n",
    "            folder_name = img_path.split(\"/\")[-2]\n",
    "            included.add(folder_name)\n",
    "    return included\n",
    "\n",
    "train_folders = get_included_folders(train_ds, ignore_folder)\n",
    "val_folders   = get_included_folders(val_ds, ignore_folder)\n",
    "test_folders  = get_included_folders(test_ds, ignore_folder)\n",
    "\n",
    "print(\"Training folders considered:\", train_folders)\n",
    "print(\"Validation folders considered:\", val_folders)\n",
    "print(\"Test folders considered:\", test_folders)"
   ]
  },
  {
   "cell_type": "code",
   "execution_count": 7,
   "id": "4e57f55a",
   "metadata": {
    "execution": {
     "iopub.execute_input": "2025-09-07T15:45:38.936926Z",
     "iopub.status.busy": "2025-09-07T15:45:38.936713Z",
     "iopub.status.idle": "2025-09-07T15:45:38.951258Z",
     "shell.execute_reply": "2025-09-07T15:45:38.950717Z"
    },
    "papermill": {
     "duration": 0.018796,
     "end_time": "2025-09-07T15:45:38.952175",
     "exception": false,
     "start_time": "2025-09-07T15:45:38.933379",
     "status": "completed"
    },
    "tags": []
   },
   "outputs": [],
   "source": [
    "\n",
    "def _make_divisible(v, divisor, min_value=None):\n",
    "    \"\"\"\n",
    "    This function is taken from the original tf repo.\n",
    "    It ensures that all layers have a channel number that is divisible by 8\n",
    "    \"\"\"\n",
    "    if min_value is None:\n",
    "        min_value = divisor\n",
    "    new_v = max(min_value, int(v + divisor / 2) // divisor * divisor)\n",
    "    # Make sure that round down does not go down by more than 10%.\n",
    "    if new_v < 0.9 * v:\n",
    "        new_v += divisor\n",
    "    return new_v\n",
    "\n",
    "class ConvBNReLU(nn.Module):\n",
    "    \"\"\"Standard convolution block: Conv2d + BatchNorm + ReLU6\"\"\"\n",
    "    def __init__(self, in_planes, out_planes, kernel_size=3, stride=1, groups=1, norm_layer=None):\n",
    "        super().__init__()\n",
    "        if norm_layer is None:\n",
    "            norm_layer = nn.BatchNorm2d\n",
    "        padding = (kernel_size - 1) // 2\n",
    "        self.conv = nn.Conv2d(in_planes, out_planes, kernel_size, stride, padding, groups=groups, bias=False)\n",
    "        self.bn = norm_layer(out_planes)\n",
    "        \n",
    "    def forward(self, x):\n",
    "        x = self.conv(x)\n",
    "        x = self.bn(x)\n",
    "        return F.relu6(x, inplace=True)\n",
    "\n",
    "class InvertedResidual(nn.Module):\n",
    "    \"\"\"Inverted Residual Block (Mobile Inverted Bottleneck)\"\"\"\n",
    "    def __init__(self, inp, oup, stride, expand_ratio, norm_layer=None):\n",
    "        super().__init__()\n",
    "        self.stride = stride\n",
    "        if stride not in [1, 2]:\n",
    "            raise ValueError(f\"stride should be 1 or 2 instead of {stride}\")\n",
    "        \n",
    "        if norm_layer is None:\n",
    "            norm_layer = nn.BatchNorm2d\n",
    "            \n",
    "        hidden_dim = int(round(inp * expand_ratio))\n",
    "        self.use_res_connect = self.stride == 1 and inp == oup\n",
    "        \n",
    "        layers = []\n",
    "        \n",
    "        if expand_ratio != 1:\n",
    "            # Pointwise expansion (1x1 conv)\n",
    "            layers.append(ConvBNReLU(inp, hidden_dim, kernel_size=1, norm_layer=norm_layer))\n",
    "        \n",
    "        layers.extend([\n",
    "            # Depthwise convolution (3x3 conv with groups)\n",
    "            ConvBNReLU(hidden_dim, hidden_dim, stride=stride, groups=hidden_dim, norm_layer=norm_layer),\n",
    "            # Pointwise projection (1x1 conv without ReLU)\n",
    "            nn.Conv2d(hidden_dim, oup, 1, 1, 0, bias=False),\n",
    "            norm_layer(oup),\n",
    "        ])\n",
    "        \n",
    "        self.conv = nn.Sequential(*layers)\n",
    "        \n",
    "    def forward(self, x):\n",
    "        if self.use_res_connect:\n",
    "            return x + self.conv(x)\n",
    "        else:\n",
    "            return self.conv(x)\n",
    "\n",
    "class MyMobileNetV2(nn.Module):\n",
    "    \"\"\"MobileNetV2 Implementation from Scratch\"\"\"\n",
    "    def __init__(self, num_classes=4, width_mult=1.0, inverted_residual_setting=None, \n",
    "                 round_nearest=8, block=None, norm_layer=None):\n",
    "        super().__init__()\n",
    "        \n",
    "        if block is None:\n",
    "            block = InvertedResidual\n",
    "        \n",
    "        if norm_layer is None:\n",
    "            norm_layer = nn.BatchNorm2d\n",
    "        \n",
    "        input_channel = 32\n",
    "        last_channel = 1280\n",
    "        \n",
    "        if inverted_residual_setting is None:\n",
    "            inverted_residual_setting = [\n",
    "                # t, c, n, s\n",
    "                [1, 16, 1, 1],   # Stage 1\n",
    "                [6, 24, 2, 2],   # Stage 2\n",
    "                [6, 32, 3, 2],   # Stage 3\n",
    "                [6, 64, 4, 2],   # Stage 4\n",
    "                [6, 96, 3, 1],   # Stage 5\n",
    "                [6, 160, 3, 2],  # Stage 6\n",
    "                [6, 320, 1, 1],  # Stage 7\n",
    "            ]\n",
    "        \n",
    "        # only check the first element, assuming user knows t,c,n,s are required\n",
    "        if len(inverted_residual_setting) == 0 or len(inverted_residual_setting[0]) != 4:\n",
    "            raise ValueError(\"inverted_residual_setting should be non-empty \"\n",
    "                           \"or a 4-element list, got {}\".format(inverted_residual_setting))\n",
    "        \n",
    "        # building first layer\n",
    "        input_channel = _make_divisible(input_channel * width_mult, round_nearest)\n",
    "        self.last_channel = _make_divisible(last_channel * max(1.0, width_mult), round_nearest)\n",
    "        \n",
    "        features = [ConvBNReLU(3, input_channel, stride=2, norm_layer=norm_layer)]\n",
    "        \n",
    "        # building inverted residual blocks\n",
    "        for t, c, n, s in inverted_residual_setting:\n",
    "            output_channel = _make_divisible(c * width_mult, round_nearest)\n",
    "            for i in range(n):\n",
    "                stride = s if i == 0 else 1\n",
    "                features.append(block(input_channel, output_channel, stride, expand_ratio=t, norm_layer=norm_layer))\n",
    "                input_channel = output_channel\n",
    "        \n",
    "        # building last several layers\n",
    "        features.append(ConvBNReLU(input_channel, self.last_channel, kernel_size=1, norm_layer=norm_layer))\n",
    "        \n",
    "        # make it nn.Sequential\n",
    "        self.features = nn.Sequential(*features)\n",
    "        \n",
    "        # building classifier\n",
    "        self.classifier = nn.Sequential(\n",
    "            nn.Dropout(0.2),\n",
    "            nn.Linear(self.last_channel, num_classes),\n",
    "        )\n",
    "        \n",
    "        # weight initialization\n",
    "        self._initialize_weights()\n",
    "    \n",
    "    def _initialize_weights(self):\n",
    "        \"\"\"Initialize weights using appropriate methods\"\"\"\n",
    "        for m in self.modules():\n",
    "            if isinstance(m, nn.Conv2d):\n",
    "                nn.init.kaiming_normal_(m.weight, mode='fan_out', nonlinearity='relu')\n",
    "                if m.bias is not None:\n",
    "                    nn.init.zeros_(m.bias)\n",
    "            elif isinstance(m, (nn.BatchNorm2d, nn.GroupNorm)):\n",
    "                nn.init.ones_(m.weight)\n",
    "                nn.init.zeros_(m.bias)\n",
    "            elif isinstance(m, nn.Linear):\n",
    "                nn.init.normal_(m.weight, 0, 0.01)\n",
    "                nn.init.zeros_(m.bias)\n",
    "    \n",
    "    def _forward_impl(self, x):\n",
    "        # This exists since TorchScript doesn't support inheritance, so the superclass method\n",
    "        # (this one) needs to have a name other than `forward` that can be accessed in a subclass\n",
    "        x = self.features(x)\n",
    "        # Cannot use \"squeeze\" as batch-size can be 1 => must use reshape with x.shape[0]\n",
    "        x = nn.functional.adaptive_avg_pool2d(x, (1, 1))\n",
    "        x = torch.flatten(x, 1)\n",
    "        x = self.classifier(x)\n",
    "        return x\n",
    "    \n",
    "    def forward(self, x):\n",
    "        return self._forward_impl(x)\n",
    "\n",
    "\n"
   ]
  },
  {
   "cell_type": "code",
   "execution_count": 8,
   "id": "a03043d8",
   "metadata": {
    "execution": {
     "iopub.execute_input": "2025-09-07T15:45:38.957794Z",
     "iopub.status.busy": "2025-09-07T15:45:38.957577Z",
     "iopub.status.idle": "2025-09-07T15:45:40.623712Z",
     "shell.execute_reply": "2025-09-07T15:45:40.622945Z"
    },
    "papermill": {
     "duration": 1.671065,
     "end_time": "2025-09-07T15:45:40.625703",
     "exception": false,
     "start_time": "2025-09-07T15:45:38.954638",
     "status": "completed"
    },
    "tags": []
   },
   "outputs": [
    {
     "name": "stdout",
     "output_type": "stream",
     "text": [
      "MobileNetV2 Model Summary:\n",
      "----------------------------------------------------------------\n",
      "        Layer (type)               Output Shape         Param #\n",
      "================================================================\n",
      "            Conv2d-1         [-1, 32, 112, 112]             864\n",
      "       BatchNorm2d-2         [-1, 32, 112, 112]              64\n",
      "        ConvBNReLU-3         [-1, 32, 112, 112]               0\n",
      "            Conv2d-4         [-1, 32, 112, 112]             288\n",
      "       BatchNorm2d-5         [-1, 32, 112, 112]              64\n",
      "        ConvBNReLU-6         [-1, 32, 112, 112]               0\n",
      "            Conv2d-7         [-1, 16, 112, 112]             512\n",
      "       BatchNorm2d-8         [-1, 16, 112, 112]              32\n",
      "  InvertedResidual-9         [-1, 16, 112, 112]               0\n",
      "           Conv2d-10         [-1, 96, 112, 112]           1,536\n",
      "      BatchNorm2d-11         [-1, 96, 112, 112]             192\n",
      "       ConvBNReLU-12         [-1, 96, 112, 112]               0\n",
      "           Conv2d-13           [-1, 96, 56, 56]             864\n",
      "      BatchNorm2d-14           [-1, 96, 56, 56]             192\n",
      "       ConvBNReLU-15           [-1, 96, 56, 56]               0\n",
      "           Conv2d-16           [-1, 24, 56, 56]           2,304\n",
      "      BatchNorm2d-17           [-1, 24, 56, 56]              48\n",
      " InvertedResidual-18           [-1, 24, 56, 56]               0\n",
      "           Conv2d-19          [-1, 144, 56, 56]           3,456\n",
      "      BatchNorm2d-20          [-1, 144, 56, 56]             288\n",
      "       ConvBNReLU-21          [-1, 144, 56, 56]               0\n",
      "           Conv2d-22          [-1, 144, 56, 56]           1,296\n",
      "      BatchNorm2d-23          [-1, 144, 56, 56]             288\n",
      "       ConvBNReLU-24          [-1, 144, 56, 56]               0\n",
      "           Conv2d-25           [-1, 24, 56, 56]           3,456\n",
      "      BatchNorm2d-26           [-1, 24, 56, 56]              48\n",
      " InvertedResidual-27           [-1, 24, 56, 56]               0\n",
      "           Conv2d-28          [-1, 144, 56, 56]           3,456\n",
      "      BatchNorm2d-29          [-1, 144, 56, 56]             288\n",
      "       ConvBNReLU-30          [-1, 144, 56, 56]               0\n",
      "           Conv2d-31          [-1, 144, 28, 28]           1,296\n",
      "      BatchNorm2d-32          [-1, 144, 28, 28]             288\n",
      "       ConvBNReLU-33          [-1, 144, 28, 28]               0\n",
      "           Conv2d-34           [-1, 32, 28, 28]           4,608\n",
      "      BatchNorm2d-35           [-1, 32, 28, 28]              64\n",
      " InvertedResidual-36           [-1, 32, 28, 28]               0\n",
      "           Conv2d-37          [-1, 192, 28, 28]           6,144\n",
      "      BatchNorm2d-38          [-1, 192, 28, 28]             384\n",
      "       ConvBNReLU-39          [-1, 192, 28, 28]               0\n",
      "           Conv2d-40          [-1, 192, 28, 28]           1,728\n",
      "      BatchNorm2d-41          [-1, 192, 28, 28]             384\n",
      "       ConvBNReLU-42          [-1, 192, 28, 28]               0\n",
      "           Conv2d-43           [-1, 32, 28, 28]           6,144\n",
      "      BatchNorm2d-44           [-1, 32, 28, 28]              64\n",
      " InvertedResidual-45           [-1, 32, 28, 28]               0\n",
      "           Conv2d-46          [-1, 192, 28, 28]           6,144\n",
      "      BatchNorm2d-47          [-1, 192, 28, 28]             384\n",
      "       ConvBNReLU-48          [-1, 192, 28, 28]               0\n",
      "           Conv2d-49          [-1, 192, 28, 28]           1,728\n",
      "      BatchNorm2d-50          [-1, 192, 28, 28]             384\n",
      "       ConvBNReLU-51          [-1, 192, 28, 28]               0\n",
      "           Conv2d-52           [-1, 32, 28, 28]           6,144\n",
      "      BatchNorm2d-53           [-1, 32, 28, 28]              64\n",
      " InvertedResidual-54           [-1, 32, 28, 28]               0\n",
      "           Conv2d-55          [-1, 192, 28, 28]           6,144\n",
      "      BatchNorm2d-56          [-1, 192, 28, 28]             384\n",
      "       ConvBNReLU-57          [-1, 192, 28, 28]               0\n",
      "           Conv2d-58          [-1, 192, 14, 14]           1,728\n",
      "      BatchNorm2d-59          [-1, 192, 14, 14]             384\n",
      "       ConvBNReLU-60          [-1, 192, 14, 14]               0\n",
      "           Conv2d-61           [-1, 64, 14, 14]          12,288\n",
      "      BatchNorm2d-62           [-1, 64, 14, 14]             128\n",
      " InvertedResidual-63           [-1, 64, 14, 14]               0\n",
      "           Conv2d-64          [-1, 384, 14, 14]          24,576\n",
      "      BatchNorm2d-65          [-1, 384, 14, 14]             768\n",
      "       ConvBNReLU-66          [-1, 384, 14, 14]               0\n",
      "           Conv2d-67          [-1, 384, 14, 14]           3,456\n",
      "      BatchNorm2d-68          [-1, 384, 14, 14]             768\n",
      "       ConvBNReLU-69          [-1, 384, 14, 14]               0\n",
      "           Conv2d-70           [-1, 64, 14, 14]          24,576\n",
      "      BatchNorm2d-71           [-1, 64, 14, 14]             128\n",
      " InvertedResidual-72           [-1, 64, 14, 14]               0\n",
      "           Conv2d-73          [-1, 384, 14, 14]          24,576\n",
      "      BatchNorm2d-74          [-1, 384, 14, 14]             768\n",
      "       ConvBNReLU-75          [-1, 384, 14, 14]               0\n",
      "           Conv2d-76          [-1, 384, 14, 14]           3,456\n",
      "      BatchNorm2d-77          [-1, 384, 14, 14]             768\n",
      "       ConvBNReLU-78          [-1, 384, 14, 14]               0\n",
      "           Conv2d-79           [-1, 64, 14, 14]          24,576\n",
      "      BatchNorm2d-80           [-1, 64, 14, 14]             128\n",
      " InvertedResidual-81           [-1, 64, 14, 14]               0\n",
      "           Conv2d-82          [-1, 384, 14, 14]          24,576\n",
      "      BatchNorm2d-83          [-1, 384, 14, 14]             768\n",
      "       ConvBNReLU-84          [-1, 384, 14, 14]               0\n",
      "           Conv2d-85          [-1, 384, 14, 14]           3,456\n",
      "      BatchNorm2d-86          [-1, 384, 14, 14]             768\n",
      "       ConvBNReLU-87          [-1, 384, 14, 14]               0\n",
      "           Conv2d-88           [-1, 64, 14, 14]          24,576\n",
      "      BatchNorm2d-89           [-1, 64, 14, 14]             128\n",
      " InvertedResidual-90           [-1, 64, 14, 14]               0\n",
      "           Conv2d-91          [-1, 384, 14, 14]          24,576\n",
      "      BatchNorm2d-92          [-1, 384, 14, 14]             768\n",
      "       ConvBNReLU-93          [-1, 384, 14, 14]               0\n",
      "           Conv2d-94          [-1, 384, 14, 14]           3,456\n",
      "      BatchNorm2d-95          [-1, 384, 14, 14]             768\n",
      "       ConvBNReLU-96          [-1, 384, 14, 14]               0\n",
      "           Conv2d-97           [-1, 96, 14, 14]          36,864\n",
      "      BatchNorm2d-98           [-1, 96, 14, 14]             192\n",
      " InvertedResidual-99           [-1, 96, 14, 14]               0\n",
      "          Conv2d-100          [-1, 576, 14, 14]          55,296\n",
      "     BatchNorm2d-101          [-1, 576, 14, 14]           1,152\n",
      "      ConvBNReLU-102          [-1, 576, 14, 14]               0\n",
      "          Conv2d-103          [-1, 576, 14, 14]           5,184\n",
      "     BatchNorm2d-104          [-1, 576, 14, 14]           1,152\n",
      "      ConvBNReLU-105          [-1, 576, 14, 14]               0\n",
      "          Conv2d-106           [-1, 96, 14, 14]          55,296\n",
      "     BatchNorm2d-107           [-1, 96, 14, 14]             192\n",
      "InvertedResidual-108           [-1, 96, 14, 14]               0\n",
      "          Conv2d-109          [-1, 576, 14, 14]          55,296\n",
      "     BatchNorm2d-110          [-1, 576, 14, 14]           1,152\n",
      "      ConvBNReLU-111          [-1, 576, 14, 14]               0\n",
      "          Conv2d-112          [-1, 576, 14, 14]           5,184\n",
      "     BatchNorm2d-113          [-1, 576, 14, 14]           1,152\n",
      "      ConvBNReLU-114          [-1, 576, 14, 14]               0\n",
      "          Conv2d-115           [-1, 96, 14, 14]          55,296\n",
      "     BatchNorm2d-116           [-1, 96, 14, 14]             192\n",
      "InvertedResidual-117           [-1, 96, 14, 14]               0\n",
      "          Conv2d-118          [-1, 576, 14, 14]          55,296\n",
      "     BatchNorm2d-119          [-1, 576, 14, 14]           1,152\n",
      "      ConvBNReLU-120          [-1, 576, 14, 14]               0\n",
      "          Conv2d-121            [-1, 576, 7, 7]           5,184\n",
      "     BatchNorm2d-122            [-1, 576, 7, 7]           1,152\n",
      "      ConvBNReLU-123            [-1, 576, 7, 7]               0\n",
      "          Conv2d-124            [-1, 160, 7, 7]          92,160\n",
      "     BatchNorm2d-125            [-1, 160, 7, 7]             320\n",
      "InvertedResidual-126            [-1, 160, 7, 7]               0\n",
      "          Conv2d-127            [-1, 960, 7, 7]         153,600\n",
      "     BatchNorm2d-128            [-1, 960, 7, 7]           1,920\n",
      "      ConvBNReLU-129            [-1, 960, 7, 7]               0\n",
      "          Conv2d-130            [-1, 960, 7, 7]           8,640\n",
      "     BatchNorm2d-131            [-1, 960, 7, 7]           1,920\n",
      "      ConvBNReLU-132            [-1, 960, 7, 7]               0\n",
      "          Conv2d-133            [-1, 160, 7, 7]         153,600\n",
      "     BatchNorm2d-134            [-1, 160, 7, 7]             320\n",
      "InvertedResidual-135            [-1, 160, 7, 7]               0\n",
      "          Conv2d-136            [-1, 960, 7, 7]         153,600\n",
      "     BatchNorm2d-137            [-1, 960, 7, 7]           1,920\n",
      "      ConvBNReLU-138            [-1, 960, 7, 7]               0\n",
      "          Conv2d-139            [-1, 960, 7, 7]           8,640\n",
      "     BatchNorm2d-140            [-1, 960, 7, 7]           1,920\n",
      "      ConvBNReLU-141            [-1, 960, 7, 7]               0\n",
      "          Conv2d-142            [-1, 160, 7, 7]         153,600\n",
      "     BatchNorm2d-143            [-1, 160, 7, 7]             320\n",
      "InvertedResidual-144            [-1, 160, 7, 7]               0\n",
      "          Conv2d-145            [-1, 960, 7, 7]         153,600\n",
      "     BatchNorm2d-146            [-1, 960, 7, 7]           1,920\n",
      "      ConvBNReLU-147            [-1, 960, 7, 7]               0\n",
      "          Conv2d-148            [-1, 960, 7, 7]           8,640\n",
      "     BatchNorm2d-149            [-1, 960, 7, 7]           1,920\n",
      "      ConvBNReLU-150            [-1, 960, 7, 7]               0\n",
      "          Conv2d-151            [-1, 320, 7, 7]         307,200\n",
      "     BatchNorm2d-152            [-1, 320, 7, 7]             640\n",
      "InvertedResidual-153            [-1, 320, 7, 7]               0\n",
      "          Conv2d-154           [-1, 1280, 7, 7]         409,600\n",
      "     BatchNorm2d-155           [-1, 1280, 7, 7]           2,560\n",
      "      ConvBNReLU-156           [-1, 1280, 7, 7]               0\n",
      "         Dropout-157                 [-1, 1280]               0\n",
      "          Linear-158                    [-1, 7]           8,967\n",
      "================================================================\n",
      "Total params: 2,232,839\n",
      "Trainable params: 2,232,839\n",
      "Non-trainable params: 0\n",
      "----------------------------------------------------------------\n",
      "Input size (MB): 0.57\n",
      "Forward/backward pass size (MB): 152.86\n",
      "Params size (MB): 8.52\n",
      "Estimated Total Size (MB): 161.95\n",
      "----------------------------------------------------------------\n"
     ]
    }
   ],
   "source": [
    "# -----------------------------\n",
    "# 3. Training Setup\n",
    "# -----------------------------\n",
    "device = torch.device(\"cuda\" if torch.cuda.is_available() else \"cpu\")\n",
    "model = MyMobileNetV2(num_classes=len(classes)).to(device)\n",
    "criterion = nn.CrossEntropyLoss()\n",
    "optimizer = torch.optim.Adam(model.parameters(), lr=0.001)\n",
    "\n",
    "print(\"MobileNetV2 Model Summary:\")\n",
    "try:\n",
    "    summary(model, (3, 224, 224))\n",
    "except:\n",
    "    print(\"Model summary generation failed - this is normal for complex architectures\")\n",
    "    print(f\"Model created successfully with {sum(p.numel() for p in model.parameters()):,} parameters\")\n",
    "\n"
   ]
  },
  {
   "cell_type": "code",
   "execution_count": 9,
   "id": "804fad62",
   "metadata": {
    "execution": {
     "iopub.execute_input": "2025-09-07T15:45:40.632914Z",
     "iopub.status.busy": "2025-09-07T15:45:40.632633Z",
     "iopub.status.idle": "2025-09-07T16:33:39.607916Z",
     "shell.execute_reply": "2025-09-07T16:33:39.607181Z"
    },
    "papermill": {
     "duration": 2878.982063,
     "end_time": "2025-09-07T16:33:39.610896",
     "exception": false,
     "start_time": "2025-09-07T15:45:40.628833",
     "status": "completed"
    },
    "tags": []
   },
   "outputs": [
    {
     "name": "stdout",
     "output_type": "stream",
     "text": [
      "\n",
      "🚀 Starting MobileNetV2 Training for 50 epochs...\n",
      "================================================================================\n",
      "\n",
      "📈 Epoch 1/50\n",
      "--------------------------------------------------\n",
      "🔄 Training Phase...\n"
     ]
    },
    {
     "name": "stderr",
     "output_type": "stream",
     "text": [
      "Training: 100%|██████████████████████████████| 162/162 [01:09<00:00,  2.33it/s, Loss=1.7156, Acc=0.3028]\n"
     ]
    },
    {
     "name": "stdout",
     "output_type": "stream",
     "text": [
      "✅ Training completed in 69.42s\n",
      "🔍 Validation Phase...\n"
     ]
    },
    {
     "name": "stderr",
     "output_type": "stream",
     "text": [
      "Validation: 100%|██████████████████████████████| 42/42 [00:17<00:00,  2.40it/s, Loss=1.6653, Acc=0.3614]\n"
     ]
    },
    {
     "name": "stdout",
     "output_type": "stream",
     "text": [
      "✅ Validation completed in 17.52s\n",
      "🌟 New best MobileNetV2 model found! Validation Accuracy: 0.3614\n",
      "\n",
      "📊 Epoch 1 Summary:\n",
      "│ Train Loss: 1.7156 | Train Acc: 0.3028\n",
      "│ Val Loss:   1.6653 | Val Acc:   0.3614\n",
      "│ Train Time: 69.42s | Val Time: 17.52s\n",
      "│ Total Epoch Time: 86.95s\n",
      "│ Best Val Acc: 0.3614 (Epoch 1)\n",
      "│ GPU Memory: 0.1GB / 2.8GB\n",
      "================================================================================\n",
      "\n",
      "📈 Epoch 2/50\n",
      "--------------------------------------------------\n",
      "🔄 Training Phase...\n"
     ]
    },
    {
     "name": "stderr",
     "output_type": "stream",
     "text": [
      "Training: 100%|██████████████████████████████| 162/162 [00:45<00:00,  3.57it/s, Loss=1.2211, Acc=0.5333]\n"
     ]
    },
    {
     "name": "stdout",
     "output_type": "stream",
     "text": [
      "✅ Training completed in 45.43s\n",
      "🔍 Validation Phase...\n"
     ]
    },
    {
     "name": "stderr",
     "output_type": "stream",
     "text": [
      "Validation: 100%|██████████████████████████████| 42/42 [00:10<00:00,  3.89it/s, Loss=2.8264, Acc=0.3532]\n"
     ]
    },
    {
     "name": "stdout",
     "output_type": "stream",
     "text": [
      "✅ Validation completed in 10.79s\n",
      "\n",
      "📊 Epoch 2 Summary:\n",
      "│ Train Loss: 1.2211 | Train Acc: 0.5333\n",
      "│ Val Loss:   2.8264 | Val Acc:   0.3532\n",
      "│ Train Time: 45.43s | Val Time: 10.79s\n",
      "│ Total Epoch Time: 56.23s\n",
      "│ Best Val Acc: 0.3614 (Epoch 1)\n",
      "│ GPU Memory: 0.1GB / 2.8GB\n",
      "================================================================================\n",
      "\n",
      "📈 Epoch 3/50\n",
      "--------------------------------------------------\n",
      "🔄 Training Phase...\n"
     ]
    },
    {
     "name": "stderr",
     "output_type": "stream",
     "text": [
      "Training: 100%|██████████████████████████████| 162/162 [00:45<00:00,  3.55it/s, Loss=0.7033, Acc=0.7459]\n"
     ]
    },
    {
     "name": "stdout",
     "output_type": "stream",
     "text": [
      "✅ Training completed in 45.61s\n",
      "🔍 Validation Phase...\n"
     ]
    },
    {
     "name": "stderr",
     "output_type": "stream",
     "text": [
      "Validation: 100%|██████████████████████████████| 42/42 [00:10<00:00,  3.89it/s, Loss=3.1971, Acc=0.3916]\n"
     ]
    },
    {
     "name": "stdout",
     "output_type": "stream",
     "text": [
      "✅ Validation completed in 10.80s\n",
      "🌟 New best MobileNetV2 model found! Validation Accuracy: 0.3916\n",
      "\n",
      "📊 Epoch 3 Summary:\n",
      "│ Train Loss: 0.7033 | Train Acc: 0.7459\n",
      "│ Val Loss:   3.1971 | Val Acc:   0.3916\n",
      "│ Train Time: 45.61s | Val Time: 10.80s\n",
      "│ Total Epoch Time: 56.41s\n",
      "│ Best Val Acc: 0.3916 (Epoch 3)\n",
      "│ GPU Memory: 0.1GB / 2.8GB\n",
      "================================================================================\n",
      "\n",
      "📈 Epoch 4/50\n",
      "--------------------------------------------------\n",
      "🔄 Training Phase...\n"
     ]
    },
    {
     "name": "stderr",
     "output_type": "stream",
     "text": [
      "Training: 100%|██████████████████████████████| 162/162 [00:45<00:00,  3.53it/s, Loss=0.3274, Acc=0.8934]\n"
     ]
    },
    {
     "name": "stdout",
     "output_type": "stream",
     "text": [
      "✅ Training completed in 45.87s\n",
      "🔍 Validation Phase...\n"
     ]
    },
    {
     "name": "stderr",
     "output_type": "stream",
     "text": [
      "Validation: 100%|██████████████████████████████| 42/42 [00:10<00:00,  3.88it/s, Loss=2.0136, Acc=0.5008]\n"
     ]
    },
    {
     "name": "stdout",
     "output_type": "stream",
     "text": [
      "✅ Validation completed in 10.82s\n",
      "🌟 New best MobileNetV2 model found! Validation Accuracy: 0.5008\n",
      "\n",
      "📊 Epoch 4 Summary:\n",
      "│ Train Loss: 0.3274 | Train Acc: 0.8934\n",
      "│ Val Loss:   2.0136 | Val Acc:   0.5008\n",
      "│ Train Time: 45.87s | Val Time: 10.82s\n",
      "│ Total Epoch Time: 56.70s\n",
      "│ Best Val Acc: 0.5008 (Epoch 4)\n",
      "│ GPU Memory: 0.1GB / 2.8GB\n",
      "================================================================================\n",
      "\n",
      "📈 Epoch 5/50\n",
      "--------------------------------------------------\n",
      "🔄 Training Phase...\n"
     ]
    },
    {
     "name": "stderr",
     "output_type": "stream",
     "text": [
      "Training: 100%|██████████████████████████████| 162/162 [00:45<00:00,  3.55it/s, Loss=0.1840, Acc=0.9423]\n"
     ]
    },
    {
     "name": "stdout",
     "output_type": "stream",
     "text": [
      "✅ Training completed in 45.69s\n",
      "🔍 Validation Phase...\n"
     ]
    },
    {
     "name": "stderr",
     "output_type": "stream",
     "text": [
      "Validation: 100%|██████████████████████████████| 42/42 [00:10<00:00,  3.87it/s, Loss=2.1543, Acc=0.5173]\n"
     ]
    },
    {
     "name": "stdout",
     "output_type": "stream",
     "text": [
      "✅ Validation completed in 10.86s\n",
      "🌟 New best MobileNetV2 model found! Validation Accuracy: 0.5173\n",
      "\n",
      "📊 Epoch 5 Summary:\n",
      "│ Train Loss: 0.1840 | Train Acc: 0.9423\n",
      "│ Val Loss:   2.1543 | Val Acc:   0.5173\n",
      "│ Train Time: 45.69s | Val Time: 10.86s\n",
      "│ Total Epoch Time: 56.56s\n",
      "│ Best Val Acc: 0.5173 (Epoch 5)\n",
      "│ GPU Memory: 0.1GB / 2.8GB\n",
      "================================================================================\n",
      "\n",
      "📈 Epoch 6/50\n",
      "--------------------------------------------------\n",
      "🔄 Training Phase...\n"
     ]
    },
    {
     "name": "stderr",
     "output_type": "stream",
     "text": [
      "Training: 100%|██████████████████████████████| 162/162 [00:45<00:00,  3.55it/s, Loss=0.1054, Acc=0.9687]\n"
     ]
    },
    {
     "name": "stdout",
     "output_type": "stream",
     "text": [
      "✅ Training completed in 45.64s\n",
      "🔍 Validation Phase...\n"
     ]
    },
    {
     "name": "stderr",
     "output_type": "stream",
     "text": [
      "Validation: 100%|██████████████████████████████| 42/42 [00:11<00:00,  3.79it/s, Loss=2.4505, Acc=0.5166]\n"
     ]
    },
    {
     "name": "stdout",
     "output_type": "stream",
     "text": [
      "✅ Validation completed in 11.08s\n",
      "\n",
      "📊 Epoch 6 Summary:\n",
      "│ Train Loss: 0.1054 | Train Acc: 0.9687\n",
      "│ Val Loss:   2.4505 | Val Acc:   0.5166\n",
      "│ Train Time: 45.64s | Val Time: 11.08s\n",
      "│ Total Epoch Time: 56.72s\n",
      "│ Best Val Acc: 0.5173 (Epoch 5)\n",
      "│ GPU Memory: 0.1GB / 2.8GB\n",
      "================================================================================\n",
      "\n",
      "📈 Epoch 7/50\n",
      "--------------------------------------------------\n",
      "🔄 Training Phase...\n"
     ]
    },
    {
     "name": "stderr",
     "output_type": "stream",
     "text": [
      "Training: 100%|██████████████████████████████| 162/162 [00:45<00:00,  3.54it/s, Loss=0.0722, Acc=0.9783]\n"
     ]
    },
    {
     "name": "stdout",
     "output_type": "stream",
     "text": [
      "✅ Training completed in 45.73s\n",
      "🔍 Validation Phase...\n"
     ]
    },
    {
     "name": "stderr",
     "output_type": "stream",
     "text": [
      "Validation: 100%|██████████████████████████████| 42/42 [00:10<00:00,  3.87it/s, Loss=2.1416, Acc=0.5670]\n"
     ]
    },
    {
     "name": "stdout",
     "output_type": "stream",
     "text": [
      "✅ Validation completed in 10.85s\n",
      "🌟 New best MobileNetV2 model found! Validation Accuracy: 0.5670\n",
      "\n",
      "📊 Epoch 7 Summary:\n",
      "│ Train Loss: 0.0722 | Train Acc: 0.9783\n",
      "│ Val Loss:   2.1416 | Val Acc:   0.5670\n",
      "│ Train Time: 45.73s | Val Time: 10.85s\n",
      "│ Total Epoch Time: 56.59s\n",
      "│ Best Val Acc: 0.5670 (Epoch 7)\n",
      "│ GPU Memory: 0.1GB / 2.8GB\n",
      "================================================================================\n",
      "\n",
      "📈 Epoch 8/50\n",
      "--------------------------------------------------\n",
      "🔄 Training Phase...\n"
     ]
    },
    {
     "name": "stderr",
     "output_type": "stream",
     "text": [
      "Training: 100%|██████████████████████████████| 162/162 [00:45<00:00,  3.53it/s, Loss=0.0859, Acc=0.9708]\n"
     ]
    },
    {
     "name": "stdout",
     "output_type": "stream",
     "text": [
      "✅ Training completed in 45.84s\n",
      "🔍 Validation Phase...\n"
     ]
    },
    {
     "name": "stderr",
     "output_type": "stream",
     "text": [
      "Validation: 100%|██████████████████████████████| 42/42 [00:10<00:00,  3.91it/s, Loss=2.6273, Acc=0.5331]\n"
     ]
    },
    {
     "name": "stdout",
     "output_type": "stream",
     "text": [
      "✅ Validation completed in 10.73s\n",
      "\n",
      "📊 Epoch 8 Summary:\n",
      "│ Train Loss: 0.0859 | Train Acc: 0.9708\n",
      "│ Val Loss:   2.6273 | Val Acc:   0.5331\n",
      "│ Train Time: 45.84s | Val Time: 10.73s\n",
      "│ Total Epoch Time: 56.57s\n",
      "│ Best Val Acc: 0.5670 (Epoch 7)\n",
      "│ GPU Memory: 0.1GB / 2.8GB\n",
      "================================================================================\n",
      "\n",
      "📈 Epoch 9/50\n",
      "--------------------------------------------------\n",
      "🔄 Training Phase...\n"
     ]
    },
    {
     "name": "stderr",
     "output_type": "stream",
     "text": [
      "Training: 100%|██████████████████████████████| 162/162 [00:45<00:00,  3.54it/s, Loss=0.1119, Acc=0.9609]\n"
     ]
    },
    {
     "name": "stdout",
     "output_type": "stream",
     "text": [
      "✅ Training completed in 45.74s\n",
      "🔍 Validation Phase...\n"
     ]
    },
    {
     "name": "stderr",
     "output_type": "stream",
     "text": [
      "Validation: 100%|██████████████████████████████| 42/42 [00:10<00:00,  3.85it/s, Loss=3.8789, Acc=0.4270]\n"
     ]
    },
    {
     "name": "stdout",
     "output_type": "stream",
     "text": [
      "✅ Validation completed in 10.90s\n",
      "\n",
      "📊 Epoch 9 Summary:\n",
      "│ Train Loss: 0.1119 | Train Acc: 0.9609\n",
      "│ Val Loss:   3.8789 | Val Acc:   0.4270\n",
      "│ Train Time: 45.74s | Val Time: 10.90s\n",
      "│ Total Epoch Time: 56.65s\n",
      "│ Best Val Acc: 0.5670 (Epoch 7)\n",
      "│ GPU Memory: 0.1GB / 2.8GB\n",
      "================================================================================\n",
      "\n",
      "📈 Epoch 10/50\n",
      "--------------------------------------------------\n",
      "🔄 Training Phase...\n"
     ]
    },
    {
     "name": "stderr",
     "output_type": "stream",
     "text": [
      "Training: 100%|██████████████████████████████| 162/162 [00:46<00:00,  3.51it/s, Loss=0.0963, Acc=0.9677]\n"
     ]
    },
    {
     "name": "stdout",
     "output_type": "stream",
     "text": [
      "✅ Training completed in 46.11s\n",
      "🔍 Validation Phase...\n"
     ]
    },
    {
     "name": "stderr",
     "output_type": "stream",
     "text": [
      "Validation: 100%|██████████████████████████████| 42/42 [00:11<00:00,  3.79it/s, Loss=2.4311, Acc=0.5535]\n"
     ]
    },
    {
     "name": "stdout",
     "output_type": "stream",
     "text": [
      "✅ Validation completed in 11.07s\n",
      "\n",
      "📊 Epoch 10 Summary:\n",
      "│ Train Loss: 0.0963 | Train Acc: 0.9677\n",
      "│ Val Loss:   2.4311 | Val Acc:   0.5535\n",
      "│ Train Time: 46.11s | Val Time: 11.07s\n",
      "│ Total Epoch Time: 57.18s\n",
      "│ Best Val Acc: 0.5670 (Epoch 7)\n",
      "│ GPU Memory: 0.1GB / 2.8GB\n",
      "================================================================================\n",
      "\n",
      "📈 Epoch 11/50\n",
      "--------------------------------------------------\n",
      "🔄 Training Phase...\n"
     ]
    },
    {
     "name": "stderr",
     "output_type": "stream",
     "text": [
      "Training: 100%|██████████████████████████████| 162/162 [00:45<00:00,  3.52it/s, Loss=0.0611, Acc=0.9807]\n"
     ]
    },
    {
     "name": "stdout",
     "output_type": "stream",
     "text": [
      "✅ Training completed in 45.97s\n",
      "🔍 Validation Phase...\n"
     ]
    },
    {
     "name": "stderr",
     "output_type": "stream",
     "text": [
      "Validation: 100%|██████████████████████████████| 42/42 [00:10<00:00,  3.86it/s, Loss=2.4740, Acc=0.5527]\n"
     ]
    },
    {
     "name": "stdout",
     "output_type": "stream",
     "text": [
      "✅ Validation completed in 10.88s\n",
      "\n",
      "📊 Epoch 11 Summary:\n",
      "│ Train Loss: 0.0611 | Train Acc: 0.9807\n",
      "│ Val Loss:   2.4740 | Val Acc:   0.5527\n",
      "│ Train Time: 45.97s | Val Time: 10.88s\n",
      "│ Total Epoch Time: 56.85s\n",
      "│ Best Val Acc: 0.5670 (Epoch 7)\n",
      "│ GPU Memory: 0.1GB / 2.8GB\n",
      "================================================================================\n",
      "\n",
      "📈 Epoch 12/50\n",
      "--------------------------------------------------\n",
      "🔄 Training Phase...\n"
     ]
    },
    {
     "name": "stderr",
     "output_type": "stream",
     "text": [
      "Training: 100%|██████████████████████████████| 162/162 [00:45<00:00,  3.55it/s, Loss=0.0502, Acc=0.9828]\n"
     ]
    },
    {
     "name": "stdout",
     "output_type": "stream",
     "text": [
      "✅ Training completed in 45.59s\n",
      "🔍 Validation Phase...\n"
     ]
    },
    {
     "name": "stderr",
     "output_type": "stream",
     "text": [
      "Validation: 100%|██████████████████████████████| 42/42 [00:10<00:00,  3.90it/s, Loss=2.5451, Acc=0.5655]\n"
     ]
    },
    {
     "name": "stdout",
     "output_type": "stream",
     "text": [
      "✅ Validation completed in 10.77s\n",
      "\n",
      "📊 Epoch 12 Summary:\n",
      "│ Train Loss: 0.0502 | Train Acc: 0.9828\n",
      "│ Val Loss:   2.5451 | Val Acc:   0.5655\n",
      "│ Train Time: 45.59s | Val Time: 10.77s\n",
      "│ Total Epoch Time: 56.37s\n",
      "│ Best Val Acc: 0.5670 (Epoch 7)\n",
      "│ GPU Memory: 0.1GB / 2.8GB\n",
      "================================================================================\n",
      "\n",
      "📈 Epoch 13/50\n",
      "--------------------------------------------------\n",
      "🔄 Training Phase...\n"
     ]
    },
    {
     "name": "stderr",
     "output_type": "stream",
     "text": [
      "Training: 100%|██████████████████████████████| 162/162 [00:45<00:00,  3.54it/s, Loss=0.0294, Acc=0.9896]\n"
     ]
    },
    {
     "name": "stdout",
     "output_type": "stream",
     "text": [
      "✅ Training completed in 45.77s\n",
      "🔍 Validation Phase...\n"
     ]
    },
    {
     "name": "stderr",
     "output_type": "stream",
     "text": [
      "Validation: 100%|██████████████████████████████| 42/42 [00:10<00:00,  3.89it/s, Loss=2.9231, Acc=0.5098]\n"
     ]
    },
    {
     "name": "stdout",
     "output_type": "stream",
     "text": [
      "✅ Validation completed in 10.79s\n",
      "\n",
      "📊 Epoch 13 Summary:\n",
      "│ Train Loss: 0.0294 | Train Acc: 0.9896\n",
      "│ Val Loss:   2.9231 | Val Acc:   0.5098\n",
      "│ Train Time: 45.77s | Val Time: 10.79s\n",
      "│ Total Epoch Time: 56.56s\n",
      "│ Best Val Acc: 0.5670 (Epoch 7)\n",
      "│ GPU Memory: 0.1GB / 2.8GB\n",
      "================================================================================\n",
      "\n",
      "📈 Epoch 14/50\n",
      "--------------------------------------------------\n",
      "🔄 Training Phase...\n"
     ]
    },
    {
     "name": "stderr",
     "output_type": "stream",
     "text": [
      "Training: 100%|██████████████████████████████| 162/162 [00:46<00:00,  3.52it/s, Loss=0.0531, Acc=0.9828]\n"
     ]
    },
    {
     "name": "stdout",
     "output_type": "stream",
     "text": [
      "✅ Training completed in 46.01s\n",
      "🔍 Validation Phase...\n"
     ]
    },
    {
     "name": "stderr",
     "output_type": "stream",
     "text": [
      "Validation: 100%|██████████████████████████████| 42/42 [00:10<00:00,  3.88it/s, Loss=2.9602, Acc=0.4819]\n"
     ]
    },
    {
     "name": "stdout",
     "output_type": "stream",
     "text": [
      "✅ Validation completed in 10.82s\n",
      "\n",
      "📊 Epoch 14 Summary:\n",
      "│ Train Loss: 0.0531 | Train Acc: 0.9828\n",
      "│ Val Loss:   2.9602 | Val Acc:   0.4819\n",
      "│ Train Time: 46.01s | Val Time: 10.82s\n",
      "│ Total Epoch Time: 56.83s\n",
      "│ Best Val Acc: 0.5670 (Epoch 7)\n",
      "│ GPU Memory: 0.1GB / 2.8GB\n",
      "================================================================================\n",
      "\n",
      "📈 Epoch 15/50\n",
      "--------------------------------------------------\n",
      "🔄 Training Phase...\n"
     ]
    },
    {
     "name": "stderr",
     "output_type": "stream",
     "text": [
      "Training: 100%|██████████████████████████████| 162/162 [00:45<00:00,  3.55it/s, Loss=0.0808, Acc=0.9750]\n"
     ]
    },
    {
     "name": "stdout",
     "output_type": "stream",
     "text": [
      "✅ Training completed in 45.61s\n",
      "🔍 Validation Phase...\n"
     ]
    },
    {
     "name": "stderr",
     "output_type": "stream",
     "text": [
      "Validation: 100%|██████████████████████████████| 42/42 [00:10<00:00,  3.86it/s, Loss=3.1229, Acc=0.5060]\n"
     ]
    },
    {
     "name": "stdout",
     "output_type": "stream",
     "text": [
      "✅ Validation completed in 10.89s\n",
      "\n",
      "📊 Epoch 15 Summary:\n",
      "│ Train Loss: 0.0808 | Train Acc: 0.9750\n",
      "│ Val Loss:   3.1229 | Val Acc:   0.5060\n",
      "│ Train Time: 45.61s | Val Time: 10.89s\n",
      "│ Total Epoch Time: 56.51s\n",
      "│ Best Val Acc: 0.5670 (Epoch 7)\n",
      "│ GPU Memory: 0.1GB / 2.8GB\n",
      "================================================================================\n",
      "\n",
      "📈 Epoch 16/50\n",
      "--------------------------------------------------\n",
      "🔄 Training Phase...\n"
     ]
    },
    {
     "name": "stderr",
     "output_type": "stream",
     "text": [
      "Training: 100%|██████████████████████████████| 162/162 [00:45<00:00,  3.57it/s, Loss=0.0731, Acc=0.9768]\n"
     ]
    },
    {
     "name": "stdout",
     "output_type": "stream",
     "text": [
      "✅ Training completed in 45.44s\n",
      "🔍 Validation Phase...\n"
     ]
    },
    {
     "name": "stderr",
     "output_type": "stream",
     "text": [
      "Validation: 100%|██████████████████████████████| 42/42 [00:10<00:00,  3.85it/s, Loss=2.8906, Acc=0.4917]\n"
     ]
    },
    {
     "name": "stdout",
     "output_type": "stream",
     "text": [
      "✅ Validation completed in 10.90s\n",
      "\n",
      "📊 Epoch 16 Summary:\n",
      "│ Train Loss: 0.0731 | Train Acc: 0.9768\n",
      "│ Val Loss:   2.8906 | Val Acc:   0.4917\n",
      "│ Train Time: 45.44s | Val Time: 10.90s\n",
      "│ Total Epoch Time: 56.34s\n",
      "│ Best Val Acc: 0.5670 (Epoch 7)\n",
      "│ GPU Memory: 0.1GB / 2.8GB\n",
      "================================================================================\n",
      "\n",
      "📈 Epoch 17/50\n",
      "--------------------------------------------------\n",
      "🔄 Training Phase...\n"
     ]
    },
    {
     "name": "stderr",
     "output_type": "stream",
     "text": [
      "Training: 100%|██████████████████████████████| 162/162 [00:45<00:00,  3.54it/s, Loss=0.0248, Acc=0.9915]\n"
     ]
    },
    {
     "name": "stdout",
     "output_type": "stream",
     "text": [
      "✅ Training completed in 45.74s\n",
      "🔍 Validation Phase...\n"
     ]
    },
    {
     "name": "stderr",
     "output_type": "stream",
     "text": [
      "Validation: 100%|██████████████████████████████| 42/42 [00:11<00:00,  3.81it/s, Loss=2.8927, Acc=0.5301]\n"
     ]
    },
    {
     "name": "stdout",
     "output_type": "stream",
     "text": [
      "✅ Validation completed in 11.04s\n",
      "\n",
      "📊 Epoch 17 Summary:\n",
      "│ Train Loss: 0.0248 | Train Acc: 0.9915\n",
      "│ Val Loss:   2.8927 | Val Acc:   0.5301\n",
      "│ Train Time: 45.74s | Val Time: 11.04s\n",
      "│ Total Epoch Time: 56.78s\n",
      "│ Best Val Acc: 0.5670 (Epoch 7)\n",
      "│ GPU Memory: 0.1GB / 2.8GB\n",
      "================================================================================\n",
      "\n",
      "📈 Epoch 18/50\n",
      "--------------------------------------------------\n",
      "🔄 Training Phase...\n"
     ]
    },
    {
     "name": "stderr",
     "output_type": "stream",
     "text": [
      "Training: 100%|██████████████████████████████| 162/162 [00:45<00:00,  3.55it/s, Loss=0.0148, Acc=0.9932]\n"
     ]
    },
    {
     "name": "stdout",
     "output_type": "stream",
     "text": [
      "✅ Training completed in 45.67s\n",
      "🔍 Validation Phase...\n"
     ]
    },
    {
     "name": "stderr",
     "output_type": "stream",
     "text": [
      "Validation: 100%|██████████████████████████████| 42/42 [00:10<00:00,  3.83it/s, Loss=2.9545, Acc=0.5527]\n"
     ]
    },
    {
     "name": "stdout",
     "output_type": "stream",
     "text": [
      "✅ Validation completed in 10.97s\n",
      "\n",
      "📊 Epoch 18 Summary:\n",
      "│ Train Loss: 0.0148 | Train Acc: 0.9932\n",
      "│ Val Loss:   2.9545 | Val Acc:   0.5527\n",
      "│ Train Time: 45.67s | Val Time: 10.97s\n",
      "│ Total Epoch Time: 56.64s\n",
      "│ Best Val Acc: 0.5670 (Epoch 7)\n",
      "│ GPU Memory: 0.1GB / 2.8GB\n",
      "================================================================================\n",
      "\n",
      "📈 Epoch 19/50\n",
      "--------------------------------------------------\n",
      "🔄 Training Phase...\n"
     ]
    },
    {
     "name": "stderr",
     "output_type": "stream",
     "text": [
      "Training: 100%|██████████████████████████████| 162/162 [00:45<00:00,  3.54it/s, Loss=0.0139, Acc=0.9942]\n"
     ]
    },
    {
     "name": "stdout",
     "output_type": "stream",
     "text": [
      "✅ Training completed in 45.80s\n",
      "🔍 Validation Phase...\n"
     ]
    },
    {
     "name": "stderr",
     "output_type": "stream",
     "text": [
      "Validation: 100%|██████████████████████████████| 42/42 [00:10<00:00,  3.90it/s, Loss=3.1281, Acc=0.5633]\n"
     ]
    },
    {
     "name": "stdout",
     "output_type": "stream",
     "text": [
      "✅ Validation completed in 10.76s\n",
      "\n",
      "📊 Epoch 19 Summary:\n",
      "│ Train Loss: 0.0139 | Train Acc: 0.9942\n",
      "│ Val Loss:   3.1281 | Val Acc:   0.5633\n",
      "│ Train Time: 45.80s | Val Time: 10.76s\n",
      "│ Total Epoch Time: 56.57s\n",
      "│ Best Val Acc: 0.5670 (Epoch 7)\n",
      "│ GPU Memory: 0.1GB / 2.8GB\n",
      "================================================================================\n",
      "\n",
      "📈 Epoch 20/50\n",
      "--------------------------------------------------\n",
      "🔄 Training Phase...\n"
     ]
    },
    {
     "name": "stderr",
     "output_type": "stream",
     "text": [
      "Training: 100%|██████████████████████████████| 162/162 [00:45<00:00,  3.57it/s, Loss=0.0131, Acc=0.9944]\n"
     ]
    },
    {
     "name": "stdout",
     "output_type": "stream",
     "text": [
      "✅ Training completed in 45.42s\n",
      "🔍 Validation Phase...\n"
     ]
    },
    {
     "name": "stderr",
     "output_type": "stream",
     "text": [
      "Validation: 100%|██████████████████████████████| 42/42 [00:10<00:00,  3.95it/s, Loss=3.1592, Acc=0.5444]\n"
     ]
    },
    {
     "name": "stdout",
     "output_type": "stream",
     "text": [
      "✅ Validation completed in 10.63s\n",
      "\n",
      "📊 Epoch 20 Summary:\n",
      "│ Train Loss: 0.0131 | Train Acc: 0.9944\n",
      "│ Val Loss:   3.1592 | Val Acc:   0.5444\n",
      "│ Train Time: 45.42s | Val Time: 10.63s\n",
      "│ Total Epoch Time: 56.06s\n",
      "│ Best Val Acc: 0.5670 (Epoch 7)\n",
      "│ GPU Memory: 0.1GB / 2.8GB\n",
      "================================================================================\n",
      "\n",
      "📈 Epoch 21/50\n",
      "--------------------------------------------------\n",
      "🔄 Training Phase...\n"
     ]
    },
    {
     "name": "stderr",
     "output_type": "stream",
     "text": [
      "Training: 100%|██████████████████████████████| 162/162 [00:45<00:00,  3.56it/s, Loss=0.0285, Acc=0.9880]\n"
     ]
    },
    {
     "name": "stdout",
     "output_type": "stream",
     "text": [
      "✅ Training completed in 45.56s\n",
      "🔍 Validation Phase...\n"
     ]
    },
    {
     "name": "stderr",
     "output_type": "stream",
     "text": [
      "Validation: 100%|██████████████████████████████| 42/42 [00:10<00:00,  3.93it/s, Loss=3.9489, Acc=0.4992]\n"
     ]
    },
    {
     "name": "stdout",
     "output_type": "stream",
     "text": [
      "✅ Validation completed in 10.70s\n",
      "\n",
      "📊 Epoch 21 Summary:\n",
      "│ Train Loss: 0.0285 | Train Acc: 0.9880\n",
      "│ Val Loss:   3.9489 | Val Acc:   0.4992\n",
      "│ Train Time: 45.56s | Val Time: 10.70s\n",
      "│ Total Epoch Time: 56.26s\n",
      "│ Best Val Acc: 0.5670 (Epoch 7)\n",
      "│ GPU Memory: 0.1GB / 2.8GB\n",
      "================================================================================\n",
      "\n",
      "📈 Epoch 22/50\n",
      "--------------------------------------------------\n",
      "🔄 Training Phase...\n"
     ]
    },
    {
     "name": "stderr",
     "output_type": "stream",
     "text": [
      "Training: 100%|██████████████████████████████| 162/162 [00:45<00:00,  3.55it/s, Loss=0.2160, Acc=0.9315]\n"
     ]
    },
    {
     "name": "stdout",
     "output_type": "stream",
     "text": [
      "✅ Training completed in 45.61s\n",
      "🔍 Validation Phase...\n"
     ]
    },
    {
     "name": "stderr",
     "output_type": "stream",
     "text": [
      "Validation: 100%|██████████████████████████████| 42/42 [00:10<00:00,  3.92it/s, Loss=3.0779, Acc=0.4895]\n"
     ]
    },
    {
     "name": "stdout",
     "output_type": "stream",
     "text": [
      "✅ Validation completed in 10.73s\n",
      "\n",
      "📊 Epoch 22 Summary:\n",
      "│ Train Loss: 0.2160 | Train Acc: 0.9315\n",
      "│ Val Loss:   3.0779 | Val Acc:   0.4895\n",
      "│ Train Time: 45.61s | Val Time: 10.73s\n",
      "│ Total Epoch Time: 56.34s\n",
      "│ Best Val Acc: 0.5670 (Epoch 7)\n",
      "│ GPU Memory: 0.1GB / 2.8GB\n",
      "================================================================================\n",
      "\n",
      "📈 Epoch 23/50\n",
      "--------------------------------------------------\n",
      "🔄 Training Phase...\n"
     ]
    },
    {
     "name": "stderr",
     "output_type": "stream",
     "text": [
      "Training: 100%|██████████████████████████████| 162/162 [00:45<00:00,  3.54it/s, Loss=0.0458, Acc=0.9843]\n"
     ]
    },
    {
     "name": "stdout",
     "output_type": "stream",
     "text": [
      "✅ Training completed in 45.72s\n",
      "🔍 Validation Phase...\n"
     ]
    },
    {
     "name": "stderr",
     "output_type": "stream",
     "text": [
      "Validation: 100%|██████████████████████████████| 42/42 [00:10<00:00,  3.95it/s, Loss=2.9581, Acc=0.5520]\n"
     ]
    },
    {
     "name": "stdout",
     "output_type": "stream",
     "text": [
      "✅ Validation completed in 10.64s\n",
      "\n",
      "📊 Epoch 23 Summary:\n",
      "│ Train Loss: 0.0458 | Train Acc: 0.9843\n",
      "│ Val Loss:   2.9581 | Val Acc:   0.5520\n",
      "│ Train Time: 45.72s | Val Time: 10.64s\n",
      "│ Total Epoch Time: 56.36s\n",
      "│ Best Val Acc: 0.5670 (Epoch 7)\n",
      "│ GPU Memory: 0.1GB / 2.8GB\n",
      "================================================================================\n",
      "\n",
      "📈 Epoch 24/50\n",
      "--------------------------------------------------\n",
      "🔄 Training Phase...\n"
     ]
    },
    {
     "name": "stderr",
     "output_type": "stream",
     "text": [
      "Training: 100%|██████████████████████████████| 162/162 [00:45<00:00,  3.56it/s, Loss=0.0232, Acc=0.9919]\n"
     ]
    },
    {
     "name": "stdout",
     "output_type": "stream",
     "text": [
      "✅ Training completed in 45.51s\n",
      "🔍 Validation Phase...\n"
     ]
    },
    {
     "name": "stderr",
     "output_type": "stream",
     "text": [
      "Validation: 100%|██████████████████████████████| 42/42 [00:10<00:00,  3.91it/s, Loss=2.9764, Acc=0.5136]\n"
     ]
    },
    {
     "name": "stdout",
     "output_type": "stream",
     "text": [
      "✅ Validation completed in 10.76s\n",
      "\n",
      "📊 Epoch 24 Summary:\n",
      "│ Train Loss: 0.0232 | Train Acc: 0.9919\n",
      "│ Val Loss:   2.9764 | Val Acc:   0.5136\n",
      "│ Train Time: 45.51s | Val Time: 10.76s\n",
      "│ Total Epoch Time: 56.27s\n",
      "│ Best Val Acc: 0.5670 (Epoch 7)\n",
      "│ GPU Memory: 0.1GB / 2.8GB\n",
      "================================================================================\n",
      "\n",
      "📈 Epoch 25/50\n",
      "--------------------------------------------------\n",
      "🔄 Training Phase...\n"
     ]
    },
    {
     "name": "stderr",
     "output_type": "stream",
     "text": [
      "Training: 100%|██████████████████████████████| 162/162 [00:45<00:00,  3.54it/s, Loss=0.0184, Acc=0.9921]\n"
     ]
    },
    {
     "name": "stdout",
     "output_type": "stream",
     "text": [
      "✅ Training completed in 45.80s\n",
      "🔍 Validation Phase...\n"
     ]
    },
    {
     "name": "stderr",
     "output_type": "stream",
     "text": [
      "Validation: 100%|██████████████████████████████| 42/42 [00:10<00:00,  3.88it/s, Loss=2.7585, Acc=0.5700]\n"
     ]
    },
    {
     "name": "stdout",
     "output_type": "stream",
     "text": [
      "✅ Validation completed in 10.83s\n",
      "🌟 New best MobileNetV2 model found! Validation Accuracy: 0.5700\n",
      "\n",
      "📊 Epoch 25 Summary:\n",
      "│ Train Loss: 0.0184 | Train Acc: 0.9921\n",
      "│ Val Loss:   2.7585 | Val Acc:   0.5700\n",
      "│ Train Time: 45.80s | Val Time: 10.83s\n",
      "│ Total Epoch Time: 56.64s\n",
      "│ Best Val Acc: 0.5700 (Epoch 25)\n",
      "│ GPU Memory: 0.1GB / 2.8GB\n",
      "================================================================================\n",
      "\n",
      "📈 Epoch 26/50\n",
      "--------------------------------------------------\n",
      "🔄 Training Phase...\n"
     ]
    },
    {
     "name": "stderr",
     "output_type": "stream",
     "text": [
      "Training: 100%|██████████████████████████████| 162/162 [00:45<00:00,  3.55it/s, Loss=0.0130, Acc=0.9938]\n"
     ]
    },
    {
     "name": "stdout",
     "output_type": "stream",
     "text": [
      "✅ Training completed in 45.61s\n",
      "🔍 Validation Phase...\n"
     ]
    },
    {
     "name": "stderr",
     "output_type": "stream",
     "text": [
      "Validation: 100%|██████████████████████████████| 42/42 [00:10<00:00,  3.91it/s, Loss=2.9994, Acc=0.5437]\n"
     ]
    },
    {
     "name": "stdout",
     "output_type": "stream",
     "text": [
      "✅ Validation completed in 10.76s\n",
      "\n",
      "📊 Epoch 26 Summary:\n",
      "│ Train Loss: 0.0130 | Train Acc: 0.9938\n",
      "│ Val Loss:   2.9994 | Val Acc:   0.5437\n",
      "│ Train Time: 45.61s | Val Time: 10.76s\n",
      "│ Total Epoch Time: 56.37s\n",
      "│ Best Val Acc: 0.5700 (Epoch 25)\n",
      "│ GPU Memory: 0.1GB / 2.8GB\n",
      "================================================================================\n",
      "\n",
      "📈 Epoch 27/50\n",
      "--------------------------------------------------\n",
      "🔄 Training Phase...\n"
     ]
    },
    {
     "name": "stderr",
     "output_type": "stream",
     "text": [
      "Training: 100%|██████████████████████████████| 162/162 [00:45<00:00,  3.55it/s, Loss=0.0092, Acc=0.9948]\n"
     ]
    },
    {
     "name": "stdout",
     "output_type": "stream",
     "text": [
      "✅ Training completed in 45.60s\n",
      "🔍 Validation Phase...\n"
     ]
    },
    {
     "name": "stderr",
     "output_type": "stream",
     "text": [
      "Validation: 100%|██████████████████████████████| 42/42 [00:10<00:00,  3.89it/s, Loss=3.0221, Acc=0.5354]\n"
     ]
    },
    {
     "name": "stdout",
     "output_type": "stream",
     "text": [
      "✅ Validation completed in 10.81s\n",
      "\n",
      "📊 Epoch 27 Summary:\n",
      "│ Train Loss: 0.0092 | Train Acc: 0.9948\n",
      "│ Val Loss:   3.0221 | Val Acc:   0.5354\n",
      "│ Train Time: 45.60s | Val Time: 10.81s\n",
      "│ Total Epoch Time: 56.42s\n",
      "│ Best Val Acc: 0.5700 (Epoch 25)\n",
      "│ GPU Memory: 0.1GB / 2.8GB\n",
      "================================================================================\n",
      "\n",
      "📈 Epoch 28/50\n",
      "--------------------------------------------------\n",
      "🔄 Training Phase...\n"
     ]
    },
    {
     "name": "stderr",
     "output_type": "stream",
     "text": [
      "Training: 100%|██████████████████████████████| 162/162 [00:45<00:00,  3.55it/s, Loss=0.0099, Acc=0.9944]\n"
     ]
    },
    {
     "name": "stdout",
     "output_type": "stream",
     "text": [
      "✅ Training completed in 45.66s\n",
      "🔍 Validation Phase...\n"
     ]
    },
    {
     "name": "stderr",
     "output_type": "stream",
     "text": [
      "Validation: 100%|██████████████████████████████| 42/42 [00:10<00:00,  3.96it/s, Loss=2.8689, Acc=0.5346]\n"
     ]
    },
    {
     "name": "stdout",
     "output_type": "stream",
     "text": [
      "✅ Validation completed in 10.62s\n",
      "\n",
      "📊 Epoch 28 Summary:\n",
      "│ Train Loss: 0.0099 | Train Acc: 0.9944\n",
      "│ Val Loss:   2.8689 | Val Acc:   0.5346\n",
      "│ Train Time: 45.66s | Val Time: 10.62s\n",
      "│ Total Epoch Time: 56.29s\n",
      "│ Best Val Acc: 0.5700 (Epoch 25)\n",
      "│ GPU Memory: 0.1GB / 2.8GB\n",
      "================================================================================\n",
      "\n",
      "📈 Epoch 29/50\n",
      "--------------------------------------------------\n",
      "🔄 Training Phase...\n"
     ]
    },
    {
     "name": "stderr",
     "output_type": "stream",
     "text": [
      "Training: 100%|██████████████████████████████| 162/162 [00:45<00:00,  3.56it/s, Loss=0.0082, Acc=0.9954]\n"
     ]
    },
    {
     "name": "stdout",
     "output_type": "stream",
     "text": [
      "✅ Training completed in 45.46s\n",
      "🔍 Validation Phase...\n"
     ]
    },
    {
     "name": "stderr",
     "output_type": "stream",
     "text": [
      "Validation: 100%|██████████████████████████████| 42/42 [00:10<00:00,  3.88it/s, Loss=2.9391, Acc=0.5693]\n"
     ]
    },
    {
     "name": "stdout",
     "output_type": "stream",
     "text": [
      "✅ Validation completed in 10.82s\n",
      "\n",
      "📊 Epoch 29 Summary:\n",
      "│ Train Loss: 0.0082 | Train Acc: 0.9954\n",
      "│ Val Loss:   2.9391 | Val Acc:   0.5693\n",
      "│ Train Time: 45.46s | Val Time: 10.82s\n",
      "│ Total Epoch Time: 56.28s\n",
      "│ Best Val Acc: 0.5700 (Epoch 25)\n",
      "│ GPU Memory: 0.1GB / 2.8GB\n",
      "================================================================================\n",
      "\n",
      "📈 Epoch 30/50\n",
      "--------------------------------------------------\n",
      "🔄 Training Phase...\n"
     ]
    },
    {
     "name": "stderr",
     "output_type": "stream",
     "text": [
      "Training: 100%|██████████████████████████████| 162/162 [00:45<00:00,  3.55it/s, Loss=0.0104, Acc=0.9946]\n"
     ]
    },
    {
     "name": "stdout",
     "output_type": "stream",
     "text": [
      "✅ Training completed in 45.63s\n",
      "🔍 Validation Phase...\n"
     ]
    },
    {
     "name": "stderr",
     "output_type": "stream",
     "text": [
      "Validation: 100%|██████████████████████████████| 42/42 [00:10<00:00,  3.94it/s, Loss=3.0517, Acc=0.5422]\n"
     ]
    },
    {
     "name": "stdout",
     "output_type": "stream",
     "text": [
      "✅ Validation completed in 10.66s\n",
      "\n",
      "📊 Epoch 30 Summary:\n",
      "│ Train Loss: 0.0104 | Train Acc: 0.9946\n",
      "│ Val Loss:   3.0517 | Val Acc:   0.5422\n",
      "│ Train Time: 45.63s | Val Time: 10.66s\n",
      "│ Total Epoch Time: 56.29s\n",
      "│ Best Val Acc: 0.5700 (Epoch 25)\n",
      "│ GPU Memory: 0.1GB / 2.8GB\n",
      "================================================================================\n",
      "\n",
      "📈 Epoch 31/50\n",
      "--------------------------------------------------\n",
      "🔄 Training Phase...\n"
     ]
    },
    {
     "name": "stderr",
     "output_type": "stream",
     "text": [
      "Training: 100%|██████████████████████████████| 162/162 [00:45<00:00,  3.56it/s, Loss=0.0912, Acc=0.9729]\n"
     ]
    },
    {
     "name": "stdout",
     "output_type": "stream",
     "text": [
      "✅ Training completed in 45.57s\n",
      "🔍 Validation Phase...\n"
     ]
    },
    {
     "name": "stderr",
     "output_type": "stream",
     "text": [
      "Validation: 100%|██████████████████████████████| 42/42 [00:10<00:00,  3.88it/s, Loss=5.9193, Acc=0.3035]\n"
     ]
    },
    {
     "name": "stdout",
     "output_type": "stream",
     "text": [
      "✅ Validation completed in 10.82s\n",
      "\n",
      "📊 Epoch 31 Summary:\n",
      "│ Train Loss: 0.0912 | Train Acc: 0.9729\n",
      "│ Val Loss:   5.9193 | Val Acc:   0.3035\n",
      "│ Train Time: 45.57s | Val Time: 10.82s\n",
      "│ Total Epoch Time: 56.40s\n",
      "│ Best Val Acc: 0.5700 (Epoch 25)\n",
      "│ GPU Memory: 0.1GB / 2.8GB\n",
      "================================================================================\n",
      "\n",
      "📈 Epoch 32/50\n",
      "--------------------------------------------------\n",
      "🔄 Training Phase...\n"
     ]
    },
    {
     "name": "stderr",
     "output_type": "stream",
     "text": [
      "Training: 100%|██████████████████████████████| 162/162 [00:45<00:00,  3.55it/s, Loss=0.2241, Acc=0.9274]\n"
     ]
    },
    {
     "name": "stdout",
     "output_type": "stream",
     "text": [
      "✅ Training completed in 45.59s\n",
      "🔍 Validation Phase...\n"
     ]
    },
    {
     "name": "stderr",
     "output_type": "stream",
     "text": [
      "Validation: 100%|██████████████████████████████| 42/42 [00:10<00:00,  3.89it/s, Loss=2.5791, Acc=0.5143]\n"
     ]
    },
    {
     "name": "stdout",
     "output_type": "stream",
     "text": [
      "✅ Validation completed in 10.79s\n",
      "\n",
      "📊 Epoch 32 Summary:\n",
      "│ Train Loss: 0.2241 | Train Acc: 0.9274\n",
      "│ Val Loss:   2.5791 | Val Acc:   0.5143\n",
      "│ Train Time: 45.59s | Val Time: 10.79s\n",
      "│ Total Epoch Time: 56.38s\n",
      "│ Best Val Acc: 0.5700 (Epoch 25)\n",
      "│ GPU Memory: 0.1GB / 2.8GB\n",
      "================================================================================\n",
      "\n",
      "📈 Epoch 33/50\n",
      "--------------------------------------------------\n",
      "🔄 Training Phase...\n"
     ]
    },
    {
     "name": "stderr",
     "output_type": "stream",
     "text": [
      "Training: 100%|██████████████████████████████| 162/162 [00:45<00:00,  3.57it/s, Loss=0.0516, Acc=0.9830]\n"
     ]
    },
    {
     "name": "stdout",
     "output_type": "stream",
     "text": [
      "✅ Training completed in 45.33s\n",
      "🔍 Validation Phase...\n"
     ]
    },
    {
     "name": "stderr",
     "output_type": "stream",
     "text": [
      "Validation: 100%|██████████████████████████████| 42/42 [00:10<00:00,  3.82it/s, Loss=2.8254, Acc=0.5090]\n"
     ]
    },
    {
     "name": "stdout",
     "output_type": "stream",
     "text": [
      "✅ Validation completed in 10.99s\n",
      "\n",
      "📊 Epoch 33 Summary:\n",
      "│ Train Loss: 0.0516 | Train Acc: 0.9830\n",
      "│ Val Loss:   2.8254 | Val Acc:   0.5090\n",
      "│ Train Time: 45.33s | Val Time: 10.99s\n",
      "│ Total Epoch Time: 56.32s\n",
      "│ Best Val Acc: 0.5700 (Epoch 25)\n",
      "│ GPU Memory: 0.1GB / 2.8GB\n",
      "================================================================================\n",
      "\n",
      "📈 Epoch 34/50\n",
      "--------------------------------------------------\n",
      "🔄 Training Phase...\n"
     ]
    },
    {
     "name": "stderr",
     "output_type": "stream",
     "text": [
      "Training: 100%|██████████████████████████████| 162/162 [00:45<00:00,  3.57it/s, Loss=0.0284, Acc=0.9878]\n"
     ]
    },
    {
     "name": "stdout",
     "output_type": "stream",
     "text": [
      "✅ Training completed in 45.36s\n",
      "🔍 Validation Phase...\n"
     ]
    },
    {
     "name": "stderr",
     "output_type": "stream",
     "text": [
      "Validation: 100%|██████████████████████████████| 42/42 [00:10<00:00,  3.82it/s, Loss=2.8575, Acc=0.5294]\n"
     ]
    },
    {
     "name": "stdout",
     "output_type": "stream",
     "text": [
      "✅ Validation completed in 10.99s\n",
      "\n",
      "📊 Epoch 34 Summary:\n",
      "│ Train Loss: 0.0284 | Train Acc: 0.9878\n",
      "│ Val Loss:   2.8575 | Val Acc:   0.5294\n",
      "│ Train Time: 45.36s | Val Time: 10.99s\n",
      "│ Total Epoch Time: 56.35s\n",
      "│ Best Val Acc: 0.5700 (Epoch 25)\n",
      "│ GPU Memory: 0.1GB / 2.8GB\n",
      "================================================================================\n",
      "\n",
      "📈 Epoch 35/50\n",
      "--------------------------------------------------\n",
      "🔄 Training Phase...\n"
     ]
    },
    {
     "name": "stderr",
     "output_type": "stream",
     "text": [
      "Training: 100%|██████████████████████████████| 162/162 [00:46<00:00,  3.49it/s, Loss=0.0234, Acc=0.9901]\n"
     ]
    },
    {
     "name": "stdout",
     "output_type": "stream",
     "text": [
      "✅ Training completed in 46.41s\n",
      "🔍 Validation Phase...\n"
     ]
    },
    {
     "name": "stderr",
     "output_type": "stream",
     "text": [
      "Validation: 100%|██████████████████████████████| 42/42 [00:11<00:00,  3.82it/s, Loss=3.0002, Acc=0.5264]\n"
     ]
    },
    {
     "name": "stdout",
     "output_type": "stream",
     "text": [
      "✅ Validation completed in 11.01s\n",
      "\n",
      "📊 Epoch 35 Summary:\n",
      "│ Train Loss: 0.0234 | Train Acc: 0.9901\n",
      "│ Val Loss:   3.0002 | Val Acc:   0.5264\n",
      "│ Train Time: 46.41s | Val Time: 11.01s\n",
      "│ Total Epoch Time: 57.43s\n",
      "│ Best Val Acc: 0.5700 (Epoch 25)\n",
      "│ GPU Memory: 0.1GB / 2.8GB\n",
      "================================================================================\n",
      "\n",
      "📈 Epoch 36/50\n",
      "--------------------------------------------------\n",
      "🔄 Training Phase...\n"
     ]
    },
    {
     "name": "stderr",
     "output_type": "stream",
     "text": [
      "Training: 100%|██████████████████████████████| 162/162 [00:46<00:00,  3.47it/s, Loss=0.0138, Acc=0.9944]\n"
     ]
    },
    {
     "name": "stdout",
     "output_type": "stream",
     "text": [
      "✅ Training completed in 46.75s\n",
      "🔍 Validation Phase...\n"
     ]
    },
    {
     "name": "stderr",
     "output_type": "stream",
     "text": [
      "Validation: 100%|██████████████████████████████| 42/42 [00:11<00:00,  3.78it/s, Loss=2.8578, Acc=0.5467]\n"
     ]
    },
    {
     "name": "stdout",
     "output_type": "stream",
     "text": [
      "✅ Validation completed in 11.11s\n",
      "\n",
      "📊 Epoch 36 Summary:\n",
      "│ Train Loss: 0.0138 | Train Acc: 0.9944\n",
      "│ Val Loss:   2.8578 | Val Acc:   0.5467\n",
      "│ Train Time: 46.75s | Val Time: 11.11s\n",
      "│ Total Epoch Time: 57.86s\n",
      "│ Best Val Acc: 0.5700 (Epoch 25)\n",
      "│ GPU Memory: 0.1GB / 2.8GB\n",
      "================================================================================\n",
      "\n",
      "📈 Epoch 37/50\n",
      "--------------------------------------------------\n",
      "🔄 Training Phase...\n"
     ]
    },
    {
     "name": "stderr",
     "output_type": "stream",
     "text": [
      "Training: 100%|██████████████████████████████| 162/162 [00:46<00:00,  3.51it/s, Loss=0.0114, Acc=0.9952]\n"
     ]
    },
    {
     "name": "stdout",
     "output_type": "stream",
     "text": [
      "✅ Training completed in 46.16s\n",
      "🔍 Validation Phase...\n"
     ]
    },
    {
     "name": "stderr",
     "output_type": "stream",
     "text": [
      "Validation: 100%|██████████████████████████████| 42/42 [00:10<00:00,  3.94it/s, Loss=2.7484, Acc=0.5587]\n"
     ]
    },
    {
     "name": "stdout",
     "output_type": "stream",
     "text": [
      "✅ Validation completed in 10.67s\n",
      "\n",
      "📊 Epoch 37 Summary:\n",
      "│ Train Loss: 0.0114 | Train Acc: 0.9952\n",
      "│ Val Loss:   2.7484 | Val Acc:   0.5587\n",
      "│ Train Time: 46.16s | Val Time: 10.67s\n",
      "│ Total Epoch Time: 56.83s\n",
      "│ Best Val Acc: 0.5700 (Epoch 25)\n",
      "│ GPU Memory: 0.1GB / 2.8GB\n",
      "================================================================================\n",
      "\n",
      "📈 Epoch 38/50\n",
      "--------------------------------------------------\n",
      "🔄 Training Phase...\n"
     ]
    },
    {
     "name": "stderr",
     "output_type": "stream",
     "text": [
      "Training: 100%|██████████████████████████████| 162/162 [00:45<00:00,  3.53it/s, Loss=0.0099, Acc=0.9954]\n"
     ]
    },
    {
     "name": "stdout",
     "output_type": "stream",
     "text": [
      "✅ Training completed in 45.94s\n",
      "🔍 Validation Phase...\n"
     ]
    },
    {
     "name": "stderr",
     "output_type": "stream",
     "text": [
      "Validation: 100%|██████████████████████████████| 42/42 [00:10<00:00,  3.87it/s, Loss=2.8972, Acc=0.5617]\n"
     ]
    },
    {
     "name": "stdout",
     "output_type": "stream",
     "text": [
      "✅ Validation completed in 10.85s\n",
      "\n",
      "📊 Epoch 38 Summary:\n",
      "│ Train Loss: 0.0099 | Train Acc: 0.9954\n",
      "│ Val Loss:   2.8972 | Val Acc:   0.5617\n",
      "│ Train Time: 45.94s | Val Time: 10.85s\n",
      "│ Total Epoch Time: 56.79s\n",
      "│ Best Val Acc: 0.5700 (Epoch 25)\n",
      "│ GPU Memory: 0.1GB / 2.8GB\n",
      "================================================================================\n",
      "\n",
      "📈 Epoch 39/50\n",
      "--------------------------------------------------\n",
      "🔄 Training Phase...\n"
     ]
    },
    {
     "name": "stderr",
     "output_type": "stream",
     "text": [
      "Training: 100%|██████████████████████████████| 162/162 [00:45<00:00,  3.53it/s, Loss=0.0153, Acc=0.9936]\n"
     ]
    },
    {
     "name": "stdout",
     "output_type": "stream",
     "text": [
      "✅ Training completed in 45.89s\n",
      "🔍 Validation Phase...\n"
     ]
    },
    {
     "name": "stderr",
     "output_type": "stream",
     "text": [
      "Validation: 100%|██████████████████████████████| 42/42 [00:10<00:00,  3.86it/s, Loss=2.9732, Acc=0.5429]\n"
     ]
    },
    {
     "name": "stdout",
     "output_type": "stream",
     "text": [
      "✅ Validation completed in 10.89s\n",
      "\n",
      "📊 Epoch 39 Summary:\n",
      "│ Train Loss: 0.0153 | Train Acc: 0.9936\n",
      "│ Val Loss:   2.9732 | Val Acc:   0.5429\n",
      "│ Train Time: 45.89s | Val Time: 10.89s\n",
      "│ Total Epoch Time: 56.79s\n",
      "│ Best Val Acc: 0.5700 (Epoch 25)\n",
      "│ GPU Memory: 0.1GB / 2.8GB\n",
      "================================================================================\n",
      "\n",
      "📈 Epoch 40/50\n",
      "--------------------------------------------------\n",
      "🔄 Training Phase...\n"
     ]
    },
    {
     "name": "stderr",
     "output_type": "stream",
     "text": [
      "Training: 100%|██████████████████████████████| 162/162 [00:45<00:00,  3.53it/s, Loss=0.0128, Acc=0.9934]\n"
     ]
    },
    {
     "name": "stdout",
     "output_type": "stream",
     "text": [
      "✅ Training completed in 45.83s\n",
      "🔍 Validation Phase...\n"
     ]
    },
    {
     "name": "stderr",
     "output_type": "stream",
     "text": [
      "Validation: 100%|██████████████████████████████| 42/42 [00:10<00:00,  3.84it/s, Loss=3.0848, Acc=0.5339]\n"
     ]
    },
    {
     "name": "stdout",
     "output_type": "stream",
     "text": [
      "✅ Validation completed in 10.93s\n",
      "\n",
      "📊 Epoch 40 Summary:\n",
      "│ Train Loss: 0.0128 | Train Acc: 0.9934\n",
      "│ Val Loss:   3.0848 | Val Acc:   0.5339\n",
      "│ Train Time: 45.83s | Val Time: 10.93s\n",
      "│ Total Epoch Time: 56.77s\n",
      "│ Best Val Acc: 0.5700 (Epoch 25)\n",
      "│ GPU Memory: 0.1GB / 2.8GB\n",
      "================================================================================\n",
      "\n",
      "📈 Epoch 41/50\n",
      "--------------------------------------------------\n",
      "🔄 Training Phase...\n"
     ]
    },
    {
     "name": "stderr",
     "output_type": "stream",
     "text": [
      "Training: 100%|██████████████████████████████| 162/162 [00:46<00:00,  3.51it/s, Loss=0.0241, Acc=0.9901]\n"
     ]
    },
    {
     "name": "stdout",
     "output_type": "stream",
     "text": [
      "✅ Training completed in 46.12s\n",
      "🔍 Validation Phase...\n"
     ]
    },
    {
     "name": "stderr",
     "output_type": "stream",
     "text": [
      "Validation: 100%|██████████████████████████████| 42/42 [00:10<00:00,  3.86it/s, Loss=3.2639, Acc=0.5128]\n"
     ]
    },
    {
     "name": "stdout",
     "output_type": "stream",
     "text": [
      "✅ Validation completed in 10.88s\n",
      "\n",
      "📊 Epoch 41 Summary:\n",
      "│ Train Loss: 0.0241 | Train Acc: 0.9901\n",
      "│ Val Loss:   3.2639 | Val Acc:   0.5128\n",
      "│ Train Time: 46.12s | Val Time: 10.88s\n",
      "│ Total Epoch Time: 57.01s\n",
      "│ Best Val Acc: 0.5700 (Epoch 25)\n",
      "│ GPU Memory: 0.1GB / 2.8GB\n",
      "================================================================================\n",
      "\n",
      "📈 Epoch 42/50\n",
      "--------------------------------------------------\n",
      "🔄 Training Phase...\n"
     ]
    },
    {
     "name": "stderr",
     "output_type": "stream",
     "text": [
      "Training: 100%|██████████████████████████████| 162/162 [00:45<00:00,  3.54it/s, Loss=0.1938, Acc=0.9406]\n"
     ]
    },
    {
     "name": "stdout",
     "output_type": "stream",
     "text": [
      "✅ Training completed in 45.77s\n",
      "🔍 Validation Phase...\n"
     ]
    },
    {
     "name": "stderr",
     "output_type": "stream",
     "text": [
      "Validation: 100%|██████████████████████████████| 42/42 [00:10<00:00,  3.89it/s, Loss=2.4855, Acc=0.5580]\n"
     ]
    },
    {
     "name": "stdout",
     "output_type": "stream",
     "text": [
      "✅ Validation completed in 10.79s\n",
      "\n",
      "📊 Epoch 42 Summary:\n",
      "│ Train Loss: 0.1938 | Train Acc: 0.9406\n",
      "│ Val Loss:   2.4855 | Val Acc:   0.5580\n",
      "│ Train Time: 45.77s | Val Time: 10.79s\n",
      "│ Total Epoch Time: 56.57s\n",
      "│ Best Val Acc: 0.5700 (Epoch 25)\n",
      "│ GPU Memory: 0.1GB / 2.8GB\n",
      "================================================================================\n",
      "\n",
      "📈 Epoch 43/50\n",
      "--------------------------------------------------\n",
      "🔄 Training Phase...\n"
     ]
    },
    {
     "name": "stderr",
     "output_type": "stream",
     "text": [
      "Training: 100%|██████████████████████████████| 162/162 [00:46<00:00,  3.52it/s, Loss=0.0279, Acc=0.9884]\n"
     ]
    },
    {
     "name": "stdout",
     "output_type": "stream",
     "text": [
      "✅ Training completed in 46.04s\n",
      "🔍 Validation Phase...\n"
     ]
    },
    {
     "name": "stderr",
     "output_type": "stream",
     "text": [
      "Validation: 100%|██████████████████████████████| 42/42 [00:10<00:00,  3.90it/s, Loss=2.8322, Acc=0.5309]\n"
     ]
    },
    {
     "name": "stdout",
     "output_type": "stream",
     "text": [
      "✅ Validation completed in 10.78s\n",
      "\n",
      "📊 Epoch 43 Summary:\n",
      "│ Train Loss: 0.0279 | Train Acc: 0.9884\n",
      "│ Val Loss:   2.8322 | Val Acc:   0.5309\n",
      "│ Train Time: 46.04s | Val Time: 10.78s\n",
      "│ Total Epoch Time: 56.82s\n",
      "│ Best Val Acc: 0.5700 (Epoch 25)\n",
      "│ GPU Memory: 0.1GB / 2.8GB\n",
      "================================================================================\n",
      "\n",
      "📈 Epoch 44/50\n",
      "--------------------------------------------------\n",
      "🔄 Training Phase...\n"
     ]
    },
    {
     "name": "stderr",
     "output_type": "stream",
     "text": [
      "Training: 100%|██████████████████████████████| 162/162 [00:45<00:00,  3.55it/s, Loss=0.0150, Acc=0.9930]\n"
     ]
    },
    {
     "name": "stdout",
     "output_type": "stream",
     "text": [
      "✅ Training completed in 45.69s\n",
      "🔍 Validation Phase...\n"
     ]
    },
    {
     "name": "stderr",
     "output_type": "stream",
     "text": [
      "Validation: 100%|██████████████████████████████| 42/42 [00:10<00:00,  3.90it/s, Loss=2.9109, Acc=0.5745]\n"
     ]
    },
    {
     "name": "stdout",
     "output_type": "stream",
     "text": [
      "✅ Validation completed in 10.78s\n",
      "🌟 New best MobileNetV2 model found! Validation Accuracy: 0.5745\n",
      "\n",
      "📊 Epoch 44 Summary:\n",
      "│ Train Loss: 0.0150 | Train Acc: 0.9930\n",
      "│ Val Loss:   2.9109 | Val Acc:   0.5745\n",
      "│ Train Time: 45.69s | Val Time: 10.78s\n",
      "│ Total Epoch Time: 56.48s\n",
      "│ Best Val Acc: 0.5745 (Epoch 44)\n",
      "│ GPU Memory: 0.1GB / 2.8GB\n",
      "================================================================================\n",
      "\n",
      "📈 Epoch 45/50\n",
      "--------------------------------------------------\n",
      "🔄 Training Phase...\n"
     ]
    },
    {
     "name": "stderr",
     "output_type": "stream",
     "text": [
      "Training: 100%|██████████████████████████████| 162/162 [00:45<00:00,  3.54it/s, Loss=0.0159, Acc=0.9934]\n"
     ]
    },
    {
     "name": "stdout",
     "output_type": "stream",
     "text": [
      "✅ Training completed in 45.70s\n",
      "🔍 Validation Phase...\n"
     ]
    },
    {
     "name": "stderr",
     "output_type": "stream",
     "text": [
      "Validation: 100%|██████████████████████████████| 42/42 [00:10<00:00,  3.86it/s, Loss=3.2181, Acc=0.5286]\n"
     ]
    },
    {
     "name": "stdout",
     "output_type": "stream",
     "text": [
      "✅ Validation completed in 10.88s\n",
      "\n",
      "📊 Epoch 45 Summary:\n",
      "│ Train Loss: 0.0159 | Train Acc: 0.9934\n",
      "│ Val Loss:   3.2181 | Val Acc:   0.5286\n",
      "│ Train Time: 45.70s | Val Time: 10.88s\n",
      "│ Total Epoch Time: 56.59s\n",
      "│ Best Val Acc: 0.5745 (Epoch 44)\n",
      "│ GPU Memory: 0.1GB / 2.8GB\n",
      "================================================================================\n",
      "\n",
      "📈 Epoch 46/50\n",
      "--------------------------------------------------\n",
      "🔄 Training Phase...\n"
     ]
    },
    {
     "name": "stderr",
     "output_type": "stream",
     "text": [
      "Training: 100%|██████████████████████████████| 162/162 [00:45<00:00,  3.52it/s, Loss=0.0230, Acc=0.9909]\n"
     ]
    },
    {
     "name": "stdout",
     "output_type": "stream",
     "text": [
      "✅ Training completed in 45.97s\n",
      "🔍 Validation Phase...\n"
     ]
    },
    {
     "name": "stderr",
     "output_type": "stream",
     "text": [
      "Validation: 100%|██████████████████████████████| 42/42 [00:10<00:00,  3.92it/s, Loss=3.3271, Acc=0.5399]\n"
     ]
    },
    {
     "name": "stdout",
     "output_type": "stream",
     "text": [
      "✅ Validation completed in 10.73s\n",
      "\n",
      "📊 Epoch 46 Summary:\n",
      "│ Train Loss: 0.0230 | Train Acc: 0.9909\n",
      "│ Val Loss:   3.3271 | Val Acc:   0.5399\n",
      "│ Train Time: 45.97s | Val Time: 10.73s\n",
      "│ Total Epoch Time: 56.70s\n",
      "│ Best Val Acc: 0.5745 (Epoch 44)\n",
      "│ GPU Memory: 0.1GB / 2.8GB\n",
      "================================================================================\n",
      "\n",
      "📈 Epoch 47/50\n",
      "--------------------------------------------------\n",
      "🔄 Training Phase...\n"
     ]
    },
    {
     "name": "stderr",
     "output_type": "stream",
     "text": [
      "Training: 100%|██████████████████████████████| 162/162 [00:46<00:00,  3.52it/s, Loss=0.0783, Acc=0.9754]\n"
     ]
    },
    {
     "name": "stdout",
     "output_type": "stream",
     "text": [
      "✅ Training completed in 46.06s\n",
      "🔍 Validation Phase...\n"
     ]
    },
    {
     "name": "stderr",
     "output_type": "stream",
     "text": [
      "Validation: 100%|██████████████████████████████| 42/42 [00:10<00:00,  3.91it/s, Loss=4.0431, Acc=0.4849]\n"
     ]
    },
    {
     "name": "stdout",
     "output_type": "stream",
     "text": [
      "✅ Validation completed in 10.73s\n",
      "\n",
      "📊 Epoch 47 Summary:\n",
      "│ Train Loss: 0.0783 | Train Acc: 0.9754\n",
      "│ Val Loss:   4.0431 | Val Acc:   0.4849\n",
      "│ Train Time: 46.06s | Val Time: 10.73s\n",
      "│ Total Epoch Time: 56.79s\n",
      "│ Best Val Acc: 0.5745 (Epoch 44)\n",
      "│ GPU Memory: 0.1GB / 2.8GB\n",
      "================================================================================\n",
      "\n",
      "📈 Epoch 48/50\n",
      "--------------------------------------------------\n",
      "🔄 Training Phase...\n"
     ]
    },
    {
     "name": "stderr",
     "output_type": "stream",
     "text": [
      "Training: 100%|██████████████████████████████| 162/162 [00:45<00:00,  3.53it/s, Loss=0.0485, Acc=0.9820]\n"
     ]
    },
    {
     "name": "stdout",
     "output_type": "stream",
     "text": [
      "✅ Training completed in 45.96s\n",
      "🔍 Validation Phase...\n"
     ]
    },
    {
     "name": "stderr",
     "output_type": "stream",
     "text": [
      "Validation: 100%|██████████████████████████████| 42/42 [00:10<00:00,  3.89it/s, Loss=2.8577, Acc=0.5693]\n"
     ]
    },
    {
     "name": "stdout",
     "output_type": "stream",
     "text": [
      "✅ Validation completed in 10.81s\n",
      "\n",
      "📊 Epoch 48 Summary:\n",
      "│ Train Loss: 0.0485 | Train Acc: 0.9820\n",
      "│ Val Loss:   2.8577 | Val Acc:   0.5693\n",
      "│ Train Time: 45.96s | Val Time: 10.81s\n",
      "│ Total Epoch Time: 56.77s\n",
      "│ Best Val Acc: 0.5745 (Epoch 44)\n",
      "│ GPU Memory: 0.1GB / 2.8GB\n",
      "================================================================================\n",
      "\n",
      "📈 Epoch 49/50\n",
      "--------------------------------------------------\n",
      "🔄 Training Phase...\n"
     ]
    },
    {
     "name": "stderr",
     "output_type": "stream",
     "text": [
      "Training: 100%|██████████████████████████████| 162/162 [00:46<00:00,  3.52it/s, Loss=0.0199, Acc=0.9899]\n"
     ]
    },
    {
     "name": "stdout",
     "output_type": "stream",
     "text": [
      "✅ Training completed in 46.02s\n",
      "🔍 Validation Phase...\n"
     ]
    },
    {
     "name": "stderr",
     "output_type": "stream",
     "text": [
      "Validation: 100%|██████████████████████████████| 42/42 [00:10<00:00,  3.92it/s, Loss=3.4070, Acc=0.5542]\n"
     ]
    },
    {
     "name": "stdout",
     "output_type": "stream",
     "text": [
      "✅ Validation completed in 10.72s\n",
      "\n",
      "📊 Epoch 49 Summary:\n",
      "│ Train Loss: 0.0199 | Train Acc: 0.9899\n",
      "│ Val Loss:   3.4070 | Val Acc:   0.5542\n",
      "│ Train Time: 46.02s | Val Time: 10.72s\n",
      "│ Total Epoch Time: 56.75s\n",
      "│ Best Val Acc: 0.5745 (Epoch 44)\n",
      "│ GPU Memory: 0.1GB / 2.8GB\n",
      "================================================================================\n",
      "\n",
      "📈 Epoch 50/50\n",
      "--------------------------------------------------\n",
      "🔄 Training Phase...\n"
     ]
    },
    {
     "name": "stderr",
     "output_type": "stream",
     "text": [
      "Training: 100%|██████████████████████████████| 162/162 [00:45<00:00,  3.54it/s, Loss=0.0255, Acc=0.9894]\n"
     ]
    },
    {
     "name": "stdout",
     "output_type": "stream",
     "text": [
      "✅ Training completed in 45.73s\n",
      "🔍 Validation Phase...\n"
     ]
    },
    {
     "name": "stderr",
     "output_type": "stream",
     "text": [
      "Validation: 100%|██████████████████████████████| 42/42 [00:11<00:00,  3.79it/s, Loss=3.5885, Acc=0.5309]\n"
     ]
    },
    {
     "name": "stdout",
     "output_type": "stream",
     "text": [
      "✅ Validation completed in 11.09s\n",
      "\n",
      "📊 Epoch 50 Summary:\n",
      "│ Train Loss: 0.0255 | Train Acc: 0.9894\n",
      "│ Val Loss:   3.5885 | Val Acc:   0.5309\n",
      "│ Train Time: 45.73s | Val Time: 11.09s\n",
      "│ Total Epoch Time: 56.83s\n",
      "│ Best Val Acc: 0.5745 (Epoch 44)\n",
      "│ GPU Memory: 0.1GB / 2.8GB\n",
      "================================================================================\n",
      "\n",
      "💾 Best MobileNetV2 model saved as 'best_mobilenetv2_model.pth'\n",
      "📊 Best model stats:\n",
      "│ Best Epoch: 44\n",
      "│ Best Val Acc: 0.5745\n",
      "\n",
      "💾 MobileNetV2 training history saved to 'mobilenetv2_training_history.csv'\n",
      "\n",
      "🎉 MobileNetV2 Training Complete!\n",
      "Total Training Time: 2860.82s (47.7 minutes)\n",
      "Average Epoch Time: 57.22s\n",
      "\n",
      "⏱️  Epoch Timing Breakdown:\n",
      "│ Epoch 1: 86.95s\n",
      "│ Epoch 2: 56.23s\n",
      "│ Epoch 3: 56.41s\n",
      "│ Epoch 4: 56.70s\n",
      "│ Epoch 5: 56.56s\n",
      "│ Epoch 6: 56.72s\n",
      "│ Epoch 7: 56.59s\n",
      "│ Epoch 8: 56.57s\n",
      "│ Epoch 9: 56.65s\n",
      "│ Epoch 10: 57.18s\n",
      "│ Epoch 11: 56.85s\n",
      "│ Epoch 12: 56.37s\n",
      "│ Epoch 13: 56.56s\n",
      "│ Epoch 14: 56.83s\n",
      "│ Epoch 15: 56.51s\n",
      "│ Epoch 16: 56.34s\n",
      "│ Epoch 17: 56.78s\n",
      "│ Epoch 18: 56.64s\n",
      "│ Epoch 19: 56.57s\n",
      "│ Epoch 20: 56.06s\n",
      "│ Epoch 21: 56.26s\n",
      "│ Epoch 22: 56.34s\n",
      "│ Epoch 23: 56.36s\n",
      "│ Epoch 24: 56.27s\n",
      "│ Epoch 25: 56.64s\n",
      "│ Epoch 26: 56.37s\n",
      "│ Epoch 27: 56.42s\n",
      "│ Epoch 28: 56.29s\n",
      "│ Epoch 29: 56.28s\n",
      "│ Epoch 30: 56.29s\n",
      "│ Epoch 31: 56.40s\n",
      "│ Epoch 32: 56.38s\n",
      "│ Epoch 33: 56.32s\n",
      "│ Epoch 34: 56.35s\n",
      "│ Epoch 35: 57.43s\n",
      "│ Epoch 36: 57.86s\n",
      "│ Epoch 37: 56.83s\n",
      "│ Epoch 38: 56.79s\n",
      "│ Epoch 39: 56.79s\n",
      "│ Epoch 40: 56.77s\n",
      "│ Epoch 41: 57.01s\n",
      "│ Epoch 42: 56.57s\n",
      "│ Epoch 43: 56.82s\n",
      "│ Epoch 44: 56.48s\n",
      "│ Epoch 45: 56.59s\n",
      "│ Epoch 46: 56.70s\n",
      "│ Epoch 47: 56.79s\n",
      "│ Epoch 48: 56.77s\n",
      "│ Epoch 49: 56.75s\n",
      "│ Epoch 50: 56.83s\n",
      "\n",
      "🧪 Loading Best MobileNetV2 Model for Testing...\n",
      "✅ Best MobileNetV2 model from epoch 44 loaded successfully!\n"
     ]
    },
    {
     "name": "stderr",
     "output_type": "stream",
     "text": [
      "Testing MobileNetV2: 100%|██████████████████████████████| 52/52 [00:16<00:00,  3.10it/s]\n"
     ]
    },
    {
     "name": "stdout",
     "output_type": "stream",
     "text": [
      "✅ MobileNetV2 Testing completed in 16.77s\n",
      "\n",
      "📋 MobileNetV2 Classification Report:\n",
      "              precision    recall  f1-score   support\n",
      "\n",
      "         Cut       0.54      0.48      0.51       400\n",
      "       Drive       0.46      0.51      0.48       336\n",
      "    Leg Shot       0.57      0.50      0.53       136\n",
      "    PullShot       0.55      0.57      0.56       192\n",
      "       Scoop       0.46      0.62      0.53       360\n",
      "    Straight       0.45      0.26      0.33       144\n",
      "       Sweep       0.36      0.15      0.21        88\n",
      "\n",
      "    accuracy                           0.49      1656\n",
      "   macro avg       0.48      0.44      0.45      1656\n",
      "weighted avg       0.49      0.49      0.48      1656\n",
      "\n",
      "🎯 MobileNetV2 Test Accuracy: 0.4928\n",
      "\n",
      "📊 MobileNetV2 Model Performance Summary:\n",
      "│ Best Validation Acc:  0.5745 (Epoch 44)\n",
      "│ Final Test Accuracy:  0.4928\n",
      "│ Val-Test Gap:         0.0818\n"
     ]
    },
    {
     "data": {
      "image/png": "[encoded data removed]",
      "text/plain": [
       "<Figure size 800x600 with 2 Axes>"
      ]
     },
     "metadata": {},
     "output_type": "display_data"
    },
    {
     "data": {
      "image/png": "[encoded data removed]",
      "text/plain": [
       "<Figure size 2000x500 with 4 Axes>"
      ]
     },
     "metadata": {},
     "output_type": "display_data"
    },
    {
     "name": "stdout",
     "output_type": "stream",
     "text": [
      "\n",
      "⏰ MobileNetV2 Final Timing Summary:\n",
      "│ Total Training: 2860.82s\n",
      "│ Average per Epoch: 57.22s\n",
      "│ Testing Time: 16.77s\n",
      "│ Total Runtime: 2877.59s\n",
      "\n",
      "💾 MobileNetV2 Files saved:\n",
      "│ best_mobilenetv2_model.pth - Best validation accuracy model\n",
      "│ mobilenetv2_training_history.csv - Training metrics for later plotting\n",
      "\n",
      "🏗️  MobileNetV2 Architecture Summary:\n",
      "│ Total Parameters: 2,232,839\n",
      "│ Trainable Parameters: 2,232,839\n",
      "│ Model Size: 8.52 MB\n",
      "│ Input Size: 224x224x3\n",
      "│ Output Classes: 7\n",
      "│ Width Multiplier: 1.0\n",
      "│ Inverted Residual Blocks: 17\n",
      "│ Depthwise Separable Convs: Yes\n",
      "│ ReLU6 Activation: Yes\n"
     ]
    }
   ],
   "source": [
    "import torch\n",
    "import torch.nn as nn\n",
    "import torch.nn.functional as F\n",
    "import numpy as np\n",
    "import matplotlib.pyplot as plt\n",
    "import seaborn as sns\n",
    "from torchsummary import summary\n",
    "from sklearn.metrics import accuracy_score, classification_report, confusion_matrix\n",
    "import pandas as pd\n",
    "from tqdm import tqdm\n",
    "import time\n",
    "# -----------------------------\n",
    "# 4. Training Loop with Best Model Saving (Val Accuracy) - MobileNetV2\n",
    "# -----------------------------\n",
    "train_losses, val_losses = [], []\n",
    "train_accs, val_accs = [], []\n",
    "epoch_times = []\n",
    "epochs = 50\n",
    "\n",
    "# Initialize best model tracking\n",
    "best_val_acc = 0.0\n",
    "best_model_state = None\n",
    "best_epoch = 0\n",
    "\n",
    "print(f\"\\n🚀 Starting MobileNetV2 Training for {epochs} epochs...\")\n",
    "print(\"=\" * 80)\n",
    "\n",
    "total_start_time = time.time()\n",
    "\n",
    "for epoch in range(epochs):\n",
    "    epoch_start_time = time.time()\n",
    "    \n",
    "    print(f\"\\n📈 Epoch {epoch+1}/{epochs}\")\n",
    "    print(\"-\" * 50)\n",
    "    \n",
    "    # Training Phase\n",
    "    print(\"🔄 Training Phase...\")\n",
    "    model.train()\n",
    "    running_loss, correct, total = 0, 0, 0\n",
    "    \n",
    "    train_pbar = tqdm(train_loader, desc=f\"Training\", \n",
    "                     bar_format='{l_bar}{bar:30}{r_bar}{bar:-30b}')\n",
    "    \n",
    "    train_phase_start = time.time()\n",
    "    \n",
    "    for batch_idx, (imgs, labels) in enumerate(train_pbar):\n",
    "        imgs, labels = imgs.to(device), labels.to(device)\n",
    "        \n",
    "        optimizer.zero_grad()\n",
    "        outputs = model(imgs)\n",
    "        loss = criterion(outputs, labels)\n",
    "        loss.backward()\n",
    "        optimizer.step()\n",
    "        \n",
    "        running_loss += loss.item()\n",
    "        _, preds = torch.max(outputs, 1)\n",
    "        correct += (preds == labels).sum().item()\n",
    "        total += labels.size(0)\n",
    "        \n",
    "        current_acc = correct / total\n",
    "        train_pbar.set_postfix({\n",
    "            'Loss': f'{running_loss/(batch_idx+1):.4f}',\n",
    "            'Acc': f'{current_acc:.4f}'\n",
    "        })\n",
    "        \n",
    "        if device.type == 'cuda' and batch_idx % 10 == 0:\n",
    "            gpu_memory = torch.cuda.memory_allocated() / 1024**3\n",
    "            train_pbar.set_postfix({\n",
    "                'Loss': f'{running_loss/(batch_idx+1):.4f}',\n",
    "                'Acc': f'{current_acc:.4f}',\n",
    "                'GPU': f'{gpu_memory:.1f}GB'\n",
    "            })\n",
    "    \n",
    "    train_phase_time = time.time() - train_phase_start\n",
    "    train_loss = running_loss / len(train_loader)\n",
    "    train_acc = correct / total\n",
    "    train_losses.append(train_loss)\n",
    "    train_accs.append(train_acc)\n",
    "    \n",
    "    print(f\"✅ Training completed in {train_phase_time:.2f}s\")\n",
    "    \n",
    "    # Validation Phase\n",
    "    print(\"🔍 Validation Phase...\")\n",
    "    model.eval()\n",
    "    running_loss, correct, total = 0, 0, 0\n",
    "    \n",
    "    val_phase_start = time.time()\n",
    "    val_pbar = tqdm(val_loader, desc=f\"Validation\", \n",
    "                   bar_format='{l_bar}{bar:30}{r_bar}{bar:-30b}')\n",
    "    \n",
    "    with torch.no_grad():\n",
    "        for batch_idx, (imgs, labels) in enumerate(val_pbar):\n",
    "            imgs, labels = imgs.to(device), labels.to(device)\n",
    "            outputs = model(imgs)\n",
    "            loss = criterion(outputs, labels)\n",
    "            \n",
    "            running_loss += loss.item()\n",
    "            _, preds = torch.max(outputs, 1)\n",
    "            correct += (preds == labels).sum().item()\n",
    "            total += labels.size(0)\n",
    "            \n",
    "            current_acc = correct / total\n",
    "            val_pbar.set_postfix({\n",
    "                'Loss': f'{running_loss/(batch_idx+1):.4f}',\n",
    "                'Acc': f'{current_acc:.4f}'\n",
    "            })\n",
    "    \n",
    "    val_phase_time = time.time() - val_phase_start\n",
    "    val_loss = running_loss / len(val_loader)\n",
    "    val_acc = correct / total\n",
    "    val_losses.append(val_loss)\n",
    "    val_accs.append(val_acc)\n",
    "    \n",
    "    print(f\"✅ Validation completed in {val_phase_time:.2f}s\")\n",
    "    \n",
    "    # Check if this is the best model so far based on val_acc\n",
    "    is_best = val_acc > best_val_acc\n",
    "    if is_best:\n",
    "        best_val_acc = val_acc\n",
    "        best_epoch = epoch + 1\n",
    "        best_model_state = model.state_dict().copy()\n",
    "        print(f\"🌟 New best MobileNetV2 model found! Validation Accuracy: {val_acc:.4f}\")\n",
    "    \n",
    "    # Epoch Summary\n",
    "    epoch_time = time.time() - epoch_start_time\n",
    "    epoch_times.append(epoch_time)\n",
    "    \n",
    "    print(f\"\\n📊 Epoch {epoch+1} Summary:\")\n",
    "    print(f\"│ Train Loss: {train_loss:.4f} | Train Acc: {train_acc:.4f}\")\n",
    "    print(f\"│ Val Loss:   {val_loss:.4f} | Val Acc:   {val_acc:.4f}\")\n",
    "    print(f\"│ Train Time: {train_phase_time:.2f}s | Val Time: {val_phase_time:.2f}s\")\n",
    "    print(f\"│ Total Epoch Time: {epoch_time:.2f}s\")\n",
    "    print(f\"│ Best Val Acc: {best_val_acc:.4f} (Epoch {best_epoch})\")\n",
    "    \n",
    "    if device.type == 'cuda':\n",
    "        print(f\"│ GPU Memory: {torch.cuda.memory_allocated()/1024**3:.1f}GB / {torch.cuda.memory_reserved()/1024**3:.1f}GB\")\n",
    "    \n",
    "    print(\"=\" * 80)\n",
    "\n",
    "total_training_time = time.time() - total_start_time\n",
    "\n",
    "# Save the best model\n",
    "if best_model_state is not None:\n",
    "    torch.save(best_model_state, 'best_mobilenetv2_model.pth')\n",
    "    print(f\"\\n💾 Best MobileNetV2 model saved as 'best_mobilenetv2_model.pth'\")\n",
    "    print(f\"📊 Best model stats:\")\n",
    "    print(f\"│ Best Epoch: {best_epoch}\")\n",
    "    print(f\"│ Best Val Acc: {best_val_acc:.4f}\")\n",
    "\n",
    "# Save training history data to CSV\n",
    "history_data = {\n",
    "    'epoch': list(range(1, epochs+1)),\n",
    "    'train_loss': train_losses,\n",
    "    'val_loss': val_losses,\n",
    "    'train_acc': train_accs,\n",
    "    'val_acc': val_accs,\n",
    "    'epoch_time': epoch_times\n",
    "}\n",
    "history_df = pd.DataFrame(history_data)\n",
    "history_df.to_csv('mobilenetv2_training_history.csv', index=False)\n",
    "print(\"\\n💾 MobileNetV2 training history saved to 'mobilenetv2_training_history.csv'\")\n",
    "\n",
    "# Training Summary\n",
    "print(f\"\\n🎉 MobileNetV2 Training Complete!\")\n",
    "print(f\"Total Training Time: {total_training_time:.2f}s ({total_training_time/60:.1f} minutes)\")\n",
    "print(f\"Average Epoch Time: {np.mean(epoch_times):.2f}s\")\n",
    "print(\"\\n⏱️  Epoch Timing Breakdown:\")\n",
    "for i, t in enumerate(epoch_times):\n",
    "    print(f\"│ Epoch {i+1}: {t:.2f}s\")\n",
    "\n",
    "# -----------------------------\n",
    "# 5. Load Best Model and Test\n",
    "# -----------------------------\n",
    "print(f\"\\n🧪 Loading Best MobileNetV2 Model for Testing...\")\n",
    "\n",
    "# Load the best model state\n",
    "if best_model_state is not None:\n",
    "    model.load_state_dict(best_model_state)\n",
    "    print(f\"✅ Best MobileNetV2 model from epoch {best_epoch} loaded successfully!\")\n",
    "else:\n",
    "    print(\"⚠️  No best model found, using current model state\")\n",
    "\n",
    "test_start_time = time.time()\n",
    "y_true, y_pred = [], []\n",
    "model.eval()\n",
    "\n",
    "test_pbar = tqdm(test_loader, desc=\"Testing MobileNetV2\", \n",
    "                bar_format='{l_bar}{bar:30}{r_bar}{bar:-30b}')\n",
    "\n",
    "with torch.no_grad():\n",
    "    for imgs, labels in test_pbar:\n",
    "        imgs, labels = imgs.to(device), labels.to(device)\n",
    "        outputs = model(imgs)\n",
    "        _, preds = torch.max(outputs, 1)\n",
    "        y_true.extend(labels.cpu().numpy())\n",
    "        y_pred.extend(preds.cpu().numpy())\n",
    "\n",
    "test_time = time.time() - test_start_time\n",
    "test_accuracy = accuracy_score(y_true, y_pred)\n",
    "\n",
    "print(f\"✅ MobileNetV2 Testing completed in {test_time:.2f}s\")\n",
    "print(\"\\n📋 MobileNetV2 Classification Report:\")\n",
    "print(classification_report(y_true, y_pred, target_names=classes))\n",
    "print(f\"🎯 MobileNetV2 Test Accuracy: {test_accuracy:.4f}\")\n",
    "\n",
    "# Model Performance Summary\n",
    "print(f\"\\n📊 MobileNetV2 Model Performance Summary:\")\n",
    "print(f\"│ Best Validation Acc:  {best_val_acc:.4f} (Epoch {best_epoch})\")\n",
    "print(f\"│ Final Test Accuracy:  {test_accuracy:.4f}\")\n",
    "print(f\"│ Val-Test Gap:         {abs(best_val_acc - test_accuracy):.4f}\")\n",
    "\n",
    "# Confusion Matrix\n",
    "cm = confusion_matrix(y_true, y_pred)\n",
    "plt.figure(figsize=(8, 6))\n",
    "sns.heatmap(cm, annot=True, fmt=\"d\", cmap=\"Oranges\", xticklabels=classes, yticklabels=classes)\n",
    "plt.xlabel(\"Predicted\")\n",
    "plt.ylabel(\"True\")\n",
    "plt.title(f\"MobileNetV2 Confusion Matrix - Best Model (Epoch {best_epoch})\")\n",
    "plt.show()\n",
    "\n",
    "# -----------------------------\n",
    "# 6. Enhanced Visualizations\n",
    "# -----------------------------\n",
    "plt.figure(figsize=(20, 5))\n",
    "\n",
    "# Loss Plot\n",
    "plt.subplot(1, 4, 1)\n",
    "plt.plot(range(1, epochs+1), train_losses, 'b-', label=\"Train Loss\", marker='o', linewidth=2)\n",
    "plt.plot(range(1, epochs+1), val_losses, 'r-', label=\"Val Loss\", marker='s', linewidth=2)\n",
    "plt.axvline(x=best_epoch, color='orange', linestyle='--', alpha=0.7, label=f'Best (Epoch {best_epoch})')\n",
    "plt.legend()\n",
    "plt.title(\"MobileNetV2 Loss over Epochs\")\n",
    "plt.xlabel(\"Epoch\")\n",
    "plt.ylabel(\"Loss\")\n",
    "plt.grid(True, alpha=0.3)\n",
    "\n",
    "# Accuracy Plot\n",
    "plt.subplot(1, 4, 2)\n",
    "plt.plot(range(1, epochs+1), train_accs, 'b-', label=\"Train Accuracy\", marker='o', linewidth=2)\n",
    "plt.plot(range(1, epochs+1), val_accs, 'r-', label=\"Val Accuracy\", marker='s', linewidth=2)\n",
    "plt.axvline(x=best_epoch, color='orange', linestyle='--', alpha=0.7, label=f'Best (Epoch {best_epoch})')\n",
    "plt.scatter([best_epoch], [best_val_acc], color='orange', s=100, zorder=5)\n",
    "plt.legend()\n",
    "plt.title(\"MobileNetV2 Accuracy over Epochs\")\n",
    "plt.xlabel(\"Epoch\")\n",
    "plt.ylabel(\"Accuracy\")\n",
    "plt.grid(True, alpha=0.3)\n",
    "\n",
    "# Timing Plot\n",
    "plt.subplot(1, 4, 3)\n",
    "bars = plt.bar(range(1, epochs+1), epoch_times, color='lightsalmon', alpha=0.7)\n",
    "bars[best_epoch-1].set_color('orange')\n",
    "plt.title(\"MobileNetV2 Training Time per Epoch\")\n",
    "plt.xlabel(\"Epoch\")\n",
    "plt.ylabel(\"Time (seconds)\")\n",
    "plt.grid(True, alpha=0.3)\n",
    "for i, t in enumerate(epoch_times):\n",
    "    plt.text(i+1, t+0.5, f'{t:.1f}s', ha='center', va='bottom')\n",
    "\n",
    "# Performance Comparison\n",
    "plt.subplot(1, 4, 4)\n",
    "metrics = ['Best Val Acc', 'Test Acc']\n",
    "values = [best_val_acc, test_accuracy]\n",
    "colors = ['lightsalmon', 'orange']\n",
    "bars = plt.bar(metrics, values, color=colors, alpha=0.7)\n",
    "plt.title(\"MobileNetV2 Final Model Performance\")\n",
    "plt.ylabel(\"Accuracy\")\n",
    "plt.ylim(0, 1)\n",
    "plt.grid(True, alpha=0.3)\n",
    "for bar, val in zip(bars, values):\n",
    "    plt.text(bar.get_x() + bar.get_width()/2, val + 0.01, \n",
    "             f'{val:.4f}', ha='center', va='bottom')\n",
    "\n",
    "plt.tight_layout()\n",
    "plt.show()\n",
    "\n",
    "print(f\"\\n⏰ MobileNetV2 Final Timing Summary:\")\n",
    "print(f\"│ Total Training: {total_training_time:.2f}s\")\n",
    "print(f\"│ Average per Epoch: {np.mean(epoch_times):.2f}s\")\n",
    "print(f\"│ Testing Time: {test_time:.2f}s\")\n",
    "print(f\"│ Total Runtime: {total_training_time + test_time:.2f}s\")\n",
    "\n",
    "print(f\"\\n💾 MobileNetV2 Files saved:\")\n",
    "print(f\"│ best_mobilenetv2_model.pth - Best validation accuracy model\")\n",
    "print(f\"│ mobilenetv2_training_history.csv - Training metrics for later plotting\")\n",
    "\n",
    "# -----------------------------\n",
    "# 7. MobileNetV2 Architecture Summary\n",
    "# -----------------------------\n",
    "print(f\"\\n🏗️  MobileNetV2 Architecture Summary:\")\n",
    "print(f\"│ Total Parameters: {sum(p.numel() for p in model.parameters()):,}\")\n",
    "print(f\"│ Trainable Parameters: {sum(p.numel() for p in model.parameters() if p.requires_grad):,}\")\n",
    "print(f\"│ Model Size: {sum(p.numel() * p.element_size() for p in model.parameters()) / 1024**2:.2f} MB\")\n",
    "print(f\"│ Input Size: 224x224x3\")\n",
    "print(f\"│ Output Classes: {len(classes)}\")\n",
    "print(f\"│ Width Multiplier: 1.0\")\n",
    "print(f\"│ Inverted Residual Blocks: 17\")\n",
    "print(f\"│ Depthwise Separable Convs: Yes\")\n",
    "print(f\"│ ReLU6 Activation: Yes\")"
   ]
  }
 ],
 "metadata": {
  "kaggle": {
   "accelerator": "nvidiaTeslaT4",
   "dataSources": [
    {
     "datasetId": 7735666,
     "sourceId": 12275446,
     "sourceType": "datasetVersion"
    }
   ],
   "dockerImageVersionId": 31090,
   "isGpuEnabled": true,
   "isInternetEnabled": true,
   "language": "python",
   "sourceType": "notebook"
  },
  "kernelspec": {
   "display_name": "Python 3",
   "language": "python",
   "name": "python3"
  },
  "language_info": {
   "codemirror_mode": {
    "name": "ipython",
    "version": 3
   },
   "file_extension": ".py",
   "mimetype": "text/x-python",
   "name": "python",
   "nbconvert_exporter": "python",
   "pygments_lexer": "ipython3",
   "version": "3.11.13"
  },
  "papermill": {
   "default_parameters": {},
   "duration": 2910.777093,
   "end_time": "2025-09-07T16:33:43.734209",
   "environment_variables": {},
   "exception": null,
   "input_path": "__notebook__.ipynb",
   "output_path": "__notebook__.ipynb",
   "parameters": {},
   "start_time": "2025-09-07T15:45:12.957116",
   "version": "2.6.0"
  }
 },
 "nbformat": 4,
 "nbformat_minor": 5
}
