{
 "cells": [
  {
   "cell_type": "code",
   "execution_count": 1,
   "id": "8dcbaa9f",
   "metadata": {
    "_cell_guid": "b1076dfc-b9ad-4769-8c92-a6c4dae69d19",
    "_uuid": "8f2839f25d086af736a60e9eeb907d3b93b6e0e5",
    "execution": {
     "iopub.execute_input": "2025-09-07T14:44:43.668015Z",
     "iopub.status.busy": "2025-09-07T14:44:43.667724Z",
     "iopub.status.idle": "2025-09-07T14:44:55.749535Z",
     "shell.execute_reply": "2025-09-07T14:44:55.748706Z"
    },
    "papermill": {
     "duration": 12.087465,
     "end_time": "2025-09-07T14:44:55.750840",
     "exception": false,
     "start_time": "2025-09-07T14:44:43.663375",
     "status": "completed"
    },
    "tags": []
   },
   "outputs": [
    {
     "name": "stdout",
     "output_type": "stream",
     "text": [
      "Training only on: Batting\n",
      "Train classes: ['Cut', 'Drive', 'Leg Shot', 'PullShot', 'Scoop', 'Straight', 'Sweep']\n",
      "Train samples: 5814 Val samples: 1494 Test samples: 1863\n"
     ]
    }
   ],
   "source": [
    "import torch\n",
    "from torch.utils.data import DataLoader\n",
    "from torchvision import datasets, transforms\n",
    "\n",
    "# -----------------------------\n",
    "# 1. Data Preprocessing (Single Action Class)\n",
    "# -----------------------------\n",
    "base_dir = \"/kaggle/input/ju-cricket/Cricket_Dataset_final/Task_B\"  # base Task_B folder\n",
    "\n",
    "action_class = \"Batting\"  # Change to \"Bowling\" / \"Fielding\" / \"Umpire\"\n",
    "\n",
    "transform = transforms.Compose([\n",
    "    transforms.Resize((224, 224)),   \n",
    "    transforms.ToTensor(),\n",
    "    transforms.Normalize([0.485, 0.456, 0.406], \n",
    "                         [0.229, 0.224, 0.225])\n",
    "])\n",
    "\n",
    "# Point ImageFolder to *only* the action class folder\n",
    "train_ds = datasets.ImageFolder(f\"{base_dir}/train/{action_class}\", transform=transform)\n",
    "val_ds   = datasets.ImageFolder(f\"{base_dir}/val/{action_class}\", transform=transform)\n",
    "test_ds  = datasets.ImageFolder(f\"{base_dir}/test/{action_class}\", transform=transform)\n",
    "\n",
    "train_loader = DataLoader(train_ds, batch_size=32, shuffle=True)\n",
    "val_loader   = DataLoader(val_ds, batch_size=32, shuffle=False)\n",
    "test_loader  = DataLoader(test_ds, batch_size=32, shuffle=False)\n",
    "\n",
    "print(f\"Training only on: {action_class}\")\n",
    "print(\"Train classes:\", train_ds.classes)\n",
    "print(\"Train samples:\", len(train_ds), \n",
    "      \"Val samples:\", len(val_ds), \n",
    "      \"Test samples:\", len(test_ds))\n"
   ]
  },
  {
   "cell_type": "code",
   "execution_count": 2,
   "id": "c6caad66",
   "metadata": {
    "execution": {
     "iopub.execute_input": "2025-09-07T14:44:55.757795Z",
     "iopub.status.busy": "2025-09-07T14:44:55.756936Z",
     "iopub.status.idle": "2025-09-07T14:44:55.762070Z",
     "shell.execute_reply": "2025-09-07T14:44:55.761291Z"
    },
    "papermill": {
     "duration": 0.00958,
     "end_time": "2025-09-07T14:44:55.763303",
     "exception": false,
     "start_time": "2025-09-07T14:44:55.753723",
     "status": "completed"
    },
    "tags": []
   },
   "outputs": [
    {
     "name": "stdout",
     "output_type": "stream",
     "text": [
      "Total training images: 5814\n",
      "Total validation images: 1494\n",
      "Total test images: 1863\n",
      "Total images in dataset: 9171\n"
     ]
    }
   ],
   "source": [
    "print(\"Total training images:\", len(train_ds))\n",
    "print(\"Total validation images:\", len(val_ds))\n",
    "print(\"Total test images:\", len(test_ds))\n",
    "\n",
    "total_images = len(train_ds) + len(val_ds) + len(test_ds)\n",
    "print(\"Total images in dataset:\", total_images)"
   ]
  },
  {
   "cell_type": "code",
   "execution_count": 3,
   "id": "5547573e",
   "metadata": {
    "execution": {
     "iopub.execute_input": "2025-09-07T14:44:55.769335Z",
     "iopub.status.busy": "2025-09-07T14:44:55.769086Z",
     "iopub.status.idle": "2025-09-07T14:44:55.780318Z",
     "shell.execute_reply": "2025-09-07T14:44:55.779600Z"
    },
    "papermill": {
     "duration": 0.015563,
     "end_time": "2025-09-07T14:44:55.781466",
     "exception": false,
     "start_time": "2025-09-07T14:44:55.765903",
     "status": "completed"
    },
    "tags": []
   },
   "outputs": [
    {
     "name": "stdout",
     "output_type": "stream",
     "text": [
      "Training images (excluding 'random_occlusion'): 5168\n",
      "Validation images (excluding 'random_occlusion'): 1328\n",
      "Test images (excluding 'random_occlusion'): 1656\n",
      "Total images (excluding 'random_occlusion'): 8152\n"
     ]
    }
   ],
   "source": [
    "ignore_folder = \"random_occlusion\"\n",
    "\n",
    "def count_images_ignore_folder(dataset, ignore_folder):\n",
    "    count = 0\n",
    "    for img_path, label in dataset.samples:\n",
    "        # Skip if the image path contains the ignore_folder\n",
    "        if ignore_folder not in img_path.split(\"/\"):\n",
    "            count += 1\n",
    "    return count\n",
    "\n",
    "train_count = count_images_ignore_folder(train_ds, ignore_folder)\n",
    "val_count   = count_images_ignore_folder(val_ds, ignore_folder)\n",
    "test_count  = count_images_ignore_folder(test_ds, ignore_folder)\n",
    "\n",
    "total_count = train_count + val_count + test_count\n",
    "\n",
    "print(\"Training images (excluding '{}'): {}\".format(ignore_folder, train_count))\n",
    "print(\"Validation images (excluding '{}'): {}\".format(ignore_folder, val_count))\n",
    "print(\"Test images (excluding '{}'): {}\".format(ignore_folder, test_count))\n",
    "print(\"Total images (excluding '{}'): {}\".format(ignore_folder, total_count))"
   ]
  },
  {
   "cell_type": "code",
   "execution_count": 4,
   "id": "d9a2b4e2",
   "metadata": {
    "execution": {
     "iopub.execute_input": "2025-09-07T14:44:55.788019Z",
     "iopub.status.busy": "2025-09-07T14:44:55.787381Z",
     "iopub.status.idle": "2025-09-07T14:44:55.801007Z",
     "shell.execute_reply": "2025-09-07T14:44:55.800356Z"
    },
    "papermill": {
     "duration": 0.017953,
     "end_time": "2025-09-07T14:44:55.802051",
     "exception": false,
     "start_time": "2025-09-07T14:44:55.784098",
     "status": "completed"
    },
    "tags": []
   },
   "outputs": [
    {
     "name": "stdout",
     "output_type": "stream",
     "text": [
      "Training folders considered: {'blur', 'original', 'dirty_lens', 'random_occlusion', 'motion_blur', 'lens_flare', 'gaussian_noise', 'low_resolution', 'chromatic_aberration'}\n",
      "Validation folders considered: {'blur', 'original', 'dirty_lens', 'random_occlusion', 'motion_blur', 'lens_flare', 'gaussian_noise', 'low_resolution', 'chromatic_aberration'}\n",
      "Test folders considered: {'blur', 'original', 'dirty_lens', 'random_occlusion', 'motion_blur', 'lens_flare', 'gaussian_noise', 'low_resolution', 'chromatic_aberration'}\n"
     ]
    }
   ],
   "source": [
    "ignore_folder = \"random_occlusionw\"\n",
    "\n",
    "def get_included_folders(dataset, ignore_folder):\n",
    "    included = set()\n",
    "    for img_path, label in dataset.samples:\n",
    "        # Split the path into parts and ignore if ignore_folder is in the path\n",
    "        if ignore_folder not in img_path.split(\"/\"):\n",
    "            # The folder name just above the image (or the class folder)\n",
    "            folder_name = img_path.split(\"/\")[-2]\n",
    "            included.add(folder_name)\n",
    "    return included\n",
    "\n",
    "train_folders = get_included_folders(train_ds, ignore_folder)\n",
    "val_folders   = get_included_folders(val_ds, ignore_folder)\n",
    "test_folders  = get_included_folders(test_ds, ignore_folder)\n",
    "\n",
    "print(\"Training folders considered:\", train_folders)\n",
    "print(\"Validation folders considered:\", val_folders)\n",
    "print(\"Test folders considered:\", test_folders)"
   ]
  },
  {
   "cell_type": "code",
   "execution_count": 5,
   "id": "e5dd1abe",
   "metadata": {
    "execution": {
     "iopub.execute_input": "2025-09-07T14:44:55.807885Z",
     "iopub.status.busy": "2025-09-07T14:44:55.807480Z",
     "iopub.status.idle": "2025-09-07T14:44:55.961795Z",
     "shell.execute_reply": "2025-09-07T14:44:55.960934Z"
    },
    "papermill": {
     "duration": 0.15845,
     "end_time": "2025-09-07T14:44:55.962979",
     "exception": false,
     "start_time": "2025-09-07T14:44:55.804529",
     "status": "completed"
    },
    "tags": []
   },
   "outputs": [
    {
     "name": "stdout",
     "output_type": "stream",
     "text": [
      "Classes: ['Cut', 'Drive', 'Leg Shot', 'PullShot', 'Scoop', 'Straight', 'Sweep']\n",
      "Final Training images: 5168\n",
      "Final Validation images: 1328\n",
      "Final Test images: 1656\n",
      "Total images after filtering: 8152\n"
     ]
    }
   ],
   "source": [
    "ignore_folder = \"random_occlusion\"\n",
    "\n",
    "def filter_samples(dataset, ignore_folder):\n",
    "    # Keep only samples where ignore_folder is NOT in the path\n",
    "    filtered_samples = [s for s in dataset.samples if ignore_folder not in s[0].split(\"/\")]\n",
    "    dataset.samples = filtered_samples\n",
    "    dataset.targets = [s[1] for s in filtered_samples]  # Update targets accordingly\n",
    "    return dataset\n",
    "\n",
    "# Create original datasets\n",
    "train_ds = datasets.ImageFolder(f\"{base_dir}/train/Batting\", transform=transform)\n",
    "val_ds   = datasets.ImageFolder(f\"{base_dir}/val/Batting\", transform=transform)\n",
    "test_ds  = datasets.ImageFolder(f\"{base_dir}/test/Batting\", transform=transform)\n",
    "\n",
    "# Filter out 'random_occlusion' folder\n",
    "train_ds = filter_samples(train_ds, ignore_folder)\n",
    "val_ds   = filter_samples(val_ds, ignore_folder)\n",
    "test_ds  = filter_samples(test_ds, ignore_folder)\n",
    "\n",
    "# DataLoaders\n",
    "train_loader = DataLoader(train_ds, batch_size=32, shuffle=True)\n",
    "val_loader   = DataLoader(val_ds, batch_size=32, shuffle=False)\n",
    "test_loader  = DataLoader(test_ds, batch_size=32, shuffle=False)\n",
    "\n",
    "# Classes (will remain the same)\n",
    "classes = train_ds.classes\n",
    "print(\"Classes:\", classes)\n",
    "\n",
    "# Show counts\n",
    "print(\"Final Training images:\", len(train_ds))\n",
    "print(\"Final Validation images:\", len(val_ds))\n",
    "print(\"Final Test images:\", len(test_ds))\n",
    "print(\"Total images after filtering:\", len(train_ds) + len(val_ds) + len(test_ds))"
   ]
  },
  {
   "cell_type": "code",
   "execution_count": 6,
   "id": "7516042c",
   "metadata": {
    "execution": {
     "iopub.execute_input": "2025-09-07T14:44:55.968706Z",
     "iopub.status.busy": "2025-09-07T14:44:55.968498Z",
     "iopub.status.idle": "2025-09-07T14:44:55.980871Z",
     "shell.execute_reply": "2025-09-07T14:44:55.980088Z"
    },
    "papermill": {
     "duration": 0.016465,
     "end_time": "2025-09-07T14:44:55.982026",
     "exception": false,
     "start_time": "2025-09-07T14:44:55.965561",
     "status": "completed"
    },
    "tags": []
   },
   "outputs": [
    {
     "name": "stdout",
     "output_type": "stream",
     "text": [
      "Training folders considered: {'blur', 'original', 'dirty_lens', 'motion_blur', 'lens_flare', 'gaussian_noise', 'low_resolution', 'chromatic_aberration'}\n",
      "Validation folders considered: {'blur', 'original', 'dirty_lens', 'motion_blur', 'lens_flare', 'gaussian_noise', 'low_resolution', 'chromatic_aberration'}\n",
      "Test folders considered: {'blur', 'original', 'dirty_lens', 'motion_blur', 'lens_flare', 'gaussian_noise', 'low_resolution', 'chromatic_aberration'}\n"
     ]
    }
   ],
   "source": [
    "ignore_folder = \"random_occlusion\"\n",
    "\n",
    "def get_included_folders(dataset, ignore_folder):\n",
    "    included = set()\n",
    "    for img_path, label in dataset.samples:\n",
    "        # Split the path into parts and ignore if ignore_folder is in the path\n",
    "        if ignore_folder not in img_path.split(\"/\"):\n",
    "            # The folder name just above the image (or the class folder)\n",
    "            folder_name = img_path.split(\"/\")[-2]\n",
    "            included.add(folder_name)\n",
    "    return included\n",
    "\n",
    "train_folders = get_included_folders(train_ds, ignore_folder)\n",
    "val_folders   = get_included_folders(val_ds, ignore_folder)\n",
    "test_folders  = get_included_folders(test_ds, ignore_folder)\n",
    "\n",
    "print(\"Training folders considered:\", train_folders)\n",
    "print(\"Validation folders considered:\", val_folders)\n",
    "print(\"Test folders considered:\", test_folders)"
   ]
  },
  {
   "cell_type": "code",
   "execution_count": 7,
   "id": "7c44ae2c",
   "metadata": {
    "execution": {
     "iopub.execute_input": "2025-09-07T14:44:55.987637Z",
     "iopub.status.busy": "2025-09-07T14:44:55.987423Z",
     "iopub.status.idle": "2025-09-07T14:44:58.968532Z",
     "shell.execute_reply": "2025-09-07T14:44:58.967957Z"
    },
    "papermill": {
     "duration": 2.98542,
     "end_time": "2025-09-07T14:44:58.969916",
     "exception": false,
     "start_time": "2025-09-07T14:44:55.984496",
     "status": "completed"
    },
    "tags": []
   },
   "outputs": [],
   "source": [
    "import seaborn as sns\n",
    "import numpy as np\n",
    "import time\n",
    "from tqdm import tqdm\n",
    "import torch\n",
    "import torch.nn as nn\n",
    "import torchvision.models as models"
   ]
  },
  {
   "cell_type": "code",
   "execution_count": 8,
   "id": "661c0279",
   "metadata": {
    "execution": {
     "iopub.execute_input": "2025-09-07T14:44:58.976109Z",
     "iopub.status.busy": "2025-09-07T14:44:58.975805Z",
     "iopub.status.idle": "2025-09-07T14:45:00.431697Z",
     "shell.execute_reply": "2025-09-07T14:45:00.430813Z"
    },
    "papermill": {
     "duration": 1.460227,
     "end_time": "2025-09-07T14:45:00.432950",
     "exception": false,
     "start_time": "2025-09-07T14:44:58.972723",
     "status": "completed"
    },
    "tags": []
   },
   "outputs": [
    {
     "name": "stdout",
     "output_type": "stream",
     "text": [
      "Using device: cuda\n",
      "🔄 Loading pretrained ResNet50 from ImageNet...\n"
     ]
    },
    {
     "name": "stderr",
     "output_type": "stream",
     "text": [
      "/usr/local/lib/python3.11/dist-packages/torchvision/models/_utils.py:208: UserWarning: The parameter 'pretrained' is deprecated since 0.13 and may be removed in the future, please use 'weights' instead.\n",
      "  warnings.warn(\n",
      "/usr/local/lib/python3.11/dist-packages/torchvision/models/_utils.py:223: UserWarning: Arguments other than a weight enum or `None` for 'weights' are deprecated since 0.13 and may be removed in the future. The current behavior is equivalent to passing `weights=ResNet50_Weights.IMAGENET1K_V1`. You can also use `weights=ResNet50_Weights.DEFAULT` to get the most up-to-date weights.\n",
      "  warnings.warn(msg)\n",
      "Downloading: \"https://download.pytorch.org/models/resnet50-0676ba61.pth\" to /root/.cache/torch/hub/checkpoints/resnet50-0676ba61.pth\n",
      "100%|██████████| 97.8M/97.8M [00:00<00:00, 185MB/s]\n"
     ]
    },
    {
     "name": "stdout",
     "output_type": "stream",
     "text": [
      "✅ Model loaded with 7 output classes\n",
      "📊 Total parameters: 23,522,375\n",
      "📊 Trainable parameters: 23,522,375\n",
      "Model summary not available\n"
     ]
    }
   ],
   "source": [
    "# -----------------------------\n",
    "# 2. Pretrained ResNet50 Model\n",
    "# -----------------------------\n",
    "device = torch.device('cuda' if torch.cuda.is_available() else 'cpu')\n",
    "print(f\"Using device: {device}\")\n",
    "\n",
    "# Load pretrained ResNet50\n",
    "print(\"🔄 Loading pretrained ResNet50 from ImageNet...\")\n",
    "model = models.resnet50(pretrained=True)\n",
    "\n",
    "# Replace final classification layer\n",
    "num_features = model.fc.in_features\n",
    "model.fc = nn.Linear(num_features, len(classes))\n",
    "model = model.to(device)\n",
    "\n",
    "print(f\"✅ Model loaded with {len(classes)} output classes\")\n",
    "print(f\"📊 Total parameters: {sum(p.numel() for p in model.parameters()):,}\")\n",
    "print(f\"📊 Trainable parameters: {sum(p.numel() for p in model.parameters() if p.requires_grad):,}\")\n",
    "\n",
    "# Model summary\n",
    "try:\n",
    "    summary(model, (3, 224, 224))\n",
    "except:\n",
    "    print(\"Model summary not available\")"
   ]
  },
  {
   "cell_type": "code",
   "execution_count": 9,
   "id": "d359800f",
   "metadata": {
    "execution": {
     "iopub.execute_input": "2025-09-07T14:45:00.440400Z",
     "iopub.status.busy": "2025-09-07T14:45:00.440193Z",
     "iopub.status.idle": "2025-09-07T16:06:59.447702Z",
     "shell.execute_reply": "2025-09-07T16:06:59.447102Z"
    },
    "papermill": {
     "duration": 4919.01402,
     "end_time": "2025-09-07T16:06:59.450253",
     "exception": false,
     "start_time": "2025-09-07T14:45:00.436233",
     "status": "completed"
    },
    "tags": []
   },
   "outputs": [
    {
     "name": "stdout",
     "output_type": "stream",
     "text": [
      "\n",
      "📋 Training Configuration:\n",
      "│ Optimizer: Adam (lr=0.0001)\n",
      "│ Loss Function: CrossEntropyLoss\n",
      "│ Batch Size: 32\n",
      "│ Device: cuda\n",
      "\n",
      "🚀 Starting Fine-tuning for 50 epochs...\n",
      "================================================================================\n",
      "\n",
      "📈 Epoch 1/50\n",
      "--------------------------------------------------\n",
      "🔄 Training Phase...\n"
     ]
    },
    {
     "name": "stderr",
     "output_type": "stream",
     "text": [
      "Training: 100%|██████████████████████████████| 162/162 [01:35<00:00,  1.69it/s, Loss=0.5496, Acc=0.8115]\n"
     ]
    },
    {
     "name": "stdout",
     "output_type": "stream",
     "text": [
      "✅ Training completed in 95.72s\n",
      "🔍 Validation Phase...\n"
     ]
    },
    {
     "name": "stderr",
     "output_type": "stream",
     "text": [
      "Validation: 100%|██████████████████████████████| 42/42 [00:17<00:00,  2.39it/s, Loss=1.0181, Acc=0.7131]\n"
     ]
    },
    {
     "name": "stdout",
     "output_type": "stream",
     "text": [
      "✅ Validation completed in 17.61s\n",
      "🌟 New best model found! Validation Loss: 1.0181\n",
      "\n",
      "📊 Epoch 1 Summary:\n",
      "│ Train Loss: 0.5496 | Train Acc: 0.8115\n",
      "│ Val Loss:   1.0181 | Val Acc:   0.7131\n",
      "│ Train Time: 95.72s | Val Time: 17.61s\n",
      "│ Total Epoch Time: 113.34s\n",
      "│ Best Val Loss: 1.0181 (Epoch 1)\n",
      "│ GPU Memory: 0.4GB / 3.2GB\n",
      "================================================================================\n",
      "\n",
      "📈 Epoch 2/50\n",
      "--------------------------------------------------\n",
      "🔄 Training Phase...\n"
     ]
    },
    {
     "name": "stderr",
     "output_type": "stream",
     "text": [
      "Training: 100%|██████████████████████████████| 162/162 [01:24<00:00,  1.91it/s, Loss=0.0612, Acc=0.9839]\n"
     ]
    },
    {
     "name": "stdout",
     "output_type": "stream",
     "text": [
      "✅ Training completed in 84.89s\n",
      "🔍 Validation Phase...\n"
     ]
    },
    {
     "name": "stderr",
     "output_type": "stream",
     "text": [
      "Validation: 100%|██████████████████████████████| 42/42 [00:12<00:00,  3.27it/s, Loss=1.0172, Acc=0.7221]\n"
     ]
    },
    {
     "name": "stdout",
     "output_type": "stream",
     "text": [
      "✅ Validation completed in 12.84s\n",
      "🌟 New best model found! Validation Loss: 1.0172\n",
      "\n",
      "📊 Epoch 2 Summary:\n",
      "│ Train Loss: 0.0612 | Train Acc: 0.9839\n",
      "│ Val Loss:   1.0172 | Val Acc:   0.7221\n",
      "│ Train Time: 84.89s | Val Time: 12.84s\n",
      "│ Total Epoch Time: 97.73s\n",
      "│ Best Val Loss: 1.0172 (Epoch 2)\n",
      "│ GPU Memory: 0.4GB / 3.2GB\n",
      "================================================================================\n",
      "\n",
      "📈 Epoch 3/50\n",
      "--------------------------------------------------\n",
      "🔄 Training Phase...\n"
     ]
    },
    {
     "name": "stderr",
     "output_type": "stream",
     "text": [
      "Training: 100%|██████████████████████████████| 162/162 [01:24<00:00,  1.91it/s, Loss=0.0522, Acc=0.9834]\n"
     ]
    },
    {
     "name": "stdout",
     "output_type": "stream",
     "text": [
      "✅ Training completed in 84.91s\n",
      "🔍 Validation Phase...\n"
     ]
    },
    {
     "name": "stderr",
     "output_type": "stream",
     "text": [
      "Validation: 100%|██████████████████████████████| 42/42 [00:13<00:00,  3.22it/s, Loss=1.1016, Acc=0.7372]\n"
     ]
    },
    {
     "name": "stdout",
     "output_type": "stream",
     "text": [
      "✅ Validation completed in 13.04s\n",
      "\n",
      "📊 Epoch 3 Summary:\n",
      "│ Train Loss: 0.0522 | Train Acc: 0.9834\n",
      "│ Val Loss:   1.1016 | Val Acc:   0.7372\n",
      "│ Train Time: 84.91s | Val Time: 13.04s\n",
      "│ Total Epoch Time: 97.95s\n",
      "│ Best Val Loss: 1.0172 (Epoch 2)\n",
      "│ GPU Memory: 0.4GB / 3.2GB\n",
      "================================================================================\n",
      "\n",
      "📈 Epoch 4/50\n",
      "--------------------------------------------------\n",
      "🔄 Training Phase...\n"
     ]
    },
    {
     "name": "stderr",
     "output_type": "stream",
     "text": [
      "Training: 100%|██████████████████████████████| 162/162 [01:25<00:00,  1.90it/s, Loss=0.0351, Acc=0.9878]\n"
     ]
    },
    {
     "name": "stdout",
     "output_type": "stream",
     "text": [
      "✅ Training completed in 85.07s\n",
      "🔍 Validation Phase...\n"
     ]
    },
    {
     "name": "stderr",
     "output_type": "stream",
     "text": [
      "Validation: 100%|██████████████████████████████| 42/42 [00:12<00:00,  3.27it/s, Loss=1.0591, Acc=0.7410]\n"
     ]
    },
    {
     "name": "stdout",
     "output_type": "stream",
     "text": [
      "✅ Validation completed in 12.84s\n",
      "\n",
      "📊 Epoch 4 Summary:\n",
      "│ Train Loss: 0.0351 | Train Acc: 0.9878\n",
      "│ Val Loss:   1.0591 | Val Acc:   0.7410\n",
      "│ Train Time: 85.07s | Val Time: 12.84s\n",
      "│ Total Epoch Time: 97.92s\n",
      "│ Best Val Loss: 1.0172 (Epoch 2)\n",
      "│ GPU Memory: 0.4GB / 3.2GB\n",
      "================================================================================\n",
      "\n",
      "📈 Epoch 5/50\n",
      "--------------------------------------------------\n",
      "🔄 Training Phase...\n"
     ]
    },
    {
     "name": "stderr",
     "output_type": "stream",
     "text": [
      "Training: 100%|██████████████████████████████| 162/162 [01:24<00:00,  1.91it/s, Loss=0.0295, Acc=0.9888]\n"
     ]
    },
    {
     "name": "stdout",
     "output_type": "stream",
     "text": [
      "✅ Training completed in 84.94s\n",
      "🔍 Validation Phase...\n"
     ]
    },
    {
     "name": "stderr",
     "output_type": "stream",
     "text": [
      "Validation: 100%|██████████████████████████████| 42/42 [00:12<00:00,  3.28it/s, Loss=1.0693, Acc=0.7252]\n"
     ]
    },
    {
     "name": "stdout",
     "output_type": "stream",
     "text": [
      "✅ Validation completed in 12.79s\n",
      "\n",
      "📊 Epoch 5 Summary:\n",
      "│ Train Loss: 0.0295 | Train Acc: 0.9888\n",
      "│ Val Loss:   1.0693 | Val Acc:   0.7252\n",
      "│ Train Time: 84.94s | Val Time: 12.79s\n",
      "│ Total Epoch Time: 97.74s\n",
      "│ Best Val Loss: 1.0172 (Epoch 2)\n",
      "│ GPU Memory: 0.4GB / 3.2GB\n",
      "================================================================================\n",
      "\n",
      "📈 Epoch 6/50\n",
      "--------------------------------------------------\n",
      "🔄 Training Phase...\n"
     ]
    },
    {
     "name": "stderr",
     "output_type": "stream",
     "text": [
      "Training: 100%|██████████████████████████████| 162/162 [01:24<00:00,  1.91it/s, Loss=0.0463, Acc=0.9832]\n"
     ]
    },
    {
     "name": "stdout",
     "output_type": "stream",
     "text": [
      "✅ Training completed in 84.95s\n",
      "🔍 Validation Phase...\n"
     ]
    },
    {
     "name": "stderr",
     "output_type": "stream",
     "text": [
      "Validation: 100%|██████████████████████████████| 42/42 [00:12<00:00,  3.29it/s, Loss=1.0404, Acc=0.7440]\n"
     ]
    },
    {
     "name": "stdout",
     "output_type": "stream",
     "text": [
      "✅ Validation completed in 12.75s\n",
      "\n",
      "📊 Epoch 6 Summary:\n",
      "│ Train Loss: 0.0463 | Train Acc: 0.9832\n",
      "│ Val Loss:   1.0404 | Val Acc:   0.7440\n",
      "│ Train Time: 84.95s | Val Time: 12.75s\n",
      "│ Total Epoch Time: 97.70s\n",
      "│ Best Val Loss: 1.0172 (Epoch 2)\n",
      "│ GPU Memory: 0.4GB / 3.2GB\n",
      "================================================================================\n",
      "\n",
      "📈 Epoch 7/50\n",
      "--------------------------------------------------\n",
      "🔄 Training Phase...\n"
     ]
    },
    {
     "name": "stderr",
     "output_type": "stream",
     "text": [
      "Training: 100%|██████████████████████████████| 162/162 [01:25<00:00,  1.90it/s, Loss=0.0314, Acc=0.9888]\n"
     ]
    },
    {
     "name": "stdout",
     "output_type": "stream",
     "text": [
      "✅ Training completed in 85.09s\n",
      "🔍 Validation Phase...\n"
     ]
    },
    {
     "name": "stderr",
     "output_type": "stream",
     "text": [
      "Validation: 100%|██████████████████████████████| 42/42 [00:12<00:00,  3.29it/s, Loss=1.0518, Acc=0.7508]\n"
     ]
    },
    {
     "name": "stdout",
     "output_type": "stream",
     "text": [
      "✅ Validation completed in 12.78s\n",
      "\n",
      "📊 Epoch 7 Summary:\n",
      "│ Train Loss: 0.0314 | Train Acc: 0.9888\n",
      "│ Val Loss:   1.0518 | Val Acc:   0.7508\n",
      "│ Train Time: 85.09s | Val Time: 12.78s\n",
      "│ Total Epoch Time: 97.88s\n",
      "│ Best Val Loss: 1.0172 (Epoch 2)\n",
      "│ GPU Memory: 0.4GB / 3.2GB\n",
      "================================================================================\n",
      "\n",
      "📈 Epoch 8/50\n",
      "--------------------------------------------------\n",
      "🔄 Training Phase...\n"
     ]
    },
    {
     "name": "stderr",
     "output_type": "stream",
     "text": [
      "Training: 100%|██████████████████████████████| 162/162 [01:25<00:00,  1.90it/s, Loss=0.0195, Acc=0.9907]\n"
     ]
    },
    {
     "name": "stdout",
     "output_type": "stream",
     "text": [
      "✅ Training completed in 85.13s\n",
      "🔍 Validation Phase...\n"
     ]
    },
    {
     "name": "stderr",
     "output_type": "stream",
     "text": [
      "Validation: 100%|██████████████████████████████| 42/42 [00:12<00:00,  3.25it/s, Loss=1.3660, Acc=0.6958]\n"
     ]
    },
    {
     "name": "stdout",
     "output_type": "stream",
     "text": [
      "✅ Validation completed in 12.93s\n",
      "\n",
      "📊 Epoch 8 Summary:\n",
      "│ Train Loss: 0.0195 | Train Acc: 0.9907\n",
      "│ Val Loss:   1.3660 | Val Acc:   0.6958\n",
      "│ Train Time: 85.13s | Val Time: 12.93s\n",
      "│ Total Epoch Time: 98.06s\n",
      "│ Best Val Loss: 1.0172 (Epoch 2)\n",
      "│ GPU Memory: 0.4GB / 3.2GB\n",
      "================================================================================\n",
      "\n",
      "📈 Epoch 9/50\n",
      "--------------------------------------------------\n",
      "🔄 Training Phase...\n"
     ]
    },
    {
     "name": "stderr",
     "output_type": "stream",
     "text": [
      "Training: 100%|██████████████████████████████| 162/162 [01:25<00:00,  1.90it/s, Loss=0.0139, Acc=0.9936]\n"
     ]
    },
    {
     "name": "stdout",
     "output_type": "stream",
     "text": [
      "✅ Training completed in 85.17s\n",
      "🔍 Validation Phase...\n"
     ]
    },
    {
     "name": "stderr",
     "output_type": "stream",
     "text": [
      "Validation: 100%|██████████████████████████████| 42/42 [00:12<00:00,  3.29it/s, Loss=1.1974, Acc=0.7425]\n"
     ]
    },
    {
     "name": "stdout",
     "output_type": "stream",
     "text": [
      "✅ Validation completed in 12.78s\n",
      "\n",
      "📊 Epoch 9 Summary:\n",
      "│ Train Loss: 0.0139 | Train Acc: 0.9936\n",
      "│ Val Loss:   1.1974 | Val Acc:   0.7425\n",
      "│ Train Time: 85.17s | Val Time: 12.78s\n",
      "│ Total Epoch Time: 97.95s\n",
      "│ Best Val Loss: 1.0172 (Epoch 2)\n",
      "│ GPU Memory: 0.4GB / 3.2GB\n",
      "================================================================================\n",
      "\n",
      "📈 Epoch 10/50\n",
      "--------------------------------------------------\n",
      "🔄 Training Phase...\n"
     ]
    },
    {
     "name": "stderr",
     "output_type": "stream",
     "text": [
      "Training: 100%|██████████████████████████████| 162/162 [01:24<00:00,  1.91it/s, Loss=0.0103, Acc=0.9950]\n"
     ]
    },
    {
     "name": "stdout",
     "output_type": "stream",
     "text": [
      "✅ Training completed in 84.98s\n",
      "🔍 Validation Phase...\n"
     ]
    },
    {
     "name": "stderr",
     "output_type": "stream",
     "text": [
      "Validation: 100%|██████████████████████████████| 42/42 [00:12<00:00,  3.29it/s, Loss=1.2854, Acc=0.7485]\n"
     ]
    },
    {
     "name": "stdout",
     "output_type": "stream",
     "text": [
      "✅ Validation completed in 12.78s\n",
      "\n",
      "📊 Epoch 10 Summary:\n",
      "│ Train Loss: 0.0103 | Train Acc: 0.9950\n",
      "│ Val Loss:   1.2854 | Val Acc:   0.7485\n",
      "│ Train Time: 84.98s | Val Time: 12.78s\n",
      "│ Total Epoch Time: 97.76s\n",
      "│ Best Val Loss: 1.0172 (Epoch 2)\n",
      "│ GPU Memory: 0.4GB / 3.2GB\n",
      "================================================================================\n",
      "\n",
      "📈 Epoch 11/50\n",
      "--------------------------------------------------\n",
      "🔄 Training Phase...\n"
     ]
    },
    {
     "name": "stderr",
     "output_type": "stream",
     "text": [
      "Training: 100%|██████████████████████████████| 162/162 [01:24<00:00,  1.92it/s, Loss=0.0357, Acc=0.9868]\n"
     ]
    },
    {
     "name": "stdout",
     "output_type": "stream",
     "text": [
      "✅ Training completed in 84.47s\n",
      "🔍 Validation Phase...\n"
     ]
    },
    {
     "name": "stderr",
     "output_type": "stream",
     "text": [
      "Validation: 100%|██████████████████████████████| 42/42 [00:12<00:00,  3.27it/s, Loss=1.1907, Acc=0.7349]\n"
     ]
    },
    {
     "name": "stdout",
     "output_type": "stream",
     "text": [
      "✅ Validation completed in 12.85s\n",
      "\n",
      "📊 Epoch 11 Summary:\n",
      "│ Train Loss: 0.0357 | Train Acc: 0.9868\n",
      "│ Val Loss:   1.1907 | Val Acc:   0.7349\n",
      "│ Train Time: 84.47s | Val Time: 12.85s\n",
      "│ Total Epoch Time: 97.32s\n",
      "│ Best Val Loss: 1.0172 (Epoch 2)\n",
      "│ GPU Memory: 0.4GB / 3.2GB\n",
      "================================================================================\n",
      "\n",
      "📈 Epoch 12/50\n",
      "--------------------------------------------------\n",
      "🔄 Training Phase...\n"
     ]
    },
    {
     "name": "stderr",
     "output_type": "stream",
     "text": [
      "Training: 100%|██████████████████████████████| 162/162 [01:25<00:00,  1.90it/s, Loss=0.0668, Acc=0.9750]\n"
     ]
    },
    {
     "name": "stdout",
     "output_type": "stream",
     "text": [
      "✅ Training completed in 85.06s\n",
      "🔍 Validation Phase...\n"
     ]
    },
    {
     "name": "stderr",
     "output_type": "stream",
     "text": [
      "Validation: 100%|██████████████████████████████| 42/42 [00:13<00:00,  3.23it/s, Loss=1.4049, Acc=0.7123]\n"
     ]
    },
    {
     "name": "stdout",
     "output_type": "stream",
     "text": [
      "✅ Validation completed in 13.01s\n",
      "\n",
      "📊 Epoch 12 Summary:\n",
      "│ Train Loss: 0.0668 | Train Acc: 0.9750\n",
      "│ Val Loss:   1.4049 | Val Acc:   0.7123\n",
      "│ Train Time: 85.06s | Val Time: 13.01s\n",
      "│ Total Epoch Time: 98.07s\n",
      "│ Best Val Loss: 1.0172 (Epoch 2)\n",
      "│ GPU Memory: 0.4GB / 3.2GB\n",
      "================================================================================\n",
      "\n",
      "📈 Epoch 13/50\n",
      "--------------------------------------------------\n",
      "🔄 Training Phase...\n"
     ]
    },
    {
     "name": "stderr",
     "output_type": "stream",
     "text": [
      "Training: 100%|██████████████████████████████| 162/162 [01:24<00:00,  1.91it/s, Loss=0.0183, Acc=0.9921]\n"
     ]
    },
    {
     "name": "stdout",
     "output_type": "stream",
     "text": [
      "✅ Training completed in 84.81s\n",
      "🔍 Validation Phase...\n"
     ]
    },
    {
     "name": "stderr",
     "output_type": "stream",
     "text": [
      "Validation: 100%|██████████████████████████████| 42/42 [00:12<00:00,  3.31it/s, Loss=1.2471, Acc=0.7334]\n"
     ]
    },
    {
     "name": "stdout",
     "output_type": "stream",
     "text": [
      "✅ Validation completed in 12.70s\n",
      "\n",
      "📊 Epoch 13 Summary:\n",
      "│ Train Loss: 0.0183 | Train Acc: 0.9921\n",
      "│ Val Loss:   1.2471 | Val Acc:   0.7334\n",
      "│ Train Time: 84.81s | Val Time: 12.70s\n",
      "│ Total Epoch Time: 97.52s\n",
      "│ Best Val Loss: 1.0172 (Epoch 2)\n",
      "│ GPU Memory: 0.4GB / 3.2GB\n",
      "================================================================================\n",
      "\n",
      "📈 Epoch 14/50\n",
      "--------------------------------------------------\n",
      "🔄 Training Phase...\n"
     ]
    },
    {
     "name": "stderr",
     "output_type": "stream",
     "text": [
      "Training: 100%|██████████████████████████████| 162/162 [01:24<00:00,  1.91it/s, Loss=0.0131, Acc=0.9946]\n"
     ]
    },
    {
     "name": "stdout",
     "output_type": "stream",
     "text": [
      "✅ Training completed in 84.70s\n",
      "🔍 Validation Phase...\n"
     ]
    },
    {
     "name": "stderr",
     "output_type": "stream",
     "text": [
      "Validation: 100%|██████████████████████████████| 42/42 [00:12<00:00,  3.31it/s, Loss=1.1717, Acc=0.7432]\n"
     ]
    },
    {
     "name": "stdout",
     "output_type": "stream",
     "text": [
      "✅ Validation completed in 12.69s\n",
      "\n",
      "📊 Epoch 14 Summary:\n",
      "│ Train Loss: 0.0131 | Train Acc: 0.9946\n",
      "│ Val Loss:   1.1717 | Val Acc:   0.7432\n",
      "│ Train Time: 84.70s | Val Time: 12.69s\n",
      "│ Total Epoch Time: 97.39s\n",
      "│ Best Val Loss: 1.0172 (Epoch 2)\n",
      "│ GPU Memory: 0.4GB / 3.2GB\n",
      "================================================================================\n",
      "\n",
      "📈 Epoch 15/50\n",
      "--------------------------------------------------\n",
      "🔄 Training Phase...\n"
     ]
    },
    {
     "name": "stderr",
     "output_type": "stream",
     "text": [
      "Training: 100%|██████████████████████████████| 162/162 [01:24<00:00,  1.92it/s, Loss=0.0088, Acc=0.9954]\n"
     ]
    },
    {
     "name": "stdout",
     "output_type": "stream",
     "text": [
      "✅ Training completed in 84.60s\n",
      "🔍 Validation Phase...\n"
     ]
    },
    {
     "name": "stderr",
     "output_type": "stream",
     "text": [
      "Validation: 100%|██████████████████████████████| 42/42 [00:12<00:00,  3.29it/s, Loss=1.2549, Acc=0.7312]\n"
     ]
    },
    {
     "name": "stdout",
     "output_type": "stream",
     "text": [
      "✅ Validation completed in 12.75s\n",
      "\n",
      "📊 Epoch 15 Summary:\n",
      "│ Train Loss: 0.0088 | Train Acc: 0.9954\n",
      "│ Val Loss:   1.2549 | Val Acc:   0.7312\n",
      "│ Train Time: 84.60s | Val Time: 12.75s\n",
      "│ Total Epoch Time: 97.35s\n",
      "│ Best Val Loss: 1.0172 (Epoch 2)\n",
      "│ GPU Memory: 0.4GB / 3.2GB\n",
      "================================================================================\n",
      "\n",
      "📈 Epoch 16/50\n",
      "--------------------------------------------------\n",
      "🔄 Training Phase...\n"
     ]
    },
    {
     "name": "stderr",
     "output_type": "stream",
     "text": [
      "Training: 100%|██████████████████████████████| 162/162 [01:25<00:00,  1.90it/s, Loss=0.0104, Acc=0.9959]\n"
     ]
    },
    {
     "name": "stdout",
     "output_type": "stream",
     "text": [
      "✅ Training completed in 85.13s\n",
      "🔍 Validation Phase...\n"
     ]
    },
    {
     "name": "stderr",
     "output_type": "stream",
     "text": [
      "Validation: 100%|██████████████████████████████| 42/42 [00:13<00:00,  3.22it/s, Loss=1.1556, Acc=0.7440]\n"
     ]
    },
    {
     "name": "stdout",
     "output_type": "stream",
     "text": [
      "✅ Validation completed in 13.06s\n",
      "\n",
      "📊 Epoch 16 Summary:\n",
      "│ Train Loss: 0.0104 | Train Acc: 0.9959\n",
      "│ Val Loss:   1.1556 | Val Acc:   0.7440\n",
      "│ Train Time: 85.13s | Val Time: 13.06s\n",
      "│ Total Epoch Time: 98.19s\n",
      "│ Best Val Loss: 1.0172 (Epoch 2)\n",
      "│ GPU Memory: 0.4GB / 3.2GB\n",
      "================================================================================\n",
      "\n",
      "📈 Epoch 17/50\n",
      "--------------------------------------------------\n",
      "🔄 Training Phase...\n"
     ]
    },
    {
     "name": "stderr",
     "output_type": "stream",
     "text": [
      "Training: 100%|██████████████████████████████| 162/162 [01:25<00:00,  1.90it/s, Loss=0.0078, Acc=0.9963]\n"
     ]
    },
    {
     "name": "stdout",
     "output_type": "stream",
     "text": [
      "✅ Training completed in 85.25s\n",
      "🔍 Validation Phase...\n"
     ]
    },
    {
     "name": "stderr",
     "output_type": "stream",
     "text": [
      "Validation: 100%|██████████████████████████████| 42/42 [00:13<00:00,  3.19it/s, Loss=1.2004, Acc=0.7568]\n"
     ]
    },
    {
     "name": "stdout",
     "output_type": "stream",
     "text": [
      "✅ Validation completed in 13.18s\n",
      "\n",
      "📊 Epoch 17 Summary:\n",
      "│ Train Loss: 0.0078 | Train Acc: 0.9963\n",
      "│ Val Loss:   1.2004 | Val Acc:   0.7568\n",
      "│ Train Time: 85.25s | Val Time: 13.18s\n",
      "│ Total Epoch Time: 98.44s\n",
      "│ Best Val Loss: 1.0172 (Epoch 2)\n",
      "│ GPU Memory: 0.4GB / 3.2GB\n",
      "================================================================================\n",
      "\n",
      "📈 Epoch 18/50\n",
      "--------------------------------------------------\n",
      "🔄 Training Phase...\n"
     ]
    },
    {
     "name": "stderr",
     "output_type": "stream",
     "text": [
      "Training: 100%|██████████████████████████████| 162/162 [01:25<00:00,  1.90it/s, Loss=0.0069, Acc=0.9957]\n"
     ]
    },
    {
     "name": "stdout",
     "output_type": "stream",
     "text": [
      "✅ Training completed in 85.19s\n",
      "🔍 Validation Phase...\n"
     ]
    },
    {
     "name": "stderr",
     "output_type": "stream",
     "text": [
      "Validation: 100%|██████████████████████████████| 42/42 [00:12<00:00,  3.29it/s, Loss=1.2359, Acc=0.7470]\n"
     ]
    },
    {
     "name": "stdout",
     "output_type": "stream",
     "text": [
      "✅ Validation completed in 12.78s\n",
      "\n",
      "📊 Epoch 18 Summary:\n",
      "│ Train Loss: 0.0069 | Train Acc: 0.9957\n",
      "│ Val Loss:   1.2359 | Val Acc:   0.7470\n",
      "│ Train Time: 85.19s | Val Time: 12.78s\n",
      "│ Total Epoch Time: 97.97s\n",
      "│ Best Val Loss: 1.0172 (Epoch 2)\n",
      "│ GPU Memory: 0.4GB / 3.2GB\n",
      "================================================================================\n",
      "\n",
      "📈 Epoch 19/50\n",
      "--------------------------------------------------\n",
      "🔄 Training Phase...\n"
     ]
    },
    {
     "name": "stderr",
     "output_type": "stream",
     "text": [
      "Training: 100%|██████████████████████████████| 162/162 [01:25<00:00,  1.89it/s, Loss=0.0060, Acc=0.9959]\n"
     ]
    },
    {
     "name": "stdout",
     "output_type": "stream",
     "text": [
      "✅ Training completed in 85.53s\n",
      "🔍 Validation Phase...\n"
     ]
    },
    {
     "name": "stderr",
     "output_type": "stream",
     "text": [
      "Validation: 100%|██████████████████████████████| 42/42 [00:12<00:00,  3.26it/s, Loss=1.2509, Acc=0.7492]\n"
     ]
    },
    {
     "name": "stdout",
     "output_type": "stream",
     "text": [
      "✅ Validation completed in 12.87s\n",
      "\n",
      "📊 Epoch 19 Summary:\n",
      "│ Train Loss: 0.0060 | Train Acc: 0.9959\n",
      "│ Val Loss:   1.2509 | Val Acc:   0.7492\n",
      "│ Train Time: 85.53s | Val Time: 12.87s\n",
      "│ Total Epoch Time: 98.40s\n",
      "│ Best Val Loss: 1.0172 (Epoch 2)\n",
      "│ GPU Memory: 0.4GB / 3.2GB\n",
      "================================================================================\n",
      "\n",
      "📈 Epoch 20/50\n",
      "--------------------------------------------------\n",
      "🔄 Training Phase...\n"
     ]
    },
    {
     "name": "stderr",
     "output_type": "stream",
     "text": [
      "Training: 100%|██████████████████████████████| 162/162 [01:25<00:00,  1.90it/s, Loss=0.0068, Acc=0.9973]\n"
     ]
    },
    {
     "name": "stdout",
     "output_type": "stream",
     "text": [
      "✅ Training completed in 85.05s\n",
      "🔍 Validation Phase...\n"
     ]
    },
    {
     "name": "stderr",
     "output_type": "stream",
     "text": [
      "Validation: 100%|██████████████████████████████| 42/42 [00:12<00:00,  3.25it/s, Loss=1.3276, Acc=0.7425]\n"
     ]
    },
    {
     "name": "stdout",
     "output_type": "stream",
     "text": [
      "✅ Validation completed in 12.94s\n",
      "\n",
      "📊 Epoch 20 Summary:\n",
      "│ Train Loss: 0.0068 | Train Acc: 0.9973\n",
      "│ Val Loss:   1.3276 | Val Acc:   0.7425\n",
      "│ Train Time: 85.05s | Val Time: 12.94s\n",
      "│ Total Epoch Time: 98.00s\n",
      "│ Best Val Loss: 1.0172 (Epoch 2)\n",
      "│ GPU Memory: 0.4GB / 3.2GB\n",
      "================================================================================\n",
      "\n",
      "📈 Epoch 21/50\n",
      "--------------------------------------------------\n",
      "🔄 Training Phase...\n"
     ]
    },
    {
     "name": "stderr",
     "output_type": "stream",
     "text": [
      "Training: 100%|██████████████████████████████| 162/162 [01:25<00:00,  1.90it/s, Loss=0.0048, Acc=0.9969]\n"
     ]
    },
    {
     "name": "stdout",
     "output_type": "stream",
     "text": [
      "✅ Training completed in 85.31s\n",
      "🔍 Validation Phase...\n"
     ]
    },
    {
     "name": "stderr",
     "output_type": "stream",
     "text": [
      "Validation: 100%|██████████████████████████████| 42/42 [00:12<00:00,  3.33it/s, Loss=1.3579, Acc=0.7477]\n"
     ]
    },
    {
     "name": "stdout",
     "output_type": "stream",
     "text": [
      "✅ Validation completed in 12.60s\n",
      "\n",
      "📊 Epoch 21 Summary:\n",
      "│ Train Loss: 0.0048 | Train Acc: 0.9969\n",
      "│ Val Loss:   1.3579 | Val Acc:   0.7477\n",
      "│ Train Time: 85.31s | Val Time: 12.60s\n",
      "│ Total Epoch Time: 97.92s\n",
      "│ Best Val Loss: 1.0172 (Epoch 2)\n",
      "│ GPU Memory: 0.4GB / 3.2GB\n",
      "================================================================================\n",
      "\n",
      "📈 Epoch 22/50\n",
      "--------------------------------------------------\n",
      "🔄 Training Phase...\n"
     ]
    },
    {
     "name": "stderr",
     "output_type": "stream",
     "text": [
      "Training: 100%|██████████████████████████████| 162/162 [01:25<00:00,  1.89it/s, Loss=0.0086, Acc=0.9967]\n"
     ]
    },
    {
     "name": "stdout",
     "output_type": "stream",
     "text": [
      "✅ Training completed in 85.61s\n",
      "🔍 Validation Phase...\n"
     ]
    },
    {
     "name": "stderr",
     "output_type": "stream",
     "text": [
      "Validation: 100%|██████████████████████████████| 42/42 [00:13<00:00,  3.21it/s, Loss=1.2547, Acc=0.7515]\n"
     ]
    },
    {
     "name": "stdout",
     "output_type": "stream",
     "text": [
      "✅ Validation completed in 13.09s\n",
      "\n",
      "📊 Epoch 22 Summary:\n",
      "│ Train Loss: 0.0086 | Train Acc: 0.9967\n",
      "│ Val Loss:   1.2547 | Val Acc:   0.7515\n",
      "│ Train Time: 85.61s | Val Time: 13.09s\n",
      "│ Total Epoch Time: 98.71s\n",
      "│ Best Val Loss: 1.0172 (Epoch 2)\n",
      "│ GPU Memory: 0.4GB / 3.2GB\n",
      "================================================================================\n",
      "\n",
      "📈 Epoch 23/50\n",
      "--------------------------------------------------\n",
      "🔄 Training Phase...\n"
     ]
    },
    {
     "name": "stderr",
     "output_type": "stream",
     "text": [
      "Training: 100%|██████████████████████████████| 162/162 [01:25<00:00,  1.90it/s, Loss=0.1443, Acc=0.9491]\n"
     ]
    },
    {
     "name": "stdout",
     "output_type": "stream",
     "text": [
      "✅ Training completed in 85.38s\n",
      "🔍 Validation Phase...\n"
     ]
    },
    {
     "name": "stderr",
     "output_type": "stream",
     "text": [
      "Validation: 100%|██████████████████████████████| 42/42 [00:12<00:00,  3.29it/s, Loss=1.1645, Acc=0.7146]\n"
     ]
    },
    {
     "name": "stdout",
     "output_type": "stream",
     "text": [
      "✅ Validation completed in 12.78s\n",
      "\n",
      "📊 Epoch 23 Summary:\n",
      "│ Train Loss: 0.1443 | Train Acc: 0.9491\n",
      "│ Val Loss:   1.1645 | Val Acc:   0.7146\n",
      "│ Train Time: 85.38s | Val Time: 12.78s\n",
      "│ Total Epoch Time: 98.16s\n",
      "│ Best Val Loss: 1.0172 (Epoch 2)\n",
      "│ GPU Memory: 0.4GB / 3.2GB\n",
      "================================================================================\n",
      "\n",
      "📈 Epoch 24/50\n",
      "--------------------------------------------------\n",
      "🔄 Training Phase...\n"
     ]
    },
    {
     "name": "stderr",
     "output_type": "stream",
     "text": [
      "Training: 100%|██████████████████████████████| 162/162 [01:25<00:00,  1.90it/s, Loss=0.0224, Acc=0.9907]\n"
     ]
    },
    {
     "name": "stdout",
     "output_type": "stream",
     "text": [
      "✅ Training completed in 85.07s\n",
      "🔍 Validation Phase...\n"
     ]
    },
    {
     "name": "stderr",
     "output_type": "stream",
     "text": [
      "Validation: 100%|██████████████████████████████| 42/42 [00:12<00:00,  3.27it/s, Loss=1.0874, Acc=0.7575]\n"
     ]
    },
    {
     "name": "stdout",
     "output_type": "stream",
     "text": [
      "✅ Validation completed in 12.87s\n",
      "\n",
      "📊 Epoch 24 Summary:\n",
      "│ Train Loss: 0.0224 | Train Acc: 0.9907\n",
      "│ Val Loss:   1.0874 | Val Acc:   0.7575\n",
      "│ Train Time: 85.07s | Val Time: 12.87s\n",
      "│ Total Epoch Time: 97.94s\n",
      "│ Best Val Loss: 1.0172 (Epoch 2)\n",
      "│ GPU Memory: 0.4GB / 3.2GB\n",
      "================================================================================\n",
      "\n",
      "📈 Epoch 25/50\n",
      "--------------------------------------------------\n",
      "🔄 Training Phase...\n"
     ]
    },
    {
     "name": "stderr",
     "output_type": "stream",
     "text": [
      "Training: 100%|██████████████████████████████| 162/162 [01:25<00:00,  1.91it/s, Loss=0.0104, Acc=0.9955]\n"
     ]
    },
    {
     "name": "stdout",
     "output_type": "stream",
     "text": [
      "✅ Training completed in 85.03s\n",
      "🔍 Validation Phase...\n"
     ]
    },
    {
     "name": "stderr",
     "output_type": "stream",
     "text": [
      "Validation: 100%|██████████████████████████████| 42/42 [00:13<00:00,  3.23it/s, Loss=1.1834, Acc=0.7380]\n"
     ]
    },
    {
     "name": "stdout",
     "output_type": "stream",
     "text": [
      "✅ Validation completed in 13.00s\n",
      "\n",
      "📊 Epoch 25 Summary:\n",
      "│ Train Loss: 0.0104 | Train Acc: 0.9955\n",
      "│ Val Loss:   1.1834 | Val Acc:   0.7380\n",
      "│ Train Time: 85.03s | Val Time: 13.00s\n",
      "│ Total Epoch Time: 98.04s\n",
      "│ Best Val Loss: 1.0172 (Epoch 2)\n",
      "│ GPU Memory: 0.4GB / 3.2GB\n",
      "================================================================================\n",
      "\n",
      "📈 Epoch 26/50\n",
      "--------------------------------------------------\n",
      "🔄 Training Phase...\n"
     ]
    },
    {
     "name": "stderr",
     "output_type": "stream",
     "text": [
      "Training: 100%|██████████████████████████████| 162/162 [01:25<00:00,  1.91it/s, Loss=0.0079, Acc=0.9954]\n"
     ]
    },
    {
     "name": "stdout",
     "output_type": "stream",
     "text": [
      "✅ Training completed in 85.03s\n",
      "🔍 Validation Phase...\n"
     ]
    },
    {
     "name": "stderr",
     "output_type": "stream",
     "text": [
      "Validation: 100%|██████████████████████████████| 42/42 [00:12<00:00,  3.27it/s, Loss=1.1176, Acc=0.7500]\n"
     ]
    },
    {
     "name": "stdout",
     "output_type": "stream",
     "text": [
      "✅ Validation completed in 12.83s\n",
      "\n",
      "📊 Epoch 26 Summary:\n",
      "│ Train Loss: 0.0079 | Train Acc: 0.9954\n",
      "│ Val Loss:   1.1176 | Val Acc:   0.7500\n",
      "│ Train Time: 85.03s | Val Time: 12.83s\n",
      "│ Total Epoch Time: 97.86s\n",
      "│ Best Val Loss: 1.0172 (Epoch 2)\n",
      "│ GPU Memory: 0.4GB / 3.2GB\n",
      "================================================================================\n",
      "\n",
      "📈 Epoch 27/50\n",
      "--------------------------------------------------\n",
      "🔄 Training Phase...\n"
     ]
    },
    {
     "name": "stderr",
     "output_type": "stream",
     "text": [
      "Training: 100%|██████████████████████████████| 162/162 [01:25<00:00,  1.90it/s, Loss=0.0090, Acc=0.9963]\n"
     ]
    },
    {
     "name": "stdout",
     "output_type": "stream",
     "text": [
      "✅ Training completed in 85.14s\n",
      "🔍 Validation Phase...\n"
     ]
    },
    {
     "name": "stderr",
     "output_type": "stream",
     "text": [
      "Validation: 100%|██████████████████████████████| 42/42 [00:12<00:00,  3.31it/s, Loss=1.1228, Acc=0.7605]\n"
     ]
    },
    {
     "name": "stdout",
     "output_type": "stream",
     "text": [
      "✅ Validation completed in 12.68s\n",
      "\n",
      "📊 Epoch 27 Summary:\n",
      "│ Train Loss: 0.0090 | Train Acc: 0.9963\n",
      "│ Val Loss:   1.1228 | Val Acc:   0.7605\n",
      "│ Train Time: 85.14s | Val Time: 12.68s\n",
      "│ Total Epoch Time: 97.83s\n",
      "│ Best Val Loss: 1.0172 (Epoch 2)\n",
      "│ GPU Memory: 0.4GB / 3.2GB\n",
      "================================================================================\n",
      "\n",
      "📈 Epoch 28/50\n",
      "--------------------------------------------------\n",
      "🔄 Training Phase...\n"
     ]
    },
    {
     "name": "stderr",
     "output_type": "stream",
     "text": [
      "Training: 100%|██████████████████████████████| 162/162 [01:24<00:00,  1.91it/s, Loss=0.0089, Acc=0.9961]\n"
     ]
    },
    {
     "name": "stdout",
     "output_type": "stream",
     "text": [
      "✅ Training completed in 84.94s\n",
      "🔍 Validation Phase...\n"
     ]
    },
    {
     "name": "stderr",
     "output_type": "stream",
     "text": [
      "Validation: 100%|██████████████████████████████| 42/42 [00:12<00:00,  3.26it/s, Loss=1.2482, Acc=0.7289]\n"
     ]
    },
    {
     "name": "stdout",
     "output_type": "stream",
     "text": [
      "✅ Validation completed in 12.90s\n",
      "\n",
      "📊 Epoch 28 Summary:\n",
      "│ Train Loss: 0.0089 | Train Acc: 0.9961\n",
      "│ Val Loss:   1.2482 | Val Acc:   0.7289\n",
      "│ Train Time: 84.94s | Val Time: 12.90s\n",
      "│ Total Epoch Time: 97.85s\n",
      "│ Best Val Loss: 1.0172 (Epoch 2)\n",
      "│ GPU Memory: 0.4GB / 3.2GB\n",
      "================================================================================\n",
      "\n",
      "📈 Epoch 29/50\n",
      "--------------------------------------------------\n",
      "🔄 Training Phase...\n"
     ]
    },
    {
     "name": "stderr",
     "output_type": "stream",
     "text": [
      "Training: 100%|██████████████████████████████| 162/162 [01:25<00:00,  1.90it/s, Loss=0.0158, Acc=0.9928]\n"
     ]
    },
    {
     "name": "stdout",
     "output_type": "stream",
     "text": [
      "✅ Training completed in 85.35s\n",
      "🔍 Validation Phase...\n"
     ]
    },
    {
     "name": "stderr",
     "output_type": "stream",
     "text": [
      "Validation: 100%|██████████████████████████████| 42/42 [00:12<00:00,  3.25it/s, Loss=1.1167, Acc=0.7560]\n"
     ]
    },
    {
     "name": "stdout",
     "output_type": "stream",
     "text": [
      "✅ Validation completed in 12.93s\n",
      "\n",
      "📊 Epoch 29 Summary:\n",
      "│ Train Loss: 0.0158 | Train Acc: 0.9928\n",
      "│ Val Loss:   1.1167 | Val Acc:   0.7560\n",
      "│ Train Time: 85.35s | Val Time: 12.93s\n",
      "│ Total Epoch Time: 98.28s\n",
      "│ Best Val Loss: 1.0172 (Epoch 2)\n",
      "│ GPU Memory: 0.4GB / 3.2GB\n",
      "================================================================================\n",
      "\n",
      "📈 Epoch 30/50\n",
      "--------------------------------------------------\n",
      "🔄 Training Phase...\n"
     ]
    },
    {
     "name": "stderr",
     "output_type": "stream",
     "text": [
      "Training: 100%|██████████████████████████████| 162/162 [01:25<00:00,  1.89it/s, Loss=0.0103, Acc=0.9957]\n"
     ]
    },
    {
     "name": "stdout",
     "output_type": "stream",
     "text": [
      "✅ Training completed in 85.70s\n",
      "🔍 Validation Phase...\n"
     ]
    },
    {
     "name": "stderr",
     "output_type": "stream",
     "text": [
      "Validation: 100%|██████████████████████████████| 42/42 [00:12<00:00,  3.30it/s, Loss=1.1268, Acc=0.7568]\n"
     ]
    },
    {
     "name": "stdout",
     "output_type": "stream",
     "text": [
      "✅ Validation completed in 12.75s\n",
      "\n",
      "📊 Epoch 30 Summary:\n",
      "│ Train Loss: 0.0103 | Train Acc: 0.9957\n",
      "│ Val Loss:   1.1268 | Val Acc:   0.7568\n",
      "│ Train Time: 85.70s | Val Time: 12.75s\n",
      "│ Total Epoch Time: 98.45s\n",
      "│ Best Val Loss: 1.0172 (Epoch 2)\n",
      "│ GPU Memory: 0.4GB / 3.2GB\n",
      "================================================================================\n",
      "\n",
      "📈 Epoch 31/50\n",
      "--------------------------------------------------\n",
      "🔄 Training Phase...\n"
     ]
    },
    {
     "name": "stderr",
     "output_type": "stream",
     "text": [
      "Training: 100%|██████████████████████████████| 162/162 [01:24<00:00,  1.91it/s, Loss=0.0070, Acc=0.9959]\n"
     ]
    },
    {
     "name": "stdout",
     "output_type": "stream",
     "text": [
      "✅ Training completed in 84.80s\n",
      "🔍 Validation Phase...\n"
     ]
    },
    {
     "name": "stderr",
     "output_type": "stream",
     "text": [
      "Validation: 100%|██████████████████████████████| 42/42 [00:12<00:00,  3.31it/s, Loss=1.1845, Acc=0.7462]\n"
     ]
    },
    {
     "name": "stdout",
     "output_type": "stream",
     "text": [
      "✅ Validation completed in 12.68s\n",
      "\n",
      "📊 Epoch 31 Summary:\n",
      "│ Train Loss: 0.0070 | Train Acc: 0.9959\n",
      "│ Val Loss:   1.1845 | Val Acc:   0.7462\n",
      "│ Train Time: 84.80s | Val Time: 12.68s\n",
      "│ Total Epoch Time: 97.49s\n",
      "│ Best Val Loss: 1.0172 (Epoch 2)\n",
      "│ GPU Memory: 0.4GB / 3.2GB\n",
      "================================================================================\n",
      "\n",
      "📈 Epoch 32/50\n",
      "--------------------------------------------------\n",
      "🔄 Training Phase...\n"
     ]
    },
    {
     "name": "stderr",
     "output_type": "stream",
     "text": [
      "Training: 100%|██████████████████████████████| 162/162 [01:25<00:00,  1.90it/s, Loss=0.0071, Acc=0.9965]\n"
     ]
    },
    {
     "name": "stdout",
     "output_type": "stream",
     "text": [
      "✅ Training completed in 85.37s\n",
      "🔍 Validation Phase...\n"
     ]
    },
    {
     "name": "stderr",
     "output_type": "stream",
     "text": [
      "Validation: 100%|██████████████████████████████| 42/42 [00:12<00:00,  3.26it/s, Loss=1.2015, Acc=0.7440]\n"
     ]
    },
    {
     "name": "stdout",
     "output_type": "stream",
     "text": [
      "✅ Validation completed in 12.87s\n",
      "\n",
      "📊 Epoch 32 Summary:\n",
      "│ Train Loss: 0.0071 | Train Acc: 0.9965\n",
      "│ Val Loss:   1.2015 | Val Acc:   0.7440\n",
      "│ Train Time: 85.37s | Val Time: 12.87s\n",
      "│ Total Epoch Time: 98.24s\n",
      "│ Best Val Loss: 1.0172 (Epoch 2)\n",
      "│ GPU Memory: 0.4GB / 3.2GB\n",
      "================================================================================\n",
      "\n",
      "📈 Epoch 33/50\n",
      "--------------------------------------------------\n",
      "🔄 Training Phase...\n"
     ]
    },
    {
     "name": "stderr",
     "output_type": "stream",
     "text": [
      "Training: 100%|██████████████████████████████| 162/162 [01:24<00:00,  1.92it/s, Loss=0.0073, Acc=0.9967]\n"
     ]
    },
    {
     "name": "stdout",
     "output_type": "stream",
     "text": [
      "✅ Training completed in 84.22s\n",
      "🔍 Validation Phase...\n"
     ]
    },
    {
     "name": "stderr",
     "output_type": "stream",
     "text": [
      "Validation: 100%|██████████████████████████████| 42/42 [00:12<00:00,  3.25it/s, Loss=1.2220, Acc=0.7455]\n"
     ]
    },
    {
     "name": "stdout",
     "output_type": "stream",
     "text": [
      "✅ Validation completed in 12.91s\n",
      "\n",
      "📊 Epoch 33 Summary:\n",
      "│ Train Loss: 0.0073 | Train Acc: 0.9967\n",
      "│ Val Loss:   1.2220 | Val Acc:   0.7455\n",
      "│ Train Time: 84.22s | Val Time: 12.91s\n",
      "│ Total Epoch Time: 97.13s\n",
      "│ Best Val Loss: 1.0172 (Epoch 2)\n",
      "│ GPU Memory: 0.4GB / 3.2GB\n",
      "================================================================================\n",
      "\n",
      "📈 Epoch 34/50\n",
      "--------------------------------------------------\n",
      "🔄 Training Phase...\n"
     ]
    },
    {
     "name": "stderr",
     "output_type": "stream",
     "text": [
      "Training: 100%|██████████████████████████████| 162/162 [01:24<00:00,  1.91it/s, Loss=0.0058, Acc=0.9965]\n"
     ]
    },
    {
     "name": "stdout",
     "output_type": "stream",
     "text": [
      "✅ Training completed in 84.68s\n",
      "🔍 Validation Phase...\n"
     ]
    },
    {
     "name": "stderr",
     "output_type": "stream",
     "text": [
      "Validation: 100%|██████████████████████████████| 42/42 [00:12<00:00,  3.31it/s, Loss=1.1679, Acc=0.7583]\n"
     ]
    },
    {
     "name": "stdout",
     "output_type": "stream",
     "text": [
      "✅ Validation completed in 12.67s\n",
      "\n",
      "📊 Epoch 34 Summary:\n",
      "│ Train Loss: 0.0058 | Train Acc: 0.9965\n",
      "│ Val Loss:   1.1679 | Val Acc:   0.7583\n",
      "│ Train Time: 84.68s | Val Time: 12.67s\n",
      "│ Total Epoch Time: 97.36s\n",
      "│ Best Val Loss: 1.0172 (Epoch 2)\n",
      "│ GPU Memory: 0.4GB / 3.2GB\n",
      "================================================================================\n",
      "\n",
      "📈 Epoch 35/50\n",
      "--------------------------------------------------\n",
      "🔄 Training Phase...\n"
     ]
    },
    {
     "name": "stderr",
     "output_type": "stream",
     "text": [
      "Training: 100%|██████████████████████████████| 162/162 [01:24<00:00,  1.91it/s, Loss=0.0126, Acc=0.9957]\n"
     ]
    },
    {
     "name": "stdout",
     "output_type": "stream",
     "text": [
      "✅ Training completed in 84.98s\n",
      "🔍 Validation Phase...\n"
     ]
    },
    {
     "name": "stderr",
     "output_type": "stream",
     "text": [
      "Validation: 100%|██████████████████████████████| 42/42 [00:12<00:00,  3.32it/s, Loss=1.3351, Acc=0.7229]\n"
     ]
    },
    {
     "name": "stdout",
     "output_type": "stream",
     "text": [
      "✅ Validation completed in 12.66s\n",
      "\n",
      "📊 Epoch 35 Summary:\n",
      "│ Train Loss: 0.0126 | Train Acc: 0.9957\n",
      "│ Val Loss:   1.3351 | Val Acc:   0.7229\n",
      "│ Train Time: 84.98s | Val Time: 12.66s\n",
      "│ Total Epoch Time: 97.64s\n",
      "│ Best Val Loss: 1.0172 (Epoch 2)\n",
      "│ GPU Memory: 0.4GB / 3.2GB\n",
      "================================================================================\n",
      "\n",
      "📈 Epoch 36/50\n",
      "--------------------------------------------------\n",
      "🔄 Training Phase...\n"
     ]
    },
    {
     "name": "stderr",
     "output_type": "stream",
     "text": [
      "Training: 100%|██████████████████████████████| 162/162 [01:24<00:00,  1.92it/s, Loss=0.0858, Acc=0.9712]\n"
     ]
    },
    {
     "name": "stdout",
     "output_type": "stream",
     "text": [
      "✅ Training completed in 84.34s\n",
      "🔍 Validation Phase...\n"
     ]
    },
    {
     "name": "stderr",
     "output_type": "stream",
     "text": [
      "Validation: 100%|██████████████████████████████| 42/42 [00:12<00:00,  3.30it/s, Loss=1.5417, Acc=0.6815]\n"
     ]
    },
    {
     "name": "stdout",
     "output_type": "stream",
     "text": [
      "✅ Validation completed in 12.75s\n",
      "\n",
      "📊 Epoch 36 Summary:\n",
      "│ Train Loss: 0.0858 | Train Acc: 0.9712\n",
      "│ Val Loss:   1.5417 | Val Acc:   0.6815\n",
      "│ Train Time: 84.34s | Val Time: 12.75s\n",
      "│ Total Epoch Time: 97.09s\n",
      "│ Best Val Loss: 1.0172 (Epoch 2)\n",
      "│ GPU Memory: 0.4GB / 3.2GB\n",
      "================================================================================\n",
      "\n",
      "📈 Epoch 37/50\n",
      "--------------------------------------------------\n",
      "🔄 Training Phase...\n"
     ]
    },
    {
     "name": "stderr",
     "output_type": "stream",
     "text": [
      "Training: 100%|██████████████████████████████| 162/162 [01:24<00:00,  1.92it/s, Loss=0.0276, Acc=0.9909]\n"
     ]
    },
    {
     "name": "stdout",
     "output_type": "stream",
     "text": [
      "✅ Training completed in 84.46s\n",
      "🔍 Validation Phase...\n"
     ]
    },
    {
     "name": "stderr",
     "output_type": "stream",
     "text": [
      "Validation: 100%|██████████████████████████████| 42/42 [00:12<00:00,  3.38it/s, Loss=1.4709, Acc=0.6762]\n"
     ]
    },
    {
     "name": "stdout",
     "output_type": "stream",
     "text": [
      "✅ Validation completed in 12.43s\n",
      "\n",
      "📊 Epoch 37 Summary:\n",
      "│ Train Loss: 0.0276 | Train Acc: 0.9909\n",
      "│ Val Loss:   1.4709 | Val Acc:   0.6762\n",
      "│ Train Time: 84.46s | Val Time: 12.43s\n",
      "│ Total Epoch Time: 96.89s\n",
      "│ Best Val Loss: 1.0172 (Epoch 2)\n",
      "│ GPU Memory: 0.4GB / 3.2GB\n",
      "================================================================================\n",
      "\n",
      "📈 Epoch 38/50\n",
      "--------------------------------------------------\n",
      "🔄 Training Phase...\n"
     ]
    },
    {
     "name": "stderr",
     "output_type": "stream",
     "text": [
      "Training: 100%|██████████████████████████████| 162/162 [01:24<00:00,  1.91it/s, Loss=0.0223, Acc=0.9925]\n"
     ]
    },
    {
     "name": "stdout",
     "output_type": "stream",
     "text": [
      "✅ Training completed in 84.65s\n",
      "🔍 Validation Phase...\n"
     ]
    },
    {
     "name": "stderr",
     "output_type": "stream",
     "text": [
      "Validation: 100%|██████████████████████████████| 42/42 [00:13<00:00,  3.23it/s, Loss=1.4175, Acc=0.7026]\n"
     ]
    },
    {
     "name": "stdout",
     "output_type": "stream",
     "text": [
      "✅ Validation completed in 13.02s\n",
      "\n",
      "📊 Epoch 38 Summary:\n",
      "│ Train Loss: 0.0223 | Train Acc: 0.9925\n",
      "│ Val Loss:   1.4175 | Val Acc:   0.7026\n",
      "│ Train Time: 84.65s | Val Time: 13.02s\n",
      "│ Total Epoch Time: 97.67s\n",
      "│ Best Val Loss: 1.0172 (Epoch 2)\n",
      "│ GPU Memory: 0.4GB / 3.2GB\n",
      "================================================================================\n",
      "\n",
      "📈 Epoch 39/50\n",
      "--------------------------------------------------\n",
      "🔄 Training Phase...\n"
     ]
    },
    {
     "name": "stderr",
     "output_type": "stream",
     "text": [
      "Training: 100%|██████████████████████████████| 162/162 [01:24<00:00,  1.92it/s, Loss=0.0129, Acc=0.9948]\n"
     ]
    },
    {
     "name": "stdout",
     "output_type": "stream",
     "text": [
      "✅ Training completed in 84.48s\n",
      "🔍 Validation Phase...\n"
     ]
    },
    {
     "name": "stderr",
     "output_type": "stream",
     "text": [
      "Validation: 100%|██████████████████████████████| 42/42 [00:12<00:00,  3.31it/s, Loss=1.3196, Acc=0.7417]\n"
     ]
    },
    {
     "name": "stdout",
     "output_type": "stream",
     "text": [
      "✅ Validation completed in 12.70s\n",
      "\n",
      "📊 Epoch 39 Summary:\n",
      "│ Train Loss: 0.0129 | Train Acc: 0.9948\n",
      "│ Val Loss:   1.3196 | Val Acc:   0.7417\n",
      "│ Train Time: 84.48s | Val Time: 12.70s\n",
      "│ Total Epoch Time: 97.18s\n",
      "│ Best Val Loss: 1.0172 (Epoch 2)\n",
      "│ GPU Memory: 0.4GB / 3.2GB\n",
      "================================================================================\n",
      "\n",
      "📈 Epoch 40/50\n",
      "--------------------------------------------------\n",
      "🔄 Training Phase...\n"
     ]
    },
    {
     "name": "stderr",
     "output_type": "stream",
     "text": [
      "Training: 100%|██████████████████████████████| 162/162 [01:24<00:00,  1.92it/s, Loss=0.0088, Acc=0.9959]\n"
     ]
    },
    {
     "name": "stdout",
     "output_type": "stream",
     "text": [
      "✅ Training completed in 84.28s\n",
      "🔍 Validation Phase...\n"
     ]
    },
    {
     "name": "stderr",
     "output_type": "stream",
     "text": [
      "Validation: 100%|██████████████████████████████| 42/42 [00:12<00:00,  3.38it/s, Loss=1.2985, Acc=0.7395]\n"
     ]
    },
    {
     "name": "stdout",
     "output_type": "stream",
     "text": [
      "✅ Validation completed in 12.42s\n",
      "\n",
      "📊 Epoch 40 Summary:\n",
      "│ Train Loss: 0.0088 | Train Acc: 0.9959\n",
      "│ Val Loss:   1.2985 | Val Acc:   0.7395\n",
      "│ Train Time: 84.28s | Val Time: 12.42s\n",
      "│ Total Epoch Time: 96.71s\n",
      "│ Best Val Loss: 1.0172 (Epoch 2)\n",
      "│ GPU Memory: 0.4GB / 3.2GB\n",
      "================================================================================\n",
      "\n",
      "📈 Epoch 41/50\n",
      "--------------------------------------------------\n",
      "🔄 Training Phase...\n"
     ]
    },
    {
     "name": "stderr",
     "output_type": "stream",
     "text": [
      "Training: 100%|██████████████████████████████| 162/162 [01:24<00:00,  1.92it/s, Loss=0.0120, Acc=0.9950]\n"
     ]
    },
    {
     "name": "stdout",
     "output_type": "stream",
     "text": [
      "✅ Training completed in 84.18s\n",
      "🔍 Validation Phase...\n"
     ]
    },
    {
     "name": "stderr",
     "output_type": "stream",
     "text": [
      "Validation: 100%|██████████████████████████████| 42/42 [00:12<00:00,  3.33it/s, Loss=1.4834, Acc=0.7297]\n"
     ]
    },
    {
     "name": "stdout",
     "output_type": "stream",
     "text": [
      "✅ Validation completed in 12.62s\n",
      "\n",
      "📊 Epoch 41 Summary:\n",
      "│ Train Loss: 0.0120 | Train Acc: 0.9950\n",
      "│ Val Loss:   1.4834 | Val Acc:   0.7297\n",
      "│ Train Time: 84.18s | Val Time: 12.62s\n",
      "│ Total Epoch Time: 96.80s\n",
      "│ Best Val Loss: 1.0172 (Epoch 2)\n",
      "│ GPU Memory: 0.4GB / 3.2GB\n",
      "================================================================================\n",
      "\n",
      "📈 Epoch 42/50\n",
      "--------------------------------------------------\n",
      "🔄 Training Phase...\n"
     ]
    },
    {
     "name": "stderr",
     "output_type": "stream",
     "text": [
      "Training: 100%|██████████████████████████████| 162/162 [01:24<00:00,  1.93it/s, Loss=0.0085, Acc=0.9954]\n"
     ]
    },
    {
     "name": "stdout",
     "output_type": "stream",
     "text": [
      "✅ Training completed in 84.16s\n",
      "🔍 Validation Phase...\n"
     ]
    },
    {
     "name": "stderr",
     "output_type": "stream",
     "text": [
      "Validation: 100%|██████████████████████████████| 42/42 [00:12<00:00,  3.36it/s, Loss=1.3304, Acc=0.7372]\n"
     ]
    },
    {
     "name": "stdout",
     "output_type": "stream",
     "text": [
      "✅ Validation completed in 12.50s\n",
      "\n",
      "📊 Epoch 42 Summary:\n",
      "│ Train Loss: 0.0085 | Train Acc: 0.9954\n",
      "│ Val Loss:   1.3304 | Val Acc:   0.7372\n",
      "│ Train Time: 84.16s | Val Time: 12.50s\n",
      "│ Total Epoch Time: 96.66s\n",
      "│ Best Val Loss: 1.0172 (Epoch 2)\n",
      "│ GPU Memory: 0.4GB / 3.2GB\n",
      "================================================================================\n",
      "\n",
      "📈 Epoch 43/50\n",
      "--------------------------------------------------\n",
      "🔄 Training Phase...\n"
     ]
    },
    {
     "name": "stderr",
     "output_type": "stream",
     "text": [
      "Training: 100%|██████████████████████████████| 162/162 [01:24<00:00,  1.92it/s, Loss=0.0102, Acc=0.9957]\n"
     ]
    },
    {
     "name": "stdout",
     "output_type": "stream",
     "text": [
      "✅ Training completed in 84.21s\n",
      "🔍 Validation Phase...\n"
     ]
    },
    {
     "name": "stderr",
     "output_type": "stream",
     "text": [
      "Validation: 100%|██████████████████████████████| 42/42 [00:12<00:00,  3.40it/s, Loss=1.4058, Acc=0.7199]\n"
     ]
    },
    {
     "name": "stdout",
     "output_type": "stream",
     "text": [
      "✅ Validation completed in 12.37s\n",
      "\n",
      "📊 Epoch 43 Summary:\n",
      "│ Train Loss: 0.0102 | Train Acc: 0.9957\n",
      "│ Val Loss:   1.4058 | Val Acc:   0.7199\n",
      "│ Train Time: 84.21s | Val Time: 12.37s\n",
      "│ Total Epoch Time: 96.58s\n",
      "│ Best Val Loss: 1.0172 (Epoch 2)\n",
      "│ GPU Memory: 0.4GB / 3.2GB\n",
      "================================================================================\n",
      "\n",
      "📈 Epoch 44/50\n",
      "--------------------------------------------------\n",
      "🔄 Training Phase...\n"
     ]
    },
    {
     "name": "stderr",
     "output_type": "stream",
     "text": [
      "Training: 100%|██████████████████████████████| 162/162 [01:23<00:00,  1.93it/s, Loss=0.0051, Acc=0.9973]\n"
     ]
    },
    {
     "name": "stdout",
     "output_type": "stream",
     "text": [
      "✅ Training completed in 83.95s\n",
      "🔍 Validation Phase...\n"
     ]
    },
    {
     "name": "stderr",
     "output_type": "stream",
     "text": [
      "Validation: 100%|██████████████████████████████| 42/42 [00:12<00:00,  3.33it/s, Loss=1.4061, Acc=0.7236]\n"
     ]
    },
    {
     "name": "stdout",
     "output_type": "stream",
     "text": [
      "✅ Validation completed in 12.61s\n",
      "\n",
      "📊 Epoch 44 Summary:\n",
      "│ Train Loss: 0.0051 | Train Acc: 0.9973\n",
      "│ Val Loss:   1.4061 | Val Acc:   0.7236\n",
      "│ Train Time: 83.95s | Val Time: 12.61s\n",
      "│ Total Epoch Time: 96.56s\n",
      "│ Best Val Loss: 1.0172 (Epoch 2)\n",
      "│ GPU Memory: 0.4GB / 3.2GB\n",
      "================================================================================\n",
      "\n",
      "📈 Epoch 45/50\n",
      "--------------------------------------------------\n",
      "🔄 Training Phase...\n"
     ]
    },
    {
     "name": "stderr",
     "output_type": "stream",
     "text": [
      "Training: 100%|██████████████████████████████| 162/162 [01:24<00:00,  1.93it/s, Loss=0.0046, Acc=0.9971]\n"
     ]
    },
    {
     "name": "stdout",
     "output_type": "stream",
     "text": [
      "✅ Training completed in 84.13s\n",
      "🔍 Validation Phase...\n"
     ]
    },
    {
     "name": "stderr",
     "output_type": "stream",
     "text": [
      "Validation: 100%|██████████████████████████████| 42/42 [00:12<00:00,  3.35it/s, Loss=1.3835, Acc=0.7380]\n"
     ]
    },
    {
     "name": "stdout",
     "output_type": "stream",
     "text": [
      "✅ Validation completed in 12.55s\n",
      "\n",
      "📊 Epoch 45 Summary:\n",
      "│ Train Loss: 0.0046 | Train Acc: 0.9971\n",
      "│ Val Loss:   1.3835 | Val Acc:   0.7380\n",
      "│ Train Time: 84.13s | Val Time: 12.55s\n",
      "│ Total Epoch Time: 96.68s\n",
      "│ Best Val Loss: 1.0172 (Epoch 2)\n",
      "│ GPU Memory: 0.4GB / 3.2GB\n",
      "================================================================================\n",
      "\n",
      "📈 Epoch 46/50\n",
      "--------------------------------------------------\n",
      "🔄 Training Phase...\n"
     ]
    },
    {
     "name": "stderr",
     "output_type": "stream",
     "text": [
      "Training: 100%|██████████████████████████████| 162/162 [01:24<00:00,  1.92it/s, Loss=0.0052, Acc=0.9967]\n"
     ]
    },
    {
     "name": "stdout",
     "output_type": "stream",
     "text": [
      "✅ Training completed in 84.16s\n",
      "🔍 Validation Phase...\n"
     ]
    },
    {
     "name": "stderr",
     "output_type": "stream",
     "text": [
      "Validation: 100%|██████████████████████████████| 42/42 [00:12<00:00,  3.34it/s, Loss=1.3651, Acc=0.7267]\n"
     ]
    },
    {
     "name": "stdout",
     "output_type": "stream",
     "text": [
      "✅ Validation completed in 12.56s\n",
      "\n",
      "📊 Epoch 46 Summary:\n",
      "│ Train Loss: 0.0052 | Train Acc: 0.9967\n",
      "│ Val Loss:   1.3651 | Val Acc:   0.7267\n",
      "│ Train Time: 84.16s | Val Time: 12.56s\n",
      "│ Total Epoch Time: 96.73s\n",
      "│ Best Val Loss: 1.0172 (Epoch 2)\n",
      "│ GPU Memory: 0.4GB / 3.2GB\n",
      "================================================================================\n",
      "\n",
      "📈 Epoch 47/50\n",
      "--------------------------------------------------\n",
      "🔄 Training Phase...\n"
     ]
    },
    {
     "name": "stderr",
     "output_type": "stream",
     "text": [
      "Training: 100%|██████████████████████████████| 162/162 [01:24<00:00,  1.92it/s, Loss=0.0041, Acc=0.9973]\n"
     ]
    },
    {
     "name": "stdout",
     "output_type": "stream",
     "text": [
      "✅ Training completed in 84.17s\n",
      "🔍 Validation Phase...\n"
     ]
    },
    {
     "name": "stderr",
     "output_type": "stream",
     "text": [
      "Validation: 100%|██████████████████████████████| 42/42 [00:12<00:00,  3.34it/s, Loss=1.3599, Acc=0.7380]\n"
     ]
    },
    {
     "name": "stdout",
     "output_type": "stream",
     "text": [
      "✅ Validation completed in 12.57s\n",
      "\n",
      "📊 Epoch 47 Summary:\n",
      "│ Train Loss: 0.0041 | Train Acc: 0.9973\n",
      "│ Val Loss:   1.3599 | Val Acc:   0.7380\n",
      "│ Train Time: 84.17s | Val Time: 12.57s\n",
      "│ Total Epoch Time: 96.74s\n",
      "│ Best Val Loss: 1.0172 (Epoch 2)\n",
      "│ GPU Memory: 0.4GB / 3.2GB\n",
      "================================================================================\n",
      "\n",
      "📈 Epoch 48/50\n",
      "--------------------------------------------------\n",
      "🔄 Training Phase...\n"
     ]
    },
    {
     "name": "stderr",
     "output_type": "stream",
     "text": [
      "Training: 100%|██████████████████████████████| 162/162 [01:24<00:00,  1.92it/s, Loss=0.0046, Acc=0.9975]\n"
     ]
    },
    {
     "name": "stdout",
     "output_type": "stream",
     "text": [
      "✅ Training completed in 84.44s\n",
      "🔍 Validation Phase...\n"
     ]
    },
    {
     "name": "stderr",
     "output_type": "stream",
     "text": [
      "Validation: 100%|██████████████████████████████| 42/42 [00:12<00:00,  3.34it/s, Loss=1.4728, Acc=0.7402]\n"
     ]
    },
    {
     "name": "stdout",
     "output_type": "stream",
     "text": [
      "✅ Validation completed in 12.56s\n",
      "\n",
      "📊 Epoch 48 Summary:\n",
      "│ Train Loss: 0.0046 | Train Acc: 0.9975\n",
      "│ Val Loss:   1.4728 | Val Acc:   0.7402\n",
      "│ Train Time: 84.44s | Val Time: 12.56s\n",
      "│ Total Epoch Time: 97.01s\n",
      "│ Best Val Loss: 1.0172 (Epoch 2)\n",
      "│ GPU Memory: 0.4GB / 3.2GB\n",
      "================================================================================\n",
      "\n",
      "📈 Epoch 49/50\n",
      "--------------------------------------------------\n",
      "🔄 Training Phase...\n"
     ]
    },
    {
     "name": "stderr",
     "output_type": "stream",
     "text": [
      "Training: 100%|██████████████████████████████| 162/162 [01:24<00:00,  1.91it/s, Loss=0.0061, Acc=0.9965]\n"
     ]
    },
    {
     "name": "stdout",
     "output_type": "stream",
     "text": [
      "✅ Training completed in 84.86s\n",
      "🔍 Validation Phase...\n"
     ]
    },
    {
     "name": "stderr",
     "output_type": "stream",
     "text": [
      "Validation: 100%|██████████████████████████████| 42/42 [00:12<00:00,  3.26it/s, Loss=1.4494, Acc=0.7395]\n"
     ]
    },
    {
     "name": "stdout",
     "output_type": "stream",
     "text": [
      "✅ Validation completed in 12.90s\n",
      "\n",
      "📊 Epoch 49 Summary:\n",
      "│ Train Loss: 0.0061 | Train Acc: 0.9965\n",
      "│ Val Loss:   1.4494 | Val Acc:   0.7395\n",
      "│ Train Time: 84.86s | Val Time: 12.90s\n",
      "│ Total Epoch Time: 97.77s\n",
      "│ Best Val Loss: 1.0172 (Epoch 2)\n",
      "│ GPU Memory: 0.4GB / 3.2GB\n",
      "================================================================================\n",
      "\n",
      "📈 Epoch 50/50\n",
      "--------------------------------------------------\n",
      "🔄 Training Phase...\n"
     ]
    },
    {
     "name": "stderr",
     "output_type": "stream",
     "text": [
      "Training: 100%|██████████████████████████████| 162/162 [01:25<00:00,  1.90it/s, Loss=0.0051, Acc=0.9979]\n"
     ]
    },
    {
     "name": "stdout",
     "output_type": "stream",
     "text": [
      "✅ Training completed in 85.09s\n",
      "🔍 Validation Phase...\n"
     ]
    },
    {
     "name": "stderr",
     "output_type": "stream",
     "text": [
      "Validation: 100%|██████████████████████████████| 42/42 [00:12<00:00,  3.31it/s, Loss=1.4747, Acc=0.7327]\n"
     ]
    },
    {
     "name": "stdout",
     "output_type": "stream",
     "text": [
      "✅ Validation completed in 12.68s\n",
      "\n",
      "📊 Epoch 50 Summary:\n",
      "│ Train Loss: 0.0051 | Train Acc: 0.9979\n",
      "│ Val Loss:   1.4747 | Val Acc:   0.7327\n",
      "│ Train Time: 85.09s | Val Time: 12.68s\n",
      "│ Total Epoch Time: 97.78s\n",
      "│ Best Val Loss: 1.0172 (Epoch 2)\n",
      "│ GPU Memory: 0.4GB / 3.2GB\n",
      "================================================================================\n",
      "\n",
      "💾 Best model saved as 'best_cricket_resnet50.pth'\n",
      "📊 Best model stats:\n",
      "│ Best Epoch: 2\n",
      "│ Best Val Loss: 1.0172\n",
      "│ Best Val Acc: 0.7221\n",
      "\n",
      "💾 Training history saved to 'cricket_training_history_resnet50_pretrained.csv'\n",
      "\n",
      "🎉 Fine-tuning Complete!\n",
      "Total Training Time: 4896.45s (81.6 minutes)\n",
      "Average Epoch Time: 97.93s\n",
      "\n",
      "🧪 Loading Best Model for Testing...\n",
      "✅ Best model from epoch 2 loaded successfully!\n"
     ]
    },
    {
     "name": "stderr",
     "output_type": "stream",
     "text": [
      "Testing: 100%|██████████████████████████████| 52/52 [00:21<00:00,  2.46it/s]\n"
     ]
    },
    {
     "name": "stdout",
     "output_type": "stream",
     "text": [
      "✅ Testing completed in 21.15s\n",
      "\n",
      "📋 Classification Report:\n",
      "              precision    recall  f1-score   support\n",
      "\n",
      "         Cut       0.70      0.77      0.73       400\n",
      "       Drive       0.78      0.54      0.63       336\n",
      "    Leg Shot       0.79      0.74      0.76       136\n",
      "    PullShot       0.82      0.93      0.87       192\n",
      "       Scoop       0.65      0.86      0.74       360\n",
      "    Straight       0.57      0.53      0.55       144\n",
      "       Sweep       0.76      0.22      0.34        88\n",
      "\n",
      "    accuracy                           0.71      1656\n",
      "   macro avg       0.72      0.65      0.66      1656\n",
      "weighted avg       0.72      0.71      0.70      1656\n",
      "\n",
      "🎯 Test Accuracy: 0.7083\n",
      "\n",
      "📊 Cricket Classification Performance:\n",
      "│ Best Validation Loss: 1.0172 (Epoch 2)\n",
      "│ Best Validation Acc:  0.7221 (Epoch 2)\n",
      "│ Final Test Accuracy:  0.7083\n",
      "│ Val-Test Gap:         0.0138\n",
      "\n",
      "💾 Files saved:\n",
      "│ best_cricket_resnet50.pth - Best model weights\n",
      "│ cricket_training_history.csv - Training metrics\n"
     ]
    },
    {
     "data": {
      "image/png": "[encoded data removed]",
      "text/plain": [
       "<Figure size 1000x800 with 2 Axes>"
      ]
     },
     "metadata": {},
     "output_type": "display_data"
    },
    {
     "data": {
      "image/png": "[encoded data removed]",
      "text/plain": [
       "<Figure size 1500x500 with 3 Axes>"
      ]
     },
     "metadata": {},
     "output_type": "display_data"
    },
    {
     "name": "stdout",
     "output_type": "stream",
     "text": [
      "\n",
      "⏰ Final Timing Summary:\n",
      "│ Total Training: 4896.45s (81.6 min)\n",
      "│ Average per Epoch: 97.93s\n",
      "│ Testing Time: 21.15s\n",
      "│ Total Runtime: 4917.60s\n"
     ]
    }
   ],
   "source": [
    "import torch.optim as optim\n",
    "from sklearn.metrics import accuracy_score, classification_report, confusion_matrix\n",
    "import pandas as pd\n",
    "import matplotlib.pyplot as plt\n",
    "\n",
    "# -----------------------------\n",
    "# 3. Training Setup\n",
    "# -----------------------------\n",
    "criterion = nn.CrossEntropyLoss()\n",
    "optimizer = optim.Adam(model.parameters(), lr=1e-4)  # Lower LR for fine-tuning\n",
    "\n",
    "print(f\"\\n📋 Training Configuration:\")\n",
    "print(f\"│ Optimizer: Adam (lr={optimizer.param_groups[0]['lr']})\")\n",
    "print(f\"│ Loss Function: CrossEntropyLoss\")\n",
    "print(f\"│ Batch Size: 32\")\n",
    "print(f\"│ Device: {device}\")\n",
    "\n",
    "# -----------------------------\n",
    "# 4. Training Loop with Model Saving\n",
    "# -----------------------------\n",
    "train_losses, val_losses = [], []\n",
    "train_accs, val_accs = [], []\n",
    "epoch_times = []\n",
    "epochs = 50\n",
    "\n",
    "# Initialize best model tracking (using val_loss for fine-tuning)\n",
    "best_val_loss = float('inf')\n",
    "best_model_state = None\n",
    "best_epoch = 0\n",
    "best_val_acc = 0.0\n",
    "\n",
    "print(f\"\\n🚀 Starting Fine-tuning for {epochs} epochs...\")\n",
    "print(\"=\" * 80)\n",
    "total_start_time = time.time()\n",
    "\n",
    "for epoch in range(epochs):\n",
    "    epoch_start_time = time.time()\n",
    "    \n",
    "    print(f\"\\n📈 Epoch {epoch+1}/{epochs}\")\n",
    "    print(\"-\" * 50)\n",
    "    \n",
    "    # Training Phase\n",
    "    print(\"🔄 Training Phase...\")\n",
    "    model.train()\n",
    "    running_loss, correct, total = 0, 0, 0\n",
    "    \n",
    "    train_pbar = tqdm(train_loader, desc=\"Training\", \n",
    "                     bar_format='{l_bar}{bar:30}{r_bar}{bar:-30b}')\n",
    "    \n",
    "    train_phase_start = time.time()\n",
    "    \n",
    "    for batch_idx, (imgs, labels) in enumerate(train_pbar):\n",
    "        imgs, labels = imgs.to(device), labels.to(device)\n",
    "        \n",
    "        optimizer.zero_grad()\n",
    "        outputs = model(imgs)\n",
    "        loss = criterion(outputs, labels)\n",
    "        loss.backward()\n",
    "        optimizer.step()\n",
    "        \n",
    "        running_loss += loss.item()\n",
    "        _, preds = torch.max(outputs, 1)\n",
    "        correct += (preds == labels).sum().item()\n",
    "        total += labels.size(0)\n",
    "        \n",
    "        current_acc = correct / total\n",
    "        train_pbar.set_postfix({\n",
    "            'Loss': f'{running_loss/(batch_idx+1):.4f}',\n",
    "            'Acc': f'{current_acc:.4f}'\n",
    "        })\n",
    "        \n",
    "        if device.type == 'cuda' and batch_idx % 10 == 0:\n",
    "            gpu_memory = torch.cuda.memory_allocated() / 1024**3\n",
    "            train_pbar.set_postfix({\n",
    "                'Loss': f'{running_loss/(batch_idx+1):.4f}',\n",
    "                'Acc': f'{current_acc:.4f}',\n",
    "                'GPU': f'{gpu_memory:.1f}GB'\n",
    "            })\n",
    "    \n",
    "    train_phase_time = time.time() - train_phase_start\n",
    "    train_loss = running_loss / len(train_loader)\n",
    "    train_acc = correct / total\n",
    "    train_losses.append(train_loss)\n",
    "    train_accs.append(train_acc)\n",
    "    \n",
    "    print(f\"✅ Training completed in {train_phase_time:.2f}s\")\n",
    "    \n",
    "    # Validation Phase\n",
    "    print(\"🔍 Validation Phase...\")\n",
    "    model.eval()\n",
    "    running_loss, correct, total = 0, 0, 0\n",
    "    \n",
    "    val_phase_start = time.time()\n",
    "    val_pbar = tqdm(val_loader, desc=\"Validation\", \n",
    "                   bar_format='{l_bar}{bar:30}{r_bar}{bar:-30b}')\n",
    "    \n",
    "    with torch.no_grad():\n",
    "        for batch_idx, (imgs, labels) in enumerate(val_pbar):\n",
    "            imgs, labels = imgs.to(device), labels.to(device)\n",
    "            outputs = model(imgs)\n",
    "            loss = criterion(outputs, labels)\n",
    "            \n",
    "            running_loss += loss.item()\n",
    "            _, preds = torch.max(outputs, 1)\n",
    "            correct += (preds == labels).sum().item()\n",
    "            total += labels.size(0)\n",
    "            \n",
    "            current_acc = correct / total\n",
    "            val_pbar.set_postfix({\n",
    "                'Loss': f'{running_loss/(batch_idx+1):.4f}',\n",
    "                'Acc': f'{current_acc:.4f}'\n",
    "            })\n",
    "    \n",
    "    val_phase_time = time.time() - val_phase_start\n",
    "    val_loss = running_loss / len(val_loader)\n",
    "    val_acc = correct / total\n",
    "    val_losses.append(val_loss)\n",
    "    val_accs.append(val_acc)\n",
    "    \n",
    "    print(f\"✅ Validation completed in {val_phase_time:.2f}s\")\n",
    "    \n",
    "    # Check if this is the best model (using val_loss for fine-tuning)\n",
    "    is_best = val_loss < best_val_loss\n",
    "    if is_best:\n",
    "        best_val_loss = val_loss\n",
    "        best_val_acc = val_acc\n",
    "        best_epoch = epoch + 1\n",
    "        best_model_state = model.state_dict().copy()\n",
    "        print(f\"🌟 New best model found! Validation Loss: {val_loss:.4f}\")\n",
    "    \n",
    "    # Epoch Summary\n",
    "    epoch_time = time.time() - epoch_start_time\n",
    "    epoch_times.append(epoch_time)\n",
    "    \n",
    "    print(f\"\\n📊 Epoch {epoch+1} Summary:\")\n",
    "    print(f\"│ Train Loss: {train_loss:.4f} | Train Acc: {train_acc:.4f}\")\n",
    "    print(f\"│ Val Loss:   {val_loss:.4f} | Val Acc:   {val_acc:.4f}\")\n",
    "    print(f\"│ Train Time: {train_phase_time:.2f}s | Val Time: {val_phase_time:.2f}s\")\n",
    "    print(f\"│ Total Epoch Time: {epoch_time:.2f}s\")\n",
    "    print(f\"│ Best Val Loss: {best_val_loss:.4f} (Epoch {best_epoch})\")\n",
    "    \n",
    "    if device.type == 'cuda':\n",
    "        print(f\"│ GPU Memory: {torch.cuda.memory_allocated()/1024**3:.1f}GB / {torch.cuda.memory_reserved()/1024**3:.1f}GB\")\n",
    "    \n",
    "    print(\"=\" * 80)\n",
    "\n",
    "total_training_time = time.time() - total_start_time\n",
    "\n",
    "# Save the best model\n",
    "if best_model_state is not None:\n",
    "    torch.save(best_model_state, 'best_cricket_resnet50_pretrained.pth')\n",
    "    print(f\"\\n💾 Best model saved as 'best_cricket_resnet50.pth'\")\n",
    "    print(f\"📊 Best model stats:\")\n",
    "    print(f\"│ Best Epoch: {best_epoch}\")\n",
    "    print(f\"│ Best Val Loss: {best_val_loss:.4f}\")\n",
    "    print(f\"│ Best Val Acc: {best_val_acc:.4f}\")\n",
    "\n",
    "# Save training history\n",
    "history_data = {\n",
    "    'epoch': list(range(1, epochs+1)),\n",
    "    'train_loss': train_losses,\n",
    "    'val_loss': val_losses,\n",
    "    'train_acc': train_accs,\n",
    "    'val_acc': val_accs,\n",
    "    'epoch_time': epoch_times\n",
    "}\n",
    "\n",
    "history_df = pd.DataFrame(history_data)\n",
    "history_df.to_csv('cricket_training_history_resnet50_pretrained.csv', index=False)\n",
    "print(\"\\n💾 Training history saved to 'cricket_training_history_resnet50_pretrained.csv'\")\n",
    "\n",
    "print(f\"\\n🎉 Fine-tuning Complete!\")\n",
    "print(f\"Total Training Time: {total_training_time:.2f}s ({total_training_time/60:.1f} minutes)\")\n",
    "print(f\"Average Epoch Time: {np.mean(epoch_times):.2f}s\")\n",
    "\n",
    "# -----------------------------\n",
    "# 5. Load Best Model and Test\n",
    "# -----------------------------\n",
    "print(f\"\\n🧪 Loading Best Model for Testing...\")\n",
    "if best_model_state is not None:\n",
    "    model.load_state_dict(best_model_state)\n",
    "    print(f\"✅ Best model from epoch {best_epoch} loaded successfully!\")\n",
    "\n",
    "test_start_time = time.time()\n",
    "y_true, y_pred = [], []\n",
    "model.eval()\n",
    "test_pbar = tqdm(test_loader, desc=\"Testing\", \n",
    "                bar_format='{l_bar}{bar:30}{r_bar}{bar:-30b}')\n",
    "\n",
    "with torch.no_grad():\n",
    "    for imgs, labels in test_pbar:\n",
    "        imgs, labels = imgs.to(device), labels.to(device)\n",
    "        outputs = model(imgs)\n",
    "        _, preds = torch.max(outputs, 1)\n",
    "        y_true.extend(labels.cpu().numpy())\n",
    "        y_pred.extend(preds.cpu().numpy())\n",
    "\n",
    "test_time = time.time() - test_start_time\n",
    "test_accuracy = accuracy_score(y_true, y_pred)\n",
    "\n",
    "print(f\"✅ Testing completed in {test_time:.2f}s\")\n",
    "print(\"\\n📋 Classification Report:\")\n",
    "print(classification_report(y_true, y_pred, target_names=classes))\n",
    "print(f\"🎯 Test Accuracy: {test_accuracy:.4f}\")\n",
    "\n",
    "# Performance Summary\n",
    "print(f\"\\n📊 Cricket Classification Performance:\")\n",
    "print(f\"│ Best Validation Loss: {best_val_loss:.4f} (Epoch {best_epoch})\")\n",
    "print(f\"│ Best Validation Acc:  {best_val_acc:.4f} (Epoch {best_epoch})\")\n",
    "print(f\"│ Final Test Accuracy:  {test_accuracy:.4f}\")\n",
    "print(f\"│ Val-Test Gap:         {abs(best_val_acc - test_accuracy):.4f}\")\n",
    "\n",
    "print(f\"\\n💾 Files saved:\")\n",
    "print(f\"│ best_cricket_resnet50.pth - Best model weights\")\n",
    "print(f\"│ cricket_training_history.csv - Training metrics\")\n",
    "\n",
    "# -----------------------------\n",
    "# 6. Visualizations\n",
    "# -----------------------------\n",
    "# Confusion Matrix\n",
    "cm = confusion_matrix(y_true, y_pred)\n",
    "plt.figure(figsize=(10, 8))\n",
    "sns.heatmap(cm, annot=True, fmt=\"d\", cmap=\"Blues\", \n",
    "            xticklabels=classes, yticklabels=classes)\n",
    "plt.xlabel(\"Predicted\")\n",
    "plt.ylabel(\"True\")\n",
    "plt.title(f\"Cricket Classification - Confusion Matrix (Epoch {best_epoch})\")\n",
    "plt.tight_layout()\n",
    "plt.show()\n",
    "\n",
    "# Training Curves\n",
    "plt.figure(figsize=(15, 5))\n",
    "\n",
    "# Loss Plot\n",
    "plt.subplot(1, 3, 1)\n",
    "plt.plot(range(1, epochs+1), train_losses, 'b-', label=\"Train Loss\", marker='o', linewidth=2)\n",
    "plt.plot(range(1, epochs+1), val_losses, 'r-', label=\"Val Loss\", marker='s', linewidth=2)\n",
    "plt.axvline(x=best_epoch, color='green', linestyle='--', alpha=0.7, label=f'Best (Epoch {best_epoch})')\n",
    "plt.scatter([best_epoch], [best_val_loss], color='green', s=100, zorder=5)\n",
    "plt.legend()\n",
    "plt.title(\"Loss over Epochs\")\n",
    "plt.xlabel(\"Epoch\")\n",
    "plt.ylabel(\"Loss\")\n",
    "plt.grid(True, alpha=0.3)\n",
    "\n",
    "# Accuracy Plot\n",
    "plt.subplot(1, 3, 2)\n",
    "plt.plot(range(1, epochs+1), train_accs, 'b-', label=\"Train Accuracy\", marker='o', linewidth=2)\n",
    "plt.plot(range(1, epochs+1), val_accs, 'r-', label=\"Val Accuracy\", marker='s', linewidth=2)\n",
    "plt.axvline(x=best_epoch, color='green', linestyle='--', alpha=0.7, label=f'Best (Epoch {best_epoch})')\n",
    "plt.scatter([best_epoch], [best_val_acc], color='green', s=100, zorder=5)\n",
    "plt.legend()\n",
    "plt.title(\"Accuracy over Epochs\")\n",
    "plt.xlabel(\"Epoch\")\n",
    "plt.ylabel(\"Accuracy\")\n",
    "plt.grid(True, alpha=0.3)\n",
    "\n",
    "# Final Performance\n",
    "plt.subplot(1, 3, 3)\n",
    "metrics = ['Best Val Acc', 'Test Acc']\n",
    "values = [best_val_acc, test_accuracy]\n",
    "colors = ['orange', 'green']\n",
    "bars = plt.bar(metrics, values, color=colors, alpha=0.7)\n",
    "plt.title(\"Final Model Performance\")\n",
    "plt.ylabel(\"Accuracy\")\n",
    "plt.ylim(0, 1)\n",
    "plt.grid(True, alpha=0.3)\n",
    "for bar, val in zip(bars, values):\n",
    "    plt.text(bar.get_x() + bar.get_width()/2, val + 0.01, \n",
    "             f'{val:.4f}', ha='center', va='bottom')\n",
    "\n",
    "plt.tight_layout()\n",
    "plt.show()\n",
    "\n",
    "# Final Summary\n",
    "print(f\"\\n⏰ Final Timing Summary:\")\n",
    "print(f\"│ Total Training: {total_training_time:.2f}s ({total_training_time/60:.1f} min)\")\n",
    "print(f\"│ Average per Epoch: {np.mean(epoch_times):.2f}s\")\n",
    "print(f\"│ Testing Time: {test_time:.2f}s\")\n",
    "print(f\"│ Total Runtime: {total_training_time + test_time:.2f}s\")"
   ]
  }
 ],
 "metadata": {
  "kaggle": {
   "accelerator": "nvidiaTeslaT4",
   "dataSources": [
    {
     "datasetId": 7735666,
     "sourceId": 12275446,
     "sourceType": "datasetVersion"
    }
   ],
   "dockerImageVersionId": 31090,
   "isGpuEnabled": true,
   "isInternetEnabled": true,
   "language": "python",
   "sourceType": "notebook"
  },
  "kernelspec": {
   "display_name": "Python 3",
   "language": "python",
   "name": "python3"
  },
  "language_info": {
   "codemirror_mode": {
    "name": "ipython",
    "version": 3
   },
   "file_extension": ".py",
   "mimetype": "text/x-python",
   "name": "python",
   "nbconvert_exporter": "python",
   "pygments_lexer": "ipython3",
   "version": "3.11.13"
  },
  "papermill": {
   "default_parameters": {},
   "duration": 4943.163417,
   "end_time": "2025-09-07T16:07:02.631338",
   "environment_variables": {},
   "exception": null,
   "input_path": "__notebook__.ipynb",
   "output_path": "__notebook__.ipynb",
   "parameters": {},
   "start_time": "2025-09-07T14:44:39.467921",
   "version": "2.6.0"
  }
 },
 "nbformat": 4,
 "nbformat_minor": 5
}
