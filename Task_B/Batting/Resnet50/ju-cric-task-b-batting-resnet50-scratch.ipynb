{
 "cells": [
  {
   "cell_type": "code",
   "execution_count": 1,
   "id": "feb9454e",
   "metadata": {
    "_cell_guid": "b1076dfc-b9ad-4769-8c92-a6c4dae69d19",
    "_uuid": "8f2839f25d086af736a60e9eeb907d3b93b6e0e5",
    "execution": {
     "iopub.execute_input": "2025-09-07T14:23:42.725249Z",
     "iopub.status.busy": "2025-09-07T14:23:42.724959Z",
     "iopub.status.idle": "2025-09-07T14:23:57.968463Z",
     "shell.execute_reply": "2025-09-07T14:23:57.967646Z"
    },
    "papermill": {
     "duration": 15.24983,
     "end_time": "2025-09-07T14:23:57.969828",
     "exception": false,
     "start_time": "2025-09-07T14:23:42.719998",
     "status": "completed"
    },
    "tags": []
   },
   "outputs": [
    {
     "name": "stdout",
     "output_type": "stream",
     "text": [
      "Batting Subclasses: ['Cut', 'Drive', 'Leg Shot', 'PullShot', 'Scoop', 'Straight', 'Sweep']\n",
      "Train samples: 5814 Val samples: 1494 Test samples: 1863\n"
     ]
    }
   ],
   "source": [
    "import torch\n",
    "from torch.utils.data import DataLoader\n",
    "from torchvision import datasets, transforms\n",
    "\n",
    "# -----------------------------\n",
    "# 1. Data Preprocessing (Batting Subclasses)\n",
    "# -----------------------------\n",
    "base_dir = \"/kaggle/input/ju-cricket/Cricket_Dataset_final/Task_B\"\n",
    "\n",
    "transform = transforms.Compose([\n",
    "    transforms.Resize((224, 224)),   \n",
    "    transforms.ToTensor(),\n",
    "    transforms.Normalize([0.485, 0.456, 0.406], \n",
    "                         [0.229, 0.224, 0.225])\n",
    "])\n",
    "\n",
    "# Point directly inside Batting folder\n",
    "train_ds = datasets.ImageFolder(f\"{base_dir}/train/Batting\", transform=transform)\n",
    "val_ds   = datasets.ImageFolder(f\"{base_dir}/val/Batting\", transform=transform)\n",
    "test_ds  = datasets.ImageFolder(f\"{base_dir}/test/Batting\", transform=transform)\n",
    "\n",
    "train_loader = DataLoader(train_ds, batch_size=32, shuffle=True)\n",
    "val_loader   = DataLoader(val_ds, batch_size=32, shuffle=False)\n",
    "test_loader  = DataLoader(test_ds, batch_size=32, shuffle=False)\n",
    "\n",
    "classes = train_ds.classes\n",
    "print(\"Batting Subclasses:\", classes)\n",
    "print(\"Train samples:\", len(train_ds), \"Val samples:\", len(val_ds), \"Test samples:\", len(test_ds))\n"
   ]
  },
  {
   "cell_type": "code",
   "execution_count": 2,
   "id": "ae4ab842",
   "metadata": {
    "execution": {
     "iopub.execute_input": "2025-09-07T14:23:57.976512Z",
     "iopub.status.busy": "2025-09-07T14:23:57.976040Z",
     "iopub.status.idle": "2025-09-07T14:23:57.980714Z",
     "shell.execute_reply": "2025-09-07T14:23:57.980023Z"
    },
    "papermill": {
     "duration": 0.008944,
     "end_time": "2025-09-07T14:23:57.981742",
     "exception": false,
     "start_time": "2025-09-07T14:23:57.972798",
     "status": "completed"
    },
    "tags": []
   },
   "outputs": [
    {
     "name": "stdout",
     "output_type": "stream",
     "text": [
      "Total training images: 5814\n",
      "Total validation images: 1494\n",
      "Total test images: 1863\n",
      "Total images in dataset: 9171\n"
     ]
    }
   ],
   "source": [
    "print(\"Total training images:\", len(train_ds))\n",
    "print(\"Total validation images:\", len(val_ds))\n",
    "print(\"Total test images:\", len(test_ds))\n",
    "\n",
    "total_images = len(train_ds) + len(val_ds) + len(test_ds)\n",
    "print(\"Total images in dataset:\", total_images)"
   ]
  },
  {
   "cell_type": "code",
   "execution_count": 3,
   "id": "118e0f68",
   "metadata": {
    "execution": {
     "iopub.execute_input": "2025-09-07T14:23:57.987577Z",
     "iopub.status.busy": "2025-09-07T14:23:57.987374Z",
     "iopub.status.idle": "2025-09-07T14:23:57.997438Z",
     "shell.execute_reply": "2025-09-07T14:23:57.996854Z"
    },
    "papermill": {
     "duration": 0.014073,
     "end_time": "2025-09-07T14:23:57.998362",
     "exception": false,
     "start_time": "2025-09-07T14:23:57.984289",
     "status": "completed"
    },
    "tags": []
   },
   "outputs": [
    {
     "name": "stdout",
     "output_type": "stream",
     "text": [
      "Training images (excluding 'random_occlusion'): 5168\n",
      "Validation images (excluding 'random_occlusion'): 1328\n",
      "Test images (excluding 'random_occlusion'): 1656\n",
      "Total images (excluding 'random_occlusion'): 8152\n"
     ]
    }
   ],
   "source": [
    "ignore_folder = \"random_occlusion\"\n",
    "\n",
    "def count_images_ignore_folder(dataset, ignore_folder):\n",
    "    count = 0\n",
    "    for img_path, label in dataset.samples:\n",
    "        # Skip if the image path contains the ignore_folder\n",
    "        if ignore_folder not in img_path.split(\"/\"):\n",
    "            count += 1\n",
    "    return count\n",
    "\n",
    "train_count = count_images_ignore_folder(train_ds, ignore_folder)\n",
    "val_count   = count_images_ignore_folder(val_ds, ignore_folder)\n",
    "test_count  = count_images_ignore_folder(test_ds, ignore_folder)\n",
    "\n",
    "total_count = train_count + val_count + test_count\n",
    "\n",
    "print(\"Training images (excluding '{}'): {}\".format(ignore_folder, train_count))\n",
    "print(\"Validation images (excluding '{}'): {}\".format(ignore_folder, val_count))\n",
    "print(\"Test images (excluding '{}'): {}\".format(ignore_folder, test_count))\n",
    "print(\"Total images (excluding '{}'): {}\".format(ignore_folder, total_count))"
   ]
  },
  {
   "cell_type": "code",
   "execution_count": 4,
   "id": "f13a7aa7",
   "metadata": {
    "execution": {
     "iopub.execute_input": "2025-09-07T14:23:58.004530Z",
     "iopub.status.busy": "2025-09-07T14:23:58.004136Z",
     "iopub.status.idle": "2025-09-07T14:23:58.017198Z",
     "shell.execute_reply": "2025-09-07T14:23:58.016634Z"
    },
    "papermill": {
     "duration": 0.017077,
     "end_time": "2025-09-07T14:23:58.018192",
     "exception": false,
     "start_time": "2025-09-07T14:23:58.001115",
     "status": "completed"
    },
    "tags": []
   },
   "outputs": [
    {
     "name": "stdout",
     "output_type": "stream",
     "text": [
      "Training folders considered: {'lens_flare', 'motion_blur', 'random_occlusion', 'low_resolution', 'blur', 'gaussian_noise', 'chromatic_aberration', 'dirty_lens', 'original'}\n",
      "Validation folders considered: {'lens_flare', 'motion_blur', 'random_occlusion', 'low_resolution', 'blur', 'gaussian_noise', 'chromatic_aberration', 'dirty_lens', 'original'}\n",
      "Test folders considered: {'lens_flare', 'motion_blur', 'random_occlusion', 'low_resolution', 'blur', 'gaussian_noise', 'chromatic_aberration', 'dirty_lens', 'original'}\n"
     ]
    }
   ],
   "source": [
    "ignore_folder = \"random_occlusionw\"\n",
    "\n",
    "def get_included_folders(dataset, ignore_folder):\n",
    "    included = set()\n",
    "    for img_path, label in dataset.samples:\n",
    "        # Split the path into parts and ignore if ignore_folder is in the path\n",
    "        if ignore_folder not in img_path.split(\"/\"):\n",
    "            # The folder name just above the image (or the class folder)\n",
    "            folder_name = img_path.split(\"/\")[-2]\n",
    "            included.add(folder_name)\n",
    "    return included\n",
    "\n",
    "train_folders = get_included_folders(train_ds, ignore_folder)\n",
    "val_folders   = get_included_folders(val_ds, ignore_folder)\n",
    "test_folders  = get_included_folders(test_ds, ignore_folder)\n",
    "\n",
    "print(\"Training folders considered:\", train_folders)\n",
    "print(\"Validation folders considered:\", val_folders)\n",
    "print(\"Test folders considered:\", test_folders)"
   ]
  },
  {
   "cell_type": "code",
   "execution_count": 5,
   "id": "8fd64cbd",
   "metadata": {
    "execution": {
     "iopub.execute_input": "2025-09-07T14:23:58.024165Z",
     "iopub.status.busy": "2025-09-07T14:23:58.023963Z",
     "iopub.status.idle": "2025-09-07T14:23:58.222747Z",
     "shell.execute_reply": "2025-09-07T14:23:58.221918Z"
    },
    "papermill": {
     "duration": 0.203091,
     "end_time": "2025-09-07T14:23:58.223921",
     "exception": false,
     "start_time": "2025-09-07T14:23:58.020830",
     "status": "completed"
    },
    "tags": []
   },
   "outputs": [
    {
     "name": "stdout",
     "output_type": "stream",
     "text": [
      "Classes: ['Cut', 'Drive', 'Leg Shot', 'PullShot', 'Scoop', 'Straight', 'Sweep']\n",
      "Final Training images: 5168\n",
      "Final Validation images: 1328\n",
      "Final Test images: 1656\n",
      "Total images after filtering: 8152\n"
     ]
    }
   ],
   "source": [
    "ignore_folder = \"random_occlusion\"\n",
    "\n",
    "def filter_samples(dataset, ignore_folder):\n",
    "    # Keep only samples where ignore_folder is NOT in the path\n",
    "    filtered_samples = [s for s in dataset.samples if ignore_folder not in s[0].split(\"/\")]\n",
    "    dataset.samples = filtered_samples\n",
    "    dataset.targets = [s[1] for s in filtered_samples]  # Update targets accordingly\n",
    "    return dataset\n",
    "\n",
    "# Create original datasets\n",
    "train_ds = datasets.ImageFolder(f\"{base_dir}/train/Batting\", transform=transform)\n",
    "val_ds   = datasets.ImageFolder(f\"{base_dir}/val/Batting\", transform=transform)\n",
    "test_ds  = datasets.ImageFolder(f\"{base_dir}/test/Batting\", transform=transform)\n",
    "\n",
    "# Filter out 'random_occlusion' folder\n",
    "train_ds = filter_samples(train_ds, ignore_folder)\n",
    "val_ds   = filter_samples(val_ds, ignore_folder)\n",
    "test_ds  = filter_samples(test_ds, ignore_folder)\n",
    "\n",
    "# DataLoaders\n",
    "train_loader = DataLoader(train_ds, batch_size=32, shuffle=True)\n",
    "val_loader   = DataLoader(val_ds, batch_size=32, shuffle=False)\n",
    "test_loader  = DataLoader(test_ds, batch_size=32, shuffle=False)\n",
    "\n",
    "# Classes (will remain the same)\n",
    "classes = train_ds.classes\n",
    "print(\"Classes:\", classes)\n",
    "\n",
    "# Show counts\n",
    "print(\"Final Training images:\", len(train_ds))\n",
    "print(\"Final Validation images:\", len(val_ds))\n",
    "print(\"Final Test images:\", len(test_ds))\n",
    "print(\"Total images after filtering:\", len(train_ds) + len(val_ds) + len(test_ds))"
   ]
  },
  {
   "cell_type": "code",
   "execution_count": 6,
   "id": "19c46271",
   "metadata": {
    "execution": {
     "iopub.execute_input": "2025-09-07T14:23:58.230502Z",
     "iopub.status.busy": "2025-09-07T14:23:58.229988Z",
     "iopub.status.idle": "2025-09-07T14:23:58.242681Z",
     "shell.execute_reply": "2025-09-07T14:23:58.242012Z"
    },
    "papermill": {
     "duration": 0.01703,
     "end_time": "2025-09-07T14:23:58.243824",
     "exception": false,
     "start_time": "2025-09-07T14:23:58.226794",
     "status": "completed"
    },
    "tags": []
   },
   "outputs": [
    {
     "name": "stdout",
     "output_type": "stream",
     "text": [
      "Training folders considered: {'lens_flare', 'motion_blur', 'low_resolution', 'blur', 'gaussian_noise', 'chromatic_aberration', 'dirty_lens', 'original'}\n",
      "Validation folders considered: {'lens_flare', 'motion_blur', 'low_resolution', 'blur', 'gaussian_noise', 'chromatic_aberration', 'dirty_lens', 'original'}\n",
      "Test folders considered: {'lens_flare', 'motion_blur', 'low_resolution', 'blur', 'gaussian_noise', 'chromatic_aberration', 'dirty_lens', 'original'}\n"
     ]
    }
   ],
   "source": [
    "ignore_folder = \"random_occlusion\"\n",
    "\n",
    "def get_included_folders(dataset, ignore_folder):\n",
    "    included = set()\n",
    "    for img_path, label in dataset.samples:\n",
    "        # Split the path into parts and ignore if ignore_folder is in the path\n",
    "        if ignore_folder not in img_path.split(\"/\"):\n",
    "            # The folder name just above the image (or the class folder)\n",
    "            folder_name = img_path.split(\"/\")[-2]\n",
    "            included.add(folder_name)\n",
    "    return included\n",
    "\n",
    "train_folders = get_included_folders(train_ds, ignore_folder)\n",
    "val_folders   = get_included_folders(val_ds, ignore_folder)\n",
    "test_folders  = get_included_folders(test_ds, ignore_folder)\n",
    "\n",
    "print(\"Training folders considered:\", train_folders)\n",
    "print(\"Validation folders considered:\", val_folders)\n",
    "print(\"Test folders considered:\", test_folders)"
   ]
  },
  {
   "cell_type": "code",
   "execution_count": 7,
   "id": "0560dc05",
   "metadata": {
    "execution": {
     "iopub.execute_input": "2025-09-07T14:23:58.249689Z",
     "iopub.status.busy": "2025-09-07T14:23:58.249479Z",
     "iopub.status.idle": "2025-09-07T14:24:01.088740Z",
     "shell.execute_reply": "2025-09-07T14:24:01.088162Z"
    },
    "papermill": {
     "duration": 2.84365,
     "end_time": "2025-09-07T14:24:01.090086",
     "exception": false,
     "start_time": "2025-09-07T14:23:58.246436",
     "status": "completed"
    },
    "tags": []
   },
   "outputs": [],
   "source": [
    "import seaborn as sns\n",
    "import numpy as np\n",
    "import time\n",
    "from tqdm import tqdm"
   ]
  },
  {
   "cell_type": "code",
   "execution_count": 8,
   "id": "a013be0e",
   "metadata": {
    "execution": {
     "iopub.execute_input": "2025-09-07T14:24:01.097124Z",
     "iopub.status.busy": "2025-09-07T14:24:01.096768Z",
     "iopub.status.idle": "2025-09-07T14:24:01.303012Z",
     "shell.execute_reply": "2025-09-07T14:24:01.302420Z"
    },
    "papermill": {
     "duration": 0.211193,
     "end_time": "2025-09-07T14:24:01.304332",
     "exception": false,
     "start_time": "2025-09-07T14:24:01.093139",
     "status": "completed"
    },
    "tags": []
   },
   "outputs": [],
   "source": [
    "# -----------------------------\n",
    "# 2. Define ResNet50 Model from Scratch\n",
    "# -----------------------------\n",
    "import torch\n",
    "import torch.nn as nn\n",
    "import torch.nn.functional as F\n",
    "import numpy as np\n",
    "import matplotlib.pyplot as plt\n",
    "import seaborn as sns\n",
    "from torchsummary import summary\n",
    "from sklearn.metrics import accuracy_score, classification_report, confusion_matrix\n",
    "import pandas as pd\n",
    "from tqdm import tqdm\n",
    "import time\n",
    "\n",
    "class Bottleneck(nn.Module):\n",
    "    \"\"\"Bottleneck block for ResNet50\"\"\"\n",
    "    expansion = 4\n",
    "    \n",
    "    def __init__(self, inplanes, planes, stride=1, downsample=None):\n",
    "        super().__init__()\n",
    "        self.conv1 = nn.Conv2d(inplanes, planes, kernel_size=1, bias=False)\n",
    "        self.bn1 = nn.BatchNorm2d(planes)\n",
    "        self.conv2 = nn.Conv2d(planes, planes, kernel_size=3, stride=stride, padding=1, bias=False)\n",
    "        self.bn2 = nn.BatchNorm2d(planes)\n",
    "        self.conv3 = nn.Conv2d(planes, planes * self.expansion, kernel_size=1, bias=False)\n",
    "        self.bn3 = nn.BatchNorm2d(planes * self.expansion)\n",
    "        self.relu = nn.ReLU(inplace=True)\n",
    "        self.downsample = downsample\n",
    "        self.stride = stride\n",
    "    \n",
    "    def forward(self, x):\n",
    "        identity = x\n",
    "        \n",
    "        out = self.conv1(x)\n",
    "        out = self.bn1(out)\n",
    "        out = self.relu(out)\n",
    "        \n",
    "        out = self.conv2(out)\n",
    "        out = self.bn2(out)\n",
    "        out = self.relu(out)\n",
    "        \n",
    "        out = self.conv3(out)\n",
    "        out = self.bn3(out)\n",
    "        \n",
    "        if self.downsample is not None:\n",
    "            identity = self.downsample(x)\n",
    "        \n",
    "        out += identity\n",
    "        out = self.relu(out)\n",
    "        \n",
    "        return out\n",
    "\n",
    "class MyResNet50(nn.Module):\n",
    "    \"\"\"ResNet50 Implementation from Scratch\"\"\"\n",
    "    def __init__(self, num_classes=4, zero_init_residual=False):\n",
    "        super().__init__()\n",
    "        self.inplanes = 64\n",
    "        \n",
    "        # Initial convolution and pooling layers\n",
    "        self.conv1 = nn.Conv2d(3, 64, kernel_size=7, stride=2, padding=3, bias=False)\n",
    "        self.bn1 = nn.BatchNorm2d(64)\n",
    "        self.relu = nn.ReLU(inplace=True)\n",
    "        self.maxpool = nn.MaxPool2d(kernel_size=3, stride=2, padding=1)\n",
    "        \n",
    "        # Residual layers\n",
    "        self.layer1 = self._make_layer(64, 3)\n",
    "        self.layer2 = self._make_layer(128, 4, stride=2)\n",
    "        self.layer3 = self._make_layer(256, 6, stride=2)\n",
    "        self.layer4 = self._make_layer(512, 3, stride=2)\n",
    "        \n",
    "        # Final layers\n",
    "        self.avgpool = nn.AdaptiveAvgPool2d((1, 1))\n",
    "        self.fc = nn.Linear(512 * Bottleneck.expansion, num_classes)\n",
    "        \n",
    "        # Initialize weights\n",
    "        self._initialize_weights(zero_init_residual)\n",
    "    \n",
    "    def _make_layer(self, planes, blocks, stride=1):\n",
    "        \"\"\"Create a residual layer with specified number of blocks\"\"\"\n",
    "        downsample = None\n",
    "        if stride != 1 or self.inplanes != planes * Bottleneck.expansion:\n",
    "            downsample = nn.Sequential(\n",
    "                nn.Conv2d(self.inplanes, planes * Bottleneck.expansion,\n",
    "                          kernel_size=1, stride=stride, bias=False),\n",
    "                nn.BatchNorm2d(planes * Bottleneck.expansion),\n",
    "            )\n",
    "        \n",
    "        layers = []\n",
    "        layers.append(Bottleneck(self.inplanes, planes, stride, downsample))\n",
    "        self.inplanes = planes * Bottleneck.expansion\n",
    "        for _ in range(1, blocks):\n",
    "            layers.append(Bottleneck(self.inplanes, planes))\n",
    "        \n",
    "        return nn.Sequential(*layers)\n",
    "    \n",
    "    def _initialize_weights(self, zero_init_residual):\n",
    "        \"\"\"Initialize weights using He initialization\"\"\"\n",
    "        for m in self.modules():\n",
    "            if isinstance(m, nn.Conv2d):\n",
    "                nn.init.kaiming_normal_(m.weight, mode='fan_out', nonlinearity='relu')\n",
    "            elif isinstance(m, (nn.BatchNorm2d, nn.GroupNorm)):\n",
    "                nn.init.constant_(m.weight, 1)\n",
    "                nn.init.constant_(m.bias, 0)\n",
    "            elif isinstance(m, nn.Linear):\n",
    "                nn.init.normal_(m.weight, 0, 0.01)\n",
    "                nn.init.constant_(m.bias, 0)\n",
    "        \n",
    "        # Zero-initialize the last BN in each residual branch for better training\n",
    "        if zero_init_residual:\n",
    "            for m in self.modules():\n",
    "                if isinstance(m, Bottleneck):\n",
    "                    nn.init.constant_(m.bn3.weight, 0)\n",
    "    \n",
    "    def forward(self, x):\n",
    "        x = self.conv1(x)\n",
    "        x = self.bn1(x)\n",
    "        x = self.relu(x)\n",
    "        x = self.maxpool(x)\n",
    "        \n",
    "        x = self.layer1(x)\n",
    "        x = self.layer2(x)\n",
    "        x = self.layer3(x)\n",
    "        x = self.layer4(x)\n",
    "        \n",
    "        x = self.avgpool(x)\n",
    "        x = torch.flatten(x, 1)\n",
    "        x = self.fc(x)\n",
    "        \n",
    "        return x"
   ]
  },
  {
   "cell_type": "code",
   "execution_count": 9,
   "id": "5505ccb3",
   "metadata": {
    "execution": {
     "iopub.execute_input": "2025-09-07T14:24:01.311277Z",
     "iopub.status.busy": "2025-09-07T14:24:01.310734Z",
     "iopub.status.idle": "2025-09-07T14:24:02.741773Z",
     "shell.execute_reply": "2025-09-07T14:24:02.741060Z"
    },
    "papermill": {
     "duration": 1.43582,
     "end_time": "2025-09-07T14:24:02.743231",
     "exception": false,
     "start_time": "2025-09-07T14:24:01.307411",
     "status": "completed"
    },
    "tags": []
   },
   "outputs": [
    {
     "name": "stdout",
     "output_type": "stream",
     "text": [
      "ResNet50 Model Summary:\n",
      "----------------------------------------------------------------\n",
      "        Layer (type)               Output Shape         Param #\n",
      "================================================================\n",
      "            Conv2d-1         [-1, 64, 112, 112]           9,408\n",
      "       BatchNorm2d-2         [-1, 64, 112, 112]             128\n",
      "              ReLU-3         [-1, 64, 112, 112]               0\n",
      "         MaxPool2d-4           [-1, 64, 56, 56]               0\n",
      "            Conv2d-5           [-1, 64, 56, 56]           4,096\n",
      "       BatchNorm2d-6           [-1, 64, 56, 56]             128\n",
      "              ReLU-7           [-1, 64, 56, 56]               0\n",
      "            Conv2d-8           [-1, 64, 56, 56]          36,864\n",
      "       BatchNorm2d-9           [-1, 64, 56, 56]             128\n",
      "             ReLU-10           [-1, 64, 56, 56]               0\n",
      "           Conv2d-11          [-1, 256, 56, 56]          16,384\n",
      "      BatchNorm2d-12          [-1, 256, 56, 56]             512\n",
      "           Conv2d-13          [-1, 256, 56, 56]          16,384\n",
      "      BatchNorm2d-14          [-1, 256, 56, 56]             512\n",
      "             ReLU-15          [-1, 256, 56, 56]               0\n",
      "       Bottleneck-16          [-1, 256, 56, 56]               0\n",
      "           Conv2d-17           [-1, 64, 56, 56]          16,384\n",
      "      BatchNorm2d-18           [-1, 64, 56, 56]             128\n",
      "             ReLU-19           [-1, 64, 56, 56]               0\n",
      "           Conv2d-20           [-1, 64, 56, 56]          36,864\n",
      "      BatchNorm2d-21           [-1, 64, 56, 56]             128\n",
      "             ReLU-22           [-1, 64, 56, 56]               0\n",
      "           Conv2d-23          [-1, 256, 56, 56]          16,384\n",
      "      BatchNorm2d-24          [-1, 256, 56, 56]             512\n",
      "             ReLU-25          [-1, 256, 56, 56]               0\n",
      "       Bottleneck-26          [-1, 256, 56, 56]               0\n",
      "           Conv2d-27           [-1, 64, 56, 56]          16,384\n",
      "      BatchNorm2d-28           [-1, 64, 56, 56]             128\n",
      "             ReLU-29           [-1, 64, 56, 56]               0\n",
      "           Conv2d-30           [-1, 64, 56, 56]          36,864\n",
      "      BatchNorm2d-31           [-1, 64, 56, 56]             128\n",
      "             ReLU-32           [-1, 64, 56, 56]               0\n",
      "           Conv2d-33          [-1, 256, 56, 56]          16,384\n",
      "      BatchNorm2d-34          [-1, 256, 56, 56]             512\n",
      "             ReLU-35          [-1, 256, 56, 56]               0\n",
      "       Bottleneck-36          [-1, 256, 56, 56]               0\n",
      "           Conv2d-37          [-1, 128, 56, 56]          32,768\n",
      "      BatchNorm2d-38          [-1, 128, 56, 56]             256\n",
      "             ReLU-39          [-1, 128, 56, 56]               0\n",
      "           Conv2d-40          [-1, 128, 28, 28]         147,456\n",
      "      BatchNorm2d-41          [-1, 128, 28, 28]             256\n",
      "             ReLU-42          [-1, 128, 28, 28]               0\n",
      "           Conv2d-43          [-1, 512, 28, 28]          65,536\n",
      "      BatchNorm2d-44          [-1, 512, 28, 28]           1,024\n",
      "           Conv2d-45          [-1, 512, 28, 28]         131,072\n",
      "      BatchNorm2d-46          [-1, 512, 28, 28]           1,024\n",
      "             ReLU-47          [-1, 512, 28, 28]               0\n",
      "       Bottleneck-48          [-1, 512, 28, 28]               0\n",
      "           Conv2d-49          [-1, 128, 28, 28]          65,536\n",
      "      BatchNorm2d-50          [-1, 128, 28, 28]             256\n",
      "             ReLU-51          [-1, 128, 28, 28]               0\n",
      "           Conv2d-52          [-1, 128, 28, 28]         147,456\n",
      "      BatchNorm2d-53          [-1, 128, 28, 28]             256\n",
      "             ReLU-54          [-1, 128, 28, 28]               0\n",
      "           Conv2d-55          [-1, 512, 28, 28]          65,536\n",
      "      BatchNorm2d-56          [-1, 512, 28, 28]           1,024\n",
      "             ReLU-57          [-1, 512, 28, 28]               0\n",
      "       Bottleneck-58          [-1, 512, 28, 28]               0\n",
      "           Conv2d-59          [-1, 128, 28, 28]          65,536\n",
      "      BatchNorm2d-60          [-1, 128, 28, 28]             256\n",
      "             ReLU-61          [-1, 128, 28, 28]               0\n",
      "           Conv2d-62          [-1, 128, 28, 28]         147,456\n",
      "      BatchNorm2d-63          [-1, 128, 28, 28]             256\n",
      "             ReLU-64          [-1, 128, 28, 28]               0\n",
      "           Conv2d-65          [-1, 512, 28, 28]          65,536\n",
      "      BatchNorm2d-66          [-1, 512, 28, 28]           1,024\n",
      "             ReLU-67          [-1, 512, 28, 28]               0\n",
      "       Bottleneck-68          [-1, 512, 28, 28]               0\n",
      "           Conv2d-69          [-1, 128, 28, 28]          65,536\n",
      "      BatchNorm2d-70          [-1, 128, 28, 28]             256\n",
      "             ReLU-71          [-1, 128, 28, 28]               0\n",
      "           Conv2d-72          [-1, 128, 28, 28]         147,456\n",
      "      BatchNorm2d-73          [-1, 128, 28, 28]             256\n",
      "             ReLU-74          [-1, 128, 28, 28]               0\n",
      "           Conv2d-75          [-1, 512, 28, 28]          65,536\n",
      "      BatchNorm2d-76          [-1, 512, 28, 28]           1,024\n",
      "             ReLU-77          [-1, 512, 28, 28]               0\n",
      "       Bottleneck-78          [-1, 512, 28, 28]               0\n",
      "           Conv2d-79          [-1, 256, 28, 28]         131,072\n",
      "      BatchNorm2d-80          [-1, 256, 28, 28]             512\n",
      "             ReLU-81          [-1, 256, 28, 28]               0\n",
      "           Conv2d-82          [-1, 256, 14, 14]         589,824\n",
      "      BatchNorm2d-83          [-1, 256, 14, 14]             512\n",
      "             ReLU-84          [-1, 256, 14, 14]               0\n",
      "           Conv2d-85         [-1, 1024, 14, 14]         262,144\n",
      "      BatchNorm2d-86         [-1, 1024, 14, 14]           2,048\n",
      "           Conv2d-87         [-1, 1024, 14, 14]         524,288\n",
      "      BatchNorm2d-88         [-1, 1024, 14, 14]           2,048\n",
      "             ReLU-89         [-1, 1024, 14, 14]               0\n",
      "       Bottleneck-90         [-1, 1024, 14, 14]               0\n",
      "           Conv2d-91          [-1, 256, 14, 14]         262,144\n",
      "      BatchNorm2d-92          [-1, 256, 14, 14]             512\n",
      "             ReLU-93          [-1, 256, 14, 14]               0\n",
      "           Conv2d-94          [-1, 256, 14, 14]         589,824\n",
      "      BatchNorm2d-95          [-1, 256, 14, 14]             512\n",
      "             ReLU-96          [-1, 256, 14, 14]               0\n",
      "           Conv2d-97         [-1, 1024, 14, 14]         262,144\n",
      "      BatchNorm2d-98         [-1, 1024, 14, 14]           2,048\n",
      "             ReLU-99         [-1, 1024, 14, 14]               0\n",
      "      Bottleneck-100         [-1, 1024, 14, 14]               0\n",
      "          Conv2d-101          [-1, 256, 14, 14]         262,144\n",
      "     BatchNorm2d-102          [-1, 256, 14, 14]             512\n",
      "            ReLU-103          [-1, 256, 14, 14]               0\n",
      "          Conv2d-104          [-1, 256, 14, 14]         589,824\n",
      "     BatchNorm2d-105          [-1, 256, 14, 14]             512\n",
      "            ReLU-106          [-1, 256, 14, 14]               0\n",
      "          Conv2d-107         [-1, 1024, 14, 14]         262,144\n",
      "     BatchNorm2d-108         [-1, 1024, 14, 14]           2,048\n",
      "            ReLU-109         [-1, 1024, 14, 14]               0\n",
      "      Bottleneck-110         [-1, 1024, 14, 14]               0\n",
      "          Conv2d-111          [-1, 256, 14, 14]         262,144\n",
      "     BatchNorm2d-112          [-1, 256, 14, 14]             512\n",
      "            ReLU-113          [-1, 256, 14, 14]               0\n",
      "          Conv2d-114          [-1, 256, 14, 14]         589,824\n",
      "     BatchNorm2d-115          [-1, 256, 14, 14]             512\n",
      "            ReLU-116          [-1, 256, 14, 14]               0\n",
      "          Conv2d-117         [-1, 1024, 14, 14]         262,144\n",
      "     BatchNorm2d-118         [-1, 1024, 14, 14]           2,048\n",
      "            ReLU-119         [-1, 1024, 14, 14]               0\n",
      "      Bottleneck-120         [-1, 1024, 14, 14]               0\n",
      "          Conv2d-121          [-1, 256, 14, 14]         262,144\n",
      "     BatchNorm2d-122          [-1, 256, 14, 14]             512\n",
      "            ReLU-123          [-1, 256, 14, 14]               0\n",
      "          Conv2d-124          [-1, 256, 14, 14]         589,824\n",
      "     BatchNorm2d-125          [-1, 256, 14, 14]             512\n",
      "            ReLU-126          [-1, 256, 14, 14]               0\n",
      "          Conv2d-127         [-1, 1024, 14, 14]         262,144\n",
      "     BatchNorm2d-128         [-1, 1024, 14, 14]           2,048\n",
      "            ReLU-129         [-1, 1024, 14, 14]               0\n",
      "      Bottleneck-130         [-1, 1024, 14, 14]               0\n",
      "          Conv2d-131          [-1, 256, 14, 14]         262,144\n",
      "     BatchNorm2d-132          [-1, 256, 14, 14]             512\n",
      "            ReLU-133          [-1, 256, 14, 14]               0\n",
      "          Conv2d-134          [-1, 256, 14, 14]         589,824\n",
      "     BatchNorm2d-135          [-1, 256, 14, 14]             512\n",
      "            ReLU-136          [-1, 256, 14, 14]               0\n",
      "          Conv2d-137         [-1, 1024, 14, 14]         262,144\n",
      "     BatchNorm2d-138         [-1, 1024, 14, 14]           2,048\n",
      "            ReLU-139         [-1, 1024, 14, 14]               0\n",
      "      Bottleneck-140         [-1, 1024, 14, 14]               0\n",
      "          Conv2d-141          [-1, 512, 14, 14]         524,288\n",
      "     BatchNorm2d-142          [-1, 512, 14, 14]           1,024\n",
      "            ReLU-143          [-1, 512, 14, 14]               0\n",
      "          Conv2d-144            [-1, 512, 7, 7]       2,359,296\n",
      "     BatchNorm2d-145            [-1, 512, 7, 7]           1,024\n",
      "            ReLU-146            [-1, 512, 7, 7]               0\n",
      "          Conv2d-147           [-1, 2048, 7, 7]       1,048,576\n",
      "     BatchNorm2d-148           [-1, 2048, 7, 7]           4,096\n",
      "          Conv2d-149           [-1, 2048, 7, 7]       2,097,152\n",
      "     BatchNorm2d-150           [-1, 2048, 7, 7]           4,096\n",
      "            ReLU-151           [-1, 2048, 7, 7]               0\n",
      "      Bottleneck-152           [-1, 2048, 7, 7]               0\n",
      "          Conv2d-153            [-1, 512, 7, 7]       1,048,576\n",
      "     BatchNorm2d-154            [-1, 512, 7, 7]           1,024\n",
      "            ReLU-155            [-1, 512, 7, 7]               0\n",
      "          Conv2d-156            [-1, 512, 7, 7]       2,359,296\n",
      "     BatchNorm2d-157            [-1, 512, 7, 7]           1,024\n",
      "            ReLU-158            [-1, 512, 7, 7]               0\n",
      "          Conv2d-159           [-1, 2048, 7, 7]       1,048,576\n",
      "     BatchNorm2d-160           [-1, 2048, 7, 7]           4,096\n",
      "            ReLU-161           [-1, 2048, 7, 7]               0\n",
      "      Bottleneck-162           [-1, 2048, 7, 7]               0\n",
      "          Conv2d-163            [-1, 512, 7, 7]       1,048,576\n",
      "     BatchNorm2d-164            [-1, 512, 7, 7]           1,024\n",
      "            ReLU-165            [-1, 512, 7, 7]               0\n",
      "          Conv2d-166            [-1, 512, 7, 7]       2,359,296\n",
      "     BatchNorm2d-167            [-1, 512, 7, 7]           1,024\n",
      "            ReLU-168            [-1, 512, 7, 7]               0\n",
      "          Conv2d-169           [-1, 2048, 7, 7]       1,048,576\n",
      "     BatchNorm2d-170           [-1, 2048, 7, 7]           4,096\n",
      "            ReLU-171           [-1, 2048, 7, 7]               0\n",
      "      Bottleneck-172           [-1, 2048, 7, 7]               0\n",
      "AdaptiveAvgPool2d-173           [-1, 2048, 1, 1]               0\n",
      "          Linear-174                    [-1, 7]          14,343\n",
      "================================================================\n",
      "Total params: 23,522,375\n",
      "Trainable params: 23,522,375\n",
      "Non-trainable params: 0\n",
      "----------------------------------------------------------------\n",
      "Input size (MB): 0.57\n",
      "Forward/backward pass size (MB): 286.55\n",
      "Params size (MB): 89.73\n",
      "Estimated Total Size (MB): 376.86\n",
      "----------------------------------------------------------------\n"
     ]
    }
   ],
   "source": [
    "# -----------------------------\n",
    "# 3. Training Setup\n",
    "# -----------------------------\n",
    "device = torch.device(\"cuda\" if torch.cuda.is_available() else \"cpu\")\n",
    "model = MyResNet50(num_classes=len(classes), zero_init_residual=True).to(device)\n",
    "criterion = nn.CrossEntropyLoss()\n",
    "optimizer = torch.optim.SGD(model.parameters(), lr=0.1, momentum=0.9, weight_decay=1e-4)\n",
    "\n",
    "print(\"ResNet50 Model Summary:\")\n",
    "try:\n",
    "    summary(model, (3, 224, 224))\n",
    "except:\n",
    "    print(\"Model summary generation failed - this is normal for complex architectures\")\n",
    "    print(f\"Model created successfully with {sum(p.numel() for p in model.parameters()):,} parameters\")"
   ]
  },
  {
   "cell_type": "code",
   "execution_count": 10,
   "id": "636b2779",
   "metadata": {
    "execution": {
     "iopub.execute_input": "2025-09-07T14:24:02.751096Z",
     "iopub.status.busy": "2025-09-07T14:24:02.750853Z",
     "iopub.status.idle": "2025-09-07T15:46:45.202461Z",
     "shell.execute_reply": "2025-09-07T15:46:45.201741Z"
    },
    "papermill": {
     "duration": 4962.4583,
     "end_time": "2025-09-07T15:46:45.205125",
     "exception": false,
     "start_time": "2025-09-07T14:24:02.746825",
     "status": "completed"
    },
    "tags": []
   },
   "outputs": [
    {
     "name": "stdout",
     "output_type": "stream",
     "text": [
      "\n",
      "🚀 Starting ResNet50 Training for 50 epochs...\n",
      "================================================================================\n",
      "\n",
      "📈 Epoch 1/50\n",
      "--------------------------------------------------\n",
      "🔄 Training Phase...\n"
     ]
    },
    {
     "name": "stderr",
     "output_type": "stream",
     "text": [
      "Training: 100%|██████████████████████████████| 162/162 [01:46<00:00,  1.51it/s, Loss=2.7265, Acc=0.2620]\n"
     ]
    },
    {
     "name": "stdout",
     "output_type": "stream",
     "text": [
      "✅ Training completed in 106.96s\n",
      "🔍 Validation Phase...\n"
     ]
    },
    {
     "name": "stderr",
     "output_type": "stream",
     "text": [
      "Validation: 100%|██████████████████████████████| 42/42 [00:21<00:00,  1.96it/s, Loss=2.0846, Acc=0.2357]\n"
     ]
    },
    {
     "name": "stdout",
     "output_type": "stream",
     "text": [
      "✅ Validation completed in 21.38s\n",
      "🌟 New best ResNet50 model found! Validation Accuracy: 0.2357\n",
      "\n",
      "📊 Epoch 1 Summary:\n",
      "│ Train Loss: 2.7265 | Train Acc: 0.2620\n",
      "│ Val Loss:   2.0846 | Val Acc:   0.2357\n",
      "│ Train Time: 106.96s | Val Time: 21.38s\n",
      "│ Total Epoch Time: 128.34s\n",
      "│ Best Val Acc: 0.2357 (Epoch 1)\n",
      "│ GPU Memory: 0.3GB / 3.2GB\n",
      "================================================================================\n",
      "\n",
      "📈 Epoch 2/50\n",
      "--------------------------------------------------\n",
      "🔄 Training Phase...\n"
     ]
    },
    {
     "name": "stderr",
     "output_type": "stream",
     "text": [
      "Training: 100%|██████████████████████████████| 162/162 [01:21<00:00,  2.00it/s, Loss=1.8634, Acc=0.2879]\n"
     ]
    },
    {
     "name": "stdout",
     "output_type": "stream",
     "text": [
      "✅ Training completed in 81.06s\n",
      "🔍 Validation Phase...\n"
     ]
    },
    {
     "name": "stderr",
     "output_type": "stream",
     "text": [
      "Validation: 100%|██████████████████████████████| 42/42 [00:12<00:00,  3.24it/s, Loss=1.8654, Acc=0.2794]\n"
     ]
    },
    {
     "name": "stdout",
     "output_type": "stream",
     "text": [
      "✅ Validation completed in 12.95s\n",
      "🌟 New best ResNet50 model found! Validation Accuracy: 0.2794\n",
      "\n",
      "📊 Epoch 2 Summary:\n",
      "│ Train Loss: 1.8634 | Train Acc: 0.2879\n",
      "│ Val Loss:   1.8654 | Val Acc:   0.2794\n",
      "│ Train Time: 81.06s | Val Time: 12.95s\n",
      "│ Total Epoch Time: 94.01s\n",
      "│ Best Val Acc: 0.2794 (Epoch 2)\n",
      "│ GPU Memory: 0.3GB / 3.2GB\n",
      "================================================================================\n",
      "\n",
      "📈 Epoch 3/50\n",
      "--------------------------------------------------\n",
      "🔄 Training Phase...\n"
     ]
    },
    {
     "name": "stderr",
     "output_type": "stream",
     "text": [
      "Training: 100%|██████████████████████████████| 162/162 [01:25<00:00,  1.89it/s, Loss=1.6489, Acc=0.3274]\n"
     ]
    },
    {
     "name": "stdout",
     "output_type": "stream",
     "text": [
      "✅ Training completed in 85.54s\n",
      "🔍 Validation Phase...\n"
     ]
    },
    {
     "name": "stderr",
     "output_type": "stream",
     "text": [
      "Validation: 100%|██████████████████████████████| 42/42 [00:12<00:00,  3.34it/s, Loss=1.8250, Acc=0.3080]\n"
     ]
    },
    {
     "name": "stdout",
     "output_type": "stream",
     "text": [
      "✅ Validation completed in 12.59s\n",
      "🌟 New best ResNet50 model found! Validation Accuracy: 0.3080\n",
      "\n",
      "📊 Epoch 3 Summary:\n",
      "│ Train Loss: 1.6489 | Train Acc: 0.3274\n",
      "│ Val Loss:   1.8250 | Val Acc:   0.3080\n",
      "│ Train Time: 85.54s | Val Time: 12.59s\n",
      "│ Total Epoch Time: 98.14s\n",
      "│ Best Val Acc: 0.3080 (Epoch 3)\n",
      "│ GPU Memory: 0.3GB / 3.2GB\n",
      "================================================================================\n",
      "\n",
      "📈 Epoch 4/50\n",
      "--------------------------------------------------\n",
      "🔄 Training Phase...\n"
     ]
    },
    {
     "name": "stderr",
     "output_type": "stream",
     "text": [
      "Training: 100%|██████████████████████████████| 162/162 [01:25<00:00,  1.90it/s, Loss=1.5889, Acc=0.3572]\n"
     ]
    },
    {
     "name": "stdout",
     "output_type": "stream",
     "text": [
      "✅ Training completed in 85.41s\n",
      "🔍 Validation Phase...\n"
     ]
    },
    {
     "name": "stderr",
     "output_type": "stream",
     "text": [
      "Validation: 100%|██████████████████████████████| 42/42 [00:12<00:00,  3.27it/s, Loss=1.8300, Acc=0.3155]\n"
     ]
    },
    {
     "name": "stdout",
     "output_type": "stream",
     "text": [
      "✅ Validation completed in 12.83s\n",
      "🌟 New best ResNet50 model found! Validation Accuracy: 0.3155\n",
      "\n",
      "📊 Epoch 4 Summary:\n",
      "│ Train Loss: 1.5889 | Train Acc: 0.3572\n",
      "│ Val Loss:   1.8300 | Val Acc:   0.3155\n",
      "│ Train Time: 85.41s | Val Time: 12.83s\n",
      "│ Total Epoch Time: 98.25s\n",
      "│ Best Val Acc: 0.3155 (Epoch 4)\n",
      "│ GPU Memory: 0.3GB / 3.2GB\n",
      "================================================================================\n",
      "\n",
      "📈 Epoch 5/50\n",
      "--------------------------------------------------\n",
      "🔄 Training Phase...\n"
     ]
    },
    {
     "name": "stderr",
     "output_type": "stream",
     "text": [
      "Training: 100%|██████████████████████████████| 162/162 [01:25<00:00,  1.90it/s, Loss=1.4886, Acc=0.4036]\n"
     ]
    },
    {
     "name": "stdout",
     "output_type": "stream",
     "text": [
      "✅ Training completed in 85.15s\n",
      "🔍 Validation Phase...\n"
     ]
    },
    {
     "name": "stderr",
     "output_type": "stream",
     "text": [
      "Validation: 100%|██████████████████████████████| 42/42 [00:12<00:00,  3.24it/s, Loss=1.8646, Acc=0.3306]\n"
     ]
    },
    {
     "name": "stdout",
     "output_type": "stream",
     "text": [
      "✅ Validation completed in 12.95s\n",
      "🌟 New best ResNet50 model found! Validation Accuracy: 0.3306\n",
      "\n",
      "📊 Epoch 5 Summary:\n",
      "│ Train Loss: 1.4886 | Train Acc: 0.4036\n",
      "│ Val Loss:   1.8646 | Val Acc:   0.3306\n",
      "│ Train Time: 85.15s | Val Time: 12.95s\n",
      "│ Total Epoch Time: 98.11s\n",
      "│ Best Val Acc: 0.3306 (Epoch 5)\n",
      "│ GPU Memory: 0.3GB / 3.2GB\n",
      "================================================================================\n",
      "\n",
      "📈 Epoch 6/50\n",
      "--------------------------------------------------\n",
      "🔄 Training Phase...\n"
     ]
    },
    {
     "name": "stderr",
     "output_type": "stream",
     "text": [
      "Training: 100%|██████████████████████████████| 162/162 [01:26<00:00,  1.87it/s, Loss=1.3224, Acc=0.4874]\n"
     ]
    },
    {
     "name": "stdout",
     "output_type": "stream",
     "text": [
      "✅ Training completed in 86.54s\n",
      "🔍 Validation Phase...\n"
     ]
    },
    {
     "name": "stderr",
     "output_type": "stream",
     "text": [
      "Validation: 100%|██████████████████████████████| 42/42 [00:13<00:00,  3.19it/s, Loss=2.2158, Acc=0.2974]\n"
     ]
    },
    {
     "name": "stdout",
     "output_type": "stream",
     "text": [
      "✅ Validation completed in 13.19s\n",
      "\n",
      "📊 Epoch 6 Summary:\n",
      "│ Train Loss: 1.3224 | Train Acc: 0.4874\n",
      "│ Val Loss:   2.2158 | Val Acc:   0.2974\n",
      "│ Train Time: 86.54s | Val Time: 13.19s\n",
      "│ Total Epoch Time: 99.73s\n",
      "│ Best Val Acc: 0.3306 (Epoch 5)\n",
      "│ GPU Memory: 0.3GB / 3.2GB\n",
      "================================================================================\n",
      "\n",
      "📈 Epoch 7/50\n",
      "--------------------------------------------------\n",
      "🔄 Training Phase...\n"
     ]
    },
    {
     "name": "stderr",
     "output_type": "stream",
     "text": [
      "Training: 100%|██████████████████████████████| 162/162 [01:26<00:00,  1.88it/s, Loss=1.0047, Acc=0.6269]\n"
     ]
    },
    {
     "name": "stdout",
     "output_type": "stream",
     "text": [
      "✅ Training completed in 86.07s\n",
      "🔍 Validation Phase...\n"
     ]
    },
    {
     "name": "stderr",
     "output_type": "stream",
     "text": [
      "Validation: 100%|██████████████████████████████| 42/42 [00:13<00:00,  3.22it/s, Loss=2.3568, Acc=0.3140]\n"
     ]
    },
    {
     "name": "stdout",
     "output_type": "stream",
     "text": [
      "✅ Validation completed in 13.05s\n",
      "\n",
      "📊 Epoch 7 Summary:\n",
      "│ Train Loss: 1.0047 | Train Acc: 0.6269\n",
      "│ Val Loss:   2.3568 | Val Acc:   0.3140\n",
      "│ Train Time: 86.07s | Val Time: 13.05s\n",
      "│ Total Epoch Time: 99.12s\n",
      "│ Best Val Acc: 0.3306 (Epoch 5)\n",
      "│ GPU Memory: 0.3GB / 3.2GB\n",
      "================================================================================\n",
      "\n",
      "📈 Epoch 8/50\n",
      "--------------------------------------------------\n",
      "🔄 Training Phase...\n"
     ]
    },
    {
     "name": "stderr",
     "output_type": "stream",
     "text": [
      "Training: 100%|██████████████████████████████| 162/162 [01:25<00:00,  1.89it/s, Loss=0.7000, Acc=0.7521]\n"
     ]
    },
    {
     "name": "stdout",
     "output_type": "stream",
     "text": [
      "✅ Training completed in 85.55s\n",
      "🔍 Validation Phase...\n"
     ]
    },
    {
     "name": "stderr",
     "output_type": "stream",
     "text": [
      "Validation: 100%|██████████████████████████████| 42/42 [00:12<00:00,  3.29it/s, Loss=2.4919, Acc=0.3494]\n"
     ]
    },
    {
     "name": "stdout",
     "output_type": "stream",
     "text": [
      "✅ Validation completed in 12.76s\n",
      "🌟 New best ResNet50 model found! Validation Accuracy: 0.3494\n",
      "\n",
      "📊 Epoch 8 Summary:\n",
      "│ Train Loss: 0.7000 | Train Acc: 0.7521\n",
      "│ Val Loss:   2.4919 | Val Acc:   0.3494\n",
      "│ Train Time: 85.55s | Val Time: 12.76s\n",
      "│ Total Epoch Time: 98.32s\n",
      "│ Best Val Acc: 0.3494 (Epoch 8)\n",
      "│ GPU Memory: 0.3GB / 3.2GB\n",
      "================================================================================\n",
      "\n",
      "📈 Epoch 9/50\n",
      "--------------------------------------------------\n",
      "🔄 Training Phase...\n"
     ]
    },
    {
     "name": "stderr",
     "output_type": "stream",
     "text": [
      "Training: 100%|██████████████████████████████| 162/162 [01:25<00:00,  1.89it/s, Loss=0.4098, Acc=0.8634]\n"
     ]
    },
    {
     "name": "stdout",
     "output_type": "stream",
     "text": [
      "✅ Training completed in 85.59s\n",
      "🔍 Validation Phase...\n"
     ]
    },
    {
     "name": "stderr",
     "output_type": "stream",
     "text": [
      "Validation: 100%|██████████████████████████████| 42/42 [00:12<00:00,  3.28it/s, Loss=2.5246, Acc=0.4232]\n"
     ]
    },
    {
     "name": "stdout",
     "output_type": "stream",
     "text": [
      "✅ Validation completed in 12.79s\n",
      "🌟 New best ResNet50 model found! Validation Accuracy: 0.4232\n",
      "\n",
      "📊 Epoch 9 Summary:\n",
      "│ Train Loss: 0.4098 | Train Acc: 0.8634\n",
      "│ Val Loss:   2.5246 | Val Acc:   0.4232\n",
      "│ Train Time: 85.59s | Val Time: 12.79s\n",
      "│ Total Epoch Time: 98.38s\n",
      "│ Best Val Acc: 0.4232 (Epoch 9)\n",
      "│ GPU Memory: 0.3GB / 3.2GB\n",
      "================================================================================\n",
      "\n",
      "📈 Epoch 10/50\n",
      "--------------------------------------------------\n",
      "🔄 Training Phase...\n"
     ]
    },
    {
     "name": "stderr",
     "output_type": "stream",
     "text": [
      "Training: 100%|██████████████████████████████| 162/162 [01:25<00:00,  1.90it/s, Loss=0.2530, Acc=0.9156]\n"
     ]
    },
    {
     "name": "stdout",
     "output_type": "stream",
     "text": [
      "✅ Training completed in 85.26s\n",
      "🔍 Validation Phase...\n"
     ]
    },
    {
     "name": "stderr",
     "output_type": "stream",
     "text": [
      "Validation: 100%|██████████████████████████████| 42/42 [00:13<00:00,  3.23it/s, Loss=3.3350, Acc=0.4247]\n"
     ]
    },
    {
     "name": "stdout",
     "output_type": "stream",
     "text": [
      "✅ Validation completed in 13.01s\n",
      "🌟 New best ResNet50 model found! Validation Accuracy: 0.4247\n",
      "\n",
      "📊 Epoch 10 Summary:\n",
      "│ Train Loss: 0.2530 | Train Acc: 0.9156\n",
      "│ Val Loss:   3.3350 | Val Acc:   0.4247\n",
      "│ Train Time: 85.26s | Val Time: 13.01s\n",
      "│ Total Epoch Time: 98.27s\n",
      "│ Best Val Acc: 0.4247 (Epoch 10)\n",
      "│ GPU Memory: 0.3GB / 3.2GB\n",
      "================================================================================\n",
      "\n",
      "📈 Epoch 11/50\n",
      "--------------------------------------------------\n",
      "🔄 Training Phase...\n"
     ]
    },
    {
     "name": "stderr",
     "output_type": "stream",
     "text": [
      "Training: 100%|██████████████████████████████| 162/162 [01:25<00:00,  1.90it/s, Loss=0.1559, Acc=0.9472]\n"
     ]
    },
    {
     "name": "stdout",
     "output_type": "stream",
     "text": [
      "✅ Training completed in 85.28s\n",
      "🔍 Validation Phase...\n"
     ]
    },
    {
     "name": "stderr",
     "output_type": "stream",
     "text": [
      "Validation: 100%|██████████████████████████████| 42/42 [00:12<00:00,  3.28it/s, Loss=3.1888, Acc=0.4119]\n"
     ]
    },
    {
     "name": "stdout",
     "output_type": "stream",
     "text": [
      "✅ Validation completed in 12.81s\n",
      "\n",
      "📊 Epoch 11 Summary:\n",
      "│ Train Loss: 0.1559 | Train Acc: 0.9472\n",
      "│ Val Loss:   3.1888 | Val Acc:   0.4119\n",
      "│ Train Time: 85.28s | Val Time: 12.81s\n",
      "│ Total Epoch Time: 98.10s\n",
      "│ Best Val Acc: 0.4247 (Epoch 10)\n",
      "│ GPU Memory: 0.3GB / 3.2GB\n",
      "================================================================================\n",
      "\n",
      "📈 Epoch 12/50\n",
      "--------------------------------------------------\n",
      "🔄 Training Phase...\n"
     ]
    },
    {
     "name": "stderr",
     "output_type": "stream",
     "text": [
      "Training: 100%|██████████████████████████████| 162/162 [01:25<00:00,  1.90it/s, Loss=0.1149, Acc=0.9663]\n"
     ]
    },
    {
     "name": "stdout",
     "output_type": "stream",
     "text": [
      "✅ Training completed in 85.20s\n",
      "🔍 Validation Phase...\n"
     ]
    },
    {
     "name": "stderr",
     "output_type": "stream",
     "text": [
      "Validation: 100%|██████████████████████████████| 42/42 [00:12<00:00,  3.29it/s, Loss=3.0650, Acc=0.4285]\n"
     ]
    },
    {
     "name": "stdout",
     "output_type": "stream",
     "text": [
      "✅ Validation completed in 12.79s\n",
      "🌟 New best ResNet50 model found! Validation Accuracy: 0.4285\n",
      "\n",
      "📊 Epoch 12 Summary:\n",
      "│ Train Loss: 0.1149 | Train Acc: 0.9663\n",
      "│ Val Loss:   3.0650 | Val Acc:   0.4285\n",
      "│ Train Time: 85.20s | Val Time: 12.79s\n",
      "│ Total Epoch Time: 97.99s\n",
      "│ Best Val Acc: 0.4285 (Epoch 12)\n",
      "│ GPU Memory: 0.3GB / 3.2GB\n",
      "================================================================================\n",
      "\n",
      "📈 Epoch 13/50\n",
      "--------------------------------------------------\n",
      "🔄 Training Phase...\n"
     ]
    },
    {
     "name": "stderr",
     "output_type": "stream",
     "text": [
      "Training: 100%|██████████████████████████████| 162/162 [01:24<00:00,  1.91it/s, Loss=0.0881, Acc=0.9714]\n"
     ]
    },
    {
     "name": "stdout",
     "output_type": "stream",
     "text": [
      "✅ Training completed in 84.94s\n",
      "🔍 Validation Phase...\n"
     ]
    },
    {
     "name": "stderr",
     "output_type": "stream",
     "text": [
      "Validation: 100%|██████████████████████████████| 42/42 [00:12<00:00,  3.29it/s, Loss=3.3518, Acc=0.4255]\n"
     ]
    },
    {
     "name": "stdout",
     "output_type": "stream",
     "text": [
      "✅ Validation completed in 12.77s\n",
      "\n",
      "📊 Epoch 13 Summary:\n",
      "│ Train Loss: 0.0881 | Train Acc: 0.9714\n",
      "│ Val Loss:   3.3518 | Val Acc:   0.4255\n",
      "│ Train Time: 84.94s | Val Time: 12.77s\n",
      "│ Total Epoch Time: 97.71s\n",
      "│ Best Val Acc: 0.4285 (Epoch 12)\n",
      "│ GPU Memory: 0.3GB / 3.2GB\n",
      "================================================================================\n",
      "\n",
      "📈 Epoch 14/50\n",
      "--------------------------------------------------\n",
      "🔄 Training Phase...\n"
     ]
    },
    {
     "name": "stderr",
     "output_type": "stream",
     "text": [
      "Training: 100%|██████████████████████████████| 162/162 [01:25<00:00,  1.90it/s, Loss=0.0464, Acc=0.9872]\n"
     ]
    },
    {
     "name": "stdout",
     "output_type": "stream",
     "text": [
      "✅ Training completed in 85.12s\n",
      "🔍 Validation Phase...\n"
     ]
    },
    {
     "name": "stderr",
     "output_type": "stream",
     "text": [
      "Validation: 100%|██████████████████████████████| 42/42 [00:12<00:00,  3.32it/s, Loss=2.9351, Acc=0.4639]\n"
     ]
    },
    {
     "name": "stdout",
     "output_type": "stream",
     "text": [
      "✅ Validation completed in 12.66s\n",
      "🌟 New best ResNet50 model found! Validation Accuracy: 0.4639\n",
      "\n",
      "📊 Epoch 14 Summary:\n",
      "│ Train Loss: 0.0464 | Train Acc: 0.9872\n",
      "│ Val Loss:   2.9351 | Val Acc:   0.4639\n",
      "│ Train Time: 85.12s | Val Time: 12.66s\n",
      "│ Total Epoch Time: 97.79s\n",
      "│ Best Val Acc: 0.4639 (Epoch 14)\n",
      "│ GPU Memory: 0.3GB / 3.2GB\n",
      "================================================================================\n",
      "\n",
      "📈 Epoch 15/50\n",
      "--------------------------------------------------\n",
      "🔄 Training Phase...\n"
     ]
    },
    {
     "name": "stderr",
     "output_type": "stream",
     "text": [
      "Training: 100%|██████████████████████████████| 162/162 [01:25<00:00,  1.90it/s, Loss=0.0297, Acc=0.9901]\n"
     ]
    },
    {
     "name": "stdout",
     "output_type": "stream",
     "text": [
      "✅ Training completed in 85.36s\n",
      "🔍 Validation Phase...\n"
     ]
    },
    {
     "name": "stderr",
     "output_type": "stream",
     "text": [
      "Validation: 100%|██████████████████████████████| 42/42 [00:12<00:00,  3.26it/s, Loss=4.0567, Acc=0.3863]\n"
     ]
    },
    {
     "name": "stdout",
     "output_type": "stream",
     "text": [
      "✅ Validation completed in 12.90s\n",
      "\n",
      "📊 Epoch 15 Summary:\n",
      "│ Train Loss: 0.0297 | Train Acc: 0.9901\n",
      "│ Val Loss:   4.0567 | Val Acc:   0.3863\n",
      "│ Train Time: 85.36s | Val Time: 12.90s\n",
      "│ Total Epoch Time: 98.26s\n",
      "│ Best Val Acc: 0.4639 (Epoch 14)\n",
      "│ GPU Memory: 0.3GB / 3.2GB\n",
      "================================================================================\n",
      "\n",
      "📈 Epoch 16/50\n",
      "--------------------------------------------------\n",
      "🔄 Training Phase...\n"
     ]
    },
    {
     "name": "stderr",
     "output_type": "stream",
     "text": [
      "Training: 100%|██████████████████████████████| 162/162 [01:25<00:00,  1.90it/s, Loss=0.0666, Acc=0.9793]\n"
     ]
    },
    {
     "name": "stdout",
     "output_type": "stream",
     "text": [
      "✅ Training completed in 85.19s\n",
      "🔍 Validation Phase...\n"
     ]
    },
    {
     "name": "stderr",
     "output_type": "stream",
     "text": [
      "Validation: 100%|██████████████████████████████| 42/42 [00:13<00:00,  3.20it/s, Loss=3.0329, Acc=0.4556]\n"
     ]
    },
    {
     "name": "stdout",
     "output_type": "stream",
     "text": [
      "✅ Validation completed in 13.11s\n",
      "\n",
      "📊 Epoch 16 Summary:\n",
      "│ Train Loss: 0.0666 | Train Acc: 0.9793\n",
      "│ Val Loss:   3.0329 | Val Acc:   0.4556\n",
      "│ Train Time: 85.19s | Val Time: 13.11s\n",
      "│ Total Epoch Time: 98.30s\n",
      "│ Best Val Acc: 0.4639 (Epoch 14)\n",
      "│ GPU Memory: 0.3GB / 3.2GB\n",
      "================================================================================\n",
      "\n",
      "📈 Epoch 17/50\n",
      "--------------------------------------------------\n",
      "🔄 Training Phase...\n"
     ]
    },
    {
     "name": "stderr",
     "output_type": "stream",
     "text": [
      "Training: 100%|██████████████████████████████| 162/162 [01:25<00:00,  1.89it/s, Loss=0.0440, Acc=0.9868]\n"
     ]
    },
    {
     "name": "stdout",
     "output_type": "stream",
     "text": [
      "✅ Training completed in 85.57s\n",
      "🔍 Validation Phase...\n"
     ]
    },
    {
     "name": "stderr",
     "output_type": "stream",
     "text": [
      "Validation: 100%|██████████████████████████████| 42/42 [00:12<00:00,  3.34it/s, Loss=2.8977, Acc=0.4714]\n"
     ]
    },
    {
     "name": "stdout",
     "output_type": "stream",
     "text": [
      "✅ Validation completed in 12.58s\n",
      "🌟 New best ResNet50 model found! Validation Accuracy: 0.4714\n",
      "\n",
      "📊 Epoch 17 Summary:\n",
      "│ Train Loss: 0.0440 | Train Acc: 0.9868\n",
      "│ Val Loss:   2.8977 | Val Acc:   0.4714\n",
      "│ Train Time: 85.57s | Val Time: 12.58s\n",
      "│ Total Epoch Time: 98.15s\n",
      "│ Best Val Acc: 0.4714 (Epoch 17)\n",
      "│ GPU Memory: 0.3GB / 3.2GB\n",
      "================================================================================\n",
      "\n",
      "📈 Epoch 18/50\n",
      "--------------------------------------------------\n",
      "🔄 Training Phase...\n"
     ]
    },
    {
     "name": "stderr",
     "output_type": "stream",
     "text": [
      "Training: 100%|██████████████████████████████| 162/162 [01:25<00:00,  1.90it/s, Loss=0.0280, Acc=0.9905]\n"
     ]
    },
    {
     "name": "stdout",
     "output_type": "stream",
     "text": [
      "✅ Training completed in 85.34s\n",
      "🔍 Validation Phase...\n"
     ]
    },
    {
     "name": "stderr",
     "output_type": "stream",
     "text": [
      "Validation: 100%|██████████████████████████████| 42/42 [00:12<00:00,  3.23it/s, Loss=3.4944, Acc=0.4533]\n"
     ]
    },
    {
     "name": "stdout",
     "output_type": "stream",
     "text": [
      "✅ Validation completed in 13.00s\n",
      "\n",
      "📊 Epoch 18 Summary:\n",
      "│ Train Loss: 0.0280 | Train Acc: 0.9905\n",
      "│ Val Loss:   3.4944 | Val Acc:   0.4533\n",
      "│ Train Time: 85.34s | Val Time: 13.00s\n",
      "│ Total Epoch Time: 98.34s\n",
      "│ Best Val Acc: 0.4714 (Epoch 17)\n",
      "│ GPU Memory: 0.3GB / 3.2GB\n",
      "================================================================================\n",
      "\n",
      "📈 Epoch 19/50\n",
      "--------------------------------------------------\n",
      "🔄 Training Phase...\n"
     ]
    },
    {
     "name": "stderr",
     "output_type": "stream",
     "text": [
      "Training: 100%|██████████████████████████████| 162/162 [01:25<00:00,  1.91it/s, Loss=0.0196, Acc=0.9930]\n"
     ]
    },
    {
     "name": "stdout",
     "output_type": "stream",
     "text": [
      "✅ Training completed in 85.00s\n",
      "🔍 Validation Phase...\n"
     ]
    },
    {
     "name": "stderr",
     "output_type": "stream",
     "text": [
      "Validation: 100%|██████████████████████████████| 42/42 [00:12<00:00,  3.28it/s, Loss=3.1467, Acc=0.4390]\n"
     ]
    },
    {
     "name": "stdout",
     "output_type": "stream",
     "text": [
      "✅ Validation completed in 12.81s\n",
      "\n",
      "📊 Epoch 19 Summary:\n",
      "│ Train Loss: 0.0196 | Train Acc: 0.9930\n",
      "│ Val Loss:   3.1467 | Val Acc:   0.4390\n",
      "│ Train Time: 85.00s | Val Time: 12.81s\n",
      "│ Total Epoch Time: 97.81s\n",
      "│ Best Val Acc: 0.4714 (Epoch 17)\n",
      "│ GPU Memory: 0.3GB / 3.2GB\n",
      "================================================================================\n",
      "\n",
      "📈 Epoch 20/50\n",
      "--------------------------------------------------\n",
      "🔄 Training Phase...\n"
     ]
    },
    {
     "name": "stderr",
     "output_type": "stream",
     "text": [
      "Training: 100%|██████████████████████████████| 162/162 [01:25<00:00,  1.91it/s, Loss=0.0198, Acc=0.9923]\n"
     ]
    },
    {
     "name": "stdout",
     "output_type": "stream",
     "text": [
      "✅ Training completed in 85.02s\n",
      "🔍 Validation Phase...\n"
     ]
    },
    {
     "name": "stderr",
     "output_type": "stream",
     "text": [
      "Validation: 100%|██████████████████████████████| 42/42 [00:12<00:00,  3.28it/s, Loss=3.0842, Acc=0.4571]\n"
     ]
    },
    {
     "name": "stdout",
     "output_type": "stream",
     "text": [
      "✅ Validation completed in 12.79s\n",
      "\n",
      "📊 Epoch 20 Summary:\n",
      "│ Train Loss: 0.0198 | Train Acc: 0.9923\n",
      "│ Val Loss:   3.0842 | Val Acc:   0.4571\n",
      "│ Train Time: 85.02s | Val Time: 12.79s\n",
      "│ Total Epoch Time: 97.81s\n",
      "│ Best Val Acc: 0.4714 (Epoch 17)\n",
      "│ GPU Memory: 0.3GB / 3.2GB\n",
      "================================================================================\n",
      "\n",
      "📈 Epoch 21/50\n",
      "--------------------------------------------------\n",
      "🔄 Training Phase...\n"
     ]
    },
    {
     "name": "stderr",
     "output_type": "stream",
     "text": [
      "Training: 100%|██████████████████████████████| 162/162 [01:24<00:00,  1.91it/s, Loss=0.0108, Acc=0.9952]\n"
     ]
    },
    {
     "name": "stdout",
     "output_type": "stream",
     "text": [
      "✅ Training completed in 85.00s\n",
      "🔍 Validation Phase...\n"
     ]
    },
    {
     "name": "stderr",
     "output_type": "stream",
     "text": [
      "Validation: 100%|██████████████████████████████| 42/42 [00:12<00:00,  3.30it/s, Loss=2.9336, Acc=0.4714]\n"
     ]
    },
    {
     "name": "stdout",
     "output_type": "stream",
     "text": [
      "✅ Validation completed in 12.75s\n",
      "\n",
      "📊 Epoch 21 Summary:\n",
      "│ Train Loss: 0.0108 | Train Acc: 0.9952\n",
      "│ Val Loss:   2.9336 | Val Acc:   0.4714\n",
      "│ Train Time: 85.00s | Val Time: 12.75s\n",
      "│ Total Epoch Time: 97.75s\n",
      "│ Best Val Acc: 0.4714 (Epoch 17)\n",
      "│ GPU Memory: 0.3GB / 3.2GB\n",
      "================================================================================\n",
      "\n",
      "📈 Epoch 22/50\n",
      "--------------------------------------------------\n",
      "🔄 Training Phase...\n"
     ]
    },
    {
     "name": "stderr",
     "output_type": "stream",
     "text": [
      "Training: 100%|██████████████████████████████| 162/162 [01:25<00:00,  1.90it/s, Loss=0.0132, Acc=0.9944]\n"
     ]
    },
    {
     "name": "stdout",
     "output_type": "stream",
     "text": [
      "✅ Training completed in 85.35s\n",
      "🔍 Validation Phase...\n"
     ]
    },
    {
     "name": "stderr",
     "output_type": "stream",
     "text": [
      "Validation: 100%|██████████████████████████████| 42/42 [00:12<00:00,  3.30it/s, Loss=2.8380, Acc=0.4970]\n"
     ]
    },
    {
     "name": "stdout",
     "output_type": "stream",
     "text": [
      "✅ Validation completed in 12.72s\n",
      "🌟 New best ResNet50 model found! Validation Accuracy: 0.4970\n",
      "\n",
      "📊 Epoch 22 Summary:\n",
      "│ Train Loss: 0.0132 | Train Acc: 0.9944\n",
      "│ Val Loss:   2.8380 | Val Acc:   0.4970\n",
      "│ Train Time: 85.35s | Val Time: 12.72s\n",
      "│ Total Epoch Time: 98.08s\n",
      "│ Best Val Acc: 0.4970 (Epoch 22)\n",
      "│ GPU Memory: 0.3GB / 3.2GB\n",
      "================================================================================\n",
      "\n",
      "📈 Epoch 23/50\n",
      "--------------------------------------------------\n",
      "🔄 Training Phase...\n"
     ]
    },
    {
     "name": "stderr",
     "output_type": "stream",
     "text": [
      "Training: 100%|██████████████████████████████| 162/162 [01:25<00:00,  1.89it/s, Loss=0.0112, Acc=0.9944]\n"
     ]
    },
    {
     "name": "stdout",
     "output_type": "stream",
     "text": [
      "✅ Training completed in 85.49s\n",
      "🔍 Validation Phase...\n"
     ]
    },
    {
     "name": "stderr",
     "output_type": "stream",
     "text": [
      "Validation: 100%|██████████████████████████████| 42/42 [00:12<00:00,  3.23it/s, Loss=2.9163, Acc=0.4759]\n"
     ]
    },
    {
     "name": "stdout",
     "output_type": "stream",
     "text": [
      "✅ Validation completed in 12.99s\n",
      "\n",
      "📊 Epoch 23 Summary:\n",
      "│ Train Loss: 0.0112 | Train Acc: 0.9944\n",
      "│ Val Loss:   2.9163 | Val Acc:   0.4759\n",
      "│ Train Time: 85.49s | Val Time: 12.99s\n",
      "│ Total Epoch Time: 98.49s\n",
      "│ Best Val Acc: 0.4970 (Epoch 22)\n",
      "│ GPU Memory: 0.3GB / 3.2GB\n",
      "================================================================================\n",
      "\n",
      "📈 Epoch 24/50\n",
      "--------------------------------------------------\n",
      "🔄 Training Phase...\n"
     ]
    },
    {
     "name": "stderr",
     "output_type": "stream",
     "text": [
      "Training: 100%|██████████████████████████████| 162/162 [01:25<00:00,  1.90it/s, Loss=0.0081, Acc=0.9969]\n"
     ]
    },
    {
     "name": "stdout",
     "output_type": "stream",
     "text": [
      "✅ Training completed in 85.09s\n",
      "🔍 Validation Phase...\n"
     ]
    },
    {
     "name": "stderr",
     "output_type": "stream",
     "text": [
      "Validation: 100%|██████████████████████████████| 42/42 [00:12<00:00,  3.25it/s, Loss=2.8465, Acc=0.4767]\n"
     ]
    },
    {
     "name": "stdout",
     "output_type": "stream",
     "text": [
      "✅ Validation completed in 12.91s\n",
      "\n",
      "📊 Epoch 24 Summary:\n",
      "│ Train Loss: 0.0081 | Train Acc: 0.9969\n",
      "│ Val Loss:   2.8465 | Val Acc:   0.4767\n",
      "│ Train Time: 85.09s | Val Time: 12.91s\n",
      "│ Total Epoch Time: 98.00s\n",
      "│ Best Val Acc: 0.4970 (Epoch 22)\n",
      "│ GPU Memory: 0.3GB / 3.2GB\n",
      "================================================================================\n",
      "\n",
      "📈 Epoch 25/50\n",
      "--------------------------------------------------\n",
      "🔄 Training Phase...\n"
     ]
    },
    {
     "name": "stderr",
     "output_type": "stream",
     "text": [
      "Training: 100%|██████████████████████████████| 162/162 [01:25<00:00,  1.90it/s, Loss=0.0084, Acc=0.9967]\n"
     ]
    },
    {
     "name": "stdout",
     "output_type": "stream",
     "text": [
      "✅ Training completed in 85.09s\n",
      "🔍 Validation Phase...\n"
     ]
    },
    {
     "name": "stderr",
     "output_type": "stream",
     "text": [
      "Validation: 100%|██████████████████████████████| 42/42 [00:12<00:00,  3.34it/s, Loss=2.7554, Acc=0.4962]\n"
     ]
    },
    {
     "name": "stdout",
     "output_type": "stream",
     "text": [
      "✅ Validation completed in 12.59s\n",
      "\n",
      "📊 Epoch 25 Summary:\n",
      "│ Train Loss: 0.0084 | Train Acc: 0.9967\n",
      "│ Val Loss:   2.7554 | Val Acc:   0.4962\n",
      "│ Train Time: 85.09s | Val Time: 12.59s\n",
      "│ Total Epoch Time: 97.69s\n",
      "│ Best Val Acc: 0.4970 (Epoch 22)\n",
      "│ GPU Memory: 0.3GB / 3.2GB\n",
      "================================================================================\n",
      "\n",
      "📈 Epoch 26/50\n",
      "--------------------------------------------------\n",
      "🔄 Training Phase...\n"
     ]
    },
    {
     "name": "stderr",
     "output_type": "stream",
     "text": [
      "Training: 100%|██████████████████████████████| 162/162 [01:25<00:00,  1.90it/s, Loss=0.0075, Acc=0.9957]\n"
     ]
    },
    {
     "name": "stdout",
     "output_type": "stream",
     "text": [
      "✅ Training completed in 85.31s\n",
      "🔍 Validation Phase...\n"
     ]
    },
    {
     "name": "stderr",
     "output_type": "stream",
     "text": [
      "Validation: 100%|██████████████████████████████| 42/42 [00:12<00:00,  3.24it/s, Loss=2.6701, Acc=0.4872]\n"
     ]
    },
    {
     "name": "stdout",
     "output_type": "stream",
     "text": [
      "✅ Validation completed in 12.98s\n",
      "\n",
      "📊 Epoch 26 Summary:\n",
      "│ Train Loss: 0.0075 | Train Acc: 0.9957\n",
      "│ Val Loss:   2.6701 | Val Acc:   0.4872\n",
      "│ Train Time: 85.31s | Val Time: 12.98s\n",
      "│ Total Epoch Time: 98.29s\n",
      "│ Best Val Acc: 0.4970 (Epoch 22)\n",
      "│ GPU Memory: 0.3GB / 3.2GB\n",
      "================================================================================\n",
      "\n",
      "📈 Epoch 27/50\n",
      "--------------------------------------------------\n",
      "🔄 Training Phase...\n"
     ]
    },
    {
     "name": "stderr",
     "output_type": "stream",
     "text": [
      "Training: 100%|██████████████████████████████| 162/162 [01:25<00:00,  1.89it/s, Loss=0.0063, Acc=0.9961]\n"
     ]
    },
    {
     "name": "stdout",
     "output_type": "stream",
     "text": [
      "✅ Training completed in 85.72s\n",
      "🔍 Validation Phase...\n"
     ]
    },
    {
     "name": "stderr",
     "output_type": "stream",
     "text": [
      "Validation: 100%|██████████████████████████████| 42/42 [00:12<00:00,  3.30it/s, Loss=2.6249, Acc=0.4849]\n"
     ]
    },
    {
     "name": "stdout",
     "output_type": "stream",
     "text": [
      "✅ Validation completed in 12.73s\n",
      "\n",
      "📊 Epoch 27 Summary:\n",
      "│ Train Loss: 0.0063 | Train Acc: 0.9961\n",
      "│ Val Loss:   2.6249 | Val Acc:   0.4849\n",
      "│ Train Time: 85.72s | Val Time: 12.73s\n",
      "│ Total Epoch Time: 98.45s\n",
      "│ Best Val Acc: 0.4970 (Epoch 22)\n",
      "│ GPU Memory: 0.3GB / 3.2GB\n",
      "================================================================================\n",
      "\n",
      "📈 Epoch 28/50\n",
      "--------------------------------------------------\n",
      "🔄 Training Phase...\n"
     ]
    },
    {
     "name": "stderr",
     "output_type": "stream",
     "text": [
      "Training: 100%|██████████████████████████████| 162/162 [01:25<00:00,  1.89it/s, Loss=0.0070, Acc=0.9965]\n"
     ]
    },
    {
     "name": "stdout",
     "output_type": "stream",
     "text": [
      "✅ Training completed in 85.55s\n",
      "🔍 Validation Phase...\n"
     ]
    },
    {
     "name": "stderr",
     "output_type": "stream",
     "text": [
      "Validation: 100%|██████████████████████████████| 42/42 [00:12<00:00,  3.28it/s, Loss=2.6767, Acc=0.4827]\n"
     ]
    },
    {
     "name": "stdout",
     "output_type": "stream",
     "text": [
      "✅ Validation completed in 12.81s\n",
      "\n",
      "📊 Epoch 28 Summary:\n",
      "│ Train Loss: 0.0070 | Train Acc: 0.9965\n",
      "│ Val Loss:   2.6767 | Val Acc:   0.4827\n",
      "│ Train Time: 85.55s | Val Time: 12.81s\n",
      "│ Total Epoch Time: 98.36s\n",
      "│ Best Val Acc: 0.4970 (Epoch 22)\n",
      "│ GPU Memory: 0.3GB / 3.2GB\n",
      "================================================================================\n",
      "\n",
      "📈 Epoch 29/50\n",
      "--------------------------------------------------\n",
      "🔄 Training Phase...\n"
     ]
    },
    {
     "name": "stderr",
     "output_type": "stream",
     "text": [
      "Training: 100%|██████████████████████████████| 162/162 [01:25<00:00,  1.90it/s, Loss=0.0067, Acc=0.9959]\n"
     ]
    },
    {
     "name": "stdout",
     "output_type": "stream",
     "text": [
      "✅ Training completed in 85.41s\n",
      "🔍 Validation Phase...\n"
     ]
    },
    {
     "name": "stderr",
     "output_type": "stream",
     "text": [
      "Validation: 100%|██████████████████████████████| 42/42 [00:12<00:00,  3.24it/s, Loss=2.7244, Acc=0.4955]\n"
     ]
    },
    {
     "name": "stdout",
     "output_type": "stream",
     "text": [
      "✅ Validation completed in 12.95s\n",
      "\n",
      "📊 Epoch 29 Summary:\n",
      "│ Train Loss: 0.0067 | Train Acc: 0.9959\n",
      "│ Val Loss:   2.7244 | Val Acc:   0.4955\n",
      "│ Train Time: 85.41s | Val Time: 12.95s\n",
      "│ Total Epoch Time: 98.37s\n",
      "│ Best Val Acc: 0.4970 (Epoch 22)\n",
      "│ GPU Memory: 0.3GB / 3.2GB\n",
      "================================================================================\n",
      "\n",
      "📈 Epoch 30/50\n",
      "--------------------------------------------------\n",
      "🔄 Training Phase...\n"
     ]
    },
    {
     "name": "stderr",
     "output_type": "stream",
     "text": [
      "Training: 100%|██████████████████████████████| 162/162 [01:25<00:00,  1.89it/s, Loss=0.0115, Acc=0.9961]\n"
     ]
    },
    {
     "name": "stdout",
     "output_type": "stream",
     "text": [
      "✅ Training completed in 85.80s\n",
      "🔍 Validation Phase...\n"
     ]
    },
    {
     "name": "stderr",
     "output_type": "stream",
     "text": [
      "Validation: 100%|██████████████████████████████| 42/42 [00:13<00:00,  3.18it/s, Loss=2.8030, Acc=0.4857]\n"
     ]
    },
    {
     "name": "stdout",
     "output_type": "stream",
     "text": [
      "✅ Validation completed in 13.20s\n",
      "\n",
      "📊 Epoch 30 Summary:\n",
      "│ Train Loss: 0.0115 | Train Acc: 0.9961\n",
      "│ Val Loss:   2.8030 | Val Acc:   0.4857\n",
      "│ Train Time: 85.80s | Val Time: 13.20s\n",
      "│ Total Epoch Time: 99.01s\n",
      "│ Best Val Acc: 0.4970 (Epoch 22)\n",
      "│ GPU Memory: 0.3GB / 3.2GB\n",
      "================================================================================\n",
      "\n",
      "📈 Epoch 31/50\n",
      "--------------------------------------------------\n",
      "🔄 Training Phase...\n"
     ]
    },
    {
     "name": "stderr",
     "output_type": "stream",
     "text": [
      "Training: 100%|██████████████████████████████| 162/162 [01:25<00:00,  1.89it/s, Loss=0.0093, Acc=0.9965]\n"
     ]
    },
    {
     "name": "stdout",
     "output_type": "stream",
     "text": [
      "✅ Training completed in 85.63s\n",
      "🔍 Validation Phase...\n"
     ]
    },
    {
     "name": "stderr",
     "output_type": "stream",
     "text": [
      "Validation: 100%|██████████████████████████████| 42/42 [00:12<00:00,  3.30it/s, Loss=2.6821, Acc=0.5000]\n"
     ]
    },
    {
     "name": "stdout",
     "output_type": "stream",
     "text": [
      "✅ Validation completed in 12.72s\n",
      "🌟 New best ResNet50 model found! Validation Accuracy: 0.5000\n",
      "\n",
      "📊 Epoch 31 Summary:\n",
      "│ Train Loss: 0.0093 | Train Acc: 0.9965\n",
      "│ Val Loss:   2.6821 | Val Acc:   0.5000\n",
      "│ Train Time: 85.63s | Val Time: 12.72s\n",
      "│ Total Epoch Time: 98.36s\n",
      "│ Best Val Acc: 0.5000 (Epoch 31)\n",
      "│ GPU Memory: 0.3GB / 3.2GB\n",
      "================================================================================\n",
      "\n",
      "📈 Epoch 32/50\n",
      "--------------------------------------------------\n",
      "🔄 Training Phase...\n"
     ]
    },
    {
     "name": "stderr",
     "output_type": "stream",
     "text": [
      "Training: 100%|██████████████████████████████| 162/162 [01:26<00:00,  1.88it/s, Loss=0.0102, Acc=0.9957]\n"
     ]
    },
    {
     "name": "stdout",
     "output_type": "stream",
     "text": [
      "✅ Training completed in 86.04s\n",
      "🔍 Validation Phase...\n"
     ]
    },
    {
     "name": "stderr",
     "output_type": "stream",
     "text": [
      "Validation: 100%|██████████████████████████████| 42/42 [00:12<00:00,  3.28it/s, Loss=2.8961, Acc=0.4533]\n"
     ]
    },
    {
     "name": "stdout",
     "output_type": "stream",
     "text": [
      "✅ Validation completed in 12.82s\n",
      "\n",
      "📊 Epoch 32 Summary:\n",
      "│ Train Loss: 0.0102 | Train Acc: 0.9957\n",
      "│ Val Loss:   2.8961 | Val Acc:   0.4533\n",
      "│ Train Time: 86.04s | Val Time: 12.82s\n",
      "│ Total Epoch Time: 98.86s\n",
      "│ Best Val Acc: 0.5000 (Epoch 31)\n",
      "│ GPU Memory: 0.3GB / 3.2GB\n",
      "================================================================================\n",
      "\n",
      "📈 Epoch 33/50\n",
      "--------------------------------------------------\n",
      "🔄 Training Phase...\n"
     ]
    },
    {
     "name": "stderr",
     "output_type": "stream",
     "text": [
      "Training: 100%|██████████████████████████████| 162/162 [01:25<00:00,  1.89it/s, Loss=0.0088, Acc=0.9965]\n"
     ]
    },
    {
     "name": "stdout",
     "output_type": "stream",
     "text": [
      "✅ Training completed in 85.52s\n",
      "🔍 Validation Phase...\n"
     ]
    },
    {
     "name": "stderr",
     "output_type": "stream",
     "text": [
      "Validation: 100%|██████████████████████████████| 42/42 [00:12<00:00,  3.28it/s, Loss=2.5985, Acc=0.4910]\n"
     ]
    },
    {
     "name": "stdout",
     "output_type": "stream",
     "text": [
      "✅ Validation completed in 12.80s\n",
      "\n",
      "📊 Epoch 33 Summary:\n",
      "│ Train Loss: 0.0088 | Train Acc: 0.9965\n",
      "│ Val Loss:   2.5985 | Val Acc:   0.4910\n",
      "│ Train Time: 85.52s | Val Time: 12.80s\n",
      "│ Total Epoch Time: 98.33s\n",
      "│ Best Val Acc: 0.5000 (Epoch 31)\n",
      "│ GPU Memory: 0.3GB / 3.2GB\n",
      "================================================================================\n",
      "\n",
      "📈 Epoch 34/50\n",
      "--------------------------------------------------\n",
      "🔄 Training Phase...\n"
     ]
    },
    {
     "name": "stderr",
     "output_type": "stream",
     "text": [
      "Training: 100%|██████████████████████████████| 162/162 [01:25<00:00,  1.88it/s, Loss=0.0062, Acc=0.9975]\n"
     ]
    },
    {
     "name": "stdout",
     "output_type": "stream",
     "text": [
      "✅ Training completed in 85.99s\n",
      "🔍 Validation Phase...\n"
     ]
    },
    {
     "name": "stderr",
     "output_type": "stream",
     "text": [
      "Validation: 100%|██████████████████████████████| 42/42 [00:12<00:00,  3.29it/s, Loss=2.6671, Acc=0.4646]\n"
     ]
    },
    {
     "name": "stdout",
     "output_type": "stream",
     "text": [
      "✅ Validation completed in 12.78s\n",
      "\n",
      "📊 Epoch 34 Summary:\n",
      "│ Train Loss: 0.0062 | Train Acc: 0.9975\n",
      "│ Val Loss:   2.6671 | Val Acc:   0.4646\n",
      "│ Train Time: 85.99s | Val Time: 12.78s\n",
      "│ Total Epoch Time: 98.77s\n",
      "│ Best Val Acc: 0.5000 (Epoch 31)\n",
      "│ GPU Memory: 0.3GB / 3.2GB\n",
      "================================================================================\n",
      "\n",
      "📈 Epoch 35/50\n",
      "--------------------------------------------------\n",
      "🔄 Training Phase...\n"
     ]
    },
    {
     "name": "stderr",
     "output_type": "stream",
     "text": [
      "Training: 100%|██████████████████████████████| 162/162 [01:25<00:00,  1.89it/s, Loss=0.0068, Acc=0.9967]\n"
     ]
    },
    {
     "name": "stdout",
     "output_type": "stream",
     "text": [
      "✅ Training completed in 85.92s\n",
      "🔍 Validation Phase...\n"
     ]
    },
    {
     "name": "stderr",
     "output_type": "stream",
     "text": [
      "Validation: 100%|██████████████████████████████| 42/42 [00:13<00:00,  3.21it/s, Loss=2.5174, Acc=0.4729]\n"
     ]
    },
    {
     "name": "stdout",
     "output_type": "stream",
     "text": [
      "✅ Validation completed in 13.11s\n",
      "\n",
      "📊 Epoch 35 Summary:\n",
      "│ Train Loss: 0.0068 | Train Acc: 0.9967\n",
      "│ Val Loss:   2.5174 | Val Acc:   0.4729\n",
      "│ Train Time: 85.92s | Val Time: 13.11s\n",
      "│ Total Epoch Time: 99.02s\n",
      "│ Best Val Acc: 0.5000 (Epoch 31)\n",
      "│ GPU Memory: 0.3GB / 3.2GB\n",
      "================================================================================\n",
      "\n",
      "📈 Epoch 36/50\n",
      "--------------------------------------------------\n",
      "🔄 Training Phase...\n"
     ]
    },
    {
     "name": "stderr",
     "output_type": "stream",
     "text": [
      "Training: 100%|██████████████████████████████| 162/162 [01:25<00:00,  1.90it/s, Loss=0.0073, Acc=0.9959]\n"
     ]
    },
    {
     "name": "stdout",
     "output_type": "stream",
     "text": [
      "✅ Training completed in 85.24s\n",
      "🔍 Validation Phase...\n"
     ]
    },
    {
     "name": "stderr",
     "output_type": "stream",
     "text": [
      "Validation: 100%|██████████████████████████████| 42/42 [00:12<00:00,  3.29it/s, Loss=2.5878, Acc=0.4616]\n"
     ]
    },
    {
     "name": "stdout",
     "output_type": "stream",
     "text": [
      "✅ Validation completed in 12.77s\n",
      "\n",
      "📊 Epoch 36 Summary:\n",
      "│ Train Loss: 0.0073 | Train Acc: 0.9959\n",
      "│ Val Loss:   2.5878 | Val Acc:   0.4616\n",
      "│ Train Time: 85.24s | Val Time: 12.77s\n",
      "│ Total Epoch Time: 98.01s\n",
      "│ Best Val Acc: 0.5000 (Epoch 31)\n",
      "│ GPU Memory: 0.3GB / 3.2GB\n",
      "================================================================================\n",
      "\n",
      "📈 Epoch 37/50\n",
      "--------------------------------------------------\n",
      "🔄 Training Phase...\n"
     ]
    },
    {
     "name": "stderr",
     "output_type": "stream",
     "text": [
      "Training: 100%|██████████████████████████████| 162/162 [01:25<00:00,  1.90it/s, Loss=0.0064, Acc=0.9965]\n"
     ]
    },
    {
     "name": "stdout",
     "output_type": "stream",
     "text": [
      "✅ Training completed in 85.42s\n",
      "🔍 Validation Phase...\n"
     ]
    },
    {
     "name": "stderr",
     "output_type": "stream",
     "text": [
      "Validation: 100%|██████████████████████████████| 42/42 [00:12<00:00,  3.26it/s, Loss=2.5135, Acc=0.4616]\n"
     ]
    },
    {
     "name": "stdout",
     "output_type": "stream",
     "text": [
      "✅ Validation completed in 12.90s\n",
      "\n",
      "📊 Epoch 37 Summary:\n",
      "│ Train Loss: 0.0064 | Train Acc: 0.9965\n",
      "│ Val Loss:   2.5135 | Val Acc:   0.4616\n",
      "│ Train Time: 85.42s | Val Time: 12.90s\n",
      "│ Total Epoch Time: 98.32s\n",
      "│ Best Val Acc: 0.5000 (Epoch 31)\n",
      "│ GPU Memory: 0.3GB / 3.2GB\n",
      "================================================================================\n",
      "\n",
      "📈 Epoch 38/50\n",
      "--------------------------------------------------\n",
      "🔄 Training Phase...\n"
     ]
    },
    {
     "name": "stderr",
     "output_type": "stream",
     "text": [
      "Training: 100%|██████████████████████████████| 162/162 [01:25<00:00,  1.89it/s, Loss=0.0061, Acc=0.9975]\n"
     ]
    },
    {
     "name": "stdout",
     "output_type": "stream",
     "text": [
      "✅ Training completed in 85.54s\n",
      "🔍 Validation Phase...\n"
     ]
    },
    {
     "name": "stderr",
     "output_type": "stream",
     "text": [
      "Validation: 100%|██████████████████████████████| 42/42 [00:12<00:00,  3.29it/s, Loss=2.5677, Acc=0.4578]\n"
     ]
    },
    {
     "name": "stdout",
     "output_type": "stream",
     "text": [
      "✅ Validation completed in 12.76s\n",
      "\n",
      "📊 Epoch 38 Summary:\n",
      "│ Train Loss: 0.0061 | Train Acc: 0.9975\n",
      "│ Val Loss:   2.5677 | Val Acc:   0.4578\n",
      "│ Train Time: 85.54s | Val Time: 12.76s\n",
      "│ Total Epoch Time: 98.30s\n",
      "│ Best Val Acc: 0.5000 (Epoch 31)\n",
      "│ GPU Memory: 0.3GB / 3.2GB\n",
      "================================================================================\n",
      "\n",
      "📈 Epoch 39/50\n",
      "--------------------------------------------------\n",
      "🔄 Training Phase...\n"
     ]
    },
    {
     "name": "stderr",
     "output_type": "stream",
     "text": [
      "Training: 100%|██████████████████████████████| 162/162 [01:25<00:00,  1.89it/s, Loss=0.0059, Acc=0.9967]\n"
     ]
    },
    {
     "name": "stdout",
     "output_type": "stream",
     "text": [
      "✅ Training completed in 85.60s\n",
      "🔍 Validation Phase...\n"
     ]
    },
    {
     "name": "stderr",
     "output_type": "stream",
     "text": [
      "Validation: 100%|██████████████████████████████| 42/42 [00:12<00:00,  3.31it/s, Loss=2.5600, Acc=0.4887]\n"
     ]
    },
    {
     "name": "stdout",
     "output_type": "stream",
     "text": [
      "✅ Validation completed in 12.67s\n",
      "\n",
      "📊 Epoch 39 Summary:\n",
      "│ Train Loss: 0.0059 | Train Acc: 0.9967\n",
      "│ Val Loss:   2.5600 | Val Acc:   0.4887\n",
      "│ Train Time: 85.60s | Val Time: 12.67s\n",
      "│ Total Epoch Time: 98.28s\n",
      "│ Best Val Acc: 0.5000 (Epoch 31)\n",
      "│ GPU Memory: 0.3GB / 3.2GB\n",
      "================================================================================\n",
      "\n",
      "📈 Epoch 40/50\n",
      "--------------------------------------------------\n",
      "🔄 Training Phase...\n"
     ]
    },
    {
     "name": "stderr",
     "output_type": "stream",
     "text": [
      "Training: 100%|██████████████████████████████| 162/162 [01:25<00:00,  1.89it/s, Loss=0.0063, Acc=0.9965]\n"
     ]
    },
    {
     "name": "stdout",
     "output_type": "stream",
     "text": [
      "✅ Training completed in 85.54s\n",
      "🔍 Validation Phase...\n"
     ]
    },
    {
     "name": "stderr",
     "output_type": "stream",
     "text": [
      "Validation: 100%|██████████████████████████████| 42/42 [00:12<00:00,  3.27it/s, Loss=2.4896, Acc=0.4759]\n"
     ]
    },
    {
     "name": "stdout",
     "output_type": "stream",
     "text": [
      "✅ Validation completed in 12.84s\n",
      "\n",
      "📊 Epoch 40 Summary:\n",
      "│ Train Loss: 0.0063 | Train Acc: 0.9965\n",
      "│ Val Loss:   2.4896 | Val Acc:   0.4759\n",
      "│ Train Time: 85.54s | Val Time: 12.84s\n",
      "│ Total Epoch Time: 98.38s\n",
      "│ Best Val Acc: 0.5000 (Epoch 31)\n",
      "│ GPU Memory: 0.3GB / 3.2GB\n",
      "================================================================================\n",
      "\n",
      "📈 Epoch 41/50\n",
      "--------------------------------------------------\n",
      "🔄 Training Phase...\n"
     ]
    },
    {
     "name": "stderr",
     "output_type": "stream",
     "text": [
      "Training: 100%|██████████████████████████████| 162/162 [01:25<00:00,  1.89it/s, Loss=0.0068, Acc=0.9963]\n"
     ]
    },
    {
     "name": "stdout",
     "output_type": "stream",
     "text": [
      "✅ Training completed in 85.83s\n",
      "🔍 Validation Phase...\n"
     ]
    },
    {
     "name": "stderr",
     "output_type": "stream",
     "text": [
      "Validation: 100%|██████████████████████████████| 42/42 [00:12<00:00,  3.25it/s, Loss=2.7403, Acc=0.4691]\n"
     ]
    },
    {
     "name": "stdout",
     "output_type": "stream",
     "text": [
      "✅ Validation completed in 12.92s\n",
      "\n",
      "📊 Epoch 41 Summary:\n",
      "│ Train Loss: 0.0068 | Train Acc: 0.9963\n",
      "│ Val Loss:   2.7403 | Val Acc:   0.4691\n",
      "│ Train Time: 85.83s | Val Time: 12.92s\n",
      "│ Total Epoch Time: 98.75s\n",
      "│ Best Val Acc: 0.5000 (Epoch 31)\n",
      "│ GPU Memory: 0.3GB / 3.2GB\n",
      "================================================================================\n",
      "\n",
      "📈 Epoch 42/50\n",
      "--------------------------------------------------\n",
      "🔄 Training Phase...\n"
     ]
    },
    {
     "name": "stderr",
     "output_type": "stream",
     "text": [
      "Training: 100%|██████████████████████████████| 162/162 [01:25<00:00,  1.90it/s, Loss=0.0068, Acc=0.9961]\n"
     ]
    },
    {
     "name": "stdout",
     "output_type": "stream",
     "text": [
      "✅ Training completed in 85.32s\n",
      "🔍 Validation Phase...\n"
     ]
    },
    {
     "name": "stderr",
     "output_type": "stream",
     "text": [
      "Validation: 100%|██████████████████████████████| 42/42 [00:12<00:00,  3.30it/s, Loss=2.5144, Acc=0.4774]\n"
     ]
    },
    {
     "name": "stdout",
     "output_type": "stream",
     "text": [
      "✅ Validation completed in 12.73s\n",
      "\n",
      "📊 Epoch 42 Summary:\n",
      "│ Train Loss: 0.0068 | Train Acc: 0.9961\n",
      "│ Val Loss:   2.5144 | Val Acc:   0.4774\n",
      "│ Train Time: 85.32s | Val Time: 12.73s\n",
      "│ Total Epoch Time: 98.05s\n",
      "│ Best Val Acc: 0.5000 (Epoch 31)\n",
      "│ GPU Memory: 0.3GB / 3.2GB\n",
      "================================================================================\n",
      "\n",
      "📈 Epoch 43/50\n",
      "--------------------------------------------------\n",
      "🔄 Training Phase...\n"
     ]
    },
    {
     "name": "stderr",
     "output_type": "stream",
     "text": [
      "Training: 100%|██████████████████████████████| 162/162 [01:25<00:00,  1.90it/s, Loss=0.0072, Acc=0.9967]\n"
     ]
    },
    {
     "name": "stdout",
     "output_type": "stream",
     "text": [
      "✅ Training completed in 85.36s\n",
      "🔍 Validation Phase...\n"
     ]
    },
    {
     "name": "stderr",
     "output_type": "stream",
     "text": [
      "Validation: 100%|██████████████████████████████| 42/42 [00:12<00:00,  3.28it/s, Loss=2.6623, Acc=0.4744]\n"
     ]
    },
    {
     "name": "stdout",
     "output_type": "stream",
     "text": [
      "✅ Validation completed in 12.81s\n",
      "\n",
      "📊 Epoch 43 Summary:\n",
      "│ Train Loss: 0.0072 | Train Acc: 0.9967\n",
      "│ Val Loss:   2.6623 | Val Acc:   0.4744\n",
      "│ Train Time: 85.36s | Val Time: 12.81s\n",
      "│ Total Epoch Time: 98.17s\n",
      "│ Best Val Acc: 0.5000 (Epoch 31)\n",
      "│ GPU Memory: 0.3GB / 3.2GB\n",
      "================================================================================\n",
      "\n",
      "📈 Epoch 44/50\n",
      "--------------------------------------------------\n",
      "🔄 Training Phase...\n"
     ]
    },
    {
     "name": "stderr",
     "output_type": "stream",
     "text": [
      "Training: 100%|██████████████████████████████| 162/162 [01:25<00:00,  1.90it/s, Loss=0.0067, Acc=0.9967]\n"
     ]
    },
    {
     "name": "stdout",
     "output_type": "stream",
     "text": [
      "✅ Training completed in 85.29s\n",
      "🔍 Validation Phase...\n"
     ]
    },
    {
     "name": "stderr",
     "output_type": "stream",
     "text": [
      "Validation: 100%|██████████████████████████████| 42/42 [00:12<00:00,  3.29it/s, Loss=2.5521, Acc=0.4819]\n"
     ]
    },
    {
     "name": "stdout",
     "output_type": "stream",
     "text": [
      "✅ Validation completed in 12.76s\n",
      "\n",
      "📊 Epoch 44 Summary:\n",
      "│ Train Loss: 0.0067 | Train Acc: 0.9967\n",
      "│ Val Loss:   2.5521 | Val Acc:   0.4819\n",
      "│ Train Time: 85.29s | Val Time: 12.76s\n",
      "│ Total Epoch Time: 98.06s\n",
      "│ Best Val Acc: 0.5000 (Epoch 31)\n",
      "│ GPU Memory: 0.3GB / 3.2GB\n",
      "================================================================================\n",
      "\n",
      "📈 Epoch 45/50\n",
      "--------------------------------------------------\n",
      "🔄 Training Phase...\n"
     ]
    },
    {
     "name": "stderr",
     "output_type": "stream",
     "text": [
      "Training: 100%|██████████████████████████████| 162/162 [01:25<00:00,  1.89it/s, Loss=0.0054, Acc=0.9967]\n"
     ]
    },
    {
     "name": "stdout",
     "output_type": "stream",
     "text": [
      "✅ Training completed in 85.69s\n",
      "🔍 Validation Phase...\n"
     ]
    },
    {
     "name": "stderr",
     "output_type": "stream",
     "text": [
      "Validation: 100%|██████████████████████████████| 42/42 [00:12<00:00,  3.28it/s, Loss=2.4663, Acc=0.4857]\n"
     ]
    },
    {
     "name": "stdout",
     "output_type": "stream",
     "text": [
      "✅ Validation completed in 12.82s\n",
      "\n",
      "📊 Epoch 45 Summary:\n",
      "│ Train Loss: 0.0054 | Train Acc: 0.9967\n",
      "│ Val Loss:   2.4663 | Val Acc:   0.4857\n",
      "│ Train Time: 85.69s | Val Time: 12.82s\n",
      "│ Total Epoch Time: 98.51s\n",
      "│ Best Val Acc: 0.5000 (Epoch 31)\n",
      "│ GPU Memory: 0.3GB / 3.2GB\n",
      "================================================================================\n",
      "\n",
      "📈 Epoch 46/50\n",
      "--------------------------------------------------\n",
      "🔄 Training Phase...\n"
     ]
    },
    {
     "name": "stderr",
     "output_type": "stream",
     "text": [
      "Training: 100%|██████████████████████████████| 162/162 [01:25<00:00,  1.89it/s, Loss=0.0071, Acc=0.9965]\n"
     ]
    },
    {
     "name": "stdout",
     "output_type": "stream",
     "text": [
      "✅ Training completed in 85.52s\n",
      "🔍 Validation Phase...\n"
     ]
    },
    {
     "name": "stderr",
     "output_type": "stream",
     "text": [
      "Validation: 100%|██████████████████████████████| 42/42 [00:12<00:00,  3.29it/s, Loss=2.3950, Acc=0.4706]\n"
     ]
    },
    {
     "name": "stdout",
     "output_type": "stream",
     "text": [
      "✅ Validation completed in 12.77s\n",
      "\n",
      "📊 Epoch 46 Summary:\n",
      "│ Train Loss: 0.0071 | Train Acc: 0.9965\n",
      "│ Val Loss:   2.3950 | Val Acc:   0.4706\n",
      "│ Train Time: 85.52s | Val Time: 12.77s\n",
      "│ Total Epoch Time: 98.29s\n",
      "│ Best Val Acc: 0.5000 (Epoch 31)\n",
      "│ GPU Memory: 0.3GB / 3.2GB\n",
      "================================================================================\n",
      "\n",
      "📈 Epoch 47/50\n",
      "--------------------------------------------------\n",
      "🔄 Training Phase...\n"
     ]
    },
    {
     "name": "stderr",
     "output_type": "stream",
     "text": [
      "Training: 100%|██████████████████████████████| 162/162 [01:25<00:00,  1.89it/s, Loss=0.0073, Acc=0.9965]\n"
     ]
    },
    {
     "name": "stdout",
     "output_type": "stream",
     "text": [
      "✅ Training completed in 85.69s\n",
      "🔍 Validation Phase...\n"
     ]
    },
    {
     "name": "stderr",
     "output_type": "stream",
     "text": [
      "Validation: 100%|██████████████████████████████| 42/42 [00:12<00:00,  3.29it/s, Loss=2.4270, Acc=0.4834]\n"
     ]
    },
    {
     "name": "stdout",
     "output_type": "stream",
     "text": [
      "✅ Validation completed in 12.79s\n",
      "\n",
      "📊 Epoch 47 Summary:\n",
      "│ Train Loss: 0.0073 | Train Acc: 0.9965\n",
      "│ Val Loss:   2.4270 | Val Acc:   0.4834\n",
      "│ Train Time: 85.69s | Val Time: 12.79s\n",
      "│ Total Epoch Time: 98.48s\n",
      "│ Best Val Acc: 0.5000 (Epoch 31)\n",
      "│ GPU Memory: 0.3GB / 3.2GB\n",
      "================================================================================\n",
      "\n",
      "📈 Epoch 48/50\n",
      "--------------------------------------------------\n",
      "🔄 Training Phase...\n"
     ]
    },
    {
     "name": "stderr",
     "output_type": "stream",
     "text": [
      "Training: 100%|██████████████████████████████| 162/162 [01:26<00:00,  1.88it/s, Loss=0.0058, Acc=0.9973]\n"
     ]
    },
    {
     "name": "stdout",
     "output_type": "stream",
     "text": [
      "✅ Training completed in 86.10s\n",
      "🔍 Validation Phase...\n"
     ]
    },
    {
     "name": "stderr",
     "output_type": "stream",
     "text": [
      "Validation: 100%|██████████████████████████████| 42/42 [00:12<00:00,  3.29it/s, Loss=2.4436, Acc=0.4797]\n"
     ]
    },
    {
     "name": "stdout",
     "output_type": "stream",
     "text": [
      "✅ Validation completed in 12.76s\n",
      "\n",
      "📊 Epoch 48 Summary:\n",
      "│ Train Loss: 0.0058 | Train Acc: 0.9973\n",
      "│ Val Loss:   2.4436 | Val Acc:   0.4797\n",
      "│ Train Time: 86.10s | Val Time: 12.76s\n",
      "│ Total Epoch Time: 98.87s\n",
      "│ Best Val Acc: 0.5000 (Epoch 31)\n",
      "│ GPU Memory: 0.3GB / 3.2GB\n",
      "================================================================================\n",
      "\n",
      "📈 Epoch 49/50\n",
      "--------------------------------------------------\n",
      "🔄 Training Phase...\n"
     ]
    },
    {
     "name": "stderr",
     "output_type": "stream",
     "text": [
      "Training: 100%|██████████████████████████████| 162/162 [01:25<00:00,  1.89it/s, Loss=0.0294, Acc=0.9899]\n"
     ]
    },
    {
     "name": "stdout",
     "output_type": "stream",
     "text": [
      "✅ Training completed in 85.86s\n",
      "🔍 Validation Phase...\n"
     ]
    },
    {
     "name": "stderr",
     "output_type": "stream",
     "text": [
      "Validation: 100%|██████████████████████████████| 42/42 [00:12<00:00,  3.26it/s, Loss=4.4865, Acc=0.3042]\n"
     ]
    },
    {
     "name": "stdout",
     "output_type": "stream",
     "text": [
      "✅ Validation completed in 12.90s\n",
      "\n",
      "📊 Epoch 49 Summary:\n",
      "│ Train Loss: 0.0294 | Train Acc: 0.9899\n",
      "│ Val Loss:   4.4865 | Val Acc:   0.3042\n",
      "│ Train Time: 85.86s | Val Time: 12.90s\n",
      "│ Total Epoch Time: 98.76s\n",
      "│ Best Val Acc: 0.5000 (Epoch 31)\n",
      "│ GPU Memory: 0.3GB / 3.2GB\n",
      "================================================================================\n",
      "\n",
      "📈 Epoch 50/50\n",
      "--------------------------------------------------\n",
      "🔄 Training Phase...\n"
     ]
    },
    {
     "name": "stderr",
     "output_type": "stream",
     "text": [
      "Training: 100%|██████████████████████████████| 162/162 [01:25<00:00,  1.89it/s, Loss=0.5300, Acc=0.8289]\n"
     ]
    },
    {
     "name": "stdout",
     "output_type": "stream",
     "text": [
      "✅ Training completed in 85.73s\n",
      "🔍 Validation Phase...\n"
     ]
    },
    {
     "name": "stderr",
     "output_type": "stream",
     "text": [
      "Validation: 100%|██████████████████████████████| 42/42 [00:12<00:00,  3.30it/s, Loss=3.0032, Acc=0.3712]\n"
     ]
    },
    {
     "name": "stdout",
     "output_type": "stream",
     "text": [
      "✅ Validation completed in 12.71s\n",
      "\n",
      "📊 Epoch 50 Summary:\n",
      "│ Train Loss: 0.5300 | Train Acc: 0.8289\n",
      "│ Val Loss:   3.0032 | Val Acc:   0.3712\n",
      "│ Train Time: 85.73s | Val Time: 12.71s\n",
      "│ Total Epoch Time: 98.45s\n",
      "│ Best Val Acc: 0.5000 (Epoch 31)\n",
      "│ GPU Memory: 0.3GB / 3.2GB\n",
      "================================================================================\n",
      "\n",
      "💾 Best ResNet50 model saved as 'best_resnet50_model.pth'\n",
      "📊 Best model stats:\n",
      "│ Best Epoch: 31\n",
      "│ Best Val Acc: 0.5000\n",
      "\n",
      "💾 ResNet50 training history saved to 'resnet50_training_history.csv'\n",
      "\n",
      "🎉 ResNet50 Training Complete!\n",
      "Total Training Time: 4942.47s (82.4 minutes)\n",
      "Average Epoch Time: 98.85s\n",
      "\n",
      "⏱️  Epoch Timing Breakdown:\n",
      "│ Epoch 1: 128.34s\n",
      "│ Epoch 2: 94.01s\n",
      "│ Epoch 3: 98.14s\n",
      "│ Epoch 4: 98.25s\n",
      "│ Epoch 5: 98.11s\n",
      "│ Epoch 6: 99.73s\n",
      "│ Epoch 7: 99.12s\n",
      "│ Epoch 8: 98.32s\n",
      "│ Epoch 9: 98.38s\n",
      "│ Epoch 10: 98.27s\n",
      "│ Epoch 11: 98.10s\n",
      "│ Epoch 12: 97.99s\n",
      "│ Epoch 13: 97.71s\n",
      "│ Epoch 14: 97.79s\n",
      "│ Epoch 15: 98.26s\n",
      "│ Epoch 16: 98.30s\n",
      "│ Epoch 17: 98.15s\n",
      "│ Epoch 18: 98.34s\n",
      "│ Epoch 19: 97.81s\n",
      "│ Epoch 20: 97.81s\n",
      "│ Epoch 21: 97.75s\n",
      "│ Epoch 22: 98.08s\n",
      "│ Epoch 23: 98.49s\n",
      "│ Epoch 24: 98.00s\n",
      "│ Epoch 25: 97.69s\n",
      "│ Epoch 26: 98.29s\n",
      "│ Epoch 27: 98.45s\n",
      "│ Epoch 28: 98.36s\n",
      "│ Epoch 29: 98.37s\n",
      "│ Epoch 30: 99.01s\n",
      "│ Epoch 31: 98.36s\n",
      "│ Epoch 32: 98.86s\n",
      "│ Epoch 33: 98.33s\n",
      "│ Epoch 34: 98.77s\n",
      "│ Epoch 35: 99.02s\n",
      "│ Epoch 36: 98.01s\n",
      "│ Epoch 37: 98.32s\n",
      "│ Epoch 38: 98.30s\n",
      "│ Epoch 39: 98.28s\n",
      "│ Epoch 40: 98.38s\n",
      "│ Epoch 41: 98.75s\n",
      "│ Epoch 42: 98.05s\n",
      "│ Epoch 43: 98.17s\n",
      "│ Epoch 44: 98.06s\n",
      "│ Epoch 45: 98.51s\n",
      "│ Epoch 46: 98.29s\n",
      "│ Epoch 47: 98.48s\n",
      "│ Epoch 48: 98.87s\n",
      "│ Epoch 49: 98.76s\n",
      "│ Epoch 50: 98.45s\n",
      "\n",
      "🧪 Loading Best ResNet50 Model for Testing...\n",
      "✅ Best ResNet50 model from epoch 31 loaded successfully!\n"
     ]
    },
    {
     "name": "stderr",
     "output_type": "stream",
     "text": [
      "Testing ResNet50: 100%|██████████████████████████████| 52/52 [00:18<00:00,  2.80it/s]\n"
     ]
    },
    {
     "name": "stdout",
     "output_type": "stream",
     "text": [
      "✅ ResNet50 Testing completed in 18.55s\n",
      "\n",
      "📋 ResNet50 Classification Report:\n",
      "              precision    recall  f1-score   support\n",
      "\n",
      "         Cut     0.3579    0.5225    0.4248       400\n",
      "       Drive     0.2537    0.4048    0.3119       336\n",
      "    Leg Shot     0.4928    0.2500    0.3317       136\n",
      "    PullShot     0.6750    0.1406    0.2328       192\n",
      "       Scoop     0.5152    0.4694    0.4913       360\n",
      "    Straight     0.2667    0.1111    0.1569       144\n",
      "       Sweep     0.4103    0.1818    0.2520        88\n",
      "\n",
      "    accuracy                         0.3665      1656\n",
      "   macro avg     0.4245    0.2972    0.3145      1656\n",
      "weighted avg     0.4137    0.3665    0.3540      1656\n",
      "\n",
      "🎯 ResNet50 Test Accuracy: 0.3665\n",
      "\n",
      "📊 ResNet50 Model Performance Summary:\n",
      "│ Best Validation Acc:  0.5000 (Epoch 31)\n",
      "│ Final Test Accuracy:  0.3665\n",
      "│ Val-Test Gap:         0.1335\n"
     ]
    },
    {
     "data": {
      "image/png": "[encoded data removed]",
      "text/plain": [
       "<Figure size 800x600 with 2 Axes>"
      ]
     },
     "metadata": {},
     "output_type": "display_data"
    },
    {
     "data": {
      "image/png": "[encoded data removed]",
      "text/plain": [
       "<Figure size 2000x500 with 4 Axes>"
      ]
     },
     "metadata": {},
     "output_type": "display_data"
    },
    {
     "name": "stdout",
     "output_type": "stream",
     "text": [
      "\n",
      "⏰ ResNet50 Final Timing Summary:\n",
      "│ Total Training: 4942.47s\n",
      "│ Average per Epoch: 98.85s\n",
      "│ Testing Time: 18.55s\n",
      "│ Total Runtime: 4961.02s\n",
      "\n",
      "💾 ResNet50 Files saved:\n",
      "│ best_resnet50_model.pth - Best validation accuracy model\n",
      "│ resnet50_training_history.csv - Training metrics for later plotting\n",
      "\n",
      "🏗️  ResNet50 Architecture Summary:\n",
      "│ Total Parameters: 23,522,375\n",
      "│ Trainable Parameters: 23,522,375\n",
      "│ Model Size: 89.73 MB\n",
      "│ Input Size: 224x224x3\n",
      "│ Output Classes: 7\n",
      "│ Architecture: ResNet50\n",
      "│ Block Type: Bottleneck\n",
      "│ Layers: [3, 4, 6, 3]\n",
      "│ Skip Connections: Yes\n",
      "│ Batch Normalization: Yes\n",
      "│ Activation: ReLU\n",
      "│ Zero Init Residual: Yes\n"
     ]
    }
   ],
   "source": [
    "# -----------------------------\n",
    "# 4. Training Loop with Best Model Saving (Val Accuracy) - ResNet50\n",
    "# -----------------------------\n",
    "train_losses, val_losses = [], []\n",
    "train_accs, val_accs = [], []\n",
    "epoch_times = []\n",
    "epochs = 50\n",
    "\n",
    "# Initialize best model tracking\n",
    "best_val_acc = 0.0\n",
    "best_model_state = None\n",
    "best_epoch = 0\n",
    "\n",
    "print(f\"\\n🚀 Starting ResNet50 Training for {epochs} epochs...\")\n",
    "print(\"=\" * 80)\n",
    "\n",
    "total_start_time = time.time()\n",
    "\n",
    "for epoch in range(epochs):\n",
    "    epoch_start_time = time.time()\n",
    "    \n",
    "    print(f\"\\n📈 Epoch {epoch+1}/{epochs}\")\n",
    "    print(\"-\" * 50)\n",
    "    \n",
    "    # Training Phase\n",
    "    print(\"🔄 Training Phase...\")\n",
    "    model.train()\n",
    "    running_loss, correct, total = 0, 0, 0\n",
    "    \n",
    "    train_pbar = tqdm(train_loader, desc=f\"Training\", \n",
    "                     bar_format='{l_bar}{bar:30}{r_bar}{bar:-30b}')\n",
    "    \n",
    "    train_phase_start = time.time()\n",
    "    \n",
    "    for batch_idx, (imgs, labels) in enumerate(train_pbar):\n",
    "        imgs, labels = imgs.to(device), labels.to(device)\n",
    "        \n",
    "        optimizer.zero_grad()\n",
    "        outputs = model(imgs)\n",
    "        loss = criterion(outputs, labels)\n",
    "        loss.backward()\n",
    "        optimizer.step()\n",
    "        \n",
    "        running_loss += loss.item()\n",
    "        _, preds = torch.max(outputs, 1)\n",
    "        correct += (preds == labels).sum().item()\n",
    "        total += labels.size(0)\n",
    "        \n",
    "        current_acc = correct / total\n",
    "        train_pbar.set_postfix({\n",
    "            'Loss': f'{running_loss/(batch_idx+1):.4f}',\n",
    "            'Acc': f'{current_acc:.4f}'\n",
    "        })\n",
    "        \n",
    "        if device.type == 'cuda' and batch_idx % 10 == 0:\n",
    "            gpu_memory = torch.cuda.memory_allocated() / 1024**3\n",
    "            train_pbar.set_postfix({\n",
    "                'Loss': f'{running_loss/(batch_idx+1):.4f}',\n",
    "                'Acc': f'{current_acc:.4f}',\n",
    "                'GPU': f'{gpu_memory:.1f}GB'\n",
    "            })\n",
    "    \n",
    "    train_phase_time = time.time() - train_phase_start\n",
    "    train_loss = running_loss / len(train_loader)\n",
    "    train_acc = correct / total\n",
    "    train_losses.append(train_loss)\n",
    "    train_accs.append(train_acc)\n",
    "    \n",
    "    print(f\"✅ Training completed in {train_phase_time:.2f}s\")\n",
    "    \n",
    "    # Validation Phase\n",
    "    print(\"🔍 Validation Phase...\")\n",
    "    model.eval()\n",
    "    running_loss, correct, total = 0, 0, 0\n",
    "    \n",
    "    val_phase_start = time.time()\n",
    "    val_pbar = tqdm(val_loader, desc=f\"Validation\", \n",
    "                   bar_format='{l_bar}{bar:30}{r_bar}{bar:-30b}')\n",
    "    \n",
    "    with torch.no_grad():\n",
    "        for batch_idx, (imgs, labels) in enumerate(val_pbar):\n",
    "            imgs, labels = imgs.to(device), labels.to(device)\n",
    "            outputs = model(imgs)\n",
    "            loss = criterion(outputs, labels)\n",
    "            \n",
    "            running_loss += loss.item()\n",
    "            _, preds = torch.max(outputs, 1)\n",
    "            correct += (preds == labels).sum().item()\n",
    "            total += labels.size(0)\n",
    "            \n",
    "            current_acc = correct / total\n",
    "            val_pbar.set_postfix({\n",
    "                'Loss': f'{running_loss/(batch_idx+1):.4f}',\n",
    "                'Acc': f'{current_acc:.4f}'\n",
    "            })\n",
    "    \n",
    "    val_phase_time = time.time() - val_phase_start\n",
    "    val_loss = running_loss / len(val_loader)\n",
    "    val_acc = correct / total\n",
    "    val_losses.append(val_loss)\n",
    "    val_accs.append(val_acc)\n",
    "    \n",
    "    print(f\"✅ Validation completed in {val_phase_time:.2f}s\")\n",
    "    \n",
    "    # Check if this is the best model so far based on val_acc\n",
    "    is_best = val_acc > best_val_acc\n",
    "    if is_best:\n",
    "        best_val_acc = val_acc\n",
    "        best_epoch = epoch + 1\n",
    "        best_model_state = model.state_dict().copy()\n",
    "        print(f\"🌟 New best ResNet50 model found! Validation Accuracy: {val_acc:.4f}\")\n",
    "    \n",
    "    # Epoch Summary\n",
    "    epoch_time = time.time() - epoch_start_time\n",
    "    epoch_times.append(epoch_time)\n",
    "    \n",
    "    print(f\"\\n📊 Epoch {epoch+1} Summary:\")\n",
    "    print(f\"│ Train Loss: {train_loss:.4f} | Train Acc: {train_acc:.4f}\")\n",
    "    print(f\"│ Val Loss:   {val_loss:.4f} | Val Acc:   {val_acc:.4f}\")\n",
    "    print(f\"│ Train Time: {train_phase_time:.2f}s | Val Time: {val_phase_time:.2f}s\")\n",
    "    print(f\"│ Total Epoch Time: {epoch_time:.2f}s\")\n",
    "    print(f\"│ Best Val Acc: {best_val_acc:.4f} (Epoch {best_epoch})\")\n",
    "    \n",
    "    if device.type == 'cuda':\n",
    "        print(f\"│ GPU Memory: {torch.cuda.memory_allocated()/1024**3:.1f}GB / {torch.cuda.memory_reserved()/1024**3:.1f}GB\")\n",
    "    \n",
    "    print(\"=\" * 80)\n",
    "\n",
    "total_training_time = time.time() - total_start_time\n",
    "\n",
    "# Save the best model\n",
    "if best_model_state is not None:\n",
    "    torch.save(best_model_state, 'best_resnet50_model.pth')\n",
    "    print(f\"\\n💾 Best ResNet50 model saved as 'best_resnet50_model.pth'\")\n",
    "    print(f\"📊 Best model stats:\")\n",
    "    print(f\"│ Best Epoch: {best_epoch}\")\n",
    "    print(f\"│ Best Val Acc: {best_val_acc:.4f}\")\n",
    "\n",
    "# Save training history data to CSV\n",
    "history_data = {\n",
    "    'epoch': list(range(1, epochs+1)),\n",
    "    'train_loss': train_losses,\n",
    "    'val_loss': val_losses,\n",
    "    'train_acc': train_accs,\n",
    "    'val_acc': val_accs,\n",
    "    'epoch_time': epoch_times\n",
    "}\n",
    "history_df = pd.DataFrame(history_data)\n",
    "history_df.to_csv('resnet50_training_history.csv', index=False)\n",
    "print(\"\\n💾 ResNet50 training history saved to 'resnet50_training_history.csv'\")\n",
    "\n",
    "# Training Summary\n",
    "print(f\"\\n🎉 ResNet50 Training Complete!\")\n",
    "print(f\"Total Training Time: {total_training_time:.2f}s ({total_training_time/60:.1f} minutes)\")\n",
    "print(f\"Average Epoch Time: {np.mean(epoch_times):.2f}s\")\n",
    "print(\"\\n⏱️  Epoch Timing Breakdown:\")\n",
    "for i, t in enumerate(epoch_times):\n",
    "    print(f\"│ Epoch {i+1}: {t:.2f}s\")\n",
    "\n",
    "# -----------------------------\n",
    "# 5. Load Best Model and Test\n",
    "# -----------------------------\n",
    "print(f\"\\n🧪 Loading Best ResNet50 Model for Testing...\")\n",
    "\n",
    "# Load the best model state\n",
    "if best_model_state is not None:\n",
    "    model.load_state_dict(best_model_state)\n",
    "    print(f\"✅ Best ResNet50 model from epoch {best_epoch} loaded successfully!\")\n",
    "else:\n",
    "    print(\"⚠️  No best model found, using current model state\")\n",
    "\n",
    "test_start_time = time.time()\n",
    "y_true, y_pred = [], []\n",
    "model.eval()\n",
    "\n",
    "test_pbar = tqdm(test_loader, desc=\"Testing ResNet50\", \n",
    "                bar_format='{l_bar}{bar:30}{r_bar}{bar:-30b}')\n",
    "\n",
    "with torch.no_grad():\n",
    "    for imgs, labels in test_pbar:\n",
    "        imgs, labels = imgs.to(device), labels.to(device)\n",
    "        outputs = model(imgs)\n",
    "        _, preds = torch.max(outputs, 1)\n",
    "        y_true.extend(labels.cpu().numpy())\n",
    "        y_pred.extend(preds.cpu().numpy())\n",
    "\n",
    "test_time = time.time() - test_start_time\n",
    "test_accuracy = accuracy_score(y_true, y_pred)\n",
    "\n",
    "print(f\"✅ ResNet50 Testing completed in {test_time:.2f}s\")\n",
    "print(\"\\n📋 ResNet50 Classification Report:\")\n",
    "print(classification_report(y_true, y_pred, target_names=classes,digits=4))\n",
    "print(f\"🎯 ResNet50 Test Accuracy: {test_accuracy:.4f}\")\n",
    "\n",
    "# Model Performance Summary\n",
    "print(f\"\\n📊 ResNet50 Model Performance Summary:\")\n",
    "print(f\"│ Best Validation Acc:  {best_val_acc:.4f} (Epoch {best_epoch})\")\n",
    "print(f\"│ Final Test Accuracy:  {test_accuracy:.4f}\")\n",
    "print(f\"│ Val-Test Gap:         {abs(best_val_acc - test_accuracy):.4f}\")\n",
    "\n",
    "# Confusion Matrix\n",
    "cm = confusion_matrix(y_true, y_pred)\n",
    "plt.figure(figsize=(8, 6))\n",
    "sns.heatmap(cm, annot=True, fmt=\"d\", cmap=\"Blues\", xticklabels=classes, yticklabels=classes)\n",
    "plt.xlabel(\"Predicted\")\n",
    "plt.ylabel(\"True\")\n",
    "plt.title(f\"ResNet50 Confusion Matrix - Best Model (Epoch {best_epoch})\")\n",
    "plt.show()\n",
    "\n",
    "# -----------------------------\n",
    "# 6. Enhanced Visualizations\n",
    "# -----------------------------\n",
    "plt.figure(figsize=(20, 5))\n",
    "\n",
    "# Loss Plot\n",
    "plt.subplot(1, 4, 1)\n",
    "plt.plot(range(1, epochs+1), train_losses, 'b-', label=\"Train Loss\", marker='o', linewidth=2)\n",
    "plt.plot(range(1, epochs+1), val_losses, 'r-', label=\"Val Loss\", marker='s', linewidth=2)\n",
    "plt.axvline(x=best_epoch, color='blue', linestyle='--', alpha=0.7, label=f'Best (Epoch {best_epoch})')\n",
    "plt.legend()\n",
    "plt.title(\"ResNet50 Loss over Epochs\")\n",
    "plt.xlabel(\"Epoch\")\n",
    "plt.ylabel(\"Loss\")\n",
    "plt.grid(True, alpha=0.3)\n",
    "\n",
    "# Accuracy Plot\n",
    "plt.subplot(1, 4, 2)\n",
    "plt.plot(range(1, epochs+1), train_accs, 'b-', label=\"Train Accuracy\", marker='o', linewidth=2)\n",
    "plt.plot(range(1, epochs+1), val_accs, 'r-', label=\"Val Accuracy\", marker='s', linewidth=2)\n",
    "plt.axvline(x=best_epoch, color='blue', linestyle='--', alpha=0.7, label=f'Best (Epoch {best_epoch})')\n",
    "plt.scatter([best_epoch], [best_val_acc], color='blue', s=100, zorder=5)\n",
    "plt.legend()\n",
    "plt.title(\"ResNet50 Accuracy over Epochs\")\n",
    "plt.xlabel(\"Epoch\")\n",
    "plt.ylabel(\"Accuracy\")\n",
    "plt.grid(True, alpha=0.3)\n",
    "\n",
    "# Timing Plot\n",
    "plt.subplot(1, 4, 3)\n",
    "bars = plt.bar(range(1, epochs+1), epoch_times, color='lightblue', alpha=0.7)\n",
    "bars[best_epoch-1].set_color('blue')\n",
    "plt.title(\"ResNet50 Training Time per Epoch\")\n",
    "plt.xlabel(\"Epoch\")\n",
    "plt.ylabel(\"Time (seconds)\")\n",
    "plt.grid(True, alpha=0.3)\n",
    "for i, t in enumerate(epoch_times):\n",
    "    plt.text(i+1, t+0.5, f'{t:.1f}s', ha='center', va='bottom')\n",
    "\n",
    "# Performance Comparison\n",
    "plt.subplot(1, 4, 4)\n",
    "metrics = ['Best Val Acc', 'Test Acc']\n",
    "values = [best_val_acc, test_accuracy]\n",
    "colors = ['lightblue', 'blue']\n",
    "bars = plt.bar(metrics, values, color=colors, alpha=0.7)\n",
    "plt.title(\"ResNet50 Final Model Performance\")\n",
    "plt.ylabel(\"Accuracy\")\n",
    "plt.ylim(0, 1)\n",
    "plt.grid(True, alpha=0.3)\n",
    "for bar, val in zip(bars, values):\n",
    "    plt.text(bar.get_x() + bar.get_width()/2, val + 0.01, \n",
    "             f'{val:.4f}', ha='center', va='bottom')\n",
    "\n",
    "plt.tight_layout()\n",
    "plt.show()\n",
    "\n",
    "print(f\"\\n⏰ ResNet50 Final Timing Summary:\")\n",
    "print(f\"│ Total Training: {total_training_time:.2f}s\")\n",
    "print(f\"│ Average per Epoch: {np.mean(epoch_times):.2f}s\")\n",
    "print(f\"│ Testing Time: {test_time:.2f}s\")\n",
    "print(f\"│ Total Runtime: {total_training_time + test_time:.2f}s\")\n",
    "\n",
    "print(f\"\\n💾 ResNet50 Files saved:\")\n",
    "print(f\"│ best_resnet50_model.pth - Best validation accuracy model\")\n",
    "print(f\"│ resnet50_training_history.csv - Training metrics for later plotting\")\n",
    "\n",
    "# -----------------------------\n",
    "# 7. ResNet50 Architecture Summary\n",
    "# -----------------------------\n",
    "print(f\"\\n🏗️  ResNet50 Architecture Summary:\")\n",
    "print(f\"│ Total Parameters: {sum(p.numel() for p in model.parameters()):,}\")\n",
    "print(f\"│ Trainable Parameters: {sum(p.numel() for p in model.parameters() if p.requires_grad):,}\")\n",
    "print(f\"│ Model Size: {sum(p.numel() * p.element_size() for p in model.parameters()) / 1024**2:.2f} MB\")\n",
    "print(f\"│ Input Size: 224x224x3\")\n",
    "print(f\"│ Output Classes: {len(classes)}\")\n",
    "print(f\"│ Architecture: ResNet50\")\n",
    "print(f\"│ Block Type: Bottleneck\")\n",
    "print(f\"│ Layers: [3, 4, 6, 3]\")\n",
    "print(f\"│ Skip Connections: Yes\")\n",
    "print(f\"│ Batch Normalization: Yes\")\n",
    "print(f\"│ Activation: ReLU\")\n",
    "print(f\"│ Zero Init Residual: Yes\")\n"
   ]
  },
  {
   "cell_type": "code",
   "execution_count": 11,
   "id": "e42b4b71",
   "metadata": {
    "execution": {
     "iopub.execute_input": "2025-09-07T15:46:47.107833Z",
     "iopub.status.busy": "2025-09-07T15:46:47.107531Z",
     "iopub.status.idle": "2025-09-07T15:46:47.135549Z",
     "shell.execute_reply": "2025-09-07T15:46:47.134881Z"
    },
    "papermill": {
     "duration": 0.977852,
     "end_time": "2025-09-07T15:46:47.136718",
     "exception": false,
     "start_time": "2025-09-07T15:46:46.158866",
     "status": "completed"
    },
    "tags": []
   },
   "outputs": [
    {
     "data": {
      "text/html": [
       "<div>\n",
       "<style scoped>\n",
       "    .dataframe tbody tr th:only-of-type {\n",
       "        vertical-align: middle;\n",
       "    }\n",
       "\n",
       "    .dataframe tbody tr th {\n",
       "        vertical-align: top;\n",
       "    }\n",
       "\n",
       "    .dataframe thead th {\n",
       "        text-align: right;\n",
       "    }\n",
       "</style>\n",
       "<table border=\"1\" class=\"dataframe\">\n",
       "  <thead>\n",
       "    <tr style=\"text-align: right;\">\n",
       "      <th></th>\n",
       "      <th>epoch</th>\n",
       "      <th>train_loss</th>\n",
       "      <th>val_loss</th>\n",
       "      <th>train_acc</th>\n",
       "      <th>val_acc</th>\n",
       "      <th>epoch_time</th>\n",
       "    </tr>\n",
       "  </thead>\n",
       "  <tbody>\n",
       "    <tr>\n",
       "      <th>0</th>\n",
       "      <td>1</td>\n",
       "      <td>2.726500</td>\n",
       "      <td>2.084568</td>\n",
       "      <td>0.261997</td>\n",
       "      <td>0.235693</td>\n",
       "      <td>128.343086</td>\n",
       "    </tr>\n",
       "    <tr>\n",
       "      <th>1</th>\n",
       "      <td>2</td>\n",
       "      <td>1.863449</td>\n",
       "      <td>1.865404</td>\n",
       "      <td>0.287926</td>\n",
       "      <td>0.279367</td>\n",
       "      <td>94.010916</td>\n",
       "    </tr>\n",
       "    <tr>\n",
       "      <th>2</th>\n",
       "      <td>3</td>\n",
       "      <td>1.648861</td>\n",
       "      <td>1.825034</td>\n",
       "      <td>0.327399</td>\n",
       "      <td>0.307982</td>\n",
       "      <td>98.136610</td>\n",
       "    </tr>\n",
       "    <tr>\n",
       "      <th>3</th>\n",
       "      <td>4</td>\n",
       "      <td>1.588883</td>\n",
       "      <td>1.829951</td>\n",
       "      <td>0.357198</td>\n",
       "      <td>0.315512</td>\n",
       "      <td>98.247132</td>\n",
       "    </tr>\n",
       "    <tr>\n",
       "      <th>4</th>\n",
       "      <td>5</td>\n",
       "      <td>1.488618</td>\n",
       "      <td>1.864615</td>\n",
       "      <td>0.403638</td>\n",
       "      <td>0.330572</td>\n",
       "      <td>98.106851</td>\n",
       "    </tr>\n",
       "    <tr>\n",
       "      <th>5</th>\n",
       "      <td>6</td>\n",
       "      <td>1.322421</td>\n",
       "      <td>2.215847</td>\n",
       "      <td>0.487423</td>\n",
       "      <td>0.297440</td>\n",
       "      <td>99.726781</td>\n",
       "    </tr>\n",
       "    <tr>\n",
       "      <th>6</th>\n",
       "      <td>7</td>\n",
       "      <td>1.004660</td>\n",
       "      <td>2.356831</td>\n",
       "      <td>0.626935</td>\n",
       "      <td>0.314006</td>\n",
       "      <td>99.118838</td>\n",
       "    </tr>\n",
       "    <tr>\n",
       "      <th>7</th>\n",
       "      <td>8</td>\n",
       "      <td>0.699973</td>\n",
       "      <td>2.491902</td>\n",
       "      <td>0.752128</td>\n",
       "      <td>0.349398</td>\n",
       "      <td>98.324653</td>\n",
       "    </tr>\n",
       "    <tr>\n",
       "      <th>8</th>\n",
       "      <td>9</td>\n",
       "      <td>0.409763</td>\n",
       "      <td>2.524561</td>\n",
       "      <td>0.863390</td>\n",
       "      <td>0.423193</td>\n",
       "      <td>98.382657</td>\n",
       "    </tr>\n",
       "    <tr>\n",
       "      <th>9</th>\n",
       "      <td>10</td>\n",
       "      <td>0.252978</td>\n",
       "      <td>3.335024</td>\n",
       "      <td>0.915635</td>\n",
       "      <td>0.424699</td>\n",
       "      <td>98.270561</td>\n",
       "    </tr>\n",
       "    <tr>\n",
       "      <th>10</th>\n",
       "      <td>11</td>\n",
       "      <td>0.155922</td>\n",
       "      <td>3.188765</td>\n",
       "      <td>0.947175</td>\n",
       "      <td>0.411898</td>\n",
       "      <td>98.098074</td>\n",
       "    </tr>\n",
       "    <tr>\n",
       "      <th>11</th>\n",
       "      <td>12</td>\n",
       "      <td>0.114859</td>\n",
       "      <td>3.065026</td>\n",
       "      <td>0.966331</td>\n",
       "      <td>0.428464</td>\n",
       "      <td>97.993995</td>\n",
       "    </tr>\n",
       "    <tr>\n",
       "      <th>12</th>\n",
       "      <td>13</td>\n",
       "      <td>0.088080</td>\n",
       "      <td>3.351794</td>\n",
       "      <td>0.971362</td>\n",
       "      <td>0.425452</td>\n",
       "      <td>97.708379</td>\n",
       "    </tr>\n",
       "    <tr>\n",
       "      <th>13</th>\n",
       "      <td>14</td>\n",
       "      <td>0.046391</td>\n",
       "      <td>2.935145</td>\n",
       "      <td>0.987229</td>\n",
       "      <td>0.463855</td>\n",
       "      <td>97.787212</td>\n",
       "    </tr>\n",
       "    <tr>\n",
       "      <th>14</th>\n",
       "      <td>15</td>\n",
       "      <td>0.029721</td>\n",
       "      <td>4.056666</td>\n",
       "      <td>0.990132</td>\n",
       "      <td>0.386295</td>\n",
       "      <td>98.263289</td>\n",
       "    </tr>\n",
       "    <tr>\n",
       "      <th>15</th>\n",
       "      <td>16</td>\n",
       "      <td>0.066637</td>\n",
       "      <td>3.032944</td>\n",
       "      <td>0.979296</td>\n",
       "      <td>0.455572</td>\n",
       "      <td>98.301866</td>\n",
       "    </tr>\n",
       "    <tr>\n",
       "      <th>16</th>\n",
       "      <td>17</td>\n",
       "      <td>0.043957</td>\n",
       "      <td>2.897738</td>\n",
       "      <td>0.986842</td>\n",
       "      <td>0.471386</td>\n",
       "      <td>98.152373</td>\n",
       "    </tr>\n",
       "    <tr>\n",
       "      <th>17</th>\n",
       "      <td>18</td>\n",
       "      <td>0.028000</td>\n",
       "      <td>3.494351</td>\n",
       "      <td>0.990519</td>\n",
       "      <td>0.453313</td>\n",
       "      <td>98.340079</td>\n",
       "    </tr>\n",
       "    <tr>\n",
       "      <th>18</th>\n",
       "      <td>19</td>\n",
       "      <td>0.019567</td>\n",
       "      <td>3.146672</td>\n",
       "      <td>0.993034</td>\n",
       "      <td>0.439006</td>\n",
       "      <td>97.812530</td>\n",
       "    </tr>\n",
       "    <tr>\n",
       "      <th>19</th>\n",
       "      <td>20</td>\n",
       "      <td>0.019814</td>\n",
       "      <td>3.084250</td>\n",
       "      <td>0.992260</td>\n",
       "      <td>0.457078</td>\n",
       "      <td>97.810703</td>\n",
       "    </tr>\n",
       "    <tr>\n",
       "      <th>20</th>\n",
       "      <td>21</td>\n",
       "      <td>0.010779</td>\n",
       "      <td>2.933559</td>\n",
       "      <td>0.995163</td>\n",
       "      <td>0.471386</td>\n",
       "      <td>97.745605</td>\n",
       "    </tr>\n",
       "    <tr>\n",
       "      <th>21</th>\n",
       "      <td>22</td>\n",
       "      <td>0.013177</td>\n",
       "      <td>2.837962</td>\n",
       "      <td>0.994389</td>\n",
       "      <td>0.496988</td>\n",
       "      <td>98.076164</td>\n",
       "    </tr>\n",
       "    <tr>\n",
       "      <th>22</th>\n",
       "      <td>23</td>\n",
       "      <td>0.011196</td>\n",
       "      <td>2.916273</td>\n",
       "      <td>0.994389</td>\n",
       "      <td>0.475904</td>\n",
       "      <td>98.485300</td>\n",
       "    </tr>\n",
       "    <tr>\n",
       "      <th>23</th>\n",
       "      <td>24</td>\n",
       "      <td>0.008065</td>\n",
       "      <td>2.846507</td>\n",
       "      <td>0.996904</td>\n",
       "      <td>0.476657</td>\n",
       "      <td>98.004009</td>\n",
       "    </tr>\n",
       "    <tr>\n",
       "      <th>24</th>\n",
       "      <td>25</td>\n",
       "      <td>0.008371</td>\n",
       "      <td>2.755415</td>\n",
       "      <td>0.996711</td>\n",
       "      <td>0.496235</td>\n",
       "      <td>97.690379</td>\n",
       "    </tr>\n",
       "    <tr>\n",
       "      <th>25</th>\n",
       "      <td>26</td>\n",
       "      <td>0.007547</td>\n",
       "      <td>2.670119</td>\n",
       "      <td>0.995743</td>\n",
       "      <td>0.487199</td>\n",
       "      <td>98.290472</td>\n",
       "    </tr>\n",
       "    <tr>\n",
       "      <th>26</th>\n",
       "      <td>27</td>\n",
       "      <td>0.006254</td>\n",
       "      <td>2.624853</td>\n",
       "      <td>0.996130</td>\n",
       "      <td>0.484940</td>\n",
       "      <td>98.450646</td>\n",
       "    </tr>\n",
       "    <tr>\n",
       "      <th>27</th>\n",
       "      <td>28</td>\n",
       "      <td>0.007029</td>\n",
       "      <td>2.676748</td>\n",
       "      <td>0.996517</td>\n",
       "      <td>0.482681</td>\n",
       "      <td>98.364503</td>\n",
       "    </tr>\n",
       "    <tr>\n",
       "      <th>28</th>\n",
       "      <td>29</td>\n",
       "      <td>0.006745</td>\n",
       "      <td>2.724438</td>\n",
       "      <td>0.995937</td>\n",
       "      <td>0.495482</td>\n",
       "      <td>98.369878</td>\n",
       "    </tr>\n",
       "    <tr>\n",
       "      <th>29</th>\n",
       "      <td>30</td>\n",
       "      <td>0.011490</td>\n",
       "      <td>2.802999</td>\n",
       "      <td>0.996130</td>\n",
       "      <td>0.485693</td>\n",
       "      <td>99.007040</td>\n",
       "    </tr>\n",
       "    <tr>\n",
       "      <th>30</th>\n",
       "      <td>31</td>\n",
       "      <td>0.009308</td>\n",
       "      <td>2.682056</td>\n",
       "      <td>0.996517</td>\n",
       "      <td>0.500000</td>\n",
       "      <td>98.357121</td>\n",
       "    </tr>\n",
       "    <tr>\n",
       "      <th>31</th>\n",
       "      <td>32</td>\n",
       "      <td>0.010233</td>\n",
       "      <td>2.896123</td>\n",
       "      <td>0.995743</td>\n",
       "      <td>0.453313</td>\n",
       "      <td>98.862868</td>\n",
       "    </tr>\n",
       "    <tr>\n",
       "      <th>32</th>\n",
       "      <td>33</td>\n",
       "      <td>0.008794</td>\n",
       "      <td>2.598531</td>\n",
       "      <td>0.996517</td>\n",
       "      <td>0.490964</td>\n",
       "      <td>98.325406</td>\n",
       "    </tr>\n",
       "    <tr>\n",
       "      <th>33</th>\n",
       "      <td>34</td>\n",
       "      <td>0.006173</td>\n",
       "      <td>2.667071</td>\n",
       "      <td>0.997485</td>\n",
       "      <td>0.464608</td>\n",
       "      <td>98.772892</td>\n",
       "    </tr>\n",
       "    <tr>\n",
       "      <th>34</th>\n",
       "      <td>35</td>\n",
       "      <td>0.006789</td>\n",
       "      <td>2.517360</td>\n",
       "      <td>0.996711</td>\n",
       "      <td>0.472892</td>\n",
       "      <td>99.024067</td>\n",
       "    </tr>\n",
       "    <tr>\n",
       "      <th>35</th>\n",
       "      <td>36</td>\n",
       "      <td>0.007261</td>\n",
       "      <td>2.587813</td>\n",
       "      <td>0.995937</td>\n",
       "      <td>0.461596</td>\n",
       "      <td>98.014775</td>\n",
       "    </tr>\n",
       "    <tr>\n",
       "      <th>36</th>\n",
       "      <td>37</td>\n",
       "      <td>0.006387</td>\n",
       "      <td>2.513500</td>\n",
       "      <td>0.996517</td>\n",
       "      <td>0.461596</td>\n",
       "      <td>98.322147</td>\n",
       "    </tr>\n",
       "    <tr>\n",
       "      <th>37</th>\n",
       "      <td>38</td>\n",
       "      <td>0.006123</td>\n",
       "      <td>2.567719</td>\n",
       "      <td>0.997485</td>\n",
       "      <td>0.457831</td>\n",
       "      <td>98.295645</td>\n",
       "    </tr>\n",
       "    <tr>\n",
       "      <th>38</th>\n",
       "      <td>39</td>\n",
       "      <td>0.005903</td>\n",
       "      <td>2.560029</td>\n",
       "      <td>0.996711</td>\n",
       "      <td>0.488705</td>\n",
       "      <td>98.276879</td>\n",
       "    </tr>\n",
       "    <tr>\n",
       "      <th>39</th>\n",
       "      <td>40</td>\n",
       "      <td>0.006334</td>\n",
       "      <td>2.489564</td>\n",
       "      <td>0.996517</td>\n",
       "      <td>0.475904</td>\n",
       "      <td>98.383694</td>\n",
       "    </tr>\n",
       "    <tr>\n",
       "      <th>40</th>\n",
       "      <td>41</td>\n",
       "      <td>0.006794</td>\n",
       "      <td>2.740315</td>\n",
       "      <td>0.996324</td>\n",
       "      <td>0.469127</td>\n",
       "      <td>98.749449</td>\n",
       "    </tr>\n",
       "    <tr>\n",
       "      <th>41</th>\n",
       "      <td>42</td>\n",
       "      <td>0.006824</td>\n",
       "      <td>2.514440</td>\n",
       "      <td>0.996130</td>\n",
       "      <td>0.477410</td>\n",
       "      <td>98.053061</td>\n",
       "    </tr>\n",
       "    <tr>\n",
       "      <th>42</th>\n",
       "      <td>43</td>\n",
       "      <td>0.007206</td>\n",
       "      <td>2.662274</td>\n",
       "      <td>0.996711</td>\n",
       "      <td>0.474398</td>\n",
       "      <td>98.173251</td>\n",
       "    </tr>\n",
       "    <tr>\n",
       "      <th>43</th>\n",
       "      <td>44</td>\n",
       "      <td>0.006693</td>\n",
       "      <td>2.552109</td>\n",
       "      <td>0.996711</td>\n",
       "      <td>0.481928</td>\n",
       "      <td>98.057798</td>\n",
       "    </tr>\n",
       "    <tr>\n",
       "      <th>44</th>\n",
       "      <td>45</td>\n",
       "      <td>0.005407</td>\n",
       "      <td>2.466284</td>\n",
       "      <td>0.996711</td>\n",
       "      <td>0.485693</td>\n",
       "      <td>98.514928</td>\n",
       "    </tr>\n",
       "    <tr>\n",
       "      <th>45</th>\n",
       "      <td>46</td>\n",
       "      <td>0.007089</td>\n",
       "      <td>2.394983</td>\n",
       "      <td>0.996517</td>\n",
       "      <td>0.470633</td>\n",
       "      <td>98.290743</td>\n",
       "    </tr>\n",
       "    <tr>\n",
       "      <th>46</th>\n",
       "      <td>47</td>\n",
       "      <td>0.007349</td>\n",
       "      <td>2.426988</td>\n",
       "      <td>0.996517</td>\n",
       "      <td>0.483434</td>\n",
       "      <td>98.476925</td>\n",
       "    </tr>\n",
       "    <tr>\n",
       "      <th>47</th>\n",
       "      <td>48</td>\n",
       "      <td>0.005846</td>\n",
       "      <td>2.443585</td>\n",
       "      <td>0.997291</td>\n",
       "      <td>0.479669</td>\n",
       "      <td>98.867996</td>\n",
       "    </tr>\n",
       "    <tr>\n",
       "      <th>48</th>\n",
       "      <td>49</td>\n",
       "      <td>0.029391</td>\n",
       "      <td>4.486493</td>\n",
       "      <td>0.989938</td>\n",
       "      <td>0.304217</td>\n",
       "      <td>98.760073</td>\n",
       "    </tr>\n",
       "    <tr>\n",
       "      <th>49</th>\n",
       "      <td>50</td>\n",
       "      <td>0.530016</td>\n",
       "      <td>3.003161</td>\n",
       "      <td>0.828947</td>\n",
       "      <td>0.371235</td>\n",
       "      <td>98.447156</td>\n",
       "    </tr>\n",
       "  </tbody>\n",
       "</table>\n",
       "</div>"
      ],
      "text/plain": [
       "    epoch  train_loss  val_loss  train_acc   val_acc  epoch_time\n",
       "0       1    2.726500  2.084568   0.261997  0.235693  128.343086\n",
       "1       2    1.863449  1.865404   0.287926  0.279367   94.010916\n",
       "2       3    1.648861  1.825034   0.327399  0.307982   98.136610\n",
       "3       4    1.588883  1.829951   0.357198  0.315512   98.247132\n",
       "4       5    1.488618  1.864615   0.403638  0.330572   98.106851\n",
       "5       6    1.322421  2.215847   0.487423  0.297440   99.726781\n",
       "6       7    1.004660  2.356831   0.626935  0.314006   99.118838\n",
       "7       8    0.699973  2.491902   0.752128  0.349398   98.324653\n",
       "8       9    0.409763  2.524561   0.863390  0.423193   98.382657\n",
       "9      10    0.252978  3.335024   0.915635  0.424699   98.270561\n",
       "10     11    0.155922  3.188765   0.947175  0.411898   98.098074\n",
       "11     12    0.114859  3.065026   0.966331  0.428464   97.993995\n",
       "12     13    0.088080  3.351794   0.971362  0.425452   97.708379\n",
       "13     14    0.046391  2.935145   0.987229  0.463855   97.787212\n",
       "14     15    0.029721  4.056666   0.990132  0.386295   98.263289\n",
       "15     16    0.066637  3.032944   0.979296  0.455572   98.301866\n",
       "16     17    0.043957  2.897738   0.986842  0.471386   98.152373\n",
       "17     18    0.028000  3.494351   0.990519  0.453313   98.340079\n",
       "18     19    0.019567  3.146672   0.993034  0.439006   97.812530\n",
       "19     20    0.019814  3.084250   0.992260  0.457078   97.810703\n",
       "20     21    0.010779  2.933559   0.995163  0.471386   97.745605\n",
       "21     22    0.013177  2.837962   0.994389  0.496988   98.076164\n",
       "22     23    0.011196  2.916273   0.994389  0.475904   98.485300\n",
       "23     24    0.008065  2.846507   0.996904  0.476657   98.004009\n",
       "24     25    0.008371  2.755415   0.996711  0.496235   97.690379\n",
       "25     26    0.007547  2.670119   0.995743  0.487199   98.290472\n",
       "26     27    0.006254  2.624853   0.996130  0.484940   98.450646\n",
       "27     28    0.007029  2.676748   0.996517  0.482681   98.364503\n",
       "28     29    0.006745  2.724438   0.995937  0.495482   98.369878\n",
       "29     30    0.011490  2.802999   0.996130  0.485693   99.007040\n",
       "30     31    0.009308  2.682056   0.996517  0.500000   98.357121\n",
       "31     32    0.010233  2.896123   0.995743  0.453313   98.862868\n",
       "32     33    0.008794  2.598531   0.996517  0.490964   98.325406\n",
       "33     34    0.006173  2.667071   0.997485  0.464608   98.772892\n",
       "34     35    0.006789  2.517360   0.996711  0.472892   99.024067\n",
       "35     36    0.007261  2.587813   0.995937  0.461596   98.014775\n",
       "36     37    0.006387  2.513500   0.996517  0.461596   98.322147\n",
       "37     38    0.006123  2.567719   0.997485  0.457831   98.295645\n",
       "38     39    0.005903  2.560029   0.996711  0.488705   98.276879\n",
       "39     40    0.006334  2.489564   0.996517  0.475904   98.383694\n",
       "40     41    0.006794  2.740315   0.996324  0.469127   98.749449\n",
       "41     42    0.006824  2.514440   0.996130  0.477410   98.053061\n",
       "42     43    0.007206  2.662274   0.996711  0.474398   98.173251\n",
       "43     44    0.006693  2.552109   0.996711  0.481928   98.057798\n",
       "44     45    0.005407  2.466284   0.996711  0.485693   98.514928\n",
       "45     46    0.007089  2.394983   0.996517  0.470633   98.290743\n",
       "46     47    0.007349  2.426988   0.996517  0.483434   98.476925\n",
       "47     48    0.005846  2.443585   0.997291  0.479669   98.867996\n",
       "48     49    0.029391  4.486493   0.989938  0.304217   98.760073\n",
       "49     50    0.530016  3.003161   0.828947  0.371235   98.447156"
      ]
     },
     "execution_count": 11,
     "metadata": {},
     "output_type": "execute_result"
    }
   ],
   "source": [
    "import pandas as pd\n",
    "df=pd.read_csv(\"/kaggle/working/resnet50_training_history.csv\")\n",
    "df"
   ]
  }
 ],
 "metadata": {
  "kaggle": {
   "accelerator": "nvidiaTeslaT4",
   "dataSources": [
    {
     "datasetId": 7735666,
     "sourceId": 12275446,
     "sourceType": "datasetVersion"
    }
   ],
   "dockerImageVersionId": 31090,
   "isGpuEnabled": true,
   "isInternetEnabled": true,
   "language": "python",
   "sourceType": "notebook"
  },
  "kernelspec": {
   "display_name": "Python 3",
   "language": "python",
   "name": "python3"
  },
  "language_info": {
   "codemirror_mode": {
    "name": "ipython",
    "version": 3
   },
   "file_extension": ".py",
   "mimetype": "text/x-python",
   "name": "python",
   "nbconvert_exporter": "python",
   "pygments_lexer": "ipython3",
   "version": "3.11.13"
  },
  "papermill": {
   "default_parameters": {},
   "duration": 4991.164823,
   "end_time": "2025-09-07T15:46:49.775339",
   "environment_variables": {},
   "exception": null,
   "input_path": "__notebook__.ipynb",
   "output_path": "__notebook__.ipynb",
   "parameters": {},
   "start_time": "2025-09-07T14:23:38.610516",
   "version": "2.6.0"
  }
 },
 "nbformat": 4,
 "nbformat_minor": 5
}
