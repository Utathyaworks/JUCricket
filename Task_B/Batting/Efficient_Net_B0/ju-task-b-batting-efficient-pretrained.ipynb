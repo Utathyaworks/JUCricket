{
 "cells": [
  {
   "cell_type": "code",
   "execution_count": 1,
   "id": "db9f70a8",
   "metadata": {
    "_cell_guid": "b1076dfc-b9ad-4769-8c92-a6c4dae69d19",
    "_uuid": "8f2839f25d086af736a60e9eeb907d3b93b6e0e5",
    "execution": {
     "iopub.execute_input": "2025-09-08T05:43:11.215991Z",
     "iopub.status.busy": "2025-09-08T05:43:11.215784Z",
     "iopub.status.idle": "2025-09-08T05:43:24.784241Z",
     "shell.execute_reply": "2025-09-08T05:43:24.783419Z"
    },
    "papermill": {
     "duration": 13.573654,
     "end_time": "2025-09-08T05:43:24.785647",
     "exception": false,
     "start_time": "2025-09-08T05:43:11.211993",
     "status": "completed"
    },
    "tags": []
   },
   "outputs": [
    {
     "name": "stdout",
     "output_type": "stream",
     "text": [
      "Classes: ['Cut', 'Drive', 'Leg Shot', 'PullShot', 'Scoop', 'Straight', 'Sweep']\n"
     ]
    }
   ],
   "source": [
    "import torch\n",
    "import torch.nn as nn\n",
    "import torch.nn.functional as F\n",
    "from torch.utils.data import DataLoader\n",
    "from torchvision import datasets, transforms\n",
    "from torchsummary import summary\n",
    "import matplotlib.pyplot as plt\n",
    "from sklearn.metrics import classification_report, confusion_matrix, accuracy_score\n",
    "import seaborn as sns\n",
    "import numpy as np\n",
    "\n",
    "# -----------------------------\n",
    "# 1. Data Preprocessing\n",
    "# -----------------------------\n",
    "data_dir = \"/kaggle/input/ju-cricket/Cricket_Dataset_final/Task_B\"\n",
    "\n",
    "transform = transforms.Compose([\n",
    "    transforms.Resize((224, 224)),\n",
    "    transforms.ToTensor(),\n",
    "    transforms.Normalize([0.485, 0.456, 0.406], \n",
    "                         [0.229, 0.224, 0.225])\n",
    "])\n",
    "\n",
    "train_ds = datasets.ImageFolder(f\"{data_dir}/train/Batting\", transform=transform)\n",
    "val_ds   = datasets.ImageFolder(f\"{data_dir}/val/Batting\", transform=transform)\n",
    "test_ds  = datasets.ImageFolder(f\"{data_dir}/test/Batting\", transform=transform)\n",
    "\n",
    "train_loader = DataLoader(train_ds, batch_size=32, shuffle=True)\n",
    "val_loader   = DataLoader(val_ds, batch_size=32, shuffle=False)\n",
    "test_loader  = DataLoader(test_ds, batch_size=32, shuffle=False)\n",
    "\n",
    "classes = train_ds.classes\n",
    "print(\"Classes:\", classes)"
   ]
  },
  {
   "cell_type": "code",
   "execution_count": 2,
   "id": "1e292456",
   "metadata": {
    "execution": {
     "iopub.execute_input": "2025-09-08T05:43:24.791498Z",
     "iopub.status.busy": "2025-09-08T05:43:24.791168Z",
     "iopub.status.idle": "2025-09-08T05:43:24.795842Z",
     "shell.execute_reply": "2025-09-08T05:43:24.795123Z"
    },
    "papermill": {
     "duration": 0.00853,
     "end_time": "2025-09-08T05:43:24.796847",
     "exception": false,
     "start_time": "2025-09-08T05:43:24.788317",
     "status": "completed"
    },
    "tags": []
   },
   "outputs": [
    {
     "name": "stdout",
     "output_type": "stream",
     "text": [
      "Total training images: 5814\n",
      "Total validation images: 1494\n",
      "Total test images: 1863\n",
      "Total images in dataset: 9171\n"
     ]
    }
   ],
   "source": [
    "print(\"Total training images:\", len(train_ds))\n",
    "print(\"Total validation images:\", len(val_ds))\n",
    "print(\"Total test images:\", len(test_ds))\n",
    "\n",
    "total_images = len(train_ds) + len(val_ds) + len(test_ds)\n",
    "print(\"Total images in dataset:\", total_images)"
   ]
  },
  {
   "cell_type": "code",
   "execution_count": 3,
   "id": "6f052875",
   "metadata": {
    "execution": {
     "iopub.execute_input": "2025-09-08T05:43:24.802011Z",
     "iopub.status.busy": "2025-09-08T05:43:24.801808Z",
     "iopub.status.idle": "2025-09-08T05:43:24.812113Z",
     "shell.execute_reply": "2025-09-08T05:43:24.811544Z"
    },
    "papermill": {
     "duration": 0.013947,
     "end_time": "2025-09-08T05:43:24.813051",
     "exception": false,
     "start_time": "2025-09-08T05:43:24.799104",
     "status": "completed"
    },
    "tags": []
   },
   "outputs": [
    {
     "name": "stdout",
     "output_type": "stream",
     "text": [
      "Training images (excluding 'random_occlusion'): 5168\n",
      "Validation images (excluding 'random_occlusion'): 1328\n",
      "Test images (excluding 'random_occlusion'): 1656\n",
      "Total images (excluding 'random_occlusion'): 8152\n"
     ]
    }
   ],
   "source": [
    "ignore_folder = \"random_occlusion\"\n",
    "\n",
    "def count_images_ignore_folder(dataset, ignore_folder):\n",
    "    count = 0\n",
    "    for img_path, label in dataset.samples:\n",
    "        # Skip if the image path contains the ignore_folder\n",
    "        if ignore_folder not in img_path.split(\"/\"):\n",
    "            count += 1\n",
    "    return count\n",
    "\n",
    "train_count = count_images_ignore_folder(train_ds, ignore_folder)\n",
    "val_count   = count_images_ignore_folder(val_ds, ignore_folder)\n",
    "test_count  = count_images_ignore_folder(test_ds, ignore_folder)\n",
    "\n",
    "total_count = train_count + val_count + test_count\n",
    "\n",
    "print(\"Training images (excluding '{}'): {}\".format(ignore_folder, train_count))\n",
    "print(\"Validation images (excluding '{}'): {}\".format(ignore_folder, val_count))\n",
    "print(\"Test images (excluding '{}'): {}\".format(ignore_folder, test_count))\n",
    "print(\"Total images (excluding '{}'): {}\".format(ignore_folder, total_count))"
   ]
  },
  {
   "cell_type": "code",
   "execution_count": 4,
   "id": "1147106b",
   "metadata": {
    "execution": {
     "iopub.execute_input": "2025-09-08T05:43:24.818225Z",
     "iopub.status.busy": "2025-09-08T05:43:24.818033Z",
     "iopub.status.idle": "2025-09-08T05:43:24.831694Z",
     "shell.execute_reply": "2025-09-08T05:43:24.830980Z"
    },
    "papermill": {
     "duration": 0.017575,
     "end_time": "2025-09-08T05:43:24.832869",
     "exception": false,
     "start_time": "2025-09-08T05:43:24.815294",
     "status": "completed"
    },
    "tags": []
   },
   "outputs": [
    {
     "name": "stdout",
     "output_type": "stream",
     "text": [
      "Training folders considered: {'low_resolution', 'random_occlusion', 'chromatic_aberration', 'gaussian_noise', 'blur', 'original', 'dirty_lens', 'motion_blur', 'lens_flare'}\n",
      "Validation folders considered: {'low_resolution', 'random_occlusion', 'chromatic_aberration', 'gaussian_noise', 'blur', 'original', 'dirty_lens', 'motion_blur', 'lens_flare'}\n",
      "Test folders considered: {'low_resolution', 'random_occlusion', 'chromatic_aberration', 'gaussian_noise', 'blur', 'original', 'dirty_lens', 'motion_blur', 'lens_flare'}\n"
     ]
    }
   ],
   "source": [
    "ignore_folder = \"random_occlusionw\"\n",
    "\n",
    "def get_included_folders(dataset, ignore_folder):\n",
    "    included = set()\n",
    "    for img_path, label in dataset.samples:\n",
    "        # Split the path into parts and ignore if ignore_folder is in the path\n",
    "        if ignore_folder not in img_path.split(\"/\"):\n",
    "            # The folder name just above the image (or the class folder)\n",
    "            folder_name = img_path.split(\"/\")[-2]\n",
    "            included.add(folder_name)\n",
    "    return included\n",
    "\n",
    "train_folders = get_included_folders(train_ds, ignore_folder)\n",
    "val_folders   = get_included_folders(val_ds, ignore_folder)\n",
    "test_folders  = get_included_folders(test_ds, ignore_folder)\n",
    "\n",
    "print(\"Training folders considered:\", train_folders)\n",
    "print(\"Validation folders considered:\", val_folders)\n",
    "print(\"Test folders considered:\", test_folders)"
   ]
  },
  {
   "cell_type": "code",
   "execution_count": 5,
   "id": "cbacfc97",
   "metadata": {
    "execution": {
     "iopub.execute_input": "2025-09-08T05:43:24.838502Z",
     "iopub.status.busy": "2025-09-08T05:43:24.837964Z",
     "iopub.status.idle": "2025-09-08T05:43:24.975342Z",
     "shell.execute_reply": "2025-09-08T05:43:24.974584Z"
    },
    "papermill": {
     "duration": 0.141366,
     "end_time": "2025-09-08T05:43:24.976538",
     "exception": false,
     "start_time": "2025-09-08T05:43:24.835172",
     "status": "completed"
    },
    "tags": []
   },
   "outputs": [
    {
     "name": "stdout",
     "output_type": "stream",
     "text": [
      "Classes: ['Cut', 'Drive', 'Leg Shot', 'PullShot', 'Scoop', 'Straight', 'Sweep']\n",
      "Final Training images: 5168\n",
      "Final Validation images: 1328\n",
      "Final Test images: 1656\n",
      "Total images after filtering: 8152\n"
     ]
    }
   ],
   "source": [
    "ignore_folder = \"random_occlusion\"\n",
    "\n",
    "def filter_samples(dataset, ignore_folder):\n",
    "    # Keep only samples where ignore_folder is NOT in the path\n",
    "    filtered_samples = [s for s in dataset.samples if ignore_folder not in s[0].split(\"/\")]\n",
    "    dataset.samples = filtered_samples\n",
    "    dataset.targets = [s[1] for s in filtered_samples]  # Update targets accordingly\n",
    "    return dataset\n",
    "\n",
    "# Create original datasets\n",
    "train_ds = datasets.ImageFolder(f\"{data_dir}/train/Batting\", transform=transform)\n",
    "val_ds   = datasets.ImageFolder(f\"{data_dir}/val/Batting\", transform=transform)\n",
    "test_ds  = datasets.ImageFolder(f\"{data_dir}/test/Batting\", transform=transform)\n",
    "\n",
    "# Filter out 'random_occlusion' folder\n",
    "train_ds = filter_samples(train_ds, ignore_folder)\n",
    "val_ds   = filter_samples(val_ds, ignore_folder)\n",
    "test_ds  = filter_samples(test_ds, ignore_folder)\n",
    "\n",
    "# DataLoaders\n",
    "train_loader = DataLoader(train_ds, batch_size=32, shuffle=True)\n",
    "val_loader   = DataLoader(val_ds, batch_size=32, shuffle=False)\n",
    "test_loader  = DataLoader(test_ds, batch_size=32, shuffle=False)\n",
    "\n",
    "# Classes (will remain the same)\n",
    "classes = train_ds.classes\n",
    "print(\"Classes:\", classes)\n",
    "\n",
    "# Show counts\n",
    "print(\"Final Training images:\", len(train_ds))\n",
    "print(\"Final Validation images:\", len(val_ds))\n",
    "print(\"Final Test images:\", len(test_ds))\n",
    "print(\"Total images after filtering:\", len(train_ds) + len(val_ds) + len(test_ds))"
   ]
  },
  {
   "cell_type": "code",
   "execution_count": 6,
   "id": "48bbc2b6",
   "metadata": {
    "execution": {
     "iopub.execute_input": "2025-09-08T05:43:24.982276Z",
     "iopub.status.busy": "2025-09-08T05:43:24.981761Z",
     "iopub.status.idle": "2025-09-08T05:43:24.994667Z",
     "shell.execute_reply": "2025-09-08T05:43:24.993936Z"
    },
    "papermill": {
     "duration": 0.016873,
     "end_time": "2025-09-08T05:43:24.995789",
     "exception": false,
     "start_time": "2025-09-08T05:43:24.978916",
     "status": "completed"
    },
    "tags": []
   },
   "outputs": [
    {
     "name": "stdout",
     "output_type": "stream",
     "text": [
      "Training folders considered: {'low_resolution', 'chromatic_aberration', 'gaussian_noise', 'blur', 'original', 'dirty_lens', 'motion_blur', 'lens_flare'}\n",
      "Validation folders considered: {'low_resolution', 'chromatic_aberration', 'gaussian_noise', 'blur', 'original', 'dirty_lens', 'motion_blur', 'lens_flare'}\n",
      "Test folders considered: {'low_resolution', 'chromatic_aberration', 'gaussian_noise', 'blur', 'original', 'dirty_lens', 'motion_blur', 'lens_flare'}\n"
     ]
    }
   ],
   "source": [
    "ignore_folder = \"random_occlusion\"\n",
    "\n",
    "def get_included_folders(dataset, ignore_folder):\n",
    "    included = set()\n",
    "    for img_path, label in dataset.samples:\n",
    "        # Split the path into parts and ignore if ignore_folder is in the path\n",
    "        if ignore_folder not in img_path.split(\"/\"):\n",
    "            # The folder name just above the image (or the class folder)\n",
    "            folder_name = img_path.split(\"/\")[-2]\n",
    "            included.add(folder_name)\n",
    "    return included\n",
    "\n",
    "train_folders = get_included_folders(train_ds, ignore_folder)\n",
    "val_folders   = get_included_folders(val_ds, ignore_folder)\n",
    "test_folders  = get_included_folders(test_ds, ignore_folder)\n",
    "\n",
    "print(\"Training folders considered:\", train_folders)\n",
    "print(\"Validation folders considered:\", val_folders)\n",
    "print(\"Test folders considered:\", test_folders)"
   ]
  },
  {
   "cell_type": "code",
   "execution_count": 7,
   "id": "457d60f8",
   "metadata": {
    "execution": {
     "iopub.execute_input": "2025-09-08T05:43:25.001376Z",
     "iopub.status.busy": "2025-09-08T05:43:25.001128Z",
     "iopub.status.idle": "2025-09-08T05:43:25.872255Z",
     "shell.execute_reply": "2025-09-08T05:43:25.871373Z"
    },
    "papermill": {
     "duration": 0.875424,
     "end_time": "2025-09-08T05:43:25.873548",
     "exception": false,
     "start_time": "2025-09-08T05:43:24.998124",
     "status": "completed"
    },
    "tags": []
   },
   "outputs": [
    {
     "name": "stdout",
     "output_type": "stream",
     "text": [
      "🔄 Loading and filtering datasets for EfficientNet-B0...\n",
      "✅ Classes: ['Cut', 'Drive', 'Leg Shot', 'PullShot', 'Scoop', 'Straight', 'Sweep']\n",
      "📊 Dataset Statistics:\n",
      "│ Training images: 5168\n",
      "│ Validation images: 1328\n",
      "│ Test images: 1656\n",
      "│ Total images (after filtering): 8152\n",
      "│ Excluded folder: 'random_occlusion'\n",
      "│ Number of classes: 7\n"
     ]
    },
    {
     "name": "stderr",
     "output_type": "stream",
     "text": [
      "/usr/local/lib/python3.11/dist-packages/torchvision/models/_utils.py:208: UserWarning: The parameter 'pretrained' is deprecated since 0.13 and may be removed in the future, please use 'weights' instead.\n",
      "  warnings.warn(\n",
      "/usr/local/lib/python3.11/dist-packages/torchvision/models/_utils.py:223: UserWarning: Arguments other than a weight enum or `None` for 'weights' are deprecated since 0.13 and may be removed in the future. The current behavior is equivalent to passing `weights=EfficientNet_B0_Weights.IMAGENET1K_V1`. You can also use `weights=EfficientNet_B0_Weights.DEFAULT` to get the most up-to-date weights.\n",
      "  warnings.warn(msg)\n",
      "Downloading: \"https://download.pytorch.org/models/efficientnet_b0_rwightman-7f5810bc.pth\" to /root/.cache/torch/hub/checkpoints/efficientnet_b0_rwightman-7f5810bc.pth\n"
     ]
    },
    {
     "name": "stdout",
     "output_type": "stream",
     "text": [
      "Using device: cuda\n",
      "🔄 Loading pretrained EfficientNet-B0 from ImageNet...\n"
     ]
    },
    {
     "name": "stderr",
     "output_type": "stream",
     "text": [
      "100%|██████████| 20.5M/20.5M [00:00<00:00, 140MB/s] \n"
     ]
    },
    {
     "name": "stdout",
     "output_type": "stream",
     "text": [
      "✅ Model loaded with 7 output classes\n",
      "📊 Total parameters: 4,016,515\n",
      "📊 Trainable parameters: 4,016,515\n",
      "📊 Model file size: 15.61 MB\n",
      "📋 Model Architecture:\n",
      "│ Input size: (3, 224, 224)\n",
      "│ EfficientNet-B0 features: 1280\n",
      "│ Output classes: 7\n",
      "│ Compound scaling: Depth/Width/Resolution optimized\n"
     ]
    }
   ],
   "source": [
    "import torch\n",
    "import torch.nn as nn\n",
    "import torch.nn.functional as F\n",
    "import torch.optim as optim\n",
    "from torch.utils.data import DataLoader\n",
    "from torchvision import datasets, transforms, models\n",
    "import matplotlib.pyplot as plt\n",
    "from sklearn.metrics import classification_report, confusion_matrix, accuracy_score\n",
    "import seaborn as sns\n",
    "import numpy as np\n",
    "import pandas as pd\n",
    "from tqdm import tqdm\n",
    "import time\n",
    "import os\n",
    "import tempfile\n",
    "\n",
    "# -----------------------------\n",
    "# 1. Data Preprocessing with Filtering (EfficientNet-B0 - 224x224)\n",
    "# -----------------------------\n",
    "data_dir = \"/kaggle/input/ju-cricket/Cricket_Dataset_final/Task_B\"\n",
    "\n",
    "# EfficientNet-B0 uses 224x224 input size (same as ResNet/DenseNet)\n",
    "transform = transforms.Compose([\n",
    "    transforms.Resize((224, 224)),  # EfficientNet-B0 input size\n",
    "    transforms.ToTensor(),\n",
    "    transforms.Normalize([0.485, 0.456, 0.406], \n",
    "                         [0.229, 0.224, 0.225])\n",
    "])\n",
    "\n",
    "ignore_folder = \"random_occlusion\"\n",
    "\n",
    "def filter_samples(dataset, ignore_folder):\n",
    "    \"\"\"Filter out samples containing the ignore_folder in their path\"\"\"\n",
    "    filtered_samples = [s for s in dataset.samples if ignore_folder not in s[0].split(\"/\")]\n",
    "    dataset.samples = filtered_samples\n",
    "    dataset.targets = [s[1] for s in filtered_samples]\n",
    "    return dataset\n",
    "\n",
    "# Create and filter datasets\n",
    "print(\"🔄 Loading and filtering datasets for EfficientNet-B0...\")\n",
    "train_ds = datasets.ImageFolder(f\"{data_dir}/train/Batting\", transform=transform)\n",
    "val_ds   = datasets.ImageFolder(f\"{data_dir}/val/Batting\", transform=transform)\n",
    "test_ds  = datasets.ImageFolder(f\"{data_dir}/test/Batting\", transform=transform)\n",
    "\n",
    "# Apply filtering\n",
    "train_ds = filter_samples(train_ds, ignore_folder)\n",
    "val_ds   = filter_samples(val_ds, ignore_folder)\n",
    "test_ds  = filter_samples(test_ds, ignore_folder)\n",
    "\n",
    "# Create DataLoaders\n",
    "train_loader = DataLoader(train_ds, batch_size=32, shuffle=True)\n",
    "val_loader   = DataLoader(val_ds, batch_size=32, shuffle=False)\n",
    "test_loader  = DataLoader(test_ds, batch_size=32, shuffle=False)\n",
    "\n",
    "# Display information\n",
    "classes = train_ds.classes\n",
    "print(f\"✅ Classes: {classes}\")\n",
    "print(f\"📊 Dataset Statistics:\")\n",
    "print(f\"│ Training images: {len(train_ds)}\")\n",
    "print(f\"│ Validation images: {len(val_ds)}\")\n",
    "print(f\"│ Test images: {len(test_ds)}\")\n",
    "print(f\"│ Total images (after filtering): {len(train_ds) + len(val_ds) + len(test_ds)}\")\n",
    "print(f\"│ Excluded folder: '{ignore_folder}'\")\n",
    "print(f\"│ Number of classes: {len(classes)}\")\n",
    "\n",
    "# -----------------------------\n",
    "# 2. Pretrained EfficientNet-B0 Model\n",
    "# -----------------------------\n",
    "device = torch.device('cuda' if torch.cuda.is_available() else 'cpu')\n",
    "print(f\"Using device: {device}\")\n",
    "\n",
    "# Load pretrained EfficientNet-B0\n",
    "print(\"🔄 Loading pretrained EfficientNet-B0 from ImageNet...\")\n",
    "model = models.efficientnet_b0(pretrained=True)\n",
    "\n",
    "# Replace final classification layer\n",
    "# EfficientNet-B0 uses model.classifier (similar to DenseNet)\n",
    "num_features = model.classifier[1].in_features  # Get input features (1280)\n",
    "model.classifier[1] = nn.Linear(num_features, len(classes))  # Replace final layer\n",
    "model = model.to(device)\n",
    "\n",
    "print(f\"✅ Model loaded with {len(classes)} output classes\")\n",
    "\n",
    "# Calculate model parameters and size\n",
    "total_params = sum(p.numel() for p in model.parameters())\n",
    "trainable_params = sum(p.numel() for p in model.parameters() if p.requires_grad)\n",
    "\n",
    "# Calculate model file size\n",
    "with tempfile.NamedTemporaryFile(delete=False, suffix='.pth') as tmp_file:\n",
    "    torch.save(model.state_dict(), tmp_file.name)\n",
    "    model_size_mb = os.path.getsize(tmp_file.name) / (1024 * 1024)\n",
    "    os.unlink(tmp_file.name)\n",
    "\n",
    "print(f\"📊 Total parameters: {total_params:,}\")\n",
    "print(f\"📊 Trainable parameters: {trainable_params:,}\")\n",
    "print(f\"📊 Model file size: {model_size_mb:.2f} MB\")\n",
    "print(f\"📋 Model Architecture:\")\n",
    "print(f\"│ Input size: (3, 224, 224)\")\n",
    "print(f\"│ EfficientNet-B0 features: 1280\")\n",
    "print(f\"│ Output classes: {len(classes)}\")\n",
    "print(f\"│ Compound scaling: Depth/Width/Resolution optimized\")\n"
   ]
  },
  {
   "cell_type": "code",
   "execution_count": 8,
   "id": "86ffbdbf",
   "metadata": {
    "execution": {
     "iopub.execute_input": "2025-09-08T05:43:25.880610Z",
     "iopub.status.busy": "2025-09-08T05:43:25.880348Z",
     "iopub.status.idle": "2025-09-08T06:34:21.714223Z",
     "shell.execute_reply": "2025-09-08T06:34:21.713558Z"
    },
    "papermill": {
     "duration": 3055.840032,
     "end_time": "2025-09-08T06:34:21.716631",
     "exception": false,
     "start_time": "2025-09-08T05:43:25.876599",
     "status": "completed"
    },
    "tags": []
   },
   "outputs": [
    {
     "name": "stdout",
     "output_type": "stream",
     "text": [
      "\n",
      "📋 Training Configuration:\n",
      "│ Model: EfficientNet-B0 (pretrained)\n",
      "│ Optimizer: Adam (lr=0.0001)\n",
      "│ Loss Function: CrossEntropyLoss\n",
      "│ Batch Size: 32\n",
      "│ Device: cuda\n",
      "│ Data: Filtered (excluding 'random_occlusion')\n",
      "\n",
      "🚀 Starting EfficientNet-B0 Fine-tuning for 50 epochs...\n",
      "================================================================================\n",
      "\n",
      "📈 Epoch 1/50\n",
      "--------------------------------------------------\n",
      "🔄 Training Phase...\n"
     ]
    },
    {
     "name": "stderr",
     "output_type": "stream",
     "text": [
      "Training: 100%|██████████████████████████████| 162/162 [01:12<00:00,  2.23it/s, Loss=1.3710, Acc=0.5195]\n"
     ]
    },
    {
     "name": "stdout",
     "output_type": "stream",
     "text": [
      "✅ Training completed in 72.78s\n",
      "🔍 Validation Phase...\n"
     ]
    },
    {
     "name": "stderr",
     "output_type": "stream",
     "text": [
      "Validation: 100%|██████████████████████████████| 42/42 [00:17<00:00,  2.43it/s, Loss=1.1207, Acc=0.5979]\n"
     ]
    },
    {
     "name": "stdout",
     "output_type": "stream",
     "text": [
      "✅ Validation completed in 17.27s\n",
      "🌟 New best model found! Validation Loss: 1.1207\n",
      "\n",
      "📊 Epoch 1 Summary:\n",
      "│ Train Loss: 1.3710 | Train Acc: 0.5195\n",
      "│ Val Loss:   1.1207 | Val Acc:   0.5979\n",
      "│ Train Time: 72.78s | Val Time: 17.27s\n",
      "│ Total Epoch Time: 90.05s\n",
      "│ Best Val Loss: 1.1207 (Epoch 1)\n",
      "│ GPU Memory: 0.1GB / 3.2GB\n",
      "================================================================================\n",
      "\n",
      "📈 Epoch 2/50\n",
      "--------------------------------------------------\n",
      "🔄 Training Phase...\n"
     ]
    },
    {
     "name": "stderr",
     "output_type": "stream",
     "text": [
      "Training: 100%|██████████████████████████████| 162/162 [00:48<00:00,  3.35it/s, Loss=0.4754, Acc=0.8632]\n"
     ]
    },
    {
     "name": "stdout",
     "output_type": "stream",
     "text": [
      "✅ Training completed in 48.35s\n",
      "🔍 Validation Phase...\n"
     ]
    },
    {
     "name": "stderr",
     "output_type": "stream",
     "text": [
      "Validation: 100%|██████████████████████████████| 42/42 [00:10<00:00,  3.99it/s, Loss=0.8861, Acc=0.7146]\n"
     ]
    },
    {
     "name": "stdout",
     "output_type": "stream",
     "text": [
      "✅ Validation completed in 10.53s\n",
      "🌟 New best model found! Validation Loss: 0.8861\n",
      "\n",
      "📊 Epoch 2 Summary:\n",
      "│ Train Loss: 0.4754 | Train Acc: 0.8632\n",
      "│ Val Loss:   0.8861 | Val Acc:   0.7146\n",
      "│ Train Time: 48.35s | Val Time: 10.53s\n",
      "│ Total Epoch Time: 58.88s\n",
      "│ Best Val Loss: 0.8861 (Epoch 2)\n",
      "│ GPU Memory: 0.1GB / 3.2GB\n",
      "================================================================================\n",
      "\n",
      "📈 Epoch 3/50\n",
      "--------------------------------------------------\n",
      "🔄 Training Phase...\n"
     ]
    },
    {
     "name": "stderr",
     "output_type": "stream",
     "text": [
      "Training: 100%|██████████████████████████████| 162/162 [00:49<00:00,  3.26it/s, Loss=0.1689, Acc=0.9572]\n"
     ]
    },
    {
     "name": "stdout",
     "output_type": "stream",
     "text": [
      "✅ Training completed in 49.67s\n",
      "🔍 Validation Phase...\n"
     ]
    },
    {
     "name": "stderr",
     "output_type": "stream",
     "text": [
      "Validation: 100%|██████████████████████████████| 42/42 [00:10<00:00,  3.99it/s, Loss=0.9236, Acc=0.7319]\n"
     ]
    },
    {
     "name": "stdout",
     "output_type": "stream",
     "text": [
      "✅ Validation completed in 10.53s\n",
      "\n",
      "📊 Epoch 3 Summary:\n",
      "│ Train Loss: 0.1689 | Train Acc: 0.9572\n",
      "│ Val Loss:   0.9236 | Val Acc:   0.7319\n",
      "│ Train Time: 49.67s | Val Time: 10.53s\n",
      "│ Total Epoch Time: 60.21s\n",
      "│ Best Val Loss: 0.8861 (Epoch 2)\n",
      "│ GPU Memory: 0.1GB / 3.2GB\n",
      "================================================================================\n",
      "\n",
      "📈 Epoch 4/50\n",
      "--------------------------------------------------\n",
      "🔄 Training Phase...\n"
     ]
    },
    {
     "name": "stderr",
     "output_type": "stream",
     "text": [
      "Training: 100%|██████████████████████████████| 162/162 [00:49<00:00,  3.27it/s, Loss=0.0760, Acc=0.9820]\n"
     ]
    },
    {
     "name": "stdout",
     "output_type": "stream",
     "text": [
      "✅ Training completed in 49.59s\n",
      "🔍 Validation Phase...\n"
     ]
    },
    {
     "name": "stderr",
     "output_type": "stream",
     "text": [
      "Validation: 100%|██████████████████████████████| 42/42 [00:10<00:00,  3.94it/s, Loss=0.9729, Acc=0.7462]\n"
     ]
    },
    {
     "name": "stdout",
     "output_type": "stream",
     "text": [
      "✅ Validation completed in 10.67s\n",
      "\n",
      "📊 Epoch 4 Summary:\n",
      "│ Train Loss: 0.0760 | Train Acc: 0.9820\n",
      "│ Val Loss:   0.9729 | Val Acc:   0.7462\n",
      "│ Train Time: 49.59s | Val Time: 10.67s\n",
      "│ Total Epoch Time: 60.26s\n",
      "│ Best Val Loss: 0.8861 (Epoch 2)\n",
      "│ GPU Memory: 0.1GB / 3.2GB\n",
      "================================================================================\n",
      "\n",
      "📈 Epoch 5/50\n",
      "--------------------------------------------------\n",
      "🔄 Training Phase...\n"
     ]
    },
    {
     "name": "stderr",
     "output_type": "stream",
     "text": [
      "Training: 100%|██████████████████████████████| 162/162 [00:49<00:00,  3.25it/s, Loss=0.0537, Acc=0.9872]\n"
     ]
    },
    {
     "name": "stdout",
     "output_type": "stream",
     "text": [
      "✅ Training completed in 49.93s\n",
      "🔍 Validation Phase...\n"
     ]
    },
    {
     "name": "stderr",
     "output_type": "stream",
     "text": [
      "Validation: 100%|██████████████████████████████| 42/42 [00:10<00:00,  3.94it/s, Loss=1.0358, Acc=0.7327]\n"
     ]
    },
    {
     "name": "stdout",
     "output_type": "stream",
     "text": [
      "✅ Validation completed in 10.66s\n",
      "\n",
      "📊 Epoch 5 Summary:\n",
      "│ Train Loss: 0.0537 | Train Acc: 0.9872\n",
      "│ Val Loss:   1.0358 | Val Acc:   0.7327\n",
      "│ Train Time: 49.93s | Val Time: 10.66s\n",
      "│ Total Epoch Time: 60.59s\n",
      "│ Best Val Loss: 0.8861 (Epoch 2)\n",
      "│ GPU Memory: 0.1GB / 3.2GB\n",
      "================================================================================\n",
      "\n",
      "📈 Epoch 6/50\n",
      "--------------------------------------------------\n",
      "🔄 Training Phase...\n"
     ]
    },
    {
     "name": "stderr",
     "output_type": "stream",
     "text": [
      "Training: 100%|██████████████████████████████| 162/162 [00:50<00:00,  3.21it/s, Loss=0.0431, Acc=0.9868]\n"
     ]
    },
    {
     "name": "stdout",
     "output_type": "stream",
     "text": [
      "✅ Training completed in 50.44s\n",
      "🔍 Validation Phase...\n"
     ]
    },
    {
     "name": "stderr",
     "output_type": "stream",
     "text": [
      "Validation: 100%|██████████████████████████████| 42/42 [00:10<00:00,  3.85it/s, Loss=1.0823, Acc=0.7387]\n"
     ]
    },
    {
     "name": "stdout",
     "output_type": "stream",
     "text": [
      "✅ Validation completed in 10.91s\n",
      "\n",
      "📊 Epoch 6 Summary:\n",
      "│ Train Loss: 0.0431 | Train Acc: 0.9868\n",
      "│ Val Loss:   1.0823 | Val Acc:   0.7387\n",
      "│ Train Time: 50.44s | Val Time: 10.91s\n",
      "│ Total Epoch Time: 61.35s\n",
      "│ Best Val Loss: 0.8861 (Epoch 2)\n",
      "│ GPU Memory: 0.1GB / 3.2GB\n",
      "================================================================================\n",
      "\n",
      "📈 Epoch 7/50\n",
      "--------------------------------------------------\n",
      "🔄 Training Phase...\n"
     ]
    },
    {
     "name": "stderr",
     "output_type": "stream",
     "text": [
      "Training: 100%|██████████████████████████████| 162/162 [00:50<00:00,  3.20it/s, Loss=0.0344, Acc=0.9892]\n"
     ]
    },
    {
     "name": "stdout",
     "output_type": "stream",
     "text": [
      "✅ Training completed in 50.67s\n",
      "🔍 Validation Phase...\n"
     ]
    },
    {
     "name": "stderr",
     "output_type": "stream",
     "text": [
      "Validation: 100%|██████████████████████████████| 42/42 [00:10<00:00,  3.87it/s, Loss=1.0939, Acc=0.7620]\n"
     ]
    },
    {
     "name": "stdout",
     "output_type": "stream",
     "text": [
      "✅ Validation completed in 10.85s\n",
      "\n",
      "📊 Epoch 7 Summary:\n",
      "│ Train Loss: 0.0344 | Train Acc: 0.9892\n",
      "│ Val Loss:   1.0939 | Val Acc:   0.7620\n",
      "│ Train Time: 50.67s | Val Time: 10.85s\n",
      "│ Total Epoch Time: 61.53s\n",
      "│ Best Val Loss: 0.8861 (Epoch 2)\n",
      "│ GPU Memory: 0.1GB / 3.2GB\n",
      "================================================================================\n",
      "\n",
      "📈 Epoch 8/50\n",
      "--------------------------------------------------\n",
      "🔄 Training Phase...\n"
     ]
    },
    {
     "name": "stderr",
     "output_type": "stream",
     "text": [
      "Training: 100%|██████████████████████████████| 162/162 [00:49<00:00,  3.26it/s, Loss=0.0287, Acc=0.9901]\n"
     ]
    },
    {
     "name": "stdout",
     "output_type": "stream",
     "text": [
      "✅ Training completed in 49.63s\n",
      "🔍 Validation Phase...\n"
     ]
    },
    {
     "name": "stderr",
     "output_type": "stream",
     "text": [
      "Validation: 100%|██████████████████████████████| 42/42 [00:10<00:00,  3.98it/s, Loss=1.0777, Acc=0.7816]\n"
     ]
    },
    {
     "name": "stdout",
     "output_type": "stream",
     "text": [
      "✅ Validation completed in 10.55s\n",
      "\n",
      "📊 Epoch 8 Summary:\n",
      "│ Train Loss: 0.0287 | Train Acc: 0.9901\n",
      "│ Val Loss:   1.0777 | Val Acc:   0.7816\n",
      "│ Train Time: 49.63s | Val Time: 10.55s\n",
      "│ Total Epoch Time: 60.19s\n",
      "│ Best Val Loss: 0.8861 (Epoch 2)\n",
      "│ GPU Memory: 0.1GB / 3.2GB\n",
      "================================================================================\n",
      "\n",
      "📈 Epoch 9/50\n",
      "--------------------------------------------------\n",
      "🔄 Training Phase...\n"
     ]
    },
    {
     "name": "stderr",
     "output_type": "stream",
     "text": [
      "Training: 100%|██████████████████████████████| 162/162 [00:49<00:00,  3.25it/s, Loss=0.0278, Acc=0.9896]\n"
     ]
    },
    {
     "name": "stdout",
     "output_type": "stream",
     "text": [
      "✅ Training completed in 49.79s\n",
      "🔍 Validation Phase...\n"
     ]
    },
    {
     "name": "stderr",
     "output_type": "stream",
     "text": [
      "Validation: 100%|██████████████████████████████| 42/42 [00:10<00:00,  4.00it/s, Loss=1.2003, Acc=0.7477]\n"
     ]
    },
    {
     "name": "stdout",
     "output_type": "stream",
     "text": [
      "✅ Validation completed in 10.50s\n",
      "\n",
      "📊 Epoch 9 Summary:\n",
      "│ Train Loss: 0.0278 | Train Acc: 0.9896\n",
      "│ Val Loss:   1.2003 | Val Acc:   0.7477\n",
      "│ Train Time: 49.79s | Val Time: 10.50s\n",
      "│ Total Epoch Time: 60.29s\n",
      "│ Best Val Loss: 0.8861 (Epoch 2)\n",
      "│ GPU Memory: 0.1GB / 3.2GB\n",
      "================================================================================\n",
      "\n",
      "📈 Epoch 10/50\n",
      "--------------------------------------------------\n",
      "🔄 Training Phase...\n"
     ]
    },
    {
     "name": "stderr",
     "output_type": "stream",
     "text": [
      "Training: 100%|██████████████████████████████| 162/162 [00:49<00:00,  3.28it/s, Loss=0.0295, Acc=0.9909]\n"
     ]
    },
    {
     "name": "stdout",
     "output_type": "stream",
     "text": [
      "✅ Training completed in 49.36s\n",
      "🔍 Validation Phase...\n"
     ]
    },
    {
     "name": "stderr",
     "output_type": "stream",
     "text": [
      "Validation: 100%|██████████████████████████████| 42/42 [00:10<00:00,  3.95it/s, Loss=1.1647, Acc=0.7417]\n"
     ]
    },
    {
     "name": "stdout",
     "output_type": "stream",
     "text": [
      "✅ Validation completed in 10.64s\n",
      "\n",
      "📊 Epoch 10 Summary:\n",
      "│ Train Loss: 0.0295 | Train Acc: 0.9909\n",
      "│ Val Loss:   1.1647 | Val Acc:   0.7417\n",
      "│ Train Time: 49.36s | Val Time: 10.64s\n",
      "│ Total Epoch Time: 60.00s\n",
      "│ Best Val Loss: 0.8861 (Epoch 2)\n",
      "│ GPU Memory: 0.1GB / 3.2GB\n",
      "================================================================================\n",
      "\n",
      "📈 Epoch 11/50\n",
      "--------------------------------------------------\n",
      "🔄 Training Phase...\n"
     ]
    },
    {
     "name": "stderr",
     "output_type": "stream",
     "text": [
      "Training: 100%|██████████████████████████████| 162/162 [00:49<00:00,  3.27it/s, Loss=0.0219, Acc=0.9930]\n"
     ]
    },
    {
     "name": "stdout",
     "output_type": "stream",
     "text": [
      "✅ Training completed in 49.52s\n",
      "🔍 Validation Phase...\n"
     ]
    },
    {
     "name": "stderr",
     "output_type": "stream",
     "text": [
      "Validation: 100%|██████████████████████████████| 42/42 [00:10<00:00,  4.06it/s, Loss=1.2109, Acc=0.7553]\n"
     ]
    },
    {
     "name": "stdout",
     "output_type": "stream",
     "text": [
      "✅ Validation completed in 10.34s\n",
      "\n",
      "📊 Epoch 11 Summary:\n",
      "│ Train Loss: 0.0219 | Train Acc: 0.9930\n",
      "│ Val Loss:   1.2109 | Val Acc:   0.7553\n",
      "│ Train Time: 49.52s | Val Time: 10.34s\n",
      "│ Total Epoch Time: 59.87s\n",
      "│ Best Val Loss: 0.8861 (Epoch 2)\n",
      "│ GPU Memory: 0.1GB / 3.2GB\n",
      "================================================================================\n",
      "\n",
      "📈 Epoch 12/50\n",
      "--------------------------------------------------\n",
      "🔄 Training Phase...\n"
     ]
    },
    {
     "name": "stderr",
     "output_type": "stream",
     "text": [
      "Training: 100%|██████████████████████████████| 162/162 [00:49<00:00,  3.26it/s, Loss=0.0286, Acc=0.9901]\n"
     ]
    },
    {
     "name": "stdout",
     "output_type": "stream",
     "text": [
      "✅ Training completed in 49.73s\n",
      "🔍 Validation Phase...\n"
     ]
    },
    {
     "name": "stderr",
     "output_type": "stream",
     "text": [
      "Validation: 100%|██████████████████████████████| 42/42 [00:10<00:00,  3.98it/s, Loss=1.2018, Acc=0.7553]\n"
     ]
    },
    {
     "name": "stdout",
     "output_type": "stream",
     "text": [
      "✅ Validation completed in 10.54s\n",
      "\n",
      "📊 Epoch 12 Summary:\n",
      "│ Train Loss: 0.0286 | Train Acc: 0.9901\n",
      "│ Val Loss:   1.2018 | Val Acc:   0.7553\n",
      "│ Train Time: 49.73s | Val Time: 10.54s\n",
      "│ Total Epoch Time: 60.27s\n",
      "│ Best Val Loss: 0.8861 (Epoch 2)\n",
      "│ GPU Memory: 0.1GB / 3.2GB\n",
      "================================================================================\n",
      "\n",
      "📈 Epoch 13/50\n",
      "--------------------------------------------------\n",
      "🔄 Training Phase...\n"
     ]
    },
    {
     "name": "stderr",
     "output_type": "stream",
     "text": [
      "Training: 100%|██████████████████████████████| 162/162 [00:49<00:00,  3.28it/s, Loss=0.0227, Acc=0.9932]\n"
     ]
    },
    {
     "name": "stdout",
     "output_type": "stream",
     "text": [
      "✅ Training completed in 49.46s\n",
      "🔍 Validation Phase...\n"
     ]
    },
    {
     "name": "stderr",
     "output_type": "stream",
     "text": [
      "Validation: 100%|██████████████████████████████| 42/42 [00:10<00:00,  4.03it/s, Loss=1.2273, Acc=0.7485]\n"
     ]
    },
    {
     "name": "stdout",
     "output_type": "stream",
     "text": [
      "✅ Validation completed in 10.43s\n",
      "\n",
      "📊 Epoch 13 Summary:\n",
      "│ Train Loss: 0.0227 | Train Acc: 0.9932\n",
      "│ Val Loss:   1.2273 | Val Acc:   0.7485\n",
      "│ Train Time: 49.46s | Val Time: 10.43s\n",
      "│ Total Epoch Time: 59.90s\n",
      "│ Best Val Loss: 0.8861 (Epoch 2)\n",
      "│ GPU Memory: 0.1GB / 3.2GB\n",
      "================================================================================\n",
      "\n",
      "📈 Epoch 14/50\n",
      "--------------------------------------------------\n",
      "🔄 Training Phase...\n"
     ]
    },
    {
     "name": "stderr",
     "output_type": "stream",
     "text": [
      "Training: 100%|██████████████████████████████| 162/162 [00:49<00:00,  3.25it/s, Loss=0.0153, Acc=0.9946]\n"
     ]
    },
    {
     "name": "stdout",
     "output_type": "stream",
     "text": [
      "✅ Training completed in 49.84s\n",
      "🔍 Validation Phase...\n"
     ]
    },
    {
     "name": "stderr",
     "output_type": "stream",
     "text": [
      "Validation: 100%|██████████████████████████████| 42/42 [00:10<00:00,  4.02it/s, Loss=1.2942, Acc=0.7575]\n"
     ]
    },
    {
     "name": "stdout",
     "output_type": "stream",
     "text": [
      "✅ Validation completed in 10.45s\n",
      "\n",
      "📊 Epoch 14 Summary:\n",
      "│ Train Loss: 0.0153 | Train Acc: 0.9946\n",
      "│ Val Loss:   1.2942 | Val Acc:   0.7575\n",
      "│ Train Time: 49.84s | Val Time: 10.45s\n",
      "│ Total Epoch Time: 60.29s\n",
      "│ Best Val Loss: 0.8861 (Epoch 2)\n",
      "│ GPU Memory: 0.1GB / 3.2GB\n",
      "================================================================================\n",
      "\n",
      "📈 Epoch 15/50\n",
      "--------------------------------------------------\n",
      "🔄 Training Phase...\n"
     ]
    },
    {
     "name": "stderr",
     "output_type": "stream",
     "text": [
      "Training: 100%|██████████████████████████████| 162/162 [00:49<00:00,  3.26it/s, Loss=0.0130, Acc=0.9952]\n"
     ]
    },
    {
     "name": "stdout",
     "output_type": "stream",
     "text": [
      "✅ Training completed in 49.63s\n",
      "🔍 Validation Phase...\n"
     ]
    },
    {
     "name": "stderr",
     "output_type": "stream",
     "text": [
      "Validation: 100%|██████████████████████████████| 42/42 [00:10<00:00,  3.99it/s, Loss=1.2745, Acc=0.7651]\n"
     ]
    },
    {
     "name": "stdout",
     "output_type": "stream",
     "text": [
      "✅ Validation completed in 10.54s\n",
      "\n",
      "📊 Epoch 15 Summary:\n",
      "│ Train Loss: 0.0130 | Train Acc: 0.9952\n",
      "│ Val Loss:   1.2745 | Val Acc:   0.7651\n",
      "│ Train Time: 49.63s | Val Time: 10.54s\n",
      "│ Total Epoch Time: 60.17s\n",
      "│ Best Val Loss: 0.8861 (Epoch 2)\n",
      "│ GPU Memory: 0.1GB / 3.2GB\n",
      "================================================================================\n",
      "\n",
      "📈 Epoch 16/50\n",
      "--------------------------------------------------\n",
      "🔄 Training Phase...\n"
     ]
    },
    {
     "name": "stderr",
     "output_type": "stream",
     "text": [
      "Training: 100%|██████████████████████████████| 162/162 [00:49<00:00,  3.25it/s, Loss=0.0178, Acc=0.9932]\n"
     ]
    },
    {
     "name": "stdout",
     "output_type": "stream",
     "text": [
      "✅ Training completed in 49.89s\n",
      "🔍 Validation Phase...\n"
     ]
    },
    {
     "name": "stderr",
     "output_type": "stream",
     "text": [
      "Validation: 100%|██████████████████████████████| 42/42 [00:10<00:00,  3.98it/s, Loss=1.2434, Acc=0.7741]\n"
     ]
    },
    {
     "name": "stdout",
     "output_type": "stream",
     "text": [
      "✅ Validation completed in 10.57s\n",
      "\n",
      "📊 Epoch 16 Summary:\n",
      "│ Train Loss: 0.0178 | Train Acc: 0.9932\n",
      "│ Val Loss:   1.2434 | Val Acc:   0.7741\n",
      "│ Train Time: 49.89s | Val Time: 10.57s\n",
      "│ Total Epoch Time: 60.46s\n",
      "│ Best Val Loss: 0.8861 (Epoch 2)\n",
      "│ GPU Memory: 0.1GB / 3.2GB\n",
      "================================================================================\n",
      "\n",
      "📈 Epoch 17/50\n",
      "--------------------------------------------------\n",
      "🔄 Training Phase...\n"
     ]
    },
    {
     "name": "stderr",
     "output_type": "stream",
     "text": [
      "Training: 100%|██████████████████████████████| 162/162 [00:49<00:00,  3.28it/s, Loss=0.0109, Acc=0.9957]\n"
     ]
    },
    {
     "name": "stdout",
     "output_type": "stream",
     "text": [
      "✅ Training completed in 49.35s\n",
      "🔍 Validation Phase...\n"
     ]
    },
    {
     "name": "stderr",
     "output_type": "stream",
     "text": [
      "Validation: 100%|██████████████████████████████| 42/42 [00:10<00:00,  4.01it/s, Loss=1.2432, Acc=0.7658]\n"
     ]
    },
    {
     "name": "stdout",
     "output_type": "stream",
     "text": [
      "✅ Validation completed in 10.47s\n",
      "\n",
      "📊 Epoch 17 Summary:\n",
      "│ Train Loss: 0.0109 | Train Acc: 0.9957\n",
      "│ Val Loss:   1.2432 | Val Acc:   0.7658\n",
      "│ Train Time: 49.35s | Val Time: 10.47s\n",
      "│ Total Epoch Time: 59.82s\n",
      "│ Best Val Loss: 0.8861 (Epoch 2)\n",
      "│ GPU Memory: 0.1GB / 3.2GB\n",
      "================================================================================\n",
      "\n",
      "📈 Epoch 18/50\n",
      "--------------------------------------------------\n",
      "🔄 Training Phase...\n"
     ]
    },
    {
     "name": "stderr",
     "output_type": "stream",
     "text": [
      "Training: 100%|██████████████████████████████| 162/162 [00:49<00:00,  3.30it/s, Loss=0.0125, Acc=0.9944]\n"
     ]
    },
    {
     "name": "stdout",
     "output_type": "stream",
     "text": [
      "✅ Training completed in 49.05s\n",
      "🔍 Validation Phase...\n"
     ]
    },
    {
     "name": "stderr",
     "output_type": "stream",
     "text": [
      "Validation: 100%|██████████████████████████████| 42/42 [00:10<00:00,  4.02it/s, Loss=1.2123, Acc=0.7598]\n"
     ]
    },
    {
     "name": "stdout",
     "output_type": "stream",
     "text": [
      "✅ Validation completed in 10.45s\n",
      "\n",
      "📊 Epoch 18 Summary:\n",
      "│ Train Loss: 0.0125 | Train Acc: 0.9944\n",
      "│ Val Loss:   1.2123 | Val Acc:   0.7598\n",
      "│ Train Time: 49.05s | Val Time: 10.45s\n",
      "│ Total Epoch Time: 59.50s\n",
      "│ Best Val Loss: 0.8861 (Epoch 2)\n",
      "│ GPU Memory: 0.1GB / 3.2GB\n",
      "================================================================================\n",
      "\n",
      "📈 Epoch 19/50\n",
      "--------------------------------------------------\n",
      "🔄 Training Phase...\n"
     ]
    },
    {
     "name": "stderr",
     "output_type": "stream",
     "text": [
      "Training: 100%|██████████████████████████████| 162/162 [00:49<00:00,  3.29it/s, Loss=0.0190, Acc=0.9925]\n"
     ]
    },
    {
     "name": "stdout",
     "output_type": "stream",
     "text": [
      "✅ Training completed in 49.28s\n",
      "🔍 Validation Phase...\n"
     ]
    },
    {
     "name": "stderr",
     "output_type": "stream",
     "text": [
      "Validation: 100%|██████████████████████████████| 42/42 [00:10<00:00,  4.02it/s, Loss=1.3859, Acc=0.7462]\n"
     ]
    },
    {
     "name": "stdout",
     "output_type": "stream",
     "text": [
      "✅ Validation completed in 10.44s\n",
      "\n",
      "📊 Epoch 19 Summary:\n",
      "│ Train Loss: 0.0190 | Train Acc: 0.9925\n",
      "│ Val Loss:   1.3859 | Val Acc:   0.7462\n",
      "│ Train Time: 49.28s | Val Time: 10.44s\n",
      "│ Total Epoch Time: 59.72s\n",
      "│ Best Val Loss: 0.8861 (Epoch 2)\n",
      "│ GPU Memory: 0.1GB / 3.2GB\n",
      "================================================================================\n",
      "\n",
      "📈 Epoch 20/50\n",
      "--------------------------------------------------\n",
      "🔄 Training Phase...\n"
     ]
    },
    {
     "name": "stderr",
     "output_type": "stream",
     "text": [
      "Training: 100%|██████████████████████████████| 162/162 [00:49<00:00,  3.29it/s, Loss=0.0195, Acc=0.9930]\n"
     ]
    },
    {
     "name": "stdout",
     "output_type": "stream",
     "text": [
      "✅ Training completed in 49.28s\n",
      "🔍 Validation Phase...\n"
     ]
    },
    {
     "name": "stderr",
     "output_type": "stream",
     "text": [
      "Validation: 100%|██████████████████████████████| 42/42 [00:10<00:00,  3.98it/s, Loss=1.4246, Acc=0.7508]\n"
     ]
    },
    {
     "name": "stdout",
     "output_type": "stream",
     "text": [
      "✅ Validation completed in 10.55s\n",
      "\n",
      "📊 Epoch 20 Summary:\n",
      "│ Train Loss: 0.0195 | Train Acc: 0.9930\n",
      "│ Val Loss:   1.4246 | Val Acc:   0.7508\n",
      "│ Train Time: 49.28s | Val Time: 10.55s\n",
      "│ Total Epoch Time: 59.84s\n",
      "│ Best Val Loss: 0.8861 (Epoch 2)\n",
      "│ GPU Memory: 0.1GB / 3.2GB\n",
      "================================================================================\n",
      "\n",
      "📈 Epoch 21/50\n",
      "--------------------------------------------------\n",
      "🔄 Training Phase...\n"
     ]
    },
    {
     "name": "stderr",
     "output_type": "stream",
     "text": [
      "Training: 100%|██████████████████████████████| 162/162 [00:49<00:00,  3.26it/s, Loss=0.0157, Acc=0.9936]\n"
     ]
    },
    {
     "name": "stdout",
     "output_type": "stream",
     "text": [
      "✅ Training completed in 49.63s\n",
      "🔍 Validation Phase...\n"
     ]
    },
    {
     "name": "stderr",
     "output_type": "stream",
     "text": [
      "Validation: 100%|██████████████████████████████| 42/42 [00:10<00:00,  3.99it/s, Loss=1.2678, Acc=0.7636]\n"
     ]
    },
    {
     "name": "stdout",
     "output_type": "stream",
     "text": [
      "✅ Validation completed in 10.52s\n",
      "\n",
      "📊 Epoch 21 Summary:\n",
      "│ Train Loss: 0.0157 | Train Acc: 0.9936\n",
      "│ Val Loss:   1.2678 | Val Acc:   0.7636\n",
      "│ Train Time: 49.63s | Val Time: 10.52s\n",
      "│ Total Epoch Time: 60.16s\n",
      "│ Best Val Loss: 0.8861 (Epoch 2)\n",
      "│ GPU Memory: 0.1GB / 3.2GB\n",
      "================================================================================\n",
      "\n",
      "📈 Epoch 22/50\n",
      "--------------------------------------------------\n",
      "🔄 Training Phase...\n"
     ]
    },
    {
     "name": "stderr",
     "output_type": "stream",
     "text": [
      "Training: 100%|██████████████████████████████| 162/162 [00:49<00:00,  3.27it/s, Loss=0.0188, Acc=0.9923]\n"
     ]
    },
    {
     "name": "stdout",
     "output_type": "stream",
     "text": [
      "✅ Training completed in 49.54s\n",
      "🔍 Validation Phase...\n"
     ]
    },
    {
     "name": "stderr",
     "output_type": "stream",
     "text": [
      "Validation: 100%|██████████████████████████████| 42/42 [00:10<00:00,  3.99it/s, Loss=1.3942, Acc=0.7440]\n"
     ]
    },
    {
     "name": "stdout",
     "output_type": "stream",
     "text": [
      "✅ Validation completed in 10.53s\n",
      "\n",
      "📊 Epoch 22 Summary:\n",
      "│ Train Loss: 0.0188 | Train Acc: 0.9923\n",
      "│ Val Loss:   1.3942 | Val Acc:   0.7440\n",
      "│ Train Time: 49.54s | Val Time: 10.53s\n",
      "│ Total Epoch Time: 60.08s\n",
      "│ Best Val Loss: 0.8861 (Epoch 2)\n",
      "│ GPU Memory: 0.1GB / 3.2GB\n",
      "================================================================================\n",
      "\n",
      "📈 Epoch 23/50\n",
      "--------------------------------------------------\n",
      "🔄 Training Phase...\n"
     ]
    },
    {
     "name": "stderr",
     "output_type": "stream",
     "text": [
      "Training: 100%|██████████████████████████████| 162/162 [00:49<00:00,  3.27it/s, Loss=0.0130, Acc=0.9959]\n"
     ]
    },
    {
     "name": "stdout",
     "output_type": "stream",
     "text": [
      "✅ Training completed in 49.53s\n",
      "🔍 Validation Phase...\n"
     ]
    },
    {
     "name": "stderr",
     "output_type": "stream",
     "text": [
      "Validation: 100%|██████████████████████████████| 42/42 [00:10<00:00,  4.00it/s, Loss=1.3957, Acc=0.7508]\n"
     ]
    },
    {
     "name": "stdout",
     "output_type": "stream",
     "text": [
      "✅ Validation completed in 10.49s\n",
      "\n",
      "📊 Epoch 23 Summary:\n",
      "│ Train Loss: 0.0130 | Train Acc: 0.9959\n",
      "│ Val Loss:   1.3957 | Val Acc:   0.7508\n",
      "│ Train Time: 49.53s | Val Time: 10.49s\n",
      "│ Total Epoch Time: 60.02s\n",
      "│ Best Val Loss: 0.8861 (Epoch 2)\n",
      "│ GPU Memory: 0.1GB / 3.2GB\n",
      "================================================================================\n",
      "\n",
      "📈 Epoch 24/50\n",
      "--------------------------------------------------\n",
      "🔄 Training Phase...\n"
     ]
    },
    {
     "name": "stderr",
     "output_type": "stream",
     "text": [
      "Training: 100%|██████████████████████████████| 162/162 [00:49<00:00,  3.27it/s, Loss=0.0142, Acc=0.9940]\n"
     ]
    },
    {
     "name": "stdout",
     "output_type": "stream",
     "text": [
      "✅ Training completed in 49.48s\n",
      "🔍 Validation Phase...\n"
     ]
    },
    {
     "name": "stderr",
     "output_type": "stream",
     "text": [
      "Validation: 100%|██████████████████████████████| 42/42 [00:10<00:00,  4.03it/s, Loss=1.3062, Acc=0.7666]\n"
     ]
    },
    {
     "name": "stdout",
     "output_type": "stream",
     "text": [
      "✅ Validation completed in 10.43s\n",
      "\n",
      "📊 Epoch 24 Summary:\n",
      "│ Train Loss: 0.0142 | Train Acc: 0.9940\n",
      "│ Val Loss:   1.3062 | Val Acc:   0.7666\n",
      "│ Train Time: 49.48s | Val Time: 10.43s\n",
      "│ Total Epoch Time: 59.91s\n",
      "│ Best Val Loss: 0.8861 (Epoch 2)\n",
      "│ GPU Memory: 0.1GB / 3.2GB\n",
      "================================================================================\n",
      "\n",
      "📈 Epoch 25/50\n",
      "--------------------------------------------------\n",
      "🔄 Training Phase...\n"
     ]
    },
    {
     "name": "stderr",
     "output_type": "stream",
     "text": [
      "Training: 100%|██████████████████████████████| 162/162 [00:49<00:00,  3.26it/s, Loss=0.0110, Acc=0.9948]\n"
     ]
    },
    {
     "name": "stdout",
     "output_type": "stream",
     "text": [
      "✅ Training completed in 49.75s\n",
      "🔍 Validation Phase...\n"
     ]
    },
    {
     "name": "stderr",
     "output_type": "stream",
     "text": [
      "Validation: 100%|██████████████████████████████| 42/42 [00:10<00:00,  4.01it/s, Loss=1.4092, Acc=0.7703]\n"
     ]
    },
    {
     "name": "stdout",
     "output_type": "stream",
     "text": [
      "✅ Validation completed in 10.49s\n",
      "\n",
      "📊 Epoch 25 Summary:\n",
      "│ Train Loss: 0.0110 | Train Acc: 0.9948\n",
      "│ Val Loss:   1.4092 | Val Acc:   0.7703\n",
      "│ Train Time: 49.75s | Val Time: 10.49s\n",
      "│ Total Epoch Time: 60.24s\n",
      "│ Best Val Loss: 0.8861 (Epoch 2)\n",
      "│ GPU Memory: 0.1GB / 3.2GB\n",
      "================================================================================\n",
      "\n",
      "📈 Epoch 26/50\n",
      "--------------------------------------------------\n",
      "🔄 Training Phase...\n"
     ]
    },
    {
     "name": "stderr",
     "output_type": "stream",
     "text": [
      "Training: 100%|██████████████████████████████| 162/162 [00:49<00:00,  3.28it/s, Loss=0.0085, Acc=0.9957]\n"
     ]
    },
    {
     "name": "stdout",
     "output_type": "stream",
     "text": [
      "✅ Training completed in 49.38s\n",
      "🔍 Validation Phase...\n"
     ]
    },
    {
     "name": "stderr",
     "output_type": "stream",
     "text": [
      "Validation: 100%|██████████████████████████████| 42/42 [00:10<00:00,  4.03it/s, Loss=1.5065, Acc=0.7688]\n"
     ]
    },
    {
     "name": "stdout",
     "output_type": "stream",
     "text": [
      "✅ Validation completed in 10.42s\n",
      "\n",
      "📊 Epoch 26 Summary:\n",
      "│ Train Loss: 0.0085 | Train Acc: 0.9957\n",
      "│ Val Loss:   1.5065 | Val Acc:   0.7688\n",
      "│ Train Time: 49.38s | Val Time: 10.42s\n",
      "│ Total Epoch Time: 59.80s\n",
      "│ Best Val Loss: 0.8861 (Epoch 2)\n",
      "│ GPU Memory: 0.1GB / 3.2GB\n",
      "================================================================================\n",
      "\n",
      "📈 Epoch 27/50\n",
      "--------------------------------------------------\n",
      "🔄 Training Phase...\n"
     ]
    },
    {
     "name": "stderr",
     "output_type": "stream",
     "text": [
      "Training: 100%|██████████████████████████████| 162/162 [00:49<00:00,  3.27it/s, Loss=0.0116, Acc=0.9948]\n"
     ]
    },
    {
     "name": "stdout",
     "output_type": "stream",
     "text": [
      "✅ Training completed in 49.49s\n",
      "🔍 Validation Phase...\n"
     ]
    },
    {
     "name": "stderr",
     "output_type": "stream",
     "text": [
      "Validation: 100%|██████████████████████████████| 42/42 [00:10<00:00,  3.91it/s, Loss=1.4460, Acc=0.7545]\n"
     ]
    },
    {
     "name": "stdout",
     "output_type": "stream",
     "text": [
      "✅ Validation completed in 10.74s\n",
      "\n",
      "📊 Epoch 27 Summary:\n",
      "│ Train Loss: 0.0116 | Train Acc: 0.9948\n",
      "│ Val Loss:   1.4460 | Val Acc:   0.7545\n",
      "│ Train Time: 49.49s | Val Time: 10.74s\n",
      "│ Total Epoch Time: 60.23s\n",
      "│ Best Val Loss: 0.8861 (Epoch 2)\n",
      "│ GPU Memory: 0.1GB / 3.2GB\n",
      "================================================================================\n",
      "\n",
      "📈 Epoch 28/50\n",
      "--------------------------------------------------\n",
      "🔄 Training Phase...\n"
     ]
    },
    {
     "name": "stderr",
     "output_type": "stream",
     "text": [
      "Training: 100%|██████████████████████████████| 162/162 [00:49<00:00,  3.29it/s, Loss=0.0136, Acc=0.9944]\n"
     ]
    },
    {
     "name": "stdout",
     "output_type": "stream",
     "text": [
      "✅ Training completed in 49.25s\n",
      "🔍 Validation Phase...\n"
     ]
    },
    {
     "name": "stderr",
     "output_type": "stream",
     "text": [
      "Validation: 100%|██████████████████████████████| 42/42 [00:10<00:00,  3.91it/s, Loss=1.4373, Acc=0.7794]\n"
     ]
    },
    {
     "name": "stdout",
     "output_type": "stream",
     "text": [
      "✅ Validation completed in 10.76s\n",
      "\n",
      "📊 Epoch 28 Summary:\n",
      "│ Train Loss: 0.0136 | Train Acc: 0.9944\n",
      "│ Val Loss:   1.4373 | Val Acc:   0.7794\n",
      "│ Train Time: 49.25s | Val Time: 10.76s\n",
      "│ Total Epoch Time: 60.01s\n",
      "│ Best Val Loss: 0.8861 (Epoch 2)\n",
      "│ GPU Memory: 0.1GB / 3.2GB\n",
      "================================================================================\n",
      "\n",
      "📈 Epoch 29/50\n",
      "--------------------------------------------------\n",
      "🔄 Training Phase...\n"
     ]
    },
    {
     "name": "stderr",
     "output_type": "stream",
     "text": [
      "Training: 100%|██████████████████████████████| 162/162 [00:49<00:00,  3.29it/s, Loss=0.0083, Acc=0.9965]\n"
     ]
    },
    {
     "name": "stdout",
     "output_type": "stream",
     "text": [
      "✅ Training completed in 49.26s\n",
      "🔍 Validation Phase...\n"
     ]
    },
    {
     "name": "stderr",
     "output_type": "stream",
     "text": [
      "Validation: 100%|██████████████████████████████| 42/42 [00:10<00:00,  3.98it/s, Loss=1.3684, Acc=0.7733]\n"
     ]
    },
    {
     "name": "stdout",
     "output_type": "stream",
     "text": [
      "✅ Validation completed in 10.55s\n",
      "\n",
      "📊 Epoch 29 Summary:\n",
      "│ Train Loss: 0.0083 | Train Acc: 0.9965\n",
      "│ Val Loss:   1.3684 | Val Acc:   0.7733\n",
      "│ Train Time: 49.26s | Val Time: 10.55s\n",
      "│ Total Epoch Time: 59.81s\n",
      "│ Best Val Loss: 0.8861 (Epoch 2)\n",
      "│ GPU Memory: 0.1GB / 3.2GB\n",
      "================================================================================\n",
      "\n",
      "📈 Epoch 30/50\n",
      "--------------------------------------------------\n",
      "🔄 Training Phase...\n"
     ]
    },
    {
     "name": "stderr",
     "output_type": "stream",
     "text": [
      "Training: 100%|██████████████████████████████| 162/162 [00:49<00:00,  3.27it/s, Loss=0.0142, Acc=0.9940]\n"
     ]
    },
    {
     "name": "stdout",
     "output_type": "stream",
     "text": [
      "✅ Training completed in 49.60s\n",
      "🔍 Validation Phase...\n"
     ]
    },
    {
     "name": "stderr",
     "output_type": "stream",
     "text": [
      "Validation: 100%|██████████████████████████████| 42/42 [00:10<00:00,  3.94it/s, Loss=1.3729, Acc=0.7515]\n"
     ]
    },
    {
     "name": "stdout",
     "output_type": "stream",
     "text": [
      "✅ Validation completed in 10.68s\n",
      "\n",
      "📊 Epoch 30 Summary:\n",
      "│ Train Loss: 0.0142 | Train Acc: 0.9940\n",
      "│ Val Loss:   1.3729 | Val Acc:   0.7515\n",
      "│ Train Time: 49.60s | Val Time: 10.68s\n",
      "│ Total Epoch Time: 60.28s\n",
      "│ Best Val Loss: 0.8861 (Epoch 2)\n",
      "│ GPU Memory: 0.1GB / 3.2GB\n",
      "================================================================================\n",
      "\n",
      "📈 Epoch 31/50\n",
      "--------------------------------------------------\n",
      "🔄 Training Phase...\n"
     ]
    },
    {
     "name": "stderr",
     "output_type": "stream",
     "text": [
      "Training: 100%|██████████████████████████████| 162/162 [00:49<00:00,  3.28it/s, Loss=0.0113, Acc=0.9950]\n"
     ]
    },
    {
     "name": "stdout",
     "output_type": "stream",
     "text": [
      "✅ Training completed in 49.35s\n",
      "🔍 Validation Phase...\n"
     ]
    },
    {
     "name": "stderr",
     "output_type": "stream",
     "text": [
      "Validation: 100%|██████████████████████████████| 42/42 [00:10<00:00,  3.97it/s, Loss=1.5592, Acc=0.7440]\n"
     ]
    },
    {
     "name": "stdout",
     "output_type": "stream",
     "text": [
      "✅ Validation completed in 10.58s\n",
      "\n",
      "📊 Epoch 31 Summary:\n",
      "│ Train Loss: 0.0113 | Train Acc: 0.9950\n",
      "│ Val Loss:   1.5592 | Val Acc:   0.7440\n",
      "│ Train Time: 49.35s | Val Time: 10.58s\n",
      "│ Total Epoch Time: 59.94s\n",
      "│ Best Val Loss: 0.8861 (Epoch 2)\n",
      "│ GPU Memory: 0.1GB / 3.2GB\n",
      "================================================================================\n",
      "\n",
      "📈 Epoch 32/50\n",
      "--------------------------------------------------\n",
      "🔄 Training Phase...\n"
     ]
    },
    {
     "name": "stderr",
     "output_type": "stream",
     "text": [
      "Training: 100%|██████████████████████████████| 162/162 [00:49<00:00,  3.25it/s, Loss=0.0116, Acc=0.9955]\n"
     ]
    },
    {
     "name": "stdout",
     "output_type": "stream",
     "text": [
      "✅ Training completed in 49.89s\n",
      "🔍 Validation Phase...\n"
     ]
    },
    {
     "name": "stderr",
     "output_type": "stream",
     "text": [
      "Validation: 100%|██████████████████████████████| 42/42 [00:10<00:00,  3.98it/s, Loss=1.5344, Acc=0.7515]\n"
     ]
    },
    {
     "name": "stdout",
     "output_type": "stream",
     "text": [
      "✅ Validation completed in 10.55s\n",
      "\n",
      "📊 Epoch 32 Summary:\n",
      "│ Train Loss: 0.0116 | Train Acc: 0.9955\n",
      "│ Val Loss:   1.5344 | Val Acc:   0.7515\n",
      "│ Train Time: 49.89s | Val Time: 10.55s\n",
      "│ Total Epoch Time: 60.44s\n",
      "│ Best Val Loss: 0.8861 (Epoch 2)\n",
      "│ GPU Memory: 0.1GB / 3.2GB\n",
      "================================================================================\n",
      "\n",
      "📈 Epoch 33/50\n",
      "--------------------------------------------------\n",
      "🔄 Training Phase...\n"
     ]
    },
    {
     "name": "stderr",
     "output_type": "stream",
     "text": [
      "Training: 100%|██████████████████████████████| 162/162 [00:49<00:00,  3.29it/s, Loss=0.0131, Acc=0.9950]\n"
     ]
    },
    {
     "name": "stdout",
     "output_type": "stream",
     "text": [
      "✅ Training completed in 49.23s\n",
      "🔍 Validation Phase...\n"
     ]
    },
    {
     "name": "stderr",
     "output_type": "stream",
     "text": [
      "Validation: 100%|██████████████████████████████| 42/42 [00:10<00:00,  4.09it/s, Loss=1.5432, Acc=0.7613]\n"
     ]
    },
    {
     "name": "stdout",
     "output_type": "stream",
     "text": [
      "✅ Validation completed in 10.27s\n",
      "\n",
      "📊 Epoch 33 Summary:\n",
      "│ Train Loss: 0.0131 | Train Acc: 0.9950\n",
      "│ Val Loss:   1.5432 | Val Acc:   0.7613\n",
      "│ Train Time: 49.23s | Val Time: 10.27s\n",
      "│ Total Epoch Time: 59.50s\n",
      "│ Best Val Loss: 0.8861 (Epoch 2)\n",
      "│ GPU Memory: 0.1GB / 3.2GB\n",
      "================================================================================\n",
      "\n",
      "📈 Epoch 34/50\n",
      "--------------------------------------------------\n",
      "🔄 Training Phase...\n"
     ]
    },
    {
     "name": "stderr",
     "output_type": "stream",
     "text": [
      "Training: 100%|██████████████████████████████| 162/162 [00:49<00:00,  3.30it/s, Loss=0.0160, Acc=0.9952]\n"
     ]
    },
    {
     "name": "stdout",
     "output_type": "stream",
     "text": [
      "✅ Training completed in 49.07s\n",
      "🔍 Validation Phase...\n"
     ]
    },
    {
     "name": "stderr",
     "output_type": "stream",
     "text": [
      "Validation: 100%|██████████████████████████████| 42/42 [00:10<00:00,  4.04it/s, Loss=1.5225, Acc=0.7470]\n"
     ]
    },
    {
     "name": "stdout",
     "output_type": "stream",
     "text": [
      "✅ Validation completed in 10.41s\n",
      "\n",
      "📊 Epoch 34 Summary:\n",
      "│ Train Loss: 0.0160 | Train Acc: 0.9952\n",
      "│ Val Loss:   1.5225 | Val Acc:   0.7470\n",
      "│ Train Time: 49.07s | Val Time: 10.41s\n",
      "│ Total Epoch Time: 59.48s\n",
      "│ Best Val Loss: 0.8861 (Epoch 2)\n",
      "│ GPU Memory: 0.1GB / 3.2GB\n",
      "================================================================================\n",
      "\n",
      "📈 Epoch 35/50\n",
      "--------------------------------------------------\n",
      "🔄 Training Phase...\n"
     ]
    },
    {
     "name": "stderr",
     "output_type": "stream",
     "text": [
      "Training: 100%|██████████████████████████████| 162/162 [00:49<00:00,  3.29it/s, Loss=0.0117, Acc=0.9952]\n"
     ]
    },
    {
     "name": "stdout",
     "output_type": "stream",
     "text": [
      "✅ Training completed in 49.26s\n",
      "🔍 Validation Phase...\n"
     ]
    },
    {
     "name": "stderr",
     "output_type": "stream",
     "text": [
      "Validation: 100%|██████████████████████████████| 42/42 [00:10<00:00,  4.03it/s, Loss=1.4756, Acc=0.7530]\n"
     ]
    },
    {
     "name": "stdout",
     "output_type": "stream",
     "text": [
      "✅ Validation completed in 10.42s\n",
      "\n",
      "📊 Epoch 35 Summary:\n",
      "│ Train Loss: 0.0117 | Train Acc: 0.9952\n",
      "│ Val Loss:   1.4756 | Val Acc:   0.7530\n",
      "│ Train Time: 49.26s | Val Time: 10.42s\n",
      "│ Total Epoch Time: 59.69s\n",
      "│ Best Val Loss: 0.8861 (Epoch 2)\n",
      "│ GPU Memory: 0.1GB / 3.2GB\n",
      "================================================================================\n",
      "\n",
      "📈 Epoch 36/50\n",
      "--------------------------------------------------\n",
      "🔄 Training Phase...\n"
     ]
    },
    {
     "name": "stderr",
     "output_type": "stream",
     "text": [
      "Training: 100%|██████████████████████████████| 162/162 [00:49<00:00,  3.28it/s, Loss=0.0109, Acc=0.9959]\n"
     ]
    },
    {
     "name": "stdout",
     "output_type": "stream",
     "text": [
      "✅ Training completed in 49.36s\n",
      "🔍 Validation Phase...\n"
     ]
    },
    {
     "name": "stderr",
     "output_type": "stream",
     "text": [
      "Validation: 100%|██████████████████████████████| 42/42 [00:10<00:00,  4.03it/s, Loss=1.4449, Acc=0.7515]\n"
     ]
    },
    {
     "name": "stdout",
     "output_type": "stream",
     "text": [
      "✅ Validation completed in 10.42s\n",
      "\n",
      "📊 Epoch 36 Summary:\n",
      "│ Train Loss: 0.0109 | Train Acc: 0.9959\n",
      "│ Val Loss:   1.4449 | Val Acc:   0.7515\n",
      "│ Train Time: 49.36s | Val Time: 10.42s\n",
      "│ Total Epoch Time: 59.78s\n",
      "│ Best Val Loss: 0.8861 (Epoch 2)\n",
      "│ GPU Memory: 0.1GB / 3.2GB\n",
      "================================================================================\n",
      "\n",
      "📈 Epoch 37/50\n",
      "--------------------------------------------------\n",
      "🔄 Training Phase...\n"
     ]
    },
    {
     "name": "stderr",
     "output_type": "stream",
     "text": [
      "Training: 100%|██████████████████████████████| 162/162 [00:49<00:00,  3.27it/s, Loss=0.0102, Acc=0.9954]\n"
     ]
    },
    {
     "name": "stdout",
     "output_type": "stream",
     "text": [
      "✅ Training completed in 49.48s\n",
      "🔍 Validation Phase...\n"
     ]
    },
    {
     "name": "stderr",
     "output_type": "stream",
     "text": [
      "Validation: 100%|██████████████████████████████| 42/42 [00:10<00:00,  4.00it/s, Loss=1.4973, Acc=0.7477]\n"
     ]
    },
    {
     "name": "stdout",
     "output_type": "stream",
     "text": [
      "✅ Validation completed in 10.51s\n",
      "\n",
      "📊 Epoch 37 Summary:\n",
      "│ Train Loss: 0.0102 | Train Acc: 0.9954\n",
      "│ Val Loss:   1.4973 | Val Acc:   0.7477\n",
      "│ Train Time: 49.48s | Val Time: 10.51s\n",
      "│ Total Epoch Time: 60.00s\n",
      "│ Best Val Loss: 0.8861 (Epoch 2)\n",
      "│ GPU Memory: 0.1GB / 3.2GB\n",
      "================================================================================\n",
      "\n",
      "📈 Epoch 38/50\n",
      "--------------------------------------------------\n",
      "🔄 Training Phase...\n"
     ]
    },
    {
     "name": "stderr",
     "output_type": "stream",
     "text": [
      "Training: 100%|██████████████████████████████| 162/162 [00:49<00:00,  3.28it/s, Loss=0.0137, Acc=0.9936]\n"
     ]
    },
    {
     "name": "stdout",
     "output_type": "stream",
     "text": [
      "✅ Training completed in 49.41s\n",
      "🔍 Validation Phase...\n"
     ]
    },
    {
     "name": "stderr",
     "output_type": "stream",
     "text": [
      "Validation: 100%|██████████████████████████████| 42/42 [00:10<00:00,  4.03it/s, Loss=1.4786, Acc=0.7432]\n"
     ]
    },
    {
     "name": "stdout",
     "output_type": "stream",
     "text": [
      "✅ Validation completed in 10.43s\n",
      "\n",
      "📊 Epoch 38 Summary:\n",
      "│ Train Loss: 0.0137 | Train Acc: 0.9936\n",
      "│ Val Loss:   1.4786 | Val Acc:   0.7432\n",
      "│ Train Time: 49.41s | Val Time: 10.43s\n",
      "│ Total Epoch Time: 59.85s\n",
      "│ Best Val Loss: 0.8861 (Epoch 2)\n",
      "│ GPU Memory: 0.1GB / 3.2GB\n",
      "================================================================================\n",
      "\n",
      "📈 Epoch 39/50\n",
      "--------------------------------------------------\n",
      "🔄 Training Phase...\n"
     ]
    },
    {
     "name": "stderr",
     "output_type": "stream",
     "text": [
      "Training: 100%|██████████████████████████████| 162/162 [00:49<00:00,  3.26it/s, Loss=0.0108, Acc=0.9950]\n"
     ]
    },
    {
     "name": "stdout",
     "output_type": "stream",
     "text": [
      "✅ Training completed in 49.75s\n",
      "🔍 Validation Phase...\n"
     ]
    },
    {
     "name": "stderr",
     "output_type": "stream",
     "text": [
      "Validation: 100%|██████████████████████████████| 42/42 [00:10<00:00,  3.98it/s, Loss=1.4981, Acc=0.7538]\n"
     ]
    },
    {
     "name": "stdout",
     "output_type": "stream",
     "text": [
      "✅ Validation completed in 10.55s\n",
      "\n",
      "📊 Epoch 39 Summary:\n",
      "│ Train Loss: 0.0108 | Train Acc: 0.9950\n",
      "│ Val Loss:   1.4981 | Val Acc:   0.7538\n",
      "│ Train Time: 49.75s | Val Time: 10.55s\n",
      "│ Total Epoch Time: 60.30s\n",
      "│ Best Val Loss: 0.8861 (Epoch 2)\n",
      "│ GPU Memory: 0.1GB / 3.2GB\n",
      "================================================================================\n",
      "\n",
      "📈 Epoch 40/50\n",
      "--------------------------------------------------\n",
      "🔄 Training Phase...\n"
     ]
    },
    {
     "name": "stderr",
     "output_type": "stream",
     "text": [
      "Training: 100%|██████████████████████████████| 162/162 [00:49<00:00,  3.28it/s, Loss=0.0069, Acc=0.9963]\n"
     ]
    },
    {
     "name": "stdout",
     "output_type": "stream",
     "text": [
      "✅ Training completed in 49.37s\n",
      "🔍 Validation Phase...\n"
     ]
    },
    {
     "name": "stderr",
     "output_type": "stream",
     "text": [
      "Validation: 100%|██████████████████████████████| 42/42 [00:10<00:00,  4.03it/s, Loss=1.5249, Acc=0.7568]\n"
     ]
    },
    {
     "name": "stdout",
     "output_type": "stream",
     "text": [
      "✅ Validation completed in 10.43s\n",
      "\n",
      "📊 Epoch 40 Summary:\n",
      "│ Train Loss: 0.0069 | Train Acc: 0.9963\n",
      "│ Val Loss:   1.5249 | Val Acc:   0.7568\n",
      "│ Train Time: 49.37s | Val Time: 10.43s\n",
      "│ Total Epoch Time: 59.80s\n",
      "│ Best Val Loss: 0.8861 (Epoch 2)\n",
      "│ GPU Memory: 0.1GB / 3.2GB\n",
      "================================================================================\n",
      "\n",
      "📈 Epoch 41/50\n",
      "--------------------------------------------------\n",
      "🔄 Training Phase...\n"
     ]
    },
    {
     "name": "stderr",
     "output_type": "stream",
     "text": [
      "Training: 100%|██████████████████████████████| 162/162 [00:49<00:00,  3.29it/s, Loss=0.0076, Acc=0.9965]\n"
     ]
    },
    {
     "name": "stdout",
     "output_type": "stream",
     "text": [
      "✅ Training completed in 49.23s\n",
      "🔍 Validation Phase...\n"
     ]
    },
    {
     "name": "stderr",
     "output_type": "stream",
     "text": [
      "Validation: 100%|██████████████████████████████| 42/42 [00:10<00:00,  4.02it/s, Loss=1.5768, Acc=0.7538]\n"
     ]
    },
    {
     "name": "stdout",
     "output_type": "stream",
     "text": [
      "✅ Validation completed in 10.44s\n",
      "\n",
      "📊 Epoch 41 Summary:\n",
      "│ Train Loss: 0.0076 | Train Acc: 0.9965\n",
      "│ Val Loss:   1.5768 | Val Acc:   0.7538\n",
      "│ Train Time: 49.23s | Val Time: 10.44s\n",
      "│ Total Epoch Time: 59.68s\n",
      "│ Best Val Loss: 0.8861 (Epoch 2)\n",
      "│ GPU Memory: 0.1GB / 3.2GB\n",
      "================================================================================\n",
      "\n",
      "📈 Epoch 42/50\n",
      "--------------------------------------------------\n",
      "🔄 Training Phase...\n"
     ]
    },
    {
     "name": "stderr",
     "output_type": "stream",
     "text": [
      "Training: 100%|██████████████████████████████| 162/162 [00:49<00:00,  3.28it/s, Loss=0.0124, Acc=0.9946]\n"
     ]
    },
    {
     "name": "stdout",
     "output_type": "stream",
     "text": [
      "✅ Training completed in 49.39s\n",
      "🔍 Validation Phase...\n"
     ]
    },
    {
     "name": "stderr",
     "output_type": "stream",
     "text": [
      "Validation: 100%|██████████████████████████████| 42/42 [00:10<00:00,  3.98it/s, Loss=1.5394, Acc=0.7380]\n"
     ]
    },
    {
     "name": "stdout",
     "output_type": "stream",
     "text": [
      "✅ Validation completed in 10.56s\n",
      "\n",
      "📊 Epoch 42 Summary:\n",
      "│ Train Loss: 0.0124 | Train Acc: 0.9946\n",
      "│ Val Loss:   1.5394 | Val Acc:   0.7380\n",
      "│ Train Time: 49.39s | Val Time: 10.56s\n",
      "│ Total Epoch Time: 59.96s\n",
      "│ Best Val Loss: 0.8861 (Epoch 2)\n",
      "│ GPU Memory: 0.1GB / 3.2GB\n",
      "================================================================================\n",
      "\n",
      "📈 Epoch 43/50\n",
      "--------------------------------------------------\n",
      "🔄 Training Phase...\n"
     ]
    },
    {
     "name": "stderr",
     "output_type": "stream",
     "text": [
      "Training: 100%|██████████████████████████████| 162/162 [00:49<00:00,  3.25it/s, Loss=0.0122, Acc=0.9954]\n"
     ]
    },
    {
     "name": "stdout",
     "output_type": "stream",
     "text": [
      "✅ Training completed in 49.79s\n",
      "🔍 Validation Phase...\n"
     ]
    },
    {
     "name": "stderr",
     "output_type": "stream",
     "text": [
      "Validation: 100%|██████████████████████████████| 42/42 [00:10<00:00,  3.95it/s, Loss=1.5423, Acc=0.7636]\n"
     ]
    },
    {
     "name": "stdout",
     "output_type": "stream",
     "text": [
      "✅ Validation completed in 10.64s\n",
      "\n",
      "📊 Epoch 43 Summary:\n",
      "│ Train Loss: 0.0122 | Train Acc: 0.9954\n",
      "│ Val Loss:   1.5423 | Val Acc:   0.7636\n",
      "│ Train Time: 49.79s | Val Time: 10.64s\n",
      "│ Total Epoch Time: 60.44s\n",
      "│ Best Val Loss: 0.8861 (Epoch 2)\n",
      "│ GPU Memory: 0.1GB / 3.2GB\n",
      "================================================================================\n",
      "\n",
      "📈 Epoch 44/50\n",
      "--------------------------------------------------\n",
      "🔄 Training Phase...\n"
     ]
    },
    {
     "name": "stderr",
     "output_type": "stream",
     "text": [
      "Training: 100%|██████████████████████████████| 162/162 [00:49<00:00,  3.25it/s, Loss=0.0086, Acc=0.9955]\n"
     ]
    },
    {
     "name": "stdout",
     "output_type": "stream",
     "text": [
      "✅ Training completed in 49.86s\n",
      "🔍 Validation Phase...\n"
     ]
    },
    {
     "name": "stderr",
     "output_type": "stream",
     "text": [
      "Validation: 100%|██████████████████████████████| 42/42 [00:10<00:00,  3.89it/s, Loss=1.6250, Acc=0.7440]\n"
     ]
    },
    {
     "name": "stdout",
     "output_type": "stream",
     "text": [
      "✅ Validation completed in 10.80s\n",
      "\n",
      "📊 Epoch 44 Summary:\n",
      "│ Train Loss: 0.0086 | Train Acc: 0.9955\n",
      "│ Val Loss:   1.6250 | Val Acc:   0.7440\n",
      "│ Train Time: 49.86s | Val Time: 10.80s\n",
      "│ Total Epoch Time: 60.66s\n",
      "│ Best Val Loss: 0.8861 (Epoch 2)\n",
      "│ GPU Memory: 0.1GB / 3.2GB\n",
      "================================================================================\n",
      "\n",
      "📈 Epoch 45/50\n",
      "--------------------------------------------------\n",
      "🔄 Training Phase...\n"
     ]
    },
    {
     "name": "stderr",
     "output_type": "stream",
     "text": [
      "Training: 100%|██████████████████████████████| 162/162 [00:49<00:00,  3.24it/s, Loss=0.0078, Acc=0.9963]\n"
     ]
    },
    {
     "name": "stdout",
     "output_type": "stream",
     "text": [
      "✅ Training completed in 49.97s\n",
      "🔍 Validation Phase...\n"
     ]
    },
    {
     "name": "stderr",
     "output_type": "stream",
     "text": [
      "Validation: 100%|██████████████████████████████| 42/42 [00:10<00:00,  3.94it/s, Loss=1.6464, Acc=0.7590]\n"
     ]
    },
    {
     "name": "stdout",
     "output_type": "stream",
     "text": [
      "✅ Validation completed in 10.67s\n",
      "\n",
      "📊 Epoch 45 Summary:\n",
      "│ Train Loss: 0.0078 | Train Acc: 0.9963\n",
      "│ Val Loss:   1.6464 | Val Acc:   0.7590\n",
      "│ Train Time: 49.97s | Val Time: 10.67s\n",
      "│ Total Epoch Time: 60.65s\n",
      "│ Best Val Loss: 0.8861 (Epoch 2)\n",
      "│ GPU Memory: 0.1GB / 3.2GB\n",
      "================================================================================\n",
      "\n",
      "📈 Epoch 46/50\n",
      "--------------------------------------------------\n",
      "🔄 Training Phase...\n"
     ]
    },
    {
     "name": "stderr",
     "output_type": "stream",
     "text": [
      "Training: 100%|██████████████████████████████| 162/162 [00:49<00:00,  3.25it/s, Loss=0.0072, Acc=0.9963]\n"
     ]
    },
    {
     "name": "stdout",
     "output_type": "stream",
     "text": [
      "✅ Training completed in 49.84s\n",
      "🔍 Validation Phase...\n"
     ]
    },
    {
     "name": "stderr",
     "output_type": "stream",
     "text": [
      "Validation: 100%|██████████████████████████████| 42/42 [00:10<00:00,  3.91it/s, Loss=1.7101, Acc=0.7628]\n"
     ]
    },
    {
     "name": "stdout",
     "output_type": "stream",
     "text": [
      "✅ Validation completed in 10.74s\n",
      "\n",
      "📊 Epoch 46 Summary:\n",
      "│ Train Loss: 0.0072 | Train Acc: 0.9963\n",
      "│ Val Loss:   1.7101 | Val Acc:   0.7628\n",
      "│ Train Time: 49.84s | Val Time: 10.74s\n",
      "│ Total Epoch Time: 60.58s\n",
      "│ Best Val Loss: 0.8861 (Epoch 2)\n",
      "│ GPU Memory: 0.1GB / 3.2GB\n",
      "================================================================================\n",
      "\n",
      "📈 Epoch 47/50\n",
      "--------------------------------------------------\n",
      "🔄 Training Phase...\n"
     ]
    },
    {
     "name": "stderr",
     "output_type": "stream",
     "text": [
      "Training: 100%|██████████████████████████████| 162/162 [00:49<00:00,  3.24it/s, Loss=0.0095, Acc=0.9961]\n"
     ]
    },
    {
     "name": "stdout",
     "output_type": "stream",
     "text": [
      "✅ Training completed in 49.94s\n",
      "🔍 Validation Phase...\n"
     ]
    },
    {
     "name": "stderr",
     "output_type": "stream",
     "text": [
      "Validation: 100%|██████████████████████████████| 42/42 [00:10<00:00,  3.89it/s, Loss=1.6122, Acc=0.7688]\n"
     ]
    },
    {
     "name": "stdout",
     "output_type": "stream",
     "text": [
      "✅ Validation completed in 10.79s\n",
      "\n",
      "📊 Epoch 47 Summary:\n",
      "│ Train Loss: 0.0095 | Train Acc: 0.9961\n",
      "│ Val Loss:   1.6122 | Val Acc:   0.7688\n",
      "│ Train Time: 49.94s | Val Time: 10.79s\n",
      "│ Total Epoch Time: 60.74s\n",
      "│ Best Val Loss: 0.8861 (Epoch 2)\n",
      "│ GPU Memory: 0.1GB / 3.2GB\n",
      "================================================================================\n",
      "\n",
      "📈 Epoch 48/50\n",
      "--------------------------------------------------\n",
      "🔄 Training Phase...\n"
     ]
    },
    {
     "name": "stderr",
     "output_type": "stream",
     "text": [
      "Training: 100%|██████████████████████████████| 162/162 [00:50<00:00,  3.21it/s, Loss=0.0075, Acc=0.9957]\n"
     ]
    },
    {
     "name": "stdout",
     "output_type": "stream",
     "text": [
      "✅ Training completed in 50.53s\n",
      "🔍 Validation Phase...\n"
     ]
    },
    {
     "name": "stderr",
     "output_type": "stream",
     "text": [
      "Validation: 100%|██████████████████████████████| 42/42 [00:10<00:00,  3.95it/s, Loss=1.6614, Acc=0.7545]\n"
     ]
    },
    {
     "name": "stdout",
     "output_type": "stream",
     "text": [
      "✅ Validation completed in 10.64s\n",
      "\n",
      "📊 Epoch 48 Summary:\n",
      "│ Train Loss: 0.0075 | Train Acc: 0.9957\n",
      "│ Val Loss:   1.6614 | Val Acc:   0.7545\n",
      "│ Train Time: 50.53s | Val Time: 10.64s\n",
      "│ Total Epoch Time: 61.18s\n",
      "│ Best Val Loss: 0.8861 (Epoch 2)\n",
      "│ GPU Memory: 0.1GB / 3.2GB\n",
      "================================================================================\n",
      "\n",
      "📈 Epoch 49/50\n",
      "--------------------------------------------------\n",
      "🔄 Training Phase...\n"
     ]
    },
    {
     "name": "stderr",
     "output_type": "stream",
     "text": [
      "Training: 100%|██████████████████████████████| 162/162 [00:49<00:00,  3.25it/s, Loss=0.0073, Acc=0.9971]\n"
     ]
    },
    {
     "name": "stdout",
     "output_type": "stream",
     "text": [
      "✅ Training completed in 49.91s\n",
      "🔍 Validation Phase...\n"
     ]
    },
    {
     "name": "stderr",
     "output_type": "stream",
     "text": [
      "Validation: 100%|██████████████████████████████| 42/42 [00:10<00:00,  3.90it/s, Loss=1.6869, Acc=0.7523]\n"
     ]
    },
    {
     "name": "stdout",
     "output_type": "stream",
     "text": [
      "✅ Validation completed in 10.78s\n",
      "\n",
      "📊 Epoch 49 Summary:\n",
      "│ Train Loss: 0.0073 | Train Acc: 0.9971\n",
      "│ Val Loss:   1.6869 | Val Acc:   0.7523\n",
      "│ Train Time: 49.91s | Val Time: 10.78s\n",
      "│ Total Epoch Time: 60.70s\n",
      "│ Best Val Loss: 0.8861 (Epoch 2)\n",
      "│ GPU Memory: 0.1GB / 3.2GB\n",
      "================================================================================\n",
      "\n",
      "📈 Epoch 50/50\n",
      "--------------------------------------------------\n",
      "🔄 Training Phase...\n"
     ]
    },
    {
     "name": "stderr",
     "output_type": "stream",
     "text": [
      "Training: 100%|██████████████████████████████| 162/162 [00:50<00:00,  3.23it/s, Loss=0.0094, Acc=0.9950]\n"
     ]
    },
    {
     "name": "stdout",
     "output_type": "stream",
     "text": [
      "✅ Training completed in 50.20s\n",
      "🔍 Validation Phase...\n"
     ]
    },
    {
     "name": "stderr",
     "output_type": "stream",
     "text": [
      "Validation: 100%|██████████████████████████████| 42/42 [00:10<00:00,  4.00it/s, Loss=1.6718, Acc=0.7417]\n"
     ]
    },
    {
     "name": "stdout",
     "output_type": "stream",
     "text": [
      "✅ Validation completed in 10.49s\n",
      "\n",
      "📊 Epoch 50 Summary:\n",
      "│ Train Loss: 0.0094 | Train Acc: 0.9950\n",
      "│ Val Loss:   1.6718 | Val Acc:   0.7417\n",
      "│ Train Time: 50.20s | Val Time: 10.49s\n",
      "│ Total Epoch Time: 60.70s\n",
      "│ Best Val Loss: 0.8861 (Epoch 2)\n",
      "│ GPU Memory: 0.1GB / 3.2GB\n",
      "================================================================================\n",
      "\n",
      "💾 Best model saved as 'best_cricket_efficientnetb0_filtered.pth'\n",
      "📊 Best model stats:\n",
      "│ Best Epoch: 2\n",
      "│ Best Val Loss: 0.8861\n",
      "│ Best Val Acc: 0.7146\n",
      "\n",
      "💾 Training history saved to 'cricket_efficientnetb0_filtered_history_pretrained.csv'\n",
      "\n",
      "🎉 EfficientNet-B0 Fine-tuning Complete!\n",
      "Total Training Time: 3037.84s (50.6 minutes)\n",
      "Average Epoch Time: 60.76s\n",
      "\n",
      "🧪 Loading Best Model for Testing...\n",
      "✅ Best model from epoch 2 loaded successfully!\n"
     ]
    },
    {
     "name": "stderr",
     "output_type": "stream",
     "text": [
      "Testing: 100%|██████████████████████████████| 52/52 [00:16<00:00,  3.06it/s]\n"
     ]
    },
    {
     "name": "stdout",
     "output_type": "stream",
     "text": [
      "✅ Testing completed in 17.00s\n",
      "\n",
      "📋 Classification Report:\n",
      "              precision    recall  f1-score   support\n",
      "\n",
      "         Cut       0.70      0.68      0.69       400\n",
      "       Drive       0.72      0.69      0.71       336\n",
      "    Leg Shot       0.77      0.74      0.75       136\n",
      "    PullShot       0.75      0.85      0.80       192\n",
      "       Scoop       0.70      0.83      0.76       360\n",
      "    Straight       0.62      0.47      0.53       144\n",
      "       Sweep       0.73      0.45      0.56        88\n",
      "\n",
      "    accuracy                           0.71      1656\n",
      "   macro avg       0.71      0.67      0.69      1656\n",
      "weighted avg       0.71      0.71      0.71      1656\n",
      "\n",
      "🎯 Test Accuracy: 0.7107\n",
      "\n",
      "📊 Cricket Classification Performance (EfficientNet-B0 - Filtered Data):\n",
      "│ Best Validation Loss: 0.8861 (Epoch 2)\n",
      "│ Best Validation Acc:  0.7146 (Epoch 2)\n",
      "│ Final Test Accuracy:  0.7107\n",
      "│ Val-Test Gap:         0.0039\n",
      "│ Data Filtering: Excluded 'random_occlusion' folder\n",
      "\n",
      "💾 Files saved:\n",
      "│ best_cricket_efficientnetb0_filtered.pth - Best model weights\n",
      "│ cricket_efficientnetb0_filtered_history.csv - Training metrics\n"
     ]
    },
    {
     "data": {
      "image/png": "[encoded data removed]",
      "text/plain": [
       "<Figure size 1000x800 with 2 Axes>"
      ]
     },
     "metadata": {},
     "output_type": "display_data"
    },
    {
     "data": {
      "image/png": "[encoded data removed]",
      "text/plain": [
       "<Figure size 1500x500 with 3 Axes>"
      ]
     },
     "metadata": {},
     "output_type": "display_data"
    },
    {
     "name": "stdout",
     "output_type": "stream",
     "text": [
      "\n",
      "⏰ Final Timing Summary:\n",
      "│ Total Training: 3037.84s (50.6 min)\n",
      "│ Average per Epoch: 60.76s\n",
      "│ Testing Time: 17.00s\n",
      "│ Total Runtime: 3054.84s\n",
      "\n",
      "⚡ EfficientNet-B0 + Filtered Data Benefits:\n",
      "│ Clean dataset: 'random_occlusion' folder excluded\n",
      "│ Compound scaling: Optimally balanced depth/width/resolution\n",
      "│ Parameter efficient: ~5.3M parameters (vs ~25M ResNet50)\n",
      "│ High accuracy: Often achieves excellent performance\n",
      "│ Fast inference: Optimized for efficiency\n",
      "│ Mobile-friendly: Designed for resource-constrained environments\n"
     ]
    }
   ],
   "source": [
    "# -----------------------------\n",
    "# 3. Training Setup\n",
    "# -----------------------------\n",
    "criterion = nn.CrossEntropyLoss()\n",
    "optimizer = optim.Adam(model.parameters(), lr=1e-4)  # Lower LR for fine-tuning\n",
    "\n",
    "print(f\"\\n📋 Training Configuration:\")\n",
    "print(f\"│ Model: EfficientNet-B0 (pretrained)\")\n",
    "print(f\"│ Optimizer: Adam (lr={optimizer.param_groups[0]['lr']})\")\n",
    "print(f\"│ Loss Function: CrossEntropyLoss\")\n",
    "print(f\"│ Batch Size: 32\")\n",
    "print(f\"│ Device: {device}\")\n",
    "print(f\"│ Data: Filtered (excluding '{ignore_folder}')\")\n",
    "\n",
    "# -----------------------------\n",
    "# 4. Training Loop with Model Saving\n",
    "# -----------------------------\n",
    "train_losses, val_losses = [], []\n",
    "train_accs, val_accs = [], []\n",
    "epoch_times = []\n",
    "epochs = 50\n",
    "\n",
    "# Initialize best model tracking (using val_loss for fine-tuning)\n",
    "best_val_loss = float('inf')\n",
    "best_model_state = None\n",
    "best_epoch = 0\n",
    "best_val_acc = 0.0\n",
    "\n",
    "print(f\"\\n🚀 Starting EfficientNet-B0 Fine-tuning for {epochs} epochs...\")\n",
    "print(\"=\" * 80)\n",
    "total_start_time = time.time()\n",
    "\n",
    "for epoch in range(epochs):\n",
    "    epoch_start_time = time.time()\n",
    "    \n",
    "    print(f\"\\n📈 Epoch {epoch+1}/{epochs}\")\n",
    "    print(\"-\" * 50)\n",
    "    \n",
    "    # Training Phase\n",
    "    print(\"🔄 Training Phase...\")\n",
    "    model.train()\n",
    "    running_loss, correct, total = 0, 0, 0\n",
    "    \n",
    "    train_pbar = tqdm(train_loader, desc=\"Training\", \n",
    "                     bar_format='{l_bar}{bar:30}{r_bar}{bar:-30b}')\n",
    "    \n",
    "    train_phase_start = time.time()\n",
    "    \n",
    "    for batch_idx, (imgs, labels) in enumerate(train_pbar):\n",
    "        imgs, labels = imgs.to(device), labels.to(device)\n",
    "        \n",
    "        optimizer.zero_grad()\n",
    "        outputs = model(imgs)\n",
    "        loss = criterion(outputs, labels)\n",
    "        loss.backward()\n",
    "        optimizer.step()\n",
    "        \n",
    "        running_loss += loss.item()\n",
    "        _, preds = torch.max(outputs, 1)\n",
    "        correct += (preds == labels).sum().item()\n",
    "        total += labels.size(0)\n",
    "        \n",
    "        current_acc = correct / total\n",
    "        train_pbar.set_postfix({\n",
    "            'Loss': f'{running_loss/(batch_idx+1):.4f}',\n",
    "            'Acc': f'{current_acc:.4f}'\n",
    "        })\n",
    "        \n",
    "        if device.type == 'cuda' and batch_idx % 10 == 0:\n",
    "            gpu_memory = torch.cuda.memory_allocated() / 1024**3\n",
    "            train_pbar.set_postfix({\n",
    "                'Loss': f'{running_loss/(batch_idx+1):.4f}',\n",
    "                'Acc': f'{current_acc:.4f}',\n",
    "                'GPU': f'{gpu_memory:.1f}GB'\n",
    "            })\n",
    "    \n",
    "    train_phase_time = time.time() - train_phase_start\n",
    "    train_loss = running_loss / len(train_loader)\n",
    "    train_acc = correct / total\n",
    "    train_losses.append(train_loss)\n",
    "    train_accs.append(train_acc)\n",
    "    \n",
    "    print(f\"✅ Training completed in {train_phase_time:.2f}s\")\n",
    "    \n",
    "    # Validation Phase\n",
    "    print(\"🔍 Validation Phase...\")\n",
    "    model.eval()\n",
    "    running_loss, correct, total = 0, 0, 0\n",
    "    \n",
    "    val_phase_start = time.time()\n",
    "    val_pbar = tqdm(val_loader, desc=\"Validation\", \n",
    "                   bar_format='{l_bar}{bar:30}{r_bar}{bar:-30b}')\n",
    "    \n",
    "    with torch.no_grad():\n",
    "        for batch_idx, (imgs, labels) in enumerate(val_pbar):\n",
    "            imgs, labels = imgs.to(device), labels.to(device)\n",
    "            outputs = model(imgs)\n",
    "            loss = criterion(outputs, labels)\n",
    "            \n",
    "            running_loss += loss.item()\n",
    "            _, preds = torch.max(outputs, 1)\n",
    "            correct += (preds == labels).sum().item()\n",
    "            total += labels.size(0)\n",
    "            \n",
    "            current_acc = correct / total\n",
    "            val_pbar.set_postfix({\n",
    "                'Loss': f'{running_loss/(batch_idx+1):.4f}',\n",
    "                'Acc': f'{current_acc:.4f}'\n",
    "            })\n",
    "    \n",
    "    val_phase_time = time.time() - val_phase_start\n",
    "    val_loss = running_loss / len(val_loader)\n",
    "    val_acc = correct / total\n",
    "    val_losses.append(val_loss)\n",
    "    val_accs.append(val_acc)\n",
    "    \n",
    "    print(f\"✅ Validation completed in {val_phase_time:.2f}s\")\n",
    "    \n",
    "    # Check if this is the best model (using val_loss for fine-tuning)\n",
    "    is_best = val_loss < best_val_loss\n",
    "    if is_best:\n",
    "        best_val_loss = val_loss\n",
    "        best_val_acc = val_acc\n",
    "        best_epoch = epoch + 1\n",
    "        best_model_state = model.state_dict().copy()\n",
    "        print(f\"🌟 New best model found! Validation Loss: {val_loss:.4f}\")\n",
    "    \n",
    "    # Epoch Summary\n",
    "    epoch_time = time.time() - epoch_start_time\n",
    "    epoch_times.append(epoch_time)\n",
    "    \n",
    "    print(f\"\\n📊 Epoch {epoch+1} Summary:\")\n",
    "    print(f\"│ Train Loss: {train_loss:.4f} | Train Acc: {train_acc:.4f}\")\n",
    "    print(f\"│ Val Loss:   {val_loss:.4f} | Val Acc:   {val_acc:.4f}\")\n",
    "    print(f\"│ Train Time: {train_phase_time:.2f}s | Val Time: {val_phase_time:.2f}s\")\n",
    "    print(f\"│ Total Epoch Time: {epoch_time:.2f}s\")\n",
    "    print(f\"│ Best Val Loss: {best_val_loss:.4f} (Epoch {best_epoch})\")\n",
    "    \n",
    "    if device.type == 'cuda':\n",
    "        print(f\"│ GPU Memory: {torch.cuda.memory_allocated()/1024**3:.1f}GB / {torch.cuda.memory_reserved()/1024**3:.1f}GB\")\n",
    "    \n",
    "    print(\"=\" * 80)\n",
    "\n",
    "total_training_time = time.time() - total_start_time\n",
    "\n",
    "# Save the best model\n",
    "if best_model_state is not None:\n",
    "    torch.save(best_model_state, 'best_cricket_efficientnetb0_filtered_pretrained.pth')\n",
    "    print(f\"\\n💾 Best model saved as 'best_cricket_efficientnetb0_filtered.pth'\")\n",
    "    print(f\"📊 Best model stats:\")\n",
    "    print(f\"│ Best Epoch: {best_epoch}\")\n",
    "    print(f\"│ Best Val Loss: {best_val_loss:.4f}\")\n",
    "    print(f\"│ Best Val Acc: {best_val_acc:.4f}\")\n",
    "\n",
    "# Save training history\n",
    "history_data = {\n",
    "    'epoch': list(range(1, epochs+1)),\n",
    "    'train_loss': train_losses,\n",
    "    'val_loss': val_losses,\n",
    "    'train_acc': train_accs,\n",
    "    'val_acc': val_accs,\n",
    "    'epoch_time': epoch_times\n",
    "}\n",
    "\n",
    "history_df = pd.DataFrame(history_data)\n",
    "history_df.to_csv('cricket_efficientnetb0_filtered_history_pretrained.csv', index=False)\n",
    "print(\"\\n💾 Training history saved to 'cricket_efficientnetb0_filtered_history_pretrained.csv'\")\n",
    "\n",
    "print(f\"\\n🎉 EfficientNet-B0 Fine-tuning Complete!\")\n",
    "print(f\"Total Training Time: {total_training_time:.2f}s ({total_training_time/60:.1f} minutes)\")\n",
    "print(f\"Average Epoch Time: {np.mean(epoch_times):.2f}s\")\n",
    "\n",
    "# -----------------------------\n",
    "# 5. Load Best Model and Test\n",
    "# -----------------------------\n",
    "print(f\"\\n🧪 Loading Best Model for Testing...\")\n",
    "if best_model_state is not None:\n",
    "    model.load_state_dict(best_model_state)\n",
    "    print(f\"✅ Best model from epoch {best_epoch} loaded successfully!\")\n",
    "\n",
    "test_start_time = time.time()\n",
    "y_true, y_pred = [], []\n",
    "model.eval()\n",
    "test_pbar = tqdm(test_loader, desc=\"Testing\", \n",
    "                bar_format='{l_bar}{bar:30}{r_bar}{bar:-30b}')\n",
    "\n",
    "with torch.no_grad():\n",
    "    for imgs, labels in test_pbar:\n",
    "        imgs, labels = imgs.to(device), labels.to(device)\n",
    "        outputs = model(imgs)\n",
    "        _, preds = torch.max(outputs, 1)\n",
    "        y_true.extend(labels.cpu().numpy())\n",
    "        y_pred.extend(preds.cpu().numpy())\n",
    "\n",
    "test_time = time.time() - test_start_time\n",
    "test_accuracy = accuracy_score(y_true, y_pred)\n",
    "\n",
    "print(f\"✅ Testing completed in {test_time:.2f}s\")\n",
    "print(\"\\n📋 Classification Report:\")\n",
    "print(classification_report(y_true, y_pred, target_names=classes))\n",
    "print(f\"🎯 Test Accuracy: {test_accuracy:.4f}\")\n",
    "\n",
    "# Performance Summary\n",
    "print(f\"\\n📊 Cricket Classification Performance (EfficientNet-B0 - Filtered Data):\")\n",
    "print(f\"│ Best Validation Loss: {best_val_loss:.4f} (Epoch {best_epoch})\")\n",
    "print(f\"│ Best Validation Acc:  {best_val_acc:.4f} (Epoch {best_epoch})\")\n",
    "print(f\"│ Final Test Accuracy:  {test_accuracy:.4f}\")\n",
    "print(f\"│ Val-Test Gap:         {abs(best_val_acc - test_accuracy):.4f}\")\n",
    "print(f\"│ Data Filtering: Excluded '{ignore_folder}' folder\")\n",
    "\n",
    "print(f\"\\n💾 Files saved:\")\n",
    "print(f\"│ best_cricket_efficientnetb0_filtered.pth - Best model weights\")\n",
    "print(f\"│ cricket_efficientnetb0_filtered_history.csv - Training metrics\")\n",
    "\n",
    "# -----------------------------\n",
    "# 6. Visualizations\n",
    "# -----------------------------\n",
    "# Confusion Matrix\n",
    "cm = confusion_matrix(y_true, y_pred)\n",
    "plt.figure(figsize=(10, 8))\n",
    "sns.heatmap(cm, annot=True, fmt=\"d\", cmap=\"Blues\", \n",
    "            xticklabels=classes, yticklabels=classes)\n",
    "plt.xlabel(\"Predicted\")\n",
    "plt.ylabel(\"True\")\n",
    "plt.title(f\"Cricket Classification - EfficientNet-B0 (Filtered Data) - Epoch {best_epoch}\")\n",
    "plt.tight_layout()\n",
    "plt.show()\n",
    "\n",
    "# Training Curves\n",
    "plt.figure(figsize=(15, 5))\n",
    "\n",
    "# Loss Plot\n",
    "plt.subplot(1, 3, 1)\n",
    "plt.plot(range(1, epochs+1), train_losses, 'b-', label=\"Train Loss\", marker='o', linewidth=2)\n",
    "plt.plot(range(1, epochs+1), val_losses, 'r-', label=\"Val Loss\", marker='s', linewidth=2)\n",
    "plt.axvline(x=best_epoch, color='green', linestyle='--', alpha=0.7, label=f'Best (Epoch {best_epoch})')\n",
    "plt.scatter([best_epoch], [best_val_loss], color='green', s=100, zorder=5)\n",
    "plt.legend()\n",
    "plt.title(\"EfficientNet-B0 Loss over Epochs (Filtered)\")\n",
    "plt.xlabel(\"Epoch\")\n",
    "plt.ylabel(\"Loss\")\n",
    "plt.grid(True, alpha=0.3)\n",
    "\n",
    "# Accuracy Plot\n",
    "plt.subplot(1, 3, 2)\n",
    "plt.plot(range(1, epochs+1), train_accs, 'b-', label=\"Train Accuracy\", marker='o', linewidth=2)\n",
    "plt.plot(range(1, epochs+1), val_accs, 'r-', label=\"Val Accuracy\", marker='s', linewidth=2)\n",
    "plt.axvline(x=best_epoch, color='green', linestyle='--', alpha=0.7, label=f'Best (Epoch {best_epoch})')\n",
    "plt.scatter([best_epoch], [best_val_acc], color='green', s=100, zorder=5)\n",
    "plt.legend()\n",
    "plt.title(\"EfficientNet-B0 Accuracy over Epochs (Filtered)\")\n",
    "plt.xlabel(\"Epoch\")\n",
    "plt.ylabel(\"Accuracy\")\n",
    "plt.grid(True, alpha=0.3)\n",
    "\n",
    "# Final Performance\n",
    "plt.subplot(1, 3, 3)\n",
    "metrics = ['Best Val Acc', 'Test Acc']\n",
    "values = [best_val_acc, test_accuracy]\n",
    "colors = ['orange', 'green']\n",
    "bars = plt.bar(metrics, values, color=colors, alpha=0.7)\n",
    "plt.title(\"EfficientNet-B0 Final Performance (Filtered)\")\n",
    "plt.ylabel(\"Accuracy\")\n",
    "plt.ylim(0, 1)\n",
    "plt.grid(True, alpha=0.3)\n",
    "for bar, val in zip(bars, values):\n",
    "    plt.text(bar.get_x() + bar.get_width()/2, val + 0.01, \n",
    "             f'{val:.4f}', ha='center', va='bottom')\n",
    "\n",
    "plt.tight_layout()\n",
    "plt.show()\n",
    "\n",
    "# Final Summary\n",
    "print(f\"\\n⏰ Final Timing Summary:\")\n",
    "print(f\"│ Total Training: {total_training_time:.2f}s ({total_training_time/60:.1f} min)\")\n",
    "print(f\"│ Average per Epoch: {np.mean(epoch_times):.2f}s\")\n",
    "print(f\"│ Testing Time: {test_time:.2f}s\")\n",
    "print(f\"│ Total Runtime: {total_training_time + test_time:.2f}s\")\n",
    "\n",
    "# Model and Data Info\n",
    "print(f\"\\n⚡ EfficientNet-B0 + Filtered Data Benefits:\")\n",
    "print(f\"│ Clean dataset: '{ignore_folder}' folder excluded\")\n",
    "print(f\"│ Compound scaling: Optimally balanced depth/width/resolution\")\n",
    "print(f\"│ Parameter efficient: ~5.3M parameters (vs ~25M ResNet50)\")\n",
    "print(f\"│ High accuracy: Often achieves excellent performance\")\n",
    "print(f\"│ Fast inference: Optimized for efficiency\")\n",
    "print(f\"│ Mobile-friendly: Designed for resource-constrained environments\")"
   ]
  }
 ],
 "metadata": {
  "kaggle": {
   "accelerator": "nvidiaTeslaT4",
   "dataSources": [
    {
     "datasetId": 7735666,
     "sourceId": 12275446,
     "sourceType": "datasetVersion"
    }
   ],
   "dockerImageVersionId": 31090,
   "isGpuEnabled": true,
   "isInternetEnabled": true,
   "language": "python",
   "sourceType": "notebook"
  },
  "kernelspec": {
   "display_name": "Python 3",
   "language": "python",
   "name": "python3"
  },
  "language_info": {
   "codemirror_mode": {
    "name": "ipython",
    "version": 3
   },
   "file_extension": ".py",
   "mimetype": "text/x-python",
   "name": "python",
   "nbconvert_exporter": "python",
   "pygments_lexer": "ipython3",
   "version": "3.11.13"
  },
  "papermill": {
   "default_parameters": {},
   "duration": 3076.939062,
   "end_time": "2025-09-08T06:34:24.292456",
   "environment_variables": {},
   "exception": null,
   "input_path": "__notebook__.ipynb",
   "output_path": "__notebook__.ipynb",
   "parameters": {},
   "start_time": "2025-09-08T05:43:07.353394",
   "version": "2.6.0"
  }
 },
 "nbformat": 4,
 "nbformat_minor": 5
}
