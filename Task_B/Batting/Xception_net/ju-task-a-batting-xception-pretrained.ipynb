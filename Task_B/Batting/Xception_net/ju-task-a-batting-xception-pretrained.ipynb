{
 "cells": [
  {
   "cell_type": "code",
   "execution_count": 1,
   "id": "7258a5e2",
   "metadata": {
    "_cell_guid": "b1076dfc-b9ad-4769-8c92-a6c4dae69d19",
    "_uuid": "8f2839f25d086af736a60e9eeb907d3b93b6e0e5",
    "execution": {
     "iopub.execute_input": "2025-09-12T10:22:43.555167Z",
     "iopub.status.busy": "2025-09-12T10:22:43.554951Z",
     "iopub.status.idle": "2025-09-12T10:22:57.523138Z",
     "shell.execute_reply": "2025-09-12T10:22:57.522299Z"
    },
    "papermill": {
     "duration": 13.973168,
     "end_time": "2025-09-12T10:22:57.524422",
     "exception": false,
     "start_time": "2025-09-12T10:22:43.551254",
     "status": "completed"
    },
    "tags": []
   },
   "outputs": [
    {
     "name": "stdout",
     "output_type": "stream",
     "text": [
      "Classes: ['Cut', 'Drive', 'Leg Shot', 'PullShot', 'Scoop', 'Straight', 'Sweep']\n"
     ]
    }
   ],
   "source": [
    "import torch\n",
    "import torch.nn as nn\n",
    "import torch.nn.functional as F\n",
    "from torch.utils.data import DataLoader\n",
    "from torchvision import datasets, transforms\n",
    "from torchsummary import summary\n",
    "import matplotlib.pyplot as plt\n",
    "from sklearn.metrics import classification_report, confusion_matrix, accuracy_score\n",
    "import seaborn as sns\n",
    "import numpy as np\n",
    "\n",
    "# -----------------------------\n",
    "# 1. Data Preprocessing\n",
    "# -----------------------------\n",
    "data_dir = \"/kaggle/input/ju-cricket/Cricket_Dataset_final/Task_B\"\n",
    "\n",
    "transform = transforms.Compose([\n",
    "    transforms.Resize((224, 224)),\n",
    "    transforms.ToTensor(),\n",
    "    transforms.Normalize([0.485, 0.456, 0.406], \n",
    "                         [0.229, 0.224, 0.225])\n",
    "])\n",
    "\n",
    "train_ds = datasets.ImageFolder(f\"{data_dir}/train/Batting\", transform=transform)\n",
    "val_ds   = datasets.ImageFolder(f\"{data_dir}/val/Batting\", transform=transform)\n",
    "test_ds  = datasets.ImageFolder(f\"{data_dir}/test/Batting\", transform=transform)\n",
    "\n",
    "train_loader = DataLoader(train_ds, batch_size=32, shuffle=True)\n",
    "val_loader   = DataLoader(val_ds, batch_size=32, shuffle=False)\n",
    "test_loader  = DataLoader(test_ds, batch_size=32, shuffle=False)\n",
    "\n",
    "classes = train_ds.classes\n",
    "print(\"Classes:\", classes)"
   ]
  },
  {
   "cell_type": "code",
   "execution_count": 2,
   "id": "c2833e51",
   "metadata": {
    "execution": {
     "iopub.execute_input": "2025-09-12T10:22:57.530714Z",
     "iopub.status.busy": "2025-09-12T10:22:57.530197Z",
     "iopub.status.idle": "2025-09-12T10:22:57.535062Z",
     "shell.execute_reply": "2025-09-12T10:22:57.534315Z"
    },
    "papermill": {
     "duration": 0.009031,
     "end_time": "2025-09-12T10:22:57.536230",
     "exception": false,
     "start_time": "2025-09-12T10:22:57.527199",
     "status": "completed"
    },
    "tags": []
   },
   "outputs": [
    {
     "name": "stdout",
     "output_type": "stream",
     "text": [
      "Total training images: 5814\n",
      "Total validation images: 1494\n",
      "Total test images: 1863\n",
      "Total images in dataset: 9171\n"
     ]
    }
   ],
   "source": [
    "print(\"Total training images:\", len(train_ds))\n",
    "print(\"Total validation images:\", len(val_ds))\n",
    "print(\"Total test images:\", len(test_ds))\n",
    "\n",
    "total_images = len(train_ds) + len(val_ds) + len(test_ds)\n",
    "print(\"Total images in dataset:\", total_images)"
   ]
  },
  {
   "cell_type": "code",
   "execution_count": 3,
   "id": "6bfd470a",
   "metadata": {
    "execution": {
     "iopub.execute_input": "2025-09-12T10:22:57.541812Z",
     "iopub.status.busy": "2025-09-12T10:22:57.541551Z",
     "iopub.status.idle": "2025-09-12T10:22:57.552110Z",
     "shell.execute_reply": "2025-09-12T10:22:57.551426Z"
    },
    "papermill": {
     "duration": 0.014487,
     "end_time": "2025-09-12T10:22:57.553111",
     "exception": false,
     "start_time": "2025-09-12T10:22:57.538624",
     "status": "completed"
    },
    "tags": []
   },
   "outputs": [
    {
     "name": "stdout",
     "output_type": "stream",
     "text": [
      "Training images (excluding 'random_occlusion'): 5168\n",
      "Validation images (excluding 'random_occlusion'): 1328\n",
      "Test images (excluding 'random_occlusion'): 1656\n",
      "Total images (excluding 'random_occlusion'): 8152\n"
     ]
    }
   ],
   "source": [
    "ignore_folder = \"random_occlusion\"\n",
    "\n",
    "def count_images_ignore_folder(dataset, ignore_folder):\n",
    "    count = 0\n",
    "    for img_path, label in dataset.samples:\n",
    "        # Skip if the image path contains the ignore_folder\n",
    "        if ignore_folder not in img_path.split(\"/\"):\n",
    "            count += 1\n",
    "    return count\n",
    "\n",
    "train_count = count_images_ignore_folder(train_ds, ignore_folder)\n",
    "val_count   = count_images_ignore_folder(val_ds, ignore_folder)\n",
    "test_count  = count_images_ignore_folder(test_ds, ignore_folder)\n",
    "\n",
    "total_count = train_count + val_count + test_count\n",
    "\n",
    "print(\"Training images (excluding '{}'): {}\".format(ignore_folder, train_count))\n",
    "print(\"Validation images (excluding '{}'): {}\".format(ignore_folder, val_count))\n",
    "print(\"Test images (excluding '{}'): {}\".format(ignore_folder, test_count))\n",
    "print(\"Total images (excluding '{}'): {}\".format(ignore_folder, total_count))"
   ]
  },
  {
   "cell_type": "code",
   "execution_count": 4,
   "id": "e9da2af1",
   "metadata": {
    "execution": {
     "iopub.execute_input": "2025-09-12T10:22:57.558287Z",
     "iopub.status.busy": "2025-09-12T10:22:57.558087Z",
     "iopub.status.idle": "2025-09-12T10:22:57.571784Z",
     "shell.execute_reply": "2025-09-12T10:22:57.571197Z"
    },
    "papermill": {
     "duration": 0.017435,
     "end_time": "2025-09-12T10:22:57.572762",
     "exception": false,
     "start_time": "2025-09-12T10:22:57.555327",
     "status": "completed"
    },
    "tags": []
   },
   "outputs": [
    {
     "name": "stdout",
     "output_type": "stream",
     "text": [
      "Training folders considered: {'lens_flare', 'blur', 'gaussian_noise', 'chromatic_aberration', 'original', 'dirty_lens', 'low_resolution', 'motion_blur', 'random_occlusion'}\n",
      "Validation folders considered: {'lens_flare', 'blur', 'gaussian_noise', 'chromatic_aberration', 'original', 'dirty_lens', 'low_resolution', 'motion_blur', 'random_occlusion'}\n",
      "Test folders considered: {'lens_flare', 'blur', 'gaussian_noise', 'chromatic_aberration', 'original', 'dirty_lens', 'low_resolution', 'motion_blur', 'random_occlusion'}\n"
     ]
    }
   ],
   "source": [
    "ignore_folder = \"random_occlusionw\"\n",
    "\n",
    "def get_included_folders(dataset, ignore_folder):\n",
    "    included = set()\n",
    "    for img_path, label in dataset.samples:\n",
    "        # Split the path into parts and ignore if ignore_folder is in the path\n",
    "        if ignore_folder not in img_path.split(\"/\"):\n",
    "            # The folder name just above the image (or the class folder)\n",
    "            folder_name = img_path.split(\"/\")[-2]\n",
    "            included.add(folder_name)\n",
    "    return included\n",
    "\n",
    "train_folders = get_included_folders(train_ds, ignore_folder)\n",
    "val_folders   = get_included_folders(val_ds, ignore_folder)\n",
    "test_folders  = get_included_folders(test_ds, ignore_folder)\n",
    "\n",
    "print(\"Training folders considered:\", train_folders)\n",
    "print(\"Validation folders considered:\", val_folders)\n",
    "print(\"Test folders considered:\", test_folders)"
   ]
  },
  {
   "cell_type": "code",
   "execution_count": 5,
   "id": "e07966b7",
   "metadata": {
    "execution": {
     "iopub.execute_input": "2025-09-12T10:22:57.578107Z",
     "iopub.status.busy": "2025-09-12T10:22:57.577897Z",
     "iopub.status.idle": "2025-09-12T10:22:57.730228Z",
     "shell.execute_reply": "2025-09-12T10:22:57.729490Z"
    },
    "papermill": {
     "duration": 0.156307,
     "end_time": "2025-09-12T10:22:57.731333",
     "exception": false,
     "start_time": "2025-09-12T10:22:57.575026",
     "status": "completed"
    },
    "tags": []
   },
   "outputs": [
    {
     "name": "stdout",
     "output_type": "stream",
     "text": [
      "Classes: ['Cut', 'Drive', 'Leg Shot', 'PullShot', 'Scoop', 'Straight', 'Sweep']\n",
      "Final Training images: 5168\n",
      "Final Validation images: 1328\n",
      "Final Test images: 1656\n",
      "Total images after filtering: 8152\n"
     ]
    }
   ],
   "source": [
    "ignore_folder = \"random_occlusion\"\n",
    "\n",
    "def filter_samples(dataset, ignore_folder):\n",
    "    # Keep only samples where ignore_folder is NOT in the path\n",
    "    filtered_samples = [s for s in dataset.samples if ignore_folder not in s[0].split(\"/\")]\n",
    "    dataset.samples = filtered_samples\n",
    "    dataset.targets = [s[1] for s in filtered_samples]  # Update targets accordingly\n",
    "    return dataset\n",
    "\n",
    "# Create original datasets\n",
    "train_ds = datasets.ImageFolder(f\"{data_dir}/train/Batting\", transform=transform)\n",
    "val_ds   = datasets.ImageFolder(f\"{data_dir}/val/Batting\", transform=transform)\n",
    "test_ds  = datasets.ImageFolder(f\"{data_dir}/test/Batting\", transform=transform)\n",
    "\n",
    "# Filter out 'random_occlusion' folder\n",
    "train_ds = filter_samples(train_ds, ignore_folder)\n",
    "val_ds   = filter_samples(val_ds, ignore_folder)\n",
    "test_ds  = filter_samples(test_ds, ignore_folder)\n",
    "\n",
    "# DataLoaders\n",
    "train_loader = DataLoader(train_ds, batch_size=32, shuffle=True)\n",
    "val_loader   = DataLoader(val_ds, batch_size=32, shuffle=False)\n",
    "test_loader  = DataLoader(test_ds, batch_size=32, shuffle=False)\n",
    "\n",
    "# Classes (will remain the same)\n",
    "classes = train_ds.classes\n",
    "print(\"Classes:\", classes)\n",
    "\n",
    "# Show counts\n",
    "print(\"Final Training images:\", len(train_ds))\n",
    "print(\"Final Validation images:\", len(val_ds))\n",
    "print(\"Final Test images:\", len(test_ds))\n",
    "print(\"Total images after filtering:\", len(train_ds) + len(val_ds) + len(test_ds))"
   ]
  },
  {
   "cell_type": "code",
   "execution_count": 6,
   "id": "6fa53cd4",
   "metadata": {
    "execution": {
     "iopub.execute_input": "2025-09-12T10:22:57.737352Z",
     "iopub.status.busy": "2025-09-12T10:22:57.736632Z",
     "iopub.status.idle": "2025-09-12T10:22:57.749649Z",
     "shell.execute_reply": "2025-09-12T10:22:57.748906Z"
    },
    "papermill": {
     "duration": 0.017032,
     "end_time": "2025-09-12T10:22:57.750824",
     "exception": false,
     "start_time": "2025-09-12T10:22:57.733792",
     "status": "completed"
    },
    "tags": []
   },
   "outputs": [
    {
     "name": "stdout",
     "output_type": "stream",
     "text": [
      "Training folders considered: {'lens_flare', 'blur', 'gaussian_noise', 'chromatic_aberration', 'original', 'dirty_lens', 'low_resolution', 'motion_blur'}\n",
      "Validation folders considered: {'lens_flare', 'blur', 'gaussian_noise', 'chromatic_aberration', 'original', 'dirty_lens', 'low_resolution', 'motion_blur'}\n",
      "Test folders considered: {'lens_flare', 'blur', 'gaussian_noise', 'chromatic_aberration', 'original', 'dirty_lens', 'low_resolution', 'motion_blur'}\n"
     ]
    }
   ],
   "source": [
    "ignore_folder = \"random_occlusion\"\n",
    "\n",
    "def get_included_folders(dataset, ignore_folder):\n",
    "    included = set()\n",
    "    for img_path, label in dataset.samples:\n",
    "        # Split the path into parts and ignore if ignore_folder is in the path\n",
    "        if ignore_folder not in img_path.split(\"/\"):\n",
    "            # The folder name just above the image (or the class folder)\n",
    "            folder_name = img_path.split(\"/\")[-2]\n",
    "            included.add(folder_name)\n",
    "    return included\n",
    "\n",
    "train_folders = get_included_folders(train_ds, ignore_folder)\n",
    "val_folders   = get_included_folders(val_ds, ignore_folder)\n",
    "test_folders  = get_included_folders(test_ds, ignore_folder)\n",
    "\n",
    "print(\"Training folders considered:\", train_folders)\n",
    "print(\"Validation folders considered:\", val_folders)\n",
    "print(\"Test folders considered:\", test_folders)"
   ]
  },
  {
   "cell_type": "code",
   "execution_count": 7,
   "id": "be8c341e",
   "metadata": {
    "execution": {
     "iopub.execute_input": "2025-09-12T10:22:57.756760Z",
     "iopub.status.busy": "2025-09-12T10:22:57.756498Z",
     "iopub.status.idle": "2025-09-12T10:23:03.424125Z",
     "shell.execute_reply": "2025-09-12T10:23:03.423396Z"
    },
    "papermill": {
     "duration": 5.67225,
     "end_time": "2025-09-12T10:23:03.425529",
     "exception": false,
     "start_time": "2025-09-12T10:22:57.753279",
     "status": "completed"
    },
    "tags": []
   },
   "outputs": [
    {
     "name": "stdout",
     "output_type": "stream",
     "text": [
      "🔄 Loading and filtering datasets for Xception...\n",
      "✅ Classes: ['Cut', 'Drive', 'Leg Shot', 'PullShot', 'Scoop', 'Straight', 'Sweep']\n",
      "📊 Dataset Statistics:\n",
      "│ Training images: 5168\n",
      "│ Validation images: 1328\n",
      "│ Test images: 1656\n",
      "│ Total images (after filtering): 8152\n",
      "│ Excluded folder: 'random_occlusion'\n",
      "│ Number of classes: 7\n",
      "Using device: cuda\n",
      "🔄 Loading pretrained Xception from ImageNet using timm...\n"
     ]
    },
    {
     "name": "stderr",
     "output_type": "stream",
     "text": [
      "/usr/local/lib/python3.11/dist-packages/timm/models/_factory.py:126: UserWarning: Mapping deprecated model name xception to current legacy_xception.\n",
      "  model = create_fn(\n",
      "Downloading: \"https://github.com/rwightman/pytorch-image-models/releases/download/v0.1-cadene/xception-43020ad28.pth\" to /root/.cache/torch/hub/checkpoints/xception-43020ad28.pth\n"
     ]
    },
    {
     "name": "stdout",
     "output_type": "stream",
     "text": [
      "✅ Model loaded with 7 output classes\n",
      "📊 Total parameters: 20,821,295\n",
      "📊 Trainable parameters: 20,821,295\n",
      "📊 Model file size: 79.72 MB\n",
      "📋 Model Architecture:\n",
      "│ Input size: (3, 299, 299)\n",
      "│ Xception features: 2048\n",
      "│ Output classes: 7\n",
      "│ Depthwise separable convolutions: Core architecture\n",
      "│ Normalization: [-1, 1] range (different from ImageNet)\n"
     ]
    }
   ],
   "source": [
    "import torch\n",
    "import torch.nn as nn\n",
    "import torch.nn.functional as F\n",
    "import torch.optim as optim\n",
    "from torch.utils.data import DataLoader\n",
    "from torchvision import datasets, transforms\n",
    "import timm  # For Xception model\n",
    "import matplotlib.pyplot as plt\n",
    "from sklearn.metrics import classification_report, confusion_matrix, accuracy_score\n",
    "import seaborn as sns\n",
    "import numpy as np\n",
    "import pandas as pd\n",
    "from tqdm import tqdm\n",
    "import time\n",
    "import os\n",
    "import tempfile\n",
    "\n",
    "# -----------------------------\n",
    "# 1. Data Preprocessing with Filtering (Xception - 299x299)\n",
    "# -----------------------------\n",
    "data_dir = \"/kaggle/input/ju-cricket/Cricket_Dataset_final/Task_B\"\n",
    "\n",
    "# Xception uses 299x299 input size (like InceptionV3) with different normalization\n",
    "transform = transforms.Compose([\n",
    "    transforms.Resize((299, 299)),  # Xception input size\n",
    "    transforms.ToTensor(),\n",
    "    transforms.Normalize([0.5, 0.5, 0.5],   # Xception specific normalization\n",
    "                         [0.5, 0.5, 0.5])   # Different from ImageNet standard\n",
    "])\n",
    "\n",
    "ignore_folder = \"random_occlusion\"\n",
    "\n",
    "def filter_samples(dataset, ignore_folder):\n",
    "    \"\"\"Filter out samples containing the ignore_folder in their path\"\"\"\n",
    "    filtered_samples = [s for s in dataset.samples if ignore_folder not in s[0].split(\"/\")]\n",
    "    dataset.samples = filtered_samples\n",
    "    dataset.targets = [s[1] for s in filtered_samples]\n",
    "    return dataset\n",
    "\n",
    "# Create and filter datasets\n",
    "print(\"🔄 Loading and filtering datasets for Xception...\")\n",
    "train_ds = datasets.ImageFolder(f\"{data_dir}/train/Batting\", transform=transform)\n",
    "val_ds   = datasets.ImageFolder(f\"{data_dir}/val/Batting\", transform=transform)\n",
    "test_ds  = datasets.ImageFolder(f\"{data_dir}/test/Batting\", transform=transform)\n",
    "\n",
    "# Apply filtering\n",
    "train_ds = filter_samples(train_ds, ignore_folder)\n",
    "val_ds   = filter_samples(val_ds, ignore_folder)\n",
    "test_ds  = filter_samples(test_ds, ignore_folder)\n",
    "\n",
    "# Create DataLoaders\n",
    "train_loader = DataLoader(train_ds, batch_size=32, shuffle=True)\n",
    "val_loader   = DataLoader(val_ds, batch_size=32, shuffle=False)\n",
    "test_loader  = DataLoader(test_ds, batch_size=32, shuffle=False)\n",
    "\n",
    "# Display information\n",
    "classes = train_ds.classes\n",
    "print(f\"✅ Classes: {classes}\")\n",
    "print(f\"📊 Dataset Statistics:\")\n",
    "print(f\"│ Training images: {len(train_ds)}\")\n",
    "print(f\"│ Validation images: {len(val_ds)}\")\n",
    "print(f\"│ Test images: {len(test_ds)}\")\n",
    "print(f\"│ Total images (after filtering): {len(train_ds) + len(val_ds) + len(test_ds)}\")\n",
    "print(f\"│ Excluded folder: '{ignore_folder}'\")\n",
    "print(f\"│ Number of classes: {len(classes)}\")\n",
    "\n",
    "# -----------------------------\n",
    "# 2. Pretrained Xception Model\n",
    "# -----------------------------\n",
    "device = torch.device('cuda' if torch.cuda.is_available() else 'cpu')\n",
    "print(f\"Using device: {device}\")\n",
    "\n",
    "# Load pretrained Xception using timm\n",
    "print(\"🔄 Loading pretrained Xception from ImageNet using timm...\")\n",
    "model = timm.create_model('xception', pretrained=True, num_classes=len(classes))\n",
    "model = model.to(device)\n",
    "\n",
    "print(f\"✅ Model loaded with {len(classes)} output classes\")\n",
    "\n",
    "# Calculate model parameters and size\n",
    "total_params = sum(p.numel() for p in model.parameters())\n",
    "trainable_params = sum(p.numel() for p in model.parameters() if p.requires_grad)\n",
    "\n",
    "# Calculate model file size\n",
    "with tempfile.NamedTemporaryFile(delete=False, suffix='.pth') as tmp_file:\n",
    "    torch.save(model.state_dict(), tmp_file.name)\n",
    "    model_size_mb = os.path.getsize(tmp_file.name) / (1024 * 1024)\n",
    "    os.unlink(tmp_file.name)\n",
    "\n",
    "print(f\"📊 Total parameters: {total_params:,}\")\n",
    "print(f\"📊 Trainable parameters: {trainable_params:,}\")\n",
    "print(f\"📊 Model file size: {model_size_mb:.2f} MB\")\n",
    "print(f\"📋 Model Architecture:\")\n",
    "print(f\"│ Input size: (3, 299, 299)\")\n",
    "print(f\"│ Xception features: 2048\")\n",
    "print(f\"│ Output classes: {len(classes)}\")\n",
    "print(f\"│ Depthwise separable convolutions: Core architecture\")\n",
    "print(f\"│ Normalization: [-1, 1] range (different from ImageNet)\")"
   ]
  },
  {
   "cell_type": "code",
   "execution_count": 8,
   "id": "19b51425",
   "metadata": {
    "execution": {
     "iopub.execute_input": "2025-09-12T10:23:03.432398Z",
     "iopub.status.busy": "2025-09-12T10:23:03.432164Z",
     "iopub.status.idle": "2025-09-12T13:39:49.207618Z",
     "shell.execute_reply": "2025-09-12T13:39:49.206870Z"
    },
    "papermill": {
     "duration": 11805.781391,
     "end_time": "2025-09-12T13:39:49.209865",
     "exception": false,
     "start_time": "2025-09-12T10:23:03.428474",
     "status": "completed"
    },
    "tags": []
   },
   "outputs": [
    {
     "name": "stdout",
     "output_type": "stream",
     "text": [
      "\n",
      "📋 Training Configuration:\n",
      "│ Model: Xception (pretrained via timm)\n",
      "│ Optimizer: Adam (lr=0.0001)\n",
      "│ Loss Function: CrossEntropyLoss\n",
      "│ Batch Size: 32\n",
      "│ Device: cuda\n",
      "│ Data: Filtered (excluding 'random_occlusion')\n",
      "│ Normalization: [-1, 1] range (Xception specific)\n",
      "\n",
      "🚀 Starting Xception Fine-tuning for 50 epochs...\n",
      "================================================================================\n",
      "\n",
      "📈 Epoch 1/50\n",
      "--------------------------------------------------\n",
      "🔄 Training Phase...\n"
     ]
    },
    {
     "name": "stderr",
     "output_type": "stream",
     "text": [
      "Training: 100%|██████████████████████████████| 162/162 [03:26<00:00,  1.27s/it, Loss=0.9700, Acc=0.6894]\n"
     ]
    },
    {
     "name": "stdout",
     "output_type": "stream",
     "text": [
      "✅ Training completed in 206.41s\n",
      "🔍 Validation Phase...\n"
     ]
    },
    {
     "name": "stderr",
     "output_type": "stream",
     "text": [
      "Validation: 100%|██████████████████████████████| 42/42 [00:27<00:00,  1.52it/s, Loss=0.8504, Acc=0.7169]\n"
     ]
    },
    {
     "name": "stdout",
     "output_type": "stream",
     "text": [
      "✅ Validation completed in 27.62s\n",
      "🌟 New best model found! Validation Loss: 0.8504\n",
      "\n",
      "📊 Epoch 1 Summary:\n",
      "│ Train Loss: 0.9700 | Train Acc: 0.6894\n",
      "│ Val Loss:   0.8504 | Val Acc:   0.7169\n",
      "│ Train Time: 206.41s | Val Time: 27.62s\n",
      "│ Total Epoch Time: 234.03s\n",
      "│ Best Val Loss: 0.8504 (Epoch 1)\n",
      "│ GPU Memory: 0.3GB / 9.0GB\n",
      "================================================================================\n",
      "\n",
      "📈 Epoch 2/50\n",
      "--------------------------------------------------\n",
      "🔄 Training Phase...\n"
     ]
    },
    {
     "name": "stderr",
     "output_type": "stream",
     "text": [
      "Training: 100%|██████████████████████████████| 162/162 [03:31<00:00,  1.31s/it, Loss=0.1048, Acc=0.9774]\n"
     ]
    },
    {
     "name": "stdout",
     "output_type": "stream",
     "text": [
      "✅ Training completed in 211.88s\n",
      "🔍 Validation Phase...\n"
     ]
    },
    {
     "name": "stderr",
     "output_type": "stream",
     "text": [
      "Validation: 100%|██████████████████████████████| 42/42 [00:24<00:00,  1.75it/s, Loss=0.8589, Acc=0.7651]\n"
     ]
    },
    {
     "name": "stdout",
     "output_type": "stream",
     "text": [
      "✅ Validation completed in 24.07s\n",
      "\n",
      "📊 Epoch 2 Summary:\n",
      "│ Train Loss: 0.1048 | Train Acc: 0.9774\n",
      "│ Val Loss:   0.8589 | Val Acc:   0.7651\n",
      "│ Train Time: 211.88s | Val Time: 24.07s\n",
      "│ Total Epoch Time: 235.95s\n",
      "│ Best Val Loss: 0.8504 (Epoch 1)\n",
      "│ GPU Memory: 0.3GB / 9.0GB\n",
      "================================================================================\n",
      "\n",
      "📈 Epoch 3/50\n",
      "--------------------------------------------------\n",
      "🔄 Training Phase...\n"
     ]
    },
    {
     "name": "stderr",
     "output_type": "stream",
     "text": [
      "Training: 100%|██████████████████████████████| 162/162 [03:31<00:00,  1.31s/it, Loss=0.0281, Acc=0.9932]\n"
     ]
    },
    {
     "name": "stdout",
     "output_type": "stream",
     "text": [
      "✅ Training completed in 211.65s\n",
      "🔍 Validation Phase...\n"
     ]
    },
    {
     "name": "stderr",
     "output_type": "stream",
     "text": [
      "Validation: 100%|██████████████████████████████| 42/42 [00:24<00:00,  1.73it/s, Loss=0.9737, Acc=0.7515]\n"
     ]
    },
    {
     "name": "stdout",
     "output_type": "stream",
     "text": [
      "✅ Validation completed in 24.28s\n",
      "\n",
      "📊 Epoch 3 Summary:\n",
      "│ Train Loss: 0.0281 | Train Acc: 0.9932\n",
      "│ Val Loss:   0.9737 | Val Acc:   0.7515\n",
      "│ Train Time: 211.65s | Val Time: 24.28s\n",
      "│ Total Epoch Time: 235.93s\n",
      "│ Best Val Loss: 0.8504 (Epoch 1)\n",
      "│ GPU Memory: 0.3GB / 9.0GB\n",
      "================================================================================\n",
      "\n",
      "📈 Epoch 4/50\n",
      "--------------------------------------------------\n",
      "🔄 Training Phase...\n"
     ]
    },
    {
     "name": "stderr",
     "output_type": "stream",
     "text": [
      "Training: 100%|██████████████████████████████| 162/162 [03:31<00:00,  1.31s/it, Loss=0.0212, Acc=0.9938]\n"
     ]
    },
    {
     "name": "stdout",
     "output_type": "stream",
     "text": [
      "✅ Training completed in 211.64s\n",
      "🔍 Validation Phase...\n"
     ]
    },
    {
     "name": "stderr",
     "output_type": "stream",
     "text": [
      "Validation: 100%|██████████████████████████████| 42/42 [00:23<00:00,  1.76it/s, Loss=0.9471, Acc=0.7598]\n"
     ]
    },
    {
     "name": "stdout",
     "output_type": "stream",
     "text": [
      "✅ Validation completed in 23.90s\n",
      "\n",
      "📊 Epoch 4 Summary:\n",
      "│ Train Loss: 0.0212 | Train Acc: 0.9938\n",
      "│ Val Loss:   0.9471 | Val Acc:   0.7598\n",
      "│ Train Time: 211.64s | Val Time: 23.90s\n",
      "│ Total Epoch Time: 235.54s\n",
      "│ Best Val Loss: 0.8504 (Epoch 1)\n",
      "│ GPU Memory: 0.3GB / 9.0GB\n",
      "================================================================================\n",
      "\n",
      "📈 Epoch 5/50\n",
      "--------------------------------------------------\n",
      "🔄 Training Phase...\n"
     ]
    },
    {
     "name": "stderr",
     "output_type": "stream",
     "text": [
      "Training: 100%|██████████████████████████████| 162/162 [03:31<00:00,  1.31s/it, Loss=0.0199, Acc=0.9946]\n"
     ]
    },
    {
     "name": "stdout",
     "output_type": "stream",
     "text": [
      "✅ Training completed in 211.70s\n",
      "🔍 Validation Phase...\n"
     ]
    },
    {
     "name": "stderr",
     "output_type": "stream",
     "text": [
      "Validation: 100%|██████████████████████████████| 42/42 [00:23<00:00,  1.76it/s, Loss=1.0424, Acc=0.7425]\n"
     ]
    },
    {
     "name": "stdout",
     "output_type": "stream",
     "text": [
      "✅ Validation completed in 23.89s\n",
      "\n",
      "📊 Epoch 5 Summary:\n",
      "│ Train Loss: 0.0199 | Train Acc: 0.9946\n",
      "│ Val Loss:   1.0424 | Val Acc:   0.7425\n",
      "│ Train Time: 211.70s | Val Time: 23.89s\n",
      "│ Total Epoch Time: 235.59s\n",
      "│ Best Val Loss: 0.8504 (Epoch 1)\n",
      "│ GPU Memory: 0.3GB / 9.0GB\n",
      "================================================================================\n",
      "\n",
      "📈 Epoch 6/50\n",
      "--------------------------------------------------\n",
      "🔄 Training Phase...\n"
     ]
    },
    {
     "name": "stderr",
     "output_type": "stream",
     "text": [
      "Training: 100%|██████████████████████████████| 162/162 [03:31<00:00,  1.31s/it, Loss=0.0141, Acc=0.9950]\n"
     ]
    },
    {
     "name": "stdout",
     "output_type": "stream",
     "text": [
      "✅ Training completed in 211.50s\n",
      "🔍 Validation Phase...\n"
     ]
    },
    {
     "name": "stderr",
     "output_type": "stream",
     "text": [
      "Validation: 100%|██████████████████████████████| 42/42 [00:23<00:00,  1.75it/s, Loss=1.0348, Acc=0.7395]\n"
     ]
    },
    {
     "name": "stdout",
     "output_type": "stream",
     "text": [
      "✅ Validation completed in 23.94s\n",
      "\n",
      "📊 Epoch 6 Summary:\n",
      "│ Train Loss: 0.0141 | Train Acc: 0.9950\n",
      "│ Val Loss:   1.0348 | Val Acc:   0.7395\n",
      "│ Train Time: 211.50s | Val Time: 23.94s\n",
      "│ Total Epoch Time: 235.44s\n",
      "│ Best Val Loss: 0.8504 (Epoch 1)\n",
      "│ GPU Memory: 0.3GB / 9.0GB\n",
      "================================================================================\n",
      "\n",
      "📈 Epoch 7/50\n",
      "--------------------------------------------------\n",
      "🔄 Training Phase...\n"
     ]
    },
    {
     "name": "stderr",
     "output_type": "stream",
     "text": [
      "Training: 100%|██████████████████████████████| 162/162 [03:31<00:00,  1.31s/it, Loss=0.0128, Acc=0.9952]\n"
     ]
    },
    {
     "name": "stdout",
     "output_type": "stream",
     "text": [
      "✅ Training completed in 211.63s\n",
      "🔍 Validation Phase...\n"
     ]
    },
    {
     "name": "stderr",
     "output_type": "stream",
     "text": [
      "Validation: 100%|██████████████████████████████| 42/42 [00:24<00:00,  1.74it/s, Loss=1.1402, Acc=0.7342]\n"
     ]
    },
    {
     "name": "stdout",
     "output_type": "stream",
     "text": [
      "✅ Validation completed in 24.09s\n",
      "\n",
      "📊 Epoch 7 Summary:\n",
      "│ Train Loss: 0.0128 | Train Acc: 0.9952\n",
      "│ Val Loss:   1.1402 | Val Acc:   0.7342\n",
      "│ Train Time: 211.63s | Val Time: 24.09s\n",
      "│ Total Epoch Time: 235.72s\n",
      "│ Best Val Loss: 0.8504 (Epoch 1)\n",
      "│ GPU Memory: 0.3GB / 9.0GB\n",
      "================================================================================\n",
      "\n",
      "📈 Epoch 8/50\n",
      "--------------------------------------------------\n",
      "🔄 Training Phase...\n"
     ]
    },
    {
     "name": "stderr",
     "output_type": "stream",
     "text": [
      "Training: 100%|██████████████████████████████| 162/162 [03:31<00:00,  1.31s/it, Loss=0.0119, Acc=0.9959]\n"
     ]
    },
    {
     "name": "stdout",
     "output_type": "stream",
     "text": [
      "✅ Training completed in 211.77s\n",
      "🔍 Validation Phase...\n"
     ]
    },
    {
     "name": "stderr",
     "output_type": "stream",
     "text": [
      "Validation: 100%|██████████████████████████████| 42/42 [00:24<00:00,  1.72it/s, Loss=1.1210, Acc=0.7244]\n"
     ]
    },
    {
     "name": "stdout",
     "output_type": "stream",
     "text": [
      "✅ Validation completed in 24.45s\n",
      "\n",
      "📊 Epoch 8 Summary:\n",
      "│ Train Loss: 0.0119 | Train Acc: 0.9959\n",
      "│ Val Loss:   1.1210 | Val Acc:   0.7244\n",
      "│ Train Time: 211.77s | Val Time: 24.45s\n",
      "│ Total Epoch Time: 236.22s\n",
      "│ Best Val Loss: 0.8504 (Epoch 1)\n",
      "│ GPU Memory: 0.3GB / 9.0GB\n",
      "================================================================================\n",
      "\n",
      "📈 Epoch 9/50\n",
      "--------------------------------------------------\n",
      "🔄 Training Phase...\n"
     ]
    },
    {
     "name": "stderr",
     "output_type": "stream",
     "text": [
      "Training: 100%|██████████████████████████████| 162/162 [03:31<00:00,  1.31s/it, Loss=0.0210, Acc=0.9936]\n"
     ]
    },
    {
     "name": "stdout",
     "output_type": "stream",
     "text": [
      "✅ Training completed in 211.92s\n",
      "🔍 Validation Phase...\n"
     ]
    },
    {
     "name": "stderr",
     "output_type": "stream",
     "text": [
      "Validation: 100%|██████████████████████████████| 42/42 [00:24<00:00,  1.74it/s, Loss=1.2534, Acc=0.6852]\n"
     ]
    },
    {
     "name": "stdout",
     "output_type": "stream",
     "text": [
      "✅ Validation completed in 24.13s\n",
      "\n",
      "📊 Epoch 9 Summary:\n",
      "│ Train Loss: 0.0210 | Train Acc: 0.9936\n",
      "│ Val Loss:   1.2534 | Val Acc:   0.6852\n",
      "│ Train Time: 211.92s | Val Time: 24.13s\n",
      "│ Total Epoch Time: 236.05s\n",
      "│ Best Val Loss: 0.8504 (Epoch 1)\n",
      "│ GPU Memory: 0.3GB / 9.0GB\n",
      "================================================================================\n",
      "\n",
      "📈 Epoch 10/50\n",
      "--------------------------------------------------\n",
      "🔄 Training Phase...\n"
     ]
    },
    {
     "name": "stderr",
     "output_type": "stream",
     "text": [
      "Training: 100%|██████████████████████████████| 162/162 [03:31<00:00,  1.30s/it, Loss=0.0371, Acc=0.9868]\n"
     ]
    },
    {
     "name": "stdout",
     "output_type": "stream",
     "text": [
      "✅ Training completed in 211.01s\n",
      "🔍 Validation Phase...\n"
     ]
    },
    {
     "name": "stderr",
     "output_type": "stream",
     "text": [
      "Validation: 100%|██████████████████████████████| 42/42 [00:24<00:00,  1.74it/s, Loss=1.0790, Acc=0.7349]\n"
     ]
    },
    {
     "name": "stdout",
     "output_type": "stream",
     "text": [
      "✅ Validation completed in 24.09s\n",
      "\n",
      "📊 Epoch 10 Summary:\n",
      "│ Train Loss: 0.0371 | Train Acc: 0.9868\n",
      "│ Val Loss:   1.0790 | Val Acc:   0.7349\n",
      "│ Train Time: 211.01s | Val Time: 24.09s\n",
      "│ Total Epoch Time: 235.10s\n",
      "│ Best Val Loss: 0.8504 (Epoch 1)\n",
      "│ GPU Memory: 0.3GB / 9.0GB\n",
      "================================================================================\n",
      "\n",
      "📈 Epoch 11/50\n",
      "--------------------------------------------------\n",
      "🔄 Training Phase...\n"
     ]
    },
    {
     "name": "stderr",
     "output_type": "stream",
     "text": [
      "Training: 100%|██████████████████████████████| 162/162 [03:31<00:00,  1.30s/it, Loss=0.0130, Acc=0.9942]\n"
     ]
    },
    {
     "name": "stdout",
     "output_type": "stream",
     "text": [
      "✅ Training completed in 211.29s\n",
      "🔍 Validation Phase...\n"
     ]
    },
    {
     "name": "stderr",
     "output_type": "stream",
     "text": [
      "Validation: 100%|██████████████████████████████| 42/42 [00:24<00:00,  1.75it/s, Loss=1.1292, Acc=0.7372]\n"
     ]
    },
    {
     "name": "stdout",
     "output_type": "stream",
     "text": [
      "✅ Validation completed in 24.05s\n",
      "\n",
      "📊 Epoch 11 Summary:\n",
      "│ Train Loss: 0.0130 | Train Acc: 0.9942\n",
      "│ Val Loss:   1.1292 | Val Acc:   0.7372\n",
      "│ Train Time: 211.29s | Val Time: 24.05s\n",
      "│ Total Epoch Time: 235.35s\n",
      "│ Best Val Loss: 0.8504 (Epoch 1)\n",
      "│ GPU Memory: 0.3GB / 9.0GB\n",
      "================================================================================\n",
      "\n",
      "📈 Epoch 12/50\n",
      "--------------------------------------------------\n",
      "🔄 Training Phase...\n"
     ]
    },
    {
     "name": "stderr",
     "output_type": "stream",
     "text": [
      "Training: 100%|██████████████████████████████| 162/162 [03:30<00:00,  1.30s/it, Loss=0.0129, Acc=0.9954]\n"
     ]
    },
    {
     "name": "stdout",
     "output_type": "stream",
     "text": [
      "✅ Training completed in 210.79s\n",
      "🔍 Validation Phase...\n"
     ]
    },
    {
     "name": "stderr",
     "output_type": "stream",
     "text": [
      "Validation: 100%|██████████████████████████████| 42/42 [00:24<00:00,  1.74it/s, Loss=1.2569, Acc=0.7297]\n"
     ]
    },
    {
     "name": "stdout",
     "output_type": "stream",
     "text": [
      "✅ Validation completed in 24.18s\n",
      "\n",
      "📊 Epoch 12 Summary:\n",
      "│ Train Loss: 0.0129 | Train Acc: 0.9954\n",
      "│ Val Loss:   1.2569 | Val Acc:   0.7297\n",
      "│ Train Time: 210.79s | Val Time: 24.18s\n",
      "│ Total Epoch Time: 234.97s\n",
      "│ Best Val Loss: 0.8504 (Epoch 1)\n",
      "│ GPU Memory: 0.3GB / 9.0GB\n",
      "================================================================================\n",
      "\n",
      "📈 Epoch 13/50\n",
      "--------------------------------------------------\n",
      "🔄 Training Phase...\n"
     ]
    },
    {
     "name": "stderr",
     "output_type": "stream",
     "text": [
      "Training: 100%|██████████████████████████████| 162/162 [03:30<00:00,  1.30s/it, Loss=0.0108, Acc=0.9973]\n"
     ]
    },
    {
     "name": "stdout",
     "output_type": "stream",
     "text": [
      "✅ Training completed in 210.51s\n",
      "🔍 Validation Phase...\n"
     ]
    },
    {
     "name": "stderr",
     "output_type": "stream",
     "text": [
      "Validation: 100%|██████████████████████████████| 42/42 [00:23<00:00,  1.75it/s, Loss=1.3386, Acc=0.7304]\n"
     ]
    },
    {
     "name": "stdout",
     "output_type": "stream",
     "text": [
      "✅ Validation completed in 23.95s\n",
      "\n",
      "📊 Epoch 13 Summary:\n",
      "│ Train Loss: 0.0108 | Train Acc: 0.9973\n",
      "│ Val Loss:   1.3386 | Val Acc:   0.7304\n",
      "│ Train Time: 210.51s | Val Time: 23.95s\n",
      "│ Total Epoch Time: 234.46s\n",
      "│ Best Val Loss: 0.8504 (Epoch 1)\n",
      "│ GPU Memory: 0.3GB / 9.0GB\n",
      "================================================================================\n",
      "\n",
      "📈 Epoch 14/50\n",
      "--------------------------------------------------\n",
      "🔄 Training Phase...\n"
     ]
    },
    {
     "name": "stderr",
     "output_type": "stream",
     "text": [
      "Training: 100%|██████████████████████████████| 162/162 [03:30<00:00,  1.30s/it, Loss=0.0072, Acc=0.9969]\n"
     ]
    },
    {
     "name": "stdout",
     "output_type": "stream",
     "text": [
      "✅ Training completed in 210.63s\n",
      "🔍 Validation Phase...\n"
     ]
    },
    {
     "name": "stderr",
     "output_type": "stream",
     "text": [
      "Validation: 100%|██████████████████████████████| 42/42 [00:24<00:00,  1.75it/s, Loss=1.2574, Acc=0.7334]\n"
     ]
    },
    {
     "name": "stdout",
     "output_type": "stream",
     "text": [
      "✅ Validation completed in 24.03s\n",
      "\n",
      "📊 Epoch 14 Summary:\n",
      "│ Train Loss: 0.0072 | Train Acc: 0.9969\n",
      "│ Val Loss:   1.2574 | Val Acc:   0.7334\n",
      "│ Train Time: 210.63s | Val Time: 24.03s\n",
      "│ Total Epoch Time: 234.66s\n",
      "│ Best Val Loss: 0.8504 (Epoch 1)\n",
      "│ GPU Memory: 0.3GB / 9.0GB\n",
      "================================================================================\n",
      "\n",
      "📈 Epoch 15/50\n",
      "--------------------------------------------------\n",
      "🔄 Training Phase...\n"
     ]
    },
    {
     "name": "stderr",
     "output_type": "stream",
     "text": [
      "Training: 100%|██████████████████████████████| 162/162 [03:30<00:00,  1.30s/it, Loss=0.0066, Acc=0.9969]\n"
     ]
    },
    {
     "name": "stdout",
     "output_type": "stream",
     "text": [
      "✅ Training completed in 210.39s\n",
      "🔍 Validation Phase...\n"
     ]
    },
    {
     "name": "stderr",
     "output_type": "stream",
     "text": [
      "Validation: 100%|██████████████████████████████| 42/42 [00:23<00:00,  1.75it/s, Loss=1.3031, Acc=0.7319]\n"
     ]
    },
    {
     "name": "stdout",
     "output_type": "stream",
     "text": [
      "✅ Validation completed in 23.97s\n",
      "\n",
      "📊 Epoch 15 Summary:\n",
      "│ Train Loss: 0.0066 | Train Acc: 0.9969\n",
      "│ Val Loss:   1.3031 | Val Acc:   0.7319\n",
      "│ Train Time: 210.39s | Val Time: 23.97s\n",
      "│ Total Epoch Time: 234.36s\n",
      "│ Best Val Loss: 0.8504 (Epoch 1)\n",
      "│ GPU Memory: 0.3GB / 9.0GB\n",
      "================================================================================\n",
      "\n",
      "📈 Epoch 16/50\n",
      "--------------------------------------------------\n",
      "🔄 Training Phase...\n"
     ]
    },
    {
     "name": "stderr",
     "output_type": "stream",
     "text": [
      "Training: 100%|██████████████████████████████| 162/162 [03:29<00:00,  1.30s/it, Loss=0.0055, Acc=0.9967]\n"
     ]
    },
    {
     "name": "stdout",
     "output_type": "stream",
     "text": [
      "✅ Training completed in 209.92s\n",
      "🔍 Validation Phase...\n"
     ]
    },
    {
     "name": "stderr",
     "output_type": "stream",
     "text": [
      "Validation: 100%|██████████████████████████████| 42/42 [00:24<00:00,  1.75it/s, Loss=1.2714, Acc=0.7357]\n"
     ]
    },
    {
     "name": "stdout",
     "output_type": "stream",
     "text": [
      "✅ Validation completed in 24.07s\n",
      "\n",
      "📊 Epoch 16 Summary:\n",
      "│ Train Loss: 0.0055 | Train Acc: 0.9967\n",
      "│ Val Loss:   1.2714 | Val Acc:   0.7357\n",
      "│ Train Time: 209.92s | Val Time: 24.07s\n",
      "│ Total Epoch Time: 233.99s\n",
      "│ Best Val Loss: 0.8504 (Epoch 1)\n",
      "│ GPU Memory: 0.3GB / 9.0GB\n",
      "================================================================================\n",
      "\n",
      "📈 Epoch 17/50\n",
      "--------------------------------------------------\n",
      "🔄 Training Phase...\n"
     ]
    },
    {
     "name": "stderr",
     "output_type": "stream",
     "text": [
      "Training: 100%|██████████████████████████████| 162/162 [03:29<00:00,  1.30s/it, Loss=0.0049, Acc=0.9965]\n"
     ]
    },
    {
     "name": "stdout",
     "output_type": "stream",
     "text": [
      "✅ Training completed in 210.00s\n",
      "🔍 Validation Phase...\n"
     ]
    },
    {
     "name": "stderr",
     "output_type": "stream",
     "text": [
      "Validation: 100%|██████████████████████████████| 42/42 [00:23<00:00,  1.76it/s, Loss=1.3121, Acc=0.7357]\n"
     ]
    },
    {
     "name": "stdout",
     "output_type": "stream",
     "text": [
      "✅ Validation completed in 23.86s\n",
      "\n",
      "📊 Epoch 17 Summary:\n",
      "│ Train Loss: 0.0049 | Train Acc: 0.9965\n",
      "│ Val Loss:   1.3121 | Val Acc:   0.7357\n",
      "│ Train Time: 210.00s | Val Time: 23.86s\n",
      "│ Total Epoch Time: 233.87s\n",
      "│ Best Val Loss: 0.8504 (Epoch 1)\n",
      "│ GPU Memory: 0.3GB / 9.0GB\n",
      "================================================================================\n",
      "\n",
      "📈 Epoch 18/50\n",
      "--------------------------------------------------\n",
      "🔄 Training Phase...\n"
     ]
    },
    {
     "name": "stderr",
     "output_type": "stream",
     "text": [
      "Training: 100%|██████████████████████████████| 162/162 [03:30<00:00,  1.30s/it, Loss=0.0046, Acc=0.9977]\n"
     ]
    },
    {
     "name": "stdout",
     "output_type": "stream",
     "text": [
      "✅ Training completed in 210.33s\n",
      "🔍 Validation Phase...\n"
     ]
    },
    {
     "name": "stderr",
     "output_type": "stream",
     "text": [
      "Validation: 100%|██████████████████████████████| 42/42 [00:23<00:00,  1.75it/s, Loss=1.3356, Acc=0.7372]\n"
     ]
    },
    {
     "name": "stdout",
     "output_type": "stream",
     "text": [
      "✅ Validation completed in 23.95s\n",
      "\n",
      "📊 Epoch 18 Summary:\n",
      "│ Train Loss: 0.0046 | Train Acc: 0.9977\n",
      "│ Val Loss:   1.3356 | Val Acc:   0.7372\n",
      "│ Train Time: 210.33s | Val Time: 23.95s\n",
      "│ Total Epoch Time: 234.28s\n",
      "│ Best Val Loss: 0.8504 (Epoch 1)\n",
      "│ GPU Memory: 0.3GB / 9.0GB\n",
      "================================================================================\n",
      "\n",
      "📈 Epoch 19/50\n",
      "--------------------------------------------------\n",
      "🔄 Training Phase...\n"
     ]
    },
    {
     "name": "stderr",
     "output_type": "stream",
     "text": [
      "Training: 100%|██████████████████████████████| 162/162 [03:30<00:00,  1.30s/it, Loss=0.0057, Acc=0.9973]\n"
     ]
    },
    {
     "name": "stdout",
     "output_type": "stream",
     "text": [
      "✅ Training completed in 210.22s\n",
      "🔍 Validation Phase...\n"
     ]
    },
    {
     "name": "stderr",
     "output_type": "stream",
     "text": [
      "Validation: 100%|██████████████████████████████| 42/42 [00:23<00:00,  1.76it/s, Loss=1.3722, Acc=0.7364]\n"
     ]
    },
    {
     "name": "stdout",
     "output_type": "stream",
     "text": [
      "✅ Validation completed in 23.87s\n",
      "\n",
      "📊 Epoch 19 Summary:\n",
      "│ Train Loss: 0.0057 | Train Acc: 0.9973\n",
      "│ Val Loss:   1.3722 | Val Acc:   0.7364\n",
      "│ Train Time: 210.22s | Val Time: 23.87s\n",
      "│ Total Epoch Time: 234.09s\n",
      "│ Best Val Loss: 0.8504 (Epoch 1)\n",
      "│ GPU Memory: 0.3GB / 9.0GB\n",
      "================================================================================\n",
      "\n",
      "📈 Epoch 20/50\n",
      "--------------------------------------------------\n",
      "🔄 Training Phase...\n"
     ]
    },
    {
     "name": "stderr",
     "output_type": "stream",
     "text": [
      "Training: 100%|██████████████████████████████| 162/162 [03:30<00:00,  1.30s/it, Loss=0.0047, Acc=0.9973]\n"
     ]
    },
    {
     "name": "stdout",
     "output_type": "stream",
     "text": [
      "✅ Training completed in 210.58s\n",
      "🔍 Validation Phase...\n"
     ]
    },
    {
     "name": "stderr",
     "output_type": "stream",
     "text": [
      "Validation: 100%|██████████████████████████████| 42/42 [00:23<00:00,  1.76it/s, Loss=1.5657, Acc=0.7139]\n"
     ]
    },
    {
     "name": "stdout",
     "output_type": "stream",
     "text": [
      "✅ Validation completed in 23.87s\n",
      "\n",
      "📊 Epoch 20 Summary:\n",
      "│ Train Loss: 0.0047 | Train Acc: 0.9973\n",
      "│ Val Loss:   1.5657 | Val Acc:   0.7139\n",
      "│ Train Time: 210.58s | Val Time: 23.87s\n",
      "│ Total Epoch Time: 234.46s\n",
      "│ Best Val Loss: 0.8504 (Epoch 1)\n",
      "│ GPU Memory: 0.3GB / 9.0GB\n",
      "================================================================================\n",
      "\n",
      "📈 Epoch 21/50\n",
      "--------------------------------------------------\n",
      "🔄 Training Phase...\n"
     ]
    },
    {
     "name": "stderr",
     "output_type": "stream",
     "text": [
      "Training: 100%|██████████████████████████████| 162/162 [03:29<00:00,  1.30s/it, Loss=0.0253, Acc=0.9919]\n"
     ]
    },
    {
     "name": "stdout",
     "output_type": "stream",
     "text": [
      "✅ Training completed in 209.90s\n",
      "🔍 Validation Phase...\n"
     ]
    },
    {
     "name": "stderr",
     "output_type": "stream",
     "text": [
      "Validation: 100%|██████████████████████████████| 42/42 [00:24<00:00,  1.75it/s, Loss=1.3175, Acc=0.7417]\n"
     ]
    },
    {
     "name": "stdout",
     "output_type": "stream",
     "text": [
      "✅ Validation completed in 24.05s\n",
      "\n",
      "📊 Epoch 21 Summary:\n",
      "│ Train Loss: 0.0253 | Train Acc: 0.9919\n",
      "│ Val Loss:   1.3175 | Val Acc:   0.7417\n",
      "│ Train Time: 209.90s | Val Time: 24.05s\n",
      "│ Total Epoch Time: 233.96s\n",
      "│ Best Val Loss: 0.8504 (Epoch 1)\n",
      "│ GPU Memory: 0.3GB / 9.0GB\n",
      "================================================================================\n",
      "\n",
      "📈 Epoch 22/50\n",
      "--------------------------------------------------\n",
      "🔄 Training Phase...\n"
     ]
    },
    {
     "name": "stderr",
     "output_type": "stream",
     "text": [
      "Training: 100%|██████████████████████████████| 162/162 [03:30<00:00,  1.30s/it, Loss=0.0394, Acc=0.9874]\n"
     ]
    },
    {
     "name": "stdout",
     "output_type": "stream",
     "text": [
      "✅ Training completed in 210.55s\n",
      "🔍 Validation Phase...\n"
     ]
    },
    {
     "name": "stderr",
     "output_type": "stream",
     "text": [
      "Validation: 100%|██████████████████████████████| 42/42 [00:24<00:00,  1.74it/s, Loss=1.2108, Acc=0.7319]\n"
     ]
    },
    {
     "name": "stdout",
     "output_type": "stream",
     "text": [
      "✅ Validation completed in 24.21s\n",
      "\n",
      "📊 Epoch 22 Summary:\n",
      "│ Train Loss: 0.0394 | Train Acc: 0.9874\n",
      "│ Val Loss:   1.2108 | Val Acc:   0.7319\n",
      "│ Train Time: 210.55s | Val Time: 24.21s\n",
      "│ Total Epoch Time: 234.76s\n",
      "│ Best Val Loss: 0.8504 (Epoch 1)\n",
      "│ GPU Memory: 0.3GB / 9.0GB\n",
      "================================================================================\n",
      "\n",
      "📈 Epoch 23/50\n",
      "--------------------------------------------------\n",
      "🔄 Training Phase...\n"
     ]
    },
    {
     "name": "stderr",
     "output_type": "stream",
     "text": [
      "Training: 100%|██████████████████████████████| 162/162 [03:30<00:00,  1.30s/it, Loss=0.0128, Acc=0.9952]\n"
     ]
    },
    {
     "name": "stdout",
     "output_type": "stream",
     "text": [
      "✅ Training completed in 210.79s\n",
      "🔍 Validation Phase...\n"
     ]
    },
    {
     "name": "stderr",
     "output_type": "stream",
     "text": [
      "Validation: 100%|██████████████████████████████| 42/42 [00:24<00:00,  1.72it/s, Loss=1.3332, Acc=0.7485]\n"
     ]
    },
    {
     "name": "stdout",
     "output_type": "stream",
     "text": [
      "✅ Validation completed in 24.38s\n",
      "\n",
      "📊 Epoch 23 Summary:\n",
      "│ Train Loss: 0.0128 | Train Acc: 0.9952\n",
      "│ Val Loss:   1.3332 | Val Acc:   0.7485\n",
      "│ Train Time: 210.79s | Val Time: 24.38s\n",
      "│ Total Epoch Time: 235.17s\n",
      "│ Best Val Loss: 0.8504 (Epoch 1)\n",
      "│ GPU Memory: 0.3GB / 9.0GB\n",
      "================================================================================\n",
      "\n",
      "📈 Epoch 24/50\n",
      "--------------------------------------------------\n",
      "🔄 Training Phase...\n"
     ]
    },
    {
     "name": "stderr",
     "output_type": "stream",
     "text": [
      "Training: 100%|██████████████████████████████| 162/162 [03:30<00:00,  1.30s/it, Loss=0.0094, Acc=0.9965]\n"
     ]
    },
    {
     "name": "stdout",
     "output_type": "stream",
     "text": [
      "✅ Training completed in 210.97s\n",
      "🔍 Validation Phase...\n"
     ]
    },
    {
     "name": "stderr",
     "output_type": "stream",
     "text": [
      "Validation: 100%|██████████████████████████████| 42/42 [00:24<00:00,  1.74it/s, Loss=1.2810, Acc=0.7568]\n"
     ]
    },
    {
     "name": "stdout",
     "output_type": "stream",
     "text": [
      "✅ Validation completed in 24.21s\n",
      "\n",
      "📊 Epoch 24 Summary:\n",
      "│ Train Loss: 0.0094 | Train Acc: 0.9965\n",
      "│ Val Loss:   1.2810 | Val Acc:   0.7568\n",
      "│ Train Time: 210.97s | Val Time: 24.21s\n",
      "│ Total Epoch Time: 235.18s\n",
      "│ Best Val Loss: 0.8504 (Epoch 1)\n",
      "│ GPU Memory: 0.3GB / 9.0GB\n",
      "================================================================================\n",
      "\n",
      "📈 Epoch 25/50\n",
      "--------------------------------------------------\n",
      "🔄 Training Phase...\n"
     ]
    },
    {
     "name": "stderr",
     "output_type": "stream",
     "text": [
      "Training: 100%|██████████████████████████████| 162/162 [03:31<00:00,  1.30s/it, Loss=0.0141, Acc=0.9954]\n"
     ]
    },
    {
     "name": "stdout",
     "output_type": "stream",
     "text": [
      "✅ Training completed in 211.30s\n",
      "🔍 Validation Phase...\n"
     ]
    },
    {
     "name": "stderr",
     "output_type": "stream",
     "text": [
      "Validation: 100%|██████████████████████████████| 42/42 [00:24<00:00,  1.75it/s, Loss=1.2895, Acc=0.7583]\n"
     ]
    },
    {
     "name": "stdout",
     "output_type": "stream",
     "text": [
      "✅ Validation completed in 24.01s\n",
      "\n",
      "📊 Epoch 25 Summary:\n",
      "│ Train Loss: 0.0141 | Train Acc: 0.9954\n",
      "│ Val Loss:   1.2895 | Val Acc:   0.7583\n",
      "│ Train Time: 211.30s | Val Time: 24.01s\n",
      "│ Total Epoch Time: 235.31s\n",
      "│ Best Val Loss: 0.8504 (Epoch 1)\n",
      "│ GPU Memory: 0.3GB / 9.0GB\n",
      "================================================================================\n",
      "\n",
      "📈 Epoch 26/50\n",
      "--------------------------------------------------\n",
      "🔄 Training Phase...\n"
     ]
    },
    {
     "name": "stderr",
     "output_type": "stream",
     "text": [
      "Training: 100%|██████████████████████████████| 162/162 [03:31<00:00,  1.31s/it, Loss=0.0076, Acc=0.9965]\n"
     ]
    },
    {
     "name": "stdout",
     "output_type": "stream",
     "text": [
      "✅ Training completed in 211.56s\n",
      "🔍 Validation Phase...\n"
     ]
    },
    {
     "name": "stderr",
     "output_type": "stream",
     "text": [
      "Validation: 100%|██████████████████████████████| 42/42 [00:24<00:00,  1.70it/s, Loss=1.2569, Acc=0.7530]\n"
     ]
    },
    {
     "name": "stdout",
     "output_type": "stream",
     "text": [
      "✅ Validation completed in 24.66s\n",
      "\n",
      "📊 Epoch 26 Summary:\n",
      "│ Train Loss: 0.0076 | Train Acc: 0.9965\n",
      "│ Val Loss:   1.2569 | Val Acc:   0.7530\n",
      "│ Train Time: 211.56s | Val Time: 24.66s\n",
      "│ Total Epoch Time: 236.22s\n",
      "│ Best Val Loss: 0.8504 (Epoch 1)\n",
      "│ GPU Memory: 0.3GB / 9.0GB\n",
      "================================================================================\n",
      "\n",
      "📈 Epoch 27/50\n",
      "--------------------------------------------------\n",
      "🔄 Training Phase...\n"
     ]
    },
    {
     "name": "stderr",
     "output_type": "stream",
     "text": [
      "Training: 100%|██████████████████████████████| 162/162 [03:31<00:00,  1.30s/it, Loss=0.0046, Acc=0.9979]\n"
     ]
    },
    {
     "name": "stdout",
     "output_type": "stream",
     "text": [
      "✅ Training completed in 211.28s\n",
      "🔍 Validation Phase...\n"
     ]
    },
    {
     "name": "stderr",
     "output_type": "stream",
     "text": [
      "Validation: 100%|██████████████████████████████| 42/42 [00:24<00:00,  1.75it/s, Loss=1.3084, Acc=0.7500]\n"
     ]
    },
    {
     "name": "stdout",
     "output_type": "stream",
     "text": [
      "✅ Validation completed in 24.01s\n",
      "\n",
      "📊 Epoch 27 Summary:\n",
      "│ Train Loss: 0.0046 | Train Acc: 0.9979\n",
      "│ Val Loss:   1.3084 | Val Acc:   0.7500\n",
      "│ Train Time: 211.28s | Val Time: 24.01s\n",
      "│ Total Epoch Time: 235.29s\n",
      "│ Best Val Loss: 0.8504 (Epoch 1)\n",
      "│ GPU Memory: 0.3GB / 9.0GB\n",
      "================================================================================\n",
      "\n",
      "📈 Epoch 28/50\n",
      "--------------------------------------------------\n",
      "🔄 Training Phase...\n"
     ]
    },
    {
     "name": "stderr",
     "output_type": "stream",
     "text": [
      "Training: 100%|██████████████████████████████| 162/162 [03:33<00:00,  1.32s/it, Loss=0.0049, Acc=0.9977]\n"
     ]
    },
    {
     "name": "stdout",
     "output_type": "stream",
     "text": [
      "✅ Training completed in 213.43s\n",
      "🔍 Validation Phase...\n"
     ]
    },
    {
     "name": "stderr",
     "output_type": "stream",
     "text": [
      "Validation: 100%|██████████████████████████████| 42/42 [00:23<00:00,  1.75it/s, Loss=1.3339, Acc=0.7568]\n"
     ]
    },
    {
     "name": "stdout",
     "output_type": "stream",
     "text": [
      "✅ Validation completed in 23.94s\n",
      "\n",
      "📊 Epoch 28 Summary:\n",
      "│ Train Loss: 0.0049 | Train Acc: 0.9977\n",
      "│ Val Loss:   1.3339 | Val Acc:   0.7568\n",
      "│ Train Time: 213.43s | Val Time: 23.94s\n",
      "│ Total Epoch Time: 237.38s\n",
      "│ Best Val Loss: 0.8504 (Epoch 1)\n",
      "│ GPU Memory: 0.3GB / 9.0GB\n",
      "================================================================================\n",
      "\n",
      "📈 Epoch 29/50\n",
      "--------------------------------------------------\n",
      "🔄 Training Phase...\n"
     ]
    },
    {
     "name": "stderr",
     "output_type": "stream",
     "text": [
      "Training: 100%|██████████████████████████████| 162/162 [03:31<00:00,  1.30s/it, Loss=0.0039, Acc=0.9977]\n"
     ]
    },
    {
     "name": "stdout",
     "output_type": "stream",
     "text": [
      "✅ Training completed in 211.02s\n",
      "🔍 Validation Phase...\n"
     ]
    },
    {
     "name": "stderr",
     "output_type": "stream",
     "text": [
      "Validation: 100%|██████████████████████████████| 42/42 [00:23<00:00,  1.75it/s, Loss=1.2994, Acc=0.7553]\n"
     ]
    },
    {
     "name": "stdout",
     "output_type": "stream",
     "text": [
      "✅ Validation completed in 23.96s\n",
      "\n",
      "📊 Epoch 29 Summary:\n",
      "│ Train Loss: 0.0039 | Train Acc: 0.9977\n",
      "│ Val Loss:   1.2994 | Val Acc:   0.7553\n",
      "│ Train Time: 211.02s | Val Time: 23.96s\n",
      "│ Total Epoch Time: 234.98s\n",
      "│ Best Val Loss: 0.8504 (Epoch 1)\n",
      "│ GPU Memory: 0.3GB / 9.0GB\n",
      "================================================================================\n",
      "\n",
      "📈 Epoch 30/50\n",
      "--------------------------------------------------\n",
      "🔄 Training Phase...\n"
     ]
    },
    {
     "name": "stderr",
     "output_type": "stream",
     "text": [
      "Training: 100%|██████████████████████████████| 162/162 [03:30<00:00,  1.30s/it, Loss=0.0036, Acc=0.9971]\n"
     ]
    },
    {
     "name": "stdout",
     "output_type": "stream",
     "text": [
      "✅ Training completed in 210.67s\n",
      "🔍 Validation Phase...\n"
     ]
    },
    {
     "name": "stderr",
     "output_type": "stream",
     "text": [
      "Validation: 100%|██████████████████████████████| 42/42 [00:24<00:00,  1.75it/s, Loss=1.3371, Acc=0.7485]\n"
     ]
    },
    {
     "name": "stdout",
     "output_type": "stream",
     "text": [
      "✅ Validation completed in 24.04s\n",
      "\n",
      "📊 Epoch 30 Summary:\n",
      "│ Train Loss: 0.0036 | Train Acc: 0.9971\n",
      "│ Val Loss:   1.3371 | Val Acc:   0.7485\n",
      "│ Train Time: 210.67s | Val Time: 24.04s\n",
      "│ Total Epoch Time: 234.71s\n",
      "│ Best Val Loss: 0.8504 (Epoch 1)\n",
      "│ GPU Memory: 0.3GB / 9.0GB\n",
      "================================================================================\n",
      "\n",
      "📈 Epoch 31/50\n",
      "--------------------------------------------------\n",
      "🔄 Training Phase...\n"
     ]
    },
    {
     "name": "stderr",
     "output_type": "stream",
     "text": [
      "Training: 100%|██████████████████████████████| 162/162 [03:31<00:00,  1.30s/it, Loss=0.0035, Acc=0.9973]\n"
     ]
    },
    {
     "name": "stdout",
     "output_type": "stream",
     "text": [
      "✅ Training completed in 211.38s\n",
      "🔍 Validation Phase...\n"
     ]
    },
    {
     "name": "stderr",
     "output_type": "stream",
     "text": [
      "Validation: 100%|██████████████████████████████| 42/42 [00:24<00:00,  1.74it/s, Loss=1.4056, Acc=0.7523]\n"
     ]
    },
    {
     "name": "stdout",
     "output_type": "stream",
     "text": [
      "✅ Validation completed in 24.13s\n",
      "\n",
      "📊 Epoch 31 Summary:\n",
      "│ Train Loss: 0.0035 | Train Acc: 0.9973\n",
      "│ Val Loss:   1.4056 | Val Acc:   0.7523\n",
      "│ Train Time: 211.38s | Val Time: 24.13s\n",
      "│ Total Epoch Time: 235.52s\n",
      "│ Best Val Loss: 0.8504 (Epoch 1)\n",
      "│ GPU Memory: 0.3GB / 9.0GB\n",
      "================================================================================\n",
      "\n",
      "📈 Epoch 32/50\n",
      "--------------------------------------------------\n",
      "🔄 Training Phase...\n"
     ]
    },
    {
     "name": "stderr",
     "output_type": "stream",
     "text": [
      "Training: 100%|██████████████████████████████| 162/162 [03:31<00:00,  1.31s/it, Loss=0.0033, Acc=0.9969]\n"
     ]
    },
    {
     "name": "stdout",
     "output_type": "stream",
     "text": [
      "✅ Training completed in 211.59s\n",
      "🔍 Validation Phase...\n"
     ]
    },
    {
     "name": "stderr",
     "output_type": "stream",
     "text": [
      "Validation: 100%|██████████████████████████████| 42/42 [00:24<00:00,  1.73it/s, Loss=1.3811, Acc=0.7613]\n"
     ]
    },
    {
     "name": "stdout",
     "output_type": "stream",
     "text": [
      "✅ Validation completed in 24.33s\n",
      "\n",
      "📊 Epoch 32 Summary:\n",
      "│ Train Loss: 0.0033 | Train Acc: 0.9969\n",
      "│ Val Loss:   1.3811 | Val Acc:   0.7613\n",
      "│ Train Time: 211.59s | Val Time: 24.33s\n",
      "│ Total Epoch Time: 235.92s\n",
      "│ Best Val Loss: 0.8504 (Epoch 1)\n",
      "│ GPU Memory: 0.3GB / 9.0GB\n",
      "================================================================================\n",
      "\n",
      "📈 Epoch 33/50\n",
      "--------------------------------------------------\n",
      "🔄 Training Phase...\n"
     ]
    },
    {
     "name": "stderr",
     "output_type": "stream",
     "text": [
      "Training: 100%|██████████████████████████████| 162/162 [03:31<00:00,  1.31s/it, Loss=0.0033, Acc=0.9975]\n"
     ]
    },
    {
     "name": "stdout",
     "output_type": "stream",
     "text": [
      "✅ Training completed in 211.93s\n",
      "🔍 Validation Phase...\n"
     ]
    },
    {
     "name": "stderr",
     "output_type": "stream",
     "text": [
      "Validation: 100%|██████████████████████████████| 42/42 [00:24<00:00,  1.72it/s, Loss=1.3761, Acc=0.7492]\n"
     ]
    },
    {
     "name": "stdout",
     "output_type": "stream",
     "text": [
      "✅ Validation completed in 24.44s\n",
      "\n",
      "📊 Epoch 33 Summary:\n",
      "│ Train Loss: 0.0033 | Train Acc: 0.9975\n",
      "│ Val Loss:   1.3761 | Val Acc:   0.7492\n",
      "│ Train Time: 211.93s | Val Time: 24.44s\n",
      "│ Total Epoch Time: 236.37s\n",
      "│ Best Val Loss: 0.8504 (Epoch 1)\n",
      "│ GPU Memory: 0.3GB / 9.0GB\n",
      "================================================================================\n",
      "\n",
      "📈 Epoch 34/50\n",
      "--------------------------------------------------\n",
      "🔄 Training Phase...\n"
     ]
    },
    {
     "name": "stderr",
     "output_type": "stream",
     "text": [
      "Training: 100%|██████████████████████████████| 162/162 [03:32<00:00,  1.31s/it, Loss=0.0031, Acc=0.9981]\n"
     ]
    },
    {
     "name": "stdout",
     "output_type": "stream",
     "text": [
      "✅ Training completed in 212.03s\n",
      "🔍 Validation Phase...\n"
     ]
    },
    {
     "name": "stderr",
     "output_type": "stream",
     "text": [
      "Validation: 100%|██████████████████████████████| 42/42 [00:23<00:00,  1.75it/s, Loss=1.3704, Acc=0.7575]\n"
     ]
    },
    {
     "name": "stdout",
     "output_type": "stream",
     "text": [
      "✅ Validation completed in 23.95s\n",
      "\n",
      "📊 Epoch 34 Summary:\n",
      "│ Train Loss: 0.0031 | Train Acc: 0.9981\n",
      "│ Val Loss:   1.3704 | Val Acc:   0.7575\n",
      "│ Train Time: 212.03s | Val Time: 23.95s\n",
      "│ Total Epoch Time: 235.99s\n",
      "│ Best Val Loss: 0.8504 (Epoch 1)\n",
      "│ GPU Memory: 0.3GB / 9.0GB\n",
      "================================================================================\n",
      "\n",
      "📈 Epoch 35/50\n",
      "--------------------------------------------------\n",
      "🔄 Training Phase...\n"
     ]
    },
    {
     "name": "stderr",
     "output_type": "stream",
     "text": [
      "Training: 100%|██████████████████████████████| 162/162 [03:31<00:00,  1.31s/it, Loss=0.0031, Acc=0.9981]\n"
     ]
    },
    {
     "name": "stdout",
     "output_type": "stream",
     "text": [
      "✅ Training completed in 211.58s\n",
      "🔍 Validation Phase...\n"
     ]
    },
    {
     "name": "stderr",
     "output_type": "stream",
     "text": [
      "Validation: 100%|██████████████████████████████| 42/42 [00:24<00:00,  1.74it/s, Loss=1.3810, Acc=0.7575]\n"
     ]
    },
    {
     "name": "stdout",
     "output_type": "stream",
     "text": [
      "✅ Validation completed in 24.09s\n",
      "\n",
      "📊 Epoch 35 Summary:\n",
      "│ Train Loss: 0.0031 | Train Acc: 0.9981\n",
      "│ Val Loss:   1.3810 | Val Acc:   0.7575\n",
      "│ Train Time: 211.58s | Val Time: 24.09s\n",
      "│ Total Epoch Time: 235.68s\n",
      "│ Best Val Loss: 0.8504 (Epoch 1)\n",
      "│ GPU Memory: 0.3GB / 9.0GB\n",
      "================================================================================\n",
      "\n",
      "📈 Epoch 36/50\n",
      "--------------------------------------------------\n",
      "🔄 Training Phase...\n"
     ]
    },
    {
     "name": "stderr",
     "output_type": "stream",
     "text": [
      "Training: 100%|██████████████████████████████| 162/162 [03:31<00:00,  1.30s/it, Loss=0.0039, Acc=0.9981]\n"
     ]
    },
    {
     "name": "stdout",
     "output_type": "stream",
     "text": [
      "✅ Training completed in 211.10s\n",
      "🔍 Validation Phase...\n"
     ]
    },
    {
     "name": "stderr",
     "output_type": "stream",
     "text": [
      "Validation: 100%|██████████████████████████████| 42/42 [00:23<00:00,  1.75it/s, Loss=1.5062, Acc=0.7229]\n"
     ]
    },
    {
     "name": "stdout",
     "output_type": "stream",
     "text": [
      "✅ Validation completed in 23.99s\n",
      "\n",
      "📊 Epoch 36 Summary:\n",
      "│ Train Loss: 0.0039 | Train Acc: 0.9981\n",
      "│ Val Loss:   1.5062 | Val Acc:   0.7229\n",
      "│ Train Time: 211.10s | Val Time: 23.99s\n",
      "│ Total Epoch Time: 235.09s\n",
      "│ Best Val Loss: 0.8504 (Epoch 1)\n",
      "│ GPU Memory: 0.3GB / 9.0GB\n",
      "================================================================================\n",
      "\n",
      "📈 Epoch 37/50\n",
      "--------------------------------------------------\n",
      "🔄 Training Phase...\n"
     ]
    },
    {
     "name": "stderr",
     "output_type": "stream",
     "text": [
      "Training: 100%|██████████████████████████████| 162/162 [03:31<00:00,  1.31s/it, Loss=0.0032, Acc=0.9981]\n"
     ]
    },
    {
     "name": "stdout",
     "output_type": "stream",
     "text": [
      "✅ Training completed in 211.97s\n",
      "🔍 Validation Phase...\n"
     ]
    },
    {
     "name": "stderr",
     "output_type": "stream",
     "text": [
      "Validation: 100%|██████████████████████████████| 42/42 [00:24<00:00,  1.74it/s, Loss=1.4817, Acc=0.7523]\n"
     ]
    },
    {
     "name": "stdout",
     "output_type": "stream",
     "text": [
      "✅ Validation completed in 24.19s\n",
      "\n",
      "📊 Epoch 37 Summary:\n",
      "│ Train Loss: 0.0032 | Train Acc: 0.9981\n",
      "│ Val Loss:   1.4817 | Val Acc:   0.7523\n",
      "│ Train Time: 211.97s | Val Time: 24.19s\n",
      "│ Total Epoch Time: 236.16s\n",
      "│ Best Val Loss: 0.8504 (Epoch 1)\n",
      "│ GPU Memory: 0.3GB / 9.0GB\n",
      "================================================================================\n",
      "\n",
      "📈 Epoch 38/50\n",
      "--------------------------------------------------\n",
      "🔄 Training Phase...\n"
     ]
    },
    {
     "name": "stderr",
     "output_type": "stream",
     "text": [
      "Training: 100%|██████████████████████████████| 162/162 [03:31<00:00,  1.31s/it, Loss=0.0031, Acc=0.9975]\n"
     ]
    },
    {
     "name": "stdout",
     "output_type": "stream",
     "text": [
      "✅ Training completed in 211.75s\n",
      "🔍 Validation Phase...\n"
     ]
    },
    {
     "name": "stderr",
     "output_type": "stream",
     "text": [
      "Validation: 100%|██████████████████████████████| 42/42 [00:24<00:00,  1.75it/s, Loss=1.5488, Acc=0.7560]\n"
     ]
    },
    {
     "name": "stdout",
     "output_type": "stream",
     "text": [
      "✅ Validation completed in 24.02s\n",
      "\n",
      "📊 Epoch 38 Summary:\n",
      "│ Train Loss: 0.0031 | Train Acc: 0.9975\n",
      "│ Val Loss:   1.5488 | Val Acc:   0.7560\n",
      "│ Train Time: 211.75s | Val Time: 24.02s\n",
      "│ Total Epoch Time: 235.78s\n",
      "│ Best Val Loss: 0.8504 (Epoch 1)\n",
      "│ GPU Memory: 0.3GB / 9.0GB\n",
      "================================================================================\n",
      "\n",
      "📈 Epoch 39/50\n",
      "--------------------------------------------------\n",
      "🔄 Training Phase...\n"
     ]
    },
    {
     "name": "stderr",
     "output_type": "stream",
     "text": [
      "Training: 100%|██████████████████████████████| 162/162 [03:31<00:00,  1.30s/it, Loss=0.0186, Acc=0.9940]\n"
     ]
    },
    {
     "name": "stdout",
     "output_type": "stream",
     "text": [
      "✅ Training completed in 211.16s\n",
      "🔍 Validation Phase...\n"
     ]
    },
    {
     "name": "stderr",
     "output_type": "stream",
     "text": [
      "Validation: 100%|██████████████████████████████| 42/42 [00:24<00:00,  1.74it/s, Loss=1.4653, Acc=0.7372]\n"
     ]
    },
    {
     "name": "stdout",
     "output_type": "stream",
     "text": [
      "✅ Validation completed in 24.08s\n",
      "\n",
      "📊 Epoch 39 Summary:\n",
      "│ Train Loss: 0.0186 | Train Acc: 0.9940\n",
      "│ Val Loss:   1.4653 | Val Acc:   0.7372\n",
      "│ Train Time: 211.16s | Val Time: 24.08s\n",
      "│ Total Epoch Time: 235.25s\n",
      "│ Best Val Loss: 0.8504 (Epoch 1)\n",
      "│ GPU Memory: 0.3GB / 9.0GB\n",
      "================================================================================\n",
      "\n",
      "📈 Epoch 40/50\n",
      "--------------------------------------------------\n",
      "🔄 Training Phase...\n"
     ]
    },
    {
     "name": "stderr",
     "output_type": "stream",
     "text": [
      "Training: 100%|██████████████████████████████| 162/162 [03:31<00:00,  1.31s/it, Loss=0.0467, Acc=0.9870]\n"
     ]
    },
    {
     "name": "stdout",
     "output_type": "stream",
     "text": [
      "✅ Training completed in 211.68s\n",
      "🔍 Validation Phase...\n"
     ]
    },
    {
     "name": "stderr",
     "output_type": "stream",
     "text": [
      "Validation: 100%|██████████████████████████████| 42/42 [00:24<00:00,  1.74it/s, Loss=1.3284, Acc=0.7492]\n"
     ]
    },
    {
     "name": "stdout",
     "output_type": "stream",
     "text": [
      "✅ Validation completed in 24.21s\n",
      "\n",
      "📊 Epoch 40 Summary:\n",
      "│ Train Loss: 0.0467 | Train Acc: 0.9870\n",
      "│ Val Loss:   1.3284 | Val Acc:   0.7492\n",
      "│ Train Time: 211.68s | Val Time: 24.21s\n",
      "│ Total Epoch Time: 235.89s\n",
      "│ Best Val Loss: 0.8504 (Epoch 1)\n",
      "│ GPU Memory: 0.3GB / 9.0GB\n",
      "================================================================================\n",
      "\n",
      "📈 Epoch 41/50\n",
      "--------------------------------------------------\n",
      "🔄 Training Phase...\n"
     ]
    },
    {
     "name": "stderr",
     "output_type": "stream",
     "text": [
      "Training: 100%|██████████████████████████████| 162/162 [03:31<00:00,  1.31s/it, Loss=0.0164, Acc=0.9942]\n"
     ]
    },
    {
     "name": "stdout",
     "output_type": "stream",
     "text": [
      "✅ Training completed in 211.65s\n",
      "🔍 Validation Phase...\n"
     ]
    },
    {
     "name": "stderr",
     "output_type": "stream",
     "text": [
      "Validation: 100%|██████████████████████████████| 42/42 [00:24<00:00,  1.74it/s, Loss=1.5247, Acc=0.7455]\n"
     ]
    },
    {
     "name": "stdout",
     "output_type": "stream",
     "text": [
      "✅ Validation completed in 24.10s\n",
      "\n",
      "📊 Epoch 41 Summary:\n",
      "│ Train Loss: 0.0164 | Train Acc: 0.9942\n",
      "│ Val Loss:   1.5247 | Val Acc:   0.7455\n",
      "│ Train Time: 211.65s | Val Time: 24.10s\n",
      "│ Total Epoch Time: 235.75s\n",
      "│ Best Val Loss: 0.8504 (Epoch 1)\n",
      "│ GPU Memory: 0.3GB / 9.0GB\n",
      "================================================================================\n",
      "\n",
      "📈 Epoch 42/50\n",
      "--------------------------------------------------\n",
      "🔄 Training Phase...\n"
     ]
    },
    {
     "name": "stderr",
     "output_type": "stream",
     "text": [
      "Training: 100%|██████████████████████████████| 162/162 [03:31<00:00,  1.31s/it, Loss=0.0081, Acc=0.9967]\n"
     ]
    },
    {
     "name": "stdout",
     "output_type": "stream",
     "text": [
      "✅ Training completed in 211.68s\n",
      "🔍 Validation Phase...\n"
     ]
    },
    {
     "name": "stderr",
     "output_type": "stream",
     "text": [
      "Validation: 100%|██████████████████████████████| 42/42 [00:24<00:00,  1.72it/s, Loss=1.3998, Acc=0.7455]\n"
     ]
    },
    {
     "name": "stdout",
     "output_type": "stream",
     "text": [
      "✅ Validation completed in 24.36s\n",
      "\n",
      "📊 Epoch 42 Summary:\n",
      "│ Train Loss: 0.0081 | Train Acc: 0.9967\n",
      "│ Val Loss:   1.3998 | Val Acc:   0.7455\n",
      "│ Train Time: 211.68s | Val Time: 24.36s\n",
      "│ Total Epoch Time: 236.04s\n",
      "│ Best Val Loss: 0.8504 (Epoch 1)\n",
      "│ GPU Memory: 0.3GB / 9.0GB\n",
      "================================================================================\n",
      "\n",
      "📈 Epoch 43/50\n",
      "--------------------------------------------------\n",
      "🔄 Training Phase...\n"
     ]
    },
    {
     "name": "stderr",
     "output_type": "stream",
     "text": [
      "Training: 100%|██████████████████████████████| 162/162 [03:31<00:00,  1.31s/it, Loss=0.0074, Acc=0.9967]\n"
     ]
    },
    {
     "name": "stdout",
     "output_type": "stream",
     "text": [
      "✅ Training completed in 211.55s\n",
      "🔍 Validation Phase...\n"
     ]
    },
    {
     "name": "stderr",
     "output_type": "stream",
     "text": [
      "Validation: 100%|██████████████████████████████| 42/42 [00:23<00:00,  1.76it/s, Loss=1.4849, Acc=0.7485]\n"
     ]
    },
    {
     "name": "stdout",
     "output_type": "stream",
     "text": [
      "✅ Validation completed in 23.90s\n",
      "\n",
      "📊 Epoch 43 Summary:\n",
      "│ Train Loss: 0.0074 | Train Acc: 0.9967\n",
      "│ Val Loss:   1.4849 | Val Acc:   0.7485\n",
      "│ Train Time: 211.55s | Val Time: 23.90s\n",
      "│ Total Epoch Time: 235.46s\n",
      "│ Best Val Loss: 0.8504 (Epoch 1)\n",
      "│ GPU Memory: 0.3GB / 9.0GB\n",
      "================================================================================\n",
      "\n",
      "📈 Epoch 44/50\n",
      "--------------------------------------------------\n",
      "🔄 Training Phase...\n"
     ]
    },
    {
     "name": "stderr",
     "output_type": "stream",
     "text": [
      "Training: 100%|██████████████████████████████| 162/162 [03:31<00:00,  1.30s/it, Loss=0.0054, Acc=0.9969]\n"
     ]
    },
    {
     "name": "stdout",
     "output_type": "stream",
     "text": [
      "✅ Training completed in 211.35s\n",
      "🔍 Validation Phase...\n"
     ]
    },
    {
     "name": "stderr",
     "output_type": "stream",
     "text": [
      "Validation: 100%|██████████████████████████████| 42/42 [00:23<00:00,  1.76it/s, Loss=1.4523, Acc=0.7485]\n"
     ]
    },
    {
     "name": "stdout",
     "output_type": "stream",
     "text": [
      "✅ Validation completed in 23.91s\n",
      "\n",
      "📊 Epoch 44 Summary:\n",
      "│ Train Loss: 0.0054 | Train Acc: 0.9969\n",
      "│ Val Loss:   1.4523 | Val Acc:   0.7485\n",
      "│ Train Time: 211.35s | Val Time: 23.91s\n",
      "│ Total Epoch Time: 235.26s\n",
      "│ Best Val Loss: 0.8504 (Epoch 1)\n",
      "│ GPU Memory: 0.3GB / 9.0GB\n",
      "================================================================================\n",
      "\n",
      "📈 Epoch 45/50\n",
      "--------------------------------------------------\n",
      "🔄 Training Phase...\n"
     ]
    },
    {
     "name": "stderr",
     "output_type": "stream",
     "text": [
      "Training: 100%|██████████████████████████████| 162/162 [03:31<00:00,  1.30s/it, Loss=0.0061, Acc=0.9969]\n"
     ]
    },
    {
     "name": "stdout",
     "output_type": "stream",
     "text": [
      "✅ Training completed in 211.25s\n",
      "🔍 Validation Phase...\n"
     ]
    },
    {
     "name": "stderr",
     "output_type": "stream",
     "text": [
      "Validation: 100%|██████████████████████████████| 42/42 [00:24<00:00,  1.74it/s, Loss=1.4647, Acc=0.7553]\n"
     ]
    },
    {
     "name": "stdout",
     "output_type": "stream",
     "text": [
      "✅ Validation completed in 24.12s\n",
      "\n",
      "📊 Epoch 45 Summary:\n",
      "│ Train Loss: 0.0061 | Train Acc: 0.9969\n",
      "│ Val Loss:   1.4647 | Val Acc:   0.7553\n",
      "│ Train Time: 211.25s | Val Time: 24.12s\n",
      "│ Total Epoch Time: 235.38s\n",
      "│ Best Val Loss: 0.8504 (Epoch 1)\n",
      "│ GPU Memory: 0.3GB / 9.0GB\n",
      "================================================================================\n",
      "\n",
      "📈 Epoch 46/50\n",
      "--------------------------------------------------\n",
      "🔄 Training Phase...\n"
     ]
    },
    {
     "name": "stderr",
     "output_type": "stream",
     "text": [
      "Training: 100%|██████████████████████████████| 162/162 [03:31<00:00,  1.31s/it, Loss=0.0064, Acc=0.9969]\n"
     ]
    },
    {
     "name": "stdout",
     "output_type": "stream",
     "text": [
      "✅ Training completed in 211.49s\n",
      "🔍 Validation Phase...\n"
     ]
    },
    {
     "name": "stderr",
     "output_type": "stream",
     "text": [
      "Validation: 100%|██████████████████████████████| 42/42 [00:24<00:00,  1.74it/s, Loss=1.5226, Acc=0.7636]\n"
     ]
    },
    {
     "name": "stdout",
     "output_type": "stream",
     "text": [
      "✅ Validation completed in 24.18s\n",
      "\n",
      "📊 Epoch 46 Summary:\n",
      "│ Train Loss: 0.0064 | Train Acc: 0.9969\n",
      "│ Val Loss:   1.5226 | Val Acc:   0.7636\n",
      "│ Train Time: 211.49s | Val Time: 24.18s\n",
      "│ Total Epoch Time: 235.67s\n",
      "│ Best Val Loss: 0.8504 (Epoch 1)\n",
      "│ GPU Memory: 0.3GB / 9.0GB\n",
      "================================================================================\n",
      "\n",
      "📈 Epoch 47/50\n",
      "--------------------------------------------------\n",
      "🔄 Training Phase...\n"
     ]
    },
    {
     "name": "stderr",
     "output_type": "stream",
     "text": [
      "Training: 100%|██████████████████████████████| 162/162 [03:31<00:00,  1.31s/it, Loss=0.0038, Acc=0.9973]\n"
     ]
    },
    {
     "name": "stdout",
     "output_type": "stream",
     "text": [
      "✅ Training completed in 211.86s\n",
      "🔍 Validation Phase...\n"
     ]
    },
    {
     "name": "stderr",
     "output_type": "stream",
     "text": [
      "Validation: 100%|██████████████████████████████| 42/42 [00:24<00:00,  1.72it/s, Loss=1.5864, Acc=0.7711]\n"
     ]
    },
    {
     "name": "stdout",
     "output_type": "stream",
     "text": [
      "✅ Validation completed in 24.43s\n",
      "\n",
      "📊 Epoch 47 Summary:\n",
      "│ Train Loss: 0.0038 | Train Acc: 0.9973\n",
      "│ Val Loss:   1.5864 | Val Acc:   0.7711\n",
      "│ Train Time: 211.86s | Val Time: 24.43s\n",
      "│ Total Epoch Time: 236.29s\n",
      "│ Best Val Loss: 0.8504 (Epoch 1)\n",
      "│ GPU Memory: 0.3GB / 9.0GB\n",
      "================================================================================\n",
      "\n",
      "📈 Epoch 48/50\n",
      "--------------------------------------------------\n",
      "🔄 Training Phase...\n"
     ]
    },
    {
     "name": "stderr",
     "output_type": "stream",
     "text": [
      "Training: 100%|██████████████████████████████| 162/162 [03:32<00:00,  1.31s/it, Loss=0.0089, Acc=0.9967]\n"
     ]
    },
    {
     "name": "stdout",
     "output_type": "stream",
     "text": [
      "✅ Training completed in 212.27s\n",
      "🔍 Validation Phase...\n"
     ]
    },
    {
     "name": "stderr",
     "output_type": "stream",
     "text": [
      "Validation: 100%|██████████████████████████████| 42/42 [00:24<00:00,  1.75it/s, Loss=1.5126, Acc=0.7492]\n"
     ]
    },
    {
     "name": "stdout",
     "output_type": "stream",
     "text": [
      "✅ Validation completed in 24.05s\n",
      "\n",
      "📊 Epoch 48 Summary:\n",
      "│ Train Loss: 0.0089 | Train Acc: 0.9967\n",
      "│ Val Loss:   1.5126 | Val Acc:   0.7492\n",
      "│ Train Time: 212.27s | Val Time: 24.05s\n",
      "│ Total Epoch Time: 236.32s\n",
      "│ Best Val Loss: 0.8504 (Epoch 1)\n",
      "│ GPU Memory: 0.3GB / 9.0GB\n",
      "================================================================================\n",
      "\n",
      "📈 Epoch 49/50\n",
      "--------------------------------------------------\n",
      "🔄 Training Phase...\n"
     ]
    },
    {
     "name": "stderr",
     "output_type": "stream",
     "text": [
      "Training: 100%|██████████████████████████████| 162/162 [03:31<00:00,  1.31s/it, Loss=0.0062, Acc=0.9955]\n"
     ]
    },
    {
     "name": "stdout",
     "output_type": "stream",
     "text": [
      "✅ Training completed in 211.88s\n",
      "🔍 Validation Phase...\n"
     ]
    },
    {
     "name": "stderr",
     "output_type": "stream",
     "text": [
      "Validation: 100%|██████████████████████████████| 42/42 [00:24<00:00,  1.73it/s, Loss=1.6924, Acc=0.7515]\n"
     ]
    },
    {
     "name": "stdout",
     "output_type": "stream",
     "text": [
      "✅ Validation completed in 24.29s\n",
      "\n",
      "📊 Epoch 49 Summary:\n",
      "│ Train Loss: 0.0062 | Train Acc: 0.9955\n",
      "│ Val Loss:   1.6924 | Val Acc:   0.7515\n",
      "│ Train Time: 211.88s | Val Time: 24.29s\n",
      "│ Total Epoch Time: 236.18s\n",
      "│ Best Val Loss: 0.8504 (Epoch 1)\n",
      "│ GPU Memory: 0.3GB / 9.0GB\n",
      "================================================================================\n",
      "\n",
      "📈 Epoch 50/50\n",
      "--------------------------------------------------\n",
      "🔄 Training Phase...\n"
     ]
    },
    {
     "name": "stderr",
     "output_type": "stream",
     "text": [
      "Training: 100%|██████████████████████████████| 162/162 [03:31<00:00,  1.31s/it, Loss=0.0047, Acc=0.9971]\n"
     ]
    },
    {
     "name": "stdout",
     "output_type": "stream",
     "text": [
      "✅ Training completed in 211.93s\n",
      "🔍 Validation Phase...\n"
     ]
    },
    {
     "name": "stderr",
     "output_type": "stream",
     "text": [
      "Validation: 100%|██████████████████████████████| 42/42 [00:23<00:00,  1.75it/s, Loss=1.6957, Acc=0.7530]\n"
     ]
    },
    {
     "name": "stdout",
     "output_type": "stream",
     "text": [
      "✅ Validation completed in 23.99s\n",
      "\n",
      "📊 Epoch 50 Summary:\n",
      "│ Train Loss: 0.0047 | Train Acc: 0.9971\n",
      "│ Val Loss:   1.6957 | Val Acc:   0.7530\n",
      "│ Train Time: 211.93s | Val Time: 23.99s\n",
      "│ Total Epoch Time: 235.93s\n",
      "│ Best Val Loss: 0.8504 (Epoch 1)\n",
      "│ GPU Memory: 0.3GB / 9.0GB\n",
      "================================================================================\n",
      "\n",
      "💾 Best model saved as 'best_cricket_xception_filtered.pth'\n",
      "📊 Best model stats:\n",
      "│ Best Epoch: 1\n",
      "│ Best Val Loss: 0.8504\n",
      "│ Best Val Acc: 0.7169\n",
      "\n",
      "💾 Training history saved to 'cricket_xception_filtered_history_pretrained.csv'\n",
      "\n",
      "🎉 Xception Fine-tuning Complete!\n",
      "Total Training Time: 11768.95s (196.1 minutes)\n",
      "Average Epoch Time: 235.38s\n",
      "\n",
      "🧪 Loading Best Model for Testing...\n",
      "✅ Best model from epoch 1 loaded successfully!\n"
     ]
    },
    {
     "name": "stderr",
     "output_type": "stream",
     "text": [
      "Testing: 100%|██████████████████████████████| 52/52 [00:35<00:00,  1.45it/s]\n"
     ]
    },
    {
     "name": "stdout",
     "output_type": "stream",
     "text": [
      "✅ Testing completed in 35.83s\n",
      "\n",
      "📋 Classification Report:\n",
      "              precision    recall  f1-score   support\n",
      "\n",
      "         Cut       0.71      0.74      0.73       400\n",
      "       Drive       0.80      0.65      0.72       336\n",
      "    Leg Shot       0.86      0.75      0.80       136\n",
      "    PullShot       0.91      0.92      0.91       192\n",
      "       Scoop       0.71      0.84      0.77       360\n",
      "    Straight       0.58      0.78      0.66       144\n",
      "       Sweep       0.81      0.34      0.48        88\n",
      "\n",
      "    accuracy                           0.75      1656\n",
      "   macro avg       0.77      0.72      0.72      1656\n",
      "weighted avg       0.76      0.75      0.74      1656\n",
      "\n",
      "🎯 Test Accuracy: 0.7470\n",
      "\n",
      "📊 Cricket Classification Performance (Xception - Filtered Data):\n",
      "│ Best Validation Loss: 0.8504 (Epoch 1)\n",
      "│ Best Validation Acc:  0.7169 (Epoch 1)\n",
      "│ Final Test Accuracy:  0.7470\n",
      "│ Val-Test Gap:         0.0301\n",
      "│ Data Filtering: Excluded 'random_occlusion' folder\n",
      "\n",
      "💾 Files saved:\n",
      "│ best_cricket_xception_filtered.pth - Best model weights\n",
      "│ cricket_xception_filtered_history.csv - Training metrics\n"
     ]
    },
    {
     "data": {
      "image/png": "[encoded data removed]",
      "text/plain": [
       "<Figure size 1000x800 with 2 Axes>"
      ]
     },
     "metadata": {},
     "output_type": "display_data"
    },
    {
     "data": {
      "image/png": "[encoded data removed]",
      "text/plain": [
       "<Figure size 1500x500 with 3 Axes>"
      ]
     },
     "metadata": {},
     "output_type": "display_data"
    },
    {
     "name": "stdout",
     "output_type": "stream",
     "text": [
      "\n",
      "⏰ Final Timing Summary:\n",
      "│ Total Training: 11768.95s (196.1 min)\n",
      "│ Average per Epoch: 235.38s\n",
      "│ Testing Time: 35.83s\n",
      "│ Total Runtime: 11804.78s\n",
      "\n",
      "🔀 Xception + Filtered Data Benefits:\n",
      "│ Clean dataset: 'random_occlusion' folder excluded\n",
      "│ Depthwise separable convolutions: More efficient than standard convolutions\n",
      "│ Extreme version of Inception: Maximally decoupled cross-channel correlations\n",
      "│ High resolution: 299x299 input captures fine details\n",
      "│ [-1, 1] normalization: Xception-specific preprocessing\n",
      "│ Excellent performance: Often matches InceptionV3 with fewer parameters\n"
     ]
    }
   ],
   "source": [
    "# -----------------------------\n",
    "# 3. Training Setup\n",
    "# -----------------------------\n",
    "criterion = nn.CrossEntropyLoss()\n",
    "optimizer = optim.Adam(model.parameters(), lr=1e-4)  # Lower LR for fine-tuning\n",
    "\n",
    "print(f\"\\n📋 Training Configuration:\")\n",
    "print(f\"│ Model: Xception (pretrained via timm)\")\n",
    "print(f\"│ Optimizer: Adam (lr={optimizer.param_groups[0]['lr']})\")\n",
    "print(f\"│ Loss Function: CrossEntropyLoss\")\n",
    "print(f\"│ Batch Size: 32\")\n",
    "print(f\"│ Device: {device}\")\n",
    "print(f\"│ Data: Filtered (excluding '{ignore_folder}')\")\n",
    "print(f\"│ Normalization: [-1, 1] range (Xception specific)\")\n",
    "\n",
    "# -----------------------------\n",
    "# 4. Training Loop with Model Saving\n",
    "# -----------------------------\n",
    "train_losses, val_losses = [], []\n",
    "train_accs, val_accs = [], []\n",
    "epoch_times = []\n",
    "epochs = 50\n",
    "\n",
    "# Initialize best model tracking (using val_loss for fine-tuning)\n",
    "best_val_loss = float('inf')\n",
    "best_model_state = None\n",
    "best_epoch = 0\n",
    "best_val_acc = 0.0\n",
    "\n",
    "print(f\"\\n🚀 Starting Xception Fine-tuning for {epochs} epochs...\")\n",
    "print(\"=\" * 80)\n",
    "total_start_time = time.time()\n",
    "\n",
    "for epoch in range(epochs):\n",
    "    epoch_start_time = time.time()\n",
    "    \n",
    "    print(f\"\\n📈 Epoch {epoch+1}/{epochs}\")\n",
    "    print(\"-\" * 50)\n",
    "    \n",
    "    # Training Phase\n",
    "    print(\"🔄 Training Phase...\")\n",
    "    model.train()\n",
    "    running_loss, correct, total = 0, 0, 0\n",
    "    \n",
    "    train_pbar = tqdm(train_loader, desc=\"Training\", \n",
    "                     bar_format='{l_bar}{bar:30}{r_bar}{bar:-30b}')\n",
    "    \n",
    "    train_phase_start = time.time()\n",
    "    \n",
    "    for batch_idx, (imgs, labels) in enumerate(train_pbar):\n",
    "        imgs, labels = imgs.to(device), labels.to(device)\n",
    "        \n",
    "        optimizer.zero_grad()\n",
    "        outputs = model(imgs)\n",
    "        loss = criterion(outputs, labels)\n",
    "        loss.backward()\n",
    "        optimizer.step()\n",
    "        \n",
    "        running_loss += loss.item()\n",
    "        _, preds = torch.max(outputs, 1)\n",
    "        correct += (preds == labels).sum().item()\n",
    "        total += labels.size(0)\n",
    "        \n",
    "        current_acc = correct / total\n",
    "        train_pbar.set_postfix({\n",
    "            'Loss': f'{running_loss/(batch_idx+1):.4f}',\n",
    "            'Acc': f'{current_acc:.4f}'\n",
    "        })\n",
    "        \n",
    "        if device.type == 'cuda' and batch_idx % 10 == 0:\n",
    "            gpu_memory = torch.cuda.memory_allocated() / 1024**3\n",
    "            train_pbar.set_postfix({\n",
    "                'Loss': f'{running_loss/(batch_idx+1):.4f}',\n",
    "                'Acc': f'{current_acc:.4f}',\n",
    "                'GPU': f'{gpu_memory:.1f}GB'\n",
    "            })\n",
    "    \n",
    "    train_phase_time = time.time() - train_phase_start\n",
    "    train_loss = running_loss / len(train_loader)\n",
    "    train_acc = correct / total\n",
    "    train_losses.append(train_loss)\n",
    "    train_accs.append(train_acc)\n",
    "    \n",
    "    print(f\"✅ Training completed in {train_phase_time:.2f}s\")\n",
    "    \n",
    "    # Validation Phase\n",
    "    print(\"🔍 Validation Phase...\")\n",
    "    model.eval()\n",
    "    running_loss, correct, total = 0, 0, 0\n",
    "    \n",
    "    val_phase_start = time.time()\n",
    "    val_pbar = tqdm(val_loader, desc=\"Validation\", \n",
    "                   bar_format='{l_bar}{bar:30}{r_bar}{bar:-30b}')\n",
    "    \n",
    "    with torch.no_grad():\n",
    "        for batch_idx, (imgs, labels) in enumerate(val_pbar):\n",
    "            imgs, labels = imgs.to(device), labels.to(device)\n",
    "            outputs = model(imgs)\n",
    "            loss = criterion(outputs, labels)\n",
    "            \n",
    "            running_loss += loss.item()\n",
    "            _, preds = torch.max(outputs, 1)\n",
    "            correct += (preds == labels).sum().item()\n",
    "            total += labels.size(0)\n",
    "            \n",
    "            current_acc = correct / total\n",
    "            val_pbar.set_postfix({\n",
    "                'Loss': f'{running_loss/(batch_idx+1):.4f}',\n",
    "                'Acc': f'{current_acc:.4f}'\n",
    "            })\n",
    "    \n",
    "    val_phase_time = time.time() - val_phase_start\n",
    "    val_loss = running_loss / len(val_loader)\n",
    "    val_acc = correct / total\n",
    "    val_losses.append(val_loss)\n",
    "    val_accs.append(val_acc)\n",
    "    \n",
    "    print(f\"✅ Validation completed in {val_phase_time:.2f}s\")\n",
    "    \n",
    "    # Check if this is the best model (using val_loss for fine-tuning)\n",
    "    is_best = val_loss < best_val_loss\n",
    "    if is_best:\n",
    "        best_val_loss = val_loss\n",
    "        best_val_acc = val_acc\n",
    "        best_epoch = epoch + 1\n",
    "        best_model_state = model.state_dict().copy()\n",
    "        print(f\"🌟 New best model found! Validation Loss: {val_loss:.4f}\")\n",
    "    \n",
    "    # Epoch Summary\n",
    "    epoch_time = time.time() - epoch_start_time\n",
    "    epoch_times.append(epoch_time)\n",
    "    \n",
    "    print(f\"\\n📊 Epoch {epoch+1} Summary:\")\n",
    "    print(f\"│ Train Loss: {train_loss:.4f} | Train Acc: {train_acc:.4f}\")\n",
    "    print(f\"│ Val Loss:   {val_loss:.4f} | Val Acc:   {val_acc:.4f}\")\n",
    "    print(f\"│ Train Time: {train_phase_time:.2f}s | Val Time: {val_phase_time:.2f}s\")\n",
    "    print(f\"│ Total Epoch Time: {epoch_time:.2f}s\")\n",
    "    print(f\"│ Best Val Loss: {best_val_loss:.4f} (Epoch {best_epoch})\")\n",
    "    \n",
    "    if device.type == 'cuda':\n",
    "        print(f\"│ GPU Memory: {torch.cuda.memory_allocated()/1024**3:.1f}GB / {torch.cuda.memory_reserved()/1024**3:.1f}GB\")\n",
    "    \n",
    "    print(\"=\" * 80)\n",
    "\n",
    "total_training_time = time.time() - total_start_time\n",
    "\n",
    "# Save the best model\n",
    "if best_model_state is not None:\n",
    "    torch.save(best_model_state, 'best_cricket_xception_filtered_pretrained.pth')\n",
    "    print(f\"\\n💾 Best model saved as 'best_cricket_xception_filtered.pth'\")\n",
    "    print(f\"📊 Best model stats:\")\n",
    "    print(f\"│ Best Epoch: {best_epoch}\")\n",
    "    print(f\"│ Best Val Loss: {best_val_loss:.4f}\")\n",
    "    print(f\"│ Best Val Acc: {best_val_acc:.4f}\")\n",
    "\n",
    "# Save training history\n",
    "history_data = {\n",
    "    'epoch': list(range(1, epochs+1)),\n",
    "    'train_loss': train_losses,\n",
    "    'val_loss': val_losses,\n",
    "    'train_acc': train_accs,\n",
    "    'val_acc': val_accs,\n",
    "    'epoch_time': epoch_times\n",
    "}\n",
    "\n",
    "history_df = pd.DataFrame(history_data)\n",
    "history_df.to_csv('cricket_xception_filtered_history_pretrained.csv', index=False)\n",
    "print(\"\\n💾 Training history saved to 'cricket_xception_filtered_history_pretrained.csv'\")\n",
    "\n",
    "print(f\"\\n🎉 Xception Fine-tuning Complete!\")\n",
    "print(f\"Total Training Time: {total_training_time:.2f}s ({total_training_time/60:.1f} minutes)\")\n",
    "print(f\"Average Epoch Time: {np.mean(epoch_times):.2f}s\")\n",
    "\n",
    "# -----------------------------\n",
    "# 5. Load Best Model and Test\n",
    "# -----------------------------\n",
    "print(f\"\\n🧪 Loading Best Model for Testing...\")\n",
    "if best_model_state is not None:\n",
    "    model.load_state_dict(best_model_state)\n",
    "    print(f\"✅ Best model from epoch {best_epoch} loaded successfully!\")\n",
    "\n",
    "test_start_time = time.time()\n",
    "y_true, y_pred = [], []\n",
    "model.eval()\n",
    "test_pbar = tqdm(test_loader, desc=\"Testing\", \n",
    "                bar_format='{l_bar}{bar:30}{r_bar}{bar:-30b}')\n",
    "\n",
    "with torch.no_grad():\n",
    "    for imgs, labels in test_pbar:\n",
    "        imgs, labels = imgs.to(device), labels.to(device)\n",
    "        outputs = model(imgs)\n",
    "        _, preds = torch.max(outputs, 1)\n",
    "        y_true.extend(labels.cpu().numpy())\n",
    "        y_pred.extend(preds.cpu().numpy())\n",
    "\n",
    "test_time = time.time() - test_start_time\n",
    "test_accuracy = accuracy_score(y_true, y_pred)\n",
    "\n",
    "print(f\"✅ Testing completed in {test_time:.2f}s\")\n",
    "print(\"\\n📋 Classification Report:\")\n",
    "print(classification_report(y_true, y_pred, target_names=classes))\n",
    "print(f\"🎯 Test Accuracy: {test_accuracy:.4f}\")\n",
    "\n",
    "# Performance Summary\n",
    "print(f\"\\n📊 Cricket Classification Performance (Xception - Filtered Data):\")\n",
    "print(f\"│ Best Validation Loss: {best_val_loss:.4f} (Epoch {best_epoch})\")\n",
    "print(f\"│ Best Validation Acc:  {best_val_acc:.4f} (Epoch {best_epoch})\")\n",
    "print(f\"│ Final Test Accuracy:  {test_accuracy:.4f}\")\n",
    "print(f\"│ Val-Test Gap:         {abs(best_val_acc - test_accuracy):.4f}\")\n",
    "print(f\"│ Data Filtering: Excluded '{ignore_folder}' folder\")\n",
    "\n",
    "print(f\"\\n💾 Files saved:\")\n",
    "print(f\"│ best_cricket_xception_filtered.pth - Best model weights\")\n",
    "print(f\"│ cricket_xception_filtered_history.csv - Training metrics\")\n",
    "\n",
    "# -----------------------------\n",
    "# 6. Visualizations\n",
    "# -----------------------------\n",
    "# Confusion Matrix\n",
    "cm = confusion_matrix(y_true, y_pred)\n",
    "plt.figure(figsize=(10, 8))\n",
    "sns.heatmap(cm, annot=True, fmt=\"d\", cmap=\"Blues\", \n",
    "            xticklabels=classes, yticklabels=classes)\n",
    "plt.xlabel(\"Predicted\")\n",
    "plt.ylabel(\"True\")\n",
    "plt.title(f\"Cricket Classification - Xception (Filtered Data) - Epoch {best_epoch}\")\n",
    "plt.tight_layout()\n",
    "plt.show()\n",
    "\n",
    "# Training Curves\n",
    "plt.figure(figsize=(15, 5))\n",
    "\n",
    "# Loss Plot\n",
    "plt.subplot(1, 3, 1)\n",
    "plt.plot(range(1, epochs+1), train_losses, 'b-', label=\"Train Loss\", marker='o', linewidth=2)\n",
    "plt.plot(range(1, epochs+1), val_losses, 'r-', label=\"Val Loss\", marker='s', linewidth=2)\n",
    "plt.axvline(x=best_epoch, color='green', linestyle='--', alpha=0.7, label=f'Best (Epoch {best_epoch})')\n",
    "plt.scatter([best_epoch], [best_val_loss], color='green', s=100, zorder=5)\n",
    "plt.legend()\n",
    "plt.title(\"Xception Loss over Epochs (Filtered)\")\n",
    "plt.xlabel(\"Epoch\")\n",
    "plt.ylabel(\"Loss\")\n",
    "plt.grid(True, alpha=0.3)\n",
    "\n",
    "# Accuracy Plot\n",
    "plt.subplot(1, 3, 2)\n",
    "plt.plot(range(1, epochs+1), train_accs, 'b-', label=\"Train Accuracy\", marker='o', linewidth=2)\n",
    "plt.plot(range(1, epochs+1), val_accs, 'r-', label=\"Val Accuracy\", marker='s', linewidth=2)\n",
    "plt.axvline(x=best_epoch, color='green', linestyle='--', alpha=0.7, label=f'Best (Epoch {best_epoch})')\n",
    "plt.scatter([best_epoch], [best_val_acc], color='green', s=100, zorder=5)\n",
    "plt.legend()\n",
    "plt.title(\"Xception Accuracy over Epochs (Filtered)\")\n",
    "plt.xlabel(\"Epoch\")\n",
    "plt.ylabel(\"Accuracy\")\n",
    "plt.grid(True, alpha=0.3)\n",
    "\n",
    "# Final Performance\n",
    "plt.subplot(1, 3, 3)\n",
    "metrics = ['Best Val Acc', 'Test Acc']\n",
    "values = [best_val_acc, test_accuracy]\n",
    "colors = ['orange', 'green']\n",
    "bars = plt.bar(metrics, values, color=colors, alpha=0.7)\n",
    "plt.title(\"Xception Final Performance (Filtered)\")\n",
    "plt.ylabel(\"Accuracy\")\n",
    "plt.ylim(0, 1)\n",
    "plt.grid(True, alpha=0.3)\n",
    "for bar, val in zip(bars, values):\n",
    "    plt.text(bar.get_x() + bar.get_width()/2, val + 0.01, \n",
    "             f'{val:.4f}', ha='center', va='bottom')\n",
    "\n",
    "plt.tight_layout()\n",
    "plt.show()\n",
    "\n",
    "# Final Summary\n",
    "print(f\"\\n⏰ Final Timing Summary:\")\n",
    "print(f\"│ Total Training: {total_training_time:.2f}s ({total_training_time/60:.1f} min)\")\n",
    "print(f\"│ Average per Epoch: {np.mean(epoch_times):.2f}s\")\n",
    "print(f\"│ Testing Time: {test_time:.2f}s\")\n",
    "print(f\"│ Total Runtime: {total_training_time + test_time:.2f}s\")\n",
    "\n",
    "# Model and Data Info\n",
    "print(f\"\\n🔀 Xception + Filtered Data Benefits:\")\n",
    "print(f\"│ Clean dataset: '{ignore_folder}' folder excluded\")\n",
    "print(f\"│ Depthwise separable convolutions: More efficient than standard convolutions\")\n",
    "print(f\"│ Extreme version of Inception: Maximally decoupled cross-channel correlations\")\n",
    "print(f\"│ High resolution: 299x299 input captures fine details\")\n",
    "print(f\"│ [-1, 1] normalization: Xception-specific preprocessing\")\n",
    "print(f\"│ Excellent performance: Often matches InceptionV3 with fewer parameters\")"
   ]
  }
 ],
 "metadata": {
  "kaggle": {
   "accelerator": "nvidiaTeslaT4",
   "dataSources": [
    {
     "datasetId": 7735666,
     "sourceId": 12275446,
     "sourceType": "datasetVersion"
    }
   ],
   "dockerImageVersionId": 31090,
   "isGpuEnabled": true,
   "isInternetEnabled": true,
   "language": "python",
   "sourceType": "notebook"
  },
  "kernelspec": {
   "display_name": "Python 3",
   "language": "python",
   "name": "python3"
  },
  "language_info": {
   "codemirror_mode": {
    "name": "ipython",
    "version": 3
   },
   "file_extension": ".py",
   "mimetype": "text/x-python",
   "name": "python",
   "nbconvert_exporter": "python",
   "pygments_lexer": "ipython3",
   "version": "3.11.13"
  },
  "papermill": {
   "default_parameters": {},
   "duration": 11833.604117,
   "end_time": "2025-09-12T13:39:53.132789",
   "environment_variables": {},
   "exception": null,
   "input_path": "__notebook__.ipynb",
   "output_path": "__notebook__.ipynb",
   "parameters": {},
   "start_time": "2025-09-12T10:22:39.528672",
   "version": "2.6.0"
  }
 },
 "nbformat": 4,
 "nbformat_minor": 5
}
