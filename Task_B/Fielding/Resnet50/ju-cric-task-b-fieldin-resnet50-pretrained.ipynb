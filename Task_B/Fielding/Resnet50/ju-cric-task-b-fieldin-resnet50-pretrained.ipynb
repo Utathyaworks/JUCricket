{
 "cells": [
  {
   "cell_type": "code",
   "execution_count": 1,
   "id": "6d95002b",
   "metadata": {
    "_cell_guid": "b1076dfc-b9ad-4769-8c92-a6c4dae69d19",
    "_uuid": "8f2839f25d086af736a60e9eeb907d3b93b6e0e5",
    "execution": {
     "iopub.execute_input": "2025-09-08T08:36:43.195001Z",
     "iopub.status.busy": "2025-09-08T08:36:43.194379Z",
     "iopub.status.idle": "2025-09-08T08:36:56.419863Z",
     "shell.execute_reply": "2025-09-08T08:36:56.419000Z"
    },
    "papermill": {
     "duration": 13.230847,
     "end_time": "2025-09-08T08:36:56.421087",
     "exception": false,
     "start_time": "2025-09-08T08:36:43.190240",
     "status": "completed"
    },
    "tags": []
   },
   "outputs": [
    {
     "name": "stdout",
     "output_type": "stream",
     "text": [
      "Training only on: Fielding\n",
      "Train classes: ['boundary_save', 'catching_a_ball', 'diving_stop', 'run_out', 'stumping']\n",
      "Train samples: 1917 Val samples: 504 Test samples: 630\n"
     ]
    }
   ],
   "source": [
    "import torch\n",
    "from torch.utils.data import DataLoader\n",
    "from torchvision import datasets, transforms\n",
    "\n",
    "# -----------------------------\n",
    "# 1. Data Preprocessing (Single Action Class)\n",
    "# -----------------------------\n",
    "base_dir = \"/kaggle/input/ju-cricket/Cricket_Dataset_final/Task_B\"  # base Task_B folder\n",
    "\n",
    "action_class = \"Fielding\"  # Change to \"Bowling\" / \"Fielding\" / \"Umpire\"\n",
    "\n",
    "transform = transforms.Compose([\n",
    "    transforms.Resize((224, 224)),   \n",
    "    transforms.ToTensor(),\n",
    "    transforms.Normalize([0.485, 0.456, 0.406], \n",
    "                         [0.229, 0.224, 0.225])\n",
    "])\n",
    "\n",
    "# Point ImageFolder to *only* the action class folder\n",
    "train_ds = datasets.ImageFolder(f\"{base_dir}/train/{action_class}\", transform=transform)\n",
    "val_ds   = datasets.ImageFolder(f\"{base_dir}/val/{action_class}\", transform=transform)\n",
    "test_ds  = datasets.ImageFolder(f\"{base_dir}/test/{action_class}\", transform=transform)\n",
    "\n",
    "train_loader = DataLoader(train_ds, batch_size=32, shuffle=True)\n",
    "val_loader   = DataLoader(val_ds, batch_size=32, shuffle=False)\n",
    "test_loader  = DataLoader(test_ds, batch_size=32, shuffle=False)\n",
    "\n",
    "print(f\"Training only on: {action_class}\")\n",
    "print(\"Train classes:\", train_ds.classes)\n",
    "print(\"Train samples:\", len(train_ds), \n",
    "      \"Val samples:\", len(val_ds), \n",
    "      \"Test samples:\", len(test_ds))\n"
   ]
  },
  {
   "cell_type": "code",
   "execution_count": 2,
   "id": "93bbe848",
   "metadata": {
    "execution": {
     "iopub.execute_input": "2025-09-08T08:36:56.427010Z",
     "iopub.status.busy": "2025-09-08T08:36:56.426699Z",
     "iopub.status.idle": "2025-09-08T08:36:56.431085Z",
     "shell.execute_reply": "2025-09-08T08:36:56.430335Z"
    },
    "papermill": {
     "duration": 0.008283,
     "end_time": "2025-09-08T08:36:56.432101",
     "exception": false,
     "start_time": "2025-09-08T08:36:56.423818",
     "status": "completed"
    },
    "tags": []
   },
   "outputs": [
    {
     "name": "stdout",
     "output_type": "stream",
     "text": [
      "Total training images: 1917\n",
      "Total validation images: 504\n",
      "Total test images: 630\n",
      "Total images in dataset: 3051\n"
     ]
    }
   ],
   "source": [
    "print(\"Total training images:\", len(train_ds))\n",
    "print(\"Total validation images:\", len(val_ds))\n",
    "print(\"Total test images:\", len(test_ds))\n",
    "\n",
    "total_images = len(train_ds) + len(val_ds) + len(test_ds)\n",
    "print(\"Total images in dataset:\", total_images)"
   ]
  },
  {
   "cell_type": "code",
   "execution_count": 3,
   "id": "e0d4423f",
   "metadata": {
    "execution": {
     "iopub.execute_input": "2025-09-08T08:36:56.437360Z",
     "iopub.status.busy": "2025-09-08T08:36:56.437163Z",
     "iopub.status.idle": "2025-09-08T08:36:56.443947Z",
     "shell.execute_reply": "2025-09-08T08:36:56.443333Z"
    },
    "papermill": {
     "duration": 0.010607,
     "end_time": "2025-09-08T08:36:56.444982",
     "exception": false,
     "start_time": "2025-09-08T08:36:56.434375",
     "status": "completed"
    },
    "tags": []
   },
   "outputs": [
    {
     "name": "stdout",
     "output_type": "stream",
     "text": [
      "Training images (excluding 'random_occlusion'): 1704\n",
      "Validation images (excluding 'random_occlusion'): 448\n",
      "Test images (excluding 'random_occlusion'): 560\n",
      "Total images (excluding 'random_occlusion'): 2712\n"
     ]
    }
   ],
   "source": [
    "ignore_folder = \"random_occlusion\"\n",
    "\n",
    "def count_images_ignore_folder(dataset, ignore_folder):\n",
    "    count = 0\n",
    "    for img_path, label in dataset.samples:\n",
    "        # Skip if the image path contains the ignore_folder\n",
    "        if ignore_folder not in img_path.split(\"/\"):\n",
    "            count += 1\n",
    "    return count\n",
    "\n",
    "train_count = count_images_ignore_folder(train_ds, ignore_folder)\n",
    "val_count   = count_images_ignore_folder(val_ds, ignore_folder)\n",
    "test_count  = count_images_ignore_folder(test_ds, ignore_folder)\n",
    "\n",
    "total_count = train_count + val_count + test_count\n",
    "\n",
    "print(\"Training images (excluding '{}'): {}\".format(ignore_folder, train_count))\n",
    "print(\"Validation images (excluding '{}'): {}\".format(ignore_folder, val_count))\n",
    "print(\"Test images (excluding '{}'): {}\".format(ignore_folder, test_count))\n",
    "print(\"Total images (excluding '{}'): {}\".format(ignore_folder, total_count))"
   ]
  },
  {
   "cell_type": "code",
   "execution_count": 4,
   "id": "39ed4c72",
   "metadata": {
    "execution": {
     "iopub.execute_input": "2025-09-08T08:36:56.450580Z",
     "iopub.status.busy": "2025-09-08T08:36:56.450099Z",
     "iopub.status.idle": "2025-09-08T08:36:56.457991Z",
     "shell.execute_reply": "2025-09-08T08:36:56.457440Z"
    },
    "papermill": {
     "duration": 0.011764,
     "end_time": "2025-09-08T08:36:56.459061",
     "exception": false,
     "start_time": "2025-09-08T08:36:56.447297",
     "status": "completed"
    },
    "tags": []
   },
   "outputs": [
    {
     "name": "stdout",
     "output_type": "stream",
     "text": [
      "Training folders considered: {'blur', 'low_resolution', 'motion_blur', 'random_occlusion', 'original', 'chromatic_aberration', 'lens_flare', 'gaussian_noise', 'dirty_lens'}\n",
      "Validation folders considered: {'blur', 'low_resolution', 'motion_blur', 'random_occlusion', 'original', 'chromatic_aberration', 'lens_flare', 'gaussian_noise', 'dirty_lens'}\n",
      "Test folders considered: {'blur', 'low_resolution', 'motion_blur', 'random_occlusion', 'original', 'chromatic_aberration', 'lens_flare', 'gaussian_noise', 'dirty_lens'}\n"
     ]
    }
   ],
   "source": [
    "ignore_folder = \"random_occlusionw\"\n",
    "\n",
    "def get_included_folders(dataset, ignore_folder):\n",
    "    included = set()\n",
    "    for img_path, label in dataset.samples:\n",
    "        # Split the path into parts and ignore if ignore_folder is in the path\n",
    "        if ignore_folder not in img_path.split(\"/\"):\n",
    "            # The folder name just above the image (or the class folder)\n",
    "            folder_name = img_path.split(\"/\")[-2]\n",
    "            included.add(folder_name)\n",
    "    return included\n",
    "\n",
    "train_folders = get_included_folders(train_ds, ignore_folder)\n",
    "val_folders   = get_included_folders(val_ds, ignore_folder)\n",
    "test_folders  = get_included_folders(test_ds, ignore_folder)\n",
    "\n",
    "print(\"Training folders considered:\", train_folders)\n",
    "print(\"Validation folders considered:\", val_folders)\n",
    "print(\"Test folders considered:\", test_folders)"
   ]
  },
  {
   "cell_type": "code",
   "execution_count": 5,
   "id": "18380ebb",
   "metadata": {
    "execution": {
     "iopub.execute_input": "2025-09-08T08:36:56.464761Z",
     "iopub.status.busy": "2025-09-08T08:36:56.464242Z",
     "iopub.status.idle": "2025-09-08T08:36:56.549940Z",
     "shell.execute_reply": "2025-09-08T08:36:56.549231Z"
    },
    "papermill": {
     "duration": 0.089515,
     "end_time": "2025-09-08T08:36:56.551027",
     "exception": false,
     "start_time": "2025-09-08T08:36:56.461512",
     "status": "completed"
    },
    "tags": []
   },
   "outputs": [
    {
     "name": "stdout",
     "output_type": "stream",
     "text": [
      "Classes: ['boundary_save', 'catching_a_ball', 'diving_stop', 'run_out', 'stumping']\n",
      "Final Training images: 1704\n",
      "Final Validation images: 448\n",
      "Final Test images: 560\n",
      "Total images after filtering: 2712\n"
     ]
    }
   ],
   "source": [
    "ignore_folder = \"random_occlusion\"\n",
    "\n",
    "def filter_samples(dataset, ignore_folder):\n",
    "    # Keep only samples where ignore_folder is NOT in the path\n",
    "    filtered_samples = [s for s in dataset.samples if ignore_folder not in s[0].split(\"/\")]\n",
    "    dataset.samples = filtered_samples\n",
    "    dataset.targets = [s[1] for s in filtered_samples]  # Update targets accordingly\n",
    "    return dataset\n",
    "\n",
    "# Create original datasets\n",
    "train_ds = datasets.ImageFolder(f\"{base_dir}/train/Fielding\", transform=transform)\n",
    "val_ds   = datasets.ImageFolder(f\"{base_dir}/val/Fielding\", transform=transform)\n",
    "test_ds  = datasets.ImageFolder(f\"{base_dir}/test/Fielding\", transform=transform)\n",
    "\n",
    "# Filter out 'random_occlusion' folder\n",
    "train_ds = filter_samples(train_ds, ignore_folder)\n",
    "val_ds   = filter_samples(val_ds, ignore_folder)\n",
    "test_ds  = filter_samples(test_ds, ignore_folder)\n",
    "\n",
    "# DataLoaders\n",
    "train_loader = DataLoader(train_ds, batch_size=32, shuffle=True)\n",
    "val_loader   = DataLoader(val_ds, batch_size=32, shuffle=False)\n",
    "test_loader  = DataLoader(test_ds, batch_size=32, shuffle=False)\n",
    "\n",
    "# Classes (will remain the same)\n",
    "classes = train_ds.classes\n",
    "print(\"Classes:\", classes)\n",
    "\n",
    "# Show counts\n",
    "print(\"Final Training images:\", len(train_ds))\n",
    "print(\"Final Validation images:\", len(val_ds))\n",
    "print(\"Final Test images:\", len(test_ds))\n",
    "print(\"Total images after filtering:\", len(train_ds) + len(val_ds) + len(test_ds))"
   ]
  },
  {
   "cell_type": "code",
   "execution_count": 6,
   "id": "06bd4494",
   "metadata": {
    "execution": {
     "iopub.execute_input": "2025-09-08T08:36:56.556775Z",
     "iopub.status.busy": "2025-09-08T08:36:56.556320Z",
     "iopub.status.idle": "2025-09-08T08:36:56.563999Z",
     "shell.execute_reply": "2025-09-08T08:36:56.563247Z"
    },
    "papermill": {
     "duration": 0.011554,
     "end_time": "2025-09-08T08:36:56.565027",
     "exception": false,
     "start_time": "2025-09-08T08:36:56.553473",
     "status": "completed"
    },
    "tags": []
   },
   "outputs": [
    {
     "name": "stdout",
     "output_type": "stream",
     "text": [
      "Training folders considered: {'blur', 'low_resolution', 'motion_blur', 'original', 'chromatic_aberration', 'lens_flare', 'gaussian_noise', 'dirty_lens'}\n",
      "Validation folders considered: {'blur', 'low_resolution', 'motion_blur', 'original', 'chromatic_aberration', 'lens_flare', 'gaussian_noise', 'dirty_lens'}\n",
      "Test folders considered: {'blur', 'low_resolution', 'motion_blur', 'original', 'chromatic_aberration', 'lens_flare', 'gaussian_noise', 'dirty_lens'}\n"
     ]
    }
   ],
   "source": [
    "ignore_folder = \"random_occlusion\"\n",
    "\n",
    "def get_included_folders(dataset, ignore_folder):\n",
    "    included = set()\n",
    "    for img_path, label in dataset.samples:\n",
    "        # Split the path into parts and ignore if ignore_folder is in the path\n",
    "        if ignore_folder not in img_path.split(\"/\"):\n",
    "            # The folder name just above the image (or the class folder)\n",
    "            folder_name = img_path.split(\"/\")[-2]\n",
    "            included.add(folder_name)\n",
    "    return included\n",
    "\n",
    "train_folders = get_included_folders(train_ds, ignore_folder)\n",
    "val_folders   = get_included_folders(val_ds, ignore_folder)\n",
    "test_folders  = get_included_folders(test_ds, ignore_folder)\n",
    "\n",
    "print(\"Training folders considered:\", train_folders)\n",
    "print(\"Validation folders considered:\", val_folders)\n",
    "print(\"Test folders considered:\", test_folders)"
   ]
  },
  {
   "cell_type": "code",
   "execution_count": 7,
   "id": "81b5b8a6",
   "metadata": {
    "execution": {
     "iopub.execute_input": "2025-09-08T08:36:56.570486Z",
     "iopub.status.busy": "2025-09-08T08:36:56.570292Z",
     "iopub.status.idle": "2025-09-08T08:37:00.629113Z",
     "shell.execute_reply": "2025-09-08T08:37:00.628552Z"
    },
    "papermill": {
     "duration": 4.062942,
     "end_time": "2025-09-08T08:37:00.630339",
     "exception": false,
     "start_time": "2025-09-08T08:36:56.567397",
     "status": "completed"
    },
    "tags": []
   },
   "outputs": [],
   "source": [
    "import seaborn as sns\n",
    "import numpy as np\n",
    "import time\n",
    "from tqdm import tqdm\n",
    "import torch\n",
    "import torch.nn as nn\n",
    "import torchvision.models as models"
   ]
  },
  {
   "cell_type": "code",
   "execution_count": 8,
   "id": "f8fe570a",
   "metadata": {
    "execution": {
     "iopub.execute_input": "2025-09-08T08:37:00.636771Z",
     "iopub.status.busy": "2025-09-08T08:37:00.636087Z",
     "iopub.status.idle": "2025-09-08T08:37:02.140032Z",
     "shell.execute_reply": "2025-09-08T08:37:02.138993Z"
    },
    "papermill": {
     "duration": 1.508539,
     "end_time": "2025-09-08T08:37:02.141578",
     "exception": false,
     "start_time": "2025-09-08T08:37:00.633039",
     "status": "completed"
    },
    "tags": []
   },
   "outputs": [
    {
     "name": "stdout",
     "output_type": "stream",
     "text": [
      "Using device: cuda\n",
      "🔄 Loading pretrained ResNet50 from ImageNet...\n"
     ]
    },
    {
     "name": "stderr",
     "output_type": "stream",
     "text": [
      "/usr/local/lib/python3.11/dist-packages/torchvision/models/_utils.py:208: UserWarning: The parameter 'pretrained' is deprecated since 0.13 and may be removed in the future, please use 'weights' instead.\n",
      "  warnings.warn(\n",
      "/usr/local/lib/python3.11/dist-packages/torchvision/models/_utils.py:223: UserWarning: Arguments other than a weight enum or `None` for 'weights' are deprecated since 0.13 and may be removed in the future. The current behavior is equivalent to passing `weights=ResNet50_Weights.IMAGENET1K_V1`. You can also use `weights=ResNet50_Weights.DEFAULT` to get the most up-to-date weights.\n",
      "  warnings.warn(msg)\n",
      "Downloading: \"https://download.pytorch.org/models/resnet50-0676ba61.pth\" to /root/.cache/torch/hub/checkpoints/resnet50-0676ba61.pth\n",
      "100%|██████████| 97.8M/97.8M [00:00<00:00, 189MB/s]\n"
     ]
    },
    {
     "name": "stdout",
     "output_type": "stream",
     "text": [
      "✅ Model loaded with 5 output classes\n",
      "📊 Total parameters: 23,518,277\n",
      "📊 Trainable parameters: 23,518,277\n",
      "Model summary not available\n"
     ]
    }
   ],
   "source": [
    "# -----------------------------\n",
    "# 2. Pretrained ResNet50 Model\n",
    "# -----------------------------\n",
    "device = torch.device('cuda' if torch.cuda.is_available() else 'cpu')\n",
    "print(f\"Using device: {device}\")\n",
    "\n",
    "# Load pretrained ResNet50\n",
    "print(\"🔄 Loading pretrained ResNet50 from ImageNet...\")\n",
    "model = models.resnet50(pretrained=True)\n",
    "\n",
    "# Replace final classification layer\n",
    "num_features = model.fc.in_features\n",
    "model.fc = nn.Linear(num_features, len(classes))\n",
    "model = model.to(device)\n",
    "\n",
    "print(f\"✅ Model loaded with {len(classes)} output classes\")\n",
    "print(f\"📊 Total parameters: {sum(p.numel() for p in model.parameters()):,}\")\n",
    "print(f\"📊 Trainable parameters: {sum(p.numel() for p in model.parameters() if p.requires_grad):,}\")\n",
    "\n",
    "# Model summary\n",
    "try:\n",
    "    summary(model, (3, 224, 224))\n",
    "except:\n",
    "    print(\"Model summary not available\")"
   ]
  },
  {
   "cell_type": "code",
   "execution_count": 9,
   "id": "a2000d12",
   "metadata": {
    "execution": {
     "iopub.execute_input": "2025-09-08T08:37:02.151094Z",
     "iopub.status.busy": "2025-09-08T08:37:02.150827Z",
     "iopub.status.idle": "2025-09-08T09:04:46.934239Z",
     "shell.execute_reply": "2025-09-08T09:04:46.933486Z"
    },
    "papermill": {
     "duration": 1664.789975,
     "end_time": "2025-09-08T09:04:46.936483",
     "exception": false,
     "start_time": "2025-09-08T08:37:02.146508",
     "status": "completed"
    },
    "tags": []
   },
   "outputs": [
    {
     "name": "stdout",
     "output_type": "stream",
     "text": [
      "\n",
      "📋 Training Configuration:\n",
      "│ Optimizer: Adam (lr=0.0001)\n",
      "│ Loss Function: CrossEntropyLoss\n",
      "│ Batch Size: 32\n",
      "│ Device: cuda\n",
      "\n",
      "🚀 Starting Fine-tuning for 50 epochs...\n",
      "================================================================================\n",
      "\n",
      "📈 Epoch 1/50\n",
      "--------------------------------------------------\n",
      "🔄 Training Phase...\n"
     ]
    },
    {
     "name": "stderr",
     "output_type": "stream",
     "text": [
      "Training: 100%|██████████████████████████████| 54/54 [00:36<00:00,  1.50it/s, Loss=0.4855, Acc=0.8351]\n"
     ]
    },
    {
     "name": "stdout",
     "output_type": "stream",
     "text": [
      "✅ Training completed in 36.04s\n",
      "🔍 Validation Phase...\n"
     ]
    },
    {
     "name": "stderr",
     "output_type": "stream",
     "text": [
      "Validation: 100%|██████████████████████████████| 14/14 [00:05<00:00,  2.57it/s, Loss=0.9248, Acc=0.6585]\n"
     ]
    },
    {
     "name": "stdout",
     "output_type": "stream",
     "text": [
      "✅ Validation completed in 5.46s\n",
      "🌟 New best model found! Validation Loss: 0.9248\n",
      "\n",
      "📊 Epoch 1 Summary:\n",
      "│ Train Loss: 0.4855 | Train Acc: 0.8351\n",
      "│ Val Loss:   0.9248 | Val Acc:   0.6585\n",
      "│ Train Time: 36.04s | Val Time: 5.46s\n",
      "│ Total Epoch Time: 41.51s\n",
      "│ Best Val Loss: 0.9248 (Epoch 1)\n",
      "│ GPU Memory: 0.4GB / 3.2GB\n",
      "================================================================================\n",
      "\n",
      "📈 Epoch 2/50\n",
      "--------------------------------------------------\n",
      "🔄 Training Phase...\n"
     ]
    },
    {
     "name": "stderr",
     "output_type": "stream",
     "text": [
      "Training: 100%|██████████████████████████████| 54/54 [00:27<00:00,  1.95it/s, Loss=0.0325, Acc=0.9941]\n"
     ]
    },
    {
     "name": "stdout",
     "output_type": "stream",
     "text": [
      "✅ Training completed in 27.69s\n",
      "🔍 Validation Phase...\n"
     ]
    },
    {
     "name": "stderr",
     "output_type": "stream",
     "text": [
      "Validation: 100%|██████████████████████████████| 14/14 [00:03<00:00,  3.59it/s, Loss=1.1811, Acc=0.6518]\n"
     ]
    },
    {
     "name": "stdout",
     "output_type": "stream",
     "text": [
      "✅ Validation completed in 3.91s\n",
      "\n",
      "📊 Epoch 2 Summary:\n",
      "│ Train Loss: 0.0325 | Train Acc: 0.9941\n",
      "│ Val Loss:   1.1811 | Val Acc:   0.6518\n",
      "│ Train Time: 27.69s | Val Time: 3.91s\n",
      "│ Total Epoch Time: 31.60s\n",
      "│ Best Val Loss: 0.9248 (Epoch 1)\n",
      "│ GPU Memory: 0.4GB / 3.2GB\n",
      "================================================================================\n",
      "\n",
      "📈 Epoch 3/50\n",
      "--------------------------------------------------\n",
      "🔄 Training Phase...\n"
     ]
    },
    {
     "name": "stderr",
     "output_type": "stream",
     "text": [
      "Training: 100%|██████████████████████████████| 54/54 [00:27<00:00,  1.94it/s, Loss=0.0245, Acc=0.9941]\n"
     ]
    },
    {
     "name": "stdout",
     "output_type": "stream",
     "text": [
      "✅ Training completed in 27.85s\n",
      "🔍 Validation Phase...\n"
     ]
    },
    {
     "name": "stderr",
     "output_type": "stream",
     "text": [
      "Validation: 100%|██████████████████████████████| 14/14 [00:03<00:00,  3.68it/s, Loss=1.0263, Acc=0.6295]\n"
     ]
    },
    {
     "name": "stdout",
     "output_type": "stream",
     "text": [
      "✅ Validation completed in 3.80s\n",
      "\n",
      "📊 Epoch 3 Summary:\n",
      "│ Train Loss: 0.0245 | Train Acc: 0.9941\n",
      "│ Val Loss:   1.0263 | Val Acc:   0.6295\n",
      "│ Train Time: 27.85s | Val Time: 3.80s\n",
      "│ Total Epoch Time: 31.66s\n",
      "│ Best Val Loss: 0.9248 (Epoch 1)\n",
      "│ GPU Memory: 0.4GB / 3.2GB\n",
      "================================================================================\n",
      "\n",
      "📈 Epoch 4/50\n",
      "--------------------------------------------------\n",
      "🔄 Training Phase...\n"
     ]
    },
    {
     "name": "stderr",
     "output_type": "stream",
     "text": [
      "Training: 100%|██████████████████████████████| 54/54 [00:27<00:00,  1.93it/s, Loss=0.0256, Acc=0.9953]\n"
     ]
    },
    {
     "name": "stdout",
     "output_type": "stream",
     "text": [
      "✅ Training completed in 27.97s\n",
      "🔍 Validation Phase...\n"
     ]
    },
    {
     "name": "stderr",
     "output_type": "stream",
     "text": [
      "Validation: 100%|██████████████████████████████| 14/14 [00:03<00:00,  3.64it/s, Loss=1.3472, Acc=0.6295]\n"
     ]
    },
    {
     "name": "stdout",
     "output_type": "stream",
     "text": [
      "✅ Validation completed in 3.85s\n",
      "\n",
      "📊 Epoch 4 Summary:\n",
      "│ Train Loss: 0.0256 | Train Acc: 0.9953\n",
      "│ Val Loss:   1.3472 | Val Acc:   0.6295\n",
      "│ Train Time: 27.97s | Val Time: 3.85s\n",
      "│ Total Epoch Time: 31.82s\n",
      "│ Best Val Loss: 0.9248 (Epoch 1)\n",
      "│ GPU Memory: 0.4GB / 3.2GB\n",
      "================================================================================\n",
      "\n",
      "📈 Epoch 5/50\n",
      "--------------------------------------------------\n",
      "🔄 Training Phase...\n"
     ]
    },
    {
     "name": "stderr",
     "output_type": "stream",
     "text": [
      "Training: 100%|██████████████████████████████| 54/54 [00:28<00:00,  1.92it/s, Loss=0.0469, Acc=0.9877]\n"
     ]
    },
    {
     "name": "stdout",
     "output_type": "stream",
     "text": [
      "✅ Training completed in 28.09s\n",
      "🔍 Validation Phase...\n"
     ]
    },
    {
     "name": "stderr",
     "output_type": "stream",
     "text": [
      "Validation: 100%|██████████████████████████████| 14/14 [00:03<00:00,  3.65it/s, Loss=1.0641, Acc=0.6808]\n"
     ]
    },
    {
     "name": "stdout",
     "output_type": "stream",
     "text": [
      "✅ Validation completed in 3.84s\n",
      "\n",
      "📊 Epoch 5 Summary:\n",
      "│ Train Loss: 0.0469 | Train Acc: 0.9877\n",
      "│ Val Loss:   1.0641 | Val Acc:   0.6808\n",
      "│ Train Time: 28.09s | Val Time: 3.84s\n",
      "│ Total Epoch Time: 31.94s\n",
      "│ Best Val Loss: 0.9248 (Epoch 1)\n",
      "│ GPU Memory: 0.4GB / 3.2GB\n",
      "================================================================================\n",
      "\n",
      "📈 Epoch 6/50\n",
      "--------------------------------------------------\n",
      "🔄 Training Phase...\n"
     ]
    },
    {
     "name": "stderr",
     "output_type": "stream",
     "text": [
      "Training: 100%|██████████████████████████████| 54/54 [00:28<00:00,  1.92it/s, Loss=0.0108, Acc=0.9977]\n"
     ]
    },
    {
     "name": "stdout",
     "output_type": "stream",
     "text": [
      "✅ Training completed in 28.11s\n",
      "🔍 Validation Phase...\n"
     ]
    },
    {
     "name": "stderr",
     "output_type": "stream",
     "text": [
      "Validation: 100%|██████████████████████████████| 14/14 [00:03<00:00,  3.70it/s, Loss=0.9935, Acc=0.6674]\n"
     ]
    },
    {
     "name": "stdout",
     "output_type": "stream",
     "text": [
      "✅ Validation completed in 3.78s\n",
      "\n",
      "📊 Epoch 6 Summary:\n",
      "│ Train Loss: 0.0108 | Train Acc: 0.9977\n",
      "│ Val Loss:   0.9935 | Val Acc:   0.6674\n",
      "│ Train Time: 28.11s | Val Time: 3.78s\n",
      "│ Total Epoch Time: 31.89s\n",
      "│ Best Val Loss: 0.9248 (Epoch 1)\n",
      "│ GPU Memory: 0.4GB / 3.2GB\n",
      "================================================================================\n",
      "\n",
      "📈 Epoch 7/50\n",
      "--------------------------------------------------\n",
      "🔄 Training Phase...\n"
     ]
    },
    {
     "name": "stderr",
     "output_type": "stream",
     "text": [
      "Training: 100%|██████████████████████████████| 54/54 [00:28<00:00,  1.92it/s, Loss=0.0111, Acc=0.9994]\n"
     ]
    },
    {
     "name": "stdout",
     "output_type": "stream",
     "text": [
      "✅ Training completed in 28.20s\n",
      "🔍 Validation Phase...\n"
     ]
    },
    {
     "name": "stderr",
     "output_type": "stream",
     "text": [
      "Validation: 100%|██████████████████████████████| 14/14 [00:03<00:00,  3.66it/s, Loss=1.1824, Acc=0.6808]\n"
     ]
    },
    {
     "name": "stdout",
     "output_type": "stream",
     "text": [
      "✅ Validation completed in 3.83s\n",
      "\n",
      "📊 Epoch 7 Summary:\n",
      "│ Train Loss: 0.0111 | Train Acc: 0.9994\n",
      "│ Val Loss:   1.1824 | Val Acc:   0.6808\n",
      "│ Train Time: 28.20s | Val Time: 3.83s\n",
      "│ Total Epoch Time: 32.03s\n",
      "│ Best Val Loss: 0.9248 (Epoch 1)\n",
      "│ GPU Memory: 0.4GB / 3.2GB\n",
      "================================================================================\n",
      "\n",
      "📈 Epoch 8/50\n",
      "--------------------------------------------------\n",
      "🔄 Training Phase...\n"
     ]
    },
    {
     "name": "stderr",
     "output_type": "stream",
     "text": [
      "Training: 100%|██████████████████████████████| 54/54 [00:28<00:00,  1.91it/s, Loss=0.0232, Acc=0.9941]\n"
     ]
    },
    {
     "name": "stdout",
     "output_type": "stream",
     "text": [
      "✅ Training completed in 28.25s\n",
      "🔍 Validation Phase...\n"
     ]
    },
    {
     "name": "stderr",
     "output_type": "stream",
     "text": [
      "Validation: 100%|██████████████████████████████| 14/14 [00:03<00:00,  3.68it/s, Loss=1.2053, Acc=0.6406]\n"
     ]
    },
    {
     "name": "stdout",
     "output_type": "stream",
     "text": [
      "✅ Validation completed in 3.81s\n",
      "\n",
      "📊 Epoch 8 Summary:\n",
      "│ Train Loss: 0.0232 | Train Acc: 0.9941\n",
      "│ Val Loss:   1.2053 | Val Acc:   0.6406\n",
      "│ Train Time: 28.25s | Val Time: 3.81s\n",
      "│ Total Epoch Time: 32.06s\n",
      "│ Best Val Loss: 0.9248 (Epoch 1)\n",
      "│ GPU Memory: 0.4GB / 3.2GB\n",
      "================================================================================\n",
      "\n",
      "📈 Epoch 9/50\n",
      "--------------------------------------------------\n",
      "🔄 Training Phase...\n"
     ]
    },
    {
     "name": "stderr",
     "output_type": "stream",
     "text": [
      "Training: 100%|██████████████████████████████| 54/54 [00:28<00:00,  1.91it/s, Loss=0.0137, Acc=0.9977]\n"
     ]
    },
    {
     "name": "stdout",
     "output_type": "stream",
     "text": [
      "✅ Training completed in 28.34s\n",
      "🔍 Validation Phase...\n"
     ]
    },
    {
     "name": "stderr",
     "output_type": "stream",
     "text": [
      "Validation: 100%|██████████████████████████████| 14/14 [00:03<00:00,  3.60it/s, Loss=0.9919, Acc=0.6897]\n"
     ]
    },
    {
     "name": "stdout",
     "output_type": "stream",
     "text": [
      "✅ Validation completed in 3.90s\n",
      "\n",
      "📊 Epoch 9 Summary:\n",
      "│ Train Loss: 0.0137 | Train Acc: 0.9977\n",
      "│ Val Loss:   0.9919 | Val Acc:   0.6897\n",
      "│ Train Time: 28.34s | Val Time: 3.90s\n",
      "│ Total Epoch Time: 32.24s\n",
      "│ Best Val Loss: 0.9248 (Epoch 1)\n",
      "│ GPU Memory: 0.4GB / 3.2GB\n",
      "================================================================================\n",
      "\n",
      "📈 Epoch 10/50\n",
      "--------------------------------------------------\n",
      "🔄 Training Phase...\n"
     ]
    },
    {
     "name": "stderr",
     "output_type": "stream",
     "text": [
      "Training: 100%|██████████████████████████████| 54/54 [00:28<00:00,  1.89it/s, Loss=0.0170, Acc=0.9947]\n"
     ]
    },
    {
     "name": "stdout",
     "output_type": "stream",
     "text": [
      "✅ Training completed in 28.54s\n",
      "🔍 Validation Phase...\n"
     ]
    },
    {
     "name": "stderr",
     "output_type": "stream",
     "text": [
      "Validation: 100%|██████████████████████████████| 14/14 [00:03<00:00,  3.68it/s, Loss=0.9070, Acc=0.7254]\n"
     ]
    },
    {
     "name": "stdout",
     "output_type": "stream",
     "text": [
      "✅ Validation completed in 3.81s\n",
      "🌟 New best model found! Validation Loss: 0.9070\n",
      "\n",
      "📊 Epoch 10 Summary:\n",
      "│ Train Loss: 0.0170 | Train Acc: 0.9947\n",
      "│ Val Loss:   0.9070 | Val Acc:   0.7254\n",
      "│ Train Time: 28.54s | Val Time: 3.81s\n",
      "│ Total Epoch Time: 32.35s\n",
      "│ Best Val Loss: 0.9070 (Epoch 10)\n",
      "│ GPU Memory: 0.4GB / 3.2GB\n",
      "================================================================================\n",
      "\n",
      "📈 Epoch 11/50\n",
      "--------------------------------------------------\n",
      "🔄 Training Phase...\n"
     ]
    },
    {
     "name": "stderr",
     "output_type": "stream",
     "text": [
      "Training: 100%|██████████████████████████████| 54/54 [00:28<00:00,  1.90it/s, Loss=0.0262, Acc=0.9930]\n"
     ]
    },
    {
     "name": "stdout",
     "output_type": "stream",
     "text": [
      "✅ Training completed in 28.48s\n",
      "🔍 Validation Phase...\n"
     ]
    },
    {
     "name": "stderr",
     "output_type": "stream",
     "text": [
      "Validation: 100%|██████████████████████████████| 14/14 [00:03<00:00,  3.51it/s, Loss=1.2582, Acc=0.6719]\n"
     ]
    },
    {
     "name": "stdout",
     "output_type": "stream",
     "text": [
      "✅ Validation completed in 4.00s\n",
      "\n",
      "📊 Epoch 11 Summary:\n",
      "│ Train Loss: 0.0262 | Train Acc: 0.9930\n",
      "│ Val Loss:   1.2582 | Val Acc:   0.6719\n",
      "│ Train Time: 28.48s | Val Time: 4.00s\n",
      "│ Total Epoch Time: 32.48s\n",
      "│ Best Val Loss: 0.9070 (Epoch 10)\n",
      "│ GPU Memory: 0.4GB / 3.2GB\n",
      "================================================================================\n",
      "\n",
      "📈 Epoch 12/50\n",
      "--------------------------------------------------\n",
      "🔄 Training Phase...\n"
     ]
    },
    {
     "name": "stderr",
     "output_type": "stream",
     "text": [
      "Training: 100%|██████████████████████████████| 54/54 [00:28<00:00,  1.90it/s, Loss=0.0345, Acc=0.9912]\n"
     ]
    },
    {
     "name": "stdout",
     "output_type": "stream",
     "text": [
      "✅ Training completed in 28.40s\n",
      "🔍 Validation Phase...\n"
     ]
    },
    {
     "name": "stderr",
     "output_type": "stream",
     "text": [
      "Validation: 100%|██████████████████████████████| 14/14 [00:03<00:00,  3.69it/s, Loss=1.0573, Acc=0.6362]\n"
     ]
    },
    {
     "name": "stdout",
     "output_type": "stream",
     "text": [
      "✅ Validation completed in 3.81s\n",
      "\n",
      "📊 Epoch 12 Summary:\n",
      "│ Train Loss: 0.0345 | Train Acc: 0.9912\n",
      "│ Val Loss:   1.0573 | Val Acc:   0.6362\n",
      "│ Train Time: 28.40s | Val Time: 3.81s\n",
      "│ Total Epoch Time: 32.21s\n",
      "│ Best Val Loss: 0.9070 (Epoch 10)\n",
      "│ GPU Memory: 0.4GB / 3.2GB\n",
      "================================================================================\n",
      "\n",
      "📈 Epoch 13/50\n",
      "--------------------------------------------------\n",
      "🔄 Training Phase...\n"
     ]
    },
    {
     "name": "stderr",
     "output_type": "stream",
     "text": [
      "Training: 100%|██████████████████████████████| 54/54 [00:28<00:00,  1.90it/s, Loss=0.0087, Acc=0.9977]\n"
     ]
    },
    {
     "name": "stdout",
     "output_type": "stream",
     "text": [
      "✅ Training completed in 28.40s\n",
      "🔍 Validation Phase...\n"
     ]
    },
    {
     "name": "stderr",
     "output_type": "stream",
     "text": [
      "Validation: 100%|██████████████████████████████| 14/14 [00:03<00:00,  3.52it/s, Loss=1.3143, Acc=0.6496]\n"
     ]
    },
    {
     "name": "stdout",
     "output_type": "stream",
     "text": [
      "✅ Validation completed in 3.98s\n",
      "\n",
      "📊 Epoch 13 Summary:\n",
      "│ Train Loss: 0.0087 | Train Acc: 0.9977\n",
      "│ Val Loss:   1.3143 | Val Acc:   0.6496\n",
      "│ Train Time: 28.40s | Val Time: 3.98s\n",
      "│ Total Epoch Time: 32.39s\n",
      "│ Best Val Loss: 0.9070 (Epoch 10)\n",
      "│ GPU Memory: 0.4GB / 3.2GB\n",
      "================================================================================\n",
      "\n",
      "📈 Epoch 14/50\n",
      "--------------------------------------------------\n",
      "🔄 Training Phase...\n"
     ]
    },
    {
     "name": "stderr",
     "output_type": "stream",
     "text": [
      "Training: 100%|██████████████████████████████| 54/54 [00:28<00:00,  1.90it/s, Loss=0.0094, Acc=0.9982]\n"
     ]
    },
    {
     "name": "stdout",
     "output_type": "stream",
     "text": [
      "✅ Training completed in 28.39s\n",
      "🔍 Validation Phase...\n"
     ]
    },
    {
     "name": "stderr",
     "output_type": "stream",
     "text": [
      "Validation: 100%|██████████████████████████████| 14/14 [00:03<00:00,  3.60it/s, Loss=1.1210, Acc=0.6875]\n"
     ]
    },
    {
     "name": "stdout",
     "output_type": "stream",
     "text": [
      "✅ Validation completed in 3.90s\n",
      "\n",
      "📊 Epoch 14 Summary:\n",
      "│ Train Loss: 0.0094 | Train Acc: 0.9982\n",
      "│ Val Loss:   1.1210 | Val Acc:   0.6875\n",
      "│ Train Time: 28.39s | Val Time: 3.90s\n",
      "│ Total Epoch Time: 32.30s\n",
      "│ Best Val Loss: 0.9070 (Epoch 10)\n",
      "│ GPU Memory: 0.4GB / 3.2GB\n",
      "================================================================================\n",
      "\n",
      "📈 Epoch 15/50\n",
      "--------------------------------------------------\n",
      "🔄 Training Phase...\n"
     ]
    },
    {
     "name": "stderr",
     "output_type": "stream",
     "text": [
      "Training: 100%|██████████████████████████████| 54/54 [00:28<00:00,  1.89it/s, Loss=0.0379, Acc=0.9883]\n"
     ]
    },
    {
     "name": "stdout",
     "output_type": "stream",
     "text": [
      "✅ Training completed in 28.55s\n",
      "🔍 Validation Phase...\n"
     ]
    },
    {
     "name": "stderr",
     "output_type": "stream",
     "text": [
      "Validation: 100%|██████████████████████████████| 14/14 [00:03<00:00,  3.62it/s, Loss=1.3243, Acc=0.6295]\n"
     ]
    },
    {
     "name": "stdout",
     "output_type": "stream",
     "text": [
      "✅ Validation completed in 3.87s\n",
      "\n",
      "📊 Epoch 15 Summary:\n",
      "│ Train Loss: 0.0379 | Train Acc: 0.9883\n",
      "│ Val Loss:   1.3243 | Val Acc:   0.6295\n",
      "│ Train Time: 28.55s | Val Time: 3.87s\n",
      "│ Total Epoch Time: 32.43s\n",
      "│ Best Val Loss: 0.9070 (Epoch 10)\n",
      "│ GPU Memory: 0.4GB / 3.2GB\n",
      "================================================================================\n",
      "\n",
      "📈 Epoch 16/50\n",
      "--------------------------------------------------\n",
      "🔄 Training Phase...\n"
     ]
    },
    {
     "name": "stderr",
     "output_type": "stream",
     "text": [
      "Training: 100%|██████████████████████████████| 54/54 [00:28<00:00,  1.91it/s, Loss=0.0429, Acc=0.9894]\n"
     ]
    },
    {
     "name": "stdout",
     "output_type": "stream",
     "text": [
      "✅ Training completed in 28.30s\n",
      "🔍 Validation Phase...\n"
     ]
    },
    {
     "name": "stderr",
     "output_type": "stream",
     "text": [
      "Validation: 100%|██████████████████████████████| 14/14 [00:03<00:00,  3.56it/s, Loss=1.3615, Acc=0.6339]\n"
     ]
    },
    {
     "name": "stdout",
     "output_type": "stream",
     "text": [
      "✅ Validation completed in 3.93s\n",
      "\n",
      "📊 Epoch 16 Summary:\n",
      "│ Train Loss: 0.0429 | Train Acc: 0.9894\n",
      "│ Val Loss:   1.3615 | Val Acc:   0.6339\n",
      "│ Train Time: 28.30s | Val Time: 3.93s\n",
      "│ Total Epoch Time: 32.24s\n",
      "│ Best Val Loss: 0.9070 (Epoch 10)\n",
      "│ GPU Memory: 0.4GB / 3.2GB\n",
      "================================================================================\n",
      "\n",
      "📈 Epoch 17/50\n",
      "--------------------------------------------------\n",
      "🔄 Training Phase...\n"
     ]
    },
    {
     "name": "stderr",
     "output_type": "stream",
     "text": [
      "Training: 100%|██████████████████████████████| 54/54 [00:29<00:00,  1.86it/s, Loss=0.0451, Acc=0.9877]\n"
     ]
    },
    {
     "name": "stdout",
     "output_type": "stream",
     "text": [
      "✅ Training completed in 29.08s\n",
      "🔍 Validation Phase...\n"
     ]
    },
    {
     "name": "stderr",
     "output_type": "stream",
     "text": [
      "Validation: 100%|██████████████████████████████| 14/14 [00:03<00:00,  3.61it/s, Loss=1.1019, Acc=0.6786]\n"
     ]
    },
    {
     "name": "stdout",
     "output_type": "stream",
     "text": [
      "✅ Validation completed in 3.89s\n",
      "\n",
      "📊 Epoch 17 Summary:\n",
      "│ Train Loss: 0.0451 | Train Acc: 0.9877\n",
      "│ Val Loss:   1.1019 | Val Acc:   0.6786\n",
      "│ Train Time: 29.08s | Val Time: 3.89s\n",
      "│ Total Epoch Time: 32.98s\n",
      "│ Best Val Loss: 0.9070 (Epoch 10)\n",
      "│ GPU Memory: 0.4GB / 3.2GB\n",
      "================================================================================\n",
      "\n",
      "📈 Epoch 18/50\n",
      "--------------------------------------------------\n",
      "🔄 Training Phase...\n"
     ]
    },
    {
     "name": "stderr",
     "output_type": "stream",
     "text": [
      "Training: 100%|██████████████████████████████| 54/54 [00:28<00:00,  1.89it/s, Loss=0.0342, Acc=0.9924]\n"
     ]
    },
    {
     "name": "stdout",
     "output_type": "stream",
     "text": [
      "✅ Training completed in 28.53s\n",
      "🔍 Validation Phase...\n"
     ]
    },
    {
     "name": "stderr",
     "output_type": "stream",
     "text": [
      "Validation: 100%|██████████████████████████████| 14/14 [00:03<00:00,  3.65it/s, Loss=1.2504, Acc=0.6629]\n"
     ]
    },
    {
     "name": "stdout",
     "output_type": "stream",
     "text": [
      "✅ Validation completed in 3.84s\n",
      "\n",
      "📊 Epoch 18 Summary:\n",
      "│ Train Loss: 0.0342 | Train Acc: 0.9924\n",
      "│ Val Loss:   1.2504 | Val Acc:   0.6629\n",
      "│ Train Time: 28.53s | Val Time: 3.84s\n",
      "│ Total Epoch Time: 32.37s\n",
      "│ Best Val Loss: 0.9070 (Epoch 10)\n",
      "│ GPU Memory: 0.4GB / 3.2GB\n",
      "================================================================================\n",
      "\n",
      "📈 Epoch 19/50\n",
      "--------------------------------------------------\n",
      "🔄 Training Phase...\n"
     ]
    },
    {
     "name": "stderr",
     "output_type": "stream",
     "text": [
      "Training: 100%|██████████████████████████████| 54/54 [00:28<00:00,  1.88it/s, Loss=0.0295, Acc=0.9877]\n"
     ]
    },
    {
     "name": "stdout",
     "output_type": "stream",
     "text": [
      "✅ Training completed in 28.71s\n",
      "🔍 Validation Phase...\n"
     ]
    },
    {
     "name": "stderr",
     "output_type": "stream",
     "text": [
      "Validation: 100%|██████████████████████████████| 14/14 [00:03<00:00,  3.63it/s, Loss=1.3660, Acc=0.6585]\n"
     ]
    },
    {
     "name": "stdout",
     "output_type": "stream",
     "text": [
      "✅ Validation completed in 3.87s\n",
      "\n",
      "📊 Epoch 19 Summary:\n",
      "│ Train Loss: 0.0295 | Train Acc: 0.9877\n",
      "│ Val Loss:   1.3660 | Val Acc:   0.6585\n",
      "│ Train Time: 28.71s | Val Time: 3.87s\n",
      "│ Total Epoch Time: 32.58s\n",
      "│ Best Val Loss: 0.9070 (Epoch 10)\n",
      "│ GPU Memory: 0.4GB / 3.2GB\n",
      "================================================================================\n",
      "\n",
      "📈 Epoch 20/50\n",
      "--------------------------------------------------\n",
      "🔄 Training Phase...\n"
     ]
    },
    {
     "name": "stderr",
     "output_type": "stream",
     "text": [
      "Training: 100%|██████████████████████████████| 54/54 [00:28<00:00,  1.87it/s, Loss=0.0264, Acc=0.9977]\n"
     ]
    },
    {
     "name": "stdout",
     "output_type": "stream",
     "text": [
      "✅ Training completed in 28.92s\n",
      "🔍 Validation Phase...\n"
     ]
    },
    {
     "name": "stderr",
     "output_type": "stream",
     "text": [
      "Validation: 100%|██████████████████████████████| 14/14 [00:03<00:00,  3.62it/s, Loss=1.2905, Acc=0.6429]\n"
     ]
    },
    {
     "name": "stdout",
     "output_type": "stream",
     "text": [
      "✅ Validation completed in 3.88s\n",
      "\n",
      "📊 Epoch 20 Summary:\n",
      "│ Train Loss: 0.0264 | Train Acc: 0.9977\n",
      "│ Val Loss:   1.2905 | Val Acc:   0.6429\n",
      "│ Train Time: 28.92s | Val Time: 3.88s\n",
      "│ Total Epoch Time: 32.80s\n",
      "│ Best Val Loss: 0.9070 (Epoch 10)\n",
      "│ GPU Memory: 0.4GB / 3.2GB\n",
      "================================================================================\n",
      "\n",
      "📈 Epoch 21/50\n",
      "--------------------------------------------------\n",
      "🔄 Training Phase...\n"
     ]
    },
    {
     "name": "stderr",
     "output_type": "stream",
     "text": [
      "Training: 100%|██████████████████████████████| 54/54 [00:28<00:00,  1.90it/s, Loss=0.0231, Acc=0.9912]\n"
     ]
    },
    {
     "name": "stdout",
     "output_type": "stream",
     "text": [
      "✅ Training completed in 28.48s\n",
      "🔍 Validation Phase...\n"
     ]
    },
    {
     "name": "stderr",
     "output_type": "stream",
     "text": [
      "Validation: 100%|██████████████████████████████| 14/14 [00:04<00:00,  3.49it/s, Loss=1.3638, Acc=0.6339]\n"
     ]
    },
    {
     "name": "stdout",
     "output_type": "stream",
     "text": [
      "✅ Validation completed in 4.02s\n",
      "\n",
      "📊 Epoch 21 Summary:\n",
      "│ Train Loss: 0.0231 | Train Acc: 0.9912\n",
      "│ Val Loss:   1.3638 | Val Acc:   0.6339\n",
      "│ Train Time: 28.48s | Val Time: 4.02s\n",
      "│ Total Epoch Time: 32.51s\n",
      "│ Best Val Loss: 0.9070 (Epoch 10)\n",
      "│ GPU Memory: 0.4GB / 3.2GB\n",
      "================================================================================\n",
      "\n",
      "📈 Epoch 22/50\n",
      "--------------------------------------------------\n",
      "🔄 Training Phase...\n"
     ]
    },
    {
     "name": "stderr",
     "output_type": "stream",
     "text": [
      "Training: 100%|██████████████████████████████| 54/54 [00:28<00:00,  1.88it/s, Loss=0.0062, Acc=0.9994]\n"
     ]
    },
    {
     "name": "stdout",
     "output_type": "stream",
     "text": [
      "✅ Training completed in 28.72s\n",
      "🔍 Validation Phase...\n"
     ]
    },
    {
     "name": "stderr",
     "output_type": "stream",
     "text": [
      "Validation: 100%|██████████████████████████████| 14/14 [00:03<00:00,  3.59it/s, Loss=1.4035, Acc=0.6116]\n"
     ]
    },
    {
     "name": "stdout",
     "output_type": "stream",
     "text": [
      "✅ Validation completed in 3.91s\n",
      "\n",
      "📊 Epoch 22 Summary:\n",
      "│ Train Loss: 0.0062 | Train Acc: 0.9994\n",
      "│ Val Loss:   1.4035 | Val Acc:   0.6116\n",
      "│ Train Time: 28.72s | Val Time: 3.91s\n",
      "│ Total Epoch Time: 32.63s\n",
      "│ Best Val Loss: 0.9070 (Epoch 10)\n",
      "│ GPU Memory: 0.4GB / 3.2GB\n",
      "================================================================================\n",
      "\n",
      "📈 Epoch 23/50\n",
      "--------------------------------------------------\n",
      "🔄 Training Phase...\n"
     ]
    },
    {
     "name": "stderr",
     "output_type": "stream",
     "text": [
      "Training: 100%|██████████████████████████████| 54/54 [00:28<00:00,  1.87it/s, Loss=0.0134, Acc=0.9959]\n"
     ]
    },
    {
     "name": "stdout",
     "output_type": "stream",
     "text": [
      "✅ Training completed in 28.85s\n",
      "🔍 Validation Phase...\n"
     ]
    },
    {
     "name": "stderr",
     "output_type": "stream",
     "text": [
      "Validation: 100%|██████████████████████████████| 14/14 [00:03<00:00,  3.51it/s, Loss=1.5158, Acc=0.6406]\n"
     ]
    },
    {
     "name": "stdout",
     "output_type": "stream",
     "text": [
      "✅ Validation completed in 4.00s\n",
      "\n",
      "📊 Epoch 23 Summary:\n",
      "│ Train Loss: 0.0134 | Train Acc: 0.9959\n",
      "│ Val Loss:   1.5158 | Val Acc:   0.6406\n",
      "│ Train Time: 28.85s | Val Time: 4.00s\n",
      "│ Total Epoch Time: 32.85s\n",
      "│ Best Val Loss: 0.9070 (Epoch 10)\n",
      "│ GPU Memory: 0.4GB / 3.2GB\n",
      "================================================================================\n",
      "\n",
      "📈 Epoch 24/50\n",
      "--------------------------------------------------\n",
      "🔄 Training Phase...\n"
     ]
    },
    {
     "name": "stderr",
     "output_type": "stream",
     "text": [
      "Training: 100%|██████████████████████████████| 54/54 [00:28<00:00,  1.87it/s, Loss=0.0230, Acc=0.9935]\n"
     ]
    },
    {
     "name": "stdout",
     "output_type": "stream",
     "text": [
      "✅ Training completed in 28.82s\n",
      "🔍 Validation Phase...\n"
     ]
    },
    {
     "name": "stderr",
     "output_type": "stream",
     "text": [
      "Validation: 100%|██████████████████████████████| 14/14 [00:03<00:00,  3.57it/s, Loss=1.8340, Acc=0.6071]\n"
     ]
    },
    {
     "name": "stdout",
     "output_type": "stream",
     "text": [
      "✅ Validation completed in 3.93s\n",
      "\n",
      "📊 Epoch 24 Summary:\n",
      "│ Train Loss: 0.0230 | Train Acc: 0.9935\n",
      "│ Val Loss:   1.8340 | Val Acc:   0.6071\n",
      "│ Train Time: 28.82s | Val Time: 3.93s\n",
      "│ Total Epoch Time: 32.75s\n",
      "│ Best Val Loss: 0.9070 (Epoch 10)\n",
      "│ GPU Memory: 0.4GB / 3.2GB\n",
      "================================================================================\n",
      "\n",
      "📈 Epoch 25/50\n",
      "--------------------------------------------------\n",
      "🔄 Training Phase...\n"
     ]
    },
    {
     "name": "stderr",
     "output_type": "stream",
     "text": [
      "Training: 100%|██████████████████████████████| 54/54 [00:29<00:00,  1.85it/s, Loss=0.0080, Acc=0.9965]\n"
     ]
    },
    {
     "name": "stdout",
     "output_type": "stream",
     "text": [
      "✅ Training completed in 29.13s\n",
      "🔍 Validation Phase...\n"
     ]
    },
    {
     "name": "stderr",
     "output_type": "stream",
     "text": [
      "Validation: 100%|██████████████████████████████| 14/14 [00:03<00:00,  3.58it/s, Loss=1.5009, Acc=0.6696]\n"
     ]
    },
    {
     "name": "stdout",
     "output_type": "stream",
     "text": [
      "✅ Validation completed in 3.91s\n",
      "\n",
      "📊 Epoch 25 Summary:\n",
      "│ Train Loss: 0.0080 | Train Acc: 0.9965\n",
      "│ Val Loss:   1.5009 | Val Acc:   0.6696\n",
      "│ Train Time: 29.13s | Val Time: 3.91s\n",
      "│ Total Epoch Time: 33.04s\n",
      "│ Best Val Loss: 0.9070 (Epoch 10)\n",
      "│ GPU Memory: 0.4GB / 3.2GB\n",
      "================================================================================\n",
      "\n",
      "📈 Epoch 26/50\n",
      "--------------------------------------------------\n",
      "🔄 Training Phase...\n"
     ]
    },
    {
     "name": "stderr",
     "output_type": "stream",
     "text": [
      "Training: 100%|██████████████████████████████| 54/54 [00:29<00:00,  1.84it/s, Loss=0.0051, Acc=0.9994]\n"
     ]
    },
    {
     "name": "stdout",
     "output_type": "stream",
     "text": [
      "✅ Training completed in 29.30s\n",
      "🔍 Validation Phase...\n"
     ]
    },
    {
     "name": "stderr",
     "output_type": "stream",
     "text": [
      "Validation: 100%|██████████████████████████████| 14/14 [00:03<00:00,  3.62it/s, Loss=1.2854, Acc=0.6674]\n"
     ]
    },
    {
     "name": "stdout",
     "output_type": "stream",
     "text": [
      "✅ Validation completed in 3.87s\n",
      "\n",
      "📊 Epoch 26 Summary:\n",
      "│ Train Loss: 0.0051 | Train Acc: 0.9994\n",
      "│ Val Loss:   1.2854 | Val Acc:   0.6674\n",
      "│ Train Time: 29.30s | Val Time: 3.87s\n",
      "│ Total Epoch Time: 33.17s\n",
      "│ Best Val Loss: 0.9070 (Epoch 10)\n",
      "│ GPU Memory: 0.4GB / 3.2GB\n",
      "================================================================================\n",
      "\n",
      "📈 Epoch 27/50\n",
      "--------------------------------------------------\n",
      "🔄 Training Phase...\n"
     ]
    },
    {
     "name": "stderr",
     "output_type": "stream",
     "text": [
      "Training: 100%|██████████████████████████████| 54/54 [00:29<00:00,  1.85it/s, Loss=0.0143, Acc=0.9947]\n"
     ]
    },
    {
     "name": "stdout",
     "output_type": "stream",
     "text": [
      "✅ Training completed in 29.21s\n",
      "🔍 Validation Phase...\n"
     ]
    },
    {
     "name": "stderr",
     "output_type": "stream",
     "text": [
      "Validation: 100%|██████████████████████████████| 14/14 [00:03<00:00,  3.54it/s, Loss=1.5719, Acc=0.6585]\n"
     ]
    },
    {
     "name": "stdout",
     "output_type": "stream",
     "text": [
      "✅ Validation completed in 3.96s\n",
      "\n",
      "📊 Epoch 27 Summary:\n",
      "│ Train Loss: 0.0143 | Train Acc: 0.9947\n",
      "│ Val Loss:   1.5719 | Val Acc:   0.6585\n",
      "│ Train Time: 29.21s | Val Time: 3.96s\n",
      "│ Total Epoch Time: 33.17s\n",
      "│ Best Val Loss: 0.9070 (Epoch 10)\n",
      "│ GPU Memory: 0.4GB / 3.2GB\n",
      "================================================================================\n",
      "\n",
      "📈 Epoch 28/50\n",
      "--------------------------------------------------\n",
      "🔄 Training Phase...\n"
     ]
    },
    {
     "name": "stderr",
     "output_type": "stream",
     "text": [
      "Training: 100%|██████████████████████████████| 54/54 [00:29<00:00,  1.82it/s, Loss=0.0067, Acc=0.9994]\n"
     ]
    },
    {
     "name": "stdout",
     "output_type": "stream",
     "text": [
      "✅ Training completed in 29.70s\n",
      "🔍 Validation Phase...\n"
     ]
    },
    {
     "name": "stderr",
     "output_type": "stream",
     "text": [
      "Validation: 100%|██████████████████████████████| 14/14 [00:04<00:00,  3.47it/s, Loss=1.5813, Acc=0.6451]\n"
     ]
    },
    {
     "name": "stdout",
     "output_type": "stream",
     "text": [
      "✅ Validation completed in 4.03s\n",
      "\n",
      "📊 Epoch 28 Summary:\n",
      "│ Train Loss: 0.0067 | Train Acc: 0.9994\n",
      "│ Val Loss:   1.5813 | Val Acc:   0.6451\n",
      "│ Train Time: 29.70s | Val Time: 4.03s\n",
      "│ Total Epoch Time: 33.74s\n",
      "│ Best Val Loss: 0.9070 (Epoch 10)\n",
      "│ GPU Memory: 0.4GB / 3.2GB\n",
      "================================================================================\n",
      "\n",
      "📈 Epoch 29/50\n",
      "--------------------------------------------------\n",
      "🔄 Training Phase...\n"
     ]
    },
    {
     "name": "stderr",
     "output_type": "stream",
     "text": [
      "Training: 100%|██████████████████████████████| 54/54 [00:29<00:00,  1.83it/s, Loss=0.0207, Acc=0.9935]\n"
     ]
    },
    {
     "name": "stdout",
     "output_type": "stream",
     "text": [
      "✅ Training completed in 29.54s\n",
      "🔍 Validation Phase...\n"
     ]
    },
    {
     "name": "stderr",
     "output_type": "stream",
     "text": [
      "Validation: 100%|██████████████████████████████| 14/14 [00:03<00:00,  3.56it/s, Loss=1.6975, Acc=0.6317]\n"
     ]
    },
    {
     "name": "stdout",
     "output_type": "stream",
     "text": [
      "✅ Validation completed in 3.93s\n",
      "\n",
      "📊 Epoch 29 Summary:\n",
      "│ Train Loss: 0.0207 | Train Acc: 0.9935\n",
      "│ Val Loss:   1.6975 | Val Acc:   0.6317\n",
      "│ Train Time: 29.54s | Val Time: 3.93s\n",
      "│ Total Epoch Time: 33.48s\n",
      "│ Best Val Loss: 0.9070 (Epoch 10)\n",
      "│ GPU Memory: 0.4GB / 3.2GB\n",
      "================================================================================\n",
      "\n",
      "📈 Epoch 30/50\n",
      "--------------------------------------------------\n",
      "🔄 Training Phase...\n"
     ]
    },
    {
     "name": "stderr",
     "output_type": "stream",
     "text": [
      "Training: 100%|██████████████████████████████| 54/54 [00:29<00:00,  1.82it/s, Loss=0.0116, Acc=0.9971]\n"
     ]
    },
    {
     "name": "stdout",
     "output_type": "stream",
     "text": [
      "✅ Training completed in 29.61s\n",
      "🔍 Validation Phase...\n"
     ]
    },
    {
     "name": "stderr",
     "output_type": "stream",
     "text": [
      "Validation: 100%|██████████████████████████████| 14/14 [00:03<00:00,  3.51it/s, Loss=1.5537, Acc=0.6362]\n"
     ]
    },
    {
     "name": "stdout",
     "output_type": "stream",
     "text": [
      "✅ Validation completed in 4.00s\n",
      "\n",
      "📊 Epoch 30 Summary:\n",
      "│ Train Loss: 0.0116 | Train Acc: 0.9971\n",
      "│ Val Loss:   1.5537 | Val Acc:   0.6362\n",
      "│ Train Time: 29.61s | Val Time: 4.00s\n",
      "│ Total Epoch Time: 33.62s\n",
      "│ Best Val Loss: 0.9070 (Epoch 10)\n",
      "│ GPU Memory: 0.4GB / 3.2GB\n",
      "================================================================================\n",
      "\n",
      "📈 Epoch 31/50\n",
      "--------------------------------------------------\n",
      "🔄 Training Phase...\n"
     ]
    },
    {
     "name": "stderr",
     "output_type": "stream",
     "text": [
      "Training: 100%|██████████████████████████████| 54/54 [00:29<00:00,  1.82it/s, Loss=0.0017, Acc=1.0000]\n"
     ]
    },
    {
     "name": "stdout",
     "output_type": "stream",
     "text": [
      "✅ Training completed in 29.62s\n",
      "🔍 Validation Phase...\n"
     ]
    },
    {
     "name": "stderr",
     "output_type": "stream",
     "text": [
      "Validation: 100%|██████████████████████████████| 14/14 [00:03<00:00,  3.51it/s, Loss=1.4240, Acc=0.6540]\n"
     ]
    },
    {
     "name": "stdout",
     "output_type": "stream",
     "text": [
      "✅ Validation completed in 3.99s\n",
      "\n",
      "📊 Epoch 31 Summary:\n",
      "│ Train Loss: 0.0017 | Train Acc: 1.0000\n",
      "│ Val Loss:   1.4240 | Val Acc:   0.6540\n",
      "│ Train Time: 29.62s | Val Time: 3.99s\n",
      "│ Total Epoch Time: 33.61s\n",
      "│ Best Val Loss: 0.9070 (Epoch 10)\n",
      "│ GPU Memory: 0.4GB / 3.2GB\n",
      "================================================================================\n",
      "\n",
      "📈 Epoch 32/50\n",
      "--------------------------------------------------\n",
      "🔄 Training Phase...\n"
     ]
    },
    {
     "name": "stderr",
     "output_type": "stream",
     "text": [
      "Training: 100%|██████████████████████████████| 54/54 [00:29<00:00,  1.80it/s, Loss=0.0023, Acc=0.9988]\n"
     ]
    },
    {
     "name": "stdout",
     "output_type": "stream",
     "text": [
      "✅ Training completed in 29.92s\n",
      "🔍 Validation Phase...\n"
     ]
    },
    {
     "name": "stderr",
     "output_type": "stream",
     "text": [
      "Validation: 100%|██████████████████████████████| 14/14 [00:03<00:00,  3.57it/s, Loss=1.4831, Acc=0.6384]\n"
     ]
    },
    {
     "name": "stdout",
     "output_type": "stream",
     "text": [
      "✅ Validation completed in 3.93s\n",
      "\n",
      "📊 Epoch 32 Summary:\n",
      "│ Train Loss: 0.0023 | Train Acc: 0.9988\n",
      "│ Val Loss:   1.4831 | Val Acc:   0.6384\n",
      "│ Train Time: 29.92s | Val Time: 3.93s\n",
      "│ Total Epoch Time: 33.86s\n",
      "│ Best Val Loss: 0.9070 (Epoch 10)\n",
      "│ GPU Memory: 0.4GB / 3.2GB\n",
      "================================================================================\n",
      "\n",
      "📈 Epoch 33/50\n",
      "--------------------------------------------------\n",
      "🔄 Training Phase...\n"
     ]
    },
    {
     "name": "stderr",
     "output_type": "stream",
     "text": [
      "Training: 100%|██████████████████████████████| 54/54 [00:29<00:00,  1.82it/s, Loss=0.0027, Acc=0.9994]\n"
     ]
    },
    {
     "name": "stdout",
     "output_type": "stream",
     "text": [
      "✅ Training completed in 29.70s\n",
      "🔍 Validation Phase...\n"
     ]
    },
    {
     "name": "stderr",
     "output_type": "stream",
     "text": [
      "Validation: 100%|██████████████████████████████| 14/14 [00:04<00:00,  3.29it/s, Loss=1.4354, Acc=0.6719]\n"
     ]
    },
    {
     "name": "stdout",
     "output_type": "stream",
     "text": [
      "✅ Validation completed in 4.27s\n",
      "\n",
      "📊 Epoch 33 Summary:\n",
      "│ Train Loss: 0.0027 | Train Acc: 0.9994\n",
      "│ Val Loss:   1.4354 | Val Acc:   0.6719\n",
      "│ Train Time: 29.70s | Val Time: 4.27s\n",
      "│ Total Epoch Time: 33.97s\n",
      "│ Best Val Loss: 0.9070 (Epoch 10)\n",
      "│ GPU Memory: 0.4GB / 3.2GB\n",
      "================================================================================\n",
      "\n",
      "📈 Epoch 34/50\n",
      "--------------------------------------------------\n",
      "🔄 Training Phase...\n"
     ]
    },
    {
     "name": "stderr",
     "output_type": "stream",
     "text": [
      "Training: 100%|██████████████████████████████| 54/54 [00:29<00:00,  1.82it/s, Loss=0.0011, Acc=1.0000]\n"
     ]
    },
    {
     "name": "stdout",
     "output_type": "stream",
     "text": [
      "✅ Training completed in 29.66s\n",
      "🔍 Validation Phase...\n"
     ]
    },
    {
     "name": "stderr",
     "output_type": "stream",
     "text": [
      "Validation: 100%|██████████████████████████████| 14/14 [00:04<00:00,  3.48it/s, Loss=1.4297, Acc=0.6473]\n"
     ]
    },
    {
     "name": "stdout",
     "output_type": "stream",
     "text": [
      "✅ Validation completed in 4.02s\n",
      "\n",
      "📊 Epoch 34 Summary:\n",
      "│ Train Loss: 0.0011 | Train Acc: 1.0000\n",
      "│ Val Loss:   1.4297 | Val Acc:   0.6473\n",
      "│ Train Time: 29.66s | Val Time: 4.02s\n",
      "│ Total Epoch Time: 33.69s\n",
      "│ Best Val Loss: 0.9070 (Epoch 10)\n",
      "│ GPU Memory: 0.4GB / 3.2GB\n",
      "================================================================================\n",
      "\n",
      "📈 Epoch 35/50\n",
      "--------------------------------------------------\n",
      "🔄 Training Phase...\n"
     ]
    },
    {
     "name": "stderr",
     "output_type": "stream",
     "text": [
      "Training: 100%|██████████████████████████████| 54/54 [00:29<00:00,  1.82it/s, Loss=0.0006, Acc=1.0000]\n"
     ]
    },
    {
     "name": "stdout",
     "output_type": "stream",
     "text": [
      "✅ Training completed in 29.67s\n",
      "🔍 Validation Phase...\n"
     ]
    },
    {
     "name": "stderr",
     "output_type": "stream",
     "text": [
      "Validation: 100%|██████████████████████████████| 14/14 [00:04<00:00,  3.49it/s, Loss=1.5665, Acc=0.6920]\n"
     ]
    },
    {
     "name": "stdout",
     "output_type": "stream",
     "text": [
      "✅ Validation completed in 4.02s\n",
      "\n",
      "📊 Epoch 35 Summary:\n",
      "│ Train Loss: 0.0006 | Train Acc: 1.0000\n",
      "│ Val Loss:   1.5665 | Val Acc:   0.6920\n",
      "│ Train Time: 29.67s | Val Time: 4.02s\n",
      "│ Total Epoch Time: 33.69s\n",
      "│ Best Val Loss: 0.9070 (Epoch 10)\n",
      "│ GPU Memory: 0.4GB / 3.2GB\n",
      "================================================================================\n",
      "\n",
      "📈 Epoch 36/50\n",
      "--------------------------------------------------\n",
      "🔄 Training Phase...\n"
     ]
    },
    {
     "name": "stderr",
     "output_type": "stream",
     "text": [
      "Training: 100%|██████████████████████████████| 54/54 [00:29<00:00,  1.82it/s, Loss=0.0004, Acc=1.0000]\n"
     ]
    },
    {
     "name": "stdout",
     "output_type": "stream",
     "text": [
      "✅ Training completed in 29.62s\n",
      "🔍 Validation Phase...\n"
     ]
    },
    {
     "name": "stderr",
     "output_type": "stream",
     "text": [
      "Validation: 100%|██████████████████████████████| 14/14 [00:04<00:00,  3.50it/s, Loss=1.5064, Acc=0.6830]\n"
     ]
    },
    {
     "name": "stdout",
     "output_type": "stream",
     "text": [
      "✅ Validation completed in 4.01s\n",
      "\n",
      "📊 Epoch 36 Summary:\n",
      "│ Train Loss: 0.0004 | Train Acc: 1.0000\n",
      "│ Val Loss:   1.5064 | Val Acc:   0.6830\n",
      "│ Train Time: 29.62s | Val Time: 4.01s\n",
      "│ Total Epoch Time: 33.63s\n",
      "│ Best Val Loss: 0.9070 (Epoch 10)\n",
      "│ GPU Memory: 0.4GB / 3.2GB\n",
      "================================================================================\n",
      "\n",
      "📈 Epoch 37/50\n",
      "--------------------------------------------------\n",
      "🔄 Training Phase...\n"
     ]
    },
    {
     "name": "stderr",
     "output_type": "stream",
     "text": [
      "Training: 100%|██████████████████████████████| 54/54 [00:29<00:00,  1.82it/s, Loss=0.0005, Acc=1.0000]\n"
     ]
    },
    {
     "name": "stdout",
     "output_type": "stream",
     "text": [
      "✅ Training completed in 29.72s\n",
      "🔍 Validation Phase...\n"
     ]
    },
    {
     "name": "stderr",
     "output_type": "stream",
     "text": [
      "Validation: 100%|██████████████████████████████| 14/14 [00:03<00:00,  3.60it/s, Loss=1.5028, Acc=0.6920]\n"
     ]
    },
    {
     "name": "stdout",
     "output_type": "stream",
     "text": [
      "✅ Validation completed in 3.90s\n",
      "\n",
      "📊 Epoch 37 Summary:\n",
      "│ Train Loss: 0.0005 | Train Acc: 1.0000\n",
      "│ Val Loss:   1.5028 | Val Acc:   0.6920\n",
      "│ Train Time: 29.72s | Val Time: 3.90s\n",
      "│ Total Epoch Time: 33.62s\n",
      "│ Best Val Loss: 0.9070 (Epoch 10)\n",
      "│ GPU Memory: 0.4GB / 3.2GB\n",
      "================================================================================\n",
      "\n",
      "📈 Epoch 38/50\n",
      "--------------------------------------------------\n",
      "🔄 Training Phase...\n"
     ]
    },
    {
     "name": "stderr",
     "output_type": "stream",
     "text": [
      "Training: 100%|██████████████████████████████| 54/54 [00:29<00:00,  1.82it/s, Loss=0.0013, Acc=1.0000]\n"
     ]
    },
    {
     "name": "stdout",
     "output_type": "stream",
     "text": [
      "✅ Training completed in 29.64s\n",
      "🔍 Validation Phase...\n"
     ]
    },
    {
     "name": "stderr",
     "output_type": "stream",
     "text": [
      "Validation: 100%|██████████████████████████████| 14/14 [00:03<00:00,  3.62it/s, Loss=1.4551, Acc=0.6808]\n"
     ]
    },
    {
     "name": "stdout",
     "output_type": "stream",
     "text": [
      "✅ Validation completed in 3.88s\n",
      "\n",
      "📊 Epoch 38 Summary:\n",
      "│ Train Loss: 0.0013 | Train Acc: 1.0000\n",
      "│ Val Loss:   1.4551 | Val Acc:   0.6808\n",
      "│ Train Time: 29.64s | Val Time: 3.88s\n",
      "│ Total Epoch Time: 33.52s\n",
      "│ Best Val Loss: 0.9070 (Epoch 10)\n",
      "│ GPU Memory: 0.4GB / 3.2GB\n",
      "================================================================================\n",
      "\n",
      "📈 Epoch 39/50\n",
      "--------------------------------------------------\n",
      "🔄 Training Phase...\n"
     ]
    },
    {
     "name": "stderr",
     "output_type": "stream",
     "text": [
      "Training: 100%|██████████████████████████████| 54/54 [00:29<00:00,  1.81it/s, Loss=0.0026, Acc=0.9994]\n"
     ]
    },
    {
     "name": "stdout",
     "output_type": "stream",
     "text": [
      "✅ Training completed in 29.79s\n",
      "🔍 Validation Phase...\n"
     ]
    },
    {
     "name": "stderr",
     "output_type": "stream",
     "text": [
      "Validation: 100%|██████████████████████████████| 14/14 [00:03<00:00,  3.57it/s, Loss=1.5455, Acc=0.6763]\n"
     ]
    },
    {
     "name": "stdout",
     "output_type": "stream",
     "text": [
      "✅ Validation completed in 3.92s\n",
      "\n",
      "📊 Epoch 39 Summary:\n",
      "│ Train Loss: 0.0026 | Train Acc: 0.9994\n",
      "│ Val Loss:   1.5455 | Val Acc:   0.6763\n",
      "│ Train Time: 29.79s | Val Time: 3.92s\n",
      "│ Total Epoch Time: 33.72s\n",
      "│ Best Val Loss: 0.9070 (Epoch 10)\n",
      "│ GPU Memory: 0.4GB / 3.2GB\n",
      "================================================================================\n",
      "\n",
      "📈 Epoch 40/50\n",
      "--------------------------------------------------\n",
      "🔄 Training Phase...\n"
     ]
    },
    {
     "name": "stderr",
     "output_type": "stream",
     "text": [
      "Training: 100%|██████████████████████████████| 54/54 [00:29<00:00,  1.81it/s, Loss=0.0012, Acc=0.9994]\n"
     ]
    },
    {
     "name": "stdout",
     "output_type": "stream",
     "text": [
      "✅ Training completed in 29.77s\n",
      "🔍 Validation Phase...\n"
     ]
    },
    {
     "name": "stderr",
     "output_type": "stream",
     "text": [
      "Validation: 100%|██████████████████████████████| 14/14 [00:04<00:00,  3.44it/s, Loss=1.5868, Acc=0.6696]\n"
     ]
    },
    {
     "name": "stdout",
     "output_type": "stream",
     "text": [
      "✅ Validation completed in 4.08s\n",
      "\n",
      "📊 Epoch 40 Summary:\n",
      "│ Train Loss: 0.0012 | Train Acc: 0.9994\n",
      "│ Val Loss:   1.5868 | Val Acc:   0.6696\n",
      "│ Train Time: 29.77s | Val Time: 4.08s\n",
      "│ Total Epoch Time: 33.85s\n",
      "│ Best Val Loss: 0.9070 (Epoch 10)\n",
      "│ GPU Memory: 0.4GB / 3.2GB\n",
      "================================================================================\n",
      "\n",
      "📈 Epoch 41/50\n",
      "--------------------------------------------------\n",
      "🔄 Training Phase...\n"
     ]
    },
    {
     "name": "stderr",
     "output_type": "stream",
     "text": [
      "Training: 100%|██████████████████████████████| 54/54 [00:29<00:00,  1.82it/s, Loss=0.0006, Acc=1.0000]\n"
     ]
    },
    {
     "name": "stdout",
     "output_type": "stream",
     "text": [
      "✅ Training completed in 29.69s\n",
      "🔍 Validation Phase...\n"
     ]
    },
    {
     "name": "stderr",
     "output_type": "stream",
     "text": [
      "Validation: 100%|██████████████████████████████| 14/14 [00:03<00:00,  3.56it/s, Loss=1.4814, Acc=0.6853]\n"
     ]
    },
    {
     "name": "stdout",
     "output_type": "stream",
     "text": [
      "✅ Validation completed in 3.94s\n",
      "\n",
      "📊 Epoch 41 Summary:\n",
      "│ Train Loss: 0.0006 | Train Acc: 1.0000\n",
      "│ Val Loss:   1.4814 | Val Acc:   0.6853\n",
      "│ Train Time: 29.69s | Val Time: 3.94s\n",
      "│ Total Epoch Time: 33.64s\n",
      "│ Best Val Loss: 0.9070 (Epoch 10)\n",
      "│ GPU Memory: 0.4GB / 3.2GB\n",
      "================================================================================\n",
      "\n",
      "📈 Epoch 42/50\n",
      "--------------------------------------------------\n",
      "🔄 Training Phase...\n"
     ]
    },
    {
     "name": "stderr",
     "output_type": "stream",
     "text": [
      "Training: 100%|██████████████████████████████| 54/54 [00:30<00:00,  1.80it/s, Loss=0.0008, Acc=1.0000]\n"
     ]
    },
    {
     "name": "stdout",
     "output_type": "stream",
     "text": [
      "✅ Training completed in 30.07s\n",
      "🔍 Validation Phase...\n"
     ]
    },
    {
     "name": "stderr",
     "output_type": "stream",
     "text": [
      "Validation: 100%|██████████████████████████████| 14/14 [00:03<00:00,  3.56it/s, Loss=1.5455, Acc=0.6897]\n"
     ]
    },
    {
     "name": "stdout",
     "output_type": "stream",
     "text": [
      "✅ Validation completed in 3.94s\n",
      "\n",
      "📊 Epoch 42 Summary:\n",
      "│ Train Loss: 0.0008 | Train Acc: 1.0000\n",
      "│ Val Loss:   1.5455 | Val Acc:   0.6897\n",
      "│ Train Time: 30.07s | Val Time: 3.94s\n",
      "│ Total Epoch Time: 34.02s\n",
      "│ Best Val Loss: 0.9070 (Epoch 10)\n",
      "│ GPU Memory: 0.4GB / 3.2GB\n",
      "================================================================================\n",
      "\n",
      "📈 Epoch 43/50\n",
      "--------------------------------------------------\n",
      "🔄 Training Phase...\n"
     ]
    },
    {
     "name": "stderr",
     "output_type": "stream",
     "text": [
      "Training: 100%|██████████████████████████████| 54/54 [00:29<00:00,  1.82it/s, Loss=0.0014, Acc=1.0000]\n"
     ]
    },
    {
     "name": "stdout",
     "output_type": "stream",
     "text": [
      "✅ Training completed in 29.67s\n",
      "🔍 Validation Phase...\n"
     ]
    },
    {
     "name": "stderr",
     "output_type": "stream",
     "text": [
      "Validation: 100%|██████████████████████████████| 14/14 [00:03<00:00,  3.60it/s, Loss=1.3790, Acc=0.6853]\n"
     ]
    },
    {
     "name": "stdout",
     "output_type": "stream",
     "text": [
      "✅ Validation completed in 3.89s\n",
      "\n",
      "📊 Epoch 43 Summary:\n",
      "│ Train Loss: 0.0014 | Train Acc: 1.0000\n",
      "│ Val Loss:   1.3790 | Val Acc:   0.6853\n",
      "│ Train Time: 29.67s | Val Time: 3.89s\n",
      "│ Total Epoch Time: 33.56s\n",
      "│ Best Val Loss: 0.9070 (Epoch 10)\n",
      "│ GPU Memory: 0.4GB / 3.2GB\n",
      "================================================================================\n",
      "\n",
      "📈 Epoch 44/50\n",
      "--------------------------------------------------\n",
      "🔄 Training Phase...\n"
     ]
    },
    {
     "name": "stderr",
     "output_type": "stream",
     "text": [
      "Training: 100%|██████████████████████████████| 54/54 [00:29<00:00,  1.82it/s, Loss=0.0015, Acc=1.0000]\n"
     ]
    },
    {
     "name": "stdout",
     "output_type": "stream",
     "text": [
      "✅ Training completed in 29.72s\n",
      "🔍 Validation Phase...\n"
     ]
    },
    {
     "name": "stderr",
     "output_type": "stream",
     "text": [
      "Validation: 100%|██████████████████████████████| 14/14 [00:03<00:00,  3.53it/s, Loss=1.3894, Acc=0.6875]\n"
     ]
    },
    {
     "name": "stdout",
     "output_type": "stream",
     "text": [
      "✅ Validation completed in 3.98s\n",
      "\n",
      "📊 Epoch 44 Summary:\n",
      "│ Train Loss: 0.0015 | Train Acc: 1.0000\n",
      "│ Val Loss:   1.3894 | Val Acc:   0.6875\n",
      "│ Train Time: 29.72s | Val Time: 3.98s\n",
      "│ Total Epoch Time: 33.70s\n",
      "│ Best Val Loss: 0.9070 (Epoch 10)\n",
      "│ GPU Memory: 0.4GB / 3.2GB\n",
      "================================================================================\n",
      "\n",
      "📈 Epoch 45/50\n",
      "--------------------------------------------------\n",
      "🔄 Training Phase...\n"
     ]
    },
    {
     "name": "stderr",
     "output_type": "stream",
     "text": [
      "Training: 100%|██████████████████████████████| 54/54 [00:29<00:00,  1.81it/s, Loss=0.0033, Acc=0.9988]\n"
     ]
    },
    {
     "name": "stdout",
     "output_type": "stream",
     "text": [
      "✅ Training completed in 29.84s\n",
      "🔍 Validation Phase...\n"
     ]
    },
    {
     "name": "stderr",
     "output_type": "stream",
     "text": [
      "Validation: 100%|██████████████████████████████| 14/14 [00:04<00:00,  3.49it/s, Loss=1.4784, Acc=0.6853]\n"
     ]
    },
    {
     "name": "stdout",
     "output_type": "stream",
     "text": [
      "✅ Validation completed in 4.02s\n",
      "\n",
      "📊 Epoch 45 Summary:\n",
      "│ Train Loss: 0.0033 | Train Acc: 0.9988\n",
      "│ Val Loss:   1.4784 | Val Acc:   0.6853\n",
      "│ Train Time: 29.84s | Val Time: 4.02s\n",
      "│ Total Epoch Time: 33.86s\n",
      "│ Best Val Loss: 0.9070 (Epoch 10)\n",
      "│ GPU Memory: 0.4GB / 3.2GB\n",
      "================================================================================\n",
      "\n",
      "📈 Epoch 46/50\n",
      "--------------------------------------------------\n",
      "🔄 Training Phase...\n"
     ]
    },
    {
     "name": "stderr",
     "output_type": "stream",
     "text": [
      "Training: 100%|██████████████████████████████| 54/54 [00:29<00:00,  1.85it/s, Loss=0.0172, Acc=0.9941]\n"
     ]
    },
    {
     "name": "stdout",
     "output_type": "stream",
     "text": [
      "✅ Training completed in 29.18s\n",
      "🔍 Validation Phase...\n"
     ]
    },
    {
     "name": "stderr",
     "output_type": "stream",
     "text": [
      "Validation: 100%|██████████████████████████████| 14/14 [00:03<00:00,  3.55it/s, Loss=1.8506, Acc=0.5938]\n"
     ]
    },
    {
     "name": "stdout",
     "output_type": "stream",
     "text": [
      "✅ Validation completed in 3.94s\n",
      "\n",
      "📊 Epoch 46 Summary:\n",
      "│ Train Loss: 0.0172 | Train Acc: 0.9941\n",
      "│ Val Loss:   1.8506 | Val Acc:   0.5938\n",
      "│ Train Time: 29.18s | Val Time: 3.94s\n",
      "│ Total Epoch Time: 33.12s\n",
      "│ Best Val Loss: 0.9070 (Epoch 10)\n",
      "│ GPU Memory: 0.4GB / 3.2GB\n",
      "================================================================================\n",
      "\n",
      "📈 Epoch 47/50\n",
      "--------------------------------------------------\n",
      "🔄 Training Phase...\n"
     ]
    },
    {
     "name": "stderr",
     "output_type": "stream",
     "text": [
      "Training: 100%|██████████████████████████████| 54/54 [00:28<00:00,  1.87it/s, Loss=0.0121, Acc=0.9959]\n"
     ]
    },
    {
     "name": "stdout",
     "output_type": "stream",
     "text": [
      "✅ Training completed in 28.82s\n",
      "🔍 Validation Phase...\n"
     ]
    },
    {
     "name": "stderr",
     "output_type": "stream",
     "text": [
      "Validation: 100%|██████████████████████████████| 14/14 [00:03<00:00,  3.55it/s, Loss=1.7769, Acc=0.6094]\n"
     ]
    },
    {
     "name": "stdout",
     "output_type": "stream",
     "text": [
      "✅ Validation completed in 3.94s\n",
      "\n",
      "📊 Epoch 47 Summary:\n",
      "│ Train Loss: 0.0121 | Train Acc: 0.9959\n",
      "│ Val Loss:   1.7769 | Val Acc:   0.6094\n",
      "│ Train Time: 28.82s | Val Time: 3.94s\n",
      "│ Total Epoch Time: 32.76s\n",
      "│ Best Val Loss: 0.9070 (Epoch 10)\n",
      "│ GPU Memory: 0.4GB / 3.2GB\n",
      "================================================================================\n",
      "\n",
      "📈 Epoch 48/50\n",
      "--------------------------------------------------\n",
      "🔄 Training Phase...\n"
     ]
    },
    {
     "name": "stderr",
     "output_type": "stream",
     "text": [
      "Training: 100%|██████████████████████████████| 54/54 [00:28<00:00,  1.88it/s, Loss=0.0085, Acc=0.9971]\n"
     ]
    },
    {
     "name": "stdout",
     "output_type": "stream",
     "text": [
      "✅ Training completed in 28.74s\n",
      "🔍 Validation Phase...\n"
     ]
    },
    {
     "name": "stderr",
     "output_type": "stream",
     "text": [
      "Validation: 100%|██████████████████████████████| 14/14 [00:03<00:00,  3.59it/s, Loss=1.6504, Acc=0.6295]\n"
     ]
    },
    {
     "name": "stdout",
     "output_type": "stream",
     "text": [
      "✅ Validation completed in 3.90s\n",
      "\n",
      "📊 Epoch 48 Summary:\n",
      "│ Train Loss: 0.0085 | Train Acc: 0.9971\n",
      "│ Val Loss:   1.6504 | Val Acc:   0.6295\n",
      "│ Train Time: 28.74s | Val Time: 3.90s\n",
      "│ Total Epoch Time: 32.64s\n",
      "│ Best Val Loss: 0.9070 (Epoch 10)\n",
      "│ GPU Memory: 0.4GB / 3.2GB\n",
      "================================================================================\n",
      "\n",
      "📈 Epoch 49/50\n",
      "--------------------------------------------------\n",
      "🔄 Training Phase...\n"
     ]
    },
    {
     "name": "stderr",
     "output_type": "stream",
     "text": [
      "Training: 100%|██████████████████████████████| 54/54 [00:28<00:00,  1.87it/s, Loss=0.0032, Acc=0.9994]\n"
     ]
    },
    {
     "name": "stdout",
     "output_type": "stream",
     "text": [
      "✅ Training completed in 28.85s\n",
      "🔍 Validation Phase...\n"
     ]
    },
    {
     "name": "stderr",
     "output_type": "stream",
     "text": [
      "Validation: 100%|██████████████████████████████| 14/14 [00:03<00:00,  3.57it/s, Loss=1.6763, Acc=0.6317]\n"
     ]
    },
    {
     "name": "stdout",
     "output_type": "stream",
     "text": [
      "✅ Validation completed in 3.93s\n",
      "\n",
      "📊 Epoch 49 Summary:\n",
      "│ Train Loss: 0.0032 | Train Acc: 0.9994\n",
      "│ Val Loss:   1.6763 | Val Acc:   0.6317\n",
      "│ Train Time: 28.85s | Val Time: 3.93s\n",
      "│ Total Epoch Time: 32.78s\n",
      "│ Best Val Loss: 0.9070 (Epoch 10)\n",
      "│ GPU Memory: 0.4GB / 3.2GB\n",
      "================================================================================\n",
      "\n",
      "📈 Epoch 50/50\n",
      "--------------------------------------------------\n",
      "🔄 Training Phase...\n"
     ]
    },
    {
     "name": "stderr",
     "output_type": "stream",
     "text": [
      "Training: 100%|██████████████████████████████| 54/54 [00:28<00:00,  1.88it/s, Loss=0.0011, Acc=1.0000]\n"
     ]
    },
    {
     "name": "stdout",
     "output_type": "stream",
     "text": [
      "✅ Training completed in 28.67s\n",
      "🔍 Validation Phase...\n"
     ]
    },
    {
     "name": "stderr",
     "output_type": "stream",
     "text": [
      "Validation: 100%|██████████████████████████████| 14/14 [00:03<00:00,  3.72it/s, Loss=1.6628, Acc=0.6496]\n"
     ]
    },
    {
     "name": "stdout",
     "output_type": "stream",
     "text": [
      "✅ Validation completed in 3.77s\n",
      "\n",
      "📊 Epoch 50 Summary:\n",
      "│ Train Loss: 0.0011 | Train Acc: 1.0000\n",
      "│ Val Loss:   1.6628 | Val Acc:   0.6496\n",
      "│ Train Time: 28.67s | Val Time: 3.77s\n",
      "│ Total Epoch Time: 32.44s\n",
      "│ Best Val Loss: 0.9070 (Epoch 10)\n",
      "│ GPU Memory: 0.4GB / 3.2GB\n",
      "================================================================================\n",
      "\n",
      "💾 Best model saved as 'best_cricket_resnet50.pth'\n",
      "📊 Best model stats:\n",
      "│ Best Epoch: 10\n",
      "│ Best Val Loss: 0.9070\n",
      "│ Best Val Acc: 0.7254\n",
      "\n",
      "💾 Training history saved to 'cricket_training_history_resnet50_pretrained.csv'\n",
      "\n",
      "🎉 Fine-tuning Complete!\n",
      "Total Training Time: 1654.55s (27.6 minutes)\n",
      "Average Epoch Time: 33.09s\n",
      "\n",
      "🧪 Loading Best Model for Testing...\n",
      "✅ Best model from epoch 10 loaded successfully!\n"
     ]
    },
    {
     "name": "stderr",
     "output_type": "stream",
     "text": [
      "Testing: 100%|██████████████████████████████| 18/18 [00:08<00:00,  2.12it/s]\n"
     ]
    },
    {
     "name": "stdout",
     "output_type": "stream",
     "text": [
      "✅ Testing completed in 8.48s\n",
      "\n",
      "📋 Classification Report:\n",
      "                 precision    recall  f1-score   support\n",
      "\n",
      "  boundary_save       0.59      0.74      0.65       152\n",
      "catching_a_ball       0.52      0.48      0.50       104\n",
      "    diving_stop       0.09      0.02      0.03        56\n",
      "        run_out       0.61      0.59      0.60       128\n",
      "       stumping       0.56      0.64      0.60       120\n",
      "\n",
      "       accuracy                           0.56       560\n",
      "      macro avg       0.47      0.49      0.48       560\n",
      "   weighted avg       0.52      0.56      0.54       560\n",
      "\n",
      "🎯 Test Accuracy: 0.5643\n",
      "\n",
      "📊 Cricket Classification Performance:\n",
      "│ Best Validation Loss: 0.9070 (Epoch 10)\n",
      "│ Best Validation Acc:  0.7254 (Epoch 10)\n",
      "│ Final Test Accuracy:  0.5643\n",
      "│ Val-Test Gap:         0.1612\n",
      "\n",
      "💾 Files saved:\n",
      "│ best_cricket_resnet50.pth - Best model weights\n",
      "│ cricket_training_history.csv - Training metrics\n"
     ]
    },
    {
     "data": {
      "image/png": "[encoded data removed]",
      "text/plain": [
       "<Figure size 1000x800 with 2 Axes>"
      ]
     },
     "metadata": {},
     "output_type": "display_data"
    },
    {
     "data": {
      "image/png": "[encoded data removed]",
      "text/plain": [
       "<Figure size 1500x500 with 3 Axes>"
      ]
     },
     "metadata": {},
     "output_type": "display_data"
    },
    {
     "name": "stdout",
     "output_type": "stream",
     "text": [
      "\n",
      "⏰ Final Timing Summary:\n",
      "│ Total Training: 1654.55s (27.6 min)\n",
      "│ Average per Epoch: 33.09s\n",
      "│ Testing Time: 8.48s\n",
      "│ Total Runtime: 1663.03s\n"
     ]
    }
   ],
   "source": [
    "import torch.optim as optim\n",
    "from sklearn.metrics import accuracy_score, classification_report, confusion_matrix\n",
    "import pandas as pd\n",
    "import matplotlib.pyplot as plt\n",
    "\n",
    "# -----------------------------\n",
    "# 3. Training Setup\n",
    "# -----------------------------\n",
    "criterion = nn.CrossEntropyLoss()\n",
    "optimizer = optim.Adam(model.parameters(), lr=1e-4)  # Lower LR for fine-tuning\n",
    "\n",
    "print(f\"\\n📋 Training Configuration:\")\n",
    "print(f\"│ Optimizer: Adam (lr={optimizer.param_groups[0]['lr']})\")\n",
    "print(f\"│ Loss Function: CrossEntropyLoss\")\n",
    "print(f\"│ Batch Size: 32\")\n",
    "print(f\"│ Device: {device}\")\n",
    "\n",
    "# -----------------------------\n",
    "# 4. Training Loop with Model Saving\n",
    "# -----------------------------\n",
    "train_losses, val_losses = [], []\n",
    "train_accs, val_accs = [], []\n",
    "epoch_times = []\n",
    "epochs = 50\n",
    "\n",
    "# Initialize best model tracking (using val_loss for fine-tuning)\n",
    "best_val_loss = float('inf')\n",
    "best_model_state = None\n",
    "best_epoch = 0\n",
    "best_val_acc = 0.0\n",
    "\n",
    "print(f\"\\n🚀 Starting Fine-tuning for {epochs} epochs...\")\n",
    "print(\"=\" * 80)\n",
    "total_start_time = time.time()\n",
    "\n",
    "for epoch in range(epochs):\n",
    "    epoch_start_time = time.time()\n",
    "    \n",
    "    print(f\"\\n📈 Epoch {epoch+1}/{epochs}\")\n",
    "    print(\"-\" * 50)\n",
    "    \n",
    "    # Training Phase\n",
    "    print(\"🔄 Training Phase...\")\n",
    "    model.train()\n",
    "    running_loss, correct, total = 0, 0, 0\n",
    "    \n",
    "    train_pbar = tqdm(train_loader, desc=\"Training\", \n",
    "                     bar_format='{l_bar}{bar:30}{r_bar}{bar:-30b}')\n",
    "    \n",
    "    train_phase_start = time.time()\n",
    "    \n",
    "    for batch_idx, (imgs, labels) in enumerate(train_pbar):\n",
    "        imgs, labels = imgs.to(device), labels.to(device)\n",
    "        \n",
    "        optimizer.zero_grad()\n",
    "        outputs = model(imgs)\n",
    "        loss = criterion(outputs, labels)\n",
    "        loss.backward()\n",
    "        optimizer.step()\n",
    "        \n",
    "        running_loss += loss.item()\n",
    "        _, preds = torch.max(outputs, 1)\n",
    "        correct += (preds == labels).sum().item()\n",
    "        total += labels.size(0)\n",
    "        \n",
    "        current_acc = correct / total\n",
    "        train_pbar.set_postfix({\n",
    "            'Loss': f'{running_loss/(batch_idx+1):.4f}',\n",
    "            'Acc': f'{current_acc:.4f}'\n",
    "        })\n",
    "        \n",
    "        if device.type == 'cuda' and batch_idx % 10 == 0:\n",
    "            gpu_memory = torch.cuda.memory_allocated() / 1024**3\n",
    "            train_pbar.set_postfix({\n",
    "                'Loss': f'{running_loss/(batch_idx+1):.4f}',\n",
    "                'Acc': f'{current_acc:.4f}',\n",
    "                'GPU': f'{gpu_memory:.1f}GB'\n",
    "            })\n",
    "    \n",
    "    train_phase_time = time.time() - train_phase_start\n",
    "    train_loss = running_loss / len(train_loader)\n",
    "    train_acc = correct / total\n",
    "    train_losses.append(train_loss)\n",
    "    train_accs.append(train_acc)\n",
    "    \n",
    "    print(f\"✅ Training completed in {train_phase_time:.2f}s\")\n",
    "    \n",
    "    # Validation Phase\n",
    "    print(\"🔍 Validation Phase...\")\n",
    "    model.eval()\n",
    "    running_loss, correct, total = 0, 0, 0\n",
    "    \n",
    "    val_phase_start = time.time()\n",
    "    val_pbar = tqdm(val_loader, desc=\"Validation\", \n",
    "                   bar_format='{l_bar}{bar:30}{r_bar}{bar:-30b}')\n",
    "    \n",
    "    with torch.no_grad():\n",
    "        for batch_idx, (imgs, labels) in enumerate(val_pbar):\n",
    "            imgs, labels = imgs.to(device), labels.to(device)\n",
    "            outputs = model(imgs)\n",
    "            loss = criterion(outputs, labels)\n",
    "            \n",
    "            running_loss += loss.item()\n",
    "            _, preds = torch.max(outputs, 1)\n",
    "            correct += (preds == labels).sum().item()\n",
    "            total += labels.size(0)\n",
    "            \n",
    "            current_acc = correct / total\n",
    "            val_pbar.set_postfix({\n",
    "                'Loss': f'{running_loss/(batch_idx+1):.4f}',\n",
    "                'Acc': f'{current_acc:.4f}'\n",
    "            })\n",
    "    \n",
    "    val_phase_time = time.time() - val_phase_start\n",
    "    val_loss = running_loss / len(val_loader)\n",
    "    val_acc = correct / total\n",
    "    val_losses.append(val_loss)\n",
    "    val_accs.append(val_acc)\n",
    "    \n",
    "    print(f\"✅ Validation completed in {val_phase_time:.2f}s\")\n",
    "    \n",
    "    # Check if this is the best model (using val_loss for fine-tuning)\n",
    "    is_best = val_loss < best_val_loss\n",
    "    if is_best:\n",
    "        best_val_loss = val_loss\n",
    "        best_val_acc = val_acc\n",
    "        best_epoch = epoch + 1\n",
    "        best_model_state = model.state_dict().copy()\n",
    "        print(f\"🌟 New best model found! Validation Loss: {val_loss:.4f}\")\n",
    "    \n",
    "    # Epoch Summary\n",
    "    epoch_time = time.time() - epoch_start_time\n",
    "    epoch_times.append(epoch_time)\n",
    "    \n",
    "    print(f\"\\n📊 Epoch {epoch+1} Summary:\")\n",
    "    print(f\"│ Train Loss: {train_loss:.4f} | Train Acc: {train_acc:.4f}\")\n",
    "    print(f\"│ Val Loss:   {val_loss:.4f} | Val Acc:   {val_acc:.4f}\")\n",
    "    print(f\"│ Train Time: {train_phase_time:.2f}s | Val Time: {val_phase_time:.2f}s\")\n",
    "    print(f\"│ Total Epoch Time: {epoch_time:.2f}s\")\n",
    "    print(f\"│ Best Val Loss: {best_val_loss:.4f} (Epoch {best_epoch})\")\n",
    "    \n",
    "    if device.type == 'cuda':\n",
    "        print(f\"│ GPU Memory: {torch.cuda.memory_allocated()/1024**3:.1f}GB / {torch.cuda.memory_reserved()/1024**3:.1f}GB\")\n",
    "    \n",
    "    print(\"=\" * 80)\n",
    "\n",
    "total_training_time = time.time() - total_start_time\n",
    "\n",
    "# Save the best model\n",
    "if best_model_state is not None:\n",
    "    torch.save(best_model_state, 'best_cricket_resnet50_pretrained.pth')\n",
    "    print(f\"\\n💾 Best model saved as 'best_cricket_resnet50.pth'\")\n",
    "    print(f\"📊 Best model stats:\")\n",
    "    print(f\"│ Best Epoch: {best_epoch}\")\n",
    "    print(f\"│ Best Val Loss: {best_val_loss:.4f}\")\n",
    "    print(f\"│ Best Val Acc: {best_val_acc:.4f}\")\n",
    "\n",
    "# Save training history\n",
    "history_data = {\n",
    "    'epoch': list(range(1, epochs+1)),\n",
    "    'train_loss': train_losses,\n",
    "    'val_loss': val_losses,\n",
    "    'train_acc': train_accs,\n",
    "    'val_acc': val_accs,\n",
    "    'epoch_time': epoch_times\n",
    "}\n",
    "\n",
    "history_df = pd.DataFrame(history_data)\n",
    "history_df.to_csv('cricket_training_history_resnet50_pretrained.csv', index=False)\n",
    "print(\"\\n💾 Training history saved to 'cricket_training_history_resnet50_pretrained.csv'\")\n",
    "\n",
    "print(f\"\\n🎉 Fine-tuning Complete!\")\n",
    "print(f\"Total Training Time: {total_training_time:.2f}s ({total_training_time/60:.1f} minutes)\")\n",
    "print(f\"Average Epoch Time: {np.mean(epoch_times):.2f}s\")\n",
    "\n",
    "# -----------------------------\n",
    "# 5. Load Best Model and Test\n",
    "# -----------------------------\n",
    "print(f\"\\n🧪 Loading Best Model for Testing...\")\n",
    "if best_model_state is not None:\n",
    "    model.load_state_dict(best_model_state)\n",
    "    print(f\"✅ Best model from epoch {best_epoch} loaded successfully!\")\n",
    "\n",
    "test_start_time = time.time()\n",
    "y_true, y_pred = [], []\n",
    "model.eval()\n",
    "test_pbar = tqdm(test_loader, desc=\"Testing\", \n",
    "                bar_format='{l_bar}{bar:30}{r_bar}{bar:-30b}')\n",
    "\n",
    "with torch.no_grad():\n",
    "    for imgs, labels in test_pbar:\n",
    "        imgs, labels = imgs.to(device), labels.to(device)\n",
    "        outputs = model(imgs)\n",
    "        _, preds = torch.max(outputs, 1)\n",
    "        y_true.extend(labels.cpu().numpy())\n",
    "        y_pred.extend(preds.cpu().numpy())\n",
    "\n",
    "test_time = time.time() - test_start_time\n",
    "test_accuracy = accuracy_score(y_true, y_pred)\n",
    "\n",
    "print(f\"✅ Testing completed in {test_time:.2f}s\")\n",
    "print(\"\\n📋 Classification Report:\")\n",
    "print(classification_report(y_true, y_pred, target_names=classes))\n",
    "print(f\"🎯 Test Accuracy: {test_accuracy:.4f}\")\n",
    "\n",
    "# Performance Summary\n",
    "print(f\"\\n📊 Cricket Classification Performance:\")\n",
    "print(f\"│ Best Validation Loss: {best_val_loss:.4f} (Epoch {best_epoch})\")\n",
    "print(f\"│ Best Validation Acc:  {best_val_acc:.4f} (Epoch {best_epoch})\")\n",
    "print(f\"│ Final Test Accuracy:  {test_accuracy:.4f}\")\n",
    "print(f\"│ Val-Test Gap:         {abs(best_val_acc - test_accuracy):.4f}\")\n",
    "\n",
    "print(f\"\\n💾 Files saved:\")\n",
    "print(f\"│ best_cricket_resnet50.pth - Best model weights\")\n",
    "print(f\"│ cricket_training_history.csv - Training metrics\")\n",
    "\n",
    "# -----------------------------\n",
    "# 6. Visualizations\n",
    "# -----------------------------\n",
    "# Confusion Matrix\n",
    "cm = confusion_matrix(y_true, y_pred)\n",
    "plt.figure(figsize=(10, 8))\n",
    "sns.heatmap(cm, annot=True, fmt=\"d\", cmap=\"Blues\", \n",
    "            xticklabels=classes, yticklabels=classes)\n",
    "plt.xlabel(\"Predicted\")\n",
    "plt.ylabel(\"True\")\n",
    "plt.title(f\"Cricket Classification - Confusion Matrix (Epoch {best_epoch})\")\n",
    "plt.tight_layout()\n",
    "plt.show()\n",
    "\n",
    "# Training Curves\n",
    "plt.figure(figsize=(15, 5))\n",
    "\n",
    "# Loss Plot\n",
    "plt.subplot(1, 3, 1)\n",
    "plt.plot(range(1, epochs+1), train_losses, 'b-', label=\"Train Loss\", marker='o', linewidth=2)\n",
    "plt.plot(range(1, epochs+1), val_losses, 'r-', label=\"Val Loss\", marker='s', linewidth=2)\n",
    "plt.axvline(x=best_epoch, color='green', linestyle='--', alpha=0.7, label=f'Best (Epoch {best_epoch})')\n",
    "plt.scatter([best_epoch], [best_val_loss], color='green', s=100, zorder=5)\n",
    "plt.legend()\n",
    "plt.title(\"Loss over Epochs\")\n",
    "plt.xlabel(\"Epoch\")\n",
    "plt.ylabel(\"Loss\")\n",
    "plt.grid(True, alpha=0.3)\n",
    "\n",
    "# Accuracy Plot\n",
    "plt.subplot(1, 3, 2)\n",
    "plt.plot(range(1, epochs+1), train_accs, 'b-', label=\"Train Accuracy\", marker='o', linewidth=2)\n",
    "plt.plot(range(1, epochs+1), val_accs, 'r-', label=\"Val Accuracy\", marker='s', linewidth=2)\n",
    "plt.axvline(x=best_epoch, color='green', linestyle='--', alpha=0.7, label=f'Best (Epoch {best_epoch})')\n",
    "plt.scatter([best_epoch], [best_val_acc], color='green', s=100, zorder=5)\n",
    "plt.legend()\n",
    "plt.title(\"Accuracy over Epochs\")\n",
    "plt.xlabel(\"Epoch\")\n",
    "plt.ylabel(\"Accuracy\")\n",
    "plt.grid(True, alpha=0.3)\n",
    "\n",
    "# Final Performance\n",
    "plt.subplot(1, 3, 3)\n",
    "metrics = ['Best Val Acc', 'Test Acc']\n",
    "values = [best_val_acc, test_accuracy]\n",
    "colors = ['orange', 'green']\n",
    "bars = plt.bar(metrics, values, color=colors, alpha=0.7)\n",
    "plt.title(\"Final Model Performance\")\n",
    "plt.ylabel(\"Accuracy\")\n",
    "plt.ylim(0, 1)\n",
    "plt.grid(True, alpha=0.3)\n",
    "for bar, val in zip(bars, values):\n",
    "    plt.text(bar.get_x() + bar.get_width()/2, val + 0.01, \n",
    "             f'{val:.4f}', ha='center', va='bottom')\n",
    "\n",
    "plt.tight_layout()\n",
    "plt.show()\n",
    "\n",
    "# Final Summary\n",
    "print(f\"\\n⏰ Final Timing Summary:\")\n",
    "print(f\"│ Total Training: {total_training_time:.2f}s ({total_training_time/60:.1f} min)\")\n",
    "print(f\"│ Average per Epoch: {np.mean(epoch_times):.2f}s\")\n",
    "print(f\"│ Testing Time: {test_time:.2f}s\")\n",
    "print(f\"│ Total Runtime: {total_training_time + test_time:.2f}s\")"
   ]
  }
 ],
 "metadata": {
  "kaggle": {
   "accelerator": "nvidiaTeslaT4",
   "dataSources": [
    {
     "datasetId": 7735666,
     "sourceId": 12275446,
     "sourceType": "datasetVersion"
    }
   ],
   "dockerImageVersionId": 31090,
   "isGpuEnabled": true,
   "isInternetEnabled": true,
   "language": "python",
   "sourceType": "notebook"
  },
  "kernelspec": {
   "display_name": "Python 3",
   "language": "python",
   "name": "python3"
  },
  "language_info": {
   "codemirror_mode": {
    "name": "ipython",
    "version": 3
   },
   "file_extension": ".py",
   "mimetype": "text/x-python",
   "name": "python",
   "nbconvert_exporter": "python",
   "pygments_lexer": "ipython3",
   "version": "3.11.13"
  },
  "papermill": {
   "default_parameters": {},
   "duration": 1692.728743,
   "end_time": "2025-09-08T09:04:50.384058",
   "environment_variables": {},
   "exception": null,
   "input_path": "__notebook__.ipynb",
   "output_path": "__notebook__.ipynb",
   "parameters": {},
   "start_time": "2025-09-08T08:36:37.655315",
   "version": "2.6.0"
  }
 },
 "nbformat": 4,
 "nbformat_minor": 5
}
