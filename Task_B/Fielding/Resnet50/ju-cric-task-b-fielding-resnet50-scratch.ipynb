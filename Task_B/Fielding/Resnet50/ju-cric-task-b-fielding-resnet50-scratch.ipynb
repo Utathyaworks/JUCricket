{
 "cells": [
  {
   "cell_type": "code",
   "execution_count": 1,
   "id": "9c9f2522",
   "metadata": {
    "_cell_guid": "b1076dfc-b9ad-4769-8c92-a6c4dae69d19",
    "_uuid": "8f2839f25d086af736a60e9eeb907d3b93b6e0e5",
    "execution": {
     "iopub.execute_input": "2025-09-08T08:35:58.055321Z",
     "iopub.status.busy": "2025-09-08T08:35:58.055086Z",
     "iopub.status.idle": "2025-09-08T08:36:08.447785Z",
     "shell.execute_reply": "2025-09-08T08:36:08.446947Z"
    },
    "papermill": {
     "duration": 10.398463,
     "end_time": "2025-09-08T08:36:08.449020",
     "exception": false,
     "start_time": "2025-09-08T08:35:58.050557",
     "status": "completed"
    },
    "tags": []
   },
   "outputs": [
    {
     "name": "stdout",
     "output_type": "stream",
     "text": [
      "Batting Subclasses: ['boundary_save', 'catching_a_ball', 'diving_stop', 'run_out', 'stumping']\n",
      "Train samples: 1917 Val samples: 504 Test samples: 630\n"
     ]
    }
   ],
   "source": [
    "import torch\n",
    "from torch.utils.data import DataLoader\n",
    "from torchvision import datasets, transforms\n",
    "\n",
    "# -----------------------------\n",
    "# 1. Data Preprocessing (Batting Subclasses)\n",
    "# -----------------------------\n",
    "base_dir = \"/kaggle/input/ju-cricket/Cricket_Dataset_final/Task_B\"\n",
    "\n",
    "transform = transforms.Compose([\n",
    "    transforms.Resize((224, 224)),   \n",
    "    transforms.ToTensor(),\n",
    "    transforms.Normalize([0.485, 0.456, 0.406], \n",
    "                         [0.229, 0.224, 0.225])\n",
    "])\n",
    "\n",
    "# Point directly inside Batting folder\n",
    "train_ds = datasets.ImageFolder(f\"{base_dir}/train/Fielding\", transform=transform)\n",
    "val_ds   = datasets.ImageFolder(f\"{base_dir}/val/Fielding\", transform=transform)\n",
    "test_ds  = datasets.ImageFolder(f\"{base_dir}/test/Fielding\", transform=transform)\n",
    "\n",
    "train_loader = DataLoader(train_ds, batch_size=32, shuffle=True)\n",
    "val_loader   = DataLoader(val_ds, batch_size=32, shuffle=False)\n",
    "test_loader  = DataLoader(test_ds, batch_size=32, shuffle=False)\n",
    "\n",
    "classes = train_ds.classes\n",
    "print(\"Batting Subclasses:\", classes)\n",
    "print(\"Train samples:\", len(train_ds), \"Val samples:\", len(val_ds), \"Test samples:\", len(test_ds))\n"
   ]
  },
  {
   "cell_type": "code",
   "execution_count": 2,
   "id": "e178e797",
   "metadata": {
    "execution": {
     "iopub.execute_input": "2025-09-08T08:36:08.455519Z",
     "iopub.status.busy": "2025-09-08T08:36:08.455210Z",
     "iopub.status.idle": "2025-09-08T08:36:08.459606Z",
     "shell.execute_reply": "2025-09-08T08:36:08.459012Z"
    },
    "papermill": {
     "duration": 0.008736,
     "end_time": "2025-09-08T08:36:08.460691",
     "exception": false,
     "start_time": "2025-09-08T08:36:08.451955",
     "status": "completed"
    },
    "tags": []
   },
   "outputs": [
    {
     "name": "stdout",
     "output_type": "stream",
     "text": [
      "Total training images: 1917\n",
      "Total validation images: 504\n",
      "Total test images: 630\n",
      "Total images in dataset: 3051\n"
     ]
    }
   ],
   "source": [
    "print(\"Total training images:\", len(train_ds))\n",
    "print(\"Total validation images:\", len(val_ds))\n",
    "print(\"Total test images:\", len(test_ds))\n",
    "\n",
    "total_images = len(train_ds) + len(val_ds) + len(test_ds)\n",
    "print(\"Total images in dataset:\", total_images)"
   ]
  },
  {
   "cell_type": "code",
   "execution_count": 3,
   "id": "79a53d87",
   "metadata": {
    "execution": {
     "iopub.execute_input": "2025-09-08T08:36:08.466478Z",
     "iopub.status.busy": "2025-09-08T08:36:08.466275Z",
     "iopub.status.idle": "2025-09-08T08:36:08.473166Z",
     "shell.execute_reply": "2025-09-08T08:36:08.472612Z"
    },
    "papermill": {
     "duration": 0.01085,
     "end_time": "2025-09-08T08:36:08.474128",
     "exception": false,
     "start_time": "2025-09-08T08:36:08.463278",
     "status": "completed"
    },
    "tags": []
   },
   "outputs": [
    {
     "name": "stdout",
     "output_type": "stream",
     "text": [
      "Training images (excluding 'random_occlusion'): 1704\n",
      "Validation images (excluding 'random_occlusion'): 448\n",
      "Test images (excluding 'random_occlusion'): 560\n",
      "Total images (excluding 'random_occlusion'): 2712\n"
     ]
    }
   ],
   "source": [
    "ignore_folder = \"random_occlusion\"\n",
    "\n",
    "def count_images_ignore_folder(dataset, ignore_folder):\n",
    "    count = 0\n",
    "    for img_path, label in dataset.samples:\n",
    "        # Skip if the image path contains the ignore_folder\n",
    "        if ignore_folder not in img_path.split(\"/\"):\n",
    "            count += 1\n",
    "    return count\n",
    "\n",
    "train_count = count_images_ignore_folder(train_ds, ignore_folder)\n",
    "val_count   = count_images_ignore_folder(val_ds, ignore_folder)\n",
    "test_count  = count_images_ignore_folder(test_ds, ignore_folder)\n",
    "\n",
    "total_count = train_count + val_count + test_count\n",
    "\n",
    "print(\"Training images (excluding '{}'): {}\".format(ignore_folder, train_count))\n",
    "print(\"Validation images (excluding '{}'): {}\".format(ignore_folder, val_count))\n",
    "print(\"Test images (excluding '{}'): {}\".format(ignore_folder, test_count))\n",
    "print(\"Total images (excluding '{}'): {}\".format(ignore_folder, total_count))"
   ]
  },
  {
   "cell_type": "code",
   "execution_count": 4,
   "id": "910953d7",
   "metadata": {
    "execution": {
     "iopub.execute_input": "2025-09-08T08:36:08.480237Z",
     "iopub.status.busy": "2025-09-08T08:36:08.479791Z",
     "iopub.status.idle": "2025-09-08T08:36:08.487634Z",
     "shell.execute_reply": "2025-09-08T08:36:08.487077Z"
    },
    "papermill": {
     "duration": 0.011866,
     "end_time": "2025-09-08T08:36:08.488676",
     "exception": false,
     "start_time": "2025-09-08T08:36:08.476810",
     "status": "completed"
    },
    "tags": []
   },
   "outputs": [
    {
     "name": "stdout",
     "output_type": "stream",
     "text": [
      "Training folders considered: {'random_occlusion', 'motion_blur', 'blur', 'lens_flare', 'chromatic_aberration', 'low_resolution', 'gaussian_noise', 'dirty_lens', 'original'}\n",
      "Validation folders considered: {'random_occlusion', 'motion_blur', 'blur', 'lens_flare', 'chromatic_aberration', 'low_resolution', 'gaussian_noise', 'dirty_lens', 'original'}\n",
      "Test folders considered: {'random_occlusion', 'motion_blur', 'blur', 'lens_flare', 'chromatic_aberration', 'low_resolution', 'gaussian_noise', 'dirty_lens', 'original'}\n"
     ]
    }
   ],
   "source": [
    "ignore_folder = \"random_occlusionw\"\n",
    "\n",
    "def get_included_folders(dataset, ignore_folder):\n",
    "    included = set()\n",
    "    for img_path, label in dataset.samples:\n",
    "        # Split the path into parts and ignore if ignore_folder is in the path\n",
    "        if ignore_folder not in img_path.split(\"/\"):\n",
    "            # The folder name just above the image (or the class folder)\n",
    "            folder_name = img_path.split(\"/\")[-2]\n",
    "            included.add(folder_name)\n",
    "    return included\n",
    "\n",
    "train_folders = get_included_folders(train_ds, ignore_folder)\n",
    "val_folders   = get_included_folders(val_ds, ignore_folder)\n",
    "test_folders  = get_included_folders(test_ds, ignore_folder)\n",
    "\n",
    "print(\"Training folders considered:\", train_folders)\n",
    "print(\"Validation folders considered:\", val_folders)\n",
    "print(\"Test folders considered:\", test_folders)"
   ]
  },
  {
   "cell_type": "code",
   "execution_count": 5,
   "id": "a26f122d",
   "metadata": {
    "execution": {
     "iopub.execute_input": "2025-09-08T08:36:08.494986Z",
     "iopub.status.busy": "2025-09-08T08:36:08.494758Z",
     "iopub.status.idle": "2025-09-08T08:36:08.579465Z",
     "shell.execute_reply": "2025-09-08T08:36:08.578886Z"
    },
    "papermill": {
     "duration": 0.08908,
     "end_time": "2025-09-08T08:36:08.580481",
     "exception": false,
     "start_time": "2025-09-08T08:36:08.491401",
     "status": "completed"
    },
    "tags": []
   },
   "outputs": [
    {
     "name": "stdout",
     "output_type": "stream",
     "text": [
      "Classes: ['boundary_save', 'catching_a_ball', 'diving_stop', 'run_out', 'stumping']\n",
      "Final Training images: 1704\n",
      "Final Validation images: 448\n",
      "Final Test images: 560\n",
      "Total images after filtering: 2712\n"
     ]
    }
   ],
   "source": [
    "ignore_folder = \"random_occlusion\"\n",
    "\n",
    "def filter_samples(dataset, ignore_folder):\n",
    "    # Keep only samples where ignore_folder is NOT in the path\n",
    "    filtered_samples = [s for s in dataset.samples if ignore_folder not in s[0].split(\"/\")]\n",
    "    dataset.samples = filtered_samples\n",
    "    dataset.targets = [s[1] for s in filtered_samples]  # Update targets accordingly\n",
    "    return dataset\n",
    "\n",
    "# Create original datasets\n",
    "train_ds = datasets.ImageFolder(f\"{base_dir}/train/Fielding\", transform=transform)\n",
    "val_ds   = datasets.ImageFolder(f\"{base_dir}/val/Fielding\", transform=transform)\n",
    "test_ds  = datasets.ImageFolder(f\"{base_dir}/test/Fielding\", transform=transform)\n",
    "\n",
    "# Filter out 'random_occlusion' folder\n",
    "train_ds = filter_samples(train_ds, ignore_folder)\n",
    "val_ds   = filter_samples(val_ds, ignore_folder)\n",
    "test_ds  = filter_samples(test_ds, ignore_folder)\n",
    "\n",
    "# DataLoaders\n",
    "train_loader = DataLoader(train_ds, batch_size=32, shuffle=True)\n",
    "val_loader   = DataLoader(val_ds, batch_size=32, shuffle=False)\n",
    "test_loader  = DataLoader(test_ds, batch_size=32, shuffle=False)\n",
    "\n",
    "# Classes (will remain the same)\n",
    "classes = train_ds.classes\n",
    "print(\"Classes:\", classes)\n",
    "\n",
    "# Show counts\n",
    "print(\"Final Training images:\", len(train_ds))\n",
    "print(\"Final Validation images:\", len(val_ds))\n",
    "print(\"Final Test images:\", len(test_ds))\n",
    "print(\"Total images after filtering:\", len(train_ds) + len(val_ds) + len(test_ds))"
   ]
  },
  {
   "cell_type": "code",
   "execution_count": 6,
   "id": "a11fcb30",
   "metadata": {
    "execution": {
     "iopub.execute_input": "2025-09-08T08:36:08.586615Z",
     "iopub.status.busy": "2025-09-08T08:36:08.586437Z",
     "iopub.status.idle": "2025-09-08T08:36:08.594070Z",
     "shell.execute_reply": "2025-09-08T08:36:08.593356Z"
    },
    "papermill": {
     "duration": 0.011984,
     "end_time": "2025-09-08T08:36:08.595175",
     "exception": false,
     "start_time": "2025-09-08T08:36:08.583191",
     "status": "completed"
    },
    "tags": []
   },
   "outputs": [
    {
     "name": "stdout",
     "output_type": "stream",
     "text": [
      "Training folders considered: {'motion_blur', 'blur', 'lens_flare', 'chromatic_aberration', 'low_resolution', 'gaussian_noise', 'dirty_lens', 'original'}\n",
      "Validation folders considered: {'motion_blur', 'blur', 'lens_flare', 'chromatic_aberration', 'low_resolution', 'gaussian_noise', 'dirty_lens', 'original'}\n",
      "Test folders considered: {'motion_blur', 'blur', 'lens_flare', 'chromatic_aberration', 'low_resolution', 'gaussian_noise', 'dirty_lens', 'original'}\n"
     ]
    }
   ],
   "source": [
    "ignore_folder = \"random_occlusion\"\n",
    "\n",
    "def get_included_folders(dataset, ignore_folder):\n",
    "    included = set()\n",
    "    for img_path, label in dataset.samples:\n",
    "        # Split the path into parts and ignore if ignore_folder is in the path\n",
    "        if ignore_folder not in img_path.split(\"/\"):\n",
    "            # The folder name just above the image (or the class folder)\n",
    "            folder_name = img_path.split(\"/\")[-2]\n",
    "            included.add(folder_name)\n",
    "    return included\n",
    "\n",
    "train_folders = get_included_folders(train_ds, ignore_folder)\n",
    "val_folders   = get_included_folders(val_ds, ignore_folder)\n",
    "test_folders  = get_included_folders(test_ds, ignore_folder)\n",
    "\n",
    "print(\"Training folders considered:\", train_folders)\n",
    "print(\"Validation folders considered:\", val_folders)\n",
    "print(\"Test folders considered:\", test_folders)"
   ]
  },
  {
   "cell_type": "code",
   "execution_count": 7,
   "id": "64d6dbde",
   "metadata": {
    "execution": {
     "iopub.execute_input": "2025-09-08T08:36:08.601527Z",
     "iopub.status.busy": "2025-09-08T08:36:08.601080Z",
     "iopub.status.idle": "2025-09-08T08:36:11.611076Z",
     "shell.execute_reply": "2025-09-08T08:36:11.610482Z"
    },
    "papermill": {
     "duration": 3.014309,
     "end_time": "2025-09-08T08:36:11.612287",
     "exception": false,
     "start_time": "2025-09-08T08:36:08.597978",
     "status": "completed"
    },
    "tags": []
   },
   "outputs": [],
   "source": [
    "import seaborn as sns\n",
    "import numpy as np\n",
    "import time\n",
    "from tqdm import tqdm"
   ]
  },
  {
   "cell_type": "code",
   "execution_count": 8,
   "id": "83140d20",
   "metadata": {
    "execution": {
     "iopub.execute_input": "2025-09-08T08:36:11.619277Z",
     "iopub.status.busy": "2025-09-08T08:36:11.618988Z",
     "iopub.status.idle": "2025-09-08T08:36:11.826506Z",
     "shell.execute_reply": "2025-09-08T08:36:11.825720Z"
    },
    "papermill": {
     "duration": 0.212599,
     "end_time": "2025-09-08T08:36:11.827961",
     "exception": false,
     "start_time": "2025-09-08T08:36:11.615362",
     "status": "completed"
    },
    "tags": []
   },
   "outputs": [],
   "source": [
    "# -----------------------------\n",
    "# 2. Define ResNet50 Model from Scratch\n",
    "# -----------------------------\n",
    "import torch\n",
    "import torch.nn as nn\n",
    "import torch.nn.functional as F\n",
    "import numpy as np\n",
    "import matplotlib.pyplot as plt\n",
    "import seaborn as sns\n",
    "from torchsummary import summary\n",
    "from sklearn.metrics import accuracy_score, classification_report, confusion_matrix\n",
    "import pandas as pd\n",
    "from tqdm import tqdm\n",
    "import time\n",
    "\n",
    "class Bottleneck(nn.Module):\n",
    "    \"\"\"Bottleneck block for ResNet50\"\"\"\n",
    "    expansion = 4\n",
    "    \n",
    "    def __init__(self, inplanes, planes, stride=1, downsample=None):\n",
    "        super().__init__()\n",
    "        self.conv1 = nn.Conv2d(inplanes, planes, kernel_size=1, bias=False)\n",
    "        self.bn1 = nn.BatchNorm2d(planes)\n",
    "        self.conv2 = nn.Conv2d(planes, planes, kernel_size=3, stride=stride, padding=1, bias=False)\n",
    "        self.bn2 = nn.BatchNorm2d(planes)\n",
    "        self.conv3 = nn.Conv2d(planes, planes * self.expansion, kernel_size=1, bias=False)\n",
    "        self.bn3 = nn.BatchNorm2d(planes * self.expansion)\n",
    "        self.relu = nn.ReLU(inplace=True)\n",
    "        self.downsample = downsample\n",
    "        self.stride = stride\n",
    "    \n",
    "    def forward(self, x):\n",
    "        identity = x\n",
    "        \n",
    "        out = self.conv1(x)\n",
    "        out = self.bn1(out)\n",
    "        out = self.relu(out)\n",
    "        \n",
    "        out = self.conv2(out)\n",
    "        out = self.bn2(out)\n",
    "        out = self.relu(out)\n",
    "        \n",
    "        out = self.conv3(out)\n",
    "        out = self.bn3(out)\n",
    "        \n",
    "        if self.downsample is not None:\n",
    "            identity = self.downsample(x)\n",
    "        \n",
    "        out += identity\n",
    "        out = self.relu(out)\n",
    "        \n",
    "        return out\n",
    "\n",
    "class MyResNet50(nn.Module):\n",
    "    \"\"\"ResNet50 Implementation from Scratch\"\"\"\n",
    "    def __init__(self, num_classes=4, zero_init_residual=False):\n",
    "        super().__init__()\n",
    "        self.inplanes = 64\n",
    "        \n",
    "        # Initial convolution and pooling layers\n",
    "        self.conv1 = nn.Conv2d(3, 64, kernel_size=7, stride=2, padding=3, bias=False)\n",
    "        self.bn1 = nn.BatchNorm2d(64)\n",
    "        self.relu = nn.ReLU(inplace=True)\n",
    "        self.maxpool = nn.MaxPool2d(kernel_size=3, stride=2, padding=1)\n",
    "        \n",
    "        # Residual layers\n",
    "        self.layer1 = self._make_layer(64, 3)\n",
    "        self.layer2 = self._make_layer(128, 4, stride=2)\n",
    "        self.layer3 = self._make_layer(256, 6, stride=2)\n",
    "        self.layer4 = self._make_layer(512, 3, stride=2)\n",
    "        \n",
    "        # Final layers\n",
    "        self.avgpool = nn.AdaptiveAvgPool2d((1, 1))\n",
    "        self.fc = nn.Linear(512 * Bottleneck.expansion, num_classes)\n",
    "        \n",
    "        # Initialize weights\n",
    "        self._initialize_weights(zero_init_residual)\n",
    "    \n",
    "    def _make_layer(self, planes, blocks, stride=1):\n",
    "        \"\"\"Create a residual layer with specified number of blocks\"\"\"\n",
    "        downsample = None\n",
    "        if stride != 1 or self.inplanes != planes * Bottleneck.expansion:\n",
    "            downsample = nn.Sequential(\n",
    "                nn.Conv2d(self.inplanes, planes * Bottleneck.expansion,\n",
    "                          kernel_size=1, stride=stride, bias=False),\n",
    "                nn.BatchNorm2d(planes * Bottleneck.expansion),\n",
    "            )\n",
    "        \n",
    "        layers = []\n",
    "        layers.append(Bottleneck(self.inplanes, planes, stride, downsample))\n",
    "        self.inplanes = planes * Bottleneck.expansion\n",
    "        for _ in range(1, blocks):\n",
    "            layers.append(Bottleneck(self.inplanes, planes))\n",
    "        \n",
    "        return nn.Sequential(*layers)\n",
    "    \n",
    "    def _initialize_weights(self, zero_init_residual):\n",
    "        \"\"\"Initialize weights using He initialization\"\"\"\n",
    "        for m in self.modules():\n",
    "            if isinstance(m, nn.Conv2d):\n",
    "                nn.init.kaiming_normal_(m.weight, mode='fan_out', nonlinearity='relu')\n",
    "            elif isinstance(m, (nn.BatchNorm2d, nn.GroupNorm)):\n",
    "                nn.init.constant_(m.weight, 1)\n",
    "                nn.init.constant_(m.bias, 0)\n",
    "            elif isinstance(m, nn.Linear):\n",
    "                nn.init.normal_(m.weight, 0, 0.01)\n",
    "                nn.init.constant_(m.bias, 0)\n",
    "        \n",
    "        # Zero-initialize the last BN in each residual branch for better training\n",
    "        if zero_init_residual:\n",
    "            for m in self.modules():\n",
    "                if isinstance(m, Bottleneck):\n",
    "                    nn.init.constant_(m.bn3.weight, 0)\n",
    "    \n",
    "    def forward(self, x):\n",
    "        x = self.conv1(x)\n",
    "        x = self.bn1(x)\n",
    "        x = self.relu(x)\n",
    "        x = self.maxpool(x)\n",
    "        \n",
    "        x = self.layer1(x)\n",
    "        x = self.layer2(x)\n",
    "        x = self.layer3(x)\n",
    "        x = self.layer4(x)\n",
    "        \n",
    "        x = self.avgpool(x)\n",
    "        x = torch.flatten(x, 1)\n",
    "        x = self.fc(x)\n",
    "        \n",
    "        return x"
   ]
  },
  {
   "cell_type": "code",
   "execution_count": 9,
   "id": "ac6421d0",
   "metadata": {
    "execution": {
     "iopub.execute_input": "2025-09-08T08:36:11.834789Z",
     "iopub.status.busy": "2025-09-08T08:36:11.834519Z",
     "iopub.status.idle": "2025-09-08T08:36:13.379943Z",
     "shell.execute_reply": "2025-09-08T08:36:13.379119Z"
    },
    "papermill": {
     "duration": 1.550935,
     "end_time": "2025-09-08T08:36:13.382111",
     "exception": false,
     "start_time": "2025-09-08T08:36:11.831176",
     "status": "completed"
    },
    "tags": []
   },
   "outputs": [
    {
     "name": "stdout",
     "output_type": "stream",
     "text": [
      "ResNet50 Model Summary:\n",
      "----------------------------------------------------------------\n",
      "        Layer (type)               Output Shape         Param #\n",
      "================================================================\n",
      "            Conv2d-1         [-1, 64, 112, 112]           9,408\n",
      "       BatchNorm2d-2         [-1, 64, 112, 112]             128\n",
      "              ReLU-3         [-1, 64, 112, 112]               0\n",
      "         MaxPool2d-4           [-1, 64, 56, 56]               0\n",
      "            Conv2d-5           [-1, 64, 56, 56]           4,096\n",
      "       BatchNorm2d-6           [-1, 64, 56, 56]             128\n",
      "              ReLU-7           [-1, 64, 56, 56]               0\n",
      "            Conv2d-8           [-1, 64, 56, 56]          36,864\n",
      "       BatchNorm2d-9           [-1, 64, 56, 56]             128\n",
      "             ReLU-10           [-1, 64, 56, 56]               0\n",
      "           Conv2d-11          [-1, 256, 56, 56]          16,384\n",
      "      BatchNorm2d-12          [-1, 256, 56, 56]             512\n",
      "           Conv2d-13          [-1, 256, 56, 56]          16,384\n",
      "      BatchNorm2d-14          [-1, 256, 56, 56]             512\n",
      "             ReLU-15          [-1, 256, 56, 56]               0\n",
      "       Bottleneck-16          [-1, 256, 56, 56]               0\n",
      "           Conv2d-17           [-1, 64, 56, 56]          16,384\n",
      "      BatchNorm2d-18           [-1, 64, 56, 56]             128\n",
      "             ReLU-19           [-1, 64, 56, 56]               0\n",
      "           Conv2d-20           [-1, 64, 56, 56]          36,864\n",
      "      BatchNorm2d-21           [-1, 64, 56, 56]             128\n",
      "             ReLU-22           [-1, 64, 56, 56]               0\n",
      "           Conv2d-23          [-1, 256, 56, 56]          16,384\n",
      "      BatchNorm2d-24          [-1, 256, 56, 56]             512\n",
      "             ReLU-25          [-1, 256, 56, 56]               0\n",
      "       Bottleneck-26          [-1, 256, 56, 56]               0\n",
      "           Conv2d-27           [-1, 64, 56, 56]          16,384\n",
      "      BatchNorm2d-28           [-1, 64, 56, 56]             128\n",
      "             ReLU-29           [-1, 64, 56, 56]               0\n",
      "           Conv2d-30           [-1, 64, 56, 56]          36,864\n",
      "      BatchNorm2d-31           [-1, 64, 56, 56]             128\n",
      "             ReLU-32           [-1, 64, 56, 56]               0\n",
      "           Conv2d-33          [-1, 256, 56, 56]          16,384\n",
      "      BatchNorm2d-34          [-1, 256, 56, 56]             512\n",
      "             ReLU-35          [-1, 256, 56, 56]               0\n",
      "       Bottleneck-36          [-1, 256, 56, 56]               0\n",
      "           Conv2d-37          [-1, 128, 56, 56]          32,768\n",
      "      BatchNorm2d-38          [-1, 128, 56, 56]             256\n",
      "             ReLU-39          [-1, 128, 56, 56]               0\n",
      "           Conv2d-40          [-1, 128, 28, 28]         147,456\n",
      "      BatchNorm2d-41          [-1, 128, 28, 28]             256\n",
      "             ReLU-42          [-1, 128, 28, 28]               0\n",
      "           Conv2d-43          [-1, 512, 28, 28]          65,536\n",
      "      BatchNorm2d-44          [-1, 512, 28, 28]           1,024\n",
      "           Conv2d-45          [-1, 512, 28, 28]         131,072\n",
      "      BatchNorm2d-46          [-1, 512, 28, 28]           1,024\n",
      "             ReLU-47          [-1, 512, 28, 28]               0\n",
      "       Bottleneck-48          [-1, 512, 28, 28]               0\n",
      "           Conv2d-49          [-1, 128, 28, 28]          65,536\n",
      "      BatchNorm2d-50          [-1, 128, 28, 28]             256\n",
      "             ReLU-51          [-1, 128, 28, 28]               0\n",
      "           Conv2d-52          [-1, 128, 28, 28]         147,456\n",
      "      BatchNorm2d-53          [-1, 128, 28, 28]             256\n",
      "             ReLU-54          [-1, 128, 28, 28]               0\n",
      "           Conv2d-55          [-1, 512, 28, 28]          65,536\n",
      "      BatchNorm2d-56          [-1, 512, 28, 28]           1,024\n",
      "             ReLU-57          [-1, 512, 28, 28]               0\n",
      "       Bottleneck-58          [-1, 512, 28, 28]               0\n",
      "           Conv2d-59          [-1, 128, 28, 28]          65,536\n",
      "      BatchNorm2d-60          [-1, 128, 28, 28]             256\n",
      "             ReLU-61          [-1, 128, 28, 28]               0\n",
      "           Conv2d-62          [-1, 128, 28, 28]         147,456\n",
      "      BatchNorm2d-63          [-1, 128, 28, 28]             256\n",
      "             ReLU-64          [-1, 128, 28, 28]               0\n",
      "           Conv2d-65          [-1, 512, 28, 28]          65,536\n",
      "      BatchNorm2d-66          [-1, 512, 28, 28]           1,024\n",
      "             ReLU-67          [-1, 512, 28, 28]               0\n",
      "       Bottleneck-68          [-1, 512, 28, 28]               0\n",
      "           Conv2d-69          [-1, 128, 28, 28]          65,536\n",
      "      BatchNorm2d-70          [-1, 128, 28, 28]             256\n",
      "             ReLU-71          [-1, 128, 28, 28]               0\n",
      "           Conv2d-72          [-1, 128, 28, 28]         147,456\n",
      "      BatchNorm2d-73          [-1, 128, 28, 28]             256\n",
      "             ReLU-74          [-1, 128, 28, 28]               0\n",
      "           Conv2d-75          [-1, 512, 28, 28]          65,536\n",
      "      BatchNorm2d-76          [-1, 512, 28, 28]           1,024\n",
      "             ReLU-77          [-1, 512, 28, 28]               0\n",
      "       Bottleneck-78          [-1, 512, 28, 28]               0\n",
      "           Conv2d-79          [-1, 256, 28, 28]         131,072\n",
      "      BatchNorm2d-80          [-1, 256, 28, 28]             512\n",
      "             ReLU-81          [-1, 256, 28, 28]               0\n",
      "           Conv2d-82          [-1, 256, 14, 14]         589,824\n",
      "      BatchNorm2d-83          [-1, 256, 14, 14]             512\n",
      "             ReLU-84          [-1, 256, 14, 14]               0\n",
      "           Conv2d-85         [-1, 1024, 14, 14]         262,144\n",
      "      BatchNorm2d-86         [-1, 1024, 14, 14]           2,048\n",
      "           Conv2d-87         [-1, 1024, 14, 14]         524,288\n",
      "      BatchNorm2d-88         [-1, 1024, 14, 14]           2,048\n",
      "             ReLU-89         [-1, 1024, 14, 14]               0\n",
      "       Bottleneck-90         [-1, 1024, 14, 14]               0\n",
      "           Conv2d-91          [-1, 256, 14, 14]         262,144\n",
      "      BatchNorm2d-92          [-1, 256, 14, 14]             512\n",
      "             ReLU-93          [-1, 256, 14, 14]               0\n",
      "           Conv2d-94          [-1, 256, 14, 14]         589,824\n",
      "      BatchNorm2d-95          [-1, 256, 14, 14]             512\n",
      "             ReLU-96          [-1, 256, 14, 14]               0\n",
      "           Conv2d-97         [-1, 1024, 14, 14]         262,144\n",
      "      BatchNorm2d-98         [-1, 1024, 14, 14]           2,048\n",
      "             ReLU-99         [-1, 1024, 14, 14]               0\n",
      "      Bottleneck-100         [-1, 1024, 14, 14]               0\n",
      "          Conv2d-101          [-1, 256, 14, 14]         262,144\n",
      "     BatchNorm2d-102          [-1, 256, 14, 14]             512\n",
      "            ReLU-103          [-1, 256, 14, 14]               0\n",
      "          Conv2d-104          [-1, 256, 14, 14]         589,824\n",
      "     BatchNorm2d-105          [-1, 256, 14, 14]             512\n",
      "            ReLU-106          [-1, 256, 14, 14]               0\n",
      "          Conv2d-107         [-1, 1024, 14, 14]         262,144\n",
      "     BatchNorm2d-108         [-1, 1024, 14, 14]           2,048\n",
      "            ReLU-109         [-1, 1024, 14, 14]               0\n",
      "      Bottleneck-110         [-1, 1024, 14, 14]               0\n",
      "          Conv2d-111          [-1, 256, 14, 14]         262,144\n",
      "     BatchNorm2d-112          [-1, 256, 14, 14]             512\n",
      "            ReLU-113          [-1, 256, 14, 14]               0\n",
      "          Conv2d-114          [-1, 256, 14, 14]         589,824\n",
      "     BatchNorm2d-115          [-1, 256, 14, 14]             512\n",
      "            ReLU-116          [-1, 256, 14, 14]               0\n",
      "          Conv2d-117         [-1, 1024, 14, 14]         262,144\n",
      "     BatchNorm2d-118         [-1, 1024, 14, 14]           2,048\n",
      "            ReLU-119         [-1, 1024, 14, 14]               0\n",
      "      Bottleneck-120         [-1, 1024, 14, 14]               0\n",
      "          Conv2d-121          [-1, 256, 14, 14]         262,144\n",
      "     BatchNorm2d-122          [-1, 256, 14, 14]             512\n",
      "            ReLU-123          [-1, 256, 14, 14]               0\n",
      "          Conv2d-124          [-1, 256, 14, 14]         589,824\n",
      "     BatchNorm2d-125          [-1, 256, 14, 14]             512\n",
      "            ReLU-126          [-1, 256, 14, 14]               0\n",
      "          Conv2d-127         [-1, 1024, 14, 14]         262,144\n",
      "     BatchNorm2d-128         [-1, 1024, 14, 14]           2,048\n",
      "            ReLU-129         [-1, 1024, 14, 14]               0\n",
      "      Bottleneck-130         [-1, 1024, 14, 14]               0\n",
      "          Conv2d-131          [-1, 256, 14, 14]         262,144\n",
      "     BatchNorm2d-132          [-1, 256, 14, 14]             512\n",
      "            ReLU-133          [-1, 256, 14, 14]               0\n",
      "          Conv2d-134          [-1, 256, 14, 14]         589,824\n",
      "     BatchNorm2d-135          [-1, 256, 14, 14]             512\n",
      "            ReLU-136          [-1, 256, 14, 14]               0\n",
      "          Conv2d-137         [-1, 1024, 14, 14]         262,144\n",
      "     BatchNorm2d-138         [-1, 1024, 14, 14]           2,048\n",
      "            ReLU-139         [-1, 1024, 14, 14]               0\n",
      "      Bottleneck-140         [-1, 1024, 14, 14]               0\n",
      "          Conv2d-141          [-1, 512, 14, 14]         524,288\n",
      "     BatchNorm2d-142          [-1, 512, 14, 14]           1,024\n",
      "            ReLU-143          [-1, 512, 14, 14]               0\n",
      "          Conv2d-144            [-1, 512, 7, 7]       2,359,296\n",
      "     BatchNorm2d-145            [-1, 512, 7, 7]           1,024\n",
      "            ReLU-146            [-1, 512, 7, 7]               0\n",
      "          Conv2d-147           [-1, 2048, 7, 7]       1,048,576\n",
      "     BatchNorm2d-148           [-1, 2048, 7, 7]           4,096\n",
      "          Conv2d-149           [-1, 2048, 7, 7]       2,097,152\n",
      "     BatchNorm2d-150           [-1, 2048, 7, 7]           4,096\n",
      "            ReLU-151           [-1, 2048, 7, 7]               0\n",
      "      Bottleneck-152           [-1, 2048, 7, 7]               0\n",
      "          Conv2d-153            [-1, 512, 7, 7]       1,048,576\n",
      "     BatchNorm2d-154            [-1, 512, 7, 7]           1,024\n",
      "            ReLU-155            [-1, 512, 7, 7]               0\n",
      "          Conv2d-156            [-1, 512, 7, 7]       2,359,296\n",
      "     BatchNorm2d-157            [-1, 512, 7, 7]           1,024\n",
      "            ReLU-158            [-1, 512, 7, 7]               0\n",
      "          Conv2d-159           [-1, 2048, 7, 7]       1,048,576\n",
      "     BatchNorm2d-160           [-1, 2048, 7, 7]           4,096\n",
      "            ReLU-161           [-1, 2048, 7, 7]               0\n",
      "      Bottleneck-162           [-1, 2048, 7, 7]               0\n",
      "          Conv2d-163            [-1, 512, 7, 7]       1,048,576\n",
      "     BatchNorm2d-164            [-1, 512, 7, 7]           1,024\n",
      "            ReLU-165            [-1, 512, 7, 7]               0\n",
      "          Conv2d-166            [-1, 512, 7, 7]       2,359,296\n",
      "     BatchNorm2d-167            [-1, 512, 7, 7]           1,024\n",
      "            ReLU-168            [-1, 512, 7, 7]               0\n",
      "          Conv2d-169           [-1, 2048, 7, 7]       1,048,576\n",
      "     BatchNorm2d-170           [-1, 2048, 7, 7]           4,096\n",
      "            ReLU-171           [-1, 2048, 7, 7]               0\n",
      "      Bottleneck-172           [-1, 2048, 7, 7]               0\n",
      "AdaptiveAvgPool2d-173           [-1, 2048, 1, 1]               0\n",
      "          Linear-174                    [-1, 5]          10,245\n",
      "================================================================\n",
      "Total params: 23,518,277\n",
      "Trainable params: 23,518,277\n",
      "Non-trainable params: 0\n",
      "----------------------------------------------------------------\n",
      "Input size (MB): 0.57\n",
      "Forward/backward pass size (MB): 286.55\n",
      "Params size (MB): 89.72\n",
      "Estimated Total Size (MB): 376.84\n",
      "----------------------------------------------------------------\n"
     ]
    }
   ],
   "source": [
    "# -----------------------------\n",
    "# 3. Training Setup\n",
    "# -----------------------------\n",
    "device = torch.device(\"cuda\" if torch.cuda.is_available() else \"cpu\")\n",
    "model = MyResNet50(num_classes=len(classes), zero_init_residual=True).to(device)\n",
    "criterion = nn.CrossEntropyLoss()\n",
    "optimizer = torch.optim.SGD(model.parameters(), lr=0.1, momentum=0.9, weight_decay=1e-4)\n",
    "\n",
    "print(\"ResNet50 Model Summary:\")\n",
    "try:\n",
    "    summary(model, (3, 224, 224))\n",
    "except:\n",
    "    print(\"Model summary generation failed - this is normal for complex architectures\")\n",
    "    print(f\"Model created successfully with {sum(p.numel() for p in model.parameters()):,} parameters\")"
   ]
  },
  {
   "cell_type": "code",
   "execution_count": 10,
   "id": "bf47ddab",
   "metadata": {
    "execution": {
     "iopub.execute_input": "2025-09-08T08:36:13.389934Z",
     "iopub.status.busy": "2025-09-08T08:36:13.389668Z",
     "iopub.status.idle": "2025-09-08T09:04:55.129450Z",
     "shell.execute_reply": "2025-09-08T09:04:55.128738Z"
    },
    "papermill": {
     "duration": 1721.746854,
     "end_time": "2025-09-08T09:04:55.132372",
     "exception": false,
     "start_time": "2025-09-08T08:36:13.385518",
     "status": "completed"
    },
    "tags": []
   },
   "outputs": [
    {
     "name": "stdout",
     "output_type": "stream",
     "text": [
      "\n",
      "🚀 Starting ResNet50 Training for 50 epochs...\n",
      "================================================================================\n",
      "\n",
      "📈 Epoch 1/50\n",
      "--------------------------------------------------\n",
      "🔄 Training Phase...\n"
     ]
    },
    {
     "name": "stderr",
     "output_type": "stream",
     "text": [
      "Training: 100%|██████████████████████████████| 54/54 [00:36<00:00,  1.46it/s, Loss=4.2185, Acc=0.2629]\n"
     ]
    },
    {
     "name": "stdout",
     "output_type": "stream",
     "text": [
      "✅ Training completed in 36.91s\n",
      "🔍 Validation Phase...\n"
     ]
    },
    {
     "name": "stderr",
     "output_type": "stream",
     "text": [
      "Validation: 100%|██████████████████████████████| 14/14 [00:05<00:00,  2.43it/s, Loss=1.9238, Acc=0.3371]\n"
     ]
    },
    {
     "name": "stdout",
     "output_type": "stream",
     "text": [
      "✅ Validation completed in 5.77s\n",
      "🌟 New best ResNet50 model found! Validation Accuracy: 0.3371\n",
      "\n",
      "📊 Epoch 1 Summary:\n",
      "│ Train Loss: 4.2185 | Train Acc: 0.2629\n",
      "│ Val Loss:   1.9238 | Val Acc:   0.3371\n",
      "│ Train Time: 36.91s | Val Time: 5.77s\n",
      "│ Total Epoch Time: 42.69s\n",
      "│ Best Val Acc: 0.3371 (Epoch 1)\n",
      "│ GPU Memory: 0.3GB / 3.2GB\n",
      "================================================================================\n",
      "\n",
      "📈 Epoch 2/50\n",
      "--------------------------------------------------\n",
      "🔄 Training Phase...\n"
     ]
    },
    {
     "name": "stderr",
     "output_type": "stream",
     "text": [
      "Training: 100%|██████████████████████████████| 54/54 [00:28<00:00,  1.91it/s, Loss=1.6099, Acc=0.3474]\n"
     ]
    },
    {
     "name": "stdout",
     "output_type": "stream",
     "text": [
      "✅ Training completed in 28.30s\n",
      "🔍 Validation Phase...\n"
     ]
    },
    {
     "name": "stderr",
     "output_type": "stream",
     "text": [
      "Validation: 100%|██████████████████████████████| 14/14 [00:03<00:00,  3.69it/s, Loss=1.4829, Acc=0.3594]\n"
     ]
    },
    {
     "name": "stdout",
     "output_type": "stream",
     "text": [
      "✅ Validation completed in 3.80s\n",
      "🌟 New best ResNet50 model found! Validation Accuracy: 0.3594\n",
      "\n",
      "📊 Epoch 2 Summary:\n",
      "│ Train Loss: 1.6099 | Train Acc: 0.3474\n",
      "│ Val Loss:   1.4829 | Val Acc:   0.3594\n",
      "│ Train Time: 28.30s | Val Time: 3.80s\n",
      "│ Total Epoch Time: 32.11s\n",
      "│ Best Val Acc: 0.3594 (Epoch 2)\n",
      "│ GPU Memory: 0.3GB / 3.2GB\n",
      "================================================================================\n",
      "\n",
      "📈 Epoch 3/50\n",
      "--------------------------------------------------\n",
      "🔄 Training Phase...\n"
     ]
    },
    {
     "name": "stderr",
     "output_type": "stream",
     "text": [
      "Training: 100%|██████████████████████████████| 54/54 [00:28<00:00,  1.87it/s, Loss=1.3808, Acc=0.4202]\n"
     ]
    },
    {
     "name": "stdout",
     "output_type": "stream",
     "text": [
      "✅ Training completed in 28.90s\n",
      "🔍 Validation Phase...\n"
     ]
    },
    {
     "name": "stderr",
     "output_type": "stream",
     "text": [
      "Validation: 100%|██████████████████████████████| 14/14 [00:03<00:00,  3.64it/s, Loss=1.5005, Acc=0.3705]\n"
     ]
    },
    {
     "name": "stdout",
     "output_type": "stream",
     "text": [
      "✅ Validation completed in 3.85s\n",
      "🌟 New best ResNet50 model found! Validation Accuracy: 0.3705\n",
      "\n",
      "📊 Epoch 3 Summary:\n",
      "│ Train Loss: 1.3808 | Train Acc: 0.4202\n",
      "│ Val Loss:   1.5005 | Val Acc:   0.3705\n",
      "│ Train Time: 28.90s | Val Time: 3.85s\n",
      "│ Total Epoch Time: 32.75s\n",
      "│ Best Val Acc: 0.3705 (Epoch 3)\n",
      "│ GPU Memory: 0.3GB / 3.2GB\n",
      "================================================================================\n",
      "\n",
      "📈 Epoch 4/50\n",
      "--------------------------------------------------\n",
      "🔄 Training Phase...\n"
     ]
    },
    {
     "name": "stderr",
     "output_type": "stream",
     "text": [
      "Training: 100%|██████████████████████████████| 54/54 [00:29<00:00,  1.85it/s, Loss=1.2646, Acc=0.4906]\n"
     ]
    },
    {
     "name": "stdout",
     "output_type": "stream",
     "text": [
      "✅ Training completed in 29.24s\n",
      "🔍 Validation Phase...\n"
     ]
    },
    {
     "name": "stderr",
     "output_type": "stream",
     "text": [
      "Validation: 100%|██████████████████████████████| 14/14 [00:03<00:00,  3.59it/s, Loss=1.6626, Acc=0.3929]\n"
     ]
    },
    {
     "name": "stdout",
     "output_type": "stream",
     "text": [
      "✅ Validation completed in 3.90s\n",
      "🌟 New best ResNet50 model found! Validation Accuracy: 0.3929\n",
      "\n",
      "📊 Epoch 4 Summary:\n",
      "│ Train Loss: 1.2646 | Train Acc: 0.4906\n",
      "│ Val Loss:   1.6626 | Val Acc:   0.3929\n",
      "│ Train Time: 29.24s | Val Time: 3.90s\n",
      "│ Total Epoch Time: 33.15s\n",
      "│ Best Val Acc: 0.3929 (Epoch 4)\n",
      "│ GPU Memory: 0.3GB / 3.2GB\n",
      "================================================================================\n",
      "\n",
      "📈 Epoch 5/50\n",
      "--------------------------------------------------\n",
      "🔄 Training Phase...\n"
     ]
    },
    {
     "name": "stderr",
     "output_type": "stream",
     "text": [
      "Training: 100%|██████████████████████████████| 54/54 [00:30<00:00,  1.79it/s, Loss=1.1014, Acc=0.5540]\n"
     ]
    },
    {
     "name": "stdout",
     "output_type": "stream",
     "text": [
      "✅ Training completed in 30.10s\n",
      "🔍 Validation Phase...\n"
     ]
    },
    {
     "name": "stderr",
     "output_type": "stream",
     "text": [
      "Validation: 100%|██████████████████████████████| 14/14 [00:03<00:00,  3.54it/s, Loss=1.5422, Acc=0.3884]\n"
     ]
    },
    {
     "name": "stdout",
     "output_type": "stream",
     "text": [
      "✅ Validation completed in 3.96s\n",
      "\n",
      "📊 Epoch 5 Summary:\n",
      "│ Train Loss: 1.1014 | Train Acc: 0.5540\n",
      "│ Val Loss:   1.5422 | Val Acc:   0.3884\n",
      "│ Train Time: 30.10s | Val Time: 3.96s\n",
      "│ Total Epoch Time: 34.07s\n",
      "│ Best Val Acc: 0.3929 (Epoch 4)\n",
      "│ GPU Memory: 0.3GB / 3.2GB\n",
      "================================================================================\n",
      "\n",
      "📈 Epoch 6/50\n",
      "--------------------------------------------------\n",
      "🔄 Training Phase...\n"
     ]
    },
    {
     "name": "stderr",
     "output_type": "stream",
     "text": [
      "Training: 100%|██████████████████████████████| 54/54 [00:29<00:00,  1.81it/s, Loss=0.9165, Acc=0.6373]\n"
     ]
    },
    {
     "name": "stdout",
     "output_type": "stream",
     "text": [
      "✅ Training completed in 29.90s\n",
      "🔍 Validation Phase...\n"
     ]
    },
    {
     "name": "stderr",
     "output_type": "stream",
     "text": [
      "Validation: 100%|██████████████████████████████| 14/14 [00:03<00:00,  3.58it/s, Loss=1.9146, Acc=0.3527]\n"
     ]
    },
    {
     "name": "stdout",
     "output_type": "stream",
     "text": [
      "✅ Validation completed in 3.92s\n",
      "\n",
      "📊 Epoch 6 Summary:\n",
      "│ Train Loss: 0.9165 | Train Acc: 0.6373\n",
      "│ Val Loss:   1.9146 | Val Acc:   0.3527\n",
      "│ Train Time: 29.90s | Val Time: 3.92s\n",
      "│ Total Epoch Time: 33.82s\n",
      "│ Best Val Acc: 0.3929 (Epoch 4)\n",
      "│ GPU Memory: 0.3GB / 3.2GB\n",
      "================================================================================\n",
      "\n",
      "📈 Epoch 7/50\n",
      "--------------------------------------------------\n",
      "🔄 Training Phase...\n"
     ]
    },
    {
     "name": "stderr",
     "output_type": "stream",
     "text": [
      "Training: 100%|██████████████████████████████| 54/54 [00:29<00:00,  1.81it/s, Loss=0.7171, Acc=0.7160]\n"
     ]
    },
    {
     "name": "stdout",
     "output_type": "stream",
     "text": [
      "✅ Training completed in 29.79s\n",
      "🔍 Validation Phase...\n"
     ]
    },
    {
     "name": "stderr",
     "output_type": "stream",
     "text": [
      "Validation: 100%|██████████████████████████████| 14/14 [00:03<00:00,  3.61it/s, Loss=2.4068, Acc=0.4196]\n"
     ]
    },
    {
     "name": "stdout",
     "output_type": "stream",
     "text": [
      "✅ Validation completed in 3.88s\n",
      "🌟 New best ResNet50 model found! Validation Accuracy: 0.4196\n",
      "\n",
      "📊 Epoch 7 Summary:\n",
      "│ Train Loss: 0.7171 | Train Acc: 0.7160\n",
      "│ Val Loss:   2.4068 | Val Acc:   0.4196\n",
      "│ Train Time: 29.79s | Val Time: 3.88s\n",
      "│ Total Epoch Time: 33.68s\n",
      "│ Best Val Acc: 0.4196 (Epoch 7)\n",
      "│ GPU Memory: 0.3GB / 3.2GB\n",
      "================================================================================\n",
      "\n",
      "📈 Epoch 8/50\n",
      "--------------------------------------------------\n",
      "🔄 Training Phase...\n"
     ]
    },
    {
     "name": "stderr",
     "output_type": "stream",
     "text": [
      "Training: 100%|██████████████████████████████| 54/54 [00:29<00:00,  1.80it/s, Loss=0.5265, Acc=0.8028]\n"
     ]
    },
    {
     "name": "stdout",
     "output_type": "stream",
     "text": [
      "✅ Training completed in 30.00s\n",
      "🔍 Validation Phase...\n"
     ]
    },
    {
     "name": "stderr",
     "output_type": "stream",
     "text": [
      "Validation: 100%|██████████████████████████████| 14/14 [00:03<00:00,  3.55it/s, Loss=1.9480, Acc=0.4107]\n"
     ]
    },
    {
     "name": "stdout",
     "output_type": "stream",
     "text": [
      "✅ Validation completed in 3.95s\n",
      "\n",
      "📊 Epoch 8 Summary:\n",
      "│ Train Loss: 0.5265 | Train Acc: 0.8028\n",
      "│ Val Loss:   1.9480 | Val Acc:   0.4107\n",
      "│ Train Time: 30.00s | Val Time: 3.95s\n",
      "│ Total Epoch Time: 33.95s\n",
      "│ Best Val Acc: 0.4196 (Epoch 7)\n",
      "│ GPU Memory: 0.3GB / 3.2GB\n",
      "================================================================================\n",
      "\n",
      "📈 Epoch 9/50\n",
      "--------------------------------------------------\n",
      "🔄 Training Phase...\n"
     ]
    },
    {
     "name": "stderr",
     "output_type": "stream",
     "text": [
      "Training: 100%|██████████████████████████████| 54/54 [00:30<00:00,  1.80it/s, Loss=0.3673, Acc=0.8656]\n"
     ]
    },
    {
     "name": "stdout",
     "output_type": "stream",
     "text": [
      "✅ Training completed in 30.05s\n",
      "🔍 Validation Phase...\n"
     ]
    },
    {
     "name": "stderr",
     "output_type": "stream",
     "text": [
      "Validation: 100%|██████████████████████████████| 14/14 [00:03<00:00,  3.56it/s, Loss=2.4936, Acc=0.4732]\n"
     ]
    },
    {
     "name": "stdout",
     "output_type": "stream",
     "text": [
      "✅ Validation completed in 3.93s\n",
      "🌟 New best ResNet50 model found! Validation Accuracy: 0.4732\n",
      "\n",
      "📊 Epoch 9 Summary:\n",
      "│ Train Loss: 0.3673 | Train Acc: 0.8656\n",
      "│ Val Loss:   2.4936 | Val Acc:   0.4732\n",
      "│ Train Time: 30.05s | Val Time: 3.93s\n",
      "│ Total Epoch Time: 33.99s\n",
      "│ Best Val Acc: 0.4732 (Epoch 9)\n",
      "│ GPU Memory: 0.3GB / 3.2GB\n",
      "================================================================================\n",
      "\n",
      "📈 Epoch 10/50\n",
      "--------------------------------------------------\n",
      "🔄 Training Phase...\n"
     ]
    },
    {
     "name": "stderr",
     "output_type": "stream",
     "text": [
      "Training: 100%|██████████████████████████████| 54/54 [00:30<00:00,  1.79it/s, Loss=0.3377, Acc=0.8685]\n"
     ]
    },
    {
     "name": "stdout",
     "output_type": "stream",
     "text": [
      "✅ Training completed in 30.15s\n",
      "🔍 Validation Phase...\n"
     ]
    },
    {
     "name": "stderr",
     "output_type": "stream",
     "text": [
      "Validation: 100%|██████████████████████████████| 14/14 [00:03<00:00,  3.59it/s, Loss=2.0784, Acc=0.4308]\n"
     ]
    },
    {
     "name": "stdout",
     "output_type": "stream",
     "text": [
      "✅ Validation completed in 3.90s\n",
      "\n",
      "📊 Epoch 10 Summary:\n",
      "│ Train Loss: 0.3377 | Train Acc: 0.8685\n",
      "│ Val Loss:   2.0784 | Val Acc:   0.4308\n",
      "│ Train Time: 30.15s | Val Time: 3.90s\n",
      "│ Total Epoch Time: 34.05s\n",
      "│ Best Val Acc: 0.4732 (Epoch 9)\n",
      "│ GPU Memory: 0.3GB / 3.2GB\n",
      "================================================================================\n",
      "\n",
      "📈 Epoch 11/50\n",
      "--------------------------------------------------\n",
      "🔄 Training Phase...\n"
     ]
    },
    {
     "name": "stderr",
     "output_type": "stream",
     "text": [
      "Training: 100%|██████████████████████████████| 54/54 [00:29<00:00,  1.80it/s, Loss=0.2907, Acc=0.8885]\n"
     ]
    },
    {
     "name": "stdout",
     "output_type": "stream",
     "text": [
      "✅ Training completed in 29.95s\n",
      "🔍 Validation Phase...\n"
     ]
    },
    {
     "name": "stderr",
     "output_type": "stream",
     "text": [
      "Validation: 100%|██████████████████████████████| 14/14 [00:03<00:00,  3.59it/s, Loss=2.4130, Acc=0.4799]\n"
     ]
    },
    {
     "name": "stdout",
     "output_type": "stream",
     "text": [
      "✅ Validation completed in 3.91s\n",
      "🌟 New best ResNet50 model found! Validation Accuracy: 0.4799\n",
      "\n",
      "📊 Epoch 11 Summary:\n",
      "│ Train Loss: 0.2907 | Train Acc: 0.8885\n",
      "│ Val Loss:   2.4130 | Val Acc:   0.4799\n",
      "│ Train Time: 29.95s | Val Time: 3.91s\n",
      "│ Total Epoch Time: 33.86s\n",
      "│ Best Val Acc: 0.4799 (Epoch 11)\n",
      "│ GPU Memory: 0.3GB / 3.2GB\n",
      "================================================================================\n",
      "\n",
      "📈 Epoch 12/50\n",
      "--------------------------------------------------\n",
      "🔄 Training Phase...\n"
     ]
    },
    {
     "name": "stderr",
     "output_type": "stream",
     "text": [
      "Training: 100%|██████████████████████████████| 54/54 [00:29<00:00,  1.80it/s, Loss=0.1805, Acc=0.9319]\n"
     ]
    },
    {
     "name": "stdout",
     "output_type": "stream",
     "text": [
      "✅ Training completed in 29.97s\n",
      "🔍 Validation Phase...\n"
     ]
    },
    {
     "name": "stderr",
     "output_type": "stream",
     "text": [
      "Validation: 100%|██████████████████████████████| 14/14 [00:03<00:00,  3.56it/s, Loss=2.6032, Acc=0.4777]\n"
     ]
    },
    {
     "name": "stdout",
     "output_type": "stream",
     "text": [
      "✅ Validation completed in 3.94s\n",
      "\n",
      "📊 Epoch 12 Summary:\n",
      "│ Train Loss: 0.1805 | Train Acc: 0.9319\n",
      "│ Val Loss:   2.6032 | Val Acc:   0.4777\n",
      "│ Train Time: 29.97s | Val Time: 3.94s\n",
      "│ Total Epoch Time: 33.92s\n",
      "│ Best Val Acc: 0.4799 (Epoch 11)\n",
      "│ GPU Memory: 0.3GB / 3.2GB\n",
      "================================================================================\n",
      "\n",
      "📈 Epoch 13/50\n",
      "--------------------------------------------------\n",
      "🔄 Training Phase...\n"
     ]
    },
    {
     "name": "stderr",
     "output_type": "stream",
     "text": [
      "Training: 100%|██████████████████████████████| 54/54 [00:30<00:00,  1.79it/s, Loss=0.0995, Acc=0.9689]\n"
     ]
    },
    {
     "name": "stdout",
     "output_type": "stream",
     "text": [
      "✅ Training completed in 30.12s\n",
      "🔍 Validation Phase...\n"
     ]
    },
    {
     "name": "stderr",
     "output_type": "stream",
     "text": [
      "Validation: 100%|██████████████████████████████| 14/14 [00:04<00:00,  3.48it/s, Loss=2.6447, Acc=0.4420]\n"
     ]
    },
    {
     "name": "stdout",
     "output_type": "stream",
     "text": [
      "✅ Validation completed in 4.03s\n",
      "\n",
      "📊 Epoch 13 Summary:\n",
      "│ Train Loss: 0.0995 | Train Acc: 0.9689\n",
      "│ Val Loss:   2.6447 | Val Acc:   0.4420\n",
      "│ Train Time: 30.12s | Val Time: 4.03s\n",
      "│ Total Epoch Time: 34.15s\n",
      "│ Best Val Acc: 0.4799 (Epoch 11)\n",
      "│ GPU Memory: 0.3GB / 3.2GB\n",
      "================================================================================\n",
      "\n",
      "📈 Epoch 14/50\n",
      "--------------------------------------------------\n",
      "🔄 Training Phase...\n"
     ]
    },
    {
     "name": "stderr",
     "output_type": "stream",
     "text": [
      "Training: 100%|██████████████████████████████| 54/54 [00:29<00:00,  1.81it/s, Loss=0.1484, Acc=0.9525]\n"
     ]
    },
    {
     "name": "stdout",
     "output_type": "stream",
     "text": [
      "✅ Training completed in 29.87s\n",
      "🔍 Validation Phase...\n"
     ]
    },
    {
     "name": "stderr",
     "output_type": "stream",
     "text": [
      "Validation: 100%|██████████████████████████████| 14/14 [00:03<00:00,  3.58it/s, Loss=2.7049, Acc=0.3996]\n"
     ]
    },
    {
     "name": "stdout",
     "output_type": "stream",
     "text": [
      "✅ Validation completed in 3.92s\n",
      "\n",
      "📊 Epoch 14 Summary:\n",
      "│ Train Loss: 0.1484 | Train Acc: 0.9525\n",
      "│ Val Loss:   2.7049 | Val Acc:   0.3996\n",
      "│ Train Time: 29.87s | Val Time: 3.92s\n",
      "│ Total Epoch Time: 33.79s\n",
      "│ Best Val Acc: 0.4799 (Epoch 11)\n",
      "│ GPU Memory: 0.3GB / 3.2GB\n",
      "================================================================================\n",
      "\n",
      "📈 Epoch 15/50\n",
      "--------------------------------------------------\n",
      "🔄 Training Phase...\n"
     ]
    },
    {
     "name": "stderr",
     "output_type": "stream",
     "text": [
      "Training: 100%|██████████████████████████████| 54/54 [00:29<00:00,  1.81it/s, Loss=0.0818, Acc=0.9730]\n"
     ]
    },
    {
     "name": "stdout",
     "output_type": "stream",
     "text": [
      "✅ Training completed in 29.89s\n",
      "🔍 Validation Phase...\n"
     ]
    },
    {
     "name": "stderr",
     "output_type": "stream",
     "text": [
      "Validation: 100%|██████████████████████████████| 14/14 [00:04<00:00,  3.48it/s, Loss=2.5955, Acc=0.4665]\n"
     ]
    },
    {
     "name": "stdout",
     "output_type": "stream",
     "text": [
      "✅ Validation completed in 4.03s\n",
      "\n",
      "📊 Epoch 15 Summary:\n",
      "│ Train Loss: 0.0818 | Train Acc: 0.9730\n",
      "│ Val Loss:   2.5955 | Val Acc:   0.4665\n",
      "│ Train Time: 29.89s | Val Time: 4.03s\n",
      "│ Total Epoch Time: 33.93s\n",
      "│ Best Val Acc: 0.4799 (Epoch 11)\n",
      "│ GPU Memory: 0.3GB / 3.2GB\n",
      "================================================================================\n",
      "\n",
      "📈 Epoch 16/50\n",
      "--------------------------------------------------\n",
      "🔄 Training Phase...\n"
     ]
    },
    {
     "name": "stderr",
     "output_type": "stream",
     "text": [
      "Training: 100%|██████████████████████████████| 54/54 [00:30<00:00,  1.80it/s, Loss=0.0536, Acc=0.9824]\n"
     ]
    },
    {
     "name": "stdout",
     "output_type": "stream",
     "text": [
      "✅ Training completed in 30.03s\n",
      "🔍 Validation Phase...\n"
     ]
    },
    {
     "name": "stderr",
     "output_type": "stream",
     "text": [
      "Validation: 100%|██████████████████████████████| 14/14 [00:03<00:00,  3.57it/s, Loss=2.5252, Acc=0.5268]\n"
     ]
    },
    {
     "name": "stdout",
     "output_type": "stream",
     "text": [
      "✅ Validation completed in 3.93s\n",
      "🌟 New best ResNet50 model found! Validation Accuracy: 0.5268\n",
      "\n",
      "📊 Epoch 16 Summary:\n",
      "│ Train Loss: 0.0536 | Train Acc: 0.9824\n",
      "│ Val Loss:   2.5252 | Val Acc:   0.5268\n",
      "│ Train Time: 30.03s | Val Time: 3.93s\n",
      "│ Total Epoch Time: 33.97s\n",
      "│ Best Val Acc: 0.5268 (Epoch 16)\n",
      "│ GPU Memory: 0.3GB / 3.2GB\n",
      "================================================================================\n",
      "\n",
      "📈 Epoch 17/50\n",
      "--------------------------------------------------\n",
      "🔄 Training Phase...\n"
     ]
    },
    {
     "name": "stderr",
     "output_type": "stream",
     "text": [
      "Training: 100%|██████████████████████████████| 54/54 [00:29<00:00,  1.80it/s, Loss=0.0404, Acc=0.9877]\n"
     ]
    },
    {
     "name": "stdout",
     "output_type": "stream",
     "text": [
      "✅ Training completed in 30.00s\n",
      "🔍 Validation Phase...\n"
     ]
    },
    {
     "name": "stderr",
     "output_type": "stream",
     "text": [
      "Validation: 100%|██████████████████████████████| 14/14 [00:04<00:00,  3.45it/s, Loss=2.6580, Acc=0.5089]\n"
     ]
    },
    {
     "name": "stdout",
     "output_type": "stream",
     "text": [
      "✅ Validation completed in 4.07s\n",
      "\n",
      "📊 Epoch 17 Summary:\n",
      "│ Train Loss: 0.0404 | Train Acc: 0.9877\n",
      "│ Val Loss:   2.6580 | Val Acc:   0.5089\n",
      "│ Train Time: 30.00s | Val Time: 4.07s\n",
      "│ Total Epoch Time: 34.07s\n",
      "│ Best Val Acc: 0.5268 (Epoch 16)\n",
      "│ GPU Memory: 0.3GB / 3.2GB\n",
      "================================================================================\n",
      "\n",
      "📈 Epoch 18/50\n",
      "--------------------------------------------------\n",
      "🔄 Training Phase...\n"
     ]
    },
    {
     "name": "stderr",
     "output_type": "stream",
     "text": [
      "Training: 100%|██████████████████████████████| 54/54 [00:30<00:00,  1.79it/s, Loss=0.0649, Acc=0.9800]\n"
     ]
    },
    {
     "name": "stdout",
     "output_type": "stream",
     "text": [
      "✅ Training completed in 30.24s\n",
      "🔍 Validation Phase...\n"
     ]
    },
    {
     "name": "stderr",
     "output_type": "stream",
     "text": [
      "Validation: 100%|██████████████████████████████| 14/14 [00:03<00:00,  3.56it/s, Loss=3.2183, Acc=0.4799]\n"
     ]
    },
    {
     "name": "stdout",
     "output_type": "stream",
     "text": [
      "✅ Validation completed in 3.94s\n",
      "\n",
      "📊 Epoch 18 Summary:\n",
      "│ Train Loss: 0.0649 | Train Acc: 0.9800\n",
      "│ Val Loss:   3.2183 | Val Acc:   0.4799\n",
      "│ Train Time: 30.24s | Val Time: 3.94s\n",
      "│ Total Epoch Time: 34.18s\n",
      "│ Best Val Acc: 0.5268 (Epoch 16)\n",
      "│ GPU Memory: 0.3GB / 3.2GB\n",
      "================================================================================\n",
      "\n",
      "📈 Epoch 19/50\n",
      "--------------------------------------------------\n",
      "🔄 Training Phase...\n"
     ]
    },
    {
     "name": "stderr",
     "output_type": "stream",
     "text": [
      "Training: 100%|██████████████████████████████| 54/54 [00:30<00:00,  1.79it/s, Loss=0.1179, Acc=0.9607]\n"
     ]
    },
    {
     "name": "stdout",
     "output_type": "stream",
     "text": [
      "✅ Training completed in 30.19s\n",
      "🔍 Validation Phase...\n"
     ]
    },
    {
     "name": "stderr",
     "output_type": "stream",
     "text": [
      "Validation: 100%|██████████████████████████████| 14/14 [00:03<00:00,  3.56it/s, Loss=2.7552, Acc=0.5156]\n"
     ]
    },
    {
     "name": "stdout",
     "output_type": "stream",
     "text": [
      "✅ Validation completed in 3.94s\n",
      "\n",
      "📊 Epoch 19 Summary:\n",
      "│ Train Loss: 0.1179 | Train Acc: 0.9607\n",
      "│ Val Loss:   2.7552 | Val Acc:   0.5156\n",
      "│ Train Time: 30.19s | Val Time: 3.94s\n",
      "│ Total Epoch Time: 34.13s\n",
      "│ Best Val Acc: 0.5268 (Epoch 16)\n",
      "│ GPU Memory: 0.3GB / 3.2GB\n",
      "================================================================================\n",
      "\n",
      "📈 Epoch 20/50\n",
      "--------------------------------------------------\n",
      "🔄 Training Phase...\n"
     ]
    },
    {
     "name": "stderr",
     "output_type": "stream",
     "text": [
      "Training: 100%|██████████████████████████████| 54/54 [00:30<00:00,  1.79it/s, Loss=0.0317, Acc=0.9900]\n"
     ]
    },
    {
     "name": "stdout",
     "output_type": "stream",
     "text": [
      "✅ Training completed in 30.17s\n",
      "🔍 Validation Phase...\n"
     ]
    },
    {
     "name": "stderr",
     "output_type": "stream",
     "text": [
      "Validation: 100%|██████████████████████████████| 14/14 [00:04<00:00,  3.37it/s, Loss=2.6805, Acc=0.5268]\n"
     ]
    },
    {
     "name": "stdout",
     "output_type": "stream",
     "text": [
      "✅ Validation completed in 4.16s\n",
      "\n",
      "📊 Epoch 20 Summary:\n",
      "│ Train Loss: 0.0317 | Train Acc: 0.9900\n",
      "│ Val Loss:   2.6805 | Val Acc:   0.5268\n",
      "│ Train Time: 30.17s | Val Time: 4.16s\n",
      "│ Total Epoch Time: 34.33s\n",
      "│ Best Val Acc: 0.5268 (Epoch 16)\n",
      "│ GPU Memory: 0.3GB / 3.2GB\n",
      "================================================================================\n",
      "\n",
      "📈 Epoch 21/50\n",
      "--------------------------------------------------\n",
      "🔄 Training Phase...\n"
     ]
    },
    {
     "name": "stderr",
     "output_type": "stream",
     "text": [
      "Training: 100%|██████████████████████████████| 54/54 [00:30<00:00,  1.77it/s, Loss=0.0115, Acc=0.9977]\n"
     ]
    },
    {
     "name": "stdout",
     "output_type": "stream",
     "text": [
      "✅ Training completed in 30.50s\n",
      "🔍 Validation Phase...\n"
     ]
    },
    {
     "name": "stderr",
     "output_type": "stream",
     "text": [
      "Validation: 100%|██████████████████████████████| 14/14 [00:04<00:00,  3.47it/s, Loss=2.6122, Acc=0.5201]\n"
     ]
    },
    {
     "name": "stdout",
     "output_type": "stream",
     "text": [
      "✅ Validation completed in 4.04s\n",
      "\n",
      "📊 Epoch 21 Summary:\n",
      "│ Train Loss: 0.0115 | Train Acc: 0.9977\n",
      "│ Val Loss:   2.6122 | Val Acc:   0.5201\n",
      "│ Train Time: 30.50s | Val Time: 4.04s\n",
      "│ Total Epoch Time: 34.55s\n",
      "│ Best Val Acc: 0.5268 (Epoch 16)\n",
      "│ GPU Memory: 0.3GB / 3.2GB\n",
      "================================================================================\n",
      "\n",
      "📈 Epoch 22/50\n",
      "--------------------------------------------------\n",
      "🔄 Training Phase...\n"
     ]
    },
    {
     "name": "stderr",
     "output_type": "stream",
     "text": [
      "Training: 100%|██████████████████████████████| 54/54 [00:30<00:00,  1.78it/s, Loss=0.0081, Acc=0.9982]\n"
     ]
    },
    {
     "name": "stdout",
     "output_type": "stream",
     "text": [
      "✅ Training completed in 30.27s\n",
      "🔍 Validation Phase...\n"
     ]
    },
    {
     "name": "stderr",
     "output_type": "stream",
     "text": [
      "Validation: 100%|██████████████████████████████| 14/14 [00:04<00:00,  3.45it/s, Loss=3.0315, Acc=0.5000]\n"
     ]
    },
    {
     "name": "stdout",
     "output_type": "stream",
     "text": [
      "✅ Validation completed in 4.06s\n",
      "\n",
      "📊 Epoch 22 Summary:\n",
      "│ Train Loss: 0.0081 | Train Acc: 0.9982\n",
      "│ Val Loss:   3.0315 | Val Acc:   0.5000\n",
      "│ Train Time: 30.27s | Val Time: 4.06s\n",
      "│ Total Epoch Time: 34.33s\n",
      "│ Best Val Acc: 0.5268 (Epoch 16)\n",
      "│ GPU Memory: 0.3GB / 3.2GB\n",
      "================================================================================\n",
      "\n",
      "📈 Epoch 23/50\n",
      "--------------------------------------------------\n",
      "🔄 Training Phase...\n"
     ]
    },
    {
     "name": "stderr",
     "output_type": "stream",
     "text": [
      "Training: 100%|██████████████████████████████| 54/54 [00:30<00:00,  1.78it/s, Loss=0.0078, Acc=0.9994]\n"
     ]
    },
    {
     "name": "stdout",
     "output_type": "stream",
     "text": [
      "✅ Training completed in 30.28s\n",
      "🔍 Validation Phase...\n"
     ]
    },
    {
     "name": "stderr",
     "output_type": "stream",
     "text": [
      "Validation: 100%|██████████████████████████████| 14/14 [00:03<00:00,  3.51it/s, Loss=2.8114, Acc=0.5089]\n"
     ]
    },
    {
     "name": "stdout",
     "output_type": "stream",
     "text": [
      "✅ Validation completed in 3.99s\n",
      "\n",
      "📊 Epoch 23 Summary:\n",
      "│ Train Loss: 0.0078 | Train Acc: 0.9994\n",
      "│ Val Loss:   2.8114 | Val Acc:   0.5089\n",
      "│ Train Time: 30.28s | Val Time: 3.99s\n",
      "│ Total Epoch Time: 34.28s\n",
      "│ Best Val Acc: 0.5268 (Epoch 16)\n",
      "│ GPU Memory: 0.3GB / 3.2GB\n",
      "================================================================================\n",
      "\n",
      "📈 Epoch 24/50\n",
      "--------------------------------------------------\n",
      "🔄 Training Phase...\n"
     ]
    },
    {
     "name": "stderr",
     "output_type": "stream",
     "text": [
      "Training: 100%|██████████████████████████████| 54/54 [00:30<00:00,  1.78it/s, Loss=0.0069, Acc=0.9988]\n"
     ]
    },
    {
     "name": "stdout",
     "output_type": "stream",
     "text": [
      "✅ Training completed in 30.31s\n",
      "🔍 Validation Phase...\n"
     ]
    },
    {
     "name": "stderr",
     "output_type": "stream",
     "text": [
      "Validation: 100%|██████████████████████████████| 14/14 [00:03<00:00,  3.54it/s, Loss=2.9527, Acc=0.4598]\n"
     ]
    },
    {
     "name": "stdout",
     "output_type": "stream",
     "text": [
      "✅ Validation completed in 3.97s\n",
      "\n",
      "📊 Epoch 24 Summary:\n",
      "│ Train Loss: 0.0069 | Train Acc: 0.9988\n",
      "│ Val Loss:   2.9527 | Val Acc:   0.4598\n",
      "│ Train Time: 30.31s | Val Time: 3.97s\n",
      "│ Total Epoch Time: 34.28s\n",
      "│ Best Val Acc: 0.5268 (Epoch 16)\n",
      "│ GPU Memory: 0.3GB / 3.2GB\n",
      "================================================================================\n",
      "\n",
      "📈 Epoch 25/50\n",
      "--------------------------------------------------\n",
      "🔄 Training Phase...\n"
     ]
    },
    {
     "name": "stderr",
     "output_type": "stream",
     "text": [
      "Training: 100%|██████████████████████████████| 54/54 [00:29<00:00,  1.81it/s, Loss=0.0178, Acc=0.9977]\n"
     ]
    },
    {
     "name": "stdout",
     "output_type": "stream",
     "text": [
      "✅ Training completed in 29.91s\n",
      "🔍 Validation Phase...\n"
     ]
    },
    {
     "name": "stderr",
     "output_type": "stream",
     "text": [
      "Validation: 100%|██████████████████████████████| 14/14 [00:04<00:00,  3.50it/s, Loss=3.1194, Acc=0.5067]\n"
     ]
    },
    {
     "name": "stdout",
     "output_type": "stream",
     "text": [
      "✅ Validation completed in 4.01s\n",
      "\n",
      "📊 Epoch 25 Summary:\n",
      "│ Train Loss: 0.0178 | Train Acc: 0.9977\n",
      "│ Val Loss:   3.1194 | Val Acc:   0.5067\n",
      "│ Train Time: 29.91s | Val Time: 4.01s\n",
      "│ Total Epoch Time: 33.92s\n",
      "│ Best Val Acc: 0.5268 (Epoch 16)\n",
      "│ GPU Memory: 0.3GB / 3.2GB\n",
      "================================================================================\n",
      "\n",
      "📈 Epoch 26/50\n",
      "--------------------------------------------------\n",
      "🔄 Training Phase...\n"
     ]
    },
    {
     "name": "stderr",
     "output_type": "stream",
     "text": [
      "Training: 100%|██████████████████████████████| 54/54 [00:30<00:00,  1.79it/s, Loss=0.0361, Acc=0.9888]\n"
     ]
    },
    {
     "name": "stdout",
     "output_type": "stream",
     "text": [
      "✅ Training completed in 30.18s\n",
      "🔍 Validation Phase...\n"
     ]
    },
    {
     "name": "stderr",
     "output_type": "stream",
     "text": [
      "Validation: 100%|██████████████████████████████| 14/14 [00:03<00:00,  3.61it/s, Loss=3.0756, Acc=0.5089]\n"
     ]
    },
    {
     "name": "stdout",
     "output_type": "stream",
     "text": [
      "✅ Validation completed in 3.88s\n",
      "\n",
      "📊 Epoch 26 Summary:\n",
      "│ Train Loss: 0.0361 | Train Acc: 0.9888\n",
      "│ Val Loss:   3.0756 | Val Acc:   0.5089\n",
      "│ Train Time: 30.18s | Val Time: 3.88s\n",
      "│ Total Epoch Time: 34.07s\n",
      "│ Best Val Acc: 0.5268 (Epoch 16)\n",
      "│ GPU Memory: 0.3GB / 3.2GB\n",
      "================================================================================\n",
      "\n",
      "📈 Epoch 27/50\n",
      "--------------------------------------------------\n",
      "🔄 Training Phase...\n"
     ]
    },
    {
     "name": "stderr",
     "output_type": "stream",
     "text": [
      "Training: 100%|██████████████████████████████| 54/54 [00:30<00:00,  1.78it/s, Loss=0.0227, Acc=0.9941]\n"
     ]
    },
    {
     "name": "stdout",
     "output_type": "stream",
     "text": [
      "✅ Training completed in 30.28s\n",
      "🔍 Validation Phase...\n"
     ]
    },
    {
     "name": "stderr",
     "output_type": "stream",
     "text": [
      "Validation: 100%|██████████████████████████████| 14/14 [00:03<00:00,  3.50it/s, Loss=2.8987, Acc=0.5067]\n"
     ]
    },
    {
     "name": "stdout",
     "output_type": "stream",
     "text": [
      "✅ Validation completed in 4.01s\n",
      "\n",
      "📊 Epoch 27 Summary:\n",
      "│ Train Loss: 0.0227 | Train Acc: 0.9941\n",
      "│ Val Loss:   2.8987 | Val Acc:   0.5067\n",
      "│ Train Time: 30.28s | Val Time: 4.01s\n",
      "│ Total Epoch Time: 34.28s\n",
      "│ Best Val Acc: 0.5268 (Epoch 16)\n",
      "│ GPU Memory: 0.3GB / 3.2GB\n",
      "================================================================================\n",
      "\n",
      "📈 Epoch 28/50\n",
      "--------------------------------------------------\n",
      "🔄 Training Phase...\n"
     ]
    },
    {
     "name": "stderr",
     "output_type": "stream",
     "text": [
      "Training: 100%|██████████████████████████████| 54/54 [00:30<00:00,  1.77it/s, Loss=0.0614, Acc=0.9795]\n"
     ]
    },
    {
     "name": "stdout",
     "output_type": "stream",
     "text": [
      "✅ Training completed in 30.51s\n",
      "🔍 Validation Phase...\n"
     ]
    },
    {
     "name": "stderr",
     "output_type": "stream",
     "text": [
      "Validation: 100%|██████████████████████████████| 14/14 [00:04<00:00,  3.45it/s, Loss=3.2889, Acc=0.4598]\n"
     ]
    },
    {
     "name": "stdout",
     "output_type": "stream",
     "text": [
      "✅ Validation completed in 4.06s\n",
      "\n",
      "📊 Epoch 28 Summary:\n",
      "│ Train Loss: 0.0614 | Train Acc: 0.9795\n",
      "│ Val Loss:   3.2889 | Val Acc:   0.4598\n",
      "│ Train Time: 30.51s | Val Time: 4.06s\n",
      "│ Total Epoch Time: 34.58s\n",
      "│ Best Val Acc: 0.5268 (Epoch 16)\n",
      "│ GPU Memory: 0.3GB / 3.2GB\n",
      "================================================================================\n",
      "\n",
      "📈 Epoch 29/50\n",
      "--------------------------------------------------\n",
      "🔄 Training Phase...\n"
     ]
    },
    {
     "name": "stderr",
     "output_type": "stream",
     "text": [
      "Training: 100%|██████████████████████████████| 54/54 [00:30<00:00,  1.77it/s, Loss=0.0372, Acc=0.9894]\n"
     ]
    },
    {
     "name": "stdout",
     "output_type": "stream",
     "text": [
      "✅ Training completed in 30.43s\n",
      "🔍 Validation Phase...\n"
     ]
    },
    {
     "name": "stderr",
     "output_type": "stream",
     "text": [
      "Validation: 100%|██████████████████████████████| 14/14 [00:03<00:00,  3.52it/s, Loss=3.1718, Acc=0.5156]\n"
     ]
    },
    {
     "name": "stdout",
     "output_type": "stream",
     "text": [
      "✅ Validation completed in 3.97s\n",
      "\n",
      "📊 Epoch 29 Summary:\n",
      "│ Train Loss: 0.0372 | Train Acc: 0.9894\n",
      "│ Val Loss:   3.1718 | Val Acc:   0.5156\n",
      "│ Train Time: 30.43s | Val Time: 3.97s\n",
      "│ Total Epoch Time: 34.40s\n",
      "│ Best Val Acc: 0.5268 (Epoch 16)\n",
      "│ GPU Memory: 0.3GB / 3.2GB\n",
      "================================================================================\n",
      "\n",
      "📈 Epoch 30/50\n",
      "--------------------------------------------------\n",
      "🔄 Training Phase...\n"
     ]
    },
    {
     "name": "stderr",
     "output_type": "stream",
     "text": [
      "Training: 100%|██████████████████████████████| 54/54 [00:30<00:00,  1.78it/s, Loss=0.0168, Acc=0.9953]\n"
     ]
    },
    {
     "name": "stdout",
     "output_type": "stream",
     "text": [
      "✅ Training completed in 30.33s\n",
      "🔍 Validation Phase...\n"
     ]
    },
    {
     "name": "stderr",
     "output_type": "stream",
     "text": [
      "Validation: 100%|██████████████████████████████| 14/14 [00:03<00:00,  3.54it/s, Loss=2.7643, Acc=0.5000]\n"
     ]
    },
    {
     "name": "stdout",
     "output_type": "stream",
     "text": [
      "✅ Validation completed in 3.96s\n",
      "\n",
      "📊 Epoch 30 Summary:\n",
      "│ Train Loss: 0.0168 | Train Acc: 0.9953\n",
      "│ Val Loss:   2.7643 | Val Acc:   0.5000\n",
      "│ Train Time: 30.33s | Val Time: 3.96s\n",
      "│ Total Epoch Time: 34.29s\n",
      "│ Best Val Acc: 0.5268 (Epoch 16)\n",
      "│ GPU Memory: 0.3GB / 3.2GB\n",
      "================================================================================\n",
      "\n",
      "📈 Epoch 31/50\n",
      "--------------------------------------------------\n",
      "🔄 Training Phase...\n"
     ]
    },
    {
     "name": "stderr",
     "output_type": "stream",
     "text": [
      "Training: 100%|██████████████████████████████| 54/54 [00:30<00:00,  1.77it/s, Loss=0.0039, Acc=0.9994]\n"
     ]
    },
    {
     "name": "stdout",
     "output_type": "stream",
     "text": [
      "✅ Training completed in 30.52s\n",
      "🔍 Validation Phase...\n"
     ]
    },
    {
     "name": "stderr",
     "output_type": "stream",
     "text": [
      "Validation: 100%|██████████████████████████████| 14/14 [00:04<00:00,  3.49it/s, Loss=2.9682, Acc=0.4754]\n"
     ]
    },
    {
     "name": "stdout",
     "output_type": "stream",
     "text": [
      "✅ Validation completed in 4.02s\n",
      "\n",
      "📊 Epoch 31 Summary:\n",
      "│ Train Loss: 0.0039 | Train Acc: 0.9994\n",
      "│ Val Loss:   2.9682 | Val Acc:   0.4754\n",
      "│ Train Time: 30.52s | Val Time: 4.02s\n",
      "│ Total Epoch Time: 34.54s\n",
      "│ Best Val Acc: 0.5268 (Epoch 16)\n",
      "│ GPU Memory: 0.3GB / 3.2GB\n",
      "================================================================================\n",
      "\n",
      "📈 Epoch 32/50\n",
      "--------------------------------------------------\n",
      "🔄 Training Phase...\n"
     ]
    },
    {
     "name": "stderr",
     "output_type": "stream",
     "text": [
      "Training: 100%|██████████████████████████████| 54/54 [00:30<00:00,  1.78it/s, Loss=0.0463, Acc=0.9947]\n"
     ]
    },
    {
     "name": "stdout",
     "output_type": "stream",
     "text": [
      "✅ Training completed in 30.34s\n",
      "🔍 Validation Phase...\n"
     ]
    },
    {
     "name": "stderr",
     "output_type": "stream",
     "text": [
      "Validation: 100%|██████████████████████████████| 14/14 [00:03<00:00,  3.53it/s, Loss=3.3786, Acc=0.4621]\n"
     ]
    },
    {
     "name": "stdout",
     "output_type": "stream",
     "text": [
      "✅ Validation completed in 3.97s\n",
      "\n",
      "📊 Epoch 32 Summary:\n",
      "│ Train Loss: 0.0463 | Train Acc: 0.9947\n",
      "│ Val Loss:   3.3786 | Val Acc:   0.4621\n",
      "│ Train Time: 30.34s | Val Time: 3.97s\n",
      "│ Total Epoch Time: 34.32s\n",
      "│ Best Val Acc: 0.5268 (Epoch 16)\n",
      "│ GPU Memory: 0.3GB / 3.2GB\n",
      "================================================================================\n",
      "\n",
      "📈 Epoch 33/50\n",
      "--------------------------------------------------\n",
      "🔄 Training Phase...\n"
     ]
    },
    {
     "name": "stderr",
     "output_type": "stream",
     "text": [
      "Training: 100%|██████████████████████████████| 54/54 [00:30<00:00,  1.77it/s, Loss=0.2387, Acc=0.9208]\n"
     ]
    },
    {
     "name": "stdout",
     "output_type": "stream",
     "text": [
      "✅ Training completed in 30.45s\n",
      "🔍 Validation Phase...\n"
     ]
    },
    {
     "name": "stderr",
     "output_type": "stream",
     "text": [
      "Validation: 100%|██████████████████████████████| 14/14 [00:04<00:00,  3.47it/s, Loss=3.5168, Acc=0.4308]\n"
     ]
    },
    {
     "name": "stdout",
     "output_type": "stream",
     "text": [
      "✅ Validation completed in 4.03s\n",
      "\n",
      "📊 Epoch 33 Summary:\n",
      "│ Train Loss: 0.2387 | Train Acc: 0.9208\n",
      "│ Val Loss:   3.5168 | Val Acc:   0.4308\n",
      "│ Train Time: 30.45s | Val Time: 4.03s\n",
      "│ Total Epoch Time: 34.49s\n",
      "│ Best Val Acc: 0.5268 (Epoch 16)\n",
      "│ GPU Memory: 0.3GB / 3.2GB\n",
      "================================================================================\n",
      "\n",
      "📈 Epoch 34/50\n",
      "--------------------------------------------------\n",
      "🔄 Training Phase...\n"
     ]
    },
    {
     "name": "stderr",
     "output_type": "stream",
     "text": [
      "Training: 100%|██████████████████████████████| 54/54 [00:30<00:00,  1.79it/s, Loss=0.0314, Acc=0.9930]\n"
     ]
    },
    {
     "name": "stdout",
     "output_type": "stream",
     "text": [
      "✅ Training completed in 30.20s\n",
      "🔍 Validation Phase...\n"
     ]
    },
    {
     "name": "stderr",
     "output_type": "stream",
     "text": [
      "Validation: 100%|██████████████████████████████| 14/14 [00:03<00:00,  3.52it/s, Loss=2.7655, Acc=0.4621]\n"
     ]
    },
    {
     "name": "stdout",
     "output_type": "stream",
     "text": [
      "✅ Validation completed in 3.99s\n",
      "\n",
      "📊 Epoch 34 Summary:\n",
      "│ Train Loss: 0.0314 | Train Acc: 0.9930\n",
      "│ Val Loss:   2.7655 | Val Acc:   0.4621\n",
      "│ Train Time: 30.20s | Val Time: 3.99s\n",
      "│ Total Epoch Time: 34.18s\n",
      "│ Best Val Acc: 0.5268 (Epoch 16)\n",
      "│ GPU Memory: 0.3GB / 3.2GB\n",
      "================================================================================\n",
      "\n",
      "📈 Epoch 35/50\n",
      "--------------------------------------------------\n",
      "🔄 Training Phase...\n"
     ]
    },
    {
     "name": "stderr",
     "output_type": "stream",
     "text": [
      "Training: 100%|██████████████████████████████| 54/54 [00:30<00:00,  1.76it/s, Loss=0.0104, Acc=0.9982]\n"
     ]
    },
    {
     "name": "stdout",
     "output_type": "stream",
     "text": [
      "✅ Training completed in 30.71s\n",
      "🔍 Validation Phase...\n"
     ]
    },
    {
     "name": "stderr",
     "output_type": "stream",
     "text": [
      "Validation: 100%|██████████████████████████████| 14/14 [00:03<00:00,  3.53it/s, Loss=2.7837, Acc=0.4710]\n"
     ]
    },
    {
     "name": "stdout",
     "output_type": "stream",
     "text": [
      "✅ Validation completed in 3.97s\n",
      "\n",
      "📊 Epoch 35 Summary:\n",
      "│ Train Loss: 0.0104 | Train Acc: 0.9982\n",
      "│ Val Loss:   2.7837 | Val Acc:   0.4710\n",
      "│ Train Time: 30.71s | Val Time: 3.97s\n",
      "│ Total Epoch Time: 34.68s\n",
      "│ Best Val Acc: 0.5268 (Epoch 16)\n",
      "│ GPU Memory: 0.3GB / 3.2GB\n",
      "================================================================================\n",
      "\n",
      "📈 Epoch 36/50\n",
      "--------------------------------------------------\n",
      "🔄 Training Phase...\n"
     ]
    },
    {
     "name": "stderr",
     "output_type": "stream",
     "text": [
      "Training: 100%|██████████████████████████████| 54/54 [00:30<00:00,  1.78it/s, Loss=0.0100, Acc=0.9977]\n"
     ]
    },
    {
     "name": "stdout",
     "output_type": "stream",
     "text": [
      "✅ Training completed in 30.41s\n",
      "🔍 Validation Phase...\n"
     ]
    },
    {
     "name": "stderr",
     "output_type": "stream",
     "text": [
      "Validation: 100%|██████████████████████████████| 14/14 [00:04<00:00,  3.44it/s, Loss=3.1285, Acc=0.4732]\n"
     ]
    },
    {
     "name": "stdout",
     "output_type": "stream",
     "text": [
      "✅ Validation completed in 4.07s\n",
      "\n",
      "📊 Epoch 36 Summary:\n",
      "│ Train Loss: 0.0100 | Train Acc: 0.9977\n",
      "│ Val Loss:   3.1285 | Val Acc:   0.4732\n",
      "│ Train Time: 30.41s | Val Time: 4.07s\n",
      "│ Total Epoch Time: 34.48s\n",
      "│ Best Val Acc: 0.5268 (Epoch 16)\n",
      "│ GPU Memory: 0.3GB / 3.2GB\n",
      "================================================================================\n",
      "\n",
      "📈 Epoch 37/50\n",
      "--------------------------------------------------\n",
      "🔄 Training Phase...\n"
     ]
    },
    {
     "name": "stderr",
     "output_type": "stream",
     "text": [
      "Training: 100%|██████████████████████████████| 54/54 [00:30<00:00,  1.78it/s, Loss=0.0056, Acc=0.9988]\n"
     ]
    },
    {
     "name": "stdout",
     "output_type": "stream",
     "text": [
      "✅ Training completed in 30.36s\n",
      "🔍 Validation Phase...\n"
     ]
    },
    {
     "name": "stderr",
     "output_type": "stream",
     "text": [
      "Validation: 100%|██████████████████████████████| 14/14 [00:03<00:00,  3.53it/s, Loss=2.7725, Acc=0.4911]\n"
     ]
    },
    {
     "name": "stdout",
     "output_type": "stream",
     "text": [
      "✅ Validation completed in 3.97s\n",
      "\n",
      "📊 Epoch 37 Summary:\n",
      "│ Train Loss: 0.0056 | Train Acc: 0.9988\n",
      "│ Val Loss:   2.7725 | Val Acc:   0.4911\n",
      "│ Train Time: 30.36s | Val Time: 3.97s\n",
      "│ Total Epoch Time: 34.34s\n",
      "│ Best Val Acc: 0.5268 (Epoch 16)\n",
      "│ GPU Memory: 0.3GB / 3.2GB\n",
      "================================================================================\n",
      "\n",
      "📈 Epoch 38/50\n",
      "--------------------------------------------------\n",
      "🔄 Training Phase...\n"
     ]
    },
    {
     "name": "stderr",
     "output_type": "stream",
     "text": [
      "Training: 100%|██████████████████████████████| 54/54 [00:30<00:00,  1.80it/s, Loss=0.0034, Acc=1.0000]\n"
     ]
    },
    {
     "name": "stdout",
     "output_type": "stream",
     "text": [
      "✅ Training completed in 30.06s\n",
      "🔍 Validation Phase...\n"
     ]
    },
    {
     "name": "stderr",
     "output_type": "stream",
     "text": [
      "Validation: 100%|██████████████████████████████| 14/14 [00:03<00:00,  3.55it/s, Loss=2.8036, Acc=0.5000]\n"
     ]
    },
    {
     "name": "stdout",
     "output_type": "stream",
     "text": [
      "✅ Validation completed in 3.94s\n",
      "\n",
      "📊 Epoch 38 Summary:\n",
      "│ Train Loss: 0.0034 | Train Acc: 1.0000\n",
      "│ Val Loss:   2.8036 | Val Acc:   0.5000\n",
      "│ Train Time: 30.06s | Val Time: 3.94s\n",
      "│ Total Epoch Time: 34.00s\n",
      "│ Best Val Acc: 0.5268 (Epoch 16)\n",
      "│ GPU Memory: 0.3GB / 3.2GB\n",
      "================================================================================\n",
      "\n",
      "📈 Epoch 39/50\n",
      "--------------------------------------------------\n",
      "🔄 Training Phase...\n"
     ]
    },
    {
     "name": "stderr",
     "output_type": "stream",
     "text": [
      "Training: 100%|██████████████████████████████| 54/54 [00:30<00:00,  1.79it/s, Loss=0.0013, Acc=1.0000]\n"
     ]
    },
    {
     "name": "stdout",
     "output_type": "stream",
     "text": [
      "✅ Training completed in 30.21s\n",
      "🔍 Validation Phase...\n"
     ]
    },
    {
     "name": "stderr",
     "output_type": "stream",
     "text": [
      "Validation: 100%|██████████████████████████████| 14/14 [00:03<00:00,  3.52it/s, Loss=2.7312, Acc=0.4978]\n"
     ]
    },
    {
     "name": "stdout",
     "output_type": "stream",
     "text": [
      "✅ Validation completed in 3.98s\n",
      "\n",
      "📊 Epoch 39 Summary:\n",
      "│ Train Loss: 0.0013 | Train Acc: 1.0000\n",
      "│ Val Loss:   2.7312 | Val Acc:   0.4978\n",
      "│ Train Time: 30.21s | Val Time: 3.98s\n",
      "│ Total Epoch Time: 34.20s\n",
      "│ Best Val Acc: 0.5268 (Epoch 16)\n",
      "│ GPU Memory: 0.3GB / 3.2GB\n",
      "================================================================================\n",
      "\n",
      "📈 Epoch 40/50\n",
      "--------------------------------------------------\n",
      "🔄 Training Phase...\n"
     ]
    },
    {
     "name": "stderr",
     "output_type": "stream",
     "text": [
      "Training: 100%|██████████████████████████████| 54/54 [00:30<00:00,  1.78it/s, Loss=0.0012, Acc=1.0000]\n"
     ]
    },
    {
     "name": "stdout",
     "output_type": "stream",
     "text": [
      "✅ Training completed in 30.40s\n",
      "🔍 Validation Phase...\n"
     ]
    },
    {
     "name": "stderr",
     "output_type": "stream",
     "text": [
      "Validation: 100%|██████████████████████████████| 14/14 [00:03<00:00,  3.54it/s, Loss=2.6211, Acc=0.5156]\n"
     ]
    },
    {
     "name": "stdout",
     "output_type": "stream",
     "text": [
      "✅ Validation completed in 3.95s\n",
      "\n",
      "📊 Epoch 40 Summary:\n",
      "│ Train Loss: 0.0012 | Train Acc: 1.0000\n",
      "│ Val Loss:   2.6211 | Val Acc:   0.5156\n",
      "│ Train Time: 30.40s | Val Time: 3.95s\n",
      "│ Total Epoch Time: 34.35s\n",
      "│ Best Val Acc: 0.5268 (Epoch 16)\n",
      "│ GPU Memory: 0.3GB / 3.2GB\n",
      "================================================================================\n",
      "\n",
      "📈 Epoch 41/50\n",
      "--------------------------------------------------\n",
      "🔄 Training Phase...\n"
     ]
    },
    {
     "name": "stderr",
     "output_type": "stream",
     "text": [
      "Training: 100%|██████████████████████████████| 54/54 [00:29<00:00,  1.80it/s, Loss=0.0005, Acc=1.0000]\n"
     ]
    },
    {
     "name": "stdout",
     "output_type": "stream",
     "text": [
      "✅ Training completed in 29.98s\n",
      "🔍 Validation Phase...\n"
     ]
    },
    {
     "name": "stderr",
     "output_type": "stream",
     "text": [
      "Validation: 100%|██████████████████████████████| 14/14 [00:03<00:00,  3.62it/s, Loss=2.6319, Acc=0.5179]\n"
     ]
    },
    {
     "name": "stdout",
     "output_type": "stream",
     "text": [
      "✅ Validation completed in 3.87s\n",
      "\n",
      "📊 Epoch 41 Summary:\n",
      "│ Train Loss: 0.0005 | Train Acc: 1.0000\n",
      "│ Val Loss:   2.6319 | Val Acc:   0.5179\n",
      "│ Train Time: 29.98s | Val Time: 3.87s\n",
      "│ Total Epoch Time: 33.85s\n",
      "│ Best Val Acc: 0.5268 (Epoch 16)\n",
      "│ GPU Memory: 0.3GB / 3.2GB\n",
      "================================================================================\n",
      "\n",
      "📈 Epoch 42/50\n",
      "--------------------------------------------------\n",
      "🔄 Training Phase...\n"
     ]
    },
    {
     "name": "stderr",
     "output_type": "stream",
     "text": [
      "Training: 100%|██████████████████████████████| 54/54 [00:30<00:00,  1.79it/s, Loss=0.0003, Acc=1.0000]\n"
     ]
    },
    {
     "name": "stdout",
     "output_type": "stream",
     "text": [
      "✅ Training completed in 30.25s\n",
      "🔍 Validation Phase...\n"
     ]
    },
    {
     "name": "stderr",
     "output_type": "stream",
     "text": [
      "Validation: 100%|██████████████████████████████| 14/14 [00:03<00:00,  3.56it/s, Loss=2.6294, Acc=0.4978]\n"
     ]
    },
    {
     "name": "stdout",
     "output_type": "stream",
     "text": [
      "✅ Validation completed in 3.94s\n",
      "\n",
      "📊 Epoch 42 Summary:\n",
      "│ Train Loss: 0.0003 | Train Acc: 1.0000\n",
      "│ Val Loss:   2.6294 | Val Acc:   0.4978\n",
      "│ Train Time: 30.25s | Val Time: 3.94s\n",
      "│ Total Epoch Time: 34.19s\n",
      "│ Best Val Acc: 0.5268 (Epoch 16)\n",
      "│ GPU Memory: 0.3GB / 3.2GB\n",
      "================================================================================\n",
      "\n",
      "📈 Epoch 43/50\n",
      "--------------------------------------------------\n",
      "🔄 Training Phase...\n"
     ]
    },
    {
     "name": "stderr",
     "output_type": "stream",
     "text": [
      "Training: 100%|██████████████████████████████| 54/54 [00:30<00:00,  1.80it/s, Loss=0.0013, Acc=1.0000]\n"
     ]
    },
    {
     "name": "stdout",
     "output_type": "stream",
     "text": [
      "✅ Training completed in 30.04s\n",
      "🔍 Validation Phase...\n"
     ]
    },
    {
     "name": "stderr",
     "output_type": "stream",
     "text": [
      "Validation: 100%|██████████████████████████████| 14/14 [00:03<00:00,  3.63it/s, Loss=2.7212, Acc=0.5112]\n"
     ]
    },
    {
     "name": "stdout",
     "output_type": "stream",
     "text": [
      "✅ Validation completed in 3.87s\n",
      "\n",
      "📊 Epoch 43 Summary:\n",
      "│ Train Loss: 0.0013 | Train Acc: 1.0000\n",
      "│ Val Loss:   2.7212 | Val Acc:   0.5112\n",
      "│ Train Time: 30.04s | Val Time: 3.87s\n",
      "│ Total Epoch Time: 33.91s\n",
      "│ Best Val Acc: 0.5268 (Epoch 16)\n",
      "│ GPU Memory: 0.3GB / 3.2GB\n",
      "================================================================================\n",
      "\n",
      "📈 Epoch 44/50\n",
      "--------------------------------------------------\n",
      "🔄 Training Phase...\n"
     ]
    },
    {
     "name": "stderr",
     "output_type": "stream",
     "text": [
      "Training: 100%|██████████████████████████████| 54/54 [00:30<00:00,  1.80it/s, Loss=0.0007, Acc=1.0000]\n"
     ]
    },
    {
     "name": "stdout",
     "output_type": "stream",
     "text": [
      "✅ Training completed in 30.07s\n",
      "🔍 Validation Phase...\n"
     ]
    },
    {
     "name": "stderr",
     "output_type": "stream",
     "text": [
      "Validation: 100%|██████████████████████████████| 14/14 [00:03<00:00,  3.62it/s, Loss=2.6706, Acc=0.4933]\n"
     ]
    },
    {
     "name": "stdout",
     "output_type": "stream",
     "text": [
      "✅ Validation completed in 3.87s\n",
      "\n",
      "📊 Epoch 44 Summary:\n",
      "│ Train Loss: 0.0007 | Train Acc: 1.0000\n",
      "│ Val Loss:   2.6706 | Val Acc:   0.4933\n",
      "│ Train Time: 30.07s | Val Time: 3.87s\n",
      "│ Total Epoch Time: 33.95s\n",
      "│ Best Val Acc: 0.5268 (Epoch 16)\n",
      "│ GPU Memory: 0.3GB / 3.2GB\n",
      "================================================================================\n",
      "\n",
      "📈 Epoch 45/50\n",
      "--------------------------------------------------\n",
      "🔄 Training Phase...\n"
     ]
    },
    {
     "name": "stderr",
     "output_type": "stream",
     "text": [
      "Training: 100%|██████████████████████████████| 54/54 [00:30<00:00,  1.78it/s, Loss=0.0011, Acc=0.9994]\n"
     ]
    },
    {
     "name": "stdout",
     "output_type": "stream",
     "text": [
      "✅ Training completed in 30.39s\n",
      "🔍 Validation Phase...\n"
     ]
    },
    {
     "name": "stderr",
     "output_type": "stream",
     "text": [
      "Validation: 100%|██████████████████████████████| 14/14 [00:03<00:00,  3.61it/s, Loss=2.8093, Acc=0.4621]\n"
     ]
    },
    {
     "name": "stdout",
     "output_type": "stream",
     "text": [
      "✅ Validation completed in 3.89s\n",
      "\n",
      "📊 Epoch 45 Summary:\n",
      "│ Train Loss: 0.0011 | Train Acc: 0.9994\n",
      "│ Val Loss:   2.8093 | Val Acc:   0.4621\n",
      "│ Train Time: 30.39s | Val Time: 3.89s\n",
      "│ Total Epoch Time: 34.28s\n",
      "│ Best Val Acc: 0.5268 (Epoch 16)\n",
      "│ GPU Memory: 0.3GB / 3.2GB\n",
      "================================================================================\n",
      "\n",
      "📈 Epoch 46/50\n",
      "--------------------------------------------------\n",
      "🔄 Training Phase...\n"
     ]
    },
    {
     "name": "stderr",
     "output_type": "stream",
     "text": [
      "Training: 100%|██████████████████████████████| 54/54 [00:30<00:00,  1.78it/s, Loss=0.0016, Acc=1.0000]\n"
     ]
    },
    {
     "name": "stdout",
     "output_type": "stream",
     "text": [
      "✅ Training completed in 30.38s\n",
      "🔍 Validation Phase...\n"
     ]
    },
    {
     "name": "stderr",
     "output_type": "stream",
     "text": [
      "Validation: 100%|██████████████████████████████| 14/14 [00:03<00:00,  3.54it/s, Loss=2.7500, Acc=0.4688]\n"
     ]
    },
    {
     "name": "stdout",
     "output_type": "stream",
     "text": [
      "✅ Validation completed in 3.96s\n",
      "\n",
      "📊 Epoch 46 Summary:\n",
      "│ Train Loss: 0.0016 | Train Acc: 1.0000\n",
      "│ Val Loss:   2.7500 | Val Acc:   0.4688\n",
      "│ Train Time: 30.38s | Val Time: 3.96s\n",
      "│ Total Epoch Time: 34.35s\n",
      "│ Best Val Acc: 0.5268 (Epoch 16)\n",
      "│ GPU Memory: 0.3GB / 3.2GB\n",
      "================================================================================\n",
      "\n",
      "📈 Epoch 47/50\n",
      "--------------------------------------------------\n",
      "🔄 Training Phase...\n"
     ]
    },
    {
     "name": "stderr",
     "output_type": "stream",
     "text": [
      "Training: 100%|██████████████████████████████| 54/54 [00:30<00:00,  1.78it/s, Loss=0.0070, Acc=0.9988]\n"
     ]
    },
    {
     "name": "stdout",
     "output_type": "stream",
     "text": [
      "✅ Training completed in 30.34s\n",
      "🔍 Validation Phase...\n"
     ]
    },
    {
     "name": "stderr",
     "output_type": "stream",
     "text": [
      "Validation: 100%|██████████████████████████████| 14/14 [00:04<00:00,  3.44it/s, Loss=2.7896, Acc=0.4799]\n"
     ]
    },
    {
     "name": "stdout",
     "output_type": "stream",
     "text": [
      "✅ Validation completed in 4.08s\n",
      "\n",
      "📊 Epoch 47 Summary:\n",
      "│ Train Loss: 0.0070 | Train Acc: 0.9988\n",
      "│ Val Loss:   2.7896 | Val Acc:   0.4799\n",
      "│ Train Time: 30.34s | Val Time: 4.08s\n",
      "│ Total Epoch Time: 34.42s\n",
      "│ Best Val Acc: 0.5268 (Epoch 16)\n",
      "│ GPU Memory: 0.3GB / 3.2GB\n",
      "================================================================================\n",
      "\n",
      "📈 Epoch 48/50\n",
      "--------------------------------------------------\n",
      "🔄 Training Phase...\n"
     ]
    },
    {
     "name": "stderr",
     "output_type": "stream",
     "text": [
      "Training: 100%|██████████████████████████████| 54/54 [00:29<00:00,  1.80it/s, Loss=0.0248, Acc=0.9924]\n"
     ]
    },
    {
     "name": "stdout",
     "output_type": "stream",
     "text": [
      "✅ Training completed in 29.96s\n",
      "🔍 Validation Phase...\n"
     ]
    },
    {
     "name": "stderr",
     "output_type": "stream",
     "text": [
      "Validation: 100%|██████████████████████████████| 14/14 [00:03<00:00,  3.54it/s, Loss=2.8947, Acc=0.4710]\n"
     ]
    },
    {
     "name": "stdout",
     "output_type": "stream",
     "text": [
      "✅ Validation completed in 3.97s\n",
      "\n",
      "📊 Epoch 48 Summary:\n",
      "│ Train Loss: 0.0248 | Train Acc: 0.9924\n",
      "│ Val Loss:   2.8947 | Val Acc:   0.4710\n",
      "│ Train Time: 29.96s | Val Time: 3.97s\n",
      "│ Total Epoch Time: 33.93s\n",
      "│ Best Val Acc: 0.5268 (Epoch 16)\n",
      "│ GPU Memory: 0.3GB / 3.2GB\n",
      "================================================================================\n",
      "\n",
      "📈 Epoch 49/50\n",
      "--------------------------------------------------\n",
      "🔄 Training Phase...\n"
     ]
    },
    {
     "name": "stderr",
     "output_type": "stream",
     "text": [
      "Training: 100%|██████████████████████████████| 54/54 [00:30<00:00,  1.80it/s, Loss=0.0176, Acc=0.9988]\n"
     ]
    },
    {
     "name": "stdout",
     "output_type": "stream",
     "text": [
      "✅ Training completed in 30.05s\n",
      "🔍 Validation Phase...\n"
     ]
    },
    {
     "name": "stderr",
     "output_type": "stream",
     "text": [
      "Validation: 100%|██████████████████████████████| 14/14 [00:03<00:00,  3.55it/s, Loss=2.5690, Acc=0.4821]\n"
     ]
    },
    {
     "name": "stdout",
     "output_type": "stream",
     "text": [
      "✅ Validation completed in 3.95s\n",
      "\n",
      "📊 Epoch 49 Summary:\n",
      "│ Train Loss: 0.0176 | Train Acc: 0.9988\n",
      "│ Val Loss:   2.5690 | Val Acc:   0.4821\n",
      "│ Train Time: 30.05s | Val Time: 3.95s\n",
      "│ Total Epoch Time: 34.00s\n",
      "│ Best Val Acc: 0.5268 (Epoch 16)\n",
      "│ GPU Memory: 0.3GB / 3.2GB\n",
      "================================================================================\n",
      "\n",
      "📈 Epoch 50/50\n",
      "--------------------------------------------------\n",
      "🔄 Training Phase...\n"
     ]
    },
    {
     "name": "stderr",
     "output_type": "stream",
     "text": [
      "Training: 100%|██████████████████████████████| 54/54 [00:29<00:00,  1.80it/s, Loss=0.0823, Acc=0.9736]\n"
     ]
    },
    {
     "name": "stdout",
     "output_type": "stream",
     "text": [
      "✅ Training completed in 29.96s\n",
      "🔍 Validation Phase...\n"
     ]
    },
    {
     "name": "stderr",
     "output_type": "stream",
     "text": [
      "Validation: 100%|██████████████████████████████| 14/14 [00:03<00:00,  3.62it/s, Loss=3.0663, Acc=0.4330]\n"
     ]
    },
    {
     "name": "stdout",
     "output_type": "stream",
     "text": [
      "✅ Validation completed in 3.87s\n",
      "\n",
      "📊 Epoch 50 Summary:\n",
      "│ Train Loss: 0.0823 | Train Acc: 0.9736\n",
      "│ Val Loss:   3.0663 | Val Acc:   0.4330\n",
      "│ Train Time: 29.96s | Val Time: 3.87s\n",
      "│ Total Epoch Time: 33.84s\n",
      "│ Best Val Acc: 0.5268 (Epoch 16)\n",
      "│ GPU Memory: 0.3GB / 3.2GB\n",
      "================================================================================\n",
      "\n",
      "💾 Best ResNet50 model saved as 'best_resnet50_model.pth'\n",
      "📊 Best model stats:\n",
      "│ Best Epoch: 16\n",
      "│ Best Val Acc: 0.5268\n",
      "\n",
      "💾 ResNet50 training history saved to 'resnet50_training_history.csv'\n",
      "\n",
      "🎉 ResNet50 Training Complete!\n",
      "Total Training Time: 1711.90s (28.5 minutes)\n",
      "Average Epoch Time: 34.24s\n",
      "\n",
      "⏱️  Epoch Timing Breakdown:\n",
      "│ Epoch 1: 42.69s\n",
      "│ Epoch 2: 32.11s\n",
      "│ Epoch 3: 32.75s\n",
      "│ Epoch 4: 33.15s\n",
      "│ Epoch 5: 34.07s\n",
      "│ Epoch 6: 33.82s\n",
      "│ Epoch 7: 33.68s\n",
      "│ Epoch 8: 33.95s\n",
      "│ Epoch 9: 33.99s\n",
      "│ Epoch 10: 34.05s\n",
      "│ Epoch 11: 33.86s\n",
      "│ Epoch 12: 33.92s\n",
      "│ Epoch 13: 34.15s\n",
      "│ Epoch 14: 33.79s\n",
      "│ Epoch 15: 33.93s\n",
      "│ Epoch 16: 33.97s\n",
      "│ Epoch 17: 34.07s\n",
      "│ Epoch 18: 34.18s\n",
      "│ Epoch 19: 34.13s\n",
      "│ Epoch 20: 34.33s\n",
      "│ Epoch 21: 34.55s\n",
      "│ Epoch 22: 34.33s\n",
      "│ Epoch 23: 34.28s\n",
      "│ Epoch 24: 34.28s\n",
      "│ Epoch 25: 33.92s\n",
      "│ Epoch 26: 34.07s\n",
      "│ Epoch 27: 34.28s\n",
      "│ Epoch 28: 34.58s\n",
      "│ Epoch 29: 34.40s\n",
      "│ Epoch 30: 34.29s\n",
      "│ Epoch 31: 34.54s\n",
      "│ Epoch 32: 34.32s\n",
      "│ Epoch 33: 34.49s\n",
      "│ Epoch 34: 34.18s\n",
      "│ Epoch 35: 34.68s\n",
      "│ Epoch 36: 34.48s\n",
      "│ Epoch 37: 34.34s\n",
      "│ Epoch 38: 34.00s\n",
      "│ Epoch 39: 34.20s\n",
      "│ Epoch 40: 34.35s\n",
      "│ Epoch 41: 33.85s\n",
      "│ Epoch 42: 34.19s\n",
      "│ Epoch 43: 33.91s\n",
      "│ Epoch 44: 33.95s\n",
      "│ Epoch 45: 34.28s\n",
      "│ Epoch 46: 34.35s\n",
      "│ Epoch 47: 34.42s\n",
      "│ Epoch 48: 33.93s\n",
      "│ Epoch 49: 34.00s\n",
      "│ Epoch 50: 33.84s\n",
      "\n",
      "🧪 Loading Best ResNet50 Model for Testing...\n",
      "✅ Best ResNet50 model from epoch 16 loaded successfully!\n"
     ]
    },
    {
     "name": "stderr",
     "output_type": "stream",
     "text": [
      "Testing ResNet50: 100%|██████████████████████████████| 18/18 [00:08<00:00,  2.11it/s]\n"
     ]
    },
    {
     "name": "stdout",
     "output_type": "stream",
     "text": [
      "✅ ResNet50 Testing completed in 8.55s\n",
      "\n",
      "📋 ResNet50 Classification Report:\n",
      "                 precision    recall  f1-score   support\n",
      "\n",
      "  boundary_save     0.5857    0.5395    0.5616       152\n",
      "catching_a_ball     0.2697    0.3942    0.3203       104\n",
      "    diving_stop     0.0000    0.0000    0.0000        56\n",
      "        run_out     0.4752    0.5234    0.4981       128\n",
      "       stumping     0.5536    0.5167    0.5345       120\n",
      "\n",
      "       accuracy                         0.4500       560\n",
      "      macro avg     0.3768    0.3948    0.3829       560\n",
      "   weighted avg     0.4363    0.4500    0.4403       560\n",
      "\n",
      "🎯 ResNet50 Test Accuracy: 0.4500\n",
      "\n",
      "📊 ResNet50 Model Performance Summary:\n",
      "│ Best Validation Acc:  0.5268 (Epoch 16)\n",
      "│ Final Test Accuracy:  0.4500\n",
      "│ Val-Test Gap:         0.0768\n"
     ]
    },
    {
     "data": {
      "image/png": "[encoded data removed]",
      "text/plain": [
       "<Figure size 800x600 with 2 Axes>"
      ]
     },
     "metadata": {},
     "output_type": "display_data"
    },
    {
     "data": {
      "image/png": "[encoded data removed]",
      "text/plain": [
       "<Figure size 2000x500 with 4 Axes>"
      ]
     },
     "metadata": {},
     "output_type": "display_data"
    },
    {
     "name": "stdout",
     "output_type": "stream",
     "text": [
      "\n",
      "⏰ ResNet50 Final Timing Summary:\n",
      "│ Total Training: 1711.90s\n",
      "│ Average per Epoch: 34.24s\n",
      "│ Testing Time: 8.55s\n",
      "│ Total Runtime: 1720.45s\n",
      "\n",
      "💾 ResNet50 Files saved:\n",
      "│ best_resnet50_model.pth - Best validation accuracy model\n",
      "│ resnet50_training_history.csv - Training metrics for later plotting\n",
      "\n",
      "🏗️  ResNet50 Architecture Summary:\n",
      "│ Total Parameters: 23,518,277\n",
      "│ Trainable Parameters: 23,518,277\n",
      "│ Model Size: 89.72 MB\n",
      "│ Input Size: 224x224x3\n",
      "│ Output Classes: 5\n",
      "│ Architecture: ResNet50\n",
      "│ Block Type: Bottleneck\n",
      "│ Layers: [3, 4, 6, 3]\n",
      "│ Skip Connections: Yes\n",
      "│ Batch Normalization: Yes\n",
      "│ Activation: ReLU\n",
      "│ Zero Init Residual: Yes\n"
     ]
    }
   ],
   "source": [
    "# -----------------------------\n",
    "# 4. Training Loop with Best Model Saving (Val Accuracy) - ResNet50\n",
    "# -----------------------------\n",
    "train_losses, val_losses = [], []\n",
    "train_accs, val_accs = [], []\n",
    "epoch_times = []\n",
    "epochs = 50\n",
    "\n",
    "# Initialize best model tracking\n",
    "best_val_acc = 0.0\n",
    "best_model_state = None\n",
    "best_epoch = 0\n",
    "\n",
    "print(f\"\\n🚀 Starting ResNet50 Training for {epochs} epochs...\")\n",
    "print(\"=\" * 80)\n",
    "\n",
    "total_start_time = time.time()\n",
    "\n",
    "for epoch in range(epochs):\n",
    "    epoch_start_time = time.time()\n",
    "    \n",
    "    print(f\"\\n📈 Epoch {epoch+1}/{epochs}\")\n",
    "    print(\"-\" * 50)\n",
    "    \n",
    "    # Training Phase\n",
    "    print(\"🔄 Training Phase...\")\n",
    "    model.train()\n",
    "    running_loss, correct, total = 0, 0, 0\n",
    "    \n",
    "    train_pbar = tqdm(train_loader, desc=f\"Training\", \n",
    "                     bar_format='{l_bar}{bar:30}{r_bar}{bar:-30b}')\n",
    "    \n",
    "    train_phase_start = time.time()\n",
    "    \n",
    "    for batch_idx, (imgs, labels) in enumerate(train_pbar):\n",
    "        imgs, labels = imgs.to(device), labels.to(device)\n",
    "        \n",
    "        optimizer.zero_grad()\n",
    "        outputs = model(imgs)\n",
    "        loss = criterion(outputs, labels)\n",
    "        loss.backward()\n",
    "        optimizer.step()\n",
    "        \n",
    "        running_loss += loss.item()\n",
    "        _, preds = torch.max(outputs, 1)\n",
    "        correct += (preds == labels).sum().item()\n",
    "        total += labels.size(0)\n",
    "        \n",
    "        current_acc = correct / total\n",
    "        train_pbar.set_postfix({\n",
    "            'Loss': f'{running_loss/(batch_idx+1):.4f}',\n",
    "            'Acc': f'{current_acc:.4f}'\n",
    "        })\n",
    "        \n",
    "        if device.type == 'cuda' and batch_idx % 10 == 0:\n",
    "            gpu_memory = torch.cuda.memory_allocated() / 1024**3\n",
    "            train_pbar.set_postfix({\n",
    "                'Loss': f'{running_loss/(batch_idx+1):.4f}',\n",
    "                'Acc': f'{current_acc:.4f}',\n",
    "                'GPU': f'{gpu_memory:.1f}GB'\n",
    "            })\n",
    "    \n",
    "    train_phase_time = time.time() - train_phase_start\n",
    "    train_loss = running_loss / len(train_loader)\n",
    "    train_acc = correct / total\n",
    "    train_losses.append(train_loss)\n",
    "    train_accs.append(train_acc)\n",
    "    \n",
    "    print(f\"✅ Training completed in {train_phase_time:.2f}s\")\n",
    "    \n",
    "    # Validation Phase\n",
    "    print(\"🔍 Validation Phase...\")\n",
    "    model.eval()\n",
    "    running_loss, correct, total = 0, 0, 0\n",
    "    \n",
    "    val_phase_start = time.time()\n",
    "    val_pbar = tqdm(val_loader, desc=f\"Validation\", \n",
    "                   bar_format='{l_bar}{bar:30}{r_bar}{bar:-30b}')\n",
    "    \n",
    "    with torch.no_grad():\n",
    "        for batch_idx, (imgs, labels) in enumerate(val_pbar):\n",
    "            imgs, labels = imgs.to(device), labels.to(device)\n",
    "            outputs = model(imgs)\n",
    "            loss = criterion(outputs, labels)\n",
    "            \n",
    "            running_loss += loss.item()\n",
    "            _, preds = torch.max(outputs, 1)\n",
    "            correct += (preds == labels).sum().item()\n",
    "            total += labels.size(0)\n",
    "            \n",
    "            current_acc = correct / total\n",
    "            val_pbar.set_postfix({\n",
    "                'Loss': f'{running_loss/(batch_idx+1):.4f}',\n",
    "                'Acc': f'{current_acc:.4f}'\n",
    "            })\n",
    "    \n",
    "    val_phase_time = time.time() - val_phase_start\n",
    "    val_loss = running_loss / len(val_loader)\n",
    "    val_acc = correct / total\n",
    "    val_losses.append(val_loss)\n",
    "    val_accs.append(val_acc)\n",
    "    \n",
    "    print(f\"✅ Validation completed in {val_phase_time:.2f}s\")\n",
    "    \n",
    "    # Check if this is the best model so far based on val_acc\n",
    "    is_best = val_acc > best_val_acc\n",
    "    if is_best:\n",
    "        best_val_acc = val_acc\n",
    "        best_epoch = epoch + 1\n",
    "        best_model_state = model.state_dict().copy()\n",
    "        print(f\"🌟 New best ResNet50 model found! Validation Accuracy: {val_acc:.4f}\")\n",
    "    \n",
    "    # Epoch Summary\n",
    "    epoch_time = time.time() - epoch_start_time\n",
    "    epoch_times.append(epoch_time)\n",
    "    \n",
    "    print(f\"\\n📊 Epoch {epoch+1} Summary:\")\n",
    "    print(f\"│ Train Loss: {train_loss:.4f} | Train Acc: {train_acc:.4f}\")\n",
    "    print(f\"│ Val Loss:   {val_loss:.4f} | Val Acc:   {val_acc:.4f}\")\n",
    "    print(f\"│ Train Time: {train_phase_time:.2f}s | Val Time: {val_phase_time:.2f}s\")\n",
    "    print(f\"│ Total Epoch Time: {epoch_time:.2f}s\")\n",
    "    print(f\"│ Best Val Acc: {best_val_acc:.4f} (Epoch {best_epoch})\")\n",
    "    \n",
    "    if device.type == 'cuda':\n",
    "        print(f\"│ GPU Memory: {torch.cuda.memory_allocated()/1024**3:.1f}GB / {torch.cuda.memory_reserved()/1024**3:.1f}GB\")\n",
    "    \n",
    "    print(\"=\" * 80)\n",
    "\n",
    "total_training_time = time.time() - total_start_time\n",
    "\n",
    "# Save the best model\n",
    "if best_model_state is not None:\n",
    "    torch.save(best_model_state, 'best_resnet50_model.pth')\n",
    "    print(f\"\\n💾 Best ResNet50 model saved as 'best_resnet50_model.pth'\")\n",
    "    print(f\"📊 Best model stats:\")\n",
    "    print(f\"│ Best Epoch: {best_epoch}\")\n",
    "    print(f\"│ Best Val Acc: {best_val_acc:.4f}\")\n",
    "\n",
    "# Save training history data to CSV\n",
    "history_data = {\n",
    "    'epoch': list(range(1, epochs+1)),\n",
    "    'train_loss': train_losses,\n",
    "    'val_loss': val_losses,\n",
    "    'train_acc': train_accs,\n",
    "    'val_acc': val_accs,\n",
    "    'epoch_time': epoch_times\n",
    "}\n",
    "history_df = pd.DataFrame(history_data)\n",
    "history_df.to_csv('resnet50_training_history.csv', index=False)\n",
    "print(\"\\n💾 ResNet50 training history saved to 'resnet50_training_history.csv'\")\n",
    "\n",
    "# Training Summary\n",
    "print(f\"\\n🎉 ResNet50 Training Complete!\")\n",
    "print(f\"Total Training Time: {total_training_time:.2f}s ({total_training_time/60:.1f} minutes)\")\n",
    "print(f\"Average Epoch Time: {np.mean(epoch_times):.2f}s\")\n",
    "print(\"\\n⏱️  Epoch Timing Breakdown:\")\n",
    "for i, t in enumerate(epoch_times):\n",
    "    print(f\"│ Epoch {i+1}: {t:.2f}s\")\n",
    "\n",
    "# -----------------------------\n",
    "# 5. Load Best Model and Test\n",
    "# -----------------------------\n",
    "print(f\"\\n🧪 Loading Best ResNet50 Model for Testing...\")\n",
    "\n",
    "# Load the best model state\n",
    "if best_model_state is not None:\n",
    "    model.load_state_dict(best_model_state)\n",
    "    print(f\"✅ Best ResNet50 model from epoch {best_epoch} loaded successfully!\")\n",
    "else:\n",
    "    print(\"⚠️  No best model found, using current model state\")\n",
    "\n",
    "test_start_time = time.time()\n",
    "y_true, y_pred = [], []\n",
    "model.eval()\n",
    "\n",
    "test_pbar = tqdm(test_loader, desc=\"Testing ResNet50\", \n",
    "                bar_format='{l_bar}{bar:30}{r_bar}{bar:-30b}')\n",
    "\n",
    "with torch.no_grad():\n",
    "    for imgs, labels in test_pbar:\n",
    "        imgs, labels = imgs.to(device), labels.to(device)\n",
    "        outputs = model(imgs)\n",
    "        _, preds = torch.max(outputs, 1)\n",
    "        y_true.extend(labels.cpu().numpy())\n",
    "        y_pred.extend(preds.cpu().numpy())\n",
    "\n",
    "test_time = time.time() - test_start_time\n",
    "test_accuracy = accuracy_score(y_true, y_pred)\n",
    "\n",
    "print(f\"✅ ResNet50 Testing completed in {test_time:.2f}s\")\n",
    "print(\"\\n📋 ResNet50 Classification Report:\")\n",
    "print(classification_report(y_true, y_pred, target_names=classes,digits=4))\n",
    "print(f\"🎯 ResNet50 Test Accuracy: {test_accuracy:.4f}\")\n",
    "\n",
    "# Model Performance Summary\n",
    "print(f\"\\n📊 ResNet50 Model Performance Summary:\")\n",
    "print(f\"│ Best Validation Acc:  {best_val_acc:.4f} (Epoch {best_epoch})\")\n",
    "print(f\"│ Final Test Accuracy:  {test_accuracy:.4f}\")\n",
    "print(f\"│ Val-Test Gap:         {abs(best_val_acc - test_accuracy):.4f}\")\n",
    "\n",
    "# Confusion Matrix\n",
    "cm = confusion_matrix(y_true, y_pred)\n",
    "plt.figure(figsize=(8, 6))\n",
    "sns.heatmap(cm, annot=True, fmt=\"d\", cmap=\"Blues\", xticklabels=classes, yticklabels=classes)\n",
    "plt.xlabel(\"Predicted\")\n",
    "plt.ylabel(\"True\")\n",
    "plt.title(f\"ResNet50 Confusion Matrix - Best Model (Epoch {best_epoch})\")\n",
    "plt.show()\n",
    "\n",
    "# -----------------------------\n",
    "# 6. Enhanced Visualizations\n",
    "# -----------------------------\n",
    "plt.figure(figsize=(20, 5))\n",
    "\n",
    "# Loss Plot\n",
    "plt.subplot(1, 4, 1)\n",
    "plt.plot(range(1, epochs+1), train_losses, 'b-', label=\"Train Loss\", marker='o', linewidth=2)\n",
    "plt.plot(range(1, epochs+1), val_losses, 'r-', label=\"Val Loss\", marker='s', linewidth=2)\n",
    "plt.axvline(x=best_epoch, color='blue', linestyle='--', alpha=0.7, label=f'Best (Epoch {best_epoch})')\n",
    "plt.legend()\n",
    "plt.title(\"ResNet50 Loss over Epochs\")\n",
    "plt.xlabel(\"Epoch\")\n",
    "plt.ylabel(\"Loss\")\n",
    "plt.grid(True, alpha=0.3)\n",
    "\n",
    "# Accuracy Plot\n",
    "plt.subplot(1, 4, 2)\n",
    "plt.plot(range(1, epochs+1), train_accs, 'b-', label=\"Train Accuracy\", marker='o', linewidth=2)\n",
    "plt.plot(range(1, epochs+1), val_accs, 'r-', label=\"Val Accuracy\", marker='s', linewidth=2)\n",
    "plt.axvline(x=best_epoch, color='blue', linestyle='--', alpha=0.7, label=f'Best (Epoch {best_epoch})')\n",
    "plt.scatter([best_epoch], [best_val_acc], color='blue', s=100, zorder=5)\n",
    "plt.legend()\n",
    "plt.title(\"ResNet50 Accuracy over Epochs\")\n",
    "plt.xlabel(\"Epoch\")\n",
    "plt.ylabel(\"Accuracy\")\n",
    "plt.grid(True, alpha=0.3)\n",
    "\n",
    "# Timing Plot\n",
    "plt.subplot(1, 4, 3)\n",
    "bars = plt.bar(range(1, epochs+1), epoch_times, color='lightblue', alpha=0.7)\n",
    "bars[best_epoch-1].set_color('blue')\n",
    "plt.title(\"ResNet50 Training Time per Epoch\")\n",
    "plt.xlabel(\"Epoch\")\n",
    "plt.ylabel(\"Time (seconds)\")\n",
    "plt.grid(True, alpha=0.3)\n",
    "for i, t in enumerate(epoch_times):\n",
    "    plt.text(i+1, t+0.5, f'{t:.1f}s', ha='center', va='bottom')\n",
    "\n",
    "# Performance Comparison\n",
    "plt.subplot(1, 4, 4)\n",
    "metrics = ['Best Val Acc', 'Test Acc']\n",
    "values = [best_val_acc, test_accuracy]\n",
    "colors = ['lightblue', 'blue']\n",
    "bars = plt.bar(metrics, values, color=colors, alpha=0.7)\n",
    "plt.title(\"ResNet50 Final Model Performance\")\n",
    "plt.ylabel(\"Accuracy\")\n",
    "plt.ylim(0, 1)\n",
    "plt.grid(True, alpha=0.3)\n",
    "for bar, val in zip(bars, values):\n",
    "    plt.text(bar.get_x() + bar.get_width()/2, val + 0.01, \n",
    "             f'{val:.4f}', ha='center', va='bottom')\n",
    "\n",
    "plt.tight_layout()\n",
    "plt.show()\n",
    "\n",
    "print(f\"\\n⏰ ResNet50 Final Timing Summary:\")\n",
    "print(f\"│ Total Training: {total_training_time:.2f}s\")\n",
    "print(f\"│ Average per Epoch: {np.mean(epoch_times):.2f}s\")\n",
    "print(f\"│ Testing Time: {test_time:.2f}s\")\n",
    "print(f\"│ Total Runtime: {total_training_time + test_time:.2f}s\")\n",
    "\n",
    "print(f\"\\n💾 ResNet50 Files saved:\")\n",
    "print(f\"│ best_resnet50_model.pth - Best validation accuracy model\")\n",
    "print(f\"│ resnet50_training_history.csv - Training metrics for later plotting\")\n",
    "\n",
    "# -----------------------------\n",
    "# 7. ResNet50 Architecture Summary\n",
    "# -----------------------------\n",
    "print(f\"\\n🏗️  ResNet50 Architecture Summary:\")\n",
    "print(f\"│ Total Parameters: {sum(p.numel() for p in model.parameters()):,}\")\n",
    "print(f\"│ Trainable Parameters: {sum(p.numel() for p in model.parameters() if p.requires_grad):,}\")\n",
    "print(f\"│ Model Size: {sum(p.numel() * p.element_size() for p in model.parameters()) / 1024**2:.2f} MB\")\n",
    "print(f\"│ Input Size: 224x224x3\")\n",
    "print(f\"│ Output Classes: {len(classes)}\")\n",
    "print(f\"│ Architecture: ResNet50\")\n",
    "print(f\"│ Block Type: Bottleneck\")\n",
    "print(f\"│ Layers: [3, 4, 6, 3]\")\n",
    "print(f\"│ Skip Connections: Yes\")\n",
    "print(f\"│ Batch Normalization: Yes\")\n",
    "print(f\"│ Activation: ReLU\")\n",
    "print(f\"│ Zero Init Residual: Yes\")\n"
   ]
  },
  {
   "cell_type": "code",
   "execution_count": 11,
   "id": "a7fa3942",
   "metadata": {
    "execution": {
     "iopub.execute_input": "2025-09-08T09:04:55.794282Z",
     "iopub.status.busy": "2025-09-08T09:04:55.793649Z",
     "iopub.status.idle": "2025-09-08T09:04:55.834876Z",
     "shell.execute_reply": "2025-09-08T09:04:55.834175Z"
    },
    "papermill": {
     "duration": 0.401641,
     "end_time": "2025-09-08T09:04:55.836017",
     "exception": false,
     "start_time": "2025-09-08T09:04:55.434376",
     "status": "completed"
    },
    "tags": []
   },
   "outputs": [
    {
     "data": {
      "text/html": [
       "<div>\n",
       "<style scoped>\n",
       "    .dataframe tbody tr th:only-of-type {\n",
       "        vertical-align: middle;\n",
       "    }\n",
       "\n",
       "    .dataframe tbody tr th {\n",
       "        vertical-align: top;\n",
       "    }\n",
       "\n",
       "    .dataframe thead th {\n",
       "        text-align: right;\n",
       "    }\n",
       "</style>\n",
       "<table border=\"1\" class=\"dataframe\">\n",
       "  <thead>\n",
       "    <tr style=\"text-align: right;\">\n",
       "      <th></th>\n",
       "      <th>epoch</th>\n",
       "      <th>train_loss</th>\n",
       "      <th>val_loss</th>\n",
       "      <th>train_acc</th>\n",
       "      <th>val_acc</th>\n",
       "      <th>epoch_time</th>\n",
       "    </tr>\n",
       "  </thead>\n",
       "  <tbody>\n",
       "    <tr>\n",
       "      <th>0</th>\n",
       "      <td>1</td>\n",
       "      <td>4.218463</td>\n",
       "      <td>1.923778</td>\n",
       "      <td>0.262911</td>\n",
       "      <td>0.337054</td>\n",
       "      <td>42.694518</td>\n",
       "    </tr>\n",
       "    <tr>\n",
       "      <th>1</th>\n",
       "      <td>2</td>\n",
       "      <td>1.609930</td>\n",
       "      <td>1.482944</td>\n",
       "      <td>0.347418</td>\n",
       "      <td>0.359375</td>\n",
       "      <td>32.106103</td>\n",
       "    </tr>\n",
       "    <tr>\n",
       "      <th>2</th>\n",
       "      <td>3</td>\n",
       "      <td>1.380802</td>\n",
       "      <td>1.500518</td>\n",
       "      <td>0.420188</td>\n",
       "      <td>0.370536</td>\n",
       "      <td>32.754009</td>\n",
       "    </tr>\n",
       "    <tr>\n",
       "      <th>3</th>\n",
       "      <td>4</td>\n",
       "      <td>1.264560</td>\n",
       "      <td>1.662564</td>\n",
       "      <td>0.490610</td>\n",
       "      <td>0.392857</td>\n",
       "      <td>33.146460</td>\n",
       "    </tr>\n",
       "    <tr>\n",
       "      <th>4</th>\n",
       "      <td>5</td>\n",
       "      <td>1.101422</td>\n",
       "      <td>1.542218</td>\n",
       "      <td>0.553991</td>\n",
       "      <td>0.388393</td>\n",
       "      <td>34.066262</td>\n",
       "    </tr>\n",
       "    <tr>\n",
       "      <th>5</th>\n",
       "      <td>6</td>\n",
       "      <td>0.916538</td>\n",
       "      <td>1.914580</td>\n",
       "      <td>0.637324</td>\n",
       "      <td>0.352679</td>\n",
       "      <td>33.822953</td>\n",
       "    </tr>\n",
       "    <tr>\n",
       "      <th>6</th>\n",
       "      <td>7</td>\n",
       "      <td>0.717050</td>\n",
       "      <td>2.406795</td>\n",
       "      <td>0.715962</td>\n",
       "      <td>0.419643</td>\n",
       "      <td>33.681445</td>\n",
       "    </tr>\n",
       "    <tr>\n",
       "      <th>7</th>\n",
       "      <td>8</td>\n",
       "      <td>0.526478</td>\n",
       "      <td>1.948031</td>\n",
       "      <td>0.802817</td>\n",
       "      <td>0.410714</td>\n",
       "      <td>33.953762</td>\n",
       "    </tr>\n",
       "    <tr>\n",
       "      <th>8</th>\n",
       "      <td>9</td>\n",
       "      <td>0.367276</td>\n",
       "      <td>2.493594</td>\n",
       "      <td>0.865610</td>\n",
       "      <td>0.473214</td>\n",
       "      <td>33.993648</td>\n",
       "    </tr>\n",
       "    <tr>\n",
       "      <th>9</th>\n",
       "      <td>10</td>\n",
       "      <td>0.337676</td>\n",
       "      <td>2.078352</td>\n",
       "      <td>0.868545</td>\n",
       "      <td>0.430804</td>\n",
       "      <td>34.054441</td>\n",
       "    </tr>\n",
       "    <tr>\n",
       "      <th>10</th>\n",
       "      <td>11</td>\n",
       "      <td>0.290668</td>\n",
       "      <td>2.413026</td>\n",
       "      <td>0.888498</td>\n",
       "      <td>0.479911</td>\n",
       "      <td>33.863986</td>\n",
       "    </tr>\n",
       "    <tr>\n",
       "      <th>11</th>\n",
       "      <td>12</td>\n",
       "      <td>0.180527</td>\n",
       "      <td>2.603239</td>\n",
       "      <td>0.931925</td>\n",
       "      <td>0.477679</td>\n",
       "      <td>33.918432</td>\n",
       "    </tr>\n",
       "    <tr>\n",
       "      <th>12</th>\n",
       "      <td>13</td>\n",
       "      <td>0.099538</td>\n",
       "      <td>2.644677</td>\n",
       "      <td>0.968897</td>\n",
       "      <td>0.441964</td>\n",
       "      <td>34.151319</td>\n",
       "    </tr>\n",
       "    <tr>\n",
       "      <th>13</th>\n",
       "      <td>14</td>\n",
       "      <td>0.148374</td>\n",
       "      <td>2.704907</td>\n",
       "      <td>0.952465</td>\n",
       "      <td>0.399554</td>\n",
       "      <td>33.791546</td>\n",
       "    </tr>\n",
       "    <tr>\n",
       "      <th>14</th>\n",
       "      <td>15</td>\n",
       "      <td>0.081798</td>\n",
       "      <td>2.595451</td>\n",
       "      <td>0.973005</td>\n",
       "      <td>0.466518</td>\n",
       "      <td>33.927303</td>\n",
       "    </tr>\n",
       "    <tr>\n",
       "      <th>15</th>\n",
       "      <td>16</td>\n",
       "      <td>0.053603</td>\n",
       "      <td>2.525168</td>\n",
       "      <td>0.982394</td>\n",
       "      <td>0.526786</td>\n",
       "      <td>33.966063</td>\n",
       "    </tr>\n",
       "    <tr>\n",
       "      <th>16</th>\n",
       "      <td>17</td>\n",
       "      <td>0.040357</td>\n",
       "      <td>2.657981</td>\n",
       "      <td>0.987676</td>\n",
       "      <td>0.508929</td>\n",
       "      <td>34.069157</td>\n",
       "    </tr>\n",
       "    <tr>\n",
       "      <th>17</th>\n",
       "      <td>18</td>\n",
       "      <td>0.064889</td>\n",
       "      <td>3.218348</td>\n",
       "      <td>0.980047</td>\n",
       "      <td>0.479911</td>\n",
       "      <td>34.180340</td>\n",
       "    </tr>\n",
       "    <tr>\n",
       "      <th>18</th>\n",
       "      <td>19</td>\n",
       "      <td>0.117914</td>\n",
       "      <td>2.755201</td>\n",
       "      <td>0.960681</td>\n",
       "      <td>0.515625</td>\n",
       "      <td>34.131100</td>\n",
       "    </tr>\n",
       "    <tr>\n",
       "      <th>19</th>\n",
       "      <td>20</td>\n",
       "      <td>0.031698</td>\n",
       "      <td>2.680513</td>\n",
       "      <td>0.990023</td>\n",
       "      <td>0.526786</td>\n",
       "      <td>34.326916</td>\n",
       "    </tr>\n",
       "    <tr>\n",
       "      <th>20</th>\n",
       "      <td>21</td>\n",
       "      <td>0.011452</td>\n",
       "      <td>2.612185</td>\n",
       "      <td>0.997653</td>\n",
       "      <td>0.520089</td>\n",
       "      <td>34.545465</td>\n",
       "    </tr>\n",
       "    <tr>\n",
       "      <th>21</th>\n",
       "      <td>22</td>\n",
       "      <td>0.008055</td>\n",
       "      <td>3.031469</td>\n",
       "      <td>0.998239</td>\n",
       "      <td>0.500000</td>\n",
       "      <td>34.334976</td>\n",
       "    </tr>\n",
       "    <tr>\n",
       "      <th>22</th>\n",
       "      <td>23</td>\n",
       "      <td>0.007783</td>\n",
       "      <td>2.811428</td>\n",
       "      <td>0.999413</td>\n",
       "      <td>0.508929</td>\n",
       "      <td>34.277775</td>\n",
       "    </tr>\n",
       "    <tr>\n",
       "      <th>23</th>\n",
       "      <td>24</td>\n",
       "      <td>0.006869</td>\n",
       "      <td>2.952718</td>\n",
       "      <td>0.998826</td>\n",
       "      <td>0.459821</td>\n",
       "      <td>34.280533</td>\n",
       "    </tr>\n",
       "    <tr>\n",
       "      <th>24</th>\n",
       "      <td>25</td>\n",
       "      <td>0.017756</td>\n",
       "      <td>3.119385</td>\n",
       "      <td>0.997653</td>\n",
       "      <td>0.506696</td>\n",
       "      <td>33.918350</td>\n",
       "    </tr>\n",
       "    <tr>\n",
       "      <th>25</th>\n",
       "      <td>26</td>\n",
       "      <td>0.036076</td>\n",
       "      <td>3.075572</td>\n",
       "      <td>0.988850</td>\n",
       "      <td>0.508929</td>\n",
       "      <td>34.069750</td>\n",
       "    </tr>\n",
       "    <tr>\n",
       "      <th>26</th>\n",
       "      <td>27</td>\n",
       "      <td>0.022656</td>\n",
       "      <td>2.898692</td>\n",
       "      <td>0.994131</td>\n",
       "      <td>0.506696</td>\n",
       "      <td>34.284849</td>\n",
       "    </tr>\n",
       "    <tr>\n",
       "      <th>27</th>\n",
       "      <td>28</td>\n",
       "      <td>0.061423</td>\n",
       "      <td>3.288879</td>\n",
       "      <td>0.979460</td>\n",
       "      <td>0.459821</td>\n",
       "      <td>34.576725</td>\n",
       "    </tr>\n",
       "    <tr>\n",
       "      <th>28</th>\n",
       "      <td>29</td>\n",
       "      <td>0.037165</td>\n",
       "      <td>3.171790</td>\n",
       "      <td>0.989437</td>\n",
       "      <td>0.515625</td>\n",
       "      <td>34.404918</td>\n",
       "    </tr>\n",
       "    <tr>\n",
       "      <th>29</th>\n",
       "      <td>30</td>\n",
       "      <td>0.016822</td>\n",
       "      <td>2.764327</td>\n",
       "      <td>0.995305</td>\n",
       "      <td>0.500000</td>\n",
       "      <td>34.290156</td>\n",
       "    </tr>\n",
       "    <tr>\n",
       "      <th>30</th>\n",
       "      <td>31</td>\n",
       "      <td>0.003924</td>\n",
       "      <td>2.968241</td>\n",
       "      <td>0.999413</td>\n",
       "      <td>0.475446</td>\n",
       "      <td>34.543794</td>\n",
       "    </tr>\n",
       "    <tr>\n",
       "      <th>31</th>\n",
       "      <td>32</td>\n",
       "      <td>0.046270</td>\n",
       "      <td>3.378573</td>\n",
       "      <td>0.994718</td>\n",
       "      <td>0.462054</td>\n",
       "      <td>34.320726</td>\n",
       "    </tr>\n",
       "    <tr>\n",
       "      <th>32</th>\n",
       "      <td>33</td>\n",
       "      <td>0.238740</td>\n",
       "      <td>3.516830</td>\n",
       "      <td>0.920775</td>\n",
       "      <td>0.430804</td>\n",
       "      <td>34.487899</td>\n",
       "    </tr>\n",
       "    <tr>\n",
       "      <th>33</th>\n",
       "      <td>34</td>\n",
       "      <td>0.031378</td>\n",
       "      <td>2.765526</td>\n",
       "      <td>0.992958</td>\n",
       "      <td>0.462054</td>\n",
       "      <td>34.184043</td>\n",
       "    </tr>\n",
       "    <tr>\n",
       "      <th>34</th>\n",
       "      <td>35</td>\n",
       "      <td>0.010391</td>\n",
       "      <td>2.783713</td>\n",
       "      <td>0.998239</td>\n",
       "      <td>0.470982</td>\n",
       "      <td>34.681505</td>\n",
       "    </tr>\n",
       "    <tr>\n",
       "      <th>35</th>\n",
       "      <td>36</td>\n",
       "      <td>0.010033</td>\n",
       "      <td>3.128546</td>\n",
       "      <td>0.997653</td>\n",
       "      <td>0.473214</td>\n",
       "      <td>34.479733</td>\n",
       "    </tr>\n",
       "    <tr>\n",
       "      <th>36</th>\n",
       "      <td>37</td>\n",
       "      <td>0.005642</td>\n",
       "      <td>2.772517</td>\n",
       "      <td>0.998826</td>\n",
       "      <td>0.491071</td>\n",
       "      <td>34.335850</td>\n",
       "    </tr>\n",
       "    <tr>\n",
       "      <th>37</th>\n",
       "      <td>38</td>\n",
       "      <td>0.003356</td>\n",
       "      <td>2.803626</td>\n",
       "      <td>1.000000</td>\n",
       "      <td>0.500000</td>\n",
       "      <td>34.002930</td>\n",
       "    </tr>\n",
       "    <tr>\n",
       "      <th>38</th>\n",
       "      <td>39</td>\n",
       "      <td>0.001327</td>\n",
       "      <td>2.731166</td>\n",
       "      <td>1.000000</td>\n",
       "      <td>0.497768</td>\n",
       "      <td>34.196515</td>\n",
       "    </tr>\n",
       "    <tr>\n",
       "      <th>39</th>\n",
       "      <td>40</td>\n",
       "      <td>0.001214</td>\n",
       "      <td>2.621120</td>\n",
       "      <td>1.000000</td>\n",
       "      <td>0.515625</td>\n",
       "      <td>34.354080</td>\n",
       "    </tr>\n",
       "    <tr>\n",
       "      <th>40</th>\n",
       "      <td>41</td>\n",
       "      <td>0.000514</td>\n",
       "      <td>2.631899</td>\n",
       "      <td>1.000000</td>\n",
       "      <td>0.517857</td>\n",
       "      <td>33.850954</td>\n",
       "    </tr>\n",
       "    <tr>\n",
       "      <th>41</th>\n",
       "      <td>42</td>\n",
       "      <td>0.000348</td>\n",
       "      <td>2.629431</td>\n",
       "      <td>1.000000</td>\n",
       "      <td>0.497768</td>\n",
       "      <td>34.190506</td>\n",
       "    </tr>\n",
       "    <tr>\n",
       "      <th>42</th>\n",
       "      <td>43</td>\n",
       "      <td>0.001340</td>\n",
       "      <td>2.721183</td>\n",
       "      <td>1.000000</td>\n",
       "      <td>0.511161</td>\n",
       "      <td>33.906720</td>\n",
       "    </tr>\n",
       "    <tr>\n",
       "      <th>43</th>\n",
       "      <td>44</td>\n",
       "      <td>0.000734</td>\n",
       "      <td>2.670569</td>\n",
       "      <td>1.000000</td>\n",
       "      <td>0.493304</td>\n",
       "      <td>33.947994</td>\n",
       "    </tr>\n",
       "    <tr>\n",
       "      <th>44</th>\n",
       "      <td>45</td>\n",
       "      <td>0.001135</td>\n",
       "      <td>2.809285</td>\n",
       "      <td>0.999413</td>\n",
       "      <td>0.462054</td>\n",
       "      <td>34.275918</td>\n",
       "    </tr>\n",
       "    <tr>\n",
       "      <th>45</th>\n",
       "      <td>46</td>\n",
       "      <td>0.001576</td>\n",
       "      <td>2.749985</td>\n",
       "      <td>1.000000</td>\n",
       "      <td>0.468750</td>\n",
       "      <td>34.347078</td>\n",
       "    </tr>\n",
       "    <tr>\n",
       "      <th>46</th>\n",
       "      <td>47</td>\n",
       "      <td>0.006998</td>\n",
       "      <td>2.789576</td>\n",
       "      <td>0.998826</td>\n",
       "      <td>0.479911</td>\n",
       "      <td>34.422168</td>\n",
       "    </tr>\n",
       "    <tr>\n",
       "      <th>47</th>\n",
       "      <td>48</td>\n",
       "      <td>0.024786</td>\n",
       "      <td>2.894729</td>\n",
       "      <td>0.992371</td>\n",
       "      <td>0.470982</td>\n",
       "      <td>33.931291</td>\n",
       "    </tr>\n",
       "    <tr>\n",
       "      <th>48</th>\n",
       "      <td>49</td>\n",
       "      <td>0.017571</td>\n",
       "      <td>2.568998</td>\n",
       "      <td>0.998826</td>\n",
       "      <td>0.482143</td>\n",
       "      <td>33.999991</td>\n",
       "    </tr>\n",
       "    <tr>\n",
       "      <th>49</th>\n",
       "      <td>50</td>\n",
       "      <td>0.082314</td>\n",
       "      <td>3.066345</td>\n",
       "      <td>0.973592</td>\n",
       "      <td>0.433036</td>\n",
       "      <td>33.836354</td>\n",
       "    </tr>\n",
       "  </tbody>\n",
       "</table>\n",
       "</div>"
      ],
      "text/plain": [
       "    epoch  train_loss  val_loss  train_acc   val_acc  epoch_time\n",
       "0       1    4.218463  1.923778   0.262911  0.337054   42.694518\n",
       "1       2    1.609930  1.482944   0.347418  0.359375   32.106103\n",
       "2       3    1.380802  1.500518   0.420188  0.370536   32.754009\n",
       "3       4    1.264560  1.662564   0.490610  0.392857   33.146460\n",
       "4       5    1.101422  1.542218   0.553991  0.388393   34.066262\n",
       "5       6    0.916538  1.914580   0.637324  0.352679   33.822953\n",
       "6       7    0.717050  2.406795   0.715962  0.419643   33.681445\n",
       "7       8    0.526478  1.948031   0.802817  0.410714   33.953762\n",
       "8       9    0.367276  2.493594   0.865610  0.473214   33.993648\n",
       "9      10    0.337676  2.078352   0.868545  0.430804   34.054441\n",
       "10     11    0.290668  2.413026   0.888498  0.479911   33.863986\n",
       "11     12    0.180527  2.603239   0.931925  0.477679   33.918432\n",
       "12     13    0.099538  2.644677   0.968897  0.441964   34.151319\n",
       "13     14    0.148374  2.704907   0.952465  0.399554   33.791546\n",
       "14     15    0.081798  2.595451   0.973005  0.466518   33.927303\n",
       "15     16    0.053603  2.525168   0.982394  0.526786   33.966063\n",
       "16     17    0.040357  2.657981   0.987676  0.508929   34.069157\n",
       "17     18    0.064889  3.218348   0.980047  0.479911   34.180340\n",
       "18     19    0.117914  2.755201   0.960681  0.515625   34.131100\n",
       "19     20    0.031698  2.680513   0.990023  0.526786   34.326916\n",
       "20     21    0.011452  2.612185   0.997653  0.520089   34.545465\n",
       "21     22    0.008055  3.031469   0.998239  0.500000   34.334976\n",
       "22     23    0.007783  2.811428   0.999413  0.508929   34.277775\n",
       "23     24    0.006869  2.952718   0.998826  0.459821   34.280533\n",
       "24     25    0.017756  3.119385   0.997653  0.506696   33.918350\n",
       "25     26    0.036076  3.075572   0.988850  0.508929   34.069750\n",
       "26     27    0.022656  2.898692   0.994131  0.506696   34.284849\n",
       "27     28    0.061423  3.288879   0.979460  0.459821   34.576725\n",
       "28     29    0.037165  3.171790   0.989437  0.515625   34.404918\n",
       "29     30    0.016822  2.764327   0.995305  0.500000   34.290156\n",
       "30     31    0.003924  2.968241   0.999413  0.475446   34.543794\n",
       "31     32    0.046270  3.378573   0.994718  0.462054   34.320726\n",
       "32     33    0.238740  3.516830   0.920775  0.430804   34.487899\n",
       "33     34    0.031378  2.765526   0.992958  0.462054   34.184043\n",
       "34     35    0.010391  2.783713   0.998239  0.470982   34.681505\n",
       "35     36    0.010033  3.128546   0.997653  0.473214   34.479733\n",
       "36     37    0.005642  2.772517   0.998826  0.491071   34.335850\n",
       "37     38    0.003356  2.803626   1.000000  0.500000   34.002930\n",
       "38     39    0.001327  2.731166   1.000000  0.497768   34.196515\n",
       "39     40    0.001214  2.621120   1.000000  0.515625   34.354080\n",
       "40     41    0.000514  2.631899   1.000000  0.517857   33.850954\n",
       "41     42    0.000348  2.629431   1.000000  0.497768   34.190506\n",
       "42     43    0.001340  2.721183   1.000000  0.511161   33.906720\n",
       "43     44    0.000734  2.670569   1.000000  0.493304   33.947994\n",
       "44     45    0.001135  2.809285   0.999413  0.462054   34.275918\n",
       "45     46    0.001576  2.749985   1.000000  0.468750   34.347078\n",
       "46     47    0.006998  2.789576   0.998826  0.479911   34.422168\n",
       "47     48    0.024786  2.894729   0.992371  0.470982   33.931291\n",
       "48     49    0.017571  2.568998   0.998826  0.482143   33.999991\n",
       "49     50    0.082314  3.066345   0.973592  0.433036   33.836354"
      ]
     },
     "execution_count": 11,
     "metadata": {},
     "output_type": "execute_result"
    }
   ],
   "source": [
    "import pandas as pd\n",
    "df=pd.read_csv(\"/kaggle/working/resnet50_training_history.csv\")\n",
    "df"
   ]
  }
 ],
 "metadata": {
  "kaggle": {
   "accelerator": "nvidiaTeslaT4",
   "dataSources": [
    {
     "datasetId": 7735666,
     "sourceId": 12275446,
     "sourceType": "datasetVersion"
    }
   ],
   "dockerImageVersionId": 31090,
   "isGpuEnabled": true,
   "isInternetEnabled": true,
   "language": "python",
   "sourceType": "notebook"
  },
  "kernelspec": {
   "display_name": "Python 3",
   "language": "python",
   "name": "python3"
  },
  "language_info": {
   "codemirror_mode": {
    "name": "ipython",
    "version": 3
   },
   "file_extension": ".py",
   "mimetype": "text/x-python",
   "name": "python",
   "nbconvert_exporter": "python",
   "pygments_lexer": "ipython3",
   "version": "3.11.13"
  },
  "papermill": {
   "default_parameters": {},
   "duration": 1745.105729,
   "end_time": "2025-09-08T09:04:58.931004",
   "environment_variables": {},
   "exception": null,
   "input_path": "__notebook__.ipynb",
   "output_path": "__notebook__.ipynb",
   "parameters": {},
   "start_time": "2025-09-08T08:35:53.825275",
   "version": "2.6.0"
  }
 },
 "nbformat": 4,
 "nbformat_minor": 5
}
