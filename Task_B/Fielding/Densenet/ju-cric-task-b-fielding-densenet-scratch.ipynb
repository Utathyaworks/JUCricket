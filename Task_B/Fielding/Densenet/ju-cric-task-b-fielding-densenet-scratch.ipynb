{
 "cells": [
  {
   "cell_type": "code",
   "execution_count": 1,
   "id": "7edc81ae",
   "metadata": {
    "_cell_guid": "b1076dfc-b9ad-4769-8c92-a6c4dae69d19",
    "_uuid": "8f2839f25d086af736a60e9eeb907d3b93b6e0e5",
    "execution": {
     "iopub.execute_input": "2025-09-08T08:44:53.997118Z",
     "iopub.status.busy": "2025-09-08T08:44:53.996897Z",
     "iopub.status.idle": "2025-09-08T08:45:12.446260Z",
     "shell.execute_reply": "2025-09-08T08:45:12.445395Z"
    },
    "papermill": {
     "duration": 18.45465,
     "end_time": "2025-09-08T08:45:12.447683",
     "exception": false,
     "start_time": "2025-09-08T08:44:53.993033",
     "status": "completed"
    },
    "tags": []
   },
   "outputs": [
    {
     "name": "stdout",
     "output_type": "stream",
     "text": [
      "Classes: ['boundary_save', 'catching_a_ball', 'diving_stop', 'run_out', 'stumping']\n"
     ]
    }
   ],
   "source": [
    "import torch\n",
    "import torch.nn as nn\n",
    "import torch.nn.functional as F\n",
    "from torch.utils.data import DataLoader\n",
    "from torchvision import datasets, transforms\n",
    "from torchsummary import summary\n",
    "import matplotlib.pyplot as plt\n",
    "from sklearn.metrics import classification_report, confusion_matrix, accuracy_score\n",
    "import seaborn as sns\n",
    "import numpy as np\n",
    "\n",
    "# -----------------------------\n",
    "# 1. Data Preprocessing\n",
    "# -----------------------------\n",
    "data_dir = \"/kaggle/input/ju-cricket/Cricket_Dataset_final/Task_B\"\n",
    "\n",
    "transform = transforms.Compose([\n",
    "    transforms.Resize((224, 224)),\n",
    "    transforms.ToTensor(),\n",
    "    transforms.Normalize([0.485, 0.456, 0.406], \n",
    "                         [0.229, 0.224, 0.225])\n",
    "])\n",
    "\n",
    "train_ds = datasets.ImageFolder(f\"{data_dir}/train/Fielding\", transform=transform)\n",
    "val_ds   = datasets.ImageFolder(f\"{data_dir}/val/Fielding\", transform=transform)\n",
    "test_ds  = datasets.ImageFolder(f\"{data_dir}/test/Fielding\", transform=transform)\n",
    "\n",
    "train_loader = DataLoader(train_ds, batch_size=32, shuffle=True)\n",
    "val_loader   = DataLoader(val_ds, batch_size=32, shuffle=False)\n",
    "test_loader  = DataLoader(test_ds, batch_size=32, shuffle=False)\n",
    "\n",
    "classes = train_ds.classes\n",
    "print(\"Classes:\", classes)"
   ]
  },
  {
   "cell_type": "code",
   "execution_count": 2,
   "id": "abca4f9f",
   "metadata": {
    "execution": {
     "iopub.execute_input": "2025-09-08T08:45:12.454173Z",
     "iopub.status.busy": "2025-09-08T08:45:12.453793Z",
     "iopub.status.idle": "2025-09-08T08:45:12.458396Z",
     "shell.execute_reply": "2025-09-08T08:45:12.457805Z"
    },
    "papermill": {
     "duration": 0.008854,
     "end_time": "2025-09-08T08:45:12.459466",
     "exception": false,
     "start_time": "2025-09-08T08:45:12.450612",
     "status": "completed"
    },
    "tags": []
   },
   "outputs": [
    {
     "name": "stdout",
     "output_type": "stream",
     "text": [
      "Total training images: 1917\n",
      "Total validation images: 504\n",
      "Total test images: 630\n",
      "Total images in dataset: 3051\n"
     ]
    }
   ],
   "source": [
    "print(\"Total training images:\", len(train_ds))\n",
    "print(\"Total validation images:\", len(val_ds))\n",
    "print(\"Total test images:\", len(test_ds))\n",
    "\n",
    "total_images = len(train_ds) + len(val_ds) + len(test_ds)\n",
    "print(\"Total images in dataset:\", total_images)"
   ]
  },
  {
   "cell_type": "code",
   "execution_count": 3,
   "id": "bdffe04d",
   "metadata": {
    "execution": {
     "iopub.execute_input": "2025-09-08T08:45:12.465149Z",
     "iopub.status.busy": "2025-09-08T08:45:12.464896Z",
     "iopub.status.idle": "2025-09-08T08:45:12.471932Z",
     "shell.execute_reply": "2025-09-08T08:45:12.471189Z"
    },
    "papermill": {
     "duration": 0.011076,
     "end_time": "2025-09-08T08:45:12.473078",
     "exception": false,
     "start_time": "2025-09-08T08:45:12.462002",
     "status": "completed"
    },
    "tags": []
   },
   "outputs": [
    {
     "name": "stdout",
     "output_type": "stream",
     "text": [
      "Training images (excluding 'random_occlusion'): 1704\n",
      "Validation images (excluding 'random_occlusion'): 448\n",
      "Test images (excluding 'random_occlusion'): 560\n",
      "Total images (excluding 'random_occlusion'): 2712\n"
     ]
    }
   ],
   "source": [
    "ignore_folder = \"random_occlusion\"\n",
    "\n",
    "def count_images_ignore_folder(dataset, ignore_folder):\n",
    "    count = 0\n",
    "    for img_path, label in dataset.samples:\n",
    "        # Skip if the image path contains the ignore_folder\n",
    "        if ignore_folder not in img_path.split(\"/\"):\n",
    "            count += 1\n",
    "    return count\n",
    "\n",
    "train_count = count_images_ignore_folder(train_ds, ignore_folder)\n",
    "val_count   = count_images_ignore_folder(val_ds, ignore_folder)\n",
    "test_count  = count_images_ignore_folder(test_ds, ignore_folder)\n",
    "\n",
    "total_count = train_count + val_count + test_count\n",
    "\n",
    "print(\"Training images (excluding '{}'): {}\".format(ignore_folder, train_count))\n",
    "print(\"Validation images (excluding '{}'): {}\".format(ignore_folder, val_count))\n",
    "print(\"Test images (excluding '{}'): {}\".format(ignore_folder, test_count))\n",
    "print(\"Total images (excluding '{}'): {}\".format(ignore_folder, total_count))"
   ]
  },
  {
   "cell_type": "code",
   "execution_count": 4,
   "id": "c08ef346",
   "metadata": {
    "execution": {
     "iopub.execute_input": "2025-09-08T08:45:12.479023Z",
     "iopub.status.busy": "2025-09-08T08:45:12.478817Z",
     "iopub.status.idle": "2025-09-08T08:45:12.487018Z",
     "shell.execute_reply": "2025-09-08T08:45:12.486473Z"
    },
    "papermill": {
     "duration": 0.012486,
     "end_time": "2025-09-08T08:45:12.488105",
     "exception": false,
     "start_time": "2025-09-08T08:45:12.475619",
     "status": "completed"
    },
    "tags": []
   },
   "outputs": [
    {
     "name": "stdout",
     "output_type": "stream",
     "text": [
      "Training folders considered: {'original', 'lens_flare', 'dirty_lens', 'blur', 'chromatic_aberration', 'motion_blur', 'random_occlusion', 'gaussian_noise', 'low_resolution'}\n",
      "Validation folders considered: {'original', 'lens_flare', 'dirty_lens', 'blur', 'chromatic_aberration', 'motion_blur', 'random_occlusion', 'gaussian_noise', 'low_resolution'}\n",
      "Test folders considered: {'original', 'lens_flare', 'dirty_lens', 'blur', 'chromatic_aberration', 'motion_blur', 'random_occlusion', 'gaussian_noise', 'low_resolution'}\n"
     ]
    }
   ],
   "source": [
    "ignore_folder = \"random_occlusionw\"\n",
    "\n",
    "def get_included_folders(dataset, ignore_folder):\n",
    "    included = set()\n",
    "    for img_path, label in dataset.samples:\n",
    "        # Split the path into parts and ignore if ignore_folder is in the path\n",
    "        if ignore_folder not in img_path.split(\"/\"):\n",
    "            # The folder name just above the image (or the class folder)\n",
    "            folder_name = img_path.split(\"/\")[-2]\n",
    "            included.add(folder_name)\n",
    "    return included\n",
    "\n",
    "train_folders = get_included_folders(train_ds, ignore_folder)\n",
    "val_folders   = get_included_folders(val_ds, ignore_folder)\n",
    "test_folders  = get_included_folders(test_ds, ignore_folder)\n",
    "\n",
    "print(\"Training folders considered:\", train_folders)\n",
    "print(\"Validation folders considered:\", val_folders)\n",
    "print(\"Test folders considered:\", test_folders)"
   ]
  },
  {
   "cell_type": "code",
   "execution_count": 5,
   "id": "445bcdb2",
   "metadata": {
    "execution": {
     "iopub.execute_input": "2025-09-08T08:45:12.493824Z",
     "iopub.status.busy": "2025-09-08T08:45:12.493651Z",
     "iopub.status.idle": "2025-09-08T08:45:12.711005Z",
     "shell.execute_reply": "2025-09-08T08:45:12.710207Z"
    },
    "papermill": {
     "duration": 0.221585,
     "end_time": "2025-09-08T08:45:12.712313",
     "exception": false,
     "start_time": "2025-09-08T08:45:12.490728",
     "status": "completed"
    },
    "tags": []
   },
   "outputs": [
    {
     "name": "stdout",
     "output_type": "stream",
     "text": [
      "Classes: ['boundary_save', 'catching_a_ball', 'diving_stop', 'run_out', 'stumping']\n",
      "Final Training images: 1704\n",
      "Final Validation images: 448\n",
      "Final Test images: 560\n",
      "Total images after filtering: 2712\n"
     ]
    }
   ],
   "source": [
    "ignore_folder = \"random_occlusion\"\n",
    "\n",
    "def filter_samples(dataset, ignore_folder):\n",
    "    # Keep only samples where ignore_folder is NOT in the path\n",
    "    filtered_samples = [s for s in dataset.samples if ignore_folder not in s[0].split(\"/\")]\n",
    "    dataset.samples = filtered_samples\n",
    "    dataset.targets = [s[1] for s in filtered_samples]  # Update targets accordingly\n",
    "    return dataset\n",
    "\n",
    "# Create original datasets\n",
    "train_ds = datasets.ImageFolder(f\"{data_dir}/train/Fielding\", transform=transform)\n",
    "val_ds   = datasets.ImageFolder(f\"{data_dir}/val/Fielding\", transform=transform)\n",
    "test_ds  = datasets.ImageFolder(f\"{data_dir}/test/Fielding\", transform=transform)\n",
    "\n",
    "# Filter out 'random_occlusion' folder\n",
    "train_ds = filter_samples(train_ds, ignore_folder)\n",
    "val_ds   = filter_samples(val_ds, ignore_folder)\n",
    "test_ds  = filter_samples(test_ds, ignore_folder)\n",
    "\n",
    "# DataLoaders\n",
    "train_loader = DataLoader(train_ds, batch_size=32, shuffle=True)\n",
    "val_loader   = DataLoader(val_ds, batch_size=32, shuffle=False)\n",
    "test_loader  = DataLoader(test_ds, batch_size=32, shuffle=False)\n",
    "\n",
    "# Classes (will remain the same)\n",
    "classes = train_ds.classes\n",
    "print(\"Classes:\", classes)\n",
    "\n",
    "# Show counts\n",
    "print(\"Final Training images:\", len(train_ds))\n",
    "print(\"Final Validation images:\", len(val_ds))\n",
    "print(\"Final Test images:\", len(test_ds))\n",
    "print(\"Total images after filtering:\", len(train_ds) + len(val_ds) + len(test_ds))"
   ]
  },
  {
   "cell_type": "code",
   "execution_count": 6,
   "id": "3c452526",
   "metadata": {
    "execution": {
     "iopub.execute_input": "2025-09-08T08:45:12.718134Z",
     "iopub.status.busy": "2025-09-08T08:45:12.717882Z",
     "iopub.status.idle": "2025-09-08T08:45:12.725724Z",
     "shell.execute_reply": "2025-09-08T08:45:12.724982Z"
    },
    "papermill": {
     "duration": 0.01191,
     "end_time": "2025-09-08T08:45:12.726819",
     "exception": false,
     "start_time": "2025-09-08T08:45:12.714909",
     "status": "completed"
    },
    "tags": []
   },
   "outputs": [
    {
     "name": "stdout",
     "output_type": "stream",
     "text": [
      "Training folders considered: {'original', 'lens_flare', 'dirty_lens', 'blur', 'chromatic_aberration', 'motion_blur', 'gaussian_noise', 'low_resolution'}\n",
      "Validation folders considered: {'original', 'lens_flare', 'dirty_lens', 'blur', 'chromatic_aberration', 'motion_blur', 'gaussian_noise', 'low_resolution'}\n",
      "Test folders considered: {'original', 'lens_flare', 'dirty_lens', 'blur', 'chromatic_aberration', 'motion_blur', 'gaussian_noise', 'low_resolution'}\n"
     ]
    }
   ],
   "source": [
    "ignore_folder = \"random_occlusion\"\n",
    "\n",
    "def get_included_folders(dataset, ignore_folder):\n",
    "    included = set()\n",
    "    for img_path, label in dataset.samples:\n",
    "        # Split the path into parts and ignore if ignore_folder is in the path\n",
    "        if ignore_folder not in img_path.split(\"/\"):\n",
    "            # The folder name just above the image (or the class folder)\n",
    "            folder_name = img_path.split(\"/\")[-2]\n",
    "            included.add(folder_name)\n",
    "    return included\n",
    "\n",
    "train_folders = get_included_folders(train_ds, ignore_folder)\n",
    "val_folders   = get_included_folders(val_ds, ignore_folder)\n",
    "test_folders  = get_included_folders(test_ds, ignore_folder)\n",
    "\n",
    "print(\"Training folders considered:\", train_folders)\n",
    "print(\"Validation folders considered:\", val_folders)\n",
    "print(\"Test folders considered:\", test_folders)"
   ]
  },
  {
   "cell_type": "code",
   "execution_count": 7,
   "id": "be8622b1",
   "metadata": {
    "execution": {
     "iopub.execute_input": "2025-09-08T08:45:12.732805Z",
     "iopub.status.busy": "2025-09-08T08:45:12.732610Z",
     "iopub.status.idle": "2025-09-08T08:45:14.520132Z",
     "shell.execute_reply": "2025-09-08T08:45:14.519383Z"
    },
    "papermill": {
     "duration": 1.792317,
     "end_time": "2025-09-08T08:45:14.521697",
     "exception": false,
     "start_time": "2025-09-08T08:45:12.729380",
     "status": "completed"
    },
    "tags": []
   },
   "outputs": [
    {
     "name": "stdout",
     "output_type": "stream",
     "text": [
      "DenseNet-121 Model Summary:\n",
      "----------------------------------------------------------------\n",
      "        Layer (type)               Output Shape         Param #\n",
      "================================================================\n",
      "            Conv2d-1         [-1, 64, 112, 112]           9,408\n",
      "       BatchNorm2d-2         [-1, 64, 112, 112]             128\n",
      "         MaxPool2d-3           [-1, 64, 56, 56]               0\n",
      "       BatchNorm2d-4           [-1, 64, 56, 56]             128\n",
      "            Conv2d-5          [-1, 128, 56, 56]           8,192\n",
      "       BatchNorm2d-6          [-1, 128, 56, 56]             256\n",
      "            Conv2d-7           [-1, 32, 56, 56]          36,864\n",
      "        DenseLayer-8           [-1, 96, 56, 56]               0\n",
      "       BatchNorm2d-9           [-1, 96, 56, 56]             192\n",
      "           Conv2d-10          [-1, 128, 56, 56]          12,288\n",
      "      BatchNorm2d-11          [-1, 128, 56, 56]             256\n",
      "           Conv2d-12           [-1, 32, 56, 56]          36,864\n",
      "       DenseLayer-13          [-1, 128, 56, 56]               0\n",
      "      BatchNorm2d-14          [-1, 128, 56, 56]             256\n",
      "           Conv2d-15          [-1, 128, 56, 56]          16,384\n",
      "      BatchNorm2d-16          [-1, 128, 56, 56]             256\n",
      "           Conv2d-17           [-1, 32, 56, 56]          36,864\n",
      "       DenseLayer-18          [-1, 160, 56, 56]               0\n",
      "      BatchNorm2d-19          [-1, 160, 56, 56]             320\n",
      "           Conv2d-20          [-1, 128, 56, 56]          20,480\n",
      "      BatchNorm2d-21          [-1, 128, 56, 56]             256\n",
      "           Conv2d-22           [-1, 32, 56, 56]          36,864\n",
      "       DenseLayer-23          [-1, 192, 56, 56]               0\n",
      "      BatchNorm2d-24          [-1, 192, 56, 56]             384\n",
      "           Conv2d-25          [-1, 128, 56, 56]          24,576\n",
      "      BatchNorm2d-26          [-1, 128, 56, 56]             256\n",
      "           Conv2d-27           [-1, 32, 56, 56]          36,864\n",
      "       DenseLayer-28          [-1, 224, 56, 56]               0\n",
      "      BatchNorm2d-29          [-1, 224, 56, 56]             448\n",
      "           Conv2d-30          [-1, 128, 56, 56]          28,672\n",
      "      BatchNorm2d-31          [-1, 128, 56, 56]             256\n",
      "           Conv2d-32           [-1, 32, 56, 56]          36,864\n",
      "       DenseLayer-33          [-1, 256, 56, 56]               0\n",
      "       DenseBlock-34          [-1, 256, 56, 56]               0\n",
      "      BatchNorm2d-35          [-1, 256, 56, 56]             512\n",
      "           Conv2d-36          [-1, 128, 56, 56]          32,768\n",
      "        AvgPool2d-37          [-1, 128, 28, 28]               0\n",
      "  TransitionLayer-38          [-1, 128, 28, 28]               0\n",
      "      BatchNorm2d-39          [-1, 128, 28, 28]             256\n",
      "           Conv2d-40          [-1, 128, 28, 28]          16,384\n",
      "      BatchNorm2d-41          [-1, 128, 28, 28]             256\n",
      "           Conv2d-42           [-1, 32, 28, 28]          36,864\n",
      "       DenseLayer-43          [-1, 160, 28, 28]               0\n",
      "      BatchNorm2d-44          [-1, 160, 28, 28]             320\n",
      "           Conv2d-45          [-1, 128, 28, 28]          20,480\n",
      "      BatchNorm2d-46          [-1, 128, 28, 28]             256\n",
      "           Conv2d-47           [-1, 32, 28, 28]          36,864\n",
      "       DenseLayer-48          [-1, 192, 28, 28]               0\n",
      "      BatchNorm2d-49          [-1, 192, 28, 28]             384\n",
      "           Conv2d-50          [-1, 128, 28, 28]          24,576\n",
      "      BatchNorm2d-51          [-1, 128, 28, 28]             256\n",
      "           Conv2d-52           [-1, 32, 28, 28]          36,864\n",
      "       DenseLayer-53          [-1, 224, 28, 28]               0\n",
      "      BatchNorm2d-54          [-1, 224, 28, 28]             448\n",
      "           Conv2d-55          [-1, 128, 28, 28]          28,672\n",
      "      BatchNorm2d-56          [-1, 128, 28, 28]             256\n",
      "           Conv2d-57           [-1, 32, 28, 28]          36,864\n",
      "       DenseLayer-58          [-1, 256, 28, 28]               0\n",
      "      BatchNorm2d-59          [-1, 256, 28, 28]             512\n",
      "           Conv2d-60          [-1, 128, 28, 28]          32,768\n",
      "      BatchNorm2d-61          [-1, 128, 28, 28]             256\n",
      "           Conv2d-62           [-1, 32, 28, 28]          36,864\n",
      "       DenseLayer-63          [-1, 288, 28, 28]               0\n",
      "      BatchNorm2d-64          [-1, 288, 28, 28]             576\n",
      "           Conv2d-65          [-1, 128, 28, 28]          36,864\n",
      "      BatchNorm2d-66          [-1, 128, 28, 28]             256\n",
      "           Conv2d-67           [-1, 32, 28, 28]          36,864\n",
      "       DenseLayer-68          [-1, 320, 28, 28]               0\n",
      "      BatchNorm2d-69          [-1, 320, 28, 28]             640\n",
      "           Conv2d-70          [-1, 128, 28, 28]          40,960\n",
      "      BatchNorm2d-71          [-1, 128, 28, 28]             256\n",
      "           Conv2d-72           [-1, 32, 28, 28]          36,864\n",
      "       DenseLayer-73          [-1, 352, 28, 28]               0\n",
      "      BatchNorm2d-74          [-1, 352, 28, 28]             704\n",
      "           Conv2d-75          [-1, 128, 28, 28]          45,056\n",
      "      BatchNorm2d-76          [-1, 128, 28, 28]             256\n",
      "           Conv2d-77           [-1, 32, 28, 28]          36,864\n",
      "       DenseLayer-78          [-1, 384, 28, 28]               0\n",
      "      BatchNorm2d-79          [-1, 384, 28, 28]             768\n",
      "           Conv2d-80          [-1, 128, 28, 28]          49,152\n",
      "      BatchNorm2d-81          [-1, 128, 28, 28]             256\n",
      "           Conv2d-82           [-1, 32, 28, 28]          36,864\n",
      "       DenseLayer-83          [-1, 416, 28, 28]               0\n",
      "      BatchNorm2d-84          [-1, 416, 28, 28]             832\n",
      "           Conv2d-85          [-1, 128, 28, 28]          53,248\n",
      "      BatchNorm2d-86          [-1, 128, 28, 28]             256\n",
      "           Conv2d-87           [-1, 32, 28, 28]          36,864\n",
      "       DenseLayer-88          [-1, 448, 28, 28]               0\n",
      "      BatchNorm2d-89          [-1, 448, 28, 28]             896\n",
      "           Conv2d-90          [-1, 128, 28, 28]          57,344\n",
      "      BatchNorm2d-91          [-1, 128, 28, 28]             256\n",
      "           Conv2d-92           [-1, 32, 28, 28]          36,864\n",
      "       DenseLayer-93          [-1, 480, 28, 28]               0\n",
      "      BatchNorm2d-94          [-1, 480, 28, 28]             960\n",
      "           Conv2d-95          [-1, 128, 28, 28]          61,440\n",
      "      BatchNorm2d-96          [-1, 128, 28, 28]             256\n",
      "           Conv2d-97           [-1, 32, 28, 28]          36,864\n",
      "       DenseLayer-98          [-1, 512, 28, 28]               0\n",
      "       DenseBlock-99          [-1, 512, 28, 28]               0\n",
      "     BatchNorm2d-100          [-1, 512, 28, 28]           1,024\n",
      "          Conv2d-101          [-1, 256, 28, 28]         131,072\n",
      "       AvgPool2d-102          [-1, 256, 14, 14]               0\n",
      " TransitionLayer-103          [-1, 256, 14, 14]               0\n",
      "     BatchNorm2d-104          [-1, 256, 14, 14]             512\n",
      "          Conv2d-105          [-1, 128, 14, 14]          32,768\n",
      "     BatchNorm2d-106          [-1, 128, 14, 14]             256\n",
      "          Conv2d-107           [-1, 32, 14, 14]          36,864\n",
      "      DenseLayer-108          [-1, 288, 14, 14]               0\n",
      "     BatchNorm2d-109          [-1, 288, 14, 14]             576\n",
      "          Conv2d-110          [-1, 128, 14, 14]          36,864\n",
      "     BatchNorm2d-111          [-1, 128, 14, 14]             256\n",
      "          Conv2d-112           [-1, 32, 14, 14]          36,864\n",
      "      DenseLayer-113          [-1, 320, 14, 14]               0\n",
      "     BatchNorm2d-114          [-1, 320, 14, 14]             640\n",
      "          Conv2d-115          [-1, 128, 14, 14]          40,960\n",
      "     BatchNorm2d-116          [-1, 128, 14, 14]             256\n",
      "          Conv2d-117           [-1, 32, 14, 14]          36,864\n",
      "      DenseLayer-118          [-1, 352, 14, 14]               0\n",
      "     BatchNorm2d-119          [-1, 352, 14, 14]             704\n",
      "          Conv2d-120          [-1, 128, 14, 14]          45,056\n",
      "     BatchNorm2d-121          [-1, 128, 14, 14]             256\n",
      "          Conv2d-122           [-1, 32, 14, 14]          36,864\n",
      "      DenseLayer-123          [-1, 384, 14, 14]               0\n",
      "     BatchNorm2d-124          [-1, 384, 14, 14]             768\n",
      "          Conv2d-125          [-1, 128, 14, 14]          49,152\n",
      "     BatchNorm2d-126          [-1, 128, 14, 14]             256\n",
      "          Conv2d-127           [-1, 32, 14, 14]          36,864\n",
      "      DenseLayer-128          [-1, 416, 14, 14]               0\n",
      "     BatchNorm2d-129          [-1, 416, 14, 14]             832\n",
      "          Conv2d-130          [-1, 128, 14, 14]          53,248\n",
      "     BatchNorm2d-131          [-1, 128, 14, 14]             256\n",
      "          Conv2d-132           [-1, 32, 14, 14]          36,864\n",
      "      DenseLayer-133          [-1, 448, 14, 14]               0\n",
      "     BatchNorm2d-134          [-1, 448, 14, 14]             896\n",
      "          Conv2d-135          [-1, 128, 14, 14]          57,344\n",
      "     BatchNorm2d-136          [-1, 128, 14, 14]             256\n",
      "          Conv2d-137           [-1, 32, 14, 14]          36,864\n",
      "      DenseLayer-138          [-1, 480, 14, 14]               0\n",
      "     BatchNorm2d-139          [-1, 480, 14, 14]             960\n",
      "          Conv2d-140          [-1, 128, 14, 14]          61,440\n",
      "     BatchNorm2d-141          [-1, 128, 14, 14]             256\n",
      "          Conv2d-142           [-1, 32, 14, 14]          36,864\n",
      "      DenseLayer-143          [-1, 512, 14, 14]               0\n",
      "     BatchNorm2d-144          [-1, 512, 14, 14]           1,024\n",
      "          Conv2d-145          [-1, 128, 14, 14]          65,536\n",
      "     BatchNorm2d-146          [-1, 128, 14, 14]             256\n",
      "          Conv2d-147           [-1, 32, 14, 14]          36,864\n",
      "      DenseLayer-148          [-1, 544, 14, 14]               0\n",
      "     BatchNorm2d-149          [-1, 544, 14, 14]           1,088\n",
      "          Conv2d-150          [-1, 128, 14, 14]          69,632\n",
      "     BatchNorm2d-151          [-1, 128, 14, 14]             256\n",
      "          Conv2d-152           [-1, 32, 14, 14]          36,864\n",
      "      DenseLayer-153          [-1, 576, 14, 14]               0\n",
      "     BatchNorm2d-154          [-1, 576, 14, 14]           1,152\n",
      "          Conv2d-155          [-1, 128, 14, 14]          73,728\n",
      "     BatchNorm2d-156          [-1, 128, 14, 14]             256\n",
      "          Conv2d-157           [-1, 32, 14, 14]          36,864\n",
      "      DenseLayer-158          [-1, 608, 14, 14]               0\n",
      "     BatchNorm2d-159          [-1, 608, 14, 14]           1,216\n",
      "          Conv2d-160          [-1, 128, 14, 14]          77,824\n",
      "     BatchNorm2d-161          [-1, 128, 14, 14]             256\n",
      "          Conv2d-162           [-1, 32, 14, 14]          36,864\n",
      "      DenseLayer-163          [-1, 640, 14, 14]               0\n",
      "     BatchNorm2d-164          [-1, 640, 14, 14]           1,280\n",
      "          Conv2d-165          [-1, 128, 14, 14]          81,920\n",
      "     BatchNorm2d-166          [-1, 128, 14, 14]             256\n",
      "          Conv2d-167           [-1, 32, 14, 14]          36,864\n",
      "      DenseLayer-168          [-1, 672, 14, 14]               0\n",
      "     BatchNorm2d-169          [-1, 672, 14, 14]           1,344\n",
      "          Conv2d-170          [-1, 128, 14, 14]          86,016\n",
      "     BatchNorm2d-171          [-1, 128, 14, 14]             256\n",
      "          Conv2d-172           [-1, 32, 14, 14]          36,864\n",
      "      DenseLayer-173          [-1, 704, 14, 14]               0\n",
      "     BatchNorm2d-174          [-1, 704, 14, 14]           1,408\n",
      "          Conv2d-175          [-1, 128, 14, 14]          90,112\n",
      "     BatchNorm2d-176          [-1, 128, 14, 14]             256\n",
      "          Conv2d-177           [-1, 32, 14, 14]          36,864\n",
      "      DenseLayer-178          [-1, 736, 14, 14]               0\n",
      "     BatchNorm2d-179          [-1, 736, 14, 14]           1,472\n",
      "          Conv2d-180          [-1, 128, 14, 14]          94,208\n",
      "     BatchNorm2d-181          [-1, 128, 14, 14]             256\n",
      "          Conv2d-182           [-1, 32, 14, 14]          36,864\n",
      "      DenseLayer-183          [-1, 768, 14, 14]               0\n",
      "     BatchNorm2d-184          [-1, 768, 14, 14]           1,536\n",
      "          Conv2d-185          [-1, 128, 14, 14]          98,304\n",
      "     BatchNorm2d-186          [-1, 128, 14, 14]             256\n",
      "          Conv2d-187           [-1, 32, 14, 14]          36,864\n",
      "      DenseLayer-188          [-1, 800, 14, 14]               0\n",
      "     BatchNorm2d-189          [-1, 800, 14, 14]           1,600\n",
      "          Conv2d-190          [-1, 128, 14, 14]         102,400\n",
      "     BatchNorm2d-191          [-1, 128, 14, 14]             256\n",
      "          Conv2d-192           [-1, 32, 14, 14]          36,864\n",
      "      DenseLayer-193          [-1, 832, 14, 14]               0\n",
      "     BatchNorm2d-194          [-1, 832, 14, 14]           1,664\n",
      "          Conv2d-195          [-1, 128, 14, 14]         106,496\n",
      "     BatchNorm2d-196          [-1, 128, 14, 14]             256\n",
      "          Conv2d-197           [-1, 32, 14, 14]          36,864\n",
      "      DenseLayer-198          [-1, 864, 14, 14]               0\n",
      "     BatchNorm2d-199          [-1, 864, 14, 14]           1,728\n",
      "          Conv2d-200          [-1, 128, 14, 14]         110,592\n",
      "     BatchNorm2d-201          [-1, 128, 14, 14]             256\n",
      "          Conv2d-202           [-1, 32, 14, 14]          36,864\n",
      "      DenseLayer-203          [-1, 896, 14, 14]               0\n",
      "     BatchNorm2d-204          [-1, 896, 14, 14]           1,792\n",
      "          Conv2d-205          [-1, 128, 14, 14]         114,688\n",
      "     BatchNorm2d-206          [-1, 128, 14, 14]             256\n",
      "          Conv2d-207           [-1, 32, 14, 14]          36,864\n",
      "      DenseLayer-208          [-1, 928, 14, 14]               0\n",
      "     BatchNorm2d-209          [-1, 928, 14, 14]           1,856\n",
      "          Conv2d-210          [-1, 128, 14, 14]         118,784\n",
      "     BatchNorm2d-211          [-1, 128, 14, 14]             256\n",
      "          Conv2d-212           [-1, 32, 14, 14]          36,864\n",
      "      DenseLayer-213          [-1, 960, 14, 14]               0\n",
      "     BatchNorm2d-214          [-1, 960, 14, 14]           1,920\n",
      "          Conv2d-215          [-1, 128, 14, 14]         122,880\n",
      "     BatchNorm2d-216          [-1, 128, 14, 14]             256\n",
      "          Conv2d-217           [-1, 32, 14, 14]          36,864\n",
      "      DenseLayer-218          [-1, 992, 14, 14]               0\n",
      "     BatchNorm2d-219          [-1, 992, 14, 14]           1,984\n",
      "          Conv2d-220          [-1, 128, 14, 14]         126,976\n",
      "     BatchNorm2d-221          [-1, 128, 14, 14]             256\n",
      "          Conv2d-222           [-1, 32, 14, 14]          36,864\n",
      "      DenseLayer-223         [-1, 1024, 14, 14]               0\n",
      "      DenseBlock-224         [-1, 1024, 14, 14]               0\n",
      "     BatchNorm2d-225         [-1, 1024, 14, 14]           2,048\n",
      "          Conv2d-226          [-1, 512, 14, 14]         524,288\n",
      "       AvgPool2d-227            [-1, 512, 7, 7]               0\n",
      " TransitionLayer-228            [-1, 512, 7, 7]               0\n",
      "     BatchNorm2d-229            [-1, 512, 7, 7]           1,024\n",
      "          Conv2d-230            [-1, 128, 7, 7]          65,536\n",
      "     BatchNorm2d-231            [-1, 128, 7, 7]             256\n",
      "          Conv2d-232             [-1, 32, 7, 7]          36,864\n",
      "      DenseLayer-233            [-1, 544, 7, 7]               0\n",
      "     BatchNorm2d-234            [-1, 544, 7, 7]           1,088\n",
      "          Conv2d-235            [-1, 128, 7, 7]          69,632\n",
      "     BatchNorm2d-236            [-1, 128, 7, 7]             256\n",
      "          Conv2d-237             [-1, 32, 7, 7]          36,864\n",
      "      DenseLayer-238            [-1, 576, 7, 7]               0\n",
      "     BatchNorm2d-239            [-1, 576, 7, 7]           1,152\n",
      "          Conv2d-240            [-1, 128, 7, 7]          73,728\n",
      "     BatchNorm2d-241            [-1, 128, 7, 7]             256\n",
      "          Conv2d-242             [-1, 32, 7, 7]          36,864\n",
      "      DenseLayer-243            [-1, 608, 7, 7]               0\n",
      "     BatchNorm2d-244            [-1, 608, 7, 7]           1,216\n",
      "          Conv2d-245            [-1, 128, 7, 7]          77,824\n",
      "     BatchNorm2d-246            [-1, 128, 7, 7]             256\n",
      "          Conv2d-247             [-1, 32, 7, 7]          36,864\n",
      "      DenseLayer-248            [-1, 640, 7, 7]               0\n",
      "     BatchNorm2d-249            [-1, 640, 7, 7]           1,280\n",
      "          Conv2d-250            [-1, 128, 7, 7]          81,920\n",
      "     BatchNorm2d-251            [-1, 128, 7, 7]             256\n",
      "          Conv2d-252             [-1, 32, 7, 7]          36,864\n",
      "      DenseLayer-253            [-1, 672, 7, 7]               0\n",
      "     BatchNorm2d-254            [-1, 672, 7, 7]           1,344\n",
      "          Conv2d-255            [-1, 128, 7, 7]          86,016\n",
      "     BatchNorm2d-256            [-1, 128, 7, 7]             256\n",
      "          Conv2d-257             [-1, 32, 7, 7]          36,864\n",
      "      DenseLayer-258            [-1, 704, 7, 7]               0\n",
      "     BatchNorm2d-259            [-1, 704, 7, 7]           1,408\n",
      "          Conv2d-260            [-1, 128, 7, 7]          90,112\n",
      "     BatchNorm2d-261            [-1, 128, 7, 7]             256\n",
      "          Conv2d-262             [-1, 32, 7, 7]          36,864\n",
      "      DenseLayer-263            [-1, 736, 7, 7]               0\n",
      "     BatchNorm2d-264            [-1, 736, 7, 7]           1,472\n",
      "          Conv2d-265            [-1, 128, 7, 7]          94,208\n",
      "     BatchNorm2d-266            [-1, 128, 7, 7]             256\n",
      "          Conv2d-267             [-1, 32, 7, 7]          36,864\n",
      "      DenseLayer-268            [-1, 768, 7, 7]               0\n",
      "     BatchNorm2d-269            [-1, 768, 7, 7]           1,536\n",
      "          Conv2d-270            [-1, 128, 7, 7]          98,304\n",
      "     BatchNorm2d-271            [-1, 128, 7, 7]             256\n",
      "          Conv2d-272             [-1, 32, 7, 7]          36,864\n",
      "      DenseLayer-273            [-1, 800, 7, 7]               0\n",
      "     BatchNorm2d-274            [-1, 800, 7, 7]           1,600\n",
      "          Conv2d-275            [-1, 128, 7, 7]         102,400\n",
      "     BatchNorm2d-276            [-1, 128, 7, 7]             256\n",
      "          Conv2d-277             [-1, 32, 7, 7]          36,864\n",
      "      DenseLayer-278            [-1, 832, 7, 7]               0\n",
      "     BatchNorm2d-279            [-1, 832, 7, 7]           1,664\n",
      "          Conv2d-280            [-1, 128, 7, 7]         106,496\n",
      "     BatchNorm2d-281            [-1, 128, 7, 7]             256\n",
      "          Conv2d-282             [-1, 32, 7, 7]          36,864\n",
      "      DenseLayer-283            [-1, 864, 7, 7]               0\n",
      "     BatchNorm2d-284            [-1, 864, 7, 7]           1,728\n",
      "          Conv2d-285            [-1, 128, 7, 7]         110,592\n",
      "     BatchNorm2d-286            [-1, 128, 7, 7]             256\n",
      "          Conv2d-287             [-1, 32, 7, 7]          36,864\n",
      "      DenseLayer-288            [-1, 896, 7, 7]               0\n",
      "     BatchNorm2d-289            [-1, 896, 7, 7]           1,792\n",
      "          Conv2d-290            [-1, 128, 7, 7]         114,688\n",
      "     BatchNorm2d-291            [-1, 128, 7, 7]             256\n",
      "          Conv2d-292             [-1, 32, 7, 7]          36,864\n",
      "      DenseLayer-293            [-1, 928, 7, 7]               0\n",
      "     BatchNorm2d-294            [-1, 928, 7, 7]           1,856\n",
      "          Conv2d-295            [-1, 128, 7, 7]         118,784\n",
      "     BatchNorm2d-296            [-1, 128, 7, 7]             256\n",
      "          Conv2d-297             [-1, 32, 7, 7]          36,864\n",
      "      DenseLayer-298            [-1, 960, 7, 7]               0\n",
      "     BatchNorm2d-299            [-1, 960, 7, 7]           1,920\n",
      "          Conv2d-300            [-1, 128, 7, 7]         122,880\n",
      "     BatchNorm2d-301            [-1, 128, 7, 7]             256\n",
      "          Conv2d-302             [-1, 32, 7, 7]          36,864\n",
      "      DenseLayer-303            [-1, 992, 7, 7]               0\n",
      "     BatchNorm2d-304            [-1, 992, 7, 7]           1,984\n",
      "          Conv2d-305            [-1, 128, 7, 7]         126,976\n",
      "     BatchNorm2d-306            [-1, 128, 7, 7]             256\n",
      "          Conv2d-307             [-1, 32, 7, 7]          36,864\n",
      "      DenseLayer-308           [-1, 1024, 7, 7]               0\n",
      "      DenseBlock-309           [-1, 1024, 7, 7]               0\n",
      "     BatchNorm2d-310           [-1, 1024, 7, 7]           2,048\n",
      "AdaptiveAvgPool2d-311           [-1, 1024, 1, 1]               0\n",
      "         Flatten-312                 [-1, 1024]               0\n",
      "          Linear-313                    [-1, 5]           5,125\n",
      "================================================================\n",
      "Total params: 6,958,981\n",
      "Trainable params: 6,958,981\n",
      "Non-trainable params: 0\n",
      "----------------------------------------------------------------\n",
      "Input size (MB): 0.57\n",
      "Forward/backward pass size (MB): 265.11\n",
      "Params size (MB): 26.55\n",
      "Estimated Total Size (MB): 292.23\n",
      "----------------------------------------------------------------\n"
     ]
    }
   ],
   "source": [
    "# -----------------------------\n",
    "# 2. Define DenseNet-121 Model from Scratch\n",
    "# -----------------------------\n",
    "\n",
    "class DenseLayer(nn.Module):\n",
    "    \"\"\"Single Dense Layer: BN-ReLU-Conv(1x1)-BN-ReLU-Conv(3x3)\"\"\"\n",
    "    def __init__(self, in_channels, growth_rate=32, bn_size=4):\n",
    "        super().__init__()\n",
    "        self.bn1 = nn.BatchNorm2d(in_channels)\n",
    "        self.conv1 = nn.Conv2d(in_channels, bn_size * growth_rate, \n",
    "                              kernel_size=1, bias=False)\n",
    "        self.bn2 = nn.BatchNorm2d(bn_size * growth_rate)\n",
    "        self.conv2 = nn.Conv2d(bn_size * growth_rate, growth_rate, \n",
    "                              kernel_size=3, padding=1, bias=False)\n",
    "        \n",
    "    def forward(self, x):\n",
    "        # First convolution block\n",
    "        out = F.relu(self.bn1(x))\n",
    "        out = self.conv1(out)\n",
    "        \n",
    "        # Second convolution block\n",
    "        out = F.relu(self.bn2(out))\n",
    "        out = self.conv2(out)\n",
    "        \n",
    "        # Concatenate input with output (dense connection)\n",
    "        return torch.cat([x, out], 1)\n",
    "\n",
    "class DenseBlock(nn.Module):\n",
    "    \"\"\"Dense Block containing multiple Dense Layers\"\"\"\n",
    "    def __init__(self, num_layers, in_channels, growth_rate=32, bn_size=4):\n",
    "        super().__init__()\n",
    "        self.layers = nn.ModuleList()\n",
    "        \n",
    "        for i in range(num_layers):\n",
    "            layer = DenseLayer(in_channels + i * growth_rate, growth_rate, bn_size)\n",
    "            self.layers.append(layer)\n",
    "            \n",
    "    def forward(self, x):\n",
    "        for layer in self.layers:\n",
    "            x = layer(x)\n",
    "        return x\n",
    "\n",
    "class TransitionLayer(nn.Module):\n",
    "    \"\"\"Transition Layer: BN-ReLU-Conv(1x1)-AvgPool(2x2)\"\"\"\n",
    "    def __init__(self, in_channels, out_channels):\n",
    "        super().__init__()\n",
    "        self.bn = nn.BatchNorm2d(in_channels)\n",
    "        self.conv = nn.Conv2d(in_channels, out_channels, kernel_size=1, bias=False)\n",
    "        self.pool = nn.AvgPool2d(kernel_size=2, stride=2)\n",
    "        \n",
    "    def forward(self, x):\n",
    "        out = F.relu(self.bn(x))\n",
    "        out = self.conv(out)\n",
    "        out = self.pool(out)\n",
    "        return out\n",
    "\n",
    "class MyDenseNet121(nn.Module):\n",
    "    \"\"\"DenseNet-121 Implementation from Scratch\"\"\"\n",
    "    def __init__(self, in_channels=3, classes=4, growth_rate=32, \n",
    "                 block_config=[6, 12, 24, 16], bn_size=4, compression_rate=0.5):\n",
    "        super().__init__()\n",
    "        \n",
    "        # Initial convolution layer\n",
    "        self.initial_conv = nn.Conv2d(in_channels, 64, kernel_size=7, \n",
    "                                     stride=2, padding=3, bias=False)\n",
    "        self.initial_bn = nn.BatchNorm2d(64)\n",
    "        self.initial_pool = nn.MaxPool2d(kernel_size=3, stride=2, padding=1)\n",
    "        \n",
    "        # Dense blocks and transition layers\n",
    "        num_features = 64\n",
    "        \n",
    "        # Dense Block 1 + Transition 1\n",
    "        self.dense_block1 = DenseBlock(block_config[0], num_features, growth_rate, bn_size)\n",
    "        num_features += block_config[0] * growth_rate\n",
    "        out_features = int(num_features * compression_rate)\n",
    "        self.transition1 = TransitionLayer(num_features, out_features)\n",
    "        num_features = out_features\n",
    "        \n",
    "        # Dense Block 2 + Transition 2\n",
    "        self.dense_block2 = DenseBlock(block_config[1], num_features, growth_rate, bn_size)\n",
    "        num_features += block_config[1] * growth_rate\n",
    "        out_features = int(num_features * compression_rate)\n",
    "        self.transition2 = TransitionLayer(num_features, out_features)\n",
    "        num_features = out_features\n",
    "        \n",
    "        # Dense Block 3 + Transition 3\n",
    "        self.dense_block3 = DenseBlock(block_config[2], num_features, growth_rate, bn_size)\n",
    "        num_features += block_config[2] * growth_rate\n",
    "        out_features = int(num_features * compression_rate)\n",
    "        self.transition3 = TransitionLayer(num_features, out_features)\n",
    "        num_features = out_features\n",
    "        \n",
    "        # Dense Block 4 (no transition after last block)\n",
    "        self.dense_block4 = DenseBlock(block_config[3], num_features, growth_rate, bn_size)\n",
    "        num_features += block_config[3] * growth_rate\n",
    "        \n",
    "        # Final layers\n",
    "        self.final_bn = nn.BatchNorm2d(num_features)\n",
    "        self.global_pool = nn.AdaptiveAvgPool2d((1, 1))\n",
    "        self.flatten = nn.Flatten()\n",
    "        self.classifier = nn.Linear(num_features, classes)\n",
    "        \n",
    "        # Initialize weights\n",
    "        self._initialize_weights()\n",
    "    \n",
    "    def _initialize_weights(self):\n",
    "        \"\"\"Initialize weights using He initialization for conv layers\"\"\"\n",
    "        for m in self.modules():\n",
    "            if isinstance(m, nn.Conv2d):\n",
    "                nn.init.kaiming_normal_(m.weight, mode='fan_out', nonlinearity='relu')\n",
    "            elif isinstance(m, nn.BatchNorm2d):\n",
    "                nn.init.constant_(m.weight, 1)\n",
    "                nn.init.constant_(m.bias, 0)\n",
    "            elif isinstance(m, nn.Linear):\n",
    "                nn.init.normal_(m.weight, 0, 0.01)\n",
    "                nn.init.constant_(m.bias, 0)\n",
    "    \n",
    "    def forward(self, x):\n",
    "        # Initial convolution and pooling\n",
    "        x = self.initial_conv(x)\n",
    "        x = F.relu(self.initial_bn(x))\n",
    "        x = self.initial_pool(x)\n",
    "        \n",
    "        # Dense blocks with transitions\n",
    "        x = self.dense_block1(x)\n",
    "        x = self.transition1(x)\n",
    "        \n",
    "        x = self.dense_block2(x)\n",
    "        x = self.transition2(x)\n",
    "        \n",
    "        x = self.dense_block3(x)\n",
    "        x = self.transition3(x)\n",
    "        \n",
    "        x = self.dense_block4(x)\n",
    "        \n",
    "        # Final classification layers\n",
    "        x = F.relu(self.final_bn(x))\n",
    "        x = self.global_pool(x)\n",
    "        x = self.flatten(x)\n",
    "        x = self.classifier(x)\n",
    "        \n",
    "        return x\n",
    "\n",
    "# -----------------------------\n",
    "# 3. Training Setup\n",
    "# -----------------------------\n",
    "device = torch.device(\"cuda\" if torch.cuda.is_available() else \"cpu\")\n",
    "model = MyDenseNet121(3, classes=len(classes)).to(device)\n",
    "\n",
    "criterion = nn.CrossEntropyLoss()\n",
    "optimizer = torch.optim.Adam(model.parameters(), lr=0.001)\n",
    "\n",
    "print(\"DenseNet-121 Model Summary:\")\n",
    "summary(model, (3, 224, 224))"
   ]
  },
  {
   "cell_type": "code",
   "execution_count": 8,
   "id": "76b74361",
   "metadata": {
    "execution": {
     "iopub.execute_input": "2025-09-08T08:45:14.535001Z",
     "iopub.status.busy": "2025-09-08T08:45:14.534756Z",
     "iopub.status.idle": "2025-09-08T09:16:44.023486Z",
     "shell.execute_reply": "2025-09-08T09:16:44.022763Z"
    },
    "papermill": {
     "duration": 1889.808424,
     "end_time": "2025-09-08T09:16:44.339039",
     "exception": false,
     "start_time": "2025-09-08T08:45:14.530615",
     "status": "completed"
    },
    "tags": []
   },
   "outputs": [
    {
     "name": "stdout",
     "output_type": "stream",
     "text": [
      "\n",
      "🚀 Starting DenseNet-121 Training for 50 epochs...\n",
      "================================================================================\n",
      "\n",
      "📈 Epoch 1/50\n",
      "--------------------------------------------------\n",
      "🔄 Training Phase...\n"
     ]
    },
    {
     "name": "stderr",
     "output_type": "stream",
     "text": [
      "Training: 100%|██████████████████████████████| 54/54 [00:44<00:00,  1.20it/s, Loss=1.3695, Acc=0.4149]\n"
     ]
    },
    {
     "name": "stdout",
     "output_type": "stream",
     "text": [
      "✅ Training completed in 44.88s\n",
      "🔍 Validation Phase...\n"
     ]
    },
    {
     "name": "stderr",
     "output_type": "stream",
     "text": [
      "Validation: 100%|██████████████████████████████| 14/14 [00:07<00:00,  1.85it/s, Loss=1.5892, Acc=0.3147]\n"
     ]
    },
    {
     "name": "stdout",
     "output_type": "stream",
     "text": [
      "✅ Validation completed in 7.58s\n",
      "🌟 New best DenseNet-121 model found! Validation Accuracy: 0.3147\n",
      "\n",
      "📊 Epoch 1 Summary:\n",
      "│ Train Loss: 1.3695 | Train Acc: 0.4149\n",
      "│ Val Loss:   1.5892 | Val Acc:   0.3147\n",
      "│ Train Time: 44.88s | Val Time: 7.58s\n",
      "│ Total Epoch Time: 52.46s\n",
      "│ Best Val Acc: 0.3147 (Epoch 1)\n",
      "│ GPU Memory: 0.1GB / 4.5GB\n",
      "================================================================================\n",
      "\n",
      "📈 Epoch 2/50\n",
      "--------------------------------------------------\n",
      "🔄 Training Phase...\n"
     ]
    },
    {
     "name": "stderr",
     "output_type": "stream",
     "text": [
      "Training: 100%|██████████████████████████████| 54/54 [00:31<00:00,  1.69it/s, Loss=1.0625, Acc=0.5816]\n"
     ]
    },
    {
     "name": "stdout",
     "output_type": "stream",
     "text": [
      "✅ Training completed in 31.92s\n",
      "🔍 Validation Phase...\n"
     ]
    },
    {
     "name": "stderr",
     "output_type": "stream",
     "text": [
      "Validation: 100%|██████████████████████████████| 14/14 [00:04<00:00,  3.09it/s, Loss=1.7013, Acc=0.4107]\n"
     ]
    },
    {
     "name": "stdout",
     "output_type": "stream",
     "text": [
      "✅ Validation completed in 4.54s\n",
      "🌟 New best DenseNet-121 model found! Validation Accuracy: 0.4107\n",
      "\n",
      "📊 Epoch 2 Summary:\n",
      "│ Train Loss: 1.0625 | Train Acc: 0.5816\n",
      "│ Val Loss:   1.7013 | Val Acc:   0.4107\n",
      "│ Train Time: 31.92s | Val Time: 4.54s\n",
      "│ Total Epoch Time: 36.47s\n",
      "│ Best Val Acc: 0.4107 (Epoch 2)\n",
      "│ GPU Memory: 0.1GB / 4.5GB\n",
      "================================================================================\n",
      "\n",
      "📈 Epoch 3/50\n",
      "--------------------------------------------------\n",
      "🔄 Training Phase...\n"
     ]
    },
    {
     "name": "stderr",
     "output_type": "stream",
     "text": [
      "Training: 100%|██████████████████████████████| 54/54 [00:33<00:00,  1.59it/s, Loss=0.9093, Acc=0.6549]\n"
     ]
    },
    {
     "name": "stdout",
     "output_type": "stream",
     "text": [
      "✅ Training completed in 34.00s\n",
      "🔍 Validation Phase...\n"
     ]
    },
    {
     "name": "stderr",
     "output_type": "stream",
     "text": [
      "Validation: 100%|██████████████████████████████| 14/14 [00:04<00:00,  3.00it/s, Loss=1.6817, Acc=0.4129]\n"
     ]
    },
    {
     "name": "stdout",
     "output_type": "stream",
     "text": [
      "✅ Validation completed in 4.67s\n",
      "🌟 New best DenseNet-121 model found! Validation Accuracy: 0.4129\n",
      "\n",
      "📊 Epoch 3 Summary:\n",
      "│ Train Loss: 0.9093 | Train Acc: 0.6549\n",
      "│ Val Loss:   1.6817 | Val Acc:   0.4129\n",
      "│ Train Time: 34.00s | Val Time: 4.67s\n",
      "│ Total Epoch Time: 38.67s\n",
      "│ Best Val Acc: 0.4129 (Epoch 3)\n",
      "│ GPU Memory: 0.1GB / 4.5GB\n",
      "================================================================================\n",
      "\n",
      "📈 Epoch 4/50\n",
      "--------------------------------------------------\n",
      "🔄 Training Phase...\n"
     ]
    },
    {
     "name": "stderr",
     "output_type": "stream",
     "text": [
      "Training: 100%|██████████████████████████████| 54/54 [00:32<00:00,  1.65it/s, Loss=0.6827, Acc=0.7482]\n"
     ]
    },
    {
     "name": "stdout",
     "output_type": "stream",
     "text": [
      "✅ Training completed in 32.81s\n",
      "🔍 Validation Phase...\n"
     ]
    },
    {
     "name": "stderr",
     "output_type": "stream",
     "text": [
      "Validation: 100%|██████████████████████████████| 14/14 [00:04<00:00,  3.17it/s, Loss=1.6922, Acc=0.5089]\n"
     ]
    },
    {
     "name": "stdout",
     "output_type": "stream",
     "text": [
      "✅ Validation completed in 4.42s\n",
      "🌟 New best DenseNet-121 model found! Validation Accuracy: 0.5089\n",
      "\n",
      "📊 Epoch 4 Summary:\n",
      "│ Train Loss: 0.6827 | Train Acc: 0.7482\n",
      "│ Val Loss:   1.6922 | Val Acc:   0.5089\n",
      "│ Train Time: 32.81s | Val Time: 4.42s\n",
      "│ Total Epoch Time: 37.24s\n",
      "│ Best Val Acc: 0.5089 (Epoch 4)\n",
      "│ GPU Memory: 0.1GB / 4.5GB\n",
      "================================================================================\n",
      "\n",
      "📈 Epoch 5/50\n",
      "--------------------------------------------------\n",
      "🔄 Training Phase...\n"
     ]
    },
    {
     "name": "stderr",
     "output_type": "stream",
     "text": [
      "Training: 100%|██████████████████████████████| 54/54 [00:33<00:00,  1.63it/s, Loss=0.5007, Acc=0.8175]\n"
     ]
    },
    {
     "name": "stdout",
     "output_type": "stream",
     "text": [
      "✅ Training completed in 33.06s\n",
      "🔍 Validation Phase...\n"
     ]
    },
    {
     "name": "stderr",
     "output_type": "stream",
     "text": [
      "Validation: 100%|██████████████████████████████| 14/14 [00:04<00:00,  3.08it/s, Loss=1.9824, Acc=0.4665]\n"
     ]
    },
    {
     "name": "stdout",
     "output_type": "stream",
     "text": [
      "✅ Validation completed in 4.55s\n",
      "\n",
      "📊 Epoch 5 Summary:\n",
      "│ Train Loss: 0.5007 | Train Acc: 0.8175\n",
      "│ Val Loss:   1.9824 | Val Acc:   0.4665\n",
      "│ Train Time: 33.06s | Val Time: 4.55s\n",
      "│ Total Epoch Time: 37.61s\n",
      "│ Best Val Acc: 0.5089 (Epoch 4)\n",
      "│ GPU Memory: 0.1GB / 4.5GB\n",
      "================================================================================\n",
      "\n",
      "📈 Epoch 6/50\n",
      "--------------------------------------------------\n",
      "🔄 Training Phase...\n"
     ]
    },
    {
     "name": "stderr",
     "output_type": "stream",
     "text": [
      "Training: 100%|██████████████████████████████| 54/54 [00:32<00:00,  1.64it/s, Loss=0.3528, Acc=0.8674]\n"
     ]
    },
    {
     "name": "stdout",
     "output_type": "stream",
     "text": [
      "✅ Training completed in 32.98s\n",
      "🔍 Validation Phase...\n"
     ]
    },
    {
     "name": "stderr",
     "output_type": "stream",
     "text": [
      "Validation: 100%|██████████████████████████████| 14/14 [00:04<00:00,  3.13it/s, Loss=2.2590, Acc=0.4353]\n"
     ]
    },
    {
     "name": "stdout",
     "output_type": "stream",
     "text": [
      "✅ Validation completed in 4.47s\n",
      "\n",
      "📊 Epoch 6 Summary:\n",
      "│ Train Loss: 0.3528 | Train Acc: 0.8674\n",
      "│ Val Loss:   2.2590 | Val Acc:   0.4353\n",
      "│ Train Time: 32.98s | Val Time: 4.47s\n",
      "│ Total Epoch Time: 37.45s\n",
      "│ Best Val Acc: 0.5089 (Epoch 4)\n",
      "│ GPU Memory: 0.1GB / 4.5GB\n",
      "================================================================================\n",
      "\n",
      "📈 Epoch 7/50\n",
      "--------------------------------------------------\n",
      "🔄 Training Phase...\n"
     ]
    },
    {
     "name": "stderr",
     "output_type": "stream",
     "text": [
      "Training: 100%|██████████████████████████████| 54/54 [00:33<00:00,  1.63it/s, Loss=0.3026, Acc=0.8950]\n"
     ]
    },
    {
     "name": "stdout",
     "output_type": "stream",
     "text": [
      "✅ Training completed in 33.10s\n",
      "🔍 Validation Phase...\n"
     ]
    },
    {
     "name": "stderr",
     "output_type": "stream",
     "text": [
      "Validation: 100%|██████████████████████████████| 14/14 [00:04<00:00,  2.99it/s, Loss=2.1942, Acc=0.4888]\n"
     ]
    },
    {
     "name": "stdout",
     "output_type": "stream",
     "text": [
      "✅ Validation completed in 4.69s\n",
      "\n",
      "📊 Epoch 7 Summary:\n",
      "│ Train Loss: 0.3026 | Train Acc: 0.8950\n",
      "│ Val Loss:   2.1942 | Val Acc:   0.4888\n",
      "│ Train Time: 33.10s | Val Time: 4.69s\n",
      "│ Total Epoch Time: 37.80s\n",
      "│ Best Val Acc: 0.5089 (Epoch 4)\n",
      "│ GPU Memory: 0.1GB / 4.5GB\n",
      "================================================================================\n",
      "\n",
      "📈 Epoch 8/50\n",
      "--------------------------------------------------\n",
      "🔄 Training Phase...\n"
     ]
    },
    {
     "name": "stderr",
     "output_type": "stream",
     "text": [
      "Training: 100%|██████████████████████████████| 54/54 [00:32<00:00,  1.64it/s, Loss=0.3134, Acc=0.8914]\n"
     ]
    },
    {
     "name": "stdout",
     "output_type": "stream",
     "text": [
      "✅ Training completed in 32.90s\n",
      "🔍 Validation Phase...\n"
     ]
    },
    {
     "name": "stderr",
     "output_type": "stream",
     "text": [
      "Validation: 100%|██████████████████████████████| 14/14 [00:04<00:00,  3.07it/s, Loss=1.9233, Acc=0.4844]\n"
     ]
    },
    {
     "name": "stdout",
     "output_type": "stream",
     "text": [
      "✅ Validation completed in 4.57s\n",
      "\n",
      "📊 Epoch 8 Summary:\n",
      "│ Train Loss: 0.3134 | Train Acc: 0.8914\n",
      "│ Val Loss:   1.9233 | Val Acc:   0.4844\n",
      "│ Train Time: 32.90s | Val Time: 4.57s\n",
      "│ Total Epoch Time: 37.47s\n",
      "│ Best Val Acc: 0.5089 (Epoch 4)\n",
      "│ GPU Memory: 0.1GB / 4.5GB\n",
      "================================================================================\n",
      "\n",
      "📈 Epoch 9/50\n",
      "--------------------------------------------------\n",
      "🔄 Training Phase...\n"
     ]
    },
    {
     "name": "stderr",
     "output_type": "stream",
     "text": [
      "Training: 100%|██████████████████████████████| 54/54 [00:33<00:00,  1.63it/s, Loss=0.2437, Acc=0.9208]\n"
     ]
    },
    {
     "name": "stdout",
     "output_type": "stream",
     "text": [
      "✅ Training completed in 33.09s\n",
      "🔍 Validation Phase...\n"
     ]
    },
    {
     "name": "stderr",
     "output_type": "stream",
     "text": [
      "Validation: 100%|██████████████████████████████| 14/14 [00:04<00:00,  3.00it/s, Loss=1.9374, Acc=0.5134]\n"
     ]
    },
    {
     "name": "stdout",
     "output_type": "stream",
     "text": [
      "✅ Validation completed in 4.67s\n",
      "🌟 New best DenseNet-121 model found! Validation Accuracy: 0.5134\n",
      "\n",
      "📊 Epoch 9 Summary:\n",
      "│ Train Loss: 0.2437 | Train Acc: 0.9208\n",
      "│ Val Loss:   1.9374 | Val Acc:   0.5134\n",
      "│ Train Time: 33.09s | Val Time: 4.67s\n",
      "│ Total Epoch Time: 37.78s\n",
      "│ Best Val Acc: 0.5134 (Epoch 9)\n",
      "│ GPU Memory: 0.1GB / 4.5GB\n",
      "================================================================================\n",
      "\n",
      "📈 Epoch 10/50\n",
      "--------------------------------------------------\n",
      "🔄 Training Phase...\n"
     ]
    },
    {
     "name": "stderr",
     "output_type": "stream",
     "text": [
      "Training: 100%|██████████████████████████████| 54/54 [00:33<00:00,  1.63it/s, Loss=0.2338, Acc=0.9184]\n"
     ]
    },
    {
     "name": "stdout",
     "output_type": "stream",
     "text": [
      "✅ Training completed in 33.06s\n",
      "🔍 Validation Phase...\n"
     ]
    },
    {
     "name": "stderr",
     "output_type": "stream",
     "text": [
      "Validation: 100%|██████████████████████████████| 14/14 [00:04<00:00,  3.11it/s, Loss=2.5437, Acc=0.5246]\n"
     ]
    },
    {
     "name": "stdout",
     "output_type": "stream",
     "text": [
      "✅ Validation completed in 4.50s\n",
      "🌟 New best DenseNet-121 model found! Validation Accuracy: 0.5246\n",
      "\n",
      "📊 Epoch 10 Summary:\n",
      "│ Train Loss: 0.2338 | Train Acc: 0.9184\n",
      "│ Val Loss:   2.5437 | Val Acc:   0.5246\n",
      "│ Train Time: 33.06s | Val Time: 4.50s\n",
      "│ Total Epoch Time: 37.57s\n",
      "│ Best Val Acc: 0.5246 (Epoch 10)\n",
      "│ GPU Memory: 0.1GB / 4.5GB\n",
      "================================================================================\n",
      "\n",
      "📈 Epoch 11/50\n",
      "--------------------------------------------------\n",
      "🔄 Training Phase...\n"
     ]
    },
    {
     "name": "stderr",
     "output_type": "stream",
     "text": [
      "Training: 100%|██████████████████████████████| 54/54 [00:33<00:00,  1.62it/s, Loss=0.1546, Acc=0.9448]\n"
     ]
    },
    {
     "name": "stdout",
     "output_type": "stream",
     "text": [
      "✅ Training completed in 33.31s\n",
      "🔍 Validation Phase...\n"
     ]
    },
    {
     "name": "stderr",
     "output_type": "stream",
     "text": [
      "Validation: 100%|██████████████████████████████| 14/14 [00:04<00:00,  2.94it/s, Loss=2.0257, Acc=0.5268]\n"
     ]
    },
    {
     "name": "stdout",
     "output_type": "stream",
     "text": [
      "✅ Validation completed in 4.77s\n",
      "🌟 New best DenseNet-121 model found! Validation Accuracy: 0.5268\n",
      "\n",
      "📊 Epoch 11 Summary:\n",
      "│ Train Loss: 0.1546 | Train Acc: 0.9448\n",
      "│ Val Loss:   2.0257 | Val Acc:   0.5268\n",
      "│ Train Time: 33.31s | Val Time: 4.77s\n",
      "│ Total Epoch Time: 38.08s\n",
      "│ Best Val Acc: 0.5268 (Epoch 11)\n",
      "│ GPU Memory: 0.1GB / 4.5GB\n",
      "================================================================================\n",
      "\n",
      "📈 Epoch 12/50\n",
      "--------------------------------------------------\n",
      "🔄 Training Phase...\n"
     ]
    },
    {
     "name": "stderr",
     "output_type": "stream",
     "text": [
      "Training: 100%|██████████████████████████████| 54/54 [00:33<00:00,  1.62it/s, Loss=0.0639, Acc=0.9812]\n"
     ]
    },
    {
     "name": "stdout",
     "output_type": "stream",
     "text": [
      "✅ Training completed in 33.32s\n",
      "🔍 Validation Phase...\n"
     ]
    },
    {
     "name": "stderr",
     "output_type": "stream",
     "text": [
      "Validation: 100%|██████████████████████████████| 14/14 [00:04<00:00,  3.03it/s, Loss=2.5003, Acc=0.5357]\n"
     ]
    },
    {
     "name": "stdout",
     "output_type": "stream",
     "text": [
      "✅ Validation completed in 4.63s\n",
      "🌟 New best DenseNet-121 model found! Validation Accuracy: 0.5357\n",
      "\n",
      "📊 Epoch 12 Summary:\n",
      "│ Train Loss: 0.0639 | Train Acc: 0.9812\n",
      "│ Val Loss:   2.5003 | Val Acc:   0.5357\n",
      "│ Train Time: 33.32s | Val Time: 4.63s\n",
      "│ Total Epoch Time: 37.96s\n",
      "│ Best Val Acc: 0.5357 (Epoch 12)\n",
      "│ GPU Memory: 0.1GB / 4.5GB\n",
      "================================================================================\n",
      "\n",
      "📈 Epoch 13/50\n",
      "--------------------------------------------------\n",
      "🔄 Training Phase...\n"
     ]
    },
    {
     "name": "stderr",
     "output_type": "stream",
     "text": [
      "Training: 100%|██████████████████████████████| 54/54 [00:33<00:00,  1.63it/s, Loss=0.0967, Acc=0.9648]\n"
     ]
    },
    {
     "name": "stdout",
     "output_type": "stream",
     "text": [
      "✅ Training completed in 33.19s\n",
      "🔍 Validation Phase...\n"
     ]
    },
    {
     "name": "stderr",
     "output_type": "stream",
     "text": [
      "Validation: 100%|██████████████████████████████| 14/14 [00:04<00:00,  3.06it/s, Loss=2.4511, Acc=0.5223]\n"
     ]
    },
    {
     "name": "stdout",
     "output_type": "stream",
     "text": [
      "✅ Validation completed in 4.58s\n",
      "\n",
      "📊 Epoch 13 Summary:\n",
      "│ Train Loss: 0.0967 | Train Acc: 0.9648\n",
      "│ Val Loss:   2.4511 | Val Acc:   0.5223\n",
      "│ Train Time: 33.19s | Val Time: 4.58s\n",
      "│ Total Epoch Time: 37.78s\n",
      "│ Best Val Acc: 0.5357 (Epoch 12)\n",
      "│ GPU Memory: 0.1GB / 4.5GB\n",
      "================================================================================\n",
      "\n",
      "📈 Epoch 14/50\n",
      "--------------------------------------------------\n",
      "🔄 Training Phase...\n"
     ]
    },
    {
     "name": "stderr",
     "output_type": "stream",
     "text": [
      "Training: 100%|██████████████████████████████| 54/54 [00:33<00:00,  1.62it/s, Loss=0.1313, Acc=0.9560]\n"
     ]
    },
    {
     "name": "stdout",
     "output_type": "stream",
     "text": [
      "✅ Training completed in 33.35s\n",
      "🔍 Validation Phase...\n"
     ]
    },
    {
     "name": "stderr",
     "output_type": "stream",
     "text": [
      "Validation: 100%|██████████████████████████████| 14/14 [00:04<00:00,  3.05it/s, Loss=2.5474, Acc=0.5290]\n"
     ]
    },
    {
     "name": "stdout",
     "output_type": "stream",
     "text": [
      "✅ Validation completed in 4.59s\n",
      "\n",
      "📊 Epoch 14 Summary:\n",
      "│ Train Loss: 0.1313 | Train Acc: 0.9560\n",
      "│ Val Loss:   2.5474 | Val Acc:   0.5290\n",
      "│ Train Time: 33.35s | Val Time: 4.59s\n",
      "│ Total Epoch Time: 37.95s\n",
      "│ Best Val Acc: 0.5357 (Epoch 12)\n",
      "│ GPU Memory: 0.1GB / 4.5GB\n",
      "================================================================================\n",
      "\n",
      "📈 Epoch 15/50\n",
      "--------------------------------------------------\n",
      "🔄 Training Phase...\n"
     ]
    },
    {
     "name": "stderr",
     "output_type": "stream",
     "text": [
      "Training: 100%|██████████████████████████████| 54/54 [00:33<00:00,  1.63it/s, Loss=0.1304, Acc=0.9589]\n"
     ]
    },
    {
     "name": "stdout",
     "output_type": "stream",
     "text": [
      "✅ Training completed in 33.20s\n",
      "🔍 Validation Phase...\n"
     ]
    },
    {
     "name": "stderr",
     "output_type": "stream",
     "text": [
      "Validation: 100%|██████████████████████████████| 14/14 [00:04<00:00,  3.08it/s, Loss=2.9714, Acc=0.4978]\n"
     ]
    },
    {
     "name": "stdout",
     "output_type": "stream",
     "text": [
      "✅ Validation completed in 4.55s\n",
      "\n",
      "📊 Epoch 15 Summary:\n",
      "│ Train Loss: 0.1304 | Train Acc: 0.9589\n",
      "│ Val Loss:   2.9714 | Val Acc:   0.4978\n",
      "│ Train Time: 33.20s | Val Time: 4.55s\n",
      "│ Total Epoch Time: 37.75s\n",
      "│ Best Val Acc: 0.5357 (Epoch 12)\n",
      "│ GPU Memory: 0.1GB / 4.5GB\n",
      "================================================================================\n",
      "\n",
      "📈 Epoch 16/50\n",
      "--------------------------------------------------\n",
      "🔄 Training Phase...\n"
     ]
    },
    {
     "name": "stderr",
     "output_type": "stream",
     "text": [
      "Training: 100%|██████████████████████████████| 54/54 [00:32<00:00,  1.65it/s, Loss=0.0797, Acc=0.9695]\n"
     ]
    },
    {
     "name": "stdout",
     "output_type": "stream",
     "text": [
      "✅ Training completed in 32.82s\n",
      "🔍 Validation Phase...\n"
     ]
    },
    {
     "name": "stderr",
     "output_type": "stream",
     "text": [
      "Validation: 100%|██████████████████████████████| 14/14 [00:04<00:00,  3.15it/s, Loss=2.4012, Acc=0.5379]\n"
     ]
    },
    {
     "name": "stdout",
     "output_type": "stream",
     "text": [
      "✅ Validation completed in 4.45s\n",
      "🌟 New best DenseNet-121 model found! Validation Accuracy: 0.5379\n",
      "\n",
      "📊 Epoch 16 Summary:\n",
      "│ Train Loss: 0.0797 | Train Acc: 0.9695\n",
      "│ Val Loss:   2.4012 | Val Acc:   0.5379\n",
      "│ Train Time: 32.82s | Val Time: 4.45s\n",
      "│ Total Epoch Time: 37.28s\n",
      "│ Best Val Acc: 0.5379 (Epoch 16)\n",
      "│ GPU Memory: 0.1GB / 4.5GB\n",
      "================================================================================\n",
      "\n",
      "📈 Epoch 17/50\n",
      "--------------------------------------------------\n",
      "🔄 Training Phase...\n"
     ]
    },
    {
     "name": "stderr",
     "output_type": "stream",
     "text": [
      "Training: 100%|██████████████████████████████| 54/54 [00:32<00:00,  1.65it/s, Loss=0.0350, Acc=0.9906]\n"
     ]
    },
    {
     "name": "stdout",
     "output_type": "stream",
     "text": [
      "✅ Training completed in 32.78s\n",
      "🔍 Validation Phase...\n"
     ]
    },
    {
     "name": "stderr",
     "output_type": "stream",
     "text": [
      "Validation: 100%|██████████████████████████████| 14/14 [00:04<00:00,  3.06it/s, Loss=2.9324, Acc=0.5000]\n"
     ]
    },
    {
     "name": "stdout",
     "output_type": "stream",
     "text": [
      "✅ Validation completed in 4.58s\n",
      "\n",
      "📊 Epoch 17 Summary:\n",
      "│ Train Loss: 0.0350 | Train Acc: 0.9906\n",
      "│ Val Loss:   2.9324 | Val Acc:   0.5000\n",
      "│ Train Time: 32.78s | Val Time: 4.58s\n",
      "│ Total Epoch Time: 37.37s\n",
      "│ Best Val Acc: 0.5379 (Epoch 16)\n",
      "│ GPU Memory: 0.1GB / 4.5GB\n",
      "================================================================================\n",
      "\n",
      "📈 Epoch 18/50\n",
      "--------------------------------------------------\n",
      "🔄 Training Phase...\n"
     ]
    },
    {
     "name": "stderr",
     "output_type": "stream",
     "text": [
      "Training: 100%|██████████████████████████████| 54/54 [00:33<00:00,  1.63it/s, Loss=0.0576, Acc=0.9830]\n"
     ]
    },
    {
     "name": "stdout",
     "output_type": "stream",
     "text": [
      "✅ Training completed in 33.04s\n",
      "🔍 Validation Phase...\n"
     ]
    },
    {
     "name": "stderr",
     "output_type": "stream",
     "text": [
      "Validation: 100%|██████████████████████████████| 14/14 [00:04<00:00,  3.07it/s, Loss=2.9365, Acc=0.4464]\n"
     ]
    },
    {
     "name": "stdout",
     "output_type": "stream",
     "text": [
      "✅ Validation completed in 4.56s\n",
      "\n",
      "📊 Epoch 18 Summary:\n",
      "│ Train Loss: 0.0576 | Train Acc: 0.9830\n",
      "│ Val Loss:   2.9365 | Val Acc:   0.4464\n",
      "│ Train Time: 33.04s | Val Time: 4.56s\n",
      "│ Total Epoch Time: 37.60s\n",
      "│ Best Val Acc: 0.5379 (Epoch 16)\n",
      "│ GPU Memory: 0.1GB / 4.5GB\n",
      "================================================================================\n",
      "\n",
      "📈 Epoch 19/50\n",
      "--------------------------------------------------\n",
      "🔄 Training Phase...\n"
     ]
    },
    {
     "name": "stderr",
     "output_type": "stream",
     "text": [
      "Training: 100%|██████████████████████████████| 54/54 [00:32<00:00,  1.64it/s, Loss=0.0860, Acc=0.9707]\n"
     ]
    },
    {
     "name": "stdout",
     "output_type": "stream",
     "text": [
      "✅ Training completed in 32.94s\n",
      "🔍 Validation Phase...\n"
     ]
    },
    {
     "name": "stderr",
     "output_type": "stream",
     "text": [
      "Validation: 100%|██████████████████████████████| 14/14 [00:04<00:00,  3.07it/s, Loss=2.5751, Acc=0.5491]\n"
     ]
    },
    {
     "name": "stdout",
     "output_type": "stream",
     "text": [
      "✅ Validation completed in 4.56s\n",
      "🌟 New best DenseNet-121 model found! Validation Accuracy: 0.5491\n",
      "\n",
      "📊 Epoch 19 Summary:\n",
      "│ Train Loss: 0.0860 | Train Acc: 0.9707\n",
      "│ Val Loss:   2.5751 | Val Acc:   0.5491\n",
      "│ Train Time: 32.94s | Val Time: 4.56s\n",
      "│ Total Epoch Time: 37.51s\n",
      "│ Best Val Acc: 0.5491 (Epoch 19)\n",
      "│ GPU Memory: 0.1GB / 4.5GB\n",
      "================================================================================\n",
      "\n",
      "📈 Epoch 20/50\n",
      "--------------------------------------------------\n",
      "🔄 Training Phase...\n"
     ]
    },
    {
     "name": "stderr",
     "output_type": "stream",
     "text": [
      "Training: 100%|██████████████████████████████| 54/54 [00:33<00:00,  1.64it/s, Loss=0.0407, Acc=0.9853]\n"
     ]
    },
    {
     "name": "stdout",
     "output_type": "stream",
     "text": [
      "✅ Training completed in 33.01s\n",
      "🔍 Validation Phase...\n"
     ]
    },
    {
     "name": "stderr",
     "output_type": "stream",
     "text": [
      "Validation: 100%|██████████████████████████████| 14/14 [00:04<00:00,  3.12it/s, Loss=2.7905, Acc=0.5223]\n"
     ]
    },
    {
     "name": "stdout",
     "output_type": "stream",
     "text": [
      "✅ Validation completed in 4.48s\n",
      "\n",
      "📊 Epoch 20 Summary:\n",
      "│ Train Loss: 0.0407 | Train Acc: 0.9853\n",
      "│ Val Loss:   2.7905 | Val Acc:   0.5223\n",
      "│ Train Time: 33.01s | Val Time: 4.48s\n",
      "│ Total Epoch Time: 37.50s\n",
      "│ Best Val Acc: 0.5491 (Epoch 19)\n",
      "│ GPU Memory: 0.1GB / 4.5GB\n",
      "================================================================================\n",
      "\n",
      "📈 Epoch 21/50\n",
      "--------------------------------------------------\n",
      "🔄 Training Phase...\n"
     ]
    },
    {
     "name": "stderr",
     "output_type": "stream",
     "text": [
      "Training: 100%|██████████████████████████████| 54/54 [00:33<00:00,  1.63it/s, Loss=0.0397, Acc=0.9894]\n"
     ]
    },
    {
     "name": "stdout",
     "output_type": "stream",
     "text": [
      "✅ Training completed in 33.05s\n",
      "🔍 Validation Phase...\n"
     ]
    },
    {
     "name": "stderr",
     "output_type": "stream",
     "text": [
      "Validation: 100%|██████████████████████████████| 14/14 [00:04<00:00,  3.08it/s, Loss=2.8853, Acc=0.5000]\n"
     ]
    },
    {
     "name": "stdout",
     "output_type": "stream",
     "text": [
      "✅ Validation completed in 4.54s\n",
      "\n",
      "📊 Epoch 21 Summary:\n",
      "│ Train Loss: 0.0397 | Train Acc: 0.9894\n",
      "│ Val Loss:   2.8853 | Val Acc:   0.5000\n",
      "│ Train Time: 33.05s | Val Time: 4.54s\n",
      "│ Total Epoch Time: 37.60s\n",
      "│ Best Val Acc: 0.5491 (Epoch 19)\n",
      "│ GPU Memory: 0.1GB / 4.5GB\n",
      "================================================================================\n",
      "\n",
      "📈 Epoch 22/50\n",
      "--------------------------------------------------\n",
      "🔄 Training Phase...\n"
     ]
    },
    {
     "name": "stderr",
     "output_type": "stream",
     "text": [
      "Training: 100%|██████████████████████████████| 54/54 [00:32<00:00,  1.64it/s, Loss=0.0633, Acc=0.9777]\n"
     ]
    },
    {
     "name": "stdout",
     "output_type": "stream",
     "text": [
      "✅ Training completed in 33.00s\n",
      "🔍 Validation Phase...\n"
     ]
    },
    {
     "name": "stderr",
     "output_type": "stream",
     "text": [
      "Validation: 100%|██████████████████████████████| 14/14 [00:04<00:00,  3.10it/s, Loss=2.4772, Acc=0.5179]\n"
     ]
    },
    {
     "name": "stdout",
     "output_type": "stream",
     "text": [
      "✅ Validation completed in 4.52s\n",
      "\n",
      "📊 Epoch 22 Summary:\n",
      "│ Train Loss: 0.0633 | Train Acc: 0.9777\n",
      "│ Val Loss:   2.4772 | Val Acc:   0.5179\n",
      "│ Train Time: 33.00s | Val Time: 4.52s\n",
      "│ Total Epoch Time: 37.52s\n",
      "│ Best Val Acc: 0.5491 (Epoch 19)\n",
      "│ GPU Memory: 0.1GB / 4.5GB\n",
      "================================================================================\n",
      "\n",
      "📈 Epoch 23/50\n",
      "--------------------------------------------------\n",
      "🔄 Training Phase...\n"
     ]
    },
    {
     "name": "stderr",
     "output_type": "stream",
     "text": [
      "Training: 100%|██████████████████████████████| 54/54 [00:32<00:00,  1.65it/s, Loss=0.1398, Acc=0.9531]\n"
     ]
    },
    {
     "name": "stdout",
     "output_type": "stream",
     "text": [
      "✅ Training completed in 32.81s\n",
      "🔍 Validation Phase...\n"
     ]
    },
    {
     "name": "stderr",
     "output_type": "stream",
     "text": [
      "Validation: 100%|██████████████████████████████| 14/14 [00:04<00:00,  3.15it/s, Loss=3.4068, Acc=0.5112]\n"
     ]
    },
    {
     "name": "stdout",
     "output_type": "stream",
     "text": [
      "✅ Validation completed in 4.45s\n",
      "\n",
      "📊 Epoch 23 Summary:\n",
      "│ Train Loss: 0.1398 | Train Acc: 0.9531\n",
      "│ Val Loss:   3.4068 | Val Acc:   0.5112\n",
      "│ Train Time: 32.81s | Val Time: 4.45s\n",
      "│ Total Epoch Time: 37.27s\n",
      "│ Best Val Acc: 0.5491 (Epoch 19)\n",
      "│ GPU Memory: 0.1GB / 4.5GB\n",
      "================================================================================\n",
      "\n",
      "📈 Epoch 24/50\n",
      "--------------------------------------------------\n",
      "🔄 Training Phase...\n"
     ]
    },
    {
     "name": "stderr",
     "output_type": "stream",
     "text": [
      "Training: 100%|██████████████████████████████| 54/54 [00:32<00:00,  1.65it/s, Loss=0.0710, Acc=0.9759]\n"
     ]
    },
    {
     "name": "stdout",
     "output_type": "stream",
     "text": [
      "✅ Training completed in 32.80s\n",
      "🔍 Validation Phase...\n"
     ]
    },
    {
     "name": "stderr",
     "output_type": "stream",
     "text": [
      "Validation: 100%|██████████████████████████████| 14/14 [00:04<00:00,  3.19it/s, Loss=2.7359, Acc=0.4911]\n"
     ]
    },
    {
     "name": "stdout",
     "output_type": "stream",
     "text": [
      "✅ Validation completed in 4.40s\n",
      "\n",
      "📊 Epoch 24 Summary:\n",
      "│ Train Loss: 0.0710 | Train Acc: 0.9759\n",
      "│ Val Loss:   2.7359 | Val Acc:   0.4911\n",
      "│ Train Time: 32.80s | Val Time: 4.40s\n",
      "│ Total Epoch Time: 37.20s\n",
      "│ Best Val Acc: 0.5491 (Epoch 19)\n",
      "│ GPU Memory: 0.1GB / 4.5GB\n",
      "================================================================================\n",
      "\n",
      "📈 Epoch 25/50\n",
      "--------------------------------------------------\n",
      "🔄 Training Phase...\n"
     ]
    },
    {
     "name": "stderr",
     "output_type": "stream",
     "text": [
      "Training: 100%|██████████████████████████████| 54/54 [00:32<00:00,  1.65it/s, Loss=0.0300, Acc=0.9900]\n"
     ]
    },
    {
     "name": "stdout",
     "output_type": "stream",
     "text": [
      "✅ Training completed in 32.72s\n",
      "🔍 Validation Phase...\n"
     ]
    },
    {
     "name": "stderr",
     "output_type": "stream",
     "text": [
      "Validation: 100%|██████████████████████████████| 14/14 [00:04<00:00,  3.09it/s, Loss=2.6525, Acc=0.5134]\n"
     ]
    },
    {
     "name": "stdout",
     "output_type": "stream",
     "text": [
      "✅ Validation completed in 4.53s\n",
      "\n",
      "📊 Epoch 25 Summary:\n",
      "│ Train Loss: 0.0300 | Train Acc: 0.9900\n",
      "│ Val Loss:   2.6525 | Val Acc:   0.5134\n",
      "│ Train Time: 32.72s | Val Time: 4.53s\n",
      "│ Total Epoch Time: 37.25s\n",
      "│ Best Val Acc: 0.5491 (Epoch 19)\n",
      "│ GPU Memory: 0.1GB / 4.5GB\n",
      "================================================================================\n",
      "\n",
      "📈 Epoch 26/50\n",
      "--------------------------------------------------\n",
      "🔄 Training Phase...\n"
     ]
    },
    {
     "name": "stderr",
     "output_type": "stream",
     "text": [
      "Training: 100%|██████████████████████████████| 54/54 [00:32<00:00,  1.65it/s, Loss=0.1061, Acc=0.9754]\n"
     ]
    },
    {
     "name": "stdout",
     "output_type": "stream",
     "text": [
      "✅ Training completed in 32.73s\n",
      "🔍 Validation Phase...\n"
     ]
    },
    {
     "name": "stderr",
     "output_type": "stream",
     "text": [
      "Validation: 100%|██████████████████████████████| 14/14 [00:04<00:00,  3.17it/s, Loss=4.1135, Acc=0.4375]\n"
     ]
    },
    {
     "name": "stdout",
     "output_type": "stream",
     "text": [
      "✅ Validation completed in 4.42s\n",
      "\n",
      "📊 Epoch 26 Summary:\n",
      "│ Train Loss: 0.1061 | Train Acc: 0.9754\n",
      "│ Val Loss:   4.1135 | Val Acc:   0.4375\n",
      "│ Train Time: 32.73s | Val Time: 4.42s\n",
      "│ Total Epoch Time: 37.16s\n",
      "│ Best Val Acc: 0.5491 (Epoch 19)\n",
      "│ GPU Memory: 0.1GB / 4.5GB\n",
      "================================================================================\n",
      "\n",
      "📈 Epoch 27/50\n",
      "--------------------------------------------------\n",
      "🔄 Training Phase...\n"
     ]
    },
    {
     "name": "stderr",
     "output_type": "stream",
     "text": [
      "Training: 100%|██████████████████████████████| 54/54 [00:32<00:00,  1.65it/s, Loss=0.1043, Acc=0.9654]\n"
     ]
    },
    {
     "name": "stdout",
     "output_type": "stream",
     "text": [
      "✅ Training completed in 32.78s\n",
      "🔍 Validation Phase...\n"
     ]
    },
    {
     "name": "stderr",
     "output_type": "stream",
     "text": [
      "Validation: 100%|██████████████████████████████| 14/14 [00:04<00:00,  3.15it/s, Loss=2.9154, Acc=0.4866]\n"
     ]
    },
    {
     "name": "stdout",
     "output_type": "stream",
     "text": [
      "✅ Validation completed in 4.44s\n",
      "\n",
      "📊 Epoch 27 Summary:\n",
      "│ Train Loss: 0.1043 | Train Acc: 0.9654\n",
      "│ Val Loss:   2.9154 | Val Acc:   0.4866\n",
      "│ Train Time: 32.78s | Val Time: 4.44s\n",
      "│ Total Epoch Time: 37.23s\n",
      "│ Best Val Acc: 0.5491 (Epoch 19)\n",
      "│ GPU Memory: 0.1GB / 4.5GB\n",
      "================================================================================\n",
      "\n",
      "📈 Epoch 28/50\n",
      "--------------------------------------------------\n",
      "🔄 Training Phase...\n"
     ]
    },
    {
     "name": "stderr",
     "output_type": "stream",
     "text": [
      "Training: 100%|██████████████████████████████| 54/54 [00:32<00:00,  1.66it/s, Loss=0.0233, Acc=0.9941]\n"
     ]
    },
    {
     "name": "stdout",
     "output_type": "stream",
     "text": [
      "✅ Training completed in 32.52s\n",
      "🔍 Validation Phase...\n"
     ]
    },
    {
     "name": "stderr",
     "output_type": "stream",
     "text": [
      "Validation: 100%|██████████████████████████████| 14/14 [00:04<00:00,  3.17it/s, Loss=2.6565, Acc=0.4888]\n"
     ]
    },
    {
     "name": "stdout",
     "output_type": "stream",
     "text": [
      "✅ Validation completed in 4.42s\n",
      "\n",
      "📊 Epoch 28 Summary:\n",
      "│ Train Loss: 0.0233 | Train Acc: 0.9941\n",
      "│ Val Loss:   2.6565 | Val Acc:   0.4888\n",
      "│ Train Time: 32.52s | Val Time: 4.42s\n",
      "│ Total Epoch Time: 36.95s\n",
      "│ Best Val Acc: 0.5491 (Epoch 19)\n",
      "│ GPU Memory: 0.1GB / 4.5GB\n",
      "================================================================================\n",
      "\n",
      "📈 Epoch 29/50\n",
      "--------------------------------------------------\n",
      "🔄 Training Phase...\n"
     ]
    },
    {
     "name": "stderr",
     "output_type": "stream",
     "text": [
      "Training: 100%|██████████████████████████████| 54/54 [00:32<00:00,  1.65it/s, Loss=0.0256, Acc=0.9930]\n"
     ]
    },
    {
     "name": "stdout",
     "output_type": "stream",
     "text": [
      "✅ Training completed in 32.67s\n",
      "🔍 Validation Phase...\n"
     ]
    },
    {
     "name": "stderr",
     "output_type": "stream",
     "text": [
      "Validation: 100%|██████████████████████████████| 14/14 [00:04<00:00,  3.17it/s, Loss=3.1649, Acc=0.4196]\n"
     ]
    },
    {
     "name": "stdout",
     "output_type": "stream",
     "text": [
      "✅ Validation completed in 4.41s\n",
      "\n",
      "📊 Epoch 29 Summary:\n",
      "│ Train Loss: 0.0256 | Train Acc: 0.9930\n",
      "│ Val Loss:   3.1649 | Val Acc:   0.4196\n",
      "│ Train Time: 32.67s | Val Time: 4.41s\n",
      "│ Total Epoch Time: 37.09s\n",
      "│ Best Val Acc: 0.5491 (Epoch 19)\n",
      "│ GPU Memory: 0.1GB / 4.5GB\n",
      "================================================================================\n",
      "\n",
      "📈 Epoch 30/50\n",
      "--------------------------------------------------\n",
      "🔄 Training Phase...\n"
     ]
    },
    {
     "name": "stderr",
     "output_type": "stream",
     "text": [
      "Training: 100%|██████████████████████████████| 54/54 [00:32<00:00,  1.65it/s, Loss=0.0672, Acc=0.9824]\n"
     ]
    },
    {
     "name": "stdout",
     "output_type": "stream",
     "text": [
      "✅ Training completed in 32.67s\n",
      "🔍 Validation Phase...\n"
     ]
    },
    {
     "name": "stderr",
     "output_type": "stream",
     "text": [
      "Validation: 100%|██████████████████████████████| 14/14 [00:04<00:00,  3.21it/s, Loss=3.0709, Acc=0.4866]\n"
     ]
    },
    {
     "name": "stdout",
     "output_type": "stream",
     "text": [
      "✅ Validation completed in 4.36s\n",
      "\n",
      "📊 Epoch 30 Summary:\n",
      "│ Train Loss: 0.0672 | Train Acc: 0.9824\n",
      "│ Val Loss:   3.0709 | Val Acc:   0.4866\n",
      "│ Train Time: 32.67s | Val Time: 4.36s\n",
      "│ Total Epoch Time: 37.04s\n",
      "│ Best Val Acc: 0.5491 (Epoch 19)\n",
      "│ GPU Memory: 0.1GB / 4.5GB\n",
      "================================================================================\n",
      "\n",
      "📈 Epoch 31/50\n",
      "--------------------------------------------------\n",
      "🔄 Training Phase...\n"
     ]
    },
    {
     "name": "stderr",
     "output_type": "stream",
     "text": [
      "Training: 100%|██████████████████████████████| 54/54 [00:32<00:00,  1.65it/s, Loss=0.0495, Acc=0.9871]\n"
     ]
    },
    {
     "name": "stdout",
     "output_type": "stream",
     "text": [
      "✅ Training completed in 32.69s\n",
      "🔍 Validation Phase...\n"
     ]
    },
    {
     "name": "stderr",
     "output_type": "stream",
     "text": [
      "Validation: 100%|██████████████████████████████| 14/14 [00:04<00:00,  3.16it/s, Loss=3.1678, Acc=0.4219]\n"
     ]
    },
    {
     "name": "stdout",
     "output_type": "stream",
     "text": [
      "✅ Validation completed in 4.43s\n",
      "\n",
      "📊 Epoch 31 Summary:\n",
      "│ Train Loss: 0.0495 | Train Acc: 0.9871\n",
      "│ Val Loss:   3.1678 | Val Acc:   0.4219\n",
      "│ Train Time: 32.69s | Val Time: 4.43s\n",
      "│ Total Epoch Time: 37.13s\n",
      "│ Best Val Acc: 0.5491 (Epoch 19)\n",
      "│ GPU Memory: 0.1GB / 4.5GB\n",
      "================================================================================\n",
      "\n",
      "📈 Epoch 32/50\n",
      "--------------------------------------------------\n",
      "🔄 Training Phase...\n"
     ]
    },
    {
     "name": "stderr",
     "output_type": "stream",
     "text": [
      "Training: 100%|██████████████████████████████| 54/54 [00:32<00:00,  1.65it/s, Loss=0.0462, Acc=0.9847]\n"
     ]
    },
    {
     "name": "stdout",
     "output_type": "stream",
     "text": [
      "✅ Training completed in 32.67s\n",
      "🔍 Validation Phase...\n"
     ]
    },
    {
     "name": "stderr",
     "output_type": "stream",
     "text": [
      "Validation: 100%|██████████████████████████████| 14/14 [00:04<00:00,  3.19it/s, Loss=3.7851, Acc=0.4598]\n"
     ]
    },
    {
     "name": "stdout",
     "output_type": "stream",
     "text": [
      "✅ Validation completed in 4.39s\n",
      "\n",
      "📊 Epoch 32 Summary:\n",
      "│ Train Loss: 0.0462 | Train Acc: 0.9847\n",
      "│ Val Loss:   3.7851 | Val Acc:   0.4598\n",
      "│ Train Time: 32.67s | Val Time: 4.39s\n",
      "│ Total Epoch Time: 37.07s\n",
      "│ Best Val Acc: 0.5491 (Epoch 19)\n",
      "│ GPU Memory: 0.1GB / 4.5GB\n",
      "================================================================================\n",
      "\n",
      "📈 Epoch 33/50\n",
      "--------------------------------------------------\n",
      "🔄 Training Phase...\n"
     ]
    },
    {
     "name": "stderr",
     "output_type": "stream",
     "text": [
      "Training: 100%|██████████████████████████████| 54/54 [00:32<00:00,  1.66it/s, Loss=0.0594, Acc=0.9824]\n"
     ]
    },
    {
     "name": "stdout",
     "output_type": "stream",
     "text": [
      "✅ Training completed in 32.46s\n",
      "🔍 Validation Phase...\n"
     ]
    },
    {
     "name": "stderr",
     "output_type": "stream",
     "text": [
      "Validation: 100%|██████████████████████████████| 14/14 [00:04<00:00,  3.08it/s, Loss=3.2296, Acc=0.4509]\n"
     ]
    },
    {
     "name": "stdout",
     "output_type": "stream",
     "text": [
      "✅ Validation completed in 4.55s\n",
      "\n",
      "📊 Epoch 33 Summary:\n",
      "│ Train Loss: 0.0594 | Train Acc: 0.9824\n",
      "│ Val Loss:   3.2296 | Val Acc:   0.4509\n",
      "│ Train Time: 32.46s | Val Time: 4.55s\n",
      "│ Total Epoch Time: 37.02s\n",
      "│ Best Val Acc: 0.5491 (Epoch 19)\n",
      "│ GPU Memory: 0.1GB / 4.5GB\n",
      "================================================================================\n",
      "\n",
      "📈 Epoch 34/50\n",
      "--------------------------------------------------\n",
      "🔄 Training Phase...\n"
     ]
    },
    {
     "name": "stderr",
     "output_type": "stream",
     "text": [
      "Training: 100%|██████████████████████████████| 54/54 [00:32<00:00,  1.67it/s, Loss=0.0319, Acc=0.9912]\n"
     ]
    },
    {
     "name": "stdout",
     "output_type": "stream",
     "text": [
      "✅ Training completed in 32.34s\n",
      "🔍 Validation Phase...\n"
     ]
    },
    {
     "name": "stderr",
     "output_type": "stream",
     "text": [
      "Validation: 100%|██████████████████████████████| 14/14 [00:04<00:00,  3.12it/s, Loss=2.9210, Acc=0.4643]\n"
     ]
    },
    {
     "name": "stdout",
     "output_type": "stream",
     "text": [
      "✅ Validation completed in 4.49s\n",
      "\n",
      "📊 Epoch 34 Summary:\n",
      "│ Train Loss: 0.0319 | Train Acc: 0.9912\n",
      "│ Val Loss:   2.9210 | Val Acc:   0.4643\n",
      "│ Train Time: 32.34s | Val Time: 4.49s\n",
      "│ Total Epoch Time: 36.83s\n",
      "│ Best Val Acc: 0.5491 (Epoch 19)\n",
      "│ GPU Memory: 0.1GB / 4.5GB\n",
      "================================================================================\n",
      "\n",
      "📈 Epoch 35/50\n",
      "--------------------------------------------------\n",
      "🔄 Training Phase...\n"
     ]
    },
    {
     "name": "stderr",
     "output_type": "stream",
     "text": [
      "Training: 100%|██████████████████████████████| 54/54 [00:32<00:00,  1.67it/s, Loss=0.0105, Acc=0.9982]\n"
     ]
    },
    {
     "name": "stdout",
     "output_type": "stream",
     "text": [
      "✅ Training completed in 32.43s\n",
      "🔍 Validation Phase...\n"
     ]
    },
    {
     "name": "stderr",
     "output_type": "stream",
     "text": [
      "Validation: 100%|██████████████████████████████| 14/14 [00:04<00:00,  3.13it/s, Loss=3.1315, Acc=0.5045]\n"
     ]
    },
    {
     "name": "stdout",
     "output_type": "stream",
     "text": [
      "✅ Validation completed in 4.47s\n",
      "\n",
      "📊 Epoch 35 Summary:\n",
      "│ Train Loss: 0.0105 | Train Acc: 0.9982\n",
      "│ Val Loss:   3.1315 | Val Acc:   0.5045\n",
      "│ Train Time: 32.43s | Val Time: 4.47s\n",
      "│ Total Epoch Time: 36.91s\n",
      "│ Best Val Acc: 0.5491 (Epoch 19)\n",
      "│ GPU Memory: 0.1GB / 4.5GB\n",
      "================================================================================\n",
      "\n",
      "📈 Epoch 36/50\n",
      "--------------------------------------------------\n",
      "🔄 Training Phase...\n"
     ]
    },
    {
     "name": "stderr",
     "output_type": "stream",
     "text": [
      "Training: 100%|██████████████████████████████| 54/54 [00:32<00:00,  1.68it/s, Loss=0.0062, Acc=0.9988]\n"
     ]
    },
    {
     "name": "stdout",
     "output_type": "stream",
     "text": [
      "✅ Training completed in 32.15s\n",
      "🔍 Validation Phase...\n"
     ]
    },
    {
     "name": "stderr",
     "output_type": "stream",
     "text": [
      "Validation: 100%|██████████████████████████████| 14/14 [00:04<00:00,  3.17it/s, Loss=3.1320, Acc=0.4799]\n"
     ]
    },
    {
     "name": "stdout",
     "output_type": "stream",
     "text": [
      "✅ Validation completed in 4.42s\n",
      "\n",
      "📊 Epoch 36 Summary:\n",
      "│ Train Loss: 0.0062 | Train Acc: 0.9988\n",
      "│ Val Loss:   3.1320 | Val Acc:   0.4799\n",
      "│ Train Time: 32.15s | Val Time: 4.42s\n",
      "│ Total Epoch Time: 36.58s\n",
      "│ Best Val Acc: 0.5491 (Epoch 19)\n",
      "│ GPU Memory: 0.1GB / 4.5GB\n",
      "================================================================================\n",
      "\n",
      "📈 Epoch 37/50\n",
      "--------------------------------------------------\n",
      "🔄 Training Phase...\n"
     ]
    },
    {
     "name": "stderr",
     "output_type": "stream",
     "text": [
      "Training: 100%|██████████████████████████████| 54/54 [00:32<00:00,  1.66it/s, Loss=0.0099, Acc=0.9965]\n"
     ]
    },
    {
     "name": "stdout",
     "output_type": "stream",
     "text": [
      "✅ Training completed in 32.47s\n",
      "🔍 Validation Phase...\n"
     ]
    },
    {
     "name": "stderr",
     "output_type": "stream",
     "text": [
      "Validation: 100%|██████████████████████████████| 14/14 [00:04<00:00,  3.15it/s, Loss=3.2312, Acc=0.5000]\n"
     ]
    },
    {
     "name": "stdout",
     "output_type": "stream",
     "text": [
      "✅ Validation completed in 4.45s\n",
      "\n",
      "📊 Epoch 37 Summary:\n",
      "│ Train Loss: 0.0099 | Train Acc: 0.9965\n",
      "│ Val Loss:   3.2312 | Val Acc:   0.5000\n",
      "│ Train Time: 32.47s | Val Time: 4.45s\n",
      "│ Total Epoch Time: 36.93s\n",
      "│ Best Val Acc: 0.5491 (Epoch 19)\n",
      "│ GPU Memory: 0.1GB / 4.5GB\n",
      "================================================================================\n",
      "\n",
      "📈 Epoch 38/50\n",
      "--------------------------------------------------\n",
      "🔄 Training Phase...\n"
     ]
    },
    {
     "name": "stderr",
     "output_type": "stream",
     "text": [
      "Training: 100%|██████████████████████████████| 54/54 [00:32<00:00,  1.68it/s, Loss=0.0090, Acc=0.9977]\n"
     ]
    },
    {
     "name": "stdout",
     "output_type": "stream",
     "text": [
      "✅ Training completed in 32.21s\n",
      "🔍 Validation Phase...\n"
     ]
    },
    {
     "name": "stderr",
     "output_type": "stream",
     "text": [
      "Validation: 100%|██████████████████████████████| 14/14 [00:04<00:00,  3.18it/s, Loss=3.2117, Acc=0.5246]\n"
     ]
    },
    {
     "name": "stdout",
     "output_type": "stream",
     "text": [
      "✅ Validation completed in 4.41s\n",
      "\n",
      "📊 Epoch 38 Summary:\n",
      "│ Train Loss: 0.0090 | Train Acc: 0.9977\n",
      "│ Val Loss:   3.2117 | Val Acc:   0.5246\n",
      "│ Train Time: 32.21s | Val Time: 4.41s\n",
      "│ Total Epoch Time: 36.63s\n",
      "│ Best Val Acc: 0.5491 (Epoch 19)\n",
      "│ GPU Memory: 0.1GB / 4.5GB\n",
      "================================================================================\n",
      "\n",
      "📈 Epoch 39/50\n",
      "--------------------------------------------------\n",
      "🔄 Training Phase...\n"
     ]
    },
    {
     "name": "stderr",
     "output_type": "stream",
     "text": [
      "Training: 100%|██████████████████████████████| 54/54 [00:32<00:00,  1.66it/s, Loss=0.0197, Acc=0.9988]\n"
     ]
    },
    {
     "name": "stdout",
     "output_type": "stream",
     "text": [
      "✅ Training completed in 32.46s\n",
      "🔍 Validation Phase...\n"
     ]
    },
    {
     "name": "stderr",
     "output_type": "stream",
     "text": [
      "Validation: 100%|██████████████████████████████| 14/14 [00:04<00:00,  3.04it/s, Loss=3.2359, Acc=0.4688]\n"
     ]
    },
    {
     "name": "stdout",
     "output_type": "stream",
     "text": [
      "✅ Validation completed in 4.61s\n",
      "\n",
      "📊 Epoch 39 Summary:\n",
      "│ Train Loss: 0.0197 | Train Acc: 0.9988\n",
      "│ Val Loss:   3.2359 | Val Acc:   0.4688\n",
      "│ Train Time: 32.46s | Val Time: 4.61s\n",
      "│ Total Epoch Time: 37.07s\n",
      "│ Best Val Acc: 0.5491 (Epoch 19)\n",
      "│ GPU Memory: 0.1GB / 4.5GB\n",
      "================================================================================\n",
      "\n",
      "📈 Epoch 40/50\n",
      "--------------------------------------------------\n",
      "🔄 Training Phase...\n"
     ]
    },
    {
     "name": "stderr",
     "output_type": "stream",
     "text": [
      "Training: 100%|██████████████████████████████| 54/54 [00:32<00:00,  1.65it/s, Loss=0.0544, Acc=0.9865]\n"
     ]
    },
    {
     "name": "stdout",
     "output_type": "stream",
     "text": [
      "✅ Training completed in 32.75s\n",
      "🔍 Validation Phase...\n"
     ]
    },
    {
     "name": "stderr",
     "output_type": "stream",
     "text": [
      "Validation: 100%|██████████████████████████████| 14/14 [00:04<00:00,  3.17it/s, Loss=3.9226, Acc=0.4085]\n"
     ]
    },
    {
     "name": "stdout",
     "output_type": "stream",
     "text": [
      "✅ Validation completed in 4.41s\n",
      "\n",
      "📊 Epoch 40 Summary:\n",
      "│ Train Loss: 0.0544 | Train Acc: 0.9865\n",
      "│ Val Loss:   3.9226 | Val Acc:   0.4085\n",
      "│ Train Time: 32.75s | Val Time: 4.41s\n",
      "│ Total Epoch Time: 37.17s\n",
      "│ Best Val Acc: 0.5491 (Epoch 19)\n",
      "│ GPU Memory: 0.1GB / 4.5GB\n",
      "================================================================================\n",
      "\n",
      "📈 Epoch 41/50\n",
      "--------------------------------------------------\n",
      "🔄 Training Phase...\n"
     ]
    },
    {
     "name": "stderr",
     "output_type": "stream",
     "text": [
      "Training: 100%|██████████████████████████████| 54/54 [00:32<00:00,  1.66it/s, Loss=0.1627, Acc=0.9431]\n"
     ]
    },
    {
     "name": "stdout",
     "output_type": "stream",
     "text": [
      "✅ Training completed in 32.45s\n",
      "🔍 Validation Phase...\n"
     ]
    },
    {
     "name": "stderr",
     "output_type": "stream",
     "text": [
      "Validation: 100%|██████████████████████████████| 14/14 [00:04<00:00,  3.18it/s, Loss=3.0768, Acc=0.4955]\n"
     ]
    },
    {
     "name": "stdout",
     "output_type": "stream",
     "text": [
      "✅ Validation completed in 4.40s\n",
      "\n",
      "📊 Epoch 41 Summary:\n",
      "│ Train Loss: 0.1627 | Train Acc: 0.9431\n",
      "│ Val Loss:   3.0768 | Val Acc:   0.4955\n",
      "│ Train Time: 32.45s | Val Time: 4.40s\n",
      "│ Total Epoch Time: 36.85s\n",
      "│ Best Val Acc: 0.5491 (Epoch 19)\n",
      "│ GPU Memory: 0.1GB / 4.5GB\n",
      "================================================================================\n",
      "\n",
      "📈 Epoch 42/50\n",
      "--------------------------------------------------\n",
      "🔄 Training Phase...\n"
     ]
    },
    {
     "name": "stderr",
     "output_type": "stream",
     "text": [
      "Training: 100%|██████████████████████████████| 54/54 [00:32<00:00,  1.65it/s, Loss=0.0659, Acc=0.9806]\n"
     ]
    },
    {
     "name": "stdout",
     "output_type": "stream",
     "text": [
      "✅ Training completed in 32.79s\n",
      "🔍 Validation Phase...\n"
     ]
    },
    {
     "name": "stderr",
     "output_type": "stream",
     "text": [
      "Validation: 100%|██████████████████████████████| 14/14 [00:04<00:00,  3.23it/s, Loss=2.6654, Acc=0.4464]\n"
     ]
    },
    {
     "name": "stdout",
     "output_type": "stream",
     "text": [
      "✅ Validation completed in 4.33s\n",
      "\n",
      "📊 Epoch 42 Summary:\n",
      "│ Train Loss: 0.0659 | Train Acc: 0.9806\n",
      "│ Val Loss:   2.6654 | Val Acc:   0.4464\n",
      "│ Train Time: 32.79s | Val Time: 4.33s\n",
      "│ Total Epoch Time: 37.13s\n",
      "│ Best Val Acc: 0.5491 (Epoch 19)\n",
      "│ GPU Memory: 0.1GB / 4.5GB\n",
      "================================================================================\n",
      "\n",
      "📈 Epoch 43/50\n",
      "--------------------------------------------------\n",
      "🔄 Training Phase...\n"
     ]
    },
    {
     "name": "stderr",
     "output_type": "stream",
     "text": [
      "Training: 100%|██████████████████████████████| 54/54 [00:32<00:00,  1.66it/s, Loss=0.0251, Acc=0.9918]\n"
     ]
    },
    {
     "name": "stdout",
     "output_type": "stream",
     "text": [
      "✅ Training completed in 32.49s\n",
      "🔍 Validation Phase...\n"
     ]
    },
    {
     "name": "stderr",
     "output_type": "stream",
     "text": [
      "Validation: 100%|██████████████████████████████| 14/14 [00:04<00:00,  3.15it/s, Loss=2.7527, Acc=0.4978]\n"
     ]
    },
    {
     "name": "stdout",
     "output_type": "stream",
     "text": [
      "✅ Validation completed in 4.44s\n",
      "\n",
      "📊 Epoch 43 Summary:\n",
      "│ Train Loss: 0.0251 | Train Acc: 0.9918\n",
      "│ Val Loss:   2.7527 | Val Acc:   0.4978\n",
      "│ Train Time: 32.49s | Val Time: 4.44s\n",
      "│ Total Epoch Time: 36.94s\n",
      "│ Best Val Acc: 0.5491 (Epoch 19)\n",
      "│ GPU Memory: 0.1GB / 4.5GB\n",
      "================================================================================\n",
      "\n",
      "📈 Epoch 44/50\n",
      "--------------------------------------------------\n",
      "🔄 Training Phase...\n"
     ]
    },
    {
     "name": "stderr",
     "output_type": "stream",
     "text": [
      "Training: 100%|██████████████████████████████| 54/54 [00:32<00:00,  1.67it/s, Loss=0.0146, Acc=0.9959]\n"
     ]
    },
    {
     "name": "stdout",
     "output_type": "stream",
     "text": [
      "✅ Training completed in 32.41s\n",
      "🔍 Validation Phase...\n"
     ]
    },
    {
     "name": "stderr",
     "output_type": "stream",
     "text": [
      "Validation: 100%|██████████████████████████████| 14/14 [00:04<00:00,  3.18it/s, Loss=3.1497, Acc=0.4665]\n"
     ]
    },
    {
     "name": "stdout",
     "output_type": "stream",
     "text": [
      "✅ Validation completed in 4.41s\n",
      "\n",
      "📊 Epoch 44 Summary:\n",
      "│ Train Loss: 0.0146 | Train Acc: 0.9959\n",
      "│ Val Loss:   3.1497 | Val Acc:   0.4665\n",
      "│ Train Time: 32.41s | Val Time: 4.41s\n",
      "│ Total Epoch Time: 36.83s\n",
      "│ Best Val Acc: 0.5491 (Epoch 19)\n",
      "│ GPU Memory: 0.1GB / 4.5GB\n",
      "================================================================================\n",
      "\n",
      "📈 Epoch 45/50\n",
      "--------------------------------------------------\n",
      "🔄 Training Phase...\n"
     ]
    },
    {
     "name": "stderr",
     "output_type": "stream",
     "text": [
      "Training: 100%|██████████████████████████████| 54/54 [00:32<00:00,  1.67it/s, Loss=0.0089, Acc=0.9982]\n"
     ]
    },
    {
     "name": "stdout",
     "output_type": "stream",
     "text": [
      "✅ Training completed in 32.35s\n",
      "🔍 Validation Phase...\n"
     ]
    },
    {
     "name": "stderr",
     "output_type": "stream",
     "text": [
      "Validation: 100%|██████████████████████████████| 14/14 [00:04<00:00,  3.18it/s, Loss=3.1046, Acc=0.5513]\n"
     ]
    },
    {
     "name": "stdout",
     "output_type": "stream",
     "text": [
      "✅ Validation completed in 4.41s\n",
      "🌟 New best DenseNet-121 model found! Validation Accuracy: 0.5513\n",
      "\n",
      "📊 Epoch 45 Summary:\n",
      "│ Train Loss: 0.0089 | Train Acc: 0.9982\n",
      "│ Val Loss:   3.1046 | Val Acc:   0.5513\n",
      "│ Train Time: 32.35s | Val Time: 4.41s\n",
      "│ Total Epoch Time: 36.76s\n",
      "│ Best Val Acc: 0.5513 (Epoch 45)\n",
      "│ GPU Memory: 0.1GB / 4.5GB\n",
      "================================================================================\n",
      "\n",
      "📈 Epoch 46/50\n",
      "--------------------------------------------------\n",
      "🔄 Training Phase...\n"
     ]
    },
    {
     "name": "stderr",
     "output_type": "stream",
     "text": [
      "Training: 100%|██████████████████████████████| 54/54 [00:32<00:00,  1.66it/s, Loss=0.0036, Acc=0.9988]\n"
     ]
    },
    {
     "name": "stdout",
     "output_type": "stream",
     "text": [
      "✅ Training completed in 32.52s\n",
      "🔍 Validation Phase...\n"
     ]
    },
    {
     "name": "stderr",
     "output_type": "stream",
     "text": [
      "Validation: 100%|██████████████████████████████| 14/14 [00:04<00:00,  3.20it/s, Loss=3.2732, Acc=0.4911]\n"
     ]
    },
    {
     "name": "stdout",
     "output_type": "stream",
     "text": [
      "✅ Validation completed in 4.37s\n",
      "\n",
      "📊 Epoch 46 Summary:\n",
      "│ Train Loss: 0.0036 | Train Acc: 0.9988\n",
      "│ Val Loss:   3.2732 | Val Acc:   0.4911\n",
      "│ Train Time: 32.52s | Val Time: 4.37s\n",
      "│ Total Epoch Time: 36.89s\n",
      "│ Best Val Acc: 0.5513 (Epoch 45)\n",
      "│ GPU Memory: 0.1GB / 4.5GB\n",
      "================================================================================\n",
      "\n",
      "📈 Epoch 47/50\n",
      "--------------------------------------------------\n",
      "🔄 Training Phase...\n"
     ]
    },
    {
     "name": "stderr",
     "output_type": "stream",
     "text": [
      "Training: 100%|██████████████████████████████| 54/54 [00:32<00:00,  1.66it/s, Loss=0.0112, Acc=0.9965]\n"
     ]
    },
    {
     "name": "stdout",
     "output_type": "stream",
     "text": [
      "✅ Training completed in 32.63s\n",
      "🔍 Validation Phase...\n"
     ]
    },
    {
     "name": "stderr",
     "output_type": "stream",
     "text": [
      "Validation: 100%|██████████████████████████████| 14/14 [00:04<00:00,  3.09it/s, Loss=3.5970, Acc=0.4777]\n"
     ]
    },
    {
     "name": "stdout",
     "output_type": "stream",
     "text": [
      "✅ Validation completed in 4.53s\n",
      "\n",
      "📊 Epoch 47 Summary:\n",
      "│ Train Loss: 0.0112 | Train Acc: 0.9965\n",
      "│ Val Loss:   3.5970 | Val Acc:   0.4777\n",
      "│ Train Time: 32.63s | Val Time: 4.53s\n",
      "│ Total Epoch Time: 37.17s\n",
      "│ Best Val Acc: 0.5513 (Epoch 45)\n",
      "│ GPU Memory: 0.1GB / 4.5GB\n",
      "================================================================================\n",
      "\n",
      "📈 Epoch 48/50\n",
      "--------------------------------------------------\n",
      "🔄 Training Phase...\n"
     ]
    },
    {
     "name": "stderr",
     "output_type": "stream",
     "text": [
      "Training: 100%|██████████████████████████████| 54/54 [00:32<00:00,  1.65it/s, Loss=0.0206, Acc=0.9941]\n"
     ]
    },
    {
     "name": "stdout",
     "output_type": "stream",
     "text": [
      "✅ Training completed in 32.70s\n",
      "🔍 Validation Phase...\n"
     ]
    },
    {
     "name": "stderr",
     "output_type": "stream",
     "text": [
      "Validation: 100%|██████████████████████████████| 14/14 [00:04<00:00,  3.14it/s, Loss=3.6863, Acc=0.4509]\n"
     ]
    },
    {
     "name": "stdout",
     "output_type": "stream",
     "text": [
      "✅ Validation completed in 4.46s\n",
      "\n",
      "📊 Epoch 48 Summary:\n",
      "│ Train Loss: 0.0206 | Train Acc: 0.9941\n",
      "│ Val Loss:   3.6863 | Val Acc:   0.4509\n",
      "│ Train Time: 32.70s | Val Time: 4.46s\n",
      "│ Total Epoch Time: 37.16s\n",
      "│ Best Val Acc: 0.5513 (Epoch 45)\n",
      "│ GPU Memory: 0.1GB / 4.5GB\n",
      "================================================================================\n",
      "\n",
      "📈 Epoch 49/50\n",
      "--------------------------------------------------\n",
      "🔄 Training Phase...\n"
     ]
    },
    {
     "name": "stderr",
     "output_type": "stream",
     "text": [
      "Training: 100%|██████████████████████████████| 54/54 [00:32<00:00,  1.67it/s, Loss=0.0687, Acc=0.9812]\n"
     ]
    },
    {
     "name": "stdout",
     "output_type": "stream",
     "text": [
      "✅ Training completed in 32.34s\n",
      "🔍 Validation Phase...\n"
     ]
    },
    {
     "name": "stderr",
     "output_type": "stream",
     "text": [
      "Validation: 100%|██████████████████████████████| 14/14 [00:04<00:00,  3.19it/s, Loss=3.5120, Acc=0.4732]\n"
     ]
    },
    {
     "name": "stdout",
     "output_type": "stream",
     "text": [
      "✅ Validation completed in 4.39s\n",
      "\n",
      "📊 Epoch 49 Summary:\n",
      "│ Train Loss: 0.0687 | Train Acc: 0.9812\n",
      "│ Val Loss:   3.5120 | Val Acc:   0.4732\n",
      "│ Train Time: 32.34s | Val Time: 4.39s\n",
      "│ Total Epoch Time: 36.73s\n",
      "│ Best Val Acc: 0.5513 (Epoch 45)\n",
      "│ GPU Memory: 0.1GB / 4.5GB\n",
      "================================================================================\n",
      "\n",
      "📈 Epoch 50/50\n",
      "--------------------------------------------------\n",
      "🔄 Training Phase...\n"
     ]
    },
    {
     "name": "stderr",
     "output_type": "stream",
     "text": [
      "Training: 100%|██████████████████████████████| 54/54 [00:32<00:00,  1.67it/s, Loss=0.1009, Acc=0.9642]\n"
     ]
    },
    {
     "name": "stdout",
     "output_type": "stream",
     "text": [
      "✅ Training completed in 32.32s\n",
      "🔍 Validation Phase...\n"
     ]
    },
    {
     "name": "stderr",
     "output_type": "stream",
     "text": [
      "Validation: 100%|██████████████████████████████| 14/14 [00:04<00:00,  3.20it/s, Loss=3.4498, Acc=0.4062]\n"
     ]
    },
    {
     "name": "stdout",
     "output_type": "stream",
     "text": [
      "✅ Validation completed in 4.38s\n",
      "\n",
      "📊 Epoch 50 Summary:\n",
      "│ Train Loss: 0.1009 | Train Acc: 0.9642\n",
      "│ Val Loss:   3.4498 | Val Acc:   0.4062\n",
      "│ Train Time: 32.32s | Val Time: 4.38s\n",
      "│ Total Epoch Time: 36.70s\n",
      "│ Best Val Acc: 0.5513 (Epoch 45)\n",
      "│ GPU Memory: 0.1GB / 4.5GB\n",
      "================================================================================\n",
      "\n",
      "💾 Best DenseNet-121 model saved as 'best_densenet121_model.pth'\n",
      "📊 Best model stats:\n",
      "│ Best Epoch: 45\n",
      "│ Best Val Acc: 0.5513\n",
      "\n",
      "💾 DenseNet-121 training history saved to 'densenet121_training_history.csv'\n",
      "\n",
      "🎉 DenseNet-121 Training Complete!\n",
      "Total Training Time: 1878.14s (31.3 minutes)\n",
      "Average Epoch Time: 37.56s\n",
      "\n",
      "⏱️  Epoch Timing Breakdown:\n",
      "│ Epoch 1: 52.46s\n",
      "│ Epoch 2: 36.47s\n",
      "│ Epoch 3: 38.67s\n",
      "│ Epoch 4: 37.24s\n",
      "│ Epoch 5: 37.61s\n",
      "│ Epoch 6: 37.45s\n",
      "│ Epoch 7: 37.80s\n",
      "│ Epoch 8: 37.47s\n",
      "│ Epoch 9: 37.78s\n",
      "│ Epoch 10: 37.57s\n",
      "│ Epoch 11: 38.08s\n",
      "│ Epoch 12: 37.96s\n",
      "│ Epoch 13: 37.78s\n",
      "│ Epoch 14: 37.95s\n",
      "│ Epoch 15: 37.75s\n",
      "│ Epoch 16: 37.28s\n",
      "│ Epoch 17: 37.37s\n",
      "│ Epoch 18: 37.60s\n",
      "│ Epoch 19: 37.51s\n",
      "│ Epoch 20: 37.50s\n",
      "│ Epoch 21: 37.60s\n",
      "│ Epoch 22: 37.52s\n",
      "│ Epoch 23: 37.27s\n",
      "│ Epoch 24: 37.20s\n",
      "│ Epoch 25: 37.25s\n",
      "│ Epoch 26: 37.16s\n",
      "│ Epoch 27: 37.23s\n",
      "│ Epoch 28: 36.95s\n",
      "│ Epoch 29: 37.09s\n",
      "│ Epoch 30: 37.04s\n",
      "│ Epoch 31: 37.13s\n",
      "│ Epoch 32: 37.07s\n",
      "│ Epoch 33: 37.02s\n",
      "│ Epoch 34: 36.83s\n",
      "│ Epoch 35: 36.91s\n",
      "│ Epoch 36: 36.58s\n",
      "│ Epoch 37: 36.93s\n",
      "│ Epoch 38: 36.63s\n",
      "│ Epoch 39: 37.07s\n",
      "│ Epoch 40: 37.17s\n",
      "│ Epoch 41: 36.85s\n",
      "│ Epoch 42: 37.13s\n",
      "│ Epoch 43: 36.94s\n",
      "│ Epoch 44: 36.83s\n",
      "│ Epoch 45: 36.76s\n",
      "│ Epoch 46: 36.89s\n",
      "│ Epoch 47: 37.17s\n",
      "│ Epoch 48: 37.16s\n",
      "│ Epoch 49: 36.73s\n",
      "│ Epoch 50: 36.70s\n",
      "\n",
      "🧪 Loading Best DenseNet-121 Model for Testing...\n",
      "✅ Best DenseNet-121 model from epoch 45 loaded successfully!\n"
     ]
    },
    {
     "name": "stderr",
     "output_type": "stream",
     "text": [
      "Testing DenseNet-121: 100%|██████████████████████████████| 18/18 [00:09<00:00,  1.81it/s]\n"
     ]
    },
    {
     "name": "stdout",
     "output_type": "stream",
     "text": [
      "✅ DenseNet-121 Testing completed in 9.94s\n",
      "\n",
      "📋 DenseNet-121 Classification Report:\n",
      "                 precision    recall  f1-score   support\n",
      "\n",
      "  boundary_save       0.39      0.49      0.43       152\n",
      "catching_a_ball       0.23      0.44      0.30       104\n",
      "    diving_stop       0.00      0.00      0.00        56\n",
      "        run_out       0.68      0.55      0.61       128\n",
      "       stumping       0.95      0.33      0.48       120\n",
      "\n",
      "       accuracy                           0.41       560\n",
      "      macro avg       0.45      0.36      0.37       560\n",
      "   weighted avg       0.51      0.41      0.42       560\n",
      "\n",
      "🎯 DenseNet-121 Test Accuracy: 0.4125\n",
      "\n",
      "📊 DenseNet-121 Model Performance Summary:\n",
      "│ Best Validation Acc:  0.5513 (Epoch 45)\n",
      "│ Final Test Accuracy:  0.4125\n",
      "│ Val-Test Gap:         0.1388\n"
     ]
    },
    {
     "data": {
      "image/png": "[encoded data removed]",
      "text/plain": [
       "<Figure size 800x600 with 2 Axes>"
      ]
     },
     "metadata": {},
     "output_type": "display_data"
    },
    {
     "data": {
      "image/png": "[encoded data removed]",
      "text/plain": [
       "<Figure size 2000x500 with 4 Axes>"
      ]
     },
     "metadata": {},
     "output_type": "display_data"
    },
    {
     "name": "stdout",
     "output_type": "stream",
     "text": [
      "\n",
      "⏰ DenseNet-121 Final Timing Summary:\n",
      "│ Total Training: 1878.14s\n",
      "│ Average per Epoch: 37.56s\n",
      "│ Testing Time: 9.94s\n",
      "│ Total Runtime: 1888.08s\n",
      "\n",
      "💾 DenseNet-121 Files saved:\n",
      "│ best_densenet121_model.pth - Best validation accuracy model\n",
      "│ densenet121_training_history.csv - Training metrics for later plotting\n"
     ]
    }
   ],
   "source": [
    "# -----------------------------\n",
    "# 4. Training Loop with Best Model Saving (Val Accuracy) - DenseNet-121\n",
    "# -----------------------------\n",
    "import pandas as pd\n",
    "from tqdm import tqdm\n",
    "import time\n",
    "\n",
    "train_losses, val_losses = [], []\n",
    "train_accs, val_accs = [], []\n",
    "epoch_times = []\n",
    "epochs = 50\n",
    "\n",
    "# Initialize best model tracking - CHANGED TO VAL_ACC\n",
    "best_val_acc = 0.0  # Changed from best_val_loss = float('inf')\n",
    "best_model_state = None\n",
    "best_epoch = 0\n",
    "\n",
    "print(f\"\\n🚀 Starting DenseNet-121 Training for {epochs} epochs...\")\n",
    "print(\"=\" * 80)\n",
    "total_start_time = time.time()\n",
    "\n",
    "for epoch in range(epochs):\n",
    "    epoch_start_time = time.time()\n",
    "    \n",
    "    print(f\"\\n📈 Epoch {epoch+1}/{epochs}\")\n",
    "    print(\"-\" * 50)\n",
    "    \n",
    "    # Training Phase\n",
    "    print(\"🔄 Training Phase...\")\n",
    "    model.train()\n",
    "    running_loss, correct, total = 0, 0, 0\n",
    "    \n",
    "    train_pbar = tqdm(train_loader, desc=f\"Training\", \n",
    "                     bar_format='{l_bar}{bar:30}{r_bar}{bar:-30b}')\n",
    "    \n",
    "    train_phase_start = time.time()\n",
    "    \n",
    "    for batch_idx, (imgs, labels) in enumerate(train_pbar):\n",
    "        imgs, labels = imgs.to(device), labels.to(device)\n",
    "        \n",
    "        optimizer.zero_grad()\n",
    "        outputs = model(imgs)\n",
    "        loss = criterion(outputs, labels)\n",
    "        loss.backward()\n",
    "        optimizer.step()\n",
    "        \n",
    "        running_loss += loss.item()\n",
    "        _, preds = torch.max(outputs, 1)\n",
    "        correct += (preds == labels).sum().item()\n",
    "        total += labels.size(0)\n",
    "        \n",
    "        current_acc = correct / total\n",
    "        train_pbar.set_postfix({\n",
    "            'Loss': f'{running_loss/(batch_idx+1):.4f}',\n",
    "            'Acc': f'{current_acc:.4f}'\n",
    "        })\n",
    "        \n",
    "        if device.type == 'cuda' and batch_idx % 10 == 0:\n",
    "            gpu_memory = torch.cuda.memory_allocated() / 1024**3\n",
    "            train_pbar.set_postfix({\n",
    "                'Loss': f'{running_loss/(batch_idx+1):.4f}',\n",
    "                'Acc': f'{current_acc:.4f}',\n",
    "                'GPU': f'{gpu_memory:.1f}GB'\n",
    "            })\n",
    "    \n",
    "    train_phase_time = time.time() - train_phase_start\n",
    "    train_loss = running_loss / len(train_loader)\n",
    "    train_acc = correct / total\n",
    "    train_losses.append(train_loss)\n",
    "    train_accs.append(train_acc)\n",
    "    \n",
    "    print(f\"✅ Training completed in {train_phase_time:.2f}s\")\n",
    "    \n",
    "    # Validation Phase\n",
    "    print(\"🔍 Validation Phase...\")\n",
    "    model.eval()\n",
    "    running_loss, correct, total = 0, 0, 0\n",
    "    \n",
    "    val_phase_start = time.time()\n",
    "    val_pbar = tqdm(val_loader, desc=f\"Validation\", \n",
    "                   bar_format='{l_bar}{bar:30}{r_bar}{bar:-30b}')\n",
    "    \n",
    "    with torch.no_grad():\n",
    "        for batch_idx, (imgs, labels) in enumerate(val_pbar):\n",
    "            imgs, labels = imgs.to(device), labels.to(device)\n",
    "            outputs = model(imgs)\n",
    "            loss = criterion(outputs, labels)\n",
    "            \n",
    "            running_loss += loss.item()\n",
    "            _, preds = torch.max(outputs, 1)\n",
    "            correct += (preds == labels).sum().item()\n",
    "            total += labels.size(0)\n",
    "            \n",
    "            current_acc = correct / total\n",
    "            val_pbar.set_postfix({\n",
    "                'Loss': f'{running_loss/(batch_idx+1):.4f}',\n",
    "                'Acc': f'{current_acc:.4f}'\n",
    "            })\n",
    "    \n",
    "    val_phase_time = time.time() - val_phase_start\n",
    "    val_loss = running_loss / len(val_loader)\n",
    "    val_acc = correct / total\n",
    "    val_losses.append(val_loss)\n",
    "    val_accs.append(val_acc)\n",
    "    \n",
    "    print(f\"✅ Validation completed in {val_phase_time:.2f}s\")\n",
    "    \n",
    "    # Check if this is the best model so far based on val_acc - CHANGED\n",
    "    is_best = val_acc > best_val_acc  # Changed from val_loss < best_val_loss\n",
    "    if is_best:\n",
    "        best_val_acc = val_acc\n",
    "        best_epoch = epoch + 1\n",
    "        best_model_state = model.state_dict().copy()\n",
    "        print(f\"🌟 New best DenseNet-121 model found! Validation Accuracy: {val_acc:.4f}\")\n",
    "    \n",
    "    # Epoch Summary\n",
    "    epoch_time = time.time() - epoch_start_time\n",
    "    epoch_times.append(epoch_time)\n",
    "    \n",
    "    print(f\"\\n📊 Epoch {epoch+1} Summary:\")\n",
    "    print(f\"│ Train Loss: {train_loss:.4f} | Train Acc: {train_acc:.4f}\")\n",
    "    print(f\"│ Val Loss:   {val_loss:.4f} | Val Acc:   {val_acc:.4f}\")\n",
    "    print(f\"│ Train Time: {train_phase_time:.2f}s | Val Time: {val_phase_time:.2f}s\")\n",
    "    print(f\"│ Total Epoch Time: {epoch_time:.2f}s\")\n",
    "    print(f\"│ Best Val Acc: {best_val_acc:.4f} (Epoch {best_epoch})\")  # Changed\n",
    "    \n",
    "    if device.type == 'cuda':\n",
    "        print(f\"│ GPU Memory: {torch.cuda.memory_allocated()/1024**3:.1f}GB / {torch.cuda.memory_reserved()/1024**3:.1f}GB\")\n",
    "    \n",
    "    print(\"=\" * 80)\n",
    "\n",
    "total_training_time = time.time() - total_start_time\n",
    "\n",
    "# Save the best model - UPDATED MESSAGES\n",
    "if best_model_state is not None:\n",
    "    torch.save(best_model_state, 'best_densenet121_model.pth')\n",
    "    print(f\"\\n💾 Best DenseNet-121 model saved as 'best_densenet121_model.pth'\")\n",
    "    print(f\"📊 Best model stats:\")\n",
    "    print(f\"│ Best Epoch: {best_epoch}\")\n",
    "    print(f\"│ Best Val Acc: {best_val_acc:.4f}\")  # Changed from best_val_loss\n",
    "\n",
    "# NEW: Save training history data to CSV\n",
    "history_data = {\n",
    "    'epoch': list(range(1, epochs+1)),\n",
    "    'train_loss': train_losses,\n",
    "    'val_loss': val_losses,\n",
    "    'train_acc': train_accs,\n",
    "    'val_acc': val_accs,\n",
    "    'epoch_time': epoch_times\n",
    "}\n",
    "history_df = pd.DataFrame(history_data)\n",
    "history_df.to_csv('densenet121_training_history.csv', index=False)\n",
    "print(\"\\n💾 DenseNet-121 training history saved to 'densenet121_training_history.csv'\")\n",
    "\n",
    "# Training Summary\n",
    "print(f\"\\n🎉 DenseNet-121 Training Complete!\")\n",
    "print(f\"Total Training Time: {total_training_time:.2f}s ({total_training_time/60:.1f} minutes)\")\n",
    "print(f\"Average Epoch Time: {np.mean(epoch_times):.2f}s\")\n",
    "print(\"\\n⏱️  Epoch Timing Breakdown:\")\n",
    "for i, t in enumerate(epoch_times):\n",
    "    print(f\"│ Epoch {i+1}: {t:.2f}s\")\n",
    "\n",
    "# -----------------------------\n",
    "# 5. Load Best Model and Test\n",
    "# -----------------------------\n",
    "print(f\"\\n🧪 Loading Best DenseNet-121 Model for Testing...\")\n",
    "# Load the best model state\n",
    "if best_model_state is not None:\n",
    "    model.load_state_dict(best_model_state)\n",
    "    print(f\"✅ Best DenseNet-121 model from epoch {best_epoch} loaded successfully!\")\n",
    "else:\n",
    "    print(\"⚠️  No best model found, using current model state\")\n",
    "\n",
    "test_start_time = time.time()\n",
    "y_true, y_pred = [], []\n",
    "model.eval()\n",
    "\n",
    "test_pbar = tqdm(test_loader, desc=\"Testing DenseNet-121\", \n",
    "                bar_format='{l_bar}{bar:30}{r_bar}{bar:-30b}')\n",
    "\n",
    "with torch.no_grad():\n",
    "    for imgs, labels in test_pbar:\n",
    "        imgs, labels = imgs.to(device), labels.to(device)\n",
    "        outputs = model(imgs)\n",
    "        _, preds = torch.max(outputs, 1)\n",
    "        y_true.extend(labels.cpu().numpy())\n",
    "        y_pred.extend(preds.cpu().numpy())\n",
    "\n",
    "test_time = time.time() - test_start_time\n",
    "test_accuracy = accuracy_score(y_true, y_pred)\n",
    "\n",
    "print(f\"✅ DenseNet-121 Testing completed in {test_time:.2f}s\")\n",
    "print(\"\\n📋 DenseNet-121 Classification Report:\")\n",
    "print(classification_report(y_true, y_pred, target_names=classes))\n",
    "print(f\"🎯 DenseNet-121 Test Accuracy: {test_accuracy:.4f}\")\n",
    "\n",
    "# Model Performance Summary - UPDATED\n",
    "print(f\"\\n📊 DenseNet-121 Model Performance Summary:\")\n",
    "print(f\"│ Best Validation Acc:  {best_val_acc:.4f} (Epoch {best_epoch})\")  # Changed\n",
    "print(f\"│ Final Test Accuracy:  {test_accuracy:.4f}\")\n",
    "print(f\"│ Val-Test Gap:         {abs(best_val_acc - test_accuracy):.4f}\")\n",
    "\n",
    "# Confusion Matrix\n",
    "cm = confusion_matrix(y_true, y_pred)\n",
    "plt.figure(figsize=(8, 6))\n",
    "sns.heatmap(cm, annot=True, fmt=\"d\", cmap=\"Greens\", xticklabels=classes, yticklabels=classes)\n",
    "plt.xlabel(\"Predicted\")\n",
    "plt.ylabel(\"True\")\n",
    "plt.title(f\"DenseNet-121 Confusion Matrix - Best Model (Epoch {best_epoch})\")\n",
    "plt.show()\n",
    "\n",
    "# -----------------------------\n",
    "# 6. Enhanced Visualizations - UPDATED\n",
    "# -----------------------------\n",
    "plt.figure(figsize=(20, 5))\n",
    "\n",
    "# Loss Plot\n",
    "plt.subplot(1, 4, 1)\n",
    "plt.plot(range(1, epochs+1), train_losses, 'b-', label=\"Train Loss\", marker='o', linewidth=2)\n",
    "plt.plot(range(1, epochs+1), val_losses, 'r-', label=\"Val Loss\", marker='s', linewidth=2)\n",
    "plt.axvline(x=best_epoch, color='green', linestyle='--', alpha=0.7, label=f'Best (Epoch {best_epoch})')\n",
    "plt.legend()\n",
    "plt.title(\"DenseNet-121 Loss over Epochs\")\n",
    "plt.xlabel(\"Epoch\")\n",
    "plt.ylabel(\"Loss\")\n",
    "plt.grid(True, alpha=0.3)\n",
    "\n",
    "# Accuracy Plot - UPDATED\n",
    "plt.subplot(1, 4, 2)\n",
    "plt.plot(range(1, epochs+1), train_accs, 'b-', label=\"Train Accuracy\", marker='o', linewidth=2)\n",
    "plt.plot(range(1, epochs+1), val_accs, 'r-', label=\"Val Accuracy\", marker='s', linewidth=2)\n",
    "plt.axvline(x=best_epoch, color='green', linestyle='--', alpha=0.7, label=f'Best (Epoch {best_epoch})')\n",
    "plt.scatter([best_epoch], [best_val_acc], color='green', s=100, zorder=5)  # Changed to best_val_acc\n",
    "plt.legend()\n",
    "plt.title(\"DenseNet-121 Accuracy over Epochs\")\n",
    "plt.xlabel(\"Epoch\")\n",
    "plt.ylabel(\"Accuracy\")\n",
    "plt.grid(True, alpha=0.3)\n",
    "\n",
    "# Timing Plot\n",
    "plt.subplot(1, 4, 3)\n",
    "bars = plt.bar(range(1, epochs+1), epoch_times, color='lightgreen', alpha=0.7)\n",
    "bars[best_epoch-1].set_color('green')\n",
    "plt.title(\"DenseNet-121 Training Time per Epoch\")\n",
    "plt.xlabel(\"Epoch\")\n",
    "plt.ylabel(\"Time (seconds)\")\n",
    "plt.grid(True, alpha=0.3)\n",
    "for i, t in enumerate(epoch_times):\n",
    "    plt.text(i+1, t+0.5, f'{t:.1f}s', ha='center', va='bottom')\n",
    "\n",
    "# Performance Comparison\n",
    "plt.subplot(1, 4, 4)\n",
    "metrics = ['Best Val Acc', 'Test Acc']\n",
    "values = [best_val_acc, test_accuracy]\n",
    "colors = ['lightgreen', 'green']\n",
    "bars = plt.bar(metrics, values, color=colors, alpha=0.7)\n",
    "plt.title(\"DenseNet-121 Final Model Performance\")\n",
    "plt.ylabel(\"Accuracy\")\n",
    "plt.ylim(0, 1)\n",
    "plt.grid(True, alpha=0.3)\n",
    "for bar, val in zip(bars, values):\n",
    "    plt.text(bar.get_x() + bar.get_width()/2, val + 0.01, \n",
    "             f'{val:.4f}', ha='center', va='bottom')\n",
    "\n",
    "plt.tight_layout()\n",
    "plt.show()\n",
    "\n",
    "print(f\"\\n⏰ DenseNet-121 Final Timing Summary:\")\n",
    "print(f\"│ Total Training: {total_training_time:.2f}s\")\n",
    "print(f\"│ Average per Epoch: {np.mean(epoch_times):.2f}s\")\n",
    "print(f\"│ Testing Time: {test_time:.2f}s\")\n",
    "print(f\"│ Total Runtime: {total_training_time + test_time:.2f}s\")\n",
    "\n",
    "print(f\"\\n💾 DenseNet-121 Files saved:\")\n",
    "print(f\"│ best_densenet121_model.pth - Best validation accuracy model\")\n",
    "print(f\"│ densenet121_training_history.csv - Training metrics for later plotting\")"
   ]
  },
  {
   "cell_type": "code",
   "execution_count": 9,
   "id": "89089a05",
   "metadata": {
    "execution": {
     "iopub.execute_input": "2025-09-08T09:16:44.996583Z",
     "iopub.status.busy": "2025-09-08T09:16:44.995877Z",
     "iopub.status.idle": "2025-09-08T09:16:45.060301Z",
     "shell.execute_reply": "2025-09-08T09:16:45.059523Z"
    },
    "papermill": {
     "duration": 0.41933,
     "end_time": "2025-09-08T09:16:45.061453",
     "exception": false,
     "start_time": "2025-09-08T09:16:44.642123",
     "status": "completed"
    },
    "tags": []
   },
   "outputs": [
    {
     "data": {
      "text/html": [
       "<div>\n",
       "<style scoped>\n",
       "    .dataframe tbody tr th:only-of-type {\n",
       "        vertical-align: middle;\n",
       "    }\n",
       "\n",
       "    .dataframe tbody tr th {\n",
       "        vertical-align: top;\n",
       "    }\n",
       "\n",
       "    .dataframe thead th {\n",
       "        text-align: right;\n",
       "    }\n",
       "</style>\n",
       "<table border=\"1\" class=\"dataframe\">\n",
       "  <thead>\n",
       "    <tr style=\"text-align: right;\">\n",
       "      <th></th>\n",
       "      <th>epoch</th>\n",
       "      <th>train_loss</th>\n",
       "      <th>val_loss</th>\n",
       "      <th>train_acc</th>\n",
       "      <th>val_acc</th>\n",
       "      <th>epoch_time</th>\n",
       "    </tr>\n",
       "  </thead>\n",
       "  <tbody>\n",
       "    <tr>\n",
       "      <th>0</th>\n",
       "      <td>1</td>\n",
       "      <td>1.369481</td>\n",
       "      <td>1.589239</td>\n",
       "      <td>0.414906</td>\n",
       "      <td>0.314732</td>\n",
       "      <td>52.464583</td>\n",
       "    </tr>\n",
       "    <tr>\n",
       "      <th>1</th>\n",
       "      <td>2</td>\n",
       "      <td>1.062492</td>\n",
       "      <td>1.701286</td>\n",
       "      <td>0.581573</td>\n",
       "      <td>0.410714</td>\n",
       "      <td>36.468312</td>\n",
       "    </tr>\n",
       "    <tr>\n",
       "      <th>2</th>\n",
       "      <td>3</td>\n",
       "      <td>0.909264</td>\n",
       "      <td>1.681728</td>\n",
       "      <td>0.654930</td>\n",
       "      <td>0.412946</td>\n",
       "      <td>38.670183</td>\n",
       "    </tr>\n",
       "    <tr>\n",
       "      <th>3</th>\n",
       "      <td>4</td>\n",
       "      <td>0.682717</td>\n",
       "      <td>1.692214</td>\n",
       "      <td>0.748239</td>\n",
       "      <td>0.508929</td>\n",
       "      <td>37.240293</td>\n",
       "    </tr>\n",
       "    <tr>\n",
       "      <th>4</th>\n",
       "      <td>5</td>\n",
       "      <td>0.500705</td>\n",
       "      <td>1.982442</td>\n",
       "      <td>0.817488</td>\n",
       "      <td>0.466518</td>\n",
       "      <td>37.610993</td>\n",
       "    </tr>\n",
       "    <tr>\n",
       "      <th>5</th>\n",
       "      <td>6</td>\n",
       "      <td>0.352769</td>\n",
       "      <td>2.259026</td>\n",
       "      <td>0.867371</td>\n",
       "      <td>0.435268</td>\n",
       "      <td>37.453887</td>\n",
       "    </tr>\n",
       "    <tr>\n",
       "      <th>6</th>\n",
       "      <td>7</td>\n",
       "      <td>0.302642</td>\n",
       "      <td>2.194200</td>\n",
       "      <td>0.894953</td>\n",
       "      <td>0.488839</td>\n",
       "      <td>37.796347</td>\n",
       "    </tr>\n",
       "    <tr>\n",
       "      <th>7</th>\n",
       "      <td>8</td>\n",
       "      <td>0.313434</td>\n",
       "      <td>1.923343</td>\n",
       "      <td>0.891432</td>\n",
       "      <td>0.484375</td>\n",
       "      <td>37.473644</td>\n",
       "    </tr>\n",
       "    <tr>\n",
       "      <th>8</th>\n",
       "      <td>9</td>\n",
       "      <td>0.243724</td>\n",
       "      <td>1.937409</td>\n",
       "      <td>0.920775</td>\n",
       "      <td>0.513393</td>\n",
       "      <td>37.777376</td>\n",
       "    </tr>\n",
       "    <tr>\n",
       "      <th>9</th>\n",
       "      <td>10</td>\n",
       "      <td>0.233796</td>\n",
       "      <td>2.543732</td>\n",
       "      <td>0.918427</td>\n",
       "      <td>0.524554</td>\n",
       "      <td>37.572481</td>\n",
       "    </tr>\n",
       "    <tr>\n",
       "      <th>10</th>\n",
       "      <td>11</td>\n",
       "      <td>0.154589</td>\n",
       "      <td>2.025650</td>\n",
       "      <td>0.944836</td>\n",
       "      <td>0.526786</td>\n",
       "      <td>38.084285</td>\n",
       "    </tr>\n",
       "    <tr>\n",
       "      <th>11</th>\n",
       "      <td>12</td>\n",
       "      <td>0.063893</td>\n",
       "      <td>2.500296</td>\n",
       "      <td>0.981221</td>\n",
       "      <td>0.535714</td>\n",
       "      <td>37.959465</td>\n",
       "    </tr>\n",
       "    <tr>\n",
       "      <th>12</th>\n",
       "      <td>13</td>\n",
       "      <td>0.096706</td>\n",
       "      <td>2.451114</td>\n",
       "      <td>0.964789</td>\n",
       "      <td>0.522321</td>\n",
       "      <td>37.777888</td>\n",
       "    </tr>\n",
       "    <tr>\n",
       "      <th>13</th>\n",
       "      <td>14</td>\n",
       "      <td>0.131293</td>\n",
       "      <td>2.547431</td>\n",
       "      <td>0.955986</td>\n",
       "      <td>0.529018</td>\n",
       "      <td>37.951130</td>\n",
       "    </tr>\n",
       "    <tr>\n",
       "      <th>14</th>\n",
       "      <td>15</td>\n",
       "      <td>0.130430</td>\n",
       "      <td>2.971381</td>\n",
       "      <td>0.958920</td>\n",
       "      <td>0.497768</td>\n",
       "      <td>37.754928</td>\n",
       "    </tr>\n",
       "    <tr>\n",
       "      <th>15</th>\n",
       "      <td>16</td>\n",
       "      <td>0.079692</td>\n",
       "      <td>2.401240</td>\n",
       "      <td>0.969484</td>\n",
       "      <td>0.537946</td>\n",
       "      <td>37.278565</td>\n",
       "    </tr>\n",
       "    <tr>\n",
       "      <th>16</th>\n",
       "      <td>17</td>\n",
       "      <td>0.035042</td>\n",
       "      <td>2.932375</td>\n",
       "      <td>0.990610</td>\n",
       "      <td>0.500000</td>\n",
       "      <td>37.366972</td>\n",
       "    </tr>\n",
       "    <tr>\n",
       "      <th>17</th>\n",
       "      <td>18</td>\n",
       "      <td>0.057608</td>\n",
       "      <td>2.936506</td>\n",
       "      <td>0.982981</td>\n",
       "      <td>0.446429</td>\n",
       "      <td>37.600524</td>\n",
       "    </tr>\n",
       "    <tr>\n",
       "      <th>18</th>\n",
       "      <td>19</td>\n",
       "      <td>0.086021</td>\n",
       "      <td>2.575082</td>\n",
       "      <td>0.970657</td>\n",
       "      <td>0.549107</td>\n",
       "      <td>37.511398</td>\n",
       "    </tr>\n",
       "    <tr>\n",
       "      <th>19</th>\n",
       "      <td>20</td>\n",
       "      <td>0.040684</td>\n",
       "      <td>2.790498</td>\n",
       "      <td>0.985329</td>\n",
       "      <td>0.522321</td>\n",
       "      <td>37.500826</td>\n",
       "    </tr>\n",
       "    <tr>\n",
       "      <th>20</th>\n",
       "      <td>21</td>\n",
       "      <td>0.039672</td>\n",
       "      <td>2.885336</td>\n",
       "      <td>0.989437</td>\n",
       "      <td>0.500000</td>\n",
       "      <td>37.599268</td>\n",
       "    </tr>\n",
       "    <tr>\n",
       "      <th>21</th>\n",
       "      <td>22</td>\n",
       "      <td>0.063288</td>\n",
       "      <td>2.477154</td>\n",
       "      <td>0.977700</td>\n",
       "      <td>0.517857</td>\n",
       "      <td>37.519492</td>\n",
       "    </tr>\n",
       "    <tr>\n",
       "      <th>22</th>\n",
       "      <td>23</td>\n",
       "      <td>0.139805</td>\n",
       "      <td>3.406785</td>\n",
       "      <td>0.953052</td>\n",
       "      <td>0.511161</td>\n",
       "      <td>37.269829</td>\n",
       "    </tr>\n",
       "    <tr>\n",
       "      <th>23</th>\n",
       "      <td>24</td>\n",
       "      <td>0.071019</td>\n",
       "      <td>2.735887</td>\n",
       "      <td>0.975939</td>\n",
       "      <td>0.491071</td>\n",
       "      <td>37.200357</td>\n",
       "    </tr>\n",
       "    <tr>\n",
       "      <th>24</th>\n",
       "      <td>25</td>\n",
       "      <td>0.029990</td>\n",
       "      <td>2.652511</td>\n",
       "      <td>0.990023</td>\n",
       "      <td>0.513393</td>\n",
       "      <td>37.250620</td>\n",
       "    </tr>\n",
       "    <tr>\n",
       "      <th>25</th>\n",
       "      <td>26</td>\n",
       "      <td>0.106090</td>\n",
       "      <td>4.113525</td>\n",
       "      <td>0.975352</td>\n",
       "      <td>0.437500</td>\n",
       "      <td>37.161105</td>\n",
       "    </tr>\n",
       "    <tr>\n",
       "      <th>26</th>\n",
       "      <td>27</td>\n",
       "      <td>0.104321</td>\n",
       "      <td>2.915394</td>\n",
       "      <td>0.965376</td>\n",
       "      <td>0.486607</td>\n",
       "      <td>37.226861</td>\n",
       "    </tr>\n",
       "    <tr>\n",
       "      <th>27</th>\n",
       "      <td>28</td>\n",
       "      <td>0.023278</td>\n",
       "      <td>2.656485</td>\n",
       "      <td>0.994131</td>\n",
       "      <td>0.488839</td>\n",
       "      <td>36.951097</td>\n",
       "    </tr>\n",
       "    <tr>\n",
       "      <th>28</th>\n",
       "      <td>29</td>\n",
       "      <td>0.025618</td>\n",
       "      <td>3.164855</td>\n",
       "      <td>0.992958</td>\n",
       "      <td>0.419643</td>\n",
       "      <td>37.087869</td>\n",
       "    </tr>\n",
       "    <tr>\n",
       "      <th>29</th>\n",
       "      <td>30</td>\n",
       "      <td>0.067229</td>\n",
       "      <td>3.070870</td>\n",
       "      <td>0.982394</td>\n",
       "      <td>0.486607</td>\n",
       "      <td>37.036223</td>\n",
       "    </tr>\n",
       "    <tr>\n",
       "      <th>30</th>\n",
       "      <td>31</td>\n",
       "      <td>0.049469</td>\n",
       "      <td>3.167841</td>\n",
       "      <td>0.987089</td>\n",
       "      <td>0.421875</td>\n",
       "      <td>37.128791</td>\n",
       "    </tr>\n",
       "    <tr>\n",
       "      <th>31</th>\n",
       "      <td>32</td>\n",
       "      <td>0.046177</td>\n",
       "      <td>3.785148</td>\n",
       "      <td>0.984742</td>\n",
       "      <td>0.459821</td>\n",
       "      <td>37.067609</td>\n",
       "    </tr>\n",
       "    <tr>\n",
       "      <th>32</th>\n",
       "      <td>33</td>\n",
       "      <td>0.059417</td>\n",
       "      <td>3.229589</td>\n",
       "      <td>0.982394</td>\n",
       "      <td>0.450893</td>\n",
       "      <td>37.017914</td>\n",
       "    </tr>\n",
       "    <tr>\n",
       "      <th>33</th>\n",
       "      <td>34</td>\n",
       "      <td>0.031921</td>\n",
       "      <td>2.920971</td>\n",
       "      <td>0.991197</td>\n",
       "      <td>0.464286</td>\n",
       "      <td>36.833067</td>\n",
       "    </tr>\n",
       "    <tr>\n",
       "      <th>34</th>\n",
       "      <td>35</td>\n",
       "      <td>0.010513</td>\n",
       "      <td>3.131490</td>\n",
       "      <td>0.998239</td>\n",
       "      <td>0.504464</td>\n",
       "      <td>36.908341</td>\n",
       "    </tr>\n",
       "    <tr>\n",
       "      <th>35</th>\n",
       "      <td>36</td>\n",
       "      <td>0.006184</td>\n",
       "      <td>3.132014</td>\n",
       "      <td>0.998826</td>\n",
       "      <td>0.479911</td>\n",
       "      <td>36.578288</td>\n",
       "    </tr>\n",
       "    <tr>\n",
       "      <th>36</th>\n",
       "      <td>37</td>\n",
       "      <td>0.009866</td>\n",
       "      <td>3.231153</td>\n",
       "      <td>0.996479</td>\n",
       "      <td>0.500000</td>\n",
       "      <td>36.931137</td>\n",
       "    </tr>\n",
       "    <tr>\n",
       "      <th>37</th>\n",
       "      <td>38</td>\n",
       "      <td>0.009013</td>\n",
       "      <td>3.211674</td>\n",
       "      <td>0.997653</td>\n",
       "      <td>0.524554</td>\n",
       "      <td>36.627674</td>\n",
       "    </tr>\n",
       "    <tr>\n",
       "      <th>38</th>\n",
       "      <td>39</td>\n",
       "      <td>0.019737</td>\n",
       "      <td>3.235869</td>\n",
       "      <td>0.998826</td>\n",
       "      <td>0.468750</td>\n",
       "      <td>37.072721</td>\n",
       "    </tr>\n",
       "    <tr>\n",
       "      <th>39</th>\n",
       "      <td>40</td>\n",
       "      <td>0.054428</td>\n",
       "      <td>3.922589</td>\n",
       "      <td>0.986502</td>\n",
       "      <td>0.408482</td>\n",
       "      <td>37.166314</td>\n",
       "    </tr>\n",
       "    <tr>\n",
       "      <th>40</th>\n",
       "      <td>41</td>\n",
       "      <td>0.162722</td>\n",
       "      <td>3.076814</td>\n",
       "      <td>0.943075</td>\n",
       "      <td>0.495536</td>\n",
       "      <td>36.848450</td>\n",
       "    </tr>\n",
       "    <tr>\n",
       "      <th>41</th>\n",
       "      <td>42</td>\n",
       "      <td>0.065934</td>\n",
       "      <td>2.665367</td>\n",
       "      <td>0.980634</td>\n",
       "      <td>0.446429</td>\n",
       "      <td>37.132432</td>\n",
       "    </tr>\n",
       "    <tr>\n",
       "      <th>42</th>\n",
       "      <td>43</td>\n",
       "      <td>0.025097</td>\n",
       "      <td>2.752740</td>\n",
       "      <td>0.991784</td>\n",
       "      <td>0.497768</td>\n",
       "      <td>36.940119</td>\n",
       "    </tr>\n",
       "    <tr>\n",
       "      <th>43</th>\n",
       "      <td>44</td>\n",
       "      <td>0.014576</td>\n",
       "      <td>3.149702</td>\n",
       "      <td>0.995892</td>\n",
       "      <td>0.466518</td>\n",
       "      <td>36.825589</td>\n",
       "    </tr>\n",
       "    <tr>\n",
       "      <th>44</th>\n",
       "      <td>45</td>\n",
       "      <td>0.008934</td>\n",
       "      <td>3.104599</td>\n",
       "      <td>0.998239</td>\n",
       "      <td>0.551339</td>\n",
       "      <td>36.764174</td>\n",
       "    </tr>\n",
       "    <tr>\n",
       "      <th>45</th>\n",
       "      <td>46</td>\n",
       "      <td>0.003649</td>\n",
       "      <td>3.273194</td>\n",
       "      <td>0.998826</td>\n",
       "      <td>0.491071</td>\n",
       "      <td>36.892661</td>\n",
       "    </tr>\n",
       "    <tr>\n",
       "      <th>46</th>\n",
       "      <td>47</td>\n",
       "      <td>0.011232</td>\n",
       "      <td>3.596955</td>\n",
       "      <td>0.996479</td>\n",
       "      <td>0.477679</td>\n",
       "      <td>37.169312</td>\n",
       "    </tr>\n",
       "    <tr>\n",
       "      <th>47</th>\n",
       "      <td>48</td>\n",
       "      <td>0.020589</td>\n",
       "      <td>3.686300</td>\n",
       "      <td>0.994131</td>\n",
       "      <td>0.450893</td>\n",
       "      <td>37.164567</td>\n",
       "    </tr>\n",
       "    <tr>\n",
       "      <th>48</th>\n",
       "      <td>49</td>\n",
       "      <td>0.068706</td>\n",
       "      <td>3.512025</td>\n",
       "      <td>0.981221</td>\n",
       "      <td>0.473214</td>\n",
       "      <td>36.732410</td>\n",
       "    </tr>\n",
       "    <tr>\n",
       "      <th>49</th>\n",
       "      <td>50</td>\n",
       "      <td>0.100875</td>\n",
       "      <td>3.449832</td>\n",
       "      <td>0.964202</td>\n",
       "      <td>0.406250</td>\n",
       "      <td>36.695879</td>\n",
       "    </tr>\n",
       "  </tbody>\n",
       "</table>\n",
       "</div>"
      ],
      "text/plain": [
       "    epoch  train_loss  val_loss  train_acc   val_acc  epoch_time\n",
       "0       1    1.369481  1.589239   0.414906  0.314732   52.464583\n",
       "1       2    1.062492  1.701286   0.581573  0.410714   36.468312\n",
       "2       3    0.909264  1.681728   0.654930  0.412946   38.670183\n",
       "3       4    0.682717  1.692214   0.748239  0.508929   37.240293\n",
       "4       5    0.500705  1.982442   0.817488  0.466518   37.610993\n",
       "5       6    0.352769  2.259026   0.867371  0.435268   37.453887\n",
       "6       7    0.302642  2.194200   0.894953  0.488839   37.796347\n",
       "7       8    0.313434  1.923343   0.891432  0.484375   37.473644\n",
       "8       9    0.243724  1.937409   0.920775  0.513393   37.777376\n",
       "9      10    0.233796  2.543732   0.918427  0.524554   37.572481\n",
       "10     11    0.154589  2.025650   0.944836  0.526786   38.084285\n",
       "11     12    0.063893  2.500296   0.981221  0.535714   37.959465\n",
       "12     13    0.096706  2.451114   0.964789  0.522321   37.777888\n",
       "13     14    0.131293  2.547431   0.955986  0.529018   37.951130\n",
       "14     15    0.130430  2.971381   0.958920  0.497768   37.754928\n",
       "15     16    0.079692  2.401240   0.969484  0.537946   37.278565\n",
       "16     17    0.035042  2.932375   0.990610  0.500000   37.366972\n",
       "17     18    0.057608  2.936506   0.982981  0.446429   37.600524\n",
       "18     19    0.086021  2.575082   0.970657  0.549107   37.511398\n",
       "19     20    0.040684  2.790498   0.985329  0.522321   37.500826\n",
       "20     21    0.039672  2.885336   0.989437  0.500000   37.599268\n",
       "21     22    0.063288  2.477154   0.977700  0.517857   37.519492\n",
       "22     23    0.139805  3.406785   0.953052  0.511161   37.269829\n",
       "23     24    0.071019  2.735887   0.975939  0.491071   37.200357\n",
       "24     25    0.029990  2.652511   0.990023  0.513393   37.250620\n",
       "25     26    0.106090  4.113525   0.975352  0.437500   37.161105\n",
       "26     27    0.104321  2.915394   0.965376  0.486607   37.226861\n",
       "27     28    0.023278  2.656485   0.994131  0.488839   36.951097\n",
       "28     29    0.025618  3.164855   0.992958  0.419643   37.087869\n",
       "29     30    0.067229  3.070870   0.982394  0.486607   37.036223\n",
       "30     31    0.049469  3.167841   0.987089  0.421875   37.128791\n",
       "31     32    0.046177  3.785148   0.984742  0.459821   37.067609\n",
       "32     33    0.059417  3.229589   0.982394  0.450893   37.017914\n",
       "33     34    0.031921  2.920971   0.991197  0.464286   36.833067\n",
       "34     35    0.010513  3.131490   0.998239  0.504464   36.908341\n",
       "35     36    0.006184  3.132014   0.998826  0.479911   36.578288\n",
       "36     37    0.009866  3.231153   0.996479  0.500000   36.931137\n",
       "37     38    0.009013  3.211674   0.997653  0.524554   36.627674\n",
       "38     39    0.019737  3.235869   0.998826  0.468750   37.072721\n",
       "39     40    0.054428  3.922589   0.986502  0.408482   37.166314\n",
       "40     41    0.162722  3.076814   0.943075  0.495536   36.848450\n",
       "41     42    0.065934  2.665367   0.980634  0.446429   37.132432\n",
       "42     43    0.025097  2.752740   0.991784  0.497768   36.940119\n",
       "43     44    0.014576  3.149702   0.995892  0.466518   36.825589\n",
       "44     45    0.008934  3.104599   0.998239  0.551339   36.764174\n",
       "45     46    0.003649  3.273194   0.998826  0.491071   36.892661\n",
       "46     47    0.011232  3.596955   0.996479  0.477679   37.169312\n",
       "47     48    0.020589  3.686300   0.994131  0.450893   37.164567\n",
       "48     49    0.068706  3.512025   0.981221  0.473214   36.732410\n",
       "49     50    0.100875  3.449832   0.964202  0.406250   36.695879"
      ]
     },
     "execution_count": 9,
     "metadata": {},
     "output_type": "execute_result"
    }
   ],
   "source": [
    "import pandas as pd\n",
    "df=pd.read_csv(\"/kaggle/working/densenet121_training_history.csv\")\n",
    "df"
   ]
  }
 ],
 "metadata": {
  "kaggle": {
   "accelerator": "nvidiaTeslaT4",
   "dataSources": [
    {
     "datasetId": 7735666,
     "sourceId": 12275446,
     "sourceType": "datasetVersion"
    }
   ],
   "dockerImageVersionId": 31090,
   "isGpuEnabled": true,
   "isInternetEnabled": true,
   "language": "python",
   "sourceType": "notebook"
  },
  "kernelspec": {
   "display_name": "Python 3",
   "language": "python",
   "name": "python3"
  },
  "language_info": {
   "codemirror_mode": {
    "name": "ipython",
    "version": 3
   },
   "file_extension": ".py",
   "mimetype": "text/x-python",
   "name": "python",
   "nbconvert_exporter": "python",
   "pygments_lexer": "ipython3",
   "version": "3.11.13"
  },
  "papermill": {
   "default_parameters": {},
   "duration": 1919.799446,
   "end_time": "2025-09-08T09:16:48.091948",
   "environment_variables": {},
   "exception": null,
   "input_path": "__notebook__.ipynb",
   "output_path": "__notebook__.ipynb",
   "parameters": {},
   "start_time": "2025-09-08T08:44:48.292502",
   "version": "2.6.0"
  }
 },
 "nbformat": 4,
 "nbformat_minor": 5
}
