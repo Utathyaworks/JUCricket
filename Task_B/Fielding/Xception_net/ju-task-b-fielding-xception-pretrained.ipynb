{
 "cells": [
  {
   "cell_type": "code",
   "execution_count": 1,
   "id": "b00ec1ab",
   "metadata": {
    "_cell_guid": "b1076dfc-b9ad-4769-8c92-a6c4dae69d19",
    "_uuid": "8f2839f25d086af736a60e9eeb907d3b93b6e0e5",
    "execution": {
     "iopub.execute_input": "2025-09-11T13:21:04.211420Z",
     "iopub.status.busy": "2025-09-11T13:21:04.211110Z",
     "iopub.status.idle": "2025-09-11T13:21:19.241182Z",
     "shell.execute_reply": "2025-09-11T13:21:19.240275Z"
    },
    "papermill": {
     "duration": 15.034935,
     "end_time": "2025-09-11T13:21:19.242328",
     "exception": false,
     "start_time": "2025-09-11T13:21:04.207393",
     "status": "completed"
    },
    "tags": []
   },
   "outputs": [
    {
     "name": "stdout",
     "output_type": "stream",
     "text": [
      "Classes: ['boundary_save', 'catching_a_ball', 'diving_stop', 'run_out', 'stumping']\n"
     ]
    }
   ],
   "source": [
    "import torch\n",
    "import torch.nn as nn\n",
    "import torch.nn.functional as F\n",
    "from torch.utils.data import DataLoader\n",
    "from torchvision import datasets, transforms\n",
    "from torchsummary import summary\n",
    "import matplotlib.pyplot as plt\n",
    "from sklearn.metrics import classification_report, confusion_matrix, accuracy_score\n",
    "import seaborn as sns\n",
    "import numpy as np\n",
    "\n",
    "# -----------------------------\n",
    "# 1. Data Preprocessing\n",
    "# -----------------------------\n",
    "data_dir = \"/kaggle/input/ju-cricket/Cricket_Dataset_final/Task_B\"\n",
    "\n",
    "transform = transforms.Compose([\n",
    "    transforms.Resize((224, 224)),\n",
    "    transforms.ToTensor(),\n",
    "    transforms.Normalize([0.485, 0.456, 0.406], \n",
    "                         [0.229, 0.224, 0.225])\n",
    "])\n",
    "\n",
    "train_ds = datasets.ImageFolder(f\"{data_dir}/train/Fielding\", transform=transform)\n",
    "val_ds   = datasets.ImageFolder(f\"{data_dir}/val/Fielding\", transform=transform)\n",
    "test_ds  = datasets.ImageFolder(f\"{data_dir}/test/Fielding\", transform=transform)\n",
    "\n",
    "train_loader = DataLoader(train_ds, batch_size=32, shuffle=True)\n",
    "val_loader   = DataLoader(val_ds, batch_size=32, shuffle=False)\n",
    "test_loader  = DataLoader(test_ds, batch_size=32, shuffle=False)\n",
    "\n",
    "classes = train_ds.classes\n",
    "print(\"Classes:\", classes)"
   ]
  },
  {
   "cell_type": "code",
   "execution_count": 2,
   "id": "ae9a7bce",
   "metadata": {
    "execution": {
     "iopub.execute_input": "2025-09-11T13:21:19.248199Z",
     "iopub.status.busy": "2025-09-11T13:21:19.247840Z",
     "iopub.status.idle": "2025-09-11T13:21:19.252323Z",
     "shell.execute_reply": "2025-09-11T13:21:19.251659Z"
    },
    "papermill": {
     "duration": 0.008373,
     "end_time": "2025-09-11T13:21:19.253325",
     "exception": false,
     "start_time": "2025-09-11T13:21:19.244952",
     "status": "completed"
    },
    "tags": []
   },
   "outputs": [
    {
     "name": "stdout",
     "output_type": "stream",
     "text": [
      "Total training images: 1917\n",
      "Total validation images: 504\n",
      "Total test images: 630\n",
      "Total images in dataset: 3051\n"
     ]
    }
   ],
   "source": [
    "print(\"Total training images:\", len(train_ds))\n",
    "print(\"Total validation images:\", len(val_ds))\n",
    "print(\"Total test images:\", len(test_ds))\n",
    "\n",
    "total_images = len(train_ds) + len(val_ds) + len(test_ds)\n",
    "print(\"Total images in dataset:\", total_images)"
   ]
  },
  {
   "cell_type": "code",
   "execution_count": 3,
   "id": "0e754098",
   "metadata": {
    "execution": {
     "iopub.execute_input": "2025-09-11T13:21:19.258460Z",
     "iopub.status.busy": "2025-09-11T13:21:19.258256Z",
     "iopub.status.idle": "2025-09-11T13:21:19.265064Z",
     "shell.execute_reply": "2025-09-11T13:21:19.264393Z"
    },
    "papermill": {
     "duration": 0.010549,
     "end_time": "2025-09-11T13:21:19.266123",
     "exception": false,
     "start_time": "2025-09-11T13:21:19.255574",
     "status": "completed"
    },
    "tags": []
   },
   "outputs": [
    {
     "name": "stdout",
     "output_type": "stream",
     "text": [
      "Training images (excluding 'random_occlusion'): 1704\n",
      "Validation images (excluding 'random_occlusion'): 448\n",
      "Test images (excluding 'random_occlusion'): 560\n",
      "Total images (excluding 'random_occlusion'): 2712\n"
     ]
    }
   ],
   "source": [
    "ignore_folder = \"random_occlusion\"\n",
    "\n",
    "def count_images_ignore_folder(dataset, ignore_folder):\n",
    "    count = 0\n",
    "    for img_path, label in dataset.samples:\n",
    "        # Skip if the image path contains the ignore_folder\n",
    "        if ignore_folder not in img_path.split(\"/\"):\n",
    "            count += 1\n",
    "    return count\n",
    "\n",
    "train_count = count_images_ignore_folder(train_ds, ignore_folder)\n",
    "val_count   = count_images_ignore_folder(val_ds, ignore_folder)\n",
    "test_count  = count_images_ignore_folder(test_ds, ignore_folder)\n",
    "\n",
    "total_count = train_count + val_count + test_count\n",
    "\n",
    "print(\"Training images (excluding '{}'): {}\".format(ignore_folder, train_count))\n",
    "print(\"Validation images (excluding '{}'): {}\".format(ignore_folder, val_count))\n",
    "print(\"Test images (excluding '{}'): {}\".format(ignore_folder, test_count))\n",
    "print(\"Total images (excluding '{}'): {}\".format(ignore_folder, total_count))"
   ]
  },
  {
   "cell_type": "code",
   "execution_count": 4,
   "id": "246d6781",
   "metadata": {
    "execution": {
     "iopub.execute_input": "2025-09-11T13:21:19.271518Z",
     "iopub.status.busy": "2025-09-11T13:21:19.271324Z",
     "iopub.status.idle": "2025-09-11T13:21:19.279042Z",
     "shell.execute_reply": "2025-09-11T13:21:19.278337Z"
    },
    "papermill": {
     "duration": 0.011638,
     "end_time": "2025-09-11T13:21:19.280111",
     "exception": false,
     "start_time": "2025-09-11T13:21:19.268473",
     "status": "completed"
    },
    "tags": []
   },
   "outputs": [
    {
     "name": "stdout",
     "output_type": "stream",
     "text": [
      "Training folders considered: {'dirty_lens', 'blur', 'low_resolution', 'chromatic_aberration', 'lens_flare', 'gaussian_noise', 'motion_blur', 'random_occlusion', 'original'}\n",
      "Validation folders considered: {'dirty_lens', 'blur', 'low_resolution', 'chromatic_aberration', 'lens_flare', 'gaussian_noise', 'motion_blur', 'random_occlusion', 'original'}\n",
      "Test folders considered: {'dirty_lens', 'blur', 'low_resolution', 'chromatic_aberration', 'lens_flare', 'gaussian_noise', 'motion_blur', 'random_occlusion', 'original'}\n"
     ]
    }
   ],
   "source": [
    "ignore_folder = \"random_occlusionw\"\n",
    "\n",
    "def get_included_folders(dataset, ignore_folder):\n",
    "    included = set()\n",
    "    for img_path, label in dataset.samples:\n",
    "        # Split the path into parts and ignore if ignore_folder is in the path\n",
    "        if ignore_folder not in img_path.split(\"/\"):\n",
    "            # The folder name just above the image (or the class folder)\n",
    "            folder_name = img_path.split(\"/\")[-2]\n",
    "            included.add(folder_name)\n",
    "    return included\n",
    "\n",
    "train_folders = get_included_folders(train_ds, ignore_folder)\n",
    "val_folders   = get_included_folders(val_ds, ignore_folder)\n",
    "test_folders  = get_included_folders(test_ds, ignore_folder)\n",
    "\n",
    "print(\"Training folders considered:\", train_folders)\n",
    "print(\"Validation folders considered:\", val_folders)\n",
    "print(\"Test folders considered:\", test_folders)"
   ]
  },
  {
   "cell_type": "code",
   "execution_count": 5,
   "id": "e09bc36e",
   "metadata": {
    "execution": {
     "iopub.execute_input": "2025-09-11T13:21:19.285451Z",
     "iopub.status.busy": "2025-09-11T13:21:19.285240Z",
     "iopub.status.idle": "2025-09-11T13:21:19.389815Z",
     "shell.execute_reply": "2025-09-11T13:21:19.389008Z"
    },
    "papermill": {
     "duration": 0.108585,
     "end_time": "2025-09-11T13:21:19.391000",
     "exception": false,
     "start_time": "2025-09-11T13:21:19.282415",
     "status": "completed"
    },
    "tags": []
   },
   "outputs": [
    {
     "name": "stdout",
     "output_type": "stream",
     "text": [
      "Classes: ['boundary_save', 'catching_a_ball', 'diving_stop', 'run_out', 'stumping']\n",
      "Final Training images: 1704\n",
      "Final Validation images: 448\n",
      "Final Test images: 560\n",
      "Total images after filtering: 2712\n"
     ]
    }
   ],
   "source": [
    "ignore_folder = \"random_occlusion\"\n",
    "\n",
    "def filter_samples(dataset, ignore_folder):\n",
    "    # Keep only samples where ignore_folder is NOT in the path\n",
    "    filtered_samples = [s for s in dataset.samples if ignore_folder not in s[0].split(\"/\")]\n",
    "    dataset.samples = filtered_samples\n",
    "    dataset.targets = [s[1] for s in filtered_samples]  # Update targets accordingly\n",
    "    return dataset\n",
    "\n",
    "# Create original datasets\n",
    "train_ds = datasets.ImageFolder(f\"{data_dir}/train/Fielding\", transform=transform)\n",
    "val_ds   = datasets.ImageFolder(f\"{data_dir}/val/Fielding\", transform=transform)\n",
    "test_ds  = datasets.ImageFolder(f\"{data_dir}/test/Fielding\", transform=transform)\n",
    "\n",
    "# Filter out 'random_occlusion' folder\n",
    "train_ds = filter_samples(train_ds, ignore_folder)\n",
    "val_ds   = filter_samples(val_ds, ignore_folder)\n",
    "test_ds  = filter_samples(test_ds, ignore_folder)\n",
    "\n",
    "# DataLoaders\n",
    "train_loader = DataLoader(train_ds, batch_size=32, shuffle=True)\n",
    "val_loader   = DataLoader(val_ds, batch_size=32, shuffle=False)\n",
    "test_loader  = DataLoader(test_ds, batch_size=32, shuffle=False)\n",
    "\n",
    "# Classes (will remain the same)\n",
    "classes = train_ds.classes\n",
    "print(\"Classes:\", classes)\n",
    "\n",
    "# Show counts\n",
    "print(\"Final Training images:\", len(train_ds))\n",
    "print(\"Final Validation images:\", len(val_ds))\n",
    "print(\"Final Test images:\", len(test_ds))\n",
    "print(\"Total images after filtering:\", len(train_ds) + len(val_ds) + len(test_ds))"
   ]
  },
  {
   "cell_type": "code",
   "execution_count": 6,
   "id": "643989e8",
   "metadata": {
    "execution": {
     "iopub.execute_input": "2025-09-11T13:21:19.396622Z",
     "iopub.status.busy": "2025-09-11T13:21:19.396253Z",
     "iopub.status.idle": "2025-09-11T13:21:19.403717Z",
     "shell.execute_reply": "2025-09-11T13:21:19.403130Z"
    },
    "papermill": {
     "duration": 0.011182,
     "end_time": "2025-09-11T13:21:19.404646",
     "exception": false,
     "start_time": "2025-09-11T13:21:19.393464",
     "status": "completed"
    },
    "tags": []
   },
   "outputs": [
    {
     "name": "stdout",
     "output_type": "stream",
     "text": [
      "Training folders considered: {'dirty_lens', 'blur', 'low_resolution', 'chromatic_aberration', 'lens_flare', 'gaussian_noise', 'motion_blur', 'original'}\n",
      "Validation folders considered: {'dirty_lens', 'blur', 'low_resolution', 'chromatic_aberration', 'lens_flare', 'gaussian_noise', 'motion_blur', 'original'}\n",
      "Test folders considered: {'dirty_lens', 'blur', 'low_resolution', 'chromatic_aberration', 'lens_flare', 'gaussian_noise', 'motion_blur', 'original'}\n"
     ]
    }
   ],
   "source": [
    "ignore_folder = \"random_occlusion\"\n",
    "\n",
    "def get_included_folders(dataset, ignore_folder):\n",
    "    included = set()\n",
    "    for img_path, label in dataset.samples:\n",
    "        # Split the path into parts and ignore if ignore_folder is in the path\n",
    "        if ignore_folder not in img_path.split(\"/\"):\n",
    "            # The folder name just above the image (or the class folder)\n",
    "            folder_name = img_path.split(\"/\")[-2]\n",
    "            included.add(folder_name)\n",
    "    return included\n",
    "\n",
    "train_folders = get_included_folders(train_ds, ignore_folder)\n",
    "val_folders   = get_included_folders(val_ds, ignore_folder)\n",
    "test_folders  = get_included_folders(test_ds, ignore_folder)\n",
    "\n",
    "print(\"Training folders considered:\", train_folders)\n",
    "print(\"Validation folders considered:\", val_folders)\n",
    "print(\"Test folders considered:\", test_folders)"
   ]
  },
  {
   "cell_type": "code",
   "execution_count": 7,
   "id": "94697a14",
   "metadata": {
    "execution": {
     "iopub.execute_input": "2025-09-11T13:21:19.410299Z",
     "iopub.status.busy": "2025-09-11T13:21:19.410052Z",
     "iopub.status.idle": "2025-09-11T13:21:39.658837Z",
     "shell.execute_reply": "2025-09-11T13:21:39.658133Z"
    },
    "papermill": {
     "duration": 20.253076,
     "end_time": "2025-09-11T13:21:39.660037",
     "exception": false,
     "start_time": "2025-09-11T13:21:19.406961",
     "status": "completed"
    },
    "tags": []
   },
   "outputs": [
    {
     "name": "stdout",
     "output_type": "stream",
     "text": [
      "🔄 Loading and filtering datasets for Xception...\n",
      "✅ Classes: ['Batting', 'Bowling', 'Fielding', 'Umpire']\n",
      "📊 Dataset Statistics:\n",
      "│ Training images: 9928\n",
      "│ Validation images: 2576\n",
      "│ Test images: 3224\n",
      "│ Total images (after filtering): 15728\n",
      "│ Excluded folder: 'random_occlusion'\n",
      "│ Number of classes: 4\n",
      "Using device: cuda\n",
      "🔄 Loading pretrained Xception from ImageNet using timm...\n"
     ]
    },
    {
     "name": "stderr",
     "output_type": "stream",
     "text": [
      "/usr/local/lib/python3.11/dist-packages/timm/models/_factory.py:126: UserWarning: Mapping deprecated model name xception to current legacy_xception.\n",
      "  model = create_fn(\n",
      "Downloading: \"https://github.com/rwightman/pytorch-image-models/releases/download/v0.1-cadene/xception-43020ad28.pth\" to /root/.cache/torch/hub/checkpoints/xception-43020ad28.pth\n"
     ]
    },
    {
     "name": "stdout",
     "output_type": "stream",
     "text": [
      "✅ Model loaded with 4 output classes\n",
      "📊 Total parameters: 20,815,148\n",
      "📊 Trainable parameters: 20,815,148\n",
      "📊 Model file size: 79.70 MB\n",
      "📋 Model Architecture:\n",
      "│ Input size: (3, 299, 299)\n",
      "│ Xception features: 2048\n",
      "│ Output classes: 4\n",
      "│ Depthwise separable convolutions: Core architecture\n",
      "│ Normalization: [-1, 1] range (different from ImageNet)\n"
     ]
    }
   ],
   "source": [
    "import torch\n",
    "import torch.nn as nn\n",
    "import torch.nn.functional as F\n",
    "import torch.optim as optim\n",
    "from torch.utils.data import DataLoader\n",
    "from torchvision import datasets, transforms\n",
    "import timm  # For Xception model\n",
    "import matplotlib.pyplot as plt\n",
    "from sklearn.metrics import classification_report, confusion_matrix, accuracy_score\n",
    "import seaborn as sns\n",
    "import numpy as np\n",
    "import pandas as pd\n",
    "from tqdm import tqdm\n",
    "import time\n",
    "import os\n",
    "import tempfile\n",
    "\n",
    "# -----------------------------\n",
    "# 1. Data Preprocessing with Filtering (Xception - 299x299)\n",
    "# -----------------------------\n",
    "data_dir = \"/kaggle/input/ju-cricket/Cricket_Dataset_final/Task_A\"\n",
    "\n",
    "# Xception uses 299x299 input size (like InceptionV3) with different normalization\n",
    "transform = transforms.Compose([\n",
    "    transforms.Resize((299, 299)),  # Xception input size\n",
    "    transforms.ToTensor(),\n",
    "    transforms.Normalize([0.5, 0.5, 0.5],   # Xception specific normalization\n",
    "                         [0.5, 0.5, 0.5])   # Different from ImageNet standard\n",
    "])\n",
    "\n",
    "ignore_folder = \"random_occlusion\"\n",
    "\n",
    "def filter_samples(dataset, ignore_folder):\n",
    "    \"\"\"Filter out samples containing the ignore_folder in their path\"\"\"\n",
    "    filtered_samples = [s for s in dataset.samples if ignore_folder not in s[0].split(\"/\")]\n",
    "    dataset.samples = filtered_samples\n",
    "    dataset.targets = [s[1] for s in filtered_samples]\n",
    "    return dataset\n",
    "\n",
    "# Create and filter datasets\n",
    "print(\"🔄 Loading and filtering datasets for Xception...\")\n",
    "train_ds = datasets.ImageFolder(f\"{data_dir}/train\", transform=transform)\n",
    "val_ds   = datasets.ImageFolder(f\"{data_dir}/val\", transform=transform)\n",
    "test_ds  = datasets.ImageFolder(f\"{data_dir}/test\", transform=transform)\n",
    "\n",
    "# Apply filtering\n",
    "train_ds = filter_samples(train_ds, ignore_folder)\n",
    "val_ds   = filter_samples(val_ds, ignore_folder)\n",
    "test_ds  = filter_samples(test_ds, ignore_folder)\n",
    "\n",
    "# Create DataLoaders\n",
    "train_loader = DataLoader(train_ds, batch_size=32, shuffle=True)\n",
    "val_loader   = DataLoader(val_ds, batch_size=32, shuffle=False)\n",
    "test_loader  = DataLoader(test_ds, batch_size=32, shuffle=False)\n",
    "\n",
    "# Display information\n",
    "classes = train_ds.classes\n",
    "print(f\"✅ Classes: {classes}\")\n",
    "print(f\"📊 Dataset Statistics:\")\n",
    "print(f\"│ Training images: {len(train_ds)}\")\n",
    "print(f\"│ Validation images: {len(val_ds)}\")\n",
    "print(f\"│ Test images: {len(test_ds)}\")\n",
    "print(f\"│ Total images (after filtering): {len(train_ds) + len(val_ds) + len(test_ds)}\")\n",
    "print(f\"│ Excluded folder: '{ignore_folder}'\")\n",
    "print(f\"│ Number of classes: {len(classes)}\")\n",
    "\n",
    "# -----------------------------\n",
    "# 2. Pretrained Xception Model\n",
    "# -----------------------------\n",
    "device = torch.device('cuda' if torch.cuda.is_available() else 'cpu')\n",
    "print(f\"Using device: {device}\")\n",
    "\n",
    "# Load pretrained Xception using timm\n",
    "print(\"🔄 Loading pretrained Xception from ImageNet using timm...\")\n",
    "model = timm.create_model('xception', pretrained=True, num_classes=len(classes))\n",
    "model = model.to(device)\n",
    "\n",
    "print(f\"✅ Model loaded with {len(classes)} output classes\")\n",
    "\n",
    "# Calculate model parameters and size\n",
    "total_params = sum(p.numel() for p in model.parameters())\n",
    "trainable_params = sum(p.numel() for p in model.parameters() if p.requires_grad)\n",
    "\n",
    "# Calculate model file size\n",
    "with tempfile.NamedTemporaryFile(delete=False, suffix='.pth') as tmp_file:\n",
    "    torch.save(model.state_dict(), tmp_file.name)\n",
    "    model_size_mb = os.path.getsize(tmp_file.name) / (1024 * 1024)\n",
    "    os.unlink(tmp_file.name)\n",
    "\n",
    "print(f\"📊 Total parameters: {total_params:,}\")\n",
    "print(f\"📊 Trainable parameters: {trainable_params:,}\")\n",
    "print(f\"📊 Model file size: {model_size_mb:.2f} MB\")\n",
    "print(f\"📋 Model Architecture:\")\n",
    "print(f\"│ Input size: (3, 299, 299)\")\n",
    "print(f\"│ Xception features: 2048\")\n",
    "print(f\"│ Output classes: {len(classes)}\")\n",
    "print(f\"│ Depthwise separable convolutions: Core architecture\")\n",
    "print(f\"│ Normalization: [-1, 1] range (different from ImageNet)\")"
   ]
  },
  {
   "cell_type": "code",
   "execution_count": 8,
   "id": "8ef40e9e",
   "metadata": {
    "execution": {
     "iopub.execute_input": "2025-09-11T13:21:39.670718Z",
     "iopub.status.busy": "2025-09-11T13:21:39.670272Z",
     "iopub.status.idle": "2025-09-11T19:06:17.770312Z",
     "shell.execute_reply": "2025-09-11T19:06:17.769613Z"
    },
    "papermill": {
     "duration": 20678.108989,
     "end_time": "2025-09-11T19:06:17.772906",
     "exception": false,
     "start_time": "2025-09-11T13:21:39.663917",
     "status": "completed"
    },
    "tags": []
   },
   "outputs": [
    {
     "name": "stdout",
     "output_type": "stream",
     "text": [
      "\n",
      "📋 Training Configuration:\n",
      "│ Model: Xception (pretrained via timm)\n",
      "│ Optimizer: Adam (lr=0.0001)\n",
      "│ Loss Function: CrossEntropyLoss\n",
      "│ Batch Size: 32\n",
      "│ Device: cuda\n",
      "│ Data: Filtered (excluding 'random_occlusion')\n",
      "│ Normalization: [-1, 1] range (Xception specific)\n",
      "\n",
      "🚀 Starting Xception Fine-tuning for 50 epochs...\n",
      "================================================================================\n",
      "\n",
      "📈 Epoch 1/50\n",
      "--------------------------------------------------\n",
      "🔄 Training Phase...\n"
     ]
    },
    {
     "name": "stderr",
     "output_type": "stream",
     "text": [
      "Training: 100%|██████████████████████████████| 311/311 [07:08<00:00,  1.38s/it, Loss=0.3141, Acc=0.8930, GPU=0.3GB]\n"
     ]
    },
    {
     "name": "stdout",
     "output_type": "stream",
     "text": [
      "✅ Training completed in 428.61s\n",
      "🔍 Validation Phase...\n"
     ]
    },
    {
     "name": "stderr",
     "output_type": "stream",
     "text": [
      "Validation: 100%|██████████████████████████████| 81/81 [00:58<00:00,  1.39it/s, Loss=0.3314, Acc=0.8898]\n"
     ]
    },
    {
     "name": "stdout",
     "output_type": "stream",
     "text": [
      "✅ Validation completed in 58.45s\n",
      "🌟 New best model found! Validation Loss: 0.3314\n",
      "\n",
      "📊 Epoch 1 Summary:\n",
      "│ Train Loss: 0.3141 | Train Acc: 0.8930\n",
      "│ Val Loss:   0.3314 | Val Acc:   0.8898\n",
      "│ Train Time: 428.61s | Val Time: 58.45s\n",
      "│ Total Epoch Time: 487.07s\n",
      "│ Best Val Loss: 0.3314 (Epoch 1)\n",
      "│ GPU Memory: 0.3GB / 9.0GB\n",
      "================================================================================\n",
      "\n",
      "📈 Epoch 2/50\n",
      "--------------------------------------------------\n",
      "🔄 Training Phase...\n"
     ]
    },
    {
     "name": "stderr",
     "output_type": "stream",
     "text": [
      "Training: 100%|██████████████████████████████| 311/311 [06:07<00:00,  1.18s/it, Loss=0.0213, Acc=0.9954, GPU=0.3GB]\n"
     ]
    },
    {
     "name": "stdout",
     "output_type": "stream",
     "text": [
      "✅ Training completed in 367.05s\n",
      "🔍 Validation Phase...\n"
     ]
    },
    {
     "name": "stderr",
     "output_type": "stream",
     "text": [
      "Validation: 100%|██████████████████████████████| 81/81 [00:41<00:00,  1.95it/s, Loss=0.3504, Acc=0.8940]\n"
     ]
    },
    {
     "name": "stdout",
     "output_type": "stream",
     "text": [
      "✅ Validation completed in 41.47s\n",
      "\n",
      "📊 Epoch 2 Summary:\n",
      "│ Train Loss: 0.0213 | Train Acc: 0.9954\n",
      "│ Val Loss:   0.3504 | Val Acc:   0.8940\n",
      "│ Train Time: 367.05s | Val Time: 41.47s\n",
      "│ Total Epoch Time: 408.52s\n",
      "│ Best Val Loss: 0.3314 (Epoch 1)\n",
      "│ GPU Memory: 0.3GB / 9.0GB\n",
      "================================================================================\n",
      "\n",
      "📈 Epoch 3/50\n",
      "--------------------------------------------------\n",
      "🔄 Training Phase...\n"
     ]
    },
    {
     "name": "stderr",
     "output_type": "stream",
     "text": [
      "Training: 100%|██████████████████████████████| 311/311 [06:05<00:00,  1.18s/it, Loss=0.0066, Acc=0.9991, GPU=0.3GB]\n"
     ]
    },
    {
     "name": "stdout",
     "output_type": "stream",
     "text": [
      "✅ Training completed in 365.59s\n",
      "🔍 Validation Phase...\n"
     ]
    },
    {
     "name": "stderr",
     "output_type": "stream",
     "text": [
      "Validation: 100%|██████████████████████████████| 81/81 [00:42<00:00,  1.92it/s, Loss=0.3628, Acc=0.8956]\n"
     ]
    },
    {
     "name": "stdout",
     "output_type": "stream",
     "text": [
      "✅ Validation completed in 42.29s\n",
      "\n",
      "📊 Epoch 3 Summary:\n",
      "│ Train Loss: 0.0066 | Train Acc: 0.9991\n",
      "│ Val Loss:   0.3628 | Val Acc:   0.8956\n",
      "│ Train Time: 365.59s | Val Time: 42.29s\n",
      "│ Total Epoch Time: 407.88s\n",
      "│ Best Val Loss: 0.3314 (Epoch 1)\n",
      "│ GPU Memory: 0.3GB / 9.0GB\n",
      "================================================================================\n",
      "\n",
      "📈 Epoch 4/50\n",
      "--------------------------------------------------\n",
      "🔄 Training Phase...\n"
     ]
    },
    {
     "name": "stderr",
     "output_type": "stream",
     "text": [
      "Training: 100%|██████████████████████████████| 311/311 [06:10<00:00,  1.19s/it, Loss=0.0119, Acc=0.9976, GPU=0.3GB]\n"
     ]
    },
    {
     "name": "stdout",
     "output_type": "stream",
     "text": [
      "✅ Training completed in 370.34s\n",
      "🔍 Validation Phase...\n"
     ]
    },
    {
     "name": "stderr",
     "output_type": "stream",
     "text": [
      "Validation: 100%|██████████████████████████████| 81/81 [00:43<00:00,  1.88it/s, Loss=0.3908, Acc=0.8894]\n"
     ]
    },
    {
     "name": "stdout",
     "output_type": "stream",
     "text": [
      "✅ Validation completed in 43.11s\n",
      "\n",
      "📊 Epoch 4 Summary:\n",
      "│ Train Loss: 0.0119 | Train Acc: 0.9976\n",
      "│ Val Loss:   0.3908 | Val Acc:   0.8894\n",
      "│ Train Time: 370.34s | Val Time: 43.11s\n",
      "│ Total Epoch Time: 413.46s\n",
      "│ Best Val Loss: 0.3314 (Epoch 1)\n",
      "│ GPU Memory: 0.3GB / 9.0GB\n",
      "================================================================================\n",
      "\n",
      "📈 Epoch 5/50\n",
      "--------------------------------------------------\n",
      "🔄 Training Phase...\n"
     ]
    },
    {
     "name": "stderr",
     "output_type": "stream",
     "text": [
      "Training: 100%|██████████████████████████████| 311/311 [06:09<00:00,  1.19s/it, Loss=0.0101, Acc=0.9978, GPU=0.3GB]\n"
     ]
    },
    {
     "name": "stdout",
     "output_type": "stream",
     "text": [
      "✅ Training completed in 369.78s\n",
      "🔍 Validation Phase...\n"
     ]
    },
    {
     "name": "stderr",
     "output_type": "stream",
     "text": [
      "Validation: 100%|██████████████████████████████| 81/81 [00:41<00:00,  1.93it/s, Loss=0.5181, Acc=0.8595]\n"
     ]
    },
    {
     "name": "stdout",
     "output_type": "stream",
     "text": [
      "✅ Validation completed in 41.87s\n",
      "\n",
      "📊 Epoch 5 Summary:\n",
      "│ Train Loss: 0.0101 | Train Acc: 0.9978\n",
      "│ Val Loss:   0.5181 | Val Acc:   0.8595\n",
      "│ Train Time: 369.78s | Val Time: 41.87s\n",
      "│ Total Epoch Time: 411.66s\n",
      "│ Best Val Loss: 0.3314 (Epoch 1)\n",
      "│ GPU Memory: 0.3GB / 9.0GB\n",
      "================================================================================\n",
      "\n",
      "📈 Epoch 6/50\n",
      "--------------------------------------------------\n",
      "🔄 Training Phase...\n"
     ]
    },
    {
     "name": "stderr",
     "output_type": "stream",
     "text": [
      "Training: 100%|██████████████████████████████| 311/311 [06:09<00:00,  1.19s/it, Loss=0.0108, Acc=0.9971, GPU=0.3GB]\n"
     ]
    },
    {
     "name": "stdout",
     "output_type": "stream",
     "text": [
      "✅ Training completed in 369.33s\n",
      "🔍 Validation Phase...\n"
     ]
    },
    {
     "name": "stderr",
     "output_type": "stream",
     "text": [
      "Validation: 100%|██████████████████████████████| 81/81 [00:41<00:00,  1.93it/s, Loss=0.4201, Acc=0.8944]\n"
     ]
    },
    {
     "name": "stdout",
     "output_type": "stream",
     "text": [
      "✅ Validation completed in 41.95s\n",
      "\n",
      "📊 Epoch 6 Summary:\n",
      "│ Train Loss: 0.0108 | Train Acc: 0.9971\n",
      "│ Val Loss:   0.4201 | Val Acc:   0.8944\n",
      "│ Train Time: 369.33s | Val Time: 41.95s\n",
      "│ Total Epoch Time: 411.28s\n",
      "│ Best Val Loss: 0.3314 (Epoch 1)\n",
      "│ GPU Memory: 0.3GB / 9.0GB\n",
      "================================================================================\n",
      "\n",
      "📈 Epoch 7/50\n",
      "--------------------------------------------------\n",
      "🔄 Training Phase...\n"
     ]
    },
    {
     "name": "stderr",
     "output_type": "stream",
     "text": [
      "Training: 100%|██████████████████████████████| 311/311 [06:06<00:00,  1.18s/it, Loss=0.0045, Acc=0.9987, GPU=0.3GB]\n"
     ]
    },
    {
     "name": "stdout",
     "output_type": "stream",
     "text": [
      "✅ Training completed in 366.92s\n",
      "🔍 Validation Phase...\n"
     ]
    },
    {
     "name": "stderr",
     "output_type": "stream",
     "text": [
      "Validation: 100%|██████████████████████████████| 81/81 [00:41<00:00,  1.94it/s, Loss=0.4444, Acc=0.8913]\n"
     ]
    },
    {
     "name": "stdout",
     "output_type": "stream",
     "text": [
      "✅ Validation completed in 41.77s\n",
      "\n",
      "📊 Epoch 7 Summary:\n",
      "│ Train Loss: 0.0045 | Train Acc: 0.9987\n",
      "│ Val Loss:   0.4444 | Val Acc:   0.8913\n",
      "│ Train Time: 366.92s | Val Time: 41.77s\n",
      "│ Total Epoch Time: 408.69s\n",
      "│ Best Val Loss: 0.3314 (Epoch 1)\n",
      "│ GPU Memory: 0.3GB / 9.0GB\n",
      "================================================================================\n",
      "\n",
      "📈 Epoch 8/50\n",
      "--------------------------------------------------\n",
      "🔄 Training Phase...\n"
     ]
    },
    {
     "name": "stderr",
     "output_type": "stream",
     "text": [
      "Training: 100%|██████████████████████████████| 311/311 [06:11<00:00,  1.20s/it, Loss=0.0017, Acc=0.9999, GPU=0.3GB]\n"
     ]
    },
    {
     "name": "stdout",
     "output_type": "stream",
     "text": [
      "✅ Training completed in 371.82s\n",
      "🔍 Validation Phase...\n"
     ]
    },
    {
     "name": "stderr",
     "output_type": "stream",
     "text": [
      "Validation: 100%|██████████████████████████████| 81/81 [00:43<00:00,  1.87it/s, Loss=0.4049, Acc=0.8998]\n"
     ]
    },
    {
     "name": "stdout",
     "output_type": "stream",
     "text": [
      "✅ Validation completed in 43.42s\n",
      "\n",
      "📊 Epoch 8 Summary:\n",
      "│ Train Loss: 0.0017 | Train Acc: 0.9999\n",
      "│ Val Loss:   0.4049 | Val Acc:   0.8998\n",
      "│ Train Time: 371.82s | Val Time: 43.42s\n",
      "│ Total Epoch Time: 415.24s\n",
      "│ Best Val Loss: 0.3314 (Epoch 1)\n",
      "│ GPU Memory: 0.3GB / 9.0GB\n",
      "================================================================================\n",
      "\n",
      "📈 Epoch 9/50\n",
      "--------------------------------------------------\n",
      "🔄 Training Phase...\n"
     ]
    },
    {
     "name": "stderr",
     "output_type": "stream",
     "text": [
      "Training: 100%|██████████████████████████████| 311/311 [06:09<00:00,  1.19s/it, Loss=0.0051, Acc=0.9989, GPU=0.3GB]\n"
     ]
    },
    {
     "name": "stdout",
     "output_type": "stream",
     "text": [
      "✅ Training completed in 369.87s\n",
      "🔍 Validation Phase...\n"
     ]
    },
    {
     "name": "stderr",
     "output_type": "stream",
     "text": [
      "Validation: 100%|██████████████████████████████| 81/81 [00:41<00:00,  1.93it/s, Loss=0.5924, Acc=0.8781]\n"
     ]
    },
    {
     "name": "stdout",
     "output_type": "stream",
     "text": [
      "✅ Validation completed in 41.97s\n",
      "\n",
      "📊 Epoch 9 Summary:\n",
      "│ Train Loss: 0.0051 | Train Acc: 0.9989\n",
      "│ Val Loss:   0.5924 | Val Acc:   0.8781\n",
      "│ Train Time: 369.87s | Val Time: 41.97s\n",
      "│ Total Epoch Time: 411.84s\n",
      "│ Best Val Loss: 0.3314 (Epoch 1)\n",
      "│ GPU Memory: 0.3GB / 9.0GB\n",
      "================================================================================\n",
      "\n",
      "📈 Epoch 10/50\n",
      "--------------------------------------------------\n",
      "🔄 Training Phase...\n"
     ]
    },
    {
     "name": "stderr",
     "output_type": "stream",
     "text": [
      "Training: 100%|██████████████████████████████| 311/311 [06:07<00:00,  1.18s/it, Loss=0.0066, Acc=0.9980, GPU=0.3GB]\n"
     ]
    },
    {
     "name": "stdout",
     "output_type": "stream",
     "text": [
      "✅ Training completed in 367.72s\n",
      "🔍 Validation Phase...\n"
     ]
    },
    {
     "name": "stderr",
     "output_type": "stream",
     "text": [
      "Validation: 100%|██████████████████████████████| 81/81 [00:43<00:00,  1.88it/s, Loss=0.4804, Acc=0.8707]\n"
     ]
    },
    {
     "name": "stdout",
     "output_type": "stream",
     "text": [
      "✅ Validation completed in 43.08s\n",
      "\n",
      "📊 Epoch 10 Summary:\n",
      "│ Train Loss: 0.0066 | Train Acc: 0.9980\n",
      "│ Val Loss:   0.4804 | Val Acc:   0.8707\n",
      "│ Train Time: 367.72s | Val Time: 43.08s\n",
      "│ Total Epoch Time: 410.81s\n",
      "│ Best Val Loss: 0.3314 (Epoch 1)\n",
      "│ GPU Memory: 0.3GB / 9.0GB\n",
      "================================================================================\n",
      "\n",
      "📈 Epoch 11/50\n",
      "--------------------------------------------------\n",
      "🔄 Training Phase...\n"
     ]
    },
    {
     "name": "stderr",
     "output_type": "stream",
     "text": [
      "Training: 100%|██████████████████████████████| 311/311 [06:06<00:00,  1.18s/it, Loss=0.0065, Acc=0.9983, GPU=0.3GB]\n"
     ]
    },
    {
     "name": "stdout",
     "output_type": "stream",
     "text": [
      "✅ Training completed in 366.63s\n",
      "🔍 Validation Phase...\n"
     ]
    },
    {
     "name": "stderr",
     "output_type": "stream",
     "text": [
      "Validation: 100%|██████████████████████████████| 81/81 [00:41<00:00,  1.93it/s, Loss=0.3690, Acc=0.9064]\n"
     ]
    },
    {
     "name": "stdout",
     "output_type": "stream",
     "text": [
      "✅ Validation completed in 41.92s\n",
      "\n",
      "📊 Epoch 11 Summary:\n",
      "│ Train Loss: 0.0065 | Train Acc: 0.9983\n",
      "│ Val Loss:   0.3690 | Val Acc:   0.9064\n",
      "│ Train Time: 366.63s | Val Time: 41.92s\n",
      "│ Total Epoch Time: 408.56s\n",
      "│ Best Val Loss: 0.3314 (Epoch 1)\n",
      "│ GPU Memory: 0.3GB / 9.0GB\n",
      "================================================================================\n",
      "\n",
      "📈 Epoch 12/50\n",
      "--------------------------------------------------\n",
      "🔄 Training Phase...\n"
     ]
    },
    {
     "name": "stderr",
     "output_type": "stream",
     "text": [
      "Training: 100%|██████████████████████████████| 311/311 [06:08<00:00,  1.18s/it, Loss=0.0061, Acc=0.9979, GPU=0.3GB]\n"
     ]
    },
    {
     "name": "stdout",
     "output_type": "stream",
     "text": [
      "✅ Training completed in 368.48s\n",
      "🔍 Validation Phase...\n"
     ]
    },
    {
     "name": "stderr",
     "output_type": "stream",
     "text": [
      "Validation: 100%|██████████████████████████████| 81/81 [00:43<00:00,  1.88it/s, Loss=0.4390, Acc=0.8936]\n"
     ]
    },
    {
     "name": "stdout",
     "output_type": "stream",
     "text": [
      "✅ Validation completed in 43.13s\n",
      "\n",
      "📊 Epoch 12 Summary:\n",
      "│ Train Loss: 0.0061 | Train Acc: 0.9979\n",
      "│ Val Loss:   0.4390 | Val Acc:   0.8936\n",
      "│ Train Time: 368.48s | Val Time: 43.13s\n",
      "│ Total Epoch Time: 411.61s\n",
      "│ Best Val Loss: 0.3314 (Epoch 1)\n",
      "│ GPU Memory: 0.3GB / 9.0GB\n",
      "================================================================================\n",
      "\n",
      "📈 Epoch 13/50\n",
      "--------------------------------------------------\n",
      "🔄 Training Phase...\n"
     ]
    },
    {
     "name": "stderr",
     "output_type": "stream",
     "text": [
      "Training: 100%|██████████████████████████████| 311/311 [06:10<00:00,  1.19s/it, Loss=0.0130, Acc=0.9972, GPU=0.3GB]\n"
     ]
    },
    {
     "name": "stdout",
     "output_type": "stream",
     "text": [
      "✅ Training completed in 370.61s\n",
      "🔍 Validation Phase...\n"
     ]
    },
    {
     "name": "stderr",
     "output_type": "stream",
     "text": [
      "Validation: 100%|██████████████████████████████| 81/81 [00:42<00:00,  1.91it/s, Loss=0.5426, Acc=0.8894]\n"
     ]
    },
    {
     "name": "stdout",
     "output_type": "stream",
     "text": [
      "✅ Validation completed in 42.32s\n",
      "\n",
      "📊 Epoch 13 Summary:\n",
      "│ Train Loss: 0.0130 | Train Acc: 0.9972\n",
      "│ Val Loss:   0.5426 | Val Acc:   0.8894\n",
      "│ Train Time: 370.61s | Val Time: 42.32s\n",
      "│ Total Epoch Time: 412.93s\n",
      "│ Best Val Loss: 0.3314 (Epoch 1)\n",
      "│ GPU Memory: 0.3GB / 9.0GB\n",
      "================================================================================\n",
      "\n",
      "📈 Epoch 14/50\n",
      "--------------------------------------------------\n",
      "🔄 Training Phase...\n"
     ]
    },
    {
     "name": "stderr",
     "output_type": "stream",
     "text": [
      "Training: 100%|██████████████████████████████| 311/311 [06:07<00:00,  1.18s/it, Loss=0.0109, Acc=0.9964, GPU=0.3GB]\n"
     ]
    },
    {
     "name": "stdout",
     "output_type": "stream",
     "text": [
      "✅ Training completed in 367.90s\n",
      "🔍 Validation Phase...\n"
     ]
    },
    {
     "name": "stderr",
     "output_type": "stream",
     "text": [
      "Validation: 100%|██████████████████████████████| 81/81 [00:41<00:00,  1.94it/s, Loss=0.4690, Acc=0.8851]\n"
     ]
    },
    {
     "name": "stdout",
     "output_type": "stream",
     "text": [
      "✅ Validation completed in 41.75s\n",
      "\n",
      "📊 Epoch 14 Summary:\n",
      "│ Train Loss: 0.0109 | Train Acc: 0.9964\n",
      "│ Val Loss:   0.4690 | Val Acc:   0.8851\n",
      "│ Train Time: 367.90s | Val Time: 41.75s\n",
      "│ Total Epoch Time: 409.65s\n",
      "│ Best Val Loss: 0.3314 (Epoch 1)\n",
      "│ GPU Memory: 0.3GB / 9.0GB\n",
      "================================================================================\n",
      "\n",
      "📈 Epoch 15/50\n",
      "--------------------------------------------------\n",
      "🔄 Training Phase...\n"
     ]
    },
    {
     "name": "stderr",
     "output_type": "stream",
     "text": [
      "Training: 100%|██████████████████████████████| 311/311 [06:10<00:00,  1.19s/it, Loss=0.0023, Acc=0.9993, GPU=0.3GB]\n"
     ]
    },
    {
     "name": "stdout",
     "output_type": "stream",
     "text": [
      "✅ Training completed in 370.73s\n",
      "🔍 Validation Phase...\n"
     ]
    },
    {
     "name": "stderr",
     "output_type": "stream",
     "text": [
      "Validation: 100%|██████████████████████████████| 81/81 [00:43<00:00,  1.84it/s, Loss=0.3842, Acc=0.8886]\n"
     ]
    },
    {
     "name": "stdout",
     "output_type": "stream",
     "text": [
      "✅ Validation completed in 43.99s\n",
      "\n",
      "📊 Epoch 15 Summary:\n",
      "│ Train Loss: 0.0023 | Train Acc: 0.9993\n",
      "│ Val Loss:   0.3842 | Val Acc:   0.8886\n",
      "│ Train Time: 370.73s | Val Time: 43.99s\n",
      "│ Total Epoch Time: 414.73s\n",
      "│ Best Val Loss: 0.3314 (Epoch 1)\n",
      "│ GPU Memory: 0.3GB / 9.0GB\n",
      "================================================================================\n",
      "\n",
      "📈 Epoch 16/50\n",
      "--------------------------------------------------\n",
      "🔄 Training Phase...\n"
     ]
    },
    {
     "name": "stderr",
     "output_type": "stream",
     "text": [
      "Training: 100%|██████████████████████████████| 311/311 [06:06<00:00,  1.18s/it, Loss=0.0030, Acc=0.9991, GPU=0.3GB]\n"
     ]
    },
    {
     "name": "stdout",
     "output_type": "stream",
     "text": [
      "✅ Training completed in 366.01s\n",
      "🔍 Validation Phase...\n"
     ]
    },
    {
     "name": "stderr",
     "output_type": "stream",
     "text": [
      "Validation: 100%|██████████████████████████████| 81/81 [00:41<00:00,  1.95it/s, Loss=0.4200, Acc=0.8952]\n"
     ]
    },
    {
     "name": "stdout",
     "output_type": "stream",
     "text": [
      "✅ Validation completed in 41.58s\n",
      "\n",
      "📊 Epoch 16 Summary:\n",
      "│ Train Loss: 0.0030 | Train Acc: 0.9991\n",
      "│ Val Loss:   0.4200 | Val Acc:   0.8952\n",
      "│ Train Time: 366.01s | Val Time: 41.58s\n",
      "│ Total Epoch Time: 407.59s\n",
      "│ Best Val Loss: 0.3314 (Epoch 1)\n",
      "│ GPU Memory: 0.3GB / 9.0GB\n",
      "================================================================================\n",
      "\n",
      "📈 Epoch 17/50\n",
      "--------------------------------------------------\n",
      "🔄 Training Phase...\n"
     ]
    },
    {
     "name": "stderr",
     "output_type": "stream",
     "text": [
      "Training: 100%|██████████████████████████████| 311/311 [06:07<00:00,  1.18s/it, Loss=0.0010, Acc=0.9997, GPU=0.3GB]\n"
     ]
    },
    {
     "name": "stdout",
     "output_type": "stream",
     "text": [
      "✅ Training completed in 367.74s\n",
      "🔍 Validation Phase...\n"
     ]
    },
    {
     "name": "stderr",
     "output_type": "stream",
     "text": [
      "Validation: 100%|██████████████████████████████| 81/81 [00:41<00:00,  1.95it/s, Loss=0.4588, Acc=0.8917]\n"
     ]
    },
    {
     "name": "stdout",
     "output_type": "stream",
     "text": [
      "✅ Validation completed in 41.63s\n",
      "\n",
      "📊 Epoch 17 Summary:\n",
      "│ Train Loss: 0.0010 | Train Acc: 0.9997\n",
      "│ Val Loss:   0.4588 | Val Acc:   0.8917\n",
      "│ Train Time: 367.74s | Val Time: 41.63s\n",
      "│ Total Epoch Time: 409.37s\n",
      "│ Best Val Loss: 0.3314 (Epoch 1)\n",
      "│ GPU Memory: 0.3GB / 9.0GB\n",
      "================================================================================\n",
      "\n",
      "📈 Epoch 18/50\n",
      "--------------------------------------------------\n",
      "🔄 Training Phase...\n"
     ]
    },
    {
     "name": "stderr",
     "output_type": "stream",
     "text": [
      "Training: 100%|██████████████████████████████| 311/311 [06:13<00:00,  1.20s/it, Loss=0.0016, Acc=0.9998, GPU=0.3GB]\n"
     ]
    },
    {
     "name": "stdout",
     "output_type": "stream",
     "text": [
      "✅ Training completed in 373.07s\n",
      "🔍 Validation Phase...\n"
     ]
    },
    {
     "name": "stderr",
     "output_type": "stream",
     "text": [
      "Validation: 100%|██████████████████████████████| 81/81 [00:42<00:00,  1.91it/s, Loss=0.4869, Acc=0.8940]\n"
     ]
    },
    {
     "name": "stdout",
     "output_type": "stream",
     "text": [
      "✅ Validation completed in 42.38s\n",
      "\n",
      "📊 Epoch 18 Summary:\n",
      "│ Train Loss: 0.0016 | Train Acc: 0.9998\n",
      "│ Val Loss:   0.4869 | Val Acc:   0.8940\n",
      "│ Train Time: 373.07s | Val Time: 42.38s\n",
      "│ Total Epoch Time: 415.45s\n",
      "│ Best Val Loss: 0.3314 (Epoch 1)\n",
      "│ GPU Memory: 0.3GB / 9.0GB\n",
      "================================================================================\n",
      "\n",
      "📈 Epoch 19/50\n",
      "--------------------------------------------------\n",
      "🔄 Training Phase...\n"
     ]
    },
    {
     "name": "stderr",
     "output_type": "stream",
     "text": [
      "Training: 100%|██████████████████████████████| 311/311 [06:12<00:00,  1.20s/it, Loss=0.0009, Acc=0.9997, GPU=0.3GB]\n"
     ]
    },
    {
     "name": "stdout",
     "output_type": "stream",
     "text": [
      "✅ Training completed in 372.15s\n",
      "🔍 Validation Phase...\n"
     ]
    },
    {
     "name": "stderr",
     "output_type": "stream",
     "text": [
      "Validation: 100%|██████████████████████████████| 81/81 [00:44<00:00,  1.84it/s, Loss=0.4255, Acc=0.9045]\n"
     ]
    },
    {
     "name": "stdout",
     "output_type": "stream",
     "text": [
      "✅ Validation completed in 44.04s\n",
      "\n",
      "📊 Epoch 19 Summary:\n",
      "│ Train Loss: 0.0009 | Train Acc: 0.9997\n",
      "│ Val Loss:   0.4255 | Val Acc:   0.9045\n",
      "│ Train Time: 372.15s | Val Time: 44.04s\n",
      "│ Total Epoch Time: 416.19s\n",
      "│ Best Val Loss: 0.3314 (Epoch 1)\n",
      "│ GPU Memory: 0.3GB / 9.0GB\n",
      "================================================================================\n",
      "\n",
      "📈 Epoch 20/50\n",
      "--------------------------------------------------\n",
      "🔄 Training Phase...\n"
     ]
    },
    {
     "name": "stderr",
     "output_type": "stream",
     "text": [
      "Training: 100%|██████████████████████████████| 311/311 [06:09<00:00,  1.19s/it, Loss=0.0001, Acc=1.0000, GPU=0.3GB]\n"
     ]
    },
    {
     "name": "stdout",
     "output_type": "stream",
     "text": [
      "✅ Training completed in 369.37s\n",
      "🔍 Validation Phase...\n"
     ]
    },
    {
     "name": "stderr",
     "output_type": "stream",
     "text": [
      "Validation: 100%|██████████████████████████████| 81/81 [00:41<00:00,  1.93it/s, Loss=0.4370, Acc=0.9080]\n"
     ]
    },
    {
     "name": "stdout",
     "output_type": "stream",
     "text": [
      "✅ Validation completed in 41.89s\n",
      "\n",
      "📊 Epoch 20 Summary:\n",
      "│ Train Loss: 0.0001 | Train Acc: 1.0000\n",
      "│ Val Loss:   0.4370 | Val Acc:   0.9080\n",
      "│ Train Time: 369.37s | Val Time: 41.89s\n",
      "│ Total Epoch Time: 411.27s\n",
      "│ Best Val Loss: 0.3314 (Epoch 1)\n",
      "│ GPU Memory: 0.3GB / 9.0GB\n",
      "================================================================================\n",
      "\n",
      "📈 Epoch 21/50\n",
      "--------------------------------------------------\n",
      "🔄 Training Phase...\n"
     ]
    },
    {
     "name": "stderr",
     "output_type": "stream",
     "text": [
      "Training: 100%|██████████████████████████████| 311/311 [06:08<00:00,  1.18s/it, Loss=0.0001, Acc=1.0000, GPU=0.3GB]\n"
     ]
    },
    {
     "name": "stdout",
     "output_type": "stream",
     "text": [
      "✅ Training completed in 368.10s\n",
      "🔍 Validation Phase...\n"
     ]
    },
    {
     "name": "stderr",
     "output_type": "stream",
     "text": [
      "Validation: 100%|██████████████████████████████| 81/81 [00:43<00:00,  1.86it/s, Loss=0.4214, Acc=0.9099]\n"
     ]
    },
    {
     "name": "stdout",
     "output_type": "stream",
     "text": [
      "✅ Validation completed in 43.61s\n",
      "\n",
      "📊 Epoch 21 Summary:\n",
      "│ Train Loss: 0.0001 | Train Acc: 1.0000\n",
      "│ Val Loss:   0.4214 | Val Acc:   0.9099\n",
      "│ Train Time: 368.10s | Val Time: 43.61s\n",
      "│ Total Epoch Time: 411.72s\n",
      "│ Best Val Loss: 0.3314 (Epoch 1)\n",
      "│ GPU Memory: 0.3GB / 9.0GB\n",
      "================================================================================\n",
      "\n",
      "📈 Epoch 22/50\n",
      "--------------------------------------------------\n",
      "🔄 Training Phase...\n"
     ]
    },
    {
     "name": "stderr",
     "output_type": "stream",
     "text": [
      "Training: 100%|██████████████████████████████| 311/311 [06:13<00:00,  1.20s/it, Loss=0.0001, Acc=1.0000, GPU=0.3GB]\n"
     ]
    },
    {
     "name": "stdout",
     "output_type": "stream",
     "text": [
      "✅ Training completed in 373.40s\n",
      "🔍 Validation Phase...\n"
     ]
    },
    {
     "name": "stderr",
     "output_type": "stream",
     "text": [
      "Validation: 100%|██████████████████████████████| 81/81 [00:46<00:00,  1.75it/s, Loss=0.5050, Acc=0.8991]\n"
     ]
    },
    {
     "name": "stdout",
     "output_type": "stream",
     "text": [
      "✅ Validation completed in 46.29s\n",
      "\n",
      "📊 Epoch 22 Summary:\n",
      "│ Train Loss: 0.0001 | Train Acc: 1.0000\n",
      "│ Val Loss:   0.5050 | Val Acc:   0.8991\n",
      "│ Train Time: 373.40s | Val Time: 46.29s\n",
      "│ Total Epoch Time: 419.70s\n",
      "│ Best Val Loss: 0.3314 (Epoch 1)\n",
      "│ GPU Memory: 0.3GB / 9.0GB\n",
      "================================================================================\n",
      "\n",
      "📈 Epoch 23/50\n",
      "--------------------------------------------------\n",
      "🔄 Training Phase...\n"
     ]
    },
    {
     "name": "stderr",
     "output_type": "stream",
     "text": [
      "Training: 100%|██████████████████████████████| 311/311 [06:08<00:00,  1.18s/it, Loss=0.0001, Acc=1.0000, GPU=0.3GB]\n"
     ]
    },
    {
     "name": "stdout",
     "output_type": "stream",
     "text": [
      "✅ Training completed in 368.27s\n",
      "🔍 Validation Phase...\n"
     ]
    },
    {
     "name": "stderr",
     "output_type": "stream",
     "text": [
      "Validation: 100%|██████████████████████████████| 81/81 [00:44<00:00,  1.84it/s, Loss=0.4759, Acc=0.9068]\n"
     ]
    },
    {
     "name": "stdout",
     "output_type": "stream",
     "text": [
      "✅ Validation completed in 44.04s\n",
      "\n",
      "📊 Epoch 23 Summary:\n",
      "│ Train Loss: 0.0001 | Train Acc: 1.0000\n",
      "│ Val Loss:   0.4759 | Val Acc:   0.9068\n",
      "│ Train Time: 368.27s | Val Time: 44.04s\n",
      "│ Total Epoch Time: 412.32s\n",
      "│ Best Val Loss: 0.3314 (Epoch 1)\n",
      "│ GPU Memory: 0.3GB / 9.0GB\n",
      "================================================================================\n",
      "\n",
      "📈 Epoch 24/50\n",
      "--------------------------------------------------\n",
      "🔄 Training Phase...\n"
     ]
    },
    {
     "name": "stderr",
     "output_type": "stream",
     "text": [
      "Training: 100%|██████████████████████████████| 311/311 [06:08<00:00,  1.18s/it, Loss=0.0001, Acc=1.0000, GPU=0.3GB]\n"
     ]
    },
    {
     "name": "stdout",
     "output_type": "stream",
     "text": [
      "✅ Training completed in 368.20s\n",
      "🔍 Validation Phase...\n"
     ]
    },
    {
     "name": "stderr",
     "output_type": "stream",
     "text": [
      "Validation: 100%|██████████████████████████████| 81/81 [00:41<00:00,  1.94it/s, Loss=0.4449, Acc=0.9119]\n"
     ]
    },
    {
     "name": "stdout",
     "output_type": "stream",
     "text": [
      "✅ Validation completed in 41.81s\n",
      "\n",
      "📊 Epoch 24 Summary:\n",
      "│ Train Loss: 0.0001 | Train Acc: 1.0000\n",
      "│ Val Loss:   0.4449 | Val Acc:   0.9119\n",
      "│ Train Time: 368.20s | Val Time: 41.81s\n",
      "│ Total Epoch Time: 410.01s\n",
      "│ Best Val Loss: 0.3314 (Epoch 1)\n",
      "│ GPU Memory: 0.3GB / 9.0GB\n",
      "================================================================================\n",
      "\n",
      "📈 Epoch 25/50\n",
      "--------------------------------------------------\n",
      "🔄 Training Phase...\n"
     ]
    },
    {
     "name": "stderr",
     "output_type": "stream",
     "text": [
      "Training: 100%|██████████████████████████████| 311/311 [06:06<00:00,  1.18s/it, Loss=0.0000, Acc=1.0000, GPU=0.3GB]\n"
     ]
    },
    {
     "name": "stdout",
     "output_type": "stream",
     "text": [
      "✅ Training completed in 366.62s\n",
      "🔍 Validation Phase...\n"
     ]
    },
    {
     "name": "stderr",
     "output_type": "stream",
     "text": [
      "Validation: 100%|██████████████████████████████| 81/81 [00:41<00:00,  1.94it/s, Loss=0.4751, Acc=0.9045]\n"
     ]
    },
    {
     "name": "stdout",
     "output_type": "stream",
     "text": [
      "✅ Validation completed in 41.78s\n",
      "\n",
      "📊 Epoch 25 Summary:\n",
      "│ Train Loss: 0.0000 | Train Acc: 1.0000\n",
      "│ Val Loss:   0.4751 | Val Acc:   0.9045\n",
      "│ Train Time: 366.62s | Val Time: 41.78s\n",
      "│ Total Epoch Time: 408.40s\n",
      "│ Best Val Loss: 0.3314 (Epoch 1)\n",
      "│ GPU Memory: 0.3GB / 9.0GB\n",
      "================================================================================\n",
      "\n",
      "📈 Epoch 26/50\n",
      "--------------------------------------------------\n",
      "🔄 Training Phase...\n"
     ]
    },
    {
     "name": "stderr",
     "output_type": "stream",
     "text": [
      "Training: 100%|██████████████████████████████| 311/311 [06:05<00:00,  1.18s/it, Loss=0.0001, Acc=1.0000, GPU=0.3GB]\n"
     ]
    },
    {
     "name": "stdout",
     "output_type": "stream",
     "text": [
      "✅ Training completed in 365.98s\n",
      "🔍 Validation Phase...\n"
     ]
    },
    {
     "name": "stderr",
     "output_type": "stream",
     "text": [
      "Validation: 100%|██████████████████████████████| 81/81 [00:41<00:00,  1.95it/s, Loss=0.4805, Acc=0.9061]\n"
     ]
    },
    {
     "name": "stdout",
     "output_type": "stream",
     "text": [
      "✅ Validation completed in 41.64s\n",
      "\n",
      "📊 Epoch 26 Summary:\n",
      "│ Train Loss: 0.0001 | Train Acc: 1.0000\n",
      "│ Val Loss:   0.4805 | Val Acc:   0.9061\n",
      "│ Train Time: 365.98s | Val Time: 41.64s\n",
      "│ Total Epoch Time: 407.63s\n",
      "│ Best Val Loss: 0.3314 (Epoch 1)\n",
      "│ GPU Memory: 0.3GB / 9.0GB\n",
      "================================================================================\n",
      "\n",
      "📈 Epoch 27/50\n",
      "--------------------------------------------------\n",
      "🔄 Training Phase...\n"
     ]
    },
    {
     "name": "stderr",
     "output_type": "stream",
     "text": [
      "Training: 100%|██████████████████████████████| 311/311 [06:12<00:00,  1.20s/it, Loss=0.0239, Acc=0.9925, GPU=0.3GB]\n"
     ]
    },
    {
     "name": "stdout",
     "output_type": "stream",
     "text": [
      "✅ Training completed in 372.70s\n",
      "🔍 Validation Phase...\n"
     ]
    },
    {
     "name": "stderr",
     "output_type": "stream",
     "text": [
      "Validation: 100%|██████████████████████████████| 81/81 [00:41<00:00,  1.95it/s, Loss=0.4814, Acc=0.8940]\n"
     ]
    },
    {
     "name": "stdout",
     "output_type": "stream",
     "text": [
      "✅ Validation completed in 41.57s\n",
      "\n",
      "📊 Epoch 27 Summary:\n",
      "│ Train Loss: 0.0239 | Train Acc: 0.9925\n",
      "│ Val Loss:   0.4814 | Val Acc:   0.8940\n",
      "│ Train Time: 372.70s | Val Time: 41.57s\n",
      "│ Total Epoch Time: 414.28s\n",
      "│ Best Val Loss: 0.3314 (Epoch 1)\n",
      "│ GPU Memory: 0.3GB / 9.0GB\n",
      "================================================================================\n",
      "\n",
      "📈 Epoch 28/50\n",
      "--------------------------------------------------\n",
      "🔄 Training Phase...\n"
     ]
    },
    {
     "name": "stderr",
     "output_type": "stream",
     "text": [
      "Training: 100%|██████████████████████████████| 311/311 [06:06<00:00,  1.18s/it, Loss=0.0087, Acc=0.9982, GPU=0.3GB]\n"
     ]
    },
    {
     "name": "stdout",
     "output_type": "stream",
     "text": [
      "✅ Training completed in 366.00s\n",
      "🔍 Validation Phase...\n"
     ]
    },
    {
     "name": "stderr",
     "output_type": "stream",
     "text": [
      "Validation: 100%|██████████████████████████████| 81/81 [00:42<00:00,  1.90it/s, Loss=0.4264, Acc=0.9014]\n"
     ]
    },
    {
     "name": "stdout",
     "output_type": "stream",
     "text": [
      "✅ Validation completed in 42.74s\n",
      "\n",
      "📊 Epoch 28 Summary:\n",
      "│ Train Loss: 0.0087 | Train Acc: 0.9982\n",
      "│ Val Loss:   0.4264 | Val Acc:   0.9014\n",
      "│ Train Time: 366.00s | Val Time: 42.74s\n",
      "│ Total Epoch Time: 408.75s\n",
      "│ Best Val Loss: 0.3314 (Epoch 1)\n",
      "│ GPU Memory: 0.3GB / 9.0GB\n",
      "================================================================================\n",
      "\n",
      "📈 Epoch 29/50\n",
      "--------------------------------------------------\n",
      "🔄 Training Phase...\n"
     ]
    },
    {
     "name": "stderr",
     "output_type": "stream",
     "text": [
      "Training: 100%|██████████████████████████████| 311/311 [06:05<00:00,  1.18s/it, Loss=0.0016, Acc=0.9995, GPU=0.3GB]\n"
     ]
    },
    {
     "name": "stdout",
     "output_type": "stream",
     "text": [
      "✅ Training completed in 365.45s\n",
      "🔍 Validation Phase...\n"
     ]
    },
    {
     "name": "stderr",
     "output_type": "stream",
     "text": [
      "Validation: 100%|██████████████████████████████| 81/81 [00:41<00:00,  1.94it/s, Loss=0.4113, Acc=0.9068]\n"
     ]
    },
    {
     "name": "stdout",
     "output_type": "stream",
     "text": [
      "✅ Validation completed in 41.76s\n",
      "\n",
      "📊 Epoch 29 Summary:\n",
      "│ Train Loss: 0.0016 | Train Acc: 0.9995\n",
      "│ Val Loss:   0.4113 | Val Acc:   0.9068\n",
      "│ Train Time: 365.45s | Val Time: 41.76s\n",
      "│ Total Epoch Time: 407.21s\n",
      "│ Best Val Loss: 0.3314 (Epoch 1)\n",
      "│ GPU Memory: 0.3GB / 9.0GB\n",
      "================================================================================\n",
      "\n",
      "📈 Epoch 30/50\n",
      "--------------------------------------------------\n",
      "🔄 Training Phase...\n"
     ]
    },
    {
     "name": "stderr",
     "output_type": "stream",
     "text": [
      "Training: 100%|██████████████████████████████| 311/311 [06:10<00:00,  1.19s/it, Loss=0.0002, Acc=1.0000, GPU=0.3GB]\n"
     ]
    },
    {
     "name": "stdout",
     "output_type": "stream",
     "text": [
      "✅ Training completed in 370.90s\n",
      "🔍 Validation Phase...\n"
     ]
    },
    {
     "name": "stderr",
     "output_type": "stream",
     "text": [
      "Validation: 100%|██████████████████████████████| 81/81 [00:45<00:00,  1.78it/s, Loss=0.4580, Acc=0.9018]\n"
     ]
    },
    {
     "name": "stdout",
     "output_type": "stream",
     "text": [
      "✅ Validation completed in 45.46s\n",
      "\n",
      "📊 Epoch 30 Summary:\n",
      "│ Train Loss: 0.0002 | Train Acc: 1.0000\n",
      "│ Val Loss:   0.4580 | Val Acc:   0.9018\n",
      "│ Train Time: 370.90s | Val Time: 45.46s\n",
      "│ Total Epoch Time: 416.37s\n",
      "│ Best Val Loss: 0.3314 (Epoch 1)\n",
      "│ GPU Memory: 0.3GB / 9.0GB\n",
      "================================================================================\n",
      "\n",
      "📈 Epoch 31/50\n",
      "--------------------------------------------------\n",
      "🔄 Training Phase...\n"
     ]
    },
    {
     "name": "stderr",
     "output_type": "stream",
     "text": [
      "Training: 100%|██████████████████████████████| 311/311 [06:22<00:00,  1.23s/it, Loss=0.0002, Acc=1.0000, GPU=0.3GB]\n"
     ]
    },
    {
     "name": "stdout",
     "output_type": "stream",
     "text": [
      "✅ Training completed in 382.48s\n",
      "🔍 Validation Phase...\n"
     ]
    },
    {
     "name": "stderr",
     "output_type": "stream",
     "text": [
      "Validation: 100%|██████████████████████████████| 81/81 [00:42<00:00,  1.90it/s, Loss=0.4972, Acc=0.8975]\n"
     ]
    },
    {
     "name": "stdout",
     "output_type": "stream",
     "text": [
      "✅ Validation completed in 42.56s\n",
      "\n",
      "📊 Epoch 31 Summary:\n",
      "│ Train Loss: 0.0002 | Train Acc: 1.0000\n",
      "│ Val Loss:   0.4972 | Val Acc:   0.8975\n",
      "│ Train Time: 382.48s | Val Time: 42.56s\n",
      "│ Total Epoch Time: 425.04s\n",
      "│ Best Val Loss: 0.3314 (Epoch 1)\n",
      "│ GPU Memory: 0.3GB / 9.0GB\n",
      "================================================================================\n",
      "\n",
      "📈 Epoch 32/50\n",
      "--------------------------------------------------\n",
      "🔄 Training Phase...\n"
     ]
    },
    {
     "name": "stderr",
     "output_type": "stream",
     "text": [
      "Training: 100%|██████████████████████████████| 311/311 [06:06<00:00,  1.18s/it, Loss=0.0007, Acc=0.9997, GPU=0.3GB]\n"
     ]
    },
    {
     "name": "stdout",
     "output_type": "stream",
     "text": [
      "✅ Training completed in 366.32s\n",
      "🔍 Validation Phase...\n"
     ]
    },
    {
     "name": "stderr",
     "output_type": "stream",
     "text": [
      "Validation: 100%|██████████████████████████████| 81/81 [00:41<00:00,  1.94it/s, Loss=0.4770, Acc=0.9010]\n"
     ]
    },
    {
     "name": "stdout",
     "output_type": "stream",
     "text": [
      "✅ Validation completed in 41.74s\n",
      "\n",
      "📊 Epoch 32 Summary:\n",
      "│ Train Loss: 0.0007 | Train Acc: 0.9997\n",
      "│ Val Loss:   0.4770 | Val Acc:   0.9010\n",
      "│ Train Time: 366.32s | Val Time: 41.74s\n",
      "│ Total Epoch Time: 408.06s\n",
      "│ Best Val Loss: 0.3314 (Epoch 1)\n",
      "│ GPU Memory: 0.3GB / 9.0GB\n",
      "================================================================================\n",
      "\n",
      "📈 Epoch 33/50\n",
      "--------------------------------------------------\n",
      "🔄 Training Phase...\n"
     ]
    },
    {
     "name": "stderr",
     "output_type": "stream",
     "text": [
      "Training: 100%|██████████████████████████████| 311/311 [06:06<00:00,  1.18s/it, Loss=0.0110, Acc=0.9978, GPU=0.3GB]\n"
     ]
    },
    {
     "name": "stdout",
     "output_type": "stream",
     "text": [
      "✅ Training completed in 366.81s\n",
      "🔍 Validation Phase...\n"
     ]
    },
    {
     "name": "stderr",
     "output_type": "stream",
     "text": [
      "Validation: 100%|██████████████████████████████| 81/81 [00:41<00:00,  1.94it/s, Loss=0.5159, Acc=0.8839]\n"
     ]
    },
    {
     "name": "stdout",
     "output_type": "stream",
     "text": [
      "✅ Validation completed in 41.86s\n",
      "\n",
      "📊 Epoch 33 Summary:\n",
      "│ Train Loss: 0.0110 | Train Acc: 0.9978\n",
      "│ Val Loss:   0.5159 | Val Acc:   0.8839\n",
      "│ Train Time: 366.81s | Val Time: 41.86s\n",
      "│ Total Epoch Time: 408.67s\n",
      "│ Best Val Loss: 0.3314 (Epoch 1)\n",
      "│ GPU Memory: 0.3GB / 9.0GB\n",
      "================================================================================\n",
      "\n",
      "📈 Epoch 34/50\n",
      "--------------------------------------------------\n",
      "🔄 Training Phase...\n"
     ]
    },
    {
     "name": "stderr",
     "output_type": "stream",
     "text": [
      "Training: 100%|██████████████████████████████| 311/311 [06:07<00:00,  1.18s/it, Loss=0.0079, Acc=0.9979, GPU=0.3GB]\n"
     ]
    },
    {
     "name": "stdout",
     "output_type": "stream",
     "text": [
      "✅ Training completed in 367.07s\n",
      "🔍 Validation Phase...\n"
     ]
    },
    {
     "name": "stderr",
     "output_type": "stream",
     "text": [
      "Validation: 100%|██████████████████████████████| 81/81 [00:41<00:00,  1.94it/s, Loss=0.5409, Acc=0.8979]\n"
     ]
    },
    {
     "name": "stdout",
     "output_type": "stream",
     "text": [
      "✅ Validation completed in 41.76s\n",
      "\n",
      "📊 Epoch 34 Summary:\n",
      "│ Train Loss: 0.0079 | Train Acc: 0.9979\n",
      "│ Val Loss:   0.5409 | Val Acc:   0.8979\n",
      "│ Train Time: 367.07s | Val Time: 41.76s\n",
      "│ Total Epoch Time: 408.84s\n",
      "│ Best Val Loss: 0.3314 (Epoch 1)\n",
      "│ GPU Memory: 0.3GB / 9.0GB\n",
      "================================================================================\n",
      "\n",
      "📈 Epoch 35/50\n",
      "--------------------------------------------------\n",
      "🔄 Training Phase...\n"
     ]
    },
    {
     "name": "stderr",
     "output_type": "stream",
     "text": [
      "Training: 100%|██████████████████████████████| 311/311 [06:06<00:00,  1.18s/it, Loss=0.0012, Acc=0.9999, GPU=0.3GB]\n"
     ]
    },
    {
     "name": "stdout",
     "output_type": "stream",
     "text": [
      "✅ Training completed in 366.97s\n",
      "🔍 Validation Phase...\n"
     ]
    },
    {
     "name": "stderr",
     "output_type": "stream",
     "text": [
      "Validation: 100%|██████████████████████████████| 81/81 [00:41<00:00,  1.93it/s, Loss=0.5949, Acc=0.8964]\n"
     ]
    },
    {
     "name": "stdout",
     "output_type": "stream",
     "text": [
      "✅ Validation completed in 41.94s\n",
      "\n",
      "📊 Epoch 35 Summary:\n",
      "│ Train Loss: 0.0012 | Train Acc: 0.9999\n",
      "│ Val Loss:   0.5949 | Val Acc:   0.8964\n",
      "│ Train Time: 366.97s | Val Time: 41.94s\n",
      "│ Total Epoch Time: 408.91s\n",
      "│ Best Val Loss: 0.3314 (Epoch 1)\n",
      "│ GPU Memory: 0.3GB / 9.0GB\n",
      "================================================================================\n",
      "\n",
      "📈 Epoch 36/50\n",
      "--------------------------------------------------\n",
      "🔄 Training Phase...\n"
     ]
    },
    {
     "name": "stderr",
     "output_type": "stream",
     "text": [
      "Training: 100%|██████████████████████████████| 311/311 [06:08<00:00,  1.18s/it, Loss=0.0002, Acc=1.0000, GPU=0.3GB]\n"
     ]
    },
    {
     "name": "stdout",
     "output_type": "stream",
     "text": [
      "✅ Training completed in 368.18s\n",
      "🔍 Validation Phase...\n"
     ]
    },
    {
     "name": "stderr",
     "output_type": "stream",
     "text": [
      "Validation: 100%|██████████████████████████████| 81/81 [00:42<00:00,  1.92it/s, Loss=0.5997, Acc=0.8932]\n"
     ]
    },
    {
     "name": "stdout",
     "output_type": "stream",
     "text": [
      "✅ Validation completed in 42.10s\n",
      "\n",
      "📊 Epoch 36 Summary:\n",
      "│ Train Loss: 0.0002 | Train Acc: 1.0000\n",
      "│ Val Loss:   0.5997 | Val Acc:   0.8932\n",
      "│ Train Time: 368.18s | Val Time: 42.10s\n",
      "│ Total Epoch Time: 410.28s\n",
      "│ Best Val Loss: 0.3314 (Epoch 1)\n",
      "│ GPU Memory: 0.3GB / 9.0GB\n",
      "================================================================================\n",
      "\n",
      "📈 Epoch 37/50\n",
      "--------------------------------------------------\n",
      "🔄 Training Phase...\n"
     ]
    },
    {
     "name": "stderr",
     "output_type": "stream",
     "text": [
      "Training: 100%|██████████████████████████████| 311/311 [06:06<00:00,  1.18s/it, Loss=0.0010, Acc=0.9997, GPU=0.3GB]\n"
     ]
    },
    {
     "name": "stdout",
     "output_type": "stream",
     "text": [
      "✅ Training completed in 366.80s\n",
      "🔍 Validation Phase...\n"
     ]
    },
    {
     "name": "stderr",
     "output_type": "stream",
     "text": [
      "Validation: 100%|██████████████████████████████| 81/81 [00:42<00:00,  1.92it/s, Loss=0.5916, Acc=0.8991]\n"
     ]
    },
    {
     "name": "stdout",
     "output_type": "stream",
     "text": [
      "✅ Validation completed in 42.13s\n",
      "\n",
      "📊 Epoch 37 Summary:\n",
      "│ Train Loss: 0.0010 | Train Acc: 0.9997\n",
      "│ Val Loss:   0.5916 | Val Acc:   0.8991\n",
      "│ Train Time: 366.80s | Val Time: 42.13s\n",
      "│ Total Epoch Time: 408.93s\n",
      "│ Best Val Loss: 0.3314 (Epoch 1)\n",
      "│ GPU Memory: 0.3GB / 9.0GB\n",
      "================================================================================\n",
      "\n",
      "📈 Epoch 38/50\n",
      "--------------------------------------------------\n",
      "🔄 Training Phase...\n"
     ]
    },
    {
     "name": "stderr",
     "output_type": "stream",
     "text": [
      "Training: 100%|██████████████████████████████| 311/311 [06:06<00:00,  1.18s/it, Loss=0.0028, Acc=0.9992, GPU=0.3GB]\n"
     ]
    },
    {
     "name": "stdout",
     "output_type": "stream",
     "text": [
      "✅ Training completed in 366.27s\n",
      "🔍 Validation Phase...\n"
     ]
    },
    {
     "name": "stderr",
     "output_type": "stream",
     "text": [
      "Validation: 100%|██████████████████████████████| 81/81 [00:41<00:00,  1.95it/s, Loss=0.5877, Acc=0.8886]\n"
     ]
    },
    {
     "name": "stdout",
     "output_type": "stream",
     "text": [
      "✅ Validation completed in 41.45s\n",
      "\n",
      "📊 Epoch 38 Summary:\n",
      "│ Train Loss: 0.0028 | Train Acc: 0.9992\n",
      "│ Val Loss:   0.5877 | Val Acc:   0.8886\n",
      "│ Train Time: 366.27s | Val Time: 41.45s\n",
      "│ Total Epoch Time: 407.72s\n",
      "│ Best Val Loss: 0.3314 (Epoch 1)\n",
      "│ GPU Memory: 0.3GB / 9.0GB\n",
      "================================================================================\n",
      "\n",
      "📈 Epoch 39/50\n",
      "--------------------------------------------------\n",
      "🔄 Training Phase...\n"
     ]
    },
    {
     "name": "stderr",
     "output_type": "stream",
     "text": [
      "Training: 100%|██████████████████████████████| 311/311 [06:05<00:00,  1.18s/it, Loss=0.0079, Acc=0.9980, GPU=0.3GB]\n"
     ]
    },
    {
     "name": "stdout",
     "output_type": "stream",
     "text": [
      "✅ Training completed in 365.51s\n",
      "🔍 Validation Phase...\n"
     ]
    },
    {
     "name": "stderr",
     "output_type": "stream",
     "text": [
      "Validation: 100%|██████████████████████████████| 81/81 [00:41<00:00,  1.94it/s, Loss=0.5692, Acc=0.8851]\n"
     ]
    },
    {
     "name": "stdout",
     "output_type": "stream",
     "text": [
      "✅ Validation completed in 41.65s\n",
      "\n",
      "📊 Epoch 39 Summary:\n",
      "│ Train Loss: 0.0079 | Train Acc: 0.9980\n",
      "│ Val Loss:   0.5692 | Val Acc:   0.8851\n",
      "│ Train Time: 365.51s | Val Time: 41.65s\n",
      "│ Total Epoch Time: 407.16s\n",
      "│ Best Val Loss: 0.3314 (Epoch 1)\n",
      "│ GPU Memory: 0.3GB / 9.0GB\n",
      "================================================================================\n",
      "\n",
      "📈 Epoch 40/50\n",
      "--------------------------------------------------\n",
      "🔄 Training Phase...\n"
     ]
    },
    {
     "name": "stderr",
     "output_type": "stream",
     "text": [
      "Training: 100%|██████████████████████████████| 311/311 [06:07<00:00,  1.18s/it, Loss=0.0023, Acc=0.9994, GPU=0.3GB]\n"
     ]
    },
    {
     "name": "stdout",
     "output_type": "stream",
     "text": [
      "✅ Training completed in 367.03s\n",
      "🔍 Validation Phase...\n"
     ]
    },
    {
     "name": "stderr",
     "output_type": "stream",
     "text": [
      "Validation: 100%|██████████████████████████████| 81/81 [00:41<00:00,  1.94it/s, Loss=0.5640, Acc=0.8800]\n"
     ]
    },
    {
     "name": "stdout",
     "output_type": "stream",
     "text": [
      "✅ Validation completed in 41.72s\n",
      "\n",
      "📊 Epoch 40 Summary:\n",
      "│ Train Loss: 0.0023 | Train Acc: 0.9994\n",
      "│ Val Loss:   0.5640 | Val Acc:   0.8800\n",
      "│ Train Time: 367.03s | Val Time: 41.72s\n",
      "│ Total Epoch Time: 408.76s\n",
      "│ Best Val Loss: 0.3314 (Epoch 1)\n",
      "│ GPU Memory: 0.3GB / 9.0GB\n",
      "================================================================================\n",
      "\n",
      "📈 Epoch 41/50\n",
      "--------------------------------------------------\n",
      "🔄 Training Phase...\n"
     ]
    },
    {
     "name": "stderr",
     "output_type": "stream",
     "text": [
      "Training: 100%|██████████████████████████████| 311/311 [06:06<00:00,  1.18s/it, Loss=0.0042, Acc=0.9993, GPU=0.3GB]\n"
     ]
    },
    {
     "name": "stdout",
     "output_type": "stream",
     "text": [
      "✅ Training completed in 366.22s\n",
      "🔍 Validation Phase...\n"
     ]
    },
    {
     "name": "stderr",
     "output_type": "stream",
     "text": [
      "Validation: 100%|██████████████████████████████| 81/81 [00:41<00:00,  1.94it/s, Loss=0.5999, Acc=0.8847]\n"
     ]
    },
    {
     "name": "stdout",
     "output_type": "stream",
     "text": [
      "✅ Validation completed in 41.69s\n",
      "\n",
      "📊 Epoch 41 Summary:\n",
      "│ Train Loss: 0.0042 | Train Acc: 0.9993\n",
      "│ Val Loss:   0.5999 | Val Acc:   0.8847\n",
      "│ Train Time: 366.22s | Val Time: 41.69s\n",
      "│ Total Epoch Time: 407.92s\n",
      "│ Best Val Loss: 0.3314 (Epoch 1)\n",
      "│ GPU Memory: 0.3GB / 9.0GB\n",
      "================================================================================\n",
      "\n",
      "📈 Epoch 42/50\n",
      "--------------------------------------------------\n",
      "🔄 Training Phase...\n"
     ]
    },
    {
     "name": "stderr",
     "output_type": "stream",
     "text": [
      "Training: 100%|██████████████████████████████| 311/311 [06:07<00:00,  1.18s/it, Loss=0.0026, Acc=0.9993, GPU=0.3GB]\n"
     ]
    },
    {
     "name": "stdout",
     "output_type": "stream",
     "text": [
      "✅ Training completed in 367.57s\n",
      "🔍 Validation Phase...\n"
     ]
    },
    {
     "name": "stderr",
     "output_type": "stream",
     "text": [
      "Validation: 100%|██████████████████████████████| 81/81 [00:41<00:00,  1.93it/s, Loss=0.6373, Acc=0.8777]\n"
     ]
    },
    {
     "name": "stdout",
     "output_type": "stream",
     "text": [
      "✅ Validation completed in 41.92s\n",
      "\n",
      "📊 Epoch 42 Summary:\n",
      "│ Train Loss: 0.0026 | Train Acc: 0.9993\n",
      "│ Val Loss:   0.6373 | Val Acc:   0.8777\n",
      "│ Train Time: 367.57s | Val Time: 41.92s\n",
      "│ Total Epoch Time: 409.49s\n",
      "│ Best Val Loss: 0.3314 (Epoch 1)\n",
      "│ GPU Memory: 0.3GB / 9.0GB\n",
      "================================================================================\n",
      "\n",
      "📈 Epoch 43/50\n",
      "--------------------------------------------------\n",
      "🔄 Training Phase...\n"
     ]
    },
    {
     "name": "stderr",
     "output_type": "stream",
     "text": [
      "Training: 100%|██████████████████████████████| 311/311 [06:08<00:00,  1.18s/it, Loss=0.0017, Acc=0.9995, GPU=0.3GB]\n"
     ]
    },
    {
     "name": "stdout",
     "output_type": "stream",
     "text": [
      "✅ Training completed in 368.05s\n",
      "🔍 Validation Phase...\n"
     ]
    },
    {
     "name": "stderr",
     "output_type": "stream",
     "text": [
      "Validation: 100%|██████████████████████████████| 81/81 [00:42<00:00,  1.92it/s, Loss=0.6237, Acc=0.8901]\n"
     ]
    },
    {
     "name": "stdout",
     "output_type": "stream",
     "text": [
      "✅ Validation completed in 42.09s\n",
      "\n",
      "📊 Epoch 43 Summary:\n",
      "│ Train Loss: 0.0017 | Train Acc: 0.9995\n",
      "│ Val Loss:   0.6237 | Val Acc:   0.8901\n",
      "│ Train Time: 368.05s | Val Time: 42.09s\n",
      "│ Total Epoch Time: 410.14s\n",
      "│ Best Val Loss: 0.3314 (Epoch 1)\n",
      "│ GPU Memory: 0.3GB / 9.0GB\n",
      "================================================================================\n",
      "\n",
      "📈 Epoch 44/50\n",
      "--------------------------------------------------\n",
      "🔄 Training Phase...\n"
     ]
    },
    {
     "name": "stderr",
     "output_type": "stream",
     "text": [
      "Training: 100%|██████████████████████████████| 311/311 [06:08<00:00,  1.19s/it, Loss=0.0015, Acc=0.9998, GPU=0.3GB]\n"
     ]
    },
    {
     "name": "stdout",
     "output_type": "stream",
     "text": [
      "✅ Training completed in 368.78s\n",
      "🔍 Validation Phase...\n"
     ]
    },
    {
     "name": "stderr",
     "output_type": "stream",
     "text": [
      "Validation: 100%|██████████████████████████████| 81/81 [00:42<00:00,  1.93it/s, Loss=0.5446, Acc=0.8925]\n"
     ]
    },
    {
     "name": "stdout",
     "output_type": "stream",
     "text": [
      "✅ Validation completed in 42.03s\n",
      "\n",
      "📊 Epoch 44 Summary:\n",
      "│ Train Loss: 0.0015 | Train Acc: 0.9998\n",
      "│ Val Loss:   0.5446 | Val Acc:   0.8925\n",
      "│ Train Time: 368.78s | Val Time: 42.03s\n",
      "│ Total Epoch Time: 410.81s\n",
      "│ Best Val Loss: 0.3314 (Epoch 1)\n",
      "│ GPU Memory: 0.3GB / 9.0GB\n",
      "================================================================================\n",
      "\n",
      "📈 Epoch 45/50\n",
      "--------------------------------------------------\n",
      "🔄 Training Phase...\n"
     ]
    },
    {
     "name": "stderr",
     "output_type": "stream",
     "text": [
      "Training: 100%|██████████████████████████████| 311/311 [06:02<00:00,  1.16s/it, Loss=0.0064, Acc=0.9979, GPU=0.3GB]\n"
     ]
    },
    {
     "name": "stdout",
     "output_type": "stream",
     "text": [
      "✅ Training completed in 362.25s\n",
      "🔍 Validation Phase...\n"
     ]
    },
    {
     "name": "stderr",
     "output_type": "stream",
     "text": [
      "Validation: 100%|██████████████████████████████| 81/81 [00:40<00:00,  2.00it/s, Loss=0.4672, Acc=0.9014]\n"
     ]
    },
    {
     "name": "stdout",
     "output_type": "stream",
     "text": [
      "✅ Validation completed in 40.48s\n",
      "\n",
      "📊 Epoch 45 Summary:\n",
      "│ Train Loss: 0.0064 | Train Acc: 0.9979\n",
      "│ Val Loss:   0.4672 | Val Acc:   0.9014\n",
      "│ Train Time: 362.25s | Val Time: 40.48s\n",
      "│ Total Epoch Time: 402.73s\n",
      "│ Best Val Loss: 0.3314 (Epoch 1)\n",
      "│ GPU Memory: 0.3GB / 9.0GB\n",
      "================================================================================\n",
      "\n",
      "📈 Epoch 46/50\n",
      "--------------------------------------------------\n",
      "🔄 Training Phase...\n"
     ]
    },
    {
     "name": "stderr",
     "output_type": "stream",
     "text": [
      "Training: 100%|██████████████████████████████| 311/311 [06:02<00:00,  1.17s/it, Loss=0.0033, Acc=0.9992, GPU=0.3GB]\n"
     ]
    },
    {
     "name": "stdout",
     "output_type": "stream",
     "text": [
      "✅ Training completed in 362.56s\n",
      "🔍 Validation Phase...\n"
     ]
    },
    {
     "name": "stderr",
     "output_type": "stream",
     "text": [
      "Validation: 100%|██████████████████████████████| 81/81 [00:41<00:00,  1.94it/s, Loss=0.5573, Acc=0.8901]\n"
     ]
    },
    {
     "name": "stdout",
     "output_type": "stream",
     "text": [
      "✅ Validation completed in 41.71s\n",
      "\n",
      "📊 Epoch 46 Summary:\n",
      "│ Train Loss: 0.0033 | Train Acc: 0.9992\n",
      "│ Val Loss:   0.5573 | Val Acc:   0.8901\n",
      "│ Train Time: 362.56s | Val Time: 41.71s\n",
      "│ Total Epoch Time: 404.27s\n",
      "│ Best Val Loss: 0.3314 (Epoch 1)\n",
      "│ GPU Memory: 0.3GB / 9.0GB\n",
      "================================================================================\n",
      "\n",
      "📈 Epoch 47/50\n",
      "--------------------------------------------------\n",
      "🔄 Training Phase...\n"
     ]
    },
    {
     "name": "stderr",
     "output_type": "stream",
     "text": [
      "Training: 100%|██████████████████████████████| 311/311 [06:05<00:00,  1.18s/it, Loss=0.0085, Acc=0.9977, GPU=0.3GB]\n"
     ]
    },
    {
     "name": "stdout",
     "output_type": "stream",
     "text": [
      "✅ Training completed in 365.68s\n",
      "🔍 Validation Phase...\n"
     ]
    },
    {
     "name": "stderr",
     "output_type": "stream",
     "text": [
      "Validation: 100%|██████████████████████████████| 81/81 [00:42<00:00,  1.90it/s, Loss=0.5413, Acc=0.8835]\n"
     ]
    },
    {
     "name": "stdout",
     "output_type": "stream",
     "text": [
      "✅ Validation completed in 42.55s\n",
      "\n",
      "📊 Epoch 47 Summary:\n",
      "│ Train Loss: 0.0085 | Train Acc: 0.9977\n",
      "│ Val Loss:   0.5413 | Val Acc:   0.8835\n",
      "│ Train Time: 365.68s | Val Time: 42.55s\n",
      "│ Total Epoch Time: 408.23s\n",
      "│ Best Val Loss: 0.3314 (Epoch 1)\n",
      "│ GPU Memory: 0.3GB / 9.0GB\n",
      "================================================================================\n",
      "\n",
      "📈 Epoch 48/50\n",
      "--------------------------------------------------\n",
      "🔄 Training Phase...\n"
     ]
    },
    {
     "name": "stderr",
     "output_type": "stream",
     "text": [
      "Training: 100%|██████████████████████████████| 311/311 [06:06<00:00,  1.18s/it, Loss=0.0005, Acc=0.9999, GPU=0.3GB]\n"
     ]
    },
    {
     "name": "stdout",
     "output_type": "stream",
     "text": [
      "✅ Training completed in 366.96s\n",
      "🔍 Validation Phase...\n"
     ]
    },
    {
     "name": "stderr",
     "output_type": "stream",
     "text": [
      "Validation: 100%|██████████████████████████████| 81/81 [00:41<00:00,  1.93it/s, Loss=0.5993, Acc=0.8793]\n"
     ]
    },
    {
     "name": "stdout",
     "output_type": "stream",
     "text": [
      "✅ Validation completed in 41.90s\n",
      "\n",
      "📊 Epoch 48 Summary:\n",
      "│ Train Loss: 0.0005 | Train Acc: 0.9999\n",
      "│ Val Loss:   0.5993 | Val Acc:   0.8793\n",
      "│ Train Time: 366.96s | Val Time: 41.90s\n",
      "│ Total Epoch Time: 408.86s\n",
      "│ Best Val Loss: 0.3314 (Epoch 1)\n",
      "│ GPU Memory: 0.3GB / 9.0GB\n",
      "================================================================================\n",
      "\n",
      "📈 Epoch 49/50\n",
      "--------------------------------------------------\n",
      "🔄 Training Phase...\n"
     ]
    },
    {
     "name": "stderr",
     "output_type": "stream",
     "text": [
      "Training: 100%|██████████████████████████████| 311/311 [06:07<00:00,  1.18s/it, Loss=0.0001, Acc=1.0000, GPU=0.3GB]\n"
     ]
    },
    {
     "name": "stdout",
     "output_type": "stream",
     "text": [
      "✅ Training completed in 367.45s\n",
      "🔍 Validation Phase...\n"
     ]
    },
    {
     "name": "stderr",
     "output_type": "stream",
     "text": [
      "Validation: 100%|██████████████████████████████| 81/81 [00:41<00:00,  1.94it/s, Loss=0.5627, Acc=0.8832]\n"
     ]
    },
    {
     "name": "stdout",
     "output_type": "stream",
     "text": [
      "✅ Validation completed in 41.81s\n",
      "\n",
      "📊 Epoch 49 Summary:\n",
      "│ Train Loss: 0.0001 | Train Acc: 1.0000\n",
      "│ Val Loss:   0.5627 | Val Acc:   0.8832\n",
      "│ Train Time: 367.45s | Val Time: 41.81s\n",
      "│ Total Epoch Time: 409.27s\n",
      "│ Best Val Loss: 0.3314 (Epoch 1)\n",
      "│ GPU Memory: 0.3GB / 9.0GB\n",
      "================================================================================\n",
      "\n",
      "📈 Epoch 50/50\n",
      "--------------------------------------------------\n",
      "🔄 Training Phase...\n"
     ]
    },
    {
     "name": "stderr",
     "output_type": "stream",
     "text": [
      "Training: 100%|██████████████████████████████| 311/311 [06:06<00:00,  1.18s/it, Loss=0.0002, Acc=1.0000, GPU=0.3GB]\n"
     ]
    },
    {
     "name": "stdout",
     "output_type": "stream",
     "text": [
      "✅ Training completed in 366.04s\n",
      "🔍 Validation Phase...\n"
     ]
    },
    {
     "name": "stderr",
     "output_type": "stream",
     "text": [
      "Validation: 100%|██████████████████████████████| 81/81 [00:41<00:00,  1.97it/s, Loss=0.5217, Acc=0.8882]\n"
     ]
    },
    {
     "name": "stdout",
     "output_type": "stream",
     "text": [
      "✅ Validation completed in 41.03s\n",
      "\n",
      "📊 Epoch 50 Summary:\n",
      "│ Train Loss: 0.0002 | Train Acc: 1.0000\n",
      "│ Val Loss:   0.5217 | Val Acc:   0.8882\n",
      "│ Train Time: 366.04s | Val Time: 41.03s\n",
      "│ Total Epoch Time: 407.07s\n",
      "│ Best Val Loss: 0.3314 (Epoch 1)\n",
      "│ GPU Memory: 0.3GB / 9.0GB\n",
      "================================================================================\n",
      "\n",
      "💾 Best model saved as 'best_cricket_xception_filtered.pth'\n",
      "📊 Best model stats:\n",
      "│ Best Epoch: 1\n",
      "│ Best Val Loss: 0.3314\n",
      "│ Best Val Acc: 0.8898\n",
      "\n",
      "💾 Training history saved to 'cricket_xception_filtered_history_pretrained.csv'\n",
      "\n",
      "🎉 Xception Fine-tuning Complete!\n",
      "Total Training Time: 20601.36s (343.4 minutes)\n",
      "Average Epoch Time: 412.03s\n",
      "\n",
      "🧪 Loading Best Model for Testing...\n",
      "✅ Best model from epoch 1 loaded successfully!\n"
     ]
    },
    {
     "name": "stderr",
     "output_type": "stream",
     "text": [
      "Testing: 100%|██████████████████████████████| 101/101 [01:15<00:00,  1.33it/s]\n"
     ]
    },
    {
     "name": "stdout",
     "output_type": "stream",
     "text": [
      "✅ Testing completed in 75.72s\n",
      "\n",
      "📋 Classification Report:\n",
      "              precision    recall  f1-score   support\n",
      "\n",
      "     Batting       0.94      0.95      0.94      1656\n",
      "     Bowling       0.90      0.91      0.91       488\n",
      "    Fielding       0.83      0.83      0.83       560\n",
      "      Umpire       0.98      0.93      0.95       520\n",
      "\n",
      "    accuracy                           0.92      3224\n",
      "   macro avg       0.91      0.91      0.91      3224\n",
      "weighted avg       0.92      0.92      0.92      3224\n",
      "\n",
      "🎯 Test Accuracy: 0.9209\n",
      "\n",
      "📊 Cricket Classification Performance (Xception - Filtered Data):\n",
      "│ Best Validation Loss: 0.3314 (Epoch 1)\n",
      "│ Best Validation Acc:  0.8898 (Epoch 1)\n",
      "│ Final Test Accuracy:  0.9209\n",
      "│ Val-Test Gap:         0.0312\n",
      "│ Data Filtering: Excluded 'random_occlusion' folder\n",
      "\n",
      "💾 Files saved:\n",
      "│ best_cricket_xception_filtered.pth - Best model weights\n",
      "│ cricket_xception_filtered_history.csv - Training metrics\n"
     ]
    },
    {
     "data": {
      "image/png": "[encoded data removed]",
      "text/plain": [
       "<Figure size 1000x800 with 2 Axes>"
      ]
     },
     "metadata": {},
     "output_type": "display_data"
    },
    {
     "data": {
      "image/png": "[encoded data removed]",
      "text/plain": [
       "<Figure size 1500x500 with 3 Axes>"
      ]
     },
     "metadata": {},
     "output_type": "display_data"
    },
    {
     "name": "stdout",
     "output_type": "stream",
     "text": [
      "\n",
      "⏰ Final Timing Summary:\n",
      "│ Total Training: 20601.36s (343.4 min)\n",
      "│ Average per Epoch: 412.03s\n",
      "│ Testing Time: 75.72s\n",
      "│ Total Runtime: 20677.08s\n",
      "\n",
      "🔀 Xception + Filtered Data Benefits:\n",
      "│ Clean dataset: 'random_occlusion' folder excluded\n",
      "│ Depthwise separable convolutions: More efficient than standard convolutions\n",
      "│ Extreme version of Inception: Maximally decoupled cross-channel correlations\n",
      "│ High resolution: 299x299 input captures fine details\n",
      "│ [-1, 1] normalization: Xception-specific preprocessing\n",
      "│ Excellent performance: Often matches InceptionV3 with fewer parameters\n"
     ]
    }
   ],
   "source": [
    "# -----------------------------\n",
    "# 3. Training Setup\n",
    "# -----------------------------\n",
    "criterion = nn.CrossEntropyLoss()\n",
    "optimizer = optim.Adam(model.parameters(), lr=1e-4)  # Lower LR for fine-tuning\n",
    "\n",
    "print(f\"\\n📋 Training Configuration:\")\n",
    "print(f\"│ Model: Xception (pretrained via timm)\")\n",
    "print(f\"│ Optimizer: Adam (lr={optimizer.param_groups[0]['lr']})\")\n",
    "print(f\"│ Loss Function: CrossEntropyLoss\")\n",
    "print(f\"│ Batch Size: 32\")\n",
    "print(f\"│ Device: {device}\")\n",
    "print(f\"│ Data: Filtered (excluding '{ignore_folder}')\")\n",
    "print(f\"│ Normalization: [-1, 1] range (Xception specific)\")\n",
    "\n",
    "# -----------------------------\n",
    "# 4. Training Loop with Model Saving\n",
    "# -----------------------------\n",
    "train_losses, val_losses = [], []\n",
    "train_accs, val_accs = [], []\n",
    "epoch_times = []\n",
    "epochs = 50\n",
    "\n",
    "# Initialize best model tracking (using val_loss for fine-tuning)\n",
    "best_val_loss = float('inf')\n",
    "best_model_state = None\n",
    "best_epoch = 0\n",
    "best_val_acc = 0.0\n",
    "\n",
    "print(f\"\\n🚀 Starting Xception Fine-tuning for {epochs} epochs...\")\n",
    "print(\"=\" * 80)\n",
    "total_start_time = time.time()\n",
    "\n",
    "for epoch in range(epochs):\n",
    "    epoch_start_time = time.time()\n",
    "    \n",
    "    print(f\"\\n📈 Epoch {epoch+1}/{epochs}\")\n",
    "    print(\"-\" * 50)\n",
    "    \n",
    "    # Training Phase\n",
    "    print(\"🔄 Training Phase...\")\n",
    "    model.train()\n",
    "    running_loss, correct, total = 0, 0, 0\n",
    "    \n",
    "    train_pbar = tqdm(train_loader, desc=\"Training\", \n",
    "                     bar_format='{l_bar}{bar:30}{r_bar}{bar:-30b}')\n",
    "    \n",
    "    train_phase_start = time.time()\n",
    "    \n",
    "    for batch_idx, (imgs, labels) in enumerate(train_pbar):\n",
    "        imgs, labels = imgs.to(device), labels.to(device)\n",
    "        \n",
    "        optimizer.zero_grad()\n",
    "        outputs = model(imgs)\n",
    "        loss = criterion(outputs, labels)\n",
    "        loss.backward()\n",
    "        optimizer.step()\n",
    "        \n",
    "        running_loss += loss.item()\n",
    "        _, preds = torch.max(outputs, 1)\n",
    "        correct += (preds == labels).sum().item()\n",
    "        total += labels.size(0)\n",
    "        \n",
    "        current_acc = correct / total\n",
    "        train_pbar.set_postfix({\n",
    "            'Loss': f'{running_loss/(batch_idx+1):.4f}',\n",
    "            'Acc': f'{current_acc:.4f}'\n",
    "        })\n",
    "        \n",
    "        if device.type == 'cuda' and batch_idx % 10 == 0:\n",
    "            gpu_memory = torch.cuda.memory_allocated() / 1024**3\n",
    "            train_pbar.set_postfix({\n",
    "                'Loss': f'{running_loss/(batch_idx+1):.4f}',\n",
    "                'Acc': f'{current_acc:.4f}',\n",
    "                'GPU': f'{gpu_memory:.1f}GB'\n",
    "            })\n",
    "    \n",
    "    train_phase_time = time.time() - train_phase_start\n",
    "    train_loss = running_loss / len(train_loader)\n",
    "    train_acc = correct / total\n",
    "    train_losses.append(train_loss)\n",
    "    train_accs.append(train_acc)\n",
    "    \n",
    "    print(f\"✅ Training completed in {train_phase_time:.2f}s\")\n",
    "    \n",
    "    # Validation Phase\n",
    "    print(\"🔍 Validation Phase...\")\n",
    "    model.eval()\n",
    "    running_loss, correct, total = 0, 0, 0\n",
    "    \n",
    "    val_phase_start = time.time()\n",
    "    val_pbar = tqdm(val_loader, desc=\"Validation\", \n",
    "                   bar_format='{l_bar}{bar:30}{r_bar}{bar:-30b}')\n",
    "    \n",
    "    with torch.no_grad():\n",
    "        for batch_idx, (imgs, labels) in enumerate(val_pbar):\n",
    "            imgs, labels = imgs.to(device), labels.to(device)\n",
    "            outputs = model(imgs)\n",
    "            loss = criterion(outputs, labels)\n",
    "            \n",
    "            running_loss += loss.item()\n",
    "            _, preds = torch.max(outputs, 1)\n",
    "            correct += (preds == labels).sum().item()\n",
    "            total += labels.size(0)\n",
    "            \n",
    "            current_acc = correct / total\n",
    "            val_pbar.set_postfix({\n",
    "                'Loss': f'{running_loss/(batch_idx+1):.4f}',\n",
    "                'Acc': f'{current_acc:.4f}'\n",
    "            })\n",
    "    \n",
    "    val_phase_time = time.time() - val_phase_start\n",
    "    val_loss = running_loss / len(val_loader)\n",
    "    val_acc = correct / total\n",
    "    val_losses.append(val_loss)\n",
    "    val_accs.append(val_acc)\n",
    "    \n",
    "    print(f\"✅ Validation completed in {val_phase_time:.2f}s\")\n",
    "    \n",
    "    # Check if this is the best model (using val_loss for fine-tuning)\n",
    "    is_best = val_loss < best_val_loss\n",
    "    if is_best:\n",
    "        best_val_loss = val_loss\n",
    "        best_val_acc = val_acc\n",
    "        best_epoch = epoch + 1\n",
    "        best_model_state = model.state_dict().copy()\n",
    "        print(f\"🌟 New best model found! Validation Loss: {val_loss:.4f}\")\n",
    "    \n",
    "    # Epoch Summary\n",
    "    epoch_time = time.time() - epoch_start_time\n",
    "    epoch_times.append(epoch_time)\n",
    "    \n",
    "    print(f\"\\n📊 Epoch {epoch+1} Summary:\")\n",
    "    print(f\"│ Train Loss: {train_loss:.4f} | Train Acc: {train_acc:.4f}\")\n",
    "    print(f\"│ Val Loss:   {val_loss:.4f} | Val Acc:   {val_acc:.4f}\")\n",
    "    print(f\"│ Train Time: {train_phase_time:.2f}s | Val Time: {val_phase_time:.2f}s\")\n",
    "    print(f\"│ Total Epoch Time: {epoch_time:.2f}s\")\n",
    "    print(f\"│ Best Val Loss: {best_val_loss:.4f} (Epoch {best_epoch})\")\n",
    "    \n",
    "    if device.type == 'cuda':\n",
    "        print(f\"│ GPU Memory: {torch.cuda.memory_allocated()/1024**3:.1f}GB / {torch.cuda.memory_reserved()/1024**3:.1f}GB\")\n",
    "    \n",
    "    print(\"=\" * 80)\n",
    "\n",
    "total_training_time = time.time() - total_start_time\n",
    "\n",
    "# Save the best model\n",
    "if best_model_state is not None:\n",
    "    torch.save(best_model_state, 'best_cricket_xception_filtered_pretrained.pth')\n",
    "    print(f\"\\n💾 Best model saved as 'best_cricket_xception_filtered.pth'\")\n",
    "    print(f\"📊 Best model stats:\")\n",
    "    print(f\"│ Best Epoch: {best_epoch}\")\n",
    "    print(f\"│ Best Val Loss: {best_val_loss:.4f}\")\n",
    "    print(f\"│ Best Val Acc: {best_val_acc:.4f}\")\n",
    "\n",
    "# Save training history\n",
    "history_data = {\n",
    "    'epoch': list(range(1, epochs+1)),\n",
    "    'train_loss': train_losses,\n",
    "    'val_loss': val_losses,\n",
    "    'train_acc': train_accs,\n",
    "    'val_acc': val_accs,\n",
    "    'epoch_time': epoch_times\n",
    "}\n",
    "\n",
    "history_df = pd.DataFrame(history_data)\n",
    "history_df.to_csv('cricket_xception_filtered_history_pretrained.csv', index=False)\n",
    "print(\"\\n💾 Training history saved to 'cricket_xception_filtered_history_pretrained.csv'\")\n",
    "\n",
    "print(f\"\\n🎉 Xception Fine-tuning Complete!\")\n",
    "print(f\"Total Training Time: {total_training_time:.2f}s ({total_training_time/60:.1f} minutes)\")\n",
    "print(f\"Average Epoch Time: {np.mean(epoch_times):.2f}s\")\n",
    "\n",
    "# -----------------------------\n",
    "# 5. Load Best Model and Test\n",
    "# -----------------------------\n",
    "print(f\"\\n🧪 Loading Best Model for Testing...\")\n",
    "if best_model_state is not None:\n",
    "    model.load_state_dict(best_model_state)\n",
    "    print(f\"✅ Best model from epoch {best_epoch} loaded successfully!\")\n",
    "\n",
    "test_start_time = time.time()\n",
    "y_true, y_pred = [], []\n",
    "model.eval()\n",
    "test_pbar = tqdm(test_loader, desc=\"Testing\", \n",
    "                bar_format='{l_bar}{bar:30}{r_bar}{bar:-30b}')\n",
    "\n",
    "with torch.no_grad():\n",
    "    for imgs, labels in test_pbar:\n",
    "        imgs, labels = imgs.to(device), labels.to(device)\n",
    "        outputs = model(imgs)\n",
    "        _, preds = torch.max(outputs, 1)\n",
    "        y_true.extend(labels.cpu().numpy())\n",
    "        y_pred.extend(preds.cpu().numpy())\n",
    "\n",
    "test_time = time.time() - test_start_time\n",
    "test_accuracy = accuracy_score(y_true, y_pred)\n",
    "\n",
    "print(f\"✅ Testing completed in {test_time:.2f}s\")\n",
    "print(\"\\n📋 Classification Report:\")\n",
    "print(classification_report(y_true, y_pred, target_names=classes))\n",
    "print(f\"🎯 Test Accuracy: {test_accuracy:.4f}\")\n",
    "\n",
    "# Performance Summary\n",
    "print(f\"\\n📊 Cricket Classification Performance (Xception - Filtered Data):\")\n",
    "print(f\"│ Best Validation Loss: {best_val_loss:.4f} (Epoch {best_epoch})\")\n",
    "print(f\"│ Best Validation Acc:  {best_val_acc:.4f} (Epoch {best_epoch})\")\n",
    "print(f\"│ Final Test Accuracy:  {test_accuracy:.4f}\")\n",
    "print(f\"│ Val-Test Gap:         {abs(best_val_acc - test_accuracy):.4f}\")\n",
    "print(f\"│ Data Filtering: Excluded '{ignore_folder}' folder\")\n",
    "\n",
    "print(f\"\\n💾 Files saved:\")\n",
    "print(f\"│ best_cricket_xception_filtered.pth - Best model weights\")\n",
    "print(f\"│ cricket_xception_filtered_history.csv - Training metrics\")\n",
    "\n",
    "# -----------------------------\n",
    "# 6. Visualizations\n",
    "# -----------------------------\n",
    "# Confusion Matrix\n",
    "cm = confusion_matrix(y_true, y_pred)\n",
    "plt.figure(figsize=(10, 8))\n",
    "sns.heatmap(cm, annot=True, fmt=\"d\", cmap=\"Blues\", \n",
    "            xticklabels=classes, yticklabels=classes)\n",
    "plt.xlabel(\"Predicted\")\n",
    "plt.ylabel(\"True\")\n",
    "plt.title(f\"Cricket Classification - Xception (Filtered Data) - Epoch {best_epoch}\")\n",
    "plt.tight_layout()\n",
    "plt.show()\n",
    "\n",
    "# Training Curves\n",
    "plt.figure(figsize=(15, 5))\n",
    "\n",
    "# Loss Plot\n",
    "plt.subplot(1, 3, 1)\n",
    "plt.plot(range(1, epochs+1), train_losses, 'b-', label=\"Train Loss\", marker='o', linewidth=2)\n",
    "plt.plot(range(1, epochs+1), val_losses, 'r-', label=\"Val Loss\", marker='s', linewidth=2)\n",
    "plt.axvline(x=best_epoch, color='green', linestyle='--', alpha=0.7, label=f'Best (Epoch {best_epoch})')\n",
    "plt.scatter([best_epoch], [best_val_loss], color='green', s=100, zorder=5)\n",
    "plt.legend()\n",
    "plt.title(\"Xception Loss over Epochs (Filtered)\")\n",
    "plt.xlabel(\"Epoch\")\n",
    "plt.ylabel(\"Loss\")\n",
    "plt.grid(True, alpha=0.3)\n",
    "\n",
    "# Accuracy Plot\n",
    "plt.subplot(1, 3, 2)\n",
    "plt.plot(range(1, epochs+1), train_accs, 'b-', label=\"Train Accuracy\", marker='o', linewidth=2)\n",
    "plt.plot(range(1, epochs+1), val_accs, 'r-', label=\"Val Accuracy\", marker='s', linewidth=2)\n",
    "plt.axvline(x=best_epoch, color='green', linestyle='--', alpha=0.7, label=f'Best (Epoch {best_epoch})')\n",
    "plt.scatter([best_epoch], [best_val_acc], color='green', s=100, zorder=5)\n",
    "plt.legend()\n",
    "plt.title(\"Xception Accuracy over Epochs (Filtered)\")\n",
    "plt.xlabel(\"Epoch\")\n",
    "plt.ylabel(\"Accuracy\")\n",
    "plt.grid(True, alpha=0.3)\n",
    "\n",
    "# Final Performance\n",
    "plt.subplot(1, 3, 3)\n",
    "metrics = ['Best Val Acc', 'Test Acc']\n",
    "values = [best_val_acc, test_accuracy]\n",
    "colors = ['orange', 'green']\n",
    "bars = plt.bar(metrics, values, color=colors, alpha=0.7)\n",
    "plt.title(\"Xception Final Performance (Filtered)\")\n",
    "plt.ylabel(\"Accuracy\")\n",
    "plt.ylim(0, 1)\n",
    "plt.grid(True, alpha=0.3)\n",
    "for bar, val in zip(bars, values):\n",
    "    plt.text(bar.get_x() + bar.get_width()/2, val + 0.01, \n",
    "             f'{val:.4f}', ha='center', va='bottom')\n",
    "\n",
    "plt.tight_layout()\n",
    "plt.show()\n",
    "\n",
    "# Final Summary\n",
    "print(f\"\\n⏰ Final Timing Summary:\")\n",
    "print(f\"│ Total Training: {total_training_time:.2f}s ({total_training_time/60:.1f} min)\")\n",
    "print(f\"│ Average per Epoch: {np.mean(epoch_times):.2f}s\")\n",
    "print(f\"│ Testing Time: {test_time:.2f}s\")\n",
    "print(f\"│ Total Runtime: {total_training_time + test_time:.2f}s\")\n",
    "\n",
    "# Model and Data Info\n",
    "print(f\"\\n🔀 Xception + Filtered Data Benefits:\")\n",
    "print(f\"│ Clean dataset: '{ignore_folder}' folder excluded\")\n",
    "print(f\"│ Depthwise separable convolutions: More efficient than standard convolutions\")\n",
    "print(f\"│ Extreme version of Inception: Maximally decoupled cross-channel correlations\")\n",
    "print(f\"│ High resolution: 299x299 input captures fine details\")\n",
    "print(f\"│ [-1, 1] normalization: Xception-specific preprocessing\")\n",
    "print(f\"│ Excellent performance: Often matches InceptionV3 with fewer parameters\")"
   ]
  }
 ],
 "metadata": {
  "kaggle": {
   "accelerator": "nvidiaTeslaT4",
   "dataSources": [
    {
     "datasetId": 7735666,
     "sourceId": 12275446,
     "sourceType": "datasetVersion"
    }
   ],
   "dockerImageVersionId": 31090,
   "isGpuEnabled": true,
   "isInternetEnabled": true,
   "language": "python",
   "sourceType": "notebook"
  },
  "kernelspec": {
   "display_name": "Python 3",
   "language": "python",
   "name": "python3"
  },
  "language_info": {
   "codemirror_mode": {
    "name": "ipython",
    "version": 3
   },
   "file_extension": ".py",
   "mimetype": "text/x-python",
   "name": "python",
   "nbconvert_exporter": "python",
   "pygments_lexer": "ipython3",
   "version": "3.11.13"
  },
  "papermill": {
   "default_parameters": {},
   "duration": 20722.271247,
   "end_time": "2025-09-11T19:06:22.208171",
   "environment_variables": {},
   "exception": null,
   "input_path": "__notebook__.ipynb",
   "output_path": "__notebook__.ipynb",
   "parameters": {},
   "start_time": "2025-09-11T13:20:59.936924",
   "version": "2.6.0"
  }
 },
 "nbformat": 4,
 "nbformat_minor": 5
}
