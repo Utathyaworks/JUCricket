{
 "cells": [
  {
   "cell_type": "code",
   "execution_count": 1,
   "id": "7c0306a4",
   "metadata": {
    "_cell_guid": "b1076dfc-b9ad-4769-8c92-a6c4dae69d19",
    "_uuid": "8f2839f25d086af736a60e9eeb907d3b93b6e0e5",
    "execution": {
     "iopub.execute_input": "2025-09-11T12:09:34.181711Z",
     "iopub.status.busy": "2025-09-11T12:09:34.181508Z",
     "iopub.status.idle": "2025-09-11T12:09:46.296824Z",
     "shell.execute_reply": "2025-09-11T12:09:46.296010Z"
    },
    "papermill": {
     "duration": 12.120356,
     "end_time": "2025-09-11T12:09:46.298070",
     "exception": false,
     "start_time": "2025-09-11T12:09:34.177714",
     "status": "completed"
    },
    "tags": []
   },
   "outputs": [
    {
     "name": "stdout",
     "output_type": "stream",
     "text": [
      "Classes: ['boundary_save', 'catching_a_ball', 'diving_stop', 'run_out', 'stumping']\n"
     ]
    }
   ],
   "source": [
    "import torch\n",
    "import torch.nn as nn\n",
    "import torch.nn.functional as F\n",
    "from torch.utils.data import DataLoader\n",
    "from torchvision import datasets, transforms\n",
    "from torchsummary import summary\n",
    "import matplotlib.pyplot as plt\n",
    "from sklearn.metrics import classification_report, confusion_matrix, accuracy_score\n",
    "import seaborn as sns\n",
    "import numpy as np\n",
    "\n",
    "# -----------------------------\n",
    "# 1. Data Preprocessing\n",
    "# -----------------------------\n",
    "data_dir = \"/kaggle/input/ju-cricket/Cricket_Dataset_final/Task_B\"\n",
    "\n",
    "transform = transforms.Compose([\n",
    "    transforms.Resize((224, 224)),\n",
    "    transforms.ToTensor(),\n",
    "    transforms.Normalize([0.485, 0.456, 0.406], \n",
    "                         [0.229, 0.224, 0.225])\n",
    "])\n",
    "\n",
    "train_ds = datasets.ImageFolder(f\"{data_dir}/train/Fielding\", transform=transform)\n",
    "val_ds   = datasets.ImageFolder(f\"{data_dir}/val/Fielding\", transform=transform)\n",
    "test_ds  = datasets.ImageFolder(f\"{data_dir}/test/Fielding\", transform=transform)\n",
    "\n",
    "train_loader = DataLoader(train_ds, batch_size=32, shuffle=True)\n",
    "val_loader   = DataLoader(val_ds, batch_size=32, shuffle=False)\n",
    "test_loader  = DataLoader(test_ds, batch_size=32, shuffle=False)\n",
    "\n",
    "classes = train_ds.classes\n",
    "print(\"Classes:\", classes)\n",
    "\n"
   ]
  },
  {
   "cell_type": "code",
   "execution_count": 2,
   "id": "11f6708e",
   "metadata": {
    "execution": {
     "iopub.execute_input": "2025-09-11T12:09:46.304409Z",
     "iopub.status.busy": "2025-09-11T12:09:46.304056Z",
     "iopub.status.idle": "2025-09-11T12:09:46.308489Z",
     "shell.execute_reply": "2025-09-11T12:09:46.307837Z"
    },
    "papermill": {
     "duration": 0.008566,
     "end_time": "2025-09-11T12:09:46.309601",
     "exception": false,
     "start_time": "2025-09-11T12:09:46.301035",
     "status": "completed"
    },
    "tags": []
   },
   "outputs": [
    {
     "name": "stdout",
     "output_type": "stream",
     "text": [
      "Total training images: 1917\n",
      "Total validation images: 504\n",
      "Total test images: 630\n",
      "Total images in dataset: 3051\n"
     ]
    }
   ],
   "source": [
    "print(\"Total training images:\", len(train_ds))\n",
    "print(\"Total validation images:\", len(val_ds))\n",
    "print(\"Total test images:\", len(test_ds))\n",
    "\n",
    "total_images = len(train_ds) + len(val_ds) + len(test_ds)\n",
    "print(\"Total images in dataset:\", total_images)\n"
   ]
  },
  {
   "cell_type": "code",
   "execution_count": 3,
   "id": "95c6466f",
   "metadata": {
    "execution": {
     "iopub.execute_input": "2025-09-11T12:09:46.315231Z",
     "iopub.status.busy": "2025-09-11T12:09:46.314879Z",
     "iopub.status.idle": "2025-09-11T12:09:46.321717Z",
     "shell.execute_reply": "2025-09-11T12:09:46.321025Z"
    },
    "papermill": {
     "duration": 0.010734,
     "end_time": "2025-09-11T12:09:46.322743",
     "exception": false,
     "start_time": "2025-09-11T12:09:46.312009",
     "status": "completed"
    },
    "tags": []
   },
   "outputs": [
    {
     "name": "stdout",
     "output_type": "stream",
     "text": [
      "Training images (excluding 'random_occlusion'): 1704\n",
      "Validation images (excluding 'random_occlusion'): 448\n",
      "Test images (excluding 'random_occlusion'): 560\n",
      "Total images (excluding 'random_occlusion'): 2712\n"
     ]
    }
   ],
   "source": [
    "ignore_folder = \"random_occlusion\"\n",
    "\n",
    "def count_images_ignore_folder(dataset, ignore_folder):\n",
    "    count = 0\n",
    "    for img_path, label in dataset.samples:\n",
    "        # Skip if the image path contains the ignore_folder\n",
    "        if ignore_folder not in img_path.split(\"/\"):\n",
    "            count += 1\n",
    "    return count\n",
    "\n",
    "train_count = count_images_ignore_folder(train_ds, ignore_folder)\n",
    "val_count   = count_images_ignore_folder(val_ds, ignore_folder)\n",
    "test_count  = count_images_ignore_folder(test_ds, ignore_folder)\n",
    "\n",
    "total_count = train_count + val_count + test_count\n",
    "\n",
    "print(\"Training images (excluding '{}'): {}\".format(ignore_folder, train_count))\n",
    "print(\"Validation images (excluding '{}'): {}\".format(ignore_folder, val_count))\n",
    "print(\"Test images (excluding '{}'): {}\".format(ignore_folder, test_count))\n",
    "print(\"Total images (excluding '{}'): {}\".format(ignore_folder, total_count))\n"
   ]
  },
  {
   "cell_type": "code",
   "execution_count": 4,
   "id": "eb00cb15",
   "metadata": {
    "execution": {
     "iopub.execute_input": "2025-09-11T12:09:46.328237Z",
     "iopub.status.busy": "2025-09-11T12:09:46.328037Z",
     "iopub.status.idle": "2025-09-11T12:09:46.335757Z",
     "shell.execute_reply": "2025-09-11T12:09:46.335073Z"
    },
    "papermill": {
     "duration": 0.01165,
     "end_time": "2025-09-11T12:09:46.336801",
     "exception": false,
     "start_time": "2025-09-11T12:09:46.325151",
     "status": "completed"
    },
    "tags": []
   },
   "outputs": [
    {
     "name": "stdout",
     "output_type": "stream",
     "text": [
      "Training folders considered: {'chromatic_aberration', 'low_resolution', 'original', 'blur', 'lens_flare', 'motion_blur', 'dirty_lens', 'gaussian_noise', 'random_occlusion'}\n",
      "Validation folders considered: {'chromatic_aberration', 'low_resolution', 'original', 'blur', 'lens_flare', 'motion_blur', 'dirty_lens', 'gaussian_noise', 'random_occlusion'}\n",
      "Test folders considered: {'chromatic_aberration', 'low_resolution', 'original', 'blur', 'lens_flare', 'motion_blur', 'dirty_lens', 'gaussian_noise', 'random_occlusion'}\n"
     ]
    }
   ],
   "source": [
    "ignore_folder = \"random_occlusionw\"\n",
    "\n",
    "def get_included_folders(dataset, ignore_folder):\n",
    "    included = set()\n",
    "    for img_path, label in dataset.samples:\n",
    "        # Split the path into parts and ignore if ignore_folder is in the path\n",
    "        if ignore_folder not in img_path.split(\"/\"):\n",
    "            # The folder name just above the image (or the class folder)\n",
    "            folder_name = img_path.split(\"/\")[-2]\n",
    "            included.add(folder_name)\n",
    "    return included\n",
    "\n",
    "train_folders = get_included_folders(train_ds, ignore_folder)\n",
    "val_folders   = get_included_folders(val_ds, ignore_folder)\n",
    "test_folders  = get_included_folders(test_ds, ignore_folder)\n",
    "\n",
    "print(\"Training folders considered:\", train_folders)\n",
    "print(\"Validation folders considered:\", val_folders)\n",
    "print(\"Test folders considered:\", test_folders)\n"
   ]
  },
  {
   "cell_type": "code",
   "execution_count": 5,
   "id": "74a70903",
   "metadata": {
    "execution": {
     "iopub.execute_input": "2025-09-11T12:09:46.342411Z",
     "iopub.status.busy": "2025-09-11T12:09:46.342168Z",
     "iopub.status.idle": "2025-09-11T12:09:46.420708Z",
     "shell.execute_reply": "2025-09-11T12:09:46.420050Z"
    },
    "papermill": {
     "duration": 0.082436,
     "end_time": "2025-09-11T12:09:46.421688",
     "exception": false,
     "start_time": "2025-09-11T12:09:46.339252",
     "status": "completed"
    },
    "tags": []
   },
   "outputs": [
    {
     "name": "stdout",
     "output_type": "stream",
     "text": [
      "Classes: ['boundary_save', 'catching_a_ball', 'diving_stop', 'run_out', 'stumping']\n",
      "Final Training images: 1704\n",
      "Final Validation images: 448\n",
      "Final Test images: 560\n",
      "Total images after filtering: 2712\n"
     ]
    }
   ],
   "source": [
    "ignore_folder = \"random_occlusion\"\n",
    "\n",
    "def filter_samples(dataset, ignore_folder):\n",
    "    # Keep only samples where ignore_folder is NOT in the path\n",
    "    filtered_samples = [s for s in dataset.samples if ignore_folder not in s[0].split(\"/\")]\n",
    "    dataset.samples = filtered_samples\n",
    "    dataset.targets = [s[1] for s in filtered_samples]  # Update targets accordingly\n",
    "    return dataset\n",
    "\n",
    "# Create original datasets\n",
    "train_ds = datasets.ImageFolder(f\"{data_dir}/train/Fielding\", transform=transform)\n",
    "val_ds   = datasets.ImageFolder(f\"{data_dir}/val/Fielding\", transform=transform)\n",
    "test_ds  = datasets.ImageFolder(f\"{data_dir}/test/Fielding\", transform=transform)\n",
    "\n",
    "# Filter out 'random_occlusion' folder\n",
    "train_ds = filter_samples(train_ds, ignore_folder)\n",
    "val_ds   = filter_samples(val_ds, ignore_folder)\n",
    "test_ds  = filter_samples(test_ds, ignore_folder)\n",
    "\n",
    "# DataLoaders\n",
    "train_loader = DataLoader(train_ds, batch_size=32, shuffle=True)\n",
    "val_loader   = DataLoader(val_ds, batch_size=32, shuffle=False)\n",
    "test_loader  = DataLoader(test_ds, batch_size=32, shuffle=False)\n",
    "\n",
    "# Classes (will remain the same)\n",
    "classes = train_ds.classes\n",
    "print(\"Classes:\", classes)\n",
    "\n",
    "# Show counts\n",
    "print(\"Final Training images:\", len(train_ds))\n",
    "print(\"Final Validation images:\", len(val_ds))\n",
    "print(\"Final Test images:\", len(test_ds))\n",
    "print(\"Total images after filtering:\", len(train_ds) + len(val_ds) + len(test_ds))\n"
   ]
  },
  {
   "cell_type": "code",
   "execution_count": 6,
   "id": "a0b27703",
   "metadata": {
    "execution": {
     "iopub.execute_input": "2025-09-11T12:09:46.427300Z",
     "iopub.status.busy": "2025-09-11T12:09:46.427127Z",
     "iopub.status.idle": "2025-09-11T12:09:46.434447Z",
     "shell.execute_reply": "2025-09-11T12:09:46.433827Z"
    },
    "papermill": {
     "duration": 0.011264,
     "end_time": "2025-09-11T12:09:46.435433",
     "exception": false,
     "start_time": "2025-09-11T12:09:46.424169",
     "status": "completed"
    },
    "tags": []
   },
   "outputs": [
    {
     "name": "stdout",
     "output_type": "stream",
     "text": [
      "Training folders considered: {'chromatic_aberration', 'low_resolution', 'original', 'blur', 'lens_flare', 'motion_blur', 'dirty_lens', 'gaussian_noise'}\n",
      "Validation folders considered: {'chromatic_aberration', 'low_resolution', 'original', 'blur', 'lens_flare', 'motion_blur', 'dirty_lens', 'gaussian_noise'}\n",
      "Test folders considered: {'chromatic_aberration', 'low_resolution', 'original', 'blur', 'lens_flare', 'motion_blur', 'dirty_lens', 'gaussian_noise'}\n"
     ]
    }
   ],
   "source": [
    "ignore_folder = \"random_occlusion\"\n",
    "\n",
    "def get_included_folders(dataset, ignore_folder):\n",
    "    included = set()\n",
    "    for img_path, label in dataset.samples:\n",
    "        # Split the path into parts and ignore if ignore_folder is in the path\n",
    "        if ignore_folder not in img_path.split(\"/\"):\n",
    "            # The folder name just above the image (or the class folder)\n",
    "            folder_name = img_path.split(\"/\")[-2]\n",
    "            included.add(folder_name)\n",
    "    return included\n",
    "\n",
    "train_folders = get_included_folders(train_ds, ignore_folder)\n",
    "val_folders   = get_included_folders(val_ds, ignore_folder)\n",
    "test_folders  = get_included_folders(test_ds, ignore_folder)\n",
    "\n",
    "print(\"Training folders considered:\", train_folders)\n",
    "print(\"Validation folders considered:\", val_folders)\n",
    "print(\"Test folders considered:\", test_folders)\n"
   ]
  },
  {
   "cell_type": "code",
   "execution_count": 7,
   "id": "a4bb6f52",
   "metadata": {
    "execution": {
     "iopub.execute_input": "2025-09-11T12:09:46.441439Z",
     "iopub.status.busy": "2025-09-11T12:09:46.441216Z",
     "iopub.status.idle": "2025-09-11T12:09:50.072374Z",
     "shell.execute_reply": "2025-09-11T12:09:50.071606Z"
    },
    "papermill": {
     "duration": 3.635601,
     "end_time": "2025-09-11T12:09:50.073529",
     "exception": false,
     "start_time": "2025-09-11T12:09:46.437928",
     "status": "completed"
    },
    "tags": []
   },
   "outputs": [
    {
     "name": "stdout",
     "output_type": "stream",
     "text": [
      "🔄 Loading and filtering datasets for Xception (scratch training)...\n",
      "✅ Classes: ['Batting', 'Bowling', 'Fielding', 'Umpire']\n",
      "📊 Dataset Statistics:\n",
      "│ Training images: 9928\n",
      "│ Validation images: 2576\n",
      "│ Test images: 3224\n",
      "│ Total images (after filtering): 15728\n",
      "│ Excluded folder: 'random_occlusion'\n",
      "│ Number of classes: 4\n",
      "Using device: cuda\n",
      "🔄 Creating Xception model from scratch...\n",
      "✅ Model created with 4 output classes\n",
      "📊 Total parameters: 20,815,148\n",
      "📊 Trainable parameters: 20,815,148\n",
      "📋 Model Architecture:\n",
      "│ Input size: (3, 299, 299)\n",
      "│ Xception features: 2048\n",
      "│ Output classes: 4\n",
      "│ Training: From scratch (no pretrained weights)\n",
      "│ Data augmentation: Enabled for robust training\n"
     ]
    }
   ],
   "source": [
    "import torch\n",
    "import torch.nn as nn\n",
    "import torch.nn.functional as F\n",
    "import torch.optim as optim\n",
    "from torch.utils.data import DataLoader\n",
    "from torchvision import datasets, transforms\n",
    "import matplotlib.pyplot as plt\n",
    "from sklearn.metrics import classification_report, confusion_matrix, accuracy_score\n",
    "import seaborn as sns\n",
    "import numpy as np\n",
    "import pandas as pd\n",
    "from tqdm import tqdm\n",
    "import time\n",
    "import os\n",
    "import tempfile\n",
    "\n",
    "# -----------------------------\n",
    "# 1. Fixed Xception Architecture from Scratch\n",
    "# -----------------------------\n",
    "\n",
    "class SeparableConv2d(nn.Module):\n",
    "    \"\"\"Depthwise Separable Convolution - Core of Xception\"\"\"\n",
    "    def __init__(self, in_channels, out_channels, kernel_size=3, stride=1, padding=1, bias=False):\n",
    "        super(SeparableConv2d, self).__init__()\n",
    "        # Depthwise convolution\n",
    "        self.depthwise = nn.Conv2d(in_channels, in_channels, kernel_size=kernel_size,\n",
    "                                   stride=stride, padding=padding, groups=in_channels, bias=bias)\n",
    "        # Pointwise convolution\n",
    "        self.pointwise = nn.Conv2d(in_channels, out_channels, kernel_size=1, bias=bias)\n",
    "\n",
    "    def forward(self, x):\n",
    "        x = self.depthwise(x)\n",
    "        x = self.pointwise(x)\n",
    "        return x\n",
    "\n",
    "class XceptionBlock(nn.Module):\n",
    "    \"\"\"Fixed Xception Block with skip connections\"\"\"\n",
    "    def __init__(self, in_channels, out_channels, reps, stride=1, start_with_relu=True, grow_first=True):\n",
    "        super(XceptionBlock, self).__init__()\n",
    "        \n",
    "        # Skip connection if needed\n",
    "        self.skip = None\n",
    "        if out_channels != in_channels or stride != 1:\n",
    "            self.skip = nn.Conv2d(in_channels, out_channels, 1, stride=stride, bias=False)\n",
    "            self.skipbn = nn.BatchNorm2d(out_channels)\n",
    "        \n",
    "        rep = []\n",
    "        filters = in_channels\n",
    "        \n",
    "        if grow_first:\n",
    "            rep.append(nn.ReLU(inplace=False))  # FIXED: inplace=False\n",
    "            rep.append(SeparableConv2d(in_channels, out_channels, 3, stride=1, padding=1))\n",
    "            rep.append(nn.BatchNorm2d(out_channels))\n",
    "            filters = out_channels\n",
    "\n",
    "        for i in range(reps - 1):\n",
    "            rep.append(nn.ReLU(inplace=False))  # FIXED: inplace=False\n",
    "            rep.append(SeparableConv2d(filters, filters, 3, stride=1, padding=1))\n",
    "            rep.append(nn.BatchNorm2d(filters))\n",
    "\n",
    "        if not grow_first:\n",
    "            rep.append(nn.ReLU(inplace=False))  # FIXED: inplace=False\n",
    "            rep.append(SeparableConv2d(in_channels, out_channels, 3, stride=1, padding=1))\n",
    "            rep.append(nn.BatchNorm2d(out_channels))\n",
    "\n",
    "        if stride != 1:\n",
    "            rep.append(nn.MaxPool2d(3, stride=stride, padding=1))\n",
    "        \n",
    "        self.rep = nn.Sequential(*rep)\n",
    "\n",
    "    def forward(self, x):\n",
    "        output = self.rep(x)\n",
    "        \n",
    "        if self.skip is not None:\n",
    "            skip = self.skip(x)\n",
    "            skip = self.skipbn(skip)\n",
    "        else:\n",
    "            skip = x\n",
    "        \n",
    "        output += skip\n",
    "        return output\n",
    "\n",
    "class Xception(nn.Module):\n",
    "    \"\"\"Fixed Xception Network Architecture from Scratch\"\"\"\n",
    "    def __init__(self, num_classes=1000):\n",
    "        super(Xception, self).__init__()\n",
    "        \n",
    "        # Entry Flow\n",
    "        self.conv1 = nn.Conv2d(3, 32, 3, stride=2, padding=1, bias=False)\n",
    "        self.bn1 = nn.BatchNorm2d(32)\n",
    "        self.relu = nn.ReLU(inplace=False)  # FIXED: inplace=False\n",
    "        \n",
    "        self.conv2 = nn.Conv2d(32, 64, 3, bias=False, padding=1)  # FIXED: added padding\n",
    "        self.bn2 = nn.BatchNorm2d(64)\n",
    "        \n",
    "        self.block1 = XceptionBlock(64, 128, 2, stride=2, start_with_relu=False, grow_first=True)\n",
    "        self.block2 = XceptionBlock(128, 256, 2, stride=2, start_with_relu=True, grow_first=True)\n",
    "        self.block3 = XceptionBlock(256, 728, 2, stride=2, start_with_relu=True, grow_first=True)\n",
    "        \n",
    "        # Middle Flow (repeated 8 times)\n",
    "        self.block4 = XceptionBlock(728, 728, 3, stride=1, start_with_relu=True, grow_first=True)\n",
    "        self.block5 = XceptionBlock(728, 728, 3, stride=1, start_with_relu=True, grow_first=True)\n",
    "        self.block6 = XceptionBlock(728, 728, 3, stride=1, start_with_relu=True, grow_first=True)\n",
    "        self.block7 = XceptionBlock(728, 728, 3, stride=1, start_with_relu=True, grow_first=True)\n",
    "        self.block8 = XceptionBlock(728, 728, 3, stride=1, start_with_relu=True, grow_first=True)\n",
    "        self.block9 = XceptionBlock(728, 728, 3, stride=1, start_with_relu=True, grow_first=True)\n",
    "        self.block10 = XceptionBlock(728, 728, 3, stride=1, start_with_relu=True, grow_first=True)\n",
    "        self.block11 = XceptionBlock(728, 728, 3, stride=1, start_with_relu=True, grow_first=True)\n",
    "        \n",
    "        # Exit Flow\n",
    "        self.block12 = XceptionBlock(728, 1024, 2, stride=2, start_with_relu=True, grow_first=False)\n",
    "        \n",
    "        self.conv3 = SeparableConv2d(1024, 1536, 3, stride=1, padding=1)\n",
    "        self.bn3 = nn.BatchNorm2d(1536)\n",
    "        \n",
    "        self.conv4 = SeparableConv2d(1536, 2048, 3, stride=1, padding=1)\n",
    "        self.bn4 = nn.BatchNorm2d(2048)\n",
    "        \n",
    "        # Final layers\n",
    "        self.avgpool = nn.AdaptiveAvgPool2d((1, 1))\n",
    "        self.dropout = nn.Dropout(0.5)\n",
    "        self.fc = nn.Linear(2048, num_classes)\n",
    "        \n",
    "        # Weight initialization\n",
    "        self._initialize_weights()\n",
    "\n",
    "    def _initialize_weights(self):\n",
    "        \"\"\"Initialize weights using Xavier/He initialization\"\"\"\n",
    "        for m in self.modules():\n",
    "            if isinstance(m, nn.Conv2d):\n",
    "                nn.init.kaiming_normal_(m.weight, mode='fan_out', nonlinearity='relu')\n",
    "                if m.bias is not None:\n",
    "                    nn.init.constant_(m.bias, 0)\n",
    "            elif isinstance(m, nn.BatchNorm2d):\n",
    "                nn.init.constant_(m.weight, 1)\n",
    "                nn.init.constant_(m.bias, 0)\n",
    "            elif isinstance(m, nn.Linear):\n",
    "                nn.init.normal_(m.weight, 0, 0.01)\n",
    "                nn.init.constant_(m.bias, 0)\n",
    "\n",
    "    def forward(self, x):\n",
    "        # Entry Flow\n",
    "        x = self.conv1(x)\n",
    "        x = self.bn1(x)\n",
    "        x = self.relu(x)\n",
    "        \n",
    "        x = self.conv2(x)\n",
    "        x = self.bn2(x)\n",
    "        x = self.relu(x)\n",
    "        \n",
    "        x = self.block1(x)\n",
    "        x = self.block2(x)\n",
    "        x = self.block3(x)\n",
    "        \n",
    "        # Middle Flow\n",
    "        x = self.block4(x)\n",
    "        x = self.block5(x)\n",
    "        x = self.block6(x)\n",
    "        x = self.block7(x)\n",
    "        x = self.block8(x)\n",
    "        x = self.block9(x)\n",
    "        x = self.block10(x)\n",
    "        x = self.block11(x)\n",
    "        \n",
    "        # Exit Flow\n",
    "        x = self.block12(x)\n",
    "        \n",
    "        x = self.conv3(x)\n",
    "        x = self.bn3(x)\n",
    "        x = self.relu(x)\n",
    "        \n",
    "        x = self.conv4(x)\n",
    "        x = self.bn4(x)\n",
    "        x = self.relu(x)\n",
    "        \n",
    "        # Final classification\n",
    "        x = self.avgpool(x)\n",
    "        x = torch.flatten(x, 1)\n",
    "        x = self.dropout(x)\n",
    "        x = self.fc(x)\n",
    "        \n",
    "        return x\n",
    "\n",
    "# -----------------------------\n",
    "# 2. Data Preprocessing with Filtering (Xception - 299x299)\n",
    "# -----------------------------\n",
    "data_dir = \"/kaggle/input/ju-cricket/Cricket_Dataset_final/Task_B\"\n",
    "\n",
    "# Xception training from scratch - with data augmentation\n",
    "transform_train = transforms.Compose([\n",
    "    transforms.Resize((299, 299)),\n",
    "    transforms.RandomHorizontalFlip(p=0.5),  # Data augmentation for scratch training\n",
    "    transforms.RandomRotation(10),\n",
    "    transforms.ColorJitter(brightness=0.2, contrast=0.2, saturation=0.2, hue=0.1),\n",
    "    transforms.ToTensor(),\n",
    "    transforms.Normalize([0.485, 0.456, 0.406], [0.229, 0.224, 0.225])  # ImageNet stats\n",
    "])\n",
    "\n",
    "transform_val_test = transforms.Compose([\n",
    "    transforms.Resize((299, 299)),\n",
    "    transforms.ToTensor(),\n",
    "    transforms.Normalize([0.485, 0.456, 0.406], [0.229, 0.224, 0.225])\n",
    "])\n",
    "\n",
    "ignore_folder = \"random_occlusion\"\n",
    "\n",
    "def filter_samples(dataset, ignore_folder):\n",
    "    \"\"\"Filter out samples containing the ignore_folder in their path\"\"\"\n",
    "    filtered_samples = [s for s in dataset.samples if ignore_folder not in s[0].split(\"/\")]\n",
    "    dataset.samples = filtered_samples\n",
    "    dataset.targets = [s[1] for s in filtered_samples]\n",
    "    return dataset\n",
    "\n",
    "# Create and filter datasets\n",
    "print(\"🔄 Loading and filtering datasets for Xception (scratch training)...\")\n",
    "train_ds = datasets.ImageFolder(f\"{data_dir}/train\", transform=transform_train)\n",
    "val_ds   = datasets.ImageFolder(f\"{data_dir}/val\", transform=transform_val_test)\n",
    "test_ds  = datasets.ImageFolder(f\"{data_dir}/test\", transform=transform_val_test)\n",
    "\n",
    "# Apply filtering\n",
    "train_ds = filter_samples(train_ds, ignore_folder)\n",
    "val_ds   = filter_samples(val_ds, ignore_folder)\n",
    "test_ds  = filter_samples(test_ds, ignore_folder)\n",
    "\n",
    "# Create DataLoaders\n",
    "train_loader = DataLoader(train_ds, batch_size=32, shuffle=True)  # Smaller batch for scratch training\n",
    "val_loader   = DataLoader(val_ds, batch_size=32, shuffle=False)\n",
    "test_loader  = DataLoader(test_ds, batch_size=32, shuffle=False)\n",
    "\n",
    "# Display information\n",
    "classes = train_ds.classes\n",
    "print(f\"✅ Classes: {classes}\")\n",
    "print(f\"📊 Dataset Statistics:\")\n",
    "print(f\"│ Training images: {len(train_ds)}\")\n",
    "print(f\"│ Validation images: {len(val_ds)}\")\n",
    "print(f\"│ Test images: {len(test_ds)}\")\n",
    "print(f\"│ Total images (after filtering): {len(train_ds) + len(val_ds) + len(test_ds)}\")\n",
    "print(f\"│ Excluded folder: '{ignore_folder}'\")\n",
    "print(f\"│ Number of classes: {len(classes)}\")\n",
    "\n",
    "# -----------------------------\n",
    "# 3. Model Setup for Scratch Training\n",
    "# -----------------------------\n",
    "device = torch.device('cuda' if torch.cuda.is_available() else 'cpu')\n",
    "print(f\"Using device: {device}\")\n",
    "\n",
    "# Create Xception model from scratch\n",
    "print(\"🔄 Creating Xception model from scratch...\")\n",
    "model = Xception(num_classes=len(classes))\n",
    "model = model.to(device)\n",
    "\n",
    "print(f\"✅ Model created with {len(classes)} output classes\")\n",
    "\n",
    "# Calculate model parameters and size\n",
    "total_params = sum(p.numel() for p in model.parameters())\n",
    "trainable_params = sum(p.numel() for p in model.parameters() if p.requires_grad)\n",
    "\n",
    "print(f\"📊 Total parameters: {total_params:,}\")\n",
    "print(f\"📊 Trainable parameters: {trainable_params:,}\")\n",
    "print(f\"📋 Model Architecture:\")\n",
    "print(f\"│ Input size: (3, 299, 299)\")\n",
    "print(f\"│ Xception features: 2048\")\n",
    "print(f\"│ Output classes: {len(classes)}\")\n",
    "print(f\"│ Training: From scratch (no pretrained weights)\")\n",
    "print(f\"│ Data augmentation: Enabled for robust training\")"
   ]
  },
  {
   "cell_type": "code",
   "execution_count": 8,
   "id": "c7b89a08",
   "metadata": {
    "execution": {
     "iopub.execute_input": "2025-09-11T12:09:50.080659Z",
     "iopub.status.busy": "2025-09-11T12:09:50.080443Z",
     "iopub.status.idle": "2025-09-11T19:42:27.215054Z",
     "shell.execute_reply": "2025-09-11T19:42:27.214367Z"
    },
    "papermill": {
     "duration": 27157.141236,
     "end_time": "2025-09-11T19:42:27.217801",
     "exception": false,
     "start_time": "2025-09-11T12:09:50.076565",
     "status": "completed"
    },
    "tags": []
   },
   "outputs": [
    {
     "name": "stdout",
     "output_type": "stream",
     "text": [
      "\n",
      "📋 Training Configuration:\n",
      "│ Model: Xception (from scratch)\n",
      "│ Optimizer: Adam (lr=0.001)\n",
      "│ Weight Decay: 1e-4\n",
      "│ Loss Function: CrossEntropyLoss\n",
      "│ Batch Size: 16\n",
      "│ LR Scheduler: StepLR (decay every 10 epochs)\n",
      "│ Device: cuda\n",
      "│ Data: Filtered + Augmented\n",
      "\n",
      "🚀 Starting Xception Training from Scratch for 50 epochs...\n",
      "================================================================================\n",
      "\n",
      "📈 Epoch 1/50\n",
      "Current LR: 1.00e-03\n",
      "--------------------------------------------------\n",
      "🔄 Training Phase...\n"
     ]
    },
    {
     "name": "stderr",
     "output_type": "stream",
     "text": [
      "Training: 100%|██████████████████████████████| 311/311 [08:33<00:00,  1.65s/it, Loss=1.1390, Acc=0.5183, GPU=0.3GB]\n"
     ]
    },
    {
     "name": "stdout",
     "output_type": "stream",
     "text": [
      "✅ Training completed in 513.20s\n",
      "🔍 Validation Phase...\n"
     ]
    },
    {
     "name": "stderr",
     "output_type": "stream",
     "text": [
      "Validation: 100%|██████████████████████████████| 81/81 [00:50<00:00,  1.59it/s, Loss=1.1206, Acc=0.5532]\n"
     ]
    },
    {
     "name": "stdout",
     "output_type": "stream",
     "text": [
      "✅ Validation completed in 50.93s\n",
      "🌟 New best model found! Validation Accuracy: 0.5532\n",
      "\n",
      "📊 Epoch 1 Summary:\n",
      "│ Train Loss: 1.1390 | Train Acc: 0.5183\n",
      "│ Val Loss:   1.1206 | Val Acc:   0.5532\n",
      "│ Train Time: 513.20s | Val Time: 50.93s\n",
      "│ Total Epoch Time: 564.14s\n",
      "│ Best Val Acc: 0.5532 (Epoch 1)\n",
      "│ GPU Memory: 0.3GB / 9.0GB\n",
      "================================================================================\n",
      "\n",
      "📈 Epoch 2/50\n",
      "Current LR: 1.00e-03\n",
      "--------------------------------------------------\n",
      "🔄 Training Phase...\n"
     ]
    },
    {
     "name": "stderr",
     "output_type": "stream",
     "text": [
      "Training: 100%|██████████████████████████████| 311/311 [08:14<00:00,  1.59s/it, Loss=1.0315, Acc=0.5734, GPU=0.3GB]\n"
     ]
    },
    {
     "name": "stdout",
     "output_type": "stream",
     "text": [
      "✅ Training completed in 494.54s\n",
      "🔍 Validation Phase...\n"
     ]
    },
    {
     "name": "stderr",
     "output_type": "stream",
     "text": [
      "Validation: 100%|██████████████████████████████| 81/81 [00:44<00:00,  1.81it/s, Loss=1.0824, Acc=0.5656]\n"
     ]
    },
    {
     "name": "stdout",
     "output_type": "stream",
     "text": [
      "✅ Validation completed in 44.76s\n",
      "🌟 New best model found! Validation Accuracy: 0.5656\n",
      "\n",
      "📊 Epoch 2 Summary:\n",
      "│ Train Loss: 1.0315 | Train Acc: 0.5734\n",
      "│ Val Loss:   1.0824 | Val Acc:   0.5656\n",
      "│ Train Time: 494.54s | Val Time: 44.76s\n",
      "│ Total Epoch Time: 539.31s\n",
      "│ Best Val Acc: 0.5656 (Epoch 2)\n",
      "│ GPU Memory: 0.3GB / 9.0GB\n",
      "================================================================================\n",
      "\n",
      "📈 Epoch 3/50\n",
      "Current LR: 1.00e-03\n",
      "--------------------------------------------------\n",
      "🔄 Training Phase...\n"
     ]
    },
    {
     "name": "stderr",
     "output_type": "stream",
     "text": [
      "Training: 100%|██████████████████████████████| 311/311 [08:14<00:00,  1.59s/it, Loss=0.9273, Acc=0.6234, GPU=0.3GB]\n"
     ]
    },
    {
     "name": "stdout",
     "output_type": "stream",
     "text": [
      "✅ Training completed in 494.94s\n",
      "🔍 Validation Phase...\n"
     ]
    },
    {
     "name": "stderr",
     "output_type": "stream",
     "text": [
      "Validation: 100%|██████████████████████████████| 81/81 [00:44<00:00,  1.81it/s, Loss=1.0715, Acc=0.5951]\n"
     ]
    },
    {
     "name": "stdout",
     "output_type": "stream",
     "text": [
      "✅ Validation completed in 44.71s\n",
      "🌟 New best model found! Validation Accuracy: 0.5951\n",
      "\n",
      "📊 Epoch 3 Summary:\n",
      "│ Train Loss: 0.9273 | Train Acc: 0.6234\n",
      "│ Val Loss:   1.0715 | Val Acc:   0.5951\n",
      "│ Train Time: 494.94s | Val Time: 44.71s\n",
      "│ Total Epoch Time: 539.66s\n",
      "│ Best Val Acc: 0.5951 (Epoch 3)\n",
      "│ GPU Memory: 0.3GB / 9.0GB\n",
      "================================================================================\n",
      "\n",
      "📈 Epoch 4/50\n",
      "Current LR: 1.00e-03\n",
      "--------------------------------------------------\n",
      "🔄 Training Phase...\n"
     ]
    },
    {
     "name": "stderr",
     "output_type": "stream",
     "text": [
      "Training: 100%|██████████████████████████████| 311/311 [08:13<00:00,  1.59s/it, Loss=0.8062, Acc=0.6681, GPU=0.3GB]\n"
     ]
    },
    {
     "name": "stdout",
     "output_type": "stream",
     "text": [
      "✅ Training completed in 493.22s\n",
      "🔍 Validation Phase...\n"
     ]
    },
    {
     "name": "stderr",
     "output_type": "stream",
     "text": [
      "Validation: 100%|██████████████████████████████| 81/81 [00:44<00:00,  1.82it/s, Loss=1.2679, Acc=0.5734]\n"
     ]
    },
    {
     "name": "stdout",
     "output_type": "stream",
     "text": [
      "✅ Validation completed in 44.47s\n",
      "\n",
      "📊 Epoch 4 Summary:\n",
      "│ Train Loss: 0.8062 | Train Acc: 0.6681\n",
      "│ Val Loss:   1.2679 | Val Acc:   0.5734\n",
      "│ Train Time: 493.22s | Val Time: 44.47s\n",
      "│ Total Epoch Time: 537.69s\n",
      "│ Best Val Acc: 0.5951 (Epoch 3)\n",
      "│ GPU Memory: 0.3GB / 9.0GB\n",
      "================================================================================\n",
      "\n",
      "📈 Epoch 5/50\n",
      "Current LR: 1.00e-03\n",
      "--------------------------------------------------\n",
      "🔄 Training Phase...\n"
     ]
    },
    {
     "name": "stderr",
     "output_type": "stream",
     "text": [
      "Training: 100%|██████████████████████████████| 311/311 [08:14<00:00,  1.59s/it, Loss=0.7298, Acc=0.7106, GPU=0.3GB]\n"
     ]
    },
    {
     "name": "stdout",
     "output_type": "stream",
     "text": [
      "✅ Training completed in 494.02s\n",
      "🔍 Validation Phase...\n"
     ]
    },
    {
     "name": "stderr",
     "output_type": "stream",
     "text": [
      "Validation: 100%|██████████████████████████████| 81/81 [00:44<00:00,  1.81it/s, Loss=0.9188, Acc=0.6231]\n"
     ]
    },
    {
     "name": "stdout",
     "output_type": "stream",
     "text": [
      "✅ Validation completed in 44.74s\n",
      "🌟 New best model found! Validation Accuracy: 0.6231\n",
      "\n",
      "📊 Epoch 5 Summary:\n",
      "│ Train Loss: 0.7298 | Train Acc: 0.7106\n",
      "│ Val Loss:   0.9188 | Val Acc:   0.6231\n",
      "│ Train Time: 494.02s | Val Time: 44.74s\n",
      "│ Total Epoch Time: 538.77s\n",
      "│ Best Val Acc: 0.6231 (Epoch 5)\n",
      "│ GPU Memory: 0.3GB / 9.0GB\n",
      "================================================================================\n",
      "\n",
      "📈 Epoch 6/50\n",
      "Current LR: 1.00e-03\n",
      "--------------------------------------------------\n",
      "🔄 Training Phase...\n"
     ]
    },
    {
     "name": "stderr",
     "output_type": "stream",
     "text": [
      "Training: 100%|██████████████████████████████| 311/311 [08:16<00:00,  1.60s/it, Loss=0.6428, Acc=0.7440, GPU=0.3GB]\n"
     ]
    },
    {
     "name": "stdout",
     "output_type": "stream",
     "text": [
      "✅ Training completed in 496.26s\n",
      "🔍 Validation Phase...\n"
     ]
    },
    {
     "name": "stderr",
     "output_type": "stream",
     "text": [
      "Validation: 100%|██████████████████████████████| 81/81 [00:45<00:00,  1.78it/s, Loss=0.9085, Acc=0.6689]\n"
     ]
    },
    {
     "name": "stdout",
     "output_type": "stream",
     "text": [
      "✅ Validation completed in 45.45s\n",
      "🌟 New best model found! Validation Accuracy: 0.6689\n",
      "\n",
      "📊 Epoch 6 Summary:\n",
      "│ Train Loss: 0.6428 | Train Acc: 0.7440\n",
      "│ Val Loss:   0.9085 | Val Acc:   0.6689\n",
      "│ Train Time: 496.26s | Val Time: 45.45s\n",
      "│ Total Epoch Time: 541.71s\n",
      "│ Best Val Acc: 0.6689 (Epoch 6)\n",
      "│ GPU Memory: 0.3GB / 9.0GB\n",
      "================================================================================\n",
      "\n",
      "📈 Epoch 7/50\n",
      "Current LR: 1.00e-03\n",
      "--------------------------------------------------\n",
      "🔄 Training Phase...\n"
     ]
    },
    {
     "name": "stderr",
     "output_type": "stream",
     "text": [
      "Training: 100%|██████████████████████████████| 311/311 [08:13<00:00,  1.59s/it, Loss=0.5426, Acc=0.7910, GPU=0.3GB]\n"
     ]
    },
    {
     "name": "stdout",
     "output_type": "stream",
     "text": [
      "✅ Training completed in 493.15s\n",
      "🔍 Validation Phase...\n"
     ]
    },
    {
     "name": "stderr",
     "output_type": "stream",
     "text": [
      "Validation: 100%|██████████████████████████████| 81/81 [00:45<00:00,  1.79it/s, Loss=0.7182, Acc=0.7259]\n"
     ]
    },
    {
     "name": "stdout",
     "output_type": "stream",
     "text": [
      "✅ Validation completed in 45.27s\n",
      "🌟 New best model found! Validation Accuracy: 0.7259\n",
      "\n",
      "📊 Epoch 7 Summary:\n",
      "│ Train Loss: 0.5426 | Train Acc: 0.7910\n",
      "│ Val Loss:   0.7182 | Val Acc:   0.7259\n",
      "│ Train Time: 493.15s | Val Time: 45.27s\n",
      "│ Total Epoch Time: 538.43s\n",
      "│ Best Val Acc: 0.7259 (Epoch 7)\n",
      "│ GPU Memory: 0.3GB / 9.0GB\n",
      "================================================================================\n",
      "\n",
      "📈 Epoch 8/50\n",
      "Current LR: 1.00e-03\n",
      "--------------------------------------------------\n",
      "🔄 Training Phase...\n"
     ]
    },
    {
     "name": "stderr",
     "output_type": "stream",
     "text": [
      "Training: 100%|██████████████████████████████| 311/311 [08:13<00:00,  1.59s/it, Loss=0.4699, Acc=0.8228, GPU=0.3GB]\n"
     ]
    },
    {
     "name": "stdout",
     "output_type": "stream",
     "text": [
      "✅ Training completed in 493.51s\n",
      "🔍 Validation Phase...\n"
     ]
    },
    {
     "name": "stderr",
     "output_type": "stream",
     "text": [
      "Validation: 100%|██████████████████████████████| 81/81 [00:45<00:00,  1.79it/s, Loss=0.6664, Acc=0.7562]\n"
     ]
    },
    {
     "name": "stdout",
     "output_type": "stream",
     "text": [
      "✅ Validation completed in 45.30s\n",
      "🌟 New best model found! Validation Accuracy: 0.7562\n",
      "\n",
      "📊 Epoch 8 Summary:\n",
      "│ Train Loss: 0.4699 | Train Acc: 0.8228\n",
      "│ Val Loss:   0.6664 | Val Acc:   0.7562\n",
      "│ Train Time: 493.51s | Val Time: 45.30s\n",
      "│ Total Epoch Time: 538.81s\n",
      "│ Best Val Acc: 0.7562 (Epoch 8)\n",
      "│ GPU Memory: 0.3GB / 9.0GB\n",
      "================================================================================\n",
      "\n",
      "📈 Epoch 9/50\n",
      "Current LR: 1.00e-03\n",
      "--------------------------------------------------\n",
      "🔄 Training Phase...\n"
     ]
    },
    {
     "name": "stderr",
     "output_type": "stream",
     "text": [
      "Training: 100%|██████████████████████████████| 311/311 [08:12<00:00,  1.58s/it, Loss=0.3754, Acc=0.8599, GPU=0.3GB]\n"
     ]
    },
    {
     "name": "stdout",
     "output_type": "stream",
     "text": [
      "✅ Training completed in 492.84s\n",
      "🔍 Validation Phase...\n"
     ]
    },
    {
     "name": "stderr",
     "output_type": "stream",
     "text": [
      "Validation: 100%|██████████████████████████████| 81/81 [00:45<00:00,  1.80it/s, Loss=0.8454, Acc=0.7290]\n"
     ]
    },
    {
     "name": "stdout",
     "output_type": "stream",
     "text": [
      "✅ Validation completed in 45.01s\n",
      "\n",
      "📊 Epoch 9 Summary:\n",
      "│ Train Loss: 0.3754 | Train Acc: 0.8599\n",
      "│ Val Loss:   0.8454 | Val Acc:   0.7290\n",
      "│ Train Time: 492.84s | Val Time: 45.01s\n",
      "│ Total Epoch Time: 537.85s\n",
      "│ Best Val Acc: 0.7562 (Epoch 8)\n",
      "│ GPU Memory: 0.3GB / 9.0GB\n",
      "================================================================================\n",
      "\n",
      "📈 Epoch 10/50\n",
      "Current LR: 1.00e-03\n",
      "--------------------------------------------------\n",
      "🔄 Training Phase...\n"
     ]
    },
    {
     "name": "stderr",
     "output_type": "stream",
     "text": [
      "Training: 100%|██████████████████████████████| 311/311 [08:15<00:00,  1.59s/it, Loss=0.3284, Acc=0.8768, GPU=0.3GB]\n"
     ]
    },
    {
     "name": "stdout",
     "output_type": "stream",
     "text": [
      "✅ Training completed in 495.06s\n",
      "🔍 Validation Phase...\n"
     ]
    },
    {
     "name": "stderr",
     "output_type": "stream",
     "text": [
      "Validation: 100%|██████████████████████████████| 81/81 [00:44<00:00,  1.80it/s, Loss=0.6751, Acc=0.7554]\n"
     ]
    },
    {
     "name": "stdout",
     "output_type": "stream",
     "text": [
      "✅ Validation completed in 44.94s\n",
      "\n",
      "📊 Epoch 10 Summary:\n",
      "│ Train Loss: 0.3284 | Train Acc: 0.8768\n",
      "│ Val Loss:   0.6751 | Val Acc:   0.7554\n",
      "│ Train Time: 495.06s | Val Time: 44.94s\n",
      "│ Total Epoch Time: 540.00s\n",
      "│ Best Val Acc: 0.7562 (Epoch 8)\n",
      "│ GPU Memory: 0.3GB / 9.0GB\n",
      "================================================================================\n",
      "\n",
      "📈 Epoch 11/50\n",
      "Current LR: 1.00e-04\n",
      "--------------------------------------------------\n",
      "🔄 Training Phase...\n"
     ]
    },
    {
     "name": "stderr",
     "output_type": "stream",
     "text": [
      "Training: 100%|██████████████████████████████| 311/311 [08:12<00:00,  1.58s/it, Loss=0.1784, Acc=0.9360, GPU=0.3GB]\n"
     ]
    },
    {
     "name": "stdout",
     "output_type": "stream",
     "text": [
      "✅ Training completed in 492.42s\n",
      "🔍 Validation Phase...\n"
     ]
    },
    {
     "name": "stderr",
     "output_type": "stream",
     "text": [
      "Validation: 100%|██████████████████████████████| 81/81 [00:44<00:00,  1.81it/s, Loss=0.6131, Acc=0.7915]\n"
     ]
    },
    {
     "name": "stdout",
     "output_type": "stream",
     "text": [
      "✅ Validation completed in 44.67s\n",
      "🌟 New best model found! Validation Accuracy: 0.7915\n",
      "\n",
      "📊 Epoch 11 Summary:\n",
      "│ Train Loss: 0.1784 | Train Acc: 0.9360\n",
      "│ Val Loss:   0.6131 | Val Acc:   0.7915\n",
      "│ Train Time: 492.42s | Val Time: 44.67s\n",
      "│ Total Epoch Time: 537.10s\n",
      "│ Best Val Acc: 0.7915 (Epoch 11)\n",
      "│ GPU Memory: 0.3GB / 9.0GB\n",
      "================================================================================\n",
      "\n",
      "📈 Epoch 12/50\n",
      "Current LR: 1.00e-04\n",
      "--------------------------------------------------\n",
      "🔄 Training Phase...\n"
     ]
    },
    {
     "name": "stderr",
     "output_type": "stream",
     "text": [
      "Training: 100%|██████████████████████████████| 311/311 [08:09<00:00,  1.58s/it, Loss=0.1281, Acc=0.9570, GPU=0.3GB]\n"
     ]
    },
    {
     "name": "stdout",
     "output_type": "stream",
     "text": [
      "✅ Training completed in 489.91s\n",
      "🔍 Validation Phase...\n"
     ]
    },
    {
     "name": "stderr",
     "output_type": "stream",
     "text": [
      "Validation: 100%|██████████████████████████████| 81/81 [00:44<00:00,  1.82it/s, Loss=0.6329, Acc=0.7900]\n"
     ]
    },
    {
     "name": "stdout",
     "output_type": "stream",
     "text": [
      "✅ Validation completed in 44.61s\n",
      "\n",
      "📊 Epoch 12 Summary:\n",
      "│ Train Loss: 0.1281 | Train Acc: 0.9570\n",
      "│ Val Loss:   0.6329 | Val Acc:   0.7900\n",
      "│ Train Time: 489.91s | Val Time: 44.61s\n",
      "│ Total Epoch Time: 534.52s\n",
      "│ Best Val Acc: 0.7915 (Epoch 11)\n",
      "│ GPU Memory: 0.3GB / 9.0GB\n",
      "================================================================================\n",
      "\n",
      "📈 Epoch 13/50\n",
      "Current LR: 1.00e-04\n",
      "--------------------------------------------------\n",
      "🔄 Training Phase...\n"
     ]
    },
    {
     "name": "stderr",
     "output_type": "stream",
     "text": [
      "Training: 100%|██████████████████████████████| 311/311 [08:10<00:00,  1.58s/it, Loss=0.1088, Acc=0.9622, GPU=0.3GB]\n"
     ]
    },
    {
     "name": "stdout",
     "output_type": "stream",
     "text": [
      "✅ Training completed in 490.23s\n",
      "🔍 Validation Phase...\n"
     ]
    },
    {
     "name": "stderr",
     "output_type": "stream",
     "text": [
      "Validation: 100%|██████████████████████████████| 81/81 [00:44<00:00,  1.82it/s, Loss=0.6507, Acc=0.7993]\n"
     ]
    },
    {
     "name": "stdout",
     "output_type": "stream",
     "text": [
      "✅ Validation completed in 44.59s\n",
      "🌟 New best model found! Validation Accuracy: 0.7993\n",
      "\n",
      "📊 Epoch 13 Summary:\n",
      "│ Train Loss: 0.1088 | Train Acc: 0.9622\n",
      "│ Val Loss:   0.6507 | Val Acc:   0.7993\n",
      "│ Train Time: 490.23s | Val Time: 44.59s\n",
      "│ Total Epoch Time: 534.83s\n",
      "│ Best Val Acc: 0.7993 (Epoch 13)\n",
      "│ GPU Memory: 0.3GB / 9.0GB\n",
      "================================================================================\n",
      "\n",
      "📈 Epoch 14/50\n",
      "Current LR: 1.00e-04\n",
      "--------------------------------------------------\n",
      "🔄 Training Phase...\n"
     ]
    },
    {
     "name": "stderr",
     "output_type": "stream",
     "text": [
      "Training: 100%|██████████████████████████████| 311/311 [08:10<00:00,  1.58s/it, Loss=0.0967, Acc=0.9697, GPU=0.3GB]\n"
     ]
    },
    {
     "name": "stdout",
     "output_type": "stream",
     "text": [
      "✅ Training completed in 490.83s\n",
      "🔍 Validation Phase...\n"
     ]
    },
    {
     "name": "stderr",
     "output_type": "stream",
     "text": [
      "Validation: 100%|██████████████████████████████| 81/81 [00:44<00:00,  1.81it/s, Loss=0.6919, Acc=0.7927]\n"
     ]
    },
    {
     "name": "stdout",
     "output_type": "stream",
     "text": [
      "✅ Validation completed in 44.88s\n",
      "\n",
      "📊 Epoch 14 Summary:\n",
      "│ Train Loss: 0.0967 | Train Acc: 0.9697\n",
      "│ Val Loss:   0.6919 | Val Acc:   0.7927\n",
      "│ Train Time: 490.83s | Val Time: 44.88s\n",
      "│ Total Epoch Time: 535.71s\n",
      "│ Best Val Acc: 0.7993 (Epoch 13)\n",
      "│ GPU Memory: 0.3GB / 9.0GB\n",
      "================================================================================\n",
      "\n",
      "📈 Epoch 15/50\n",
      "Current LR: 1.00e-04\n",
      "--------------------------------------------------\n",
      "🔄 Training Phase...\n"
     ]
    },
    {
     "name": "stderr",
     "output_type": "stream",
     "text": [
      "Training: 100%|██████████████████████████████| 311/311 [08:10<00:00,  1.58s/it, Loss=0.0844, Acc=0.9746, GPU=0.3GB]\n"
     ]
    },
    {
     "name": "stdout",
     "output_type": "stream",
     "text": [
      "✅ Training completed in 490.79s\n",
      "🔍 Validation Phase...\n"
     ]
    },
    {
     "name": "stderr",
     "output_type": "stream",
     "text": [
      "Validation: 100%|██████████████████████████████| 81/81 [00:44<00:00,  1.81it/s, Loss=0.6926, Acc=0.8063]\n"
     ]
    },
    {
     "name": "stdout",
     "output_type": "stream",
     "text": [
      "✅ Validation completed in 44.65s\n",
      "🌟 New best model found! Validation Accuracy: 0.8063\n",
      "\n",
      "📊 Epoch 15 Summary:\n",
      "│ Train Loss: 0.0844 | Train Acc: 0.9746\n",
      "│ Val Loss:   0.6926 | Val Acc:   0.8063\n",
      "│ Train Time: 490.79s | Val Time: 44.65s\n",
      "│ Total Epoch Time: 535.45s\n",
      "│ Best Val Acc: 0.8063 (Epoch 15)\n",
      "│ GPU Memory: 0.3GB / 9.0GB\n",
      "================================================================================\n",
      "\n",
      "📈 Epoch 16/50\n",
      "Current LR: 1.00e-04\n",
      "--------------------------------------------------\n",
      "🔄 Training Phase...\n"
     ]
    },
    {
     "name": "stderr",
     "output_type": "stream",
     "text": [
      "Training: 100%|██████████████████████████████| 311/311 [08:17<00:00,  1.60s/it, Loss=0.0782, Acc=0.9757, GPU=0.3GB]\n"
     ]
    },
    {
     "name": "stdout",
     "output_type": "stream",
     "text": [
      "✅ Training completed in 497.85s\n",
      "🔍 Validation Phase...\n"
     ]
    },
    {
     "name": "stderr",
     "output_type": "stream",
     "text": [
      "Validation: 100%|██████████████████████████████| 81/81 [00:47<00:00,  1.71it/s, Loss=0.7140, Acc=0.7977]\n"
     ]
    },
    {
     "name": "stdout",
     "output_type": "stream",
     "text": [
      "✅ Validation completed in 47.41s\n",
      "\n",
      "📊 Epoch 16 Summary:\n",
      "│ Train Loss: 0.0782 | Train Acc: 0.9757\n",
      "│ Val Loss:   0.7140 | Val Acc:   0.7977\n",
      "│ Train Time: 497.85s | Val Time: 47.41s\n",
      "│ Total Epoch Time: 545.26s\n",
      "│ Best Val Acc: 0.8063 (Epoch 15)\n",
      "│ GPU Memory: 0.3GB / 9.0GB\n",
      "================================================================================\n",
      "\n",
      "📈 Epoch 17/50\n",
      "Current LR: 1.00e-04\n",
      "--------------------------------------------------\n",
      "🔄 Training Phase...\n"
     ]
    },
    {
     "name": "stderr",
     "output_type": "stream",
     "text": [
      "Training: 100%|██████████████████████████████| 311/311 [08:17<00:00,  1.60s/it, Loss=0.0675, Acc=0.9784, GPU=0.3GB]\n"
     ]
    },
    {
     "name": "stdout",
     "output_type": "stream",
     "text": [
      "✅ Training completed in 497.80s\n",
      "🔍 Validation Phase...\n"
     ]
    },
    {
     "name": "stderr",
     "output_type": "stream",
     "text": [
      "Validation: 100%|██████████████████████████████| 81/81 [00:47<00:00,  1.69it/s, Loss=0.7479, Acc=0.7884]\n"
     ]
    },
    {
     "name": "stdout",
     "output_type": "stream",
     "text": [
      "✅ Validation completed in 47.80s\n",
      "\n",
      "📊 Epoch 17 Summary:\n",
      "│ Train Loss: 0.0675 | Train Acc: 0.9784\n",
      "│ Val Loss:   0.7479 | Val Acc:   0.7884\n",
      "│ Train Time: 497.80s | Val Time: 47.80s\n",
      "│ Total Epoch Time: 545.60s\n",
      "│ Best Val Acc: 0.8063 (Epoch 15)\n",
      "│ GPU Memory: 0.3GB / 9.0GB\n",
      "================================================================================\n",
      "\n",
      "📈 Epoch 18/50\n",
      "Current LR: 1.00e-04\n",
      "--------------------------------------------------\n",
      "🔄 Training Phase...\n"
     ]
    },
    {
     "name": "stderr",
     "output_type": "stream",
     "text": [
      "Training: 100%|██████████████████████████████| 311/311 [08:17<00:00,  1.60s/it, Loss=0.0656, Acc=0.9778, GPU=0.3GB]\n"
     ]
    },
    {
     "name": "stdout",
     "output_type": "stream",
     "text": [
      "✅ Training completed in 497.23s\n",
      "🔍 Validation Phase...\n"
     ]
    },
    {
     "name": "stderr",
     "output_type": "stream",
     "text": [
      "Validation: 100%|██████████████████████████████| 81/81 [00:48<00:00,  1.69it/s, Loss=0.7616, Acc=0.7892]\n"
     ]
    },
    {
     "name": "stdout",
     "output_type": "stream",
     "text": [
      "✅ Validation completed in 48.03s\n",
      "\n",
      "📊 Epoch 18 Summary:\n",
      "│ Train Loss: 0.0656 | Train Acc: 0.9778\n",
      "│ Val Loss:   0.7616 | Val Acc:   0.7892\n",
      "│ Train Time: 497.23s | Val Time: 48.03s\n",
      "│ Total Epoch Time: 545.26s\n",
      "│ Best Val Acc: 0.8063 (Epoch 15)\n",
      "│ GPU Memory: 0.3GB / 9.0GB\n",
      "================================================================================\n",
      "\n",
      "📈 Epoch 19/50\n",
      "Current LR: 1.00e-04\n",
      "--------------------------------------------------\n",
      "🔄 Training Phase...\n"
     ]
    },
    {
     "name": "stderr",
     "output_type": "stream",
     "text": [
      "Training: 100%|██████████████████████████████| 311/311 [08:15<00:00,  1.59s/it, Loss=0.0552, Acc=0.9820, GPU=0.3GB]\n"
     ]
    },
    {
     "name": "stdout",
     "output_type": "stream",
     "text": [
      "✅ Training completed in 495.57s\n",
      "🔍 Validation Phase...\n"
     ]
    },
    {
     "name": "stderr",
     "output_type": "stream",
     "text": [
      "Validation: 100%|██████████████████████████████| 81/81 [00:47<00:00,  1.70it/s, Loss=0.7802, Acc=0.7884]\n"
     ]
    },
    {
     "name": "stdout",
     "output_type": "stream",
     "text": [
      "✅ Validation completed in 47.71s\n",
      "\n",
      "📊 Epoch 19 Summary:\n",
      "│ Train Loss: 0.0552 | Train Acc: 0.9820\n",
      "│ Val Loss:   0.7802 | Val Acc:   0.7884\n",
      "│ Train Time: 495.57s | Val Time: 47.71s\n",
      "│ Total Epoch Time: 543.28s\n",
      "│ Best Val Acc: 0.8063 (Epoch 15)\n",
      "│ GPU Memory: 0.3GB / 9.0GB\n",
      "================================================================================\n",
      "\n",
      "📈 Epoch 20/50\n",
      "Current LR: 1.00e-04\n",
      "--------------------------------------------------\n",
      "🔄 Training Phase...\n"
     ]
    },
    {
     "name": "stderr",
     "output_type": "stream",
     "text": [
      "Training: 100%|██████████████████████████████| 311/311 [08:17<00:00,  1.60s/it, Loss=0.0537, Acc=0.9855, GPU=0.3GB]\n"
     ]
    },
    {
     "name": "stdout",
     "output_type": "stream",
     "text": [
      "✅ Training completed in 497.80s\n",
      "🔍 Validation Phase...\n"
     ]
    },
    {
     "name": "stderr",
     "output_type": "stream",
     "text": [
      "Validation: 100%|██████████████████████████████| 81/81 [00:47<00:00,  1.69it/s, Loss=0.8671, Acc=0.7900]\n"
     ]
    },
    {
     "name": "stdout",
     "output_type": "stream",
     "text": [
      "✅ Validation completed in 47.80s\n",
      "\n",
      "📊 Epoch 20 Summary:\n",
      "│ Train Loss: 0.0537 | Train Acc: 0.9855\n",
      "│ Val Loss:   0.8671 | Val Acc:   0.7900\n",
      "│ Train Time: 497.80s | Val Time: 47.80s\n",
      "│ Total Epoch Time: 545.60s\n",
      "│ Best Val Acc: 0.8063 (Epoch 15)\n",
      "│ GPU Memory: 0.3GB / 9.0GB\n",
      "================================================================================\n",
      "\n",
      "📈 Epoch 21/50\n",
      "Current LR: 1.00e-05\n",
      "--------------------------------------------------\n",
      "🔄 Training Phase...\n"
     ]
    },
    {
     "name": "stderr",
     "output_type": "stream",
     "text": [
      "Training: 100%|██████████████████████████████| 311/311 [08:13<00:00,  1.59s/it, Loss=0.0471, Acc=0.9851, GPU=0.3GB]\n"
     ]
    },
    {
     "name": "stdout",
     "output_type": "stream",
     "text": [
      "✅ Training completed in 493.75s\n",
      "🔍 Validation Phase...\n"
     ]
    },
    {
     "name": "stderr",
     "output_type": "stream",
     "text": [
      "Validation: 100%|██████████████████████████████| 81/81 [00:44<00:00,  1.82it/s, Loss=0.8374, Acc=0.7904]\n"
     ]
    },
    {
     "name": "stdout",
     "output_type": "stream",
     "text": [
      "✅ Validation completed in 44.62s\n",
      "\n",
      "📊 Epoch 21 Summary:\n",
      "│ Train Loss: 0.0471 | Train Acc: 0.9851\n",
      "│ Val Loss:   0.8374 | Val Acc:   0.7904\n",
      "│ Train Time: 493.75s | Val Time: 44.62s\n",
      "│ Total Epoch Time: 538.38s\n",
      "│ Best Val Acc: 0.8063 (Epoch 15)\n",
      "│ GPU Memory: 0.3GB / 9.0GB\n",
      "================================================================================\n",
      "\n",
      "📈 Epoch 22/50\n",
      "Current LR: 1.00e-05\n",
      "--------------------------------------------------\n",
      "🔄 Training Phase...\n"
     ]
    },
    {
     "name": "stderr",
     "output_type": "stream",
     "text": [
      "Training: 100%|██████████████████████████████| 311/311 [08:12<00:00,  1.58s/it, Loss=0.0426, Acc=0.9875, GPU=0.3GB]\n"
     ]
    },
    {
     "name": "stdout",
     "output_type": "stream",
     "text": [
      "✅ Training completed in 492.01s\n",
      "🔍 Validation Phase...\n"
     ]
    },
    {
     "name": "stderr",
     "output_type": "stream",
     "text": [
      "Validation: 100%|██████████████████████████████| 81/81 [00:47<00:00,  1.69it/s, Loss=0.8251, Acc=0.7927]\n"
     ]
    },
    {
     "name": "stdout",
     "output_type": "stream",
     "text": [
      "✅ Validation completed in 47.88s\n",
      "\n",
      "📊 Epoch 22 Summary:\n",
      "│ Train Loss: 0.0426 | Train Acc: 0.9875\n",
      "│ Val Loss:   0.8251 | Val Acc:   0.7927\n",
      "│ Train Time: 492.01s | Val Time: 47.88s\n",
      "│ Total Epoch Time: 539.90s\n",
      "│ Best Val Acc: 0.8063 (Epoch 15)\n",
      "│ GPU Memory: 0.3GB / 9.0GB\n",
      "================================================================================\n",
      "\n",
      "📈 Epoch 23/50\n",
      "Current LR: 1.00e-05\n",
      "--------------------------------------------------\n",
      "🔄 Training Phase...\n"
     ]
    },
    {
     "name": "stderr",
     "output_type": "stream",
     "text": [
      "Training: 100%|██████████████████████████████| 311/311 [08:18<00:00,  1.60s/it, Loss=0.0388, Acc=0.9876, GPU=0.3GB]\n"
     ]
    },
    {
     "name": "stdout",
     "output_type": "stream",
     "text": [
      "✅ Training completed in 498.23s\n",
      "🔍 Validation Phase...\n"
     ]
    },
    {
     "name": "stderr",
     "output_type": "stream",
     "text": [
      "Validation: 100%|██████████████████████████████| 81/81 [00:46<00:00,  1.74it/s, Loss=0.8211, Acc=0.7888]\n"
     ]
    },
    {
     "name": "stdout",
     "output_type": "stream",
     "text": [
      "✅ Validation completed in 46.51s\n",
      "\n",
      "📊 Epoch 23 Summary:\n",
      "│ Train Loss: 0.0388 | Train Acc: 0.9876\n",
      "│ Val Loss:   0.8211 | Val Acc:   0.7888\n",
      "│ Train Time: 498.23s | Val Time: 46.51s\n",
      "│ Total Epoch Time: 544.75s\n",
      "│ Best Val Acc: 0.8063 (Epoch 15)\n",
      "│ GPU Memory: 0.3GB / 9.0GB\n",
      "================================================================================\n",
      "\n",
      "📈 Epoch 24/50\n",
      "Current LR: 1.00e-05\n",
      "--------------------------------------------------\n",
      "🔄 Training Phase...\n"
     ]
    },
    {
     "name": "stderr",
     "output_type": "stream",
     "text": [
      "Training: 100%|██████████████████████████████| 311/311 [08:10<00:00,  1.58s/it, Loss=0.0412, Acc=0.9863, GPU=0.3GB]\n"
     ]
    },
    {
     "name": "stdout",
     "output_type": "stream",
     "text": [
      "✅ Training completed in 490.17s\n",
      "🔍 Validation Phase...\n"
     ]
    },
    {
     "name": "stderr",
     "output_type": "stream",
     "text": [
      "Validation: 100%|██████████████████████████████| 81/81 [00:47<00:00,  1.72it/s, Loss=0.8461, Acc=0.7931]\n"
     ]
    },
    {
     "name": "stdout",
     "output_type": "stream",
     "text": [
      "✅ Validation completed in 47.01s\n",
      "\n",
      "📊 Epoch 24 Summary:\n",
      "│ Train Loss: 0.0412 | Train Acc: 0.9863\n",
      "│ Val Loss:   0.8461 | Val Acc:   0.7931\n",
      "│ Train Time: 490.17s | Val Time: 47.01s\n",
      "│ Total Epoch Time: 537.19s\n",
      "│ Best Val Acc: 0.8063 (Epoch 15)\n",
      "│ GPU Memory: 0.3GB / 9.0GB\n",
      "================================================================================\n",
      "\n",
      "📈 Epoch 25/50\n",
      "Current LR: 1.00e-05\n",
      "--------------------------------------------------\n",
      "🔄 Training Phase...\n"
     ]
    },
    {
     "name": "stderr",
     "output_type": "stream",
     "text": [
      "Training: 100%|██████████████████████████████| 311/311 [08:17<00:00,  1.60s/it, Loss=0.0390, Acc=0.9882, GPU=0.3GB]\n"
     ]
    },
    {
     "name": "stdout",
     "output_type": "stream",
     "text": [
      "✅ Training completed in 497.82s\n",
      "🔍 Validation Phase...\n"
     ]
    },
    {
     "name": "stderr",
     "output_type": "stream",
     "text": [
      "Validation: 100%|██████████████████████████████| 81/81 [00:48<00:00,  1.69it/s, Loss=0.8296, Acc=0.7904]\n"
     ]
    },
    {
     "name": "stdout",
     "output_type": "stream",
     "text": [
      "✅ Validation completed in 48.03s\n",
      "\n",
      "📊 Epoch 25 Summary:\n",
      "│ Train Loss: 0.0390 | Train Acc: 0.9882\n",
      "│ Val Loss:   0.8296 | Val Acc:   0.7904\n",
      "│ Train Time: 497.82s | Val Time: 48.03s\n",
      "│ Total Epoch Time: 545.86s\n",
      "│ Best Val Acc: 0.8063 (Epoch 15)\n",
      "│ GPU Memory: 0.3GB / 9.0GB\n",
      "================================================================================\n",
      "\n",
      "📈 Epoch 26/50\n",
      "Current LR: 1.00e-05\n",
      "--------------------------------------------------\n",
      "🔄 Training Phase...\n"
     ]
    },
    {
     "name": "stderr",
     "output_type": "stream",
     "text": [
      "Training: 100%|██████████████████████████████| 311/311 [08:17<00:00,  1.60s/it, Loss=0.0347, Acc=0.9897, GPU=0.3GB]\n"
     ]
    },
    {
     "name": "stdout",
     "output_type": "stream",
     "text": [
      "✅ Training completed in 497.14s\n",
      "🔍 Validation Phase...\n"
     ]
    },
    {
     "name": "stderr",
     "output_type": "stream",
     "text": [
      "Validation: 100%|██████████████████████████████| 81/81 [00:47<00:00,  1.72it/s, Loss=0.8338, Acc=0.7892]\n"
     ]
    },
    {
     "name": "stdout",
     "output_type": "stream",
     "text": [
      "✅ Validation completed in 47.19s\n",
      "\n",
      "📊 Epoch 26 Summary:\n",
      "│ Train Loss: 0.0347 | Train Acc: 0.9897\n",
      "│ Val Loss:   0.8338 | Val Acc:   0.7892\n",
      "│ Train Time: 497.14s | Val Time: 47.19s\n",
      "│ Total Epoch Time: 544.34s\n",
      "│ Best Val Acc: 0.8063 (Epoch 15)\n",
      "│ GPU Memory: 0.3GB / 9.0GB\n",
      "================================================================================\n",
      "\n",
      "📈 Epoch 27/50\n",
      "Current LR: 1.00e-05\n",
      "--------------------------------------------------\n",
      "🔄 Training Phase...\n"
     ]
    },
    {
     "name": "stderr",
     "output_type": "stream",
     "text": [
      "Training: 100%|██████████████████████████████| 311/311 [08:14<00:00,  1.59s/it, Loss=0.0370, Acc=0.9883, GPU=0.3GB]\n"
     ]
    },
    {
     "name": "stdout",
     "output_type": "stream",
     "text": [
      "✅ Training completed in 494.92s\n",
      "🔍 Validation Phase...\n"
     ]
    },
    {
     "name": "stderr",
     "output_type": "stream",
     "text": [
      "Validation: 100%|██████████████████████████████| 81/81 [00:46<00:00,  1.73it/s, Loss=0.8360, Acc=0.7915]\n"
     ]
    },
    {
     "name": "stdout",
     "output_type": "stream",
     "text": [
      "✅ Validation completed in 46.81s\n",
      "\n",
      "📊 Epoch 27 Summary:\n",
      "│ Train Loss: 0.0370 | Train Acc: 0.9883\n",
      "│ Val Loss:   0.8360 | Val Acc:   0.7915\n",
      "│ Train Time: 494.92s | Val Time: 46.81s\n",
      "│ Total Epoch Time: 541.73s\n",
      "│ Best Val Acc: 0.8063 (Epoch 15)\n",
      "│ GPU Memory: 0.3GB / 9.0GB\n",
      "================================================================================\n",
      "\n",
      "📈 Epoch 28/50\n",
      "Current LR: 1.00e-05\n",
      "--------------------------------------------------\n",
      "🔄 Training Phase...\n"
     ]
    },
    {
     "name": "stderr",
     "output_type": "stream",
     "text": [
      "Training: 100%|██████████████████████████████| 311/311 [08:09<00:00,  1.57s/it, Loss=0.0333, Acc=0.9901, GPU=0.3GB]\n"
     ]
    },
    {
     "name": "stdout",
     "output_type": "stream",
     "text": [
      "✅ Training completed in 489.18s\n",
      "🔍 Validation Phase...\n"
     ]
    },
    {
     "name": "stderr",
     "output_type": "stream",
     "text": [
      "Validation: 100%|██████████████████████████████| 81/81 [00:44<00:00,  1.81it/s, Loss=0.8248, Acc=0.7896]\n"
     ]
    },
    {
     "name": "stdout",
     "output_type": "stream",
     "text": [
      "✅ Validation completed in 44.73s\n",
      "\n",
      "📊 Epoch 28 Summary:\n",
      "│ Train Loss: 0.0333 | Train Acc: 0.9901\n",
      "│ Val Loss:   0.8248 | Val Acc:   0.7896\n",
      "│ Train Time: 489.18s | Val Time: 44.73s\n",
      "│ Total Epoch Time: 533.92s\n",
      "│ Best Val Acc: 0.8063 (Epoch 15)\n",
      "│ GPU Memory: 0.3GB / 9.0GB\n",
      "================================================================================\n",
      "\n",
      "📈 Epoch 29/50\n",
      "Current LR: 1.00e-05\n",
      "--------------------------------------------------\n",
      "🔄 Training Phase...\n"
     ]
    },
    {
     "name": "stderr",
     "output_type": "stream",
     "text": [
      "Training: 100%|██████████████████████████████| 311/311 [09:02<00:00,  1.74s/it, Loss=0.0348, Acc=0.9879, GPU=0.3GB]\n"
     ]
    },
    {
     "name": "stdout",
     "output_type": "stream",
     "text": [
      "✅ Training completed in 542.68s\n",
      "🔍 Validation Phase...\n"
     ]
    },
    {
     "name": "stderr",
     "output_type": "stream",
     "text": [
      "Validation: 100%|██████████████████████████████| 81/81 [01:17<00:00,  1.04it/s, Loss=0.8291, Acc=0.7849]\n"
     ]
    },
    {
     "name": "stdout",
     "output_type": "stream",
     "text": [
      "✅ Validation completed in 77.63s\n",
      "\n",
      "📊 Epoch 29 Summary:\n",
      "│ Train Loss: 0.0348 | Train Acc: 0.9879\n",
      "│ Val Loss:   0.8291 | Val Acc:   0.7849\n",
      "│ Train Time: 542.68s | Val Time: 77.63s\n",
      "│ Total Epoch Time: 620.31s\n",
      "│ Best Val Acc: 0.8063 (Epoch 15)\n",
      "│ GPU Memory: 0.3GB / 9.0GB\n",
      "================================================================================\n",
      "\n",
      "📈 Epoch 30/50\n",
      "Current LR: 1.00e-05\n",
      "--------------------------------------------------\n",
      "🔄 Training Phase...\n"
     ]
    },
    {
     "name": "stderr",
     "output_type": "stream",
     "text": [
      "Training: 100%|██████████████████████████████| 311/311 [09:22<00:00,  1.81s/it, Loss=0.0316, Acc=0.9903, GPU=0.3GB]\n"
     ]
    },
    {
     "name": "stdout",
     "output_type": "stream",
     "text": [
      "✅ Training completed in 562.11s\n",
      "🔍 Validation Phase...\n"
     ]
    },
    {
     "name": "stderr",
     "output_type": "stream",
     "text": [
      "Validation: 100%|██████████████████████████████| 81/81 [00:47<00:00,  1.70it/s, Loss=0.8452, Acc=0.7927]\n"
     ]
    },
    {
     "name": "stdout",
     "output_type": "stream",
     "text": [
      "✅ Validation completed in 47.70s\n",
      "\n",
      "📊 Epoch 30 Summary:\n",
      "│ Train Loss: 0.0316 | Train Acc: 0.9903\n",
      "│ Val Loss:   0.8452 | Val Acc:   0.7927\n",
      "│ Train Time: 562.11s | Val Time: 47.70s\n",
      "│ Total Epoch Time: 609.81s\n",
      "│ Best Val Acc: 0.8063 (Epoch 15)\n",
      "│ GPU Memory: 0.3GB / 9.0GB\n",
      "================================================================================\n",
      "\n",
      "📈 Epoch 31/50\n",
      "Current LR: 1.00e-06\n",
      "--------------------------------------------------\n",
      "🔄 Training Phase...\n"
     ]
    },
    {
     "name": "stderr",
     "output_type": "stream",
     "text": [
      "Training: 100%|██████████████████████████████| 311/311 [08:14<00:00,  1.59s/it, Loss=0.0329, Acc=0.9904, GPU=0.3GB]\n"
     ]
    },
    {
     "name": "stdout",
     "output_type": "stream",
     "text": [
      "✅ Training completed in 494.83s\n",
      "🔍 Validation Phase...\n"
     ]
    },
    {
     "name": "stderr",
     "output_type": "stream",
     "text": [
      "Validation: 100%|██████████████████████████████| 81/81 [00:47<00:00,  1.71it/s, Loss=0.8876, Acc=0.7869]\n"
     ]
    },
    {
     "name": "stdout",
     "output_type": "stream",
     "text": [
      "✅ Validation completed in 47.33s\n",
      "\n",
      "📊 Epoch 31 Summary:\n",
      "│ Train Loss: 0.0329 | Train Acc: 0.9904\n",
      "│ Val Loss:   0.8876 | Val Acc:   0.7869\n",
      "│ Train Time: 494.83s | Val Time: 47.33s\n",
      "│ Total Epoch Time: 542.16s\n",
      "│ Best Val Acc: 0.8063 (Epoch 15)\n",
      "│ GPU Memory: 0.3GB / 9.0GB\n",
      "================================================================================\n",
      "\n",
      "📈 Epoch 32/50\n",
      "Current LR: 1.00e-06\n",
      "--------------------------------------------------\n",
      "🔄 Training Phase...\n"
     ]
    },
    {
     "name": "stderr",
     "output_type": "stream",
     "text": [
      "Training: 100%|██████████████████████████████| 311/311 [08:26<00:00,  1.63s/it, Loss=0.0391, Acc=0.9874, GPU=0.3GB]\n"
     ]
    },
    {
     "name": "stdout",
     "output_type": "stream",
     "text": [
      "✅ Training completed in 506.22s\n",
      "🔍 Validation Phase...\n"
     ]
    },
    {
     "name": "stderr",
     "output_type": "stream",
     "text": [
      "Validation: 100%|██████████████████████████████| 81/81 [00:47<00:00,  1.70it/s, Loss=0.8593, Acc=0.7896]\n"
     ]
    },
    {
     "name": "stdout",
     "output_type": "stream",
     "text": [
      "✅ Validation completed in 47.74s\n",
      "\n",
      "📊 Epoch 32 Summary:\n",
      "│ Train Loss: 0.0391 | Train Acc: 0.9874\n",
      "│ Val Loss:   0.8593 | Val Acc:   0.7896\n",
      "│ Train Time: 506.22s | Val Time: 47.74s\n",
      "│ Total Epoch Time: 553.97s\n",
      "│ Best Val Acc: 0.8063 (Epoch 15)\n",
      "│ GPU Memory: 0.3GB / 9.0GB\n",
      "================================================================================\n",
      "\n",
      "📈 Epoch 33/50\n",
      "Current LR: 1.00e-06\n",
      "--------------------------------------------------\n",
      "🔄 Training Phase...\n"
     ]
    },
    {
     "name": "stderr",
     "output_type": "stream",
     "text": [
      "Training: 100%|██████████████████████████████| 311/311 [08:13<00:00,  1.59s/it, Loss=0.0339, Acc=0.9897, GPU=0.3GB]\n"
     ]
    },
    {
     "name": "stdout",
     "output_type": "stream",
     "text": [
      "✅ Training completed in 493.77s\n",
      "🔍 Validation Phase...\n"
     ]
    },
    {
     "name": "stderr",
     "output_type": "stream",
     "text": [
      "Validation: 100%|██████████████████████████████| 81/81 [00:45<00:00,  1.79it/s, Loss=0.8570, Acc=0.7861]\n"
     ]
    },
    {
     "name": "stdout",
     "output_type": "stream",
     "text": [
      "✅ Validation completed in 45.14s\n",
      "\n",
      "📊 Epoch 33 Summary:\n",
      "│ Train Loss: 0.0339 | Train Acc: 0.9897\n",
      "│ Val Loss:   0.8570 | Val Acc:   0.7861\n",
      "│ Train Time: 493.77s | Val Time: 45.14s\n",
      "│ Total Epoch Time: 538.91s\n",
      "│ Best Val Acc: 0.8063 (Epoch 15)\n",
      "│ GPU Memory: 0.3GB / 9.0GB\n",
      "================================================================================\n",
      "\n",
      "📈 Epoch 34/50\n",
      "Current LR: 1.00e-06\n",
      "--------------------------------------------------\n",
      "🔄 Training Phase...\n"
     ]
    },
    {
     "name": "stderr",
     "output_type": "stream",
     "text": [
      "Training: 100%|██████████████████████████████| 311/311 [08:11<00:00,  1.58s/it, Loss=0.0353, Acc=0.9889, GPU=0.3GB]\n"
     ]
    },
    {
     "name": "stdout",
     "output_type": "stream",
     "text": [
      "✅ Training completed in 491.79s\n",
      "🔍 Validation Phase...\n"
     ]
    },
    {
     "name": "stderr",
     "output_type": "stream",
     "text": [
      "Validation: 100%|██████████████████████████████| 81/81 [00:44<00:00,  1.81it/s, Loss=0.8558, Acc=0.7927]\n"
     ]
    },
    {
     "name": "stdout",
     "output_type": "stream",
     "text": [
      "✅ Validation completed in 44.72s\n",
      "\n",
      "📊 Epoch 34 Summary:\n",
      "│ Train Loss: 0.0353 | Train Acc: 0.9889\n",
      "│ Val Loss:   0.8558 | Val Acc:   0.7927\n",
      "│ Train Time: 491.79s | Val Time: 44.72s\n",
      "│ Total Epoch Time: 536.51s\n",
      "│ Best Val Acc: 0.8063 (Epoch 15)\n",
      "│ GPU Memory: 0.3GB / 9.0GB\n",
      "================================================================================\n",
      "\n",
      "📈 Epoch 35/50\n",
      "Current LR: 1.00e-06\n",
      "--------------------------------------------------\n",
      "🔄 Training Phase...\n"
     ]
    },
    {
     "name": "stderr",
     "output_type": "stream",
     "text": [
      "Training: 100%|██████████████████████████████| 311/311 [08:06<00:00,  1.56s/it, Loss=0.0306, Acc=0.9904, GPU=0.3GB]\n"
     ]
    },
    {
     "name": "stdout",
     "output_type": "stream",
     "text": [
      "✅ Training completed in 486.41s\n",
      "🔍 Validation Phase...\n"
     ]
    },
    {
     "name": "stderr",
     "output_type": "stream",
     "text": [
      "Validation: 100%|██████████████████████████████| 81/81 [00:44<00:00,  1.81it/s, Loss=0.8585, Acc=0.7923]\n"
     ]
    },
    {
     "name": "stdout",
     "output_type": "stream",
     "text": [
      "✅ Validation completed in 44.75s\n",
      "\n",
      "📊 Epoch 35 Summary:\n",
      "│ Train Loss: 0.0306 | Train Acc: 0.9904\n",
      "│ Val Loss:   0.8585 | Val Acc:   0.7923\n",
      "│ Train Time: 486.41s | Val Time: 44.75s\n",
      "│ Total Epoch Time: 531.16s\n",
      "│ Best Val Acc: 0.8063 (Epoch 15)\n",
      "│ GPU Memory: 0.3GB / 9.0GB\n",
      "================================================================================\n",
      "\n",
      "📈 Epoch 36/50\n",
      "Current LR: 1.00e-06\n",
      "--------------------------------------------------\n",
      "🔄 Training Phase...\n"
     ]
    },
    {
     "name": "stderr",
     "output_type": "stream",
     "text": [
      "Training: 100%|██████████████████████████████| 311/311 [08:07<00:00,  1.57s/it, Loss=0.0324, Acc=0.9904, GPU=0.3GB]\n"
     ]
    },
    {
     "name": "stdout",
     "output_type": "stream",
     "text": [
      "✅ Training completed in 487.22s\n",
      "🔍 Validation Phase...\n"
     ]
    },
    {
     "name": "stderr",
     "output_type": "stream",
     "text": [
      "Validation: 100%|██████████████████████████████| 81/81 [00:44<00:00,  1.83it/s, Loss=0.8458, Acc=0.7853]\n"
     ]
    },
    {
     "name": "stdout",
     "output_type": "stream",
     "text": [
      "✅ Validation completed in 44.38s\n",
      "\n",
      "📊 Epoch 36 Summary:\n",
      "│ Train Loss: 0.0324 | Train Acc: 0.9904\n",
      "│ Val Loss:   0.8458 | Val Acc:   0.7853\n",
      "│ Train Time: 487.22s | Val Time: 44.38s\n",
      "│ Total Epoch Time: 531.60s\n",
      "│ Best Val Acc: 0.8063 (Epoch 15)\n",
      "│ GPU Memory: 0.3GB / 9.0GB\n",
      "================================================================================\n",
      "\n",
      "📈 Epoch 37/50\n",
      "Current LR: 1.00e-06\n",
      "--------------------------------------------------\n",
      "🔄 Training Phase...\n"
     ]
    },
    {
     "name": "stderr",
     "output_type": "stream",
     "text": [
      "Training: 100%|██████████████████████████████| 311/311 [08:10<00:00,  1.58s/it, Loss=0.0329, Acc=0.9902, GPU=0.3GB]\n"
     ]
    },
    {
     "name": "stdout",
     "output_type": "stream",
     "text": [
      "✅ Training completed in 490.37s\n",
      "🔍 Validation Phase...\n"
     ]
    },
    {
     "name": "stderr",
     "output_type": "stream",
     "text": [
      "Validation: 100%|██████████████████████████████| 81/81 [00:44<00:00,  1.82it/s, Loss=0.8569, Acc=0.7896]\n"
     ]
    },
    {
     "name": "stdout",
     "output_type": "stream",
     "text": [
      "✅ Validation completed in 44.58s\n",
      "\n",
      "📊 Epoch 37 Summary:\n",
      "│ Train Loss: 0.0329 | Train Acc: 0.9902\n",
      "│ Val Loss:   0.8569 | Val Acc:   0.7896\n",
      "│ Train Time: 490.37s | Val Time: 44.58s\n",
      "│ Total Epoch Time: 534.95s\n",
      "│ Best Val Acc: 0.8063 (Epoch 15)\n",
      "│ GPU Memory: 0.3GB / 9.0GB\n",
      "================================================================================\n",
      "\n",
      "📈 Epoch 38/50\n",
      "Current LR: 1.00e-06\n",
      "--------------------------------------------------\n",
      "🔄 Training Phase...\n"
     ]
    },
    {
     "name": "stderr",
     "output_type": "stream",
     "text": [
      "Training: 100%|██████████████████████████████| 311/311 [08:07<00:00,  1.57s/it, Loss=0.0320, Acc=0.9894, GPU=0.3GB]\n"
     ]
    },
    {
     "name": "stdout",
     "output_type": "stream",
     "text": [
      "✅ Training completed in 487.62s\n",
      "🔍 Validation Phase...\n"
     ]
    },
    {
     "name": "stderr",
     "output_type": "stream",
     "text": [
      "Validation: 100%|██████████████████████████████| 81/81 [00:44<00:00,  1.82it/s, Loss=0.8407, Acc=0.7892]\n"
     ]
    },
    {
     "name": "stdout",
     "output_type": "stream",
     "text": [
      "✅ Validation completed in 44.61s\n",
      "\n",
      "📊 Epoch 38 Summary:\n",
      "│ Train Loss: 0.0320 | Train Acc: 0.9894\n",
      "│ Val Loss:   0.8407 | Val Acc:   0.7892\n",
      "│ Train Time: 487.62s | Val Time: 44.61s\n",
      "│ Total Epoch Time: 532.23s\n",
      "│ Best Val Acc: 0.8063 (Epoch 15)\n",
      "│ GPU Memory: 0.3GB / 9.0GB\n",
      "================================================================================\n",
      "\n",
      "📈 Epoch 39/50\n",
      "Current LR: 1.00e-06\n",
      "--------------------------------------------------\n",
      "🔄 Training Phase...\n"
     ]
    },
    {
     "name": "stderr",
     "output_type": "stream",
     "text": [
      "Training: 100%|██████████████████████████████| 311/311 [08:08<00:00,  1.57s/it, Loss=0.0310, Acc=0.9911, GPU=0.3GB]\n"
     ]
    },
    {
     "name": "stdout",
     "output_type": "stream",
     "text": [
      "✅ Training completed in 488.21s\n",
      "🔍 Validation Phase...\n"
     ]
    },
    {
     "name": "stderr",
     "output_type": "stream",
     "text": [
      "Validation: 100%|██████████████████████████████| 81/81 [00:46<00:00,  1.76it/s, Loss=0.8322, Acc=0.7927]\n"
     ]
    },
    {
     "name": "stdout",
     "output_type": "stream",
     "text": [
      "✅ Validation completed in 46.09s\n",
      "\n",
      "📊 Epoch 39 Summary:\n",
      "│ Train Loss: 0.0310 | Train Acc: 0.9911\n",
      "│ Val Loss:   0.8322 | Val Acc:   0.7927\n",
      "│ Train Time: 488.21s | Val Time: 46.09s\n",
      "│ Total Epoch Time: 534.31s\n",
      "│ Best Val Acc: 0.8063 (Epoch 15)\n",
      "│ GPU Memory: 0.3GB / 9.0GB\n",
      "================================================================================\n",
      "\n",
      "📈 Epoch 40/50\n",
      "Current LR: 1.00e-06\n",
      "--------------------------------------------------\n",
      "🔄 Training Phase...\n"
     ]
    },
    {
     "name": "stderr",
     "output_type": "stream",
     "text": [
      "Training: 100%|██████████████████████████████| 311/311 [08:21<00:00,  1.61s/it, Loss=0.0352, Acc=0.9899, GPU=0.3GB]\n"
     ]
    },
    {
     "name": "stdout",
     "output_type": "stream",
     "text": [
      "✅ Training completed in 501.64s\n",
      "🔍 Validation Phase...\n"
     ]
    },
    {
     "name": "stderr",
     "output_type": "stream",
     "text": [
      "Validation: 100%|██████████████████████████████| 81/81 [00:47<00:00,  1.69it/s, Loss=0.8329, Acc=0.7908]\n"
     ]
    },
    {
     "name": "stdout",
     "output_type": "stream",
     "text": [
      "✅ Validation completed in 47.95s\n",
      "\n",
      "📊 Epoch 40 Summary:\n",
      "│ Train Loss: 0.0352 | Train Acc: 0.9899\n",
      "│ Val Loss:   0.8329 | Val Acc:   0.7908\n",
      "│ Train Time: 501.64s | Val Time: 47.95s\n",
      "│ Total Epoch Time: 549.60s\n",
      "│ Best Val Acc: 0.8063 (Epoch 15)\n",
      "│ GPU Memory: 0.3GB / 9.0GB\n",
      "================================================================================\n",
      "\n",
      "📈 Epoch 41/50\n",
      "Current LR: 1.00e-07\n",
      "--------------------------------------------------\n",
      "🔄 Training Phase...\n"
     ]
    },
    {
     "name": "stderr",
     "output_type": "stream",
     "text": [
      "Training: 100%|██████████████████████████████| 311/311 [08:10<00:00,  1.58s/it, Loss=0.0309, Acc=0.9908, GPU=0.3GB]\n"
     ]
    },
    {
     "name": "stdout",
     "output_type": "stream",
     "text": [
      "✅ Training completed in 490.12s\n",
      "🔍 Validation Phase...\n"
     ]
    },
    {
     "name": "stderr",
     "output_type": "stream",
     "text": [
      "Validation: 100%|██████████████████████████████| 81/81 [00:44<00:00,  1.82it/s, Loss=0.8462, Acc=0.7842]\n"
     ]
    },
    {
     "name": "stdout",
     "output_type": "stream",
     "text": [
      "✅ Validation completed in 44.48s\n",
      "\n",
      "📊 Epoch 41 Summary:\n",
      "│ Train Loss: 0.0309 | Train Acc: 0.9908\n",
      "│ Val Loss:   0.8462 | Val Acc:   0.7842\n",
      "│ Train Time: 490.12s | Val Time: 44.48s\n",
      "│ Total Epoch Time: 534.60s\n",
      "│ Best Val Acc: 0.8063 (Epoch 15)\n",
      "│ GPU Memory: 0.3GB / 9.0GB\n",
      "================================================================================\n",
      "\n",
      "📈 Epoch 42/50\n",
      "Current LR: 1.00e-07\n",
      "--------------------------------------------------\n",
      "🔄 Training Phase...\n"
     ]
    },
    {
     "name": "stderr",
     "output_type": "stream",
     "text": [
      "Training: 100%|██████████████████████████████| 311/311 [08:05<00:00,  1.56s/it, Loss=0.0343, Acc=0.9898, GPU=0.3GB]\n"
     ]
    },
    {
     "name": "stdout",
     "output_type": "stream",
     "text": [
      "✅ Training completed in 485.41s\n",
      "🔍 Validation Phase...\n"
     ]
    },
    {
     "name": "stderr",
     "output_type": "stream",
     "text": [
      "Validation: 100%|██████████████████████████████| 81/81 [00:44<00:00,  1.82it/s, Loss=0.8337, Acc=0.7861]\n"
     ]
    },
    {
     "name": "stdout",
     "output_type": "stream",
     "text": [
      "✅ Validation completed in 44.61s\n",
      "\n",
      "📊 Epoch 42 Summary:\n",
      "│ Train Loss: 0.0343 | Train Acc: 0.9898\n",
      "│ Val Loss:   0.8337 | Val Acc:   0.7861\n",
      "│ Train Time: 485.41s | Val Time: 44.61s\n",
      "│ Total Epoch Time: 530.03s\n",
      "│ Best Val Acc: 0.8063 (Epoch 15)\n",
      "│ GPU Memory: 0.3GB / 9.0GB\n",
      "================================================================================\n",
      "\n",
      "📈 Epoch 43/50\n",
      "Current LR: 1.00e-07\n",
      "--------------------------------------------------\n",
      "🔄 Training Phase...\n"
     ]
    },
    {
     "name": "stderr",
     "output_type": "stream",
     "text": [
      "Training: 100%|██████████████████████████████| 311/311 [08:06<00:00,  1.56s/it, Loss=0.0332, Acc=0.9892, GPU=0.3GB]\n"
     ]
    },
    {
     "name": "stdout",
     "output_type": "stream",
     "text": [
      "✅ Training completed in 486.58s\n",
      "🔍 Validation Phase...\n"
     ]
    },
    {
     "name": "stderr",
     "output_type": "stream",
     "text": [
      "Validation: 100%|██████████████████████████████| 81/81 [00:44<00:00,  1.80it/s, Loss=0.8514, Acc=0.7869]\n"
     ]
    },
    {
     "name": "stdout",
     "output_type": "stream",
     "text": [
      "✅ Validation completed in 44.97s\n",
      "\n",
      "📊 Epoch 43 Summary:\n",
      "│ Train Loss: 0.0332 | Train Acc: 0.9892\n",
      "│ Val Loss:   0.8514 | Val Acc:   0.7869\n",
      "│ Train Time: 486.58s | Val Time: 44.97s\n",
      "│ Total Epoch Time: 531.55s\n",
      "│ Best Val Acc: 0.8063 (Epoch 15)\n",
      "│ GPU Memory: 0.3GB / 9.0GB\n",
      "================================================================================\n",
      "\n",
      "📈 Epoch 44/50\n",
      "Current LR: 1.00e-07\n",
      "--------------------------------------------------\n",
      "🔄 Training Phase...\n"
     ]
    },
    {
     "name": "stderr",
     "output_type": "stream",
     "text": [
      "Training: 100%|██████████████████████████████| 311/311 [08:09<00:00,  1.57s/it, Loss=0.0327, Acc=0.9902, GPU=0.3GB]\n"
     ]
    },
    {
     "name": "stdout",
     "output_type": "stream",
     "text": [
      "✅ Training completed in 489.18s\n",
      "🔍 Validation Phase...\n"
     ]
    },
    {
     "name": "stderr",
     "output_type": "stream",
     "text": [
      "Validation: 100%|██████████████████████████████| 81/81 [00:47<00:00,  1.69it/s, Loss=0.8499, Acc=0.7873]\n"
     ]
    },
    {
     "name": "stdout",
     "output_type": "stream",
     "text": [
      "✅ Validation completed in 47.86s\n",
      "\n",
      "📊 Epoch 44 Summary:\n",
      "│ Train Loss: 0.0327 | Train Acc: 0.9902\n",
      "│ Val Loss:   0.8499 | Val Acc:   0.7873\n",
      "│ Train Time: 489.18s | Val Time: 47.86s\n",
      "│ Total Epoch Time: 537.05s\n",
      "│ Best Val Acc: 0.8063 (Epoch 15)\n",
      "│ GPU Memory: 0.3GB / 9.0GB\n",
      "================================================================================\n",
      "\n",
      "📈 Epoch 45/50\n",
      "Current LR: 1.00e-07\n",
      "--------------------------------------------------\n",
      "🔄 Training Phase...\n"
     ]
    },
    {
     "name": "stderr",
     "output_type": "stream",
     "text": [
      "Training: 100%|██████████████████████████████| 311/311 [08:12<00:00,  1.58s/it, Loss=0.0331, Acc=0.9908, GPU=0.3GB]\n"
     ]
    },
    {
     "name": "stdout",
     "output_type": "stream",
     "text": [
      "✅ Training completed in 492.66s\n",
      "🔍 Validation Phase...\n"
     ]
    },
    {
     "name": "stderr",
     "output_type": "stream",
     "text": [
      "Validation: 100%|██████████████████████████████| 81/81 [00:44<00:00,  1.81it/s, Loss=0.8559, Acc=0.7919]\n"
     ]
    },
    {
     "name": "stdout",
     "output_type": "stream",
     "text": [
      "✅ Validation completed in 44.70s\n",
      "\n",
      "📊 Epoch 45 Summary:\n",
      "│ Train Loss: 0.0331 | Train Acc: 0.9908\n",
      "│ Val Loss:   0.8559 | Val Acc:   0.7919\n",
      "│ Train Time: 492.66s | Val Time: 44.70s\n",
      "│ Total Epoch Time: 537.36s\n",
      "│ Best Val Acc: 0.8063 (Epoch 15)\n",
      "│ GPU Memory: 0.3GB / 9.0GB\n",
      "================================================================================\n",
      "\n",
      "📈 Epoch 46/50\n",
      "Current LR: 1.00e-07\n",
      "--------------------------------------------------\n",
      "🔄 Training Phase...\n"
     ]
    },
    {
     "name": "stderr",
     "output_type": "stream",
     "text": [
      "Training: 100%|██████████████████████████████| 311/311 [08:06<00:00,  1.56s/it, Loss=0.0338, Acc=0.9910, GPU=0.3GB]\n"
     ]
    },
    {
     "name": "stdout",
     "output_type": "stream",
     "text": [
      "✅ Training completed in 486.52s\n",
      "🔍 Validation Phase...\n"
     ]
    },
    {
     "name": "stderr",
     "output_type": "stream",
     "text": [
      "Validation: 100%|██████████████████████████████| 81/81 [00:44<00:00,  1.82it/s, Loss=0.8486, Acc=0.7873]\n"
     ]
    },
    {
     "name": "stdout",
     "output_type": "stream",
     "text": [
      "✅ Validation completed in 44.56s\n",
      "\n",
      "📊 Epoch 46 Summary:\n",
      "│ Train Loss: 0.0338 | Train Acc: 0.9910\n",
      "│ Val Loss:   0.8486 | Val Acc:   0.7873\n",
      "│ Train Time: 486.52s | Val Time: 44.56s\n",
      "│ Total Epoch Time: 531.08s\n",
      "│ Best Val Acc: 0.8063 (Epoch 15)\n",
      "│ GPU Memory: 0.3GB / 9.0GB\n",
      "================================================================================\n",
      "\n",
      "📈 Epoch 47/50\n",
      "Current LR: 1.00e-07\n",
      "--------------------------------------------------\n",
      "🔄 Training Phase...\n"
     ]
    },
    {
     "name": "stderr",
     "output_type": "stream",
     "text": [
      "Training: 100%|██████████████████████████████| 311/311 [08:05<00:00,  1.56s/it, Loss=0.0344, Acc=0.9889, GPU=0.3GB]\n"
     ]
    },
    {
     "name": "stdout",
     "output_type": "stream",
     "text": [
      "✅ Training completed in 485.77s\n",
      "🔍 Validation Phase...\n"
     ]
    },
    {
     "name": "stderr",
     "output_type": "stream",
     "text": [
      "Validation: 100%|██████████████████████████████| 81/81 [00:44<00:00,  1.81it/s, Loss=0.8438, Acc=0.7911]\n"
     ]
    },
    {
     "name": "stdout",
     "output_type": "stream",
     "text": [
      "✅ Validation completed in 44.76s\n",
      "\n",
      "📊 Epoch 47 Summary:\n",
      "│ Train Loss: 0.0344 | Train Acc: 0.9889\n",
      "│ Val Loss:   0.8438 | Val Acc:   0.7911\n",
      "│ Train Time: 485.77s | Val Time: 44.76s\n",
      "│ Total Epoch Time: 530.53s\n",
      "│ Best Val Acc: 0.8063 (Epoch 15)\n",
      "│ GPU Memory: 0.3GB / 9.0GB\n",
      "================================================================================\n",
      "\n",
      "📈 Epoch 48/50\n",
      "Current LR: 1.00e-07\n",
      "--------------------------------------------------\n",
      "🔄 Training Phase...\n"
     ]
    },
    {
     "name": "stderr",
     "output_type": "stream",
     "text": [
      "Training: 100%|██████████████████████████████| 311/311 [08:04<00:00,  1.56s/it, Loss=0.0364, Acc=0.9882, GPU=0.3GB]\n"
     ]
    },
    {
     "name": "stdout",
     "output_type": "stream",
     "text": [
      "✅ Training completed in 484.89s\n",
      "🔍 Validation Phase...\n"
     ]
    },
    {
     "name": "stderr",
     "output_type": "stream",
     "text": [
      "Validation: 100%|██████████████████████████████| 81/81 [00:44<00:00,  1.81it/s, Loss=0.8415, Acc=0.7888]\n"
     ]
    },
    {
     "name": "stdout",
     "output_type": "stream",
     "text": [
      "✅ Validation completed in 44.67s\n",
      "\n",
      "📊 Epoch 48 Summary:\n",
      "│ Train Loss: 0.0364 | Train Acc: 0.9882\n",
      "│ Val Loss:   0.8415 | Val Acc:   0.7888\n",
      "│ Train Time: 484.89s | Val Time: 44.67s\n",
      "│ Total Epoch Time: 529.56s\n",
      "│ Best Val Acc: 0.8063 (Epoch 15)\n",
      "│ GPU Memory: 0.3GB / 9.0GB\n",
      "================================================================================\n",
      "\n",
      "📈 Epoch 49/50\n",
      "Current LR: 1.00e-07\n",
      "--------------------------------------------------\n",
      "🔄 Training Phase...\n"
     ]
    },
    {
     "name": "stderr",
     "output_type": "stream",
     "text": [
      "Training: 100%|██████████████████████████████| 311/311 [08:05<00:00,  1.56s/it, Loss=0.0296, Acc=0.9919, GPU=0.3GB]\n"
     ]
    },
    {
     "name": "stdout",
     "output_type": "stream",
     "text": [
      "✅ Training completed in 485.46s\n",
      "🔍 Validation Phase...\n"
     ]
    },
    {
     "name": "stderr",
     "output_type": "stream",
     "text": [
      "Validation: 100%|██████████████████████████████| 81/81 [00:44<00:00,  1.83it/s, Loss=0.8405, Acc=0.7896]\n"
     ]
    },
    {
     "name": "stdout",
     "output_type": "stream",
     "text": [
      "✅ Validation completed in 44.17s\n",
      "\n",
      "📊 Epoch 49 Summary:\n",
      "│ Train Loss: 0.0296 | Train Acc: 0.9919\n",
      "│ Val Loss:   0.8405 | Val Acc:   0.7896\n",
      "│ Train Time: 485.46s | Val Time: 44.17s\n",
      "│ Total Epoch Time: 529.64s\n",
      "│ Best Val Acc: 0.8063 (Epoch 15)\n",
      "│ GPU Memory: 0.3GB / 9.0GB\n",
      "================================================================================\n",
      "\n",
      "📈 Epoch 50/50\n",
      "Current LR: 1.00e-07\n",
      "--------------------------------------------------\n",
      "🔄 Training Phase...\n"
     ]
    },
    {
     "name": "stderr",
     "output_type": "stream",
     "text": [
      "Training: 100%|██████████████████████████████| 311/311 [08:06<00:00,  1.56s/it, Loss=0.0290, Acc=0.9918, GPU=0.3GB]\n"
     ]
    },
    {
     "name": "stdout",
     "output_type": "stream",
     "text": [
      "✅ Training completed in 486.12s\n",
      "🔍 Validation Phase...\n"
     ]
    },
    {
     "name": "stderr",
     "output_type": "stream",
     "text": [
      "Validation: 100%|██████████████████████████████| 81/81 [00:44<00:00,  1.82it/s, Loss=0.8412, Acc=0.7892]\n"
     ]
    },
    {
     "name": "stdout",
     "output_type": "stream",
     "text": [
      "✅ Validation completed in 44.44s\n",
      "\n",
      "📊 Epoch 50 Summary:\n",
      "│ Train Loss: 0.0290 | Train Acc: 0.9918\n",
      "│ Val Loss:   0.8412 | Val Acc:   0.7892\n",
      "│ Train Time: 486.12s | Val Time: 44.44s\n",
      "│ Total Epoch Time: 530.56s\n",
      "│ Best Val Acc: 0.8063 (Epoch 15)\n",
      "│ GPU Memory: 0.3GB / 9.0GB\n",
      "================================================================================\n",
      "\n",
      "💾 Best model saved as 'best_cricket_xception_scratch_filtered.pth'\n",
      "📊 Best model stats:\n",
      "│ Best Epoch: 15\n",
      "│ Best Val Acc: 0.8063\n",
      "│ Best Val Loss: 0.6926\n",
      "\n",
      "💾 Training history saved to 'cricket_xception_scratch_filtered_history.csv'\n",
      "\n",
      "🎉 Xception Scratch Training Complete!\n",
      "Total Training Time: 27082.53s (451.4 minutes)\n",
      "Average Epoch Time: 541.65s\n",
      "\n",
      "🧪 Loading Best Model for Testing...\n",
      "✅ Best model from epoch 15 loaded successfully!\n"
     ]
    },
    {
     "name": "stderr",
     "output_type": "stream",
     "text": [
      "Testing: 100%|██████████████████████████████| 101/101 [01:13<00:00,  1.37it/s]\n"
     ]
    },
    {
     "name": "stdout",
     "output_type": "stream",
     "text": [
      "✅ Testing completed in 73.53s\n",
      "\n",
      "📋 Classification Report:\n",
      "              precision    recall  f1-score   support\n",
      "\n",
      "     Batting       0.84      0.87      0.85      1656\n",
      "     Bowling       0.64      0.54      0.59       488\n",
      "    Fielding       0.67      0.67      0.67       560\n",
      "      Umpire       0.86      0.88      0.87       520\n",
      "\n",
      "    accuracy                           0.79      3224\n",
      "   macro avg       0.75      0.74      0.74      3224\n",
      "weighted avg       0.78      0.79      0.78      3224\n",
      "\n",
      "🎯 Test Accuracy: 0.7854\n",
      "\n",
      "📊 Cricket Classification Performance (Xception - Scratch Training):\n",
      "│ Best Validation Acc:  0.8063 (Epoch 15)\n",
      "│ Best Validation Loss: 0.6926 (Epoch 15)\n",
      "│ Final Test Accuracy:  0.7854\n",
      "│ Val-Test Gap:         0.0209\n",
      "│ Training Type: From scratch (no pretraining)\n",
      "\n",
      "💾 Files saved:\n",
      "│ best_cricket_xception_scratch_filtered.pth - Best model weights\n",
      "│ cricket_xception_scratch_filtered_history.csv - Training metrics\n"
     ]
    },
    {
     "data": {
      "image/png": "[encoded data removed]",
      "text/plain": [
       "<Figure size 1000x800 with 2 Axes>"
      ]
     },
     "metadata": {},
     "output_type": "display_data"
    },
    {
     "data": {
      "image/png": "[encoded data removed]",
      "text/plain": [
       "<Figure size 2000x500 with 4 Axes>"
      ]
     },
     "metadata": {},
     "output_type": "display_data"
    },
    {
     "name": "stdout",
     "output_type": "stream",
     "text": [
      "\n",
      "⏰ Final Timing Summary:\n",
      "│ Total Training: 27082.53s (451.4 min)\n",
      "│ Average per Epoch: 541.65s\n",
      "│ Testing Time: 73.53s\n",
      "│ Total Runtime: 27156.06s\n",
      "\n",
      "🔀 Xception Scratch Training - Fixed Version:\n",
      "│ ✅ Fixed inplace operations: All ReLU layers use inplace=False\n",
      "│ ✅ Custom architecture: Built from ground up\n",
      "│ ✅ Depthwise separable convolutions: Core Xception innovation\n",
      "│ ✅ No transfer learning: Learns cricket features from scratch\n",
      "│ ✅ Data augmentation: Robust training with limited data\n",
      "│ ✅ Proper initialization: Xavier/He weight initialization\n",
      "│ ✅ Learning rate scheduling: Adaptive learning rate decay\n",
      "│ ✅ Clean dataset: 'random_occlusion' folder excluded\n",
      "│ ✅ Gradient computation: Fixed backward pass issues\n"
     ]
    }
   ],
   "source": [
    "\n",
    "# -----------------------------\n",
    "# 4. Training Setup for Scratch Training\n",
    "# -----------------------------\n",
    "criterion = nn.CrossEntropyLoss()\n",
    "optimizer = optim.Adam(model.parameters(), lr=1e-3, weight_decay=1e-4)  # Higher LR for scratch training\n",
    "scheduler = optim.lr_scheduler.StepLR(optimizer, step_size=10, gamma=0.1)  # Learning rate decay\n",
    "\n",
    "print(f\"\\n📋 Training Configuration:\")\n",
    "print(f\"│ Model: Xception (from scratch)\")\n",
    "print(f\"│ Optimizer: Adam (lr={optimizer.param_groups[0]['lr']})\")\n",
    "print(f\"│ Weight Decay: 1e-4\")\n",
    "print(f\"│ Loss Function: CrossEntropyLoss\")\n",
    "print(f\"│ Batch Size: 16\")\n",
    "print(f\"│ LR Scheduler: StepLR (decay every 10 epochs)\")\n",
    "print(f\"│ Device: {device}\")\n",
    "print(f\"│ Data: Filtered + Augmented\")\n",
    "\n",
    "# -----------------------------\n",
    "# 5. Training Loop with Model Saving\n",
    "# -----------------------------\n",
    "train_losses, val_losses = [], []\n",
    "train_accs, val_accs = [], []\n",
    "epoch_times = []\n",
    "epochs = 50  # More epochs needed for scratch training\n",
    "\n",
    "# Initialize best model tracking (using val_acc for scratch training)\n",
    "best_val_acc = 0.0\n",
    "best_model_state = None\n",
    "best_epoch = 0\n",
    "best_val_loss = float('inf')\n",
    "\n",
    "print(f\"\\n🚀 Starting Xception Training from Scratch for {epochs} epochs...\")\n",
    "print(\"=\" * 80)\n",
    "total_start_time = time.time()\n",
    "\n",
    "for epoch in range(epochs):\n",
    "    epoch_start_time = time.time()\n",
    "    \n",
    "    print(f\"\\n📈 Epoch {epoch+1}/{epochs}\")\n",
    "    print(f\"Current LR: {optimizer.param_groups[0]['lr']:.2e}\")\n",
    "    print(\"-\" * 50)\n",
    "    \n",
    "    # Training Phase\n",
    "    print(\"🔄 Training Phase...\")\n",
    "    model.train()\n",
    "    running_loss, correct, total = 0, 0, 0\n",
    "    \n",
    "    train_pbar = tqdm(train_loader, desc=\"Training\", \n",
    "                     bar_format='{l_bar}{bar:30}{r_bar}{bar:-30b}')\n",
    "    \n",
    "    train_phase_start = time.time()\n",
    "    \n",
    "    for batch_idx, (imgs, labels) in enumerate(train_pbar):\n",
    "        imgs, labels = imgs.to(device), labels.to(device)\n",
    "        \n",
    "        optimizer.zero_grad()\n",
    "        outputs = model(imgs)\n",
    "        loss = criterion(outputs, labels)\n",
    "        loss.backward()\n",
    "        optimizer.step()\n",
    "        \n",
    "        running_loss += loss.item()\n",
    "        _, preds = torch.max(outputs, 1)\n",
    "        correct += (preds == labels).sum().item()\n",
    "        total += labels.size(0)\n",
    "        \n",
    "        current_acc = correct / total\n",
    "        train_pbar.set_postfix({\n",
    "            'Loss': f'{running_loss/(batch_idx+1):.4f}',\n",
    "            'Acc': f'{current_acc:.4f}'\n",
    "        })\n",
    "        \n",
    "        if device.type == 'cuda' and batch_idx % 10 == 0:\n",
    "            gpu_memory = torch.cuda.memory_allocated() / 1024**3\n",
    "            train_pbar.set_postfix({\n",
    "                'Loss': f'{running_loss/(batch_idx+1):.4f}',\n",
    "                'Acc': f'{current_acc:.4f}',\n",
    "                'GPU': f'{gpu_memory:.1f}GB'\n",
    "            })\n",
    "    \n",
    "    train_phase_time = time.time() - train_phase_start\n",
    "    train_loss = running_loss / len(train_loader)\n",
    "    train_acc = correct / total\n",
    "    train_losses.append(train_loss)\n",
    "    train_accs.append(train_acc)\n",
    "    \n",
    "    print(f\"✅ Training completed in {train_phase_time:.2f}s\")\n",
    "    \n",
    "    # Validation Phase\n",
    "    print(\"🔍 Validation Phase...\")\n",
    "    model.eval()\n",
    "    running_loss, correct, total = 0, 0, 0\n",
    "    \n",
    "    val_phase_start = time.time()\n",
    "    val_pbar = tqdm(val_loader, desc=\"Validation\", \n",
    "                   bar_format='{l_bar}{bar:30}{r_bar}{bar:-30b}')\n",
    "    \n",
    "    with torch.no_grad():\n",
    "        for batch_idx, (imgs, labels) in enumerate(val_pbar):\n",
    "            imgs, labels = imgs.to(device), labels.to(device)\n",
    "            outputs = model(imgs)\n",
    "            loss = criterion(outputs, labels)\n",
    "            \n",
    "            running_loss += loss.item()\n",
    "            _, preds = torch.max(outputs, 1)\n",
    "            correct += (preds == labels).sum().item()\n",
    "            total += labels.size(0)\n",
    "            \n",
    "            current_acc = correct / total\n",
    "            val_pbar.set_postfix({\n",
    "                'Loss': f'{running_loss/(batch_idx+1):.4f}',\n",
    "                'Acc': f'{current_acc:.4f}'\n",
    "            })\n",
    "    \n",
    "    val_phase_time = time.time() - val_phase_start\n",
    "    val_loss = running_loss / len(val_loader)\n",
    "    val_acc = correct / total\n",
    "    val_losses.append(val_loss)\n",
    "    val_accs.append(val_acc)\n",
    "    \n",
    "    print(f\"✅ Validation completed in {val_phase_time:.2f}s\")\n",
    "    \n",
    "    # Update learning rate\n",
    "    scheduler.step()\n",
    "    \n",
    "    # Check if this is the best model (using val_acc for scratch training)\n",
    "    is_best = val_acc > best_val_acc\n",
    "    if is_best:\n",
    "        best_val_acc = val_acc\n",
    "        best_val_loss = val_loss\n",
    "        best_epoch = epoch + 1\n",
    "        best_model_state = model.state_dict().copy()\n",
    "        print(f\"🌟 New best model found! Validation Accuracy: {val_acc:.4f}\")\n",
    "    \n",
    "    # Epoch Summary\n",
    "    epoch_time = time.time() - epoch_start_time\n",
    "    epoch_times.append(epoch_time)\n",
    "    \n",
    "    print(f\"\\n📊 Epoch {epoch+1} Summary:\")\n",
    "    print(f\"│ Train Loss: {train_loss:.4f} | Train Acc: {train_acc:.4f}\")\n",
    "    print(f\"│ Val Loss:   {val_loss:.4f} | Val Acc:   {val_acc:.4f}\")\n",
    "    print(f\"│ Train Time: {train_phase_time:.2f}s | Val Time: {val_phase_time:.2f}s\")\n",
    "    print(f\"│ Total Epoch Time: {epoch_time:.2f}s\")\n",
    "    print(f\"│ Best Val Acc: {best_val_acc:.4f} (Epoch {best_epoch})\")\n",
    "    \n",
    "    if device.type == 'cuda':\n",
    "        print(f\"│ GPU Memory: {torch.cuda.memory_allocated()/1024**3:.1f}GB / {torch.cuda.memory_reserved()/1024**3:.1f}GB\")\n",
    "    \n",
    "    print(\"=\" * 80)\n",
    "\n",
    "total_training_time = time.time() - total_start_time\n",
    "\n",
    "# Save the best model\n",
    "if best_model_state is not None:\n",
    "    torch.save(best_model_state, 'best_cricket_xception_scratch_filtered.pth')\n",
    "    print(f\"\\n💾 Best model saved as 'best_cricket_xception_scratch_filtered.pth'\")\n",
    "    print(f\"📊 Best model stats:\")\n",
    "    print(f\"│ Best Epoch: {best_epoch}\")\n",
    "    print(f\"│ Best Val Acc: {best_val_acc:.4f}\")\n",
    "    print(f\"│ Best Val Loss: {best_val_loss:.4f}\")\n",
    "\n",
    "# Save training history\n",
    "history_data = {\n",
    "    'epoch': list(range(1, epochs+1)),\n",
    "    'train_loss': train_losses,\n",
    "    'val_loss': val_losses,\n",
    "    'train_acc': train_accs,\n",
    "    'val_acc': val_accs,\n",
    "    'epoch_time': epoch_times,\n",
    "    'learning_rate': [scheduler.get_last_lr()[0] if hasattr(scheduler, 'get_last_lr') else optimizer.param_groups[0]['lr']] * epochs\n",
    "}\n",
    "\n",
    "history_df = pd.DataFrame(history_data)\n",
    "history_df.to_csv('cricket_xception_scratch_filtered_history.csv', index=False)\n",
    "print(\"\\n💾 Training history saved to 'cricket_xception_scratch_filtered_history.csv'\")\n",
    "\n",
    "print(f\"\\n🎉 Xception Scratch Training Complete!\")\n",
    "print(f\"Total Training Time: {total_training_time:.2f}s ({total_training_time/60:.1f} minutes)\")\n",
    "print(f\"Average Epoch Time: {np.mean(epoch_times):.2f}s\")\n",
    "\n",
    "# -----------------------------\n",
    "# 6. Load Best Model and Test\n",
    "# -----------------------------\n",
    "print(f\"\\n🧪 Loading Best Model for Testing...\")\n",
    "if best_model_state is not None:\n",
    "    model.load_state_dict(best_model_state)\n",
    "    print(f\"✅ Best model from epoch {best_epoch} loaded successfully!\")\n",
    "\n",
    "test_start_time = time.time()\n",
    "y_true, y_pred = [], []\n",
    "model.eval()\n",
    "test_pbar = tqdm(test_loader, desc=\"Testing\", \n",
    "                bar_format='{l_bar}{bar:30}{r_bar}{bar:-30b}')\n",
    "\n",
    "with torch.no_grad():\n",
    "    for imgs, labels in test_pbar:\n",
    "        imgs, labels = imgs.to(device), labels.to(device)\n",
    "        outputs = model(imgs)\n",
    "        _, preds = torch.max(outputs, 1)\n",
    "        y_true.extend(labels.cpu().numpy())\n",
    "        y_pred.extend(preds.cpu().numpy())\n",
    "\n",
    "test_time = time.time() - test_start_time\n",
    "test_accuracy = accuracy_score(y_true, y_pred)\n",
    "\n",
    "print(f\"✅ Testing completed in {test_time:.2f}s\")\n",
    "print(\"\\n📋 Classification Report:\")\n",
    "print(classification_report(y_true, y_pred, target_names=classes))\n",
    "print(f\"🎯 Test Accuracy: {test_accuracy:.4f}\")\n",
    "\n",
    "# Performance Summary\n",
    "print(f\"\\n📊 Cricket Classification Performance (Xception - Scratch Training):\")\n",
    "print(f\"│ Best Validation Acc:  {best_val_acc:.4f} (Epoch {best_epoch})\")\n",
    "print(f\"│ Best Validation Loss: {best_val_loss:.4f} (Epoch {best_epoch})\")\n",
    "print(f\"│ Final Test Accuracy:  {test_accuracy:.4f}\")\n",
    "print(f\"│ Val-Test Gap:         {abs(best_val_acc - test_accuracy):.4f}\")\n",
    "print(f\"│ Training Type: From scratch (no pretraining)\")\n",
    "\n",
    "print(f\"\\n💾 Files saved:\")\n",
    "print(f\"│ best_cricket_xception_scratch_filtered.pth - Best model weights\")\n",
    "print(f\"│ cricket_xception_scratch_filtered_history.csv - Training metrics\")\n",
    "\n",
    "# -----------------------------\n",
    "# 7. Visualizations\n",
    "# -----------------------------\n",
    "# Confusion Matrix\n",
    "cm = confusion_matrix(y_true, y_pred)\n",
    "plt.figure(figsize=(10, 8))\n",
    "sns.heatmap(cm, annot=True, fmt=\"d\", cmap=\"Blues\", \n",
    "            xticklabels=classes, yticklabels=classes)\n",
    "plt.xlabel(\"Predicted\")\n",
    "plt.ylabel(\"True\")\n",
    "plt.title(f\"Cricket Classification - Xception Scratch (Epoch {best_epoch})\")\n",
    "plt.tight_layout()\n",
    "plt.show()\n",
    "\n",
    "# Training Curves\n",
    "plt.figure(figsize=(20, 5))\n",
    "\n",
    "# Loss Plot\n",
    "plt.subplot(1, 4, 1)\n",
    "plt.plot(range(1, epochs+1), train_losses, 'b-', label=\"Train Loss\", marker='o', linewidth=1)\n",
    "plt.plot(range(1, epochs+1), val_losses, 'r-', label=\"Val Loss\", marker='s', linewidth=1)\n",
    "plt.axvline(x=best_epoch, color='green', linestyle='--', alpha=0.7, label=f'Best (Epoch {best_epoch})')\n",
    "plt.scatter([best_epoch], [best_val_loss], color='green', s=100, zorder=5)\n",
    "plt.legend()\n",
    "plt.title(\"Xception Scratch - Loss over Epochs\")\n",
    "plt.xlabel(\"Epoch\")\n",
    "plt.ylabel(\"Loss\")\n",
    "plt.grid(True, alpha=0.3)\n",
    "\n",
    "# Accuracy Plot\n",
    "plt.subplot(1, 4, 2)\n",
    "plt.plot(range(1, epochs+1), train_accs, 'b-', label=\"Train Accuracy\", marker='o', linewidth=1)\n",
    "plt.plot(range(1, epochs+1), val_accs, 'r-', label=\"Val Accuracy\", marker='s', linewidth=1)\n",
    "plt.axvline(x=best_epoch, color='green', linestyle='--', alpha=0.7, label=f'Best (Epoch {best_epoch})')\n",
    "plt.scatter([best_epoch], [best_val_acc], color='green', s=100, zorder=5)\n",
    "plt.legend()\n",
    "plt.title(\"Xception Scratch - Accuracy over Epochs\")\n",
    "plt.xlabel(\"Epoch\")\n",
    "plt.ylabel(\"Accuracy\")\n",
    "plt.grid(True, alpha=0.3)\n",
    "\n",
    "# Timing Plot\n",
    "plt.subplot(1, 4, 3)\n",
    "plt.plot(range(1, epochs+1), epoch_times, 'g-', marker='d', linewidth=1)\n",
    "plt.title(\"Training Time per Epoch\")\n",
    "plt.xlabel(\"Epoch\")\n",
    "plt.ylabel(\"Time (seconds)\")\n",
    "plt.grid(True, alpha=0.3)\n",
    "\n",
    "# Final Performance\n",
    "plt.subplot(1, 4, 4)\n",
    "metrics = ['Best Val Acc', 'Test Acc']\n",
    "values = [best_val_acc, test_accuracy]\n",
    "colors = ['orange', 'green']\n",
    "bars = plt.bar(metrics, values, color=colors, alpha=0.7)\n",
    "plt.title(\"Xception Scratch Final Performance\")\n",
    "plt.ylabel(\"Accuracy\")\n",
    "plt.ylim(0, 1)\n",
    "plt.grid(True, alpha=0.3)\n",
    "for bar, val in zip(bars, values):\n",
    "    plt.text(bar.get_x() + bar.get_width()/2, val + 0.01, \n",
    "             f'{val:.4f}', ha='center', va='bottom')\n",
    "\n",
    "plt.tight_layout()\n",
    "plt.show()\n",
    "\n",
    "# Final Summary\n",
    "print(f\"\\n⏰ Final Timing Summary:\")\n",
    "print(f\"│ Total Training: {total_training_time:.2f}s ({total_training_time/60:.1f} min)\")\n",
    "print(f\"│ Average per Epoch: {np.mean(epoch_times):.2f}s\")\n",
    "print(f\"│ Testing Time: {test_time:.2f}s\")\n",
    "print(f\"│ Total Runtime: {total_training_time + test_time:.2f}s\")\n",
    "\n",
    "# Model and Training Info\n",
    "print(f\"\\n🔀 Xception Scratch Training - Fixed Version:\")\n",
    "print(f\"│ ✅ Fixed inplace operations: All ReLU layers use inplace=False\")\n",
    "print(f\"│ ✅ Custom architecture: Built from ground up\")\n",
    "print(f\"│ ✅ Depthwise separable convolutions: Core Xception innovation\")\n",
    "print(f\"│ ✅ No transfer learning: Learns cricket features from scratch\")\n",
    "print(f\"│ ✅ Data augmentation: Robust training with limited data\")\n",
    "print(f\"│ ✅ Proper initialization: Xavier/He weight initialization\")\n",
    "print(f\"│ ✅ Learning rate scheduling: Adaptive learning rate decay\")\n",
    "print(f\"│ ✅ Clean dataset: '{ignore_folder}' folder excluded\")\n",
    "print(f\"│ ✅ Gradient computation: Fixed backward pass issues\")"
   ]
  }
 ],
 "metadata": {
  "kaggle": {
   "accelerator": "nvidiaTeslaT4",
   "dataSources": [
    {
     "datasetId": 7735666,
     "sourceId": 12275446,
     "sourceType": "datasetVersion"
    }
   ],
   "dockerImageVersionId": 31090,
   "isGpuEnabled": true,
   "isInternetEnabled": true,
   "language": "python",
   "sourceType": "notebook"
  },
  "kernelspec": {
   "display_name": "Python 3",
   "language": "python",
   "name": "python3"
  },
  "language_info": {
   "codemirror_mode": {
    "name": "ipython",
    "version": 3
   },
   "file_extension": ".py",
   "mimetype": "text/x-python",
   "name": "python",
   "nbconvert_exporter": "python",
   "pygments_lexer": "ipython3",
   "version": "3.11.13"
  },
  "papermill": {
   "default_parameters": {},
   "duration": 27181.059195,
   "end_time": "2025-09-11T19:42:31.218913",
   "environment_variables": {},
   "exception": null,
   "input_path": "__notebook__.ipynb",
   "output_path": "__notebook__.ipynb",
   "parameters": {},
   "start_time": "2025-09-11T12:09:30.159718",
   "version": "2.6.0"
  }
 },
 "nbformat": 4,
 "nbformat_minor": 5
}
