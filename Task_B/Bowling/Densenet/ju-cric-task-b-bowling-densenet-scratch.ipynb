{
 "cells": [
  {
   "cell_type": "code",
   "execution_count": 1,
   "id": "f6486729",
   "metadata": {
    "_cell_guid": "b1076dfc-b9ad-4769-8c92-a6c4dae69d19",
    "_uuid": "8f2839f25d086af736a60e9eeb907d3b93b6e0e5",
    "execution": {
     "iopub.execute_input": "2025-09-08T07:19:39.845479Z",
     "iopub.status.busy": "2025-09-08T07:19:39.845172Z",
     "iopub.status.idle": "2025-09-08T07:19:52.700432Z",
     "shell.execute_reply": "2025-09-08T07:19:52.699247Z"
    },
    "papermill": {
     "duration": 12.860644,
     "end_time": "2025-09-08T07:19:52.702074",
     "exception": false,
     "start_time": "2025-09-08T07:19:39.841430",
     "status": "completed"
    },
    "tags": []
   },
   "outputs": [
    {
     "name": "stdout",
     "output_type": "stream",
     "text": [
      "Classes: ['fast_bowl', 'spin_bowl']\n"
     ]
    }
   ],
   "source": [
    "import torch\n",
    "import torch.nn as nn\n",
    "import torch.nn.functional as F\n",
    "from torch.utils.data import DataLoader\n",
    "from torchvision import datasets, transforms\n",
    "from torchsummary import summary\n",
    "import matplotlib.pyplot as plt\n",
    "from sklearn.metrics import classification_report, confusion_matrix, accuracy_score\n",
    "import seaborn as sns\n",
    "import numpy as np\n",
    "\n",
    "# -----------------------------\n",
    "# 1. Data Preprocessing\n",
    "# -----------------------------\n",
    "data_dir = \"/kaggle/input/ju-cricket/Cricket_Dataset_final/Task_B\"\n",
    "\n",
    "transform = transforms.Compose([\n",
    "    transforms.Resize((224, 224)),\n",
    "    transforms.ToTensor(),\n",
    "    transforms.Normalize([0.485, 0.456, 0.406], \n",
    "                         [0.229, 0.224, 0.225])\n",
    "])\n",
    "\n",
    "train_ds = datasets.ImageFolder(f\"{data_dir}/train/Bowling\", transform=transform)\n",
    "val_ds   = datasets.ImageFolder(f\"{data_dir}/val/Bowling\", transform=transform)\n",
    "test_ds  = datasets.ImageFolder(f\"{data_dir}/test/Bowling\", transform=transform)\n",
    "\n",
    "train_loader = DataLoader(train_ds, batch_size=32, shuffle=True)\n",
    "val_loader   = DataLoader(val_ds, batch_size=32, shuffle=False)\n",
    "test_loader  = DataLoader(test_ds, batch_size=32, shuffle=False)\n",
    "\n",
    "classes = train_ds.classes\n",
    "print(\"Classes:\", classes)"
   ]
  },
  {
   "cell_type": "code",
   "execution_count": 2,
   "id": "358ef789",
   "metadata": {
    "execution": {
     "iopub.execute_input": "2025-09-08T07:19:52.714307Z",
     "iopub.status.busy": "2025-09-08T07:19:52.713941Z",
     "iopub.status.idle": "2025-09-08T07:19:52.718506Z",
     "shell.execute_reply": "2025-09-08T07:19:52.717767Z"
    },
    "papermill": {
     "duration": 0.010159,
     "end_time": "2025-09-08T07:19:52.719584",
     "exception": false,
     "start_time": "2025-09-08T07:19:52.709425",
     "status": "completed"
    },
    "tags": []
   },
   "outputs": [
    {
     "name": "stdout",
     "output_type": "stream",
     "text": [
      "Total training images: 1710\n",
      "Total validation images: 432\n",
      "Total test images: 549\n",
      "Total images in dataset: 2691\n"
     ]
    }
   ],
   "source": [
    "print(\"Total training images:\", len(train_ds))\n",
    "print(\"Total validation images:\", len(val_ds))\n",
    "print(\"Total test images:\", len(test_ds))\n",
    "\n",
    "total_images = len(train_ds) + len(val_ds) + len(test_ds)\n",
    "print(\"Total images in dataset:\", total_images)"
   ]
  },
  {
   "cell_type": "code",
   "execution_count": 3,
   "id": "055aecad",
   "metadata": {
    "execution": {
     "iopub.execute_input": "2025-09-08T07:19:52.728457Z",
     "iopub.status.busy": "2025-09-08T07:19:52.728131Z",
     "iopub.status.idle": "2025-09-08T07:19:52.736678Z",
     "shell.execute_reply": "2025-09-08T07:19:52.736103Z"
    },
    "papermill": {
     "duration": 0.013482,
     "end_time": "2025-09-08T07:19:52.737725",
     "exception": false,
     "start_time": "2025-09-08T07:19:52.724243",
     "status": "completed"
    },
    "tags": []
   },
   "outputs": [
    {
     "name": "stdout",
     "output_type": "stream",
     "text": [
      "Training images (excluding 'random_occlusion'): 1520\n",
      "Validation images (excluding 'random_occlusion'): 384\n",
      "Test images (excluding 'random_occlusion'): 488\n",
      "Total images (excluding 'random_occlusion'): 2392\n"
     ]
    }
   ],
   "source": [
    "ignore_folder = \"random_occlusion\"\n",
    "\n",
    "def count_images_ignore_folder(dataset, ignore_folder):\n",
    "    count = 0\n",
    "    for img_path, label in dataset.samples:\n",
    "        # Skip if the image path contains the ignore_folder\n",
    "        if ignore_folder not in img_path.split(\"/\"):\n",
    "            count += 1\n",
    "    return count\n",
    "\n",
    "train_count = count_images_ignore_folder(train_ds, ignore_folder)\n",
    "val_count   = count_images_ignore_folder(val_ds, ignore_folder)\n",
    "test_count  = count_images_ignore_folder(test_ds, ignore_folder)\n",
    "\n",
    "total_count = train_count + val_count + test_count\n",
    "\n",
    "print(\"Training images (excluding '{}'): {}\".format(ignore_folder, train_count))\n",
    "print(\"Validation images (excluding '{}'): {}\".format(ignore_folder, val_count))\n",
    "print(\"Test images (excluding '{}'): {}\".format(ignore_folder, test_count))\n",
    "print(\"Total images (excluding '{}'): {}\".format(ignore_folder, total_count))"
   ]
  },
  {
   "cell_type": "code",
   "execution_count": 4,
   "id": "d6a33071",
   "metadata": {
    "execution": {
     "iopub.execute_input": "2025-09-08T07:19:52.743853Z",
     "iopub.status.busy": "2025-09-08T07:19:52.743233Z",
     "iopub.status.idle": "2025-09-08T07:19:52.751230Z",
     "shell.execute_reply": "2025-09-08T07:19:52.750442Z"
    },
    "papermill": {
     "duration": 0.012008,
     "end_time": "2025-09-08T07:19:52.752319",
     "exception": false,
     "start_time": "2025-09-08T07:19:52.740311",
     "status": "completed"
    },
    "tags": []
   },
   "outputs": [
    {
     "name": "stdout",
     "output_type": "stream",
     "text": [
      "Training folders considered: {'dirty_lens', 'blur', 'chromatic_aberration', 'random_occlusion', 'motion_blur', 'gaussian_noise', 'low_resolution', 'original', 'lens_flare'}\n",
      "Validation folders considered: {'dirty_lens', 'blur', 'chromatic_aberration', 'random_occlusion', 'motion_blur', 'gaussian_noise', 'low_resolution', 'original', 'lens_flare'}\n",
      "Test folders considered: {'dirty_lens', 'blur', 'chromatic_aberration', 'random_occlusion', 'motion_blur', 'gaussian_noise', 'low_resolution', 'original', 'lens_flare'}\n"
     ]
    }
   ],
   "source": [
    "ignore_folder = \"random_occlusionw\"\n",
    "\n",
    "def get_included_folders(dataset, ignore_folder):\n",
    "    included = set()\n",
    "    for img_path, label in dataset.samples:\n",
    "        # Split the path into parts and ignore if ignore_folder is in the path\n",
    "        if ignore_folder not in img_path.split(\"/\"):\n",
    "            # The folder name just above the image (or the class folder)\n",
    "            folder_name = img_path.split(\"/\")[-2]\n",
    "            included.add(folder_name)\n",
    "    return included\n",
    "\n",
    "train_folders = get_included_folders(train_ds, ignore_folder)\n",
    "val_folders   = get_included_folders(val_ds, ignore_folder)\n",
    "test_folders  = get_included_folders(test_ds, ignore_folder)\n",
    "\n",
    "print(\"Training folders considered:\", train_folders)\n",
    "print(\"Validation folders considered:\", val_folders)\n",
    "print(\"Test folders considered:\", test_folders)"
   ]
  },
  {
   "cell_type": "code",
   "execution_count": 5,
   "id": "0a5fe205",
   "metadata": {
    "execution": {
     "iopub.execute_input": "2025-09-08T07:19:52.757910Z",
     "iopub.status.busy": "2025-09-08T07:19:52.757527Z",
     "iopub.status.idle": "2025-09-08T07:19:52.796054Z",
     "shell.execute_reply": "2025-09-08T07:19:52.795297Z"
    },
    "papermill": {
     "duration": 0.042534,
     "end_time": "2025-09-08T07:19:52.797188",
     "exception": false,
     "start_time": "2025-09-08T07:19:52.754654",
     "status": "completed"
    },
    "tags": []
   },
   "outputs": [
    {
     "name": "stdout",
     "output_type": "stream",
     "text": [
      "Classes: ['fast_bowl', 'spin_bowl']\n",
      "Final Training images: 1520\n",
      "Final Validation images: 384\n",
      "Final Test images: 488\n",
      "Total images after filtering: 2392\n"
     ]
    }
   ],
   "source": [
    "ignore_folder = \"random_occlusion\"\n",
    "\n",
    "def filter_samples(dataset, ignore_folder):\n",
    "    # Keep only samples where ignore_folder is NOT in the path\n",
    "    filtered_samples = [s for s in dataset.samples if ignore_folder not in s[0].split(\"/\")]\n",
    "    dataset.samples = filtered_samples\n",
    "    dataset.targets = [s[1] for s in filtered_samples]  # Update targets accordingly\n",
    "    return dataset\n",
    "\n",
    "# Create original datasets\n",
    "train_ds = datasets.ImageFolder(f\"{data_dir}/train/Bowling\", transform=transform)\n",
    "val_ds   = datasets.ImageFolder(f\"{data_dir}/val/Bowling\", transform=transform)\n",
    "test_ds  = datasets.ImageFolder(f\"{data_dir}/test/Bowling\", transform=transform)\n",
    "\n",
    "# Filter out 'random_occlusion' folder\n",
    "train_ds = filter_samples(train_ds, ignore_folder)\n",
    "val_ds   = filter_samples(val_ds, ignore_folder)\n",
    "test_ds  = filter_samples(test_ds, ignore_folder)\n",
    "\n",
    "# DataLoaders\n",
    "train_loader = DataLoader(train_ds, batch_size=32, shuffle=True)\n",
    "val_loader   = DataLoader(val_ds, batch_size=32, shuffle=False)\n",
    "test_loader  = DataLoader(test_ds, batch_size=32, shuffle=False)\n",
    "\n",
    "# Classes (will remain the same)\n",
    "classes = train_ds.classes\n",
    "print(\"Classes:\", classes)\n",
    "\n",
    "# Show counts\n",
    "print(\"Final Training images:\", len(train_ds))\n",
    "print(\"Final Validation images:\", len(val_ds))\n",
    "print(\"Final Test images:\", len(test_ds))\n",
    "print(\"Total images after filtering:\", len(train_ds) + len(val_ds) + len(test_ds))"
   ]
  },
  {
   "cell_type": "code",
   "execution_count": 6,
   "id": "0a583d18",
   "metadata": {
    "execution": {
     "iopub.execute_input": "2025-09-08T07:19:52.802678Z",
     "iopub.status.busy": "2025-09-08T07:19:52.802501Z",
     "iopub.status.idle": "2025-09-08T07:19:52.809713Z",
     "shell.execute_reply": "2025-09-08T07:19:52.808911Z"
    },
    "papermill": {
     "duration": 0.011086,
     "end_time": "2025-09-08T07:19:52.810714",
     "exception": false,
     "start_time": "2025-09-08T07:19:52.799628",
     "status": "completed"
    },
    "tags": []
   },
   "outputs": [
    {
     "name": "stdout",
     "output_type": "stream",
     "text": [
      "Training folders considered: {'dirty_lens', 'blur', 'chromatic_aberration', 'motion_blur', 'gaussian_noise', 'low_resolution', 'original', 'lens_flare'}\n",
      "Validation folders considered: {'dirty_lens', 'blur', 'chromatic_aberration', 'motion_blur', 'gaussian_noise', 'low_resolution', 'original', 'lens_flare'}\n",
      "Test folders considered: {'dirty_lens', 'blur', 'chromatic_aberration', 'motion_blur', 'gaussian_noise', 'low_resolution', 'original', 'lens_flare'}\n"
     ]
    }
   ],
   "source": [
    "ignore_folder = \"random_occlusion\"\n",
    "\n",
    "def get_included_folders(dataset, ignore_folder):\n",
    "    included = set()\n",
    "    for img_path, label in dataset.samples:\n",
    "        # Split the path into parts and ignore if ignore_folder is in the path\n",
    "        if ignore_folder not in img_path.split(\"/\"):\n",
    "            # The folder name just above the image (or the class folder)\n",
    "            folder_name = img_path.split(\"/\")[-2]\n",
    "            included.add(folder_name)\n",
    "    return included\n",
    "\n",
    "train_folders = get_included_folders(train_ds, ignore_folder)\n",
    "val_folders   = get_included_folders(val_ds, ignore_folder)\n",
    "test_folders  = get_included_folders(test_ds, ignore_folder)\n",
    "\n",
    "print(\"Training folders considered:\", train_folders)\n",
    "print(\"Validation folders considered:\", val_folders)\n",
    "print(\"Test folders considered:\", test_folders)"
   ]
  },
  {
   "cell_type": "code",
   "execution_count": 7,
   "id": "3a54431f",
   "metadata": {
    "execution": {
     "iopub.execute_input": "2025-09-08T07:19:52.816462Z",
     "iopub.status.busy": "2025-09-08T07:19:52.816158Z",
     "iopub.status.idle": "2025-09-08T07:19:54.056020Z",
     "shell.execute_reply": "2025-09-08T07:19:54.055327Z"
    },
    "papermill": {
     "duration": 1.244546,
     "end_time": "2025-09-08T07:19:54.057709",
     "exception": false,
     "start_time": "2025-09-08T07:19:52.813163",
     "status": "completed"
    },
    "tags": []
   },
   "outputs": [
    {
     "name": "stdout",
     "output_type": "stream",
     "text": [
      "DenseNet-121 Model Summary:\n",
      "----------------------------------------------------------------\n",
      "        Layer (type)               Output Shape         Param #\n",
      "================================================================\n",
      "            Conv2d-1         [-1, 64, 112, 112]           9,408\n",
      "       BatchNorm2d-2         [-1, 64, 112, 112]             128\n",
      "         MaxPool2d-3           [-1, 64, 56, 56]               0\n",
      "       BatchNorm2d-4           [-1, 64, 56, 56]             128\n",
      "            Conv2d-5          [-1, 128, 56, 56]           8,192\n",
      "       BatchNorm2d-6          [-1, 128, 56, 56]             256\n",
      "            Conv2d-7           [-1, 32, 56, 56]          36,864\n",
      "        DenseLayer-8           [-1, 96, 56, 56]               0\n",
      "       BatchNorm2d-9           [-1, 96, 56, 56]             192\n",
      "           Conv2d-10          [-1, 128, 56, 56]          12,288\n",
      "      BatchNorm2d-11          [-1, 128, 56, 56]             256\n",
      "           Conv2d-12           [-1, 32, 56, 56]          36,864\n",
      "       DenseLayer-13          [-1, 128, 56, 56]               0\n",
      "      BatchNorm2d-14          [-1, 128, 56, 56]             256\n",
      "           Conv2d-15          [-1, 128, 56, 56]          16,384\n",
      "      BatchNorm2d-16          [-1, 128, 56, 56]             256\n",
      "           Conv2d-17           [-1, 32, 56, 56]          36,864\n",
      "       DenseLayer-18          [-1, 160, 56, 56]               0\n",
      "      BatchNorm2d-19          [-1, 160, 56, 56]             320\n",
      "           Conv2d-20          [-1, 128, 56, 56]          20,480\n",
      "      BatchNorm2d-21          [-1, 128, 56, 56]             256\n",
      "           Conv2d-22           [-1, 32, 56, 56]          36,864\n",
      "       DenseLayer-23          [-1, 192, 56, 56]               0\n",
      "      BatchNorm2d-24          [-1, 192, 56, 56]             384\n",
      "           Conv2d-25          [-1, 128, 56, 56]          24,576\n",
      "      BatchNorm2d-26          [-1, 128, 56, 56]             256\n",
      "           Conv2d-27           [-1, 32, 56, 56]          36,864\n",
      "       DenseLayer-28          [-1, 224, 56, 56]               0\n",
      "      BatchNorm2d-29          [-1, 224, 56, 56]             448\n",
      "           Conv2d-30          [-1, 128, 56, 56]          28,672\n",
      "      BatchNorm2d-31          [-1, 128, 56, 56]             256\n",
      "           Conv2d-32           [-1, 32, 56, 56]          36,864\n",
      "       DenseLayer-33          [-1, 256, 56, 56]               0\n",
      "       DenseBlock-34          [-1, 256, 56, 56]               0\n",
      "      BatchNorm2d-35          [-1, 256, 56, 56]             512\n",
      "           Conv2d-36          [-1, 128, 56, 56]          32,768\n",
      "        AvgPool2d-37          [-1, 128, 28, 28]               0\n",
      "  TransitionLayer-38          [-1, 128, 28, 28]               0\n",
      "      BatchNorm2d-39          [-1, 128, 28, 28]             256\n",
      "           Conv2d-40          [-1, 128, 28, 28]          16,384\n",
      "      BatchNorm2d-41          [-1, 128, 28, 28]             256\n",
      "           Conv2d-42           [-1, 32, 28, 28]          36,864\n",
      "       DenseLayer-43          [-1, 160, 28, 28]               0\n",
      "      BatchNorm2d-44          [-1, 160, 28, 28]             320\n",
      "           Conv2d-45          [-1, 128, 28, 28]          20,480\n",
      "      BatchNorm2d-46          [-1, 128, 28, 28]             256\n",
      "           Conv2d-47           [-1, 32, 28, 28]          36,864\n",
      "       DenseLayer-48          [-1, 192, 28, 28]               0\n",
      "      BatchNorm2d-49          [-1, 192, 28, 28]             384\n",
      "           Conv2d-50          [-1, 128, 28, 28]          24,576\n",
      "      BatchNorm2d-51          [-1, 128, 28, 28]             256\n",
      "           Conv2d-52           [-1, 32, 28, 28]          36,864\n",
      "       DenseLayer-53          [-1, 224, 28, 28]               0\n",
      "      BatchNorm2d-54          [-1, 224, 28, 28]             448\n",
      "           Conv2d-55          [-1, 128, 28, 28]          28,672\n",
      "      BatchNorm2d-56          [-1, 128, 28, 28]             256\n",
      "           Conv2d-57           [-1, 32, 28, 28]          36,864\n",
      "       DenseLayer-58          [-1, 256, 28, 28]               0\n",
      "      BatchNorm2d-59          [-1, 256, 28, 28]             512\n",
      "           Conv2d-60          [-1, 128, 28, 28]          32,768\n",
      "      BatchNorm2d-61          [-1, 128, 28, 28]             256\n",
      "           Conv2d-62           [-1, 32, 28, 28]          36,864\n",
      "       DenseLayer-63          [-1, 288, 28, 28]               0\n",
      "      BatchNorm2d-64          [-1, 288, 28, 28]             576\n",
      "           Conv2d-65          [-1, 128, 28, 28]          36,864\n",
      "      BatchNorm2d-66          [-1, 128, 28, 28]             256\n",
      "           Conv2d-67           [-1, 32, 28, 28]          36,864\n",
      "       DenseLayer-68          [-1, 320, 28, 28]               0\n",
      "      BatchNorm2d-69          [-1, 320, 28, 28]             640\n",
      "           Conv2d-70          [-1, 128, 28, 28]          40,960\n",
      "      BatchNorm2d-71          [-1, 128, 28, 28]             256\n",
      "           Conv2d-72           [-1, 32, 28, 28]          36,864\n",
      "       DenseLayer-73          [-1, 352, 28, 28]               0\n",
      "      BatchNorm2d-74          [-1, 352, 28, 28]             704\n",
      "           Conv2d-75          [-1, 128, 28, 28]          45,056\n",
      "      BatchNorm2d-76          [-1, 128, 28, 28]             256\n",
      "           Conv2d-77           [-1, 32, 28, 28]          36,864\n",
      "       DenseLayer-78          [-1, 384, 28, 28]               0\n",
      "      BatchNorm2d-79          [-1, 384, 28, 28]             768\n",
      "           Conv2d-80          [-1, 128, 28, 28]          49,152\n",
      "      BatchNorm2d-81          [-1, 128, 28, 28]             256\n",
      "           Conv2d-82           [-1, 32, 28, 28]          36,864\n",
      "       DenseLayer-83          [-1, 416, 28, 28]               0\n",
      "      BatchNorm2d-84          [-1, 416, 28, 28]             832\n",
      "           Conv2d-85          [-1, 128, 28, 28]          53,248\n",
      "      BatchNorm2d-86          [-1, 128, 28, 28]             256\n",
      "           Conv2d-87           [-1, 32, 28, 28]          36,864\n",
      "       DenseLayer-88          [-1, 448, 28, 28]               0\n",
      "      BatchNorm2d-89          [-1, 448, 28, 28]             896\n",
      "           Conv2d-90          [-1, 128, 28, 28]          57,344\n",
      "      BatchNorm2d-91          [-1, 128, 28, 28]             256\n",
      "           Conv2d-92           [-1, 32, 28, 28]          36,864\n",
      "       DenseLayer-93          [-1, 480, 28, 28]               0\n",
      "      BatchNorm2d-94          [-1, 480, 28, 28]             960\n",
      "           Conv2d-95          [-1, 128, 28, 28]          61,440\n",
      "      BatchNorm2d-96          [-1, 128, 28, 28]             256\n",
      "           Conv2d-97           [-1, 32, 28, 28]          36,864\n",
      "       DenseLayer-98          [-1, 512, 28, 28]               0\n",
      "       DenseBlock-99          [-1, 512, 28, 28]               0\n",
      "     BatchNorm2d-100          [-1, 512, 28, 28]           1,024\n",
      "          Conv2d-101          [-1, 256, 28, 28]         131,072\n",
      "       AvgPool2d-102          [-1, 256, 14, 14]               0\n",
      " TransitionLayer-103          [-1, 256, 14, 14]               0\n",
      "     BatchNorm2d-104          [-1, 256, 14, 14]             512\n",
      "          Conv2d-105          [-1, 128, 14, 14]          32,768\n",
      "     BatchNorm2d-106          [-1, 128, 14, 14]             256\n",
      "          Conv2d-107           [-1, 32, 14, 14]          36,864\n",
      "      DenseLayer-108          [-1, 288, 14, 14]               0\n",
      "     BatchNorm2d-109          [-1, 288, 14, 14]             576\n",
      "          Conv2d-110          [-1, 128, 14, 14]          36,864\n",
      "     BatchNorm2d-111          [-1, 128, 14, 14]             256\n",
      "          Conv2d-112           [-1, 32, 14, 14]          36,864\n",
      "      DenseLayer-113          [-1, 320, 14, 14]               0\n",
      "     BatchNorm2d-114          [-1, 320, 14, 14]             640\n",
      "          Conv2d-115          [-1, 128, 14, 14]          40,960\n",
      "     BatchNorm2d-116          [-1, 128, 14, 14]             256\n",
      "          Conv2d-117           [-1, 32, 14, 14]          36,864\n",
      "      DenseLayer-118          [-1, 352, 14, 14]               0\n",
      "     BatchNorm2d-119          [-1, 352, 14, 14]             704\n",
      "          Conv2d-120          [-1, 128, 14, 14]          45,056\n",
      "     BatchNorm2d-121          [-1, 128, 14, 14]             256\n",
      "          Conv2d-122           [-1, 32, 14, 14]          36,864\n",
      "      DenseLayer-123          [-1, 384, 14, 14]               0\n",
      "     BatchNorm2d-124          [-1, 384, 14, 14]             768\n",
      "          Conv2d-125          [-1, 128, 14, 14]          49,152\n",
      "     BatchNorm2d-126          [-1, 128, 14, 14]             256\n",
      "          Conv2d-127           [-1, 32, 14, 14]          36,864\n",
      "      DenseLayer-128          [-1, 416, 14, 14]               0\n",
      "     BatchNorm2d-129          [-1, 416, 14, 14]             832\n",
      "          Conv2d-130          [-1, 128, 14, 14]          53,248\n",
      "     BatchNorm2d-131          [-1, 128, 14, 14]             256\n",
      "          Conv2d-132           [-1, 32, 14, 14]          36,864\n",
      "      DenseLayer-133          [-1, 448, 14, 14]               0\n",
      "     BatchNorm2d-134          [-1, 448, 14, 14]             896\n",
      "          Conv2d-135          [-1, 128, 14, 14]          57,344\n",
      "     BatchNorm2d-136          [-1, 128, 14, 14]             256\n",
      "          Conv2d-137           [-1, 32, 14, 14]          36,864\n",
      "      DenseLayer-138          [-1, 480, 14, 14]               0\n",
      "     BatchNorm2d-139          [-1, 480, 14, 14]             960\n",
      "          Conv2d-140          [-1, 128, 14, 14]          61,440\n",
      "     BatchNorm2d-141          [-1, 128, 14, 14]             256\n",
      "          Conv2d-142           [-1, 32, 14, 14]          36,864\n",
      "      DenseLayer-143          [-1, 512, 14, 14]               0\n",
      "     BatchNorm2d-144          [-1, 512, 14, 14]           1,024\n",
      "          Conv2d-145          [-1, 128, 14, 14]          65,536\n",
      "     BatchNorm2d-146          [-1, 128, 14, 14]             256\n",
      "          Conv2d-147           [-1, 32, 14, 14]          36,864\n",
      "      DenseLayer-148          [-1, 544, 14, 14]               0\n",
      "     BatchNorm2d-149          [-1, 544, 14, 14]           1,088\n",
      "          Conv2d-150          [-1, 128, 14, 14]          69,632\n",
      "     BatchNorm2d-151          [-1, 128, 14, 14]             256\n",
      "          Conv2d-152           [-1, 32, 14, 14]          36,864\n",
      "      DenseLayer-153          [-1, 576, 14, 14]               0\n",
      "     BatchNorm2d-154          [-1, 576, 14, 14]           1,152\n",
      "          Conv2d-155          [-1, 128, 14, 14]          73,728\n",
      "     BatchNorm2d-156          [-1, 128, 14, 14]             256\n",
      "          Conv2d-157           [-1, 32, 14, 14]          36,864\n",
      "      DenseLayer-158          [-1, 608, 14, 14]               0\n",
      "     BatchNorm2d-159          [-1, 608, 14, 14]           1,216\n",
      "          Conv2d-160          [-1, 128, 14, 14]          77,824\n",
      "     BatchNorm2d-161          [-1, 128, 14, 14]             256\n",
      "          Conv2d-162           [-1, 32, 14, 14]          36,864\n",
      "      DenseLayer-163          [-1, 640, 14, 14]               0\n",
      "     BatchNorm2d-164          [-1, 640, 14, 14]           1,280\n",
      "          Conv2d-165          [-1, 128, 14, 14]          81,920\n",
      "     BatchNorm2d-166          [-1, 128, 14, 14]             256\n",
      "          Conv2d-167           [-1, 32, 14, 14]          36,864\n",
      "      DenseLayer-168          [-1, 672, 14, 14]               0\n",
      "     BatchNorm2d-169          [-1, 672, 14, 14]           1,344\n",
      "          Conv2d-170          [-1, 128, 14, 14]          86,016\n",
      "     BatchNorm2d-171          [-1, 128, 14, 14]             256\n",
      "          Conv2d-172           [-1, 32, 14, 14]          36,864\n",
      "      DenseLayer-173          [-1, 704, 14, 14]               0\n",
      "     BatchNorm2d-174          [-1, 704, 14, 14]           1,408\n",
      "          Conv2d-175          [-1, 128, 14, 14]          90,112\n",
      "     BatchNorm2d-176          [-1, 128, 14, 14]             256\n",
      "          Conv2d-177           [-1, 32, 14, 14]          36,864\n",
      "      DenseLayer-178          [-1, 736, 14, 14]               0\n",
      "     BatchNorm2d-179          [-1, 736, 14, 14]           1,472\n",
      "          Conv2d-180          [-1, 128, 14, 14]          94,208\n",
      "     BatchNorm2d-181          [-1, 128, 14, 14]             256\n",
      "          Conv2d-182           [-1, 32, 14, 14]          36,864\n",
      "      DenseLayer-183          [-1, 768, 14, 14]               0\n",
      "     BatchNorm2d-184          [-1, 768, 14, 14]           1,536\n",
      "          Conv2d-185          [-1, 128, 14, 14]          98,304\n",
      "     BatchNorm2d-186          [-1, 128, 14, 14]             256\n",
      "          Conv2d-187           [-1, 32, 14, 14]          36,864\n",
      "      DenseLayer-188          [-1, 800, 14, 14]               0\n",
      "     BatchNorm2d-189          [-1, 800, 14, 14]           1,600\n",
      "          Conv2d-190          [-1, 128, 14, 14]         102,400\n",
      "     BatchNorm2d-191          [-1, 128, 14, 14]             256\n",
      "          Conv2d-192           [-1, 32, 14, 14]          36,864\n",
      "      DenseLayer-193          [-1, 832, 14, 14]               0\n",
      "     BatchNorm2d-194          [-1, 832, 14, 14]           1,664\n",
      "          Conv2d-195          [-1, 128, 14, 14]         106,496\n",
      "     BatchNorm2d-196          [-1, 128, 14, 14]             256\n",
      "          Conv2d-197           [-1, 32, 14, 14]          36,864\n",
      "      DenseLayer-198          [-1, 864, 14, 14]               0\n",
      "     BatchNorm2d-199          [-1, 864, 14, 14]           1,728\n",
      "          Conv2d-200          [-1, 128, 14, 14]         110,592\n",
      "     BatchNorm2d-201          [-1, 128, 14, 14]             256\n",
      "          Conv2d-202           [-1, 32, 14, 14]          36,864\n",
      "      DenseLayer-203          [-1, 896, 14, 14]               0\n",
      "     BatchNorm2d-204          [-1, 896, 14, 14]           1,792\n",
      "          Conv2d-205          [-1, 128, 14, 14]         114,688\n",
      "     BatchNorm2d-206          [-1, 128, 14, 14]             256\n",
      "          Conv2d-207           [-1, 32, 14, 14]          36,864\n",
      "      DenseLayer-208          [-1, 928, 14, 14]               0\n",
      "     BatchNorm2d-209          [-1, 928, 14, 14]           1,856\n",
      "          Conv2d-210          [-1, 128, 14, 14]         118,784\n",
      "     BatchNorm2d-211          [-1, 128, 14, 14]             256\n",
      "          Conv2d-212           [-1, 32, 14, 14]          36,864\n",
      "      DenseLayer-213          [-1, 960, 14, 14]               0\n",
      "     BatchNorm2d-214          [-1, 960, 14, 14]           1,920\n",
      "          Conv2d-215          [-1, 128, 14, 14]         122,880\n",
      "     BatchNorm2d-216          [-1, 128, 14, 14]             256\n",
      "          Conv2d-217           [-1, 32, 14, 14]          36,864\n",
      "      DenseLayer-218          [-1, 992, 14, 14]               0\n",
      "     BatchNorm2d-219          [-1, 992, 14, 14]           1,984\n",
      "          Conv2d-220          [-1, 128, 14, 14]         126,976\n",
      "     BatchNorm2d-221          [-1, 128, 14, 14]             256\n",
      "          Conv2d-222           [-1, 32, 14, 14]          36,864\n",
      "      DenseLayer-223         [-1, 1024, 14, 14]               0\n",
      "      DenseBlock-224         [-1, 1024, 14, 14]               0\n",
      "     BatchNorm2d-225         [-1, 1024, 14, 14]           2,048\n",
      "          Conv2d-226          [-1, 512, 14, 14]         524,288\n",
      "       AvgPool2d-227            [-1, 512, 7, 7]               0\n",
      " TransitionLayer-228            [-1, 512, 7, 7]               0\n",
      "     BatchNorm2d-229            [-1, 512, 7, 7]           1,024\n",
      "          Conv2d-230            [-1, 128, 7, 7]          65,536\n",
      "     BatchNorm2d-231            [-1, 128, 7, 7]             256\n",
      "          Conv2d-232             [-1, 32, 7, 7]          36,864\n",
      "      DenseLayer-233            [-1, 544, 7, 7]               0\n",
      "     BatchNorm2d-234            [-1, 544, 7, 7]           1,088\n",
      "          Conv2d-235            [-1, 128, 7, 7]          69,632\n",
      "     BatchNorm2d-236            [-1, 128, 7, 7]             256\n",
      "          Conv2d-237             [-1, 32, 7, 7]          36,864\n",
      "      DenseLayer-238            [-1, 576, 7, 7]               0\n",
      "     BatchNorm2d-239            [-1, 576, 7, 7]           1,152\n",
      "          Conv2d-240            [-1, 128, 7, 7]          73,728\n",
      "     BatchNorm2d-241            [-1, 128, 7, 7]             256\n",
      "          Conv2d-242             [-1, 32, 7, 7]          36,864\n",
      "      DenseLayer-243            [-1, 608, 7, 7]               0\n",
      "     BatchNorm2d-244            [-1, 608, 7, 7]           1,216\n",
      "          Conv2d-245            [-1, 128, 7, 7]          77,824\n",
      "     BatchNorm2d-246            [-1, 128, 7, 7]             256\n",
      "          Conv2d-247             [-1, 32, 7, 7]          36,864\n",
      "      DenseLayer-248            [-1, 640, 7, 7]               0\n",
      "     BatchNorm2d-249            [-1, 640, 7, 7]           1,280\n",
      "          Conv2d-250            [-1, 128, 7, 7]          81,920\n",
      "     BatchNorm2d-251            [-1, 128, 7, 7]             256\n",
      "          Conv2d-252             [-1, 32, 7, 7]          36,864\n",
      "      DenseLayer-253            [-1, 672, 7, 7]               0\n",
      "     BatchNorm2d-254            [-1, 672, 7, 7]           1,344\n",
      "          Conv2d-255            [-1, 128, 7, 7]          86,016\n",
      "     BatchNorm2d-256            [-1, 128, 7, 7]             256\n",
      "          Conv2d-257             [-1, 32, 7, 7]          36,864\n",
      "      DenseLayer-258            [-1, 704, 7, 7]               0\n",
      "     BatchNorm2d-259            [-1, 704, 7, 7]           1,408\n",
      "          Conv2d-260            [-1, 128, 7, 7]          90,112\n",
      "     BatchNorm2d-261            [-1, 128, 7, 7]             256\n",
      "          Conv2d-262             [-1, 32, 7, 7]          36,864\n",
      "      DenseLayer-263            [-1, 736, 7, 7]               0\n",
      "     BatchNorm2d-264            [-1, 736, 7, 7]           1,472\n",
      "          Conv2d-265            [-1, 128, 7, 7]          94,208\n",
      "     BatchNorm2d-266            [-1, 128, 7, 7]             256\n",
      "          Conv2d-267             [-1, 32, 7, 7]          36,864\n",
      "      DenseLayer-268            [-1, 768, 7, 7]               0\n",
      "     BatchNorm2d-269            [-1, 768, 7, 7]           1,536\n",
      "          Conv2d-270            [-1, 128, 7, 7]          98,304\n",
      "     BatchNorm2d-271            [-1, 128, 7, 7]             256\n",
      "          Conv2d-272             [-1, 32, 7, 7]          36,864\n",
      "      DenseLayer-273            [-1, 800, 7, 7]               0\n",
      "     BatchNorm2d-274            [-1, 800, 7, 7]           1,600\n",
      "          Conv2d-275            [-1, 128, 7, 7]         102,400\n",
      "     BatchNorm2d-276            [-1, 128, 7, 7]             256\n",
      "          Conv2d-277             [-1, 32, 7, 7]          36,864\n",
      "      DenseLayer-278            [-1, 832, 7, 7]               0\n",
      "     BatchNorm2d-279            [-1, 832, 7, 7]           1,664\n",
      "          Conv2d-280            [-1, 128, 7, 7]         106,496\n",
      "     BatchNorm2d-281            [-1, 128, 7, 7]             256\n",
      "          Conv2d-282             [-1, 32, 7, 7]          36,864\n",
      "      DenseLayer-283            [-1, 864, 7, 7]               0\n",
      "     BatchNorm2d-284            [-1, 864, 7, 7]           1,728\n",
      "          Conv2d-285            [-1, 128, 7, 7]         110,592\n",
      "     BatchNorm2d-286            [-1, 128, 7, 7]             256\n",
      "          Conv2d-287             [-1, 32, 7, 7]          36,864\n",
      "      DenseLayer-288            [-1, 896, 7, 7]               0\n",
      "     BatchNorm2d-289            [-1, 896, 7, 7]           1,792\n",
      "          Conv2d-290            [-1, 128, 7, 7]         114,688\n",
      "     BatchNorm2d-291            [-1, 128, 7, 7]             256\n",
      "          Conv2d-292             [-1, 32, 7, 7]          36,864\n",
      "      DenseLayer-293            [-1, 928, 7, 7]               0\n",
      "     BatchNorm2d-294            [-1, 928, 7, 7]           1,856\n",
      "          Conv2d-295            [-1, 128, 7, 7]         118,784\n",
      "     BatchNorm2d-296            [-1, 128, 7, 7]             256\n",
      "          Conv2d-297             [-1, 32, 7, 7]          36,864\n",
      "      DenseLayer-298            [-1, 960, 7, 7]               0\n",
      "     BatchNorm2d-299            [-1, 960, 7, 7]           1,920\n",
      "          Conv2d-300            [-1, 128, 7, 7]         122,880\n",
      "     BatchNorm2d-301            [-1, 128, 7, 7]             256\n",
      "          Conv2d-302             [-1, 32, 7, 7]          36,864\n",
      "      DenseLayer-303            [-1, 992, 7, 7]               0\n",
      "     BatchNorm2d-304            [-1, 992, 7, 7]           1,984\n",
      "          Conv2d-305            [-1, 128, 7, 7]         126,976\n",
      "     BatchNorm2d-306            [-1, 128, 7, 7]             256\n",
      "          Conv2d-307             [-1, 32, 7, 7]          36,864\n",
      "      DenseLayer-308           [-1, 1024, 7, 7]               0\n",
      "      DenseBlock-309           [-1, 1024, 7, 7]               0\n",
      "     BatchNorm2d-310           [-1, 1024, 7, 7]           2,048\n",
      "AdaptiveAvgPool2d-311           [-1, 1024, 1, 1]               0\n",
      "         Flatten-312                 [-1, 1024]               0\n",
      "          Linear-313                    [-1, 2]           2,050\n",
      "================================================================\n",
      "Total params: 6,955,906\n",
      "Trainable params: 6,955,906\n",
      "Non-trainable params: 0\n",
      "----------------------------------------------------------------\n",
      "Input size (MB): 0.57\n",
      "Forward/backward pass size (MB): 265.11\n",
      "Params size (MB): 26.53\n",
      "Estimated Total Size (MB): 292.22\n",
      "----------------------------------------------------------------\n"
     ]
    }
   ],
   "source": [
    "# -----------------------------\n",
    "# 2. Define DenseNet-121 Model from Scratch\n",
    "# -----------------------------\n",
    "\n",
    "class DenseLayer(nn.Module):\n",
    "    \"\"\"Single Dense Layer: BN-ReLU-Conv(1x1)-BN-ReLU-Conv(3x3)\"\"\"\n",
    "    def __init__(self, in_channels, growth_rate=32, bn_size=4):\n",
    "        super().__init__()\n",
    "        self.bn1 = nn.BatchNorm2d(in_channels)\n",
    "        self.conv1 = nn.Conv2d(in_channels, bn_size * growth_rate, \n",
    "                              kernel_size=1, bias=False)\n",
    "        self.bn2 = nn.BatchNorm2d(bn_size * growth_rate)\n",
    "        self.conv2 = nn.Conv2d(bn_size * growth_rate, growth_rate, \n",
    "                              kernel_size=3, padding=1, bias=False)\n",
    "        \n",
    "    def forward(self, x):\n",
    "        # First convolution block\n",
    "        out = F.relu(self.bn1(x))\n",
    "        out = self.conv1(out)\n",
    "        \n",
    "        # Second convolution block\n",
    "        out = F.relu(self.bn2(out))\n",
    "        out = self.conv2(out)\n",
    "        \n",
    "        # Concatenate input with output (dense connection)\n",
    "        return torch.cat([x, out], 1)\n",
    "\n",
    "class DenseBlock(nn.Module):\n",
    "    \"\"\"Dense Block containing multiple Dense Layers\"\"\"\n",
    "    def __init__(self, num_layers, in_channels, growth_rate=32, bn_size=4):\n",
    "        super().__init__()\n",
    "        self.layers = nn.ModuleList()\n",
    "        \n",
    "        for i in range(num_layers):\n",
    "            layer = DenseLayer(in_channels + i * growth_rate, growth_rate, bn_size)\n",
    "            self.layers.append(layer)\n",
    "            \n",
    "    def forward(self, x):\n",
    "        for layer in self.layers:\n",
    "            x = layer(x)\n",
    "        return x\n",
    "\n",
    "class TransitionLayer(nn.Module):\n",
    "    \"\"\"Transition Layer: BN-ReLU-Conv(1x1)-AvgPool(2x2)\"\"\"\n",
    "    def __init__(self, in_channels, out_channels):\n",
    "        super().__init__()\n",
    "        self.bn = nn.BatchNorm2d(in_channels)\n",
    "        self.conv = nn.Conv2d(in_channels, out_channels, kernel_size=1, bias=False)\n",
    "        self.pool = nn.AvgPool2d(kernel_size=2, stride=2)\n",
    "        \n",
    "    def forward(self, x):\n",
    "        out = F.relu(self.bn(x))\n",
    "        out = self.conv(out)\n",
    "        out = self.pool(out)\n",
    "        return out\n",
    "\n",
    "class MyDenseNet121(nn.Module):\n",
    "    \"\"\"DenseNet-121 Implementation from Scratch\"\"\"\n",
    "    def __init__(self, in_channels=3, classes=4, growth_rate=32, \n",
    "                 block_config=[6, 12, 24, 16], bn_size=4, compression_rate=0.5):\n",
    "        super().__init__()\n",
    "        \n",
    "        # Initial convolution layer\n",
    "        self.initial_conv = nn.Conv2d(in_channels, 64, kernel_size=7, \n",
    "                                     stride=2, padding=3, bias=False)\n",
    "        self.initial_bn = nn.BatchNorm2d(64)\n",
    "        self.initial_pool = nn.MaxPool2d(kernel_size=3, stride=2, padding=1)\n",
    "        \n",
    "        # Dense blocks and transition layers\n",
    "        num_features = 64\n",
    "        \n",
    "        # Dense Block 1 + Transition 1\n",
    "        self.dense_block1 = DenseBlock(block_config[0], num_features, growth_rate, bn_size)\n",
    "        num_features += block_config[0] * growth_rate\n",
    "        out_features = int(num_features * compression_rate)\n",
    "        self.transition1 = TransitionLayer(num_features, out_features)\n",
    "        num_features = out_features\n",
    "        \n",
    "        # Dense Block 2 + Transition 2\n",
    "        self.dense_block2 = DenseBlock(block_config[1], num_features, growth_rate, bn_size)\n",
    "        num_features += block_config[1] * growth_rate\n",
    "        out_features = int(num_features * compression_rate)\n",
    "        self.transition2 = TransitionLayer(num_features, out_features)\n",
    "        num_features = out_features\n",
    "        \n",
    "        # Dense Block 3 + Transition 3\n",
    "        self.dense_block3 = DenseBlock(block_config[2], num_features, growth_rate, bn_size)\n",
    "        num_features += block_config[2] * growth_rate\n",
    "        out_features = int(num_features * compression_rate)\n",
    "        self.transition3 = TransitionLayer(num_features, out_features)\n",
    "        num_features = out_features\n",
    "        \n",
    "        # Dense Block 4 (no transition after last block)\n",
    "        self.dense_block4 = DenseBlock(block_config[3], num_features, growth_rate, bn_size)\n",
    "        num_features += block_config[3] * growth_rate\n",
    "        \n",
    "        # Final layers\n",
    "        self.final_bn = nn.BatchNorm2d(num_features)\n",
    "        self.global_pool = nn.AdaptiveAvgPool2d((1, 1))\n",
    "        self.flatten = nn.Flatten()\n",
    "        self.classifier = nn.Linear(num_features, classes)\n",
    "        \n",
    "        # Initialize weights\n",
    "        self._initialize_weights()\n",
    "    \n",
    "    def _initialize_weights(self):\n",
    "        \"\"\"Initialize weights using He initialization for conv layers\"\"\"\n",
    "        for m in self.modules():\n",
    "            if isinstance(m, nn.Conv2d):\n",
    "                nn.init.kaiming_normal_(m.weight, mode='fan_out', nonlinearity='relu')\n",
    "            elif isinstance(m, nn.BatchNorm2d):\n",
    "                nn.init.constant_(m.weight, 1)\n",
    "                nn.init.constant_(m.bias, 0)\n",
    "            elif isinstance(m, nn.Linear):\n",
    "                nn.init.normal_(m.weight, 0, 0.01)\n",
    "                nn.init.constant_(m.bias, 0)\n",
    "    \n",
    "    def forward(self, x):\n",
    "        # Initial convolution and pooling\n",
    "        x = self.initial_conv(x)\n",
    "        x = F.relu(self.initial_bn(x))\n",
    "        x = self.initial_pool(x)\n",
    "        \n",
    "        # Dense blocks with transitions\n",
    "        x = self.dense_block1(x)\n",
    "        x = self.transition1(x)\n",
    "        \n",
    "        x = self.dense_block2(x)\n",
    "        x = self.transition2(x)\n",
    "        \n",
    "        x = self.dense_block3(x)\n",
    "        x = self.transition3(x)\n",
    "        \n",
    "        x = self.dense_block4(x)\n",
    "        \n",
    "        # Final classification layers\n",
    "        x = F.relu(self.final_bn(x))\n",
    "        x = self.global_pool(x)\n",
    "        x = self.flatten(x)\n",
    "        x = self.classifier(x)\n",
    "        \n",
    "        return x\n",
    "\n",
    "# -----------------------------\n",
    "# 3. Training Setup\n",
    "# -----------------------------\n",
    "device = torch.device(\"cuda\" if torch.cuda.is_available() else \"cpu\")\n",
    "model = MyDenseNet121(3, classes=len(classes)).to(device)\n",
    "\n",
    "criterion = nn.CrossEntropyLoss()\n",
    "optimizer = torch.optim.Adam(model.parameters(), lr=0.001)\n",
    "\n",
    "print(\"DenseNet-121 Model Summary:\")\n",
    "summary(model, (3, 224, 224))"
   ]
  },
  {
   "cell_type": "code",
   "execution_count": 8,
   "id": "62bafc06",
   "metadata": {
    "execution": {
     "iopub.execute_input": "2025-09-08T07:19:54.066302Z",
     "iopub.status.busy": "2025-09-08T07:19:54.065922Z",
     "iopub.status.idle": "2025-09-08T07:44:42.190002Z",
     "shell.execute_reply": "2025-09-08T07:44:42.189286Z"
    },
    "papermill": {
     "duration": 1488.130693,
     "end_time": "2025-09-08T07:44:42.192537",
     "exception": false,
     "start_time": "2025-09-08T07:19:54.061844",
     "status": "completed"
    },
    "tags": []
   },
   "outputs": [
    {
     "name": "stdout",
     "output_type": "stream",
     "text": [
      "\n",
      "🚀 Starting DenseNet-121 Training for 50 epochs...\n",
      "================================================================================\n",
      "\n",
      "📈 Epoch 1/50\n",
      "--------------------------------------------------\n",
      "🔄 Training Phase...\n"
     ]
    },
    {
     "name": "stderr",
     "output_type": "stream",
     "text": [
      "Training: 100%|██████████████████████████████| 48/48 [00:35<00:00,  1.37it/s, Loss=0.6621, Acc=0.6112]\n"
     ]
    },
    {
     "name": "stdout",
     "output_type": "stream",
     "text": [
      "✅ Training completed in 35.14s\n",
      "🔍 Validation Phase...\n"
     ]
    },
    {
     "name": "stderr",
     "output_type": "stream",
     "text": [
      "Validation: 100%|██████████████████████████████| 12/12 [00:05<00:00,  2.15it/s, Loss=0.7169, Acc=0.5807]\n"
     ]
    },
    {
     "name": "stdout",
     "output_type": "stream",
     "text": [
      "✅ Validation completed in 5.58s\n",
      "🌟 New best DenseNet-121 model found! Validation Accuracy: 0.5807\n",
      "\n",
      "📊 Epoch 1 Summary:\n",
      "│ Train Loss: 0.6621 | Train Acc: 0.6112\n",
      "│ Val Loss:   0.7169 | Val Acc:   0.5807\n",
      "│ Train Time: 35.14s | Val Time: 5.58s\n",
      "│ Total Epoch Time: 40.73s\n",
      "│ Best Val Acc: 0.5807 (Epoch 1)\n",
      "│ GPU Memory: 0.1GB / 4.5GB\n",
      "================================================================================\n",
      "\n",
      "📈 Epoch 2/50\n",
      "--------------------------------------------------\n",
      "🔄 Training Phase...\n"
     ]
    },
    {
     "name": "stderr",
     "output_type": "stream",
     "text": [
      "Training: 100%|██████████████████████████████| 48/48 [00:26<00:00,  1.83it/s, Loss=0.6154, Acc=0.6638]\n"
     ]
    },
    {
     "name": "stdout",
     "output_type": "stream",
     "text": [
      "✅ Training completed in 26.18s\n",
      "🔍 Validation Phase...\n"
     ]
    },
    {
     "name": "stderr",
     "output_type": "stream",
     "text": [
      "Validation: 100%|██████████████████████████████| 12/12 [00:03<00:00,  3.84it/s, Loss=0.9338, Acc=0.4635]\n"
     ]
    },
    {
     "name": "stdout",
     "output_type": "stream",
     "text": [
      "✅ Validation completed in 3.13s\n",
      "\n",
      "📊 Epoch 2 Summary:\n",
      "│ Train Loss: 0.6154 | Train Acc: 0.6638\n",
      "│ Val Loss:   0.9338 | Val Acc:   0.4635\n",
      "│ Train Time: 26.18s | Val Time: 3.13s\n",
      "│ Total Epoch Time: 29.32s\n",
      "│ Best Val Acc: 0.5807 (Epoch 1)\n",
      "│ GPU Memory: 0.1GB / 4.5GB\n",
      "================================================================================\n",
      "\n",
      "📈 Epoch 3/50\n",
      "--------------------------------------------------\n",
      "🔄 Training Phase...\n"
     ]
    },
    {
     "name": "stderr",
     "output_type": "stream",
     "text": [
      "Training: 100%|██████████████████████████████| 48/48 [00:26<00:00,  1.81it/s, Loss=0.5959, Acc=0.6895]\n"
     ]
    },
    {
     "name": "stdout",
     "output_type": "stream",
     "text": [
      "✅ Training completed in 26.53s\n",
      "🔍 Validation Phase...\n"
     ]
    },
    {
     "name": "stderr",
     "output_type": "stream",
     "text": [
      "Validation: 100%|██████████████████████████████| 12/12 [00:03<00:00,  3.78it/s, Loss=0.6421, Acc=0.6979]\n"
     ]
    },
    {
     "name": "stdout",
     "output_type": "stream",
     "text": [
      "✅ Validation completed in 3.18s\n",
      "🌟 New best DenseNet-121 model found! Validation Accuracy: 0.6979\n",
      "\n",
      "📊 Epoch 3 Summary:\n",
      "│ Train Loss: 0.5959 | Train Acc: 0.6895\n",
      "│ Val Loss:   0.6421 | Val Acc:   0.6979\n",
      "│ Train Time: 26.53s | Val Time: 3.18s\n",
      "│ Total Epoch Time: 29.71s\n",
      "│ Best Val Acc: 0.6979 (Epoch 3)\n",
      "│ GPU Memory: 0.1GB / 4.5GB\n",
      "================================================================================\n",
      "\n",
      "📈 Epoch 4/50\n",
      "--------------------------------------------------\n",
      "🔄 Training Phase...\n"
     ]
    },
    {
     "name": "stderr",
     "output_type": "stream",
     "text": [
      "Training: 100%|██████████████████████████████| 48/48 [00:26<00:00,  1.84it/s, Loss=0.5408, Acc=0.7296]\n"
     ]
    },
    {
     "name": "stdout",
     "output_type": "stream",
     "text": [
      "✅ Training completed in 26.03s\n",
      "🔍 Validation Phase...\n"
     ]
    },
    {
     "name": "stderr",
     "output_type": "stream",
     "text": [
      "Validation: 100%|██████████████████████████████| 12/12 [00:03<00:00,  3.89it/s, Loss=0.6031, Acc=0.7083]\n"
     ]
    },
    {
     "name": "stdout",
     "output_type": "stream",
     "text": [
      "✅ Validation completed in 3.08s\n",
      "🌟 New best DenseNet-121 model found! Validation Accuracy: 0.7083\n",
      "\n",
      "📊 Epoch 4 Summary:\n",
      "│ Train Loss: 0.5408 | Train Acc: 0.7296\n",
      "│ Val Loss:   0.6031 | Val Acc:   0.7083\n",
      "│ Train Time: 26.03s | Val Time: 3.08s\n",
      "│ Total Epoch Time: 29.13s\n",
      "│ Best Val Acc: 0.7083 (Epoch 4)\n",
      "│ GPU Memory: 0.1GB / 4.5GB\n",
      "================================================================================\n",
      "\n",
      "📈 Epoch 5/50\n",
      "--------------------------------------------------\n",
      "🔄 Training Phase...\n"
     ]
    },
    {
     "name": "stderr",
     "output_type": "stream",
     "text": [
      "Training: 100%|██████████████████████████████| 48/48 [00:26<00:00,  1.83it/s, Loss=0.4570, Acc=0.7908]\n"
     ]
    },
    {
     "name": "stdout",
     "output_type": "stream",
     "text": [
      "✅ Training completed in 26.18s\n",
      "🔍 Validation Phase...\n"
     ]
    },
    {
     "name": "stderr",
     "output_type": "stream",
     "text": [
      "Validation: 100%|██████████████████████████████| 12/12 [00:03<00:00,  3.82it/s, Loss=0.7811, Acc=0.6797]\n"
     ]
    },
    {
     "name": "stdout",
     "output_type": "stream",
     "text": [
      "✅ Validation completed in 3.15s\n",
      "\n",
      "📊 Epoch 5 Summary:\n",
      "│ Train Loss: 0.4570 | Train Acc: 0.7908\n",
      "│ Val Loss:   0.7811 | Val Acc:   0.6797\n",
      "│ Train Time: 26.18s | Val Time: 3.15s\n",
      "│ Total Epoch Time: 29.33s\n",
      "│ Best Val Acc: 0.7083 (Epoch 4)\n",
      "│ GPU Memory: 0.1GB / 4.5GB\n",
      "================================================================================\n",
      "\n",
      "📈 Epoch 6/50\n",
      "--------------------------------------------------\n",
      "🔄 Training Phase...\n"
     ]
    },
    {
     "name": "stderr",
     "output_type": "stream",
     "text": [
      "Training: 100%|██████████████████████████████| 48/48 [00:26<00:00,  1.83it/s, Loss=0.3991, Acc=0.8171]\n"
     ]
    },
    {
     "name": "stdout",
     "output_type": "stream",
     "text": [
      "✅ Training completed in 26.27s\n",
      "🔍 Validation Phase...\n"
     ]
    },
    {
     "name": "stderr",
     "output_type": "stream",
     "text": [
      "Validation: 100%|██████████████████████████████| 12/12 [00:03<00:00,  3.77it/s, Loss=0.8558, Acc=0.6797]\n"
     ]
    },
    {
     "name": "stdout",
     "output_type": "stream",
     "text": [
      "✅ Validation completed in 3.19s\n",
      "\n",
      "📊 Epoch 6 Summary:\n",
      "│ Train Loss: 0.3991 | Train Acc: 0.8171\n",
      "│ Val Loss:   0.8558 | Val Acc:   0.6797\n",
      "│ Train Time: 26.27s | Val Time: 3.19s\n",
      "│ Total Epoch Time: 29.46s\n",
      "│ Best Val Acc: 0.7083 (Epoch 4)\n",
      "│ GPU Memory: 0.1GB / 4.5GB\n",
      "================================================================================\n",
      "\n",
      "📈 Epoch 7/50\n",
      "--------------------------------------------------\n",
      "🔄 Training Phase...\n"
     ]
    },
    {
     "name": "stderr",
     "output_type": "stream",
     "text": [
      "Training: 100%|██████████████████████████████| 48/48 [00:26<00:00,  1.83it/s, Loss=0.3419, Acc=0.8533]\n"
     ]
    },
    {
     "name": "stdout",
     "output_type": "stream",
     "text": [
      "✅ Training completed in 26.17s\n",
      "🔍 Validation Phase...\n"
     ]
    },
    {
     "name": "stderr",
     "output_type": "stream",
     "text": [
      "Validation: 100%|██████████████████████████████| 12/12 [00:03<00:00,  3.72it/s, Loss=1.0202, Acc=0.5625]\n"
     ]
    },
    {
     "name": "stdout",
     "output_type": "stream",
     "text": [
      "✅ Validation completed in 3.23s\n",
      "\n",
      "📊 Epoch 7 Summary:\n",
      "│ Train Loss: 0.3419 | Train Acc: 0.8533\n",
      "│ Val Loss:   1.0202 | Val Acc:   0.5625\n",
      "│ Train Time: 26.17s | Val Time: 3.23s\n",
      "│ Total Epoch Time: 29.40s\n",
      "│ Best Val Acc: 0.7083 (Epoch 4)\n",
      "│ GPU Memory: 0.1GB / 4.5GB\n",
      "================================================================================\n",
      "\n",
      "📈 Epoch 8/50\n",
      "--------------------------------------------------\n",
      "🔄 Training Phase...\n"
     ]
    },
    {
     "name": "stderr",
     "output_type": "stream",
     "text": [
      "Training: 100%|██████████████████████████████| 48/48 [00:26<00:00,  1.83it/s, Loss=0.2445, Acc=0.9092]\n"
     ]
    },
    {
     "name": "stdout",
     "output_type": "stream",
     "text": [
      "✅ Training completed in 26.18s\n",
      "🔍 Validation Phase...\n"
     ]
    },
    {
     "name": "stderr",
     "output_type": "stream",
     "text": [
      "Validation: 100%|██████████████████████████████| 12/12 [00:03<00:00,  3.86it/s, Loss=1.0042, Acc=0.7240]\n"
     ]
    },
    {
     "name": "stdout",
     "output_type": "stream",
     "text": [
      "✅ Validation completed in 3.11s\n",
      "🌟 New best DenseNet-121 model found! Validation Accuracy: 0.7240\n",
      "\n",
      "📊 Epoch 8 Summary:\n",
      "│ Train Loss: 0.2445 | Train Acc: 0.9092\n",
      "│ Val Loss:   1.0042 | Val Acc:   0.7240\n",
      "│ Train Time: 26.18s | Val Time: 3.11s\n",
      "│ Total Epoch Time: 29.30s\n",
      "│ Best Val Acc: 0.7240 (Epoch 8)\n",
      "│ GPU Memory: 0.1GB / 4.5GB\n",
      "================================================================================\n",
      "\n",
      "📈 Epoch 9/50\n",
      "--------------------------------------------------\n",
      "🔄 Training Phase...\n"
     ]
    },
    {
     "name": "stderr",
     "output_type": "stream",
     "text": [
      "Training: 100%|██████████████████████████████| 48/48 [00:26<00:00,  1.83it/s, Loss=0.2056, Acc=0.9257]\n"
     ]
    },
    {
     "name": "stdout",
     "output_type": "stream",
     "text": [
      "✅ Training completed in 26.18s\n",
      "🔍 Validation Phase...\n"
     ]
    },
    {
     "name": "stderr",
     "output_type": "stream",
     "text": [
      "Validation: 100%|██████████████████████████████| 12/12 [00:03<00:00,  3.79it/s, Loss=1.0548, Acc=0.6198]\n"
     ]
    },
    {
     "name": "stdout",
     "output_type": "stream",
     "text": [
      "✅ Validation completed in 3.17s\n",
      "\n",
      "📊 Epoch 9 Summary:\n",
      "│ Train Loss: 0.2056 | Train Acc: 0.9257\n",
      "│ Val Loss:   1.0548 | Val Acc:   0.6198\n",
      "│ Train Time: 26.18s | Val Time: 3.17s\n",
      "│ Total Epoch Time: 29.35s\n",
      "│ Best Val Acc: 0.7240 (Epoch 8)\n",
      "│ GPU Memory: 0.1GB / 4.5GB\n",
      "================================================================================\n",
      "\n",
      "📈 Epoch 10/50\n",
      "--------------------------------------------------\n",
      "🔄 Training Phase...\n"
     ]
    },
    {
     "name": "stderr",
     "output_type": "stream",
     "text": [
      "Training: 100%|██████████████████████████████| 48/48 [00:26<00:00,  1.84it/s, Loss=0.1924, Acc=0.9217]\n"
     ]
    },
    {
     "name": "stdout",
     "output_type": "stream",
     "text": [
      "✅ Training completed in 26.11s\n",
      "🔍 Validation Phase...\n"
     ]
    },
    {
     "name": "stderr",
     "output_type": "stream",
     "text": [
      "Validation: 100%|██████████████████████████████| 12/12 [00:03<00:00,  3.83it/s, Loss=1.1655, Acc=0.6042]\n"
     ]
    },
    {
     "name": "stdout",
     "output_type": "stream",
     "text": [
      "✅ Validation completed in 3.13s\n",
      "\n",
      "📊 Epoch 10 Summary:\n",
      "│ Train Loss: 0.1924 | Train Acc: 0.9217\n",
      "│ Val Loss:   1.1655 | Val Acc:   0.6042\n",
      "│ Train Time: 26.11s | Val Time: 3.13s\n",
      "│ Total Epoch Time: 29.25s\n",
      "│ Best Val Acc: 0.7240 (Epoch 8)\n",
      "│ GPU Memory: 0.1GB / 4.5GB\n",
      "================================================================================\n",
      "\n",
      "📈 Epoch 11/50\n",
      "--------------------------------------------------\n",
      "🔄 Training Phase...\n"
     ]
    },
    {
     "name": "stderr",
     "output_type": "stream",
     "text": [
      "Training: 100%|██████████████████████████████| 48/48 [00:26<00:00,  1.84it/s, Loss=0.1844, Acc=0.9309]\n"
     ]
    },
    {
     "name": "stdout",
     "output_type": "stream",
     "text": [
      "✅ Training completed in 26.10s\n",
      "🔍 Validation Phase...\n"
     ]
    },
    {
     "name": "stderr",
     "output_type": "stream",
     "text": [
      "Validation: 100%|██████████████████████████████| 12/12 [00:03<00:00,  3.79it/s, Loss=1.1438, Acc=0.6979]\n"
     ]
    },
    {
     "name": "stdout",
     "output_type": "stream",
     "text": [
      "✅ Validation completed in 3.17s\n",
      "\n",
      "📊 Epoch 11 Summary:\n",
      "│ Train Loss: 0.1844 | Train Acc: 0.9309\n",
      "│ Val Loss:   1.1438 | Val Acc:   0.6979\n",
      "│ Train Time: 26.10s | Val Time: 3.17s\n",
      "│ Total Epoch Time: 29.27s\n",
      "│ Best Val Acc: 0.7240 (Epoch 8)\n",
      "│ GPU Memory: 0.1GB / 4.5GB\n",
      "================================================================================\n",
      "\n",
      "📈 Epoch 12/50\n",
      "--------------------------------------------------\n",
      "🔄 Training Phase...\n"
     ]
    },
    {
     "name": "stderr",
     "output_type": "stream",
     "text": [
      "Training: 100%|██████████████████████████████| 48/48 [00:26<00:00,  1.84it/s, Loss=0.1617, Acc=0.9388]\n"
     ]
    },
    {
     "name": "stdout",
     "output_type": "stream",
     "text": [
      "✅ Training completed in 26.13s\n",
      "🔍 Validation Phase...\n"
     ]
    },
    {
     "name": "stderr",
     "output_type": "stream",
     "text": [
      "Validation: 100%|██████████████████████████████| 12/12 [00:03<00:00,  3.80it/s, Loss=1.2549, Acc=0.6016]\n"
     ]
    },
    {
     "name": "stdout",
     "output_type": "stream",
     "text": [
      "✅ Validation completed in 3.16s\n",
      "\n",
      "📊 Epoch 12 Summary:\n",
      "│ Train Loss: 0.1617 | Train Acc: 0.9388\n",
      "│ Val Loss:   1.2549 | Val Acc:   0.6016\n",
      "│ Train Time: 26.13s | Val Time: 3.16s\n",
      "│ Total Epoch Time: 29.29s\n",
      "│ Best Val Acc: 0.7240 (Epoch 8)\n",
      "│ GPU Memory: 0.1GB / 4.5GB\n",
      "================================================================================\n",
      "\n",
      "📈 Epoch 13/50\n",
      "--------------------------------------------------\n",
      "🔄 Training Phase...\n"
     ]
    },
    {
     "name": "stderr",
     "output_type": "stream",
     "text": [
      "Training: 100%|██████████████████████████████| 48/48 [00:26<00:00,  1.84it/s, Loss=0.0996, Acc=0.9658]\n"
     ]
    },
    {
     "name": "stdout",
     "output_type": "stream",
     "text": [
      "✅ Training completed in 26.04s\n",
      "🔍 Validation Phase...\n"
     ]
    },
    {
     "name": "stderr",
     "output_type": "stream",
     "text": [
      "Validation: 100%|██████████████████████████████| 12/12 [00:03<00:00,  3.78it/s, Loss=1.2732, Acc=0.6302]\n"
     ]
    },
    {
     "name": "stdout",
     "output_type": "stream",
     "text": [
      "✅ Validation completed in 3.17s\n",
      "\n",
      "📊 Epoch 13 Summary:\n",
      "│ Train Loss: 0.0996 | Train Acc: 0.9658\n",
      "│ Val Loss:   1.2732 | Val Acc:   0.6302\n",
      "│ Train Time: 26.04s | Val Time: 3.17s\n",
      "│ Total Epoch Time: 29.22s\n",
      "│ Best Val Acc: 0.7240 (Epoch 8)\n",
      "│ GPU Memory: 0.1GB / 4.5GB\n",
      "================================================================================\n",
      "\n",
      "📈 Epoch 14/50\n",
      "--------------------------------------------------\n",
      "🔄 Training Phase...\n"
     ]
    },
    {
     "name": "stderr",
     "output_type": "stream",
     "text": [
      "Training: 100%|██████████████████████████████| 48/48 [00:26<00:00,  1.84it/s, Loss=0.1460, Acc=0.9428]\n"
     ]
    },
    {
     "name": "stdout",
     "output_type": "stream",
     "text": [
      "✅ Training completed in 26.10s\n",
      "🔍 Validation Phase...\n"
     ]
    },
    {
     "name": "stderr",
     "output_type": "stream",
     "text": [
      "Validation: 100%|██████████████████████████████| 12/12 [00:03<00:00,  3.87it/s, Loss=1.1407, Acc=0.6510]\n"
     ]
    },
    {
     "name": "stdout",
     "output_type": "stream",
     "text": [
      "✅ Validation completed in 3.11s\n",
      "\n",
      "📊 Epoch 14 Summary:\n",
      "│ Train Loss: 0.1460 | Train Acc: 0.9428\n",
      "│ Val Loss:   1.1407 | Val Acc:   0.6510\n",
      "│ Train Time: 26.10s | Val Time: 3.11s\n",
      "│ Total Epoch Time: 29.21s\n",
      "│ Best Val Acc: 0.7240 (Epoch 8)\n",
      "│ GPU Memory: 0.1GB / 4.5GB\n",
      "================================================================================\n",
      "\n",
      "📈 Epoch 15/50\n",
      "--------------------------------------------------\n",
      "🔄 Training Phase...\n"
     ]
    },
    {
     "name": "stderr",
     "output_type": "stream",
     "text": [
      "Training: 100%|██████████████████████████████| 48/48 [00:26<00:00,  1.82it/s, Loss=0.1601, Acc=0.9395]\n"
     ]
    },
    {
     "name": "stdout",
     "output_type": "stream",
     "text": [
      "✅ Training completed in 26.34s\n",
      "🔍 Validation Phase...\n"
     ]
    },
    {
     "name": "stderr",
     "output_type": "stream",
     "text": [
      "Validation: 100%|██████████████████████████████| 12/12 [00:03<00:00,  3.72it/s, Loss=1.2388, Acc=0.6927]\n"
     ]
    },
    {
     "name": "stdout",
     "output_type": "stream",
     "text": [
      "✅ Validation completed in 3.23s\n",
      "\n",
      "📊 Epoch 15 Summary:\n",
      "│ Train Loss: 0.1601 | Train Acc: 0.9395\n",
      "│ Val Loss:   1.2388 | Val Acc:   0.6927\n",
      "│ Train Time: 26.34s | Val Time: 3.23s\n",
      "│ Total Epoch Time: 29.57s\n",
      "│ Best Val Acc: 0.7240 (Epoch 8)\n",
      "│ GPU Memory: 0.1GB / 4.5GB\n",
      "================================================================================\n",
      "\n",
      "📈 Epoch 16/50\n",
      "--------------------------------------------------\n",
      "🔄 Training Phase...\n"
     ]
    },
    {
     "name": "stderr",
     "output_type": "stream",
     "text": [
      "Training: 100%|██████████████████████████████| 48/48 [00:25<00:00,  1.85it/s, Loss=0.1127, Acc=0.9572]\n"
     ]
    },
    {
     "name": "stdout",
     "output_type": "stream",
     "text": [
      "✅ Training completed in 25.99s\n",
      "🔍 Validation Phase...\n"
     ]
    },
    {
     "name": "stderr",
     "output_type": "stream",
     "text": [
      "Validation: 100%|██████████████████████████████| 12/12 [00:03<00:00,  3.66it/s, Loss=1.0335, Acc=0.7344]\n"
     ]
    },
    {
     "name": "stdout",
     "output_type": "stream",
     "text": [
      "✅ Validation completed in 3.28s\n",
      "🌟 New best DenseNet-121 model found! Validation Accuracy: 0.7344\n",
      "\n",
      "📊 Epoch 16 Summary:\n",
      "│ Train Loss: 0.1127 | Train Acc: 0.9572\n",
      "│ Val Loss:   1.0335 | Val Acc:   0.7344\n",
      "│ Train Time: 25.99s | Val Time: 3.28s\n",
      "│ Total Epoch Time: 29.28s\n",
      "│ Best Val Acc: 0.7344 (Epoch 16)\n",
      "│ GPU Memory: 0.1GB / 4.5GB\n",
      "================================================================================\n",
      "\n",
      "📈 Epoch 17/50\n",
      "--------------------------------------------------\n",
      "🔄 Training Phase...\n"
     ]
    },
    {
     "name": "stderr",
     "output_type": "stream",
     "text": [
      "Training: 100%|██████████████████████████████| 48/48 [00:26<00:00,  1.83it/s, Loss=0.0676, Acc=0.9697]\n"
     ]
    },
    {
     "name": "stdout",
     "output_type": "stream",
     "text": [
      "✅ Training completed in 26.29s\n",
      "🔍 Validation Phase...\n"
     ]
    },
    {
     "name": "stderr",
     "output_type": "stream",
     "text": [
      "Validation: 100%|██████████████████████████████| 12/12 [00:03<00:00,  3.74it/s, Loss=1.2615, Acc=0.6328]\n"
     ]
    },
    {
     "name": "stdout",
     "output_type": "stream",
     "text": [
      "✅ Validation completed in 3.21s\n",
      "\n",
      "📊 Epoch 17 Summary:\n",
      "│ Train Loss: 0.0676 | Train Acc: 0.9697\n",
      "│ Val Loss:   1.2615 | Val Acc:   0.6328\n",
      "│ Train Time: 26.29s | Val Time: 3.21s\n",
      "│ Total Epoch Time: 29.51s\n",
      "│ Best Val Acc: 0.7344 (Epoch 16)\n",
      "│ GPU Memory: 0.1GB / 4.5GB\n",
      "================================================================================\n",
      "\n",
      "📈 Epoch 18/50\n",
      "--------------------------------------------------\n",
      "🔄 Training Phase...\n"
     ]
    },
    {
     "name": "stderr",
     "output_type": "stream",
     "text": [
      "Training: 100%|██████████████████████████████| 48/48 [00:25<00:00,  1.85it/s, Loss=0.0442, Acc=0.9882]\n"
     ]
    },
    {
     "name": "stdout",
     "output_type": "stream",
     "text": [
      "✅ Training completed in 25.92s\n",
      "🔍 Validation Phase...\n"
     ]
    },
    {
     "name": "stderr",
     "output_type": "stream",
     "text": [
      "Validation: 100%|██████████████████████████████| 12/12 [00:03<00:00,  3.79it/s, Loss=1.5751, Acc=0.6224]\n"
     ]
    },
    {
     "name": "stdout",
     "output_type": "stream",
     "text": [
      "✅ Validation completed in 3.17s\n",
      "\n",
      "📊 Epoch 18 Summary:\n",
      "│ Train Loss: 0.0442 | Train Acc: 0.9882\n",
      "│ Val Loss:   1.5751 | Val Acc:   0.6224\n",
      "│ Train Time: 25.92s | Val Time: 3.17s\n",
      "│ Total Epoch Time: 29.09s\n",
      "│ Best Val Acc: 0.7344 (Epoch 16)\n",
      "│ GPU Memory: 0.1GB / 4.5GB\n",
      "================================================================================\n",
      "\n",
      "📈 Epoch 19/50\n",
      "--------------------------------------------------\n",
      "🔄 Training Phase...\n"
     ]
    },
    {
     "name": "stderr",
     "output_type": "stream",
     "text": [
      "Training: 100%|██████████████████████████████| 48/48 [00:26<00:00,  1.84it/s, Loss=0.0386, Acc=0.9882]\n"
     ]
    },
    {
     "name": "stdout",
     "output_type": "stream",
     "text": [
      "✅ Training completed in 26.06s\n",
      "🔍 Validation Phase...\n"
     ]
    },
    {
     "name": "stderr",
     "output_type": "stream",
     "text": [
      "Validation: 100%|██████████████████████████████| 12/12 [00:03<00:00,  3.79it/s, Loss=1.8829, Acc=0.6172]\n"
     ]
    },
    {
     "name": "stdout",
     "output_type": "stream",
     "text": [
      "✅ Validation completed in 3.17s\n",
      "\n",
      "📊 Epoch 19 Summary:\n",
      "│ Train Loss: 0.0386 | Train Acc: 0.9882\n",
      "│ Val Loss:   1.8829 | Val Acc:   0.6172\n",
      "│ Train Time: 26.06s | Val Time: 3.17s\n",
      "│ Total Epoch Time: 29.23s\n",
      "│ Best Val Acc: 0.7344 (Epoch 16)\n",
      "│ GPU Memory: 0.1GB / 4.5GB\n",
      "================================================================================\n",
      "\n",
      "📈 Epoch 20/50\n",
      "--------------------------------------------------\n",
      "🔄 Training Phase...\n"
     ]
    },
    {
     "name": "stderr",
     "output_type": "stream",
     "text": [
      "Training: 100%|██████████████████████████████| 48/48 [00:26<00:00,  1.84it/s, Loss=0.0708, Acc=0.9789]\n"
     ]
    },
    {
     "name": "stdout",
     "output_type": "stream",
     "text": [
      "✅ Training completed in 26.06s\n",
      "🔍 Validation Phase...\n"
     ]
    },
    {
     "name": "stderr",
     "output_type": "stream",
     "text": [
      "Validation: 100%|██████████████████████████████| 12/12 [00:03<00:00,  3.79it/s, Loss=1.4974, Acc=0.6797]\n"
     ]
    },
    {
     "name": "stdout",
     "output_type": "stream",
     "text": [
      "✅ Validation completed in 3.17s\n",
      "\n",
      "📊 Epoch 20 Summary:\n",
      "│ Train Loss: 0.0708 | Train Acc: 0.9789\n",
      "│ Val Loss:   1.4974 | Val Acc:   0.6797\n",
      "│ Train Time: 26.06s | Val Time: 3.17s\n",
      "│ Total Epoch Time: 29.23s\n",
      "│ Best Val Acc: 0.7344 (Epoch 16)\n",
      "│ GPU Memory: 0.1GB / 4.5GB\n",
      "================================================================================\n",
      "\n",
      "📈 Epoch 21/50\n",
      "--------------------------------------------------\n",
      "🔄 Training Phase...\n"
     ]
    },
    {
     "name": "stderr",
     "output_type": "stream",
     "text": [
      "Training: 100%|██████████████████████████████| 48/48 [00:26<00:00,  1.82it/s, Loss=0.0962, Acc=0.9671]\n"
     ]
    },
    {
     "name": "stdout",
     "output_type": "stream",
     "text": [
      "✅ Training completed in 26.32s\n",
      "🔍 Validation Phase...\n"
     ]
    },
    {
     "name": "stderr",
     "output_type": "stream",
     "text": [
      "Validation: 100%|██████████████████████████████| 12/12 [00:03<00:00,  3.74it/s, Loss=1.4398, Acc=0.6667]\n"
     ]
    },
    {
     "name": "stdout",
     "output_type": "stream",
     "text": [
      "✅ Validation completed in 3.21s\n",
      "\n",
      "📊 Epoch 21 Summary:\n",
      "│ Train Loss: 0.0962 | Train Acc: 0.9671\n",
      "│ Val Loss:   1.4398 | Val Acc:   0.6667\n",
      "│ Train Time: 26.32s | Val Time: 3.21s\n",
      "│ Total Epoch Time: 29.53s\n",
      "│ Best Val Acc: 0.7344 (Epoch 16)\n",
      "│ GPU Memory: 0.1GB / 4.5GB\n",
      "================================================================================\n",
      "\n",
      "📈 Epoch 22/50\n",
      "--------------------------------------------------\n",
      "🔄 Training Phase...\n"
     ]
    },
    {
     "name": "stderr",
     "output_type": "stream",
     "text": [
      "Training: 100%|██████████████████████████████| 48/48 [00:26<00:00,  1.83it/s, Loss=0.0551, Acc=0.9836]\n"
     ]
    },
    {
     "name": "stdout",
     "output_type": "stream",
     "text": [
      "✅ Training completed in 26.26s\n",
      "🔍 Validation Phase...\n"
     ]
    },
    {
     "name": "stderr",
     "output_type": "stream",
     "text": [
      "Validation: 100%|██████████████████████████████| 12/12 [00:03<00:00,  3.83it/s, Loss=1.8683, Acc=0.6432]\n"
     ]
    },
    {
     "name": "stdout",
     "output_type": "stream",
     "text": [
      "✅ Validation completed in 3.14s\n",
      "\n",
      "📊 Epoch 22 Summary:\n",
      "│ Train Loss: 0.0551 | Train Acc: 0.9836\n",
      "│ Val Loss:   1.8683 | Val Acc:   0.6432\n",
      "│ Train Time: 26.26s | Val Time: 3.14s\n",
      "│ Total Epoch Time: 29.40s\n",
      "│ Best Val Acc: 0.7344 (Epoch 16)\n",
      "│ GPU Memory: 0.1GB / 4.5GB\n",
      "================================================================================\n",
      "\n",
      "📈 Epoch 23/50\n",
      "--------------------------------------------------\n",
      "🔄 Training Phase...\n"
     ]
    },
    {
     "name": "stderr",
     "output_type": "stream",
     "text": [
      "Training: 100%|██████████████████████████████| 48/48 [00:26<00:00,  1.83it/s, Loss=0.0569, Acc=0.9776]\n"
     ]
    },
    {
     "name": "stdout",
     "output_type": "stream",
     "text": [
      "✅ Training completed in 26.19s\n",
      "🔍 Validation Phase...\n"
     ]
    },
    {
     "name": "stderr",
     "output_type": "stream",
     "text": [
      "Validation: 100%|██████████████████████████████| 12/12 [00:03<00:00,  3.76it/s, Loss=1.9729, Acc=0.6354]\n"
     ]
    },
    {
     "name": "stdout",
     "output_type": "stream",
     "text": [
      "✅ Validation completed in 3.19s\n",
      "\n",
      "📊 Epoch 23 Summary:\n",
      "│ Train Loss: 0.0569 | Train Acc: 0.9776\n",
      "│ Val Loss:   1.9729 | Val Acc:   0.6354\n",
      "│ Train Time: 26.19s | Val Time: 3.19s\n",
      "│ Total Epoch Time: 29.38s\n",
      "│ Best Val Acc: 0.7344 (Epoch 16)\n",
      "│ GPU Memory: 0.1GB / 4.5GB\n",
      "================================================================================\n",
      "\n",
      "📈 Epoch 24/50\n",
      "--------------------------------------------------\n",
      "🔄 Training Phase...\n"
     ]
    },
    {
     "name": "stderr",
     "output_type": "stream",
     "text": [
      "Training: 100%|██████████████████████████████| 48/48 [00:26<00:00,  1.83it/s, Loss=0.0200, Acc=0.9954]\n"
     ]
    },
    {
     "name": "stdout",
     "output_type": "stream",
     "text": [
      "✅ Training completed in 26.26s\n",
      "🔍 Validation Phase...\n"
     ]
    },
    {
     "name": "stderr",
     "output_type": "stream",
     "text": [
      "Validation: 100%|██████████████████████████████| 12/12 [00:03<00:00,  3.86it/s, Loss=1.9287, Acc=0.6276]\n"
     ]
    },
    {
     "name": "stdout",
     "output_type": "stream",
     "text": [
      "✅ Validation completed in 3.11s\n",
      "\n",
      "📊 Epoch 24 Summary:\n",
      "│ Train Loss: 0.0200 | Train Acc: 0.9954\n",
      "│ Val Loss:   1.9287 | Val Acc:   0.6276\n",
      "│ Train Time: 26.26s | Val Time: 3.11s\n",
      "│ Total Epoch Time: 29.37s\n",
      "│ Best Val Acc: 0.7344 (Epoch 16)\n",
      "│ GPU Memory: 0.1GB / 4.5GB\n",
      "================================================================================\n",
      "\n",
      "📈 Epoch 25/50\n",
      "--------------------------------------------------\n",
      "🔄 Training Phase...\n"
     ]
    },
    {
     "name": "stderr",
     "output_type": "stream",
     "text": [
      "Training: 100%|██████████████████████████████| 48/48 [00:26<00:00,  1.83it/s, Loss=0.0217, Acc=0.9921]\n"
     ]
    },
    {
     "name": "stdout",
     "output_type": "stream",
     "text": [
      "✅ Training completed in 26.26s\n",
      "🔍 Validation Phase...\n"
     ]
    },
    {
     "name": "stderr",
     "output_type": "stream",
     "text": [
      "Validation: 100%|██████████████████████████████| 12/12 [00:03<00:00,  3.84it/s, Loss=1.8768, Acc=0.7109]\n"
     ]
    },
    {
     "name": "stdout",
     "output_type": "stream",
     "text": [
      "✅ Validation completed in 3.13s\n",
      "\n",
      "📊 Epoch 25 Summary:\n",
      "│ Train Loss: 0.0217 | Train Acc: 0.9921\n",
      "│ Val Loss:   1.8768 | Val Acc:   0.7109\n",
      "│ Train Time: 26.26s | Val Time: 3.13s\n",
      "│ Total Epoch Time: 29.39s\n",
      "│ Best Val Acc: 0.7344 (Epoch 16)\n",
      "│ GPU Memory: 0.1GB / 4.5GB\n",
      "================================================================================\n",
      "\n",
      "📈 Epoch 26/50\n",
      "--------------------------------------------------\n",
      "🔄 Training Phase...\n"
     ]
    },
    {
     "name": "stderr",
     "output_type": "stream",
     "text": [
      "Training: 100%|██████████████████████████████| 48/48 [00:26<00:00,  1.83it/s, Loss=0.0355, Acc=0.9882]\n"
     ]
    },
    {
     "name": "stdout",
     "output_type": "stream",
     "text": [
      "✅ Training completed in 26.18s\n",
      "🔍 Validation Phase...\n"
     ]
    },
    {
     "name": "stderr",
     "output_type": "stream",
     "text": [
      "Validation: 100%|██████████████████████████████| 12/12 [00:03<00:00,  3.84it/s, Loss=1.7378, Acc=0.7083]\n"
     ]
    },
    {
     "name": "stdout",
     "output_type": "stream",
     "text": [
      "✅ Validation completed in 3.13s\n",
      "\n",
      "📊 Epoch 26 Summary:\n",
      "│ Train Loss: 0.0355 | Train Acc: 0.9882\n",
      "│ Val Loss:   1.7378 | Val Acc:   0.7083\n",
      "│ Train Time: 26.18s | Val Time: 3.13s\n",
      "│ Total Epoch Time: 29.31s\n",
      "│ Best Val Acc: 0.7344 (Epoch 16)\n",
      "│ GPU Memory: 0.1GB / 4.5GB\n",
      "================================================================================\n",
      "\n",
      "📈 Epoch 27/50\n",
      "--------------------------------------------------\n",
      "🔄 Training Phase...\n"
     ]
    },
    {
     "name": "stderr",
     "output_type": "stream",
     "text": [
      "Training: 100%|██████████████████████████████| 48/48 [00:26<00:00,  1.83it/s, Loss=0.0244, Acc=0.9928]\n"
     ]
    },
    {
     "name": "stdout",
     "output_type": "stream",
     "text": [
      "✅ Training completed in 26.18s\n",
      "🔍 Validation Phase...\n"
     ]
    },
    {
     "name": "stderr",
     "output_type": "stream",
     "text": [
      "Validation: 100%|██████████████████████████████| 12/12 [00:03<00:00,  3.71it/s, Loss=1.8416, Acc=0.6198]\n"
     ]
    },
    {
     "name": "stdout",
     "output_type": "stream",
     "text": [
      "✅ Validation completed in 3.23s\n",
      "\n",
      "📊 Epoch 27 Summary:\n",
      "│ Train Loss: 0.0244 | Train Acc: 0.9928\n",
      "│ Val Loss:   1.8416 | Val Acc:   0.6198\n",
      "│ Train Time: 26.18s | Val Time: 3.23s\n",
      "│ Total Epoch Time: 29.42s\n",
      "│ Best Val Acc: 0.7344 (Epoch 16)\n",
      "│ GPU Memory: 0.1GB / 4.5GB\n",
      "================================================================================\n",
      "\n",
      "📈 Epoch 28/50\n",
      "--------------------------------------------------\n",
      "🔄 Training Phase...\n"
     ]
    },
    {
     "name": "stderr",
     "output_type": "stream",
     "text": [
      "Training: 100%|██████████████████████████████| 48/48 [00:26<00:00,  1.84it/s, Loss=0.0507, Acc=0.9829]\n"
     ]
    },
    {
     "name": "stdout",
     "output_type": "stream",
     "text": [
      "✅ Training completed in 26.12s\n",
      "🔍 Validation Phase...\n"
     ]
    },
    {
     "name": "stderr",
     "output_type": "stream",
     "text": [
      "Validation: 100%|██████████████████████████████| 12/12 [00:03<00:00,  3.75it/s, Loss=1.5052, Acc=0.6693]\n"
     ]
    },
    {
     "name": "stdout",
     "output_type": "stream",
     "text": [
      "✅ Validation completed in 3.21s\n",
      "\n",
      "📊 Epoch 28 Summary:\n",
      "│ Train Loss: 0.0507 | Train Acc: 0.9829\n",
      "│ Val Loss:   1.5052 | Val Acc:   0.6693\n",
      "│ Train Time: 26.12s | Val Time: 3.21s\n",
      "│ Total Epoch Time: 29.33s\n",
      "│ Best Val Acc: 0.7344 (Epoch 16)\n",
      "│ GPU Memory: 0.1GB / 4.5GB\n",
      "================================================================================\n",
      "\n",
      "📈 Epoch 29/50\n",
      "--------------------------------------------------\n",
      "🔄 Training Phase...\n"
     ]
    },
    {
     "name": "stderr",
     "output_type": "stream",
     "text": [
      "Training: 100%|██████████████████████████████| 48/48 [00:26<00:00,  1.80it/s, Loss=0.0687, Acc=0.9763]\n"
     ]
    },
    {
     "name": "stdout",
     "output_type": "stream",
     "text": [
      "✅ Training completed in 26.62s\n",
      "🔍 Validation Phase...\n"
     ]
    },
    {
     "name": "stderr",
     "output_type": "stream",
     "text": [
      "Validation: 100%|██████████████████████████████| 12/12 [00:03<00:00,  3.77it/s, Loss=1.7154, Acc=0.6172]\n"
     ]
    },
    {
     "name": "stdout",
     "output_type": "stream",
     "text": [
      "✅ Validation completed in 3.18s\n",
      "\n",
      "📊 Epoch 29 Summary:\n",
      "│ Train Loss: 0.0687 | Train Acc: 0.9763\n",
      "│ Val Loss:   1.7154 | Val Acc:   0.6172\n",
      "│ Train Time: 26.62s | Val Time: 3.18s\n",
      "│ Total Epoch Time: 29.81s\n",
      "│ Best Val Acc: 0.7344 (Epoch 16)\n",
      "│ GPU Memory: 0.1GB / 4.5GB\n",
      "================================================================================\n",
      "\n",
      "📈 Epoch 30/50\n",
      "--------------------------------------------------\n",
      "🔄 Training Phase...\n"
     ]
    },
    {
     "name": "stderr",
     "output_type": "stream",
     "text": [
      "Training: 100%|██████████████████████████████| 48/48 [00:26<00:00,  1.83it/s, Loss=0.0788, Acc=0.9737]\n"
     ]
    },
    {
     "name": "stdout",
     "output_type": "stream",
     "text": [
      "✅ Training completed in 26.24s\n",
      "🔍 Validation Phase...\n"
     ]
    },
    {
     "name": "stderr",
     "output_type": "stream",
     "text": [
      "Validation: 100%|██████████████████████████████| 12/12 [00:03<00:00,  3.79it/s, Loss=1.8234, Acc=0.5964]\n"
     ]
    },
    {
     "name": "stdout",
     "output_type": "stream",
     "text": [
      "✅ Validation completed in 3.17s\n",
      "\n",
      "📊 Epoch 30 Summary:\n",
      "│ Train Loss: 0.0788 | Train Acc: 0.9737\n",
      "│ Val Loss:   1.8234 | Val Acc:   0.5964\n",
      "│ Train Time: 26.24s | Val Time: 3.17s\n",
      "│ Total Epoch Time: 29.41s\n",
      "│ Best Val Acc: 0.7344 (Epoch 16)\n",
      "│ GPU Memory: 0.1GB / 4.5GB\n",
      "================================================================================\n",
      "\n",
      "📈 Epoch 31/50\n",
      "--------------------------------------------------\n",
      "🔄 Training Phase...\n"
     ]
    },
    {
     "name": "stderr",
     "output_type": "stream",
     "text": [
      "Training: 100%|██████████████████████████████| 48/48 [00:26<00:00,  1.84it/s, Loss=0.1044, Acc=0.9691]\n"
     ]
    },
    {
     "name": "stdout",
     "output_type": "stream",
     "text": [
      "✅ Training completed in 26.03s\n",
      "🔍 Validation Phase...\n"
     ]
    },
    {
     "name": "stderr",
     "output_type": "stream",
     "text": [
      "Validation: 100%|██████████████████████████████| 12/12 [00:03<00:00,  3.84it/s, Loss=1.5013, Acc=0.6224]\n"
     ]
    },
    {
     "name": "stdout",
     "output_type": "stream",
     "text": [
      "✅ Validation completed in 3.13s\n",
      "\n",
      "📊 Epoch 31 Summary:\n",
      "│ Train Loss: 0.1044 | Train Acc: 0.9691\n",
      "│ Val Loss:   1.5013 | Val Acc:   0.6224\n",
      "│ Train Time: 26.03s | Val Time: 3.13s\n",
      "│ Total Epoch Time: 29.16s\n",
      "│ Best Val Acc: 0.7344 (Epoch 16)\n",
      "│ GPU Memory: 0.1GB / 4.5GB\n",
      "================================================================================\n",
      "\n",
      "📈 Epoch 32/50\n",
      "--------------------------------------------------\n",
      "🔄 Training Phase...\n"
     ]
    },
    {
     "name": "stderr",
     "output_type": "stream",
     "text": [
      "Training: 100%|██████████████████████████████| 48/48 [00:26<00:00,  1.83it/s, Loss=0.0418, Acc=0.9862]\n"
     ]
    },
    {
     "name": "stdout",
     "output_type": "stream",
     "text": [
      "✅ Training completed in 26.16s\n",
      "🔍 Validation Phase...\n"
     ]
    },
    {
     "name": "stderr",
     "output_type": "stream",
     "text": [
      "Validation: 100%|██████████████████████████████| 12/12 [00:03<00:00,  3.85it/s, Loss=1.3926, Acc=0.7005]\n"
     ]
    },
    {
     "name": "stdout",
     "output_type": "stream",
     "text": [
      "✅ Validation completed in 3.12s\n",
      "\n",
      "📊 Epoch 32 Summary:\n",
      "│ Train Loss: 0.0418 | Train Acc: 0.9862\n",
      "│ Val Loss:   1.3926 | Val Acc:   0.7005\n",
      "│ Train Time: 26.16s | Val Time: 3.12s\n",
      "│ Total Epoch Time: 29.29s\n",
      "│ Best Val Acc: 0.7344 (Epoch 16)\n",
      "│ GPU Memory: 0.1GB / 4.5GB\n",
      "================================================================================\n",
      "\n",
      "📈 Epoch 33/50\n",
      "--------------------------------------------------\n",
      "🔄 Training Phase...\n"
     ]
    },
    {
     "name": "stderr",
     "output_type": "stream",
     "text": [
      "Training: 100%|██████████████████████████████| 48/48 [00:25<00:00,  1.85it/s, Loss=0.0437, Acc=0.9868]\n"
     ]
    },
    {
     "name": "stdout",
     "output_type": "stream",
     "text": [
      "✅ Training completed in 25.95s\n",
      "🔍 Validation Phase...\n"
     ]
    },
    {
     "name": "stderr",
     "output_type": "stream",
     "text": [
      "Validation: 100%|██████████████████████████████| 12/12 [00:03<00:00,  3.73it/s, Loss=1.7889, Acc=0.6406]\n"
     ]
    },
    {
     "name": "stdout",
     "output_type": "stream",
     "text": [
      "✅ Validation completed in 3.22s\n",
      "\n",
      "📊 Epoch 33 Summary:\n",
      "│ Train Loss: 0.0437 | Train Acc: 0.9868\n",
      "│ Val Loss:   1.7889 | Val Acc:   0.6406\n",
      "│ Train Time: 25.95s | Val Time: 3.22s\n",
      "│ Total Epoch Time: 29.17s\n",
      "│ Best Val Acc: 0.7344 (Epoch 16)\n",
      "│ GPU Memory: 0.1GB / 4.5GB\n",
      "================================================================================\n",
      "\n",
      "📈 Epoch 34/50\n",
      "--------------------------------------------------\n",
      "🔄 Training Phase...\n"
     ]
    },
    {
     "name": "stderr",
     "output_type": "stream",
     "text": [
      "Training: 100%|██████████████████████████████| 48/48 [00:26<00:00,  1.84it/s, Loss=0.0384, Acc=0.9875]\n"
     ]
    },
    {
     "name": "stdout",
     "output_type": "stream",
     "text": [
      "✅ Training completed in 26.07s\n",
      "🔍 Validation Phase...\n"
     ]
    },
    {
     "name": "stderr",
     "output_type": "stream",
     "text": [
      "Validation: 100%|██████████████████████████████| 12/12 [00:03<00:00,  3.80it/s, Loss=1.8168, Acc=0.6667]\n"
     ]
    },
    {
     "name": "stdout",
     "output_type": "stream",
     "text": [
      "✅ Validation completed in 3.16s\n",
      "\n",
      "📊 Epoch 34 Summary:\n",
      "│ Train Loss: 0.0384 | Train Acc: 0.9875\n",
      "│ Val Loss:   1.8168 | Val Acc:   0.6667\n",
      "│ Train Time: 26.07s | Val Time: 3.16s\n",
      "│ Total Epoch Time: 29.24s\n",
      "│ Best Val Acc: 0.7344 (Epoch 16)\n",
      "│ GPU Memory: 0.1GB / 4.5GB\n",
      "================================================================================\n",
      "\n",
      "📈 Epoch 35/50\n",
      "--------------------------------------------------\n",
      "🔄 Training Phase...\n"
     ]
    },
    {
     "name": "stderr",
     "output_type": "stream",
     "text": [
      "Training: 100%|██████████████████████████████| 48/48 [00:26<00:00,  1.84it/s, Loss=0.0162, Acc=0.9954]\n"
     ]
    },
    {
     "name": "stdout",
     "output_type": "stream",
     "text": [
      "✅ Training completed in 26.11s\n",
      "🔍 Validation Phase...\n"
     ]
    },
    {
     "name": "stderr",
     "output_type": "stream",
     "text": [
      "Validation: 100%|██████████████████████████████| 12/12 [00:03<00:00,  3.87it/s, Loss=1.9300, Acc=0.6198]\n"
     ]
    },
    {
     "name": "stdout",
     "output_type": "stream",
     "text": [
      "✅ Validation completed in 3.10s\n",
      "\n",
      "📊 Epoch 35 Summary:\n",
      "│ Train Loss: 0.0162 | Train Acc: 0.9954\n",
      "│ Val Loss:   1.9300 | Val Acc:   0.6198\n",
      "│ Train Time: 26.11s | Val Time: 3.10s\n",
      "│ Total Epoch Time: 29.22s\n",
      "│ Best Val Acc: 0.7344 (Epoch 16)\n",
      "│ GPU Memory: 0.1GB / 4.5GB\n",
      "================================================================================\n",
      "\n",
      "📈 Epoch 36/50\n",
      "--------------------------------------------------\n",
      "🔄 Training Phase...\n"
     ]
    },
    {
     "name": "stderr",
     "output_type": "stream",
     "text": [
      "Training: 100%|██████████████████████████████| 48/48 [00:26<00:00,  1.83it/s, Loss=0.0101, Acc=0.9974]\n"
     ]
    },
    {
     "name": "stdout",
     "output_type": "stream",
     "text": [
      "✅ Training completed in 26.28s\n",
      "🔍 Validation Phase...\n"
     ]
    },
    {
     "name": "stderr",
     "output_type": "stream",
     "text": [
      "Validation: 100%|██████████████████████████████| 12/12 [00:03<00:00,  3.77it/s, Loss=2.0015, Acc=0.6380]\n"
     ]
    },
    {
     "name": "stdout",
     "output_type": "stream",
     "text": [
      "✅ Validation completed in 3.18s\n",
      "\n",
      "📊 Epoch 36 Summary:\n",
      "│ Train Loss: 0.0101 | Train Acc: 0.9974\n",
      "│ Val Loss:   2.0015 | Val Acc:   0.6380\n",
      "│ Train Time: 26.28s | Val Time: 3.18s\n",
      "│ Total Epoch Time: 29.47s\n",
      "│ Best Val Acc: 0.7344 (Epoch 16)\n",
      "│ GPU Memory: 0.1GB / 4.5GB\n",
      "================================================================================\n",
      "\n",
      "📈 Epoch 37/50\n",
      "--------------------------------------------------\n",
      "🔄 Training Phase...\n"
     ]
    },
    {
     "name": "stderr",
     "output_type": "stream",
     "text": [
      "Training: 100%|██████████████████████████████| 48/48 [00:26<00:00,  1.84it/s, Loss=0.0105, Acc=0.9967]\n"
     ]
    },
    {
     "name": "stdout",
     "output_type": "stream",
     "text": [
      "✅ Training completed in 26.13s\n",
      "🔍 Validation Phase...\n"
     ]
    },
    {
     "name": "stderr",
     "output_type": "stream",
     "text": [
      "Validation: 100%|██████████████████████████████| 12/12 [00:03<00:00,  3.63it/s, Loss=2.0900, Acc=0.6328]\n"
     ]
    },
    {
     "name": "stdout",
     "output_type": "stream",
     "text": [
      "✅ Validation completed in 3.31s\n",
      "\n",
      "📊 Epoch 37 Summary:\n",
      "│ Train Loss: 0.0105 | Train Acc: 0.9967\n",
      "│ Val Loss:   2.0900 | Val Acc:   0.6328\n",
      "│ Train Time: 26.13s | Val Time: 3.31s\n",
      "│ Total Epoch Time: 29.44s\n",
      "│ Best Val Acc: 0.7344 (Epoch 16)\n",
      "│ GPU Memory: 0.1GB / 4.5GB\n",
      "================================================================================\n",
      "\n",
      "📈 Epoch 38/50\n",
      "--------------------------------------------------\n",
      "🔄 Training Phase...\n"
     ]
    },
    {
     "name": "stderr",
     "output_type": "stream",
     "text": [
      "Training: 100%|██████████████████████████████| 48/48 [00:26<00:00,  1.83it/s, Loss=0.0444, Acc=0.9888]\n"
     ]
    },
    {
     "name": "stdout",
     "output_type": "stream",
     "text": [
      "✅ Training completed in 26.24s\n",
      "🔍 Validation Phase...\n"
     ]
    },
    {
     "name": "stderr",
     "output_type": "stream",
     "text": [
      "Validation: 100%|██████████████████████████████| 12/12 [00:03<00:00,  3.77it/s, Loss=1.9404, Acc=0.5885]\n"
     ]
    },
    {
     "name": "stdout",
     "output_type": "stream",
     "text": [
      "✅ Validation completed in 3.19s\n",
      "\n",
      "📊 Epoch 38 Summary:\n",
      "│ Train Loss: 0.0444 | Train Acc: 0.9888\n",
      "│ Val Loss:   1.9404 | Val Acc:   0.5885\n",
      "│ Train Time: 26.24s | Val Time: 3.19s\n",
      "│ Total Epoch Time: 29.44s\n",
      "│ Best Val Acc: 0.7344 (Epoch 16)\n",
      "│ GPU Memory: 0.1GB / 4.5GB\n",
      "================================================================================\n",
      "\n",
      "📈 Epoch 39/50\n",
      "--------------------------------------------------\n",
      "🔄 Training Phase...\n"
     ]
    },
    {
     "name": "stderr",
     "output_type": "stream",
     "text": [
      "Training: 100%|██████████████████████████████| 48/48 [00:26<00:00,  1.84it/s, Loss=0.0374, Acc=0.9914]\n"
     ]
    },
    {
     "name": "stdout",
     "output_type": "stream",
     "text": [
      "✅ Training completed in 26.14s\n",
      "🔍 Validation Phase...\n"
     ]
    },
    {
     "name": "stderr",
     "output_type": "stream",
     "text": [
      "Validation: 100%|██████████████████████████████| 12/12 [00:03<00:00,  3.73it/s, Loss=1.7697, Acc=0.6562]\n"
     ]
    },
    {
     "name": "stdout",
     "output_type": "stream",
     "text": [
      "✅ Validation completed in 3.22s\n",
      "\n",
      "📊 Epoch 39 Summary:\n",
      "│ Train Loss: 0.0374 | Train Acc: 0.9914\n",
      "│ Val Loss:   1.7697 | Val Acc:   0.6562\n",
      "│ Train Time: 26.14s | Val Time: 3.22s\n",
      "│ Total Epoch Time: 29.37s\n",
      "│ Best Val Acc: 0.7344 (Epoch 16)\n",
      "│ GPU Memory: 0.1GB / 4.5GB\n",
      "================================================================================\n",
      "\n",
      "📈 Epoch 40/50\n",
      "--------------------------------------------------\n",
      "🔄 Training Phase...\n"
     ]
    },
    {
     "name": "stderr",
     "output_type": "stream",
     "text": [
      "Training: 100%|██████████████████████████████| 48/48 [00:26<00:00,  1.83it/s, Loss=0.0944, Acc=0.9730]\n"
     ]
    },
    {
     "name": "stdout",
     "output_type": "stream",
     "text": [
      "✅ Training completed in 26.29s\n",
      "🔍 Validation Phase...\n"
     ]
    },
    {
     "name": "stderr",
     "output_type": "stream",
     "text": [
      "Validation: 100%|██████████████████████████████| 12/12 [00:03<00:00,  3.87it/s, Loss=1.7926, Acc=0.6458]\n"
     ]
    },
    {
     "name": "stdout",
     "output_type": "stream",
     "text": [
      "✅ Validation completed in 3.10s\n",
      "\n",
      "📊 Epoch 40 Summary:\n",
      "│ Train Loss: 0.0944 | Train Acc: 0.9730\n",
      "│ Val Loss:   1.7926 | Val Acc:   0.6458\n",
      "│ Train Time: 26.29s | Val Time: 3.10s\n",
      "│ Total Epoch Time: 29.40s\n",
      "│ Best Val Acc: 0.7344 (Epoch 16)\n",
      "│ GPU Memory: 0.1GB / 4.5GB\n",
      "================================================================================\n",
      "\n",
      "📈 Epoch 41/50\n",
      "--------------------------------------------------\n",
      "🔄 Training Phase...\n"
     ]
    },
    {
     "name": "stderr",
     "output_type": "stream",
     "text": [
      "Training: 100%|██████████████████████████████| 48/48 [00:26<00:00,  1.83it/s, Loss=0.0601, Acc=0.9757]\n"
     ]
    },
    {
     "name": "stdout",
     "output_type": "stream",
     "text": [
      "✅ Training completed in 26.29s\n",
      "🔍 Validation Phase...\n"
     ]
    },
    {
     "name": "stderr",
     "output_type": "stream",
     "text": [
      "Validation: 100%|██████████████████████████████| 12/12 [00:03<00:00,  3.83it/s, Loss=1.4978, Acc=0.6536]\n"
     ]
    },
    {
     "name": "stdout",
     "output_type": "stream",
     "text": [
      "✅ Validation completed in 3.14s\n",
      "\n",
      "📊 Epoch 41 Summary:\n",
      "│ Train Loss: 0.0601 | Train Acc: 0.9757\n",
      "│ Val Loss:   1.4978 | Val Acc:   0.6536\n",
      "│ Train Time: 26.29s | Val Time: 3.14s\n",
      "│ Total Epoch Time: 29.43s\n",
      "│ Best Val Acc: 0.7344 (Epoch 16)\n",
      "│ GPU Memory: 0.1GB / 4.5GB\n",
      "================================================================================\n",
      "\n",
      "📈 Epoch 42/50\n",
      "--------------------------------------------------\n",
      "🔄 Training Phase...\n"
     ]
    },
    {
     "name": "stderr",
     "output_type": "stream",
     "text": [
      "Training: 100%|██████████████████████████████| 48/48 [00:26<00:00,  1.83it/s, Loss=0.0322, Acc=0.9875]\n"
     ]
    },
    {
     "name": "stdout",
     "output_type": "stream",
     "text": [
      "✅ Training completed in 26.28s\n",
      "🔍 Validation Phase...\n"
     ]
    },
    {
     "name": "stderr",
     "output_type": "stream",
     "text": [
      "Validation: 100%|██████████████████████████████| 12/12 [00:03<00:00,  3.86it/s, Loss=1.7278, Acc=0.6953]\n"
     ]
    },
    {
     "name": "stdout",
     "output_type": "stream",
     "text": [
      "✅ Validation completed in 3.11s\n",
      "\n",
      "📊 Epoch 42 Summary:\n",
      "│ Train Loss: 0.0322 | Train Acc: 0.9875\n",
      "│ Val Loss:   1.7278 | Val Acc:   0.6953\n",
      "│ Train Time: 26.28s | Val Time: 3.11s\n",
      "│ Total Epoch Time: 29.39s\n",
      "│ Best Val Acc: 0.7344 (Epoch 16)\n",
      "│ GPU Memory: 0.1GB / 4.5GB\n",
      "================================================================================\n",
      "\n",
      "📈 Epoch 43/50\n",
      "--------------------------------------------------\n",
      "🔄 Training Phase...\n"
     ]
    },
    {
     "name": "stderr",
     "output_type": "stream",
     "text": [
      "Training: 100%|██████████████████████████████| 48/48 [00:26<00:00,  1.84it/s, Loss=0.0082, Acc=0.9993]\n"
     ]
    },
    {
     "name": "stdout",
     "output_type": "stream",
     "text": [
      "✅ Training completed in 26.07s\n",
      "🔍 Validation Phase...\n"
     ]
    },
    {
     "name": "stderr",
     "output_type": "stream",
     "text": [
      "Validation: 100%|██████████████████████████████| 12/12 [00:03<00:00,  3.83it/s, Loss=1.5733, Acc=0.7083]\n"
     ]
    },
    {
     "name": "stdout",
     "output_type": "stream",
     "text": [
      "✅ Validation completed in 3.13s\n",
      "\n",
      "📊 Epoch 43 Summary:\n",
      "│ Train Loss: 0.0082 | Train Acc: 0.9993\n",
      "│ Val Loss:   1.5733 | Val Acc:   0.7083\n",
      "│ Train Time: 26.07s | Val Time: 3.13s\n",
      "│ Total Epoch Time: 29.21s\n",
      "│ Best Val Acc: 0.7344 (Epoch 16)\n",
      "│ GPU Memory: 0.1GB / 4.5GB\n",
      "================================================================================\n",
      "\n",
      "📈 Epoch 44/50\n",
      "--------------------------------------------------\n",
      "🔄 Training Phase...\n"
     ]
    },
    {
     "name": "stderr",
     "output_type": "stream",
     "text": [
      "Training: 100%|██████████████████████████████| 48/48 [00:26<00:00,  1.83it/s, Loss=0.0094, Acc=0.9974]\n"
     ]
    },
    {
     "name": "stdout",
     "output_type": "stream",
     "text": [
      "✅ Training completed in 26.23s\n",
      "🔍 Validation Phase...\n"
     ]
    },
    {
     "name": "stderr",
     "output_type": "stream",
     "text": [
      "Validation: 100%|██████████████████████████████| 12/12 [00:03<00:00,  3.82it/s, Loss=1.6954, Acc=0.6849]\n"
     ]
    },
    {
     "name": "stdout",
     "output_type": "stream",
     "text": [
      "✅ Validation completed in 3.14s\n",
      "\n",
      "📊 Epoch 44 Summary:\n",
      "│ Train Loss: 0.0094 | Train Acc: 0.9974\n",
      "│ Val Loss:   1.6954 | Val Acc:   0.6849\n",
      "│ Train Time: 26.23s | Val Time: 3.14s\n",
      "│ Total Epoch Time: 29.38s\n",
      "│ Best Val Acc: 0.7344 (Epoch 16)\n",
      "│ GPU Memory: 0.1GB / 4.5GB\n",
      "================================================================================\n",
      "\n",
      "📈 Epoch 45/50\n",
      "--------------------------------------------------\n",
      "🔄 Training Phase...\n"
     ]
    },
    {
     "name": "stderr",
     "output_type": "stream",
     "text": [
      "Training: 100%|██████████████████████████████| 48/48 [00:26<00:00,  1.84it/s, Loss=0.0078, Acc=0.9974]\n"
     ]
    },
    {
     "name": "stdout",
     "output_type": "stream",
     "text": [
      "✅ Training completed in 26.11s\n",
      "🔍 Validation Phase...\n"
     ]
    },
    {
     "name": "stderr",
     "output_type": "stream",
     "text": [
      "Validation: 100%|██████████████████████████████| 12/12 [00:03<00:00,  3.77it/s, Loss=1.9855, Acc=0.6615]\n"
     ]
    },
    {
     "name": "stdout",
     "output_type": "stream",
     "text": [
      "✅ Validation completed in 3.18s\n",
      "\n",
      "📊 Epoch 45 Summary:\n",
      "│ Train Loss: 0.0078 | Train Acc: 0.9974\n",
      "│ Val Loss:   1.9855 | Val Acc:   0.6615\n",
      "│ Train Time: 26.11s | Val Time: 3.18s\n",
      "│ Total Epoch Time: 29.30s\n",
      "│ Best Val Acc: 0.7344 (Epoch 16)\n",
      "│ GPU Memory: 0.1GB / 4.5GB\n",
      "================================================================================\n",
      "\n",
      "📈 Epoch 46/50\n",
      "--------------------------------------------------\n",
      "🔄 Training Phase...\n"
     ]
    },
    {
     "name": "stderr",
     "output_type": "stream",
     "text": [
      "Training: 100%|██████████████████████████████| 48/48 [00:26<00:00,  1.83it/s, Loss=0.0113, Acc=0.9974]\n"
     ]
    },
    {
     "name": "stdout",
     "output_type": "stream",
     "text": [
      "✅ Training completed in 26.27s\n",
      "🔍 Validation Phase...\n"
     ]
    },
    {
     "name": "stderr",
     "output_type": "stream",
     "text": [
      "Validation: 100%|██████████████████████████████| 12/12 [00:03<00:00,  3.82it/s, Loss=1.7852, Acc=0.6797]\n"
     ]
    },
    {
     "name": "stdout",
     "output_type": "stream",
     "text": [
      "✅ Validation completed in 3.15s\n",
      "\n",
      "📊 Epoch 46 Summary:\n",
      "│ Train Loss: 0.0113 | Train Acc: 0.9974\n",
      "│ Val Loss:   1.7852 | Val Acc:   0.6797\n",
      "│ Train Time: 26.27s | Val Time: 3.15s\n",
      "│ Total Epoch Time: 29.42s\n",
      "│ Best Val Acc: 0.7344 (Epoch 16)\n",
      "│ GPU Memory: 0.1GB / 4.5GB\n",
      "================================================================================\n",
      "\n",
      "📈 Epoch 47/50\n",
      "--------------------------------------------------\n",
      "🔄 Training Phase...\n"
     ]
    },
    {
     "name": "stderr",
     "output_type": "stream",
     "text": [
      "Training: 100%|██████████████████████████████| 48/48 [00:26<00:00,  1.84it/s, Loss=0.0151, Acc=0.9947]\n"
     ]
    },
    {
     "name": "stdout",
     "output_type": "stream",
     "text": [
      "✅ Training completed in 26.16s\n",
      "🔍 Validation Phase...\n"
     ]
    },
    {
     "name": "stderr",
     "output_type": "stream",
     "text": [
      "Validation: 100%|██████████████████████████████| 12/12 [00:03<00:00,  3.74it/s, Loss=1.6477, Acc=0.7083]\n"
     ]
    },
    {
     "name": "stdout",
     "output_type": "stream",
     "text": [
      "✅ Validation completed in 3.21s\n",
      "\n",
      "📊 Epoch 47 Summary:\n",
      "│ Train Loss: 0.0151 | Train Acc: 0.9947\n",
      "│ Val Loss:   1.6477 | Val Acc:   0.7083\n",
      "│ Train Time: 26.16s | Val Time: 3.21s\n",
      "│ Total Epoch Time: 29.38s\n",
      "│ Best Val Acc: 0.7344 (Epoch 16)\n",
      "│ GPU Memory: 0.1GB / 4.5GB\n",
      "================================================================================\n",
      "\n",
      "📈 Epoch 48/50\n",
      "--------------------------------------------------\n",
      "🔄 Training Phase...\n"
     ]
    },
    {
     "name": "stderr",
     "output_type": "stream",
     "text": [
      "Training: 100%|██████████████████████████████| 48/48 [00:26<00:00,  1.82it/s, Loss=0.0267, Acc=0.9914]\n"
     ]
    },
    {
     "name": "stdout",
     "output_type": "stream",
     "text": [
      "✅ Training completed in 26.43s\n",
      "🔍 Validation Phase...\n"
     ]
    },
    {
     "name": "stderr",
     "output_type": "stream",
     "text": [
      "Validation: 100%|██████████████████████████████| 12/12 [00:03<00:00,  3.77it/s, Loss=1.9435, Acc=0.6536]\n"
     ]
    },
    {
     "name": "stdout",
     "output_type": "stream",
     "text": [
      "✅ Validation completed in 3.18s\n",
      "\n",
      "📊 Epoch 48 Summary:\n",
      "│ Train Loss: 0.0267 | Train Acc: 0.9914\n",
      "│ Val Loss:   1.9435 | Val Acc:   0.6536\n",
      "│ Train Time: 26.43s | Val Time: 3.18s\n",
      "│ Total Epoch Time: 29.62s\n",
      "│ Best Val Acc: 0.7344 (Epoch 16)\n",
      "│ GPU Memory: 0.1GB / 4.5GB\n",
      "================================================================================\n",
      "\n",
      "📈 Epoch 49/50\n",
      "--------------------------------------------------\n",
      "🔄 Training Phase...\n"
     ]
    },
    {
     "name": "stderr",
     "output_type": "stream",
     "text": [
      "Training: 100%|██████████████████████████████| 48/48 [00:26<00:00,  1.84it/s, Loss=0.0136, Acc=0.9954]\n"
     ]
    },
    {
     "name": "stdout",
     "output_type": "stream",
     "text": [
      "✅ Training completed in 26.15s\n",
      "🔍 Validation Phase...\n"
     ]
    },
    {
     "name": "stderr",
     "output_type": "stream",
     "text": [
      "Validation: 100%|██████████████████████████████| 12/12 [00:03<00:00,  3.83it/s, Loss=1.8700, Acc=0.6693]\n"
     ]
    },
    {
     "name": "stdout",
     "output_type": "stream",
     "text": [
      "✅ Validation completed in 3.13s\n",
      "\n",
      "📊 Epoch 49 Summary:\n",
      "│ Train Loss: 0.0136 | Train Acc: 0.9954\n",
      "│ Val Loss:   1.8700 | Val Acc:   0.6693\n",
      "│ Train Time: 26.15s | Val Time: 3.13s\n",
      "│ Total Epoch Time: 29.29s\n",
      "│ Best Val Acc: 0.7344 (Epoch 16)\n",
      "│ GPU Memory: 0.1GB / 4.5GB\n",
      "================================================================================\n",
      "\n",
      "📈 Epoch 50/50\n",
      "--------------------------------------------------\n",
      "🔄 Training Phase...\n"
     ]
    },
    {
     "name": "stderr",
     "output_type": "stream",
     "text": [
      "Training: 100%|██████████████████████████████| 48/48 [00:26<00:00,  1.83it/s, Loss=0.0085, Acc=0.9974]\n"
     ]
    },
    {
     "name": "stdout",
     "output_type": "stream",
     "text": [
      "✅ Training completed in 26.28s\n",
      "🔍 Validation Phase...\n"
     ]
    },
    {
     "name": "stderr",
     "output_type": "stream",
     "text": [
      "Validation: 100%|██████████████████████████████| 12/12 [00:03<00:00,  3.79it/s, Loss=2.1315, Acc=0.6693]\n"
     ]
    },
    {
     "name": "stdout",
     "output_type": "stream",
     "text": [
      "✅ Validation completed in 3.17s\n",
      "\n",
      "📊 Epoch 50 Summary:\n",
      "│ Train Loss: 0.0085 | Train Acc: 0.9974\n",
      "│ Val Loss:   2.1315 | Val Acc:   0.6693\n",
      "│ Train Time: 26.28s | Val Time: 3.17s\n",
      "│ Total Epoch Time: 29.45s\n",
      "│ Best Val Acc: 0.7344 (Epoch 16)\n",
      "│ GPU Memory: 0.1GB / 4.5GB\n",
      "================================================================================\n",
      "\n",
      "💾 Best DenseNet-121 model saved as 'best_densenet121_model.pth'\n",
      "📊 Best model stats:\n",
      "│ Best Epoch: 16\n",
      "│ Best Val Acc: 0.7344\n",
      "\n",
      "💾 DenseNet-121 training history saved to 'densenet121_training_history.csv'\n",
      "\n",
      "🎉 DenseNet-121 Training Complete!\n",
      "Total Training Time: 1479.34s (24.7 minutes)\n",
      "Average Epoch Time: 29.59s\n",
      "\n",
      "⏱️  Epoch Timing Breakdown:\n",
      "│ Epoch 1: 40.73s\n",
      "│ Epoch 2: 29.32s\n",
      "│ Epoch 3: 29.71s\n",
      "│ Epoch 4: 29.13s\n",
      "│ Epoch 5: 29.33s\n",
      "│ Epoch 6: 29.46s\n",
      "│ Epoch 7: 29.40s\n",
      "│ Epoch 8: 29.30s\n",
      "│ Epoch 9: 29.35s\n",
      "│ Epoch 10: 29.25s\n",
      "│ Epoch 11: 29.27s\n",
      "│ Epoch 12: 29.29s\n",
      "│ Epoch 13: 29.22s\n",
      "│ Epoch 14: 29.21s\n",
      "│ Epoch 15: 29.57s\n",
      "│ Epoch 16: 29.28s\n",
      "│ Epoch 17: 29.51s\n",
      "│ Epoch 18: 29.09s\n",
      "│ Epoch 19: 29.23s\n",
      "│ Epoch 20: 29.23s\n",
      "│ Epoch 21: 29.53s\n",
      "│ Epoch 22: 29.40s\n",
      "│ Epoch 23: 29.38s\n",
      "│ Epoch 24: 29.37s\n",
      "│ Epoch 25: 29.39s\n",
      "│ Epoch 26: 29.31s\n",
      "│ Epoch 27: 29.42s\n",
      "│ Epoch 28: 29.33s\n",
      "│ Epoch 29: 29.81s\n",
      "│ Epoch 30: 29.41s\n",
      "│ Epoch 31: 29.16s\n",
      "│ Epoch 32: 29.29s\n",
      "│ Epoch 33: 29.17s\n",
      "│ Epoch 34: 29.24s\n",
      "│ Epoch 35: 29.22s\n",
      "│ Epoch 36: 29.47s\n",
      "│ Epoch 37: 29.44s\n",
      "│ Epoch 38: 29.44s\n",
      "│ Epoch 39: 29.37s\n",
      "│ Epoch 40: 29.40s\n",
      "│ Epoch 41: 29.43s\n",
      "│ Epoch 42: 29.39s\n",
      "│ Epoch 43: 29.21s\n",
      "│ Epoch 44: 29.38s\n",
      "│ Epoch 45: 29.30s\n",
      "│ Epoch 46: 29.42s\n",
      "│ Epoch 47: 29.38s\n",
      "│ Epoch 48: 29.62s\n",
      "│ Epoch 49: 29.29s\n",
      "│ Epoch 50: 29.45s\n",
      "\n",
      "🧪 Loading Best DenseNet-121 Model for Testing...\n",
      "✅ Best DenseNet-121 model from epoch 16 loaded successfully!\n"
     ]
    },
    {
     "name": "stderr",
     "output_type": "stream",
     "text": [
      "Testing DenseNet-121: 100%|██████████████████████████████| 16/16 [00:07<00:00,  2.08it/s]\n"
     ]
    },
    {
     "name": "stdout",
     "output_type": "stream",
     "text": [
      "✅ DenseNet-121 Testing completed in 7.71s\n",
      "\n",
      "📋 DenseNet-121 Classification Report:\n",
      "              precision    recall  f1-score   support\n",
      "\n",
      "   fast_bowl       0.73      0.75      0.74       304\n",
      "   spin_bowl       0.56      0.54      0.55       184\n",
      "\n",
      "    accuracy                           0.67       488\n",
      "   macro avg       0.65      0.64      0.64       488\n",
      "weighted avg       0.67      0.67      0.67       488\n",
      "\n",
      "🎯 DenseNet-121 Test Accuracy: 0.6680\n",
      "\n",
      "📊 DenseNet-121 Model Performance Summary:\n",
      "│ Best Validation Acc:  0.7344 (Epoch 16)\n",
      "│ Final Test Accuracy:  0.6680\n",
      "│ Val-Test Gap:         0.0663\n"
     ]
    },
    {
     "data": {
      "image/png": "[encoded data removed]",
      "text/plain": [
       "<Figure size 800x600 with 2 Axes>"
      ]
     },
     "metadata": {},
     "output_type": "display_data"
    },
    {
     "data": {
      "image/png": "[encoded data removed]",
      "text/plain": [
       "<Figure size 2000x500 with 4 Axes>"
      ]
     },
     "metadata": {},
     "output_type": "display_data"
    },
    {
     "name": "stdout",
     "output_type": "stream",
     "text": [
      "\n",
      "⏰ DenseNet-121 Final Timing Summary:\n",
      "│ Total Training: 1479.34s\n",
      "│ Average per Epoch: 29.59s\n",
      "│ Testing Time: 7.71s\n",
      "│ Total Runtime: 1487.05s\n",
      "\n",
      "💾 DenseNet-121 Files saved:\n",
      "│ best_densenet121_model.pth - Best validation accuracy model\n",
      "│ densenet121_training_history.csv - Training metrics for later plotting\n"
     ]
    }
   ],
   "source": [
    "# -----------------------------\n",
    "# 4. Training Loop with Best Model Saving (Val Accuracy) - DenseNet-121\n",
    "# -----------------------------\n",
    "import pandas as pd\n",
    "from tqdm import tqdm\n",
    "import time\n",
    "\n",
    "train_losses, val_losses = [], []\n",
    "train_accs, val_accs = [], []\n",
    "epoch_times = []\n",
    "epochs = 50\n",
    "\n",
    "# Initialize best model tracking - CHANGED TO VAL_ACC\n",
    "best_val_acc = 0.0  # Changed from best_val_loss = float('inf')\n",
    "best_model_state = None\n",
    "best_epoch = 0\n",
    "\n",
    "print(f\"\\n🚀 Starting DenseNet-121 Training for {epochs} epochs...\")\n",
    "print(\"=\" * 80)\n",
    "total_start_time = time.time()\n",
    "\n",
    "for epoch in range(epochs):\n",
    "    epoch_start_time = time.time()\n",
    "    \n",
    "    print(f\"\\n📈 Epoch {epoch+1}/{epochs}\")\n",
    "    print(\"-\" * 50)\n",
    "    \n",
    "    # Training Phase\n",
    "    print(\"🔄 Training Phase...\")\n",
    "    model.train()\n",
    "    running_loss, correct, total = 0, 0, 0\n",
    "    \n",
    "    train_pbar = tqdm(train_loader, desc=f\"Training\", \n",
    "                     bar_format='{l_bar}{bar:30}{r_bar}{bar:-30b}')\n",
    "    \n",
    "    train_phase_start = time.time()\n",
    "    \n",
    "    for batch_idx, (imgs, labels) in enumerate(train_pbar):\n",
    "        imgs, labels = imgs.to(device), labels.to(device)\n",
    "        \n",
    "        optimizer.zero_grad()\n",
    "        outputs = model(imgs)\n",
    "        loss = criterion(outputs, labels)\n",
    "        loss.backward()\n",
    "        optimizer.step()\n",
    "        \n",
    "        running_loss += loss.item()\n",
    "        _, preds = torch.max(outputs, 1)\n",
    "        correct += (preds == labels).sum().item()\n",
    "        total += labels.size(0)\n",
    "        \n",
    "        current_acc = correct / total\n",
    "        train_pbar.set_postfix({\n",
    "            'Loss': f'{running_loss/(batch_idx+1):.4f}',\n",
    "            'Acc': f'{current_acc:.4f}'\n",
    "        })\n",
    "        \n",
    "        if device.type == 'cuda' and batch_idx % 10 == 0:\n",
    "            gpu_memory = torch.cuda.memory_allocated() / 1024**3\n",
    "            train_pbar.set_postfix({\n",
    "                'Loss': f'{running_loss/(batch_idx+1):.4f}',\n",
    "                'Acc': f'{current_acc:.4f}',\n",
    "                'GPU': f'{gpu_memory:.1f}GB'\n",
    "            })\n",
    "    \n",
    "    train_phase_time = time.time() - train_phase_start\n",
    "    train_loss = running_loss / len(train_loader)\n",
    "    train_acc = correct / total\n",
    "    train_losses.append(train_loss)\n",
    "    train_accs.append(train_acc)\n",
    "    \n",
    "    print(f\"✅ Training completed in {train_phase_time:.2f}s\")\n",
    "    \n",
    "    # Validation Phase\n",
    "    print(\"🔍 Validation Phase...\")\n",
    "    model.eval()\n",
    "    running_loss, correct, total = 0, 0, 0\n",
    "    \n",
    "    val_phase_start = time.time()\n",
    "    val_pbar = tqdm(val_loader, desc=f\"Validation\", \n",
    "                   bar_format='{l_bar}{bar:30}{r_bar}{bar:-30b}')\n",
    "    \n",
    "    with torch.no_grad():\n",
    "        for batch_idx, (imgs, labels) in enumerate(val_pbar):\n",
    "            imgs, labels = imgs.to(device), labels.to(device)\n",
    "            outputs = model(imgs)\n",
    "            loss = criterion(outputs, labels)\n",
    "            \n",
    "            running_loss += loss.item()\n",
    "            _, preds = torch.max(outputs, 1)\n",
    "            correct += (preds == labels).sum().item()\n",
    "            total += labels.size(0)\n",
    "            \n",
    "            current_acc = correct / total\n",
    "            val_pbar.set_postfix({\n",
    "                'Loss': f'{running_loss/(batch_idx+1):.4f}',\n",
    "                'Acc': f'{current_acc:.4f}'\n",
    "            })\n",
    "    \n",
    "    val_phase_time = time.time() - val_phase_start\n",
    "    val_loss = running_loss / len(val_loader)\n",
    "    val_acc = correct / total\n",
    "    val_losses.append(val_loss)\n",
    "    val_accs.append(val_acc)\n",
    "    \n",
    "    print(f\"✅ Validation completed in {val_phase_time:.2f}s\")\n",
    "    \n",
    "    # Check if this is the best model so far based on val_acc - CHANGED\n",
    "    is_best = val_acc > best_val_acc  # Changed from val_loss < best_val_loss\n",
    "    if is_best:\n",
    "        best_val_acc = val_acc\n",
    "        best_epoch = epoch + 1\n",
    "        best_model_state = model.state_dict().copy()\n",
    "        print(f\"🌟 New best DenseNet-121 model found! Validation Accuracy: {val_acc:.4f}\")\n",
    "    \n",
    "    # Epoch Summary\n",
    "    epoch_time = time.time() - epoch_start_time\n",
    "    epoch_times.append(epoch_time)\n",
    "    \n",
    "    print(f\"\\n📊 Epoch {epoch+1} Summary:\")\n",
    "    print(f\"│ Train Loss: {train_loss:.4f} | Train Acc: {train_acc:.4f}\")\n",
    "    print(f\"│ Val Loss:   {val_loss:.4f} | Val Acc:   {val_acc:.4f}\")\n",
    "    print(f\"│ Train Time: {train_phase_time:.2f}s | Val Time: {val_phase_time:.2f}s\")\n",
    "    print(f\"│ Total Epoch Time: {epoch_time:.2f}s\")\n",
    "    print(f\"│ Best Val Acc: {best_val_acc:.4f} (Epoch {best_epoch})\")  # Changed\n",
    "    \n",
    "    if device.type == 'cuda':\n",
    "        print(f\"│ GPU Memory: {torch.cuda.memory_allocated()/1024**3:.1f}GB / {torch.cuda.memory_reserved()/1024**3:.1f}GB\")\n",
    "    \n",
    "    print(\"=\" * 80)\n",
    "\n",
    "total_training_time = time.time() - total_start_time\n",
    "\n",
    "# Save the best model - UPDATED MESSAGES\n",
    "if best_model_state is not None:\n",
    "    torch.save(best_model_state, 'best_densenet121_model.pth')\n",
    "    print(f\"\\n💾 Best DenseNet-121 model saved as 'best_densenet121_model.pth'\")\n",
    "    print(f\"📊 Best model stats:\")\n",
    "    print(f\"│ Best Epoch: {best_epoch}\")\n",
    "    print(f\"│ Best Val Acc: {best_val_acc:.4f}\")  # Changed from best_val_loss\n",
    "\n",
    "# NEW: Save training history data to CSV\n",
    "history_data = {\n",
    "    'epoch': list(range(1, epochs+1)),\n",
    "    'train_loss': train_losses,\n",
    "    'val_loss': val_losses,\n",
    "    'train_acc': train_accs,\n",
    "    'val_acc': val_accs,\n",
    "    'epoch_time': epoch_times\n",
    "}\n",
    "history_df = pd.DataFrame(history_data)\n",
    "history_df.to_csv('densenet121_training_history.csv', index=False)\n",
    "print(\"\\n💾 DenseNet-121 training history saved to 'densenet121_training_history.csv'\")\n",
    "\n",
    "# Training Summary\n",
    "print(f\"\\n🎉 DenseNet-121 Training Complete!\")\n",
    "print(f\"Total Training Time: {total_training_time:.2f}s ({total_training_time/60:.1f} minutes)\")\n",
    "print(f\"Average Epoch Time: {np.mean(epoch_times):.2f}s\")\n",
    "print(\"\\n⏱️  Epoch Timing Breakdown:\")\n",
    "for i, t in enumerate(epoch_times):\n",
    "    print(f\"│ Epoch {i+1}: {t:.2f}s\")\n",
    "\n",
    "# -----------------------------\n",
    "# 5. Load Best Model and Test\n",
    "# -----------------------------\n",
    "print(f\"\\n🧪 Loading Best DenseNet-121 Model for Testing...\")\n",
    "# Load the best model state\n",
    "if best_model_state is not None:\n",
    "    model.load_state_dict(best_model_state)\n",
    "    print(f\"✅ Best DenseNet-121 model from epoch {best_epoch} loaded successfully!\")\n",
    "else:\n",
    "    print(\"⚠️  No best model found, using current model state\")\n",
    "\n",
    "test_start_time = time.time()\n",
    "y_true, y_pred = [], []\n",
    "model.eval()\n",
    "\n",
    "test_pbar = tqdm(test_loader, desc=\"Testing DenseNet-121\", \n",
    "                bar_format='{l_bar}{bar:30}{r_bar}{bar:-30b}')\n",
    "\n",
    "with torch.no_grad():\n",
    "    for imgs, labels in test_pbar:\n",
    "        imgs, labels = imgs.to(device), labels.to(device)\n",
    "        outputs = model(imgs)\n",
    "        _, preds = torch.max(outputs, 1)\n",
    "        y_true.extend(labels.cpu().numpy())\n",
    "        y_pred.extend(preds.cpu().numpy())\n",
    "\n",
    "test_time = time.time() - test_start_time\n",
    "test_accuracy = accuracy_score(y_true, y_pred)\n",
    "\n",
    "print(f\"✅ DenseNet-121 Testing completed in {test_time:.2f}s\")\n",
    "print(\"\\n📋 DenseNet-121 Classification Report:\")\n",
    "print(classification_report(y_true, y_pred, target_names=classes))\n",
    "print(f\"🎯 DenseNet-121 Test Accuracy: {test_accuracy:.4f}\")\n",
    "\n",
    "# Model Performance Summary - UPDATED\n",
    "print(f\"\\n📊 DenseNet-121 Model Performance Summary:\")\n",
    "print(f\"│ Best Validation Acc:  {best_val_acc:.4f} (Epoch {best_epoch})\")  # Changed\n",
    "print(f\"│ Final Test Accuracy:  {test_accuracy:.4f}\")\n",
    "print(f\"│ Val-Test Gap:         {abs(best_val_acc - test_accuracy):.4f}\")\n",
    "\n",
    "# Confusion Matrix\n",
    "cm = confusion_matrix(y_true, y_pred)\n",
    "plt.figure(figsize=(8, 6))\n",
    "sns.heatmap(cm, annot=True, fmt=\"d\", cmap=\"Greens\", xticklabels=classes, yticklabels=classes)\n",
    "plt.xlabel(\"Predicted\")\n",
    "plt.ylabel(\"True\")\n",
    "plt.title(f\"DenseNet-121 Confusion Matrix - Best Model (Epoch {best_epoch})\")\n",
    "plt.show()\n",
    "\n",
    "# -----------------------------\n",
    "# 6. Enhanced Visualizations - UPDATED\n",
    "# -----------------------------\n",
    "plt.figure(figsize=(20, 5))\n",
    "\n",
    "# Loss Plot\n",
    "plt.subplot(1, 4, 1)\n",
    "plt.plot(range(1, epochs+1), train_losses, 'b-', label=\"Train Loss\", marker='o', linewidth=2)\n",
    "plt.plot(range(1, epochs+1), val_losses, 'r-', label=\"Val Loss\", marker='s', linewidth=2)\n",
    "plt.axvline(x=best_epoch, color='green', linestyle='--', alpha=0.7, label=f'Best (Epoch {best_epoch})')\n",
    "plt.legend()\n",
    "plt.title(\"DenseNet-121 Loss over Epochs\")\n",
    "plt.xlabel(\"Epoch\")\n",
    "plt.ylabel(\"Loss\")\n",
    "plt.grid(True, alpha=0.3)\n",
    "\n",
    "# Accuracy Plot - UPDATED\n",
    "plt.subplot(1, 4, 2)\n",
    "plt.plot(range(1, epochs+1), train_accs, 'b-', label=\"Train Accuracy\", marker='o', linewidth=2)\n",
    "plt.plot(range(1, epochs+1), val_accs, 'r-', label=\"Val Accuracy\", marker='s', linewidth=2)\n",
    "plt.axvline(x=best_epoch, color='green', linestyle='--', alpha=0.7, label=f'Best (Epoch {best_epoch})')\n",
    "plt.scatter([best_epoch], [best_val_acc], color='green', s=100, zorder=5)  # Changed to best_val_acc\n",
    "plt.legend()\n",
    "plt.title(\"DenseNet-121 Accuracy over Epochs\")\n",
    "plt.xlabel(\"Epoch\")\n",
    "plt.ylabel(\"Accuracy\")\n",
    "plt.grid(True, alpha=0.3)\n",
    "\n",
    "# Timing Plot\n",
    "plt.subplot(1, 4, 3)\n",
    "bars = plt.bar(range(1, epochs+1), epoch_times, color='lightgreen', alpha=0.7)\n",
    "bars[best_epoch-1].set_color('green')\n",
    "plt.title(\"DenseNet-121 Training Time per Epoch\")\n",
    "plt.xlabel(\"Epoch\")\n",
    "plt.ylabel(\"Time (seconds)\")\n",
    "plt.grid(True, alpha=0.3)\n",
    "for i, t in enumerate(epoch_times):\n",
    "    plt.text(i+1, t+0.5, f'{t:.1f}s', ha='center', va='bottom')\n",
    "\n",
    "# Performance Comparison\n",
    "plt.subplot(1, 4, 4)\n",
    "metrics = ['Best Val Acc', 'Test Acc']\n",
    "values = [best_val_acc, test_accuracy]\n",
    "colors = ['lightgreen', 'green']\n",
    "bars = plt.bar(metrics, values, color=colors, alpha=0.7)\n",
    "plt.title(\"DenseNet-121 Final Model Performance\")\n",
    "plt.ylabel(\"Accuracy\")\n",
    "plt.ylim(0, 1)\n",
    "plt.grid(True, alpha=0.3)\n",
    "for bar, val in zip(bars, values):\n",
    "    plt.text(bar.get_x() + bar.get_width()/2, val + 0.01, \n",
    "             f'{val:.4f}', ha='center', va='bottom')\n",
    "\n",
    "plt.tight_layout()\n",
    "plt.show()\n",
    "\n",
    "print(f\"\\n⏰ DenseNet-121 Final Timing Summary:\")\n",
    "print(f\"│ Total Training: {total_training_time:.2f}s\")\n",
    "print(f\"│ Average per Epoch: {np.mean(epoch_times):.2f}s\")\n",
    "print(f\"│ Testing Time: {test_time:.2f}s\")\n",
    "print(f\"│ Total Runtime: {total_training_time + test_time:.2f}s\")\n",
    "\n",
    "print(f\"\\n💾 DenseNet-121 Files saved:\")\n",
    "print(f\"│ best_densenet121_model.pth - Best validation accuracy model\")\n",
    "print(f\"│ densenet121_training_history.csv - Training metrics for later plotting\")"
   ]
  },
  {
   "cell_type": "code",
   "execution_count": 9,
   "id": "91e8c782",
   "metadata": {
    "execution": {
     "iopub.execute_input": "2025-09-08T07:44:42.810061Z",
     "iopub.status.busy": "2025-09-08T07:44:42.809761Z",
     "iopub.status.idle": "2025-09-08T07:44:42.837535Z",
     "shell.execute_reply": "2025-09-08T07:44:42.836900Z"
    },
    "papermill": {
     "duration": 0.324223,
     "end_time": "2025-09-08T07:44:42.838551",
     "exception": false,
     "start_time": "2025-09-08T07:44:42.514328",
     "status": "completed"
    },
    "tags": []
   },
   "outputs": [
    {
     "data": {
      "text/html": [
       "<div>\n",
       "<style scoped>\n",
       "    .dataframe tbody tr th:only-of-type {\n",
       "        vertical-align: middle;\n",
       "    }\n",
       "\n",
       "    .dataframe tbody tr th {\n",
       "        vertical-align: top;\n",
       "    }\n",
       "\n",
       "    .dataframe thead th {\n",
       "        text-align: right;\n",
       "    }\n",
       "</style>\n",
       "<table border=\"1\" class=\"dataframe\">\n",
       "  <thead>\n",
       "    <tr style=\"text-align: right;\">\n",
       "      <th></th>\n",
       "      <th>epoch</th>\n",
       "      <th>train_loss</th>\n",
       "      <th>val_loss</th>\n",
       "      <th>train_acc</th>\n",
       "      <th>val_acc</th>\n",
       "      <th>epoch_time</th>\n",
       "    </tr>\n",
       "  </thead>\n",
       "  <tbody>\n",
       "    <tr>\n",
       "      <th>0</th>\n",
       "      <td>1</td>\n",
       "      <td>0.662077</td>\n",
       "      <td>0.716904</td>\n",
       "      <td>0.611184</td>\n",
       "      <td>0.580729</td>\n",
       "      <td>40.731831</td>\n",
       "    </tr>\n",
       "    <tr>\n",
       "      <th>1</th>\n",
       "      <td>2</td>\n",
       "      <td>0.615433</td>\n",
       "      <td>0.933767</td>\n",
       "      <td>0.663816</td>\n",
       "      <td>0.463542</td>\n",
       "      <td>29.316214</td>\n",
       "    </tr>\n",
       "    <tr>\n",
       "      <th>2</th>\n",
       "      <td>3</td>\n",
       "      <td>0.595912</td>\n",
       "      <td>0.642131</td>\n",
       "      <td>0.689474</td>\n",
       "      <td>0.697917</td>\n",
       "      <td>29.711928</td>\n",
       "    </tr>\n",
       "    <tr>\n",
       "      <th>3</th>\n",
       "      <td>4</td>\n",
       "      <td>0.540821</td>\n",
       "      <td>0.603096</td>\n",
       "      <td>0.729605</td>\n",
       "      <td>0.708333</td>\n",
       "      <td>29.126153</td>\n",
       "    </tr>\n",
       "    <tr>\n",
       "      <th>4</th>\n",
       "      <td>5</td>\n",
       "      <td>0.456970</td>\n",
       "      <td>0.781136</td>\n",
       "      <td>0.790789</td>\n",
       "      <td>0.679688</td>\n",
       "      <td>29.328840</td>\n",
       "    </tr>\n",
       "    <tr>\n",
       "      <th>5</th>\n",
       "      <td>6</td>\n",
       "      <td>0.399144</td>\n",
       "      <td>0.855798</td>\n",
       "      <td>0.817105</td>\n",
       "      <td>0.679688</td>\n",
       "      <td>29.463019</td>\n",
       "    </tr>\n",
       "    <tr>\n",
       "      <th>6</th>\n",
       "      <td>7</td>\n",
       "      <td>0.341878</td>\n",
       "      <td>1.020223</td>\n",
       "      <td>0.853289</td>\n",
       "      <td>0.562500</td>\n",
       "      <td>29.402977</td>\n",
       "    </tr>\n",
       "    <tr>\n",
       "      <th>7</th>\n",
       "      <td>8</td>\n",
       "      <td>0.244490</td>\n",
       "      <td>1.004234</td>\n",
       "      <td>0.909211</td>\n",
       "      <td>0.723958</td>\n",
       "      <td>29.298037</td>\n",
       "    </tr>\n",
       "    <tr>\n",
       "      <th>8</th>\n",
       "      <td>9</td>\n",
       "      <td>0.205643</td>\n",
       "      <td>1.054777</td>\n",
       "      <td>0.925658</td>\n",
       "      <td>0.619792</td>\n",
       "      <td>29.354836</td>\n",
       "    </tr>\n",
       "    <tr>\n",
       "      <th>9</th>\n",
       "      <td>10</td>\n",
       "      <td>0.192359</td>\n",
       "      <td>1.165473</td>\n",
       "      <td>0.921711</td>\n",
       "      <td>0.604167</td>\n",
       "      <td>29.245620</td>\n",
       "    </tr>\n",
       "    <tr>\n",
       "      <th>10</th>\n",
       "      <td>11</td>\n",
       "      <td>0.184354</td>\n",
       "      <td>1.143780</td>\n",
       "      <td>0.930921</td>\n",
       "      <td>0.697917</td>\n",
       "      <td>29.271792</td>\n",
       "    </tr>\n",
       "    <tr>\n",
       "      <th>11</th>\n",
       "      <td>12</td>\n",
       "      <td>0.161732</td>\n",
       "      <td>1.254884</td>\n",
       "      <td>0.938816</td>\n",
       "      <td>0.601562</td>\n",
       "      <td>29.289676</td>\n",
       "    </tr>\n",
       "    <tr>\n",
       "      <th>12</th>\n",
       "      <td>13</td>\n",
       "      <td>0.099628</td>\n",
       "      <td>1.273177</td>\n",
       "      <td>0.965789</td>\n",
       "      <td>0.630208</td>\n",
       "      <td>29.220318</td>\n",
       "    </tr>\n",
       "    <tr>\n",
       "      <th>13</th>\n",
       "      <td>14</td>\n",
       "      <td>0.146013</td>\n",
       "      <td>1.140674</td>\n",
       "      <td>0.942763</td>\n",
       "      <td>0.651042</td>\n",
       "      <td>29.207188</td>\n",
       "    </tr>\n",
       "    <tr>\n",
       "      <th>14</th>\n",
       "      <td>15</td>\n",
       "      <td>0.160147</td>\n",
       "      <td>1.238822</td>\n",
       "      <td>0.939474</td>\n",
       "      <td>0.692708</td>\n",
       "      <td>29.573267</td>\n",
       "    </tr>\n",
       "    <tr>\n",
       "      <th>15</th>\n",
       "      <td>16</td>\n",
       "      <td>0.112688</td>\n",
       "      <td>1.033492</td>\n",
       "      <td>0.957237</td>\n",
       "      <td>0.734375</td>\n",
       "      <td>29.279472</td>\n",
       "    </tr>\n",
       "    <tr>\n",
       "      <th>16</th>\n",
       "      <td>17</td>\n",
       "      <td>0.067557</td>\n",
       "      <td>1.261482</td>\n",
       "      <td>0.969737</td>\n",
       "      <td>0.632812</td>\n",
       "      <td>29.511797</td>\n",
       "    </tr>\n",
       "    <tr>\n",
       "      <th>17</th>\n",
       "      <td>18</td>\n",
       "      <td>0.044157</td>\n",
       "      <td>1.575136</td>\n",
       "      <td>0.988158</td>\n",
       "      <td>0.622396</td>\n",
       "      <td>29.094468</td>\n",
       "    </tr>\n",
       "    <tr>\n",
       "      <th>18</th>\n",
       "      <td>19</td>\n",
       "      <td>0.038612</td>\n",
       "      <td>1.882906</td>\n",
       "      <td>0.988158</td>\n",
       "      <td>0.617188</td>\n",
       "      <td>29.231142</td>\n",
       "    </tr>\n",
       "    <tr>\n",
       "      <th>19</th>\n",
       "      <td>20</td>\n",
       "      <td>0.070847</td>\n",
       "      <td>1.497378</td>\n",
       "      <td>0.978947</td>\n",
       "      <td>0.679688</td>\n",
       "      <td>29.229285</td>\n",
       "    </tr>\n",
       "    <tr>\n",
       "      <th>20</th>\n",
       "      <td>21</td>\n",
       "      <td>0.096227</td>\n",
       "      <td>1.439805</td>\n",
       "      <td>0.967105</td>\n",
       "      <td>0.666667</td>\n",
       "      <td>29.534651</td>\n",
       "    </tr>\n",
       "    <tr>\n",
       "      <th>21</th>\n",
       "      <td>22</td>\n",
       "      <td>0.055115</td>\n",
       "      <td>1.868268</td>\n",
       "      <td>0.983553</td>\n",
       "      <td>0.643229</td>\n",
       "      <td>29.400056</td>\n",
       "    </tr>\n",
       "    <tr>\n",
       "      <th>22</th>\n",
       "      <td>23</td>\n",
       "      <td>0.056915</td>\n",
       "      <td>1.972919</td>\n",
       "      <td>0.977632</td>\n",
       "      <td>0.635417</td>\n",
       "      <td>29.383984</td>\n",
       "    </tr>\n",
       "    <tr>\n",
       "      <th>23</th>\n",
       "      <td>24</td>\n",
       "      <td>0.019995</td>\n",
       "      <td>1.928734</td>\n",
       "      <td>0.995395</td>\n",
       "      <td>0.627604</td>\n",
       "      <td>29.371258</td>\n",
       "    </tr>\n",
       "    <tr>\n",
       "      <th>24</th>\n",
       "      <td>25</td>\n",
       "      <td>0.021730</td>\n",
       "      <td>1.876837</td>\n",
       "      <td>0.992105</td>\n",
       "      <td>0.710938</td>\n",
       "      <td>29.394589</td>\n",
       "    </tr>\n",
       "    <tr>\n",
       "      <th>25</th>\n",
       "      <td>26</td>\n",
       "      <td>0.035474</td>\n",
       "      <td>1.737773</td>\n",
       "      <td>0.988158</td>\n",
       "      <td>0.708333</td>\n",
       "      <td>29.307716</td>\n",
       "    </tr>\n",
       "    <tr>\n",
       "      <th>26</th>\n",
       "      <td>27</td>\n",
       "      <td>0.024409</td>\n",
       "      <td>1.841579</td>\n",
       "      <td>0.992763</td>\n",
       "      <td>0.619792</td>\n",
       "      <td>29.421282</td>\n",
       "    </tr>\n",
       "    <tr>\n",
       "      <th>27</th>\n",
       "      <td>28</td>\n",
       "      <td>0.050710</td>\n",
       "      <td>1.505226</td>\n",
       "      <td>0.982895</td>\n",
       "      <td>0.669271</td>\n",
       "      <td>29.333652</td>\n",
       "    </tr>\n",
       "    <tr>\n",
       "      <th>28</th>\n",
       "      <td>29</td>\n",
       "      <td>0.068722</td>\n",
       "      <td>1.715398</td>\n",
       "      <td>0.976316</td>\n",
       "      <td>0.617188</td>\n",
       "      <td>29.808696</td>\n",
       "    </tr>\n",
       "    <tr>\n",
       "      <th>29</th>\n",
       "      <td>30</td>\n",
       "      <td>0.078837</td>\n",
       "      <td>1.823415</td>\n",
       "      <td>0.973684</td>\n",
       "      <td>0.596354</td>\n",
       "      <td>29.413292</td>\n",
       "    </tr>\n",
       "    <tr>\n",
       "      <th>30</th>\n",
       "      <td>31</td>\n",
       "      <td>0.104424</td>\n",
       "      <td>1.501315</td>\n",
       "      <td>0.969079</td>\n",
       "      <td>0.622396</td>\n",
       "      <td>29.161094</td>\n",
       "    </tr>\n",
       "    <tr>\n",
       "      <th>31</th>\n",
       "      <td>32</td>\n",
       "      <td>0.041751</td>\n",
       "      <td>1.392644</td>\n",
       "      <td>0.986184</td>\n",
       "      <td>0.700521</td>\n",
       "      <td>29.287846</td>\n",
       "    </tr>\n",
       "    <tr>\n",
       "      <th>32</th>\n",
       "      <td>33</td>\n",
       "      <td>0.043710</td>\n",
       "      <td>1.788896</td>\n",
       "      <td>0.986842</td>\n",
       "      <td>0.640625</td>\n",
       "      <td>29.174897</td>\n",
       "    </tr>\n",
       "    <tr>\n",
       "      <th>33</th>\n",
       "      <td>34</td>\n",
       "      <td>0.038378</td>\n",
       "      <td>1.816829</td>\n",
       "      <td>0.987500</td>\n",
       "      <td>0.666667</td>\n",
       "      <td>29.235200</td>\n",
       "    </tr>\n",
       "    <tr>\n",
       "      <th>34</th>\n",
       "      <td>35</td>\n",
       "      <td>0.016228</td>\n",
       "      <td>1.929981</td>\n",
       "      <td>0.995395</td>\n",
       "      <td>0.619792</td>\n",
       "      <td>29.215868</td>\n",
       "    </tr>\n",
       "    <tr>\n",
       "      <th>35</th>\n",
       "      <td>36</td>\n",
       "      <td>0.010115</td>\n",
       "      <td>2.001470</td>\n",
       "      <td>0.997368</td>\n",
       "      <td>0.638021</td>\n",
       "      <td>29.467724</td>\n",
       "    </tr>\n",
       "    <tr>\n",
       "      <th>36</th>\n",
       "      <td>37</td>\n",
       "      <td>0.010546</td>\n",
       "      <td>2.089980</td>\n",
       "      <td>0.996711</td>\n",
       "      <td>0.632812</td>\n",
       "      <td>29.436693</td>\n",
       "    </tr>\n",
       "    <tr>\n",
       "      <th>37</th>\n",
       "      <td>38</td>\n",
       "      <td>0.044438</td>\n",
       "      <td>1.940368</td>\n",
       "      <td>0.988816</td>\n",
       "      <td>0.588542</td>\n",
       "      <td>29.435130</td>\n",
       "    </tr>\n",
       "    <tr>\n",
       "      <th>38</th>\n",
       "      <td>39</td>\n",
       "      <td>0.037381</td>\n",
       "      <td>1.769652</td>\n",
       "      <td>0.991447</td>\n",
       "      <td>0.656250</td>\n",
       "      <td>29.369467</td>\n",
       "    </tr>\n",
       "    <tr>\n",
       "      <th>39</th>\n",
       "      <td>40</td>\n",
       "      <td>0.094368</td>\n",
       "      <td>1.792583</td>\n",
       "      <td>0.973026</td>\n",
       "      <td>0.645833</td>\n",
       "      <td>29.403263</td>\n",
       "    </tr>\n",
       "    <tr>\n",
       "      <th>40</th>\n",
       "      <td>41</td>\n",
       "      <td>0.060096</td>\n",
       "      <td>1.497760</td>\n",
       "      <td>0.975658</td>\n",
       "      <td>0.653646</td>\n",
       "      <td>29.434115</td>\n",
       "    </tr>\n",
       "    <tr>\n",
       "      <th>41</th>\n",
       "      <td>42</td>\n",
       "      <td>0.032174</td>\n",
       "      <td>1.727760</td>\n",
       "      <td>0.987500</td>\n",
       "      <td>0.695312</td>\n",
       "      <td>29.387296</td>\n",
       "    </tr>\n",
       "    <tr>\n",
       "      <th>42</th>\n",
       "      <td>43</td>\n",
       "      <td>0.008228</td>\n",
       "      <td>1.573299</td>\n",
       "      <td>0.999342</td>\n",
       "      <td>0.708333</td>\n",
       "      <td>29.212129</td>\n",
       "    </tr>\n",
       "    <tr>\n",
       "      <th>43</th>\n",
       "      <td>44</td>\n",
       "      <td>0.009407</td>\n",
       "      <td>1.695353</td>\n",
       "      <td>0.997368</td>\n",
       "      <td>0.684896</td>\n",
       "      <td>29.375457</td>\n",
       "    </tr>\n",
       "    <tr>\n",
       "      <th>44</th>\n",
       "      <td>45</td>\n",
       "      <td>0.007822</td>\n",
       "      <td>1.985480</td>\n",
       "      <td>0.997368</td>\n",
       "      <td>0.661458</td>\n",
       "      <td>29.297522</td>\n",
       "    </tr>\n",
       "    <tr>\n",
       "      <th>45</th>\n",
       "      <td>46</td>\n",
       "      <td>0.011317</td>\n",
       "      <td>1.785238</td>\n",
       "      <td>0.997368</td>\n",
       "      <td>0.679688</td>\n",
       "      <td>29.422632</td>\n",
       "    </tr>\n",
       "    <tr>\n",
       "      <th>46</th>\n",
       "      <td>47</td>\n",
       "      <td>0.015062</td>\n",
       "      <td>1.647749</td>\n",
       "      <td>0.994737</td>\n",
       "      <td>0.708333</td>\n",
       "      <td>29.376016</td>\n",
       "    </tr>\n",
       "    <tr>\n",
       "      <th>47</th>\n",
       "      <td>48</td>\n",
       "      <td>0.026704</td>\n",
       "      <td>1.943460</td>\n",
       "      <td>0.991447</td>\n",
       "      <td>0.653646</td>\n",
       "      <td>29.617971</td>\n",
       "    </tr>\n",
       "    <tr>\n",
       "      <th>48</th>\n",
       "      <td>49</td>\n",
       "      <td>0.013598</td>\n",
       "      <td>1.870009</td>\n",
       "      <td>0.995395</td>\n",
       "      <td>0.669271</td>\n",
       "      <td>29.293002</td>\n",
       "    </tr>\n",
       "    <tr>\n",
       "      <th>49</th>\n",
       "      <td>50</td>\n",
       "      <td>0.008488</td>\n",
       "      <td>2.131525</td>\n",
       "      <td>0.997368</td>\n",
       "      <td>0.669271</td>\n",
       "      <td>29.452978</td>\n",
       "    </tr>\n",
       "  </tbody>\n",
       "</table>\n",
       "</div>"
      ],
      "text/plain": [
       "    epoch  train_loss  val_loss  train_acc   val_acc  epoch_time\n",
       "0       1    0.662077  0.716904   0.611184  0.580729   40.731831\n",
       "1       2    0.615433  0.933767   0.663816  0.463542   29.316214\n",
       "2       3    0.595912  0.642131   0.689474  0.697917   29.711928\n",
       "3       4    0.540821  0.603096   0.729605  0.708333   29.126153\n",
       "4       5    0.456970  0.781136   0.790789  0.679688   29.328840\n",
       "5       6    0.399144  0.855798   0.817105  0.679688   29.463019\n",
       "6       7    0.341878  1.020223   0.853289  0.562500   29.402977\n",
       "7       8    0.244490  1.004234   0.909211  0.723958   29.298037\n",
       "8       9    0.205643  1.054777   0.925658  0.619792   29.354836\n",
       "9      10    0.192359  1.165473   0.921711  0.604167   29.245620\n",
       "10     11    0.184354  1.143780   0.930921  0.697917   29.271792\n",
       "11     12    0.161732  1.254884   0.938816  0.601562   29.289676\n",
       "12     13    0.099628  1.273177   0.965789  0.630208   29.220318\n",
       "13     14    0.146013  1.140674   0.942763  0.651042   29.207188\n",
       "14     15    0.160147  1.238822   0.939474  0.692708   29.573267\n",
       "15     16    0.112688  1.033492   0.957237  0.734375   29.279472\n",
       "16     17    0.067557  1.261482   0.969737  0.632812   29.511797\n",
       "17     18    0.044157  1.575136   0.988158  0.622396   29.094468\n",
       "18     19    0.038612  1.882906   0.988158  0.617188   29.231142\n",
       "19     20    0.070847  1.497378   0.978947  0.679688   29.229285\n",
       "20     21    0.096227  1.439805   0.967105  0.666667   29.534651\n",
       "21     22    0.055115  1.868268   0.983553  0.643229   29.400056\n",
       "22     23    0.056915  1.972919   0.977632  0.635417   29.383984\n",
       "23     24    0.019995  1.928734   0.995395  0.627604   29.371258\n",
       "24     25    0.021730  1.876837   0.992105  0.710938   29.394589\n",
       "25     26    0.035474  1.737773   0.988158  0.708333   29.307716\n",
       "26     27    0.024409  1.841579   0.992763  0.619792   29.421282\n",
       "27     28    0.050710  1.505226   0.982895  0.669271   29.333652\n",
       "28     29    0.068722  1.715398   0.976316  0.617188   29.808696\n",
       "29     30    0.078837  1.823415   0.973684  0.596354   29.413292\n",
       "30     31    0.104424  1.501315   0.969079  0.622396   29.161094\n",
       "31     32    0.041751  1.392644   0.986184  0.700521   29.287846\n",
       "32     33    0.043710  1.788896   0.986842  0.640625   29.174897\n",
       "33     34    0.038378  1.816829   0.987500  0.666667   29.235200\n",
       "34     35    0.016228  1.929981   0.995395  0.619792   29.215868\n",
       "35     36    0.010115  2.001470   0.997368  0.638021   29.467724\n",
       "36     37    0.010546  2.089980   0.996711  0.632812   29.436693\n",
       "37     38    0.044438  1.940368   0.988816  0.588542   29.435130\n",
       "38     39    0.037381  1.769652   0.991447  0.656250   29.369467\n",
       "39     40    0.094368  1.792583   0.973026  0.645833   29.403263\n",
       "40     41    0.060096  1.497760   0.975658  0.653646   29.434115\n",
       "41     42    0.032174  1.727760   0.987500  0.695312   29.387296\n",
       "42     43    0.008228  1.573299   0.999342  0.708333   29.212129\n",
       "43     44    0.009407  1.695353   0.997368  0.684896   29.375457\n",
       "44     45    0.007822  1.985480   0.997368  0.661458   29.297522\n",
       "45     46    0.011317  1.785238   0.997368  0.679688   29.422632\n",
       "46     47    0.015062  1.647749   0.994737  0.708333   29.376016\n",
       "47     48    0.026704  1.943460   0.991447  0.653646   29.617971\n",
       "48     49    0.013598  1.870009   0.995395  0.669271   29.293002\n",
       "49     50    0.008488  2.131525   0.997368  0.669271   29.452978"
      ]
     },
     "execution_count": 9,
     "metadata": {},
     "output_type": "execute_result"
    }
   ],
   "source": [
    "import pandas as pd\n",
    "df=pd.read_csv(\"/kaggle/working/densenet121_training_history.csv\")\n",
    "df"
   ]
  }
 ],
 "metadata": {
  "kaggle": {
   "accelerator": "nvidiaTeslaT4",
   "dataSources": [
    {
     "datasetId": 7735666,
     "sourceId": 12275446,
     "sourceType": "datasetVersion"
    }
   ],
   "dockerImageVersionId": 31090,
   "isGpuEnabled": true,
   "isInternetEnabled": true,
   "language": "python",
   "sourceType": "notebook"
  },
  "kernelspec": {
   "display_name": "Python 3",
   "language": "python",
   "name": "python3"
  },
  "language_info": {
   "codemirror_mode": {
    "name": "ipython",
    "version": 3
   },
   "file_extension": ".py",
   "mimetype": "text/x-python",
   "name": "python",
   "nbconvert_exporter": "python",
   "pygments_lexer": "ipython3",
   "version": "3.11.13"
  },
  "papermill": {
   "default_parameters": {},
   "duration": 1509.861033,
   "end_time": "2025-09-08T07:44:45.708785",
   "environment_variables": {},
   "exception": null,
   "input_path": "__notebook__.ipynb",
   "output_path": "__notebook__.ipynb",
   "parameters": {},
   "start_time": "2025-09-08T07:19:35.847752",
   "version": "2.6.0"
  }
 },
 "nbformat": 4,
 "nbformat_minor": 5
}
