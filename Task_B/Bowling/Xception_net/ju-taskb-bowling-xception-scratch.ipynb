{
 "cells": [
  {
   "cell_type": "code",
   "execution_count": 1,
   "id": "b7d8721a",
   "metadata": {
    "_cell_guid": "b1076dfc-b9ad-4769-8c92-a6c4dae69d19",
    "_uuid": "8f2839f25d086af736a60e9eeb907d3b93b6e0e5",
    "execution": {
     "iopub.execute_input": "2025-09-11T12:08:26.277845Z",
     "iopub.status.busy": "2025-09-11T12:08:26.277294Z",
     "iopub.status.idle": "2025-09-11T12:08:39.940533Z",
     "shell.execute_reply": "2025-09-11T12:08:39.939756Z"
    },
    "papermill": {
     "duration": 13.668245,
     "end_time": "2025-09-11T12:08:39.941673",
     "exception": false,
     "start_time": "2025-09-11T12:08:26.273428",
     "status": "completed"
    },
    "tags": []
   },
   "outputs": [
    {
     "name": "stdout",
     "output_type": "stream",
     "text": [
      "Classes: ['fast_bowl', 'spin_bowl']\n"
     ]
    }
   ],
   "source": [
    "import torch\n",
    "import torch.nn as nn\n",
    "import torch.nn.functional as F\n",
    "from torch.utils.data import DataLoader\n",
    "from torchvision import datasets, transforms\n",
    "from torchsummary import summary\n",
    "import matplotlib.pyplot as plt\n",
    "from sklearn.metrics import classification_report, confusion_matrix, accuracy_score\n",
    "import seaborn as sns\n",
    "import numpy as np\n",
    "\n",
    "# -----------------------------\n",
    "# 1. Data Preprocessing\n",
    "# -----------------------------\n",
    "data_dir = \"/kaggle/input/ju-cricket/Cricket_Dataset_final/Task_B\"\n",
    "\n",
    "transform = transforms.Compose([\n",
    "    transforms.Resize((224, 224)),\n",
    "    transforms.ToTensor(),\n",
    "    transforms.Normalize([0.485, 0.456, 0.406], \n",
    "                         [0.229, 0.224, 0.225])\n",
    "])\n",
    "\n",
    "train_ds = datasets.ImageFolder(f\"{data_dir}/train/Bowling\", transform=transform)\n",
    "val_ds   = datasets.ImageFolder(f\"{data_dir}/val/Bowling\", transform=transform)\n",
    "test_ds  = datasets.ImageFolder(f\"{data_dir}/test/Bowling\", transform=transform)\n",
    "\n",
    "train_loader = DataLoader(train_ds, batch_size=32, shuffle=True)\n",
    "val_loader   = DataLoader(val_ds, batch_size=32, shuffle=False)\n",
    "test_loader  = DataLoader(test_ds, batch_size=32, shuffle=False)\n",
    "\n",
    "classes = train_ds.classes\n",
    "print(\"Classes:\", classes)\n",
    "\n"
   ]
  },
  {
   "cell_type": "code",
   "execution_count": 2,
   "id": "77841ee7",
   "metadata": {
    "execution": {
     "iopub.execute_input": "2025-09-11T12:08:39.947763Z",
     "iopub.status.busy": "2025-09-11T12:08:39.947449Z",
     "iopub.status.idle": "2025-09-11T12:08:39.951878Z",
     "shell.execute_reply": "2025-09-11T12:08:39.951347Z"
    },
    "papermill": {
     "duration": 0.008473,
     "end_time": "2025-09-11T12:08:39.952924",
     "exception": false,
     "start_time": "2025-09-11T12:08:39.944451",
     "status": "completed"
    },
    "tags": []
   },
   "outputs": [
    {
     "name": "stdout",
     "output_type": "stream",
     "text": [
      "Total training images: 1710\n",
      "Total validation images: 432\n",
      "Total test images: 549\n",
      "Total images in dataset: 2691\n"
     ]
    }
   ],
   "source": [
    "print(\"Total training images:\", len(train_ds))\n",
    "print(\"Total validation images:\", len(val_ds))\n",
    "print(\"Total test images:\", len(test_ds))\n",
    "\n",
    "total_images = len(train_ds) + len(val_ds) + len(test_ds)\n",
    "print(\"Total images in dataset:\", total_images)\n"
   ]
  },
  {
   "cell_type": "code",
   "execution_count": 3,
   "id": "ca079c58",
   "metadata": {
    "execution": {
     "iopub.execute_input": "2025-09-11T12:08:39.958449Z",
     "iopub.status.busy": "2025-09-11T12:08:39.958226Z",
     "iopub.status.idle": "2025-09-11T12:08:39.965043Z",
     "shell.execute_reply": "2025-09-11T12:08:39.964477Z"
    },
    "papermill": {
     "duration": 0.010632,
     "end_time": "2025-09-11T12:08:39.965991",
     "exception": false,
     "start_time": "2025-09-11T12:08:39.955359",
     "status": "completed"
    },
    "tags": []
   },
   "outputs": [
    {
     "name": "stdout",
     "output_type": "stream",
     "text": [
      "Training images (excluding 'random_occlusion'): 1520\n",
      "Validation images (excluding 'random_occlusion'): 384\n",
      "Test images (excluding 'random_occlusion'): 488\n",
      "Total images (excluding 'random_occlusion'): 2392\n"
     ]
    }
   ],
   "source": [
    "ignore_folder = \"random_occlusion\"\n",
    "\n",
    "def count_images_ignore_folder(dataset, ignore_folder):\n",
    "    count = 0\n",
    "    for img_path, label in dataset.samples:\n",
    "        # Skip if the image path contains the ignore_folder\n",
    "        if ignore_folder not in img_path.split(\"/\"):\n",
    "            count += 1\n",
    "    return count\n",
    "\n",
    "train_count = count_images_ignore_folder(train_ds, ignore_folder)\n",
    "val_count   = count_images_ignore_folder(val_ds, ignore_folder)\n",
    "test_count  = count_images_ignore_folder(test_ds, ignore_folder)\n",
    "\n",
    "total_count = train_count + val_count + test_count\n",
    "\n",
    "print(\"Training images (excluding '{}'): {}\".format(ignore_folder, train_count))\n",
    "print(\"Validation images (excluding '{}'): {}\".format(ignore_folder, val_count))\n",
    "print(\"Test images (excluding '{}'): {}\".format(ignore_folder, test_count))\n",
    "print(\"Total images (excluding '{}'): {}\".format(ignore_folder, total_count))\n"
   ]
  },
  {
   "cell_type": "code",
   "execution_count": 4,
   "id": "eb7141dd",
   "metadata": {
    "execution": {
     "iopub.execute_input": "2025-09-11T12:08:39.971978Z",
     "iopub.status.busy": "2025-09-11T12:08:39.971385Z",
     "iopub.status.idle": "2025-09-11T12:08:39.978983Z",
     "shell.execute_reply": "2025-09-11T12:08:39.978476Z"
    },
    "papermill": {
     "duration": 0.011564,
     "end_time": "2025-09-11T12:08:39.980018",
     "exception": false,
     "start_time": "2025-09-11T12:08:39.968454",
     "status": "completed"
    },
    "tags": []
   },
   "outputs": [
    {
     "name": "stdout",
     "output_type": "stream",
     "text": [
      "Training folders considered: {'chromatic_aberration', 'motion_blur', 'low_resolution', 'dirty_lens', 'random_occlusion', 'blur', 'original', 'gaussian_noise', 'lens_flare'}\n",
      "Validation folders considered: {'chromatic_aberration', 'motion_blur', 'low_resolution', 'dirty_lens', 'random_occlusion', 'blur', 'original', 'gaussian_noise', 'lens_flare'}\n",
      "Test folders considered: {'chromatic_aberration', 'motion_blur', 'low_resolution', 'dirty_lens', 'random_occlusion', 'blur', 'original', 'gaussian_noise', 'lens_flare'}\n"
     ]
    }
   ],
   "source": [
    "ignore_folder = \"random_occlusionw\"\n",
    "\n",
    "def get_included_folders(dataset, ignore_folder):\n",
    "    included = set()\n",
    "    for img_path, label in dataset.samples:\n",
    "        # Split the path into parts and ignore if ignore_folder is in the path\n",
    "        if ignore_folder not in img_path.split(\"/\"):\n",
    "            # The folder name just above the image (or the class folder)\n",
    "            folder_name = img_path.split(\"/\")[-2]\n",
    "            included.add(folder_name)\n",
    "    return included\n",
    "\n",
    "train_folders = get_included_folders(train_ds, ignore_folder)\n",
    "val_folders   = get_included_folders(val_ds, ignore_folder)\n",
    "test_folders  = get_included_folders(test_ds, ignore_folder)\n",
    "\n",
    "print(\"Training folders considered:\", train_folders)\n",
    "print(\"Validation folders considered:\", val_folders)\n",
    "print(\"Test folders considered:\", test_folders)\n"
   ]
  },
  {
   "cell_type": "code",
   "execution_count": 5,
   "id": "e883bda9",
   "metadata": {
    "execution": {
     "iopub.execute_input": "2025-09-11T12:08:39.985763Z",
     "iopub.status.busy": "2025-09-11T12:08:39.985486Z",
     "iopub.status.idle": "2025-09-11T12:08:40.031300Z",
     "shell.execute_reply": "2025-09-11T12:08:40.030720Z"
    },
    "papermill": {
     "duration": 0.049821,
     "end_time": "2025-09-11T12:08:40.032281",
     "exception": false,
     "start_time": "2025-09-11T12:08:39.982460",
     "status": "completed"
    },
    "tags": []
   },
   "outputs": [
    {
     "name": "stdout",
     "output_type": "stream",
     "text": [
      "Classes: ['fast_bowl', 'spin_bowl']\n",
      "Final Training images: 1520\n",
      "Final Validation images: 384\n",
      "Final Test images: 488\n",
      "Total images after filtering: 2392\n"
     ]
    }
   ],
   "source": [
    "ignore_folder = \"random_occlusion\"\n",
    "\n",
    "def filter_samples(dataset, ignore_folder):\n",
    "    # Keep only samples where ignore_folder is NOT in the path\n",
    "    filtered_samples = [s for s in dataset.samples if ignore_folder not in s[0].split(\"/\")]\n",
    "    dataset.samples = filtered_samples\n",
    "    dataset.targets = [s[1] for s in filtered_samples]  # Update targets accordingly\n",
    "    return dataset\n",
    "\n",
    "# Create original datasets\n",
    "train_ds = datasets.ImageFolder(f\"{data_dir}/train/Bowling\", transform=transform)\n",
    "val_ds   = datasets.ImageFolder(f\"{data_dir}/val/Bowling\", transform=transform)\n",
    "test_ds  = datasets.ImageFolder(f\"{data_dir}/test/Bowling\", transform=transform)\n",
    "\n",
    "# Filter out 'random_occlusion' folder\n",
    "train_ds = filter_samples(train_ds, ignore_folder)\n",
    "val_ds   = filter_samples(val_ds, ignore_folder)\n",
    "test_ds  = filter_samples(test_ds, ignore_folder)\n",
    "\n",
    "# DataLoaders\n",
    "train_loader = DataLoader(train_ds, batch_size=32, shuffle=True)\n",
    "val_loader   = DataLoader(val_ds, batch_size=32, shuffle=False)\n",
    "test_loader  = DataLoader(test_ds, batch_size=32, shuffle=False)\n",
    "\n",
    "# Classes (will remain the same)\n",
    "classes = train_ds.classes\n",
    "print(\"Classes:\", classes)\n",
    "\n",
    "# Show counts\n",
    "print(\"Final Training images:\", len(train_ds))\n",
    "print(\"Final Validation images:\", len(val_ds))\n",
    "print(\"Final Test images:\", len(test_ds))\n",
    "print(\"Total images after filtering:\", len(train_ds) + len(val_ds) + len(test_ds))\n"
   ]
  },
  {
   "cell_type": "code",
   "execution_count": 6,
   "id": "abfb4b65",
   "metadata": {
    "execution": {
     "iopub.execute_input": "2025-09-11T12:08:40.037835Z",
     "iopub.status.busy": "2025-09-11T12:08:40.037637Z",
     "iopub.status.idle": "2025-09-11T12:08:40.044842Z",
     "shell.execute_reply": "2025-09-11T12:08:40.044188Z"
    },
    "papermill": {
     "duration": 0.011138,
     "end_time": "2025-09-11T12:08:40.045858",
     "exception": false,
     "start_time": "2025-09-11T12:08:40.034720",
     "status": "completed"
    },
    "tags": []
   },
   "outputs": [
    {
     "name": "stdout",
     "output_type": "stream",
     "text": [
      "Training folders considered: {'chromatic_aberration', 'motion_blur', 'low_resolution', 'dirty_lens', 'blur', 'original', 'gaussian_noise', 'lens_flare'}\n",
      "Validation folders considered: {'chromatic_aberration', 'motion_blur', 'low_resolution', 'dirty_lens', 'blur', 'original', 'gaussian_noise', 'lens_flare'}\n",
      "Test folders considered: {'chromatic_aberration', 'motion_blur', 'low_resolution', 'dirty_lens', 'blur', 'original', 'gaussian_noise', 'lens_flare'}\n"
     ]
    }
   ],
   "source": [
    "ignore_folder = \"random_occlusion\"\n",
    "\n",
    "def get_included_folders(dataset, ignore_folder):\n",
    "    included = set()\n",
    "    for img_path, label in dataset.samples:\n",
    "        # Split the path into parts and ignore if ignore_folder is in the path\n",
    "        if ignore_folder not in img_path.split(\"/\"):\n",
    "            # The folder name just above the image (or the class folder)\n",
    "            folder_name = img_path.split(\"/\")[-2]\n",
    "            included.add(folder_name)\n",
    "    return included\n",
    "\n",
    "train_folders = get_included_folders(train_ds, ignore_folder)\n",
    "val_folders   = get_included_folders(val_ds, ignore_folder)\n",
    "test_folders  = get_included_folders(test_ds, ignore_folder)\n",
    "\n",
    "print(\"Training folders considered:\", train_folders)\n",
    "print(\"Validation folders considered:\", val_folders)\n",
    "print(\"Test folders considered:\", test_folders)\n"
   ]
  },
  {
   "cell_type": "code",
   "execution_count": 7,
   "id": "895b29e4",
   "metadata": {
    "execution": {
     "iopub.execute_input": "2025-09-11T12:08:40.051996Z",
     "iopub.status.busy": "2025-09-11T12:08:40.051559Z",
     "iopub.status.idle": "2025-09-11T12:08:40.756512Z",
     "shell.execute_reply": "2025-09-11T12:08:40.755815Z"
    },
    "papermill": {
     "duration": 0.709205,
     "end_time": "2025-09-11T12:08:40.757622",
     "exception": false,
     "start_time": "2025-09-11T12:08:40.048417",
     "status": "completed"
    },
    "tags": []
   },
   "outputs": [
    {
     "name": "stdout",
     "output_type": "stream",
     "text": [
      "🔄 Loading and filtering datasets for Xception (scratch training)...\n",
      "✅ Classes: ['fast_bowl', 'spin_bowl']\n",
      "📊 Dataset Statistics:\n",
      "│ Training images: 1520\n",
      "│ Validation images: 384\n",
      "│ Test images: 488\n",
      "│ Total images (after filtering): 2392\n",
      "│ Excluded folder: 'random_occlusion'\n",
      "│ Number of classes: 2\n",
      "Using device: cuda\n",
      "🔄 Creating Xception model from scratch...\n",
      "✅ Model created with 2 output classes\n",
      "📊 Total parameters: 20,811,050\n",
      "📊 Trainable parameters: 20,811,050\n",
      "📋 Model Architecture:\n",
      "│ Input size: (3, 299, 299)\n",
      "│ Xception features: 2048\n",
      "│ Output classes: 2\n",
      "│ Training: From scratch (no pretrained weights)\n",
      "│ Data augmentation: Enabled for robust training\n"
     ]
    }
   ],
   "source": [
    "import torch\n",
    "import torch.nn as nn\n",
    "import torch.nn.functional as F\n",
    "import torch.optim as optim\n",
    "from torch.utils.data import DataLoader\n",
    "from torchvision import datasets, transforms\n",
    "import matplotlib.pyplot as plt\n",
    "from sklearn.metrics import classification_report, confusion_matrix, accuracy_score\n",
    "import seaborn as sns\n",
    "import numpy as np\n",
    "import pandas as pd\n",
    "from tqdm import tqdm\n",
    "import time\n",
    "import os\n",
    "import tempfile\n",
    "\n",
    "# -----------------------------\n",
    "# 1. Fixed Xception Architecture from Scratch\n",
    "# -----------------------------\n",
    "\n",
    "class SeparableConv2d(nn.Module):\n",
    "    \"\"\"Depthwise Separable Convolution - Core of Xception\"\"\"\n",
    "    def __init__(self, in_channels, out_channels, kernel_size=3, stride=1, padding=1, bias=False):\n",
    "        super(SeparableConv2d, self).__init__()\n",
    "        # Depthwise convolution\n",
    "        self.depthwise = nn.Conv2d(in_channels, in_channels, kernel_size=kernel_size,\n",
    "                                   stride=stride, padding=padding, groups=in_channels, bias=bias)\n",
    "        # Pointwise convolution\n",
    "        self.pointwise = nn.Conv2d(in_channels, out_channels, kernel_size=1, bias=bias)\n",
    "\n",
    "    def forward(self, x):\n",
    "        x = self.depthwise(x)\n",
    "        x = self.pointwise(x)\n",
    "        return x\n",
    "\n",
    "class XceptionBlock(nn.Module):\n",
    "    \"\"\"Fixed Xception Block with skip connections\"\"\"\n",
    "    def __init__(self, in_channels, out_channels, reps, stride=1, start_with_relu=True, grow_first=True):\n",
    "        super(XceptionBlock, self).__init__()\n",
    "        \n",
    "        # Skip connection if needed\n",
    "        self.skip = None\n",
    "        if out_channels != in_channels or stride != 1:\n",
    "            self.skip = nn.Conv2d(in_channels, out_channels, 1, stride=stride, bias=False)\n",
    "            self.skipbn = nn.BatchNorm2d(out_channels)\n",
    "        \n",
    "        rep = []\n",
    "        filters = in_channels\n",
    "        \n",
    "        if grow_first:\n",
    "            rep.append(nn.ReLU(inplace=False))  # FIXED: inplace=False\n",
    "            rep.append(SeparableConv2d(in_channels, out_channels, 3, stride=1, padding=1))\n",
    "            rep.append(nn.BatchNorm2d(out_channels))\n",
    "            filters = out_channels\n",
    "\n",
    "        for i in range(reps - 1):\n",
    "            rep.append(nn.ReLU(inplace=False))  # FIXED: inplace=False\n",
    "            rep.append(SeparableConv2d(filters, filters, 3, stride=1, padding=1))\n",
    "            rep.append(nn.BatchNorm2d(filters))\n",
    "\n",
    "        if not grow_first:\n",
    "            rep.append(nn.ReLU(inplace=False))  # FIXED: inplace=False\n",
    "            rep.append(SeparableConv2d(in_channels, out_channels, 3, stride=1, padding=1))\n",
    "            rep.append(nn.BatchNorm2d(out_channels))\n",
    "\n",
    "        if stride != 1:\n",
    "            rep.append(nn.MaxPool2d(3, stride=stride, padding=1))\n",
    "        \n",
    "        self.rep = nn.Sequential(*rep)\n",
    "\n",
    "    def forward(self, x):\n",
    "        output = self.rep(x)\n",
    "        \n",
    "        if self.skip is not None:\n",
    "            skip = self.skip(x)\n",
    "            skip = self.skipbn(skip)\n",
    "        else:\n",
    "            skip = x\n",
    "        \n",
    "        output += skip\n",
    "        return output\n",
    "\n",
    "class Xception(nn.Module):\n",
    "    \"\"\"Fixed Xception Network Architecture from Scratch\"\"\"\n",
    "    def __init__(self, num_classes=1000):\n",
    "        super(Xception, self).__init__()\n",
    "        \n",
    "        # Entry Flow\n",
    "        self.conv1 = nn.Conv2d(3, 32, 3, stride=2, padding=1, bias=False)\n",
    "        self.bn1 = nn.BatchNorm2d(32)\n",
    "        self.relu = nn.ReLU(inplace=False)  # FIXED: inplace=False\n",
    "        \n",
    "        self.conv2 = nn.Conv2d(32, 64, 3, bias=False, padding=1)  # FIXED: added padding\n",
    "        self.bn2 = nn.BatchNorm2d(64)\n",
    "        \n",
    "        self.block1 = XceptionBlock(64, 128, 2, stride=2, start_with_relu=False, grow_first=True)\n",
    "        self.block2 = XceptionBlock(128, 256, 2, stride=2, start_with_relu=True, grow_first=True)\n",
    "        self.block3 = XceptionBlock(256, 728, 2, stride=2, start_with_relu=True, grow_first=True)\n",
    "        \n",
    "        # Middle Flow (repeated 8 times)\n",
    "        self.block4 = XceptionBlock(728, 728, 3, stride=1, start_with_relu=True, grow_first=True)\n",
    "        self.block5 = XceptionBlock(728, 728, 3, stride=1, start_with_relu=True, grow_first=True)\n",
    "        self.block6 = XceptionBlock(728, 728, 3, stride=1, start_with_relu=True, grow_first=True)\n",
    "        self.block7 = XceptionBlock(728, 728, 3, stride=1, start_with_relu=True, grow_first=True)\n",
    "        self.block8 = XceptionBlock(728, 728, 3, stride=1, start_with_relu=True, grow_first=True)\n",
    "        self.block9 = XceptionBlock(728, 728, 3, stride=1, start_with_relu=True, grow_first=True)\n",
    "        self.block10 = XceptionBlock(728, 728, 3, stride=1, start_with_relu=True, grow_first=True)\n",
    "        self.block11 = XceptionBlock(728, 728, 3, stride=1, start_with_relu=True, grow_first=True)\n",
    "        \n",
    "        # Exit Flow\n",
    "        self.block12 = XceptionBlock(728, 1024, 2, stride=2, start_with_relu=True, grow_first=False)\n",
    "        \n",
    "        self.conv3 = SeparableConv2d(1024, 1536, 3, stride=1, padding=1)\n",
    "        self.bn3 = nn.BatchNorm2d(1536)\n",
    "        \n",
    "        self.conv4 = SeparableConv2d(1536, 2048, 3, stride=1, padding=1)\n",
    "        self.bn4 = nn.BatchNorm2d(2048)\n",
    "        \n",
    "        # Final layers\n",
    "        self.avgpool = nn.AdaptiveAvgPool2d((1, 1))\n",
    "        self.dropout = nn.Dropout(0.5)\n",
    "        self.fc = nn.Linear(2048, num_classes)\n",
    "        \n",
    "        # Weight initialization\n",
    "        self._initialize_weights()\n",
    "\n",
    "    def _initialize_weights(self):\n",
    "        \"\"\"Initialize weights using Xavier/He initialization\"\"\"\n",
    "        for m in self.modules():\n",
    "            if isinstance(m, nn.Conv2d):\n",
    "                nn.init.kaiming_normal_(m.weight, mode='fan_out', nonlinearity='relu')\n",
    "                if m.bias is not None:\n",
    "                    nn.init.constant_(m.bias, 0)\n",
    "            elif isinstance(m, nn.BatchNorm2d):\n",
    "                nn.init.constant_(m.weight, 1)\n",
    "                nn.init.constant_(m.bias, 0)\n",
    "            elif isinstance(m, nn.Linear):\n",
    "                nn.init.normal_(m.weight, 0, 0.01)\n",
    "                nn.init.constant_(m.bias, 0)\n",
    "\n",
    "    def forward(self, x):\n",
    "        # Entry Flow\n",
    "        x = self.conv1(x)\n",
    "        x = self.bn1(x)\n",
    "        x = self.relu(x)\n",
    "        \n",
    "        x = self.conv2(x)\n",
    "        x = self.bn2(x)\n",
    "        x = self.relu(x)\n",
    "        \n",
    "        x = self.block1(x)\n",
    "        x = self.block2(x)\n",
    "        x = self.block3(x)\n",
    "        \n",
    "        # Middle Flow\n",
    "        x = self.block4(x)\n",
    "        x = self.block5(x)\n",
    "        x = self.block6(x)\n",
    "        x = self.block7(x)\n",
    "        x = self.block8(x)\n",
    "        x = self.block9(x)\n",
    "        x = self.block10(x)\n",
    "        x = self.block11(x)\n",
    "        \n",
    "        # Exit Flow\n",
    "        x = self.block12(x)\n",
    "        \n",
    "        x = self.conv3(x)\n",
    "        x = self.bn3(x)\n",
    "        x = self.relu(x)\n",
    "        \n",
    "        x = self.conv4(x)\n",
    "        x = self.bn4(x)\n",
    "        x = self.relu(x)\n",
    "        \n",
    "        # Final classification\n",
    "        x = self.avgpool(x)\n",
    "        x = torch.flatten(x, 1)\n",
    "        x = self.dropout(x)\n",
    "        x = self.fc(x)\n",
    "        \n",
    "        return x\n",
    "\n",
    "# -----------------------------\n",
    "# 2. Data Preprocessing with Filtering (Xception - 299x299)\n",
    "# -----------------------------\n",
    "data_dir = \"/kaggle/input/ju-cricket/Cricket_Dataset_final/Task_B\"\n",
    "\n",
    "# Xception training from scratch - with data augmentation\n",
    "transform_train = transforms.Compose([\n",
    "    transforms.Resize((299, 299)),\n",
    "    transforms.RandomHorizontalFlip(p=0.5),  # Data augmentation for scratch training\n",
    "    transforms.RandomRotation(10),\n",
    "    transforms.ColorJitter(brightness=0.2, contrast=0.2, saturation=0.2, hue=0.1),\n",
    "    transforms.ToTensor(),\n",
    "    transforms.Normalize([0.485, 0.456, 0.406], [0.229, 0.224, 0.225])  # ImageNet stats\n",
    "])\n",
    "\n",
    "transform_val_test = transforms.Compose([\n",
    "    transforms.Resize((299, 299)),\n",
    "    transforms.ToTensor(),\n",
    "    transforms.Normalize([0.485, 0.456, 0.406], [0.229, 0.224, 0.225])\n",
    "])\n",
    "\n",
    "ignore_folder = \"random_occlusion\"\n",
    "\n",
    "def filter_samples(dataset, ignore_folder):\n",
    "    \"\"\"Filter out samples containing the ignore_folder in their path\"\"\"\n",
    "    filtered_samples = [s for s in dataset.samples if ignore_folder not in s[0].split(\"/\")]\n",
    "    dataset.samples = filtered_samples\n",
    "    dataset.targets = [s[1] for s in filtered_samples]\n",
    "    return dataset\n",
    "\n",
    "# Create and filter datasets\n",
    "print(\"🔄 Loading and filtering datasets for Xception (scratch training)...\")\n",
    "train_ds = datasets.ImageFolder(f\"{data_dir}/train/Bowling\", transform=transform_train)\n",
    "val_ds   = datasets.ImageFolder(f\"{data_dir}/val/Bowling\", transform=transform_val_test)\n",
    "test_ds  = datasets.ImageFolder(f\"{data_dir}/test/Bowling\", transform=transform_val_test)\n",
    "\n",
    "# Apply filtering\n",
    "train_ds = filter_samples(train_ds, ignore_folder)\n",
    "val_ds   = filter_samples(val_ds, ignore_folder)\n",
    "test_ds  = filter_samples(test_ds, ignore_folder)\n",
    "\n",
    "# Create DataLoaders\n",
    "train_loader = DataLoader(train_ds, batch_size=32, shuffle=True)  # Smaller batch for scratch training\n",
    "val_loader   = DataLoader(val_ds, batch_size=32, shuffle=False)\n",
    "test_loader  = DataLoader(test_ds, batch_size=32, shuffle=False)\n",
    "\n",
    "# Display information\n",
    "classes = train_ds.classes\n",
    "print(f\"✅ Classes: {classes}\")\n",
    "print(f\"📊 Dataset Statistics:\")\n",
    "print(f\"│ Training images: {len(train_ds)}\")\n",
    "print(f\"│ Validation images: {len(val_ds)}\")\n",
    "print(f\"│ Test images: {len(test_ds)}\")\n",
    "print(f\"│ Total images (after filtering): {len(train_ds) + len(val_ds) + len(test_ds)}\")\n",
    "print(f\"│ Excluded folder: '{ignore_folder}'\")\n",
    "print(f\"│ Number of classes: {len(classes)}\")\n",
    "\n",
    "# -----------------------------\n",
    "# 3. Model Setup for Scratch Training\n",
    "# -----------------------------\n",
    "device = torch.device('cuda' if torch.cuda.is_available() else 'cpu')\n",
    "print(f\"Using device: {device}\")\n",
    "\n",
    "# Create Xception model from scratch\n",
    "print(\"🔄 Creating Xception model from scratch...\")\n",
    "model = Xception(num_classes=len(classes))\n",
    "model = model.to(device)\n",
    "\n",
    "print(f\"✅ Model created with {len(classes)} output classes\")\n",
    "\n",
    "# Calculate model parameters and size\n",
    "total_params = sum(p.numel() for p in model.parameters())\n",
    "trainable_params = sum(p.numel() for p in model.parameters() if p.requires_grad)\n",
    "\n",
    "print(f\"📊 Total parameters: {total_params:,}\")\n",
    "print(f\"📊 Trainable parameters: {trainable_params:,}\")\n",
    "print(f\"📋 Model Architecture:\")\n",
    "print(f\"│ Input size: (3, 299, 299)\")\n",
    "print(f\"│ Xception features: 2048\")\n",
    "print(f\"│ Output classes: {len(classes)}\")\n",
    "print(f\"│ Training: From scratch (no pretrained weights)\")\n",
    "print(f\"│ Data augmentation: Enabled for robust training\")"
   ]
  },
  {
   "cell_type": "code",
   "execution_count": 8,
   "id": "049abf68",
   "metadata": {
    "execution": {
     "iopub.execute_input": "2025-09-11T12:08:40.764593Z",
     "iopub.status.busy": "2025-09-11T12:08:40.764364Z",
     "iopub.status.idle": "2025-09-11T13:12:49.042898Z",
     "shell.execute_reply": "2025-09-11T13:12:49.042190Z"
    },
    "papermill": {
     "duration": 3848.284894,
     "end_time": "2025-09-11T13:12:49.045594",
     "exception": false,
     "start_time": "2025-09-11T12:08:40.760700",
     "status": "completed"
    },
    "tags": []
   },
   "outputs": [
    {
     "name": "stdout",
     "output_type": "stream",
     "text": [
      "\n",
      "📋 Training Configuration:\n",
      "│ Model: Xception (from scratch)\n",
      "│ Optimizer: Adam (lr=0.001)\n",
      "│ Weight Decay: 1e-4\n",
      "│ Loss Function: CrossEntropyLoss\n",
      "│ Batch Size: 16\n",
      "│ LR Scheduler: StepLR (decay every 10 epochs)\n",
      "│ Device: cuda\n",
      "│ Data: Filtered + Augmented\n",
      "\n",
      "🚀 Starting Xception Training from Scratch for 50 epochs...\n",
      "================================================================================\n",
      "\n",
      "📈 Epoch 1/50\n",
      "Current LR: 1.00e-03\n",
      "--------------------------------------------------\n",
      "🔄 Training Phase...\n"
     ]
    },
    {
     "name": "stderr",
     "output_type": "stream",
     "text": [
      "Training: 100%|██████████████████████████████| 48/48 [01:17<00:00,  1.62s/it, Loss=0.7170, Acc=0.5888]\n"
     ]
    },
    {
     "name": "stdout",
     "output_type": "stream",
     "text": [
      "✅ Training completed in 77.89s\n",
      "🔍 Validation Phase...\n"
     ]
    },
    {
     "name": "stderr",
     "output_type": "stream",
     "text": [
      "Validation: 100%|██████████████████████████████| 12/12 [00:08<00:00,  1.44it/s, Loss=0.6605, Acc=0.6250]\n"
     ]
    },
    {
     "name": "stdout",
     "output_type": "stream",
     "text": [
      "✅ Validation completed in 8.35s\n",
      "🌟 New best model found! Validation Accuracy: 0.6250\n",
      "\n",
      "📊 Epoch 1 Summary:\n",
      "│ Train Loss: 0.7170 | Train Acc: 0.5888\n",
      "│ Val Loss:   0.6605 | Val Acc:   0.6250\n",
      "│ Train Time: 77.89s | Val Time: 8.35s\n",
      "│ Total Epoch Time: 86.25s\n",
      "│ Best Val Acc: 0.6250 (Epoch 1)\n",
      "│ GPU Memory: 0.4GB / 9.0GB\n",
      "================================================================================\n",
      "\n",
      "📈 Epoch 2/50\n",
      "Current LR: 1.00e-03\n",
      "--------------------------------------------------\n",
      "🔄 Training Phase...\n"
     ]
    },
    {
     "name": "stderr",
     "output_type": "stream",
     "text": [
      "Training: 100%|██████████████████████████████| 48/48 [01:10<00:00,  1.47s/it, Loss=0.6962, Acc=0.6105]\n"
     ]
    },
    {
     "name": "stdout",
     "output_type": "stream",
     "text": [
      "✅ Training completed in 70.33s\n",
      "🔍 Validation Phase...\n"
     ]
    },
    {
     "name": "stderr",
     "output_type": "stream",
     "text": [
      "Validation: 100%|██████████████████████████████| 12/12 [00:06<00:00,  1.99it/s, Loss=0.8018, Acc=0.4792]\n"
     ]
    },
    {
     "name": "stdout",
     "output_type": "stream",
     "text": [
      "✅ Validation completed in 6.04s\n",
      "\n",
      "📊 Epoch 2 Summary:\n",
      "│ Train Loss: 0.6962 | Train Acc: 0.6105\n",
      "│ Val Loss:   0.8018 | Val Acc:   0.4792\n",
      "│ Train Time: 70.33s | Val Time: 6.04s\n",
      "│ Total Epoch Time: 76.37s\n",
      "│ Best Val Acc: 0.6250 (Epoch 1)\n",
      "│ GPU Memory: 0.4GB / 9.0GB\n",
      "================================================================================\n",
      "\n",
      "📈 Epoch 3/50\n",
      "Current LR: 1.00e-03\n",
      "--------------------------------------------------\n",
      "🔄 Training Phase...\n"
     ]
    },
    {
     "name": "stderr",
     "output_type": "stream",
     "text": [
      "Training: 100%|██████████████████████████████| 48/48 [01:10<00:00,  1.48s/it, Loss=0.6853, Acc=0.5961]\n"
     ]
    },
    {
     "name": "stdout",
     "output_type": "stream",
     "text": [
      "✅ Training completed in 70.86s\n",
      "🔍 Validation Phase...\n"
     ]
    },
    {
     "name": "stderr",
     "output_type": "stream",
     "text": [
      "Validation: 100%|██████████████████████████████| 12/12 [00:05<00:00,  2.04it/s, Loss=0.6847, Acc=0.4635]\n"
     ]
    },
    {
     "name": "stdout",
     "output_type": "stream",
     "text": [
      "✅ Validation completed in 5.88s\n",
      "\n",
      "📊 Epoch 3 Summary:\n",
      "│ Train Loss: 0.6853 | Train Acc: 0.5961\n",
      "│ Val Loss:   0.6847 | Val Acc:   0.4635\n",
      "│ Train Time: 70.86s | Val Time: 5.88s\n",
      "│ Total Epoch Time: 76.75s\n",
      "│ Best Val Acc: 0.6250 (Epoch 1)\n",
      "│ GPU Memory: 0.4GB / 9.0GB\n",
      "================================================================================\n",
      "\n",
      "📈 Epoch 4/50\n",
      "Current LR: 1.00e-03\n",
      "--------------------------------------------------\n",
      "🔄 Training Phase...\n"
     ]
    },
    {
     "name": "stderr",
     "output_type": "stream",
     "text": [
      "Training: 100%|██████████████████████████████| 48/48 [01:10<00:00,  1.48s/it, Loss=0.6929, Acc=0.5934]\n"
     ]
    },
    {
     "name": "stdout",
     "output_type": "stream",
     "text": [
      "✅ Training completed in 70.87s\n",
      "🔍 Validation Phase...\n"
     ]
    },
    {
     "name": "stderr",
     "output_type": "stream",
     "text": [
      "Validation: 100%|██████████████████████████████| 12/12 [00:05<00:00,  2.03it/s, Loss=0.9079, Acc=0.6250]\n"
     ]
    },
    {
     "name": "stdout",
     "output_type": "stream",
     "text": [
      "✅ Validation completed in 5.93s\n",
      "\n",
      "📊 Epoch 4 Summary:\n",
      "│ Train Loss: 0.6929 | Train Acc: 0.5934\n",
      "│ Val Loss:   0.9079 | Val Acc:   0.6250\n",
      "│ Train Time: 70.87s | Val Time: 5.93s\n",
      "│ Total Epoch Time: 76.98s\n",
      "│ Best Val Acc: 0.6250 (Epoch 1)\n",
      "│ GPU Memory: 0.4GB / 9.0GB\n",
      "================================================================================\n",
      "\n",
      "📈 Epoch 5/50\n",
      "Current LR: 1.00e-03\n",
      "--------------------------------------------------\n",
      "🔄 Training Phase...\n"
     ]
    },
    {
     "name": "stderr",
     "output_type": "stream",
     "text": [
      "Training: 100%|██████████████████████████████| 48/48 [01:10<00:00,  1.48s/it, Loss=0.6887, Acc=0.5855]\n"
     ]
    },
    {
     "name": "stdout",
     "output_type": "stream",
     "text": [
      "✅ Training completed in 70.83s\n",
      "🔍 Validation Phase...\n"
     ]
    },
    {
     "name": "stderr",
     "output_type": "stream",
     "text": [
      "Validation: 100%|██████████████████████████████| 12/12 [00:05<00:00,  2.05it/s, Loss=0.6645, Acc=0.6250]\n"
     ]
    },
    {
     "name": "stdout",
     "output_type": "stream",
     "text": [
      "✅ Validation completed in 5.87s\n",
      "\n",
      "📊 Epoch 5 Summary:\n",
      "│ Train Loss: 0.6887 | Train Acc: 0.5855\n",
      "│ Val Loss:   0.6645 | Val Acc:   0.6250\n",
      "│ Train Time: 70.83s | Val Time: 5.87s\n",
      "│ Total Epoch Time: 76.70s\n",
      "│ Best Val Acc: 0.6250 (Epoch 1)\n",
      "│ GPU Memory: 0.4GB / 9.0GB\n",
      "================================================================================\n",
      "\n",
      "📈 Epoch 6/50\n",
      "Current LR: 1.00e-03\n",
      "--------------------------------------------------\n",
      "🔄 Training Phase...\n"
     ]
    },
    {
     "name": "stderr",
     "output_type": "stream",
     "text": [
      "Training: 100%|██████████████████████████████| 48/48 [01:10<00:00,  1.48s/it, Loss=0.6941, Acc=0.6020]\n"
     ]
    },
    {
     "name": "stdout",
     "output_type": "stream",
     "text": [
      "✅ Training completed in 70.84s\n",
      "🔍 Validation Phase...\n"
     ]
    },
    {
     "name": "stderr",
     "output_type": "stream",
     "text": [
      "Validation: 100%|██████████████████████████████| 12/12 [00:05<00:00,  2.06it/s, Loss=0.8238, Acc=0.6250]\n"
     ]
    },
    {
     "name": "stdout",
     "output_type": "stream",
     "text": [
      "✅ Validation completed in 5.83s\n",
      "\n",
      "📊 Epoch 6 Summary:\n",
      "│ Train Loss: 0.6941 | Train Acc: 0.6020\n",
      "│ Val Loss:   0.8238 | Val Acc:   0.6250\n",
      "│ Train Time: 70.84s | Val Time: 5.83s\n",
      "│ Total Epoch Time: 76.67s\n",
      "│ Best Val Acc: 0.6250 (Epoch 1)\n",
      "│ GPU Memory: 0.4GB / 9.0GB\n",
      "================================================================================\n",
      "\n",
      "📈 Epoch 7/50\n",
      "Current LR: 1.00e-03\n",
      "--------------------------------------------------\n",
      "🔄 Training Phase...\n"
     ]
    },
    {
     "name": "stderr",
     "output_type": "stream",
     "text": [
      "Training: 100%|██████████████████████████████| 48/48 [01:10<00:00,  1.48s/it, Loss=0.6898, Acc=0.6013]\n"
     ]
    },
    {
     "name": "stdout",
     "output_type": "stream",
     "text": [
      "✅ Training completed in 70.84s\n",
      "🔍 Validation Phase...\n"
     ]
    },
    {
     "name": "stderr",
     "output_type": "stream",
     "text": [
      "Validation: 100%|██████████████████████████████| 12/12 [00:05<00:00,  2.06it/s, Loss=0.9266, Acc=0.5495]\n"
     ]
    },
    {
     "name": "stdout",
     "output_type": "stream",
     "text": [
      "✅ Validation completed in 5.82s\n",
      "\n",
      "📊 Epoch 7 Summary:\n",
      "│ Train Loss: 0.6898 | Train Acc: 0.6013\n",
      "│ Val Loss:   0.9266 | Val Acc:   0.5495\n",
      "│ Train Time: 70.84s | Val Time: 5.82s\n",
      "│ Total Epoch Time: 76.67s\n",
      "│ Best Val Acc: 0.6250 (Epoch 1)\n",
      "│ GPU Memory: 0.4GB / 9.0GB\n",
      "================================================================================\n",
      "\n",
      "📈 Epoch 8/50\n",
      "Current LR: 1.00e-03\n",
      "--------------------------------------------------\n",
      "🔄 Training Phase...\n"
     ]
    },
    {
     "name": "stderr",
     "output_type": "stream",
     "text": [
      "Training: 100%|██████████████████████████████| 48/48 [01:10<00:00,  1.47s/it, Loss=0.6870, Acc=0.6066]\n"
     ]
    },
    {
     "name": "stdout",
     "output_type": "stream",
     "text": [
      "✅ Training completed in 70.65s\n",
      "🔍 Validation Phase...\n"
     ]
    },
    {
     "name": "stderr",
     "output_type": "stream",
     "text": [
      "Validation: 100%|██████████████████████████████| 12/12 [00:05<00:00,  2.05it/s, Loss=0.6601, Acc=0.6250]\n"
     ]
    },
    {
     "name": "stdout",
     "output_type": "stream",
     "text": [
      "✅ Validation completed in 5.87s\n",
      "\n",
      "📊 Epoch 8 Summary:\n",
      "│ Train Loss: 0.6870 | Train Acc: 0.6066\n",
      "│ Val Loss:   0.6601 | Val Acc:   0.6250\n",
      "│ Train Time: 70.65s | Val Time: 5.87s\n",
      "│ Total Epoch Time: 76.52s\n",
      "│ Best Val Acc: 0.6250 (Epoch 1)\n",
      "│ GPU Memory: 0.4GB / 9.0GB\n",
      "================================================================================\n",
      "\n",
      "📈 Epoch 9/50\n",
      "Current LR: 1.00e-03\n",
      "--------------------------------------------------\n",
      "🔄 Training Phase...\n"
     ]
    },
    {
     "name": "stderr",
     "output_type": "stream",
     "text": [
      "Training: 100%|██████████████████████████████| 48/48 [01:10<00:00,  1.48s/it, Loss=0.6714, Acc=0.6270]\n"
     ]
    },
    {
     "name": "stdout",
     "output_type": "stream",
     "text": [
      "✅ Training completed in 70.87s\n",
      "🔍 Validation Phase...\n"
     ]
    },
    {
     "name": "stderr",
     "output_type": "stream",
     "text": [
      "Validation: 100%|██████████████████████████████| 12/12 [00:05<00:00,  2.04it/s, Loss=0.8444, Acc=0.6120]\n"
     ]
    },
    {
     "name": "stdout",
     "output_type": "stream",
     "text": [
      "✅ Validation completed in 5.88s\n",
      "\n",
      "📊 Epoch 9 Summary:\n",
      "│ Train Loss: 0.6714 | Train Acc: 0.6270\n",
      "│ Val Loss:   0.8444 | Val Acc:   0.6120\n",
      "│ Train Time: 70.87s | Val Time: 5.88s\n",
      "│ Total Epoch Time: 76.75s\n",
      "│ Best Val Acc: 0.6250 (Epoch 1)\n",
      "│ GPU Memory: 0.4GB / 9.0GB\n",
      "================================================================================\n",
      "\n",
      "📈 Epoch 10/50\n",
      "Current LR: 1.00e-03\n",
      "--------------------------------------------------\n",
      "🔄 Training Phase...\n"
     ]
    },
    {
     "name": "stderr",
     "output_type": "stream",
     "text": [
      "Training: 100%|██████████████████████████████| 48/48 [01:10<00:00,  1.47s/it, Loss=0.6692, Acc=0.6276]\n"
     ]
    },
    {
     "name": "stdout",
     "output_type": "stream",
     "text": [
      "✅ Training completed in 70.70s\n",
      "🔍 Validation Phase...\n"
     ]
    },
    {
     "name": "stderr",
     "output_type": "stream",
     "text": [
      "Validation: 100%|██████████████████████████████| 12/12 [00:05<00:00,  2.07it/s, Loss=0.7166, Acc=0.6589]\n"
     ]
    },
    {
     "name": "stdout",
     "output_type": "stream",
     "text": [
      "✅ Validation completed in 5.80s\n",
      "🌟 New best model found! Validation Accuracy: 0.6589\n",
      "\n",
      "📊 Epoch 10 Summary:\n",
      "│ Train Loss: 0.6692 | Train Acc: 0.6276\n",
      "│ Val Loss:   0.7166 | Val Acc:   0.6589\n",
      "│ Train Time: 70.70s | Val Time: 5.80s\n",
      "│ Total Epoch Time: 76.51s\n",
      "│ Best Val Acc: 0.6589 (Epoch 10)\n",
      "│ GPU Memory: 0.4GB / 9.0GB\n",
      "================================================================================\n",
      "\n",
      "📈 Epoch 11/50\n",
      "Current LR: 1.00e-04\n",
      "--------------------------------------------------\n",
      "🔄 Training Phase...\n"
     ]
    },
    {
     "name": "stderr",
     "output_type": "stream",
     "text": [
      "Training: 100%|██████████████████████████████| 48/48 [01:10<00:00,  1.47s/it, Loss=0.6453, Acc=0.6401]\n"
     ]
    },
    {
     "name": "stdout",
     "output_type": "stream",
     "text": [
      "✅ Training completed in 70.67s\n",
      "🔍 Validation Phase...\n"
     ]
    },
    {
     "name": "stderr",
     "output_type": "stream",
     "text": [
      "Validation: 100%|██████████████████████████████| 12/12 [00:05<00:00,  2.04it/s, Loss=0.6445, Acc=0.6589]\n"
     ]
    },
    {
     "name": "stdout",
     "output_type": "stream",
     "text": [
      "✅ Validation completed in 5.89s\n",
      "\n",
      "📊 Epoch 11 Summary:\n",
      "│ Train Loss: 0.6453 | Train Acc: 0.6401\n",
      "│ Val Loss:   0.6445 | Val Acc:   0.6589\n",
      "│ Train Time: 70.67s | Val Time: 5.89s\n",
      "│ Total Epoch Time: 76.57s\n",
      "│ Best Val Acc: 0.6589 (Epoch 10)\n",
      "│ GPU Memory: 0.4GB / 9.0GB\n",
      "================================================================================\n",
      "\n",
      "📈 Epoch 12/50\n",
      "Current LR: 1.00e-04\n",
      "--------------------------------------------------\n",
      "🔄 Training Phase...\n"
     ]
    },
    {
     "name": "stderr",
     "output_type": "stream",
     "text": [
      "Training: 100%|██████████████████████████████| 48/48 [01:10<00:00,  1.48s/it, Loss=0.6230, Acc=0.6579]\n"
     ]
    },
    {
     "name": "stdout",
     "output_type": "stream",
     "text": [
      "✅ Training completed in 70.97s\n",
      "🔍 Validation Phase...\n"
     ]
    },
    {
     "name": "stderr",
     "output_type": "stream",
     "text": [
      "Validation: 100%|██████████████████████████████| 12/12 [00:05<00:00,  2.02it/s, Loss=0.6520, Acc=0.6484]\n"
     ]
    },
    {
     "name": "stdout",
     "output_type": "stream",
     "text": [
      "✅ Validation completed in 5.95s\n",
      "\n",
      "📊 Epoch 12 Summary:\n",
      "│ Train Loss: 0.6230 | Train Acc: 0.6579\n",
      "│ Val Loss:   0.6520 | Val Acc:   0.6484\n",
      "│ Train Time: 70.97s | Val Time: 5.95s\n",
      "│ Total Epoch Time: 76.92s\n",
      "│ Best Val Acc: 0.6589 (Epoch 10)\n",
      "│ GPU Memory: 0.4GB / 9.0GB\n",
      "================================================================================\n",
      "\n",
      "📈 Epoch 13/50\n",
      "Current LR: 1.00e-04\n",
      "--------------------------------------------------\n",
      "🔄 Training Phase...\n"
     ]
    },
    {
     "name": "stderr",
     "output_type": "stream",
     "text": [
      "Training: 100%|██████████████████████████████| 48/48 [01:10<00:00,  1.47s/it, Loss=0.5995, Acc=0.6947]\n"
     ]
    },
    {
     "name": "stdout",
     "output_type": "stream",
     "text": [
      "✅ Training completed in 70.78s\n",
      "🔍 Validation Phase...\n"
     ]
    },
    {
     "name": "stderr",
     "output_type": "stream",
     "text": [
      "Validation: 100%|██████████████████████████████| 12/12 [00:05<00:00,  2.03it/s, Loss=0.6583, Acc=0.6615]\n"
     ]
    },
    {
     "name": "stdout",
     "output_type": "stream",
     "text": [
      "✅ Validation completed in 5.91s\n",
      "🌟 New best model found! Validation Accuracy: 0.6615\n",
      "\n",
      "📊 Epoch 13 Summary:\n",
      "│ Train Loss: 0.5995 | Train Acc: 0.6947\n",
      "│ Val Loss:   0.6583 | Val Acc:   0.6615\n",
      "│ Train Time: 70.78s | Val Time: 5.91s\n",
      "│ Total Epoch Time: 76.70s\n",
      "│ Best Val Acc: 0.6615 (Epoch 13)\n",
      "│ GPU Memory: 0.4GB / 9.0GB\n",
      "================================================================================\n",
      "\n",
      "📈 Epoch 14/50\n",
      "Current LR: 1.00e-04\n",
      "--------------------------------------------------\n",
      "🔄 Training Phase...\n"
     ]
    },
    {
     "name": "stderr",
     "output_type": "stream",
     "text": [
      "Training: 100%|██████████████████████████████| 48/48 [01:10<00:00,  1.47s/it, Loss=0.5774, Acc=0.6993]\n"
     ]
    },
    {
     "name": "stdout",
     "output_type": "stream",
     "text": [
      "✅ Training completed in 70.80s\n",
      "🔍 Validation Phase...\n"
     ]
    },
    {
     "name": "stderr",
     "output_type": "stream",
     "text": [
      "Validation: 100%|██████████████████████████████| 12/12 [00:05<00:00,  2.02it/s, Loss=0.6959, Acc=0.6042]\n"
     ]
    },
    {
     "name": "stdout",
     "output_type": "stream",
     "text": [
      "✅ Validation completed in 5.95s\n",
      "\n",
      "📊 Epoch 14 Summary:\n",
      "│ Train Loss: 0.5774 | Train Acc: 0.6993\n",
      "│ Val Loss:   0.6959 | Val Acc:   0.6042\n",
      "│ Train Time: 70.80s | Val Time: 5.95s\n",
      "│ Total Epoch Time: 76.76s\n",
      "│ Best Val Acc: 0.6615 (Epoch 13)\n",
      "│ GPU Memory: 0.4GB / 9.0GB\n",
      "================================================================================\n",
      "\n",
      "📈 Epoch 15/50\n",
      "Current LR: 1.00e-04\n",
      "--------------------------------------------------\n",
      "🔄 Training Phase...\n"
     ]
    },
    {
     "name": "stderr",
     "output_type": "stream",
     "text": [
      "Training: 100%|██████████████████████████████| 48/48 [01:10<00:00,  1.47s/it, Loss=0.5833, Acc=0.6987]\n"
     ]
    },
    {
     "name": "stdout",
     "output_type": "stream",
     "text": [
      "✅ Training completed in 70.50s\n",
      "🔍 Validation Phase...\n"
     ]
    },
    {
     "name": "stderr",
     "output_type": "stream",
     "text": [
      "Validation: 100%|██████████████████████████████| 12/12 [00:05<00:00,  2.04it/s, Loss=0.6476, Acc=0.6849]\n"
     ]
    },
    {
     "name": "stdout",
     "output_type": "stream",
     "text": [
      "✅ Validation completed in 5.89s\n",
      "🌟 New best model found! Validation Accuracy: 0.6849\n",
      "\n",
      "📊 Epoch 15 Summary:\n",
      "│ Train Loss: 0.5833 | Train Acc: 0.6987\n",
      "│ Val Loss:   0.6476 | Val Acc:   0.6849\n",
      "│ Train Time: 70.50s | Val Time: 5.89s\n",
      "│ Total Epoch Time: 76.40s\n",
      "│ Best Val Acc: 0.6849 (Epoch 15)\n",
      "│ GPU Memory: 0.4GB / 9.0GB\n",
      "================================================================================\n",
      "\n",
      "📈 Epoch 16/50\n",
      "Current LR: 1.00e-04\n",
      "--------------------------------------------------\n",
      "🔄 Training Phase...\n"
     ]
    },
    {
     "name": "stderr",
     "output_type": "stream",
     "text": [
      "Training: 100%|██████████████████████████████| 48/48 [01:10<00:00,  1.48s/it, Loss=0.5451, Acc=0.7276]\n"
     ]
    },
    {
     "name": "stdout",
     "output_type": "stream",
     "text": [
      "✅ Training completed in 70.86s\n",
      "🔍 Validation Phase...\n"
     ]
    },
    {
     "name": "stderr",
     "output_type": "stream",
     "text": [
      "Validation: 100%|██████████████████████████████| 12/12 [00:05<00:00,  2.05it/s, Loss=0.7051, Acc=0.6589]\n"
     ]
    },
    {
     "name": "stdout",
     "output_type": "stream",
     "text": [
      "✅ Validation completed in 5.85s\n",
      "\n",
      "📊 Epoch 16 Summary:\n",
      "│ Train Loss: 0.5451 | Train Acc: 0.7276\n",
      "│ Val Loss:   0.7051 | Val Acc:   0.6589\n",
      "│ Train Time: 70.86s | Val Time: 5.85s\n",
      "│ Total Epoch Time: 76.71s\n",
      "│ Best Val Acc: 0.6849 (Epoch 15)\n",
      "│ GPU Memory: 0.4GB / 9.0GB\n",
      "================================================================================\n",
      "\n",
      "📈 Epoch 17/50\n",
      "Current LR: 1.00e-04\n",
      "--------------------------------------------------\n",
      "🔄 Training Phase...\n"
     ]
    },
    {
     "name": "stderr",
     "output_type": "stream",
     "text": [
      "Training: 100%|██████████████████████████████| 48/48 [01:10<00:00,  1.48s/it, Loss=0.5298, Acc=0.7382]\n"
     ]
    },
    {
     "name": "stdout",
     "output_type": "stream",
     "text": [
      "✅ Training completed in 70.82s\n",
      "🔍 Validation Phase...\n"
     ]
    },
    {
     "name": "stderr",
     "output_type": "stream",
     "text": [
      "Validation: 100%|██████████████████████████████| 12/12 [00:05<00:00,  2.07it/s, Loss=0.7263, Acc=0.6458]\n"
     ]
    },
    {
     "name": "stdout",
     "output_type": "stream",
     "text": [
      "✅ Validation completed in 5.80s\n",
      "\n",
      "📊 Epoch 17 Summary:\n",
      "│ Train Loss: 0.5298 | Train Acc: 0.7382\n",
      "│ Val Loss:   0.7263 | Val Acc:   0.6458\n",
      "│ Train Time: 70.82s | Val Time: 5.80s\n",
      "│ Total Epoch Time: 76.62s\n",
      "│ Best Val Acc: 0.6849 (Epoch 15)\n",
      "│ GPU Memory: 0.4GB / 9.0GB\n",
      "================================================================================\n",
      "\n",
      "📈 Epoch 18/50\n",
      "Current LR: 1.00e-04\n",
      "--------------------------------------------------\n",
      "🔄 Training Phase...\n"
     ]
    },
    {
     "name": "stderr",
     "output_type": "stream",
     "text": [
      "Training: 100%|██████████████████████████████| 48/48 [01:10<00:00,  1.46s/it, Loss=0.5000, Acc=0.7618]\n"
     ]
    },
    {
     "name": "stdout",
     "output_type": "stream",
     "text": [
      "✅ Training completed in 70.30s\n",
      "🔍 Validation Phase...\n"
     ]
    },
    {
     "name": "stderr",
     "output_type": "stream",
     "text": [
      "Validation: 100%|██████████████████████████████| 12/12 [00:05<00:00,  2.05it/s, Loss=0.7263, Acc=0.6276]\n"
     ]
    },
    {
     "name": "stdout",
     "output_type": "stream",
     "text": [
      "✅ Validation completed in 5.85s\n",
      "\n",
      "📊 Epoch 18 Summary:\n",
      "│ Train Loss: 0.5000 | Train Acc: 0.7618\n",
      "│ Val Loss:   0.7263 | Val Acc:   0.6276\n",
      "│ Train Time: 70.30s | Val Time: 5.85s\n",
      "│ Total Epoch Time: 76.15s\n",
      "│ Best Val Acc: 0.6849 (Epoch 15)\n",
      "│ GPU Memory: 0.4GB / 9.0GB\n",
      "================================================================================\n",
      "\n",
      "📈 Epoch 19/50\n",
      "Current LR: 1.00e-04\n",
      "--------------------------------------------------\n",
      "🔄 Training Phase...\n"
     ]
    },
    {
     "name": "stderr",
     "output_type": "stream",
     "text": [
      "Training: 100%|██████████████████████████████| 48/48 [01:10<00:00,  1.47s/it, Loss=0.4670, Acc=0.7789]\n"
     ]
    },
    {
     "name": "stdout",
     "output_type": "stream",
     "text": [
      "✅ Training completed in 70.53s\n",
      "🔍 Validation Phase...\n"
     ]
    },
    {
     "name": "stderr",
     "output_type": "stream",
     "text": [
      "Validation: 100%|██████████████████████████████| 12/12 [00:05<00:00,  2.03it/s, Loss=0.8148, Acc=0.5911]\n"
     ]
    },
    {
     "name": "stdout",
     "output_type": "stream",
     "text": [
      "✅ Validation completed in 5.91s\n",
      "\n",
      "📊 Epoch 19 Summary:\n",
      "│ Train Loss: 0.4670 | Train Acc: 0.7789\n",
      "│ Val Loss:   0.8148 | Val Acc:   0.5911\n",
      "│ Train Time: 70.53s | Val Time: 5.91s\n",
      "│ Total Epoch Time: 76.44s\n",
      "│ Best Val Acc: 0.6849 (Epoch 15)\n",
      "│ GPU Memory: 0.4GB / 9.0GB\n",
      "================================================================================\n",
      "\n",
      "📈 Epoch 20/50\n",
      "Current LR: 1.00e-04\n",
      "--------------------------------------------------\n",
      "🔄 Training Phase...\n"
     ]
    },
    {
     "name": "stderr",
     "output_type": "stream",
     "text": [
      "Training: 100%|██████████████████████████████| 48/48 [01:10<00:00,  1.47s/it, Loss=0.4476, Acc=0.8013]\n"
     ]
    },
    {
     "name": "stdout",
     "output_type": "stream",
     "text": [
      "✅ Training completed in 70.39s\n",
      "🔍 Validation Phase...\n"
     ]
    },
    {
     "name": "stderr",
     "output_type": "stream",
     "text": [
      "Validation: 100%|██████████████████████████████| 12/12 [00:05<00:00,  2.07it/s, Loss=0.9053, Acc=0.6328]\n"
     ]
    },
    {
     "name": "stdout",
     "output_type": "stream",
     "text": [
      "✅ Validation completed in 5.80s\n",
      "\n",
      "📊 Epoch 20 Summary:\n",
      "│ Train Loss: 0.4476 | Train Acc: 0.8013\n",
      "│ Val Loss:   0.9053 | Val Acc:   0.6328\n",
      "│ Train Time: 70.39s | Val Time: 5.80s\n",
      "│ Total Epoch Time: 76.19s\n",
      "│ Best Val Acc: 0.6849 (Epoch 15)\n",
      "│ GPU Memory: 0.4GB / 9.0GB\n",
      "================================================================================\n",
      "\n",
      "📈 Epoch 21/50\n",
      "Current LR: 1.00e-05\n",
      "--------------------------------------------------\n",
      "🔄 Training Phase...\n"
     ]
    },
    {
     "name": "stderr",
     "output_type": "stream",
     "text": [
      "Training: 100%|██████████████████████████████| 48/48 [01:10<00:00,  1.47s/it, Loss=0.4112, Acc=0.8184]\n"
     ]
    },
    {
     "name": "stdout",
     "output_type": "stream",
     "text": [
      "✅ Training completed in 70.37s\n",
      "🔍 Validation Phase...\n"
     ]
    },
    {
     "name": "stderr",
     "output_type": "stream",
     "text": [
      "Validation: 100%|██████████████████████████████| 12/12 [00:05<00:00,  2.06it/s, Loss=0.8393, Acc=0.6745]\n"
     ]
    },
    {
     "name": "stdout",
     "output_type": "stream",
     "text": [
      "✅ Validation completed in 5.82s\n",
      "\n",
      "📊 Epoch 21 Summary:\n",
      "│ Train Loss: 0.4112 | Train Acc: 0.8184\n",
      "│ Val Loss:   0.8393 | Val Acc:   0.6745\n",
      "│ Train Time: 70.37s | Val Time: 5.82s\n",
      "│ Total Epoch Time: 76.19s\n",
      "│ Best Val Acc: 0.6849 (Epoch 15)\n",
      "│ GPU Memory: 0.4GB / 9.0GB\n",
      "================================================================================\n",
      "\n",
      "📈 Epoch 22/50\n",
      "Current LR: 1.00e-05\n",
      "--------------------------------------------------\n",
      "🔄 Training Phase...\n"
     ]
    },
    {
     "name": "stderr",
     "output_type": "stream",
     "text": [
      "Training: 100%|██████████████████████████████| 48/48 [01:10<00:00,  1.47s/it, Loss=0.3915, Acc=0.8217]\n"
     ]
    },
    {
     "name": "stdout",
     "output_type": "stream",
     "text": [
      "✅ Training completed in 70.47s\n",
      "🔍 Validation Phase...\n"
     ]
    },
    {
     "name": "stderr",
     "output_type": "stream",
     "text": [
      "Validation: 100%|██████████████████████████████| 12/12 [00:05<00:00,  2.07it/s, Loss=0.8494, Acc=0.6406]\n"
     ]
    },
    {
     "name": "stdout",
     "output_type": "stream",
     "text": [
      "✅ Validation completed in 5.81s\n",
      "\n",
      "📊 Epoch 22 Summary:\n",
      "│ Train Loss: 0.3915 | Train Acc: 0.8217\n",
      "│ Val Loss:   0.8494 | Val Acc:   0.6406\n",
      "│ Train Time: 70.47s | Val Time: 5.81s\n",
      "│ Total Epoch Time: 76.29s\n",
      "│ Best Val Acc: 0.6849 (Epoch 15)\n",
      "│ GPU Memory: 0.4GB / 9.0GB\n",
      "================================================================================\n",
      "\n",
      "📈 Epoch 23/50\n",
      "Current LR: 1.00e-05\n",
      "--------------------------------------------------\n",
      "🔄 Training Phase...\n"
     ]
    },
    {
     "name": "stderr",
     "output_type": "stream",
     "text": [
      "Training: 100%|██████████████████████████████| 48/48 [01:10<00:00,  1.47s/it, Loss=0.3953, Acc=0.8250]\n"
     ]
    },
    {
     "name": "stdout",
     "output_type": "stream",
     "text": [
      "✅ Training completed in 70.77s\n",
      "🔍 Validation Phase...\n"
     ]
    },
    {
     "name": "stderr",
     "output_type": "stream",
     "text": [
      "Validation: 100%|██████████████████████████████| 12/12 [00:06<00:00,  1.94it/s, Loss=0.8175, Acc=0.6562]\n"
     ]
    },
    {
     "name": "stdout",
     "output_type": "stream",
     "text": [
      "✅ Validation completed in 6.18s\n",
      "\n",
      "📊 Epoch 23 Summary:\n",
      "│ Train Loss: 0.3953 | Train Acc: 0.8250\n",
      "│ Val Loss:   0.8175 | Val Acc:   0.6562\n",
      "│ Train Time: 70.77s | Val Time: 6.18s\n",
      "│ Total Epoch Time: 76.95s\n",
      "│ Best Val Acc: 0.6849 (Epoch 15)\n",
      "│ GPU Memory: 0.4GB / 9.0GB\n",
      "================================================================================\n",
      "\n",
      "📈 Epoch 24/50\n",
      "Current LR: 1.00e-05\n",
      "--------------------------------------------------\n",
      "🔄 Training Phase...\n"
     ]
    },
    {
     "name": "stderr",
     "output_type": "stream",
     "text": [
      "Training: 100%|██████████████████████████████| 48/48 [01:11<00:00,  1.48s/it, Loss=0.3738, Acc=0.8375]\n"
     ]
    },
    {
     "name": "stdout",
     "output_type": "stream",
     "text": [
      "✅ Training completed in 71.11s\n",
      "🔍 Validation Phase...\n"
     ]
    },
    {
     "name": "stderr",
     "output_type": "stream",
     "text": [
      "Validation: 100%|██████████████████████████████| 12/12 [00:06<00:00,  1.96it/s, Loss=0.8252, Acc=0.6641]\n"
     ]
    },
    {
     "name": "stdout",
     "output_type": "stream",
     "text": [
      "✅ Validation completed in 6.12s\n",
      "\n",
      "📊 Epoch 24 Summary:\n",
      "│ Train Loss: 0.3738 | Train Acc: 0.8375\n",
      "│ Val Loss:   0.8252 | Val Acc:   0.6641\n",
      "│ Train Time: 71.11s | Val Time: 6.12s\n",
      "│ Total Epoch Time: 77.23s\n",
      "│ Best Val Acc: 0.6849 (Epoch 15)\n",
      "│ GPU Memory: 0.4GB / 9.0GB\n",
      "================================================================================\n",
      "\n",
      "📈 Epoch 25/50\n",
      "Current LR: 1.00e-05\n",
      "--------------------------------------------------\n",
      "🔄 Training Phase...\n"
     ]
    },
    {
     "name": "stderr",
     "output_type": "stream",
     "text": [
      "Training: 100%|██████████████████████████████| 48/48 [01:10<00:00,  1.47s/it, Loss=0.3645, Acc=0.8395]\n"
     ]
    },
    {
     "name": "stdout",
     "output_type": "stream",
     "text": [
      "✅ Training completed in 70.80s\n",
      "🔍 Validation Phase...\n"
     ]
    },
    {
     "name": "stderr",
     "output_type": "stream",
     "text": [
      "Validation: 100%|██████████████████████████████| 12/12 [00:05<00:00,  2.06it/s, Loss=0.8225, Acc=0.6745]\n"
     ]
    },
    {
     "name": "stdout",
     "output_type": "stream",
     "text": [
      "✅ Validation completed in 5.83s\n",
      "\n",
      "📊 Epoch 25 Summary:\n",
      "│ Train Loss: 0.3645 | Train Acc: 0.8395\n",
      "│ Val Loss:   0.8225 | Val Acc:   0.6745\n",
      "│ Train Time: 70.80s | Val Time: 5.83s\n",
      "│ Total Epoch Time: 76.63s\n",
      "│ Best Val Acc: 0.6849 (Epoch 15)\n",
      "│ GPU Memory: 0.4GB / 9.0GB\n",
      "================================================================================\n",
      "\n",
      "📈 Epoch 26/50\n",
      "Current LR: 1.00e-05\n",
      "--------------------------------------------------\n",
      "🔄 Training Phase...\n"
     ]
    },
    {
     "name": "stderr",
     "output_type": "stream",
     "text": [
      "Training: 100%|██████████████████████████████| 48/48 [01:10<00:00,  1.48s/it, Loss=0.3594, Acc=0.8408]\n"
     ]
    },
    {
     "name": "stdout",
     "output_type": "stream",
     "text": [
      "✅ Training completed in 70.85s\n",
      "🔍 Validation Phase...\n"
     ]
    },
    {
     "name": "stderr",
     "output_type": "stream",
     "text": [
      "Validation: 100%|██████████████████████████████| 12/12 [00:05<00:00,  2.03it/s, Loss=0.8320, Acc=0.6589]\n"
     ]
    },
    {
     "name": "stdout",
     "output_type": "stream",
     "text": [
      "✅ Validation completed in 5.91s\n",
      "\n",
      "📊 Epoch 26 Summary:\n",
      "│ Train Loss: 0.3594 | Train Acc: 0.8408\n",
      "│ Val Loss:   0.8320 | Val Acc:   0.6589\n",
      "│ Train Time: 70.85s | Val Time: 5.91s\n",
      "│ Total Epoch Time: 76.76s\n",
      "│ Best Val Acc: 0.6849 (Epoch 15)\n",
      "│ GPU Memory: 0.4GB / 9.0GB\n",
      "================================================================================\n",
      "\n",
      "📈 Epoch 27/50\n",
      "Current LR: 1.00e-05\n",
      "--------------------------------------------------\n",
      "🔄 Training Phase...\n"
     ]
    },
    {
     "name": "stderr",
     "output_type": "stream",
     "text": [
      "Training: 100%|██████████████████████████████| 48/48 [01:10<00:00,  1.47s/it, Loss=0.3528, Acc=0.8480]\n"
     ]
    },
    {
     "name": "stdout",
     "output_type": "stream",
     "text": [
      "✅ Training completed in 70.71s\n",
      "🔍 Validation Phase...\n"
     ]
    },
    {
     "name": "stderr",
     "output_type": "stream",
     "text": [
      "Validation: 100%|██████████████████████████████| 12/12 [00:05<00:00,  2.03it/s, Loss=0.8089, Acc=0.6797]\n"
     ]
    },
    {
     "name": "stdout",
     "output_type": "stream",
     "text": [
      "✅ Validation completed in 5.92s\n",
      "\n",
      "📊 Epoch 27 Summary:\n",
      "│ Train Loss: 0.3528 | Train Acc: 0.8480\n",
      "│ Val Loss:   0.8089 | Val Acc:   0.6797\n",
      "│ Train Time: 70.71s | Val Time: 5.92s\n",
      "│ Total Epoch Time: 76.63s\n",
      "│ Best Val Acc: 0.6849 (Epoch 15)\n",
      "│ GPU Memory: 0.4GB / 9.0GB\n",
      "================================================================================\n",
      "\n",
      "📈 Epoch 28/50\n",
      "Current LR: 1.00e-05\n",
      "--------------------------------------------------\n",
      "🔄 Training Phase...\n"
     ]
    },
    {
     "name": "stderr",
     "output_type": "stream",
     "text": [
      "Training: 100%|██████████████████████████████| 48/48 [01:10<00:00,  1.48s/it, Loss=0.3541, Acc=0.8546]\n"
     ]
    },
    {
     "name": "stdout",
     "output_type": "stream",
     "text": [
      "✅ Training completed in 70.85s\n",
      "🔍 Validation Phase...\n"
     ]
    },
    {
     "name": "stderr",
     "output_type": "stream",
     "text": [
      "Validation: 100%|██████████████████████████████| 12/12 [00:05<00:00,  2.02it/s, Loss=0.7939, Acc=0.6693]\n"
     ]
    },
    {
     "name": "stdout",
     "output_type": "stream",
     "text": [
      "✅ Validation completed in 5.94s\n",
      "\n",
      "📊 Epoch 28 Summary:\n",
      "│ Train Loss: 0.3541 | Train Acc: 0.8546\n",
      "│ Val Loss:   0.7939 | Val Acc:   0.6693\n",
      "│ Train Time: 70.85s | Val Time: 5.94s\n",
      "│ Total Epoch Time: 76.79s\n",
      "│ Best Val Acc: 0.6849 (Epoch 15)\n",
      "│ GPU Memory: 0.4GB / 9.0GB\n",
      "================================================================================\n",
      "\n",
      "📈 Epoch 29/50\n",
      "Current LR: 1.00e-05\n",
      "--------------------------------------------------\n",
      "🔄 Training Phase...\n"
     ]
    },
    {
     "name": "stderr",
     "output_type": "stream",
     "text": [
      "Training: 100%|██████████████████████████████| 48/48 [01:10<00:00,  1.47s/it, Loss=0.3561, Acc=0.8467]\n"
     ]
    },
    {
     "name": "stdout",
     "output_type": "stream",
     "text": [
      "✅ Training completed in 70.68s\n",
      "🔍 Validation Phase...\n"
     ]
    },
    {
     "name": "stderr",
     "output_type": "stream",
     "text": [
      "Validation: 100%|██████████████████████████████| 12/12 [00:05<00:00,  2.05it/s, Loss=0.7930, Acc=0.6849]\n"
     ]
    },
    {
     "name": "stdout",
     "output_type": "stream",
     "text": [
      "✅ Validation completed in 5.85s\n",
      "\n",
      "📊 Epoch 29 Summary:\n",
      "│ Train Loss: 0.3561 | Train Acc: 0.8467\n",
      "│ Val Loss:   0.7930 | Val Acc:   0.6849\n",
      "│ Train Time: 70.68s | Val Time: 5.85s\n",
      "│ Total Epoch Time: 76.53s\n",
      "│ Best Val Acc: 0.6849 (Epoch 15)\n",
      "│ GPU Memory: 0.4GB / 9.0GB\n",
      "================================================================================\n",
      "\n",
      "📈 Epoch 30/50\n",
      "Current LR: 1.00e-05\n",
      "--------------------------------------------------\n",
      "🔄 Training Phase...\n"
     ]
    },
    {
     "name": "stderr",
     "output_type": "stream",
     "text": [
      "Training: 100%|██████████████████████████████| 48/48 [01:10<00:00,  1.48s/it, Loss=0.3392, Acc=0.8592]\n"
     ]
    },
    {
     "name": "stdout",
     "output_type": "stream",
     "text": [
      "✅ Training completed in 70.98s\n",
      "🔍 Validation Phase...\n"
     ]
    },
    {
     "name": "stderr",
     "output_type": "stream",
     "text": [
      "Validation: 100%|██████████████████████████████| 12/12 [00:05<00:00,  2.00it/s, Loss=0.8036, Acc=0.6823]\n"
     ]
    },
    {
     "name": "stdout",
     "output_type": "stream",
     "text": [
      "✅ Validation completed in 6.01s\n",
      "\n",
      "📊 Epoch 30 Summary:\n",
      "│ Train Loss: 0.3392 | Train Acc: 0.8592\n",
      "│ Val Loss:   0.8036 | Val Acc:   0.6823\n",
      "│ Train Time: 70.98s | Val Time: 6.01s\n",
      "│ Total Epoch Time: 76.99s\n",
      "│ Best Val Acc: 0.6849 (Epoch 15)\n",
      "│ GPU Memory: 0.4GB / 9.0GB\n",
      "================================================================================\n",
      "\n",
      "📈 Epoch 31/50\n",
      "Current LR: 1.00e-06\n",
      "--------------------------------------------------\n",
      "🔄 Training Phase...\n"
     ]
    },
    {
     "name": "stderr",
     "output_type": "stream",
     "text": [
      "Training: 100%|██████████████████████████████| 48/48 [01:10<00:00,  1.47s/it, Loss=0.3137, Acc=0.8658]\n"
     ]
    },
    {
     "name": "stdout",
     "output_type": "stream",
     "text": [
      "✅ Training completed in 70.68s\n",
      "🔍 Validation Phase...\n"
     ]
    },
    {
     "name": "stderr",
     "output_type": "stream",
     "text": [
      "Validation: 100%|██████████████████████████████| 12/12 [00:05<00:00,  2.05it/s, Loss=0.7927, Acc=0.6823]\n"
     ]
    },
    {
     "name": "stdout",
     "output_type": "stream",
     "text": [
      "✅ Validation completed in 5.87s\n",
      "\n",
      "📊 Epoch 31 Summary:\n",
      "│ Train Loss: 0.3137 | Train Acc: 0.8658\n",
      "│ Val Loss:   0.7927 | Val Acc:   0.6823\n",
      "│ Train Time: 70.68s | Val Time: 5.87s\n",
      "│ Total Epoch Time: 76.56s\n",
      "│ Best Val Acc: 0.6849 (Epoch 15)\n",
      "│ GPU Memory: 0.4GB / 9.0GB\n",
      "================================================================================\n",
      "\n",
      "📈 Epoch 32/50\n",
      "Current LR: 1.00e-06\n",
      "--------------------------------------------------\n",
      "🔄 Training Phase...\n"
     ]
    },
    {
     "name": "stderr",
     "output_type": "stream",
     "text": [
      "Training: 100%|██████████████████████████████| 48/48 [01:10<00:00,  1.47s/it, Loss=0.3288, Acc=0.8671]\n"
     ]
    },
    {
     "name": "stdout",
     "output_type": "stream",
     "text": [
      "✅ Training completed in 70.53s\n",
      "🔍 Validation Phase...\n"
     ]
    },
    {
     "name": "stderr",
     "output_type": "stream",
     "text": [
      "Validation: 100%|██████████████████████████████| 12/12 [00:05<00:00,  2.06it/s, Loss=0.8077, Acc=0.6771]\n"
     ]
    },
    {
     "name": "stdout",
     "output_type": "stream",
     "text": [
      "✅ Validation completed in 5.83s\n",
      "\n",
      "📊 Epoch 32 Summary:\n",
      "│ Train Loss: 0.3288 | Train Acc: 0.8671\n",
      "│ Val Loss:   0.8077 | Val Acc:   0.6771\n",
      "│ Train Time: 70.53s | Val Time: 5.83s\n",
      "│ Total Epoch Time: 76.37s\n",
      "│ Best Val Acc: 0.6849 (Epoch 15)\n",
      "│ GPU Memory: 0.4GB / 9.0GB\n",
      "================================================================================\n",
      "\n",
      "📈 Epoch 33/50\n",
      "Current LR: 1.00e-06\n",
      "--------------------------------------------------\n",
      "🔄 Training Phase...\n"
     ]
    },
    {
     "name": "stderr",
     "output_type": "stream",
     "text": [
      "Training: 100%|██████████████████████████████| 48/48 [01:10<00:00,  1.47s/it, Loss=0.3512, Acc=0.8395]\n"
     ]
    },
    {
     "name": "stdout",
     "output_type": "stream",
     "text": [
      "✅ Training completed in 70.48s\n",
      "🔍 Validation Phase...\n"
     ]
    },
    {
     "name": "stderr",
     "output_type": "stream",
     "text": [
      "Validation: 100%|██████████████████████████████| 12/12 [00:05<00:00,  2.04it/s, Loss=0.7932, Acc=0.6875]\n"
     ]
    },
    {
     "name": "stdout",
     "output_type": "stream",
     "text": [
      "✅ Validation completed in 5.88s\n",
      "🌟 New best model found! Validation Accuracy: 0.6875\n",
      "\n",
      "📊 Epoch 33 Summary:\n",
      "│ Train Loss: 0.3512 | Train Acc: 0.8395\n",
      "│ Val Loss:   0.7932 | Val Acc:   0.6875\n",
      "│ Train Time: 70.48s | Val Time: 5.88s\n",
      "│ Total Epoch Time: 76.37s\n",
      "│ Best Val Acc: 0.6875 (Epoch 33)\n",
      "│ GPU Memory: 0.4GB / 9.0GB\n",
      "================================================================================\n",
      "\n",
      "📈 Epoch 34/50\n",
      "Current LR: 1.00e-06\n",
      "--------------------------------------------------\n",
      "🔄 Training Phase...\n"
     ]
    },
    {
     "name": "stderr",
     "output_type": "stream",
     "text": [
      "Training: 100%|██████████████████████████████| 48/48 [01:10<00:00,  1.47s/it, Loss=0.3259, Acc=0.8513]\n"
     ]
    },
    {
     "name": "stdout",
     "output_type": "stream",
     "text": [
      "✅ Training completed in 70.80s\n",
      "🔍 Validation Phase...\n"
     ]
    },
    {
     "name": "stderr",
     "output_type": "stream",
     "text": [
      "Validation: 100%|██████████████████████████████| 12/12 [00:05<00:00,  2.05it/s, Loss=0.8092, Acc=0.6823]\n"
     ]
    },
    {
     "name": "stdout",
     "output_type": "stream",
     "text": [
      "✅ Validation completed in 5.86s\n",
      "\n",
      "📊 Epoch 34 Summary:\n",
      "│ Train Loss: 0.3259 | Train Acc: 0.8513\n",
      "│ Val Loss:   0.8092 | Val Acc:   0.6823\n",
      "│ Train Time: 70.80s | Val Time: 5.86s\n",
      "│ Total Epoch Time: 76.66s\n",
      "│ Best Val Acc: 0.6875 (Epoch 33)\n",
      "│ GPU Memory: 0.4GB / 9.0GB\n",
      "================================================================================\n",
      "\n",
      "📈 Epoch 35/50\n",
      "Current LR: 1.00e-06\n",
      "--------------------------------------------------\n",
      "🔄 Training Phase...\n"
     ]
    },
    {
     "name": "stderr",
     "output_type": "stream",
     "text": [
      "Training: 100%|██████████████████████████████| 48/48 [01:10<00:00,  1.47s/it, Loss=0.3316, Acc=0.8632]\n"
     ]
    },
    {
     "name": "stdout",
     "output_type": "stream",
     "text": [
      "✅ Training completed in 70.39s\n",
      "🔍 Validation Phase...\n"
     ]
    },
    {
     "name": "stderr",
     "output_type": "stream",
     "text": [
      "Validation: 100%|██████████████████████████████| 12/12 [00:05<00:00,  2.07it/s, Loss=0.8126, Acc=0.6875]\n"
     ]
    },
    {
     "name": "stdout",
     "output_type": "stream",
     "text": [
      "✅ Validation completed in 5.80s\n",
      "\n",
      "📊 Epoch 35 Summary:\n",
      "│ Train Loss: 0.3316 | Train Acc: 0.8632\n",
      "│ Val Loss:   0.8126 | Val Acc:   0.6875\n",
      "│ Train Time: 70.39s | Val Time: 5.80s\n",
      "│ Total Epoch Time: 76.19s\n",
      "│ Best Val Acc: 0.6875 (Epoch 33)\n",
      "│ GPU Memory: 0.4GB / 9.0GB\n",
      "================================================================================\n",
      "\n",
      "📈 Epoch 36/50\n",
      "Current LR: 1.00e-06\n",
      "--------------------------------------------------\n",
      "🔄 Training Phase...\n"
     ]
    },
    {
     "name": "stderr",
     "output_type": "stream",
     "text": [
      "Training: 100%|██████████████████████████████| 48/48 [01:10<00:00,  1.47s/it, Loss=0.3472, Acc=0.8513]\n"
     ]
    },
    {
     "name": "stdout",
     "output_type": "stream",
     "text": [
      "✅ Training completed in 70.32s\n",
      "🔍 Validation Phase...\n"
     ]
    },
    {
     "name": "stderr",
     "output_type": "stream",
     "text": [
      "Validation: 100%|██████████████████████████████| 12/12 [00:05<00:00,  2.07it/s, Loss=0.7969, Acc=0.6927]\n"
     ]
    },
    {
     "name": "stdout",
     "output_type": "stream",
     "text": [
      "✅ Validation completed in 5.80s\n",
      "🌟 New best model found! Validation Accuracy: 0.6927\n",
      "\n",
      "📊 Epoch 36 Summary:\n",
      "│ Train Loss: 0.3472 | Train Acc: 0.8513\n",
      "│ Val Loss:   0.7969 | Val Acc:   0.6927\n",
      "│ Train Time: 70.32s | Val Time: 5.80s\n",
      "│ Total Epoch Time: 76.13s\n",
      "│ Best Val Acc: 0.6927 (Epoch 36)\n",
      "│ GPU Memory: 0.4GB / 9.0GB\n",
      "================================================================================\n",
      "\n",
      "📈 Epoch 37/50\n",
      "Current LR: 1.00e-06\n",
      "--------------------------------------------------\n",
      "🔄 Training Phase...\n"
     ]
    },
    {
     "name": "stderr",
     "output_type": "stream",
     "text": [
      "Training: 100%|██████████████████████████████| 48/48 [01:10<00:00,  1.46s/it, Loss=0.3288, Acc=0.8599]\n"
     ]
    },
    {
     "name": "stdout",
     "output_type": "stream",
     "text": [
      "✅ Training completed in 70.19s\n",
      "🔍 Validation Phase...\n"
     ]
    },
    {
     "name": "stderr",
     "output_type": "stream",
     "text": [
      "Validation: 100%|██████████████████████████████| 12/12 [00:05<00:00,  2.05it/s, Loss=0.7967, Acc=0.6875]\n"
     ]
    },
    {
     "name": "stdout",
     "output_type": "stream",
     "text": [
      "✅ Validation completed in 5.85s\n",
      "\n",
      "📊 Epoch 37 Summary:\n",
      "│ Train Loss: 0.3288 | Train Acc: 0.8599\n",
      "│ Val Loss:   0.7967 | Val Acc:   0.6875\n",
      "│ Train Time: 70.19s | Val Time: 5.85s\n",
      "│ Total Epoch Time: 76.04s\n",
      "│ Best Val Acc: 0.6927 (Epoch 36)\n",
      "│ GPU Memory: 0.4GB / 9.0GB\n",
      "================================================================================\n",
      "\n",
      "📈 Epoch 38/50\n",
      "Current LR: 1.00e-06\n",
      "--------------------------------------------------\n",
      "🔄 Training Phase...\n"
     ]
    },
    {
     "name": "stderr",
     "output_type": "stream",
     "text": [
      "Training: 100%|██████████████████████████████| 48/48 [01:10<00:00,  1.47s/it, Loss=0.3339, Acc=0.8533]\n"
     ]
    },
    {
     "name": "stdout",
     "output_type": "stream",
     "text": [
      "✅ Training completed in 70.64s\n",
      "🔍 Validation Phase...\n"
     ]
    },
    {
     "name": "stderr",
     "output_type": "stream",
     "text": [
      "Validation: 100%|██████████████████████████████| 12/12 [00:05<00:00,  2.03it/s, Loss=0.7947, Acc=0.6901]\n"
     ]
    },
    {
     "name": "stdout",
     "output_type": "stream",
     "text": [
      "✅ Validation completed in 5.90s\n",
      "\n",
      "📊 Epoch 38 Summary:\n",
      "│ Train Loss: 0.3339 | Train Acc: 0.8533\n",
      "│ Val Loss:   0.7947 | Val Acc:   0.6901\n",
      "│ Train Time: 70.64s | Val Time: 5.90s\n",
      "│ Total Epoch Time: 76.55s\n",
      "│ Best Val Acc: 0.6927 (Epoch 36)\n",
      "│ GPU Memory: 0.4GB / 9.0GB\n",
      "================================================================================\n",
      "\n",
      "📈 Epoch 39/50\n",
      "Current LR: 1.00e-06\n",
      "--------------------------------------------------\n",
      "🔄 Training Phase...\n"
     ]
    },
    {
     "name": "stderr",
     "output_type": "stream",
     "text": [
      "Training: 100%|██████████████████████████████| 48/48 [01:10<00:00,  1.47s/it, Loss=0.3329, Acc=0.8559]\n"
     ]
    },
    {
     "name": "stdout",
     "output_type": "stream",
     "text": [
      "✅ Training completed in 70.41s\n",
      "🔍 Validation Phase...\n"
     ]
    },
    {
     "name": "stderr",
     "output_type": "stream",
     "text": [
      "Validation: 100%|██████████████████████████████| 12/12 [00:05<00:00,  2.07it/s, Loss=0.8097, Acc=0.6875]\n"
     ]
    },
    {
     "name": "stdout",
     "output_type": "stream",
     "text": [
      "✅ Validation completed in 5.81s\n",
      "\n",
      "📊 Epoch 39 Summary:\n",
      "│ Train Loss: 0.3329 | Train Acc: 0.8559\n",
      "│ Val Loss:   0.8097 | Val Acc:   0.6875\n",
      "│ Train Time: 70.41s | Val Time: 5.81s\n",
      "│ Total Epoch Time: 76.23s\n",
      "│ Best Val Acc: 0.6927 (Epoch 36)\n",
      "│ GPU Memory: 0.4GB / 9.0GB\n",
      "================================================================================\n",
      "\n",
      "📈 Epoch 40/50\n",
      "Current LR: 1.00e-06\n",
      "--------------------------------------------------\n",
      "🔄 Training Phase...\n"
     ]
    },
    {
     "name": "stderr",
     "output_type": "stream",
     "text": [
      "Training: 100%|██████████████████████████████| 48/48 [01:10<00:00,  1.46s/it, Loss=0.3204, Acc=0.8664]\n"
     ]
    },
    {
     "name": "stdout",
     "output_type": "stream",
     "text": [
      "✅ Training completed in 70.12s\n",
      "🔍 Validation Phase...\n"
     ]
    },
    {
     "name": "stderr",
     "output_type": "stream",
     "text": [
      "Validation: 100%|██████████████████████████████| 12/12 [00:05<00:00,  2.06it/s, Loss=0.7982, Acc=0.6875]\n"
     ]
    },
    {
     "name": "stdout",
     "output_type": "stream",
     "text": [
      "✅ Validation completed in 5.82s\n",
      "\n",
      "📊 Epoch 40 Summary:\n",
      "│ Train Loss: 0.3204 | Train Acc: 0.8664\n",
      "│ Val Loss:   0.7982 | Val Acc:   0.6875\n",
      "│ Train Time: 70.12s | Val Time: 5.82s\n",
      "│ Total Epoch Time: 75.95s\n",
      "│ Best Val Acc: 0.6927 (Epoch 36)\n",
      "│ GPU Memory: 0.4GB / 9.0GB\n",
      "================================================================================\n",
      "\n",
      "📈 Epoch 41/50\n",
      "Current LR: 1.00e-07\n",
      "--------------------------------------------------\n",
      "🔄 Training Phase...\n"
     ]
    },
    {
     "name": "stderr",
     "output_type": "stream",
     "text": [
      "Training: 100%|██████████████████████████████| 48/48 [01:10<00:00,  1.46s/it, Loss=0.3343, Acc=0.8651]\n"
     ]
    },
    {
     "name": "stdout",
     "output_type": "stream",
     "text": [
      "✅ Training completed in 70.25s\n",
      "🔍 Validation Phase...\n"
     ]
    },
    {
     "name": "stderr",
     "output_type": "stream",
     "text": [
      "Validation: 100%|██████████████████████████████| 12/12 [00:05<00:00,  2.04it/s, Loss=0.8093, Acc=0.6823]\n"
     ]
    },
    {
     "name": "stdout",
     "output_type": "stream",
     "text": [
      "✅ Validation completed in 5.88s\n",
      "\n",
      "📊 Epoch 41 Summary:\n",
      "│ Train Loss: 0.3343 | Train Acc: 0.8651\n",
      "│ Val Loss:   0.8093 | Val Acc:   0.6823\n",
      "│ Train Time: 70.25s | Val Time: 5.88s\n",
      "│ Total Epoch Time: 76.14s\n",
      "│ Best Val Acc: 0.6927 (Epoch 36)\n",
      "│ GPU Memory: 0.4GB / 9.0GB\n",
      "================================================================================\n",
      "\n",
      "📈 Epoch 42/50\n",
      "Current LR: 1.00e-07\n",
      "--------------------------------------------------\n",
      "🔄 Training Phase...\n"
     ]
    },
    {
     "name": "stderr",
     "output_type": "stream",
     "text": [
      "Training: 100%|██████████████████████████████| 48/48 [01:10<00:00,  1.46s/it, Loss=0.3223, Acc=0.8671]\n"
     ]
    },
    {
     "name": "stdout",
     "output_type": "stream",
     "text": [
      "✅ Training completed in 70.29s\n",
      "🔍 Validation Phase...\n"
     ]
    },
    {
     "name": "stderr",
     "output_type": "stream",
     "text": [
      "Validation: 100%|██████████████████████████████| 12/12 [00:05<00:00,  2.07it/s, Loss=0.8033, Acc=0.6901]\n"
     ]
    },
    {
     "name": "stdout",
     "output_type": "stream",
     "text": [
      "✅ Validation completed in 5.81s\n",
      "\n",
      "📊 Epoch 42 Summary:\n",
      "│ Train Loss: 0.3223 | Train Acc: 0.8671\n",
      "│ Val Loss:   0.8033 | Val Acc:   0.6901\n",
      "│ Train Time: 70.29s | Val Time: 5.81s\n",
      "│ Total Epoch Time: 76.10s\n",
      "│ Best Val Acc: 0.6927 (Epoch 36)\n",
      "│ GPU Memory: 0.4GB / 9.0GB\n",
      "================================================================================\n",
      "\n",
      "📈 Epoch 43/50\n",
      "Current LR: 1.00e-07\n",
      "--------------------------------------------------\n",
      "🔄 Training Phase...\n"
     ]
    },
    {
     "name": "stderr",
     "output_type": "stream",
     "text": [
      "Training: 100%|██████████████████████████████| 48/48 [01:10<00:00,  1.46s/it, Loss=0.3128, Acc=0.8645]\n"
     ]
    },
    {
     "name": "stdout",
     "output_type": "stream",
     "text": [
      "✅ Training completed in 70.27s\n",
      "🔍 Validation Phase...\n"
     ]
    },
    {
     "name": "stderr",
     "output_type": "stream",
     "text": [
      "Validation: 100%|██████████████████████████████| 12/12 [00:05<00:00,  2.04it/s, Loss=0.8010, Acc=0.6901]\n"
     ]
    },
    {
     "name": "stdout",
     "output_type": "stream",
     "text": [
      "✅ Validation completed in 5.90s\n",
      "\n",
      "📊 Epoch 43 Summary:\n",
      "│ Train Loss: 0.3128 | Train Acc: 0.8645\n",
      "│ Val Loss:   0.8010 | Val Acc:   0.6901\n",
      "│ Train Time: 70.27s | Val Time: 5.90s\n",
      "│ Total Epoch Time: 76.17s\n",
      "│ Best Val Acc: 0.6927 (Epoch 36)\n",
      "│ GPU Memory: 0.4GB / 9.0GB\n",
      "================================================================================\n",
      "\n",
      "📈 Epoch 44/50\n",
      "Current LR: 1.00e-07\n",
      "--------------------------------------------------\n",
      "🔄 Training Phase...\n"
     ]
    },
    {
     "name": "stderr",
     "output_type": "stream",
     "text": [
      "Training: 100%|██████████████████████████████| 48/48 [01:10<00:00,  1.47s/it, Loss=0.3378, Acc=0.8546]\n"
     ]
    },
    {
     "name": "stdout",
     "output_type": "stream",
     "text": [
      "✅ Training completed in 70.42s\n",
      "🔍 Validation Phase...\n"
     ]
    },
    {
     "name": "stderr",
     "output_type": "stream",
     "text": [
      "Validation: 100%|██████████████████████████████| 12/12 [00:05<00:00,  2.07it/s, Loss=0.8020, Acc=0.6901]\n"
     ]
    },
    {
     "name": "stdout",
     "output_type": "stream",
     "text": [
      "✅ Validation completed in 5.80s\n",
      "\n",
      "📊 Epoch 44 Summary:\n",
      "│ Train Loss: 0.3378 | Train Acc: 0.8546\n",
      "│ Val Loss:   0.8020 | Val Acc:   0.6901\n",
      "│ Train Time: 70.42s | Val Time: 5.80s\n",
      "│ Total Epoch Time: 76.23s\n",
      "│ Best Val Acc: 0.6927 (Epoch 36)\n",
      "│ GPU Memory: 0.4GB / 9.0GB\n",
      "================================================================================\n",
      "\n",
      "📈 Epoch 45/50\n",
      "Current LR: 1.00e-07\n",
      "--------------------------------------------------\n",
      "🔄 Training Phase...\n"
     ]
    },
    {
     "name": "stderr",
     "output_type": "stream",
     "text": [
      "Training: 100%|██████████████████████████████| 48/48 [01:10<00:00,  1.46s/it, Loss=0.3032, Acc=0.8829]\n"
     ]
    },
    {
     "name": "stdout",
     "output_type": "stream",
     "text": [
      "✅ Training completed in 70.13s\n",
      "🔍 Validation Phase...\n"
     ]
    },
    {
     "name": "stderr",
     "output_type": "stream",
     "text": [
      "Validation: 100%|██████████████████████████████| 12/12 [00:05<00:00,  2.07it/s, Loss=0.7948, Acc=0.6849]\n"
     ]
    },
    {
     "name": "stdout",
     "output_type": "stream",
     "text": [
      "✅ Validation completed in 5.80s\n",
      "\n",
      "📊 Epoch 45 Summary:\n",
      "│ Train Loss: 0.3032 | Train Acc: 0.8829\n",
      "│ Val Loss:   0.7948 | Val Acc:   0.6849\n",
      "│ Train Time: 70.13s | Val Time: 5.80s\n",
      "│ Total Epoch Time: 75.93s\n",
      "│ Best Val Acc: 0.6927 (Epoch 36)\n",
      "│ GPU Memory: 0.4GB / 9.0GB\n",
      "================================================================================\n",
      "\n",
      "📈 Epoch 46/50\n",
      "Current LR: 1.00e-07\n",
      "--------------------------------------------------\n",
      "🔄 Training Phase...\n"
     ]
    },
    {
     "name": "stderr",
     "output_type": "stream",
     "text": [
      "Training: 100%|██████████████████████████████| 48/48 [01:11<00:00,  1.48s/it, Loss=0.3346, Acc=0.8632]\n"
     ]
    },
    {
     "name": "stdout",
     "output_type": "stream",
     "text": [
      "✅ Training completed in 71.12s\n",
      "🔍 Validation Phase...\n"
     ]
    },
    {
     "name": "stderr",
     "output_type": "stream",
     "text": [
      "Validation: 100%|██████████████████████████████| 12/12 [00:05<00:00,  2.03it/s, Loss=0.7893, Acc=0.6953]\n"
     ]
    },
    {
     "name": "stdout",
     "output_type": "stream",
     "text": [
      "✅ Validation completed in 5.92s\n",
      "🌟 New best model found! Validation Accuracy: 0.6953\n",
      "\n",
      "📊 Epoch 46 Summary:\n",
      "│ Train Loss: 0.3346 | Train Acc: 0.8632\n",
      "│ Val Loss:   0.7893 | Val Acc:   0.6953\n",
      "│ Train Time: 71.12s | Val Time: 5.92s\n",
      "│ Total Epoch Time: 77.04s\n",
      "│ Best Val Acc: 0.6953 (Epoch 46)\n",
      "│ GPU Memory: 0.4GB / 9.0GB\n",
      "================================================================================\n",
      "\n",
      "📈 Epoch 47/50\n",
      "Current LR: 1.00e-07\n",
      "--------------------------------------------------\n",
      "🔄 Training Phase...\n"
     ]
    },
    {
     "name": "stderr",
     "output_type": "stream",
     "text": [
      "Training: 100%|██████████████████████████████| 48/48 [01:10<00:00,  1.47s/it, Loss=0.3167, Acc=0.8651]\n"
     ]
    },
    {
     "name": "stdout",
     "output_type": "stream",
     "text": [
      "✅ Training completed in 70.37s\n",
      "🔍 Validation Phase...\n"
     ]
    },
    {
     "name": "stderr",
     "output_type": "stream",
     "text": [
      "Validation: 100%|██████████████████████████████| 12/12 [00:05<00:00,  2.07it/s, Loss=0.8026, Acc=0.6953]\n"
     ]
    },
    {
     "name": "stdout",
     "output_type": "stream",
     "text": [
      "✅ Validation completed in 5.80s\n",
      "\n",
      "📊 Epoch 47 Summary:\n",
      "│ Train Loss: 0.3167 | Train Acc: 0.8651\n",
      "│ Val Loss:   0.8026 | Val Acc:   0.6953\n",
      "│ Train Time: 70.37s | Val Time: 5.80s\n",
      "│ Total Epoch Time: 76.17s\n",
      "│ Best Val Acc: 0.6953 (Epoch 46)\n",
      "│ GPU Memory: 0.4GB / 9.0GB\n",
      "================================================================================\n",
      "\n",
      "📈 Epoch 48/50\n",
      "Current LR: 1.00e-07\n",
      "--------------------------------------------------\n",
      "🔄 Training Phase...\n"
     ]
    },
    {
     "name": "stderr",
     "output_type": "stream",
     "text": [
      "Training: 100%|██████████████████████████████| 48/48 [01:10<00:00,  1.47s/it, Loss=0.3091, Acc=0.8776]\n"
     ]
    },
    {
     "name": "stdout",
     "output_type": "stream",
     "text": [
      "✅ Training completed in 70.63s\n",
      "🔍 Validation Phase...\n"
     ]
    },
    {
     "name": "stderr",
     "output_type": "stream",
     "text": [
      "Validation: 100%|██████████████████████████████| 12/12 [00:05<00:00,  2.04it/s, Loss=0.7924, Acc=0.6901]\n"
     ]
    },
    {
     "name": "stdout",
     "output_type": "stream",
     "text": [
      "✅ Validation completed in 5.90s\n",
      "\n",
      "📊 Epoch 48 Summary:\n",
      "│ Train Loss: 0.3091 | Train Acc: 0.8776\n",
      "│ Val Loss:   0.7924 | Val Acc:   0.6901\n",
      "│ Train Time: 70.63s | Val Time: 5.90s\n",
      "│ Total Epoch Time: 76.53s\n",
      "│ Best Val Acc: 0.6953 (Epoch 46)\n",
      "│ GPU Memory: 0.4GB / 9.0GB\n",
      "================================================================================\n",
      "\n",
      "📈 Epoch 49/50\n",
      "Current LR: 1.00e-07\n",
      "--------------------------------------------------\n",
      "🔄 Training Phase...\n"
     ]
    },
    {
     "name": "stderr",
     "output_type": "stream",
     "text": [
      "Training: 100%|██████████████████████████████| 48/48 [01:10<00:00,  1.48s/it, Loss=0.3391, Acc=0.8566]\n"
     ]
    },
    {
     "name": "stdout",
     "output_type": "stream",
     "text": [
      "✅ Training completed in 70.91s\n",
      "🔍 Validation Phase...\n"
     ]
    },
    {
     "name": "stderr",
     "output_type": "stream",
     "text": [
      "Validation: 100%|██████████████████████████████| 12/12 [00:05<00:00,  2.05it/s, Loss=0.7848, Acc=0.7005]\n"
     ]
    },
    {
     "name": "stdout",
     "output_type": "stream",
     "text": [
      "✅ Validation completed in 5.85s\n",
      "🌟 New best model found! Validation Accuracy: 0.7005\n",
      "\n",
      "📊 Epoch 49 Summary:\n",
      "│ Train Loss: 0.3391 | Train Acc: 0.8566\n",
      "│ Val Loss:   0.7848 | Val Acc:   0.7005\n",
      "│ Train Time: 70.91s | Val Time: 5.85s\n",
      "│ Total Epoch Time: 76.76s\n",
      "│ Best Val Acc: 0.7005 (Epoch 49)\n",
      "│ GPU Memory: 0.4GB / 9.0GB\n",
      "================================================================================\n",
      "\n",
      "📈 Epoch 50/50\n",
      "Current LR: 1.00e-07\n",
      "--------------------------------------------------\n",
      "🔄 Training Phase...\n"
     ]
    },
    {
     "name": "stderr",
     "output_type": "stream",
     "text": [
      "Training: 100%|██████████████████████████████| 48/48 [01:10<00:00,  1.47s/it, Loss=0.3263, Acc=0.8632]\n"
     ]
    },
    {
     "name": "stdout",
     "output_type": "stream",
     "text": [
      "✅ Training completed in 70.66s\n",
      "🔍 Validation Phase...\n"
     ]
    },
    {
     "name": "stderr",
     "output_type": "stream",
     "text": [
      "Validation: 100%|██████████████████████████████| 12/12 [00:05<00:00,  2.06it/s, Loss=0.8004, Acc=0.6849]\n"
     ]
    },
    {
     "name": "stdout",
     "output_type": "stream",
     "text": [
      "✅ Validation completed in 5.84s\n",
      "\n",
      "📊 Epoch 50 Summary:\n",
      "│ Train Loss: 0.3263 | Train Acc: 0.8632\n",
      "│ Val Loss:   0.8004 | Val Acc:   0.6849\n",
      "│ Train Time: 70.66s | Val Time: 5.84s\n",
      "│ Total Epoch Time: 76.50s\n",
      "│ Best Val Acc: 0.7005 (Epoch 49)\n",
      "│ GPU Memory: 0.4GB / 9.0GB\n",
      "================================================================================\n",
      "\n",
      "💾 Best model saved as 'best_cricket_xception_scratch_filtered.pth'\n",
      "📊 Best model stats:\n",
      "│ Best Epoch: 49\n",
      "│ Best Val Acc: 0.7005\n",
      "│ Best Val Loss: 0.7848\n",
      "\n",
      "💾 Training history saved to 'cricket_xception_scratch_filtered_history.csv'\n",
      "\n",
      "🎉 Xception Scratch Training Complete!\n",
      "Total Training Time: 3835.28s (63.9 minutes)\n",
      "Average Epoch Time: 76.71s\n",
      "\n",
      "🧪 Loading Best Model for Testing...\n",
      "✅ Best model from epoch 49 loaded successfully!\n"
     ]
    },
    {
     "name": "stderr",
     "output_type": "stream",
     "text": [
      "Testing: 100%|██████████████████████████████| 16/16 [00:11<00:00,  1.34it/s]\n"
     ]
    },
    {
     "name": "stdout",
     "output_type": "stream",
     "text": [
      "✅ Testing completed in 11.92s\n",
      "\n",
      "📋 Classification Report:\n",
      "              precision    recall  f1-score   support\n",
      "\n",
      "   fast_bowl       0.68      0.78      0.72       304\n",
      "   spin_bowl       0.51      0.39      0.44       184\n",
      "\n",
      "    accuracy                           0.63       488\n",
      "   macro avg       0.60      0.58      0.58       488\n",
      "weighted avg       0.62      0.63      0.62       488\n",
      "\n",
      "🎯 Test Accuracy: 0.6311\n",
      "\n",
      "📊 Cricket Classification Performance (Xception - Scratch Training):\n",
      "│ Best Validation Acc:  0.7005 (Epoch 49)\n",
      "│ Best Validation Loss: 0.7848 (Epoch 49)\n",
      "│ Final Test Accuracy:  0.6311\n",
      "│ Val-Test Gap:         0.0694\n",
      "│ Training Type: From scratch (no pretraining)\n",
      "\n",
      "💾 Files saved:\n",
      "│ best_cricket_xception_scratch_filtered.pth - Best model weights\n",
      "│ cricket_xception_scratch_filtered_history.csv - Training metrics\n"
     ]
    },
    {
     "data": {
      "image/png": "[encoded data removed]",
      "text/plain": [
       "<Figure size 1000x800 with 2 Axes>"
      ]
     },
     "metadata": {},
     "output_type": "display_data"
    },
    {
     "data": {
      "image/png": "[encoded data removed]",
      "text/plain": [
       "<Figure size 2000x500 with 4 Axes>"
      ]
     },
     "metadata": {},
     "output_type": "display_data"
    },
    {
     "name": "stdout",
     "output_type": "stream",
     "text": [
      "\n",
      "⏰ Final Timing Summary:\n",
      "│ Total Training: 3835.28s (63.9 min)\n",
      "│ Average per Epoch: 76.71s\n",
      "│ Testing Time: 11.92s\n",
      "│ Total Runtime: 3847.20s\n",
      "\n",
      "🔀 Xception Scratch Training - Fixed Version:\n",
      "│ ✅ Fixed inplace operations: All ReLU layers use inplace=False\n",
      "│ ✅ Custom architecture: Built from ground up\n",
      "│ ✅ Depthwise separable convolutions: Core Xception innovation\n",
      "│ ✅ No transfer learning: Learns cricket features from scratch\n",
      "│ ✅ Data augmentation: Robust training with limited data\n",
      "│ ✅ Proper initialization: Xavier/He weight initialization\n",
      "│ ✅ Learning rate scheduling: Adaptive learning rate decay\n",
      "│ ✅ Clean dataset: 'random_occlusion' folder excluded\n",
      "│ ✅ Gradient computation: Fixed backward pass issues\n"
     ]
    }
   ],
   "source": [
    "\n",
    "# -----------------------------\n",
    "# 4. Training Setup for Scratch Training\n",
    "# -----------------------------\n",
    "criterion = nn.CrossEntropyLoss()\n",
    "optimizer = optim.Adam(model.parameters(), lr=1e-3, weight_decay=1e-4)  # Higher LR for scratch training\n",
    "scheduler = optim.lr_scheduler.StepLR(optimizer, step_size=10, gamma=0.1)  # Learning rate decay\n",
    "\n",
    "print(f\"\\n📋 Training Configuration:\")\n",
    "print(f\"│ Model: Xception (from scratch)\")\n",
    "print(f\"│ Optimizer: Adam (lr={optimizer.param_groups[0]['lr']})\")\n",
    "print(f\"│ Weight Decay: 1e-4\")\n",
    "print(f\"│ Loss Function: CrossEntropyLoss\")\n",
    "print(f\"│ Batch Size: 16\")\n",
    "print(f\"│ LR Scheduler: StepLR (decay every 10 epochs)\")\n",
    "print(f\"│ Device: {device}\")\n",
    "print(f\"│ Data: Filtered + Augmented\")\n",
    "\n",
    "# -----------------------------\n",
    "# 5. Training Loop with Model Saving\n",
    "# -----------------------------\n",
    "train_losses, val_losses = [], []\n",
    "train_accs, val_accs = [], []\n",
    "epoch_times = []\n",
    "epochs = 50  # More epochs needed for scratch training\n",
    "\n",
    "# Initialize best model tracking (using val_acc for scratch training)\n",
    "best_val_acc = 0.0\n",
    "best_model_state = None\n",
    "best_epoch = 0\n",
    "best_val_loss = float('inf')\n",
    "\n",
    "print(f\"\\n🚀 Starting Xception Training from Scratch for {epochs} epochs...\")\n",
    "print(\"=\" * 80)\n",
    "total_start_time = time.time()\n",
    "\n",
    "for epoch in range(epochs):\n",
    "    epoch_start_time = time.time()\n",
    "    \n",
    "    print(f\"\\n📈 Epoch {epoch+1}/{epochs}\")\n",
    "    print(f\"Current LR: {optimizer.param_groups[0]['lr']:.2e}\")\n",
    "    print(\"-\" * 50)\n",
    "    \n",
    "    # Training Phase\n",
    "    print(\"🔄 Training Phase...\")\n",
    "    model.train()\n",
    "    running_loss, correct, total = 0, 0, 0\n",
    "    \n",
    "    train_pbar = tqdm(train_loader, desc=\"Training\", \n",
    "                     bar_format='{l_bar}{bar:30}{r_bar}{bar:-30b}')\n",
    "    \n",
    "    train_phase_start = time.time()\n",
    "    \n",
    "    for batch_idx, (imgs, labels) in enumerate(train_pbar):\n",
    "        imgs, labels = imgs.to(device), labels.to(device)\n",
    "        \n",
    "        optimizer.zero_grad()\n",
    "        outputs = model(imgs)\n",
    "        loss = criterion(outputs, labels)\n",
    "        loss.backward()\n",
    "        optimizer.step()\n",
    "        \n",
    "        running_loss += loss.item()\n",
    "        _, preds = torch.max(outputs, 1)\n",
    "        correct += (preds == labels).sum().item()\n",
    "        total += labels.size(0)\n",
    "        \n",
    "        current_acc = correct / total\n",
    "        train_pbar.set_postfix({\n",
    "            'Loss': f'{running_loss/(batch_idx+1):.4f}',\n",
    "            'Acc': f'{current_acc:.4f}'\n",
    "        })\n",
    "        \n",
    "        if device.type == 'cuda' and batch_idx % 10 == 0:\n",
    "            gpu_memory = torch.cuda.memory_allocated() / 1024**3\n",
    "            train_pbar.set_postfix({\n",
    "                'Loss': f'{running_loss/(batch_idx+1):.4f}',\n",
    "                'Acc': f'{current_acc:.4f}',\n",
    "                'GPU': f'{gpu_memory:.1f}GB'\n",
    "            })\n",
    "    \n",
    "    train_phase_time = time.time() - train_phase_start\n",
    "    train_loss = running_loss / len(train_loader)\n",
    "    train_acc = correct / total\n",
    "    train_losses.append(train_loss)\n",
    "    train_accs.append(train_acc)\n",
    "    \n",
    "    print(f\"✅ Training completed in {train_phase_time:.2f}s\")\n",
    "    \n",
    "    # Validation Phase\n",
    "    print(\"🔍 Validation Phase...\")\n",
    "    model.eval()\n",
    "    running_loss, correct, total = 0, 0, 0\n",
    "    \n",
    "    val_phase_start = time.time()\n",
    "    val_pbar = tqdm(val_loader, desc=\"Validation\", \n",
    "                   bar_format='{l_bar}{bar:30}{r_bar}{bar:-30b}')\n",
    "    \n",
    "    with torch.no_grad():\n",
    "        for batch_idx, (imgs, labels) in enumerate(val_pbar):\n",
    "            imgs, labels = imgs.to(device), labels.to(device)\n",
    "            outputs = model(imgs)\n",
    "            loss = criterion(outputs, labels)\n",
    "            \n",
    "            running_loss += loss.item()\n",
    "            _, preds = torch.max(outputs, 1)\n",
    "            correct += (preds == labels).sum().item()\n",
    "            total += labels.size(0)\n",
    "            \n",
    "            current_acc = correct / total\n",
    "            val_pbar.set_postfix({\n",
    "                'Loss': f'{running_loss/(batch_idx+1):.4f}',\n",
    "                'Acc': f'{current_acc:.4f}'\n",
    "            })\n",
    "    \n",
    "    val_phase_time = time.time() - val_phase_start\n",
    "    val_loss = running_loss / len(val_loader)\n",
    "    val_acc = correct / total\n",
    "    val_losses.append(val_loss)\n",
    "    val_accs.append(val_acc)\n",
    "    \n",
    "    print(f\"✅ Validation completed in {val_phase_time:.2f}s\")\n",
    "    \n",
    "    # Update learning rate\n",
    "    scheduler.step()\n",
    "    \n",
    "    # Check if this is the best model (using val_acc for scratch training)\n",
    "    is_best = val_acc > best_val_acc\n",
    "    if is_best:\n",
    "        best_val_acc = val_acc\n",
    "        best_val_loss = val_loss\n",
    "        best_epoch = epoch + 1\n",
    "        best_model_state = model.state_dict().copy()\n",
    "        print(f\"🌟 New best model found! Validation Accuracy: {val_acc:.4f}\")\n",
    "    \n",
    "    # Epoch Summary\n",
    "    epoch_time = time.time() - epoch_start_time\n",
    "    epoch_times.append(epoch_time)\n",
    "    \n",
    "    print(f\"\\n📊 Epoch {epoch+1} Summary:\")\n",
    "    print(f\"│ Train Loss: {train_loss:.4f} | Train Acc: {train_acc:.4f}\")\n",
    "    print(f\"│ Val Loss:   {val_loss:.4f} | Val Acc:   {val_acc:.4f}\")\n",
    "    print(f\"│ Train Time: {train_phase_time:.2f}s | Val Time: {val_phase_time:.2f}s\")\n",
    "    print(f\"│ Total Epoch Time: {epoch_time:.2f}s\")\n",
    "    print(f\"│ Best Val Acc: {best_val_acc:.4f} (Epoch {best_epoch})\")\n",
    "    \n",
    "    if device.type == 'cuda':\n",
    "        print(f\"│ GPU Memory: {torch.cuda.memory_allocated()/1024**3:.1f}GB / {torch.cuda.memory_reserved()/1024**3:.1f}GB\")\n",
    "    \n",
    "    print(\"=\" * 80)\n",
    "\n",
    "total_training_time = time.time() - total_start_time\n",
    "\n",
    "# Save the best model\n",
    "if best_model_state is not None:\n",
    "    torch.save(best_model_state, 'best_cricket_xception_scratch_filtered.pth')\n",
    "    print(f\"\\n💾 Best model saved as 'best_cricket_xception_scratch_filtered.pth'\")\n",
    "    print(f\"📊 Best model stats:\")\n",
    "    print(f\"│ Best Epoch: {best_epoch}\")\n",
    "    print(f\"│ Best Val Acc: {best_val_acc:.4f}\")\n",
    "    print(f\"│ Best Val Loss: {best_val_loss:.4f}\")\n",
    "\n",
    "# Save training history\n",
    "history_data = {\n",
    "    'epoch': list(range(1, epochs+1)),\n",
    "    'train_loss': train_losses,\n",
    "    'val_loss': val_losses,\n",
    "    'train_acc': train_accs,\n",
    "    'val_acc': val_accs,\n",
    "    'epoch_time': epoch_times,\n",
    "    'learning_rate': [scheduler.get_last_lr()[0] if hasattr(scheduler, 'get_last_lr') else optimizer.param_groups[0]['lr']] * epochs\n",
    "}\n",
    "\n",
    "history_df = pd.DataFrame(history_data)\n",
    "history_df.to_csv('cricket_xception_scratch_filtered_history.csv', index=False)\n",
    "print(\"\\n💾 Training history saved to 'cricket_xception_scratch_filtered_history.csv'\")\n",
    "\n",
    "print(f\"\\n🎉 Xception Scratch Training Complete!\")\n",
    "print(f\"Total Training Time: {total_training_time:.2f}s ({total_training_time/60:.1f} minutes)\")\n",
    "print(f\"Average Epoch Time: {np.mean(epoch_times):.2f}s\")\n",
    "\n",
    "# -----------------------------\n",
    "# 6. Load Best Model and Test\n",
    "# -----------------------------\n",
    "print(f\"\\n🧪 Loading Best Model for Testing...\")\n",
    "if best_model_state is not None:\n",
    "    model.load_state_dict(best_model_state)\n",
    "    print(f\"✅ Best model from epoch {best_epoch} loaded successfully!\")\n",
    "\n",
    "test_start_time = time.time()\n",
    "y_true, y_pred = [], []\n",
    "model.eval()\n",
    "test_pbar = tqdm(test_loader, desc=\"Testing\", \n",
    "                bar_format='{l_bar}{bar:30}{r_bar}{bar:-30b}')\n",
    "\n",
    "with torch.no_grad():\n",
    "    for imgs, labels in test_pbar:\n",
    "        imgs, labels = imgs.to(device), labels.to(device)\n",
    "        outputs = model(imgs)\n",
    "        _, preds = torch.max(outputs, 1)\n",
    "        y_true.extend(labels.cpu().numpy())\n",
    "        y_pred.extend(preds.cpu().numpy())\n",
    "\n",
    "test_time = time.time() - test_start_time\n",
    "test_accuracy = accuracy_score(y_true, y_pred)\n",
    "\n",
    "print(f\"✅ Testing completed in {test_time:.2f}s\")\n",
    "print(\"\\n📋 Classification Report:\")\n",
    "print(classification_report(y_true, y_pred, target_names=classes))\n",
    "print(f\"🎯 Test Accuracy: {test_accuracy:.4f}\")\n",
    "\n",
    "# Performance Summary\n",
    "print(f\"\\n📊 Cricket Classification Performance (Xception - Scratch Training):\")\n",
    "print(f\"│ Best Validation Acc:  {best_val_acc:.4f} (Epoch {best_epoch})\")\n",
    "print(f\"│ Best Validation Loss: {best_val_loss:.4f} (Epoch {best_epoch})\")\n",
    "print(f\"│ Final Test Accuracy:  {test_accuracy:.4f}\")\n",
    "print(f\"│ Val-Test Gap:         {abs(best_val_acc - test_accuracy):.4f}\")\n",
    "print(f\"│ Training Type: From scratch (no pretraining)\")\n",
    "\n",
    "print(f\"\\n💾 Files saved:\")\n",
    "print(f\"│ best_cricket_xception_scratch_filtered.pth - Best model weights\")\n",
    "print(f\"│ cricket_xception_scratch_filtered_history.csv - Training metrics\")\n",
    "\n",
    "# -----------------------------\n",
    "# 7. Visualizations\n",
    "# -----------------------------\n",
    "# Confusion Matrix\n",
    "cm = confusion_matrix(y_true, y_pred)\n",
    "plt.figure(figsize=(10, 8))\n",
    "sns.heatmap(cm, annot=True, fmt=\"d\", cmap=\"Blues\", \n",
    "            xticklabels=classes, yticklabels=classes)\n",
    "plt.xlabel(\"Predicted\")\n",
    "plt.ylabel(\"True\")\n",
    "plt.title(f\"Cricket Classification - Xception Scratch (Epoch {best_epoch})\")\n",
    "plt.tight_layout()\n",
    "plt.show()\n",
    "\n",
    "# Training Curves\n",
    "plt.figure(figsize=(20, 5))\n",
    "\n",
    "# Loss Plot\n",
    "plt.subplot(1, 4, 1)\n",
    "plt.plot(range(1, epochs+1), train_losses, 'b-', label=\"Train Loss\", marker='o', linewidth=1)\n",
    "plt.plot(range(1, epochs+1), val_losses, 'r-', label=\"Val Loss\", marker='s', linewidth=1)\n",
    "plt.axvline(x=best_epoch, color='green', linestyle='--', alpha=0.7, label=f'Best (Epoch {best_epoch})')\n",
    "plt.scatter([best_epoch], [best_val_loss], color='green', s=100, zorder=5)\n",
    "plt.legend()\n",
    "plt.title(\"Xception Scratch - Loss over Epochs\")\n",
    "plt.xlabel(\"Epoch\")\n",
    "plt.ylabel(\"Loss\")\n",
    "plt.grid(True, alpha=0.3)\n",
    "\n",
    "# Accuracy Plot\n",
    "plt.subplot(1, 4, 2)\n",
    "plt.plot(range(1, epochs+1), train_accs, 'b-', label=\"Train Accuracy\", marker='o', linewidth=1)\n",
    "plt.plot(range(1, epochs+1), val_accs, 'r-', label=\"Val Accuracy\", marker='s', linewidth=1)\n",
    "plt.axvline(x=best_epoch, color='green', linestyle='--', alpha=0.7, label=f'Best (Epoch {best_epoch})')\n",
    "plt.scatter([best_epoch], [best_val_acc], color='green', s=100, zorder=5)\n",
    "plt.legend()\n",
    "plt.title(\"Xception Scratch - Accuracy over Epochs\")\n",
    "plt.xlabel(\"Epoch\")\n",
    "plt.ylabel(\"Accuracy\")\n",
    "plt.grid(True, alpha=0.3)\n",
    "\n",
    "# Timing Plot\n",
    "plt.subplot(1, 4, 3)\n",
    "plt.plot(range(1, epochs+1), epoch_times, 'g-', marker='d', linewidth=1)\n",
    "plt.title(\"Training Time per Epoch\")\n",
    "plt.xlabel(\"Epoch\")\n",
    "plt.ylabel(\"Time (seconds)\")\n",
    "plt.grid(True, alpha=0.3)\n",
    "\n",
    "# Final Performance\n",
    "plt.subplot(1, 4, 4)\n",
    "metrics = ['Best Val Acc', 'Test Acc']\n",
    "values = [best_val_acc, test_accuracy]\n",
    "colors = ['orange', 'green']\n",
    "bars = plt.bar(metrics, values, color=colors, alpha=0.7)\n",
    "plt.title(\"Xception Scratch Final Performance\")\n",
    "plt.ylabel(\"Accuracy\")\n",
    "plt.ylim(0, 1)\n",
    "plt.grid(True, alpha=0.3)\n",
    "for bar, val in zip(bars, values):\n",
    "    plt.text(bar.get_x() + bar.get_width()/2, val + 0.01, \n",
    "             f'{val:.4f}', ha='center', va='bottom')\n",
    "\n",
    "plt.tight_layout()\n",
    "plt.show()\n",
    "\n",
    "# Final Summary\n",
    "print(f\"\\n⏰ Final Timing Summary:\")\n",
    "print(f\"│ Total Training: {total_training_time:.2f}s ({total_training_time/60:.1f} min)\")\n",
    "print(f\"│ Average per Epoch: {np.mean(epoch_times):.2f}s\")\n",
    "print(f\"│ Testing Time: {test_time:.2f}s\")\n",
    "print(f\"│ Total Runtime: {total_training_time + test_time:.2f}s\")\n",
    "\n",
    "# Model and Training Info\n",
    "print(f\"\\n🔀 Xception Scratch Training - Fixed Version:\")\n",
    "print(f\"│ ✅ Fixed inplace operations: All ReLU layers use inplace=False\")\n",
    "print(f\"│ ✅ Custom architecture: Built from ground up\")\n",
    "print(f\"│ ✅ Depthwise separable convolutions: Core Xception innovation\")\n",
    "print(f\"│ ✅ No transfer learning: Learns cricket features from scratch\")\n",
    "print(f\"│ ✅ Data augmentation: Robust training with limited data\")\n",
    "print(f\"│ ✅ Proper initialization: Xavier/He weight initialization\")\n",
    "print(f\"│ ✅ Learning rate scheduling: Adaptive learning rate decay\")\n",
    "print(f\"│ ✅ Clean dataset: '{ignore_folder}' folder excluded\")\n",
    "print(f\"│ ✅ Gradient computation: Fixed backward pass issues\")"
   ]
  }
 ],
 "metadata": {
  "kaggle": {
   "accelerator": "nvidiaTeslaT4",
   "dataSources": [
    {
     "datasetId": 7735666,
     "sourceId": 12275446,
     "sourceType": "datasetVersion"
    }
   ],
   "dockerImageVersionId": 31090,
   "isGpuEnabled": true,
   "isInternetEnabled": true,
   "language": "python",
   "sourceType": "notebook"
  },
  "kernelspec": {
   "display_name": "Python 3",
   "language": "python",
   "name": "python3"
  },
  "language_info": {
   "codemirror_mode": {
    "name": "ipython",
    "version": 3
   },
   "file_extension": ".py",
   "mimetype": "text/x-python",
   "name": "python",
   "nbconvert_exporter": "python",
   "pygments_lexer": "ipython3",
   "version": "3.11.13"
  },
  "papermill": {
   "default_parameters": {},
   "duration": 3870.344091,
   "end_time": "2025-09-11T13:12:52.295069",
   "environment_variables": {},
   "exception": null,
   "input_path": "__notebook__.ipynb",
   "output_path": "__notebook__.ipynb",
   "parameters": {},
   "start_time": "2025-09-11T12:08:21.950978",
   "version": "2.6.0"
  }
 },
 "nbformat": 4,
 "nbformat_minor": 5
}
