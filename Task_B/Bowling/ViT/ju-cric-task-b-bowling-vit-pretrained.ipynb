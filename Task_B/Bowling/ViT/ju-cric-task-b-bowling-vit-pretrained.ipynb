{
 "cells": [
  {
   "cell_type": "code",
   "execution_count": 1,
   "id": "9d810d2f",
   "metadata": {
    "execution": {
     "iopub.execute_input": "2025-09-08T15:58:40.205655Z",
     "iopub.status.busy": "2025-09-08T15:58:40.205331Z",
     "iopub.status.idle": "2025-09-08T15:58:59.285328Z",
     "shell.execute_reply": "2025-09-08T15:58:59.284363Z"
    },
    "papermill": {
     "duration": 19.085496,
     "end_time": "2025-09-08T15:58:59.286636",
     "exception": false,
     "start_time": "2025-09-08T15:58:40.201140",
     "status": "completed"
    },
    "tags": []
   },
   "outputs": [
    {
     "name": "stdout",
     "output_type": "stream",
     "text": [
      "Classes: ['fast_bowl', 'spin_bowl']\n"
     ]
    }
   ],
   "source": [
    "import torch\n",
    "import torch.nn as nn\n",
    "import torch.nn.functional as F\n",
    "from torch.utils.data import DataLoader\n",
    "from torchvision import datasets, transforms\n",
    "from torchsummary import summary\n",
    "import matplotlib.pyplot as plt\n",
    "from sklearn.metrics import classification_report, confusion_matrix, accuracy_score\n",
    "import seaborn as sns\n",
    "import numpy as np\n",
    "\n",
    "# -----------------------------\n",
    "# 1. Data Preprocessing\n",
    "# -----------------------------\n",
    "data_dir = \"/kaggle/input/ju-cricket/Cricket_Dataset_final/Task_B\"\n",
    "\n",
    "transform = transforms.Compose([\n",
    "    transforms.Resize((224, 224)),\n",
    "    transforms.ToTensor(),\n",
    "    transforms.Normalize([0.485, 0.456, 0.406], \n",
    "                         [0.229, 0.224, 0.225])\n",
    "])\n",
    "\n",
    "train_ds = datasets.ImageFolder(f\"{data_dir}/train/Bowling\", transform=transform)\n",
    "val_ds   = datasets.ImageFolder(f\"{data_dir}/val/Bowling\", transform=transform)\n",
    "test_ds  = datasets.ImageFolder(f\"{data_dir}/test/Bowling\", transform=transform)\n",
    "\n",
    "train_loader = DataLoader(train_ds, batch_size=32, shuffle=True)\n",
    "val_loader   = DataLoader(val_ds, batch_size=32, shuffle=False)\n",
    "test_loader  = DataLoader(test_ds, batch_size=32, shuffle=False)\n",
    "\n",
    "classes = train_ds.classes\n",
    "print(\"Classes:\", classes)"
   ]
  },
  {
   "cell_type": "code",
   "execution_count": 2,
   "id": "bb386818",
   "metadata": {
    "execution": {
     "iopub.execute_input": "2025-09-08T15:58:59.293024Z",
     "iopub.status.busy": "2025-09-08T15:58:59.292588Z",
     "iopub.status.idle": "2025-09-08T15:58:59.297507Z",
     "shell.execute_reply": "2025-09-08T15:58:59.296828Z"
    },
    "papermill": {
     "duration": 0.008992,
     "end_time": "2025-09-08T15:58:59.298562",
     "exception": false,
     "start_time": "2025-09-08T15:58:59.289570",
     "status": "completed"
    },
    "tags": []
   },
   "outputs": [
    {
     "name": "stdout",
     "output_type": "stream",
     "text": [
      "Total training images: 1710\n",
      "Total validation images: 432\n",
      "Total test images: 549\n",
      "Total images in dataset: 2691\n"
     ]
    }
   ],
   "source": [
    "print(\"Total training images:\", len(train_ds))\n",
    "print(\"Total validation images:\", len(val_ds))\n",
    "print(\"Total test images:\", len(test_ds))\n",
    "\n",
    "total_images = len(train_ds) + len(val_ds) + len(test_ds)\n",
    "print(\"Total images in dataset:\", total_images)\n"
   ]
  },
  {
   "cell_type": "code",
   "execution_count": 3,
   "id": "b15af932",
   "metadata": {
    "execution": {
     "iopub.execute_input": "2025-09-08T15:58:59.304803Z",
     "iopub.status.busy": "2025-09-08T15:58:59.304302Z",
     "iopub.status.idle": "2025-09-08T15:58:59.311597Z",
     "shell.execute_reply": "2025-09-08T15:58:59.310840Z"
    },
    "papermill": {
     "duration": 0.011501,
     "end_time": "2025-09-08T15:58:59.312707",
     "exception": false,
     "start_time": "2025-09-08T15:58:59.301206",
     "status": "completed"
    },
    "tags": []
   },
   "outputs": [
    {
     "name": "stdout",
     "output_type": "stream",
     "text": [
      "Training images (excluding 'random_occlusion'): 1520\n",
      "Validation images (excluding 'random_occlusion'): 384\n",
      "Test images (excluding 'random_occlusion'): 488\n",
      "Total images (excluding 'random_occlusion'): 2392\n"
     ]
    }
   ],
   "source": [
    "ignore_folder = \"random_occlusion\"\n",
    "\n",
    "def count_images_ignore_folder(dataset, ignore_folder):\n",
    "    count = 0\n",
    "    for img_path, label in dataset.samples:\n",
    "        # Skip if the image path contains the ignore_folder\n",
    "        if ignore_folder not in img_path.split(\"/\"):\n",
    "            count += 1\n",
    "    return count\n",
    "\n",
    "train_count = count_images_ignore_folder(train_ds, ignore_folder)\n",
    "val_count   = count_images_ignore_folder(val_ds, ignore_folder)\n",
    "test_count  = count_images_ignore_folder(test_ds, ignore_folder)\n",
    "\n",
    "total_count = train_count + val_count + test_count\n",
    "\n",
    "print(\"Training images (excluding '{}'): {}\".format(ignore_folder, train_count))\n",
    "print(\"Validation images (excluding '{}'): {}\".format(ignore_folder, val_count))\n",
    "print(\"Test images (excluding '{}'): {}\".format(ignore_folder, test_count))\n",
    "print(\"Total images (excluding '{}'): {}\".format(ignore_folder, total_count))\n"
   ]
  },
  {
   "cell_type": "code",
   "execution_count": 4,
   "id": "ed445ca5",
   "metadata": {
    "execution": {
     "iopub.execute_input": "2025-09-08T15:58:59.319025Z",
     "iopub.status.busy": "2025-09-08T15:58:59.318540Z",
     "iopub.status.idle": "2025-09-08T15:58:59.326881Z",
     "shell.execute_reply": "2025-09-08T15:58:59.326070Z"
    },
    "papermill": {
     "duration": 0.012684,
     "end_time": "2025-09-08T15:58:59.328048",
     "exception": false,
     "start_time": "2025-09-08T15:58:59.315364",
     "status": "completed"
    },
    "tags": []
   },
   "outputs": [
    {
     "name": "stdout",
     "output_type": "stream",
     "text": [
      "Training folders considered: {'low_resolution', 'lens_flare', 'blur', 'gaussian_noise', 'random_occlusion', 'dirty_lens', 'motion_blur', 'original', 'chromatic_aberration'}\n",
      "Validation folders considered: {'low_resolution', 'lens_flare', 'blur', 'gaussian_noise', 'random_occlusion', 'dirty_lens', 'motion_blur', 'original', 'chromatic_aberration'}\n",
      "Test folders considered: {'low_resolution', 'lens_flare', 'blur', 'gaussian_noise', 'random_occlusion', 'dirty_lens', 'motion_blur', 'original', 'chromatic_aberration'}\n"
     ]
    }
   ],
   "source": [
    "ignore_folder = \"random_occlusionw\"\n",
    "\n",
    "def get_included_folders(dataset, ignore_folder):\n",
    "    included = set()\n",
    "    for img_path, label in dataset.samples:\n",
    "        # Split the path into parts and ignore if ignore_folder is in the path\n",
    "        if ignore_folder not in img_path.split(\"/\"):\n",
    "            # The folder name just above the image (or the class folder)\n",
    "            folder_name = img_path.split(\"/\")[-2]\n",
    "            included.add(folder_name)\n",
    "    return included\n",
    "\n",
    "train_folders = get_included_folders(train_ds, ignore_folder)\n",
    "val_folders   = get_included_folders(val_ds, ignore_folder)\n",
    "test_folders  = get_included_folders(test_ds, ignore_folder)\n",
    "\n",
    "print(\"Training folders considered:\", train_folders)\n",
    "print(\"Validation folders considered:\", val_folders)\n",
    "print(\"Test folders considered:\", test_folders)\n"
   ]
  },
  {
   "cell_type": "code",
   "execution_count": 5,
   "id": "66ab7326",
   "metadata": {
    "execution": {
     "iopub.execute_input": "2025-09-08T15:58:59.334422Z",
     "iopub.status.busy": "2025-09-08T15:58:59.333841Z",
     "iopub.status.idle": "2025-09-08T15:58:59.398992Z",
     "shell.execute_reply": "2025-09-08T15:58:59.398093Z"
    },
    "papermill": {
     "duration": 0.06959,
     "end_time": "2025-09-08T15:58:59.400269",
     "exception": false,
     "start_time": "2025-09-08T15:58:59.330679",
     "status": "completed"
    },
    "tags": []
   },
   "outputs": [
    {
     "name": "stdout",
     "output_type": "stream",
     "text": [
      "Classes: ['fast_bowl', 'spin_bowl']\n",
      "Final Training images: 1520\n",
      "Final Validation images: 384\n",
      "Final Test images: 488\n",
      "Total images after filtering: 2392\n"
     ]
    }
   ],
   "source": [
    "ignore_folder = \"random_occlusion\"\n",
    "\n",
    "def filter_samples(dataset, ignore_folder):\n",
    "    # Keep only samples where ignore_folder is NOT in the path\n",
    "    filtered_samples = [s for s in dataset.samples if ignore_folder not in s[0].split(\"/\")]\n",
    "    dataset.samples = filtered_samples\n",
    "    dataset.targets = [s[1] for s in filtered_samples]  # Update targets accordingly\n",
    "    return dataset\n",
    "\n",
    "# Create original datasets\n",
    "train_ds = datasets.ImageFolder(f\"{data_dir}/train/Bowling\", transform=transform)\n",
    "val_ds   = datasets.ImageFolder(f\"{data_dir}/val/Bowling\", transform=transform)\n",
    "test_ds  = datasets.ImageFolder(f\"{data_dir}/test/Bowling\", transform=transform)\n",
    "\n",
    "# Filter out 'random_occlusion' folder\n",
    "train_ds = filter_samples(train_ds, ignore_folder)\n",
    "val_ds   = filter_samples(val_ds, ignore_folder)\n",
    "test_ds  = filter_samples(test_ds, ignore_folder)\n",
    "\n",
    "# DataLoaders\n",
    "train_loader = DataLoader(train_ds, batch_size=32, shuffle=True)\n",
    "val_loader   = DataLoader(val_ds, batch_size=32, shuffle=False)\n",
    "test_loader  = DataLoader(test_ds, batch_size=32, shuffle=False)\n",
    "\n",
    "# Classes (will remain the same)\n",
    "classes = train_ds.classes\n",
    "print(\"Classes:\", classes)\n",
    "\n",
    "# Show counts\n",
    "print(\"Final Training images:\", len(train_ds))\n",
    "print(\"Final Validation images:\", len(val_ds))\n",
    "print(\"Final Test images:\", len(test_ds))\n",
    "print(\"Total images after filtering:\", len(train_ds) + len(val_ds) + len(test_ds))\n"
   ]
  },
  {
   "cell_type": "code",
   "execution_count": 6,
   "id": "96e81b71",
   "metadata": {
    "execution": {
     "iopub.execute_input": "2025-09-08T15:58:59.406734Z",
     "iopub.status.busy": "2025-09-08T15:58:59.406130Z",
     "iopub.status.idle": "2025-09-08T15:58:59.414273Z",
     "shell.execute_reply": "2025-09-08T15:58:59.413565Z"
    },
    "papermill": {
     "duration": 0.012308,
     "end_time": "2025-09-08T15:58:59.415315",
     "exception": false,
     "start_time": "2025-09-08T15:58:59.403007",
     "status": "completed"
    },
    "tags": []
   },
   "outputs": [
    {
     "name": "stdout",
     "output_type": "stream",
     "text": [
      "Training folders considered: {'low_resolution', 'lens_flare', 'blur', 'gaussian_noise', 'dirty_lens', 'motion_blur', 'original', 'chromatic_aberration'}\n",
      "Validation folders considered: {'low_resolution', 'lens_flare', 'blur', 'gaussian_noise', 'dirty_lens', 'motion_blur', 'original', 'chromatic_aberration'}\n",
      "Test folders considered: {'low_resolution', 'lens_flare', 'blur', 'gaussian_noise', 'dirty_lens', 'motion_blur', 'original', 'chromatic_aberration'}\n"
     ]
    }
   ],
   "source": [
    "ignore_folder = \"random_occlusion\"\n",
    "\n",
    "def get_included_folders(dataset, ignore_folder):\n",
    "    included = set()\n",
    "    for img_path, label in dataset.samples:\n",
    "        # Split the path into parts and ignore if ignore_folder is in the path\n",
    "        if ignore_folder not in img_path.split(\"/\"):\n",
    "            # The folder name just above the image (or the class folder)\n",
    "            folder_name = img_path.split(\"/\")[-2]\n",
    "            included.add(folder_name)\n",
    "    return included\n",
    "\n",
    "train_folders = get_included_folders(train_ds, ignore_folder)\n",
    "val_folders   = get_included_folders(val_ds, ignore_folder)\n",
    "test_folders  = get_included_folders(test_ds, ignore_folder)\n",
    "\n",
    "print(\"Training folders considered:\", train_folders)\n",
    "print(\"Validation folders considered:\", val_folders)\n",
    "print(\"Test folders considered:\", test_folders)\n"
   ]
  },
  {
   "cell_type": "code",
   "execution_count": 7,
   "id": "5564467a",
   "metadata": {
    "execution": {
     "iopub.execute_input": "2025-09-08T15:58:59.421854Z",
     "iopub.status.busy": "2025-09-08T15:58:59.421471Z",
     "iopub.status.idle": "2025-09-08T15:58:59.479497Z",
     "shell.execute_reply": "2025-09-08T15:58:59.478601Z"
    },
    "papermill": {
     "duration": 0.062752,
     "end_time": "2025-09-08T15:58:59.480845",
     "exception": false,
     "start_time": "2025-09-08T15:58:59.418093",
     "status": "completed"
    },
    "tags": []
   },
   "outputs": [
    {
     "name": "stdout",
     "output_type": "stream",
     "text": [
      "🔄 Loading and filtering datasets for Vision Transformer...\n",
      "✅ Classes: ['fast_bowl', 'spin_bowl']\n",
      "📊 Dataset Statistics:\n",
      "│ Training images: 1520\n",
      "│ Validation images: 384\n",
      "│ Test images: 488\n",
      "│ Total images (after filtering): 2392\n",
      "│ Excluded folder: 'random_occlusion'\n",
      "│ Number of classes: 2\n"
     ]
    }
   ],
   "source": [
    "import torch\n",
    "import torch.nn as nn\n",
    "import torch.nn.functional as F\n",
    "import torch.optim as optim\n",
    "from torch.utils.data import DataLoader\n",
    "from torchvision import datasets, transforms, models\n",
    "import matplotlib.pyplot as plt\n",
    "from sklearn.metrics import classification_report, confusion_matrix, accuracy_score\n",
    "import seaborn as sns\n",
    "import numpy as np\n",
    "import pandas as pd\n",
    "from tqdm import tqdm\n",
    "import time\n",
    "import os\n",
    "import tempfile\n",
    "\n",
    "# -----------------------------\n",
    "# 1. Data Preprocessing with Filtering (ViT - 224x224)\n",
    "# -----------------------------\n",
    "data_dir = \"/kaggle/input/ju-cricket/Cricket_Dataset_final/Task_B\"\n",
    "\n",
    "# ViT-B/16 uses 224x224 input size\n",
    "transform = transforms.Compose([\n",
    "    transforms.Resize((224, 224)),  # ViT-B/16 input size\n",
    "    transforms.ToTensor(),\n",
    "    transforms.Normalize([0.485, 0.456, 0.406], \n",
    "                         [0.229, 0.224, 0.225])\n",
    "])\n",
    "\n",
    "ignore_folder = \"random_occlusion\"\n",
    "\n",
    "def filter_samples(dataset, ignore_folder):\n",
    "    \"\"\"Filter out samples containing the ignore_folder in their path\"\"\"\n",
    "    filtered_samples = [s for s in dataset.samples if ignore_folder not in s[0].split(\"/\")]\n",
    "    dataset.samples = filtered_samples\n",
    "    dataset.targets = [s[1] for s in filtered_samples]\n",
    "    return dataset\n",
    "\n",
    "# Create and filter datasets\n",
    "print(\"🔄 Loading and filtering datasets for Vision Transformer...\")\n",
    "train_ds = datasets.ImageFolder(f\"{data_dir}/train/Bowling\", transform=transform)\n",
    "val_ds   = datasets.ImageFolder(f\"{data_dir}/val/Bowling\", transform=transform)\n",
    "test_ds  = datasets.ImageFolder(f\"{data_dir}/test/Bowling\", transform=transform)\n",
    "\n",
    "# Apply filtering\n",
    "train_ds = filter_samples(train_ds, ignore_folder)\n",
    "val_ds   = filter_samples(val_ds, ignore_folder)\n",
    "test_ds  = filter_samples(test_ds, ignore_folder)\n",
    "\n",
    "# Create DataLoaders\n",
    "train_loader = DataLoader(train_ds, batch_size=32, shuffle=True)\n",
    "val_loader   = DataLoader(val_ds, batch_size=32, shuffle=False)\n",
    "test_loader  = DataLoader(test_ds, batch_size=32, shuffle=False)\n",
    "\n",
    "# Display information\n",
    "classes = train_ds.classes\n",
    "print(f\"✅ Classes: {classes}\")\n",
    "print(f\"📊 Dataset Statistics:\")\n",
    "print(f\"│ Training images: {len(train_ds)}\")\n",
    "print(f\"│ Validation images: {len(val_ds)}\")\n",
    "print(f\"│ Test images: {len(test_ds)}\")\n",
    "print(f\"│ Total images (after filtering): {len(train_ds) + len(val_ds) + len(test_ds)}\")\n",
    "print(f\"│ Excluded folder: '{ignore_folder}'\")\n",
    "print(f\"│ Number of classes: {len(classes)}\")"
   ]
  },
  {
   "cell_type": "code",
   "execution_count": 8,
   "id": "0c510235",
   "metadata": {
    "execution": {
     "iopub.execute_input": "2025-09-08T15:58:59.487219Z",
     "iopub.status.busy": "2025-09-08T15:58:59.486968Z",
     "iopub.status.idle": "2025-09-08T15:59:04.084766Z",
     "shell.execute_reply": "2025-09-08T15:59:04.083818Z"
    },
    "papermill": {
     "duration": 4.602362,
     "end_time": "2025-09-08T15:59:04.086033",
     "exception": false,
     "start_time": "2025-09-08T15:58:59.483671",
     "status": "completed"
    },
    "tags": []
   },
   "outputs": [
    {
     "name": "stdout",
     "output_type": "stream",
     "text": [
      "Using device: cuda\n",
      "🔄 Loading pretrained Vision Transformer (ViT-B/16) from ImageNet...\n"
     ]
    },
    {
     "name": "stderr",
     "output_type": "stream",
     "text": [
      "/usr/local/lib/python3.11/dist-packages/torchvision/models/_utils.py:208: UserWarning: The parameter 'pretrained' is deprecated since 0.13 and may be removed in the future, please use 'weights' instead.\n",
      "  warnings.warn(\n",
      "/usr/local/lib/python3.11/dist-packages/torchvision/models/_utils.py:223: UserWarning: Arguments other than a weight enum or `None` for 'weights' are deprecated since 0.13 and may be removed in the future. The current behavior is equivalent to passing `weights=ViT_B_16_Weights.IMAGENET1K_V1`. You can also use `weights=ViT_B_16_Weights.DEFAULT` to get the most up-to-date weights.\n",
      "  warnings.warn(msg)\n",
      "Downloading: \"https://download.pytorch.org/models/vit_b_16-c867db91.pth\" to /root/.cache/torch/hub/checkpoints/vit_b_16-c867db91.pth\n",
      "100%|██████████| 330M/330M [00:01<00:00, 207MB/s]\n"
     ]
    },
    {
     "name": "stdout",
     "output_type": "stream",
     "text": [
      "✅ Model loaded with 2 output classes\n",
      "📊 Total parameters: 85,800,194\n",
      "📊 Trainable parameters: 85,800,194\n",
      "📊 Model file size: 327.36 MB\n",
      "📋 Model Architecture:\n",
      "│ Input size: (3, 224, 224)\n",
      "│ ViT-B/16 features: 768\n",
      "│ Output classes: 2\n",
      "│ Patch size: 16x16\n",
      "│ Sequence length: 196 patches + 1 CLS token\n",
      "│ Transformer layers: 12\n",
      "│ Attention heads: 12\n"
     ]
    }
   ],
   "source": [
    "# -----------------------------\n",
    "# 2. Pretrained Vision Transformer Model\n",
    "# -----------------------------\n",
    "device = torch.device('cuda' if torch.cuda.is_available() else 'cpu')\n",
    "print(f\"Using device: {device}\")\n",
    "\n",
    "# Load pretrained Vision Transformer (ViT-B/16)\n",
    "print(\"🔄 Loading pretrained Vision Transformer (ViT-B/16) from ImageNet...\")\n",
    "model = models.vit_b_16(pretrained=True)\n",
    "\n",
    "# Replace final classification layer\n",
    "# ViT uses model.heads.head (nested structure)\n",
    "num_features = model.heads.head.in_features  # Get input features (768)\n",
    "model.heads.head = nn.Linear(num_features, len(classes))  # Replace final layer\n",
    "model = model.to(device)\n",
    "\n",
    "print(f\"✅ Model loaded with {len(classes)} output classes\")\n",
    "\n",
    "# Calculate model parameters and size\n",
    "total_params = sum(p.numel() for p in model.parameters())\n",
    "trainable_params = sum(p.numel() for p in model.parameters() if p.requires_grad)\n",
    "\n",
    "# Calculate model file size\n",
    "with tempfile.NamedTemporaryFile(delete=False, suffix='.pth') as tmp_file:\n",
    "    torch.save(model.state_dict(), tmp_file.name)\n",
    "    model_size_mb = os.path.getsize(tmp_file.name) / (1024 * 1024)\n",
    "    os.unlink(tmp_file.name)\n",
    "\n",
    "print(f\"📊 Total parameters: {total_params:,}\")\n",
    "print(f\"📊 Trainable parameters: {trainable_params:,}\")\n",
    "print(f\"📊 Model file size: {model_size_mb:.2f} MB\")\n",
    "print(f\"📋 Model Architecture:\")\n",
    "print(f\"│ Input size: (3, 224, 224)\")\n",
    "print(f\"│ ViT-B/16 features: 768\")\n",
    "print(f\"│ Output classes: {len(classes)}\")\n",
    "print(f\"│ Patch size: 16x16\")\n",
    "print(f\"│ Sequence length: 196 patches + 1 CLS token\")\n",
    "print(f\"│ Transformer layers: 12\")\n",
    "print(f\"│ Attention heads: 12\")"
   ]
  },
  {
   "cell_type": "code",
   "execution_count": 9,
   "id": "dcd29a98",
   "metadata": {
    "execution": {
     "iopub.execute_input": "2025-09-08T15:59:04.095291Z",
     "iopub.status.busy": "2025-09-08T15:59:04.095042Z",
     "iopub.status.idle": "2025-09-08T17:02:03.778479Z",
     "shell.execute_reply": "2025-09-08T17:02:03.777771Z"
    },
    "papermill": {
     "duration": 3779.690569,
     "end_time": "2025-09-08T17:02:03.780652",
     "exception": false,
     "start_time": "2025-09-08T15:59:04.090083",
     "status": "completed"
    },
    "tags": []
   },
   "outputs": [
    {
     "name": "stdout",
     "output_type": "stream",
     "text": [
      "\n",
      "📋 Training Configuration:\n",
      "│ Model: Vision Transformer ViT-B/16 (pretrained)\n",
      "│ Optimizer: Adam (lr=0.0001)\n",
      "│ Loss Function: CrossEntropyLoss\n",
      "│ Batch Size: 32\n",
      "│ Device: cuda\n",
      "│ Data: Filtered (excluding 'random_occlusion')\n",
      "\n",
      "🚀 Starting Vision Transformer Fine-tuning for 50 epochs...\n",
      "================================================================================\n",
      "\n",
      "📈 Epoch 1/50\n",
      "--------------------------------------------------\n",
      "🔄 Training Phase...\n"
     ]
    },
    {
     "name": "stderr",
     "output_type": "stream",
     "text": [
      "Training: 100%|██████████████████████████████| 48/48 [01:09<00:00,  1.46s/it, Loss=0.3180, Acc=0.8461]\n"
     ]
    },
    {
     "name": "stdout",
     "output_type": "stream",
     "text": [
      "✅ Training completed in 69.85s\n",
      "🔍 Validation Phase...\n"
     ]
    },
    {
     "name": "stderr",
     "output_type": "stream",
     "text": [
      "Validation: 100%|██████████████████████████████| 12/12 [00:08<00:00,  1.36it/s, Loss=0.8282, Acc=0.7057]\n"
     ]
    },
    {
     "name": "stdout",
     "output_type": "stream",
     "text": [
      "✅ Validation completed in 8.80s\n",
      "🌟 New best model found! Validation Loss: 0.8282\n",
      "\n",
      "📊 Epoch 1 Summary:\n",
      "│ Train Loss: 0.3180 | Train Acc: 0.8461\n",
      "│ Val Loss:   0.8282 | Val Acc:   0.7057\n",
      "│ Train Time: 69.85s | Val Time: 8.80s\n",
      "│ Total Epoch Time: 78.65s\n",
      "│ Best Val Loss: 0.8282 (Epoch 1)\n",
      "│ GPU Memory: 1.3GB / 5.0GB\n",
      "================================================================================\n",
      "\n",
      "📈 Epoch 2/50\n",
      "--------------------------------------------------\n",
      "🔄 Training Phase...\n"
     ]
    },
    {
     "name": "stderr",
     "output_type": "stream",
     "text": [
      "Training: 100%|██████████████████████████████| 48/48 [01:01<00:00,  1.28s/it, Loss=0.0638, Acc=0.9770]\n"
     ]
    },
    {
     "name": "stdout",
     "output_type": "stream",
     "text": [
      "✅ Training completed in 61.61s\n",
      "🔍 Validation Phase...\n"
     ]
    },
    {
     "name": "stderr",
     "output_type": "stream",
     "text": [
      "Validation: 100%|██████████████████████████████| 12/12 [00:06<00:00,  1.85it/s, Loss=0.9490, Acc=0.6953]\n"
     ]
    },
    {
     "name": "stdout",
     "output_type": "stream",
     "text": [
      "✅ Validation completed in 6.48s\n",
      "\n",
      "📊 Epoch 2 Summary:\n",
      "│ Train Loss: 0.0638 | Train Acc: 0.9770\n",
      "│ Val Loss:   0.9490 | Val Acc:   0.6953\n",
      "│ Train Time: 61.61s | Val Time: 6.48s\n",
      "│ Total Epoch Time: 68.09s\n",
      "│ Best Val Loss: 0.8282 (Epoch 1)\n",
      "│ GPU Memory: 1.3GB / 5.0GB\n",
      "================================================================================\n",
      "\n",
      "📈 Epoch 3/50\n",
      "--------------------------------------------------\n",
      "🔄 Training Phase...\n"
     ]
    },
    {
     "name": "stderr",
     "output_type": "stream",
     "text": [
      "Training: 100%|██████████████████████████████| 48/48 [01:03<00:00,  1.33s/it, Loss=0.0051, Acc=0.9993]\n"
     ]
    },
    {
     "name": "stdout",
     "output_type": "stream",
     "text": [
      "✅ Training completed in 63.65s\n",
      "🔍 Validation Phase...\n"
     ]
    },
    {
     "name": "stderr",
     "output_type": "stream",
     "text": [
      "Validation: 100%|██████████████████████████████| 12/12 [00:06<00:00,  1.87it/s, Loss=1.3122, Acc=0.6719]\n"
     ]
    },
    {
     "name": "stdout",
     "output_type": "stream",
     "text": [
      "✅ Validation completed in 6.40s\n",
      "\n",
      "📊 Epoch 3 Summary:\n",
      "│ Train Loss: 0.0051 | Train Acc: 0.9993\n",
      "│ Val Loss:   1.3122 | Val Acc:   0.6719\n",
      "│ Train Time: 63.65s | Val Time: 6.40s\n",
      "│ Total Epoch Time: 70.06s\n",
      "│ Best Val Loss: 0.8282 (Epoch 1)\n",
      "│ GPU Memory: 1.3GB / 5.0GB\n",
      "================================================================================\n",
      "\n",
      "📈 Epoch 4/50\n",
      "--------------------------------------------------\n",
      "🔄 Training Phase...\n"
     ]
    },
    {
     "name": "stderr",
     "output_type": "stream",
     "text": [
      "Training: 100%|██████████████████████████████| 48/48 [01:05<00:00,  1.36s/it, Loss=0.0004, Acc=1.0000]\n"
     ]
    },
    {
     "name": "stdout",
     "output_type": "stream",
     "text": [
      "✅ Training completed in 65.43s\n",
      "🔍 Validation Phase...\n"
     ]
    },
    {
     "name": "stderr",
     "output_type": "stream",
     "text": [
      "Validation: 100%|██████████████████████████████| 12/12 [00:06<00:00,  1.88it/s, Loss=1.3532, Acc=0.7135]\n"
     ]
    },
    {
     "name": "stdout",
     "output_type": "stream",
     "text": [
      "✅ Validation completed in 6.40s\n",
      "\n",
      "📊 Epoch 4 Summary:\n",
      "│ Train Loss: 0.0004 | Train Acc: 1.0000\n",
      "│ Val Loss:   1.3532 | Val Acc:   0.7135\n",
      "│ Train Time: 65.43s | Val Time: 6.40s\n",
      "│ Total Epoch Time: 71.83s\n",
      "│ Best Val Loss: 0.8282 (Epoch 1)\n",
      "│ GPU Memory: 1.3GB / 5.0GB\n",
      "================================================================================\n",
      "\n",
      "📈 Epoch 5/50\n",
      "--------------------------------------------------\n",
      "🔄 Training Phase...\n"
     ]
    },
    {
     "name": "stderr",
     "output_type": "stream",
     "text": [
      "Training: 100%|██████████████████████████████| 48/48 [01:06<00:00,  1.39s/it, Loss=0.0002, Acc=1.0000]\n"
     ]
    },
    {
     "name": "stdout",
     "output_type": "stream",
     "text": [
      "✅ Training completed in 66.53s\n",
      "🔍 Validation Phase...\n"
     ]
    },
    {
     "name": "stderr",
     "output_type": "stream",
     "text": [
      "Validation: 100%|██████████████████████████████| 12/12 [00:06<00:00,  1.85it/s, Loss=1.4059, Acc=0.7161]\n"
     ]
    },
    {
     "name": "stdout",
     "output_type": "stream",
     "text": [
      "✅ Validation completed in 6.51s\n",
      "\n",
      "📊 Epoch 5 Summary:\n",
      "│ Train Loss: 0.0002 | Train Acc: 1.0000\n",
      "│ Val Loss:   1.4059 | Val Acc:   0.7161\n",
      "│ Train Time: 66.53s | Val Time: 6.51s\n",
      "│ Total Epoch Time: 73.04s\n",
      "│ Best Val Loss: 0.8282 (Epoch 1)\n",
      "│ GPU Memory: 1.3GB / 5.0GB\n",
      "================================================================================\n",
      "\n",
      "📈 Epoch 6/50\n",
      "--------------------------------------------------\n",
      "🔄 Training Phase...\n"
     ]
    },
    {
     "name": "stderr",
     "output_type": "stream",
     "text": [
      "Training: 100%|██████████████████████████████| 48/48 [01:06<00:00,  1.39s/it, Loss=0.0001, Acc=1.0000]\n"
     ]
    },
    {
     "name": "stdout",
     "output_type": "stream",
     "text": [
      "✅ Training completed in 66.79s\n",
      "🔍 Validation Phase...\n"
     ]
    },
    {
     "name": "stderr",
     "output_type": "stream",
     "text": [
      "Validation: 100%|██████████████████████████████| 12/12 [00:06<00:00,  1.80it/s, Loss=1.4492, Acc=0.7214]\n"
     ]
    },
    {
     "name": "stdout",
     "output_type": "stream",
     "text": [
      "✅ Validation completed in 6.65s\n",
      "\n",
      "📊 Epoch 6 Summary:\n",
      "│ Train Loss: 0.0001 | Train Acc: 1.0000\n",
      "│ Val Loss:   1.4492 | Val Acc:   0.7214\n",
      "│ Train Time: 66.79s | Val Time: 6.65s\n",
      "│ Total Epoch Time: 73.45s\n",
      "│ Best Val Loss: 0.8282 (Epoch 1)\n",
      "│ GPU Memory: 1.3GB / 5.0GB\n",
      "================================================================================\n",
      "\n",
      "📈 Epoch 7/50\n",
      "--------------------------------------------------\n",
      "🔄 Training Phase...\n"
     ]
    },
    {
     "name": "stderr",
     "output_type": "stream",
     "text": [
      "Training: 100%|██████████████████████████████| 48/48 [01:07<00:00,  1.41s/it, Loss=0.0001, Acc=1.0000]\n"
     ]
    },
    {
     "name": "stdout",
     "output_type": "stream",
     "text": [
      "✅ Training completed in 67.50s\n",
      "🔍 Validation Phase...\n"
     ]
    },
    {
     "name": "stderr",
     "output_type": "stream",
     "text": [
      "Validation: 100%|██████████████████████████████| 12/12 [00:06<00:00,  1.83it/s, Loss=1.4848, Acc=0.7214]\n"
     ]
    },
    {
     "name": "stdout",
     "output_type": "stream",
     "text": [
      "✅ Validation completed in 6.57s\n",
      "\n",
      "📊 Epoch 7 Summary:\n",
      "│ Train Loss: 0.0001 | Train Acc: 1.0000\n",
      "│ Val Loss:   1.4848 | Val Acc:   0.7214\n",
      "│ Train Time: 67.50s | Val Time: 6.57s\n",
      "│ Total Epoch Time: 74.08s\n",
      "│ Best Val Loss: 0.8282 (Epoch 1)\n",
      "│ GPU Memory: 1.3GB / 5.0GB\n",
      "================================================================================\n",
      "\n",
      "📈 Epoch 8/50\n",
      "--------------------------------------------------\n",
      "🔄 Training Phase...\n"
     ]
    },
    {
     "name": "stderr",
     "output_type": "stream",
     "text": [
      "Training: 100%|██████████████████████████████| 48/48 [01:07<00:00,  1.40s/it, Loss=0.0001, Acc=1.0000]\n"
     ]
    },
    {
     "name": "stdout",
     "output_type": "stream",
     "text": [
      "✅ Training completed in 67.19s\n",
      "🔍 Validation Phase...\n"
     ]
    },
    {
     "name": "stderr",
     "output_type": "stream",
     "text": [
      "Validation: 100%|██████████████████████████████| 12/12 [00:06<00:00,  1.82it/s, Loss=1.5195, Acc=0.7214]\n"
     ]
    },
    {
     "name": "stdout",
     "output_type": "stream",
     "text": [
      "✅ Validation completed in 6.60s\n",
      "\n",
      "📊 Epoch 8 Summary:\n",
      "│ Train Loss: 0.0001 | Train Acc: 1.0000\n",
      "│ Val Loss:   1.5195 | Val Acc:   0.7214\n",
      "│ Train Time: 67.19s | Val Time: 6.60s\n",
      "│ Total Epoch Time: 73.79s\n",
      "│ Best Val Loss: 0.8282 (Epoch 1)\n",
      "│ GPU Memory: 1.3GB / 5.0GB\n",
      "================================================================================\n",
      "\n",
      "📈 Epoch 9/50\n",
      "--------------------------------------------------\n",
      "🔄 Training Phase...\n"
     ]
    },
    {
     "name": "stderr",
     "output_type": "stream",
     "text": [
      "Training: 100%|██████████████████████████████| 48/48 [01:07<00:00,  1.41s/it, Loss=0.0001, Acc=1.0000]\n"
     ]
    },
    {
     "name": "stdout",
     "output_type": "stream",
     "text": [
      "✅ Training completed in 67.65s\n",
      "🔍 Validation Phase...\n"
     ]
    },
    {
     "name": "stderr",
     "output_type": "stream",
     "text": [
      "Validation: 100%|██████████████████████████████| 12/12 [00:06<00:00,  1.72it/s, Loss=1.5505, Acc=0.7214]\n"
     ]
    },
    {
     "name": "stdout",
     "output_type": "stream",
     "text": [
      "✅ Validation completed in 6.99s\n",
      "\n",
      "📊 Epoch 9 Summary:\n",
      "│ Train Loss: 0.0001 | Train Acc: 1.0000\n",
      "│ Val Loss:   1.5505 | Val Acc:   0.7214\n",
      "│ Train Time: 67.65s | Val Time: 6.99s\n",
      "│ Total Epoch Time: 74.64s\n",
      "│ Best Val Loss: 0.8282 (Epoch 1)\n",
      "│ GPU Memory: 1.3GB / 5.0GB\n",
      "================================================================================\n",
      "\n",
      "📈 Epoch 10/50\n",
      "--------------------------------------------------\n",
      "🔄 Training Phase...\n"
     ]
    },
    {
     "name": "stderr",
     "output_type": "stream",
     "text": [
      "Training: 100%|██████████████████████████████| 48/48 [01:12<00:00,  1.51s/it, Loss=0.0001, Acc=1.0000]\n"
     ]
    },
    {
     "name": "stdout",
     "output_type": "stream",
     "text": [
      "✅ Training completed in 72.50s\n",
      "🔍 Validation Phase...\n"
     ]
    },
    {
     "name": "stderr",
     "output_type": "stream",
     "text": [
      "Validation: 100%|██████████████████████████████| 12/12 [00:06<00:00,  1.74it/s, Loss=1.5794, Acc=0.7188]\n"
     ]
    },
    {
     "name": "stdout",
     "output_type": "stream",
     "text": [
      "✅ Validation completed in 6.92s\n",
      "\n",
      "📊 Epoch 10 Summary:\n",
      "│ Train Loss: 0.0001 | Train Acc: 1.0000\n",
      "│ Val Loss:   1.5794 | Val Acc:   0.7188\n",
      "│ Train Time: 72.50s | Val Time: 6.92s\n",
      "│ Total Epoch Time: 79.42s\n",
      "│ Best Val Loss: 0.8282 (Epoch 1)\n",
      "│ GPU Memory: 1.3GB / 5.0GB\n",
      "================================================================================\n",
      "\n",
      "📈 Epoch 11/50\n",
      "--------------------------------------------------\n",
      "🔄 Training Phase...\n"
     ]
    },
    {
     "name": "stderr",
     "output_type": "stream",
     "text": [
      "Training: 100%|██████████████████████████████| 48/48 [01:12<00:00,  1.50s/it, Loss=0.0001, Acc=1.0000]\n"
     ]
    },
    {
     "name": "stdout",
     "output_type": "stream",
     "text": [
      "✅ Training completed in 72.17s\n",
      "🔍 Validation Phase...\n"
     ]
    },
    {
     "name": "stderr",
     "output_type": "stream",
     "text": [
      "Validation: 100%|██████████████████████████████| 12/12 [00:06<00:00,  1.73it/s, Loss=1.6072, Acc=0.7214]\n"
     ]
    },
    {
     "name": "stdout",
     "output_type": "stream",
     "text": [
      "✅ Validation completed in 6.94s\n",
      "\n",
      "📊 Epoch 11 Summary:\n",
      "│ Train Loss: 0.0001 | Train Acc: 1.0000\n",
      "│ Val Loss:   1.6072 | Val Acc:   0.7214\n",
      "│ Train Time: 72.17s | Val Time: 6.94s\n",
      "│ Total Epoch Time: 79.11s\n",
      "│ Best Val Loss: 0.8282 (Epoch 1)\n",
      "│ GPU Memory: 1.3GB / 5.0GB\n",
      "================================================================================\n",
      "\n",
      "📈 Epoch 12/50\n",
      "--------------------------------------------------\n",
      "🔄 Training Phase...\n"
     ]
    },
    {
     "name": "stderr",
     "output_type": "stream",
     "text": [
      "Training: 100%|██████████████████████████████| 48/48 [01:12<00:00,  1.50s/it, Loss=0.0000, Acc=1.0000]\n"
     ]
    },
    {
     "name": "stdout",
     "output_type": "stream",
     "text": [
      "✅ Training completed in 72.08s\n",
      "🔍 Validation Phase...\n"
     ]
    },
    {
     "name": "stderr",
     "output_type": "stream",
     "text": [
      "Validation: 100%|██████████████████████████████| 12/12 [00:06<00:00,  1.73it/s, Loss=1.6323, Acc=0.7188]\n"
     ]
    },
    {
     "name": "stdout",
     "output_type": "stream",
     "text": [
      "✅ Validation completed in 6.94s\n",
      "\n",
      "📊 Epoch 12 Summary:\n",
      "│ Train Loss: 0.0000 | Train Acc: 1.0000\n",
      "│ Val Loss:   1.6323 | Val Acc:   0.7188\n",
      "│ Train Time: 72.08s | Val Time: 6.94s\n",
      "│ Total Epoch Time: 79.02s\n",
      "│ Best Val Loss: 0.8282 (Epoch 1)\n",
      "│ GPU Memory: 1.3GB / 5.0GB\n",
      "================================================================================\n",
      "\n",
      "📈 Epoch 13/50\n",
      "--------------------------------------------------\n",
      "🔄 Training Phase...\n"
     ]
    },
    {
     "name": "stderr",
     "output_type": "stream",
     "text": [
      "Training: 100%|██████████████████████████████| 48/48 [01:11<00:00,  1.50s/it, Loss=0.0000, Acc=1.0000]\n"
     ]
    },
    {
     "name": "stdout",
     "output_type": "stream",
     "text": [
      "✅ Training completed in 71.78s\n",
      "🔍 Validation Phase...\n"
     ]
    },
    {
     "name": "stderr",
     "output_type": "stream",
     "text": [
      "Validation: 100%|██████████████████████████████| 12/12 [00:06<00:00,  1.78it/s, Loss=1.6558, Acc=0.7188]\n"
     ]
    },
    {
     "name": "stdout",
     "output_type": "stream",
     "text": [
      "✅ Validation completed in 6.76s\n",
      "\n",
      "📊 Epoch 13 Summary:\n",
      "│ Train Loss: 0.0000 | Train Acc: 1.0000\n",
      "│ Val Loss:   1.6558 | Val Acc:   0.7188\n",
      "│ Train Time: 71.78s | Val Time: 6.76s\n",
      "│ Total Epoch Time: 78.55s\n",
      "│ Best Val Loss: 0.8282 (Epoch 1)\n",
      "│ GPU Memory: 1.3GB / 5.0GB\n",
      "================================================================================\n",
      "\n",
      "📈 Epoch 14/50\n",
      "--------------------------------------------------\n",
      "🔄 Training Phase...\n"
     ]
    },
    {
     "name": "stderr",
     "output_type": "stream",
     "text": [
      "Training: 100%|██████████████████████████████| 48/48 [01:11<00:00,  1.50s/it, Loss=0.0000, Acc=1.0000]\n"
     ]
    },
    {
     "name": "stdout",
     "output_type": "stream",
     "text": [
      "✅ Training completed in 71.80s\n",
      "🔍 Validation Phase...\n"
     ]
    },
    {
     "name": "stderr",
     "output_type": "stream",
     "text": [
      "Validation: 100%|██████████████████████████████| 12/12 [00:06<00:00,  1.77it/s, Loss=1.6783, Acc=0.7188]\n"
     ]
    },
    {
     "name": "stdout",
     "output_type": "stream",
     "text": [
      "✅ Validation completed in 6.80s\n",
      "\n",
      "📊 Epoch 14 Summary:\n",
      "│ Train Loss: 0.0000 | Train Acc: 1.0000\n",
      "│ Val Loss:   1.6783 | Val Acc:   0.7188\n",
      "│ Train Time: 71.80s | Val Time: 6.80s\n",
      "│ Total Epoch Time: 78.60s\n",
      "│ Best Val Loss: 0.8282 (Epoch 1)\n",
      "│ GPU Memory: 1.3GB / 5.0GB\n",
      "================================================================================\n",
      "\n",
      "📈 Epoch 15/50\n",
      "--------------------------------------------------\n",
      "🔄 Training Phase...\n"
     ]
    },
    {
     "name": "stderr",
     "output_type": "stream",
     "text": [
      "Training: 100%|██████████████████████████████| 48/48 [01:11<00:00,  1.49s/it, Loss=0.0000, Acc=1.0000]\n"
     ]
    },
    {
     "name": "stdout",
     "output_type": "stream",
     "text": [
      "✅ Training completed in 71.67s\n",
      "🔍 Validation Phase...\n"
     ]
    },
    {
     "name": "stderr",
     "output_type": "stream",
     "text": [
      "Validation: 100%|██████████████████████████████| 12/12 [00:06<00:00,  1.75it/s, Loss=1.7003, Acc=0.7188]\n"
     ]
    },
    {
     "name": "stdout",
     "output_type": "stream",
     "text": [
      "✅ Validation completed in 6.85s\n",
      "\n",
      "📊 Epoch 15 Summary:\n",
      "│ Train Loss: 0.0000 | Train Acc: 1.0000\n",
      "│ Val Loss:   1.7003 | Val Acc:   0.7188\n",
      "│ Train Time: 71.67s | Val Time: 6.85s\n",
      "│ Total Epoch Time: 78.53s\n",
      "│ Best Val Loss: 0.8282 (Epoch 1)\n",
      "│ GPU Memory: 1.3GB / 5.0GB\n",
      "================================================================================\n",
      "\n",
      "📈 Epoch 16/50\n",
      "--------------------------------------------------\n",
      "🔄 Training Phase...\n"
     ]
    },
    {
     "name": "stderr",
     "output_type": "stream",
     "text": [
      "Training: 100%|██████████████████████████████| 48/48 [01:11<00:00,  1.49s/it, Loss=0.0000, Acc=1.0000]\n"
     ]
    },
    {
     "name": "stdout",
     "output_type": "stream",
     "text": [
      "✅ Training completed in 71.66s\n",
      "🔍 Validation Phase...\n"
     ]
    },
    {
     "name": "stderr",
     "output_type": "stream",
     "text": [
      "Validation: 100%|██████████████████████████████| 12/12 [00:06<00:00,  1.73it/s, Loss=1.7209, Acc=0.7188]\n"
     ]
    },
    {
     "name": "stdout",
     "output_type": "stream",
     "text": [
      "✅ Validation completed in 6.94s\n",
      "\n",
      "📊 Epoch 16 Summary:\n",
      "│ Train Loss: 0.0000 | Train Acc: 1.0000\n",
      "│ Val Loss:   1.7209 | Val Acc:   0.7188\n",
      "│ Train Time: 71.66s | Val Time: 6.94s\n",
      "│ Total Epoch Time: 78.60s\n",
      "│ Best Val Loss: 0.8282 (Epoch 1)\n",
      "│ GPU Memory: 1.3GB / 5.0GB\n",
      "================================================================================\n",
      "\n",
      "📈 Epoch 17/50\n",
      "--------------------------------------------------\n",
      "🔄 Training Phase...\n"
     ]
    },
    {
     "name": "stderr",
     "output_type": "stream",
     "text": [
      "Training: 100%|██████████████████████████████| 48/48 [01:08<00:00,  1.43s/it, Loss=0.0000, Acc=1.0000]\n"
     ]
    },
    {
     "name": "stdout",
     "output_type": "stream",
     "text": [
      "✅ Training completed in 68.69s\n",
      "🔍 Validation Phase...\n"
     ]
    },
    {
     "name": "stderr",
     "output_type": "stream",
     "text": [
      "Validation: 100%|██████████████████████████████| 12/12 [00:06<00:00,  1.81it/s, Loss=1.7410, Acc=0.7161]\n"
     ]
    },
    {
     "name": "stdout",
     "output_type": "stream",
     "text": [
      "✅ Validation completed in 6.65s\n",
      "\n",
      "📊 Epoch 17 Summary:\n",
      "│ Train Loss: 0.0000 | Train Acc: 1.0000\n",
      "│ Val Loss:   1.7410 | Val Acc:   0.7161\n",
      "│ Train Time: 68.69s | Val Time: 6.65s\n",
      "│ Total Epoch Time: 75.34s\n",
      "│ Best Val Loss: 0.8282 (Epoch 1)\n",
      "│ GPU Memory: 1.3GB / 5.0GB\n",
      "================================================================================\n",
      "\n",
      "📈 Epoch 18/50\n",
      "--------------------------------------------------\n",
      "🔄 Training Phase...\n"
     ]
    },
    {
     "name": "stderr",
     "output_type": "stream",
     "text": [
      "Training: 100%|██████████████████████████████| 48/48 [01:07<00:00,  1.40s/it, Loss=0.0000, Acc=1.0000]\n"
     ]
    },
    {
     "name": "stdout",
     "output_type": "stream",
     "text": [
      "✅ Training completed in 67.38s\n",
      "🔍 Validation Phase...\n"
     ]
    },
    {
     "name": "stderr",
     "output_type": "stream",
     "text": [
      "Validation: 100%|██████████████████████████████| 12/12 [00:06<00:00,  1.83it/s, Loss=1.7599, Acc=0.7188]\n"
     ]
    },
    {
     "name": "stdout",
     "output_type": "stream",
     "text": [
      "✅ Validation completed in 6.56s\n",
      "\n",
      "📊 Epoch 18 Summary:\n",
      "│ Train Loss: 0.0000 | Train Acc: 1.0000\n",
      "│ Val Loss:   1.7599 | Val Acc:   0.7188\n",
      "│ Train Time: 67.38s | Val Time: 6.56s\n",
      "│ Total Epoch Time: 73.95s\n",
      "│ Best Val Loss: 0.8282 (Epoch 1)\n",
      "│ GPU Memory: 1.3GB / 5.0GB\n",
      "================================================================================\n",
      "\n",
      "📈 Epoch 19/50\n",
      "--------------------------------------------------\n",
      "🔄 Training Phase...\n"
     ]
    },
    {
     "name": "stderr",
     "output_type": "stream",
     "text": [
      "Training: 100%|██████████████████████████████| 48/48 [01:06<00:00,  1.39s/it, Loss=0.0000, Acc=1.0000]\n"
     ]
    },
    {
     "name": "stdout",
     "output_type": "stream",
     "text": [
      "✅ Training completed in 66.81s\n",
      "🔍 Validation Phase...\n"
     ]
    },
    {
     "name": "stderr",
     "output_type": "stream",
     "text": [
      "Validation: 100%|██████████████████████████████| 12/12 [00:06<00:00,  1.85it/s, Loss=1.7782, Acc=0.7188]\n"
     ]
    },
    {
     "name": "stdout",
     "output_type": "stream",
     "text": [
      "✅ Validation completed in 6.50s\n",
      "\n",
      "📊 Epoch 19 Summary:\n",
      "│ Train Loss: 0.0000 | Train Acc: 1.0000\n",
      "│ Val Loss:   1.7782 | Val Acc:   0.7188\n",
      "│ Train Time: 66.81s | Val Time: 6.50s\n",
      "│ Total Epoch Time: 73.31s\n",
      "│ Best Val Loss: 0.8282 (Epoch 1)\n",
      "│ GPU Memory: 1.3GB / 5.0GB\n",
      "================================================================================\n",
      "\n",
      "📈 Epoch 20/50\n",
      "--------------------------------------------------\n",
      "🔄 Training Phase...\n"
     ]
    },
    {
     "name": "stderr",
     "output_type": "stream",
     "text": [
      "Training: 100%|██████████████████████████████| 48/48 [01:06<00:00,  1.39s/it, Loss=0.0000, Acc=1.0000]\n"
     ]
    },
    {
     "name": "stdout",
     "output_type": "stream",
     "text": [
      "✅ Training completed in 66.51s\n",
      "🔍 Validation Phase...\n"
     ]
    },
    {
     "name": "stderr",
     "output_type": "stream",
     "text": [
      "Validation: 100%|██████████████████████████████| 12/12 [00:06<00:00,  1.85it/s, Loss=1.7966, Acc=0.7161]\n"
     ]
    },
    {
     "name": "stdout",
     "output_type": "stream",
     "text": [
      "✅ Validation completed in 6.49s\n",
      "\n",
      "📊 Epoch 20 Summary:\n",
      "│ Train Loss: 0.0000 | Train Acc: 1.0000\n",
      "│ Val Loss:   1.7966 | Val Acc:   0.7161\n",
      "│ Train Time: 66.51s | Val Time: 6.49s\n",
      "│ Total Epoch Time: 73.01s\n",
      "│ Best Val Loss: 0.8282 (Epoch 1)\n",
      "│ GPU Memory: 1.3GB / 5.0GB\n",
      "================================================================================\n",
      "\n",
      "📈 Epoch 21/50\n",
      "--------------------------------------------------\n",
      "🔄 Training Phase...\n"
     ]
    },
    {
     "name": "stderr",
     "output_type": "stream",
     "text": [
      "Training: 100%|██████████████████████████████| 48/48 [01:06<00:00,  1.38s/it, Loss=0.0000, Acc=1.0000]\n"
     ]
    },
    {
     "name": "stdout",
     "output_type": "stream",
     "text": [
      "✅ Training completed in 66.38s\n",
      "🔍 Validation Phase...\n"
     ]
    },
    {
     "name": "stderr",
     "output_type": "stream",
     "text": [
      "Validation: 100%|██████████████████████████████| 12/12 [00:06<00:00,  1.82it/s, Loss=1.8131, Acc=0.7161]\n"
     ]
    },
    {
     "name": "stdout",
     "output_type": "stream",
     "text": [
      "✅ Validation completed in 6.59s\n",
      "\n",
      "📊 Epoch 21 Summary:\n",
      "│ Train Loss: 0.0000 | Train Acc: 1.0000\n",
      "│ Val Loss:   1.8131 | Val Acc:   0.7161\n",
      "│ Train Time: 66.38s | Val Time: 6.59s\n",
      "│ Total Epoch Time: 72.97s\n",
      "│ Best Val Loss: 0.8282 (Epoch 1)\n",
      "│ GPU Memory: 1.3GB / 5.0GB\n",
      "================================================================================\n",
      "\n",
      "📈 Epoch 22/50\n",
      "--------------------------------------------------\n",
      "🔄 Training Phase...\n"
     ]
    },
    {
     "name": "stderr",
     "output_type": "stream",
     "text": [
      "Training: 100%|██████████████████████████████| 48/48 [01:06<00:00,  1.38s/it, Loss=0.0000, Acc=1.0000]\n"
     ]
    },
    {
     "name": "stdout",
     "output_type": "stream",
     "text": [
      "✅ Training completed in 66.27s\n",
      "🔍 Validation Phase...\n"
     ]
    },
    {
     "name": "stderr",
     "output_type": "stream",
     "text": [
      "Validation: 100%|██████████████████████████████| 12/12 [00:06<00:00,  1.83it/s, Loss=1.8298, Acc=0.7161]\n"
     ]
    },
    {
     "name": "stdout",
     "output_type": "stream",
     "text": [
      "✅ Validation completed in 6.54s\n",
      "\n",
      "📊 Epoch 22 Summary:\n",
      "│ Train Loss: 0.0000 | Train Acc: 1.0000\n",
      "│ Val Loss:   1.8298 | Val Acc:   0.7161\n",
      "│ Train Time: 66.27s | Val Time: 6.54s\n",
      "│ Total Epoch Time: 72.82s\n",
      "│ Best Val Loss: 0.8282 (Epoch 1)\n",
      "│ GPU Memory: 1.3GB / 5.0GB\n",
      "================================================================================\n",
      "\n",
      "📈 Epoch 23/50\n",
      "--------------------------------------------------\n",
      "🔄 Training Phase...\n"
     ]
    },
    {
     "name": "stderr",
     "output_type": "stream",
     "text": [
      "Training: 100%|██████████████████████████████| 48/48 [01:06<00:00,  1.38s/it, Loss=0.0000, Acc=1.0000]\n"
     ]
    },
    {
     "name": "stdout",
     "output_type": "stream",
     "text": [
      "✅ Training completed in 66.28s\n",
      "🔍 Validation Phase...\n"
     ]
    },
    {
     "name": "stderr",
     "output_type": "stream",
     "text": [
      "Validation: 100%|██████████████████████████████| 12/12 [00:06<00:00,  1.86it/s, Loss=1.8461, Acc=0.7135]\n"
     ]
    },
    {
     "name": "stdout",
     "output_type": "stream",
     "text": [
      "✅ Validation completed in 6.46s\n",
      "\n",
      "📊 Epoch 23 Summary:\n",
      "│ Train Loss: 0.0000 | Train Acc: 1.0000\n",
      "│ Val Loss:   1.8461 | Val Acc:   0.7135\n",
      "│ Train Time: 66.28s | Val Time: 6.46s\n",
      "│ Total Epoch Time: 72.75s\n",
      "│ Best Val Loss: 0.8282 (Epoch 1)\n",
      "│ GPU Memory: 1.3GB / 5.0GB\n",
      "================================================================================\n",
      "\n",
      "📈 Epoch 24/50\n",
      "--------------------------------------------------\n",
      "🔄 Training Phase...\n"
     ]
    },
    {
     "name": "stderr",
     "output_type": "stream",
     "text": [
      "Training: 100%|██████████████████████████████| 48/48 [01:06<00:00,  1.38s/it, Loss=0.0000, Acc=1.0000]\n"
     ]
    },
    {
     "name": "stdout",
     "output_type": "stream",
     "text": [
      "✅ Training completed in 66.18s\n",
      "🔍 Validation Phase...\n"
     ]
    },
    {
     "name": "stderr",
     "output_type": "stream",
     "text": [
      "Validation: 100%|██████████████████████████████| 12/12 [00:06<00:00,  1.83it/s, Loss=1.8615, Acc=0.7135]\n"
     ]
    },
    {
     "name": "stdout",
     "output_type": "stream",
     "text": [
      "✅ Validation completed in 6.56s\n",
      "\n",
      "📊 Epoch 24 Summary:\n",
      "│ Train Loss: 0.0000 | Train Acc: 1.0000\n",
      "│ Val Loss:   1.8615 | Val Acc:   0.7135\n",
      "│ Train Time: 66.18s | Val Time: 6.56s\n",
      "│ Total Epoch Time: 72.74s\n",
      "│ Best Val Loss: 0.8282 (Epoch 1)\n",
      "│ GPU Memory: 1.3GB / 5.0GB\n",
      "================================================================================\n",
      "\n",
      "📈 Epoch 25/50\n",
      "--------------------------------------------------\n",
      "🔄 Training Phase...\n"
     ]
    },
    {
     "name": "stderr",
     "output_type": "stream",
     "text": [
      "Training: 100%|██████████████████████████████| 48/48 [01:06<00:00,  1.38s/it, Loss=0.0000, Acc=1.0000]\n"
     ]
    },
    {
     "name": "stdout",
     "output_type": "stream",
     "text": [
      "✅ Training completed in 66.39s\n",
      "🔍 Validation Phase...\n"
     ]
    },
    {
     "name": "stderr",
     "output_type": "stream",
     "text": [
      "Validation: 100%|██████████████████████████████| 12/12 [00:06<00:00,  1.87it/s, Loss=1.8770, Acc=0.7135]\n"
     ]
    },
    {
     "name": "stdout",
     "output_type": "stream",
     "text": [
      "✅ Validation completed in 6.41s\n",
      "\n",
      "📊 Epoch 25 Summary:\n",
      "│ Train Loss: 0.0000 | Train Acc: 1.0000\n",
      "│ Val Loss:   1.8770 | Val Acc:   0.7135\n",
      "│ Train Time: 66.39s | Val Time: 6.41s\n",
      "│ Total Epoch Time: 72.80s\n",
      "│ Best Val Loss: 0.8282 (Epoch 1)\n",
      "│ GPU Memory: 1.3GB / 5.0GB\n",
      "================================================================================\n",
      "\n",
      "📈 Epoch 26/50\n",
      "--------------------------------------------------\n",
      "🔄 Training Phase...\n"
     ]
    },
    {
     "name": "stderr",
     "output_type": "stream",
     "text": [
      "Training: 100%|██████████████████████████████| 48/48 [01:06<00:00,  1.38s/it, Loss=0.0000, Acc=1.0000]\n"
     ]
    },
    {
     "name": "stdout",
     "output_type": "stream",
     "text": [
      "✅ Training completed in 66.05s\n",
      "🔍 Validation Phase...\n"
     ]
    },
    {
     "name": "stderr",
     "output_type": "stream",
     "text": [
      "Validation: 100%|██████████████████████████████| 12/12 [00:06<00:00,  1.79it/s, Loss=1.8915, Acc=0.7135]\n"
     ]
    },
    {
     "name": "stdout",
     "output_type": "stream",
     "text": [
      "✅ Validation completed in 6.71s\n",
      "\n",
      "📊 Epoch 26 Summary:\n",
      "│ Train Loss: 0.0000 | Train Acc: 1.0000\n",
      "│ Val Loss:   1.8915 | Val Acc:   0.7135\n",
      "│ Train Time: 66.05s | Val Time: 6.71s\n",
      "│ Total Epoch Time: 72.77s\n",
      "│ Best Val Loss: 0.8282 (Epoch 1)\n",
      "│ GPU Memory: 1.3GB / 5.0GB\n",
      "================================================================================\n",
      "\n",
      "📈 Epoch 27/50\n",
      "--------------------------------------------------\n",
      "🔄 Training Phase...\n"
     ]
    },
    {
     "name": "stderr",
     "output_type": "stream",
     "text": [
      "Training: 100%|██████████████████████████████| 48/48 [01:05<00:00,  1.37s/it, Loss=0.0000, Acc=1.0000]\n"
     ]
    },
    {
     "name": "stdout",
     "output_type": "stream",
     "text": [
      "✅ Training completed in 66.00s\n",
      "🔍 Validation Phase...\n"
     ]
    },
    {
     "name": "stderr",
     "output_type": "stream",
     "text": [
      "Validation: 100%|██████████████████████████████| 12/12 [00:06<00:00,  1.88it/s, Loss=1.9060, Acc=0.7135]\n"
     ]
    },
    {
     "name": "stdout",
     "output_type": "stream",
     "text": [
      "✅ Validation completed in 6.38s\n",
      "\n",
      "📊 Epoch 27 Summary:\n",
      "│ Train Loss: 0.0000 | Train Acc: 1.0000\n",
      "│ Val Loss:   1.9060 | Val Acc:   0.7135\n",
      "│ Train Time: 66.00s | Val Time: 6.38s\n",
      "│ Total Epoch Time: 72.39s\n",
      "│ Best Val Loss: 0.8282 (Epoch 1)\n",
      "│ GPU Memory: 1.3GB / 5.0GB\n",
      "================================================================================\n",
      "\n",
      "📈 Epoch 28/50\n",
      "--------------------------------------------------\n",
      "🔄 Training Phase...\n"
     ]
    },
    {
     "name": "stderr",
     "output_type": "stream",
     "text": [
      "Training: 100%|██████████████████████████████| 48/48 [01:11<00:00,  1.49s/it, Loss=0.0000, Acc=1.0000]\n"
     ]
    },
    {
     "name": "stdout",
     "output_type": "stream",
     "text": [
      "✅ Training completed in 71.48s\n",
      "🔍 Validation Phase...\n"
     ]
    },
    {
     "name": "stderr",
     "output_type": "stream",
     "text": [
      "Validation: 100%|██████████████████████████████| 12/12 [00:06<00:00,  1.76it/s, Loss=1.9201, Acc=0.7135]\n"
     ]
    },
    {
     "name": "stdout",
     "output_type": "stream",
     "text": [
      "✅ Validation completed in 6.83s\n",
      "\n",
      "📊 Epoch 28 Summary:\n",
      "│ Train Loss: 0.0000 | Train Acc: 1.0000\n",
      "│ Val Loss:   1.9201 | Val Acc:   0.7135\n",
      "│ Train Time: 71.48s | Val Time: 6.83s\n",
      "│ Total Epoch Time: 78.31s\n",
      "│ Best Val Loss: 0.8282 (Epoch 1)\n",
      "│ GPU Memory: 1.3GB / 5.0GB\n",
      "================================================================================\n",
      "\n",
      "📈 Epoch 29/50\n",
      "--------------------------------------------------\n",
      "🔄 Training Phase...\n"
     ]
    },
    {
     "name": "stderr",
     "output_type": "stream",
     "text": [
      "Training: 100%|██████████████████████████████| 48/48 [01:11<00:00,  1.49s/it, Loss=0.0000, Acc=1.0000]\n"
     ]
    },
    {
     "name": "stdout",
     "output_type": "stream",
     "text": [
      "✅ Training completed in 71.60s\n",
      "🔍 Validation Phase...\n"
     ]
    },
    {
     "name": "stderr",
     "output_type": "stream",
     "text": [
      "Validation: 100%|██████████████████████████████| 12/12 [00:06<00:00,  1.74it/s, Loss=1.9338, Acc=0.7135]\n"
     ]
    },
    {
     "name": "stdout",
     "output_type": "stream",
     "text": [
      "✅ Validation completed in 6.89s\n",
      "\n",
      "📊 Epoch 29 Summary:\n",
      "│ Train Loss: 0.0000 | Train Acc: 1.0000\n",
      "│ Val Loss:   1.9338 | Val Acc:   0.7135\n",
      "│ Train Time: 71.60s | Val Time: 6.89s\n",
      "│ Total Epoch Time: 78.49s\n",
      "│ Best Val Loss: 0.8282 (Epoch 1)\n",
      "│ GPU Memory: 1.3GB / 5.0GB\n",
      "================================================================================\n",
      "\n",
      "📈 Epoch 30/50\n",
      "--------------------------------------------------\n",
      "🔄 Training Phase...\n"
     ]
    },
    {
     "name": "stderr",
     "output_type": "stream",
     "text": [
      "Training: 100%|██████████████████████████████| 48/48 [01:11<00:00,  1.49s/it, Loss=0.0000, Acc=1.0000]\n"
     ]
    },
    {
     "name": "stdout",
     "output_type": "stream",
     "text": [
      "✅ Training completed in 71.52s\n",
      "🔍 Validation Phase...\n"
     ]
    },
    {
     "name": "stderr",
     "output_type": "stream",
     "text": [
      "Validation: 100%|██████████████████████████████| 12/12 [00:06<00:00,  1.73it/s, Loss=1.9469, Acc=0.7135]\n"
     ]
    },
    {
     "name": "stdout",
     "output_type": "stream",
     "text": [
      "✅ Validation completed in 6.92s\n",
      "\n",
      "📊 Epoch 30 Summary:\n",
      "│ Train Loss: 0.0000 | Train Acc: 1.0000\n",
      "│ Val Loss:   1.9469 | Val Acc:   0.7135\n",
      "│ Train Time: 71.52s | Val Time: 6.92s\n",
      "│ Total Epoch Time: 78.44s\n",
      "│ Best Val Loss: 0.8282 (Epoch 1)\n",
      "│ GPU Memory: 1.3GB / 5.0GB\n",
      "================================================================================\n",
      "\n",
      "📈 Epoch 31/50\n",
      "--------------------------------------------------\n",
      "🔄 Training Phase...\n"
     ]
    },
    {
     "name": "stderr",
     "output_type": "stream",
     "text": [
      "Training: 100%|██████████████████████████████| 48/48 [01:11<00:00,  1.50s/it, Loss=0.0000, Acc=1.0000]\n"
     ]
    },
    {
     "name": "stdout",
     "output_type": "stream",
     "text": [
      "✅ Training completed in 71.93s\n",
      "🔍 Validation Phase...\n"
     ]
    },
    {
     "name": "stderr",
     "output_type": "stream",
     "text": [
      "Validation: 100%|██████████████████████████████| 12/12 [00:06<00:00,  1.74it/s, Loss=1.9603, Acc=0.7135]\n"
     ]
    },
    {
     "name": "stdout",
     "output_type": "stream",
     "text": [
      "✅ Validation completed in 6.91s\n",
      "\n",
      "📊 Epoch 31 Summary:\n",
      "│ Train Loss: 0.0000 | Train Acc: 1.0000\n",
      "│ Val Loss:   1.9603 | Val Acc:   0.7135\n",
      "│ Train Time: 71.93s | Val Time: 6.91s\n",
      "│ Total Epoch Time: 78.84s\n",
      "│ Best Val Loss: 0.8282 (Epoch 1)\n",
      "│ GPU Memory: 1.3GB / 5.0GB\n",
      "================================================================================\n",
      "\n",
      "📈 Epoch 32/50\n",
      "--------------------------------------------------\n",
      "🔄 Training Phase...\n"
     ]
    },
    {
     "name": "stderr",
     "output_type": "stream",
     "text": [
      "Training: 100%|██████████████████████████████| 48/48 [01:11<00:00,  1.48s/it, Loss=0.0000, Acc=1.0000]\n"
     ]
    },
    {
     "name": "stdout",
     "output_type": "stream",
     "text": [
      "✅ Training completed in 71.10s\n",
      "🔍 Validation Phase...\n"
     ]
    },
    {
     "name": "stderr",
     "output_type": "stream",
     "text": [
      "Validation: 100%|██████████████████████████████| 12/12 [00:06<00:00,  1.76it/s, Loss=1.9732, Acc=0.7161]\n"
     ]
    },
    {
     "name": "stdout",
     "output_type": "stream",
     "text": [
      "✅ Validation completed in 6.84s\n",
      "\n",
      "📊 Epoch 32 Summary:\n",
      "│ Train Loss: 0.0000 | Train Acc: 1.0000\n",
      "│ Val Loss:   1.9732 | Val Acc:   0.7161\n",
      "│ Train Time: 71.10s | Val Time: 6.84s\n",
      "│ Total Epoch Time: 77.95s\n",
      "│ Best Val Loss: 0.8282 (Epoch 1)\n",
      "│ GPU Memory: 1.3GB / 5.0GB\n",
      "================================================================================\n",
      "\n",
      "📈 Epoch 33/50\n",
      "--------------------------------------------------\n",
      "🔄 Training Phase...\n"
     ]
    },
    {
     "name": "stderr",
     "output_type": "stream",
     "text": [
      "Training: 100%|██████████████████████████████| 48/48 [01:11<00:00,  1.50s/it, Loss=0.0000, Acc=1.0000]\n"
     ]
    },
    {
     "name": "stdout",
     "output_type": "stream",
     "text": [
      "✅ Training completed in 71.90s\n",
      "🔍 Validation Phase...\n"
     ]
    },
    {
     "name": "stderr",
     "output_type": "stream",
     "text": [
      "Validation: 100%|██████████████████████████████| 12/12 [00:06<00:00,  1.73it/s, Loss=1.9858, Acc=0.7161]\n"
     ]
    },
    {
     "name": "stdout",
     "output_type": "stream",
     "text": [
      "✅ Validation completed in 6.93s\n",
      "\n",
      "📊 Epoch 33 Summary:\n",
      "│ Train Loss: 0.0000 | Train Acc: 1.0000\n",
      "│ Val Loss:   1.9858 | Val Acc:   0.7161\n",
      "│ Train Time: 71.90s | Val Time: 6.93s\n",
      "│ Total Epoch Time: 78.83s\n",
      "│ Best Val Loss: 0.8282 (Epoch 1)\n",
      "│ GPU Memory: 1.3GB / 5.0GB\n",
      "================================================================================\n",
      "\n",
      "📈 Epoch 34/50\n",
      "--------------------------------------------------\n",
      "🔄 Training Phase...\n"
     ]
    },
    {
     "name": "stderr",
     "output_type": "stream",
     "text": [
      "Training: 100%|██████████████████████████████| 48/48 [01:12<00:00,  1.50s/it, Loss=0.0000, Acc=1.0000]\n"
     ]
    },
    {
     "name": "stdout",
     "output_type": "stream",
     "text": [
      "✅ Training completed in 72.08s\n",
      "🔍 Validation Phase...\n"
     ]
    },
    {
     "name": "stderr",
     "output_type": "stream",
     "text": [
      "Validation: 100%|██████████████████████████████| 12/12 [00:06<00:00,  1.72it/s, Loss=1.9982, Acc=0.7161]\n"
     ]
    },
    {
     "name": "stdout",
     "output_type": "stream",
     "text": [
      "✅ Validation completed in 6.97s\n",
      "\n",
      "📊 Epoch 34 Summary:\n",
      "│ Train Loss: 0.0000 | Train Acc: 1.0000\n",
      "│ Val Loss:   1.9982 | Val Acc:   0.7161\n",
      "│ Train Time: 72.08s | Val Time: 6.97s\n",
      "│ Total Epoch Time: 79.05s\n",
      "│ Best Val Loss: 0.8282 (Epoch 1)\n",
      "│ GPU Memory: 1.3GB / 5.0GB\n",
      "================================================================================\n",
      "\n",
      "📈 Epoch 35/50\n",
      "--------------------------------------------------\n",
      "🔄 Training Phase...\n"
     ]
    },
    {
     "name": "stderr",
     "output_type": "stream",
     "text": [
      "Training: 100%|██████████████████████████████| 48/48 [01:11<00:00,  1.49s/it, Loss=0.0000, Acc=1.0000]\n"
     ]
    },
    {
     "name": "stdout",
     "output_type": "stream",
     "text": [
      "✅ Training completed in 71.63s\n",
      "🔍 Validation Phase...\n"
     ]
    },
    {
     "name": "stderr",
     "output_type": "stream",
     "text": [
      "Validation: 100%|██████████████████████████████| 12/12 [00:06<00:00,  1.75it/s, Loss=2.0102, Acc=0.7161]\n"
     ]
    },
    {
     "name": "stdout",
     "output_type": "stream",
     "text": [
      "✅ Validation completed in 6.85s\n",
      "\n",
      "📊 Epoch 35 Summary:\n",
      "│ Train Loss: 0.0000 | Train Acc: 1.0000\n",
      "│ Val Loss:   2.0102 | Val Acc:   0.7161\n",
      "│ Train Time: 71.63s | Val Time: 6.85s\n",
      "│ Total Epoch Time: 78.49s\n",
      "│ Best Val Loss: 0.8282 (Epoch 1)\n",
      "│ GPU Memory: 1.3GB / 5.0GB\n",
      "================================================================================\n",
      "\n",
      "📈 Epoch 36/50\n",
      "--------------------------------------------------\n",
      "🔄 Training Phase...\n"
     ]
    },
    {
     "name": "stderr",
     "output_type": "stream",
     "text": [
      "Training: 100%|██████████████████████████████| 48/48 [01:08<00:00,  1.44s/it, Loss=0.0000, Acc=1.0000]\n"
     ]
    },
    {
     "name": "stdout",
     "output_type": "stream",
     "text": [
      "✅ Training completed in 68.90s\n",
      "🔍 Validation Phase...\n"
     ]
    },
    {
     "name": "stderr",
     "output_type": "stream",
     "text": [
      "Validation: 100%|██████████████████████████████| 12/12 [00:06<00:00,  1.80it/s, Loss=2.0218, Acc=0.7161]\n"
     ]
    },
    {
     "name": "stdout",
     "output_type": "stream",
     "text": [
      "✅ Validation completed in 6.66s\n",
      "\n",
      "📊 Epoch 36 Summary:\n",
      "│ Train Loss: 0.0000 | Train Acc: 1.0000\n",
      "│ Val Loss:   2.0218 | Val Acc:   0.7161\n",
      "│ Train Time: 68.90s | Val Time: 6.66s\n",
      "│ Total Epoch Time: 75.57s\n",
      "│ Best Val Loss: 0.8282 (Epoch 1)\n",
      "│ GPU Memory: 1.3GB / 5.0GB\n",
      "================================================================================\n",
      "\n",
      "📈 Epoch 37/50\n",
      "--------------------------------------------------\n",
      "🔄 Training Phase...\n"
     ]
    },
    {
     "name": "stderr",
     "output_type": "stream",
     "text": [
      "Training: 100%|██████████████████████████████| 48/48 [01:07<00:00,  1.41s/it, Loss=0.0000, Acc=1.0000]\n"
     ]
    },
    {
     "name": "stdout",
     "output_type": "stream",
     "text": [
      "✅ Training completed in 67.88s\n",
      "🔍 Validation Phase...\n"
     ]
    },
    {
     "name": "stderr",
     "output_type": "stream",
     "text": [
      "Validation: 100%|██████████████████████████████| 12/12 [00:06<00:00,  1.84it/s, Loss=2.0341, Acc=0.7161]\n"
     ]
    },
    {
     "name": "stdout",
     "output_type": "stream",
     "text": [
      "✅ Validation completed in 6.52s\n",
      "\n",
      "📊 Epoch 37 Summary:\n",
      "│ Train Loss: 0.0000 | Train Acc: 1.0000\n",
      "│ Val Loss:   2.0341 | Val Acc:   0.7161\n",
      "│ Train Time: 67.88s | Val Time: 6.52s\n",
      "│ Total Epoch Time: 74.40s\n",
      "│ Best Val Loss: 0.8282 (Epoch 1)\n",
      "│ GPU Memory: 1.3GB / 5.0GB\n",
      "================================================================================\n",
      "\n",
      "📈 Epoch 38/50\n",
      "--------------------------------------------------\n",
      "🔄 Training Phase...\n"
     ]
    },
    {
     "name": "stderr",
     "output_type": "stream",
     "text": [
      "Training: 100%|██████████████████████████████| 48/48 [01:06<00:00,  1.39s/it, Loss=0.0000, Acc=1.0000]\n"
     ]
    },
    {
     "name": "stdout",
     "output_type": "stream",
     "text": [
      "✅ Training completed in 66.71s\n",
      "🔍 Validation Phase...\n"
     ]
    },
    {
     "name": "stderr",
     "output_type": "stream",
     "text": [
      "Validation: 100%|██████████████████████████████| 12/12 [00:06<00:00,  1.85it/s, Loss=2.0455, Acc=0.7161]\n"
     ]
    },
    {
     "name": "stdout",
     "output_type": "stream",
     "text": [
      "✅ Validation completed in 6.50s\n",
      "\n",
      "📊 Epoch 38 Summary:\n",
      "│ Train Loss: 0.0000 | Train Acc: 1.0000\n",
      "│ Val Loss:   2.0455 | Val Acc:   0.7161\n",
      "│ Train Time: 66.71s | Val Time: 6.50s\n",
      "│ Total Epoch Time: 73.22s\n",
      "│ Best Val Loss: 0.8282 (Epoch 1)\n",
      "│ GPU Memory: 1.3GB / 5.0GB\n",
      "================================================================================\n",
      "\n",
      "📈 Epoch 39/50\n",
      "--------------------------------------------------\n",
      "🔄 Training Phase...\n"
     ]
    },
    {
     "name": "stderr",
     "output_type": "stream",
     "text": [
      "Training: 100%|██████████████████████████████| 48/48 [01:06<00:00,  1.39s/it, Loss=0.0000, Acc=1.0000]\n"
     ]
    },
    {
     "name": "stdout",
     "output_type": "stream",
     "text": [
      "✅ Training completed in 66.85s\n",
      "🔍 Validation Phase...\n"
     ]
    },
    {
     "name": "stderr",
     "output_type": "stream",
     "text": [
      "Validation: 100%|██████████████████████████████| 12/12 [00:06<00:00,  1.82it/s, Loss=2.0570, Acc=0.7161]\n"
     ]
    },
    {
     "name": "stdout",
     "output_type": "stream",
     "text": [
      "✅ Validation completed in 6.61s\n",
      "\n",
      "📊 Epoch 39 Summary:\n",
      "│ Train Loss: 0.0000 | Train Acc: 1.0000\n",
      "│ Val Loss:   2.0570 | Val Acc:   0.7161\n",
      "│ Train Time: 66.85s | Val Time: 6.61s\n",
      "│ Total Epoch Time: 73.47s\n",
      "│ Best Val Loss: 0.8282 (Epoch 1)\n",
      "│ GPU Memory: 1.3GB / 5.0GB\n",
      "================================================================================\n",
      "\n",
      "📈 Epoch 40/50\n",
      "--------------------------------------------------\n",
      "🔄 Training Phase...\n"
     ]
    },
    {
     "name": "stderr",
     "output_type": "stream",
     "text": [
      "Training: 100%|██████████████████████████████| 48/48 [01:06<00:00,  1.38s/it, Loss=0.0000, Acc=1.0000]\n"
     ]
    },
    {
     "name": "stdout",
     "output_type": "stream",
     "text": [
      "✅ Training completed in 66.41s\n",
      "🔍 Validation Phase...\n"
     ]
    },
    {
     "name": "stderr",
     "output_type": "stream",
     "text": [
      "Validation: 100%|██████████████████████████████| 12/12 [00:06<00:00,  1.86it/s, Loss=2.0679, Acc=0.7161]\n"
     ]
    },
    {
     "name": "stdout",
     "output_type": "stream",
     "text": [
      "✅ Validation completed in 6.44s\n",
      "\n",
      "📊 Epoch 40 Summary:\n",
      "│ Train Loss: 0.0000 | Train Acc: 1.0000\n",
      "│ Val Loss:   2.0679 | Val Acc:   0.7161\n",
      "│ Train Time: 66.41s | Val Time: 6.44s\n",
      "│ Total Epoch Time: 72.85s\n",
      "│ Best Val Loss: 0.8282 (Epoch 1)\n",
      "│ GPU Memory: 1.3GB / 5.0GB\n",
      "================================================================================\n",
      "\n",
      "📈 Epoch 41/50\n",
      "--------------------------------------------------\n",
      "🔄 Training Phase...\n"
     ]
    },
    {
     "name": "stderr",
     "output_type": "stream",
     "text": [
      "Training: 100%|██████████████████████████████| 48/48 [01:06<00:00,  1.39s/it, Loss=0.0000, Acc=1.0000]\n"
     ]
    },
    {
     "name": "stdout",
     "output_type": "stream",
     "text": [
      "✅ Training completed in 66.60s\n",
      "🔍 Validation Phase...\n"
     ]
    },
    {
     "name": "stderr",
     "output_type": "stream",
     "text": [
      "Validation: 100%|██████████████████████████████| 12/12 [00:06<00:00,  1.86it/s, Loss=2.0791, Acc=0.7161]\n"
     ]
    },
    {
     "name": "stdout",
     "output_type": "stream",
     "text": [
      "✅ Validation completed in 6.46s\n",
      "\n",
      "📊 Epoch 41 Summary:\n",
      "│ Train Loss: 0.0000 | Train Acc: 1.0000\n",
      "│ Val Loss:   2.0791 | Val Acc:   0.7161\n",
      "│ Train Time: 66.60s | Val Time: 6.46s\n",
      "│ Total Epoch Time: 73.07s\n",
      "│ Best Val Loss: 0.8282 (Epoch 1)\n",
      "│ GPU Memory: 1.3GB / 5.0GB\n",
      "================================================================================\n",
      "\n",
      "📈 Epoch 42/50\n",
      "--------------------------------------------------\n",
      "🔄 Training Phase...\n"
     ]
    },
    {
     "name": "stderr",
     "output_type": "stream",
     "text": [
      "Training: 100%|██████████████████████████████| 48/48 [01:06<00:00,  1.39s/it, Loss=0.0000, Acc=1.0000]\n"
     ]
    },
    {
     "name": "stdout",
     "output_type": "stream",
     "text": [
      "✅ Training completed in 66.50s\n",
      "🔍 Validation Phase...\n"
     ]
    },
    {
     "name": "stderr",
     "output_type": "stream",
     "text": [
      "Validation: 100%|██████████████████████████████| 12/12 [00:06<00:00,  1.84it/s, Loss=2.0900, Acc=0.7188]\n"
     ]
    },
    {
     "name": "stdout",
     "output_type": "stream",
     "text": [
      "✅ Validation completed in 6.52s\n",
      "\n",
      "📊 Epoch 42 Summary:\n",
      "│ Train Loss: 0.0000 | Train Acc: 1.0000\n",
      "│ Val Loss:   2.0900 | Val Acc:   0.7188\n",
      "│ Train Time: 66.50s | Val Time: 6.52s\n",
      "│ Total Epoch Time: 73.03s\n",
      "│ Best Val Loss: 0.8282 (Epoch 1)\n",
      "│ GPU Memory: 1.3GB / 5.0GB\n",
      "================================================================================\n",
      "\n",
      "📈 Epoch 43/50\n",
      "--------------------------------------------------\n",
      "🔄 Training Phase...\n"
     ]
    },
    {
     "name": "stderr",
     "output_type": "stream",
     "text": [
      "Training: 100%|██████████████████████████████| 48/48 [01:06<00:00,  1.38s/it, Loss=0.0000, Acc=1.0000]\n"
     ]
    },
    {
     "name": "stdout",
     "output_type": "stream",
     "text": [
      "✅ Training completed in 66.32s\n",
      "🔍 Validation Phase...\n"
     ]
    },
    {
     "name": "stderr",
     "output_type": "stream",
     "text": [
      "Validation: 100%|██████████████████████████████| 12/12 [00:06<00:00,  1.85it/s, Loss=2.1007, Acc=0.7188]\n"
     ]
    },
    {
     "name": "stdout",
     "output_type": "stream",
     "text": [
      "✅ Validation completed in 6.48s\n",
      "\n",
      "📊 Epoch 43 Summary:\n",
      "│ Train Loss: 0.0000 | Train Acc: 1.0000\n",
      "│ Val Loss:   2.1007 | Val Acc:   0.7188\n",
      "│ Train Time: 66.32s | Val Time: 6.48s\n",
      "│ Total Epoch Time: 72.81s\n",
      "│ Best Val Loss: 0.8282 (Epoch 1)\n",
      "│ GPU Memory: 1.3GB / 5.0GB\n",
      "================================================================================\n",
      "\n",
      "📈 Epoch 44/50\n",
      "--------------------------------------------------\n",
      "🔄 Training Phase...\n"
     ]
    },
    {
     "name": "stderr",
     "output_type": "stream",
     "text": [
      "Training: 100%|██████████████████████████████| 48/48 [01:06<00:00,  1.38s/it, Loss=0.0000, Acc=1.0000]\n"
     ]
    },
    {
     "name": "stdout",
     "output_type": "stream",
     "text": [
      "✅ Training completed in 66.38s\n",
      "🔍 Validation Phase...\n"
     ]
    },
    {
     "name": "stderr",
     "output_type": "stream",
     "text": [
      "Validation: 100%|██████████████████████████████| 12/12 [00:06<00:00,  1.84it/s, Loss=2.1110, Acc=0.7188]\n"
     ]
    },
    {
     "name": "stdout",
     "output_type": "stream",
     "text": [
      "✅ Validation completed in 6.51s\n",
      "\n",
      "📊 Epoch 44 Summary:\n",
      "│ Train Loss: 0.0000 | Train Acc: 1.0000\n",
      "│ Val Loss:   2.1110 | Val Acc:   0.7188\n",
      "│ Train Time: 66.38s | Val Time: 6.51s\n",
      "│ Total Epoch Time: 72.89s\n",
      "│ Best Val Loss: 0.8282 (Epoch 1)\n",
      "│ GPU Memory: 1.3GB / 5.0GB\n",
      "================================================================================\n",
      "\n",
      "📈 Epoch 45/50\n",
      "--------------------------------------------------\n",
      "🔄 Training Phase...\n"
     ]
    },
    {
     "name": "stderr",
     "output_type": "stream",
     "text": [
      "Training: 100%|██████████████████████████████| 48/48 [01:06<00:00,  1.38s/it, Loss=0.0000, Acc=1.0000]\n"
     ]
    },
    {
     "name": "stdout",
     "output_type": "stream",
     "text": [
      "✅ Training completed in 66.44s\n",
      "🔍 Validation Phase...\n"
     ]
    },
    {
     "name": "stderr",
     "output_type": "stream",
     "text": [
      "Validation: 100%|██████████████████████████████| 12/12 [00:06<00:00,  1.86it/s, Loss=2.1216, Acc=0.7188]\n"
     ]
    },
    {
     "name": "stdout",
     "output_type": "stream",
     "text": [
      "✅ Validation completed in 6.47s\n",
      "\n",
      "📊 Epoch 45 Summary:\n",
      "│ Train Loss: 0.0000 | Train Acc: 1.0000\n",
      "│ Val Loss:   2.1216 | Val Acc:   0.7188\n",
      "│ Train Time: 66.44s | Val Time: 6.47s\n",
      "│ Total Epoch Time: 72.91s\n",
      "│ Best Val Loss: 0.8282 (Epoch 1)\n",
      "│ GPU Memory: 1.3GB / 5.0GB\n",
      "================================================================================\n",
      "\n",
      "📈 Epoch 46/50\n",
      "--------------------------------------------------\n",
      "🔄 Training Phase...\n"
     ]
    },
    {
     "name": "stderr",
     "output_type": "stream",
     "text": [
      "Training: 100%|██████████████████████████████| 48/48 [01:06<00:00,  1.38s/it, Loss=0.0000, Acc=1.0000]\n"
     ]
    },
    {
     "name": "stdout",
     "output_type": "stream",
     "text": [
      "✅ Training completed in 66.17s\n",
      "🔍 Validation Phase...\n"
     ]
    },
    {
     "name": "stderr",
     "output_type": "stream",
     "text": [
      "Validation: 100%|██████████████████████████████| 12/12 [00:06<00:00,  1.86it/s, Loss=2.1320, Acc=0.7188]\n"
     ]
    },
    {
     "name": "stdout",
     "output_type": "stream",
     "text": [
      "✅ Validation completed in 6.44s\n",
      "\n",
      "📊 Epoch 46 Summary:\n",
      "│ Train Loss: 0.0000 | Train Acc: 1.0000\n",
      "│ Val Loss:   2.1320 | Val Acc:   0.7188\n",
      "│ Train Time: 66.17s | Val Time: 6.44s\n",
      "│ Total Epoch Time: 72.61s\n",
      "│ Best Val Loss: 0.8282 (Epoch 1)\n",
      "│ GPU Memory: 1.3GB / 5.0GB\n",
      "================================================================================\n",
      "\n",
      "📈 Epoch 47/50\n",
      "--------------------------------------------------\n",
      "🔄 Training Phase...\n"
     ]
    },
    {
     "name": "stderr",
     "output_type": "stream",
     "text": [
      "Training: 100%|██████████████████████████████| 48/48 [01:11<00:00,  1.49s/it, Loss=0.0000, Acc=1.0000]\n"
     ]
    },
    {
     "name": "stdout",
     "output_type": "stream",
     "text": [
      "✅ Training completed in 71.29s\n",
      "🔍 Validation Phase...\n"
     ]
    },
    {
     "name": "stderr",
     "output_type": "stream",
     "text": [
      "Validation: 100%|██████████████████████████████| 12/12 [00:06<00:00,  1.74it/s, Loss=2.1423, Acc=0.7188]\n"
     ]
    },
    {
     "name": "stdout",
     "output_type": "stream",
     "text": [
      "✅ Validation completed in 6.91s\n",
      "\n",
      "📊 Epoch 47 Summary:\n",
      "│ Train Loss: 0.0000 | Train Acc: 1.0000\n",
      "│ Val Loss:   2.1423 | Val Acc:   0.7188\n",
      "│ Train Time: 71.29s | Val Time: 6.91s\n",
      "│ Total Epoch Time: 78.20s\n",
      "│ Best Val Loss: 0.8282 (Epoch 1)\n",
      "│ GPU Memory: 1.3GB / 5.0GB\n",
      "================================================================================\n",
      "\n",
      "📈 Epoch 48/50\n",
      "--------------------------------------------------\n",
      "🔄 Training Phase...\n"
     ]
    },
    {
     "name": "stderr",
     "output_type": "stream",
     "text": [
      "Training: 100%|██████████████████████████████| 48/48 [01:13<00:00,  1.52s/it, Loss=0.0000, Acc=1.0000]\n"
     ]
    },
    {
     "name": "stdout",
     "output_type": "stream",
     "text": [
      "✅ Training completed in 73.04s\n",
      "🔍 Validation Phase...\n"
     ]
    },
    {
     "name": "stderr",
     "output_type": "stream",
     "text": [
      "Validation: 100%|██████████████████████████████| 12/12 [00:07<00:00,  1.68it/s, Loss=2.1521, Acc=0.7161]\n"
     ]
    },
    {
     "name": "stdout",
     "output_type": "stream",
     "text": [
      "✅ Validation completed in 7.14s\n",
      "\n",
      "📊 Epoch 48 Summary:\n",
      "│ Train Loss: 0.0000 | Train Acc: 1.0000\n",
      "│ Val Loss:   2.1521 | Val Acc:   0.7161\n",
      "│ Train Time: 73.04s | Val Time: 7.14s\n",
      "│ Total Epoch Time: 80.18s\n",
      "│ Best Val Loss: 0.8282 (Epoch 1)\n",
      "│ GPU Memory: 1.3GB / 5.0GB\n",
      "================================================================================\n",
      "\n",
      "📈 Epoch 49/50\n",
      "--------------------------------------------------\n",
      "🔄 Training Phase...\n"
     ]
    },
    {
     "name": "stderr",
     "output_type": "stream",
     "text": [
      "Training: 100%|██████████████████████████████| 48/48 [01:12<00:00,  1.50s/it, Loss=0.0000, Acc=1.0000]\n"
     ]
    },
    {
     "name": "stdout",
     "output_type": "stream",
     "text": [
      "✅ Training completed in 72.10s\n",
      "🔍 Validation Phase...\n"
     ]
    },
    {
     "name": "stderr",
     "output_type": "stream",
     "text": [
      "Validation: 100%|██████████████████████████████| 12/12 [00:06<00:00,  1.72it/s, Loss=2.1621, Acc=0.7161]\n"
     ]
    },
    {
     "name": "stdout",
     "output_type": "stream",
     "text": [
      "✅ Validation completed in 6.96s\n",
      "\n",
      "📊 Epoch 49 Summary:\n",
      "│ Train Loss: 0.0000 | Train Acc: 1.0000\n",
      "│ Val Loss:   2.1621 | Val Acc:   0.7161\n",
      "│ Train Time: 72.10s | Val Time: 6.96s\n",
      "│ Total Epoch Time: 79.07s\n",
      "│ Best Val Loss: 0.8282 (Epoch 1)\n",
      "│ GPU Memory: 1.3GB / 5.0GB\n",
      "================================================================================\n",
      "\n",
      "📈 Epoch 50/50\n",
      "--------------------------------------------------\n",
      "🔄 Training Phase...\n"
     ]
    },
    {
     "name": "stderr",
     "output_type": "stream",
     "text": [
      "Training: 100%|██████████████████████████████| 48/48 [01:11<00:00,  1.49s/it, Loss=0.0000, Acc=1.0000]\n"
     ]
    },
    {
     "name": "stdout",
     "output_type": "stream",
     "text": [
      "✅ Training completed in 71.64s\n",
      "🔍 Validation Phase...\n"
     ]
    },
    {
     "name": "stderr",
     "output_type": "stream",
     "text": [
      "Validation: 100%|██████████████████████████████| 12/12 [00:06<00:00,  1.74it/s, Loss=2.1718, Acc=0.7161]\n"
     ]
    },
    {
     "name": "stdout",
     "output_type": "stream",
     "text": [
      "✅ Validation completed in 6.90s\n",
      "\n",
      "📊 Epoch 50 Summary:\n",
      "│ Train Loss: 0.0000 | Train Acc: 1.0000\n",
      "│ Val Loss:   2.1718 | Val Acc:   0.7161\n",
      "│ Train Time: 71.64s | Val Time: 6.90s\n",
      "│ Total Epoch Time: 78.55s\n",
      "│ Best Val Loss: 0.8282 (Epoch 1)\n",
      "│ GPU Memory: 1.3GB / 5.0GB\n",
      "================================================================================\n",
      "\n",
      "💾 Best model saved as 'best_cricket_vit_filtered.pth'\n",
      "📊 Best model stats:\n",
      "│ Best Epoch: 1\n",
      "│ Best Val Loss: 0.8282\n",
      "│ Best Val Acc: 0.7057\n",
      "\n",
      "💾 Training history saved to 'cricket_vit_filtered_history_pretrained.csv'\n",
      "\n",
      "🎉 Vision Transformer Fine-tuning Complete!\n",
      "Total Training Time: 3765.55s (62.8 minutes)\n",
      "Average Epoch Time: 75.31s\n",
      "\n",
      "🧪 Loading Best Model for Testing...\n",
      "✅ Best model from epoch 1 loaded successfully!\n"
     ]
    },
    {
     "name": "stderr",
     "output_type": "stream",
     "text": [
      "Testing: 100%|██████████████████████████████| 16/16 [00:12<00:00,  1.29it/s]\n"
     ]
    },
    {
     "name": "stdout",
     "output_type": "stream",
     "text": [
      "✅ Testing completed in 12.45s\n",
      "\n",
      "📋 Classification Report:\n",
      "              precision    recall  f1-score   support\n",
      "\n",
      "   fast_bowl       0.78      0.75      0.77       304\n",
      "   spin_bowl       0.61      0.65      0.63       184\n",
      "\n",
      "    accuracy                           0.71       488\n",
      "   macro avg       0.70      0.70      0.70       488\n",
      "weighted avg       0.72      0.71      0.71       488\n",
      "\n",
      "🎯 Test Accuracy: 0.7131\n",
      "\n",
      "📊 Cricket Classification Performance (Vision Transformer - Filtered Data):\n",
      "│ Best Validation Loss: 0.8282 (Epoch 1)\n",
      "│ Best Validation Acc:  0.7057 (Epoch 1)\n",
      "│ Final Test Accuracy:  0.7131\n",
      "│ Val-Test Gap:         0.0074\n",
      "│ Data Filtering: Excluded 'random_occlusion' folder\n",
      "\n",
      "💾 Files saved:\n",
      "│ best_cricket_vit_filtered.pth - Best model weights\n",
      "│ cricket_vit_filtered_history.csv - Training metrics\n"
     ]
    },
    {
     "data": {
      "image/png": "[encoded data removed]",
      "text/plain": [
       "<Figure size 1000x800 with 2 Axes>"
      ]
     },
     "metadata": {},
     "output_type": "display_data"
    },
    {
     "data": {
      "image/png": "[encoded data removed]",
      "text/plain": [
       "<Figure size 1500x500 with 3 Axes>"
      ]
     },
     "metadata": {},
     "output_type": "display_data"
    },
    {
     "name": "stdout",
     "output_type": "stream",
     "text": [
      "\n",
      "⏰ Final Timing Summary:\n",
      "│ Total Training: 3765.55s (62.8 min)\n",
      "│ Average per Epoch: 75.31s\n",
      "│ Testing Time: 12.45s\n",
      "│ Total Runtime: 3777.99s\n",
      "\n",
      "🔍 Vision Transformer + Filtered Data Benefits:\n",
      "│ Clean dataset: 'random_occlusion' folder excluded\n",
      "│ Self-attention: Global context understanding\n",
      "│ Patch-based: 16x16 patches processed as sequences\n",
      "│ Transformer architecture: State-of-the-art NLP applied to vision\n",
      "│ ImageNet-21k pretrained: High-quality feature representations\n",
      "│ Long-range dependencies: Better than CNNs for complex relationships\n"
     ]
    }
   ],
   "source": [
    "# -----------------------------\n",
    "# 3. Training Setup\n",
    "# -----------------------------\n",
    "criterion = nn.CrossEntropyLoss()\n",
    "optimizer = optim.Adam(model.parameters(), lr=1e-4)  # Lower LR for fine-tuning\n",
    "\n",
    "print(f\"\\n📋 Training Configuration:\")\n",
    "print(f\"│ Model: Vision Transformer ViT-B/16 (pretrained)\")\n",
    "print(f\"│ Optimizer: Adam (lr={optimizer.param_groups[0]['lr']})\")\n",
    "print(f\"│ Loss Function: CrossEntropyLoss\")\n",
    "print(f\"│ Batch Size: 32\")\n",
    "print(f\"│ Device: {device}\")\n",
    "print(f\"│ Data: Filtered (excluding '{ignore_folder}')\")\n",
    "\n",
    "# -----------------------------\n",
    "# 4. Training Loop with Model Saving\n",
    "# -----------------------------\n",
    "train_losses, val_losses = [], []\n",
    "train_accs, val_accs = [], []\n",
    "epoch_times = []\n",
    "epochs = 50\n",
    "\n",
    "# Initialize best model tracking (using val_loss for fine-tuning)\n",
    "best_val_loss = float('inf')\n",
    "best_model_state = None\n",
    "best_epoch = 0\n",
    "best_val_acc = 0.0\n",
    "\n",
    "print(f\"\\n🚀 Starting Vision Transformer Fine-tuning for {epochs} epochs...\")\n",
    "print(\"=\" * 80)\n",
    "total_start_time = time.time()\n",
    "\n",
    "for epoch in range(epochs):\n",
    "    epoch_start_time = time.time()\n",
    "    \n",
    "    print(f\"\\n📈 Epoch {epoch+1}/{epochs}\")\n",
    "    print(\"-\" * 50)\n",
    "    \n",
    "    # Training Phase\n",
    "    print(\"🔄 Training Phase...\")\n",
    "    model.train()\n",
    "    running_loss, correct, total = 0, 0, 0\n",
    "    \n",
    "    train_pbar = tqdm(train_loader, desc=\"Training\", \n",
    "                     bar_format='{l_bar}{bar:30}{r_bar}{bar:-30b}')\n",
    "    \n",
    "    train_phase_start = time.time()\n",
    "    \n",
    "    for batch_idx, (imgs, labels) in enumerate(train_pbar):\n",
    "        imgs, labels = imgs.to(device), labels.to(device)\n",
    "        \n",
    "        optimizer.zero_grad()\n",
    "        outputs = model(imgs)\n",
    "        loss = criterion(outputs, labels)\n",
    "        loss.backward()\n",
    "        optimizer.step()\n",
    "        \n",
    "        running_loss += loss.item()\n",
    "        _, preds = torch.max(outputs, 1)\n",
    "        correct += (preds == labels).sum().item()\n",
    "        total += labels.size(0)\n",
    "        \n",
    "        current_acc = correct / total\n",
    "        train_pbar.set_postfix({\n",
    "            'Loss': f'{running_loss/(batch_idx+1):.4f}',\n",
    "            'Acc': f'{current_acc:.4f}'\n",
    "        })\n",
    "        \n",
    "        if device.type == 'cuda' and batch_idx % 10 == 0:\n",
    "            gpu_memory = torch.cuda.memory_allocated() / 1024**3\n",
    "            train_pbar.set_postfix({\n",
    "                'Loss': f'{running_loss/(batch_idx+1):.4f}',\n",
    "                'Acc': f'{current_acc:.4f}',\n",
    "                'GPU': f'{gpu_memory:.1f}GB'\n",
    "            })\n",
    "    \n",
    "    train_phase_time = time.time() - train_phase_start\n",
    "    train_loss = running_loss / len(train_loader)\n",
    "    train_acc = correct / total\n",
    "    train_losses.append(train_loss)\n",
    "    train_accs.append(train_acc)\n",
    "    \n",
    "    print(f\"✅ Training completed in {train_phase_time:.2f}s\")\n",
    "    \n",
    "    # Validation Phase\n",
    "    print(\"🔍 Validation Phase...\")\n",
    "    model.eval()\n",
    "    running_loss, correct, total = 0, 0, 0\n",
    "    \n",
    "    val_phase_start = time.time()\n",
    "    val_pbar = tqdm(val_loader, desc=\"Validation\", \n",
    "                   bar_format='{l_bar}{bar:30}{r_bar}{bar:-30b}')\n",
    "    \n",
    "    with torch.no_grad():\n",
    "        for batch_idx, (imgs, labels) in enumerate(val_pbar):\n",
    "            imgs, labels = imgs.to(device), labels.to(device)\n",
    "            outputs = model(imgs)\n",
    "            loss = criterion(outputs, labels)\n",
    "            \n",
    "            running_loss += loss.item()\n",
    "            _, preds = torch.max(outputs, 1)\n",
    "            correct += (preds == labels).sum().item()\n",
    "            total += labels.size(0)\n",
    "            \n",
    "            current_acc = correct / total\n",
    "            val_pbar.set_postfix({\n",
    "                'Loss': f'{running_loss/(batch_idx+1):.4f}',\n",
    "                'Acc': f'{current_acc:.4f}'\n",
    "            })\n",
    "    \n",
    "    val_phase_time = time.time() - val_phase_start\n",
    "    val_loss = running_loss / len(val_loader)\n",
    "    val_acc = correct / total\n",
    "    val_losses.append(val_loss)\n",
    "    val_accs.append(val_acc)\n",
    "    \n",
    "    print(f\"✅ Validation completed in {val_phase_time:.2f}s\")\n",
    "    \n",
    "    # Check if this is the best model (using val_loss for fine-tuning)\n",
    "    is_best = val_loss < best_val_loss\n",
    "    if is_best:\n",
    "        best_val_loss = val_loss\n",
    "        best_val_acc = val_acc\n",
    "        best_epoch = epoch + 1\n",
    "        best_model_state = model.state_dict().copy()\n",
    "        print(f\"🌟 New best model found! Validation Loss: {val_loss:.4f}\")\n",
    "    \n",
    "    # Epoch Summary\n",
    "    epoch_time = time.time() - epoch_start_time\n",
    "    epoch_times.append(epoch_time)\n",
    "    \n",
    "    print(f\"\\n📊 Epoch {epoch+1} Summary:\")\n",
    "    print(f\"│ Train Loss: {train_loss:.4f} | Train Acc: {train_acc:.4f}\")\n",
    "    print(f\"│ Val Loss:   {val_loss:.4f} | Val Acc:   {val_acc:.4f}\")\n",
    "    print(f\"│ Train Time: {train_phase_time:.2f}s | Val Time: {val_phase_time:.2f}s\")\n",
    "    print(f\"│ Total Epoch Time: {epoch_time:.2f}s\")\n",
    "    print(f\"│ Best Val Loss: {best_val_loss:.4f} (Epoch {best_epoch})\")\n",
    "    \n",
    "    if device.type == 'cuda':\n",
    "        print(f\"│ GPU Memory: {torch.cuda.memory_allocated()/1024**3:.1f}GB / {torch.cuda.memory_reserved()/1024**3:.1f}GB\")\n",
    "    \n",
    "    print(\"=\" * 80)\n",
    "\n",
    "total_training_time = time.time() - total_start_time\n",
    "\n",
    "# Save the best model\n",
    "if best_model_state is not None:\n",
    "    torch.save(best_model_state, 'best_cricket_vit_filtered_pretrained.pth')\n",
    "    print(f\"\\n💾 Best model saved as 'best_cricket_vit_filtered.pth'\")\n",
    "    print(f\"📊 Best model stats:\")\n",
    "    print(f\"│ Best Epoch: {best_epoch}\")\n",
    "    print(f\"│ Best Val Loss: {best_val_loss:.4f}\")\n",
    "    print(f\"│ Best Val Acc: {best_val_acc:.4f}\")\n",
    "\n",
    "# Save training history\n",
    "history_data = {\n",
    "    'epoch': list(range(1, epochs+1)),\n",
    "    'train_loss': train_losses,\n",
    "    'val_loss': val_losses,\n",
    "    'train_acc': train_accs,\n",
    "    'val_acc': val_accs,\n",
    "    'epoch_time': epoch_times\n",
    "}\n",
    "\n",
    "history_df = pd.DataFrame(history_data)\n",
    "history_df.to_csv('cricket_vit_filtered_history_pretrained.csv', index=False)\n",
    "print(\"\\n💾 Training history saved to 'cricket_vit_filtered_history_pretrained.csv'\")\n",
    "\n",
    "print(f\"\\n🎉 Vision Transformer Fine-tuning Complete!\")\n",
    "print(f\"Total Training Time: {total_training_time:.2f}s ({total_training_time/60:.1f} minutes)\")\n",
    "print(f\"Average Epoch Time: {np.mean(epoch_times):.2f}s\")\n",
    "\n",
    "# -----------------------------\n",
    "# 5. Load Best Model and Test\n",
    "# -----------------------------\n",
    "print(f\"\\n🧪 Loading Best Model for Testing...\")\n",
    "if best_model_state is not None:\n",
    "    model.load_state_dict(best_model_state)\n",
    "    print(f\"✅ Best model from epoch {best_epoch} loaded successfully!\")\n",
    "\n",
    "test_start_time = time.time()\n",
    "y_true, y_pred = [], []\n",
    "model.eval()\n",
    "test_pbar = tqdm(test_loader, desc=\"Testing\", \n",
    "                bar_format='{l_bar}{bar:30}{r_bar}{bar:-30b}')\n",
    "\n",
    "with torch.no_grad():\n",
    "    for imgs, labels in test_pbar:\n",
    "        imgs, labels = imgs.to(device), labels.to(device)\n",
    "        outputs = model(imgs)\n",
    "        _, preds = torch.max(outputs, 1)\n",
    "        y_true.extend(labels.cpu().numpy())\n",
    "        y_pred.extend(preds.cpu().numpy())\n",
    "\n",
    "test_time = time.time() - test_start_time\n",
    "test_accuracy = accuracy_score(y_true, y_pred)\n",
    "\n",
    "print(f\"✅ Testing completed in {test_time:.2f}s\")\n",
    "print(\"\\n📋 Classification Report:\")\n",
    "print(classification_report(y_true, y_pred, target_names=classes))\n",
    "print(f\"🎯 Test Accuracy: {test_accuracy:.4f}\")\n",
    "\n",
    "# Performance Summary\n",
    "print(f\"\\n📊 Cricket Classification Performance (Vision Transformer - Filtered Data):\")\n",
    "print(f\"│ Best Validation Loss: {best_val_loss:.4f} (Epoch {best_epoch})\")\n",
    "print(f\"│ Best Validation Acc:  {best_val_acc:.4f} (Epoch {best_epoch})\")\n",
    "print(f\"│ Final Test Accuracy:  {test_accuracy:.4f}\")\n",
    "print(f\"│ Val-Test Gap:         {abs(best_val_acc - test_accuracy):.4f}\")\n",
    "print(f\"│ Data Filtering: Excluded '{ignore_folder}' folder\")\n",
    "\n",
    "print(f\"\\n💾 Files saved:\")\n",
    "print(f\"│ best_cricket_vit_filtered.pth - Best model weights\")\n",
    "print(f\"│ cricket_vit_filtered_history.csv - Training metrics\")\n",
    "\n",
    "# -----------------------------\n",
    "# 6. Visualizations\n",
    "# -----------------------------\n",
    "# Confusion Matrix\n",
    "cm = confusion_matrix(y_true, y_pred)\n",
    "plt.figure(figsize=(10, 8))\n",
    "sns.heatmap(cm, annot=True, fmt=\"d\", cmap=\"Blues\", \n",
    "            xticklabels=classes, yticklabels=classes)\n",
    "plt.xlabel(\"Predicted\")\n",
    "plt.ylabel(\"True\")\n",
    "plt.title(f\"Cricket Classification - Vision Transformer (Filtered Data) - Epoch {best_epoch}\")\n",
    "plt.tight_layout()\n",
    "plt.show()\n",
    "\n",
    "# Training Curves\n",
    "plt.figure(figsize=(15, 5))\n",
    "\n",
    "# Loss Plot\n",
    "plt.subplot(1, 3, 1)\n",
    "plt.plot(range(1, epochs+1), train_losses, 'b-', label=\"Train Loss\", marker='o', linewidth=2)\n",
    "plt.plot(range(1, epochs+1), val_losses, 'r-', label=\"Val Loss\", marker='s', linewidth=2)\n",
    "plt.axvline(x=best_epoch, color='green', linestyle='--', alpha=0.7, label=f'Best (Epoch {best_epoch})')\n",
    "plt.scatter([best_epoch], [best_val_loss], color='green', s=100, zorder=5)\n",
    "plt.legend()\n",
    "plt.title(\"Vision Transformer Loss over Epochs (Filtered)\")\n",
    "plt.xlabel(\"Epoch\")\n",
    "plt.ylabel(\"Loss\")\n",
    "plt.grid(True, alpha=0.3)\n",
    "\n",
    "# Accuracy Plot\n",
    "plt.subplot(1, 3, 2)\n",
    "plt.plot(range(1, epochs+1), train_accs, 'b-', label=\"Train Accuracy\", marker='o', linewidth=2)\n",
    "plt.plot(range(1, epochs+1), val_accs, 'r-', label=\"Val Accuracy\", marker='s', linewidth=2)\n",
    "plt.axvline(x=best_epoch, color='green', linestyle='--', alpha=0.7, label=f'Best (Epoch {best_epoch})')\n",
    "plt.scatter([best_epoch], [best_val_acc], color='green', s=100, zorder=5)\n",
    "plt.legend()\n",
    "plt.title(\"Vision Transformer Accuracy over Epochs (Filtered)\")\n",
    "plt.xlabel(\"Epoch\")\n",
    "plt.ylabel(\"Accuracy\")\n",
    "plt.grid(True, alpha=0.3)\n",
    "\n",
    "# Final Performance\n",
    "plt.subplot(1, 3, 3)\n",
    "metrics = ['Best Val Acc', 'Test Acc']\n",
    "values = [best_val_acc, test_accuracy]\n",
    "colors = ['orange', 'green']\n",
    "bars = plt.bar(metrics, values, color=colors, alpha=0.7)\n",
    "plt.title(\"Vision Transformer Final Performance (Filtered)\")\n",
    "plt.ylabel(\"Accuracy\")\n",
    "plt.ylim(0, 1)\n",
    "plt.grid(True, alpha=0.3)\n",
    "for bar, val in zip(bars, values):\n",
    "    plt.text(bar.get_x() + bar.get_width()/2, val + 0.01, \n",
    "             f'{val:.4f}', ha='center', va='bottom')\n",
    "\n",
    "plt.tight_layout()\n",
    "plt.show()\n",
    "\n",
    "# Final Summary\n",
    "print(f\"\\n⏰ Final Timing Summary:\")\n",
    "print(f\"│ Total Training: {total_training_time:.2f}s ({total_training_time/60:.1f} min)\")\n",
    "print(f\"│ Average per Epoch: {np.mean(epoch_times):.2f}s\")\n",
    "print(f\"│ Testing Time: {test_time:.2f}s\")\n",
    "print(f\"│ Total Runtime: {total_training_time + test_time:.2f}s\")\n",
    "\n",
    "# Model and Data Info\n",
    "print(f\"\\n🔍 Vision Transformer + Filtered Data Benefits:\")\n",
    "print(f\"│ Clean dataset: '{ignore_folder}' folder excluded\")\n",
    "print(f\"│ Self-attention: Global context understanding\")\n",
    "print(f\"│ Patch-based: 16x16 patches processed as sequences\")\n",
    "print(f\"│ Transformer architecture: State-of-the-art NLP applied to vision\")\n",
    "print(f\"│ ImageNet-21k pretrained: High-quality feature representations\")\n",
    "print(f\"│ Long-range dependencies: Better than CNNs for complex relationships\")"
   ]
  }
 ],
 "metadata": {
  "kaggle": {
   "accelerator": "nvidiaTeslaT4",
   "dataSources": [
    {
     "datasetId": 7735666,
     "sourceId": 12275446,
     "sourceType": "datasetVersion"
    }
   ],
   "dockerImageVersionId": 31090,
   "isGpuEnabled": true,
   "isInternetEnabled": true,
   "language": "python",
   "sourceType": "notebook"
  },
  "kernelspec": {
   "display_name": "Python 3",
   "language": "python",
   "name": "python3"
  },
  "language_info": {
   "codemirror_mode": {
    "name": "ipython",
    "version": 3
   },
   "file_extension": ".py",
   "mimetype": "text/x-python",
   "name": "python",
   "nbconvert_exporter": "python",
   "pygments_lexer": "ipython3",
   "version": "3.11.13"
  },
  "papermill": {
   "default_parameters": {},
   "duration": 3812.825917,
   "end_time": "2025-09-08T17:02:07.295378",
   "environment_variables": {},
   "exception": null,
   "input_path": "__notebook__.ipynb",
   "output_path": "__notebook__.ipynb",
   "parameters": {},
   "start_time": "2025-09-08T15:58:34.469461",
   "version": "2.6.0"
  }
 },
 "nbformat": 4,
 "nbformat_minor": 5
}
