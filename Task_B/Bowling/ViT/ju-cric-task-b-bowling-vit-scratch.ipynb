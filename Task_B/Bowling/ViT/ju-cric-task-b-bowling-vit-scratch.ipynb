{
 "cells": [
  {
   "cell_type": "code",
   "execution_count": 1,
   "id": "ebcb143d",
   "metadata": {
    "_cell_guid": "b1076dfc-b9ad-4769-8c92-a6c4dae69d19",
    "_uuid": "8f2839f25d086af736a60e9eeb907d3b93b6e0e5",
    "execution": {
     "iopub.execute_input": "2025-09-08T15:57:19.812846Z",
     "iopub.status.busy": "2025-09-08T15:57:19.812618Z",
     "iopub.status.idle": "2025-09-08T15:57:32.666119Z",
     "shell.execute_reply": "2025-09-08T15:57:32.665251Z"
    },
    "papermill": {
     "duration": 12.858663,
     "end_time": "2025-09-08T15:57:32.667536",
     "exception": false,
     "start_time": "2025-09-08T15:57:19.808873",
     "status": "completed"
    },
    "tags": []
   },
   "outputs": [
    {
     "name": "stdout",
     "output_type": "stream",
     "text": [
      "Classes: ['fast_bowl', 'spin_bowl']\n"
     ]
    }
   ],
   "source": [
    "import torch\n",
    "import torch.nn as nn\n",
    "import torch.nn.functional as F\n",
    "from torch.utils.data import DataLoader\n",
    "from torchvision import datasets, transforms\n",
    "from torchsummary import summary\n",
    "import matplotlib.pyplot as plt\n",
    "from sklearn.metrics import classification_report, confusion_matrix, accuracy_score\n",
    "import seaborn as sns\n",
    "import numpy as np\n",
    "\n",
    "# -----------------------------\n",
    "# 1. Data Preprocessing\n",
    "# -----------------------------\n",
    "data_dir = \"/kaggle/input/ju-cricket/Cricket_Dataset_final/Task_B\"\n",
    "\n",
    "transform = transforms.Compose([\n",
    "    transforms.Resize((224, 224)),\n",
    "    transforms.ToTensor(),\n",
    "    transforms.Normalize([0.485, 0.456, 0.406], \n",
    "                         [0.229, 0.224, 0.225])\n",
    "])\n",
    "\n",
    "train_ds = datasets.ImageFolder(f\"{data_dir}/train/Bowling\", transform=transform)\n",
    "val_ds   = datasets.ImageFolder(f\"{data_dir}/val/Bowling\", transform=transform)\n",
    "test_ds  = datasets.ImageFolder(f\"{data_dir}/test/Bowling\", transform=transform)\n",
    "\n",
    "train_loader = DataLoader(train_ds, batch_size=32, shuffle=True)\n",
    "val_loader   = DataLoader(val_ds, batch_size=32, shuffle=False)\n",
    "test_loader  = DataLoader(test_ds, batch_size=32, shuffle=False)\n",
    "\n",
    "classes = train_ds.classes\n",
    "print(\"Classes:\", classes)"
   ]
  },
  {
   "cell_type": "code",
   "execution_count": 2,
   "id": "c5d1c2f7",
   "metadata": {
    "execution": {
     "iopub.execute_input": "2025-09-08T15:57:32.676708Z",
     "iopub.status.busy": "2025-09-08T15:57:32.675928Z",
     "iopub.status.idle": "2025-09-08T15:57:32.680619Z",
     "shell.execute_reply": "2025-09-08T15:57:32.679934Z"
    },
    "papermill": {
     "duration": 0.008977,
     "end_time": "2025-09-08T15:57:32.681601",
     "exception": false,
     "start_time": "2025-09-08T15:57:32.672624",
     "status": "completed"
    },
    "tags": []
   },
   "outputs": [
    {
     "name": "stdout",
     "output_type": "stream",
     "text": [
      "Total training images: 1710\n",
      "Total validation images: 432\n",
      "Total test images: 549\n",
      "Total images in dataset: 2691\n"
     ]
    }
   ],
   "source": [
    "print(\"Total training images:\", len(train_ds))\n",
    "print(\"Total validation images:\", len(val_ds))\n",
    "print(\"Total test images:\", len(test_ds))\n",
    "\n",
    "total_images = len(train_ds) + len(val_ds) + len(test_ds)\n",
    "print(\"Total images in dataset:\", total_images)"
   ]
  },
  {
   "cell_type": "code",
   "execution_count": 3,
   "id": "acede3a0",
   "metadata": {
    "execution": {
     "iopub.execute_input": "2025-09-08T15:57:32.687164Z",
     "iopub.status.busy": "2025-09-08T15:57:32.686957Z",
     "iopub.status.idle": "2025-09-08T15:57:32.693540Z",
     "shell.execute_reply": "2025-09-08T15:57:32.692923Z"
    },
    "papermill": {
     "duration": 0.010461,
     "end_time": "2025-09-08T15:57:32.694492",
     "exception": false,
     "start_time": "2025-09-08T15:57:32.684031",
     "status": "completed"
    },
    "tags": []
   },
   "outputs": [
    {
     "name": "stdout",
     "output_type": "stream",
     "text": [
      "Training images (excluding 'random_occlusion'): 1520\n",
      "Validation images (excluding 'random_occlusion'): 384\n",
      "Test images (excluding 'random_occlusion'): 488\n",
      "Total images (excluding 'random_occlusion'): 2392\n"
     ]
    }
   ],
   "source": [
    "ignore_folder = \"random_occlusion\"\n",
    "\n",
    "def count_images_ignore_folder(dataset, ignore_folder):\n",
    "    count = 0\n",
    "    for img_path, label in dataset.samples:\n",
    "        # Skip if the image path contains the ignore_folder\n",
    "        if ignore_folder not in img_path.split(\"/\"):\n",
    "            count += 1\n",
    "    return count\n",
    "\n",
    "train_count = count_images_ignore_folder(train_ds, ignore_folder)\n",
    "val_count   = count_images_ignore_folder(val_ds, ignore_folder)\n",
    "test_count  = count_images_ignore_folder(test_ds, ignore_folder)\n",
    "\n",
    "total_count = train_count + val_count + test_count\n",
    "\n",
    "print(\"Training images (excluding '{}'): {}\".format(ignore_folder, train_count))\n",
    "print(\"Validation images (excluding '{}'): {}\".format(ignore_folder, val_count))\n",
    "print(\"Test images (excluding '{}'): {}\".format(ignore_folder, test_count))\n",
    "print(\"Total images (excluding '{}'): {}\".format(ignore_folder, total_count))"
   ]
  },
  {
   "cell_type": "code",
   "execution_count": 4,
   "id": "e300a6ac",
   "metadata": {
    "execution": {
     "iopub.execute_input": "2025-09-08T15:57:32.700011Z",
     "iopub.status.busy": "2025-09-08T15:57:32.699829Z",
     "iopub.status.idle": "2025-09-08T15:57:32.707265Z",
     "shell.execute_reply": "2025-09-08T15:57:32.706664Z"
    },
    "papermill": {
     "duration": 0.011265,
     "end_time": "2025-09-08T15:57:32.708234",
     "exception": false,
     "start_time": "2025-09-08T15:57:32.696969",
     "status": "completed"
    },
    "tags": []
   },
   "outputs": [
    {
     "name": "stdout",
     "output_type": "stream",
     "text": [
      "Training folders considered: {'random_occlusion', 'low_resolution', 'dirty_lens', 'original', 'blur', 'motion_blur', 'lens_flare', 'chromatic_aberration', 'gaussian_noise'}\n",
      "Validation folders considered: {'random_occlusion', 'low_resolution', 'dirty_lens', 'original', 'blur', 'motion_blur', 'lens_flare', 'chromatic_aberration', 'gaussian_noise'}\n",
      "Test folders considered: {'random_occlusion', 'low_resolution', 'dirty_lens', 'original', 'blur', 'motion_blur', 'lens_flare', 'chromatic_aberration', 'gaussian_noise'}\n"
     ]
    }
   ],
   "source": [
    "ignore_folder = \"random_occlusionw\"\n",
    "\n",
    "def get_included_folders(dataset, ignore_folder):\n",
    "    included = set()\n",
    "    for img_path, label in dataset.samples:\n",
    "        # Split the path into parts and ignore if ignore_folder is in the path\n",
    "        if ignore_folder not in img_path.split(\"/\"):\n",
    "            # The folder name just above the image (or the class folder)\n",
    "            folder_name = img_path.split(\"/\")[-2]\n",
    "            included.add(folder_name)\n",
    "    return included\n",
    "\n",
    "train_folders = get_included_folders(train_ds, ignore_folder)\n",
    "val_folders   = get_included_folders(val_ds, ignore_folder)\n",
    "test_folders  = get_included_folders(test_ds, ignore_folder)\n",
    "\n",
    "print(\"Training folders considered:\", train_folders)\n",
    "print(\"Validation folders considered:\", val_folders)\n",
    "print(\"Test folders considered:\", test_folders)"
   ]
  },
  {
   "cell_type": "code",
   "execution_count": 5,
   "id": "f0a8e00a",
   "metadata": {
    "execution": {
     "iopub.execute_input": "2025-09-08T15:57:32.714283Z",
     "iopub.status.busy": "2025-09-08T15:57:32.713753Z",
     "iopub.status.idle": "2025-09-08T15:57:32.782958Z",
     "shell.execute_reply": "2025-09-08T15:57:32.782187Z"
    },
    "papermill": {
     "duration": 0.073449,
     "end_time": "2025-09-08T15:57:32.784108",
     "exception": false,
     "start_time": "2025-09-08T15:57:32.710659",
     "status": "completed"
    },
    "tags": []
   },
   "outputs": [
    {
     "name": "stdout",
     "output_type": "stream",
     "text": [
      "Classes: ['fast_bowl', 'spin_bowl']\n",
      "Final Training images: 1520\n",
      "Final Validation images: 384\n",
      "Final Test images: 488\n",
      "Total images after filtering: 2392\n"
     ]
    }
   ],
   "source": [
    "ignore_folder = \"random_occlusion\"\n",
    "\n",
    "def filter_samples(dataset, ignore_folder):\n",
    "    # Keep only samples where ignore_folder is NOT in the path\n",
    "    filtered_samples = [s for s in dataset.samples if ignore_folder not in s[0].split(\"/\")]\n",
    "    dataset.samples = filtered_samples\n",
    "    dataset.targets = [s[1] for s in filtered_samples]  # Update targets accordingly\n",
    "    return dataset\n",
    "\n",
    "# Create original datasets\n",
    "train_ds = datasets.ImageFolder(f\"{data_dir}/train/Bowling\", transform=transform)\n",
    "val_ds   = datasets.ImageFolder(f\"{data_dir}/val/Bowling\", transform=transform)\n",
    "test_ds  = datasets.ImageFolder(f\"{data_dir}/test/Bowling\", transform=transform)\n",
    "\n",
    "# Filter out 'random_occlusion' folder\n",
    "train_ds = filter_samples(train_ds, ignore_folder)\n",
    "val_ds   = filter_samples(val_ds, ignore_folder)\n",
    "test_ds  = filter_samples(test_ds, ignore_folder)\n",
    "\n",
    "# DataLoaders\n",
    "train_loader = DataLoader(train_ds, batch_size=32, shuffle=True)\n",
    "val_loader   = DataLoader(val_ds, batch_size=32, shuffle=False)\n",
    "test_loader  = DataLoader(test_ds, batch_size=32, shuffle=False)\n",
    "\n",
    "# Classes (will remain the same)\n",
    "classes = train_ds.classes\n",
    "print(\"Classes:\", classes)\n",
    "\n",
    "# Show counts\n",
    "print(\"Final Training images:\", len(train_ds))\n",
    "print(\"Final Validation images:\", len(val_ds))\n",
    "print(\"Final Test images:\", len(test_ds))\n",
    "print(\"Total images after filtering:\", len(train_ds) + len(val_ds) + len(test_ds))"
   ]
  },
  {
   "cell_type": "code",
   "execution_count": 6,
   "id": "8f5a2807",
   "metadata": {
    "execution": {
     "iopub.execute_input": "2025-09-08T15:57:32.789707Z",
     "iopub.status.busy": "2025-09-08T15:57:32.789538Z",
     "iopub.status.idle": "2025-09-08T15:57:32.796590Z",
     "shell.execute_reply": "2025-09-08T15:57:32.796066Z"
    },
    "papermill": {
     "duration": 0.010943,
     "end_time": "2025-09-08T15:57:32.797556",
     "exception": false,
     "start_time": "2025-09-08T15:57:32.786613",
     "status": "completed"
    },
    "tags": []
   },
   "outputs": [
    {
     "name": "stdout",
     "output_type": "stream",
     "text": [
      "Training folders considered: {'low_resolution', 'dirty_lens', 'original', 'blur', 'motion_blur', 'lens_flare', 'chromatic_aberration', 'gaussian_noise'}\n",
      "Validation folders considered: {'low_resolution', 'dirty_lens', 'original', 'blur', 'motion_blur', 'lens_flare', 'chromatic_aberration', 'gaussian_noise'}\n",
      "Test folders considered: {'low_resolution', 'dirty_lens', 'original', 'blur', 'motion_blur', 'lens_flare', 'chromatic_aberration', 'gaussian_noise'}\n"
     ]
    }
   ],
   "source": [
    "ignore_folder = \"random_occlusion\"\n",
    "\n",
    "def get_included_folders(dataset, ignore_folder):\n",
    "    included = set()\n",
    "    for img_path, label in dataset.samples:\n",
    "        # Split the path into parts and ignore if ignore_folder is in the path\n",
    "        if ignore_folder not in img_path.split(\"/\"):\n",
    "            # The folder name just above the image (or the class folder)\n",
    "            folder_name = img_path.split(\"/\")[-2]\n",
    "            included.add(folder_name)\n",
    "    return included\n",
    "\n",
    "train_folders = get_included_folders(train_ds, ignore_folder)\n",
    "val_folders   = get_included_folders(val_ds, ignore_folder)\n",
    "test_folders  = get_included_folders(test_ds, ignore_folder)\n",
    "\n",
    "print(\"Training folders considered:\", train_folders)\n",
    "print(\"Validation folders considered:\", val_folders)\n",
    "print(\"Test folders considered:\", test_folders)"
   ]
  },
  {
   "cell_type": "code",
   "execution_count": 7,
   "id": "05aa2988",
   "metadata": {
    "execution": {
     "iopub.execute_input": "2025-09-08T15:57:32.803564Z",
     "iopub.status.busy": "2025-09-08T15:57:32.803370Z",
     "iopub.status.idle": "2025-09-08T15:57:32.820815Z",
     "shell.execute_reply": "2025-09-08T15:57:32.820307Z"
    },
    "papermill": {
     "duration": 0.021681,
     "end_time": "2025-09-08T15:57:32.821758",
     "exception": false,
     "start_time": "2025-09-08T15:57:32.800077",
     "status": "completed"
    },
    "tags": []
   },
   "outputs": [],
   "source": [
    "# -----------------------------\n",
    "# 2. Define Vision Transformer (ViT) Model from Scratch\n",
    "# -----------------------------\n",
    "import torch\n",
    "import torch.nn as nn\n",
    "import torch.nn.functional as F\n",
    "import numpy as np\n",
    "import matplotlib.pyplot as plt\n",
    "import seaborn as sns\n",
    "from torchsummary import summary\n",
    "from sklearn.metrics import accuracy_score, classification_report, confusion_matrix\n",
    "import pandas as pd\n",
    "from tqdm import tqdm\n",
    "import time\n",
    "import math\n",
    "\n",
    "class PatchEmbedding(nn.Module):\n",
    "    \"\"\"Patch Embedding Layer - Convert image to patches and embed them\"\"\"\n",
    "    def __init__(self, img_size=224, patch_size=16, in_channels=3, embed_dim=768):\n",
    "        super().__init__()\n",
    "        self.img_size = img_size\n",
    "        self.patch_size = patch_size\n",
    "        self.n_patches = (img_size // patch_size) ** 2\n",
    "        \n",
    "        # Use Conv2d to create patch embeddings\n",
    "        self.proj = nn.Conv2d(in_channels, embed_dim, kernel_size=patch_size, stride=patch_size)\n",
    "        \n",
    "    def forward(self, x):\n",
    "        # x shape: (B, C, H, W)\n",
    "        x = self.proj(x)  # (B, embed_dim, H', W') where H' = H/patch_size, W' = W/patch_size\n",
    "        x = x.flatten(2)  # (B, embed_dim, n_patches)\n",
    "        x = x.transpose(1, 2)  # (B, n_patches, embed_dim)\n",
    "        return x\n",
    "\n",
    "class MultiHeadAttention(nn.Module):\n",
    "    \"\"\"Multi-Head Self-Attention mechanism\"\"\"\n",
    "    def __init__(self, embed_dim=768, n_heads=12, dropout=0.1):\n",
    "        super().__init__()\n",
    "        self.embed_dim = embed_dim\n",
    "        self.n_heads = n_heads\n",
    "        self.head_dim = embed_dim // n_heads\n",
    "        assert self.head_dim * n_heads == embed_dim, \"embed_dim must be divisible by n_heads\"\n",
    "        \n",
    "        self.qkv = nn.Linear(embed_dim, embed_dim * 3)\n",
    "        self.proj = nn.Linear(embed_dim, embed_dim)\n",
    "        self.dropout = nn.Dropout(dropout)\n",
    "        \n",
    "    def forward(self, x):\n",
    "        B, N, C = x.shape\n",
    "        \n",
    "        # Generate Q, K, V\n",
    "        qkv = self.qkv(x).reshape(B, N, 3, self.n_heads, self.head_dim).permute(2, 0, 3, 1, 4)\n",
    "        q, k, v = qkv[0], qkv[1], qkv[2]  # (B, n_heads, N, head_dim)\n",
    "        \n",
    "        # Attention\n",
    "        attn = (q @ k.transpose(-2, -1)) * (self.head_dim ** -0.5)\n",
    "        attn = F.softmax(attn, dim=-1)\n",
    "        attn = self.dropout(attn)\n",
    "        \n",
    "        # Apply attention to values\n",
    "        x = (attn @ v).transpose(1, 2).reshape(B, N, C)\n",
    "        x = self.proj(x)\n",
    "        x = self.dropout(x)\n",
    "        \n",
    "        return x\n",
    "\n",
    "class MLP(nn.Module):\n",
    "    \"\"\"Multi-Layer Perceptron (Feed-Forward Network)\"\"\"\n",
    "    def __init__(self, in_features, hidden_features=None, out_features=None, dropout=0.1):\n",
    "        super().__init__()\n",
    "        out_features = out_features or in_features\n",
    "        hidden_features = hidden_features or in_features\n",
    "        \n",
    "        self.fc1 = nn.Linear(in_features, hidden_features)\n",
    "        self.act = nn.GELU()\n",
    "        self.fc2 = nn.Linear(hidden_features, out_features)\n",
    "        self.dropout = nn.Dropout(dropout)\n",
    "        \n",
    "    def forward(self, x):\n",
    "        x = self.fc1(x)\n",
    "        x = self.act(x)\n",
    "        x = self.dropout(x)\n",
    "        x = self.fc2(x)\n",
    "        x = self.dropout(x)\n",
    "        return x\n",
    "\n",
    "class TransformerBlock(nn.Module):\n",
    "    \"\"\"Transformer Encoder Block\"\"\"\n",
    "    def __init__(self, embed_dim=768, n_heads=12, mlp_ratio=4.0, dropout=0.1):\n",
    "        super().__init__()\n",
    "        self.norm1 = nn.LayerNorm(embed_dim)\n",
    "        self.attn = MultiHeadAttention(embed_dim, n_heads, dropout)\n",
    "        self.norm2 = nn.LayerNorm(embed_dim)\n",
    "        mlp_hidden_dim = int(embed_dim * mlp_ratio)\n",
    "        self.mlp = MLP(embed_dim, mlp_hidden_dim, dropout=dropout)\n",
    "        \n",
    "    def forward(self, x):\n",
    "        # Pre-norm architecture (Layer Norm before attention and MLP)\n",
    "        x = x + self.attn(self.norm1(x))\n",
    "        x = x + self.mlp(self.norm2(x))\n",
    "        return x\n",
    "\n",
    "class MyVisionTransformer(nn.Module):\n",
    "    \"\"\"Vision Transformer (ViT) Implementation from Scratch\"\"\"\n",
    "    def __init__(self, img_size=224, patch_size=16, in_channels=3, num_classes=4, \n",
    "                 embed_dim=768, depth=12, n_heads=12, mlp_ratio=4.0, dropout=0.1, \n",
    "                 emb_dropout=0.1):\n",
    "        super().__init__()\n",
    "        self.num_classes = num_classes\n",
    "        self.num_tokens = 1  # CLS token\n",
    "        self.embed_dim = embed_dim\n",
    "        \n",
    "        # Patch embedding\n",
    "        self.patch_embed = PatchEmbedding(img_size, patch_size, in_channels, embed_dim)\n",
    "        num_patches = self.patch_embed.n_patches\n",
    "        \n",
    "        # CLS token and positional embeddings\n",
    "        self.cls_token = nn.Parameter(torch.zeros(1, 1, embed_dim))\n",
    "        self.pos_embed = nn.Parameter(torch.zeros(1, num_patches + self.num_tokens, embed_dim))\n",
    "        self.pos_drop = nn.Dropout(emb_dropout)\n",
    "        \n",
    "        # Transformer blocks\n",
    "        self.blocks = nn.ModuleList([\n",
    "            TransformerBlock(embed_dim, n_heads, mlp_ratio, dropout)\n",
    "            for _ in range(depth)\n",
    "        ])\n",
    "        \n",
    "        # Classification head\n",
    "        self.norm = nn.LayerNorm(embed_dim)\n",
    "        self.head = nn.Linear(embed_dim, num_classes) if num_classes > 0 else nn.Identity()\n",
    "        \n",
    "        # Initialize weights\n",
    "        self._init_weights()\n",
    "        \n",
    "    def _init_weights(self):\n",
    "        \"\"\"Initialize weights\"\"\"\n",
    "        # Initialize positional embeddings\n",
    "        nn.init.trunc_normal_(self.pos_embed, std=0.02)\n",
    "        nn.init.trunc_normal_(self.cls_token, std=0.02)\n",
    "        \n",
    "        # Initialize other weights\n",
    "        for m in self.modules():\n",
    "            if isinstance(m, nn.Linear):\n",
    "                nn.init.trunc_normal_(m.weight, std=0.02)\n",
    "                if m.bias is not None:\n",
    "                    nn.init.constant_(m.bias, 0)\n",
    "            elif isinstance(m, nn.LayerNorm):\n",
    "                nn.init.constant_(m.bias, 0)\n",
    "                nn.init.constant_(m.weight, 1.0)\n",
    "            elif isinstance(m, nn.Conv2d):\n",
    "                nn.init.trunc_normal_(m.weight, std=0.02)\n",
    "                if m.bias is not None:\n",
    "                    nn.init.constant_(m.bias, 0)\n",
    "                    \n",
    "    def forward(self, x):\n",
    "        B = x.shape[0]\n",
    "        \n",
    "        # Create patch embeddings\n",
    "        x = self.patch_embed(x)  # (B, n_patches, embed_dim)\n",
    "        \n",
    "        # Add CLS token\n",
    "        cls_tokens = self.cls_token.expand(B, -1, -1)  # (B, 1, embed_dim)\n",
    "        x = torch.cat((cls_tokens, x), dim=1)  # (B, n_patches + 1, embed_dim)\n",
    "        \n",
    "        # Add positional embeddings\n",
    "        x = x + self.pos_embed\n",
    "        x = self.pos_drop(x)\n",
    "        \n",
    "        # Pass through transformer blocks\n",
    "        for block in self.blocks:\n",
    "            x = block(x)\n",
    "        \n",
    "        # Final layer norm and classification\n",
    "        x = self.norm(x)\n",
    "        \n",
    "        # Use CLS token for classification\n",
    "        cls_token_final = x[:, 0]  # (B, embed_dim)\n",
    "        x = self.head(cls_token_final)  # (B, num_classes)\n",
    "        \n",
    "        return x"
   ]
  },
  {
   "cell_type": "code",
   "execution_count": 8,
   "id": "d98a5d89",
   "metadata": {
    "execution": {
     "iopub.execute_input": "2025-09-08T15:57:32.827480Z",
     "iopub.status.busy": "2025-09-08T15:57:32.827284Z",
     "iopub.status.idle": "2025-09-08T15:57:35.215333Z",
     "shell.execute_reply": "2025-09-08T15:57:35.214525Z"
    },
    "papermill": {
     "duration": 2.39278,
     "end_time": "2025-09-08T15:57:35.217091",
     "exception": false,
     "start_time": "2025-09-08T15:57:32.824311",
     "status": "completed"
    },
    "tags": []
   },
   "outputs": [
    {
     "name": "stdout",
     "output_type": "stream",
     "text": [
      "Vision Transformer (ViT) Model Summary:\n",
      "----------------------------------------------------------------\n",
      "        Layer (type)               Output Shape         Param #\n",
      "================================================================\n",
      "            Conv2d-1          [-1, 768, 14, 14]         590,592\n",
      "    PatchEmbedding-2             [-1, 196, 768]               0\n",
      "           Dropout-3             [-1, 197, 768]               0\n",
      "         LayerNorm-4             [-1, 197, 768]           1,536\n",
      "            Linear-5            [-1, 197, 2304]       1,771,776\n",
      "           Dropout-6         [-1, 12, 197, 197]               0\n",
      "            Linear-7             [-1, 197, 768]         590,592\n",
      "           Dropout-8             [-1, 197, 768]               0\n",
      "MultiHeadAttention-9             [-1, 197, 768]               0\n",
      "        LayerNorm-10             [-1, 197, 768]           1,536\n",
      "           Linear-11            [-1, 197, 3072]       2,362,368\n",
      "             GELU-12            [-1, 197, 3072]               0\n",
      "          Dropout-13            [-1, 197, 3072]               0\n",
      "           Linear-14             [-1, 197, 768]       2,360,064\n",
      "          Dropout-15             [-1, 197, 768]               0\n",
      "              MLP-16             [-1, 197, 768]               0\n",
      " TransformerBlock-17             [-1, 197, 768]               0\n",
      "        LayerNorm-18             [-1, 197, 768]           1,536\n",
      "           Linear-19            [-1, 197, 2304]       1,771,776\n",
      "          Dropout-20         [-1, 12, 197, 197]               0\n",
      "           Linear-21             [-1, 197, 768]         590,592\n",
      "          Dropout-22             [-1, 197, 768]               0\n",
      "MultiHeadAttention-23             [-1, 197, 768]               0\n",
      "        LayerNorm-24             [-1, 197, 768]           1,536\n",
      "           Linear-25            [-1, 197, 3072]       2,362,368\n",
      "             GELU-26            [-1, 197, 3072]               0\n",
      "          Dropout-27            [-1, 197, 3072]               0\n",
      "           Linear-28             [-1, 197, 768]       2,360,064\n",
      "          Dropout-29             [-1, 197, 768]               0\n",
      "              MLP-30             [-1, 197, 768]               0\n",
      " TransformerBlock-31             [-1, 197, 768]               0\n",
      "        LayerNorm-32             [-1, 197, 768]           1,536\n",
      "           Linear-33            [-1, 197, 2304]       1,771,776\n",
      "          Dropout-34         [-1, 12, 197, 197]               0\n",
      "           Linear-35             [-1, 197, 768]         590,592\n",
      "          Dropout-36             [-1, 197, 768]               0\n",
      "MultiHeadAttention-37             [-1, 197, 768]               0\n",
      "        LayerNorm-38             [-1, 197, 768]           1,536\n",
      "           Linear-39            [-1, 197, 3072]       2,362,368\n",
      "             GELU-40            [-1, 197, 3072]               0\n",
      "          Dropout-41            [-1, 197, 3072]               0\n",
      "           Linear-42             [-1, 197, 768]       2,360,064\n",
      "          Dropout-43             [-1, 197, 768]               0\n",
      "              MLP-44             [-1, 197, 768]               0\n",
      " TransformerBlock-45             [-1, 197, 768]               0\n",
      "        LayerNorm-46             [-1, 197, 768]           1,536\n",
      "           Linear-47            [-1, 197, 2304]       1,771,776\n",
      "          Dropout-48         [-1, 12, 197, 197]               0\n",
      "           Linear-49             [-1, 197, 768]         590,592\n",
      "          Dropout-50             [-1, 197, 768]               0\n",
      "MultiHeadAttention-51             [-1, 197, 768]               0\n",
      "        LayerNorm-52             [-1, 197, 768]           1,536\n",
      "           Linear-53            [-1, 197, 3072]       2,362,368\n",
      "             GELU-54            [-1, 197, 3072]               0\n",
      "          Dropout-55            [-1, 197, 3072]               0\n",
      "           Linear-56             [-1, 197, 768]       2,360,064\n",
      "          Dropout-57             [-1, 197, 768]               0\n",
      "              MLP-58             [-1, 197, 768]               0\n",
      " TransformerBlock-59             [-1, 197, 768]               0\n",
      "        LayerNorm-60             [-1, 197, 768]           1,536\n",
      "           Linear-61            [-1, 197, 2304]       1,771,776\n",
      "          Dropout-62         [-1, 12, 197, 197]               0\n",
      "           Linear-63             [-1, 197, 768]         590,592\n",
      "          Dropout-64             [-1, 197, 768]               0\n",
      "MultiHeadAttention-65             [-1, 197, 768]               0\n",
      "        LayerNorm-66             [-1, 197, 768]           1,536\n",
      "           Linear-67            [-1, 197, 3072]       2,362,368\n",
      "             GELU-68            [-1, 197, 3072]               0\n",
      "          Dropout-69            [-1, 197, 3072]               0\n",
      "           Linear-70             [-1, 197, 768]       2,360,064\n",
      "          Dropout-71             [-1, 197, 768]               0\n",
      "              MLP-72             [-1, 197, 768]               0\n",
      " TransformerBlock-73             [-1, 197, 768]               0\n",
      "        LayerNorm-74             [-1, 197, 768]           1,536\n",
      "           Linear-75            [-1, 197, 2304]       1,771,776\n",
      "          Dropout-76         [-1, 12, 197, 197]               0\n",
      "           Linear-77             [-1, 197, 768]         590,592\n",
      "          Dropout-78             [-1, 197, 768]               0\n",
      "MultiHeadAttention-79             [-1, 197, 768]               0\n",
      "        LayerNorm-80             [-1, 197, 768]           1,536\n",
      "           Linear-81            [-1, 197, 3072]       2,362,368\n",
      "             GELU-82            [-1, 197, 3072]               0\n",
      "          Dropout-83            [-1, 197, 3072]               0\n",
      "           Linear-84             [-1, 197, 768]       2,360,064\n",
      "          Dropout-85             [-1, 197, 768]               0\n",
      "              MLP-86             [-1, 197, 768]               0\n",
      " TransformerBlock-87             [-1, 197, 768]               0\n",
      "        LayerNorm-88             [-1, 197, 768]           1,536\n",
      "           Linear-89            [-1, 197, 2304]       1,771,776\n",
      "          Dropout-90         [-1, 12, 197, 197]               0\n",
      "           Linear-91             [-1, 197, 768]         590,592\n",
      "          Dropout-92             [-1, 197, 768]               0\n",
      "MultiHeadAttention-93             [-1, 197, 768]               0\n",
      "        LayerNorm-94             [-1, 197, 768]           1,536\n",
      "           Linear-95            [-1, 197, 3072]       2,362,368\n",
      "             GELU-96            [-1, 197, 3072]               0\n",
      "          Dropout-97            [-1, 197, 3072]               0\n",
      "           Linear-98             [-1, 197, 768]       2,360,064\n",
      "          Dropout-99             [-1, 197, 768]               0\n",
      "             MLP-100             [-1, 197, 768]               0\n",
      "TransformerBlock-101             [-1, 197, 768]               0\n",
      "       LayerNorm-102             [-1, 197, 768]           1,536\n",
      "          Linear-103            [-1, 197, 2304]       1,771,776\n",
      "         Dropout-104         [-1, 12, 197, 197]               0\n",
      "          Linear-105             [-1, 197, 768]         590,592\n",
      "         Dropout-106             [-1, 197, 768]               0\n",
      "MultiHeadAttention-107             [-1, 197, 768]               0\n",
      "       LayerNorm-108             [-1, 197, 768]           1,536\n",
      "          Linear-109            [-1, 197, 3072]       2,362,368\n",
      "            GELU-110            [-1, 197, 3072]               0\n",
      "         Dropout-111            [-1, 197, 3072]               0\n",
      "          Linear-112             [-1, 197, 768]       2,360,064\n",
      "         Dropout-113             [-1, 197, 768]               0\n",
      "             MLP-114             [-1, 197, 768]               0\n",
      "TransformerBlock-115             [-1, 197, 768]               0\n",
      "       LayerNorm-116             [-1, 197, 768]           1,536\n",
      "          Linear-117            [-1, 197, 2304]       1,771,776\n",
      "         Dropout-118         [-1, 12, 197, 197]               0\n",
      "          Linear-119             [-1, 197, 768]         590,592\n",
      "         Dropout-120             [-1, 197, 768]               0\n",
      "MultiHeadAttention-121             [-1, 197, 768]               0\n",
      "       LayerNorm-122             [-1, 197, 768]           1,536\n",
      "          Linear-123            [-1, 197, 3072]       2,362,368\n",
      "            GELU-124            [-1, 197, 3072]               0\n",
      "         Dropout-125            [-1, 197, 3072]               0\n",
      "          Linear-126             [-1, 197, 768]       2,360,064\n",
      "         Dropout-127             [-1, 197, 768]               0\n",
      "             MLP-128             [-1, 197, 768]               0\n",
      "TransformerBlock-129             [-1, 197, 768]               0\n",
      "       LayerNorm-130             [-1, 197, 768]           1,536\n",
      "          Linear-131            [-1, 197, 2304]       1,771,776\n",
      "         Dropout-132         [-1, 12, 197, 197]               0\n",
      "          Linear-133             [-1, 197, 768]         590,592\n",
      "         Dropout-134             [-1, 197, 768]               0\n",
      "MultiHeadAttention-135             [-1, 197, 768]               0\n",
      "       LayerNorm-136             [-1, 197, 768]           1,536\n",
      "          Linear-137            [-1, 197, 3072]       2,362,368\n",
      "            GELU-138            [-1, 197, 3072]               0\n",
      "         Dropout-139            [-1, 197, 3072]               0\n",
      "          Linear-140             [-1, 197, 768]       2,360,064\n",
      "         Dropout-141             [-1, 197, 768]               0\n",
      "             MLP-142             [-1, 197, 768]               0\n",
      "TransformerBlock-143             [-1, 197, 768]               0\n",
      "       LayerNorm-144             [-1, 197, 768]           1,536\n",
      "          Linear-145            [-1, 197, 2304]       1,771,776\n",
      "         Dropout-146         [-1, 12, 197, 197]               0\n",
      "          Linear-147             [-1, 197, 768]         590,592\n",
      "         Dropout-148             [-1, 197, 768]               0\n",
      "MultiHeadAttention-149             [-1, 197, 768]               0\n",
      "       LayerNorm-150             [-1, 197, 768]           1,536\n",
      "          Linear-151            [-1, 197, 3072]       2,362,368\n",
      "            GELU-152            [-1, 197, 3072]               0\n",
      "         Dropout-153            [-1, 197, 3072]               0\n",
      "          Linear-154             [-1, 197, 768]       2,360,064\n",
      "         Dropout-155             [-1, 197, 768]               0\n",
      "             MLP-156             [-1, 197, 768]               0\n",
      "TransformerBlock-157             [-1, 197, 768]               0\n",
      "       LayerNorm-158             [-1, 197, 768]           1,536\n",
      "          Linear-159            [-1, 197, 2304]       1,771,776\n",
      "         Dropout-160         [-1, 12, 197, 197]               0\n",
      "          Linear-161             [-1, 197, 768]         590,592\n",
      "         Dropout-162             [-1, 197, 768]               0\n",
      "MultiHeadAttention-163             [-1, 197, 768]               0\n",
      "       LayerNorm-164             [-1, 197, 768]           1,536\n",
      "          Linear-165            [-1, 197, 3072]       2,362,368\n",
      "            GELU-166            [-1, 197, 3072]               0\n",
      "         Dropout-167            [-1, 197, 3072]               0\n",
      "          Linear-168             [-1, 197, 768]       2,360,064\n",
      "         Dropout-169             [-1, 197, 768]               0\n",
      "             MLP-170             [-1, 197, 768]               0\n",
      "TransformerBlock-171             [-1, 197, 768]               0\n",
      "       LayerNorm-172             [-1, 197, 768]           1,536\n",
      "          Linear-173                    [-1, 2]           1,538\n",
      "================================================================\n",
      "Total params: 85,648,130\n",
      "Trainable params: 85,648,130\n",
      "Non-trainable params: 0\n",
      "----------------------------------------------------------------\n",
      "Input size (MB): 0.57\n",
      "Forward/backward pass size (MB): 379.68\n",
      "Params size (MB): 326.72\n",
      "Estimated Total Size (MB): 706.98\n",
      "----------------------------------------------------------------\n"
     ]
    }
   ],
   "source": [
    "# -----------------------------\n",
    "# 3. Training Setup\n",
    "# -----------------------------\n",
    "device = torch.device(\"cuda\" if torch.cuda.is_available() else \"cpu\")\n",
    "\n",
    "# ViT-Base configuration\n",
    "model = MyVisionTransformer(\n",
    "    img_size=224,\n",
    "    patch_size=16,\n",
    "    in_channels=3,\n",
    "    num_classes=len(classes),\n",
    "    embed_dim=768,\n",
    "    depth=12,\n",
    "    n_heads=12,\n",
    "    mlp_ratio=4.0,\n",
    "    dropout=0.1,\n",
    "    emb_dropout=0.1\n",
    ").to(device)\n",
    "\n",
    "criterion = nn.CrossEntropyLoss()\n",
    "optimizer = torch.optim.Adam(model.parameters(), lr=0.0001, weight_decay=0.05)  # Lower LR for ViT\n",
    "\n",
    "print(\"Vision Transformer (ViT) Model Summary:\")\n",
    "try:\n",
    "    summary(model, (3, 224, 224))\n",
    "except:\n",
    "    print(\"Model summary generation failed - this is normal for complex architectures\")\n",
    "    print(f\"Model created successfully with {sum(p.numel() for p in model.parameters()):,} parameters\")"
   ]
  },
  {
   "cell_type": "code",
   "execution_count": 9,
   "id": "3eb1c3e7",
   "metadata": {
    "execution": {
     "iopub.execute_input": "2025-09-08T15:57:35.225473Z",
     "iopub.status.busy": "2025-09-08T15:57:35.225237Z",
     "iopub.status.idle": "2025-09-08T16:56:54.617252Z",
     "shell.execute_reply": "2025-09-08T16:56:54.616573Z"
    },
    "papermill": {
     "duration": 3559.399232,
     "end_time": "2025-09-08T16:56:54.620663",
     "exception": false,
     "start_time": "2025-09-08T15:57:35.221431",
     "status": "completed"
    },
    "tags": []
   },
   "outputs": [
    {
     "name": "stdout",
     "output_type": "stream",
     "text": [
      "\n",
      "🚀 Starting Vision Transformer Training for 50 epochs...\n",
      "================================================================================\n",
      "\n",
      "📈 Epoch 1/50\n",
      "--------------------------------------------------\n",
      "🔄 Training Phase...\n"
     ]
    },
    {
     "name": "stderr",
     "output_type": "stream",
     "text": [
      "Training: 100%|██████████████████████████████| 48/48 [01:09<00:00,  1.45s/it, Loss=0.7491, Acc=0.5974]\n"
     ]
    },
    {
     "name": "stdout",
     "output_type": "stream",
     "text": [
      "✅ Training completed in 69.57s\n",
      "🔍 Validation Phase...\n"
     ]
    },
    {
     "name": "stderr",
     "output_type": "stream",
     "text": [
      "Validation: 100%|██████████████████████████████| 12/12 [00:08<00:00,  1.44it/s, Loss=0.9602, Acc=0.6172]\n"
     ]
    },
    {
     "name": "stdout",
     "output_type": "stream",
     "text": [
      "✅ Validation completed in 8.37s\n",
      "🌟 New best Vision Transformer model found! Validation Accuracy: 0.6172\n",
      "\n",
      "📊 Epoch 1 Summary:\n",
      "│ Train Loss: 0.7491 | Train Acc: 0.5974\n",
      "│ Val Loss:   0.9602 | Val Acc:   0.6172\n",
      "│ Train Time: 69.57s | Val Time: 8.37s\n",
      "│ Total Epoch Time: 77.94s\n",
      "│ Best Val Acc: 0.6172 (Epoch 1)\n",
      "│ GPU Memory: 1.3GB / 6.7GB\n",
      "================================================================================\n",
      "\n",
      "📈 Epoch 2/50\n",
      "--------------------------------------------------\n",
      "🔄 Training Phase...\n"
     ]
    },
    {
     "name": "stderr",
     "output_type": "stream",
     "text": [
      "Training: 100%|██████████████████████████████| 48/48 [01:04<00:00,  1.33s/it, Loss=0.8221, Acc=0.5533]\n"
     ]
    },
    {
     "name": "stdout",
     "output_type": "stream",
     "text": [
      "✅ Training completed in 64.03s\n",
      "🔍 Validation Phase...\n"
     ]
    },
    {
     "name": "stderr",
     "output_type": "stream",
     "text": [
      "Validation: 100%|██████████████████████████████| 12/12 [00:06<00:00,  1.86it/s, Loss=0.9245, Acc=0.4323]\n"
     ]
    },
    {
     "name": "stdout",
     "output_type": "stream",
     "text": [
      "✅ Validation completed in 6.45s\n",
      "\n",
      "📊 Epoch 2 Summary:\n",
      "│ Train Loss: 0.8221 | Train Acc: 0.5533\n",
      "│ Val Loss:   0.9245 | Val Acc:   0.4323\n",
      "│ Train Time: 64.03s | Val Time: 6.45s\n",
      "│ Total Epoch Time: 70.49s\n",
      "│ Best Val Acc: 0.6172 (Epoch 1)\n",
      "│ GPU Memory: 1.3GB / 6.7GB\n",
      "================================================================================\n",
      "\n",
      "📈 Epoch 3/50\n",
      "--------------------------------------------------\n",
      "🔄 Training Phase...\n"
     ]
    },
    {
     "name": "stderr",
     "output_type": "stream",
     "text": [
      "Training: 100%|██████████████████████████████| 48/48 [01:04<00:00,  1.35s/it, Loss=0.6955, Acc=0.5974]\n"
     ]
    },
    {
     "name": "stdout",
     "output_type": "stream",
     "text": [
      "✅ Training completed in 64.77s\n",
      "🔍 Validation Phase...\n"
     ]
    },
    {
     "name": "stderr",
     "output_type": "stream",
     "text": [
      "Validation: 100%|██████████████████████████████| 12/12 [00:06<00:00,  1.85it/s, Loss=0.7249, Acc=0.6068]\n"
     ]
    },
    {
     "name": "stdout",
     "output_type": "stream",
     "text": [
      "✅ Validation completed in 6.49s\n",
      "\n",
      "📊 Epoch 3 Summary:\n",
      "│ Train Loss: 0.6955 | Train Acc: 0.5974\n",
      "│ Val Loss:   0.7249 | Val Acc:   0.6068\n",
      "│ Train Time: 64.77s | Val Time: 6.49s\n",
      "│ Total Epoch Time: 71.26s\n",
      "│ Best Val Acc: 0.6172 (Epoch 1)\n",
      "│ GPU Memory: 1.3GB / 6.7GB\n",
      "================================================================================\n",
      "\n",
      "📈 Epoch 4/50\n",
      "--------------------------------------------------\n",
      "🔄 Training Phase...\n"
     ]
    },
    {
     "name": "stderr",
     "output_type": "stream",
     "text": [
      "Training: 100%|██████████████████████████████| 48/48 [01:04<00:00,  1.34s/it, Loss=0.7282, Acc=0.5737]\n"
     ]
    },
    {
     "name": "stdout",
     "output_type": "stream",
     "text": [
      "✅ Training completed in 64.44s\n",
      "🔍 Validation Phase...\n"
     ]
    },
    {
     "name": "stderr",
     "output_type": "stream",
     "text": [
      "Validation: 100%|██████████████████████████████| 12/12 [00:06<00:00,  1.82it/s, Loss=0.8937, Acc=0.6250]\n"
     ]
    },
    {
     "name": "stdout",
     "output_type": "stream",
     "text": [
      "✅ Validation completed in 6.58s\n",
      "🌟 New best Vision Transformer model found! Validation Accuracy: 0.6250\n",
      "\n",
      "📊 Epoch 4 Summary:\n",
      "│ Train Loss: 0.7282 | Train Acc: 0.5737\n",
      "│ Val Loss:   0.8937 | Val Acc:   0.6250\n",
      "│ Train Time: 64.44s | Val Time: 6.58s\n",
      "│ Total Epoch Time: 71.03s\n",
      "│ Best Val Acc: 0.6250 (Epoch 4)\n",
      "│ GPU Memory: 1.3GB / 6.7GB\n",
      "================================================================================\n",
      "\n",
      "📈 Epoch 5/50\n",
      "--------------------------------------------------\n",
      "🔄 Training Phase...\n"
     ]
    },
    {
     "name": "stderr",
     "output_type": "stream",
     "text": [
      "Training: 100%|██████████████████████████████| 48/48 [01:04<00:00,  1.34s/it, Loss=0.7272, Acc=0.5697]\n"
     ]
    },
    {
     "name": "stdout",
     "output_type": "stream",
     "text": [
      "✅ Training completed in 64.14s\n",
      "🔍 Validation Phase...\n"
     ]
    },
    {
     "name": "stderr",
     "output_type": "stream",
     "text": [
      "Validation: 100%|██████████████████████████████| 12/12 [00:06<00:00,  1.84it/s, Loss=0.7821, Acc=0.6172]\n"
     ]
    },
    {
     "name": "stdout",
     "output_type": "stream",
     "text": [
      "✅ Validation completed in 6.52s\n",
      "\n",
      "📊 Epoch 5 Summary:\n",
      "│ Train Loss: 0.7272 | Train Acc: 0.5697\n",
      "│ Val Loss:   0.7821 | Val Acc:   0.6172\n",
      "│ Train Time: 64.14s | Val Time: 6.52s\n",
      "│ Total Epoch Time: 70.67s\n",
      "│ Best Val Acc: 0.6250 (Epoch 4)\n",
      "│ GPU Memory: 1.3GB / 6.7GB\n",
      "================================================================================\n",
      "\n",
      "📈 Epoch 6/50\n",
      "--------------------------------------------------\n",
      "🔄 Training Phase...\n"
     ]
    },
    {
     "name": "stderr",
     "output_type": "stream",
     "text": [
      "Training: 100%|██████████████████████████████| 48/48 [01:04<00:00,  1.34s/it, Loss=0.6798, Acc=0.5888]\n"
     ]
    },
    {
     "name": "stdout",
     "output_type": "stream",
     "text": [
      "✅ Training completed in 64.29s\n",
      "🔍 Validation Phase...\n"
     ]
    },
    {
     "name": "stderr",
     "output_type": "stream",
     "text": [
      "Validation: 100%|██████████████████████████████| 12/12 [00:06<00:00,  1.86it/s, Loss=1.0326, Acc=0.4062]\n"
     ]
    },
    {
     "name": "stdout",
     "output_type": "stream",
     "text": [
      "✅ Validation completed in 6.47s\n",
      "\n",
      "📊 Epoch 6 Summary:\n",
      "│ Train Loss: 0.6798 | Train Acc: 0.5888\n",
      "│ Val Loss:   1.0326 | Val Acc:   0.4062\n",
      "│ Train Time: 64.29s | Val Time: 6.47s\n",
      "│ Total Epoch Time: 70.77s\n",
      "│ Best Val Acc: 0.6250 (Epoch 4)\n",
      "│ GPU Memory: 1.3GB / 6.7GB\n",
      "================================================================================\n",
      "\n",
      "📈 Epoch 7/50\n",
      "--------------------------------------------------\n",
      "🔄 Training Phase...\n"
     ]
    },
    {
     "name": "stderr",
     "output_type": "stream",
     "text": [
      "Training: 100%|██████████████████████████████| 48/48 [01:04<00:00,  1.34s/it, Loss=0.7048, Acc=0.5658]\n"
     ]
    },
    {
     "name": "stdout",
     "output_type": "stream",
     "text": [
      "✅ Training completed in 64.19s\n",
      "🔍 Validation Phase...\n"
     ]
    },
    {
     "name": "stderr",
     "output_type": "stream",
     "text": [
      "Validation: 100%|██████████████████████████████| 12/12 [00:06<00:00,  1.82it/s, Loss=0.6730, Acc=0.6224]\n"
     ]
    },
    {
     "name": "stdout",
     "output_type": "stream",
     "text": [
      "✅ Validation completed in 6.60s\n",
      "\n",
      "📊 Epoch 7 Summary:\n",
      "│ Train Loss: 0.7048 | Train Acc: 0.5658\n",
      "│ Val Loss:   0.6730 | Val Acc:   0.6224\n",
      "│ Train Time: 64.19s | Val Time: 6.60s\n",
      "│ Total Epoch Time: 70.79s\n",
      "│ Best Val Acc: 0.6250 (Epoch 4)\n",
      "│ GPU Memory: 1.3GB / 6.7GB\n",
      "================================================================================\n",
      "\n",
      "📈 Epoch 8/50\n",
      "--------------------------------------------------\n",
      "🔄 Training Phase...\n"
     ]
    },
    {
     "name": "stderr",
     "output_type": "stream",
     "text": [
      "Training: 100%|██████████████████████████████| 48/48 [01:04<00:00,  1.34s/it, Loss=0.6974, Acc=0.5763]\n"
     ]
    },
    {
     "name": "stdout",
     "output_type": "stream",
     "text": [
      "✅ Training completed in 64.35s\n",
      "🔍 Validation Phase...\n"
     ]
    },
    {
     "name": "stderr",
     "output_type": "stream",
     "text": [
      "Validation: 100%|██████████████████████████████| 12/12 [00:06<00:00,  1.85it/s, Loss=0.8668, Acc=0.6250]\n"
     ]
    },
    {
     "name": "stdout",
     "output_type": "stream",
     "text": [
      "✅ Validation completed in 6.49s\n",
      "\n",
      "📊 Epoch 8 Summary:\n",
      "│ Train Loss: 0.6974 | Train Acc: 0.5763\n",
      "│ Val Loss:   0.8668 | Val Acc:   0.6250\n",
      "│ Train Time: 64.35s | Val Time: 6.49s\n",
      "│ Total Epoch Time: 70.83s\n",
      "│ Best Val Acc: 0.6250 (Epoch 4)\n",
      "│ GPU Memory: 1.3GB / 6.7GB\n",
      "================================================================================\n",
      "\n",
      "📈 Epoch 9/50\n",
      "--------------------------------------------------\n",
      "🔄 Training Phase...\n"
     ]
    },
    {
     "name": "stderr",
     "output_type": "stream",
     "text": [
      "Training: 100%|██████████████████████████████| 48/48 [01:03<00:00,  1.33s/it, Loss=0.7023, Acc=0.5967]\n"
     ]
    },
    {
     "name": "stdout",
     "output_type": "stream",
     "text": [
      "✅ Training completed in 63.91s\n",
      "🔍 Validation Phase...\n"
     ]
    },
    {
     "name": "stderr",
     "output_type": "stream",
     "text": [
      "Validation: 100%|██████████████████████████████| 12/12 [00:06<00:00,  1.83it/s, Loss=0.8242, Acc=0.6250]\n"
     ]
    },
    {
     "name": "stdout",
     "output_type": "stream",
     "text": [
      "✅ Validation completed in 6.55s\n",
      "\n",
      "📊 Epoch 9 Summary:\n",
      "│ Train Loss: 0.7023 | Train Acc: 0.5967\n",
      "│ Val Loss:   0.8242 | Val Acc:   0.6250\n",
      "│ Train Time: 63.91s | Val Time: 6.55s\n",
      "│ Total Epoch Time: 70.46s\n",
      "│ Best Val Acc: 0.6250 (Epoch 4)\n",
      "│ GPU Memory: 1.3GB / 6.7GB\n",
      "================================================================================\n",
      "\n",
      "📈 Epoch 10/50\n",
      "--------------------------------------------------\n",
      "🔄 Training Phase...\n"
     ]
    },
    {
     "name": "stderr",
     "output_type": "stream",
     "text": [
      "Training: 100%|██████████████████████████████| 48/48 [01:04<00:00,  1.34s/it, Loss=0.6886, Acc=0.5829]\n"
     ]
    },
    {
     "name": "stdout",
     "output_type": "stream",
     "text": [
      "✅ Training completed in 64.28s\n",
      "🔍 Validation Phase...\n"
     ]
    },
    {
     "name": "stderr",
     "output_type": "stream",
     "text": [
      "Validation: 100%|██████████████████████████████| 12/12 [00:06<00:00,  1.84it/s, Loss=0.7238, Acc=0.4922]\n"
     ]
    },
    {
     "name": "stdout",
     "output_type": "stream",
     "text": [
      "✅ Validation completed in 6.52s\n",
      "\n",
      "📊 Epoch 10 Summary:\n",
      "│ Train Loss: 0.6886 | Train Acc: 0.5829\n",
      "│ Val Loss:   0.7238 | Val Acc:   0.4922\n",
      "│ Train Time: 64.28s | Val Time: 6.52s\n",
      "│ Total Epoch Time: 70.80s\n",
      "│ Best Val Acc: 0.6250 (Epoch 4)\n",
      "│ GPU Memory: 1.3GB / 6.7GB\n",
      "================================================================================\n",
      "\n",
      "📈 Epoch 11/50\n",
      "--------------------------------------------------\n",
      "🔄 Training Phase...\n"
     ]
    },
    {
     "name": "stderr",
     "output_type": "stream",
     "text": [
      "Training: 100%|██████████████████████████████| 48/48 [01:04<00:00,  1.34s/it, Loss=0.6767, Acc=0.5789]\n"
     ]
    },
    {
     "name": "stdout",
     "output_type": "stream",
     "text": [
      "✅ Training completed in 64.17s\n",
      "🔍 Validation Phase...\n"
     ]
    },
    {
     "name": "stderr",
     "output_type": "stream",
     "text": [
      "Validation: 100%|██████████████████████████████| 12/12 [00:06<00:00,  1.85it/s, Loss=0.6854, Acc=0.6198]\n"
     ]
    },
    {
     "name": "stdout",
     "output_type": "stream",
     "text": [
      "✅ Validation completed in 6.49s\n",
      "\n",
      "📊 Epoch 11 Summary:\n",
      "│ Train Loss: 0.6767 | Train Acc: 0.5789\n",
      "│ Val Loss:   0.6854 | Val Acc:   0.6198\n",
      "│ Train Time: 64.17s | Val Time: 6.49s\n",
      "│ Total Epoch Time: 70.67s\n",
      "│ Best Val Acc: 0.6250 (Epoch 4)\n",
      "│ GPU Memory: 1.3GB / 6.7GB\n",
      "================================================================================\n",
      "\n",
      "📈 Epoch 12/50\n",
      "--------------------------------------------------\n",
      "🔄 Training Phase...\n"
     ]
    },
    {
     "name": "stderr",
     "output_type": "stream",
     "text": [
      "Training: 100%|██████████████████████████████| 48/48 [01:04<00:00,  1.34s/it, Loss=0.6652, Acc=0.5803]\n"
     ]
    },
    {
     "name": "stdout",
     "output_type": "stream",
     "text": [
      "✅ Training completed in 64.13s\n",
      "🔍 Validation Phase...\n"
     ]
    },
    {
     "name": "stderr",
     "output_type": "stream",
     "text": [
      "Validation: 100%|██████████████████████████████| 12/12 [00:06<00:00,  1.86it/s, Loss=0.7369, Acc=0.5781]\n"
     ]
    },
    {
     "name": "stdout",
     "output_type": "stream",
     "text": [
      "✅ Validation completed in 6.47s\n",
      "\n",
      "📊 Epoch 12 Summary:\n",
      "│ Train Loss: 0.6652 | Train Acc: 0.5803\n",
      "│ Val Loss:   0.7369 | Val Acc:   0.5781\n",
      "│ Train Time: 64.13s | Val Time: 6.47s\n",
      "│ Total Epoch Time: 70.60s\n",
      "│ Best Val Acc: 0.6250 (Epoch 4)\n",
      "│ GPU Memory: 1.3GB / 6.7GB\n",
      "================================================================================\n",
      "\n",
      "📈 Epoch 13/50\n",
      "--------------------------------------------------\n",
      "🔄 Training Phase...\n"
     ]
    },
    {
     "name": "stderr",
     "output_type": "stream",
     "text": [
      "Training: 100%|██████████████████████████████| 48/48 [01:04<00:00,  1.33s/it, Loss=0.6586, Acc=0.5987]\n"
     ]
    },
    {
     "name": "stdout",
     "output_type": "stream",
     "text": [
      "✅ Training completed in 64.02s\n",
      "🔍 Validation Phase...\n"
     ]
    },
    {
     "name": "stderr",
     "output_type": "stream",
     "text": [
      "Validation: 100%|██████████████████████████████| 12/12 [00:06<00:00,  1.84it/s, Loss=0.6916, Acc=0.6250]\n"
     ]
    },
    {
     "name": "stdout",
     "output_type": "stream",
     "text": [
      "✅ Validation completed in 6.52s\n",
      "\n",
      "📊 Epoch 13 Summary:\n",
      "│ Train Loss: 0.6586 | Train Acc: 0.5987\n",
      "│ Val Loss:   0.6916 | Val Acc:   0.6250\n",
      "│ Train Time: 64.02s | Val Time: 6.52s\n",
      "│ Total Epoch Time: 70.54s\n",
      "│ Best Val Acc: 0.6250 (Epoch 4)\n",
      "│ GPU Memory: 1.3GB / 6.7GB\n",
      "================================================================================\n",
      "\n",
      "📈 Epoch 14/50\n",
      "--------------------------------------------------\n",
      "🔄 Training Phase...\n"
     ]
    },
    {
     "name": "stderr",
     "output_type": "stream",
     "text": [
      "Training: 100%|██████████████████████████████| 48/48 [01:03<00:00,  1.33s/it, Loss=0.6474, Acc=0.6020]\n"
     ]
    },
    {
     "name": "stdout",
     "output_type": "stream",
     "text": [
      "✅ Training completed in 63.98s\n",
      "🔍 Validation Phase...\n"
     ]
    },
    {
     "name": "stderr",
     "output_type": "stream",
     "text": [
      "Validation: 100%|██████████████████████████████| 12/12 [00:06<00:00,  1.86it/s, Loss=0.7009, Acc=0.6250]\n"
     ]
    },
    {
     "name": "stdout",
     "output_type": "stream",
     "text": [
      "✅ Validation completed in 6.44s\n",
      "\n",
      "📊 Epoch 14 Summary:\n",
      "│ Train Loss: 0.6474 | Train Acc: 0.6020\n",
      "│ Val Loss:   0.7009 | Val Acc:   0.6250\n",
      "│ Train Time: 63.98s | Val Time: 6.44s\n",
      "│ Total Epoch Time: 70.43s\n",
      "│ Best Val Acc: 0.6250 (Epoch 4)\n",
      "│ GPU Memory: 1.3GB / 6.7GB\n",
      "================================================================================\n",
      "\n",
      "📈 Epoch 15/50\n",
      "--------------------------------------------------\n",
      "🔄 Training Phase...\n"
     ]
    },
    {
     "name": "stderr",
     "output_type": "stream",
     "text": [
      "Training: 100%|██████████████████████████████| 48/48 [01:04<00:00,  1.34s/it, Loss=0.6642, Acc=0.5961]\n"
     ]
    },
    {
     "name": "stdout",
     "output_type": "stream",
     "text": [
      "✅ Training completed in 64.14s\n",
      "🔍 Validation Phase...\n"
     ]
    },
    {
     "name": "stderr",
     "output_type": "stream",
     "text": [
      "Validation: 100%|██████████████████████████████| 12/12 [00:06<00:00,  1.87it/s, Loss=0.8212, Acc=0.4323]\n"
     ]
    },
    {
     "name": "stdout",
     "output_type": "stream",
     "text": [
      "✅ Validation completed in 6.42s\n",
      "\n",
      "📊 Epoch 15 Summary:\n",
      "│ Train Loss: 0.6642 | Train Acc: 0.5961\n",
      "│ Val Loss:   0.8212 | Val Acc:   0.4323\n",
      "│ Train Time: 64.14s | Val Time: 6.42s\n",
      "│ Total Epoch Time: 70.56s\n",
      "│ Best Val Acc: 0.6250 (Epoch 4)\n",
      "│ GPU Memory: 1.3GB / 6.7GB\n",
      "================================================================================\n",
      "\n",
      "📈 Epoch 16/50\n",
      "--------------------------------------------------\n",
      "🔄 Training Phase...\n"
     ]
    },
    {
     "name": "stderr",
     "output_type": "stream",
     "text": [
      "Training: 100%|██████████████████████████████| 48/48 [01:04<00:00,  1.34s/it, Loss=0.6472, Acc=0.6178]\n"
     ]
    },
    {
     "name": "stdout",
     "output_type": "stream",
     "text": [
      "✅ Training completed in 64.27s\n",
      "🔍 Validation Phase...\n"
     ]
    },
    {
     "name": "stderr",
     "output_type": "stream",
     "text": [
      "Validation: 100%|██████████████████████████████| 12/12 [00:06<00:00,  1.84it/s, Loss=0.7666, Acc=0.5911]\n"
     ]
    },
    {
     "name": "stdout",
     "output_type": "stream",
     "text": [
      "✅ Validation completed in 6.53s\n",
      "\n",
      "📊 Epoch 16 Summary:\n",
      "│ Train Loss: 0.6472 | Train Acc: 0.6178\n",
      "│ Val Loss:   0.7666 | Val Acc:   0.5911\n",
      "│ Train Time: 64.27s | Val Time: 6.53s\n",
      "│ Total Epoch Time: 70.80s\n",
      "│ Best Val Acc: 0.6250 (Epoch 4)\n",
      "│ GPU Memory: 1.3GB / 6.7GB\n",
      "================================================================================\n",
      "\n",
      "📈 Epoch 17/50\n",
      "--------------------------------------------------\n",
      "🔄 Training Phase...\n"
     ]
    },
    {
     "name": "stderr",
     "output_type": "stream",
     "text": [
      "Training: 100%|██████████████████████████████| 48/48 [01:04<00:00,  1.34s/it, Loss=0.6478, Acc=0.6053]\n"
     ]
    },
    {
     "name": "stdout",
     "output_type": "stream",
     "text": [
      "✅ Training completed in 64.33s\n",
      "🔍 Validation Phase...\n"
     ]
    },
    {
     "name": "stderr",
     "output_type": "stream",
     "text": [
      "Validation: 100%|██████████████████████████████| 12/12 [00:06<00:00,  1.83it/s, Loss=0.7572, Acc=0.6250]\n"
     ]
    },
    {
     "name": "stdout",
     "output_type": "stream",
     "text": [
      "✅ Validation completed in 6.56s\n",
      "\n",
      "📊 Epoch 17 Summary:\n",
      "│ Train Loss: 0.6478 | Train Acc: 0.6053\n",
      "│ Val Loss:   0.7572 | Val Acc:   0.6250\n",
      "│ Train Time: 64.33s | Val Time: 6.56s\n",
      "│ Total Epoch Time: 70.89s\n",
      "│ Best Val Acc: 0.6250 (Epoch 4)\n",
      "│ GPU Memory: 1.3GB / 6.7GB\n",
      "================================================================================\n",
      "\n",
      "📈 Epoch 18/50\n",
      "--------------------------------------------------\n",
      "🔄 Training Phase...\n"
     ]
    },
    {
     "name": "stderr",
     "output_type": "stream",
     "text": [
      "Training: 100%|██████████████████████████████| 48/48 [01:04<00:00,  1.34s/it, Loss=0.6365, Acc=0.6125]\n"
     ]
    },
    {
     "name": "stdout",
     "output_type": "stream",
     "text": [
      "✅ Training completed in 64.41s\n",
      "🔍 Validation Phase...\n"
     ]
    },
    {
     "name": "stderr",
     "output_type": "stream",
     "text": [
      "Validation: 100%|██████████████████████████████| 12/12 [00:06<00:00,  1.85it/s, Loss=0.7421, Acc=0.6250]\n"
     ]
    },
    {
     "name": "stdout",
     "output_type": "stream",
     "text": [
      "✅ Validation completed in 6.48s\n",
      "\n",
      "📊 Epoch 18 Summary:\n",
      "│ Train Loss: 0.6365 | Train Acc: 0.6125\n",
      "│ Val Loss:   0.7421 | Val Acc:   0.6250\n",
      "│ Train Time: 64.41s | Val Time: 6.48s\n",
      "│ Total Epoch Time: 70.89s\n",
      "│ Best Val Acc: 0.6250 (Epoch 4)\n",
      "│ GPU Memory: 1.3GB / 6.7GB\n",
      "================================================================================\n",
      "\n",
      "📈 Epoch 19/50\n",
      "--------------------------------------------------\n",
      "🔄 Training Phase...\n"
     ]
    },
    {
     "name": "stderr",
     "output_type": "stream",
     "text": [
      "Training: 100%|██████████████████████████████| 48/48 [01:04<00:00,  1.34s/it, Loss=0.6419, Acc=0.6007]\n"
     ]
    },
    {
     "name": "stdout",
     "output_type": "stream",
     "text": [
      "✅ Training completed in 64.46s\n",
      "🔍 Validation Phase...\n"
     ]
    },
    {
     "name": "stderr",
     "output_type": "stream",
     "text": [
      "Validation: 100%|██████████████████████████████| 12/12 [00:06<00:00,  1.86it/s, Loss=0.6581, Acc=0.6224]\n"
     ]
    },
    {
     "name": "stdout",
     "output_type": "stream",
     "text": [
      "✅ Validation completed in 6.45s\n",
      "\n",
      "📊 Epoch 19 Summary:\n",
      "│ Train Loss: 0.6419 | Train Acc: 0.6007\n",
      "│ Val Loss:   0.6581 | Val Acc:   0.6224\n",
      "│ Train Time: 64.46s | Val Time: 6.45s\n",
      "│ Total Epoch Time: 70.91s\n",
      "│ Best Val Acc: 0.6250 (Epoch 4)\n",
      "│ GPU Memory: 1.3GB / 6.7GB\n",
      "================================================================================\n",
      "\n",
      "📈 Epoch 20/50\n",
      "--------------------------------------------------\n",
      "🔄 Training Phase...\n"
     ]
    },
    {
     "name": "stderr",
     "output_type": "stream",
     "text": [
      "Training: 100%|██████████████████████████████| 48/48 [01:04<00:00,  1.34s/it, Loss=0.6419, Acc=0.6151]\n"
     ]
    },
    {
     "name": "stdout",
     "output_type": "stream",
     "text": [
      "✅ Training completed in 64.38s\n",
      "🔍 Validation Phase...\n"
     ]
    },
    {
     "name": "stderr",
     "output_type": "stream",
     "text": [
      "Validation: 100%|██████████████████████████████| 12/12 [00:06<00:00,  1.86it/s, Loss=0.7421, Acc=0.6250]\n"
     ]
    },
    {
     "name": "stdout",
     "output_type": "stream",
     "text": [
      "✅ Validation completed in 6.46s\n",
      "\n",
      "📊 Epoch 20 Summary:\n",
      "│ Train Loss: 0.6419 | Train Acc: 0.6151\n",
      "│ Val Loss:   0.7421 | Val Acc:   0.6250\n",
      "│ Train Time: 64.38s | Val Time: 6.46s\n",
      "│ Total Epoch Time: 70.85s\n",
      "│ Best Val Acc: 0.6250 (Epoch 4)\n",
      "│ GPU Memory: 1.3GB / 6.7GB\n",
      "================================================================================\n",
      "\n",
      "📈 Epoch 21/50\n",
      "--------------------------------------------------\n",
      "🔄 Training Phase...\n"
     ]
    },
    {
     "name": "stderr",
     "output_type": "stream",
     "text": [
      "Training: 100%|██████████████████████████████| 48/48 [01:04<00:00,  1.34s/it, Loss=0.6458, Acc=0.6145]\n"
     ]
    },
    {
     "name": "stdout",
     "output_type": "stream",
     "text": [
      "✅ Training completed in 64.42s\n",
      "🔍 Validation Phase...\n"
     ]
    },
    {
     "name": "stderr",
     "output_type": "stream",
     "text": [
      "Validation: 100%|██████████████████████████████| 12/12 [00:06<00:00,  1.85it/s, Loss=0.7005, Acc=0.6250]\n"
     ]
    },
    {
     "name": "stdout",
     "output_type": "stream",
     "text": [
      "✅ Validation completed in 6.51s\n",
      "\n",
      "📊 Epoch 21 Summary:\n",
      "│ Train Loss: 0.6458 | Train Acc: 0.6145\n",
      "│ Val Loss:   0.7005 | Val Acc:   0.6250\n",
      "│ Train Time: 64.42s | Val Time: 6.51s\n",
      "│ Total Epoch Time: 70.93s\n",
      "│ Best Val Acc: 0.6250 (Epoch 4)\n",
      "│ GPU Memory: 1.3GB / 6.7GB\n",
      "================================================================================\n",
      "\n",
      "📈 Epoch 22/50\n",
      "--------------------------------------------------\n",
      "🔄 Training Phase...\n"
     ]
    },
    {
     "name": "stderr",
     "output_type": "stream",
     "text": [
      "Training: 100%|██████████████████████████████| 48/48 [01:04<00:00,  1.34s/it, Loss=0.6352, Acc=0.6000]\n"
     ]
    },
    {
     "name": "stdout",
     "output_type": "stream",
     "text": [
      "✅ Training completed in 64.27s\n",
      "🔍 Validation Phase...\n"
     ]
    },
    {
     "name": "stderr",
     "output_type": "stream",
     "text": [
      "Validation: 100%|██████████████████████████████| 12/12 [00:06<00:00,  1.84it/s, Loss=0.6960, Acc=0.6250]\n"
     ]
    },
    {
     "name": "stdout",
     "output_type": "stream",
     "text": [
      "✅ Validation completed in 6.54s\n",
      "\n",
      "📊 Epoch 22 Summary:\n",
      "│ Train Loss: 0.6352 | Train Acc: 0.6000\n",
      "│ Val Loss:   0.6960 | Val Acc:   0.6250\n",
      "│ Train Time: 64.27s | Val Time: 6.54s\n",
      "│ Total Epoch Time: 70.81s\n",
      "│ Best Val Acc: 0.6250 (Epoch 4)\n",
      "│ GPU Memory: 1.3GB / 6.7GB\n",
      "================================================================================\n",
      "\n",
      "📈 Epoch 23/50\n",
      "--------------------------------------------------\n",
      "🔄 Training Phase...\n"
     ]
    },
    {
     "name": "stderr",
     "output_type": "stream",
     "text": [
      "Training: 100%|██████████████████████████████| 48/48 [01:04<00:00,  1.34s/it, Loss=0.6240, Acc=0.6184]\n"
     ]
    },
    {
     "name": "stdout",
     "output_type": "stream",
     "text": [
      "✅ Training completed in 64.25s\n",
      "🔍 Validation Phase...\n"
     ]
    },
    {
     "name": "stderr",
     "output_type": "stream",
     "text": [
      "Validation: 100%|██████████████████████████████| 12/12 [00:06<00:00,  1.86it/s, Loss=0.7328, Acc=0.6250]\n"
     ]
    },
    {
     "name": "stdout",
     "output_type": "stream",
     "text": [
      "✅ Validation completed in 6.45s\n",
      "\n",
      "📊 Epoch 23 Summary:\n",
      "│ Train Loss: 0.6240 | Train Acc: 0.6184\n",
      "│ Val Loss:   0.7328 | Val Acc:   0.6250\n",
      "│ Train Time: 64.25s | Val Time: 6.45s\n",
      "│ Total Epoch Time: 70.70s\n",
      "│ Best Val Acc: 0.6250 (Epoch 4)\n",
      "│ GPU Memory: 1.3GB / 6.7GB\n",
      "================================================================================\n",
      "\n",
      "📈 Epoch 24/50\n",
      "--------------------------------------------------\n",
      "🔄 Training Phase...\n"
     ]
    },
    {
     "name": "stderr",
     "output_type": "stream",
     "text": [
      "Training: 100%|██████████████████████████████| 48/48 [01:04<00:00,  1.34s/it, Loss=0.6344, Acc=0.6164]\n"
     ]
    },
    {
     "name": "stdout",
     "output_type": "stream",
     "text": [
      "✅ Training completed in 64.39s\n",
      "🔍 Validation Phase...\n"
     ]
    },
    {
     "name": "stderr",
     "output_type": "stream",
     "text": [
      "Validation: 100%|██████████████████████████████| 12/12 [00:06<00:00,  1.86it/s, Loss=0.7245, Acc=0.6250]\n"
     ]
    },
    {
     "name": "stdout",
     "output_type": "stream",
     "text": [
      "✅ Validation completed in 6.44s\n",
      "\n",
      "📊 Epoch 24 Summary:\n",
      "│ Train Loss: 0.6344 | Train Acc: 0.6164\n",
      "│ Val Loss:   0.7245 | Val Acc:   0.6250\n",
      "│ Train Time: 64.39s | Val Time: 6.44s\n",
      "│ Total Epoch Time: 70.84s\n",
      "│ Best Val Acc: 0.6250 (Epoch 4)\n",
      "│ GPU Memory: 1.3GB / 6.7GB\n",
      "================================================================================\n",
      "\n",
      "📈 Epoch 25/50\n",
      "--------------------------------------------------\n",
      "🔄 Training Phase...\n"
     ]
    },
    {
     "name": "stderr",
     "output_type": "stream",
     "text": [
      "Training: 100%|██████████████████████████████| 48/48 [01:04<00:00,  1.34s/it, Loss=0.6324, Acc=0.6224]\n"
     ]
    },
    {
     "name": "stdout",
     "output_type": "stream",
     "text": [
      "✅ Training completed in 64.22s\n",
      "🔍 Validation Phase...\n"
     ]
    },
    {
     "name": "stderr",
     "output_type": "stream",
     "text": [
      "Validation: 100%|██████████████████████████████| 12/12 [00:06<00:00,  1.88it/s, Loss=0.7688, Acc=0.6250]\n"
     ]
    },
    {
     "name": "stdout",
     "output_type": "stream",
     "text": [
      "✅ Validation completed in 6.38s\n",
      "\n",
      "📊 Epoch 25 Summary:\n",
      "│ Train Loss: 0.6324 | Train Acc: 0.6224\n",
      "│ Val Loss:   0.7688 | Val Acc:   0.6250\n",
      "│ Train Time: 64.22s | Val Time: 6.38s\n",
      "│ Total Epoch Time: 70.60s\n",
      "│ Best Val Acc: 0.6250 (Epoch 4)\n",
      "│ GPU Memory: 1.3GB / 6.7GB\n",
      "================================================================================\n",
      "\n",
      "📈 Epoch 26/50\n",
      "--------------------------------------------------\n",
      "🔄 Training Phase...\n"
     ]
    },
    {
     "name": "stderr",
     "output_type": "stream",
     "text": [
      "Training: 100%|██████████████████████████████| 48/48 [01:04<00:00,  1.33s/it, Loss=0.6347, Acc=0.6204]\n"
     ]
    },
    {
     "name": "stdout",
     "output_type": "stream",
     "text": [
      "✅ Training completed in 64.08s\n",
      "🔍 Validation Phase...\n"
     ]
    },
    {
     "name": "stderr",
     "output_type": "stream",
     "text": [
      "Validation: 100%|██████████████████████████████| 12/12 [00:06<00:00,  1.86it/s, Loss=0.7501, Acc=0.6250]\n"
     ]
    },
    {
     "name": "stdout",
     "output_type": "stream",
     "text": [
      "✅ Validation completed in 6.47s\n",
      "\n",
      "📊 Epoch 26 Summary:\n",
      "│ Train Loss: 0.6347 | Train Acc: 0.6204\n",
      "│ Val Loss:   0.7501 | Val Acc:   0.6250\n",
      "│ Train Time: 64.08s | Val Time: 6.47s\n",
      "│ Total Epoch Time: 70.56s\n",
      "│ Best Val Acc: 0.6250 (Epoch 4)\n",
      "│ GPU Memory: 1.3GB / 6.7GB\n",
      "================================================================================\n",
      "\n",
      "📈 Epoch 27/50\n",
      "--------------------------------------------------\n",
      "🔄 Training Phase...\n"
     ]
    },
    {
     "name": "stderr",
     "output_type": "stream",
     "text": [
      "Training: 100%|██████████████████████████████| 48/48 [01:03<00:00,  1.33s/it, Loss=0.6302, Acc=0.6217]\n"
     ]
    },
    {
     "name": "stdout",
     "output_type": "stream",
     "text": [
      "✅ Training completed in 63.96s\n",
      "🔍 Validation Phase...\n"
     ]
    },
    {
     "name": "stderr",
     "output_type": "stream",
     "text": [
      "Validation: 100%|██████████████████████████████| 12/12 [00:06<00:00,  1.86it/s, Loss=0.7711, Acc=0.6224]\n"
     ]
    },
    {
     "name": "stdout",
     "output_type": "stream",
     "text": [
      "✅ Validation completed in 6.47s\n",
      "\n",
      "📊 Epoch 27 Summary:\n",
      "│ Train Loss: 0.6302 | Train Acc: 0.6217\n",
      "│ Val Loss:   0.7711 | Val Acc:   0.6224\n",
      "│ Train Time: 63.96s | Val Time: 6.47s\n",
      "│ Total Epoch Time: 70.43s\n",
      "│ Best Val Acc: 0.6250 (Epoch 4)\n",
      "│ GPU Memory: 1.3GB / 6.7GB\n",
      "================================================================================\n",
      "\n",
      "📈 Epoch 28/50\n",
      "--------------------------------------------------\n",
      "🔄 Training Phase...\n"
     ]
    },
    {
     "name": "stderr",
     "output_type": "stream",
     "text": [
      "Training: 100%|██████████████████████████████| 48/48 [01:04<00:00,  1.34s/it, Loss=0.6299, Acc=0.6184]\n"
     ]
    },
    {
     "name": "stdout",
     "output_type": "stream",
     "text": [
      "✅ Training completed in 64.15s\n",
      "🔍 Validation Phase...\n"
     ]
    },
    {
     "name": "stderr",
     "output_type": "stream",
     "text": [
      "Validation: 100%|██████████████████████████████| 12/12 [00:06<00:00,  1.85it/s, Loss=0.7770, Acc=0.6250]\n"
     ]
    },
    {
     "name": "stdout",
     "output_type": "stream",
     "text": [
      "✅ Validation completed in 6.50s\n",
      "\n",
      "📊 Epoch 28 Summary:\n",
      "│ Train Loss: 0.6299 | Train Acc: 0.6184\n",
      "│ Val Loss:   0.7770 | Val Acc:   0.6250\n",
      "│ Train Time: 64.15s | Val Time: 6.50s\n",
      "│ Total Epoch Time: 70.66s\n",
      "│ Best Val Acc: 0.6250 (Epoch 4)\n",
      "│ GPU Memory: 1.3GB / 6.7GB\n",
      "================================================================================\n",
      "\n",
      "📈 Epoch 29/50\n",
      "--------------------------------------------------\n",
      "🔄 Training Phase...\n"
     ]
    },
    {
     "name": "stderr",
     "output_type": "stream",
     "text": [
      "Training: 100%|██████████████████████████████| 48/48 [01:04<00:00,  1.34s/it, Loss=0.6268, Acc=0.6145]\n"
     ]
    },
    {
     "name": "stdout",
     "output_type": "stream",
     "text": [
      "✅ Training completed in 64.44s\n",
      "🔍 Validation Phase...\n"
     ]
    },
    {
     "name": "stderr",
     "output_type": "stream",
     "text": [
      "Validation: 100%|██████████████████████████████| 12/12 [00:06<00:00,  1.84it/s, Loss=0.7389, Acc=0.6250]\n"
     ]
    },
    {
     "name": "stdout",
     "output_type": "stream",
     "text": [
      "✅ Validation completed in 6.54s\n",
      "\n",
      "📊 Epoch 29 Summary:\n",
      "│ Train Loss: 0.6268 | Train Acc: 0.6145\n",
      "│ Val Loss:   0.7389 | Val Acc:   0.6250\n",
      "│ Train Time: 64.44s | Val Time: 6.54s\n",
      "│ Total Epoch Time: 70.98s\n",
      "│ Best Val Acc: 0.6250 (Epoch 4)\n",
      "│ GPU Memory: 1.3GB / 6.7GB\n",
      "================================================================================\n",
      "\n",
      "📈 Epoch 30/50\n",
      "--------------------------------------------------\n",
      "🔄 Training Phase...\n"
     ]
    },
    {
     "name": "stderr",
     "output_type": "stream",
     "text": [
      "Training: 100%|██████████████████████████████| 48/48 [01:04<00:00,  1.34s/it, Loss=0.6259, Acc=0.6224]\n"
     ]
    },
    {
     "name": "stdout",
     "output_type": "stream",
     "text": [
      "✅ Training completed in 64.49s\n",
      "🔍 Validation Phase...\n"
     ]
    },
    {
     "name": "stderr",
     "output_type": "stream",
     "text": [
      "Validation: 100%|██████████████████████████████| 12/12 [00:06<00:00,  1.83it/s, Loss=0.7700, Acc=0.6250]\n"
     ]
    },
    {
     "name": "stdout",
     "output_type": "stream",
     "text": [
      "✅ Validation completed in 6.56s\n",
      "\n",
      "📊 Epoch 30 Summary:\n",
      "│ Train Loss: 0.6259 | Train Acc: 0.6224\n",
      "│ Val Loss:   0.7700 | Val Acc:   0.6250\n",
      "│ Train Time: 64.49s | Val Time: 6.56s\n",
      "│ Total Epoch Time: 71.06s\n",
      "│ Best Val Acc: 0.6250 (Epoch 4)\n",
      "│ GPU Memory: 1.3GB / 6.7GB\n",
      "================================================================================\n",
      "\n",
      "📈 Epoch 31/50\n",
      "--------------------------------------------------\n",
      "🔄 Training Phase...\n"
     ]
    },
    {
     "name": "stderr",
     "output_type": "stream",
     "text": [
      "Training: 100%|██████████████████████████████| 48/48 [01:04<00:00,  1.34s/it, Loss=0.6263, Acc=0.6204]\n"
     ]
    },
    {
     "name": "stdout",
     "output_type": "stream",
     "text": [
      "✅ Training completed in 64.40s\n",
      "🔍 Validation Phase...\n"
     ]
    },
    {
     "name": "stderr",
     "output_type": "stream",
     "text": [
      "Validation: 100%|██████████████████████████████| 12/12 [00:06<00:00,  1.84it/s, Loss=0.7938, Acc=0.4609]\n"
     ]
    },
    {
     "name": "stdout",
     "output_type": "stream",
     "text": [
      "✅ Validation completed in 6.52s\n",
      "\n",
      "📊 Epoch 31 Summary:\n",
      "│ Train Loss: 0.6263 | Train Acc: 0.6204\n",
      "│ Val Loss:   0.7938 | Val Acc:   0.4609\n",
      "│ Train Time: 64.40s | Val Time: 6.52s\n",
      "│ Total Epoch Time: 70.93s\n",
      "│ Best Val Acc: 0.6250 (Epoch 4)\n",
      "│ GPU Memory: 1.3GB / 6.7GB\n",
      "================================================================================\n",
      "\n",
      "📈 Epoch 32/50\n",
      "--------------------------------------------------\n",
      "🔄 Training Phase...\n"
     ]
    },
    {
     "name": "stderr",
     "output_type": "stream",
     "text": [
      "Training: 100%|██████████████████████████████| 48/48 [01:04<00:00,  1.35s/it, Loss=0.6254, Acc=0.6105]\n"
     ]
    },
    {
     "name": "stdout",
     "output_type": "stream",
     "text": [
      "✅ Training completed in 64.77s\n",
      "🔍 Validation Phase...\n"
     ]
    },
    {
     "name": "stderr",
     "output_type": "stream",
     "text": [
      "Validation: 100%|██████████████████████████████| 12/12 [00:06<00:00,  1.85it/s, Loss=0.7679, Acc=0.6250]\n"
     ]
    },
    {
     "name": "stdout",
     "output_type": "stream",
     "text": [
      "✅ Validation completed in 6.49s\n",
      "\n",
      "📊 Epoch 32 Summary:\n",
      "│ Train Loss: 0.6254 | Train Acc: 0.6105\n",
      "│ Val Loss:   0.7679 | Val Acc:   0.6250\n",
      "│ Train Time: 64.77s | Val Time: 6.49s\n",
      "│ Total Epoch Time: 71.26s\n",
      "│ Best Val Acc: 0.6250 (Epoch 4)\n",
      "│ GPU Memory: 1.3GB / 6.7GB\n",
      "================================================================================\n",
      "\n",
      "📈 Epoch 33/50\n",
      "--------------------------------------------------\n",
      "🔄 Training Phase...\n"
     ]
    },
    {
     "name": "stderr",
     "output_type": "stream",
     "text": [
      "Training: 100%|██████████████████████████████| 48/48 [01:04<00:00,  1.34s/it, Loss=0.6232, Acc=0.6033]\n"
     ]
    },
    {
     "name": "stdout",
     "output_type": "stream",
     "text": [
      "✅ Training completed in 64.29s\n",
      "🔍 Validation Phase...\n"
     ]
    },
    {
     "name": "stderr",
     "output_type": "stream",
     "text": [
      "Validation: 100%|██████████████████████████████| 12/12 [00:06<00:00,  1.87it/s, Loss=0.7482, Acc=0.6250]\n"
     ]
    },
    {
     "name": "stdout",
     "output_type": "stream",
     "text": [
      "✅ Validation completed in 6.43s\n",
      "\n",
      "📊 Epoch 33 Summary:\n",
      "│ Train Loss: 0.6232 | Train Acc: 0.6033\n",
      "│ Val Loss:   0.7482 | Val Acc:   0.6250\n",
      "│ Train Time: 64.29s | Val Time: 6.43s\n",
      "│ Total Epoch Time: 70.72s\n",
      "│ Best Val Acc: 0.6250 (Epoch 4)\n",
      "│ GPU Memory: 1.3GB / 6.7GB\n",
      "================================================================================\n",
      "\n",
      "📈 Epoch 34/50\n",
      "--------------------------------------------------\n",
      "🔄 Training Phase...\n"
     ]
    },
    {
     "name": "stderr",
     "output_type": "stream",
     "text": [
      "Training: 100%|██████████████████████████████| 48/48 [01:04<00:00,  1.34s/it, Loss=0.6229, Acc=0.6243]\n"
     ]
    },
    {
     "name": "stdout",
     "output_type": "stream",
     "text": [
      "✅ Training completed in 64.34s\n",
      "🔍 Validation Phase...\n"
     ]
    },
    {
     "name": "stderr",
     "output_type": "stream",
     "text": [
      "Validation: 100%|██████████████████████████████| 12/12 [00:06<00:00,  1.84it/s, Loss=0.7461, Acc=0.6250]\n"
     ]
    },
    {
     "name": "stdout",
     "output_type": "stream",
     "text": [
      "✅ Validation completed in 6.52s\n",
      "\n",
      "📊 Epoch 34 Summary:\n",
      "│ Train Loss: 0.6229 | Train Acc: 0.6243\n",
      "│ Val Loss:   0.7461 | Val Acc:   0.6250\n",
      "│ Train Time: 64.34s | Val Time: 6.52s\n",
      "│ Total Epoch Time: 70.86s\n",
      "│ Best Val Acc: 0.6250 (Epoch 4)\n",
      "│ GPU Memory: 1.3GB / 6.7GB\n",
      "================================================================================\n",
      "\n",
      "📈 Epoch 35/50\n",
      "--------------------------------------------------\n",
      "🔄 Training Phase...\n"
     ]
    },
    {
     "name": "stderr",
     "output_type": "stream",
     "text": [
      "Training: 100%|██████████████████████████████| 48/48 [01:04<00:00,  1.34s/it, Loss=0.6299, Acc=0.6105]\n"
     ]
    },
    {
     "name": "stdout",
     "output_type": "stream",
     "text": [
      "✅ Training completed in 64.22s\n",
      "🔍 Validation Phase...\n"
     ]
    },
    {
     "name": "stderr",
     "output_type": "stream",
     "text": [
      "Validation: 100%|██████████████████████████████| 12/12 [00:06<00:00,  1.84it/s, Loss=0.7393, Acc=0.4531]\n"
     ]
    },
    {
     "name": "stdout",
     "output_type": "stream",
     "text": [
      "✅ Validation completed in 6.54s\n",
      "\n",
      "📊 Epoch 35 Summary:\n",
      "│ Train Loss: 0.6299 | Train Acc: 0.6105\n",
      "│ Val Loss:   0.7393 | Val Acc:   0.4531\n",
      "│ Train Time: 64.22s | Val Time: 6.54s\n",
      "│ Total Epoch Time: 70.76s\n",
      "│ Best Val Acc: 0.6250 (Epoch 4)\n",
      "│ GPU Memory: 1.3GB / 6.7GB\n",
      "================================================================================\n",
      "\n",
      "📈 Epoch 36/50\n",
      "--------------------------------------------------\n",
      "🔄 Training Phase...\n"
     ]
    },
    {
     "name": "stderr",
     "output_type": "stream",
     "text": [
      "Training: 100%|██████████████████████████████| 48/48 [01:04<00:00,  1.34s/it, Loss=0.6207, Acc=0.6243]\n"
     ]
    },
    {
     "name": "stdout",
     "output_type": "stream",
     "text": [
      "✅ Training completed in 64.52s\n",
      "🔍 Validation Phase...\n"
     ]
    },
    {
     "name": "stderr",
     "output_type": "stream",
     "text": [
      "Validation: 100%|██████████████████████████████| 12/12 [00:06<00:00,  1.88it/s, Loss=0.7363, Acc=0.6250]\n"
     ]
    },
    {
     "name": "stdout",
     "output_type": "stream",
     "text": [
      "✅ Validation completed in 6.39s\n",
      "\n",
      "📊 Epoch 36 Summary:\n",
      "│ Train Loss: 0.6207 | Train Acc: 0.6243\n",
      "│ Val Loss:   0.7363 | Val Acc:   0.6250\n",
      "│ Train Time: 64.52s | Val Time: 6.39s\n",
      "│ Total Epoch Time: 70.92s\n",
      "│ Best Val Acc: 0.6250 (Epoch 4)\n",
      "│ GPU Memory: 1.3GB / 6.7GB\n",
      "================================================================================\n",
      "\n",
      "📈 Epoch 37/50\n",
      "--------------------------------------------------\n",
      "🔄 Training Phase...\n"
     ]
    },
    {
     "name": "stderr",
     "output_type": "stream",
     "text": [
      "Training: 100%|██████████████████████████████| 48/48 [01:03<00:00,  1.33s/it, Loss=0.6290, Acc=0.6191]\n"
     ]
    },
    {
     "name": "stdout",
     "output_type": "stream",
     "text": [
      "✅ Training completed in 63.87s\n",
      "🔍 Validation Phase...\n"
     ]
    },
    {
     "name": "stderr",
     "output_type": "stream",
     "text": [
      "Validation: 100%|██████████████████████████████| 12/12 [00:06<00:00,  1.86it/s, Loss=0.7734, Acc=0.6250]\n"
     ]
    },
    {
     "name": "stdout",
     "output_type": "stream",
     "text": [
      "✅ Validation completed in 6.45s\n",
      "\n",
      "📊 Epoch 37 Summary:\n",
      "│ Train Loss: 0.6290 | Train Acc: 0.6191\n",
      "│ Val Loss:   0.7734 | Val Acc:   0.6250\n",
      "│ Train Time: 63.87s | Val Time: 6.45s\n",
      "│ Total Epoch Time: 70.32s\n",
      "│ Best Val Acc: 0.6250 (Epoch 4)\n",
      "│ GPU Memory: 1.3GB / 6.7GB\n",
      "================================================================================\n",
      "\n",
      "📈 Epoch 38/50\n",
      "--------------------------------------------------\n",
      "🔄 Training Phase...\n"
     ]
    },
    {
     "name": "stderr",
     "output_type": "stream",
     "text": [
      "Training: 100%|██████████████████████████████| 48/48 [01:04<00:00,  1.34s/it, Loss=0.6207, Acc=0.6283]\n"
     ]
    },
    {
     "name": "stdout",
     "output_type": "stream",
     "text": [
      "✅ Training completed in 64.14s\n",
      "🔍 Validation Phase...\n"
     ]
    },
    {
     "name": "stderr",
     "output_type": "stream",
     "text": [
      "Validation: 100%|██████████████████████████████| 12/12 [00:06<00:00,  1.86it/s, Loss=0.7566, Acc=0.6250]\n"
     ]
    },
    {
     "name": "stdout",
     "output_type": "stream",
     "text": [
      "✅ Validation completed in 6.45s\n",
      "\n",
      "📊 Epoch 38 Summary:\n",
      "│ Train Loss: 0.6207 | Train Acc: 0.6283\n",
      "│ Val Loss:   0.7566 | Val Acc:   0.6250\n",
      "│ Train Time: 64.14s | Val Time: 6.45s\n",
      "│ Total Epoch Time: 70.60s\n",
      "│ Best Val Acc: 0.6250 (Epoch 4)\n",
      "│ GPU Memory: 1.3GB / 6.7GB\n",
      "================================================================================\n",
      "\n",
      "📈 Epoch 39/50\n",
      "--------------------------------------------------\n",
      "🔄 Training Phase...\n"
     ]
    },
    {
     "name": "stderr",
     "output_type": "stream",
     "text": [
      "Training: 100%|██████████████████████████████| 48/48 [01:04<00:00,  1.34s/it, Loss=0.6220, Acc=0.6237]\n"
     ]
    },
    {
     "name": "stdout",
     "output_type": "stream",
     "text": [
      "✅ Training completed in 64.44s\n",
      "🔍 Validation Phase...\n"
     ]
    },
    {
     "name": "stderr",
     "output_type": "stream",
     "text": [
      "Validation: 100%|██████████████████████████████| 12/12 [00:06<00:00,  1.85it/s, Loss=0.7258, Acc=0.6250]\n"
     ]
    },
    {
     "name": "stdout",
     "output_type": "stream",
     "text": [
      "✅ Validation completed in 6.48s\n",
      "\n",
      "📊 Epoch 39 Summary:\n",
      "│ Train Loss: 0.6220 | Train Acc: 0.6237\n",
      "│ Val Loss:   0.7258 | Val Acc:   0.6250\n",
      "│ Train Time: 64.44s | Val Time: 6.48s\n",
      "│ Total Epoch Time: 70.93s\n",
      "│ Best Val Acc: 0.6250 (Epoch 4)\n",
      "│ GPU Memory: 1.3GB / 6.7GB\n",
      "================================================================================\n",
      "\n",
      "📈 Epoch 40/50\n",
      "--------------------------------------------------\n",
      "🔄 Training Phase...\n"
     ]
    },
    {
     "name": "stderr",
     "output_type": "stream",
     "text": [
      "Training: 100%|██████████████████████████████| 48/48 [01:04<00:00,  1.34s/it, Loss=0.6167, Acc=0.6270]\n"
     ]
    },
    {
     "name": "stdout",
     "output_type": "stream",
     "text": [
      "✅ Training completed in 64.42s\n",
      "🔍 Validation Phase...\n"
     ]
    },
    {
     "name": "stderr",
     "output_type": "stream",
     "text": [
      "Validation: 100%|██████████████████████████████| 12/12 [00:06<00:00,  1.84it/s, Loss=0.7461, Acc=0.6250]\n"
     ]
    },
    {
     "name": "stdout",
     "output_type": "stream",
     "text": [
      "✅ Validation completed in 6.52s\n",
      "\n",
      "📊 Epoch 40 Summary:\n",
      "│ Train Loss: 0.6167 | Train Acc: 0.6270\n",
      "│ Val Loss:   0.7461 | Val Acc:   0.6250\n",
      "│ Train Time: 64.42s | Val Time: 6.52s\n",
      "│ Total Epoch Time: 70.94s\n",
      "│ Best Val Acc: 0.6250 (Epoch 4)\n",
      "│ GPU Memory: 1.3GB / 6.7GB\n",
      "================================================================================\n",
      "\n",
      "📈 Epoch 41/50\n",
      "--------------------------------------------------\n",
      "🔄 Training Phase...\n"
     ]
    },
    {
     "name": "stderr",
     "output_type": "stream",
     "text": [
      "Training: 100%|██████████████████████████████| 48/48 [01:04<00:00,  1.34s/it, Loss=0.6131, Acc=0.6362]\n"
     ]
    },
    {
     "name": "stdout",
     "output_type": "stream",
     "text": [
      "✅ Training completed in 64.51s\n",
      "🔍 Validation Phase...\n"
     ]
    },
    {
     "name": "stderr",
     "output_type": "stream",
     "text": [
      "Validation: 100%|██████████████████████████████| 12/12 [00:06<00:00,  1.83it/s, Loss=0.7089, Acc=0.6224]\n"
     ]
    },
    {
     "name": "stdout",
     "output_type": "stream",
     "text": [
      "✅ Validation completed in 6.57s\n",
      "\n",
      "📊 Epoch 41 Summary:\n",
      "│ Train Loss: 0.6131 | Train Acc: 0.6362\n",
      "│ Val Loss:   0.7089 | Val Acc:   0.6224\n",
      "│ Train Time: 64.51s | Val Time: 6.57s\n",
      "│ Total Epoch Time: 71.08s\n",
      "│ Best Val Acc: 0.6250 (Epoch 4)\n",
      "│ GPU Memory: 1.3GB / 6.7GB\n",
      "================================================================================\n",
      "\n",
      "📈 Epoch 42/50\n",
      "--------------------------------------------------\n",
      "🔄 Training Phase...\n"
     ]
    },
    {
     "name": "stderr",
     "output_type": "stream",
     "text": [
      "Training: 100%|██████████████████████████████| 48/48 [01:04<00:00,  1.34s/it, Loss=0.6127, Acc=0.6349]\n"
     ]
    },
    {
     "name": "stdout",
     "output_type": "stream",
     "text": [
      "✅ Training completed in 64.16s\n",
      "🔍 Validation Phase...\n"
     ]
    },
    {
     "name": "stderr",
     "output_type": "stream",
     "text": [
      "Validation: 100%|██████████████████████████████| 12/12 [00:06<00:00,  1.86it/s, Loss=0.7574, Acc=0.6250]\n"
     ]
    },
    {
     "name": "stdout",
     "output_type": "stream",
     "text": [
      "✅ Validation completed in 6.45s\n",
      "\n",
      "📊 Epoch 42 Summary:\n",
      "│ Train Loss: 0.6127 | Train Acc: 0.6349\n",
      "│ Val Loss:   0.7574 | Val Acc:   0.6250\n",
      "│ Train Time: 64.16s | Val Time: 6.45s\n",
      "│ Total Epoch Time: 70.61s\n",
      "│ Best Val Acc: 0.6250 (Epoch 4)\n",
      "│ GPU Memory: 1.3GB / 6.7GB\n",
      "================================================================================\n",
      "\n",
      "📈 Epoch 43/50\n",
      "--------------------------------------------------\n",
      "🔄 Training Phase...\n"
     ]
    },
    {
     "name": "stderr",
     "output_type": "stream",
     "text": [
      "Training: 100%|██████████████████████████████| 48/48 [01:04<00:00,  1.34s/it, Loss=0.6159, Acc=0.6184]\n"
     ]
    },
    {
     "name": "stdout",
     "output_type": "stream",
     "text": [
      "✅ Training completed in 64.22s\n",
      "🔍 Validation Phase...\n"
     ]
    },
    {
     "name": "stderr",
     "output_type": "stream",
     "text": [
      "Validation: 100%|██████████████████████████████| 12/12 [00:06<00:00,  1.84it/s, Loss=0.7035, Acc=0.6198]\n"
     ]
    },
    {
     "name": "stdout",
     "output_type": "stream",
     "text": [
      "✅ Validation completed in 6.51s\n",
      "\n",
      "📊 Epoch 43 Summary:\n",
      "│ Train Loss: 0.6159 | Train Acc: 0.6184\n",
      "│ Val Loss:   0.7035 | Val Acc:   0.6198\n",
      "│ Train Time: 64.22s | Val Time: 6.51s\n",
      "│ Total Epoch Time: 70.73s\n",
      "│ Best Val Acc: 0.6250 (Epoch 4)\n",
      "│ GPU Memory: 1.3GB / 6.7GB\n",
      "================================================================================\n",
      "\n",
      "📈 Epoch 44/50\n",
      "--------------------------------------------------\n",
      "🔄 Training Phase...\n"
     ]
    },
    {
     "name": "stderr",
     "output_type": "stream",
     "text": [
      "Training: 100%|██████████████████████████████| 48/48 [01:04<00:00,  1.34s/it, Loss=0.6131, Acc=0.6355]\n"
     ]
    },
    {
     "name": "stdout",
     "output_type": "stream",
     "text": [
      "✅ Training completed in 64.34s\n",
      "🔍 Validation Phase...\n"
     ]
    },
    {
     "name": "stderr",
     "output_type": "stream",
     "text": [
      "Validation: 100%|██████████████████████████████| 12/12 [00:06<00:00,  1.85it/s, Loss=0.7832, Acc=0.5990]\n"
     ]
    },
    {
     "name": "stdout",
     "output_type": "stream",
     "text": [
      "✅ Validation completed in 6.51s\n",
      "\n",
      "📊 Epoch 44 Summary:\n",
      "│ Train Loss: 0.6131 | Train Acc: 0.6355\n",
      "│ Val Loss:   0.7832 | Val Acc:   0.5990\n",
      "│ Train Time: 64.34s | Val Time: 6.51s\n",
      "│ Total Epoch Time: 70.85s\n",
      "│ Best Val Acc: 0.6250 (Epoch 4)\n",
      "│ GPU Memory: 1.3GB / 6.7GB\n",
      "================================================================================\n",
      "\n",
      "📈 Epoch 45/50\n",
      "--------------------------------------------------\n",
      "🔄 Training Phase...\n"
     ]
    },
    {
     "name": "stderr",
     "output_type": "stream",
     "text": [
      "Training: 100%|██████████████████████████████| 48/48 [01:04<00:00,  1.34s/it, Loss=0.6158, Acc=0.6270]\n"
     ]
    },
    {
     "name": "stdout",
     "output_type": "stream",
     "text": [
      "✅ Training completed in 64.40s\n",
      "🔍 Validation Phase...\n"
     ]
    },
    {
     "name": "stderr",
     "output_type": "stream",
     "text": [
      "Validation: 100%|██████████████████████████████| 12/12 [00:06<00:00,  1.83it/s, Loss=0.7610, Acc=0.5964]\n"
     ]
    },
    {
     "name": "stdout",
     "output_type": "stream",
     "text": [
      "✅ Validation completed in 6.55s\n",
      "\n",
      "📊 Epoch 45 Summary:\n",
      "│ Train Loss: 0.6158 | Train Acc: 0.6270\n",
      "│ Val Loss:   0.7610 | Val Acc:   0.5964\n",
      "│ Train Time: 64.40s | Val Time: 6.55s\n",
      "│ Total Epoch Time: 70.95s\n",
      "│ Best Val Acc: 0.6250 (Epoch 4)\n",
      "│ GPU Memory: 1.3GB / 6.7GB\n",
      "================================================================================\n",
      "\n",
      "📈 Epoch 46/50\n",
      "--------------------------------------------------\n",
      "🔄 Training Phase...\n"
     ]
    },
    {
     "name": "stderr",
     "output_type": "stream",
     "text": [
      "Training: 100%|██████████████████████████████| 48/48 [01:04<00:00,  1.34s/it, Loss=0.6228, Acc=0.6211]\n"
     ]
    },
    {
     "name": "stdout",
     "output_type": "stream",
     "text": [
      "✅ Training completed in 64.31s\n",
      "🔍 Validation Phase...\n"
     ]
    },
    {
     "name": "stderr",
     "output_type": "stream",
     "text": [
      "Validation: 100%|██████████████████████████████| 12/12 [00:06<00:00,  1.87it/s, Loss=0.7208, Acc=0.6354]\n"
     ]
    },
    {
     "name": "stdout",
     "output_type": "stream",
     "text": [
      "✅ Validation completed in 6.42s\n",
      "🌟 New best Vision Transformer model found! Validation Accuracy: 0.6354\n",
      "\n",
      "📊 Epoch 46 Summary:\n",
      "│ Train Loss: 0.6228 | Train Acc: 0.6211\n",
      "│ Val Loss:   0.7208 | Val Acc:   0.6354\n",
      "│ Train Time: 64.31s | Val Time: 6.42s\n",
      "│ Total Epoch Time: 70.74s\n",
      "│ Best Val Acc: 0.6354 (Epoch 46)\n",
      "│ GPU Memory: 1.3GB / 6.7GB\n",
      "================================================================================\n",
      "\n",
      "📈 Epoch 47/50\n",
      "--------------------------------------------------\n",
      "🔄 Training Phase...\n"
     ]
    },
    {
     "name": "stderr",
     "output_type": "stream",
     "text": [
      "Training: 100%|██████████████████████████████| 48/48 [01:04<00:00,  1.34s/it, Loss=0.6110, Acc=0.6296]\n"
     ]
    },
    {
     "name": "stdout",
     "output_type": "stream",
     "text": [
      "✅ Training completed in 64.11s\n",
      "🔍 Validation Phase...\n"
     ]
    },
    {
     "name": "stderr",
     "output_type": "stream",
     "text": [
      "Validation: 100%|██████████████████████████████| 12/12 [00:06<00:00,  1.86it/s, Loss=0.7438, Acc=0.6042]\n"
     ]
    },
    {
     "name": "stdout",
     "output_type": "stream",
     "text": [
      "✅ Validation completed in 6.46s\n",
      "\n",
      "📊 Epoch 47 Summary:\n",
      "│ Train Loss: 0.6110 | Train Acc: 0.6296\n",
      "│ Val Loss:   0.7438 | Val Acc:   0.6042\n",
      "│ Train Time: 64.11s | Val Time: 6.46s\n",
      "│ Total Epoch Time: 70.57s\n",
      "│ Best Val Acc: 0.6354 (Epoch 46)\n",
      "│ GPU Memory: 1.3GB / 6.7GB\n",
      "================================================================================\n",
      "\n",
      "📈 Epoch 48/50\n",
      "--------------------------------------------------\n",
      "🔄 Training Phase...\n"
     ]
    },
    {
     "name": "stderr",
     "output_type": "stream",
     "text": [
      "Training: 100%|██████████████████████████████| 48/48 [01:04<00:00,  1.34s/it, Loss=0.6073, Acc=0.6500]\n"
     ]
    },
    {
     "name": "stdout",
     "output_type": "stream",
     "text": [
      "✅ Training completed in 64.43s\n",
      "🔍 Validation Phase...\n"
     ]
    },
    {
     "name": "stderr",
     "output_type": "stream",
     "text": [
      "Validation: 100%|██████████████████████████████| 12/12 [00:06<00:00,  1.85it/s, Loss=0.7472, Acc=0.5990]\n"
     ]
    },
    {
     "name": "stdout",
     "output_type": "stream",
     "text": [
      "✅ Validation completed in 6.48s\n",
      "\n",
      "📊 Epoch 48 Summary:\n",
      "│ Train Loss: 0.6073 | Train Acc: 0.6500\n",
      "│ Val Loss:   0.7472 | Val Acc:   0.5990\n",
      "│ Train Time: 64.43s | Val Time: 6.48s\n",
      "│ Total Epoch Time: 70.91s\n",
      "│ Best Val Acc: 0.6354 (Epoch 46)\n",
      "│ GPU Memory: 1.3GB / 6.7GB\n",
      "================================================================================\n",
      "\n",
      "📈 Epoch 49/50\n",
      "--------------------------------------------------\n",
      "🔄 Training Phase...\n"
     ]
    },
    {
     "name": "stderr",
     "output_type": "stream",
     "text": [
      "Training: 100%|██████████████████████████████| 48/48 [01:04<00:00,  1.34s/it, Loss=0.5980, Acc=0.6513]\n"
     ]
    },
    {
     "name": "stdout",
     "output_type": "stream",
     "text": [
      "✅ Training completed in 64.54s\n",
      "🔍 Validation Phase...\n"
     ]
    },
    {
     "name": "stderr",
     "output_type": "stream",
     "text": [
      "Validation: 100%|██████████████████████████████| 12/12 [00:06<00:00,  1.85it/s, Loss=0.7303, Acc=0.5938]\n"
     ]
    },
    {
     "name": "stdout",
     "output_type": "stream",
     "text": [
      "✅ Validation completed in 6.51s\n",
      "\n",
      "📊 Epoch 49 Summary:\n",
      "│ Train Loss: 0.5980 | Train Acc: 0.6513\n",
      "│ Val Loss:   0.7303 | Val Acc:   0.5938\n",
      "│ Train Time: 64.54s | Val Time: 6.51s\n",
      "│ Total Epoch Time: 71.05s\n",
      "│ Best Val Acc: 0.6354 (Epoch 46)\n",
      "│ GPU Memory: 1.3GB / 6.7GB\n",
      "================================================================================\n",
      "\n",
      "📈 Epoch 50/50\n",
      "--------------------------------------------------\n",
      "🔄 Training Phase...\n"
     ]
    },
    {
     "name": "stderr",
     "output_type": "stream",
     "text": [
      "Training: 100%|██████████████████████████████| 48/48 [01:04<00:00,  1.34s/it, Loss=0.5968, Acc=0.6671]\n"
     ]
    },
    {
     "name": "stdout",
     "output_type": "stream",
     "text": [
      "✅ Training completed in 64.38s\n",
      "🔍 Validation Phase...\n"
     ]
    },
    {
     "name": "stderr",
     "output_type": "stream",
     "text": [
      "Validation: 100%|██████████████████████████████| 12/12 [00:06<00:00,  1.84it/s, Loss=0.7192, Acc=0.5703]\n"
     ]
    },
    {
     "name": "stdout",
     "output_type": "stream",
     "text": [
      "✅ Validation completed in 6.53s\n",
      "\n",
      "📊 Epoch 50 Summary:\n",
      "│ Train Loss: 0.5968 | Train Acc: 0.6671\n",
      "│ Val Loss:   0.7192 | Val Acc:   0.5703\n",
      "│ Train Time: 64.38s | Val Time: 6.53s\n",
      "│ Total Epoch Time: 70.91s\n",
      "│ Best Val Acc: 0.6354 (Epoch 46)\n",
      "│ GPU Memory: 1.3GB / 6.7GB\n",
      "================================================================================\n",
      "\n",
      "💾 Best Vision Transformer model saved as 'best_vit_model.pth'\n",
      "📊 Best model stats:\n",
      "│ Best Epoch: 46\n",
      "│ Best Val Acc: 0.6354\n",
      "\n",
      "💾 Vision Transformer training history saved to 'vit_training_history.csv'\n",
      "\n",
      "🎉 Vision Transformer Training Complete!\n",
      "Total Training Time: 3546.41s (59.1 minutes)\n",
      "Average Epoch Time: 70.93s\n",
      "\n",
      "⏱️  Epoch Timing Breakdown:\n",
      "│ Epoch 1: 77.94s\n",
      "│ Epoch 2: 70.49s\n",
      "│ Epoch 3: 71.26s\n",
      "│ Epoch 4: 71.03s\n",
      "│ Epoch 5: 70.67s\n",
      "│ Epoch 6: 70.77s\n",
      "│ Epoch 7: 70.79s\n",
      "│ Epoch 8: 70.83s\n",
      "│ Epoch 9: 70.46s\n",
      "│ Epoch 10: 70.80s\n",
      "│ Epoch 11: 70.67s\n",
      "│ Epoch 12: 70.60s\n",
      "│ Epoch 13: 70.54s\n",
      "│ Epoch 14: 70.43s\n",
      "│ Epoch 15: 70.56s\n",
      "│ Epoch 16: 70.80s\n",
      "│ Epoch 17: 70.89s\n",
      "│ Epoch 18: 70.89s\n",
      "│ Epoch 19: 70.91s\n",
      "│ Epoch 20: 70.85s\n",
      "│ Epoch 21: 70.93s\n",
      "│ Epoch 22: 70.81s\n",
      "│ Epoch 23: 70.70s\n",
      "│ Epoch 24: 70.84s\n",
      "│ Epoch 25: 70.60s\n",
      "│ Epoch 26: 70.56s\n",
      "│ Epoch 27: 70.43s\n",
      "│ Epoch 28: 70.66s\n",
      "│ Epoch 29: 70.98s\n",
      "│ Epoch 30: 71.06s\n",
      "│ Epoch 31: 70.93s\n",
      "│ Epoch 32: 71.26s\n",
      "│ Epoch 33: 70.72s\n",
      "│ Epoch 34: 70.86s\n",
      "│ Epoch 35: 70.76s\n",
      "│ Epoch 36: 70.92s\n",
      "│ Epoch 37: 70.32s\n",
      "│ Epoch 38: 70.60s\n",
      "│ Epoch 39: 70.93s\n",
      "│ Epoch 40: 70.94s\n",
      "│ Epoch 41: 71.08s\n",
      "│ Epoch 42: 70.61s\n",
      "│ Epoch 43: 70.73s\n",
      "│ Epoch 44: 70.85s\n",
      "│ Epoch 45: 70.95s\n",
      "│ Epoch 46: 70.74s\n",
      "│ Epoch 47: 70.57s\n",
      "│ Epoch 48: 70.91s\n",
      "│ Epoch 49: 71.05s\n",
      "│ Epoch 50: 70.91s\n",
      "\n",
      "🧪 Loading Best Vision Transformer Model for Testing...\n",
      "✅ Best Vision Transformer model from epoch 46 loaded successfully!\n"
     ]
    },
    {
     "name": "stderr",
     "output_type": "stream",
     "text": [
      "Testing Vision Transformer: 100%|██████████████████████████████| 16/16 [00:11<00:00,  1.41it/s]\n"
     ]
    },
    {
     "name": "stdout",
     "output_type": "stream",
     "text": [
      "✅ Vision Transformer Testing completed in 11.34s\n",
      "\n",
      "📋 Vision Transformer Classification Report:\n",
      "              precision    recall  f1-score   support\n",
      "\n",
      "   fast_bowl       0.63      0.84      0.72       304\n",
      "   spin_bowl       0.42      0.20      0.27       184\n",
      "\n",
      "    accuracy                           0.60       488\n",
      "   macro avg       0.53      0.52      0.49       488\n",
      "weighted avg       0.55      0.60      0.55       488\n",
      "\n",
      "🎯 Vision Transformer Test Accuracy: 0.5963\n",
      "\n",
      "📊 Vision Transformer Model Performance Summary:\n",
      "│ Best Validation Acc:  0.6354 (Epoch 46)\n",
      "│ Final Test Accuracy:  0.5963\n",
      "│ Val-Test Gap:         0.0391\n"
     ]
    },
    {
     "data": {
      "image/png": "[encoded data removed]",
      "text/plain": [
       "<Figure size 800x600 with 2 Axes>"
      ]
     },
     "metadata": {},
     "output_type": "display_data"
    },
    {
     "data": {
      "image/png": "[encoded data removed]",
      "text/plain": [
       "<Figure size 2000x500 with 4 Axes>"
      ]
     },
     "metadata": {},
     "output_type": "display_data"
    },
    {
     "name": "stdout",
     "output_type": "stream",
     "text": [
      "\n",
      "⏰ Vision Transformer Final Timing Summary:\n",
      "│ Total Training: 3546.41s\n",
      "│ Average per Epoch: 70.93s\n",
      "│ Testing Time: 11.34s\n",
      "│ Total Runtime: 3557.75s\n",
      "\n",
      "💾 Vision Transformer Files saved:\n",
      "│ best_vit_model.pth - Best validation accuracy model\n",
      "│ vit_training_history.csv - Training metrics for later plotting\n",
      "\n",
      "🏗️  Vision Transformer Architecture Summary:\n",
      "│ Total Parameters: 85,800,194\n",
      "│ Trainable Parameters: 85,800,194\n",
      "│ Model Size: 327.30 MB\n",
      "│ Input Size: 224x224x3\n",
      "│ Patch Size: 16x16\n",
      "│ Number of Patches: 196\n",
      "│ Embed Dimension: 768\n",
      "│ Number of Heads: 12\n",
      "│ Number of Layers: 12\n",
      "│ MLP Ratio: 4.0\n",
      "│ Output Classes: 2\n",
      "│ Activation: GELU\n",
      "│ Attention Dropout: 0.1\n",
      "│ Embedding Dropout: 0.1\n"
     ]
    }
   ],
   "source": [
    "# -----------------------------\n",
    "# 4. Training Loop with Best Model Saving (Val Accuracy) - Vision Transformer\n",
    "# -----------------------------\n",
    "train_losses, val_losses = [], []\n",
    "train_accs, val_accs = [], []\n",
    "epoch_times = []\n",
    "epochs = 50\n",
    "\n",
    "# Initialize best model tracking\n",
    "best_val_acc = 0.0\n",
    "best_model_state = None\n",
    "best_epoch = 0\n",
    "\n",
    "print(f\"\\n🚀 Starting Vision Transformer Training for {epochs} epochs...\")\n",
    "print(\"=\" * 80)\n",
    "\n",
    "total_start_time = time.time()\n",
    "\n",
    "for epoch in range(epochs):\n",
    "    epoch_start_time = time.time()\n",
    "    \n",
    "    print(f\"\\n📈 Epoch {epoch+1}/{epochs}\")\n",
    "    print(\"-\" * 50)\n",
    "    \n",
    "    # Training Phase\n",
    "    print(\"🔄 Training Phase...\")\n",
    "    model.train()\n",
    "    running_loss, correct, total = 0, 0, 0\n",
    "    \n",
    "    train_pbar = tqdm(train_loader, desc=f\"Training\", \n",
    "                     bar_format='{l_bar}{bar:30}{r_bar}{bar:-30b}')\n",
    "    \n",
    "    train_phase_start = time.time()\n",
    "    \n",
    "    for batch_idx, (imgs, labels) in enumerate(train_pbar):\n",
    "        imgs, labels = imgs.to(device), labels.to(device)\n",
    "        \n",
    "        optimizer.zero_grad()\n",
    "        outputs = model(imgs)\n",
    "        loss = criterion(outputs, labels)\n",
    "        loss.backward()\n",
    "        \n",
    "        # Gradient clipping for stability\n",
    "        torch.nn.utils.clip_grad_norm_(model.parameters(), max_norm=1.0)\n",
    "        \n",
    "        optimizer.step()\n",
    "        \n",
    "        running_loss += loss.item()\n",
    "        _, preds = torch.max(outputs, 1)\n",
    "        correct += (preds == labels).sum().item()\n",
    "        total += labels.size(0)\n",
    "        \n",
    "        current_acc = correct / total\n",
    "        train_pbar.set_postfix({\n",
    "            'Loss': f'{running_loss/(batch_idx+1):.4f}',\n",
    "            'Acc': f'{current_acc:.4f}'\n",
    "        })\n",
    "        \n",
    "        if device.type == 'cuda' and batch_idx % 10 == 0:\n",
    "            gpu_memory = torch.cuda.memory_allocated() / 1024**3\n",
    "            train_pbar.set_postfix({\n",
    "                'Loss': f'{running_loss/(batch_idx+1):.4f}',\n",
    "                'Acc': f'{current_acc:.4f}',\n",
    "                'GPU': f'{gpu_memory:.1f}GB'\n",
    "            })\n",
    "    \n",
    "    train_phase_time = time.time() - train_phase_start\n",
    "    train_loss = running_loss / len(train_loader)\n",
    "    train_acc = correct / total\n",
    "    train_losses.append(train_loss)\n",
    "    train_accs.append(train_acc)\n",
    "    \n",
    "    print(f\"✅ Training completed in {train_phase_time:.2f}s\")\n",
    "    \n",
    "    # Validation Phase\n",
    "    print(\"🔍 Validation Phase...\")\n",
    "    model.eval()\n",
    "    running_loss, correct, total = 0, 0, 0\n",
    "    \n",
    "    val_phase_start = time.time()\n",
    "    val_pbar = tqdm(val_loader, desc=f\"Validation\", \n",
    "                   bar_format='{l_bar}{bar:30}{r_bar}{bar:-30b}')\n",
    "    \n",
    "    with torch.no_grad():\n",
    "        for batch_idx, (imgs, labels) in enumerate(val_pbar):\n",
    "            imgs, labels = imgs.to(device), labels.to(device)\n",
    "            outputs = model(imgs)\n",
    "            loss = criterion(outputs, labels)\n",
    "            \n",
    "            running_loss += loss.item()\n",
    "            _, preds = torch.max(outputs, 1)\n",
    "            correct += (preds == labels).sum().item()\n",
    "            total += labels.size(0)\n",
    "            \n",
    "            current_acc = correct / total\n",
    "            val_pbar.set_postfix({\n",
    "                'Loss': f'{running_loss/(batch_idx+1):.4f}',\n",
    "                'Acc': f'{current_acc:.4f}'\n",
    "            })\n",
    "    \n",
    "    val_phase_time = time.time() - val_phase_start\n",
    "    val_loss = running_loss / len(val_loader)\n",
    "    val_acc = correct / total\n",
    "    val_losses.append(val_loss)\n",
    "    val_accs.append(val_acc)\n",
    "    \n",
    "    print(f\"✅ Validation completed in {val_phase_time:.2f}s\")\n",
    "    \n",
    "    # Check if this is the best model so far based on val_acc\n",
    "    is_best = val_acc > best_val_acc\n",
    "    if is_best:\n",
    "        best_val_acc = val_acc\n",
    "        best_epoch = epoch + 1\n",
    "        best_model_state = model.state_dict().copy()\n",
    "        print(f\"🌟 New best Vision Transformer model found! Validation Accuracy: {val_acc:.4f}\")\n",
    "    \n",
    "    # Epoch Summary\n",
    "    epoch_time = time.time() - epoch_start_time\n",
    "    epoch_times.append(epoch_time)\n",
    "    \n",
    "    print(f\"\\n📊 Epoch {epoch+1} Summary:\")\n",
    "    print(f\"│ Train Loss: {train_loss:.4f} | Train Acc: {train_acc:.4f}\")\n",
    "    print(f\"│ Val Loss:   {val_loss:.4f} | Val Acc:   {val_acc:.4f}\")\n",
    "    print(f\"│ Train Time: {train_phase_time:.2f}s | Val Time: {val_phase_time:.2f}s\")\n",
    "    print(f\"│ Total Epoch Time: {epoch_time:.2f}s\")\n",
    "    print(f\"│ Best Val Acc: {best_val_acc:.4f} (Epoch {best_epoch})\")\n",
    "    \n",
    "    if device.type == 'cuda':\n",
    "        print(f\"│ GPU Memory: {torch.cuda.memory_allocated()/1024**3:.1f}GB / {torch.cuda.memory_reserved()/1024**3:.1f}GB\")\n",
    "    \n",
    "    print(\"=\" * 80)\n",
    "\n",
    "total_training_time = time.time() - total_start_time\n",
    "\n",
    "# Save the best model\n",
    "if best_model_state is not None:\n",
    "    torch.save(best_model_state, 'best_vit_model.pth')\n",
    "    print(f\"\\n💾 Best Vision Transformer model saved as 'best_vit_model.pth'\")\n",
    "    print(f\"📊 Best model stats:\")\n",
    "    print(f\"│ Best Epoch: {best_epoch}\")\n",
    "    print(f\"│ Best Val Acc: {best_val_acc:.4f}\")\n",
    "\n",
    "# Save training history data to CSV\n",
    "history_data = {\n",
    "    'epoch': list(range(1, epochs+1)),\n",
    "    'train_loss': train_losses,\n",
    "    'val_loss': val_losses,\n",
    "    'train_acc': train_accs,\n",
    "    'val_acc': val_accs,\n",
    "    'epoch_time': epoch_times\n",
    "}\n",
    "history_df = pd.DataFrame(history_data)\n",
    "history_df.to_csv('vit_training_history.csv', index=False)\n",
    "print(\"\\n💾 Vision Transformer training history saved to 'vit_training_history.csv'\")\n",
    "\n",
    "# Training Summary\n",
    "print(f\"\\n🎉 Vision Transformer Training Complete!\")\n",
    "print(f\"Total Training Time: {total_training_time:.2f}s ({total_training_time/60:.1f} minutes)\")\n",
    "print(f\"Average Epoch Time: {np.mean(epoch_times):.2f}s\")\n",
    "print(\"\\n⏱️  Epoch Timing Breakdown:\")\n",
    "for i, t in enumerate(epoch_times):\n",
    "    print(f\"│ Epoch {i+1}: {t:.2f}s\")\n",
    "\n",
    "# -----------------------------\n",
    "# 5. Load Best Model and Test\n",
    "# -----------------------------\n",
    "print(f\"\\n🧪 Loading Best Vision Transformer Model for Testing...\")\n",
    "\n",
    "# Load the best model state\n",
    "if best_model_state is not None:\n",
    "    model.load_state_dict(best_model_state)\n",
    "    print(f\"✅ Best Vision Transformer model from epoch {best_epoch} loaded successfully!\")\n",
    "else:\n",
    "    print(\"⚠️  No best model found, using current model state\")\n",
    "\n",
    "test_start_time = time.time()\n",
    "y_true, y_pred = [], []\n",
    "model.eval()\n",
    "\n",
    "test_pbar = tqdm(test_loader, desc=\"Testing Vision Transformer\", \n",
    "                bar_format='{l_bar}{bar:30}{r_bar}{bar:-30b}')\n",
    "\n",
    "with torch.no_grad():\n",
    "    for imgs, labels in test_pbar:\n",
    "        imgs, labels = imgs.to(device), labels.to(device)\n",
    "        outputs = model(imgs)\n",
    "        _, preds = torch.max(outputs, 1)\n",
    "        y_true.extend(labels.cpu().numpy())\n",
    "        y_pred.extend(preds.cpu().numpy())\n",
    "\n",
    "test_time = time.time() - test_start_time\n",
    "test_accuracy = accuracy_score(y_true, y_pred)\n",
    "\n",
    "print(f\"✅ Vision Transformer Testing completed in {test_time:.2f}s\")\n",
    "print(\"\\n📋 Vision Transformer Classification Report:\")\n",
    "print(classification_report(y_true, y_pred, target_names=classes))\n",
    "print(f\"🎯 Vision Transformer Test Accuracy: {test_accuracy:.4f}\")\n",
    "\n",
    "# Model Performance Summary\n",
    "print(f\"\\n📊 Vision Transformer Model Performance Summary:\")\n",
    "print(f\"│ Best Validation Acc:  {best_val_acc:.4f} (Epoch {best_epoch})\")\n",
    "print(f\"│ Final Test Accuracy:  {test_accuracy:.4f}\")\n",
    "print(f\"│ Val-Test Gap:         {abs(best_val_acc - test_accuracy):.4f}\")\n",
    "\n",
    "# Confusion Matrix\n",
    "cm = confusion_matrix(y_true, y_pred)\n",
    "plt.figure(figsize=(8, 6))\n",
    "sns.heatmap(cm, annot=True, fmt=\"d\", cmap=\"Reds\", xticklabels=classes, yticklabels=classes)\n",
    "plt.xlabel(\"Predicted\")\n",
    "plt.ylabel(\"True\")\n",
    "plt.title(f\"Vision Transformer Confusion Matrix - Best Model (Epoch {best_epoch})\")\n",
    "plt.show()\n",
    "\n",
    "# -----------------------------\n",
    "# 6. Enhanced Visualizations\n",
    "# -----------------------------\n",
    "plt.figure(figsize=(20, 5))\n",
    "\n",
    "# Loss Plot\n",
    "plt.subplot(1, 4, 1)\n",
    "plt.plot(range(1, epochs+1), train_losses, 'b-', label=\"Train Loss\", marker='o', linewidth=2)\n",
    "plt.plot(range(1, epochs+1), val_losses, 'r-', label=\"Val Loss\", marker='s', linewidth=2)\n",
    "plt.axvline(x=best_epoch, color='red', linestyle='--', alpha=0.7, label=f'Best (Epoch {best_epoch})')\n",
    "plt.legend()\n",
    "plt.title(\"Vision Transformer Loss over Epochs\")\n",
    "plt.xlabel(\"Epoch\")\n",
    "plt.ylabel(\"Loss\")\n",
    "plt.grid(True, alpha=0.3)\n",
    "\n",
    "# Accuracy Plot\n",
    "plt.subplot(1, 4, 2)\n",
    "plt.plot(range(1, epochs+1), train_accs, 'b-', label=\"Train Accuracy\", marker='o', linewidth=2)\n",
    "plt.plot(range(1, epochs+1), val_accs, 'r-', label=\"Val Accuracy\", marker='s', linewidth=2)\n",
    "plt.axvline(x=best_epoch, color='red', linestyle='--', alpha=0.7, label=f'Best (Epoch {best_epoch})')\n",
    "plt.scatter([best_epoch], [best_val_acc], color='red', s=100, zorder=5)\n",
    "plt.legend()\n",
    "plt.title(\"Vision Transformer Accuracy over Epochs\")\n",
    "plt.xlabel(\"Epoch\")\n",
    "plt.ylabel(\"Accuracy\")\n",
    "plt.grid(True, alpha=0.3)\n",
    "\n",
    "# Timing Plot\n",
    "plt.subplot(1, 4, 3)\n",
    "bars = plt.bar(range(1, epochs+1), epoch_times, color='lightcoral', alpha=0.7)\n",
    "bars[best_epoch-1].set_color('red')\n",
    "plt.title(\"Vision Transformer Training Time per Epoch\")\n",
    "plt.xlabel(\"Epoch\")\n",
    "plt.ylabel(\"Time (seconds)\")\n",
    "plt.grid(True, alpha=0.3)\n",
    "for i, t in enumerate(epoch_times):\n",
    "    plt.text(i+1, t+0.5, f'{t:.1f}s', ha='center', va='bottom')\n",
    "\n",
    "# Performance Comparison\n",
    "plt.subplot(1, 4, 4)\n",
    "metrics = ['Best Val Acc', 'Test Acc']\n",
    "values = [best_val_acc, test_accuracy]\n",
    "colors = ['lightcoral', 'red']\n",
    "bars = plt.bar(metrics, values, color=colors, alpha=0.7)\n",
    "plt.title(\"Vision Transformer Final Model Performance\")\n",
    "plt.ylabel(\"Accuracy\")\n",
    "plt.ylim(0, 1)\n",
    "plt.grid(True, alpha=0.3)\n",
    "for bar, val in zip(bars, values):\n",
    "    plt.text(bar.get_x() + bar.get_width()/2, val + 0.01, \n",
    "             f'{val:.4f}', ha='center', va='bottom')\n",
    "\n",
    "plt.tight_layout()\n",
    "plt.show()\n",
    "\n",
    "print(f\"\\n⏰ Vision Transformer Final Timing Summary:\")\n",
    "print(f\"│ Total Training: {total_training_time:.2f}s\")\n",
    "print(f\"│ Average per Epoch: {np.mean(epoch_times):.2f}s\")\n",
    "print(f\"│ Testing Time: {test_time:.2f}s\")\n",
    "print(f\"│ Total Runtime: {total_training_time + test_time:.2f}s\")\n",
    "\n",
    "print(f\"\\n💾 Vision Transformer Files saved:\")\n",
    "print(f\"│ best_vit_model.pth - Best validation accuracy model\")\n",
    "print(f\"│ vit_training_history.csv - Training metrics for later plotting\")\n",
    "\n",
    "# -----------------------------\n",
    "# 7. Vision Transformer Architecture Summary\n",
    "# -----------------------------\n",
    "print(f\"\\n🏗️  Vision Transformer Architecture Summary:\")\n",
    "print(f\"│ Total Parameters: {sum(p.numel() for p in model.parameters()):,}\")\n",
    "print(f\"│ Trainable Parameters: {sum(p.numel() for p in model.parameters() if p.requires_grad):,}\")\n",
    "print(f\"│ Model Size: {sum(p.numel() * p.element_size() for p in model.parameters()) / 1024**2:.2f} MB\")\n",
    "print(f\"│ Input Size: 224x224x3\")\n",
    "print(f\"│ Patch Size: 16x16\")\n",
    "print(f\"│ Number of Patches: {model.patch_embed.n_patches}\")\n",
    "print(f\"│ Embed Dimension: {model.embed_dim}\")\n",
    "print(f\"│ Number of Heads: 12\")\n",
    "print(f\"│ Number of Layers: 12\")\n",
    "print(f\"│ MLP Ratio: 4.0\")\n",
    "print(f\"│ Output Classes: {len(classes)}\")\n",
    "print(f\"│ Activation: GELU\")\n",
    "print(f\"│ Attention Dropout: 0.1\")\n",
    "print(f\"│ Embedding Dropout: 0.1\")\n"
   ]
  }
 ],
 "metadata": {
  "kaggle": {
   "accelerator": "nvidiaTeslaT4",
   "dataSources": [
    {
     "datasetId": 7735666,
     "sourceId": 12275446,
     "sourceType": "datasetVersion"
    }
   ],
   "dockerImageVersionId": 31090,
   "isGpuEnabled": true,
   "isInternetEnabled": true,
   "language": "python",
   "sourceType": "notebook"
  },
  "kernelspec": {
   "display_name": "Python 3",
   "language": "python",
   "name": "python3"
  },
  "language_info": {
   "codemirror_mode": {
    "name": "ipython",
    "version": 3
   },
   "file_extension": ".py",
   "mimetype": "text/x-python",
   "name": "python",
   "nbconvert_exporter": "python",
   "pygments_lexer": "ipython3",
   "version": "3.11.13"
  },
  "papermill": {
   "default_parameters": {},
   "duration": 3581.813104,
   "end_time": "2025-09-08T16:56:57.555637",
   "environment_variables": {},
   "exception": null,
   "input_path": "__notebook__.ipynb",
   "output_path": "__notebook__.ipynb",
   "parameters": {},
   "start_time": "2025-09-08T15:57:15.742533",
   "version": "2.6.0"
  }
 },
 "nbformat": 4,
 "nbformat_minor": 5
}
