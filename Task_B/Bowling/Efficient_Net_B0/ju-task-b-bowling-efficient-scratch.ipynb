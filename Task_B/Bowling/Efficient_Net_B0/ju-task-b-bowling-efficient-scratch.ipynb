{
 "cells": [
  {
   "cell_type": "code",
   "execution_count": 1,
   "id": "51e6c7cc",
   "metadata": {
    "_cell_guid": "b1076dfc-b9ad-4769-8c92-a6c4dae69d19",
    "_uuid": "8f2839f25d086af736a60e9eeb907d3b93b6e0e5",
    "execution": {
     "iopub.execute_input": "2025-09-08T07:24:17.152086Z",
     "iopub.status.busy": "2025-09-08T07:24:17.151811Z",
     "iopub.status.idle": "2025-09-08T07:24:36.370973Z",
     "shell.execute_reply": "2025-09-08T07:24:36.369984Z"
    },
    "papermill": {
     "duration": 19.225198,
     "end_time": "2025-09-08T07:24:36.372286",
     "exception": false,
     "start_time": "2025-09-08T07:24:17.147088",
     "status": "completed"
    },
    "tags": []
   },
   "outputs": [
    {
     "name": "stdout",
     "output_type": "stream",
     "text": [
      "Classes: ['fast_bowl', 'spin_bowl']\n"
     ]
    }
   ],
   "source": [
    "import torch\n",
    "import torch.nn as nn\n",
    "import torch.nn.functional as F\n",
    "from torch.utils.data import DataLoader\n",
    "from torchvision import datasets, transforms\n",
    "from torchsummary import summary\n",
    "import matplotlib.pyplot as plt\n",
    "from sklearn.metrics import classification_report, confusion_matrix, accuracy_score\n",
    "import seaborn as sns\n",
    "import numpy as np\n",
    "\n",
    "# -----------------------------\n",
    "# 1. Data Preprocessing\n",
    "# -----------------------------\n",
    "data_dir = \"/kaggle/input/ju-cricket/Cricket_Dataset_final/Task_B\"\n",
    "\n",
    "transform = transforms.Compose([\n",
    "    transforms.Resize((224, 224)),\n",
    "    transforms.ToTensor(),\n",
    "    transforms.Normalize([0.485, 0.456, 0.406], \n",
    "                         [0.229, 0.224, 0.225])\n",
    "])\n",
    "\n",
    "train_ds = datasets.ImageFolder(f\"{data_dir}/train/Bowling\", transform=transform)\n",
    "val_ds   = datasets.ImageFolder(f\"{data_dir}/val/Bowling\", transform=transform)\n",
    "test_ds  = datasets.ImageFolder(f\"{data_dir}/test/Bowling\", transform=transform)\n",
    "\n",
    "train_loader = DataLoader(train_ds, batch_size=32, shuffle=True)\n",
    "val_loader   = DataLoader(val_ds, batch_size=32, shuffle=False)\n",
    "test_loader  = DataLoader(test_ds, batch_size=32, shuffle=False)\n",
    "\n",
    "classes = train_ds.classes\n",
    "print(\"Classes:\", classes)\n",
    "\n"
   ]
  },
  {
   "cell_type": "code",
   "execution_count": 2,
   "id": "cb31b582",
   "metadata": {
    "execution": {
     "iopub.execute_input": "2025-09-08T07:24:36.379685Z",
     "iopub.status.busy": "2025-09-08T07:24:36.379035Z",
     "iopub.status.idle": "2025-09-08T07:24:36.384184Z",
     "shell.execute_reply": "2025-09-08T07:24:36.383499Z"
    },
    "papermill": {
     "duration": 0.009859,
     "end_time": "2025-09-08T07:24:36.385423",
     "exception": false,
     "start_time": "2025-09-08T07:24:36.375564",
     "status": "completed"
    },
    "tags": []
   },
   "outputs": [
    {
     "name": "stdout",
     "output_type": "stream",
     "text": [
      "Total training images: 1710\n",
      "Total validation images: 432\n",
      "Total test images: 549\n",
      "Total images in dataset: 2691\n"
     ]
    }
   ],
   "source": [
    "print(\"Total training images:\", len(train_ds))\n",
    "print(\"Total validation images:\", len(val_ds))\n",
    "print(\"Total test images:\", len(test_ds))\n",
    "\n",
    "total_images = len(train_ds) + len(val_ds) + len(test_ds)\n",
    "print(\"Total images in dataset:\", total_images)\n"
   ]
  },
  {
   "cell_type": "code",
   "execution_count": 3,
   "id": "94c3967f",
   "metadata": {
    "execution": {
     "iopub.execute_input": "2025-09-08T07:24:36.391814Z",
     "iopub.status.busy": "2025-09-08T07:24:36.391588Z",
     "iopub.status.idle": "2025-09-08T07:24:36.399193Z",
     "shell.execute_reply": "2025-09-08T07:24:36.398312Z"
    },
    "papermill": {
     "duration": 0.012161,
     "end_time": "2025-09-08T07:24:36.400419",
     "exception": false,
     "start_time": "2025-09-08T07:24:36.388258",
     "status": "completed"
    },
    "tags": []
   },
   "outputs": [
    {
     "name": "stdout",
     "output_type": "stream",
     "text": [
      "Training images (excluding 'random_occlusion'): 1520\n",
      "Validation images (excluding 'random_occlusion'): 384\n",
      "Test images (excluding 'random_occlusion'): 488\n",
      "Total images (excluding 'random_occlusion'): 2392\n"
     ]
    }
   ],
   "source": [
    "ignore_folder = \"random_occlusion\"\n",
    "\n",
    "def count_images_ignore_folder(dataset, ignore_folder):\n",
    "    count = 0\n",
    "    for img_path, label in dataset.samples:\n",
    "        # Skip if the image path contains the ignore_folder\n",
    "        if ignore_folder not in img_path.split(\"/\"):\n",
    "            count += 1\n",
    "    return count\n",
    "\n",
    "train_count = count_images_ignore_folder(train_ds, ignore_folder)\n",
    "val_count   = count_images_ignore_folder(val_ds, ignore_folder)\n",
    "test_count  = count_images_ignore_folder(test_ds, ignore_folder)\n",
    "\n",
    "total_count = train_count + val_count + test_count\n",
    "\n",
    "print(\"Training images (excluding '{}'): {}\".format(ignore_folder, train_count))\n",
    "print(\"Validation images (excluding '{}'): {}\".format(ignore_folder, val_count))\n",
    "print(\"Test images (excluding '{}'): {}\".format(ignore_folder, test_count))\n",
    "print(\"Total images (excluding '{}'): {}\".format(ignore_folder, total_count))\n"
   ]
  },
  {
   "cell_type": "code",
   "execution_count": 4,
   "id": "656e8298",
   "metadata": {
    "execution": {
     "iopub.execute_input": "2025-09-08T07:24:36.407134Z",
     "iopub.status.busy": "2025-09-08T07:24:36.406909Z",
     "iopub.status.idle": "2025-09-08T07:24:36.415903Z",
     "shell.execute_reply": "2025-09-08T07:24:36.415061Z"
    },
    "papermill": {
     "duration": 0.013759,
     "end_time": "2025-09-08T07:24:36.417098",
     "exception": false,
     "start_time": "2025-09-08T07:24:36.403339",
     "status": "completed"
    },
    "tags": []
   },
   "outputs": [
    {
     "name": "stdout",
     "output_type": "stream",
     "text": [
      "Training folders considered: {'lens_flare', 'low_resolution', 'gaussian_noise', 'dirty_lens', 'blur', 'original', 'random_occlusion', 'motion_blur', 'chromatic_aberration'}\n",
      "Validation folders considered: {'lens_flare', 'low_resolution', 'gaussian_noise', 'dirty_lens', 'blur', 'original', 'random_occlusion', 'motion_blur', 'chromatic_aberration'}\n",
      "Test folders considered: {'lens_flare', 'low_resolution', 'gaussian_noise', 'dirty_lens', 'blur', 'original', 'random_occlusion', 'motion_blur', 'chromatic_aberration'}\n"
     ]
    }
   ],
   "source": [
    "ignore_folder = \"random_occlusionw\"\n",
    "\n",
    "def get_included_folders(dataset, ignore_folder):\n",
    "    included = set()\n",
    "    for img_path, label in dataset.samples:\n",
    "        # Split the path into parts and ignore if ignore_folder is in the path\n",
    "        if ignore_folder not in img_path.split(\"/\"):\n",
    "            # The folder name just above the image (or the class folder)\n",
    "            folder_name = img_path.split(\"/\")[-2]\n",
    "            included.add(folder_name)\n",
    "    return included\n",
    "\n",
    "train_folders = get_included_folders(train_ds, ignore_folder)\n",
    "val_folders   = get_included_folders(val_ds, ignore_folder)\n",
    "test_folders  = get_included_folders(test_ds, ignore_folder)\n",
    "\n",
    "print(\"Training folders considered:\", train_folders)\n",
    "print(\"Validation folders considered:\", val_folders)\n",
    "print(\"Test folders considered:\", test_folders)\n"
   ]
  },
  {
   "cell_type": "code",
   "execution_count": 5,
   "id": "9cf0dd90",
   "metadata": {
    "execution": {
     "iopub.execute_input": "2025-09-08T07:24:36.424579Z",
     "iopub.status.busy": "2025-09-08T07:24:36.423937Z",
     "iopub.status.idle": "2025-09-08T07:24:36.472241Z",
     "shell.execute_reply": "2025-09-08T07:24:36.471192Z"
    },
    "papermill": {
     "duration": 0.053558,
     "end_time": "2025-09-08T07:24:36.473680",
     "exception": false,
     "start_time": "2025-09-08T07:24:36.420122",
     "status": "completed"
    },
    "tags": []
   },
   "outputs": [
    {
     "name": "stdout",
     "output_type": "stream",
     "text": [
      "Classes: ['fast_bowl', 'spin_bowl']\n",
      "Final Training images: 1520\n",
      "Final Validation images: 384\n",
      "Final Test images: 488\n",
      "Total images after filtering: 2392\n"
     ]
    }
   ],
   "source": [
    "ignore_folder = \"random_occlusion\"\n",
    "\n",
    "def filter_samples(dataset, ignore_folder):\n",
    "    # Keep only samples where ignore_folder is NOT in the path\n",
    "    filtered_samples = [s for s in dataset.samples if ignore_folder not in s[0].split(\"/\")]\n",
    "    dataset.samples = filtered_samples\n",
    "    dataset.targets = [s[1] for s in filtered_samples]  # Update targets accordingly\n",
    "    return dataset\n",
    "\n",
    "# Create original datasets\n",
    "train_ds = datasets.ImageFolder(f\"{data_dir}/train/Bowling\", transform=transform)\n",
    "val_ds   = datasets.ImageFolder(f\"{data_dir}/val/Bowling\", transform=transform)\n",
    "test_ds  = datasets.ImageFolder(f\"{data_dir}/test/Bowling\", transform=transform)\n",
    "\n",
    "# Filter out 'random_occlusion' folder\n",
    "train_ds = filter_samples(train_ds, ignore_folder)\n",
    "val_ds   = filter_samples(val_ds, ignore_folder)\n",
    "test_ds  = filter_samples(test_ds, ignore_folder)\n",
    "\n",
    "# DataLoaders\n",
    "train_loader = DataLoader(train_ds, batch_size=32, shuffle=True)\n",
    "val_loader   = DataLoader(val_ds, batch_size=32, shuffle=False)\n",
    "test_loader  = DataLoader(test_ds, batch_size=32, shuffle=False)\n",
    "\n",
    "# Classes (will remain the same)\n",
    "classes = train_ds.classes\n",
    "print(\"Classes:\", classes)\n",
    "\n",
    "# Show counts\n",
    "print(\"Final Training images:\", len(train_ds))\n",
    "print(\"Final Validation images:\", len(val_ds))\n",
    "print(\"Final Test images:\", len(test_ds))\n",
    "print(\"Total images after filtering:\", len(train_ds) + len(val_ds) + len(test_ds))\n"
   ]
  },
  {
   "cell_type": "code",
   "execution_count": 6,
   "id": "b3b08a6a",
   "metadata": {
    "execution": {
     "iopub.execute_input": "2025-09-08T07:24:36.480694Z",
     "iopub.status.busy": "2025-09-08T07:24:36.480415Z",
     "iopub.status.idle": "2025-09-08T07:24:36.489188Z",
     "shell.execute_reply": "2025-09-08T07:24:36.488481Z"
    },
    "papermill": {
     "duration": 0.013319,
     "end_time": "2025-09-08T07:24:36.490256",
     "exception": false,
     "start_time": "2025-09-08T07:24:36.476937",
     "status": "completed"
    },
    "tags": []
   },
   "outputs": [
    {
     "name": "stdout",
     "output_type": "stream",
     "text": [
      "Training folders considered: {'lens_flare', 'low_resolution', 'gaussian_noise', 'dirty_lens', 'blur', 'original', 'motion_blur', 'chromatic_aberration'}\n",
      "Validation folders considered: {'lens_flare', 'low_resolution', 'gaussian_noise', 'dirty_lens', 'blur', 'original', 'motion_blur', 'chromatic_aberration'}\n",
      "Test folders considered: {'lens_flare', 'low_resolution', 'gaussian_noise', 'dirty_lens', 'blur', 'original', 'motion_blur', 'chromatic_aberration'}\n"
     ]
    }
   ],
   "source": [
    "ignore_folder = \"random_occlusion\"\n",
    "\n",
    "def get_included_folders(dataset, ignore_folder):\n",
    "    included = set()\n",
    "    for img_path, label in dataset.samples:\n",
    "        # Split the path into parts and ignore if ignore_folder is in the path\n",
    "        if ignore_folder not in img_path.split(\"/\"):\n",
    "            # The folder name just above the image (or the class folder)\n",
    "            folder_name = img_path.split(\"/\")[-2]\n",
    "            included.add(folder_name)\n",
    "    return included\n",
    "\n",
    "train_folders = get_included_folders(train_ds, ignore_folder)\n",
    "val_folders   = get_included_folders(val_ds, ignore_folder)\n",
    "test_folders  = get_included_folders(test_ds, ignore_folder)\n",
    "\n",
    "print(\"Training folders considered:\", train_folders)\n",
    "print(\"Validation folders considered:\", val_folders)\n",
    "print(\"Test folders considered:\", test_folders)\n"
   ]
  },
  {
   "cell_type": "code",
   "execution_count": 7,
   "id": "49ac0ade",
   "metadata": {
    "execution": {
     "iopub.execute_input": "2025-09-08T07:24:36.497378Z",
     "iopub.status.busy": "2025-09-08T07:24:36.497144Z",
     "iopub.status.idle": "2025-09-08T07:24:36.519190Z",
     "shell.execute_reply": "2025-09-08T07:24:36.518365Z"
    },
    "papermill": {
     "duration": 0.027202,
     "end_time": "2025-09-08T07:24:36.520458",
     "exception": false,
     "start_time": "2025-09-08T07:24:36.493256",
     "status": "completed"
    },
    "tags": []
   },
   "outputs": [],
   "source": [
    "\n",
    "\n",
    "def _make_divisible(v, divisor, min_value=None):\n",
    "    \"\"\"\n",
    "    This function is taken from the original tf repo.\n",
    "    It ensures that all layers have a channel number that is divisible by 8\n",
    "    \"\"\"\n",
    "    if min_value is None:\n",
    "        min_value = divisor\n",
    "    new_v = max(min_value, int(v + divisor / 2) // divisor * divisor)\n",
    "    if new_v < 0.9 * v:\n",
    "        new_v += divisor\n",
    "    return new_v\n",
    "\n",
    "class Swish(nn.Module):\n",
    "    \"\"\"Swish activation function (x * sigmoid(x))\"\"\"\n",
    "    def forward(self, x):\n",
    "        return x * torch.sigmoid(x)\n",
    "\n",
    "class SqueezeExcitation(nn.Module):\n",
    "    \"\"\"Squeeze-and-Excitation block\"\"\"\n",
    "    def __init__(self, in_planes, reduced_dim):\n",
    "        super().__init__()\n",
    "        self.se = nn.Sequential(\n",
    "            nn.AdaptiveAvgPool2d(1),\n",
    "            nn.Conv2d(in_planes, reduced_dim, 1),\n",
    "            Swish(),\n",
    "            nn.Conv2d(reduced_dim, in_planes, 1),\n",
    "            nn.Sigmoid()\n",
    "        )\n",
    "\n",
    "    def forward(self, x):\n",
    "        return x * self.se(x)\n",
    "\n",
    "class StochasticDepth(nn.Module):\n",
    "    \"\"\"Stochastic Depth regularization\"\"\"\n",
    "    def __init__(self, drop_rate):\n",
    "        super().__init__()\n",
    "        self.drop_rate = drop_rate\n",
    "\n",
    "    def forward(self, x, residual):\n",
    "        if not self.training:\n",
    "            return residual + x\n",
    "        \n",
    "        if self.drop_rate > 0:\n",
    "            batch_size = x.shape[0]\n",
    "            random_tensor = (1 - self.drop_rate) + torch.rand(\n",
    "                (batch_size, 1, 1, 1), dtype=x.dtype, device=x.device\n",
    "            )\n",
    "            binary_mask = torch.floor(random_tensor)\n",
    "            x = x / (1 - self.drop_rate) * binary_mask\n",
    "        return residual + x\n",
    "\n",
    "class MBConvBlock(nn.Module):\n",
    "    \"\"\"Mobile Inverted Residual Bottleneck Block\"\"\"\n",
    "    def __init__(self, in_planes, out_planes, kernel_size, stride, expand_ratio, se_ratio, drop_rate):\n",
    "        super().__init__()\n",
    "        self.in_planes = in_planes\n",
    "        self.out_planes = out_planes\n",
    "        self.stride = stride\n",
    "        self.expand_ratio = expand_ratio\n",
    "        \n",
    "        # Expansion phase\n",
    "        hidden_dim = in_planes * expand_ratio\n",
    "        self.expand_conv = nn.Conv2d(in_planes, hidden_dim, 1, bias=False) if expand_ratio != 1 else nn.Identity()\n",
    "        self.expand_bn = nn.BatchNorm2d(hidden_dim) if expand_ratio != 1 else nn.Identity()\n",
    "        \n",
    "        # Depthwise convolution\n",
    "        self.depthwise_conv = nn.Conv2d(hidden_dim, hidden_dim, kernel_size, stride, \n",
    "                                       padding=(kernel_size-1)//2, groups=hidden_dim, bias=False)\n",
    "        self.depthwise_bn = nn.BatchNorm2d(hidden_dim)\n",
    "        \n",
    "        # Squeeze-and-Excitation\n",
    "        se_planes = max(1, int(in_planes * se_ratio))\n",
    "        self.se = SqueezeExcitation(hidden_dim, se_planes)\n",
    "        \n",
    "        # Output phase\n",
    "        self.project_conv = nn.Conv2d(hidden_dim, out_planes, 1, bias=False)\n",
    "        self.project_bn = nn.BatchNorm2d(out_planes)\n",
    "        \n",
    "        # Stochastic depth\n",
    "        self.stoch_depth = StochasticDepth(drop_rate)\n",
    "        \n",
    "        # Skip connection\n",
    "        self.use_skip_connection = (stride == 1) and (in_planes == out_planes)\n",
    "        \n",
    "    def forward(self, x):\n",
    "        residual = x\n",
    "        \n",
    "        # Expansion\n",
    "        if self.expand_ratio != 1:\n",
    "            x = Swish()(self.expand_bn(self.expand_conv(x)))\n",
    "        \n",
    "        # Depthwise\n",
    "        x = Swish()(self.depthwise_bn(self.depthwise_conv(x)))\n",
    "        \n",
    "        # Squeeze-and-Excitation\n",
    "        x = self.se(x)\n",
    "        \n",
    "        # Project\n",
    "        x = self.project_bn(self.project_conv(x))\n",
    "        \n",
    "        # Skip connection and stochastic depth\n",
    "        if self.use_skip_connection:\n",
    "            x = self.stoch_depth(x, residual)\n",
    "        \n",
    "        return x\n",
    "\n",
    "class MyEfficientNetB0(nn.Module):\n",
    "    \"\"\"EfficientNetB0 Implementation from Scratch\"\"\"\n",
    "    def __init__(self, num_classes=4, width_coeff=1.0, depth_coeff=1.0, dropout_rate=0.2, drop_connect_rate=0.2):\n",
    "        super().__init__()\n",
    "        \n",
    "        # EfficientNet-B0 baseline\n",
    "        # [expansion, output_filter, num_repeat, stride, kernel_size, se_ratio]\n",
    "        settings = [\n",
    "            [1,  16, 1, 1, 3, 0.25],  # MBConv1_3x3, SE, 112 -> 112\n",
    "            [6,  24, 2, 2, 3, 0.25],  # MBConv6_3x3, SE, 112 ->  56\n",
    "            [6,  40, 2, 2, 5, 0.25],  # MBConv6_5x5, SE,  56 ->  28\n",
    "            [6,  80, 3, 2, 3, 0.25],  # MBConv6_3x3, SE,  28 ->  14\n",
    "            [6, 112, 3, 1, 5, 0.25],  # MBConv6_5x5, SE,  14 ->  14\n",
    "            [6, 192, 4, 2, 5, 0.25],  # MBConv6_5x5, SE,  14 ->   7\n",
    "            [6, 320, 1, 1, 3, 0.25],  # MBConv6_3x3, SE,   7 ->   7\n",
    "        ]\n",
    "        \n",
    "        # Stem\n",
    "        out_channels = _make_divisible(32 * width_coeff, 8)\n",
    "        self.stem_conv = nn.Conv2d(3, out_channels, 3, stride=2, padding=1, bias=False)\n",
    "        self.stem_bn = nn.BatchNorm2d(out_channels)\n",
    "        \n",
    "        # Building inverted residual blocks\n",
    "        self.blocks = nn.ModuleList([])\n",
    "        in_channels = out_channels\n",
    "        \n",
    "        total_blocks = sum([max(1, int(math.ceil(num_repeat * depth_coeff))) for _, _, num_repeat, _, _, _ in settings])\n",
    "        block_idx = 0\n",
    "        \n",
    "        for expand_ratio, output_filter, num_repeat, stride, kernel_size, se_ratio in settings:\n",
    "            output_filter = _make_divisible(output_filter * width_coeff, 8)\n",
    "            num_repeat = max(1, int(math.ceil(num_repeat * depth_coeff)))\n",
    "            \n",
    "            for i in range(num_repeat):\n",
    "                drop_rate = drop_connect_rate * block_idx / total_blocks\n",
    "                \n",
    "                self.blocks.append(MBConvBlock(\n",
    "                    in_channels if i == 0 else output_filter,\n",
    "                    output_filter,\n",
    "                    kernel_size,\n",
    "                    stride if i == 0 else 1,\n",
    "                    expand_ratio,\n",
    "                    se_ratio,\n",
    "                    drop_rate\n",
    "                ))\n",
    "                \n",
    "                block_idx += 1\n",
    "            in_channels = output_filter\n",
    "        \n",
    "        # Head\n",
    "        self.head_conv = nn.Conv2d(in_channels, _make_divisible(1280 * width_coeff, 8), 1, bias=False)\n",
    "        self.head_bn = nn.BatchNorm2d(_make_divisible(1280 * width_coeff, 8))\n",
    "        self.avgpool = nn.AdaptiveAvgPool2d((1, 1))\n",
    "        self.dropout = nn.Dropout(dropout_rate)\n",
    "        self.classifier = nn.Linear(_make_divisible(1280 * width_coeff, 8), num_classes)\n",
    "        \n",
    "        # Initialize weights\n",
    "        self._initialize_weights()\n",
    "    \n",
    "    def _initialize_weights(self):\n",
    "        \"\"\"Initialize weights using appropriate methods\"\"\"\n",
    "        for m in self.modules():\n",
    "            if isinstance(m, nn.Conv2d):\n",
    "                nn.init.kaiming_normal_(m.weight, mode='fan_out', nonlinearity='relu')\n",
    "                if m.bias is not None:\n",
    "                    nn.init.zeros_(m.bias)\n",
    "            elif isinstance(m, nn.BatchNorm2d):\n",
    "                nn.init.ones_(m.weight)\n",
    "                nn.init.zeros_(m.bias)\n",
    "            elif isinstance(m, nn.Linear):\n",
    "                nn.init.normal_(m.weight, 0, 0.01)\n",
    "                nn.init.zeros_(m.bias)\n",
    "    \n",
    "    def forward(self, x):\n",
    "        # Stem\n",
    "        x = Swish()(self.stem_bn(self.stem_conv(x)))\n",
    "        \n",
    "        # Blocks\n",
    "        for block in self.blocks:\n",
    "            x = block(x)\n",
    "        \n",
    "        # Head\n",
    "        x = Swish()(self.head_bn(self.head_conv(x)))\n",
    "        x = self.avgpool(x)\n",
    "        x = torch.flatten(x, 1)\n",
    "        x = self.dropout(x)\n",
    "        x = self.classifier(x)\n",
    "        \n",
    "        return x"
   ]
  },
  {
   "cell_type": "code",
   "execution_count": 8,
   "id": "835437ce",
   "metadata": {
    "execution": {
     "iopub.execute_input": "2025-09-08T07:24:36.528138Z",
     "iopub.status.busy": "2025-09-08T07:24:36.527589Z",
     "iopub.status.idle": "2025-09-08T07:24:38.290757Z",
     "shell.execute_reply": "2025-09-08T07:24:38.289936Z"
    },
    "papermill": {
     "duration": 1.768908,
     "end_time": "2025-09-08T07:24:38.292676",
     "exception": false,
     "start_time": "2025-09-08T07:24:36.523768",
     "status": "completed"
    },
    "tags": []
   },
   "outputs": [
    {
     "name": "stdout",
     "output_type": "stream",
     "text": [
      "EfficientNetB0 Model Summary:\n",
      "----------------------------------------------------------------\n",
      "        Layer (type)               Output Shape         Param #\n",
      "================================================================\n",
      "            Conv2d-1         [-1, 32, 112, 112]             864\n",
      "       BatchNorm2d-2         [-1, 32, 112, 112]              64\n",
      "            Conv2d-3         [-1, 32, 112, 112]             288\n",
      "       BatchNorm2d-4         [-1, 32, 112, 112]              64\n",
      " AdaptiveAvgPool2d-5             [-1, 32, 1, 1]               0\n",
      "            Conv2d-6              [-1, 8, 1, 1]             264\n",
      "             Swish-7              [-1, 8, 1, 1]               0\n",
      "            Conv2d-8             [-1, 32, 1, 1]             288\n",
      "           Sigmoid-9             [-1, 32, 1, 1]               0\n",
      "SqueezeExcitation-10         [-1, 32, 112, 112]               0\n",
      "           Conv2d-11         [-1, 16, 112, 112]             512\n",
      "      BatchNorm2d-12         [-1, 16, 112, 112]              32\n",
      "      MBConvBlock-13         [-1, 16, 112, 112]               0\n",
      "           Conv2d-14         [-1, 96, 112, 112]           1,536\n",
      "      BatchNorm2d-15         [-1, 96, 112, 112]             192\n",
      "           Conv2d-16           [-1, 96, 56, 56]             864\n",
      "      BatchNorm2d-17           [-1, 96, 56, 56]             192\n",
      "AdaptiveAvgPool2d-18             [-1, 96, 1, 1]               0\n",
      "           Conv2d-19              [-1, 4, 1, 1]             388\n",
      "            Swish-20              [-1, 4, 1, 1]               0\n",
      "           Conv2d-21             [-1, 96, 1, 1]             480\n",
      "          Sigmoid-22             [-1, 96, 1, 1]               0\n",
      "SqueezeExcitation-23           [-1, 96, 56, 56]               0\n",
      "           Conv2d-24           [-1, 24, 56, 56]           2,304\n",
      "      BatchNorm2d-25           [-1, 24, 56, 56]              48\n",
      "      MBConvBlock-26           [-1, 24, 56, 56]               0\n",
      "           Conv2d-27          [-1, 144, 56, 56]           3,456\n",
      "      BatchNorm2d-28          [-1, 144, 56, 56]             288\n",
      "           Conv2d-29          [-1, 144, 56, 56]           1,296\n",
      "      BatchNorm2d-30          [-1, 144, 56, 56]             288\n",
      "AdaptiveAvgPool2d-31            [-1, 144, 1, 1]               0\n",
      "           Conv2d-32              [-1, 6, 1, 1]             870\n",
      "            Swish-33              [-1, 6, 1, 1]               0\n",
      "           Conv2d-34            [-1, 144, 1, 1]           1,008\n",
      "          Sigmoid-35            [-1, 144, 1, 1]               0\n",
      "SqueezeExcitation-36          [-1, 144, 56, 56]               0\n",
      "           Conv2d-37           [-1, 24, 56, 56]           3,456\n",
      "      BatchNorm2d-38           [-1, 24, 56, 56]              48\n",
      "  StochasticDepth-39           [-1, 24, 56, 56]               0\n",
      "      MBConvBlock-40           [-1, 24, 56, 56]               0\n",
      "           Conv2d-41          [-1, 144, 56, 56]           3,456\n",
      "      BatchNorm2d-42          [-1, 144, 56, 56]             288\n",
      "           Conv2d-43          [-1, 144, 28, 28]           3,600\n",
      "      BatchNorm2d-44          [-1, 144, 28, 28]             288\n",
      "AdaptiveAvgPool2d-45            [-1, 144, 1, 1]               0\n",
      "           Conv2d-46              [-1, 6, 1, 1]             870\n",
      "            Swish-47              [-1, 6, 1, 1]               0\n",
      "           Conv2d-48            [-1, 144, 1, 1]           1,008\n",
      "          Sigmoid-49            [-1, 144, 1, 1]               0\n",
      "SqueezeExcitation-50          [-1, 144, 28, 28]               0\n",
      "           Conv2d-51           [-1, 40, 28, 28]           5,760\n",
      "      BatchNorm2d-52           [-1, 40, 28, 28]              80\n",
      "      MBConvBlock-53           [-1, 40, 28, 28]               0\n",
      "           Conv2d-54          [-1, 240, 28, 28]           9,600\n",
      "      BatchNorm2d-55          [-1, 240, 28, 28]             480\n",
      "           Conv2d-56          [-1, 240, 28, 28]           6,000\n",
      "      BatchNorm2d-57          [-1, 240, 28, 28]             480\n",
      "AdaptiveAvgPool2d-58            [-1, 240, 1, 1]               0\n",
      "           Conv2d-59             [-1, 10, 1, 1]           2,410\n",
      "            Swish-60             [-1, 10, 1, 1]               0\n",
      "           Conv2d-61            [-1, 240, 1, 1]           2,640\n",
      "          Sigmoid-62            [-1, 240, 1, 1]               0\n",
      "SqueezeExcitation-63          [-1, 240, 28, 28]               0\n",
      "           Conv2d-64           [-1, 40, 28, 28]           9,600\n",
      "      BatchNorm2d-65           [-1, 40, 28, 28]              80\n",
      "  StochasticDepth-66           [-1, 40, 28, 28]               0\n",
      "      MBConvBlock-67           [-1, 40, 28, 28]               0\n",
      "           Conv2d-68          [-1, 240, 28, 28]           9,600\n",
      "      BatchNorm2d-69          [-1, 240, 28, 28]             480\n",
      "           Conv2d-70          [-1, 240, 14, 14]           2,160\n",
      "      BatchNorm2d-71          [-1, 240, 14, 14]             480\n",
      "AdaptiveAvgPool2d-72            [-1, 240, 1, 1]               0\n",
      "           Conv2d-73             [-1, 10, 1, 1]           2,410\n",
      "            Swish-74             [-1, 10, 1, 1]               0\n",
      "           Conv2d-75            [-1, 240, 1, 1]           2,640\n",
      "          Sigmoid-76            [-1, 240, 1, 1]               0\n",
      "SqueezeExcitation-77          [-1, 240, 14, 14]               0\n",
      "           Conv2d-78           [-1, 80, 14, 14]          19,200\n",
      "      BatchNorm2d-79           [-1, 80, 14, 14]             160\n",
      "      MBConvBlock-80           [-1, 80, 14, 14]               0\n",
      "           Conv2d-81          [-1, 480, 14, 14]          38,400\n",
      "      BatchNorm2d-82          [-1, 480, 14, 14]             960\n",
      "           Conv2d-83          [-1, 480, 14, 14]           4,320\n",
      "      BatchNorm2d-84          [-1, 480, 14, 14]             960\n",
      "AdaptiveAvgPool2d-85            [-1, 480, 1, 1]               0\n",
      "           Conv2d-86             [-1, 20, 1, 1]           9,620\n",
      "            Swish-87             [-1, 20, 1, 1]               0\n",
      "           Conv2d-88            [-1, 480, 1, 1]          10,080\n",
      "          Sigmoid-89            [-1, 480, 1, 1]               0\n",
      "SqueezeExcitation-90          [-1, 480, 14, 14]               0\n",
      "           Conv2d-91           [-1, 80, 14, 14]          38,400\n",
      "      BatchNorm2d-92           [-1, 80, 14, 14]             160\n",
      "  StochasticDepth-93           [-1, 80, 14, 14]               0\n",
      "      MBConvBlock-94           [-1, 80, 14, 14]               0\n",
      "           Conv2d-95          [-1, 480, 14, 14]          38,400\n",
      "      BatchNorm2d-96          [-1, 480, 14, 14]             960\n",
      "           Conv2d-97          [-1, 480, 14, 14]           4,320\n",
      "      BatchNorm2d-98          [-1, 480, 14, 14]             960\n",
      "AdaptiveAvgPool2d-99            [-1, 480, 1, 1]               0\n",
      "          Conv2d-100             [-1, 20, 1, 1]           9,620\n",
      "           Swish-101             [-1, 20, 1, 1]               0\n",
      "          Conv2d-102            [-1, 480, 1, 1]          10,080\n",
      "         Sigmoid-103            [-1, 480, 1, 1]               0\n",
      "SqueezeExcitation-104          [-1, 480, 14, 14]               0\n",
      "          Conv2d-105           [-1, 80, 14, 14]          38,400\n",
      "     BatchNorm2d-106           [-1, 80, 14, 14]             160\n",
      " StochasticDepth-107           [-1, 80, 14, 14]               0\n",
      "     MBConvBlock-108           [-1, 80, 14, 14]               0\n",
      "          Conv2d-109          [-1, 480, 14, 14]          38,400\n",
      "     BatchNorm2d-110          [-1, 480, 14, 14]             960\n",
      "          Conv2d-111          [-1, 480, 14, 14]          12,000\n",
      "     BatchNorm2d-112          [-1, 480, 14, 14]             960\n",
      "AdaptiveAvgPool2d-113            [-1, 480, 1, 1]               0\n",
      "          Conv2d-114             [-1, 20, 1, 1]           9,620\n",
      "           Swish-115             [-1, 20, 1, 1]               0\n",
      "          Conv2d-116            [-1, 480, 1, 1]          10,080\n",
      "         Sigmoid-117            [-1, 480, 1, 1]               0\n",
      "SqueezeExcitation-118          [-1, 480, 14, 14]               0\n",
      "          Conv2d-119          [-1, 112, 14, 14]          53,760\n",
      "     BatchNorm2d-120          [-1, 112, 14, 14]             224\n",
      "     MBConvBlock-121          [-1, 112, 14, 14]               0\n",
      "          Conv2d-122          [-1, 672, 14, 14]          75,264\n",
      "     BatchNorm2d-123          [-1, 672, 14, 14]           1,344\n",
      "          Conv2d-124          [-1, 672, 14, 14]          16,800\n",
      "     BatchNorm2d-125          [-1, 672, 14, 14]           1,344\n",
      "AdaptiveAvgPool2d-126            [-1, 672, 1, 1]               0\n",
      "          Conv2d-127             [-1, 28, 1, 1]          18,844\n",
      "           Swish-128             [-1, 28, 1, 1]               0\n",
      "          Conv2d-129            [-1, 672, 1, 1]          19,488\n",
      "         Sigmoid-130            [-1, 672, 1, 1]               0\n",
      "SqueezeExcitation-131          [-1, 672, 14, 14]               0\n",
      "          Conv2d-132          [-1, 112, 14, 14]          75,264\n",
      "     BatchNorm2d-133          [-1, 112, 14, 14]             224\n",
      " StochasticDepth-134          [-1, 112, 14, 14]               0\n",
      "     MBConvBlock-135          [-1, 112, 14, 14]               0\n",
      "          Conv2d-136          [-1, 672, 14, 14]          75,264\n",
      "     BatchNorm2d-137          [-1, 672, 14, 14]           1,344\n",
      "          Conv2d-138          [-1, 672, 14, 14]          16,800\n",
      "     BatchNorm2d-139          [-1, 672, 14, 14]           1,344\n",
      "AdaptiveAvgPool2d-140            [-1, 672, 1, 1]               0\n",
      "          Conv2d-141             [-1, 28, 1, 1]          18,844\n",
      "           Swish-142             [-1, 28, 1, 1]               0\n",
      "          Conv2d-143            [-1, 672, 1, 1]          19,488\n",
      "         Sigmoid-144            [-1, 672, 1, 1]               0\n",
      "SqueezeExcitation-145          [-1, 672, 14, 14]               0\n",
      "          Conv2d-146          [-1, 112, 14, 14]          75,264\n",
      "     BatchNorm2d-147          [-1, 112, 14, 14]             224\n",
      " StochasticDepth-148          [-1, 112, 14, 14]               0\n",
      "     MBConvBlock-149          [-1, 112, 14, 14]               0\n",
      "          Conv2d-150          [-1, 672, 14, 14]          75,264\n",
      "     BatchNorm2d-151          [-1, 672, 14, 14]           1,344\n",
      "          Conv2d-152            [-1, 672, 7, 7]          16,800\n",
      "     BatchNorm2d-153            [-1, 672, 7, 7]           1,344\n",
      "AdaptiveAvgPool2d-154            [-1, 672, 1, 1]               0\n",
      "          Conv2d-155             [-1, 28, 1, 1]          18,844\n",
      "           Swish-156             [-1, 28, 1, 1]               0\n",
      "          Conv2d-157            [-1, 672, 1, 1]          19,488\n",
      "         Sigmoid-158            [-1, 672, 1, 1]               0\n",
      "SqueezeExcitation-159            [-1, 672, 7, 7]               0\n",
      "          Conv2d-160            [-1, 192, 7, 7]         129,024\n",
      "     BatchNorm2d-161            [-1, 192, 7, 7]             384\n",
      "     MBConvBlock-162            [-1, 192, 7, 7]               0\n",
      "          Conv2d-163           [-1, 1152, 7, 7]         221,184\n",
      "     BatchNorm2d-164           [-1, 1152, 7, 7]           2,304\n",
      "          Conv2d-165           [-1, 1152, 7, 7]          28,800\n",
      "     BatchNorm2d-166           [-1, 1152, 7, 7]           2,304\n",
      "AdaptiveAvgPool2d-167           [-1, 1152, 1, 1]               0\n",
      "          Conv2d-168             [-1, 48, 1, 1]          55,344\n",
      "           Swish-169             [-1, 48, 1, 1]               0\n",
      "          Conv2d-170           [-1, 1152, 1, 1]          56,448\n",
      "         Sigmoid-171           [-1, 1152, 1, 1]               0\n",
      "SqueezeExcitation-172           [-1, 1152, 7, 7]               0\n",
      "          Conv2d-173            [-1, 192, 7, 7]         221,184\n",
      "     BatchNorm2d-174            [-1, 192, 7, 7]             384\n",
      " StochasticDepth-175            [-1, 192, 7, 7]               0\n",
      "     MBConvBlock-176            [-1, 192, 7, 7]               0\n",
      "          Conv2d-177           [-1, 1152, 7, 7]         221,184\n",
      "     BatchNorm2d-178           [-1, 1152, 7, 7]           2,304\n",
      "          Conv2d-179           [-1, 1152, 7, 7]          28,800\n",
      "     BatchNorm2d-180           [-1, 1152, 7, 7]           2,304\n",
      "AdaptiveAvgPool2d-181           [-1, 1152, 1, 1]               0\n",
      "          Conv2d-182             [-1, 48, 1, 1]          55,344\n",
      "           Swish-183             [-1, 48, 1, 1]               0\n",
      "          Conv2d-184           [-1, 1152, 1, 1]          56,448\n",
      "         Sigmoid-185           [-1, 1152, 1, 1]               0\n",
      "SqueezeExcitation-186           [-1, 1152, 7, 7]               0\n",
      "          Conv2d-187            [-1, 192, 7, 7]         221,184\n",
      "     BatchNorm2d-188            [-1, 192, 7, 7]             384\n",
      " StochasticDepth-189            [-1, 192, 7, 7]               0\n",
      "     MBConvBlock-190            [-1, 192, 7, 7]               0\n",
      "          Conv2d-191           [-1, 1152, 7, 7]         221,184\n",
      "     BatchNorm2d-192           [-1, 1152, 7, 7]           2,304\n",
      "          Conv2d-193           [-1, 1152, 7, 7]          28,800\n",
      "     BatchNorm2d-194           [-1, 1152, 7, 7]           2,304\n",
      "AdaptiveAvgPool2d-195           [-1, 1152, 1, 1]               0\n",
      "          Conv2d-196             [-1, 48, 1, 1]          55,344\n",
      "           Swish-197             [-1, 48, 1, 1]               0\n",
      "          Conv2d-198           [-1, 1152, 1, 1]          56,448\n",
      "         Sigmoid-199           [-1, 1152, 1, 1]               0\n",
      "SqueezeExcitation-200           [-1, 1152, 7, 7]               0\n",
      "          Conv2d-201            [-1, 192, 7, 7]         221,184\n",
      "     BatchNorm2d-202            [-1, 192, 7, 7]             384\n",
      " StochasticDepth-203            [-1, 192, 7, 7]               0\n",
      "     MBConvBlock-204            [-1, 192, 7, 7]               0\n",
      "          Conv2d-205           [-1, 1152, 7, 7]         221,184\n",
      "     BatchNorm2d-206           [-1, 1152, 7, 7]           2,304\n",
      "          Conv2d-207           [-1, 1152, 7, 7]          10,368\n",
      "     BatchNorm2d-208           [-1, 1152, 7, 7]           2,304\n",
      "AdaptiveAvgPool2d-209           [-1, 1152, 1, 1]               0\n",
      "          Conv2d-210             [-1, 48, 1, 1]          55,344\n",
      "           Swish-211             [-1, 48, 1, 1]               0\n",
      "          Conv2d-212           [-1, 1152, 1, 1]          56,448\n",
      "         Sigmoid-213           [-1, 1152, 1, 1]               0\n",
      "SqueezeExcitation-214           [-1, 1152, 7, 7]               0\n",
      "          Conv2d-215            [-1, 320, 7, 7]         368,640\n",
      "     BatchNorm2d-216            [-1, 320, 7, 7]             640\n",
      "     MBConvBlock-217            [-1, 320, 7, 7]               0\n",
      "          Conv2d-218           [-1, 1280, 7, 7]         409,600\n",
      "     BatchNorm2d-219           [-1, 1280, 7, 7]           2,560\n",
      "AdaptiveAvgPool2d-220           [-1, 1280, 1, 1]               0\n",
      "         Dropout-221                 [-1, 1280]               0\n",
      "          Linear-222                    [-1, 2]           2,562\n",
      "================================================================\n",
      "Total params: 4,010,110\n",
      "Trainable params: 4,010,110\n",
      "Non-trainable params: 0\n",
      "----------------------------------------------------------------\n",
      "Input size (MB): 0.57\n",
      "Forward/backward pass size (MB): 126.67\n",
      "Params size (MB): 15.30\n",
      "Estimated Total Size (MB): 142.54\n",
      "----------------------------------------------------------------\n"
     ]
    }
   ],
   "source": [
    "import math\n",
    "# -----------------------------\n",
    "# 3. Training Setup\n",
    "# -----------------------------\n",
    "device = torch.device(\"cuda\" if torch.cuda.is_available() else \"cpu\")\n",
    "model = MyEfficientNetB0(num_classes=len(classes)).to(device)\n",
    "criterion = nn.CrossEntropyLoss()\n",
    "optimizer = torch.optim.Adam(model.parameters(), lr=0.001)\n",
    "\n",
    "print(\"EfficientNetB0 Model Summary:\")\n",
    "try:\n",
    "    summary(model, (3, 224, 224))\n",
    "except:\n",
    "    print(\"Model summary generation failed - this is normal for complex architectures\")\n",
    "    print(f\"Model created successfully with {sum(p.numel() for p in model.parameters()):,} parameters\")"
   ]
  },
  {
   "cell_type": "code",
   "execution_count": 9,
   "id": "d68605e3",
   "metadata": {
    "execution": {
     "iopub.execute_input": "2025-09-08T07:24:38.301673Z",
     "iopub.status.busy": "2025-09-08T07:24:38.301394Z",
     "iopub.status.idle": "2025-09-08T07:45:03.445407Z",
     "shell.execute_reply": "2025-09-08T07:45:03.444580Z"
    },
    "papermill": {
     "duration": 1225.151668,
     "end_time": "2025-09-08T07:45:03.448312",
     "exception": false,
     "start_time": "2025-09-08T07:24:38.296644",
     "status": "completed"
    },
    "tags": []
   },
   "outputs": [
    {
     "name": "stdout",
     "output_type": "stream",
     "text": [
      "\n",
      "🚀 Starting EfficientNetB0 Training for 50 epochs...\n",
      "================================================================================\n",
      "\n",
      "📈 Epoch 1/50\n",
      "--------------------------------------------------\n",
      "🔄 Training Phase...\n"
     ]
    },
    {
     "name": "stderr",
     "output_type": "stream",
     "text": [
      "Training: 100%|██████████████████████████████| 48/48 [00:27<00:00,  1.76it/s, Loss=0.7000, Acc=0.5954]\n"
     ]
    },
    {
     "name": "stdout",
     "output_type": "stream",
     "text": [
      "✅ Training completed in 27.32s\n",
      "🔍 Validation Phase...\n"
     ]
    },
    {
     "name": "stderr",
     "output_type": "stream",
     "text": [
      "Validation: 100%|██████████████████████████████| 12/12 [00:04<00:00,  2.77it/s, Loss=0.6660, Acc=0.6250]\n"
     ]
    },
    {
     "name": "stdout",
     "output_type": "stream",
     "text": [
      "✅ Validation completed in 4.35s\n",
      "🌟 New best EfficientNetB0 model found! Validation Accuracy: 0.6250\n",
      "\n",
      "📊 Epoch 1 Summary:\n",
      "│ Train Loss: 0.7000 | Train Acc: 0.5954\n",
      "│ Val Loss:   0.6660 | Val Acc:   0.6250\n",
      "│ Train Time: 27.32s | Val Time: 4.35s\n",
      "│ Total Epoch Time: 31.86s\n",
      "│ Best Val Acc: 0.6250 (Epoch 1)\n",
      "│ GPU Memory: 0.1GB / 4.1GB\n",
      "================================================================================\n",
      "\n",
      "📈 Epoch 2/50\n",
      "--------------------------------------------------\n",
      "🔄 Training Phase...\n"
     ]
    },
    {
     "name": "stderr",
     "output_type": "stream",
     "text": [
      "Training: 100%|██████████████████████████████| 48/48 [00:20<00:00,  2.34it/s, Loss=0.6864, Acc=0.6197]\n"
     ]
    },
    {
     "name": "stdout",
     "output_type": "stream",
     "text": [
      "✅ Training completed in 20.55s\n",
      "🔍 Validation Phase...\n"
     ]
    },
    {
     "name": "stderr",
     "output_type": "stream",
     "text": [
      "Validation: 100%|██████████████████████████████| 12/12 [00:02<00:00,  4.10it/s, Loss=2.9828, Acc=0.6250]\n"
     ]
    },
    {
     "name": "stdout",
     "output_type": "stream",
     "text": [
      "✅ Validation completed in 2.93s\n",
      "\n",
      "📊 Epoch 2 Summary:\n",
      "│ Train Loss: 0.6864 | Train Acc: 0.6197\n",
      "│ Val Loss:   2.9828 | Val Acc:   0.6250\n",
      "│ Train Time: 20.55s | Val Time: 2.93s\n",
      "│ Total Epoch Time: 23.49s\n",
      "│ Best Val Acc: 0.6250 (Epoch 1)\n",
      "│ GPU Memory: 0.1GB / 4.1GB\n",
      "================================================================================\n",
      "\n",
      "📈 Epoch 3/50\n",
      "--------------------------------------------------\n",
      "🔄 Training Phase...\n"
     ]
    },
    {
     "name": "stderr",
     "output_type": "stream",
     "text": [
      "Training: 100%|██████████████████████████████| 48/48 [00:20<00:00,  2.33it/s, Loss=0.6716, Acc=0.6224]\n"
     ]
    },
    {
     "name": "stdout",
     "output_type": "stream",
     "text": [
      "✅ Training completed in 20.64s\n",
      "🔍 Validation Phase...\n"
     ]
    },
    {
     "name": "stderr",
     "output_type": "stream",
     "text": [
      "Validation: 100%|██████████████████████████████| 12/12 [00:02<00:00,  4.18it/s, Loss=1.1131, Acc=0.6250]\n"
     ]
    },
    {
     "name": "stdout",
     "output_type": "stream",
     "text": [
      "✅ Validation completed in 2.88s\n",
      "\n",
      "📊 Epoch 3 Summary:\n",
      "│ Train Loss: 0.6716 | Train Acc: 0.6224\n",
      "│ Val Loss:   1.1131 | Val Acc:   0.6250\n",
      "│ Train Time: 20.64s | Val Time: 2.88s\n",
      "│ Total Epoch Time: 23.52s\n",
      "│ Best Val Acc: 0.6250 (Epoch 1)\n",
      "│ GPU Memory: 0.1GB / 4.1GB\n",
      "================================================================================\n",
      "\n",
      "📈 Epoch 4/50\n",
      "--------------------------------------------------\n",
      "🔄 Training Phase...\n"
     ]
    },
    {
     "name": "stderr",
     "output_type": "stream",
     "text": [
      "Training: 100%|██████████████████████████████| 48/48 [00:20<00:00,  2.30it/s, Loss=0.6787, Acc=0.6118]\n"
     ]
    },
    {
     "name": "stdout",
     "output_type": "stream",
     "text": [
      "✅ Training completed in 20.91s\n",
      "🔍 Validation Phase...\n"
     ]
    },
    {
     "name": "stderr",
     "output_type": "stream",
     "text": [
      "Validation: 100%|██████████████████████████████| 12/12 [00:02<00:00,  4.10it/s, Loss=0.7445, Acc=0.6224]\n"
     ]
    },
    {
     "name": "stdout",
     "output_type": "stream",
     "text": [
      "✅ Validation completed in 2.93s\n",
      "\n",
      "📊 Epoch 4 Summary:\n",
      "│ Train Loss: 0.6787 | Train Acc: 0.6118\n",
      "│ Val Loss:   0.7445 | Val Acc:   0.6224\n",
      "│ Train Time: 20.91s | Val Time: 2.93s\n",
      "│ Total Epoch Time: 23.85s\n",
      "│ Best Val Acc: 0.6250 (Epoch 1)\n",
      "│ GPU Memory: 0.1GB / 4.1GB\n",
      "================================================================================\n",
      "\n",
      "📈 Epoch 5/50\n",
      "--------------------------------------------------\n",
      "🔄 Training Phase...\n"
     ]
    },
    {
     "name": "stderr",
     "output_type": "stream",
     "text": [
      "Training: 100%|██████████████████████████████| 48/48 [00:20<00:00,  2.29it/s, Loss=0.6709, Acc=0.6237]\n"
     ]
    },
    {
     "name": "stdout",
     "output_type": "stream",
     "text": [
      "✅ Training completed in 20.97s\n",
      "🔍 Validation Phase...\n"
     ]
    },
    {
     "name": "stderr",
     "output_type": "stream",
     "text": [
      "Validation: 100%|██████████████████████████████| 12/12 [00:02<00:00,  4.12it/s, Loss=0.7590, Acc=0.6302]\n"
     ]
    },
    {
     "name": "stdout",
     "output_type": "stream",
     "text": [
      "✅ Validation completed in 2.92s\n",
      "🌟 New best EfficientNetB0 model found! Validation Accuracy: 0.6302\n",
      "\n",
      "📊 Epoch 5 Summary:\n",
      "│ Train Loss: 0.6709 | Train Acc: 0.6237\n",
      "│ Val Loss:   0.7590 | Val Acc:   0.6302\n",
      "│ Train Time: 20.97s | Val Time: 2.92s\n",
      "│ Total Epoch Time: 23.90s\n",
      "│ Best Val Acc: 0.6302 (Epoch 5)\n",
      "│ GPU Memory: 0.1GB / 4.1GB\n",
      "================================================================================\n",
      "\n",
      "📈 Epoch 6/50\n",
      "--------------------------------------------------\n",
      "🔄 Training Phase...\n"
     ]
    },
    {
     "name": "stderr",
     "output_type": "stream",
     "text": [
      "Training: 100%|██████████████████████████████| 48/48 [00:21<00:00,  2.28it/s, Loss=0.6540, Acc=0.6296]\n"
     ]
    },
    {
     "name": "stdout",
     "output_type": "stream",
     "text": [
      "✅ Training completed in 21.08s\n",
      "🔍 Validation Phase...\n"
     ]
    },
    {
     "name": "stderr",
     "output_type": "stream",
     "text": [
      "Validation: 100%|██████████████████████████████| 12/12 [00:02<00:00,  4.17it/s, Loss=0.6482, Acc=0.6250]\n"
     ]
    },
    {
     "name": "stdout",
     "output_type": "stream",
     "text": [
      "✅ Validation completed in 2.89s\n",
      "\n",
      "📊 Epoch 6 Summary:\n",
      "│ Train Loss: 0.6540 | Train Acc: 0.6296\n",
      "│ Val Loss:   0.6482 | Val Acc:   0.6250\n",
      "│ Train Time: 21.08s | Val Time: 2.89s\n",
      "│ Total Epoch Time: 23.98s\n",
      "│ Best Val Acc: 0.6302 (Epoch 5)\n",
      "│ GPU Memory: 0.1GB / 4.1GB\n",
      "================================================================================\n",
      "\n",
      "📈 Epoch 7/50\n",
      "--------------------------------------------------\n",
      "🔄 Training Phase...\n"
     ]
    },
    {
     "name": "stderr",
     "output_type": "stream",
     "text": [
      "Training: 100%|██████████████████████████████| 48/48 [00:21<00:00,  2.27it/s, Loss=0.6475, Acc=0.6204]\n"
     ]
    },
    {
     "name": "stdout",
     "output_type": "stream",
     "text": [
      "✅ Training completed in 21.11s\n",
      "🔍 Validation Phase...\n"
     ]
    },
    {
     "name": "stderr",
     "output_type": "stream",
     "text": [
      "Validation: 100%|██████████████████████████████| 12/12 [00:02<00:00,  4.11it/s, Loss=0.6692, Acc=0.6250]\n"
     ]
    },
    {
     "name": "stdout",
     "output_type": "stream",
     "text": [
      "✅ Validation completed in 2.93s\n",
      "\n",
      "📊 Epoch 7 Summary:\n",
      "│ Train Loss: 0.6475 | Train Acc: 0.6204\n",
      "│ Val Loss:   0.6692 | Val Acc:   0.6250\n",
      "│ Train Time: 21.11s | Val Time: 2.93s\n",
      "│ Total Epoch Time: 24.04s\n",
      "│ Best Val Acc: 0.6302 (Epoch 5)\n",
      "│ GPU Memory: 0.1GB / 4.1GB\n",
      "================================================================================\n",
      "\n",
      "📈 Epoch 8/50\n",
      "--------------------------------------------------\n",
      "🔄 Training Phase...\n"
     ]
    },
    {
     "name": "stderr",
     "output_type": "stream",
     "text": [
      "Training: 100%|██████████████████████████████| 48/48 [00:21<00:00,  2.23it/s, Loss=0.6388, Acc=0.6224]\n"
     ]
    },
    {
     "name": "stdout",
     "output_type": "stream",
     "text": [
      "✅ Training completed in 21.49s\n",
      "🔍 Validation Phase...\n"
     ]
    },
    {
     "name": "stderr",
     "output_type": "stream",
     "text": [
      "Validation: 100%|██████████████████████████████| 12/12 [00:02<00:00,  4.18it/s, Loss=0.6705, Acc=0.6224]\n"
     ]
    },
    {
     "name": "stdout",
     "output_type": "stream",
     "text": [
      "✅ Validation completed in 2.87s\n",
      "\n",
      "📊 Epoch 8 Summary:\n",
      "│ Train Loss: 0.6388 | Train Acc: 0.6224\n",
      "│ Val Loss:   0.6705 | Val Acc:   0.6224\n",
      "│ Train Time: 21.49s | Val Time: 2.87s\n",
      "│ Total Epoch Time: 24.37s\n",
      "│ Best Val Acc: 0.6302 (Epoch 5)\n",
      "│ GPU Memory: 0.1GB / 4.1GB\n",
      "================================================================================\n",
      "\n",
      "📈 Epoch 9/50\n",
      "--------------------------------------------------\n",
      "🔄 Training Phase...\n"
     ]
    },
    {
     "name": "stderr",
     "output_type": "stream",
     "text": [
      "Training: 100%|██████████████████████████████| 48/48 [00:21<00:00,  2.25it/s, Loss=0.6227, Acc=0.6487]\n"
     ]
    },
    {
     "name": "stdout",
     "output_type": "stream",
     "text": [
      "✅ Training completed in 21.38s\n",
      "🔍 Validation Phase...\n"
     ]
    },
    {
     "name": "stderr",
     "output_type": "stream",
     "text": [
      "Validation: 100%|██████████████████████████████| 12/12 [00:02<00:00,  4.03it/s, Loss=0.7392, Acc=0.5417]\n"
     ]
    },
    {
     "name": "stdout",
     "output_type": "stream",
     "text": [
      "✅ Validation completed in 2.99s\n",
      "\n",
      "📊 Epoch 9 Summary:\n",
      "│ Train Loss: 0.6227 | Train Acc: 0.6487\n",
      "│ Val Loss:   0.7392 | Val Acc:   0.5417\n",
      "│ Train Time: 21.38s | Val Time: 2.99s\n",
      "│ Total Epoch Time: 24.37s\n",
      "│ Best Val Acc: 0.6302 (Epoch 5)\n",
      "│ GPU Memory: 0.1GB / 4.1GB\n",
      "================================================================================\n",
      "\n",
      "📈 Epoch 10/50\n",
      "--------------------------------------------------\n",
      "🔄 Training Phase...\n"
     ]
    },
    {
     "name": "stderr",
     "output_type": "stream",
     "text": [
      "Training: 100%|██████████████████████████████| 48/48 [00:21<00:00,  2.26it/s, Loss=0.6086, Acc=0.6664]\n"
     ]
    },
    {
     "name": "stdout",
     "output_type": "stream",
     "text": [
      "✅ Training completed in 21.22s\n",
      "🔍 Validation Phase...\n"
     ]
    },
    {
     "name": "stderr",
     "output_type": "stream",
     "text": [
      "Validation: 100%|██████████████████████████████| 12/12 [00:03<00:00,  3.92it/s, Loss=0.6325, Acc=0.6745]\n"
     ]
    },
    {
     "name": "stdout",
     "output_type": "stream",
     "text": [
      "✅ Validation completed in 3.07s\n",
      "🌟 New best EfficientNetB0 model found! Validation Accuracy: 0.6745\n",
      "\n",
      "📊 Epoch 10 Summary:\n",
      "│ Train Loss: 0.6086 | Train Acc: 0.6664\n",
      "│ Val Loss:   0.6325 | Val Acc:   0.6745\n",
      "│ Train Time: 21.22s | Val Time: 3.07s\n",
      "│ Total Epoch Time: 24.30s\n",
      "│ Best Val Acc: 0.6745 (Epoch 10)\n",
      "│ GPU Memory: 0.1GB / 4.1GB\n",
      "================================================================================\n",
      "\n",
      "📈 Epoch 11/50\n",
      "--------------------------------------------------\n",
      "🔄 Training Phase...\n"
     ]
    },
    {
     "name": "stderr",
     "output_type": "stream",
     "text": [
      "Training: 100%|██████████████████████████████| 48/48 [00:21<00:00,  2.25it/s, Loss=0.5799, Acc=0.6888]\n"
     ]
    },
    {
     "name": "stdout",
     "output_type": "stream",
     "text": [
      "✅ Training completed in 21.31s\n",
      "🔍 Validation Phase...\n"
     ]
    },
    {
     "name": "stderr",
     "output_type": "stream",
     "text": [
      "Validation: 100%|██████████████████████████████| 12/12 [00:02<00:00,  4.10it/s, Loss=0.7538, Acc=0.6406]\n"
     ]
    },
    {
     "name": "stdout",
     "output_type": "stream",
     "text": [
      "✅ Validation completed in 2.93s\n",
      "\n",
      "📊 Epoch 11 Summary:\n",
      "│ Train Loss: 0.5799 | Train Acc: 0.6888\n",
      "│ Val Loss:   0.7538 | Val Acc:   0.6406\n",
      "│ Train Time: 21.31s | Val Time: 2.93s\n",
      "│ Total Epoch Time: 24.25s\n",
      "│ Best Val Acc: 0.6745 (Epoch 10)\n",
      "│ GPU Memory: 0.1GB / 4.1GB\n",
      "================================================================================\n",
      "\n",
      "📈 Epoch 12/50\n",
      "--------------------------------------------------\n",
      "🔄 Training Phase...\n"
     ]
    },
    {
     "name": "stderr",
     "output_type": "stream",
     "text": [
      "Training: 100%|██████████████████████████████| 48/48 [00:21<00:00,  2.25it/s, Loss=0.5533, Acc=0.7276]\n"
     ]
    },
    {
     "name": "stdout",
     "output_type": "stream",
     "text": [
      "✅ Training completed in 21.34s\n",
      "🔍 Validation Phase...\n"
     ]
    },
    {
     "name": "stderr",
     "output_type": "stream",
     "text": [
      "Validation: 100%|██████████████████████████████| 12/12 [00:02<00:00,  4.12it/s, Loss=0.7190, Acc=0.6693]\n"
     ]
    },
    {
     "name": "stdout",
     "output_type": "stream",
     "text": [
      "✅ Validation completed in 2.92s\n",
      "\n",
      "📊 Epoch 12 Summary:\n",
      "│ Train Loss: 0.5533 | Train Acc: 0.7276\n",
      "│ Val Loss:   0.7190 | Val Acc:   0.6693\n",
      "│ Train Time: 21.34s | Val Time: 2.92s\n",
      "│ Total Epoch Time: 24.26s\n",
      "│ Best Val Acc: 0.6745 (Epoch 10)\n",
      "│ GPU Memory: 0.1GB / 4.1GB\n",
      "================================================================================\n",
      "\n",
      "📈 Epoch 13/50\n",
      "--------------------------------------------------\n",
      "🔄 Training Phase...\n"
     ]
    },
    {
     "name": "stderr",
     "output_type": "stream",
     "text": [
      "Training: 100%|██████████████████████████████| 48/48 [00:21<00:00,  2.27it/s, Loss=0.4496, Acc=0.7875]\n"
     ]
    },
    {
     "name": "stdout",
     "output_type": "stream",
     "text": [
      "✅ Training completed in 21.18s\n",
      "🔍 Validation Phase...\n"
     ]
    },
    {
     "name": "stderr",
     "output_type": "stream",
     "text": [
      "Validation: 100%|██████████████████████████████| 12/12 [00:02<00:00,  4.13it/s, Loss=0.7991, Acc=0.6979]\n"
     ]
    },
    {
     "name": "stdout",
     "output_type": "stream",
     "text": [
      "✅ Validation completed in 2.92s\n",
      "🌟 New best EfficientNetB0 model found! Validation Accuracy: 0.6979\n",
      "\n",
      "📊 Epoch 13 Summary:\n",
      "│ Train Loss: 0.4496 | Train Acc: 0.7875\n",
      "│ Val Loss:   0.7991 | Val Acc:   0.6979\n",
      "│ Train Time: 21.18s | Val Time: 2.92s\n",
      "│ Total Epoch Time: 24.10s\n",
      "│ Best Val Acc: 0.6979 (Epoch 13)\n",
      "│ GPU Memory: 0.1GB / 4.1GB\n",
      "================================================================================\n",
      "\n",
      "📈 Epoch 14/50\n",
      "--------------------------------------------------\n",
      "🔄 Training Phase...\n"
     ]
    },
    {
     "name": "stderr",
     "output_type": "stream",
     "text": [
      "Training: 100%|██████████████████████████████| 48/48 [00:21<00:00,  2.26it/s, Loss=0.3695, Acc=0.8401]\n"
     ]
    },
    {
     "name": "stdout",
     "output_type": "stream",
     "text": [
      "✅ Training completed in 21.22s\n",
      "🔍 Validation Phase...\n"
     ]
    },
    {
     "name": "stderr",
     "output_type": "stream",
     "text": [
      "Validation: 100%|██████████████████████████████| 12/12 [00:02<00:00,  4.11it/s, Loss=1.2828, Acc=0.6120]\n"
     ]
    },
    {
     "name": "stdout",
     "output_type": "stream",
     "text": [
      "✅ Validation completed in 2.93s\n",
      "\n",
      "📊 Epoch 14 Summary:\n",
      "│ Train Loss: 0.3695 | Train Acc: 0.8401\n",
      "│ Val Loss:   1.2828 | Val Acc:   0.6120\n",
      "│ Train Time: 21.22s | Val Time: 2.93s\n",
      "│ Total Epoch Time: 24.15s\n",
      "│ Best Val Acc: 0.6979 (Epoch 13)\n",
      "│ GPU Memory: 0.1GB / 4.1GB\n",
      "================================================================================\n",
      "\n",
      "📈 Epoch 15/50\n",
      "--------------------------------------------------\n",
      "🔄 Training Phase...\n"
     ]
    },
    {
     "name": "stderr",
     "output_type": "stream",
     "text": [
      "Training: 100%|██████████████████████████████| 48/48 [00:21<00:00,  2.26it/s, Loss=0.2976, Acc=0.8822]\n"
     ]
    },
    {
     "name": "stdout",
     "output_type": "stream",
     "text": [
      "✅ Training completed in 21.20s\n",
      "🔍 Validation Phase...\n"
     ]
    },
    {
     "name": "stderr",
     "output_type": "stream",
     "text": [
      "Validation: 100%|██████████████████████████████| 12/12 [00:02<00:00,  4.12it/s, Loss=0.8488, Acc=0.6562]\n"
     ]
    },
    {
     "name": "stdout",
     "output_type": "stream",
     "text": [
      "✅ Validation completed in 2.92s\n",
      "\n",
      "📊 Epoch 15 Summary:\n",
      "│ Train Loss: 0.2976 | Train Acc: 0.8822\n",
      "│ Val Loss:   0.8488 | Val Acc:   0.6562\n",
      "│ Train Time: 21.20s | Val Time: 2.92s\n",
      "│ Total Epoch Time: 24.12s\n",
      "│ Best Val Acc: 0.6979 (Epoch 13)\n",
      "│ GPU Memory: 0.1GB / 4.1GB\n",
      "================================================================================\n",
      "\n",
      "📈 Epoch 16/50\n",
      "--------------------------------------------------\n",
      "🔄 Training Phase...\n"
     ]
    },
    {
     "name": "stderr",
     "output_type": "stream",
     "text": [
      "Training: 100%|██████████████████████████████| 48/48 [00:21<00:00,  2.25it/s, Loss=0.2491, Acc=0.9013]\n"
     ]
    },
    {
     "name": "stdout",
     "output_type": "stream",
     "text": [
      "✅ Training completed in 21.31s\n",
      "🔍 Validation Phase...\n"
     ]
    },
    {
     "name": "stderr",
     "output_type": "stream",
     "text": [
      "Validation: 100%|██████████████████████████████| 12/12 [00:02<00:00,  4.16it/s, Loss=1.0717, Acc=0.6198]\n"
     ]
    },
    {
     "name": "stdout",
     "output_type": "stream",
     "text": [
      "✅ Validation completed in 2.89s\n",
      "\n",
      "📊 Epoch 16 Summary:\n",
      "│ Train Loss: 0.2491 | Train Acc: 0.9013\n",
      "│ Val Loss:   1.0717 | Val Acc:   0.6198\n",
      "│ Train Time: 21.31s | Val Time: 2.89s\n",
      "│ Total Epoch Time: 24.21s\n",
      "│ Best Val Acc: 0.6979 (Epoch 13)\n",
      "│ GPU Memory: 0.1GB / 4.1GB\n",
      "================================================================================\n",
      "\n",
      "📈 Epoch 17/50\n",
      "--------------------------------------------------\n",
      "🔄 Training Phase...\n"
     ]
    },
    {
     "name": "stderr",
     "output_type": "stream",
     "text": [
      "Training: 100%|██████████████████████████████| 48/48 [00:21<00:00,  2.27it/s, Loss=0.1641, Acc=0.9428]\n"
     ]
    },
    {
     "name": "stdout",
     "output_type": "stream",
     "text": [
      "✅ Training completed in 21.16s\n",
      "🔍 Validation Phase...\n"
     ]
    },
    {
     "name": "stderr",
     "output_type": "stream",
     "text": [
      "Validation: 100%|██████████████████████████████| 12/12 [00:02<00:00,  4.07it/s, Loss=1.7392, Acc=0.5547]\n"
     ]
    },
    {
     "name": "stdout",
     "output_type": "stream",
     "text": [
      "✅ Validation completed in 2.96s\n",
      "\n",
      "📊 Epoch 17 Summary:\n",
      "│ Train Loss: 0.1641 | Train Acc: 0.9428\n",
      "│ Val Loss:   1.7392 | Val Acc:   0.5547\n",
      "│ Train Time: 21.16s | Val Time: 2.96s\n",
      "│ Total Epoch Time: 24.12s\n",
      "│ Best Val Acc: 0.6979 (Epoch 13)\n",
      "│ GPU Memory: 0.1GB / 4.1GB\n",
      "================================================================================\n",
      "\n",
      "📈 Epoch 18/50\n",
      "--------------------------------------------------\n",
      "🔄 Training Phase...\n"
     ]
    },
    {
     "name": "stderr",
     "output_type": "stream",
     "text": [
      "Training: 100%|██████████████████████████████| 48/48 [00:21<00:00,  2.25it/s, Loss=0.1507, Acc=0.9441]\n"
     ]
    },
    {
     "name": "stdout",
     "output_type": "stream",
     "text": [
      "✅ Training completed in 21.34s\n",
      "🔍 Validation Phase...\n"
     ]
    },
    {
     "name": "stderr",
     "output_type": "stream",
     "text": [
      "Validation: 100%|██████████████████████████████| 12/12 [00:02<00:00,  4.10it/s, Loss=1.4152, Acc=0.6380]\n"
     ]
    },
    {
     "name": "stdout",
     "output_type": "stream",
     "text": [
      "✅ Validation completed in 2.94s\n",
      "\n",
      "📊 Epoch 18 Summary:\n",
      "│ Train Loss: 0.1507 | Train Acc: 0.9441\n",
      "│ Val Loss:   1.4152 | Val Acc:   0.6380\n",
      "│ Train Time: 21.34s | Val Time: 2.94s\n",
      "│ Total Epoch Time: 24.28s\n",
      "│ Best Val Acc: 0.6979 (Epoch 13)\n",
      "│ GPU Memory: 0.1GB / 4.1GB\n",
      "================================================================================\n",
      "\n",
      "📈 Epoch 19/50\n",
      "--------------------------------------------------\n",
      "🔄 Training Phase...\n"
     ]
    },
    {
     "name": "stderr",
     "output_type": "stream",
     "text": [
      "Training: 100%|██████████████████████████████| 48/48 [00:21<00:00,  2.24it/s, Loss=0.1093, Acc=0.9651]\n"
     ]
    },
    {
     "name": "stdout",
     "output_type": "stream",
     "text": [
      "✅ Training completed in 21.48s\n",
      "🔍 Validation Phase...\n"
     ]
    },
    {
     "name": "stderr",
     "output_type": "stream",
     "text": [
      "Validation: 100%|██████████████████████████████| 12/12 [00:02<00:00,  4.24it/s, Loss=1.3189, Acc=0.6823]\n"
     ]
    },
    {
     "name": "stdout",
     "output_type": "stream",
     "text": [
      "✅ Validation completed in 2.84s\n",
      "\n",
      "📊 Epoch 19 Summary:\n",
      "│ Train Loss: 0.1093 | Train Acc: 0.9651\n",
      "│ Val Loss:   1.3189 | Val Acc:   0.6823\n",
      "│ Train Time: 21.48s | Val Time: 2.84s\n",
      "│ Total Epoch Time: 24.32s\n",
      "│ Best Val Acc: 0.6979 (Epoch 13)\n",
      "│ GPU Memory: 0.1GB / 4.1GB\n",
      "================================================================================\n",
      "\n",
      "📈 Epoch 20/50\n",
      "--------------------------------------------------\n",
      "🔄 Training Phase...\n"
     ]
    },
    {
     "name": "stderr",
     "output_type": "stream",
     "text": [
      "Training: 100%|██████████████████████████████| 48/48 [00:21<00:00,  2.26it/s, Loss=0.0975, Acc=0.9651]\n"
     ]
    },
    {
     "name": "stdout",
     "output_type": "stream",
     "text": [
      "✅ Training completed in 21.20s\n",
      "🔍 Validation Phase...\n"
     ]
    },
    {
     "name": "stderr",
     "output_type": "stream",
     "text": [
      "Validation: 100%|██████████████████████████████| 12/12 [00:02<00:00,  4.12it/s, Loss=1.1596, Acc=0.7135]\n"
     ]
    },
    {
     "name": "stdout",
     "output_type": "stream",
     "text": [
      "✅ Validation completed in 2.92s\n",
      "🌟 New best EfficientNetB0 model found! Validation Accuracy: 0.7135\n",
      "\n",
      "📊 Epoch 20 Summary:\n",
      "│ Train Loss: 0.0975 | Train Acc: 0.9651\n",
      "│ Val Loss:   1.1596 | Val Acc:   0.7135\n",
      "│ Train Time: 21.20s | Val Time: 2.92s\n",
      "│ Total Epoch Time: 24.13s\n",
      "│ Best Val Acc: 0.7135 (Epoch 20)\n",
      "│ GPU Memory: 0.1GB / 4.1GB\n",
      "================================================================================\n",
      "\n",
      "📈 Epoch 21/50\n",
      "--------------------------------------------------\n",
      "🔄 Training Phase...\n"
     ]
    },
    {
     "name": "stderr",
     "output_type": "stream",
     "text": [
      "Training: 100%|██████████████████████████████| 48/48 [00:21<00:00,  2.25it/s, Loss=0.0994, Acc=0.9717]\n"
     ]
    },
    {
     "name": "stdout",
     "output_type": "stream",
     "text": [
      "✅ Training completed in 21.31s\n",
      "🔍 Validation Phase...\n"
     ]
    },
    {
     "name": "stderr",
     "output_type": "stream",
     "text": [
      "Validation: 100%|██████████████████████████████| 12/12 [00:02<00:00,  4.16it/s, Loss=1.3562, Acc=0.6745]\n"
     ]
    },
    {
     "name": "stdout",
     "output_type": "stream",
     "text": [
      "✅ Validation completed in 2.89s\n",
      "\n",
      "📊 Epoch 21 Summary:\n",
      "│ Train Loss: 0.0994 | Train Acc: 0.9717\n",
      "│ Val Loss:   1.3562 | Val Acc:   0.6745\n",
      "│ Train Time: 21.31s | Val Time: 2.89s\n",
      "│ Total Epoch Time: 24.21s\n",
      "│ Best Val Acc: 0.7135 (Epoch 20)\n",
      "│ GPU Memory: 0.1GB / 4.1GB\n",
      "================================================================================\n",
      "\n",
      "📈 Epoch 22/50\n",
      "--------------------------------------------------\n",
      "🔄 Training Phase...\n"
     ]
    },
    {
     "name": "stderr",
     "output_type": "stream",
     "text": [
      "Training: 100%|██████████████████████████████| 48/48 [00:21<00:00,  2.27it/s, Loss=0.0671, Acc=0.9809]\n"
     ]
    },
    {
     "name": "stdout",
     "output_type": "stream",
     "text": [
      "✅ Training completed in 21.14s\n",
      "🔍 Validation Phase...\n"
     ]
    },
    {
     "name": "stderr",
     "output_type": "stream",
     "text": [
      "Validation: 100%|██████████████████████████████| 12/12 [00:02<00:00,  4.23it/s, Loss=1.3768, Acc=0.7031]\n"
     ]
    },
    {
     "name": "stdout",
     "output_type": "stream",
     "text": [
      "✅ Validation completed in 2.85s\n",
      "\n",
      "📊 Epoch 22 Summary:\n",
      "│ Train Loss: 0.0671 | Train Acc: 0.9809\n",
      "│ Val Loss:   1.3768 | Val Acc:   0.7031\n",
      "│ Train Time: 21.14s | Val Time: 2.85s\n",
      "│ Total Epoch Time: 24.00s\n",
      "│ Best Val Acc: 0.7135 (Epoch 20)\n",
      "│ GPU Memory: 0.1GB / 4.1GB\n",
      "================================================================================\n",
      "\n",
      "📈 Epoch 23/50\n",
      "--------------------------------------------------\n",
      "🔄 Training Phase...\n"
     ]
    },
    {
     "name": "stderr",
     "output_type": "stream",
     "text": [
      "Training: 100%|██████████████████████████████| 48/48 [00:21<00:00,  2.27it/s, Loss=0.0768, Acc=0.9750]\n"
     ]
    },
    {
     "name": "stdout",
     "output_type": "stream",
     "text": [
      "✅ Training completed in 21.17s\n",
      "🔍 Validation Phase...\n"
     ]
    },
    {
     "name": "stderr",
     "output_type": "stream",
     "text": [
      "Validation: 100%|██████████████████████████████| 12/12 [00:02<00:00,  4.09it/s, Loss=1.6013, Acc=0.6172]\n"
     ]
    },
    {
     "name": "stdout",
     "output_type": "stream",
     "text": [
      "✅ Validation completed in 2.94s\n",
      "\n",
      "📊 Epoch 23 Summary:\n",
      "│ Train Loss: 0.0768 | Train Acc: 0.9750\n",
      "│ Val Loss:   1.6013 | Val Acc:   0.6172\n",
      "│ Train Time: 21.17s | Val Time: 2.94s\n",
      "│ Total Epoch Time: 24.10s\n",
      "│ Best Val Acc: 0.7135 (Epoch 20)\n",
      "│ GPU Memory: 0.1GB / 4.1GB\n",
      "================================================================================\n",
      "\n",
      "📈 Epoch 24/50\n",
      "--------------------------------------------------\n",
      "🔄 Training Phase...\n"
     ]
    },
    {
     "name": "stderr",
     "output_type": "stream",
     "text": [
      "Training: 100%|██████████████████████████████| 48/48 [00:21<00:00,  2.23it/s, Loss=0.0646, Acc=0.9783]\n"
     ]
    },
    {
     "name": "stdout",
     "output_type": "stream",
     "text": [
      "✅ Training completed in 21.48s\n",
      "🔍 Validation Phase...\n"
     ]
    },
    {
     "name": "stderr",
     "output_type": "stream",
     "text": [
      "Validation: 100%|██████████████████████████████| 12/12 [00:02<00:00,  4.22it/s, Loss=1.4965, Acc=0.6667]\n"
     ]
    },
    {
     "name": "stdout",
     "output_type": "stream",
     "text": [
      "✅ Validation completed in 2.85s\n",
      "\n",
      "📊 Epoch 24 Summary:\n",
      "│ Train Loss: 0.0646 | Train Acc: 0.9783\n",
      "│ Val Loss:   1.4965 | Val Acc:   0.6667\n",
      "│ Train Time: 21.48s | Val Time: 2.85s\n",
      "│ Total Epoch Time: 24.34s\n",
      "│ Best Val Acc: 0.7135 (Epoch 20)\n",
      "│ GPU Memory: 0.1GB / 4.1GB\n",
      "================================================================================\n",
      "\n",
      "📈 Epoch 25/50\n",
      "--------------------------------------------------\n",
      "🔄 Training Phase...\n"
     ]
    },
    {
     "name": "stderr",
     "output_type": "stream",
     "text": [
      "Training: 100%|██████████████████████████████| 48/48 [00:21<00:00,  2.25it/s, Loss=0.0417, Acc=0.9868]\n"
     ]
    },
    {
     "name": "stdout",
     "output_type": "stream",
     "text": [
      "✅ Training completed in 21.30s\n",
      "🔍 Validation Phase...\n"
     ]
    },
    {
     "name": "stderr",
     "output_type": "stream",
     "text": [
      "Validation: 100%|██████████████████████████████| 12/12 [00:03<00:00,  3.75it/s, Loss=1.4856, Acc=0.6797]\n"
     ]
    },
    {
     "name": "stdout",
     "output_type": "stream",
     "text": [
      "✅ Validation completed in 3.21s\n",
      "\n",
      "📊 Epoch 25 Summary:\n",
      "│ Train Loss: 0.0417 | Train Acc: 0.9868\n",
      "│ Val Loss:   1.4856 | Val Acc:   0.6797\n",
      "│ Train Time: 21.30s | Val Time: 3.21s\n",
      "│ Total Epoch Time: 24.51s\n",
      "│ Best Val Acc: 0.7135 (Epoch 20)\n",
      "│ GPU Memory: 0.1GB / 4.1GB\n",
      "================================================================================\n",
      "\n",
      "📈 Epoch 26/50\n",
      "--------------------------------------------------\n",
      "🔄 Training Phase...\n"
     ]
    },
    {
     "name": "stderr",
     "output_type": "stream",
     "text": [
      "Training: 100%|██████████████████████████████| 48/48 [00:22<00:00,  2.14it/s, Loss=0.0386, Acc=0.9882]\n"
     ]
    },
    {
     "name": "stdout",
     "output_type": "stream",
     "text": [
      "✅ Training completed in 22.40s\n",
      "🔍 Validation Phase...\n"
     ]
    },
    {
     "name": "stderr",
     "output_type": "stream",
     "text": [
      "Validation: 100%|██████████████████████████████| 12/12 [00:03<00:00,  3.42it/s, Loss=1.6302, Acc=0.6250]\n"
     ]
    },
    {
     "name": "stdout",
     "output_type": "stream",
     "text": [
      "✅ Validation completed in 3.51s\n",
      "\n",
      "📊 Epoch 26 Summary:\n",
      "│ Train Loss: 0.0386 | Train Acc: 0.9882\n",
      "│ Val Loss:   1.6302 | Val Acc:   0.6250\n",
      "│ Train Time: 22.40s | Val Time: 3.51s\n",
      "│ Total Epoch Time: 25.92s\n",
      "│ Best Val Acc: 0.7135 (Epoch 20)\n",
      "│ GPU Memory: 0.1GB / 4.1GB\n",
      "================================================================================\n",
      "\n",
      "📈 Epoch 27/50\n",
      "--------------------------------------------------\n",
      "🔄 Training Phase...\n"
     ]
    },
    {
     "name": "stderr",
     "output_type": "stream",
     "text": [
      "Training: 100%|██████████████████████████████| 48/48 [00:21<00:00,  2.20it/s, Loss=0.0455, Acc=0.9836]\n"
     ]
    },
    {
     "name": "stdout",
     "output_type": "stream",
     "text": [
      "✅ Training completed in 21.87s\n",
      "🔍 Validation Phase...\n"
     ]
    },
    {
     "name": "stderr",
     "output_type": "stream",
     "text": [
      "Validation: 100%|██████████████████████████████| 12/12 [00:02<00:00,  4.13it/s, Loss=1.2818, Acc=0.7005]\n"
     ]
    },
    {
     "name": "stdout",
     "output_type": "stream",
     "text": [
      "✅ Validation completed in 2.91s\n",
      "\n",
      "📊 Epoch 27 Summary:\n",
      "│ Train Loss: 0.0455 | Train Acc: 0.9836\n",
      "│ Val Loss:   1.2818 | Val Acc:   0.7005\n",
      "│ Train Time: 21.87s | Val Time: 2.91s\n",
      "│ Total Epoch Time: 24.78s\n",
      "│ Best Val Acc: 0.7135 (Epoch 20)\n",
      "│ GPU Memory: 0.1GB / 4.1GB\n",
      "================================================================================\n",
      "\n",
      "📈 Epoch 28/50\n",
      "--------------------------------------------------\n",
      "🔄 Training Phase...\n"
     ]
    },
    {
     "name": "stderr",
     "output_type": "stream",
     "text": [
      "Training: 100%|██████████████████████████████| 48/48 [00:21<00:00,  2.26it/s, Loss=0.0335, Acc=0.9875]\n"
     ]
    },
    {
     "name": "stdout",
     "output_type": "stream",
     "text": [
      "✅ Training completed in 21.23s\n",
      "🔍 Validation Phase...\n"
     ]
    },
    {
     "name": "stderr",
     "output_type": "stream",
     "text": [
      "Validation: 100%|██████████████████████████████| 12/12 [00:02<00:00,  4.04it/s, Loss=1.8482, Acc=0.7109]\n"
     ]
    },
    {
     "name": "stdout",
     "output_type": "stream",
     "text": [
      "✅ Validation completed in 2.98s\n",
      "\n",
      "📊 Epoch 28 Summary:\n",
      "│ Train Loss: 0.0335 | Train Acc: 0.9875\n",
      "│ Val Loss:   1.8482 | Val Acc:   0.7109\n",
      "│ Train Time: 21.23s | Val Time: 2.98s\n",
      "│ Total Epoch Time: 24.21s\n",
      "│ Best Val Acc: 0.7135 (Epoch 20)\n",
      "│ GPU Memory: 0.1GB / 4.1GB\n",
      "================================================================================\n",
      "\n",
      "📈 Epoch 29/50\n",
      "--------------------------------------------------\n",
      "🔄 Training Phase...\n"
     ]
    },
    {
     "name": "stderr",
     "output_type": "stream",
     "text": [
      "Training: 100%|██████████████████████████████| 48/48 [00:21<00:00,  2.24it/s, Loss=0.0225, Acc=0.9921]\n"
     ]
    },
    {
     "name": "stdout",
     "output_type": "stream",
     "text": [
      "✅ Training completed in 21.39s\n",
      "🔍 Validation Phase...\n"
     ]
    },
    {
     "name": "stderr",
     "output_type": "stream",
     "text": [
      "Validation: 100%|██████████████████████████████| 12/12 [00:02<00:00,  4.23it/s, Loss=2.0107, Acc=0.6797]\n"
     ]
    },
    {
     "name": "stdout",
     "output_type": "stream",
     "text": [
      "✅ Validation completed in 2.84s\n",
      "\n",
      "📊 Epoch 29 Summary:\n",
      "│ Train Loss: 0.0225 | Train Acc: 0.9921\n",
      "│ Val Loss:   2.0107 | Val Acc:   0.6797\n",
      "│ Train Time: 21.39s | Val Time: 2.84s\n",
      "│ Total Epoch Time: 24.24s\n",
      "│ Best Val Acc: 0.7135 (Epoch 20)\n",
      "│ GPU Memory: 0.1GB / 4.1GB\n",
      "================================================================================\n",
      "\n",
      "📈 Epoch 30/50\n",
      "--------------------------------------------------\n",
      "🔄 Training Phase...\n"
     ]
    },
    {
     "name": "stderr",
     "output_type": "stream",
     "text": [
      "Training: 100%|██████████████████████████████| 48/48 [00:21<00:00,  2.28it/s, Loss=0.0426, Acc=0.9875]\n"
     ]
    },
    {
     "name": "stdout",
     "output_type": "stream",
     "text": [
      "✅ Training completed in 21.08s\n",
      "🔍 Validation Phase...\n"
     ]
    },
    {
     "name": "stderr",
     "output_type": "stream",
     "text": [
      "Validation: 100%|██████████████████████████████| 12/12 [00:02<00:00,  4.17it/s, Loss=1.3645, Acc=0.6953]\n"
     ]
    },
    {
     "name": "stdout",
     "output_type": "stream",
     "text": [
      "✅ Validation completed in 2.88s\n",
      "\n",
      "📊 Epoch 30 Summary:\n",
      "│ Train Loss: 0.0426 | Train Acc: 0.9875\n",
      "│ Val Loss:   1.3645 | Val Acc:   0.6953\n",
      "│ Train Time: 21.08s | Val Time: 2.88s\n",
      "│ Total Epoch Time: 23.96s\n",
      "│ Best Val Acc: 0.7135 (Epoch 20)\n",
      "│ GPU Memory: 0.1GB / 4.1GB\n",
      "================================================================================\n",
      "\n",
      "📈 Epoch 31/50\n",
      "--------------------------------------------------\n",
      "🔄 Training Phase...\n"
     ]
    },
    {
     "name": "stderr",
     "output_type": "stream",
     "text": [
      "Training: 100%|██████████████████████████████| 48/48 [00:21<00:00,  2.26it/s, Loss=0.0334, Acc=0.9888]\n"
     ]
    },
    {
     "name": "stdout",
     "output_type": "stream",
     "text": [
      "✅ Training completed in 21.28s\n",
      "🔍 Validation Phase...\n"
     ]
    },
    {
     "name": "stderr",
     "output_type": "stream",
     "text": [
      "Validation: 100%|██████████████████████████████| 12/12 [00:02<00:00,  4.15it/s, Loss=1.7158, Acc=0.6536]\n"
     ]
    },
    {
     "name": "stdout",
     "output_type": "stream",
     "text": [
      "✅ Validation completed in 2.90s\n",
      "\n",
      "📊 Epoch 31 Summary:\n",
      "│ Train Loss: 0.0334 | Train Acc: 0.9888\n",
      "│ Val Loss:   1.7158 | Val Acc:   0.6536\n",
      "│ Train Time: 21.28s | Val Time: 2.90s\n",
      "│ Total Epoch Time: 24.19s\n",
      "│ Best Val Acc: 0.7135 (Epoch 20)\n",
      "│ GPU Memory: 0.1GB / 4.1GB\n",
      "================================================================================\n",
      "\n",
      "📈 Epoch 32/50\n",
      "--------------------------------------------------\n",
      "🔄 Training Phase...\n"
     ]
    },
    {
     "name": "stderr",
     "output_type": "stream",
     "text": [
      "Training: 100%|██████████████████████████████| 48/48 [00:21<00:00,  2.27it/s, Loss=0.0341, Acc=0.9908]\n"
     ]
    },
    {
     "name": "stdout",
     "output_type": "stream",
     "text": [
      "✅ Training completed in 21.14s\n",
      "🔍 Validation Phase...\n"
     ]
    },
    {
     "name": "stderr",
     "output_type": "stream",
     "text": [
      "Validation: 100%|██████████████████████████████| 12/12 [00:02<00:00,  4.05it/s, Loss=2.0058, Acc=0.6484]\n"
     ]
    },
    {
     "name": "stdout",
     "output_type": "stream",
     "text": [
      "✅ Validation completed in 2.97s\n",
      "\n",
      "📊 Epoch 32 Summary:\n",
      "│ Train Loss: 0.0341 | Train Acc: 0.9908\n",
      "│ Val Loss:   2.0058 | Val Acc:   0.6484\n",
      "│ Train Time: 21.14s | Val Time: 2.97s\n",
      "│ Total Epoch Time: 24.12s\n",
      "│ Best Val Acc: 0.7135 (Epoch 20)\n",
      "│ GPU Memory: 0.1GB / 4.1GB\n",
      "================================================================================\n",
      "\n",
      "📈 Epoch 33/50\n",
      "--------------------------------------------------\n",
      "🔄 Training Phase...\n"
     ]
    },
    {
     "name": "stderr",
     "output_type": "stream",
     "text": [
      "Training: 100%|██████████████████████████████| 48/48 [00:21<00:00,  2.23it/s, Loss=0.0296, Acc=0.9928]\n"
     ]
    },
    {
     "name": "stdout",
     "output_type": "stream",
     "text": [
      "✅ Training completed in 21.50s\n",
      "🔍 Validation Phase...\n"
     ]
    },
    {
     "name": "stderr",
     "output_type": "stream",
     "text": [
      "Validation: 100%|██████████████████████████████| 12/12 [00:02<00:00,  4.02it/s, Loss=2.0393, Acc=0.6484]\n"
     ]
    },
    {
     "name": "stdout",
     "output_type": "stream",
     "text": [
      "✅ Validation completed in 2.99s\n",
      "\n",
      "📊 Epoch 33 Summary:\n",
      "│ Train Loss: 0.0296 | Train Acc: 0.9928\n",
      "│ Val Loss:   2.0393 | Val Acc:   0.6484\n",
      "│ Train Time: 21.50s | Val Time: 2.99s\n",
      "│ Total Epoch Time: 24.50s\n",
      "│ Best Val Acc: 0.7135 (Epoch 20)\n",
      "│ GPU Memory: 0.1GB / 4.1GB\n",
      "================================================================================\n",
      "\n",
      "📈 Epoch 34/50\n",
      "--------------------------------------------------\n",
      "🔄 Training Phase...\n"
     ]
    },
    {
     "name": "stderr",
     "output_type": "stream",
     "text": [
      "Training: 100%|██████████████████████████████| 48/48 [00:21<00:00,  2.24it/s, Loss=0.0234, Acc=0.9928]\n"
     ]
    },
    {
     "name": "stdout",
     "output_type": "stream",
     "text": [
      "✅ Training completed in 21.38s\n",
      "🔍 Validation Phase...\n"
     ]
    },
    {
     "name": "stderr",
     "output_type": "stream",
     "text": [
      "Validation: 100%|██████████████████████████████| 12/12 [00:02<00:00,  4.25it/s, Loss=1.4159, Acc=0.6719]\n"
     ]
    },
    {
     "name": "stdout",
     "output_type": "stream",
     "text": [
      "✅ Validation completed in 2.83s\n",
      "\n",
      "📊 Epoch 34 Summary:\n",
      "│ Train Loss: 0.0234 | Train Acc: 0.9928\n",
      "│ Val Loss:   1.4159 | Val Acc:   0.6719\n",
      "│ Train Time: 21.38s | Val Time: 2.83s\n",
      "│ Total Epoch Time: 24.22s\n",
      "│ Best Val Acc: 0.7135 (Epoch 20)\n",
      "│ GPU Memory: 0.1GB / 4.1GB\n",
      "================================================================================\n",
      "\n",
      "📈 Epoch 35/50\n",
      "--------------------------------------------------\n",
      "🔄 Training Phase...\n"
     ]
    },
    {
     "name": "stderr",
     "output_type": "stream",
     "text": [
      "Training: 100%|██████████████████████████████| 48/48 [00:21<00:00,  2.27it/s, Loss=0.0258, Acc=0.9934]\n"
     ]
    },
    {
     "name": "stdout",
     "output_type": "stream",
     "text": [
      "✅ Training completed in 21.11s\n",
      "🔍 Validation Phase...\n"
     ]
    },
    {
     "name": "stderr",
     "output_type": "stream",
     "text": [
      "Validation: 100%|██████████████████████████████| 12/12 [00:02<00:00,  4.20it/s, Loss=1.6048, Acc=0.6953]\n"
     ]
    },
    {
     "name": "stdout",
     "output_type": "stream",
     "text": [
      "✅ Validation completed in 2.86s\n",
      "\n",
      "📊 Epoch 35 Summary:\n",
      "│ Train Loss: 0.0258 | Train Acc: 0.9934\n",
      "│ Val Loss:   1.6048 | Val Acc:   0.6953\n",
      "│ Train Time: 21.11s | Val Time: 2.86s\n",
      "│ Total Epoch Time: 23.98s\n",
      "│ Best Val Acc: 0.7135 (Epoch 20)\n",
      "│ GPU Memory: 0.1GB / 4.1GB\n",
      "================================================================================\n",
      "\n",
      "📈 Epoch 36/50\n",
      "--------------------------------------------------\n",
      "🔄 Training Phase...\n"
     ]
    },
    {
     "name": "stderr",
     "output_type": "stream",
     "text": [
      "Training: 100%|██████████████████████████████| 48/48 [00:21<00:00,  2.27it/s, Loss=0.0100, Acc=0.9967]\n"
     ]
    },
    {
     "name": "stdout",
     "output_type": "stream",
     "text": [
      "✅ Training completed in 21.14s\n",
      "🔍 Validation Phase...\n"
     ]
    },
    {
     "name": "stderr",
     "output_type": "stream",
     "text": [
      "Validation: 100%|██████████████████████████████| 12/12 [00:02<00:00,  4.28it/s, Loss=1.8114, Acc=0.6849]\n"
     ]
    },
    {
     "name": "stdout",
     "output_type": "stream",
     "text": [
      "✅ Validation completed in 2.81s\n",
      "\n",
      "📊 Epoch 36 Summary:\n",
      "│ Train Loss: 0.0100 | Train Acc: 0.9967\n",
      "│ Val Loss:   1.8114 | Val Acc:   0.6849\n",
      "│ Train Time: 21.14s | Val Time: 2.81s\n",
      "│ Total Epoch Time: 23.95s\n",
      "│ Best Val Acc: 0.7135 (Epoch 20)\n",
      "│ GPU Memory: 0.1GB / 4.1GB\n",
      "================================================================================\n",
      "\n",
      "📈 Epoch 37/50\n",
      "--------------------------------------------------\n",
      "🔄 Training Phase...\n"
     ]
    },
    {
     "name": "stderr",
     "output_type": "stream",
     "text": [
      "Training: 100%|██████████████████████████████| 48/48 [00:21<00:00,  2.28it/s, Loss=0.0026, Acc=0.9987]\n"
     ]
    },
    {
     "name": "stdout",
     "output_type": "stream",
     "text": [
      "✅ Training completed in 21.04s\n",
      "🔍 Validation Phase...\n"
     ]
    },
    {
     "name": "stderr",
     "output_type": "stream",
     "text": [
      "Validation: 100%|██████████████████████████████| 12/12 [00:02<00:00,  4.13it/s, Loss=1.6581, Acc=0.7240]\n"
     ]
    },
    {
     "name": "stdout",
     "output_type": "stream",
     "text": [
      "✅ Validation completed in 2.92s\n",
      "🌟 New best EfficientNetB0 model found! Validation Accuracy: 0.7240\n",
      "\n",
      "📊 Epoch 37 Summary:\n",
      "│ Train Loss: 0.0026 | Train Acc: 0.9987\n",
      "│ Val Loss:   1.6581 | Val Acc:   0.7240\n",
      "│ Train Time: 21.04s | Val Time: 2.92s\n",
      "│ Total Epoch Time: 23.96s\n",
      "│ Best Val Acc: 0.7240 (Epoch 37)\n",
      "│ GPU Memory: 0.1GB / 4.1GB\n",
      "================================================================================\n",
      "\n",
      "📈 Epoch 38/50\n",
      "--------------------------------------------------\n",
      "🔄 Training Phase...\n"
     ]
    },
    {
     "name": "stderr",
     "output_type": "stream",
     "text": [
      "Training: 100%|██████████████████████████████| 48/48 [00:21<00:00,  2.24it/s, Loss=0.0358, Acc=0.9875]\n"
     ]
    },
    {
     "name": "stdout",
     "output_type": "stream",
     "text": [
      "✅ Training completed in 21.39s\n",
      "🔍 Validation Phase...\n"
     ]
    },
    {
     "name": "stderr",
     "output_type": "stream",
     "text": [
      "Validation: 100%|██████████████████████████████| 12/12 [00:02<00:00,  4.00it/s, Loss=1.9188, Acc=0.7318]\n"
     ]
    },
    {
     "name": "stdout",
     "output_type": "stream",
     "text": [
      "✅ Validation completed in 3.00s\n",
      "🌟 New best EfficientNetB0 model found! Validation Accuracy: 0.7318\n",
      "\n",
      "📊 Epoch 38 Summary:\n",
      "│ Train Loss: 0.0358 | Train Acc: 0.9875\n",
      "│ Val Loss:   1.9188 | Val Acc:   0.7318\n",
      "│ Train Time: 21.39s | Val Time: 3.00s\n",
      "│ Total Epoch Time: 24.40s\n",
      "│ Best Val Acc: 0.7318 (Epoch 38)\n",
      "│ GPU Memory: 0.1GB / 4.1GB\n",
      "================================================================================\n",
      "\n",
      "📈 Epoch 39/50\n",
      "--------------------------------------------------\n",
      "🔄 Training Phase...\n"
     ]
    },
    {
     "name": "stderr",
     "output_type": "stream",
     "text": [
      "Training: 100%|██████████████████████████████| 48/48 [00:21<00:00,  2.22it/s, Loss=0.0342, Acc=0.9862]\n"
     ]
    },
    {
     "name": "stdout",
     "output_type": "stream",
     "text": [
      "✅ Training completed in 21.62s\n",
      "🔍 Validation Phase...\n"
     ]
    },
    {
     "name": "stderr",
     "output_type": "stream",
     "text": [
      "Validation: 100%|██████████████████████████████| 12/12 [00:03<00:00,  3.88it/s, Loss=1.6957, Acc=0.6797]\n"
     ]
    },
    {
     "name": "stdout",
     "output_type": "stream",
     "text": [
      "✅ Validation completed in 3.10s\n",
      "\n",
      "📊 Epoch 39 Summary:\n",
      "│ Train Loss: 0.0342 | Train Acc: 0.9862\n",
      "│ Val Loss:   1.6957 | Val Acc:   0.6797\n",
      "│ Train Time: 21.62s | Val Time: 3.10s\n",
      "│ Total Epoch Time: 24.73s\n",
      "│ Best Val Acc: 0.7318 (Epoch 38)\n",
      "│ GPU Memory: 0.1GB / 4.1GB\n",
      "================================================================================\n",
      "\n",
      "📈 Epoch 40/50\n",
      "--------------------------------------------------\n",
      "🔄 Training Phase...\n"
     ]
    },
    {
     "name": "stderr",
     "output_type": "stream",
     "text": [
      "Training: 100%|██████████████████████████████| 48/48 [00:21<00:00,  2.27it/s, Loss=0.0598, Acc=0.9849]\n"
     ]
    },
    {
     "name": "stdout",
     "output_type": "stream",
     "text": [
      "✅ Training completed in 21.18s\n",
      "🔍 Validation Phase...\n"
     ]
    },
    {
     "name": "stderr",
     "output_type": "stream",
     "text": [
      "Validation: 100%|██████████████████████████████| 12/12 [00:02<00:00,  4.17it/s, Loss=1.3670, Acc=0.7057]\n"
     ]
    },
    {
     "name": "stdout",
     "output_type": "stream",
     "text": [
      "✅ Validation completed in 2.88s\n",
      "\n",
      "📊 Epoch 40 Summary:\n",
      "│ Train Loss: 0.0598 | Train Acc: 0.9849\n",
      "│ Val Loss:   1.3670 | Val Acc:   0.7057\n",
      "│ Train Time: 21.18s | Val Time: 2.88s\n",
      "│ Total Epoch Time: 24.06s\n",
      "│ Best Val Acc: 0.7318 (Epoch 38)\n",
      "│ GPU Memory: 0.1GB / 4.1GB\n",
      "================================================================================\n",
      "\n",
      "📈 Epoch 41/50\n",
      "--------------------------------------------------\n",
      "🔄 Training Phase...\n"
     ]
    },
    {
     "name": "stderr",
     "output_type": "stream",
     "text": [
      "Training: 100%|██████████████████████████████| 48/48 [00:21<00:00,  2.25it/s, Loss=0.0347, Acc=0.9875]\n"
     ]
    },
    {
     "name": "stdout",
     "output_type": "stream",
     "text": [
      "✅ Training completed in 21.38s\n",
      "🔍 Validation Phase...\n"
     ]
    },
    {
     "name": "stderr",
     "output_type": "stream",
     "text": [
      "Validation: 100%|██████████████████████████████| 12/12 [00:02<00:00,  4.23it/s, Loss=1.7844, Acc=0.6875]\n"
     ]
    },
    {
     "name": "stdout",
     "output_type": "stream",
     "text": [
      "✅ Validation completed in 2.85s\n",
      "\n",
      "📊 Epoch 41 Summary:\n",
      "│ Train Loss: 0.0347 | Train Acc: 0.9875\n",
      "│ Val Loss:   1.7844 | Val Acc:   0.6875\n",
      "│ Train Time: 21.38s | Val Time: 2.85s\n",
      "│ Total Epoch Time: 24.23s\n",
      "│ Best Val Acc: 0.7318 (Epoch 38)\n",
      "│ GPU Memory: 0.1GB / 4.1GB\n",
      "================================================================================\n",
      "\n",
      "📈 Epoch 42/50\n",
      "--------------------------------------------------\n",
      "🔄 Training Phase...\n"
     ]
    },
    {
     "name": "stderr",
     "output_type": "stream",
     "text": [
      "Training: 100%|██████████████████████████████| 48/48 [00:21<00:00,  2.26it/s, Loss=0.0353, Acc=0.9868]\n"
     ]
    },
    {
     "name": "stdout",
     "output_type": "stream",
     "text": [
      "✅ Training completed in 21.20s\n",
      "🔍 Validation Phase...\n"
     ]
    },
    {
     "name": "stderr",
     "output_type": "stream",
     "text": [
      "Validation: 100%|██████████████████████████████| 12/12 [00:02<00:00,  4.17it/s, Loss=1.7003, Acc=0.6901]\n"
     ]
    },
    {
     "name": "stdout",
     "output_type": "stream",
     "text": [
      "✅ Validation completed in 2.89s\n",
      "\n",
      "📊 Epoch 42 Summary:\n",
      "│ Train Loss: 0.0353 | Train Acc: 0.9868\n",
      "│ Val Loss:   1.7003 | Val Acc:   0.6901\n",
      "│ Train Time: 21.20s | Val Time: 2.89s\n",
      "│ Total Epoch Time: 24.09s\n",
      "│ Best Val Acc: 0.7318 (Epoch 38)\n",
      "│ GPU Memory: 0.1GB / 4.1GB\n",
      "================================================================================\n",
      "\n",
      "📈 Epoch 43/50\n",
      "--------------------------------------------------\n",
      "🔄 Training Phase...\n"
     ]
    },
    {
     "name": "stderr",
     "output_type": "stream",
     "text": [
      "Training: 100%|██████████████████████████████| 48/48 [00:21<00:00,  2.27it/s, Loss=0.0156, Acc=0.9947]\n"
     ]
    },
    {
     "name": "stdout",
     "output_type": "stream",
     "text": [
      "✅ Training completed in 21.17s\n",
      "🔍 Validation Phase...\n"
     ]
    },
    {
     "name": "stderr",
     "output_type": "stream",
     "text": [
      "Validation: 100%|██████████████████████████████| 12/12 [00:02<00:00,  4.08it/s, Loss=1.9246, Acc=0.7057]\n"
     ]
    },
    {
     "name": "stdout",
     "output_type": "stream",
     "text": [
      "✅ Validation completed in 2.94s\n",
      "\n",
      "📊 Epoch 43 Summary:\n",
      "│ Train Loss: 0.0156 | Train Acc: 0.9947\n",
      "│ Val Loss:   1.9246 | Val Acc:   0.7057\n",
      "│ Train Time: 21.17s | Val Time: 2.94s\n",
      "│ Total Epoch Time: 24.12s\n",
      "│ Best Val Acc: 0.7318 (Epoch 38)\n",
      "│ GPU Memory: 0.1GB / 4.1GB\n",
      "================================================================================\n",
      "\n",
      "📈 Epoch 44/50\n",
      "--------------------------------------------------\n",
      "🔄 Training Phase...\n"
     ]
    },
    {
     "name": "stderr",
     "output_type": "stream",
     "text": [
      "Training: 100%|██████████████████████████████| 48/48 [00:21<00:00,  2.25it/s, Loss=0.0223, Acc=0.9941]\n"
     ]
    },
    {
     "name": "stdout",
     "output_type": "stream",
     "text": [
      "✅ Training completed in 21.29s\n",
      "🔍 Validation Phase...\n"
     ]
    },
    {
     "name": "stderr",
     "output_type": "stream",
     "text": [
      "Validation: 100%|██████████████████████████████| 12/12 [00:02<00:00,  4.12it/s, Loss=1.6711, Acc=0.6797]\n"
     ]
    },
    {
     "name": "stdout",
     "output_type": "stream",
     "text": [
      "✅ Validation completed in 2.92s\n",
      "\n",
      "📊 Epoch 44 Summary:\n",
      "│ Train Loss: 0.0223 | Train Acc: 0.9941\n",
      "│ Val Loss:   1.6711 | Val Acc:   0.6797\n",
      "│ Train Time: 21.29s | Val Time: 2.92s\n",
      "│ Total Epoch Time: 24.22s\n",
      "│ Best Val Acc: 0.7318 (Epoch 38)\n",
      "│ GPU Memory: 0.1GB / 4.1GB\n",
      "================================================================================\n",
      "\n",
      "📈 Epoch 45/50\n",
      "--------------------------------------------------\n",
      "🔄 Training Phase...\n"
     ]
    },
    {
     "name": "stderr",
     "output_type": "stream",
     "text": [
      "Training: 100%|██████████████████████████████| 48/48 [00:21<00:00,  2.26it/s, Loss=0.0164, Acc=0.9947]\n"
     ]
    },
    {
     "name": "stdout",
     "output_type": "stream",
     "text": [
      "✅ Training completed in 21.27s\n",
      "🔍 Validation Phase...\n"
     ]
    },
    {
     "name": "stderr",
     "output_type": "stream",
     "text": [
      "Validation: 100%|██████████████████████████████| 12/12 [00:02<00:00,  4.15it/s, Loss=2.0064, Acc=0.7031]\n"
     ]
    },
    {
     "name": "stdout",
     "output_type": "stream",
     "text": [
      "✅ Validation completed in 2.90s\n",
      "\n",
      "📊 Epoch 45 Summary:\n",
      "│ Train Loss: 0.0164 | Train Acc: 0.9947\n",
      "│ Val Loss:   2.0064 | Val Acc:   0.7031\n",
      "│ Train Time: 21.27s | Val Time: 2.90s\n",
      "│ Total Epoch Time: 24.17s\n",
      "│ Best Val Acc: 0.7318 (Epoch 38)\n",
      "│ GPU Memory: 0.1GB / 4.1GB\n",
      "================================================================================\n",
      "\n",
      "📈 Epoch 46/50\n",
      "--------------------------------------------------\n",
      "🔄 Training Phase...\n"
     ]
    },
    {
     "name": "stderr",
     "output_type": "stream",
     "text": [
      "Training: 100%|██████████████████████████████| 48/48 [00:21<00:00,  2.28it/s, Loss=0.0145, Acc=0.9947]\n"
     ]
    },
    {
     "name": "stdout",
     "output_type": "stream",
     "text": [
      "✅ Training completed in 21.08s\n",
      "🔍 Validation Phase...\n"
     ]
    },
    {
     "name": "stderr",
     "output_type": "stream",
     "text": [
      "Validation: 100%|██████████████████████████████| 12/12 [00:02<00:00,  4.22it/s, Loss=2.1968, Acc=0.6927]\n"
     ]
    },
    {
     "name": "stdout",
     "output_type": "stream",
     "text": [
      "✅ Validation completed in 2.85s\n",
      "\n",
      "📊 Epoch 46 Summary:\n",
      "│ Train Loss: 0.0145 | Train Acc: 0.9947\n",
      "│ Val Loss:   2.1968 | Val Acc:   0.6927\n",
      "│ Train Time: 21.08s | Val Time: 2.85s\n",
      "│ Total Epoch Time: 23.94s\n",
      "│ Best Val Acc: 0.7318 (Epoch 38)\n",
      "│ GPU Memory: 0.1GB / 4.1GB\n",
      "================================================================================\n",
      "\n",
      "📈 Epoch 47/50\n",
      "--------------------------------------------------\n",
      "🔄 Training Phase...\n"
     ]
    },
    {
     "name": "stderr",
     "output_type": "stream",
     "text": [
      "Training: 100%|██████████████████████████████| 48/48 [00:21<00:00,  2.24it/s, Loss=0.0071, Acc=0.9974]\n"
     ]
    },
    {
     "name": "stdout",
     "output_type": "stream",
     "text": [
      "✅ Training completed in 21.48s\n",
      "🔍 Validation Phase...\n"
     ]
    },
    {
     "name": "stderr",
     "output_type": "stream",
     "text": [
      "Validation: 100%|██████████████████████████████| 12/12 [00:02<00:00,  4.14it/s, Loss=2.3315, Acc=0.6641]\n"
     ]
    },
    {
     "name": "stdout",
     "output_type": "stream",
     "text": [
      "✅ Validation completed in 2.90s\n",
      "\n",
      "📊 Epoch 47 Summary:\n",
      "│ Train Loss: 0.0071 | Train Acc: 0.9974\n",
      "│ Val Loss:   2.3315 | Val Acc:   0.6641\n",
      "│ Train Time: 21.48s | Val Time: 2.90s\n",
      "│ Total Epoch Time: 24.38s\n",
      "│ Best Val Acc: 0.7318 (Epoch 38)\n",
      "│ GPU Memory: 0.1GB / 4.1GB\n",
      "================================================================================\n",
      "\n",
      "📈 Epoch 48/50\n",
      "--------------------------------------------------\n",
      "🔄 Training Phase...\n"
     ]
    },
    {
     "name": "stderr",
     "output_type": "stream",
     "text": [
      "Training: 100%|██████████████████████████████| 48/48 [00:21<00:00,  2.25it/s, Loss=0.0076, Acc=0.9980]\n"
     ]
    },
    {
     "name": "stdout",
     "output_type": "stream",
     "text": [
      "✅ Training completed in 21.34s\n",
      "🔍 Validation Phase...\n"
     ]
    },
    {
     "name": "stderr",
     "output_type": "stream",
     "text": [
      "Validation: 100%|██████████████████████████████| 12/12 [00:03<00:00,  3.86it/s, Loss=2.6465, Acc=0.6406]\n"
     ]
    },
    {
     "name": "stdout",
     "output_type": "stream",
     "text": [
      "✅ Validation completed in 3.11s\n",
      "\n",
      "📊 Epoch 48 Summary:\n",
      "│ Train Loss: 0.0076 | Train Acc: 0.9980\n",
      "│ Val Loss:   2.6465 | Val Acc:   0.6406\n",
      "│ Train Time: 21.34s | Val Time: 3.11s\n",
      "│ Total Epoch Time: 24.46s\n",
      "│ Best Val Acc: 0.7318 (Epoch 38)\n",
      "│ GPU Memory: 0.1GB / 4.1GB\n",
      "================================================================================\n",
      "\n",
      "📈 Epoch 49/50\n",
      "--------------------------------------------------\n",
      "🔄 Training Phase...\n"
     ]
    },
    {
     "name": "stderr",
     "output_type": "stream",
     "text": [
      "Training: 100%|██████████████████████████████| 48/48 [00:21<00:00,  2.26it/s, Loss=0.0349, Acc=0.9908]\n"
     ]
    },
    {
     "name": "stdout",
     "output_type": "stream",
     "text": [
      "✅ Training completed in 21.21s\n",
      "🔍 Validation Phase...\n"
     ]
    },
    {
     "name": "stderr",
     "output_type": "stream",
     "text": [
      "Validation: 100%|██████████████████████████████| 12/12 [00:02<00:00,  4.26it/s, Loss=1.4554, Acc=0.6849]\n"
     ]
    },
    {
     "name": "stdout",
     "output_type": "stream",
     "text": [
      "✅ Validation completed in 2.83s\n",
      "\n",
      "📊 Epoch 49 Summary:\n",
      "│ Train Loss: 0.0349 | Train Acc: 0.9908\n",
      "│ Val Loss:   1.4554 | Val Acc:   0.6849\n",
      "│ Train Time: 21.21s | Val Time: 2.83s\n",
      "│ Total Epoch Time: 24.05s\n",
      "│ Best Val Acc: 0.7318 (Epoch 38)\n",
      "│ GPU Memory: 0.1GB / 4.1GB\n",
      "================================================================================\n",
      "\n",
      "📈 Epoch 50/50\n",
      "--------------------------------------------------\n",
      "🔄 Training Phase...\n"
     ]
    },
    {
     "name": "stderr",
     "output_type": "stream",
     "text": [
      "Training: 100%|██████████████████████████████| 48/48 [00:21<00:00,  2.27it/s, Loss=0.0201, Acc=0.9954]\n"
     ]
    },
    {
     "name": "stdout",
     "output_type": "stream",
     "text": [
      "✅ Training completed in 21.19s\n",
      "🔍 Validation Phase...\n"
     ]
    },
    {
     "name": "stderr",
     "output_type": "stream",
     "text": [
      "Validation: 100%|██████████████████████████████| 12/12 [00:02<00:00,  4.13it/s, Loss=1.7961, Acc=0.6849]\n"
     ]
    },
    {
     "name": "stdout",
     "output_type": "stream",
     "text": [
      "✅ Validation completed in 2.91s\n",
      "\n",
      "📊 Epoch 50 Summary:\n",
      "│ Train Loss: 0.0201 | Train Acc: 0.9954\n",
      "│ Val Loss:   1.7961 | Val Acc:   0.6849\n",
      "│ Train Time: 21.19s | Val Time: 2.91s\n",
      "│ Total Epoch Time: 24.10s\n",
      "│ Best Val Acc: 0.7318 (Epoch 38)\n",
      "│ GPU Memory: 0.1GB / 4.1GB\n",
      "================================================================================\n",
      "\n",
      "💾 Best EfficientNetB0 model saved as 'best_efficientnetb0_model.pth'\n",
      "📊 Best model stats:\n",
      "│ Best Epoch: 38\n",
      "│ Best Val Acc: 0.7318\n",
      "\n",
      "💾 EfficientNetB0 training history saved to 'efficientnetb0_training_history.csv'\n",
      "\n",
      "🎉 EfficientNetB0 Training Complete!\n",
      "Total Training Time: 1217.78s (20.3 minutes)\n",
      "Average Epoch Time: 24.36s\n",
      "\n",
      "⏱️  Epoch Timing Breakdown:\n",
      "│ Epoch 1: 31.86s\n",
      "│ Epoch 2: 23.49s\n",
      "│ Epoch 3: 23.52s\n",
      "│ Epoch 4: 23.85s\n",
      "│ Epoch 5: 23.90s\n",
      "│ Epoch 6: 23.98s\n",
      "│ Epoch 7: 24.04s\n",
      "│ Epoch 8: 24.37s\n",
      "│ Epoch 9: 24.37s\n",
      "│ Epoch 10: 24.30s\n",
      "│ Epoch 11: 24.25s\n",
      "│ Epoch 12: 24.26s\n",
      "│ Epoch 13: 24.10s\n",
      "│ Epoch 14: 24.15s\n",
      "│ Epoch 15: 24.12s\n",
      "│ Epoch 16: 24.21s\n",
      "│ Epoch 17: 24.12s\n",
      "│ Epoch 18: 24.28s\n",
      "│ Epoch 19: 24.32s\n",
      "│ Epoch 20: 24.13s\n",
      "│ Epoch 21: 24.21s\n",
      "│ Epoch 22: 24.00s\n",
      "│ Epoch 23: 24.10s\n",
      "│ Epoch 24: 24.34s\n",
      "│ Epoch 25: 24.51s\n",
      "│ Epoch 26: 25.92s\n",
      "│ Epoch 27: 24.78s\n",
      "│ Epoch 28: 24.21s\n",
      "│ Epoch 29: 24.24s\n",
      "│ Epoch 30: 23.96s\n",
      "│ Epoch 31: 24.19s\n",
      "│ Epoch 32: 24.12s\n",
      "│ Epoch 33: 24.50s\n",
      "│ Epoch 34: 24.22s\n",
      "│ Epoch 35: 23.98s\n",
      "│ Epoch 36: 23.95s\n",
      "│ Epoch 37: 23.96s\n",
      "│ Epoch 38: 24.40s\n",
      "│ Epoch 39: 24.73s\n",
      "│ Epoch 40: 24.06s\n",
      "│ Epoch 41: 24.23s\n",
      "│ Epoch 42: 24.09s\n",
      "│ Epoch 43: 24.12s\n",
      "│ Epoch 44: 24.22s\n",
      "│ Epoch 45: 24.17s\n",
      "│ Epoch 46: 23.94s\n",
      "│ Epoch 47: 24.38s\n",
      "│ Epoch 48: 24.46s\n",
      "│ Epoch 49: 24.05s\n",
      "│ Epoch 50: 24.10s\n",
      "\n",
      "🧪 Loading Best EfficientNetB0 Model for Testing...\n",
      "✅ Best EfficientNetB0 model from epoch 38 loaded successfully!\n"
     ]
    },
    {
     "name": "stderr",
     "output_type": "stream",
     "text": [
      "Testing EfficientNetB0: 100%|██████████████████████████████| 16/16 [00:05<00:00,  2.73it/s]\n"
     ]
    },
    {
     "name": "stdout",
     "output_type": "stream",
     "text": [
      "✅ EfficientNetB0 Testing completed in 5.86s\n",
      "\n",
      "📋 EfficientNetB0 Classification Report:\n",
      "              precision    recall  f1-score   support\n",
      "\n",
      "   fast_bowl       0.72      0.69      0.70       304\n",
      "   spin_bowl       0.52      0.55      0.53       184\n",
      "\n",
      "    accuracy                           0.64       488\n",
      "   macro avg       0.62      0.62      0.62       488\n",
      "weighted avg       0.64      0.64      0.64       488\n",
      "\n",
      "🎯 EfficientNetB0 Test Accuracy: 0.6352\n",
      "\n",
      "📊 EfficientNetB0 Model Performance Summary:\n",
      "│ Best Validation Acc:  0.7318 (Epoch 38)\n",
      "│ Final Test Accuracy:  0.6352\n",
      "│ Val-Test Gap:         0.0965\n"
     ]
    },
    {
     "data": {
      "image/png": "[encoded data removed]",
      "text/plain": [
       "<Figure size 800x600 with 2 Axes>"
      ]
     },
     "metadata": {},
     "output_type": "display_data"
    },
    {
     "data": {
      "image/png": "[encoded data removed]",
      "text/plain": [
       "<Figure size 2000x500 with 4 Axes>"
      ]
     },
     "metadata": {},
     "output_type": "display_data"
    },
    {
     "name": "stdout",
     "output_type": "stream",
     "text": [
      "\n",
      "⏰ EfficientNetB0 Final Timing Summary:\n",
      "│ Total Training: 1217.78s\n",
      "│ Average per Epoch: 24.36s\n",
      "│ Testing Time: 5.86s\n",
      "│ Total Runtime: 1223.64s\n",
      "\n",
      "💾 EfficientNetB0 Files saved:\n",
      "│ best_efficientnetb0_model.pth - Best validation accuracy model\n",
      "│ efficientnetb0_training_history.csv - Training metrics for later plotting\n",
      "\n",
      "🏗️  EfficientNetB0 Architecture Summary:\n",
      "│ Total Parameters: 4,010,110\n",
      "│ Trainable Parameters: 4,010,110\n",
      "│ Model Size: 15.30 MB\n",
      "│ Input Size: 224x224x3\n",
      "│ Output Classes: 2\n",
      "│ Width Coefficient: 1.0\n",
      "│ Depth Coefficient: 1.0\n",
      "│ Dropout Rate: 0.2\n",
      "│ Drop Connect Rate: 0.2\n",
      "│ MBConv Blocks: 16\n",
      "│ Squeeze-and-Excitation: Yes\n",
      "│ Swish Activation: Yes\n",
      "│ Stochastic Depth: Yes\n"
     ]
    }
   ],
   "source": [
    "import torch\n",
    "import torch.nn as nn\n",
    "import torch.nn.functional as F\n",
    "import numpy as np\n",
    "import matplotlib.pyplot as plt\n",
    "import seaborn as sns\n",
    "from torchsummary import summary\n",
    "from sklearn.metrics import accuracy_score, classification_report, confusion_matrix\n",
    "import pandas as pd\n",
    "from tqdm import tqdm\n",
    "import time\n",
    "# -----------------------------\n",
    "# 4. Training Loop with Best Model Saving (Val Accuracy) - EfficientNetB0\n",
    "# -----------------------------\n",
    "train_losses, val_losses = [], []\n",
    "train_accs, val_accs = [], []\n",
    "epoch_times = []\n",
    "epochs = 50\n",
    "\n",
    "# Initialize best model tracking\n",
    "best_val_acc = 0.0\n",
    "best_model_state = None\n",
    "best_epoch = 0\n",
    "\n",
    "print(f\"\\n🚀 Starting EfficientNetB0 Training for {epochs} epochs...\")\n",
    "print(\"=\" * 80)\n",
    "\n",
    "total_start_time = time.time()\n",
    "\n",
    "for epoch in range(epochs):\n",
    "    epoch_start_time = time.time()\n",
    "    \n",
    "    print(f\"\\n📈 Epoch {epoch+1}/{epochs}\")\n",
    "    print(\"-\" * 50)\n",
    "    \n",
    "    # Training Phase\n",
    "    print(\"🔄 Training Phase...\")\n",
    "    model.train()\n",
    "    running_loss, correct, total = 0, 0, 0\n",
    "    \n",
    "    train_pbar = tqdm(train_loader, desc=f\"Training\", \n",
    "                     bar_format='{l_bar}{bar:30}{r_bar}{bar:-30b}')\n",
    "    \n",
    "    train_phase_start = time.time()\n",
    "    \n",
    "    for batch_idx, (imgs, labels) in enumerate(train_pbar):\n",
    "        imgs, labels = imgs.to(device), labels.to(device)\n",
    "        \n",
    "        optimizer.zero_grad()\n",
    "        outputs = model(imgs)\n",
    "        loss = criterion(outputs, labels)\n",
    "        loss.backward()\n",
    "        optimizer.step()\n",
    "        \n",
    "        running_loss += loss.item()\n",
    "        _, preds = torch.max(outputs, 1)\n",
    "        correct += (preds == labels).sum().item()\n",
    "        total += labels.size(0)\n",
    "        \n",
    "        current_acc = correct / total\n",
    "        train_pbar.set_postfix({\n",
    "            'Loss': f'{running_loss/(batch_idx+1):.4f}',\n",
    "            'Acc': f'{current_acc:.4f}'\n",
    "        })\n",
    "        \n",
    "        if device.type == 'cuda' and batch_idx % 10 == 0:\n",
    "            gpu_memory = torch.cuda.memory_allocated() / 1024**3\n",
    "            train_pbar.set_postfix({\n",
    "                'Loss': f'{running_loss/(batch_idx+1):.4f}',\n",
    "                'Acc': f'{current_acc:.4f}',\n",
    "                'GPU': f'{gpu_memory:.1f}GB'\n",
    "            })\n",
    "    \n",
    "    train_phase_time = time.time() - train_phase_start\n",
    "    train_loss = running_loss / len(train_loader)\n",
    "    train_acc = correct / total\n",
    "    train_losses.append(train_loss)\n",
    "    train_accs.append(train_acc)\n",
    "    \n",
    "    print(f\"✅ Training completed in {train_phase_time:.2f}s\")\n",
    "    \n",
    "    # Validation Phase\n",
    "    print(\"🔍 Validation Phase...\")\n",
    "    model.eval()\n",
    "    running_loss, correct, total = 0, 0, 0\n",
    "    \n",
    "    val_phase_start = time.time()\n",
    "    val_pbar = tqdm(val_loader, desc=f\"Validation\", \n",
    "                   bar_format='{l_bar}{bar:30}{r_bar}{bar:-30b}')\n",
    "    \n",
    "    with torch.no_grad():\n",
    "        for batch_idx, (imgs, labels) in enumerate(val_pbar):\n",
    "            imgs, labels = imgs.to(device), labels.to(device)\n",
    "            outputs = model(imgs)\n",
    "            loss = criterion(outputs, labels)\n",
    "            \n",
    "            running_loss += loss.item()\n",
    "            _, preds = torch.max(outputs, 1)\n",
    "            correct += (preds == labels).sum().item()\n",
    "            total += labels.size(0)\n",
    "            \n",
    "            current_acc = correct / total\n",
    "            val_pbar.set_postfix({\n",
    "                'Loss': f'{running_loss/(batch_idx+1):.4f}',\n",
    "                'Acc': f'{current_acc:.4f}'\n",
    "            })\n",
    "    \n",
    "    val_phase_time = time.time() - val_phase_start\n",
    "    val_loss = running_loss / len(val_loader)\n",
    "    val_acc = correct / total\n",
    "    val_losses.append(val_loss)\n",
    "    val_accs.append(val_acc)\n",
    "    \n",
    "    print(f\"✅ Validation completed in {val_phase_time:.2f}s\")\n",
    "    \n",
    "    # Check if this is the best model so far based on val_acc\n",
    "    is_best = val_acc > best_val_acc\n",
    "    if is_best:\n",
    "        best_val_acc = val_acc\n",
    "        best_epoch = epoch + 1\n",
    "        best_model_state = model.state_dict().copy()\n",
    "        print(f\"🌟 New best EfficientNetB0 model found! Validation Accuracy: {val_acc:.4f}\")\n",
    "    \n",
    "    # Epoch Summary\n",
    "    epoch_time = time.time() - epoch_start_time\n",
    "    epoch_times.append(epoch_time)\n",
    "    \n",
    "    print(f\"\\n📊 Epoch {epoch+1} Summary:\")\n",
    "    print(f\"│ Train Loss: {train_loss:.4f} | Train Acc: {train_acc:.4f}\")\n",
    "    print(f\"│ Val Loss:   {val_loss:.4f} | Val Acc:   {val_acc:.4f}\")\n",
    "    print(f\"│ Train Time: {train_phase_time:.2f}s | Val Time: {val_phase_time:.2f}s\")\n",
    "    print(f\"│ Total Epoch Time: {epoch_time:.2f}s\")\n",
    "    print(f\"│ Best Val Acc: {best_val_acc:.4f} (Epoch {best_epoch})\")\n",
    "    \n",
    "    if device.type == 'cuda':\n",
    "        print(f\"│ GPU Memory: {torch.cuda.memory_allocated()/1024**3:.1f}GB / {torch.cuda.memory_reserved()/1024**3:.1f}GB\")\n",
    "    \n",
    "    print(\"=\" * 80)\n",
    "\n",
    "total_training_time = time.time() - total_start_time\n",
    "\n",
    "# Save the best model\n",
    "if best_model_state is not None:\n",
    "    torch.save(best_model_state, 'best_efficientnetb0_model.pth')\n",
    "    print(f\"\\n💾 Best EfficientNetB0 model saved as 'best_efficientnetb0_model.pth'\")\n",
    "    print(f\"📊 Best model stats:\")\n",
    "    print(f\"│ Best Epoch: {best_epoch}\")\n",
    "    print(f\"│ Best Val Acc: {best_val_acc:.4f}\")\n",
    "\n",
    "# Save training history data to CSV\n",
    "history_data = {\n",
    "    'epoch': list(range(1, epochs+1)),\n",
    "    'train_loss': train_losses,\n",
    "    'val_loss': val_losses,\n",
    "    'train_acc': train_accs,\n",
    "    'val_acc': val_accs,\n",
    "    'epoch_time': epoch_times\n",
    "}\n",
    "history_df = pd.DataFrame(history_data)\n",
    "history_df.to_csv('efficientnetb0_training_history.csv', index=False)\n",
    "print(\"\\n💾 EfficientNetB0 training history saved to 'efficientnetb0_training_history.csv'\")\n",
    "\n",
    "# Training Summary\n",
    "print(f\"\\n🎉 EfficientNetB0 Training Complete!\")\n",
    "print(f\"Total Training Time: {total_training_time:.2f}s ({total_training_time/60:.1f} minutes)\")\n",
    "print(f\"Average Epoch Time: {np.mean(epoch_times):.2f}s\")\n",
    "print(\"\\n⏱️  Epoch Timing Breakdown:\")\n",
    "for i, t in enumerate(epoch_times):\n",
    "    print(f\"│ Epoch {i+1}: {t:.2f}s\")\n",
    "\n",
    "# -----------------------------\n",
    "# 5. Load Best Model and Test\n",
    "# -----------------------------\n",
    "print(f\"\\n🧪 Loading Best EfficientNetB0 Model for Testing...\")\n",
    "\n",
    "# Load the best model state\n",
    "if best_model_state is not None:\n",
    "    model.load_state_dict(best_model_state)\n",
    "    print(f\"✅ Best EfficientNetB0 model from epoch {best_epoch} loaded successfully!\")\n",
    "else:\n",
    "    print(\"⚠️  No best model found, using current model state\")\n",
    "\n",
    "test_start_time = time.time()\n",
    "y_true, y_pred = [], []\n",
    "model.eval()\n",
    "\n",
    "test_pbar = tqdm(test_loader, desc=\"Testing EfficientNetB0\", \n",
    "                bar_format='{l_bar}{bar:30}{r_bar}{bar:-30b}')\n",
    "\n",
    "with torch.no_grad():\n",
    "    for imgs, labels in test_pbar:\n",
    "        imgs, labels = imgs.to(device), labels.to(device)\n",
    "        outputs = model(imgs)\n",
    "        _, preds = torch.max(outputs, 1)\n",
    "        y_true.extend(labels.cpu().numpy())\n",
    "        y_pred.extend(preds.cpu().numpy())\n",
    "\n",
    "test_time = time.time() - test_start_time\n",
    "test_accuracy = accuracy_score(y_true, y_pred)\n",
    "\n",
    "print(f\"✅ EfficientNetB0 Testing completed in {test_time:.2f}s\")\n",
    "print(\"\\n📋 EfficientNetB0 Classification Report:\")\n",
    "print(classification_report(y_true, y_pred, target_names=classes))\n",
    "print(f\"🎯 EfficientNetB0 Test Accuracy: {test_accuracy:.4f}\")\n",
    "\n",
    "# Model Performance Summary\n",
    "print(f\"\\n📊 EfficientNetB0 Model Performance Summary:\")\n",
    "print(f\"│ Best Validation Acc:  {best_val_acc:.4f} (Epoch {best_epoch})\")\n",
    "print(f\"│ Final Test Accuracy:  {test_accuracy:.4f}\")\n",
    "print(f\"│ Val-Test Gap:         {abs(best_val_acc - test_accuracy):.4f}\")\n",
    "\n",
    "# Confusion Matrix\n",
    "cm = confusion_matrix(y_true, y_pred)\n",
    "plt.figure(figsize=(8, 6))\n",
    "sns.heatmap(cm, annot=True, fmt=\"d\", cmap=\"Purples\", xticklabels=classes, yticklabels=classes)\n",
    "plt.xlabel(\"Predicted\")\n",
    "plt.ylabel(\"True\")\n",
    "plt.title(f\"EfficientNetB0 Confusion Matrix - Best Model (Epoch {best_epoch})\")\n",
    "plt.show()\n",
    "\n",
    "# -----------------------------\n",
    "# 6. Enhanced Visualizations\n",
    "# -----------------------------\n",
    "plt.figure(figsize=(20, 5))\n",
    "\n",
    "# Loss Plot\n",
    "plt.subplot(1, 4, 1)\n",
    "plt.plot(range(1, epochs+1), train_losses, 'b-', label=\"Train Loss\", marker='o', linewidth=2)\n",
    "plt.plot(range(1, epochs+1), val_losses, 'r-', label=\"Val Loss\", marker='s', linewidth=2)\n",
    "plt.axvline(x=best_epoch, color='purple', linestyle='--', alpha=0.7, label=f'Best (Epoch {best_epoch})')\n",
    "plt.legend()\n",
    "plt.title(\"EfficientNetB0 Loss over Epochs\")\n",
    "plt.xlabel(\"Epoch\")\n",
    "plt.ylabel(\"Loss\")\n",
    "plt.grid(True, alpha=0.3)\n",
    "\n",
    "# Accuracy Plot\n",
    "plt.subplot(1, 4, 2)\n",
    "plt.plot(range(1, epochs+1), train_accs, 'b-', label=\"Train Accuracy\", marker='o', linewidth=2)\n",
    "plt.plot(range(1, epochs+1), val_accs, 'r-', label=\"Val Accuracy\", marker='s', linewidth=2)\n",
    "plt.axvline(x=best_epoch, color='purple', linestyle='--', alpha=0.7, label=f'Best (Epoch {best_epoch})')\n",
    "plt.scatter([best_epoch], [best_val_acc], color='purple', s=100, zorder=5)\n",
    "plt.legend()\n",
    "plt.title(\"EfficientNetB0 Accuracy over Epochs\")\n",
    "plt.xlabel(\"Epoch\")\n",
    "plt.ylabel(\"Accuracy\")\n",
    "plt.grid(True, alpha=0.3)\n",
    "\n",
    "# Timing Plot\n",
    "plt.subplot(1, 4, 3)\n",
    "bars = plt.bar(range(1, epochs+1), epoch_times, color='plum', alpha=0.7)\n",
    "bars[best_epoch-1].set_color('purple')\n",
    "plt.title(\"EfficientNetB0 Training Time per Epoch\")\n",
    "plt.xlabel(\"Epoch\")\n",
    "plt.ylabel(\"Time (seconds)\")\n",
    "plt.grid(True, alpha=0.3)\n",
    "for i, t in enumerate(epoch_times):\n",
    "    plt.text(i+1, t+0.5, f'{t:.1f}s', ha='center', va='bottom')\n",
    "\n",
    "# Performance Comparison\n",
    "plt.subplot(1, 4, 4)\n",
    "metrics = ['Best Val Acc', 'Test Acc']\n",
    "values = [best_val_acc, test_accuracy]\n",
    "colors = ['plum', 'purple']\n",
    "bars = plt.bar(metrics, values, color=colors, alpha=0.7)\n",
    "plt.title(\"EfficientNetB0 Final Model Performance\")\n",
    "plt.ylabel(\"Accuracy\")\n",
    "plt.ylim(0, 1)\n",
    "plt.grid(True, alpha=0.3)\n",
    "for bar, val in zip(bars, values):\n",
    "    plt.text(bar.get_x() + bar.get_width()/2, val + 0.01, \n",
    "             f'{val:.4f}', ha='center', va='bottom')\n",
    "\n",
    "plt.tight_layout()\n",
    "plt.show()\n",
    "\n",
    "print(f\"\\n⏰ EfficientNetB0 Final Timing Summary:\")\n",
    "print(f\"│ Total Training: {total_training_time:.2f}s\")\n",
    "print(f\"│ Average per Epoch: {np.mean(epoch_times):.2f}s\")\n",
    "print(f\"│ Testing Time: {test_time:.2f}s\")\n",
    "print(f\"│ Total Runtime: {total_training_time + test_time:.2f}s\")\n",
    "\n",
    "print(f\"\\n💾 EfficientNetB0 Files saved:\")\n",
    "print(f\"│ best_efficientnetb0_model.pth - Best validation accuracy model\")\n",
    "print(f\"│ efficientnetb0_training_history.csv - Training metrics for later plotting\")\n",
    "\n",
    "# -----------------------------\n",
    "# 7. EfficientNetB0 Architecture Summary\n",
    "# -----------------------------\n",
    "print(f\"\\n🏗️  EfficientNetB0 Architecture Summary:\")\n",
    "print(f\"│ Total Parameters: {sum(p.numel() for p in model.parameters()):,}\")\n",
    "print(f\"│ Trainable Parameters: {sum(p.numel() for p in model.parameters() if p.requires_grad):,}\")\n",
    "print(f\"│ Model Size: {sum(p.numel() * p.element_size() for p in model.parameters()) / 1024**2:.2f} MB\")\n",
    "print(f\"│ Input Size: 224x224x3\")\n",
    "print(f\"│ Output Classes: {len(classes)}\")\n",
    "print(f\"│ Width Coefficient: 1.0\")\n",
    "print(f\"│ Depth Coefficient: 1.0\")\n",
    "print(f\"│ Dropout Rate: 0.2\")\n",
    "print(f\"│ Drop Connect Rate: 0.2\")\n",
    "print(f\"│ MBConv Blocks: {len(model.blocks)}\")\n",
    "print(f\"│ Squeeze-and-Excitation: Yes\")\n",
    "print(f\"│ Swish Activation: Yes\")\n",
    "print(f\"│ Stochastic Depth: Yes\")"
   ]
  }
 ],
 "metadata": {
  "kaggle": {
   "accelerator": "nvidiaTeslaT4",
   "dataSources": [
    {
     "datasetId": 7735666,
     "sourceId": 12275446,
     "sourceType": "datasetVersion"
    }
   ],
   "dockerImageVersionId": 31090,
   "isGpuEnabled": true,
   "isInternetEnabled": true,
   "language": "python",
   "sourceType": "notebook"
  },
  "kernelspec": {
   "display_name": "Python 3",
   "language": "python",
   "name": "python3"
  },
  "language_info": {
   "codemirror_mode": {
    "name": "ipython",
    "version": 3
   },
   "file_extension": ".py",
   "mimetype": "text/x-python",
   "name": "python",
   "nbconvert_exporter": "python",
   "pygments_lexer": "ipython3",
   "version": "3.11.13"
  },
  "papermill": {
   "default_parameters": {},
   "duration": 1255.744232,
   "end_time": "2025-09-08T07:45:06.907513",
   "environment_variables": {},
   "exception": null,
   "input_path": "__notebook__.ipynb",
   "output_path": "__notebook__.ipynb",
   "parameters": {},
   "start_time": "2025-09-08T07:24:11.163281",
   "version": "2.6.0"
  }
 },
 "nbformat": 4,
 "nbformat_minor": 5
}
