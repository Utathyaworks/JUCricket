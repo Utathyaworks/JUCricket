{
 "cells": [
  {
   "cell_type": "code",
   "execution_count": 1,
   "id": "8ee4edc4",
   "metadata": {
    "_cell_guid": "b1076dfc-b9ad-4769-8c92-a6c4dae69d19",
    "_uuid": "8f2839f25d086af736a60e9eeb907d3b93b6e0e5",
    "execution": {
     "iopub.execute_input": "2025-09-08T15:23:19.292132Z",
     "iopub.status.busy": "2025-09-08T15:23:19.291396Z",
     "iopub.status.idle": "2025-09-08T15:23:33.674902Z",
     "shell.execute_reply": "2025-09-08T15:23:33.673825Z"
    },
    "papermill": {
     "duration": 14.388981,
     "end_time": "2025-09-08T15:23:33.676231",
     "exception": false,
     "start_time": "2025-09-08T15:23:19.287250",
     "status": "completed"
    },
    "tags": []
   },
   "outputs": [
    {
     "name": "stdout",
     "output_type": "stream",
     "text": [
      "Classes: ['fast_bowl', 'spin_bowl']\n"
     ]
    }
   ],
   "source": [
    "import torch\n",
    "import torch.nn as nn\n",
    "import torch.nn.functional as F\n",
    "from torch.utils.data import DataLoader\n",
    "from torchvision import datasets, transforms\n",
    "from torchsummary import summary\n",
    "import matplotlib.pyplot as plt\n",
    "from sklearn.metrics import classification_report, confusion_matrix, accuracy_score\n",
    "import seaborn as sns\n",
    "import numpy as np\n",
    "\n",
    "# -----------------------------\n",
    "# 1. Data Preprocessing\n",
    "# -----------------------------\n",
    "data_dir = \"/kaggle/input/ju-cricket/Cricket_Dataset_final/Task_B\"\n",
    "\n",
    "transform = transforms.Compose([\n",
    "    transforms.Resize((224, 224)),\n",
    "    transforms.ToTensor(),\n",
    "    transforms.Normalize([0.485, 0.456, 0.406], \n",
    "                         [0.229, 0.224, 0.225])\n",
    "])\n",
    "\n",
    "train_ds = datasets.ImageFolder(f\"{data_dir}/train/Bowling\", transform=transform)\n",
    "val_ds   = datasets.ImageFolder(f\"{data_dir}/val/Bowling\", transform=transform)\n",
    "test_ds  = datasets.ImageFolder(f\"{data_dir}/test/Bowling\", transform=transform)\n",
    "\n",
    "train_loader = DataLoader(train_ds, batch_size=32, shuffle=True)\n",
    "val_loader   = DataLoader(val_ds, batch_size=32, shuffle=False)\n",
    "test_loader  = DataLoader(test_ds, batch_size=32, shuffle=False)\n",
    "\n",
    "classes = train_ds.classes\n",
    "print(\"Classes:\", classes)"
   ]
  },
  {
   "cell_type": "code",
   "execution_count": 2,
   "id": "29a5c338",
   "metadata": {
    "execution": {
     "iopub.execute_input": "2025-09-08T15:23:33.682157Z",
     "iopub.status.busy": "2025-09-08T15:23:33.681795Z",
     "iopub.status.idle": "2025-09-08T15:23:33.686471Z",
     "shell.execute_reply": "2025-09-08T15:23:33.685734Z"
    },
    "papermill": {
     "duration": 0.008855,
     "end_time": "2025-09-08T15:23:33.687739",
     "exception": false,
     "start_time": "2025-09-08T15:23:33.678884",
     "status": "completed"
    },
    "tags": []
   },
   "outputs": [
    {
     "name": "stdout",
     "output_type": "stream",
     "text": [
      "Total training images: 1710\n",
      "Total validation images: 432\n",
      "Total test images: 549\n",
      "Total images in dataset: 2691\n"
     ]
    }
   ],
   "source": [
    "print(\"Total training images:\", len(train_ds))\n",
    "print(\"Total validation images:\", len(val_ds))\n",
    "print(\"Total test images:\", len(test_ds))\n",
    "\n",
    "total_images = len(train_ds) + len(val_ds) + len(test_ds)\n",
    "print(\"Total images in dataset:\", total_images)"
   ]
  },
  {
   "cell_type": "code",
   "execution_count": 3,
   "id": "0f7b556e",
   "metadata": {
    "execution": {
     "iopub.execute_input": "2025-09-08T15:23:33.693221Z",
     "iopub.status.busy": "2025-09-08T15:23:33.692835Z",
     "iopub.status.idle": "2025-09-08T15:23:33.699836Z",
     "shell.execute_reply": "2025-09-08T15:23:33.699069Z"
    },
    "papermill": {
     "duration": 0.010845,
     "end_time": "2025-09-08T15:23:33.700960",
     "exception": false,
     "start_time": "2025-09-08T15:23:33.690115",
     "status": "completed"
    },
    "tags": []
   },
   "outputs": [
    {
     "name": "stdout",
     "output_type": "stream",
     "text": [
      "Training images (excluding 'random_occlusion'): 1520\n",
      "Validation images (excluding 'random_occlusion'): 384\n",
      "Test images (excluding 'random_occlusion'): 488\n",
      "Total images (excluding 'random_occlusion'): 2392\n"
     ]
    }
   ],
   "source": [
    "ignore_folder = \"random_occlusion\"\n",
    "\n",
    "def count_images_ignore_folder(dataset, ignore_folder):\n",
    "    count = 0\n",
    "    for img_path, label in dataset.samples:\n",
    "        # Skip if the image path contains the ignore_folder\n",
    "        if ignore_folder not in img_path.split(\"/\"):\n",
    "            count += 1\n",
    "    return count\n",
    "\n",
    "train_count = count_images_ignore_folder(train_ds, ignore_folder)\n",
    "val_count   = count_images_ignore_folder(val_ds, ignore_folder)\n",
    "test_count  = count_images_ignore_folder(test_ds, ignore_folder)\n",
    "\n",
    "total_count = train_count + val_count + test_count\n",
    "\n",
    "print(\"Training images (excluding '{}'): {}\".format(ignore_folder, train_count))\n",
    "print(\"Validation images (excluding '{}'): {}\".format(ignore_folder, val_count))\n",
    "print(\"Test images (excluding '{}'): {}\".format(ignore_folder, test_count))\n",
    "print(\"Total images (excluding '{}'): {}\".format(ignore_folder, total_count))"
   ]
  },
  {
   "cell_type": "code",
   "execution_count": 4,
   "id": "4b32a287",
   "metadata": {
    "execution": {
     "iopub.execute_input": "2025-09-08T15:23:33.706457Z",
     "iopub.status.busy": "2025-09-08T15:23:33.706244Z",
     "iopub.status.idle": "2025-09-08T15:23:33.713888Z",
     "shell.execute_reply": "2025-09-08T15:23:33.713352Z"
    },
    "papermill": {
     "duration": 0.011626,
     "end_time": "2025-09-08T15:23:33.714948",
     "exception": false,
     "start_time": "2025-09-08T15:23:33.703322",
     "status": "completed"
    },
    "tags": []
   },
   "outputs": [
    {
     "name": "stdout",
     "output_type": "stream",
     "text": [
      "Training folders considered: {'chromatic_aberration', 'random_occlusion', 'blur', 'gaussian_noise', 'motion_blur', 'low_resolution', 'lens_flare', 'dirty_lens', 'original'}\n",
      "Validation folders considered: {'chromatic_aberration', 'random_occlusion', 'blur', 'gaussian_noise', 'motion_blur', 'low_resolution', 'lens_flare', 'dirty_lens', 'original'}\n",
      "Test folders considered: {'chromatic_aberration', 'random_occlusion', 'blur', 'gaussian_noise', 'motion_blur', 'low_resolution', 'lens_flare', 'dirty_lens', 'original'}\n"
     ]
    }
   ],
   "source": [
    "ignore_folder = \"random_occlusionw\"\n",
    "\n",
    "def get_included_folders(dataset, ignore_folder):\n",
    "    included = set()\n",
    "    for img_path, label in dataset.samples:\n",
    "        # Split the path into parts and ignore if ignore_folder is in the path\n",
    "        if ignore_folder not in img_path.split(\"/\"):\n",
    "            # The folder name just above the image (or the class folder)\n",
    "            folder_name = img_path.split(\"/\")[-2]\n",
    "            included.add(folder_name)\n",
    "    return included\n",
    "\n",
    "train_folders = get_included_folders(train_ds, ignore_folder)\n",
    "val_folders   = get_included_folders(val_ds, ignore_folder)\n",
    "test_folders  = get_included_folders(test_ds, ignore_folder)\n",
    "\n",
    "print(\"Training folders considered:\", train_folders)\n",
    "print(\"Validation folders considered:\", val_folders)\n",
    "print(\"Test folders considered:\", test_folders)"
   ]
  },
  {
   "cell_type": "code",
   "execution_count": 5,
   "id": "25a9fb16",
   "metadata": {
    "execution": {
     "iopub.execute_input": "2025-09-08T15:23:33.720762Z",
     "iopub.status.busy": "2025-09-08T15:23:33.720291Z",
     "iopub.status.idle": "2025-09-08T15:23:33.790923Z",
     "shell.execute_reply": "2025-09-08T15:23:33.790133Z"
    },
    "papermill": {
     "duration": 0.074887,
     "end_time": "2025-09-08T15:23:33.792240",
     "exception": false,
     "start_time": "2025-09-08T15:23:33.717353",
     "status": "completed"
    },
    "tags": []
   },
   "outputs": [
    {
     "name": "stdout",
     "output_type": "stream",
     "text": [
      "Classes: ['fast_bowl', 'spin_bowl']\n",
      "Final Training images: 1520\n",
      "Final Validation images: 384\n",
      "Final Test images: 488\n",
      "Total images after filtering: 2392\n"
     ]
    }
   ],
   "source": [
    "ignore_folder = \"random_occlusion\"\n",
    "\n",
    "def filter_samples(dataset, ignore_folder):\n",
    "    # Keep only samples where ignore_folder is NOT in the path\n",
    "    filtered_samples = [s for s in dataset.samples if ignore_folder not in s[0].split(\"/\")]\n",
    "    dataset.samples = filtered_samples\n",
    "    dataset.targets = [s[1] for s in filtered_samples]  # Update targets accordingly\n",
    "    return dataset\n",
    "\n",
    "# Create original datasets\n",
    "train_ds = datasets.ImageFolder(f\"{data_dir}/train/Bowling\", transform=transform)\n",
    "val_ds   = datasets.ImageFolder(f\"{data_dir}/val/Bowling\", transform=transform)\n",
    "test_ds  = datasets.ImageFolder(f\"{data_dir}/test/Bowling\", transform=transform)\n",
    "\n",
    "# Filter out 'random_occlusion' folder\n",
    "train_ds = filter_samples(train_ds, ignore_folder)\n",
    "val_ds   = filter_samples(val_ds, ignore_folder)\n",
    "test_ds  = filter_samples(test_ds, ignore_folder)\n",
    "\n",
    "# DataLoaders\n",
    "train_loader = DataLoader(train_ds, batch_size=32, shuffle=True)\n",
    "val_loader   = DataLoader(val_ds, batch_size=32, shuffle=False)\n",
    "test_loader  = DataLoader(test_ds, batch_size=32, shuffle=False)\n",
    "\n",
    "# Classes (will remain the same)\n",
    "classes = train_ds.classes\n",
    "print(\"Classes:\", classes)\n",
    "\n",
    "# Show counts\n",
    "print(\"Final Training images:\", len(train_ds))\n",
    "print(\"Final Validation images:\", len(val_ds))\n",
    "print(\"Final Test images:\", len(test_ds))\n",
    "print(\"Total images after filtering:\", len(train_ds) + len(val_ds) + len(test_ds))"
   ]
  },
  {
   "cell_type": "code",
   "execution_count": 6,
   "id": "f8887552",
   "metadata": {
    "execution": {
     "iopub.execute_input": "2025-09-08T15:23:33.797922Z",
     "iopub.status.busy": "2025-09-08T15:23:33.797704Z",
     "iopub.status.idle": "2025-09-08T15:23:33.805177Z",
     "shell.execute_reply": "2025-09-08T15:23:33.804509Z"
    },
    "papermill": {
     "duration": 0.011533,
     "end_time": "2025-09-08T15:23:33.806372",
     "exception": false,
     "start_time": "2025-09-08T15:23:33.794839",
     "status": "completed"
    },
    "tags": []
   },
   "outputs": [
    {
     "name": "stdout",
     "output_type": "stream",
     "text": [
      "Training folders considered: {'chromatic_aberration', 'blur', 'gaussian_noise', 'motion_blur', 'low_resolution', 'lens_flare', 'dirty_lens', 'original'}\n",
      "Validation folders considered: {'chromatic_aberration', 'blur', 'gaussian_noise', 'motion_blur', 'low_resolution', 'lens_flare', 'dirty_lens', 'original'}\n",
      "Test folders considered: {'chromatic_aberration', 'blur', 'gaussian_noise', 'motion_blur', 'low_resolution', 'lens_flare', 'dirty_lens', 'original'}\n"
     ]
    }
   ],
   "source": [
    "ignore_folder = \"random_occlusion\"\n",
    "\n",
    "def get_included_folders(dataset, ignore_folder):\n",
    "    included = set()\n",
    "    for img_path, label in dataset.samples:\n",
    "        # Split the path into parts and ignore if ignore_folder is in the path\n",
    "        if ignore_folder not in img_path.split(\"/\"):\n",
    "            # The folder name just above the image (or the class folder)\n",
    "            folder_name = img_path.split(\"/\")[-2]\n",
    "            included.add(folder_name)\n",
    "    return included\n",
    "\n",
    "train_folders = get_included_folders(train_ds, ignore_folder)\n",
    "val_folders   = get_included_folders(val_ds, ignore_folder)\n",
    "test_folders  = get_included_folders(test_ds, ignore_folder)\n",
    "\n",
    "print(\"Training folders considered:\", train_folders)\n",
    "print(\"Validation folders considered:\", val_folders)\n",
    "print(\"Test folders considered:\", test_folders)"
   ]
  },
  {
   "cell_type": "code",
   "execution_count": 7,
   "id": "ee54a778",
   "metadata": {
    "execution": {
     "iopub.execute_input": "2025-09-08T15:23:33.811966Z",
     "iopub.status.busy": "2025-09-08T15:23:33.811759Z",
     "iopub.status.idle": "2025-09-08T15:23:35.952973Z",
     "shell.execute_reply": "2025-09-08T15:23:35.952170Z"
    },
    "papermill": {
     "duration": 2.145404,
     "end_time": "2025-09-08T15:23:35.954137",
     "exception": false,
     "start_time": "2025-09-08T15:23:33.808733",
     "status": "completed"
    },
    "tags": []
   },
   "outputs": [
    {
     "name": "stdout",
     "output_type": "stream",
     "text": [
      "🔄 Loading and filtering datasets for Swin Transformer...\n",
      "✅ Classes: ['fast_bowl', 'spin_bowl']\n",
      "📊 Dataset Statistics:\n",
      "│ Training images: 1520\n",
      "│ Validation images: 384\n",
      "│ Test images: 488\n",
      "│ Total images (after filtering): 2392\n",
      "│ Excluded folder: 'random_occlusion'\n",
      "│ Number of classes: 2\n",
      "Using device: cuda\n",
      "🔄 Loading pretrained Swin Transformer (Swin-T) from ImageNet...\n"
     ]
    },
    {
     "name": "stderr",
     "output_type": "stream",
     "text": [
      "/usr/local/lib/python3.11/dist-packages/torchvision/models/_utils.py:208: UserWarning: The parameter 'pretrained' is deprecated since 0.13 and may be removed in the future, please use 'weights' instead.\n",
      "  warnings.warn(\n",
      "/usr/local/lib/python3.11/dist-packages/torchvision/models/_utils.py:223: UserWarning: Arguments other than a weight enum or `None` for 'weights' are deprecated since 0.13 and may be removed in the future. The current behavior is equivalent to passing `weights=Swin_T_Weights.IMAGENET1K_V1`. You can also use `weights=Swin_T_Weights.DEFAULT` to get the most up-to-date weights.\n",
      "  warnings.warn(msg)\n",
      "Downloading: \"https://download.pytorch.org/models/swin_t-704ceda3.pth\" to /root/.cache/torch/hub/checkpoints/swin_t-704ceda3.pth\n",
      "100%|██████████| 108M/108M [00:00<00:00, 176MB/s]\n"
     ]
    },
    {
     "name": "stdout",
     "output_type": "stream",
     "text": [
      "✅ Model loaded with 2 output classes\n",
      "📊 Total parameters: 27,520,892\n",
      "📊 Trainable parameters: 27,520,892\n",
      "📊 Model file size: 105.27 MB\n",
      "📋 Model Architecture:\n",
      "│ Input size: (3, 224, 224)\n",
      "│ Swin-T features: 768\n",
      "│ Output classes: 2\n",
      "│ Patch size: 4x4\n",
      "│ Window size: 7x7\n",
      "│ Layers: [2, 2, 6, 2] per stage\n",
      "│ Hierarchical: Multi-scale feature maps\n"
     ]
    }
   ],
   "source": [
    "import torch\n",
    "import torch.nn as nn\n",
    "import torch.nn.functional as F\n",
    "import torch.optim as optim\n",
    "from torch.utils.data import DataLoader\n",
    "from torchvision import datasets, transforms, models\n",
    "import matplotlib.pyplot as plt\n",
    "from sklearn.metrics import classification_report, confusion_matrix, accuracy_score\n",
    "import seaborn as sns\n",
    "import numpy as np\n",
    "import pandas as pd\n",
    "from tqdm import tqdm\n",
    "import time\n",
    "import os\n",
    "import tempfile\n",
    "\n",
    "# -----------------------------\n",
    "# 1. Data Preprocessing with Filtering (Swin Transformer - 224x224)\n",
    "# -----------------------------\n",
    "data_dir = \"/kaggle/input/ju-cricket/Cricket_Dataset_final/Task_B\"\n",
    "\n",
    "# Swin Transformer uses 224x224 input size\n",
    "transform = transforms.Compose([\n",
    "    transforms.Resize((224, 224)),  # Swin Transformer input size\n",
    "    transforms.ToTensor(),\n",
    "    transforms.Normalize([0.485, 0.456, 0.406], \n",
    "                         [0.229, 0.224, 0.225])\n",
    "])\n",
    "\n",
    "ignore_folder = \"random_occlusion\"\n",
    "\n",
    "def filter_samples(dataset, ignore_folder):\n",
    "    \"\"\"Filter out samples containing the ignore_folder in their path\"\"\"\n",
    "    filtered_samples = [s for s in dataset.samples if ignore_folder not in s[0].split(\"/\")]\n",
    "    dataset.samples = filtered_samples\n",
    "    dataset.targets = [s[1] for s in filtered_samples]\n",
    "    return dataset\n",
    "\n",
    "# Create and filter datasets\n",
    "print(\"🔄 Loading and filtering datasets for Swin Transformer...\")\n",
    "train_ds = datasets.ImageFolder(f\"{data_dir}/train/Bowling\", transform=transform)\n",
    "val_ds   = datasets.ImageFolder(f\"{data_dir}/val/Bowling\", transform=transform)\n",
    "test_ds  = datasets.ImageFolder(f\"{data_dir}/test/Bowling\", transform=transform)\n",
    "\n",
    "# Apply filtering\n",
    "train_ds = filter_samples(train_ds, ignore_folder)\n",
    "val_ds   = filter_samples(val_ds, ignore_folder)\n",
    "test_ds  = filter_samples(test_ds, ignore_folder)\n",
    "\n",
    "# Create DataLoaders\n",
    "train_loader = DataLoader(train_ds, batch_size=32, shuffle=True)\n",
    "val_loader   = DataLoader(val_ds, batch_size=32, shuffle=False)\n",
    "test_loader  = DataLoader(test_ds, batch_size=32, shuffle=False)\n",
    "\n",
    "# Display information\n",
    "classes = train_ds.classes\n",
    "print(f\"✅ Classes: {classes}\")\n",
    "print(f\"📊 Dataset Statistics:\")\n",
    "print(f\"│ Training images: {len(train_ds)}\")\n",
    "print(f\"│ Validation images: {len(val_ds)}\")\n",
    "print(f\"│ Test images: {len(test_ds)}\")\n",
    "print(f\"│ Total images (after filtering): {len(train_ds) + len(val_ds) + len(test_ds)}\")\n",
    "print(f\"│ Excluded folder: '{ignore_folder}'\")\n",
    "print(f\"│ Number of classes: {len(classes)}\")\n",
    "\n",
    "# -----------------------------\n",
    "# 2. Pretrained Swin Transformer Model\n",
    "# -----------------------------\n",
    "device = torch.device('cuda' if torch.cuda.is_available() else 'cpu')\n",
    "print(f\"Using device: {device}\")\n",
    "\n",
    "# Load pretrained Swin Transformer (Swin-T)\n",
    "print(\"🔄 Loading pretrained Swin Transformer (Swin-T) from ImageNet...\")\n",
    "model = models.swin_t(pretrained=True)\n",
    "\n",
    "# Replace final classification layer\n",
    "# Swin Transformer uses model.head (similar to ViT)\n",
    "num_features = model.head.in_features  # Get input features (768 for Swin-T)\n",
    "model.head = nn.Linear(num_features, len(classes))  # Replace final layer\n",
    "model = model.to(device)\n",
    "\n",
    "print(f\"✅ Model loaded with {len(classes)} output classes\")\n",
    "\n",
    "# Calculate model parameters and size\n",
    "total_params = sum(p.numel() for p in model.parameters())\n",
    "trainable_params = sum(p.numel() for p in model.parameters() if p.requires_grad)\n",
    "\n",
    "# Calculate model file size\n",
    "with tempfile.NamedTemporaryFile(delete=False, suffix='.pth') as tmp_file:\n",
    "    torch.save(model.state_dict(), tmp_file.name)\n",
    "    model_size_mb = os.path.getsize(tmp_file.name) / (1024 * 1024)\n",
    "    os.unlink(tmp_file.name)\n",
    "\n",
    "print(f\"📊 Total parameters: {total_params:,}\")\n",
    "print(f\"📊 Trainable parameters: {trainable_params:,}\")\n",
    "print(f\"📊 Model file size: {model_size_mb:.2f} MB\")\n",
    "print(f\"📋 Model Architecture:\")\n",
    "print(f\"│ Input size: (3, 224, 224)\")\n",
    "print(f\"│ Swin-T features: 768\")\n",
    "print(f\"│ Output classes: {len(classes)}\")\n",
    "print(f\"│ Patch size: 4x4\")\n",
    "print(f\"│ Window size: 7x7\")\n",
    "print(f\"│ Layers: [2, 2, 6, 2] per stage\")\n",
    "print(f\"│ Hierarchical: Multi-scale feature maps\")\n"
   ]
  },
  {
   "cell_type": "code",
   "execution_count": 8,
   "id": "631a0ab5",
   "metadata": {
    "execution": {
     "iopub.execute_input": "2025-09-08T15:23:35.961875Z",
     "iopub.status.busy": "2025-09-08T15:23:35.961636Z",
     "iopub.status.idle": "2025-09-08T15:54:26.345282Z",
     "shell.execute_reply": "2025-09-08T15:54:26.344605Z"
    },
    "papermill": {
     "duration": 1850.390496,
     "end_time": "2025-09-08T15:54:26.348039",
     "exception": false,
     "start_time": "2025-09-08T15:23:35.957543",
     "status": "completed"
    },
    "tags": []
   },
   "outputs": [
    {
     "name": "stdout",
     "output_type": "stream",
     "text": [
      "\n",
      "📋 Training Configuration:\n",
      "│ Model: Swin Transformer Tiny (pretrained)\n",
      "│ Optimizer: Adam (lr=0.0001)\n",
      "│ Loss Function: CrossEntropyLoss\n",
      "│ Batch Size: 32\n",
      "│ Device: cuda\n",
      "│ Data: Filtered (excluding 'random_occlusion')\n",
      "\n",
      "🚀 Starting Swin Transformer Fine-tuning for 50 epochs...\n",
      "================================================================================\n",
      "\n",
      "📈 Epoch 1/50\n",
      "--------------------------------------------------\n",
      "🔄 Training Phase...\n"
     ]
    },
    {
     "name": "stderr",
     "output_type": "stream",
     "text": [
      "Training: 100%|██████████████████████████████| 48/48 [00:42<00:00,  1.13it/s, Loss=0.5271, Acc=0.7211]\n"
     ]
    },
    {
     "name": "stdout",
     "output_type": "stream",
     "text": [
      "✅ Training completed in 42.53s\n",
      "🔍 Validation Phase...\n"
     ]
    },
    {
     "name": "stderr",
     "output_type": "stream",
     "text": [
      "Validation: 100%|██████████████████████████████| 12/12 [00:06<00:00,  1.98it/s, Loss=0.5612, Acc=0.7188]\n"
     ]
    },
    {
     "name": "stdout",
     "output_type": "stream",
     "text": [
      "✅ Validation completed in 6.05s\n",
      "🌟 New best model found! Validation Loss: 0.5612\n",
      "\n",
      "📊 Epoch 1 Summary:\n",
      "│ Train Loss: 0.5271 | Train Acc: 0.7211\n",
      "│ Val Loss:   0.5612 | Val Acc:   0.7188\n",
      "│ Train Time: 42.53s | Val Time: 6.05s\n",
      "│ Total Epoch Time: 48.59s\n",
      "│ Best Val Loss: 0.5612 (Epoch 1)\n",
      "│ GPU Memory: 0.5GB / 3.9GB\n",
      "================================================================================\n",
      "\n",
      "📈 Epoch 2/50\n",
      "--------------------------------------------------\n",
      "🔄 Training Phase...\n"
     ]
    },
    {
     "name": "stderr",
     "output_type": "stream",
     "text": [
      "Training: 100%|██████████████████████████████| 48/48 [00:30<00:00,  1.59it/s, Loss=0.1252, Acc=0.9546]\n"
     ]
    },
    {
     "name": "stdout",
     "output_type": "stream",
     "text": [
      "✅ Training completed in 30.24s\n",
      "🔍 Validation Phase...\n"
     ]
    },
    {
     "name": "stderr",
     "output_type": "stream",
     "text": [
      "Validation: 100%|██████████████████████████████| 12/12 [00:03<00:00,  3.19it/s, Loss=1.1035, Acc=0.6354]\n"
     ]
    },
    {
     "name": "stdout",
     "output_type": "stream",
     "text": [
      "✅ Validation completed in 3.76s\n",
      "\n",
      "📊 Epoch 2 Summary:\n",
      "│ Train Loss: 0.1252 | Train Acc: 0.9546\n",
      "│ Val Loss:   1.1035 | Val Acc:   0.6354\n",
      "│ Train Time: 30.24s | Val Time: 3.76s\n",
      "│ Total Epoch Time: 34.01s\n",
      "│ Best Val Loss: 0.5612 (Epoch 1)\n",
      "│ GPU Memory: 0.5GB / 3.9GB\n",
      "================================================================================\n",
      "\n",
      "📈 Epoch 3/50\n",
      "--------------------------------------------------\n",
      "🔄 Training Phase...\n"
     ]
    },
    {
     "name": "stderr",
     "output_type": "stream",
     "text": [
      "Training: 100%|██████████████████████████████| 48/48 [00:30<00:00,  1.55it/s, Loss=0.0397, Acc=0.9868]\n"
     ]
    },
    {
     "name": "stdout",
     "output_type": "stream",
     "text": [
      "✅ Training completed in 30.94s\n",
      "🔍 Validation Phase...\n"
     ]
    },
    {
     "name": "stderr",
     "output_type": "stream",
     "text": [
      "Validation: 100%|██████████████████████████████| 12/12 [00:03<00:00,  3.15it/s, Loss=1.3532, Acc=0.7344]\n"
     ]
    },
    {
     "name": "stdout",
     "output_type": "stream",
     "text": [
      "✅ Validation completed in 3.81s\n",
      "\n",
      "📊 Epoch 3 Summary:\n",
      "│ Train Loss: 0.0397 | Train Acc: 0.9868\n",
      "│ Val Loss:   1.3532 | Val Acc:   0.7344\n",
      "│ Train Time: 30.94s | Val Time: 3.81s\n",
      "│ Total Epoch Time: 34.76s\n",
      "│ Best Val Loss: 0.5612 (Epoch 1)\n",
      "│ GPU Memory: 0.5GB / 3.9GB\n",
      "================================================================================\n",
      "\n",
      "📈 Epoch 4/50\n",
      "--------------------------------------------------\n",
      "🔄 Training Phase...\n"
     ]
    },
    {
     "name": "stderr",
     "output_type": "stream",
     "text": [
      "Training: 100%|██████████████████████████████| 48/48 [00:32<00:00,  1.46it/s, Loss=0.0199, Acc=0.9954]\n"
     ]
    },
    {
     "name": "stdout",
     "output_type": "stream",
     "text": [
      "✅ Training completed in 32.85s\n",
      "🔍 Validation Phase...\n"
     ]
    },
    {
     "name": "stderr",
     "output_type": "stream",
     "text": [
      "Validation: 100%|██████████████████████████████| 12/12 [00:03<00:00,  3.05it/s, Loss=1.3220, Acc=0.7240]\n"
     ]
    },
    {
     "name": "stdout",
     "output_type": "stream",
     "text": [
      "✅ Validation completed in 3.93s\n",
      "\n",
      "📊 Epoch 4 Summary:\n",
      "│ Train Loss: 0.0199 | Train Acc: 0.9954\n",
      "│ Val Loss:   1.3220 | Val Acc:   0.7240\n",
      "│ Train Time: 32.85s | Val Time: 3.93s\n",
      "│ Total Epoch Time: 36.78s\n",
      "│ Best Val Loss: 0.5612 (Epoch 1)\n",
      "│ GPU Memory: 0.5GB / 3.9GB\n",
      "================================================================================\n",
      "\n",
      "📈 Epoch 5/50\n",
      "--------------------------------------------------\n",
      "🔄 Training Phase...\n"
     ]
    },
    {
     "name": "stderr",
     "output_type": "stream",
     "text": [
      "Training: 100%|██████████████████████████████| 48/48 [00:33<00:00,  1.45it/s, Loss=0.0362, Acc=0.9882]\n"
     ]
    },
    {
     "name": "stdout",
     "output_type": "stream",
     "text": [
      "✅ Training completed in 33.14s\n",
      "🔍 Validation Phase...\n"
     ]
    },
    {
     "name": "stderr",
     "output_type": "stream",
     "text": [
      "Validation: 100%|██████████████████████████████| 12/12 [00:03<00:00,  3.14it/s, Loss=1.9467, Acc=0.6875]\n"
     ]
    },
    {
     "name": "stdout",
     "output_type": "stream",
     "text": [
      "✅ Validation completed in 3.82s\n",
      "\n",
      "📊 Epoch 5 Summary:\n",
      "│ Train Loss: 0.0362 | Train Acc: 0.9882\n",
      "│ Val Loss:   1.9467 | Val Acc:   0.6875\n",
      "│ Train Time: 33.14s | Val Time: 3.82s\n",
      "│ Total Epoch Time: 36.96s\n",
      "│ Best Val Loss: 0.5612 (Epoch 1)\n",
      "│ GPU Memory: 0.5GB / 3.9GB\n",
      "================================================================================\n",
      "\n",
      "📈 Epoch 6/50\n",
      "--------------------------------------------------\n",
      "🔄 Training Phase...\n"
     ]
    },
    {
     "name": "stderr",
     "output_type": "stream",
     "text": [
      "Training: 100%|██████████████████████████████| 48/48 [00:32<00:00,  1.47it/s, Loss=0.0351, Acc=0.9875]\n"
     ]
    },
    {
     "name": "stdout",
     "output_type": "stream",
     "text": [
      "✅ Training completed in 32.63s\n",
      "🔍 Validation Phase...\n"
     ]
    },
    {
     "name": "stderr",
     "output_type": "stream",
     "text": [
      "Validation: 100%|██████████████████████████████| 12/12 [00:03<00:00,  3.15it/s, Loss=1.6581, Acc=0.6953]\n"
     ]
    },
    {
     "name": "stdout",
     "output_type": "stream",
     "text": [
      "✅ Validation completed in 3.82s\n",
      "\n",
      "📊 Epoch 6 Summary:\n",
      "│ Train Loss: 0.0351 | Train Acc: 0.9875\n",
      "│ Val Loss:   1.6581 | Val Acc:   0.6953\n",
      "│ Train Time: 32.63s | Val Time: 3.82s\n",
      "│ Total Epoch Time: 36.45s\n",
      "│ Best Val Loss: 0.5612 (Epoch 1)\n",
      "│ GPU Memory: 0.5GB / 3.9GB\n",
      "================================================================================\n",
      "\n",
      "📈 Epoch 7/50\n",
      "--------------------------------------------------\n",
      "🔄 Training Phase...\n"
     ]
    },
    {
     "name": "stderr",
     "output_type": "stream",
     "text": [
      "Training: 100%|██████████████████████████████| 48/48 [00:32<00:00,  1.46it/s, Loss=0.0092, Acc=0.9967]\n"
     ]
    },
    {
     "name": "stdout",
     "output_type": "stream",
     "text": [
      "✅ Training completed in 32.88s\n",
      "🔍 Validation Phase...\n"
     ]
    },
    {
     "name": "stderr",
     "output_type": "stream",
     "text": [
      "Validation: 100%|██████████████████████████████| 12/12 [00:03<00:00,  3.06it/s, Loss=1.5724, Acc=0.7161]\n"
     ]
    },
    {
     "name": "stdout",
     "output_type": "stream",
     "text": [
      "✅ Validation completed in 3.93s\n",
      "\n",
      "📊 Epoch 7 Summary:\n",
      "│ Train Loss: 0.0092 | Train Acc: 0.9967\n",
      "│ Val Loss:   1.5724 | Val Acc:   0.7161\n",
      "│ Train Time: 32.88s | Val Time: 3.93s\n",
      "│ Total Epoch Time: 36.81s\n",
      "│ Best Val Loss: 0.5612 (Epoch 1)\n",
      "│ GPU Memory: 0.5GB / 3.9GB\n",
      "================================================================================\n",
      "\n",
      "📈 Epoch 8/50\n",
      "--------------------------------------------------\n",
      "🔄 Training Phase...\n"
     ]
    },
    {
     "name": "stderr",
     "output_type": "stream",
     "text": [
      "Training: 100%|██████████████████████████████| 48/48 [00:32<00:00,  1.48it/s, Loss=0.0241, Acc=0.9934]\n"
     ]
    },
    {
     "name": "stdout",
     "output_type": "stream",
     "text": [
      "✅ Training completed in 32.53s\n",
      "🔍 Validation Phase...\n"
     ]
    },
    {
     "name": "stderr",
     "output_type": "stream",
     "text": [
      "Validation: 100%|██████████████████████████████| 12/12 [00:03<00:00,  3.11it/s, Loss=1.6188, Acc=0.6667]\n"
     ]
    },
    {
     "name": "stdout",
     "output_type": "stream",
     "text": [
      "✅ Validation completed in 3.87s\n",
      "\n",
      "📊 Epoch 8 Summary:\n",
      "│ Train Loss: 0.0241 | Train Acc: 0.9934\n",
      "│ Val Loss:   1.6188 | Val Acc:   0.6667\n",
      "│ Train Time: 32.53s | Val Time: 3.87s\n",
      "│ Total Epoch Time: 36.40s\n",
      "│ Best Val Loss: 0.5612 (Epoch 1)\n",
      "│ GPU Memory: 0.5GB / 3.9GB\n",
      "================================================================================\n",
      "\n",
      "📈 Epoch 9/50\n",
      "--------------------------------------------------\n",
      "🔄 Training Phase...\n"
     ]
    },
    {
     "name": "stderr",
     "output_type": "stream",
     "text": [
      "Training: 100%|██████████████████████████████| 48/48 [00:32<00:00,  1.46it/s, Loss=0.0071, Acc=0.9987]\n"
     ]
    },
    {
     "name": "stdout",
     "output_type": "stream",
     "text": [
      "✅ Training completed in 32.99s\n",
      "🔍 Validation Phase...\n"
     ]
    },
    {
     "name": "stderr",
     "output_type": "stream",
     "text": [
      "Validation: 100%|██████████████████████████████| 12/12 [00:03<00:00,  3.14it/s, Loss=1.5897, Acc=0.7031]\n"
     ]
    },
    {
     "name": "stdout",
     "output_type": "stream",
     "text": [
      "✅ Validation completed in 3.83s\n",
      "\n",
      "📊 Epoch 9 Summary:\n",
      "│ Train Loss: 0.0071 | Train Acc: 0.9987\n",
      "│ Val Loss:   1.5897 | Val Acc:   0.7031\n",
      "│ Train Time: 32.99s | Val Time: 3.83s\n",
      "│ Total Epoch Time: 36.82s\n",
      "│ Best Val Loss: 0.5612 (Epoch 1)\n",
      "│ GPU Memory: 0.5GB / 3.9GB\n",
      "================================================================================\n",
      "\n",
      "📈 Epoch 10/50\n",
      "--------------------------------------------------\n",
      "🔄 Training Phase...\n"
     ]
    },
    {
     "name": "stderr",
     "output_type": "stream",
     "text": [
      "Training: 100%|██████████████████████████████| 48/48 [00:32<00:00,  1.46it/s, Loss=0.0058, Acc=0.9987]\n"
     ]
    },
    {
     "name": "stdout",
     "output_type": "stream",
     "text": [
      "✅ Training completed in 32.91s\n",
      "🔍 Validation Phase...\n"
     ]
    },
    {
     "name": "stderr",
     "output_type": "stream",
     "text": [
      "Validation: 100%|██████████████████████████████| 12/12 [00:03<00:00,  3.14it/s, Loss=1.8076, Acc=0.6875]\n"
     ]
    },
    {
     "name": "stdout",
     "output_type": "stream",
     "text": [
      "✅ Validation completed in 3.83s\n",
      "\n",
      "📊 Epoch 10 Summary:\n",
      "│ Train Loss: 0.0058 | Train Acc: 0.9987\n",
      "│ Val Loss:   1.8076 | Val Acc:   0.6875\n",
      "│ Train Time: 32.91s | Val Time: 3.83s\n",
      "│ Total Epoch Time: 36.74s\n",
      "│ Best Val Loss: 0.5612 (Epoch 1)\n",
      "│ GPU Memory: 0.5GB / 3.9GB\n",
      "================================================================================\n",
      "\n",
      "📈 Epoch 11/50\n",
      "--------------------------------------------------\n",
      "🔄 Training Phase...\n"
     ]
    },
    {
     "name": "stderr",
     "output_type": "stream",
     "text": [
      "Training: 100%|██████████████████████████████| 48/48 [00:32<00:00,  1.47it/s, Loss=0.0047, Acc=0.9987]\n"
     ]
    },
    {
     "name": "stdout",
     "output_type": "stream",
     "text": [
      "✅ Training completed in 32.67s\n",
      "🔍 Validation Phase...\n"
     ]
    },
    {
     "name": "stderr",
     "output_type": "stream",
     "text": [
      "Validation: 100%|██████████████████████████████| 12/12 [00:03<00:00,  3.13it/s, Loss=1.8994, Acc=0.6719]\n"
     ]
    },
    {
     "name": "stdout",
     "output_type": "stream",
     "text": [
      "✅ Validation completed in 3.84s\n",
      "\n",
      "📊 Epoch 11 Summary:\n",
      "│ Train Loss: 0.0047 | Train Acc: 0.9987\n",
      "│ Val Loss:   1.8994 | Val Acc:   0.6719\n",
      "│ Train Time: 32.67s | Val Time: 3.84s\n",
      "│ Total Epoch Time: 36.51s\n",
      "│ Best Val Loss: 0.5612 (Epoch 1)\n",
      "│ GPU Memory: 0.5GB / 3.9GB\n",
      "================================================================================\n",
      "\n",
      "📈 Epoch 12/50\n",
      "--------------------------------------------------\n",
      "🔄 Training Phase...\n"
     ]
    },
    {
     "name": "stderr",
     "output_type": "stream",
     "text": [
      "Training: 100%|██████████████████████████████| 48/48 [00:33<00:00,  1.45it/s, Loss=0.0019, Acc=1.0000]\n"
     ]
    },
    {
     "name": "stdout",
     "output_type": "stream",
     "text": [
      "✅ Training completed in 33.12s\n",
      "🔍 Validation Phase...\n"
     ]
    },
    {
     "name": "stderr",
     "output_type": "stream",
     "text": [
      "Validation: 100%|██████████████████████████████| 12/12 [00:03<00:00,  3.15it/s, Loss=2.0973, Acc=0.6771]\n"
     ]
    },
    {
     "name": "stdout",
     "output_type": "stream",
     "text": [
      "✅ Validation completed in 3.81s\n",
      "\n",
      "📊 Epoch 12 Summary:\n",
      "│ Train Loss: 0.0019 | Train Acc: 1.0000\n",
      "│ Val Loss:   2.0973 | Val Acc:   0.6771\n",
      "│ Train Time: 33.12s | Val Time: 3.81s\n",
      "│ Total Epoch Time: 36.94s\n",
      "│ Best Val Loss: 0.5612 (Epoch 1)\n",
      "│ GPU Memory: 0.5GB / 3.9GB\n",
      "================================================================================\n",
      "\n",
      "📈 Epoch 13/50\n",
      "--------------------------------------------------\n",
      "🔄 Training Phase...\n"
     ]
    },
    {
     "name": "stderr",
     "output_type": "stream",
     "text": [
      "Training: 100%|██████████████████████████████| 48/48 [00:32<00:00,  1.46it/s, Loss=0.0018, Acc=1.0000]\n"
     ]
    },
    {
     "name": "stdout",
     "output_type": "stream",
     "text": [
      "✅ Training completed in 32.91s\n",
      "🔍 Validation Phase...\n"
     ]
    },
    {
     "name": "stderr",
     "output_type": "stream",
     "text": [
      "Validation: 100%|██████████████████████████████| 12/12 [00:03<00:00,  3.06it/s, Loss=2.1263, Acc=0.6745]\n"
     ]
    },
    {
     "name": "stdout",
     "output_type": "stream",
     "text": [
      "✅ Validation completed in 3.93s\n",
      "\n",
      "📊 Epoch 13 Summary:\n",
      "│ Train Loss: 0.0018 | Train Acc: 1.0000\n",
      "│ Val Loss:   2.1263 | Val Acc:   0.6745\n",
      "│ Train Time: 32.91s | Val Time: 3.93s\n",
      "│ Total Epoch Time: 36.84s\n",
      "│ Best Val Loss: 0.5612 (Epoch 1)\n",
      "│ GPU Memory: 0.5GB / 3.9GB\n",
      "================================================================================\n",
      "\n",
      "📈 Epoch 14/50\n",
      "--------------------------------------------------\n",
      "🔄 Training Phase...\n"
     ]
    },
    {
     "name": "stderr",
     "output_type": "stream",
     "text": [
      "Training: 100%|██████████████████████████████| 48/48 [00:32<00:00,  1.46it/s, Loss=0.0014, Acc=1.0000]\n"
     ]
    },
    {
     "name": "stdout",
     "output_type": "stream",
     "text": [
      "✅ Training completed in 32.85s\n",
      "🔍 Validation Phase...\n"
     ]
    },
    {
     "name": "stderr",
     "output_type": "stream",
     "text": [
      "Validation: 100%|██████████████████████████████| 12/12 [00:03<00:00,  3.16it/s, Loss=2.0929, Acc=0.6953]\n"
     ]
    },
    {
     "name": "stdout",
     "output_type": "stream",
     "text": [
      "✅ Validation completed in 3.80s\n",
      "\n",
      "📊 Epoch 14 Summary:\n",
      "│ Train Loss: 0.0014 | Train Acc: 1.0000\n",
      "│ Val Loss:   2.0929 | Val Acc:   0.6953\n",
      "│ Train Time: 32.85s | Val Time: 3.80s\n",
      "│ Total Epoch Time: 36.66s\n",
      "│ Best Val Loss: 0.5612 (Epoch 1)\n",
      "│ GPU Memory: 0.5GB / 3.9GB\n",
      "================================================================================\n",
      "\n",
      "📈 Epoch 15/50\n",
      "--------------------------------------------------\n",
      "🔄 Training Phase...\n"
     ]
    },
    {
     "name": "stderr",
     "output_type": "stream",
     "text": [
      "Training: 100%|██████████████████████████████| 48/48 [00:32<00:00,  1.46it/s, Loss=0.0171, Acc=0.9947]\n"
     ]
    },
    {
     "name": "stdout",
     "output_type": "stream",
     "text": [
      "✅ Training completed in 32.87s\n",
      "🔍 Validation Phase...\n"
     ]
    },
    {
     "name": "stderr",
     "output_type": "stream",
     "text": [
      "Validation: 100%|██████████████████████████████| 12/12 [00:03<00:00,  3.12it/s, Loss=1.9146, Acc=0.7109]\n"
     ]
    },
    {
     "name": "stdout",
     "output_type": "stream",
     "text": [
      "✅ Validation completed in 3.84s\n",
      "\n",
      "📊 Epoch 15 Summary:\n",
      "│ Train Loss: 0.0171 | Train Acc: 0.9947\n",
      "│ Val Loss:   1.9146 | Val Acc:   0.7109\n",
      "│ Train Time: 32.87s | Val Time: 3.84s\n",
      "│ Total Epoch Time: 36.72s\n",
      "│ Best Val Loss: 0.5612 (Epoch 1)\n",
      "│ GPU Memory: 0.5GB / 3.9GB\n",
      "================================================================================\n",
      "\n",
      "📈 Epoch 16/50\n",
      "--------------------------------------------------\n",
      "🔄 Training Phase...\n"
     ]
    },
    {
     "name": "stderr",
     "output_type": "stream",
     "text": [
      "Training: 100%|██████████████████████████████| 48/48 [00:32<00:00,  1.47it/s, Loss=0.0599, Acc=0.9789]\n"
     ]
    },
    {
     "name": "stdout",
     "output_type": "stream",
     "text": [
      "✅ Training completed in 32.69s\n",
      "🔍 Validation Phase...\n"
     ]
    },
    {
     "name": "stderr",
     "output_type": "stream",
     "text": [
      "Validation: 100%|██████████████████████████████| 12/12 [00:03<00:00,  3.08it/s, Loss=1.2875, Acc=0.7760]\n"
     ]
    },
    {
     "name": "stdout",
     "output_type": "stream",
     "text": [
      "✅ Validation completed in 3.90s\n",
      "\n",
      "📊 Epoch 16 Summary:\n",
      "│ Train Loss: 0.0599 | Train Acc: 0.9789\n",
      "│ Val Loss:   1.2875 | Val Acc:   0.7760\n",
      "│ Train Time: 32.69s | Val Time: 3.90s\n",
      "│ Total Epoch Time: 36.60s\n",
      "│ Best Val Loss: 0.5612 (Epoch 1)\n",
      "│ GPU Memory: 0.5GB / 3.9GB\n",
      "================================================================================\n",
      "\n",
      "📈 Epoch 17/50\n",
      "--------------------------------------------------\n",
      "🔄 Training Phase...\n"
     ]
    },
    {
     "name": "stderr",
     "output_type": "stream",
     "text": [
      "Training: 100%|██████████████████████████████| 48/48 [00:32<00:00,  1.47it/s, Loss=0.0233, Acc=0.9928]\n"
     ]
    },
    {
     "name": "stdout",
     "output_type": "stream",
     "text": [
      "✅ Training completed in 32.65s\n",
      "🔍 Validation Phase...\n"
     ]
    },
    {
     "name": "stderr",
     "output_type": "stream",
     "text": [
      "Validation: 100%|██████████████████████████████| 12/12 [00:03<00:00,  3.08it/s, Loss=1.1460, Acc=0.7266]\n"
     ]
    },
    {
     "name": "stdout",
     "output_type": "stream",
     "text": [
      "✅ Validation completed in 3.89s\n",
      "\n",
      "📊 Epoch 17 Summary:\n",
      "│ Train Loss: 0.0233 | Train Acc: 0.9928\n",
      "│ Val Loss:   1.1460 | Val Acc:   0.7266\n",
      "│ Train Time: 32.65s | Val Time: 3.89s\n",
      "│ Total Epoch Time: 36.54s\n",
      "│ Best Val Loss: 0.5612 (Epoch 1)\n",
      "│ GPU Memory: 0.5GB / 3.9GB\n",
      "================================================================================\n",
      "\n",
      "📈 Epoch 18/50\n",
      "--------------------------------------------------\n",
      "🔄 Training Phase...\n"
     ]
    },
    {
     "name": "stderr",
     "output_type": "stream",
     "text": [
      "Training: 100%|██████████████████████████████| 48/48 [00:32<00:00,  1.47it/s, Loss=0.0120, Acc=0.9967]\n"
     ]
    },
    {
     "name": "stdout",
     "output_type": "stream",
     "text": [
      "✅ Training completed in 32.66s\n",
      "🔍 Validation Phase...\n"
     ]
    },
    {
     "name": "stderr",
     "output_type": "stream",
     "text": [
      "Validation: 100%|██████████████████████████████| 12/12 [00:03<00:00,  3.02it/s, Loss=1.3545, Acc=0.7552]\n"
     ]
    },
    {
     "name": "stdout",
     "output_type": "stream",
     "text": [
      "✅ Validation completed in 3.97s\n",
      "\n",
      "📊 Epoch 18 Summary:\n",
      "│ Train Loss: 0.0120 | Train Acc: 0.9967\n",
      "│ Val Loss:   1.3545 | Val Acc:   0.7552\n",
      "│ Train Time: 32.66s | Val Time: 3.97s\n",
      "│ Total Epoch Time: 36.64s\n",
      "│ Best Val Loss: 0.5612 (Epoch 1)\n",
      "│ GPU Memory: 0.5GB / 3.9GB\n",
      "================================================================================\n",
      "\n",
      "📈 Epoch 19/50\n",
      "--------------------------------------------------\n",
      "🔄 Training Phase...\n"
     ]
    },
    {
     "name": "stderr",
     "output_type": "stream",
     "text": [
      "Training: 100%|██████████████████████████████| 48/48 [00:32<00:00,  1.46it/s, Loss=0.0015, Acc=1.0000]\n"
     ]
    },
    {
     "name": "stdout",
     "output_type": "stream",
     "text": [
      "✅ Training completed in 32.91s\n",
      "🔍 Validation Phase...\n"
     ]
    },
    {
     "name": "stderr",
     "output_type": "stream",
     "text": [
      "Validation: 100%|██████████████████████████████| 12/12 [00:03<00:00,  3.13it/s, Loss=1.5828, Acc=0.7057]\n"
     ]
    },
    {
     "name": "stdout",
     "output_type": "stream",
     "text": [
      "✅ Validation completed in 3.84s\n",
      "\n",
      "📊 Epoch 19 Summary:\n",
      "│ Train Loss: 0.0015 | Train Acc: 1.0000\n",
      "│ Val Loss:   1.5828 | Val Acc:   0.7057\n",
      "│ Train Time: 32.91s | Val Time: 3.84s\n",
      "│ Total Epoch Time: 36.75s\n",
      "│ Best Val Loss: 0.5612 (Epoch 1)\n",
      "│ GPU Memory: 0.5GB / 3.9GB\n",
      "================================================================================\n",
      "\n",
      "📈 Epoch 20/50\n",
      "--------------------------------------------------\n",
      "🔄 Training Phase...\n"
     ]
    },
    {
     "name": "stderr",
     "output_type": "stream",
     "text": [
      "Training: 100%|██████████████████████████████| 48/48 [00:32<00:00,  1.46it/s, Loss=0.0008, Acc=1.0000]\n"
     ]
    },
    {
     "name": "stdout",
     "output_type": "stream",
     "text": [
      "✅ Training completed in 32.77s\n",
      "🔍 Validation Phase...\n"
     ]
    },
    {
     "name": "stderr",
     "output_type": "stream",
     "text": [
      "Validation: 100%|██████████████████████████████| 12/12 [00:03<00:00,  3.09it/s, Loss=1.6606, Acc=0.7240]\n"
     ]
    },
    {
     "name": "stdout",
     "output_type": "stream",
     "text": [
      "✅ Validation completed in 3.89s\n",
      "\n",
      "📊 Epoch 20 Summary:\n",
      "│ Train Loss: 0.0008 | Train Acc: 1.0000\n",
      "│ Val Loss:   1.6606 | Val Acc:   0.7240\n",
      "│ Train Time: 32.77s | Val Time: 3.89s\n",
      "│ Total Epoch Time: 36.67s\n",
      "│ Best Val Loss: 0.5612 (Epoch 1)\n",
      "│ GPU Memory: 0.5GB / 3.9GB\n",
      "================================================================================\n",
      "\n",
      "📈 Epoch 21/50\n",
      "--------------------------------------------------\n",
      "🔄 Training Phase...\n"
     ]
    },
    {
     "name": "stderr",
     "output_type": "stream",
     "text": [
      "Training: 100%|██████████████████████████████| 48/48 [00:32<00:00,  1.47it/s, Loss=0.0022, Acc=0.9993]\n"
     ]
    },
    {
     "name": "stdout",
     "output_type": "stream",
     "text": [
      "✅ Training completed in 32.63s\n",
      "🔍 Validation Phase...\n"
     ]
    },
    {
     "name": "stderr",
     "output_type": "stream",
     "text": [
      "Validation: 100%|██████████████████████████████| 12/12 [00:03<00:00,  3.14it/s, Loss=1.7013, Acc=0.7161]\n"
     ]
    },
    {
     "name": "stdout",
     "output_type": "stream",
     "text": [
      "✅ Validation completed in 3.83s\n",
      "\n",
      "📊 Epoch 21 Summary:\n",
      "│ Train Loss: 0.0022 | Train Acc: 0.9993\n",
      "│ Val Loss:   1.7013 | Val Acc:   0.7161\n",
      "│ Train Time: 32.63s | Val Time: 3.83s\n",
      "│ Total Epoch Time: 36.46s\n",
      "│ Best Val Loss: 0.5612 (Epoch 1)\n",
      "│ GPU Memory: 0.5GB / 3.9GB\n",
      "================================================================================\n",
      "\n",
      "📈 Epoch 22/50\n",
      "--------------------------------------------------\n",
      "🔄 Training Phase...\n"
     ]
    },
    {
     "name": "stderr",
     "output_type": "stream",
     "text": [
      "Training: 100%|██████████████████████████████| 48/48 [00:32<00:00,  1.46it/s, Loss=0.0017, Acc=0.9993]\n"
     ]
    },
    {
     "name": "stdout",
     "output_type": "stream",
     "text": [
      "✅ Training completed in 32.89s\n",
      "🔍 Validation Phase...\n"
     ]
    },
    {
     "name": "stderr",
     "output_type": "stream",
     "text": [
      "Validation: 100%|██████████████████████████████| 12/12 [00:03<00:00,  3.10it/s, Loss=1.9011, Acc=0.7083]\n"
     ]
    },
    {
     "name": "stdout",
     "output_type": "stream",
     "text": [
      "✅ Validation completed in 3.88s\n",
      "\n",
      "📊 Epoch 22 Summary:\n",
      "│ Train Loss: 0.0017 | Train Acc: 0.9993\n",
      "│ Val Loss:   1.9011 | Val Acc:   0.7083\n",
      "│ Train Time: 32.89s | Val Time: 3.88s\n",
      "│ Total Epoch Time: 36.77s\n",
      "│ Best Val Loss: 0.5612 (Epoch 1)\n",
      "│ GPU Memory: 0.5GB / 3.9GB\n",
      "================================================================================\n",
      "\n",
      "📈 Epoch 23/50\n",
      "--------------------------------------------------\n",
      "🔄 Training Phase...\n"
     ]
    },
    {
     "name": "stderr",
     "output_type": "stream",
     "text": [
      "Training: 100%|██████████████████████████████| 48/48 [00:32<00:00,  1.46it/s, Loss=0.0013, Acc=0.9993]\n"
     ]
    },
    {
     "name": "stdout",
     "output_type": "stream",
     "text": [
      "✅ Training completed in 32.97s\n",
      "🔍 Validation Phase...\n"
     ]
    },
    {
     "name": "stderr",
     "output_type": "stream",
     "text": [
      "Validation: 100%|██████████████████████████████| 12/12 [00:03<00:00,  3.07it/s, Loss=1.8759, Acc=0.7266]\n"
     ]
    },
    {
     "name": "stdout",
     "output_type": "stream",
     "text": [
      "✅ Validation completed in 3.91s\n",
      "\n",
      "📊 Epoch 23 Summary:\n",
      "│ Train Loss: 0.0013 | Train Acc: 0.9993\n",
      "│ Val Loss:   1.8759 | Val Acc:   0.7266\n",
      "│ Train Time: 32.97s | Val Time: 3.91s\n",
      "│ Total Epoch Time: 36.88s\n",
      "│ Best Val Loss: 0.5612 (Epoch 1)\n",
      "│ GPU Memory: 0.5GB / 3.9GB\n",
      "================================================================================\n",
      "\n",
      "📈 Epoch 24/50\n",
      "--------------------------------------------------\n",
      "🔄 Training Phase...\n"
     ]
    },
    {
     "name": "stderr",
     "output_type": "stream",
     "text": [
      "Training: 100%|██████████████████████████████| 48/48 [00:32<00:00,  1.47it/s, Loss=0.0113, Acc=0.9987]\n"
     ]
    },
    {
     "name": "stdout",
     "output_type": "stream",
     "text": [
      "✅ Training completed in 32.76s\n",
      "🔍 Validation Phase...\n"
     ]
    },
    {
     "name": "stderr",
     "output_type": "stream",
     "text": [
      "Validation: 100%|██████████████████████████████| 12/12 [00:03<00:00,  3.08it/s, Loss=2.0909, Acc=0.7344]\n"
     ]
    },
    {
     "name": "stdout",
     "output_type": "stream",
     "text": [
      "✅ Validation completed in 3.89s\n",
      "\n",
      "📊 Epoch 24 Summary:\n",
      "│ Train Loss: 0.0113 | Train Acc: 0.9987\n",
      "│ Val Loss:   2.0909 | Val Acc:   0.7344\n",
      "│ Train Time: 32.76s | Val Time: 3.89s\n",
      "│ Total Epoch Time: 36.65s\n",
      "│ Best Val Loss: 0.5612 (Epoch 1)\n",
      "│ GPU Memory: 0.5GB / 3.9GB\n",
      "================================================================================\n",
      "\n",
      "📈 Epoch 25/50\n",
      "--------------------------------------------------\n",
      "🔄 Training Phase...\n"
     ]
    },
    {
     "name": "stderr",
     "output_type": "stream",
     "text": [
      "Training: 100%|██████████████████████████████| 48/48 [00:32<00:00,  1.47it/s, Loss=0.0375, Acc=0.9875]\n"
     ]
    },
    {
     "name": "stdout",
     "output_type": "stream",
     "text": [
      "✅ Training completed in 32.63s\n",
      "🔍 Validation Phase...\n"
     ]
    },
    {
     "name": "stderr",
     "output_type": "stream",
     "text": [
      "Validation: 100%|██████████████████████████████| 12/12 [00:03<00:00,  3.11it/s, Loss=0.9705, Acc=0.7344]\n"
     ]
    },
    {
     "name": "stdout",
     "output_type": "stream",
     "text": [
      "✅ Validation completed in 3.86s\n",
      "\n",
      "📊 Epoch 25 Summary:\n",
      "│ Train Loss: 0.0375 | Train Acc: 0.9875\n",
      "│ Val Loss:   0.9705 | Val Acc:   0.7344\n",
      "│ Train Time: 32.63s | Val Time: 3.86s\n",
      "│ Total Epoch Time: 36.50s\n",
      "│ Best Val Loss: 0.5612 (Epoch 1)\n",
      "│ GPU Memory: 0.5GB / 3.9GB\n",
      "================================================================================\n",
      "\n",
      "📈 Epoch 26/50\n",
      "--------------------------------------------------\n",
      "🔄 Training Phase...\n"
     ]
    },
    {
     "name": "stderr",
     "output_type": "stream",
     "text": [
      "Training: 100%|██████████████████████████████| 48/48 [00:32<00:00,  1.46it/s, Loss=0.0188, Acc=0.9941]\n"
     ]
    },
    {
     "name": "stdout",
     "output_type": "stream",
     "text": [
      "✅ Training completed in 32.83s\n",
      "🔍 Validation Phase...\n"
     ]
    },
    {
     "name": "stderr",
     "output_type": "stream",
     "text": [
      "Validation: 100%|██████████████████████████████| 12/12 [00:03<00:00,  3.11it/s, Loss=1.5406, Acc=0.7448]\n"
     ]
    },
    {
     "name": "stdout",
     "output_type": "stream",
     "text": [
      "✅ Validation completed in 3.86s\n",
      "\n",
      "📊 Epoch 26 Summary:\n",
      "│ Train Loss: 0.0188 | Train Acc: 0.9941\n",
      "│ Val Loss:   1.5406 | Val Acc:   0.7448\n",
      "│ Train Time: 32.83s | Val Time: 3.86s\n",
      "│ Total Epoch Time: 36.69s\n",
      "│ Best Val Loss: 0.5612 (Epoch 1)\n",
      "│ GPU Memory: 0.5GB / 3.9GB\n",
      "================================================================================\n",
      "\n",
      "📈 Epoch 27/50\n",
      "--------------------------------------------------\n",
      "🔄 Training Phase...\n"
     ]
    },
    {
     "name": "stderr",
     "output_type": "stream",
     "text": [
      "Training: 100%|██████████████████████████████| 48/48 [00:32<00:00,  1.46it/s, Loss=0.0144, Acc=0.9928]\n"
     ]
    },
    {
     "name": "stdout",
     "output_type": "stream",
     "text": [
      "✅ Training completed in 32.90s\n",
      "🔍 Validation Phase...\n"
     ]
    },
    {
     "name": "stderr",
     "output_type": "stream",
     "text": [
      "Validation: 100%|██████████████████████████████| 12/12 [00:03<00:00,  3.09it/s, Loss=1.2564, Acc=0.7344]\n"
     ]
    },
    {
     "name": "stdout",
     "output_type": "stream",
     "text": [
      "✅ Validation completed in 3.89s\n",
      "\n",
      "📊 Epoch 27 Summary:\n",
      "│ Train Loss: 0.0144 | Train Acc: 0.9928\n",
      "│ Val Loss:   1.2564 | Val Acc:   0.7344\n",
      "│ Train Time: 32.90s | Val Time: 3.89s\n",
      "│ Total Epoch Time: 36.79s\n",
      "│ Best Val Loss: 0.5612 (Epoch 1)\n",
      "│ GPU Memory: 0.5GB / 3.9GB\n",
      "================================================================================\n",
      "\n",
      "📈 Epoch 28/50\n",
      "--------------------------------------------------\n",
      "🔄 Training Phase...\n"
     ]
    },
    {
     "name": "stderr",
     "output_type": "stream",
     "text": [
      "Training: 100%|██████████████████████████████| 48/48 [00:32<00:00,  1.46it/s, Loss=0.0299, Acc=0.9895]\n"
     ]
    },
    {
     "name": "stdout",
     "output_type": "stream",
     "text": [
      "✅ Training completed in 32.83s\n",
      "🔍 Validation Phase...\n"
     ]
    },
    {
     "name": "stderr",
     "output_type": "stream",
     "text": [
      "Validation: 100%|██████████████████████████████| 12/12 [00:03<00:00,  3.07it/s, Loss=1.9240, Acc=0.6901]\n"
     ]
    },
    {
     "name": "stdout",
     "output_type": "stream",
     "text": [
      "✅ Validation completed in 3.91s\n",
      "\n",
      "📊 Epoch 28 Summary:\n",
      "│ Train Loss: 0.0299 | Train Acc: 0.9895\n",
      "│ Val Loss:   1.9240 | Val Acc:   0.6901\n",
      "│ Train Time: 32.83s | Val Time: 3.91s\n",
      "│ Total Epoch Time: 36.74s\n",
      "│ Best Val Loss: 0.5612 (Epoch 1)\n",
      "│ GPU Memory: 0.5GB / 3.9GB\n",
      "================================================================================\n",
      "\n",
      "📈 Epoch 29/50\n",
      "--------------------------------------------------\n",
      "🔄 Training Phase...\n"
     ]
    },
    {
     "name": "stderr",
     "output_type": "stream",
     "text": [
      "Training: 100%|██████████████████████████████| 48/48 [00:32<00:00,  1.47it/s, Loss=0.0191, Acc=0.9947]\n"
     ]
    },
    {
     "name": "stdout",
     "output_type": "stream",
     "text": [
      "✅ Training completed in 32.74s\n",
      "🔍 Validation Phase...\n"
     ]
    },
    {
     "name": "stderr",
     "output_type": "stream",
     "text": [
      "Validation: 100%|██████████████████████████████| 12/12 [00:03<00:00,  3.07it/s, Loss=2.4168, Acc=0.6693]\n"
     ]
    },
    {
     "name": "stdout",
     "output_type": "stream",
     "text": [
      "✅ Validation completed in 3.92s\n",
      "\n",
      "📊 Epoch 29 Summary:\n",
      "│ Train Loss: 0.0191 | Train Acc: 0.9947\n",
      "│ Val Loss:   2.4168 | Val Acc:   0.6693\n",
      "│ Train Time: 32.74s | Val Time: 3.92s\n",
      "│ Total Epoch Time: 36.66s\n",
      "│ Best Val Loss: 0.5612 (Epoch 1)\n",
      "│ GPU Memory: 0.5GB / 3.9GB\n",
      "================================================================================\n",
      "\n",
      "📈 Epoch 30/50\n",
      "--------------------------------------------------\n",
      "🔄 Training Phase...\n"
     ]
    },
    {
     "name": "stderr",
     "output_type": "stream",
     "text": [
      "Training: 100%|██████████████████████████████| 48/48 [00:32<00:00,  1.46it/s, Loss=0.0092, Acc=0.9993]\n"
     ]
    },
    {
     "name": "stdout",
     "output_type": "stream",
     "text": [
      "✅ Training completed in 32.96s\n",
      "🔍 Validation Phase...\n"
     ]
    },
    {
     "name": "stderr",
     "output_type": "stream",
     "text": [
      "Validation: 100%|██████████████████████████████| 12/12 [00:03<00:00,  3.18it/s, Loss=1.8173, Acc=0.6667]\n"
     ]
    },
    {
     "name": "stdout",
     "output_type": "stream",
     "text": [
      "✅ Validation completed in 3.78s\n",
      "\n",
      "📊 Epoch 30 Summary:\n",
      "│ Train Loss: 0.0092 | Train Acc: 0.9993\n",
      "│ Val Loss:   1.8173 | Val Acc:   0.6667\n",
      "│ Train Time: 32.96s | Val Time: 3.78s\n",
      "│ Total Epoch Time: 36.74s\n",
      "│ Best Val Loss: 0.5612 (Epoch 1)\n",
      "│ GPU Memory: 0.5GB / 3.9GB\n",
      "================================================================================\n",
      "\n",
      "📈 Epoch 31/50\n",
      "--------------------------------------------------\n",
      "🔄 Training Phase...\n"
     ]
    },
    {
     "name": "stderr",
     "output_type": "stream",
     "text": [
      "Training: 100%|██████████████████████████████| 48/48 [00:32<00:00,  1.48it/s, Loss=0.0037, Acc=0.9993]\n"
     ]
    },
    {
     "name": "stdout",
     "output_type": "stream",
     "text": [
      "✅ Training completed in 32.52s\n",
      "🔍 Validation Phase...\n"
     ]
    },
    {
     "name": "stderr",
     "output_type": "stream",
     "text": [
      "Validation: 100%|██████████████████████████████| 12/12 [00:03<00:00,  3.13it/s, Loss=1.8580, Acc=0.6667]\n"
     ]
    },
    {
     "name": "stdout",
     "output_type": "stream",
     "text": [
      "✅ Validation completed in 3.84s\n",
      "\n",
      "📊 Epoch 31 Summary:\n",
      "│ Train Loss: 0.0037 | Train Acc: 0.9993\n",
      "│ Val Loss:   1.8580 | Val Acc:   0.6667\n",
      "│ Train Time: 32.52s | Val Time: 3.84s\n",
      "│ Total Epoch Time: 36.37s\n",
      "│ Best Val Loss: 0.5612 (Epoch 1)\n",
      "│ GPU Memory: 0.5GB / 3.9GB\n",
      "================================================================================\n",
      "\n",
      "📈 Epoch 32/50\n",
      "--------------------------------------------------\n",
      "🔄 Training Phase...\n"
     ]
    },
    {
     "name": "stderr",
     "output_type": "stream",
     "text": [
      "Training: 100%|██████████████████████████████| 48/48 [00:32<00:00,  1.46it/s, Loss=0.0026, Acc=0.9993]\n"
     ]
    },
    {
     "name": "stdout",
     "output_type": "stream",
     "text": [
      "✅ Training completed in 32.95s\n",
      "🔍 Validation Phase...\n"
     ]
    },
    {
     "name": "stderr",
     "output_type": "stream",
     "text": [
      "Validation: 100%|██████████████████████████████| 12/12 [00:03<00:00,  3.12it/s, Loss=1.5725, Acc=0.7057]\n"
     ]
    },
    {
     "name": "stdout",
     "output_type": "stream",
     "text": [
      "✅ Validation completed in 3.85s\n",
      "\n",
      "📊 Epoch 32 Summary:\n",
      "│ Train Loss: 0.0026 | Train Acc: 0.9993\n",
      "│ Val Loss:   1.5725 | Val Acc:   0.7057\n",
      "│ Train Time: 32.95s | Val Time: 3.85s\n",
      "│ Total Epoch Time: 36.81s\n",
      "│ Best Val Loss: 0.5612 (Epoch 1)\n",
      "│ GPU Memory: 0.5GB / 3.9GB\n",
      "================================================================================\n",
      "\n",
      "📈 Epoch 33/50\n",
      "--------------------------------------------------\n",
      "🔄 Training Phase...\n"
     ]
    },
    {
     "name": "stderr",
     "output_type": "stream",
     "text": [
      "Training: 100%|██████████████████████████████| 48/48 [00:32<00:00,  1.47it/s, Loss=0.0027, Acc=0.9987]\n"
     ]
    },
    {
     "name": "stdout",
     "output_type": "stream",
     "text": [
      "✅ Training completed in 32.56s\n",
      "🔍 Validation Phase...\n"
     ]
    },
    {
     "name": "stderr",
     "output_type": "stream",
     "text": [
      "Validation: 100%|██████████████████████████████| 12/12 [00:03<00:00,  3.10it/s, Loss=2.1008, Acc=0.6562]\n"
     ]
    },
    {
     "name": "stdout",
     "output_type": "stream",
     "text": [
      "✅ Validation completed in 3.88s\n",
      "\n",
      "📊 Epoch 33 Summary:\n",
      "│ Train Loss: 0.0027 | Train Acc: 0.9987\n",
      "│ Val Loss:   2.1008 | Val Acc:   0.6562\n",
      "│ Train Time: 32.56s | Val Time: 3.88s\n",
      "│ Total Epoch Time: 36.44s\n",
      "│ Best Val Loss: 0.5612 (Epoch 1)\n",
      "│ GPU Memory: 0.5GB / 3.9GB\n",
      "================================================================================\n",
      "\n",
      "📈 Epoch 34/50\n",
      "--------------------------------------------------\n",
      "🔄 Training Phase...\n"
     ]
    },
    {
     "name": "stderr",
     "output_type": "stream",
     "text": [
      "Training: 100%|██████████████████████████████| 48/48 [00:32<00:00,  1.46it/s, Loss=0.0023, Acc=0.9993]\n"
     ]
    },
    {
     "name": "stdout",
     "output_type": "stream",
     "text": [
      "✅ Training completed in 32.82s\n",
      "🔍 Validation Phase...\n"
     ]
    },
    {
     "name": "stderr",
     "output_type": "stream",
     "text": [
      "Validation: 100%|██████████████████████████████| 12/12 [00:03<00:00,  3.13it/s, Loss=2.4610, Acc=0.6693]\n"
     ]
    },
    {
     "name": "stdout",
     "output_type": "stream",
     "text": [
      "✅ Validation completed in 3.84s\n",
      "\n",
      "📊 Epoch 34 Summary:\n",
      "│ Train Loss: 0.0023 | Train Acc: 0.9993\n",
      "│ Val Loss:   2.4610 | Val Acc:   0.6693\n",
      "│ Train Time: 32.82s | Val Time: 3.84s\n",
      "│ Total Epoch Time: 36.67s\n",
      "│ Best Val Loss: 0.5612 (Epoch 1)\n",
      "│ GPU Memory: 0.5GB / 3.9GB\n",
      "================================================================================\n",
      "\n",
      "📈 Epoch 35/50\n",
      "--------------------------------------------------\n",
      "🔄 Training Phase...\n"
     ]
    },
    {
     "name": "stderr",
     "output_type": "stream",
     "text": [
      "Training: 100%|██████████████████████████████| 48/48 [00:32<00:00,  1.46it/s, Loss=0.0108, Acc=0.9980]\n"
     ]
    },
    {
     "name": "stdout",
     "output_type": "stream",
     "text": [
      "✅ Training completed in 32.80s\n",
      "🔍 Validation Phase...\n"
     ]
    },
    {
     "name": "stderr",
     "output_type": "stream",
     "text": [
      "Validation: 100%|██████████████████████████████| 12/12 [00:03<00:00,  3.08it/s, Loss=2.0196, Acc=0.7031]\n"
     ]
    },
    {
     "name": "stdout",
     "output_type": "stream",
     "text": [
      "✅ Validation completed in 3.89s\n",
      "\n",
      "📊 Epoch 35 Summary:\n",
      "│ Train Loss: 0.0108 | Train Acc: 0.9980\n",
      "│ Val Loss:   2.0196 | Val Acc:   0.7031\n",
      "│ Train Time: 32.80s | Val Time: 3.89s\n",
      "│ Total Epoch Time: 36.69s\n",
      "│ Best Val Loss: 0.5612 (Epoch 1)\n",
      "│ GPU Memory: 0.5GB / 3.9GB\n",
      "================================================================================\n",
      "\n",
      "📈 Epoch 36/50\n",
      "--------------------------------------------------\n",
      "🔄 Training Phase...\n"
     ]
    },
    {
     "name": "stderr",
     "output_type": "stream",
     "text": [
      "Training: 100%|██████████████████████████████| 48/48 [00:32<00:00,  1.47it/s, Loss=0.0137, Acc=0.9967]\n"
     ]
    },
    {
     "name": "stdout",
     "output_type": "stream",
     "text": [
      "✅ Training completed in 32.72s\n",
      "🔍 Validation Phase...\n"
     ]
    },
    {
     "name": "stderr",
     "output_type": "stream",
     "text": [
      "Validation: 100%|██████████████████████████████| 12/12 [00:03<00:00,  3.12it/s, Loss=2.1528, Acc=0.6589]\n"
     ]
    },
    {
     "name": "stdout",
     "output_type": "stream",
     "text": [
      "✅ Validation completed in 3.85s\n",
      "\n",
      "📊 Epoch 36 Summary:\n",
      "│ Train Loss: 0.0137 | Train Acc: 0.9967\n",
      "│ Val Loss:   2.1528 | Val Acc:   0.6589\n",
      "│ Train Time: 32.72s | Val Time: 3.85s\n",
      "│ Total Epoch Time: 36.58s\n",
      "│ Best Val Loss: 0.5612 (Epoch 1)\n",
      "│ GPU Memory: 0.5GB / 3.9GB\n",
      "================================================================================\n",
      "\n",
      "📈 Epoch 37/50\n",
      "--------------------------------------------------\n",
      "🔄 Training Phase...\n"
     ]
    },
    {
     "name": "stderr",
     "output_type": "stream",
     "text": [
      "Training: 100%|██████████████████████████████| 48/48 [00:32<00:00,  1.47it/s, Loss=0.0033, Acc=0.9987]\n"
     ]
    },
    {
     "name": "stdout",
     "output_type": "stream",
     "text": [
      "✅ Training completed in 32.70s\n",
      "🔍 Validation Phase...\n"
     ]
    },
    {
     "name": "stderr",
     "output_type": "stream",
     "text": [
      "Validation: 100%|██████████████████████████████| 12/12 [00:03<00:00,  3.13it/s, Loss=2.0761, Acc=0.6953]\n"
     ]
    },
    {
     "name": "stdout",
     "output_type": "stream",
     "text": [
      "✅ Validation completed in 3.83s\n",
      "\n",
      "📊 Epoch 37 Summary:\n",
      "│ Train Loss: 0.0033 | Train Acc: 0.9987\n",
      "│ Val Loss:   2.0761 | Val Acc:   0.6953\n",
      "│ Train Time: 32.70s | Val Time: 3.83s\n",
      "│ Total Epoch Time: 36.53s\n",
      "│ Best Val Loss: 0.5612 (Epoch 1)\n",
      "│ GPU Memory: 0.5GB / 3.9GB\n",
      "================================================================================\n",
      "\n",
      "📈 Epoch 38/50\n",
      "--------------------------------------------------\n",
      "🔄 Training Phase...\n"
     ]
    },
    {
     "name": "stderr",
     "output_type": "stream",
     "text": [
      "Training: 100%|██████████████████████████████| 48/48 [00:32<00:00,  1.47it/s, Loss=0.0032, Acc=0.9987]\n"
     ]
    },
    {
     "name": "stdout",
     "output_type": "stream",
     "text": [
      "✅ Training completed in 32.77s\n",
      "🔍 Validation Phase...\n"
     ]
    },
    {
     "name": "stderr",
     "output_type": "stream",
     "text": [
      "Validation: 100%|██████████████████████████████| 12/12 [00:03<00:00,  3.10it/s, Loss=1.8183, Acc=0.6927]\n"
     ]
    },
    {
     "name": "stdout",
     "output_type": "stream",
     "text": [
      "✅ Validation completed in 3.88s\n",
      "\n",
      "📊 Epoch 38 Summary:\n",
      "│ Train Loss: 0.0032 | Train Acc: 0.9987\n",
      "│ Val Loss:   1.8183 | Val Acc:   0.6927\n",
      "│ Train Time: 32.77s | Val Time: 3.88s\n",
      "│ Total Epoch Time: 36.65s\n",
      "│ Best Val Loss: 0.5612 (Epoch 1)\n",
      "│ GPU Memory: 0.5GB / 3.9GB\n",
      "================================================================================\n",
      "\n",
      "📈 Epoch 39/50\n",
      "--------------------------------------------------\n",
      "🔄 Training Phase...\n"
     ]
    },
    {
     "name": "stderr",
     "output_type": "stream",
     "text": [
      "Training: 100%|██████████████████████████████| 48/48 [00:32<00:00,  1.48it/s, Loss=0.0099, Acc=0.9947]\n"
     ]
    },
    {
     "name": "stdout",
     "output_type": "stream",
     "text": [
      "✅ Training completed in 32.47s\n",
      "🔍 Validation Phase...\n"
     ]
    },
    {
     "name": "stderr",
     "output_type": "stream",
     "text": [
      "Validation: 100%|██████████████████████████████| 12/12 [00:03<00:00,  3.10it/s, Loss=2.7149, Acc=0.6354]\n"
     ]
    },
    {
     "name": "stdout",
     "output_type": "stream",
     "text": [
      "✅ Validation completed in 3.87s\n",
      "\n",
      "📊 Epoch 39 Summary:\n",
      "│ Train Loss: 0.0099 | Train Acc: 0.9947\n",
      "│ Val Loss:   2.7149 | Val Acc:   0.6354\n",
      "│ Train Time: 32.47s | Val Time: 3.87s\n",
      "│ Total Epoch Time: 36.34s\n",
      "│ Best Val Loss: 0.5612 (Epoch 1)\n",
      "│ GPU Memory: 0.5GB / 3.9GB\n",
      "================================================================================\n",
      "\n",
      "📈 Epoch 40/50\n",
      "--------------------------------------------------\n",
      "🔄 Training Phase...\n"
     ]
    },
    {
     "name": "stderr",
     "output_type": "stream",
     "text": [
      "Training: 100%|██████████████████████████████| 48/48 [00:32<00:00,  1.46it/s, Loss=0.0066, Acc=0.9987]\n"
     ]
    },
    {
     "name": "stdout",
     "output_type": "stream",
     "text": [
      "✅ Training completed in 32.89s\n",
      "🔍 Validation Phase...\n"
     ]
    },
    {
     "name": "stderr",
     "output_type": "stream",
     "text": [
      "Validation: 100%|██████████████████████████████| 12/12 [00:03<00:00,  3.13it/s, Loss=2.8639, Acc=0.6589]\n"
     ]
    },
    {
     "name": "stdout",
     "output_type": "stream",
     "text": [
      "✅ Validation completed in 3.84s\n",
      "\n",
      "📊 Epoch 40 Summary:\n",
      "│ Train Loss: 0.0066 | Train Acc: 0.9987\n",
      "│ Val Loss:   2.8639 | Val Acc:   0.6589\n",
      "│ Train Time: 32.89s | Val Time: 3.84s\n",
      "│ Total Epoch Time: 36.74s\n",
      "│ Best Val Loss: 0.5612 (Epoch 1)\n",
      "│ GPU Memory: 0.5GB / 3.9GB\n",
      "================================================================================\n",
      "\n",
      "📈 Epoch 41/50\n",
      "--------------------------------------------------\n",
      "🔄 Training Phase...\n"
     ]
    },
    {
     "name": "stderr",
     "output_type": "stream",
     "text": [
      "Training: 100%|██████████████████████████████| 48/48 [00:32<00:00,  1.47it/s, Loss=0.0165, Acc=0.9947]\n"
     ]
    },
    {
     "name": "stdout",
     "output_type": "stream",
     "text": [
      "✅ Training completed in 32.75s\n",
      "🔍 Validation Phase...\n"
     ]
    },
    {
     "name": "stderr",
     "output_type": "stream",
     "text": [
      "Validation: 100%|██████████████████████████████| 12/12 [00:03<00:00,  3.11it/s, Loss=1.6731, Acc=0.7370]\n"
     ]
    },
    {
     "name": "stdout",
     "output_type": "stream",
     "text": [
      "✅ Validation completed in 3.86s\n",
      "\n",
      "📊 Epoch 41 Summary:\n",
      "│ Train Loss: 0.0165 | Train Acc: 0.9947\n",
      "│ Val Loss:   1.6731 | Val Acc:   0.7370\n",
      "│ Train Time: 32.75s | Val Time: 3.86s\n",
      "│ Total Epoch Time: 36.62s\n",
      "│ Best Val Loss: 0.5612 (Epoch 1)\n",
      "│ GPU Memory: 0.5GB / 3.9GB\n",
      "================================================================================\n",
      "\n",
      "📈 Epoch 42/50\n",
      "--------------------------------------------------\n",
      "🔄 Training Phase...\n"
     ]
    },
    {
     "name": "stderr",
     "output_type": "stream",
     "text": [
      "Training: 100%|██████████████████████████████| 48/48 [00:32<00:00,  1.46it/s, Loss=0.0163, Acc=0.9947]\n"
     ]
    },
    {
     "name": "stdout",
     "output_type": "stream",
     "text": [
      "✅ Training completed in 32.79s\n",
      "🔍 Validation Phase...\n"
     ]
    },
    {
     "name": "stderr",
     "output_type": "stream",
     "text": [
      "Validation: 100%|██████████████████████████████| 12/12 [00:03<00:00,  3.07it/s, Loss=1.8353, Acc=0.7344]\n"
     ]
    },
    {
     "name": "stdout",
     "output_type": "stream",
     "text": [
      "✅ Validation completed in 3.91s\n",
      "\n",
      "📊 Epoch 42 Summary:\n",
      "│ Train Loss: 0.0163 | Train Acc: 0.9947\n",
      "│ Val Loss:   1.8353 | Val Acc:   0.7344\n",
      "│ Train Time: 32.79s | Val Time: 3.91s\n",
      "│ Total Epoch Time: 36.70s\n",
      "│ Best Val Loss: 0.5612 (Epoch 1)\n",
      "│ GPU Memory: 0.5GB / 3.9GB\n",
      "================================================================================\n",
      "\n",
      "📈 Epoch 43/50\n",
      "--------------------------------------------------\n",
      "🔄 Training Phase...\n"
     ]
    },
    {
     "name": "stderr",
     "output_type": "stream",
     "text": [
      "Training: 100%|██████████████████████████████| 48/48 [00:32<00:00,  1.46it/s, Loss=0.0078, Acc=0.9974]\n"
     ]
    },
    {
     "name": "stdout",
     "output_type": "stream",
     "text": [
      "✅ Training completed in 32.89s\n",
      "🔍 Validation Phase...\n"
     ]
    },
    {
     "name": "stderr",
     "output_type": "stream",
     "text": [
      "Validation: 100%|██████████████████████████████| 12/12 [00:03<00:00,  3.12it/s, Loss=2.0104, Acc=0.6823]\n"
     ]
    },
    {
     "name": "stdout",
     "output_type": "stream",
     "text": [
      "✅ Validation completed in 3.85s\n",
      "\n",
      "📊 Epoch 43 Summary:\n",
      "│ Train Loss: 0.0078 | Train Acc: 0.9974\n",
      "│ Val Loss:   2.0104 | Val Acc:   0.6823\n",
      "│ Train Time: 32.89s | Val Time: 3.85s\n",
      "│ Total Epoch Time: 36.74s\n",
      "│ Best Val Loss: 0.5612 (Epoch 1)\n",
      "│ GPU Memory: 0.5GB / 3.9GB\n",
      "================================================================================\n",
      "\n",
      "📈 Epoch 44/50\n",
      "--------------------------------------------------\n",
      "🔄 Training Phase...\n"
     ]
    },
    {
     "name": "stderr",
     "output_type": "stream",
     "text": [
      "Training: 100%|██████████████████████████████| 48/48 [00:32<00:00,  1.46it/s, Loss=0.0194, Acc=0.9947]\n"
     ]
    },
    {
     "name": "stdout",
     "output_type": "stream",
     "text": [
      "✅ Training completed in 32.93s\n",
      "🔍 Validation Phase...\n"
     ]
    },
    {
     "name": "stderr",
     "output_type": "stream",
     "text": [
      "Validation: 100%|██████████████████████████████| 12/12 [00:03<00:00,  3.10it/s, Loss=1.3987, Acc=0.7630]\n"
     ]
    },
    {
     "name": "stdout",
     "output_type": "stream",
     "text": [
      "✅ Validation completed in 3.88s\n",
      "\n",
      "📊 Epoch 44 Summary:\n",
      "│ Train Loss: 0.0194 | Train Acc: 0.9947\n",
      "│ Val Loss:   1.3987 | Val Acc:   0.7630\n",
      "│ Train Time: 32.93s | Val Time: 3.88s\n",
      "│ Total Epoch Time: 36.81s\n",
      "│ Best Val Loss: 0.5612 (Epoch 1)\n",
      "│ GPU Memory: 0.5GB / 3.9GB\n",
      "================================================================================\n",
      "\n",
      "📈 Epoch 45/50\n",
      "--------------------------------------------------\n",
      "🔄 Training Phase...\n"
     ]
    },
    {
     "name": "stderr",
     "output_type": "stream",
     "text": [
      "Training: 100%|██████████████████████████████| 48/48 [00:32<00:00,  1.46it/s, Loss=0.0177, Acc=0.9941]\n"
     ]
    },
    {
     "name": "stdout",
     "output_type": "stream",
     "text": [
      "✅ Training completed in 32.79s\n",
      "🔍 Validation Phase...\n"
     ]
    },
    {
     "name": "stderr",
     "output_type": "stream",
     "text": [
      "Validation: 100%|██████████████████████████████| 12/12 [00:03<00:00,  3.09it/s, Loss=1.9672, Acc=0.6979]\n"
     ]
    },
    {
     "name": "stdout",
     "output_type": "stream",
     "text": [
      "✅ Validation completed in 3.89s\n",
      "\n",
      "📊 Epoch 45 Summary:\n",
      "│ Train Loss: 0.0177 | Train Acc: 0.9941\n",
      "│ Val Loss:   1.9672 | Val Acc:   0.6979\n",
      "│ Train Time: 32.79s | Val Time: 3.89s\n",
      "│ Total Epoch Time: 36.68s\n",
      "│ Best Val Loss: 0.5612 (Epoch 1)\n",
      "│ GPU Memory: 0.5GB / 3.9GB\n",
      "================================================================================\n",
      "\n",
      "📈 Epoch 46/50\n",
      "--------------------------------------------------\n",
      "🔄 Training Phase...\n"
     ]
    },
    {
     "name": "stderr",
     "output_type": "stream",
     "text": [
      "Training: 100%|██████████████████████████████| 48/48 [00:32<00:00,  1.47it/s, Loss=0.0060, Acc=0.9980]\n"
     ]
    },
    {
     "name": "stdout",
     "output_type": "stream",
     "text": [
      "✅ Training completed in 32.70s\n",
      "🔍 Validation Phase...\n"
     ]
    },
    {
     "name": "stderr",
     "output_type": "stream",
     "text": [
      "Validation: 100%|██████████████████████████████| 12/12 [00:03<00:00,  3.10it/s, Loss=1.6285, Acc=0.7240]\n"
     ]
    },
    {
     "name": "stdout",
     "output_type": "stream",
     "text": [
      "✅ Validation completed in 3.87s\n",
      "\n",
      "📊 Epoch 46 Summary:\n",
      "│ Train Loss: 0.0060 | Train Acc: 0.9980\n",
      "│ Val Loss:   1.6285 | Val Acc:   0.7240\n",
      "│ Train Time: 32.70s | Val Time: 3.87s\n",
      "│ Total Epoch Time: 36.58s\n",
      "│ Best Val Loss: 0.5612 (Epoch 1)\n",
      "│ GPU Memory: 0.5GB / 3.9GB\n",
      "================================================================================\n",
      "\n",
      "📈 Epoch 47/50\n",
      "--------------------------------------------------\n",
      "🔄 Training Phase...\n"
     ]
    },
    {
     "name": "stderr",
     "output_type": "stream",
     "text": [
      "Training: 100%|██████████████████████████████| 48/48 [00:32<00:00,  1.47it/s, Loss=0.0022, Acc=0.9993]\n"
     ]
    },
    {
     "name": "stdout",
     "output_type": "stream",
     "text": [
      "✅ Training completed in 32.67s\n",
      "🔍 Validation Phase...\n"
     ]
    },
    {
     "name": "stderr",
     "output_type": "stream",
     "text": [
      "Validation: 100%|██████████████████████████████| 12/12 [00:03<00:00,  3.15it/s, Loss=2.2139, Acc=0.6927]\n"
     ]
    },
    {
     "name": "stdout",
     "output_type": "stream",
     "text": [
      "✅ Validation completed in 3.81s\n",
      "\n",
      "📊 Epoch 47 Summary:\n",
      "│ Train Loss: 0.0022 | Train Acc: 0.9993\n",
      "│ Val Loss:   2.2139 | Val Acc:   0.6927\n",
      "│ Train Time: 32.67s | Val Time: 3.81s\n",
      "│ Total Epoch Time: 36.49s\n",
      "│ Best Val Loss: 0.5612 (Epoch 1)\n",
      "│ GPU Memory: 0.5GB / 3.9GB\n",
      "================================================================================\n",
      "\n",
      "📈 Epoch 48/50\n",
      "--------------------------------------------------\n",
      "🔄 Training Phase...\n"
     ]
    },
    {
     "name": "stderr",
     "output_type": "stream",
     "text": [
      "Training: 100%|██████████████████████████████| 48/48 [00:32<00:00,  1.46it/s, Loss=0.0007, Acc=1.0000]\n"
     ]
    },
    {
     "name": "stdout",
     "output_type": "stream",
     "text": [
      "✅ Training completed in 32.96s\n",
      "🔍 Validation Phase...\n"
     ]
    },
    {
     "name": "stderr",
     "output_type": "stream",
     "text": [
      "Validation: 100%|██████████████████████████████| 12/12 [00:03<00:00,  3.14it/s, Loss=1.8433, Acc=0.7292]\n"
     ]
    },
    {
     "name": "stdout",
     "output_type": "stream",
     "text": [
      "✅ Validation completed in 3.83s\n",
      "\n",
      "📊 Epoch 48 Summary:\n",
      "│ Train Loss: 0.0007 | Train Acc: 1.0000\n",
      "│ Val Loss:   1.8433 | Val Acc:   0.7292\n",
      "│ Train Time: 32.96s | Val Time: 3.83s\n",
      "│ Total Epoch Time: 36.79s\n",
      "│ Best Val Loss: 0.5612 (Epoch 1)\n",
      "│ GPU Memory: 0.5GB / 3.9GB\n",
      "================================================================================\n",
      "\n",
      "📈 Epoch 49/50\n",
      "--------------------------------------------------\n",
      "🔄 Training Phase...\n"
     ]
    },
    {
     "name": "stderr",
     "output_type": "stream",
     "text": [
      "Training: 100%|██████████████████████████████| 48/48 [00:32<00:00,  1.47it/s, Loss=0.0009, Acc=0.9993]\n"
     ]
    },
    {
     "name": "stdout",
     "output_type": "stream",
     "text": [
      "✅ Training completed in 32.76s\n",
      "🔍 Validation Phase...\n"
     ]
    },
    {
     "name": "stderr",
     "output_type": "stream",
     "text": [
      "Validation: 100%|██████████████████████████████| 12/12 [00:03<00:00,  3.11it/s, Loss=1.9620, Acc=0.7135]\n"
     ]
    },
    {
     "name": "stdout",
     "output_type": "stream",
     "text": [
      "✅ Validation completed in 3.86s\n",
      "\n",
      "📊 Epoch 49 Summary:\n",
      "│ Train Loss: 0.0009 | Train Acc: 0.9993\n",
      "│ Val Loss:   1.9620 | Val Acc:   0.7135\n",
      "│ Train Time: 32.76s | Val Time: 3.86s\n",
      "│ Total Epoch Time: 36.63s\n",
      "│ Best Val Loss: 0.5612 (Epoch 1)\n",
      "│ GPU Memory: 0.5GB / 3.9GB\n",
      "================================================================================\n",
      "\n",
      "📈 Epoch 50/50\n",
      "--------------------------------------------------\n",
      "🔄 Training Phase...\n"
     ]
    },
    {
     "name": "stderr",
     "output_type": "stream",
     "text": [
      "Training: 100%|██████████████████████████████| 48/48 [00:32<00:00,  1.46it/s, Loss=0.0005, Acc=1.0000]\n"
     ]
    },
    {
     "name": "stdout",
     "output_type": "stream",
     "text": [
      "✅ Training completed in 32.79s\n",
      "🔍 Validation Phase...\n"
     ]
    },
    {
     "name": "stderr",
     "output_type": "stream",
     "text": [
      "Validation: 100%|██████████████████████████████| 12/12 [00:03<00:00,  3.14it/s, Loss=2.0300, Acc=0.7318]\n"
     ]
    },
    {
     "name": "stdout",
     "output_type": "stream",
     "text": [
      "✅ Validation completed in 3.82s\n",
      "\n",
      "📊 Epoch 50 Summary:\n",
      "│ Train Loss: 0.0005 | Train Acc: 1.0000\n",
      "│ Val Loss:   2.0300 | Val Acc:   0.7318\n",
      "│ Train Time: 32.79s | Val Time: 3.82s\n",
      "│ Total Epoch Time: 36.61s\n",
      "│ Best Val Loss: 0.5612 (Epoch 1)\n",
      "│ GPU Memory: 0.5GB / 3.9GB\n",
      "================================================================================\n",
      "\n",
      "💾 Best model saved as 'best_cricket_swin_filtered.pth'\n",
      "📊 Best model stats:\n",
      "│ Best Epoch: 1\n",
      "│ Best Val Loss: 0.5612\n",
      "│ Best Val Acc: 0.7188\n",
      "\n",
      "💾 Training history saved to 'cricket_swin_filtered_history_pretrained.csv'\n",
      "\n",
      "🎉 Swin Transformer Fine-tuning Complete!\n",
      "Total Training Time: 1840.57s (30.7 minutes)\n",
      "Average Epoch Time: 36.81s\n",
      "\n",
      "🧪 Loading Best Model for Testing...\n",
      "✅ Best model from epoch 1 loaded successfully!\n"
     ]
    },
    {
     "name": "stderr",
     "output_type": "stream",
     "text": [
      "Testing: 100%|██████████████████████████████| 16/16 [00:08<00:00,  1.84it/s]\n"
     ]
    },
    {
     "name": "stdout",
     "output_type": "stream",
     "text": [
      "✅ Testing completed in 8.68s\n",
      "\n",
      "📋 Classification Report:\n",
      "              precision    recall  f1-score   support\n",
      "\n",
      "   fast_bowl       0.79      0.87      0.83       304\n",
      "   spin_bowl       0.74      0.62      0.67       184\n",
      "\n",
      "    accuracy                           0.77       488\n",
      "   macro avg       0.76      0.74      0.75       488\n",
      "weighted avg       0.77      0.77      0.77       488\n",
      "\n",
      "🎯 Test Accuracy: 0.7725\n",
      "\n",
      "📊 Cricket Classification Performance (Swin Transformer - Filtered Data):\n",
      "│ Best Validation Loss: 0.5612 (Epoch 1)\n",
      "│ Best Validation Acc:  0.7188 (Epoch 1)\n",
      "│ Final Test Accuracy:  0.7725\n",
      "│ Val-Test Gap:         0.0538\n",
      "│ Data Filtering: Excluded 'random_occlusion' folder\n",
      "\n",
      "💾 Files saved:\n",
      "│ best_cricket_swin_filtered.pth - Best model weights\n",
      "│ cricket_swin_filtered_history.csv - Training metrics\n"
     ]
    },
    {
     "data": {
      "image/png": "[encoded data removed]",
      "text/plain": [
       "<Figure size 1000x800 with 2 Axes>"
      ]
     },
     "metadata": {},
     "output_type": "display_data"
    },
    {
     "data": {
      "image/png": "[encoded data removed]",
      "text/plain": [
       "<Figure size 1500x500 with 3 Axes>"
      ]
     },
     "metadata": {},
     "output_type": "display_data"
    },
    {
     "name": "stdout",
     "output_type": "stream",
     "text": [
      "\n",
      "⏰ Final Timing Summary:\n",
      "│ Total Training: 1840.57s (30.7 min)\n",
      "│ Average per Epoch: 36.81s\n",
      "│ Testing Time: 8.68s\n",
      "│ Total Runtime: 1849.25s\n",
      "\n",
      "🪟 Swin Transformer + Filtered Data Benefits:\n",
      "│ Clean dataset: 'random_occlusion' folder excluded\n",
      "│ Hierarchical architecture: Multi-scale feature extraction\n",
      "│ Shifted windows: Efficient computation with cross-window connections\n",
      "│ Linear complexity: O(H×W) instead of O(H²×W²)\n",
      "│ CNNs + Transformers: Best of both architectural worlds\n",
      "│ ImageNet-22k pretrained: Superior feature representations\n",
      "│ Excellent performance: Often outperforms both CNNs and ViTs\n"
     ]
    }
   ],
   "source": [
    "# -----------------------------\n",
    "# 3. Training Setup\n",
    "# -----------------------------\n",
    "criterion = nn.CrossEntropyLoss()\n",
    "optimizer = optim.Adam(model.parameters(), lr=1e-4)  # Lower LR for fine-tuning\n",
    "\n",
    "print(f\"\\n📋 Training Configuration:\")\n",
    "print(f\"│ Model: Swin Transformer Tiny (pretrained)\")\n",
    "print(f\"│ Optimizer: Adam (lr={optimizer.param_groups[0]['lr']})\")\n",
    "print(f\"│ Loss Function: CrossEntropyLoss\")\n",
    "print(f\"│ Batch Size: 32\")\n",
    "print(f\"│ Device: {device}\")\n",
    "print(f\"│ Data: Filtered (excluding '{ignore_folder}')\")\n",
    "\n",
    "# -----------------------------\n",
    "# 4. Training Loop with Model Saving\n",
    "# -----------------------------\n",
    "train_losses, val_losses = [], []\n",
    "train_accs, val_accs = [], []\n",
    "epoch_times = []\n",
    "epochs = 50\n",
    "\n",
    "# Initialize best model tracking (using val_loss for fine-tuning)\n",
    "best_val_loss = float('inf')\n",
    "best_model_state = None\n",
    "best_epoch = 0\n",
    "best_val_acc = 0.0\n",
    "\n",
    "print(f\"\\n🚀 Starting Swin Transformer Fine-tuning for {epochs} epochs...\")\n",
    "print(\"=\" * 80)\n",
    "total_start_time = time.time()\n",
    "\n",
    "for epoch in range(epochs):\n",
    "    epoch_start_time = time.time()\n",
    "    \n",
    "    print(f\"\\n📈 Epoch {epoch+1}/{epochs}\")\n",
    "    print(\"-\" * 50)\n",
    "    \n",
    "    # Training Phase\n",
    "    print(\"🔄 Training Phase...\")\n",
    "    model.train()\n",
    "    running_loss, correct, total = 0, 0, 0\n",
    "    \n",
    "    train_pbar = tqdm(train_loader, desc=\"Training\", \n",
    "                     bar_format='{l_bar}{bar:30}{r_bar}{bar:-30b}')\n",
    "    \n",
    "    train_phase_start = time.time()\n",
    "    \n",
    "    for batch_idx, (imgs, labels) in enumerate(train_pbar):\n",
    "        imgs, labels = imgs.to(device), labels.to(device)\n",
    "        \n",
    "        optimizer.zero_grad()\n",
    "        outputs = model(imgs)\n",
    "        loss = criterion(outputs, labels)\n",
    "        loss.backward()\n",
    "        optimizer.step()\n",
    "        \n",
    "        running_loss += loss.item()\n",
    "        _, preds = torch.max(outputs, 1)\n",
    "        correct += (preds == labels).sum().item()\n",
    "        total += labels.size(0)\n",
    "        \n",
    "        current_acc = correct / total\n",
    "        train_pbar.set_postfix({\n",
    "            'Loss': f'{running_loss/(batch_idx+1):.4f}',\n",
    "            'Acc': f'{current_acc:.4f}'\n",
    "        })\n",
    "        \n",
    "        if device.type == 'cuda' and batch_idx % 10 == 0:\n",
    "            gpu_memory = torch.cuda.memory_allocated() / 1024**3\n",
    "            train_pbar.set_postfix({\n",
    "                'Loss': f'{running_loss/(batch_idx+1):.4f}',\n",
    "                'Acc': f'{current_acc:.4f}',\n",
    "                'GPU': f'{gpu_memory:.1f}GB'\n",
    "            })\n",
    "    \n",
    "    train_phase_time = time.time() - train_phase_start\n",
    "    train_loss = running_loss / len(train_loader)\n",
    "    train_acc = correct / total\n",
    "    train_losses.append(train_loss)\n",
    "    train_accs.append(train_acc)\n",
    "    \n",
    "    print(f\"✅ Training completed in {train_phase_time:.2f}s\")\n",
    "    \n",
    "    # Validation Phase\n",
    "    print(\"🔍 Validation Phase...\")\n",
    "    model.eval()\n",
    "    running_loss, correct, total = 0, 0, 0\n",
    "    \n",
    "    val_phase_start = time.time()\n",
    "    val_pbar = tqdm(val_loader, desc=\"Validation\", \n",
    "                   bar_format='{l_bar}{bar:30}{r_bar}{bar:-30b}')\n",
    "    \n",
    "    with torch.no_grad():\n",
    "        for batch_idx, (imgs, labels) in enumerate(val_pbar):\n",
    "            imgs, labels = imgs.to(device), labels.to(device)\n",
    "            outputs = model(imgs)\n",
    "            loss = criterion(outputs, labels)\n",
    "            \n",
    "            running_loss += loss.item()\n",
    "            _, preds = torch.max(outputs, 1)\n",
    "            correct += (preds == labels).sum().item()\n",
    "            total += labels.size(0)\n",
    "            \n",
    "            current_acc = correct / total\n",
    "            val_pbar.set_postfix({\n",
    "                'Loss': f'{running_loss/(batch_idx+1):.4f}',\n",
    "                'Acc': f'{current_acc:.4f}'\n",
    "            })\n",
    "    \n",
    "    val_phase_time = time.time() - val_phase_start\n",
    "    val_loss = running_loss / len(val_loader)\n",
    "    val_acc = correct / total\n",
    "    val_losses.append(val_loss)\n",
    "    val_accs.append(val_acc)\n",
    "    \n",
    "    print(f\"✅ Validation completed in {val_phase_time:.2f}s\")\n",
    "    \n",
    "    # Check if this is the best model (using val_loss for fine-tuning)\n",
    "    is_best = val_loss < best_val_loss\n",
    "    if is_best:\n",
    "        best_val_loss = val_loss\n",
    "        best_val_acc = val_acc\n",
    "        best_epoch = epoch + 1\n",
    "        best_model_state = model.state_dict().copy()\n",
    "        print(f\"🌟 New best model found! Validation Loss: {val_loss:.4f}\")\n",
    "    \n",
    "    # Epoch Summary\n",
    "    epoch_time = time.time() - epoch_start_time\n",
    "    epoch_times.append(epoch_time)\n",
    "    \n",
    "    print(f\"\\n📊 Epoch {epoch+1} Summary:\")\n",
    "    print(f\"│ Train Loss: {train_loss:.4f} | Train Acc: {train_acc:.4f}\")\n",
    "    print(f\"│ Val Loss:   {val_loss:.4f} | Val Acc:   {val_acc:.4f}\")\n",
    "    print(f\"│ Train Time: {train_phase_time:.2f}s | Val Time: {val_phase_time:.2f}s\")\n",
    "    print(f\"│ Total Epoch Time: {epoch_time:.2f}s\")\n",
    "    print(f\"│ Best Val Loss: {best_val_loss:.4f} (Epoch {best_epoch})\")\n",
    "    \n",
    "    if device.type == 'cuda':\n",
    "        print(f\"│ GPU Memory: {torch.cuda.memory_allocated()/1024**3:.1f}GB / {torch.cuda.memory_reserved()/1024**3:.1f}GB\")\n",
    "    \n",
    "    print(\"=\" * 80)\n",
    "\n",
    "total_training_time = time.time() - total_start_time\n",
    "\n",
    "# Save the best model\n",
    "if best_model_state is not None:\n",
    "    torch.save(best_model_state, 'best_cricket_swin_filtered_pretrained.pth')\n",
    "    print(f\"\\n💾 Best model saved as 'best_cricket_swin_filtered.pth'\")\n",
    "    print(f\"📊 Best model stats:\")\n",
    "    print(f\"│ Best Epoch: {best_epoch}\")\n",
    "    print(f\"│ Best Val Loss: {best_val_loss:.4f}\")\n",
    "    print(f\"│ Best Val Acc: {best_val_acc:.4f}\")\n",
    "\n",
    "# Save training history\n",
    "history_data = {\n",
    "    'epoch': list(range(1, epochs+1)),\n",
    "    'train_loss': train_losses,\n",
    "    'val_loss': val_losses,\n",
    "    'train_acc': train_accs,\n",
    "    'val_acc': val_accs,\n",
    "    'epoch_time': epoch_times\n",
    "}\n",
    "\n",
    "history_df = pd.DataFrame(history_data)\n",
    "history_df.to_csv('cricket_swin_filtered_history_pretrained.csv', index=False)\n",
    "print(\"\\n💾 Training history saved to 'cricket_swin_filtered_history_pretrained.csv'\")\n",
    "\n",
    "print(f\"\\n🎉 Swin Transformer Fine-tuning Complete!\")\n",
    "print(f\"Total Training Time: {total_training_time:.2f}s ({total_training_time/60:.1f} minutes)\")\n",
    "print(f\"Average Epoch Time: {np.mean(epoch_times):.2f}s\")\n",
    "\n",
    "# -----------------------------\n",
    "# 5. Load Best Model and Test\n",
    "# -----------------------------\n",
    "print(f\"\\n🧪 Loading Best Model for Testing...\")\n",
    "if best_model_state is not None:\n",
    "    model.load_state_dict(best_model_state)\n",
    "    print(f\"✅ Best model from epoch {best_epoch} loaded successfully!\")\n",
    "\n",
    "test_start_time = time.time()\n",
    "y_true, y_pred = [], []\n",
    "model.eval()\n",
    "test_pbar = tqdm(test_loader, desc=\"Testing\", \n",
    "                bar_format='{l_bar}{bar:30}{r_bar}{bar:-30b}')\n",
    "\n",
    "with torch.no_grad():\n",
    "    for imgs, labels in test_pbar:\n",
    "        imgs, labels = imgs.to(device), labels.to(device)\n",
    "        outputs = model(imgs)\n",
    "        _, preds = torch.max(outputs, 1)\n",
    "        y_true.extend(labels.cpu().numpy())\n",
    "        y_pred.extend(preds.cpu().numpy())\n",
    "\n",
    "test_time = time.time() - test_start_time\n",
    "test_accuracy = accuracy_score(y_true, y_pred)\n",
    "\n",
    "print(f\"✅ Testing completed in {test_time:.2f}s\")\n",
    "print(\"\\n📋 Classification Report:\")\n",
    "print(classification_report(y_true, y_pred, target_names=classes))\n",
    "print(f\"🎯 Test Accuracy: {test_accuracy:.4f}\")\n",
    "\n",
    "# Performance Summary\n",
    "print(f\"\\n📊 Cricket Classification Performance (Swin Transformer - Filtered Data):\")\n",
    "print(f\"│ Best Validation Loss: {best_val_loss:.4f} (Epoch {best_epoch})\")\n",
    "print(f\"│ Best Validation Acc:  {best_val_acc:.4f} (Epoch {best_epoch})\")\n",
    "print(f\"│ Final Test Accuracy:  {test_accuracy:.4f}\")\n",
    "print(f\"│ Val-Test Gap:         {abs(best_val_acc - test_accuracy):.4f}\")\n",
    "print(f\"│ Data Filtering: Excluded '{ignore_folder}' folder\")\n",
    "\n",
    "print(f\"\\n💾 Files saved:\")\n",
    "print(f\"│ best_cricket_swin_filtered.pth - Best model weights\")\n",
    "print(f\"│ cricket_swin_filtered_history.csv - Training metrics\")\n",
    "\n",
    "# -----------------------------\n",
    "# 6. Visualizations\n",
    "# -----------------------------\n",
    "# Confusion Matrix\n",
    "cm = confusion_matrix(y_true, y_pred)\n",
    "plt.figure(figsize=(10, 8))\n",
    "sns.heatmap(cm, annot=True, fmt=\"d\", cmap=\"Blues\", \n",
    "            xticklabels=classes, yticklabels=classes)\n",
    "plt.xlabel(\"Predicted\")\n",
    "plt.ylabel(\"True\")\n",
    "plt.title(f\"Cricket Classification - Swin Transformer (Filtered Data) - Epoch {best_epoch}\")\n",
    "plt.tight_layout()\n",
    "plt.show()\n",
    "\n",
    "# Training Curves\n",
    "plt.figure(figsize=(15, 5))\n",
    "\n",
    "# Loss Plot\n",
    "plt.subplot(1, 3, 1)\n",
    "plt.plot(range(1, epochs+1), train_losses, 'b-', label=\"Train Loss\", marker='o', linewidth=2)\n",
    "plt.plot(range(1, epochs+1), val_losses, 'r-', label=\"Val Loss\", marker='s', linewidth=2)\n",
    "plt.axvline(x=best_epoch, color='green', linestyle='--', alpha=0.7, label=f'Best (Epoch {best_epoch})')\n",
    "plt.scatter([best_epoch], [best_val_loss], color='green', s=100, zorder=5)\n",
    "plt.legend()\n",
    "plt.title(\"Swin Transformer Loss over Epochs (Filtered)\")\n",
    "plt.xlabel(\"Epoch\")\n",
    "plt.ylabel(\"Loss\")\n",
    "plt.grid(True, alpha=0.3)\n",
    "\n",
    "# Accuracy Plot\n",
    "plt.subplot(1, 3, 2)\n",
    "plt.plot(range(1, epochs+1), train_accs, 'b-', label=\"Train Accuracy\", marker='o', linewidth=2)\n",
    "plt.plot(range(1, epochs+1), val_accs, 'r-', label=\"Val Accuracy\", marker='s', linewidth=2)\n",
    "plt.axvline(x=best_epoch, color='green', linestyle='--', alpha=0.7, label=f'Best (Epoch {best_epoch})')\n",
    "plt.scatter([best_epoch], [best_val_acc], color='green', s=100, zorder=5)\n",
    "plt.legend()\n",
    "plt.title(\"Swin Transformer Accuracy over Epochs (Filtered)\")\n",
    "plt.xlabel(\"Epoch\")\n",
    "plt.ylabel(\"Accuracy\")\n",
    "plt.grid(True, alpha=0.3)\n",
    "\n",
    "# Final Performance\n",
    "plt.subplot(1, 3, 3)\n",
    "metrics = ['Best Val Acc', 'Test Acc']\n",
    "values = [best_val_acc, test_accuracy]\n",
    "colors = ['orange', 'green']\n",
    "bars = plt.bar(metrics, values, color=colors, alpha=0.7)\n",
    "plt.title(\"Swin Transformer Final Performance (Filtered)\")\n",
    "plt.ylabel(\"Accuracy\")\n",
    "plt.ylim(0, 1)\n",
    "plt.grid(True, alpha=0.3)\n",
    "for bar, val in zip(bars, values):\n",
    "    plt.text(bar.get_x() + bar.get_width()/2, val + 0.01, \n",
    "             f'{val:.4f}', ha='center', va='bottom')\n",
    "\n",
    "plt.tight_layout()\n",
    "plt.show()\n",
    "\n",
    "# Final Summary\n",
    "print(f\"\\n⏰ Final Timing Summary:\")\n",
    "print(f\"│ Total Training: {total_training_time:.2f}s ({total_training_time/60:.1f} min)\")\n",
    "print(f\"│ Average per Epoch: {np.mean(epoch_times):.2f}s\")\n",
    "print(f\"│ Testing Time: {test_time:.2f}s\")\n",
    "print(f\"│ Total Runtime: {total_training_time + test_time:.2f}s\")\n",
    "\n",
    "# Model and Data Info\n",
    "print(f\"\\n🪟 Swin Transformer + Filtered Data Benefits:\")\n",
    "print(f\"│ Clean dataset: '{ignore_folder}' folder excluded\")\n",
    "print(f\"│ Hierarchical architecture: Multi-scale feature extraction\")\n",
    "print(f\"│ Shifted windows: Efficient computation with cross-window connections\")\n",
    "print(f\"│ Linear complexity: O(H×W) instead of O(H²×W²)\")\n",
    "print(f\"│ CNNs + Transformers: Best of both architectural worlds\")\n",
    "print(f\"│ ImageNet-22k pretrained: Superior feature representations\")\n",
    "print(f\"│ Excellent performance: Often outperforms both CNNs and ViTs\")"
   ]
  }
 ],
 "metadata": {
  "kaggle": {
   "accelerator": "nvidiaTeslaT4",
   "dataSources": [
    {
     "datasetId": 7735666,
     "sourceId": 12275446,
     "sourceType": "datasetVersion"
    }
   ],
   "dockerImageVersionId": 31090,
   "isGpuEnabled": true,
   "isInternetEnabled": true,
   "language": "python",
   "sourceType": "notebook"
  },
  "kernelspec": {
   "display_name": "Python 3",
   "language": "python",
   "name": "python3"
  },
  "language_info": {
   "codemirror_mode": {
    "name": "ipython",
    "version": 3
   },
   "file_extension": ".py",
   "mimetype": "text/x-python",
   "name": "python",
   "nbconvert_exporter": "python",
   "pygments_lexer": "ipython3",
   "version": "3.11.13"
  },
  "papermill": {
   "default_parameters": {},
   "duration": 1873.99653,
   "end_time": "2025-09-08T15:54:29.190244",
   "environment_variables": {},
   "exception": null,
   "input_path": "__notebook__.ipynb",
   "output_path": "__notebook__.ipynb",
   "parameters": {},
   "start_time": "2025-09-08T15:23:15.193714",
   "version": "2.6.0"
  }
 },
 "nbformat": 4,
 "nbformat_minor": 5
}
