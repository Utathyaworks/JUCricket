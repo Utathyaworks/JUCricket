{
 "cells": [
  {
   "cell_type": "code",
   "execution_count": 1,
   "id": "b50fce3e",
   "metadata": {
    "_cell_guid": "b1076dfc-b9ad-4769-8c92-a6c4dae69d19",
    "_uuid": "8f2839f25d086af736a60e9eeb907d3b93b6e0e5",
    "execution": {
     "iopub.execute_input": "2025-09-08T07:17:53.244643Z",
     "iopub.status.busy": "2025-09-08T07:17:53.244378Z",
     "iopub.status.idle": "2025-09-08T07:18:07.207754Z",
     "shell.execute_reply": "2025-09-08T07:18:07.206964Z"
    },
    "papermill": {
     "duration": 13.969025,
     "end_time": "2025-09-08T07:18:07.209194",
     "exception": false,
     "start_time": "2025-09-08T07:17:53.240169",
     "status": "completed"
    },
    "tags": []
   },
   "outputs": [
    {
     "name": "stdout",
     "output_type": "stream",
     "text": [
      "Training only on: Bowling\n",
      "Train classes: ['fast_bowl', 'spin_bowl']\n",
      "Train samples: 1710 Val samples: 432 Test samples: 549\n"
     ]
    }
   ],
   "source": [
    "import torch\n",
    "from torch.utils.data import DataLoader\n",
    "from torchvision import datasets, transforms\n",
    "\n",
    "# -----------------------------\n",
    "# 1. Data Preprocessing (Single Action Class)\n",
    "# -----------------------------\n",
    "base_dir = \"/kaggle/input/ju-cricket/Cricket_Dataset_final/Task_B\"  # base Task_B folder\n",
    "\n",
    "action_class = \"Bowling\"  # Change to \"Bowling\" / \"Fielding\" / \"Umpire\"\n",
    "\n",
    "transform = transforms.Compose([\n",
    "    transforms.Resize((224, 224)),   \n",
    "    transforms.ToTensor(),\n",
    "    transforms.Normalize([0.485, 0.456, 0.406], \n",
    "                         [0.229, 0.224, 0.225])\n",
    "])\n",
    "\n",
    "# Point ImageFolder to *only* the action class folder\n",
    "train_ds = datasets.ImageFolder(f\"{base_dir}/train/{action_class}\", transform=transform)\n",
    "val_ds   = datasets.ImageFolder(f\"{base_dir}/val/{action_class}\", transform=transform)\n",
    "test_ds  = datasets.ImageFolder(f\"{base_dir}/test/{action_class}\", transform=transform)\n",
    "\n",
    "train_loader = DataLoader(train_ds, batch_size=32, shuffle=True)\n",
    "val_loader   = DataLoader(val_ds, batch_size=32, shuffle=False)\n",
    "test_loader  = DataLoader(test_ds, batch_size=32, shuffle=False)\n",
    "\n",
    "print(f\"Training only on: {action_class}\")\n",
    "print(\"Train classes:\", train_ds.classes)\n",
    "print(\"Train samples:\", len(train_ds), \n",
    "      \"Val samples:\", len(val_ds), \n",
    "      \"Test samples:\", len(test_ds))\n"
   ]
  },
  {
   "cell_type": "code",
   "execution_count": 2,
   "id": "f1b8f7ca",
   "metadata": {
    "execution": {
     "iopub.execute_input": "2025-09-08T07:18:07.216175Z",
     "iopub.status.busy": "2025-09-08T07:18:07.215619Z",
     "iopub.status.idle": "2025-09-08T07:18:07.220836Z",
     "shell.execute_reply": "2025-09-08T07:18:07.219921Z"
    },
    "papermill": {
     "duration": 0.009865,
     "end_time": "2025-09-08T07:18:07.222121",
     "exception": false,
     "start_time": "2025-09-08T07:18:07.212256",
     "status": "completed"
    },
    "tags": []
   },
   "outputs": [
    {
     "name": "stdout",
     "output_type": "stream",
     "text": [
      "Total training images: 1710\n",
      "Total validation images: 432\n",
      "Total test images: 549\n",
      "Total images in dataset: 2691\n"
     ]
    }
   ],
   "source": [
    "print(\"Total training images:\", len(train_ds))\n",
    "print(\"Total validation images:\", len(val_ds))\n",
    "print(\"Total test images:\", len(test_ds))\n",
    "\n",
    "total_images = len(train_ds) + len(val_ds) + len(test_ds)\n",
    "print(\"Total images in dataset:\", total_images)"
   ]
  },
  {
   "cell_type": "code",
   "execution_count": 3,
   "id": "4d0b32f6",
   "metadata": {
    "execution": {
     "iopub.execute_input": "2025-09-08T07:18:07.228957Z",
     "iopub.status.busy": "2025-09-08T07:18:07.228286Z",
     "iopub.status.idle": "2025-09-08T07:18:07.236352Z",
     "shell.execute_reply": "2025-09-08T07:18:07.235640Z"
    },
    "papermill": {
     "duration": 0.012608,
     "end_time": "2025-09-08T07:18:07.237581",
     "exception": false,
     "start_time": "2025-09-08T07:18:07.224973",
     "status": "completed"
    },
    "tags": []
   },
   "outputs": [
    {
     "name": "stdout",
     "output_type": "stream",
     "text": [
      "Training images (excluding 'random_occlusion'): 1520\n",
      "Validation images (excluding 'random_occlusion'): 384\n",
      "Test images (excluding 'random_occlusion'): 488\n",
      "Total images (excluding 'random_occlusion'): 2392\n"
     ]
    }
   ],
   "source": [
    "ignore_folder = \"random_occlusion\"\n",
    "\n",
    "def count_images_ignore_folder(dataset, ignore_folder):\n",
    "    count = 0\n",
    "    for img_path, label in dataset.samples:\n",
    "        # Skip if the image path contains the ignore_folder\n",
    "        if ignore_folder not in img_path.split(\"/\"):\n",
    "            count += 1\n",
    "    return count\n",
    "\n",
    "train_count = count_images_ignore_folder(train_ds, ignore_folder)\n",
    "val_count   = count_images_ignore_folder(val_ds, ignore_folder)\n",
    "test_count  = count_images_ignore_folder(test_ds, ignore_folder)\n",
    "\n",
    "total_count = train_count + val_count + test_count\n",
    "\n",
    "print(\"Training images (excluding '{}'): {}\".format(ignore_folder, train_count))\n",
    "print(\"Validation images (excluding '{}'): {}\".format(ignore_folder, val_count))\n",
    "print(\"Test images (excluding '{}'): {}\".format(ignore_folder, test_count))\n",
    "print(\"Total images (excluding '{}'): {}\".format(ignore_folder, total_count))"
   ]
  },
  {
   "cell_type": "code",
   "execution_count": 4,
   "id": "ba39480e",
   "metadata": {
    "execution": {
     "iopub.execute_input": "2025-09-08T07:18:07.244138Z",
     "iopub.status.busy": "2025-09-08T07:18:07.243836Z",
     "iopub.status.idle": "2025-09-08T07:18:07.253358Z",
     "shell.execute_reply": "2025-09-08T07:18:07.252443Z"
    },
    "papermill": {
     "duration": 0.014339,
     "end_time": "2025-09-08T07:18:07.254652",
     "exception": false,
     "start_time": "2025-09-08T07:18:07.240313",
     "status": "completed"
    },
    "tags": []
   },
   "outputs": [
    {
     "name": "stdout",
     "output_type": "stream",
     "text": [
      "Training folders considered: {'random_occlusion', 'blur', 'lens_flare', 'dirty_lens', 'gaussian_noise', 'original', 'low_resolution', 'chromatic_aberration', 'motion_blur'}\n",
      "Validation folders considered: {'random_occlusion', 'blur', 'lens_flare', 'dirty_lens', 'gaussian_noise', 'original', 'low_resolution', 'chromatic_aberration', 'motion_blur'}\n",
      "Test folders considered: {'random_occlusion', 'blur', 'lens_flare', 'dirty_lens', 'gaussian_noise', 'original', 'low_resolution', 'chromatic_aberration', 'motion_blur'}\n"
     ]
    }
   ],
   "source": [
    "ignore_folder = \"random_occlusionw\"\n",
    "\n",
    "def get_included_folders(dataset, ignore_folder):\n",
    "    included = set()\n",
    "    for img_path, label in dataset.samples:\n",
    "        # Split the path into parts and ignore if ignore_folder is in the path\n",
    "        if ignore_folder not in img_path.split(\"/\"):\n",
    "            # The folder name just above the image (or the class folder)\n",
    "            folder_name = img_path.split(\"/\")[-2]\n",
    "            included.add(folder_name)\n",
    "    return included\n",
    "\n",
    "train_folders = get_included_folders(train_ds, ignore_folder)\n",
    "val_folders   = get_included_folders(val_ds, ignore_folder)\n",
    "test_folders  = get_included_folders(test_ds, ignore_folder)\n",
    "\n",
    "print(\"Training folders considered:\", train_folders)\n",
    "print(\"Validation folders considered:\", val_folders)\n",
    "print(\"Test folders considered:\", test_folders)"
   ]
  },
  {
   "cell_type": "code",
   "execution_count": 5,
   "id": "84d16705",
   "metadata": {
    "execution": {
     "iopub.execute_input": "2025-09-08T07:18:07.260994Z",
     "iopub.status.busy": "2025-09-08T07:18:07.260716Z",
     "iopub.status.idle": "2025-09-08T07:18:07.325822Z",
     "shell.execute_reply": "2025-09-08T07:18:07.324929Z"
    },
    "papermill": {
     "duration": 0.069873,
     "end_time": "2025-09-08T07:18:07.327368",
     "exception": false,
     "start_time": "2025-09-08T07:18:07.257495",
     "status": "completed"
    },
    "tags": []
   },
   "outputs": [
    {
     "name": "stdout",
     "output_type": "stream",
     "text": [
      "Classes: ['fast_bowl', 'spin_bowl']\n",
      "Final Training images: 1520\n",
      "Final Validation images: 384\n",
      "Final Test images: 488\n",
      "Total images after filtering: 2392\n"
     ]
    }
   ],
   "source": [
    "ignore_folder = \"random_occlusion\"\n",
    "\n",
    "def filter_samples(dataset, ignore_folder):\n",
    "    # Keep only samples where ignore_folder is NOT in the path\n",
    "    filtered_samples = [s for s in dataset.samples if ignore_folder not in s[0].split(\"/\")]\n",
    "    dataset.samples = filtered_samples\n",
    "    dataset.targets = [s[1] for s in filtered_samples]  # Update targets accordingly\n",
    "    return dataset\n",
    "\n",
    "# Create original datasets\n",
    "train_ds = datasets.ImageFolder(f\"{base_dir}/train/Bowling\", transform=transform)\n",
    "val_ds   = datasets.ImageFolder(f\"{base_dir}/val/Bowling\", transform=transform)\n",
    "test_ds  = datasets.ImageFolder(f\"{base_dir}/test/Bowling\", transform=transform)\n",
    "\n",
    "# Filter out 'random_occlusion' folder\n",
    "train_ds = filter_samples(train_ds, ignore_folder)\n",
    "val_ds   = filter_samples(val_ds, ignore_folder)\n",
    "test_ds  = filter_samples(test_ds, ignore_folder)\n",
    "\n",
    "# DataLoaders\n",
    "train_loader = DataLoader(train_ds, batch_size=32, shuffle=True)\n",
    "val_loader   = DataLoader(val_ds, batch_size=32, shuffle=False)\n",
    "test_loader  = DataLoader(test_ds, batch_size=32, shuffle=False)\n",
    "\n",
    "# Classes (will remain the same)\n",
    "classes = train_ds.classes\n",
    "print(\"Classes:\", classes)\n",
    "\n",
    "# Show counts\n",
    "print(\"Final Training images:\", len(train_ds))\n",
    "print(\"Final Validation images:\", len(val_ds))\n",
    "print(\"Final Test images:\", len(test_ds))\n",
    "print(\"Total images after filtering:\", len(train_ds) + len(val_ds) + len(test_ds))"
   ]
  },
  {
   "cell_type": "code",
   "execution_count": 6,
   "id": "6e41e5a4",
   "metadata": {
    "execution": {
     "iopub.execute_input": "2025-09-08T07:18:07.334263Z",
     "iopub.status.busy": "2025-09-08T07:18:07.334030Z",
     "iopub.status.idle": "2025-09-08T07:18:07.342441Z",
     "shell.execute_reply": "2025-09-08T07:18:07.341623Z"
    },
    "papermill": {
     "duration": 0.013112,
     "end_time": "2025-09-08T07:18:07.343602",
     "exception": false,
     "start_time": "2025-09-08T07:18:07.330490",
     "status": "completed"
    },
    "tags": []
   },
   "outputs": [
    {
     "name": "stdout",
     "output_type": "stream",
     "text": [
      "Training folders considered: {'blur', 'lens_flare', 'dirty_lens', 'gaussian_noise', 'original', 'low_resolution', 'chromatic_aberration', 'motion_blur'}\n",
      "Validation folders considered: {'blur', 'lens_flare', 'dirty_lens', 'gaussian_noise', 'original', 'low_resolution', 'chromatic_aberration', 'motion_blur'}\n",
      "Test folders considered: {'blur', 'lens_flare', 'dirty_lens', 'gaussian_noise', 'original', 'low_resolution', 'chromatic_aberration', 'motion_blur'}\n"
     ]
    }
   ],
   "source": [
    "ignore_folder = \"random_occlusion\"\n",
    "\n",
    "def get_included_folders(dataset, ignore_folder):\n",
    "    included = set()\n",
    "    for img_path, label in dataset.samples:\n",
    "        # Split the path into parts and ignore if ignore_folder is in the path\n",
    "        if ignore_folder not in img_path.split(\"/\"):\n",
    "            # The folder name just above the image (or the class folder)\n",
    "            folder_name = img_path.split(\"/\")[-2]\n",
    "            included.add(folder_name)\n",
    "    return included\n",
    "\n",
    "train_folders = get_included_folders(train_ds, ignore_folder)\n",
    "val_folders   = get_included_folders(val_ds, ignore_folder)\n",
    "test_folders  = get_included_folders(test_ds, ignore_folder)\n",
    "\n",
    "print(\"Training folders considered:\", train_folders)\n",
    "print(\"Validation folders considered:\", val_folders)\n",
    "print(\"Test folders considered:\", test_folders)"
   ]
  },
  {
   "cell_type": "code",
   "execution_count": 7,
   "id": "5a4eda3d",
   "metadata": {
    "execution": {
     "iopub.execute_input": "2025-09-08T07:18:07.350325Z",
     "iopub.status.busy": "2025-09-08T07:18:07.350100Z",
     "iopub.status.idle": "2025-09-08T07:18:11.651150Z",
     "shell.execute_reply": "2025-09-08T07:18:11.650302Z"
    },
    "papermill": {
     "duration": 4.306125,
     "end_time": "2025-09-08T07:18:11.652722",
     "exception": false,
     "start_time": "2025-09-08T07:18:07.346597",
     "status": "completed"
    },
    "tags": []
   },
   "outputs": [],
   "source": [
    "import seaborn as sns\n",
    "import numpy as np\n",
    "import time\n",
    "from tqdm import tqdm\n",
    "import torch\n",
    "import torch.nn as nn\n",
    "import torchvision.models as models"
   ]
  },
  {
   "cell_type": "code",
   "execution_count": 8,
   "id": "5d002cd5",
   "metadata": {
    "execution": {
     "iopub.execute_input": "2025-09-08T07:18:11.659932Z",
     "iopub.status.busy": "2025-09-08T07:18:11.659299Z",
     "iopub.status.idle": "2025-09-08T07:18:13.193793Z",
     "shell.execute_reply": "2025-09-08T07:18:13.193065Z"
    },
    "papermill": {
     "duration": 1.539221,
     "end_time": "2025-09-08T07:18:13.195226",
     "exception": false,
     "start_time": "2025-09-08T07:18:11.656005",
     "status": "completed"
    },
    "tags": []
   },
   "outputs": [
    {
     "name": "stdout",
     "output_type": "stream",
     "text": [
      "Using device: cuda\n",
      "🔄 Loading pretrained ResNet50 from ImageNet...\n"
     ]
    },
    {
     "name": "stderr",
     "output_type": "stream",
     "text": [
      "/usr/local/lib/python3.11/dist-packages/torchvision/models/_utils.py:208: UserWarning: The parameter 'pretrained' is deprecated since 0.13 and may be removed in the future, please use 'weights' instead.\n",
      "  warnings.warn(\n",
      "/usr/local/lib/python3.11/dist-packages/torchvision/models/_utils.py:223: UserWarning: Arguments other than a weight enum or `None` for 'weights' are deprecated since 0.13 and may be removed in the future. The current behavior is equivalent to passing `weights=ResNet50_Weights.IMAGENET1K_V1`. You can also use `weights=ResNet50_Weights.DEFAULT` to get the most up-to-date weights.\n",
      "  warnings.warn(msg)\n",
      "Downloading: \"https://download.pytorch.org/models/resnet50-0676ba61.pth\" to /root/.cache/torch/hub/checkpoints/resnet50-0676ba61.pth\n",
      "100%|██████████| 97.8M/97.8M [00:00<00:00, 193MB/s]\n"
     ]
    },
    {
     "name": "stdout",
     "output_type": "stream",
     "text": [
      "✅ Model loaded with 2 output classes\n",
      "📊 Total parameters: 23,512,130\n",
      "📊 Trainable parameters: 23,512,130\n",
      "Model summary not available\n"
     ]
    }
   ],
   "source": [
    "# -----------------------------\n",
    "# 2. Pretrained ResNet50 Model\n",
    "# -----------------------------\n",
    "device = torch.device('cuda' if torch.cuda.is_available() else 'cpu')\n",
    "print(f\"Using device: {device}\")\n",
    "\n",
    "# Load pretrained ResNet50\n",
    "print(\"🔄 Loading pretrained ResNet50 from ImageNet...\")\n",
    "model = models.resnet50(pretrained=True)\n",
    "\n",
    "# Replace final classification layer\n",
    "num_features = model.fc.in_features\n",
    "model.fc = nn.Linear(num_features, len(classes))\n",
    "model = model.to(device)\n",
    "\n",
    "print(f\"✅ Model loaded with {len(classes)} output classes\")\n",
    "print(f\"📊 Total parameters: {sum(p.numel() for p in model.parameters()):,}\")\n",
    "print(f\"📊 Trainable parameters: {sum(p.numel() for p in model.parameters() if p.requires_grad):,}\")\n",
    "\n",
    "# Model summary\n",
    "try:\n",
    "    summary(model, (3, 224, 224))\n",
    "except:\n",
    "    print(\"Model summary not available\")"
   ]
  },
  {
   "cell_type": "code",
   "execution_count": 9,
   "id": "8c9be0ab",
   "metadata": {
    "execution": {
     "iopub.execute_input": "2025-09-08T07:18:13.202980Z",
     "iopub.status.busy": "2025-09-08T07:18:13.202693Z",
     "iopub.status.idle": "2025-09-08T07:43:20.778158Z",
     "shell.execute_reply": "2025-09-08T07:43:20.777396Z"
    },
    "papermill": {
     "duration": 1507.581571,
     "end_time": "2025-09-08T07:43:20.780212",
     "exception": false,
     "start_time": "2025-09-08T07:18:13.198641",
     "status": "completed"
    },
    "tags": []
   },
   "outputs": [
    {
     "name": "stdout",
     "output_type": "stream",
     "text": [
      "\n",
      "📋 Training Configuration:\n",
      "│ Optimizer: Adam (lr=0.0001)\n",
      "│ Loss Function: CrossEntropyLoss\n",
      "│ Batch Size: 32\n",
      "│ Device: cuda\n",
      "\n",
      "🚀 Starting Fine-tuning for 50 epochs...\n",
      "================================================================================\n",
      "\n",
      "📈 Epoch 1/50\n",
      "--------------------------------------------------\n",
      "🔄 Training Phase...\n"
     ]
    },
    {
     "name": "stderr",
     "output_type": "stream",
     "text": [
      "Training: 100%|██████████████████████████████| 48/48 [00:33<00:00,  1.45it/s, Loss=0.3152, Acc=0.8546]\n"
     ]
    },
    {
     "name": "stdout",
     "output_type": "stream",
     "text": [
      "✅ Training completed in 33.14s\n",
      "🔍 Validation Phase...\n"
     ]
    },
    {
     "name": "stderr",
     "output_type": "stream",
     "text": [
      "Validation: 100%|██████████████████████████████| 12/12 [00:04<00:00,  2.57it/s, Loss=0.8702, Acc=0.7135]\n"
     ]
    },
    {
     "name": "stdout",
     "output_type": "stream",
     "text": [
      "✅ Validation completed in 4.67s\n",
      "🌟 New best model found! Validation Loss: 0.8702\n",
      "\n",
      "📊 Epoch 1 Summary:\n",
      "│ Train Loss: 0.3152 | Train Acc: 0.8546\n",
      "│ Val Loss:   0.8702 | Val Acc:   0.7135\n",
      "│ Train Time: 33.14s | Val Time: 4.67s\n",
      "│ Total Epoch Time: 37.82s\n",
      "│ Best Val Loss: 0.8702 (Epoch 1)\n",
      "│ GPU Memory: 0.4GB / 3.2GB\n",
      "================================================================================\n",
      "\n",
      "📈 Epoch 2/50\n",
      "--------------------------------------------------\n",
      "🔄 Training Phase...\n"
     ]
    },
    {
     "name": "stderr",
     "output_type": "stream",
     "text": [
      "Training: 100%|██████████████████████████████| 48/48 [00:25<00:00,  1.88it/s, Loss=0.0341, Acc=0.9934]\n"
     ]
    },
    {
     "name": "stdout",
     "output_type": "stream",
     "text": [
      "✅ Training completed in 25.50s\n",
      "🔍 Validation Phase...\n"
     ]
    },
    {
     "name": "stderr",
     "output_type": "stream",
     "text": [
      "Validation: 100%|██████████████████████████████| 12/12 [00:03<00:00,  3.77it/s, Loss=0.8843, Acc=0.6953]\n"
     ]
    },
    {
     "name": "stdout",
     "output_type": "stream",
     "text": [
      "✅ Validation completed in 3.19s\n",
      "\n",
      "📊 Epoch 2 Summary:\n",
      "│ Train Loss: 0.0341 | Train Acc: 0.9934\n",
      "│ Val Loss:   0.8843 | Val Acc:   0.6953\n",
      "│ Train Time: 25.50s | Val Time: 3.19s\n",
      "│ Total Epoch Time: 28.69s\n",
      "│ Best Val Loss: 0.8702 (Epoch 1)\n",
      "│ GPU Memory: 0.4GB / 3.2GB\n",
      "================================================================================\n",
      "\n",
      "📈 Epoch 3/50\n",
      "--------------------------------------------------\n",
      "🔄 Training Phase...\n"
     ]
    },
    {
     "name": "stderr",
     "output_type": "stream",
     "text": [
      "Training: 100%|██████████████████████████████| 48/48 [00:25<00:00,  1.88it/s, Loss=0.0096, Acc=0.9980]\n"
     ]
    },
    {
     "name": "stdout",
     "output_type": "stream",
     "text": [
      "✅ Training completed in 25.47s\n",
      "🔍 Validation Phase...\n"
     ]
    },
    {
     "name": "stderr",
     "output_type": "stream",
     "text": [
      "Validation: 100%|██████████████████████████████| 12/12 [00:03<00:00,  3.75it/s, Loss=0.9669, Acc=0.7266]\n"
     ]
    },
    {
     "name": "stdout",
     "output_type": "stream",
     "text": [
      "✅ Validation completed in 3.21s\n",
      "\n",
      "📊 Epoch 3 Summary:\n",
      "│ Train Loss: 0.0096 | Train Acc: 0.9980\n",
      "│ Val Loss:   0.9669 | Val Acc:   0.7266\n",
      "│ Train Time: 25.47s | Val Time: 3.21s\n",
      "│ Total Epoch Time: 28.68s\n",
      "│ Best Val Loss: 0.8702 (Epoch 1)\n",
      "│ GPU Memory: 0.4GB / 3.2GB\n",
      "================================================================================\n",
      "\n",
      "📈 Epoch 4/50\n",
      "--------------------------------------------------\n",
      "🔄 Training Phase...\n"
     ]
    },
    {
     "name": "stderr",
     "output_type": "stream",
     "text": [
      "Training: 100%|██████████████████████████████| 48/48 [00:25<00:00,  1.87it/s, Loss=0.0147, Acc=0.9961]\n"
     ]
    },
    {
     "name": "stdout",
     "output_type": "stream",
     "text": [
      "✅ Training completed in 25.71s\n",
      "🔍 Validation Phase...\n"
     ]
    },
    {
     "name": "stderr",
     "output_type": "stream",
     "text": [
      "Validation: 100%|██████████████████████████████| 12/12 [00:03<00:00,  3.71it/s, Loss=1.1301, Acc=0.7344]\n"
     ]
    },
    {
     "name": "stdout",
     "output_type": "stream",
     "text": [
      "✅ Validation completed in 3.24s\n",
      "\n",
      "📊 Epoch 4 Summary:\n",
      "│ Train Loss: 0.0147 | Train Acc: 0.9961\n",
      "│ Val Loss:   1.1301 | Val Acc:   0.7344\n",
      "│ Train Time: 25.71s | Val Time: 3.24s\n",
      "│ Total Epoch Time: 28.95s\n",
      "│ Best Val Loss: 0.8702 (Epoch 1)\n",
      "│ GPU Memory: 0.4GB / 3.2GB\n",
      "================================================================================\n",
      "\n",
      "📈 Epoch 5/50\n",
      "--------------------------------------------------\n",
      "🔄 Training Phase...\n"
     ]
    },
    {
     "name": "stderr",
     "output_type": "stream",
     "text": [
      "Training: 100%|██████████████████████████████| 48/48 [00:25<00:00,  1.86it/s, Loss=0.0119, Acc=0.9967]\n"
     ]
    },
    {
     "name": "stdout",
     "output_type": "stream",
     "text": [
      "✅ Training completed in 25.83s\n",
      "🔍 Validation Phase...\n"
     ]
    },
    {
     "name": "stderr",
     "output_type": "stream",
     "text": [
      "Validation: 100%|██████████████████████████████| 12/12 [00:03<00:00,  3.74it/s, Loss=1.4146, Acc=0.6719]\n"
     ]
    },
    {
     "name": "stdout",
     "output_type": "stream",
     "text": [
      "✅ Validation completed in 3.21s\n",
      "\n",
      "📊 Epoch 5 Summary:\n",
      "│ Train Loss: 0.0119 | Train Acc: 0.9967\n",
      "│ Val Loss:   1.4146 | Val Acc:   0.6719\n",
      "│ Train Time: 25.83s | Val Time: 3.21s\n",
      "│ Total Epoch Time: 29.05s\n",
      "│ Best Val Loss: 0.8702 (Epoch 1)\n",
      "│ GPU Memory: 0.4GB / 3.2GB\n",
      "================================================================================\n",
      "\n",
      "📈 Epoch 6/50\n",
      "--------------------------------------------------\n",
      "🔄 Training Phase...\n"
     ]
    },
    {
     "name": "stderr",
     "output_type": "stream",
     "text": [
      "Training: 100%|██████████████████████████████| 48/48 [00:26<00:00,  1.84it/s, Loss=0.0178, Acc=0.9928]\n"
     ]
    },
    {
     "name": "stdout",
     "output_type": "stream",
     "text": [
      "✅ Training completed in 26.05s\n",
      "🔍 Validation Phase...\n"
     ]
    },
    {
     "name": "stderr",
     "output_type": "stream",
     "text": [
      "Validation: 100%|██████████████████████████████| 12/12 [00:03<00:00,  3.76it/s, Loss=1.3582, Acc=0.7005]\n"
     ]
    },
    {
     "name": "stdout",
     "output_type": "stream",
     "text": [
      "✅ Validation completed in 3.20s\n",
      "\n",
      "📊 Epoch 6 Summary:\n",
      "│ Train Loss: 0.0178 | Train Acc: 0.9928\n",
      "│ Val Loss:   1.3582 | Val Acc:   0.7005\n",
      "│ Train Time: 26.05s | Val Time: 3.20s\n",
      "│ Total Epoch Time: 29.25s\n",
      "│ Best Val Loss: 0.8702 (Epoch 1)\n",
      "│ GPU Memory: 0.4GB / 3.2GB\n",
      "================================================================================\n",
      "\n",
      "📈 Epoch 7/50\n",
      "--------------------------------------------------\n",
      "🔄 Training Phase...\n"
     ]
    },
    {
     "name": "stderr",
     "output_type": "stream",
     "text": [
      "Training: 100%|██████████████████████████████| 48/48 [00:26<00:00,  1.83it/s, Loss=0.0494, Acc=0.9809]\n"
     ]
    },
    {
     "name": "stdout",
     "output_type": "stream",
     "text": [
      "✅ Training completed in 26.27s\n",
      "🔍 Validation Phase...\n"
     ]
    },
    {
     "name": "stderr",
     "output_type": "stream",
     "text": [
      "Validation: 100%|██████████████████████████████| 12/12 [00:03<00:00,  3.54it/s, Loss=1.1477, Acc=0.6589]\n"
     ]
    },
    {
     "name": "stdout",
     "output_type": "stream",
     "text": [
      "✅ Validation completed in 3.40s\n",
      "\n",
      "📊 Epoch 7 Summary:\n",
      "│ Train Loss: 0.0494 | Train Acc: 0.9809\n",
      "│ Val Loss:   1.1477 | Val Acc:   0.6589\n",
      "│ Train Time: 26.27s | Val Time: 3.40s\n",
      "│ Total Epoch Time: 29.67s\n",
      "│ Best Val Loss: 0.8702 (Epoch 1)\n",
      "│ GPU Memory: 0.4GB / 3.2GB\n",
      "================================================================================\n",
      "\n",
      "📈 Epoch 8/50\n",
      "--------------------------------------------------\n",
      "🔄 Training Phase...\n"
     ]
    },
    {
     "name": "stderr",
     "output_type": "stream",
     "text": [
      "Training: 100%|██████████████████████████████| 48/48 [00:26<00:00,  1.81it/s, Loss=0.0163, Acc=0.9934]\n"
     ]
    },
    {
     "name": "stdout",
     "output_type": "stream",
     "text": [
      "✅ Training completed in 26.55s\n",
      "🔍 Validation Phase...\n"
     ]
    },
    {
     "name": "stderr",
     "output_type": "stream",
     "text": [
      "Validation: 100%|██████████████████████████████| 12/12 [00:03<00:00,  3.67it/s, Loss=1.2453, Acc=0.6979]\n"
     ]
    },
    {
     "name": "stdout",
     "output_type": "stream",
     "text": [
      "✅ Validation completed in 3.28s\n",
      "\n",
      "📊 Epoch 8 Summary:\n",
      "│ Train Loss: 0.0163 | Train Acc: 0.9934\n",
      "│ Val Loss:   1.2453 | Val Acc:   0.6979\n",
      "│ Train Time: 26.55s | Val Time: 3.28s\n",
      "│ Total Epoch Time: 29.83s\n",
      "│ Best Val Loss: 0.8702 (Epoch 1)\n",
      "│ GPU Memory: 0.4GB / 3.2GB\n",
      "================================================================================\n",
      "\n",
      "📈 Epoch 9/50\n",
      "--------------------------------------------------\n",
      "🔄 Training Phase...\n"
     ]
    },
    {
     "name": "stderr",
     "output_type": "stream",
     "text": [
      "Training: 100%|██████████████████████████████| 48/48 [00:26<00:00,  1.80it/s, Loss=0.0163, Acc=0.9954]\n"
     ]
    },
    {
     "name": "stdout",
     "output_type": "stream",
     "text": [
      "✅ Training completed in 26.60s\n",
      "🔍 Validation Phase...\n"
     ]
    },
    {
     "name": "stderr",
     "output_type": "stream",
     "text": [
      "Validation: 100%|██████████████████████████████| 12/12 [00:03<00:00,  3.57it/s, Loss=1.2727, Acc=0.6875]\n"
     ]
    },
    {
     "name": "stdout",
     "output_type": "stream",
     "text": [
      "✅ Validation completed in 3.36s\n",
      "\n",
      "📊 Epoch 9 Summary:\n",
      "│ Train Loss: 0.0163 | Train Acc: 0.9954\n",
      "│ Val Loss:   1.2727 | Val Acc:   0.6875\n",
      "│ Train Time: 26.60s | Val Time: 3.36s\n",
      "│ Total Epoch Time: 29.96s\n",
      "│ Best Val Loss: 0.8702 (Epoch 1)\n",
      "│ GPU Memory: 0.4GB / 3.2GB\n",
      "================================================================================\n",
      "\n",
      "📈 Epoch 10/50\n",
      "--------------------------------------------------\n",
      "🔄 Training Phase...\n"
     ]
    },
    {
     "name": "stderr",
     "output_type": "stream",
     "text": [
      "Training: 100%|██████████████████████████████| 48/48 [00:26<00:00,  1.81it/s, Loss=0.0190, Acc=0.9954]\n"
     ]
    },
    {
     "name": "stdout",
     "output_type": "stream",
     "text": [
      "✅ Training completed in 26.59s\n",
      "🔍 Validation Phase...\n"
     ]
    },
    {
     "name": "stderr",
     "output_type": "stream",
     "text": [
      "Validation: 100%|██████████████████████████████| 12/12 [00:03<00:00,  3.72it/s, Loss=1.2815, Acc=0.7057]\n"
     ]
    },
    {
     "name": "stdout",
     "output_type": "stream",
     "text": [
      "✅ Validation completed in 3.23s\n",
      "\n",
      "📊 Epoch 10 Summary:\n",
      "│ Train Loss: 0.0190 | Train Acc: 0.9954\n",
      "│ Val Loss:   1.2815 | Val Acc:   0.7057\n",
      "│ Train Time: 26.59s | Val Time: 3.23s\n",
      "│ Total Epoch Time: 29.82s\n",
      "│ Best Val Loss: 0.8702 (Epoch 1)\n",
      "│ GPU Memory: 0.4GB / 3.2GB\n",
      "================================================================================\n",
      "\n",
      "📈 Epoch 11/50\n",
      "--------------------------------------------------\n",
      "🔄 Training Phase...\n"
     ]
    },
    {
     "name": "stderr",
     "output_type": "stream",
     "text": [
      "Training: 100%|██████████████████████████████| 48/48 [00:26<00:00,  1.81it/s, Loss=0.0077, Acc=0.9980]\n"
     ]
    },
    {
     "name": "stdout",
     "output_type": "stream",
     "text": [
      "✅ Training completed in 26.50s\n",
      "🔍 Validation Phase...\n"
     ]
    },
    {
     "name": "stderr",
     "output_type": "stream",
     "text": [
      "Validation: 100%|██████████████████████████████| 12/12 [00:03<00:00,  3.66it/s, Loss=0.9178, Acc=0.7500]\n"
     ]
    },
    {
     "name": "stdout",
     "output_type": "stream",
     "text": [
      "✅ Validation completed in 3.28s\n",
      "\n",
      "📊 Epoch 11 Summary:\n",
      "│ Train Loss: 0.0077 | Train Acc: 0.9980\n",
      "│ Val Loss:   0.9178 | Val Acc:   0.7500\n",
      "│ Train Time: 26.50s | Val Time: 3.28s\n",
      "│ Total Epoch Time: 29.78s\n",
      "│ Best Val Loss: 0.8702 (Epoch 1)\n",
      "│ GPU Memory: 0.4GB / 3.2GB\n",
      "================================================================================\n",
      "\n",
      "📈 Epoch 12/50\n",
      "--------------------------------------------------\n",
      "🔄 Training Phase...\n"
     ]
    },
    {
     "name": "stderr",
     "output_type": "stream",
     "text": [
      "Training: 100%|██████████████████████████████| 48/48 [00:26<00:00,  1.81it/s, Loss=0.0013, Acc=1.0000]\n"
     ]
    },
    {
     "name": "stdout",
     "output_type": "stream",
     "text": [
      "✅ Training completed in 26.60s\n",
      "🔍 Validation Phase...\n"
     ]
    },
    {
     "name": "stderr",
     "output_type": "stream",
     "text": [
      "Validation: 100%|██████████████████████████████| 12/12 [00:03<00:00,  3.64it/s, Loss=1.1352, Acc=0.7474]\n"
     ]
    },
    {
     "name": "stdout",
     "output_type": "stream",
     "text": [
      "✅ Validation completed in 3.30s\n",
      "\n",
      "📊 Epoch 12 Summary:\n",
      "│ Train Loss: 0.0013 | Train Acc: 1.0000\n",
      "│ Val Loss:   1.1352 | Val Acc:   0.7474\n",
      "│ Train Time: 26.60s | Val Time: 3.30s\n",
      "│ Total Epoch Time: 29.90s\n",
      "│ Best Val Loss: 0.8702 (Epoch 1)\n",
      "│ GPU Memory: 0.4GB / 3.2GB\n",
      "================================================================================\n",
      "\n",
      "📈 Epoch 13/50\n",
      "--------------------------------------------------\n",
      "🔄 Training Phase...\n"
     ]
    },
    {
     "name": "stderr",
     "output_type": "stream",
     "text": [
      "Training: 100%|██████████████████████████████| 48/48 [00:26<00:00,  1.82it/s, Loss=0.0009, Acc=1.0000]\n"
     ]
    },
    {
     "name": "stdout",
     "output_type": "stream",
     "text": [
      "✅ Training completed in 26.43s\n",
      "🔍 Validation Phase...\n"
     ]
    },
    {
     "name": "stderr",
     "output_type": "stream",
     "text": [
      "Validation: 100%|██████████████████████████████| 12/12 [00:03<00:00,  3.65it/s, Loss=1.0610, Acc=0.7526]\n"
     ]
    },
    {
     "name": "stdout",
     "output_type": "stream",
     "text": [
      "✅ Validation completed in 3.29s\n",
      "\n",
      "📊 Epoch 13 Summary:\n",
      "│ Train Loss: 0.0009 | Train Acc: 1.0000\n",
      "│ Val Loss:   1.0610 | Val Acc:   0.7526\n",
      "│ Train Time: 26.43s | Val Time: 3.29s\n",
      "│ Total Epoch Time: 29.72s\n",
      "│ Best Val Loss: 0.8702 (Epoch 1)\n",
      "│ GPU Memory: 0.4GB / 3.2GB\n",
      "================================================================================\n",
      "\n",
      "📈 Epoch 14/50\n",
      "--------------------------------------------------\n",
      "🔄 Training Phase...\n"
     ]
    },
    {
     "name": "stderr",
     "output_type": "stream",
     "text": [
      "Training: 100%|██████████████████████████████| 48/48 [00:26<00:00,  1.80it/s, Loss=0.0002, Acc=1.0000]\n"
     ]
    },
    {
     "name": "stdout",
     "output_type": "stream",
     "text": [
      "✅ Training completed in 26.59s\n",
      "🔍 Validation Phase...\n"
     ]
    },
    {
     "name": "stderr",
     "output_type": "stream",
     "text": [
      "Validation: 100%|██████████████████████████████| 12/12 [00:03<00:00,  3.64it/s, Loss=1.0598, Acc=0.7552]\n"
     ]
    },
    {
     "name": "stdout",
     "output_type": "stream",
     "text": [
      "✅ Validation completed in 3.30s\n",
      "\n",
      "📊 Epoch 14 Summary:\n",
      "│ Train Loss: 0.0002 | Train Acc: 1.0000\n",
      "│ Val Loss:   1.0598 | Val Acc:   0.7552\n",
      "│ Train Time: 26.59s | Val Time: 3.30s\n",
      "│ Total Epoch Time: 29.90s\n",
      "│ Best Val Loss: 0.8702 (Epoch 1)\n",
      "│ GPU Memory: 0.4GB / 3.2GB\n",
      "================================================================================\n",
      "\n",
      "📈 Epoch 15/50\n",
      "--------------------------------------------------\n",
      "🔄 Training Phase...\n"
     ]
    },
    {
     "name": "stderr",
     "output_type": "stream",
     "text": [
      "Training: 100%|██████████████████████████████| 48/48 [00:26<00:00,  1.80it/s, Loss=0.0002, Acc=1.0000]\n"
     ]
    },
    {
     "name": "stdout",
     "output_type": "stream",
     "text": [
      "✅ Training completed in 26.65s\n",
      "🔍 Validation Phase...\n"
     ]
    },
    {
     "name": "stderr",
     "output_type": "stream",
     "text": [
      "Validation: 100%|██████████████████████████████| 12/12 [00:03<00:00,  3.55it/s, Loss=1.1712, Acc=0.7422]\n"
     ]
    },
    {
     "name": "stdout",
     "output_type": "stream",
     "text": [
      "✅ Validation completed in 3.38s\n",
      "\n",
      "📊 Epoch 15 Summary:\n",
      "│ Train Loss: 0.0002 | Train Acc: 1.0000\n",
      "│ Val Loss:   1.1712 | Val Acc:   0.7422\n",
      "│ Train Time: 26.65s | Val Time: 3.38s\n",
      "│ Total Epoch Time: 30.04s\n",
      "│ Best Val Loss: 0.8702 (Epoch 1)\n",
      "│ GPU Memory: 0.4GB / 3.2GB\n",
      "================================================================================\n",
      "\n",
      "📈 Epoch 16/50\n",
      "--------------------------------------------------\n",
      "🔄 Training Phase...\n"
     ]
    },
    {
     "name": "stderr",
     "output_type": "stream",
     "text": [
      "Training: 100%|██████████████████████████████| 48/48 [00:26<00:00,  1.80it/s, Loss=0.0004, Acc=1.0000]\n"
     ]
    },
    {
     "name": "stdout",
     "output_type": "stream",
     "text": [
      "✅ Training completed in 26.60s\n",
      "🔍 Validation Phase...\n"
     ]
    },
    {
     "name": "stderr",
     "output_type": "stream",
     "text": [
      "Validation: 100%|██████████████████████████████| 12/12 [00:03<00:00,  3.62it/s, Loss=1.1035, Acc=0.7552]\n"
     ]
    },
    {
     "name": "stdout",
     "output_type": "stream",
     "text": [
      "✅ Validation completed in 3.32s\n",
      "\n",
      "📊 Epoch 16 Summary:\n",
      "│ Train Loss: 0.0004 | Train Acc: 1.0000\n",
      "│ Val Loss:   1.1035 | Val Acc:   0.7552\n",
      "│ Train Time: 26.60s | Val Time: 3.32s\n",
      "│ Total Epoch Time: 29.92s\n",
      "│ Best Val Loss: 0.8702 (Epoch 1)\n",
      "│ GPU Memory: 0.4GB / 3.2GB\n",
      "================================================================================\n",
      "\n",
      "📈 Epoch 17/50\n",
      "--------------------------------------------------\n",
      "🔄 Training Phase...\n"
     ]
    },
    {
     "name": "stderr",
     "output_type": "stream",
     "text": [
      "Training: 100%|██████████████████████████████| 48/48 [00:26<00:00,  1.80it/s, Loss=0.0006, Acc=1.0000]\n"
     ]
    },
    {
     "name": "stdout",
     "output_type": "stream",
     "text": [
      "✅ Training completed in 26.74s\n",
      "🔍 Validation Phase...\n"
     ]
    },
    {
     "name": "stderr",
     "output_type": "stream",
     "text": [
      "Validation: 100%|██████████████████████████████| 12/12 [00:03<00:00,  3.62it/s, Loss=1.2227, Acc=0.7708]\n"
     ]
    },
    {
     "name": "stdout",
     "output_type": "stream",
     "text": [
      "✅ Validation completed in 3.32s\n",
      "\n",
      "📊 Epoch 17 Summary:\n",
      "│ Train Loss: 0.0006 | Train Acc: 1.0000\n",
      "│ Val Loss:   1.2227 | Val Acc:   0.7708\n",
      "│ Train Time: 26.74s | Val Time: 3.32s\n",
      "│ Total Epoch Time: 30.06s\n",
      "│ Best Val Loss: 0.8702 (Epoch 1)\n",
      "│ GPU Memory: 0.4GB / 3.2GB\n",
      "================================================================================\n",
      "\n",
      "📈 Epoch 18/50\n",
      "--------------------------------------------------\n",
      "🔄 Training Phase...\n"
     ]
    },
    {
     "name": "stderr",
     "output_type": "stream",
     "text": [
      "Training: 100%|██████████████████████████████| 48/48 [00:26<00:00,  1.80it/s, Loss=0.0037, Acc=0.9993]\n"
     ]
    },
    {
     "name": "stdout",
     "output_type": "stream",
     "text": [
      "✅ Training completed in 26.70s\n",
      "🔍 Validation Phase...\n"
     ]
    },
    {
     "name": "stderr",
     "output_type": "stream",
     "text": [
      "Validation: 100%|██████████████████████████████| 12/12 [00:03<00:00,  3.74it/s, Loss=1.3005, Acc=0.7500]\n"
     ]
    },
    {
     "name": "stdout",
     "output_type": "stream",
     "text": [
      "✅ Validation completed in 3.21s\n",
      "\n",
      "📊 Epoch 18 Summary:\n",
      "│ Train Loss: 0.0037 | Train Acc: 0.9993\n",
      "│ Val Loss:   1.3005 | Val Acc:   0.7500\n",
      "│ Train Time: 26.70s | Val Time: 3.21s\n",
      "│ Total Epoch Time: 29.92s\n",
      "│ Best Val Loss: 0.8702 (Epoch 1)\n",
      "│ GPU Memory: 0.4GB / 3.2GB\n",
      "================================================================================\n",
      "\n",
      "📈 Epoch 19/50\n",
      "--------------------------------------------------\n",
      "🔄 Training Phase...\n"
     ]
    },
    {
     "name": "stderr",
     "output_type": "stream",
     "text": [
      "Training: 100%|██████████████████████████████| 48/48 [00:25<00:00,  1.85it/s, Loss=0.0427, Acc=0.9875]\n"
     ]
    },
    {
     "name": "stdout",
     "output_type": "stream",
     "text": [
      "✅ Training completed in 25.89s\n",
      "🔍 Validation Phase...\n"
     ]
    },
    {
     "name": "stderr",
     "output_type": "stream",
     "text": [
      "Validation: 100%|██████████████████████████████| 12/12 [00:03<00:00,  3.63it/s, Loss=1.1201, Acc=0.7240]\n"
     ]
    },
    {
     "name": "stdout",
     "output_type": "stream",
     "text": [
      "✅ Validation completed in 3.31s\n",
      "\n",
      "📊 Epoch 19 Summary:\n",
      "│ Train Loss: 0.0427 | Train Acc: 0.9875\n",
      "│ Val Loss:   1.1201 | Val Acc:   0.7240\n",
      "│ Train Time: 25.89s | Val Time: 3.31s\n",
      "│ Total Epoch Time: 29.20s\n",
      "│ Best Val Loss: 0.8702 (Epoch 1)\n",
      "│ GPU Memory: 0.4GB / 3.2GB\n",
      "================================================================================\n",
      "\n",
      "📈 Epoch 20/50\n",
      "--------------------------------------------------\n",
      "🔄 Training Phase...\n"
     ]
    },
    {
     "name": "stderr",
     "output_type": "stream",
     "text": [
      "Training: 100%|██████████████████████████████| 48/48 [00:26<00:00,  1.81it/s, Loss=0.0123, Acc=0.9961]\n"
     ]
    },
    {
     "name": "stdout",
     "output_type": "stream",
     "text": [
      "✅ Training completed in 26.57s\n",
      "🔍 Validation Phase...\n"
     ]
    },
    {
     "name": "stderr",
     "output_type": "stream",
     "text": [
      "Validation: 100%|██████████████████████████████| 12/12 [00:03<00:00,  3.64it/s, Loss=1.3183, Acc=0.6979]\n"
     ]
    },
    {
     "name": "stdout",
     "output_type": "stream",
     "text": [
      "✅ Validation completed in 3.30s\n",
      "\n",
      "📊 Epoch 20 Summary:\n",
      "│ Train Loss: 0.0123 | Train Acc: 0.9961\n",
      "│ Val Loss:   1.3183 | Val Acc:   0.6979\n",
      "│ Train Time: 26.57s | Val Time: 3.30s\n",
      "│ Total Epoch Time: 29.87s\n",
      "│ Best Val Loss: 0.8702 (Epoch 1)\n",
      "│ GPU Memory: 0.4GB / 3.2GB\n",
      "================================================================================\n",
      "\n",
      "📈 Epoch 21/50\n",
      "--------------------------------------------------\n",
      "🔄 Training Phase...\n"
     ]
    },
    {
     "name": "stderr",
     "output_type": "stream",
     "text": [
      "Training: 100%|██████████████████████████████| 48/48 [00:26<00:00,  1.81it/s, Loss=0.0101, Acc=0.9987]\n"
     ]
    },
    {
     "name": "stdout",
     "output_type": "stream",
     "text": [
      "✅ Training completed in 26.50s\n",
      "🔍 Validation Phase...\n"
     ]
    },
    {
     "name": "stderr",
     "output_type": "stream",
     "text": [
      "Validation: 100%|██████████████████████████████| 12/12 [00:03<00:00,  3.61it/s, Loss=2.0584, Acc=0.6693]\n"
     ]
    },
    {
     "name": "stdout",
     "output_type": "stream",
     "text": [
      "✅ Validation completed in 3.33s\n",
      "\n",
      "📊 Epoch 21 Summary:\n",
      "│ Train Loss: 0.0101 | Train Acc: 0.9987\n",
      "│ Val Loss:   2.0584 | Val Acc:   0.6693\n",
      "│ Train Time: 26.50s | Val Time: 3.33s\n",
      "│ Total Epoch Time: 29.84s\n",
      "│ Best Val Loss: 0.8702 (Epoch 1)\n",
      "│ GPU Memory: 0.4GB / 3.2GB\n",
      "================================================================================\n",
      "\n",
      "📈 Epoch 22/50\n",
      "--------------------------------------------------\n",
      "🔄 Training Phase...\n"
     ]
    },
    {
     "name": "stderr",
     "output_type": "stream",
     "text": [
      "Training: 100%|██████████████████████████████| 48/48 [00:26<00:00,  1.79it/s, Loss=0.0092, Acc=0.9974]\n"
     ]
    },
    {
     "name": "stdout",
     "output_type": "stream",
     "text": [
      "✅ Training completed in 26.75s\n",
      "🔍 Validation Phase...\n"
     ]
    },
    {
     "name": "stderr",
     "output_type": "stream",
     "text": [
      "Validation: 100%|██████████████████████████████| 12/12 [00:03<00:00,  3.74it/s, Loss=1.4958, Acc=0.6667]\n"
     ]
    },
    {
     "name": "stdout",
     "output_type": "stream",
     "text": [
      "✅ Validation completed in 3.21s\n",
      "\n",
      "📊 Epoch 22 Summary:\n",
      "│ Train Loss: 0.0092 | Train Acc: 0.9974\n",
      "│ Val Loss:   1.4958 | Val Acc:   0.6667\n",
      "│ Train Time: 26.75s | Val Time: 3.21s\n",
      "│ Total Epoch Time: 29.96s\n",
      "│ Best Val Loss: 0.8702 (Epoch 1)\n",
      "│ GPU Memory: 0.4GB / 3.2GB\n",
      "================================================================================\n",
      "\n",
      "📈 Epoch 23/50\n",
      "--------------------------------------------------\n",
      "🔄 Training Phase...\n"
     ]
    },
    {
     "name": "stderr",
     "output_type": "stream",
     "text": [
      "Training: 100%|██████████████████████████████| 48/48 [00:26<00:00,  1.81it/s, Loss=0.0158, Acc=0.9961]\n"
     ]
    },
    {
     "name": "stdout",
     "output_type": "stream",
     "text": [
      "✅ Training completed in 26.59s\n",
      "🔍 Validation Phase...\n"
     ]
    },
    {
     "name": "stderr",
     "output_type": "stream",
     "text": [
      "Validation: 100%|██████████████████████████████| 12/12 [00:03<00:00,  3.71it/s, Loss=1.3246, Acc=0.6849]\n"
     ]
    },
    {
     "name": "stdout",
     "output_type": "stream",
     "text": [
      "✅ Validation completed in 3.24s\n",
      "\n",
      "📊 Epoch 23 Summary:\n",
      "│ Train Loss: 0.0158 | Train Acc: 0.9961\n",
      "│ Val Loss:   1.3246 | Val Acc:   0.6849\n",
      "│ Train Time: 26.59s | Val Time: 3.24s\n",
      "│ Total Epoch Time: 29.83s\n",
      "│ Best Val Loss: 0.8702 (Epoch 1)\n",
      "│ GPU Memory: 0.4GB / 3.2GB\n",
      "================================================================================\n",
      "\n",
      "📈 Epoch 24/50\n",
      "--------------------------------------------------\n",
      "🔄 Training Phase...\n"
     ]
    },
    {
     "name": "stderr",
     "output_type": "stream",
     "text": [
      "Training: 100%|██████████████████████████████| 48/48 [00:26<00:00,  1.81it/s, Loss=0.0187, Acc=0.9954]\n"
     ]
    },
    {
     "name": "stdout",
     "output_type": "stream",
     "text": [
      "✅ Training completed in 26.53s\n",
      "🔍 Validation Phase...\n"
     ]
    },
    {
     "name": "stderr",
     "output_type": "stream",
     "text": [
      "Validation: 100%|██████████████████████████████| 12/12 [00:03<00:00,  3.63it/s, Loss=1.3209, Acc=0.7161]\n"
     ]
    },
    {
     "name": "stdout",
     "output_type": "stream",
     "text": [
      "✅ Validation completed in 3.31s\n",
      "\n",
      "📊 Epoch 24 Summary:\n",
      "│ Train Loss: 0.0187 | Train Acc: 0.9954\n",
      "│ Val Loss:   1.3209 | Val Acc:   0.7161\n",
      "│ Train Time: 26.53s | Val Time: 3.31s\n",
      "│ Total Epoch Time: 29.85s\n",
      "│ Best Val Loss: 0.8702 (Epoch 1)\n",
      "│ GPU Memory: 0.4GB / 3.2GB\n",
      "================================================================================\n",
      "\n",
      "📈 Epoch 25/50\n",
      "--------------------------------------------------\n",
      "🔄 Training Phase...\n"
     ]
    },
    {
     "name": "stderr",
     "output_type": "stream",
     "text": [
      "Training: 100%|██████████████████████████████| 48/48 [00:26<00:00,  1.81it/s, Loss=0.0147, Acc=0.9941]\n"
     ]
    },
    {
     "name": "stdout",
     "output_type": "stream",
     "text": [
      "✅ Training completed in 26.54s\n",
      "🔍 Validation Phase...\n"
     ]
    },
    {
     "name": "stderr",
     "output_type": "stream",
     "text": [
      "Validation: 100%|██████████████████████████████| 12/12 [00:03<00:00,  3.71it/s, Loss=0.9854, Acc=0.7266]\n"
     ]
    },
    {
     "name": "stdout",
     "output_type": "stream",
     "text": [
      "✅ Validation completed in 3.23s\n",
      "\n",
      "📊 Epoch 25 Summary:\n",
      "│ Train Loss: 0.0147 | Train Acc: 0.9941\n",
      "│ Val Loss:   0.9854 | Val Acc:   0.7266\n",
      "│ Train Time: 26.54s | Val Time: 3.23s\n",
      "│ Total Epoch Time: 29.78s\n",
      "│ Best Val Loss: 0.8702 (Epoch 1)\n",
      "│ GPU Memory: 0.4GB / 3.2GB\n",
      "================================================================================\n",
      "\n",
      "📈 Epoch 26/50\n",
      "--------------------------------------------------\n",
      "🔄 Training Phase...\n"
     ]
    },
    {
     "name": "stderr",
     "output_type": "stream",
     "text": [
      "Training: 100%|██████████████████████████████| 48/48 [00:26<00:00,  1.80it/s, Loss=0.0125, Acc=0.9967]\n"
     ]
    },
    {
     "name": "stdout",
     "output_type": "stream",
     "text": [
      "✅ Training completed in 26.60s\n",
      "🔍 Validation Phase...\n"
     ]
    },
    {
     "name": "stderr",
     "output_type": "stream",
     "text": [
      "Validation: 100%|██████████████████████████████| 12/12 [00:03<00:00,  3.67it/s, Loss=1.2227, Acc=0.6979]\n"
     ]
    },
    {
     "name": "stdout",
     "output_type": "stream",
     "text": [
      "✅ Validation completed in 3.27s\n",
      "\n",
      "📊 Epoch 26 Summary:\n",
      "│ Train Loss: 0.0125 | Train Acc: 0.9967\n",
      "│ Val Loss:   1.2227 | Val Acc:   0.6979\n",
      "│ Train Time: 26.60s | Val Time: 3.27s\n",
      "│ Total Epoch Time: 29.88s\n",
      "│ Best Val Loss: 0.8702 (Epoch 1)\n",
      "│ GPU Memory: 0.4GB / 3.2GB\n",
      "================================================================================\n",
      "\n",
      "📈 Epoch 27/50\n",
      "--------------------------------------------------\n",
      "🔄 Training Phase...\n"
     ]
    },
    {
     "name": "stderr",
     "output_type": "stream",
     "text": [
      "Training: 100%|██████████████████████████████| 48/48 [00:26<00:00,  1.80it/s, Loss=0.0220, Acc=0.9928]\n"
     ]
    },
    {
     "name": "stdout",
     "output_type": "stream",
     "text": [
      "✅ Training completed in 26.60s\n",
      "🔍 Validation Phase...\n"
     ]
    },
    {
     "name": "stderr",
     "output_type": "stream",
     "text": [
      "Validation: 100%|██████████████████████████████| 12/12 [00:03<00:00,  3.61it/s, Loss=1.9160, Acc=0.6589]\n"
     ]
    },
    {
     "name": "stdout",
     "output_type": "stream",
     "text": [
      "✅ Validation completed in 3.33s\n",
      "\n",
      "📊 Epoch 27 Summary:\n",
      "│ Train Loss: 0.0220 | Train Acc: 0.9928\n",
      "│ Val Loss:   1.9160 | Val Acc:   0.6589\n",
      "│ Train Time: 26.60s | Val Time: 3.33s\n",
      "│ Total Epoch Time: 29.93s\n",
      "│ Best Val Loss: 0.8702 (Epoch 1)\n",
      "│ GPU Memory: 0.4GB / 3.2GB\n",
      "================================================================================\n",
      "\n",
      "📈 Epoch 28/50\n",
      "--------------------------------------------------\n",
      "🔄 Training Phase...\n"
     ]
    },
    {
     "name": "stderr",
     "output_type": "stream",
     "text": [
      "Training: 100%|██████████████████████████████| 48/48 [00:26<00:00,  1.80it/s, Loss=0.0232, Acc=0.9921]\n"
     ]
    },
    {
     "name": "stdout",
     "output_type": "stream",
     "text": [
      "✅ Training completed in 26.71s\n",
      "🔍 Validation Phase...\n"
     ]
    },
    {
     "name": "stderr",
     "output_type": "stream",
     "text": [
      "Validation: 100%|██████████████████████████████| 12/12 [00:03<00:00,  3.57it/s, Loss=1.5207, Acc=0.6901]\n"
     ]
    },
    {
     "name": "stdout",
     "output_type": "stream",
     "text": [
      "✅ Validation completed in 3.37s\n",
      "\n",
      "📊 Epoch 28 Summary:\n",
      "│ Train Loss: 0.0232 | Train Acc: 0.9921\n",
      "│ Val Loss:   1.5207 | Val Acc:   0.6901\n",
      "│ Train Time: 26.71s | Val Time: 3.37s\n",
      "│ Total Epoch Time: 30.08s\n",
      "│ Best Val Loss: 0.8702 (Epoch 1)\n",
      "│ GPU Memory: 0.4GB / 3.2GB\n",
      "================================================================================\n",
      "\n",
      "📈 Epoch 29/50\n",
      "--------------------------------------------------\n",
      "🔄 Training Phase...\n"
     ]
    },
    {
     "name": "stderr",
     "output_type": "stream",
     "text": [
      "Training: 100%|██████████████████████████████| 48/48 [00:26<00:00,  1.79it/s, Loss=0.0105, Acc=0.9974]\n"
     ]
    },
    {
     "name": "stdout",
     "output_type": "stream",
     "text": [
      "✅ Training completed in 26.76s\n",
      "🔍 Validation Phase...\n"
     ]
    },
    {
     "name": "stderr",
     "output_type": "stream",
     "text": [
      "Validation: 100%|██████████████████████████████| 12/12 [00:03<00:00,  3.67it/s, Loss=1.3637, Acc=0.6979]\n"
     ]
    },
    {
     "name": "stdout",
     "output_type": "stream",
     "text": [
      "✅ Validation completed in 3.27s\n",
      "\n",
      "📊 Epoch 29 Summary:\n",
      "│ Train Loss: 0.0105 | Train Acc: 0.9974\n",
      "│ Val Loss:   1.3637 | Val Acc:   0.6979\n",
      "│ Train Time: 26.76s | Val Time: 3.27s\n",
      "│ Total Epoch Time: 30.03s\n",
      "│ Best Val Loss: 0.8702 (Epoch 1)\n",
      "│ GPU Memory: 0.4GB / 3.2GB\n",
      "================================================================================\n",
      "\n",
      "📈 Epoch 30/50\n",
      "--------------------------------------------------\n",
      "🔄 Training Phase...\n"
     ]
    },
    {
     "name": "stderr",
     "output_type": "stream",
     "text": [
      "Training: 100%|██████████████████████████████| 48/48 [00:26<00:00,  1.79it/s, Loss=0.0009, Acc=1.0000]\n"
     ]
    },
    {
     "name": "stdout",
     "output_type": "stream",
     "text": [
      "✅ Training completed in 26.82s\n",
      "🔍 Validation Phase...\n"
     ]
    },
    {
     "name": "stderr",
     "output_type": "stream",
     "text": [
      "Validation: 100%|██████████████████████████████| 12/12 [00:03<00:00,  3.69it/s, Loss=1.4081, Acc=0.7240]\n"
     ]
    },
    {
     "name": "stdout",
     "output_type": "stream",
     "text": [
      "✅ Validation completed in 3.26s\n",
      "\n",
      "📊 Epoch 30 Summary:\n",
      "│ Train Loss: 0.0009 | Train Acc: 1.0000\n",
      "│ Val Loss:   1.4081 | Val Acc:   0.7240\n",
      "│ Train Time: 26.82s | Val Time: 3.26s\n",
      "│ Total Epoch Time: 30.09s\n",
      "│ Best Val Loss: 0.8702 (Epoch 1)\n",
      "│ GPU Memory: 0.4GB / 3.2GB\n",
      "================================================================================\n",
      "\n",
      "📈 Epoch 31/50\n",
      "--------------------------------------------------\n",
      "🔄 Training Phase...\n"
     ]
    },
    {
     "name": "stderr",
     "output_type": "stream",
     "text": [
      "Training: 100%|██████████████████████████████| 48/48 [00:26<00:00,  1.80it/s, Loss=0.0008, Acc=1.0000]\n"
     ]
    },
    {
     "name": "stdout",
     "output_type": "stream",
     "text": [
      "✅ Training completed in 26.63s\n",
      "🔍 Validation Phase...\n"
     ]
    },
    {
     "name": "stderr",
     "output_type": "stream",
     "text": [
      "Validation: 100%|██████████████████████████████| 12/12 [00:03<00:00,  3.64it/s, Loss=1.4281, Acc=0.7188]\n"
     ]
    },
    {
     "name": "stdout",
     "output_type": "stream",
     "text": [
      "✅ Validation completed in 3.30s\n",
      "\n",
      "📊 Epoch 31 Summary:\n",
      "│ Train Loss: 0.0008 | Train Acc: 1.0000\n",
      "│ Val Loss:   1.4281 | Val Acc:   0.7188\n",
      "│ Train Time: 26.63s | Val Time: 3.30s\n",
      "│ Total Epoch Time: 29.93s\n",
      "│ Best Val Loss: 0.8702 (Epoch 1)\n",
      "│ GPU Memory: 0.4GB / 3.2GB\n",
      "================================================================================\n",
      "\n",
      "📈 Epoch 32/50\n",
      "--------------------------------------------------\n",
      "🔄 Training Phase...\n"
     ]
    },
    {
     "name": "stderr",
     "output_type": "stream",
     "text": [
      "Training: 100%|██████████████████████████████| 48/48 [00:26<00:00,  1.78it/s, Loss=0.0003, Acc=1.0000]\n"
     ]
    },
    {
     "name": "stdout",
     "output_type": "stream",
     "text": [
      "✅ Training completed in 26.91s\n",
      "🔍 Validation Phase...\n"
     ]
    },
    {
     "name": "stderr",
     "output_type": "stream",
     "text": [
      "Validation: 100%|██████████████████████████████| 12/12 [00:03<00:00,  3.60it/s, Loss=1.4428, Acc=0.7214]\n"
     ]
    },
    {
     "name": "stdout",
     "output_type": "stream",
     "text": [
      "✅ Validation completed in 3.33s\n",
      "\n",
      "📊 Epoch 32 Summary:\n",
      "│ Train Loss: 0.0003 | Train Acc: 1.0000\n",
      "│ Val Loss:   1.4428 | Val Acc:   0.7214\n",
      "│ Train Time: 26.91s | Val Time: 3.33s\n",
      "│ Total Epoch Time: 30.25s\n",
      "│ Best Val Loss: 0.8702 (Epoch 1)\n",
      "│ GPU Memory: 0.4GB / 3.2GB\n",
      "================================================================================\n",
      "\n",
      "📈 Epoch 33/50\n",
      "--------------------------------------------------\n",
      "🔄 Training Phase...\n"
     ]
    },
    {
     "name": "stderr",
     "output_type": "stream",
     "text": [
      "Training: 100%|██████████████████████████████| 48/48 [00:26<00:00,  1.81it/s, Loss=0.0003, Acc=1.0000]\n"
     ]
    },
    {
     "name": "stdout",
     "output_type": "stream",
     "text": [
      "✅ Training completed in 26.55s\n",
      "🔍 Validation Phase...\n"
     ]
    },
    {
     "name": "stderr",
     "output_type": "stream",
     "text": [
      "Validation: 100%|██████████████████████████████| 12/12 [00:03<00:00,  3.59it/s, Loss=1.5067, Acc=0.7266]\n"
     ]
    },
    {
     "name": "stdout",
     "output_type": "stream",
     "text": [
      "✅ Validation completed in 3.34s\n",
      "\n",
      "📊 Epoch 33 Summary:\n",
      "│ Train Loss: 0.0003 | Train Acc: 1.0000\n",
      "│ Val Loss:   1.5067 | Val Acc:   0.7266\n",
      "│ Train Time: 26.55s | Val Time: 3.34s\n",
      "│ Total Epoch Time: 29.89s\n",
      "│ Best Val Loss: 0.8702 (Epoch 1)\n",
      "│ GPU Memory: 0.4GB / 3.2GB\n",
      "================================================================================\n",
      "\n",
      "📈 Epoch 34/50\n",
      "--------------------------------------------------\n",
      "🔄 Training Phase...\n"
     ]
    },
    {
     "name": "stderr",
     "output_type": "stream",
     "text": [
      "Training: 100%|██████████████████████████████| 48/48 [00:26<00:00,  1.79it/s, Loss=0.0001, Acc=1.0000]\n"
     ]
    },
    {
     "name": "stdout",
     "output_type": "stream",
     "text": [
      "✅ Training completed in 26.87s\n",
      "🔍 Validation Phase...\n"
     ]
    },
    {
     "name": "stderr",
     "output_type": "stream",
     "text": [
      "Validation: 100%|██████████████████████████████| 12/12 [00:03<00:00,  3.56it/s, Loss=1.5136, Acc=0.7344]\n"
     ]
    },
    {
     "name": "stdout",
     "output_type": "stream",
     "text": [
      "✅ Validation completed in 3.37s\n",
      "\n",
      "📊 Epoch 34 Summary:\n",
      "│ Train Loss: 0.0001 | Train Acc: 1.0000\n",
      "│ Val Loss:   1.5136 | Val Acc:   0.7344\n",
      "│ Train Time: 26.87s | Val Time: 3.37s\n",
      "│ Total Epoch Time: 30.25s\n",
      "│ Best Val Loss: 0.8702 (Epoch 1)\n",
      "│ GPU Memory: 0.4GB / 3.2GB\n",
      "================================================================================\n",
      "\n",
      "📈 Epoch 35/50\n",
      "--------------------------------------------------\n",
      "🔄 Training Phase...\n"
     ]
    },
    {
     "name": "stderr",
     "output_type": "stream",
     "text": [
      "Training: 100%|██████████████████████████████| 48/48 [00:26<00:00,  1.81it/s, Loss=0.0004, Acc=1.0000]\n"
     ]
    },
    {
     "name": "stdout",
     "output_type": "stream",
     "text": [
      "✅ Training completed in 26.54s\n",
      "🔍 Validation Phase...\n"
     ]
    },
    {
     "name": "stderr",
     "output_type": "stream",
     "text": [
      "Validation: 100%|██████████████████████████████| 12/12 [00:03<00:00,  3.67it/s, Loss=1.4604, Acc=0.7396]\n"
     ]
    },
    {
     "name": "stdout",
     "output_type": "stream",
     "text": [
      "✅ Validation completed in 3.27s\n",
      "\n",
      "📊 Epoch 35 Summary:\n",
      "│ Train Loss: 0.0004 | Train Acc: 1.0000\n",
      "│ Val Loss:   1.4604 | Val Acc:   0.7396\n",
      "│ Train Time: 26.54s | Val Time: 3.27s\n",
      "│ Total Epoch Time: 29.81s\n",
      "│ Best Val Loss: 0.8702 (Epoch 1)\n",
      "│ GPU Memory: 0.4GB / 3.2GB\n",
      "================================================================================\n",
      "\n",
      "📈 Epoch 36/50\n",
      "--------------------------------------------------\n",
      "🔄 Training Phase...\n"
     ]
    },
    {
     "name": "stderr",
     "output_type": "stream",
     "text": [
      "Training: 100%|██████████████████████████████| 48/48 [00:26<00:00,  1.80it/s, Loss=0.0006, Acc=1.0000]\n"
     ]
    },
    {
     "name": "stdout",
     "output_type": "stream",
     "text": [
      "✅ Training completed in 26.64s\n",
      "🔍 Validation Phase...\n"
     ]
    },
    {
     "name": "stderr",
     "output_type": "stream",
     "text": [
      "Validation: 100%|██████████████████████████████| 12/12 [00:03<00:00,  3.56it/s, Loss=1.3399, Acc=0.7526]\n"
     ]
    },
    {
     "name": "stdout",
     "output_type": "stream",
     "text": [
      "✅ Validation completed in 3.38s\n",
      "\n",
      "📊 Epoch 36 Summary:\n",
      "│ Train Loss: 0.0006 | Train Acc: 1.0000\n",
      "│ Val Loss:   1.3399 | Val Acc:   0.7526\n",
      "│ Train Time: 26.64s | Val Time: 3.38s\n",
      "│ Total Epoch Time: 30.02s\n",
      "│ Best Val Loss: 0.8702 (Epoch 1)\n",
      "│ GPU Memory: 0.4GB / 3.2GB\n",
      "================================================================================\n",
      "\n",
      "📈 Epoch 37/50\n",
      "--------------------------------------------------\n",
      "🔄 Training Phase...\n"
     ]
    },
    {
     "name": "stderr",
     "output_type": "stream",
     "text": [
      "Training: 100%|██████████████████████████████| 48/48 [00:26<00:00,  1.80it/s, Loss=0.0001, Acc=1.0000]\n"
     ]
    },
    {
     "name": "stdout",
     "output_type": "stream",
     "text": [
      "✅ Training completed in 26.59s\n",
      "🔍 Validation Phase...\n"
     ]
    },
    {
     "name": "stderr",
     "output_type": "stream",
     "text": [
      "Validation: 100%|██████████████████████████████| 12/12 [00:03<00:00,  3.65it/s, Loss=1.3536, Acc=0.7604]\n"
     ]
    },
    {
     "name": "stdout",
     "output_type": "stream",
     "text": [
      "✅ Validation completed in 3.30s\n",
      "\n",
      "📊 Epoch 37 Summary:\n",
      "│ Train Loss: 0.0001 | Train Acc: 1.0000\n",
      "│ Val Loss:   1.3536 | Val Acc:   0.7604\n",
      "│ Train Time: 26.59s | Val Time: 3.30s\n",
      "│ Total Epoch Time: 29.89s\n",
      "│ Best Val Loss: 0.8702 (Epoch 1)\n",
      "│ GPU Memory: 0.4GB / 3.2GB\n",
      "================================================================================\n",
      "\n",
      "📈 Epoch 38/50\n",
      "--------------------------------------------------\n",
      "🔄 Training Phase...\n"
     ]
    },
    {
     "name": "stderr",
     "output_type": "stream",
     "text": [
      "Training: 100%|██████████████████████████████| 48/48 [00:26<00:00,  1.80it/s, Loss=0.0001, Acc=1.0000]\n"
     ]
    },
    {
     "name": "stdout",
     "output_type": "stream",
     "text": [
      "✅ Training completed in 26.70s\n",
      "🔍 Validation Phase...\n"
     ]
    },
    {
     "name": "stderr",
     "output_type": "stream",
     "text": [
      "Validation: 100%|██████████████████████████████| 12/12 [00:03<00:00,  3.65it/s, Loss=1.5115, Acc=0.7422]\n"
     ]
    },
    {
     "name": "stdout",
     "output_type": "stream",
     "text": [
      "✅ Validation completed in 3.29s\n",
      "\n",
      "📊 Epoch 38 Summary:\n",
      "│ Train Loss: 0.0001 | Train Acc: 1.0000\n",
      "│ Val Loss:   1.5115 | Val Acc:   0.7422\n",
      "│ Train Time: 26.70s | Val Time: 3.29s\n",
      "│ Total Epoch Time: 30.00s\n",
      "│ Best Val Loss: 0.8702 (Epoch 1)\n",
      "│ GPU Memory: 0.4GB / 3.2GB\n",
      "================================================================================\n",
      "\n",
      "📈 Epoch 39/50\n",
      "--------------------------------------------------\n",
      "🔄 Training Phase...\n"
     ]
    },
    {
     "name": "stderr",
     "output_type": "stream",
     "text": [
      "Training: 100%|██████████████████████████████| 48/48 [00:26<00:00,  1.80it/s, Loss=0.0001, Acc=1.0000]\n"
     ]
    },
    {
     "name": "stdout",
     "output_type": "stream",
     "text": [
      "✅ Training completed in 26.71s\n",
      "🔍 Validation Phase...\n"
     ]
    },
    {
     "name": "stderr",
     "output_type": "stream",
     "text": [
      "Validation: 100%|██████████████████████████████| 12/12 [00:03<00:00,  3.66it/s, Loss=1.4550, Acc=0.7448]\n"
     ]
    },
    {
     "name": "stdout",
     "output_type": "stream",
     "text": [
      "✅ Validation completed in 3.28s\n",
      "\n",
      "📊 Epoch 39 Summary:\n",
      "│ Train Loss: 0.0001 | Train Acc: 1.0000\n",
      "│ Val Loss:   1.4550 | Val Acc:   0.7448\n",
      "│ Train Time: 26.71s | Val Time: 3.28s\n",
      "│ Total Epoch Time: 30.00s\n",
      "│ Best Val Loss: 0.8702 (Epoch 1)\n",
      "│ GPU Memory: 0.4GB / 3.2GB\n",
      "================================================================================\n",
      "\n",
      "📈 Epoch 40/50\n",
      "--------------------------------------------------\n",
      "🔄 Training Phase...\n"
     ]
    },
    {
     "name": "stderr",
     "output_type": "stream",
     "text": [
      "Training: 100%|██████████████████████████████| 48/48 [00:26<00:00,  1.78it/s, Loss=0.0015, Acc=0.9993]\n"
     ]
    },
    {
     "name": "stdout",
     "output_type": "stream",
     "text": [
      "✅ Training completed in 26.92s\n",
      "🔍 Validation Phase...\n"
     ]
    },
    {
     "name": "stderr",
     "output_type": "stream",
     "text": [
      "Validation: 100%|██████████████████████████████| 12/12 [00:03<00:00,  3.64it/s, Loss=1.7480, Acc=0.6901]\n"
     ]
    },
    {
     "name": "stdout",
     "output_type": "stream",
     "text": [
      "✅ Validation completed in 3.30s\n",
      "\n",
      "📊 Epoch 40 Summary:\n",
      "│ Train Loss: 0.0015 | Train Acc: 0.9993\n",
      "│ Val Loss:   1.7480 | Val Acc:   0.6901\n",
      "│ Train Time: 26.92s | Val Time: 3.30s\n",
      "│ Total Epoch Time: 30.23s\n",
      "│ Best Val Loss: 0.8702 (Epoch 1)\n",
      "│ GPU Memory: 0.4GB / 3.2GB\n",
      "================================================================================\n",
      "\n",
      "📈 Epoch 41/50\n",
      "--------------------------------------------------\n",
      "🔄 Training Phase...\n"
     ]
    },
    {
     "name": "stderr",
     "output_type": "stream",
     "text": [
      "Training: 100%|██████████████████████████████| 48/48 [00:26<00:00,  1.80it/s, Loss=0.0007, Acc=1.0000]\n"
     ]
    },
    {
     "name": "stdout",
     "output_type": "stream",
     "text": [
      "✅ Training completed in 26.73s\n",
      "🔍 Validation Phase...\n"
     ]
    },
    {
     "name": "stderr",
     "output_type": "stream",
     "text": [
      "Validation: 100%|██████████████████████████████| 12/12 [00:03<00:00,  3.55it/s, Loss=1.6178, Acc=0.7057]\n"
     ]
    },
    {
     "name": "stdout",
     "output_type": "stream",
     "text": [
      "✅ Validation completed in 3.38s\n",
      "\n",
      "📊 Epoch 41 Summary:\n",
      "│ Train Loss: 0.0007 | Train Acc: 1.0000\n",
      "│ Val Loss:   1.6178 | Val Acc:   0.7057\n",
      "│ Train Time: 26.73s | Val Time: 3.38s\n",
      "│ Total Epoch Time: 30.11s\n",
      "│ Best Val Loss: 0.8702 (Epoch 1)\n",
      "│ GPU Memory: 0.4GB / 3.2GB\n",
      "================================================================================\n",
      "\n",
      "📈 Epoch 42/50\n",
      "--------------------------------------------------\n",
      "🔄 Training Phase...\n"
     ]
    },
    {
     "name": "stderr",
     "output_type": "stream",
     "text": [
      "Training: 100%|██████████████████████████████| 48/48 [00:26<00:00,  1.78it/s, Loss=0.0014, Acc=1.0000]\n"
     ]
    },
    {
     "name": "stdout",
     "output_type": "stream",
     "text": [
      "✅ Training completed in 26.93s\n",
      "🔍 Validation Phase...\n"
     ]
    },
    {
     "name": "stderr",
     "output_type": "stream",
     "text": [
      "Validation: 100%|██████████████████████████████| 12/12 [00:03<00:00,  3.63it/s, Loss=1.7209, Acc=0.6823]\n"
     ]
    },
    {
     "name": "stdout",
     "output_type": "stream",
     "text": [
      "✅ Validation completed in 3.31s\n",
      "\n",
      "📊 Epoch 42 Summary:\n",
      "│ Train Loss: 0.0014 | Train Acc: 1.0000\n",
      "│ Val Loss:   1.7209 | Val Acc:   0.6823\n",
      "│ Train Time: 26.93s | Val Time: 3.31s\n",
      "│ Total Epoch Time: 30.24s\n",
      "│ Best Val Loss: 0.8702 (Epoch 1)\n",
      "│ GPU Memory: 0.4GB / 3.2GB\n",
      "================================================================================\n",
      "\n",
      "📈 Epoch 43/50\n",
      "--------------------------------------------------\n",
      "🔄 Training Phase...\n"
     ]
    },
    {
     "name": "stderr",
     "output_type": "stream",
     "text": [
      "Training: 100%|██████████████████████████████| 48/48 [00:26<00:00,  1.81it/s, Loss=0.0045, Acc=0.9987]\n"
     ]
    },
    {
     "name": "stdout",
     "output_type": "stream",
     "text": [
      "✅ Training completed in 26.59s\n",
      "🔍 Validation Phase...\n"
     ]
    },
    {
     "name": "stderr",
     "output_type": "stream",
     "text": [
      "Validation: 100%|██████████████████████████████| 12/12 [00:03<00:00,  3.63it/s, Loss=1.6189, Acc=0.6849]\n"
     ]
    },
    {
     "name": "stdout",
     "output_type": "stream",
     "text": [
      "✅ Validation completed in 3.31s\n",
      "\n",
      "📊 Epoch 43 Summary:\n",
      "│ Train Loss: 0.0045 | Train Acc: 0.9987\n",
      "│ Val Loss:   1.6189 | Val Acc:   0.6849\n",
      "│ Train Time: 26.59s | Val Time: 3.31s\n",
      "│ Total Epoch Time: 29.90s\n",
      "│ Best Val Loss: 0.8702 (Epoch 1)\n",
      "│ GPU Memory: 0.4GB / 3.2GB\n",
      "================================================================================\n",
      "\n",
      "📈 Epoch 44/50\n",
      "--------------------------------------------------\n",
      "🔄 Training Phase...\n"
     ]
    },
    {
     "name": "stderr",
     "output_type": "stream",
     "text": [
      "Training: 100%|██████████████████████████████| 48/48 [00:26<00:00,  1.80it/s, Loss=0.0009, Acc=1.0000]\n"
     ]
    },
    {
     "name": "stdout",
     "output_type": "stream",
     "text": [
      "✅ Training completed in 26.67s\n",
      "🔍 Validation Phase...\n"
     ]
    },
    {
     "name": "stderr",
     "output_type": "stream",
     "text": [
      "Validation: 100%|██████████████████████████████| 12/12 [00:03<00:00,  3.64it/s, Loss=1.6183, Acc=0.6901]\n"
     ]
    },
    {
     "name": "stdout",
     "output_type": "stream",
     "text": [
      "✅ Validation completed in 3.30s\n",
      "\n",
      "📊 Epoch 44 Summary:\n",
      "│ Train Loss: 0.0009 | Train Acc: 1.0000\n",
      "│ Val Loss:   1.6183 | Val Acc:   0.6901\n",
      "│ Train Time: 26.67s | Val Time: 3.30s\n",
      "│ Total Epoch Time: 29.98s\n",
      "│ Best Val Loss: 0.8702 (Epoch 1)\n",
      "│ GPU Memory: 0.4GB / 3.2GB\n",
      "================================================================================\n",
      "\n",
      "📈 Epoch 45/50\n",
      "--------------------------------------------------\n",
      "🔄 Training Phase...\n"
     ]
    },
    {
     "name": "stderr",
     "output_type": "stream",
     "text": [
      "Training: 100%|██████████████████████████████| 48/48 [00:26<00:00,  1.80it/s, Loss=0.0007, Acc=0.9993]\n"
     ]
    },
    {
     "name": "stdout",
     "output_type": "stream",
     "text": [
      "✅ Training completed in 26.73s\n",
      "🔍 Validation Phase...\n"
     ]
    },
    {
     "name": "stderr",
     "output_type": "stream",
     "text": [
      "Validation: 100%|██████████████████████████████| 12/12 [00:03<00:00,  3.58it/s, Loss=1.6785, Acc=0.6406]\n"
     ]
    },
    {
     "name": "stdout",
     "output_type": "stream",
     "text": [
      "✅ Validation completed in 3.35s\n",
      "\n",
      "📊 Epoch 45 Summary:\n",
      "│ Train Loss: 0.0007 | Train Acc: 0.9993\n",
      "│ Val Loss:   1.6785 | Val Acc:   0.6406\n",
      "│ Train Time: 26.73s | Val Time: 3.35s\n",
      "│ Total Epoch Time: 30.08s\n",
      "│ Best Val Loss: 0.8702 (Epoch 1)\n",
      "│ GPU Memory: 0.4GB / 3.2GB\n",
      "================================================================================\n",
      "\n",
      "📈 Epoch 46/50\n",
      "--------------------------------------------------\n",
      "🔄 Training Phase...\n"
     ]
    },
    {
     "name": "stderr",
     "output_type": "stream",
     "text": [
      "Training: 100%|██████████████████████████████| 48/48 [00:26<00:00,  1.81it/s, Loss=0.0011, Acc=0.9993]\n"
     ]
    },
    {
     "name": "stdout",
     "output_type": "stream",
     "text": [
      "✅ Training completed in 26.54s\n",
      "🔍 Validation Phase...\n"
     ]
    },
    {
     "name": "stderr",
     "output_type": "stream",
     "text": [
      "Validation: 100%|██████████████████████████████| 12/12 [00:03<00:00,  3.57it/s, Loss=1.8847, Acc=0.6901]\n"
     ]
    },
    {
     "name": "stdout",
     "output_type": "stream",
     "text": [
      "✅ Validation completed in 3.37s\n",
      "\n",
      "📊 Epoch 46 Summary:\n",
      "│ Train Loss: 0.0011 | Train Acc: 0.9993\n",
      "│ Val Loss:   1.8847 | Val Acc:   0.6901\n",
      "│ Train Time: 26.54s | Val Time: 3.37s\n",
      "│ Total Epoch Time: 29.91s\n",
      "│ Best Val Loss: 0.8702 (Epoch 1)\n",
      "│ GPU Memory: 0.4GB / 3.2GB\n",
      "================================================================================\n",
      "\n",
      "📈 Epoch 47/50\n",
      "--------------------------------------------------\n",
      "🔄 Training Phase...\n"
     ]
    },
    {
     "name": "stderr",
     "output_type": "stream",
     "text": [
      "Training: 100%|██████████████████████████████| 48/48 [00:26<00:00,  1.80it/s, Loss=0.0033, Acc=0.9987]\n"
     ]
    },
    {
     "name": "stdout",
     "output_type": "stream",
     "text": [
      "✅ Training completed in 26.67s\n",
      "🔍 Validation Phase...\n"
     ]
    },
    {
     "name": "stderr",
     "output_type": "stream",
     "text": [
      "Validation: 100%|██████████████████████████████| 12/12 [00:03<00:00,  3.63it/s, Loss=2.2796, Acc=0.6589]\n"
     ]
    },
    {
     "name": "stdout",
     "output_type": "stream",
     "text": [
      "✅ Validation completed in 3.31s\n",
      "\n",
      "📊 Epoch 47 Summary:\n",
      "│ Train Loss: 0.0033 | Train Acc: 0.9987\n",
      "│ Val Loss:   2.2796 | Val Acc:   0.6589\n",
      "│ Train Time: 26.67s | Val Time: 3.31s\n",
      "│ Total Epoch Time: 29.98s\n",
      "│ Best Val Loss: 0.8702 (Epoch 1)\n",
      "│ GPU Memory: 0.4GB / 3.2GB\n",
      "================================================================================\n",
      "\n",
      "📈 Epoch 48/50\n",
      "--------------------------------------------------\n",
      "🔄 Training Phase...\n"
     ]
    },
    {
     "name": "stderr",
     "output_type": "stream",
     "text": [
      "Training: 100%|██████████████████████████████| 48/48 [00:26<00:00,  1.81it/s, Loss=0.0211, Acc=0.9934]\n"
     ]
    },
    {
     "name": "stdout",
     "output_type": "stream",
     "text": [
      "✅ Training completed in 26.56s\n",
      "🔍 Validation Phase...\n"
     ]
    },
    {
     "name": "stderr",
     "output_type": "stream",
     "text": [
      "Validation: 100%|██████████████████████████████| 12/12 [00:03<00:00,  3.70it/s, Loss=1.3085, Acc=0.7396]\n"
     ]
    },
    {
     "name": "stdout",
     "output_type": "stream",
     "text": [
      "✅ Validation completed in 3.25s\n",
      "\n",
      "📊 Epoch 48 Summary:\n",
      "│ Train Loss: 0.0211 | Train Acc: 0.9934\n",
      "│ Val Loss:   1.3085 | Val Acc:   0.7396\n",
      "│ Train Time: 26.56s | Val Time: 3.25s\n",
      "│ Total Epoch Time: 29.81s\n",
      "│ Best Val Loss: 0.8702 (Epoch 1)\n",
      "│ GPU Memory: 0.4GB / 3.2GB\n",
      "================================================================================\n",
      "\n",
      "📈 Epoch 49/50\n",
      "--------------------------------------------------\n",
      "🔄 Training Phase...\n"
     ]
    },
    {
     "name": "stderr",
     "output_type": "stream",
     "text": [
      "Training: 100%|██████████████████████████████| 48/48 [00:26<00:00,  1.81it/s, Loss=0.0337, Acc=0.9908]\n"
     ]
    },
    {
     "name": "stdout",
     "output_type": "stream",
     "text": [
      "✅ Training completed in 26.51s\n",
      "🔍 Validation Phase...\n"
     ]
    },
    {
     "name": "stderr",
     "output_type": "stream",
     "text": [
      "Validation: 100%|██████████████████████████████| 12/12 [00:03<00:00,  3.69it/s, Loss=1.4539, Acc=0.7240]\n"
     ]
    },
    {
     "name": "stdout",
     "output_type": "stream",
     "text": [
      "✅ Validation completed in 3.26s\n",
      "\n",
      "📊 Epoch 49 Summary:\n",
      "│ Train Loss: 0.0337 | Train Acc: 0.9908\n",
      "│ Val Loss:   1.4539 | Val Acc:   0.7240\n",
      "│ Train Time: 26.51s | Val Time: 3.26s\n",
      "│ Total Epoch Time: 29.77s\n",
      "│ Best Val Loss: 0.8702 (Epoch 1)\n",
      "│ GPU Memory: 0.4GB / 3.2GB\n",
      "================================================================================\n",
      "\n",
      "📈 Epoch 50/50\n",
      "--------------------------------------------------\n",
      "🔄 Training Phase...\n"
     ]
    },
    {
     "name": "stderr",
     "output_type": "stream",
     "text": [
      "Training: 100%|██████████████████████████████| 48/48 [00:26<00:00,  1.79it/s, Loss=0.0073, Acc=0.9980]\n"
     ]
    },
    {
     "name": "stdout",
     "output_type": "stream",
     "text": [
      "✅ Training completed in 26.76s\n",
      "🔍 Validation Phase...\n"
     ]
    },
    {
     "name": "stderr",
     "output_type": "stream",
     "text": [
      "Validation: 100%|██████████████████████████████| 12/12 [00:03<00:00,  3.69it/s, Loss=1.3643, Acc=0.7526]\n"
     ]
    },
    {
     "name": "stdout",
     "output_type": "stream",
     "text": [
      "✅ Validation completed in 3.26s\n",
      "\n",
      "📊 Epoch 50 Summary:\n",
      "│ Train Loss: 0.0073 | Train Acc: 0.9980\n",
      "│ Val Loss:   1.3643 | Val Acc:   0.7526\n",
      "│ Train Time: 26.76s | Val Time: 3.26s\n",
      "│ Total Epoch Time: 30.02s\n",
      "│ Best Val Loss: 0.8702 (Epoch 1)\n",
      "│ GPU Memory: 0.4GB / 3.2GB\n",
      "================================================================================\n",
      "\n",
      "💾 Best model saved as 'best_cricket_resnet50.pth'\n",
      "📊 Best model stats:\n",
      "│ Best Epoch: 1\n",
      "│ Best Val Loss: 0.8702\n",
      "│ Best Val Acc: 0.7135\n",
      "\n",
      "💾 Training history saved to 'cricket_training_history_resnet50_pretrained.csv'\n",
      "\n",
      "🎉 Fine-tuning Complete!\n",
      "Total Training Time: 1499.41s (25.0 minutes)\n",
      "Average Epoch Time: 29.99s\n",
      "\n",
      "🧪 Loading Best Model for Testing...\n",
      "✅ Best model from epoch 1 loaded successfully!\n"
     ]
    },
    {
     "name": "stderr",
     "output_type": "stream",
     "text": [
      "Testing: 100%|██████████████████████████████| 16/16 [00:06<00:00,  2.51it/s]\n"
     ]
    },
    {
     "name": "stdout",
     "output_type": "stream",
     "text": [
      "✅ Testing completed in 6.37s\n",
      "\n",
      "📋 Classification Report:\n",
      "              precision    recall  f1-score   support\n",
      "\n",
      "   fast_bowl       0.75      0.70      0.72       304\n",
      "   spin_bowl       0.55      0.61      0.58       184\n",
      "\n",
      "    accuracy                           0.67       488\n",
      "   macro avg       0.65      0.65      0.65       488\n",
      "weighted avg       0.67      0.67      0.67       488\n",
      "\n",
      "🎯 Test Accuracy: 0.6660\n",
      "\n",
      "📊 Cricket Classification Performance:\n",
      "│ Best Validation Loss: 0.8702 (Epoch 1)\n",
      "│ Best Validation Acc:  0.7135 (Epoch 1)\n",
      "│ Final Test Accuracy:  0.6660\n",
      "│ Val-Test Gap:         0.0476\n",
      "\n",
      "💾 Files saved:\n",
      "│ best_cricket_resnet50.pth - Best model weights\n",
      "│ cricket_training_history.csv - Training metrics\n"
     ]
    },
    {
     "data": {
      "image/png": "[encoded data removed]",
      "text/plain": [
       "<Figure size 1000x800 with 2 Axes>"
      ]
     },
     "metadata": {},
     "output_type": "display_data"
    },
    {
     "data": {
      "image/png": "[encoded data removed]",
      "text/plain": [
       "<Figure size 1500x500 with 3 Axes>"
      ]
     },
     "metadata": {},
     "output_type": "display_data"
    },
    {
     "name": "stdout",
     "output_type": "stream",
     "text": [
      "\n",
      "⏰ Final Timing Summary:\n",
      "│ Total Training: 1499.41s (25.0 min)\n",
      "│ Average per Epoch: 29.99s\n",
      "│ Testing Time: 6.37s\n",
      "│ Total Runtime: 1505.78s\n"
     ]
    }
   ],
   "source": [
    "import torch.optim as optim\n",
    "from sklearn.metrics import accuracy_score, classification_report, confusion_matrix\n",
    "import pandas as pd\n",
    "import matplotlib.pyplot as plt\n",
    "\n",
    "# -----------------------------\n",
    "# 3. Training Setup\n",
    "# -----------------------------\n",
    "criterion = nn.CrossEntropyLoss()\n",
    "optimizer = optim.Adam(model.parameters(), lr=1e-4)  # Lower LR for fine-tuning\n",
    "\n",
    "print(f\"\\n📋 Training Configuration:\")\n",
    "print(f\"│ Optimizer: Adam (lr={optimizer.param_groups[0]['lr']})\")\n",
    "print(f\"│ Loss Function: CrossEntropyLoss\")\n",
    "print(f\"│ Batch Size: 32\")\n",
    "print(f\"│ Device: {device}\")\n",
    "\n",
    "# -----------------------------\n",
    "# 4. Training Loop with Model Saving\n",
    "# -----------------------------\n",
    "train_losses, val_losses = [], []\n",
    "train_accs, val_accs = [], []\n",
    "epoch_times = []\n",
    "epochs = 50\n",
    "\n",
    "# Initialize best model tracking (using val_loss for fine-tuning)\n",
    "best_val_loss = float('inf')\n",
    "best_model_state = None\n",
    "best_epoch = 0\n",
    "best_val_acc = 0.0\n",
    "\n",
    "print(f\"\\n🚀 Starting Fine-tuning for {epochs} epochs...\")\n",
    "print(\"=\" * 80)\n",
    "total_start_time = time.time()\n",
    "\n",
    "for epoch in range(epochs):\n",
    "    epoch_start_time = time.time()\n",
    "    \n",
    "    print(f\"\\n📈 Epoch {epoch+1}/{epochs}\")\n",
    "    print(\"-\" * 50)\n",
    "    \n",
    "    # Training Phase\n",
    "    print(\"🔄 Training Phase...\")\n",
    "    model.train()\n",
    "    running_loss, correct, total = 0, 0, 0\n",
    "    \n",
    "    train_pbar = tqdm(train_loader, desc=\"Training\", \n",
    "                     bar_format='{l_bar}{bar:30}{r_bar}{bar:-30b}')\n",
    "    \n",
    "    train_phase_start = time.time()\n",
    "    \n",
    "    for batch_idx, (imgs, labels) in enumerate(train_pbar):\n",
    "        imgs, labels = imgs.to(device), labels.to(device)\n",
    "        \n",
    "        optimizer.zero_grad()\n",
    "        outputs = model(imgs)\n",
    "        loss = criterion(outputs, labels)\n",
    "        loss.backward()\n",
    "        optimizer.step()\n",
    "        \n",
    "        running_loss += loss.item()\n",
    "        _, preds = torch.max(outputs, 1)\n",
    "        correct += (preds == labels).sum().item()\n",
    "        total += labels.size(0)\n",
    "        \n",
    "        current_acc = correct / total\n",
    "        train_pbar.set_postfix({\n",
    "            'Loss': f'{running_loss/(batch_idx+1):.4f}',\n",
    "            'Acc': f'{current_acc:.4f}'\n",
    "        })\n",
    "        \n",
    "        if device.type == 'cuda' and batch_idx % 10 == 0:\n",
    "            gpu_memory = torch.cuda.memory_allocated() / 1024**3\n",
    "            train_pbar.set_postfix({\n",
    "                'Loss': f'{running_loss/(batch_idx+1):.4f}',\n",
    "                'Acc': f'{current_acc:.4f}',\n",
    "                'GPU': f'{gpu_memory:.1f}GB'\n",
    "            })\n",
    "    \n",
    "    train_phase_time = time.time() - train_phase_start\n",
    "    train_loss = running_loss / len(train_loader)\n",
    "    train_acc = correct / total\n",
    "    train_losses.append(train_loss)\n",
    "    train_accs.append(train_acc)\n",
    "    \n",
    "    print(f\"✅ Training completed in {train_phase_time:.2f}s\")\n",
    "    \n",
    "    # Validation Phase\n",
    "    print(\"🔍 Validation Phase...\")\n",
    "    model.eval()\n",
    "    running_loss, correct, total = 0, 0, 0\n",
    "    \n",
    "    val_phase_start = time.time()\n",
    "    val_pbar = tqdm(val_loader, desc=\"Validation\", \n",
    "                   bar_format='{l_bar}{bar:30}{r_bar}{bar:-30b}')\n",
    "    \n",
    "    with torch.no_grad():\n",
    "        for batch_idx, (imgs, labels) in enumerate(val_pbar):\n",
    "            imgs, labels = imgs.to(device), labels.to(device)\n",
    "            outputs = model(imgs)\n",
    "            loss = criterion(outputs, labels)\n",
    "            \n",
    "            running_loss += loss.item()\n",
    "            _, preds = torch.max(outputs, 1)\n",
    "            correct += (preds == labels).sum().item()\n",
    "            total += labels.size(0)\n",
    "            \n",
    "            current_acc = correct / total\n",
    "            val_pbar.set_postfix({\n",
    "                'Loss': f'{running_loss/(batch_idx+1):.4f}',\n",
    "                'Acc': f'{current_acc:.4f}'\n",
    "            })\n",
    "    \n",
    "    val_phase_time = time.time() - val_phase_start\n",
    "    val_loss = running_loss / len(val_loader)\n",
    "    val_acc = correct / total\n",
    "    val_losses.append(val_loss)\n",
    "    val_accs.append(val_acc)\n",
    "    \n",
    "    print(f\"✅ Validation completed in {val_phase_time:.2f}s\")\n",
    "    \n",
    "    # Check if this is the best model (using val_loss for fine-tuning)\n",
    "    is_best = val_loss < best_val_loss\n",
    "    if is_best:\n",
    "        best_val_loss = val_loss\n",
    "        best_val_acc = val_acc\n",
    "        best_epoch = epoch + 1\n",
    "        best_model_state = model.state_dict().copy()\n",
    "        print(f\"🌟 New best model found! Validation Loss: {val_loss:.4f}\")\n",
    "    \n",
    "    # Epoch Summary\n",
    "    epoch_time = time.time() - epoch_start_time\n",
    "    epoch_times.append(epoch_time)\n",
    "    \n",
    "    print(f\"\\n📊 Epoch {epoch+1} Summary:\")\n",
    "    print(f\"│ Train Loss: {train_loss:.4f} | Train Acc: {train_acc:.4f}\")\n",
    "    print(f\"│ Val Loss:   {val_loss:.4f} | Val Acc:   {val_acc:.4f}\")\n",
    "    print(f\"│ Train Time: {train_phase_time:.2f}s | Val Time: {val_phase_time:.2f}s\")\n",
    "    print(f\"│ Total Epoch Time: {epoch_time:.2f}s\")\n",
    "    print(f\"│ Best Val Loss: {best_val_loss:.4f} (Epoch {best_epoch})\")\n",
    "    \n",
    "    if device.type == 'cuda':\n",
    "        print(f\"│ GPU Memory: {torch.cuda.memory_allocated()/1024**3:.1f}GB / {torch.cuda.memory_reserved()/1024**3:.1f}GB\")\n",
    "    \n",
    "    print(\"=\" * 80)\n",
    "\n",
    "total_training_time = time.time() - total_start_time\n",
    "\n",
    "# Save the best model\n",
    "if best_model_state is not None:\n",
    "    torch.save(best_model_state, 'best_cricket_resnet50_pretrained.pth')\n",
    "    print(f\"\\n💾 Best model saved as 'best_cricket_resnet50.pth'\")\n",
    "    print(f\"📊 Best model stats:\")\n",
    "    print(f\"│ Best Epoch: {best_epoch}\")\n",
    "    print(f\"│ Best Val Loss: {best_val_loss:.4f}\")\n",
    "    print(f\"│ Best Val Acc: {best_val_acc:.4f}\")\n",
    "\n",
    "# Save training history\n",
    "history_data = {\n",
    "    'epoch': list(range(1, epochs+1)),\n",
    "    'train_loss': train_losses,\n",
    "    'val_loss': val_losses,\n",
    "    'train_acc': train_accs,\n",
    "    'val_acc': val_accs,\n",
    "    'epoch_time': epoch_times\n",
    "}\n",
    "\n",
    "history_df = pd.DataFrame(history_data)\n",
    "history_df.to_csv('cricket_training_history_resnet50_pretrained.csv', index=False)\n",
    "print(\"\\n💾 Training history saved to 'cricket_training_history_resnet50_pretrained.csv'\")\n",
    "\n",
    "print(f\"\\n🎉 Fine-tuning Complete!\")\n",
    "print(f\"Total Training Time: {total_training_time:.2f}s ({total_training_time/60:.1f} minutes)\")\n",
    "print(f\"Average Epoch Time: {np.mean(epoch_times):.2f}s\")\n",
    "\n",
    "# -----------------------------\n",
    "# 5. Load Best Model and Test\n",
    "# -----------------------------\n",
    "print(f\"\\n🧪 Loading Best Model for Testing...\")\n",
    "if best_model_state is not None:\n",
    "    model.load_state_dict(best_model_state)\n",
    "    print(f\"✅ Best model from epoch {best_epoch} loaded successfully!\")\n",
    "\n",
    "test_start_time = time.time()\n",
    "y_true, y_pred = [], []\n",
    "model.eval()\n",
    "test_pbar = tqdm(test_loader, desc=\"Testing\", \n",
    "                bar_format='{l_bar}{bar:30}{r_bar}{bar:-30b}')\n",
    "\n",
    "with torch.no_grad():\n",
    "    for imgs, labels in test_pbar:\n",
    "        imgs, labels = imgs.to(device), labels.to(device)\n",
    "        outputs = model(imgs)\n",
    "        _, preds = torch.max(outputs, 1)\n",
    "        y_true.extend(labels.cpu().numpy())\n",
    "        y_pred.extend(preds.cpu().numpy())\n",
    "\n",
    "test_time = time.time() - test_start_time\n",
    "test_accuracy = accuracy_score(y_true, y_pred)\n",
    "\n",
    "print(f\"✅ Testing completed in {test_time:.2f}s\")\n",
    "print(\"\\n📋 Classification Report:\")\n",
    "print(classification_report(y_true, y_pred, target_names=classes))\n",
    "print(f\"🎯 Test Accuracy: {test_accuracy:.4f}\")\n",
    "\n",
    "# Performance Summary\n",
    "print(f\"\\n📊 Cricket Classification Performance:\")\n",
    "print(f\"│ Best Validation Loss: {best_val_loss:.4f} (Epoch {best_epoch})\")\n",
    "print(f\"│ Best Validation Acc:  {best_val_acc:.4f} (Epoch {best_epoch})\")\n",
    "print(f\"│ Final Test Accuracy:  {test_accuracy:.4f}\")\n",
    "print(f\"│ Val-Test Gap:         {abs(best_val_acc - test_accuracy):.4f}\")\n",
    "\n",
    "print(f\"\\n💾 Files saved:\")\n",
    "print(f\"│ best_cricket_resnet50.pth - Best model weights\")\n",
    "print(f\"│ cricket_training_history.csv - Training metrics\")\n",
    "\n",
    "# -----------------------------\n",
    "# 6. Visualizations\n",
    "# -----------------------------\n",
    "# Confusion Matrix\n",
    "cm = confusion_matrix(y_true, y_pred)\n",
    "plt.figure(figsize=(10, 8))\n",
    "sns.heatmap(cm, annot=True, fmt=\"d\", cmap=\"Blues\", \n",
    "            xticklabels=classes, yticklabels=classes)\n",
    "plt.xlabel(\"Predicted\")\n",
    "plt.ylabel(\"True\")\n",
    "plt.title(f\"Cricket Classification - Confusion Matrix (Epoch {best_epoch})\")\n",
    "plt.tight_layout()\n",
    "plt.show()\n",
    "\n",
    "# Training Curves\n",
    "plt.figure(figsize=(15, 5))\n",
    "\n",
    "# Loss Plot\n",
    "plt.subplot(1, 3, 1)\n",
    "plt.plot(range(1, epochs+1), train_losses, 'b-', label=\"Train Loss\", marker='o', linewidth=2)\n",
    "plt.plot(range(1, epochs+1), val_losses, 'r-', label=\"Val Loss\", marker='s', linewidth=2)\n",
    "plt.axvline(x=best_epoch, color='green', linestyle='--', alpha=0.7, label=f'Best (Epoch {best_epoch})')\n",
    "plt.scatter([best_epoch], [best_val_loss], color='green', s=100, zorder=5)\n",
    "plt.legend()\n",
    "plt.title(\"Loss over Epochs\")\n",
    "plt.xlabel(\"Epoch\")\n",
    "plt.ylabel(\"Loss\")\n",
    "plt.grid(True, alpha=0.3)\n",
    "\n",
    "# Accuracy Plot\n",
    "plt.subplot(1, 3, 2)\n",
    "plt.plot(range(1, epochs+1), train_accs, 'b-', label=\"Train Accuracy\", marker='o', linewidth=2)\n",
    "plt.plot(range(1, epochs+1), val_accs, 'r-', label=\"Val Accuracy\", marker='s', linewidth=2)\n",
    "plt.axvline(x=best_epoch, color='green', linestyle='--', alpha=0.7, label=f'Best (Epoch {best_epoch})')\n",
    "plt.scatter([best_epoch], [best_val_acc], color='green', s=100, zorder=5)\n",
    "plt.legend()\n",
    "plt.title(\"Accuracy over Epochs\")\n",
    "plt.xlabel(\"Epoch\")\n",
    "plt.ylabel(\"Accuracy\")\n",
    "plt.grid(True, alpha=0.3)\n",
    "\n",
    "# Final Performance\n",
    "plt.subplot(1, 3, 3)\n",
    "metrics = ['Best Val Acc', 'Test Acc']\n",
    "values = [best_val_acc, test_accuracy]\n",
    "colors = ['orange', 'green']\n",
    "bars = plt.bar(metrics, values, color=colors, alpha=0.7)\n",
    "plt.title(\"Final Model Performance\")\n",
    "plt.ylabel(\"Accuracy\")\n",
    "plt.ylim(0, 1)\n",
    "plt.grid(True, alpha=0.3)\n",
    "for bar, val in zip(bars, values):\n",
    "    plt.text(bar.get_x() + bar.get_width()/2, val + 0.01, \n",
    "             f'{val:.4f}', ha='center', va='bottom')\n",
    "\n",
    "plt.tight_layout()\n",
    "plt.show()\n",
    "\n",
    "# Final Summary\n",
    "print(f\"\\n⏰ Final Timing Summary:\")\n",
    "print(f\"│ Total Training: {total_training_time:.2f}s ({total_training_time/60:.1f} min)\")\n",
    "print(f\"│ Average per Epoch: {np.mean(epoch_times):.2f}s\")\n",
    "print(f\"│ Testing Time: {test_time:.2f}s\")\n",
    "print(f\"│ Total Runtime: {total_training_time + test_time:.2f}s\")"
   ]
  }
 ],
 "metadata": {
  "kaggle": {
   "accelerator": "nvidiaTeslaT4",
   "dataSources": [
    {
     "datasetId": 7735666,
     "sourceId": 12275446,
     "sourceType": "datasetVersion"
    }
   ],
   "dockerImageVersionId": 31090,
   "isGpuEnabled": true,
   "isInternetEnabled": true,
   "language": "python",
   "sourceType": "notebook"
  },
  "kernelspec": {
   "display_name": "Python 3",
   "language": "python",
   "name": "python3"
  },
  "language_info": {
   "codemirror_mode": {
    "name": "ipython",
    "version": 3
   },
   "file_extension": ".py",
   "mimetype": "text/x-python",
   "name": "python",
   "nbconvert_exporter": "python",
   "pygments_lexer": "ipython3",
   "version": "3.11.13"
  },
  "papermill": {
   "default_parameters": {},
   "duration": 1536.720512,
   "end_time": "2025-09-08T07:43:24.074294",
   "environment_variables": {},
   "exception": null,
   "input_path": "__notebook__.ipynb",
   "output_path": "__notebook__.ipynb",
   "parameters": {},
   "start_time": "2025-09-08T07:17:47.353782",
   "version": "2.6.0"
  }
 },
 "nbformat": 4,
 "nbformat_minor": 5
}
