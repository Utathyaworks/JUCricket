{
 "cells": [
  {
   "cell_type": "code",
   "execution_count": 1,
   "id": "d52c7b5e",
   "metadata": {
    "_cell_guid": "b1076dfc-b9ad-4769-8c92-a6c4dae69d19",
    "_uuid": "8f2839f25d086af736a60e9eeb907d3b93b6e0e5",
    "execution": {
     "iopub.execute_input": "2025-09-08T07:14:31.985010Z",
     "iopub.status.busy": "2025-09-08T07:14:31.984792Z",
     "iopub.status.idle": "2025-09-08T07:14:41.816981Z",
     "shell.execute_reply": "2025-09-08T07:14:41.816237Z"
    },
    "papermill": {
     "duration": 9.837559,
     "end_time": "2025-09-08T07:14:41.818314",
     "exception": false,
     "start_time": "2025-09-08T07:14:31.980755",
     "status": "completed"
    },
    "tags": []
   },
   "outputs": [
    {
     "name": "stdout",
     "output_type": "stream",
     "text": [
      "Batting Subclasses: ['fast_bowl', 'spin_bowl']\n",
      "Train samples: 1710 Val samples: 432 Test samples: 549\n"
     ]
    }
   ],
   "source": [
    "import torch\n",
    "from torch.utils.data import DataLoader\n",
    "from torchvision import datasets, transforms\n",
    "\n",
    "# -----------------------------\n",
    "# 1. Data Preprocessing (Batting Subclasses)\n",
    "# -----------------------------\n",
    "base_dir = \"/kaggle/input/ju-cricket/Cricket_Dataset_final/Task_B\"\n",
    "\n",
    "transform = transforms.Compose([\n",
    "    transforms.Resize((224, 224)),   \n",
    "    transforms.ToTensor(),\n",
    "    transforms.Normalize([0.485, 0.456, 0.406], \n",
    "                         [0.229, 0.224, 0.225])\n",
    "])\n",
    "\n",
    "# Point directly inside Batting folder\n",
    "train_ds = datasets.ImageFolder(f\"{base_dir}/train/Bowling\", transform=transform)\n",
    "val_ds   = datasets.ImageFolder(f\"{base_dir}/val/Bowling\", transform=transform)\n",
    "test_ds  = datasets.ImageFolder(f\"{base_dir}/test/Bowling\", transform=transform)\n",
    "\n",
    "train_loader = DataLoader(train_ds, batch_size=32, shuffle=True)\n",
    "val_loader   = DataLoader(val_ds, batch_size=32, shuffle=False)\n",
    "test_loader  = DataLoader(test_ds, batch_size=32, shuffle=False)\n",
    "\n",
    "classes = train_ds.classes\n",
    "print(\"Batting Subclasses:\", classes)\n",
    "print(\"Train samples:\", len(train_ds), \"Val samples:\", len(val_ds), \"Test samples:\", len(test_ds))\n"
   ]
  },
  {
   "cell_type": "code",
   "execution_count": 2,
   "id": "094e1a0b",
   "metadata": {
    "execution": {
     "iopub.execute_input": "2025-09-08T07:14:41.825370Z",
     "iopub.status.busy": "2025-09-08T07:14:41.825050Z",
     "iopub.status.idle": "2025-09-08T07:14:41.829597Z",
     "shell.execute_reply": "2025-09-08T07:14:41.828804Z"
    },
    "papermill": {
     "duration": 0.009093,
     "end_time": "2025-09-08T07:14:41.830771",
     "exception": false,
     "start_time": "2025-09-08T07:14:41.821678",
     "status": "completed"
    },
    "tags": []
   },
   "outputs": [
    {
     "name": "stdout",
     "output_type": "stream",
     "text": [
      "Total training images: 1710\n",
      "Total validation images: 432\n",
      "Total test images: 549\n",
      "Total images in dataset: 2691\n"
     ]
    }
   ],
   "source": [
    "print(\"Total training images:\", len(train_ds))\n",
    "print(\"Total validation images:\", len(val_ds))\n",
    "print(\"Total test images:\", len(test_ds))\n",
    "\n",
    "total_images = len(train_ds) + len(val_ds) + len(test_ds)\n",
    "print(\"Total images in dataset:\", total_images)"
   ]
  },
  {
   "cell_type": "code",
   "execution_count": 3,
   "id": "60177879",
   "metadata": {
    "execution": {
     "iopub.execute_input": "2025-09-08T07:14:41.836886Z",
     "iopub.status.busy": "2025-09-08T07:14:41.836672Z",
     "iopub.status.idle": "2025-09-08T07:14:41.843711Z",
     "shell.execute_reply": "2025-09-08T07:14:41.843125Z"
    },
    "papermill": {
     "duration": 0.011145,
     "end_time": "2025-09-08T07:14:41.844748",
     "exception": false,
     "start_time": "2025-09-08T07:14:41.833603",
     "status": "completed"
    },
    "tags": []
   },
   "outputs": [
    {
     "name": "stdout",
     "output_type": "stream",
     "text": [
      "Training images (excluding 'random_occlusion'): 1520\n",
      "Validation images (excluding 'random_occlusion'): 384\n",
      "Test images (excluding 'random_occlusion'): 488\n",
      "Total images (excluding 'random_occlusion'): 2392\n"
     ]
    }
   ],
   "source": [
    "ignore_folder = \"random_occlusion\"\n",
    "\n",
    "def count_images_ignore_folder(dataset, ignore_folder):\n",
    "    count = 0\n",
    "    for img_path, label in dataset.samples:\n",
    "        # Skip if the image path contains the ignore_folder\n",
    "        if ignore_folder not in img_path.split(\"/\"):\n",
    "            count += 1\n",
    "    return count\n",
    "\n",
    "train_count = count_images_ignore_folder(train_ds, ignore_folder)\n",
    "val_count   = count_images_ignore_folder(val_ds, ignore_folder)\n",
    "test_count  = count_images_ignore_folder(test_ds, ignore_folder)\n",
    "\n",
    "total_count = train_count + val_count + test_count\n",
    "\n",
    "print(\"Training images (excluding '{}'): {}\".format(ignore_folder, train_count))\n",
    "print(\"Validation images (excluding '{}'): {}\".format(ignore_folder, val_count))\n",
    "print(\"Test images (excluding '{}'): {}\".format(ignore_folder, test_count))\n",
    "print(\"Total images (excluding '{}'): {}\".format(ignore_folder, total_count))"
   ]
  },
  {
   "cell_type": "code",
   "execution_count": 4,
   "id": "21a6c205",
   "metadata": {
    "execution": {
     "iopub.execute_input": "2025-09-08T07:14:41.851275Z",
     "iopub.status.busy": "2025-09-08T07:14:41.851040Z",
     "iopub.status.idle": "2025-09-08T07:14:41.858859Z",
     "shell.execute_reply": "2025-09-08T07:14:41.858158Z"
    },
    "papermill": {
     "duration": 0.012373,
     "end_time": "2025-09-08T07:14:41.860142",
     "exception": false,
     "start_time": "2025-09-08T07:14:41.847769",
     "status": "completed"
    },
    "tags": []
   },
   "outputs": [
    {
     "name": "stdout",
     "output_type": "stream",
     "text": [
      "Training folders considered: {'original', 'gaussian_noise', 'blur', 'low_resolution', 'dirty_lens', 'chromatic_aberration', 'motion_blur', 'random_occlusion', 'lens_flare'}\n",
      "Validation folders considered: {'original', 'gaussian_noise', 'blur', 'low_resolution', 'dirty_lens', 'chromatic_aberration', 'motion_blur', 'random_occlusion', 'lens_flare'}\n",
      "Test folders considered: {'original', 'gaussian_noise', 'blur', 'low_resolution', 'dirty_lens', 'chromatic_aberration', 'motion_blur', 'random_occlusion', 'lens_flare'}\n"
     ]
    }
   ],
   "source": [
    "ignore_folder = \"random_occlusionw\"\n",
    "\n",
    "def get_included_folders(dataset, ignore_folder):\n",
    "    included = set()\n",
    "    for img_path, label in dataset.samples:\n",
    "        # Split the path into parts and ignore if ignore_folder is in the path\n",
    "        if ignore_folder not in img_path.split(\"/\"):\n",
    "            # The folder name just above the image (or the class folder)\n",
    "            folder_name = img_path.split(\"/\")[-2]\n",
    "            included.add(folder_name)\n",
    "    return included\n",
    "\n",
    "train_folders = get_included_folders(train_ds, ignore_folder)\n",
    "val_folders   = get_included_folders(val_ds, ignore_folder)\n",
    "test_folders  = get_included_folders(test_ds, ignore_folder)\n",
    "\n",
    "print(\"Training folders considered:\", train_folders)\n",
    "print(\"Validation folders considered:\", val_folders)\n",
    "print(\"Test folders considered:\", test_folders)"
   ]
  },
  {
   "cell_type": "code",
   "execution_count": 5,
   "id": "cb9c92b6",
   "metadata": {
    "execution": {
     "iopub.execute_input": "2025-09-08T07:14:41.866341Z",
     "iopub.status.busy": "2025-09-08T07:14:41.866141Z",
     "iopub.status.idle": "2025-09-08T07:14:41.924581Z",
     "shell.execute_reply": "2025-09-08T07:14:41.923688Z"
    },
    "papermill": {
     "duration": 0.062929,
     "end_time": "2025-09-08T07:14:41.925767",
     "exception": false,
     "start_time": "2025-09-08T07:14:41.862838",
     "status": "completed"
    },
    "tags": []
   },
   "outputs": [
    {
     "name": "stdout",
     "output_type": "stream",
     "text": [
      "Classes: ['fast_bowl', 'spin_bowl']\n",
      "Final Training images: 1520\n",
      "Final Validation images: 384\n",
      "Final Test images: 488\n",
      "Total images after filtering: 2392\n"
     ]
    }
   ],
   "source": [
    "ignore_folder = \"random_occlusion\"\n",
    "\n",
    "def filter_samples(dataset, ignore_folder):\n",
    "    # Keep only samples where ignore_folder is NOT in the path\n",
    "    filtered_samples = [s for s in dataset.samples if ignore_folder not in s[0].split(\"/\")]\n",
    "    dataset.samples = filtered_samples\n",
    "    dataset.targets = [s[1] for s in filtered_samples]  # Update targets accordingly\n",
    "    return dataset\n",
    "\n",
    "# Create original datasets\n",
    "train_ds = datasets.ImageFolder(f\"{base_dir}/train/Bowling\", transform=transform)\n",
    "val_ds   = datasets.ImageFolder(f\"{base_dir}/val/Bowling\", transform=transform)\n",
    "test_ds  = datasets.ImageFolder(f\"{base_dir}/test/Bowling\", transform=transform)\n",
    "\n",
    "# Filter out 'random_occlusion' folder\n",
    "train_ds = filter_samples(train_ds, ignore_folder)\n",
    "val_ds   = filter_samples(val_ds, ignore_folder)\n",
    "test_ds  = filter_samples(test_ds, ignore_folder)\n",
    "\n",
    "# DataLoaders\n",
    "train_loader = DataLoader(train_ds, batch_size=32, shuffle=True)\n",
    "val_loader   = DataLoader(val_ds, batch_size=32, shuffle=False)\n",
    "test_loader  = DataLoader(test_ds, batch_size=32, shuffle=False)\n",
    "\n",
    "# Classes (will remain the same)\n",
    "classes = train_ds.classes\n",
    "print(\"Classes:\", classes)\n",
    "\n",
    "# Show counts\n",
    "print(\"Final Training images:\", len(train_ds))\n",
    "print(\"Final Validation images:\", len(val_ds))\n",
    "print(\"Final Test images:\", len(test_ds))\n",
    "print(\"Total images after filtering:\", len(train_ds) + len(val_ds) + len(test_ds))"
   ]
  },
  {
   "cell_type": "code",
   "execution_count": 6,
   "id": "7fd12469",
   "metadata": {
    "execution": {
     "iopub.execute_input": "2025-09-08T07:14:41.932203Z",
     "iopub.status.busy": "2025-09-08T07:14:41.931954Z",
     "iopub.status.idle": "2025-09-08T07:14:41.939175Z",
     "shell.execute_reply": "2025-09-08T07:14:41.938602Z"
    },
    "papermill": {
     "duration": 0.011962,
     "end_time": "2025-09-08T07:14:41.940352",
     "exception": false,
     "start_time": "2025-09-08T07:14:41.928390",
     "status": "completed"
    },
    "tags": []
   },
   "outputs": [
    {
     "name": "stdout",
     "output_type": "stream",
     "text": [
      "Training folders considered: {'original', 'gaussian_noise', 'blur', 'low_resolution', 'dirty_lens', 'chromatic_aberration', 'motion_blur', 'lens_flare'}\n",
      "Validation folders considered: {'original', 'gaussian_noise', 'blur', 'low_resolution', 'dirty_lens', 'chromatic_aberration', 'motion_blur', 'lens_flare'}\n",
      "Test folders considered: {'original', 'gaussian_noise', 'blur', 'low_resolution', 'dirty_lens', 'chromatic_aberration', 'motion_blur', 'lens_flare'}\n"
     ]
    }
   ],
   "source": [
    "ignore_folder = \"random_occlusion\"\n",
    "\n",
    "def get_included_folders(dataset, ignore_folder):\n",
    "    included = set()\n",
    "    for img_path, label in dataset.samples:\n",
    "        # Split the path into parts and ignore if ignore_folder is in the path\n",
    "        if ignore_folder not in img_path.split(\"/\"):\n",
    "            # The folder name just above the image (or the class folder)\n",
    "            folder_name = img_path.split(\"/\")[-2]\n",
    "            included.add(folder_name)\n",
    "    return included\n",
    "\n",
    "train_folders = get_included_folders(train_ds, ignore_folder)\n",
    "val_folders   = get_included_folders(val_ds, ignore_folder)\n",
    "test_folders  = get_included_folders(test_ds, ignore_folder)\n",
    "\n",
    "print(\"Training folders considered:\", train_folders)\n",
    "print(\"Validation folders considered:\", val_folders)\n",
    "print(\"Test folders considered:\", test_folders)"
   ]
  },
  {
   "cell_type": "code",
   "execution_count": 7,
   "id": "2a652757",
   "metadata": {
    "execution": {
     "iopub.execute_input": "2025-09-08T07:14:41.946312Z",
     "iopub.status.busy": "2025-09-08T07:14:41.946121Z",
     "iopub.status.idle": "2025-09-08T07:14:44.701534Z",
     "shell.execute_reply": "2025-09-08T07:14:44.700772Z"
    },
    "papermill": {
     "duration": 2.760021,
     "end_time": "2025-09-08T07:14:44.703027",
     "exception": false,
     "start_time": "2025-09-08T07:14:41.943006",
     "status": "completed"
    },
    "tags": []
   },
   "outputs": [],
   "source": [
    "import seaborn as sns\n",
    "import numpy as np\n",
    "import time\n",
    "from tqdm import tqdm"
   ]
  },
  {
   "cell_type": "code",
   "execution_count": 8,
   "id": "833ccaf5",
   "metadata": {
    "execution": {
     "iopub.execute_input": "2025-09-08T07:14:44.710238Z",
     "iopub.status.busy": "2025-09-08T07:14:44.709898Z",
     "iopub.status.idle": "2025-09-08T07:14:44.888352Z",
     "shell.execute_reply": "2025-09-08T07:14:44.887584Z"
    },
    "papermill": {
     "duration": 0.183693,
     "end_time": "2025-09-08T07:14:44.889749",
     "exception": false,
     "start_time": "2025-09-08T07:14:44.706056",
     "status": "completed"
    },
    "tags": []
   },
   "outputs": [],
   "source": [
    "# -----------------------------\n",
    "# 2. Define ResNet50 Model from Scratch\n",
    "# -----------------------------\n",
    "import torch\n",
    "import torch.nn as nn\n",
    "import torch.nn.functional as F\n",
    "import numpy as np\n",
    "import matplotlib.pyplot as plt\n",
    "import seaborn as sns\n",
    "from torchsummary import summary\n",
    "from sklearn.metrics import accuracy_score, classification_report, confusion_matrix\n",
    "import pandas as pd\n",
    "from tqdm import tqdm\n",
    "import time\n",
    "\n",
    "class Bottleneck(nn.Module):\n",
    "    \"\"\"Bottleneck block for ResNet50\"\"\"\n",
    "    expansion = 4\n",
    "    \n",
    "    def __init__(self, inplanes, planes, stride=1, downsample=None):\n",
    "        super().__init__()\n",
    "        self.conv1 = nn.Conv2d(inplanes, planes, kernel_size=1, bias=False)\n",
    "        self.bn1 = nn.BatchNorm2d(planes)\n",
    "        self.conv2 = nn.Conv2d(planes, planes, kernel_size=3, stride=stride, padding=1, bias=False)\n",
    "        self.bn2 = nn.BatchNorm2d(planes)\n",
    "        self.conv3 = nn.Conv2d(planes, planes * self.expansion, kernel_size=1, bias=False)\n",
    "        self.bn3 = nn.BatchNorm2d(planes * self.expansion)\n",
    "        self.relu = nn.ReLU(inplace=True)\n",
    "        self.downsample = downsample\n",
    "        self.stride = stride\n",
    "    \n",
    "    def forward(self, x):\n",
    "        identity = x\n",
    "        \n",
    "        out = self.conv1(x)\n",
    "        out = self.bn1(out)\n",
    "        out = self.relu(out)\n",
    "        \n",
    "        out = self.conv2(out)\n",
    "        out = self.bn2(out)\n",
    "        out = self.relu(out)\n",
    "        \n",
    "        out = self.conv3(out)\n",
    "        out = self.bn3(out)\n",
    "        \n",
    "        if self.downsample is not None:\n",
    "            identity = self.downsample(x)\n",
    "        \n",
    "        out += identity\n",
    "        out = self.relu(out)\n",
    "        \n",
    "        return out\n",
    "\n",
    "class MyResNet50(nn.Module):\n",
    "    \"\"\"ResNet50 Implementation from Scratch\"\"\"\n",
    "    def __init__(self, num_classes=4, zero_init_residual=False):\n",
    "        super().__init__()\n",
    "        self.inplanes = 64\n",
    "        \n",
    "        # Initial convolution and pooling layers\n",
    "        self.conv1 = nn.Conv2d(3, 64, kernel_size=7, stride=2, padding=3, bias=False)\n",
    "        self.bn1 = nn.BatchNorm2d(64)\n",
    "        self.relu = nn.ReLU(inplace=True)\n",
    "        self.maxpool = nn.MaxPool2d(kernel_size=3, stride=2, padding=1)\n",
    "        \n",
    "        # Residual layers\n",
    "        self.layer1 = self._make_layer(64, 3)\n",
    "        self.layer2 = self._make_layer(128, 4, stride=2)\n",
    "        self.layer3 = self._make_layer(256, 6, stride=2)\n",
    "        self.layer4 = self._make_layer(512, 3, stride=2)\n",
    "        \n",
    "        # Final layers\n",
    "        self.avgpool = nn.AdaptiveAvgPool2d((1, 1))\n",
    "        self.fc = nn.Linear(512 * Bottleneck.expansion, num_classes)\n",
    "        \n",
    "        # Initialize weights\n",
    "        self._initialize_weights(zero_init_residual)\n",
    "    \n",
    "    def _make_layer(self, planes, blocks, stride=1):\n",
    "        \"\"\"Create a residual layer with specified number of blocks\"\"\"\n",
    "        downsample = None\n",
    "        if stride != 1 or self.inplanes != planes * Bottleneck.expansion:\n",
    "            downsample = nn.Sequential(\n",
    "                nn.Conv2d(self.inplanes, planes * Bottleneck.expansion,\n",
    "                          kernel_size=1, stride=stride, bias=False),\n",
    "                nn.BatchNorm2d(planes * Bottleneck.expansion),\n",
    "            )\n",
    "        \n",
    "        layers = []\n",
    "        layers.append(Bottleneck(self.inplanes, planes, stride, downsample))\n",
    "        self.inplanes = planes * Bottleneck.expansion\n",
    "        for _ in range(1, blocks):\n",
    "            layers.append(Bottleneck(self.inplanes, planes))\n",
    "        \n",
    "        return nn.Sequential(*layers)\n",
    "    \n",
    "    def _initialize_weights(self, zero_init_residual):\n",
    "        \"\"\"Initialize weights using He initialization\"\"\"\n",
    "        for m in self.modules():\n",
    "            if isinstance(m, nn.Conv2d):\n",
    "                nn.init.kaiming_normal_(m.weight, mode='fan_out', nonlinearity='relu')\n",
    "            elif isinstance(m, (nn.BatchNorm2d, nn.GroupNorm)):\n",
    "                nn.init.constant_(m.weight, 1)\n",
    "                nn.init.constant_(m.bias, 0)\n",
    "            elif isinstance(m, nn.Linear):\n",
    "                nn.init.normal_(m.weight, 0, 0.01)\n",
    "                nn.init.constant_(m.bias, 0)\n",
    "        \n",
    "        # Zero-initialize the last BN in each residual branch for better training\n",
    "        if zero_init_residual:\n",
    "            for m in self.modules():\n",
    "                if isinstance(m, Bottleneck):\n",
    "                    nn.init.constant_(m.bn3.weight, 0)\n",
    "    \n",
    "    def forward(self, x):\n",
    "        x = self.conv1(x)\n",
    "        x = self.bn1(x)\n",
    "        x = self.relu(x)\n",
    "        x = self.maxpool(x)\n",
    "        \n",
    "        x = self.layer1(x)\n",
    "        x = self.layer2(x)\n",
    "        x = self.layer3(x)\n",
    "        x = self.layer4(x)\n",
    "        \n",
    "        x = self.avgpool(x)\n",
    "        x = torch.flatten(x, 1)\n",
    "        x = self.fc(x)\n",
    "        \n",
    "        return x"
   ]
  },
  {
   "cell_type": "code",
   "execution_count": 9,
   "id": "cb2c9ce3",
   "metadata": {
    "execution": {
     "iopub.execute_input": "2025-09-08T07:14:44.896426Z",
     "iopub.status.busy": "2025-09-08T07:14:44.896203Z",
     "iopub.status.idle": "2025-09-08T07:14:46.243595Z",
     "shell.execute_reply": "2025-09-08T07:14:46.242903Z"
    },
    "papermill": {
     "duration": 1.352062,
     "end_time": "2025-09-08T07:14:46.245096",
     "exception": false,
     "start_time": "2025-09-08T07:14:44.893034",
     "status": "completed"
    },
    "tags": []
   },
   "outputs": [
    {
     "name": "stdout",
     "output_type": "stream",
     "text": [
      "ResNet50 Model Summary:\n",
      "----------------------------------------------------------------\n",
      "        Layer (type)               Output Shape         Param #\n",
      "================================================================\n",
      "            Conv2d-1         [-1, 64, 112, 112]           9,408\n",
      "       BatchNorm2d-2         [-1, 64, 112, 112]             128\n",
      "              ReLU-3         [-1, 64, 112, 112]               0\n",
      "         MaxPool2d-4           [-1, 64, 56, 56]               0\n",
      "            Conv2d-5           [-1, 64, 56, 56]           4,096\n",
      "       BatchNorm2d-6           [-1, 64, 56, 56]             128\n",
      "              ReLU-7           [-1, 64, 56, 56]               0\n",
      "            Conv2d-8           [-1, 64, 56, 56]          36,864\n",
      "       BatchNorm2d-9           [-1, 64, 56, 56]             128\n",
      "             ReLU-10           [-1, 64, 56, 56]               0\n",
      "           Conv2d-11          [-1, 256, 56, 56]          16,384\n",
      "      BatchNorm2d-12          [-1, 256, 56, 56]             512\n",
      "           Conv2d-13          [-1, 256, 56, 56]          16,384\n",
      "      BatchNorm2d-14          [-1, 256, 56, 56]             512\n",
      "             ReLU-15          [-1, 256, 56, 56]               0\n",
      "       Bottleneck-16          [-1, 256, 56, 56]               0\n",
      "           Conv2d-17           [-1, 64, 56, 56]          16,384\n",
      "      BatchNorm2d-18           [-1, 64, 56, 56]             128\n",
      "             ReLU-19           [-1, 64, 56, 56]               0\n",
      "           Conv2d-20           [-1, 64, 56, 56]          36,864\n",
      "      BatchNorm2d-21           [-1, 64, 56, 56]             128\n",
      "             ReLU-22           [-1, 64, 56, 56]               0\n",
      "           Conv2d-23          [-1, 256, 56, 56]          16,384\n",
      "      BatchNorm2d-24          [-1, 256, 56, 56]             512\n",
      "             ReLU-25          [-1, 256, 56, 56]               0\n",
      "       Bottleneck-26          [-1, 256, 56, 56]               0\n",
      "           Conv2d-27           [-1, 64, 56, 56]          16,384\n",
      "      BatchNorm2d-28           [-1, 64, 56, 56]             128\n",
      "             ReLU-29           [-1, 64, 56, 56]               0\n",
      "           Conv2d-30           [-1, 64, 56, 56]          36,864\n",
      "      BatchNorm2d-31           [-1, 64, 56, 56]             128\n",
      "             ReLU-32           [-1, 64, 56, 56]               0\n",
      "           Conv2d-33          [-1, 256, 56, 56]          16,384\n",
      "      BatchNorm2d-34          [-1, 256, 56, 56]             512\n",
      "             ReLU-35          [-1, 256, 56, 56]               0\n",
      "       Bottleneck-36          [-1, 256, 56, 56]               0\n",
      "           Conv2d-37          [-1, 128, 56, 56]          32,768\n",
      "      BatchNorm2d-38          [-1, 128, 56, 56]             256\n",
      "             ReLU-39          [-1, 128, 56, 56]               0\n",
      "           Conv2d-40          [-1, 128, 28, 28]         147,456\n",
      "      BatchNorm2d-41          [-1, 128, 28, 28]             256\n",
      "             ReLU-42          [-1, 128, 28, 28]               0\n",
      "           Conv2d-43          [-1, 512, 28, 28]          65,536\n",
      "      BatchNorm2d-44          [-1, 512, 28, 28]           1,024\n",
      "           Conv2d-45          [-1, 512, 28, 28]         131,072\n",
      "      BatchNorm2d-46          [-1, 512, 28, 28]           1,024\n",
      "             ReLU-47          [-1, 512, 28, 28]               0\n",
      "       Bottleneck-48          [-1, 512, 28, 28]               0\n",
      "           Conv2d-49          [-1, 128, 28, 28]          65,536\n",
      "      BatchNorm2d-50          [-1, 128, 28, 28]             256\n",
      "             ReLU-51          [-1, 128, 28, 28]               0\n",
      "           Conv2d-52          [-1, 128, 28, 28]         147,456\n",
      "      BatchNorm2d-53          [-1, 128, 28, 28]             256\n",
      "             ReLU-54          [-1, 128, 28, 28]               0\n",
      "           Conv2d-55          [-1, 512, 28, 28]          65,536\n",
      "      BatchNorm2d-56          [-1, 512, 28, 28]           1,024\n",
      "             ReLU-57          [-1, 512, 28, 28]               0\n",
      "       Bottleneck-58          [-1, 512, 28, 28]               0\n",
      "           Conv2d-59          [-1, 128, 28, 28]          65,536\n",
      "      BatchNorm2d-60          [-1, 128, 28, 28]             256\n",
      "             ReLU-61          [-1, 128, 28, 28]               0\n",
      "           Conv2d-62          [-1, 128, 28, 28]         147,456\n",
      "      BatchNorm2d-63          [-1, 128, 28, 28]             256\n",
      "             ReLU-64          [-1, 128, 28, 28]               0\n",
      "           Conv2d-65          [-1, 512, 28, 28]          65,536\n",
      "      BatchNorm2d-66          [-1, 512, 28, 28]           1,024\n",
      "             ReLU-67          [-1, 512, 28, 28]               0\n",
      "       Bottleneck-68          [-1, 512, 28, 28]               0\n",
      "           Conv2d-69          [-1, 128, 28, 28]          65,536\n",
      "      BatchNorm2d-70          [-1, 128, 28, 28]             256\n",
      "             ReLU-71          [-1, 128, 28, 28]               0\n",
      "           Conv2d-72          [-1, 128, 28, 28]         147,456\n",
      "      BatchNorm2d-73          [-1, 128, 28, 28]             256\n",
      "             ReLU-74          [-1, 128, 28, 28]               0\n",
      "           Conv2d-75          [-1, 512, 28, 28]          65,536\n",
      "      BatchNorm2d-76          [-1, 512, 28, 28]           1,024\n",
      "             ReLU-77          [-1, 512, 28, 28]               0\n",
      "       Bottleneck-78          [-1, 512, 28, 28]               0\n",
      "           Conv2d-79          [-1, 256, 28, 28]         131,072\n",
      "      BatchNorm2d-80          [-1, 256, 28, 28]             512\n",
      "             ReLU-81          [-1, 256, 28, 28]               0\n",
      "           Conv2d-82          [-1, 256, 14, 14]         589,824\n",
      "      BatchNorm2d-83          [-1, 256, 14, 14]             512\n",
      "             ReLU-84          [-1, 256, 14, 14]               0\n",
      "           Conv2d-85         [-1, 1024, 14, 14]         262,144\n",
      "      BatchNorm2d-86         [-1, 1024, 14, 14]           2,048\n",
      "           Conv2d-87         [-1, 1024, 14, 14]         524,288\n",
      "      BatchNorm2d-88         [-1, 1024, 14, 14]           2,048\n",
      "             ReLU-89         [-1, 1024, 14, 14]               0\n",
      "       Bottleneck-90         [-1, 1024, 14, 14]               0\n",
      "           Conv2d-91          [-1, 256, 14, 14]         262,144\n",
      "      BatchNorm2d-92          [-1, 256, 14, 14]             512\n",
      "             ReLU-93          [-1, 256, 14, 14]               0\n",
      "           Conv2d-94          [-1, 256, 14, 14]         589,824\n",
      "      BatchNorm2d-95          [-1, 256, 14, 14]             512\n",
      "             ReLU-96          [-1, 256, 14, 14]               0\n",
      "           Conv2d-97         [-1, 1024, 14, 14]         262,144\n",
      "      BatchNorm2d-98         [-1, 1024, 14, 14]           2,048\n",
      "             ReLU-99         [-1, 1024, 14, 14]               0\n",
      "      Bottleneck-100         [-1, 1024, 14, 14]               0\n",
      "          Conv2d-101          [-1, 256, 14, 14]         262,144\n",
      "     BatchNorm2d-102          [-1, 256, 14, 14]             512\n",
      "            ReLU-103          [-1, 256, 14, 14]               0\n",
      "          Conv2d-104          [-1, 256, 14, 14]         589,824\n",
      "     BatchNorm2d-105          [-1, 256, 14, 14]             512\n",
      "            ReLU-106          [-1, 256, 14, 14]               0\n",
      "          Conv2d-107         [-1, 1024, 14, 14]         262,144\n",
      "     BatchNorm2d-108         [-1, 1024, 14, 14]           2,048\n",
      "            ReLU-109         [-1, 1024, 14, 14]               0\n",
      "      Bottleneck-110         [-1, 1024, 14, 14]               0\n",
      "          Conv2d-111          [-1, 256, 14, 14]         262,144\n",
      "     BatchNorm2d-112          [-1, 256, 14, 14]             512\n",
      "            ReLU-113          [-1, 256, 14, 14]               0\n",
      "          Conv2d-114          [-1, 256, 14, 14]         589,824\n",
      "     BatchNorm2d-115          [-1, 256, 14, 14]             512\n",
      "            ReLU-116          [-1, 256, 14, 14]               0\n",
      "          Conv2d-117         [-1, 1024, 14, 14]         262,144\n",
      "     BatchNorm2d-118         [-1, 1024, 14, 14]           2,048\n",
      "            ReLU-119         [-1, 1024, 14, 14]               0\n",
      "      Bottleneck-120         [-1, 1024, 14, 14]               0\n",
      "          Conv2d-121          [-1, 256, 14, 14]         262,144\n",
      "     BatchNorm2d-122          [-1, 256, 14, 14]             512\n",
      "            ReLU-123          [-1, 256, 14, 14]               0\n",
      "          Conv2d-124          [-1, 256, 14, 14]         589,824\n",
      "     BatchNorm2d-125          [-1, 256, 14, 14]             512\n",
      "            ReLU-126          [-1, 256, 14, 14]               0\n",
      "          Conv2d-127         [-1, 1024, 14, 14]         262,144\n",
      "     BatchNorm2d-128         [-1, 1024, 14, 14]           2,048\n",
      "            ReLU-129         [-1, 1024, 14, 14]               0\n",
      "      Bottleneck-130         [-1, 1024, 14, 14]               0\n",
      "          Conv2d-131          [-1, 256, 14, 14]         262,144\n",
      "     BatchNorm2d-132          [-1, 256, 14, 14]             512\n",
      "            ReLU-133          [-1, 256, 14, 14]               0\n",
      "          Conv2d-134          [-1, 256, 14, 14]         589,824\n",
      "     BatchNorm2d-135          [-1, 256, 14, 14]             512\n",
      "            ReLU-136          [-1, 256, 14, 14]               0\n",
      "          Conv2d-137         [-1, 1024, 14, 14]         262,144\n",
      "     BatchNorm2d-138         [-1, 1024, 14, 14]           2,048\n",
      "            ReLU-139         [-1, 1024, 14, 14]               0\n",
      "      Bottleneck-140         [-1, 1024, 14, 14]               0\n",
      "          Conv2d-141          [-1, 512, 14, 14]         524,288\n",
      "     BatchNorm2d-142          [-1, 512, 14, 14]           1,024\n",
      "            ReLU-143          [-1, 512, 14, 14]               0\n",
      "          Conv2d-144            [-1, 512, 7, 7]       2,359,296\n",
      "     BatchNorm2d-145            [-1, 512, 7, 7]           1,024\n",
      "            ReLU-146            [-1, 512, 7, 7]               0\n",
      "          Conv2d-147           [-1, 2048, 7, 7]       1,048,576\n",
      "     BatchNorm2d-148           [-1, 2048, 7, 7]           4,096\n",
      "          Conv2d-149           [-1, 2048, 7, 7]       2,097,152\n",
      "     BatchNorm2d-150           [-1, 2048, 7, 7]           4,096\n",
      "            ReLU-151           [-1, 2048, 7, 7]               0\n",
      "      Bottleneck-152           [-1, 2048, 7, 7]               0\n",
      "          Conv2d-153            [-1, 512, 7, 7]       1,048,576\n",
      "     BatchNorm2d-154            [-1, 512, 7, 7]           1,024\n",
      "            ReLU-155            [-1, 512, 7, 7]               0\n",
      "          Conv2d-156            [-1, 512, 7, 7]       2,359,296\n",
      "     BatchNorm2d-157            [-1, 512, 7, 7]           1,024\n",
      "            ReLU-158            [-1, 512, 7, 7]               0\n",
      "          Conv2d-159           [-1, 2048, 7, 7]       1,048,576\n",
      "     BatchNorm2d-160           [-1, 2048, 7, 7]           4,096\n",
      "            ReLU-161           [-1, 2048, 7, 7]               0\n",
      "      Bottleneck-162           [-1, 2048, 7, 7]               0\n",
      "          Conv2d-163            [-1, 512, 7, 7]       1,048,576\n",
      "     BatchNorm2d-164            [-1, 512, 7, 7]           1,024\n",
      "            ReLU-165            [-1, 512, 7, 7]               0\n",
      "          Conv2d-166            [-1, 512, 7, 7]       2,359,296\n",
      "     BatchNorm2d-167            [-1, 512, 7, 7]           1,024\n",
      "            ReLU-168            [-1, 512, 7, 7]               0\n",
      "          Conv2d-169           [-1, 2048, 7, 7]       1,048,576\n",
      "     BatchNorm2d-170           [-1, 2048, 7, 7]           4,096\n",
      "            ReLU-171           [-1, 2048, 7, 7]               0\n",
      "      Bottleneck-172           [-1, 2048, 7, 7]               0\n",
      "AdaptiveAvgPool2d-173           [-1, 2048, 1, 1]               0\n",
      "          Linear-174                    [-1, 2]           4,098\n",
      "================================================================\n",
      "Total params: 23,512,130\n",
      "Trainable params: 23,512,130\n",
      "Non-trainable params: 0\n",
      "----------------------------------------------------------------\n",
      "Input size (MB): 0.57\n",
      "Forward/backward pass size (MB): 286.55\n",
      "Params size (MB): 89.69\n",
      "Estimated Total Size (MB): 376.82\n",
      "----------------------------------------------------------------\n"
     ]
    }
   ],
   "source": [
    "# -----------------------------\n",
    "# 3. Training Setup\n",
    "# -----------------------------\n",
    "device = torch.device(\"cuda\" if torch.cuda.is_available() else \"cpu\")\n",
    "model = MyResNet50(num_classes=len(classes), zero_init_residual=True).to(device)\n",
    "criterion = nn.CrossEntropyLoss()\n",
    "optimizer = torch.optim.SGD(model.parameters(), lr=0.1, momentum=0.9, weight_decay=1e-4)\n",
    "\n",
    "print(\"ResNet50 Model Summary:\")\n",
    "try:\n",
    "    summary(model, (3, 224, 224))\n",
    "except:\n",
    "    print(\"Model summary generation failed - this is normal for complex architectures\")\n",
    "    print(f\"Model created successfully with {sum(p.numel() for p in model.parameters()):,} parameters\")"
   ]
  },
  {
   "cell_type": "code",
   "execution_count": 10,
   "id": "5445d52c",
   "metadata": {
    "execution": {
     "iopub.execute_input": "2025-09-08T07:14:46.253350Z",
     "iopub.status.busy": "2025-09-08T07:14:46.253081Z",
     "iopub.status.idle": "2025-09-08T07:41:02.161337Z",
     "shell.execute_reply": "2025-09-08T07:41:02.160598Z"
    },
    "papermill": {
     "duration": 1575.916195,
     "end_time": "2025-09-08T07:41:02.164793",
     "exception": false,
     "start_time": "2025-09-08T07:14:46.248598",
     "status": "completed"
    },
    "tags": []
   },
   "outputs": [
    {
     "name": "stdout",
     "output_type": "stream",
     "text": [
      "\n",
      "🚀 Starting ResNet50 Training for 50 epochs...\n",
      "================================================================================\n",
      "\n",
      "📈 Epoch 1/50\n",
      "--------------------------------------------------\n",
      "🔄 Training Phase...\n"
     ]
    },
    {
     "name": "stderr",
     "output_type": "stream",
     "text": [
      "Training: 100%|██████████████████████████████| 48/48 [00:35<00:00,  1.35it/s, Loss=2.0420, Acc=0.5434]\n"
     ]
    },
    {
     "name": "stdout",
     "output_type": "stream",
     "text": [
      "✅ Training completed in 35.46s\n",
      "🔍 Validation Phase...\n"
     ]
    },
    {
     "name": "stderr",
     "output_type": "stream",
     "text": [
      "Validation: 100%|██████████████████████████████| 12/12 [00:05<00:00,  2.13it/s, Loss=4.1449, Acc=0.6172]\n"
     ]
    },
    {
     "name": "stdout",
     "output_type": "stream",
     "text": [
      "✅ Validation completed in 5.65s\n",
      "🌟 New best ResNet50 model found! Validation Accuracy: 0.6172\n",
      "\n",
      "📊 Epoch 1 Summary:\n",
      "│ Train Loss: 2.0420 | Train Acc: 0.5434\n",
      "│ Val Loss:   4.1449 | Val Acc:   0.6172\n",
      "│ Train Time: 35.46s | Val Time: 5.65s\n",
      "│ Total Epoch Time: 41.11s\n",
      "│ Best Val Acc: 0.6172 (Epoch 1)\n",
      "│ GPU Memory: 0.3GB / 3.2GB\n",
      "================================================================================\n",
      "\n",
      "📈 Epoch 2/50\n",
      "--------------------------------------------------\n",
      "🔄 Training Phase...\n"
     ]
    },
    {
     "name": "stderr",
     "output_type": "stream",
     "text": [
      "Training: 100%|██████████████████████████████| 48/48 [00:25<00:00,  1.86it/s, Loss=1.6540, Acc=0.5645]\n"
     ]
    },
    {
     "name": "stdout",
     "output_type": "stream",
     "text": [
      "✅ Training completed in 25.75s\n",
      "🔍 Validation Phase...\n"
     ]
    },
    {
     "name": "stderr",
     "output_type": "stream",
     "text": [
      "Validation: 100%|██████████████████████████████| 12/12 [00:03<00:00,  3.73it/s, Loss=1.0241, Acc=0.6068]\n"
     ]
    },
    {
     "name": "stdout",
     "output_type": "stream",
     "text": [
      "✅ Validation completed in 3.22s\n",
      "\n",
      "📊 Epoch 2 Summary:\n",
      "│ Train Loss: 1.6540 | Train Acc: 0.5645\n",
      "│ Val Loss:   1.0241 | Val Acc:   0.6068\n",
      "│ Train Time: 25.75s | Val Time: 3.22s\n",
      "│ Total Epoch Time: 28.98s\n",
      "│ Best Val Acc: 0.6172 (Epoch 1)\n",
      "│ GPU Memory: 0.3GB / 3.2GB\n",
      "================================================================================\n",
      "\n",
      "📈 Epoch 3/50\n",
      "--------------------------------------------------\n",
      "🔄 Training Phase...\n"
     ]
    },
    {
     "name": "stderr",
     "output_type": "stream",
     "text": [
      "Training: 100%|██████████████████████████████| 48/48 [00:25<00:00,  1.85it/s, Loss=0.9771, Acc=0.6066]\n"
     ]
    },
    {
     "name": "stdout",
     "output_type": "stream",
     "text": [
      "✅ Training completed in 26.00s\n",
      "🔍 Validation Phase...\n"
     ]
    },
    {
     "name": "stderr",
     "output_type": "stream",
     "text": [
      "Validation: 100%|██████████████████████████████| 12/12 [00:03<00:00,  3.75it/s, Loss=0.7970, Acc=0.6302]\n"
     ]
    },
    {
     "name": "stdout",
     "output_type": "stream",
     "text": [
      "✅ Validation completed in 3.21s\n",
      "🌟 New best ResNet50 model found! Validation Accuracy: 0.6302\n",
      "\n",
      "📊 Epoch 3 Summary:\n",
      "│ Train Loss: 0.9771 | Train Acc: 0.6066\n",
      "│ Val Loss:   0.7970 | Val Acc:   0.6302\n",
      "│ Train Time: 26.00s | Val Time: 3.21s\n",
      "│ Total Epoch Time: 29.21s\n",
      "│ Best Val Acc: 0.6302 (Epoch 3)\n",
      "│ GPU Memory: 0.3GB / 3.2GB\n",
      "================================================================================\n",
      "\n",
      "📈 Epoch 4/50\n",
      "--------------------------------------------------\n",
      "🔄 Training Phase...\n"
     ]
    },
    {
     "name": "stderr",
     "output_type": "stream",
     "text": [
      "Training: 100%|██████████████████████████████| 48/48 [00:26<00:00,  1.82it/s, Loss=0.7577, Acc=0.5980]\n"
     ]
    },
    {
     "name": "stdout",
     "output_type": "stream",
     "text": [
      "✅ Training completed in 26.44s\n",
      "🔍 Validation Phase...\n"
     ]
    },
    {
     "name": "stderr",
     "output_type": "stream",
     "text": [
      "Validation: 100%|██████████████████████████████| 12/12 [00:03<00:00,  3.73it/s, Loss=0.6692, Acc=0.6250]\n"
     ]
    },
    {
     "name": "stdout",
     "output_type": "stream",
     "text": [
      "✅ Validation completed in 3.22s\n",
      "\n",
      "📊 Epoch 4 Summary:\n",
      "│ Train Loss: 0.7577 | Train Acc: 0.5980\n",
      "│ Val Loss:   0.6692 | Val Acc:   0.6250\n",
      "│ Train Time: 26.44s | Val Time: 3.22s\n",
      "│ Total Epoch Time: 29.66s\n",
      "│ Best Val Acc: 0.6302 (Epoch 3)\n",
      "│ GPU Memory: 0.3GB / 3.2GB\n",
      "================================================================================\n",
      "\n",
      "📈 Epoch 5/50\n",
      "--------------------------------------------------\n",
      "🔄 Training Phase...\n"
     ]
    },
    {
     "name": "stderr",
     "output_type": "stream",
     "text": [
      "Training: 100%|██████████████████████████████| 48/48 [00:26<00:00,  1.78it/s, Loss=0.6711, Acc=0.6211]\n"
     ]
    },
    {
     "name": "stdout",
     "output_type": "stream",
     "text": [
      "✅ Training completed in 26.99s\n",
      "🔍 Validation Phase...\n"
     ]
    },
    {
     "name": "stderr",
     "output_type": "stream",
     "text": [
      "Validation: 100%|██████████████████████████████| 12/12 [00:03<00:00,  3.75it/s, Loss=0.6951, Acc=0.5964]\n"
     ]
    },
    {
     "name": "stdout",
     "output_type": "stream",
     "text": [
      "✅ Validation completed in 3.20s\n",
      "\n",
      "📊 Epoch 5 Summary:\n",
      "│ Train Loss: 0.6711 | Train Acc: 0.6211\n",
      "│ Val Loss:   0.6951 | Val Acc:   0.5964\n",
      "│ Train Time: 26.99s | Val Time: 3.20s\n",
      "│ Total Epoch Time: 30.20s\n",
      "│ Best Val Acc: 0.6302 (Epoch 3)\n",
      "│ GPU Memory: 0.3GB / 3.2GB\n",
      "================================================================================\n",
      "\n",
      "📈 Epoch 6/50\n",
      "--------------------------------------------------\n",
      "🔄 Training Phase...\n"
     ]
    },
    {
     "name": "stderr",
     "output_type": "stream",
     "text": [
      "Training: 100%|██████████████████████████████| 48/48 [00:28<00:00,  1.71it/s, Loss=0.6640, Acc=0.6178]\n"
     ]
    },
    {
     "name": "stdout",
     "output_type": "stream",
     "text": [
      "✅ Training completed in 28.07s\n",
      "🔍 Validation Phase...\n"
     ]
    },
    {
     "name": "stderr",
     "output_type": "stream",
     "text": [
      "Validation: 100%|██████████████████████████████| 12/12 [00:03<00:00,  3.58it/s, Loss=0.7025, Acc=0.6380]\n"
     ]
    },
    {
     "name": "stdout",
     "output_type": "stream",
     "text": [
      "✅ Validation completed in 3.35s\n",
      "🌟 New best ResNet50 model found! Validation Accuracy: 0.6380\n",
      "\n",
      "📊 Epoch 6 Summary:\n",
      "│ Train Loss: 0.6640 | Train Acc: 0.6178\n",
      "│ Val Loss:   0.7025 | Val Acc:   0.6380\n",
      "│ Train Time: 28.07s | Val Time: 3.35s\n",
      "│ Total Epoch Time: 31.43s\n",
      "│ Best Val Acc: 0.6380 (Epoch 6)\n",
      "│ GPU Memory: 0.3GB / 3.2GB\n",
      "================================================================================\n",
      "\n",
      "📈 Epoch 7/50\n",
      "--------------------------------------------------\n",
      "🔄 Training Phase...\n"
     ]
    },
    {
     "name": "stderr",
     "output_type": "stream",
     "text": [
      "Training: 100%|██████████████████████████████| 48/48 [00:27<00:00,  1.73it/s, Loss=0.6666, Acc=0.6526]\n"
     ]
    },
    {
     "name": "stdout",
     "output_type": "stream",
     "text": [
      "✅ Training completed in 27.83s\n",
      "🔍 Validation Phase...\n"
     ]
    },
    {
     "name": "stderr",
     "output_type": "stream",
     "text": [
      "Validation: 100%|██████████████████████████████| 12/12 [00:03<00:00,  3.67it/s, Loss=0.6776, Acc=0.6458]\n"
     ]
    },
    {
     "name": "stdout",
     "output_type": "stream",
     "text": [
      "✅ Validation completed in 3.27s\n",
      "🌟 New best ResNet50 model found! Validation Accuracy: 0.6458\n",
      "\n",
      "📊 Epoch 7 Summary:\n",
      "│ Train Loss: 0.6666 | Train Acc: 0.6526\n",
      "│ Val Loss:   0.6776 | Val Acc:   0.6458\n",
      "│ Train Time: 27.83s | Val Time: 3.27s\n",
      "│ Total Epoch Time: 31.11s\n",
      "│ Best Val Acc: 0.6458 (Epoch 7)\n",
      "│ GPU Memory: 0.3GB / 3.2GB\n",
      "================================================================================\n",
      "\n",
      "📈 Epoch 8/50\n",
      "--------------------------------------------------\n",
      "🔄 Training Phase...\n"
     ]
    },
    {
     "name": "stderr",
     "output_type": "stream",
     "text": [
      "Training: 100%|██████████████████████████████| 48/48 [00:27<00:00,  1.73it/s, Loss=0.6024, Acc=0.6803]\n"
     ]
    },
    {
     "name": "stdout",
     "output_type": "stream",
     "text": [
      "✅ Training completed in 27.72s\n",
      "🔍 Validation Phase...\n"
     ]
    },
    {
     "name": "stderr",
     "output_type": "stream",
     "text": [
      "Validation: 100%|██████████████████████████████| 12/12 [00:03<00:00,  3.71it/s, Loss=0.6750, Acc=0.5365]\n"
     ]
    },
    {
     "name": "stdout",
     "output_type": "stream",
     "text": [
      "✅ Validation completed in 3.24s\n",
      "\n",
      "📊 Epoch 8 Summary:\n",
      "│ Train Loss: 0.6024 | Train Acc: 0.6803\n",
      "│ Val Loss:   0.6750 | Val Acc:   0.5365\n",
      "│ Train Time: 27.72s | Val Time: 3.24s\n",
      "│ Total Epoch Time: 30.96s\n",
      "│ Best Val Acc: 0.6458 (Epoch 7)\n",
      "│ GPU Memory: 0.3GB / 3.2GB\n",
      "================================================================================\n",
      "\n",
      "📈 Epoch 9/50\n",
      "--------------------------------------------------\n",
      "🔄 Training Phase...\n"
     ]
    },
    {
     "name": "stderr",
     "output_type": "stream",
     "text": [
      "Training: 100%|██████████████████████████████| 48/48 [00:27<00:00,  1.73it/s, Loss=0.5550, Acc=0.7086]\n"
     ]
    },
    {
     "name": "stdout",
     "output_type": "stream",
     "text": [
      "✅ Training completed in 27.80s\n",
      "🔍 Validation Phase...\n"
     ]
    },
    {
     "name": "stderr",
     "output_type": "stream",
     "text": [
      "Validation: 100%|██████████████████████████████| 12/12 [00:03<00:00,  3.80it/s, Loss=0.7729, Acc=0.6380]\n"
     ]
    },
    {
     "name": "stdout",
     "output_type": "stream",
     "text": [
      "✅ Validation completed in 3.16s\n",
      "\n",
      "📊 Epoch 9 Summary:\n",
      "│ Train Loss: 0.5550 | Train Acc: 0.7086\n",
      "│ Val Loss:   0.7729 | Val Acc:   0.6380\n",
      "│ Train Time: 27.80s | Val Time: 3.16s\n",
      "│ Total Epoch Time: 30.96s\n",
      "│ Best Val Acc: 0.6458 (Epoch 7)\n",
      "│ GPU Memory: 0.3GB / 3.2GB\n",
      "================================================================================\n",
      "\n",
      "📈 Epoch 10/50\n",
      "--------------------------------------------------\n",
      "🔄 Training Phase...\n"
     ]
    },
    {
     "name": "stderr",
     "output_type": "stream",
     "text": [
      "Training: 100%|██████████████████████████████| 48/48 [00:27<00:00,  1.74it/s, Loss=0.5242, Acc=0.7303]\n"
     ]
    },
    {
     "name": "stdout",
     "output_type": "stream",
     "text": [
      "✅ Training completed in 27.65s\n",
      "🔍 Validation Phase...\n"
     ]
    },
    {
     "name": "stderr",
     "output_type": "stream",
     "text": [
      "Validation: 100%|██████████████████████████████| 12/12 [00:03<00:00,  3.72it/s, Loss=0.8740, Acc=0.5417]\n"
     ]
    },
    {
     "name": "stdout",
     "output_type": "stream",
     "text": [
      "✅ Validation completed in 3.23s\n",
      "\n",
      "📊 Epoch 10 Summary:\n",
      "│ Train Loss: 0.5242 | Train Acc: 0.7303\n",
      "│ Val Loss:   0.8740 | Val Acc:   0.5417\n",
      "│ Train Time: 27.65s | Val Time: 3.23s\n",
      "│ Total Epoch Time: 30.88s\n",
      "│ Best Val Acc: 0.6458 (Epoch 7)\n",
      "│ GPU Memory: 0.3GB / 3.2GB\n",
      "================================================================================\n",
      "\n",
      "📈 Epoch 11/50\n",
      "--------------------------------------------------\n",
      "🔄 Training Phase...\n"
     ]
    },
    {
     "name": "stderr",
     "output_type": "stream",
     "text": [
      "Training: 100%|██████████████████████████████| 48/48 [00:27<00:00,  1.73it/s, Loss=0.4782, Acc=0.7671]\n"
     ]
    },
    {
     "name": "stdout",
     "output_type": "stream",
     "text": [
      "✅ Training completed in 27.79s\n",
      "🔍 Validation Phase...\n"
     ]
    },
    {
     "name": "stderr",
     "output_type": "stream",
     "text": [
      "Validation: 100%|██████████████████████████████| 12/12 [00:03<00:00,  3.67it/s, Loss=0.8636, Acc=0.6536]\n"
     ]
    },
    {
     "name": "stdout",
     "output_type": "stream",
     "text": [
      "✅ Validation completed in 3.27s\n",
      "🌟 New best ResNet50 model found! Validation Accuracy: 0.6536\n",
      "\n",
      "📊 Epoch 11 Summary:\n",
      "│ Train Loss: 0.4782 | Train Acc: 0.7671\n",
      "│ Val Loss:   0.8636 | Val Acc:   0.6536\n",
      "│ Train Time: 27.79s | Val Time: 3.27s\n",
      "│ Total Epoch Time: 31.07s\n",
      "│ Best Val Acc: 0.6536 (Epoch 11)\n",
      "│ GPU Memory: 0.3GB / 3.2GB\n",
      "================================================================================\n",
      "\n",
      "📈 Epoch 12/50\n",
      "--------------------------------------------------\n",
      "🔄 Training Phase...\n"
     ]
    },
    {
     "name": "stderr",
     "output_type": "stream",
     "text": [
      "Training: 100%|██████████████████████████████| 48/48 [00:27<00:00,  1.72it/s, Loss=0.4285, Acc=0.7961]\n"
     ]
    },
    {
     "name": "stdout",
     "output_type": "stream",
     "text": [
      "✅ Training completed in 27.87s\n",
      "🔍 Validation Phase...\n"
     ]
    },
    {
     "name": "stderr",
     "output_type": "stream",
     "text": [
      "Validation: 100%|██████████████████████████████| 12/12 [00:03<00:00,  3.68it/s, Loss=1.0446, Acc=0.5339]\n"
     ]
    },
    {
     "name": "stdout",
     "output_type": "stream",
     "text": [
      "✅ Validation completed in 3.27s\n",
      "\n",
      "📊 Epoch 12 Summary:\n",
      "│ Train Loss: 0.4285 | Train Acc: 0.7961\n",
      "│ Val Loss:   1.0446 | Val Acc:   0.5339\n",
      "│ Train Time: 27.87s | Val Time: 3.27s\n",
      "│ Total Epoch Time: 31.14s\n",
      "│ Best Val Acc: 0.6536 (Epoch 11)\n",
      "│ GPU Memory: 0.3GB / 3.2GB\n",
      "================================================================================\n",
      "\n",
      "📈 Epoch 13/50\n",
      "--------------------------------------------------\n",
      "🔄 Training Phase...\n"
     ]
    },
    {
     "name": "stderr",
     "output_type": "stream",
     "text": [
      "Training: 100%|██████████████████████████████| 48/48 [00:28<00:00,  1.71it/s, Loss=0.3271, Acc=0.8461]\n"
     ]
    },
    {
     "name": "stdout",
     "output_type": "stream",
     "text": [
      "✅ Training completed in 28.05s\n",
      "🔍 Validation Phase...\n"
     ]
    },
    {
     "name": "stderr",
     "output_type": "stream",
     "text": [
      "Validation: 100%|██████████████████████████████| 12/12 [00:03<00:00,  3.58it/s, Loss=1.2826, Acc=0.5755]\n"
     ]
    },
    {
     "name": "stdout",
     "output_type": "stream",
     "text": [
      "✅ Validation completed in 3.36s\n",
      "\n",
      "📊 Epoch 13 Summary:\n",
      "│ Train Loss: 0.3271 | Train Acc: 0.8461\n",
      "│ Val Loss:   1.2826 | Val Acc:   0.5755\n",
      "│ Train Time: 28.05s | Val Time: 3.36s\n",
      "│ Total Epoch Time: 31.41s\n",
      "│ Best Val Acc: 0.6536 (Epoch 11)\n",
      "│ GPU Memory: 0.3GB / 3.2GB\n",
      "================================================================================\n",
      "\n",
      "📈 Epoch 14/50\n",
      "--------------------------------------------------\n",
      "🔄 Training Phase...\n"
     ]
    },
    {
     "name": "stderr",
     "output_type": "stream",
     "text": [
      "Training: 100%|██████████████████████████████| 48/48 [00:28<00:00,  1.71it/s, Loss=0.2885, Acc=0.8750]\n"
     ]
    },
    {
     "name": "stdout",
     "output_type": "stream",
     "text": [
      "✅ Training completed in 28.08s\n",
      "🔍 Validation Phase...\n"
     ]
    },
    {
     "name": "stderr",
     "output_type": "stream",
     "text": [
      "Validation: 100%|██████████████████████████████| 12/12 [00:03<00:00,  3.64it/s, Loss=2.1740, Acc=0.5964]\n"
     ]
    },
    {
     "name": "stdout",
     "output_type": "stream",
     "text": [
      "✅ Validation completed in 3.30s\n",
      "\n",
      "📊 Epoch 14 Summary:\n",
      "│ Train Loss: 0.2885 | Train Acc: 0.8750\n",
      "│ Val Loss:   2.1740 | Val Acc:   0.5964\n",
      "│ Train Time: 28.08s | Val Time: 3.30s\n",
      "│ Total Epoch Time: 31.38s\n",
      "│ Best Val Acc: 0.6536 (Epoch 11)\n",
      "│ GPU Memory: 0.3GB / 3.2GB\n",
      "================================================================================\n",
      "\n",
      "📈 Epoch 15/50\n",
      "--------------------------------------------------\n",
      "🔄 Training Phase...\n"
     ]
    },
    {
     "name": "stderr",
     "output_type": "stream",
     "text": [
      "Training: 100%|██████████████████████████████| 48/48 [00:28<00:00,  1.70it/s, Loss=0.2722, Acc=0.8809]\n"
     ]
    },
    {
     "name": "stdout",
     "output_type": "stream",
     "text": [
      "✅ Training completed in 28.18s\n",
      "🔍 Validation Phase...\n"
     ]
    },
    {
     "name": "stderr",
     "output_type": "stream",
     "text": [
      "Validation: 100%|██████████████████████████████| 12/12 [00:03<00:00,  3.54it/s, Loss=1.8141, Acc=0.5391]\n"
     ]
    },
    {
     "name": "stdout",
     "output_type": "stream",
     "text": [
      "✅ Validation completed in 3.40s\n",
      "\n",
      "📊 Epoch 15 Summary:\n",
      "│ Train Loss: 0.2722 | Train Acc: 0.8809\n",
      "│ Val Loss:   1.8141 | Val Acc:   0.5391\n",
      "│ Train Time: 28.18s | Val Time: 3.40s\n",
      "│ Total Epoch Time: 31.58s\n",
      "│ Best Val Acc: 0.6536 (Epoch 11)\n",
      "│ GPU Memory: 0.3GB / 3.2GB\n",
      "================================================================================\n",
      "\n",
      "📈 Epoch 16/50\n",
      "--------------------------------------------------\n",
      "🔄 Training Phase...\n"
     ]
    },
    {
     "name": "stderr",
     "output_type": "stream",
     "text": [
      "Training: 100%|██████████████████████████████| 48/48 [00:28<00:00,  1.71it/s, Loss=0.2298, Acc=0.9000]\n"
     ]
    },
    {
     "name": "stdout",
     "output_type": "stream",
     "text": [
      "✅ Training completed in 28.11s\n",
      "🔍 Validation Phase...\n"
     ]
    },
    {
     "name": "stderr",
     "output_type": "stream",
     "text": [
      "Validation: 100%|██████████████████████████████| 12/12 [00:03<00:00,  3.66it/s, Loss=1.3174, Acc=0.5495]\n"
     ]
    },
    {
     "name": "stdout",
     "output_type": "stream",
     "text": [
      "✅ Validation completed in 3.29s\n",
      "\n",
      "📊 Epoch 16 Summary:\n",
      "│ Train Loss: 0.2298 | Train Acc: 0.9000\n",
      "│ Val Loss:   1.3174 | Val Acc:   0.5495\n",
      "│ Train Time: 28.11s | Val Time: 3.29s\n",
      "│ Total Epoch Time: 31.40s\n",
      "│ Best Val Acc: 0.6536 (Epoch 11)\n",
      "│ GPU Memory: 0.3GB / 3.2GB\n",
      "================================================================================\n",
      "\n",
      "📈 Epoch 17/50\n",
      "--------------------------------------------------\n",
      "🔄 Training Phase...\n"
     ]
    },
    {
     "name": "stderr",
     "output_type": "stream",
     "text": [
      "Training: 100%|██████████████████████████████| 48/48 [00:27<00:00,  1.73it/s, Loss=0.1532, Acc=0.9513]\n"
     ]
    },
    {
     "name": "stdout",
     "output_type": "stream",
     "text": [
      "✅ Training completed in 27.74s\n",
      "🔍 Validation Phase...\n"
     ]
    },
    {
     "name": "stderr",
     "output_type": "stream",
     "text": [
      "Validation: 100%|██████████████████████████████| 12/12 [00:03<00:00,  3.71it/s, Loss=1.9392, Acc=0.4948]\n"
     ]
    },
    {
     "name": "stdout",
     "output_type": "stream",
     "text": [
      "✅ Validation completed in 3.24s\n",
      "\n",
      "📊 Epoch 17 Summary:\n",
      "│ Train Loss: 0.1532 | Train Acc: 0.9513\n",
      "│ Val Loss:   1.9392 | Val Acc:   0.4948\n",
      "│ Train Time: 27.74s | Val Time: 3.24s\n",
      "│ Total Epoch Time: 30.98s\n",
      "│ Best Val Acc: 0.6536 (Epoch 11)\n",
      "│ GPU Memory: 0.3GB / 3.2GB\n",
      "================================================================================\n",
      "\n",
      "📈 Epoch 18/50\n",
      "--------------------------------------------------\n",
      "🔄 Training Phase...\n"
     ]
    },
    {
     "name": "stderr",
     "output_type": "stream",
     "text": [
      "Training: 100%|██████████████████████████████| 48/48 [00:27<00:00,  1.72it/s, Loss=0.1202, Acc=0.9546]\n"
     ]
    },
    {
     "name": "stdout",
     "output_type": "stream",
     "text": [
      "✅ Training completed in 27.96s\n",
      "🔍 Validation Phase...\n"
     ]
    },
    {
     "name": "stderr",
     "output_type": "stream",
     "text": [
      "Validation: 100%|██████████████████████████████| 12/12 [00:03<00:00,  3.69it/s, Loss=2.3424, Acc=0.5573]\n"
     ]
    },
    {
     "name": "stdout",
     "output_type": "stream",
     "text": [
      "✅ Validation completed in 3.26s\n",
      "\n",
      "📊 Epoch 18 Summary:\n",
      "│ Train Loss: 0.1202 | Train Acc: 0.9546\n",
      "│ Val Loss:   2.3424 | Val Acc:   0.5573\n",
      "│ Train Time: 27.96s | Val Time: 3.26s\n",
      "│ Total Epoch Time: 31.22s\n",
      "│ Best Val Acc: 0.6536 (Epoch 11)\n",
      "│ GPU Memory: 0.3GB / 3.2GB\n",
      "================================================================================\n",
      "\n",
      "📈 Epoch 19/50\n",
      "--------------------------------------------------\n",
      "🔄 Training Phase...\n"
     ]
    },
    {
     "name": "stderr",
     "output_type": "stream",
     "text": [
      "Training: 100%|██████████████████████████████| 48/48 [00:28<00:00,  1.71it/s, Loss=0.1850, Acc=0.9322]\n"
     ]
    },
    {
     "name": "stdout",
     "output_type": "stream",
     "text": [
      "✅ Training completed in 28.00s\n",
      "🔍 Validation Phase...\n"
     ]
    },
    {
     "name": "stderr",
     "output_type": "stream",
     "text": [
      "Validation: 100%|██████████████████████████████| 12/12 [00:03<00:00,  3.62it/s, Loss=1.3985, Acc=0.5964]\n"
     ]
    },
    {
     "name": "stdout",
     "output_type": "stream",
     "text": [
      "✅ Validation completed in 3.33s\n",
      "\n",
      "📊 Epoch 19 Summary:\n",
      "│ Train Loss: 0.1850 | Train Acc: 0.9322\n",
      "│ Val Loss:   1.3985 | Val Acc:   0.5964\n",
      "│ Train Time: 28.00s | Val Time: 3.33s\n",
      "│ Total Epoch Time: 31.33s\n",
      "│ Best Val Acc: 0.6536 (Epoch 11)\n",
      "│ GPU Memory: 0.3GB / 3.2GB\n",
      "================================================================================\n",
      "\n",
      "📈 Epoch 20/50\n",
      "--------------------------------------------------\n",
      "🔄 Training Phase...\n"
     ]
    },
    {
     "name": "stderr",
     "output_type": "stream",
     "text": [
      "Training: 100%|██████████████████████████████| 48/48 [00:27<00:00,  1.72it/s, Loss=0.1203, Acc=0.9513]\n"
     ]
    },
    {
     "name": "stdout",
     "output_type": "stream",
     "text": [
      "✅ Training completed in 27.86s\n",
      "🔍 Validation Phase...\n"
     ]
    },
    {
     "name": "stderr",
     "output_type": "stream",
     "text": [
      "Validation: 100%|██████████████████████████████| 12/12 [00:03<00:00,  3.65it/s, Loss=2.2203, Acc=0.5417]\n"
     ]
    },
    {
     "name": "stdout",
     "output_type": "stream",
     "text": [
      "✅ Validation completed in 3.30s\n",
      "\n",
      "📊 Epoch 20 Summary:\n",
      "│ Train Loss: 0.1203 | Train Acc: 0.9513\n",
      "│ Val Loss:   2.2203 | Val Acc:   0.5417\n",
      "│ Train Time: 27.86s | Val Time: 3.30s\n",
      "│ Total Epoch Time: 31.16s\n",
      "│ Best Val Acc: 0.6536 (Epoch 11)\n",
      "│ GPU Memory: 0.3GB / 3.2GB\n",
      "================================================================================\n",
      "\n",
      "📈 Epoch 21/50\n",
      "--------------------------------------------------\n",
      "🔄 Training Phase...\n"
     ]
    },
    {
     "name": "stderr",
     "output_type": "stream",
     "text": [
      "Training: 100%|██████████████████████████████| 48/48 [00:28<00:00,  1.70it/s, Loss=0.0824, Acc=0.9632]\n"
     ]
    },
    {
     "name": "stdout",
     "output_type": "stream",
     "text": [
      "✅ Training completed in 28.19s\n",
      "🔍 Validation Phase...\n"
     ]
    },
    {
     "name": "stderr",
     "output_type": "stream",
     "text": [
      "Validation: 100%|██████████████████████████████| 12/12 [00:03<00:00,  3.61it/s, Loss=2.2427, Acc=0.5781]\n"
     ]
    },
    {
     "name": "stdout",
     "output_type": "stream",
     "text": [
      "✅ Validation completed in 3.33s\n",
      "\n",
      "📊 Epoch 21 Summary:\n",
      "│ Train Loss: 0.0824 | Train Acc: 0.9632\n",
      "│ Val Loss:   2.2427 | Val Acc:   0.5781\n",
      "│ Train Time: 28.19s | Val Time: 3.33s\n",
      "│ Total Epoch Time: 31.53s\n",
      "│ Best Val Acc: 0.6536 (Epoch 11)\n",
      "│ GPU Memory: 0.3GB / 3.2GB\n",
      "================================================================================\n",
      "\n",
      "📈 Epoch 22/50\n",
      "--------------------------------------------------\n",
      "🔄 Training Phase...\n"
     ]
    },
    {
     "name": "stderr",
     "output_type": "stream",
     "text": [
      "Training: 100%|██████████████████████████████| 48/48 [00:27<00:00,  1.72it/s, Loss=0.1172, Acc=0.9599]\n"
     ]
    },
    {
     "name": "stdout",
     "output_type": "stream",
     "text": [
      "✅ Training completed in 27.99s\n",
      "🔍 Validation Phase...\n"
     ]
    },
    {
     "name": "stderr",
     "output_type": "stream",
     "text": [
      "Validation: 100%|██████████████████████████████| 12/12 [00:03<00:00,  3.65it/s, Loss=2.3264, Acc=0.6120]\n"
     ]
    },
    {
     "name": "stdout",
     "output_type": "stream",
     "text": [
      "✅ Validation completed in 3.30s\n",
      "\n",
      "📊 Epoch 22 Summary:\n",
      "│ Train Loss: 0.1172 | Train Acc: 0.9599\n",
      "│ Val Loss:   2.3264 | Val Acc:   0.6120\n",
      "│ Train Time: 27.99s | Val Time: 3.30s\n",
      "│ Total Epoch Time: 31.29s\n",
      "│ Best Val Acc: 0.6536 (Epoch 11)\n",
      "│ GPU Memory: 0.3GB / 3.2GB\n",
      "================================================================================\n",
      "\n",
      "📈 Epoch 23/50\n",
      "--------------------------------------------------\n",
      "🔄 Training Phase...\n"
     ]
    },
    {
     "name": "stderr",
     "output_type": "stream",
     "text": [
      "Training: 100%|██████████████████████████████| 48/48 [00:27<00:00,  1.72it/s, Loss=0.0925, Acc=0.9664]\n"
     ]
    },
    {
     "name": "stdout",
     "output_type": "stream",
     "text": [
      "✅ Training completed in 27.95s\n",
      "🔍 Validation Phase...\n"
     ]
    },
    {
     "name": "stderr",
     "output_type": "stream",
     "text": [
      "Validation: 100%|██████████████████████████████| 12/12 [00:03<00:00,  3.71it/s, Loss=1.9764, Acc=0.5573]\n"
     ]
    },
    {
     "name": "stdout",
     "output_type": "stream",
     "text": [
      "✅ Validation completed in 3.24s\n",
      "\n",
      "📊 Epoch 23 Summary:\n",
      "│ Train Loss: 0.0925 | Train Acc: 0.9664\n",
      "│ Val Loss:   1.9764 | Val Acc:   0.5573\n",
      "│ Train Time: 27.95s | Val Time: 3.24s\n",
      "│ Total Epoch Time: 31.20s\n",
      "│ Best Val Acc: 0.6536 (Epoch 11)\n",
      "│ GPU Memory: 0.3GB / 3.2GB\n",
      "================================================================================\n",
      "\n",
      "📈 Epoch 24/50\n",
      "--------------------------------------------------\n",
      "🔄 Training Phase...\n"
     ]
    },
    {
     "name": "stderr",
     "output_type": "stream",
     "text": [
      "Training: 100%|██████████████████████████████| 48/48 [00:27<00:00,  1.72it/s, Loss=0.0670, Acc=0.9763]\n"
     ]
    },
    {
     "name": "stdout",
     "output_type": "stream",
     "text": [
      "✅ Training completed in 27.95s\n",
      "🔍 Validation Phase...\n"
     ]
    },
    {
     "name": "stderr",
     "output_type": "stream",
     "text": [
      "Validation: 100%|██████████████████████████████| 12/12 [00:03<00:00,  3.73it/s, Loss=2.3522, Acc=0.5677]\n"
     ]
    },
    {
     "name": "stdout",
     "output_type": "stream",
     "text": [
      "✅ Validation completed in 3.22s\n",
      "\n",
      "📊 Epoch 24 Summary:\n",
      "│ Train Loss: 0.0670 | Train Acc: 0.9763\n",
      "│ Val Loss:   2.3522 | Val Acc:   0.5677\n",
      "│ Train Time: 27.95s | Val Time: 3.22s\n",
      "│ Total Epoch Time: 31.18s\n",
      "│ Best Val Acc: 0.6536 (Epoch 11)\n",
      "│ GPU Memory: 0.3GB / 3.2GB\n",
      "================================================================================\n",
      "\n",
      "📈 Epoch 25/50\n",
      "--------------------------------------------------\n",
      "🔄 Training Phase...\n"
     ]
    },
    {
     "name": "stderr",
     "output_type": "stream",
     "text": [
      "Training: 100%|██████████████████████████████| 48/48 [00:28<00:00,  1.71it/s, Loss=0.0638, Acc=0.9816]\n"
     ]
    },
    {
     "name": "stdout",
     "output_type": "stream",
     "text": [
      "✅ Training completed in 28.05s\n",
      "🔍 Validation Phase...\n"
     ]
    },
    {
     "name": "stderr",
     "output_type": "stream",
     "text": [
      "Validation: 100%|██████████████████████████████| 12/12 [00:03<00:00,  3.59it/s, Loss=2.1922, Acc=0.5677]\n"
     ]
    },
    {
     "name": "stdout",
     "output_type": "stream",
     "text": [
      "✅ Validation completed in 3.34s\n",
      "\n",
      "📊 Epoch 25 Summary:\n",
      "│ Train Loss: 0.0638 | Train Acc: 0.9816\n",
      "│ Val Loss:   2.1922 | Val Acc:   0.5677\n",
      "│ Train Time: 28.05s | Val Time: 3.34s\n",
      "│ Total Epoch Time: 31.39s\n",
      "│ Best Val Acc: 0.6536 (Epoch 11)\n",
      "│ GPU Memory: 0.3GB / 3.2GB\n",
      "================================================================================\n",
      "\n",
      "📈 Epoch 26/50\n",
      "--------------------------------------------------\n",
      "🔄 Training Phase...\n"
     ]
    },
    {
     "name": "stderr",
     "output_type": "stream",
     "text": [
      "Training: 100%|██████████████████████████████| 48/48 [00:27<00:00,  1.72it/s, Loss=0.0349, Acc=0.9895]\n"
     ]
    },
    {
     "name": "stdout",
     "output_type": "stream",
     "text": [
      "✅ Training completed in 27.98s\n",
      "🔍 Validation Phase...\n"
     ]
    },
    {
     "name": "stderr",
     "output_type": "stream",
     "text": [
      "Validation: 100%|██████████████████████████████| 12/12 [00:03<00:00,  3.59it/s, Loss=2.5299, Acc=0.5833]\n"
     ]
    },
    {
     "name": "stdout",
     "output_type": "stream",
     "text": [
      "✅ Validation completed in 3.35s\n",
      "\n",
      "📊 Epoch 26 Summary:\n",
      "│ Train Loss: 0.0349 | Train Acc: 0.9895\n",
      "│ Val Loss:   2.5299 | Val Acc:   0.5833\n",
      "│ Train Time: 27.98s | Val Time: 3.35s\n",
      "│ Total Epoch Time: 31.34s\n",
      "│ Best Val Acc: 0.6536 (Epoch 11)\n",
      "│ GPU Memory: 0.3GB / 3.2GB\n",
      "================================================================================\n",
      "\n",
      "📈 Epoch 27/50\n",
      "--------------------------------------------------\n",
      "🔄 Training Phase...\n"
     ]
    },
    {
     "name": "stderr",
     "output_type": "stream",
     "text": [
      "Training: 100%|██████████████████████████████| 48/48 [00:28<00:00,  1.70it/s, Loss=0.0527, Acc=0.9829]\n"
     ]
    },
    {
     "name": "stdout",
     "output_type": "stream",
     "text": [
      "✅ Training completed in 28.22s\n",
      "🔍 Validation Phase...\n"
     ]
    },
    {
     "name": "stderr",
     "output_type": "stream",
     "text": [
      "Validation: 100%|██████████████████████████████| 12/12 [00:03<00:00,  3.65it/s, Loss=2.0936, Acc=0.5781]\n"
     ]
    },
    {
     "name": "stdout",
     "output_type": "stream",
     "text": [
      "✅ Validation completed in 3.29s\n",
      "\n",
      "📊 Epoch 27 Summary:\n",
      "│ Train Loss: 0.0527 | Train Acc: 0.9829\n",
      "│ Val Loss:   2.0936 | Val Acc:   0.5781\n",
      "│ Train Time: 28.22s | Val Time: 3.29s\n",
      "│ Total Epoch Time: 31.52s\n",
      "│ Best Val Acc: 0.6536 (Epoch 11)\n",
      "│ GPU Memory: 0.3GB / 3.2GB\n",
      "================================================================================\n",
      "\n",
      "📈 Epoch 28/50\n",
      "--------------------------------------------------\n",
      "🔄 Training Phase...\n"
     ]
    },
    {
     "name": "stderr",
     "output_type": "stream",
     "text": [
      "Training: 100%|██████████████████████████████| 48/48 [00:27<00:00,  1.72it/s, Loss=0.0636, Acc=0.9757]\n"
     ]
    },
    {
     "name": "stdout",
     "output_type": "stream",
     "text": [
      "✅ Training completed in 27.98s\n",
      "🔍 Validation Phase...\n"
     ]
    },
    {
     "name": "stderr",
     "output_type": "stream",
     "text": [
      "Validation: 100%|██████████████████████████████| 12/12 [00:03<00:00,  3.63it/s, Loss=2.7361, Acc=0.5729]\n"
     ]
    },
    {
     "name": "stdout",
     "output_type": "stream",
     "text": [
      "✅ Validation completed in 3.31s\n",
      "\n",
      "📊 Epoch 28 Summary:\n",
      "│ Train Loss: 0.0636 | Train Acc: 0.9757\n",
      "│ Val Loss:   2.7361 | Val Acc:   0.5729\n",
      "│ Train Time: 27.98s | Val Time: 3.31s\n",
      "│ Total Epoch Time: 31.29s\n",
      "│ Best Val Acc: 0.6536 (Epoch 11)\n",
      "│ GPU Memory: 0.3GB / 3.2GB\n",
      "================================================================================\n",
      "\n",
      "📈 Epoch 29/50\n",
      "--------------------------------------------------\n",
      "🔄 Training Phase...\n"
     ]
    },
    {
     "name": "stderr",
     "output_type": "stream",
     "text": [
      "Training: 100%|██████████████████████████████| 48/48 [00:28<00:00,  1.71it/s, Loss=0.0883, Acc=0.9678]\n"
     ]
    },
    {
     "name": "stdout",
     "output_type": "stream",
     "text": [
      "✅ Training completed in 28.10s\n",
      "🔍 Validation Phase...\n"
     ]
    },
    {
     "name": "stderr",
     "output_type": "stream",
     "text": [
      "Validation: 100%|██████████████████████████████| 12/12 [00:03<00:00,  3.70it/s, Loss=2.5180, Acc=0.5651]\n"
     ]
    },
    {
     "name": "stdout",
     "output_type": "stream",
     "text": [
      "✅ Validation completed in 3.25s\n",
      "\n",
      "📊 Epoch 29 Summary:\n",
      "│ Train Loss: 0.0883 | Train Acc: 0.9678\n",
      "│ Val Loss:   2.5180 | Val Acc:   0.5651\n",
      "│ Train Time: 28.10s | Val Time: 3.25s\n",
      "│ Total Epoch Time: 31.36s\n",
      "│ Best Val Acc: 0.6536 (Epoch 11)\n",
      "│ GPU Memory: 0.3GB / 3.2GB\n",
      "================================================================================\n",
      "\n",
      "📈 Epoch 30/50\n",
      "--------------------------------------------------\n",
      "🔄 Training Phase...\n"
     ]
    },
    {
     "name": "stderr",
     "output_type": "stream",
     "text": [
      "Training: 100%|██████████████████████████████| 48/48 [00:28<00:00,  1.71it/s, Loss=0.1082, Acc=0.9651]\n"
     ]
    },
    {
     "name": "stdout",
     "output_type": "stream",
     "text": [
      "✅ Training completed in 28.03s\n",
      "🔍 Validation Phase...\n"
     ]
    },
    {
     "name": "stderr",
     "output_type": "stream",
     "text": [
      "Validation: 100%|██████████████████████████████| 12/12 [00:03<00:00,  3.71it/s, Loss=2.9039, Acc=0.5339]\n"
     ]
    },
    {
     "name": "stdout",
     "output_type": "stream",
     "text": [
      "✅ Validation completed in 3.25s\n",
      "\n",
      "📊 Epoch 30 Summary:\n",
      "│ Train Loss: 0.1082 | Train Acc: 0.9651\n",
      "│ Val Loss:   2.9039 | Val Acc:   0.5339\n",
      "│ Train Time: 28.03s | Val Time: 3.25s\n",
      "│ Total Epoch Time: 31.28s\n",
      "│ Best Val Acc: 0.6536 (Epoch 11)\n",
      "│ GPU Memory: 0.3GB / 3.2GB\n",
      "================================================================================\n",
      "\n",
      "📈 Epoch 31/50\n",
      "--------------------------------------------------\n",
      "🔄 Training Phase...\n"
     ]
    },
    {
     "name": "stderr",
     "output_type": "stream",
     "text": [
      "Training: 100%|██████████████████████████████| 48/48 [00:27<00:00,  1.71it/s, Loss=0.0767, Acc=0.9743]\n"
     ]
    },
    {
     "name": "stdout",
     "output_type": "stream",
     "text": [
      "✅ Training completed in 27.99s\n",
      "🔍 Validation Phase...\n"
     ]
    },
    {
     "name": "stderr",
     "output_type": "stream",
     "text": [
      "Validation: 100%|██████████████████████████████| 12/12 [00:03<00:00,  3.76it/s, Loss=2.5966, Acc=0.5729]\n"
     ]
    },
    {
     "name": "stdout",
     "output_type": "stream",
     "text": [
      "✅ Validation completed in 3.20s\n",
      "\n",
      "📊 Epoch 31 Summary:\n",
      "│ Train Loss: 0.0767 | Train Acc: 0.9743\n",
      "│ Val Loss:   2.5966 | Val Acc:   0.5729\n",
      "│ Train Time: 27.99s | Val Time: 3.20s\n",
      "│ Total Epoch Time: 31.20s\n",
      "│ Best Val Acc: 0.6536 (Epoch 11)\n",
      "│ GPU Memory: 0.3GB / 3.2GB\n",
      "================================================================================\n",
      "\n",
      "📈 Epoch 32/50\n",
      "--------------------------------------------------\n",
      "🔄 Training Phase...\n"
     ]
    },
    {
     "name": "stderr",
     "output_type": "stream",
     "text": [
      "Training: 100%|██████████████████████████████| 48/48 [00:27<00:00,  1.72it/s, Loss=0.0747, Acc=0.9743]\n"
     ]
    },
    {
     "name": "stdout",
     "output_type": "stream",
     "text": [
      "✅ Training completed in 27.91s\n",
      "🔍 Validation Phase...\n"
     ]
    },
    {
     "name": "stderr",
     "output_type": "stream",
     "text": [
      "Validation: 100%|██████████████████████████████| 12/12 [00:03<00:00,  3.74it/s, Loss=1.8917, Acc=0.5964]\n"
     ]
    },
    {
     "name": "stdout",
     "output_type": "stream",
     "text": [
      "✅ Validation completed in 3.22s\n",
      "\n",
      "📊 Epoch 32 Summary:\n",
      "│ Train Loss: 0.0747 | Train Acc: 0.9743\n",
      "│ Val Loss:   1.8917 | Val Acc:   0.5964\n",
      "│ Train Time: 27.91s | Val Time: 3.22s\n",
      "│ Total Epoch Time: 31.13s\n",
      "│ Best Val Acc: 0.6536 (Epoch 11)\n",
      "│ GPU Memory: 0.3GB / 3.2GB\n",
      "================================================================================\n",
      "\n",
      "📈 Epoch 33/50\n",
      "--------------------------------------------------\n",
      "🔄 Training Phase...\n"
     ]
    },
    {
     "name": "stderr",
     "output_type": "stream",
     "text": [
      "Training: 100%|██████████████████████████████| 48/48 [00:28<00:00,  1.71it/s, Loss=0.0408, Acc=0.9875]\n"
     ]
    },
    {
     "name": "stdout",
     "output_type": "stream",
     "text": [
      "✅ Training completed in 28.13s\n",
      "🔍 Validation Phase...\n"
     ]
    },
    {
     "name": "stderr",
     "output_type": "stream",
     "text": [
      "Validation: 100%|██████████████████████████████| 12/12 [00:03<00:00,  3.63it/s, Loss=2.1478, Acc=0.6146]\n"
     ]
    },
    {
     "name": "stdout",
     "output_type": "stream",
     "text": [
      "✅ Validation completed in 3.31s\n",
      "\n",
      "📊 Epoch 33 Summary:\n",
      "│ Train Loss: 0.0408 | Train Acc: 0.9875\n",
      "│ Val Loss:   2.1478 | Val Acc:   0.6146\n",
      "│ Train Time: 28.13s | Val Time: 3.31s\n",
      "│ Total Epoch Time: 31.45s\n",
      "│ Best Val Acc: 0.6536 (Epoch 11)\n",
      "│ GPU Memory: 0.3GB / 3.2GB\n",
      "================================================================================\n",
      "\n",
      "📈 Epoch 34/50\n",
      "--------------------------------------------------\n",
      "🔄 Training Phase...\n"
     ]
    },
    {
     "name": "stderr",
     "output_type": "stream",
     "text": [
      "Training: 100%|██████████████████████████████| 48/48 [00:27<00:00,  1.72it/s, Loss=0.0437, Acc=0.9836]\n"
     ]
    },
    {
     "name": "stdout",
     "output_type": "stream",
     "text": [
      "✅ Training completed in 27.90s\n",
      "🔍 Validation Phase...\n"
     ]
    },
    {
     "name": "stderr",
     "output_type": "stream",
     "text": [
      "Validation: 100%|██████████████████████████████| 12/12 [00:03<00:00,  3.58it/s, Loss=2.5422, Acc=0.5599]\n"
     ]
    },
    {
     "name": "stdout",
     "output_type": "stream",
     "text": [
      "✅ Validation completed in 3.35s\n",
      "\n",
      "📊 Epoch 34 Summary:\n",
      "│ Train Loss: 0.0437 | Train Acc: 0.9836\n",
      "│ Val Loss:   2.5422 | Val Acc:   0.5599\n",
      "│ Train Time: 27.90s | Val Time: 3.35s\n",
      "│ Total Epoch Time: 31.26s\n",
      "│ Best Val Acc: 0.6536 (Epoch 11)\n",
      "│ GPU Memory: 0.3GB / 3.2GB\n",
      "================================================================================\n",
      "\n",
      "📈 Epoch 35/50\n",
      "--------------------------------------------------\n",
      "🔄 Training Phase...\n"
     ]
    },
    {
     "name": "stderr",
     "output_type": "stream",
     "text": [
      "Training: 100%|██████████████████████████████| 48/48 [00:28<00:00,  1.71it/s, Loss=0.0274, Acc=0.9934]\n"
     ]
    },
    {
     "name": "stdout",
     "output_type": "stream",
     "text": [
      "✅ Training completed in 28.02s\n",
      "🔍 Validation Phase...\n"
     ]
    },
    {
     "name": "stderr",
     "output_type": "stream",
     "text": [
      "Validation: 100%|██████████████████████████████| 12/12 [00:03<00:00,  3.67it/s, Loss=2.4397, Acc=0.6276]\n"
     ]
    },
    {
     "name": "stdout",
     "output_type": "stream",
     "text": [
      "✅ Validation completed in 3.28s\n",
      "\n",
      "📊 Epoch 35 Summary:\n",
      "│ Train Loss: 0.0274 | Train Acc: 0.9934\n",
      "│ Val Loss:   2.4397 | Val Acc:   0.6276\n",
      "│ Train Time: 28.02s | Val Time: 3.28s\n",
      "│ Total Epoch Time: 31.30s\n",
      "│ Best Val Acc: 0.6536 (Epoch 11)\n",
      "│ GPU Memory: 0.3GB / 3.2GB\n",
      "================================================================================\n",
      "\n",
      "📈 Epoch 36/50\n",
      "--------------------------------------------------\n",
      "🔄 Training Phase...\n"
     ]
    },
    {
     "name": "stderr",
     "output_type": "stream",
     "text": [
      "Training: 100%|██████████████████████████████| 48/48 [00:27<00:00,  1.73it/s, Loss=0.0476, Acc=0.9836]\n"
     ]
    },
    {
     "name": "stdout",
     "output_type": "stream",
     "text": [
      "✅ Training completed in 27.74s\n",
      "🔍 Validation Phase...\n"
     ]
    },
    {
     "name": "stderr",
     "output_type": "stream",
     "text": [
      "Validation: 100%|██████████████████████████████| 12/12 [00:03<00:00,  3.62it/s, Loss=2.1248, Acc=0.5990]\n"
     ]
    },
    {
     "name": "stdout",
     "output_type": "stream",
     "text": [
      "✅ Validation completed in 3.31s\n",
      "\n",
      "📊 Epoch 36 Summary:\n",
      "│ Train Loss: 0.0476 | Train Acc: 0.9836\n",
      "│ Val Loss:   2.1248 | Val Acc:   0.5990\n",
      "│ Train Time: 27.74s | Val Time: 3.31s\n",
      "│ Total Epoch Time: 31.06s\n",
      "│ Best Val Acc: 0.6536 (Epoch 11)\n",
      "│ GPU Memory: 0.3GB / 3.2GB\n",
      "================================================================================\n",
      "\n",
      "📈 Epoch 37/50\n",
      "--------------------------------------------------\n",
      "🔄 Training Phase...\n"
     ]
    },
    {
     "name": "stderr",
     "output_type": "stream",
     "text": [
      "Training: 100%|██████████████████████████████| 48/48 [00:28<00:00,  1.70it/s, Loss=0.0170, Acc=0.9934]\n"
     ]
    },
    {
     "name": "stdout",
     "output_type": "stream",
     "text": [
      "✅ Training completed in 28.23s\n",
      "🔍 Validation Phase...\n"
     ]
    },
    {
     "name": "stderr",
     "output_type": "stream",
     "text": [
      "Validation: 100%|██████████████████████████████| 12/12 [00:03<00:00,  3.46it/s, Loss=2.6429, Acc=0.5807]\n"
     ]
    },
    {
     "name": "stdout",
     "output_type": "stream",
     "text": [
      "✅ Validation completed in 3.47s\n",
      "\n",
      "📊 Epoch 37 Summary:\n",
      "│ Train Loss: 0.0170 | Train Acc: 0.9934\n",
      "│ Val Loss:   2.6429 | Val Acc:   0.5807\n",
      "│ Train Time: 28.23s | Val Time: 3.47s\n",
      "│ Total Epoch Time: 31.70s\n",
      "│ Best Val Acc: 0.6536 (Epoch 11)\n",
      "│ GPU Memory: 0.3GB / 3.2GB\n",
      "================================================================================\n",
      "\n",
      "📈 Epoch 38/50\n",
      "--------------------------------------------------\n",
      "🔄 Training Phase...\n"
     ]
    },
    {
     "name": "stderr",
     "output_type": "stream",
     "text": [
      "Training: 100%|██████████████████████████████| 48/48 [00:28<00:00,  1.71it/s, Loss=0.0118, Acc=0.9961]\n"
     ]
    },
    {
     "name": "stdout",
     "output_type": "stream",
     "text": [
      "✅ Training completed in 28.06s\n",
      "🔍 Validation Phase...\n"
     ]
    },
    {
     "name": "stderr",
     "output_type": "stream",
     "text": [
      "Validation: 100%|██████████████████████████████| 12/12 [00:03<00:00,  3.69it/s, Loss=2.7457, Acc=0.6120]\n"
     ]
    },
    {
     "name": "stdout",
     "output_type": "stream",
     "text": [
      "✅ Validation completed in 3.26s\n",
      "\n",
      "📊 Epoch 38 Summary:\n",
      "│ Train Loss: 0.0118 | Train Acc: 0.9961\n",
      "│ Val Loss:   2.7457 | Val Acc:   0.6120\n",
      "│ Train Time: 28.06s | Val Time: 3.26s\n",
      "│ Total Epoch Time: 31.32s\n",
      "│ Best Val Acc: 0.6536 (Epoch 11)\n",
      "│ GPU Memory: 0.3GB / 3.2GB\n",
      "================================================================================\n",
      "\n",
      "📈 Epoch 39/50\n",
      "--------------------------------------------------\n",
      "🔄 Training Phase...\n"
     ]
    },
    {
     "name": "stderr",
     "output_type": "stream",
     "text": [
      "Training: 100%|██████████████████████████████| 48/48 [00:27<00:00,  1.72it/s, Loss=0.0089, Acc=0.9961]\n"
     ]
    },
    {
     "name": "stdout",
     "output_type": "stream",
     "text": [
      "✅ Training completed in 27.91s\n",
      "🔍 Validation Phase...\n"
     ]
    },
    {
     "name": "stderr",
     "output_type": "stream",
     "text": [
      "Validation: 100%|██████████████████████████████| 12/12 [00:03<00:00,  3.65it/s, Loss=2.4576, Acc=0.6146]\n"
     ]
    },
    {
     "name": "stdout",
     "output_type": "stream",
     "text": [
      "✅ Validation completed in 3.30s\n",
      "\n",
      "📊 Epoch 39 Summary:\n",
      "│ Train Loss: 0.0089 | Train Acc: 0.9961\n",
      "│ Val Loss:   2.4576 | Val Acc:   0.6146\n",
      "│ Train Time: 27.91s | Val Time: 3.30s\n",
      "│ Total Epoch Time: 31.21s\n",
      "│ Best Val Acc: 0.6536 (Epoch 11)\n",
      "│ GPU Memory: 0.3GB / 3.2GB\n",
      "================================================================================\n",
      "\n",
      "📈 Epoch 40/50\n",
      "--------------------------------------------------\n",
      "🔄 Training Phase...\n"
     ]
    },
    {
     "name": "stderr",
     "output_type": "stream",
     "text": [
      "Training: 100%|██████████████████████████████| 48/48 [00:28<00:00,  1.71it/s, Loss=0.0041, Acc=0.9987]\n"
     ]
    },
    {
     "name": "stdout",
     "output_type": "stream",
     "text": [
      "✅ Training completed in 28.15s\n",
      "🔍 Validation Phase...\n"
     ]
    },
    {
     "name": "stderr",
     "output_type": "stream",
     "text": [
      "Validation: 100%|██████████████████████████████| 12/12 [00:03<00:00,  3.69it/s, Loss=3.0067, Acc=0.6146]\n"
     ]
    },
    {
     "name": "stdout",
     "output_type": "stream",
     "text": [
      "✅ Validation completed in 3.26s\n",
      "\n",
      "📊 Epoch 40 Summary:\n",
      "│ Train Loss: 0.0041 | Train Acc: 0.9987\n",
      "│ Val Loss:   3.0067 | Val Acc:   0.6146\n",
      "│ Train Time: 28.15s | Val Time: 3.26s\n",
      "│ Total Epoch Time: 31.41s\n",
      "│ Best Val Acc: 0.6536 (Epoch 11)\n",
      "│ GPU Memory: 0.3GB / 3.2GB\n",
      "================================================================================\n",
      "\n",
      "📈 Epoch 41/50\n",
      "--------------------------------------------------\n",
      "🔄 Training Phase...\n"
     ]
    },
    {
     "name": "stderr",
     "output_type": "stream",
     "text": [
      "Training: 100%|██████████████████████████████| 48/48 [00:27<00:00,  1.72it/s, Loss=0.0176, Acc=0.9941]\n"
     ]
    },
    {
     "name": "stdout",
     "output_type": "stream",
     "text": [
      "✅ Training completed in 27.99s\n",
      "🔍 Validation Phase...\n"
     ]
    },
    {
     "name": "stderr",
     "output_type": "stream",
     "text": [
      "Validation: 100%|██████████████████████████████| 12/12 [00:03<00:00,  3.58it/s, Loss=2.6709, Acc=0.6042]\n"
     ]
    },
    {
     "name": "stdout",
     "output_type": "stream",
     "text": [
      "✅ Validation completed in 3.35s\n",
      "\n",
      "📊 Epoch 41 Summary:\n",
      "│ Train Loss: 0.0176 | Train Acc: 0.9941\n",
      "│ Val Loss:   2.6709 | Val Acc:   0.6042\n",
      "│ Train Time: 27.99s | Val Time: 3.35s\n",
      "│ Total Epoch Time: 31.35s\n",
      "│ Best Val Acc: 0.6536 (Epoch 11)\n",
      "│ GPU Memory: 0.3GB / 3.2GB\n",
      "================================================================================\n",
      "\n",
      "📈 Epoch 42/50\n",
      "--------------------------------------------------\n",
      "🔄 Training Phase...\n"
     ]
    },
    {
     "name": "stderr",
     "output_type": "stream",
     "text": [
      "Training: 100%|██████████████████████████████| 48/48 [00:27<00:00,  1.72it/s, Loss=0.0110, Acc=0.9954]\n"
     ]
    },
    {
     "name": "stdout",
     "output_type": "stream",
     "text": [
      "✅ Training completed in 27.87s\n",
      "🔍 Validation Phase...\n"
     ]
    },
    {
     "name": "stderr",
     "output_type": "stream",
     "text": [
      "Validation: 100%|██████████████████████████████| 12/12 [00:03<00:00,  3.65it/s, Loss=3.4653, Acc=0.5807]\n"
     ]
    },
    {
     "name": "stdout",
     "output_type": "stream",
     "text": [
      "✅ Validation completed in 3.29s\n",
      "\n",
      "📊 Epoch 42 Summary:\n",
      "│ Train Loss: 0.0110 | Train Acc: 0.9954\n",
      "│ Val Loss:   3.4653 | Val Acc:   0.5807\n",
      "│ Train Time: 27.87s | Val Time: 3.29s\n",
      "│ Total Epoch Time: 31.17s\n",
      "│ Best Val Acc: 0.6536 (Epoch 11)\n",
      "│ GPU Memory: 0.3GB / 3.2GB\n",
      "================================================================================\n",
      "\n",
      "📈 Epoch 43/50\n",
      "--------------------------------------------------\n",
      "🔄 Training Phase...\n"
     ]
    },
    {
     "name": "stderr",
     "output_type": "stream",
     "text": [
      "Training: 100%|██████████████████████████████| 48/48 [00:28<00:00,  1.71it/s, Loss=0.0162, Acc=0.9947]\n"
     ]
    },
    {
     "name": "stdout",
     "output_type": "stream",
     "text": [
      "✅ Training completed in 28.10s\n",
      "🔍 Validation Phase...\n"
     ]
    },
    {
     "name": "stderr",
     "output_type": "stream",
     "text": [
      "Validation: 100%|██████████████████████████████| 12/12 [00:03<00:00,  3.62it/s, Loss=2.2828, Acc=0.6250]\n"
     ]
    },
    {
     "name": "stdout",
     "output_type": "stream",
     "text": [
      "✅ Validation completed in 3.31s\n",
      "\n",
      "📊 Epoch 43 Summary:\n",
      "│ Train Loss: 0.0162 | Train Acc: 0.9947\n",
      "│ Val Loss:   2.2828 | Val Acc:   0.6250\n",
      "│ Train Time: 28.10s | Val Time: 3.31s\n",
      "│ Total Epoch Time: 31.42s\n",
      "│ Best Val Acc: 0.6536 (Epoch 11)\n",
      "│ GPU Memory: 0.3GB / 3.2GB\n",
      "================================================================================\n",
      "\n",
      "📈 Epoch 44/50\n",
      "--------------------------------------------------\n",
      "🔄 Training Phase...\n"
     ]
    },
    {
     "name": "stderr",
     "output_type": "stream",
     "text": [
      "Training: 100%|██████████████████████████████| 48/48 [00:28<00:00,  1.70it/s, Loss=0.0060, Acc=0.9980]\n"
     ]
    },
    {
     "name": "stdout",
     "output_type": "stream",
     "text": [
      "✅ Training completed in 28.19s\n",
      "🔍 Validation Phase...\n"
     ]
    },
    {
     "name": "stderr",
     "output_type": "stream",
     "text": [
      "Validation: 100%|██████████████████████████████| 12/12 [00:03<00:00,  3.65it/s, Loss=2.4973, Acc=0.6406]\n"
     ]
    },
    {
     "name": "stdout",
     "output_type": "stream",
     "text": [
      "✅ Validation completed in 3.30s\n",
      "\n",
      "📊 Epoch 44 Summary:\n",
      "│ Train Loss: 0.0060 | Train Acc: 0.9980\n",
      "│ Val Loss:   2.4973 | Val Acc:   0.6406\n",
      "│ Train Time: 28.19s | Val Time: 3.30s\n",
      "│ Total Epoch Time: 31.49s\n",
      "│ Best Val Acc: 0.6536 (Epoch 11)\n",
      "│ GPU Memory: 0.3GB / 3.2GB\n",
      "================================================================================\n",
      "\n",
      "📈 Epoch 45/50\n",
      "--------------------------------------------------\n",
      "🔄 Training Phase...\n"
     ]
    },
    {
     "name": "stderr",
     "output_type": "stream",
     "text": [
      "Training: 100%|██████████████████████████████| 48/48 [00:27<00:00,  1.72it/s, Loss=0.0115, Acc=0.9980]\n"
     ]
    },
    {
     "name": "stdout",
     "output_type": "stream",
     "text": [
      "✅ Training completed in 27.92s\n",
      "🔍 Validation Phase...\n"
     ]
    },
    {
     "name": "stderr",
     "output_type": "stream",
     "text": [
      "Validation: 100%|██████████████████████████████| 12/12 [00:03<00:00,  3.66it/s, Loss=2.6221, Acc=0.6016]\n"
     ]
    },
    {
     "name": "stdout",
     "output_type": "stream",
     "text": [
      "✅ Validation completed in 3.28s\n",
      "\n",
      "📊 Epoch 45 Summary:\n",
      "│ Train Loss: 0.0115 | Train Acc: 0.9980\n",
      "│ Val Loss:   2.6221 | Val Acc:   0.6016\n",
      "│ Train Time: 27.92s | Val Time: 3.28s\n",
      "│ Total Epoch Time: 31.20s\n",
      "│ Best Val Acc: 0.6536 (Epoch 11)\n",
      "│ GPU Memory: 0.3GB / 3.2GB\n",
      "================================================================================\n",
      "\n",
      "📈 Epoch 46/50\n",
      "--------------------------------------------------\n",
      "🔄 Training Phase...\n"
     ]
    },
    {
     "name": "stderr",
     "output_type": "stream",
     "text": [
      "Training: 100%|██████████████████████████████| 48/48 [00:28<00:00,  1.71it/s, Loss=0.0076, Acc=0.9974]\n"
     ]
    },
    {
     "name": "stdout",
     "output_type": "stream",
     "text": [
      "✅ Training completed in 28.09s\n",
      "🔍 Validation Phase...\n"
     ]
    },
    {
     "name": "stderr",
     "output_type": "stream",
     "text": [
      "Validation: 100%|██████████████████████████████| 12/12 [00:03<00:00,  3.78it/s, Loss=2.1873, Acc=0.6146]\n"
     ]
    },
    {
     "name": "stdout",
     "output_type": "stream",
     "text": [
      "✅ Validation completed in 3.18s\n",
      "\n",
      "📊 Epoch 46 Summary:\n",
      "│ Train Loss: 0.0076 | Train Acc: 0.9974\n",
      "│ Val Loss:   2.1873 | Val Acc:   0.6146\n",
      "│ Train Time: 28.09s | Val Time: 3.18s\n",
      "│ Total Epoch Time: 31.26s\n",
      "│ Best Val Acc: 0.6536 (Epoch 11)\n",
      "│ GPU Memory: 0.3GB / 3.2GB\n",
      "================================================================================\n",
      "\n",
      "📈 Epoch 47/50\n",
      "--------------------------------------------------\n",
      "🔄 Training Phase...\n"
     ]
    },
    {
     "name": "stderr",
     "output_type": "stream",
     "text": [
      "Training: 100%|██████████████████████████████| 48/48 [00:27<00:00,  1.72it/s, Loss=0.0076, Acc=0.9961]\n"
     ]
    },
    {
     "name": "stdout",
     "output_type": "stream",
     "text": [
      "✅ Training completed in 27.92s\n",
      "🔍 Validation Phase...\n"
     ]
    },
    {
     "name": "stderr",
     "output_type": "stream",
     "text": [
      "Validation: 100%|██████████████████████████████| 12/12 [00:03<00:00,  3.59it/s, Loss=2.5678, Acc=0.6068]\n"
     ]
    },
    {
     "name": "stdout",
     "output_type": "stream",
     "text": [
      "✅ Validation completed in 3.35s\n",
      "\n",
      "📊 Epoch 47 Summary:\n",
      "│ Train Loss: 0.0076 | Train Acc: 0.9961\n",
      "│ Val Loss:   2.5678 | Val Acc:   0.6068\n",
      "│ Train Time: 27.92s | Val Time: 3.35s\n",
      "│ Total Epoch Time: 31.27s\n",
      "│ Best Val Acc: 0.6536 (Epoch 11)\n",
      "│ GPU Memory: 0.3GB / 3.2GB\n",
      "================================================================================\n",
      "\n",
      "📈 Epoch 48/50\n",
      "--------------------------------------------------\n",
      "🔄 Training Phase...\n"
     ]
    },
    {
     "name": "stderr",
     "output_type": "stream",
     "text": [
      "Training: 100%|██████████████████████████████| 48/48 [00:27<00:00,  1.73it/s, Loss=0.0057, Acc=0.9980]\n"
     ]
    },
    {
     "name": "stdout",
     "output_type": "stream",
     "text": [
      "✅ Training completed in 27.80s\n",
      "🔍 Validation Phase...\n"
     ]
    },
    {
     "name": "stderr",
     "output_type": "stream",
     "text": [
      "Validation: 100%|██████████████████████████████| 12/12 [00:03<00:00,  3.74it/s, Loss=2.4748, Acc=0.5990]\n"
     ]
    },
    {
     "name": "stdout",
     "output_type": "stream",
     "text": [
      "✅ Validation completed in 3.21s\n",
      "\n",
      "📊 Epoch 48 Summary:\n",
      "│ Train Loss: 0.0057 | Train Acc: 0.9980\n",
      "│ Val Loss:   2.4748 | Val Acc:   0.5990\n",
      "│ Train Time: 27.80s | Val Time: 3.21s\n",
      "│ Total Epoch Time: 31.02s\n",
      "│ Best Val Acc: 0.6536 (Epoch 11)\n",
      "│ GPU Memory: 0.3GB / 3.2GB\n",
      "================================================================================\n",
      "\n",
      "📈 Epoch 49/50\n",
      "--------------------------------------------------\n",
      "🔄 Training Phase...\n"
     ]
    },
    {
     "name": "stderr",
     "output_type": "stream",
     "text": [
      "Training: 100%|██████████████████████████████| 48/48 [00:27<00:00,  1.73it/s, Loss=0.0034, Acc=0.9993]\n"
     ]
    },
    {
     "name": "stdout",
     "output_type": "stream",
     "text": [
      "✅ Training completed in 27.78s\n",
      "🔍 Validation Phase...\n"
     ]
    },
    {
     "name": "stderr",
     "output_type": "stream",
     "text": [
      "Validation: 100%|██████████████████████████████| 12/12 [00:03<00:00,  3.72it/s, Loss=2.5197, Acc=0.6406]\n"
     ]
    },
    {
     "name": "stdout",
     "output_type": "stream",
     "text": [
      "✅ Validation completed in 3.23s\n",
      "\n",
      "📊 Epoch 49 Summary:\n",
      "│ Train Loss: 0.0034 | Train Acc: 0.9993\n",
      "│ Val Loss:   2.5197 | Val Acc:   0.6406\n",
      "│ Train Time: 27.78s | Val Time: 3.23s\n",
      "│ Total Epoch Time: 31.01s\n",
      "│ Best Val Acc: 0.6536 (Epoch 11)\n",
      "│ GPU Memory: 0.3GB / 3.2GB\n",
      "================================================================================\n",
      "\n",
      "📈 Epoch 50/50\n",
      "--------------------------------------------------\n",
      "🔄 Training Phase...\n"
     ]
    },
    {
     "name": "stderr",
     "output_type": "stream",
     "text": [
      "Training: 100%|██████████████████████████████| 48/48 [00:27<00:00,  1.72it/s, Loss=0.0012, Acc=1.0000]\n"
     ]
    },
    {
     "name": "stdout",
     "output_type": "stream",
     "text": [
      "✅ Training completed in 27.88s\n",
      "🔍 Validation Phase...\n"
     ]
    },
    {
     "name": "stderr",
     "output_type": "stream",
     "text": [
      "Validation: 100%|██████████████████████████████| 12/12 [00:03<00:00,  3.77it/s, Loss=2.5112, Acc=0.6380]\n"
     ]
    },
    {
     "name": "stdout",
     "output_type": "stream",
     "text": [
      "✅ Validation completed in 3.18s\n",
      "\n",
      "📊 Epoch 50 Summary:\n",
      "│ Train Loss: 0.0012 | Train Acc: 1.0000\n",
      "│ Val Loss:   2.5112 | Val Acc:   0.6380\n",
      "│ Train Time: 27.88s | Val Time: 3.18s\n",
      "│ Total Epoch Time: 31.06s\n",
      "│ Best Val Acc: 0.6536 (Epoch 11)\n",
      "│ GPU Memory: 0.3GB / 3.2GB\n",
      "================================================================================\n",
      "\n",
      "💾 Best ResNet50 model saved as 'best_resnet50_model.pth'\n",
      "📊 Best model stats:\n",
      "│ Best Epoch: 11\n",
      "│ Best Val Acc: 0.6536\n",
      "\n",
      "💾 ResNet50 training history saved to 'resnet50_training_history.csv'\n",
      "\n",
      "🎉 ResNet50 Training Complete!\n",
      "Total Training Time: 1565.88s (26.1 minutes)\n",
      "Average Epoch Time: 31.32s\n",
      "\n",
      "⏱️  Epoch Timing Breakdown:\n",
      "│ Epoch 1: 41.11s\n",
      "│ Epoch 2: 28.98s\n",
      "│ Epoch 3: 29.21s\n",
      "│ Epoch 4: 29.66s\n",
      "│ Epoch 5: 30.20s\n",
      "│ Epoch 6: 31.43s\n",
      "│ Epoch 7: 31.11s\n",
      "│ Epoch 8: 30.96s\n",
      "│ Epoch 9: 30.96s\n",
      "│ Epoch 10: 30.88s\n",
      "│ Epoch 11: 31.07s\n",
      "│ Epoch 12: 31.14s\n",
      "│ Epoch 13: 31.41s\n",
      "│ Epoch 14: 31.38s\n",
      "│ Epoch 15: 31.58s\n",
      "│ Epoch 16: 31.40s\n",
      "│ Epoch 17: 30.98s\n",
      "│ Epoch 18: 31.22s\n",
      "│ Epoch 19: 31.33s\n",
      "│ Epoch 20: 31.16s\n",
      "│ Epoch 21: 31.53s\n",
      "│ Epoch 22: 31.29s\n",
      "│ Epoch 23: 31.20s\n",
      "│ Epoch 24: 31.18s\n",
      "│ Epoch 25: 31.39s\n",
      "│ Epoch 26: 31.34s\n",
      "│ Epoch 27: 31.52s\n",
      "│ Epoch 28: 31.29s\n",
      "│ Epoch 29: 31.36s\n",
      "│ Epoch 30: 31.28s\n",
      "│ Epoch 31: 31.20s\n",
      "│ Epoch 32: 31.13s\n",
      "│ Epoch 33: 31.45s\n",
      "│ Epoch 34: 31.26s\n",
      "│ Epoch 35: 31.30s\n",
      "│ Epoch 36: 31.06s\n",
      "│ Epoch 37: 31.70s\n",
      "│ Epoch 38: 31.32s\n",
      "│ Epoch 39: 31.21s\n",
      "│ Epoch 40: 31.41s\n",
      "│ Epoch 41: 31.35s\n",
      "│ Epoch 42: 31.17s\n",
      "│ Epoch 43: 31.42s\n",
      "│ Epoch 44: 31.49s\n",
      "│ Epoch 45: 31.20s\n",
      "│ Epoch 46: 31.26s\n",
      "│ Epoch 47: 31.27s\n",
      "│ Epoch 48: 31.02s\n",
      "│ Epoch 49: 31.01s\n",
      "│ Epoch 50: 31.06s\n",
      "\n",
      "🧪 Loading Best ResNet50 Model for Testing...\n",
      "✅ Best ResNet50 model from epoch 11 loaded successfully!\n"
     ]
    },
    {
     "name": "stderr",
     "output_type": "stream",
     "text": [
      "Testing ResNet50: 100%|██████████████████████████████| 16/16 [00:07<00:00,  2.10it/s]\n"
     ]
    },
    {
     "name": "stdout",
     "output_type": "stream",
     "text": [
      "✅ ResNet50 Testing completed in 7.61s\n",
      "\n",
      "📋 ResNet50 Classification Report:\n",
      "              precision    recall  f1-score   support\n",
      "\n",
      "   fast_bowl     0.7143    0.7895    0.7500       304\n",
      "   spin_bowl     0.5789    0.4783    0.5238       184\n",
      "\n",
      "    accuracy                         0.6721       488\n",
      "   macro avg     0.6466    0.6339    0.6369       488\n",
      "weighted avg     0.6633    0.6721    0.6647       488\n",
      "\n",
      "🎯 ResNet50 Test Accuracy: 0.6721\n",
      "\n",
      "📊 ResNet50 Model Performance Summary:\n",
      "│ Best Validation Acc:  0.6536 (Epoch 11)\n",
      "│ Final Test Accuracy:  0.6721\n",
      "│ Val-Test Gap:         0.0185\n"
     ]
    },
    {
     "data": {
      "image/png": "[encoded data removed]",
      "text/plain": [
       "<Figure size 800x600 with 2 Axes>"
      ]
     },
     "metadata": {},
     "output_type": "display_data"
    },
    {
     "data": {
      "image/png": "[encoded data removed]",
      "text/plain": [
       "<Figure size 2000x500 with 4 Axes>"
      ]
     },
     "metadata": {},
     "output_type": "display_data"
    },
    {
     "name": "stdout",
     "output_type": "stream",
     "text": [
      "\n",
      "⏰ ResNet50 Final Timing Summary:\n",
      "│ Total Training: 1565.88s\n",
      "│ Average per Epoch: 31.32s\n",
      "│ Testing Time: 7.61s\n",
      "│ Total Runtime: 1573.49s\n",
      "\n",
      "💾 ResNet50 Files saved:\n",
      "│ best_resnet50_model.pth - Best validation accuracy model\n",
      "│ resnet50_training_history.csv - Training metrics for later plotting\n",
      "\n",
      "🏗️  ResNet50 Architecture Summary:\n",
      "│ Total Parameters: 23,512,130\n",
      "│ Trainable Parameters: 23,512,130\n",
      "│ Model Size: 89.69 MB\n",
      "│ Input Size: 224x224x3\n",
      "│ Output Classes: 2\n",
      "│ Architecture: ResNet50\n",
      "│ Block Type: Bottleneck\n",
      "│ Layers: [3, 4, 6, 3]\n",
      "│ Skip Connections: Yes\n",
      "│ Batch Normalization: Yes\n",
      "│ Activation: ReLU\n",
      "│ Zero Init Residual: Yes\n"
     ]
    }
   ],
   "source": [
    "# -----------------------------\n",
    "# 4. Training Loop with Best Model Saving (Val Accuracy) - ResNet50\n",
    "# -----------------------------\n",
    "train_losses, val_losses = [], []\n",
    "train_accs, val_accs = [], []\n",
    "epoch_times = []\n",
    "epochs = 50\n",
    "\n",
    "# Initialize best model tracking\n",
    "best_val_acc = 0.0\n",
    "best_model_state = None\n",
    "best_epoch = 0\n",
    "\n",
    "print(f\"\\n🚀 Starting ResNet50 Training for {epochs} epochs...\")\n",
    "print(\"=\" * 80)\n",
    "\n",
    "total_start_time = time.time()\n",
    "\n",
    "for epoch in range(epochs):\n",
    "    epoch_start_time = time.time()\n",
    "    \n",
    "    print(f\"\\n📈 Epoch {epoch+1}/{epochs}\")\n",
    "    print(\"-\" * 50)\n",
    "    \n",
    "    # Training Phase\n",
    "    print(\"🔄 Training Phase...\")\n",
    "    model.train()\n",
    "    running_loss, correct, total = 0, 0, 0\n",
    "    \n",
    "    train_pbar = tqdm(train_loader, desc=f\"Training\", \n",
    "                     bar_format='{l_bar}{bar:30}{r_bar}{bar:-30b}')\n",
    "    \n",
    "    train_phase_start = time.time()\n",
    "    \n",
    "    for batch_idx, (imgs, labels) in enumerate(train_pbar):\n",
    "        imgs, labels = imgs.to(device), labels.to(device)\n",
    "        \n",
    "        optimizer.zero_grad()\n",
    "        outputs = model(imgs)\n",
    "        loss = criterion(outputs, labels)\n",
    "        loss.backward()\n",
    "        optimizer.step()\n",
    "        \n",
    "        running_loss += loss.item()\n",
    "        _, preds = torch.max(outputs, 1)\n",
    "        correct += (preds == labels).sum().item()\n",
    "        total += labels.size(0)\n",
    "        \n",
    "        current_acc = correct / total\n",
    "        train_pbar.set_postfix({\n",
    "            'Loss': f'{running_loss/(batch_idx+1):.4f}',\n",
    "            'Acc': f'{current_acc:.4f}'\n",
    "        })\n",
    "        \n",
    "        if device.type == 'cuda' and batch_idx % 10 == 0:\n",
    "            gpu_memory = torch.cuda.memory_allocated() / 1024**3\n",
    "            train_pbar.set_postfix({\n",
    "                'Loss': f'{running_loss/(batch_idx+1):.4f}',\n",
    "                'Acc': f'{current_acc:.4f}',\n",
    "                'GPU': f'{gpu_memory:.1f}GB'\n",
    "            })\n",
    "    \n",
    "    train_phase_time = time.time() - train_phase_start\n",
    "    train_loss = running_loss / len(train_loader)\n",
    "    train_acc = correct / total\n",
    "    train_losses.append(train_loss)\n",
    "    train_accs.append(train_acc)\n",
    "    \n",
    "    print(f\"✅ Training completed in {train_phase_time:.2f}s\")\n",
    "    \n",
    "    # Validation Phase\n",
    "    print(\"🔍 Validation Phase...\")\n",
    "    model.eval()\n",
    "    running_loss, correct, total = 0, 0, 0\n",
    "    \n",
    "    val_phase_start = time.time()\n",
    "    val_pbar = tqdm(val_loader, desc=f\"Validation\", \n",
    "                   bar_format='{l_bar}{bar:30}{r_bar}{bar:-30b}')\n",
    "    \n",
    "    with torch.no_grad():\n",
    "        for batch_idx, (imgs, labels) in enumerate(val_pbar):\n",
    "            imgs, labels = imgs.to(device), labels.to(device)\n",
    "            outputs = model(imgs)\n",
    "            loss = criterion(outputs, labels)\n",
    "            \n",
    "            running_loss += loss.item()\n",
    "            _, preds = torch.max(outputs, 1)\n",
    "            correct += (preds == labels).sum().item()\n",
    "            total += labels.size(0)\n",
    "            \n",
    "            current_acc = correct / total\n",
    "            val_pbar.set_postfix({\n",
    "                'Loss': f'{running_loss/(batch_idx+1):.4f}',\n",
    "                'Acc': f'{current_acc:.4f}'\n",
    "            })\n",
    "    \n",
    "    val_phase_time = time.time() - val_phase_start\n",
    "    val_loss = running_loss / len(val_loader)\n",
    "    val_acc = correct / total\n",
    "    val_losses.append(val_loss)\n",
    "    val_accs.append(val_acc)\n",
    "    \n",
    "    print(f\"✅ Validation completed in {val_phase_time:.2f}s\")\n",
    "    \n",
    "    # Check if this is the best model so far based on val_acc\n",
    "    is_best = val_acc > best_val_acc\n",
    "    if is_best:\n",
    "        best_val_acc = val_acc\n",
    "        best_epoch = epoch + 1\n",
    "        best_model_state = model.state_dict().copy()\n",
    "        print(f\"🌟 New best ResNet50 model found! Validation Accuracy: {val_acc:.4f}\")\n",
    "    \n",
    "    # Epoch Summary\n",
    "    epoch_time = time.time() - epoch_start_time\n",
    "    epoch_times.append(epoch_time)\n",
    "    \n",
    "    print(f\"\\n📊 Epoch {epoch+1} Summary:\")\n",
    "    print(f\"│ Train Loss: {train_loss:.4f} | Train Acc: {train_acc:.4f}\")\n",
    "    print(f\"│ Val Loss:   {val_loss:.4f} | Val Acc:   {val_acc:.4f}\")\n",
    "    print(f\"│ Train Time: {train_phase_time:.2f}s | Val Time: {val_phase_time:.2f}s\")\n",
    "    print(f\"│ Total Epoch Time: {epoch_time:.2f}s\")\n",
    "    print(f\"│ Best Val Acc: {best_val_acc:.4f} (Epoch {best_epoch})\")\n",
    "    \n",
    "    if device.type == 'cuda':\n",
    "        print(f\"│ GPU Memory: {torch.cuda.memory_allocated()/1024**3:.1f}GB / {torch.cuda.memory_reserved()/1024**3:.1f}GB\")\n",
    "    \n",
    "    print(\"=\" * 80)\n",
    "\n",
    "total_training_time = time.time() - total_start_time\n",
    "\n",
    "# Save the best model\n",
    "if best_model_state is not None:\n",
    "    torch.save(best_model_state, 'best_resnet50_model.pth')\n",
    "    print(f\"\\n💾 Best ResNet50 model saved as 'best_resnet50_model.pth'\")\n",
    "    print(f\"📊 Best model stats:\")\n",
    "    print(f\"│ Best Epoch: {best_epoch}\")\n",
    "    print(f\"│ Best Val Acc: {best_val_acc:.4f}\")\n",
    "\n",
    "# Save training history data to CSV\n",
    "history_data = {\n",
    "    'epoch': list(range(1, epochs+1)),\n",
    "    'train_loss': train_losses,\n",
    "    'val_loss': val_losses,\n",
    "    'train_acc': train_accs,\n",
    "    'val_acc': val_accs,\n",
    "    'epoch_time': epoch_times\n",
    "}\n",
    "history_df = pd.DataFrame(history_data)\n",
    "history_df.to_csv('resnet50_training_history.csv', index=False)\n",
    "print(\"\\n💾 ResNet50 training history saved to 'resnet50_training_history.csv'\")\n",
    "\n",
    "# Training Summary\n",
    "print(f\"\\n🎉 ResNet50 Training Complete!\")\n",
    "print(f\"Total Training Time: {total_training_time:.2f}s ({total_training_time/60:.1f} minutes)\")\n",
    "print(f\"Average Epoch Time: {np.mean(epoch_times):.2f}s\")\n",
    "print(\"\\n⏱️  Epoch Timing Breakdown:\")\n",
    "for i, t in enumerate(epoch_times):\n",
    "    print(f\"│ Epoch {i+1}: {t:.2f}s\")\n",
    "\n",
    "# -----------------------------\n",
    "# 5. Load Best Model and Test\n",
    "# -----------------------------\n",
    "print(f\"\\n🧪 Loading Best ResNet50 Model for Testing...\")\n",
    "\n",
    "# Load the best model state\n",
    "if best_model_state is not None:\n",
    "    model.load_state_dict(best_model_state)\n",
    "    print(f\"✅ Best ResNet50 model from epoch {best_epoch} loaded successfully!\")\n",
    "else:\n",
    "    print(\"⚠️  No best model found, using current model state\")\n",
    "\n",
    "test_start_time = time.time()\n",
    "y_true, y_pred = [], []\n",
    "model.eval()\n",
    "\n",
    "test_pbar = tqdm(test_loader, desc=\"Testing ResNet50\", \n",
    "                bar_format='{l_bar}{bar:30}{r_bar}{bar:-30b}')\n",
    "\n",
    "with torch.no_grad():\n",
    "    for imgs, labels in test_pbar:\n",
    "        imgs, labels = imgs.to(device), labels.to(device)\n",
    "        outputs = model(imgs)\n",
    "        _, preds = torch.max(outputs, 1)\n",
    "        y_true.extend(labels.cpu().numpy())\n",
    "        y_pred.extend(preds.cpu().numpy())\n",
    "\n",
    "test_time = time.time() - test_start_time\n",
    "test_accuracy = accuracy_score(y_true, y_pred)\n",
    "\n",
    "print(f\"✅ ResNet50 Testing completed in {test_time:.2f}s\")\n",
    "print(\"\\n📋 ResNet50 Classification Report:\")\n",
    "print(classification_report(y_true, y_pred, target_names=classes,digits=4))\n",
    "print(f\"🎯 ResNet50 Test Accuracy: {test_accuracy:.4f}\")\n",
    "\n",
    "# Model Performance Summary\n",
    "print(f\"\\n📊 ResNet50 Model Performance Summary:\")\n",
    "print(f\"│ Best Validation Acc:  {best_val_acc:.4f} (Epoch {best_epoch})\")\n",
    "print(f\"│ Final Test Accuracy:  {test_accuracy:.4f}\")\n",
    "print(f\"│ Val-Test Gap:         {abs(best_val_acc - test_accuracy):.4f}\")\n",
    "\n",
    "# Confusion Matrix\n",
    "cm = confusion_matrix(y_true, y_pred)\n",
    "plt.figure(figsize=(8, 6))\n",
    "sns.heatmap(cm, annot=True, fmt=\"d\", cmap=\"Blues\", xticklabels=classes, yticklabels=classes)\n",
    "plt.xlabel(\"Predicted\")\n",
    "plt.ylabel(\"True\")\n",
    "plt.title(f\"ResNet50 Confusion Matrix - Best Model (Epoch {best_epoch})\")\n",
    "plt.show()\n",
    "\n",
    "# -----------------------------\n",
    "# 6. Enhanced Visualizations\n",
    "# -----------------------------\n",
    "plt.figure(figsize=(20, 5))\n",
    "\n",
    "# Loss Plot\n",
    "plt.subplot(1, 4, 1)\n",
    "plt.plot(range(1, epochs+1), train_losses, 'b-', label=\"Train Loss\", marker='o', linewidth=2)\n",
    "plt.plot(range(1, epochs+1), val_losses, 'r-', label=\"Val Loss\", marker='s', linewidth=2)\n",
    "plt.axvline(x=best_epoch, color='blue', linestyle='--', alpha=0.7, label=f'Best (Epoch {best_epoch})')\n",
    "plt.legend()\n",
    "plt.title(\"ResNet50 Loss over Epochs\")\n",
    "plt.xlabel(\"Epoch\")\n",
    "plt.ylabel(\"Loss\")\n",
    "plt.grid(True, alpha=0.3)\n",
    "\n",
    "# Accuracy Plot\n",
    "plt.subplot(1, 4, 2)\n",
    "plt.plot(range(1, epochs+1), train_accs, 'b-', label=\"Train Accuracy\", marker='o', linewidth=2)\n",
    "plt.plot(range(1, epochs+1), val_accs, 'r-', label=\"Val Accuracy\", marker='s', linewidth=2)\n",
    "plt.axvline(x=best_epoch, color='blue', linestyle='--', alpha=0.7, label=f'Best (Epoch {best_epoch})')\n",
    "plt.scatter([best_epoch], [best_val_acc], color='blue', s=100, zorder=5)\n",
    "plt.legend()\n",
    "plt.title(\"ResNet50 Accuracy over Epochs\")\n",
    "plt.xlabel(\"Epoch\")\n",
    "plt.ylabel(\"Accuracy\")\n",
    "plt.grid(True, alpha=0.3)\n",
    "\n",
    "# Timing Plot\n",
    "plt.subplot(1, 4, 3)\n",
    "bars = plt.bar(range(1, epochs+1), epoch_times, color='lightblue', alpha=0.7)\n",
    "bars[best_epoch-1].set_color('blue')\n",
    "plt.title(\"ResNet50 Training Time per Epoch\")\n",
    "plt.xlabel(\"Epoch\")\n",
    "plt.ylabel(\"Time (seconds)\")\n",
    "plt.grid(True, alpha=0.3)\n",
    "for i, t in enumerate(epoch_times):\n",
    "    plt.text(i+1, t+0.5, f'{t:.1f}s', ha='center', va='bottom')\n",
    "\n",
    "# Performance Comparison\n",
    "plt.subplot(1, 4, 4)\n",
    "metrics = ['Best Val Acc', 'Test Acc']\n",
    "values = [best_val_acc, test_accuracy]\n",
    "colors = ['lightblue', 'blue']\n",
    "bars = plt.bar(metrics, values, color=colors, alpha=0.7)\n",
    "plt.title(\"ResNet50 Final Model Performance\")\n",
    "plt.ylabel(\"Accuracy\")\n",
    "plt.ylim(0, 1)\n",
    "plt.grid(True, alpha=0.3)\n",
    "for bar, val in zip(bars, values):\n",
    "    plt.text(bar.get_x() + bar.get_width()/2, val + 0.01, \n",
    "             f'{val:.4f}', ha='center', va='bottom')\n",
    "\n",
    "plt.tight_layout()\n",
    "plt.show()\n",
    "\n",
    "print(f\"\\n⏰ ResNet50 Final Timing Summary:\")\n",
    "print(f\"│ Total Training: {total_training_time:.2f}s\")\n",
    "print(f\"│ Average per Epoch: {np.mean(epoch_times):.2f}s\")\n",
    "print(f\"│ Testing Time: {test_time:.2f}s\")\n",
    "print(f\"│ Total Runtime: {total_training_time + test_time:.2f}s\")\n",
    "\n",
    "print(f\"\\n💾 ResNet50 Files saved:\")\n",
    "print(f\"│ best_resnet50_model.pth - Best validation accuracy model\")\n",
    "print(f\"│ resnet50_training_history.csv - Training metrics for later plotting\")\n",
    "\n",
    "# -----------------------------\n",
    "# 7. ResNet50 Architecture Summary\n",
    "# -----------------------------\n",
    "print(f\"\\n🏗️  ResNet50 Architecture Summary:\")\n",
    "print(f\"│ Total Parameters: {sum(p.numel() for p in model.parameters()):,}\")\n",
    "print(f\"│ Trainable Parameters: {sum(p.numel() for p in model.parameters() if p.requires_grad):,}\")\n",
    "print(f\"│ Model Size: {sum(p.numel() * p.element_size() for p in model.parameters()) / 1024**2:.2f} MB\")\n",
    "print(f\"│ Input Size: 224x224x3\")\n",
    "print(f\"│ Output Classes: {len(classes)}\")\n",
    "print(f\"│ Architecture: ResNet50\")\n",
    "print(f\"│ Block Type: Bottleneck\")\n",
    "print(f\"│ Layers: [3, 4, 6, 3]\")\n",
    "print(f\"│ Skip Connections: Yes\")\n",
    "print(f\"│ Batch Normalization: Yes\")\n",
    "print(f\"│ Activation: ReLU\")\n",
    "print(f\"│ Zero Init Residual: Yes\")\n"
   ]
  },
  {
   "cell_type": "code",
   "execution_count": 11,
   "id": "ba4973a8",
   "metadata": {
    "execution": {
     "iopub.execute_input": "2025-09-08T07:41:02.725570Z",
     "iopub.status.busy": "2025-09-08T07:41:02.724663Z",
     "iopub.status.idle": "2025-09-08T07:41:02.753787Z",
     "shell.execute_reply": "2025-09-08T07:41:02.753096Z"
    },
    "papermill": {
     "duration": 0.309835,
     "end_time": "2025-09-08T07:41:02.754861",
     "exception": false,
     "start_time": "2025-09-08T07:41:02.445026",
     "status": "completed"
    },
    "tags": []
   },
   "outputs": [
    {
     "data": {
      "text/html": [
       "<div>\n",
       "<style scoped>\n",
       "    .dataframe tbody tr th:only-of-type {\n",
       "        vertical-align: middle;\n",
       "    }\n",
       "\n",
       "    .dataframe tbody tr th {\n",
       "        vertical-align: top;\n",
       "    }\n",
       "\n",
       "    .dataframe thead th {\n",
       "        text-align: right;\n",
       "    }\n",
       "</style>\n",
       "<table border=\"1\" class=\"dataframe\">\n",
       "  <thead>\n",
       "    <tr style=\"text-align: right;\">\n",
       "      <th></th>\n",
       "      <th>epoch</th>\n",
       "      <th>train_loss</th>\n",
       "      <th>val_loss</th>\n",
       "      <th>train_acc</th>\n",
       "      <th>val_acc</th>\n",
       "      <th>epoch_time</th>\n",
       "    </tr>\n",
       "  </thead>\n",
       "  <tbody>\n",
       "    <tr>\n",
       "      <th>0</th>\n",
       "      <td>1</td>\n",
       "      <td>2.041995</td>\n",
       "      <td>4.144869</td>\n",
       "      <td>0.543421</td>\n",
       "      <td>0.617188</td>\n",
       "      <td>41.108999</td>\n",
       "    </tr>\n",
       "    <tr>\n",
       "      <th>1</th>\n",
       "      <td>2</td>\n",
       "      <td>1.654023</td>\n",
       "      <td>1.024056</td>\n",
       "      <td>0.564474</td>\n",
       "      <td>0.606771</td>\n",
       "      <td>28.978204</td>\n",
       "    </tr>\n",
       "    <tr>\n",
       "      <th>2</th>\n",
       "      <td>3</td>\n",
       "      <td>0.977076</td>\n",
       "      <td>0.797002</td>\n",
       "      <td>0.606579</td>\n",
       "      <td>0.630208</td>\n",
       "      <td>29.209622</td>\n",
       "    </tr>\n",
       "    <tr>\n",
       "      <th>3</th>\n",
       "      <td>4</td>\n",
       "      <td>0.757746</td>\n",
       "      <td>0.669167</td>\n",
       "      <td>0.598026</td>\n",
       "      <td>0.625000</td>\n",
       "      <td>29.664563</td>\n",
       "    </tr>\n",
       "    <tr>\n",
       "      <th>4</th>\n",
       "      <td>5</td>\n",
       "      <td>0.671136</td>\n",
       "      <td>0.695054</td>\n",
       "      <td>0.621053</td>\n",
       "      <td>0.596354</td>\n",
       "      <td>30.201959</td>\n",
       "    </tr>\n",
       "    <tr>\n",
       "      <th>5</th>\n",
       "      <td>6</td>\n",
       "      <td>0.664005</td>\n",
       "      <td>0.702473</td>\n",
       "      <td>0.617763</td>\n",
       "      <td>0.638021</td>\n",
       "      <td>31.430214</td>\n",
       "    </tr>\n",
       "    <tr>\n",
       "      <th>6</th>\n",
       "      <td>7</td>\n",
       "      <td>0.666602</td>\n",
       "      <td>0.677587</td>\n",
       "      <td>0.652632</td>\n",
       "      <td>0.645833</td>\n",
       "      <td>31.107170</td>\n",
       "    </tr>\n",
       "    <tr>\n",
       "      <th>7</th>\n",
       "      <td>8</td>\n",
       "      <td>0.602353</td>\n",
       "      <td>0.675036</td>\n",
       "      <td>0.680263</td>\n",
       "      <td>0.536458</td>\n",
       "      <td>30.963275</td>\n",
       "    </tr>\n",
       "    <tr>\n",
       "      <th>8</th>\n",
       "      <td>9</td>\n",
       "      <td>0.555009</td>\n",
       "      <td>0.772855</td>\n",
       "      <td>0.708553</td>\n",
       "      <td>0.638021</td>\n",
       "      <td>30.962244</td>\n",
       "    </tr>\n",
       "    <tr>\n",
       "      <th>9</th>\n",
       "      <td>10</td>\n",
       "      <td>0.524203</td>\n",
       "      <td>0.873979</td>\n",
       "      <td>0.730263</td>\n",
       "      <td>0.541667</td>\n",
       "      <td>30.879769</td>\n",
       "    </tr>\n",
       "    <tr>\n",
       "      <th>10</th>\n",
       "      <td>11</td>\n",
       "      <td>0.478192</td>\n",
       "      <td>0.863560</td>\n",
       "      <td>0.767105</td>\n",
       "      <td>0.653646</td>\n",
       "      <td>31.066121</td>\n",
       "    </tr>\n",
       "    <tr>\n",
       "      <th>11</th>\n",
       "      <td>12</td>\n",
       "      <td>0.428531</td>\n",
       "      <td>1.044569</td>\n",
       "      <td>0.796053</td>\n",
       "      <td>0.533854</td>\n",
       "      <td>31.144124</td>\n",
       "    </tr>\n",
       "    <tr>\n",
       "      <th>12</th>\n",
       "      <td>13</td>\n",
       "      <td>0.327055</td>\n",
       "      <td>1.282589</td>\n",
       "      <td>0.846053</td>\n",
       "      <td>0.575521</td>\n",
       "      <td>31.408081</td>\n",
       "    </tr>\n",
       "    <tr>\n",
       "      <th>13</th>\n",
       "      <td>14</td>\n",
       "      <td>0.288523</td>\n",
       "      <td>2.174014</td>\n",
       "      <td>0.875000</td>\n",
       "      <td>0.596354</td>\n",
       "      <td>31.378640</td>\n",
       "    </tr>\n",
       "    <tr>\n",
       "      <th>14</th>\n",
       "      <td>15</td>\n",
       "      <td>0.272173</td>\n",
       "      <td>1.814144</td>\n",
       "      <td>0.880921</td>\n",
       "      <td>0.539062</td>\n",
       "      <td>31.584066</td>\n",
       "    </tr>\n",
       "    <tr>\n",
       "      <th>15</th>\n",
       "      <td>16</td>\n",
       "      <td>0.229768</td>\n",
       "      <td>1.317353</td>\n",
       "      <td>0.900000</td>\n",
       "      <td>0.549479</td>\n",
       "      <td>31.403559</td>\n",
       "    </tr>\n",
       "    <tr>\n",
       "      <th>16</th>\n",
       "      <td>17</td>\n",
       "      <td>0.153197</td>\n",
       "      <td>1.939197</td>\n",
       "      <td>0.951316</td>\n",
       "      <td>0.494792</td>\n",
       "      <td>30.983466</td>\n",
       "    </tr>\n",
       "    <tr>\n",
       "      <th>17</th>\n",
       "      <td>18</td>\n",
       "      <td>0.120162</td>\n",
       "      <td>2.342374</td>\n",
       "      <td>0.954605</td>\n",
       "      <td>0.557292</td>\n",
       "      <td>31.224477</td>\n",
       "    </tr>\n",
       "    <tr>\n",
       "      <th>18</th>\n",
       "      <td>19</td>\n",
       "      <td>0.185046</td>\n",
       "      <td>1.398457</td>\n",
       "      <td>0.932237</td>\n",
       "      <td>0.596354</td>\n",
       "      <td>31.332897</td>\n",
       "    </tr>\n",
       "    <tr>\n",
       "      <th>19</th>\n",
       "      <td>20</td>\n",
       "      <td>0.120300</td>\n",
       "      <td>2.220346</td>\n",
       "      <td>0.951316</td>\n",
       "      <td>0.541667</td>\n",
       "      <td>31.162621</td>\n",
       "    </tr>\n",
       "    <tr>\n",
       "      <th>20</th>\n",
       "      <td>21</td>\n",
       "      <td>0.082417</td>\n",
       "      <td>2.242734</td>\n",
       "      <td>0.963158</td>\n",
       "      <td>0.578125</td>\n",
       "      <td>31.530139</td>\n",
       "    </tr>\n",
       "    <tr>\n",
       "      <th>21</th>\n",
       "      <td>22</td>\n",
       "      <td>0.117230</td>\n",
       "      <td>2.326411</td>\n",
       "      <td>0.959868</td>\n",
       "      <td>0.611979</td>\n",
       "      <td>31.286729</td>\n",
       "    </tr>\n",
       "    <tr>\n",
       "      <th>22</th>\n",
       "      <td>23</td>\n",
       "      <td>0.092459</td>\n",
       "      <td>1.976360</td>\n",
       "      <td>0.966447</td>\n",
       "      <td>0.557292</td>\n",
       "      <td>31.197128</td>\n",
       "    </tr>\n",
       "    <tr>\n",
       "      <th>23</th>\n",
       "      <td>24</td>\n",
       "      <td>0.066954</td>\n",
       "      <td>2.352224</td>\n",
       "      <td>0.976316</td>\n",
       "      <td>0.567708</td>\n",
       "      <td>31.176780</td>\n",
       "    </tr>\n",
       "    <tr>\n",
       "      <th>24</th>\n",
       "      <td>25</td>\n",
       "      <td>0.063780</td>\n",
       "      <td>2.192222</td>\n",
       "      <td>0.981579</td>\n",
       "      <td>0.567708</td>\n",
       "      <td>31.394927</td>\n",
       "    </tr>\n",
       "    <tr>\n",
       "      <th>25</th>\n",
       "      <td>26</td>\n",
       "      <td>0.034918</td>\n",
       "      <td>2.529892</td>\n",
       "      <td>0.989474</td>\n",
       "      <td>0.583333</td>\n",
       "      <td>31.338227</td>\n",
       "    </tr>\n",
       "    <tr>\n",
       "      <th>26</th>\n",
       "      <td>27</td>\n",
       "      <td>0.052669</td>\n",
       "      <td>2.093595</td>\n",
       "      <td>0.982895</td>\n",
       "      <td>0.578125</td>\n",
       "      <td>31.515748</td>\n",
       "    </tr>\n",
       "    <tr>\n",
       "      <th>27</th>\n",
       "      <td>28</td>\n",
       "      <td>0.063612</td>\n",
       "      <td>2.736104</td>\n",
       "      <td>0.975658</td>\n",
       "      <td>0.572917</td>\n",
       "      <td>31.291350</td>\n",
       "    </tr>\n",
       "    <tr>\n",
       "      <th>28</th>\n",
       "      <td>29</td>\n",
       "      <td>0.088297</td>\n",
       "      <td>2.517976</td>\n",
       "      <td>0.967763</td>\n",
       "      <td>0.565104</td>\n",
       "      <td>31.359985</td>\n",
       "    </tr>\n",
       "    <tr>\n",
       "      <th>29</th>\n",
       "      <td>30</td>\n",
       "      <td>0.108196</td>\n",
       "      <td>2.903883</td>\n",
       "      <td>0.965132</td>\n",
       "      <td>0.533854</td>\n",
       "      <td>31.275776</td>\n",
       "    </tr>\n",
       "    <tr>\n",
       "      <th>30</th>\n",
       "      <td>31</td>\n",
       "      <td>0.076736</td>\n",
       "      <td>2.596582</td>\n",
       "      <td>0.974342</td>\n",
       "      <td>0.572917</td>\n",
       "      <td>31.196467</td>\n",
       "    </tr>\n",
       "    <tr>\n",
       "      <th>31</th>\n",
       "      <td>32</td>\n",
       "      <td>0.074680</td>\n",
       "      <td>1.891748</td>\n",
       "      <td>0.974342</td>\n",
       "      <td>0.596354</td>\n",
       "      <td>31.130419</td>\n",
       "    </tr>\n",
       "    <tr>\n",
       "      <th>32</th>\n",
       "      <td>33</td>\n",
       "      <td>0.040810</td>\n",
       "      <td>2.147762</td>\n",
       "      <td>0.987500</td>\n",
       "      <td>0.614583</td>\n",
       "      <td>31.448902</td>\n",
       "    </tr>\n",
       "    <tr>\n",
       "      <th>33</th>\n",
       "      <td>34</td>\n",
       "      <td>0.043696</td>\n",
       "      <td>2.542161</td>\n",
       "      <td>0.983553</td>\n",
       "      <td>0.559896</td>\n",
       "      <td>31.259181</td>\n",
       "    </tr>\n",
       "    <tr>\n",
       "      <th>34</th>\n",
       "      <td>35</td>\n",
       "      <td>0.027398</td>\n",
       "      <td>2.439727</td>\n",
       "      <td>0.993421</td>\n",
       "      <td>0.627604</td>\n",
       "      <td>31.302918</td>\n",
       "    </tr>\n",
       "    <tr>\n",
       "      <th>35</th>\n",
       "      <td>36</td>\n",
       "      <td>0.047552</td>\n",
       "      <td>2.124794</td>\n",
       "      <td>0.983553</td>\n",
       "      <td>0.598958</td>\n",
       "      <td>31.057432</td>\n",
       "    </tr>\n",
       "    <tr>\n",
       "      <th>36</th>\n",
       "      <td>37</td>\n",
       "      <td>0.016972</td>\n",
       "      <td>2.642907</td>\n",
       "      <td>0.993421</td>\n",
       "      <td>0.580729</td>\n",
       "      <td>31.703222</td>\n",
       "    </tr>\n",
       "    <tr>\n",
       "      <th>37</th>\n",
       "      <td>38</td>\n",
       "      <td>0.011829</td>\n",
       "      <td>2.745660</td>\n",
       "      <td>0.996053</td>\n",
       "      <td>0.611979</td>\n",
       "      <td>31.320935</td>\n",
       "    </tr>\n",
       "    <tr>\n",
       "      <th>38</th>\n",
       "      <td>39</td>\n",
       "      <td>0.008934</td>\n",
       "      <td>2.457606</td>\n",
       "      <td>0.996053</td>\n",
       "      <td>0.614583</td>\n",
       "      <td>31.206579</td>\n",
       "    </tr>\n",
       "    <tr>\n",
       "      <th>39</th>\n",
       "      <td>40</td>\n",
       "      <td>0.004129</td>\n",
       "      <td>3.006743</td>\n",
       "      <td>0.998684</td>\n",
       "      <td>0.614583</td>\n",
       "      <td>31.414002</td>\n",
       "    </tr>\n",
       "    <tr>\n",
       "      <th>40</th>\n",
       "      <td>41</td>\n",
       "      <td>0.017568</td>\n",
       "      <td>2.670875</td>\n",
       "      <td>0.994079</td>\n",
       "      <td>0.604167</td>\n",
       "      <td>31.347849</td>\n",
       "    </tr>\n",
       "    <tr>\n",
       "      <th>41</th>\n",
       "      <td>42</td>\n",
       "      <td>0.011023</td>\n",
       "      <td>3.465348</td>\n",
       "      <td>0.995395</td>\n",
       "      <td>0.580729</td>\n",
       "      <td>31.166975</td>\n",
       "    </tr>\n",
       "    <tr>\n",
       "      <th>42</th>\n",
       "      <td>43</td>\n",
       "      <td>0.016218</td>\n",
       "      <td>2.282836</td>\n",
       "      <td>0.994737</td>\n",
       "      <td>0.625000</td>\n",
       "      <td>31.415040</td>\n",
       "    </tr>\n",
       "    <tr>\n",
       "      <th>43</th>\n",
       "      <td>44</td>\n",
       "      <td>0.006003</td>\n",
       "      <td>2.497313</td>\n",
       "      <td>0.998026</td>\n",
       "      <td>0.640625</td>\n",
       "      <td>31.491622</td>\n",
       "    </tr>\n",
       "    <tr>\n",
       "      <th>44</th>\n",
       "      <td>45</td>\n",
       "      <td>0.011477</td>\n",
       "      <td>2.622131</td>\n",
       "      <td>0.998026</td>\n",
       "      <td>0.601562</td>\n",
       "      <td>31.201556</td>\n",
       "    </tr>\n",
       "    <tr>\n",
       "      <th>45</th>\n",
       "      <td>46</td>\n",
       "      <td>0.007555</td>\n",
       "      <td>2.187339</td>\n",
       "      <td>0.997368</td>\n",
       "      <td>0.614583</td>\n",
       "      <td>31.264720</td>\n",
       "    </tr>\n",
       "    <tr>\n",
       "      <th>46</th>\n",
       "      <td>47</td>\n",
       "      <td>0.007561</td>\n",
       "      <td>2.567817</td>\n",
       "      <td>0.996053</td>\n",
       "      <td>0.606771</td>\n",
       "      <td>31.270888</td>\n",
       "    </tr>\n",
       "    <tr>\n",
       "      <th>47</th>\n",
       "      <td>48</td>\n",
       "      <td>0.005694</td>\n",
       "      <td>2.474776</td>\n",
       "      <td>0.998026</td>\n",
       "      <td>0.598958</td>\n",
       "      <td>31.019380</td>\n",
       "    </tr>\n",
       "    <tr>\n",
       "      <th>48</th>\n",
       "      <td>49</td>\n",
       "      <td>0.003427</td>\n",
       "      <td>2.519665</td>\n",
       "      <td>0.999342</td>\n",
       "      <td>0.640625</td>\n",
       "      <td>31.012531</td>\n",
       "    </tr>\n",
       "    <tr>\n",
       "      <th>49</th>\n",
       "      <td>50</td>\n",
       "      <td>0.001162</td>\n",
       "      <td>2.511188</td>\n",
       "      <td>1.000000</td>\n",
       "      <td>0.638021</td>\n",
       "      <td>31.064420</td>\n",
       "    </tr>\n",
       "  </tbody>\n",
       "</table>\n",
       "</div>"
      ],
      "text/plain": [
       "    epoch  train_loss  val_loss  train_acc   val_acc  epoch_time\n",
       "0       1    2.041995  4.144869   0.543421  0.617188   41.108999\n",
       "1       2    1.654023  1.024056   0.564474  0.606771   28.978204\n",
       "2       3    0.977076  0.797002   0.606579  0.630208   29.209622\n",
       "3       4    0.757746  0.669167   0.598026  0.625000   29.664563\n",
       "4       5    0.671136  0.695054   0.621053  0.596354   30.201959\n",
       "5       6    0.664005  0.702473   0.617763  0.638021   31.430214\n",
       "6       7    0.666602  0.677587   0.652632  0.645833   31.107170\n",
       "7       8    0.602353  0.675036   0.680263  0.536458   30.963275\n",
       "8       9    0.555009  0.772855   0.708553  0.638021   30.962244\n",
       "9      10    0.524203  0.873979   0.730263  0.541667   30.879769\n",
       "10     11    0.478192  0.863560   0.767105  0.653646   31.066121\n",
       "11     12    0.428531  1.044569   0.796053  0.533854   31.144124\n",
       "12     13    0.327055  1.282589   0.846053  0.575521   31.408081\n",
       "13     14    0.288523  2.174014   0.875000  0.596354   31.378640\n",
       "14     15    0.272173  1.814144   0.880921  0.539062   31.584066\n",
       "15     16    0.229768  1.317353   0.900000  0.549479   31.403559\n",
       "16     17    0.153197  1.939197   0.951316  0.494792   30.983466\n",
       "17     18    0.120162  2.342374   0.954605  0.557292   31.224477\n",
       "18     19    0.185046  1.398457   0.932237  0.596354   31.332897\n",
       "19     20    0.120300  2.220346   0.951316  0.541667   31.162621\n",
       "20     21    0.082417  2.242734   0.963158  0.578125   31.530139\n",
       "21     22    0.117230  2.326411   0.959868  0.611979   31.286729\n",
       "22     23    0.092459  1.976360   0.966447  0.557292   31.197128\n",
       "23     24    0.066954  2.352224   0.976316  0.567708   31.176780\n",
       "24     25    0.063780  2.192222   0.981579  0.567708   31.394927\n",
       "25     26    0.034918  2.529892   0.989474  0.583333   31.338227\n",
       "26     27    0.052669  2.093595   0.982895  0.578125   31.515748\n",
       "27     28    0.063612  2.736104   0.975658  0.572917   31.291350\n",
       "28     29    0.088297  2.517976   0.967763  0.565104   31.359985\n",
       "29     30    0.108196  2.903883   0.965132  0.533854   31.275776\n",
       "30     31    0.076736  2.596582   0.974342  0.572917   31.196467\n",
       "31     32    0.074680  1.891748   0.974342  0.596354   31.130419\n",
       "32     33    0.040810  2.147762   0.987500  0.614583   31.448902\n",
       "33     34    0.043696  2.542161   0.983553  0.559896   31.259181\n",
       "34     35    0.027398  2.439727   0.993421  0.627604   31.302918\n",
       "35     36    0.047552  2.124794   0.983553  0.598958   31.057432\n",
       "36     37    0.016972  2.642907   0.993421  0.580729   31.703222\n",
       "37     38    0.011829  2.745660   0.996053  0.611979   31.320935\n",
       "38     39    0.008934  2.457606   0.996053  0.614583   31.206579\n",
       "39     40    0.004129  3.006743   0.998684  0.614583   31.414002\n",
       "40     41    0.017568  2.670875   0.994079  0.604167   31.347849\n",
       "41     42    0.011023  3.465348   0.995395  0.580729   31.166975\n",
       "42     43    0.016218  2.282836   0.994737  0.625000   31.415040\n",
       "43     44    0.006003  2.497313   0.998026  0.640625   31.491622\n",
       "44     45    0.011477  2.622131   0.998026  0.601562   31.201556\n",
       "45     46    0.007555  2.187339   0.997368  0.614583   31.264720\n",
       "46     47    0.007561  2.567817   0.996053  0.606771   31.270888\n",
       "47     48    0.005694  2.474776   0.998026  0.598958   31.019380\n",
       "48     49    0.003427  2.519665   0.999342  0.640625   31.012531\n",
       "49     50    0.001162  2.511188   1.000000  0.638021   31.064420"
      ]
     },
     "execution_count": 11,
     "metadata": {},
     "output_type": "execute_result"
    }
   ],
   "source": [
    "import pandas as pd\n",
    "df=pd.read_csv(\"/kaggle/working/resnet50_training_history.csv\")\n",
    "df"
   ]
  }
 ],
 "metadata": {
  "kaggle": {
   "accelerator": "nvidiaTeslaT4",
   "dataSources": [
    {
     "datasetId": 7735666,
     "sourceId": 12275446,
     "sourceType": "datasetVersion"
    }
   ],
   "dockerImageVersionId": 31090,
   "isGpuEnabled": true,
   "isInternetEnabled": true,
   "language": "python",
   "sourceType": "notebook"
  },
  "kernelspec": {
   "display_name": "Python 3",
   "language": "python",
   "name": "python3"
  },
  "language_info": {
   "codemirror_mode": {
    "name": "ipython",
    "version": 3
   },
   "file_extension": ".py",
   "mimetype": "text/x-python",
   "name": "python",
   "nbconvert_exporter": "python",
   "pygments_lexer": "ipython3",
   "version": "3.11.13"
  },
  "papermill": {
   "default_parameters": {},
   "duration": 1597.874893,
   "end_time": "2025-09-08T07:41:05.876544",
   "environment_variables": {},
   "exception": null,
   "input_path": "__notebook__.ipynb",
   "output_path": "__notebook__.ipynb",
   "parameters": {},
   "start_time": "2025-09-08T07:14:28.001651",
   "version": "2.6.0"
  }
 },
 "nbformat": 4,
 "nbformat_minor": 5
}
