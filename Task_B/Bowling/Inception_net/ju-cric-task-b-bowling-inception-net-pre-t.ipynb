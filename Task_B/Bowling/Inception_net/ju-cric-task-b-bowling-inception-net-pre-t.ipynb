{
 "cells": [
  {
   "cell_type": "code",
   "execution_count": 1,
   "id": "f2696916",
   "metadata": {
    "_cell_guid": "b1076dfc-b9ad-4769-8c92-a6c4dae69d19",
    "_uuid": "8f2839f25d086af736a60e9eeb907d3b93b6e0e5",
    "execution": {
     "iopub.execute_input": "2025-09-08T04:41:36.368891Z",
     "iopub.status.busy": "2025-09-08T04:41:36.368689Z",
     "iopub.status.idle": "2025-09-08T04:41:52.710042Z",
     "shell.execute_reply": "2025-09-08T04:41:52.709218Z"
    },
    "papermill": {
     "duration": 16.346095,
     "end_time": "2025-09-08T04:41:52.711187",
     "exception": false,
     "start_time": "2025-09-08T04:41:36.365092",
     "status": "completed"
    },
    "tags": []
   },
   "outputs": [
    {
     "name": "stdout",
     "output_type": "stream",
     "text": [
      "Training only on: Bowling\n",
      "Train classes: ['fast_bowl', 'spin_bowl']\n",
      "Train samples: 1710 Val samples: 432 Test samples: 549\n"
     ]
    }
   ],
   "source": [
    "import torch\n",
    "from torch.utils.data import DataLoader\n",
    "from torchvision import datasets, transforms\n",
    "\n",
    "# -----------------------------\n",
    "# 1. Data Preprocessing (Single Action Class)\n",
    "# -----------------------------\n",
    "base_dir = \"/kaggle/input/ju-cricket/Cricket_Dataset_final/Task_B\"  # base Task_B folder\n",
    "\n",
    "action_class = \"Bowling\"  # Change to \"Bowling\" / \"Fielding\" / \"Umpire\"\n",
    "\n",
    "transform = transforms.Compose([\n",
    "    transforms.Resize((224, 224)),   \n",
    "    transforms.ToTensor(),\n",
    "    transforms.Normalize([0.485, 0.456, 0.406], \n",
    "                         [0.229, 0.224, 0.225])\n",
    "])\n",
    "\n",
    "# Point ImageFolder to *only* the action class folder\n",
    "train_ds = datasets.ImageFolder(f\"{base_dir}/train/{action_class}\", transform=transform)\n",
    "val_ds   = datasets.ImageFolder(f\"{base_dir}/val/{action_class}\", transform=transform)\n",
    "test_ds  = datasets.ImageFolder(f\"{base_dir}/test/{action_class}\", transform=transform)\n",
    "\n",
    "train_loader = DataLoader(train_ds, batch_size=32, shuffle=True)\n",
    "val_loader   = DataLoader(val_ds, batch_size=32, shuffle=False)\n",
    "test_loader  = DataLoader(test_ds, batch_size=32, shuffle=False)\n",
    "\n",
    "print(f\"Training only on: {action_class}\")\n",
    "print(\"Train classes:\", train_ds.classes)\n",
    "print(\"Train samples:\", len(train_ds), \n",
    "      \"Val samples:\", len(val_ds), \n",
    "      \"Test samples:\", len(test_ds))"
   ]
  },
  {
   "cell_type": "code",
   "execution_count": 2,
   "id": "e92ddc3a",
   "metadata": {
    "execution": {
     "iopub.execute_input": "2025-09-08T04:41:52.717447Z",
     "iopub.status.busy": "2025-09-08T04:41:52.717132Z",
     "iopub.status.idle": "2025-09-08T04:41:52.721771Z",
     "shell.execute_reply": "2025-09-08T04:41:52.721028Z"
    },
    "papermill": {
     "duration": 0.008894,
     "end_time": "2025-09-08T04:41:52.722905",
     "exception": false,
     "start_time": "2025-09-08T04:41:52.714011",
     "status": "completed"
    },
    "tags": []
   },
   "outputs": [
    {
     "name": "stdout",
     "output_type": "stream",
     "text": [
      "Total training images: 1710\n",
      "Total validation images: 432\n",
      "Total test images: 549\n",
      "Total images in dataset: 2691\n"
     ]
    }
   ],
   "source": [
    "print(\"Total training images:\", len(train_ds))\n",
    "print(\"Total validation images:\", len(val_ds))\n",
    "print(\"Total test images:\", len(test_ds))\n",
    "\n",
    "total_images = len(train_ds) + len(val_ds) + len(test_ds)\n",
    "print(\"Total images in dataset:\", total_images)\n"
   ]
  },
  {
   "cell_type": "code",
   "execution_count": 3,
   "id": "a086ee24",
   "metadata": {
    "execution": {
     "iopub.execute_input": "2025-09-08T04:41:52.728356Z",
     "iopub.status.busy": "2025-09-08T04:41:52.728084Z",
     "iopub.status.idle": "2025-09-08T04:41:52.734816Z",
     "shell.execute_reply": "2025-09-08T04:41:52.734173Z"
    },
    "papermill": {
     "duration": 0.010575,
     "end_time": "2025-09-08T04:41:52.735808",
     "exception": false,
     "start_time": "2025-09-08T04:41:52.725233",
     "status": "completed"
    },
    "tags": []
   },
   "outputs": [
    {
     "name": "stdout",
     "output_type": "stream",
     "text": [
      "Training images (excluding 'random_occlusion'): 1520\n",
      "Validation images (excluding 'random_occlusion'): 384\n",
      "Test images (excluding 'random_occlusion'): 488\n",
      "Total images (excluding 'random_occlusion'): 2392\n"
     ]
    }
   ],
   "source": [
    "ignore_folder = \"random_occlusion\"\n",
    "\n",
    "def count_images_ignore_folder(dataset, ignore_folder):\n",
    "    count = 0\n",
    "    for img_path, label in dataset.samples:\n",
    "        # Skip if the image path contains the ignore_folder\n",
    "        if ignore_folder not in img_path.split(\"/\"):\n",
    "            count += 1\n",
    "    return count\n",
    "\n",
    "train_count = count_images_ignore_folder(train_ds, ignore_folder)\n",
    "val_count   = count_images_ignore_folder(val_ds, ignore_folder)\n",
    "test_count  = count_images_ignore_folder(test_ds, ignore_folder)\n",
    "\n",
    "total_count = train_count + val_count + test_count\n",
    "\n",
    "print(\"Training images (excluding '{}'): {}\".format(ignore_folder, train_count))\n",
    "print(\"Validation images (excluding '{}'): {}\".format(ignore_folder, val_count))\n",
    "print(\"Test images (excluding '{}'): {}\".format(ignore_folder, test_count))\n",
    "print(\"Total images (excluding '{}'): {}\".format(ignore_folder, total_count))\n"
   ]
  },
  {
   "cell_type": "code",
   "execution_count": 4,
   "id": "08b0fffb",
   "metadata": {
    "execution": {
     "iopub.execute_input": "2025-09-08T04:41:52.741373Z",
     "iopub.status.busy": "2025-09-08T04:41:52.741145Z",
     "iopub.status.idle": "2025-09-08T04:41:52.748825Z",
     "shell.execute_reply": "2025-09-08T04:41:52.748080Z"
    },
    "papermill": {
     "duration": 0.011725,
     "end_time": "2025-09-08T04:41:52.749890",
     "exception": false,
     "start_time": "2025-09-08T04:41:52.738165",
     "status": "completed"
    },
    "tags": []
   },
   "outputs": [
    {
     "name": "stdout",
     "output_type": "stream",
     "text": [
      "Training folders considered: {'gaussian_noise', 'original', 'low_resolution', 'chromatic_aberration', 'lens_flare', 'motion_blur', 'blur', 'dirty_lens'}\n",
      "Validation folders considered: {'gaussian_noise', 'original', 'low_resolution', 'chromatic_aberration', 'lens_flare', 'motion_blur', 'blur', 'dirty_lens'}\n",
      "Test folders considered: {'gaussian_noise', 'original', 'low_resolution', 'chromatic_aberration', 'lens_flare', 'motion_blur', 'blur', 'dirty_lens'}\n"
     ]
    }
   ],
   "source": [
    "ignore_folder = \"random_occlusion\"\n",
    "\n",
    "def get_included_folders(dataset, ignore_folder):\n",
    "    included = set()\n",
    "    for img_path, label in dataset.samples:\n",
    "        # Split the path into parts and ignore if ignore_folder is in the path\n",
    "        if ignore_folder not in img_path.split(\"/\"):\n",
    "            # The folder name just above the image (or the class folder)\n",
    "            folder_name = img_path.split(\"/\")[-2]\n",
    "            included.add(folder_name)\n",
    "    return included\n",
    "\n",
    "train_folders = get_included_folders(train_ds, ignore_folder)\n",
    "val_folders   = get_included_folders(val_ds, ignore_folder)\n",
    "test_folders  = get_included_folders(test_ds, ignore_folder)\n",
    "\n",
    "print(\"Training folders considered:\", train_folders)\n",
    "print(\"Validation folders considered:\", val_folders)\n",
    "print(\"Test folders considered:\", test_folders)\n"
   ]
  },
  {
   "cell_type": "code",
   "execution_count": 5,
   "id": "6291bcf4",
   "metadata": {
    "execution": {
     "iopub.execute_input": "2025-09-08T04:41:52.755214Z",
     "iopub.status.busy": "2025-09-08T04:41:52.755044Z",
     "iopub.status.idle": "2025-09-08T04:41:52.839505Z",
     "shell.execute_reply": "2025-09-08T04:41:52.838761Z"
    },
    "papermill": {
     "duration": 0.088409,
     "end_time": "2025-09-08T04:41:52.840650",
     "exception": false,
     "start_time": "2025-09-08T04:41:52.752241",
     "status": "completed"
    },
    "tags": []
   },
   "outputs": [
    {
     "name": "stdout",
     "output_type": "stream",
     "text": [
      "Classes: ['fast_bowl', 'spin_bowl']\n",
      "Final Training images: 1520\n",
      "Final Validation images: 384\n",
      "Final Test images: 488\n",
      "Total images after filtering: 2392\n"
     ]
    }
   ],
   "source": [
    "ignore_folder = \"random_occlusion\"\n",
    "\n",
    "def filter_samples(dataset, ignore_folder):\n",
    "    # Keep only samples where ignore_folder is NOT in the path\n",
    "    filtered_samples = [s for s in dataset.samples if ignore_folder not in s[0].split(\"/\")]\n",
    "    dataset.samples = filtered_samples\n",
    "    dataset.targets = [s[1] for s in filtered_samples]  # Update targets accordingly\n",
    "    return dataset\n",
    "\n",
    "# Create original datasets\n",
    "train_ds = datasets.ImageFolder(f\"{base_dir}/train/Bowling\", transform=transform)\n",
    "val_ds   = datasets.ImageFolder(f\"{base_dir}/val/Bowling\", transform=transform)\n",
    "test_ds  = datasets.ImageFolder(f\"{base_dir}/test/Bowling\", transform=transform)\n",
    "\n",
    "# Filter out 'random_occlusion' folder\n",
    "train_ds = filter_samples(train_ds, ignore_folder)\n",
    "val_ds   = filter_samples(val_ds, ignore_folder)\n",
    "test_ds  = filter_samples(test_ds, ignore_folder)\n",
    "\n",
    "# DataLoaders\n",
    "train_loader = DataLoader(train_ds, batch_size=32, shuffle=True)\n",
    "val_loader   = DataLoader(val_ds, batch_size=32, shuffle=False)\n",
    "test_loader  = DataLoader(test_ds, batch_size=32, shuffle=False)\n",
    "\n",
    "# Classes (will remain the same)\n",
    "classes = train_ds.classes\n",
    "print(\"Classes:\", classes)\n",
    "\n",
    "# Show counts\n",
    "print(\"Final Training images:\", len(train_ds))\n",
    "print(\"Final Validation images:\", len(val_ds))\n",
    "print(\"Final Test images:\", len(test_ds))\n",
    "print(\"Total images after filtering:\", len(train_ds) + len(val_ds) + len(test_ds))\n"
   ]
  },
  {
   "cell_type": "code",
   "execution_count": 6,
   "id": "2ce52594",
   "metadata": {
    "execution": {
     "iopub.execute_input": "2025-09-08T04:41:52.846014Z",
     "iopub.status.busy": "2025-09-08T04:41:52.845823Z",
     "iopub.status.idle": "2025-09-08T04:41:52.852872Z",
     "shell.execute_reply": "2025-09-08T04:41:52.852155Z"
    },
    "papermill": {
     "duration": 0.010846,
     "end_time": "2025-09-08T04:41:52.853888",
     "exception": false,
     "start_time": "2025-09-08T04:41:52.843042",
     "status": "completed"
    },
    "tags": []
   },
   "outputs": [
    {
     "name": "stdout",
     "output_type": "stream",
     "text": [
      "Training folders considered: {'gaussian_noise', 'original', 'low_resolution', 'chromatic_aberration', 'lens_flare', 'motion_blur', 'blur', 'dirty_lens'}\n",
      "Validation folders considered: {'gaussian_noise', 'original', 'low_resolution', 'chromatic_aberration', 'lens_flare', 'motion_blur', 'blur', 'dirty_lens'}\n",
      "Test folders considered: {'gaussian_noise', 'original', 'low_resolution', 'chromatic_aberration', 'lens_flare', 'motion_blur', 'blur', 'dirty_lens'}\n"
     ]
    }
   ],
   "source": [
    "ignore_folder = \"random_occlusion\"\n",
    "\n",
    "def get_included_folders(dataset, ignore_folder):\n",
    "    included = set()\n",
    "    for img_path, label in dataset.samples:\n",
    "        # Split the path into parts and ignore if ignore_folder is in the path\n",
    "        if ignore_folder not in img_path.split(\"/\"):\n",
    "            # The folder name just above the image (or the class folder)\n",
    "            folder_name = img_path.split(\"/\")[-2]\n",
    "            included.add(folder_name)\n",
    "    return included\n",
    "\n",
    "train_folders = get_included_folders(train_ds, ignore_folder)\n",
    "val_folders   = get_included_folders(val_ds, ignore_folder)\n",
    "test_folders  = get_included_folders(test_ds, ignore_folder)\n",
    "\n",
    "print(\"Training folders considered:\", train_folders)\n",
    "print(\"Validation folders considered:\", val_folders)\n",
    "print(\"Test folders considered:\", test_folders)\n"
   ]
  },
  {
   "cell_type": "code",
   "execution_count": 7,
   "id": "ccf29278",
   "metadata": {
    "execution": {
     "iopub.execute_input": "2025-09-08T04:41:52.859616Z",
     "iopub.status.busy": "2025-09-08T04:41:52.859420Z",
     "iopub.status.idle": "2025-09-08T04:41:57.749556Z",
     "shell.execute_reply": "2025-09-08T04:41:57.748633Z"
    },
    "papermill": {
     "duration": 4.894702,
     "end_time": "2025-09-08T04:41:57.751051",
     "exception": false,
     "start_time": "2025-09-08T04:41:52.856349",
     "status": "completed"
    },
    "tags": []
   },
   "outputs": [
    {
     "name": "stdout",
     "output_type": "stream",
     "text": [
      "🔄 Loading and filtering datasets for InceptionV3...\n",
      "✅ Classes: ['fast_bowl', 'spin_bowl']\n",
      "📊 Dataset Statistics:\n",
      "│ Training images: 1520\n",
      "│ Validation images: 384\n",
      "│ Test images: 488\n",
      "│ Total images (after filtering): 2392\n",
      "│ Excluded folder: 'random_occlusion'\n",
      "│ Number of classes: 2\n"
     ]
    }
   ],
   "source": [
    "import torch\n",
    "import torch.nn as nn\n",
    "import torch.nn.functional as F\n",
    "import torch.optim as optim\n",
    "from torch.utils.data import DataLoader\n",
    "from torchvision import datasets, transforms, models\n",
    "import matplotlib.pyplot as plt\n",
    "from sklearn.metrics import classification_report, confusion_matrix, accuracy_score\n",
    "import seaborn as sns\n",
    "import numpy as np\n",
    "import pandas as pd\n",
    "from tqdm import tqdm\n",
    "import time\n",
    "import os\n",
    "import tempfile\n",
    "\n",
    "# -----------------------------\n",
    "# 1. Data Preprocessing with Filtering (InceptionV3 - 299x299)\n",
    "# -----------------------------\n",
    "data_dir = \"/kaggle/input/ju-cricket/Cricket_Dataset_final/Task_B\"\n",
    "\n",
    "# InceptionV3 requires 299x299 input size\n",
    "transform = transforms.Compose([\n",
    "    transforms.Resize((299, 299)),  # InceptionV3 specific size\n",
    "    transforms.ToTensor(),\n",
    "    transforms.Normalize([0.485, 0.456, 0.406], \n",
    "                         [0.229, 0.224, 0.225])\n",
    "])\n",
    "\n",
    "ignore_folder = \"random_occlusion\"\n",
    "\n",
    "def filter_samples(dataset, ignore_folder):\n",
    "    \"\"\"Filter out samples containing the ignore_folder in their path\"\"\"\n",
    "    filtered_samples = [s for s in dataset.samples if ignore_folder not in s[0].split(\"/\")]\n",
    "    dataset.samples = filtered_samples\n",
    "    dataset.targets = [s[1] for s in filtered_samples]\n",
    "    return dataset\n",
    "\n",
    "# Create and filter datasets\n",
    "print(\"🔄 Loading and filtering datasets for InceptionV3...\")\n",
    "train_ds = datasets.ImageFolder(f\"{data_dir}/train/Bowling\", transform=transform)\n",
    "val_ds   = datasets.ImageFolder(f\"{data_dir}/val/Bowling\", transform=transform)\n",
    "test_ds  = datasets.ImageFolder(f\"{data_dir}/test/Bowling\", transform=transform)\n",
    "\n",
    "# Apply filtering\n",
    "train_ds = filter_samples(train_ds, ignore_folder)\n",
    "val_ds   = filter_samples(val_ds, ignore_folder)\n",
    "test_ds  = filter_samples(test_ds, ignore_folder)\n",
    "\n",
    "# Create DataLoaders\n",
    "train_loader = DataLoader(train_ds, batch_size=32, shuffle=True)\n",
    "val_loader   = DataLoader(val_ds, batch_size=32, shuffle=False)\n",
    "test_loader  = DataLoader(test_ds, batch_size=32, shuffle=False)\n",
    "\n",
    "# Display information\n",
    "classes = train_ds.classes\n",
    "print(f\"✅ Classes: {classes}\")\n",
    "print(f\"📊 Dataset Statistics:\")\n",
    "print(f\"│ Training images: {len(train_ds)}\")\n",
    "print(f\"│ Validation images: {len(val_ds)}\")\n",
    "print(f\"│ Test images: {len(test_ds)}\")\n",
    "print(f\"│ Total images (after filtering): {len(train_ds) + len(val_ds) + len(test_ds)}\")\n",
    "print(f\"│ Excluded folder: '{ignore_folder}'\")\n",
    "print(f\"│ Number of classes: {len(classes)}\")\n"
   ]
  },
  {
   "cell_type": "code",
   "execution_count": 8,
   "id": "3f2cecfc",
   "metadata": {
    "execution": {
     "iopub.execute_input": "2025-09-08T04:41:57.759874Z",
     "iopub.status.busy": "2025-09-08T04:41:57.759530Z",
     "iopub.status.idle": "2025-09-08T04:41:59.575062Z",
     "shell.execute_reply": "2025-09-08T04:41:59.574395Z"
    },
    "papermill": {
     "duration": 1.819998,
     "end_time": "2025-09-08T04:41:59.576129",
     "exception": false,
     "start_time": "2025-09-08T04:41:57.756131",
     "status": "completed"
    },
    "tags": []
   },
   "outputs": [
    {
     "name": "stdout",
     "output_type": "stream",
     "text": [
      "Using device: cuda\n",
      "🔄 Loading pretrained InceptionV3 from ImageNet...\n"
     ]
    },
    {
     "name": "stderr",
     "output_type": "stream",
     "text": [
      "/usr/local/lib/python3.11/dist-packages/torchvision/models/_utils.py:208: UserWarning: The parameter 'pretrained' is deprecated since 0.13 and may be removed in the future, please use 'weights' instead.\n",
      "  warnings.warn(\n",
      "/usr/local/lib/python3.11/dist-packages/torchvision/models/_utils.py:223: UserWarning: Arguments other than a weight enum or `None` for 'weights' are deprecated since 0.13 and may be removed in the future. The current behavior is equivalent to passing `weights=Inception_V3_Weights.IMAGENET1K_V1`. You can also use `weights=Inception_V3_Weights.DEFAULT` to get the most up-to-date weights.\n",
      "  warnings.warn(msg)\n",
      "Downloading: \"https://download.pytorch.org/models/inception_v3_google-0cc3c7bd.pth\" to /root/.cache/torch/hub/checkpoints/inception_v3_google-0cc3c7bd.pth\n",
      "100%|██████████| 104M/104M [00:00<00:00, 165MB/s] \n"
     ]
    },
    {
     "name": "stdout",
     "output_type": "stream",
     "text": [
      "✅ Model loaded with 2 output classes\n",
      "📊 Total parameters: 25,116,362\n",
      "📊 Trainable parameters: 25,116,362\n",
      "📊 Model file size: 96.14 MB\n",
      "📋 Model Architecture:\n",
      "│ Input size: (3, 299, 299)\n",
      "│ InceptionV3 features: 2048\n",
      "│ Output classes: 2\n",
      "│ Auxiliary classifier: Disabled\n"
     ]
    }
   ],
   "source": [
    "import torch\n",
    "import torch.nn as nn\n",
    "import torch.nn.functional as F\n",
    "import numpy as np\n",
    "import matplotlib.pyplot as plt\n",
    "import seaborn as sns\n",
    "from torchsummary import summary\n",
    "from sklearn.metrics import accuracy_score, classification_report, confusion_matrix\n",
    "import pandas as pd\n",
    "from tqdm import tqdm\n",
    "import time\n",
    "from torchvision import models\n",
    "import tempfile\n",
    "import os\n",
    "\n",
    "\n",
    "# -----------------------------\n",
    "# 2. Pretrained InceptionV3 Model\n",
    "# -----------------------------\n",
    "device = torch.device('cuda' if torch.cuda.is_available() else 'cpu')\n",
    "print(f\"Using device: {device}\")\n",
    "\n",
    "# Load pretrained InceptionV3\n",
    "print(\"🔄 Loading pretrained InceptionV3 from ImageNet...\")\n",
    "model = models.inception_v3(pretrained=True)\n",
    "\n",
    "# InceptionV3 has auxiliary classifier - disable it for fine-tuning\n",
    "model.aux_logits = False\n",
    "\n",
    "# Replace final classification layer\n",
    "num_features = model.fc.in_features  # Get input features (2048)\n",
    "model.fc = nn.Linear(num_features, len(classes))  # Replace final layer\n",
    "model = model.to(device)\n",
    "\n",
    "print(f\"✅ Model loaded with {len(classes)} output classes\")\n",
    "\n",
    "# Calculate model parameters and size\n",
    "total_params = sum(p.numel() for p in model.parameters())\n",
    "trainable_params = sum(p.numel() for p in model.parameters() if p.requires_grad)\n",
    "\n",
    "# Calculate model file size\n",
    "with tempfile.NamedTemporaryFile(delete=False, suffix='.pth') as tmp_file:\n",
    "    torch.save(model.state_dict(), tmp_file.name)\n",
    "    model_size_mb = os.path.getsize(tmp_file.name) / (1024 * 1024)\n",
    "    os.unlink(tmp_file.name)\n",
    "\n",
    "print(f\"📊 Total parameters: {total_params:,}\")\n",
    "print(f\"📊 Trainable parameters: {trainable_params:,}\")\n",
    "print(f\"📊 Model file size: {model_size_mb:.2f} MB\")\n",
    "print(f\"📋 Model Architecture:\")\n",
    "print(f\"│ Input size: (3, 299, 299)\")  # InceptionV3 specific\n",
    "print(f\"│ InceptionV3 features: 2048\")\n",
    "print(f\"│ Output classes: {len(classes)}\")\n",
    "print(f\"│ Auxiliary classifier: Disabled\")\n"
   ]
  },
  {
   "cell_type": "code",
   "execution_count": 9,
   "id": "d36c8a80",
   "metadata": {
    "execution": {
     "iopub.execute_input": "2025-09-08T04:41:59.583694Z",
     "iopub.status.busy": "2025-09-08T04:41:59.583495Z",
     "iopub.status.idle": "2025-09-08T05:16:03.117778Z",
     "shell.execute_reply": "2025-09-08T05:16:03.117059Z"
    },
    "papermill": {
     "duration": 2043.540866,
     "end_time": "2025-09-08T05:16:03.120374",
     "exception": false,
     "start_time": "2025-09-08T04:41:59.579508",
     "status": "completed"
    },
    "tags": []
   },
   "outputs": [
    {
     "name": "stdout",
     "output_type": "stream",
     "text": [
      "\n",
      "📋 Training Configuration:\n",
      "│ Model: InceptionV3 (pretrained)\n",
      "│ Optimizer: Adam (lr=0.0001)\n",
      "│ Loss Function: CrossEntropyLoss\n",
      "│ Batch Size: 32\n",
      "│ Device: cuda\n",
      "│ Data: Filtered (excluding 'random_occlusion')\n",
      "\n",
      "🚀 Starting InceptionV3 Fine-tuning for 50 epochs...\n",
      "================================================================================\n",
      "\n",
      "📈 Epoch 1/50\n",
      "--------------------------------------------------\n",
      "🔄 Training Phase...\n"
     ]
    },
    {
     "name": "stderr",
     "output_type": "stream",
     "text": [
      "Training: 100%|██████████████████████████████| 48/48 [00:51<00:00,  1.08s/it, Loss=0.4550, Acc=0.7743]\n"
     ]
    },
    {
     "name": "stdout",
     "output_type": "stream",
     "text": [
      "✅ Training completed in 51.97s\n",
      "🔍 Validation Phase...\n"
     ]
    },
    {
     "name": "stderr",
     "output_type": "stream",
     "text": [
      "Validation: 100%|██████████████████████████████| 12/12 [00:07<00:00,  1.51it/s, Loss=0.5013, Acc=0.7474]\n"
     ]
    },
    {
     "name": "stdout",
     "output_type": "stream",
     "text": [
      "✅ Validation completed in 7.96s\n",
      "🌟 New best model found! Validation Loss: 0.5013\n",
      "\n",
      "📊 Epoch 1 Summary:\n",
      "│ Train Loss: 0.4550 | Train Acc: 0.7743\n",
      "│ Val Loss:   0.5013 | Val Acc:   0.7474\n",
      "│ Train Time: 51.97s | Val Time: 7.96s\n",
      "│ Total Epoch Time: 59.93s\n",
      "│ Best Val Loss: 0.5013 (Epoch 1)\n",
      "│ GPU Memory: 0.4GB / 4.0GB\n",
      "================================================================================\n",
      "\n",
      "📈 Epoch 2/50\n",
      "--------------------------------------------------\n",
      "🔄 Training Phase...\n"
     ]
    },
    {
     "name": "stderr",
     "output_type": "stream",
     "text": [
      "Training: 100%|██████████████████████████████| 48/48 [00:33<00:00,  1.42it/s, Loss=0.0736, Acc=0.9809]\n"
     ]
    },
    {
     "name": "stdout",
     "output_type": "stream",
     "text": [
      "✅ Training completed in 33.82s\n",
      "🔍 Validation Phase...\n"
     ]
    },
    {
     "name": "stderr",
     "output_type": "stream",
     "text": [
      "Validation: 100%|██████████████████████████████| 12/12 [00:04<00:00,  2.85it/s, Loss=0.7558, Acc=0.7161]\n"
     ]
    },
    {
     "name": "stdout",
     "output_type": "stream",
     "text": [
      "✅ Validation completed in 4.22s\n",
      "\n",
      "📊 Epoch 2 Summary:\n",
      "│ Train Loss: 0.0736 | Train Acc: 0.9809\n",
      "│ Val Loss:   0.7558 | Val Acc:   0.7161\n",
      "│ Train Time: 33.82s | Val Time: 4.22s\n",
      "│ Total Epoch Time: 38.05s\n",
      "│ Best Val Loss: 0.5013 (Epoch 1)\n",
      "│ GPU Memory: 0.4GB / 4.0GB\n",
      "================================================================================\n",
      "\n",
      "📈 Epoch 3/50\n",
      "--------------------------------------------------\n",
      "🔄 Training Phase...\n"
     ]
    },
    {
     "name": "stderr",
     "output_type": "stream",
     "text": [
      "Training: 100%|██████████████████████████████| 48/48 [00:34<00:00,  1.41it/s, Loss=0.0264, Acc=0.9928]\n"
     ]
    },
    {
     "name": "stdout",
     "output_type": "stream",
     "text": [
      "✅ Training completed in 34.16s\n",
      "🔍 Validation Phase...\n"
     ]
    },
    {
     "name": "stderr",
     "output_type": "stream",
     "text": [
      "Validation: 100%|██████████████████████████████| 12/12 [00:04<00:00,  2.80it/s, Loss=0.8734, Acc=0.6615]\n"
     ]
    },
    {
     "name": "stdout",
     "output_type": "stream",
     "text": [
      "✅ Validation completed in 4.29s\n",
      "\n",
      "📊 Epoch 3 Summary:\n",
      "│ Train Loss: 0.0264 | Train Acc: 0.9928\n",
      "│ Val Loss:   0.8734 | Val Acc:   0.6615\n",
      "│ Train Time: 34.16s | Val Time: 4.29s\n",
      "│ Total Epoch Time: 38.46s\n",
      "│ Best Val Loss: 0.5013 (Epoch 1)\n",
      "│ GPU Memory: 0.4GB / 4.0GB\n",
      "================================================================================\n",
      "\n",
      "📈 Epoch 4/50\n",
      "--------------------------------------------------\n",
      "🔄 Training Phase...\n"
     ]
    },
    {
     "name": "stderr",
     "output_type": "stream",
     "text": [
      "Training: 100%|██████████████████████████████| 48/48 [00:35<00:00,  1.37it/s, Loss=0.0123, Acc=0.9987]\n"
     ]
    },
    {
     "name": "stdout",
     "output_type": "stream",
     "text": [
      "✅ Training completed in 35.12s\n",
      "🔍 Validation Phase...\n"
     ]
    },
    {
     "name": "stderr",
     "output_type": "stream",
     "text": [
      "Validation: 100%|██████████████████████████████| 12/12 [00:04<00:00,  2.55it/s, Loss=0.7901, Acc=0.7161]\n"
     ]
    },
    {
     "name": "stdout",
     "output_type": "stream",
     "text": [
      "✅ Validation completed in 4.71s\n",
      "\n",
      "📊 Epoch 4 Summary:\n",
      "│ Train Loss: 0.0123 | Train Acc: 0.9987\n",
      "│ Val Loss:   0.7901 | Val Acc:   0.7161\n",
      "│ Train Time: 35.12s | Val Time: 4.71s\n",
      "│ Total Epoch Time: 39.83s\n",
      "│ Best Val Loss: 0.5013 (Epoch 1)\n",
      "│ GPU Memory: 0.4GB / 4.0GB\n",
      "================================================================================\n",
      "\n",
      "📈 Epoch 5/50\n",
      "--------------------------------------------------\n",
      "🔄 Training Phase...\n"
     ]
    },
    {
     "name": "stderr",
     "output_type": "stream",
     "text": [
      "Training: 100%|██████████████████████████████| 48/48 [00:36<00:00,  1.31it/s, Loss=0.0055, Acc=1.0000]\n"
     ]
    },
    {
     "name": "stdout",
     "output_type": "stream",
     "text": [
      "✅ Training completed in 36.52s\n",
      "🔍 Validation Phase...\n"
     ]
    },
    {
     "name": "stderr",
     "output_type": "stream",
     "text": [
      "Validation: 100%|██████████████████████████████| 12/12 [00:04<00:00,  2.63it/s, Loss=0.8065, Acc=0.7266]\n"
     ]
    },
    {
     "name": "stdout",
     "output_type": "stream",
     "text": [
      "✅ Validation completed in 4.56s\n",
      "\n",
      "📊 Epoch 5 Summary:\n",
      "│ Train Loss: 0.0055 | Train Acc: 1.0000\n",
      "│ Val Loss:   0.8065 | Val Acc:   0.7266\n",
      "│ Train Time: 36.52s | Val Time: 4.56s\n",
      "│ Total Epoch Time: 41.08s\n",
      "│ Best Val Loss: 0.5013 (Epoch 1)\n",
      "│ GPU Memory: 0.4GB / 4.0GB\n",
      "================================================================================\n",
      "\n",
      "📈 Epoch 6/50\n",
      "--------------------------------------------------\n",
      "🔄 Training Phase...\n"
     ]
    },
    {
     "name": "stderr",
     "output_type": "stream",
     "text": [
      "Training: 100%|██████████████████████████████| 48/48 [00:36<00:00,  1.32it/s, Loss=0.0025, Acc=1.0000]\n"
     ]
    },
    {
     "name": "stdout",
     "output_type": "stream",
     "text": [
      "✅ Training completed in 36.48s\n",
      "🔍 Validation Phase...\n"
     ]
    },
    {
     "name": "stderr",
     "output_type": "stream",
     "text": [
      "Validation: 100%|██████████████████████████████| 12/12 [00:04<00:00,  2.68it/s, Loss=0.8973, Acc=0.7188]\n"
     ]
    },
    {
     "name": "stdout",
     "output_type": "stream",
     "text": [
      "✅ Validation completed in 4.48s\n",
      "\n",
      "📊 Epoch 6 Summary:\n",
      "│ Train Loss: 0.0025 | Train Acc: 1.0000\n",
      "│ Val Loss:   0.8973 | Val Acc:   0.7188\n",
      "│ Train Time: 36.48s | Val Time: 4.48s\n",
      "│ Total Epoch Time: 40.96s\n",
      "│ Best Val Loss: 0.5013 (Epoch 1)\n",
      "│ GPU Memory: 0.4GB / 4.0GB\n",
      "================================================================================\n",
      "\n",
      "📈 Epoch 7/50\n",
      "--------------------------------------------------\n",
      "🔄 Training Phase...\n"
     ]
    },
    {
     "name": "stderr",
     "output_type": "stream",
     "text": [
      "Training: 100%|██████████████████████████████| 48/48 [00:37<00:00,  1.28it/s, Loss=0.0021, Acc=1.0000]\n"
     ]
    },
    {
     "name": "stdout",
     "output_type": "stream",
     "text": [
      "✅ Training completed in 37.50s\n",
      "🔍 Validation Phase...\n"
     ]
    },
    {
     "name": "stderr",
     "output_type": "stream",
     "text": [
      "Validation: 100%|██████████████████████████████| 12/12 [00:04<00:00,  2.64it/s, Loss=1.0804, Acc=0.6875]\n"
     ]
    },
    {
     "name": "stdout",
     "output_type": "stream",
     "text": [
      "✅ Validation completed in 4.54s\n",
      "\n",
      "📊 Epoch 7 Summary:\n",
      "│ Train Loss: 0.0021 | Train Acc: 1.0000\n",
      "│ Val Loss:   1.0804 | Val Acc:   0.6875\n",
      "│ Train Time: 37.50s | Val Time: 4.54s\n",
      "│ Total Epoch Time: 42.04s\n",
      "│ Best Val Loss: 0.5013 (Epoch 1)\n",
      "│ GPU Memory: 0.4GB / 4.0GB\n",
      "================================================================================\n",
      "\n",
      "📈 Epoch 8/50\n",
      "--------------------------------------------------\n",
      "🔄 Training Phase...\n"
     ]
    },
    {
     "name": "stderr",
     "output_type": "stream",
     "text": [
      "Training: 100%|██████████████████████████████| 48/48 [00:36<00:00,  1.30it/s, Loss=0.0246, Acc=0.9941]\n"
     ]
    },
    {
     "name": "stdout",
     "output_type": "stream",
     "text": [
      "✅ Training completed in 36.98s\n",
      "🔍 Validation Phase...\n"
     ]
    },
    {
     "name": "stderr",
     "output_type": "stream",
     "text": [
      "Validation: 100%|██████████████████████████████| 12/12 [00:04<00:00,  2.61it/s, Loss=1.1603, Acc=0.7057]\n"
     ]
    },
    {
     "name": "stdout",
     "output_type": "stream",
     "text": [
      "✅ Validation completed in 4.60s\n",
      "\n",
      "📊 Epoch 8 Summary:\n",
      "│ Train Loss: 0.0246 | Train Acc: 0.9941\n",
      "│ Val Loss:   1.1603 | Val Acc:   0.7057\n",
      "│ Train Time: 36.98s | Val Time: 4.60s\n",
      "│ Total Epoch Time: 41.58s\n",
      "│ Best Val Loss: 0.5013 (Epoch 1)\n",
      "│ GPU Memory: 0.4GB / 4.0GB\n",
      "================================================================================\n",
      "\n",
      "📈 Epoch 9/50\n",
      "--------------------------------------------------\n",
      "🔄 Training Phase...\n"
     ]
    },
    {
     "name": "stderr",
     "output_type": "stream",
     "text": [
      "Training: 100%|██████████████████████████████| 48/48 [00:36<00:00,  1.31it/s, Loss=0.0174, Acc=0.9961]\n"
     ]
    },
    {
     "name": "stdout",
     "output_type": "stream",
     "text": [
      "✅ Training completed in 36.76s\n",
      "🔍 Validation Phase...\n"
     ]
    },
    {
     "name": "stderr",
     "output_type": "stream",
     "text": [
      "Validation: 100%|██████████████████████████████| 12/12 [00:04<00:00,  2.63it/s, Loss=0.8914, Acc=0.7266]\n"
     ]
    },
    {
     "name": "stdout",
     "output_type": "stream",
     "text": [
      "✅ Validation completed in 4.57s\n",
      "\n",
      "📊 Epoch 9 Summary:\n",
      "│ Train Loss: 0.0174 | Train Acc: 0.9961\n",
      "│ Val Loss:   0.8914 | Val Acc:   0.7266\n",
      "│ Train Time: 36.76s | Val Time: 4.57s\n",
      "│ Total Epoch Time: 41.33s\n",
      "│ Best Val Loss: 0.5013 (Epoch 1)\n",
      "│ GPU Memory: 0.4GB / 4.0GB\n",
      "================================================================================\n",
      "\n",
      "📈 Epoch 10/50\n",
      "--------------------------------------------------\n",
      "🔄 Training Phase...\n"
     ]
    },
    {
     "name": "stderr",
     "output_type": "stream",
     "text": [
      "Training: 100%|██████████████████████████████| 48/48 [00:36<00:00,  1.31it/s, Loss=0.0164, Acc=0.9967]\n"
     ]
    },
    {
     "name": "stdout",
     "output_type": "stream",
     "text": [
      "✅ Training completed in 36.69s\n",
      "🔍 Validation Phase...\n"
     ]
    },
    {
     "name": "stderr",
     "output_type": "stream",
     "text": [
      "Validation: 100%|██████████████████████████████| 12/12 [00:04<00:00,  2.79it/s, Loss=1.0761, Acc=0.7396]\n"
     ]
    },
    {
     "name": "stdout",
     "output_type": "stream",
     "text": [
      "✅ Validation completed in 4.31s\n",
      "\n",
      "📊 Epoch 10 Summary:\n",
      "│ Train Loss: 0.0164 | Train Acc: 0.9967\n",
      "│ Val Loss:   1.0761 | Val Acc:   0.7396\n",
      "│ Train Time: 36.69s | Val Time: 4.31s\n",
      "│ Total Epoch Time: 41.00s\n",
      "│ Best Val Loss: 0.5013 (Epoch 1)\n",
      "│ GPU Memory: 0.4GB / 4.0GB\n",
      "================================================================================\n",
      "\n",
      "📈 Epoch 11/50\n",
      "--------------------------------------------------\n",
      "🔄 Training Phase...\n"
     ]
    },
    {
     "name": "stderr",
     "output_type": "stream",
     "text": [
      "Training: 100%|██████████████████████████████| 48/48 [00:35<00:00,  1.34it/s, Loss=0.0249, Acc=0.9908]\n"
     ]
    },
    {
     "name": "stdout",
     "output_type": "stream",
     "text": [
      "✅ Training completed in 35.74s\n",
      "🔍 Validation Phase...\n"
     ]
    },
    {
     "name": "stderr",
     "output_type": "stream",
     "text": [
      "Validation: 100%|██████████████████████████████| 12/12 [00:04<00:00,  2.71it/s, Loss=1.1270, Acc=0.7135]\n"
     ]
    },
    {
     "name": "stdout",
     "output_type": "stream",
     "text": [
      "✅ Validation completed in 4.44s\n",
      "\n",
      "📊 Epoch 11 Summary:\n",
      "│ Train Loss: 0.0249 | Train Acc: 0.9908\n",
      "│ Val Loss:   1.1270 | Val Acc:   0.7135\n",
      "│ Train Time: 35.74s | Val Time: 4.44s\n",
      "│ Total Epoch Time: 40.18s\n",
      "│ Best Val Loss: 0.5013 (Epoch 1)\n",
      "│ GPU Memory: 0.4GB / 4.0GB\n",
      "================================================================================\n",
      "\n",
      "📈 Epoch 12/50\n",
      "--------------------------------------------------\n",
      "🔄 Training Phase...\n"
     ]
    },
    {
     "name": "stderr",
     "output_type": "stream",
     "text": [
      "Training: 100%|██████████████████████████████| 48/48 [00:35<00:00,  1.33it/s, Loss=0.0084, Acc=0.9974]\n"
     ]
    },
    {
     "name": "stdout",
     "output_type": "stream",
     "text": [
      "✅ Training completed in 35.97s\n",
      "🔍 Validation Phase...\n"
     ]
    },
    {
     "name": "stderr",
     "output_type": "stream",
     "text": [
      "Validation: 100%|██████████████████████████████| 12/12 [00:04<00:00,  2.78it/s, Loss=1.1557, Acc=0.6979]\n"
     ]
    },
    {
     "name": "stdout",
     "output_type": "stream",
     "text": [
      "✅ Validation completed in 4.32s\n",
      "\n",
      "📊 Epoch 12 Summary:\n",
      "│ Train Loss: 0.0084 | Train Acc: 0.9974\n",
      "│ Val Loss:   1.1557 | Val Acc:   0.6979\n",
      "│ Train Time: 35.97s | Val Time: 4.32s\n",
      "│ Total Epoch Time: 40.30s\n",
      "│ Best Val Loss: 0.5013 (Epoch 1)\n",
      "│ GPU Memory: 0.4GB / 4.0GB\n",
      "================================================================================\n",
      "\n",
      "📈 Epoch 13/50\n",
      "--------------------------------------------------\n",
      "🔄 Training Phase...\n"
     ]
    },
    {
     "name": "stderr",
     "output_type": "stream",
     "text": [
      "Training: 100%|██████████████████████████████| 48/48 [00:35<00:00,  1.34it/s, Loss=0.0146, Acc=0.9974]\n"
     ]
    },
    {
     "name": "stdout",
     "output_type": "stream",
     "text": [
      "✅ Training completed in 35.70s\n",
      "🔍 Validation Phase...\n"
     ]
    },
    {
     "name": "stderr",
     "output_type": "stream",
     "text": [
      "Validation: 100%|██████████████████████████████| 12/12 [00:04<00:00,  2.76it/s, Loss=1.2099, Acc=0.7734]\n"
     ]
    },
    {
     "name": "stdout",
     "output_type": "stream",
     "text": [
      "✅ Validation completed in 4.35s\n",
      "\n",
      "📊 Epoch 13 Summary:\n",
      "│ Train Loss: 0.0146 | Train Acc: 0.9974\n",
      "│ Val Loss:   1.2099 | Val Acc:   0.7734\n",
      "│ Train Time: 35.70s | Val Time: 4.35s\n",
      "│ Total Epoch Time: 40.06s\n",
      "│ Best Val Loss: 0.5013 (Epoch 1)\n",
      "│ GPU Memory: 0.4GB / 4.0GB\n",
      "================================================================================\n",
      "\n",
      "📈 Epoch 14/50\n",
      "--------------------------------------------------\n",
      "🔄 Training Phase...\n"
     ]
    },
    {
     "name": "stderr",
     "output_type": "stream",
     "text": [
      "Training: 100%|██████████████████████████████| 48/48 [00:35<00:00,  1.35it/s, Loss=0.0221, Acc=0.9928]\n"
     ]
    },
    {
     "name": "stdout",
     "output_type": "stream",
     "text": [
      "✅ Training completed in 35.67s\n",
      "🔍 Validation Phase...\n"
     ]
    },
    {
     "name": "stderr",
     "output_type": "stream",
     "text": [
      "Validation: 100%|██████████████████████████████| 12/12 [00:04<00:00,  2.53it/s, Loss=0.9321, Acc=0.7604]\n"
     ]
    },
    {
     "name": "stdout",
     "output_type": "stream",
     "text": [
      "✅ Validation completed in 4.74s\n",
      "\n",
      "📊 Epoch 14 Summary:\n",
      "│ Train Loss: 0.0221 | Train Acc: 0.9928\n",
      "│ Val Loss:   0.9321 | Val Acc:   0.7604\n",
      "│ Train Time: 35.67s | Val Time: 4.74s\n",
      "│ Total Epoch Time: 40.42s\n",
      "│ Best Val Loss: 0.5013 (Epoch 1)\n",
      "│ GPU Memory: 0.4GB / 4.0GB\n",
      "================================================================================\n",
      "\n",
      "📈 Epoch 15/50\n",
      "--------------------------------------------------\n",
      "🔄 Training Phase...\n"
     ]
    },
    {
     "name": "stderr",
     "output_type": "stream",
     "text": [
      "Training: 100%|██████████████████████████████| 48/48 [00:35<00:00,  1.35it/s, Loss=0.0196, Acc=0.9934]\n"
     ]
    },
    {
     "name": "stdout",
     "output_type": "stream",
     "text": [
      "✅ Training completed in 35.65s\n",
      "🔍 Validation Phase...\n"
     ]
    },
    {
     "name": "stderr",
     "output_type": "stream",
     "text": [
      "Validation: 100%|██████████████████████████████| 12/12 [00:04<00:00,  2.82it/s, Loss=1.1663, Acc=0.7318]\n"
     ]
    },
    {
     "name": "stdout",
     "output_type": "stream",
     "text": [
      "✅ Validation completed in 4.27s\n",
      "\n",
      "📊 Epoch 15 Summary:\n",
      "│ Train Loss: 0.0196 | Train Acc: 0.9934\n",
      "│ Val Loss:   1.1663 | Val Acc:   0.7318\n",
      "│ Train Time: 35.65s | Val Time: 4.27s\n",
      "│ Total Epoch Time: 39.92s\n",
      "│ Best Val Loss: 0.5013 (Epoch 1)\n",
      "│ GPU Memory: 0.4GB / 4.0GB\n",
      "================================================================================\n",
      "\n",
      "📈 Epoch 16/50\n",
      "--------------------------------------------------\n",
      "🔄 Training Phase...\n"
     ]
    },
    {
     "name": "stderr",
     "output_type": "stream",
     "text": [
      "Training: 100%|██████████████████████████████| 48/48 [00:35<00:00,  1.34it/s, Loss=0.0108, Acc=0.9974]\n"
     ]
    },
    {
     "name": "stdout",
     "output_type": "stream",
     "text": [
      "✅ Training completed in 35.80s\n",
      "🔍 Validation Phase...\n"
     ]
    },
    {
     "name": "stderr",
     "output_type": "stream",
     "text": [
      "Validation: 100%|██████████████████████████████| 12/12 [00:04<00:00,  2.81it/s, Loss=1.0203, Acc=0.7188]\n"
     ]
    },
    {
     "name": "stdout",
     "output_type": "stream",
     "text": [
      "✅ Validation completed in 4.27s\n",
      "\n",
      "📊 Epoch 16 Summary:\n",
      "│ Train Loss: 0.0108 | Train Acc: 0.9974\n",
      "│ Val Loss:   1.0203 | Val Acc:   0.7188\n",
      "│ Train Time: 35.80s | Val Time: 4.27s\n",
      "│ Total Epoch Time: 40.08s\n",
      "│ Best Val Loss: 0.5013 (Epoch 1)\n",
      "│ GPU Memory: 0.4GB / 4.0GB\n",
      "================================================================================\n",
      "\n",
      "📈 Epoch 17/50\n",
      "--------------------------------------------------\n",
      "🔄 Training Phase...\n"
     ]
    },
    {
     "name": "stderr",
     "output_type": "stream",
     "text": [
      "Training: 100%|██████████████████████████████| 48/48 [00:36<00:00,  1.33it/s, Loss=0.0029, Acc=0.9993]\n"
     ]
    },
    {
     "name": "stdout",
     "output_type": "stream",
     "text": [
      "✅ Training completed in 36.08s\n",
      "🔍 Validation Phase...\n"
     ]
    },
    {
     "name": "stderr",
     "output_type": "stream",
     "text": [
      "Validation: 100%|██████████████████████████████| 12/12 [00:04<00:00,  2.77it/s, Loss=1.2384, Acc=0.7031]\n"
     ]
    },
    {
     "name": "stdout",
     "output_type": "stream",
     "text": [
      "✅ Validation completed in 4.33s\n",
      "\n",
      "📊 Epoch 17 Summary:\n",
      "│ Train Loss: 0.0029 | Train Acc: 0.9993\n",
      "│ Val Loss:   1.2384 | Val Acc:   0.7031\n",
      "│ Train Time: 36.08s | Val Time: 4.33s\n",
      "│ Total Epoch Time: 40.42s\n",
      "│ Best Val Loss: 0.5013 (Epoch 1)\n",
      "│ GPU Memory: 0.4GB / 4.0GB\n",
      "================================================================================\n",
      "\n",
      "📈 Epoch 18/50\n",
      "--------------------------------------------------\n",
      "🔄 Training Phase...\n"
     ]
    },
    {
     "name": "stderr",
     "output_type": "stream",
     "text": [
      "Training: 100%|██████████████████████████████| 48/48 [00:35<00:00,  1.34it/s, Loss=0.0009, Acc=1.0000]\n"
     ]
    },
    {
     "name": "stdout",
     "output_type": "stream",
     "text": [
      "✅ Training completed in 35.81s\n",
      "🔍 Validation Phase...\n"
     ]
    },
    {
     "name": "stderr",
     "output_type": "stream",
     "text": [
      "Validation: 100%|██████████████████████████████| 12/12 [00:04<00:00,  2.80it/s, Loss=1.2795, Acc=0.7057]\n"
     ]
    },
    {
     "name": "stdout",
     "output_type": "stream",
     "text": [
      "✅ Validation completed in 4.29s\n",
      "\n",
      "📊 Epoch 18 Summary:\n",
      "│ Train Loss: 0.0009 | Train Acc: 1.0000\n",
      "│ Val Loss:   1.2795 | Val Acc:   0.7057\n",
      "│ Train Time: 35.81s | Val Time: 4.29s\n",
      "│ Total Epoch Time: 40.11s\n",
      "│ Best Val Loss: 0.5013 (Epoch 1)\n",
      "│ GPU Memory: 0.4GB / 4.0GB\n",
      "================================================================================\n",
      "\n",
      "📈 Epoch 19/50\n",
      "--------------------------------------------------\n",
      "🔄 Training Phase...\n"
     ]
    },
    {
     "name": "stderr",
     "output_type": "stream",
     "text": [
      "Training: 100%|██████████████████████████████| 48/48 [00:36<00:00,  1.33it/s, Loss=0.0009, Acc=1.0000]\n"
     ]
    },
    {
     "name": "stdout",
     "output_type": "stream",
     "text": [
      "✅ Training completed in 36.09s\n",
      "🔍 Validation Phase...\n"
     ]
    },
    {
     "name": "stderr",
     "output_type": "stream",
     "text": [
      "Validation: 100%|██████████████████████████████| 12/12 [00:04<00:00,  2.67it/s, Loss=1.2022, Acc=0.7188]\n"
     ]
    },
    {
     "name": "stdout",
     "output_type": "stream",
     "text": [
      "✅ Validation completed in 4.50s\n",
      "\n",
      "📊 Epoch 19 Summary:\n",
      "│ Train Loss: 0.0009 | Train Acc: 1.0000\n",
      "│ Val Loss:   1.2022 | Val Acc:   0.7188\n",
      "│ Train Time: 36.09s | Val Time: 4.50s\n",
      "│ Total Epoch Time: 40.60s\n",
      "│ Best Val Loss: 0.5013 (Epoch 1)\n",
      "│ GPU Memory: 0.4GB / 4.0GB\n",
      "================================================================================\n",
      "\n",
      "📈 Epoch 20/50\n",
      "--------------------------------------------------\n",
      "🔄 Training Phase...\n"
     ]
    },
    {
     "name": "stderr",
     "output_type": "stream",
     "text": [
      "Training: 100%|██████████████████████████████| 48/48 [00:35<00:00,  1.33it/s, Loss=0.0007, Acc=1.0000]\n"
     ]
    },
    {
     "name": "stdout",
     "output_type": "stream",
     "text": [
      "✅ Training completed in 35.98s\n",
      "🔍 Validation Phase...\n"
     ]
    },
    {
     "name": "stderr",
     "output_type": "stream",
     "text": [
      "Validation: 100%|██████████████████████████████| 12/12 [00:04<00:00,  2.80it/s, Loss=1.3344, Acc=0.7135]\n"
     ]
    },
    {
     "name": "stdout",
     "output_type": "stream",
     "text": [
      "✅ Validation completed in 4.30s\n",
      "\n",
      "📊 Epoch 20 Summary:\n",
      "│ Train Loss: 0.0007 | Train Acc: 1.0000\n",
      "│ Val Loss:   1.3344 | Val Acc:   0.7135\n",
      "│ Train Time: 35.98s | Val Time: 4.30s\n",
      "│ Total Epoch Time: 40.28s\n",
      "│ Best Val Loss: 0.5013 (Epoch 1)\n",
      "│ GPU Memory: 0.4GB / 4.0GB\n",
      "================================================================================\n",
      "\n",
      "📈 Epoch 21/50\n",
      "--------------------------------------------------\n",
      "🔄 Training Phase...\n"
     ]
    },
    {
     "name": "stderr",
     "output_type": "stream",
     "text": [
      "Training: 100%|██████████████████████████████| 48/48 [00:35<00:00,  1.34it/s, Loss=0.0007, Acc=1.0000]\n"
     ]
    },
    {
     "name": "stdout",
     "output_type": "stream",
     "text": [
      "✅ Training completed in 35.72s\n",
      "🔍 Validation Phase...\n"
     ]
    },
    {
     "name": "stderr",
     "output_type": "stream",
     "text": [
      "Validation: 100%|██████████████████████████████| 12/12 [00:04<00:00,  2.81it/s, Loss=1.2416, Acc=0.7057]\n"
     ]
    },
    {
     "name": "stdout",
     "output_type": "stream",
     "text": [
      "✅ Validation completed in 4.27s\n",
      "\n",
      "📊 Epoch 21 Summary:\n",
      "│ Train Loss: 0.0007 | Train Acc: 1.0000\n",
      "│ Val Loss:   1.2416 | Val Acc:   0.7057\n",
      "│ Train Time: 35.72s | Val Time: 4.27s\n",
      "│ Total Epoch Time: 40.00s\n",
      "│ Best Val Loss: 0.5013 (Epoch 1)\n",
      "│ GPU Memory: 0.4GB / 4.0GB\n",
      "================================================================================\n",
      "\n",
      "📈 Epoch 22/50\n",
      "--------------------------------------------------\n",
      "🔄 Training Phase...\n"
     ]
    },
    {
     "name": "stderr",
     "output_type": "stream",
     "text": [
      "Training: 100%|██████████████████████████████| 48/48 [00:35<00:00,  1.35it/s, Loss=0.0042, Acc=0.9987]\n"
     ]
    },
    {
     "name": "stdout",
     "output_type": "stream",
     "text": [
      "✅ Training completed in 35.66s\n",
      "🔍 Validation Phase...\n"
     ]
    },
    {
     "name": "stderr",
     "output_type": "stream",
     "text": [
      "Validation: 100%|██████████████████████████████| 12/12 [00:04<00:00,  2.82it/s, Loss=1.1605, Acc=0.7005]\n"
     ]
    },
    {
     "name": "stdout",
     "output_type": "stream",
     "text": [
      "✅ Validation completed in 4.27s\n",
      "\n",
      "📊 Epoch 22 Summary:\n",
      "│ Train Loss: 0.0042 | Train Acc: 0.9987\n",
      "│ Val Loss:   1.1605 | Val Acc:   0.7005\n",
      "│ Train Time: 35.66s | Val Time: 4.27s\n",
      "│ Total Epoch Time: 39.93s\n",
      "│ Best Val Loss: 0.5013 (Epoch 1)\n",
      "│ GPU Memory: 0.4GB / 4.0GB\n",
      "================================================================================\n",
      "\n",
      "📈 Epoch 23/50\n",
      "--------------------------------------------------\n",
      "🔄 Training Phase...\n"
     ]
    },
    {
     "name": "stderr",
     "output_type": "stream",
     "text": [
      "Training: 100%|██████████████████████████████| 48/48 [00:35<00:00,  1.34it/s, Loss=0.0038, Acc=0.9987]\n"
     ]
    },
    {
     "name": "stdout",
     "output_type": "stream",
     "text": [
      "✅ Training completed in 35.72s\n",
      "🔍 Validation Phase...\n"
     ]
    },
    {
     "name": "stderr",
     "output_type": "stream",
     "text": [
      "Validation: 100%|██████████████████████████████| 12/12 [00:04<00:00,  2.79it/s, Loss=1.0882, Acc=0.7109]\n"
     ]
    },
    {
     "name": "stdout",
     "output_type": "stream",
     "text": [
      "✅ Validation completed in 4.30s\n",
      "\n",
      "📊 Epoch 23 Summary:\n",
      "│ Train Loss: 0.0038 | Train Acc: 0.9987\n",
      "│ Val Loss:   1.0882 | Val Acc:   0.7109\n",
      "│ Train Time: 35.72s | Val Time: 4.30s\n",
      "│ Total Epoch Time: 40.03s\n",
      "│ Best Val Loss: 0.5013 (Epoch 1)\n",
      "│ GPU Memory: 0.4GB / 4.0GB\n",
      "================================================================================\n",
      "\n",
      "📈 Epoch 24/50\n",
      "--------------------------------------------------\n",
      "🔄 Training Phase...\n"
     ]
    },
    {
     "name": "stderr",
     "output_type": "stream",
     "text": [
      "Training: 100%|██████████████████████████████| 48/48 [00:35<00:00,  1.34it/s, Loss=0.0029, Acc=0.9993]\n"
     ]
    },
    {
     "name": "stdout",
     "output_type": "stream",
     "text": [
      "✅ Training completed in 35.86s\n",
      "🔍 Validation Phase...\n"
     ]
    },
    {
     "name": "stderr",
     "output_type": "stream",
     "text": [
      "Validation: 100%|██████████████████████████████| 12/12 [00:04<00:00,  2.77it/s, Loss=1.2709, Acc=0.7214]\n"
     ]
    },
    {
     "name": "stdout",
     "output_type": "stream",
     "text": [
      "✅ Validation completed in 4.35s\n",
      "\n",
      "📊 Epoch 24 Summary:\n",
      "│ Train Loss: 0.0029 | Train Acc: 0.9993\n",
      "│ Val Loss:   1.2709 | Val Acc:   0.7214\n",
      "│ Train Time: 35.86s | Val Time: 4.35s\n",
      "│ Total Epoch Time: 40.21s\n",
      "│ Best Val Loss: 0.5013 (Epoch 1)\n",
      "│ GPU Memory: 0.4GB / 4.0GB\n",
      "================================================================================\n",
      "\n",
      "📈 Epoch 25/50\n",
      "--------------------------------------------------\n",
      "🔄 Training Phase...\n"
     ]
    },
    {
     "name": "stderr",
     "output_type": "stream",
     "text": [
      "Training: 100%|██████████████████████████████| 48/48 [00:35<00:00,  1.34it/s, Loss=0.0011, Acc=1.0000]\n"
     ]
    },
    {
     "name": "stdout",
     "output_type": "stream",
     "text": [
      "✅ Training completed in 35.86s\n",
      "🔍 Validation Phase...\n"
     ]
    },
    {
     "name": "stderr",
     "output_type": "stream",
     "text": [
      "Validation: 100%|██████████████████████████████| 12/12 [00:04<00:00,  2.75it/s, Loss=1.1554, Acc=0.6953]\n"
     ]
    },
    {
     "name": "stdout",
     "output_type": "stream",
     "text": [
      "✅ Validation completed in 4.37s\n",
      "\n",
      "📊 Epoch 25 Summary:\n",
      "│ Train Loss: 0.0011 | Train Acc: 1.0000\n",
      "│ Val Loss:   1.1554 | Val Acc:   0.6953\n",
      "│ Train Time: 35.86s | Val Time: 4.37s\n",
      "│ Total Epoch Time: 40.24s\n",
      "│ Best Val Loss: 0.5013 (Epoch 1)\n",
      "│ GPU Memory: 0.4GB / 4.0GB\n",
      "================================================================================\n",
      "\n",
      "📈 Epoch 26/50\n",
      "--------------------------------------------------\n",
      "🔄 Training Phase...\n"
     ]
    },
    {
     "name": "stderr",
     "output_type": "stream",
     "text": [
      "Training: 100%|██████████████████████████████| 48/48 [00:35<00:00,  1.34it/s, Loss=0.0007, Acc=1.0000]\n"
     ]
    },
    {
     "name": "stdout",
     "output_type": "stream",
     "text": [
      "✅ Training completed in 35.93s\n",
      "🔍 Validation Phase...\n"
     ]
    },
    {
     "name": "stderr",
     "output_type": "stream",
     "text": [
      "Validation: 100%|██████████████████████████████| 12/12 [00:04<00:00,  2.69it/s, Loss=1.2744, Acc=0.6927]\n"
     ]
    },
    {
     "name": "stdout",
     "output_type": "stream",
     "text": [
      "✅ Validation completed in 4.46s\n",
      "\n",
      "📊 Epoch 26 Summary:\n",
      "│ Train Loss: 0.0007 | Train Acc: 1.0000\n",
      "│ Val Loss:   1.2744 | Val Acc:   0.6927\n",
      "│ Train Time: 35.93s | Val Time: 4.46s\n",
      "│ Total Epoch Time: 40.40s\n",
      "│ Best Val Loss: 0.5013 (Epoch 1)\n",
      "│ GPU Memory: 0.4GB / 4.0GB\n",
      "================================================================================\n",
      "\n",
      "📈 Epoch 27/50\n",
      "--------------------------------------------------\n",
      "🔄 Training Phase...\n"
     ]
    },
    {
     "name": "stderr",
     "output_type": "stream",
     "text": [
      "Training: 100%|██████████████████████████████| 48/48 [00:35<00:00,  1.34it/s, Loss=0.0004, Acc=1.0000]\n"
     ]
    },
    {
     "name": "stdout",
     "output_type": "stream",
     "text": [
      "✅ Training completed in 35.75s\n",
      "🔍 Validation Phase...\n"
     ]
    },
    {
     "name": "stderr",
     "output_type": "stream",
     "text": [
      "Validation: 100%|██████████████████████████████| 12/12 [00:04<00:00,  2.75it/s, Loss=1.2435, Acc=0.6927]\n"
     ]
    },
    {
     "name": "stdout",
     "output_type": "stream",
     "text": [
      "✅ Validation completed in 4.36s\n",
      "\n",
      "📊 Epoch 27 Summary:\n",
      "│ Train Loss: 0.0004 | Train Acc: 1.0000\n",
      "│ Val Loss:   1.2435 | Val Acc:   0.6927\n",
      "│ Train Time: 35.75s | Val Time: 4.36s\n",
      "│ Total Epoch Time: 40.12s\n",
      "│ Best Val Loss: 0.5013 (Epoch 1)\n",
      "│ GPU Memory: 0.4GB / 4.0GB\n",
      "================================================================================\n",
      "\n",
      "📈 Epoch 28/50\n",
      "--------------------------------------------------\n",
      "🔄 Training Phase...\n"
     ]
    },
    {
     "name": "stderr",
     "output_type": "stream",
     "text": [
      "Training: 100%|██████████████████████████████| 48/48 [00:35<00:00,  1.34it/s, Loss=0.0005, Acc=1.0000]\n"
     ]
    },
    {
     "name": "stdout",
     "output_type": "stream",
     "text": [
      "✅ Training completed in 35.93s\n",
      "🔍 Validation Phase...\n"
     ]
    },
    {
     "name": "stderr",
     "output_type": "stream",
     "text": [
      "Validation: 100%|██████████████████████████████| 12/12 [00:04<00:00,  2.76it/s, Loss=1.2729, Acc=0.7135]\n"
     ]
    },
    {
     "name": "stdout",
     "output_type": "stream",
     "text": [
      "✅ Validation completed in 4.35s\n",
      "\n",
      "📊 Epoch 28 Summary:\n",
      "│ Train Loss: 0.0005 | Train Acc: 1.0000\n",
      "│ Val Loss:   1.2729 | Val Acc:   0.7135\n",
      "│ Train Time: 35.93s | Val Time: 4.35s\n",
      "│ Total Epoch Time: 40.28s\n",
      "│ Best Val Loss: 0.5013 (Epoch 1)\n",
      "│ GPU Memory: 0.4GB / 4.0GB\n",
      "================================================================================\n",
      "\n",
      "📈 Epoch 29/50\n",
      "--------------------------------------------------\n",
      "🔄 Training Phase...\n"
     ]
    },
    {
     "name": "stderr",
     "output_type": "stream",
     "text": [
      "Training: 100%|██████████████████████████████| 48/48 [00:35<00:00,  1.34it/s, Loss=0.0002, Acc=1.0000]\n"
     ]
    },
    {
     "name": "stdout",
     "output_type": "stream",
     "text": [
      "✅ Training completed in 35.71s\n",
      "🔍 Validation Phase...\n"
     ]
    },
    {
     "name": "stderr",
     "output_type": "stream",
     "text": [
      "Validation: 100%|██████████████████████████████| 12/12 [00:04<00:00,  2.78it/s, Loss=1.4210, Acc=0.7031]\n"
     ]
    },
    {
     "name": "stdout",
     "output_type": "stream",
     "text": [
      "✅ Validation completed in 4.33s\n",
      "\n",
      "📊 Epoch 29 Summary:\n",
      "│ Train Loss: 0.0002 | Train Acc: 1.0000\n",
      "│ Val Loss:   1.4210 | Val Acc:   0.7031\n",
      "│ Train Time: 35.71s | Val Time: 4.33s\n",
      "│ Total Epoch Time: 40.04s\n",
      "│ Best Val Loss: 0.5013 (Epoch 1)\n",
      "│ GPU Memory: 0.4GB / 4.0GB\n",
      "================================================================================\n",
      "\n",
      "📈 Epoch 30/50\n",
      "--------------------------------------------------\n",
      "🔄 Training Phase...\n"
     ]
    },
    {
     "name": "stderr",
     "output_type": "stream",
     "text": [
      "Training: 100%|██████████████████████████████| 48/48 [00:35<00:00,  1.35it/s, Loss=0.0002, Acc=1.0000]\n"
     ]
    },
    {
     "name": "stdout",
     "output_type": "stream",
     "text": [
      "✅ Training completed in 35.58s\n",
      "🔍 Validation Phase...\n"
     ]
    },
    {
     "name": "stderr",
     "output_type": "stream",
     "text": [
      "Validation: 100%|██████████████████████████████| 12/12 [00:04<00:00,  2.76it/s, Loss=1.2842, Acc=0.7083]\n"
     ]
    },
    {
     "name": "stdout",
     "output_type": "stream",
     "text": [
      "✅ Validation completed in 4.35s\n",
      "\n",
      "📊 Epoch 30 Summary:\n",
      "│ Train Loss: 0.0002 | Train Acc: 1.0000\n",
      "│ Val Loss:   1.2842 | Val Acc:   0.7083\n",
      "│ Train Time: 35.58s | Val Time: 4.35s\n",
      "│ Total Epoch Time: 39.93s\n",
      "│ Best Val Loss: 0.5013 (Epoch 1)\n",
      "│ GPU Memory: 0.4GB / 4.0GB\n",
      "================================================================================\n",
      "\n",
      "📈 Epoch 31/50\n",
      "--------------------------------------------------\n",
      "🔄 Training Phase...\n"
     ]
    },
    {
     "name": "stderr",
     "output_type": "stream",
     "text": [
      "Training: 100%|██████████████████████████████| 48/48 [00:35<00:00,  1.34it/s, Loss=0.0002, Acc=1.0000]\n"
     ]
    },
    {
     "name": "stdout",
     "output_type": "stream",
     "text": [
      "✅ Training completed in 35.81s\n",
      "🔍 Validation Phase...\n"
     ]
    },
    {
     "name": "stderr",
     "output_type": "stream",
     "text": [
      "Validation: 100%|██████████████████████████████| 12/12 [00:04<00:00,  2.82it/s, Loss=1.2857, Acc=0.7135]\n"
     ]
    },
    {
     "name": "stdout",
     "output_type": "stream",
     "text": [
      "✅ Validation completed in 4.26s\n",
      "\n",
      "📊 Epoch 31 Summary:\n",
      "│ Train Loss: 0.0002 | Train Acc: 1.0000\n",
      "│ Val Loss:   1.2857 | Val Acc:   0.7135\n",
      "│ Train Time: 35.81s | Val Time: 4.26s\n",
      "│ Total Epoch Time: 40.08s\n",
      "│ Best Val Loss: 0.5013 (Epoch 1)\n",
      "│ GPU Memory: 0.4GB / 4.0GB\n",
      "================================================================================\n",
      "\n",
      "📈 Epoch 32/50\n",
      "--------------------------------------------------\n",
      "🔄 Training Phase...\n"
     ]
    },
    {
     "name": "stderr",
     "output_type": "stream",
     "text": [
      "Training: 100%|██████████████████████████████| 48/48 [00:35<00:00,  1.34it/s, Loss=0.0001, Acc=1.0000]\n"
     ]
    },
    {
     "name": "stdout",
     "output_type": "stream",
     "text": [
      "✅ Training completed in 35.88s\n",
      "🔍 Validation Phase...\n"
     ]
    },
    {
     "name": "stderr",
     "output_type": "stream",
     "text": [
      "Validation: 100%|██████████████████████████████| 12/12 [00:04<00:00,  2.78it/s, Loss=1.3381, Acc=0.7109]\n"
     ]
    },
    {
     "name": "stdout",
     "output_type": "stream",
     "text": [
      "✅ Validation completed in 4.32s\n",
      "\n",
      "📊 Epoch 32 Summary:\n",
      "│ Train Loss: 0.0001 | Train Acc: 1.0000\n",
      "│ Val Loss:   1.3381 | Val Acc:   0.7109\n",
      "│ Train Time: 35.88s | Val Time: 4.32s\n",
      "│ Total Epoch Time: 40.21s\n",
      "│ Best Val Loss: 0.5013 (Epoch 1)\n",
      "│ GPU Memory: 0.4GB / 4.0GB\n",
      "================================================================================\n",
      "\n",
      "📈 Epoch 33/50\n",
      "--------------------------------------------------\n",
      "🔄 Training Phase...\n"
     ]
    },
    {
     "name": "stderr",
     "output_type": "stream",
     "text": [
      "Training: 100%|██████████████████████████████| 48/48 [00:35<00:00,  1.34it/s, Loss=0.0001, Acc=1.0000]\n"
     ]
    },
    {
     "name": "stdout",
     "output_type": "stream",
     "text": [
      "✅ Training completed in 35.83s\n",
      "🔍 Validation Phase...\n"
     ]
    },
    {
     "name": "stderr",
     "output_type": "stream",
     "text": [
      "Validation: 100%|██████████████████████████████| 12/12 [00:04<00:00,  2.83it/s, Loss=1.2980, Acc=0.7109]\n"
     ]
    },
    {
     "name": "stdout",
     "output_type": "stream",
     "text": [
      "✅ Validation completed in 4.25s\n",
      "\n",
      "📊 Epoch 33 Summary:\n",
      "│ Train Loss: 0.0001 | Train Acc: 1.0000\n",
      "│ Val Loss:   1.2980 | Val Acc:   0.7109\n",
      "│ Train Time: 35.83s | Val Time: 4.25s\n",
      "│ Total Epoch Time: 40.08s\n",
      "│ Best Val Loss: 0.5013 (Epoch 1)\n",
      "│ GPU Memory: 0.4GB / 4.0GB\n",
      "================================================================================\n",
      "\n",
      "📈 Epoch 34/50\n",
      "--------------------------------------------------\n",
      "🔄 Training Phase...\n"
     ]
    },
    {
     "name": "stderr",
     "output_type": "stream",
     "text": [
      "Training: 100%|██████████████████████████████| 48/48 [00:36<00:00,  1.32it/s, Loss=0.0001, Acc=1.0000]\n"
     ]
    },
    {
     "name": "stdout",
     "output_type": "stream",
     "text": [
      "✅ Training completed in 36.24s\n",
      "🔍 Validation Phase...\n"
     ]
    },
    {
     "name": "stderr",
     "output_type": "stream",
     "text": [
      "Validation: 100%|██████████████████████████████| 12/12 [00:04<00:00,  2.78it/s, Loss=1.3044, Acc=0.7057]\n"
     ]
    },
    {
     "name": "stdout",
     "output_type": "stream",
     "text": [
      "✅ Validation completed in 4.33s\n",
      "\n",
      "📊 Epoch 34 Summary:\n",
      "│ Train Loss: 0.0001 | Train Acc: 1.0000\n",
      "│ Val Loss:   1.3044 | Val Acc:   0.7057\n",
      "│ Train Time: 36.24s | Val Time: 4.33s\n",
      "│ Total Epoch Time: 40.57s\n",
      "│ Best Val Loss: 0.5013 (Epoch 1)\n",
      "│ GPU Memory: 0.4GB / 4.0GB\n",
      "================================================================================\n",
      "\n",
      "📈 Epoch 35/50\n",
      "--------------------------------------------------\n",
      "🔄 Training Phase...\n"
     ]
    },
    {
     "name": "stderr",
     "output_type": "stream",
     "text": [
      "Training: 100%|██████████████████████████████| 48/48 [00:35<00:00,  1.34it/s, Loss=0.0003, Acc=1.0000]\n"
     ]
    },
    {
     "name": "stdout",
     "output_type": "stream",
     "text": [
      "✅ Training completed in 35.90s\n",
      "🔍 Validation Phase...\n"
     ]
    },
    {
     "name": "stderr",
     "output_type": "stream",
     "text": [
      "Validation: 100%|██████████████████████████████| 12/12 [00:04<00:00,  2.77it/s, Loss=1.3532, Acc=0.7135]\n"
     ]
    },
    {
     "name": "stdout",
     "output_type": "stream",
     "text": [
      "✅ Validation completed in 4.33s\n",
      "\n",
      "📊 Epoch 35 Summary:\n",
      "│ Train Loss: 0.0003 | Train Acc: 1.0000\n",
      "│ Val Loss:   1.3532 | Val Acc:   0.7135\n",
      "│ Train Time: 35.90s | Val Time: 4.33s\n",
      "│ Total Epoch Time: 40.23s\n",
      "│ Best Val Loss: 0.5013 (Epoch 1)\n",
      "│ GPU Memory: 0.4GB / 4.0GB\n",
      "================================================================================\n",
      "\n",
      "📈 Epoch 36/50\n",
      "--------------------------------------------------\n",
      "🔄 Training Phase...\n"
     ]
    },
    {
     "name": "stderr",
     "output_type": "stream",
     "text": [
      "Training: 100%|██████████████████████████████| 48/48 [00:35<00:00,  1.34it/s, Loss=0.0001, Acc=1.0000]\n"
     ]
    },
    {
     "name": "stdout",
     "output_type": "stream",
     "text": [
      "✅ Training completed in 35.87s\n",
      "🔍 Validation Phase...\n"
     ]
    },
    {
     "name": "stderr",
     "output_type": "stream",
     "text": [
      "Validation: 100%|██████████████████████████████| 12/12 [00:04<00:00,  2.82it/s, Loss=1.3229, Acc=0.7109]\n"
     ]
    },
    {
     "name": "stdout",
     "output_type": "stream",
     "text": [
      "✅ Validation completed in 4.26s\n",
      "\n",
      "📊 Epoch 36 Summary:\n",
      "│ Train Loss: 0.0001 | Train Acc: 1.0000\n",
      "│ Val Loss:   1.3229 | Val Acc:   0.7109\n",
      "│ Train Time: 35.87s | Val Time: 4.26s\n",
      "│ Total Epoch Time: 40.13s\n",
      "│ Best Val Loss: 0.5013 (Epoch 1)\n",
      "│ GPU Memory: 0.4GB / 4.0GB\n",
      "================================================================================\n",
      "\n",
      "📈 Epoch 37/50\n",
      "--------------------------------------------------\n",
      "🔄 Training Phase...\n"
     ]
    },
    {
     "name": "stderr",
     "output_type": "stream",
     "text": [
      "Training: 100%|██████████████████████████████| 48/48 [00:35<00:00,  1.34it/s, Loss=0.0001, Acc=1.0000]\n"
     ]
    },
    {
     "name": "stdout",
     "output_type": "stream",
     "text": [
      "✅ Training completed in 35.89s\n",
      "🔍 Validation Phase...\n"
     ]
    },
    {
     "name": "stderr",
     "output_type": "stream",
     "text": [
      "Validation: 100%|██████████████████████████████| 12/12 [00:04<00:00,  2.76it/s, Loss=1.3026, Acc=0.7188]\n"
     ]
    },
    {
     "name": "stdout",
     "output_type": "stream",
     "text": [
      "✅ Validation completed in 4.35s\n",
      "\n",
      "📊 Epoch 37 Summary:\n",
      "│ Train Loss: 0.0001 | Train Acc: 1.0000\n",
      "│ Val Loss:   1.3026 | Val Acc:   0.7188\n",
      "│ Train Time: 35.89s | Val Time: 4.35s\n",
      "│ Total Epoch Time: 40.25s\n",
      "│ Best Val Loss: 0.5013 (Epoch 1)\n",
      "│ GPU Memory: 0.4GB / 4.0GB\n",
      "================================================================================\n",
      "\n",
      "📈 Epoch 38/50\n",
      "--------------------------------------------------\n",
      "🔄 Training Phase...\n"
     ]
    },
    {
     "name": "stderr",
     "output_type": "stream",
     "text": [
      "Training: 100%|██████████████████████████████| 48/48 [00:35<00:00,  1.33it/s, Loss=0.0001, Acc=1.0000]\n"
     ]
    },
    {
     "name": "stdout",
     "output_type": "stream",
     "text": [
      "✅ Training completed in 35.99s\n",
      "🔍 Validation Phase...\n"
     ]
    },
    {
     "name": "stderr",
     "output_type": "stream",
     "text": [
      "Validation: 100%|██████████████████████████████| 12/12 [00:04<00:00,  2.82it/s, Loss=1.2651, Acc=0.7240]\n"
     ]
    },
    {
     "name": "stdout",
     "output_type": "stream",
     "text": [
      "✅ Validation completed in 4.26s\n",
      "\n",
      "📊 Epoch 38 Summary:\n",
      "│ Train Loss: 0.0001 | Train Acc: 1.0000\n",
      "│ Val Loss:   1.2651 | Val Acc:   0.7240\n",
      "│ Train Time: 35.99s | Val Time: 4.26s\n",
      "│ Total Epoch Time: 40.26s\n",
      "│ Best Val Loss: 0.5013 (Epoch 1)\n",
      "│ GPU Memory: 0.4GB / 4.0GB\n",
      "================================================================================\n",
      "\n",
      "📈 Epoch 39/50\n",
      "--------------------------------------------------\n",
      "🔄 Training Phase...\n"
     ]
    },
    {
     "name": "stderr",
     "output_type": "stream",
     "text": [
      "Training: 100%|██████████████████████████████| 48/48 [00:35<00:00,  1.34it/s, Loss=0.0001, Acc=1.0000]\n"
     ]
    },
    {
     "name": "stdout",
     "output_type": "stream",
     "text": [
      "✅ Training completed in 35.76s\n",
      "🔍 Validation Phase...\n"
     ]
    },
    {
     "name": "stderr",
     "output_type": "stream",
     "text": [
      "Validation: 100%|██████████████████████████████| 12/12 [00:04<00:00,  2.77it/s, Loss=1.2733, Acc=0.7188]\n"
     ]
    },
    {
     "name": "stdout",
     "output_type": "stream",
     "text": [
      "✅ Validation completed in 4.33s\n",
      "\n",
      "📊 Epoch 39 Summary:\n",
      "│ Train Loss: 0.0001 | Train Acc: 1.0000\n",
      "│ Val Loss:   1.2733 | Val Acc:   0.7188\n",
      "│ Train Time: 35.76s | Val Time: 4.33s\n",
      "│ Total Epoch Time: 40.09s\n",
      "│ Best Val Loss: 0.5013 (Epoch 1)\n",
      "│ GPU Memory: 0.4GB / 4.0GB\n",
      "================================================================================\n",
      "\n",
      "📈 Epoch 40/50\n",
      "--------------------------------------------------\n",
      "🔄 Training Phase...\n"
     ]
    },
    {
     "name": "stderr",
     "output_type": "stream",
     "text": [
      "Training: 100%|██████████████████████████████| 48/48 [00:35<00:00,  1.34it/s, Loss=0.0001, Acc=1.0000]\n"
     ]
    },
    {
     "name": "stdout",
     "output_type": "stream",
     "text": [
      "✅ Training completed in 35.88s\n",
      "🔍 Validation Phase...\n"
     ]
    },
    {
     "name": "stderr",
     "output_type": "stream",
     "text": [
      "Validation: 100%|██████████████████████████████| 12/12 [00:04<00:00,  2.79it/s, Loss=1.2490, Acc=0.7109]\n"
     ]
    },
    {
     "name": "stdout",
     "output_type": "stream",
     "text": [
      "✅ Validation completed in 4.31s\n",
      "\n",
      "📊 Epoch 40 Summary:\n",
      "│ Train Loss: 0.0001 | Train Acc: 1.0000\n",
      "│ Val Loss:   1.2490 | Val Acc:   0.7109\n",
      "│ Train Time: 35.88s | Val Time: 4.31s\n",
      "│ Total Epoch Time: 40.19s\n",
      "│ Best Val Loss: 0.5013 (Epoch 1)\n",
      "│ GPU Memory: 0.4GB / 4.0GB\n",
      "================================================================================\n",
      "\n",
      "📈 Epoch 41/50\n",
      "--------------------------------------------------\n",
      "🔄 Training Phase...\n"
     ]
    },
    {
     "name": "stderr",
     "output_type": "stream",
     "text": [
      "Training: 100%|██████████████████████████████| 48/48 [00:35<00:00,  1.34it/s, Loss=0.0001, Acc=1.0000]\n"
     ]
    },
    {
     "name": "stdout",
     "output_type": "stream",
     "text": [
      "✅ Training completed in 35.73s\n",
      "🔍 Validation Phase...\n"
     ]
    },
    {
     "name": "stderr",
     "output_type": "stream",
     "text": [
      "Validation: 100%|██████████████████████████████| 12/12 [00:04<00:00,  2.78it/s, Loss=1.2908, Acc=0.7135]\n"
     ]
    },
    {
     "name": "stdout",
     "output_type": "stream",
     "text": [
      "✅ Validation completed in 4.33s\n",
      "\n",
      "📊 Epoch 41 Summary:\n",
      "│ Train Loss: 0.0001 | Train Acc: 1.0000\n",
      "│ Val Loss:   1.2908 | Val Acc:   0.7135\n",
      "│ Train Time: 35.73s | Val Time: 4.33s\n",
      "│ Total Epoch Time: 40.06s\n",
      "│ Best Val Loss: 0.5013 (Epoch 1)\n",
      "│ GPU Memory: 0.4GB / 4.0GB\n",
      "================================================================================\n",
      "\n",
      "📈 Epoch 42/50\n",
      "--------------------------------------------------\n",
      "🔄 Training Phase...\n"
     ]
    },
    {
     "name": "stderr",
     "output_type": "stream",
     "text": [
      "Training: 100%|██████████████████████████████| 48/48 [00:35<00:00,  1.34it/s, Loss=0.0001, Acc=1.0000]\n"
     ]
    },
    {
     "name": "stdout",
     "output_type": "stream",
     "text": [
      "✅ Training completed in 35.85s\n",
      "🔍 Validation Phase...\n"
     ]
    },
    {
     "name": "stderr",
     "output_type": "stream",
     "text": [
      "Validation: 100%|██████████████████████████████| 12/12 [00:04<00:00,  2.83it/s, Loss=1.2904, Acc=0.7214]\n"
     ]
    },
    {
     "name": "stdout",
     "output_type": "stream",
     "text": [
      "✅ Validation completed in 4.25s\n",
      "\n",
      "📊 Epoch 42 Summary:\n",
      "│ Train Loss: 0.0001 | Train Acc: 1.0000\n",
      "│ Val Loss:   1.2904 | Val Acc:   0.7214\n",
      "│ Train Time: 35.85s | Val Time: 4.25s\n",
      "│ Total Epoch Time: 40.11s\n",
      "│ Best Val Loss: 0.5013 (Epoch 1)\n",
      "│ GPU Memory: 0.4GB / 4.0GB\n",
      "================================================================================\n",
      "\n",
      "📈 Epoch 43/50\n",
      "--------------------------------------------------\n",
      "🔄 Training Phase...\n"
     ]
    },
    {
     "name": "stderr",
     "output_type": "stream",
     "text": [
      "Training: 100%|██████████████████████████████| 48/48 [00:35<00:00,  1.34it/s, Loss=0.0001, Acc=1.0000]\n"
     ]
    },
    {
     "name": "stdout",
     "output_type": "stream",
     "text": [
      "✅ Training completed in 35.90s\n",
      "🔍 Validation Phase...\n"
     ]
    },
    {
     "name": "stderr",
     "output_type": "stream",
     "text": [
      "Validation: 100%|██████████████████████████████| 12/12 [00:04<00:00,  2.76it/s, Loss=1.3182, Acc=0.7214]\n"
     ]
    },
    {
     "name": "stdout",
     "output_type": "stream",
     "text": [
      "✅ Validation completed in 4.36s\n",
      "\n",
      "📊 Epoch 43 Summary:\n",
      "│ Train Loss: 0.0001 | Train Acc: 1.0000\n",
      "│ Val Loss:   1.3182 | Val Acc:   0.7214\n",
      "│ Train Time: 35.90s | Val Time: 4.36s\n",
      "│ Total Epoch Time: 40.26s\n",
      "│ Best Val Loss: 0.5013 (Epoch 1)\n",
      "│ GPU Memory: 0.4GB / 4.0GB\n",
      "================================================================================\n",
      "\n",
      "📈 Epoch 44/50\n",
      "--------------------------------------------------\n",
      "🔄 Training Phase...\n"
     ]
    },
    {
     "name": "stderr",
     "output_type": "stream",
     "text": [
      "Training: 100%|██████████████████████████████| 48/48 [00:35<00:00,  1.34it/s, Loss=0.0001, Acc=1.0000]\n"
     ]
    },
    {
     "name": "stdout",
     "output_type": "stream",
     "text": [
      "✅ Training completed in 35.81s\n",
      "🔍 Validation Phase...\n"
     ]
    },
    {
     "name": "stderr",
     "output_type": "stream",
     "text": [
      "Validation: 100%|██████████████████████████████| 12/12 [00:04<00:00,  2.79it/s, Loss=1.2822, Acc=0.7266]\n"
     ]
    },
    {
     "name": "stdout",
     "output_type": "stream",
     "text": [
      "✅ Validation completed in 4.30s\n",
      "\n",
      "📊 Epoch 44 Summary:\n",
      "│ Train Loss: 0.0001 | Train Acc: 1.0000\n",
      "│ Val Loss:   1.2822 | Val Acc:   0.7266\n",
      "│ Train Time: 35.81s | Val Time: 4.30s\n",
      "│ Total Epoch Time: 40.11s\n",
      "│ Best Val Loss: 0.5013 (Epoch 1)\n",
      "│ GPU Memory: 0.4GB / 4.0GB\n",
      "================================================================================\n",
      "\n",
      "📈 Epoch 45/50\n",
      "--------------------------------------------------\n",
      "🔄 Training Phase...\n"
     ]
    },
    {
     "name": "stderr",
     "output_type": "stream",
     "text": [
      "Training: 100%|██████████████████████████████| 48/48 [00:35<00:00,  1.33it/s, Loss=0.0002, Acc=1.0000]\n"
     ]
    },
    {
     "name": "stdout",
     "output_type": "stream",
     "text": [
      "✅ Training completed in 35.97s\n",
      "🔍 Validation Phase...\n"
     ]
    },
    {
     "name": "stderr",
     "output_type": "stream",
     "text": [
      "Validation: 100%|██████████████████████████████| 12/12 [00:04<00:00,  2.77it/s, Loss=1.3048, Acc=0.7188]\n"
     ]
    },
    {
     "name": "stdout",
     "output_type": "stream",
     "text": [
      "✅ Validation completed in 4.35s\n",
      "\n",
      "📊 Epoch 45 Summary:\n",
      "│ Train Loss: 0.0002 | Train Acc: 1.0000\n",
      "│ Val Loss:   1.3048 | Val Acc:   0.7188\n",
      "│ Train Time: 35.97s | Val Time: 4.35s\n",
      "│ Total Epoch Time: 40.32s\n",
      "│ Best Val Loss: 0.5013 (Epoch 1)\n",
      "│ GPU Memory: 0.4GB / 4.0GB\n",
      "================================================================================\n",
      "\n",
      "📈 Epoch 46/50\n",
      "--------------------------------------------------\n",
      "🔄 Training Phase...\n"
     ]
    },
    {
     "name": "stderr",
     "output_type": "stream",
     "text": [
      "Training: 100%|██████████████████████████████| 48/48 [00:35<00:00,  1.34it/s, Loss=0.0001, Acc=1.0000]\n"
     ]
    },
    {
     "name": "stdout",
     "output_type": "stream",
     "text": [
      "✅ Training completed in 35.75s\n",
      "🔍 Validation Phase...\n"
     ]
    },
    {
     "name": "stderr",
     "output_type": "stream",
     "text": [
      "Validation: 100%|██████████████████████████████| 12/12 [00:04<00:00,  2.78it/s, Loss=1.1836, Acc=0.7396]\n"
     ]
    },
    {
     "name": "stdout",
     "output_type": "stream",
     "text": [
      "✅ Validation completed in 4.32s\n",
      "\n",
      "📊 Epoch 46 Summary:\n",
      "│ Train Loss: 0.0001 | Train Acc: 1.0000\n",
      "│ Val Loss:   1.1836 | Val Acc:   0.7396\n",
      "│ Train Time: 35.75s | Val Time: 4.32s\n",
      "│ Total Epoch Time: 40.07s\n",
      "│ Best Val Loss: 0.5013 (Epoch 1)\n",
      "│ GPU Memory: 0.4GB / 4.0GB\n",
      "================================================================================\n",
      "\n",
      "📈 Epoch 47/50\n",
      "--------------------------------------------------\n",
      "🔄 Training Phase...\n"
     ]
    },
    {
     "name": "stderr",
     "output_type": "stream",
     "text": [
      "Training: 100%|██████████████████████████████| 48/48 [00:35<00:00,  1.34it/s, Loss=0.0001, Acc=1.0000]\n"
     ]
    },
    {
     "name": "stdout",
     "output_type": "stream",
     "text": [
      "✅ Training completed in 35.96s\n",
      "🔍 Validation Phase...\n"
     ]
    },
    {
     "name": "stderr",
     "output_type": "stream",
     "text": [
      "Validation: 100%|██████████████████████████████| 12/12 [00:04<00:00,  2.79it/s, Loss=1.2140, Acc=0.7266]\n"
     ]
    },
    {
     "name": "stdout",
     "output_type": "stream",
     "text": [
      "✅ Validation completed in 4.31s\n",
      "\n",
      "📊 Epoch 47 Summary:\n",
      "│ Train Loss: 0.0001 | Train Acc: 1.0000\n",
      "│ Val Loss:   1.2140 | Val Acc:   0.7266\n",
      "│ Train Time: 35.96s | Val Time: 4.31s\n",
      "│ Total Epoch Time: 40.27s\n",
      "│ Best Val Loss: 0.5013 (Epoch 1)\n",
      "│ GPU Memory: 0.4GB / 4.0GB\n",
      "================================================================================\n",
      "\n",
      "📈 Epoch 48/50\n",
      "--------------------------------------------------\n",
      "🔄 Training Phase...\n"
     ]
    },
    {
     "name": "stderr",
     "output_type": "stream",
     "text": [
      "Training: 100%|██████████████████████████████| 48/48 [00:35<00:00,  1.34it/s, Loss=0.0001, Acc=1.0000]\n"
     ]
    },
    {
     "name": "stdout",
     "output_type": "stream",
     "text": [
      "✅ Training completed in 35.70s\n",
      "🔍 Validation Phase...\n"
     ]
    },
    {
     "name": "stderr",
     "output_type": "stream",
     "text": [
      "Validation: 100%|██████████████████████████████| 12/12 [00:04<00:00,  2.79it/s, Loss=1.2199, Acc=0.7266]\n"
     ]
    },
    {
     "name": "stdout",
     "output_type": "stream",
     "text": [
      "✅ Validation completed in 4.31s\n",
      "\n",
      "📊 Epoch 48 Summary:\n",
      "│ Train Loss: 0.0001 | Train Acc: 1.0000\n",
      "│ Val Loss:   1.2199 | Val Acc:   0.7266\n",
      "│ Train Time: 35.70s | Val Time: 4.31s\n",
      "│ Total Epoch Time: 40.01s\n",
      "│ Best Val Loss: 0.5013 (Epoch 1)\n",
      "│ GPU Memory: 0.4GB / 4.0GB\n",
      "================================================================================\n",
      "\n",
      "📈 Epoch 49/50\n",
      "--------------------------------------------------\n",
      "🔄 Training Phase...\n"
     ]
    },
    {
     "name": "stderr",
     "output_type": "stream",
     "text": [
      "Training: 100%|██████████████████████████████| 48/48 [00:35<00:00,  1.34it/s, Loss=0.0001, Acc=1.0000]\n"
     ]
    },
    {
     "name": "stdout",
     "output_type": "stream",
     "text": [
      "✅ Training completed in 35.84s\n",
      "🔍 Validation Phase...\n"
     ]
    },
    {
     "name": "stderr",
     "output_type": "stream",
     "text": [
      "Validation: 100%|██████████████████████████████| 12/12 [00:04<00:00,  2.75it/s, Loss=1.1881, Acc=0.7344]\n"
     ]
    },
    {
     "name": "stdout",
     "output_type": "stream",
     "text": [
      "✅ Validation completed in 4.38s\n",
      "\n",
      "📊 Epoch 49 Summary:\n",
      "│ Train Loss: 0.0001 | Train Acc: 1.0000\n",
      "│ Val Loss:   1.1881 | Val Acc:   0.7344\n",
      "│ Train Time: 35.84s | Val Time: 4.38s\n",
      "│ Total Epoch Time: 40.22s\n",
      "│ Best Val Loss: 0.5013 (Epoch 1)\n",
      "│ GPU Memory: 0.4GB / 4.0GB\n",
      "================================================================================\n",
      "\n",
      "📈 Epoch 50/50\n",
      "--------------------------------------------------\n",
      "🔄 Training Phase...\n"
     ]
    },
    {
     "name": "stderr",
     "output_type": "stream",
     "text": [
      "Training: 100%|██████████████████████████████| 48/48 [00:35<00:00,  1.34it/s, Loss=0.0001, Acc=1.0000]\n"
     ]
    },
    {
     "name": "stdout",
     "output_type": "stream",
     "text": [
      "✅ Training completed in 35.94s\n",
      "🔍 Validation Phase...\n"
     ]
    },
    {
     "name": "stderr",
     "output_type": "stream",
     "text": [
      "Validation: 100%|██████████████████████████████| 12/12 [00:04<00:00,  2.69it/s, Loss=1.2174, Acc=0.7474]\n"
     ]
    },
    {
     "name": "stdout",
     "output_type": "stream",
     "text": [
      "✅ Validation completed in 4.47s\n",
      "\n",
      "📊 Epoch 50 Summary:\n",
      "│ Train Loss: 0.0001 | Train Acc: 1.0000\n",
      "│ Val Loss:   1.2174 | Val Acc:   0.7474\n",
      "│ Train Time: 35.94s | Val Time: 4.47s\n",
      "│ Total Epoch Time: 40.41s\n",
      "│ Best Val Loss: 0.5013 (Epoch 1)\n",
      "│ GPU Memory: 0.4GB / 4.0GB\n",
      "================================================================================\n",
      "\n",
      "💾 Best model saved as 'best_cricket_inceptionv3_filtered.pth'\n",
      "📊 Best model stats:\n",
      "│ Best Epoch: 1\n",
      "│ Best Val Loss: 0.5013\n",
      "│ Best Val Acc: 0.7474\n",
      "\n",
      "💾 Training history saved to 'cricket_inceptionv3_filtered_history_pretrained.csv'\n",
      "\n",
      "🎉 InceptionV3 Fine-tuning Complete!\n",
      "Total Training Time: 2031.77s (33.9 minutes)\n",
      "Average Epoch Time: 40.64s\n",
      "\n",
      "🧪 Loading Best Model for Testing...\n",
      "✅ Best model from epoch 1 loaded successfully!\n"
     ]
    },
    {
     "name": "stderr",
     "output_type": "stream",
     "text": [
      "Testing: 100%|██████████████████████████████| 16/16 [00:10<00:00,  1.52it/s]\n"
     ]
    },
    {
     "name": "stdout",
     "output_type": "stream",
     "text": [
      "✅ Testing completed in 10.54s\n",
      "\n",
      "📋 Classification Report:\n",
      "              precision    recall  f1-score   support\n",
      "\n",
      "   fast_bowl       0.77      0.83      0.80       304\n",
      "   spin_bowl       0.67      0.60      0.63       184\n",
      "\n",
      "    accuracy                           0.74       488\n",
      "   macro avg       0.72      0.71      0.72       488\n",
      "weighted avg       0.74      0.74      0.74       488\n",
      "\n",
      "🎯 Test Accuracy: 0.7398\n",
      "\n",
      "📊 Cricket Classification Performance (InceptionV3 - Filtered Data):\n",
      "│ Best Validation Loss: 0.5013 (Epoch 1)\n",
      "│ Best Validation Acc:  0.7474 (Epoch 1)\n",
      "│ Final Test Accuracy:  0.7398\n",
      "│ Val-Test Gap:         0.0076\n",
      "│ Data Filtering: Excluded 'random_occlusion' folder\n",
      "\n",
      "💾 Files saved:\n",
      "│ best_cricket_inceptionv3_filtered.pth - Best model weights\n",
      "│ cricket_inceptionv3_filtered_history.csv - Training metrics\n"
     ]
    },
    {
     "data": {
      "image/png": "[encoded data removed]",
      "text/plain": [
       "<Figure size 1000x800 with 2 Axes>"
      ]
     },
     "metadata": {},
     "output_type": "display_data"
    },
    {
     "data": {
      "image/png": "[encoded data removed]",
      "text/plain": [
       "<Figure size 1500x500 with 3 Axes>"
      ]
     },
     "metadata": {},
     "output_type": "display_data"
    },
    {
     "name": "stdout",
     "output_type": "stream",
     "text": [
      "\n",
      "⏰ Final Timing Summary:\n",
      "│ Total Training: 2031.77s (33.9 min)\n",
      "│ Average per Epoch: 40.64s\n",
      "│ Testing Time: 10.54s\n",
      "│ Total Runtime: 2042.32s\n",
      "\n",
      "🏗️ InceptionV3 + Filtered Data Benefits:\n",
      "│ Clean dataset: 'random_occlusion' folder excluded\n",
      "│ Multi-scale features: Inception modules with multiple filter sizes\n",
      "│ High resolution: 299x299 input captures more detail\n",
      "│ ImageNet pretrained: Leverages powerful feature representations\n",
      "│ Optimized for quality: Should achieve excellent cricket classification\n"
     ]
    }
   ],
   "source": [
    "\n",
    "# -----------------------------\n",
    "# 3. Training Setup\n",
    "# -----------------------------\n",
    "criterion = nn.CrossEntropyLoss()\n",
    "optimizer = optim.Adam(model.parameters(), lr=1e-4)  # Lower LR for fine-tuning\n",
    "\n",
    "print(f\"\\n📋 Training Configuration:\")\n",
    "print(f\"│ Model: InceptionV3 (pretrained)\")\n",
    "print(f\"│ Optimizer: Adam (lr={optimizer.param_groups[0]['lr']})\")\n",
    "print(f\"│ Loss Function: CrossEntropyLoss\")\n",
    "print(f\"│ Batch Size: 32\")\n",
    "print(f\"│ Device: {device}\")\n",
    "print(f\"│ Data: Filtered (excluding '{ignore_folder}')\")\n",
    "\n",
    "# -----------------------------\n",
    "# 4. Training Loop with Model Saving\n",
    "# -----------------------------\n",
    "train_losses, val_losses = [], []\n",
    "train_accs, val_accs = [], []\n",
    "epoch_times = []\n",
    "epochs = 50\n",
    "\n",
    "# Initialize best model tracking (using val_loss for fine-tuning)\n",
    "best_val_loss = float('inf')\n",
    "best_model_state = None\n",
    "best_epoch = 0\n",
    "best_val_acc = 0.0\n",
    "\n",
    "print(f\"\\n🚀 Starting InceptionV3 Fine-tuning for {epochs} epochs...\")\n",
    "print(\"=\" * 80)\n",
    "total_start_time = time.time()\n",
    "\n",
    "for epoch in range(epochs):\n",
    "    epoch_start_time = time.time()\n",
    "    \n",
    "    print(f\"\\n📈 Epoch {epoch+1}/{epochs}\")\n",
    "    print(\"-\" * 50)\n",
    "    \n",
    "    # Training Phase\n",
    "    print(\"🔄 Training Phase...\")\n",
    "    model.train()\n",
    "    running_loss, correct, total = 0, 0, 0\n",
    "    \n",
    "    train_pbar = tqdm(train_loader, desc=\"Training\", \n",
    "                     bar_format='{l_bar}{bar:30}{r_bar}{bar:-30b}')\n",
    "    \n",
    "    train_phase_start = time.time()\n",
    "    \n",
    "    for batch_idx, (imgs, labels) in enumerate(train_pbar):\n",
    "        imgs, labels = imgs.to(device), labels.to(device)\n",
    "        \n",
    "        optimizer.zero_grad()\n",
    "        outputs = model(imgs)\n",
    "        loss = criterion(outputs, labels)\n",
    "        loss.backward()\n",
    "        optimizer.step()\n",
    "        \n",
    "        running_loss += loss.item()\n",
    "        _, preds = torch.max(outputs, 1)\n",
    "        correct += (preds == labels).sum().item()\n",
    "        total += labels.size(0)\n",
    "        \n",
    "        current_acc = correct / total\n",
    "        train_pbar.set_postfix({\n",
    "            'Loss': f'{running_loss/(batch_idx+1):.4f}',\n",
    "            'Acc': f'{current_acc:.4f}'\n",
    "        })\n",
    "        \n",
    "        if device.type == 'cuda' and batch_idx % 10 == 0:\n",
    "            gpu_memory = torch.cuda.memory_allocated() / 1024**3\n",
    "            train_pbar.set_postfix({\n",
    "                'Loss': f'{running_loss/(batch_idx+1):.4f}',\n",
    "                'Acc': f'{current_acc:.4f}',\n",
    "                'GPU': f'{gpu_memory:.1f}GB'\n",
    "            })\n",
    "    \n",
    "    train_phase_time = time.time() - train_phase_start\n",
    "    train_loss = running_loss / len(train_loader)\n",
    "    train_acc = correct / total\n",
    "    train_losses.append(train_loss)\n",
    "    train_accs.append(train_acc)\n",
    "    \n",
    "    print(f\"✅ Training completed in {train_phase_time:.2f}s\")\n",
    "    \n",
    "    # Validation Phase\n",
    "    print(\"🔍 Validation Phase...\")\n",
    "    model.eval()\n",
    "    running_loss, correct, total = 0, 0, 0\n",
    "    \n",
    "    val_phase_start = time.time()\n",
    "    val_pbar = tqdm(val_loader, desc=\"Validation\", \n",
    "                   bar_format='{l_bar}{bar:30}{r_bar}{bar:-30b}')\n",
    "    \n",
    "    with torch.no_grad():\n",
    "        for batch_idx, (imgs, labels) in enumerate(val_pbar):\n",
    "            imgs, labels = imgs.to(device), labels.to(device)\n",
    "            outputs = model(imgs)\n",
    "            loss = criterion(outputs, labels)\n",
    "            \n",
    "            running_loss += loss.item()\n",
    "            _, preds = torch.max(outputs, 1)\n",
    "            correct += (preds == labels).sum().item()\n",
    "            total += labels.size(0)\n",
    "            \n",
    "            current_acc = correct / total\n",
    "            val_pbar.set_postfix({\n",
    "                'Loss': f'{running_loss/(batch_idx+1):.4f}',\n",
    "                'Acc': f'{current_acc:.4f}'\n",
    "            })\n",
    "    \n",
    "    val_phase_time = time.time() - val_phase_start\n",
    "    val_loss = running_loss / len(val_loader)\n",
    "    val_acc = correct / total\n",
    "    val_losses.append(val_loss)\n",
    "    val_accs.append(val_acc)\n",
    "    \n",
    "    print(f\"✅ Validation completed in {val_phase_time:.2f}s\")\n",
    "    \n",
    "    # Check if this is the best model (using val_loss for fine-tuning)\n",
    "    is_best = val_loss < best_val_loss\n",
    "    if is_best:\n",
    "        best_val_loss = val_loss\n",
    "        best_val_acc = val_acc\n",
    "        best_epoch = epoch + 1\n",
    "        best_model_state = model.state_dict().copy()\n",
    "        print(f\"🌟 New best model found! Validation Loss: {val_loss:.4f}\")\n",
    "    \n",
    "    # Epoch Summary\n",
    "    epoch_time = time.time() - epoch_start_time\n",
    "    epoch_times.append(epoch_time)\n",
    "    \n",
    "    print(f\"\\n📊 Epoch {epoch+1} Summary:\")\n",
    "    print(f\"│ Train Loss: {train_loss:.4f} | Train Acc: {train_acc:.4f}\")\n",
    "    print(f\"│ Val Loss:   {val_loss:.4f} | Val Acc:   {val_acc:.4f}\")\n",
    "    print(f\"│ Train Time: {train_phase_time:.2f}s | Val Time: {val_phase_time:.2f}s\")\n",
    "    print(f\"│ Total Epoch Time: {epoch_time:.2f}s\")\n",
    "    print(f\"│ Best Val Loss: {best_val_loss:.4f} (Epoch {best_epoch})\")\n",
    "    \n",
    "    if device.type == 'cuda':\n",
    "        print(f\"│ GPU Memory: {torch.cuda.memory_allocated()/1024**3:.1f}GB / {torch.cuda.memory_reserved()/1024**3:.1f}GB\")\n",
    "    \n",
    "    print(\"=\" * 80)\n",
    "\n",
    "total_training_time = time.time() - total_start_time\n",
    "\n",
    "# Save the best model\n",
    "if best_model_state is not None:\n",
    "    torch.save(best_model_state, 'best_cricket_inceptionv3_filtered_pretrained.pth')\n",
    "    print(f\"\\n💾 Best model saved as 'best_cricket_inceptionv3_filtered.pth'\")\n",
    "    print(f\"📊 Best model stats:\")\n",
    "    print(f\"│ Best Epoch: {best_epoch}\")\n",
    "    print(f\"│ Best Val Loss: {best_val_loss:.4f}\")\n",
    "    print(f\"│ Best Val Acc: {best_val_acc:.4f}\")\n",
    "\n",
    "# Save training history\n",
    "history_data = {\n",
    "    'epoch': list(range(1, epochs+1)),\n",
    "    'train_loss': train_losses,\n",
    "    'val_loss': val_losses,\n",
    "    'train_acc': train_accs,\n",
    "    'val_acc': val_accs,\n",
    "    'epoch_time': epoch_times\n",
    "}\n",
    "\n",
    "history_df = pd.DataFrame(history_data)\n",
    "history_df.to_csv('cricket_inceptionv3_filtered_history_pretrained.csv', index=False)\n",
    "print(\"\\n💾 Training history saved to 'cricket_inceptionv3_filtered_history_pretrained.csv'\")\n",
    "\n",
    "print(f\"\\n🎉 InceptionV3 Fine-tuning Complete!\")\n",
    "print(f\"Total Training Time: {total_training_time:.2f}s ({total_training_time/60:.1f} minutes)\")\n",
    "print(f\"Average Epoch Time: {np.mean(epoch_times):.2f}s\")\n",
    "\n",
    "# -----------------------------\n",
    "# 5. Load Best Model and Test\n",
    "# -----------------------------\n",
    "print(f\"\\n🧪 Loading Best Model for Testing...\")\n",
    "if best_model_state is not None:\n",
    "    model.load_state_dict(best_model_state)\n",
    "    print(f\"✅ Best model from epoch {best_epoch} loaded successfully!\")\n",
    "\n",
    "test_start_time = time.time()\n",
    "y_true, y_pred = [], []\n",
    "model.eval()\n",
    "test_pbar = tqdm(test_loader, desc=\"Testing\", \n",
    "                bar_format='{l_bar}{bar:30}{r_bar}{bar:-30b}')\n",
    "\n",
    "with torch.no_grad():\n",
    "    for imgs, labels in test_pbar:\n",
    "        imgs, labels = imgs.to(device), labels.to(device)\n",
    "        outputs = model(imgs)\n",
    "        _, preds = torch.max(outputs, 1)\n",
    "        y_true.extend(labels.cpu().numpy())\n",
    "        y_pred.extend(preds.cpu().numpy())\n",
    "\n",
    "test_time = time.time() - test_start_time\n",
    "test_accuracy = accuracy_score(y_true, y_pred)\n",
    "\n",
    "print(f\"✅ Testing completed in {test_time:.2f}s\")\n",
    "print(\"\\n📋 Classification Report:\")\n",
    "print(classification_report(y_true, y_pred, target_names=classes))\n",
    "print(f\"🎯 Test Accuracy: {test_accuracy:.4f}\")\n",
    "\n",
    "# Performance Summary\n",
    "print(f\"\\n📊 Cricket Classification Performance (InceptionV3 - Filtered Data):\")\n",
    "print(f\"│ Best Validation Loss: {best_val_loss:.4f} (Epoch {best_epoch})\")\n",
    "print(f\"│ Best Validation Acc:  {best_val_acc:.4f} (Epoch {best_epoch})\")\n",
    "print(f\"│ Final Test Accuracy:  {test_accuracy:.4f}\")\n",
    "print(f\"│ Val-Test Gap:         {abs(best_val_acc - test_accuracy):.4f}\")\n",
    "print(f\"│ Data Filtering: Excluded '{ignore_folder}' folder\")\n",
    "\n",
    "print(f\"\\n💾 Files saved:\")\n",
    "print(f\"│ best_cricket_inceptionv3_filtered.pth - Best model weights\")\n",
    "print(f\"│ cricket_inceptionv3_filtered_history.csv - Training metrics\")\n",
    "\n",
    "# -----------------------------\n",
    "# 6. Visualizations\n",
    "# -----------------------------\n",
    "# Confusion Matrix\n",
    "cm = confusion_matrix(y_true, y_pred)\n",
    "plt.figure(figsize=(10, 8))\n",
    "sns.heatmap(cm, annot=True, fmt=\"d\", cmap=\"Blues\", \n",
    "            xticklabels=classes, yticklabels=classes)\n",
    "plt.xlabel(\"Predicted\")\n",
    "plt.ylabel(\"True\")\n",
    "plt.title(f\"Cricket Classification - InceptionV3 (Filtered Data) - Epoch {best_epoch}\")\n",
    "plt.tight_layout()\n",
    "plt.show()\n",
    "\n",
    "# Training Curves\n",
    "plt.figure(figsize=(15, 5))\n",
    "\n",
    "# Loss Plot\n",
    "plt.subplot(1, 3, 1)\n",
    "plt.plot(range(1, epochs+1), train_losses, 'b-', label=\"Train Loss\", marker='o', linewidth=2)\n",
    "plt.plot(range(1, epochs+1), val_losses, 'r-', label=\"Val Loss\", marker='s', linewidth=2)\n",
    "plt.axvline(x=best_epoch, color='green', linestyle='--', alpha=0.7, label=f'Best (Epoch {best_epoch})')\n",
    "plt.scatter([best_epoch], [best_val_loss], color='green', s=100, zorder=5)\n",
    "plt.legend()\n",
    "plt.title(\"InceptionV3 Loss over Epochs (Filtered)\")\n",
    "plt.xlabel(\"Epoch\")\n",
    "plt.ylabel(\"Loss\")\n",
    "plt.grid(True, alpha=0.3)\n",
    "\n",
    "# Accuracy Plot\n",
    "plt.subplot(1, 3, 2)\n",
    "plt.plot(range(1, epochs+1), train_accs, 'b-', label=\"Train Accuracy\", marker='o', linewidth=2)\n",
    "plt.plot(range(1, epochs+1), val_accs, 'r-', label=\"Val Accuracy\", marker='s', linewidth=2)\n",
    "plt.axvline(x=best_epoch, color='green', linestyle='--', alpha=0.7, label=f'Best (Epoch {best_epoch})')\n",
    "plt.scatter([best_epoch], [best_val_acc], color='green', s=100, zorder=5)\n",
    "plt.legend()\n",
    "plt.title(\"InceptionV3 Accuracy over Epochs (Filtered)\")\n",
    "plt.xlabel(\"Epoch\")\n",
    "plt.ylabel(\"Accuracy\")\n",
    "plt.grid(True, alpha=0.3)\n",
    "\n",
    "# Final Performance\n",
    "plt.subplot(1, 3, 3)\n",
    "metrics = ['Best Val Acc', 'Test Acc']\n",
    "values = [best_val_acc, test_accuracy]\n",
    "colors = ['orange', 'green']\n",
    "bars = plt.bar(metrics, values, color=colors, alpha=0.7)\n",
    "plt.title(\"InceptionV3 Final Performance (Filtered)\")\n",
    "plt.ylabel(\"Accuracy\")\n",
    "plt.ylim(0, 1)\n",
    "plt.grid(True, alpha=0.3)\n",
    "for bar, val in zip(bars, values):\n",
    "    plt.text(bar.get_x() + bar.get_width()/2, val + 0.01, \n",
    "             f'{val:.4f}', ha='center', va='bottom')\n",
    "\n",
    "plt.tight_layout()\n",
    "plt.show()\n",
    "\n",
    "# Final Summary\n",
    "print(f\"\\n⏰ Final Timing Summary:\")\n",
    "print(f\"│ Total Training: {total_training_time:.2f}s ({total_training_time/60:.1f} min)\")\n",
    "print(f\"│ Average per Epoch: {np.mean(epoch_times):.2f}s\")\n",
    "print(f\"│ Testing Time: {test_time:.2f}s\")\n",
    "print(f\"│ Total Runtime: {total_training_time + test_time:.2f}s\")\n",
    "\n",
    "# Model and Data Info\n",
    "print(f\"\\n🏗️ InceptionV3 + Filtered Data Benefits:\")\n",
    "print(f\"│ Clean dataset: '{ignore_folder}' folder excluded\")\n",
    "print(f\"│ Multi-scale features: Inception modules with multiple filter sizes\")\n",
    "print(f\"│ High resolution: 299x299 input captures more detail\")\n",
    "print(f\"│ ImageNet pretrained: Leverages powerful feature representations\")\n",
    "print(f\"│ Optimized for quality: Should achieve excellent cricket classification\")"
   ]
  }
 ],
 "metadata": {
  "kaggle": {
   "accelerator": "nvidiaTeslaT4",
   "dataSources": [
    {
     "datasetId": 7735666,
     "sourceId": 12275446,
     "sourceType": "datasetVersion"
    }
   ],
   "dockerImageVersionId": 31090,
   "isGpuEnabled": true,
   "isInternetEnabled": true,
   "language": "python",
   "sourceType": "notebook"
  },
  "kernelspec": {
   "display_name": "Python 3",
   "language": "python",
   "name": "python3"
  },
  "language_info": {
   "codemirror_mode": {
    "name": "ipython",
    "version": 3
   },
   "file_extension": ".py",
   "mimetype": "text/x-python",
   "name": "python",
   "nbconvert_exporter": "python",
   "pygments_lexer": "ipython3",
   "version": "3.11.13"
  },
  "papermill": {
   "default_parameters": {},
   "duration": 2075.965267,
   "end_time": "2025-09-08T05:16:06.399665",
   "environment_variables": {},
   "exception": null,
   "input_path": "__notebook__.ipynb",
   "output_path": "__notebook__.ipynb",
   "parameters": {},
   "start_time": "2025-09-08T04:41:30.434398",
   "version": "2.6.0"
  }
 },
 "nbformat": 4,
 "nbformat_minor": 5
}
