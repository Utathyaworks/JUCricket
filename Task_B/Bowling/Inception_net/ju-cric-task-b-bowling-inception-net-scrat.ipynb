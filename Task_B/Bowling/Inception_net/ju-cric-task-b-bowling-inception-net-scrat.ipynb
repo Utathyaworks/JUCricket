{
 "cells": [
  {
   "cell_type": "code",
   "execution_count": 1,
   "id": "07ad731c",
   "metadata": {
    "_cell_guid": "b1076dfc-b9ad-4769-8c92-a6c4dae69d19",
    "_uuid": "8f2839f25d086af736a60e9eeb907d3b93b6e0e5",
    "execution": {
     "iopub.execute_input": "2025-09-08T04:44:35.500723Z",
     "iopub.status.busy": "2025-09-08T04:44:35.500170Z",
     "iopub.status.idle": "2025-09-08T04:44:44.792437Z",
     "shell.execute_reply": "2025-09-08T04:44:44.791614Z"
    },
    "papermill": {
     "duration": 9.297724,
     "end_time": "2025-09-08T04:44:44.793722",
     "exception": false,
     "start_time": "2025-09-08T04:44:35.495998",
     "status": "completed"
    },
    "tags": []
   },
   "outputs": [
    {
     "name": "stdout",
     "output_type": "stream",
     "text": [
      "Training only on: Bowling\n",
      "Train classes: ['fast_bowl', 'spin_bowl']\n",
      "Train samples: 1710 Val samples: 432 Test samples: 549\n"
     ]
    }
   ],
   "source": [
    "import torch\n",
    "from torch.utils.data import DataLoader\n",
    "from torchvision import datasets, transforms\n",
    "\n",
    "# -----------------------------\n",
    "# 1. Data Preprocessing (Single Action Class)\n",
    "# -----------------------------\n",
    "base_dir = \"/kaggle/input/ju-cricket/Cricket_Dataset_final/Task_B\"  # base Task_B folder\n",
    "\n",
    "action_class = \"Bowling\"  # Change to \"Bowling\" / \"Fielding\" / \"Umpire\"\n",
    "\n",
    "transform = transforms.Compose([\n",
    "    transforms.Resize((224, 224)),   \n",
    "    transforms.ToTensor(),\n",
    "    transforms.Normalize([0.485, 0.456, 0.406], \n",
    "                         [0.229, 0.224, 0.225])\n",
    "])\n",
    "\n",
    "# Point ImageFolder to *only* the action class folder\n",
    "train_ds = datasets.ImageFolder(f\"{base_dir}/train/{action_class}\", transform=transform)\n",
    "val_ds   = datasets.ImageFolder(f\"{base_dir}/val/{action_class}\", transform=transform)\n",
    "test_ds  = datasets.ImageFolder(f\"{base_dir}/test/{action_class}\", transform=transform)\n",
    "\n",
    "train_loader = DataLoader(train_ds, batch_size=32, shuffle=True)\n",
    "val_loader   = DataLoader(val_ds, batch_size=32, shuffle=False)\n",
    "test_loader  = DataLoader(test_ds, batch_size=32, shuffle=False)\n",
    "\n",
    "print(f\"Training only on: {action_class}\")\n",
    "print(\"Train classes:\", train_ds.classes)\n",
    "print(\"Train samples:\", len(train_ds), \n",
    "      \"Val samples:\", len(val_ds), \n",
    "      \"Test samples:\", len(test_ds))"
   ]
  },
  {
   "cell_type": "code",
   "execution_count": 2,
   "id": "8b5b55e8",
   "metadata": {
    "execution": {
     "iopub.execute_input": "2025-09-08T04:44:44.800599Z",
     "iopub.status.busy": "2025-09-08T04:44:44.799872Z",
     "iopub.status.idle": "2025-09-08T04:44:44.804436Z",
     "shell.execute_reply": "2025-09-08T04:44:44.803767Z"
    },
    "papermill": {
     "duration": 0.008784,
     "end_time": "2025-09-08T04:44:44.805565",
     "exception": false,
     "start_time": "2025-09-08T04:44:44.796781",
     "status": "completed"
    },
    "tags": []
   },
   "outputs": [
    {
     "name": "stdout",
     "output_type": "stream",
     "text": [
      "Total training images: 1710\n",
      "Total validation images: 432\n",
      "Total test images: 549\n",
      "Total images in dataset: 2691\n"
     ]
    }
   ],
   "source": [
    "print(\"Total training images:\", len(train_ds))\n",
    "print(\"Total validation images:\", len(val_ds))\n",
    "print(\"Total test images:\", len(test_ds))\n",
    "\n",
    "total_images = len(train_ds) + len(val_ds) + len(test_ds)\n",
    "print(\"Total images in dataset:\", total_images)"
   ]
  },
  {
   "cell_type": "code",
   "execution_count": 3,
   "id": "9f47d245",
   "metadata": {
    "execution": {
     "iopub.execute_input": "2025-09-08T04:44:44.811586Z",
     "iopub.status.busy": "2025-09-08T04:44:44.811091Z",
     "iopub.status.idle": "2025-09-08T04:44:44.817813Z",
     "shell.execute_reply": "2025-09-08T04:44:44.817065Z"
    },
    "papermill": {
     "duration": 0.010752,
     "end_time": "2025-09-08T04:44:44.818834",
     "exception": false,
     "start_time": "2025-09-08T04:44:44.808082",
     "status": "completed"
    },
    "tags": []
   },
   "outputs": [
    {
     "name": "stdout",
     "output_type": "stream",
     "text": [
      "Training images (excluding 'random_occlusion'): 1520\n",
      "Validation images (excluding 'random_occlusion'): 384\n",
      "Test images (excluding 'random_occlusion'): 488\n",
      "Total images (excluding 'random_occlusion'): 2392\n"
     ]
    }
   ],
   "source": [
    "ignore_folder = \"random_occlusion\"\n",
    "\n",
    "def count_images_ignore_folder(dataset, ignore_folder):\n",
    "    count = 0\n",
    "    for img_path, label in dataset.samples:\n",
    "        # Skip if the image path contains the ignore_folder\n",
    "        if ignore_folder not in img_path.split(\"/\"):\n",
    "            count += 1\n",
    "    return count\n",
    "\n",
    "train_count = count_images_ignore_folder(train_ds, ignore_folder)\n",
    "val_count   = count_images_ignore_folder(val_ds, ignore_folder)\n",
    "test_count  = count_images_ignore_folder(test_ds, ignore_folder)\n",
    "\n",
    "total_count = train_count + val_count + test_count\n",
    "\n",
    "print(\"Training images (excluding '{}'): {}\".format(ignore_folder, train_count))\n",
    "print(\"Validation images (excluding '{}'): {}\".format(ignore_folder, val_count))\n",
    "print(\"Test images (excluding '{}'): {}\".format(ignore_folder, test_count))\n",
    "print(\"Total images (excluding '{}'): {}\".format(ignore_folder, total_count))"
   ]
  },
  {
   "cell_type": "code",
   "execution_count": 4,
   "id": "bb282c97",
   "metadata": {
    "execution": {
     "iopub.execute_input": "2025-09-08T04:44:44.824622Z",
     "iopub.status.busy": "2025-09-08T04:44:44.824266Z",
     "iopub.status.idle": "2025-09-08T04:44:44.831602Z",
     "shell.execute_reply": "2025-09-08T04:44:44.830955Z"
    },
    "papermill": {
     "duration": 0.011346,
     "end_time": "2025-09-08T04:44:44.832698",
     "exception": false,
     "start_time": "2025-09-08T04:44:44.821352",
     "status": "completed"
    },
    "tags": []
   },
   "outputs": [
    {
     "name": "stdout",
     "output_type": "stream",
     "text": [
      "Training folders considered: {'original', 'chromatic_aberration', 'lens_flare', 'gaussian_noise', 'dirty_lens', 'blur', 'low_resolution', 'motion_blur', 'random_occlusion'}\n",
      "Validation folders considered: {'original', 'chromatic_aberration', 'lens_flare', 'gaussian_noise', 'dirty_lens', 'blur', 'low_resolution', 'motion_blur', 'random_occlusion'}\n",
      "Test folders considered: {'original', 'chromatic_aberration', 'lens_flare', 'gaussian_noise', 'dirty_lens', 'blur', 'low_resolution', 'motion_blur', 'random_occlusion'}\n"
     ]
    }
   ],
   "source": [
    "ignore_folder = \"random_occlusionw\"\n",
    "\n",
    "def get_included_folders(dataset, ignore_folder):\n",
    "    included = set()\n",
    "    for img_path, label in dataset.samples:\n",
    "        # Split the path into parts and ignore if ignore_folder is in the path\n",
    "        if ignore_folder not in img_path.split(\"/\"):\n",
    "            # The folder name just above the image (or the class folder)\n",
    "            folder_name = img_path.split(\"/\")[-2]\n",
    "            included.add(folder_name)\n",
    "    return included\n",
    "\n",
    "train_folders = get_included_folders(train_ds, ignore_folder)\n",
    "val_folders   = get_included_folders(val_ds, ignore_folder)\n",
    "test_folders  = get_included_folders(test_ds, ignore_folder)\n",
    "\n",
    "print(\"Training folders considered:\", train_folders)\n",
    "print(\"Validation folders considered:\", val_folders)\n",
    "print(\"Test folders considered:\", test_folders)"
   ]
  },
  {
   "cell_type": "code",
   "execution_count": 5,
   "id": "ec741225",
   "metadata": {
    "execution": {
     "iopub.execute_input": "2025-09-08T04:44:44.838762Z",
     "iopub.status.busy": "2025-09-08T04:44:44.838358Z",
     "iopub.status.idle": "2025-09-08T04:44:44.883285Z",
     "shell.execute_reply": "2025-09-08T04:44:44.882763Z"
    },
    "papermill": {
     "duration": 0.048925,
     "end_time": "2025-09-08T04:44:44.884286",
     "exception": false,
     "start_time": "2025-09-08T04:44:44.835361",
     "status": "completed"
    },
    "tags": []
   },
   "outputs": [
    {
     "name": "stdout",
     "output_type": "stream",
     "text": [
      "Classes: ['fast_bowl', 'spin_bowl']\n",
      "Final Training images: 1520\n",
      "Final Validation images: 384\n",
      "Final Test images: 488\n",
      "Total images after filtering: 2392\n"
     ]
    }
   ],
   "source": [
    "ignore_folder = \"random_occlusion\"\n",
    "\n",
    "def filter_samples(dataset, ignore_folder):\n",
    "    # Keep only samples where ignore_folder is NOT in the path\n",
    "    filtered_samples = [s for s in dataset.samples if ignore_folder not in s[0].split(\"/\")]\n",
    "    dataset.samples = filtered_samples\n",
    "    dataset.targets = [s[1] for s in filtered_samples]  # Update targets accordingly\n",
    "    return dataset\n",
    "\n",
    "# Create original datasets\n",
    "train_ds = datasets.ImageFolder(f\"{base_dir}/train/Bowling\", transform=transform)\n",
    "val_ds   = datasets.ImageFolder(f\"{base_dir}/val/Bowling\", transform=transform)\n",
    "test_ds  = datasets.ImageFolder(f\"{base_dir}/test/Bowling\", transform=transform)\n",
    "\n",
    "# Filter out 'random_occlusion' folder\n",
    "train_ds = filter_samples(train_ds, ignore_folder)\n",
    "val_ds   = filter_samples(val_ds, ignore_folder)\n",
    "test_ds  = filter_samples(test_ds, ignore_folder)\n",
    "\n",
    "# DataLoaders\n",
    "train_loader = DataLoader(train_ds, batch_size=32, shuffle=True)\n",
    "val_loader   = DataLoader(val_ds, batch_size=32, shuffle=False)\n",
    "test_loader  = DataLoader(test_ds, batch_size=32, shuffle=False)\n",
    "\n",
    "# Classes (will remain the same)\n",
    "classes = train_ds.classes\n",
    "print(\"Classes:\", classes)\n",
    "\n",
    "# Show counts\n",
    "print(\"Final Training images:\", len(train_ds))\n",
    "print(\"Final Validation images:\", len(val_ds))\n",
    "print(\"Final Test images:\", len(test_ds))\n",
    "print(\"Total images after filtering:\", len(train_ds) + len(val_ds) + len(test_ds))"
   ]
  },
  {
   "cell_type": "code",
   "execution_count": 6,
   "id": "bc7f78c4",
   "metadata": {
    "execution": {
     "iopub.execute_input": "2025-09-08T04:44:44.890276Z",
     "iopub.status.busy": "2025-09-08T04:44:44.889873Z",
     "iopub.status.idle": "2025-09-08T04:44:44.896936Z",
     "shell.execute_reply": "2025-09-08T04:44:44.896221Z"
    },
    "papermill": {
     "duration": 0.011057,
     "end_time": "2025-09-08T04:44:44.897930",
     "exception": false,
     "start_time": "2025-09-08T04:44:44.886873",
     "status": "completed"
    },
    "tags": []
   },
   "outputs": [
    {
     "name": "stdout",
     "output_type": "stream",
     "text": [
      "Training folders considered: {'original', 'chromatic_aberration', 'lens_flare', 'gaussian_noise', 'dirty_lens', 'blur', 'low_resolution', 'motion_blur'}\n",
      "Validation folders considered: {'original', 'chromatic_aberration', 'lens_flare', 'gaussian_noise', 'dirty_lens', 'blur', 'low_resolution', 'motion_blur'}\n",
      "Test folders considered: {'original', 'chromatic_aberration', 'lens_flare', 'gaussian_noise', 'dirty_lens', 'blur', 'low_resolution', 'motion_blur'}\n"
     ]
    }
   ],
   "source": [
    "ignore_folder = \"random_occlusion\"\n",
    "\n",
    "def get_included_folders(dataset, ignore_folder):\n",
    "    included = set()\n",
    "    for img_path, label in dataset.samples:\n",
    "        # Split the path into parts and ignore if ignore_folder is in the path\n",
    "        if ignore_folder not in img_path.split(\"/\"):\n",
    "            # The folder name just above the image (or the class folder)\n",
    "            folder_name = img_path.split(\"/\")[-2]\n",
    "            included.add(folder_name)\n",
    "    return included\n",
    "\n",
    "train_folders = get_included_folders(train_ds, ignore_folder)\n",
    "val_folders   = get_included_folders(val_ds, ignore_folder)\n",
    "test_folders  = get_included_folders(test_ds, ignore_folder)\n",
    "\n",
    "print(\"Training folders considered:\", train_folders)\n",
    "print(\"Validation folders considered:\", val_folders)\n",
    "print(\"Test folders considered:\", test_folders)"
   ]
  },
  {
   "cell_type": "code",
   "execution_count": 7,
   "id": "4cfb71d5",
   "metadata": {
    "execution": {
     "iopub.execute_input": "2025-09-08T04:44:44.904081Z",
     "iopub.status.busy": "2025-09-08T04:44:44.903880Z",
     "iopub.status.idle": "2025-09-08T04:44:47.698057Z",
     "shell.execute_reply": "2025-09-08T04:44:47.697505Z"
    },
    "papermill": {
     "duration": 2.798884,
     "end_time": "2025-09-08T04:44:47.699327",
     "exception": false,
     "start_time": "2025-09-08T04:44:44.900443",
     "status": "completed"
    },
    "tags": []
   },
   "outputs": [],
   "source": [
    "# -----------------------------\n",
    "# 2. Define InceptionNetV3 Model from Scratch (CORRECTED)\n",
    "# -----------------------------\n",
    "import torch\n",
    "import torch.nn as nn\n",
    "import torch.nn.functional as F\n",
    "import numpy as np\n",
    "import matplotlib.pyplot as plt\n",
    "import seaborn as sns\n",
    "from torchsummary import summary\n",
    "from sklearn.metrics import accuracy_score, classification_report, confusion_matrix\n",
    "import pandas as pd\n",
    "from tqdm import tqdm\n",
    "import time\n",
    "\n",
    "class BasicConv2d(nn.Module):\n",
    "    \"\"\"Basic convolution block: Conv2d + BatchNorm + ReLU\"\"\"\n",
    "    def __init__(self, in_channels, out_channels, kernel_size, stride=1, padding=0):\n",
    "        super().__init__()\n",
    "        self.conv = nn.Conv2d(in_channels, out_channels, kernel_size, \n",
    "                             stride=stride, padding=padding, bias=False)\n",
    "        self.bn = nn.BatchNorm2d(out_channels)\n",
    "        \n",
    "    def forward(self, x):\n",
    "        x = self.conv(x)\n",
    "        x = self.bn(x)\n",
    "        return F.relu(x, inplace=True)\n",
    "\n",
    "class InceptionA(nn.Module):\n",
    "    \"\"\"Inception-A block (35x35 grid)\"\"\"\n",
    "    def __init__(self, in_channels, pool_features):\n",
    "        super().__init__()\n",
    "        # Branch 1: 1x1 conv\n",
    "        self.branch1x1 = BasicConv2d(in_channels, 64, kernel_size=1)\n",
    "        \n",
    "        # Branch 2: 1x1 conv -> 5x5 conv\n",
    "        self.branch5x5_1 = BasicConv2d(in_channels, 48, kernel_size=1)\n",
    "        self.branch5x5_2 = BasicConv2d(48, 64, kernel_size=5, padding=2)\n",
    "        \n",
    "        # Branch 3: 1x1 conv -> 3x3 conv -> 3x3 conv\n",
    "        self.branch3x3dbl_1 = BasicConv2d(in_channels, 64, kernel_size=1)\n",
    "        self.branch3x3dbl_2 = BasicConv2d(64, 96, kernel_size=3, padding=1)\n",
    "        self.branch3x3dbl_3 = BasicConv2d(96, 96, kernel_size=3, padding=1)\n",
    "        \n",
    "        # Branch 4: avg pool -> 1x1 conv\n",
    "        self.branch_pool = BasicConv2d(in_channels, pool_features, kernel_size=1)\n",
    "        \n",
    "    def forward(self, x):\n",
    "        branch1x1 = self.branch1x1(x)\n",
    "        \n",
    "        branch5x5 = self.branch5x5_1(x)\n",
    "        branch5x5 = self.branch5x5_2(branch5x5)\n",
    "        \n",
    "        branch3x3dbl = self.branch3x3dbl_1(x)\n",
    "        branch3x3dbl = self.branch3x3dbl_2(branch3x3dbl)\n",
    "        branch3x3dbl = self.branch3x3dbl_3(branch3x3dbl)\n",
    "        \n",
    "        branch_pool = F.avg_pool2d(x, kernel_size=3, stride=1, padding=1)\n",
    "        branch_pool = self.branch_pool(branch_pool)\n",
    "        \n",
    "        outputs = [branch1x1, branch5x5, branch3x3dbl, branch_pool]\n",
    "        return torch.cat(outputs, 1)\n",
    "\n",
    "class InceptionB(nn.Module):\n",
    "    \"\"\"Inception-B block (17x17 grid)\"\"\"\n",
    "    def __init__(self, in_channels):\n",
    "        super().__init__()\n",
    "        # Branch 1: 1x1 conv\n",
    "        self.branch1x1 = BasicConv2d(in_channels, 192, kernel_size=1)\n",
    "        \n",
    "        # Branch 2: 1x1 conv -> 1x7 conv -> 7x1 conv\n",
    "        self.branch7x7_1 = BasicConv2d(in_channels, 128, kernel_size=1)\n",
    "        self.branch7x7_2 = BasicConv2d(128, 128, kernel_size=(1, 7), padding=(0, 3))\n",
    "        self.branch7x7_3 = BasicConv2d(128, 192, kernel_size=(7, 1), padding=(3, 0))\n",
    "        \n",
    "        # Branch 3: 1x1 conv -> 7x1 conv -> 1x7 conv -> 7x1 conv -> 1x7 conv\n",
    "        self.branch7x7dbl_1 = BasicConv2d(in_channels, 128, kernel_size=1)\n",
    "        self.branch7x7dbl_2 = BasicConv2d(128, 128, kernel_size=(7, 1), padding=(3, 0))\n",
    "        self.branch7x7dbl_3 = BasicConv2d(128, 128, kernel_size=(1, 7), padding=(0, 3))\n",
    "        self.branch7x7dbl_4 = BasicConv2d(128, 128, kernel_size=(7, 1), padding=(3, 0))\n",
    "        self.branch7x7dbl_5 = BasicConv2d(128, 192, kernel_size=(1, 7), padding=(0, 3))\n",
    "        \n",
    "        # Branch 4: avg pool -> 1x1 conv\n",
    "        self.branch_pool = BasicConv2d(in_channels, 192, kernel_size=1)\n",
    "        \n",
    "    def forward(self, x):\n",
    "        branch1x1 = self.branch1x1(x)\n",
    "        \n",
    "        branch7x7 = self.branch7x7_1(x)\n",
    "        branch7x7 = self.branch7x7_2(branch7x7)\n",
    "        branch7x7 = self.branch7x7_3(branch7x7)\n",
    "        \n",
    "        branch7x7dbl = self.branch7x7dbl_1(x)\n",
    "        branch7x7dbl = self.branch7x7dbl_2(branch7x7dbl)\n",
    "        branch7x7dbl = self.branch7x7dbl_3(branch7x7dbl)\n",
    "        branch7x7dbl = self.branch7x7dbl_4(branch7x7dbl)\n",
    "        branch7x7dbl = self.branch7x7dbl_5(branch7x7dbl)\n",
    "        \n",
    "        branch_pool = F.avg_pool2d(x, kernel_size=3, stride=1, padding=1)\n",
    "        branch_pool = self.branch_pool(branch_pool)\n",
    "        \n",
    "        outputs = [branch1x1, branch7x7, branch7x7dbl, branch_pool]\n",
    "        return torch.cat(outputs, 1)\n",
    "\n",
    "class InceptionC(nn.Module):\n",
    "    \"\"\"Inception-C block (8x8 grid)\"\"\"\n",
    "    def __init__(self, in_channels):\n",
    "        super().__init__()\n",
    "        # Branch 1: 1x1 conv\n",
    "        self.branch1x1 = BasicConv2d(in_channels, 320, kernel_size=1)\n",
    "        \n",
    "        # Branch 2: 1x1 conv -> split into 1x3 and 3x1 convs\n",
    "        self.branch3x3_1 = BasicConv2d(in_channels, 384, kernel_size=1)\n",
    "        self.branch3x3_2a = BasicConv2d(384, 384, kernel_size=(1, 3), padding=(0, 1))\n",
    "        self.branch3x3_2b = BasicConv2d(384, 384, kernel_size=(3, 1), padding=(1, 0))\n",
    "        \n",
    "        # Branch 3: 1x1 conv -> 3x3 conv -> split into 1x3 and 3x1 convs\n",
    "        self.branch3x3dbl_1 = BasicConv2d(in_channels, 448, kernel_size=1)\n",
    "        self.branch3x3dbl_2 = BasicConv2d(448, 384, kernel_size=3, padding=1)\n",
    "        self.branch3x3dbl_3a = BasicConv2d(384, 384, kernel_size=(1, 3), padding=(0, 1))\n",
    "        self.branch3x3dbl_3b = BasicConv2d(384, 384, kernel_size=(3, 1), padding=(1, 0))\n",
    "        \n",
    "        # Branch 4: avg pool -> 1x1 conv\n",
    "        self.branch_pool = BasicConv2d(in_channels, 192, kernel_size=1)\n",
    "        \n",
    "    def forward(self, x):\n",
    "        branch1x1 = self.branch1x1(x)\n",
    "        \n",
    "        branch3x3 = self.branch3x3_1(x)\n",
    "        branch3x3 = [\n",
    "            self.branch3x3_2a(branch3x3),\n",
    "            self.branch3x3_2b(branch3x3),\n",
    "        ]\n",
    "        branch3x3 = torch.cat(branch3x3, 1)\n",
    "        \n",
    "        branch3x3dbl = self.branch3x3dbl_1(x)\n",
    "        branch3x3dbl = self.branch3x3dbl_2(branch3x3dbl)\n",
    "        branch3x3dbl = [\n",
    "            self.branch3x3dbl_3a(branch3x3dbl),\n",
    "            self.branch3x3dbl_3b(branch3x3dbl),\n",
    "        ]\n",
    "        branch3x3dbl = torch.cat(branch3x3dbl, 1)\n",
    "        \n",
    "        branch_pool = F.avg_pool2d(x, kernel_size=3, stride=1, padding=1)\n",
    "        branch_pool = self.branch_pool(branch_pool)\n",
    "        \n",
    "        outputs = [branch1x1, branch3x3, branch3x3dbl, branch_pool]\n",
    "        return torch.cat(outputs, 1)\n",
    "\n",
    "class ReductionA(nn.Module):\n",
    "    \"\"\"Reduction A block (35x35 to 17x17)\"\"\"\n",
    "    def __init__(self, in_channels):\n",
    "        super().__init__()\n",
    "        self.branch3x3 = BasicConv2d(in_channels, 384, kernel_size=3, stride=2)\n",
    "        self.branch3x3dbl_1 = BasicConv2d(in_channels, 64, kernel_size=1)\n",
    "        self.branch3x3dbl_2 = BasicConv2d(64, 96, kernel_size=3, padding=1)\n",
    "        self.branch3x3dbl_3 = BasicConv2d(96, 96, kernel_size=3, stride=2)\n",
    "\n",
    "    def forward(self, x):\n",
    "        branch3x3 = self.branch3x3(x)\n",
    "        \n",
    "        branch3x3dbl = self.branch3x3dbl_1(x)\n",
    "        branch3x3dbl = self.branch3x3dbl_2(branch3x3dbl)\n",
    "        branch3x3dbl = self.branch3x3dbl_3(branch3x3dbl)\n",
    "        \n",
    "        branch_pool = F.max_pool2d(x, kernel_size=3, stride=2)\n",
    "        \n",
    "        outputs = [branch3x3, branch3x3dbl, branch_pool]\n",
    "        return torch.cat(outputs, 1)\n",
    "\n",
    "class ReductionB(nn.Module):\n",
    "    \"\"\"Reduction B block (17x17 to 8x8)\"\"\"\n",
    "    def __init__(self, in_channels):\n",
    "        super().__init__()\n",
    "        self.branch3x3_1 = BasicConv2d(in_channels, 192, kernel_size=1)\n",
    "        self.branch3x3_2 = BasicConv2d(192, 320, kernel_size=3, stride=2)\n",
    "        self.branch7x7x3_1 = BasicConv2d(in_channels, 192, kernel_size=1)\n",
    "        self.branch7x7x3_2 = BasicConv2d(192, 192, kernel_size=(1, 7), padding=(0, 3))\n",
    "        self.branch7x7x3_3 = BasicConv2d(192, 192, kernel_size=(7, 1), padding=(3, 0))\n",
    "        self.branch7x7x3_4 = BasicConv2d(192, 192, kernel_size=3, stride=2)\n",
    "\n",
    "    def forward(self, x):\n",
    "        branch3x3 = self.branch3x3_1(x)\n",
    "        branch3x3 = self.branch3x3_2(branch3x3)\n",
    "        \n",
    "        branch7x7x3 = self.branch7x7x3_1(x)\n",
    "        branch7x7x3 = self.branch7x7x3_2(branch7x7x3)\n",
    "        branch7x7x3 = self.branch7x7x3_3(branch7x7x3)\n",
    "        branch7x7x3 = self.branch7x7x3_4(branch7x7x3)\n",
    "        \n",
    "        branch_pool = F.max_pool2d(x, kernel_size=3, stride=2)\n",
    "        \n",
    "        outputs = [branch3x3, branch7x7x3, branch_pool]\n",
    "        return torch.cat(outputs, 1)\n",
    "\n",
    "class InceptionAux(nn.Module):\n",
    "    \"\"\"Auxiliary classifier for InceptionV3\"\"\"\n",
    "    def __init__(self, in_channels, num_classes):\n",
    "        super().__init__()\n",
    "        self.conv0 = BasicConv2d(in_channels, 128, kernel_size=1)\n",
    "        self.conv1 = BasicConv2d(128, 768, kernel_size=5)\n",
    "        self.fc = nn.Linear(768, num_classes)\n",
    "        \n",
    "    def forward(self, x):\n",
    "        # N x 768 x 17 x 17\n",
    "        x = F.avg_pool2d(x, kernel_size=5, stride=3)\n",
    "        # N x 768 x 5 x 5\n",
    "        x = self.conv0(x)\n",
    "        # N x 128 x 5 x 5\n",
    "        x = self.conv1(x)\n",
    "        # N x 768 x 1 x 1\n",
    "        x = F.adaptive_avg_pool2d(x, (1, 1))\n",
    "        # N x 768 x 1 x 1\n",
    "        x = torch.flatten(x, 1)\n",
    "        # N x 768\n",
    "        x = self.fc(x)\n",
    "        # N x num_classes\n",
    "        return x\n",
    "\n",
    "class MyInceptionNetV3(nn.Module):\n",
    "    \"\"\"InceptionNetV3 Implementation from Scratch\"\"\"\n",
    "    def __init__(self, num_classes=4, aux_logits=True, transform_input=False):\n",
    "        super().__init__()\n",
    "        self.aux_logits = aux_logits\n",
    "        self.transform_input = transform_input\n",
    "        \n",
    "        # Initial convolution layers\n",
    "        self.Conv2d_1a_3x3 = BasicConv2d(3, 32, kernel_size=3, stride=2)\n",
    "        self.Conv2d_2a_3x3 = BasicConv2d(32, 32, kernel_size=3)\n",
    "        self.Conv2d_2b_3x3 = BasicConv2d(32, 64, kernel_size=3, padding=1)\n",
    "        self.maxpool1 = nn.MaxPool2d(kernel_size=3, stride=2)\n",
    "        \n",
    "        self.Conv2d_3b_1x1 = BasicConv2d(64, 80, kernel_size=1)\n",
    "        self.Conv2d_4a_3x3 = BasicConv2d(80, 192, kernel_size=3)\n",
    "        self.maxpool2 = nn.MaxPool2d(kernel_size=3, stride=2)\n",
    "        \n",
    "        # Inception blocks\n",
    "        self.Mixed_5b = InceptionA(192, pool_features=32)\n",
    "        self.Mixed_5c = InceptionA(256, pool_features=64)\n",
    "        self.Mixed_5d = InceptionA(288, pool_features=64)\n",
    "        \n",
    "        # Reduction A (CORRECTED)\n",
    "        self.Mixed_6a = ReductionA(288)\n",
    "        \n",
    "        self.Mixed_6b = InceptionB(768)\n",
    "        self.Mixed_6c = InceptionB(768)\n",
    "        self.Mixed_6d = InceptionB(768)\n",
    "        self.Mixed_6e = InceptionB(768)\n",
    "        \n",
    "        # Auxiliary classifier\n",
    "        if aux_logits:\n",
    "            self.AuxLogits = InceptionAux(768, num_classes)\n",
    "        \n",
    "        # Reduction B (CORRECTED)\n",
    "        self.Mixed_7a = ReductionB(768)\n",
    "        \n",
    "        self.Mixed_7b = InceptionC(1280)\n",
    "        self.Mixed_7c = InceptionC(2048)\n",
    "        \n",
    "        # Final layers\n",
    "        self.avgpool = nn.AdaptiveAvgPool2d((1, 1))\n",
    "        self.dropout = nn.Dropout(0.5)\n",
    "        self.fc = nn.Linear(2048, num_classes)\n",
    "        \n",
    "        # Initialize weights\n",
    "        self._initialize_weights()\n",
    "    \n",
    "    def _initialize_weights(self):\n",
    "        \"\"\"Initialize weights using appropriate methods\"\"\"\n",
    "        for m in self.modules():\n",
    "            if isinstance(m, nn.Conv2d):\n",
    "                nn.init.kaiming_normal_(m.weight, mode='fan_out', nonlinearity='relu')\n",
    "            elif isinstance(m, nn.BatchNorm2d):\n",
    "                nn.init.constant_(m.weight, 1)\n",
    "                nn.init.constant_(m.bias, 0)\n",
    "            elif isinstance(m, nn.Linear):\n",
    "                nn.init.normal_(m.weight, 0, 0.01)\n",
    "                nn.init.constant_(m.bias, 0)\n",
    "    \n",
    "    def forward(self, x):\n",
    "        if self.transform_input:\n",
    "            x_ch0 = torch.unsqueeze(x[:, 0], 1) * (0.229 / 0.5) + (0.485 - 0.5) / 0.5\n",
    "            x_ch1 = torch.unsqueeze(x[:, 1], 1) * (0.224 / 0.5) + (0.456 - 0.5) / 0.5\n",
    "            x_ch2 = torch.unsqueeze(x[:, 2], 1) * (0.225 / 0.5) + (0.406 - 0.5) / 0.5\n",
    "            x = torch.cat((x_ch0, x_ch1, x_ch2), 1)\n",
    "        \n",
    "        # N x 3 x 299 x 299\n",
    "        x = self.Conv2d_1a_3x3(x)\n",
    "        # N x 32 x 149 x 149\n",
    "        x = self.Conv2d_2a_3x3(x)\n",
    "        # N x 32 x 147 x 147\n",
    "        x = self.Conv2d_2b_3x3(x)\n",
    "        # N x 64 x 147 x 147\n",
    "        x = self.maxpool1(x)\n",
    "        # N x 64 x 73 x 73\n",
    "        x = self.Conv2d_3b_1x1(x)\n",
    "        # N x 80 x 73 x 73\n",
    "        x = self.Conv2d_4a_3x3(x)\n",
    "        # N x 192 x 71 x 71\n",
    "        x = self.maxpool2(x)\n",
    "        # N x 192 x 35 x 35\n",
    "        x = self.Mixed_5b(x)\n",
    "        # N x 256 x 35 x 35\n",
    "        x = self.Mixed_5c(x)\n",
    "        # N x 288 x 35 x 35\n",
    "        x = self.Mixed_5d(x)\n",
    "        # N x 288 x 35 x 35\n",
    "        x = self.Mixed_6a(x)\n",
    "        # N x 768 x 17 x 17\n",
    "        x = self.Mixed_6b(x)\n",
    "        # N x 768 x 17 x 17\n",
    "        x = self.Mixed_6c(x)\n",
    "        # N x 768 x 17 x 17\n",
    "        x = self.Mixed_6d(x)\n",
    "        # N x 768 x 17 x 17\n",
    "        x = self.Mixed_6e(x)\n",
    "        # N x 768 x 17 x 17\n",
    "        \n",
    "        aux_logits = None\n",
    "        if self.aux_logits and self.training:\n",
    "            aux_logits = self.AuxLogits(x)\n",
    "        \n",
    "        # N x 768 x 17 x 17\n",
    "        x = self.Mixed_7a(x)\n",
    "        # N x 1280 x 8 x 8\n",
    "        x = self.Mixed_7b(x)\n",
    "        # N x 2048 x 8 x 8\n",
    "        x = self.Mixed_7c(x)\n",
    "        # N x 2048 x 8 x 8\n",
    "        x = self.avgpool(x)\n",
    "        # N x 2048 x 1 x 1\n",
    "        x = self.dropout(x)\n",
    "        # N x 2048 x 1 x 1\n",
    "        x = torch.flatten(x, 1)\n",
    "        # N x 2048\n",
    "        x = self.fc(x)\n",
    "        # N x num_classes\n",
    "        \n",
    "        if self.aux_logits and self.training:\n",
    "            return x, aux_logits\n",
    "        return x"
   ]
  },
  {
   "cell_type": "code",
   "execution_count": 8,
   "id": "9e1ccdc1",
   "metadata": {
    "execution": {
     "iopub.execute_input": "2025-09-08T04:44:47.706177Z",
     "iopub.status.busy": "2025-09-08T04:44:47.705662Z",
     "iopub.status.idle": "2025-09-08T04:44:49.305935Z",
     "shell.execute_reply": "2025-09-08T04:44:49.305155Z"
    },
    "papermill": {
     "duration": 1.605624,
     "end_time": "2025-09-08T04:44:49.307979",
     "exception": false,
     "start_time": "2025-09-08T04:44:47.702355",
     "status": "completed"
    },
    "tags": []
   },
   "outputs": [
    {
     "name": "stdout",
     "output_type": "stream",
     "text": [
      "InceptionNetV3 Model Summary:\n",
      "----------------------------------------------------------------\n",
      "        Layer (type)               Output Shape         Param #\n",
      "================================================================\n",
      "            Conv2d-1         [-1, 32, 149, 149]             864\n",
      "       BatchNorm2d-2         [-1, 32, 149, 149]              64\n",
      "       BasicConv2d-3         [-1, 32, 149, 149]               0\n",
      "            Conv2d-4         [-1, 32, 147, 147]           9,216\n",
      "       BatchNorm2d-5         [-1, 32, 147, 147]              64\n",
      "       BasicConv2d-6         [-1, 32, 147, 147]               0\n",
      "            Conv2d-7         [-1, 64, 147, 147]          18,432\n",
      "       BatchNorm2d-8         [-1, 64, 147, 147]             128\n",
      "       BasicConv2d-9         [-1, 64, 147, 147]               0\n",
      "        MaxPool2d-10           [-1, 64, 73, 73]               0\n",
      "           Conv2d-11           [-1, 80, 73, 73]           5,120\n",
      "      BatchNorm2d-12           [-1, 80, 73, 73]             160\n",
      "      BasicConv2d-13           [-1, 80, 73, 73]               0\n",
      "           Conv2d-14          [-1, 192, 71, 71]         138,240\n",
      "      BatchNorm2d-15          [-1, 192, 71, 71]             384\n",
      "      BasicConv2d-16          [-1, 192, 71, 71]               0\n",
      "        MaxPool2d-17          [-1, 192, 35, 35]               0\n",
      "           Conv2d-18           [-1, 64, 35, 35]          12,288\n",
      "      BatchNorm2d-19           [-1, 64, 35, 35]             128\n",
      "      BasicConv2d-20           [-1, 64, 35, 35]               0\n",
      "           Conv2d-21           [-1, 48, 35, 35]           9,216\n",
      "      BatchNorm2d-22           [-1, 48, 35, 35]              96\n",
      "      BasicConv2d-23           [-1, 48, 35, 35]               0\n",
      "           Conv2d-24           [-1, 64, 35, 35]          76,800\n",
      "      BatchNorm2d-25           [-1, 64, 35, 35]             128\n",
      "      BasicConv2d-26           [-1, 64, 35, 35]               0\n",
      "           Conv2d-27           [-1, 64, 35, 35]          12,288\n",
      "      BatchNorm2d-28           [-1, 64, 35, 35]             128\n",
      "      BasicConv2d-29           [-1, 64, 35, 35]               0\n",
      "           Conv2d-30           [-1, 96, 35, 35]          55,296\n",
      "      BatchNorm2d-31           [-1, 96, 35, 35]             192\n",
      "      BasicConv2d-32           [-1, 96, 35, 35]               0\n",
      "           Conv2d-33           [-1, 96, 35, 35]          82,944\n",
      "      BatchNorm2d-34           [-1, 96, 35, 35]             192\n",
      "      BasicConv2d-35           [-1, 96, 35, 35]               0\n",
      "           Conv2d-36           [-1, 32, 35, 35]           6,144\n",
      "      BatchNorm2d-37           [-1, 32, 35, 35]              64\n",
      "      BasicConv2d-38           [-1, 32, 35, 35]               0\n",
      "       InceptionA-39          [-1, 256, 35, 35]               0\n",
      "           Conv2d-40           [-1, 64, 35, 35]          16,384\n",
      "      BatchNorm2d-41           [-1, 64, 35, 35]             128\n",
      "      BasicConv2d-42           [-1, 64, 35, 35]               0\n",
      "           Conv2d-43           [-1, 48, 35, 35]          12,288\n",
      "      BatchNorm2d-44           [-1, 48, 35, 35]              96\n",
      "      BasicConv2d-45           [-1, 48, 35, 35]               0\n",
      "           Conv2d-46           [-1, 64, 35, 35]          76,800\n",
      "      BatchNorm2d-47           [-1, 64, 35, 35]             128\n",
      "      BasicConv2d-48           [-1, 64, 35, 35]               0\n",
      "           Conv2d-49           [-1, 64, 35, 35]          16,384\n",
      "      BatchNorm2d-50           [-1, 64, 35, 35]             128\n",
      "      BasicConv2d-51           [-1, 64, 35, 35]               0\n",
      "           Conv2d-52           [-1, 96, 35, 35]          55,296\n",
      "      BatchNorm2d-53           [-1, 96, 35, 35]             192\n",
      "      BasicConv2d-54           [-1, 96, 35, 35]               0\n",
      "           Conv2d-55           [-1, 96, 35, 35]          82,944\n",
      "      BatchNorm2d-56           [-1, 96, 35, 35]             192\n",
      "      BasicConv2d-57           [-1, 96, 35, 35]               0\n",
      "           Conv2d-58           [-1, 64, 35, 35]          16,384\n",
      "      BatchNorm2d-59           [-1, 64, 35, 35]             128\n",
      "      BasicConv2d-60           [-1, 64, 35, 35]               0\n",
      "       InceptionA-61          [-1, 288, 35, 35]               0\n",
      "           Conv2d-62           [-1, 64, 35, 35]          18,432\n",
      "      BatchNorm2d-63           [-1, 64, 35, 35]             128\n",
      "      BasicConv2d-64           [-1, 64, 35, 35]               0\n",
      "           Conv2d-65           [-1, 48, 35, 35]          13,824\n",
      "      BatchNorm2d-66           [-1, 48, 35, 35]              96\n",
      "      BasicConv2d-67           [-1, 48, 35, 35]               0\n",
      "           Conv2d-68           [-1, 64, 35, 35]          76,800\n",
      "      BatchNorm2d-69           [-1, 64, 35, 35]             128\n",
      "      BasicConv2d-70           [-1, 64, 35, 35]               0\n",
      "           Conv2d-71           [-1, 64, 35, 35]          18,432\n",
      "      BatchNorm2d-72           [-1, 64, 35, 35]             128\n",
      "      BasicConv2d-73           [-1, 64, 35, 35]               0\n",
      "           Conv2d-74           [-1, 96, 35, 35]          55,296\n",
      "      BatchNorm2d-75           [-1, 96, 35, 35]             192\n",
      "      BasicConv2d-76           [-1, 96, 35, 35]               0\n",
      "           Conv2d-77           [-1, 96, 35, 35]          82,944\n",
      "      BatchNorm2d-78           [-1, 96, 35, 35]             192\n",
      "      BasicConv2d-79           [-1, 96, 35, 35]               0\n",
      "           Conv2d-80           [-1, 64, 35, 35]          18,432\n",
      "      BatchNorm2d-81           [-1, 64, 35, 35]             128\n",
      "      BasicConv2d-82           [-1, 64, 35, 35]               0\n",
      "       InceptionA-83          [-1, 288, 35, 35]               0\n",
      "           Conv2d-84          [-1, 384, 17, 17]         995,328\n",
      "      BatchNorm2d-85          [-1, 384, 17, 17]             768\n",
      "      BasicConv2d-86          [-1, 384, 17, 17]               0\n",
      "           Conv2d-87           [-1, 64, 35, 35]          18,432\n",
      "      BatchNorm2d-88           [-1, 64, 35, 35]             128\n",
      "      BasicConv2d-89           [-1, 64, 35, 35]               0\n",
      "           Conv2d-90           [-1, 96, 35, 35]          55,296\n",
      "      BatchNorm2d-91           [-1, 96, 35, 35]             192\n",
      "      BasicConv2d-92           [-1, 96, 35, 35]               0\n",
      "           Conv2d-93           [-1, 96, 17, 17]          82,944\n",
      "      BatchNorm2d-94           [-1, 96, 17, 17]             192\n",
      "      BasicConv2d-95           [-1, 96, 17, 17]               0\n",
      "       ReductionA-96          [-1, 768, 17, 17]               0\n",
      "           Conv2d-97          [-1, 192, 17, 17]         147,456\n",
      "      BatchNorm2d-98          [-1, 192, 17, 17]             384\n",
      "      BasicConv2d-99          [-1, 192, 17, 17]               0\n",
      "          Conv2d-100          [-1, 128, 17, 17]          98,304\n",
      "     BatchNorm2d-101          [-1, 128, 17, 17]             256\n",
      "     BasicConv2d-102          [-1, 128, 17, 17]               0\n",
      "          Conv2d-103          [-1, 128, 17, 17]         114,688\n",
      "     BatchNorm2d-104          [-1, 128, 17, 17]             256\n",
      "     BasicConv2d-105          [-1, 128, 17, 17]               0\n",
      "          Conv2d-106          [-1, 192, 17, 17]         172,032\n",
      "     BatchNorm2d-107          [-1, 192, 17, 17]             384\n",
      "     BasicConv2d-108          [-1, 192, 17, 17]               0\n",
      "          Conv2d-109          [-1, 128, 17, 17]          98,304\n",
      "     BatchNorm2d-110          [-1, 128, 17, 17]             256\n",
      "     BasicConv2d-111          [-1, 128, 17, 17]               0\n",
      "          Conv2d-112          [-1, 128, 17, 17]         114,688\n",
      "     BatchNorm2d-113          [-1, 128, 17, 17]             256\n",
      "     BasicConv2d-114          [-1, 128, 17, 17]               0\n",
      "          Conv2d-115          [-1, 128, 17, 17]         114,688\n",
      "     BatchNorm2d-116          [-1, 128, 17, 17]             256\n",
      "     BasicConv2d-117          [-1, 128, 17, 17]               0\n",
      "          Conv2d-118          [-1, 128, 17, 17]         114,688\n",
      "     BatchNorm2d-119          [-1, 128, 17, 17]             256\n",
      "     BasicConv2d-120          [-1, 128, 17, 17]               0\n",
      "          Conv2d-121          [-1, 192, 17, 17]         172,032\n",
      "     BatchNorm2d-122          [-1, 192, 17, 17]             384\n",
      "     BasicConv2d-123          [-1, 192, 17, 17]               0\n",
      "          Conv2d-124          [-1, 192, 17, 17]         147,456\n",
      "     BatchNorm2d-125          [-1, 192, 17, 17]             384\n",
      "     BasicConv2d-126          [-1, 192, 17, 17]               0\n",
      "      InceptionB-127          [-1, 768, 17, 17]               0\n",
      "          Conv2d-128          [-1, 192, 17, 17]         147,456\n",
      "     BatchNorm2d-129          [-1, 192, 17, 17]             384\n",
      "     BasicConv2d-130          [-1, 192, 17, 17]               0\n",
      "          Conv2d-131          [-1, 128, 17, 17]          98,304\n",
      "     BatchNorm2d-132          [-1, 128, 17, 17]             256\n",
      "     BasicConv2d-133          [-1, 128, 17, 17]               0\n",
      "          Conv2d-134          [-1, 128, 17, 17]         114,688\n",
      "     BatchNorm2d-135          [-1, 128, 17, 17]             256\n",
      "     BasicConv2d-136          [-1, 128, 17, 17]               0\n",
      "          Conv2d-137          [-1, 192, 17, 17]         172,032\n",
      "     BatchNorm2d-138          [-1, 192, 17, 17]             384\n",
      "     BasicConv2d-139          [-1, 192, 17, 17]               0\n",
      "          Conv2d-140          [-1, 128, 17, 17]          98,304\n",
      "     BatchNorm2d-141          [-1, 128, 17, 17]             256\n",
      "     BasicConv2d-142          [-1, 128, 17, 17]               0\n",
      "          Conv2d-143          [-1, 128, 17, 17]         114,688\n",
      "     BatchNorm2d-144          [-1, 128, 17, 17]             256\n",
      "     BasicConv2d-145          [-1, 128, 17, 17]               0\n",
      "          Conv2d-146          [-1, 128, 17, 17]         114,688\n",
      "     BatchNorm2d-147          [-1, 128, 17, 17]             256\n",
      "     BasicConv2d-148          [-1, 128, 17, 17]               0\n",
      "          Conv2d-149          [-1, 128, 17, 17]         114,688\n",
      "     BatchNorm2d-150          [-1, 128, 17, 17]             256\n",
      "     BasicConv2d-151          [-1, 128, 17, 17]               0\n",
      "          Conv2d-152          [-1, 192, 17, 17]         172,032\n",
      "     BatchNorm2d-153          [-1, 192, 17, 17]             384\n",
      "     BasicConv2d-154          [-1, 192, 17, 17]               0\n",
      "          Conv2d-155          [-1, 192, 17, 17]         147,456\n",
      "     BatchNorm2d-156          [-1, 192, 17, 17]             384\n",
      "     BasicConv2d-157          [-1, 192, 17, 17]               0\n",
      "      InceptionB-158          [-1, 768, 17, 17]               0\n",
      "          Conv2d-159          [-1, 192, 17, 17]         147,456\n",
      "     BatchNorm2d-160          [-1, 192, 17, 17]             384\n",
      "     BasicConv2d-161          [-1, 192, 17, 17]               0\n",
      "          Conv2d-162          [-1, 128, 17, 17]          98,304\n",
      "     BatchNorm2d-163          [-1, 128, 17, 17]             256\n",
      "     BasicConv2d-164          [-1, 128, 17, 17]               0\n",
      "          Conv2d-165          [-1, 128, 17, 17]         114,688\n",
      "     BatchNorm2d-166          [-1, 128, 17, 17]             256\n",
      "     BasicConv2d-167          [-1, 128, 17, 17]               0\n",
      "          Conv2d-168          [-1, 192, 17, 17]         172,032\n",
      "     BatchNorm2d-169          [-1, 192, 17, 17]             384\n",
      "     BasicConv2d-170          [-1, 192, 17, 17]               0\n",
      "          Conv2d-171          [-1, 128, 17, 17]          98,304\n",
      "     BatchNorm2d-172          [-1, 128, 17, 17]             256\n",
      "     BasicConv2d-173          [-1, 128, 17, 17]               0\n",
      "          Conv2d-174          [-1, 128, 17, 17]         114,688\n",
      "     BatchNorm2d-175          [-1, 128, 17, 17]             256\n",
      "     BasicConv2d-176          [-1, 128, 17, 17]               0\n",
      "          Conv2d-177          [-1, 128, 17, 17]         114,688\n",
      "     BatchNorm2d-178          [-1, 128, 17, 17]             256\n",
      "     BasicConv2d-179          [-1, 128, 17, 17]               0\n",
      "          Conv2d-180          [-1, 128, 17, 17]         114,688\n",
      "     BatchNorm2d-181          [-1, 128, 17, 17]             256\n",
      "     BasicConv2d-182          [-1, 128, 17, 17]               0\n",
      "          Conv2d-183          [-1, 192, 17, 17]         172,032\n",
      "     BatchNorm2d-184          [-1, 192, 17, 17]             384\n",
      "     BasicConv2d-185          [-1, 192, 17, 17]               0\n",
      "          Conv2d-186          [-1, 192, 17, 17]         147,456\n",
      "     BatchNorm2d-187          [-1, 192, 17, 17]             384\n",
      "     BasicConv2d-188          [-1, 192, 17, 17]               0\n",
      "      InceptionB-189          [-1, 768, 17, 17]               0\n",
      "          Conv2d-190          [-1, 192, 17, 17]         147,456\n",
      "     BatchNorm2d-191          [-1, 192, 17, 17]             384\n",
      "     BasicConv2d-192          [-1, 192, 17, 17]               0\n",
      "          Conv2d-193          [-1, 128, 17, 17]          98,304\n",
      "     BatchNorm2d-194          [-1, 128, 17, 17]             256\n",
      "     BasicConv2d-195          [-1, 128, 17, 17]               0\n",
      "          Conv2d-196          [-1, 128, 17, 17]         114,688\n",
      "     BatchNorm2d-197          [-1, 128, 17, 17]             256\n",
      "     BasicConv2d-198          [-1, 128, 17, 17]               0\n",
      "          Conv2d-199          [-1, 192, 17, 17]         172,032\n",
      "     BatchNorm2d-200          [-1, 192, 17, 17]             384\n",
      "     BasicConv2d-201          [-1, 192, 17, 17]               0\n",
      "          Conv2d-202          [-1, 128, 17, 17]          98,304\n",
      "     BatchNorm2d-203          [-1, 128, 17, 17]             256\n",
      "     BasicConv2d-204          [-1, 128, 17, 17]               0\n",
      "          Conv2d-205          [-1, 128, 17, 17]         114,688\n",
      "     BatchNorm2d-206          [-1, 128, 17, 17]             256\n",
      "     BasicConv2d-207          [-1, 128, 17, 17]               0\n",
      "          Conv2d-208          [-1, 128, 17, 17]         114,688\n",
      "     BatchNorm2d-209          [-1, 128, 17, 17]             256\n",
      "     BasicConv2d-210          [-1, 128, 17, 17]               0\n",
      "          Conv2d-211          [-1, 128, 17, 17]         114,688\n",
      "     BatchNorm2d-212          [-1, 128, 17, 17]             256\n",
      "     BasicConv2d-213          [-1, 128, 17, 17]               0\n",
      "          Conv2d-214          [-1, 192, 17, 17]         172,032\n",
      "     BatchNorm2d-215          [-1, 192, 17, 17]             384\n",
      "     BasicConv2d-216          [-1, 192, 17, 17]               0\n",
      "          Conv2d-217          [-1, 192, 17, 17]         147,456\n",
      "     BatchNorm2d-218          [-1, 192, 17, 17]             384\n",
      "     BasicConv2d-219          [-1, 192, 17, 17]               0\n",
      "      InceptionB-220          [-1, 768, 17, 17]               0\n",
      "          Conv2d-221            [-1, 128, 5, 5]          98,304\n",
      "     BatchNorm2d-222            [-1, 128, 5, 5]             256\n",
      "     BasicConv2d-223            [-1, 128, 5, 5]               0\n",
      "          Conv2d-224            [-1, 768, 1, 1]       2,457,600\n",
      "     BatchNorm2d-225            [-1, 768, 1, 1]           1,536\n",
      "     BasicConv2d-226            [-1, 768, 1, 1]               0\n",
      "          Linear-227                    [-1, 2]           1,538\n",
      "    InceptionAux-228                    [-1, 2]               0\n",
      "          Conv2d-229          [-1, 192, 17, 17]         147,456\n",
      "     BatchNorm2d-230          [-1, 192, 17, 17]             384\n",
      "     BasicConv2d-231          [-1, 192, 17, 17]               0\n",
      "          Conv2d-232            [-1, 320, 8, 8]         552,960\n",
      "     BatchNorm2d-233            [-1, 320, 8, 8]             640\n",
      "     BasicConv2d-234            [-1, 320, 8, 8]               0\n",
      "          Conv2d-235          [-1, 192, 17, 17]         147,456\n",
      "     BatchNorm2d-236          [-1, 192, 17, 17]             384\n",
      "     BasicConv2d-237          [-1, 192, 17, 17]               0\n",
      "          Conv2d-238          [-1, 192, 17, 17]         258,048\n",
      "     BatchNorm2d-239          [-1, 192, 17, 17]             384\n",
      "     BasicConv2d-240          [-1, 192, 17, 17]               0\n",
      "          Conv2d-241          [-1, 192, 17, 17]         258,048\n",
      "     BatchNorm2d-242          [-1, 192, 17, 17]             384\n",
      "     BasicConv2d-243          [-1, 192, 17, 17]               0\n",
      "          Conv2d-244            [-1, 192, 8, 8]         331,776\n",
      "     BatchNorm2d-245            [-1, 192, 8, 8]             384\n",
      "     BasicConv2d-246            [-1, 192, 8, 8]               0\n",
      "      ReductionB-247           [-1, 1280, 8, 8]               0\n",
      "          Conv2d-248            [-1, 320, 8, 8]         409,600\n",
      "     BatchNorm2d-249            [-1, 320, 8, 8]             640\n",
      "     BasicConv2d-250            [-1, 320, 8, 8]               0\n",
      "          Conv2d-251            [-1, 384, 8, 8]         491,520\n",
      "     BatchNorm2d-252            [-1, 384, 8, 8]             768\n",
      "     BasicConv2d-253            [-1, 384, 8, 8]               0\n",
      "          Conv2d-254            [-1, 384, 8, 8]         442,368\n",
      "     BatchNorm2d-255            [-1, 384, 8, 8]             768\n",
      "     BasicConv2d-256            [-1, 384, 8, 8]               0\n",
      "          Conv2d-257            [-1, 384, 8, 8]         442,368\n",
      "     BatchNorm2d-258            [-1, 384, 8, 8]             768\n",
      "     BasicConv2d-259            [-1, 384, 8, 8]               0\n",
      "          Conv2d-260            [-1, 448, 8, 8]         573,440\n",
      "     BatchNorm2d-261            [-1, 448, 8, 8]             896\n",
      "     BasicConv2d-262            [-1, 448, 8, 8]               0\n",
      "          Conv2d-263            [-1, 384, 8, 8]       1,548,288\n",
      "     BatchNorm2d-264            [-1, 384, 8, 8]             768\n",
      "     BasicConv2d-265            [-1, 384, 8, 8]               0\n",
      "          Conv2d-266            [-1, 384, 8, 8]         442,368\n",
      "     BatchNorm2d-267            [-1, 384, 8, 8]             768\n",
      "     BasicConv2d-268            [-1, 384, 8, 8]               0\n",
      "          Conv2d-269            [-1, 384, 8, 8]         442,368\n",
      "     BatchNorm2d-270            [-1, 384, 8, 8]             768\n",
      "     BasicConv2d-271            [-1, 384, 8, 8]               0\n",
      "          Conv2d-272            [-1, 192, 8, 8]         245,760\n",
      "     BatchNorm2d-273            [-1, 192, 8, 8]             384\n",
      "     BasicConv2d-274            [-1, 192, 8, 8]               0\n",
      "      InceptionC-275           [-1, 2048, 8, 8]               0\n",
      "          Conv2d-276            [-1, 320, 8, 8]         655,360\n",
      "     BatchNorm2d-277            [-1, 320, 8, 8]             640\n",
      "     BasicConv2d-278            [-1, 320, 8, 8]               0\n",
      "          Conv2d-279            [-1, 384, 8, 8]         786,432\n",
      "     BatchNorm2d-280            [-1, 384, 8, 8]             768\n",
      "     BasicConv2d-281            [-1, 384, 8, 8]               0\n",
      "          Conv2d-282            [-1, 384, 8, 8]         442,368\n",
      "     BatchNorm2d-283            [-1, 384, 8, 8]             768\n",
      "     BasicConv2d-284            [-1, 384, 8, 8]               0\n",
      "          Conv2d-285            [-1, 384, 8, 8]         442,368\n",
      "     BatchNorm2d-286            [-1, 384, 8, 8]             768\n",
      "     BasicConv2d-287            [-1, 384, 8, 8]               0\n",
      "          Conv2d-288            [-1, 448, 8, 8]         917,504\n",
      "     BatchNorm2d-289            [-1, 448, 8, 8]             896\n",
      "     BasicConv2d-290            [-1, 448, 8, 8]               0\n",
      "          Conv2d-291            [-1, 384, 8, 8]       1,548,288\n",
      "     BatchNorm2d-292            [-1, 384, 8, 8]             768\n",
      "     BasicConv2d-293            [-1, 384, 8, 8]               0\n",
      "          Conv2d-294            [-1, 384, 8, 8]         442,368\n",
      "     BatchNorm2d-295            [-1, 384, 8, 8]             768\n",
      "     BasicConv2d-296            [-1, 384, 8, 8]               0\n",
      "          Conv2d-297            [-1, 384, 8, 8]         442,368\n",
      "     BatchNorm2d-298            [-1, 384, 8, 8]             768\n",
      "     BasicConv2d-299            [-1, 384, 8, 8]               0\n",
      "          Conv2d-300            [-1, 192, 8, 8]         393,216\n",
      "     BatchNorm2d-301            [-1, 192, 8, 8]             384\n",
      "     BasicConv2d-302            [-1, 192, 8, 8]               0\n",
      "      InceptionC-303           [-1, 2048, 8, 8]               0\n",
      "AdaptiveAvgPool2d-304           [-1, 2048, 1, 1]               0\n",
      "         Dropout-305           [-1, 2048, 1, 1]               0\n",
      "          Linear-306                    [-1, 2]           4,098\n",
      "================================================================\n",
      "Total params: 22,717,156\n",
      "Trainable params: 22,717,156\n",
      "Non-trainable params: 0\n",
      "----------------------------------------------------------------\n",
      "Input size (MB): 1.02\n",
      "Forward/backward pass size (MB): 223.56\n",
      "Params size (MB): 86.66\n",
      "Estimated Total Size (MB): 311.24\n",
      "----------------------------------------------------------------\n"
     ]
    }
   ],
   "source": [
    "# -----------------------------\n",
    "# 3. Training Setup\n",
    "# -----------------------------\n",
    "device = torch.device(\"cuda\" if torch.cuda.is_available() else \"cpu\")\n",
    "model = MyInceptionNetV3(num_classes=len(classes), aux_logits=True).to(device)\n",
    "criterion = nn.CrossEntropyLoss()\n",
    "optimizer = torch.optim.Adam(model.parameters(), lr=0.001)\n",
    "\n",
    "print(\"InceptionNetV3 Model Summary:\")\n",
    "# Note: Input size should be 299x299 for InceptionV3\n",
    "try:\n",
    "    summary(model, (3, 299, 299))\n",
    "except:\n",
    "    print(\"Model summary generation failed - this is normal for complex architectures\")\n",
    "    print(f\"Model created successfully with {sum(p.numel() for p in model.parameters()):,} parameters\")"
   ]
  },
  {
   "cell_type": "code",
   "execution_count": 9,
   "id": "d717b15e",
   "metadata": {
    "execution": {
     "iopub.execute_input": "2025-09-08T04:44:49.316323Z",
     "iopub.status.busy": "2025-09-08T04:44:49.316089Z",
     "iopub.status.idle": "2025-09-08T05:16:30.851906Z",
     "shell.execute_reply": "2025-09-08T05:16:30.851171Z"
    },
    "papermill": {
     "duration": 1901.542751,
     "end_time": "2025-09-08T05:16:30.854540",
     "exception": false,
     "start_time": "2025-09-08T04:44:49.311789",
     "status": "completed"
    },
    "tags": []
   },
   "outputs": [
    {
     "name": "stdout",
     "output_type": "stream",
     "text": [
      "\n",
      "🚀 Starting InceptionNetV3 Training for 50 epochs...\n",
      "================================================================================\n",
      "\n",
      "📈 Epoch 1/50\n",
      "--------------------------------------------------\n",
      "🔄 Training Phase...\n"
     ]
    },
    {
     "name": "stderr",
     "output_type": "stream",
     "text": [
      "Training: 100%|██████████████████████████████| 48/48 [00:41<00:00,  1.14it/s, Loss=0.9736, Acc=0.6184]\n"
     ]
    },
    {
     "name": "stdout",
     "output_type": "stream",
     "text": [
      "✅ Training completed in 41.97s\n",
      "🔍 Validation Phase...\n"
     ]
    },
    {
     "name": "stderr",
     "output_type": "stream",
     "text": [
      "Validation: 100%|██████████████████████████████| 12/12 [00:05<00:00,  2.22it/s, Loss=0.8405, Acc=0.6276]\n"
     ]
    },
    {
     "name": "stdout",
     "output_type": "stream",
     "text": [
      "✅ Validation completed in 5.40s\n",
      "🌟 New best InceptionNetV3 model found! Validation Accuracy: 0.6276\n",
      "\n",
      "📊 Epoch 1 Summary:\n",
      "│ Train Loss: 0.9736 | Train Acc: 0.6184\n",
      "│ Val Loss:   0.8405 | Val Acc:   0.6276\n",
      "│ Train Time: 41.97s | Val Time: 5.40s\n",
      "│ Total Epoch Time: 47.37s\n",
      "│ Best Val Acc: 0.6276 (Epoch 1)\n",
      "│ GPU Memory: 0.4GB / 4.5GB\n",
      "================================================================================\n",
      "\n",
      "📈 Epoch 2/50\n",
      "--------------------------------------------------\n",
      "🔄 Training Phase...\n"
     ]
    },
    {
     "name": "stderr",
     "output_type": "stream",
     "text": [
      "Training: 100%|██████████████████████████████| 48/48 [00:31<00:00,  1.54it/s, Loss=0.9130, Acc=0.6243]\n"
     ]
    },
    {
     "name": "stdout",
     "output_type": "stream",
     "text": [
      "✅ Training completed in 31.19s\n",
      "🔍 Validation Phase...\n"
     ]
    },
    {
     "name": "stderr",
     "output_type": "stream",
     "text": [
      "Validation: 100%|██████████████████████████████| 12/12 [00:04<00:00,  2.95it/s, Loss=1.2578, Acc=0.6016]\n"
     ]
    },
    {
     "name": "stdout",
     "output_type": "stream",
     "text": [
      "✅ Validation completed in 4.08s\n",
      "\n",
      "📊 Epoch 2 Summary:\n",
      "│ Train Loss: 0.9130 | Train Acc: 0.6243\n",
      "│ Val Loss:   1.2578 | Val Acc:   0.6016\n",
      "│ Train Time: 31.19s | Val Time: 4.08s\n",
      "│ Total Epoch Time: 35.28s\n",
      "│ Best Val Acc: 0.6276 (Epoch 1)\n",
      "│ GPU Memory: 0.4GB / 4.5GB\n",
      "================================================================================\n",
      "\n",
      "📈 Epoch 3/50\n",
      "--------------------------------------------------\n",
      "🔄 Training Phase...\n"
     ]
    },
    {
     "name": "stderr",
     "output_type": "stream",
     "text": [
      "Training: 100%|██████████████████████████████| 48/48 [00:34<00:00,  1.38it/s, Loss=0.8289, Acc=0.6888]\n"
     ]
    },
    {
     "name": "stdout",
     "output_type": "stream",
     "text": [
      "✅ Training completed in 34.82s\n",
      "🔍 Validation Phase...\n"
     ]
    },
    {
     "name": "stderr",
     "output_type": "stream",
     "text": [
      "Validation: 100%|██████████████████████████████| 12/12 [00:04<00:00,  2.49it/s, Loss=0.8632, Acc=0.6354]\n"
     ]
    },
    {
     "name": "stdout",
     "output_type": "stream",
     "text": [
      "✅ Validation completed in 4.83s\n",
      "🌟 New best InceptionNetV3 model found! Validation Accuracy: 0.6354\n",
      "\n",
      "📊 Epoch 3 Summary:\n",
      "│ Train Loss: 0.8289 | Train Acc: 0.6888\n",
      "│ Val Loss:   0.8632 | Val Acc:   0.6354\n",
      "│ Train Time: 34.82s | Val Time: 4.83s\n",
      "│ Total Epoch Time: 39.66s\n",
      "│ Best Val Acc: 0.6354 (Epoch 3)\n",
      "│ GPU Memory: 0.4GB / 4.5GB\n",
      "================================================================================\n",
      "\n",
      "📈 Epoch 4/50\n",
      "--------------------------------------------------\n",
      "🔄 Training Phase...\n"
     ]
    },
    {
     "name": "stderr",
     "output_type": "stream",
     "text": [
      "Training: 100%|██████████████████████████████| 48/48 [00:34<00:00,  1.40it/s, Loss=0.7491, Acc=0.7388]\n"
     ]
    },
    {
     "name": "stdout",
     "output_type": "stream",
     "text": [
      "✅ Training completed in 34.37s\n",
      "🔍 Validation Phase...\n"
     ]
    },
    {
     "name": "stderr",
     "output_type": "stream",
     "text": [
      "Validation: 100%|██████████████████████████████| 12/12 [00:05<00:00,  2.39it/s, Loss=0.6565, Acc=0.6641]\n"
     ]
    },
    {
     "name": "stdout",
     "output_type": "stream",
     "text": [
      "✅ Validation completed in 5.02s\n",
      "🌟 New best InceptionNetV3 model found! Validation Accuracy: 0.6641\n",
      "\n",
      "📊 Epoch 4 Summary:\n",
      "│ Train Loss: 0.7491 | Train Acc: 0.7388\n",
      "│ Val Loss:   0.6565 | Val Acc:   0.6641\n",
      "│ Train Time: 34.37s | Val Time: 5.02s\n",
      "│ Total Epoch Time: 39.40s\n",
      "│ Best Val Acc: 0.6641 (Epoch 4)\n",
      "│ GPU Memory: 0.4GB / 4.5GB\n",
      "================================================================================\n",
      "\n",
      "📈 Epoch 5/50\n",
      "--------------------------------------------------\n",
      "🔄 Training Phase...\n"
     ]
    },
    {
     "name": "stderr",
     "output_type": "stream",
     "text": [
      "Training: 100%|██████████████████████████████| 48/48 [00:34<00:00,  1.40it/s, Loss=0.7339, Acc=0.7480]\n"
     ]
    },
    {
     "name": "stdout",
     "output_type": "stream",
     "text": [
      "✅ Training completed in 34.18s\n",
      "🔍 Validation Phase...\n"
     ]
    },
    {
     "name": "stderr",
     "output_type": "stream",
     "text": [
      "Validation: 100%|██████████████████████████████| 12/12 [00:03<00:00,  3.00it/s, Loss=1.0966, Acc=0.5911]\n"
     ]
    },
    {
     "name": "stdout",
     "output_type": "stream",
     "text": [
      "✅ Validation completed in 4.00s\n",
      "\n",
      "📊 Epoch 5 Summary:\n",
      "│ Train Loss: 0.7339 | Train Acc: 0.7480\n",
      "│ Val Loss:   1.0966 | Val Acc:   0.5911\n",
      "│ Train Time: 34.18s | Val Time: 4.00s\n",
      "│ Total Epoch Time: 38.18s\n",
      "│ Best Val Acc: 0.6641 (Epoch 4)\n",
      "│ GPU Memory: 0.4GB / 4.5GB\n",
      "================================================================================\n",
      "\n",
      "📈 Epoch 6/50\n",
      "--------------------------------------------------\n",
      "🔄 Training Phase...\n"
     ]
    },
    {
     "name": "stderr",
     "output_type": "stream",
     "text": [
      "Training: 100%|██████████████████████████████| 48/48 [00:34<00:00,  1.40it/s, Loss=0.6391, Acc=0.7836]\n"
     ]
    },
    {
     "name": "stdout",
     "output_type": "stream",
     "text": [
      "✅ Training completed in 34.39s\n",
      "🔍 Validation Phase...\n"
     ]
    },
    {
     "name": "stderr",
     "output_type": "stream",
     "text": [
      "Validation: 100%|██████████████████████████████| 12/12 [00:04<00:00,  2.81it/s, Loss=0.8546, Acc=0.7240]\n"
     ]
    },
    {
     "name": "stdout",
     "output_type": "stream",
     "text": [
      "✅ Validation completed in 4.28s\n",
      "🌟 New best InceptionNetV3 model found! Validation Accuracy: 0.7240\n",
      "\n",
      "📊 Epoch 6 Summary:\n",
      "│ Train Loss: 0.6391 | Train Acc: 0.7836\n",
      "│ Val Loss:   0.8546 | Val Acc:   0.7240\n",
      "│ Train Time: 34.39s | Val Time: 4.28s\n",
      "│ Total Epoch Time: 38.68s\n",
      "│ Best Val Acc: 0.7240 (Epoch 6)\n",
      "│ GPU Memory: 0.4GB / 4.5GB\n",
      "================================================================================\n",
      "\n",
      "📈 Epoch 7/50\n",
      "--------------------------------------------------\n",
      "🔄 Training Phase...\n"
     ]
    },
    {
     "name": "stderr",
     "output_type": "stream",
     "text": [
      "Training: 100%|██████████████████████████████| 48/48 [00:33<00:00,  1.42it/s, Loss=0.5188, Acc=0.8388]\n"
     ]
    },
    {
     "name": "stdout",
     "output_type": "stream",
     "text": [
      "✅ Training completed in 33.76s\n",
      "🔍 Validation Phase...\n"
     ]
    },
    {
     "name": "stderr",
     "output_type": "stream",
     "text": [
      "Validation: 100%|██████████████████████████████| 12/12 [00:04<00:00,  2.94it/s, Loss=1.0759, Acc=0.5833]\n"
     ]
    },
    {
     "name": "stdout",
     "output_type": "stream",
     "text": [
      "✅ Validation completed in 4.08s\n",
      "\n",
      "📊 Epoch 7 Summary:\n",
      "│ Train Loss: 0.5188 | Train Acc: 0.8388\n",
      "│ Val Loss:   1.0759 | Val Acc:   0.5833\n",
      "│ Train Time: 33.76s | Val Time: 4.08s\n",
      "│ Total Epoch Time: 37.85s\n",
      "│ Best Val Acc: 0.7240 (Epoch 6)\n",
      "│ GPU Memory: 0.4GB / 4.5GB\n",
      "================================================================================\n",
      "\n",
      "📈 Epoch 8/50\n",
      "--------------------------------------------------\n",
      "🔄 Training Phase...\n"
     ]
    },
    {
     "name": "stderr",
     "output_type": "stream",
     "text": [
      "Training: 100%|██████████████████████████████| 48/48 [00:34<00:00,  1.40it/s, Loss=0.4698, Acc=0.8586]\n"
     ]
    },
    {
     "name": "stdout",
     "output_type": "stream",
     "text": [
      "✅ Training completed in 34.20s\n",
      "🔍 Validation Phase...\n"
     ]
    },
    {
     "name": "stderr",
     "output_type": "stream",
     "text": [
      "Validation: 100%|██████████████████████████████| 12/12 [00:04<00:00,  2.47it/s, Loss=0.9007, Acc=0.6953]\n"
     ]
    },
    {
     "name": "stdout",
     "output_type": "stream",
     "text": [
      "✅ Validation completed in 4.87s\n",
      "\n",
      "📊 Epoch 8 Summary:\n",
      "│ Train Loss: 0.4698 | Train Acc: 0.8586\n",
      "│ Val Loss:   0.9007 | Val Acc:   0.6953\n",
      "│ Train Time: 34.20s | Val Time: 4.87s\n",
      "│ Total Epoch Time: 39.07s\n",
      "│ Best Val Acc: 0.7240 (Epoch 6)\n",
      "│ GPU Memory: 0.4GB / 4.5GB\n",
      "================================================================================\n",
      "\n",
      "📈 Epoch 9/50\n",
      "--------------------------------------------------\n",
      "🔄 Training Phase...\n"
     ]
    },
    {
     "name": "stderr",
     "output_type": "stream",
     "text": [
      "Training: 100%|██████████████████████████████| 48/48 [00:36<00:00,  1.32it/s, Loss=0.4373, Acc=0.8586]\n"
     ]
    },
    {
     "name": "stdout",
     "output_type": "stream",
     "text": [
      "✅ Training completed in 36.50s\n",
      "🔍 Validation Phase...\n"
     ]
    },
    {
     "name": "stderr",
     "output_type": "stream",
     "text": [
      "Validation: 100%|██████████████████████████████| 12/12 [00:04<00:00,  2.55it/s, Loss=0.7002, Acc=0.6823]\n"
     ]
    },
    {
     "name": "stdout",
     "output_type": "stream",
     "text": [
      "✅ Validation completed in 4.71s\n",
      "\n",
      "📊 Epoch 9 Summary:\n",
      "│ Train Loss: 0.4373 | Train Acc: 0.8586\n",
      "│ Val Loss:   0.7002 | Val Acc:   0.6823\n",
      "│ Train Time: 36.50s | Val Time: 4.71s\n",
      "│ Total Epoch Time: 41.21s\n",
      "│ Best Val Acc: 0.7240 (Epoch 6)\n",
      "│ GPU Memory: 0.4GB / 4.5GB\n",
      "================================================================================\n",
      "\n",
      "📈 Epoch 10/50\n",
      "--------------------------------------------------\n",
      "🔄 Training Phase...\n"
     ]
    },
    {
     "name": "stderr",
     "output_type": "stream",
     "text": [
      "Training: 100%|██████████████████████████████| 48/48 [00:35<00:00,  1.33it/s, Loss=0.2964, Acc=0.9224]\n"
     ]
    },
    {
     "name": "stdout",
     "output_type": "stream",
     "text": [
      "✅ Training completed in 35.98s\n",
      "🔍 Validation Phase...\n"
     ]
    },
    {
     "name": "stderr",
     "output_type": "stream",
     "text": [
      "Validation: 100%|██████████████████████████████| 12/12 [00:04<00:00,  2.72it/s, Loss=0.9643, Acc=0.6667]\n"
     ]
    },
    {
     "name": "stdout",
     "output_type": "stream",
     "text": [
      "✅ Validation completed in 4.41s\n",
      "\n",
      "📊 Epoch 10 Summary:\n",
      "│ Train Loss: 0.2964 | Train Acc: 0.9224\n",
      "│ Val Loss:   0.9643 | Val Acc:   0.6667\n",
      "│ Train Time: 35.98s | Val Time: 4.41s\n",
      "│ Total Epoch Time: 40.39s\n",
      "│ Best Val Acc: 0.7240 (Epoch 6)\n",
      "│ GPU Memory: 0.4GB / 4.5GB\n",
      "================================================================================\n",
      "\n",
      "📈 Epoch 11/50\n",
      "--------------------------------------------------\n",
      "🔄 Training Phase...\n"
     ]
    },
    {
     "name": "stderr",
     "output_type": "stream",
     "text": [
      "Training: 100%|██████████████████████████████| 48/48 [00:34<00:00,  1.38it/s, Loss=0.2458, Acc=0.9276]\n"
     ]
    },
    {
     "name": "stdout",
     "output_type": "stream",
     "text": [
      "✅ Training completed in 34.67s\n",
      "🔍 Validation Phase...\n"
     ]
    },
    {
     "name": "stderr",
     "output_type": "stream",
     "text": [
      "Validation: 100%|██████████████████████████████| 12/12 [00:04<00:00,  2.92it/s, Loss=0.9002, Acc=0.6745]\n"
     ]
    },
    {
     "name": "stdout",
     "output_type": "stream",
     "text": [
      "✅ Validation completed in 4.12s\n",
      "\n",
      "📊 Epoch 11 Summary:\n",
      "│ Train Loss: 0.2458 | Train Acc: 0.9276\n",
      "│ Val Loss:   0.9002 | Val Acc:   0.6745\n",
      "│ Train Time: 34.67s | Val Time: 4.12s\n",
      "│ Total Epoch Time: 38.79s\n",
      "│ Best Val Acc: 0.7240 (Epoch 6)\n",
      "│ GPU Memory: 0.4GB / 4.5GB\n",
      "================================================================================\n",
      "\n",
      "📈 Epoch 12/50\n",
      "--------------------------------------------------\n",
      "🔄 Training Phase...\n"
     ]
    },
    {
     "name": "stderr",
     "output_type": "stream",
     "text": [
      "Training: 100%|██████████████████████████████| 48/48 [00:33<00:00,  1.43it/s, Loss=0.1611, Acc=0.9513]\n"
     ]
    },
    {
     "name": "stdout",
     "output_type": "stream",
     "text": [
      "✅ Training completed in 33.46s\n",
      "🔍 Validation Phase...\n"
     ]
    },
    {
     "name": "stderr",
     "output_type": "stream",
     "text": [
      "Validation: 100%|██████████████████████████████| 12/12 [00:03<00:00,  3.02it/s, Loss=1.1347, Acc=0.7292]\n"
     ]
    },
    {
     "name": "stdout",
     "output_type": "stream",
     "text": [
      "✅ Validation completed in 3.98s\n",
      "🌟 New best InceptionNetV3 model found! Validation Accuracy: 0.7292\n",
      "\n",
      "📊 Epoch 12 Summary:\n",
      "│ Train Loss: 0.1611 | Train Acc: 0.9513\n",
      "│ Val Loss:   1.1347 | Val Acc:   0.7292\n",
      "│ Train Time: 33.46s | Val Time: 3.98s\n",
      "│ Total Epoch Time: 37.44s\n",
      "│ Best Val Acc: 0.7292 (Epoch 12)\n",
      "│ GPU Memory: 0.4GB / 4.5GB\n",
      "================================================================================\n",
      "\n",
      "📈 Epoch 13/50\n",
      "--------------------------------------------------\n",
      "🔄 Training Phase...\n"
     ]
    },
    {
     "name": "stderr",
     "output_type": "stream",
     "text": [
      "Training: 100%|██████████████████████████████| 48/48 [00:33<00:00,  1.42it/s, Loss=0.3775, Acc=0.8980]\n"
     ]
    },
    {
     "name": "stdout",
     "output_type": "stream",
     "text": [
      "✅ Training completed in 33.78s\n",
      "🔍 Validation Phase...\n"
     ]
    },
    {
     "name": "stderr",
     "output_type": "stream",
     "text": [
      "Validation: 100%|██████████████████████████████| 12/12 [00:04<00:00,  2.87it/s, Loss=1.0424, Acc=0.6745]\n"
     ]
    },
    {
     "name": "stdout",
     "output_type": "stream",
     "text": [
      "✅ Validation completed in 4.19s\n",
      "\n",
      "📊 Epoch 13 Summary:\n",
      "│ Train Loss: 0.3775 | Train Acc: 0.8980\n",
      "│ Val Loss:   1.0424 | Val Acc:   0.6745\n",
      "│ Train Time: 33.78s | Val Time: 4.19s\n",
      "│ Total Epoch Time: 37.98s\n",
      "│ Best Val Acc: 0.7292 (Epoch 12)\n",
      "│ GPU Memory: 0.4GB / 4.5GB\n",
      "================================================================================\n",
      "\n",
      "📈 Epoch 14/50\n",
      "--------------------------------------------------\n",
      "🔄 Training Phase...\n"
     ]
    },
    {
     "name": "stderr",
     "output_type": "stream",
     "text": [
      "Training: 100%|██████████████████████████████| 48/48 [00:33<00:00,  1.41it/s, Loss=0.1949, Acc=0.9421]\n"
     ]
    },
    {
     "name": "stdout",
     "output_type": "stream",
     "text": [
      "✅ Training completed in 33.97s\n",
      "🔍 Validation Phase...\n"
     ]
    },
    {
     "name": "stderr",
     "output_type": "stream",
     "text": [
      "Validation: 100%|██████████████████████████████| 12/12 [00:04<00:00,  2.92it/s, Loss=0.8497, Acc=0.7214]\n"
     ]
    },
    {
     "name": "stdout",
     "output_type": "stream",
     "text": [
      "✅ Validation completed in 4.12s\n",
      "\n",
      "📊 Epoch 14 Summary:\n",
      "│ Train Loss: 0.1949 | Train Acc: 0.9421\n",
      "│ Val Loss:   0.8497 | Val Acc:   0.7214\n",
      "│ Train Time: 33.97s | Val Time: 4.12s\n",
      "│ Total Epoch Time: 38.09s\n",
      "│ Best Val Acc: 0.7292 (Epoch 12)\n",
      "│ GPU Memory: 0.4GB / 4.5GB\n",
      "================================================================================\n",
      "\n",
      "📈 Epoch 15/50\n",
      "--------------------------------------------------\n",
      "🔄 Training Phase...\n"
     ]
    },
    {
     "name": "stderr",
     "output_type": "stream",
     "text": [
      "Training: 100%|██████████████████████████████| 48/48 [00:33<00:00,  1.42it/s, Loss=0.1210, Acc=0.9730]\n"
     ]
    },
    {
     "name": "stdout",
     "output_type": "stream",
     "text": [
      "✅ Training completed in 33.76s\n",
      "🔍 Validation Phase...\n"
     ]
    },
    {
     "name": "stderr",
     "output_type": "stream",
     "text": [
      "Validation: 100%|██████████████████████████████| 12/12 [00:04<00:00,  2.95it/s, Loss=1.5521, Acc=0.6510]\n"
     ]
    },
    {
     "name": "stdout",
     "output_type": "stream",
     "text": [
      "✅ Validation completed in 4.08s\n",
      "\n",
      "📊 Epoch 15 Summary:\n",
      "│ Train Loss: 0.1210 | Train Acc: 0.9730\n",
      "│ Val Loss:   1.5521 | Val Acc:   0.6510\n",
      "│ Train Time: 33.76s | Val Time: 4.08s\n",
      "│ Total Epoch Time: 37.84s\n",
      "│ Best Val Acc: 0.7292 (Epoch 12)\n",
      "│ GPU Memory: 0.4GB / 4.5GB\n",
      "================================================================================\n",
      "\n",
      "📈 Epoch 16/50\n",
      "--------------------------------------------------\n",
      "🔄 Training Phase...\n"
     ]
    },
    {
     "name": "stderr",
     "output_type": "stream",
     "text": [
      "Training: 100%|██████████████████████████████| 48/48 [00:34<00:00,  1.39it/s, Loss=0.2058, Acc=0.9447]\n"
     ]
    },
    {
     "name": "stdout",
     "output_type": "stream",
     "text": [
      "✅ Training completed in 34.59s\n",
      "🔍 Validation Phase...\n"
     ]
    },
    {
     "name": "stderr",
     "output_type": "stream",
     "text": [
      "Validation: 100%|██████████████████████████████| 12/12 [00:03<00:00,  3.05it/s, Loss=1.1951, Acc=0.6484]\n"
     ]
    },
    {
     "name": "stdout",
     "output_type": "stream",
     "text": [
      "✅ Validation completed in 3.94s\n",
      "\n",
      "📊 Epoch 16 Summary:\n",
      "│ Train Loss: 0.2058 | Train Acc: 0.9447\n",
      "│ Val Loss:   1.1951 | Val Acc:   0.6484\n",
      "│ Train Time: 34.59s | Val Time: 3.94s\n",
      "│ Total Epoch Time: 38.53s\n",
      "│ Best Val Acc: 0.7292 (Epoch 12)\n",
      "│ GPU Memory: 0.4GB / 4.5GB\n",
      "================================================================================\n",
      "\n",
      "📈 Epoch 17/50\n",
      "--------------------------------------------------\n",
      "🔄 Training Phase...\n"
     ]
    },
    {
     "name": "stderr",
     "output_type": "stream",
     "text": [
      "Training: 100%|██████████████████████████████| 48/48 [00:33<00:00,  1.44it/s, Loss=0.1659, Acc=0.9579]\n"
     ]
    },
    {
     "name": "stdout",
     "output_type": "stream",
     "text": [
      "✅ Training completed in 33.30s\n",
      "🔍 Validation Phase...\n"
     ]
    },
    {
     "name": "stderr",
     "output_type": "stream",
     "text": [
      "Validation: 100%|██████████████████████████████| 12/12 [00:04<00:00,  2.98it/s, Loss=1.6205, Acc=0.6172]\n"
     ]
    },
    {
     "name": "stdout",
     "output_type": "stream",
     "text": [
      "✅ Validation completed in 4.03s\n",
      "\n",
      "📊 Epoch 17 Summary:\n",
      "│ Train Loss: 0.1659 | Train Acc: 0.9579\n",
      "│ Val Loss:   1.6205 | Val Acc:   0.6172\n",
      "│ Train Time: 33.30s | Val Time: 4.03s\n",
      "│ Total Epoch Time: 37.33s\n",
      "│ Best Val Acc: 0.7292 (Epoch 12)\n",
      "│ GPU Memory: 0.4GB / 4.5GB\n",
      "================================================================================\n",
      "\n",
      "📈 Epoch 18/50\n",
      "--------------------------------------------------\n",
      "🔄 Training Phase...\n"
     ]
    },
    {
     "name": "stderr",
     "output_type": "stream",
     "text": [
      "Training: 100%|██████████████████████████████| 48/48 [00:33<00:00,  1.43it/s, Loss=0.1160, Acc=0.9691]\n"
     ]
    },
    {
     "name": "stdout",
     "output_type": "stream",
     "text": [
      "✅ Training completed in 33.52s\n",
      "🔍 Validation Phase...\n"
     ]
    },
    {
     "name": "stderr",
     "output_type": "stream",
     "text": [
      "Validation: 100%|██████████████████████████████| 12/12 [00:03<00:00,  3.02it/s, Loss=1.8138, Acc=0.6432]\n"
     ]
    },
    {
     "name": "stdout",
     "output_type": "stream",
     "text": [
      "✅ Validation completed in 3.98s\n",
      "\n",
      "📊 Epoch 18 Summary:\n",
      "│ Train Loss: 0.1160 | Train Acc: 0.9691\n",
      "│ Val Loss:   1.8138 | Val Acc:   0.6432\n",
      "│ Train Time: 33.52s | Val Time: 3.98s\n",
      "│ Total Epoch Time: 37.50s\n",
      "│ Best Val Acc: 0.7292 (Epoch 12)\n",
      "│ GPU Memory: 0.4GB / 4.5GB\n",
      "================================================================================\n",
      "\n",
      "📈 Epoch 19/50\n",
      "--------------------------------------------------\n",
      "🔄 Training Phase...\n"
     ]
    },
    {
     "name": "stderr",
     "output_type": "stream",
     "text": [
      "Training: 100%|██████████████████████████████| 48/48 [00:33<00:00,  1.44it/s, Loss=0.1306, Acc=0.9625]\n"
     ]
    },
    {
     "name": "stdout",
     "output_type": "stream",
     "text": [
      "✅ Training completed in 33.38s\n",
      "🔍 Validation Phase...\n"
     ]
    },
    {
     "name": "stderr",
     "output_type": "stream",
     "text": [
      "Validation: 100%|██████████████████████████████| 12/12 [00:04<00:00,  2.72it/s, Loss=1.2963, Acc=0.7057]\n"
     ]
    },
    {
     "name": "stdout",
     "output_type": "stream",
     "text": [
      "✅ Validation completed in 4.42s\n",
      "\n",
      "📊 Epoch 19 Summary:\n",
      "│ Train Loss: 0.1306 | Train Acc: 0.9625\n",
      "│ Val Loss:   1.2963 | Val Acc:   0.7057\n",
      "│ Train Time: 33.38s | Val Time: 4.42s\n",
      "│ Total Epoch Time: 37.81s\n",
      "│ Best Val Acc: 0.7292 (Epoch 12)\n",
      "│ GPU Memory: 0.4GB / 4.5GB\n",
      "================================================================================\n",
      "\n",
      "📈 Epoch 20/50\n",
      "--------------------------------------------------\n",
      "🔄 Training Phase...\n"
     ]
    },
    {
     "name": "stderr",
     "output_type": "stream",
     "text": [
      "Training: 100%|██████████████████████████████| 48/48 [00:33<00:00,  1.42it/s, Loss=0.0833, Acc=0.9743]\n"
     ]
    },
    {
     "name": "stdout",
     "output_type": "stream",
     "text": [
      "✅ Training completed in 33.79s\n",
      "🔍 Validation Phase...\n"
     ]
    },
    {
     "name": "stderr",
     "output_type": "stream",
     "text": [
      "Validation: 100%|██████████████████████████████| 12/12 [00:03<00:00,  3.07it/s, Loss=1.3878, Acc=0.6719]\n"
     ]
    },
    {
     "name": "stdout",
     "output_type": "stream",
     "text": [
      "✅ Validation completed in 3.92s\n",
      "\n",
      "📊 Epoch 20 Summary:\n",
      "│ Train Loss: 0.0833 | Train Acc: 0.9743\n",
      "│ Val Loss:   1.3878 | Val Acc:   0.6719\n",
      "│ Train Time: 33.79s | Val Time: 3.92s\n",
      "│ Total Epoch Time: 37.71s\n",
      "│ Best Val Acc: 0.7292 (Epoch 12)\n",
      "│ GPU Memory: 0.4GB / 4.5GB\n",
      "================================================================================\n",
      "\n",
      "📈 Epoch 21/50\n",
      "--------------------------------------------------\n",
      "🔄 Training Phase...\n"
     ]
    },
    {
     "name": "stderr",
     "output_type": "stream",
     "text": [
      "Training: 100%|██████████████████████████████| 48/48 [00:33<00:00,  1.43it/s, Loss=0.0319, Acc=0.9934]\n"
     ]
    },
    {
     "name": "stdout",
     "output_type": "stream",
     "text": [
      "✅ Training completed in 33.51s\n",
      "🔍 Validation Phase...\n"
     ]
    },
    {
     "name": "stderr",
     "output_type": "stream",
     "text": [
      "Validation: 100%|██████████████████████████████| 12/12 [00:04<00:00,  2.90it/s, Loss=1.5378, Acc=0.6745]\n"
     ]
    },
    {
     "name": "stdout",
     "output_type": "stream",
     "text": [
      "✅ Validation completed in 4.14s\n",
      "\n",
      "📊 Epoch 21 Summary:\n",
      "│ Train Loss: 0.0319 | Train Acc: 0.9934\n",
      "│ Val Loss:   1.5378 | Val Acc:   0.6745\n",
      "│ Train Time: 33.51s | Val Time: 4.14s\n",
      "│ Total Epoch Time: 37.66s\n",
      "│ Best Val Acc: 0.7292 (Epoch 12)\n",
      "│ GPU Memory: 0.4GB / 4.5GB\n",
      "================================================================================\n",
      "\n",
      "📈 Epoch 22/50\n",
      "--------------------------------------------------\n",
      "🔄 Training Phase...\n"
     ]
    },
    {
     "name": "stderr",
     "output_type": "stream",
     "text": [
      "Training: 100%|██████████████████████████████| 48/48 [00:33<00:00,  1.45it/s, Loss=0.0335, Acc=0.9908]\n"
     ]
    },
    {
     "name": "stdout",
     "output_type": "stream",
     "text": [
      "✅ Training completed in 33.12s\n",
      "🔍 Validation Phase...\n"
     ]
    },
    {
     "name": "stderr",
     "output_type": "stream",
     "text": [
      "Validation: 100%|██████████████████████████████| 12/12 [00:03<00:00,  3.05it/s, Loss=1.7444, Acc=0.6641]\n"
     ]
    },
    {
     "name": "stdout",
     "output_type": "stream",
     "text": [
      "✅ Validation completed in 3.94s\n",
      "\n",
      "📊 Epoch 22 Summary:\n",
      "│ Train Loss: 0.0335 | Train Acc: 0.9908\n",
      "│ Val Loss:   1.7444 | Val Acc:   0.6641\n",
      "│ Train Time: 33.12s | Val Time: 3.94s\n",
      "│ Total Epoch Time: 37.06s\n",
      "│ Best Val Acc: 0.7292 (Epoch 12)\n",
      "│ GPU Memory: 0.4GB / 4.5GB\n",
      "================================================================================\n",
      "\n",
      "📈 Epoch 23/50\n",
      "--------------------------------------------------\n",
      "🔄 Training Phase...\n"
     ]
    },
    {
     "name": "stderr",
     "output_type": "stream",
     "text": [
      "Training: 100%|██████████████████████████████| 48/48 [00:33<00:00,  1.45it/s, Loss=0.0390, Acc=0.9901]\n"
     ]
    },
    {
     "name": "stdout",
     "output_type": "stream",
     "text": [
      "✅ Training completed in 33.20s\n",
      "🔍 Validation Phase...\n"
     ]
    },
    {
     "name": "stderr",
     "output_type": "stream",
     "text": [
      "Validation: 100%|██████████████████████████████| 12/12 [00:03<00:00,  3.07it/s, Loss=1.7333, Acc=0.6458]\n"
     ]
    },
    {
     "name": "stdout",
     "output_type": "stream",
     "text": [
      "✅ Validation completed in 3.91s\n",
      "\n",
      "📊 Epoch 23 Summary:\n",
      "│ Train Loss: 0.0390 | Train Acc: 0.9901\n",
      "│ Val Loss:   1.7333 | Val Acc:   0.6458\n",
      "│ Train Time: 33.20s | Val Time: 3.91s\n",
      "│ Total Epoch Time: 37.12s\n",
      "│ Best Val Acc: 0.7292 (Epoch 12)\n",
      "│ GPU Memory: 0.4GB / 4.5GB\n",
      "================================================================================\n",
      "\n",
      "📈 Epoch 24/50\n",
      "--------------------------------------------------\n",
      "🔄 Training Phase...\n"
     ]
    },
    {
     "name": "stderr",
     "output_type": "stream",
     "text": [
      "Training: 100%|██████████████████████████████| 48/48 [00:32<00:00,  1.46it/s, Loss=0.1432, Acc=0.9539]\n"
     ]
    },
    {
     "name": "stdout",
     "output_type": "stream",
     "text": [
      "✅ Training completed in 32.86s\n",
      "🔍 Validation Phase...\n"
     ]
    },
    {
     "name": "stderr",
     "output_type": "stream",
     "text": [
      "Validation: 100%|██████████████████████████████| 12/12 [00:03<00:00,  3.00it/s, Loss=1.5264, Acc=0.6875]\n"
     ]
    },
    {
     "name": "stdout",
     "output_type": "stream",
     "text": [
      "✅ Validation completed in 4.00s\n",
      "\n",
      "📊 Epoch 24 Summary:\n",
      "│ Train Loss: 0.1432 | Train Acc: 0.9539\n",
      "│ Val Loss:   1.5264 | Val Acc:   0.6875\n",
      "│ Train Time: 32.86s | Val Time: 4.00s\n",
      "│ Total Epoch Time: 36.87s\n",
      "│ Best Val Acc: 0.7292 (Epoch 12)\n",
      "│ GPU Memory: 0.4GB / 4.5GB\n",
      "================================================================================\n",
      "\n",
      "📈 Epoch 25/50\n",
      "--------------------------------------------------\n",
      "🔄 Training Phase...\n"
     ]
    },
    {
     "name": "stderr",
     "output_type": "stream",
     "text": [
      "Training: 100%|██████████████████████████████| 48/48 [00:33<00:00,  1.45it/s, Loss=0.1236, Acc=0.9724]\n"
     ]
    },
    {
     "name": "stdout",
     "output_type": "stream",
     "text": [
      "✅ Training completed in 33.01s\n",
      "🔍 Validation Phase...\n"
     ]
    },
    {
     "name": "stderr",
     "output_type": "stream",
     "text": [
      "Validation: 100%|██████████████████████████████| 12/12 [00:03<00:00,  3.01it/s, Loss=1.1648, Acc=0.6302]\n"
     ]
    },
    {
     "name": "stdout",
     "output_type": "stream",
     "text": [
      "✅ Validation completed in 3.98s\n",
      "\n",
      "📊 Epoch 25 Summary:\n",
      "│ Train Loss: 0.1236 | Train Acc: 0.9724\n",
      "│ Val Loss:   1.1648 | Val Acc:   0.6302\n",
      "│ Train Time: 33.01s | Val Time: 3.98s\n",
      "│ Total Epoch Time: 37.00s\n",
      "│ Best Val Acc: 0.7292 (Epoch 12)\n",
      "│ GPU Memory: 0.4GB / 4.5GB\n",
      "================================================================================\n",
      "\n",
      "📈 Epoch 26/50\n",
      "--------------------------------------------------\n",
      "🔄 Training Phase...\n"
     ]
    },
    {
     "name": "stderr",
     "output_type": "stream",
     "text": [
      "Training: 100%|██████████████████████████████| 48/48 [00:32<00:00,  1.46it/s, Loss=0.0412, Acc=0.9934]\n"
     ]
    },
    {
     "name": "stdout",
     "output_type": "stream",
     "text": [
      "✅ Training completed in 32.97s\n",
      "🔍 Validation Phase...\n"
     ]
    },
    {
     "name": "stderr",
     "output_type": "stream",
     "text": [
      "Validation: 100%|██████████████████████████████| 12/12 [00:03<00:00,  3.11it/s, Loss=1.0943, Acc=0.6771]\n"
     ]
    },
    {
     "name": "stdout",
     "output_type": "stream",
     "text": [
      "✅ Validation completed in 3.86s\n",
      "\n",
      "📊 Epoch 26 Summary:\n",
      "│ Train Loss: 0.0412 | Train Acc: 0.9934\n",
      "│ Val Loss:   1.0943 | Val Acc:   0.6771\n",
      "│ Train Time: 32.97s | Val Time: 3.86s\n",
      "│ Total Epoch Time: 36.84s\n",
      "│ Best Val Acc: 0.7292 (Epoch 12)\n",
      "│ GPU Memory: 0.4GB / 4.5GB\n",
      "================================================================================\n",
      "\n",
      "📈 Epoch 27/50\n",
      "--------------------------------------------------\n",
      "🔄 Training Phase...\n"
     ]
    },
    {
     "name": "stderr",
     "output_type": "stream",
     "text": [
      "Training: 100%|██████████████████████████████| 48/48 [00:32<00:00,  1.48it/s, Loss=0.0371, Acc=0.9901]\n"
     ]
    },
    {
     "name": "stdout",
     "output_type": "stream",
     "text": [
      "✅ Training completed in 32.50s\n",
      "🔍 Validation Phase...\n"
     ]
    },
    {
     "name": "stderr",
     "output_type": "stream",
     "text": [
      "Validation: 100%|██████████████████████████████| 12/12 [00:04<00:00,  2.92it/s, Loss=1.3927, Acc=0.7396]\n"
     ]
    },
    {
     "name": "stdout",
     "output_type": "stream",
     "text": [
      "✅ Validation completed in 4.11s\n",
      "🌟 New best InceptionNetV3 model found! Validation Accuracy: 0.7396\n",
      "\n",
      "📊 Epoch 27 Summary:\n",
      "│ Train Loss: 0.0371 | Train Acc: 0.9901\n",
      "│ Val Loss:   1.3927 | Val Acc:   0.7396\n",
      "│ Train Time: 32.50s | Val Time: 4.11s\n",
      "│ Total Epoch Time: 36.62s\n",
      "│ Best Val Acc: 0.7396 (Epoch 27)\n",
      "│ GPU Memory: 0.4GB / 4.5GB\n",
      "================================================================================\n",
      "\n",
      "📈 Epoch 28/50\n",
      "--------------------------------------------------\n",
      "🔄 Training Phase...\n"
     ]
    },
    {
     "name": "stderr",
     "output_type": "stream",
     "text": [
      "Training: 100%|██████████████████████████████| 48/48 [00:34<00:00,  1.40it/s, Loss=0.0216, Acc=0.9941]\n"
     ]
    },
    {
     "name": "stdout",
     "output_type": "stream",
     "text": [
      "✅ Training completed in 34.37s\n",
      "🔍 Validation Phase...\n"
     ]
    },
    {
     "name": "stderr",
     "output_type": "stream",
     "text": [
      "Validation: 100%|██████████████████████████████| 12/12 [00:03<00:00,  3.07it/s, Loss=2.0059, Acc=0.6667]\n"
     ]
    },
    {
     "name": "stdout",
     "output_type": "stream",
     "text": [
      "✅ Validation completed in 3.91s\n",
      "\n",
      "📊 Epoch 28 Summary:\n",
      "│ Train Loss: 0.0216 | Train Acc: 0.9941\n",
      "│ Val Loss:   2.0059 | Val Acc:   0.6667\n",
      "│ Train Time: 34.37s | Val Time: 3.91s\n",
      "│ Total Epoch Time: 38.28s\n",
      "│ Best Val Acc: 0.7396 (Epoch 27)\n",
      "│ GPU Memory: 0.4GB / 4.5GB\n",
      "================================================================================\n",
      "\n",
      "📈 Epoch 29/50\n",
      "--------------------------------------------------\n",
      "🔄 Training Phase...\n"
     ]
    },
    {
     "name": "stderr",
     "output_type": "stream",
     "text": [
      "Training: 100%|██████████████████████████████| 48/48 [00:32<00:00,  1.45it/s, Loss=0.0388, Acc=0.9914]\n"
     ]
    },
    {
     "name": "stdout",
     "output_type": "stream",
     "text": [
      "✅ Training completed in 32.99s\n",
      "🔍 Validation Phase...\n"
     ]
    },
    {
     "name": "stderr",
     "output_type": "stream",
     "text": [
      "Validation: 100%|██████████████████████████████| 12/12 [00:03<00:00,  3.04it/s, Loss=1.7526, Acc=0.6667]\n"
     ]
    },
    {
     "name": "stdout",
     "output_type": "stream",
     "text": [
      "✅ Validation completed in 3.95s\n",
      "\n",
      "📊 Epoch 29 Summary:\n",
      "│ Train Loss: 0.0388 | Train Acc: 0.9914\n",
      "│ Val Loss:   1.7526 | Val Acc:   0.6667\n",
      "│ Train Time: 32.99s | Val Time: 3.95s\n",
      "│ Total Epoch Time: 36.95s\n",
      "│ Best Val Acc: 0.7396 (Epoch 27)\n",
      "│ GPU Memory: 0.4GB / 4.5GB\n",
      "================================================================================\n",
      "\n",
      "📈 Epoch 30/50\n",
      "--------------------------------------------------\n",
      "🔄 Training Phase...\n"
     ]
    },
    {
     "name": "stderr",
     "output_type": "stream",
     "text": [
      "Training: 100%|██████████████████████████████| 48/48 [00:32<00:00,  1.45it/s, Loss=0.0367, Acc=0.9921]\n"
     ]
    },
    {
     "name": "stdout",
     "output_type": "stream",
     "text": [
      "✅ Training completed in 33.00s\n",
      "🔍 Validation Phase...\n"
     ]
    },
    {
     "name": "stderr",
     "output_type": "stream",
     "text": [
      "Validation: 100%|██████████████████████████████| 12/12 [00:04<00:00,  2.90it/s, Loss=1.5044, Acc=0.6849]\n"
     ]
    },
    {
     "name": "stdout",
     "output_type": "stream",
     "text": [
      "✅ Validation completed in 4.15s\n",
      "\n",
      "📊 Epoch 30 Summary:\n",
      "│ Train Loss: 0.0367 | Train Acc: 0.9921\n",
      "│ Val Loss:   1.5044 | Val Acc:   0.6849\n",
      "│ Train Time: 33.00s | Val Time: 4.15s\n",
      "│ Total Epoch Time: 37.15s\n",
      "│ Best Val Acc: 0.7396 (Epoch 27)\n",
      "│ GPU Memory: 0.4GB / 4.5GB\n",
      "================================================================================\n",
      "\n",
      "📈 Epoch 31/50\n",
      "--------------------------------------------------\n",
      "🔄 Training Phase...\n"
     ]
    },
    {
     "name": "stderr",
     "output_type": "stream",
     "text": [
      "Training: 100%|██████████████████████████████| 48/48 [00:33<00:00,  1.43it/s, Loss=0.0961, Acc=0.9796]\n"
     ]
    },
    {
     "name": "stdout",
     "output_type": "stream",
     "text": [
      "✅ Training completed in 33.57s\n",
      "🔍 Validation Phase...\n"
     ]
    },
    {
     "name": "stderr",
     "output_type": "stream",
     "text": [
      "Validation: 100%|██████████████████████████████| 12/12 [00:03<00:00,  3.06it/s, Loss=1.6842, Acc=0.7161]\n"
     ]
    },
    {
     "name": "stdout",
     "output_type": "stream",
     "text": [
      "✅ Validation completed in 3.92s\n",
      "\n",
      "📊 Epoch 31 Summary:\n",
      "│ Train Loss: 0.0961 | Train Acc: 0.9796\n",
      "│ Val Loss:   1.6842 | Val Acc:   0.7161\n",
      "│ Train Time: 33.57s | Val Time: 3.92s\n",
      "│ Total Epoch Time: 37.50s\n",
      "│ Best Val Acc: 0.7396 (Epoch 27)\n",
      "│ GPU Memory: 0.4GB / 4.5GB\n",
      "================================================================================\n",
      "\n",
      "📈 Epoch 32/50\n",
      "--------------------------------------------------\n",
      "🔄 Training Phase...\n"
     ]
    },
    {
     "name": "stderr",
     "output_type": "stream",
     "text": [
      "Training: 100%|██████████████████████████████| 48/48 [00:33<00:00,  1.45it/s, Loss=0.1042, Acc=0.9684]\n"
     ]
    },
    {
     "name": "stdout",
     "output_type": "stream",
     "text": [
      "✅ Training completed in 33.19s\n",
      "🔍 Validation Phase...\n"
     ]
    },
    {
     "name": "stderr",
     "output_type": "stream",
     "text": [
      "Validation: 100%|██████████████████████████████| 12/12 [00:03<00:00,  3.05it/s, Loss=1.9795, Acc=0.6745]\n"
     ]
    },
    {
     "name": "stdout",
     "output_type": "stream",
     "text": [
      "✅ Validation completed in 3.95s\n",
      "\n",
      "📊 Epoch 32 Summary:\n",
      "│ Train Loss: 0.1042 | Train Acc: 0.9684\n",
      "│ Val Loss:   1.9795 | Val Acc:   0.6745\n",
      "│ Train Time: 33.19s | Val Time: 3.95s\n",
      "│ Total Epoch Time: 37.15s\n",
      "│ Best Val Acc: 0.7396 (Epoch 27)\n",
      "│ GPU Memory: 0.4GB / 4.5GB\n",
      "================================================================================\n",
      "\n",
      "📈 Epoch 33/50\n",
      "--------------------------------------------------\n",
      "🔄 Training Phase...\n"
     ]
    },
    {
     "name": "stderr",
     "output_type": "stream",
     "text": [
      "Training: 100%|██████████████████████████████| 48/48 [00:33<00:00,  1.45it/s, Loss=0.0727, Acc=0.9829]\n"
     ]
    },
    {
     "name": "stdout",
     "output_type": "stream",
     "text": [
      "✅ Training completed in 33.15s\n",
      "🔍 Validation Phase...\n"
     ]
    },
    {
     "name": "stderr",
     "output_type": "stream",
     "text": [
      "Validation: 100%|██████████████████████████████| 12/12 [00:03<00:00,  3.05it/s, Loss=1.4587, Acc=0.6953]\n"
     ]
    },
    {
     "name": "stdout",
     "output_type": "stream",
     "text": [
      "✅ Validation completed in 3.94s\n",
      "\n",
      "📊 Epoch 33 Summary:\n",
      "│ Train Loss: 0.0727 | Train Acc: 0.9829\n",
      "│ Val Loss:   1.4587 | Val Acc:   0.6953\n",
      "│ Train Time: 33.15s | Val Time: 3.94s\n",
      "│ Total Epoch Time: 37.09s\n",
      "│ Best Val Acc: 0.7396 (Epoch 27)\n",
      "│ GPU Memory: 0.4GB / 4.5GB\n",
      "================================================================================\n",
      "\n",
      "📈 Epoch 34/50\n",
      "--------------------------------------------------\n",
      "🔄 Training Phase...\n"
     ]
    },
    {
     "name": "stderr",
     "output_type": "stream",
     "text": [
      "Training: 100%|██████████████████████████████| 48/48 [00:33<00:00,  1.45it/s, Loss=0.0557, Acc=0.9849]\n"
     ]
    },
    {
     "name": "stdout",
     "output_type": "stream",
     "text": [
      "✅ Training completed in 33.06s\n",
      "🔍 Validation Phase...\n"
     ]
    },
    {
     "name": "stderr",
     "output_type": "stream",
     "text": [
      "Validation: 100%|██████████████████████████████| 12/12 [00:03<00:00,  3.08it/s, Loss=1.6775, Acc=0.6536]\n"
     ]
    },
    {
     "name": "stdout",
     "output_type": "stream",
     "text": [
      "✅ Validation completed in 3.90s\n",
      "\n",
      "📊 Epoch 34 Summary:\n",
      "│ Train Loss: 0.0557 | Train Acc: 0.9849\n",
      "│ Val Loss:   1.6775 | Val Acc:   0.6536\n",
      "│ Train Time: 33.06s | Val Time: 3.90s\n",
      "│ Total Epoch Time: 36.97s\n",
      "│ Best Val Acc: 0.7396 (Epoch 27)\n",
      "│ GPU Memory: 0.4GB / 4.5GB\n",
      "================================================================================\n",
      "\n",
      "📈 Epoch 35/50\n",
      "--------------------------------------------------\n",
      "🔄 Training Phase...\n"
     ]
    },
    {
     "name": "stderr",
     "output_type": "stream",
     "text": [
      "Training: 100%|██████████████████████████████| 48/48 [00:33<00:00,  1.43it/s, Loss=0.0288, Acc=0.9934]\n"
     ]
    },
    {
     "name": "stdout",
     "output_type": "stream",
     "text": [
      "✅ Training completed in 33.47s\n",
      "🔍 Validation Phase...\n"
     ]
    },
    {
     "name": "stderr",
     "output_type": "stream",
     "text": [
      "Validation: 100%|██████████████████████████████| 12/12 [00:04<00:00,  2.97it/s, Loss=2.0622, Acc=0.6432]\n"
     ]
    },
    {
     "name": "stdout",
     "output_type": "stream",
     "text": [
      "✅ Validation completed in 4.05s\n",
      "\n",
      "📊 Epoch 35 Summary:\n",
      "│ Train Loss: 0.0288 | Train Acc: 0.9934\n",
      "│ Val Loss:   2.0622 | Val Acc:   0.6432\n",
      "│ Train Time: 33.47s | Val Time: 4.05s\n",
      "│ Total Epoch Time: 37.52s\n",
      "│ Best Val Acc: 0.7396 (Epoch 27)\n",
      "│ GPU Memory: 0.4GB / 4.5GB\n",
      "================================================================================\n",
      "\n",
      "📈 Epoch 36/50\n",
      "--------------------------------------------------\n",
      "🔄 Training Phase...\n"
     ]
    },
    {
     "name": "stderr",
     "output_type": "stream",
     "text": [
      "Training: 100%|██████████████████████████████| 48/48 [00:33<00:00,  1.45it/s, Loss=0.0159, Acc=0.9974]\n"
     ]
    },
    {
     "name": "stdout",
     "output_type": "stream",
     "text": [
      "✅ Training completed in 33.13s\n",
      "🔍 Validation Phase...\n"
     ]
    },
    {
     "name": "stderr",
     "output_type": "stream",
     "text": [
      "Validation: 100%|██████████████████████████████| 12/12 [00:03<00:00,  3.03it/s, Loss=1.6846, Acc=0.6797]\n"
     ]
    },
    {
     "name": "stdout",
     "output_type": "stream",
     "text": [
      "✅ Validation completed in 3.96s\n",
      "\n",
      "📊 Epoch 36 Summary:\n",
      "│ Train Loss: 0.0159 | Train Acc: 0.9974\n",
      "│ Val Loss:   1.6846 | Val Acc:   0.6797\n",
      "│ Train Time: 33.13s | Val Time: 3.96s\n",
      "│ Total Epoch Time: 37.10s\n",
      "│ Best Val Acc: 0.7396 (Epoch 27)\n",
      "│ GPU Memory: 0.4GB / 4.5GB\n",
      "================================================================================\n",
      "\n",
      "📈 Epoch 37/50\n",
      "--------------------------------------------------\n",
      "🔄 Training Phase...\n"
     ]
    },
    {
     "name": "stderr",
     "output_type": "stream",
     "text": [
      "Training: 100%|██████████████████████████████| 48/48 [00:33<00:00,  1.45it/s, Loss=0.0276, Acc=0.9947]\n"
     ]
    },
    {
     "name": "stdout",
     "output_type": "stream",
     "text": [
      "✅ Training completed in 33.04s\n",
      "🔍 Validation Phase...\n"
     ]
    },
    {
     "name": "stderr",
     "output_type": "stream",
     "text": [
      "Validation: 100%|██████████████████████████████| 12/12 [00:03<00:00,  3.05it/s, Loss=2.3479, Acc=0.6380]\n"
     ]
    },
    {
     "name": "stdout",
     "output_type": "stream",
     "text": [
      "✅ Validation completed in 3.94s\n",
      "\n",
      "📊 Epoch 37 Summary:\n",
      "│ Train Loss: 0.0276 | Train Acc: 0.9947\n",
      "│ Val Loss:   2.3479 | Val Acc:   0.6380\n",
      "│ Train Time: 33.04s | Val Time: 3.94s\n",
      "│ Total Epoch Time: 36.98s\n",
      "│ Best Val Acc: 0.7396 (Epoch 27)\n",
      "│ GPU Memory: 0.4GB / 4.5GB\n",
      "================================================================================\n",
      "\n",
      "📈 Epoch 38/50\n",
      "--------------------------------------------------\n",
      "🔄 Training Phase...\n"
     ]
    },
    {
     "name": "stderr",
     "output_type": "stream",
     "text": [
      "Training: 100%|██████████████████████████████| 48/48 [00:33<00:00,  1.44it/s, Loss=0.0192, Acc=0.9934]\n"
     ]
    },
    {
     "name": "stdout",
     "output_type": "stream",
     "text": [
      "✅ Training completed in 33.33s\n",
      "🔍 Validation Phase...\n"
     ]
    },
    {
     "name": "stderr",
     "output_type": "stream",
     "text": [
      "Validation: 100%|██████████████████████████████| 12/12 [00:03<00:00,  3.06it/s, Loss=2.0534, Acc=0.6354]\n"
     ]
    },
    {
     "name": "stdout",
     "output_type": "stream",
     "text": [
      "✅ Validation completed in 3.92s\n",
      "\n",
      "📊 Epoch 38 Summary:\n",
      "│ Train Loss: 0.0192 | Train Acc: 0.9934\n",
      "│ Val Loss:   2.0534 | Val Acc:   0.6354\n",
      "│ Train Time: 33.33s | Val Time: 3.92s\n",
      "│ Total Epoch Time: 37.26s\n",
      "│ Best Val Acc: 0.7396 (Epoch 27)\n",
      "│ GPU Memory: 0.4GB / 4.5GB\n",
      "================================================================================\n",
      "\n",
      "📈 Epoch 39/50\n",
      "--------------------------------------------------\n",
      "🔄 Training Phase...\n"
     ]
    },
    {
     "name": "stderr",
     "output_type": "stream",
     "text": [
      "Training: 100%|██████████████████████████████| 48/48 [00:33<00:00,  1.44it/s, Loss=0.0329, Acc=0.9928]\n"
     ]
    },
    {
     "name": "stdout",
     "output_type": "stream",
     "text": [
      "✅ Training completed in 33.24s\n",
      "🔍 Validation Phase...\n"
     ]
    },
    {
     "name": "stderr",
     "output_type": "stream",
     "text": [
      "Validation: 100%|██████████████████████████████| 12/12 [00:04<00:00,  2.96it/s, Loss=1.9590, Acc=0.6224]\n"
     ]
    },
    {
     "name": "stdout",
     "output_type": "stream",
     "text": [
      "✅ Validation completed in 4.06s\n",
      "\n",
      "📊 Epoch 39 Summary:\n",
      "│ Train Loss: 0.0329 | Train Acc: 0.9928\n",
      "│ Val Loss:   1.9590 | Val Acc:   0.6224\n",
      "│ Train Time: 33.24s | Val Time: 4.06s\n",
      "│ Total Epoch Time: 37.30s\n",
      "│ Best Val Acc: 0.7396 (Epoch 27)\n",
      "│ GPU Memory: 0.4GB / 4.5GB\n",
      "================================================================================\n",
      "\n",
      "📈 Epoch 40/50\n",
      "--------------------------------------------------\n",
      "🔄 Training Phase...\n"
     ]
    },
    {
     "name": "stderr",
     "output_type": "stream",
     "text": [
      "Training: 100%|██████████████████████████████| 48/48 [00:32<00:00,  1.46it/s, Loss=0.0371, Acc=0.9901]\n"
     ]
    },
    {
     "name": "stdout",
     "output_type": "stream",
     "text": [
      "✅ Training completed in 32.98s\n",
      "🔍 Validation Phase...\n"
     ]
    },
    {
     "name": "stderr",
     "output_type": "stream",
     "text": [
      "Validation: 100%|██████████████████████████████| 12/12 [00:04<00:00,  2.92it/s, Loss=1.6651, Acc=0.7240]\n"
     ]
    },
    {
     "name": "stdout",
     "output_type": "stream",
     "text": [
      "✅ Validation completed in 4.12s\n",
      "\n",
      "📊 Epoch 40 Summary:\n",
      "│ Train Loss: 0.0371 | Train Acc: 0.9901\n",
      "│ Val Loss:   1.6651 | Val Acc:   0.7240\n",
      "│ Train Time: 32.98s | Val Time: 4.12s\n",
      "│ Total Epoch Time: 37.10s\n",
      "│ Best Val Acc: 0.7396 (Epoch 27)\n",
      "│ GPU Memory: 0.4GB / 4.5GB\n",
      "================================================================================\n",
      "\n",
      "📈 Epoch 41/50\n",
      "--------------------------------------------------\n",
      "🔄 Training Phase...\n"
     ]
    },
    {
     "name": "stderr",
     "output_type": "stream",
     "text": [
      "Training: 100%|██████████████████████████████| 48/48 [00:33<00:00,  1.44it/s, Loss=0.1042, Acc=0.9730]\n"
     ]
    },
    {
     "name": "stdout",
     "output_type": "stream",
     "text": [
      "✅ Training completed in 33.35s\n",
      "🔍 Validation Phase...\n"
     ]
    },
    {
     "name": "stderr",
     "output_type": "stream",
     "text": [
      "Validation: 100%|██████████████████████████████| 12/12 [00:04<00:00,  2.93it/s, Loss=1.6714, Acc=0.6536]\n"
     ]
    },
    {
     "name": "stdout",
     "output_type": "stream",
     "text": [
      "✅ Validation completed in 4.11s\n",
      "\n",
      "📊 Epoch 41 Summary:\n",
      "│ Train Loss: 0.1042 | Train Acc: 0.9730\n",
      "│ Val Loss:   1.6714 | Val Acc:   0.6536\n",
      "│ Train Time: 33.35s | Val Time: 4.11s\n",
      "│ Total Epoch Time: 37.46s\n",
      "│ Best Val Acc: 0.7396 (Epoch 27)\n",
      "│ GPU Memory: 0.4GB / 4.5GB\n",
      "================================================================================\n",
      "\n",
      "📈 Epoch 42/50\n",
      "--------------------------------------------------\n",
      "🔄 Training Phase...\n"
     ]
    },
    {
     "name": "stderr",
     "output_type": "stream",
     "text": [
      "Training: 100%|██████████████████████████████| 48/48 [00:33<00:00,  1.43it/s, Loss=0.0887, Acc=0.9776]\n"
     ]
    },
    {
     "name": "stdout",
     "output_type": "stream",
     "text": [
      "✅ Training completed in 33.53s\n",
      "🔍 Validation Phase...\n"
     ]
    },
    {
     "name": "stderr",
     "output_type": "stream",
     "text": [
      "Validation: 100%|██████████████████████████████| 12/12 [00:03<00:00,  3.14it/s, Loss=2.0172, Acc=0.6380]\n"
     ]
    },
    {
     "name": "stdout",
     "output_type": "stream",
     "text": [
      "✅ Validation completed in 3.82s\n",
      "\n",
      "📊 Epoch 42 Summary:\n",
      "│ Train Loss: 0.0887 | Train Acc: 0.9776\n",
      "│ Val Loss:   2.0172 | Val Acc:   0.6380\n",
      "│ Train Time: 33.53s | Val Time: 3.82s\n",
      "│ Total Epoch Time: 37.35s\n",
      "│ Best Val Acc: 0.7396 (Epoch 27)\n",
      "│ GPU Memory: 0.4GB / 4.5GB\n",
      "================================================================================\n",
      "\n",
      "📈 Epoch 43/50\n",
      "--------------------------------------------------\n",
      "🔄 Training Phase...\n"
     ]
    },
    {
     "name": "stderr",
     "output_type": "stream",
     "text": [
      "Training: 100%|██████████████████████████████| 48/48 [00:33<00:00,  1.44it/s, Loss=0.0620, Acc=0.9796]\n"
     ]
    },
    {
     "name": "stdout",
     "output_type": "stream",
     "text": [
      "✅ Training completed in 33.38s\n",
      "🔍 Validation Phase...\n"
     ]
    },
    {
     "name": "stderr",
     "output_type": "stream",
     "text": [
      "Validation: 100%|██████████████████████████████| 12/12 [00:04<00:00,  2.99it/s, Loss=2.0135, Acc=0.6797]\n"
     ]
    },
    {
     "name": "stdout",
     "output_type": "stream",
     "text": [
      "✅ Validation completed in 4.03s\n",
      "\n",
      "📊 Epoch 43 Summary:\n",
      "│ Train Loss: 0.0620 | Train Acc: 0.9796\n",
      "│ Val Loss:   2.0135 | Val Acc:   0.6797\n",
      "│ Train Time: 33.38s | Val Time: 4.03s\n",
      "│ Total Epoch Time: 37.42s\n",
      "│ Best Val Acc: 0.7396 (Epoch 27)\n",
      "│ GPU Memory: 0.4GB / 4.5GB\n",
      "================================================================================\n",
      "\n",
      "📈 Epoch 44/50\n",
      "--------------------------------------------------\n",
      "🔄 Training Phase...\n"
     ]
    },
    {
     "name": "stderr",
     "output_type": "stream",
     "text": [
      "Training: 100%|██████████████████████████████| 48/48 [00:33<00:00,  1.44it/s, Loss=0.0291, Acc=0.9928]\n"
     ]
    },
    {
     "name": "stdout",
     "output_type": "stream",
     "text": [
      "✅ Training completed in 33.26s\n",
      "🔍 Validation Phase...\n"
     ]
    },
    {
     "name": "stderr",
     "output_type": "stream",
     "text": [
      "Validation: 100%|██████████████████████████████| 12/12 [00:03<00:00,  3.05it/s, Loss=1.9224, Acc=0.6562]\n"
     ]
    },
    {
     "name": "stdout",
     "output_type": "stream",
     "text": [
      "✅ Validation completed in 3.94s\n",
      "\n",
      "📊 Epoch 44 Summary:\n",
      "│ Train Loss: 0.0291 | Train Acc: 0.9928\n",
      "│ Val Loss:   1.9224 | Val Acc:   0.6562\n",
      "│ Train Time: 33.26s | Val Time: 3.94s\n",
      "│ Total Epoch Time: 37.21s\n",
      "│ Best Val Acc: 0.7396 (Epoch 27)\n",
      "│ GPU Memory: 0.4GB / 4.5GB\n",
      "================================================================================\n",
      "\n",
      "📈 Epoch 45/50\n",
      "--------------------------------------------------\n",
      "🔄 Training Phase...\n"
     ]
    },
    {
     "name": "stderr",
     "output_type": "stream",
     "text": [
      "Training: 100%|██████████████████████████████| 48/48 [00:33<00:00,  1.45it/s, Loss=0.0209, Acc=0.9954]\n"
     ]
    },
    {
     "name": "stdout",
     "output_type": "stream",
     "text": [
      "✅ Training completed in 33.21s\n",
      "🔍 Validation Phase...\n"
     ]
    },
    {
     "name": "stderr",
     "output_type": "stream",
     "text": [
      "Validation: 100%|██████████████████████████████| 12/12 [00:03<00:00,  3.02it/s, Loss=1.8664, Acc=0.6771]\n"
     ]
    },
    {
     "name": "stdout",
     "output_type": "stream",
     "text": [
      "✅ Validation completed in 3.98s\n",
      "\n",
      "📊 Epoch 45 Summary:\n",
      "│ Train Loss: 0.0209 | Train Acc: 0.9954\n",
      "│ Val Loss:   1.8664 | Val Acc:   0.6771\n",
      "│ Train Time: 33.21s | Val Time: 3.98s\n",
      "│ Total Epoch Time: 37.20s\n",
      "│ Best Val Acc: 0.7396 (Epoch 27)\n",
      "│ GPU Memory: 0.4GB / 4.5GB\n",
      "================================================================================\n",
      "\n",
      "📈 Epoch 46/50\n",
      "--------------------------------------------------\n",
      "🔄 Training Phase...\n"
     ]
    },
    {
     "name": "stderr",
     "output_type": "stream",
     "text": [
      "Training: 100%|██████████████████████████████| 48/48 [00:33<00:00,  1.45it/s, Loss=0.0293, Acc=0.9928]\n"
     ]
    },
    {
     "name": "stdout",
     "output_type": "stream",
     "text": [
      "✅ Training completed in 33.03s\n",
      "🔍 Validation Phase...\n"
     ]
    },
    {
     "name": "stderr",
     "output_type": "stream",
     "text": [
      "Validation: 100%|██████████████████████████████| 12/12 [00:03<00:00,  3.02it/s, Loss=2.3323, Acc=0.6120]\n"
     ]
    },
    {
     "name": "stdout",
     "output_type": "stream",
     "text": [
      "✅ Validation completed in 3.97s\n",
      "\n",
      "📊 Epoch 46 Summary:\n",
      "│ Train Loss: 0.0293 | Train Acc: 0.9928\n",
      "│ Val Loss:   2.3323 | Val Acc:   0.6120\n",
      "│ Train Time: 33.03s | Val Time: 3.97s\n",
      "│ Total Epoch Time: 37.01s\n",
      "│ Best Val Acc: 0.7396 (Epoch 27)\n",
      "│ GPU Memory: 0.4GB / 4.5GB\n",
      "================================================================================\n",
      "\n",
      "📈 Epoch 47/50\n",
      "--------------------------------------------------\n",
      "🔄 Training Phase...\n"
     ]
    },
    {
     "name": "stderr",
     "output_type": "stream",
     "text": [
      "Training: 100%|██████████████████████████████| 48/48 [00:33<00:00,  1.45it/s, Loss=0.0556, Acc=0.9862]\n"
     ]
    },
    {
     "name": "stdout",
     "output_type": "stream",
     "text": [
      "✅ Training completed in 33.21s\n",
      "🔍 Validation Phase...\n"
     ]
    },
    {
     "name": "stderr",
     "output_type": "stream",
     "text": [
      "Validation: 100%|██████████████████████████████| 12/12 [00:03<00:00,  3.03it/s, Loss=2.1209, Acc=0.6823]\n"
     ]
    },
    {
     "name": "stdout",
     "output_type": "stream",
     "text": [
      "✅ Validation completed in 3.96s\n",
      "\n",
      "📊 Epoch 47 Summary:\n",
      "│ Train Loss: 0.0556 | Train Acc: 0.9862\n",
      "│ Val Loss:   2.1209 | Val Acc:   0.6823\n",
      "│ Train Time: 33.21s | Val Time: 3.96s\n",
      "│ Total Epoch Time: 37.17s\n",
      "│ Best Val Acc: 0.7396 (Epoch 27)\n",
      "│ GPU Memory: 0.4GB / 4.5GB\n",
      "================================================================================\n",
      "\n",
      "📈 Epoch 48/50\n",
      "--------------------------------------------------\n",
      "🔄 Training Phase...\n"
     ]
    },
    {
     "name": "stderr",
     "output_type": "stream",
     "text": [
      "Training: 100%|██████████████████████████████| 48/48 [00:34<00:00,  1.39it/s, Loss=0.0149, Acc=0.9954]\n"
     ]
    },
    {
     "name": "stdout",
     "output_type": "stream",
     "text": [
      "✅ Training completed in 34.45s\n",
      "🔍 Validation Phase...\n"
     ]
    },
    {
     "name": "stderr",
     "output_type": "stream",
     "text": [
      "Validation: 100%|██████████████████████████████| 12/12 [00:03<00:00,  3.03it/s, Loss=1.8570, Acc=0.7344]\n"
     ]
    },
    {
     "name": "stdout",
     "output_type": "stream",
     "text": [
      "✅ Validation completed in 3.97s\n",
      "\n",
      "📊 Epoch 48 Summary:\n",
      "│ Train Loss: 0.0149 | Train Acc: 0.9954\n",
      "│ Val Loss:   1.8570 | Val Acc:   0.7344\n",
      "│ Train Time: 34.45s | Val Time: 3.97s\n",
      "│ Total Epoch Time: 38.42s\n",
      "│ Best Val Acc: 0.7396 (Epoch 27)\n",
      "│ GPU Memory: 0.4GB / 4.5GB\n",
      "================================================================================\n",
      "\n",
      "📈 Epoch 49/50\n",
      "--------------------------------------------------\n",
      "🔄 Training Phase...\n"
     ]
    },
    {
     "name": "stderr",
     "output_type": "stream",
     "text": [
      "Training: 100%|██████████████████████████████| 48/48 [00:32<00:00,  1.45it/s, Loss=0.0320, Acc=0.9941]\n"
     ]
    },
    {
     "name": "stdout",
     "output_type": "stream",
     "text": [
      "✅ Training completed in 33.00s\n",
      "🔍 Validation Phase...\n"
     ]
    },
    {
     "name": "stderr",
     "output_type": "stream",
     "text": [
      "Validation: 100%|██████████████████████████████| 12/12 [00:03<00:00,  3.02it/s, Loss=2.4037, Acc=0.6172]\n"
     ]
    },
    {
     "name": "stdout",
     "output_type": "stream",
     "text": [
      "✅ Validation completed in 3.98s\n",
      "\n",
      "📊 Epoch 49 Summary:\n",
      "│ Train Loss: 0.0320 | Train Acc: 0.9941\n",
      "│ Val Loss:   2.4037 | Val Acc:   0.6172\n",
      "│ Train Time: 33.00s | Val Time: 3.98s\n",
      "│ Total Epoch Time: 36.99s\n",
      "│ Best Val Acc: 0.7396 (Epoch 27)\n",
      "│ GPU Memory: 0.4GB / 4.5GB\n",
      "================================================================================\n",
      "\n",
      "📈 Epoch 50/50\n",
      "--------------------------------------------------\n",
      "🔄 Training Phase...\n"
     ]
    },
    {
     "name": "stderr",
     "output_type": "stream",
     "text": [
      "Training: 100%|██████████████████████████████| 48/48 [00:33<00:00,  1.44it/s, Loss=0.0186, Acc=0.9954]\n"
     ]
    },
    {
     "name": "stdout",
     "output_type": "stream",
     "text": [
      "✅ Training completed in 33.25s\n",
      "🔍 Validation Phase...\n"
     ]
    },
    {
     "name": "stderr",
     "output_type": "stream",
     "text": [
      "Validation: 100%|██████████████████████████████| 12/12 [00:04<00:00,  3.00it/s, Loss=2.1792, Acc=0.6771]\n"
     ]
    },
    {
     "name": "stdout",
     "output_type": "stream",
     "text": [
      "✅ Validation completed in 4.01s\n",
      "\n",
      "📊 Epoch 50 Summary:\n",
      "│ Train Loss: 0.0186 | Train Acc: 0.9954\n",
      "│ Val Loss:   2.1792 | Val Acc:   0.6771\n",
      "│ Train Time: 33.25s | Val Time: 4.01s\n",
      "│ Total Epoch Time: 37.26s\n",
      "│ Best Val Acc: 0.7396 (Epoch 27)\n",
      "│ GPU Memory: 0.4GB / 4.5GB\n",
      "================================================================================\n",
      "\n",
      "💾 Best InceptionNetV3 model saved as 'best_inceptionnetv3_model.pth'\n",
      "📊 Best model stats:\n",
      "│ Best Epoch: 27\n",
      "│ Best Val Acc: 0.7396\n",
      "\n",
      "💾 InceptionNetV3 training history saved to 'inceptionnetv3_training_history.csv'\n",
      "\n",
      "🎉 InceptionNetV3 Training Complete!\n",
      "Total Training Time: 1893.15s (31.6 minutes)\n",
      "Average Epoch Time: 37.86s\n",
      "\n",
      "⏱️  Epoch Timing Breakdown:\n",
      "│ Epoch 1: 47.37s\n",
      "│ Epoch 2: 35.28s\n",
      "│ Epoch 3: 39.66s\n",
      "│ Epoch 4: 39.40s\n",
      "│ Epoch 5: 38.18s\n",
      "│ Epoch 6: 38.68s\n",
      "│ Epoch 7: 37.85s\n",
      "│ Epoch 8: 39.07s\n",
      "│ Epoch 9: 41.21s\n",
      "│ Epoch 10: 40.39s\n",
      "│ Epoch 11: 38.79s\n",
      "│ Epoch 12: 37.44s\n",
      "│ Epoch 13: 37.98s\n",
      "│ Epoch 14: 38.09s\n",
      "│ Epoch 15: 37.84s\n",
      "│ Epoch 16: 38.53s\n",
      "│ Epoch 17: 37.33s\n",
      "│ Epoch 18: 37.50s\n",
      "│ Epoch 19: 37.81s\n",
      "│ Epoch 20: 37.71s\n",
      "│ Epoch 21: 37.66s\n",
      "│ Epoch 22: 37.06s\n",
      "│ Epoch 23: 37.12s\n",
      "│ Epoch 24: 36.87s\n",
      "│ Epoch 25: 37.00s\n",
      "│ Epoch 26: 36.84s\n",
      "│ Epoch 27: 36.62s\n",
      "│ Epoch 28: 38.28s\n",
      "│ Epoch 29: 36.95s\n",
      "│ Epoch 30: 37.15s\n",
      "│ Epoch 31: 37.50s\n",
      "│ Epoch 32: 37.15s\n",
      "│ Epoch 33: 37.09s\n",
      "│ Epoch 34: 36.97s\n",
      "│ Epoch 35: 37.52s\n",
      "│ Epoch 36: 37.10s\n",
      "│ Epoch 37: 36.98s\n",
      "│ Epoch 38: 37.26s\n",
      "│ Epoch 39: 37.30s\n",
      "│ Epoch 40: 37.10s\n",
      "│ Epoch 41: 37.46s\n",
      "│ Epoch 42: 37.35s\n",
      "│ Epoch 43: 37.42s\n",
      "│ Epoch 44: 37.21s\n",
      "│ Epoch 45: 37.20s\n",
      "│ Epoch 46: 37.01s\n",
      "│ Epoch 47: 37.17s\n",
      "│ Epoch 48: 38.42s\n",
      "│ Epoch 49: 36.99s\n",
      "│ Epoch 50: 37.26s\n",
      "\n",
      "🧪 Loading Best InceptionNetV3 Model for Testing...\n",
      "✅ Best InceptionNetV3 model from epoch 27 loaded successfully!\n"
     ]
    },
    {
     "name": "stderr",
     "output_type": "stream",
     "text": [
      "Testing InceptionNetV3: 100%|██████████████████████████████| 16/16 [00:07<00:00,  2.21it/s]\n"
     ]
    },
    {
     "name": "stdout",
     "output_type": "stream",
     "text": [
      "✅ InceptionNetV3 Testing completed in 7.24s\n",
      "\n",
      "📋 InceptionNetV3 Classification Report:\n",
      "              precision    recall  f1-score   support\n",
      "\n",
      "   fast_bowl       0.71      0.75      0.73       304\n",
      "   spin_bowl       0.54      0.50      0.52       184\n",
      "\n",
      "    accuracy                           0.65       488\n",
      "   macro avg       0.63      0.62      0.62       488\n",
      "weighted avg       0.65      0.65      0.65       488\n",
      "\n",
      "🎯 InceptionNetV3 Test Accuracy: 0.6537\n",
      "\n",
      "📊 InceptionNetV3 Model Performance Summary:\n",
      "│ Best Validation Acc:  0.7396 (Epoch 27)\n",
      "│ Final Test Accuracy:  0.6537\n",
      "│ Val-Test Gap:         0.0859\n"
     ]
    },
    {
     "data": {
      "image/png": "[encoded data removed]",
      "text/plain": [
       "<Figure size 800x600 with 2 Axes>"
      ]
     },
     "metadata": {},
     "output_type": "display_data"
    },
    {
     "data": {
      "image/png": "[encoded data removed]",
      "text/plain": [
       "<Figure size 2000x500 with 4 Axes>"
      ]
     },
     "metadata": {},
     "output_type": "display_data"
    },
    {
     "name": "stdout",
     "output_type": "stream",
     "text": [
      "\n",
      "⏰ InceptionNetV3 Final Timing Summary:\n",
      "│ Total Training: 1893.15s\n",
      "│ Average per Epoch: 37.86s\n",
      "│ Testing Time: 7.24s\n",
      "│ Total Runtime: 1900.38s\n",
      "\n",
      "💾 InceptionNetV3 Files saved:\n",
      "│ best_inceptionnetv3_model.pth - Best validation accuracy model\n",
      "│ inceptionnetv3_training_history.csv - Training metrics for later plotting\n"
     ]
    }
   ],
   "source": [
    "# -----------------------------\n",
    "# 4. Training Loop with Best Model Saving (Val Accuracy) - InceptionNetV3\n",
    "# -----------------------------\n",
    "train_losses, val_losses = [], []\n",
    "train_accs, val_accs = [], []\n",
    "epoch_times = []\n",
    "epochs = 50\n",
    "\n",
    "# Initialize best model tracking\n",
    "best_val_acc = 0.0\n",
    "best_model_state = None\n",
    "best_epoch = 0\n",
    "\n",
    "print(f\"\\n🚀 Starting InceptionNetV3 Training for {epochs} epochs...\")\n",
    "print(\"=\" * 80)\n",
    "\n",
    "total_start_time = time.time()\n",
    "\n",
    "for epoch in range(epochs):\n",
    "    epoch_start_time = time.time()\n",
    "    \n",
    "    print(f\"\\n📈 Epoch {epoch+1}/{epochs}\")\n",
    "    print(\"-\" * 50)\n",
    "    \n",
    "    # Training Phase\n",
    "    print(\"🔄 Training Phase...\")\n",
    "    model.train()\n",
    "    running_loss, correct, total = 0, 0, 0\n",
    "    \n",
    "    train_pbar = tqdm(train_loader, desc=f\"Training\", \n",
    "                     bar_format='{l_bar}{bar:30}{r_bar}{bar:-30b}')\n",
    "    \n",
    "    train_phase_start = time.time()\n",
    "    \n",
    "    for batch_idx, (imgs, labels) in enumerate(train_pbar):\n",
    "        # Resize images to 299x299 for InceptionV3\n",
    "        imgs = F.interpolate(imgs, size=(299, 299), mode='bilinear', align_corners=False)\n",
    "        imgs, labels = imgs.to(device), labels.to(device)\n",
    "        \n",
    "        optimizer.zero_grad()\n",
    "        \n",
    "        # Handle auxiliary output during training\n",
    "        if model.aux_logits and model.training:\n",
    "            outputs, aux_outputs = model(imgs)\n",
    "            loss1 = criterion(outputs, labels)\n",
    "            loss2 = criterion(aux_outputs, labels)\n",
    "            loss = loss1 + 0.4 * loss2  # Weight auxiliary loss by 0.4\n",
    "        else:\n",
    "            outputs = model(imgs)\n",
    "            loss = criterion(outputs, labels)\n",
    "        \n",
    "        loss.backward()\n",
    "        optimizer.step()\n",
    "        \n",
    "        running_loss += loss.item()\n",
    "        _, preds = torch.max(outputs, 1)\n",
    "        correct += (preds == labels).sum().item()\n",
    "        total += labels.size(0)\n",
    "        \n",
    "        current_acc = correct / total\n",
    "        train_pbar.set_postfix({\n",
    "            'Loss': f'{running_loss/(batch_idx+1):.4f}',\n",
    "            'Acc': f'{current_acc:.4f}'\n",
    "        })\n",
    "        \n",
    "        if device.type == 'cuda' and batch_idx % 10 == 0:\n",
    "            gpu_memory = torch.cuda.memory_allocated() / 1024**3\n",
    "            train_pbar.set_postfix({\n",
    "                'Loss': f'{running_loss/(batch_idx+1):.4f}',\n",
    "                'Acc': f'{current_acc:.4f}',  \n",
    "                'GPU': f'{gpu_memory:.1f}GB'\n",
    "            })\n",
    "    \n",
    "    train_phase_time = time.time() - train_phase_start\n",
    "    train_loss = running_loss / len(train_loader)\n",
    "    train_acc = correct / total\n",
    "    train_losses.append(train_loss)\n",
    "    train_accs.append(train_acc)\n",
    "    \n",
    "    print(f\"✅ Training completed in {train_phase_time:.2f}s\")\n",
    "    \n",
    "    # Validation Phase\n",
    "    print(\"🔍 Validation Phase...\")\n",
    "    model.eval()\n",
    "    running_loss, correct, total = 0, 0, 0\n",
    "    \n",
    "    val_phase_start = time.time()\n",
    "    val_pbar = tqdm(val_loader, desc=f\"Validation\", \n",
    "                   bar_format='{l_bar}{bar:30}{r_bar}{bar:-30b}')\n",
    "    \n",
    "    with torch.no_grad():\n",
    "        for batch_idx, (imgs, labels) in enumerate(val_pbar):\n",
    "            # Resize images to 299x299 for InceptionV3\n",
    "            imgs = F.interpolate(imgs, size=(299, 299), mode='bilinear', align_corners=False)\n",
    "            imgs, labels = imgs.to(device), labels.to(device)\n",
    "            outputs = model(imgs)\n",
    "            loss = criterion(outputs, labels)\n",
    "            \n",
    "            running_loss += loss.item()\n",
    "            _, preds = torch.max(outputs, 1)\n",
    "            correct += (preds == labels).sum().item()\n",
    "            total += labels.size(0)\n",
    "            \n",
    "            current_acc = correct / total\n",
    "            val_pbar.set_postfix({\n",
    "                'Loss': f'{running_loss/(batch_idx+1):.4f}',\n",
    "                'Acc': f'{current_acc:.4f}'\n",
    "            })\n",
    "    \n",
    "    val_phase_time = time.time() - val_phase_start\n",
    "    val_loss = running_loss / len(val_loader)\n",
    "    val_acc = correct / total\n",
    "    val_losses.append(val_loss)\n",
    "    val_accs.append(val_acc)\n",
    "    \n",
    "    print(f\"✅ Validation completed in {val_phase_time:.2f}s\")\n",
    "    \n",
    "    # Check if this is the best model so far based on val_acc\n",
    "    is_best = val_acc > best_val_acc\n",
    "    if is_best:\n",
    "        best_val_acc = val_acc\n",
    "        best_epoch = epoch + 1\n",
    "        best_model_state = model.state_dict().copy()\n",
    "        print(f\"🌟 New best InceptionNetV3 model found! Validation Accuracy: {val_acc:.4f}\")\n",
    "    \n",
    "    # Epoch Summary\n",
    "    epoch_time = time.time() - epoch_start_time\n",
    "    epoch_times.append(epoch_time)\n",
    "    \n",
    "    print(f\"\\n📊 Epoch {epoch+1} Summary:\")\n",
    "    print(f\"│ Train Loss: {train_loss:.4f} | Train Acc: {train_acc:.4f}\")\n",
    "    print(f\"│ Val Loss:   {val_loss:.4f} | Val Acc:   {val_acc:.4f}\")\n",
    "    print(f\"│ Train Time: {train_phase_time:.2f}s | Val Time: {val_phase_time:.2f}s\")\n",
    "    print(f\"│ Total Epoch Time: {epoch_time:.2f}s\")\n",
    "    print(f\"│ Best Val Acc: {best_val_acc:.4f} (Epoch {best_epoch})\")\n",
    "    \n",
    "    if device.type == 'cuda':\n",
    "        print(f\"│ GPU Memory: {torch.cuda.memory_allocated()/1024**3:.1f}GB / {torch.cuda.memory_reserved()/1024**3:.1f}GB\")\n",
    "    \n",
    "    print(\"=\" * 80)\n",
    "\n",
    "total_training_time = time.time() - total_start_time\n",
    "\n",
    "# Save the best model\n",
    "if best_model_state is not None:\n",
    "    torch.save(best_model_state, 'best_inceptionnetv3_model.pth')\n",
    "    print(f\"\\n💾 Best InceptionNetV3 model saved as 'best_inceptionnetv3_model.pth'\")\n",
    "    print(f\"📊 Best model stats:\")\n",
    "    print(f\"│ Best Epoch: {best_epoch}\")\n",
    "    print(f\"│ Best Val Acc: {best_val_acc:.4f}\")\n",
    "\n",
    "# Save training history data to CSV\n",
    "history_data = {\n",
    "    'epoch': list(range(1, epochs+1)),\n",
    "    'train_loss': train_losses,\n",
    "    'val_loss': val_losses,\n",
    "    'train_acc': train_accs,\n",
    "    'val_acc': val_accs,\n",
    "    'epoch_time': epoch_times\n",
    "}\n",
    "history_df = pd.DataFrame(history_data)\n",
    "history_df.to_csv('inceptionnetv3_training_history.csv', index=False)\n",
    "print(\"\\n💾 InceptionNetV3 training history saved to 'inceptionnetv3_training_history.csv'\")\n",
    "\n",
    "# Training Summary\n",
    "print(f\"\\n🎉 InceptionNetV3 Training Complete!\")\n",
    "print(f\"Total Training Time: {total_training_time:.2f}s ({total_training_time/60:.1f} minutes)\")\n",
    "print(f\"Average Epoch Time: {np.mean(epoch_times):.2f}s\")\n",
    "print(\"\\n⏱️  Epoch Timing Breakdown:\")\n",
    "for i, t in enumerate(epoch_times):\n",
    "    print(f\"│ Epoch {i+1}: {t:.2f}s\")\n",
    "\n",
    "# -----------------------------\n",
    "# 5. Load Best Model and Test\n",
    "# -----------------------------\n",
    "print(f\"\\n🧪 Loading Best InceptionNetV3 Model for Testing...\")\n",
    "\n",
    "# Load the best model state\n",
    "if best_model_state is not None:\n",
    "    model.load_state_dict(best_model_state)\n",
    "    print(f\"✅ Best InceptionNetV3 model from epoch {best_epoch} loaded successfully!\")\n",
    "else:\n",
    "    print(\"⚠️  No best model found, using current model state\")\n",
    "\n",
    "test_start_time = time.time()\n",
    "y_true, y_pred = [], []\n",
    "model.eval()\n",
    "\n",
    "test_pbar = tqdm(test_loader, desc=\"Testing InceptionNetV3\", \n",
    "                bar_format='{l_bar}{bar:30}{r_bar}{bar:-30b}')\n",
    "\n",
    "with torch.no_grad():\n",
    "    for imgs, labels in test_pbar:\n",
    "        # Resize images to 299x299 for InceptionV3\n",
    "        imgs = F.interpolate(imgs, size=(299, 299), mode='bilinear', align_corners=False)\n",
    "        imgs, labels = imgs.to(device), labels.to(device)\n",
    "        outputs = model(imgs)\n",
    "        _, preds = torch.max(outputs, 1)\n",
    "        y_true.extend(labels.cpu().numpy())\n",
    "        y_pred.extend(preds.cpu().numpy())\n",
    "\n",
    "test_time = time.time() - test_start_time\n",
    "test_accuracy = accuracy_score(y_true, y_pred)\n",
    "\n",
    "print(f\"✅ InceptionNetV3 Testing completed in {test_time:.2f}s\")\n",
    "print(\"\\n📋 InceptionNetV3 Classification Report:\")\n",
    "print(classification_report(y_true, y_pred, target_names=classes))\n",
    "print(f\"🎯 InceptionNetV3 Test Accuracy: {test_accuracy:.4f}\")\n",
    "\n",
    "# Model Performance Summary\n",
    "print(f\"\\n📊 InceptionNetV3 Model Performance Summary:\")\n",
    "print(f\"│ Best Validation Acc:  {best_val_acc:.4f} (Epoch {best_epoch})\")\n",
    "print(f\"│ Final Test Accuracy:  {test_accuracy:.4f}\")\n",
    "print(f\"│ Val-Test Gap:         {abs(best_val_acc - test_accuracy):.4f}\")\n",
    "\n",
    "# Confusion Matrix\n",
    "cm = confusion_matrix(y_true, y_pred)\n",
    "plt.figure(figsize=(8, 6))\n",
    "sns.heatmap(cm, annot=True, fmt=\"d\", cmap=\"Blues\", xticklabels=classes, yticklabels=classes)\n",
    "plt.xlabel(\"Predicted\")\n",
    "plt.ylabel(\"True\")\n",
    "plt.title(f\"InceptionNetV3 Confusion Matrix - Best Model (Epoch {best_epoch})\")\n",
    "plt.show()\n",
    "\n",
    "# -----------------------------\n",
    "# 6. Enhanced Visualizations\n",
    "# -----------------------------\n",
    "plt.figure(figsize=(20, 5))\n",
    "\n",
    "# Loss Plot\n",
    "plt.subplot(1, 4, 1)\n",
    "plt.plot(range(1, epochs+1), train_losses, 'b-', label=\"Train Loss\", marker='o', linewidth=2)\n",
    "plt.plot(range(1, epochs+1), val_losses, 'r-', label=\"Val Loss\", marker='s', linewidth=2)\n",
    "plt.axvline(x=best_epoch, color='blue', linestyle='--', alpha=0.7, label=f'Best (Epoch {best_epoch})')\n",
    "plt.legend()\n",
    "plt.title(\"InceptionNetV3 Loss over Epochs\")\n",
    "plt.xlabel(\"Epoch\")\n",
    "plt.ylabel(\"Loss\")\n",
    "plt.grid(True, alpha=0.3)\n",
    "\n",
    "# Accuracy Plot\n",
    "plt.subplot(1, 4, 2)\n",
    "plt.plot(range(1, epochs+1), train_accs, 'b-', label=\"Train Accuracy\", marker='o', linewidth=2)\n",
    "plt.plot(range(1, epochs+1), val_accs, 'r-', label=\"Val Accuracy\", marker='s', linewidth=2)\n",
    "plt.axvline(x=best_epoch, color='blue', linestyle='--', alpha=0.7, label=f'Best (Epoch {best_epoch})')\n",
    "plt.scatter([best_epoch], [best_val_acc], color='blue', s=100, zorder=5)\n",
    "plt.legend()\n",
    "plt.title(\"InceptionNetV3 Accuracy over Epochs\")\n",
    "plt.xlabel(\"Epoch\")\n",
    "plt.ylabel(\"Accuracy\")\n",
    "plt.grid(True, alpha=0.3)\n",
    "\n",
    "# Timing Plot\n",
    "plt.subplot(1, 4, 3)\n",
    "bars = plt.bar(range(1, epochs+1), epoch_times, color='lightblue', alpha=0.7)\n",
    "bars[best_epoch-1].set_color('blue')\n",
    "plt.title(\"InceptionNetV3 Training Time per Epoch\")\n",
    "plt.xlabel(\"Epoch\")\n",
    "plt.ylabel(\"Time (seconds)\")\n",
    "plt.grid(True, alpha=0.3)\n",
    "for i, t in enumerate(epoch_times):\n",
    "    plt.text(i+1, t+0.5, f'{t:.1f}s', ha='center', va='bottom')\n",
    "\n",
    "# Performance Comparison\n",
    "plt.subplot(1, 4, 4)\n",
    "metrics = ['Best Val Acc', 'Test Acc']\n",
    "values = [best_val_acc, test_accuracy]\n",
    "colors = ['lightblue', 'blue']\n",
    "bars = plt.bar(metrics, values, color=colors, alpha=0.7)\n",
    "plt.title(\"InceptionNetV3 Final Model Performance\")\n",
    "plt.ylabel(\"Accuracy\")\n",
    "plt.ylim(0, 1)\n",
    "plt.grid(True, alpha=0.3)\n",
    "for bar, val in zip(bars, values):\n",
    "    plt.text(bar.get_x() + bar.get_width()/2, val + 0.01, \n",
    "             f'{val:.4f}', ha='center', va='bottom')\n",
    "\n",
    "plt.tight_layout()\n",
    "plt.show()\n",
    "\n",
    "print(f\"\\n⏰ InceptionNetV3 Final Timing Summary:\")\n",
    "print(f\"│ Total Training: {total_training_time:.2f}s\")\n",
    "print(f\"│ Average per Epoch: {np.mean(epoch_times):.2f}s\")\n",
    "print(f\"│ Testing Time: {test_time:.2f}s\")\n",
    "print(f\"│ Total Runtime: {total_training_time + test_time:.2f}s\")\n",
    "\n",
    "print(f\"\\n💾 InceptionNetV3 Files saved:\")\n",
    "print(f\"│ best_inceptionnetv3_model.pth - Best validation accuracy model\")\n",
    "print(f\"│ inceptionnetv3_training_history.csv - Training metrics for later plotting\")"
   ]
  }
 ],
 "metadata": {
  "kaggle": {
   "accelerator": "nvidiaTeslaT4",
   "dataSources": [
    {
     "datasetId": 7735666,
     "sourceId": 12275446,
     "sourceType": "datasetVersion"
    }
   ],
   "dockerImageVersionId": 31090,
   "isGpuEnabled": true,
   "isInternetEnabled": true,
   "language": "python",
   "sourceType": "notebook"
  },
  "kernelspec": {
   "display_name": "Python 3",
   "language": "python",
   "name": "python3"
  },
  "language_info": {
   "codemirror_mode": {
    "name": "ipython",
    "version": 3
   },
   "file_extension": ".py",
   "mimetype": "text/x-python",
   "name": "python",
   "nbconvert_exporter": "python",
   "pygments_lexer": "ipython3",
   "version": "3.11.13"
  },
  "papermill": {
   "default_parameters": {},
   "duration": 1921.938148,
   "end_time": "2025-09-08T05:16:33.550775",
   "environment_variables": {},
   "exception": null,
   "input_path": "__notebook__.ipynb",
   "output_path": "__notebook__.ipynb",
   "parameters": {},
   "start_time": "2025-09-08T04:44:31.612627",
   "version": "2.6.0"
  }
 },
 "nbformat": 4,
 "nbformat_minor": 5
}
