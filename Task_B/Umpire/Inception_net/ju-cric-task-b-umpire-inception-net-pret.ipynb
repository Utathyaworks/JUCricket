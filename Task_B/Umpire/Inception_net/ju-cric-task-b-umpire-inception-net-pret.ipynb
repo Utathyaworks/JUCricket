{
 "cells": [
  {
   "cell_type": "code",
   "execution_count": 1,
   "id": "e134f269",
   "metadata": {
    "_cell_guid": "b1076dfc-b9ad-4769-8c92-a6c4dae69d19",
    "_uuid": "8f2839f25d086af736a60e9eeb907d3b93b6e0e5",
    "execution": {
     "iopub.execute_input": "2025-09-08T06:21:49.363819Z",
     "iopub.status.busy": "2025-09-08T06:21:49.363529Z",
     "iopub.status.idle": "2025-09-08T06:22:08.445218Z",
     "shell.execute_reply": "2025-09-08T06:22:08.444211Z"
    },
    "papermill": {
     "duration": 19.087637,
     "end_time": "2025-09-08T06:22:08.446528",
     "exception": false,
     "start_time": "2025-09-08T06:21:49.358891",
     "status": "completed"
    },
    "tags": []
   },
   "outputs": [
    {
     "name": "stdout",
     "output_type": "stream",
     "text": [
      "Training only on: Umpire\n",
      "Train classes: ['Four', 'Leg_Bye', 'No_ball', 'Out', 'Six', 'Wide']\n",
      "Train samples: 1728 Val samples: 468 Test samples: 585\n"
     ]
    }
   ],
   "source": [
    "import torch\n",
    "from torch.utils.data import DataLoader\n",
    "from torchvision import datasets, transforms\n",
    "\n",
    "# -----------------------------\n",
    "# 1. Data Preprocessing (Single Action Class)\n",
    "# -----------------------------\n",
    "base_dir = \"/kaggle/input/ju-cricket/Cricket_Dataset_final/Task_B\"  # base Task_B folder\n",
    "\n",
    "action_class = \"Umpire\"  # Change to \"Bowling\" / \"Fielding\" / \"Umpire\"\n",
    "\n",
    "transform = transforms.Compose([\n",
    "    transforms.Resize((224, 224)),   \n",
    "    transforms.ToTensor(),\n",
    "    transforms.Normalize([0.485, 0.456, 0.406], \n",
    "                         [0.229, 0.224, 0.225])\n",
    "])\n",
    "\n",
    "# Point ImageFolder to *only* the action class folder\n",
    "train_ds = datasets.ImageFolder(f\"{base_dir}/train/{action_class}\", transform=transform)\n",
    "val_ds   = datasets.ImageFolder(f\"{base_dir}/val/{action_class}\", transform=transform)\n",
    "test_ds  = datasets.ImageFolder(f\"{base_dir}/test/{action_class}\", transform=transform)\n",
    "\n",
    "train_loader = DataLoader(train_ds, batch_size=32, shuffle=True)\n",
    "val_loader   = DataLoader(val_ds, batch_size=32, shuffle=False)\n",
    "test_loader  = DataLoader(test_ds, batch_size=32, shuffle=False)\n",
    "\n",
    "print(f\"Training only on: {action_class}\")\n",
    "print(\"Train classes:\", train_ds.classes)\n",
    "print(\"Train samples:\", len(train_ds), \n",
    "      \"Val samples:\", len(val_ds), \n",
    "      \"Test samples:\", len(test_ds))"
   ]
  },
  {
   "cell_type": "code",
   "execution_count": 2,
   "id": "d9583e19",
   "metadata": {
    "execution": {
     "iopub.execute_input": "2025-09-08T06:22:08.453035Z",
     "iopub.status.busy": "2025-09-08T06:22:08.452709Z",
     "iopub.status.idle": "2025-09-08T06:22:08.457485Z",
     "shell.execute_reply": "2025-09-08T06:22:08.456631Z"
    },
    "papermill": {
     "duration": 0.009211,
     "end_time": "2025-09-08T06:22:08.458753",
     "exception": false,
     "start_time": "2025-09-08T06:22:08.449542",
     "status": "completed"
    },
    "tags": []
   },
   "outputs": [
    {
     "name": "stdout",
     "output_type": "stream",
     "text": [
      "Total training images: 1728\n",
      "Total validation images: 468\n",
      "Total test images: 585\n",
      "Total images in dataset: 2781\n"
     ]
    }
   ],
   "source": [
    "print(\"Total training images:\", len(train_ds))\n",
    "print(\"Total validation images:\", len(val_ds))\n",
    "print(\"Total test images:\", len(test_ds))\n",
    "\n",
    "total_images = len(train_ds) + len(val_ds) + len(test_ds)\n",
    "print(\"Total images in dataset:\", total_images)\n"
   ]
  },
  {
   "cell_type": "code",
   "execution_count": 3,
   "id": "dae1d2a4",
   "metadata": {
    "execution": {
     "iopub.execute_input": "2025-09-08T06:22:08.464683Z",
     "iopub.status.busy": "2025-09-08T06:22:08.464425Z",
     "iopub.status.idle": "2025-09-08T06:22:08.471916Z",
     "shell.execute_reply": "2025-09-08T06:22:08.471069Z"
    },
    "papermill": {
     "duration": 0.011733,
     "end_time": "2025-09-08T06:22:08.472989",
     "exception": false,
     "start_time": "2025-09-08T06:22:08.461256",
     "status": "completed"
    },
    "tags": []
   },
   "outputs": [
    {
     "name": "stdout",
     "output_type": "stream",
     "text": [
      "Training images (excluding 'random_occlusion'): 1536\n",
      "Validation images (excluding 'random_occlusion'): 416\n",
      "Test images (excluding 'random_occlusion'): 520\n",
      "Total images (excluding 'random_occlusion'): 2472\n"
     ]
    }
   ],
   "source": [
    "ignore_folder = \"random_occlusion\"\n",
    "\n",
    "def count_images_ignore_folder(dataset, ignore_folder):\n",
    "    count = 0\n",
    "    for img_path, label in dataset.samples:\n",
    "        # Skip if the image path contains the ignore_folder\n",
    "        if ignore_folder not in img_path.split(\"/\"):\n",
    "            count += 1\n",
    "    return count\n",
    "\n",
    "train_count = count_images_ignore_folder(train_ds, ignore_folder)\n",
    "val_count   = count_images_ignore_folder(val_ds, ignore_folder)\n",
    "test_count  = count_images_ignore_folder(test_ds, ignore_folder)\n",
    "\n",
    "total_count = train_count + val_count + test_count\n",
    "\n",
    "print(\"Training images (excluding '{}'): {}\".format(ignore_folder, train_count))\n",
    "print(\"Validation images (excluding '{}'): {}\".format(ignore_folder, val_count))\n",
    "print(\"Test images (excluding '{}'): {}\".format(ignore_folder, test_count))\n",
    "print(\"Total images (excluding '{}'): {}\".format(ignore_folder, total_count))\n"
   ]
  },
  {
   "cell_type": "code",
   "execution_count": 4,
   "id": "c118e21e",
   "metadata": {
    "execution": {
     "iopub.execute_input": "2025-09-08T06:22:08.479595Z",
     "iopub.status.busy": "2025-09-08T06:22:08.478872Z",
     "iopub.status.idle": "2025-09-08T06:22:08.487230Z",
     "shell.execute_reply": "2025-09-08T06:22:08.486527Z"
    },
    "papermill": {
     "duration": 0.012631,
     "end_time": "2025-09-08T06:22:08.488358",
     "exception": false,
     "start_time": "2025-09-08T06:22:08.475727",
     "status": "completed"
    },
    "tags": []
   },
   "outputs": [
    {
     "name": "stdout",
     "output_type": "stream",
     "text": [
      "Training folders considered: {'lens_flare', 'low_resolution', 'gaussian_noise', 'chromatic_aberration', 'original', 'dirty_lens', 'blur', 'motion_blur'}\n",
      "Validation folders considered: {'lens_flare', 'low_resolution', 'gaussian_noise', 'chromatic_aberration', 'original', 'dirty_lens', 'blur', 'motion_blur'}\n",
      "Test folders considered: {'lens_flare', 'low_resolution', 'gaussian_noise', 'chromatic_aberration', 'original', 'dirty_lens', 'blur', 'motion_blur'}\n"
     ]
    }
   ],
   "source": [
    "ignore_folder = \"random_occlusion\"\n",
    "\n",
    "def get_included_folders(dataset, ignore_folder):\n",
    "    included = set()\n",
    "    for img_path, label in dataset.samples:\n",
    "        # Split the path into parts and ignore if ignore_folder is in the path\n",
    "        if ignore_folder not in img_path.split(\"/\"):\n",
    "            # The folder name just above the image (or the class folder)\n",
    "            folder_name = img_path.split(\"/\")[-2]\n",
    "            included.add(folder_name)\n",
    "    return included\n",
    "\n",
    "train_folders = get_included_folders(train_ds, ignore_folder)\n",
    "val_folders   = get_included_folders(val_ds, ignore_folder)\n",
    "test_folders  = get_included_folders(test_ds, ignore_folder)\n",
    "\n",
    "print(\"Training folders considered:\", train_folders)\n",
    "print(\"Validation folders considered:\", val_folders)\n",
    "print(\"Test folders considered:\", test_folders)\n"
   ]
  },
  {
   "cell_type": "code",
   "execution_count": 5,
   "id": "6713c158",
   "metadata": {
    "execution": {
     "iopub.execute_input": "2025-09-08T06:22:08.494336Z",
     "iopub.status.busy": "2025-09-08T06:22:08.493814Z",
     "iopub.status.idle": "2025-09-08T06:22:08.758002Z",
     "shell.execute_reply": "2025-09-08T06:22:08.757163Z"
    },
    "papermill": {
     "duration": 0.268628,
     "end_time": "2025-09-08T06:22:08.759469",
     "exception": false,
     "start_time": "2025-09-08T06:22:08.490841",
     "status": "completed"
    },
    "tags": []
   },
   "outputs": [
    {
     "name": "stdout",
     "output_type": "stream",
     "text": [
      "Classes: ['Four', 'Leg_Bye', 'No_ball', 'Out', 'Six', 'Wide']\n",
      "Final Training images: 1536\n",
      "Final Validation images: 416\n",
      "Final Test images: 520\n",
      "Total images after filtering: 2472\n"
     ]
    }
   ],
   "source": [
    "ignore_folder = \"random_occlusion\"\n",
    "\n",
    "def filter_samples(dataset, ignore_folder):\n",
    "    # Keep only samples where ignore_folder is NOT in the path\n",
    "    filtered_samples = [s for s in dataset.samples if ignore_folder not in s[0].split(\"/\")]\n",
    "    dataset.samples = filtered_samples\n",
    "    dataset.targets = [s[1] for s in filtered_samples]  # Update targets accordingly\n",
    "    return dataset\n",
    "\n",
    "# Create original datasets\n",
    "train_ds = datasets.ImageFolder(f\"{base_dir}/train/Umpire\", transform=transform)\n",
    "val_ds   = datasets.ImageFolder(f\"{base_dir}/val/Umpire\", transform=transform)\n",
    "test_ds  = datasets.ImageFolder(f\"{base_dir}/test/Umpire\", transform=transform)\n",
    "\n",
    "# Filter out 'random_occlusion' folder\n",
    "train_ds = filter_samples(train_ds, ignore_folder)\n",
    "val_ds   = filter_samples(val_ds, ignore_folder)\n",
    "test_ds  = filter_samples(test_ds, ignore_folder)\n",
    "\n",
    "# DataLoaders\n",
    "train_loader = DataLoader(train_ds, batch_size=32, shuffle=True)\n",
    "val_loader   = DataLoader(val_ds, batch_size=32, shuffle=False)\n",
    "test_loader  = DataLoader(test_ds, batch_size=32, shuffle=False)\n",
    "\n",
    "# Classes (will remain the same)\n",
    "classes = train_ds.classes\n",
    "print(\"Classes:\", classes)\n",
    "\n",
    "# Show counts\n",
    "print(\"Final Training images:\", len(train_ds))\n",
    "print(\"Final Validation images:\", len(val_ds))\n",
    "print(\"Final Test images:\", len(test_ds))\n",
    "print(\"Total images after filtering:\", len(train_ds) + len(val_ds) + len(test_ds))\n"
   ]
  },
  {
   "cell_type": "code",
   "execution_count": 6,
   "id": "9a415eb2",
   "metadata": {
    "execution": {
     "iopub.execute_input": "2025-09-08T06:22:08.766033Z",
     "iopub.status.busy": "2025-09-08T06:22:08.765799Z",
     "iopub.status.idle": "2025-09-08T06:22:08.773506Z",
     "shell.execute_reply": "2025-09-08T06:22:08.772654Z"
    },
    "papermill": {
     "duration": 0.012421,
     "end_time": "2025-09-08T06:22:08.774705",
     "exception": false,
     "start_time": "2025-09-08T06:22:08.762284",
     "status": "completed"
    },
    "tags": []
   },
   "outputs": [
    {
     "name": "stdout",
     "output_type": "stream",
     "text": [
      "Training folders considered: {'lens_flare', 'low_resolution', 'gaussian_noise', 'chromatic_aberration', 'original', 'dirty_lens', 'blur', 'motion_blur'}\n",
      "Validation folders considered: {'lens_flare', 'low_resolution', 'gaussian_noise', 'chromatic_aberration', 'original', 'dirty_lens', 'blur', 'motion_blur'}\n",
      "Test folders considered: {'lens_flare', 'low_resolution', 'gaussian_noise', 'chromatic_aberration', 'original', 'dirty_lens', 'blur', 'motion_blur'}\n"
     ]
    }
   ],
   "source": [
    "ignore_folder = \"random_occlusion\"\n",
    "\n",
    "def get_included_folders(dataset, ignore_folder):\n",
    "    included = set()\n",
    "    for img_path, label in dataset.samples:\n",
    "        # Split the path into parts and ignore if ignore_folder is in the path\n",
    "        if ignore_folder not in img_path.split(\"/\"):\n",
    "            # The folder name just above the image (or the class folder)\n",
    "            folder_name = img_path.split(\"/\")[-2]\n",
    "            included.add(folder_name)\n",
    "    return included\n",
    "\n",
    "train_folders = get_included_folders(train_ds, ignore_folder)\n",
    "val_folders   = get_included_folders(val_ds, ignore_folder)\n",
    "test_folders  = get_included_folders(test_ds, ignore_folder)\n",
    "\n",
    "print(\"Training folders considered:\", train_folders)\n",
    "print(\"Validation folders considered:\", val_folders)\n",
    "print(\"Test folders considered:\", test_folders)\n"
   ]
  },
  {
   "cell_type": "code",
   "execution_count": 7,
   "id": "31687ca2",
   "metadata": {
    "execution": {
     "iopub.execute_input": "2025-09-08T06:22:08.781264Z",
     "iopub.status.busy": "2025-09-08T06:22:08.781048Z",
     "iopub.status.idle": "2025-09-08T06:22:14.280385Z",
     "shell.execute_reply": "2025-09-08T06:22:14.279446Z"
    },
    "papermill": {
     "duration": 5.504299,
     "end_time": "2025-09-08T06:22:14.281789",
     "exception": false,
     "start_time": "2025-09-08T06:22:08.777490",
     "status": "completed"
    },
    "tags": []
   },
   "outputs": [
    {
     "name": "stdout",
     "output_type": "stream",
     "text": [
      "🔄 Loading and filtering datasets for InceptionV3...\n",
      "✅ Classes: ['Four', 'Leg_Bye', 'No_ball', 'Out', 'Six', 'Wide']\n",
      "📊 Dataset Statistics:\n",
      "│ Training images: 1536\n",
      "│ Validation images: 416\n",
      "│ Test images: 520\n",
      "│ Total images (after filtering): 2472\n",
      "│ Excluded folder: 'random_occlusion'\n",
      "│ Number of classes: 6\n"
     ]
    }
   ],
   "source": [
    "import torch\n",
    "import torch.nn as nn\n",
    "import torch.nn.functional as F\n",
    "import torch.optim as optim\n",
    "from torch.utils.data import DataLoader\n",
    "from torchvision import datasets, transforms, models\n",
    "import matplotlib.pyplot as plt\n",
    "from sklearn.metrics import classification_report, confusion_matrix, accuracy_score\n",
    "import seaborn as sns\n",
    "import numpy as np\n",
    "import pandas as pd\n",
    "from tqdm import tqdm\n",
    "import time\n",
    "import os\n",
    "import tempfile\n",
    "\n",
    "# -----------------------------\n",
    "# 1. Data Preprocessing with Filtering (InceptionV3 - 299x299)\n",
    "# -----------------------------\n",
    "data_dir = \"/kaggle/input/ju-cricket/Cricket_Dataset_final/Task_B\"\n",
    "\n",
    "# InceptionV3 requires 299x299 input size\n",
    "transform = transforms.Compose([\n",
    "    transforms.Resize((299, 299)),  # InceptionV3 specific size\n",
    "    transforms.ToTensor(),\n",
    "    transforms.Normalize([0.485, 0.456, 0.406], \n",
    "                         [0.229, 0.224, 0.225])\n",
    "])\n",
    "\n",
    "ignore_folder = \"random_occlusion\"\n",
    "\n",
    "def filter_samples(dataset, ignore_folder):\n",
    "    \"\"\"Filter out samples containing the ignore_folder in their path\"\"\"\n",
    "    filtered_samples = [s for s in dataset.samples if ignore_folder not in s[0].split(\"/\")]\n",
    "    dataset.samples = filtered_samples\n",
    "    dataset.targets = [s[1] for s in filtered_samples]\n",
    "    return dataset\n",
    "\n",
    "# Create and filter datasets\n",
    "print(\"🔄 Loading and filtering datasets for InceptionV3...\")\n",
    "train_ds = datasets.ImageFolder(f\"{data_dir}/train/Umpire\", transform=transform)\n",
    "val_ds   = datasets.ImageFolder(f\"{data_dir}/val/Umpire\", transform=transform)\n",
    "test_ds  = datasets.ImageFolder(f\"{data_dir}/test/Umpire\", transform=transform)\n",
    "\n",
    "# Apply filtering\n",
    "train_ds = filter_samples(train_ds, ignore_folder)\n",
    "val_ds   = filter_samples(val_ds, ignore_folder)\n",
    "test_ds  = filter_samples(test_ds, ignore_folder)\n",
    "\n",
    "# Create DataLoaders\n",
    "train_loader = DataLoader(train_ds, batch_size=32, shuffle=True)\n",
    "val_loader   = DataLoader(val_ds, batch_size=32, shuffle=False)\n",
    "test_loader  = DataLoader(test_ds, batch_size=32, shuffle=False)\n",
    "\n",
    "# Display information\n",
    "classes = train_ds.classes\n",
    "print(f\"✅ Classes: {classes}\")\n",
    "print(f\"📊 Dataset Statistics:\")\n",
    "print(f\"│ Training images: {len(train_ds)}\")\n",
    "print(f\"│ Validation images: {len(val_ds)}\")\n",
    "print(f\"│ Test images: {len(test_ds)}\")\n",
    "print(f\"│ Total images (after filtering): {len(train_ds) + len(val_ds) + len(test_ds)}\")\n",
    "print(f\"│ Excluded folder: '{ignore_folder}'\")\n",
    "print(f\"│ Number of classes: {len(classes)}\")\n"
   ]
  },
  {
   "cell_type": "code",
   "execution_count": 8,
   "id": "db1e4c27",
   "metadata": {
    "execution": {
     "iopub.execute_input": "2025-09-08T06:22:14.289027Z",
     "iopub.status.busy": "2025-09-08T06:22:14.288646Z",
     "iopub.status.idle": "2025-09-08T06:22:16.280844Z",
     "shell.execute_reply": "2025-09-08T06:22:16.279829Z"
    },
    "papermill": {
     "duration": 1.998335,
     "end_time": "2025-09-08T06:22:16.283345",
     "exception": false,
     "start_time": "2025-09-08T06:22:14.285010",
     "status": "completed"
    },
    "tags": []
   },
   "outputs": [
    {
     "name": "stdout",
     "output_type": "stream",
     "text": [
      "Using device: cuda\n",
      "🔄 Loading pretrained InceptionV3 from ImageNet...\n"
     ]
    },
    {
     "name": "stderr",
     "output_type": "stream",
     "text": [
      "/usr/local/lib/python3.11/dist-packages/torchvision/models/_utils.py:208: UserWarning: The parameter 'pretrained' is deprecated since 0.13 and may be removed in the future, please use 'weights' instead.\n",
      "  warnings.warn(\n",
      "/usr/local/lib/python3.11/dist-packages/torchvision/models/_utils.py:223: UserWarning: Arguments other than a weight enum or `None` for 'weights' are deprecated since 0.13 and may be removed in the future. The current behavior is equivalent to passing `weights=Inception_V3_Weights.IMAGENET1K_V1`. You can also use `weights=Inception_V3_Weights.DEFAULT` to get the most up-to-date weights.\n",
      "  warnings.warn(msg)\n",
      "Downloading: \"https://download.pytorch.org/models/inception_v3_google-0cc3c7bd.pth\" to /root/.cache/torch/hub/checkpoints/inception_v3_google-0cc3c7bd.pth\n",
      "100%|██████████| 104M/104M [00:00<00:00, 193MB/s] \n"
     ]
    },
    {
     "name": "stdout",
     "output_type": "stream",
     "text": [
      "✅ Model loaded with 6 output classes\n",
      "📊 Total parameters: 25,124,558\n",
      "📊 Trainable parameters: 25,124,558\n",
      "📊 Model file size: 96.17 MB\n",
      "📋 Model Architecture:\n",
      "│ Input size: (3, 299, 299)\n",
      "│ InceptionV3 features: 2048\n",
      "│ Output classes: 6\n",
      "│ Auxiliary classifier: Disabled\n"
     ]
    }
   ],
   "source": [
    "import torch\n",
    "import torch.nn as nn\n",
    "import torch.nn.functional as F\n",
    "import numpy as np\n",
    "import matplotlib.pyplot as plt\n",
    "import seaborn as sns\n",
    "from torchsummary import summary\n",
    "from sklearn.metrics import accuracy_score, classification_report, confusion_matrix\n",
    "import pandas as pd\n",
    "from tqdm import tqdm\n",
    "import time\n",
    "from torchvision import models\n",
    "import tempfile\n",
    "import os\n",
    "\n",
    "\n",
    "# -----------------------------\n",
    "# 2. Pretrained InceptionV3 Model\n",
    "# -----------------------------\n",
    "device = torch.device('cuda' if torch.cuda.is_available() else 'cpu')\n",
    "print(f\"Using device: {device}\")\n",
    "\n",
    "# Load pretrained InceptionV3\n",
    "print(\"🔄 Loading pretrained InceptionV3 from ImageNet...\")\n",
    "model = models.inception_v3(pretrained=True)\n",
    "\n",
    "# InceptionV3 has auxiliary classifier - disable it for fine-tuning\n",
    "model.aux_logits = False\n",
    "\n",
    "# Replace final classification layer\n",
    "num_features = model.fc.in_features  # Get input features (2048)\n",
    "model.fc = nn.Linear(num_features, len(classes))  # Replace final layer\n",
    "model = model.to(device)\n",
    "\n",
    "print(f\"✅ Model loaded with {len(classes)} output classes\")\n",
    "\n",
    "# Calculate model parameters and size\n",
    "total_params = sum(p.numel() for p in model.parameters())\n",
    "trainable_params = sum(p.numel() for p in model.parameters() if p.requires_grad)\n",
    "\n",
    "# Calculate model file size\n",
    "with tempfile.NamedTemporaryFile(delete=False, suffix='.pth') as tmp_file:\n",
    "    torch.save(model.state_dict(), tmp_file.name)\n",
    "    model_size_mb = os.path.getsize(tmp_file.name) / (1024 * 1024)\n",
    "    os.unlink(tmp_file.name)\n",
    "\n",
    "print(f\"📊 Total parameters: {total_params:,}\")\n",
    "print(f\"📊 Trainable parameters: {trainable_params:,}\")\n",
    "print(f\"📊 Model file size: {model_size_mb:.2f} MB\")\n",
    "print(f\"📋 Model Architecture:\")\n",
    "print(f\"│ Input size: (3, 299, 299)\")  # InceptionV3 specific\n",
    "print(f\"│ InceptionV3 features: 2048\")\n",
    "print(f\"│ Output classes: {len(classes)}\")\n",
    "print(f\"│ Auxiliary classifier: Disabled\")\n"
   ]
  },
  {
   "cell_type": "code",
   "execution_count": 9,
   "id": "9e3cd99b",
   "metadata": {
    "execution": {
     "iopub.execute_input": "2025-09-08T06:22:16.294317Z",
     "iopub.status.busy": "2025-09-08T06:22:16.294012Z",
     "iopub.status.idle": "2025-09-08T06:58:21.836242Z",
     "shell.execute_reply": "2025-09-08T06:58:21.835526Z"
    },
    "papermill": {
     "duration": 2165.55118,
     "end_time": "2025-09-08T06:58:21.839251",
     "exception": false,
     "start_time": "2025-09-08T06:22:16.288071",
     "status": "completed"
    },
    "tags": []
   },
   "outputs": [
    {
     "name": "stdout",
     "output_type": "stream",
     "text": [
      "\n",
      "📋 Training Configuration:\n",
      "│ Model: InceptionV3 (pretrained)\n",
      "│ Optimizer: Adam (lr=0.0001)\n",
      "│ Loss Function: CrossEntropyLoss\n",
      "│ Batch Size: 32\n",
      "│ Device: cuda\n",
      "│ Data: Filtered (excluding 'random_occlusion')\n",
      "\n",
      "🚀 Starting InceptionV3 Fine-tuning for 50 epochs...\n",
      "================================================================================\n",
      "\n",
      "📈 Epoch 1/50\n",
      "--------------------------------------------------\n",
      "🔄 Training Phase...\n"
     ]
    },
    {
     "name": "stderr",
     "output_type": "stream",
     "text": [
      "Training: 100%|██████████████████████████████| 48/48 [00:50<00:00,  1.06s/it, Loss=0.9675, Acc=0.6836]\n"
     ]
    },
    {
     "name": "stdout",
     "output_type": "stream",
     "text": [
      "✅ Training completed in 50.73s\n",
      "🔍 Validation Phase...\n"
     ]
    },
    {
     "name": "stderr",
     "output_type": "stream",
     "text": [
      "Validation: 100%|██████████████████████████████| 13/13 [00:08<00:00,  1.49it/s, Loss=0.7311, Acc=0.7524]\n"
     ]
    },
    {
     "name": "stdout",
     "output_type": "stream",
     "text": [
      "✅ Validation completed in 8.71s\n",
      "🌟 New best model found! Validation Loss: 0.7311\n",
      "\n",
      "📊 Epoch 1 Summary:\n",
      "│ Train Loss: 0.9675 | Train Acc: 0.6836\n",
      "│ Val Loss:   0.7311 | Val Acc:   0.7524\n",
      "│ Train Time: 50.73s | Val Time: 8.71s\n",
      "│ Total Epoch Time: 59.45s\n",
      "│ Best Val Loss: 0.7311 (Epoch 1)\n",
      "│ GPU Memory: 0.4GB / 4.0GB\n",
      "================================================================================\n",
      "\n",
      "📈 Epoch 2/50\n",
      "--------------------------------------------------\n",
      "🔄 Training Phase...\n"
     ]
    },
    {
     "name": "stderr",
     "output_type": "stream",
     "text": [
      "Training: 100%|██████████████████████████████| 48/48 [00:34<00:00,  1.39it/s, Loss=0.1370, Acc=0.9772]\n"
     ]
    },
    {
     "name": "stdout",
     "output_type": "stream",
     "text": [
      "✅ Training completed in 34.45s\n",
      "🔍 Validation Phase...\n"
     ]
    },
    {
     "name": "stderr",
     "output_type": "stream",
     "text": [
      "Validation: 100%|██████████████████████████████| 13/13 [00:04<00:00,  2.64it/s, Loss=0.5790, Acc=0.8149]\n"
     ]
    },
    {
     "name": "stdout",
     "output_type": "stream",
     "text": [
      "✅ Validation completed in 4.93s\n",
      "🌟 New best model found! Validation Loss: 0.5790\n",
      "\n",
      "📊 Epoch 2 Summary:\n",
      "│ Train Loss: 0.1370 | Train Acc: 0.9772\n",
      "│ Val Loss:   0.5790 | Val Acc:   0.8149\n",
      "│ Train Time: 34.45s | Val Time: 4.93s\n",
      "│ Total Epoch Time: 39.39s\n",
      "│ Best Val Loss: 0.5790 (Epoch 2)\n",
      "│ GPU Memory: 0.4GB / 4.0GB\n",
      "================================================================================\n",
      "\n",
      "📈 Epoch 3/50\n",
      "--------------------------------------------------\n",
      "🔄 Training Phase...\n"
     ]
    },
    {
     "name": "stderr",
     "output_type": "stream",
     "text": [
      "Training: 100%|██████████████████████████████| 48/48 [00:34<00:00,  1.37it/s, Loss=0.0232, Acc=0.9993]\n"
     ]
    },
    {
     "name": "stdout",
     "output_type": "stream",
     "text": [
      "✅ Training completed in 34.98s\n",
      "🔍 Validation Phase...\n"
     ]
    },
    {
     "name": "stderr",
     "output_type": "stream",
     "text": [
      "Validation: 100%|██████████████████████████████| 13/13 [00:05<00:00,  2.53it/s, Loss=0.5981, Acc=0.8221]\n"
     ]
    },
    {
     "name": "stdout",
     "output_type": "stream",
     "text": [
      "✅ Validation completed in 5.15s\n",
      "\n",
      "📊 Epoch 3 Summary:\n",
      "│ Train Loss: 0.0232 | Train Acc: 0.9993\n",
      "│ Val Loss:   0.5981 | Val Acc:   0.8221\n",
      "│ Train Time: 34.98s | Val Time: 5.15s\n",
      "│ Total Epoch Time: 40.14s\n",
      "│ Best Val Loss: 0.5790 (Epoch 2)\n",
      "│ GPU Memory: 0.4GB / 4.0GB\n",
      "================================================================================\n",
      "\n",
      "📈 Epoch 4/50\n",
      "--------------------------------------------------\n",
      "🔄 Training Phase...\n"
     ]
    },
    {
     "name": "stderr",
     "output_type": "stream",
     "text": [
      "Training: 100%|██████████████████████████████| 48/48 [00:35<00:00,  1.36it/s, Loss=0.0156, Acc=0.9974]\n"
     ]
    },
    {
     "name": "stdout",
     "output_type": "stream",
     "text": [
      "✅ Training completed in 35.27s\n",
      "🔍 Validation Phase...\n"
     ]
    },
    {
     "name": "stderr",
     "output_type": "stream",
     "text": [
      "Validation: 100%|██████████████████████████████| 13/13 [00:05<00:00,  2.57it/s, Loss=0.6424, Acc=0.8293]\n"
     ]
    },
    {
     "name": "stdout",
     "output_type": "stream",
     "text": [
      "✅ Validation completed in 5.07s\n",
      "\n",
      "📊 Epoch 4 Summary:\n",
      "│ Train Loss: 0.0156 | Train Acc: 0.9974\n",
      "│ Val Loss:   0.6424 | Val Acc:   0.8293\n",
      "│ Train Time: 35.27s | Val Time: 5.07s\n",
      "│ Total Epoch Time: 40.35s\n",
      "│ Best Val Loss: 0.5790 (Epoch 2)\n",
      "│ GPU Memory: 0.4GB / 4.0GB\n",
      "================================================================================\n",
      "\n",
      "📈 Epoch 5/50\n",
      "--------------------------------------------------\n",
      "🔄 Training Phase...\n"
     ]
    },
    {
     "name": "stderr",
     "output_type": "stream",
     "text": [
      "Training: 100%|██████████████████████████████| 48/48 [00:36<00:00,  1.33it/s, Loss=0.0199, Acc=0.9961]\n"
     ]
    },
    {
     "name": "stdout",
     "output_type": "stream",
     "text": [
      "✅ Training completed in 36.04s\n",
      "🔍 Validation Phase...\n"
     ]
    },
    {
     "name": "stderr",
     "output_type": "stream",
     "text": [
      "Validation: 100%|██████████████████████████████| 13/13 [00:05<00:00,  2.47it/s, Loss=0.6416, Acc=0.8077]\n"
     ]
    },
    {
     "name": "stdout",
     "output_type": "stream",
     "text": [
      "✅ Validation completed in 5.28s\n",
      "\n",
      "📊 Epoch 5 Summary:\n",
      "│ Train Loss: 0.0199 | Train Acc: 0.9961\n",
      "│ Val Loss:   0.6416 | Val Acc:   0.8077\n",
      "│ Train Time: 36.04s | Val Time: 5.28s\n",
      "│ Total Epoch Time: 41.32s\n",
      "│ Best Val Loss: 0.5790 (Epoch 2)\n",
      "│ GPU Memory: 0.4GB / 4.0GB\n",
      "================================================================================\n",
      "\n",
      "📈 Epoch 6/50\n",
      "--------------------------------------------------\n",
      "🔄 Training Phase...\n"
     ]
    },
    {
     "name": "stderr",
     "output_type": "stream",
     "text": [
      "Training: 100%|██████████████████████████████| 48/48 [00:36<00:00,  1.32it/s, Loss=0.0113, Acc=0.9993]\n"
     ]
    },
    {
     "name": "stdout",
     "output_type": "stream",
     "text": [
      "✅ Training completed in 36.46s\n",
      "🔍 Validation Phase...\n"
     ]
    },
    {
     "name": "stderr",
     "output_type": "stream",
     "text": [
      "Validation: 100%|██████████████████████████████| 13/13 [00:05<00:00,  2.50it/s, Loss=0.7141, Acc=0.8005]\n"
     ]
    },
    {
     "name": "stdout",
     "output_type": "stream",
     "text": [
      "✅ Validation completed in 5.22s\n",
      "\n",
      "📊 Epoch 6 Summary:\n",
      "│ Train Loss: 0.0113 | Train Acc: 0.9993\n",
      "│ Val Loss:   0.7141 | Val Acc:   0.8005\n",
      "│ Train Time: 36.46s | Val Time: 5.22s\n",
      "│ Total Epoch Time: 41.68s\n",
      "│ Best Val Loss: 0.5790 (Epoch 2)\n",
      "│ GPU Memory: 0.4GB / 4.0GB\n",
      "================================================================================\n",
      "\n",
      "📈 Epoch 7/50\n",
      "--------------------------------------------------\n",
      "🔄 Training Phase...\n"
     ]
    },
    {
     "name": "stderr",
     "output_type": "stream",
     "text": [
      "Training: 100%|██████████████████████████████| 48/48 [00:37<00:00,  1.29it/s, Loss=0.0155, Acc=0.9967]\n"
     ]
    },
    {
     "name": "stdout",
     "output_type": "stream",
     "text": [
      "✅ Training completed in 37.30s\n",
      "🔍 Validation Phase...\n"
     ]
    },
    {
     "name": "stderr",
     "output_type": "stream",
     "text": [
      "Validation: 100%|██████████████████████████████| 13/13 [00:05<00:00,  2.47it/s, Loss=0.7422, Acc=0.8125]\n"
     ]
    },
    {
     "name": "stdout",
     "output_type": "stream",
     "text": [
      "✅ Validation completed in 5.27s\n",
      "\n",
      "📊 Epoch 7 Summary:\n",
      "│ Train Loss: 0.0155 | Train Acc: 0.9967\n",
      "│ Val Loss:   0.7422 | Val Acc:   0.8125\n",
      "│ Train Time: 37.30s | Val Time: 5.27s\n",
      "│ Total Epoch Time: 42.58s\n",
      "│ Best Val Loss: 0.5790 (Epoch 2)\n",
      "│ GPU Memory: 0.4GB / 4.0GB\n",
      "================================================================================\n",
      "\n",
      "📈 Epoch 8/50\n",
      "--------------------------------------------------\n",
      "🔄 Training Phase...\n"
     ]
    },
    {
     "name": "stderr",
     "output_type": "stream",
     "text": [
      "Training: 100%|██████████████████████████████| 48/48 [00:36<00:00,  1.30it/s, Loss=0.0075, Acc=1.0000]\n"
     ]
    },
    {
     "name": "stdout",
     "output_type": "stream",
     "text": [
      "✅ Training completed in 36.88s\n",
      "🔍 Validation Phase...\n"
     ]
    },
    {
     "name": "stderr",
     "output_type": "stream",
     "text": [
      "Validation: 100%|██████████████████████████████| 13/13 [00:05<00:00,  2.44it/s, Loss=0.6619, Acc=0.8197]\n"
     ]
    },
    {
     "name": "stdout",
     "output_type": "stream",
     "text": [
      "✅ Validation completed in 5.33s\n",
      "\n",
      "📊 Epoch 8 Summary:\n",
      "│ Train Loss: 0.0075 | Train Acc: 1.0000\n",
      "│ Val Loss:   0.6619 | Val Acc:   0.8197\n",
      "│ Train Time: 36.88s | Val Time: 5.33s\n",
      "│ Total Epoch Time: 42.21s\n",
      "│ Best Val Loss: 0.5790 (Epoch 2)\n",
      "│ GPU Memory: 0.4GB / 4.0GB\n",
      "================================================================================\n",
      "\n",
      "📈 Epoch 9/50\n",
      "--------------------------------------------------\n",
      "🔄 Training Phase...\n"
     ]
    },
    {
     "name": "stderr",
     "output_type": "stream",
     "text": [
      "Training: 100%|██████████████████████████████| 48/48 [00:36<00:00,  1.30it/s, Loss=0.0056, Acc=0.9993]\n"
     ]
    },
    {
     "name": "stdout",
     "output_type": "stream",
     "text": [
      "✅ Training completed in 36.85s\n",
      "🔍 Validation Phase...\n"
     ]
    },
    {
     "name": "stderr",
     "output_type": "stream",
     "text": [
      "Validation: 100%|██████████████████████████████| 13/13 [00:05<00:00,  2.50it/s, Loss=0.6182, Acc=0.8438]\n"
     ]
    },
    {
     "name": "stdout",
     "output_type": "stream",
     "text": [
      "✅ Validation completed in 5.21s\n",
      "\n",
      "📊 Epoch 9 Summary:\n",
      "│ Train Loss: 0.0056 | Train Acc: 0.9993\n",
      "│ Val Loss:   0.6182 | Val Acc:   0.8438\n",
      "│ Train Time: 36.85s | Val Time: 5.21s\n",
      "│ Total Epoch Time: 42.06s\n",
      "│ Best Val Loss: 0.5790 (Epoch 2)\n",
      "│ GPU Memory: 0.4GB / 4.0GB\n",
      "================================================================================\n",
      "\n",
      "📈 Epoch 10/50\n",
      "--------------------------------------------------\n",
      "🔄 Training Phase...\n"
     ]
    },
    {
     "name": "stderr",
     "output_type": "stream",
     "text": [
      "Training: 100%|██████████████████████████████| 48/48 [00:37<00:00,  1.30it/s, Loss=0.0035, Acc=1.0000]\n"
     ]
    },
    {
     "name": "stdout",
     "output_type": "stream",
     "text": [
      "✅ Training completed in 37.01s\n",
      "🔍 Validation Phase...\n"
     ]
    },
    {
     "name": "stderr",
     "output_type": "stream",
     "text": [
      "Validation: 100%|██████████████████████████████| 13/13 [00:05<00:00,  2.49it/s, Loss=0.6635, Acc=0.8365]\n"
     ]
    },
    {
     "name": "stdout",
     "output_type": "stream",
     "text": [
      "✅ Validation completed in 5.22s\n",
      "\n",
      "📊 Epoch 10 Summary:\n",
      "│ Train Loss: 0.0035 | Train Acc: 1.0000\n",
      "│ Val Loss:   0.6635 | Val Acc:   0.8365\n",
      "│ Train Time: 37.01s | Val Time: 5.22s\n",
      "│ Total Epoch Time: 42.23s\n",
      "│ Best Val Loss: 0.5790 (Epoch 2)\n",
      "│ GPU Memory: 0.4GB / 4.0GB\n",
      "================================================================================\n",
      "\n",
      "📈 Epoch 11/50\n",
      "--------------------------------------------------\n",
      "🔄 Training Phase...\n"
     ]
    },
    {
     "name": "stderr",
     "output_type": "stream",
     "text": [
      "Training: 100%|██████████████████████████████| 48/48 [00:37<00:00,  1.29it/s, Loss=0.0024, Acc=1.0000]\n"
     ]
    },
    {
     "name": "stdout",
     "output_type": "stream",
     "text": [
      "✅ Training completed in 37.24s\n",
      "🔍 Validation Phase...\n"
     ]
    },
    {
     "name": "stderr",
     "output_type": "stream",
     "text": [
      "Validation: 100%|██████████████████████████████| 13/13 [00:05<00:00,  2.35it/s, Loss=0.5955, Acc=0.8534]\n"
     ]
    },
    {
     "name": "stdout",
     "output_type": "stream",
     "text": [
      "✅ Validation completed in 5.53s\n",
      "\n",
      "📊 Epoch 11 Summary:\n",
      "│ Train Loss: 0.0024 | Train Acc: 1.0000\n",
      "│ Val Loss:   0.5955 | Val Acc:   0.8534\n",
      "│ Train Time: 37.24s | Val Time: 5.53s\n",
      "│ Total Epoch Time: 42.78s\n",
      "│ Best Val Loss: 0.5790 (Epoch 2)\n",
      "│ GPU Memory: 0.4GB / 4.0GB\n",
      "================================================================================\n",
      "\n",
      "📈 Epoch 12/50\n",
      "--------------------------------------------------\n",
      "🔄 Training Phase...\n"
     ]
    },
    {
     "name": "stderr",
     "output_type": "stream",
     "text": [
      "Training: 100%|██████████████████████████████| 48/48 [00:37<00:00,  1.28it/s, Loss=0.0020, Acc=1.0000]\n"
     ]
    },
    {
     "name": "stdout",
     "output_type": "stream",
     "text": [
      "✅ Training completed in 37.38s\n",
      "🔍 Validation Phase...\n"
     ]
    },
    {
     "name": "stderr",
     "output_type": "stream",
     "text": [
      "Validation: 100%|██████████████████████████████| 13/13 [00:05<00:00,  2.51it/s, Loss=0.6270, Acc=0.8558]\n"
     ]
    },
    {
     "name": "stdout",
     "output_type": "stream",
     "text": [
      "✅ Validation completed in 5.19s\n",
      "\n",
      "📊 Epoch 12 Summary:\n",
      "│ Train Loss: 0.0020 | Train Acc: 1.0000\n",
      "│ Val Loss:   0.6270 | Val Acc:   0.8558\n",
      "│ Train Time: 37.38s | Val Time: 5.19s\n",
      "│ Total Epoch Time: 42.57s\n",
      "│ Best Val Loss: 0.5790 (Epoch 2)\n",
      "│ GPU Memory: 0.4GB / 4.0GB\n",
      "================================================================================\n",
      "\n",
      "📈 Epoch 13/50\n",
      "--------------------------------------------------\n",
      "🔄 Training Phase...\n"
     ]
    },
    {
     "name": "stderr",
     "output_type": "stream",
     "text": [
      "Training: 100%|██████████████████████████████| 48/48 [00:37<00:00,  1.28it/s, Loss=0.0017, Acc=1.0000]\n"
     ]
    },
    {
     "name": "stdout",
     "output_type": "stream",
     "text": [
      "✅ Training completed in 37.49s\n",
      "🔍 Validation Phase...\n"
     ]
    },
    {
     "name": "stderr",
     "output_type": "stream",
     "text": [
      "Validation: 100%|██████████████████████████████| 13/13 [00:05<00:00,  2.32it/s, Loss=0.6301, Acc=0.8630]\n"
     ]
    },
    {
     "name": "stdout",
     "output_type": "stream",
     "text": [
      "✅ Validation completed in 5.61s\n",
      "\n",
      "📊 Epoch 13 Summary:\n",
      "│ Train Loss: 0.0017 | Train Acc: 1.0000\n",
      "│ Val Loss:   0.6301 | Val Acc:   0.8630\n",
      "│ Train Time: 37.49s | Val Time: 5.61s\n",
      "│ Total Epoch Time: 43.11s\n",
      "│ Best Val Loss: 0.5790 (Epoch 2)\n",
      "│ GPU Memory: 0.4GB / 4.0GB\n",
      "================================================================================\n",
      "\n",
      "📈 Epoch 14/50\n",
      "--------------------------------------------------\n",
      "🔄 Training Phase...\n"
     ]
    },
    {
     "name": "stderr",
     "output_type": "stream",
     "text": [
      "Training: 100%|██████████████████████████████| 48/48 [00:37<00:00,  1.29it/s, Loss=0.0011, Acc=1.0000]\n"
     ]
    },
    {
     "name": "stdout",
     "output_type": "stream",
     "text": [
      "✅ Training completed in 37.29s\n",
      "🔍 Validation Phase...\n"
     ]
    },
    {
     "name": "stderr",
     "output_type": "stream",
     "text": [
      "Validation: 100%|██████████████████████████████| 13/13 [00:05<00:00,  2.38it/s, Loss=0.6117, Acc=0.8702]\n"
     ]
    },
    {
     "name": "stdout",
     "output_type": "stream",
     "text": [
      "✅ Validation completed in 5.46s\n",
      "\n",
      "📊 Epoch 14 Summary:\n",
      "│ Train Loss: 0.0011 | Train Acc: 1.0000\n",
      "│ Val Loss:   0.6117 | Val Acc:   0.8702\n",
      "│ Train Time: 37.29s | Val Time: 5.46s\n",
      "│ Total Epoch Time: 42.75s\n",
      "│ Best Val Loss: 0.5790 (Epoch 2)\n",
      "│ GPU Memory: 0.4GB / 4.0GB\n",
      "================================================================================\n",
      "\n",
      "📈 Epoch 15/50\n",
      "--------------------------------------------------\n",
      "🔄 Training Phase...\n"
     ]
    },
    {
     "name": "stderr",
     "output_type": "stream",
     "text": [
      "Training: 100%|██████████████████████████████| 48/48 [00:36<00:00,  1.30it/s, Loss=0.0012, Acc=1.0000]\n"
     ]
    },
    {
     "name": "stdout",
     "output_type": "stream",
     "text": [
      "✅ Training completed in 36.97s\n",
      "🔍 Validation Phase...\n"
     ]
    },
    {
     "name": "stderr",
     "output_type": "stream",
     "text": [
      "Validation: 100%|██████████████████████████████| 13/13 [00:05<00:00,  2.47it/s, Loss=0.7621, Acc=0.8197]\n"
     ]
    },
    {
     "name": "stdout",
     "output_type": "stream",
     "text": [
      "✅ Validation completed in 5.27s\n",
      "\n",
      "📊 Epoch 15 Summary:\n",
      "│ Train Loss: 0.0012 | Train Acc: 1.0000\n",
      "│ Val Loss:   0.7621 | Val Acc:   0.8197\n",
      "│ Train Time: 36.97s | Val Time: 5.27s\n",
      "│ Total Epoch Time: 42.24s\n",
      "│ Best Val Loss: 0.5790 (Epoch 2)\n",
      "│ GPU Memory: 0.4GB / 4.0GB\n",
      "================================================================================\n",
      "\n",
      "📈 Epoch 16/50\n",
      "--------------------------------------------------\n",
      "🔄 Training Phase...\n"
     ]
    },
    {
     "name": "stderr",
     "output_type": "stream",
     "text": [
      "Training: 100%|██████████████████████████████| 48/48 [00:36<00:00,  1.30it/s, Loss=0.0014, Acc=1.0000]\n"
     ]
    },
    {
     "name": "stdout",
     "output_type": "stream",
     "text": [
      "✅ Training completed in 36.98s\n",
      "🔍 Validation Phase...\n"
     ]
    },
    {
     "name": "stderr",
     "output_type": "stream",
     "text": [
      "Validation: 100%|██████████████████████████████| 13/13 [00:05<00:00,  2.46it/s, Loss=0.7074, Acc=0.8365]\n"
     ]
    },
    {
     "name": "stdout",
     "output_type": "stream",
     "text": [
      "✅ Validation completed in 5.28s\n",
      "\n",
      "📊 Epoch 16 Summary:\n",
      "│ Train Loss: 0.0014 | Train Acc: 1.0000\n",
      "│ Val Loss:   0.7074 | Val Acc:   0.8365\n",
      "│ Train Time: 36.98s | Val Time: 5.28s\n",
      "│ Total Epoch Time: 42.27s\n",
      "│ Best Val Loss: 0.5790 (Epoch 2)\n",
      "│ GPU Memory: 0.4GB / 4.0GB\n",
      "================================================================================\n",
      "\n",
      "📈 Epoch 17/50\n",
      "--------------------------------------------------\n",
      "🔄 Training Phase...\n"
     ]
    },
    {
     "name": "stderr",
     "output_type": "stream",
     "text": [
      "Training: 100%|██████████████████████████████| 48/48 [00:37<00:00,  1.29it/s, Loss=0.0206, Acc=0.9954]\n"
     ]
    },
    {
     "name": "stdout",
     "output_type": "stream",
     "text": [
      "✅ Training completed in 37.14s\n",
      "🔍 Validation Phase...\n"
     ]
    },
    {
     "name": "stderr",
     "output_type": "stream",
     "text": [
      "Validation: 100%|██████████████████████████████| 13/13 [00:05<00:00,  2.47it/s, Loss=0.7955, Acc=0.7957]\n"
     ]
    },
    {
     "name": "stdout",
     "output_type": "stream",
     "text": [
      "✅ Validation completed in 5.27s\n",
      "\n",
      "📊 Epoch 17 Summary:\n",
      "│ Train Loss: 0.0206 | Train Acc: 0.9954\n",
      "│ Val Loss:   0.7955 | Val Acc:   0.7957\n",
      "│ Train Time: 37.14s | Val Time: 5.27s\n",
      "│ Total Epoch Time: 42.42s\n",
      "│ Best Val Loss: 0.5790 (Epoch 2)\n",
      "│ GPU Memory: 0.4GB / 4.0GB\n",
      "================================================================================\n",
      "\n",
      "📈 Epoch 18/50\n",
      "--------------------------------------------------\n",
      "🔄 Training Phase...\n"
     ]
    },
    {
     "name": "stderr",
     "output_type": "stream",
     "text": [
      "Training: 100%|██████████████████████████████| 48/48 [00:40<00:00,  1.17it/s, Loss=0.0472, Acc=0.9831]\n"
     ]
    },
    {
     "name": "stdout",
     "output_type": "stream",
     "text": [
      "✅ Training completed in 40.95s\n",
      "🔍 Validation Phase...\n"
     ]
    },
    {
     "name": "stderr",
     "output_type": "stream",
     "text": [
      "Validation: 100%|██████████████████████████████| 13/13 [00:07<00:00,  1.75it/s, Loss=0.6541, Acc=0.8197]\n"
     ]
    },
    {
     "name": "stdout",
     "output_type": "stream",
     "text": [
      "✅ Validation completed in 7.45s\n",
      "\n",
      "📊 Epoch 18 Summary:\n",
      "│ Train Loss: 0.0472 | Train Acc: 0.9831\n",
      "│ Val Loss:   0.6541 | Val Acc:   0.8197\n",
      "│ Train Time: 40.95s | Val Time: 7.45s\n",
      "│ Total Epoch Time: 48.41s\n",
      "│ Best Val Loss: 0.5790 (Epoch 2)\n",
      "│ GPU Memory: 0.4GB / 4.0GB\n",
      "================================================================================\n",
      "\n",
      "📈 Epoch 19/50\n",
      "--------------------------------------------------\n",
      "🔄 Training Phase...\n"
     ]
    },
    {
     "name": "stderr",
     "output_type": "stream",
     "text": [
      "Training: 100%|██████████████████████████████| 48/48 [00:44<00:00,  1.09it/s, Loss=0.0276, Acc=0.9935]\n"
     ]
    },
    {
     "name": "stdout",
     "output_type": "stream",
     "text": [
      "✅ Training completed in 44.04s\n",
      "🔍 Validation Phase...\n"
     ]
    },
    {
     "name": "stderr",
     "output_type": "stream",
     "text": [
      "Validation: 100%|██████████████████████████████| 13/13 [00:06<00:00,  1.88it/s, Loss=0.6048, Acc=0.8413]\n"
     ]
    },
    {
     "name": "stdout",
     "output_type": "stream",
     "text": [
      "✅ Validation completed in 6.93s\n",
      "\n",
      "📊 Epoch 19 Summary:\n",
      "│ Train Loss: 0.0276 | Train Acc: 0.9935\n",
      "│ Val Loss:   0.6048 | Val Acc:   0.8413\n",
      "│ Train Time: 44.04s | Val Time: 6.93s\n",
      "│ Total Epoch Time: 50.97s\n",
      "│ Best Val Loss: 0.5790 (Epoch 2)\n",
      "│ GPU Memory: 0.4GB / 4.0GB\n",
      "================================================================================\n",
      "\n",
      "📈 Epoch 20/50\n",
      "--------------------------------------------------\n",
      "🔄 Training Phase...\n"
     ]
    },
    {
     "name": "stderr",
     "output_type": "stream",
     "text": [
      "Training: 100%|██████████████████████████████| 48/48 [00:43<00:00,  1.10it/s, Loss=0.0149, Acc=0.9961]\n"
     ]
    },
    {
     "name": "stdout",
     "output_type": "stream",
     "text": [
      "✅ Training completed in 43.71s\n",
      "🔍 Validation Phase...\n"
     ]
    },
    {
     "name": "stderr",
     "output_type": "stream",
     "text": [
      "Validation: 100%|██████████████████████████████| 13/13 [00:07<00:00,  1.85it/s, Loss=0.5141, Acc=0.8846]\n"
     ]
    },
    {
     "name": "stdout",
     "output_type": "stream",
     "text": [
      "✅ Validation completed in 7.03s\n",
      "🌟 New best model found! Validation Loss: 0.5141\n",
      "\n",
      "📊 Epoch 20 Summary:\n",
      "│ Train Loss: 0.0149 | Train Acc: 0.9961\n",
      "│ Val Loss:   0.5141 | Val Acc:   0.8846\n",
      "│ Train Time: 43.71s | Val Time: 7.03s\n",
      "│ Total Epoch Time: 50.74s\n",
      "│ Best Val Loss: 0.5141 (Epoch 20)\n",
      "│ GPU Memory: 0.4GB / 4.0GB\n",
      "================================================================================\n",
      "\n",
      "📈 Epoch 21/50\n",
      "--------------------------------------------------\n",
      "🔄 Training Phase...\n"
     ]
    },
    {
     "name": "stderr",
     "output_type": "stream",
     "text": [
      "Training: 100%|██████████████████████████████| 48/48 [00:40<00:00,  1.20it/s, Loss=0.0042, Acc=0.9993]\n"
     ]
    },
    {
     "name": "stdout",
     "output_type": "stream",
     "text": [
      "✅ Training completed in 40.06s\n",
      "🔍 Validation Phase...\n"
     ]
    },
    {
     "name": "stderr",
     "output_type": "stream",
     "text": [
      "Validation: 100%|██████████████████████████████| 13/13 [00:05<00:00,  2.49it/s, Loss=0.5931, Acc=0.8726]\n"
     ]
    },
    {
     "name": "stdout",
     "output_type": "stream",
     "text": [
      "✅ Validation completed in 5.23s\n",
      "\n",
      "📊 Epoch 21 Summary:\n",
      "│ Train Loss: 0.0042 | Train Acc: 0.9993\n",
      "│ Val Loss:   0.5931 | Val Acc:   0.8726\n",
      "│ Train Time: 40.06s | Val Time: 5.23s\n",
      "│ Total Epoch Time: 45.29s\n",
      "│ Best Val Loss: 0.5141 (Epoch 20)\n",
      "│ GPU Memory: 0.4GB / 4.0GB\n",
      "================================================================================\n",
      "\n",
      "📈 Epoch 22/50\n",
      "--------------------------------------------------\n",
      "🔄 Training Phase...\n"
     ]
    },
    {
     "name": "stderr",
     "output_type": "stream",
     "text": [
      "Training: 100%|██████████████████████████████| 48/48 [00:37<00:00,  1.30it/s, Loss=0.0013, Acc=1.0000]\n"
     ]
    },
    {
     "name": "stdout",
     "output_type": "stream",
     "text": [
      "✅ Training completed in 37.05s\n",
      "🔍 Validation Phase...\n"
     ]
    },
    {
     "name": "stderr",
     "output_type": "stream",
     "text": [
      "Validation: 100%|██████████████████████████████| 13/13 [00:05<00:00,  2.51it/s, Loss=0.5852, Acc=0.8846]\n"
     ]
    },
    {
     "name": "stdout",
     "output_type": "stream",
     "text": [
      "✅ Validation completed in 5.19s\n",
      "\n",
      "📊 Epoch 22 Summary:\n",
      "│ Train Loss: 0.0013 | Train Acc: 1.0000\n",
      "│ Val Loss:   0.5852 | Val Acc:   0.8846\n",
      "│ Train Time: 37.05s | Val Time: 5.19s\n",
      "│ Total Epoch Time: 42.25s\n",
      "│ Best Val Loss: 0.5141 (Epoch 20)\n",
      "│ GPU Memory: 0.4GB / 4.0GB\n",
      "================================================================================\n",
      "\n",
      "📈 Epoch 23/50\n",
      "--------------------------------------------------\n",
      "🔄 Training Phase...\n"
     ]
    },
    {
     "name": "stderr",
     "output_type": "stream",
     "text": [
      "Training: 100%|██████████████████████████████| 48/48 [00:36<00:00,  1.30it/s, Loss=0.0010, Acc=1.0000]\n"
     ]
    },
    {
     "name": "stdout",
     "output_type": "stream",
     "text": [
      "✅ Training completed in 36.88s\n",
      "🔍 Validation Phase...\n"
     ]
    },
    {
     "name": "stderr",
     "output_type": "stream",
     "text": [
      "Validation: 100%|██████████████████████████████| 13/13 [00:05<00:00,  2.33it/s, Loss=0.6189, Acc=0.8678]\n"
     ]
    },
    {
     "name": "stdout",
     "output_type": "stream",
     "text": [
      "✅ Validation completed in 5.59s\n",
      "\n",
      "📊 Epoch 23 Summary:\n",
      "│ Train Loss: 0.0010 | Train Acc: 1.0000\n",
      "│ Val Loss:   0.6189 | Val Acc:   0.8678\n",
      "│ Train Time: 36.88s | Val Time: 5.59s\n",
      "│ Total Epoch Time: 42.47s\n",
      "│ Best Val Loss: 0.5141 (Epoch 20)\n",
      "│ GPU Memory: 0.4GB / 4.0GB\n",
      "================================================================================\n",
      "\n",
      "📈 Epoch 24/50\n",
      "--------------------------------------------------\n",
      "🔄 Training Phase...\n"
     ]
    },
    {
     "name": "stderr",
     "output_type": "stream",
     "text": [
      "Training: 100%|██████████████████████████████| 48/48 [00:36<00:00,  1.30it/s, Loss=0.0015, Acc=1.0000]\n"
     ]
    },
    {
     "name": "stdout",
     "output_type": "stream",
     "text": [
      "✅ Training completed in 36.89s\n",
      "🔍 Validation Phase...\n"
     ]
    },
    {
     "name": "stderr",
     "output_type": "stream",
     "text": [
      "Validation: 100%|██████████████████████████████| 13/13 [00:05<00:00,  2.50it/s, Loss=0.6233, Acc=0.8678]\n"
     ]
    },
    {
     "name": "stdout",
     "output_type": "stream",
     "text": [
      "✅ Validation completed in 5.22s\n",
      "\n",
      "📊 Epoch 24 Summary:\n",
      "│ Train Loss: 0.0015 | Train Acc: 1.0000\n",
      "│ Val Loss:   0.6233 | Val Acc:   0.8678\n",
      "│ Train Time: 36.89s | Val Time: 5.22s\n",
      "│ Total Epoch Time: 42.11s\n",
      "│ Best Val Loss: 0.5141 (Epoch 20)\n",
      "│ GPU Memory: 0.4GB / 4.0GB\n",
      "================================================================================\n",
      "\n",
      "📈 Epoch 25/50\n",
      "--------------------------------------------------\n",
      "🔄 Training Phase...\n"
     ]
    },
    {
     "name": "stderr",
     "output_type": "stream",
     "text": [
      "Training: 100%|██████████████████████████████| 48/48 [00:37<00:00,  1.30it/s, Loss=0.0008, Acc=1.0000]\n"
     ]
    },
    {
     "name": "stdout",
     "output_type": "stream",
     "text": [
      "✅ Training completed in 37.05s\n",
      "🔍 Validation Phase...\n"
     ]
    },
    {
     "name": "stderr",
     "output_type": "stream",
     "text": [
      "Validation: 100%|██████████████████████████████| 13/13 [00:05<00:00,  2.39it/s, Loss=0.6016, Acc=0.8750]\n"
     ]
    },
    {
     "name": "stdout",
     "output_type": "stream",
     "text": [
      "✅ Validation completed in 5.45s\n",
      "\n",
      "📊 Epoch 25 Summary:\n",
      "│ Train Loss: 0.0008 | Train Acc: 1.0000\n",
      "│ Val Loss:   0.6016 | Val Acc:   0.8750\n",
      "│ Train Time: 37.05s | Val Time: 5.45s\n",
      "│ Total Epoch Time: 42.51s\n",
      "│ Best Val Loss: 0.5141 (Epoch 20)\n",
      "│ GPU Memory: 0.4GB / 4.0GB\n",
      "================================================================================\n",
      "\n",
      "📈 Epoch 26/50\n",
      "--------------------------------------------------\n",
      "🔄 Training Phase...\n"
     ]
    },
    {
     "name": "stderr",
     "output_type": "stream",
     "text": [
      "Training: 100%|██████████████████████████████| 48/48 [00:37<00:00,  1.29it/s, Loss=0.0007, Acc=1.0000]\n"
     ]
    },
    {
     "name": "stdout",
     "output_type": "stream",
     "text": [
      "✅ Training completed in 37.20s\n",
      "🔍 Validation Phase...\n"
     ]
    },
    {
     "name": "stderr",
     "output_type": "stream",
     "text": [
      "Validation: 100%|██████████████████████████████| 13/13 [00:05<00:00,  2.44it/s, Loss=0.5468, Acc=0.8942]\n"
     ]
    },
    {
     "name": "stdout",
     "output_type": "stream",
     "text": [
      "✅ Validation completed in 5.33s\n",
      "\n",
      "📊 Epoch 26 Summary:\n",
      "│ Train Loss: 0.0007 | Train Acc: 1.0000\n",
      "│ Val Loss:   0.5468 | Val Acc:   0.8942\n",
      "│ Train Time: 37.20s | Val Time: 5.33s\n",
      "│ Total Epoch Time: 42.53s\n",
      "│ Best Val Loss: 0.5141 (Epoch 20)\n",
      "│ GPU Memory: 0.4GB / 4.0GB\n",
      "================================================================================\n",
      "\n",
      "📈 Epoch 27/50\n",
      "--------------------------------------------------\n",
      "🔄 Training Phase...\n"
     ]
    },
    {
     "name": "stderr",
     "output_type": "stream",
     "text": [
      "Training: 100%|██████████████████████████████| 48/48 [00:36<00:00,  1.30it/s, Loss=0.0006, Acc=1.0000]\n"
     ]
    },
    {
     "name": "stdout",
     "output_type": "stream",
     "text": [
      "✅ Training completed in 36.99s\n",
      "🔍 Validation Phase...\n"
     ]
    },
    {
     "name": "stderr",
     "output_type": "stream",
     "text": [
      "Validation: 100%|██████████████████████████████| 13/13 [00:05<00:00,  2.43it/s, Loss=0.5981, Acc=0.8822]\n"
     ]
    },
    {
     "name": "stdout",
     "output_type": "stream",
     "text": [
      "✅ Validation completed in 5.35s\n",
      "\n",
      "📊 Epoch 27 Summary:\n",
      "│ Train Loss: 0.0006 | Train Acc: 1.0000\n",
      "│ Val Loss:   0.5981 | Val Acc:   0.8822\n",
      "│ Train Time: 36.99s | Val Time: 5.35s\n",
      "│ Total Epoch Time: 42.35s\n",
      "│ Best Val Loss: 0.5141 (Epoch 20)\n",
      "│ GPU Memory: 0.4GB / 4.0GB\n",
      "================================================================================\n",
      "\n",
      "📈 Epoch 28/50\n",
      "--------------------------------------------------\n",
      "🔄 Training Phase...\n"
     ]
    },
    {
     "name": "stderr",
     "output_type": "stream",
     "text": [
      "Training: 100%|██████████████████████████████| 48/48 [00:37<00:00,  1.29it/s, Loss=0.0005, Acc=1.0000]\n"
     ]
    },
    {
     "name": "stdout",
     "output_type": "stream",
     "text": [
      "✅ Training completed in 37.32s\n",
      "🔍 Validation Phase...\n"
     ]
    },
    {
     "name": "stderr",
     "output_type": "stream",
     "text": [
      "Validation: 100%|██████████████████████████████| 13/13 [00:05<00:00,  2.45it/s, Loss=0.5740, Acc=0.8846]\n"
     ]
    },
    {
     "name": "stdout",
     "output_type": "stream",
     "text": [
      "✅ Validation completed in 5.32s\n",
      "\n",
      "📊 Epoch 28 Summary:\n",
      "│ Train Loss: 0.0005 | Train Acc: 1.0000\n",
      "│ Val Loss:   0.5740 | Val Acc:   0.8846\n",
      "│ Train Time: 37.32s | Val Time: 5.32s\n",
      "│ Total Epoch Time: 42.64s\n",
      "│ Best Val Loss: 0.5141 (Epoch 20)\n",
      "│ GPU Memory: 0.4GB / 4.0GB\n",
      "================================================================================\n",
      "\n",
      "📈 Epoch 29/50\n",
      "--------------------------------------------------\n",
      "🔄 Training Phase...\n"
     ]
    },
    {
     "name": "stderr",
     "output_type": "stream",
     "text": [
      "Training: 100%|██████████████████████████████| 48/48 [00:37<00:00,  1.29it/s, Loss=0.0005, Acc=1.0000]\n"
     ]
    },
    {
     "name": "stdout",
     "output_type": "stream",
     "text": [
      "✅ Training completed in 37.15s\n",
      "🔍 Validation Phase...\n"
     ]
    },
    {
     "name": "stderr",
     "output_type": "stream",
     "text": [
      "Validation: 100%|██████████████████████████████| 13/13 [00:05<00:00,  2.53it/s, Loss=0.6221, Acc=0.8654]\n"
     ]
    },
    {
     "name": "stdout",
     "output_type": "stream",
     "text": [
      "✅ Validation completed in 5.16s\n",
      "\n",
      "📊 Epoch 29 Summary:\n",
      "│ Train Loss: 0.0005 | Train Acc: 1.0000\n",
      "│ Val Loss:   0.6221 | Val Acc:   0.8654\n",
      "│ Train Time: 37.15s | Val Time: 5.16s\n",
      "│ Total Epoch Time: 42.30s\n",
      "│ Best Val Loss: 0.5141 (Epoch 20)\n",
      "│ GPU Memory: 0.4GB / 4.0GB\n",
      "================================================================================\n",
      "\n",
      "📈 Epoch 30/50\n",
      "--------------------------------------------------\n",
      "🔄 Training Phase...\n"
     ]
    },
    {
     "name": "stderr",
     "output_type": "stream",
     "text": [
      "Training: 100%|██████████████████████████████| 48/48 [00:36<00:00,  1.30it/s, Loss=0.0009, Acc=1.0000]\n"
     ]
    },
    {
     "name": "stdout",
     "output_type": "stream",
     "text": [
      "✅ Training completed in 36.88s\n",
      "🔍 Validation Phase...\n"
     ]
    },
    {
     "name": "stderr",
     "output_type": "stream",
     "text": [
      "Validation: 100%|██████████████████████████████| 13/13 [00:05<00:00,  2.48it/s, Loss=0.6189, Acc=0.8510]\n"
     ]
    },
    {
     "name": "stdout",
     "output_type": "stream",
     "text": [
      "✅ Validation completed in 5.25s\n",
      "\n",
      "📊 Epoch 30 Summary:\n",
      "│ Train Loss: 0.0009 | Train Acc: 1.0000\n",
      "│ Val Loss:   0.6189 | Val Acc:   0.8510\n",
      "│ Train Time: 36.88s | Val Time: 5.25s\n",
      "│ Total Epoch Time: 42.14s\n",
      "│ Best Val Loss: 0.5141 (Epoch 20)\n",
      "│ GPU Memory: 0.4GB / 4.0GB\n",
      "================================================================================\n",
      "\n",
      "📈 Epoch 31/50\n",
      "--------------------------------------------------\n",
      "🔄 Training Phase...\n"
     ]
    },
    {
     "name": "stderr",
     "output_type": "stream",
     "text": [
      "Training: 100%|██████████████████████████████| 48/48 [00:36<00:00,  1.30it/s, Loss=0.0115, Acc=0.9974]\n"
     ]
    },
    {
     "name": "stdout",
     "output_type": "stream",
     "text": [
      "✅ Training completed in 36.94s\n",
      "🔍 Validation Phase...\n"
     ]
    },
    {
     "name": "stderr",
     "output_type": "stream",
     "text": [
      "Validation: 100%|██████████████████████████████| 13/13 [00:05<00:00,  2.46it/s, Loss=0.6163, Acc=0.8774]\n"
     ]
    },
    {
     "name": "stdout",
     "output_type": "stream",
     "text": [
      "✅ Validation completed in 5.29s\n",
      "\n",
      "📊 Epoch 31 Summary:\n",
      "│ Train Loss: 0.0115 | Train Acc: 0.9974\n",
      "│ Val Loss:   0.6163 | Val Acc:   0.8774\n",
      "│ Train Time: 36.94s | Val Time: 5.29s\n",
      "│ Total Epoch Time: 42.23s\n",
      "│ Best Val Loss: 0.5141 (Epoch 20)\n",
      "│ GPU Memory: 0.4GB / 4.0GB\n",
      "================================================================================\n",
      "\n",
      "📈 Epoch 32/50\n",
      "--------------------------------------------------\n",
      "🔄 Training Phase...\n"
     ]
    },
    {
     "name": "stderr",
     "output_type": "stream",
     "text": [
      "Training: 100%|██████████████████████████████| 48/48 [00:37<00:00,  1.29it/s, Loss=0.0109, Acc=0.9967]\n"
     ]
    },
    {
     "name": "stdout",
     "output_type": "stream",
     "text": [
      "✅ Training completed in 37.31s\n",
      "🔍 Validation Phase...\n"
     ]
    },
    {
     "name": "stderr",
     "output_type": "stream",
     "text": [
      "Validation: 100%|██████████████████████████████| 13/13 [00:05<00:00,  2.45it/s, Loss=0.7097, Acc=0.8678]\n"
     ]
    },
    {
     "name": "stdout",
     "output_type": "stream",
     "text": [
      "✅ Validation completed in 5.31s\n",
      "\n",
      "📊 Epoch 32 Summary:\n",
      "│ Train Loss: 0.0109 | Train Acc: 0.9967\n",
      "│ Val Loss:   0.7097 | Val Acc:   0.8678\n",
      "│ Train Time: 37.31s | Val Time: 5.31s\n",
      "│ Total Epoch Time: 42.62s\n",
      "│ Best Val Loss: 0.5141 (Epoch 20)\n",
      "│ GPU Memory: 0.4GB / 4.0GB\n",
      "================================================================================\n",
      "\n",
      "📈 Epoch 33/50\n",
      "--------------------------------------------------\n",
      "🔄 Training Phase...\n"
     ]
    },
    {
     "name": "stderr",
     "output_type": "stream",
     "text": [
      "Training: 100%|██████████████████████████████| 48/48 [00:36<00:00,  1.31it/s, Loss=0.0127, Acc=0.9961]\n"
     ]
    },
    {
     "name": "stdout",
     "output_type": "stream",
     "text": [
      "✅ Training completed in 36.78s\n",
      "🔍 Validation Phase...\n"
     ]
    },
    {
     "name": "stderr",
     "output_type": "stream",
     "text": [
      "Validation: 100%|██████████████████████████████| 13/13 [00:05<00:00,  2.45it/s, Loss=0.6770, Acc=0.8582]\n"
     ]
    },
    {
     "name": "stdout",
     "output_type": "stream",
     "text": [
      "✅ Validation completed in 5.32s\n",
      "\n",
      "📊 Epoch 33 Summary:\n",
      "│ Train Loss: 0.0127 | Train Acc: 0.9961\n",
      "│ Val Loss:   0.6770 | Val Acc:   0.8582\n",
      "│ Train Time: 36.78s | Val Time: 5.32s\n",
      "│ Total Epoch Time: 42.11s\n",
      "│ Best Val Loss: 0.5141 (Epoch 20)\n",
      "│ GPU Memory: 0.4GB / 4.0GB\n",
      "================================================================================\n",
      "\n",
      "📈 Epoch 34/50\n",
      "--------------------------------------------------\n",
      "🔄 Training Phase...\n"
     ]
    },
    {
     "name": "stderr",
     "output_type": "stream",
     "text": [
      "Training: 100%|██████████████████████████████| 48/48 [00:37<00:00,  1.30it/s, Loss=0.0032, Acc=1.0000]\n"
     ]
    },
    {
     "name": "stdout",
     "output_type": "stream",
     "text": [
      "✅ Training completed in 37.07s\n",
      "🔍 Validation Phase...\n"
     ]
    },
    {
     "name": "stderr",
     "output_type": "stream",
     "text": [
      "Validation: 100%|██████████████████████████████| 13/13 [00:05<00:00,  2.51it/s, Loss=0.7382, Acc=0.8678]\n"
     ]
    },
    {
     "name": "stdout",
     "output_type": "stream",
     "text": [
      "✅ Validation completed in 5.19s\n",
      "\n",
      "📊 Epoch 34 Summary:\n",
      "│ Train Loss: 0.0032 | Train Acc: 1.0000\n",
      "│ Val Loss:   0.7382 | Val Acc:   0.8678\n",
      "│ Train Time: 37.07s | Val Time: 5.19s\n",
      "│ Total Epoch Time: 42.26s\n",
      "│ Best Val Loss: 0.5141 (Epoch 20)\n",
      "│ GPU Memory: 0.4GB / 4.0GB\n",
      "================================================================================\n",
      "\n",
      "📈 Epoch 35/50\n",
      "--------------------------------------------------\n",
      "🔄 Training Phase...\n"
     ]
    },
    {
     "name": "stderr",
     "output_type": "stream",
     "text": [
      "Training: 100%|██████████████████████████████| 48/48 [00:36<00:00,  1.30it/s, Loss=0.0012, Acc=1.0000]\n"
     ]
    },
    {
     "name": "stdout",
     "output_type": "stream",
     "text": [
      "✅ Training completed in 36.99s\n",
      "🔍 Validation Phase...\n"
     ]
    },
    {
     "name": "stderr",
     "output_type": "stream",
     "text": [
      "Validation: 100%|██████████████████████████████| 13/13 [00:05<00:00,  2.47it/s, Loss=0.7490, Acc=0.8654]\n"
     ]
    },
    {
     "name": "stdout",
     "output_type": "stream",
     "text": [
      "✅ Validation completed in 5.27s\n",
      "\n",
      "📊 Epoch 35 Summary:\n",
      "│ Train Loss: 0.0012 | Train Acc: 1.0000\n",
      "│ Val Loss:   0.7490 | Val Acc:   0.8654\n",
      "│ Train Time: 36.99s | Val Time: 5.27s\n",
      "│ Total Epoch Time: 42.27s\n",
      "│ Best Val Loss: 0.5141 (Epoch 20)\n",
      "│ GPU Memory: 0.4GB / 4.0GB\n",
      "================================================================================\n",
      "\n",
      "📈 Epoch 36/50\n",
      "--------------------------------------------------\n",
      "🔄 Training Phase...\n"
     ]
    },
    {
     "name": "stderr",
     "output_type": "stream",
     "text": [
      "Training: 100%|██████████████████████████████| 48/48 [00:36<00:00,  1.30it/s, Loss=0.0031, Acc=0.9987]\n"
     ]
    },
    {
     "name": "stdout",
     "output_type": "stream",
     "text": [
      "✅ Training completed in 36.95s\n",
      "🔍 Validation Phase...\n"
     ]
    },
    {
     "name": "stderr",
     "output_type": "stream",
     "text": [
      "Validation: 100%|██████████████████████████████| 13/13 [00:05<00:00,  2.42it/s, Loss=0.7184, Acc=0.8726]\n"
     ]
    },
    {
     "name": "stdout",
     "output_type": "stream",
     "text": [
      "✅ Validation completed in 5.37s\n",
      "\n",
      "📊 Epoch 36 Summary:\n",
      "│ Train Loss: 0.0031 | Train Acc: 0.9987\n",
      "│ Val Loss:   0.7184 | Val Acc:   0.8726\n",
      "│ Train Time: 36.95s | Val Time: 5.37s\n",
      "│ Total Epoch Time: 42.33s\n",
      "│ Best Val Loss: 0.5141 (Epoch 20)\n",
      "│ GPU Memory: 0.4GB / 4.0GB\n",
      "================================================================================\n",
      "\n",
      "📈 Epoch 37/50\n",
      "--------------------------------------------------\n",
      "🔄 Training Phase...\n"
     ]
    },
    {
     "name": "stderr",
     "output_type": "stream",
     "text": [
      "Training: 100%|██████████████████████████████| 48/48 [00:37<00:00,  1.29it/s, Loss=0.0078, Acc=0.9974]\n"
     ]
    },
    {
     "name": "stdout",
     "output_type": "stream",
     "text": [
      "✅ Training completed in 37.10s\n",
      "🔍 Validation Phase...\n"
     ]
    },
    {
     "name": "stderr",
     "output_type": "stream",
     "text": [
      "Validation: 100%|██████████████████████████████| 13/13 [00:05<00:00,  2.46it/s, Loss=0.5996, Acc=0.8702]\n"
     ]
    },
    {
     "name": "stdout",
     "output_type": "stream",
     "text": [
      "✅ Validation completed in 5.29s\n",
      "\n",
      "📊 Epoch 37 Summary:\n",
      "│ Train Loss: 0.0078 | Train Acc: 0.9974\n",
      "│ Val Loss:   0.5996 | Val Acc:   0.8702\n",
      "│ Train Time: 37.10s | Val Time: 5.29s\n",
      "│ Total Epoch Time: 42.40s\n",
      "│ Best Val Loss: 0.5141 (Epoch 20)\n",
      "│ GPU Memory: 0.4GB / 4.0GB\n",
      "================================================================================\n",
      "\n",
      "📈 Epoch 38/50\n",
      "--------------------------------------------------\n",
      "🔄 Training Phase...\n"
     ]
    },
    {
     "name": "stderr",
     "output_type": "stream",
     "text": [
      "Training: 100%|██████████████████████████████| 48/48 [00:36<00:00,  1.30it/s, Loss=0.0169, Acc=0.9954]\n"
     ]
    },
    {
     "name": "stdout",
     "output_type": "stream",
     "text": [
      "✅ Training completed in 36.89s\n",
      "🔍 Validation Phase...\n"
     ]
    },
    {
     "name": "stderr",
     "output_type": "stream",
     "text": [
      "Validation: 100%|██████████████████████████████| 13/13 [00:05<00:00,  2.49it/s, Loss=1.0245, Acc=0.7764]\n"
     ]
    },
    {
     "name": "stdout",
     "output_type": "stream",
     "text": [
      "✅ Validation completed in 5.24s\n",
      "\n",
      "📊 Epoch 38 Summary:\n",
      "│ Train Loss: 0.0169 | Train Acc: 0.9954\n",
      "│ Val Loss:   1.0245 | Val Acc:   0.7764\n",
      "│ Train Time: 36.89s | Val Time: 5.24s\n",
      "│ Total Epoch Time: 42.13s\n",
      "│ Best Val Loss: 0.5141 (Epoch 20)\n",
      "│ GPU Memory: 0.4GB / 4.0GB\n",
      "================================================================================\n",
      "\n",
      "📈 Epoch 39/50\n",
      "--------------------------------------------------\n",
      "🔄 Training Phase...\n"
     ]
    },
    {
     "name": "stderr",
     "output_type": "stream",
     "text": [
      "Training: 100%|██████████████████████████████| 48/48 [00:36<00:00,  1.30it/s, Loss=0.0216, Acc=0.9974]\n"
     ]
    },
    {
     "name": "stdout",
     "output_type": "stream",
     "text": [
      "✅ Training completed in 37.00s\n",
      "🔍 Validation Phase...\n"
     ]
    },
    {
     "name": "stderr",
     "output_type": "stream",
     "text": [
      "Validation: 100%|██████████████████████████████| 13/13 [00:05<00:00,  2.47it/s, Loss=0.7567, Acc=0.8438]\n"
     ]
    },
    {
     "name": "stdout",
     "output_type": "stream",
     "text": [
      "✅ Validation completed in 5.26s\n",
      "\n",
      "📊 Epoch 39 Summary:\n",
      "│ Train Loss: 0.0216 | Train Acc: 0.9974\n",
      "│ Val Loss:   0.7567 | Val Acc:   0.8438\n",
      "│ Train Time: 37.00s | Val Time: 5.26s\n",
      "│ Total Epoch Time: 42.27s\n",
      "│ Best Val Loss: 0.5141 (Epoch 20)\n",
      "│ GPU Memory: 0.4GB / 4.0GB\n",
      "================================================================================\n",
      "\n",
      "📈 Epoch 40/50\n",
      "--------------------------------------------------\n",
      "🔄 Training Phase...\n"
     ]
    },
    {
     "name": "stderr",
     "output_type": "stream",
     "text": [
      "Training: 100%|██████████████████████████████| 48/48 [00:36<00:00,  1.30it/s, Loss=0.0030, Acc=0.9993]\n"
     ]
    },
    {
     "name": "stdout",
     "output_type": "stream",
     "text": [
      "✅ Training completed in 36.87s\n",
      "🔍 Validation Phase...\n"
     ]
    },
    {
     "name": "stderr",
     "output_type": "stream",
     "text": [
      "Validation: 100%|██████████████████████████████| 13/13 [00:05<00:00,  2.37it/s, Loss=0.7916, Acc=0.8341]\n"
     ]
    },
    {
     "name": "stdout",
     "output_type": "stream",
     "text": [
      "✅ Validation completed in 5.48s\n",
      "\n",
      "📊 Epoch 40 Summary:\n",
      "│ Train Loss: 0.0030 | Train Acc: 0.9993\n",
      "│ Val Loss:   0.7916 | Val Acc:   0.8341\n",
      "│ Train Time: 36.87s | Val Time: 5.48s\n",
      "│ Total Epoch Time: 42.35s\n",
      "│ Best Val Loss: 0.5141 (Epoch 20)\n",
      "│ GPU Memory: 0.4GB / 4.0GB\n",
      "================================================================================\n",
      "\n",
      "📈 Epoch 41/50\n",
      "--------------------------------------------------\n",
      "🔄 Training Phase...\n"
     ]
    },
    {
     "name": "stderr",
     "output_type": "stream",
     "text": [
      "Training: 100%|██████████████████████████████| 48/48 [00:36<00:00,  1.30it/s, Loss=0.0097, Acc=0.9987]\n"
     ]
    },
    {
     "name": "stdout",
     "output_type": "stream",
     "text": [
      "✅ Training completed in 37.00s\n",
      "🔍 Validation Phase...\n"
     ]
    },
    {
     "name": "stderr",
     "output_type": "stream",
     "text": [
      "Validation: 100%|██████████████████████████████| 13/13 [00:05<00:00,  2.50it/s, Loss=0.6818, Acc=0.8510]\n"
     ]
    },
    {
     "name": "stdout",
     "output_type": "stream",
     "text": [
      "✅ Validation completed in 5.21s\n",
      "\n",
      "📊 Epoch 41 Summary:\n",
      "│ Train Loss: 0.0097 | Train Acc: 0.9987\n",
      "│ Val Loss:   0.6818 | Val Acc:   0.8510\n",
      "│ Train Time: 37.00s | Val Time: 5.21s\n",
      "│ Total Epoch Time: 42.21s\n",
      "│ Best Val Loss: 0.5141 (Epoch 20)\n",
      "│ GPU Memory: 0.4GB / 4.0GB\n",
      "================================================================================\n",
      "\n",
      "📈 Epoch 42/50\n",
      "--------------------------------------------------\n",
      "🔄 Training Phase...\n"
     ]
    },
    {
     "name": "stderr",
     "output_type": "stream",
     "text": [
      "Training: 100%|██████████████████████████████| 48/48 [00:37<00:00,  1.30it/s, Loss=0.0009, Acc=1.0000]\n"
     ]
    },
    {
     "name": "stdout",
     "output_type": "stream",
     "text": [
      "✅ Training completed in 37.03s\n",
      "🔍 Validation Phase...\n"
     ]
    },
    {
     "name": "stderr",
     "output_type": "stream",
     "text": [
      "Validation: 100%|██████████████████████████████| 13/13 [00:05<00:00,  2.49it/s, Loss=0.6970, Acc=0.8462]\n"
     ]
    },
    {
     "name": "stdout",
     "output_type": "stream",
     "text": [
      "✅ Validation completed in 5.23s\n",
      "\n",
      "📊 Epoch 42 Summary:\n",
      "│ Train Loss: 0.0009 | Train Acc: 1.0000\n",
      "│ Val Loss:   0.6970 | Val Acc:   0.8462\n",
      "│ Train Time: 37.03s | Val Time: 5.23s\n",
      "│ Total Epoch Time: 42.26s\n",
      "│ Best Val Loss: 0.5141 (Epoch 20)\n",
      "│ GPU Memory: 0.4GB / 4.0GB\n",
      "================================================================================\n",
      "\n",
      "📈 Epoch 43/50\n",
      "--------------------------------------------------\n",
      "🔄 Training Phase...\n"
     ]
    },
    {
     "name": "stderr",
     "output_type": "stream",
     "text": [
      "Training: 100%|██████████████████████████████| 48/48 [00:37<00:00,  1.29it/s, Loss=0.0006, Acc=1.0000]\n"
     ]
    },
    {
     "name": "stdout",
     "output_type": "stream",
     "text": [
      "✅ Training completed in 37.27s\n",
      "🔍 Validation Phase...\n"
     ]
    },
    {
     "name": "stderr",
     "output_type": "stream",
     "text": [
      "Validation: 100%|██████████████████████████████| 13/13 [00:05<00:00,  2.40it/s, Loss=0.6721, Acc=0.8534]\n"
     ]
    },
    {
     "name": "stdout",
     "output_type": "stream",
     "text": [
      "✅ Validation completed in 5.42s\n",
      "\n",
      "📊 Epoch 43 Summary:\n",
      "│ Train Loss: 0.0006 | Train Acc: 1.0000\n",
      "│ Val Loss:   0.6721 | Val Acc:   0.8534\n",
      "│ Train Time: 37.27s | Val Time: 5.42s\n",
      "│ Total Epoch Time: 42.69s\n",
      "│ Best Val Loss: 0.5141 (Epoch 20)\n",
      "│ GPU Memory: 0.4GB / 4.0GB\n",
      "================================================================================\n",
      "\n",
      "📈 Epoch 44/50\n",
      "--------------------------------------------------\n",
      "🔄 Training Phase...\n"
     ]
    },
    {
     "name": "stderr",
     "output_type": "stream",
     "text": [
      "Training: 100%|██████████████████████████████| 48/48 [00:36<00:00,  1.30it/s, Loss=0.0009, Acc=1.0000]\n"
     ]
    },
    {
     "name": "stdout",
     "output_type": "stream",
     "text": [
      "✅ Training completed in 36.96s\n",
      "🔍 Validation Phase...\n"
     ]
    },
    {
     "name": "stderr",
     "output_type": "stream",
     "text": [
      "Validation: 100%|██████████████████████████████| 13/13 [00:05<00:00,  2.50it/s, Loss=0.7020, Acc=0.8534]\n"
     ]
    },
    {
     "name": "stdout",
     "output_type": "stream",
     "text": [
      "✅ Validation completed in 5.20s\n",
      "\n",
      "📊 Epoch 44 Summary:\n",
      "│ Train Loss: 0.0009 | Train Acc: 1.0000\n",
      "│ Val Loss:   0.7020 | Val Acc:   0.8534\n",
      "│ Train Time: 36.96s | Val Time: 5.20s\n",
      "│ Total Epoch Time: 42.16s\n",
      "│ Best Val Loss: 0.5141 (Epoch 20)\n",
      "│ GPU Memory: 0.4GB / 4.0GB\n",
      "================================================================================\n",
      "\n",
      "📈 Epoch 45/50\n",
      "--------------------------------------------------\n",
      "🔄 Training Phase...\n"
     ]
    },
    {
     "name": "stderr",
     "output_type": "stream",
     "text": [
      "Training: 100%|██████████████████████████████| 48/48 [00:37<00:00,  1.30it/s, Loss=0.0008, Acc=1.0000]\n"
     ]
    },
    {
     "name": "stdout",
     "output_type": "stream",
     "text": [
      "✅ Training completed in 37.01s\n",
      "🔍 Validation Phase...\n"
     ]
    },
    {
     "name": "stderr",
     "output_type": "stream",
     "text": [
      "Validation: 100%|██████████████████████████████| 13/13 [00:05<00:00,  2.46it/s, Loss=0.6918, Acc=0.8654]\n"
     ]
    },
    {
     "name": "stdout",
     "output_type": "stream",
     "text": [
      "✅ Validation completed in 5.29s\n",
      "\n",
      "📊 Epoch 45 Summary:\n",
      "│ Train Loss: 0.0008 | Train Acc: 1.0000\n",
      "│ Val Loss:   0.6918 | Val Acc:   0.8654\n",
      "│ Train Time: 37.01s | Val Time: 5.29s\n",
      "│ Total Epoch Time: 42.30s\n",
      "│ Best Val Loss: 0.5141 (Epoch 20)\n",
      "│ GPU Memory: 0.4GB / 4.0GB\n",
      "================================================================================\n",
      "\n",
      "📈 Epoch 46/50\n",
      "--------------------------------------------------\n",
      "🔄 Training Phase...\n"
     ]
    },
    {
     "name": "stderr",
     "output_type": "stream",
     "text": [
      "Training: 100%|██████████████████████████████| 48/48 [00:37<00:00,  1.29it/s, Loss=0.0003, Acc=1.0000]\n"
     ]
    },
    {
     "name": "stdout",
     "output_type": "stream",
     "text": [
      "✅ Training completed in 37.10s\n",
      "🔍 Validation Phase...\n"
     ]
    },
    {
     "name": "stderr",
     "output_type": "stream",
     "text": [
      "Validation: 100%|██████████████████████████████| 13/13 [00:05<00:00,  2.55it/s, Loss=0.6766, Acc=0.8654]\n"
     ]
    },
    {
     "name": "stdout",
     "output_type": "stream",
     "text": [
      "✅ Validation completed in 5.10s\n",
      "\n",
      "📊 Epoch 46 Summary:\n",
      "│ Train Loss: 0.0003 | Train Acc: 1.0000\n",
      "│ Val Loss:   0.6766 | Val Acc:   0.8654\n",
      "│ Train Time: 37.10s | Val Time: 5.10s\n",
      "│ Total Epoch Time: 42.21s\n",
      "│ Best Val Loss: 0.5141 (Epoch 20)\n",
      "│ GPU Memory: 0.4GB / 4.0GB\n",
      "================================================================================\n",
      "\n",
      "📈 Epoch 47/50\n",
      "--------------------------------------------------\n",
      "🔄 Training Phase...\n"
     ]
    },
    {
     "name": "stderr",
     "output_type": "stream",
     "text": [
      "Training: 100%|██████████████████████████████| 48/48 [00:36<00:00,  1.30it/s, Loss=0.0003, Acc=1.0000]\n"
     ]
    },
    {
     "name": "stdout",
     "output_type": "stream",
     "text": [
      "✅ Training completed in 36.96s\n",
      "🔍 Validation Phase...\n"
     ]
    },
    {
     "name": "stderr",
     "output_type": "stream",
     "text": [
      "Validation: 100%|██████████████████████████████| 13/13 [00:05<00:00,  2.48it/s, Loss=0.7062, Acc=0.8558]\n"
     ]
    },
    {
     "name": "stdout",
     "output_type": "stream",
     "text": [
      "✅ Validation completed in 5.25s\n",
      "\n",
      "📊 Epoch 47 Summary:\n",
      "│ Train Loss: 0.0003 | Train Acc: 1.0000\n",
      "│ Val Loss:   0.7062 | Val Acc:   0.8558\n",
      "│ Train Time: 36.96s | Val Time: 5.25s\n",
      "│ Total Epoch Time: 42.21s\n",
      "│ Best Val Loss: 0.5141 (Epoch 20)\n",
      "│ GPU Memory: 0.4GB / 4.0GB\n",
      "================================================================================\n",
      "\n",
      "📈 Epoch 48/50\n",
      "--------------------------------------------------\n",
      "🔄 Training Phase...\n"
     ]
    },
    {
     "name": "stderr",
     "output_type": "stream",
     "text": [
      "Training: 100%|██████████████████████████████| 48/48 [00:36<00:00,  1.30it/s, Loss=0.0028, Acc=0.9980]\n"
     ]
    },
    {
     "name": "stdout",
     "output_type": "stream",
     "text": [
      "✅ Training completed in 36.82s\n",
      "🔍 Validation Phase...\n"
     ]
    },
    {
     "name": "stderr",
     "output_type": "stream",
     "text": [
      "Validation: 100%|██████████████████████████████| 13/13 [00:05<00:00,  2.51it/s, Loss=1.2265, Acc=0.7572]\n"
     ]
    },
    {
     "name": "stdout",
     "output_type": "stream",
     "text": [
      "✅ Validation completed in 5.19s\n",
      "\n",
      "📊 Epoch 48 Summary:\n",
      "│ Train Loss: 0.0028 | Train Acc: 0.9980\n",
      "│ Val Loss:   1.2265 | Val Acc:   0.7572\n",
      "│ Train Time: 36.82s | Val Time: 5.19s\n",
      "│ Total Epoch Time: 42.02s\n",
      "│ Best Val Loss: 0.5141 (Epoch 20)\n",
      "│ GPU Memory: 0.4GB / 4.0GB\n",
      "================================================================================\n",
      "\n",
      "📈 Epoch 49/50\n",
      "--------------------------------------------------\n",
      "🔄 Training Phase...\n"
     ]
    },
    {
     "name": "stderr",
     "output_type": "stream",
     "text": [
      "Training: 100%|██████████████████████████████| 48/48 [00:37<00:00,  1.29it/s, Loss=0.0211, Acc=0.9928]\n"
     ]
    },
    {
     "name": "stdout",
     "output_type": "stream",
     "text": [
      "✅ Training completed in 37.14s\n",
      "🔍 Validation Phase...\n"
     ]
    },
    {
     "name": "stderr",
     "output_type": "stream",
     "text": [
      "Validation: 100%|██████████████████████████████| 13/13 [00:05<00:00,  2.42it/s, Loss=0.8610, Acc=0.8389]\n"
     ]
    },
    {
     "name": "stdout",
     "output_type": "stream",
     "text": [
      "✅ Validation completed in 5.38s\n",
      "\n",
      "📊 Epoch 49 Summary:\n",
      "│ Train Loss: 0.0211 | Train Acc: 0.9928\n",
      "│ Val Loss:   0.8610 | Val Acc:   0.8389\n",
      "│ Train Time: 37.14s | Val Time: 5.38s\n",
      "│ Total Epoch Time: 42.52s\n",
      "│ Best Val Loss: 0.5141 (Epoch 20)\n",
      "│ GPU Memory: 0.4GB / 4.0GB\n",
      "================================================================================\n",
      "\n",
      "📈 Epoch 50/50\n",
      "--------------------------------------------------\n",
      "🔄 Training Phase...\n"
     ]
    },
    {
     "name": "stderr",
     "output_type": "stream",
     "text": [
      "Training: 100%|██████████████████████████████| 48/48 [00:36<00:00,  1.31it/s, Loss=0.0338, Acc=0.9915]\n"
     ]
    },
    {
     "name": "stdout",
     "output_type": "stream",
     "text": [
      "✅ Training completed in 36.77s\n",
      "🔍 Validation Phase...\n"
     ]
    },
    {
     "name": "stderr",
     "output_type": "stream",
     "text": [
      "Validation: 100%|██████████████████████████████| 13/13 [00:05<00:00,  2.49it/s, Loss=0.8218, Acc=0.8389]\n"
     ]
    },
    {
     "name": "stdout",
     "output_type": "stream",
     "text": [
      "✅ Validation completed in 5.23s\n",
      "\n",
      "📊 Epoch 50 Summary:\n",
      "│ Train Loss: 0.0338 | Train Acc: 0.9915\n",
      "│ Val Loss:   0.8218 | Val Acc:   0.8389\n",
      "│ Train Time: 36.77s | Val Time: 5.23s\n",
      "│ Total Epoch Time: 42.00s\n",
      "│ Best Val Loss: 0.5141 (Epoch 20)\n",
      "│ GPU Memory: 0.4GB / 4.0GB\n",
      "================================================================================\n",
      "\n",
      "💾 Best model saved as 'best_cricket_inceptionv3_filtered.pth'\n",
      "📊 Best model stats:\n",
      "│ Best Epoch: 20\n",
      "│ Best Val Loss: 0.5141\n",
      "│ Best Val Acc: 0.8846\n",
      "\n",
      "💾 Training history saved to 'cricket_inceptionv3_filtered_history_pretrained.csv'\n",
      "\n",
      "🎉 InceptionV3 Fine-tuning Complete!\n",
      "Total Training Time: 2151.86s (35.9 minutes)\n",
      "Average Epoch Time: 43.04s\n",
      "\n",
      "🧪 Loading Best Model for Testing...\n",
      "✅ Best model from epoch 20 loaded successfully!\n"
     ]
    },
    {
     "name": "stderr",
     "output_type": "stream",
     "text": [
      "Testing: 100%|██████████████████████████████| 17/17 [00:12<00:00,  1.39it/s]\n"
     ]
    },
    {
     "name": "stdout",
     "output_type": "stream",
     "text": [
      "✅ Testing completed in 12.24s\n",
      "\n",
      "📋 Classification Report:\n",
      "              precision    recall  f1-score   support\n",
      "\n",
      "        Four       0.08      0.03      0.04        40\n",
      "     Leg_Bye       0.88      0.75      0.81        40\n",
      "     No_ball       0.66      0.86      0.74       104\n",
      "         Out       0.85      0.69      0.76        48\n",
      "         Six       0.85      0.81      0.83       152\n",
      "        Wide       0.81      0.92      0.86       136\n",
      "\n",
      "    accuracy                           0.77       520\n",
      "   macro avg       0.69      0.67      0.67       520\n",
      "weighted avg       0.74      0.77      0.75       520\n",
      "\n",
      "🎯 Test Accuracy: 0.7712\n",
      "\n",
      "📊 Cricket Classification Performance (InceptionV3 - Filtered Data):\n",
      "│ Best Validation Loss: 0.5141 (Epoch 20)\n",
      "│ Best Validation Acc:  0.8846 (Epoch 20)\n",
      "│ Final Test Accuracy:  0.7712\n",
      "│ Val-Test Gap:         0.1135\n",
      "│ Data Filtering: Excluded 'random_occlusion' folder\n",
      "\n",
      "💾 Files saved:\n",
      "│ best_cricket_inceptionv3_filtered.pth - Best model weights\n",
      "│ cricket_inceptionv3_filtered_history.csv - Training metrics\n"
     ]
    },
    {
     "data": {
      "image/png": "[encoded data removed]",
      "text/plain": [
       "<Figure size 1000x800 with 2 Axes>"
      ]
     },
     "metadata": {},
     "output_type": "display_data"
    },
    {
     "data": {
      "image/png": "[encoded data removed]",
      "text/plain": [
       "<Figure size 1500x500 with 3 Axes>"
      ]
     },
     "metadata": {},
     "output_type": "display_data"
    },
    {
     "name": "stdout",
     "output_type": "stream",
     "text": [
      "\n",
      "⏰ Final Timing Summary:\n",
      "│ Total Training: 2151.86s (35.9 min)\n",
      "│ Average per Epoch: 43.04s\n",
      "│ Testing Time: 12.24s\n",
      "│ Total Runtime: 2164.10s\n",
      "\n",
      "🏗️ InceptionV3 + Filtered Data Benefits:\n",
      "│ Clean dataset: 'random_occlusion' folder excluded\n",
      "│ Multi-scale features: Inception modules with multiple filter sizes\n",
      "│ High resolution: 299x299 input captures more detail\n",
      "│ ImageNet pretrained: Leverages powerful feature representations\n",
      "│ Optimized for quality: Should achieve excellent cricket classification\n"
     ]
    }
   ],
   "source": [
    "\n",
    "# -----------------------------\n",
    "# 3. Training Setup\n",
    "# -----------------------------\n",
    "criterion = nn.CrossEntropyLoss()\n",
    "optimizer = optim.Adam(model.parameters(), lr=1e-4)  # Lower LR for fine-tuning\n",
    "\n",
    "print(f\"\\n📋 Training Configuration:\")\n",
    "print(f\"│ Model: InceptionV3 (pretrained)\")\n",
    "print(f\"│ Optimizer: Adam (lr={optimizer.param_groups[0]['lr']})\")\n",
    "print(f\"│ Loss Function: CrossEntropyLoss\")\n",
    "print(f\"│ Batch Size: 32\")\n",
    "print(f\"│ Device: {device}\")\n",
    "print(f\"│ Data: Filtered (excluding '{ignore_folder}')\")\n",
    "\n",
    "# -----------------------------\n",
    "# 4. Training Loop with Model Saving\n",
    "# -----------------------------\n",
    "train_losses, val_losses = [], []\n",
    "train_accs, val_accs = [], []\n",
    "epoch_times = []\n",
    "epochs = 50\n",
    "\n",
    "# Initialize best model tracking (using val_loss for fine-tuning)\n",
    "best_val_loss = float('inf')\n",
    "best_model_state = None\n",
    "best_epoch = 0\n",
    "best_val_acc = 0.0\n",
    "\n",
    "print(f\"\\n🚀 Starting InceptionV3 Fine-tuning for {epochs} epochs...\")\n",
    "print(\"=\" * 80)\n",
    "total_start_time = time.time()\n",
    "\n",
    "for epoch in range(epochs):\n",
    "    epoch_start_time = time.time()\n",
    "    \n",
    "    print(f\"\\n📈 Epoch {epoch+1}/{epochs}\")\n",
    "    print(\"-\" * 50)\n",
    "    \n",
    "    # Training Phase\n",
    "    print(\"🔄 Training Phase...\")\n",
    "    model.train()\n",
    "    running_loss, correct, total = 0, 0, 0\n",
    "    \n",
    "    train_pbar = tqdm(train_loader, desc=\"Training\", \n",
    "                     bar_format='{l_bar}{bar:30}{r_bar}{bar:-30b}')\n",
    "    \n",
    "    train_phase_start = time.time()\n",
    "    \n",
    "    for batch_idx, (imgs, labels) in enumerate(train_pbar):\n",
    "        imgs, labels = imgs.to(device), labels.to(device)\n",
    "        \n",
    "        optimizer.zero_grad()\n",
    "        outputs = model(imgs)\n",
    "        loss = criterion(outputs, labels)\n",
    "        loss.backward()\n",
    "        optimizer.step()\n",
    "        \n",
    "        running_loss += loss.item()\n",
    "        _, preds = torch.max(outputs, 1)\n",
    "        correct += (preds == labels).sum().item()\n",
    "        total += labels.size(0)\n",
    "        \n",
    "        current_acc = correct / total\n",
    "        train_pbar.set_postfix({\n",
    "            'Loss': f'{running_loss/(batch_idx+1):.4f}',\n",
    "            'Acc': f'{current_acc:.4f}'\n",
    "        })\n",
    "        \n",
    "        if device.type == 'cuda' and batch_idx % 10 == 0:\n",
    "            gpu_memory = torch.cuda.memory_allocated() / 1024**3\n",
    "            train_pbar.set_postfix({\n",
    "                'Loss': f'{running_loss/(batch_idx+1):.4f}',\n",
    "                'Acc': f'{current_acc:.4f}',\n",
    "                'GPU': f'{gpu_memory:.1f}GB'\n",
    "            })\n",
    "    \n",
    "    train_phase_time = time.time() - train_phase_start\n",
    "    train_loss = running_loss / len(train_loader)\n",
    "    train_acc = correct / total\n",
    "    train_losses.append(train_loss)\n",
    "    train_accs.append(train_acc)\n",
    "    \n",
    "    print(f\"✅ Training completed in {train_phase_time:.2f}s\")\n",
    "    \n",
    "    # Validation Phase\n",
    "    print(\"🔍 Validation Phase...\")\n",
    "    model.eval()\n",
    "    running_loss, correct, total = 0, 0, 0\n",
    "    \n",
    "    val_phase_start = time.time()\n",
    "    val_pbar = tqdm(val_loader, desc=\"Validation\", \n",
    "                   bar_format='{l_bar}{bar:30}{r_bar}{bar:-30b}')\n",
    "    \n",
    "    with torch.no_grad():\n",
    "        for batch_idx, (imgs, labels) in enumerate(val_pbar):\n",
    "            imgs, labels = imgs.to(device), labels.to(device)\n",
    "            outputs = model(imgs)\n",
    "            loss = criterion(outputs, labels)\n",
    "            \n",
    "            running_loss += loss.item()\n",
    "            _, preds = torch.max(outputs, 1)\n",
    "            correct += (preds == labels).sum().item()\n",
    "            total += labels.size(0)\n",
    "            \n",
    "            current_acc = correct / total\n",
    "            val_pbar.set_postfix({\n",
    "                'Loss': f'{running_loss/(batch_idx+1):.4f}',\n",
    "                'Acc': f'{current_acc:.4f}'\n",
    "            })\n",
    "    \n",
    "    val_phase_time = time.time() - val_phase_start\n",
    "    val_loss = running_loss / len(val_loader)\n",
    "    val_acc = correct / total\n",
    "    val_losses.append(val_loss)\n",
    "    val_accs.append(val_acc)\n",
    "    \n",
    "    print(f\"✅ Validation completed in {val_phase_time:.2f}s\")\n",
    "    \n",
    "    # Check if this is the best model (using val_loss for fine-tuning)\n",
    "    is_best = val_loss < best_val_loss\n",
    "    if is_best:\n",
    "        best_val_loss = val_loss\n",
    "        best_val_acc = val_acc\n",
    "        best_epoch = epoch + 1\n",
    "        best_model_state = model.state_dict().copy()\n",
    "        print(f\"🌟 New best model found! Validation Loss: {val_loss:.4f}\")\n",
    "    \n",
    "    # Epoch Summary\n",
    "    epoch_time = time.time() - epoch_start_time\n",
    "    epoch_times.append(epoch_time)\n",
    "    \n",
    "    print(f\"\\n📊 Epoch {epoch+1} Summary:\")\n",
    "    print(f\"│ Train Loss: {train_loss:.4f} | Train Acc: {train_acc:.4f}\")\n",
    "    print(f\"│ Val Loss:   {val_loss:.4f} | Val Acc:   {val_acc:.4f}\")\n",
    "    print(f\"│ Train Time: {train_phase_time:.2f}s | Val Time: {val_phase_time:.2f}s\")\n",
    "    print(f\"│ Total Epoch Time: {epoch_time:.2f}s\")\n",
    "    print(f\"│ Best Val Loss: {best_val_loss:.4f} (Epoch {best_epoch})\")\n",
    "    \n",
    "    if device.type == 'cuda':\n",
    "        print(f\"│ GPU Memory: {torch.cuda.memory_allocated()/1024**3:.1f}GB / {torch.cuda.memory_reserved()/1024**3:.1f}GB\")\n",
    "    \n",
    "    print(\"=\" * 80)\n",
    "\n",
    "total_training_time = time.time() - total_start_time\n",
    "\n",
    "# Save the best model\n",
    "if best_model_state is not None:\n",
    "    torch.save(best_model_state, 'best_cricket_inceptionv3_filtered_pretrained.pth')\n",
    "    print(f\"\\n💾 Best model saved as 'best_cricket_inceptionv3_filtered.pth'\")\n",
    "    print(f\"📊 Best model stats:\")\n",
    "    print(f\"│ Best Epoch: {best_epoch}\")\n",
    "    print(f\"│ Best Val Loss: {best_val_loss:.4f}\")\n",
    "    print(f\"│ Best Val Acc: {best_val_acc:.4f}\")\n",
    "\n",
    "# Save training history\n",
    "history_data = {\n",
    "    'epoch': list(range(1, epochs+1)),\n",
    "    'train_loss': train_losses,\n",
    "    'val_loss': val_losses,\n",
    "    'train_acc': train_accs,\n",
    "    'val_acc': val_accs,\n",
    "    'epoch_time': epoch_times\n",
    "}\n",
    "\n",
    "history_df = pd.DataFrame(history_data)\n",
    "history_df.to_csv('cricket_inceptionv3_filtered_history_pretrained.csv', index=False)\n",
    "print(\"\\n💾 Training history saved to 'cricket_inceptionv3_filtered_history_pretrained.csv'\")\n",
    "\n",
    "print(f\"\\n🎉 InceptionV3 Fine-tuning Complete!\")\n",
    "print(f\"Total Training Time: {total_training_time:.2f}s ({total_training_time/60:.1f} minutes)\")\n",
    "print(f\"Average Epoch Time: {np.mean(epoch_times):.2f}s\")\n",
    "\n",
    "# -----------------------------\n",
    "# 5. Load Best Model and Test\n",
    "# -----------------------------\n",
    "print(f\"\\n🧪 Loading Best Model for Testing...\")\n",
    "if best_model_state is not None:\n",
    "    model.load_state_dict(best_model_state)\n",
    "    print(f\"✅ Best model from epoch {best_epoch} loaded successfully!\")\n",
    "\n",
    "test_start_time = time.time()\n",
    "y_true, y_pred = [], []\n",
    "model.eval()\n",
    "test_pbar = tqdm(test_loader, desc=\"Testing\", \n",
    "                bar_format='{l_bar}{bar:30}{r_bar}{bar:-30b}')\n",
    "\n",
    "with torch.no_grad():\n",
    "    for imgs, labels in test_pbar:\n",
    "        imgs, labels = imgs.to(device), labels.to(device)\n",
    "        outputs = model(imgs)\n",
    "        _, preds = torch.max(outputs, 1)\n",
    "        y_true.extend(labels.cpu().numpy())\n",
    "        y_pred.extend(preds.cpu().numpy())\n",
    "\n",
    "test_time = time.time() - test_start_time\n",
    "test_accuracy = accuracy_score(y_true, y_pred)\n",
    "\n",
    "print(f\"✅ Testing completed in {test_time:.2f}s\")\n",
    "print(\"\\n📋 Classification Report:\")\n",
    "print(classification_report(y_true, y_pred, target_names=classes))\n",
    "print(f\"🎯 Test Accuracy: {test_accuracy:.4f}\")\n",
    "\n",
    "# Performance Summary\n",
    "print(f\"\\n📊 Cricket Classification Performance (InceptionV3 - Filtered Data):\")\n",
    "print(f\"│ Best Validation Loss: {best_val_loss:.4f} (Epoch {best_epoch})\")\n",
    "print(f\"│ Best Validation Acc:  {best_val_acc:.4f} (Epoch {best_epoch})\")\n",
    "print(f\"│ Final Test Accuracy:  {test_accuracy:.4f}\")\n",
    "print(f\"│ Val-Test Gap:         {abs(best_val_acc - test_accuracy):.4f}\")\n",
    "print(f\"│ Data Filtering: Excluded '{ignore_folder}' folder\")\n",
    "\n",
    "print(f\"\\n💾 Files saved:\")\n",
    "print(f\"│ best_cricket_inceptionv3_filtered.pth - Best model weights\")\n",
    "print(f\"│ cricket_inceptionv3_filtered_history.csv - Training metrics\")\n",
    "\n",
    "# -----------------------------\n",
    "# 6. Visualizations\n",
    "# -----------------------------\n",
    "# Confusion Matrix\n",
    "cm = confusion_matrix(y_true, y_pred)\n",
    "plt.figure(figsize=(10, 8))\n",
    "sns.heatmap(cm, annot=True, fmt=\"d\", cmap=\"Blues\", \n",
    "            xticklabels=classes, yticklabels=classes)\n",
    "plt.xlabel(\"Predicted\")\n",
    "plt.ylabel(\"True\")\n",
    "plt.title(f\"Cricket Classification - InceptionV3 (Filtered Data) - Epoch {best_epoch}\")\n",
    "plt.tight_layout()\n",
    "plt.show()\n",
    "\n",
    "# Training Curves\n",
    "plt.figure(figsize=(15, 5))\n",
    "\n",
    "# Loss Plot\n",
    "plt.subplot(1, 3, 1)\n",
    "plt.plot(range(1, epochs+1), train_losses, 'b-', label=\"Train Loss\", marker='o', linewidth=2)\n",
    "plt.plot(range(1, epochs+1), val_losses, 'r-', label=\"Val Loss\", marker='s', linewidth=2)\n",
    "plt.axvline(x=best_epoch, color='green', linestyle='--', alpha=0.7, label=f'Best (Epoch {best_epoch})')\n",
    "plt.scatter([best_epoch], [best_val_loss], color='green', s=100, zorder=5)\n",
    "plt.legend()\n",
    "plt.title(\"InceptionV3 Loss over Epochs (Filtered)\")\n",
    "plt.xlabel(\"Epoch\")\n",
    "plt.ylabel(\"Loss\")\n",
    "plt.grid(True, alpha=0.3)\n",
    "\n",
    "# Accuracy Plot\n",
    "plt.subplot(1, 3, 2)\n",
    "plt.plot(range(1, epochs+1), train_accs, 'b-', label=\"Train Accuracy\", marker='o', linewidth=2)\n",
    "plt.plot(range(1, epochs+1), val_accs, 'r-', label=\"Val Accuracy\", marker='s', linewidth=2)\n",
    "plt.axvline(x=best_epoch, color='green', linestyle='--', alpha=0.7, label=f'Best (Epoch {best_epoch})')\n",
    "plt.scatter([best_epoch], [best_val_acc], color='green', s=100, zorder=5)\n",
    "plt.legend()\n",
    "plt.title(\"InceptionV3 Accuracy over Epochs (Filtered)\")\n",
    "plt.xlabel(\"Epoch\")\n",
    "plt.ylabel(\"Accuracy\")\n",
    "plt.grid(True, alpha=0.3)\n",
    "\n",
    "# Final Performance\n",
    "plt.subplot(1, 3, 3)\n",
    "metrics = ['Best Val Acc', 'Test Acc']\n",
    "values = [best_val_acc, test_accuracy]\n",
    "colors = ['orange', 'green']\n",
    "bars = plt.bar(metrics, values, color=colors, alpha=0.7)\n",
    "plt.title(\"InceptionV3 Final Performance (Filtered)\")\n",
    "plt.ylabel(\"Accuracy\")\n",
    "plt.ylim(0, 1)\n",
    "plt.grid(True, alpha=0.3)\n",
    "for bar, val in zip(bars, values):\n",
    "    plt.text(bar.get_x() + bar.get_width()/2, val + 0.01, \n",
    "             f'{val:.4f}', ha='center', va='bottom')\n",
    "\n",
    "plt.tight_layout()\n",
    "plt.show()\n",
    "\n",
    "# Final Summary\n",
    "print(f\"\\n⏰ Final Timing Summary:\")\n",
    "print(f\"│ Total Training: {total_training_time:.2f}s ({total_training_time/60:.1f} min)\")\n",
    "print(f\"│ Average per Epoch: {np.mean(epoch_times):.2f}s\")\n",
    "print(f\"│ Testing Time: {test_time:.2f}s\")\n",
    "print(f\"│ Total Runtime: {total_training_time + test_time:.2f}s\")\n",
    "\n",
    "# Model and Data Info\n",
    "print(f\"\\n🏗️ InceptionV3 + Filtered Data Benefits:\")\n",
    "print(f\"│ Clean dataset: '{ignore_folder}' folder excluded\")\n",
    "print(f\"│ Multi-scale features: Inception modules with multiple filter sizes\")\n",
    "print(f\"│ High resolution: 299x299 input captures more detail\")\n",
    "print(f\"│ ImageNet pretrained: Leverages powerful feature representations\")\n",
    "print(f\"│ Optimized for quality: Should achieve excellent cricket classification\")"
   ]
  }
 ],
 "metadata": {
  "kaggle": {
   "accelerator": "nvidiaTeslaT4",
   "dataSources": [
    {
     "datasetId": 7735666,
     "sourceId": 12275446,
     "sourceType": "datasetVersion"
    }
   ],
   "dockerImageVersionId": 31090,
   "isGpuEnabled": true,
   "isInternetEnabled": true,
   "language": "python",
   "sourceType": "notebook"
  },
  "kernelspec": {
   "display_name": "Python 3",
   "language": "python",
   "name": "python3"
  },
  "language_info": {
   "codemirror_mode": {
    "name": "ipython",
    "version": 3
   },
   "file_extension": ".py",
   "mimetype": "text/x-python",
   "name": "python",
   "nbconvert_exporter": "python",
   "pygments_lexer": "ipython3",
   "version": "3.11.13"
  },
  "papermill": {
   "default_parameters": {},
   "duration": 2202.499745,
   "end_time": "2025-09-08T06:58:25.329416",
   "environment_variables": {},
   "exception": null,
   "input_path": "__notebook__.ipynb",
   "output_path": "__notebook__.ipynb",
   "parameters": {},
   "start_time": "2025-09-08T06:21:42.829671",
   "version": "2.6.0"
  }
 },
 "nbformat": 4,
 "nbformat_minor": 5
}
