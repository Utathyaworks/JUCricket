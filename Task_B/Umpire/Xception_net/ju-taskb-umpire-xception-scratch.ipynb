{
 "cells": [
  {
   "cell_type": "code",
   "execution_count": 1,
   "id": "00b16410",
   "metadata": {
    "_cell_guid": "b1076dfc-b9ad-4769-8c92-a6c4dae69d19",
    "_uuid": "8f2839f25d086af736a60e9eeb907d3b93b6e0e5",
    "execution": {
     "iopub.execute_input": "2025-09-10T15:18:54.763346Z",
     "iopub.status.busy": "2025-09-10T15:18:54.762454Z",
     "iopub.status.idle": "2025-09-10T15:19:12.105171Z",
     "shell.execute_reply": "2025-09-10T15:19:12.104260Z"
    },
    "papermill": {
     "duration": 17.348807,
     "end_time": "2025-09-10T15:19:12.106605",
     "exception": false,
     "start_time": "2025-09-10T15:18:54.757798",
     "status": "completed"
    },
    "tags": []
   },
   "outputs": [
    {
     "name": "stdout",
     "output_type": "stream",
     "text": [
      "Classes: ['Four', 'Leg_Bye', 'No_ball', 'Out', 'Six', 'Wide']\n"
     ]
    }
   ],
   "source": [
    "import torch\n",
    "import torch.nn as nn\n",
    "import torch.nn.functional as F\n",
    "from torch.utils.data import DataLoader\n",
    "from torchvision import datasets, transforms\n",
    "from torchsummary import summary\n",
    "import matplotlib.pyplot as plt\n",
    "from sklearn.metrics import classification_report, confusion_matrix, accuracy_score\n",
    "import seaborn as sns\n",
    "import numpy as np\n",
    "\n",
    "# -----------------------------\n",
    "# 1. Data Preprocessing\n",
    "# -----------------------------\n",
    "data_dir = \"/kaggle/input/ju-cricket/Cricket_Dataset_final/Task_B\"\n",
    "\n",
    "transform = transforms.Compose([\n",
    "    transforms.Resize((224, 224)),\n",
    "    transforms.ToTensor(),\n",
    "    transforms.Normalize([0.485, 0.456, 0.406], \n",
    "                         [0.229, 0.224, 0.225])\n",
    "])\n",
    "\n",
    "train_ds = datasets.ImageFolder(f\"{data_dir}/train/Umpire\", transform=transform)\n",
    "val_ds   = datasets.ImageFolder(f\"{data_dir}/val/Umpire\", transform=transform)\n",
    "test_ds  = datasets.ImageFolder(f\"{data_dir}/test/Umpire\", transform=transform)\n",
    "\n",
    "train_loader = DataLoader(train_ds, batch_size=32, shuffle=True)\n",
    "val_loader   = DataLoader(val_ds, batch_size=32, shuffle=False)\n",
    "test_loader  = DataLoader(test_ds, batch_size=32, shuffle=False)\n",
    "\n",
    "classes = train_ds.classes\n",
    "print(\"Classes:\", classes)\n",
    "\n"
   ]
  },
  {
   "cell_type": "code",
   "execution_count": 2,
   "id": "83f9e35e",
   "metadata": {
    "execution": {
     "iopub.execute_input": "2025-09-10T15:19:12.113893Z",
     "iopub.status.busy": "2025-09-10T15:19:12.113235Z",
     "iopub.status.idle": "2025-09-10T15:19:12.118217Z",
     "shell.execute_reply": "2025-09-10T15:19:12.117431Z"
    },
    "papermill": {
     "duration": 0.009573,
     "end_time": "2025-09-10T15:19:12.119357",
     "exception": false,
     "start_time": "2025-09-10T15:19:12.109784",
     "status": "completed"
    },
    "tags": []
   },
   "outputs": [
    {
     "name": "stdout",
     "output_type": "stream",
     "text": [
      "Total training images: 1728\n",
      "Total validation images: 468\n",
      "Total test images: 585\n",
      "Total images in dataset: 2781\n"
     ]
    }
   ],
   "source": [
    "print(\"Total training images:\", len(train_ds))\n",
    "print(\"Total validation images:\", len(val_ds))\n",
    "print(\"Total test images:\", len(test_ds))\n",
    "\n",
    "total_images = len(train_ds) + len(val_ds) + len(test_ds)\n",
    "print(\"Total images in dataset:\", total_images)\n"
   ]
  },
  {
   "cell_type": "code",
   "execution_count": 3,
   "id": "42a6a35c",
   "metadata": {
    "execution": {
     "iopub.execute_input": "2025-09-10T15:19:12.125600Z",
     "iopub.status.busy": "2025-09-10T15:19:12.125155Z",
     "iopub.status.idle": "2025-09-10T15:19:12.132418Z",
     "shell.execute_reply": "2025-09-10T15:19:12.131686Z"
    },
    "papermill": {
     "duration": 0.011416,
     "end_time": "2025-09-10T15:19:12.133459",
     "exception": false,
     "start_time": "2025-09-10T15:19:12.122043",
     "status": "completed"
    },
    "tags": []
   },
   "outputs": [
    {
     "name": "stdout",
     "output_type": "stream",
     "text": [
      "Training images (excluding 'random_occlusion'): 1536\n",
      "Validation images (excluding 'random_occlusion'): 416\n",
      "Test images (excluding 'random_occlusion'): 520\n",
      "Total images (excluding 'random_occlusion'): 2472\n"
     ]
    }
   ],
   "source": [
    "ignore_folder = \"random_occlusion\"\n",
    "\n",
    "def count_images_ignore_folder(dataset, ignore_folder):\n",
    "    count = 0\n",
    "    for img_path, label in dataset.samples:\n",
    "        # Skip if the image path contains the ignore_folder\n",
    "        if ignore_folder not in img_path.split(\"/\"):\n",
    "            count += 1\n",
    "    return count\n",
    "\n",
    "train_count = count_images_ignore_folder(train_ds, ignore_folder)\n",
    "val_count   = count_images_ignore_folder(val_ds, ignore_folder)\n",
    "test_count  = count_images_ignore_folder(test_ds, ignore_folder)\n",
    "\n",
    "total_count = train_count + val_count + test_count\n",
    "\n",
    "print(\"Training images (excluding '{}'): {}\".format(ignore_folder, train_count))\n",
    "print(\"Validation images (excluding '{}'): {}\".format(ignore_folder, val_count))\n",
    "print(\"Test images (excluding '{}'): {}\".format(ignore_folder, test_count))\n",
    "print(\"Total images (excluding '{}'): {}\".format(ignore_folder, total_count))\n"
   ]
  },
  {
   "cell_type": "code",
   "execution_count": 4,
   "id": "c0df203e",
   "metadata": {
    "execution": {
     "iopub.execute_input": "2025-09-10T15:19:12.139917Z",
     "iopub.status.busy": "2025-09-10T15:19:12.139460Z",
     "iopub.status.idle": "2025-09-10T15:19:12.147982Z",
     "shell.execute_reply": "2025-09-10T15:19:12.147078Z"
    },
    "papermill": {
     "duration": 0.01294,
     "end_time": "2025-09-10T15:19:12.149139",
     "exception": false,
     "start_time": "2025-09-10T15:19:12.136199",
     "status": "completed"
    },
    "tags": []
   },
   "outputs": [
    {
     "name": "stdout",
     "output_type": "stream",
     "text": [
      "Training folders considered: {'motion_blur', 'original', 'chromatic_aberration', 'gaussian_noise', 'lens_flare', 'random_occlusion', 'dirty_lens', 'low_resolution', 'blur'}\n",
      "Validation folders considered: {'motion_blur', 'original', 'chromatic_aberration', 'gaussian_noise', 'lens_flare', 'random_occlusion', 'dirty_lens', 'low_resolution', 'blur'}\n",
      "Test folders considered: {'motion_blur', 'original', 'chromatic_aberration', 'gaussian_noise', 'lens_flare', 'random_occlusion', 'dirty_lens', 'low_resolution', 'blur'}\n"
     ]
    }
   ],
   "source": [
    "ignore_folder = \"random_occlusionw\"\n",
    "\n",
    "def get_included_folders(dataset, ignore_folder):\n",
    "    included = set()\n",
    "    for img_path, label in dataset.samples:\n",
    "        # Split the path into parts and ignore if ignore_folder is in the path\n",
    "        if ignore_folder not in img_path.split(\"/\"):\n",
    "            # The folder name just above the image (or the class folder)\n",
    "            folder_name = img_path.split(\"/\")[-2]\n",
    "            included.add(folder_name)\n",
    "    return included\n",
    "\n",
    "train_folders = get_included_folders(train_ds, ignore_folder)\n",
    "val_folders   = get_included_folders(val_ds, ignore_folder)\n",
    "test_folders  = get_included_folders(test_ds, ignore_folder)\n",
    "\n",
    "print(\"Training folders considered:\", train_folders)\n",
    "print(\"Validation folders considered:\", val_folders)\n",
    "print(\"Test folders considered:\", test_folders)\n"
   ]
  },
  {
   "cell_type": "code",
   "execution_count": 5,
   "id": "4e3c20d4",
   "metadata": {
    "execution": {
     "iopub.execute_input": "2025-09-10T15:19:12.155399Z",
     "iopub.status.busy": "2025-09-10T15:19:12.154850Z",
     "iopub.status.idle": "2025-09-10T15:19:12.272408Z",
     "shell.execute_reply": "2025-09-10T15:19:12.271515Z"
    },
    "papermill": {
     "duration": 0.121954,
     "end_time": "2025-09-10T15:19:12.273663",
     "exception": false,
     "start_time": "2025-09-10T15:19:12.151709",
     "status": "completed"
    },
    "tags": []
   },
   "outputs": [
    {
     "name": "stdout",
     "output_type": "stream",
     "text": [
      "Classes: ['Four', 'Leg_Bye', 'No_ball', 'Out', 'Six', 'Wide']\n",
      "Final Training images: 1536\n",
      "Final Validation images: 416\n",
      "Final Test images: 520\n",
      "Total images after filtering: 2472\n"
     ]
    }
   ],
   "source": [
    "ignore_folder = \"random_occlusion\"\n",
    "\n",
    "def filter_samples(dataset, ignore_folder):\n",
    "    # Keep only samples where ignore_folder is NOT in the path\n",
    "    filtered_samples = [s for s in dataset.samples if ignore_folder not in s[0].split(\"/\")]\n",
    "    dataset.samples = filtered_samples\n",
    "    dataset.targets = [s[1] for s in filtered_samples]  # Update targets accordingly\n",
    "    return dataset\n",
    "\n",
    "# Create original datasets\n",
    "train_ds = datasets.ImageFolder(f\"{data_dir}/train/Umpire\", transform=transform)\n",
    "val_ds   = datasets.ImageFolder(f\"{data_dir}/val/Umpire\", transform=transform)\n",
    "test_ds  = datasets.ImageFolder(f\"{data_dir}/test/Umpire\", transform=transform)\n",
    "\n",
    "# Filter out 'random_occlusion' folder\n",
    "train_ds = filter_samples(train_ds, ignore_folder)\n",
    "val_ds   = filter_samples(val_ds, ignore_folder)\n",
    "test_ds  = filter_samples(test_ds, ignore_folder)\n",
    "\n",
    "# DataLoaders\n",
    "train_loader = DataLoader(train_ds, batch_size=32, shuffle=True)\n",
    "val_loader   = DataLoader(val_ds, batch_size=32, shuffle=False)\n",
    "test_loader  = DataLoader(test_ds, batch_size=32, shuffle=False)\n",
    "\n",
    "# Classes (will remain the same)\n",
    "classes = train_ds.classes\n",
    "print(\"Classes:\", classes)\n",
    "\n",
    "# Show counts\n",
    "print(\"Final Training images:\", len(train_ds))\n",
    "print(\"Final Validation images:\", len(val_ds))\n",
    "print(\"Final Test images:\", len(test_ds))\n",
    "print(\"Total images after filtering:\", len(train_ds) + len(val_ds) + len(test_ds))\n"
   ]
  },
  {
   "cell_type": "code",
   "execution_count": 6,
   "id": "530e7d31",
   "metadata": {
    "execution": {
     "iopub.execute_input": "2025-09-10T15:19:12.280421Z",
     "iopub.status.busy": "2025-09-10T15:19:12.279991Z",
     "iopub.status.idle": "2025-09-10T15:19:12.287599Z",
     "shell.execute_reply": "2025-09-10T15:19:12.286970Z"
    },
    "papermill": {
     "duration": 0.012251,
     "end_time": "2025-09-10T15:19:12.288820",
     "exception": false,
     "start_time": "2025-09-10T15:19:12.276569",
     "status": "completed"
    },
    "tags": []
   },
   "outputs": [
    {
     "name": "stdout",
     "output_type": "stream",
     "text": [
      "Training folders considered: {'motion_blur', 'original', 'chromatic_aberration', 'gaussian_noise', 'lens_flare', 'dirty_lens', 'low_resolution', 'blur'}\n",
      "Validation folders considered: {'motion_blur', 'original', 'chromatic_aberration', 'gaussian_noise', 'lens_flare', 'dirty_lens', 'low_resolution', 'blur'}\n",
      "Test folders considered: {'motion_blur', 'original', 'chromatic_aberration', 'gaussian_noise', 'lens_flare', 'dirty_lens', 'low_resolution', 'blur'}\n"
     ]
    }
   ],
   "source": [
    "ignore_folder = \"random_occlusion\"\n",
    "\n",
    "def get_included_folders(dataset, ignore_folder):\n",
    "    included = set()\n",
    "    for img_path, label in dataset.samples:\n",
    "        # Split the path into parts and ignore if ignore_folder is in the path\n",
    "        if ignore_folder not in img_path.split(\"/\"):\n",
    "            # The folder name just above the image (or the class folder)\n",
    "            folder_name = img_path.split(\"/\")[-2]\n",
    "            included.add(folder_name)\n",
    "    return included\n",
    "\n",
    "train_folders = get_included_folders(train_ds, ignore_folder)\n",
    "val_folders   = get_included_folders(val_ds, ignore_folder)\n",
    "test_folders  = get_included_folders(test_ds, ignore_folder)\n",
    "\n",
    "print(\"Training folders considered:\", train_folders)\n",
    "print(\"Validation folders considered:\", val_folders)\n",
    "print(\"Test folders considered:\", test_folders)\n"
   ]
  },
  {
   "cell_type": "code",
   "execution_count": 7,
   "id": "884808ec",
   "metadata": {
    "execution": {
     "iopub.execute_input": "2025-09-10T15:19:12.295576Z",
     "iopub.status.busy": "2025-09-10T15:19:12.295355Z",
     "iopub.status.idle": "2025-09-10T15:19:13.289581Z",
     "shell.execute_reply": "2025-09-10T15:19:13.288632Z"
    },
    "papermill": {
     "duration": 0.999201,
     "end_time": "2025-09-10T15:19:13.290847",
     "exception": false,
     "start_time": "2025-09-10T15:19:12.291646",
     "status": "completed"
    },
    "tags": []
   },
   "outputs": [
    {
     "name": "stdout",
     "output_type": "stream",
     "text": [
      "🔄 Loading and filtering datasets for Xception (scratch training)...\n",
      "✅ Classes: ['Four', 'Leg_Bye', 'No_ball', 'Out', 'Six', 'Wide']\n",
      "📊 Dataset Statistics:\n",
      "│ Training images: 1536\n",
      "│ Validation images: 416\n",
      "│ Test images: 520\n",
      "│ Total images (after filtering): 2472\n",
      "│ Excluded folder: 'random_occlusion'\n",
      "│ Number of classes: 6\n",
      "Using device: cuda\n",
      "🔄 Creating Xception model from scratch...\n",
      "✅ Model created with 6 output classes\n",
      "📊 Total parameters: 20,819,246\n",
      "📊 Trainable parameters: 20,819,246\n",
      "📋 Model Architecture:\n",
      "│ Input size: (3, 299, 299)\n",
      "│ Xception features: 2048\n",
      "│ Output classes: 6\n",
      "│ Training: From scratch (no pretrained weights)\n",
      "│ Data augmentation: Enabled for robust training\n"
     ]
    }
   ],
   "source": [
    "import torch\n",
    "import torch.nn as nn\n",
    "import torch.nn.functional as F\n",
    "import torch.optim as optim\n",
    "from torch.utils.data import DataLoader\n",
    "from torchvision import datasets, transforms\n",
    "import matplotlib.pyplot as plt\n",
    "from sklearn.metrics import classification_report, confusion_matrix, accuracy_score\n",
    "import seaborn as sns\n",
    "import numpy as np\n",
    "import pandas as pd\n",
    "from tqdm import tqdm\n",
    "import time\n",
    "import os\n",
    "import tempfile\n",
    "\n",
    "# -----------------------------\n",
    "# 1. Fixed Xception Architecture from Scratch\n",
    "# -----------------------------\n",
    "\n",
    "class SeparableConv2d(nn.Module):\n",
    "    \"\"\"Depthwise Separable Convolution - Core of Xception\"\"\"\n",
    "    def __init__(self, in_channels, out_channels, kernel_size=3, stride=1, padding=1, bias=False):\n",
    "        super(SeparableConv2d, self).__init__()\n",
    "        # Depthwise convolution\n",
    "        self.depthwise = nn.Conv2d(in_channels, in_channels, kernel_size=kernel_size,\n",
    "                                   stride=stride, padding=padding, groups=in_channels, bias=bias)\n",
    "        # Pointwise convolution\n",
    "        self.pointwise = nn.Conv2d(in_channels, out_channels, kernel_size=1, bias=bias)\n",
    "\n",
    "    def forward(self, x):\n",
    "        x = self.depthwise(x)\n",
    "        x = self.pointwise(x)\n",
    "        return x\n",
    "\n",
    "class XceptionBlock(nn.Module):\n",
    "    \"\"\"Fixed Xception Block with skip connections\"\"\"\n",
    "    def __init__(self, in_channels, out_channels, reps, stride=1, start_with_relu=True, grow_first=True):\n",
    "        super(XceptionBlock, self).__init__()\n",
    "        \n",
    "        # Skip connection if needed\n",
    "        self.skip = None\n",
    "        if out_channels != in_channels or stride != 1:\n",
    "            self.skip = nn.Conv2d(in_channels, out_channels, 1, stride=stride, bias=False)\n",
    "            self.skipbn = nn.BatchNorm2d(out_channels)\n",
    "        \n",
    "        rep = []\n",
    "        filters = in_channels\n",
    "        \n",
    "        if grow_first:\n",
    "            rep.append(nn.ReLU(inplace=False))  # FIXED: inplace=False\n",
    "            rep.append(SeparableConv2d(in_channels, out_channels, 3, stride=1, padding=1))\n",
    "            rep.append(nn.BatchNorm2d(out_channels))\n",
    "            filters = out_channels\n",
    "\n",
    "        for i in range(reps - 1):\n",
    "            rep.append(nn.ReLU(inplace=False))  # FIXED: inplace=False\n",
    "            rep.append(SeparableConv2d(filters, filters, 3, stride=1, padding=1))\n",
    "            rep.append(nn.BatchNorm2d(filters))\n",
    "\n",
    "        if not grow_first:\n",
    "            rep.append(nn.ReLU(inplace=False))  # FIXED: inplace=False\n",
    "            rep.append(SeparableConv2d(in_channels, out_channels, 3, stride=1, padding=1))\n",
    "            rep.append(nn.BatchNorm2d(out_channels))\n",
    "\n",
    "        if stride != 1:\n",
    "            rep.append(nn.MaxPool2d(3, stride=stride, padding=1))\n",
    "        \n",
    "        self.rep = nn.Sequential(*rep)\n",
    "\n",
    "    def forward(self, x):\n",
    "        output = self.rep(x)\n",
    "        \n",
    "        if self.skip is not None:\n",
    "            skip = self.skip(x)\n",
    "            skip = self.skipbn(skip)\n",
    "        else:\n",
    "            skip = x\n",
    "        \n",
    "        output += skip\n",
    "        return output\n",
    "\n",
    "class Xception(nn.Module):\n",
    "    \"\"\"Fixed Xception Network Architecture from Scratch\"\"\"\n",
    "    def __init__(self, num_classes=1000):\n",
    "        super(Xception, self).__init__()\n",
    "        \n",
    "        # Entry Flow\n",
    "        self.conv1 = nn.Conv2d(3, 32, 3, stride=2, padding=1, bias=False)\n",
    "        self.bn1 = nn.BatchNorm2d(32)\n",
    "        self.relu = nn.ReLU(inplace=False)  # FIXED: inplace=False\n",
    "        \n",
    "        self.conv2 = nn.Conv2d(32, 64, 3, bias=False, padding=1)  # FIXED: added padding\n",
    "        self.bn2 = nn.BatchNorm2d(64)\n",
    "        \n",
    "        self.block1 = XceptionBlock(64, 128, 2, stride=2, start_with_relu=False, grow_first=True)\n",
    "        self.block2 = XceptionBlock(128, 256, 2, stride=2, start_with_relu=True, grow_first=True)\n",
    "        self.block3 = XceptionBlock(256, 728, 2, stride=2, start_with_relu=True, grow_first=True)\n",
    "        \n",
    "        # Middle Flow (repeated 8 times)\n",
    "        self.block4 = XceptionBlock(728, 728, 3, stride=1, start_with_relu=True, grow_first=True)\n",
    "        self.block5 = XceptionBlock(728, 728, 3, stride=1, start_with_relu=True, grow_first=True)\n",
    "        self.block6 = XceptionBlock(728, 728, 3, stride=1, start_with_relu=True, grow_first=True)\n",
    "        self.block7 = XceptionBlock(728, 728, 3, stride=1, start_with_relu=True, grow_first=True)\n",
    "        self.block8 = XceptionBlock(728, 728, 3, stride=1, start_with_relu=True, grow_first=True)\n",
    "        self.block9 = XceptionBlock(728, 728, 3, stride=1, start_with_relu=True, grow_first=True)\n",
    "        self.block10 = XceptionBlock(728, 728, 3, stride=1, start_with_relu=True, grow_first=True)\n",
    "        self.block11 = XceptionBlock(728, 728, 3, stride=1, start_with_relu=True, grow_first=True)\n",
    "        \n",
    "        # Exit Flow\n",
    "        self.block12 = XceptionBlock(728, 1024, 2, stride=2, start_with_relu=True, grow_first=False)\n",
    "        \n",
    "        self.conv3 = SeparableConv2d(1024, 1536, 3, stride=1, padding=1)\n",
    "        self.bn3 = nn.BatchNorm2d(1536)\n",
    "        \n",
    "        self.conv4 = SeparableConv2d(1536, 2048, 3, stride=1, padding=1)\n",
    "        self.bn4 = nn.BatchNorm2d(2048)\n",
    "        \n",
    "        # Final layers\n",
    "        self.avgpool = nn.AdaptiveAvgPool2d((1, 1))\n",
    "        self.dropout = nn.Dropout(0.5)\n",
    "        self.fc = nn.Linear(2048, num_classes)\n",
    "        \n",
    "        # Weight initialization\n",
    "        self._initialize_weights()\n",
    "\n",
    "    def _initialize_weights(self):\n",
    "        \"\"\"Initialize weights using Xavier/He initialization\"\"\"\n",
    "        for m in self.modules():\n",
    "            if isinstance(m, nn.Conv2d):\n",
    "                nn.init.kaiming_normal_(m.weight, mode='fan_out', nonlinearity='relu')\n",
    "                if m.bias is not None:\n",
    "                    nn.init.constant_(m.bias, 0)\n",
    "            elif isinstance(m, nn.BatchNorm2d):\n",
    "                nn.init.constant_(m.weight, 1)\n",
    "                nn.init.constant_(m.bias, 0)\n",
    "            elif isinstance(m, nn.Linear):\n",
    "                nn.init.normal_(m.weight, 0, 0.01)\n",
    "                nn.init.constant_(m.bias, 0)\n",
    "\n",
    "    def forward(self, x):\n",
    "        # Entry Flow\n",
    "        x = self.conv1(x)\n",
    "        x = self.bn1(x)\n",
    "        x = self.relu(x)\n",
    "        \n",
    "        x = self.conv2(x)\n",
    "        x = self.bn2(x)\n",
    "        x = self.relu(x)\n",
    "        \n",
    "        x = self.block1(x)\n",
    "        x = self.block2(x)\n",
    "        x = self.block3(x)\n",
    "        \n",
    "        # Middle Flow\n",
    "        x = self.block4(x)\n",
    "        x = self.block5(x)\n",
    "        x = self.block6(x)\n",
    "        x = self.block7(x)\n",
    "        x = self.block8(x)\n",
    "        x = self.block9(x)\n",
    "        x = self.block10(x)\n",
    "        x = self.block11(x)\n",
    "        \n",
    "        # Exit Flow\n",
    "        x = self.block12(x)\n",
    "        \n",
    "        x = self.conv3(x)\n",
    "        x = self.bn3(x)\n",
    "        x = self.relu(x)\n",
    "        \n",
    "        x = self.conv4(x)\n",
    "        x = self.bn4(x)\n",
    "        x = self.relu(x)\n",
    "        \n",
    "        # Final classification\n",
    "        x = self.avgpool(x)\n",
    "        x = torch.flatten(x, 1)\n",
    "        x = self.dropout(x)\n",
    "        x = self.fc(x)\n",
    "        \n",
    "        return x\n",
    "\n",
    "# -----------------------------\n",
    "# 2. Data Preprocessing with Filtering (Xception - 299x299)\n",
    "# -----------------------------\n",
    "data_dir = \"/kaggle/input/ju-cricket/Cricket_Dataset_final/Task_B\"\n",
    "\n",
    "# Xception training from scratch - with data augmentation\n",
    "transform_train = transforms.Compose([\n",
    "    transforms.Resize((299, 299)),\n",
    "    transforms.RandomHorizontalFlip(p=0.5),  # Data augmentation for scratch training\n",
    "    transforms.RandomRotation(10),\n",
    "    transforms.ColorJitter(brightness=0.2, contrast=0.2, saturation=0.2, hue=0.1),\n",
    "    transforms.ToTensor(),\n",
    "    transforms.Normalize([0.485, 0.456, 0.406], [0.229, 0.224, 0.225])  # ImageNet stats\n",
    "])\n",
    "\n",
    "transform_val_test = transforms.Compose([\n",
    "    transforms.Resize((299, 299)),\n",
    "    transforms.ToTensor(),\n",
    "    transforms.Normalize([0.485, 0.456, 0.406], [0.229, 0.224, 0.225])\n",
    "])\n",
    "\n",
    "ignore_folder = \"random_occlusion\"\n",
    "\n",
    "def filter_samples(dataset, ignore_folder):\n",
    "    \"\"\"Filter out samples containing the ignore_folder in their path\"\"\"\n",
    "    filtered_samples = [s for s in dataset.samples if ignore_folder not in s[0].split(\"/\")]\n",
    "    dataset.samples = filtered_samples\n",
    "    dataset.targets = [s[1] for s in filtered_samples]\n",
    "    return dataset\n",
    "\n",
    "# Create and filter datasets\n",
    "print(\"🔄 Loading and filtering datasets for Xception (scratch training)...\")\n",
    "train_ds = datasets.ImageFolder(f\"{data_dir}/train/Umpire\", transform=transform_train)\n",
    "val_ds   = datasets.ImageFolder(f\"{data_dir}/val/Umpire\", transform=transform_val_test)\n",
    "test_ds  = datasets.ImageFolder(f\"{data_dir}/test/Umpire\", transform=transform_val_test)\n",
    "\n",
    "# Apply filtering\n",
    "train_ds = filter_samples(train_ds, ignore_folder)\n",
    "val_ds   = filter_samples(val_ds, ignore_folder)\n",
    "test_ds  = filter_samples(test_ds, ignore_folder)\n",
    "\n",
    "# Create DataLoaders\n",
    "train_loader = DataLoader(train_ds, batch_size=32, shuffle=True)  # Smaller batch for scratch training\n",
    "val_loader   = DataLoader(val_ds, batch_size=32, shuffle=False)\n",
    "test_loader  = DataLoader(test_ds, batch_size=32, shuffle=False)\n",
    "\n",
    "# Display information\n",
    "classes = train_ds.classes\n",
    "print(f\"✅ Classes: {classes}\")\n",
    "print(f\"📊 Dataset Statistics:\")\n",
    "print(f\"│ Training images: {len(train_ds)}\")\n",
    "print(f\"│ Validation images: {len(val_ds)}\")\n",
    "print(f\"│ Test images: {len(test_ds)}\")\n",
    "print(f\"│ Total images (after filtering): {len(train_ds) + len(val_ds) + len(test_ds)}\")\n",
    "print(f\"│ Excluded folder: '{ignore_folder}'\")\n",
    "print(f\"│ Number of classes: {len(classes)}\")\n",
    "\n",
    "# -----------------------------\n",
    "# 3. Model Setup for Scratch Training\n",
    "# -----------------------------\n",
    "device = torch.device('cuda' if torch.cuda.is_available() else 'cpu')\n",
    "print(f\"Using device: {device}\")\n",
    "\n",
    "# Create Xception model from scratch\n",
    "print(\"🔄 Creating Xception model from scratch...\")\n",
    "model = Xception(num_classes=len(classes))\n",
    "model = model.to(device)\n",
    "\n",
    "print(f\"✅ Model created with {len(classes)} output classes\")\n",
    "\n",
    "# Calculate model parameters and size\n",
    "total_params = sum(p.numel() for p in model.parameters())\n",
    "trainable_params = sum(p.numel() for p in model.parameters() if p.requires_grad)\n",
    "\n",
    "print(f\"📊 Total parameters: {total_params:,}\")\n",
    "print(f\"📊 Trainable parameters: {trainable_params:,}\")\n",
    "print(f\"📋 Model Architecture:\")\n",
    "print(f\"│ Input size: (3, 299, 299)\")\n",
    "print(f\"│ Xception features: 2048\")\n",
    "print(f\"│ Output classes: {len(classes)}\")\n",
    "print(f\"│ Training: From scratch (no pretrained weights)\")\n",
    "print(f\"│ Data augmentation: Enabled for robust training\")"
   ]
  },
  {
   "cell_type": "code",
   "execution_count": 8,
   "id": "f7641f2d",
   "metadata": {
    "execution": {
     "iopub.execute_input": "2025-09-10T15:19:13.298346Z",
     "iopub.status.busy": "2025-09-10T15:19:13.298075Z",
     "iopub.status.idle": "2025-09-10T16:30:04.167783Z",
     "shell.execute_reply": "2025-09-10T16:30:04.166991Z"
    },
    "papermill": {
     "duration": 4250.876986,
     "end_time": "2025-09-10T16:30:04.170995",
     "exception": false,
     "start_time": "2025-09-10T15:19:13.294009",
     "status": "completed"
    },
    "tags": []
   },
   "outputs": [
    {
     "name": "stdout",
     "output_type": "stream",
     "text": [
      "\n",
      "📋 Training Configuration:\n",
      "│ Model: Xception (from scratch)\n",
      "│ Optimizer: Adam (lr=0.001)\n",
      "│ Weight Decay: 1e-4\n",
      "│ Loss Function: CrossEntropyLoss\n",
      "│ Batch Size: 16\n",
      "│ LR Scheduler: StepLR (decay every 10 epochs)\n",
      "│ Device: cuda\n",
      "│ Data: Filtered + Augmented\n",
      "\n",
      "🚀 Starting Xception Training from Scratch for 50 epochs...\n",
      "================================================================================\n",
      "\n",
      "📈 Epoch 1/50\n",
      "Current LR: 1.00e-03\n",
      "--------------------------------------------------\n",
      "🔄 Training Phase...\n"
     ]
    },
    {
     "name": "stderr",
     "output_type": "stream",
     "text": [
      "Training: 100%|██████████████████████████████| 48/48 [01:19<00:00,  1.66s/it, Loss=1.6797, Acc=0.3053]\n"
     ]
    },
    {
     "name": "stdout",
     "output_type": "stream",
     "text": [
      "✅ Training completed in 79.60s\n",
      "🔍 Validation Phase...\n"
     ]
    },
    {
     "name": "stderr",
     "output_type": "stream",
     "text": [
      "Validation: 100%|██████████████████████████████| 13/13 [00:09<00:00,  1.40it/s, Loss=1.6278, Acc=0.2909]\n"
     ]
    },
    {
     "name": "stdout",
     "output_type": "stream",
     "text": [
      "✅ Validation completed in 9.26s\n",
      "🌟 New best model found! Validation Accuracy: 0.2909\n",
      "\n",
      "📊 Epoch 1 Summary:\n",
      "│ Train Loss: 1.6797 | Train Acc: 0.3053\n",
      "│ Val Loss:   1.6278 | Val Acc:   0.2909\n",
      "│ Train Time: 79.60s | Val Time: 9.26s\n",
      "│ Total Epoch Time: 88.87s\n",
      "│ Best Val Acc: 0.2909 (Epoch 1)\n",
      "│ GPU Memory: 0.4GB / 9.0GB\n",
      "================================================================================\n",
      "\n",
      "📈 Epoch 2/50\n",
      "Current LR: 1.00e-03\n",
      "--------------------------------------------------\n",
      "🔄 Training Phase...\n"
     ]
    },
    {
     "name": "stderr",
     "output_type": "stream",
     "text": [
      "Training: 100%|██████████████████████████████| 48/48 [01:15<00:00,  1.57s/it, Loss=1.6065, Acc=0.3490]\n"
     ]
    },
    {
     "name": "stdout",
     "output_type": "stream",
     "text": [
      "✅ Training completed in 75.28s\n",
      "🔍 Validation Phase...\n"
     ]
    },
    {
     "name": "stderr",
     "output_type": "stream",
     "text": [
      "Validation: 100%|██████████████████████████████| 13/13 [00:07<00:00,  1.79it/s, Loss=1.7088, Acc=0.2043]\n"
     ]
    },
    {
     "name": "stdout",
     "output_type": "stream",
     "text": [
      "✅ Validation completed in 7.25s\n",
      "\n",
      "📊 Epoch 2 Summary:\n",
      "│ Train Loss: 1.6065 | Train Acc: 0.3490\n",
      "│ Val Loss:   1.7088 | Val Acc:   0.2043\n",
      "│ Train Time: 75.28s | Val Time: 7.25s\n",
      "│ Total Epoch Time: 82.54s\n",
      "│ Best Val Acc: 0.2909 (Epoch 1)\n",
      "│ GPU Memory: 0.4GB / 9.0GB\n",
      "================================================================================\n",
      "\n",
      "📈 Epoch 3/50\n",
      "Current LR: 1.00e-03\n",
      "--------------------------------------------------\n",
      "🔄 Training Phase...\n"
     ]
    },
    {
     "name": "stderr",
     "output_type": "stream",
     "text": [
      "Training: 100%|██████████████████████████████| 48/48 [01:16<00:00,  1.60s/it, Loss=1.5696, Acc=0.3633]\n"
     ]
    },
    {
     "name": "stdout",
     "output_type": "stream",
     "text": [
      "✅ Training completed in 77.00s\n",
      "🔍 Validation Phase...\n"
     ]
    },
    {
     "name": "stderr",
     "output_type": "stream",
     "text": [
      "Validation: 100%|██████████████████████████████| 13/13 [00:07<00:00,  1.80it/s, Loss=1.6116, Acc=0.3317]\n"
     ]
    },
    {
     "name": "stdout",
     "output_type": "stream",
     "text": [
      "✅ Validation completed in 7.23s\n",
      "🌟 New best model found! Validation Accuracy: 0.3317\n",
      "\n",
      "📊 Epoch 3 Summary:\n",
      "│ Train Loss: 1.5696 | Train Acc: 0.3633\n",
      "│ Val Loss:   1.6116 | Val Acc:   0.3317\n",
      "│ Train Time: 77.00s | Val Time: 7.23s\n",
      "│ Total Epoch Time: 84.23s\n",
      "│ Best Val Acc: 0.3317 (Epoch 3)\n",
      "│ GPU Memory: 0.4GB / 9.0GB\n",
      "================================================================================\n",
      "\n",
      "📈 Epoch 4/50\n",
      "Current LR: 1.00e-03\n",
      "--------------------------------------------------\n",
      "🔄 Training Phase...\n"
     ]
    },
    {
     "name": "stderr",
     "output_type": "stream",
     "text": [
      "Training: 100%|██████████████████████████████| 48/48 [01:17<00:00,  1.61s/it, Loss=1.4957, Acc=0.3952]\n"
     ]
    },
    {
     "name": "stdout",
     "output_type": "stream",
     "text": [
      "✅ Training completed in 77.20s\n",
      "🔍 Validation Phase...\n"
     ]
    },
    {
     "name": "stderr",
     "output_type": "stream",
     "text": [
      "Validation: 100%|██████████████████████████████| 13/13 [00:07<00:00,  1.82it/s, Loss=2.8276, Acc=0.2644]\n"
     ]
    },
    {
     "name": "stdout",
     "output_type": "stream",
     "text": [
      "✅ Validation completed in 7.15s\n",
      "\n",
      "📊 Epoch 4 Summary:\n",
      "│ Train Loss: 1.4957 | Train Acc: 0.3952\n",
      "│ Val Loss:   2.8276 | Val Acc:   0.2644\n",
      "│ Train Time: 77.20s | Val Time: 7.15s\n",
      "│ Total Epoch Time: 84.36s\n",
      "│ Best Val Acc: 0.3317 (Epoch 3)\n",
      "│ GPU Memory: 0.4GB / 9.0GB\n",
      "================================================================================\n",
      "\n",
      "📈 Epoch 5/50\n",
      "Current LR: 1.00e-03\n",
      "--------------------------------------------------\n",
      "🔄 Training Phase...\n"
     ]
    },
    {
     "name": "stderr",
     "output_type": "stream",
     "text": [
      "Training: 100%|██████████████████████████████| 48/48 [01:17<00:00,  1.61s/it, Loss=1.5100, Acc=0.3880]\n"
     ]
    },
    {
     "name": "stdout",
     "output_type": "stream",
     "text": [
      "✅ Training completed in 77.30s\n",
      "🔍 Validation Phase...\n"
     ]
    },
    {
     "name": "stderr",
     "output_type": "stream",
     "text": [
      "Validation: 100%|██████████████████████████████| 13/13 [00:07<00:00,  1.81it/s, Loss=1.5252, Acc=0.3630]\n"
     ]
    },
    {
     "name": "stdout",
     "output_type": "stream",
     "text": [
      "✅ Validation completed in 7.17s\n",
      "🌟 New best model found! Validation Accuracy: 0.3630\n",
      "\n",
      "📊 Epoch 5 Summary:\n",
      "│ Train Loss: 1.5100 | Train Acc: 0.3880\n",
      "│ Val Loss:   1.5252 | Val Acc:   0.3630\n",
      "│ Train Time: 77.30s | Val Time: 7.17s\n",
      "│ Total Epoch Time: 84.48s\n",
      "│ Best Val Acc: 0.3630 (Epoch 5)\n",
      "│ GPU Memory: 0.4GB / 9.0GB\n",
      "================================================================================\n",
      "\n",
      "📈 Epoch 6/50\n",
      "Current LR: 1.00e-03\n",
      "--------------------------------------------------\n",
      "🔄 Training Phase...\n"
     ]
    },
    {
     "name": "stderr",
     "output_type": "stream",
     "text": [
      "Training: 100%|██████████████████████████████| 48/48 [01:17<00:00,  1.61s/it, Loss=1.3828, Acc=0.4473]\n"
     ]
    },
    {
     "name": "stdout",
     "output_type": "stream",
     "text": [
      "✅ Training completed in 77.13s\n",
      "🔍 Validation Phase...\n"
     ]
    },
    {
     "name": "stderr",
     "output_type": "stream",
     "text": [
      "Validation: 100%|██████████████████████████████| 13/13 [00:07<00:00,  1.82it/s, Loss=1.6749, Acc=0.2668]\n"
     ]
    },
    {
     "name": "stdout",
     "output_type": "stream",
     "text": [
      "✅ Validation completed in 7.16s\n",
      "\n",
      "📊 Epoch 6 Summary:\n",
      "│ Train Loss: 1.3828 | Train Acc: 0.4473\n",
      "│ Val Loss:   1.6749 | Val Acc:   0.2668\n",
      "│ Train Time: 77.13s | Val Time: 7.16s\n",
      "│ Total Epoch Time: 84.30s\n",
      "│ Best Val Acc: 0.3630 (Epoch 5)\n",
      "│ GPU Memory: 0.4GB / 9.0GB\n",
      "================================================================================\n",
      "\n",
      "📈 Epoch 7/50\n",
      "Current LR: 1.00e-03\n",
      "--------------------------------------------------\n",
      "🔄 Training Phase...\n"
     ]
    },
    {
     "name": "stderr",
     "output_type": "stream",
     "text": [
      "Training: 100%|██████████████████████████████| 48/48 [01:17<00:00,  1.61s/it, Loss=1.3522, Acc=0.4805]\n"
     ]
    },
    {
     "name": "stdout",
     "output_type": "stream",
     "text": [
      "✅ Training completed in 77.35s\n",
      "🔍 Validation Phase...\n"
     ]
    },
    {
     "name": "stderr",
     "output_type": "stream",
     "text": [
      "Validation: 100%|██████████████████████████████| 13/13 [00:07<00:00,  1.81it/s, Loss=1.5671, Acc=0.4327]\n"
     ]
    },
    {
     "name": "stdout",
     "output_type": "stream",
     "text": [
      "✅ Validation completed in 7.19s\n",
      "🌟 New best model found! Validation Accuracy: 0.4327\n",
      "\n",
      "📊 Epoch 7 Summary:\n",
      "│ Train Loss: 1.3522 | Train Acc: 0.4805\n",
      "│ Val Loss:   1.5671 | Val Acc:   0.4327\n",
      "│ Train Time: 77.35s | Val Time: 7.19s\n",
      "│ Total Epoch Time: 84.54s\n",
      "│ Best Val Acc: 0.4327 (Epoch 7)\n",
      "│ GPU Memory: 0.4GB / 9.0GB\n",
      "================================================================================\n",
      "\n",
      "📈 Epoch 8/50\n",
      "Current LR: 1.00e-03\n",
      "--------------------------------------------------\n",
      "🔄 Training Phase...\n"
     ]
    },
    {
     "name": "stderr",
     "output_type": "stream",
     "text": [
      "Training: 100%|██████████████████████████████| 48/48 [01:17<00:00,  1.62s/it, Loss=1.2061, Acc=0.5397]\n"
     ]
    },
    {
     "name": "stdout",
     "output_type": "stream",
     "text": [
      "✅ Training completed in 77.65s\n",
      "🔍 Validation Phase...\n"
     ]
    },
    {
     "name": "stderr",
     "output_type": "stream",
     "text": [
      "Validation: 100%|██████████████████████████████| 13/13 [00:07<00:00,  1.79it/s, Loss=1.9476, Acc=0.4087]\n"
     ]
    },
    {
     "name": "stdout",
     "output_type": "stream",
     "text": [
      "✅ Validation completed in 7.27s\n",
      "\n",
      "📊 Epoch 8 Summary:\n",
      "│ Train Loss: 1.2061 | Train Acc: 0.5397\n",
      "│ Val Loss:   1.9476 | Val Acc:   0.4087\n",
      "│ Train Time: 77.65s | Val Time: 7.27s\n",
      "│ Total Epoch Time: 84.92s\n",
      "│ Best Val Acc: 0.4327 (Epoch 7)\n",
      "│ GPU Memory: 0.4GB / 9.0GB\n",
      "================================================================================\n",
      "\n",
      "📈 Epoch 9/50\n",
      "Current LR: 1.00e-03\n",
      "--------------------------------------------------\n",
      "🔄 Training Phase...\n"
     ]
    },
    {
     "name": "stderr",
     "output_type": "stream",
     "text": [
      "Training: 100%|██████████████████████████████| 48/48 [01:17<00:00,  1.62s/it, Loss=1.0324, Acc=0.6126]\n"
     ]
    },
    {
     "name": "stdout",
     "output_type": "stream",
     "text": [
      "✅ Training completed in 77.59s\n",
      "🔍 Validation Phase...\n"
     ]
    },
    {
     "name": "stderr",
     "output_type": "stream",
     "text": [
      "Validation: 100%|██████████████████████████████| 13/13 [00:07<00:00,  1.82it/s, Loss=1.9620, Acc=0.4808]\n"
     ]
    },
    {
     "name": "stdout",
     "output_type": "stream",
     "text": [
      "✅ Validation completed in 7.15s\n",
      "🌟 New best model found! Validation Accuracy: 0.4808\n",
      "\n",
      "📊 Epoch 9 Summary:\n",
      "│ Train Loss: 1.0324 | Train Acc: 0.6126\n",
      "│ Val Loss:   1.9620 | Val Acc:   0.4808\n",
      "│ Train Time: 77.59s | Val Time: 7.15s\n",
      "│ Total Epoch Time: 84.75s\n",
      "│ Best Val Acc: 0.4808 (Epoch 9)\n",
      "│ GPU Memory: 0.4GB / 9.0GB\n",
      "================================================================================\n",
      "\n",
      "📈 Epoch 10/50\n",
      "Current LR: 1.00e-03\n",
      "--------------------------------------------------\n",
      "🔄 Training Phase...\n"
     ]
    },
    {
     "name": "stderr",
     "output_type": "stream",
     "text": [
      "Training: 100%|██████████████████████████████| 48/48 [01:17<00:00,  1.61s/it, Loss=0.7909, Acc=0.7168]\n"
     ]
    },
    {
     "name": "stdout",
     "output_type": "stream",
     "text": [
      "✅ Training completed in 77.50s\n",
      "🔍 Validation Phase...\n"
     ]
    },
    {
     "name": "stderr",
     "output_type": "stream",
     "text": [
      "Validation: 100%|██████████████████████████████| 13/13 [00:07<00:00,  1.84it/s, Loss=2.1024, Acc=0.4519]\n"
     ]
    },
    {
     "name": "stdout",
     "output_type": "stream",
     "text": [
      "✅ Validation completed in 7.07s\n",
      "\n",
      "📊 Epoch 10 Summary:\n",
      "│ Train Loss: 0.7909 | Train Acc: 0.7168\n",
      "│ Val Loss:   2.1024 | Val Acc:   0.4519\n",
      "│ Train Time: 77.50s | Val Time: 7.07s\n",
      "│ Total Epoch Time: 84.57s\n",
      "│ Best Val Acc: 0.4808 (Epoch 9)\n",
      "│ GPU Memory: 0.4GB / 9.0GB\n",
      "================================================================================\n",
      "\n",
      "📈 Epoch 11/50\n",
      "Current LR: 1.00e-04\n",
      "--------------------------------------------------\n",
      "🔄 Training Phase...\n"
     ]
    },
    {
     "name": "stderr",
     "output_type": "stream",
     "text": [
      "Training: 100%|██████████████████████████████| 48/48 [01:17<00:00,  1.62s/it, Loss=0.5996, Acc=0.7891]\n"
     ]
    },
    {
     "name": "stdout",
     "output_type": "stream",
     "text": [
      "✅ Training completed in 77.57s\n",
      "🔍 Validation Phase...\n"
     ]
    },
    {
     "name": "stderr",
     "output_type": "stream",
     "text": [
      "Validation: 100%|██████████████████████████████| 13/13 [00:07<00:00,  1.78it/s, Loss=1.2839, Acc=0.5505]\n"
     ]
    },
    {
     "name": "stdout",
     "output_type": "stream",
     "text": [
      "✅ Validation completed in 7.32s\n",
      "🌟 New best model found! Validation Accuracy: 0.5505\n",
      "\n",
      "📊 Epoch 11 Summary:\n",
      "│ Train Loss: 0.5996 | Train Acc: 0.7891\n",
      "│ Val Loss:   1.2839 | Val Acc:   0.5505\n",
      "│ Train Time: 77.57s | Val Time: 7.32s\n",
      "│ Total Epoch Time: 84.90s\n",
      "│ Best Val Acc: 0.5505 (Epoch 11)\n",
      "│ GPU Memory: 0.4GB / 9.0GB\n",
      "================================================================================\n",
      "\n",
      "📈 Epoch 12/50\n",
      "Current LR: 1.00e-04\n",
      "--------------------------------------------------\n",
      "🔄 Training Phase...\n"
     ]
    },
    {
     "name": "stderr",
     "output_type": "stream",
     "text": [
      "Training: 100%|██████████████████████████████| 48/48 [01:17<00:00,  1.62s/it, Loss=0.4470, Acc=0.8483]\n"
     ]
    },
    {
     "name": "stdout",
     "output_type": "stream",
     "text": [
      "✅ Training completed in 77.69s\n",
      "🔍 Validation Phase...\n"
     ]
    },
    {
     "name": "stderr",
     "output_type": "stream",
     "text": [
      "Validation: 100%|██████████████████████████████| 13/13 [00:07<00:00,  1.78it/s, Loss=1.2575, Acc=0.6010]\n"
     ]
    },
    {
     "name": "stdout",
     "output_type": "stream",
     "text": [
      "✅ Validation completed in 7.30s\n",
      "🌟 New best model found! Validation Accuracy: 0.6010\n",
      "\n",
      "📊 Epoch 12 Summary:\n",
      "│ Train Loss: 0.4470 | Train Acc: 0.8483\n",
      "│ Val Loss:   1.2575 | Val Acc:   0.6010\n",
      "│ Train Time: 77.69s | Val Time: 7.30s\n",
      "│ Total Epoch Time: 85.00s\n",
      "│ Best Val Acc: 0.6010 (Epoch 12)\n",
      "│ GPU Memory: 0.4GB / 9.0GB\n",
      "================================================================================\n",
      "\n",
      "📈 Epoch 13/50\n",
      "Current LR: 1.00e-04\n",
      "--------------------------------------------------\n",
      "🔄 Training Phase...\n"
     ]
    },
    {
     "name": "stderr",
     "output_type": "stream",
     "text": [
      "Training: 100%|██████████████████████████████| 48/48 [01:17<00:00,  1.62s/it, Loss=0.3784, Acc=0.8763]\n"
     ]
    },
    {
     "name": "stdout",
     "output_type": "stream",
     "text": [
      "✅ Training completed in 77.83s\n",
      "🔍 Validation Phase...\n"
     ]
    },
    {
     "name": "stderr",
     "output_type": "stream",
     "text": [
      "Validation: 100%|██████████████████████████████| 13/13 [00:07<00:00,  1.76it/s, Loss=1.2882, Acc=0.6010]\n"
     ]
    },
    {
     "name": "stdout",
     "output_type": "stream",
     "text": [
      "✅ Validation completed in 7.38s\n",
      "\n",
      "📊 Epoch 13 Summary:\n",
      "│ Train Loss: 0.3784 | Train Acc: 0.8763\n",
      "│ Val Loss:   1.2882 | Val Acc:   0.6010\n",
      "│ Train Time: 77.83s | Val Time: 7.38s\n",
      "│ Total Epoch Time: 85.21s\n",
      "│ Best Val Acc: 0.6010 (Epoch 12)\n",
      "│ GPU Memory: 0.4GB / 9.0GB\n",
      "================================================================================\n",
      "\n",
      "📈 Epoch 14/50\n",
      "Current LR: 1.00e-04\n",
      "--------------------------------------------------\n",
      "🔄 Training Phase...\n"
     ]
    },
    {
     "name": "stderr",
     "output_type": "stream",
     "text": [
      "Training: 100%|██████████████████████████████| 48/48 [01:17<00:00,  1.62s/it, Loss=0.3029, Acc=0.9017]\n"
     ]
    },
    {
     "name": "stdout",
     "output_type": "stream",
     "text": [
      "✅ Training completed in 77.58s\n",
      "🔍 Validation Phase...\n"
     ]
    },
    {
     "name": "stderr",
     "output_type": "stream",
     "text": [
      "Validation: 100%|██████████████████████████████| 13/13 [00:07<00:00,  1.82it/s, Loss=1.1852, Acc=0.5962]\n"
     ]
    },
    {
     "name": "stdout",
     "output_type": "stream",
     "text": [
      "✅ Validation completed in 7.14s\n",
      "\n",
      "📊 Epoch 14 Summary:\n",
      "│ Train Loss: 0.3029 | Train Acc: 0.9017\n",
      "│ Val Loss:   1.1852 | Val Acc:   0.5962\n",
      "│ Train Time: 77.58s | Val Time: 7.14s\n",
      "│ Total Epoch Time: 84.72s\n",
      "│ Best Val Acc: 0.6010 (Epoch 12)\n",
      "│ GPU Memory: 0.4GB / 9.0GB\n",
      "================================================================================\n",
      "\n",
      "📈 Epoch 15/50\n",
      "Current LR: 1.00e-04\n",
      "--------------------------------------------------\n",
      "🔄 Training Phase...\n"
     ]
    },
    {
     "name": "stderr",
     "output_type": "stream",
     "text": [
      "Training: 100%|██████████████████████████████| 48/48 [01:17<00:00,  1.61s/it, Loss=0.2622, Acc=0.9219]\n"
     ]
    },
    {
     "name": "stdout",
     "output_type": "stream",
     "text": [
      "✅ Training completed in 77.51s\n",
      "🔍 Validation Phase...\n"
     ]
    },
    {
     "name": "stderr",
     "output_type": "stream",
     "text": [
      "Validation: 100%|██████████████████████████████| 13/13 [00:07<00:00,  1.80it/s, Loss=1.3122, Acc=0.5865]\n"
     ]
    },
    {
     "name": "stdout",
     "output_type": "stream",
     "text": [
      "✅ Validation completed in 7.22s\n",
      "\n",
      "📊 Epoch 15 Summary:\n",
      "│ Train Loss: 0.2622 | Train Acc: 0.9219\n",
      "│ Val Loss:   1.3122 | Val Acc:   0.5865\n",
      "│ Train Time: 77.51s | Val Time: 7.22s\n",
      "│ Total Epoch Time: 84.73s\n",
      "│ Best Val Acc: 0.6010 (Epoch 12)\n",
      "│ GPU Memory: 0.4GB / 9.0GB\n",
      "================================================================================\n",
      "\n",
      "📈 Epoch 16/50\n",
      "Current LR: 1.00e-04\n",
      "--------------------------------------------------\n",
      "🔄 Training Phase...\n"
     ]
    },
    {
     "name": "stderr",
     "output_type": "stream",
     "text": [
      "Training: 100%|██████████████████████████████| 48/48 [01:17<00:00,  1.61s/it, Loss=0.2331, Acc=0.9258]\n"
     ]
    },
    {
     "name": "stdout",
     "output_type": "stream",
     "text": [
      "✅ Training completed in 77.52s\n",
      "🔍 Validation Phase...\n"
     ]
    },
    {
     "name": "stderr",
     "output_type": "stream",
     "text": [
      "Validation: 100%|██████████████████████████████| 13/13 [00:07<00:00,  1.79it/s, Loss=1.3509, Acc=0.5986]\n"
     ]
    },
    {
     "name": "stdout",
     "output_type": "stream",
     "text": [
      "✅ Validation completed in 7.26s\n",
      "\n",
      "📊 Epoch 16 Summary:\n",
      "│ Train Loss: 0.2331 | Train Acc: 0.9258\n",
      "│ Val Loss:   1.3509 | Val Acc:   0.5986\n",
      "│ Train Time: 77.52s | Val Time: 7.26s\n",
      "│ Total Epoch Time: 84.78s\n",
      "│ Best Val Acc: 0.6010 (Epoch 12)\n",
      "│ GPU Memory: 0.4GB / 9.0GB\n",
      "================================================================================\n",
      "\n",
      "📈 Epoch 17/50\n",
      "Current LR: 1.00e-04\n",
      "--------------------------------------------------\n",
      "🔄 Training Phase...\n"
     ]
    },
    {
     "name": "stderr",
     "output_type": "stream",
     "text": [
      "Training: 100%|██████████████████████████████| 48/48 [01:17<00:00,  1.62s/it, Loss=0.2074, Acc=0.9349]\n"
     ]
    },
    {
     "name": "stdout",
     "output_type": "stream",
     "text": [
      "✅ Training completed in 77.78s\n",
      "🔍 Validation Phase...\n"
     ]
    },
    {
     "name": "stderr",
     "output_type": "stream",
     "text": [
      "Validation: 100%|██████████████████████████████| 13/13 [00:07<00:00,  1.77it/s, Loss=1.3224, Acc=0.6226]\n"
     ]
    },
    {
     "name": "stdout",
     "output_type": "stream",
     "text": [
      "✅ Validation completed in 7.36s\n",
      "🌟 New best model found! Validation Accuracy: 0.6226\n",
      "\n",
      "📊 Epoch 17 Summary:\n",
      "│ Train Loss: 0.2074 | Train Acc: 0.9349\n",
      "│ Val Loss:   1.3224 | Val Acc:   0.6226\n",
      "│ Train Time: 77.78s | Val Time: 7.36s\n",
      "│ Total Epoch Time: 85.15s\n",
      "│ Best Val Acc: 0.6226 (Epoch 17)\n",
      "│ GPU Memory: 0.4GB / 9.0GB\n",
      "================================================================================\n",
      "\n",
      "📈 Epoch 18/50\n",
      "Current LR: 1.00e-04\n",
      "--------------------------------------------------\n",
      "🔄 Training Phase...\n"
     ]
    },
    {
     "name": "stderr",
     "output_type": "stream",
     "text": [
      "Training: 100%|██████████████████████████████| 48/48 [01:17<00:00,  1.62s/it, Loss=0.1571, Acc=0.9557]\n"
     ]
    },
    {
     "name": "stdout",
     "output_type": "stream",
     "text": [
      "✅ Training completed in 77.55s\n",
      "🔍 Validation Phase...\n"
     ]
    },
    {
     "name": "stderr",
     "output_type": "stream",
     "text": [
      "Validation: 100%|██████████████████████████████| 13/13 [00:07<00:00,  1.80it/s, Loss=1.4642, Acc=0.5865]\n"
     ]
    },
    {
     "name": "stdout",
     "output_type": "stream",
     "text": [
      "✅ Validation completed in 7.21s\n",
      "\n",
      "📊 Epoch 18 Summary:\n",
      "│ Train Loss: 0.1571 | Train Acc: 0.9557\n",
      "│ Val Loss:   1.4642 | Val Acc:   0.5865\n",
      "│ Train Time: 77.55s | Val Time: 7.21s\n",
      "│ Total Epoch Time: 84.76s\n",
      "│ Best Val Acc: 0.6226 (Epoch 17)\n",
      "│ GPU Memory: 0.4GB / 9.0GB\n",
      "================================================================================\n",
      "\n",
      "📈 Epoch 19/50\n",
      "Current LR: 1.00e-04\n",
      "--------------------------------------------------\n",
      "🔄 Training Phase...\n"
     ]
    },
    {
     "name": "stderr",
     "output_type": "stream",
     "text": [
      "Training: 100%|██████████████████████████████| 48/48 [01:17<00:00,  1.62s/it, Loss=0.1386, Acc=0.9609]\n"
     ]
    },
    {
     "name": "stdout",
     "output_type": "stream",
     "text": [
      "✅ Training completed in 77.77s\n",
      "🔍 Validation Phase...\n"
     ]
    },
    {
     "name": "stderr",
     "output_type": "stream",
     "text": [
      "Validation: 100%|██████████████████████████████| 13/13 [00:07<00:00,  1.80it/s, Loss=1.5824, Acc=0.5986]\n"
     ]
    },
    {
     "name": "stdout",
     "output_type": "stream",
     "text": [
      "✅ Validation completed in 7.24s\n",
      "\n",
      "📊 Epoch 19 Summary:\n",
      "│ Train Loss: 0.1386 | Train Acc: 0.9609\n",
      "│ Val Loss:   1.5824 | Val Acc:   0.5986\n",
      "│ Train Time: 77.77s | Val Time: 7.24s\n",
      "│ Total Epoch Time: 85.01s\n",
      "│ Best Val Acc: 0.6226 (Epoch 17)\n",
      "│ GPU Memory: 0.4GB / 9.0GB\n",
      "================================================================================\n",
      "\n",
      "📈 Epoch 20/50\n",
      "Current LR: 1.00e-04\n",
      "--------------------------------------------------\n",
      "🔄 Training Phase...\n"
     ]
    },
    {
     "name": "stderr",
     "output_type": "stream",
     "text": [
      "Training: 100%|██████████████████████████████| 48/48 [01:17<00:00,  1.62s/it, Loss=0.1288, Acc=0.9635]\n"
     ]
    },
    {
     "name": "stdout",
     "output_type": "stream",
     "text": [
      "✅ Training completed in 77.84s\n",
      "🔍 Validation Phase...\n"
     ]
    },
    {
     "name": "stderr",
     "output_type": "stream",
     "text": [
      "Validation: 100%|██████████████████████████████| 13/13 [00:07<00:00,  1.80it/s, Loss=1.6694, Acc=0.5865]\n"
     ]
    },
    {
     "name": "stdout",
     "output_type": "stream",
     "text": [
      "✅ Validation completed in 7.22s\n",
      "\n",
      "📊 Epoch 20 Summary:\n",
      "│ Train Loss: 0.1288 | Train Acc: 0.9635\n",
      "│ Val Loss:   1.6694 | Val Acc:   0.5865\n",
      "│ Train Time: 77.84s | Val Time: 7.22s\n",
      "│ Total Epoch Time: 85.06s\n",
      "│ Best Val Acc: 0.6226 (Epoch 17)\n",
      "│ GPU Memory: 0.4GB / 9.0GB\n",
      "================================================================================\n",
      "\n",
      "📈 Epoch 21/50\n",
      "Current LR: 1.00e-05\n",
      "--------------------------------------------------\n",
      "🔄 Training Phase...\n"
     ]
    },
    {
     "name": "stderr",
     "output_type": "stream",
     "text": [
      "Training: 100%|██████████████████████████████| 48/48 [01:17<00:00,  1.62s/it, Loss=0.1100, Acc=0.9681]\n"
     ]
    },
    {
     "name": "stdout",
     "output_type": "stream",
     "text": [
      "✅ Training completed in 77.57s\n",
      "🔍 Validation Phase...\n"
     ]
    },
    {
     "name": "stderr",
     "output_type": "stream",
     "text": [
      "Validation: 100%|██████████████████████████████| 13/13 [00:07<00:00,  1.80it/s, Loss=1.5601, Acc=0.6058]\n"
     ]
    },
    {
     "name": "stdout",
     "output_type": "stream",
     "text": [
      "✅ Validation completed in 7.22s\n",
      "\n",
      "📊 Epoch 21 Summary:\n",
      "│ Train Loss: 0.1100 | Train Acc: 0.9681\n",
      "│ Val Loss:   1.5601 | Val Acc:   0.6058\n",
      "│ Train Time: 77.57s | Val Time: 7.22s\n",
      "│ Total Epoch Time: 84.79s\n",
      "│ Best Val Acc: 0.6226 (Epoch 17)\n",
      "│ GPU Memory: 0.4GB / 9.0GB\n",
      "================================================================================\n",
      "\n",
      "📈 Epoch 22/50\n",
      "Current LR: 1.00e-05\n",
      "--------------------------------------------------\n",
      "🔄 Training Phase...\n"
     ]
    },
    {
     "name": "stderr",
     "output_type": "stream",
     "text": [
      "Training: 100%|██████████████████████████████| 48/48 [01:17<00:00,  1.61s/it, Loss=0.1043, Acc=0.9753]\n"
     ]
    },
    {
     "name": "stdout",
     "output_type": "stream",
     "text": [
      "✅ Training completed in 77.42s\n",
      "🔍 Validation Phase...\n"
     ]
    },
    {
     "name": "stderr",
     "output_type": "stream",
     "text": [
      "Validation: 100%|██████████████████████████████| 13/13 [00:07<00:00,  1.79it/s, Loss=1.5971, Acc=0.6034]\n"
     ]
    },
    {
     "name": "stdout",
     "output_type": "stream",
     "text": [
      "✅ Validation completed in 7.25s\n",
      "\n",
      "📊 Epoch 22 Summary:\n",
      "│ Train Loss: 0.1043 | Train Acc: 0.9753\n",
      "│ Val Loss:   1.5971 | Val Acc:   0.6034\n",
      "│ Train Time: 77.42s | Val Time: 7.25s\n",
      "│ Total Epoch Time: 84.68s\n",
      "│ Best Val Acc: 0.6226 (Epoch 17)\n",
      "│ GPU Memory: 0.4GB / 9.0GB\n",
      "================================================================================\n",
      "\n",
      "📈 Epoch 23/50\n",
      "Current LR: 1.00e-05\n",
      "--------------------------------------------------\n",
      "🔄 Training Phase...\n"
     ]
    },
    {
     "name": "stderr",
     "output_type": "stream",
     "text": [
      "Training: 100%|██████████████████████████████| 48/48 [01:17<00:00,  1.62s/it, Loss=0.0967, Acc=0.9785]\n"
     ]
    },
    {
     "name": "stdout",
     "output_type": "stream",
     "text": [
      "✅ Training completed in 77.54s\n",
      "🔍 Validation Phase...\n"
     ]
    },
    {
     "name": "stderr",
     "output_type": "stream",
     "text": [
      "Validation: 100%|██████████████████████████████| 13/13 [00:07<00:00,  1.81it/s, Loss=1.5321, Acc=0.6034]\n"
     ]
    },
    {
     "name": "stdout",
     "output_type": "stream",
     "text": [
      "✅ Validation completed in 7.17s\n",
      "\n",
      "📊 Epoch 23 Summary:\n",
      "│ Train Loss: 0.0967 | Train Acc: 0.9785\n",
      "│ Val Loss:   1.5321 | Val Acc:   0.6034\n",
      "│ Train Time: 77.54s | Val Time: 7.17s\n",
      "│ Total Epoch Time: 84.71s\n",
      "│ Best Val Acc: 0.6226 (Epoch 17)\n",
      "│ GPU Memory: 0.4GB / 9.0GB\n",
      "================================================================================\n",
      "\n",
      "📈 Epoch 24/50\n",
      "Current LR: 1.00e-05\n",
      "--------------------------------------------------\n",
      "🔄 Training Phase...\n"
     ]
    },
    {
     "name": "stderr",
     "output_type": "stream",
     "text": [
      "Training: 100%|██████████████████████████████| 48/48 [01:17<00:00,  1.62s/it, Loss=0.0861, Acc=0.9798]\n"
     ]
    },
    {
     "name": "stdout",
     "output_type": "stream",
     "text": [
      "✅ Training completed in 77.62s\n",
      "🔍 Validation Phase...\n"
     ]
    },
    {
     "name": "stderr",
     "output_type": "stream",
     "text": [
      "Validation: 100%|██████████████████████████████| 13/13 [00:07<00:00,  1.79it/s, Loss=1.5326, Acc=0.6058]\n"
     ]
    },
    {
     "name": "stdout",
     "output_type": "stream",
     "text": [
      "✅ Validation completed in 7.27s\n",
      "\n",
      "📊 Epoch 24 Summary:\n",
      "│ Train Loss: 0.0861 | Train Acc: 0.9798\n",
      "│ Val Loss:   1.5326 | Val Acc:   0.6058\n",
      "│ Train Time: 77.62s | Val Time: 7.27s\n",
      "│ Total Epoch Time: 84.90s\n",
      "│ Best Val Acc: 0.6226 (Epoch 17)\n",
      "│ GPU Memory: 0.4GB / 9.0GB\n",
      "================================================================================\n",
      "\n",
      "📈 Epoch 25/50\n",
      "Current LR: 1.00e-05\n",
      "--------------------------------------------------\n",
      "🔄 Training Phase...\n"
     ]
    },
    {
     "name": "stderr",
     "output_type": "stream",
     "text": [
      "Training: 100%|██████████████████████████████| 48/48 [01:17<00:00,  1.61s/it, Loss=0.0917, Acc=0.9818]\n"
     ]
    },
    {
     "name": "stdout",
     "output_type": "stream",
     "text": [
      "✅ Training completed in 77.40s\n",
      "🔍 Validation Phase...\n"
     ]
    },
    {
     "name": "stderr",
     "output_type": "stream",
     "text": [
      "Validation: 100%|██████████████████████████████| 13/13 [00:07<00:00,  1.75it/s, Loss=1.5201, Acc=0.6106]\n"
     ]
    },
    {
     "name": "stdout",
     "output_type": "stream",
     "text": [
      "✅ Validation completed in 7.42s\n",
      "\n",
      "📊 Epoch 25 Summary:\n",
      "│ Train Loss: 0.0917 | Train Acc: 0.9818\n",
      "│ Val Loss:   1.5201 | Val Acc:   0.6106\n",
      "│ Train Time: 77.40s | Val Time: 7.42s\n",
      "│ Total Epoch Time: 84.82s\n",
      "│ Best Val Acc: 0.6226 (Epoch 17)\n",
      "│ GPU Memory: 0.4GB / 9.0GB\n",
      "================================================================================\n",
      "\n",
      "📈 Epoch 26/50\n",
      "Current LR: 1.00e-05\n",
      "--------------------------------------------------\n",
      "🔄 Training Phase...\n"
     ]
    },
    {
     "name": "stderr",
     "output_type": "stream",
     "text": [
      "Training: 100%|██████████████████████████████| 48/48 [01:17<00:00,  1.62s/it, Loss=0.0802, Acc=0.9798]\n"
     ]
    },
    {
     "name": "stdout",
     "output_type": "stream",
     "text": [
      "✅ Training completed in 77.70s\n",
      "🔍 Validation Phase...\n"
     ]
    },
    {
     "name": "stderr",
     "output_type": "stream",
     "text": [
      "Validation: 100%|██████████████████████████████| 13/13 [00:07<00:00,  1.76it/s, Loss=1.5095, Acc=0.6130]\n"
     ]
    },
    {
     "name": "stdout",
     "output_type": "stream",
     "text": [
      "✅ Validation completed in 7.41s\n",
      "\n",
      "📊 Epoch 26 Summary:\n",
      "│ Train Loss: 0.0802 | Train Acc: 0.9798\n",
      "│ Val Loss:   1.5095 | Val Acc:   0.6130\n",
      "│ Train Time: 77.70s | Val Time: 7.41s\n",
      "│ Total Epoch Time: 85.11s\n",
      "│ Best Val Acc: 0.6226 (Epoch 17)\n",
      "│ GPU Memory: 0.4GB / 9.0GB\n",
      "================================================================================\n",
      "\n",
      "📈 Epoch 27/50\n",
      "Current LR: 1.00e-05\n",
      "--------------------------------------------------\n",
      "🔄 Training Phase...\n"
     ]
    },
    {
     "name": "stderr",
     "output_type": "stream",
     "text": [
      "Training: 100%|██████████████████████████████| 48/48 [01:17<00:00,  1.61s/it, Loss=0.0860, Acc=0.9792]\n"
     ]
    },
    {
     "name": "stdout",
     "output_type": "stream",
     "text": [
      "✅ Training completed in 77.14s\n",
      "🔍 Validation Phase...\n"
     ]
    },
    {
     "name": "stderr",
     "output_type": "stream",
     "text": [
      "Validation: 100%|██████████████████████████████| 13/13 [00:07<00:00,  1.82it/s, Loss=1.5559, Acc=0.6130]\n"
     ]
    },
    {
     "name": "stdout",
     "output_type": "stream",
     "text": [
      "✅ Validation completed in 7.17s\n",
      "\n",
      "📊 Epoch 27 Summary:\n",
      "│ Train Loss: 0.0860 | Train Acc: 0.9792\n",
      "│ Val Loss:   1.5559 | Val Acc:   0.6130\n",
      "│ Train Time: 77.14s | Val Time: 7.17s\n",
      "│ Total Epoch Time: 84.32s\n",
      "│ Best Val Acc: 0.6226 (Epoch 17)\n",
      "│ GPU Memory: 0.4GB / 9.0GB\n",
      "================================================================================\n",
      "\n",
      "📈 Epoch 28/50\n",
      "Current LR: 1.00e-05\n",
      "--------------------------------------------------\n",
      "🔄 Training Phase...\n"
     ]
    },
    {
     "name": "stderr",
     "output_type": "stream",
     "text": [
      "Training: 100%|██████████████████████████████| 48/48 [01:17<00:00,  1.61s/it, Loss=0.0891, Acc=0.9798]\n"
     ]
    },
    {
     "name": "stdout",
     "output_type": "stream",
     "text": [
      "✅ Training completed in 77.50s\n",
      "🔍 Validation Phase...\n"
     ]
    },
    {
     "name": "stderr",
     "output_type": "stream",
     "text": [
      "Validation: 100%|██████████████████████████████| 13/13 [00:07<00:00,  1.83it/s, Loss=1.5207, Acc=0.6034]\n"
     ]
    },
    {
     "name": "stdout",
     "output_type": "stream",
     "text": [
      "✅ Validation completed in 7.11s\n",
      "\n",
      "📊 Epoch 28 Summary:\n",
      "│ Train Loss: 0.0891 | Train Acc: 0.9798\n",
      "│ Val Loss:   1.5207 | Val Acc:   0.6034\n",
      "│ Train Time: 77.50s | Val Time: 7.11s\n",
      "│ Total Epoch Time: 84.62s\n",
      "│ Best Val Acc: 0.6226 (Epoch 17)\n",
      "│ GPU Memory: 0.4GB / 9.0GB\n",
      "================================================================================\n",
      "\n",
      "📈 Epoch 29/50\n",
      "Current LR: 1.00e-05\n",
      "--------------------------------------------------\n",
      "🔄 Training Phase...\n"
     ]
    },
    {
     "name": "stderr",
     "output_type": "stream",
     "text": [
      "Training: 100%|██████████████████████████████| 48/48 [01:17<00:00,  1.61s/it, Loss=0.0709, Acc=0.9857]\n"
     ]
    },
    {
     "name": "stdout",
     "output_type": "stream",
     "text": [
      "✅ Training completed in 77.37s\n",
      "🔍 Validation Phase...\n"
     ]
    },
    {
     "name": "stderr",
     "output_type": "stream",
     "text": [
      "Validation: 100%|██████████████████████████████| 13/13 [00:07<00:00,  1.82it/s, Loss=1.5534, Acc=0.6130]\n"
     ]
    },
    {
     "name": "stdout",
     "output_type": "stream",
     "text": [
      "✅ Validation completed in 7.14s\n",
      "\n",
      "📊 Epoch 29 Summary:\n",
      "│ Train Loss: 0.0709 | Train Acc: 0.9857\n",
      "│ Val Loss:   1.5534 | Val Acc:   0.6130\n",
      "│ Train Time: 77.37s | Val Time: 7.14s\n",
      "│ Total Epoch Time: 84.51s\n",
      "│ Best Val Acc: 0.6226 (Epoch 17)\n",
      "│ GPU Memory: 0.4GB / 9.0GB\n",
      "================================================================================\n",
      "\n",
      "📈 Epoch 30/50\n",
      "Current LR: 1.00e-05\n",
      "--------------------------------------------------\n",
      "🔄 Training Phase...\n"
     ]
    },
    {
     "name": "stderr",
     "output_type": "stream",
     "text": [
      "Training: 100%|██████████████████████████████| 48/48 [01:17<00:00,  1.61s/it, Loss=0.0703, Acc=0.9876]\n"
     ]
    },
    {
     "name": "stdout",
     "output_type": "stream",
     "text": [
      "✅ Training completed in 77.41s\n",
      "🔍 Validation Phase...\n"
     ]
    },
    {
     "name": "stderr",
     "output_type": "stream",
     "text": [
      "Validation: 100%|██████████████████████████████| 13/13 [00:07<00:00,  1.81it/s, Loss=1.5577, Acc=0.6034]\n"
     ]
    },
    {
     "name": "stdout",
     "output_type": "stream",
     "text": [
      "✅ Validation completed in 7.19s\n",
      "\n",
      "📊 Epoch 30 Summary:\n",
      "│ Train Loss: 0.0703 | Train Acc: 0.9876\n",
      "│ Val Loss:   1.5577 | Val Acc:   0.6034\n",
      "│ Train Time: 77.41s | Val Time: 7.19s\n",
      "│ Total Epoch Time: 84.60s\n",
      "│ Best Val Acc: 0.6226 (Epoch 17)\n",
      "│ GPU Memory: 0.4GB / 9.0GB\n",
      "================================================================================\n",
      "\n",
      "📈 Epoch 31/50\n",
      "Current LR: 1.00e-06\n",
      "--------------------------------------------------\n",
      "🔄 Training Phase...\n"
     ]
    },
    {
     "name": "stderr",
     "output_type": "stream",
     "text": [
      "Training: 100%|██████████████████████████████| 48/48 [01:17<00:00,  1.61s/it, Loss=0.0777, Acc=0.9818]\n"
     ]
    },
    {
     "name": "stdout",
     "output_type": "stream",
     "text": [
      "✅ Training completed in 77.49s\n",
      "🔍 Validation Phase...\n"
     ]
    },
    {
     "name": "stderr",
     "output_type": "stream",
     "text": [
      "Validation: 100%|██████████████████████████████| 13/13 [00:07<00:00,  1.82it/s, Loss=1.6025, Acc=0.6010]\n"
     ]
    },
    {
     "name": "stdout",
     "output_type": "stream",
     "text": [
      "✅ Validation completed in 7.17s\n",
      "\n",
      "📊 Epoch 31 Summary:\n",
      "│ Train Loss: 0.0777 | Train Acc: 0.9818\n",
      "│ Val Loss:   1.6025 | Val Acc:   0.6010\n",
      "│ Train Time: 77.49s | Val Time: 7.17s\n",
      "│ Total Epoch Time: 84.66s\n",
      "│ Best Val Acc: 0.6226 (Epoch 17)\n",
      "│ GPU Memory: 0.4GB / 9.0GB\n",
      "================================================================================\n",
      "\n",
      "📈 Epoch 32/50\n",
      "Current LR: 1.00e-06\n",
      "--------------------------------------------------\n",
      "🔄 Training Phase...\n"
     ]
    },
    {
     "name": "stderr",
     "output_type": "stream",
     "text": [
      "Training: 100%|██████████████████████████████| 48/48 [01:17<00:00,  1.62s/it, Loss=0.0765, Acc=0.9837]\n"
     ]
    },
    {
     "name": "stdout",
     "output_type": "stream",
     "text": [
      "✅ Training completed in 77.53s\n",
      "🔍 Validation Phase...\n"
     ]
    },
    {
     "name": "stderr",
     "output_type": "stream",
     "text": [
      "Validation: 100%|██████████████████████████████| 13/13 [00:07<00:00,  1.81it/s, Loss=1.5494, Acc=0.6106]\n"
     ]
    },
    {
     "name": "stdout",
     "output_type": "stream",
     "text": [
      "✅ Validation completed in 7.18s\n",
      "\n",
      "📊 Epoch 32 Summary:\n",
      "│ Train Loss: 0.0765 | Train Acc: 0.9837\n",
      "│ Val Loss:   1.5494 | Val Acc:   0.6106\n",
      "│ Train Time: 77.53s | Val Time: 7.18s\n",
      "│ Total Epoch Time: 84.71s\n",
      "│ Best Val Acc: 0.6226 (Epoch 17)\n",
      "│ GPU Memory: 0.4GB / 9.0GB\n",
      "================================================================================\n",
      "\n",
      "📈 Epoch 33/50\n",
      "Current LR: 1.00e-06\n",
      "--------------------------------------------------\n",
      "🔄 Training Phase...\n"
     ]
    },
    {
     "name": "stderr",
     "output_type": "stream",
     "text": [
      "Training: 100%|██████████████████████████████| 48/48 [01:17<00:00,  1.62s/it, Loss=0.0725, Acc=0.9870]\n"
     ]
    },
    {
     "name": "stdout",
     "output_type": "stream",
     "text": [
      "✅ Training completed in 77.60s\n",
      "🔍 Validation Phase...\n"
     ]
    },
    {
     "name": "stderr",
     "output_type": "stream",
     "text": [
      "Validation: 100%|██████████████████████████████| 13/13 [00:07<00:00,  1.82it/s, Loss=1.4986, Acc=0.6058]\n"
     ]
    },
    {
     "name": "stdout",
     "output_type": "stream",
     "text": [
      "✅ Validation completed in 7.14s\n",
      "\n",
      "📊 Epoch 33 Summary:\n",
      "│ Train Loss: 0.0725 | Train Acc: 0.9870\n",
      "│ Val Loss:   1.4986 | Val Acc:   0.6058\n",
      "│ Train Time: 77.60s | Val Time: 7.14s\n",
      "│ Total Epoch Time: 84.74s\n",
      "│ Best Val Acc: 0.6226 (Epoch 17)\n",
      "│ GPU Memory: 0.4GB / 9.0GB\n",
      "================================================================================\n",
      "\n",
      "📈 Epoch 34/50\n",
      "Current LR: 1.00e-06\n",
      "--------------------------------------------------\n",
      "🔄 Training Phase...\n"
     ]
    },
    {
     "name": "stderr",
     "output_type": "stream",
     "text": [
      "Training: 100%|██████████████████████████████| 48/48 [01:17<00:00,  1.61s/it, Loss=0.0702, Acc=0.9837]\n"
     ]
    },
    {
     "name": "stdout",
     "output_type": "stream",
     "text": [
      "✅ Training completed in 77.29s\n",
      "🔍 Validation Phase...\n"
     ]
    },
    {
     "name": "stderr",
     "output_type": "stream",
     "text": [
      "Validation: 100%|██████████████████████████████| 13/13 [00:07<00:00,  1.82it/s, Loss=1.5811, Acc=0.5865]\n"
     ]
    },
    {
     "name": "stdout",
     "output_type": "stream",
     "text": [
      "✅ Validation completed in 7.15s\n",
      "\n",
      "📊 Epoch 34 Summary:\n",
      "│ Train Loss: 0.0702 | Train Acc: 0.9837\n",
      "│ Val Loss:   1.5811 | Val Acc:   0.5865\n",
      "│ Train Time: 77.29s | Val Time: 7.15s\n",
      "│ Total Epoch Time: 84.45s\n",
      "│ Best Val Acc: 0.6226 (Epoch 17)\n",
      "│ GPU Memory: 0.4GB / 9.0GB\n",
      "================================================================================\n",
      "\n",
      "📈 Epoch 35/50\n",
      "Current LR: 1.00e-06\n",
      "--------------------------------------------------\n",
      "🔄 Training Phase...\n"
     ]
    },
    {
     "name": "stderr",
     "output_type": "stream",
     "text": [
      "Training: 100%|██████████████████████████████| 48/48 [01:17<00:00,  1.61s/it, Loss=0.0686, Acc=0.9876]\n"
     ]
    },
    {
     "name": "stdout",
     "output_type": "stream",
     "text": [
      "✅ Training completed in 77.40s\n",
      "🔍 Validation Phase...\n"
     ]
    },
    {
     "name": "stderr",
     "output_type": "stream",
     "text": [
      "Validation: 100%|██████████████████████████████| 13/13 [00:07<00:00,  1.78it/s, Loss=1.5835, Acc=0.5938]\n"
     ]
    },
    {
     "name": "stdout",
     "output_type": "stream",
     "text": [
      "✅ Validation completed in 7.31s\n",
      "\n",
      "📊 Epoch 35 Summary:\n",
      "│ Train Loss: 0.0686 | Train Acc: 0.9876\n",
      "│ Val Loss:   1.5835 | Val Acc:   0.5938\n",
      "│ Train Time: 77.40s | Val Time: 7.31s\n",
      "│ Total Epoch Time: 84.71s\n",
      "│ Best Val Acc: 0.6226 (Epoch 17)\n",
      "│ GPU Memory: 0.4GB / 9.0GB\n",
      "================================================================================\n",
      "\n",
      "📈 Epoch 36/50\n",
      "Current LR: 1.00e-06\n",
      "--------------------------------------------------\n",
      "🔄 Training Phase...\n"
     ]
    },
    {
     "name": "stderr",
     "output_type": "stream",
     "text": [
      "Training: 100%|██████████████████████████████| 48/48 [01:17<00:00,  1.61s/it, Loss=0.0653, Acc=0.9889]\n"
     ]
    },
    {
     "name": "stdout",
     "output_type": "stream",
     "text": [
      "✅ Training completed in 77.18s\n",
      "🔍 Validation Phase...\n"
     ]
    },
    {
     "name": "stderr",
     "output_type": "stream",
     "text": [
      "Validation: 100%|██████████████████████████████| 13/13 [00:07<00:00,  1.83it/s, Loss=1.5562, Acc=0.6010]\n"
     ]
    },
    {
     "name": "stdout",
     "output_type": "stream",
     "text": [
      "✅ Validation completed in 7.12s\n",
      "\n",
      "📊 Epoch 36 Summary:\n",
      "│ Train Loss: 0.0653 | Train Acc: 0.9889\n",
      "│ Val Loss:   1.5562 | Val Acc:   0.6010\n",
      "│ Train Time: 77.18s | Val Time: 7.12s\n",
      "│ Total Epoch Time: 84.31s\n",
      "│ Best Val Acc: 0.6226 (Epoch 17)\n",
      "│ GPU Memory: 0.4GB / 9.0GB\n",
      "================================================================================\n",
      "\n",
      "📈 Epoch 37/50\n",
      "Current LR: 1.00e-06\n",
      "--------------------------------------------------\n",
      "🔄 Training Phase...\n"
     ]
    },
    {
     "name": "stderr",
     "output_type": "stream",
     "text": [
      "Training: 100%|██████████████████████████████| 48/48 [01:17<00:00,  1.61s/it, Loss=0.0654, Acc=0.9909]\n"
     ]
    },
    {
     "name": "stdout",
     "output_type": "stream",
     "text": [
      "✅ Training completed in 77.06s\n",
      "🔍 Validation Phase...\n"
     ]
    },
    {
     "name": "stderr",
     "output_type": "stream",
     "text": [
      "Validation: 100%|██████████████████████████████| 13/13 [00:07<00:00,  1.83it/s, Loss=1.6018, Acc=0.5913]\n"
     ]
    },
    {
     "name": "stdout",
     "output_type": "stream",
     "text": [
      "✅ Validation completed in 7.12s\n",
      "\n",
      "📊 Epoch 37 Summary:\n",
      "│ Train Loss: 0.0654 | Train Acc: 0.9909\n",
      "│ Val Loss:   1.6018 | Val Acc:   0.5913\n",
      "│ Train Time: 77.06s | Val Time: 7.12s\n",
      "│ Total Epoch Time: 84.19s\n",
      "│ Best Val Acc: 0.6226 (Epoch 17)\n",
      "│ GPU Memory: 0.4GB / 9.0GB\n",
      "================================================================================\n",
      "\n",
      "📈 Epoch 38/50\n",
      "Current LR: 1.00e-06\n",
      "--------------------------------------------------\n",
      "🔄 Training Phase...\n"
     ]
    },
    {
     "name": "stderr",
     "output_type": "stream",
     "text": [
      "Training: 100%|██████████████████████████████| 48/48 [01:17<00:00,  1.61s/it, Loss=0.0663, Acc=0.9863]\n"
     ]
    },
    {
     "name": "stdout",
     "output_type": "stream",
     "text": [
      "✅ Training completed in 77.37s\n",
      "🔍 Validation Phase...\n"
     ]
    },
    {
     "name": "stderr",
     "output_type": "stream",
     "text": [
      "Validation: 100%|██████████████████████████████| 13/13 [00:07<00:00,  1.80it/s, Loss=1.5698, Acc=0.5938]\n"
     ]
    },
    {
     "name": "stdout",
     "output_type": "stream",
     "text": [
      "✅ Validation completed in 7.21s\n",
      "\n",
      "📊 Epoch 38 Summary:\n",
      "│ Train Loss: 0.0663 | Train Acc: 0.9863\n",
      "│ Val Loss:   1.5698 | Val Acc:   0.5938\n",
      "│ Train Time: 77.37s | Val Time: 7.21s\n",
      "│ Total Epoch Time: 84.59s\n",
      "│ Best Val Acc: 0.6226 (Epoch 17)\n",
      "│ GPU Memory: 0.4GB / 9.0GB\n",
      "================================================================================\n",
      "\n",
      "📈 Epoch 39/50\n",
      "Current LR: 1.00e-06\n",
      "--------------------------------------------------\n",
      "🔄 Training Phase...\n"
     ]
    },
    {
     "name": "stderr",
     "output_type": "stream",
     "text": [
      "Training: 100%|██████████████████████████████| 48/48 [01:17<00:00,  1.61s/it, Loss=0.0715, Acc=0.9837]\n"
     ]
    },
    {
     "name": "stdout",
     "output_type": "stream",
     "text": [
      "✅ Training completed in 77.15s\n",
      "🔍 Validation Phase...\n"
     ]
    },
    {
     "name": "stderr",
     "output_type": "stream",
     "text": [
      "Validation: 100%|██████████████████████████████| 13/13 [00:07<00:00,  1.82it/s, Loss=1.5892, Acc=0.5938]\n"
     ]
    },
    {
     "name": "stdout",
     "output_type": "stream",
     "text": [
      "✅ Validation completed in 7.16s\n",
      "\n",
      "📊 Epoch 39 Summary:\n",
      "│ Train Loss: 0.0715 | Train Acc: 0.9837\n",
      "│ Val Loss:   1.5892 | Val Acc:   0.5938\n",
      "│ Train Time: 77.15s | Val Time: 7.16s\n",
      "│ Total Epoch Time: 84.31s\n",
      "│ Best Val Acc: 0.6226 (Epoch 17)\n",
      "│ GPU Memory: 0.4GB / 9.0GB\n",
      "================================================================================\n",
      "\n",
      "📈 Epoch 40/50\n",
      "Current LR: 1.00e-06\n",
      "--------------------------------------------------\n",
      "🔄 Training Phase...\n"
     ]
    },
    {
     "name": "stderr",
     "output_type": "stream",
     "text": [
      "Training: 100%|██████████████████████████████| 48/48 [01:17<00:00,  1.61s/it, Loss=0.0806, Acc=0.9818]\n"
     ]
    },
    {
     "name": "stdout",
     "output_type": "stream",
     "text": [
      "✅ Training completed in 77.14s\n",
      "🔍 Validation Phase...\n"
     ]
    },
    {
     "name": "stderr",
     "output_type": "stream",
     "text": [
      "Validation: 100%|██████████████████████████████| 13/13 [00:07<00:00,  1.82it/s, Loss=1.5718, Acc=0.5769]\n"
     ]
    },
    {
     "name": "stdout",
     "output_type": "stream",
     "text": [
      "✅ Validation completed in 7.15s\n",
      "\n",
      "📊 Epoch 40 Summary:\n",
      "│ Train Loss: 0.0806 | Train Acc: 0.9818\n",
      "│ Val Loss:   1.5718 | Val Acc:   0.5769\n",
      "│ Train Time: 77.14s | Val Time: 7.15s\n",
      "│ Total Epoch Time: 84.29s\n",
      "│ Best Val Acc: 0.6226 (Epoch 17)\n",
      "│ GPU Memory: 0.4GB / 9.0GB\n",
      "================================================================================\n",
      "\n",
      "📈 Epoch 41/50\n",
      "Current LR: 1.00e-07\n",
      "--------------------------------------------------\n",
      "🔄 Training Phase...\n"
     ]
    },
    {
     "name": "stderr",
     "output_type": "stream",
     "text": [
      "Training: 100%|██████████████████████████████| 48/48 [01:17<00:00,  1.62s/it, Loss=0.0704, Acc=0.9870]\n"
     ]
    },
    {
     "name": "stdout",
     "output_type": "stream",
     "text": [
      "✅ Training completed in 77.64s\n",
      "🔍 Validation Phase...\n"
     ]
    },
    {
     "name": "stderr",
     "output_type": "stream",
     "text": [
      "Validation: 100%|██████████████████████████████| 13/13 [00:07<00:00,  1.81it/s, Loss=1.5695, Acc=0.5913]\n"
     ]
    },
    {
     "name": "stdout",
     "output_type": "stream",
     "text": [
      "✅ Validation completed in 7.19s\n",
      "\n",
      "📊 Epoch 41 Summary:\n",
      "│ Train Loss: 0.0704 | Train Acc: 0.9870\n",
      "│ Val Loss:   1.5695 | Val Acc:   0.5913\n",
      "│ Train Time: 77.64s | Val Time: 7.19s\n",
      "│ Total Epoch Time: 84.84s\n",
      "│ Best Val Acc: 0.6226 (Epoch 17)\n",
      "│ GPU Memory: 0.4GB / 9.0GB\n",
      "================================================================================\n",
      "\n",
      "📈 Epoch 42/50\n",
      "Current LR: 1.00e-07\n",
      "--------------------------------------------------\n",
      "🔄 Training Phase...\n"
     ]
    },
    {
     "name": "stderr",
     "output_type": "stream",
     "text": [
      "Training: 100%|██████████████████████████████| 48/48 [01:18<00:00,  1.63s/it, Loss=0.0726, Acc=0.9876]\n"
     ]
    },
    {
     "name": "stdout",
     "output_type": "stream",
     "text": [
      "✅ Training completed in 78.08s\n",
      "🔍 Validation Phase...\n"
     ]
    },
    {
     "name": "stderr",
     "output_type": "stream",
     "text": [
      "Validation: 100%|██████████████████████████████| 13/13 [00:07<00:00,  1.83it/s, Loss=1.5163, Acc=0.6034]\n"
     ]
    },
    {
     "name": "stdout",
     "output_type": "stream",
     "text": [
      "✅ Validation completed in 7.11s\n",
      "\n",
      "📊 Epoch 42 Summary:\n",
      "│ Train Loss: 0.0726 | Train Acc: 0.9876\n",
      "│ Val Loss:   1.5163 | Val Acc:   0.6034\n",
      "│ Train Time: 78.08s | Val Time: 7.11s\n",
      "│ Total Epoch Time: 85.19s\n",
      "│ Best Val Acc: 0.6226 (Epoch 17)\n",
      "│ GPU Memory: 0.4GB / 9.0GB\n",
      "================================================================================\n",
      "\n",
      "📈 Epoch 43/50\n",
      "Current LR: 1.00e-07\n",
      "--------------------------------------------------\n",
      "🔄 Training Phase...\n"
     ]
    },
    {
     "name": "stderr",
     "output_type": "stream",
     "text": [
      "Training: 100%|██████████████████████████████| 48/48 [01:17<00:00,  1.62s/it, Loss=0.0841, Acc=0.9766]\n"
     ]
    },
    {
     "name": "stdout",
     "output_type": "stream",
     "text": [
      "✅ Training completed in 77.57s\n",
      "🔍 Validation Phase...\n"
     ]
    },
    {
     "name": "stderr",
     "output_type": "stream",
     "text": [
      "Validation: 100%|██████████████████████████████| 13/13 [00:07<00:00,  1.82it/s, Loss=1.5558, Acc=0.5962]\n"
     ]
    },
    {
     "name": "stdout",
     "output_type": "stream",
     "text": [
      "✅ Validation completed in 7.14s\n",
      "\n",
      "📊 Epoch 43 Summary:\n",
      "│ Train Loss: 0.0841 | Train Acc: 0.9766\n",
      "│ Val Loss:   1.5558 | Val Acc:   0.5962\n",
      "│ Train Time: 77.57s | Val Time: 7.14s\n",
      "│ Total Epoch Time: 84.71s\n",
      "│ Best Val Acc: 0.6226 (Epoch 17)\n",
      "│ GPU Memory: 0.4GB / 9.0GB\n",
      "================================================================================\n",
      "\n",
      "📈 Epoch 44/50\n",
      "Current LR: 1.00e-07\n",
      "--------------------------------------------------\n",
      "🔄 Training Phase...\n"
     ]
    },
    {
     "name": "stderr",
     "output_type": "stream",
     "text": [
      "Training: 100%|██████████████████████████████| 48/48 [01:17<00:00,  1.60s/it, Loss=0.0582, Acc=0.9922]\n"
     ]
    },
    {
     "name": "stdout",
     "output_type": "stream",
     "text": [
      "✅ Training completed in 77.04s\n",
      "🔍 Validation Phase...\n"
     ]
    },
    {
     "name": "stderr",
     "output_type": "stream",
     "text": [
      "Validation: 100%|██████████████████████████████| 13/13 [00:07<00:00,  1.82it/s, Loss=1.5249, Acc=0.5962]\n"
     ]
    },
    {
     "name": "stdout",
     "output_type": "stream",
     "text": [
      "✅ Validation completed in 7.14s\n",
      "\n",
      "📊 Epoch 44 Summary:\n",
      "│ Train Loss: 0.0582 | Train Acc: 0.9922\n",
      "│ Val Loss:   1.5249 | Val Acc:   0.5962\n",
      "│ Train Time: 77.04s | Val Time: 7.14s\n",
      "│ Total Epoch Time: 84.18s\n",
      "│ Best Val Acc: 0.6226 (Epoch 17)\n",
      "│ GPU Memory: 0.4GB / 9.0GB\n",
      "================================================================================\n",
      "\n",
      "📈 Epoch 45/50\n",
      "Current LR: 1.00e-07\n",
      "--------------------------------------------------\n",
      "🔄 Training Phase...\n"
     ]
    },
    {
     "name": "stderr",
     "output_type": "stream",
     "text": [
      "Training: 100%|██████████████████████████████| 48/48 [01:17<00:00,  1.62s/it, Loss=0.0658, Acc=0.9870]\n"
     ]
    },
    {
     "name": "stdout",
     "output_type": "stream",
     "text": [
      "✅ Training completed in 77.71s\n",
      "🔍 Validation Phase...\n"
     ]
    },
    {
     "name": "stderr",
     "output_type": "stream",
     "text": [
      "Validation: 100%|██████████████████████████████| 13/13 [00:07<00:00,  1.81it/s, Loss=1.6006, Acc=0.5889]\n"
     ]
    },
    {
     "name": "stdout",
     "output_type": "stream",
     "text": [
      "✅ Validation completed in 7.19s\n",
      "\n",
      "📊 Epoch 45 Summary:\n",
      "│ Train Loss: 0.0658 | Train Acc: 0.9870\n",
      "│ Val Loss:   1.6006 | Val Acc:   0.5889\n",
      "│ Train Time: 77.71s | Val Time: 7.19s\n",
      "│ Total Epoch Time: 84.90s\n",
      "│ Best Val Acc: 0.6226 (Epoch 17)\n",
      "│ GPU Memory: 0.4GB / 9.0GB\n",
      "================================================================================\n",
      "\n",
      "📈 Epoch 46/50\n",
      "Current LR: 1.00e-07\n",
      "--------------------------------------------------\n",
      "🔄 Training Phase...\n"
     ]
    },
    {
     "name": "stderr",
     "output_type": "stream",
     "text": [
      "Training: 100%|██████████████████████████████| 48/48 [01:17<00:00,  1.62s/it, Loss=0.0686, Acc=0.9863]\n"
     ]
    },
    {
     "name": "stdout",
     "output_type": "stream",
     "text": [
      "✅ Training completed in 77.80s\n",
      "🔍 Validation Phase...\n"
     ]
    },
    {
     "name": "stderr",
     "output_type": "stream",
     "text": [
      "Validation: 100%|██████████████████████████████| 13/13 [00:07<00:00,  1.82it/s, Loss=1.5297, Acc=0.6058]\n"
     ]
    },
    {
     "name": "stdout",
     "output_type": "stream",
     "text": [
      "✅ Validation completed in 7.14s\n",
      "\n",
      "📊 Epoch 46 Summary:\n",
      "│ Train Loss: 0.0686 | Train Acc: 0.9863\n",
      "│ Val Loss:   1.5297 | Val Acc:   0.6058\n",
      "│ Train Time: 77.80s | Val Time: 7.14s\n",
      "│ Total Epoch Time: 84.94s\n",
      "│ Best Val Acc: 0.6226 (Epoch 17)\n",
      "│ GPU Memory: 0.4GB / 9.0GB\n",
      "================================================================================\n",
      "\n",
      "📈 Epoch 47/50\n",
      "Current LR: 1.00e-07\n",
      "--------------------------------------------------\n",
      "🔄 Training Phase...\n"
     ]
    },
    {
     "name": "stderr",
     "output_type": "stream",
     "text": [
      "Training: 100%|██████████████████████████████| 48/48 [01:17<00:00,  1.61s/it, Loss=0.0675, Acc=0.9889]\n"
     ]
    },
    {
     "name": "stdout",
     "output_type": "stream",
     "text": [
      "✅ Training completed in 77.24s\n",
      "🔍 Validation Phase...\n"
     ]
    },
    {
     "name": "stderr",
     "output_type": "stream",
     "text": [
      "Validation: 100%|██████████████████████████████| 13/13 [00:07<00:00,  1.80it/s, Loss=1.5652, Acc=0.5889]\n"
     ]
    },
    {
     "name": "stdout",
     "output_type": "stream",
     "text": [
      "✅ Validation completed in 7.24s\n",
      "\n",
      "📊 Epoch 47 Summary:\n",
      "│ Train Loss: 0.0675 | Train Acc: 0.9889\n",
      "│ Val Loss:   1.5652 | Val Acc:   0.5889\n",
      "│ Train Time: 77.24s | Val Time: 7.24s\n",
      "│ Total Epoch Time: 84.48s\n",
      "│ Best Val Acc: 0.6226 (Epoch 17)\n",
      "│ GPU Memory: 0.4GB / 9.0GB\n",
      "================================================================================\n",
      "\n",
      "📈 Epoch 48/50\n",
      "Current LR: 1.00e-07\n",
      "--------------------------------------------------\n",
      "🔄 Training Phase...\n"
     ]
    },
    {
     "name": "stderr",
     "output_type": "stream",
     "text": [
      "Training: 100%|██████████████████████████████| 48/48 [01:17<00:00,  1.61s/it, Loss=0.0722, Acc=0.9844]\n"
     ]
    },
    {
     "name": "stdout",
     "output_type": "stream",
     "text": [
      "✅ Training completed in 77.42s\n",
      "🔍 Validation Phase...\n"
     ]
    },
    {
     "name": "stderr",
     "output_type": "stream",
     "text": [
      "Validation: 100%|██████████████████████████████| 13/13 [00:07<00:00,  1.79it/s, Loss=1.5667, Acc=0.5865]\n"
     ]
    },
    {
     "name": "stdout",
     "output_type": "stream",
     "text": [
      "✅ Validation completed in 7.25s\n",
      "\n",
      "📊 Epoch 48 Summary:\n",
      "│ Train Loss: 0.0722 | Train Acc: 0.9844\n",
      "│ Val Loss:   1.5667 | Val Acc:   0.5865\n",
      "│ Train Time: 77.42s | Val Time: 7.25s\n",
      "│ Total Epoch Time: 84.67s\n",
      "│ Best Val Acc: 0.6226 (Epoch 17)\n",
      "│ GPU Memory: 0.4GB / 9.0GB\n",
      "================================================================================\n",
      "\n",
      "📈 Epoch 49/50\n",
      "Current LR: 1.00e-07\n",
      "--------------------------------------------------\n",
      "🔄 Training Phase...\n"
     ]
    },
    {
     "name": "stderr",
     "output_type": "stream",
     "text": [
      "Training: 100%|██████████████████████████████| 48/48 [01:17<00:00,  1.62s/it, Loss=0.0688, Acc=0.9870]\n"
     ]
    },
    {
     "name": "stdout",
     "output_type": "stream",
     "text": [
      "✅ Training completed in 77.97s\n",
      "🔍 Validation Phase...\n"
     ]
    },
    {
     "name": "stderr",
     "output_type": "stream",
     "text": [
      "Validation: 100%|██████████████████████████████| 13/13 [00:07<00:00,  1.82it/s, Loss=1.5291, Acc=0.6082]\n"
     ]
    },
    {
     "name": "stdout",
     "output_type": "stream",
     "text": [
      "✅ Validation completed in 7.15s\n",
      "\n",
      "📊 Epoch 49 Summary:\n",
      "│ Train Loss: 0.0688 | Train Acc: 0.9870\n",
      "│ Val Loss:   1.5291 | Val Acc:   0.6082\n",
      "│ Train Time: 77.97s | Val Time: 7.15s\n",
      "│ Total Epoch Time: 85.12s\n",
      "│ Best Val Acc: 0.6226 (Epoch 17)\n",
      "│ GPU Memory: 0.4GB / 9.0GB\n",
      "================================================================================\n",
      "\n",
      "📈 Epoch 50/50\n",
      "Current LR: 1.00e-07\n",
      "--------------------------------------------------\n",
      "🔄 Training Phase...\n"
     ]
    },
    {
     "name": "stderr",
     "output_type": "stream",
     "text": [
      "Training: 100%|██████████████████████████████| 48/48 [01:17<00:00,  1.62s/it, Loss=0.0737, Acc=0.9837]\n"
     ]
    },
    {
     "name": "stdout",
     "output_type": "stream",
     "text": [
      "✅ Training completed in 77.61s\n",
      "🔍 Validation Phase...\n"
     ]
    },
    {
     "name": "stderr",
     "output_type": "stream",
     "text": [
      "Validation: 100%|██████████████████████████████| 13/13 [00:07<00:00,  1.82it/s, Loss=1.5819, Acc=0.5865]\n"
     ]
    },
    {
     "name": "stdout",
     "output_type": "stream",
     "text": [
      "✅ Validation completed in 7.16s\n",
      "\n",
      "📊 Epoch 50 Summary:\n",
      "│ Train Loss: 0.0737 | Train Acc: 0.9837\n",
      "│ Val Loss:   1.5819 | Val Acc:   0.5865\n",
      "│ Train Time: 77.61s | Val Time: 7.16s\n",
      "│ Total Epoch Time: 84.77s\n",
      "│ Best Val Acc: 0.6226 (Epoch 17)\n",
      "│ GPU Memory: 0.4GB / 9.0GB\n",
      "================================================================================\n",
      "\n",
      "💾 Best model saved as 'best_cricket_xception_scratch_filtered.pth'\n",
      "📊 Best model stats:\n",
      "│ Best Epoch: 17\n",
      "│ Best Val Acc: 0.6226\n",
      "│ Best Val Loss: 1.3224\n",
      "\n",
      "💾 Training history saved to 'cricket_xception_scratch_filtered_history.csv'\n",
      "\n",
      "🎉 Xception Scratch Training Complete!\n",
      "Total Training Time: 4236.72s (70.6 minutes)\n",
      "Average Epoch Time: 84.73s\n",
      "\n",
      "🧪 Loading Best Model for Testing...\n",
      "✅ Best model from epoch 17 loaded successfully!\n"
     ]
    },
    {
     "name": "stderr",
     "output_type": "stream",
     "text": [
      "Testing: 100%|██████████████████████████████| 17/17 [00:12<00:00,  1.34it/s]\n"
     ]
    },
    {
     "name": "stdout",
     "output_type": "stream",
     "text": [
      "✅ Testing completed in 12.69s\n",
      "\n",
      "📋 Classification Report:\n",
      "              precision    recall  f1-score   support\n",
      "\n",
      "        Four       0.05      0.05      0.05        40\n",
      "     Leg_Bye       0.61      0.35      0.44        40\n",
      "     No_ball       0.39      0.43      0.41       104\n",
      "         Out       0.33      0.40      0.36        48\n",
      "         Six       0.65      0.64      0.64       152\n",
      "        Wide       0.60      0.58      0.59       136\n",
      "\n",
      "    accuracy                           0.49       520\n",
      "   macro avg       0.44      0.41      0.42       520\n",
      "weighted avg       0.51      0.49      0.50       520\n",
      "\n",
      "🎯 Test Accuracy: 0.4923\n",
      "\n",
      "📊 Cricket Classification Performance (Xception - Scratch Training):\n",
      "│ Best Validation Acc:  0.6226 (Epoch 17)\n",
      "│ Best Validation Loss: 1.3224 (Epoch 17)\n",
      "│ Final Test Accuracy:  0.4923\n",
      "│ Val-Test Gap:         0.1303\n",
      "│ Training Type: From scratch (no pretraining)\n",
      "\n",
      "💾 Files saved:\n",
      "│ best_cricket_xception_scratch_filtered.pth - Best model weights\n",
      "│ cricket_xception_scratch_filtered_history.csv - Training metrics\n"
     ]
    },
    {
     "data": {
      "image/png": "[encoded data removed]",
      "text/plain": [
       "<Figure size 1000x800 with 2 Axes>"
      ]
     },
     "metadata": {},
     "output_type": "display_data"
    },
    {
     "data": {
      "image/png": "[encoded data removed]",
      "text/plain": [
       "<Figure size 2000x500 with 4 Axes>"
      ]
     },
     "metadata": {},
     "output_type": "display_data"
    },
    {
     "name": "stdout",
     "output_type": "stream",
     "text": [
      "\n",
      "⏰ Final Timing Summary:\n",
      "│ Total Training: 4236.72s (70.6 min)\n",
      "│ Average per Epoch: 84.73s\n",
      "│ Testing Time: 12.69s\n",
      "│ Total Runtime: 4249.42s\n",
      "\n",
      "🔀 Xception Scratch Training - Fixed Version:\n",
      "│ ✅ Fixed inplace operations: All ReLU layers use inplace=False\n",
      "│ ✅ Custom architecture: Built from ground up\n",
      "│ ✅ Depthwise separable convolutions: Core Xception innovation\n",
      "│ ✅ No transfer learning: Learns cricket features from scratch\n",
      "│ ✅ Data augmentation: Robust training with limited data\n",
      "│ ✅ Proper initialization: Xavier/He weight initialization\n",
      "│ ✅ Learning rate scheduling: Adaptive learning rate decay\n",
      "│ ✅ Clean dataset: 'random_occlusion' folder excluded\n",
      "│ ✅ Gradient computation: Fixed backward pass issues\n"
     ]
    }
   ],
   "source": [
    "\n",
    "# -----------------------------\n",
    "# 4. Training Setup for Scratch Training\n",
    "# -----------------------------\n",
    "criterion = nn.CrossEntropyLoss()\n",
    "optimizer = optim.Adam(model.parameters(), lr=1e-3, weight_decay=1e-4)  # Higher LR for scratch training\n",
    "scheduler = optim.lr_scheduler.StepLR(optimizer, step_size=10, gamma=0.1)  # Learning rate decay\n",
    "\n",
    "print(f\"\\n📋 Training Configuration:\")\n",
    "print(f\"│ Model: Xception (from scratch)\")\n",
    "print(f\"│ Optimizer: Adam (lr={optimizer.param_groups[0]['lr']})\")\n",
    "print(f\"│ Weight Decay: 1e-4\")\n",
    "print(f\"│ Loss Function: CrossEntropyLoss\")\n",
    "print(f\"│ Batch Size: 16\")\n",
    "print(f\"│ LR Scheduler: StepLR (decay every 10 epochs)\")\n",
    "print(f\"│ Device: {device}\")\n",
    "print(f\"│ Data: Filtered + Augmented\")\n",
    "\n",
    "# -----------------------------\n",
    "# 5. Training Loop with Model Saving\n",
    "# -----------------------------\n",
    "train_losses, val_losses = [], []\n",
    "train_accs, val_accs = [], []\n",
    "epoch_times = []\n",
    "epochs = 50  # More epochs needed for scratch training\n",
    "\n",
    "# Initialize best model tracking (using val_acc for scratch training)\n",
    "best_val_acc = 0.0\n",
    "best_model_state = None\n",
    "best_epoch = 0\n",
    "best_val_loss = float('inf')\n",
    "\n",
    "print(f\"\\n🚀 Starting Xception Training from Scratch for {epochs} epochs...\")\n",
    "print(\"=\" * 80)\n",
    "total_start_time = time.time()\n",
    "\n",
    "for epoch in range(epochs):\n",
    "    epoch_start_time = time.time()\n",
    "    \n",
    "    print(f\"\\n📈 Epoch {epoch+1}/{epochs}\")\n",
    "    print(f\"Current LR: {optimizer.param_groups[0]['lr']:.2e}\")\n",
    "    print(\"-\" * 50)\n",
    "    \n",
    "    # Training Phase\n",
    "    print(\"🔄 Training Phase...\")\n",
    "    model.train()\n",
    "    running_loss, correct, total = 0, 0, 0\n",
    "    \n",
    "    train_pbar = tqdm(train_loader, desc=\"Training\", \n",
    "                     bar_format='{l_bar}{bar:30}{r_bar}{bar:-30b}')\n",
    "    \n",
    "    train_phase_start = time.time()\n",
    "    \n",
    "    for batch_idx, (imgs, labels) in enumerate(train_pbar):\n",
    "        imgs, labels = imgs.to(device), labels.to(device)\n",
    "        \n",
    "        optimizer.zero_grad()\n",
    "        outputs = model(imgs)\n",
    "        loss = criterion(outputs, labels)\n",
    "        loss.backward()\n",
    "        optimizer.step()\n",
    "        \n",
    "        running_loss += loss.item()\n",
    "        _, preds = torch.max(outputs, 1)\n",
    "        correct += (preds == labels).sum().item()\n",
    "        total += labels.size(0)\n",
    "        \n",
    "        current_acc = correct / total\n",
    "        train_pbar.set_postfix({\n",
    "            'Loss': f'{running_loss/(batch_idx+1):.4f}',\n",
    "            'Acc': f'{current_acc:.4f}'\n",
    "        })\n",
    "        \n",
    "        if device.type == 'cuda' and batch_idx % 10 == 0:\n",
    "            gpu_memory = torch.cuda.memory_allocated() / 1024**3\n",
    "            train_pbar.set_postfix({\n",
    "                'Loss': f'{running_loss/(batch_idx+1):.4f}',\n",
    "                'Acc': f'{current_acc:.4f}',\n",
    "                'GPU': f'{gpu_memory:.1f}GB'\n",
    "            })\n",
    "    \n",
    "    train_phase_time = time.time() - train_phase_start\n",
    "    train_loss = running_loss / len(train_loader)\n",
    "    train_acc = correct / total\n",
    "    train_losses.append(train_loss)\n",
    "    train_accs.append(train_acc)\n",
    "    \n",
    "    print(f\"✅ Training completed in {train_phase_time:.2f}s\")\n",
    "    \n",
    "    # Validation Phase\n",
    "    print(\"🔍 Validation Phase...\")\n",
    "    model.eval()\n",
    "    running_loss, correct, total = 0, 0, 0\n",
    "    \n",
    "    val_phase_start = time.time()\n",
    "    val_pbar = tqdm(val_loader, desc=\"Validation\", \n",
    "                   bar_format='{l_bar}{bar:30}{r_bar}{bar:-30b}')\n",
    "    \n",
    "    with torch.no_grad():\n",
    "        for batch_idx, (imgs, labels) in enumerate(val_pbar):\n",
    "            imgs, labels = imgs.to(device), labels.to(device)\n",
    "            outputs = model(imgs)\n",
    "            loss = criterion(outputs, labels)\n",
    "            \n",
    "            running_loss += loss.item()\n",
    "            _, preds = torch.max(outputs, 1)\n",
    "            correct += (preds == labels).sum().item()\n",
    "            total += labels.size(0)\n",
    "            \n",
    "            current_acc = correct / total\n",
    "            val_pbar.set_postfix({\n",
    "                'Loss': f'{running_loss/(batch_idx+1):.4f}',\n",
    "                'Acc': f'{current_acc:.4f}'\n",
    "            })\n",
    "    \n",
    "    val_phase_time = time.time() - val_phase_start\n",
    "    val_loss = running_loss / len(val_loader)\n",
    "    val_acc = correct / total\n",
    "    val_losses.append(val_loss)\n",
    "    val_accs.append(val_acc)\n",
    "    \n",
    "    print(f\"✅ Validation completed in {val_phase_time:.2f}s\")\n",
    "    \n",
    "    # Update learning rate\n",
    "    scheduler.step()\n",
    "    \n",
    "    # Check if this is the best model (using val_acc for scratch training)\n",
    "    is_best = val_acc > best_val_acc\n",
    "    if is_best:\n",
    "        best_val_acc = val_acc\n",
    "        best_val_loss = val_loss\n",
    "        best_epoch = epoch + 1\n",
    "        best_model_state = model.state_dict().copy()\n",
    "        print(f\"🌟 New best model found! Validation Accuracy: {val_acc:.4f}\")\n",
    "    \n",
    "    # Epoch Summary\n",
    "    epoch_time = time.time() - epoch_start_time\n",
    "    epoch_times.append(epoch_time)\n",
    "    \n",
    "    print(f\"\\n📊 Epoch {epoch+1} Summary:\")\n",
    "    print(f\"│ Train Loss: {train_loss:.4f} | Train Acc: {train_acc:.4f}\")\n",
    "    print(f\"│ Val Loss:   {val_loss:.4f} | Val Acc:   {val_acc:.4f}\")\n",
    "    print(f\"│ Train Time: {train_phase_time:.2f}s | Val Time: {val_phase_time:.2f}s\")\n",
    "    print(f\"│ Total Epoch Time: {epoch_time:.2f}s\")\n",
    "    print(f\"│ Best Val Acc: {best_val_acc:.4f} (Epoch {best_epoch})\")\n",
    "    \n",
    "    if device.type == 'cuda':\n",
    "        print(f\"│ GPU Memory: {torch.cuda.memory_allocated()/1024**3:.1f}GB / {torch.cuda.memory_reserved()/1024**3:.1f}GB\")\n",
    "    \n",
    "    print(\"=\" * 80)\n",
    "\n",
    "total_training_time = time.time() - total_start_time\n",
    "\n",
    "# Save the best model\n",
    "if best_model_state is not None:\n",
    "    torch.save(best_model_state, 'best_cricket_xception_scratch_filtered.pth')\n",
    "    print(f\"\\n💾 Best model saved as 'best_cricket_xception_scratch_filtered.pth'\")\n",
    "    print(f\"📊 Best model stats:\")\n",
    "    print(f\"│ Best Epoch: {best_epoch}\")\n",
    "    print(f\"│ Best Val Acc: {best_val_acc:.4f}\")\n",
    "    print(f\"│ Best Val Loss: {best_val_loss:.4f}\")\n",
    "\n",
    "# Save training history\n",
    "history_data = {\n",
    "    'epoch': list(range(1, epochs+1)),\n",
    "    'train_loss': train_losses,\n",
    "    'val_loss': val_losses,\n",
    "    'train_acc': train_accs,\n",
    "    'val_acc': val_accs,\n",
    "    'epoch_time': epoch_times,\n",
    "    'learning_rate': [scheduler.get_last_lr()[0] if hasattr(scheduler, 'get_last_lr') else optimizer.param_groups[0]['lr']] * epochs\n",
    "}\n",
    "\n",
    "history_df = pd.DataFrame(history_data)\n",
    "history_df.to_csv('cricket_xception_scratch_filtered_history.csv', index=False)\n",
    "print(\"\\n💾 Training history saved to 'cricket_xception_scratch_filtered_history.csv'\")\n",
    "\n",
    "print(f\"\\n🎉 Xception Scratch Training Complete!\")\n",
    "print(f\"Total Training Time: {total_training_time:.2f}s ({total_training_time/60:.1f} minutes)\")\n",
    "print(f\"Average Epoch Time: {np.mean(epoch_times):.2f}s\")\n",
    "\n",
    "# -----------------------------\n",
    "# 6. Load Best Model and Test\n",
    "# -----------------------------\n",
    "print(f\"\\n🧪 Loading Best Model for Testing...\")\n",
    "if best_model_state is not None:\n",
    "    model.load_state_dict(best_model_state)\n",
    "    print(f\"✅ Best model from epoch {best_epoch} loaded successfully!\")\n",
    "\n",
    "test_start_time = time.time()\n",
    "y_true, y_pred = [], []\n",
    "model.eval()\n",
    "test_pbar = tqdm(test_loader, desc=\"Testing\", \n",
    "                bar_format='{l_bar}{bar:30}{r_bar}{bar:-30b}')\n",
    "\n",
    "with torch.no_grad():\n",
    "    for imgs, labels in test_pbar:\n",
    "        imgs, labels = imgs.to(device), labels.to(device)\n",
    "        outputs = model(imgs)\n",
    "        _, preds = torch.max(outputs, 1)\n",
    "        y_true.extend(labels.cpu().numpy())\n",
    "        y_pred.extend(preds.cpu().numpy())\n",
    "\n",
    "test_time = time.time() - test_start_time\n",
    "test_accuracy = accuracy_score(y_true, y_pred)\n",
    "\n",
    "print(f\"✅ Testing completed in {test_time:.2f}s\")\n",
    "print(\"\\n📋 Classification Report:\")\n",
    "print(classification_report(y_true, y_pred, target_names=classes))\n",
    "print(f\"🎯 Test Accuracy: {test_accuracy:.4f}\")\n",
    "\n",
    "# Performance Summary\n",
    "print(f\"\\n📊 Cricket Classification Performance (Xception - Scratch Training):\")\n",
    "print(f\"│ Best Validation Acc:  {best_val_acc:.4f} (Epoch {best_epoch})\")\n",
    "print(f\"│ Best Validation Loss: {best_val_loss:.4f} (Epoch {best_epoch})\")\n",
    "print(f\"│ Final Test Accuracy:  {test_accuracy:.4f}\")\n",
    "print(f\"│ Val-Test Gap:         {abs(best_val_acc - test_accuracy):.4f}\")\n",
    "print(f\"│ Training Type: From scratch (no pretraining)\")\n",
    "\n",
    "print(f\"\\n💾 Files saved:\")\n",
    "print(f\"│ best_cricket_xception_scratch_filtered.pth - Best model weights\")\n",
    "print(f\"│ cricket_xception_scratch_filtered_history.csv - Training metrics\")\n",
    "\n",
    "# -----------------------------\n",
    "# 7. Visualizations\n",
    "# -----------------------------\n",
    "# Confusion Matrix\n",
    "cm = confusion_matrix(y_true, y_pred)\n",
    "plt.figure(figsize=(10, 8))\n",
    "sns.heatmap(cm, annot=True, fmt=\"d\", cmap=\"Blues\", \n",
    "            xticklabels=classes, yticklabels=classes)\n",
    "plt.xlabel(\"Predicted\")\n",
    "plt.ylabel(\"True\")\n",
    "plt.title(f\"Cricket Classification - Xception Scratch (Epoch {best_epoch})\")\n",
    "plt.tight_layout()\n",
    "plt.show()\n",
    "\n",
    "# Training Curves\n",
    "plt.figure(figsize=(20, 5))\n",
    "\n",
    "# Loss Plot\n",
    "plt.subplot(1, 4, 1)\n",
    "plt.plot(range(1, epochs+1), train_losses, 'b-', label=\"Train Loss\", marker='o', linewidth=1)\n",
    "plt.plot(range(1, epochs+1), val_losses, 'r-', label=\"Val Loss\", marker='s', linewidth=1)\n",
    "plt.axvline(x=best_epoch, color='green', linestyle='--', alpha=0.7, label=f'Best (Epoch {best_epoch})')\n",
    "plt.scatter([best_epoch], [best_val_loss], color='green', s=100, zorder=5)\n",
    "plt.legend()\n",
    "plt.title(\"Xception Scratch - Loss over Epochs\")\n",
    "plt.xlabel(\"Epoch\")\n",
    "plt.ylabel(\"Loss\")\n",
    "plt.grid(True, alpha=0.3)\n",
    "\n",
    "# Accuracy Plot\n",
    "plt.subplot(1, 4, 2)\n",
    "plt.plot(range(1, epochs+1), train_accs, 'b-', label=\"Train Accuracy\", marker='o', linewidth=1)\n",
    "plt.plot(range(1, epochs+1), val_accs, 'r-', label=\"Val Accuracy\", marker='s', linewidth=1)\n",
    "plt.axvline(x=best_epoch, color='green', linestyle='--', alpha=0.7, label=f'Best (Epoch {best_epoch})')\n",
    "plt.scatter([best_epoch], [best_val_acc], color='green', s=100, zorder=5)\n",
    "plt.legend()\n",
    "plt.title(\"Xception Scratch - Accuracy over Epochs\")\n",
    "plt.xlabel(\"Epoch\")\n",
    "plt.ylabel(\"Accuracy\")\n",
    "plt.grid(True, alpha=0.3)\n",
    "\n",
    "# Timing Plot\n",
    "plt.subplot(1, 4, 3)\n",
    "plt.plot(range(1, epochs+1), epoch_times, 'g-', marker='d', linewidth=1)\n",
    "plt.title(\"Training Time per Epoch\")\n",
    "plt.xlabel(\"Epoch\")\n",
    "plt.ylabel(\"Time (seconds)\")\n",
    "plt.grid(True, alpha=0.3)\n",
    "\n",
    "# Final Performance\n",
    "plt.subplot(1, 4, 4)\n",
    "metrics = ['Best Val Acc', 'Test Acc']\n",
    "values = [best_val_acc, test_accuracy]\n",
    "colors = ['orange', 'green']\n",
    "bars = plt.bar(metrics, values, color=colors, alpha=0.7)\n",
    "plt.title(\"Xception Scratch Final Performance\")\n",
    "plt.ylabel(\"Accuracy\")\n",
    "plt.ylim(0, 1)\n",
    "plt.grid(True, alpha=0.3)\n",
    "for bar, val in zip(bars, values):\n",
    "    plt.text(bar.get_x() + bar.get_width()/2, val + 0.01, \n",
    "             f'{val:.4f}', ha='center', va='bottom')\n",
    "\n",
    "plt.tight_layout()\n",
    "plt.show()\n",
    "\n",
    "# Final Summary\n",
    "print(f\"\\n⏰ Final Timing Summary:\")\n",
    "print(f\"│ Total Training: {total_training_time:.2f}s ({total_training_time/60:.1f} min)\")\n",
    "print(f\"│ Average per Epoch: {np.mean(epoch_times):.2f}s\")\n",
    "print(f\"│ Testing Time: {test_time:.2f}s\")\n",
    "print(f\"│ Total Runtime: {total_training_time + test_time:.2f}s\")\n",
    "\n",
    "# Model and Training Info\n",
    "print(f\"\\n🔀 Xception Scratch Training - Fixed Version:\")\n",
    "print(f\"│ ✅ Fixed inplace operations: All ReLU layers use inplace=False\")\n",
    "print(f\"│ ✅ Custom architecture: Built from ground up\")\n",
    "print(f\"│ ✅ Depthwise separable convolutions: Core Xception innovation\")\n",
    "print(f\"│ ✅ No transfer learning: Learns cricket features from scratch\")\n",
    "print(f\"│ ✅ Data augmentation: Robust training with limited data\")\n",
    "print(f\"│ ✅ Proper initialization: Xavier/He weight initialization\")\n",
    "print(f\"│ ✅ Learning rate scheduling: Adaptive learning rate decay\")\n",
    "print(f\"│ ✅ Clean dataset: '{ignore_folder}' folder excluded\")\n",
    "print(f\"│ ✅ Gradient computation: Fixed backward pass issues\")"
   ]
  }
 ],
 "metadata": {
  "kaggle": {
   "accelerator": "nvidiaTeslaT4",
   "dataSources": [
    {
     "datasetId": 7735666,
     "sourceId": 12275446,
     "sourceType": "datasetVersion"
    }
   ],
   "dockerImageVersionId": 31090,
   "isGpuEnabled": true,
   "isInternetEnabled": true,
   "language": "python",
   "sourceType": "notebook"
  },
  "kernelspec": {
   "display_name": "Python 3",
   "language": "python",
   "name": "python3"
  },
  "language_info": {
   "codemirror_mode": {
    "name": "ipython",
    "version": 3
   },
   "file_extension": ".py",
   "mimetype": "text/x-python",
   "name": "python",
   "nbconvert_exporter": "python",
   "pygments_lexer": "ipython3",
   "version": "3.11.13"
  },
  "papermill": {
   "default_parameters": {},
   "duration": 4277.591495,
   "end_time": "2025-09-10T16:30:07.318315",
   "environment_variables": {},
   "exception": null,
   "input_path": "__notebook__.ipynb",
   "output_path": "__notebook__.ipynb",
   "parameters": {},
   "start_time": "2025-09-10T15:18:49.726820",
   "version": "2.6.0"
  }
 },
 "nbformat": 4,
 "nbformat_minor": 5
}
