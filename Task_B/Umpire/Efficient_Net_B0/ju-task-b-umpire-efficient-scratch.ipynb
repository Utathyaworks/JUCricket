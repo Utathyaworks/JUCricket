{
 "cells": [
  {
   "cell_type": "code",
   "execution_count": 1,
   "id": "20d23280",
   "metadata": {
    "_cell_guid": "b1076dfc-b9ad-4769-8c92-a6c4dae69d19",
    "_uuid": "8f2839f25d086af736a60e9eeb907d3b93b6e0e5",
    "execution": {
     "iopub.execute_input": "2025-09-08T10:04:02.788084Z",
     "iopub.status.busy": "2025-09-08T10:04:02.787858Z",
     "iopub.status.idle": "2025-09-08T10:04:21.696174Z",
     "shell.execute_reply": "2025-09-08T10:04:21.695208Z"
    },
    "papermill": {
     "duration": 18.913434,
     "end_time": "2025-09-08T10:04:21.697386",
     "exception": false,
     "start_time": "2025-09-08T10:04:02.783952",
     "status": "completed"
    },
    "tags": []
   },
   "outputs": [
    {
     "name": "stdout",
     "output_type": "stream",
     "text": [
      "Classes: ['Four', 'Leg_Bye', 'No_ball', 'Out', 'Six', 'Wide']\n"
     ]
    }
   ],
   "source": [
    "import torch\n",
    "import torch.nn as nn\n",
    "import torch.nn.functional as F\n",
    "from torch.utils.data import DataLoader\n",
    "from torchvision import datasets, transforms\n",
    "from torchsummary import summary\n",
    "import matplotlib.pyplot as plt\n",
    "from sklearn.metrics import classification_report, confusion_matrix, accuracy_score\n",
    "import seaborn as sns\n",
    "import numpy as np\n",
    "\n",
    "# -----------------------------\n",
    "# 1. Data Preprocessing\n",
    "# -----------------------------\n",
    "data_dir = \"/kaggle/input/ju-cricket/Cricket_Dataset_final/Task_B\"\n",
    "\n",
    "transform = transforms.Compose([\n",
    "    transforms.Resize((224, 224)),\n",
    "    transforms.ToTensor(),\n",
    "    transforms.Normalize([0.485, 0.456, 0.406], \n",
    "                         [0.229, 0.224, 0.225])\n",
    "])\n",
    "\n",
    "train_ds = datasets.ImageFolder(f\"{data_dir}/train/Umpire\", transform=transform)\n",
    "val_ds   = datasets.ImageFolder(f\"{data_dir}/val/Umpire\", transform=transform)\n",
    "test_ds  = datasets.ImageFolder(f\"{data_dir}/test/Umpire\", transform=transform)\n",
    "\n",
    "train_loader = DataLoader(train_ds, batch_size=32, shuffle=True)\n",
    "val_loader   = DataLoader(val_ds, batch_size=32, shuffle=False)\n",
    "test_loader  = DataLoader(test_ds, batch_size=32, shuffle=False)\n",
    "\n",
    "classes = train_ds.classes\n",
    "print(\"Classes:\", classes)\n",
    "\n"
   ]
  },
  {
   "cell_type": "code",
   "execution_count": 2,
   "id": "130a15cb",
   "metadata": {
    "execution": {
     "iopub.execute_input": "2025-09-08T10:04:21.703722Z",
     "iopub.status.busy": "2025-09-08T10:04:21.703385Z",
     "iopub.status.idle": "2025-09-08T10:04:21.707803Z",
     "shell.execute_reply": "2025-09-08T10:04:21.707201Z"
    },
    "papermill": {
     "duration": 0.008446,
     "end_time": "2025-09-08T10:04:21.708803",
     "exception": false,
     "start_time": "2025-09-08T10:04:21.700357",
     "status": "completed"
    },
    "tags": []
   },
   "outputs": [
    {
     "name": "stdout",
     "output_type": "stream",
     "text": [
      "Total training images: 1728\n",
      "Total validation images: 468\n",
      "Total test images: 585\n",
      "Total images in dataset: 2781\n"
     ]
    }
   ],
   "source": [
    "print(\"Total training images:\", len(train_ds))\n",
    "print(\"Total validation images:\", len(val_ds))\n",
    "print(\"Total test images:\", len(test_ds))\n",
    "\n",
    "total_images = len(train_ds) + len(val_ds) + len(test_ds)\n",
    "print(\"Total images in dataset:\", total_images)\n"
   ]
  },
  {
   "cell_type": "code",
   "execution_count": 3,
   "id": "5fe0a630",
   "metadata": {
    "execution": {
     "iopub.execute_input": "2025-09-08T10:04:21.714699Z",
     "iopub.status.busy": "2025-09-08T10:04:21.714290Z",
     "iopub.status.idle": "2025-09-08T10:04:21.720997Z",
     "shell.execute_reply": "2025-09-08T10:04:21.720297Z"
    },
    "papermill": {
     "duration": 0.010874,
     "end_time": "2025-09-08T10:04:21.722140",
     "exception": false,
     "start_time": "2025-09-08T10:04:21.711266",
     "status": "completed"
    },
    "tags": []
   },
   "outputs": [
    {
     "name": "stdout",
     "output_type": "stream",
     "text": [
      "Training images (excluding 'random_occlusion'): 1536\n",
      "Validation images (excluding 'random_occlusion'): 416\n",
      "Test images (excluding 'random_occlusion'): 520\n",
      "Total images (excluding 'random_occlusion'): 2472\n"
     ]
    }
   ],
   "source": [
    "ignore_folder = \"random_occlusion\"\n",
    "\n",
    "def count_images_ignore_folder(dataset, ignore_folder):\n",
    "    count = 0\n",
    "    for img_path, label in dataset.samples:\n",
    "        # Skip if the image path contains the ignore_folder\n",
    "        if ignore_folder not in img_path.split(\"/\"):\n",
    "            count += 1\n",
    "    return count\n",
    "\n",
    "train_count = count_images_ignore_folder(train_ds, ignore_folder)\n",
    "val_count   = count_images_ignore_folder(val_ds, ignore_folder)\n",
    "test_count  = count_images_ignore_folder(test_ds, ignore_folder)\n",
    "\n",
    "total_count = train_count + val_count + test_count\n",
    "\n",
    "print(\"Training images (excluding '{}'): {}\".format(ignore_folder, train_count))\n",
    "print(\"Validation images (excluding '{}'): {}\".format(ignore_folder, val_count))\n",
    "print(\"Test images (excluding '{}'): {}\".format(ignore_folder, test_count))\n",
    "print(\"Total images (excluding '{}'): {}\".format(ignore_folder, total_count))\n"
   ]
  },
  {
   "cell_type": "code",
   "execution_count": 4,
   "id": "3c762e64",
   "metadata": {
    "execution": {
     "iopub.execute_input": "2025-09-08T10:04:21.728011Z",
     "iopub.status.busy": "2025-09-08T10:04:21.727820Z",
     "iopub.status.idle": "2025-09-08T10:04:21.735264Z",
     "shell.execute_reply": "2025-09-08T10:04:21.734623Z"
    },
    "papermill": {
     "duration": 0.011447,
     "end_time": "2025-09-08T10:04:21.736249",
     "exception": false,
     "start_time": "2025-09-08T10:04:21.724802",
     "status": "completed"
    },
    "tags": []
   },
   "outputs": [
    {
     "name": "stdout",
     "output_type": "stream",
     "text": [
      "Training folders considered: {'low_resolution', 'dirty_lens', 'blur', 'gaussian_noise', 'random_occlusion', 'chromatic_aberration', 'motion_blur', 'original', 'lens_flare'}\n",
      "Validation folders considered: {'low_resolution', 'dirty_lens', 'blur', 'gaussian_noise', 'random_occlusion', 'chromatic_aberration', 'motion_blur', 'original', 'lens_flare'}\n",
      "Test folders considered: {'low_resolution', 'dirty_lens', 'blur', 'gaussian_noise', 'random_occlusion', 'chromatic_aberration', 'motion_blur', 'original', 'lens_flare'}\n"
     ]
    }
   ],
   "source": [
    "ignore_folder = \"random_occlusionw\"\n",
    "\n",
    "def get_included_folders(dataset, ignore_folder):\n",
    "    included = set()\n",
    "    for img_path, label in dataset.samples:\n",
    "        # Split the path into parts and ignore if ignore_folder is in the path\n",
    "        if ignore_folder not in img_path.split(\"/\"):\n",
    "            # The folder name just above the image (or the class folder)\n",
    "            folder_name = img_path.split(\"/\")[-2]\n",
    "            included.add(folder_name)\n",
    "    return included\n",
    "\n",
    "train_folders = get_included_folders(train_ds, ignore_folder)\n",
    "val_folders   = get_included_folders(val_ds, ignore_folder)\n",
    "test_folders  = get_included_folders(test_ds, ignore_folder)\n",
    "\n",
    "print(\"Training folders considered:\", train_folders)\n",
    "print(\"Validation folders considered:\", val_folders)\n",
    "print(\"Test folders considered:\", test_folders)\n"
   ]
  },
  {
   "cell_type": "code",
   "execution_count": 5,
   "id": "267aef1d",
   "metadata": {
    "execution": {
     "iopub.execute_input": "2025-09-08T10:04:21.741837Z",
     "iopub.status.busy": "2025-09-08T10:04:21.741636Z",
     "iopub.status.idle": "2025-09-08T10:04:21.856125Z",
     "shell.execute_reply": "2025-09-08T10:04:21.855357Z"
    },
    "papermill": {
     "duration": 0.118649,
     "end_time": "2025-09-08T10:04:21.857302",
     "exception": false,
     "start_time": "2025-09-08T10:04:21.738653",
     "status": "completed"
    },
    "tags": []
   },
   "outputs": [
    {
     "name": "stdout",
     "output_type": "stream",
     "text": [
      "Classes: ['Four', 'Leg_Bye', 'No_ball', 'Out', 'Six', 'Wide']\n",
      "Final Training images: 1536\n",
      "Final Validation images: 416\n",
      "Final Test images: 520\n",
      "Total images after filtering: 2472\n"
     ]
    }
   ],
   "source": [
    "ignore_folder = \"random_occlusion\"\n",
    "\n",
    "def filter_samples(dataset, ignore_folder):\n",
    "    # Keep only samples where ignore_folder is NOT in the path\n",
    "    filtered_samples = [s for s in dataset.samples if ignore_folder not in s[0].split(\"/\")]\n",
    "    dataset.samples = filtered_samples\n",
    "    dataset.targets = [s[1] for s in filtered_samples]  # Update targets accordingly\n",
    "    return dataset\n",
    "\n",
    "# Create original datasets\n",
    "train_ds = datasets.ImageFolder(f\"{data_dir}/train/Umpire\", transform=transform)\n",
    "val_ds   = datasets.ImageFolder(f\"{data_dir}/val/Umpire\", transform=transform)\n",
    "test_ds  = datasets.ImageFolder(f\"{data_dir}/test/Umpire\", transform=transform)\n",
    "\n",
    "# Filter out 'random_occlusion' folder\n",
    "train_ds = filter_samples(train_ds, ignore_folder)\n",
    "val_ds   = filter_samples(val_ds, ignore_folder)\n",
    "test_ds  = filter_samples(test_ds, ignore_folder)\n",
    "\n",
    "# DataLoaders\n",
    "train_loader = DataLoader(train_ds, batch_size=32, shuffle=True)\n",
    "val_loader   = DataLoader(val_ds, batch_size=32, shuffle=False)\n",
    "test_loader  = DataLoader(test_ds, batch_size=32, shuffle=False)\n",
    "\n",
    "# Classes (will remain the same)\n",
    "classes = train_ds.classes\n",
    "print(\"Classes:\", classes)\n",
    "\n",
    "# Show counts\n",
    "print(\"Final Training images:\", len(train_ds))\n",
    "print(\"Final Validation images:\", len(val_ds))\n",
    "print(\"Final Test images:\", len(test_ds))\n",
    "print(\"Total images after filtering:\", len(train_ds) + len(val_ds) + len(test_ds))\n"
   ]
  },
  {
   "cell_type": "code",
   "execution_count": 6,
   "id": "29c741d6",
   "metadata": {
    "execution": {
     "iopub.execute_input": "2025-09-08T10:04:21.862995Z",
     "iopub.status.busy": "2025-09-08T10:04:21.862805Z",
     "iopub.status.idle": "2025-09-08T10:04:21.869881Z",
     "shell.execute_reply": "2025-09-08T10:04:21.869332Z"
    },
    "papermill": {
     "duration": 0.011073,
     "end_time": "2025-09-08T10:04:21.870899",
     "exception": false,
     "start_time": "2025-09-08T10:04:21.859826",
     "status": "completed"
    },
    "tags": []
   },
   "outputs": [
    {
     "name": "stdout",
     "output_type": "stream",
     "text": [
      "Training folders considered: {'low_resolution', 'dirty_lens', 'blur', 'gaussian_noise', 'chromatic_aberration', 'motion_blur', 'original', 'lens_flare'}\n",
      "Validation folders considered: {'low_resolution', 'dirty_lens', 'blur', 'gaussian_noise', 'chromatic_aberration', 'motion_blur', 'original', 'lens_flare'}\n",
      "Test folders considered: {'low_resolution', 'dirty_lens', 'blur', 'gaussian_noise', 'chromatic_aberration', 'motion_blur', 'original', 'lens_flare'}\n"
     ]
    }
   ],
   "source": [
    "ignore_folder = \"random_occlusion\"\n",
    "\n",
    "def get_included_folders(dataset, ignore_folder):\n",
    "    included = set()\n",
    "    for img_path, label in dataset.samples:\n",
    "        # Split the path into parts and ignore if ignore_folder is in the path\n",
    "        if ignore_folder not in img_path.split(\"/\"):\n",
    "            # The folder name just above the image (or the class folder)\n",
    "            folder_name = img_path.split(\"/\")[-2]\n",
    "            included.add(folder_name)\n",
    "    return included\n",
    "\n",
    "train_folders = get_included_folders(train_ds, ignore_folder)\n",
    "val_folders   = get_included_folders(val_ds, ignore_folder)\n",
    "test_folders  = get_included_folders(test_ds, ignore_folder)\n",
    "\n",
    "print(\"Training folders considered:\", train_folders)\n",
    "print(\"Validation folders considered:\", val_folders)\n",
    "print(\"Test folders considered:\", test_folders)\n"
   ]
  },
  {
   "cell_type": "code",
   "execution_count": 7,
   "id": "17ff276e",
   "metadata": {
    "execution": {
     "iopub.execute_input": "2025-09-08T10:04:21.876851Z",
     "iopub.status.busy": "2025-09-08T10:04:21.876638Z",
     "iopub.status.idle": "2025-09-08T10:04:21.897090Z",
     "shell.execute_reply": "2025-09-08T10:04:21.896352Z"
    },
    "papermill": {
     "duration": 0.024805,
     "end_time": "2025-09-08T10:04:21.898241",
     "exception": false,
     "start_time": "2025-09-08T10:04:21.873436",
     "status": "completed"
    },
    "tags": []
   },
   "outputs": [],
   "source": [
    "\n",
    "\n",
    "def _make_divisible(v, divisor, min_value=None):\n",
    "    \"\"\"\n",
    "    This function is taken from the original tf repo.\n",
    "    It ensures that all layers have a channel number that is divisible by 8\n",
    "    \"\"\"\n",
    "    if min_value is None:\n",
    "        min_value = divisor\n",
    "    new_v = max(min_value, int(v + divisor / 2) // divisor * divisor)\n",
    "    if new_v < 0.9 * v:\n",
    "        new_v += divisor\n",
    "    return new_v\n",
    "\n",
    "class Swish(nn.Module):\n",
    "    \"\"\"Swish activation function (x * sigmoid(x))\"\"\"\n",
    "    def forward(self, x):\n",
    "        return x * torch.sigmoid(x)\n",
    "\n",
    "class SqueezeExcitation(nn.Module):\n",
    "    \"\"\"Squeeze-and-Excitation block\"\"\"\n",
    "    def __init__(self, in_planes, reduced_dim):\n",
    "        super().__init__()\n",
    "        self.se = nn.Sequential(\n",
    "            nn.AdaptiveAvgPool2d(1),\n",
    "            nn.Conv2d(in_planes, reduced_dim, 1),\n",
    "            Swish(),\n",
    "            nn.Conv2d(reduced_dim, in_planes, 1),\n",
    "            nn.Sigmoid()\n",
    "        )\n",
    "\n",
    "    def forward(self, x):\n",
    "        return x * self.se(x)\n",
    "\n",
    "class StochasticDepth(nn.Module):\n",
    "    \"\"\"Stochastic Depth regularization\"\"\"\n",
    "    def __init__(self, drop_rate):\n",
    "        super().__init__()\n",
    "        self.drop_rate = drop_rate\n",
    "\n",
    "    def forward(self, x, residual):\n",
    "        if not self.training:\n",
    "            return residual + x\n",
    "        \n",
    "        if self.drop_rate > 0:\n",
    "            batch_size = x.shape[0]\n",
    "            random_tensor = (1 - self.drop_rate) + torch.rand(\n",
    "                (batch_size, 1, 1, 1), dtype=x.dtype, device=x.device\n",
    "            )\n",
    "            binary_mask = torch.floor(random_tensor)\n",
    "            x = x / (1 - self.drop_rate) * binary_mask\n",
    "        return residual + x\n",
    "\n",
    "class MBConvBlock(nn.Module):\n",
    "    \"\"\"Mobile Inverted Residual Bottleneck Block\"\"\"\n",
    "    def __init__(self, in_planes, out_planes, kernel_size, stride, expand_ratio, se_ratio, drop_rate):\n",
    "        super().__init__()\n",
    "        self.in_planes = in_planes\n",
    "        self.out_planes = out_planes\n",
    "        self.stride = stride\n",
    "        self.expand_ratio = expand_ratio\n",
    "        \n",
    "        # Expansion phase\n",
    "        hidden_dim = in_planes * expand_ratio\n",
    "        self.expand_conv = nn.Conv2d(in_planes, hidden_dim, 1, bias=False) if expand_ratio != 1 else nn.Identity()\n",
    "        self.expand_bn = nn.BatchNorm2d(hidden_dim) if expand_ratio != 1 else nn.Identity()\n",
    "        \n",
    "        # Depthwise convolution\n",
    "        self.depthwise_conv = nn.Conv2d(hidden_dim, hidden_dim, kernel_size, stride, \n",
    "                                       padding=(kernel_size-1)//2, groups=hidden_dim, bias=False)\n",
    "        self.depthwise_bn = nn.BatchNorm2d(hidden_dim)\n",
    "        \n",
    "        # Squeeze-and-Excitation\n",
    "        se_planes = max(1, int(in_planes * se_ratio))\n",
    "        self.se = SqueezeExcitation(hidden_dim, se_planes)\n",
    "        \n",
    "        # Output phase\n",
    "        self.project_conv = nn.Conv2d(hidden_dim, out_planes, 1, bias=False)\n",
    "        self.project_bn = nn.BatchNorm2d(out_planes)\n",
    "        \n",
    "        # Stochastic depth\n",
    "        self.stoch_depth = StochasticDepth(drop_rate)\n",
    "        \n",
    "        # Skip connection\n",
    "        self.use_skip_connection = (stride == 1) and (in_planes == out_planes)\n",
    "        \n",
    "    def forward(self, x):\n",
    "        residual = x\n",
    "        \n",
    "        # Expansion\n",
    "        if self.expand_ratio != 1:\n",
    "            x = Swish()(self.expand_bn(self.expand_conv(x)))\n",
    "        \n",
    "        # Depthwise\n",
    "        x = Swish()(self.depthwise_bn(self.depthwise_conv(x)))\n",
    "        \n",
    "        # Squeeze-and-Excitation\n",
    "        x = self.se(x)\n",
    "        \n",
    "        # Project\n",
    "        x = self.project_bn(self.project_conv(x))\n",
    "        \n",
    "        # Skip connection and stochastic depth\n",
    "        if self.use_skip_connection:\n",
    "            x = self.stoch_depth(x, residual)\n",
    "        \n",
    "        return x\n",
    "\n",
    "class MyEfficientNetB0(nn.Module):\n",
    "    \"\"\"EfficientNetB0 Implementation from Scratch\"\"\"\n",
    "    def __init__(self, num_classes=4, width_coeff=1.0, depth_coeff=1.0, dropout_rate=0.2, drop_connect_rate=0.2):\n",
    "        super().__init__()\n",
    "        \n",
    "        # EfficientNet-B0 baseline\n",
    "        # [expansion, output_filter, num_repeat, stride, kernel_size, se_ratio]\n",
    "        settings = [\n",
    "            [1,  16, 1, 1, 3, 0.25],  # MBConv1_3x3, SE, 112 -> 112\n",
    "            [6,  24, 2, 2, 3, 0.25],  # MBConv6_3x3, SE, 112 ->  56\n",
    "            [6,  40, 2, 2, 5, 0.25],  # MBConv6_5x5, SE,  56 ->  28\n",
    "            [6,  80, 3, 2, 3, 0.25],  # MBConv6_3x3, SE,  28 ->  14\n",
    "            [6, 112, 3, 1, 5, 0.25],  # MBConv6_5x5, SE,  14 ->  14\n",
    "            [6, 192, 4, 2, 5, 0.25],  # MBConv6_5x5, SE,  14 ->   7\n",
    "            [6, 320, 1, 1, 3, 0.25],  # MBConv6_3x3, SE,   7 ->   7\n",
    "        ]\n",
    "        \n",
    "        # Stem\n",
    "        out_channels = _make_divisible(32 * width_coeff, 8)\n",
    "        self.stem_conv = nn.Conv2d(3, out_channels, 3, stride=2, padding=1, bias=False)\n",
    "        self.stem_bn = nn.BatchNorm2d(out_channels)\n",
    "        \n",
    "        # Building inverted residual blocks\n",
    "        self.blocks = nn.ModuleList([])\n",
    "        in_channels = out_channels\n",
    "        \n",
    "        total_blocks = sum([max(1, int(math.ceil(num_repeat * depth_coeff))) for _, _, num_repeat, _, _, _ in settings])\n",
    "        block_idx = 0\n",
    "        \n",
    "        for expand_ratio, output_filter, num_repeat, stride, kernel_size, se_ratio in settings:\n",
    "            output_filter = _make_divisible(output_filter * width_coeff, 8)\n",
    "            num_repeat = max(1, int(math.ceil(num_repeat * depth_coeff)))\n",
    "            \n",
    "            for i in range(num_repeat):\n",
    "                drop_rate = drop_connect_rate * block_idx / total_blocks\n",
    "                \n",
    "                self.blocks.append(MBConvBlock(\n",
    "                    in_channels if i == 0 else output_filter,\n",
    "                    output_filter,\n",
    "                    kernel_size,\n",
    "                    stride if i == 0 else 1,\n",
    "                    expand_ratio,\n",
    "                    se_ratio,\n",
    "                    drop_rate\n",
    "                ))\n",
    "                \n",
    "                block_idx += 1\n",
    "            in_channels = output_filter\n",
    "        \n",
    "        # Head\n",
    "        self.head_conv = nn.Conv2d(in_channels, _make_divisible(1280 * width_coeff, 8), 1, bias=False)\n",
    "        self.head_bn = nn.BatchNorm2d(_make_divisible(1280 * width_coeff, 8))\n",
    "        self.avgpool = nn.AdaptiveAvgPool2d((1, 1))\n",
    "        self.dropout = nn.Dropout(dropout_rate)\n",
    "        self.classifier = nn.Linear(_make_divisible(1280 * width_coeff, 8), num_classes)\n",
    "        \n",
    "        # Initialize weights\n",
    "        self._initialize_weights()\n",
    "    \n",
    "    def _initialize_weights(self):\n",
    "        \"\"\"Initialize weights using appropriate methods\"\"\"\n",
    "        for m in self.modules():\n",
    "            if isinstance(m, nn.Conv2d):\n",
    "                nn.init.kaiming_normal_(m.weight, mode='fan_out', nonlinearity='relu')\n",
    "                if m.bias is not None:\n",
    "                    nn.init.zeros_(m.bias)\n",
    "            elif isinstance(m, nn.BatchNorm2d):\n",
    "                nn.init.ones_(m.weight)\n",
    "                nn.init.zeros_(m.bias)\n",
    "            elif isinstance(m, nn.Linear):\n",
    "                nn.init.normal_(m.weight, 0, 0.01)\n",
    "                nn.init.zeros_(m.bias)\n",
    "    \n",
    "    def forward(self, x):\n",
    "        # Stem\n",
    "        x = Swish()(self.stem_bn(self.stem_conv(x)))\n",
    "        \n",
    "        # Blocks\n",
    "        for block in self.blocks:\n",
    "            x = block(x)\n",
    "        \n",
    "        # Head\n",
    "        x = Swish()(self.head_bn(self.head_conv(x)))\n",
    "        x = self.avgpool(x)\n",
    "        x = torch.flatten(x, 1)\n",
    "        x = self.dropout(x)\n",
    "        x = self.classifier(x)\n",
    "        \n",
    "        return x"
   ]
  },
  {
   "cell_type": "code",
   "execution_count": 8,
   "id": "4bcd5bfc",
   "metadata": {
    "execution": {
     "iopub.execute_input": "2025-09-08T10:04:21.904400Z",
     "iopub.status.busy": "2025-09-08T10:04:21.903912Z",
     "iopub.status.idle": "2025-09-08T10:04:23.544326Z",
     "shell.execute_reply": "2025-09-08T10:04:23.543553Z"
    },
    "papermill": {
     "duration": 1.644942,
     "end_time": "2025-09-08T10:04:23.545705",
     "exception": false,
     "start_time": "2025-09-08T10:04:21.900763",
     "status": "completed"
    },
    "tags": []
   },
   "outputs": [
    {
     "name": "stdout",
     "output_type": "stream",
     "text": [
      "EfficientNetB0 Model Summary:\n",
      "----------------------------------------------------------------\n",
      "        Layer (type)               Output Shape         Param #\n",
      "================================================================\n",
      "            Conv2d-1         [-1, 32, 112, 112]             864\n",
      "       BatchNorm2d-2         [-1, 32, 112, 112]              64\n",
      "            Conv2d-3         [-1, 32, 112, 112]             288\n",
      "       BatchNorm2d-4         [-1, 32, 112, 112]              64\n",
      " AdaptiveAvgPool2d-5             [-1, 32, 1, 1]               0\n",
      "            Conv2d-6              [-1, 8, 1, 1]             264\n",
      "             Swish-7              [-1, 8, 1, 1]               0\n",
      "            Conv2d-8             [-1, 32, 1, 1]             288\n",
      "           Sigmoid-9             [-1, 32, 1, 1]               0\n",
      "SqueezeExcitation-10         [-1, 32, 112, 112]               0\n",
      "           Conv2d-11         [-1, 16, 112, 112]             512\n",
      "      BatchNorm2d-12         [-1, 16, 112, 112]              32\n",
      "      MBConvBlock-13         [-1, 16, 112, 112]               0\n",
      "           Conv2d-14         [-1, 96, 112, 112]           1,536\n",
      "      BatchNorm2d-15         [-1, 96, 112, 112]             192\n",
      "           Conv2d-16           [-1, 96, 56, 56]             864\n",
      "      BatchNorm2d-17           [-1, 96, 56, 56]             192\n",
      "AdaptiveAvgPool2d-18             [-1, 96, 1, 1]               0\n",
      "           Conv2d-19              [-1, 4, 1, 1]             388\n",
      "            Swish-20              [-1, 4, 1, 1]               0\n",
      "           Conv2d-21             [-1, 96, 1, 1]             480\n",
      "          Sigmoid-22             [-1, 96, 1, 1]               0\n",
      "SqueezeExcitation-23           [-1, 96, 56, 56]               0\n",
      "           Conv2d-24           [-1, 24, 56, 56]           2,304\n",
      "      BatchNorm2d-25           [-1, 24, 56, 56]              48\n",
      "      MBConvBlock-26           [-1, 24, 56, 56]               0\n",
      "           Conv2d-27          [-1, 144, 56, 56]           3,456\n",
      "      BatchNorm2d-28          [-1, 144, 56, 56]             288\n",
      "           Conv2d-29          [-1, 144, 56, 56]           1,296\n",
      "      BatchNorm2d-30          [-1, 144, 56, 56]             288\n",
      "AdaptiveAvgPool2d-31            [-1, 144, 1, 1]               0\n",
      "           Conv2d-32              [-1, 6, 1, 1]             870\n",
      "            Swish-33              [-1, 6, 1, 1]               0\n",
      "           Conv2d-34            [-1, 144, 1, 1]           1,008\n",
      "          Sigmoid-35            [-1, 144, 1, 1]               0\n",
      "SqueezeExcitation-36          [-1, 144, 56, 56]               0\n",
      "           Conv2d-37           [-1, 24, 56, 56]           3,456\n",
      "      BatchNorm2d-38           [-1, 24, 56, 56]              48\n",
      "  StochasticDepth-39           [-1, 24, 56, 56]               0\n",
      "      MBConvBlock-40           [-1, 24, 56, 56]               0\n",
      "           Conv2d-41          [-1, 144, 56, 56]           3,456\n",
      "      BatchNorm2d-42          [-1, 144, 56, 56]             288\n",
      "           Conv2d-43          [-1, 144, 28, 28]           3,600\n",
      "      BatchNorm2d-44          [-1, 144, 28, 28]             288\n",
      "AdaptiveAvgPool2d-45            [-1, 144, 1, 1]               0\n",
      "           Conv2d-46              [-1, 6, 1, 1]             870\n",
      "            Swish-47              [-1, 6, 1, 1]               0\n",
      "           Conv2d-48            [-1, 144, 1, 1]           1,008\n",
      "          Sigmoid-49            [-1, 144, 1, 1]               0\n",
      "SqueezeExcitation-50          [-1, 144, 28, 28]               0\n",
      "           Conv2d-51           [-1, 40, 28, 28]           5,760\n",
      "      BatchNorm2d-52           [-1, 40, 28, 28]              80\n",
      "      MBConvBlock-53           [-1, 40, 28, 28]               0\n",
      "           Conv2d-54          [-1, 240, 28, 28]           9,600\n",
      "      BatchNorm2d-55          [-1, 240, 28, 28]             480\n",
      "           Conv2d-56          [-1, 240, 28, 28]           6,000\n",
      "      BatchNorm2d-57          [-1, 240, 28, 28]             480\n",
      "AdaptiveAvgPool2d-58            [-1, 240, 1, 1]               0\n",
      "           Conv2d-59             [-1, 10, 1, 1]           2,410\n",
      "            Swish-60             [-1, 10, 1, 1]               0\n",
      "           Conv2d-61            [-1, 240, 1, 1]           2,640\n",
      "          Sigmoid-62            [-1, 240, 1, 1]               0\n",
      "SqueezeExcitation-63          [-1, 240, 28, 28]               0\n",
      "           Conv2d-64           [-1, 40, 28, 28]           9,600\n",
      "      BatchNorm2d-65           [-1, 40, 28, 28]              80\n",
      "  StochasticDepth-66           [-1, 40, 28, 28]               0\n",
      "      MBConvBlock-67           [-1, 40, 28, 28]               0\n",
      "           Conv2d-68          [-1, 240, 28, 28]           9,600\n",
      "      BatchNorm2d-69          [-1, 240, 28, 28]             480\n",
      "           Conv2d-70          [-1, 240, 14, 14]           2,160\n",
      "      BatchNorm2d-71          [-1, 240, 14, 14]             480\n",
      "AdaptiveAvgPool2d-72            [-1, 240, 1, 1]               0\n",
      "           Conv2d-73             [-1, 10, 1, 1]           2,410\n",
      "            Swish-74             [-1, 10, 1, 1]               0\n",
      "           Conv2d-75            [-1, 240, 1, 1]           2,640\n",
      "          Sigmoid-76            [-1, 240, 1, 1]               0\n",
      "SqueezeExcitation-77          [-1, 240, 14, 14]               0\n",
      "           Conv2d-78           [-1, 80, 14, 14]          19,200\n",
      "      BatchNorm2d-79           [-1, 80, 14, 14]             160\n",
      "      MBConvBlock-80           [-1, 80, 14, 14]               0\n",
      "           Conv2d-81          [-1, 480, 14, 14]          38,400\n",
      "      BatchNorm2d-82          [-1, 480, 14, 14]             960\n",
      "           Conv2d-83          [-1, 480, 14, 14]           4,320\n",
      "      BatchNorm2d-84          [-1, 480, 14, 14]             960\n",
      "AdaptiveAvgPool2d-85            [-1, 480, 1, 1]               0\n",
      "           Conv2d-86             [-1, 20, 1, 1]           9,620\n",
      "            Swish-87             [-1, 20, 1, 1]               0\n",
      "           Conv2d-88            [-1, 480, 1, 1]          10,080\n",
      "          Sigmoid-89            [-1, 480, 1, 1]               0\n",
      "SqueezeExcitation-90          [-1, 480, 14, 14]               0\n",
      "           Conv2d-91           [-1, 80, 14, 14]          38,400\n",
      "      BatchNorm2d-92           [-1, 80, 14, 14]             160\n",
      "  StochasticDepth-93           [-1, 80, 14, 14]               0\n",
      "      MBConvBlock-94           [-1, 80, 14, 14]               0\n",
      "           Conv2d-95          [-1, 480, 14, 14]          38,400\n",
      "      BatchNorm2d-96          [-1, 480, 14, 14]             960\n",
      "           Conv2d-97          [-1, 480, 14, 14]           4,320\n",
      "      BatchNorm2d-98          [-1, 480, 14, 14]             960\n",
      "AdaptiveAvgPool2d-99            [-1, 480, 1, 1]               0\n",
      "          Conv2d-100             [-1, 20, 1, 1]           9,620\n",
      "           Swish-101             [-1, 20, 1, 1]               0\n",
      "          Conv2d-102            [-1, 480, 1, 1]          10,080\n",
      "         Sigmoid-103            [-1, 480, 1, 1]               0\n",
      "SqueezeExcitation-104          [-1, 480, 14, 14]               0\n",
      "          Conv2d-105           [-1, 80, 14, 14]          38,400\n",
      "     BatchNorm2d-106           [-1, 80, 14, 14]             160\n",
      " StochasticDepth-107           [-1, 80, 14, 14]               0\n",
      "     MBConvBlock-108           [-1, 80, 14, 14]               0\n",
      "          Conv2d-109          [-1, 480, 14, 14]          38,400\n",
      "     BatchNorm2d-110          [-1, 480, 14, 14]             960\n",
      "          Conv2d-111          [-1, 480, 14, 14]          12,000\n",
      "     BatchNorm2d-112          [-1, 480, 14, 14]             960\n",
      "AdaptiveAvgPool2d-113            [-1, 480, 1, 1]               0\n",
      "          Conv2d-114             [-1, 20, 1, 1]           9,620\n",
      "           Swish-115             [-1, 20, 1, 1]               0\n",
      "          Conv2d-116            [-1, 480, 1, 1]          10,080\n",
      "         Sigmoid-117            [-1, 480, 1, 1]               0\n",
      "SqueezeExcitation-118          [-1, 480, 14, 14]               0\n",
      "          Conv2d-119          [-1, 112, 14, 14]          53,760\n",
      "     BatchNorm2d-120          [-1, 112, 14, 14]             224\n",
      "     MBConvBlock-121          [-1, 112, 14, 14]               0\n",
      "          Conv2d-122          [-1, 672, 14, 14]          75,264\n",
      "     BatchNorm2d-123          [-1, 672, 14, 14]           1,344\n",
      "          Conv2d-124          [-1, 672, 14, 14]          16,800\n",
      "     BatchNorm2d-125          [-1, 672, 14, 14]           1,344\n",
      "AdaptiveAvgPool2d-126            [-1, 672, 1, 1]               0\n",
      "          Conv2d-127             [-1, 28, 1, 1]          18,844\n",
      "           Swish-128             [-1, 28, 1, 1]               0\n",
      "          Conv2d-129            [-1, 672, 1, 1]          19,488\n",
      "         Sigmoid-130            [-1, 672, 1, 1]               0\n",
      "SqueezeExcitation-131          [-1, 672, 14, 14]               0\n",
      "          Conv2d-132          [-1, 112, 14, 14]          75,264\n",
      "     BatchNorm2d-133          [-1, 112, 14, 14]             224\n",
      " StochasticDepth-134          [-1, 112, 14, 14]               0\n",
      "     MBConvBlock-135          [-1, 112, 14, 14]               0\n",
      "          Conv2d-136          [-1, 672, 14, 14]          75,264\n",
      "     BatchNorm2d-137          [-1, 672, 14, 14]           1,344\n",
      "          Conv2d-138          [-1, 672, 14, 14]          16,800\n",
      "     BatchNorm2d-139          [-1, 672, 14, 14]           1,344\n",
      "AdaptiveAvgPool2d-140            [-1, 672, 1, 1]               0\n",
      "          Conv2d-141             [-1, 28, 1, 1]          18,844\n",
      "           Swish-142             [-1, 28, 1, 1]               0\n",
      "          Conv2d-143            [-1, 672, 1, 1]          19,488\n",
      "         Sigmoid-144            [-1, 672, 1, 1]               0\n",
      "SqueezeExcitation-145          [-1, 672, 14, 14]               0\n",
      "          Conv2d-146          [-1, 112, 14, 14]          75,264\n",
      "     BatchNorm2d-147          [-1, 112, 14, 14]             224\n",
      " StochasticDepth-148          [-1, 112, 14, 14]               0\n",
      "     MBConvBlock-149          [-1, 112, 14, 14]               0\n",
      "          Conv2d-150          [-1, 672, 14, 14]          75,264\n",
      "     BatchNorm2d-151          [-1, 672, 14, 14]           1,344\n",
      "          Conv2d-152            [-1, 672, 7, 7]          16,800\n",
      "     BatchNorm2d-153            [-1, 672, 7, 7]           1,344\n",
      "AdaptiveAvgPool2d-154            [-1, 672, 1, 1]               0\n",
      "          Conv2d-155             [-1, 28, 1, 1]          18,844\n",
      "           Swish-156             [-1, 28, 1, 1]               0\n",
      "          Conv2d-157            [-1, 672, 1, 1]          19,488\n",
      "         Sigmoid-158            [-1, 672, 1, 1]               0\n",
      "SqueezeExcitation-159            [-1, 672, 7, 7]               0\n",
      "          Conv2d-160            [-1, 192, 7, 7]         129,024\n",
      "     BatchNorm2d-161            [-1, 192, 7, 7]             384\n",
      "     MBConvBlock-162            [-1, 192, 7, 7]               0\n",
      "          Conv2d-163           [-1, 1152, 7, 7]         221,184\n",
      "     BatchNorm2d-164           [-1, 1152, 7, 7]           2,304\n",
      "          Conv2d-165           [-1, 1152, 7, 7]          28,800\n",
      "     BatchNorm2d-166           [-1, 1152, 7, 7]           2,304\n",
      "AdaptiveAvgPool2d-167           [-1, 1152, 1, 1]               0\n",
      "          Conv2d-168             [-1, 48, 1, 1]          55,344\n",
      "           Swish-169             [-1, 48, 1, 1]               0\n",
      "          Conv2d-170           [-1, 1152, 1, 1]          56,448\n",
      "         Sigmoid-171           [-1, 1152, 1, 1]               0\n",
      "SqueezeExcitation-172           [-1, 1152, 7, 7]               0\n",
      "          Conv2d-173            [-1, 192, 7, 7]         221,184\n",
      "     BatchNorm2d-174            [-1, 192, 7, 7]             384\n",
      " StochasticDepth-175            [-1, 192, 7, 7]               0\n",
      "     MBConvBlock-176            [-1, 192, 7, 7]               0\n",
      "          Conv2d-177           [-1, 1152, 7, 7]         221,184\n",
      "     BatchNorm2d-178           [-1, 1152, 7, 7]           2,304\n",
      "          Conv2d-179           [-1, 1152, 7, 7]          28,800\n",
      "     BatchNorm2d-180           [-1, 1152, 7, 7]           2,304\n",
      "AdaptiveAvgPool2d-181           [-1, 1152, 1, 1]               0\n",
      "          Conv2d-182             [-1, 48, 1, 1]          55,344\n",
      "           Swish-183             [-1, 48, 1, 1]               0\n",
      "          Conv2d-184           [-1, 1152, 1, 1]          56,448\n",
      "         Sigmoid-185           [-1, 1152, 1, 1]               0\n",
      "SqueezeExcitation-186           [-1, 1152, 7, 7]               0\n",
      "          Conv2d-187            [-1, 192, 7, 7]         221,184\n",
      "     BatchNorm2d-188            [-1, 192, 7, 7]             384\n",
      " StochasticDepth-189            [-1, 192, 7, 7]               0\n",
      "     MBConvBlock-190            [-1, 192, 7, 7]               0\n",
      "          Conv2d-191           [-1, 1152, 7, 7]         221,184\n",
      "     BatchNorm2d-192           [-1, 1152, 7, 7]           2,304\n",
      "          Conv2d-193           [-1, 1152, 7, 7]          28,800\n",
      "     BatchNorm2d-194           [-1, 1152, 7, 7]           2,304\n",
      "AdaptiveAvgPool2d-195           [-1, 1152, 1, 1]               0\n",
      "          Conv2d-196             [-1, 48, 1, 1]          55,344\n",
      "           Swish-197             [-1, 48, 1, 1]               0\n",
      "          Conv2d-198           [-1, 1152, 1, 1]          56,448\n",
      "         Sigmoid-199           [-1, 1152, 1, 1]               0\n",
      "SqueezeExcitation-200           [-1, 1152, 7, 7]               0\n",
      "          Conv2d-201            [-1, 192, 7, 7]         221,184\n",
      "     BatchNorm2d-202            [-1, 192, 7, 7]             384\n",
      " StochasticDepth-203            [-1, 192, 7, 7]               0\n",
      "     MBConvBlock-204            [-1, 192, 7, 7]               0\n",
      "          Conv2d-205           [-1, 1152, 7, 7]         221,184\n",
      "     BatchNorm2d-206           [-1, 1152, 7, 7]           2,304\n",
      "          Conv2d-207           [-1, 1152, 7, 7]          10,368\n",
      "     BatchNorm2d-208           [-1, 1152, 7, 7]           2,304\n",
      "AdaptiveAvgPool2d-209           [-1, 1152, 1, 1]               0\n",
      "          Conv2d-210             [-1, 48, 1, 1]          55,344\n",
      "           Swish-211             [-1, 48, 1, 1]               0\n",
      "          Conv2d-212           [-1, 1152, 1, 1]          56,448\n",
      "         Sigmoid-213           [-1, 1152, 1, 1]               0\n",
      "SqueezeExcitation-214           [-1, 1152, 7, 7]               0\n",
      "          Conv2d-215            [-1, 320, 7, 7]         368,640\n",
      "     BatchNorm2d-216            [-1, 320, 7, 7]             640\n",
      "     MBConvBlock-217            [-1, 320, 7, 7]               0\n",
      "          Conv2d-218           [-1, 1280, 7, 7]         409,600\n",
      "     BatchNorm2d-219           [-1, 1280, 7, 7]           2,560\n",
      "AdaptiveAvgPool2d-220           [-1, 1280, 1, 1]               0\n",
      "         Dropout-221                 [-1, 1280]               0\n",
      "          Linear-222                    [-1, 6]           7,686\n",
      "================================================================\n",
      "Total params: 4,015,234\n",
      "Trainable params: 4,015,234\n",
      "Non-trainable params: 0\n",
      "----------------------------------------------------------------\n",
      "Input size (MB): 0.57\n",
      "Forward/backward pass size (MB): 126.67\n",
      "Params size (MB): 15.32\n",
      "Estimated Total Size (MB): 142.56\n",
      "----------------------------------------------------------------\n"
     ]
    }
   ],
   "source": [
    "import math\n",
    "# -----------------------------\n",
    "# 3. Training Setup\n",
    "# -----------------------------\n",
    "device = torch.device(\"cuda\" if torch.cuda.is_available() else \"cpu\")\n",
    "model = MyEfficientNetB0(num_classes=len(classes)).to(device)\n",
    "criterion = nn.CrossEntropyLoss()\n",
    "optimizer = torch.optim.Adam(model.parameters(), lr=0.001)\n",
    "\n",
    "print(\"EfficientNetB0 Model Summary:\")\n",
    "try:\n",
    "    summary(model, (3, 224, 224))\n",
    "except:\n",
    "    print(\"Model summary generation failed - this is normal for complex architectures\")\n",
    "    print(f\"Model created successfully with {sum(p.numel() for p in model.parameters()):,} parameters\")"
   ]
  },
  {
   "cell_type": "code",
   "execution_count": 9,
   "id": "53f66863",
   "metadata": {
    "execution": {
     "iopub.execute_input": "2025-09-08T10:04:23.560093Z",
     "iopub.status.busy": "2025-09-08T10:04:23.559786Z",
     "iopub.status.idle": "2025-09-08T10:23:02.364119Z",
     "shell.execute_reply": "2025-09-08T10:23:02.363377Z"
    },
    "papermill": {
     "duration": 1118.811608,
     "end_time": "2025-09-08T10:23:02.367186",
     "exception": false,
     "start_time": "2025-09-08T10:04:23.555578",
     "status": "completed"
    },
    "tags": []
   },
   "outputs": [
    {
     "name": "stdout",
     "output_type": "stream",
     "text": [
      "\n",
      "🚀 Starting EfficientNetB0 Training for 50 epochs...\n",
      "================================================================================\n",
      "\n",
      "📈 Epoch 1/50\n",
      "--------------------------------------------------\n",
      "🔄 Training Phase...\n"
     ]
    },
    {
     "name": "stderr",
     "output_type": "stream",
     "text": [
      "Training: 100%|██████████████████████████████| 48/48 [00:26<00:00,  1.83it/s, Loss=1.6746, Acc=0.2884]\n"
     ]
    },
    {
     "name": "stdout",
     "output_type": "stream",
     "text": [
      "✅ Training completed in 26.28s\n",
      "🔍 Validation Phase...\n"
     ]
    },
    {
     "name": "stderr",
     "output_type": "stream",
     "text": [
      "Validation: 100%|██████████████████████████████| 13/13 [00:04<00:00,  2.73it/s, Loss=1.6600, Acc=0.2500]\n"
     ]
    },
    {
     "name": "stdout",
     "output_type": "stream",
     "text": [
      "✅ Validation completed in 4.76s\n",
      "🌟 New best EfficientNetB0 model found! Validation Accuracy: 0.2500\n",
      "\n",
      "📊 Epoch 1 Summary:\n",
      "│ Train Loss: 1.6746 | Train Acc: 0.2884\n",
      "│ Val Loss:   1.6600 | Val Acc:   0.2500\n",
      "│ Train Time: 26.28s | Val Time: 4.76s\n",
      "│ Total Epoch Time: 31.04s\n",
      "│ Best Val Acc: 0.2500 (Epoch 1)\n",
      "│ GPU Memory: 0.1GB / 4.1GB\n",
      "================================================================================\n",
      "\n",
      "📈 Epoch 2/50\n",
      "--------------------------------------------------\n",
      "🔄 Training Phase...\n"
     ]
    },
    {
     "name": "stderr",
     "output_type": "stream",
     "text": [
      "Training: 100%|██████████████████████████████| 48/48 [00:18<00:00,  2.57it/s, Loss=1.5373, Acc=0.3698]\n"
     ]
    },
    {
     "name": "stdout",
     "output_type": "stream",
     "text": [
      "✅ Training completed in 18.70s\n",
      "🔍 Validation Phase...\n"
     ]
    },
    {
     "name": "stderr",
     "output_type": "stream",
     "text": [
      "Validation: 100%|██████████████████████████████| 13/13 [00:03<00:00,  4.20it/s, Loss=2.3011, Acc=0.3077]\n"
     ]
    },
    {
     "name": "stdout",
     "output_type": "stream",
     "text": [
      "✅ Validation completed in 3.10s\n",
      "🌟 New best EfficientNetB0 model found! Validation Accuracy: 0.3077\n",
      "\n",
      "📊 Epoch 2 Summary:\n",
      "│ Train Loss: 1.5373 | Train Acc: 0.3698\n",
      "│ Val Loss:   2.3011 | Val Acc:   0.3077\n",
      "│ Train Time: 18.70s | Val Time: 3.10s\n",
      "│ Total Epoch Time: 21.81s\n",
      "│ Best Val Acc: 0.3077 (Epoch 2)\n",
      "│ GPU Memory: 0.1GB / 4.1GB\n",
      "================================================================================\n",
      "\n",
      "📈 Epoch 3/50\n",
      "--------------------------------------------------\n",
      "🔄 Training Phase...\n"
     ]
    },
    {
     "name": "stderr",
     "output_type": "stream",
     "text": [
      "Training: 100%|██████████████████████████████| 48/48 [00:18<00:00,  2.59it/s, Loss=1.3017, Acc=0.4974]\n"
     ]
    },
    {
     "name": "stdout",
     "output_type": "stream",
     "text": [
      "✅ Training completed in 18.56s\n",
      "🔍 Validation Phase...\n"
     ]
    },
    {
     "name": "stderr",
     "output_type": "stream",
     "text": [
      "Validation: 100%|██████████████████████████████| 13/13 [00:03<00:00,  4.16it/s, Loss=1.7279, Acc=0.3702]\n"
     ]
    },
    {
     "name": "stdout",
     "output_type": "stream",
     "text": [
      "✅ Validation completed in 3.13s\n",
      "🌟 New best EfficientNetB0 model found! Validation Accuracy: 0.3702\n",
      "\n",
      "📊 Epoch 3 Summary:\n",
      "│ Train Loss: 1.3017 | Train Acc: 0.4974\n",
      "│ Val Loss:   1.7279 | Val Acc:   0.3702\n",
      "│ Train Time: 18.56s | Val Time: 3.13s\n",
      "│ Total Epoch Time: 21.70s\n",
      "│ Best Val Acc: 0.3702 (Epoch 3)\n",
      "│ GPU Memory: 0.1GB / 4.1GB\n",
      "================================================================================\n",
      "\n",
      "📈 Epoch 4/50\n",
      "--------------------------------------------------\n",
      "🔄 Training Phase...\n"
     ]
    },
    {
     "name": "stderr",
     "output_type": "stream",
     "text": [
      "Training: 100%|██████████████████████████████| 48/48 [00:18<00:00,  2.58it/s, Loss=1.0008, Acc=0.6419]\n"
     ]
    },
    {
     "name": "stdout",
     "output_type": "stream",
     "text": [
      "✅ Training completed in 18.57s\n",
      "🔍 Validation Phase...\n"
     ]
    },
    {
     "name": "stderr",
     "output_type": "stream",
     "text": [
      "Validation: 100%|██████████████████████████████| 13/13 [00:03<00:00,  4.30it/s, Loss=2.1375, Acc=0.4159]\n"
     ]
    },
    {
     "name": "stdout",
     "output_type": "stream",
     "text": [
      "✅ Validation completed in 3.02s\n",
      "🌟 New best EfficientNetB0 model found! Validation Accuracy: 0.4159\n",
      "\n",
      "📊 Epoch 4 Summary:\n",
      "│ Train Loss: 1.0008 | Train Acc: 0.6419\n",
      "│ Val Loss:   2.1375 | Val Acc:   0.4159\n",
      "│ Train Time: 18.57s | Val Time: 3.02s\n",
      "│ Total Epoch Time: 21.61s\n",
      "│ Best Val Acc: 0.4159 (Epoch 4)\n",
      "│ GPU Memory: 0.1GB / 4.1GB\n",
      "================================================================================\n",
      "\n",
      "📈 Epoch 5/50\n",
      "--------------------------------------------------\n",
      "🔄 Training Phase...\n"
     ]
    },
    {
     "name": "stderr",
     "output_type": "stream",
     "text": [
      "Training: 100%|██████████████████████████████| 48/48 [00:18<00:00,  2.56it/s, Loss=0.6931, Acc=0.7533]\n"
     ]
    },
    {
     "name": "stdout",
     "output_type": "stream",
     "text": [
      "✅ Training completed in 18.74s\n",
      "🔍 Validation Phase...\n"
     ]
    },
    {
     "name": "stderr",
     "output_type": "stream",
     "text": [
      "Validation: 100%|██████████████████████████████| 13/13 [00:03<00:00,  4.25it/s, Loss=1.9504, Acc=0.3870]\n"
     ]
    },
    {
     "name": "stdout",
     "output_type": "stream",
     "text": [
      "✅ Validation completed in 3.06s\n",
      "\n",
      "📊 Epoch 5 Summary:\n",
      "│ Train Loss: 0.6931 | Train Acc: 0.7533\n",
      "│ Val Loss:   1.9504 | Val Acc:   0.3870\n",
      "│ Train Time: 18.74s | Val Time: 3.06s\n",
      "│ Total Epoch Time: 21.81s\n",
      "│ Best Val Acc: 0.4159 (Epoch 4)\n",
      "│ GPU Memory: 0.1GB / 4.1GB\n",
      "================================================================================\n",
      "\n",
      "📈 Epoch 6/50\n",
      "--------------------------------------------------\n",
      "🔄 Training Phase...\n"
     ]
    },
    {
     "name": "stderr",
     "output_type": "stream",
     "text": [
      "Training: 100%|██████████████████████████████| 48/48 [00:18<00:00,  2.57it/s, Loss=0.4380, Acc=0.8529]\n"
     ]
    },
    {
     "name": "stdout",
     "output_type": "stream",
     "text": [
      "✅ Training completed in 18.65s\n",
      "🔍 Validation Phase...\n"
     ]
    },
    {
     "name": "stderr",
     "output_type": "stream",
     "text": [
      "Validation: 100%|██████████████████████████████| 13/13 [00:02<00:00,  4.39it/s, Loss=3.1491, Acc=0.3846]\n"
     ]
    },
    {
     "name": "stdout",
     "output_type": "stream",
     "text": [
      "✅ Validation completed in 2.97s\n",
      "\n",
      "📊 Epoch 6 Summary:\n",
      "│ Train Loss: 0.4380 | Train Acc: 0.8529\n",
      "│ Val Loss:   3.1491 | Val Acc:   0.3846\n",
      "│ Train Time: 18.65s | Val Time: 2.97s\n",
      "│ Total Epoch Time: 21.62s\n",
      "│ Best Val Acc: 0.4159 (Epoch 4)\n",
      "│ GPU Memory: 0.1GB / 4.1GB\n",
      "================================================================================\n",
      "\n",
      "📈 Epoch 7/50\n",
      "--------------------------------------------------\n",
      "🔄 Training Phase...\n"
     ]
    },
    {
     "name": "stderr",
     "output_type": "stream",
     "text": [
      "Training: 100%|██████████████████████████████| 48/48 [00:18<00:00,  2.54it/s, Loss=0.3411, Acc=0.8926]\n"
     ]
    },
    {
     "name": "stdout",
     "output_type": "stream",
     "text": [
      "✅ Training completed in 18.89s\n",
      "🔍 Validation Phase...\n"
     ]
    },
    {
     "name": "stderr",
     "output_type": "stream",
     "text": [
      "Validation: 100%|██████████████████████████████| 13/13 [00:03<00:00,  4.19it/s, Loss=3.0863, Acc=0.3173]\n"
     ]
    },
    {
     "name": "stdout",
     "output_type": "stream",
     "text": [
      "✅ Validation completed in 3.11s\n",
      "\n",
      "📊 Epoch 7 Summary:\n",
      "│ Train Loss: 0.3411 | Train Acc: 0.8926\n",
      "│ Val Loss:   3.0863 | Val Acc:   0.3173\n",
      "│ Train Time: 18.89s | Val Time: 3.11s\n",
      "│ Total Epoch Time: 22.00s\n",
      "│ Best Val Acc: 0.4159 (Epoch 4)\n",
      "│ GPU Memory: 0.1GB / 4.1GB\n",
      "================================================================================\n",
      "\n",
      "📈 Epoch 8/50\n",
      "--------------------------------------------------\n",
      "🔄 Training Phase...\n"
     ]
    },
    {
     "name": "stderr",
     "output_type": "stream",
     "text": [
      "Training: 100%|██████████████████████████████| 48/48 [00:19<00:00,  2.53it/s, Loss=0.2739, Acc=0.9108]\n"
     ]
    },
    {
     "name": "stdout",
     "output_type": "stream",
     "text": [
      "✅ Training completed in 19.01s\n",
      "🔍 Validation Phase...\n"
     ]
    },
    {
     "name": "stderr",
     "output_type": "stream",
     "text": [
      "Validation: 100%|██████████████████████████████| 13/13 [00:02<00:00,  4.35it/s, Loss=2.3862, Acc=0.4567]\n"
     ]
    },
    {
     "name": "stdout",
     "output_type": "stream",
     "text": [
      "✅ Validation completed in 2.99s\n",
      "🌟 New best EfficientNetB0 model found! Validation Accuracy: 0.4567\n",
      "\n",
      "📊 Epoch 8 Summary:\n",
      "│ Train Loss: 0.2739 | Train Acc: 0.9108\n",
      "│ Val Loss:   2.3862 | Val Acc:   0.4567\n",
      "│ Train Time: 19.01s | Val Time: 2.99s\n",
      "│ Total Epoch Time: 22.00s\n",
      "│ Best Val Acc: 0.4567 (Epoch 8)\n",
      "│ GPU Memory: 0.1GB / 4.1GB\n",
      "================================================================================\n",
      "\n",
      "📈 Epoch 9/50\n",
      "--------------------------------------------------\n",
      "🔄 Training Phase...\n"
     ]
    },
    {
     "name": "stderr",
     "output_type": "stream",
     "text": [
      "Training: 100%|██████████████████████████████| 48/48 [00:19<00:00,  2.48it/s, Loss=0.2583, Acc=0.9121]\n"
     ]
    },
    {
     "name": "stdout",
     "output_type": "stream",
     "text": [
      "✅ Training completed in 19.34s\n",
      "🔍 Validation Phase...\n"
     ]
    },
    {
     "name": "stderr",
     "output_type": "stream",
     "text": [
      "Validation: 100%|██████████████████████████████| 13/13 [00:02<00:00,  4.37it/s, Loss=2.6721, Acc=0.4038]\n"
     ]
    },
    {
     "name": "stdout",
     "output_type": "stream",
     "text": [
      "✅ Validation completed in 2.98s\n",
      "\n",
      "📊 Epoch 9 Summary:\n",
      "│ Train Loss: 0.2583 | Train Acc: 0.9121\n",
      "│ Val Loss:   2.6721 | Val Acc:   0.4038\n",
      "│ Train Time: 19.34s | Val Time: 2.98s\n",
      "│ Total Epoch Time: 22.32s\n",
      "│ Best Val Acc: 0.4567 (Epoch 8)\n",
      "│ GPU Memory: 0.1GB / 4.1GB\n",
      "================================================================================\n",
      "\n",
      "📈 Epoch 10/50\n",
      "--------------------------------------------------\n",
      "🔄 Training Phase...\n"
     ]
    },
    {
     "name": "stderr",
     "output_type": "stream",
     "text": [
      "Training: 100%|██████████████████████████████| 48/48 [00:19<00:00,  2.48it/s, Loss=0.1421, Acc=0.9564]\n"
     ]
    },
    {
     "name": "stdout",
     "output_type": "stream",
     "text": [
      "✅ Training completed in 19.35s\n",
      "🔍 Validation Phase...\n"
     ]
    },
    {
     "name": "stderr",
     "output_type": "stream",
     "text": [
      "Validation: 100%|██████████████████████████████| 13/13 [00:02<00:00,  4.36it/s, Loss=2.7352, Acc=0.4688]\n"
     ]
    },
    {
     "name": "stdout",
     "output_type": "stream",
     "text": [
      "✅ Validation completed in 2.99s\n",
      "🌟 New best EfficientNetB0 model found! Validation Accuracy: 0.4688\n",
      "\n",
      "📊 Epoch 10 Summary:\n",
      "│ Train Loss: 0.1421 | Train Acc: 0.9564\n",
      "│ Val Loss:   2.7352 | Val Acc:   0.4688\n",
      "│ Train Time: 19.35s | Val Time: 2.99s\n",
      "│ Total Epoch Time: 22.34s\n",
      "│ Best Val Acc: 0.4688 (Epoch 10)\n",
      "│ GPU Memory: 0.1GB / 4.1GB\n",
      "================================================================================\n",
      "\n",
      "📈 Epoch 11/50\n",
      "--------------------------------------------------\n",
      "🔄 Training Phase...\n"
     ]
    },
    {
     "name": "stderr",
     "output_type": "stream",
     "text": [
      "Training: 100%|██████████████████████████████| 48/48 [00:18<00:00,  2.53it/s, Loss=0.1223, Acc=0.9616]\n"
     ]
    },
    {
     "name": "stdout",
     "output_type": "stream",
     "text": [
      "✅ Training completed in 18.99s\n",
      "🔍 Validation Phase...\n"
     ]
    },
    {
     "name": "stderr",
     "output_type": "stream",
     "text": [
      "Validation: 100%|██████████████████████████████| 13/13 [00:02<00:00,  4.43it/s, Loss=2.9171, Acc=0.4471]\n"
     ]
    },
    {
     "name": "stdout",
     "output_type": "stream",
     "text": [
      "✅ Validation completed in 2.94s\n",
      "\n",
      "📊 Epoch 11 Summary:\n",
      "│ Train Loss: 0.1223 | Train Acc: 0.9616\n",
      "│ Val Loss:   2.9171 | Val Acc:   0.4471\n",
      "│ Train Time: 18.99s | Val Time: 2.94s\n",
      "│ Total Epoch Time: 21.93s\n",
      "│ Best Val Acc: 0.4688 (Epoch 10)\n",
      "│ GPU Memory: 0.1GB / 4.1GB\n",
      "================================================================================\n",
      "\n",
      "📈 Epoch 12/50\n",
      "--------------------------------------------------\n",
      "🔄 Training Phase...\n"
     ]
    },
    {
     "name": "stderr",
     "output_type": "stream",
     "text": [
      "Training: 100%|██████████████████████████████| 48/48 [00:19<00:00,  2.51it/s, Loss=0.1282, Acc=0.9596]\n"
     ]
    },
    {
     "name": "stdout",
     "output_type": "stream",
     "text": [
      "✅ Training completed in 19.10s\n",
      "🔍 Validation Phase...\n"
     ]
    },
    {
     "name": "stderr",
     "output_type": "stream",
     "text": [
      "Validation: 100%|██████████████████████████████| 13/13 [00:02<00:00,  4.51it/s, Loss=2.5861, Acc=0.5361]\n"
     ]
    },
    {
     "name": "stdout",
     "output_type": "stream",
     "text": [
      "✅ Validation completed in 2.89s\n",
      "🌟 New best EfficientNetB0 model found! Validation Accuracy: 0.5361\n",
      "\n",
      "📊 Epoch 12 Summary:\n",
      "│ Train Loss: 0.1282 | Train Acc: 0.9596\n",
      "│ Val Loss:   2.5861 | Val Acc:   0.5361\n",
      "│ Train Time: 19.10s | Val Time: 2.89s\n",
      "│ Total Epoch Time: 21.99s\n",
      "│ Best Val Acc: 0.5361 (Epoch 12)\n",
      "│ GPU Memory: 0.1GB / 4.1GB\n",
      "================================================================================\n",
      "\n",
      "📈 Epoch 13/50\n",
      "--------------------------------------------------\n",
      "🔄 Training Phase...\n"
     ]
    },
    {
     "name": "stderr",
     "output_type": "stream",
     "text": [
      "Training: 100%|██████████████████████████████| 48/48 [00:19<00:00,  2.48it/s, Loss=0.0900, Acc=0.9759]\n"
     ]
    },
    {
     "name": "stdout",
     "output_type": "stream",
     "text": [
      "✅ Training completed in 19.35s\n",
      "🔍 Validation Phase...\n"
     ]
    },
    {
     "name": "stderr",
     "output_type": "stream",
     "text": [
      "Validation: 100%|██████████████████████████████| 13/13 [00:02<00:00,  4.36it/s, Loss=3.2340, Acc=0.4543]\n"
     ]
    },
    {
     "name": "stdout",
     "output_type": "stream",
     "text": [
      "✅ Validation completed in 2.98s\n",
      "\n",
      "📊 Epoch 13 Summary:\n",
      "│ Train Loss: 0.0900 | Train Acc: 0.9759\n",
      "│ Val Loss:   3.2340 | Val Acc:   0.4543\n",
      "│ Train Time: 19.35s | Val Time: 2.98s\n",
      "│ Total Epoch Time: 22.33s\n",
      "│ Best Val Acc: 0.5361 (Epoch 12)\n",
      "│ GPU Memory: 0.1GB / 4.1GB\n",
      "================================================================================\n",
      "\n",
      "📈 Epoch 14/50\n",
      "--------------------------------------------------\n",
      "🔄 Training Phase...\n"
     ]
    },
    {
     "name": "stderr",
     "output_type": "stream",
     "text": [
      "Training: 100%|██████████████████████████████| 48/48 [00:19<00:00,  2.52it/s, Loss=0.1134, Acc=0.9655]\n"
     ]
    },
    {
     "name": "stdout",
     "output_type": "stream",
     "text": [
      "✅ Training completed in 19.05s\n",
      "🔍 Validation Phase...\n"
     ]
    },
    {
     "name": "stderr",
     "output_type": "stream",
     "text": [
      "Validation: 100%|██████████████████████████████| 13/13 [00:02<00:00,  4.48it/s, Loss=3.2132, Acc=0.4159]\n"
     ]
    },
    {
     "name": "stdout",
     "output_type": "stream",
     "text": [
      "✅ Validation completed in 2.90s\n",
      "\n",
      "📊 Epoch 14 Summary:\n",
      "│ Train Loss: 0.1134 | Train Acc: 0.9655\n",
      "│ Val Loss:   3.2132 | Val Acc:   0.4159\n",
      "│ Train Time: 19.05s | Val Time: 2.90s\n",
      "│ Total Epoch Time: 21.96s\n",
      "│ Best Val Acc: 0.5361 (Epoch 12)\n",
      "│ GPU Memory: 0.1GB / 4.1GB\n",
      "================================================================================\n",
      "\n",
      "📈 Epoch 15/50\n",
      "--------------------------------------------------\n",
      "🔄 Training Phase...\n"
     ]
    },
    {
     "name": "stderr",
     "output_type": "stream",
     "text": [
      "Training: 100%|██████████████████████████████| 48/48 [00:19<00:00,  2.52it/s, Loss=0.0476, Acc=0.9863]\n"
     ]
    },
    {
     "name": "stdout",
     "output_type": "stream",
     "text": [
      "✅ Training completed in 19.01s\n",
      "🔍 Validation Phase...\n"
     ]
    },
    {
     "name": "stderr",
     "output_type": "stream",
     "text": [
      "Validation: 100%|██████████████████████████████| 13/13 [00:03<00:00,  4.31it/s, Loss=3.3983, Acc=0.4159]\n"
     ]
    },
    {
     "name": "stdout",
     "output_type": "stream",
     "text": [
      "✅ Validation completed in 3.02s\n",
      "\n",
      "📊 Epoch 15 Summary:\n",
      "│ Train Loss: 0.0476 | Train Acc: 0.9863\n",
      "│ Val Loss:   3.3983 | Val Acc:   0.4159\n",
      "│ Train Time: 19.01s | Val Time: 3.02s\n",
      "│ Total Epoch Time: 22.03s\n",
      "│ Best Val Acc: 0.5361 (Epoch 12)\n",
      "│ GPU Memory: 0.1GB / 4.1GB\n",
      "================================================================================\n",
      "\n",
      "📈 Epoch 16/50\n",
      "--------------------------------------------------\n",
      "🔄 Training Phase...\n"
     ]
    },
    {
     "name": "stderr",
     "output_type": "stream",
     "text": [
      "Training: 100%|██████████████████████████████| 48/48 [00:19<00:00,  2.47it/s, Loss=0.0544, Acc=0.9824]\n"
     ]
    },
    {
     "name": "stdout",
     "output_type": "stream",
     "text": [
      "✅ Training completed in 19.40s\n",
      "🔍 Validation Phase...\n"
     ]
    },
    {
     "name": "stderr",
     "output_type": "stream",
     "text": [
      "Validation: 100%|██████████████████████████████| 13/13 [00:02<00:00,  4.36it/s, Loss=3.1275, Acc=0.4447]\n"
     ]
    },
    {
     "name": "stdout",
     "output_type": "stream",
     "text": [
      "✅ Validation completed in 2.98s\n",
      "\n",
      "📊 Epoch 16 Summary:\n",
      "│ Train Loss: 0.0544 | Train Acc: 0.9824\n",
      "│ Val Loss:   3.1275 | Val Acc:   0.4447\n",
      "│ Train Time: 19.40s | Val Time: 2.98s\n",
      "│ Total Epoch Time: 22.39s\n",
      "│ Best Val Acc: 0.5361 (Epoch 12)\n",
      "│ GPU Memory: 0.1GB / 4.1GB\n",
      "================================================================================\n",
      "\n",
      "📈 Epoch 17/50\n",
      "--------------------------------------------------\n",
      "🔄 Training Phase...\n"
     ]
    },
    {
     "name": "stderr",
     "output_type": "stream",
     "text": [
      "Training: 100%|██████████████████████████████| 48/48 [00:19<00:00,  2.50it/s, Loss=0.0429, Acc=0.9857]\n"
     ]
    },
    {
     "name": "stdout",
     "output_type": "stream",
     "text": [
      "✅ Training completed in 19.23s\n",
      "🔍 Validation Phase...\n"
     ]
    },
    {
     "name": "stderr",
     "output_type": "stream",
     "text": [
      "Validation: 100%|██████████████████████████████| 13/13 [00:03<00:00,  4.27it/s, Loss=3.1143, Acc=0.4952]\n"
     ]
    },
    {
     "name": "stdout",
     "output_type": "stream",
     "text": [
      "✅ Validation completed in 3.05s\n",
      "\n",
      "📊 Epoch 17 Summary:\n",
      "│ Train Loss: 0.0429 | Train Acc: 0.9857\n",
      "│ Val Loss:   3.1143 | Val Acc:   0.4952\n",
      "│ Train Time: 19.23s | Val Time: 3.05s\n",
      "│ Total Epoch Time: 22.28s\n",
      "│ Best Val Acc: 0.5361 (Epoch 12)\n",
      "│ GPU Memory: 0.1GB / 4.1GB\n",
      "================================================================================\n",
      "\n",
      "📈 Epoch 18/50\n",
      "--------------------------------------------------\n",
      "🔄 Training Phase...\n"
     ]
    },
    {
     "name": "stderr",
     "output_type": "stream",
     "text": [
      "Training: 100%|██████████████████████████████| 48/48 [00:19<00:00,  2.52it/s, Loss=0.0191, Acc=0.9948]\n"
     ]
    },
    {
     "name": "stdout",
     "output_type": "stream",
     "text": [
      "✅ Training completed in 19.04s\n",
      "🔍 Validation Phase...\n"
     ]
    },
    {
     "name": "stderr",
     "output_type": "stream",
     "text": [
      "Validation: 100%|██████████████████████████████| 13/13 [00:02<00:00,  4.38it/s, Loss=3.9608, Acc=0.3894]\n"
     ]
    },
    {
     "name": "stdout",
     "output_type": "stream",
     "text": [
      "✅ Validation completed in 2.97s\n",
      "\n",
      "📊 Epoch 18 Summary:\n",
      "│ Train Loss: 0.0191 | Train Acc: 0.9948\n",
      "│ Val Loss:   3.9608 | Val Acc:   0.3894\n",
      "│ Train Time: 19.04s | Val Time: 2.97s\n",
      "│ Total Epoch Time: 22.01s\n",
      "│ Best Val Acc: 0.5361 (Epoch 12)\n",
      "│ GPU Memory: 0.1GB / 4.1GB\n",
      "================================================================================\n",
      "\n",
      "📈 Epoch 19/50\n",
      "--------------------------------------------------\n",
      "🔄 Training Phase...\n"
     ]
    },
    {
     "name": "stderr",
     "output_type": "stream",
     "text": [
      "Training: 100%|██████████████████████████████| 48/48 [00:19<00:00,  2.52it/s, Loss=0.0311, Acc=0.9902]\n"
     ]
    },
    {
     "name": "stdout",
     "output_type": "stream",
     "text": [
      "✅ Training completed in 19.02s\n",
      "🔍 Validation Phase...\n"
     ]
    },
    {
     "name": "stderr",
     "output_type": "stream",
     "text": [
      "Validation: 100%|██████████████████████████████| 13/13 [00:02<00:00,  4.52it/s, Loss=3.5340, Acc=0.4543]\n"
     ]
    },
    {
     "name": "stdout",
     "output_type": "stream",
     "text": [
      "✅ Validation completed in 2.88s\n",
      "\n",
      "📊 Epoch 19 Summary:\n",
      "│ Train Loss: 0.0311 | Train Acc: 0.9902\n",
      "│ Val Loss:   3.5340 | Val Acc:   0.4543\n",
      "│ Train Time: 19.02s | Val Time: 2.88s\n",
      "│ Total Epoch Time: 21.90s\n",
      "│ Best Val Acc: 0.5361 (Epoch 12)\n",
      "│ GPU Memory: 0.1GB / 4.1GB\n",
      "================================================================================\n",
      "\n",
      "📈 Epoch 20/50\n",
      "--------------------------------------------------\n",
      "🔄 Training Phase...\n"
     ]
    },
    {
     "name": "stderr",
     "output_type": "stream",
     "text": [
      "Training: 100%|██████████████████████████████| 48/48 [00:19<00:00,  2.53it/s, Loss=0.0406, Acc=0.9909]\n"
     ]
    },
    {
     "name": "stdout",
     "output_type": "stream",
     "text": [
      "✅ Training completed in 19.01s\n",
      "🔍 Validation Phase...\n"
     ]
    },
    {
     "name": "stderr",
     "output_type": "stream",
     "text": [
      "Validation: 100%|██████████████████████████████| 13/13 [00:03<00:00,  4.24it/s, Loss=3.4594, Acc=0.4135]\n"
     ]
    },
    {
     "name": "stdout",
     "output_type": "stream",
     "text": [
      "✅ Validation completed in 3.07s\n",
      "\n",
      "📊 Epoch 20 Summary:\n",
      "│ Train Loss: 0.0406 | Train Acc: 0.9909\n",
      "│ Val Loss:   3.4594 | Val Acc:   0.4135\n",
      "│ Train Time: 19.01s | Val Time: 3.07s\n",
      "│ Total Epoch Time: 22.08s\n",
      "│ Best Val Acc: 0.5361 (Epoch 12)\n",
      "│ GPU Memory: 0.1GB / 4.1GB\n",
      "================================================================================\n",
      "\n",
      "📈 Epoch 21/50\n",
      "--------------------------------------------------\n",
      "🔄 Training Phase...\n"
     ]
    },
    {
     "name": "stderr",
     "output_type": "stream",
     "text": [
      "Training: 100%|██████████████████████████████| 48/48 [00:19<00:00,  2.50it/s, Loss=0.0607, Acc=0.9811]\n"
     ]
    },
    {
     "name": "stdout",
     "output_type": "stream",
     "text": [
      "✅ Training completed in 19.22s\n",
      "🔍 Validation Phase...\n"
     ]
    },
    {
     "name": "stderr",
     "output_type": "stream",
     "text": [
      "Validation: 100%|██████████████████████████████| 13/13 [00:02<00:00,  4.52it/s, Loss=3.4025, Acc=0.3726]\n"
     ]
    },
    {
     "name": "stdout",
     "output_type": "stream",
     "text": [
      "✅ Validation completed in 2.88s\n",
      "\n",
      "📊 Epoch 21 Summary:\n",
      "│ Train Loss: 0.0607 | Train Acc: 0.9811\n",
      "│ Val Loss:   3.4025 | Val Acc:   0.3726\n",
      "│ Train Time: 19.22s | Val Time: 2.88s\n",
      "│ Total Epoch Time: 22.11s\n",
      "│ Best Val Acc: 0.5361 (Epoch 12)\n",
      "│ GPU Memory: 0.1GB / 4.1GB\n",
      "================================================================================\n",
      "\n",
      "📈 Epoch 22/50\n",
      "--------------------------------------------------\n",
      "🔄 Training Phase...\n"
     ]
    },
    {
     "name": "stderr",
     "output_type": "stream",
     "text": [
      "Training: 100%|██████████████████████████████| 48/48 [00:19<00:00,  2.50it/s, Loss=0.0619, Acc=0.9831]\n"
     ]
    },
    {
     "name": "stdout",
     "output_type": "stream",
     "text": [
      "✅ Training completed in 19.20s\n",
      "🔍 Validation Phase...\n"
     ]
    },
    {
     "name": "stderr",
     "output_type": "stream",
     "text": [
      "Validation: 100%|██████████████████████████████| 13/13 [00:02<00:00,  4.44it/s, Loss=3.5960, Acc=0.3558]\n"
     ]
    },
    {
     "name": "stdout",
     "output_type": "stream",
     "text": [
      "✅ Validation completed in 2.93s\n",
      "\n",
      "📊 Epoch 22 Summary:\n",
      "│ Train Loss: 0.0619 | Train Acc: 0.9831\n",
      "│ Val Loss:   3.5960 | Val Acc:   0.3558\n",
      "│ Train Time: 19.20s | Val Time: 2.93s\n",
      "│ Total Epoch Time: 22.13s\n",
      "│ Best Val Acc: 0.5361 (Epoch 12)\n",
      "│ GPU Memory: 0.1GB / 4.1GB\n",
      "================================================================================\n",
      "\n",
      "📈 Epoch 23/50\n",
      "--------------------------------------------------\n",
      "🔄 Training Phase...\n"
     ]
    },
    {
     "name": "stderr",
     "output_type": "stream",
     "text": [
      "Training: 100%|██████████████████████████████| 48/48 [00:19<00:00,  2.52it/s, Loss=0.0481, Acc=0.9844]\n"
     ]
    },
    {
     "name": "stdout",
     "output_type": "stream",
     "text": [
      "✅ Training completed in 19.08s\n",
      "🔍 Validation Phase...\n"
     ]
    },
    {
     "name": "stderr",
     "output_type": "stream",
     "text": [
      "Validation: 100%|██████████████████████████████| 13/13 [00:03<00:00,  4.29it/s, Loss=3.2554, Acc=0.3678]\n"
     ]
    },
    {
     "name": "stdout",
     "output_type": "stream",
     "text": [
      "✅ Validation completed in 3.03s\n",
      "\n",
      "📊 Epoch 23 Summary:\n",
      "│ Train Loss: 0.0481 | Train Acc: 0.9844\n",
      "│ Val Loss:   3.2554 | Val Acc:   0.3678\n",
      "│ Train Time: 19.08s | Val Time: 3.03s\n",
      "│ Total Epoch Time: 22.12s\n",
      "│ Best Val Acc: 0.5361 (Epoch 12)\n",
      "│ GPU Memory: 0.1GB / 4.1GB\n",
      "================================================================================\n",
      "\n",
      "📈 Epoch 24/50\n",
      "--------------------------------------------------\n",
      "🔄 Training Phase...\n"
     ]
    },
    {
     "name": "stderr",
     "output_type": "stream",
     "text": [
      "Training: 100%|██████████████████████████████| 48/48 [00:19<00:00,  2.52it/s, Loss=0.0310, Acc=0.9902]\n"
     ]
    },
    {
     "name": "stdout",
     "output_type": "stream",
     "text": [
      "✅ Training completed in 19.02s\n",
      "🔍 Validation Phase...\n"
     ]
    },
    {
     "name": "stderr",
     "output_type": "stream",
     "text": [
      "Validation: 100%|██████████████████████████████| 13/13 [00:02<00:00,  4.44it/s, Loss=3.7356, Acc=0.4639]\n"
     ]
    },
    {
     "name": "stdout",
     "output_type": "stream",
     "text": [
      "✅ Validation completed in 2.93s\n",
      "\n",
      "📊 Epoch 24 Summary:\n",
      "│ Train Loss: 0.0310 | Train Acc: 0.9902\n",
      "│ Val Loss:   3.7356 | Val Acc:   0.4639\n",
      "│ Train Time: 19.02s | Val Time: 2.93s\n",
      "│ Total Epoch Time: 21.96s\n",
      "│ Best Val Acc: 0.5361 (Epoch 12)\n",
      "│ GPU Memory: 0.1GB / 4.1GB\n",
      "================================================================================\n",
      "\n",
      "📈 Epoch 25/50\n",
      "--------------------------------------------------\n",
      "🔄 Training Phase...\n"
     ]
    },
    {
     "name": "stderr",
     "output_type": "stream",
     "text": [
      "Training: 100%|██████████████████████████████| 48/48 [00:18<00:00,  2.54it/s, Loss=0.0408, Acc=0.9889]\n"
     ]
    },
    {
     "name": "stdout",
     "output_type": "stream",
     "text": [
      "✅ Training completed in 18.93s\n",
      "🔍 Validation Phase...\n"
     ]
    },
    {
     "name": "stderr",
     "output_type": "stream",
     "text": [
      "Validation: 100%|██████████████████████████████| 13/13 [00:02<00:00,  4.46it/s, Loss=4.1281, Acc=0.3774]\n"
     ]
    },
    {
     "name": "stdout",
     "output_type": "stream",
     "text": [
      "✅ Validation completed in 2.92s\n",
      "\n",
      "📊 Epoch 25 Summary:\n",
      "│ Train Loss: 0.0408 | Train Acc: 0.9889\n",
      "│ Val Loss:   4.1281 | Val Acc:   0.3774\n",
      "│ Train Time: 18.93s | Val Time: 2.92s\n",
      "│ Total Epoch Time: 21.85s\n",
      "│ Best Val Acc: 0.5361 (Epoch 12)\n",
      "│ GPU Memory: 0.1GB / 4.1GB\n",
      "================================================================================\n",
      "\n",
      "📈 Epoch 26/50\n",
      "--------------------------------------------------\n",
      "🔄 Training Phase...\n"
     ]
    },
    {
     "name": "stderr",
     "output_type": "stream",
     "text": [
      "Training: 100%|██████████████████████████████| 48/48 [00:19<00:00,  2.52it/s, Loss=0.0681, Acc=0.9824]\n"
     ]
    },
    {
     "name": "stdout",
     "output_type": "stream",
     "text": [
      "✅ Training completed in 19.04s\n",
      "🔍 Validation Phase...\n"
     ]
    },
    {
     "name": "stderr",
     "output_type": "stream",
     "text": [
      "Validation: 100%|██████████████████████████████| 13/13 [00:02<00:00,  4.39it/s, Loss=3.7146, Acc=0.3726]\n"
     ]
    },
    {
     "name": "stdout",
     "output_type": "stream",
     "text": [
      "✅ Validation completed in 2.97s\n",
      "\n",
      "📊 Epoch 26 Summary:\n",
      "│ Train Loss: 0.0681 | Train Acc: 0.9824\n",
      "│ Val Loss:   3.7146 | Val Acc:   0.3726\n",
      "│ Train Time: 19.04s | Val Time: 2.97s\n",
      "│ Total Epoch Time: 22.02s\n",
      "│ Best Val Acc: 0.5361 (Epoch 12)\n",
      "│ GPU Memory: 0.1GB / 4.1GB\n",
      "================================================================================\n",
      "\n",
      "📈 Epoch 27/50\n",
      "--------------------------------------------------\n",
      "🔄 Training Phase...\n"
     ]
    },
    {
     "name": "stderr",
     "output_type": "stream",
     "text": [
      "Training: 100%|██████████████████████████████| 48/48 [00:18<00:00,  2.53it/s, Loss=0.0389, Acc=0.9876]\n"
     ]
    },
    {
     "name": "stdout",
     "output_type": "stream",
     "text": [
      "✅ Training completed in 19.00s\n",
      "🔍 Validation Phase...\n"
     ]
    },
    {
     "name": "stderr",
     "output_type": "stream",
     "text": [
      "Validation: 100%|██████████████████████████████| 13/13 [00:02<00:00,  4.47it/s, Loss=3.7653, Acc=0.4303]\n"
     ]
    },
    {
     "name": "stdout",
     "output_type": "stream",
     "text": [
      "✅ Validation completed in 2.91s\n",
      "\n",
      "📊 Epoch 27 Summary:\n",
      "│ Train Loss: 0.0389 | Train Acc: 0.9876\n",
      "│ Val Loss:   3.7653 | Val Acc:   0.4303\n",
      "│ Train Time: 19.00s | Val Time: 2.91s\n",
      "│ Total Epoch Time: 21.91s\n",
      "│ Best Val Acc: 0.5361 (Epoch 12)\n",
      "│ GPU Memory: 0.1GB / 4.1GB\n",
      "================================================================================\n",
      "\n",
      "📈 Epoch 28/50\n",
      "--------------------------------------------------\n",
      "🔄 Training Phase...\n"
     ]
    },
    {
     "name": "stderr",
     "output_type": "stream",
     "text": [
      "Training: 100%|██████████████████████████████| 48/48 [00:18<00:00,  2.53it/s, Loss=0.0227, Acc=0.9922]\n"
     ]
    },
    {
     "name": "stdout",
     "output_type": "stream",
     "text": [
      "✅ Training completed in 18.97s\n",
      "🔍 Validation Phase...\n"
     ]
    },
    {
     "name": "stderr",
     "output_type": "stream",
     "text": [
      "Validation: 100%|██████████████████████████████| 13/13 [00:02<00:00,  4.36it/s, Loss=3.4110, Acc=0.4712]\n"
     ]
    },
    {
     "name": "stdout",
     "output_type": "stream",
     "text": [
      "✅ Validation completed in 2.99s\n",
      "\n",
      "📊 Epoch 28 Summary:\n",
      "│ Train Loss: 0.0227 | Train Acc: 0.9922\n",
      "│ Val Loss:   3.4110 | Val Acc:   0.4712\n",
      "│ Train Time: 18.97s | Val Time: 2.99s\n",
      "│ Total Epoch Time: 21.96s\n",
      "│ Best Val Acc: 0.5361 (Epoch 12)\n",
      "│ GPU Memory: 0.1GB / 4.1GB\n",
      "================================================================================\n",
      "\n",
      "📈 Epoch 29/50\n",
      "--------------------------------------------------\n",
      "🔄 Training Phase...\n"
     ]
    },
    {
     "name": "stderr",
     "output_type": "stream",
     "text": [
      "Training: 100%|██████████████████████████████| 48/48 [00:19<00:00,  2.50it/s, Loss=0.0340, Acc=0.9896]\n"
     ]
    },
    {
     "name": "stdout",
     "output_type": "stream",
     "text": [
      "✅ Training completed in 19.19s\n",
      "🔍 Validation Phase...\n"
     ]
    },
    {
     "name": "stderr",
     "output_type": "stream",
     "text": [
      "Validation: 100%|██████████████████████████████| 13/13 [00:02<00:00,  4.37it/s, Loss=3.3276, Acc=0.4832]\n"
     ]
    },
    {
     "name": "stdout",
     "output_type": "stream",
     "text": [
      "✅ Validation completed in 2.98s\n",
      "\n",
      "📊 Epoch 29 Summary:\n",
      "│ Train Loss: 0.0340 | Train Acc: 0.9896\n",
      "│ Val Loss:   3.3276 | Val Acc:   0.4832\n",
      "│ Train Time: 19.19s | Val Time: 2.98s\n",
      "│ Total Epoch Time: 22.17s\n",
      "│ Best Val Acc: 0.5361 (Epoch 12)\n",
      "│ GPU Memory: 0.1GB / 4.1GB\n",
      "================================================================================\n",
      "\n",
      "📈 Epoch 30/50\n",
      "--------------------------------------------------\n",
      "🔄 Training Phase...\n"
     ]
    },
    {
     "name": "stderr",
     "output_type": "stream",
     "text": [
      "Training: 100%|██████████████████████████████| 48/48 [00:19<00:00,  2.50it/s, Loss=0.0380, Acc=0.9876]\n"
     ]
    },
    {
     "name": "stdout",
     "output_type": "stream",
     "text": [
      "✅ Training completed in 19.16s\n",
      "🔍 Validation Phase...\n"
     ]
    },
    {
     "name": "stderr",
     "output_type": "stream",
     "text": [
      "Validation: 100%|██████████████████████████████| 13/13 [00:02<00:00,  4.41it/s, Loss=3.7456, Acc=0.4591]\n"
     ]
    },
    {
     "name": "stdout",
     "output_type": "stream",
     "text": [
      "✅ Validation completed in 2.95s\n",
      "\n",
      "📊 Epoch 30 Summary:\n",
      "│ Train Loss: 0.0380 | Train Acc: 0.9876\n",
      "│ Val Loss:   3.7456 | Val Acc:   0.4591\n",
      "│ Train Time: 19.16s | Val Time: 2.95s\n",
      "│ Total Epoch Time: 22.12s\n",
      "│ Best Val Acc: 0.5361 (Epoch 12)\n",
      "│ GPU Memory: 0.1GB / 4.1GB\n",
      "================================================================================\n",
      "\n",
      "📈 Epoch 31/50\n",
      "--------------------------------------------------\n",
      "🔄 Training Phase...\n"
     ]
    },
    {
     "name": "stderr",
     "output_type": "stream",
     "text": [
      "Training: 100%|██████████████████████████████| 48/48 [00:19<00:00,  2.50it/s, Loss=0.0347, Acc=0.9889]\n"
     ]
    },
    {
     "name": "stdout",
     "output_type": "stream",
     "text": [
      "✅ Training completed in 19.21s\n",
      "🔍 Validation Phase...\n"
     ]
    },
    {
     "name": "stderr",
     "output_type": "stream",
     "text": [
      "Validation: 100%|██████████████████████████████| 13/13 [00:02<00:00,  4.45it/s, Loss=3.4368, Acc=0.5024]\n"
     ]
    },
    {
     "name": "stdout",
     "output_type": "stream",
     "text": [
      "✅ Validation completed in 2.93s\n",
      "\n",
      "📊 Epoch 31 Summary:\n",
      "│ Train Loss: 0.0347 | Train Acc: 0.9889\n",
      "│ Val Loss:   3.4368 | Val Acc:   0.5024\n",
      "│ Train Time: 19.21s | Val Time: 2.93s\n",
      "│ Total Epoch Time: 22.14s\n",
      "│ Best Val Acc: 0.5361 (Epoch 12)\n",
      "│ GPU Memory: 0.1GB / 4.1GB\n",
      "================================================================================\n",
      "\n",
      "📈 Epoch 32/50\n",
      "--------------------------------------------------\n",
      "🔄 Training Phase...\n"
     ]
    },
    {
     "name": "stderr",
     "output_type": "stream",
     "text": [
      "Training: 100%|██████████████████████████████| 48/48 [00:19<00:00,  2.47it/s, Loss=0.0269, Acc=0.9902]\n"
     ]
    },
    {
     "name": "stdout",
     "output_type": "stream",
     "text": [
      "✅ Training completed in 19.44s\n",
      "🔍 Validation Phase...\n"
     ]
    },
    {
     "name": "stderr",
     "output_type": "stream",
     "text": [
      "Validation: 100%|██████████████████████████████| 13/13 [00:03<00:00,  4.27it/s, Loss=2.8480, Acc=0.5024]\n"
     ]
    },
    {
     "name": "stdout",
     "output_type": "stream",
     "text": [
      "✅ Validation completed in 3.05s\n",
      "\n",
      "📊 Epoch 32 Summary:\n",
      "│ Train Loss: 0.0269 | Train Acc: 0.9902\n",
      "│ Val Loss:   2.8480 | Val Acc:   0.5024\n",
      "│ Train Time: 19.44s | Val Time: 3.05s\n",
      "│ Total Epoch Time: 22.50s\n",
      "│ Best Val Acc: 0.5361 (Epoch 12)\n",
      "│ GPU Memory: 0.1GB / 4.1GB\n",
      "================================================================================\n",
      "\n",
      "📈 Epoch 33/50\n",
      "--------------------------------------------------\n",
      "🔄 Training Phase...\n"
     ]
    },
    {
     "name": "stderr",
     "output_type": "stream",
     "text": [
      "Training: 100%|██████████████████████████████| 48/48 [00:19<00:00,  2.50it/s, Loss=0.0262, Acc=0.9935]\n"
     ]
    },
    {
     "name": "stdout",
     "output_type": "stream",
     "text": [
      "✅ Training completed in 19.20s\n",
      "🔍 Validation Phase...\n"
     ]
    },
    {
     "name": "stderr",
     "output_type": "stream",
     "text": [
      "Validation: 100%|██████████████████████████████| 13/13 [00:02<00:00,  4.42it/s, Loss=3.3147, Acc=0.4663]\n"
     ]
    },
    {
     "name": "stdout",
     "output_type": "stream",
     "text": [
      "✅ Validation completed in 2.94s\n",
      "\n",
      "📊 Epoch 33 Summary:\n",
      "│ Train Loss: 0.0262 | Train Acc: 0.9935\n",
      "│ Val Loss:   3.3147 | Val Acc:   0.4663\n",
      "│ Train Time: 19.20s | Val Time: 2.94s\n",
      "│ Total Epoch Time: 22.15s\n",
      "│ Best Val Acc: 0.5361 (Epoch 12)\n",
      "│ GPU Memory: 0.1GB / 4.1GB\n",
      "================================================================================\n",
      "\n",
      "📈 Epoch 34/50\n",
      "--------------------------------------------------\n",
      "🔄 Training Phase...\n"
     ]
    },
    {
     "name": "stderr",
     "output_type": "stream",
     "text": [
      "Training: 100%|██████████████████████████████| 48/48 [00:18<00:00,  2.53it/s, Loss=0.0120, Acc=0.9961]\n"
     ]
    },
    {
     "name": "stdout",
     "output_type": "stream",
     "text": [
      "✅ Training completed in 19.00s\n",
      "🔍 Validation Phase...\n"
     ]
    },
    {
     "name": "stderr",
     "output_type": "stream",
     "text": [
      "Validation: 100%|██████████████████████████████| 13/13 [00:02<00:00,  4.42it/s, Loss=3.6833, Acc=0.4495]\n"
     ]
    },
    {
     "name": "stdout",
     "output_type": "stream",
     "text": [
      "✅ Validation completed in 2.95s\n",
      "\n",
      "📊 Epoch 34 Summary:\n",
      "│ Train Loss: 0.0120 | Train Acc: 0.9961\n",
      "│ Val Loss:   3.6833 | Val Acc:   0.4495\n",
      "│ Train Time: 19.00s | Val Time: 2.95s\n",
      "│ Total Epoch Time: 21.95s\n",
      "│ Best Val Acc: 0.5361 (Epoch 12)\n",
      "│ GPU Memory: 0.1GB / 4.1GB\n",
      "================================================================================\n",
      "\n",
      "📈 Epoch 35/50\n",
      "--------------------------------------------------\n",
      "🔄 Training Phase...\n"
     ]
    },
    {
     "name": "stderr",
     "output_type": "stream",
     "text": [
      "Training: 100%|██████████████████████████████| 48/48 [00:19<00:00,  2.50it/s, Loss=0.0295, Acc=0.9915]\n"
     ]
    },
    {
     "name": "stdout",
     "output_type": "stream",
     "text": [
      "✅ Training completed in 19.17s\n",
      "🔍 Validation Phase...\n"
     ]
    },
    {
     "name": "stderr",
     "output_type": "stream",
     "text": [
      "Validation: 100%|██████████████████████████████| 13/13 [00:02<00:00,  4.44it/s, Loss=3.2319, Acc=0.4856]\n"
     ]
    },
    {
     "name": "stdout",
     "output_type": "stream",
     "text": [
      "✅ Validation completed in 2.94s\n",
      "\n",
      "📊 Epoch 35 Summary:\n",
      "│ Train Loss: 0.0295 | Train Acc: 0.9915\n",
      "│ Val Loss:   3.2319 | Val Acc:   0.4856\n",
      "│ Train Time: 19.17s | Val Time: 2.94s\n",
      "│ Total Epoch Time: 22.11s\n",
      "│ Best Val Acc: 0.5361 (Epoch 12)\n",
      "│ GPU Memory: 0.1GB / 4.1GB\n",
      "================================================================================\n",
      "\n",
      "📈 Epoch 36/50\n",
      "--------------------------------------------------\n",
      "🔄 Training Phase...\n"
     ]
    },
    {
     "name": "stderr",
     "output_type": "stream",
     "text": [
      "Training: 100%|██████████████████████████████| 48/48 [00:19<00:00,  2.51it/s, Loss=0.0311, Acc=0.9922]\n"
     ]
    },
    {
     "name": "stdout",
     "output_type": "stream",
     "text": [
      "✅ Training completed in 19.12s\n",
      "🔍 Validation Phase...\n"
     ]
    },
    {
     "name": "stderr",
     "output_type": "stream",
     "text": [
      "Validation: 100%|██████████████████████████████| 13/13 [00:02<00:00,  4.35it/s, Loss=3.4281, Acc=0.4519]\n"
     ]
    },
    {
     "name": "stdout",
     "output_type": "stream",
     "text": [
      "✅ Validation completed in 2.99s\n",
      "\n",
      "📊 Epoch 36 Summary:\n",
      "│ Train Loss: 0.0311 | Train Acc: 0.9922\n",
      "│ Val Loss:   3.4281 | Val Acc:   0.4519\n",
      "│ Train Time: 19.12s | Val Time: 2.99s\n",
      "│ Total Epoch Time: 22.11s\n",
      "│ Best Val Acc: 0.5361 (Epoch 12)\n",
      "│ GPU Memory: 0.1GB / 4.1GB\n",
      "================================================================================\n",
      "\n",
      "📈 Epoch 37/50\n",
      "--------------------------------------------------\n",
      "🔄 Training Phase...\n"
     ]
    },
    {
     "name": "stderr",
     "output_type": "stream",
     "text": [
      "Training: 100%|██████████████████████████████| 48/48 [00:19<00:00,  2.48it/s, Loss=0.0304, Acc=0.9902]\n"
     ]
    },
    {
     "name": "stdout",
     "output_type": "stream",
     "text": [
      "✅ Training completed in 19.36s\n",
      "🔍 Validation Phase...\n"
     ]
    },
    {
     "name": "stderr",
     "output_type": "stream",
     "text": [
      "Validation: 100%|██████████████████████████████| 13/13 [00:03<00:00,  4.32it/s, Loss=3.3833, Acc=0.4784]\n"
     ]
    },
    {
     "name": "stdout",
     "output_type": "stream",
     "text": [
      "✅ Validation completed in 3.01s\n",
      "\n",
      "📊 Epoch 37 Summary:\n",
      "│ Train Loss: 0.0304 | Train Acc: 0.9902\n",
      "│ Val Loss:   3.3833 | Val Acc:   0.4784\n",
      "│ Train Time: 19.36s | Val Time: 3.01s\n",
      "│ Total Epoch Time: 22.38s\n",
      "│ Best Val Acc: 0.5361 (Epoch 12)\n",
      "│ GPU Memory: 0.1GB / 4.1GB\n",
      "================================================================================\n",
      "\n",
      "📈 Epoch 38/50\n",
      "--------------------------------------------------\n",
      "🔄 Training Phase...\n"
     ]
    },
    {
     "name": "stderr",
     "output_type": "stream",
     "text": [
      "Training: 100%|██████████████████████████████| 48/48 [00:19<00:00,  2.52it/s, Loss=0.0278, Acc=0.9902]\n"
     ]
    },
    {
     "name": "stdout",
     "output_type": "stream",
     "text": [
      "✅ Training completed in 19.02s\n",
      "🔍 Validation Phase...\n"
     ]
    },
    {
     "name": "stderr",
     "output_type": "stream",
     "text": [
      "Validation: 100%|██████████████████████████████| 13/13 [00:02<00:00,  4.53it/s, Loss=3.9106, Acc=0.4832]\n"
     ]
    },
    {
     "name": "stdout",
     "output_type": "stream",
     "text": [
      "✅ Validation completed in 2.87s\n",
      "\n",
      "📊 Epoch 38 Summary:\n",
      "│ Train Loss: 0.0278 | Train Acc: 0.9902\n",
      "│ Val Loss:   3.9106 | Val Acc:   0.4832\n",
      "│ Train Time: 19.02s | Val Time: 2.87s\n",
      "│ Total Epoch Time: 21.90s\n",
      "│ Best Val Acc: 0.5361 (Epoch 12)\n",
      "│ GPU Memory: 0.1GB / 4.1GB\n",
      "================================================================================\n",
      "\n",
      "📈 Epoch 39/50\n",
      "--------------------------------------------------\n",
      "🔄 Training Phase...\n"
     ]
    },
    {
     "name": "stderr",
     "output_type": "stream",
     "text": [
      "Training: 100%|██████████████████████████████| 48/48 [00:18<00:00,  2.54it/s, Loss=0.0176, Acc=0.9941]\n"
     ]
    },
    {
     "name": "stdout",
     "output_type": "stream",
     "text": [
      "✅ Training completed in 18.91s\n",
      "🔍 Validation Phase...\n"
     ]
    },
    {
     "name": "stderr",
     "output_type": "stream",
     "text": [
      "Validation: 100%|██████████████████████████████| 13/13 [00:02<00:00,  4.47it/s, Loss=3.4304, Acc=0.4495]\n"
     ]
    },
    {
     "name": "stdout",
     "output_type": "stream",
     "text": [
      "✅ Validation completed in 2.91s\n",
      "\n",
      "📊 Epoch 39 Summary:\n",
      "│ Train Loss: 0.0176 | Train Acc: 0.9941\n",
      "│ Val Loss:   3.4304 | Val Acc:   0.4495\n",
      "│ Train Time: 18.91s | Val Time: 2.91s\n",
      "│ Total Epoch Time: 21.82s\n",
      "│ Best Val Acc: 0.5361 (Epoch 12)\n",
      "│ GPU Memory: 0.1GB / 4.1GB\n",
      "================================================================================\n",
      "\n",
      "📈 Epoch 40/50\n",
      "--------------------------------------------------\n",
      "🔄 Training Phase...\n"
     ]
    },
    {
     "name": "stderr",
     "output_type": "stream",
     "text": [
      "Training: 100%|██████████████████████████████| 48/48 [00:19<00:00,  2.50it/s, Loss=0.0125, Acc=0.9961]\n"
     ]
    },
    {
     "name": "stdout",
     "output_type": "stream",
     "text": [
      "✅ Training completed in 19.17s\n",
      "🔍 Validation Phase...\n"
     ]
    },
    {
     "name": "stderr",
     "output_type": "stream",
     "text": [
      "Validation: 100%|██████████████████████████████| 13/13 [00:02<00:00,  4.50it/s, Loss=3.8976, Acc=0.4327]\n"
     ]
    },
    {
     "name": "stdout",
     "output_type": "stream",
     "text": [
      "✅ Validation completed in 2.89s\n",
      "\n",
      "📊 Epoch 40 Summary:\n",
      "│ Train Loss: 0.0125 | Train Acc: 0.9961\n",
      "│ Val Loss:   3.8976 | Val Acc:   0.4327\n",
      "│ Train Time: 19.17s | Val Time: 2.89s\n",
      "│ Total Epoch Time: 22.07s\n",
      "│ Best Val Acc: 0.5361 (Epoch 12)\n",
      "│ GPU Memory: 0.1GB / 4.1GB\n",
      "================================================================================\n",
      "\n",
      "📈 Epoch 41/50\n",
      "--------------------------------------------------\n",
      "🔄 Training Phase...\n"
     ]
    },
    {
     "name": "stderr",
     "output_type": "stream",
     "text": [
      "Training: 100%|██████████████████████████████| 48/48 [00:18<00:00,  2.55it/s, Loss=0.0111, Acc=0.9974]\n"
     ]
    },
    {
     "name": "stdout",
     "output_type": "stream",
     "text": [
      "✅ Training completed in 18.86s\n",
      "🔍 Validation Phase...\n"
     ]
    },
    {
     "name": "stderr",
     "output_type": "stream",
     "text": [
      "Validation: 100%|██████████████████████████████| 13/13 [00:03<00:00,  4.29it/s, Loss=3.7143, Acc=0.4880]\n"
     ]
    },
    {
     "name": "stdout",
     "output_type": "stream",
     "text": [
      "✅ Validation completed in 3.03s\n",
      "\n",
      "📊 Epoch 41 Summary:\n",
      "│ Train Loss: 0.0111 | Train Acc: 0.9974\n",
      "│ Val Loss:   3.7143 | Val Acc:   0.4880\n",
      "│ Train Time: 18.86s | Val Time: 3.03s\n",
      "│ Total Epoch Time: 21.89s\n",
      "│ Best Val Acc: 0.5361 (Epoch 12)\n",
      "│ GPU Memory: 0.1GB / 4.1GB\n",
      "================================================================================\n",
      "\n",
      "📈 Epoch 42/50\n",
      "--------------------------------------------------\n",
      "🔄 Training Phase...\n"
     ]
    },
    {
     "name": "stderr",
     "output_type": "stream",
     "text": [
      "Training: 100%|██████████████████████████████| 48/48 [00:19<00:00,  2.53it/s, Loss=0.0295, Acc=0.9889]\n"
     ]
    },
    {
     "name": "stdout",
     "output_type": "stream",
     "text": [
      "✅ Training completed in 19.01s\n",
      "🔍 Validation Phase...\n"
     ]
    },
    {
     "name": "stderr",
     "output_type": "stream",
     "text": [
      "Validation: 100%|██████████████████████████████| 13/13 [00:03<00:00,  4.27it/s, Loss=3.8266, Acc=0.4399]\n"
     ]
    },
    {
     "name": "stdout",
     "output_type": "stream",
     "text": [
      "✅ Validation completed in 3.05s\n",
      "\n",
      "📊 Epoch 42 Summary:\n",
      "│ Train Loss: 0.0295 | Train Acc: 0.9889\n",
      "│ Val Loss:   3.8266 | Val Acc:   0.4399\n",
      "│ Train Time: 19.01s | Val Time: 3.05s\n",
      "│ Total Epoch Time: 22.06s\n",
      "│ Best Val Acc: 0.5361 (Epoch 12)\n",
      "│ GPU Memory: 0.1GB / 4.1GB\n",
      "================================================================================\n",
      "\n",
      "📈 Epoch 43/50\n",
      "--------------------------------------------------\n",
      "🔄 Training Phase...\n"
     ]
    },
    {
     "name": "stderr",
     "output_type": "stream",
     "text": [
      "Training: 100%|██████████████████████████████| 48/48 [00:19<00:00,  2.49it/s, Loss=0.0409, Acc=0.9863]\n"
     ]
    },
    {
     "name": "stdout",
     "output_type": "stream",
     "text": [
      "✅ Training completed in 19.25s\n",
      "🔍 Validation Phase...\n"
     ]
    },
    {
     "name": "stderr",
     "output_type": "stream",
     "text": [
      "Validation: 100%|██████████████████████████████| 13/13 [00:02<00:00,  4.48it/s, Loss=4.5103, Acc=0.4183]\n"
     ]
    },
    {
     "name": "stdout",
     "output_type": "stream",
     "text": [
      "✅ Validation completed in 2.90s\n",
      "\n",
      "📊 Epoch 43 Summary:\n",
      "│ Train Loss: 0.0409 | Train Acc: 0.9863\n",
      "│ Val Loss:   4.5103 | Val Acc:   0.4183\n",
      "│ Train Time: 19.25s | Val Time: 2.90s\n",
      "│ Total Epoch Time: 22.16s\n",
      "│ Best Val Acc: 0.5361 (Epoch 12)\n",
      "│ GPU Memory: 0.1GB / 4.1GB\n",
      "================================================================================\n",
      "\n",
      "📈 Epoch 44/50\n",
      "--------------------------------------------------\n",
      "🔄 Training Phase...\n"
     ]
    },
    {
     "name": "stderr",
     "output_type": "stream",
     "text": [
      "Training: 100%|██████████████████████████████| 48/48 [00:19<00:00,  2.51it/s, Loss=0.0244, Acc=0.9935]\n"
     ]
    },
    {
     "name": "stdout",
     "output_type": "stream",
     "text": [
      "✅ Training completed in 19.14s\n",
      "🔍 Validation Phase...\n"
     ]
    },
    {
     "name": "stderr",
     "output_type": "stream",
     "text": [
      "Validation: 100%|██████████████████████████████| 13/13 [00:02<00:00,  4.46it/s, Loss=4.2473, Acc=0.4014]\n"
     ]
    },
    {
     "name": "stdout",
     "output_type": "stream",
     "text": [
      "✅ Validation completed in 2.92s\n",
      "\n",
      "📊 Epoch 44 Summary:\n",
      "│ Train Loss: 0.0244 | Train Acc: 0.9935\n",
      "│ Val Loss:   4.2473 | Val Acc:   0.4014\n",
      "│ Train Time: 19.14s | Val Time: 2.92s\n",
      "│ Total Epoch Time: 22.06s\n",
      "│ Best Val Acc: 0.5361 (Epoch 12)\n",
      "│ GPU Memory: 0.1GB / 4.1GB\n",
      "================================================================================\n",
      "\n",
      "📈 Epoch 45/50\n",
      "--------------------------------------------------\n",
      "🔄 Training Phase...\n"
     ]
    },
    {
     "name": "stderr",
     "output_type": "stream",
     "text": [
      "Training: 100%|██████████████████████████████| 48/48 [00:19<00:00,  2.51it/s, Loss=0.0179, Acc=0.9948]\n"
     ]
    },
    {
     "name": "stdout",
     "output_type": "stream",
     "text": [
      "✅ Training completed in 19.12s\n",
      "🔍 Validation Phase...\n"
     ]
    },
    {
     "name": "stderr",
     "output_type": "stream",
     "text": [
      "Validation: 100%|██████████████████████████████| 13/13 [00:02<00:00,  4.36it/s, Loss=3.5865, Acc=0.4279]\n"
     ]
    },
    {
     "name": "stdout",
     "output_type": "stream",
     "text": [
      "✅ Validation completed in 2.98s\n",
      "\n",
      "📊 Epoch 45 Summary:\n",
      "│ Train Loss: 0.0179 | Train Acc: 0.9948\n",
      "│ Val Loss:   3.5865 | Val Acc:   0.4279\n",
      "│ Train Time: 19.12s | Val Time: 2.98s\n",
      "│ Total Epoch Time: 22.10s\n",
      "│ Best Val Acc: 0.5361 (Epoch 12)\n",
      "│ GPU Memory: 0.1GB / 4.1GB\n",
      "================================================================================\n",
      "\n",
      "📈 Epoch 46/50\n",
      "--------------------------------------------------\n",
      "🔄 Training Phase...\n"
     ]
    },
    {
     "name": "stderr",
     "output_type": "stream",
     "text": [
      "Training: 100%|██████████████████████████████| 48/48 [00:19<00:00,  2.51it/s, Loss=0.0254, Acc=0.9876]\n"
     ]
    },
    {
     "name": "stdout",
     "output_type": "stream",
     "text": [
      "✅ Training completed in 19.10s\n",
      "🔍 Validation Phase...\n"
     ]
    },
    {
     "name": "stderr",
     "output_type": "stream",
     "text": [
      "Validation: 100%|██████████████████████████████| 13/13 [00:02<00:00,  4.49it/s, Loss=3.8995, Acc=0.4255]\n"
     ]
    },
    {
     "name": "stdout",
     "output_type": "stream",
     "text": [
      "✅ Validation completed in 2.90s\n",
      "\n",
      "📊 Epoch 46 Summary:\n",
      "│ Train Loss: 0.0254 | Train Acc: 0.9876\n",
      "│ Val Loss:   3.8995 | Val Acc:   0.4255\n",
      "│ Train Time: 19.10s | Val Time: 2.90s\n",
      "│ Total Epoch Time: 22.00s\n",
      "│ Best Val Acc: 0.5361 (Epoch 12)\n",
      "│ GPU Memory: 0.1GB / 4.1GB\n",
      "================================================================================\n",
      "\n",
      "📈 Epoch 47/50\n",
      "--------------------------------------------------\n",
      "🔄 Training Phase...\n"
     ]
    },
    {
     "name": "stderr",
     "output_type": "stream",
     "text": [
      "Training: 100%|██████████████████████████████| 48/48 [00:18<00:00,  2.53it/s, Loss=0.0586, Acc=0.9818]\n"
     ]
    },
    {
     "name": "stdout",
     "output_type": "stream",
     "text": [
      "✅ Training completed in 18.99s\n",
      "🔍 Validation Phase...\n"
     ]
    },
    {
     "name": "stderr",
     "output_type": "stream",
     "text": [
      "Validation: 100%|██████████████████████████████| 13/13 [00:02<00:00,  4.39it/s, Loss=4.2823, Acc=0.4062]\n"
     ]
    },
    {
     "name": "stdout",
     "output_type": "stream",
     "text": [
      "✅ Validation completed in 2.96s\n",
      "\n",
      "📊 Epoch 47 Summary:\n",
      "│ Train Loss: 0.0586 | Train Acc: 0.9818\n",
      "│ Val Loss:   4.2823 | Val Acc:   0.4062\n",
      "│ Train Time: 18.99s | Val Time: 2.96s\n",
      "│ Total Epoch Time: 21.96s\n",
      "│ Best Val Acc: 0.5361 (Epoch 12)\n",
      "│ GPU Memory: 0.1GB / 4.1GB\n",
      "================================================================================\n",
      "\n",
      "📈 Epoch 48/50\n",
      "--------------------------------------------------\n",
      "🔄 Training Phase...\n"
     ]
    },
    {
     "name": "stderr",
     "output_type": "stream",
     "text": [
      "Training: 100%|██████████████████████████████| 48/48 [00:19<00:00,  2.51it/s, Loss=0.0706, Acc=0.9798]\n"
     ]
    },
    {
     "name": "stdout",
     "output_type": "stream",
     "text": [
      "✅ Training completed in 19.15s\n",
      "🔍 Validation Phase...\n"
     ]
    },
    {
     "name": "stderr",
     "output_type": "stream",
     "text": [
      "Validation: 100%|██████████████████████████████| 13/13 [00:02<00:00,  4.37it/s, Loss=4.1007, Acc=0.3341]\n"
     ]
    },
    {
     "name": "stdout",
     "output_type": "stream",
     "text": [
      "✅ Validation completed in 2.98s\n",
      "\n",
      "📊 Epoch 48 Summary:\n",
      "│ Train Loss: 0.0706 | Train Acc: 0.9798\n",
      "│ Val Loss:   4.1007 | Val Acc:   0.3341\n",
      "│ Train Time: 19.15s | Val Time: 2.98s\n",
      "│ Total Epoch Time: 22.13s\n",
      "│ Best Val Acc: 0.5361 (Epoch 12)\n",
      "│ GPU Memory: 0.1GB / 4.1GB\n",
      "================================================================================\n",
      "\n",
      "📈 Epoch 49/50\n",
      "--------------------------------------------------\n",
      "🔄 Training Phase...\n"
     ]
    },
    {
     "name": "stderr",
     "output_type": "stream",
     "text": [
      "Training: 100%|██████████████████████████████| 48/48 [00:19<00:00,  2.49it/s, Loss=0.0303, Acc=0.9909]\n"
     ]
    },
    {
     "name": "stdout",
     "output_type": "stream",
     "text": [
      "✅ Training completed in 19.29s\n",
      "🔍 Validation Phase...\n"
     ]
    },
    {
     "name": "stderr",
     "output_type": "stream",
     "text": [
      "Validation: 100%|██████████████████████████████| 13/13 [00:02<00:00,  4.42it/s, Loss=3.9196, Acc=0.3846]\n"
     ]
    },
    {
     "name": "stdout",
     "output_type": "stream",
     "text": [
      "✅ Validation completed in 2.94s\n",
      "\n",
      "📊 Epoch 49 Summary:\n",
      "│ Train Loss: 0.0303 | Train Acc: 0.9909\n",
      "│ Val Loss:   3.9196 | Val Acc:   0.3846\n",
      "│ Train Time: 19.29s | Val Time: 2.94s\n",
      "│ Total Epoch Time: 22.24s\n",
      "│ Best Val Acc: 0.5361 (Epoch 12)\n",
      "│ GPU Memory: 0.1GB / 4.1GB\n",
      "================================================================================\n",
      "\n",
      "📈 Epoch 50/50\n",
      "--------------------------------------------------\n",
      "🔄 Training Phase...\n"
     ]
    },
    {
     "name": "stderr",
     "output_type": "stream",
     "text": [
      "Training: 100%|██████████████████████████████| 48/48 [00:19<00:00,  2.50it/s, Loss=0.0373, Acc=0.9889]\n"
     ]
    },
    {
     "name": "stdout",
     "output_type": "stream",
     "text": [
      "✅ Training completed in 19.16s\n",
      "🔍 Validation Phase...\n"
     ]
    },
    {
     "name": "stderr",
     "output_type": "stream",
     "text": [
      "Validation: 100%|██████████████████████████████| 13/13 [00:02<00:00,  4.36it/s, Loss=4.2678, Acc=0.4255]\n"
     ]
    },
    {
     "name": "stdout",
     "output_type": "stream",
     "text": [
      "✅ Validation completed in 2.98s\n",
      "\n",
      "📊 Epoch 50 Summary:\n",
      "│ Train Loss: 0.0373 | Train Acc: 0.9889\n",
      "│ Val Loss:   4.2678 | Val Acc:   0.4255\n",
      "│ Train Time: 19.16s | Val Time: 2.98s\n",
      "│ Total Epoch Time: 22.15s\n",
      "│ Best Val Acc: 0.5361 (Epoch 12)\n",
      "│ GPU Memory: 0.1GB / 4.1GB\n",
      "================================================================================\n",
      "\n",
      "💾 Best EfficientNetB0 model saved as 'best_efficientnetb0_model.pth'\n",
      "📊 Best model stats:\n",
      "│ Best Epoch: 12\n",
      "│ Best Val Acc: 0.5361\n",
      "\n",
      "💾 EfficientNetB0 training history saved to 'efficientnetb0_training_history.csv'\n",
      "\n",
      "🎉 EfficientNetB0 Training Complete!\n",
      "Total Training Time: 1111.42s (18.5 minutes)\n",
      "Average Epoch Time: 22.23s\n",
      "\n",
      "⏱️  Epoch Timing Breakdown:\n",
      "│ Epoch 1: 31.04s\n",
      "│ Epoch 2: 21.81s\n",
      "│ Epoch 3: 21.70s\n",
      "│ Epoch 4: 21.61s\n",
      "│ Epoch 5: 21.81s\n",
      "│ Epoch 6: 21.62s\n",
      "│ Epoch 7: 22.00s\n",
      "│ Epoch 8: 22.00s\n",
      "│ Epoch 9: 22.32s\n",
      "│ Epoch 10: 22.34s\n",
      "│ Epoch 11: 21.93s\n",
      "│ Epoch 12: 21.99s\n",
      "│ Epoch 13: 22.33s\n",
      "│ Epoch 14: 21.96s\n",
      "│ Epoch 15: 22.03s\n",
      "│ Epoch 16: 22.39s\n",
      "│ Epoch 17: 22.28s\n",
      "│ Epoch 18: 22.01s\n",
      "│ Epoch 19: 21.90s\n",
      "│ Epoch 20: 22.08s\n",
      "│ Epoch 21: 22.11s\n",
      "│ Epoch 22: 22.13s\n",
      "│ Epoch 23: 22.12s\n",
      "│ Epoch 24: 21.96s\n",
      "│ Epoch 25: 21.85s\n",
      "│ Epoch 26: 22.02s\n",
      "│ Epoch 27: 21.91s\n",
      "│ Epoch 28: 21.96s\n",
      "│ Epoch 29: 22.17s\n",
      "│ Epoch 30: 22.12s\n",
      "│ Epoch 31: 22.14s\n",
      "│ Epoch 32: 22.50s\n",
      "│ Epoch 33: 22.15s\n",
      "│ Epoch 34: 21.95s\n",
      "│ Epoch 35: 22.11s\n",
      "│ Epoch 36: 22.11s\n",
      "│ Epoch 37: 22.38s\n",
      "│ Epoch 38: 21.90s\n",
      "│ Epoch 39: 21.82s\n",
      "│ Epoch 40: 22.07s\n",
      "│ Epoch 41: 21.89s\n",
      "│ Epoch 42: 22.06s\n",
      "│ Epoch 43: 22.16s\n",
      "│ Epoch 44: 22.06s\n",
      "│ Epoch 45: 22.10s\n",
      "│ Epoch 46: 22.00s\n",
      "│ Epoch 47: 21.96s\n",
      "│ Epoch 48: 22.13s\n",
      "│ Epoch 49: 22.24s\n",
      "│ Epoch 50: 22.15s\n",
      "\n",
      "🧪 Loading Best EfficientNetB0 Model for Testing...\n",
      "✅ Best EfficientNetB0 model from epoch 12 loaded successfully!\n"
     ]
    },
    {
     "name": "stderr",
     "output_type": "stream",
     "text": [
      "Testing EfficientNetB0: 100%|██████████████████████████████| 17/17 [00:06<00:00,  2.81it/s]\n"
     ]
    },
    {
     "name": "stdout",
     "output_type": "stream",
     "text": [
      "✅ EfficientNetB0 Testing completed in 6.05s\n",
      "\n",
      "📋 EfficientNetB0 Classification Report:\n",
      "              precision    recall  f1-score   support\n",
      "\n",
      "        Four       0.04      0.05      0.04        40\n",
      "     Leg_Bye       0.29      0.10      0.15        40\n",
      "     No_ball       0.28      0.23      0.25       104\n",
      "         Out       0.30      0.19      0.23        48\n",
      "         Six       0.34      0.46      0.39       152\n",
      "        Wide       0.37      0.36      0.36       136\n",
      "\n",
      "    accuracy                           0.30       520\n",
      "   macro avg       0.27      0.23      0.24       520\n",
      "weighted avg       0.30      0.30      0.30       520\n",
      "\n",
      "🎯 EfficientNetB0 Test Accuracy: 0.3038\n",
      "\n",
      "📊 EfficientNetB0 Model Performance Summary:\n",
      "│ Best Validation Acc:  0.5361 (Epoch 12)\n",
      "│ Final Test Accuracy:  0.3038\n",
      "│ Val-Test Gap:         0.2322\n"
     ]
    },
    {
     "data": {
      "image/png": "[encoded data removed]",
      "text/plain": [
       "<Figure size 800x600 with 2 Axes>"
      ]
     },
     "metadata": {},
     "output_type": "display_data"
    },
    {
     "data": {
      "image/png": "[encoded data removed]",
      "text/plain": [
       "<Figure size 2000x500 with 4 Axes>"
      ]
     },
     "metadata": {},
     "output_type": "display_data"
    },
    {
     "name": "stdout",
     "output_type": "stream",
     "text": [
      "\n",
      "⏰ EfficientNetB0 Final Timing Summary:\n",
      "│ Total Training: 1111.42s\n",
      "│ Average per Epoch: 22.23s\n",
      "│ Testing Time: 6.05s\n",
      "│ Total Runtime: 1117.48s\n",
      "\n",
      "💾 EfficientNetB0 Files saved:\n",
      "│ best_efficientnetb0_model.pth - Best validation accuracy model\n",
      "│ efficientnetb0_training_history.csv - Training metrics for later plotting\n",
      "\n",
      "🏗️  EfficientNetB0 Architecture Summary:\n",
      "│ Total Parameters: 4,015,234\n",
      "│ Trainable Parameters: 4,015,234\n",
      "│ Model Size: 15.32 MB\n",
      "│ Input Size: 224x224x3\n",
      "│ Output Classes: 6\n",
      "│ Width Coefficient: 1.0\n",
      "│ Depth Coefficient: 1.0\n",
      "│ Dropout Rate: 0.2\n",
      "│ Drop Connect Rate: 0.2\n",
      "│ MBConv Blocks: 16\n",
      "│ Squeeze-and-Excitation: Yes\n",
      "│ Swish Activation: Yes\n",
      "│ Stochastic Depth: Yes\n"
     ]
    }
   ],
   "source": [
    "import torch\n",
    "import torch.nn as nn\n",
    "import torch.nn.functional as F\n",
    "import numpy as np\n",
    "import matplotlib.pyplot as plt\n",
    "import seaborn as sns\n",
    "from torchsummary import summary\n",
    "from sklearn.metrics import accuracy_score, classification_report, confusion_matrix\n",
    "import pandas as pd\n",
    "from tqdm import tqdm\n",
    "import time\n",
    "# -----------------------------\n",
    "# 4. Training Loop with Best Model Saving (Val Accuracy) - EfficientNetB0\n",
    "# -----------------------------\n",
    "train_losses, val_losses = [], []\n",
    "train_accs, val_accs = [], []\n",
    "epoch_times = []\n",
    "epochs = 50\n",
    "\n",
    "# Initialize best model tracking\n",
    "best_val_acc = 0.0\n",
    "best_model_state = None\n",
    "best_epoch = 0\n",
    "\n",
    "print(f\"\\n🚀 Starting EfficientNetB0 Training for {epochs} epochs...\")\n",
    "print(\"=\" * 80)\n",
    "\n",
    "total_start_time = time.time()\n",
    "\n",
    "for epoch in range(epochs):\n",
    "    epoch_start_time = time.time()\n",
    "    \n",
    "    print(f\"\\n📈 Epoch {epoch+1}/{epochs}\")\n",
    "    print(\"-\" * 50)\n",
    "    \n",
    "    # Training Phase\n",
    "    print(\"🔄 Training Phase...\")\n",
    "    model.train()\n",
    "    running_loss, correct, total = 0, 0, 0\n",
    "    \n",
    "    train_pbar = tqdm(train_loader, desc=f\"Training\", \n",
    "                     bar_format='{l_bar}{bar:30}{r_bar}{bar:-30b}')\n",
    "    \n",
    "    train_phase_start = time.time()\n",
    "    \n",
    "    for batch_idx, (imgs, labels) in enumerate(train_pbar):\n",
    "        imgs, labels = imgs.to(device), labels.to(device)\n",
    "        \n",
    "        optimizer.zero_grad()\n",
    "        outputs = model(imgs)\n",
    "        loss = criterion(outputs, labels)\n",
    "        loss.backward()\n",
    "        optimizer.step()\n",
    "        \n",
    "        running_loss += loss.item()\n",
    "        _, preds = torch.max(outputs, 1)\n",
    "        correct += (preds == labels).sum().item()\n",
    "        total += labels.size(0)\n",
    "        \n",
    "        current_acc = correct / total\n",
    "        train_pbar.set_postfix({\n",
    "            'Loss': f'{running_loss/(batch_idx+1):.4f}',\n",
    "            'Acc': f'{current_acc:.4f}'\n",
    "        })\n",
    "        \n",
    "        if device.type == 'cuda' and batch_idx % 10 == 0:\n",
    "            gpu_memory = torch.cuda.memory_allocated() / 1024**3\n",
    "            train_pbar.set_postfix({\n",
    "                'Loss': f'{running_loss/(batch_idx+1):.4f}',\n",
    "                'Acc': f'{current_acc:.4f}',\n",
    "                'GPU': f'{gpu_memory:.1f}GB'\n",
    "            })\n",
    "    \n",
    "    train_phase_time = time.time() - train_phase_start\n",
    "    train_loss = running_loss / len(train_loader)\n",
    "    train_acc = correct / total\n",
    "    train_losses.append(train_loss)\n",
    "    train_accs.append(train_acc)\n",
    "    \n",
    "    print(f\"✅ Training completed in {train_phase_time:.2f}s\")\n",
    "    \n",
    "    # Validation Phase\n",
    "    print(\"🔍 Validation Phase...\")\n",
    "    model.eval()\n",
    "    running_loss, correct, total = 0, 0, 0\n",
    "    \n",
    "    val_phase_start = time.time()\n",
    "    val_pbar = tqdm(val_loader, desc=f\"Validation\", \n",
    "                   bar_format='{l_bar}{bar:30}{r_bar}{bar:-30b}')\n",
    "    \n",
    "    with torch.no_grad():\n",
    "        for batch_idx, (imgs, labels) in enumerate(val_pbar):\n",
    "            imgs, labels = imgs.to(device), labels.to(device)\n",
    "            outputs = model(imgs)\n",
    "            loss = criterion(outputs, labels)\n",
    "            \n",
    "            running_loss += loss.item()\n",
    "            _, preds = torch.max(outputs, 1)\n",
    "            correct += (preds == labels).sum().item()\n",
    "            total += labels.size(0)\n",
    "            \n",
    "            current_acc = correct / total\n",
    "            val_pbar.set_postfix({\n",
    "                'Loss': f'{running_loss/(batch_idx+1):.4f}',\n",
    "                'Acc': f'{current_acc:.4f}'\n",
    "            })\n",
    "    \n",
    "    val_phase_time = time.time() - val_phase_start\n",
    "    val_loss = running_loss / len(val_loader)\n",
    "    val_acc = correct / total\n",
    "    val_losses.append(val_loss)\n",
    "    val_accs.append(val_acc)\n",
    "    \n",
    "    print(f\"✅ Validation completed in {val_phase_time:.2f}s\")\n",
    "    \n",
    "    # Check if this is the best model so far based on val_acc\n",
    "    is_best = val_acc > best_val_acc\n",
    "    if is_best:\n",
    "        best_val_acc = val_acc\n",
    "        best_epoch = epoch + 1\n",
    "        best_model_state = model.state_dict().copy()\n",
    "        print(f\"🌟 New best EfficientNetB0 model found! Validation Accuracy: {val_acc:.4f}\")\n",
    "    \n",
    "    # Epoch Summary\n",
    "    epoch_time = time.time() - epoch_start_time\n",
    "    epoch_times.append(epoch_time)\n",
    "    \n",
    "    print(f\"\\n📊 Epoch {epoch+1} Summary:\")\n",
    "    print(f\"│ Train Loss: {train_loss:.4f} | Train Acc: {train_acc:.4f}\")\n",
    "    print(f\"│ Val Loss:   {val_loss:.4f} | Val Acc:   {val_acc:.4f}\")\n",
    "    print(f\"│ Train Time: {train_phase_time:.2f}s | Val Time: {val_phase_time:.2f}s\")\n",
    "    print(f\"│ Total Epoch Time: {epoch_time:.2f}s\")\n",
    "    print(f\"│ Best Val Acc: {best_val_acc:.4f} (Epoch {best_epoch})\")\n",
    "    \n",
    "    if device.type == 'cuda':\n",
    "        print(f\"│ GPU Memory: {torch.cuda.memory_allocated()/1024**3:.1f}GB / {torch.cuda.memory_reserved()/1024**3:.1f}GB\")\n",
    "    \n",
    "    print(\"=\" * 80)\n",
    "\n",
    "total_training_time = time.time() - total_start_time\n",
    "\n",
    "# Save the best model\n",
    "if best_model_state is not None:\n",
    "    torch.save(best_model_state, 'best_efficientnetb0_model.pth')\n",
    "    print(f\"\\n💾 Best EfficientNetB0 model saved as 'best_efficientnetb0_model.pth'\")\n",
    "    print(f\"📊 Best model stats:\")\n",
    "    print(f\"│ Best Epoch: {best_epoch}\")\n",
    "    print(f\"│ Best Val Acc: {best_val_acc:.4f}\")\n",
    "\n",
    "# Save training history data to CSV\n",
    "history_data = {\n",
    "    'epoch': list(range(1, epochs+1)),\n",
    "    'train_loss': train_losses,\n",
    "    'val_loss': val_losses,\n",
    "    'train_acc': train_accs,\n",
    "    'val_acc': val_accs,\n",
    "    'epoch_time': epoch_times\n",
    "}\n",
    "history_df = pd.DataFrame(history_data)\n",
    "history_df.to_csv('efficientnetb0_training_history.csv', index=False)\n",
    "print(\"\\n💾 EfficientNetB0 training history saved to 'efficientnetb0_training_history.csv'\")\n",
    "\n",
    "# Training Summary\n",
    "print(f\"\\n🎉 EfficientNetB0 Training Complete!\")\n",
    "print(f\"Total Training Time: {total_training_time:.2f}s ({total_training_time/60:.1f} minutes)\")\n",
    "print(f\"Average Epoch Time: {np.mean(epoch_times):.2f}s\")\n",
    "print(\"\\n⏱️  Epoch Timing Breakdown:\")\n",
    "for i, t in enumerate(epoch_times):\n",
    "    print(f\"│ Epoch {i+1}: {t:.2f}s\")\n",
    "\n",
    "# -----------------------------\n",
    "# 5. Load Best Model and Test\n",
    "# -----------------------------\n",
    "print(f\"\\n🧪 Loading Best EfficientNetB0 Model for Testing...\")\n",
    "\n",
    "# Load the best model state\n",
    "if best_model_state is not None:\n",
    "    model.load_state_dict(best_model_state)\n",
    "    print(f\"✅ Best EfficientNetB0 model from epoch {best_epoch} loaded successfully!\")\n",
    "else:\n",
    "    print(\"⚠️  No best model found, using current model state\")\n",
    "\n",
    "test_start_time = time.time()\n",
    "y_true, y_pred = [], []\n",
    "model.eval()\n",
    "\n",
    "test_pbar = tqdm(test_loader, desc=\"Testing EfficientNetB0\", \n",
    "                bar_format='{l_bar}{bar:30}{r_bar}{bar:-30b}')\n",
    "\n",
    "with torch.no_grad():\n",
    "    for imgs, labels in test_pbar:\n",
    "        imgs, labels = imgs.to(device), labels.to(device)\n",
    "        outputs = model(imgs)\n",
    "        _, preds = torch.max(outputs, 1)\n",
    "        y_true.extend(labels.cpu().numpy())\n",
    "        y_pred.extend(preds.cpu().numpy())\n",
    "\n",
    "test_time = time.time() - test_start_time\n",
    "test_accuracy = accuracy_score(y_true, y_pred)\n",
    "\n",
    "print(f\"✅ EfficientNetB0 Testing completed in {test_time:.2f}s\")\n",
    "print(\"\\n📋 EfficientNetB0 Classification Report:\")\n",
    "print(classification_report(y_true, y_pred, target_names=classes))\n",
    "print(f\"🎯 EfficientNetB0 Test Accuracy: {test_accuracy:.4f}\")\n",
    "\n",
    "# Model Performance Summary\n",
    "print(f\"\\n📊 EfficientNetB0 Model Performance Summary:\")\n",
    "print(f\"│ Best Validation Acc:  {best_val_acc:.4f} (Epoch {best_epoch})\")\n",
    "print(f\"│ Final Test Accuracy:  {test_accuracy:.4f}\")\n",
    "print(f\"│ Val-Test Gap:         {abs(best_val_acc - test_accuracy):.4f}\")\n",
    "\n",
    "# Confusion Matrix\n",
    "cm = confusion_matrix(y_true, y_pred)\n",
    "plt.figure(figsize=(8, 6))\n",
    "sns.heatmap(cm, annot=True, fmt=\"d\", cmap=\"Purples\", xticklabels=classes, yticklabels=classes)\n",
    "plt.xlabel(\"Predicted\")\n",
    "plt.ylabel(\"True\")\n",
    "plt.title(f\"EfficientNetB0 Confusion Matrix - Best Model (Epoch {best_epoch})\")\n",
    "plt.show()\n",
    "\n",
    "# -----------------------------\n",
    "# 6. Enhanced Visualizations\n",
    "# -----------------------------\n",
    "plt.figure(figsize=(20, 5))\n",
    "\n",
    "# Loss Plot\n",
    "plt.subplot(1, 4, 1)\n",
    "plt.plot(range(1, epochs+1), train_losses, 'b-', label=\"Train Loss\", marker='o', linewidth=2)\n",
    "plt.plot(range(1, epochs+1), val_losses, 'r-', label=\"Val Loss\", marker='s', linewidth=2)\n",
    "plt.axvline(x=best_epoch, color='purple', linestyle='--', alpha=0.7, label=f'Best (Epoch {best_epoch})')\n",
    "plt.legend()\n",
    "plt.title(\"EfficientNetB0 Loss over Epochs\")\n",
    "plt.xlabel(\"Epoch\")\n",
    "plt.ylabel(\"Loss\")\n",
    "plt.grid(True, alpha=0.3)\n",
    "\n",
    "# Accuracy Plot\n",
    "plt.subplot(1, 4, 2)\n",
    "plt.plot(range(1, epochs+1), train_accs, 'b-', label=\"Train Accuracy\", marker='o', linewidth=2)\n",
    "plt.plot(range(1, epochs+1), val_accs, 'r-', label=\"Val Accuracy\", marker='s', linewidth=2)\n",
    "plt.axvline(x=best_epoch, color='purple', linestyle='--', alpha=0.7, label=f'Best (Epoch {best_epoch})')\n",
    "plt.scatter([best_epoch], [best_val_acc], color='purple', s=100, zorder=5)\n",
    "plt.legend()\n",
    "plt.title(\"EfficientNetB0 Accuracy over Epochs\")\n",
    "plt.xlabel(\"Epoch\")\n",
    "plt.ylabel(\"Accuracy\")\n",
    "plt.grid(True, alpha=0.3)\n",
    "\n",
    "# Timing Plot\n",
    "plt.subplot(1, 4, 3)\n",
    "bars = plt.bar(range(1, epochs+1), epoch_times, color='plum', alpha=0.7)\n",
    "bars[best_epoch-1].set_color('purple')\n",
    "plt.title(\"EfficientNetB0 Training Time per Epoch\")\n",
    "plt.xlabel(\"Epoch\")\n",
    "plt.ylabel(\"Time (seconds)\")\n",
    "plt.grid(True, alpha=0.3)\n",
    "for i, t in enumerate(epoch_times):\n",
    "    plt.text(i+1, t+0.5, f'{t:.1f}s', ha='center', va='bottom')\n",
    "\n",
    "# Performance Comparison\n",
    "plt.subplot(1, 4, 4)\n",
    "metrics = ['Best Val Acc', 'Test Acc']\n",
    "values = [best_val_acc, test_accuracy]\n",
    "colors = ['plum', 'purple']\n",
    "bars = plt.bar(metrics, values, color=colors, alpha=0.7)\n",
    "plt.title(\"EfficientNetB0 Final Model Performance\")\n",
    "plt.ylabel(\"Accuracy\")\n",
    "plt.ylim(0, 1)\n",
    "plt.grid(True, alpha=0.3)\n",
    "for bar, val in zip(bars, values):\n",
    "    plt.text(bar.get_x() + bar.get_width()/2, val + 0.01, \n",
    "             f'{val:.4f}', ha='center', va='bottom')\n",
    "\n",
    "plt.tight_layout()\n",
    "plt.show()\n",
    "\n",
    "print(f\"\\n⏰ EfficientNetB0 Final Timing Summary:\")\n",
    "print(f\"│ Total Training: {total_training_time:.2f}s\")\n",
    "print(f\"│ Average per Epoch: {np.mean(epoch_times):.2f}s\")\n",
    "print(f\"│ Testing Time: {test_time:.2f}s\")\n",
    "print(f\"│ Total Runtime: {total_training_time + test_time:.2f}s\")\n",
    "\n",
    "print(f\"\\n💾 EfficientNetB0 Files saved:\")\n",
    "print(f\"│ best_efficientnetb0_model.pth - Best validation accuracy model\")\n",
    "print(f\"│ efficientnetb0_training_history.csv - Training metrics for later plotting\")\n",
    "\n",
    "# -----------------------------\n",
    "# 7. EfficientNetB0 Architecture Summary\n",
    "# -----------------------------\n",
    "print(f\"\\n🏗️  EfficientNetB0 Architecture Summary:\")\n",
    "print(f\"│ Total Parameters: {sum(p.numel() for p in model.parameters()):,}\")\n",
    "print(f\"│ Trainable Parameters: {sum(p.numel() for p in model.parameters() if p.requires_grad):,}\")\n",
    "print(f\"│ Model Size: {sum(p.numel() * p.element_size() for p in model.parameters()) / 1024**2:.2f} MB\")\n",
    "print(f\"│ Input Size: 224x224x3\")\n",
    "print(f\"│ Output Classes: {len(classes)}\")\n",
    "print(f\"│ Width Coefficient: 1.0\")\n",
    "print(f\"│ Depth Coefficient: 1.0\")\n",
    "print(f\"│ Dropout Rate: 0.2\")\n",
    "print(f\"│ Drop Connect Rate: 0.2\")\n",
    "print(f\"│ MBConv Blocks: {len(model.blocks)}\")\n",
    "print(f\"│ Squeeze-and-Excitation: Yes\")\n",
    "print(f\"│ Swish Activation: Yes\")\n",
    "print(f\"│ Stochastic Depth: Yes\")"
   ]
  }
 ],
 "metadata": {
  "kaggle": {
   "accelerator": "nvidiaTeslaT4",
   "dataSources": [
    {
     "datasetId": 7735666,
     "sourceId": 12275446,
     "sourceType": "datasetVersion"
    }
   ],
   "dockerImageVersionId": 31090,
   "isGpuEnabled": true,
   "isInternetEnabled": true,
   "language": "python",
   "sourceType": "notebook"
  },
  "kernelspec": {
   "display_name": "Python 3",
   "language": "python",
   "name": "python3"
  },
  "language_info": {
   "codemirror_mode": {
    "name": "ipython",
    "version": 3
   },
   "file_extension": ".py",
   "mimetype": "text/x-python",
   "name": "python",
   "nbconvert_exporter": "python",
   "pygments_lexer": "ipython3",
   "version": "3.11.13"
  },
  "papermill": {
   "default_parameters": {},
   "duration": 1148.618893,
   "end_time": "2025-09-08T10:23:05.617358",
   "environment_variables": {},
   "exception": null,
   "input_path": "__notebook__.ipynb",
   "output_path": "__notebook__.ipynb",
   "parameters": {},
   "start_time": "2025-09-08T10:03:56.998465",
   "version": "2.6.0"
  }
 },
 "nbformat": 4,
 "nbformat_minor": 5
}
