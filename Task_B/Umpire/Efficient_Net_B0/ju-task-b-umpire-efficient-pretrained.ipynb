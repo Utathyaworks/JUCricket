{
 "cells": [
  {
   "cell_type": "code",
   "execution_count": 1,
   "id": "f93bc3e5",
   "metadata": {
    "_cell_guid": "b1076dfc-b9ad-4769-8c92-a6c4dae69d19",
    "_uuid": "8f2839f25d086af736a60e9eeb907d3b93b6e0e5",
    "execution": {
     "iopub.execute_input": "2025-09-08T10:05:09.279257Z",
     "iopub.status.busy": "2025-09-08T10:05:09.279048Z",
     "iopub.status.idle": "2025-09-08T10:05:26.881261Z",
     "shell.execute_reply": "2025-09-08T10:05:26.880583Z"
    },
    "papermill": {
     "duration": 17.607219,
     "end_time": "2025-09-08T10:05:26.882765",
     "exception": false,
     "start_time": "2025-09-08T10:05:09.275546",
     "status": "completed"
    },
    "tags": []
   },
   "outputs": [
    {
     "name": "stdout",
     "output_type": "stream",
     "text": [
      "Classes: ['Four', 'Leg_Bye', 'No_ball', 'Out', 'Six', 'Wide']\n"
     ]
    }
   ],
   "source": [
    "import torch\n",
    "import torch.nn as nn\n",
    "import torch.nn.functional as F\n",
    "from torch.utils.data import DataLoader\n",
    "from torchvision import datasets, transforms\n",
    "from torchsummary import summary\n",
    "import matplotlib.pyplot as plt\n",
    "from sklearn.metrics import classification_report, confusion_matrix, accuracy_score\n",
    "import seaborn as sns\n",
    "import numpy as np\n",
    "\n",
    "# -----------------------------\n",
    "# 1. Data Preprocessing\n",
    "# -----------------------------\n",
    "data_dir = \"/kaggle/input/ju-cricket/Cricket_Dataset_final/Task_B\"\n",
    "\n",
    "transform = transforms.Compose([\n",
    "    transforms.Resize((224, 224)),\n",
    "    transforms.ToTensor(),\n",
    "    transforms.Normalize([0.485, 0.456, 0.406], \n",
    "                         [0.229, 0.224, 0.225])\n",
    "])\n",
    "\n",
    "train_ds = datasets.ImageFolder(f\"{data_dir}/train/Umpire\", transform=transform)\n",
    "val_ds   = datasets.ImageFolder(f\"{data_dir}/val/Umpire\", transform=transform)\n",
    "test_ds  = datasets.ImageFolder(f\"{data_dir}/test/Umpire\", transform=transform)\n",
    "\n",
    "train_loader = DataLoader(train_ds, batch_size=32, shuffle=True)\n",
    "val_loader   = DataLoader(val_ds, batch_size=32, shuffle=False)\n",
    "test_loader  = DataLoader(test_ds, batch_size=32, shuffle=False)\n",
    "\n",
    "classes = train_ds.classes\n",
    "print(\"Classes:\", classes)"
   ]
  },
  {
   "cell_type": "code",
   "execution_count": 2,
   "id": "788475f7",
   "metadata": {
    "execution": {
     "iopub.execute_input": "2025-09-08T10:05:26.888815Z",
     "iopub.status.busy": "2025-09-08T10:05:26.888472Z",
     "iopub.status.idle": "2025-09-08T10:05:26.892848Z",
     "shell.execute_reply": "2025-09-08T10:05:26.892147Z"
    },
    "papermill": {
     "duration": 0.008307,
     "end_time": "2025-09-08T10:05:26.893906",
     "exception": false,
     "start_time": "2025-09-08T10:05:26.885599",
     "status": "completed"
    },
    "tags": []
   },
   "outputs": [
    {
     "name": "stdout",
     "output_type": "stream",
     "text": [
      "Total training images: 1728\n",
      "Total validation images: 468\n",
      "Total test images: 585\n",
      "Total images in dataset: 2781\n"
     ]
    }
   ],
   "source": [
    "print(\"Total training images:\", len(train_ds))\n",
    "print(\"Total validation images:\", len(val_ds))\n",
    "print(\"Total test images:\", len(test_ds))\n",
    "\n",
    "total_images = len(train_ds) + len(val_ds) + len(test_ds)\n",
    "print(\"Total images in dataset:\", total_images)"
   ]
  },
  {
   "cell_type": "code",
   "execution_count": 3,
   "id": "35c98558",
   "metadata": {
    "execution": {
     "iopub.execute_input": "2025-09-08T10:05:26.899363Z",
     "iopub.status.busy": "2025-09-08T10:05:26.898986Z",
     "iopub.status.idle": "2025-09-08T10:05:26.905663Z",
     "shell.execute_reply": "2025-09-08T10:05:26.904931Z"
    },
    "papermill": {
     "duration": 0.010531,
     "end_time": "2025-09-08T10:05:26.906737",
     "exception": false,
     "start_time": "2025-09-08T10:05:26.896206",
     "status": "completed"
    },
    "tags": []
   },
   "outputs": [
    {
     "name": "stdout",
     "output_type": "stream",
     "text": [
      "Training images (excluding 'random_occlusion'): 1536\n",
      "Validation images (excluding 'random_occlusion'): 416\n",
      "Test images (excluding 'random_occlusion'): 520\n",
      "Total images (excluding 'random_occlusion'): 2472\n"
     ]
    }
   ],
   "source": [
    "ignore_folder = \"random_occlusion\"\n",
    "\n",
    "def count_images_ignore_folder(dataset, ignore_folder):\n",
    "    count = 0\n",
    "    for img_path, label in dataset.samples:\n",
    "        # Skip if the image path contains the ignore_folder\n",
    "        if ignore_folder not in img_path.split(\"/\"):\n",
    "            count += 1\n",
    "    return count\n",
    "\n",
    "train_count = count_images_ignore_folder(train_ds, ignore_folder)\n",
    "val_count   = count_images_ignore_folder(val_ds, ignore_folder)\n",
    "test_count  = count_images_ignore_folder(test_ds, ignore_folder)\n",
    "\n",
    "total_count = train_count + val_count + test_count\n",
    "\n",
    "print(\"Training images (excluding '{}'): {}\".format(ignore_folder, train_count))\n",
    "print(\"Validation images (excluding '{}'): {}\".format(ignore_folder, val_count))\n",
    "print(\"Test images (excluding '{}'): {}\".format(ignore_folder, test_count))\n",
    "print(\"Total images (excluding '{}'): {}\".format(ignore_folder, total_count))"
   ]
  },
  {
   "cell_type": "code",
   "execution_count": 4,
   "id": "2069cf9a",
   "metadata": {
    "execution": {
     "iopub.execute_input": "2025-09-08T10:05:26.912308Z",
     "iopub.status.busy": "2025-09-08T10:05:26.911802Z",
     "iopub.status.idle": "2025-09-08T10:05:26.919331Z",
     "shell.execute_reply": "2025-09-08T10:05:26.918717Z"
    },
    "papermill": {
     "duration": 0.011333,
     "end_time": "2025-09-08T10:05:26.920372",
     "exception": false,
     "start_time": "2025-09-08T10:05:26.909039",
     "status": "completed"
    },
    "tags": []
   },
   "outputs": [
    {
     "name": "stdout",
     "output_type": "stream",
     "text": [
      "Training folders considered: {'gaussian_noise', 'motion_blur', 'lens_flare', 'dirty_lens', 'low_resolution', 'chromatic_aberration', 'blur', 'random_occlusion', 'original'}\n",
      "Validation folders considered: {'gaussian_noise', 'motion_blur', 'lens_flare', 'dirty_lens', 'low_resolution', 'chromatic_aberration', 'blur', 'random_occlusion', 'original'}\n",
      "Test folders considered: {'gaussian_noise', 'motion_blur', 'lens_flare', 'dirty_lens', 'low_resolution', 'chromatic_aberration', 'blur', 'random_occlusion', 'original'}\n"
     ]
    }
   ],
   "source": [
    "ignore_folder = \"random_occlusionw\"\n",
    "\n",
    "def get_included_folders(dataset, ignore_folder):\n",
    "    included = set()\n",
    "    for img_path, label in dataset.samples:\n",
    "        # Split the path into parts and ignore if ignore_folder is in the path\n",
    "        if ignore_folder not in img_path.split(\"/\"):\n",
    "            # The folder name just above the image (or the class folder)\n",
    "            folder_name = img_path.split(\"/\")[-2]\n",
    "            included.add(folder_name)\n",
    "    return included\n",
    "\n",
    "train_folders = get_included_folders(train_ds, ignore_folder)\n",
    "val_folders   = get_included_folders(val_ds, ignore_folder)\n",
    "test_folders  = get_included_folders(test_ds, ignore_folder)\n",
    "\n",
    "print(\"Training folders considered:\", train_folders)\n",
    "print(\"Validation folders considered:\", val_folders)\n",
    "print(\"Test folders considered:\", test_folders)"
   ]
  },
  {
   "cell_type": "code",
   "execution_count": 5,
   "id": "737d6547",
   "metadata": {
    "execution": {
     "iopub.execute_input": "2025-09-08T10:05:26.925524Z",
     "iopub.status.busy": "2025-09-08T10:05:26.925316Z",
     "iopub.status.idle": "2025-09-08T10:05:27.034809Z",
     "shell.execute_reply": "2025-09-08T10:05:27.034055Z"
    },
    "papermill": {
     "duration": 0.113288,
     "end_time": "2025-09-08T10:05:27.035987",
     "exception": false,
     "start_time": "2025-09-08T10:05:26.922699",
     "status": "completed"
    },
    "tags": []
   },
   "outputs": [
    {
     "name": "stdout",
     "output_type": "stream",
     "text": [
      "Classes: ['Four', 'Leg_Bye', 'No_ball', 'Out', 'Six', 'Wide']\n",
      "Final Training images: 1536\n",
      "Final Validation images: 416\n",
      "Final Test images: 520\n",
      "Total images after filtering: 2472\n"
     ]
    }
   ],
   "source": [
    "ignore_folder = \"random_occlusion\"\n",
    "\n",
    "def filter_samples(dataset, ignore_folder):\n",
    "    # Keep only samples where ignore_folder is NOT in the path\n",
    "    filtered_samples = [s for s in dataset.samples if ignore_folder not in s[0].split(\"/\")]\n",
    "    dataset.samples = filtered_samples\n",
    "    dataset.targets = [s[1] for s in filtered_samples]  # Update targets accordingly\n",
    "    return dataset\n",
    "\n",
    "# Create original datasets\n",
    "train_ds = datasets.ImageFolder(f\"{data_dir}/train/Umpire\", transform=transform)\n",
    "val_ds   = datasets.ImageFolder(f\"{data_dir}/val/Umpire\", transform=transform)\n",
    "test_ds  = datasets.ImageFolder(f\"{data_dir}/test/Umpire\", transform=transform)\n",
    "\n",
    "# Filter out 'random_occlusion' folder\n",
    "train_ds = filter_samples(train_ds, ignore_folder)\n",
    "val_ds   = filter_samples(val_ds, ignore_folder)\n",
    "test_ds  = filter_samples(test_ds, ignore_folder)\n",
    "\n",
    "# DataLoaders\n",
    "train_loader = DataLoader(train_ds, batch_size=32, shuffle=True)\n",
    "val_loader   = DataLoader(val_ds, batch_size=32, shuffle=False)\n",
    "test_loader  = DataLoader(test_ds, batch_size=32, shuffle=False)\n",
    "\n",
    "# Classes (will remain the same)\n",
    "classes = train_ds.classes\n",
    "print(\"Classes:\", classes)\n",
    "\n",
    "# Show counts\n",
    "print(\"Final Training images:\", len(train_ds))\n",
    "print(\"Final Validation images:\", len(val_ds))\n",
    "print(\"Final Test images:\", len(test_ds))\n",
    "print(\"Total images after filtering:\", len(train_ds) + len(val_ds) + len(test_ds))"
   ]
  },
  {
   "cell_type": "code",
   "execution_count": 6,
   "id": "3b1a0b1d",
   "metadata": {
    "execution": {
     "iopub.execute_input": "2025-09-08T10:05:27.041832Z",
     "iopub.status.busy": "2025-09-08T10:05:27.041275Z",
     "iopub.status.idle": "2025-09-08T10:05:27.048855Z",
     "shell.execute_reply": "2025-09-08T10:05:27.048109Z"
    },
    "papermill": {
     "duration": 0.012498,
     "end_time": "2025-09-08T10:05:27.051023",
     "exception": false,
     "start_time": "2025-09-08T10:05:27.038525",
     "status": "completed"
    },
    "tags": []
   },
   "outputs": [
    {
     "name": "stdout",
     "output_type": "stream",
     "text": [
      "Training folders considered: {'gaussian_noise', 'motion_blur', 'lens_flare', 'dirty_lens', 'low_resolution', 'chromatic_aberration', 'blur', 'original'}\n",
      "Validation folders considered: {'gaussian_noise', 'motion_blur', 'lens_flare', 'dirty_lens', 'low_resolution', 'chromatic_aberration', 'blur', 'original'}\n",
      "Test folders considered: {'gaussian_noise', 'motion_blur', 'lens_flare', 'dirty_lens', 'low_resolution', 'chromatic_aberration', 'blur', 'original'}\n"
     ]
    }
   ],
   "source": [
    "ignore_folder = \"random_occlusion\"\n",
    "\n",
    "def get_included_folders(dataset, ignore_folder):\n",
    "    included = set()\n",
    "    for img_path, label in dataset.samples:\n",
    "        # Split the path into parts and ignore if ignore_folder is in the path\n",
    "        if ignore_folder not in img_path.split(\"/\"):\n",
    "            # The folder name just above the image (or the class folder)\n",
    "            folder_name = img_path.split(\"/\")[-2]\n",
    "            included.add(folder_name)\n",
    "    return included\n",
    "\n",
    "train_folders = get_included_folders(train_ds, ignore_folder)\n",
    "val_folders   = get_included_folders(val_ds, ignore_folder)\n",
    "test_folders  = get_included_folders(test_ds, ignore_folder)\n",
    "\n",
    "print(\"Training folders considered:\", train_folders)\n",
    "print(\"Validation folders considered:\", val_folders)\n",
    "print(\"Test folders considered:\", test_folders)"
   ]
  },
  {
   "cell_type": "code",
   "execution_count": 7,
   "id": "d1d5f9e4",
   "metadata": {
    "execution": {
     "iopub.execute_input": "2025-09-08T10:05:27.058954Z",
     "iopub.status.busy": "2025-09-08T10:05:27.058780Z",
     "iopub.status.idle": "2025-09-08T10:05:27.993506Z",
     "shell.execute_reply": "2025-09-08T10:05:27.992463Z"
    },
    "papermill": {
     "duration": 0.93931,
     "end_time": "2025-09-08T10:05:27.994894",
     "exception": false,
     "start_time": "2025-09-08T10:05:27.055584",
     "status": "completed"
    },
    "tags": []
   },
   "outputs": [
    {
     "name": "stdout",
     "output_type": "stream",
     "text": [
      "🔄 Loading and filtering datasets for EfficientNet-B0...\n",
      "✅ Classes: ['Four', 'Leg_Bye', 'No_ball', 'Out', 'Six', 'Wide']\n",
      "📊 Dataset Statistics:\n",
      "│ Training images: 1536\n",
      "│ Validation images: 416\n",
      "│ Test images: 520\n",
      "│ Total images (after filtering): 2472\n",
      "│ Excluded folder: 'random_occlusion'\n",
      "│ Number of classes: 6\n",
      "Using device: cuda\n",
      "🔄 Loading pretrained EfficientNet-B0 from ImageNet...\n"
     ]
    },
    {
     "name": "stderr",
     "output_type": "stream",
     "text": [
      "/usr/local/lib/python3.11/dist-packages/torchvision/models/_utils.py:208: UserWarning: The parameter 'pretrained' is deprecated since 0.13 and may be removed in the future, please use 'weights' instead.\n",
      "  warnings.warn(\n",
      "/usr/local/lib/python3.11/dist-packages/torchvision/models/_utils.py:223: UserWarning: Arguments other than a weight enum or `None` for 'weights' are deprecated since 0.13 and may be removed in the future. The current behavior is equivalent to passing `weights=EfficientNet_B0_Weights.IMAGENET1K_V1`. You can also use `weights=EfficientNet_B0_Weights.DEFAULT` to get the most up-to-date weights.\n",
      "  warnings.warn(msg)\n",
      "Downloading: \"https://download.pytorch.org/models/efficientnet_b0_rwightman-7f5810bc.pth\" to /root/.cache/torch/hub/checkpoints/efficientnet_b0_rwightman-7f5810bc.pth\n",
      "100%|██████████| 20.5M/20.5M [00:00<00:00, 134MB/s] \n"
     ]
    },
    {
     "name": "stdout",
     "output_type": "stream",
     "text": [
      "✅ Model loaded with 6 output classes\n",
      "📊 Total parameters: 4,015,234\n",
      "📊 Trainable parameters: 4,015,234\n",
      "📊 Model file size: 15.60 MB\n",
      "📋 Model Architecture:\n",
      "│ Input size: (3, 224, 224)\n",
      "│ EfficientNet-B0 features: 1280\n",
      "│ Output classes: 6\n",
      "│ Compound scaling: Depth/Width/Resolution optimized\n"
     ]
    }
   ],
   "source": [
    "import torch\n",
    "import torch.nn as nn\n",
    "import torch.nn.functional as F\n",
    "import torch.optim as optim\n",
    "from torch.utils.data import DataLoader\n",
    "from torchvision import datasets, transforms, models\n",
    "import matplotlib.pyplot as plt\n",
    "from sklearn.metrics import classification_report, confusion_matrix, accuracy_score\n",
    "import seaborn as sns\n",
    "import numpy as np\n",
    "import pandas as pd\n",
    "from tqdm import tqdm\n",
    "import time\n",
    "import os\n",
    "import tempfile\n",
    "\n",
    "# -----------------------------\n",
    "# 1. Data Preprocessing with Filtering (EfficientNet-B0 - 224x224)\n",
    "# -----------------------------\n",
    "data_dir = \"/kaggle/input/ju-cricket/Cricket_Dataset_final/Task_B\"\n",
    "\n",
    "# EfficientNet-B0 uses 224x224 input size (same as ResNet/DenseNet)\n",
    "transform = transforms.Compose([\n",
    "    transforms.Resize((224, 224)),  # EfficientNet-B0 input size\n",
    "    transforms.ToTensor(),\n",
    "    transforms.Normalize([0.485, 0.456, 0.406], \n",
    "                         [0.229, 0.224, 0.225])\n",
    "])\n",
    "\n",
    "ignore_folder = \"random_occlusion\"\n",
    "\n",
    "def filter_samples(dataset, ignore_folder):\n",
    "    \"\"\"Filter out samples containing the ignore_folder in their path\"\"\"\n",
    "    filtered_samples = [s for s in dataset.samples if ignore_folder not in s[0].split(\"/\")]\n",
    "    dataset.samples = filtered_samples\n",
    "    dataset.targets = [s[1] for s in filtered_samples]\n",
    "    return dataset\n",
    "\n",
    "# Create and filter datasets\n",
    "print(\"🔄 Loading and filtering datasets for EfficientNet-B0...\")\n",
    "train_ds = datasets.ImageFolder(f\"{data_dir}/train/Umpire\", transform=transform)\n",
    "val_ds   = datasets.ImageFolder(f\"{data_dir}/val/Umpire\", transform=transform)\n",
    "test_ds  = datasets.ImageFolder(f\"{data_dir}/test/Umpire\", transform=transform)\n",
    "\n",
    "# Apply filtering\n",
    "train_ds = filter_samples(train_ds, ignore_folder)\n",
    "val_ds   = filter_samples(val_ds, ignore_folder)\n",
    "test_ds  = filter_samples(test_ds, ignore_folder)\n",
    "\n",
    "# Create DataLoaders\n",
    "train_loader = DataLoader(train_ds, batch_size=32, shuffle=True)\n",
    "val_loader   = DataLoader(val_ds, batch_size=32, shuffle=False)\n",
    "test_loader  = DataLoader(test_ds, batch_size=32, shuffle=False)\n",
    "\n",
    "# Display information\n",
    "classes = train_ds.classes\n",
    "print(f\"✅ Classes: {classes}\")\n",
    "print(f\"📊 Dataset Statistics:\")\n",
    "print(f\"│ Training images: {len(train_ds)}\")\n",
    "print(f\"│ Validation images: {len(val_ds)}\")\n",
    "print(f\"│ Test images: {len(test_ds)}\")\n",
    "print(f\"│ Total images (after filtering): {len(train_ds) + len(val_ds) + len(test_ds)}\")\n",
    "print(f\"│ Excluded folder: '{ignore_folder}'\")\n",
    "print(f\"│ Number of classes: {len(classes)}\")\n",
    "\n",
    "# -----------------------------\n",
    "# 2. Pretrained EfficientNet-B0 Model\n",
    "# -----------------------------\n",
    "device = torch.device('cuda' if torch.cuda.is_available() else 'cpu')\n",
    "print(f\"Using device: {device}\")\n",
    "\n",
    "# Load pretrained EfficientNet-B0\n",
    "print(\"🔄 Loading pretrained EfficientNet-B0 from ImageNet...\")\n",
    "model = models.efficientnet_b0(pretrained=True)\n",
    "\n",
    "# Replace final classification layer\n",
    "# EfficientNet-B0 uses model.classifier (similar to DenseNet)\n",
    "num_features = model.classifier[1].in_features  # Get input features (1280)\n",
    "model.classifier[1] = nn.Linear(num_features, len(classes))  # Replace final layer\n",
    "model = model.to(device)\n",
    "\n",
    "print(f\"✅ Model loaded with {len(classes)} output classes\")\n",
    "\n",
    "# Calculate model parameters and size\n",
    "total_params = sum(p.numel() for p in model.parameters())\n",
    "trainable_params = sum(p.numel() for p in model.parameters() if p.requires_grad)\n",
    "\n",
    "# Calculate model file size\n",
    "with tempfile.NamedTemporaryFile(delete=False, suffix='.pth') as tmp_file:\n",
    "    torch.save(model.state_dict(), tmp_file.name)\n",
    "    model_size_mb = os.path.getsize(tmp_file.name) / (1024 * 1024)\n",
    "    os.unlink(tmp_file.name)\n",
    "\n",
    "print(f\"📊 Total parameters: {total_params:,}\")\n",
    "print(f\"📊 Trainable parameters: {trainable_params:,}\")\n",
    "print(f\"📊 Model file size: {model_size_mb:.2f} MB\")\n",
    "print(f\"📋 Model Architecture:\")\n",
    "print(f\"│ Input size: (3, 224, 224)\")\n",
    "print(f\"│ EfficientNet-B0 features: 1280\")\n",
    "print(f\"│ Output classes: {len(classes)}\")\n",
    "print(f\"│ Compound scaling: Depth/Width/Resolution optimized\")\n"
   ]
  },
  {
   "cell_type": "code",
   "execution_count": 8,
   "id": "a334dfd2",
   "metadata": {
    "execution": {
     "iopub.execute_input": "2025-09-08T10:05:28.002457Z",
     "iopub.status.busy": "2025-09-08T10:05:28.002173Z",
     "iopub.status.idle": "2025-09-08T10:22:43.397926Z",
     "shell.execute_reply": "2025-09-08T10:22:43.397108Z"
    },
    "papermill": {
     "duration": 1035.401551,
     "end_time": "2025-09-08T10:22:43.399716",
     "exception": false,
     "start_time": "2025-09-08T10:05:27.998165",
     "status": "completed"
    },
    "tags": []
   },
   "outputs": [
    {
     "name": "stdout",
     "output_type": "stream",
     "text": [
      "\n",
      "📋 Training Configuration:\n",
      "│ Model: EfficientNet-B0 (pretrained)\n",
      "│ Optimizer: Adam (lr=0.0001)\n",
      "│ Loss Function: CrossEntropyLoss\n",
      "│ Batch Size: 32\n",
      "│ Device: cuda\n",
      "│ Data: Filtered (excluding 'random_occlusion')\n",
      "\n",
      "🚀 Starting EfficientNet-B0 Fine-tuning for 50 epochs...\n",
      "================================================================================\n",
      "\n",
      "📈 Epoch 1/50\n",
      "--------------------------------------------------\n",
      "🔄 Training Phase...\n"
     ]
    },
    {
     "name": "stderr",
     "output_type": "stream",
     "text": [
      "Training: 100%|██████████████████████████████| 48/48 [00:24<00:00,  1.95it/s, Loss=1.4220, Acc=0.5273]\n"
     ]
    },
    {
     "name": "stdout",
     "output_type": "stream",
     "text": [
      "✅ Training completed in 24.64s\n",
      "🔍 Validation Phase...\n"
     ]
    },
    {
     "name": "stderr",
     "output_type": "stream",
     "text": [
      "Validation: 100%|██████████████████████████████| 13/13 [00:04<00:00,  3.02it/s, Loss=1.1997, Acc=0.5938]\n"
     ]
    },
    {
     "name": "stdout",
     "output_type": "stream",
     "text": [
      "✅ Validation completed in 4.31s\n",
      "🌟 New best model found! Validation Loss: 1.1997\n",
      "\n",
      "📊 Epoch 1 Summary:\n",
      "│ Train Loss: 1.4220 | Train Acc: 0.5273\n",
      "│ Val Loss:   1.1997 | Val Acc:   0.5938\n",
      "│ Train Time: 24.64s | Val Time: 4.31s\n",
      "│ Total Epoch Time: 28.96s\n",
      "│ Best Val Loss: 1.1997 (Epoch 1)\n",
      "│ GPU Memory: 0.1GB / 3.2GB\n",
      "================================================================================\n",
      "\n",
      "📈 Epoch 2/50\n",
      "--------------------------------------------------\n",
      "🔄 Training Phase...\n"
     ]
    },
    {
     "name": "stderr",
     "output_type": "stream",
     "text": [
      "Training: 100%|██████████████████████████████| 48/48 [00:16<00:00,  2.82it/s, Loss=0.7048, Acc=0.8372]\n"
     ]
    },
    {
     "name": "stdout",
     "output_type": "stream",
     "text": [
      "✅ Training completed in 17.00s\n",
      "🔍 Validation Phase...\n"
     ]
    },
    {
     "name": "stderr",
     "output_type": "stream",
     "text": [
      "Validation: 100%|██████████████████████████████| 13/13 [00:02<00:00,  4.46it/s, Loss=0.9082, Acc=0.6779]\n"
     ]
    },
    {
     "name": "stdout",
     "output_type": "stream",
     "text": [
      "✅ Validation completed in 2.91s\n",
      "🌟 New best model found! Validation Loss: 0.9082\n",
      "\n",
      "📊 Epoch 2 Summary:\n",
      "│ Train Loss: 0.7048 | Train Acc: 0.8372\n",
      "│ Val Loss:   0.9082 | Val Acc:   0.6779\n",
      "│ Train Time: 17.00s | Val Time: 2.91s\n",
      "│ Total Epoch Time: 19.92s\n",
      "│ Best Val Loss: 0.9082 (Epoch 2)\n",
      "│ GPU Memory: 0.1GB / 3.2GB\n",
      "================================================================================\n",
      "\n",
      "📈 Epoch 3/50\n",
      "--------------------------------------------------\n",
      "🔄 Training Phase...\n"
     ]
    },
    {
     "name": "stderr",
     "output_type": "stream",
     "text": [
      "Training: 100%|██████████████████████████████| 48/48 [00:16<00:00,  2.85it/s, Loss=0.3283, Acc=0.9401]\n"
     ]
    },
    {
     "name": "stdout",
     "output_type": "stream",
     "text": [
      "✅ Training completed in 16.86s\n",
      "🔍 Validation Phase...\n"
     ]
    },
    {
     "name": "stderr",
     "output_type": "stream",
     "text": [
      "Validation: 100%|██████████████████████████████| 13/13 [00:02<00:00,  4.70it/s, Loss=0.8102, Acc=0.7524]\n"
     ]
    },
    {
     "name": "stdout",
     "output_type": "stream",
     "text": [
      "✅ Validation completed in 2.77s\n",
      "🌟 New best model found! Validation Loss: 0.8102\n",
      "\n",
      "📊 Epoch 3 Summary:\n",
      "│ Train Loss: 0.3283 | Train Acc: 0.9401\n",
      "│ Val Loss:   0.8102 | Val Acc:   0.7524\n",
      "│ Train Time: 16.86s | Val Time: 2.77s\n",
      "│ Total Epoch Time: 19.64s\n",
      "│ Best Val Loss: 0.8102 (Epoch 3)\n",
      "│ GPU Memory: 0.1GB / 3.2GB\n",
      "================================================================================\n",
      "\n",
      "📈 Epoch 4/50\n",
      "--------------------------------------------------\n",
      "🔄 Training Phase...\n"
     ]
    },
    {
     "name": "stderr",
     "output_type": "stream",
     "text": [
      "Training: 100%|██████████████████████████████| 48/48 [00:16<00:00,  2.84it/s, Loss=0.1393, Acc=0.9902]\n"
     ]
    },
    {
     "name": "stdout",
     "output_type": "stream",
     "text": [
      "✅ Training completed in 16.90s\n",
      "🔍 Validation Phase...\n"
     ]
    },
    {
     "name": "stderr",
     "output_type": "stream",
     "text": [
      "Validation: 100%|██████████████████████████████| 13/13 [00:02<00:00,  4.56it/s, Loss=0.7350, Acc=0.7885]\n"
     ]
    },
    {
     "name": "stdout",
     "output_type": "stream",
     "text": [
      "✅ Validation completed in 2.85s\n",
      "🌟 New best model found! Validation Loss: 0.7350\n",
      "\n",
      "📊 Epoch 4 Summary:\n",
      "│ Train Loss: 0.1393 | Train Acc: 0.9902\n",
      "│ Val Loss:   0.7350 | Val Acc:   0.7885\n",
      "│ Train Time: 16.90s | Val Time: 2.85s\n",
      "│ Total Epoch Time: 19.92s\n",
      "│ Best Val Loss: 0.7350 (Epoch 4)\n",
      "│ GPU Memory: 0.1GB / 3.2GB\n",
      "================================================================================\n",
      "\n",
      "📈 Epoch 5/50\n",
      "--------------------------------------------------\n",
      "🔄 Training Phase...\n"
     ]
    },
    {
     "name": "stderr",
     "output_type": "stream",
     "text": [
      "Training: 100%|██████████████████████████████| 48/48 [00:17<00:00,  2.78it/s, Loss=0.0639, Acc=0.9935]\n"
     ]
    },
    {
     "name": "stdout",
     "output_type": "stream",
     "text": [
      "✅ Training completed in 17.24s\n",
      "🔍 Validation Phase...\n"
     ]
    },
    {
     "name": "stderr",
     "output_type": "stream",
     "text": [
      "Validation: 100%|██████████████████████████████| 13/13 [00:02<00:00,  4.49it/s, Loss=0.6783, Acc=0.7885]\n"
     ]
    },
    {
     "name": "stdout",
     "output_type": "stream",
     "text": [
      "✅ Validation completed in 2.90s\n",
      "🌟 New best model found! Validation Loss: 0.6783\n",
      "\n",
      "📊 Epoch 5 Summary:\n",
      "│ Train Loss: 0.0639 | Train Acc: 0.9935\n",
      "│ Val Loss:   0.6783 | Val Acc:   0.7885\n",
      "│ Train Time: 17.24s | Val Time: 2.90s\n",
      "│ Total Epoch Time: 20.14s\n",
      "│ Best Val Loss: 0.6783 (Epoch 5)\n",
      "│ GPU Memory: 0.1GB / 3.2GB\n",
      "================================================================================\n",
      "\n",
      "📈 Epoch 6/50\n",
      "--------------------------------------------------\n",
      "🔄 Training Phase...\n"
     ]
    },
    {
     "name": "stderr",
     "output_type": "stream",
     "text": [
      "Training: 100%|██████████████████████████████| 48/48 [00:17<00:00,  2.82it/s, Loss=0.0342, Acc=0.9954]\n"
     ]
    },
    {
     "name": "stdout",
     "output_type": "stream",
     "text": [
      "✅ Training completed in 17.02s\n",
      "🔍 Validation Phase...\n"
     ]
    },
    {
     "name": "stderr",
     "output_type": "stream",
     "text": [
      "Validation: 100%|██████████████████████████████| 13/13 [00:02<00:00,  4.54it/s, Loss=0.6734, Acc=0.8077]\n"
     ]
    },
    {
     "name": "stdout",
     "output_type": "stream",
     "text": [
      "✅ Validation completed in 2.87s\n",
      "🌟 New best model found! Validation Loss: 0.6734\n",
      "\n",
      "📊 Epoch 6 Summary:\n",
      "│ Train Loss: 0.0342 | Train Acc: 0.9954\n",
      "│ Val Loss:   0.6734 | Val Acc:   0.8077\n",
      "│ Train Time: 17.02s | Val Time: 2.87s\n",
      "│ Total Epoch Time: 19.89s\n",
      "│ Best Val Loss: 0.6734 (Epoch 6)\n",
      "│ GPU Memory: 0.1GB / 3.2GB\n",
      "================================================================================\n",
      "\n",
      "📈 Epoch 7/50\n",
      "--------------------------------------------------\n",
      "🔄 Training Phase...\n"
     ]
    },
    {
     "name": "stderr",
     "output_type": "stream",
     "text": [
      "Training: 100%|██████████████████████████████| 48/48 [00:17<00:00,  2.78it/s, Loss=0.0209, Acc=0.9993]\n"
     ]
    },
    {
     "name": "stdout",
     "output_type": "stream",
     "text": [
      "✅ Training completed in 17.29s\n",
      "🔍 Validation Phase...\n"
     ]
    },
    {
     "name": "stderr",
     "output_type": "stream",
     "text": [
      "Validation: 100%|██████████████████████████████| 13/13 [00:02<00:00,  4.54it/s, Loss=0.6595, Acc=0.8125]\n"
     ]
    },
    {
     "name": "stdout",
     "output_type": "stream",
     "text": [
      "✅ Validation completed in 2.86s\n",
      "🌟 New best model found! Validation Loss: 0.6595\n",
      "\n",
      "📊 Epoch 7 Summary:\n",
      "│ Train Loss: 0.0209 | Train Acc: 0.9993\n",
      "│ Val Loss:   0.6595 | Val Acc:   0.8125\n",
      "│ Train Time: 17.29s | Val Time: 2.86s\n",
      "│ Total Epoch Time: 20.16s\n",
      "│ Best Val Loss: 0.6595 (Epoch 7)\n",
      "│ GPU Memory: 0.1GB / 3.2GB\n",
      "================================================================================\n",
      "\n",
      "📈 Epoch 8/50\n",
      "--------------------------------------------------\n",
      "🔄 Training Phase...\n"
     ]
    },
    {
     "name": "stderr",
     "output_type": "stream",
     "text": [
      "Training: 100%|██████████████████████████████| 48/48 [00:17<00:00,  2.73it/s, Loss=0.0144, Acc=0.9993]\n"
     ]
    },
    {
     "name": "stdout",
     "output_type": "stream",
     "text": [
      "✅ Training completed in 17.56s\n",
      "🔍 Validation Phase...\n"
     ]
    },
    {
     "name": "stderr",
     "output_type": "stream",
     "text": [
      "Validation: 100%|██████████████████████████████| 13/13 [00:02<00:00,  4.45it/s, Loss=0.6532, Acc=0.8149]\n"
     ]
    },
    {
     "name": "stdout",
     "output_type": "stream",
     "text": [
      "✅ Validation completed in 2.92s\n",
      "🌟 New best model found! Validation Loss: 0.6532\n",
      "\n",
      "📊 Epoch 8 Summary:\n",
      "│ Train Loss: 0.0144 | Train Acc: 0.9993\n",
      "│ Val Loss:   0.6532 | Val Acc:   0.8149\n",
      "│ Train Time: 17.56s | Val Time: 2.92s\n",
      "│ Total Epoch Time: 20.49s\n",
      "│ Best Val Loss: 0.6532 (Epoch 8)\n",
      "│ GPU Memory: 0.1GB / 3.2GB\n",
      "================================================================================\n",
      "\n",
      "📈 Epoch 9/50\n",
      "--------------------------------------------------\n",
      "🔄 Training Phase...\n"
     ]
    },
    {
     "name": "stderr",
     "output_type": "stream",
     "text": [
      "Training: 100%|██████████████████████████████| 48/48 [00:17<00:00,  2.76it/s, Loss=0.0169, Acc=0.9974]\n"
     ]
    },
    {
     "name": "stdout",
     "output_type": "stream",
     "text": [
      "✅ Training completed in 17.38s\n",
      "🔍 Validation Phase...\n"
     ]
    },
    {
     "name": "stderr",
     "output_type": "stream",
     "text": [
      "Validation: 100%|██████████████████████████████| 13/13 [00:02<00:00,  4.59it/s, Loss=0.6985, Acc=0.8125]\n"
     ]
    },
    {
     "name": "stdout",
     "output_type": "stream",
     "text": [
      "✅ Validation completed in 2.84s\n",
      "\n",
      "📊 Epoch 9 Summary:\n",
      "│ Train Loss: 0.0169 | Train Acc: 0.9974\n",
      "│ Val Loss:   0.6985 | Val Acc:   0.8125\n",
      "│ Train Time: 17.38s | Val Time: 2.84s\n",
      "│ Total Epoch Time: 20.22s\n",
      "│ Best Val Loss: 0.6532 (Epoch 8)\n",
      "│ GPU Memory: 0.1GB / 3.2GB\n",
      "================================================================================\n",
      "\n",
      "📈 Epoch 10/50\n",
      "--------------------------------------------------\n",
      "🔄 Training Phase...\n"
     ]
    },
    {
     "name": "stderr",
     "output_type": "stream",
     "text": [
      "Training: 100%|██████████████████████████████| 48/48 [00:17<00:00,  2.73it/s, Loss=0.0197, Acc=0.9967]\n"
     ]
    },
    {
     "name": "stdout",
     "output_type": "stream",
     "text": [
      "✅ Training completed in 17.61s\n",
      "🔍 Validation Phase...\n"
     ]
    },
    {
     "name": "stderr",
     "output_type": "stream",
     "text": [
      "Validation: 100%|██████████████████████████████| 13/13 [00:02<00:00,  4.47it/s, Loss=0.6935, Acc=0.8173]\n"
     ]
    },
    {
     "name": "stdout",
     "output_type": "stream",
     "text": [
      "✅ Validation completed in 2.91s\n",
      "\n",
      "📊 Epoch 10 Summary:\n",
      "│ Train Loss: 0.0197 | Train Acc: 0.9967\n",
      "│ Val Loss:   0.6935 | Val Acc:   0.8173\n",
      "│ Train Time: 17.61s | Val Time: 2.91s\n",
      "│ Total Epoch Time: 20.53s\n",
      "│ Best Val Loss: 0.6532 (Epoch 8)\n",
      "│ GPU Memory: 0.1GB / 3.2GB\n",
      "================================================================================\n",
      "\n",
      "📈 Epoch 11/50\n",
      "--------------------------------------------------\n",
      "🔄 Training Phase...\n"
     ]
    },
    {
     "name": "stderr",
     "output_type": "stream",
     "text": [
      "Training: 100%|██████████████████████████████| 48/48 [00:17<00:00,  2.72it/s, Loss=0.0079, Acc=1.0000]\n"
     ]
    },
    {
     "name": "stdout",
     "output_type": "stream",
     "text": [
      "✅ Training completed in 17.67s\n",
      "🔍 Validation Phase...\n"
     ]
    },
    {
     "name": "stderr",
     "output_type": "stream",
     "text": [
      "Validation: 100%|██████████████████████████████| 13/13 [00:02<00:00,  4.40it/s, Loss=0.7105, Acc=0.8101]\n"
     ]
    },
    {
     "name": "stdout",
     "output_type": "stream",
     "text": [
      "✅ Validation completed in 2.96s\n",
      "\n",
      "📊 Epoch 11 Summary:\n",
      "│ Train Loss: 0.0079 | Train Acc: 1.0000\n",
      "│ Val Loss:   0.7105 | Val Acc:   0.8101\n",
      "│ Train Time: 17.67s | Val Time: 2.96s\n",
      "│ Total Epoch Time: 20.63s\n",
      "│ Best Val Loss: 0.6532 (Epoch 8)\n",
      "│ GPU Memory: 0.1GB / 3.2GB\n",
      "================================================================================\n",
      "\n",
      "📈 Epoch 12/50\n",
      "--------------------------------------------------\n",
      "🔄 Training Phase...\n"
     ]
    },
    {
     "name": "stderr",
     "output_type": "stream",
     "text": [
      "Training: 100%|██████████████████████████████| 48/48 [00:17<00:00,  2.75it/s, Loss=0.0087, Acc=0.9993]\n"
     ]
    },
    {
     "name": "stdout",
     "output_type": "stream",
     "text": [
      "✅ Training completed in 17.48s\n",
      "🔍 Validation Phase...\n"
     ]
    },
    {
     "name": "stderr",
     "output_type": "stream",
     "text": [
      "Validation: 100%|██████████████████████████████| 13/13 [00:02<00:00,  4.67it/s, Loss=0.7415, Acc=0.8053]\n"
     ]
    },
    {
     "name": "stdout",
     "output_type": "stream",
     "text": [
      "✅ Validation completed in 2.79s\n",
      "\n",
      "📊 Epoch 12 Summary:\n",
      "│ Train Loss: 0.0087 | Train Acc: 0.9993\n",
      "│ Val Loss:   0.7415 | Val Acc:   0.8053\n",
      "│ Train Time: 17.48s | Val Time: 2.79s\n",
      "│ Total Epoch Time: 20.27s\n",
      "│ Best Val Loss: 0.6532 (Epoch 8)\n",
      "│ GPU Memory: 0.1GB / 3.2GB\n",
      "================================================================================\n",
      "\n",
      "📈 Epoch 13/50\n",
      "--------------------------------------------------\n",
      "🔄 Training Phase...\n"
     ]
    },
    {
     "name": "stderr",
     "output_type": "stream",
     "text": [
      "Training: 100%|██████████████████████████████| 48/48 [00:17<00:00,  2.74it/s, Loss=0.0088, Acc=0.9987]\n"
     ]
    },
    {
     "name": "stdout",
     "output_type": "stream",
     "text": [
      "✅ Training completed in 17.49s\n",
      "🔍 Validation Phase...\n"
     ]
    },
    {
     "name": "stderr",
     "output_type": "stream",
     "text": [
      "Validation: 100%|██████████████████████████████| 13/13 [00:02<00:00,  4.68it/s, Loss=0.7431, Acc=0.8149]\n"
     ]
    },
    {
     "name": "stdout",
     "output_type": "stream",
     "text": [
      "✅ Validation completed in 2.78s\n",
      "\n",
      "📊 Epoch 13 Summary:\n",
      "│ Train Loss: 0.0088 | Train Acc: 0.9987\n",
      "│ Val Loss:   0.7431 | Val Acc:   0.8149\n",
      "│ Train Time: 17.49s | Val Time: 2.78s\n",
      "│ Total Epoch Time: 20.28s\n",
      "│ Best Val Loss: 0.6532 (Epoch 8)\n",
      "│ GPU Memory: 0.1GB / 3.2GB\n",
      "================================================================================\n",
      "\n",
      "📈 Epoch 14/50\n",
      "--------------------------------------------------\n",
      "🔄 Training Phase...\n"
     ]
    },
    {
     "name": "stderr",
     "output_type": "stream",
     "text": [
      "Training: 100%|██████████████████████████████| 48/48 [00:17<00:00,  2.72it/s, Loss=0.0073, Acc=0.9993]\n"
     ]
    },
    {
     "name": "stdout",
     "output_type": "stream",
     "text": [
      "✅ Training completed in 17.68s\n",
      "🔍 Validation Phase...\n"
     ]
    },
    {
     "name": "stderr",
     "output_type": "stream",
     "text": [
      "Validation: 100%|██████████████████████████████| 13/13 [00:02<00:00,  4.50it/s, Loss=0.7139, Acc=0.8245]\n"
     ]
    },
    {
     "name": "stdout",
     "output_type": "stream",
     "text": [
      "✅ Validation completed in 2.89s\n",
      "\n",
      "📊 Epoch 14 Summary:\n",
      "│ Train Loss: 0.0073 | Train Acc: 0.9993\n",
      "│ Val Loss:   0.7139 | Val Acc:   0.8245\n",
      "│ Train Time: 17.68s | Val Time: 2.89s\n",
      "│ Total Epoch Time: 20.57s\n",
      "│ Best Val Loss: 0.6532 (Epoch 8)\n",
      "│ GPU Memory: 0.1GB / 3.2GB\n",
      "================================================================================\n",
      "\n",
      "📈 Epoch 15/50\n",
      "--------------------------------------------------\n",
      "🔄 Training Phase...\n"
     ]
    },
    {
     "name": "stderr",
     "output_type": "stream",
     "text": [
      "Training: 100%|██████████████████████████████| 48/48 [00:17<00:00,  2.74it/s, Loss=0.0064, Acc=0.9993]\n"
     ]
    },
    {
     "name": "stdout",
     "output_type": "stream",
     "text": [
      "✅ Training completed in 17.54s\n",
      "🔍 Validation Phase...\n"
     ]
    },
    {
     "name": "stderr",
     "output_type": "stream",
     "text": [
      "Validation: 100%|██████████████████████████████| 13/13 [00:02<00:00,  4.60it/s, Loss=0.7630, Acc=0.8365]\n"
     ]
    },
    {
     "name": "stdout",
     "output_type": "stream",
     "text": [
      "✅ Validation completed in 2.83s\n",
      "\n",
      "📊 Epoch 15 Summary:\n",
      "│ Train Loss: 0.0064 | Train Acc: 0.9993\n",
      "│ Val Loss:   0.7630 | Val Acc:   0.8365\n",
      "│ Train Time: 17.54s | Val Time: 2.83s\n",
      "│ Total Epoch Time: 20.38s\n",
      "│ Best Val Loss: 0.6532 (Epoch 8)\n",
      "│ GPU Memory: 0.1GB / 3.2GB\n",
      "================================================================================\n",
      "\n",
      "📈 Epoch 16/50\n",
      "--------------------------------------------------\n",
      "🔄 Training Phase...\n"
     ]
    },
    {
     "name": "stderr",
     "output_type": "stream",
     "text": [
      "Training: 100%|██████████████████████████████| 48/48 [00:17<00:00,  2.74it/s, Loss=0.0074, Acc=0.9987]\n"
     ]
    },
    {
     "name": "stdout",
     "output_type": "stream",
     "text": [
      "✅ Training completed in 17.50s\n",
      "🔍 Validation Phase...\n"
     ]
    },
    {
     "name": "stderr",
     "output_type": "stream",
     "text": [
      "Validation: 100%|██████████████████████████████| 13/13 [00:02<00:00,  4.68it/s, Loss=0.7556, Acc=0.8149]\n"
     ]
    },
    {
     "name": "stdout",
     "output_type": "stream",
     "text": [
      "✅ Validation completed in 2.78s\n",
      "\n",
      "📊 Epoch 16 Summary:\n",
      "│ Train Loss: 0.0074 | Train Acc: 0.9987\n",
      "│ Val Loss:   0.7556 | Val Acc:   0.8149\n",
      "│ Train Time: 17.50s | Val Time: 2.78s\n",
      "│ Total Epoch Time: 20.28s\n",
      "│ Best Val Loss: 0.6532 (Epoch 8)\n",
      "│ GPU Memory: 0.1GB / 3.2GB\n",
      "================================================================================\n",
      "\n",
      "📈 Epoch 17/50\n",
      "--------------------------------------------------\n",
      "🔄 Training Phase...\n"
     ]
    },
    {
     "name": "stderr",
     "output_type": "stream",
     "text": [
      "Training: 100%|██████████████████████████████| 48/48 [00:17<00:00,  2.72it/s, Loss=0.0136, Acc=0.9967]\n"
     ]
    },
    {
     "name": "stdout",
     "output_type": "stream",
     "text": [
      "✅ Training completed in 17.62s\n",
      "🔍 Validation Phase...\n"
     ]
    },
    {
     "name": "stderr",
     "output_type": "stream",
     "text": [
      "Validation: 100%|██████████████████████████████| 13/13 [00:02<00:00,  4.68it/s, Loss=0.8170, Acc=0.7837]\n"
     ]
    },
    {
     "name": "stdout",
     "output_type": "stream",
     "text": [
      "✅ Validation completed in 2.78s\n",
      "\n",
      "📊 Epoch 17 Summary:\n",
      "│ Train Loss: 0.0136 | Train Acc: 0.9967\n",
      "│ Val Loss:   0.8170 | Val Acc:   0.7837\n",
      "│ Train Time: 17.62s | Val Time: 2.78s\n",
      "│ Total Epoch Time: 20.41s\n",
      "│ Best Val Loss: 0.6532 (Epoch 8)\n",
      "│ GPU Memory: 0.1GB / 3.2GB\n",
      "================================================================================\n",
      "\n",
      "📈 Epoch 18/50\n",
      "--------------------------------------------------\n",
      "🔄 Training Phase...\n"
     ]
    },
    {
     "name": "stderr",
     "output_type": "stream",
     "text": [
      "Training: 100%|██████████████████████████████| 48/48 [00:17<00:00,  2.76it/s, Loss=0.0068, Acc=0.9993]\n"
     ]
    },
    {
     "name": "stdout",
     "output_type": "stream",
     "text": [
      "✅ Training completed in 17.41s\n",
      "🔍 Validation Phase...\n"
     ]
    },
    {
     "name": "stderr",
     "output_type": "stream",
     "text": [
      "Validation: 100%|██████████████████████████████| 13/13 [00:02<00:00,  4.60it/s, Loss=0.7738, Acc=0.8269]\n"
     ]
    },
    {
     "name": "stdout",
     "output_type": "stream",
     "text": [
      "✅ Validation completed in 2.83s\n",
      "\n",
      "📊 Epoch 18 Summary:\n",
      "│ Train Loss: 0.0068 | Train Acc: 0.9993\n",
      "│ Val Loss:   0.7738 | Val Acc:   0.8269\n",
      "│ Train Time: 17.41s | Val Time: 2.83s\n",
      "│ Total Epoch Time: 20.24s\n",
      "│ Best Val Loss: 0.6532 (Epoch 8)\n",
      "│ GPU Memory: 0.1GB / 3.2GB\n",
      "================================================================================\n",
      "\n",
      "📈 Epoch 19/50\n",
      "--------------------------------------------------\n",
      "🔄 Training Phase...\n"
     ]
    },
    {
     "name": "stderr",
     "output_type": "stream",
     "text": [
      "Training: 100%|██████████████████████████████| 48/48 [00:17<00:00,  2.75it/s, Loss=0.0190, Acc=0.9961]\n"
     ]
    },
    {
     "name": "stdout",
     "output_type": "stream",
     "text": [
      "✅ Training completed in 17.46s\n",
      "🔍 Validation Phase...\n"
     ]
    },
    {
     "name": "stderr",
     "output_type": "stream",
     "text": [
      "Validation: 100%|██████████████████████████████| 13/13 [00:02<00:00,  4.59it/s, Loss=0.7441, Acc=0.8101]\n"
     ]
    },
    {
     "name": "stdout",
     "output_type": "stream",
     "text": [
      "✅ Validation completed in 2.83s\n",
      "\n",
      "📊 Epoch 19 Summary:\n",
      "│ Train Loss: 0.0190 | Train Acc: 0.9961\n",
      "│ Val Loss:   0.7441 | Val Acc:   0.8101\n",
      "│ Train Time: 17.46s | Val Time: 2.83s\n",
      "│ Total Epoch Time: 20.29s\n",
      "│ Best Val Loss: 0.6532 (Epoch 8)\n",
      "│ GPU Memory: 0.1GB / 3.2GB\n",
      "================================================================================\n",
      "\n",
      "📈 Epoch 20/50\n",
      "--------------------------------------------------\n",
      "🔄 Training Phase...\n"
     ]
    },
    {
     "name": "stderr",
     "output_type": "stream",
     "text": [
      "Training: 100%|██████████████████████████████| 48/48 [00:17<00:00,  2.70it/s, Loss=0.0059, Acc=0.9987]\n"
     ]
    },
    {
     "name": "stdout",
     "output_type": "stream",
     "text": [
      "✅ Training completed in 17.81s\n",
      "🔍 Validation Phase...\n"
     ]
    },
    {
     "name": "stderr",
     "output_type": "stream",
     "text": [
      "Validation: 100%|██████████████████████████████| 13/13 [00:02<00:00,  4.62it/s, Loss=0.7560, Acc=0.8221]\n"
     ]
    },
    {
     "name": "stdout",
     "output_type": "stream",
     "text": [
      "✅ Validation completed in 2.82s\n",
      "\n",
      "📊 Epoch 20 Summary:\n",
      "│ Train Loss: 0.0059 | Train Acc: 0.9987\n",
      "│ Val Loss:   0.7560 | Val Acc:   0.8221\n",
      "│ Train Time: 17.81s | Val Time: 2.82s\n",
      "│ Total Epoch Time: 20.63s\n",
      "│ Best Val Loss: 0.6532 (Epoch 8)\n",
      "│ GPU Memory: 0.1GB / 3.2GB\n",
      "================================================================================\n",
      "\n",
      "📈 Epoch 21/50\n",
      "--------------------------------------------------\n",
      "🔄 Training Phase...\n"
     ]
    },
    {
     "name": "stderr",
     "output_type": "stream",
     "text": [
      "Training: 100%|██████████████████████████████| 48/48 [00:17<00:00,  2.74it/s, Loss=0.0027, Acc=1.0000]\n"
     ]
    },
    {
     "name": "stdout",
     "output_type": "stream",
     "text": [
      "✅ Training completed in 17.50s\n",
      "🔍 Validation Phase...\n"
     ]
    },
    {
     "name": "stderr",
     "output_type": "stream",
     "text": [
      "Validation: 100%|██████████████████████████████| 13/13 [00:02<00:00,  4.43it/s, Loss=0.8009, Acc=0.8269]\n"
     ]
    },
    {
     "name": "stdout",
     "output_type": "stream",
     "text": [
      "✅ Validation completed in 2.94s\n",
      "\n",
      "📊 Epoch 21 Summary:\n",
      "│ Train Loss: 0.0027 | Train Acc: 1.0000\n",
      "│ Val Loss:   0.8009 | Val Acc:   0.8269\n",
      "│ Train Time: 17.50s | Val Time: 2.94s\n",
      "│ Total Epoch Time: 20.45s\n",
      "│ Best Val Loss: 0.6532 (Epoch 8)\n",
      "│ GPU Memory: 0.1GB / 3.2GB\n",
      "================================================================================\n",
      "\n",
      "📈 Epoch 22/50\n",
      "--------------------------------------------------\n",
      "🔄 Training Phase...\n"
     ]
    },
    {
     "name": "stderr",
     "output_type": "stream",
     "text": [
      "Training: 100%|██████████████████████████████| 48/48 [00:17<00:00,  2.72it/s, Loss=0.0050, Acc=0.9993]\n"
     ]
    },
    {
     "name": "stdout",
     "output_type": "stream",
     "text": [
      "✅ Training completed in 17.66s\n",
      "🔍 Validation Phase...\n"
     ]
    },
    {
     "name": "stderr",
     "output_type": "stream",
     "text": [
      "Validation: 100%|██████████████████████████████| 13/13 [00:02<00:00,  4.42it/s, Loss=0.8073, Acc=0.8197]\n"
     ]
    },
    {
     "name": "stdout",
     "output_type": "stream",
     "text": [
      "✅ Validation completed in 2.94s\n",
      "\n",
      "📊 Epoch 22 Summary:\n",
      "│ Train Loss: 0.0050 | Train Acc: 0.9993\n",
      "│ Val Loss:   0.8073 | Val Acc:   0.8197\n",
      "│ Train Time: 17.66s | Val Time: 2.94s\n",
      "│ Total Epoch Time: 20.61s\n",
      "│ Best Val Loss: 0.6532 (Epoch 8)\n",
      "│ GPU Memory: 0.1GB / 3.2GB\n",
      "================================================================================\n",
      "\n",
      "📈 Epoch 23/50\n",
      "--------------------------------------------------\n",
      "🔄 Training Phase...\n"
     ]
    },
    {
     "name": "stderr",
     "output_type": "stream",
     "text": [
      "Training: 100%|██████████████████████████████| 48/48 [00:17<00:00,  2.70it/s, Loss=0.0027, Acc=1.0000]\n"
     ]
    },
    {
     "name": "stdout",
     "output_type": "stream",
     "text": [
      "✅ Training completed in 17.79s\n",
      "🔍 Validation Phase...\n"
     ]
    },
    {
     "name": "stderr",
     "output_type": "stream",
     "text": [
      "Validation: 100%|██████████████████████████████| 13/13 [00:02<00:00,  4.69it/s, Loss=0.7892, Acc=0.8245]\n"
     ]
    },
    {
     "name": "stdout",
     "output_type": "stream",
     "text": [
      "✅ Validation completed in 2.77s\n",
      "\n",
      "📊 Epoch 23 Summary:\n",
      "│ Train Loss: 0.0027 | Train Acc: 1.0000\n",
      "│ Val Loss:   0.7892 | Val Acc:   0.8245\n",
      "│ Train Time: 17.79s | Val Time: 2.77s\n",
      "│ Total Epoch Time: 20.57s\n",
      "│ Best Val Loss: 0.6532 (Epoch 8)\n",
      "│ GPU Memory: 0.1GB / 3.2GB\n",
      "================================================================================\n",
      "\n",
      "📈 Epoch 24/50\n",
      "--------------------------------------------------\n",
      "🔄 Training Phase...\n"
     ]
    },
    {
     "name": "stderr",
     "output_type": "stream",
     "text": [
      "Training: 100%|██████████████████████████████| 48/48 [00:17<00:00,  2.75it/s, Loss=0.0035, Acc=1.0000]\n"
     ]
    },
    {
     "name": "stdout",
     "output_type": "stream",
     "text": [
      "✅ Training completed in 17.43s\n",
      "🔍 Validation Phase...\n"
     ]
    },
    {
     "name": "stderr",
     "output_type": "stream",
     "text": [
      "Validation: 100%|██████████████████████████████| 13/13 [00:02<00:00,  4.64it/s, Loss=0.7849, Acc=0.8365]\n"
     ]
    },
    {
     "name": "stdout",
     "output_type": "stream",
     "text": [
      "✅ Validation completed in 2.80s\n",
      "\n",
      "📊 Epoch 24 Summary:\n",
      "│ Train Loss: 0.0035 | Train Acc: 1.0000\n",
      "│ Val Loss:   0.7849 | Val Acc:   0.8365\n",
      "│ Train Time: 17.43s | Val Time: 2.80s\n",
      "│ Total Epoch Time: 20.24s\n",
      "│ Best Val Loss: 0.6532 (Epoch 8)\n",
      "│ GPU Memory: 0.1GB / 3.2GB\n",
      "================================================================================\n",
      "\n",
      "📈 Epoch 25/50\n",
      "--------------------------------------------------\n",
      "🔄 Training Phase...\n"
     ]
    },
    {
     "name": "stderr",
     "output_type": "stream",
     "text": [
      "Training: 100%|██████████████████████████████| 48/48 [00:17<00:00,  2.77it/s, Loss=0.0021, Acc=1.0000]\n"
     ]
    },
    {
     "name": "stdout",
     "output_type": "stream",
     "text": [
      "✅ Training completed in 17.32s\n",
      "🔍 Validation Phase...\n"
     ]
    },
    {
     "name": "stderr",
     "output_type": "stream",
     "text": [
      "Validation: 100%|██████████████████████████████| 13/13 [00:02<00:00,  4.63it/s, Loss=0.8047, Acc=0.8317]\n"
     ]
    },
    {
     "name": "stdout",
     "output_type": "stream",
     "text": [
      "✅ Validation completed in 2.81s\n",
      "\n",
      "📊 Epoch 25 Summary:\n",
      "│ Train Loss: 0.0021 | Train Acc: 1.0000\n",
      "│ Val Loss:   0.8047 | Val Acc:   0.8317\n",
      "│ Train Time: 17.32s | Val Time: 2.81s\n",
      "│ Total Epoch Time: 20.13s\n",
      "│ Best Val Loss: 0.6532 (Epoch 8)\n",
      "│ GPU Memory: 0.1GB / 3.2GB\n",
      "================================================================================\n",
      "\n",
      "📈 Epoch 26/50\n",
      "--------------------------------------------------\n",
      "🔄 Training Phase...\n"
     ]
    },
    {
     "name": "stderr",
     "output_type": "stream",
     "text": [
      "Training: 100%|██████████████████████████████| 48/48 [00:17<00:00,  2.75it/s, Loss=0.0071, Acc=0.9987]\n"
     ]
    },
    {
     "name": "stdout",
     "output_type": "stream",
     "text": [
      "✅ Training completed in 17.47s\n",
      "🔍 Validation Phase...\n"
     ]
    },
    {
     "name": "stderr",
     "output_type": "stream",
     "text": [
      "Validation: 100%|██████████████████████████████| 13/13 [00:02<00:00,  4.67it/s, Loss=0.8250, Acc=0.8029]\n"
     ]
    },
    {
     "name": "stdout",
     "output_type": "stream",
     "text": [
      "✅ Validation completed in 2.79s\n",
      "\n",
      "📊 Epoch 26 Summary:\n",
      "│ Train Loss: 0.0071 | Train Acc: 0.9987\n",
      "│ Val Loss:   0.8250 | Val Acc:   0.8029\n",
      "│ Train Time: 17.47s | Val Time: 2.79s\n",
      "│ Total Epoch Time: 20.26s\n",
      "│ Best Val Loss: 0.6532 (Epoch 8)\n",
      "│ GPU Memory: 0.1GB / 3.2GB\n",
      "================================================================================\n",
      "\n",
      "📈 Epoch 27/50\n",
      "--------------------------------------------------\n",
      "🔄 Training Phase...\n"
     ]
    },
    {
     "name": "stderr",
     "output_type": "stream",
     "text": [
      "Training: 100%|██████████████████████████████| 48/48 [00:17<00:00,  2.76it/s, Loss=0.0098, Acc=0.9980]\n"
     ]
    },
    {
     "name": "stdout",
     "output_type": "stream",
     "text": [
      "✅ Training completed in 17.40s\n",
      "🔍 Validation Phase...\n"
     ]
    },
    {
     "name": "stderr",
     "output_type": "stream",
     "text": [
      "Validation: 100%|██████████████████████████████| 13/13 [00:02<00:00,  4.57it/s, Loss=0.8570, Acc=0.7957]\n"
     ]
    },
    {
     "name": "stdout",
     "output_type": "stream",
     "text": [
      "✅ Validation completed in 2.85s\n",
      "\n",
      "📊 Epoch 27 Summary:\n",
      "│ Train Loss: 0.0098 | Train Acc: 0.9980\n",
      "│ Val Loss:   0.8570 | Val Acc:   0.7957\n",
      "│ Train Time: 17.40s | Val Time: 2.85s\n",
      "│ Total Epoch Time: 20.25s\n",
      "│ Best Val Loss: 0.6532 (Epoch 8)\n",
      "│ GPU Memory: 0.1GB / 3.2GB\n",
      "================================================================================\n",
      "\n",
      "📈 Epoch 28/50\n",
      "--------------------------------------------------\n",
      "🔄 Training Phase...\n"
     ]
    },
    {
     "name": "stderr",
     "output_type": "stream",
     "text": [
      "Training: 100%|██████████████████████████████| 48/48 [00:17<00:00,  2.74it/s, Loss=0.0023, Acc=1.0000]\n"
     ]
    },
    {
     "name": "stdout",
     "output_type": "stream",
     "text": [
      "✅ Training completed in 17.54s\n",
      "🔍 Validation Phase...\n"
     ]
    },
    {
     "name": "stderr",
     "output_type": "stream",
     "text": [
      "Validation: 100%|██████████████████████████████| 13/13 [00:02<00:00,  4.53it/s, Loss=0.8573, Acc=0.8149]\n"
     ]
    },
    {
     "name": "stdout",
     "output_type": "stream",
     "text": [
      "✅ Validation completed in 2.87s\n",
      "\n",
      "📊 Epoch 28 Summary:\n",
      "│ Train Loss: 0.0023 | Train Acc: 1.0000\n",
      "│ Val Loss:   0.8573 | Val Acc:   0.8149\n",
      "│ Train Time: 17.54s | Val Time: 2.87s\n",
      "│ Total Epoch Time: 20.41s\n",
      "│ Best Val Loss: 0.6532 (Epoch 8)\n",
      "│ GPU Memory: 0.1GB / 3.2GB\n",
      "================================================================================\n",
      "\n",
      "📈 Epoch 29/50\n",
      "--------------------------------------------------\n",
      "🔄 Training Phase...\n"
     ]
    },
    {
     "name": "stderr",
     "output_type": "stream",
     "text": [
      "Training: 100%|██████████████████████████████| 48/48 [00:17<00:00,  2.72it/s, Loss=0.0036, Acc=0.9987]\n"
     ]
    },
    {
     "name": "stdout",
     "output_type": "stream",
     "text": [
      "✅ Training completed in 17.65s\n",
      "🔍 Validation Phase...\n"
     ]
    },
    {
     "name": "stderr",
     "output_type": "stream",
     "text": [
      "Validation: 100%|██████████████████████████████| 13/13 [00:02<00:00,  4.54it/s, Loss=0.8531, Acc=0.8317]\n"
     ]
    },
    {
     "name": "stdout",
     "output_type": "stream",
     "text": [
      "✅ Validation completed in 2.87s\n",
      "\n",
      "📊 Epoch 29 Summary:\n",
      "│ Train Loss: 0.0036 | Train Acc: 0.9987\n",
      "│ Val Loss:   0.8531 | Val Acc:   0.8317\n",
      "│ Train Time: 17.65s | Val Time: 2.87s\n",
      "│ Total Epoch Time: 20.52s\n",
      "│ Best Val Loss: 0.6532 (Epoch 8)\n",
      "│ GPU Memory: 0.1GB / 3.2GB\n",
      "================================================================================\n",
      "\n",
      "📈 Epoch 30/50\n",
      "--------------------------------------------------\n",
      "🔄 Training Phase...\n"
     ]
    },
    {
     "name": "stderr",
     "output_type": "stream",
     "text": [
      "Training: 100%|██████████████████████████████| 48/48 [00:17<00:00,  2.72it/s, Loss=0.0021, Acc=0.9993]\n"
     ]
    },
    {
     "name": "stdout",
     "output_type": "stream",
     "text": [
      "✅ Training completed in 17.64s\n",
      "🔍 Validation Phase...\n"
     ]
    },
    {
     "name": "stderr",
     "output_type": "stream",
     "text": [
      "Validation: 100%|██████████████████████████████| 13/13 [00:02<00:00,  4.59it/s, Loss=0.8388, Acc=0.8293]\n"
     ]
    },
    {
     "name": "stdout",
     "output_type": "stream",
     "text": [
      "✅ Validation completed in 2.83s\n",
      "\n",
      "📊 Epoch 30 Summary:\n",
      "│ Train Loss: 0.0021 | Train Acc: 0.9993\n",
      "│ Val Loss:   0.8388 | Val Acc:   0.8293\n",
      "│ Train Time: 17.64s | Val Time: 2.83s\n",
      "│ Total Epoch Time: 20.48s\n",
      "│ Best Val Loss: 0.6532 (Epoch 8)\n",
      "│ GPU Memory: 0.1GB / 3.2GB\n",
      "================================================================================\n",
      "\n",
      "📈 Epoch 31/50\n",
      "--------------------------------------------------\n",
      "🔄 Training Phase...\n"
     ]
    },
    {
     "name": "stderr",
     "output_type": "stream",
     "text": [
      "Training: 100%|██████████████████████████████| 48/48 [00:17<00:00,  2.72it/s, Loss=0.0014, Acc=1.0000]\n"
     ]
    },
    {
     "name": "stdout",
     "output_type": "stream",
     "text": [
      "✅ Training completed in 17.65s\n",
      "🔍 Validation Phase...\n"
     ]
    },
    {
     "name": "stderr",
     "output_type": "stream",
     "text": [
      "Validation: 100%|██████████████████████████████| 13/13 [00:02<00:00,  4.37it/s, Loss=0.8685, Acc=0.8221]\n"
     ]
    },
    {
     "name": "stdout",
     "output_type": "stream",
     "text": [
      "✅ Validation completed in 2.98s\n",
      "\n",
      "📊 Epoch 31 Summary:\n",
      "│ Train Loss: 0.0014 | Train Acc: 1.0000\n",
      "│ Val Loss:   0.8685 | Val Acc:   0.8221\n",
      "│ Train Time: 17.65s | Val Time: 2.98s\n",
      "│ Total Epoch Time: 20.63s\n",
      "│ Best Val Loss: 0.6532 (Epoch 8)\n",
      "│ GPU Memory: 0.1GB / 3.2GB\n",
      "================================================================================\n",
      "\n",
      "📈 Epoch 32/50\n",
      "--------------------------------------------------\n",
      "🔄 Training Phase...\n"
     ]
    },
    {
     "name": "stderr",
     "output_type": "stream",
     "text": [
      "Training: 100%|██████████████████████████████| 48/48 [00:17<00:00,  2.69it/s, Loss=0.0022, Acc=1.0000]\n"
     ]
    },
    {
     "name": "stdout",
     "output_type": "stream",
     "text": [
      "✅ Training completed in 17.85s\n",
      "🔍 Validation Phase...\n"
     ]
    },
    {
     "name": "stderr",
     "output_type": "stream",
     "text": [
      "Validation: 100%|██████████████████████████████| 13/13 [00:02<00:00,  4.55it/s, Loss=0.8579, Acc=0.8149]\n"
     ]
    },
    {
     "name": "stdout",
     "output_type": "stream",
     "text": [
      "✅ Validation completed in 2.86s\n",
      "\n",
      "📊 Epoch 32 Summary:\n",
      "│ Train Loss: 0.0022 | Train Acc: 1.0000\n",
      "│ Val Loss:   0.8579 | Val Acc:   0.8149\n",
      "│ Train Time: 17.85s | Val Time: 2.86s\n",
      "│ Total Epoch Time: 20.72s\n",
      "│ Best Val Loss: 0.6532 (Epoch 8)\n",
      "│ GPU Memory: 0.1GB / 3.2GB\n",
      "================================================================================\n",
      "\n",
      "📈 Epoch 33/50\n",
      "--------------------------------------------------\n",
      "🔄 Training Phase...\n"
     ]
    },
    {
     "name": "stderr",
     "output_type": "stream",
     "text": [
      "Training: 100%|██████████████████████████████| 48/48 [00:17<00:00,  2.74it/s, Loss=0.0059, Acc=0.9987]\n"
     ]
    },
    {
     "name": "stdout",
     "output_type": "stream",
     "text": [
      "✅ Training completed in 17.54s\n",
      "🔍 Validation Phase...\n"
     ]
    },
    {
     "name": "stderr",
     "output_type": "stream",
     "text": [
      "Validation: 100%|██████████████████████████████| 13/13 [00:02<00:00,  4.50it/s, Loss=0.8638, Acc=0.7957]\n"
     ]
    },
    {
     "name": "stdout",
     "output_type": "stream",
     "text": [
      "✅ Validation completed in 2.89s\n",
      "\n",
      "📊 Epoch 33 Summary:\n",
      "│ Train Loss: 0.0059 | Train Acc: 0.9987\n",
      "│ Val Loss:   0.8638 | Val Acc:   0.7957\n",
      "│ Train Time: 17.54s | Val Time: 2.89s\n",
      "│ Total Epoch Time: 20.43s\n",
      "│ Best Val Loss: 0.6532 (Epoch 8)\n",
      "│ GPU Memory: 0.1GB / 3.2GB\n",
      "================================================================================\n",
      "\n",
      "📈 Epoch 34/50\n",
      "--------------------------------------------------\n",
      "🔄 Training Phase...\n"
     ]
    },
    {
     "name": "stderr",
     "output_type": "stream",
     "text": [
      "Training: 100%|██████████████████████████████| 48/48 [00:17<00:00,  2.76it/s, Loss=0.0017, Acc=0.9993]\n"
     ]
    },
    {
     "name": "stdout",
     "output_type": "stream",
     "text": [
      "✅ Training completed in 17.42s\n",
      "🔍 Validation Phase...\n"
     ]
    },
    {
     "name": "stderr",
     "output_type": "stream",
     "text": [
      "Validation: 100%|██████████████████████████████| 13/13 [00:02<00:00,  4.47it/s, Loss=0.8259, Acc=0.7957]\n"
     ]
    },
    {
     "name": "stdout",
     "output_type": "stream",
     "text": [
      "✅ Validation completed in 2.91s\n",
      "\n",
      "📊 Epoch 34 Summary:\n",
      "│ Train Loss: 0.0017 | Train Acc: 0.9993\n",
      "│ Val Loss:   0.8259 | Val Acc:   0.7957\n",
      "│ Train Time: 17.42s | Val Time: 2.91s\n",
      "│ Total Epoch Time: 20.34s\n",
      "│ Best Val Loss: 0.6532 (Epoch 8)\n",
      "│ GPU Memory: 0.1GB / 3.2GB\n",
      "================================================================================\n",
      "\n",
      "📈 Epoch 35/50\n",
      "--------------------------------------------------\n",
      "🔄 Training Phase...\n"
     ]
    },
    {
     "name": "stderr",
     "output_type": "stream",
     "text": [
      "Training: 100%|██████████████████████████████| 48/48 [00:17<00:00,  2.70it/s, Loss=0.0022, Acc=0.9993]\n"
     ]
    },
    {
     "name": "stdout",
     "output_type": "stream",
     "text": [
      "✅ Training completed in 17.76s\n",
      "🔍 Validation Phase...\n"
     ]
    },
    {
     "name": "stderr",
     "output_type": "stream",
     "text": [
      "Validation: 100%|██████████████████████████████| 13/13 [00:02<00:00,  4.53it/s, Loss=0.8186, Acc=0.8125]\n"
     ]
    },
    {
     "name": "stdout",
     "output_type": "stream",
     "text": [
      "✅ Validation completed in 2.87s\n",
      "\n",
      "📊 Epoch 35 Summary:\n",
      "│ Train Loss: 0.0022 | Train Acc: 0.9993\n",
      "│ Val Loss:   0.8186 | Val Acc:   0.8125\n",
      "│ Train Time: 17.76s | Val Time: 2.87s\n",
      "│ Total Epoch Time: 20.64s\n",
      "│ Best Val Loss: 0.6532 (Epoch 8)\n",
      "│ GPU Memory: 0.1GB / 3.2GB\n",
      "================================================================================\n",
      "\n",
      "📈 Epoch 36/50\n",
      "--------------------------------------------------\n",
      "🔄 Training Phase...\n"
     ]
    },
    {
     "name": "stderr",
     "output_type": "stream",
     "text": [
      "Training: 100%|██████████████████████████████| 48/48 [00:17<00:00,  2.70it/s, Loss=0.0021, Acc=0.9993]\n"
     ]
    },
    {
     "name": "stdout",
     "output_type": "stream",
     "text": [
      "✅ Training completed in 17.75s\n",
      "🔍 Validation Phase...\n"
     ]
    },
    {
     "name": "stderr",
     "output_type": "stream",
     "text": [
      "Validation: 100%|██████████████████████████████| 13/13 [00:02<00:00,  4.62it/s, Loss=0.8222, Acc=0.8173]\n"
     ]
    },
    {
     "name": "stdout",
     "output_type": "stream",
     "text": [
      "✅ Validation completed in 2.82s\n",
      "\n",
      "📊 Epoch 36 Summary:\n",
      "│ Train Loss: 0.0021 | Train Acc: 0.9993\n",
      "│ Val Loss:   0.8222 | Val Acc:   0.8173\n",
      "│ Train Time: 17.75s | Val Time: 2.82s\n",
      "│ Total Epoch Time: 20.57s\n",
      "│ Best Val Loss: 0.6532 (Epoch 8)\n",
      "│ GPU Memory: 0.1GB / 3.2GB\n",
      "================================================================================\n",
      "\n",
      "📈 Epoch 37/50\n",
      "--------------------------------------------------\n",
      "🔄 Training Phase...\n"
     ]
    },
    {
     "name": "stderr",
     "output_type": "stream",
     "text": [
      "Training: 100%|██████████████████████████████| 48/48 [00:17<00:00,  2.73it/s, Loss=0.0011, Acc=1.0000]\n"
     ]
    },
    {
     "name": "stdout",
     "output_type": "stream",
     "text": [
      "✅ Training completed in 17.60s\n",
      "🔍 Validation Phase...\n"
     ]
    },
    {
     "name": "stderr",
     "output_type": "stream",
     "text": [
      "Validation: 100%|██████████████████████████████| 13/13 [00:02<00:00,  4.61it/s, Loss=0.8546, Acc=0.8077]\n"
     ]
    },
    {
     "name": "stdout",
     "output_type": "stream",
     "text": [
      "✅ Validation completed in 2.82s\n",
      "\n",
      "📊 Epoch 37 Summary:\n",
      "│ Train Loss: 0.0011 | Train Acc: 1.0000\n",
      "│ Val Loss:   0.8546 | Val Acc:   0.8077\n",
      "│ Train Time: 17.60s | Val Time: 2.82s\n",
      "│ Total Epoch Time: 20.43s\n",
      "│ Best Val Loss: 0.6532 (Epoch 8)\n",
      "│ GPU Memory: 0.1GB / 3.2GB\n",
      "================================================================================\n",
      "\n",
      "📈 Epoch 38/50\n",
      "--------------------------------------------------\n",
      "🔄 Training Phase...\n"
     ]
    },
    {
     "name": "stderr",
     "output_type": "stream",
     "text": [
      "Training: 100%|██████████████████████████████| 48/48 [00:17<00:00,  2.73it/s, Loss=0.0025, Acc=0.9993]\n"
     ]
    },
    {
     "name": "stdout",
     "output_type": "stream",
     "text": [
      "✅ Training completed in 17.56s\n",
      "🔍 Validation Phase...\n"
     ]
    },
    {
     "name": "stderr",
     "output_type": "stream",
     "text": [
      "Validation: 100%|██████████████████████████████| 13/13 [00:02<00:00,  4.66it/s, Loss=0.8241, Acc=0.8125]\n"
     ]
    },
    {
     "name": "stdout",
     "output_type": "stream",
     "text": [
      "✅ Validation completed in 2.79s\n",
      "\n",
      "📊 Epoch 38 Summary:\n",
      "│ Train Loss: 0.0025 | Train Acc: 0.9993\n",
      "│ Val Loss:   0.8241 | Val Acc:   0.8125\n",
      "│ Train Time: 17.56s | Val Time: 2.79s\n",
      "│ Total Epoch Time: 20.35s\n",
      "│ Best Val Loss: 0.6532 (Epoch 8)\n",
      "│ GPU Memory: 0.1GB / 3.2GB\n",
      "================================================================================\n",
      "\n",
      "📈 Epoch 39/50\n",
      "--------------------------------------------------\n",
      "🔄 Training Phase...\n"
     ]
    },
    {
     "name": "stderr",
     "output_type": "stream",
     "text": [
      "Training: 100%|██████████████████████████████| 48/48 [00:17<00:00,  2.75it/s, Loss=0.0023, Acc=1.0000]\n"
     ]
    },
    {
     "name": "stdout",
     "output_type": "stream",
     "text": [
      "✅ Training completed in 17.48s\n",
      "🔍 Validation Phase...\n"
     ]
    },
    {
     "name": "stderr",
     "output_type": "stream",
     "text": [
      "Validation: 100%|██████████████████████████████| 13/13 [00:02<00:00,  4.73it/s, Loss=0.8655, Acc=0.7764]\n"
     ]
    },
    {
     "name": "stdout",
     "output_type": "stream",
     "text": [
      "✅ Validation completed in 2.75s\n",
      "\n",
      "📊 Epoch 39 Summary:\n",
      "│ Train Loss: 0.0023 | Train Acc: 1.0000\n",
      "│ Val Loss:   0.8655 | Val Acc:   0.7764\n",
      "│ Train Time: 17.48s | Val Time: 2.75s\n",
      "│ Total Epoch Time: 20.23s\n",
      "│ Best Val Loss: 0.6532 (Epoch 8)\n",
      "│ GPU Memory: 0.1GB / 3.2GB\n",
      "================================================================================\n",
      "\n",
      "📈 Epoch 40/50\n",
      "--------------------------------------------------\n",
      "🔄 Training Phase...\n"
     ]
    },
    {
     "name": "stderr",
     "output_type": "stream",
     "text": [
      "Training: 100%|██████████████████████████████| 48/48 [00:17<00:00,  2.75it/s, Loss=0.0020, Acc=1.0000]\n"
     ]
    },
    {
     "name": "stdout",
     "output_type": "stream",
     "text": [
      "✅ Training completed in 17.47s\n",
      "🔍 Validation Phase...\n"
     ]
    },
    {
     "name": "stderr",
     "output_type": "stream",
     "text": [
      "Validation: 100%|██████████████████████████████| 13/13 [00:02<00:00,  4.61it/s, Loss=0.8156, Acc=0.8197]\n"
     ]
    },
    {
     "name": "stdout",
     "output_type": "stream",
     "text": [
      "✅ Validation completed in 2.82s\n",
      "\n",
      "📊 Epoch 40 Summary:\n",
      "│ Train Loss: 0.0020 | Train Acc: 1.0000\n",
      "│ Val Loss:   0.8156 | Val Acc:   0.8197\n",
      "│ Train Time: 17.47s | Val Time: 2.82s\n",
      "│ Total Epoch Time: 20.29s\n",
      "│ Best Val Loss: 0.6532 (Epoch 8)\n",
      "│ GPU Memory: 0.1GB / 3.2GB\n",
      "================================================================================\n",
      "\n",
      "📈 Epoch 41/50\n",
      "--------------------------------------------------\n",
      "🔄 Training Phase...\n"
     ]
    },
    {
     "name": "stderr",
     "output_type": "stream",
     "text": [
      "Training: 100%|██████████████████████████████| 48/48 [00:17<00:00,  2.75it/s, Loss=0.0012, Acc=1.0000]\n"
     ]
    },
    {
     "name": "stdout",
     "output_type": "stream",
     "text": [
      "✅ Training completed in 17.44s\n",
      "🔍 Validation Phase...\n"
     ]
    },
    {
     "name": "stderr",
     "output_type": "stream",
     "text": [
      "Validation: 100%|██████████████████████████████| 13/13 [00:02<00:00,  4.68it/s, Loss=0.8605, Acc=0.8197]\n"
     ]
    },
    {
     "name": "stdout",
     "output_type": "stream",
     "text": [
      "✅ Validation completed in 2.78s\n",
      "\n",
      "📊 Epoch 41 Summary:\n",
      "│ Train Loss: 0.0012 | Train Acc: 1.0000\n",
      "│ Val Loss:   0.8605 | Val Acc:   0.8197\n",
      "│ Train Time: 17.44s | Val Time: 2.78s\n",
      "│ Total Epoch Time: 20.23s\n",
      "│ Best Val Loss: 0.6532 (Epoch 8)\n",
      "│ GPU Memory: 0.1GB / 3.2GB\n",
      "================================================================================\n",
      "\n",
      "📈 Epoch 42/50\n",
      "--------------------------------------------------\n",
      "🔄 Training Phase...\n"
     ]
    },
    {
     "name": "stderr",
     "output_type": "stream",
     "text": [
      "Training: 100%|██████████████████████████████| 48/48 [00:17<00:00,  2.75it/s, Loss=0.0006, Acc=1.0000]\n"
     ]
    },
    {
     "name": "stdout",
     "output_type": "stream",
     "text": [
      "✅ Training completed in 17.46s\n",
      "🔍 Validation Phase...\n"
     ]
    },
    {
     "name": "stderr",
     "output_type": "stream",
     "text": [
      "Validation: 100%|██████████████████████████████| 13/13 [00:02<00:00,  4.66it/s, Loss=0.8285, Acc=0.8125]\n"
     ]
    },
    {
     "name": "stdout",
     "output_type": "stream",
     "text": [
      "✅ Validation completed in 2.79s\n",
      "\n",
      "📊 Epoch 42 Summary:\n",
      "│ Train Loss: 0.0006 | Train Acc: 1.0000\n",
      "│ Val Loss:   0.8285 | Val Acc:   0.8125\n",
      "│ Train Time: 17.46s | Val Time: 2.79s\n",
      "│ Total Epoch Time: 20.25s\n",
      "│ Best Val Loss: 0.6532 (Epoch 8)\n",
      "│ GPU Memory: 0.1GB / 3.2GB\n",
      "================================================================================\n",
      "\n",
      "📈 Epoch 43/50\n",
      "--------------------------------------------------\n",
      "🔄 Training Phase...\n"
     ]
    },
    {
     "name": "stderr",
     "output_type": "stream",
     "text": [
      "Training: 100%|██████████████████████████████| 48/48 [00:17<00:00,  2.72it/s, Loss=0.0008, Acc=1.0000]\n"
     ]
    },
    {
     "name": "stdout",
     "output_type": "stream",
     "text": [
      "✅ Training completed in 17.68s\n",
      "🔍 Validation Phase...\n"
     ]
    },
    {
     "name": "stderr",
     "output_type": "stream",
     "text": [
      "Validation: 100%|██████████████████████████████| 13/13 [00:02<00:00,  4.57it/s, Loss=0.8641, Acc=0.8125]\n"
     ]
    },
    {
     "name": "stdout",
     "output_type": "stream",
     "text": [
      "✅ Validation completed in 2.84s\n",
      "\n",
      "📊 Epoch 43 Summary:\n",
      "│ Train Loss: 0.0008 | Train Acc: 1.0000\n",
      "│ Val Loss:   0.8641 | Val Acc:   0.8125\n",
      "│ Train Time: 17.68s | Val Time: 2.84s\n",
      "│ Total Epoch Time: 20.53s\n",
      "│ Best Val Loss: 0.6532 (Epoch 8)\n",
      "│ GPU Memory: 0.1GB / 3.2GB\n",
      "================================================================================\n",
      "\n",
      "📈 Epoch 44/50\n",
      "--------------------------------------------------\n",
      "🔄 Training Phase...\n"
     ]
    },
    {
     "name": "stderr",
     "output_type": "stream",
     "text": [
      "Training: 100%|██████████████████████████████| 48/48 [00:17<00:00,  2.73it/s, Loss=0.0017, Acc=0.9993]\n"
     ]
    },
    {
     "name": "stdout",
     "output_type": "stream",
     "text": [
      "✅ Training completed in 17.61s\n",
      "🔍 Validation Phase...\n"
     ]
    },
    {
     "name": "stderr",
     "output_type": "stream",
     "text": [
      "Validation: 100%|██████████████████████████████| 13/13 [00:02<00:00,  4.70it/s, Loss=0.8236, Acc=0.8197]\n"
     ]
    },
    {
     "name": "stdout",
     "output_type": "stream",
     "text": [
      "✅ Validation completed in 2.77s\n",
      "\n",
      "📊 Epoch 44 Summary:\n",
      "│ Train Loss: 0.0017 | Train Acc: 0.9993\n",
      "│ Val Loss:   0.8236 | Val Acc:   0.8197\n",
      "│ Train Time: 17.61s | Val Time: 2.77s\n",
      "│ Total Epoch Time: 20.38s\n",
      "│ Best Val Loss: 0.6532 (Epoch 8)\n",
      "│ GPU Memory: 0.1GB / 3.2GB\n",
      "================================================================================\n",
      "\n",
      "📈 Epoch 45/50\n",
      "--------------------------------------------------\n",
      "🔄 Training Phase...\n"
     ]
    },
    {
     "name": "stderr",
     "output_type": "stream",
     "text": [
      "Training: 100%|██████████████████████████████| 48/48 [00:17<00:00,  2.74it/s, Loss=0.0023, Acc=0.9993]\n"
     ]
    },
    {
     "name": "stdout",
     "output_type": "stream",
     "text": [
      "✅ Training completed in 17.54s\n",
      "🔍 Validation Phase...\n"
     ]
    },
    {
     "name": "stderr",
     "output_type": "stream",
     "text": [
      "Validation: 100%|██████████████████████████████| 13/13 [00:02<00:00,  4.34it/s, Loss=0.9129, Acc=0.8125]\n"
     ]
    },
    {
     "name": "stdout",
     "output_type": "stream",
     "text": [
      "✅ Validation completed in 2.99s\n",
      "\n",
      "📊 Epoch 45 Summary:\n",
      "│ Train Loss: 0.0023 | Train Acc: 0.9993\n",
      "│ Val Loss:   0.9129 | Val Acc:   0.8125\n",
      "│ Train Time: 17.54s | Val Time: 2.99s\n",
      "│ Total Epoch Time: 20.53s\n",
      "│ Best Val Loss: 0.6532 (Epoch 8)\n",
      "│ GPU Memory: 0.1GB / 3.2GB\n",
      "================================================================================\n",
      "\n",
      "📈 Epoch 46/50\n",
      "--------------------------------------------------\n",
      "🔄 Training Phase...\n"
     ]
    },
    {
     "name": "stderr",
     "output_type": "stream",
     "text": [
      "Training: 100%|██████████████████████████████| 48/48 [00:17<00:00,  2.72it/s, Loss=0.0023, Acc=0.9993]\n"
     ]
    },
    {
     "name": "stdout",
     "output_type": "stream",
     "text": [
      "✅ Training completed in 17.64s\n",
      "🔍 Validation Phase...\n"
     ]
    },
    {
     "name": "stderr",
     "output_type": "stream",
     "text": [
      "Validation: 100%|██████████████████████████████| 13/13 [00:02<00:00,  4.42it/s, Loss=0.9124, Acc=0.8245]\n"
     ]
    },
    {
     "name": "stdout",
     "output_type": "stream",
     "text": [
      "✅ Validation completed in 2.95s\n",
      "\n",
      "📊 Epoch 46 Summary:\n",
      "│ Train Loss: 0.0023 | Train Acc: 0.9993\n",
      "│ Val Loss:   0.9124 | Val Acc:   0.8245\n",
      "│ Train Time: 17.64s | Val Time: 2.95s\n",
      "│ Total Epoch Time: 20.59s\n",
      "│ Best Val Loss: 0.6532 (Epoch 8)\n",
      "│ GPU Memory: 0.1GB / 3.2GB\n",
      "================================================================================\n",
      "\n",
      "📈 Epoch 47/50\n",
      "--------------------------------------------------\n",
      "🔄 Training Phase...\n"
     ]
    },
    {
     "name": "stderr",
     "output_type": "stream",
     "text": [
      "Training: 100%|██████████████████████████████| 48/48 [00:17<00:00,  2.73it/s, Loss=0.0010, Acc=1.0000]\n"
     ]
    },
    {
     "name": "stdout",
     "output_type": "stream",
     "text": [
      "✅ Training completed in 17.62s\n",
      "🔍 Validation Phase...\n"
     ]
    },
    {
     "name": "stderr",
     "output_type": "stream",
     "text": [
      "Validation: 100%|██████████████████████████████| 13/13 [00:02<00:00,  4.48it/s, Loss=0.8928, Acc=0.8053]\n"
     ]
    },
    {
     "name": "stdout",
     "output_type": "stream",
     "text": [
      "✅ Validation completed in 2.91s\n",
      "\n",
      "📊 Epoch 47 Summary:\n",
      "│ Train Loss: 0.0010 | Train Acc: 1.0000\n",
      "│ Val Loss:   0.8928 | Val Acc:   0.8053\n",
      "│ Train Time: 17.62s | Val Time: 2.91s\n",
      "│ Total Epoch Time: 20.53s\n",
      "│ Best Val Loss: 0.6532 (Epoch 8)\n",
      "│ GPU Memory: 0.1GB / 3.2GB\n",
      "================================================================================\n",
      "\n",
      "📈 Epoch 48/50\n",
      "--------------------------------------------------\n",
      "🔄 Training Phase...\n"
     ]
    },
    {
     "name": "stderr",
     "output_type": "stream",
     "text": [
      "Training: 100%|██████████████████████████████| 48/48 [00:17<00:00,  2.73it/s, Loss=0.0007, Acc=1.0000]\n"
     ]
    },
    {
     "name": "stdout",
     "output_type": "stream",
     "text": [
      "✅ Training completed in 17.56s\n",
      "🔍 Validation Phase...\n"
     ]
    },
    {
     "name": "stderr",
     "output_type": "stream",
     "text": [
      "Validation: 100%|██████████████████████████████| 13/13 [00:02<00:00,  4.58it/s, Loss=0.9406, Acc=0.8269]\n"
     ]
    },
    {
     "name": "stdout",
     "output_type": "stream",
     "text": [
      "✅ Validation completed in 2.84s\n",
      "\n",
      "📊 Epoch 48 Summary:\n",
      "│ Train Loss: 0.0007 | Train Acc: 1.0000\n",
      "│ Val Loss:   0.9406 | Val Acc:   0.8269\n",
      "│ Train Time: 17.56s | Val Time: 2.84s\n",
      "│ Total Epoch Time: 20.41s\n",
      "│ Best Val Loss: 0.6532 (Epoch 8)\n",
      "│ GPU Memory: 0.1GB / 3.2GB\n",
      "================================================================================\n",
      "\n",
      "📈 Epoch 49/50\n",
      "--------------------------------------------------\n",
      "🔄 Training Phase...\n"
     ]
    },
    {
     "name": "stderr",
     "output_type": "stream",
     "text": [
      "Training: 100%|██████████████████████████████| 48/48 [00:17<00:00,  2.73it/s, Loss=0.0010, Acc=1.0000]\n"
     ]
    },
    {
     "name": "stdout",
     "output_type": "stream",
     "text": [
      "✅ Training completed in 17.58s\n",
      "🔍 Validation Phase...\n"
     ]
    },
    {
     "name": "stderr",
     "output_type": "stream",
     "text": [
      "Validation: 100%|██████████████████████████████| 13/13 [00:02<00:00,  4.59it/s, Loss=0.9308, Acc=0.8149]\n"
     ]
    },
    {
     "name": "stdout",
     "output_type": "stream",
     "text": [
      "✅ Validation completed in 2.84s\n",
      "\n",
      "📊 Epoch 49 Summary:\n",
      "│ Train Loss: 0.0010 | Train Acc: 1.0000\n",
      "│ Val Loss:   0.9308 | Val Acc:   0.8149\n",
      "│ Train Time: 17.58s | Val Time: 2.84s\n",
      "│ Total Epoch Time: 20.43s\n",
      "│ Best Val Loss: 0.6532 (Epoch 8)\n",
      "│ GPU Memory: 0.1GB / 3.2GB\n",
      "================================================================================\n",
      "\n",
      "📈 Epoch 50/50\n",
      "--------------------------------------------------\n",
      "🔄 Training Phase...\n"
     ]
    },
    {
     "name": "stderr",
     "output_type": "stream",
     "text": [
      "Training: 100%|██████████████████████████████| 48/48 [00:17<00:00,  2.71it/s, Loss=0.0028, Acc=0.9993]\n"
     ]
    },
    {
     "name": "stdout",
     "output_type": "stream",
     "text": [
      "✅ Training completed in 17.75s\n",
      "🔍 Validation Phase...\n"
     ]
    },
    {
     "name": "stderr",
     "output_type": "stream",
     "text": [
      "Validation: 100%|██████████████████████████████| 13/13 [00:02<00:00,  4.60it/s, Loss=0.9547, Acc=0.8077]\n"
     ]
    },
    {
     "name": "stdout",
     "output_type": "stream",
     "text": [
      "✅ Validation completed in 2.83s\n",
      "\n",
      "📊 Epoch 50 Summary:\n",
      "│ Train Loss: 0.0028 | Train Acc: 0.9993\n",
      "│ Val Loss:   0.9547 | Val Acc:   0.8077\n",
      "│ Train Time: 17.75s | Val Time: 2.83s\n",
      "│ Total Epoch Time: 20.58s\n",
      "│ Best Val Loss: 0.6532 (Epoch 8)\n",
      "│ GPU Memory: 0.1GB / 3.2GB\n",
      "================================================================================\n",
      "\n",
      "💾 Best model saved as 'best_cricket_efficientnetb0_filtered.pth'\n",
      "📊 Best model stats:\n",
      "│ Best Epoch: 8\n",
      "│ Best Val Loss: 0.6532\n",
      "│ Best Val Acc: 0.8149\n",
      "\n",
      "💾 Training history saved to 'cricket_efficientnetb0_filtered_history_pretrained.csv'\n",
      "\n",
      "🎉 EfficientNet-B0 Fine-tuning Complete!\n",
      "Total Training Time: 1026.90s (17.1 minutes)\n",
      "Average Epoch Time: 20.54s\n",
      "\n",
      "🧪 Loading Best Model for Testing...\n",
      "✅ Best model from epoch 8 loaded successfully!\n"
     ]
    },
    {
     "name": "stderr",
     "output_type": "stream",
     "text": [
      "Testing: 100%|██████████████████████████████| 17/17 [00:07<00:00,  2.29it/s]\n"
     ]
    },
    {
     "name": "stdout",
     "output_type": "stream",
     "text": [
      "✅ Testing completed in 7.42s\n",
      "\n",
      "📋 Classification Report:\n",
      "              precision    recall  f1-score   support\n",
      "\n",
      "        Four       0.21      0.12      0.16        40\n",
      "     Leg_Bye       0.81      0.85      0.83        40\n",
      "     No_ball       0.58      0.73      0.64       104\n",
      "         Out       0.72      0.79      0.75        48\n",
      "         Six       0.98      0.86      0.91       152\n",
      "        Wide       0.82      0.82      0.82       136\n",
      "\n",
      "    accuracy                           0.76       520\n",
      "   macro avg       0.68      0.69      0.69       520\n",
      "weighted avg       0.76      0.76      0.75       520\n",
      "\n",
      "🎯 Test Accuracy: 0.7577\n",
      "\n",
      "📊 Cricket Classification Performance (EfficientNet-B0 - Filtered Data):\n",
      "│ Best Validation Loss: 0.6532 (Epoch 8)\n",
      "│ Best Validation Acc:  0.8149 (Epoch 8)\n",
      "│ Final Test Accuracy:  0.7577\n",
      "│ Val-Test Gap:         0.0572\n",
      "│ Data Filtering: Excluded 'random_occlusion' folder\n",
      "\n",
      "💾 Files saved:\n",
      "│ best_cricket_efficientnetb0_filtered.pth - Best model weights\n",
      "│ cricket_efficientnetb0_filtered_history.csv - Training metrics\n"
     ]
    },
    {
     "data": {
      "image/png": "[encoded data removed]",
      "text/plain": [
       "<Figure size 1000x800 with 2 Axes>"
      ]
     },
     "metadata": {},
     "output_type": "display_data"
    },
    {
     "data": {
      "image/png": "[encoded data removed]",
      "text/plain": [
       "<Figure size 1500x500 with 3 Axes>"
      ]
     },
     "metadata": {},
     "output_type": "display_data"
    },
    {
     "name": "stdout",
     "output_type": "stream",
     "text": [
      "\n",
      "⏰ Final Timing Summary:\n",
      "│ Total Training: 1026.90s (17.1 min)\n",
      "│ Average per Epoch: 20.54s\n",
      "│ Testing Time: 7.42s\n",
      "│ Total Runtime: 1034.32s\n",
      "\n",
      "⚡ EfficientNet-B0 + Filtered Data Benefits:\n",
      "│ Clean dataset: 'random_occlusion' folder excluded\n",
      "│ Compound scaling: Optimally balanced depth/width/resolution\n",
      "│ Parameter efficient: ~5.3M parameters (vs ~25M ResNet50)\n",
      "│ High accuracy: Often achieves excellent performance\n",
      "│ Fast inference: Optimized for efficiency\n",
      "│ Mobile-friendly: Designed for resource-constrained environments\n"
     ]
    }
   ],
   "source": [
    "# -----------------------------\n",
    "# 3. Training Setup\n",
    "# -----------------------------\n",
    "criterion = nn.CrossEntropyLoss()\n",
    "optimizer = optim.Adam(model.parameters(), lr=1e-4)  # Lower LR for fine-tuning\n",
    "\n",
    "print(f\"\\n📋 Training Configuration:\")\n",
    "print(f\"│ Model: EfficientNet-B0 (pretrained)\")\n",
    "print(f\"│ Optimizer: Adam (lr={optimizer.param_groups[0]['lr']})\")\n",
    "print(f\"│ Loss Function: CrossEntropyLoss\")\n",
    "print(f\"│ Batch Size: 32\")\n",
    "print(f\"│ Device: {device}\")\n",
    "print(f\"│ Data: Filtered (excluding '{ignore_folder}')\")\n",
    "\n",
    "# -----------------------------\n",
    "# 4. Training Loop with Model Saving\n",
    "# -----------------------------\n",
    "train_losses, val_losses = [], []\n",
    "train_accs, val_accs = [], []\n",
    "epoch_times = []\n",
    "epochs = 50\n",
    "\n",
    "# Initialize best model tracking (using val_loss for fine-tuning)\n",
    "best_val_loss = float('inf')\n",
    "best_model_state = None\n",
    "best_epoch = 0\n",
    "best_val_acc = 0.0\n",
    "\n",
    "print(f\"\\n🚀 Starting EfficientNet-B0 Fine-tuning for {epochs} epochs...\")\n",
    "print(\"=\" * 80)\n",
    "total_start_time = time.time()\n",
    "\n",
    "for epoch in range(epochs):\n",
    "    epoch_start_time = time.time()\n",
    "    \n",
    "    print(f\"\\n📈 Epoch {epoch+1}/{epochs}\")\n",
    "    print(\"-\" * 50)\n",
    "    \n",
    "    # Training Phase\n",
    "    print(\"🔄 Training Phase...\")\n",
    "    model.train()\n",
    "    running_loss, correct, total = 0, 0, 0\n",
    "    \n",
    "    train_pbar = tqdm(train_loader, desc=\"Training\", \n",
    "                     bar_format='{l_bar}{bar:30}{r_bar}{bar:-30b}')\n",
    "    \n",
    "    train_phase_start = time.time()\n",
    "    \n",
    "    for batch_idx, (imgs, labels) in enumerate(train_pbar):\n",
    "        imgs, labels = imgs.to(device), labels.to(device)\n",
    "        \n",
    "        optimizer.zero_grad()\n",
    "        outputs = model(imgs)\n",
    "        loss = criterion(outputs, labels)\n",
    "        loss.backward()\n",
    "        optimizer.step()\n",
    "        \n",
    "        running_loss += loss.item()\n",
    "        _, preds = torch.max(outputs, 1)\n",
    "        correct += (preds == labels).sum().item()\n",
    "        total += labels.size(0)\n",
    "        \n",
    "        current_acc = correct / total\n",
    "        train_pbar.set_postfix({\n",
    "            'Loss': f'{running_loss/(batch_idx+1):.4f}',\n",
    "            'Acc': f'{current_acc:.4f}'\n",
    "        })\n",
    "        \n",
    "        if device.type == 'cuda' and batch_idx % 10 == 0:\n",
    "            gpu_memory = torch.cuda.memory_allocated() / 1024**3\n",
    "            train_pbar.set_postfix({\n",
    "                'Loss': f'{running_loss/(batch_idx+1):.4f}',\n",
    "                'Acc': f'{current_acc:.4f}',\n",
    "                'GPU': f'{gpu_memory:.1f}GB'\n",
    "            })\n",
    "    \n",
    "    train_phase_time = time.time() - train_phase_start\n",
    "    train_loss = running_loss / len(train_loader)\n",
    "    train_acc = correct / total\n",
    "    train_losses.append(train_loss)\n",
    "    train_accs.append(train_acc)\n",
    "    \n",
    "    print(f\"✅ Training completed in {train_phase_time:.2f}s\")\n",
    "    \n",
    "    # Validation Phase\n",
    "    print(\"🔍 Validation Phase...\")\n",
    "    model.eval()\n",
    "    running_loss, correct, total = 0, 0, 0\n",
    "    \n",
    "    val_phase_start = time.time()\n",
    "    val_pbar = tqdm(val_loader, desc=\"Validation\", \n",
    "                   bar_format='{l_bar}{bar:30}{r_bar}{bar:-30b}')\n",
    "    \n",
    "    with torch.no_grad():\n",
    "        for batch_idx, (imgs, labels) in enumerate(val_pbar):\n",
    "            imgs, labels = imgs.to(device), labels.to(device)\n",
    "            outputs = model(imgs)\n",
    "            loss = criterion(outputs, labels)\n",
    "            \n",
    "            running_loss += loss.item()\n",
    "            _, preds = torch.max(outputs, 1)\n",
    "            correct += (preds == labels).sum().item()\n",
    "            total += labels.size(0)\n",
    "            \n",
    "            current_acc = correct / total\n",
    "            val_pbar.set_postfix({\n",
    "                'Loss': f'{running_loss/(batch_idx+1):.4f}',\n",
    "                'Acc': f'{current_acc:.4f}'\n",
    "            })\n",
    "    \n",
    "    val_phase_time = time.time() - val_phase_start\n",
    "    val_loss = running_loss / len(val_loader)\n",
    "    val_acc = correct / total\n",
    "    val_losses.append(val_loss)\n",
    "    val_accs.append(val_acc)\n",
    "    \n",
    "    print(f\"✅ Validation completed in {val_phase_time:.2f}s\")\n",
    "    \n",
    "    # Check if this is the best model (using val_loss for fine-tuning)\n",
    "    is_best = val_loss < best_val_loss\n",
    "    if is_best:\n",
    "        best_val_loss = val_loss\n",
    "        best_val_acc = val_acc\n",
    "        best_epoch = epoch + 1\n",
    "        best_model_state = model.state_dict().copy()\n",
    "        print(f\"🌟 New best model found! Validation Loss: {val_loss:.4f}\")\n",
    "    \n",
    "    # Epoch Summary\n",
    "    epoch_time = time.time() - epoch_start_time\n",
    "    epoch_times.append(epoch_time)\n",
    "    \n",
    "    print(f\"\\n📊 Epoch {epoch+1} Summary:\")\n",
    "    print(f\"│ Train Loss: {train_loss:.4f} | Train Acc: {train_acc:.4f}\")\n",
    "    print(f\"│ Val Loss:   {val_loss:.4f} | Val Acc:   {val_acc:.4f}\")\n",
    "    print(f\"│ Train Time: {train_phase_time:.2f}s | Val Time: {val_phase_time:.2f}s\")\n",
    "    print(f\"│ Total Epoch Time: {epoch_time:.2f}s\")\n",
    "    print(f\"│ Best Val Loss: {best_val_loss:.4f} (Epoch {best_epoch})\")\n",
    "    \n",
    "    if device.type == 'cuda':\n",
    "        print(f\"│ GPU Memory: {torch.cuda.memory_allocated()/1024**3:.1f}GB / {torch.cuda.memory_reserved()/1024**3:.1f}GB\")\n",
    "    \n",
    "    print(\"=\" * 80)\n",
    "\n",
    "total_training_time = time.time() - total_start_time\n",
    "\n",
    "# Save the best model\n",
    "if best_model_state is not None:\n",
    "    torch.save(best_model_state, 'best_cricket_efficientnetb0_filtered_pretrained.pth')\n",
    "    print(f\"\\n💾 Best model saved as 'best_cricket_efficientnetb0_filtered.pth'\")\n",
    "    print(f\"📊 Best model stats:\")\n",
    "    print(f\"│ Best Epoch: {best_epoch}\")\n",
    "    print(f\"│ Best Val Loss: {best_val_loss:.4f}\")\n",
    "    print(f\"│ Best Val Acc: {best_val_acc:.4f}\")\n",
    "\n",
    "# Save training history\n",
    "history_data = {\n",
    "    'epoch': list(range(1, epochs+1)),\n",
    "    'train_loss': train_losses,\n",
    "    'val_loss': val_losses,\n",
    "    'train_acc': train_accs,\n",
    "    'val_acc': val_accs,\n",
    "    'epoch_time': epoch_times\n",
    "}\n",
    "\n",
    "history_df = pd.DataFrame(history_data)\n",
    "history_df.to_csv('cricket_efficientnetb0_filtered_history_pretrained.csv', index=False)\n",
    "print(\"\\n💾 Training history saved to 'cricket_efficientnetb0_filtered_history_pretrained.csv'\")\n",
    "\n",
    "print(f\"\\n🎉 EfficientNet-B0 Fine-tuning Complete!\")\n",
    "print(f\"Total Training Time: {total_training_time:.2f}s ({total_training_time/60:.1f} minutes)\")\n",
    "print(f\"Average Epoch Time: {np.mean(epoch_times):.2f}s\")\n",
    "\n",
    "# -----------------------------\n",
    "# 5. Load Best Model and Test\n",
    "# -----------------------------\n",
    "print(f\"\\n🧪 Loading Best Model for Testing...\")\n",
    "if best_model_state is not None:\n",
    "    model.load_state_dict(best_model_state)\n",
    "    print(f\"✅ Best model from epoch {best_epoch} loaded successfully!\")\n",
    "\n",
    "test_start_time = time.time()\n",
    "y_true, y_pred = [], []\n",
    "model.eval()\n",
    "test_pbar = tqdm(test_loader, desc=\"Testing\", \n",
    "                bar_format='{l_bar}{bar:30}{r_bar}{bar:-30b}')\n",
    "\n",
    "with torch.no_grad():\n",
    "    for imgs, labels in test_pbar:\n",
    "        imgs, labels = imgs.to(device), labels.to(device)\n",
    "        outputs = model(imgs)\n",
    "        _, preds = torch.max(outputs, 1)\n",
    "        y_true.extend(labels.cpu().numpy())\n",
    "        y_pred.extend(preds.cpu().numpy())\n",
    "\n",
    "test_time = time.time() - test_start_time\n",
    "test_accuracy = accuracy_score(y_true, y_pred)\n",
    "\n",
    "print(f\"✅ Testing completed in {test_time:.2f}s\")\n",
    "print(\"\\n📋 Classification Report:\")\n",
    "print(classification_report(y_true, y_pred, target_names=classes))\n",
    "print(f\"🎯 Test Accuracy: {test_accuracy:.4f}\")\n",
    "\n",
    "# Performance Summary\n",
    "print(f\"\\n📊 Cricket Classification Performance (EfficientNet-B0 - Filtered Data):\")\n",
    "print(f\"│ Best Validation Loss: {best_val_loss:.4f} (Epoch {best_epoch})\")\n",
    "print(f\"│ Best Validation Acc:  {best_val_acc:.4f} (Epoch {best_epoch})\")\n",
    "print(f\"│ Final Test Accuracy:  {test_accuracy:.4f}\")\n",
    "print(f\"│ Val-Test Gap:         {abs(best_val_acc - test_accuracy):.4f}\")\n",
    "print(f\"│ Data Filtering: Excluded '{ignore_folder}' folder\")\n",
    "\n",
    "print(f\"\\n💾 Files saved:\")\n",
    "print(f\"│ best_cricket_efficientnetb0_filtered.pth - Best model weights\")\n",
    "print(f\"│ cricket_efficientnetb0_filtered_history.csv - Training metrics\")\n",
    "\n",
    "# -----------------------------\n",
    "# 6. Visualizations\n",
    "# -----------------------------\n",
    "# Confusion Matrix\n",
    "cm = confusion_matrix(y_true, y_pred)\n",
    "plt.figure(figsize=(10, 8))\n",
    "sns.heatmap(cm, annot=True, fmt=\"d\", cmap=\"Blues\", \n",
    "            xticklabels=classes, yticklabels=classes)\n",
    "plt.xlabel(\"Predicted\")\n",
    "plt.ylabel(\"True\")\n",
    "plt.title(f\"Cricket Classification - EfficientNet-B0 (Filtered Data) - Epoch {best_epoch}\")\n",
    "plt.tight_layout()\n",
    "plt.show()\n",
    "\n",
    "# Training Curves\n",
    "plt.figure(figsize=(15, 5))\n",
    "\n",
    "# Loss Plot\n",
    "plt.subplot(1, 3, 1)\n",
    "plt.plot(range(1, epochs+1), train_losses, 'b-', label=\"Train Loss\", marker='o', linewidth=2)\n",
    "plt.plot(range(1, epochs+1), val_losses, 'r-', label=\"Val Loss\", marker='s', linewidth=2)\n",
    "plt.axvline(x=best_epoch, color='green', linestyle='--', alpha=0.7, label=f'Best (Epoch {best_epoch})')\n",
    "plt.scatter([best_epoch], [best_val_loss], color='green', s=100, zorder=5)\n",
    "plt.legend()\n",
    "plt.title(\"EfficientNet-B0 Loss over Epochs (Filtered)\")\n",
    "plt.xlabel(\"Epoch\")\n",
    "plt.ylabel(\"Loss\")\n",
    "plt.grid(True, alpha=0.3)\n",
    "\n",
    "# Accuracy Plot\n",
    "plt.subplot(1, 3, 2)\n",
    "plt.plot(range(1, epochs+1), train_accs, 'b-', label=\"Train Accuracy\", marker='o', linewidth=2)\n",
    "plt.plot(range(1, epochs+1), val_accs, 'r-', label=\"Val Accuracy\", marker='s', linewidth=2)\n",
    "plt.axvline(x=best_epoch, color='green', linestyle='--', alpha=0.7, label=f'Best (Epoch {best_epoch})')\n",
    "plt.scatter([best_epoch], [best_val_acc], color='green', s=100, zorder=5)\n",
    "plt.legend()\n",
    "plt.title(\"EfficientNet-B0 Accuracy over Epochs (Filtered)\")\n",
    "plt.xlabel(\"Epoch\")\n",
    "plt.ylabel(\"Accuracy\")\n",
    "plt.grid(True, alpha=0.3)\n",
    "\n",
    "# Final Performance\n",
    "plt.subplot(1, 3, 3)\n",
    "metrics = ['Best Val Acc', 'Test Acc']\n",
    "values = [best_val_acc, test_accuracy]\n",
    "colors = ['orange', 'green']\n",
    "bars = plt.bar(metrics, values, color=colors, alpha=0.7)\n",
    "plt.title(\"EfficientNet-B0 Final Performance (Filtered)\")\n",
    "plt.ylabel(\"Accuracy\")\n",
    "plt.ylim(0, 1)\n",
    "plt.grid(True, alpha=0.3)\n",
    "for bar, val in zip(bars, values):\n",
    "    plt.text(bar.get_x() + bar.get_width()/2, val + 0.01, \n",
    "             f'{val:.4f}', ha='center', va='bottom')\n",
    "\n",
    "plt.tight_layout()\n",
    "plt.show()\n",
    "\n",
    "# Final Summary\n",
    "print(f\"\\n⏰ Final Timing Summary:\")\n",
    "print(f\"│ Total Training: {total_training_time:.2f}s ({total_training_time/60:.1f} min)\")\n",
    "print(f\"│ Average per Epoch: {np.mean(epoch_times):.2f}s\")\n",
    "print(f\"│ Testing Time: {test_time:.2f}s\")\n",
    "print(f\"│ Total Runtime: {total_training_time + test_time:.2f}s\")\n",
    "\n",
    "# Model and Data Info\n",
    "print(f\"\\n⚡ EfficientNet-B0 + Filtered Data Benefits:\")\n",
    "print(f\"│ Clean dataset: '{ignore_folder}' folder excluded\")\n",
    "print(f\"│ Compound scaling: Optimally balanced depth/width/resolution\")\n",
    "print(f\"│ Parameter efficient: ~5.3M parameters (vs ~25M ResNet50)\")\n",
    "print(f\"│ High accuracy: Often achieves excellent performance\")\n",
    "print(f\"│ Fast inference: Optimized for efficiency\")\n",
    "print(f\"│ Mobile-friendly: Designed for resource-constrained environments\")"
   ]
  }
 ],
 "metadata": {
  "kaggle": {
   "accelerator": "nvidiaTeslaT4",
   "dataSources": [
    {
     "datasetId": 7735666,
     "sourceId": 12275446,
     "sourceType": "datasetVersion"
    }
   ],
   "dockerImageVersionId": 31090,
   "isGpuEnabled": true,
   "isInternetEnabled": true,
   "language": "python",
   "sourceType": "notebook"
  },
  "kernelspec": {
   "display_name": "Python 3",
   "language": "python",
   "name": "python3"
  },
  "language_info": {
   "codemirror_mode": {
    "name": "ipython",
    "version": 3
   },
   "file_extension": ".py",
   "mimetype": "text/x-python",
   "name": "python",
   "nbconvert_exporter": "python",
   "pygments_lexer": "ipython3",
   "version": "3.11.13"
  },
  "papermill": {
   "default_parameters": {},
   "duration": 1063.31121,
   "end_time": "2025-09-08T10:22:47.149704",
   "environment_variables": {},
   "exception": null,
   "input_path": "__notebook__.ipynb",
   "output_path": "__notebook__.ipynb",
   "parameters": {},
   "start_time": "2025-09-08T10:05:03.838494",
   "version": "2.6.0"
  }
 },
 "nbformat": 4,
 "nbformat_minor": 5
}
