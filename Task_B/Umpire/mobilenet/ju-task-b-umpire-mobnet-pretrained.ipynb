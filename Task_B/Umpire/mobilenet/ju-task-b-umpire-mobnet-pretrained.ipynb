{
 "cells": [
  {
   "cell_type": "code",
   "execution_count": 1,
   "id": "0154a7ad",
   "metadata": {
    "_cell_guid": "b1076dfc-b9ad-4769-8c92-a6c4dae69d19",
    "_uuid": "8f2839f25d086af736a60e9eeb907d3b93b6e0e5",
    "execution": {
     "iopub.execute_input": "2025-09-08T06:09:32.372671Z",
     "iopub.status.busy": "2025-09-08T06:09:32.372442Z",
     "iopub.status.idle": "2025-09-08T06:09:46.790834Z",
     "shell.execute_reply": "2025-09-08T06:09:46.789991Z"
    },
    "papermill": {
     "duration": 14.423516,
     "end_time": "2025-09-08T06:09:46.792130",
     "exception": false,
     "start_time": "2025-09-08T06:09:32.368614",
     "status": "completed"
    },
    "tags": []
   },
   "outputs": [
    {
     "name": "stdout",
     "output_type": "stream",
     "text": [
      "Classes: ['Four', 'Leg_Bye', 'No_ball', 'Out', 'Six', 'Wide']\n"
     ]
    }
   ],
   "source": [
    "import torch\n",
    "import torch.nn as nn\n",
    "import torch.nn.functional as F\n",
    "from torch.utils.data import DataLoader\n",
    "from torchvision import datasets, transforms\n",
    "from torchsummary import summary\n",
    "import matplotlib.pyplot as plt\n",
    "from sklearn.metrics import classification_report, confusion_matrix, accuracy_score\n",
    "import seaborn as sns\n",
    "import numpy as np\n",
    "\n",
    "# -----------------------------\n",
    "# 1. Data Preprocessing\n",
    "# -----------------------------\n",
    "data_dir = \"/kaggle/input/ju-cricket/Cricket_Dataset_final/Task_B\"\n",
    "\n",
    "transform = transforms.Compose([\n",
    "    transforms.Resize((224, 224)),\n",
    "    transforms.ToTensor(),\n",
    "    transforms.Normalize([0.485, 0.456, 0.406], \n",
    "                         [0.229, 0.224, 0.225])\n",
    "])\n",
    "\n",
    "train_ds = datasets.ImageFolder(f\"{data_dir}/train/Umpire\", transform=transform)\n",
    "val_ds   = datasets.ImageFolder(f\"{data_dir}/val/Umpire\", transform=transform)\n",
    "test_ds  = datasets.ImageFolder(f\"{data_dir}/test/Umpire\", transform=transform)\n",
    "\n",
    "train_loader = DataLoader(train_ds, batch_size=32, shuffle=True)\n",
    "val_loader   = DataLoader(val_ds, batch_size=32, shuffle=False)\n",
    "test_loader  = DataLoader(test_ds, batch_size=32, shuffle=False)\n",
    "\n",
    "classes = train_ds.classes\n",
    "print(\"Classes:\", classes)\n",
    "\n"
   ]
  },
  {
   "cell_type": "code",
   "execution_count": 2,
   "id": "064676da",
   "metadata": {
    "execution": {
     "iopub.execute_input": "2025-09-08T06:09:46.797827Z",
     "iopub.status.busy": "2025-09-08T06:09:46.797493Z",
     "iopub.status.idle": "2025-09-08T06:09:46.801975Z",
     "shell.execute_reply": "2025-09-08T06:09:46.801267Z"
    },
    "papermill": {
     "duration": 0.008294,
     "end_time": "2025-09-08T06:09:46.802959",
     "exception": false,
     "start_time": "2025-09-08T06:09:46.794665",
     "status": "completed"
    },
    "tags": []
   },
   "outputs": [
    {
     "name": "stdout",
     "output_type": "stream",
     "text": [
      "Total training images: 1728\n",
      "Total validation images: 468\n",
      "Total test images: 585\n",
      "Total images in dataset: 2781\n"
     ]
    }
   ],
   "source": [
    "print(\"Total training images:\", len(train_ds))\n",
    "print(\"Total validation images:\", len(val_ds))\n",
    "print(\"Total test images:\", len(test_ds))\n",
    "\n",
    "total_images = len(train_ds) + len(val_ds) + len(test_ds)\n",
    "print(\"Total images in dataset:\", total_images)\n"
   ]
  },
  {
   "cell_type": "code",
   "execution_count": 3,
   "id": "78d30f3f",
   "metadata": {
    "execution": {
     "iopub.execute_input": "2025-09-08T06:09:46.807964Z",
     "iopub.status.busy": "2025-09-08T06:09:46.807777Z",
     "iopub.status.idle": "2025-09-08T06:09:46.814644Z",
     "shell.execute_reply": "2025-09-08T06:09:46.813994Z"
    },
    "papermill": {
     "duration": 0.010532,
     "end_time": "2025-09-08T06:09:46.815705",
     "exception": false,
     "start_time": "2025-09-08T06:09:46.805173",
     "status": "completed"
    },
    "tags": []
   },
   "outputs": [
    {
     "name": "stdout",
     "output_type": "stream",
     "text": [
      "Training images (excluding 'random_occlusion'): 1536\n",
      "Validation images (excluding 'random_occlusion'): 416\n",
      "Test images (excluding 'random_occlusion'): 520\n",
      "Total images (excluding 'random_occlusion'): 2472\n"
     ]
    }
   ],
   "source": [
    "ignore_folder = \"random_occlusion\"\n",
    "\n",
    "def count_images_ignore_folder(dataset, ignore_folder):\n",
    "    count = 0\n",
    "    for img_path, label in dataset.samples:\n",
    "        # Skip if the image path contains the ignore_folder\n",
    "        if ignore_folder not in img_path.split(\"/\"):\n",
    "            count += 1\n",
    "    return count\n",
    "\n",
    "train_count = count_images_ignore_folder(train_ds, ignore_folder)\n",
    "val_count   = count_images_ignore_folder(val_ds, ignore_folder)\n",
    "test_count  = count_images_ignore_folder(test_ds, ignore_folder)\n",
    "\n",
    "total_count = train_count + val_count + test_count\n",
    "\n",
    "print(\"Training images (excluding '{}'): {}\".format(ignore_folder, train_count))\n",
    "print(\"Validation images (excluding '{}'): {}\".format(ignore_folder, val_count))\n",
    "print(\"Test images (excluding '{}'): {}\".format(ignore_folder, test_count))\n",
    "print(\"Total images (excluding '{}'): {}\".format(ignore_folder, total_count))\n"
   ]
  },
  {
   "cell_type": "code",
   "execution_count": 4,
   "id": "3363138c",
   "metadata": {
    "execution": {
     "iopub.execute_input": "2025-09-08T06:09:46.820711Z",
     "iopub.status.busy": "2025-09-08T06:09:46.820517Z",
     "iopub.status.idle": "2025-09-08T06:09:46.827946Z",
     "shell.execute_reply": "2025-09-08T06:09:46.827406Z"
    },
    "papermill": {
     "duration": 0.011004,
     "end_time": "2025-09-08T06:09:46.828893",
     "exception": false,
     "start_time": "2025-09-08T06:09:46.817889",
     "status": "completed"
    },
    "tags": []
   },
   "outputs": [
    {
     "name": "stdout",
     "output_type": "stream",
     "text": [
      "Training folders considered: {'motion_blur', 'blur', 'chromatic_aberration', 'random_occlusion', 'low_resolution', 'dirty_lens', 'lens_flare', 'original', 'gaussian_noise'}\n",
      "Validation folders considered: {'motion_blur', 'blur', 'chromatic_aberration', 'random_occlusion', 'low_resolution', 'dirty_lens', 'lens_flare', 'original', 'gaussian_noise'}\n",
      "Test folders considered: {'motion_blur', 'blur', 'chromatic_aberration', 'random_occlusion', 'low_resolution', 'dirty_lens', 'lens_flare', 'original', 'gaussian_noise'}\n"
     ]
    }
   ],
   "source": [
    "ignore_folder = \"random_occlusionw\"\n",
    "\n",
    "def get_included_folders(dataset, ignore_folder):\n",
    "    included = set()\n",
    "    for img_path, label in dataset.samples:\n",
    "        # Split the path into parts and ignore if ignore_folder is in the path\n",
    "        if ignore_folder not in img_path.split(\"/\"):\n",
    "            # The folder name just above the image (or the class folder)\n",
    "            folder_name = img_path.split(\"/\")[-2]\n",
    "            included.add(folder_name)\n",
    "    return included\n",
    "\n",
    "train_folders = get_included_folders(train_ds, ignore_folder)\n",
    "val_folders   = get_included_folders(val_ds, ignore_folder)\n",
    "test_folders  = get_included_folders(test_ds, ignore_folder)\n",
    "\n",
    "print(\"Training folders considered:\", train_folders)\n",
    "print(\"Validation folders considered:\", val_folders)\n",
    "print(\"Test folders considered:\", test_folders)\n"
   ]
  },
  {
   "cell_type": "code",
   "execution_count": 5,
   "id": "8e405d14",
   "metadata": {
    "execution": {
     "iopub.execute_input": "2025-09-08T06:09:46.834039Z",
     "iopub.status.busy": "2025-09-08T06:09:46.833837Z",
     "iopub.status.idle": "2025-09-08T06:09:46.964712Z",
     "shell.execute_reply": "2025-09-08T06:09:46.963925Z"
    },
    "papermill": {
     "duration": 0.134708,
     "end_time": "2025-09-08T06:09:46.965872",
     "exception": false,
     "start_time": "2025-09-08T06:09:46.831164",
     "status": "completed"
    },
    "tags": []
   },
   "outputs": [
    {
     "name": "stdout",
     "output_type": "stream",
     "text": [
      "Classes: ['Four', 'Leg_Bye', 'No_ball', 'Out', 'Six', 'Wide']\n",
      "Final Training images: 1536\n",
      "Final Validation images: 416\n",
      "Final Test images: 520\n",
      "Total images after filtering: 2472\n"
     ]
    }
   ],
   "source": [
    "ignore_folder = \"random_occlusion\"\n",
    "\n",
    "def filter_samples(dataset, ignore_folder):\n",
    "    # Keep only samples where ignore_folder is NOT in the path\n",
    "    filtered_samples = [s for s in dataset.samples if ignore_folder not in s[0].split(\"/\")]\n",
    "    dataset.samples = filtered_samples\n",
    "    dataset.targets = [s[1] for s in filtered_samples]  # Update targets accordingly\n",
    "    return dataset\n",
    "\n",
    "# Create original datasets\n",
    "train_ds = datasets.ImageFolder(f\"{data_dir}/train/Umpire\", transform=transform)\n",
    "val_ds   = datasets.ImageFolder(f\"{data_dir}/val/Umpire\", transform=transform)\n",
    "test_ds  = datasets.ImageFolder(f\"{data_dir}/test/Umpire\", transform=transform)\n",
    "\n",
    "# Filter out 'random_occlusion' folder\n",
    "train_ds = filter_samples(train_ds, ignore_folder)\n",
    "val_ds   = filter_samples(val_ds, ignore_folder)\n",
    "test_ds  = filter_samples(test_ds, ignore_folder)\n",
    "\n",
    "# DataLoaders\n",
    "train_loader = DataLoader(train_ds, batch_size=32, shuffle=True)\n",
    "val_loader   = DataLoader(val_ds, batch_size=32, shuffle=False)\n",
    "test_loader  = DataLoader(test_ds, batch_size=32, shuffle=False)\n",
    "\n",
    "# Classes (will remain the same)\n",
    "classes = train_ds.classes\n",
    "print(\"Classes:\", classes)\n",
    "\n",
    "# Show counts\n",
    "print(\"Final Training images:\", len(train_ds))\n",
    "print(\"Final Validation images:\", len(val_ds))\n",
    "print(\"Final Test images:\", len(test_ds))\n",
    "print(\"Total images after filtering:\", len(train_ds) + len(val_ds) + len(test_ds))\n"
   ]
  },
  {
   "cell_type": "code",
   "execution_count": 6,
   "id": "cea679f8",
   "metadata": {
    "execution": {
     "iopub.execute_input": "2025-09-08T06:09:46.971525Z",
     "iopub.status.busy": "2025-09-08T06:09:46.971322Z",
     "iopub.status.idle": "2025-09-08T06:09:46.978772Z",
     "shell.execute_reply": "2025-09-08T06:09:46.978194Z"
    },
    "papermill": {
     "duration": 0.011359,
     "end_time": "2025-09-08T06:09:46.979743",
     "exception": false,
     "start_time": "2025-09-08T06:09:46.968384",
     "status": "completed"
    },
    "tags": []
   },
   "outputs": [
    {
     "name": "stdout",
     "output_type": "stream",
     "text": [
      "Training folders considered: {'motion_blur', 'blur', 'chromatic_aberration', 'low_resolution', 'dirty_lens', 'lens_flare', 'original', 'gaussian_noise'}\n",
      "Validation folders considered: {'motion_blur', 'blur', 'chromatic_aberration', 'low_resolution', 'dirty_lens', 'lens_flare', 'original', 'gaussian_noise'}\n",
      "Test folders considered: {'motion_blur', 'blur', 'chromatic_aberration', 'low_resolution', 'dirty_lens', 'lens_flare', 'original', 'gaussian_noise'}\n"
     ]
    }
   ],
   "source": [
    "ignore_folder = \"random_occlusion\"\n",
    "\n",
    "def get_included_folders(dataset, ignore_folder):\n",
    "    included = set()\n",
    "    for img_path, label in dataset.samples:\n",
    "        # Split the path into parts and ignore if ignore_folder is in the path\n",
    "        if ignore_folder not in img_path.split(\"/\"):\n",
    "            # The folder name just above the image (or the class folder)\n",
    "            folder_name = img_path.split(\"/\")[-2]\n",
    "            included.add(folder_name)\n",
    "    return included\n",
    "\n",
    "train_folders = get_included_folders(train_ds, ignore_folder)\n",
    "val_folders   = get_included_folders(val_ds, ignore_folder)\n",
    "test_folders  = get_included_folders(test_ds, ignore_folder)\n",
    "\n",
    "print(\"Training folders considered:\", train_folders)\n",
    "print(\"Validation folders considered:\", val_folders)\n",
    "print(\"Test folders considered:\", test_folders)\n"
   ]
  },
  {
   "cell_type": "code",
   "execution_count": 7,
   "id": "3f93d6f8",
   "metadata": {
    "execution": {
     "iopub.execute_input": "2025-09-08T06:09:46.985128Z",
     "iopub.status.busy": "2025-09-08T06:09:46.984920Z",
     "iopub.status.idle": "2025-09-08T06:09:48.532717Z",
     "shell.execute_reply": "2025-09-08T06:09:48.531940Z"
    },
    "papermill": {
     "duration": 1.552398,
     "end_time": "2025-09-08T06:09:48.534553",
     "exception": false,
     "start_time": "2025-09-08T06:09:46.982155",
     "status": "completed"
    },
    "tags": []
   },
   "outputs": [
    {
     "name": "stdout",
     "output_type": "stream",
     "text": [
      "Classes: ['Four', 'Leg_Bye', 'No_ball', 'Out', 'Six', 'Wide']\n",
      "Number of classes: 6\n",
      "Train samples: 1536\n",
      "Val samples: 416\n",
      "Test samples: 520\n",
      "Using device: cuda\n",
      "🔄 Loading pretrained MobileNetV2 from ImageNet...\n"
     ]
    },
    {
     "name": "stderr",
     "output_type": "stream",
     "text": [
      "/usr/local/lib/python3.11/dist-packages/torchvision/models/_utils.py:208: UserWarning: The parameter 'pretrained' is deprecated since 0.13 and may be removed in the future, please use 'weights' instead.\n",
      "  warnings.warn(\n",
      "/usr/local/lib/python3.11/dist-packages/torchvision/models/_utils.py:223: UserWarning: Arguments other than a weight enum or `None` for 'weights' are deprecated since 0.13 and may be removed in the future. The current behavior is equivalent to passing `weights=MobileNet_V2_Weights.IMAGENET1K_V1`. You can also use `weights=MobileNet_V2_Weights.DEFAULT` to get the most up-to-date weights.\n",
      "  warnings.warn(msg)\n",
      "Downloading: \"https://download.pytorch.org/models/mobilenet_v2-b0353104.pth\" to /root/.cache/torch/hub/checkpoints/mobilenet_v2-b0353104.pth\n",
      "100%|██████████| 13.6M/13.6M [00:00<00:00, 124MB/s]\n"
     ]
    },
    {
     "name": "stdout",
     "output_type": "stream",
     "text": [
      "✅ Model loaded with 6 output classes\n",
      "📊 Total parameters: 2,231,558\n",
      "📊 Trainable parameters: 2,231,558\n",
      "----------------------------------------------------------------\n",
      "        Layer (type)               Output Shape         Param #\n",
      "================================================================\n",
      "            Conv2d-1         [-1, 32, 112, 112]             864\n",
      "       BatchNorm2d-2         [-1, 32, 112, 112]              64\n",
      "             ReLU6-3         [-1, 32, 112, 112]               0\n",
      "            Conv2d-4         [-1, 32, 112, 112]             288\n",
      "       BatchNorm2d-5         [-1, 32, 112, 112]              64\n",
      "             ReLU6-6         [-1, 32, 112, 112]               0\n",
      "            Conv2d-7         [-1, 16, 112, 112]             512\n",
      "       BatchNorm2d-8         [-1, 16, 112, 112]              32\n",
      "  InvertedResidual-9         [-1, 16, 112, 112]               0\n",
      "           Conv2d-10         [-1, 96, 112, 112]           1,536\n",
      "      BatchNorm2d-11         [-1, 96, 112, 112]             192\n",
      "            ReLU6-12         [-1, 96, 112, 112]               0\n",
      "           Conv2d-13           [-1, 96, 56, 56]             864\n",
      "      BatchNorm2d-14           [-1, 96, 56, 56]             192\n",
      "            ReLU6-15           [-1, 96, 56, 56]               0\n",
      "           Conv2d-16           [-1, 24, 56, 56]           2,304\n",
      "      BatchNorm2d-17           [-1, 24, 56, 56]              48\n",
      " InvertedResidual-18           [-1, 24, 56, 56]               0\n",
      "           Conv2d-19          [-1, 144, 56, 56]           3,456\n",
      "      BatchNorm2d-20          [-1, 144, 56, 56]             288\n",
      "            ReLU6-21          [-1, 144, 56, 56]               0\n",
      "           Conv2d-22          [-1, 144, 56, 56]           1,296\n",
      "      BatchNorm2d-23          [-1, 144, 56, 56]             288\n",
      "            ReLU6-24          [-1, 144, 56, 56]               0\n",
      "           Conv2d-25           [-1, 24, 56, 56]           3,456\n",
      "      BatchNorm2d-26           [-1, 24, 56, 56]              48\n",
      " InvertedResidual-27           [-1, 24, 56, 56]               0\n",
      "           Conv2d-28          [-1, 144, 56, 56]           3,456\n",
      "      BatchNorm2d-29          [-1, 144, 56, 56]             288\n",
      "            ReLU6-30          [-1, 144, 56, 56]               0\n",
      "           Conv2d-31          [-1, 144, 28, 28]           1,296\n",
      "      BatchNorm2d-32          [-1, 144, 28, 28]             288\n",
      "            ReLU6-33          [-1, 144, 28, 28]               0\n",
      "           Conv2d-34           [-1, 32, 28, 28]           4,608\n",
      "      BatchNorm2d-35           [-1, 32, 28, 28]              64\n",
      " InvertedResidual-36           [-1, 32, 28, 28]               0\n",
      "           Conv2d-37          [-1, 192, 28, 28]           6,144\n",
      "      BatchNorm2d-38          [-1, 192, 28, 28]             384\n",
      "            ReLU6-39          [-1, 192, 28, 28]               0\n",
      "           Conv2d-40          [-1, 192, 28, 28]           1,728\n",
      "      BatchNorm2d-41          [-1, 192, 28, 28]             384\n",
      "            ReLU6-42          [-1, 192, 28, 28]               0\n",
      "           Conv2d-43           [-1, 32, 28, 28]           6,144\n",
      "      BatchNorm2d-44           [-1, 32, 28, 28]              64\n",
      " InvertedResidual-45           [-1, 32, 28, 28]               0\n",
      "           Conv2d-46          [-1, 192, 28, 28]           6,144\n",
      "      BatchNorm2d-47          [-1, 192, 28, 28]             384\n",
      "            ReLU6-48          [-1, 192, 28, 28]               0\n",
      "           Conv2d-49          [-1, 192, 28, 28]           1,728\n",
      "      BatchNorm2d-50          [-1, 192, 28, 28]             384\n",
      "            ReLU6-51          [-1, 192, 28, 28]               0\n",
      "           Conv2d-52           [-1, 32, 28, 28]           6,144\n",
      "      BatchNorm2d-53           [-1, 32, 28, 28]              64\n",
      " InvertedResidual-54           [-1, 32, 28, 28]               0\n",
      "           Conv2d-55          [-1, 192, 28, 28]           6,144\n",
      "      BatchNorm2d-56          [-1, 192, 28, 28]             384\n",
      "            ReLU6-57          [-1, 192, 28, 28]               0\n",
      "           Conv2d-58          [-1, 192, 14, 14]           1,728\n",
      "      BatchNorm2d-59          [-1, 192, 14, 14]             384\n",
      "            ReLU6-60          [-1, 192, 14, 14]               0\n",
      "           Conv2d-61           [-1, 64, 14, 14]          12,288\n",
      "      BatchNorm2d-62           [-1, 64, 14, 14]             128\n",
      " InvertedResidual-63           [-1, 64, 14, 14]               0\n",
      "           Conv2d-64          [-1, 384, 14, 14]          24,576\n",
      "      BatchNorm2d-65          [-1, 384, 14, 14]             768\n",
      "            ReLU6-66          [-1, 384, 14, 14]               0\n",
      "           Conv2d-67          [-1, 384, 14, 14]           3,456\n",
      "      BatchNorm2d-68          [-1, 384, 14, 14]             768\n",
      "            ReLU6-69          [-1, 384, 14, 14]               0\n",
      "           Conv2d-70           [-1, 64, 14, 14]          24,576\n",
      "      BatchNorm2d-71           [-1, 64, 14, 14]             128\n",
      " InvertedResidual-72           [-1, 64, 14, 14]               0\n",
      "           Conv2d-73          [-1, 384, 14, 14]          24,576\n",
      "      BatchNorm2d-74          [-1, 384, 14, 14]             768\n",
      "            ReLU6-75          [-1, 384, 14, 14]               0\n",
      "           Conv2d-76          [-1, 384, 14, 14]           3,456\n",
      "      BatchNorm2d-77          [-1, 384, 14, 14]             768\n",
      "            ReLU6-78          [-1, 384, 14, 14]               0\n",
      "           Conv2d-79           [-1, 64, 14, 14]          24,576\n",
      "      BatchNorm2d-80           [-1, 64, 14, 14]             128\n",
      " InvertedResidual-81           [-1, 64, 14, 14]               0\n",
      "           Conv2d-82          [-1, 384, 14, 14]          24,576\n",
      "      BatchNorm2d-83          [-1, 384, 14, 14]             768\n",
      "            ReLU6-84          [-1, 384, 14, 14]               0\n",
      "           Conv2d-85          [-1, 384, 14, 14]           3,456\n",
      "      BatchNorm2d-86          [-1, 384, 14, 14]             768\n",
      "            ReLU6-87          [-1, 384, 14, 14]               0\n",
      "           Conv2d-88           [-1, 64, 14, 14]          24,576\n",
      "      BatchNorm2d-89           [-1, 64, 14, 14]             128\n",
      " InvertedResidual-90           [-1, 64, 14, 14]               0\n",
      "           Conv2d-91          [-1, 384, 14, 14]          24,576\n",
      "      BatchNorm2d-92          [-1, 384, 14, 14]             768\n",
      "            ReLU6-93          [-1, 384, 14, 14]               0\n",
      "           Conv2d-94          [-1, 384, 14, 14]           3,456\n",
      "      BatchNorm2d-95          [-1, 384, 14, 14]             768\n",
      "            ReLU6-96          [-1, 384, 14, 14]               0\n",
      "           Conv2d-97           [-1, 96, 14, 14]          36,864\n",
      "      BatchNorm2d-98           [-1, 96, 14, 14]             192\n",
      " InvertedResidual-99           [-1, 96, 14, 14]               0\n",
      "          Conv2d-100          [-1, 576, 14, 14]          55,296\n",
      "     BatchNorm2d-101          [-1, 576, 14, 14]           1,152\n",
      "           ReLU6-102          [-1, 576, 14, 14]               0\n",
      "          Conv2d-103          [-1, 576, 14, 14]           5,184\n",
      "     BatchNorm2d-104          [-1, 576, 14, 14]           1,152\n",
      "           ReLU6-105          [-1, 576, 14, 14]               0\n",
      "          Conv2d-106           [-1, 96, 14, 14]          55,296\n",
      "     BatchNorm2d-107           [-1, 96, 14, 14]             192\n",
      "InvertedResidual-108           [-1, 96, 14, 14]               0\n",
      "          Conv2d-109          [-1, 576, 14, 14]          55,296\n",
      "     BatchNorm2d-110          [-1, 576, 14, 14]           1,152\n",
      "           ReLU6-111          [-1, 576, 14, 14]               0\n",
      "          Conv2d-112          [-1, 576, 14, 14]           5,184\n",
      "     BatchNorm2d-113          [-1, 576, 14, 14]           1,152\n",
      "           ReLU6-114          [-1, 576, 14, 14]               0\n",
      "          Conv2d-115           [-1, 96, 14, 14]          55,296\n",
      "     BatchNorm2d-116           [-1, 96, 14, 14]             192\n",
      "InvertedResidual-117           [-1, 96, 14, 14]               0\n",
      "          Conv2d-118          [-1, 576, 14, 14]          55,296\n",
      "     BatchNorm2d-119          [-1, 576, 14, 14]           1,152\n",
      "           ReLU6-120          [-1, 576, 14, 14]               0\n",
      "          Conv2d-121            [-1, 576, 7, 7]           5,184\n",
      "     BatchNorm2d-122            [-1, 576, 7, 7]           1,152\n",
      "           ReLU6-123            [-1, 576, 7, 7]               0\n",
      "          Conv2d-124            [-1, 160, 7, 7]          92,160\n",
      "     BatchNorm2d-125            [-1, 160, 7, 7]             320\n",
      "InvertedResidual-126            [-1, 160, 7, 7]               0\n",
      "          Conv2d-127            [-1, 960, 7, 7]         153,600\n",
      "     BatchNorm2d-128            [-1, 960, 7, 7]           1,920\n",
      "           ReLU6-129            [-1, 960, 7, 7]               0\n",
      "          Conv2d-130            [-1, 960, 7, 7]           8,640\n",
      "     BatchNorm2d-131            [-1, 960, 7, 7]           1,920\n",
      "           ReLU6-132            [-1, 960, 7, 7]               0\n",
      "          Conv2d-133            [-1, 160, 7, 7]         153,600\n",
      "     BatchNorm2d-134            [-1, 160, 7, 7]             320\n",
      "InvertedResidual-135            [-1, 160, 7, 7]               0\n",
      "          Conv2d-136            [-1, 960, 7, 7]         153,600\n",
      "     BatchNorm2d-137            [-1, 960, 7, 7]           1,920\n",
      "           ReLU6-138            [-1, 960, 7, 7]               0\n",
      "          Conv2d-139            [-1, 960, 7, 7]           8,640\n",
      "     BatchNorm2d-140            [-1, 960, 7, 7]           1,920\n",
      "           ReLU6-141            [-1, 960, 7, 7]               0\n",
      "          Conv2d-142            [-1, 160, 7, 7]         153,600\n",
      "     BatchNorm2d-143            [-1, 160, 7, 7]             320\n",
      "InvertedResidual-144            [-1, 160, 7, 7]               0\n",
      "          Conv2d-145            [-1, 960, 7, 7]         153,600\n",
      "     BatchNorm2d-146            [-1, 960, 7, 7]           1,920\n",
      "           ReLU6-147            [-1, 960, 7, 7]               0\n",
      "          Conv2d-148            [-1, 960, 7, 7]           8,640\n",
      "     BatchNorm2d-149            [-1, 960, 7, 7]           1,920\n",
      "           ReLU6-150            [-1, 960, 7, 7]               0\n",
      "          Conv2d-151            [-1, 320, 7, 7]         307,200\n",
      "     BatchNorm2d-152            [-1, 320, 7, 7]             640\n",
      "InvertedResidual-153            [-1, 320, 7, 7]               0\n",
      "          Conv2d-154           [-1, 1280, 7, 7]         409,600\n",
      "     BatchNorm2d-155           [-1, 1280, 7, 7]           2,560\n",
      "           ReLU6-156           [-1, 1280, 7, 7]               0\n",
      "         Dropout-157                 [-1, 1280]               0\n",
      "          Linear-158                    [-1, 6]           7,686\n",
      "================================================================\n",
      "Total params: 2,231,558\n",
      "Trainable params: 2,231,558\n",
      "Non-trainable params: 0\n",
      "----------------------------------------------------------------\n",
      "Input size (MB): 0.57\n",
      "Forward/backward pass size (MB): 152.86\n",
      "Params size (MB): 8.51\n",
      "Estimated Total Size (MB): 161.95\n",
      "----------------------------------------------------------------\n"
     ]
    }
   ],
   "source": [
    "import torch\n",
    "import torch.nn as nn\n",
    "import torch.nn.functional as F\n",
    "import torch.optim as optim\n",
    "from torch.utils.data import DataLoader\n",
    "from torchvision import datasets, transforms, models\n",
    "from torchsummary import summary\n",
    "import matplotlib.pyplot as plt\n",
    "from sklearn.metrics import classification_report, confusion_matrix, accuracy_score\n",
    "import seaborn as sns\n",
    "import numpy as np\n",
    "import pandas as pd\n",
    "from tqdm import tqdm\n",
    "import time\n",
    "\n",
    "classes = train_ds.classes\n",
    "print(\"Classes:\", classes)\n",
    "print(f\"Number of classes: {len(classes)}\")\n",
    "print(f\"Train samples: {len(train_ds)}\")\n",
    "print(f\"Val samples: {len(val_ds)}\")\n",
    "print(f\"Test samples: {len(test_ds)}\")\n",
    "\n",
    "# -----------------------------\n",
    "# 2. Pretrained MobileNetV2 Model\n",
    "# -----------------------------\n",
    "device = torch.device('cuda' if torch.cuda.is_available() else 'cpu')\n",
    "print(f\"Using device: {device}\")\n",
    "\n",
    "# Load pretrained MobileNetV2\n",
    "print(\"🔄 Loading pretrained MobileNetV2 from ImageNet...\")\n",
    "model = models.mobilenet_v2(pretrained=True)\n",
    "\n",
    "# Replace final classification layer\n",
    "# MobileNetV2 has a different structure: model.classifier[1] instead of model.fc\n",
    "num_features = model.classifier[1].in_features  # Get input features (1280)\n",
    "model.classifier[1] = nn.Linear(num_features, len(classes))  # Replace final layer\n",
    "model = model.to(device)\n",
    "\n",
    "print(f\"✅ Model loaded with {len(classes)} output classes\")\n",
    "print(f\"📊 Total parameters: {sum(p.numel() for p in model.parameters()):,}\")\n",
    "print(f\"📊 Trainable parameters: {sum(p.numel() for p in model.parameters() if p.requires_grad):,}\")\n",
    "\n",
    "# Model summary\n",
    "try:\n",
    "    summary(model, (3, 224, 224))\n",
    "except:\n",
    "    print(\"Model summary not available\")\n",
    "\n"
   ]
  },
  {
   "cell_type": "code",
   "execution_count": 8,
   "id": "75d45d20",
   "metadata": {
    "execution": {
     "iopub.execute_input": "2025-09-08T06:09:48.541843Z",
     "iopub.status.busy": "2025-09-08T06:09:48.541616Z",
     "iopub.status.idle": "2025-09-08T06:25:54.935799Z",
     "shell.execute_reply": "2025-09-08T06:25:54.935125Z"
    },
    "papermill": {
     "duration": 966.400451,
     "end_time": "2025-09-08T06:25:54.938201",
     "exception": false,
     "start_time": "2025-09-08T06:09:48.537750",
     "status": "completed"
    },
    "tags": []
   },
   "outputs": [
    {
     "name": "stdout",
     "output_type": "stream",
     "text": [
      "\n",
      "📋 Training Configuration:\n",
      "│ Model: MobileNetV2 (pretrained)\n",
      "│ Optimizer: Adam (lr=0.0001)\n",
      "│ Loss Function: CrossEntropyLoss\n",
      "│ Batch Size: 32\n",
      "│ Device: cuda\n",
      "\n",
      "🚀 Starting MobileNetV2 Fine-tuning for 50 epochs...\n",
      "================================================================================\n",
      "\n",
      "📈 Epoch 1/50\n",
      "--------------------------------------------------\n",
      "🔄 Training Phase...\n"
     ]
    },
    {
     "name": "stderr",
     "output_type": "stream",
     "text": [
      "Training: 100%|██████████████████████████████| 48/48 [00:21<00:00,  2.24it/s, Loss=1.0405, Acc=0.6361]\n"
     ]
    },
    {
     "name": "stdout",
     "output_type": "stream",
     "text": [
      "✅ Training completed in 21.47s\n",
      "🔍 Validation Phase...\n"
     ]
    },
    {
     "name": "stderr",
     "output_type": "stream",
     "text": [
      "Validation: 100%|██████████████████████████████| 13/13 [00:04<00:00,  3.14it/s, Loss=0.8659, Acc=0.6923]\n"
     ]
    },
    {
     "name": "stdout",
     "output_type": "stream",
     "text": [
      "✅ Validation completed in 4.14s\n",
      "🌟 New best model found! Validation Loss: 0.8659\n",
      "\n",
      "📊 Epoch 1 Summary:\n",
      "│ Train Loss: 1.0405 | Train Acc: 0.6361\n",
      "│ Val Loss:   0.8659 | Val Acc:   0.6923\n",
      "│ Train Time: 21.47s | Val Time: 4.14s\n",
      "│ Total Epoch Time: 25.61s\n",
      "│ Best Val Loss: 0.8659 (Epoch 1)\n",
      "│ GPU Memory: 0.1GB / 2.8GB\n",
      "================================================================================\n",
      "\n",
      "📈 Epoch 2/50\n",
      "--------------------------------------------------\n",
      "🔄 Training Phase...\n"
     ]
    },
    {
     "name": "stderr",
     "output_type": "stream",
     "text": [
      "Training: 100%|██████████████████████████████| 48/48 [00:15<00:00,  3.06it/s, Loss=0.2373, Acc=0.9583]\n"
     ]
    },
    {
     "name": "stdout",
     "output_type": "stream",
     "text": [
      "✅ Training completed in 15.69s\n",
      "🔍 Validation Phase...\n"
     ]
    },
    {
     "name": "stderr",
     "output_type": "stream",
     "text": [
      "Validation: 100%|██████████████████████████████| 13/13 [00:02<00:00,  4.63it/s, Loss=0.6860, Acc=0.7692]\n"
     ]
    },
    {
     "name": "stdout",
     "output_type": "stream",
     "text": [
      "✅ Validation completed in 2.81s\n",
      "🌟 New best model found! Validation Loss: 0.6860\n",
      "\n",
      "📊 Epoch 2 Summary:\n",
      "│ Train Loss: 0.2373 | Train Acc: 0.9583\n",
      "│ Val Loss:   0.6860 | Val Acc:   0.7692\n",
      "│ Train Time: 15.69s | Val Time: 2.81s\n",
      "│ Total Epoch Time: 18.51s\n",
      "│ Best Val Loss: 0.6860 (Epoch 2)\n",
      "│ GPU Memory: 0.1GB / 2.8GB\n",
      "================================================================================\n",
      "\n",
      "📈 Epoch 3/50\n",
      "--------------------------------------------------\n",
      "🔄 Training Phase...\n"
     ]
    },
    {
     "name": "stderr",
     "output_type": "stream",
     "text": [
      "Training: 100%|██████████████████████████████| 48/48 [00:15<00:00,  3.04it/s, Loss=0.0515, Acc=0.9967]\n"
     ]
    },
    {
     "name": "stdout",
     "output_type": "stream",
     "text": [
      "✅ Training completed in 15.77s\n",
      "🔍 Validation Phase...\n"
     ]
    },
    {
     "name": "stderr",
     "output_type": "stream",
     "text": [
      "Validation: 100%|██████████████████████████████| 13/13 [00:02<00:00,  4.56it/s, Loss=0.6809, Acc=0.7909]\n"
     ]
    },
    {
     "name": "stdout",
     "output_type": "stream",
     "text": [
      "✅ Validation completed in 2.85s\n",
      "🌟 New best model found! Validation Loss: 0.6809\n",
      "\n",
      "📊 Epoch 3 Summary:\n",
      "│ Train Loss: 0.0515 | Train Acc: 0.9967\n",
      "│ Val Loss:   0.6809 | Val Acc:   0.7909\n",
      "│ Train Time: 15.77s | Val Time: 2.85s\n",
      "│ Total Epoch Time: 18.62s\n",
      "│ Best Val Loss: 0.6809 (Epoch 3)\n",
      "│ GPU Memory: 0.1GB / 2.8GB\n",
      "================================================================================\n",
      "\n",
      "📈 Epoch 4/50\n",
      "--------------------------------------------------\n",
      "🔄 Training Phase...\n"
     ]
    },
    {
     "name": "stderr",
     "output_type": "stream",
     "text": [
      "Training: 100%|██████████████████████████████| 48/48 [00:15<00:00,  3.03it/s, Loss=0.0202, Acc=0.9987]\n"
     ]
    },
    {
     "name": "stdout",
     "output_type": "stream",
     "text": [
      "✅ Training completed in 15.86s\n",
      "🔍 Validation Phase...\n"
     ]
    },
    {
     "name": "stderr",
     "output_type": "stream",
     "text": [
      "Validation: 100%|██████████████████████████████| 13/13 [00:02<00:00,  4.62it/s, Loss=0.7199, Acc=0.7764]\n"
     ]
    },
    {
     "name": "stdout",
     "output_type": "stream",
     "text": [
      "✅ Validation completed in 2.82s\n",
      "\n",
      "📊 Epoch 4 Summary:\n",
      "│ Train Loss: 0.0202 | Train Acc: 0.9987\n",
      "│ Val Loss:   0.7199 | Val Acc:   0.7764\n",
      "│ Train Time: 15.86s | Val Time: 2.82s\n",
      "│ Total Epoch Time: 18.68s\n",
      "│ Best Val Loss: 0.6809 (Epoch 3)\n",
      "│ GPU Memory: 0.1GB / 2.8GB\n",
      "================================================================================\n",
      "\n",
      "📈 Epoch 5/50\n",
      "--------------------------------------------------\n",
      "🔄 Training Phase...\n"
     ]
    },
    {
     "name": "stderr",
     "output_type": "stream",
     "text": [
      "Training: 100%|██████████████████████████████| 48/48 [00:15<00:00,  3.04it/s, Loss=0.0114, Acc=1.0000]\n"
     ]
    },
    {
     "name": "stdout",
     "output_type": "stream",
     "text": [
      "✅ Training completed in 15.81s\n",
      "🔍 Validation Phase...\n"
     ]
    },
    {
     "name": "stderr",
     "output_type": "stream",
     "text": [
      "Validation: 100%|██████████████████████████████| 13/13 [00:02<00:00,  4.69it/s, Loss=0.6953, Acc=0.7981]\n"
     ]
    },
    {
     "name": "stdout",
     "output_type": "stream",
     "text": [
      "✅ Validation completed in 2.77s\n",
      "\n",
      "📊 Epoch 5 Summary:\n",
      "│ Train Loss: 0.0114 | Train Acc: 1.0000\n",
      "│ Val Loss:   0.6953 | Val Acc:   0.7981\n",
      "│ Train Time: 15.81s | Val Time: 2.77s\n",
      "│ Total Epoch Time: 18.58s\n",
      "│ Best Val Loss: 0.6809 (Epoch 3)\n",
      "│ GPU Memory: 0.1GB / 2.8GB\n",
      "================================================================================\n",
      "\n",
      "📈 Epoch 6/50\n",
      "--------------------------------------------------\n",
      "🔄 Training Phase...\n"
     ]
    },
    {
     "name": "stderr",
     "output_type": "stream",
     "text": [
      "Training: 100%|██████████████████████████████| 48/48 [00:15<00:00,  3.11it/s, Loss=0.0072, Acc=1.0000]\n"
     ]
    },
    {
     "name": "stdout",
     "output_type": "stream",
     "text": [
      "✅ Training completed in 15.46s\n",
      "🔍 Validation Phase...\n"
     ]
    },
    {
     "name": "stderr",
     "output_type": "stream",
     "text": [
      "Validation: 100%|██████████████████████████████| 13/13 [00:02<00:00,  4.62it/s, Loss=0.6786, Acc=0.8005]\n"
     ]
    },
    {
     "name": "stdout",
     "output_type": "stream",
     "text": [
      "✅ Validation completed in 2.82s\n",
      "🌟 New best model found! Validation Loss: 0.6786\n",
      "\n",
      "📊 Epoch 6 Summary:\n",
      "│ Train Loss: 0.0072 | Train Acc: 1.0000\n",
      "│ Val Loss:   0.6786 | Val Acc:   0.8005\n",
      "│ Train Time: 15.46s | Val Time: 2.82s\n",
      "│ Total Epoch Time: 18.45s\n",
      "│ Best Val Loss: 0.6786 (Epoch 6)\n",
      "│ GPU Memory: 0.1GB / 2.8GB\n",
      "================================================================================\n",
      "\n",
      "📈 Epoch 7/50\n",
      "--------------------------------------------------\n",
      "🔄 Training Phase...\n"
     ]
    },
    {
     "name": "stderr",
     "output_type": "stream",
     "text": [
      "Training: 100%|██████████████████████████████| 48/48 [00:15<00:00,  3.03it/s, Loss=0.0060, Acc=1.0000]\n"
     ]
    },
    {
     "name": "stdout",
     "output_type": "stream",
     "text": [
      "✅ Training completed in 15.83s\n",
      "🔍 Validation Phase...\n"
     ]
    },
    {
     "name": "stderr",
     "output_type": "stream",
     "text": [
      "Validation: 100%|██████████████████████████████| 13/13 [00:02<00:00,  4.72it/s, Loss=0.6910, Acc=0.7957]\n"
     ]
    },
    {
     "name": "stdout",
     "output_type": "stream",
     "text": [
      "✅ Validation completed in 2.76s\n",
      "\n",
      "📊 Epoch 7 Summary:\n",
      "│ Train Loss: 0.0060 | Train Acc: 1.0000\n",
      "│ Val Loss:   0.6910 | Val Acc:   0.7957\n",
      "│ Train Time: 15.83s | Val Time: 2.76s\n",
      "│ Total Epoch Time: 18.59s\n",
      "│ Best Val Loss: 0.6786 (Epoch 6)\n",
      "│ GPU Memory: 0.1GB / 2.8GB\n",
      "================================================================================\n",
      "\n",
      "📈 Epoch 8/50\n",
      "--------------------------------------------------\n",
      "🔄 Training Phase...\n"
     ]
    },
    {
     "name": "stderr",
     "output_type": "stream",
     "text": [
      "Training: 100%|██████████████████████████████| 48/48 [00:15<00:00,  3.01it/s, Loss=0.0032, Acc=1.0000]\n"
     ]
    },
    {
     "name": "stdout",
     "output_type": "stream",
     "text": [
      "✅ Training completed in 15.96s\n",
      "🔍 Validation Phase...\n"
     ]
    },
    {
     "name": "stderr",
     "output_type": "stream",
     "text": [
      "Validation: 100%|██████████████████████████████| 13/13 [00:02<00:00,  4.53it/s, Loss=0.7239, Acc=0.7837]\n"
     ]
    },
    {
     "name": "stdout",
     "output_type": "stream",
     "text": [
      "✅ Validation completed in 2.87s\n",
      "\n",
      "📊 Epoch 8 Summary:\n",
      "│ Train Loss: 0.0032 | Train Acc: 1.0000\n",
      "│ Val Loss:   0.7239 | Val Acc:   0.7837\n",
      "│ Train Time: 15.96s | Val Time: 2.87s\n",
      "│ Total Epoch Time: 18.83s\n",
      "│ Best Val Loss: 0.6786 (Epoch 6)\n",
      "│ GPU Memory: 0.1GB / 2.8GB\n",
      "================================================================================\n",
      "\n",
      "📈 Epoch 9/50\n",
      "--------------------------------------------------\n",
      "🔄 Training Phase...\n"
     ]
    },
    {
     "name": "stderr",
     "output_type": "stream",
     "text": [
      "Training: 100%|██████████████████████████████| 48/48 [00:15<00:00,  3.02it/s, Loss=0.0029, Acc=1.0000]\n"
     ]
    },
    {
     "name": "stdout",
     "output_type": "stream",
     "text": [
      "✅ Training completed in 15.87s\n",
      "🔍 Validation Phase...\n"
     ]
    },
    {
     "name": "stderr",
     "output_type": "stream",
     "text": [
      "Validation: 100%|██████████████████████████████| 13/13 [00:02<00:00,  4.79it/s, Loss=0.7299, Acc=0.7957]\n"
     ]
    },
    {
     "name": "stdout",
     "output_type": "stream",
     "text": [
      "✅ Validation completed in 2.72s\n",
      "\n",
      "📊 Epoch 9 Summary:\n",
      "│ Train Loss: 0.0029 | Train Acc: 1.0000\n",
      "│ Val Loss:   0.7299 | Val Acc:   0.7957\n",
      "│ Train Time: 15.87s | Val Time: 2.72s\n",
      "│ Total Epoch Time: 18.60s\n",
      "│ Best Val Loss: 0.6786 (Epoch 6)\n",
      "│ GPU Memory: 0.1GB / 2.8GB\n",
      "================================================================================\n",
      "\n",
      "📈 Epoch 10/50\n",
      "--------------------------------------------------\n",
      "🔄 Training Phase...\n"
     ]
    },
    {
     "name": "stderr",
     "output_type": "stream",
     "text": [
      "Training: 100%|██████████████████████████████| 48/48 [00:15<00:00,  3.01it/s, Loss=0.0019, Acc=1.0000]\n"
     ]
    },
    {
     "name": "stdout",
     "output_type": "stream",
     "text": [
      "✅ Training completed in 15.94s\n",
      "🔍 Validation Phase...\n"
     ]
    },
    {
     "name": "stderr",
     "output_type": "stream",
     "text": [
      "Validation: 100%|██████████████████████████████| 13/13 [00:02<00:00,  4.47it/s, Loss=0.7261, Acc=0.7885]\n"
     ]
    },
    {
     "name": "stdout",
     "output_type": "stream",
     "text": [
      "✅ Validation completed in 2.91s\n",
      "\n",
      "📊 Epoch 10 Summary:\n",
      "│ Train Loss: 0.0019 | Train Acc: 1.0000\n",
      "│ Val Loss:   0.7261 | Val Acc:   0.7885\n",
      "│ Train Time: 15.94s | Val Time: 2.91s\n",
      "│ Total Epoch Time: 18.86s\n",
      "│ Best Val Loss: 0.6786 (Epoch 6)\n",
      "│ GPU Memory: 0.1GB / 2.8GB\n",
      "================================================================================\n",
      "\n",
      "📈 Epoch 11/50\n",
      "--------------------------------------------------\n",
      "🔄 Training Phase...\n"
     ]
    },
    {
     "name": "stderr",
     "output_type": "stream",
     "text": [
      "Training: 100%|██████████████████████████████| 48/48 [00:16<00:00,  2.97it/s, Loss=0.0023, Acc=1.0000]\n"
     ]
    },
    {
     "name": "stdout",
     "output_type": "stream",
     "text": [
      "✅ Training completed in 16.18s\n",
      "🔍 Validation Phase...\n"
     ]
    },
    {
     "name": "stderr",
     "output_type": "stream",
     "text": [
      "Validation: 100%|██████████████████████████████| 13/13 [00:02<00:00,  4.53it/s, Loss=0.7196, Acc=0.7957]\n"
     ]
    },
    {
     "name": "stdout",
     "output_type": "stream",
     "text": [
      "✅ Validation completed in 2.88s\n",
      "\n",
      "📊 Epoch 11 Summary:\n",
      "│ Train Loss: 0.0023 | Train Acc: 1.0000\n",
      "│ Val Loss:   0.7196 | Val Acc:   0.7957\n",
      "│ Train Time: 16.18s | Val Time: 2.88s\n",
      "│ Total Epoch Time: 19.06s\n",
      "│ Best Val Loss: 0.6786 (Epoch 6)\n",
      "│ GPU Memory: 0.1GB / 2.8GB\n",
      "================================================================================\n",
      "\n",
      "📈 Epoch 12/50\n",
      "--------------------------------------------------\n",
      "🔄 Training Phase...\n"
     ]
    },
    {
     "name": "stderr",
     "output_type": "stream",
     "text": [
      "Training: 100%|██████████████████████████████| 48/48 [00:15<00:00,  3.00it/s, Loss=0.0017, Acc=1.0000]\n"
     ]
    },
    {
     "name": "stdout",
     "output_type": "stream",
     "text": [
      "✅ Training completed in 15.98s\n",
      "🔍 Validation Phase...\n"
     ]
    },
    {
     "name": "stderr",
     "output_type": "stream",
     "text": [
      "Validation: 100%|██████████████████████████████| 13/13 [00:02<00:00,  4.68it/s, Loss=0.7317, Acc=0.8077]\n"
     ]
    },
    {
     "name": "stdout",
     "output_type": "stream",
     "text": [
      "✅ Validation completed in 2.78s\n",
      "\n",
      "📊 Epoch 12 Summary:\n",
      "│ Train Loss: 0.0017 | Train Acc: 1.0000\n",
      "│ Val Loss:   0.7317 | Val Acc:   0.8077\n",
      "│ Train Time: 15.98s | Val Time: 2.78s\n",
      "│ Total Epoch Time: 18.76s\n",
      "│ Best Val Loss: 0.6786 (Epoch 6)\n",
      "│ GPU Memory: 0.1GB / 2.8GB\n",
      "================================================================================\n",
      "\n",
      "📈 Epoch 13/50\n",
      "--------------------------------------------------\n",
      "🔄 Training Phase...\n"
     ]
    },
    {
     "name": "stderr",
     "output_type": "stream",
     "text": [
      "Training: 100%|██████████████████████████████| 48/48 [00:15<00:00,  3.03it/s, Loss=0.0023, Acc=1.0000]\n"
     ]
    },
    {
     "name": "stdout",
     "output_type": "stream",
     "text": [
      "✅ Training completed in 15.86s\n",
      "🔍 Validation Phase...\n"
     ]
    },
    {
     "name": "stderr",
     "output_type": "stream",
     "text": [
      "Validation: 100%|██████████████████████████████| 13/13 [00:02<00:00,  4.80it/s, Loss=0.7285, Acc=0.8029]\n"
     ]
    },
    {
     "name": "stdout",
     "output_type": "stream",
     "text": [
      "✅ Validation completed in 2.71s\n",
      "\n",
      "📊 Epoch 13 Summary:\n",
      "│ Train Loss: 0.0023 | Train Acc: 1.0000\n",
      "│ Val Loss:   0.7285 | Val Acc:   0.8029\n",
      "│ Train Time: 15.86s | Val Time: 2.71s\n",
      "│ Total Epoch Time: 18.58s\n",
      "│ Best Val Loss: 0.6786 (Epoch 6)\n",
      "│ GPU Memory: 0.1GB / 2.8GB\n",
      "================================================================================\n",
      "\n",
      "📈 Epoch 14/50\n",
      "--------------------------------------------------\n",
      "🔄 Training Phase...\n"
     ]
    },
    {
     "name": "stderr",
     "output_type": "stream",
     "text": [
      "Training: 100%|██████████████████████████████| 48/48 [00:15<00:00,  3.02it/s, Loss=0.0017, Acc=1.0000]\n"
     ]
    },
    {
     "name": "stdout",
     "output_type": "stream",
     "text": [
      "✅ Training completed in 15.88s\n",
      "🔍 Validation Phase...\n"
     ]
    },
    {
     "name": "stderr",
     "output_type": "stream",
     "text": [
      "Validation: 100%|██████████████████████████████| 13/13 [00:02<00:00,  4.69it/s, Loss=0.7548, Acc=0.7981]\n"
     ]
    },
    {
     "name": "stdout",
     "output_type": "stream",
     "text": [
      "✅ Validation completed in 2.78s\n",
      "\n",
      "📊 Epoch 14 Summary:\n",
      "│ Train Loss: 0.0017 | Train Acc: 1.0000\n",
      "│ Val Loss:   0.7548 | Val Acc:   0.7981\n",
      "│ Train Time: 15.88s | Val Time: 2.78s\n",
      "│ Total Epoch Time: 18.66s\n",
      "│ Best Val Loss: 0.6786 (Epoch 6)\n",
      "│ GPU Memory: 0.1GB / 2.8GB\n",
      "================================================================================\n",
      "\n",
      "📈 Epoch 15/50\n",
      "--------------------------------------------------\n",
      "🔄 Training Phase...\n"
     ]
    },
    {
     "name": "stderr",
     "output_type": "stream",
     "text": [
      "Training: 100%|██████████████████████████████| 48/48 [00:15<00:00,  3.04it/s, Loss=0.0011, Acc=1.0000]\n"
     ]
    },
    {
     "name": "stdout",
     "output_type": "stream",
     "text": [
      "✅ Training completed in 15.77s\n",
      "🔍 Validation Phase...\n"
     ]
    },
    {
     "name": "stderr",
     "output_type": "stream",
     "text": [
      "Validation: 100%|██████████████████████████████| 13/13 [00:02<00:00,  4.77it/s, Loss=0.7306, Acc=0.8101]\n"
     ]
    },
    {
     "name": "stdout",
     "output_type": "stream",
     "text": [
      "✅ Validation completed in 2.73s\n",
      "\n",
      "📊 Epoch 15 Summary:\n",
      "│ Train Loss: 0.0011 | Train Acc: 1.0000\n",
      "│ Val Loss:   0.7306 | Val Acc:   0.8101\n",
      "│ Train Time: 15.77s | Val Time: 2.73s\n",
      "│ Total Epoch Time: 18.50s\n",
      "│ Best Val Loss: 0.6786 (Epoch 6)\n",
      "│ GPU Memory: 0.1GB / 2.8GB\n",
      "================================================================================\n",
      "\n",
      "📈 Epoch 16/50\n",
      "--------------------------------------------------\n",
      "🔄 Training Phase...\n"
     ]
    },
    {
     "name": "stderr",
     "output_type": "stream",
     "text": [
      "Training: 100%|██████████████████████████████| 48/48 [00:16<00:00,  2.97it/s, Loss=0.0010, Acc=1.0000]\n"
     ]
    },
    {
     "name": "stdout",
     "output_type": "stream",
     "text": [
      "✅ Training completed in 16.14s\n",
      "🔍 Validation Phase...\n"
     ]
    },
    {
     "name": "stderr",
     "output_type": "stream",
     "text": [
      "Validation: 100%|██████████████████████████████| 13/13 [00:02<00:00,  4.69it/s, Loss=0.7254, Acc=0.8005]\n"
     ]
    },
    {
     "name": "stdout",
     "output_type": "stream",
     "text": [
      "✅ Validation completed in 2.77s\n",
      "\n",
      "📊 Epoch 16 Summary:\n",
      "│ Train Loss: 0.0010 | Train Acc: 1.0000\n",
      "│ Val Loss:   0.7254 | Val Acc:   0.8005\n",
      "│ Train Time: 16.14s | Val Time: 2.77s\n",
      "│ Total Epoch Time: 18.92s\n",
      "│ Best Val Loss: 0.6786 (Epoch 6)\n",
      "│ GPU Memory: 0.1GB / 2.8GB\n",
      "================================================================================\n",
      "\n",
      "📈 Epoch 17/50\n",
      "--------------------------------------------------\n",
      "🔄 Training Phase...\n"
     ]
    },
    {
     "name": "stderr",
     "output_type": "stream",
     "text": [
      "Training: 100%|██████████████████████████████| 48/48 [00:15<00:00,  3.00it/s, Loss=0.0015, Acc=1.0000]\n"
     ]
    },
    {
     "name": "stdout",
     "output_type": "stream",
     "text": [
      "✅ Training completed in 15.99s\n",
      "🔍 Validation Phase...\n"
     ]
    },
    {
     "name": "stderr",
     "output_type": "stream",
     "text": [
      "Validation: 100%|██████████████████████████████| 13/13 [00:02<00:00,  4.46it/s, Loss=0.7631, Acc=0.8005]\n"
     ]
    },
    {
     "name": "stdout",
     "output_type": "stream",
     "text": [
      "✅ Validation completed in 2.92s\n",
      "\n",
      "📊 Epoch 17 Summary:\n",
      "│ Train Loss: 0.0015 | Train Acc: 1.0000\n",
      "│ Val Loss:   0.7631 | Val Acc:   0.8005\n",
      "│ Train Time: 15.99s | Val Time: 2.92s\n",
      "│ Total Epoch Time: 18.91s\n",
      "│ Best Val Loss: 0.6786 (Epoch 6)\n",
      "│ GPU Memory: 0.1GB / 2.8GB\n",
      "================================================================================\n",
      "\n",
      "📈 Epoch 18/50\n",
      "--------------------------------------------------\n",
      "🔄 Training Phase...\n"
     ]
    },
    {
     "name": "stderr",
     "output_type": "stream",
     "text": [
      "Training: 100%|██████████████████████████████| 48/48 [00:15<00:00,  3.01it/s, Loss=0.0008, Acc=1.0000]\n"
     ]
    },
    {
     "name": "stdout",
     "output_type": "stream",
     "text": [
      "✅ Training completed in 15.93s\n",
      "🔍 Validation Phase...\n"
     ]
    },
    {
     "name": "stderr",
     "output_type": "stream",
     "text": [
      "Validation: 100%|██████████████████████████████| 13/13 [00:02<00:00,  4.69it/s, Loss=0.7112, Acc=0.8173]\n"
     ]
    },
    {
     "name": "stdout",
     "output_type": "stream",
     "text": [
      "✅ Validation completed in 2.77s\n",
      "\n",
      "📊 Epoch 18 Summary:\n",
      "│ Train Loss: 0.0008 | Train Acc: 1.0000\n",
      "│ Val Loss:   0.7112 | Val Acc:   0.8173\n",
      "│ Train Time: 15.93s | Val Time: 2.77s\n",
      "│ Total Epoch Time: 18.70s\n",
      "│ Best Val Loss: 0.6786 (Epoch 6)\n",
      "│ GPU Memory: 0.1GB / 2.8GB\n",
      "================================================================================\n",
      "\n",
      "📈 Epoch 19/50\n",
      "--------------------------------------------------\n",
      "🔄 Training Phase...\n"
     ]
    },
    {
     "name": "stderr",
     "output_type": "stream",
     "text": [
      "Training: 100%|██████████████████████████████| 48/48 [00:16<00:00,  3.00it/s, Loss=0.0009, Acc=1.0000]\n"
     ]
    },
    {
     "name": "stdout",
     "output_type": "stream",
     "text": [
      "✅ Training completed in 16.00s\n",
      "🔍 Validation Phase...\n"
     ]
    },
    {
     "name": "stderr",
     "output_type": "stream",
     "text": [
      "Validation: 100%|██████████████████████████████| 13/13 [00:02<00:00,  4.70it/s, Loss=0.7312, Acc=0.8053]\n"
     ]
    },
    {
     "name": "stdout",
     "output_type": "stream",
     "text": [
      "✅ Validation completed in 2.77s\n",
      "\n",
      "📊 Epoch 19 Summary:\n",
      "│ Train Loss: 0.0009 | Train Acc: 1.0000\n",
      "│ Val Loss:   0.7312 | Val Acc:   0.8053\n",
      "│ Train Time: 16.00s | Val Time: 2.77s\n",
      "│ Total Epoch Time: 18.77s\n",
      "│ Best Val Loss: 0.6786 (Epoch 6)\n",
      "│ GPU Memory: 0.1GB / 2.8GB\n",
      "================================================================================\n",
      "\n",
      "📈 Epoch 20/50\n",
      "--------------------------------------------------\n",
      "🔄 Training Phase...\n"
     ]
    },
    {
     "name": "stderr",
     "output_type": "stream",
     "text": [
      "Training: 100%|██████████████████████████████| 48/48 [00:16<00:00,  3.00it/s, Loss=0.0008, Acc=1.0000]\n"
     ]
    },
    {
     "name": "stdout",
     "output_type": "stream",
     "text": [
      "✅ Training completed in 16.03s\n",
      "🔍 Validation Phase...\n"
     ]
    },
    {
     "name": "stderr",
     "output_type": "stream",
     "text": [
      "Validation: 100%|██████████████████████████████| 13/13 [00:02<00:00,  4.75it/s, Loss=0.7534, Acc=0.8029]\n"
     ]
    },
    {
     "name": "stdout",
     "output_type": "stream",
     "text": [
      "✅ Validation completed in 2.74s\n",
      "\n",
      "📊 Epoch 20 Summary:\n",
      "│ Train Loss: 0.0008 | Train Acc: 1.0000\n",
      "│ Val Loss:   0.7534 | Val Acc:   0.8029\n",
      "│ Train Time: 16.03s | Val Time: 2.74s\n",
      "│ Total Epoch Time: 18.77s\n",
      "│ Best Val Loss: 0.6786 (Epoch 6)\n",
      "│ GPU Memory: 0.1GB / 2.8GB\n",
      "================================================================================\n",
      "\n",
      "📈 Epoch 21/50\n",
      "--------------------------------------------------\n",
      "🔄 Training Phase...\n"
     ]
    },
    {
     "name": "stderr",
     "output_type": "stream",
     "text": [
      "Training: 100%|██████████████████████████████| 48/48 [00:16<00:00,  3.00it/s, Loss=0.0007, Acc=1.0000]\n"
     ]
    },
    {
     "name": "stdout",
     "output_type": "stream",
     "text": [
      "✅ Training completed in 16.03s\n",
      "🔍 Validation Phase...\n"
     ]
    },
    {
     "name": "stderr",
     "output_type": "stream",
     "text": [
      "Validation: 100%|██████████████████████████████| 13/13 [00:02<00:00,  4.57it/s, Loss=0.8161, Acc=0.8029]\n"
     ]
    },
    {
     "name": "stdout",
     "output_type": "stream",
     "text": [
      "✅ Validation completed in 2.85s\n",
      "\n",
      "📊 Epoch 21 Summary:\n",
      "│ Train Loss: 0.0007 | Train Acc: 1.0000\n",
      "│ Val Loss:   0.8161 | Val Acc:   0.8029\n",
      "│ Train Time: 16.03s | Val Time: 2.85s\n",
      "│ Total Epoch Time: 18.88s\n",
      "│ Best Val Loss: 0.6786 (Epoch 6)\n",
      "│ GPU Memory: 0.1GB / 2.8GB\n",
      "================================================================================\n",
      "\n",
      "📈 Epoch 22/50\n",
      "--------------------------------------------------\n",
      "🔄 Training Phase...\n"
     ]
    },
    {
     "name": "stderr",
     "output_type": "stream",
     "text": [
      "Training: 100%|██████████████████████████████| 48/48 [00:15<00:00,  3.02it/s, Loss=0.0007, Acc=1.0000]\n"
     ]
    },
    {
     "name": "stdout",
     "output_type": "stream",
     "text": [
      "✅ Training completed in 15.92s\n",
      "🔍 Validation Phase...\n"
     ]
    },
    {
     "name": "stderr",
     "output_type": "stream",
     "text": [
      "Validation: 100%|██████████████████████████████| 13/13 [00:02<00:00,  4.68it/s, Loss=0.7915, Acc=0.8029]\n"
     ]
    },
    {
     "name": "stdout",
     "output_type": "stream",
     "text": [
      "✅ Validation completed in 2.78s\n",
      "\n",
      "📊 Epoch 22 Summary:\n",
      "│ Train Loss: 0.0007 | Train Acc: 1.0000\n",
      "│ Val Loss:   0.7915 | Val Acc:   0.8029\n",
      "│ Train Time: 15.92s | Val Time: 2.78s\n",
      "│ Total Epoch Time: 18.70s\n",
      "│ Best Val Loss: 0.6786 (Epoch 6)\n",
      "│ GPU Memory: 0.1GB / 2.8GB\n",
      "================================================================================\n",
      "\n",
      "📈 Epoch 23/50\n",
      "--------------------------------------------------\n",
      "🔄 Training Phase...\n"
     ]
    },
    {
     "name": "stderr",
     "output_type": "stream",
     "text": [
      "Training: 100%|██████████████████████████████| 48/48 [00:15<00:00,  3.00it/s, Loss=0.0005, Acc=1.0000]\n"
     ]
    },
    {
     "name": "stdout",
     "output_type": "stream",
     "text": [
      "✅ Training completed in 16.00s\n",
      "🔍 Validation Phase...\n"
     ]
    },
    {
     "name": "stderr",
     "output_type": "stream",
     "text": [
      "Validation: 100%|██████████████████████████████| 13/13 [00:02<00:00,  4.74it/s, Loss=0.7780, Acc=0.8077]\n"
     ]
    },
    {
     "name": "stdout",
     "output_type": "stream",
     "text": [
      "✅ Validation completed in 2.74s\n",
      "\n",
      "📊 Epoch 23 Summary:\n",
      "│ Train Loss: 0.0005 | Train Acc: 1.0000\n",
      "│ Val Loss:   0.7780 | Val Acc:   0.8077\n",
      "│ Train Time: 16.00s | Val Time: 2.74s\n",
      "│ Total Epoch Time: 18.74s\n",
      "│ Best Val Loss: 0.6786 (Epoch 6)\n",
      "│ GPU Memory: 0.1GB / 2.8GB\n",
      "================================================================================\n",
      "\n",
      "📈 Epoch 24/50\n",
      "--------------------------------------------------\n",
      "🔄 Training Phase...\n"
     ]
    },
    {
     "name": "stderr",
     "output_type": "stream",
     "text": [
      "Training: 100%|██████████████████████████████| 48/48 [00:16<00:00,  2.99it/s, Loss=0.0004, Acc=1.0000]\n"
     ]
    },
    {
     "name": "stdout",
     "output_type": "stream",
     "text": [
      "✅ Training completed in 16.08s\n",
      "🔍 Validation Phase...\n"
     ]
    },
    {
     "name": "stderr",
     "output_type": "stream",
     "text": [
      "Validation: 100%|██████████████████████████████| 13/13 [00:02<00:00,  4.58it/s, Loss=0.7745, Acc=0.8005]\n"
     ]
    },
    {
     "name": "stdout",
     "output_type": "stream",
     "text": [
      "✅ Validation completed in 2.84s\n",
      "\n",
      "📊 Epoch 24 Summary:\n",
      "│ Train Loss: 0.0004 | Train Acc: 1.0000\n",
      "│ Val Loss:   0.7745 | Val Acc:   0.8005\n",
      "│ Train Time: 16.08s | Val Time: 2.84s\n",
      "│ Total Epoch Time: 18.92s\n",
      "│ Best Val Loss: 0.6786 (Epoch 6)\n",
      "│ GPU Memory: 0.1GB / 2.8GB\n",
      "================================================================================\n",
      "\n",
      "📈 Epoch 25/50\n",
      "--------------------------------------------------\n",
      "🔄 Training Phase...\n"
     ]
    },
    {
     "name": "stderr",
     "output_type": "stream",
     "text": [
      "Training: 100%|██████████████████████████████| 48/48 [00:16<00:00,  3.00it/s, Loss=0.0005, Acc=1.0000]\n"
     ]
    },
    {
     "name": "stdout",
     "output_type": "stream",
     "text": [
      "✅ Training completed in 16.03s\n",
      "🔍 Validation Phase...\n"
     ]
    },
    {
     "name": "stderr",
     "output_type": "stream",
     "text": [
      "Validation: 100%|██████████████████████████████| 13/13 [00:02<00:00,  4.63it/s, Loss=0.7816, Acc=0.8029]\n"
     ]
    },
    {
     "name": "stdout",
     "output_type": "stream",
     "text": [
      "✅ Validation completed in 2.81s\n",
      "\n",
      "📊 Epoch 25 Summary:\n",
      "│ Train Loss: 0.0005 | Train Acc: 1.0000\n",
      "│ Val Loss:   0.7816 | Val Acc:   0.8029\n",
      "│ Train Time: 16.03s | Val Time: 2.81s\n",
      "│ Total Epoch Time: 18.84s\n",
      "│ Best Val Loss: 0.6786 (Epoch 6)\n",
      "│ GPU Memory: 0.1GB / 2.8GB\n",
      "================================================================================\n",
      "\n",
      "📈 Epoch 26/50\n",
      "--------------------------------------------------\n",
      "🔄 Training Phase...\n"
     ]
    },
    {
     "name": "stderr",
     "output_type": "stream",
     "text": [
      "Training: 100%|██████████████████████████████| 48/48 [00:16<00:00,  2.96it/s, Loss=0.0004, Acc=1.0000]\n"
     ]
    },
    {
     "name": "stdout",
     "output_type": "stream",
     "text": [
      "✅ Training completed in 16.21s\n",
      "🔍 Validation Phase...\n"
     ]
    },
    {
     "name": "stderr",
     "output_type": "stream",
     "text": [
      "Validation: 100%|██████████████████████████████| 13/13 [00:02<00:00,  4.62it/s, Loss=0.7955, Acc=0.8005]\n"
     ]
    },
    {
     "name": "stdout",
     "output_type": "stream",
     "text": [
      "✅ Validation completed in 2.82s\n",
      "\n",
      "📊 Epoch 26 Summary:\n",
      "│ Train Loss: 0.0004 | Train Acc: 1.0000\n",
      "│ Val Loss:   0.7955 | Val Acc:   0.8005\n",
      "│ Train Time: 16.21s | Val Time: 2.82s\n",
      "│ Total Epoch Time: 19.03s\n",
      "│ Best Val Loss: 0.6786 (Epoch 6)\n",
      "│ GPU Memory: 0.1GB / 2.8GB\n",
      "================================================================================\n",
      "\n",
      "📈 Epoch 27/50\n",
      "--------------------------------------------------\n",
      "🔄 Training Phase...\n"
     ]
    },
    {
     "name": "stderr",
     "output_type": "stream",
     "text": [
      "Training: 100%|██████████████████████████████| 48/48 [00:16<00:00,  2.97it/s, Loss=0.0006, Acc=1.0000]\n"
     ]
    },
    {
     "name": "stdout",
     "output_type": "stream",
     "text": [
      "✅ Training completed in 16.16s\n",
      "🔍 Validation Phase...\n"
     ]
    },
    {
     "name": "stderr",
     "output_type": "stream",
     "text": [
      "Validation: 100%|██████████████████████████████| 13/13 [00:02<00:00,  4.48it/s, Loss=0.7907, Acc=0.8101]\n"
     ]
    },
    {
     "name": "stdout",
     "output_type": "stream",
     "text": [
      "✅ Validation completed in 2.90s\n",
      "\n",
      "📊 Epoch 27 Summary:\n",
      "│ Train Loss: 0.0006 | Train Acc: 1.0000\n",
      "│ Val Loss:   0.7907 | Val Acc:   0.8101\n",
      "│ Train Time: 16.16s | Val Time: 2.90s\n",
      "│ Total Epoch Time: 19.06s\n",
      "│ Best Val Loss: 0.6786 (Epoch 6)\n",
      "│ GPU Memory: 0.1GB / 2.8GB\n",
      "================================================================================\n",
      "\n",
      "📈 Epoch 28/50\n",
      "--------------------------------------------------\n",
      "🔄 Training Phase...\n"
     ]
    },
    {
     "name": "stderr",
     "output_type": "stream",
     "text": [
      "Training: 100%|██████████████████████████████| 48/48 [00:16<00:00,  2.95it/s, Loss=0.0010, Acc=1.0000]\n"
     ]
    },
    {
     "name": "stdout",
     "output_type": "stream",
     "text": [
      "✅ Training completed in 16.25s\n",
      "🔍 Validation Phase...\n"
     ]
    },
    {
     "name": "stderr",
     "output_type": "stream",
     "text": [
      "Validation: 100%|██████████████████████████████| 13/13 [00:02<00:00,  4.69it/s, Loss=0.7551, Acc=0.8149]\n"
     ]
    },
    {
     "name": "stdout",
     "output_type": "stream",
     "text": [
      "✅ Validation completed in 2.78s\n",
      "\n",
      "📊 Epoch 28 Summary:\n",
      "│ Train Loss: 0.0010 | Train Acc: 1.0000\n",
      "│ Val Loss:   0.7551 | Val Acc:   0.8149\n",
      "│ Train Time: 16.25s | Val Time: 2.78s\n",
      "│ Total Epoch Time: 19.03s\n",
      "│ Best Val Loss: 0.6786 (Epoch 6)\n",
      "│ GPU Memory: 0.1GB / 2.8GB\n",
      "================================================================================\n",
      "\n",
      "📈 Epoch 29/50\n",
      "--------------------------------------------------\n",
      "🔄 Training Phase...\n"
     ]
    },
    {
     "name": "stderr",
     "output_type": "stream",
     "text": [
      "Training: 100%|██████████████████████████████| 48/48 [00:16<00:00,  2.98it/s, Loss=0.0006, Acc=1.0000]\n"
     ]
    },
    {
     "name": "stdout",
     "output_type": "stream",
     "text": [
      "✅ Training completed in 16.12s\n",
      "🔍 Validation Phase...\n"
     ]
    },
    {
     "name": "stderr",
     "output_type": "stream",
     "text": [
      "Validation: 100%|██████████████████████████████| 13/13 [00:02<00:00,  4.63it/s, Loss=0.7763, Acc=0.8053]\n"
     ]
    },
    {
     "name": "stdout",
     "output_type": "stream",
     "text": [
      "✅ Validation completed in 2.81s\n",
      "\n",
      "📊 Epoch 29 Summary:\n",
      "│ Train Loss: 0.0006 | Train Acc: 1.0000\n",
      "│ Val Loss:   0.7763 | Val Acc:   0.8053\n",
      "│ Train Time: 16.12s | Val Time: 2.81s\n",
      "│ Total Epoch Time: 18.93s\n",
      "│ Best Val Loss: 0.6786 (Epoch 6)\n",
      "│ GPU Memory: 0.1GB / 2.8GB\n",
      "================================================================================\n",
      "\n",
      "📈 Epoch 30/50\n",
      "--------------------------------------------------\n",
      "🔄 Training Phase...\n"
     ]
    },
    {
     "name": "stderr",
     "output_type": "stream",
     "text": [
      "Training: 100%|██████████████████████████████| 48/48 [00:16<00:00,  2.96it/s, Loss=0.0008, Acc=1.0000]\n"
     ]
    },
    {
     "name": "stdout",
     "output_type": "stream",
     "text": [
      "✅ Training completed in 16.21s\n",
      "🔍 Validation Phase...\n"
     ]
    },
    {
     "name": "stderr",
     "output_type": "stream",
     "text": [
      "Validation: 100%|██████████████████████████████| 13/13 [00:02<00:00,  4.63it/s, Loss=0.8183, Acc=0.8125]\n"
     ]
    },
    {
     "name": "stdout",
     "output_type": "stream",
     "text": [
      "✅ Validation completed in 2.82s\n",
      "\n",
      "📊 Epoch 30 Summary:\n",
      "│ Train Loss: 0.0008 | Train Acc: 1.0000\n",
      "│ Val Loss:   0.8183 | Val Acc:   0.8125\n",
      "│ Train Time: 16.21s | Val Time: 2.82s\n",
      "│ Total Epoch Time: 19.03s\n",
      "│ Best Val Loss: 0.6786 (Epoch 6)\n",
      "│ GPU Memory: 0.1GB / 2.8GB\n",
      "================================================================================\n",
      "\n",
      "📈 Epoch 31/50\n",
      "--------------------------------------------------\n",
      "🔄 Training Phase...\n"
     ]
    },
    {
     "name": "stderr",
     "output_type": "stream",
     "text": [
      "Training: 100%|██████████████████████████████| 48/48 [00:16<00:00,  2.97it/s, Loss=0.0004, Acc=1.0000]\n"
     ]
    },
    {
     "name": "stdout",
     "output_type": "stream",
     "text": [
      "✅ Training completed in 16.17s\n",
      "🔍 Validation Phase...\n"
     ]
    },
    {
     "name": "stderr",
     "output_type": "stream",
     "text": [
      "Validation: 100%|██████████████████████████████| 13/13 [00:02<00:00,  4.77it/s, Loss=0.8794, Acc=0.8173]\n"
     ]
    },
    {
     "name": "stdout",
     "output_type": "stream",
     "text": [
      "✅ Validation completed in 2.73s\n",
      "\n",
      "📊 Epoch 31 Summary:\n",
      "│ Train Loss: 0.0004 | Train Acc: 1.0000\n",
      "│ Val Loss:   0.8794 | Val Acc:   0.8173\n",
      "│ Train Time: 16.17s | Val Time: 2.73s\n",
      "│ Total Epoch Time: 18.90s\n",
      "│ Best Val Loss: 0.6786 (Epoch 6)\n",
      "│ GPU Memory: 0.1GB / 2.8GB\n",
      "================================================================================\n",
      "\n",
      "📈 Epoch 32/50\n",
      "--------------------------------------------------\n",
      "🔄 Training Phase...\n"
     ]
    },
    {
     "name": "stderr",
     "output_type": "stream",
     "text": [
      "Training: 100%|██████████████████████████████| 48/48 [00:16<00:00,  2.92it/s, Loss=0.0003, Acc=1.0000]\n"
     ]
    },
    {
     "name": "stdout",
     "output_type": "stream",
     "text": [
      "✅ Training completed in 16.42s\n",
      "🔍 Validation Phase...\n"
     ]
    },
    {
     "name": "stderr",
     "output_type": "stream",
     "text": [
      "Validation: 100%|██████████████████████████████| 13/13 [00:02<00:00,  4.54it/s, Loss=0.8458, Acc=0.8077]\n"
     ]
    },
    {
     "name": "stdout",
     "output_type": "stream",
     "text": [
      "✅ Validation completed in 2.87s\n",
      "\n",
      "📊 Epoch 32 Summary:\n",
      "│ Train Loss: 0.0003 | Train Acc: 1.0000\n",
      "│ Val Loss:   0.8458 | Val Acc:   0.8077\n",
      "│ Train Time: 16.42s | Val Time: 2.87s\n",
      "│ Total Epoch Time: 19.29s\n",
      "│ Best Val Loss: 0.6786 (Epoch 6)\n",
      "│ GPU Memory: 0.1GB / 2.8GB\n",
      "================================================================================\n",
      "\n",
      "📈 Epoch 33/50\n",
      "--------------------------------------------------\n",
      "🔄 Training Phase...\n"
     ]
    },
    {
     "name": "stderr",
     "output_type": "stream",
     "text": [
      "Training: 100%|██████████████████████████████| 48/48 [00:15<00:00,  3.01it/s, Loss=0.0004, Acc=1.0000]\n"
     ]
    },
    {
     "name": "stdout",
     "output_type": "stream",
     "text": [
      "✅ Training completed in 15.96s\n",
      "🔍 Validation Phase...\n"
     ]
    },
    {
     "name": "stderr",
     "output_type": "stream",
     "text": [
      "Validation: 100%|██████████████████████████████| 13/13 [00:02<00:00,  4.75it/s, Loss=0.8618, Acc=0.8125]\n"
     ]
    },
    {
     "name": "stdout",
     "output_type": "stream",
     "text": [
      "✅ Validation completed in 2.74s\n",
      "\n",
      "📊 Epoch 33 Summary:\n",
      "│ Train Loss: 0.0004 | Train Acc: 1.0000\n",
      "│ Val Loss:   0.8618 | Val Acc:   0.8125\n",
      "│ Train Time: 15.96s | Val Time: 2.74s\n",
      "│ Total Epoch Time: 18.70s\n",
      "│ Best Val Loss: 0.6786 (Epoch 6)\n",
      "│ GPU Memory: 0.1GB / 2.8GB\n",
      "================================================================================\n",
      "\n",
      "📈 Epoch 34/50\n",
      "--------------------------------------------------\n",
      "🔄 Training Phase...\n"
     ]
    },
    {
     "name": "stderr",
     "output_type": "stream",
     "text": [
      "Training: 100%|██████████████████████████████| 48/48 [00:16<00:00,  3.00it/s, Loss=0.0007, Acc=1.0000]\n"
     ]
    },
    {
     "name": "stdout",
     "output_type": "stream",
     "text": [
      "✅ Training completed in 16.01s\n",
      "🔍 Validation Phase...\n"
     ]
    },
    {
     "name": "stderr",
     "output_type": "stream",
     "text": [
      "Validation: 100%|██████████████████████████████| 13/13 [00:02<00:00,  4.65it/s, Loss=0.8030, Acc=0.8149]\n"
     ]
    },
    {
     "name": "stdout",
     "output_type": "stream",
     "text": [
      "✅ Validation completed in 2.80s\n",
      "\n",
      "📊 Epoch 34 Summary:\n",
      "│ Train Loss: 0.0007 | Train Acc: 1.0000\n",
      "│ Val Loss:   0.8030 | Val Acc:   0.8149\n",
      "│ Train Time: 16.01s | Val Time: 2.80s\n",
      "│ Total Epoch Time: 18.81s\n",
      "│ Best Val Loss: 0.6786 (Epoch 6)\n",
      "│ GPU Memory: 0.1GB / 2.8GB\n",
      "================================================================================\n",
      "\n",
      "📈 Epoch 35/50\n",
      "--------------------------------------------------\n",
      "🔄 Training Phase...\n"
     ]
    },
    {
     "name": "stderr",
     "output_type": "stream",
     "text": [
      "Training: 100%|██████████████████████████████| 48/48 [00:15<00:00,  3.00it/s, Loss=0.0003, Acc=1.0000]\n"
     ]
    },
    {
     "name": "stdout",
     "output_type": "stream",
     "text": [
      "✅ Training completed in 16.00s\n",
      "🔍 Validation Phase...\n"
     ]
    },
    {
     "name": "stderr",
     "output_type": "stream",
     "text": [
      "Validation: 100%|██████████████████████████████| 13/13 [00:02<00:00,  4.65it/s, Loss=0.8226, Acc=0.8221]\n"
     ]
    },
    {
     "name": "stdout",
     "output_type": "stream",
     "text": [
      "✅ Validation completed in 2.80s\n",
      "\n",
      "📊 Epoch 35 Summary:\n",
      "│ Train Loss: 0.0003 | Train Acc: 1.0000\n",
      "│ Val Loss:   0.8226 | Val Acc:   0.8221\n",
      "│ Train Time: 16.00s | Val Time: 2.80s\n",
      "│ Total Epoch Time: 18.80s\n",
      "│ Best Val Loss: 0.6786 (Epoch 6)\n",
      "│ GPU Memory: 0.1GB / 2.8GB\n",
      "================================================================================\n",
      "\n",
      "📈 Epoch 36/50\n",
      "--------------------------------------------------\n",
      "🔄 Training Phase...\n"
     ]
    },
    {
     "name": "stderr",
     "output_type": "stream",
     "text": [
      "Training: 100%|██████████████████████████████| 48/48 [00:16<00:00,  2.98it/s, Loss=0.0003, Acc=1.0000]\n"
     ]
    },
    {
     "name": "stdout",
     "output_type": "stream",
     "text": [
      "✅ Training completed in 16.12s\n",
      "🔍 Validation Phase...\n"
     ]
    },
    {
     "name": "stderr",
     "output_type": "stream",
     "text": [
      "Validation: 100%|██████████████████████████████| 13/13 [00:02<00:00,  4.69it/s, Loss=0.8428, Acc=0.8053]\n"
     ]
    },
    {
     "name": "stdout",
     "output_type": "stream",
     "text": [
      "✅ Validation completed in 2.77s\n",
      "\n",
      "📊 Epoch 36 Summary:\n",
      "│ Train Loss: 0.0003 | Train Acc: 1.0000\n",
      "│ Val Loss:   0.8428 | Val Acc:   0.8053\n",
      "│ Train Time: 16.12s | Val Time: 2.77s\n",
      "│ Total Epoch Time: 18.89s\n",
      "│ Best Val Loss: 0.6786 (Epoch 6)\n",
      "│ GPU Memory: 0.1GB / 2.8GB\n",
      "================================================================================\n",
      "\n",
      "📈 Epoch 37/50\n",
      "--------------------------------------------------\n",
      "🔄 Training Phase...\n"
     ]
    },
    {
     "name": "stderr",
     "output_type": "stream",
     "text": [
      "Training: 100%|██████████████████████████████| 48/48 [00:16<00:00,  2.98it/s, Loss=0.0003, Acc=1.0000]\n"
     ]
    },
    {
     "name": "stdout",
     "output_type": "stream",
     "text": [
      "✅ Training completed in 16.12s\n",
      "🔍 Validation Phase...\n"
     ]
    },
    {
     "name": "stderr",
     "output_type": "stream",
     "text": [
      "Validation: 100%|██████████████████████████████| 13/13 [00:02<00:00,  4.73it/s, Loss=0.8457, Acc=0.8125]\n"
     ]
    },
    {
     "name": "stdout",
     "output_type": "stream",
     "text": [
      "✅ Validation completed in 2.75s\n",
      "\n",
      "📊 Epoch 37 Summary:\n",
      "│ Train Loss: 0.0003 | Train Acc: 1.0000\n",
      "│ Val Loss:   0.8457 | Val Acc:   0.8125\n",
      "│ Train Time: 16.12s | Val Time: 2.75s\n",
      "│ Total Epoch Time: 18.87s\n",
      "│ Best Val Loss: 0.6786 (Epoch 6)\n",
      "│ GPU Memory: 0.1GB / 2.8GB\n",
      "================================================================================\n",
      "\n",
      "📈 Epoch 38/50\n",
      "--------------------------------------------------\n",
      "🔄 Training Phase...\n"
     ]
    },
    {
     "name": "stderr",
     "output_type": "stream",
     "text": [
      "Training: 100%|██████████████████████████████| 48/48 [00:16<00:00,  2.98it/s, Loss=0.0002, Acc=1.0000]\n"
     ]
    },
    {
     "name": "stdout",
     "output_type": "stream",
     "text": [
      "✅ Training completed in 16.12s\n",
      "🔍 Validation Phase...\n"
     ]
    },
    {
     "name": "stderr",
     "output_type": "stream",
     "text": [
      "Validation: 100%|██████████████████████████████| 13/13 [00:03<00:00,  4.16it/s, Loss=0.8199, Acc=0.8125]\n"
     ]
    },
    {
     "name": "stdout",
     "output_type": "stream",
     "text": [
      "✅ Validation completed in 3.13s\n",
      "\n",
      "📊 Epoch 38 Summary:\n",
      "│ Train Loss: 0.0002 | Train Acc: 1.0000\n",
      "│ Val Loss:   0.8199 | Val Acc:   0.8125\n",
      "│ Train Time: 16.12s | Val Time: 3.13s\n",
      "│ Total Epoch Time: 19.25s\n",
      "│ Best Val Loss: 0.6786 (Epoch 6)\n",
      "│ GPU Memory: 0.1GB / 2.8GB\n",
      "================================================================================\n",
      "\n",
      "📈 Epoch 39/50\n",
      "--------------------------------------------------\n",
      "🔄 Training Phase...\n"
     ]
    },
    {
     "name": "stderr",
     "output_type": "stream",
     "text": [
      "Training: 100%|██████████████████████████████| 48/48 [00:16<00:00,  2.86it/s, Loss=0.0002, Acc=1.0000]\n"
     ]
    },
    {
     "name": "stdout",
     "output_type": "stream",
     "text": [
      "✅ Training completed in 16.79s\n",
      "🔍 Validation Phase...\n"
     ]
    },
    {
     "name": "stderr",
     "output_type": "stream",
     "text": [
      "Validation: 100%|██████████████████████████████| 13/13 [00:02<00:00,  4.37it/s, Loss=0.8266, Acc=0.8149]\n"
     ]
    },
    {
     "name": "stdout",
     "output_type": "stream",
     "text": [
      "✅ Validation completed in 2.97s\n",
      "\n",
      "📊 Epoch 39 Summary:\n",
      "│ Train Loss: 0.0002 | Train Acc: 1.0000\n",
      "│ Val Loss:   0.8266 | Val Acc:   0.8149\n",
      "│ Train Time: 16.79s | Val Time: 2.97s\n",
      "│ Total Epoch Time: 19.77s\n",
      "│ Best Val Loss: 0.6786 (Epoch 6)\n",
      "│ GPU Memory: 0.1GB / 2.8GB\n",
      "================================================================================\n",
      "\n",
      "📈 Epoch 40/50\n",
      "--------------------------------------------------\n",
      "🔄 Training Phase...\n"
     ]
    },
    {
     "name": "stderr",
     "output_type": "stream",
     "text": [
      "Training: 100%|██████████████████████████████| 48/48 [00:16<00:00,  2.85it/s, Loss=0.0002, Acc=1.0000]\n"
     ]
    },
    {
     "name": "stdout",
     "output_type": "stream",
     "text": [
      "✅ Training completed in 16.87s\n",
      "🔍 Validation Phase...\n"
     ]
    },
    {
     "name": "stderr",
     "output_type": "stream",
     "text": [
      "Validation: 100%|██████████████████████████████| 13/13 [00:02<00:00,  4.41it/s, Loss=0.8315, Acc=0.8053]\n"
     ]
    },
    {
     "name": "stdout",
     "output_type": "stream",
     "text": [
      "✅ Validation completed in 2.95s\n",
      "\n",
      "📊 Epoch 40 Summary:\n",
      "│ Train Loss: 0.0002 | Train Acc: 1.0000\n",
      "│ Val Loss:   0.8315 | Val Acc:   0.8053\n",
      "│ Train Time: 16.87s | Val Time: 2.95s\n",
      "│ Total Epoch Time: 19.83s\n",
      "│ Best Val Loss: 0.6786 (Epoch 6)\n",
      "│ GPU Memory: 0.1GB / 2.8GB\n",
      "================================================================================\n",
      "\n",
      "📈 Epoch 41/50\n",
      "--------------------------------------------------\n",
      "🔄 Training Phase...\n"
     ]
    },
    {
     "name": "stderr",
     "output_type": "stream",
     "text": [
      "Training: 100%|██████████████████████████████| 48/48 [00:16<00:00,  2.86it/s, Loss=0.0003, Acc=1.0000]\n"
     ]
    },
    {
     "name": "stdout",
     "output_type": "stream",
     "text": [
      "✅ Training completed in 16.81s\n",
      "🔍 Validation Phase...\n"
     ]
    },
    {
     "name": "stderr",
     "output_type": "stream",
     "text": [
      "Validation: 100%|██████████████████████████████| 13/13 [00:02<00:00,  4.42it/s, Loss=0.8601, Acc=0.8101]\n"
     ]
    },
    {
     "name": "stdout",
     "output_type": "stream",
     "text": [
      "✅ Validation completed in 2.94s\n",
      "\n",
      "📊 Epoch 41 Summary:\n",
      "│ Train Loss: 0.0003 | Train Acc: 1.0000\n",
      "│ Val Loss:   0.8601 | Val Acc:   0.8101\n",
      "│ Train Time: 16.81s | Val Time: 2.94s\n",
      "│ Total Epoch Time: 19.75s\n",
      "│ Best Val Loss: 0.6786 (Epoch 6)\n",
      "│ GPU Memory: 0.1GB / 2.8GB\n",
      "================================================================================\n",
      "\n",
      "📈 Epoch 42/50\n",
      "--------------------------------------------------\n",
      "🔄 Training Phase...\n"
     ]
    },
    {
     "name": "stderr",
     "output_type": "stream",
     "text": [
      "Training: 100%|██████████████████████████████| 48/48 [00:16<00:00,  2.83it/s, Loss=0.0002, Acc=1.0000]\n"
     ]
    },
    {
     "name": "stdout",
     "output_type": "stream",
     "text": [
      "✅ Training completed in 16.95s\n",
      "🔍 Validation Phase...\n"
     ]
    },
    {
     "name": "stderr",
     "output_type": "stream",
     "text": [
      "Validation: 100%|██████████████████████████████| 13/13 [00:03<00:00,  4.33it/s, Loss=0.8290, Acc=0.8149]\n"
     ]
    },
    {
     "name": "stdout",
     "output_type": "stream",
     "text": [
      "✅ Validation completed in 3.01s\n",
      "\n",
      "📊 Epoch 42 Summary:\n",
      "│ Train Loss: 0.0002 | Train Acc: 1.0000\n",
      "│ Val Loss:   0.8290 | Val Acc:   0.8149\n",
      "│ Train Time: 16.95s | Val Time: 3.01s\n",
      "│ Total Epoch Time: 19.96s\n",
      "│ Best Val Loss: 0.6786 (Epoch 6)\n",
      "│ GPU Memory: 0.1GB / 2.8GB\n",
      "================================================================================\n",
      "\n",
      "📈 Epoch 43/50\n",
      "--------------------------------------------------\n",
      "🔄 Training Phase...\n"
     ]
    },
    {
     "name": "stderr",
     "output_type": "stream",
     "text": [
      "Training: 100%|██████████████████████████████| 48/48 [00:16<00:00,  2.86it/s, Loss=0.0002, Acc=1.0000]\n"
     ]
    },
    {
     "name": "stdout",
     "output_type": "stream",
     "text": [
      "✅ Training completed in 16.76s\n",
      "🔍 Validation Phase...\n"
     ]
    },
    {
     "name": "stderr",
     "output_type": "stream",
     "text": [
      "Validation: 100%|██████████████████████████████| 13/13 [00:03<00:00,  4.07it/s, Loss=0.8444, Acc=0.8125]\n"
     ]
    },
    {
     "name": "stdout",
     "output_type": "stream",
     "text": [
      "✅ Validation completed in 3.19s\n",
      "\n",
      "📊 Epoch 43 Summary:\n",
      "│ Train Loss: 0.0002 | Train Acc: 1.0000\n",
      "│ Val Loss:   0.8444 | Val Acc:   0.8125\n",
      "│ Train Time: 16.76s | Val Time: 3.19s\n",
      "│ Total Epoch Time: 19.96s\n",
      "│ Best Val Loss: 0.6786 (Epoch 6)\n",
      "│ GPU Memory: 0.1GB / 2.8GB\n",
      "================================================================================\n",
      "\n",
      "📈 Epoch 44/50\n",
      "--------------------------------------------------\n",
      "🔄 Training Phase...\n"
     ]
    },
    {
     "name": "stderr",
     "output_type": "stream",
     "text": [
      "Training: 100%|██████████████████████████████| 48/48 [00:16<00:00,  2.91it/s, Loss=0.0002, Acc=1.0000]\n"
     ]
    },
    {
     "name": "stdout",
     "output_type": "stream",
     "text": [
      "✅ Training completed in 16.52s\n",
      "🔍 Validation Phase...\n"
     ]
    },
    {
     "name": "stderr",
     "output_type": "stream",
     "text": [
      "Validation: 100%|██████████████████████████████| 13/13 [00:02<00:00,  4.44it/s, Loss=0.8660, Acc=0.8221]\n"
     ]
    },
    {
     "name": "stdout",
     "output_type": "stream",
     "text": [
      "✅ Validation completed in 2.93s\n",
      "\n",
      "📊 Epoch 44 Summary:\n",
      "│ Train Loss: 0.0002 | Train Acc: 1.0000\n",
      "│ Val Loss:   0.8660 | Val Acc:   0.8221\n",
      "│ Train Time: 16.52s | Val Time: 2.93s\n",
      "│ Total Epoch Time: 19.45s\n",
      "│ Best Val Loss: 0.6786 (Epoch 6)\n",
      "│ GPU Memory: 0.1GB / 2.8GB\n",
      "================================================================================\n",
      "\n",
      "📈 Epoch 45/50\n",
      "--------------------------------------------------\n",
      "🔄 Training Phase...\n"
     ]
    },
    {
     "name": "stderr",
     "output_type": "stream",
     "text": [
      "Training: 100%|██████████████████████████████| 48/48 [00:16<00:00,  2.84it/s, Loss=0.0003, Acc=1.0000]\n"
     ]
    },
    {
     "name": "stdout",
     "output_type": "stream",
     "text": [
      "✅ Training completed in 16.91s\n",
      "🔍 Validation Phase...\n"
     ]
    },
    {
     "name": "stderr",
     "output_type": "stream",
     "text": [
      "Validation: 100%|██████████████████████████████| 13/13 [00:03<00:00,  4.26it/s, Loss=0.8369, Acc=0.8221]\n"
     ]
    },
    {
     "name": "stdout",
     "output_type": "stream",
     "text": [
      "✅ Validation completed in 3.05s\n",
      "\n",
      "📊 Epoch 45 Summary:\n",
      "│ Train Loss: 0.0003 | Train Acc: 1.0000\n",
      "│ Val Loss:   0.8369 | Val Acc:   0.8221\n",
      "│ Train Time: 16.91s | Val Time: 3.05s\n",
      "│ Total Epoch Time: 19.96s\n",
      "│ Best Val Loss: 0.6786 (Epoch 6)\n",
      "│ GPU Memory: 0.1GB / 2.8GB\n",
      "================================================================================\n",
      "\n",
      "📈 Epoch 46/50\n",
      "--------------------------------------------------\n",
      "🔄 Training Phase...\n"
     ]
    },
    {
     "name": "stderr",
     "output_type": "stream",
     "text": [
      "Training: 100%|██████████████████████████████| 48/48 [00:17<00:00,  2.81it/s, Loss=0.0001, Acc=1.0000]\n"
     ]
    },
    {
     "name": "stdout",
     "output_type": "stream",
     "text": [
      "✅ Training completed in 17.06s\n",
      "🔍 Validation Phase...\n"
     ]
    },
    {
     "name": "stderr",
     "output_type": "stream",
     "text": [
      "Validation: 100%|██████████████████████████████| 13/13 [00:03<00:00,  4.24it/s, Loss=0.8385, Acc=0.8077]\n"
     ]
    },
    {
     "name": "stdout",
     "output_type": "stream",
     "text": [
      "✅ Validation completed in 3.07s\n",
      "\n",
      "📊 Epoch 46 Summary:\n",
      "│ Train Loss: 0.0001 | Train Acc: 1.0000\n",
      "│ Val Loss:   0.8385 | Val Acc:   0.8077\n",
      "│ Train Time: 17.06s | Val Time: 3.07s\n",
      "│ Total Epoch Time: 20.13s\n",
      "│ Best Val Loss: 0.6786 (Epoch 6)\n",
      "│ GPU Memory: 0.1GB / 2.8GB\n",
      "================================================================================\n",
      "\n",
      "📈 Epoch 47/50\n",
      "--------------------------------------------------\n",
      "🔄 Training Phase...\n"
     ]
    },
    {
     "name": "stderr",
     "output_type": "stream",
     "text": [
      "Training: 100%|██████████████████████████████| 48/48 [00:16<00:00,  2.85it/s, Loss=0.0002, Acc=1.0000]\n"
     ]
    },
    {
     "name": "stdout",
     "output_type": "stream",
     "text": [
      "✅ Training completed in 16.83s\n",
      "🔍 Validation Phase...\n"
     ]
    },
    {
     "name": "stderr",
     "output_type": "stream",
     "text": [
      "Validation: 100%|██████████████████████████████| 13/13 [00:02<00:00,  4.53it/s, Loss=0.8734, Acc=0.8077]\n"
     ]
    },
    {
     "name": "stdout",
     "output_type": "stream",
     "text": [
      "✅ Validation completed in 2.87s\n",
      "\n",
      "📊 Epoch 47 Summary:\n",
      "│ Train Loss: 0.0002 | Train Acc: 1.0000\n",
      "│ Val Loss:   0.8734 | Val Acc:   0.8077\n",
      "│ Train Time: 16.83s | Val Time: 2.87s\n",
      "│ Total Epoch Time: 19.70s\n",
      "│ Best Val Loss: 0.6786 (Epoch 6)\n",
      "│ GPU Memory: 0.1GB / 2.8GB\n",
      "================================================================================\n",
      "\n",
      "📈 Epoch 48/50\n",
      "--------------------------------------------------\n",
      "🔄 Training Phase...\n"
     ]
    },
    {
     "name": "stderr",
     "output_type": "stream",
     "text": [
      "Training: 100%|██████████████████████████████| 48/48 [00:16<00:00,  2.89it/s, Loss=0.0002, Acc=1.0000]\n"
     ]
    },
    {
     "name": "stdout",
     "output_type": "stream",
     "text": [
      "✅ Training completed in 16.63s\n",
      "🔍 Validation Phase...\n"
     ]
    },
    {
     "name": "stderr",
     "output_type": "stream",
     "text": [
      "Validation: 100%|██████████████████████████████| 13/13 [00:03<00:00,  4.31it/s, Loss=0.8803, Acc=0.8125]\n"
     ]
    },
    {
     "name": "stdout",
     "output_type": "stream",
     "text": [
      "✅ Validation completed in 3.02s\n",
      "\n",
      "📊 Epoch 48 Summary:\n",
      "│ Train Loss: 0.0002 | Train Acc: 1.0000\n",
      "│ Val Loss:   0.8803 | Val Acc:   0.8125\n",
      "│ Train Time: 16.63s | Val Time: 3.02s\n",
      "│ Total Epoch Time: 19.64s\n",
      "│ Best Val Loss: 0.6786 (Epoch 6)\n",
      "│ GPU Memory: 0.1GB / 2.8GB\n",
      "================================================================================\n",
      "\n",
      "📈 Epoch 49/50\n",
      "--------------------------------------------------\n",
      "🔄 Training Phase...\n"
     ]
    },
    {
     "name": "stderr",
     "output_type": "stream",
     "text": [
      "Training: 100%|██████████████████████████████| 48/48 [00:16<00:00,  2.87it/s, Loss=0.0002, Acc=1.0000]\n"
     ]
    },
    {
     "name": "stdout",
     "output_type": "stream",
     "text": [
      "✅ Training completed in 16.71s\n",
      "🔍 Validation Phase...\n"
     ]
    },
    {
     "name": "stderr",
     "output_type": "stream",
     "text": [
      "Validation: 100%|██████████████████████████████| 13/13 [00:02<00:00,  4.46it/s, Loss=0.8744, Acc=0.8101]\n"
     ]
    },
    {
     "name": "stdout",
     "output_type": "stream",
     "text": [
      "✅ Validation completed in 2.92s\n",
      "\n",
      "📊 Epoch 49 Summary:\n",
      "│ Train Loss: 0.0002 | Train Acc: 1.0000\n",
      "│ Val Loss:   0.8744 | Val Acc:   0.8101\n",
      "│ Train Time: 16.71s | Val Time: 2.92s\n",
      "│ Total Epoch Time: 19.63s\n",
      "│ Best Val Loss: 0.6786 (Epoch 6)\n",
      "│ GPU Memory: 0.1GB / 2.8GB\n",
      "================================================================================\n",
      "\n",
      "📈 Epoch 50/50\n",
      "--------------------------------------------------\n",
      "🔄 Training Phase...\n"
     ]
    },
    {
     "name": "stderr",
     "output_type": "stream",
     "text": [
      "Training: 100%|██████████████████████████████| 48/48 [00:16<00:00,  2.87it/s, Loss=0.0002, Acc=1.0000]\n"
     ]
    },
    {
     "name": "stdout",
     "output_type": "stream",
     "text": [
      "✅ Training completed in 16.73s\n",
      "🔍 Validation Phase...\n"
     ]
    },
    {
     "name": "stderr",
     "output_type": "stream",
     "text": [
      "Validation: 100%|██████████████████████████████| 13/13 [00:03<00:00,  4.31it/s, Loss=0.8714, Acc=0.8173]\n"
     ]
    },
    {
     "name": "stdout",
     "output_type": "stream",
     "text": [
      "✅ Validation completed in 3.02s\n",
      "\n",
      "📊 Epoch 50 Summary:\n",
      "│ Train Loss: 0.0002 | Train Acc: 1.0000\n",
      "│ Val Loss:   0.8714 | Val Acc:   0.8173\n",
      "│ Train Time: 16.73s | Val Time: 3.02s\n",
      "│ Total Epoch Time: 19.76s\n",
      "│ Best Val Loss: 0.6786 (Epoch 6)\n",
      "│ GPU Memory: 0.1GB / 2.8GB\n",
      "================================================================================\n",
      "\n",
      "💾 Best model saved as 'best_cricket_mobilenetv2.pth'\n",
      "📊 Best model stats:\n",
      "│ Best Epoch: 6\n",
      "│ Best Val Loss: 0.6786\n",
      "│ Best Val Acc: 0.8005\n",
      "\n",
      "💾 Training history saved to 'cricket_mobilenetv2_history_pretrained.csv'\n",
      "\n",
      "🎉 MobileNetV2 Fine-tuning Complete!\n",
      "Total Training Time: 959.23s (16.0 minutes)\n",
      "Average Epoch Time: 19.18s\n",
      "\n",
      "🧪 Loading Best Model for Testing...\n",
      "✅ Best model from epoch 6 loaded successfully!\n"
     ]
    },
    {
     "name": "stderr",
     "output_type": "stream",
     "text": [
      "Testing: 100%|██████████████████████████████| 17/17 [00:06<00:00,  2.73it/s]\n"
     ]
    },
    {
     "name": "stdout",
     "output_type": "stream",
     "text": [
      "✅ Testing completed in 6.23s\n",
      "\n",
      "📋 Classification Report:\n",
      "              precision    recall  f1-score   support\n",
      "\n",
      "        Four       0.06      0.05      0.05        40\n",
      "     Leg_Bye       0.73      0.60      0.66        40\n",
      "     No_ball       0.51      0.60      0.55       104\n",
      "         Out       0.71      0.67      0.69        48\n",
      "         Six       0.92      0.88      0.90       152\n",
      "        Wide       0.71      0.73      0.72       136\n",
      "\n",
      "    accuracy                           0.68       520\n",
      "   macro avg       0.61      0.59      0.59       520\n",
      "weighted avg       0.68      0.68      0.68       520\n",
      "\n",
      "🎯 Test Accuracy: 0.6769\n",
      "\n",
      "📊 Cricket Classification Performance (MobileNetV2):\n",
      "│ Best Validation Loss: 0.6786 (Epoch 6)\n",
      "│ Best Validation Acc:  0.8005 (Epoch 6)\n",
      "│ Final Test Accuracy:  0.6769\n",
      "│ Val-Test Gap:         0.1236\n",
      "\n",
      "💾 Files saved:\n",
      "│ best_cricket_mobilenetv2.pth - Best model weights\n",
      "│ cricket_mobilenetv2_history.csv - Training metrics\n"
     ]
    },
    {
     "data": {
      "image/png": "[encoded data removed]",
      "text/plain": [
       "<Figure size 1000x800 with 2 Axes>"
      ]
     },
     "metadata": {},
     "output_type": "display_data"
    },
    {
     "data": {
      "image/png": "[encoded data removed]",
      "text/plain": [
       "<Figure size 1500x500 with 3 Axes>"
      ]
     },
     "metadata": {},
     "output_type": "display_data"
    },
    {
     "name": "stdout",
     "output_type": "stream",
     "text": [
      "\n",
      "⏰ Final Timing Summary:\n",
      "│ Total Training: 959.23s (16.0 min)\n",
      "│ Average per Epoch: 19.18s\n",
      "│ Testing Time: 6.23s\n",
      "│ Total Runtime: 965.45s\n",
      "\n",
      "📱 MobileNetV2 Advantages:\n",
      "│ Lightweight: ~3.5M parameters vs ~25M (ResNet50)\n",
      "│ Mobile-optimized: Designed for resource-constrained devices\n",
      "│ Faster training: Typically trains faster than ResNet50\n",
      "│ Lower memory: Uses less GPU memory during training\n"
     ]
    }
   ],
   "source": [
    "# -----------------------------\n",
    "# 3. Training Setup\n",
    "# -----------------------------\n",
    "criterion = nn.CrossEntropyLoss()\n",
    "optimizer = optim.Adam(model.parameters(), lr=1e-4)  # Lower LR for fine-tuning\n",
    "\n",
    "print(f\"\\n📋 Training Configuration:\")\n",
    "print(f\"│ Model: MobileNetV2 (pretrained)\")\n",
    "print(f\"│ Optimizer: Adam (lr={optimizer.param_groups[0]['lr']})\")\n",
    "print(f\"│ Loss Function: CrossEntropyLoss\")\n",
    "print(f\"│ Batch Size: 32\")\n",
    "print(f\"│ Device: {device}\")\n",
    "\n",
    "# -----------------------------\n",
    "# 4. Training Loop with Model Saving\n",
    "# -----------------------------\n",
    "train_losses, val_losses = [], []\n",
    "train_accs, val_accs = [], []\n",
    "epoch_times = []\n",
    "epochs = 50\n",
    "\n",
    "# Initialize best model tracking (using val_loss for fine-tuning)\n",
    "best_val_loss = float('inf')\n",
    "best_model_state = None\n",
    "best_epoch = 0\n",
    "best_val_acc = 0.0\n",
    "\n",
    "print(f\"\\n🚀 Starting MobileNetV2 Fine-tuning for {epochs} epochs...\")\n",
    "print(\"=\" * 80)\n",
    "total_start_time = time.time()\n",
    "\n",
    "for epoch in range(epochs):\n",
    "    epoch_start_time = time.time()\n",
    "    \n",
    "    print(f\"\\n📈 Epoch {epoch+1}/{epochs}\")\n",
    "    print(\"-\" * 50)\n",
    "    \n",
    "    # Training Phase\n",
    "    print(\"🔄 Training Phase...\")\n",
    "    model.train()\n",
    "    running_loss, correct, total = 0, 0, 0\n",
    "    \n",
    "    train_pbar = tqdm(train_loader, desc=\"Training\", \n",
    "                     bar_format='{l_bar}{bar:30}{r_bar}{bar:-30b}')\n",
    "    \n",
    "    train_phase_start = time.time()\n",
    "    \n",
    "    for batch_idx, (imgs, labels) in enumerate(train_pbar):\n",
    "        imgs, labels = imgs.to(device), labels.to(device)\n",
    "        \n",
    "        optimizer.zero_grad()\n",
    "        outputs = model(imgs)\n",
    "        loss = criterion(outputs, labels)\n",
    "        loss.backward()\n",
    "        optimizer.step()\n",
    "        \n",
    "        running_loss += loss.item()\n",
    "        _, preds = torch.max(outputs, 1)\n",
    "        correct += (preds == labels).sum().item()\n",
    "        total += labels.size(0)\n",
    "        \n",
    "        current_acc = correct / total\n",
    "        train_pbar.set_postfix({\n",
    "            'Loss': f'{running_loss/(batch_idx+1):.4f}',\n",
    "            'Acc': f'{current_acc:.4f}'\n",
    "        })\n",
    "        \n",
    "        if device.type == 'cuda' and batch_idx % 10 == 0:\n",
    "            gpu_memory = torch.cuda.memory_allocated() / 1024**3\n",
    "            train_pbar.set_postfix({\n",
    "                'Loss': f'{running_loss/(batch_idx+1):.4f}',\n",
    "                'Acc': f'{current_acc:.4f}',\n",
    "                'GPU': f'{gpu_memory:.1f}GB'\n",
    "            })\n",
    "    \n",
    "    train_phase_time = time.time() - train_phase_start\n",
    "    train_loss = running_loss / len(train_loader)\n",
    "    train_acc = correct / total\n",
    "    train_losses.append(train_loss)\n",
    "    train_accs.append(train_acc)\n",
    "    \n",
    "    print(f\"✅ Training completed in {train_phase_time:.2f}s\")\n",
    "    \n",
    "    # Validation Phase\n",
    "    print(\"🔍 Validation Phase...\")\n",
    "    model.eval()\n",
    "    running_loss, correct, total = 0, 0, 0\n",
    "    \n",
    "    val_phase_start = time.time()\n",
    "    val_pbar = tqdm(val_loader, desc=\"Validation\", \n",
    "                   bar_format='{l_bar}{bar:30}{r_bar}{bar:-30b}')\n",
    "    \n",
    "    with torch.no_grad():\n",
    "        for batch_idx, (imgs, labels) in enumerate(val_pbar):\n",
    "            imgs, labels = imgs.to(device), labels.to(device)\n",
    "            outputs = model(imgs)\n",
    "            loss = criterion(outputs, labels)\n",
    "            \n",
    "            running_loss += loss.item()\n",
    "            _, preds = torch.max(outputs, 1)\n",
    "            correct += (preds == labels).sum().item()\n",
    "            total += labels.size(0)\n",
    "            \n",
    "            current_acc = correct / total\n",
    "            val_pbar.set_postfix({\n",
    "                'Loss': f'{running_loss/(batch_idx+1):.4f}',\n",
    "                'Acc': f'{current_acc:.4f}'\n",
    "            })\n",
    "    \n",
    "    val_phase_time = time.time() - val_phase_start\n",
    "    val_loss = running_loss / len(val_loader)\n",
    "    val_acc = correct / total\n",
    "    val_losses.append(val_loss)\n",
    "    val_accs.append(val_acc)\n",
    "    \n",
    "    print(f\"✅ Validation completed in {val_phase_time:.2f}s\")\n",
    "    \n",
    "    # Check if this is the best model (using val_loss for fine-tuning)\n",
    "    is_best = val_loss < best_val_loss\n",
    "    if is_best:\n",
    "        best_val_loss = val_loss\n",
    "        best_val_acc = val_acc\n",
    "        best_epoch = epoch + 1\n",
    "        best_model_state = model.state_dict().copy()\n",
    "        print(f\"🌟 New best model found! Validation Loss: {val_loss:.4f}\")\n",
    "    \n",
    "    # Epoch Summary\n",
    "    epoch_time = time.time() - epoch_start_time\n",
    "    epoch_times.append(epoch_time)\n",
    "    \n",
    "    print(f\"\\n📊 Epoch {epoch+1} Summary:\")\n",
    "    print(f\"│ Train Loss: {train_loss:.4f} | Train Acc: {train_acc:.4f}\")\n",
    "    print(f\"│ Val Loss:   {val_loss:.4f} | Val Acc:   {val_acc:.4f}\")\n",
    "    print(f\"│ Train Time: {train_phase_time:.2f}s | Val Time: {val_phase_time:.2f}s\")\n",
    "    print(f\"│ Total Epoch Time: {epoch_time:.2f}s\")\n",
    "    print(f\"│ Best Val Loss: {best_val_loss:.4f} (Epoch {best_epoch})\")\n",
    "    \n",
    "    if device.type == 'cuda':\n",
    "        print(f\"│ GPU Memory: {torch.cuda.memory_allocated()/1024**3:.1f}GB / {torch.cuda.memory_reserved()/1024**3:.1f}GB\")\n",
    "    \n",
    "    print(\"=\" * 80)\n",
    "\n",
    "total_training_time = time.time() - total_start_time\n",
    "\n",
    "# Save the best model\n",
    "if best_model_state is not None:\n",
    "    torch.save(best_model_state, 'best_cricket_mobilenetv2_pretrained.pth')\n",
    "    print(f\"\\n💾 Best model saved as 'best_cricket_mobilenetv2.pth'\")\n",
    "    print(f\"📊 Best model stats:\")\n",
    "    print(f\"│ Best Epoch: {best_epoch}\")\n",
    "    print(f\"│ Best Val Loss: {best_val_loss:.4f}\")\n",
    "    print(f\"│ Best Val Acc: {best_val_acc:.4f}\")\n",
    "\n",
    "# Save training history\n",
    "history_data = {\n",
    "    'epoch': list(range(1, epochs+1)),\n",
    "    'train_loss': train_losses,\n",
    "    'val_loss': val_losses,\n",
    "    'train_acc': train_accs,\n",
    "    'val_acc': val_accs,\n",
    "    'epoch_time': epoch_times\n",
    "}\n",
    "\n",
    "history_df = pd.DataFrame(history_data)\n",
    "history_df.to_csv('cricket_mobilenetv2_history_pretrained.csv', index=False)\n",
    "print(\"\\n💾 Training history saved to 'cricket_mobilenetv2_history_pretrained.csv'\")\n",
    "\n",
    "print(f\"\\n🎉 MobileNetV2 Fine-tuning Complete!\")\n",
    "print(f\"Total Training Time: {total_training_time:.2f}s ({total_training_time/60:.1f} minutes)\")\n",
    "print(f\"Average Epoch Time: {np.mean(epoch_times):.2f}s\")\n",
    "\n",
    "# -----------------------------\n",
    "# 5. Load Best Model and Test\n",
    "# -----------------------------\n",
    "print(f\"\\n🧪 Loading Best Model for Testing...\")\n",
    "if best_model_state is not None:\n",
    "    model.load_state_dict(best_model_state)\n",
    "    print(f\"✅ Best model from epoch {best_epoch} loaded successfully!\")\n",
    "\n",
    "test_start_time = time.time()\n",
    "y_true, y_pred = [], []\n",
    "model.eval()\n",
    "test_pbar = tqdm(test_loader, desc=\"Testing\", \n",
    "                bar_format='{l_bar}{bar:30}{r_bar}{bar:-30b}')\n",
    "\n",
    "with torch.no_grad():\n",
    "    for imgs, labels in test_pbar:\n",
    "        imgs, labels = imgs.to(device), labels.to(device)\n",
    "        outputs = model(imgs)\n",
    "        _, preds = torch.max(outputs, 1)\n",
    "        y_true.extend(labels.cpu().numpy())\n",
    "        y_pred.extend(preds.cpu().numpy())\n",
    "\n",
    "test_time = time.time() - test_start_time\n",
    "test_accuracy = accuracy_score(y_true, y_pred)\n",
    "\n",
    "print(f\"✅ Testing completed in {test_time:.2f}s\")\n",
    "print(\"\\n📋 Classification Report:\")\n",
    "print(classification_report(y_true, y_pred, target_names=classes))\n",
    "print(f\"🎯 Test Accuracy: {test_accuracy:.4f}\")\n",
    "\n",
    "# Performance Summary\n",
    "print(f\"\\n📊 Cricket Classification Performance (MobileNetV2):\")\n",
    "print(f\"│ Best Validation Loss: {best_val_loss:.4f} (Epoch {best_epoch})\")\n",
    "print(f\"│ Best Validation Acc:  {best_val_acc:.4f} (Epoch {best_epoch})\")\n",
    "print(f\"│ Final Test Accuracy:  {test_accuracy:.4f}\")\n",
    "print(f\"│ Val-Test Gap:         {abs(best_val_acc - test_accuracy):.4f}\")\n",
    "\n",
    "print(f\"\\n💾 Files saved:\")\n",
    "print(f\"│ best_cricket_mobilenetv2.pth - Best model weights\")\n",
    "print(f\"│ cricket_mobilenetv2_history.csv - Training metrics\")\n",
    "\n",
    "# -----------------------------\n",
    "# 6. Visualizations\n",
    "# -----------------------------\n",
    "# Confusion Matrix\n",
    "cm = confusion_matrix(y_true, y_pred)\n",
    "plt.figure(figsize=(10, 8))\n",
    "sns.heatmap(cm, annot=True, fmt=\"d\", cmap=\"Blues\", \n",
    "            xticklabels=classes, yticklabels=classes)\n",
    "plt.xlabel(\"Predicted\")\n",
    "plt.ylabel(\"True\")\n",
    "plt.title(f\"Cricket Classification - MobileNetV2 Confusion Matrix (Epoch {best_epoch})\")\n",
    "plt.tight_layout()\n",
    "plt.show()\n",
    "\n",
    "# Training Curves\n",
    "plt.figure(figsize=(15, 5))\n",
    "\n",
    "# Loss Plot\n",
    "plt.subplot(1, 3, 1)\n",
    "plt.plot(range(1, epochs+1), train_losses, 'b-', label=\"Train Loss\", marker='o', linewidth=2)\n",
    "plt.plot(range(1, epochs+1), val_losses, 'r-', label=\"Val Loss\", marker='s', linewidth=2)\n",
    "plt.axvline(x=best_epoch, color='green', linestyle='--', alpha=0.7, label=f'Best (Epoch {best_epoch})')\n",
    "plt.scatter([best_epoch], [best_val_loss], color='green', s=100, zorder=5)\n",
    "plt.legend()\n",
    "plt.title(\"MobileNetV2 Loss over Epochs\")\n",
    "plt.xlabel(\"Epoch\")\n",
    "plt.ylabel(\"Loss\")\n",
    "plt.grid(True, alpha=0.3)\n",
    "\n",
    "# Accuracy Plot\n",
    "plt.subplot(1, 3, 2)\n",
    "plt.plot(range(1, epochs+1), train_accs, 'b-', label=\"Train Accuracy\", marker='o', linewidth=2)\n",
    "plt.plot(range(1, epochs+1), val_accs, 'r-', label=\"Val Accuracy\", marker='s', linewidth=2)\n",
    "plt.axvline(x=best_epoch, color='green', linestyle='--', alpha=0.7, label=f'Best (Epoch {best_epoch})')\n",
    "plt.scatter([best_epoch], [best_val_acc], color='green', s=100, zorder=5)\n",
    "plt.legend()\n",
    "plt.title(\"MobileNetV2 Accuracy over Epochs\")\n",
    "plt.xlabel(\"Epoch\")\n",
    "plt.ylabel(\"Accuracy\")\n",
    "plt.grid(True, alpha=0.3)\n",
    "\n",
    "# Final Performance\n",
    "plt.subplot(1, 3, 3)\n",
    "metrics = ['Best Val Acc', 'Test Acc']\n",
    "values = [best_val_acc, test_accuracy]\n",
    "colors = ['orange', 'green']\n",
    "bars = plt.bar(metrics, values, color=colors, alpha=0.7)\n",
    "plt.title(\"MobileNetV2 Final Performance\")\n",
    "plt.ylabel(\"Accuracy\")\n",
    "plt.ylim(0, 1)\n",
    "plt.grid(True, alpha=0.3)\n",
    "for bar, val in zip(bars, values):\n",
    "    plt.text(bar.get_x() + bar.get_width()/2, val + 0.01, \n",
    "             f'{val:.4f}', ha='center', va='bottom')\n",
    "\n",
    "plt.tight_layout()\n",
    "plt.show()\n",
    "\n",
    "# Final Summary\n",
    "print(f\"\\n⏰ Final Timing Summary:\")\n",
    "print(f\"│ Total Training: {total_training_time:.2f}s ({total_training_time/60:.1f} min)\")\n",
    "print(f\"│ Average per Epoch: {np.mean(epoch_times):.2f}s\")\n",
    "print(f\"│ Testing Time: {test_time:.2f}s\")\n",
    "print(f\"│ Total Runtime: {total_training_time + test_time:.2f}s\")\n",
    "\n",
    "# Model Comparison Info\n",
    "print(f\"\\n📱 MobileNetV2 Advantages:\")\n",
    "print(f\"│ Lightweight: ~3.5M parameters vs ~25M (ResNet50)\")\n",
    "print(f\"│ Mobile-optimized: Designed for resource-constrained devices\")\n",
    "print(f\"│ Faster training: Typically trains faster than ResNet50\")\n",
    "print(f\"│ Lower memory: Uses less GPU memory during training\")\n"
   ]
  }
 ],
 "metadata": {
  "kaggle": {
   "accelerator": "nvidiaTeslaT4",
   "dataSources": [
    {
     "datasetId": 7735666,
     "sourceId": 12275446,
     "sourceType": "datasetVersion"
    }
   ],
   "dockerImageVersionId": 31090,
   "isGpuEnabled": true,
   "isInternetEnabled": true,
   "language": "python",
   "sourceType": "notebook"
  },
  "kernelspec": {
   "display_name": "Python 3",
   "language": "python",
   "name": "python3"
  },
  "language_info": {
   "codemirror_mode": {
    "name": "ipython",
    "version": 3
   },
   "file_extension": ".py",
   "mimetype": "text/x-python",
   "name": "python",
   "nbconvert_exporter": "python",
   "pygments_lexer": "ipython3",
   "version": "3.11.13"
  },
  "papermill": {
   "default_parameters": {},
   "duration": 989.794464,
   "end_time": "2025-09-08T06:25:57.737458",
   "environment_variables": {},
   "exception": null,
   "input_path": "__notebook__.ipynb",
   "output_path": "__notebook__.ipynb",
   "parameters": {},
   "start_time": "2025-09-08T06:09:27.942994",
   "version": "2.6.0"
  }
 },
 "nbformat": 4,
 "nbformat_minor": 5
}
