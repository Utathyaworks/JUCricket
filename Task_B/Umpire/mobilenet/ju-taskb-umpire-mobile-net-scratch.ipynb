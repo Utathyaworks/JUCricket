{
 "cells": [
  {
   "cell_type": "code",
   "execution_count": 1,
   "id": "2375cc1f",
   "metadata": {
    "_cell_guid": "b1076dfc-b9ad-4769-8c92-a6c4dae69d19",
    "_uuid": "8f2839f25d086af736a60e9eeb907d3b93b6e0e5",
    "execution": {
     "iopub.execute_input": "2025-09-08T06:04:12.062444Z",
     "iopub.status.busy": "2025-09-08T06:04:12.062180Z",
     "iopub.status.idle": "2025-09-08T06:04:28.767127Z",
     "shell.execute_reply": "2025-09-08T06:04:28.766430Z"
    },
    "papermill": {
     "duration": 16.7104,
     "end_time": "2025-09-08T06:04:28.768405",
     "exception": false,
     "start_time": "2025-09-08T06:04:12.058005",
     "status": "completed"
    },
    "tags": []
   },
   "outputs": [
    {
     "name": "stdout",
     "output_type": "stream",
     "text": [
      "Classes: ['Four', 'Leg_Bye', 'No_ball', 'Out', 'Six', 'Wide']\n"
     ]
    }
   ],
   "source": [
    "import torch\n",
    "import torch.nn as nn\n",
    "import torch.nn.functional as F\n",
    "from torch.utils.data import DataLoader\n",
    "from torchvision import datasets, transforms\n",
    "from torchsummary import summary\n",
    "import matplotlib.pyplot as plt\n",
    "from sklearn.metrics import classification_report, confusion_matrix, accuracy_score\n",
    "import seaborn as sns\n",
    "import numpy as np\n",
    "\n",
    "# -----------------------------\n",
    "# 1. Data Preprocessing\n",
    "# -----------------------------\n",
    "data_dir = \"/kaggle/input/ju-cricket/Cricket_Dataset_final/Task_B\"\n",
    "\n",
    "transform = transforms.Compose([\n",
    "    transforms.Resize((224, 224)),\n",
    "    transforms.ToTensor(),\n",
    "    transforms.Normalize([0.485, 0.456, 0.406], \n",
    "                         [0.229, 0.224, 0.225])\n",
    "])\n",
    "\n",
    "train_ds = datasets.ImageFolder(f\"{data_dir}/train/Umpire\", transform=transform)\n",
    "val_ds   = datasets.ImageFolder(f\"{data_dir}/val/Umpire\", transform=transform)\n",
    "test_ds  = datasets.ImageFolder(f\"{data_dir}/test/Umpire\", transform=transform)\n",
    "\n",
    "train_loader = DataLoader(train_ds, batch_size=32, shuffle=True)\n",
    "val_loader   = DataLoader(val_ds, batch_size=32, shuffle=False)\n",
    "test_loader  = DataLoader(test_ds, batch_size=32, shuffle=False)\n",
    "\n",
    "classes = train_ds.classes\n",
    "print(\"Classes:\", classes)\n",
    "\n"
   ]
  },
  {
   "cell_type": "code",
   "execution_count": 2,
   "id": "99258cf5",
   "metadata": {
    "execution": {
     "iopub.execute_input": "2025-09-08T06:04:28.774563Z",
     "iopub.status.busy": "2025-09-08T06:04:28.774235Z",
     "iopub.status.idle": "2025-09-08T06:04:28.778992Z",
     "shell.execute_reply": "2025-09-08T06:04:28.778178Z"
    },
    "papermill": {
     "duration": 0.00898,
     "end_time": "2025-09-08T06:04:28.780239",
     "exception": false,
     "start_time": "2025-09-08T06:04:28.771259",
     "status": "completed"
    },
    "tags": []
   },
   "outputs": [
    {
     "name": "stdout",
     "output_type": "stream",
     "text": [
      "Total training images: 1728\n",
      "Total validation images: 468\n",
      "Total test images: 585\n",
      "Total images in dataset: 2781\n"
     ]
    }
   ],
   "source": [
    "print(\"Total training images:\", len(train_ds))\n",
    "print(\"Total validation images:\", len(val_ds))\n",
    "print(\"Total test images:\", len(test_ds))\n",
    "\n",
    "total_images = len(train_ds) + len(val_ds) + len(test_ds)\n",
    "print(\"Total images in dataset:\", total_images)\n"
   ]
  },
  {
   "cell_type": "code",
   "execution_count": 3,
   "id": "e993518f",
   "metadata": {
    "execution": {
     "iopub.execute_input": "2025-09-08T06:04:28.785844Z",
     "iopub.status.busy": "2025-09-08T06:04:28.785439Z",
     "iopub.status.idle": "2025-09-08T06:04:28.792248Z",
     "shell.execute_reply": "2025-09-08T06:04:28.791554Z"
    },
    "papermill": {
     "duration": 0.010736,
     "end_time": "2025-09-08T06:04:28.793349",
     "exception": false,
     "start_time": "2025-09-08T06:04:28.782613",
     "status": "completed"
    },
    "tags": []
   },
   "outputs": [
    {
     "name": "stdout",
     "output_type": "stream",
     "text": [
      "Training images (excluding 'random_occlusion'): 1536\n",
      "Validation images (excluding 'random_occlusion'): 416\n",
      "Test images (excluding 'random_occlusion'): 520\n",
      "Total images (excluding 'random_occlusion'): 2472\n"
     ]
    }
   ],
   "source": [
    "ignore_folder = \"random_occlusion\"\n",
    "\n",
    "def count_images_ignore_folder(dataset, ignore_folder):\n",
    "    count = 0\n",
    "    for img_path, label in dataset.samples:\n",
    "        # Skip if the image path contains the ignore_folder\n",
    "        if ignore_folder not in img_path.split(\"/\"):\n",
    "            count += 1\n",
    "    return count\n",
    "\n",
    "train_count = count_images_ignore_folder(train_ds, ignore_folder)\n",
    "val_count   = count_images_ignore_folder(val_ds, ignore_folder)\n",
    "test_count  = count_images_ignore_folder(test_ds, ignore_folder)\n",
    "\n",
    "total_count = train_count + val_count + test_count\n",
    "\n",
    "print(\"Training images (excluding '{}'): {}\".format(ignore_folder, train_count))\n",
    "print(\"Validation images (excluding '{}'): {}\".format(ignore_folder, val_count))\n",
    "print(\"Test images (excluding '{}'): {}\".format(ignore_folder, test_count))\n",
    "print(\"Total images (excluding '{}'): {}\".format(ignore_folder, total_count))\n"
   ]
  },
  {
   "cell_type": "code",
   "execution_count": 4,
   "id": "ead9a777",
   "metadata": {
    "execution": {
     "iopub.execute_input": "2025-09-08T06:04:28.799115Z",
     "iopub.status.busy": "2025-09-08T06:04:28.798885Z",
     "iopub.status.idle": "2025-09-08T06:04:28.806377Z",
     "shell.execute_reply": "2025-09-08T06:04:28.805735Z"
    },
    "papermill": {
     "duration": 0.011617,
     "end_time": "2025-09-08T06:04:28.807436",
     "exception": false,
     "start_time": "2025-09-08T06:04:28.795819",
     "status": "completed"
    },
    "tags": []
   },
   "outputs": [
    {
     "name": "stdout",
     "output_type": "stream",
     "text": [
      "Training folders considered: {'blur', 'dirty_lens', 'random_occlusion', 'original', 'chromatic_aberration', 'low_resolution', 'motion_blur', 'lens_flare', 'gaussian_noise'}\n",
      "Validation folders considered: {'blur', 'dirty_lens', 'random_occlusion', 'original', 'chromatic_aberration', 'low_resolution', 'motion_blur', 'lens_flare', 'gaussian_noise'}\n",
      "Test folders considered: {'blur', 'dirty_lens', 'random_occlusion', 'original', 'chromatic_aberration', 'low_resolution', 'motion_blur', 'lens_flare', 'gaussian_noise'}\n"
     ]
    }
   ],
   "source": [
    "ignore_folder = \"random_occlusionw\"\n",
    "\n",
    "def get_included_folders(dataset, ignore_folder):\n",
    "    included = set()\n",
    "    for img_path, label in dataset.samples:\n",
    "        # Split the path into parts and ignore if ignore_folder is in the path\n",
    "        if ignore_folder not in img_path.split(\"/\"):\n",
    "            # The folder name just above the image (or the class folder)\n",
    "            folder_name = img_path.split(\"/\")[-2]\n",
    "            included.add(folder_name)\n",
    "    return included\n",
    "\n",
    "train_folders = get_included_folders(train_ds, ignore_folder)\n",
    "val_folders   = get_included_folders(val_ds, ignore_folder)\n",
    "test_folders  = get_included_folders(test_ds, ignore_folder)\n",
    "\n",
    "print(\"Training folders considered:\", train_folders)\n",
    "print(\"Validation folders considered:\", val_folders)\n",
    "print(\"Test folders considered:\", test_folders)\n"
   ]
  },
  {
   "cell_type": "code",
   "execution_count": 5,
   "id": "a8548ca6",
   "metadata": {
    "execution": {
     "iopub.execute_input": "2025-09-08T06:04:28.813047Z",
     "iopub.status.busy": "2025-09-08T06:04:28.812823Z",
     "iopub.status.idle": "2025-09-08T06:04:28.926472Z",
     "shell.execute_reply": "2025-09-08T06:04:28.925744Z"
    },
    "papermill": {
     "duration": 0.117748,
     "end_time": "2025-09-08T06:04:28.927638",
     "exception": false,
     "start_time": "2025-09-08T06:04:28.809890",
     "status": "completed"
    },
    "tags": []
   },
   "outputs": [
    {
     "name": "stdout",
     "output_type": "stream",
     "text": [
      "Classes: ['Four', 'Leg_Bye', 'No_ball', 'Out', 'Six', 'Wide']\n",
      "Final Training images: 1536\n",
      "Final Validation images: 416\n",
      "Final Test images: 520\n",
      "Total images after filtering: 2472\n"
     ]
    }
   ],
   "source": [
    "ignore_folder = \"random_occlusion\"\n",
    "\n",
    "def filter_samples(dataset, ignore_folder):\n",
    "    # Keep only samples where ignore_folder is NOT in the path\n",
    "    filtered_samples = [s for s in dataset.samples if ignore_folder not in s[0].split(\"/\")]\n",
    "    dataset.samples = filtered_samples\n",
    "    dataset.targets = [s[1] for s in filtered_samples]  # Update targets accordingly\n",
    "    return dataset\n",
    "\n",
    "# Create original datasets\n",
    "train_ds = datasets.ImageFolder(f\"{data_dir}/train/Umpire\", transform=transform)\n",
    "val_ds   = datasets.ImageFolder(f\"{data_dir}/val/Umpire\", transform=transform)\n",
    "test_ds  = datasets.ImageFolder(f\"{data_dir}/test/Umpire\", transform=transform)\n",
    "\n",
    "# Filter out 'random_occlusion' folder\n",
    "train_ds = filter_samples(train_ds, ignore_folder)\n",
    "val_ds   = filter_samples(val_ds, ignore_folder)\n",
    "test_ds  = filter_samples(test_ds, ignore_folder)\n",
    "\n",
    "# DataLoaders\n",
    "train_loader = DataLoader(train_ds, batch_size=32, shuffle=True)\n",
    "val_loader   = DataLoader(val_ds, batch_size=32, shuffle=False)\n",
    "test_loader  = DataLoader(test_ds, batch_size=32, shuffle=False)\n",
    "\n",
    "# Classes (will remain the same)\n",
    "classes = train_ds.classes\n",
    "print(\"Classes:\", classes)\n",
    "\n",
    "# Show counts\n",
    "print(\"Final Training images:\", len(train_ds))\n",
    "print(\"Final Validation images:\", len(val_ds))\n",
    "print(\"Final Test images:\", len(test_ds))\n",
    "print(\"Total images after filtering:\", len(train_ds) + len(val_ds) + len(test_ds))\n"
   ]
  },
  {
   "cell_type": "code",
   "execution_count": 6,
   "id": "d10b09a3",
   "metadata": {
    "execution": {
     "iopub.execute_input": "2025-09-08T06:04:28.933235Z",
     "iopub.status.busy": "2025-09-08T06:04:28.933002Z",
     "iopub.status.idle": "2025-09-08T06:04:28.940219Z",
     "shell.execute_reply": "2025-09-08T06:04:28.939537Z"
    },
    "papermill": {
     "duration": 0.01118,
     "end_time": "2025-09-08T06:04:28.941319",
     "exception": false,
     "start_time": "2025-09-08T06:04:28.930139",
     "status": "completed"
    },
    "tags": []
   },
   "outputs": [
    {
     "name": "stdout",
     "output_type": "stream",
     "text": [
      "Training folders considered: {'blur', 'dirty_lens', 'original', 'chromatic_aberration', 'low_resolution', 'motion_blur', 'lens_flare', 'gaussian_noise'}\n",
      "Validation folders considered: {'blur', 'dirty_lens', 'original', 'chromatic_aberration', 'low_resolution', 'motion_blur', 'lens_flare', 'gaussian_noise'}\n",
      "Test folders considered: {'blur', 'dirty_lens', 'original', 'chromatic_aberration', 'low_resolution', 'motion_blur', 'lens_flare', 'gaussian_noise'}\n"
     ]
    }
   ],
   "source": [
    "ignore_folder = \"random_occlusion\"\n",
    "\n",
    "def get_included_folders(dataset, ignore_folder):\n",
    "    included = set()\n",
    "    for img_path, label in dataset.samples:\n",
    "        # Split the path into parts and ignore if ignore_folder is in the path\n",
    "        if ignore_folder not in img_path.split(\"/\"):\n",
    "            # The folder name just above the image (or the class folder)\n",
    "            folder_name = img_path.split(\"/\")[-2]\n",
    "            included.add(folder_name)\n",
    "    return included\n",
    "\n",
    "train_folders = get_included_folders(train_ds, ignore_folder)\n",
    "val_folders   = get_included_folders(val_ds, ignore_folder)\n",
    "test_folders  = get_included_folders(test_ds, ignore_folder)\n",
    "\n",
    "print(\"Training folders considered:\", train_folders)\n",
    "print(\"Validation folders considered:\", val_folders)\n",
    "print(\"Test folders considered:\", test_folders)"
   ]
  },
  {
   "cell_type": "code",
   "execution_count": 7,
   "id": "0bc77ad5",
   "metadata": {
    "execution": {
     "iopub.execute_input": "2025-09-08T06:04:28.947249Z",
     "iopub.status.busy": "2025-09-08T06:04:28.947019Z",
     "iopub.status.idle": "2025-09-08T06:04:28.963197Z",
     "shell.execute_reply": "2025-09-08T06:04:28.962523Z"
    },
    "papermill": {
     "duration": 0.020479,
     "end_time": "2025-09-08T06:04:28.964285",
     "exception": false,
     "start_time": "2025-09-08T06:04:28.943806",
     "status": "completed"
    },
    "tags": []
   },
   "outputs": [],
   "source": [
    "\n",
    "def _make_divisible(v, divisor, min_value=None):\n",
    "    \"\"\"\n",
    "    This function is taken from the original tf repo.\n",
    "    It ensures that all layers have a channel number that is divisible by 8\n",
    "    \"\"\"\n",
    "    if min_value is None:\n",
    "        min_value = divisor\n",
    "    new_v = max(min_value, int(v + divisor / 2) // divisor * divisor)\n",
    "    # Make sure that round down does not go down by more than 10%.\n",
    "    if new_v < 0.9 * v:\n",
    "        new_v += divisor\n",
    "    return new_v\n",
    "\n",
    "class ConvBNReLU(nn.Module):\n",
    "    \"\"\"Standard convolution block: Conv2d + BatchNorm + ReLU6\"\"\"\n",
    "    def __init__(self, in_planes, out_planes, kernel_size=3, stride=1, groups=1, norm_layer=None):\n",
    "        super().__init__()\n",
    "        if norm_layer is None:\n",
    "            norm_layer = nn.BatchNorm2d\n",
    "        padding = (kernel_size - 1) // 2\n",
    "        self.conv = nn.Conv2d(in_planes, out_planes, kernel_size, stride, padding, groups=groups, bias=False)\n",
    "        self.bn = norm_layer(out_planes)\n",
    "        \n",
    "    def forward(self, x):\n",
    "        x = self.conv(x)\n",
    "        x = self.bn(x)\n",
    "        return F.relu6(x, inplace=True)\n",
    "\n",
    "class InvertedResidual(nn.Module):\n",
    "    \"\"\"Inverted Residual Block (Mobile Inverted Bottleneck)\"\"\"\n",
    "    def __init__(self, inp, oup, stride, expand_ratio, norm_layer=None):\n",
    "        super().__init__()\n",
    "        self.stride = stride\n",
    "        if stride not in [1, 2]:\n",
    "            raise ValueError(f\"stride should be 1 or 2 instead of {stride}\")\n",
    "        \n",
    "        if norm_layer is None:\n",
    "            norm_layer = nn.BatchNorm2d\n",
    "            \n",
    "        hidden_dim = int(round(inp * expand_ratio))\n",
    "        self.use_res_connect = self.stride == 1 and inp == oup\n",
    "        \n",
    "        layers = []\n",
    "        \n",
    "        if expand_ratio != 1:\n",
    "            # Pointwise expansion (1x1 conv)\n",
    "            layers.append(ConvBNReLU(inp, hidden_dim, kernel_size=1, norm_layer=norm_layer))\n",
    "        \n",
    "        layers.extend([\n",
    "            # Depthwise convolution (3x3 conv with groups)\n",
    "            ConvBNReLU(hidden_dim, hidden_dim, stride=stride, groups=hidden_dim, norm_layer=norm_layer),\n",
    "            # Pointwise projection (1x1 conv without ReLU)\n",
    "            nn.Conv2d(hidden_dim, oup, 1, 1, 0, bias=False),\n",
    "            norm_layer(oup),\n",
    "        ])\n",
    "        \n",
    "        self.conv = nn.Sequential(*layers)\n",
    "        \n",
    "    def forward(self, x):\n",
    "        if self.use_res_connect:\n",
    "            return x + self.conv(x)\n",
    "        else:\n",
    "            return self.conv(x)\n",
    "\n",
    "class MyMobileNetV2(nn.Module):\n",
    "    \"\"\"MobileNetV2 Implementation from Scratch\"\"\"\n",
    "    def __init__(self, num_classes=4, width_mult=1.0, inverted_residual_setting=None, \n",
    "                 round_nearest=8, block=None, norm_layer=None):\n",
    "        super().__init__()\n",
    "        \n",
    "        if block is None:\n",
    "            block = InvertedResidual\n",
    "        \n",
    "        if norm_layer is None:\n",
    "            norm_layer = nn.BatchNorm2d\n",
    "        \n",
    "        input_channel = 32\n",
    "        last_channel = 1280\n",
    "        \n",
    "        if inverted_residual_setting is None:\n",
    "            inverted_residual_setting = [\n",
    "                # t, c, n, s\n",
    "                [1, 16, 1, 1],   # Stage 1\n",
    "                [6, 24, 2, 2],   # Stage 2\n",
    "                [6, 32, 3, 2],   # Stage 3\n",
    "                [6, 64, 4, 2],   # Stage 4\n",
    "                [6, 96, 3, 1],   # Stage 5\n",
    "                [6, 160, 3, 2],  # Stage 6\n",
    "                [6, 320, 1, 1],  # Stage 7\n",
    "            ]\n",
    "        \n",
    "        # only check the first element, assuming user knows t,c,n,s are required\n",
    "        if len(inverted_residual_setting) == 0 or len(inverted_residual_setting[0]) != 4:\n",
    "            raise ValueError(\"inverted_residual_setting should be non-empty \"\n",
    "                           \"or a 4-element list, got {}\".format(inverted_residual_setting))\n",
    "        \n",
    "        # building first layer\n",
    "        input_channel = _make_divisible(input_channel * width_mult, round_nearest)\n",
    "        self.last_channel = _make_divisible(last_channel * max(1.0, width_mult), round_nearest)\n",
    "        \n",
    "        features = [ConvBNReLU(3, input_channel, stride=2, norm_layer=norm_layer)]\n",
    "        \n",
    "        # building inverted residual blocks\n",
    "        for t, c, n, s in inverted_residual_setting:\n",
    "            output_channel = _make_divisible(c * width_mult, round_nearest)\n",
    "            for i in range(n):\n",
    "                stride = s if i == 0 else 1\n",
    "                features.append(block(input_channel, output_channel, stride, expand_ratio=t, norm_layer=norm_layer))\n",
    "                input_channel = output_channel\n",
    "        \n",
    "        # building last several layers\n",
    "        features.append(ConvBNReLU(input_channel, self.last_channel, kernel_size=1, norm_layer=norm_layer))\n",
    "        \n",
    "        # make it nn.Sequential\n",
    "        self.features = nn.Sequential(*features)\n",
    "        \n",
    "        # building classifier\n",
    "        self.classifier = nn.Sequential(\n",
    "            nn.Dropout(0.2),\n",
    "            nn.Linear(self.last_channel, num_classes),\n",
    "        )\n",
    "        \n",
    "        # weight initialization\n",
    "        self._initialize_weights()\n",
    "    \n",
    "    def _initialize_weights(self):\n",
    "        \"\"\"Initialize weights using appropriate methods\"\"\"\n",
    "        for m in self.modules():\n",
    "            if isinstance(m, nn.Conv2d):\n",
    "                nn.init.kaiming_normal_(m.weight, mode='fan_out', nonlinearity='relu')\n",
    "                if m.bias is not None:\n",
    "                    nn.init.zeros_(m.bias)\n",
    "            elif isinstance(m, (nn.BatchNorm2d, nn.GroupNorm)):\n",
    "                nn.init.ones_(m.weight)\n",
    "                nn.init.zeros_(m.bias)\n",
    "            elif isinstance(m, nn.Linear):\n",
    "                nn.init.normal_(m.weight, 0, 0.01)\n",
    "                nn.init.zeros_(m.bias)\n",
    "    \n",
    "    def _forward_impl(self, x):\n",
    "        # This exists since TorchScript doesn't support inheritance, so the superclass method\n",
    "        # (this one) needs to have a name other than `forward` that can be accessed in a subclass\n",
    "        x = self.features(x)\n",
    "        # Cannot use \"squeeze\" as batch-size can be 1 => must use reshape with x.shape[0]\n",
    "        x = nn.functional.adaptive_avg_pool2d(x, (1, 1))\n",
    "        x = torch.flatten(x, 1)\n",
    "        x = self.classifier(x)\n",
    "        return x\n",
    "    \n",
    "    def forward(self, x):\n",
    "        return self._forward_impl(x)\n",
    "\n",
    "\n"
   ]
  },
  {
   "cell_type": "code",
   "execution_count": 8,
   "id": "8e1dad82",
   "metadata": {
    "execution": {
     "iopub.execute_input": "2025-09-08T06:04:28.970242Z",
     "iopub.status.busy": "2025-09-08T06:04:28.969648Z",
     "iopub.status.idle": "2025-09-08T06:04:30.373887Z",
     "shell.execute_reply": "2025-09-08T06:04:30.372964Z"
    },
    "papermill": {
     "duration": 1.408852,
     "end_time": "2025-09-08T06:04:30.375535",
     "exception": false,
     "start_time": "2025-09-08T06:04:28.966683",
     "status": "completed"
    },
    "tags": []
   },
   "outputs": [
    {
     "name": "stdout",
     "output_type": "stream",
     "text": [
      "MobileNetV2 Model Summary:\n",
      "----------------------------------------------------------------\n",
      "        Layer (type)               Output Shape         Param #\n",
      "================================================================\n",
      "            Conv2d-1         [-1, 32, 112, 112]             864\n",
      "       BatchNorm2d-2         [-1, 32, 112, 112]              64\n",
      "        ConvBNReLU-3         [-1, 32, 112, 112]               0\n",
      "            Conv2d-4         [-1, 32, 112, 112]             288\n",
      "       BatchNorm2d-5         [-1, 32, 112, 112]              64\n",
      "        ConvBNReLU-6         [-1, 32, 112, 112]               0\n",
      "            Conv2d-7         [-1, 16, 112, 112]             512\n",
      "       BatchNorm2d-8         [-1, 16, 112, 112]              32\n",
      "  InvertedResidual-9         [-1, 16, 112, 112]               0\n",
      "           Conv2d-10         [-1, 96, 112, 112]           1,536\n",
      "      BatchNorm2d-11         [-1, 96, 112, 112]             192\n",
      "       ConvBNReLU-12         [-1, 96, 112, 112]               0\n",
      "           Conv2d-13           [-1, 96, 56, 56]             864\n",
      "      BatchNorm2d-14           [-1, 96, 56, 56]             192\n",
      "       ConvBNReLU-15           [-1, 96, 56, 56]               0\n",
      "           Conv2d-16           [-1, 24, 56, 56]           2,304\n",
      "      BatchNorm2d-17           [-1, 24, 56, 56]              48\n",
      " InvertedResidual-18           [-1, 24, 56, 56]               0\n",
      "           Conv2d-19          [-1, 144, 56, 56]           3,456\n",
      "      BatchNorm2d-20          [-1, 144, 56, 56]             288\n",
      "       ConvBNReLU-21          [-1, 144, 56, 56]               0\n",
      "           Conv2d-22          [-1, 144, 56, 56]           1,296\n",
      "      BatchNorm2d-23          [-1, 144, 56, 56]             288\n",
      "       ConvBNReLU-24          [-1, 144, 56, 56]               0\n",
      "           Conv2d-25           [-1, 24, 56, 56]           3,456\n",
      "      BatchNorm2d-26           [-1, 24, 56, 56]              48\n",
      " InvertedResidual-27           [-1, 24, 56, 56]               0\n",
      "           Conv2d-28          [-1, 144, 56, 56]           3,456\n",
      "      BatchNorm2d-29          [-1, 144, 56, 56]             288\n",
      "       ConvBNReLU-30          [-1, 144, 56, 56]               0\n",
      "           Conv2d-31          [-1, 144, 28, 28]           1,296\n",
      "      BatchNorm2d-32          [-1, 144, 28, 28]             288\n",
      "       ConvBNReLU-33          [-1, 144, 28, 28]               0\n",
      "           Conv2d-34           [-1, 32, 28, 28]           4,608\n",
      "      BatchNorm2d-35           [-1, 32, 28, 28]              64\n",
      " InvertedResidual-36           [-1, 32, 28, 28]               0\n",
      "           Conv2d-37          [-1, 192, 28, 28]           6,144\n",
      "      BatchNorm2d-38          [-1, 192, 28, 28]             384\n",
      "       ConvBNReLU-39          [-1, 192, 28, 28]               0\n",
      "           Conv2d-40          [-1, 192, 28, 28]           1,728\n",
      "      BatchNorm2d-41          [-1, 192, 28, 28]             384\n",
      "       ConvBNReLU-42          [-1, 192, 28, 28]               0\n",
      "           Conv2d-43           [-1, 32, 28, 28]           6,144\n",
      "      BatchNorm2d-44           [-1, 32, 28, 28]              64\n",
      " InvertedResidual-45           [-1, 32, 28, 28]               0\n",
      "           Conv2d-46          [-1, 192, 28, 28]           6,144\n",
      "      BatchNorm2d-47          [-1, 192, 28, 28]             384\n",
      "       ConvBNReLU-48          [-1, 192, 28, 28]               0\n",
      "           Conv2d-49          [-1, 192, 28, 28]           1,728\n",
      "      BatchNorm2d-50          [-1, 192, 28, 28]             384\n",
      "       ConvBNReLU-51          [-1, 192, 28, 28]               0\n",
      "           Conv2d-52           [-1, 32, 28, 28]           6,144\n",
      "      BatchNorm2d-53           [-1, 32, 28, 28]              64\n",
      " InvertedResidual-54           [-1, 32, 28, 28]               0\n",
      "           Conv2d-55          [-1, 192, 28, 28]           6,144\n",
      "      BatchNorm2d-56          [-1, 192, 28, 28]             384\n",
      "       ConvBNReLU-57          [-1, 192, 28, 28]               0\n",
      "           Conv2d-58          [-1, 192, 14, 14]           1,728\n",
      "      BatchNorm2d-59          [-1, 192, 14, 14]             384\n",
      "       ConvBNReLU-60          [-1, 192, 14, 14]               0\n",
      "           Conv2d-61           [-1, 64, 14, 14]          12,288\n",
      "      BatchNorm2d-62           [-1, 64, 14, 14]             128\n",
      " InvertedResidual-63           [-1, 64, 14, 14]               0\n",
      "           Conv2d-64          [-1, 384, 14, 14]          24,576\n",
      "      BatchNorm2d-65          [-1, 384, 14, 14]             768\n",
      "       ConvBNReLU-66          [-1, 384, 14, 14]               0\n",
      "           Conv2d-67          [-1, 384, 14, 14]           3,456\n",
      "      BatchNorm2d-68          [-1, 384, 14, 14]             768\n",
      "       ConvBNReLU-69          [-1, 384, 14, 14]               0\n",
      "           Conv2d-70           [-1, 64, 14, 14]          24,576\n",
      "      BatchNorm2d-71           [-1, 64, 14, 14]             128\n",
      " InvertedResidual-72           [-1, 64, 14, 14]               0\n",
      "           Conv2d-73          [-1, 384, 14, 14]          24,576\n",
      "      BatchNorm2d-74          [-1, 384, 14, 14]             768\n",
      "       ConvBNReLU-75          [-1, 384, 14, 14]               0\n",
      "           Conv2d-76          [-1, 384, 14, 14]           3,456\n",
      "      BatchNorm2d-77          [-1, 384, 14, 14]             768\n",
      "       ConvBNReLU-78          [-1, 384, 14, 14]               0\n",
      "           Conv2d-79           [-1, 64, 14, 14]          24,576\n",
      "      BatchNorm2d-80           [-1, 64, 14, 14]             128\n",
      " InvertedResidual-81           [-1, 64, 14, 14]               0\n",
      "           Conv2d-82          [-1, 384, 14, 14]          24,576\n",
      "      BatchNorm2d-83          [-1, 384, 14, 14]             768\n",
      "       ConvBNReLU-84          [-1, 384, 14, 14]               0\n",
      "           Conv2d-85          [-1, 384, 14, 14]           3,456\n",
      "      BatchNorm2d-86          [-1, 384, 14, 14]             768\n",
      "       ConvBNReLU-87          [-1, 384, 14, 14]               0\n",
      "           Conv2d-88           [-1, 64, 14, 14]          24,576\n",
      "      BatchNorm2d-89           [-1, 64, 14, 14]             128\n",
      " InvertedResidual-90           [-1, 64, 14, 14]               0\n",
      "           Conv2d-91          [-1, 384, 14, 14]          24,576\n",
      "      BatchNorm2d-92          [-1, 384, 14, 14]             768\n",
      "       ConvBNReLU-93          [-1, 384, 14, 14]               0\n",
      "           Conv2d-94          [-1, 384, 14, 14]           3,456\n",
      "      BatchNorm2d-95          [-1, 384, 14, 14]             768\n",
      "       ConvBNReLU-96          [-1, 384, 14, 14]               0\n",
      "           Conv2d-97           [-1, 96, 14, 14]          36,864\n",
      "      BatchNorm2d-98           [-1, 96, 14, 14]             192\n",
      " InvertedResidual-99           [-1, 96, 14, 14]               0\n",
      "          Conv2d-100          [-1, 576, 14, 14]          55,296\n",
      "     BatchNorm2d-101          [-1, 576, 14, 14]           1,152\n",
      "      ConvBNReLU-102          [-1, 576, 14, 14]               0\n",
      "          Conv2d-103          [-1, 576, 14, 14]           5,184\n",
      "     BatchNorm2d-104          [-1, 576, 14, 14]           1,152\n",
      "      ConvBNReLU-105          [-1, 576, 14, 14]               0\n",
      "          Conv2d-106           [-1, 96, 14, 14]          55,296\n",
      "     BatchNorm2d-107           [-1, 96, 14, 14]             192\n",
      "InvertedResidual-108           [-1, 96, 14, 14]               0\n",
      "          Conv2d-109          [-1, 576, 14, 14]          55,296\n",
      "     BatchNorm2d-110          [-1, 576, 14, 14]           1,152\n",
      "      ConvBNReLU-111          [-1, 576, 14, 14]               0\n",
      "          Conv2d-112          [-1, 576, 14, 14]           5,184\n",
      "     BatchNorm2d-113          [-1, 576, 14, 14]           1,152\n",
      "      ConvBNReLU-114          [-1, 576, 14, 14]               0\n",
      "          Conv2d-115           [-1, 96, 14, 14]          55,296\n",
      "     BatchNorm2d-116           [-1, 96, 14, 14]             192\n",
      "InvertedResidual-117           [-1, 96, 14, 14]               0\n",
      "          Conv2d-118          [-1, 576, 14, 14]          55,296\n",
      "     BatchNorm2d-119          [-1, 576, 14, 14]           1,152\n",
      "      ConvBNReLU-120          [-1, 576, 14, 14]               0\n",
      "          Conv2d-121            [-1, 576, 7, 7]           5,184\n",
      "     BatchNorm2d-122            [-1, 576, 7, 7]           1,152\n",
      "      ConvBNReLU-123            [-1, 576, 7, 7]               0\n",
      "          Conv2d-124            [-1, 160, 7, 7]          92,160\n",
      "     BatchNorm2d-125            [-1, 160, 7, 7]             320\n",
      "InvertedResidual-126            [-1, 160, 7, 7]               0\n",
      "          Conv2d-127            [-1, 960, 7, 7]         153,600\n",
      "     BatchNorm2d-128            [-1, 960, 7, 7]           1,920\n",
      "      ConvBNReLU-129            [-1, 960, 7, 7]               0\n",
      "          Conv2d-130            [-1, 960, 7, 7]           8,640\n",
      "     BatchNorm2d-131            [-1, 960, 7, 7]           1,920\n",
      "      ConvBNReLU-132            [-1, 960, 7, 7]               0\n",
      "          Conv2d-133            [-1, 160, 7, 7]         153,600\n",
      "     BatchNorm2d-134            [-1, 160, 7, 7]             320\n",
      "InvertedResidual-135            [-1, 160, 7, 7]               0\n",
      "          Conv2d-136            [-1, 960, 7, 7]         153,600\n",
      "     BatchNorm2d-137            [-1, 960, 7, 7]           1,920\n",
      "      ConvBNReLU-138            [-1, 960, 7, 7]               0\n",
      "          Conv2d-139            [-1, 960, 7, 7]           8,640\n",
      "     BatchNorm2d-140            [-1, 960, 7, 7]           1,920\n",
      "      ConvBNReLU-141            [-1, 960, 7, 7]               0\n",
      "          Conv2d-142            [-1, 160, 7, 7]         153,600\n",
      "     BatchNorm2d-143            [-1, 160, 7, 7]             320\n",
      "InvertedResidual-144            [-1, 160, 7, 7]               0\n",
      "          Conv2d-145            [-1, 960, 7, 7]         153,600\n",
      "     BatchNorm2d-146            [-1, 960, 7, 7]           1,920\n",
      "      ConvBNReLU-147            [-1, 960, 7, 7]               0\n",
      "          Conv2d-148            [-1, 960, 7, 7]           8,640\n",
      "     BatchNorm2d-149            [-1, 960, 7, 7]           1,920\n",
      "      ConvBNReLU-150            [-1, 960, 7, 7]               0\n",
      "          Conv2d-151            [-1, 320, 7, 7]         307,200\n",
      "     BatchNorm2d-152            [-1, 320, 7, 7]             640\n",
      "InvertedResidual-153            [-1, 320, 7, 7]               0\n",
      "          Conv2d-154           [-1, 1280, 7, 7]         409,600\n",
      "     BatchNorm2d-155           [-1, 1280, 7, 7]           2,560\n",
      "      ConvBNReLU-156           [-1, 1280, 7, 7]               0\n",
      "         Dropout-157                 [-1, 1280]               0\n",
      "          Linear-158                    [-1, 6]           7,686\n",
      "================================================================\n",
      "Total params: 2,231,558\n",
      "Trainable params: 2,231,558\n",
      "Non-trainable params: 0\n",
      "----------------------------------------------------------------\n",
      "Input size (MB): 0.57\n",
      "Forward/backward pass size (MB): 152.86\n",
      "Params size (MB): 8.51\n",
      "Estimated Total Size (MB): 161.95\n",
      "----------------------------------------------------------------\n"
     ]
    }
   ],
   "source": [
    "# -----------------------------\n",
    "# 3. Training Setup\n",
    "# -----------------------------\n",
    "device = torch.device(\"cuda\" if torch.cuda.is_available() else \"cpu\")\n",
    "model = MyMobileNetV2(num_classes=len(classes)).to(device)\n",
    "criterion = nn.CrossEntropyLoss()\n",
    "optimizer = torch.optim.Adam(model.parameters(), lr=0.001)\n",
    "\n",
    "print(\"MobileNetV2 Model Summary:\")\n",
    "try:\n",
    "    summary(model, (3, 224, 224))\n",
    "except:\n",
    "    print(\"Model summary generation failed - this is normal for complex architectures\")\n",
    "    print(f\"Model created successfully with {sum(p.numel() for p in model.parameters()):,} parameters\")\n",
    "\n"
   ]
  },
  {
   "cell_type": "code",
   "execution_count": 9,
   "id": "9bcbca8e",
   "metadata": {
    "execution": {
     "iopub.execute_input": "2025-09-08T06:04:30.382873Z",
     "iopub.status.busy": "2025-09-08T06:04:30.382638Z",
     "iopub.status.idle": "2025-09-08T06:20:11.203802Z",
     "shell.execute_reply": "2025-09-08T06:20:11.203078Z"
    },
    "papermill": {
     "duration": 940.827301,
     "end_time": "2025-09-08T06:20:11.206073",
     "exception": false,
     "start_time": "2025-09-08T06:04:30.378772",
     "status": "completed"
    },
    "tags": []
   },
   "outputs": [
    {
     "name": "stdout",
     "output_type": "stream",
     "text": [
      "\n",
      "🚀 Starting MobileNetV2 Training for 50 epochs...\n",
      "================================================================================\n",
      "\n",
      "📈 Epoch 1/50\n",
      "--------------------------------------------------\n",
      "🔄 Training Phase...\n"
     ]
    },
    {
     "name": "stderr",
     "output_type": "stream",
     "text": [
      "Training: 100%|██████████████████████████████| 48/48 [00:25<00:00,  1.85it/s, Loss=1.6312, Acc=0.3171]\n"
     ]
    },
    {
     "name": "stdout",
     "output_type": "stream",
     "text": [
      "✅ Training completed in 25.91s\n",
      "🔍 Validation Phase...\n"
     ]
    },
    {
     "name": "stderr",
     "output_type": "stream",
     "text": [
      "Validation: 100%|██████████████████████████████| 13/13 [00:05<00:00,  2.27it/s, Loss=1.8432, Acc=0.2885]\n"
     ]
    },
    {
     "name": "stdout",
     "output_type": "stream",
     "text": [
      "✅ Validation completed in 5.72s\n",
      "🌟 New best MobileNetV2 model found! Validation Accuracy: 0.2885\n",
      "\n",
      "📊 Epoch 1 Summary:\n",
      "│ Train Loss: 1.6312 | Train Acc: 0.3171\n",
      "│ Val Loss:   1.8432 | Val Acc:   0.2885\n",
      "│ Train Time: 25.91s | Val Time: 5.72s\n",
      "│ Total Epoch Time: 31.64s\n",
      "│ Best Val Acc: 0.2885 (Epoch 1)\n",
      "│ GPU Memory: 0.1GB / 2.8GB\n",
      "================================================================================\n",
      "\n",
      "📈 Epoch 2/50\n",
      "--------------------------------------------------\n",
      "🔄 Training Phase...\n"
     ]
    },
    {
     "name": "stderr",
     "output_type": "stream",
     "text": [
      "Training: 100%|██████████████████████████████| 48/48 [00:15<00:00,  3.17it/s, Loss=1.4127, Acc=0.4473]\n"
     ]
    },
    {
     "name": "stdout",
     "output_type": "stream",
     "text": [
      "✅ Training completed in 15.16s\n",
      "🔍 Validation Phase...\n"
     ]
    },
    {
     "name": "stderr",
     "output_type": "stream",
     "text": [
      "Validation: 100%|██████████████████████████████| 13/13 [00:02<00:00,  4.77it/s, Loss=2.3167, Acc=0.2644]\n"
     ]
    },
    {
     "name": "stdout",
     "output_type": "stream",
     "text": [
      "✅ Validation completed in 2.73s\n",
      "\n",
      "📊 Epoch 2 Summary:\n",
      "│ Train Loss: 1.4127 | Train Acc: 0.4473\n",
      "│ Val Loss:   2.3167 | Val Acc:   0.2644\n",
      "│ Train Time: 15.16s | Val Time: 2.73s\n",
      "│ Total Epoch Time: 17.89s\n",
      "│ Best Val Acc: 0.2885 (Epoch 1)\n",
      "│ GPU Memory: 0.1GB / 2.8GB\n",
      "================================================================================\n",
      "\n",
      "📈 Epoch 3/50\n",
      "--------------------------------------------------\n",
      "🔄 Training Phase...\n"
     ]
    },
    {
     "name": "stderr",
     "output_type": "stream",
     "text": [
      "Training: 100%|██████████████████████████████| 48/48 [00:15<00:00,  3.13it/s, Loss=1.0146, Acc=0.6328]\n"
     ]
    },
    {
     "name": "stdout",
     "output_type": "stream",
     "text": [
      "✅ Training completed in 15.32s\n",
      "🔍 Validation Phase...\n"
     ]
    },
    {
     "name": "stderr",
     "output_type": "stream",
     "text": [
      "Validation: 100%|██████████████████████████████| 13/13 [00:02<00:00,  4.71it/s, Loss=2.0725, Acc=0.3606]\n"
     ]
    },
    {
     "name": "stdout",
     "output_type": "stream",
     "text": [
      "✅ Validation completed in 2.76s\n",
      "🌟 New best MobileNetV2 model found! Validation Accuracy: 0.3606\n",
      "\n",
      "📊 Epoch 3 Summary:\n",
      "│ Train Loss: 1.0146 | Train Acc: 0.6328\n",
      "│ Val Loss:   2.0725 | Val Acc:   0.3606\n",
      "│ Train Time: 15.32s | Val Time: 2.76s\n",
      "│ Total Epoch Time: 18.08s\n",
      "│ Best Val Acc: 0.3606 (Epoch 3)\n",
      "│ GPU Memory: 0.1GB / 2.8GB\n",
      "================================================================================\n",
      "\n",
      "📈 Epoch 4/50\n",
      "--------------------------------------------------\n",
      "🔄 Training Phase...\n"
     ]
    },
    {
     "name": "stderr",
     "output_type": "stream",
     "text": [
      "Training: 100%|██████████████████████████████| 48/48 [00:15<00:00,  3.14it/s, Loss=0.6290, Acc=0.7845]\n"
     ]
    },
    {
     "name": "stdout",
     "output_type": "stream",
     "text": [
      "✅ Training completed in 15.31s\n",
      "🔍 Validation Phase...\n"
     ]
    },
    {
     "name": "stderr",
     "output_type": "stream",
     "text": [
      "Validation: 100%|██████████████████████████████| 13/13 [00:02<00:00,  4.73it/s, Loss=3.0497, Acc=0.3846]\n"
     ]
    },
    {
     "name": "stdout",
     "output_type": "stream",
     "text": [
      "✅ Validation completed in 2.75s\n",
      "🌟 New best MobileNetV2 model found! Validation Accuracy: 0.3846\n",
      "\n",
      "📊 Epoch 4 Summary:\n",
      "│ Train Loss: 0.6290 | Train Acc: 0.7845\n",
      "│ Val Loss:   3.0497 | Val Acc:   0.3846\n",
      "│ Train Time: 15.31s | Val Time: 2.75s\n",
      "│ Total Epoch Time: 18.07s\n",
      "│ Best Val Acc: 0.3846 (Epoch 4)\n",
      "│ GPU Memory: 0.1GB / 2.8GB\n",
      "================================================================================\n",
      "\n",
      "📈 Epoch 5/50\n",
      "--------------------------------------------------\n",
      "🔄 Training Phase...\n"
     ]
    },
    {
     "name": "stderr",
     "output_type": "stream",
     "text": [
      "Training: 100%|██████████████████████████████| 48/48 [00:15<00:00,  3.12it/s, Loss=0.4145, Acc=0.8574]\n"
     ]
    },
    {
     "name": "stdout",
     "output_type": "stream",
     "text": [
      "✅ Training completed in 15.38s\n",
      "🔍 Validation Phase...\n"
     ]
    },
    {
     "name": "stderr",
     "output_type": "stream",
     "text": [
      "Validation: 100%|██████████████████████████████| 13/13 [00:02<00:00,  4.84it/s, Loss=2.8581, Acc=0.3606]\n"
     ]
    },
    {
     "name": "stdout",
     "output_type": "stream",
     "text": [
      "✅ Validation completed in 2.69s\n",
      "\n",
      "📊 Epoch 5 Summary:\n",
      "│ Train Loss: 0.4145 | Train Acc: 0.8574\n",
      "│ Val Loss:   2.8581 | Val Acc:   0.3606\n",
      "│ Train Time: 15.38s | Val Time: 2.69s\n",
      "│ Total Epoch Time: 18.07s\n",
      "│ Best Val Acc: 0.3846 (Epoch 4)\n",
      "│ GPU Memory: 0.1GB / 2.8GB\n",
      "================================================================================\n",
      "\n",
      "📈 Epoch 6/50\n",
      "--------------------------------------------------\n",
      "🔄 Training Phase...\n"
     ]
    },
    {
     "name": "stderr",
     "output_type": "stream",
     "text": [
      "Training: 100%|██████████████████████████████| 48/48 [00:15<00:00,  3.17it/s, Loss=0.2569, Acc=0.9154]\n"
     ]
    },
    {
     "name": "stdout",
     "output_type": "stream",
     "text": [
      "✅ Training completed in 15.14s\n",
      "🔍 Validation Phase...\n"
     ]
    },
    {
     "name": "stderr",
     "output_type": "stream",
     "text": [
      "Validation: 100%|██████████████████████████████| 13/13 [00:02<00:00,  4.64it/s, Loss=3.6452, Acc=0.4038]\n"
     ]
    },
    {
     "name": "stdout",
     "output_type": "stream",
     "text": [
      "✅ Validation completed in 2.80s\n",
      "🌟 New best MobileNetV2 model found! Validation Accuracy: 0.4038\n",
      "\n",
      "📊 Epoch 6 Summary:\n",
      "│ Train Loss: 0.2569 | Train Acc: 0.9154\n",
      "│ Val Loss:   3.6452 | Val Acc:   0.4038\n",
      "│ Train Time: 15.14s | Val Time: 2.80s\n",
      "│ Total Epoch Time: 17.95s\n",
      "│ Best Val Acc: 0.4038 (Epoch 6)\n",
      "│ GPU Memory: 0.1GB / 2.8GB\n",
      "================================================================================\n",
      "\n",
      "📈 Epoch 7/50\n",
      "--------------------------------------------------\n",
      "🔄 Training Phase...\n"
     ]
    },
    {
     "name": "stderr",
     "output_type": "stream",
     "text": [
      "Training: 100%|██████████████████████████████| 48/48 [00:15<00:00,  3.14it/s, Loss=0.1604, Acc=0.9460]\n"
     ]
    },
    {
     "name": "stdout",
     "output_type": "stream",
     "text": [
      "✅ Training completed in 15.30s\n",
      "🔍 Validation Phase...\n"
     ]
    },
    {
     "name": "stderr",
     "output_type": "stream",
     "text": [
      "Validation: 100%|██████████████████████████████| 13/13 [00:02<00:00,  4.89it/s, Loss=2.9358, Acc=0.4087]\n"
     ]
    },
    {
     "name": "stdout",
     "output_type": "stream",
     "text": [
      "✅ Validation completed in 2.66s\n",
      "🌟 New best MobileNetV2 model found! Validation Accuracy: 0.4087\n",
      "\n",
      "📊 Epoch 7 Summary:\n",
      "│ Train Loss: 0.1604 | Train Acc: 0.9460\n",
      "│ Val Loss:   2.9358 | Val Acc:   0.4087\n",
      "│ Train Time: 15.30s | Val Time: 2.66s\n",
      "│ Total Epoch Time: 17.97s\n",
      "│ Best Val Acc: 0.4087 (Epoch 7)\n",
      "│ GPU Memory: 0.1GB / 2.8GB\n",
      "================================================================================\n",
      "\n",
      "📈 Epoch 8/50\n",
      "--------------------------------------------------\n",
      "🔄 Training Phase...\n"
     ]
    },
    {
     "name": "stderr",
     "output_type": "stream",
     "text": [
      "Training: 100%|██████████████████████████████| 48/48 [00:15<00:00,  3.09it/s, Loss=0.1187, Acc=0.9629]\n"
     ]
    },
    {
     "name": "stdout",
     "output_type": "stream",
     "text": [
      "✅ Training completed in 15.51s\n",
      "🔍 Validation Phase...\n"
     ]
    },
    {
     "name": "stderr",
     "output_type": "stream",
     "text": [
      "Validation: 100%|██████████████████████████████| 13/13 [00:02<00:00,  4.51it/s, Loss=2.5157, Acc=0.5072]\n"
     ]
    },
    {
     "name": "stdout",
     "output_type": "stream",
     "text": [
      "✅ Validation completed in 2.88s\n",
      "🌟 New best MobileNetV2 model found! Validation Accuracy: 0.5072\n",
      "\n",
      "📊 Epoch 8 Summary:\n",
      "│ Train Loss: 0.1187 | Train Acc: 0.9629\n",
      "│ Val Loss:   2.5157 | Val Acc:   0.5072\n",
      "│ Train Time: 15.51s | Val Time: 2.88s\n",
      "│ Total Epoch Time: 18.40s\n",
      "│ Best Val Acc: 0.5072 (Epoch 8)\n",
      "│ GPU Memory: 0.1GB / 2.8GB\n",
      "================================================================================\n",
      "\n",
      "📈 Epoch 9/50\n",
      "--------------------------------------------------\n",
      "🔄 Training Phase...\n"
     ]
    },
    {
     "name": "stderr",
     "output_type": "stream",
     "text": [
      "Training: 100%|██████████████████████████████| 48/48 [00:15<00:00,  3.13it/s, Loss=0.1104, Acc=0.9616]\n"
     ]
    },
    {
     "name": "stdout",
     "output_type": "stream",
     "text": [
      "✅ Training completed in 15.32s\n",
      "🔍 Validation Phase...\n"
     ]
    },
    {
     "name": "stderr",
     "output_type": "stream",
     "text": [
      "Validation: 100%|██████████████████████████████| 13/13 [00:02<00:00,  4.88it/s, Loss=2.8843, Acc=0.4014]\n"
     ]
    },
    {
     "name": "stdout",
     "output_type": "stream",
     "text": [
      "✅ Validation completed in 2.67s\n",
      "\n",
      "📊 Epoch 9 Summary:\n",
      "│ Train Loss: 0.1104 | Train Acc: 0.9616\n",
      "│ Val Loss:   2.8843 | Val Acc:   0.4014\n",
      "│ Train Time: 15.32s | Val Time: 2.67s\n",
      "│ Total Epoch Time: 17.99s\n",
      "│ Best Val Acc: 0.5072 (Epoch 8)\n",
      "│ GPU Memory: 0.1GB / 2.8GB\n",
      "================================================================================\n",
      "\n",
      "📈 Epoch 10/50\n",
      "--------------------------------------------------\n",
      "🔄 Training Phase...\n"
     ]
    },
    {
     "name": "stderr",
     "output_type": "stream",
     "text": [
      "Training: 100%|██████████████████████████████| 48/48 [00:15<00:00,  3.07it/s, Loss=0.0821, Acc=0.9779]\n"
     ]
    },
    {
     "name": "stdout",
     "output_type": "stream",
     "text": [
      "✅ Training completed in 15.65s\n",
      "🔍 Validation Phase...\n"
     ]
    },
    {
     "name": "stderr",
     "output_type": "stream",
     "text": [
      "Validation: 100%|██████████████████████████████| 13/13 [00:02<00:00,  4.85it/s, Loss=2.5206, Acc=0.5168]\n"
     ]
    },
    {
     "name": "stdout",
     "output_type": "stream",
     "text": [
      "✅ Validation completed in 2.68s\n",
      "🌟 New best MobileNetV2 model found! Validation Accuracy: 0.5168\n",
      "\n",
      "📊 Epoch 10 Summary:\n",
      "│ Train Loss: 0.0821 | Train Acc: 0.9779\n",
      "│ Val Loss:   2.5206 | Val Acc:   0.5168\n",
      "│ Train Time: 15.65s | Val Time: 2.68s\n",
      "│ Total Epoch Time: 18.33s\n",
      "│ Best Val Acc: 0.5168 (Epoch 10)\n",
      "│ GPU Memory: 0.1GB / 2.8GB\n",
      "================================================================================\n",
      "\n",
      "📈 Epoch 11/50\n",
      "--------------------------------------------------\n",
      "🔄 Training Phase...\n"
     ]
    },
    {
     "name": "stderr",
     "output_type": "stream",
     "text": [
      "Training: 100%|██████████████████████████████| 48/48 [00:15<00:00,  3.09it/s, Loss=0.0459, Acc=0.9870]\n"
     ]
    },
    {
     "name": "stdout",
     "output_type": "stream",
     "text": [
      "✅ Training completed in 15.51s\n",
      "🔍 Validation Phase...\n"
     ]
    },
    {
     "name": "stderr",
     "output_type": "stream",
     "text": [
      "Validation: 100%|██████████████████████████████| 13/13 [00:02<00:00,  4.70it/s, Loss=2.0870, Acc=0.5144]\n"
     ]
    },
    {
     "name": "stdout",
     "output_type": "stream",
     "text": [
      "✅ Validation completed in 2.77s\n",
      "\n",
      "📊 Epoch 11 Summary:\n",
      "│ Train Loss: 0.0459 | Train Acc: 0.9870\n",
      "│ Val Loss:   2.0870 | Val Acc:   0.5144\n",
      "│ Train Time: 15.51s | Val Time: 2.77s\n",
      "│ Total Epoch Time: 18.28s\n",
      "│ Best Val Acc: 0.5168 (Epoch 10)\n",
      "│ GPU Memory: 0.1GB / 2.8GB\n",
      "================================================================================\n",
      "\n",
      "📈 Epoch 12/50\n",
      "--------------------------------------------------\n",
      "🔄 Training Phase...\n"
     ]
    },
    {
     "name": "stderr",
     "output_type": "stream",
     "text": [
      "Training: 100%|██████████████████████████████| 48/48 [00:15<00:00,  3.08it/s, Loss=0.0433, Acc=0.9850]\n"
     ]
    },
    {
     "name": "stdout",
     "output_type": "stream",
     "text": [
      "✅ Training completed in 15.59s\n",
      "🔍 Validation Phase...\n"
     ]
    },
    {
     "name": "stderr",
     "output_type": "stream",
     "text": [
      "Validation: 100%|██████████████████████████████| 13/13 [00:02<00:00,  4.84it/s, Loss=2.4361, Acc=0.5120]\n"
     ]
    },
    {
     "name": "stdout",
     "output_type": "stream",
     "text": [
      "✅ Validation completed in 2.69s\n",
      "\n",
      "📊 Epoch 12 Summary:\n",
      "│ Train Loss: 0.0433 | Train Acc: 0.9850\n",
      "│ Val Loss:   2.4361 | Val Acc:   0.5120\n",
      "│ Train Time: 15.59s | Val Time: 2.69s\n",
      "│ Total Epoch Time: 18.28s\n",
      "│ Best Val Acc: 0.5168 (Epoch 10)\n",
      "│ GPU Memory: 0.1GB / 2.8GB\n",
      "================================================================================\n",
      "\n",
      "📈 Epoch 13/50\n",
      "--------------------------------------------------\n",
      "🔄 Training Phase...\n"
     ]
    },
    {
     "name": "stderr",
     "output_type": "stream",
     "text": [
      "Training: 100%|██████████████████████████████| 48/48 [00:15<00:00,  3.10it/s, Loss=0.0230, Acc=0.9928]\n"
     ]
    },
    {
     "name": "stdout",
     "output_type": "stream",
     "text": [
      "✅ Training completed in 15.49s\n",
      "🔍 Validation Phase...\n"
     ]
    },
    {
     "name": "stderr",
     "output_type": "stream",
     "text": [
      "Validation: 100%|██████████████████████████████| 13/13 [00:02<00:00,  4.78it/s, Loss=2.3591, Acc=0.5240]\n"
     ]
    },
    {
     "name": "stdout",
     "output_type": "stream",
     "text": [
      "✅ Validation completed in 2.72s\n",
      "🌟 New best MobileNetV2 model found! Validation Accuracy: 0.5240\n",
      "\n",
      "📊 Epoch 13 Summary:\n",
      "│ Train Loss: 0.0230 | Train Acc: 0.9928\n",
      "│ Val Loss:   2.3591 | Val Acc:   0.5240\n",
      "│ Train Time: 15.49s | Val Time: 2.72s\n",
      "│ Total Epoch Time: 18.22s\n",
      "│ Best Val Acc: 0.5240 (Epoch 13)\n",
      "│ GPU Memory: 0.1GB / 2.8GB\n",
      "================================================================================\n",
      "\n",
      "📈 Epoch 14/50\n",
      "--------------------------------------------------\n",
      "🔄 Training Phase...\n"
     ]
    },
    {
     "name": "stderr",
     "output_type": "stream",
     "text": [
      "Training: 100%|██████████████████████████████| 48/48 [00:15<00:00,  3.07it/s, Loss=0.0224, Acc=0.9928]\n"
     ]
    },
    {
     "name": "stdout",
     "output_type": "stream",
     "text": [
      "✅ Training completed in 15.64s\n",
      "🔍 Validation Phase...\n"
     ]
    },
    {
     "name": "stderr",
     "output_type": "stream",
     "text": [
      "Validation: 100%|██████████████████████████████| 13/13 [00:02<00:00,  4.69it/s, Loss=2.0820, Acc=0.5577]\n"
     ]
    },
    {
     "name": "stdout",
     "output_type": "stream",
     "text": [
      "✅ Validation completed in 2.78s\n",
      "🌟 New best MobileNetV2 model found! Validation Accuracy: 0.5577\n",
      "\n",
      "📊 Epoch 14 Summary:\n",
      "│ Train Loss: 0.0224 | Train Acc: 0.9928\n",
      "│ Val Loss:   2.0820 | Val Acc:   0.5577\n",
      "│ Train Time: 15.64s | Val Time: 2.78s\n",
      "│ Total Epoch Time: 18.42s\n",
      "│ Best Val Acc: 0.5577 (Epoch 14)\n",
      "│ GPU Memory: 0.1GB / 2.8GB\n",
      "================================================================================\n",
      "\n",
      "📈 Epoch 15/50\n",
      "--------------------------------------------------\n",
      "🔄 Training Phase...\n"
     ]
    },
    {
     "name": "stderr",
     "output_type": "stream",
     "text": [
      "Training: 100%|██████████████████████████████| 48/48 [00:15<00:00,  3.07it/s, Loss=0.0267, Acc=0.9909]\n"
     ]
    },
    {
     "name": "stdout",
     "output_type": "stream",
     "text": [
      "✅ Training completed in 15.66s\n",
      "🔍 Validation Phase...\n"
     ]
    },
    {
     "name": "stderr",
     "output_type": "stream",
     "text": [
      "Validation: 100%|██████████████████████████████| 13/13 [00:02<00:00,  4.68it/s, Loss=3.0258, Acc=0.4760]\n"
     ]
    },
    {
     "name": "stdout",
     "output_type": "stream",
     "text": [
      "✅ Validation completed in 2.78s\n",
      "\n",
      "📊 Epoch 15 Summary:\n",
      "│ Train Loss: 0.0267 | Train Acc: 0.9909\n",
      "│ Val Loss:   3.0258 | Val Acc:   0.4760\n",
      "│ Train Time: 15.66s | Val Time: 2.78s\n",
      "│ Total Epoch Time: 18.44s\n",
      "│ Best Val Acc: 0.5577 (Epoch 14)\n",
      "│ GPU Memory: 0.1GB / 2.8GB\n",
      "================================================================================\n",
      "\n",
      "📈 Epoch 16/50\n",
      "--------------------------------------------------\n",
      "🔄 Training Phase...\n"
     ]
    },
    {
     "name": "stderr",
     "output_type": "stream",
     "text": [
      "Training: 100%|██████████████████████████████| 48/48 [00:15<00:00,  3.09it/s, Loss=0.0480, Acc=0.9811]\n"
     ]
    },
    {
     "name": "stdout",
     "output_type": "stream",
     "text": [
      "✅ Training completed in 15.54s\n",
      "🔍 Validation Phase...\n"
     ]
    },
    {
     "name": "stderr",
     "output_type": "stream",
     "text": [
      "Validation: 100%|██████████████████████████████| 13/13 [00:02<00:00,  4.57it/s, Loss=3.2730, Acc=0.4784]\n"
     ]
    },
    {
     "name": "stdout",
     "output_type": "stream",
     "text": [
      "✅ Validation completed in 2.85s\n",
      "\n",
      "📊 Epoch 16 Summary:\n",
      "│ Train Loss: 0.0480 | Train Acc: 0.9811\n",
      "│ Val Loss:   3.2730 | Val Acc:   0.4784\n",
      "│ Train Time: 15.54s | Val Time: 2.85s\n",
      "│ Total Epoch Time: 18.39s\n",
      "│ Best Val Acc: 0.5577 (Epoch 14)\n",
      "│ GPU Memory: 0.1GB / 2.8GB\n",
      "================================================================================\n",
      "\n",
      "📈 Epoch 17/50\n",
      "--------------------------------------------------\n",
      "🔄 Training Phase...\n"
     ]
    },
    {
     "name": "stderr",
     "output_type": "stream",
     "text": [
      "Training: 100%|██████████████████████████████| 48/48 [00:15<00:00,  3.08it/s, Loss=0.1030, Acc=0.9648]\n"
     ]
    },
    {
     "name": "stdout",
     "output_type": "stream",
     "text": [
      "✅ Training completed in 15.59s\n",
      "🔍 Validation Phase...\n"
     ]
    },
    {
     "name": "stderr",
     "output_type": "stream",
     "text": [
      "Validation: 100%|██████████████████████████████| 13/13 [00:02<00:00,  4.71it/s, Loss=3.6353, Acc=0.3918]\n"
     ]
    },
    {
     "name": "stdout",
     "output_type": "stream",
     "text": [
      "✅ Validation completed in 2.76s\n",
      "\n",
      "📊 Epoch 17 Summary:\n",
      "│ Train Loss: 0.1030 | Train Acc: 0.9648\n",
      "│ Val Loss:   3.6353 | Val Acc:   0.3918\n",
      "│ Train Time: 15.59s | Val Time: 2.76s\n",
      "│ Total Epoch Time: 18.36s\n",
      "│ Best Val Acc: 0.5577 (Epoch 14)\n",
      "│ GPU Memory: 0.1GB / 2.8GB\n",
      "================================================================================\n",
      "\n",
      "📈 Epoch 18/50\n",
      "--------------------------------------------------\n",
      "🔄 Training Phase...\n"
     ]
    },
    {
     "name": "stderr",
     "output_type": "stream",
     "text": [
      "Training: 100%|██████████████████████████████| 48/48 [00:15<00:00,  3.05it/s, Loss=0.1152, Acc=0.9648]\n"
     ]
    },
    {
     "name": "stdout",
     "output_type": "stream",
     "text": [
      "✅ Training completed in 15.74s\n",
      "🔍 Validation Phase...\n"
     ]
    },
    {
     "name": "stderr",
     "output_type": "stream",
     "text": [
      "Validation: 100%|██████████████████████████████| 13/13 [00:02<00:00,  4.89it/s, Loss=3.1393, Acc=0.4543]\n"
     ]
    },
    {
     "name": "stdout",
     "output_type": "stream",
     "text": [
      "✅ Validation completed in 2.66s\n",
      "\n",
      "📊 Epoch 18 Summary:\n",
      "│ Train Loss: 0.1152 | Train Acc: 0.9648\n",
      "│ Val Loss:   3.1393 | Val Acc:   0.4543\n",
      "│ Train Time: 15.74s | Val Time: 2.66s\n",
      "│ Total Epoch Time: 18.40s\n",
      "│ Best Val Acc: 0.5577 (Epoch 14)\n",
      "│ GPU Memory: 0.1GB / 2.8GB\n",
      "================================================================================\n",
      "\n",
      "📈 Epoch 19/50\n",
      "--------------------------------------------------\n",
      "🔄 Training Phase...\n"
     ]
    },
    {
     "name": "stderr",
     "output_type": "stream",
     "text": [
      "Training: 100%|██████████████████████████████| 48/48 [00:15<00:00,  3.13it/s, Loss=0.0900, Acc=0.9701]\n"
     ]
    },
    {
     "name": "stdout",
     "output_type": "stream",
     "text": [
      "✅ Training completed in 15.33s\n",
      "🔍 Validation Phase...\n"
     ]
    },
    {
     "name": "stderr",
     "output_type": "stream",
     "text": [
      "Validation: 100%|██████████████████████████████| 13/13 [00:02<00:00,  4.95it/s, Loss=2.4721, Acc=0.4952]\n"
     ]
    },
    {
     "name": "stdout",
     "output_type": "stream",
     "text": [
      "✅ Validation completed in 2.63s\n",
      "\n",
      "📊 Epoch 19 Summary:\n",
      "│ Train Loss: 0.0900 | Train Acc: 0.9701\n",
      "│ Val Loss:   2.4721 | Val Acc:   0.4952\n",
      "│ Train Time: 15.33s | Val Time: 2.63s\n",
      "│ Total Epoch Time: 17.97s\n",
      "│ Best Val Acc: 0.5577 (Epoch 14)\n",
      "│ GPU Memory: 0.1GB / 2.8GB\n",
      "================================================================================\n",
      "\n",
      "📈 Epoch 20/50\n",
      "--------------------------------------------------\n",
      "🔄 Training Phase...\n"
     ]
    },
    {
     "name": "stderr",
     "output_type": "stream",
     "text": [
      "Training: 100%|██████████████████████████████| 48/48 [00:15<00:00,  3.08it/s, Loss=0.0396, Acc=0.9876]\n"
     ]
    },
    {
     "name": "stdout",
     "output_type": "stream",
     "text": [
      "✅ Training completed in 15.61s\n",
      "🔍 Validation Phase...\n"
     ]
    },
    {
     "name": "stderr",
     "output_type": "stream",
     "text": [
      "Validation: 100%|██████████████████████████████| 13/13 [00:02<00:00,  4.82it/s, Loss=2.9986, Acc=0.5192]\n"
     ]
    },
    {
     "name": "stdout",
     "output_type": "stream",
     "text": [
      "✅ Validation completed in 2.70s\n",
      "\n",
      "📊 Epoch 20 Summary:\n",
      "│ Train Loss: 0.0396 | Train Acc: 0.9876\n",
      "│ Val Loss:   2.9986 | Val Acc:   0.5192\n",
      "│ Train Time: 15.61s | Val Time: 2.70s\n",
      "│ Total Epoch Time: 18.31s\n",
      "│ Best Val Acc: 0.5577 (Epoch 14)\n",
      "│ GPU Memory: 0.1GB / 2.8GB\n",
      "================================================================================\n",
      "\n",
      "📈 Epoch 21/50\n",
      "--------------------------------------------------\n",
      "🔄 Training Phase...\n"
     ]
    },
    {
     "name": "stderr",
     "output_type": "stream",
     "text": [
      "Training: 100%|██████████████████████████████| 48/48 [00:15<00:00,  3.08it/s, Loss=0.0389, Acc=0.9863]\n"
     ]
    },
    {
     "name": "stdout",
     "output_type": "stream",
     "text": [
      "✅ Training completed in 15.61s\n",
      "🔍 Validation Phase...\n"
     ]
    },
    {
     "name": "stderr",
     "output_type": "stream",
     "text": [
      "Validation: 100%|██████████████████████████████| 13/13 [00:02<00:00,  4.83it/s, Loss=3.1705, Acc=0.4784]\n"
     ]
    },
    {
     "name": "stdout",
     "output_type": "stream",
     "text": [
      "✅ Validation completed in 2.69s\n",
      "\n",
      "📊 Epoch 21 Summary:\n",
      "│ Train Loss: 0.0389 | Train Acc: 0.9863\n",
      "│ Val Loss:   3.1705 | Val Acc:   0.4784\n",
      "│ Train Time: 15.61s | Val Time: 2.69s\n",
      "│ Total Epoch Time: 18.30s\n",
      "│ Best Val Acc: 0.5577 (Epoch 14)\n",
      "│ GPU Memory: 0.1GB / 2.8GB\n",
      "================================================================================\n",
      "\n",
      "📈 Epoch 22/50\n",
      "--------------------------------------------------\n",
      "🔄 Training Phase...\n"
     ]
    },
    {
     "name": "stderr",
     "output_type": "stream",
     "text": [
      "Training: 100%|██████████████████████████████| 48/48 [00:15<00:00,  3.10it/s, Loss=0.0238, Acc=0.9922]\n"
     ]
    },
    {
     "name": "stdout",
     "output_type": "stream",
     "text": [
      "✅ Training completed in 15.48s\n",
      "🔍 Validation Phase...\n"
     ]
    },
    {
     "name": "stderr",
     "output_type": "stream",
     "text": [
      "Validation: 100%|██████████████████████████████| 13/13 [00:02<00:00,  4.80it/s, Loss=2.6072, Acc=0.4928]\n"
     ]
    },
    {
     "name": "stdout",
     "output_type": "stream",
     "text": [
      "✅ Validation completed in 2.71s\n",
      "\n",
      "📊 Epoch 22 Summary:\n",
      "│ Train Loss: 0.0238 | Train Acc: 0.9922\n",
      "│ Val Loss:   2.6072 | Val Acc:   0.4928\n",
      "│ Train Time: 15.48s | Val Time: 2.71s\n",
      "│ Total Epoch Time: 18.19s\n",
      "│ Best Val Acc: 0.5577 (Epoch 14)\n",
      "│ GPU Memory: 0.1GB / 2.8GB\n",
      "================================================================================\n",
      "\n",
      "📈 Epoch 23/50\n",
      "--------------------------------------------------\n",
      "🔄 Training Phase...\n"
     ]
    },
    {
     "name": "stderr",
     "output_type": "stream",
     "text": [
      "Training: 100%|██████████████████████████████| 48/48 [00:15<00:00,  3.02it/s, Loss=0.0093, Acc=0.9974]\n"
     ]
    },
    {
     "name": "stdout",
     "output_type": "stream",
     "text": [
      "✅ Training completed in 15.91s\n",
      "🔍 Validation Phase...\n"
     ]
    },
    {
     "name": "stderr",
     "output_type": "stream",
     "text": [
      "Validation: 100%|██████████████████████████████| 13/13 [00:02<00:00,  4.66it/s, Loss=2.6902, Acc=0.4832]\n"
     ]
    },
    {
     "name": "stdout",
     "output_type": "stream",
     "text": [
      "✅ Validation completed in 2.79s\n",
      "\n",
      "📊 Epoch 23 Summary:\n",
      "│ Train Loss: 0.0093 | Train Acc: 0.9974\n",
      "│ Val Loss:   2.6902 | Val Acc:   0.4832\n",
      "│ Train Time: 15.91s | Val Time: 2.79s\n",
      "│ Total Epoch Time: 18.70s\n",
      "│ Best Val Acc: 0.5577 (Epoch 14)\n",
      "│ GPU Memory: 0.1GB / 2.8GB\n",
      "================================================================================\n",
      "\n",
      "📈 Epoch 24/50\n",
      "--------------------------------------------------\n",
      "🔄 Training Phase...\n"
     ]
    },
    {
     "name": "stderr",
     "output_type": "stream",
     "text": [
      "Training: 100%|██████████████████████████████| 48/48 [00:15<00:00,  3.04it/s, Loss=0.0059, Acc=0.9987]\n"
     ]
    },
    {
     "name": "stdout",
     "output_type": "stream",
     "text": [
      "✅ Training completed in 15.78s\n",
      "🔍 Validation Phase...\n"
     ]
    },
    {
     "name": "stderr",
     "output_type": "stream",
     "text": [
      "Validation: 100%|██████████████████████████████| 13/13 [00:02<00:00,  4.74it/s, Loss=2.5023, Acc=0.5096]\n"
     ]
    },
    {
     "name": "stdout",
     "output_type": "stream",
     "text": [
      "✅ Validation completed in 2.74s\n",
      "\n",
      "📊 Epoch 24 Summary:\n",
      "│ Train Loss: 0.0059 | Train Acc: 0.9987\n",
      "│ Val Loss:   2.5023 | Val Acc:   0.5096\n",
      "│ Train Time: 15.78s | Val Time: 2.74s\n",
      "│ Total Epoch Time: 18.52s\n",
      "│ Best Val Acc: 0.5577 (Epoch 14)\n",
      "│ GPU Memory: 0.1GB / 2.8GB\n",
      "================================================================================\n",
      "\n",
      "📈 Epoch 25/50\n",
      "--------------------------------------------------\n",
      "🔄 Training Phase...\n"
     ]
    },
    {
     "name": "stderr",
     "output_type": "stream",
     "text": [
      "Training: 100%|██████████████████████████████| 48/48 [00:15<00:00,  3.05it/s, Loss=0.0030, Acc=0.9993]\n"
     ]
    },
    {
     "name": "stdout",
     "output_type": "stream",
     "text": [
      "✅ Training completed in 15.75s\n",
      "🔍 Validation Phase...\n"
     ]
    },
    {
     "name": "stderr",
     "output_type": "stream",
     "text": [
      "Validation: 100%|██████████████████████████████| 13/13 [00:02<00:00,  4.74it/s, Loss=2.3817, Acc=0.5192]\n"
     ]
    },
    {
     "name": "stdout",
     "output_type": "stream",
     "text": [
      "✅ Validation completed in 2.75s\n",
      "\n",
      "📊 Epoch 25 Summary:\n",
      "│ Train Loss: 0.0030 | Train Acc: 0.9993\n",
      "│ Val Loss:   2.3817 | Val Acc:   0.5192\n",
      "│ Train Time: 15.75s | Val Time: 2.75s\n",
      "│ Total Epoch Time: 18.50s\n",
      "│ Best Val Acc: 0.5577 (Epoch 14)\n",
      "│ GPU Memory: 0.1GB / 2.8GB\n",
      "================================================================================\n",
      "\n",
      "📈 Epoch 26/50\n",
      "--------------------------------------------------\n",
      "🔄 Training Phase...\n"
     ]
    },
    {
     "name": "stderr",
     "output_type": "stream",
     "text": [
      "Training: 100%|██████████████████████████████| 48/48 [00:15<00:00,  3.02it/s, Loss=0.0022, Acc=0.9993]\n"
     ]
    },
    {
     "name": "stdout",
     "output_type": "stream",
     "text": [
      "✅ Training completed in 15.89s\n",
      "🔍 Validation Phase...\n"
     ]
    },
    {
     "name": "stderr",
     "output_type": "stream",
     "text": [
      "Validation: 100%|██████████████████████████████| 13/13 [00:02<00:00,  4.64it/s, Loss=2.3697, Acc=0.5577]\n"
     ]
    },
    {
     "name": "stdout",
     "output_type": "stream",
     "text": [
      "✅ Validation completed in 2.80s\n",
      "\n",
      "📊 Epoch 26 Summary:\n",
      "│ Train Loss: 0.0022 | Train Acc: 0.9993\n",
      "│ Val Loss:   2.3697 | Val Acc:   0.5577\n",
      "│ Train Time: 15.89s | Val Time: 2.80s\n",
      "│ Total Epoch Time: 18.70s\n",
      "│ Best Val Acc: 0.5577 (Epoch 14)\n",
      "│ GPU Memory: 0.1GB / 2.8GB\n",
      "================================================================================\n",
      "\n",
      "📈 Epoch 27/50\n",
      "--------------------------------------------------\n",
      "🔄 Training Phase...\n"
     ]
    },
    {
     "name": "stderr",
     "output_type": "stream",
     "text": [
      "Training: 100%|██████████████████████████████| 48/48 [00:15<00:00,  3.08it/s, Loss=0.0037, Acc=0.9993]\n"
     ]
    },
    {
     "name": "stdout",
     "output_type": "stream",
     "text": [
      "✅ Training completed in 15.60s\n",
      "🔍 Validation Phase...\n"
     ]
    },
    {
     "name": "stderr",
     "output_type": "stream",
     "text": [
      "Validation: 100%|██████████████████████████████| 13/13 [00:02<00:00,  4.79it/s, Loss=2.4392, Acc=0.5673]\n"
     ]
    },
    {
     "name": "stdout",
     "output_type": "stream",
     "text": [
      "✅ Validation completed in 2.71s\n",
      "🌟 New best MobileNetV2 model found! Validation Accuracy: 0.5673\n",
      "\n",
      "📊 Epoch 27 Summary:\n",
      "│ Train Loss: 0.0037 | Train Acc: 0.9993\n",
      "│ Val Loss:   2.4392 | Val Acc:   0.5673\n",
      "│ Train Time: 15.60s | Val Time: 2.71s\n",
      "│ Total Epoch Time: 18.32s\n",
      "│ Best Val Acc: 0.5673 (Epoch 27)\n",
      "│ GPU Memory: 0.1GB / 2.8GB\n",
      "================================================================================\n",
      "\n",
      "📈 Epoch 28/50\n",
      "--------------------------------------------------\n",
      "🔄 Training Phase...\n"
     ]
    },
    {
     "name": "stderr",
     "output_type": "stream",
     "text": [
      "Training: 100%|██████████████████████████████| 48/48 [00:15<00:00,  3.04it/s, Loss=0.0005, Acc=1.0000]\n"
     ]
    },
    {
     "name": "stdout",
     "output_type": "stream",
     "text": [
      "✅ Training completed in 15.77s\n",
      "🔍 Validation Phase...\n"
     ]
    },
    {
     "name": "stderr",
     "output_type": "stream",
     "text": [
      "Validation: 100%|██████████████████████████████| 13/13 [00:02<00:00,  4.89it/s, Loss=2.4859, Acc=0.5505]\n"
     ]
    },
    {
     "name": "stdout",
     "output_type": "stream",
     "text": [
      "✅ Validation completed in 2.66s\n",
      "\n",
      "📊 Epoch 28 Summary:\n",
      "│ Train Loss: 0.0005 | Train Acc: 1.0000\n",
      "│ Val Loss:   2.4859 | Val Acc:   0.5505\n",
      "│ Train Time: 15.77s | Val Time: 2.66s\n",
      "│ Total Epoch Time: 18.44s\n",
      "│ Best Val Acc: 0.5673 (Epoch 27)\n",
      "│ GPU Memory: 0.1GB / 2.8GB\n",
      "================================================================================\n",
      "\n",
      "📈 Epoch 29/50\n",
      "--------------------------------------------------\n",
      "🔄 Training Phase...\n"
     ]
    },
    {
     "name": "stderr",
     "output_type": "stream",
     "text": [
      "Training: 100%|██████████████████████████████| 48/48 [00:15<00:00,  3.04it/s, Loss=0.0010, Acc=1.0000]\n"
     ]
    },
    {
     "name": "stdout",
     "output_type": "stream",
     "text": [
      "✅ Training completed in 15.79s\n",
      "🔍 Validation Phase...\n"
     ]
    },
    {
     "name": "stderr",
     "output_type": "stream",
     "text": [
      "Validation: 100%|██████████████████████████████| 13/13 [00:02<00:00,  4.60it/s, Loss=2.4722, Acc=0.5817]\n"
     ]
    },
    {
     "name": "stdout",
     "output_type": "stream",
     "text": [
      "✅ Validation completed in 2.83s\n",
      "🌟 New best MobileNetV2 model found! Validation Accuracy: 0.5817\n",
      "\n",
      "📊 Epoch 29 Summary:\n",
      "│ Train Loss: 0.0010 | Train Acc: 1.0000\n",
      "│ Val Loss:   2.4722 | Val Acc:   0.5817\n",
      "│ Train Time: 15.79s | Val Time: 2.83s\n",
      "│ Total Epoch Time: 18.63s\n",
      "│ Best Val Acc: 0.5817 (Epoch 29)\n",
      "│ GPU Memory: 0.1GB / 2.8GB\n",
      "================================================================================\n",
      "\n",
      "📈 Epoch 30/50\n",
      "--------------------------------------------------\n",
      "🔄 Training Phase...\n"
     ]
    },
    {
     "name": "stderr",
     "output_type": "stream",
     "text": [
      "Training: 100%|██████████████████████████████| 48/48 [00:15<00:00,  3.03it/s, Loss=0.0010, Acc=1.0000]\n"
     ]
    },
    {
     "name": "stdout",
     "output_type": "stream",
     "text": [
      "✅ Training completed in 15.85s\n",
      "🔍 Validation Phase...\n"
     ]
    },
    {
     "name": "stderr",
     "output_type": "stream",
     "text": [
      "Validation: 100%|██████████████████████████████| 13/13 [00:02<00:00,  4.70it/s, Loss=2.3685, Acc=0.5793]\n"
     ]
    },
    {
     "name": "stdout",
     "output_type": "stream",
     "text": [
      "✅ Validation completed in 2.77s\n",
      "\n",
      "📊 Epoch 30 Summary:\n",
      "│ Train Loss: 0.0010 | Train Acc: 1.0000\n",
      "│ Val Loss:   2.3685 | Val Acc:   0.5793\n",
      "│ Train Time: 15.85s | Val Time: 2.77s\n",
      "│ Total Epoch Time: 18.62s\n",
      "│ Best Val Acc: 0.5817 (Epoch 29)\n",
      "│ GPU Memory: 0.1GB / 2.8GB\n",
      "================================================================================\n",
      "\n",
      "📈 Epoch 31/50\n",
      "--------------------------------------------------\n",
      "🔄 Training Phase...\n"
     ]
    },
    {
     "name": "stderr",
     "output_type": "stream",
     "text": [
      "Training: 100%|██████████████████████████████| 48/48 [00:15<00:00,  3.06it/s, Loss=0.0005, Acc=1.0000]\n"
     ]
    },
    {
     "name": "stdout",
     "output_type": "stream",
     "text": [
      "✅ Training completed in 15.70s\n",
      "🔍 Validation Phase...\n"
     ]
    },
    {
     "name": "stderr",
     "output_type": "stream",
     "text": [
      "Validation: 100%|██████████████████████████████| 13/13 [00:02<00:00,  4.78it/s, Loss=2.3446, Acc=0.5793]\n"
     ]
    },
    {
     "name": "stdout",
     "output_type": "stream",
     "text": [
      "✅ Validation completed in 2.73s\n",
      "\n",
      "📊 Epoch 31 Summary:\n",
      "│ Train Loss: 0.0005 | Train Acc: 1.0000\n",
      "│ Val Loss:   2.3446 | Val Acc:   0.5793\n",
      "│ Train Time: 15.70s | Val Time: 2.73s\n",
      "│ Total Epoch Time: 18.43s\n",
      "│ Best Val Acc: 0.5817 (Epoch 29)\n",
      "│ GPU Memory: 0.1GB / 2.8GB\n",
      "================================================================================\n",
      "\n",
      "📈 Epoch 32/50\n",
      "--------------------------------------------------\n",
      "🔄 Training Phase...\n"
     ]
    },
    {
     "name": "stderr",
     "output_type": "stream",
     "text": [
      "Training: 100%|██████████████████████████████| 48/48 [00:15<00:00,  3.08it/s, Loss=0.0003, Acc=1.0000]\n"
     ]
    },
    {
     "name": "stdout",
     "output_type": "stream",
     "text": [
      "✅ Training completed in 15.58s\n",
      "🔍 Validation Phase...\n"
     ]
    },
    {
     "name": "stderr",
     "output_type": "stream",
     "text": [
      "Validation: 100%|██████████████████████████████| 13/13 [00:02<00:00,  4.68it/s, Loss=2.4550, Acc=0.5889]\n"
     ]
    },
    {
     "name": "stdout",
     "output_type": "stream",
     "text": [
      "✅ Validation completed in 2.78s\n",
      "🌟 New best MobileNetV2 model found! Validation Accuracy: 0.5889\n",
      "\n",
      "📊 Epoch 32 Summary:\n",
      "│ Train Loss: 0.0003 | Train Acc: 1.0000\n",
      "│ Val Loss:   2.4550 | Val Acc:   0.5889\n",
      "│ Train Time: 15.58s | Val Time: 2.78s\n",
      "│ Total Epoch Time: 18.37s\n",
      "│ Best Val Acc: 0.5889 (Epoch 32)\n",
      "│ GPU Memory: 0.1GB / 2.8GB\n",
      "================================================================================\n",
      "\n",
      "📈 Epoch 33/50\n",
      "--------------------------------------------------\n",
      "🔄 Training Phase...\n"
     ]
    },
    {
     "name": "stderr",
     "output_type": "stream",
     "text": [
      "Training: 100%|██████████████████████████████| 48/48 [00:15<00:00,  3.03it/s, Loss=0.0004, Acc=1.0000]\n"
     ]
    },
    {
     "name": "stdout",
     "output_type": "stream",
     "text": [
      "✅ Training completed in 15.84s\n",
      "🔍 Validation Phase...\n"
     ]
    },
    {
     "name": "stderr",
     "output_type": "stream",
     "text": [
      "Validation: 100%|██████████████████████████████| 13/13 [00:02<00:00,  4.76it/s, Loss=2.4996, Acc=0.5649]\n"
     ]
    },
    {
     "name": "stdout",
     "output_type": "stream",
     "text": [
      "✅ Validation completed in 2.74s\n",
      "\n",
      "📊 Epoch 33 Summary:\n",
      "│ Train Loss: 0.0004 | Train Acc: 1.0000\n",
      "│ Val Loss:   2.4996 | Val Acc:   0.5649\n",
      "│ Train Time: 15.84s | Val Time: 2.74s\n",
      "│ Total Epoch Time: 18.58s\n",
      "│ Best Val Acc: 0.5889 (Epoch 32)\n",
      "│ GPU Memory: 0.1GB / 2.8GB\n",
      "================================================================================\n",
      "\n",
      "📈 Epoch 34/50\n",
      "--------------------------------------------------\n",
      "🔄 Training Phase...\n"
     ]
    },
    {
     "name": "stderr",
     "output_type": "stream",
     "text": [
      "Training: 100%|██████████████████████████████| 48/48 [00:15<00:00,  3.04it/s, Loss=0.0003, Acc=1.0000]\n"
     ]
    },
    {
     "name": "stdout",
     "output_type": "stream",
     "text": [
      "✅ Training completed in 15.78s\n",
      "🔍 Validation Phase...\n"
     ]
    },
    {
     "name": "stderr",
     "output_type": "stream",
     "text": [
      "Validation: 100%|██████████████████████████████| 13/13 [00:02<00:00,  4.68it/s, Loss=2.4929, Acc=0.5721]\n"
     ]
    },
    {
     "name": "stdout",
     "output_type": "stream",
     "text": [
      "✅ Validation completed in 2.78s\n",
      "\n",
      "📊 Epoch 34 Summary:\n",
      "│ Train Loss: 0.0003 | Train Acc: 1.0000\n",
      "│ Val Loss:   2.4929 | Val Acc:   0.5721\n",
      "│ Train Time: 15.78s | Val Time: 2.78s\n",
      "│ Total Epoch Time: 18.57s\n",
      "│ Best Val Acc: 0.5889 (Epoch 32)\n",
      "│ GPU Memory: 0.1GB / 2.8GB\n",
      "================================================================================\n",
      "\n",
      "📈 Epoch 35/50\n",
      "--------------------------------------------------\n",
      "🔄 Training Phase...\n"
     ]
    },
    {
     "name": "stderr",
     "output_type": "stream",
     "text": [
      "Training: 100%|██████████████████████████████| 48/48 [00:15<00:00,  3.09it/s, Loss=0.0002, Acc=1.0000]\n"
     ]
    },
    {
     "name": "stdout",
     "output_type": "stream",
     "text": [
      "✅ Training completed in 15.54s\n",
      "🔍 Validation Phase...\n"
     ]
    },
    {
     "name": "stderr",
     "output_type": "stream",
     "text": [
      "Validation: 100%|██████████████████████████████| 13/13 [00:02<00:00,  4.78it/s, Loss=2.3916, Acc=0.5505]\n"
     ]
    },
    {
     "name": "stdout",
     "output_type": "stream",
     "text": [
      "✅ Validation completed in 2.72s\n",
      "\n",
      "📊 Epoch 35 Summary:\n",
      "│ Train Loss: 0.0002 | Train Acc: 1.0000\n",
      "│ Val Loss:   2.3916 | Val Acc:   0.5505\n",
      "│ Train Time: 15.54s | Val Time: 2.72s\n",
      "│ Total Epoch Time: 18.27s\n",
      "│ Best Val Acc: 0.5889 (Epoch 32)\n",
      "│ GPU Memory: 0.1GB / 2.8GB\n",
      "================================================================================\n",
      "\n",
      "📈 Epoch 36/50\n",
      "--------------------------------------------------\n",
      "🔄 Training Phase...\n"
     ]
    },
    {
     "name": "stderr",
     "output_type": "stream",
     "text": [
      "Training: 100%|██████████████████████████████| 48/48 [00:15<00:00,  3.01it/s, Loss=0.0002, Acc=1.0000]\n"
     ]
    },
    {
     "name": "stdout",
     "output_type": "stream",
     "text": [
      "✅ Training completed in 15.96s\n",
      "🔍 Validation Phase...\n"
     ]
    },
    {
     "name": "stderr",
     "output_type": "stream",
     "text": [
      "Validation: 100%|██████████████████████████████| 13/13 [00:02<00:00,  4.72it/s, Loss=2.5109, Acc=0.5697]\n"
     ]
    },
    {
     "name": "stdout",
     "output_type": "stream",
     "text": [
      "✅ Validation completed in 2.76s\n",
      "\n",
      "📊 Epoch 36 Summary:\n",
      "│ Train Loss: 0.0002 | Train Acc: 1.0000\n",
      "│ Val Loss:   2.5109 | Val Acc:   0.5697\n",
      "│ Train Time: 15.96s | Val Time: 2.76s\n",
      "│ Total Epoch Time: 18.72s\n",
      "│ Best Val Acc: 0.5889 (Epoch 32)\n",
      "│ GPU Memory: 0.1GB / 2.8GB\n",
      "================================================================================\n",
      "\n",
      "📈 Epoch 37/50\n",
      "--------------------------------------------------\n",
      "🔄 Training Phase...\n"
     ]
    },
    {
     "name": "stderr",
     "output_type": "stream",
     "text": [
      "Training: 100%|██████████████████████████████| 48/48 [00:15<00:00,  3.11it/s, Loss=0.0003, Acc=1.0000]\n"
     ]
    },
    {
     "name": "stdout",
     "output_type": "stream",
     "text": [
      "✅ Training completed in 15.46s\n",
      "🔍 Validation Phase...\n"
     ]
    },
    {
     "name": "stderr",
     "output_type": "stream",
     "text": [
      "Validation: 100%|██████████████████████████████| 13/13 [00:02<00:00,  4.86it/s, Loss=2.5764, Acc=0.5529]\n"
     ]
    },
    {
     "name": "stdout",
     "output_type": "stream",
     "text": [
      "✅ Validation completed in 2.68s\n",
      "\n",
      "📊 Epoch 37 Summary:\n",
      "│ Train Loss: 0.0003 | Train Acc: 1.0000\n",
      "│ Val Loss:   2.5764 | Val Acc:   0.5529\n",
      "│ Train Time: 15.46s | Val Time: 2.68s\n",
      "│ Total Epoch Time: 18.14s\n",
      "│ Best Val Acc: 0.5889 (Epoch 32)\n",
      "│ GPU Memory: 0.1GB / 2.8GB\n",
      "================================================================================\n",
      "\n",
      "📈 Epoch 38/50\n",
      "--------------------------------------------------\n",
      "🔄 Training Phase...\n"
     ]
    },
    {
     "name": "stderr",
     "output_type": "stream",
     "text": [
      "Training: 100%|██████████████████████████████| 48/48 [00:15<00:00,  3.10it/s, Loss=0.0002, Acc=1.0000]\n"
     ]
    },
    {
     "name": "stdout",
     "output_type": "stream",
     "text": [
      "✅ Training completed in 15.48s\n",
      "🔍 Validation Phase...\n"
     ]
    },
    {
     "name": "stderr",
     "output_type": "stream",
     "text": [
      "Validation: 100%|██████████████████████████████| 13/13 [00:02<00:00,  4.90it/s, Loss=2.6286, Acc=0.5457]\n"
     ]
    },
    {
     "name": "stdout",
     "output_type": "stream",
     "text": [
      "✅ Validation completed in 2.66s\n",
      "\n",
      "📊 Epoch 38 Summary:\n",
      "│ Train Loss: 0.0002 | Train Acc: 1.0000\n",
      "│ Val Loss:   2.6286 | Val Acc:   0.5457\n",
      "│ Train Time: 15.48s | Val Time: 2.66s\n",
      "│ Total Epoch Time: 18.14s\n",
      "│ Best Val Acc: 0.5889 (Epoch 32)\n",
      "│ GPU Memory: 0.1GB / 2.8GB\n",
      "================================================================================\n",
      "\n",
      "📈 Epoch 39/50\n",
      "--------------------------------------------------\n",
      "🔄 Training Phase...\n"
     ]
    },
    {
     "name": "stderr",
     "output_type": "stream",
     "text": [
      "Training: 100%|██████████████████████████████| 48/48 [00:15<00:00,  3.05it/s, Loss=0.0002, Acc=1.0000]\n"
     ]
    },
    {
     "name": "stdout",
     "output_type": "stream",
     "text": [
      "✅ Training completed in 15.72s\n",
      "🔍 Validation Phase...\n"
     ]
    },
    {
     "name": "stderr",
     "output_type": "stream",
     "text": [
      "Validation: 100%|██████████████████████████████| 13/13 [00:02<00:00,  4.61it/s, Loss=2.5855, Acc=0.5288]\n"
     ]
    },
    {
     "name": "stdout",
     "output_type": "stream",
     "text": [
      "✅ Validation completed in 2.83s\n",
      "\n",
      "📊 Epoch 39 Summary:\n",
      "│ Train Loss: 0.0002 | Train Acc: 1.0000\n",
      "│ Val Loss:   2.5855 | Val Acc:   0.5288\n",
      "│ Train Time: 15.72s | Val Time: 2.83s\n",
      "│ Total Epoch Time: 18.55s\n",
      "│ Best Val Acc: 0.5889 (Epoch 32)\n",
      "│ GPU Memory: 0.1GB / 2.8GB\n",
      "================================================================================\n",
      "\n",
      "📈 Epoch 40/50\n",
      "--------------------------------------------------\n",
      "🔄 Training Phase...\n"
     ]
    },
    {
     "name": "stderr",
     "output_type": "stream",
     "text": [
      "Training: 100%|██████████████████████████████| 48/48 [00:15<00:00,  3.08it/s, Loss=0.0004, Acc=1.0000]\n"
     ]
    },
    {
     "name": "stdout",
     "output_type": "stream",
     "text": [
      "✅ Training completed in 15.56s\n",
      "🔍 Validation Phase...\n"
     ]
    },
    {
     "name": "stderr",
     "output_type": "stream",
     "text": [
      "Validation: 100%|██████████████████████████████| 13/13 [00:02<00:00,  4.88it/s, Loss=2.7491, Acc=0.5168]\n"
     ]
    },
    {
     "name": "stdout",
     "output_type": "stream",
     "text": [
      "✅ Validation completed in 2.67s\n",
      "\n",
      "📊 Epoch 40 Summary:\n",
      "│ Train Loss: 0.0004 | Train Acc: 1.0000\n",
      "│ Val Loss:   2.7491 | Val Acc:   0.5168\n",
      "│ Train Time: 15.56s | Val Time: 2.67s\n",
      "│ Total Epoch Time: 18.24s\n",
      "│ Best Val Acc: 0.5889 (Epoch 32)\n",
      "│ GPU Memory: 0.1GB / 2.8GB\n",
      "================================================================================\n",
      "\n",
      "📈 Epoch 41/50\n",
      "--------------------------------------------------\n",
      "🔄 Training Phase...\n"
     ]
    },
    {
     "name": "stderr",
     "output_type": "stream",
     "text": [
      "Training: 100%|██████████████████████████████| 48/48 [00:15<00:00,  3.03it/s, Loss=0.0004, Acc=1.0000]\n"
     ]
    },
    {
     "name": "stdout",
     "output_type": "stream",
     "text": [
      "✅ Training completed in 15.83s\n",
      "🔍 Validation Phase...\n"
     ]
    },
    {
     "name": "stderr",
     "output_type": "stream",
     "text": [
      "Validation: 100%|██████████████████████████████| 13/13 [00:02<00:00,  4.74it/s, Loss=2.5393, Acc=0.5385]\n"
     ]
    },
    {
     "name": "stdout",
     "output_type": "stream",
     "text": [
      "✅ Validation completed in 2.74s\n",
      "\n",
      "📊 Epoch 41 Summary:\n",
      "│ Train Loss: 0.0004 | Train Acc: 1.0000\n",
      "│ Val Loss:   2.5393 | Val Acc:   0.5385\n",
      "│ Train Time: 15.83s | Val Time: 2.74s\n",
      "│ Total Epoch Time: 18.57s\n",
      "│ Best Val Acc: 0.5889 (Epoch 32)\n",
      "│ GPU Memory: 0.1GB / 2.8GB\n",
      "================================================================================\n",
      "\n",
      "📈 Epoch 42/50\n",
      "--------------------------------------------------\n",
      "🔄 Training Phase...\n"
     ]
    },
    {
     "name": "stderr",
     "output_type": "stream",
     "text": [
      "Training: 100%|██████████████████████████████| 48/48 [00:15<00:00,  3.06it/s, Loss=0.0007, Acc=1.0000]\n"
     ]
    },
    {
     "name": "stdout",
     "output_type": "stream",
     "text": [
      "✅ Training completed in 15.67s\n",
      "🔍 Validation Phase...\n"
     ]
    },
    {
     "name": "stderr",
     "output_type": "stream",
     "text": [
      "Validation: 100%|██████████████████████████████| 13/13 [00:02<00:00,  4.69it/s, Loss=2.4740, Acc=0.5577]\n"
     ]
    },
    {
     "name": "stdout",
     "output_type": "stream",
     "text": [
      "✅ Validation completed in 2.78s\n",
      "\n",
      "📊 Epoch 42 Summary:\n",
      "│ Train Loss: 0.0007 | Train Acc: 1.0000\n",
      "│ Val Loss:   2.4740 | Val Acc:   0.5577\n",
      "│ Train Time: 15.67s | Val Time: 2.78s\n",
      "│ Total Epoch Time: 18.45s\n",
      "│ Best Val Acc: 0.5889 (Epoch 32)\n",
      "│ GPU Memory: 0.1GB / 2.8GB\n",
      "================================================================================\n",
      "\n",
      "📈 Epoch 43/50\n",
      "--------------------------------------------------\n",
      "🔄 Training Phase...\n"
     ]
    },
    {
     "name": "stderr",
     "output_type": "stream",
     "text": [
      "Training: 100%|██████████████████████████████| 48/48 [00:15<00:00,  3.03it/s, Loss=0.0067, Acc=0.9974]\n"
     ]
    },
    {
     "name": "stdout",
     "output_type": "stream",
     "text": [
      "✅ Training completed in 15.84s\n",
      "🔍 Validation Phase...\n"
     ]
    },
    {
     "name": "stderr",
     "output_type": "stream",
     "text": [
      "Validation: 100%|██████████████████████████████| 13/13 [00:02<00:00,  4.69it/s, Loss=3.4038, Acc=0.5072]\n"
     ]
    },
    {
     "name": "stdout",
     "output_type": "stream",
     "text": [
      "✅ Validation completed in 2.77s\n",
      "\n",
      "📊 Epoch 43 Summary:\n",
      "│ Train Loss: 0.0067 | Train Acc: 0.9974\n",
      "│ Val Loss:   3.4038 | Val Acc:   0.5072\n",
      "│ Train Time: 15.84s | Val Time: 2.77s\n",
      "│ Total Epoch Time: 18.62s\n",
      "│ Best Val Acc: 0.5889 (Epoch 32)\n",
      "│ GPU Memory: 0.1GB / 2.8GB\n",
      "================================================================================\n",
      "\n",
      "📈 Epoch 44/50\n",
      "--------------------------------------------------\n",
      "🔄 Training Phase...\n"
     ]
    },
    {
     "name": "stderr",
     "output_type": "stream",
     "text": [
      "Training: 100%|██████████████████████████████| 48/48 [00:15<00:00,  3.04it/s, Loss=0.0117, Acc=0.9967]\n"
     ]
    },
    {
     "name": "stdout",
     "output_type": "stream",
     "text": [
      "✅ Training completed in 15.78s\n",
      "🔍 Validation Phase...\n"
     ]
    },
    {
     "name": "stderr",
     "output_type": "stream",
     "text": [
      "Validation: 100%|██████████████████████████████| 13/13 [00:02<00:00,  4.60it/s, Loss=3.5827, Acc=0.5288]\n"
     ]
    },
    {
     "name": "stdout",
     "output_type": "stream",
     "text": [
      "✅ Validation completed in 2.83s\n",
      "\n",
      "📊 Epoch 44 Summary:\n",
      "│ Train Loss: 0.0117 | Train Acc: 0.9967\n",
      "│ Val Loss:   3.5827 | Val Acc:   0.5288\n",
      "│ Train Time: 15.78s | Val Time: 2.83s\n",
      "│ Total Epoch Time: 18.61s\n",
      "│ Best Val Acc: 0.5889 (Epoch 32)\n",
      "│ GPU Memory: 0.1GB / 2.8GB\n",
      "================================================================================\n",
      "\n",
      "📈 Epoch 45/50\n",
      "--------------------------------------------------\n",
      "🔄 Training Phase...\n"
     ]
    },
    {
     "name": "stderr",
     "output_type": "stream",
     "text": [
      "Training: 100%|██████████████████████████████| 48/48 [00:15<00:00,  3.06it/s, Loss=0.0915, Acc=0.9674]\n"
     ]
    },
    {
     "name": "stdout",
     "output_type": "stream",
     "text": [
      "✅ Training completed in 15.69s\n",
      "🔍 Validation Phase...\n"
     ]
    },
    {
     "name": "stderr",
     "output_type": "stream",
     "text": [
      "Validation: 100%|██████████████████████████████| 13/13 [00:02<00:00,  4.64it/s, Loss=4.9740, Acc=0.3966]\n"
     ]
    },
    {
     "name": "stdout",
     "output_type": "stream",
     "text": [
      "✅ Validation completed in 2.81s\n",
      "\n",
      "📊 Epoch 45 Summary:\n",
      "│ Train Loss: 0.0915 | Train Acc: 0.9674\n",
      "│ Val Loss:   4.9740 | Val Acc:   0.3966\n",
      "│ Train Time: 15.69s | Val Time: 2.81s\n",
      "│ Total Epoch Time: 18.50s\n",
      "│ Best Val Acc: 0.5889 (Epoch 32)\n",
      "│ GPU Memory: 0.1GB / 2.8GB\n",
      "================================================================================\n",
      "\n",
      "📈 Epoch 46/50\n",
      "--------------------------------------------------\n",
      "🔄 Training Phase...\n"
     ]
    },
    {
     "name": "stderr",
     "output_type": "stream",
     "text": [
      "Training: 100%|██████████████████████████████| 48/48 [00:15<00:00,  3.01it/s, Loss=0.3388, Acc=0.8984]\n"
     ]
    },
    {
     "name": "stdout",
     "output_type": "stream",
     "text": [
      "✅ Training completed in 15.93s\n",
      "🔍 Validation Phase...\n"
     ]
    },
    {
     "name": "stderr",
     "output_type": "stream",
     "text": [
      "Validation: 100%|██████████████████████████████| 13/13 [00:02<00:00,  4.81it/s, Loss=3.4806, Acc=0.4447]\n"
     ]
    },
    {
     "name": "stdout",
     "output_type": "stream",
     "text": [
      "✅ Validation completed in 2.70s\n",
      "\n",
      "📊 Epoch 46 Summary:\n",
      "│ Train Loss: 0.3388 | Train Acc: 0.8984\n",
      "│ Val Loss:   3.4806 | Val Acc:   0.4447\n",
      "│ Train Time: 15.93s | Val Time: 2.70s\n",
      "│ Total Epoch Time: 18.64s\n",
      "│ Best Val Acc: 0.5889 (Epoch 32)\n",
      "│ GPU Memory: 0.1GB / 2.8GB\n",
      "================================================================================\n",
      "\n",
      "📈 Epoch 47/50\n",
      "--------------------------------------------------\n",
      "🔄 Training Phase...\n"
     ]
    },
    {
     "name": "stderr",
     "output_type": "stream",
     "text": [
      "Training: 100%|██████████████████████████████| 48/48 [00:15<00:00,  3.05it/s, Loss=0.1199, Acc=0.9629]\n"
     ]
    },
    {
     "name": "stdout",
     "output_type": "stream",
     "text": [
      "✅ Training completed in 15.76s\n",
      "🔍 Validation Phase...\n"
     ]
    },
    {
     "name": "stderr",
     "output_type": "stream",
     "text": [
      "Validation: 100%|██████████████████████████████| 13/13 [00:02<00:00,  4.66it/s, Loss=2.9069, Acc=0.5192]\n"
     ]
    },
    {
     "name": "stdout",
     "output_type": "stream",
     "text": [
      "✅ Validation completed in 2.79s\n",
      "\n",
      "📊 Epoch 47 Summary:\n",
      "│ Train Loss: 0.1199 | Train Acc: 0.9629\n",
      "│ Val Loss:   2.9069 | Val Acc:   0.5192\n",
      "│ Train Time: 15.76s | Val Time: 2.79s\n",
      "│ Total Epoch Time: 18.56s\n",
      "│ Best Val Acc: 0.5889 (Epoch 32)\n",
      "│ GPU Memory: 0.1GB / 2.8GB\n",
      "================================================================================\n",
      "\n",
      "📈 Epoch 48/50\n",
      "--------------------------------------------------\n",
      "🔄 Training Phase...\n"
     ]
    },
    {
     "name": "stderr",
     "output_type": "stream",
     "text": [
      "Training: 100%|██████████████████████████████| 48/48 [00:15<00:00,  3.09it/s, Loss=0.0334, Acc=0.9896]\n"
     ]
    },
    {
     "name": "stdout",
     "output_type": "stream",
     "text": [
      "✅ Training completed in 15.52s\n",
      "🔍 Validation Phase...\n"
     ]
    },
    {
     "name": "stderr",
     "output_type": "stream",
     "text": [
      "Validation: 100%|██████████████████████████████| 13/13 [00:02<00:00,  4.80it/s, Loss=2.5048, Acc=0.5000]\n"
     ]
    },
    {
     "name": "stdout",
     "output_type": "stream",
     "text": [
      "✅ Validation completed in 2.71s\n",
      "\n",
      "📊 Epoch 48 Summary:\n",
      "│ Train Loss: 0.0334 | Train Acc: 0.9896\n",
      "│ Val Loss:   2.5048 | Val Acc:   0.5000\n",
      "│ Train Time: 15.52s | Val Time: 2.71s\n",
      "│ Total Epoch Time: 18.23s\n",
      "│ Best Val Acc: 0.5889 (Epoch 32)\n",
      "│ GPU Memory: 0.1GB / 2.8GB\n",
      "================================================================================\n",
      "\n",
      "📈 Epoch 49/50\n",
      "--------------------------------------------------\n",
      "🔄 Training Phase...\n"
     ]
    },
    {
     "name": "stderr",
     "output_type": "stream",
     "text": [
      "Training: 100%|██████████████████████████████| 48/48 [00:15<00:00,  3.05it/s, Loss=0.0147, Acc=0.9954]\n"
     ]
    },
    {
     "name": "stdout",
     "output_type": "stream",
     "text": [
      "✅ Training completed in 15.72s\n",
      "🔍 Validation Phase...\n"
     ]
    },
    {
     "name": "stderr",
     "output_type": "stream",
     "text": [
      "Validation: 100%|██████████████████████████████| 13/13 [00:02<00:00,  4.67it/s, Loss=2.3506, Acc=0.5433]\n"
     ]
    },
    {
     "name": "stdout",
     "output_type": "stream",
     "text": [
      "✅ Validation completed in 2.78s\n",
      "\n",
      "📊 Epoch 49 Summary:\n",
      "│ Train Loss: 0.0147 | Train Acc: 0.9954\n",
      "│ Val Loss:   2.3506 | Val Acc:   0.5433\n",
      "│ Train Time: 15.72s | Val Time: 2.78s\n",
      "│ Total Epoch Time: 18.51s\n",
      "│ Best Val Acc: 0.5889 (Epoch 32)\n",
      "│ GPU Memory: 0.1GB / 2.8GB\n",
      "================================================================================\n",
      "\n",
      "📈 Epoch 50/50\n",
      "--------------------------------------------------\n",
      "🔄 Training Phase...\n"
     ]
    },
    {
     "name": "stderr",
     "output_type": "stream",
     "text": [
      "Training: 100%|██████████████████████████████| 48/48 [00:15<00:00,  3.05it/s, Loss=0.0286, Acc=0.9902]\n"
     ]
    },
    {
     "name": "stdout",
     "output_type": "stream",
     "text": [
      "✅ Training completed in 15.75s\n",
      "🔍 Validation Phase...\n"
     ]
    },
    {
     "name": "stderr",
     "output_type": "stream",
     "text": [
      "Validation: 100%|██████████████████████████████| 13/13 [00:02<00:00,  4.57it/s, Loss=2.5284, Acc=0.5625]\n"
     ]
    },
    {
     "name": "stdout",
     "output_type": "stream",
     "text": [
      "✅ Validation completed in 2.84s\n",
      "\n",
      "📊 Epoch 50 Summary:\n",
      "│ Train Loss: 0.0286 | Train Acc: 0.9902\n",
      "│ Val Loss:   2.5284 | Val Acc:   0.5625\n",
      "│ Train Time: 15.75s | Val Time: 2.84s\n",
      "│ Total Epoch Time: 18.60s\n",
      "│ Best Val Acc: 0.5889 (Epoch 32)\n",
      "│ GPU Memory: 0.1GB / 2.8GB\n",
      "================================================================================\n",
      "\n",
      "💾 Best MobileNetV2 model saved as 'best_mobilenetv2_model.pth'\n",
      "📊 Best model stats:\n",
      "│ Best Epoch: 32\n",
      "│ Best Val Acc: 0.5889\n",
      "\n",
      "💾 MobileNetV2 training history saved to 'mobilenetv2_training_history.csv'\n",
      "\n",
      "🎉 MobileNetV2 Training Complete!\n",
      "Total Training Time: 931.71s (15.5 minutes)\n",
      "Average Epoch Time: 18.63s\n",
      "\n",
      "⏱️  Epoch Timing Breakdown:\n",
      "│ Epoch 1: 31.64s\n",
      "│ Epoch 2: 17.89s\n",
      "│ Epoch 3: 18.08s\n",
      "│ Epoch 4: 18.07s\n",
      "│ Epoch 5: 18.07s\n",
      "│ Epoch 6: 17.95s\n",
      "│ Epoch 7: 17.97s\n",
      "│ Epoch 8: 18.40s\n",
      "│ Epoch 9: 17.99s\n",
      "│ Epoch 10: 18.33s\n",
      "│ Epoch 11: 18.28s\n",
      "│ Epoch 12: 18.28s\n",
      "│ Epoch 13: 18.22s\n",
      "│ Epoch 14: 18.42s\n",
      "│ Epoch 15: 18.44s\n",
      "│ Epoch 16: 18.39s\n",
      "│ Epoch 17: 18.36s\n",
      "│ Epoch 18: 18.40s\n",
      "│ Epoch 19: 17.97s\n",
      "│ Epoch 20: 18.31s\n",
      "│ Epoch 21: 18.30s\n",
      "│ Epoch 22: 18.19s\n",
      "│ Epoch 23: 18.70s\n",
      "│ Epoch 24: 18.52s\n",
      "│ Epoch 25: 18.50s\n",
      "│ Epoch 26: 18.70s\n",
      "│ Epoch 27: 18.32s\n",
      "│ Epoch 28: 18.44s\n",
      "│ Epoch 29: 18.63s\n",
      "│ Epoch 30: 18.62s\n",
      "│ Epoch 31: 18.43s\n",
      "│ Epoch 32: 18.37s\n",
      "│ Epoch 33: 18.58s\n",
      "│ Epoch 34: 18.57s\n",
      "│ Epoch 35: 18.27s\n",
      "│ Epoch 36: 18.72s\n",
      "│ Epoch 37: 18.14s\n",
      "│ Epoch 38: 18.14s\n",
      "│ Epoch 39: 18.55s\n",
      "│ Epoch 40: 18.24s\n",
      "│ Epoch 41: 18.57s\n",
      "│ Epoch 42: 18.45s\n",
      "│ Epoch 43: 18.62s\n",
      "│ Epoch 44: 18.61s\n",
      "│ Epoch 45: 18.50s\n",
      "│ Epoch 46: 18.64s\n",
      "│ Epoch 47: 18.56s\n",
      "│ Epoch 48: 18.23s\n",
      "│ Epoch 49: 18.51s\n",
      "│ Epoch 50: 18.60s\n",
      "\n",
      "🧪 Loading Best MobileNetV2 Model for Testing...\n",
      "✅ Best MobileNetV2 model from epoch 32 loaded successfully!\n"
     ]
    },
    {
     "name": "stderr",
     "output_type": "stream",
     "text": [
      "Testing MobileNetV2: 100%|██████████████████████████████| 17/17 [00:07<00:00,  2.20it/s]\n"
     ]
    },
    {
     "name": "stdout",
     "output_type": "stream",
     "text": [
      "✅ MobileNetV2 Testing completed in 7.73s\n",
      "\n",
      "📋 MobileNetV2 Classification Report:\n",
      "              precision    recall  f1-score   support\n",
      "\n",
      "        Four       0.01      0.03      0.02        40\n",
      "     Leg_Bye       0.00      0.00      0.00        40\n",
      "     No_ball       0.29      0.27      0.28       104\n",
      "         Out       0.36      0.17      0.23        48\n",
      "         Six       0.58      0.42      0.49       152\n",
      "        Wide       0.47      0.60      0.53       136\n",
      "\n",
      "    accuracy                           0.35       520\n",
      "   macro avg       0.29      0.25      0.26       520\n",
      "weighted avg       0.38      0.35      0.36       520\n",
      "\n",
      "🎯 MobileNetV2 Test Accuracy: 0.3519\n",
      "\n",
      "📊 MobileNetV2 Model Performance Summary:\n",
      "│ Best Validation Acc:  0.5889 (Epoch 32)\n",
      "│ Final Test Accuracy:  0.3519\n",
      "│ Val-Test Gap:         0.2370\n"
     ]
    },
    {
     "data": {
      "image/png": "[encoded data removed]",
      "text/plain": [
       "<Figure size 800x600 with 2 Axes>"
      ]
     },
     "metadata": {},
     "output_type": "display_data"
    },
    {
     "data": {
      "image/png": "[encoded data removed]",
      "text/plain": [
       "<Figure size 2000x500 with 4 Axes>"
      ]
     },
     "metadata": {},
     "output_type": "display_data"
    },
    {
     "name": "stdout",
     "output_type": "stream",
     "text": [
      "\n",
      "⏰ MobileNetV2 Final Timing Summary:\n",
      "│ Total Training: 931.71s\n",
      "│ Average per Epoch: 18.63s\n",
      "│ Testing Time: 7.73s\n",
      "│ Total Runtime: 939.44s\n",
      "\n",
      "💾 MobileNetV2 Files saved:\n",
      "│ best_mobilenetv2_model.pth - Best validation accuracy model\n",
      "│ mobilenetv2_training_history.csv - Training metrics for later plotting\n",
      "\n",
      "🏗️  MobileNetV2 Architecture Summary:\n",
      "│ Total Parameters: 2,231,558\n",
      "│ Trainable Parameters: 2,231,558\n",
      "│ Model Size: 8.51 MB\n",
      "│ Input Size: 224x224x3\n",
      "│ Output Classes: 6\n",
      "│ Width Multiplier: 1.0\n",
      "│ Inverted Residual Blocks: 17\n",
      "│ Depthwise Separable Convs: Yes\n",
      "│ ReLU6 Activation: Yes\n"
     ]
    }
   ],
   "source": [
    "import torch\n",
    "import torch.nn as nn\n",
    "import torch.nn.functional as F\n",
    "import numpy as np\n",
    "import matplotlib.pyplot as plt\n",
    "import seaborn as sns\n",
    "from torchsummary import summary\n",
    "from sklearn.metrics import accuracy_score, classification_report, confusion_matrix\n",
    "import pandas as pd\n",
    "from tqdm import tqdm\n",
    "import time\n",
    "# -----------------------------\n",
    "# 4. Training Loop with Best Model Saving (Val Accuracy) - MobileNetV2\n",
    "# -----------------------------\n",
    "train_losses, val_losses = [], []\n",
    "train_accs, val_accs = [], []\n",
    "epoch_times = []\n",
    "epochs = 50\n",
    "\n",
    "# Initialize best model tracking\n",
    "best_val_acc = 0.0\n",
    "best_model_state = None\n",
    "best_epoch = 0\n",
    "\n",
    "print(f\"\\n🚀 Starting MobileNetV2 Training for {epochs} epochs...\")\n",
    "print(\"=\" * 80)\n",
    "\n",
    "total_start_time = time.time()\n",
    "\n",
    "for epoch in range(epochs):\n",
    "    epoch_start_time = time.time()\n",
    "    \n",
    "    print(f\"\\n📈 Epoch {epoch+1}/{epochs}\")\n",
    "    print(\"-\" * 50)\n",
    "    \n",
    "    # Training Phase\n",
    "    print(\"🔄 Training Phase...\")\n",
    "    model.train()\n",
    "    running_loss, correct, total = 0, 0, 0\n",
    "    \n",
    "    train_pbar = tqdm(train_loader, desc=f\"Training\", \n",
    "                     bar_format='{l_bar}{bar:30}{r_bar}{bar:-30b}')\n",
    "    \n",
    "    train_phase_start = time.time()\n",
    "    \n",
    "    for batch_idx, (imgs, labels) in enumerate(train_pbar):\n",
    "        imgs, labels = imgs.to(device), labels.to(device)\n",
    "        \n",
    "        optimizer.zero_grad()\n",
    "        outputs = model(imgs)\n",
    "        loss = criterion(outputs, labels)\n",
    "        loss.backward()\n",
    "        optimizer.step()\n",
    "        \n",
    "        running_loss += loss.item()\n",
    "        _, preds = torch.max(outputs, 1)\n",
    "        correct += (preds == labels).sum().item()\n",
    "        total += labels.size(0)\n",
    "        \n",
    "        current_acc = correct / total\n",
    "        train_pbar.set_postfix({\n",
    "            'Loss': f'{running_loss/(batch_idx+1):.4f}',\n",
    "            'Acc': f'{current_acc:.4f}'\n",
    "        })\n",
    "        \n",
    "        if device.type == 'cuda' and batch_idx % 10 == 0:\n",
    "            gpu_memory = torch.cuda.memory_allocated() / 1024**3\n",
    "            train_pbar.set_postfix({\n",
    "                'Loss': f'{running_loss/(batch_idx+1):.4f}',\n",
    "                'Acc': f'{current_acc:.4f}',\n",
    "                'GPU': f'{gpu_memory:.1f}GB'\n",
    "            })\n",
    "    \n",
    "    train_phase_time = time.time() - train_phase_start\n",
    "    train_loss = running_loss / len(train_loader)\n",
    "    train_acc = correct / total\n",
    "    train_losses.append(train_loss)\n",
    "    train_accs.append(train_acc)\n",
    "    \n",
    "    print(f\"✅ Training completed in {train_phase_time:.2f}s\")\n",
    "    \n",
    "    # Validation Phase\n",
    "    print(\"🔍 Validation Phase...\")\n",
    "    model.eval()\n",
    "    running_loss, correct, total = 0, 0, 0\n",
    "    \n",
    "    val_phase_start = time.time()\n",
    "    val_pbar = tqdm(val_loader, desc=f\"Validation\", \n",
    "                   bar_format='{l_bar}{bar:30}{r_bar}{bar:-30b}')\n",
    "    \n",
    "    with torch.no_grad():\n",
    "        for batch_idx, (imgs, labels) in enumerate(val_pbar):\n",
    "            imgs, labels = imgs.to(device), labels.to(device)\n",
    "            outputs = model(imgs)\n",
    "            loss = criterion(outputs, labels)\n",
    "            \n",
    "            running_loss += loss.item()\n",
    "            _, preds = torch.max(outputs, 1)\n",
    "            correct += (preds == labels).sum().item()\n",
    "            total += labels.size(0)\n",
    "            \n",
    "            current_acc = correct / total\n",
    "            val_pbar.set_postfix({\n",
    "                'Loss': f'{running_loss/(batch_idx+1):.4f}',\n",
    "                'Acc': f'{current_acc:.4f}'\n",
    "            })\n",
    "    \n",
    "    val_phase_time = time.time() - val_phase_start\n",
    "    val_loss = running_loss / len(val_loader)\n",
    "    val_acc = correct / total\n",
    "    val_losses.append(val_loss)\n",
    "    val_accs.append(val_acc)\n",
    "    \n",
    "    print(f\"✅ Validation completed in {val_phase_time:.2f}s\")\n",
    "    \n",
    "    # Check if this is the best model so far based on val_acc\n",
    "    is_best = val_acc > best_val_acc\n",
    "    if is_best:\n",
    "        best_val_acc = val_acc\n",
    "        best_epoch = epoch + 1\n",
    "        best_model_state = model.state_dict().copy()\n",
    "        print(f\"🌟 New best MobileNetV2 model found! Validation Accuracy: {val_acc:.4f}\")\n",
    "    \n",
    "    # Epoch Summary\n",
    "    epoch_time = time.time() - epoch_start_time\n",
    "    epoch_times.append(epoch_time)\n",
    "    \n",
    "    print(f\"\\n📊 Epoch {epoch+1} Summary:\")\n",
    "    print(f\"│ Train Loss: {train_loss:.4f} | Train Acc: {train_acc:.4f}\")\n",
    "    print(f\"│ Val Loss:   {val_loss:.4f} | Val Acc:   {val_acc:.4f}\")\n",
    "    print(f\"│ Train Time: {train_phase_time:.2f}s | Val Time: {val_phase_time:.2f}s\")\n",
    "    print(f\"│ Total Epoch Time: {epoch_time:.2f}s\")\n",
    "    print(f\"│ Best Val Acc: {best_val_acc:.4f} (Epoch {best_epoch})\")\n",
    "    \n",
    "    if device.type == 'cuda':\n",
    "        print(f\"│ GPU Memory: {torch.cuda.memory_allocated()/1024**3:.1f}GB / {torch.cuda.memory_reserved()/1024**3:.1f}GB\")\n",
    "    \n",
    "    print(\"=\" * 80)\n",
    "\n",
    "total_training_time = time.time() - total_start_time\n",
    "\n",
    "# Save the best model\n",
    "if best_model_state is not None:\n",
    "    torch.save(best_model_state, 'best_mobilenetv2_model.pth')\n",
    "    print(f\"\\n💾 Best MobileNetV2 model saved as 'best_mobilenetv2_model.pth'\")\n",
    "    print(f\"📊 Best model stats:\")\n",
    "    print(f\"│ Best Epoch: {best_epoch}\")\n",
    "    print(f\"│ Best Val Acc: {best_val_acc:.4f}\")\n",
    "\n",
    "# Save training history data to CSV\n",
    "history_data = {\n",
    "    'epoch': list(range(1, epochs+1)),\n",
    "    'train_loss': train_losses,\n",
    "    'val_loss': val_losses,\n",
    "    'train_acc': train_accs,\n",
    "    'val_acc': val_accs,\n",
    "    'epoch_time': epoch_times\n",
    "}\n",
    "history_df = pd.DataFrame(history_data)\n",
    "history_df.to_csv('mobilenetv2_training_history.csv', index=False)\n",
    "print(\"\\n💾 MobileNetV2 training history saved to 'mobilenetv2_training_history.csv'\")\n",
    "\n",
    "# Training Summary\n",
    "print(f\"\\n🎉 MobileNetV2 Training Complete!\")\n",
    "print(f\"Total Training Time: {total_training_time:.2f}s ({total_training_time/60:.1f} minutes)\")\n",
    "print(f\"Average Epoch Time: {np.mean(epoch_times):.2f}s\")\n",
    "print(\"\\n⏱️  Epoch Timing Breakdown:\")\n",
    "for i, t in enumerate(epoch_times):\n",
    "    print(f\"│ Epoch {i+1}: {t:.2f}s\")\n",
    "\n",
    "# -----------------------------\n",
    "# 5. Load Best Model and Test\n",
    "# -----------------------------\n",
    "print(f\"\\n🧪 Loading Best MobileNetV2 Model for Testing...\")\n",
    "\n",
    "# Load the best model state\n",
    "if best_model_state is not None:\n",
    "    model.load_state_dict(best_model_state)\n",
    "    print(f\"✅ Best MobileNetV2 model from epoch {best_epoch} loaded successfully!\")\n",
    "else:\n",
    "    print(\"⚠️  No best model found, using current model state\")\n",
    "\n",
    "test_start_time = time.time()\n",
    "y_true, y_pred = [], []\n",
    "model.eval()\n",
    "\n",
    "test_pbar = tqdm(test_loader, desc=\"Testing MobileNetV2\", \n",
    "                bar_format='{l_bar}{bar:30}{r_bar}{bar:-30b}')\n",
    "\n",
    "with torch.no_grad():\n",
    "    for imgs, labels in test_pbar:\n",
    "        imgs, labels = imgs.to(device), labels.to(device)\n",
    "        outputs = model(imgs)\n",
    "        _, preds = torch.max(outputs, 1)\n",
    "        y_true.extend(labels.cpu().numpy())\n",
    "        y_pred.extend(preds.cpu().numpy())\n",
    "\n",
    "test_time = time.time() - test_start_time\n",
    "test_accuracy = accuracy_score(y_true, y_pred)\n",
    "\n",
    "print(f\"✅ MobileNetV2 Testing completed in {test_time:.2f}s\")\n",
    "print(\"\\n📋 MobileNetV2 Classification Report:\")\n",
    "print(classification_report(y_true, y_pred, target_names=classes))\n",
    "print(f\"🎯 MobileNetV2 Test Accuracy: {test_accuracy:.4f}\")\n",
    "\n",
    "# Model Performance Summary\n",
    "print(f\"\\n📊 MobileNetV2 Model Performance Summary:\")\n",
    "print(f\"│ Best Validation Acc:  {best_val_acc:.4f} (Epoch {best_epoch})\")\n",
    "print(f\"│ Final Test Accuracy:  {test_accuracy:.4f}\")\n",
    "print(f\"│ Val-Test Gap:         {abs(best_val_acc - test_accuracy):.4f}\")\n",
    "\n",
    "# Confusion Matrix\n",
    "cm = confusion_matrix(y_true, y_pred)\n",
    "plt.figure(figsize=(8, 6))\n",
    "sns.heatmap(cm, annot=True, fmt=\"d\", cmap=\"Oranges\", xticklabels=classes, yticklabels=classes)\n",
    "plt.xlabel(\"Predicted\")\n",
    "plt.ylabel(\"True\")\n",
    "plt.title(f\"MobileNetV2 Confusion Matrix - Best Model (Epoch {best_epoch})\")\n",
    "plt.show()\n",
    "\n",
    "# -----------------------------\n",
    "# 6. Enhanced Visualizations\n",
    "# -----------------------------\n",
    "plt.figure(figsize=(20, 5))\n",
    "\n",
    "# Loss Plot\n",
    "plt.subplot(1, 4, 1)\n",
    "plt.plot(range(1, epochs+1), train_losses, 'b-', label=\"Train Loss\", marker='o', linewidth=2)\n",
    "plt.plot(range(1, epochs+1), val_losses, 'r-', label=\"Val Loss\", marker='s', linewidth=2)\n",
    "plt.axvline(x=best_epoch, color='orange', linestyle='--', alpha=0.7, label=f'Best (Epoch {best_epoch})')\n",
    "plt.legend()\n",
    "plt.title(\"MobileNetV2 Loss over Epochs\")\n",
    "plt.xlabel(\"Epoch\")\n",
    "plt.ylabel(\"Loss\")\n",
    "plt.grid(True, alpha=0.3)\n",
    "\n",
    "# Accuracy Plot\n",
    "plt.subplot(1, 4, 2)\n",
    "plt.plot(range(1, epochs+1), train_accs, 'b-', label=\"Train Accuracy\", marker='o', linewidth=2)\n",
    "plt.plot(range(1, epochs+1), val_accs, 'r-', label=\"Val Accuracy\", marker='s', linewidth=2)\n",
    "plt.axvline(x=best_epoch, color='orange', linestyle='--', alpha=0.7, label=f'Best (Epoch {best_epoch})')\n",
    "plt.scatter([best_epoch], [best_val_acc], color='orange', s=100, zorder=5)\n",
    "plt.legend()\n",
    "plt.title(\"MobileNetV2 Accuracy over Epochs\")\n",
    "plt.xlabel(\"Epoch\")\n",
    "plt.ylabel(\"Accuracy\")\n",
    "plt.grid(True, alpha=0.3)\n",
    "\n",
    "# Timing Plot\n",
    "plt.subplot(1, 4, 3)\n",
    "bars = plt.bar(range(1, epochs+1), epoch_times, color='lightsalmon', alpha=0.7)\n",
    "bars[best_epoch-1].set_color('orange')\n",
    "plt.title(\"MobileNetV2 Training Time per Epoch\")\n",
    "plt.xlabel(\"Epoch\")\n",
    "plt.ylabel(\"Time (seconds)\")\n",
    "plt.grid(True, alpha=0.3)\n",
    "for i, t in enumerate(epoch_times):\n",
    "    plt.text(i+1, t+0.5, f'{t:.1f}s', ha='center', va='bottom')\n",
    "\n",
    "# Performance Comparison\n",
    "plt.subplot(1, 4, 4)\n",
    "metrics = ['Best Val Acc', 'Test Acc']\n",
    "values = [best_val_acc, test_accuracy]\n",
    "colors = ['lightsalmon', 'orange']\n",
    "bars = plt.bar(metrics, values, color=colors, alpha=0.7)\n",
    "plt.title(\"MobileNetV2 Final Model Performance\")\n",
    "plt.ylabel(\"Accuracy\")\n",
    "plt.ylim(0, 1)\n",
    "plt.grid(True, alpha=0.3)\n",
    "for bar, val in zip(bars, values):\n",
    "    plt.text(bar.get_x() + bar.get_width()/2, val + 0.01, \n",
    "             f'{val:.4f}', ha='center', va='bottom')\n",
    "\n",
    "plt.tight_layout()\n",
    "plt.show()\n",
    "\n",
    "print(f\"\\n⏰ MobileNetV2 Final Timing Summary:\")\n",
    "print(f\"│ Total Training: {total_training_time:.2f}s\")\n",
    "print(f\"│ Average per Epoch: {np.mean(epoch_times):.2f}s\")\n",
    "print(f\"│ Testing Time: {test_time:.2f}s\")\n",
    "print(f\"│ Total Runtime: {total_training_time + test_time:.2f}s\")\n",
    "\n",
    "print(f\"\\n💾 MobileNetV2 Files saved:\")\n",
    "print(f\"│ best_mobilenetv2_model.pth - Best validation accuracy model\")\n",
    "print(f\"│ mobilenetv2_training_history.csv - Training metrics for later plotting\")\n",
    "\n",
    "# -----------------------------\n",
    "# 7. MobileNetV2 Architecture Summary\n",
    "# -----------------------------\n",
    "print(f\"\\n🏗️  MobileNetV2 Architecture Summary:\")\n",
    "print(f\"│ Total Parameters: {sum(p.numel() for p in model.parameters()):,}\")\n",
    "print(f\"│ Trainable Parameters: {sum(p.numel() for p in model.parameters() if p.requires_grad):,}\")\n",
    "print(f\"│ Model Size: {sum(p.numel() * p.element_size() for p in model.parameters()) / 1024**2:.2f} MB\")\n",
    "print(f\"│ Input Size: 224x224x3\")\n",
    "print(f\"│ Output Classes: {len(classes)}\")\n",
    "print(f\"│ Width Multiplier: 1.0\")\n",
    "print(f\"│ Inverted Residual Blocks: 17\")\n",
    "print(f\"│ Depthwise Separable Convs: Yes\")\n",
    "print(f\"│ ReLU6 Activation: Yes\")"
   ]
  }
 ],
 "metadata": {
  "kaggle": {
   "accelerator": "nvidiaTeslaT4",
   "dataSources": [
    {
     "datasetId": 7735666,
     "sourceId": 12275446,
     "sourceType": "datasetVersion"
    }
   ],
   "dockerImageVersionId": 31090,
   "isGpuEnabled": true,
   "isInternetEnabled": true,
   "language": "python",
   "sourceType": "notebook"
  },
  "kernelspec": {
   "display_name": "Python 3",
   "language": "python",
   "name": "python3"
  },
  "language_info": {
   "codemirror_mode": {
    "name": "ipython",
    "version": 3
   },
   "file_extension": ".py",
   "mimetype": "text/x-python",
   "name": "python",
   "nbconvert_exporter": "python",
   "pygments_lexer": "ipython3",
   "version": "3.11.13"
  },
  "papermill": {
   "default_parameters": {},
   "duration": 966.93212,
   "end_time": "2025-09-08T06:20:14.318663",
   "environment_variables": {},
   "exception": null,
   "input_path": "__notebook__.ipynb",
   "output_path": "__notebook__.ipynb",
   "parameters": {},
   "start_time": "2025-09-08T06:04:07.386543",
   "version": "2.6.0"
  }
 },
 "nbformat": 4,
 "nbformat_minor": 5
}
