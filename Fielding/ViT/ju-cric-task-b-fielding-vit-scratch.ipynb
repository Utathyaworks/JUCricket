{
 "cells": [
  {
   "cell_type": "code",
   "execution_count": 1,
   "id": "e479404e",
   "metadata": {
    "_cell_guid": "b1076dfc-b9ad-4769-8c92-a6c4dae69d19",
    "_uuid": "8f2839f25d086af736a60e9eeb907d3b93b6e0e5",
    "execution": {
     "iopub.execute_input": "2025-09-08T16:18:28.961166Z",
     "iopub.status.busy": "2025-09-08T16:18:28.960959Z",
     "iopub.status.idle": "2025-09-08T16:18:49.877616Z",
     "shell.execute_reply": "2025-09-08T16:18:49.876659Z"
    },
    "papermill": {
     "duration": 20.921597,
     "end_time": "2025-09-08T16:18:49.878865",
     "exception": false,
     "start_time": "2025-09-08T16:18:28.957268",
     "status": "completed"
    },
    "tags": []
   },
   "outputs": [
    {
     "name": "stdout",
     "output_type": "stream",
     "text": [
      "Classes: ['boundary_save', 'catching_a_ball', 'diving_stop', 'run_out', 'stumping']\n"
     ]
    }
   ],
   "source": [
    "import torch\n",
    "import torch.nn as nn\n",
    "import torch.nn.functional as F\n",
    "from torch.utils.data import DataLoader\n",
    "from torchvision import datasets, transforms\n",
    "from torchsummary import summary\n",
    "import matplotlib.pyplot as plt\n",
    "from sklearn.metrics import classification_report, confusion_matrix, accuracy_score\n",
    "import seaborn as sns\n",
    "import numpy as np\n",
    "\n",
    "# -----------------------------\n",
    "# 1. Data Preprocessing\n",
    "# -----------------------------\n",
    "data_dir = \"/kaggle/input/ju-cricket/Cricket_Dataset_final/Task_B\"\n",
    "\n",
    "transform = transforms.Compose([\n",
    "    transforms.Resize((224, 224)),\n",
    "    transforms.ToTensor(),\n",
    "    transforms.Normalize([0.485, 0.456, 0.406], \n",
    "                         [0.229, 0.224, 0.225])\n",
    "])\n",
    "\n",
    "train_ds = datasets.ImageFolder(f\"{data_dir}/train/Fielding\", transform=transform)\n",
    "val_ds   = datasets.ImageFolder(f\"{data_dir}/val/Fielding\", transform=transform)\n",
    "test_ds  = datasets.ImageFolder(f\"{data_dir}/test/Fielding\", transform=transform)\n",
    "\n",
    "train_loader = DataLoader(train_ds, batch_size=32, shuffle=True)\n",
    "val_loader   = DataLoader(val_ds, batch_size=32, shuffle=False)\n",
    "test_loader  = DataLoader(test_ds, batch_size=32, shuffle=False)\n",
    "\n",
    "classes = train_ds.classes\n",
    "print(\"Classes:\", classes)"
   ]
  },
  {
   "cell_type": "code",
   "execution_count": 2,
   "id": "86db187a",
   "metadata": {
    "execution": {
     "iopub.execute_input": "2025-09-08T16:18:49.885197Z",
     "iopub.status.busy": "2025-09-08T16:18:49.884881Z",
     "iopub.status.idle": "2025-09-08T16:18:49.889563Z",
     "shell.execute_reply": "2025-09-08T16:18:49.888837Z"
    },
    "papermill": {
     "duration": 0.008959,
     "end_time": "2025-09-08T16:18:49.890747",
     "exception": false,
     "start_time": "2025-09-08T16:18:49.881788",
     "status": "completed"
    },
    "tags": []
   },
   "outputs": [
    {
     "name": "stdout",
     "output_type": "stream",
     "text": [
      "Total training images: 1917\n",
      "Total validation images: 504\n",
      "Total test images: 630\n",
      "Total images in dataset: 3051\n"
     ]
    }
   ],
   "source": [
    "print(\"Total training images:\", len(train_ds))\n",
    "print(\"Total validation images:\", len(val_ds))\n",
    "print(\"Total test images:\", len(test_ds))\n",
    "\n",
    "total_images = len(train_ds) + len(val_ds) + len(test_ds)\n",
    "print(\"Total images in dataset:\", total_images)"
   ]
  },
  {
   "cell_type": "code",
   "execution_count": 3,
   "id": "ff2c73ec",
   "metadata": {
    "execution": {
     "iopub.execute_input": "2025-09-08T16:18:49.896268Z",
     "iopub.status.busy": "2025-09-08T16:18:49.896055Z",
     "iopub.status.idle": "2025-09-08T16:18:49.903030Z",
     "shell.execute_reply": "2025-09-08T16:18:49.902315Z"
    },
    "papermill": {
     "duration": 0.010955,
     "end_time": "2025-09-08T16:18:49.904103",
     "exception": false,
     "start_time": "2025-09-08T16:18:49.893148",
     "status": "completed"
    },
    "tags": []
   },
   "outputs": [
    {
     "name": "stdout",
     "output_type": "stream",
     "text": [
      "Training images (excluding 'random_occlusion'): 1704\n",
      "Validation images (excluding 'random_occlusion'): 448\n",
      "Test images (excluding 'random_occlusion'): 560\n",
      "Total images (excluding 'random_occlusion'): 2712\n"
     ]
    }
   ],
   "source": [
    "ignore_folder = \"random_occlusion\"\n",
    "\n",
    "def count_images_ignore_folder(dataset, ignore_folder):\n",
    "    count = 0\n",
    "    for img_path, label in dataset.samples:\n",
    "        # Skip if the image path contains the ignore_folder\n",
    "        if ignore_folder not in img_path.split(\"/\"):\n",
    "            count += 1\n",
    "    return count\n",
    "\n",
    "train_count = count_images_ignore_folder(train_ds, ignore_folder)\n",
    "val_count   = count_images_ignore_folder(val_ds, ignore_folder)\n",
    "test_count  = count_images_ignore_folder(test_ds, ignore_folder)\n",
    "\n",
    "total_count = train_count + val_count + test_count\n",
    "\n",
    "print(\"Training images (excluding '{}'): {}\".format(ignore_folder, train_count))\n",
    "print(\"Validation images (excluding '{}'): {}\".format(ignore_folder, val_count))\n",
    "print(\"Test images (excluding '{}'): {}\".format(ignore_folder, test_count))\n",
    "print(\"Total images (excluding '{}'): {}\".format(ignore_folder, total_count))"
   ]
  },
  {
   "cell_type": "code",
   "execution_count": 4,
   "id": "8c95074c",
   "metadata": {
    "execution": {
     "iopub.execute_input": "2025-09-08T16:18:49.909931Z",
     "iopub.status.busy": "2025-09-08T16:18:49.909557Z",
     "iopub.status.idle": "2025-09-08T16:18:49.917546Z",
     "shell.execute_reply": "2025-09-08T16:18:49.916748Z"
    },
    "papermill": {
     "duration": 0.012094,
     "end_time": "2025-09-08T16:18:49.918688",
     "exception": false,
     "start_time": "2025-09-08T16:18:49.906594",
     "status": "completed"
    },
    "tags": []
   },
   "outputs": [
    {
     "name": "stdout",
     "output_type": "stream",
     "text": [
      "Training folders considered: {'original', 'chromatic_aberration', 'low_resolution', 'blur', 'lens_flare', 'motion_blur', 'gaussian_noise', 'dirty_lens'}\n",
      "Validation folders considered: {'original', 'chromatic_aberration', 'low_resolution', 'blur', 'lens_flare', 'motion_blur', 'gaussian_noise', 'dirty_lens'}\n",
      "Test folders considered: {'original', 'chromatic_aberration', 'low_resolution', 'blur', 'lens_flare', 'motion_blur', 'gaussian_noise', 'dirty_lens'}\n"
     ]
    }
   ],
   "source": [
    "ignore_folder = \"random_occlusion\"\n",
    "\n",
    "def get_included_folders(dataset, ignore_folder):\n",
    "    included = set()\n",
    "    for img_path, label in dataset.samples:\n",
    "        # Split the path into parts and ignore if ignore_folder is in the path\n",
    "        if ignore_folder not in img_path.split(\"/\"):\n",
    "            # The folder name just above the image (or the class folder)\n",
    "            folder_name = img_path.split(\"/\")[-2]\n",
    "            included.add(folder_name)\n",
    "    return included\n",
    "\n",
    "train_folders = get_included_folders(train_ds, ignore_folder)\n",
    "val_folders   = get_included_folders(val_ds, ignore_folder)\n",
    "test_folders  = get_included_folders(test_ds, ignore_folder)\n",
    "\n",
    "print(\"Training folders considered:\", train_folders)\n",
    "print(\"Validation folders considered:\", val_folders)\n",
    "print(\"Test folders considered:\", test_folders)"
   ]
  },
  {
   "cell_type": "code",
   "execution_count": 5,
   "id": "2d472d33",
   "metadata": {
    "execution": {
     "iopub.execute_input": "2025-09-08T16:18:49.924168Z",
     "iopub.status.busy": "2025-09-08T16:18:49.923984Z",
     "iopub.status.idle": "2025-09-08T16:18:50.172958Z",
     "shell.execute_reply": "2025-09-08T16:18:50.172311Z"
    },
    "papermill": {
     "duration": 0.252898,
     "end_time": "2025-09-08T16:18:50.174006",
     "exception": false,
     "start_time": "2025-09-08T16:18:49.921108",
     "status": "completed"
    },
    "tags": []
   },
   "outputs": [
    {
     "name": "stdout",
     "output_type": "stream",
     "text": [
      "Classes: ['boundary_save', 'catching_a_ball', 'diving_stop', 'run_out', 'stumping']\n",
      "Final Training images: 1704\n",
      "Final Validation images: 448\n",
      "Final Test images: 560\n",
      "Total images after filtering: 2712\n"
     ]
    }
   ],
   "source": [
    "ignore_folder = \"random_occlusion\"\n",
    "\n",
    "def filter_samples(dataset, ignore_folder):\n",
    "    # Keep only samples where ignore_folder is NOT in the path\n",
    "    filtered_samples = [s for s in dataset.samples if ignore_folder not in s[0].split(\"/\")]\n",
    "    dataset.samples = filtered_samples\n",
    "    dataset.targets = [s[1] for s in filtered_samples]  # Update targets accordingly\n",
    "    return dataset\n",
    "\n",
    "# Create original datasets\n",
    "train_ds = datasets.ImageFolder(f\"{data_dir}/train/Fielding\", transform=transform)\n",
    "val_ds   = datasets.ImageFolder(f\"{data_dir}/val/Fielding\", transform=transform)\n",
    "test_ds  = datasets.ImageFolder(f\"{data_dir}/test/Fielding\", transform=transform)\n",
    "\n",
    "# Filter out 'random_occlusion' folder\n",
    "train_ds = filter_samples(train_ds, ignore_folder)\n",
    "val_ds   = filter_samples(val_ds, ignore_folder)\n",
    "test_ds  = filter_samples(test_ds, ignore_folder)\n",
    "\n",
    "# DataLoaders\n",
    "train_loader = DataLoader(train_ds, batch_size=32, shuffle=True)\n",
    "val_loader   = DataLoader(val_ds, batch_size=32, shuffle=False)\n",
    "test_loader  = DataLoader(test_ds, batch_size=32, shuffle=False)\n",
    "\n",
    "# Classes (will remain the same)\n",
    "classes = train_ds.classes\n",
    "print(\"Classes:\", classes)\n",
    "\n",
    "# Show counts\n",
    "print(\"Final Training images:\", len(train_ds))\n",
    "print(\"Final Validation images:\", len(val_ds))\n",
    "print(\"Final Test images:\", len(test_ds))\n",
    "print(\"Total images after filtering:\", len(train_ds) + len(val_ds) + len(test_ds))"
   ]
  },
  {
   "cell_type": "code",
   "execution_count": 6,
   "id": "f375e9c8",
   "metadata": {
    "execution": {
     "iopub.execute_input": "2025-09-08T16:18:50.179920Z",
     "iopub.status.busy": "2025-09-08T16:18:50.179496Z",
     "iopub.status.idle": "2025-09-08T16:18:50.186972Z",
     "shell.execute_reply": "2025-09-08T16:18:50.186319Z"
    },
    "papermill": {
     "duration": 0.011368,
     "end_time": "2025-09-08T16:18:50.187976",
     "exception": false,
     "start_time": "2025-09-08T16:18:50.176608",
     "status": "completed"
    },
    "tags": []
   },
   "outputs": [
    {
     "name": "stdout",
     "output_type": "stream",
     "text": [
      "Training folders considered: {'original', 'chromatic_aberration', 'low_resolution', 'blur', 'lens_flare', 'motion_blur', 'gaussian_noise', 'dirty_lens'}\n",
      "Validation folders considered: {'original', 'chromatic_aberration', 'low_resolution', 'blur', 'lens_flare', 'motion_blur', 'gaussian_noise', 'dirty_lens'}\n",
      "Test folders considered: {'original', 'chromatic_aberration', 'low_resolution', 'blur', 'lens_flare', 'motion_blur', 'gaussian_noise', 'dirty_lens'}\n"
     ]
    }
   ],
   "source": [
    "ignore_folder = \"random_occlusion\"\n",
    "\n",
    "def get_included_folders(dataset, ignore_folder):\n",
    "    included = set()\n",
    "    for img_path, label in dataset.samples:\n",
    "        # Split the path into parts and ignore if ignore_folder is in the path\n",
    "        if ignore_folder not in img_path.split(\"/\"):\n",
    "            # The folder name just above the image (or the class folder)\n",
    "            folder_name = img_path.split(\"/\")[-2]\n",
    "            included.add(folder_name)\n",
    "    return included\n",
    "\n",
    "train_folders = get_included_folders(train_ds, ignore_folder)\n",
    "val_folders   = get_included_folders(val_ds, ignore_folder)\n",
    "test_folders  = get_included_folders(test_ds, ignore_folder)\n",
    "\n",
    "print(\"Training folders considered:\", train_folders)\n",
    "print(\"Validation folders considered:\", val_folders)\n",
    "print(\"Test folders considered:\", test_folders)"
   ]
  },
  {
   "cell_type": "code",
   "execution_count": 7,
   "id": "20e050a9",
   "metadata": {
    "execution": {
     "iopub.execute_input": "2025-09-08T16:18:50.193920Z",
     "iopub.status.busy": "2025-09-08T16:18:50.193743Z",
     "iopub.status.idle": "2025-09-08T16:18:50.210993Z",
     "shell.execute_reply": "2025-09-08T16:18:50.210450Z"
    },
    "papermill": {
     "duration": 0.021649,
     "end_time": "2025-09-08T16:18:50.212050",
     "exception": false,
     "start_time": "2025-09-08T16:18:50.190401",
     "status": "completed"
    },
    "tags": []
   },
   "outputs": [],
   "source": [
    "# -----------------------------\n",
    "# 2. Define Vision Transformer (ViT) Model from Scratch\n",
    "# -----------------------------\n",
    "import torch\n",
    "import torch.nn as nn\n",
    "import torch.nn.functional as F\n",
    "import numpy as np\n",
    "import matplotlib.pyplot as plt\n",
    "import seaborn as sns\n",
    "from torchsummary import summary\n",
    "from sklearn.metrics import accuracy_score, classification_report, confusion_matrix\n",
    "import pandas as pd\n",
    "from tqdm import tqdm\n",
    "import time\n",
    "import math\n",
    "\n",
    "class PatchEmbedding(nn.Module):\n",
    "    \"\"\"Patch Embedding Layer - Convert image to patches and embed them\"\"\"\n",
    "    def __init__(self, img_size=224, patch_size=16, in_channels=3, embed_dim=768):\n",
    "        super().__init__()\n",
    "        self.img_size = img_size\n",
    "        self.patch_size = patch_size\n",
    "        self.n_patches = (img_size // patch_size) ** 2\n",
    "        \n",
    "        # Use Conv2d to create patch embeddings\n",
    "        self.proj = nn.Conv2d(in_channels, embed_dim, kernel_size=patch_size, stride=patch_size)\n",
    "        \n",
    "    def forward(self, x):\n",
    "        # x shape: (B, C, H, W)\n",
    "        x = self.proj(x)  # (B, embed_dim, H', W') where H' = H/patch_size, W' = W/patch_size\n",
    "        x = x.flatten(2)  # (B, embed_dim, n_patches)\n",
    "        x = x.transpose(1, 2)  # (B, n_patches, embed_dim)\n",
    "        return x\n",
    "\n",
    "class MultiHeadAttention(nn.Module):\n",
    "    \"\"\"Multi-Head Self-Attention mechanism\"\"\"\n",
    "    def __init__(self, embed_dim=768, n_heads=12, dropout=0.1):\n",
    "        super().__init__()\n",
    "        self.embed_dim = embed_dim\n",
    "        self.n_heads = n_heads\n",
    "        self.head_dim = embed_dim // n_heads\n",
    "        assert self.head_dim * n_heads == embed_dim, \"embed_dim must be divisible by n_heads\"\n",
    "        \n",
    "        self.qkv = nn.Linear(embed_dim, embed_dim * 3)\n",
    "        self.proj = nn.Linear(embed_dim, embed_dim)\n",
    "        self.dropout = nn.Dropout(dropout)\n",
    "        \n",
    "    def forward(self, x):\n",
    "        B, N, C = x.shape\n",
    "        \n",
    "        # Generate Q, K, V\n",
    "        qkv = self.qkv(x).reshape(B, N, 3, self.n_heads, self.head_dim).permute(2, 0, 3, 1, 4)\n",
    "        q, k, v = qkv[0], qkv[1], qkv[2]  # (B, n_heads, N, head_dim)\n",
    "        \n",
    "        # Attention\n",
    "        attn = (q @ k.transpose(-2, -1)) * (self.head_dim ** -0.5)\n",
    "        attn = F.softmax(attn, dim=-1)\n",
    "        attn = self.dropout(attn)\n",
    "        \n",
    "        # Apply attention to values\n",
    "        x = (attn @ v).transpose(1, 2).reshape(B, N, C)\n",
    "        x = self.proj(x)\n",
    "        x = self.dropout(x)\n",
    "        \n",
    "        return x\n",
    "\n",
    "class MLP(nn.Module):\n",
    "    \"\"\"Multi-Layer Perceptron (Feed-Forward Network)\"\"\"\n",
    "    def __init__(self, in_features, hidden_features=None, out_features=None, dropout=0.1):\n",
    "        super().__init__()\n",
    "        out_features = out_features or in_features\n",
    "        hidden_features = hidden_features or in_features\n",
    "        \n",
    "        self.fc1 = nn.Linear(in_features, hidden_features)\n",
    "        self.act = nn.GELU()\n",
    "        self.fc2 = nn.Linear(hidden_features, out_features)\n",
    "        self.dropout = nn.Dropout(dropout)\n",
    "        \n",
    "    def forward(self, x):\n",
    "        x = self.fc1(x)\n",
    "        x = self.act(x)\n",
    "        x = self.dropout(x)\n",
    "        x = self.fc2(x)\n",
    "        x = self.dropout(x)\n",
    "        return x\n",
    "\n",
    "class TransformerBlock(nn.Module):\n",
    "    \"\"\"Transformer Encoder Block\"\"\"\n",
    "    def __init__(self, embed_dim=768, n_heads=12, mlp_ratio=4.0, dropout=0.1):\n",
    "        super().__init__()\n",
    "        self.norm1 = nn.LayerNorm(embed_dim)\n",
    "        self.attn = MultiHeadAttention(embed_dim, n_heads, dropout)\n",
    "        self.norm2 = nn.LayerNorm(embed_dim)\n",
    "        mlp_hidden_dim = int(embed_dim * mlp_ratio)\n",
    "        self.mlp = MLP(embed_dim, mlp_hidden_dim, dropout=dropout)\n",
    "        \n",
    "    def forward(self, x):\n",
    "        # Pre-norm architecture (Layer Norm before attention and MLP)\n",
    "        x = x + self.attn(self.norm1(x))\n",
    "        x = x + self.mlp(self.norm2(x))\n",
    "        return x\n",
    "\n",
    "class MyVisionTransformer(nn.Module):\n",
    "    \"\"\"Vision Transformer (ViT) Implementation from Scratch\"\"\"\n",
    "    def __init__(self, img_size=224, patch_size=16, in_channels=3, num_classes=4, \n",
    "                 embed_dim=768, depth=12, n_heads=12, mlp_ratio=4.0, dropout=0.1, \n",
    "                 emb_dropout=0.1):\n",
    "        super().__init__()\n",
    "        self.num_classes = num_classes\n",
    "        self.num_tokens = 1  # CLS token\n",
    "        self.embed_dim = embed_dim\n",
    "        \n",
    "        # Patch embedding\n",
    "        self.patch_embed = PatchEmbedding(img_size, patch_size, in_channels, embed_dim)\n",
    "        num_patches = self.patch_embed.n_patches\n",
    "        \n",
    "        # CLS token and positional embeddings\n",
    "        self.cls_token = nn.Parameter(torch.zeros(1, 1, embed_dim))\n",
    "        self.pos_embed = nn.Parameter(torch.zeros(1, num_patches + self.num_tokens, embed_dim))\n",
    "        self.pos_drop = nn.Dropout(emb_dropout)\n",
    "        \n",
    "        # Transformer blocks\n",
    "        self.blocks = nn.ModuleList([\n",
    "            TransformerBlock(embed_dim, n_heads, mlp_ratio, dropout)\n",
    "            for _ in range(depth)\n",
    "        ])\n",
    "        \n",
    "        # Classification head\n",
    "        self.norm = nn.LayerNorm(embed_dim)\n",
    "        self.head = nn.Linear(embed_dim, num_classes) if num_classes > 0 else nn.Identity()\n",
    "        \n",
    "        # Initialize weights\n",
    "        self._init_weights()\n",
    "        \n",
    "    def _init_weights(self):\n",
    "        \"\"\"Initialize weights\"\"\"\n",
    "        # Initialize positional embeddings\n",
    "        nn.init.trunc_normal_(self.pos_embed, std=0.02)\n",
    "        nn.init.trunc_normal_(self.cls_token, std=0.02)\n",
    "        \n",
    "        # Initialize other weights\n",
    "        for m in self.modules():\n",
    "            if isinstance(m, nn.Linear):\n",
    "                nn.init.trunc_normal_(m.weight, std=0.02)\n",
    "                if m.bias is not None:\n",
    "                    nn.init.constant_(m.bias, 0)\n",
    "            elif isinstance(m, nn.LayerNorm):\n",
    "                nn.init.constant_(m.bias, 0)\n",
    "                nn.init.constant_(m.weight, 1.0)\n",
    "            elif isinstance(m, nn.Conv2d):\n",
    "                nn.init.trunc_normal_(m.weight, std=0.02)\n",
    "                if m.bias is not None:\n",
    "                    nn.init.constant_(m.bias, 0)\n",
    "                    \n",
    "    def forward(self, x):\n",
    "        B = x.shape[0]\n",
    "        \n",
    "        # Create patch embeddings\n",
    "        x = self.patch_embed(x)  # (B, n_patches, embed_dim)\n",
    "        \n",
    "        # Add CLS token\n",
    "        cls_tokens = self.cls_token.expand(B, -1, -1)  # (B, 1, embed_dim)\n",
    "        x = torch.cat((cls_tokens, x), dim=1)  # (B, n_patches + 1, embed_dim)\n",
    "        \n",
    "        # Add positional embeddings\n",
    "        x = x + self.pos_embed\n",
    "        x = self.pos_drop(x)\n",
    "        \n",
    "        # Pass through transformer blocks\n",
    "        for block in self.blocks:\n",
    "            x = block(x)\n",
    "        \n",
    "        # Final layer norm and classification\n",
    "        x = self.norm(x)\n",
    "        \n",
    "        # Use CLS token for classification\n",
    "        cls_token_final = x[:, 0]  # (B, embed_dim)\n",
    "        x = self.head(cls_token_final)  # (B, num_classes)\n",
    "        \n",
    "        return x"
   ]
  },
  {
   "cell_type": "code",
   "execution_count": 8,
   "id": "824d2515",
   "metadata": {
    "execution": {
     "iopub.execute_input": "2025-09-08T16:18:50.217944Z",
     "iopub.status.busy": "2025-09-08T16:18:50.217431Z",
     "iopub.status.idle": "2025-09-08T16:18:53.427956Z",
     "shell.execute_reply": "2025-09-08T16:18:53.427071Z"
    },
    "papermill": {
     "duration": 3.215121,
     "end_time": "2025-09-08T16:18:53.429610",
     "exception": false,
     "start_time": "2025-09-08T16:18:50.214489",
     "status": "completed"
    },
    "tags": []
   },
   "outputs": [
    {
     "name": "stdout",
     "output_type": "stream",
     "text": [
      "Vision Transformer (ViT) Model Summary:\n",
      "----------------------------------------------------------------\n",
      "        Layer (type)               Output Shape         Param #\n",
      "================================================================\n",
      "            Conv2d-1          [-1, 768, 14, 14]         590,592\n",
      "    PatchEmbedding-2             [-1, 196, 768]               0\n",
      "           Dropout-3             [-1, 197, 768]               0\n",
      "         LayerNorm-4             [-1, 197, 768]           1,536\n",
      "            Linear-5            [-1, 197, 2304]       1,771,776\n",
      "           Dropout-6         [-1, 12, 197, 197]               0\n",
      "            Linear-7             [-1, 197, 768]         590,592\n",
      "           Dropout-8             [-1, 197, 768]               0\n",
      "MultiHeadAttention-9             [-1, 197, 768]               0\n",
      "        LayerNorm-10             [-1, 197, 768]           1,536\n",
      "           Linear-11            [-1, 197, 3072]       2,362,368\n",
      "             GELU-12            [-1, 197, 3072]               0\n",
      "          Dropout-13            [-1, 197, 3072]               0\n",
      "           Linear-14             [-1, 197, 768]       2,360,064\n",
      "          Dropout-15             [-1, 197, 768]               0\n",
      "              MLP-16             [-1, 197, 768]               0\n",
      " TransformerBlock-17             [-1, 197, 768]               0\n",
      "        LayerNorm-18             [-1, 197, 768]           1,536\n",
      "           Linear-19            [-1, 197, 2304]       1,771,776\n",
      "          Dropout-20         [-1, 12, 197, 197]               0\n",
      "           Linear-21             [-1, 197, 768]         590,592\n",
      "          Dropout-22             [-1, 197, 768]               0\n",
      "MultiHeadAttention-23             [-1, 197, 768]               0\n",
      "        LayerNorm-24             [-1, 197, 768]           1,536\n",
      "           Linear-25            [-1, 197, 3072]       2,362,368\n",
      "             GELU-26            [-1, 197, 3072]               0\n",
      "          Dropout-27            [-1, 197, 3072]               0\n",
      "           Linear-28             [-1, 197, 768]       2,360,064\n",
      "          Dropout-29             [-1, 197, 768]               0\n",
      "              MLP-30             [-1, 197, 768]               0\n",
      " TransformerBlock-31             [-1, 197, 768]               0\n",
      "        LayerNorm-32             [-1, 197, 768]           1,536\n",
      "           Linear-33            [-1, 197, 2304]       1,771,776\n",
      "          Dropout-34         [-1, 12, 197, 197]               0\n",
      "           Linear-35             [-1, 197, 768]         590,592\n",
      "          Dropout-36             [-1, 197, 768]               0\n",
      "MultiHeadAttention-37             [-1, 197, 768]               0\n",
      "        LayerNorm-38             [-1, 197, 768]           1,536\n",
      "           Linear-39            [-1, 197, 3072]       2,362,368\n",
      "             GELU-40            [-1, 197, 3072]               0\n",
      "          Dropout-41            [-1, 197, 3072]               0\n",
      "           Linear-42             [-1, 197, 768]       2,360,064\n",
      "          Dropout-43             [-1, 197, 768]               0\n",
      "              MLP-44             [-1, 197, 768]               0\n",
      " TransformerBlock-45             [-1, 197, 768]               0\n",
      "        LayerNorm-46             [-1, 197, 768]           1,536\n",
      "           Linear-47            [-1, 197, 2304]       1,771,776\n",
      "          Dropout-48         [-1, 12, 197, 197]               0\n",
      "           Linear-49             [-1, 197, 768]         590,592\n",
      "          Dropout-50             [-1, 197, 768]               0\n",
      "MultiHeadAttention-51             [-1, 197, 768]               0\n",
      "        LayerNorm-52             [-1, 197, 768]           1,536\n",
      "           Linear-53            [-1, 197, 3072]       2,362,368\n",
      "             GELU-54            [-1, 197, 3072]               0\n",
      "          Dropout-55            [-1, 197, 3072]               0\n",
      "           Linear-56             [-1, 197, 768]       2,360,064\n",
      "          Dropout-57             [-1, 197, 768]               0\n",
      "              MLP-58             [-1, 197, 768]               0\n",
      " TransformerBlock-59             [-1, 197, 768]               0\n",
      "        LayerNorm-60             [-1, 197, 768]           1,536\n",
      "           Linear-61            [-1, 197, 2304]       1,771,776\n",
      "          Dropout-62         [-1, 12, 197, 197]               0\n",
      "           Linear-63             [-1, 197, 768]         590,592\n",
      "          Dropout-64             [-1, 197, 768]               0\n",
      "MultiHeadAttention-65             [-1, 197, 768]               0\n",
      "        LayerNorm-66             [-1, 197, 768]           1,536\n",
      "           Linear-67            [-1, 197, 3072]       2,362,368\n",
      "             GELU-68            [-1, 197, 3072]               0\n",
      "          Dropout-69            [-1, 197, 3072]               0\n",
      "           Linear-70             [-1, 197, 768]       2,360,064\n",
      "          Dropout-71             [-1, 197, 768]               0\n",
      "              MLP-72             [-1, 197, 768]               0\n",
      " TransformerBlock-73             [-1, 197, 768]               0\n",
      "        LayerNorm-74             [-1, 197, 768]           1,536\n",
      "           Linear-75            [-1, 197, 2304]       1,771,776\n",
      "          Dropout-76         [-1, 12, 197, 197]               0\n",
      "           Linear-77             [-1, 197, 768]         590,592\n",
      "          Dropout-78             [-1, 197, 768]               0\n",
      "MultiHeadAttention-79             [-1, 197, 768]               0\n",
      "        LayerNorm-80             [-1, 197, 768]           1,536\n",
      "           Linear-81            [-1, 197, 3072]       2,362,368\n",
      "             GELU-82            [-1, 197, 3072]               0\n",
      "          Dropout-83            [-1, 197, 3072]               0\n",
      "           Linear-84             [-1, 197, 768]       2,360,064\n",
      "          Dropout-85             [-1, 197, 768]               0\n",
      "              MLP-86             [-1, 197, 768]               0\n",
      " TransformerBlock-87             [-1, 197, 768]               0\n",
      "        LayerNorm-88             [-1, 197, 768]           1,536\n",
      "           Linear-89            [-1, 197, 2304]       1,771,776\n",
      "          Dropout-90         [-1, 12, 197, 197]               0\n",
      "           Linear-91             [-1, 197, 768]         590,592\n",
      "          Dropout-92             [-1, 197, 768]               0\n",
      "MultiHeadAttention-93             [-1, 197, 768]               0\n",
      "        LayerNorm-94             [-1, 197, 768]           1,536\n",
      "           Linear-95            [-1, 197, 3072]       2,362,368\n",
      "             GELU-96            [-1, 197, 3072]               0\n",
      "          Dropout-97            [-1, 197, 3072]               0\n",
      "           Linear-98             [-1, 197, 768]       2,360,064\n",
      "          Dropout-99             [-1, 197, 768]               0\n",
      "             MLP-100             [-1, 197, 768]               0\n",
      "TransformerBlock-101             [-1, 197, 768]               0\n",
      "       LayerNorm-102             [-1, 197, 768]           1,536\n",
      "          Linear-103            [-1, 197, 2304]       1,771,776\n",
      "         Dropout-104         [-1, 12, 197, 197]               0\n",
      "          Linear-105             [-1, 197, 768]         590,592\n",
      "         Dropout-106             [-1, 197, 768]               0\n",
      "MultiHeadAttention-107             [-1, 197, 768]               0\n",
      "       LayerNorm-108             [-1, 197, 768]           1,536\n",
      "          Linear-109            [-1, 197, 3072]       2,362,368\n",
      "            GELU-110            [-1, 197, 3072]               0\n",
      "         Dropout-111            [-1, 197, 3072]               0\n",
      "          Linear-112             [-1, 197, 768]       2,360,064\n",
      "         Dropout-113             [-1, 197, 768]               0\n",
      "             MLP-114             [-1, 197, 768]               0\n",
      "TransformerBlock-115             [-1, 197, 768]               0\n",
      "       LayerNorm-116             [-1, 197, 768]           1,536\n",
      "          Linear-117            [-1, 197, 2304]       1,771,776\n",
      "         Dropout-118         [-1, 12, 197, 197]               0\n",
      "          Linear-119             [-1, 197, 768]         590,592\n",
      "         Dropout-120             [-1, 197, 768]               0\n",
      "MultiHeadAttention-121             [-1, 197, 768]               0\n",
      "       LayerNorm-122             [-1, 197, 768]           1,536\n",
      "          Linear-123            [-1, 197, 3072]       2,362,368\n",
      "            GELU-124            [-1, 197, 3072]               0\n",
      "         Dropout-125            [-1, 197, 3072]               0\n",
      "          Linear-126             [-1, 197, 768]       2,360,064\n",
      "         Dropout-127             [-1, 197, 768]               0\n",
      "             MLP-128             [-1, 197, 768]               0\n",
      "TransformerBlock-129             [-1, 197, 768]               0\n",
      "       LayerNorm-130             [-1, 197, 768]           1,536\n",
      "          Linear-131            [-1, 197, 2304]       1,771,776\n",
      "         Dropout-132         [-1, 12, 197, 197]               0\n",
      "          Linear-133             [-1, 197, 768]         590,592\n",
      "         Dropout-134             [-1, 197, 768]               0\n",
      "MultiHeadAttention-135             [-1, 197, 768]               0\n",
      "       LayerNorm-136             [-1, 197, 768]           1,536\n",
      "          Linear-137            [-1, 197, 3072]       2,362,368\n",
      "            GELU-138            [-1, 197, 3072]               0\n",
      "         Dropout-139            [-1, 197, 3072]               0\n",
      "          Linear-140             [-1, 197, 768]       2,360,064\n",
      "         Dropout-141             [-1, 197, 768]               0\n",
      "             MLP-142             [-1, 197, 768]               0\n",
      "TransformerBlock-143             [-1, 197, 768]               0\n",
      "       LayerNorm-144             [-1, 197, 768]           1,536\n",
      "          Linear-145            [-1, 197, 2304]       1,771,776\n",
      "         Dropout-146         [-1, 12, 197, 197]               0\n",
      "          Linear-147             [-1, 197, 768]         590,592\n",
      "         Dropout-148             [-1, 197, 768]               0\n",
      "MultiHeadAttention-149             [-1, 197, 768]               0\n",
      "       LayerNorm-150             [-1, 197, 768]           1,536\n",
      "          Linear-151            [-1, 197, 3072]       2,362,368\n",
      "            GELU-152            [-1, 197, 3072]               0\n",
      "         Dropout-153            [-1, 197, 3072]               0\n",
      "          Linear-154             [-1, 197, 768]       2,360,064\n",
      "         Dropout-155             [-1, 197, 768]               0\n",
      "             MLP-156             [-1, 197, 768]               0\n",
      "TransformerBlock-157             [-1, 197, 768]               0\n",
      "       LayerNorm-158             [-1, 197, 768]           1,536\n",
      "          Linear-159            [-1, 197, 2304]       1,771,776\n",
      "         Dropout-160         [-1, 12, 197, 197]               0\n",
      "          Linear-161             [-1, 197, 768]         590,592\n",
      "         Dropout-162             [-1, 197, 768]               0\n",
      "MultiHeadAttention-163             [-1, 197, 768]               0\n",
      "       LayerNorm-164             [-1, 197, 768]           1,536\n",
      "          Linear-165            [-1, 197, 3072]       2,362,368\n",
      "            GELU-166            [-1, 197, 3072]               0\n",
      "         Dropout-167            [-1, 197, 3072]               0\n",
      "          Linear-168             [-1, 197, 768]       2,360,064\n",
      "         Dropout-169             [-1, 197, 768]               0\n",
      "             MLP-170             [-1, 197, 768]               0\n",
      "TransformerBlock-171             [-1, 197, 768]               0\n",
      "       LayerNorm-172             [-1, 197, 768]           1,536\n",
      "          Linear-173                    [-1, 5]           3,845\n",
      "================================================================\n",
      "Total params: 85,650,437\n",
      "Trainable params: 85,650,437\n",
      "Non-trainable params: 0\n",
      "----------------------------------------------------------------\n",
      "Input size (MB): 0.57\n",
      "Forward/backward pass size (MB): 379.68\n",
      "Params size (MB): 326.73\n",
      "Estimated Total Size (MB): 706.98\n",
      "----------------------------------------------------------------\n"
     ]
    }
   ],
   "source": [
    "# -----------------------------\n",
    "# 3. Training Setup\n",
    "# -----------------------------\n",
    "device = torch.device(\"cuda\" if torch.cuda.is_available() else \"cpu\")\n",
    "\n",
    "# ViT-Base configuration\n",
    "model = MyVisionTransformer(\n",
    "    img_size=224,\n",
    "    patch_size=16,\n",
    "    in_channels=3,\n",
    "    num_classes=len(classes),\n",
    "    embed_dim=768,\n",
    "    depth=12,\n",
    "    n_heads=12,\n",
    "    mlp_ratio=4.0,\n",
    "    dropout=0.1,\n",
    "    emb_dropout=0.1\n",
    ").to(device)\n",
    "\n",
    "criterion = nn.CrossEntropyLoss()\n",
    "optimizer = torch.optim.Adam(model.parameters(), lr=0.0001, weight_decay=0.05)  # Lower LR for ViT\n",
    "\n",
    "print(\"Vision Transformer (ViT) Model Summary:\")\n",
    "try:\n",
    "    summary(model, (3, 224, 224))\n",
    "except:\n",
    "    print(\"Model summary generation failed - this is normal for complex architectures\")\n",
    "    print(f\"Model created successfully with {sum(p.numel() for p in model.parameters()):,} parameters\")"
   ]
  },
  {
   "cell_type": "code",
   "execution_count": 9,
   "id": "d7b1fb35",
   "metadata": {
    "execution": {
     "iopub.execute_input": "2025-09-08T16:18:53.437097Z",
     "iopub.status.busy": "2025-09-08T16:18:53.436863Z",
     "iopub.status.idle": "2025-09-08T17:31:22.159370Z",
     "shell.execute_reply": "2025-09-08T17:31:22.158725Z"
    },
    "papermill": {
     "duration": 4348.72995,
     "end_time": "2025-09-08T17:31:22.162910",
     "exception": false,
     "start_time": "2025-09-08T16:18:53.432960",
     "status": "completed"
    },
    "tags": []
   },
   "outputs": [
    {
     "name": "stdout",
     "output_type": "stream",
     "text": [
      "\n",
      "🚀 Starting Vision Transformer Training for 50 epochs...\n",
      "================================================================================\n",
      "\n",
      "📈 Epoch 1/50\n",
      "--------------------------------------------------\n",
      "🔄 Training Phase...\n"
     ]
    },
    {
     "name": "stderr",
     "output_type": "stream",
     "text": [
      "Training: 100%|██████████████████████████████| 54/54 [01:23<00:00,  1.55s/it, Loss=1.5647, Acc=0.3415]\n"
     ]
    },
    {
     "name": "stdout",
     "output_type": "stream",
     "text": [
      "✅ Training completed in 83.55s\n",
      "🔍 Validation Phase...\n"
     ]
    },
    {
     "name": "stderr",
     "output_type": "stream",
     "text": [
      "Validation: 100%|██████████████████████████████| 14/14 [00:10<00:00,  1.30it/s, Loss=1.8174, Acc=0.2902]\n"
     ]
    },
    {
     "name": "stdout",
     "output_type": "stream",
     "text": [
      "✅ Validation completed in 10.75s\n",
      "🌟 New best Vision Transformer model found! Validation Accuracy: 0.2902\n",
      "\n",
      "📊 Epoch 1 Summary:\n",
      "│ Train Loss: 1.5647 | Train Acc: 0.3415\n",
      "│ Val Loss:   1.8174 | Val Acc:   0.2902\n",
      "│ Train Time: 83.55s | Val Time: 10.75s\n",
      "│ Total Epoch Time: 94.30s\n",
      "│ Best Val Acc: 0.2902 (Epoch 1)\n",
      "│ GPU Memory: 1.3GB / 6.7GB\n",
      "================================================================================\n",
      "\n",
      "📈 Epoch 2/50\n",
      "--------------------------------------------------\n",
      "🔄 Training Phase...\n"
     ]
    },
    {
     "name": "stderr",
     "output_type": "stream",
     "text": [
      "Training: 100%|██████████████████████████████| 54/54 [01:18<00:00,  1.45s/it, Loss=1.5332, Acc=0.3691]\n"
     ]
    },
    {
     "name": "stdout",
     "output_type": "stream",
     "text": [
      "✅ Training completed in 78.18s\n",
      "🔍 Validation Phase...\n"
     ]
    },
    {
     "name": "stderr",
     "output_type": "stream",
     "text": [
      "Validation: 100%|██████████████████████████████| 14/14 [00:08<00:00,  1.66it/s, Loss=1.7136, Acc=0.3929]\n"
     ]
    },
    {
     "name": "stdout",
     "output_type": "stream",
     "text": [
      "✅ Validation completed in 8.45s\n",
      "🌟 New best Vision Transformer model found! Validation Accuracy: 0.3929\n",
      "\n",
      "📊 Epoch 2 Summary:\n",
      "│ Train Loss: 1.5332 | Train Acc: 0.3691\n",
      "│ Val Loss:   1.7136 | Val Acc:   0.3929\n",
      "│ Train Time: 78.18s | Val Time: 8.45s\n",
      "│ Total Epoch Time: 86.64s\n",
      "│ Best Val Acc: 0.3929 (Epoch 2)\n",
      "│ GPU Memory: 1.3GB / 6.7GB\n",
      "================================================================================\n",
      "\n",
      "📈 Epoch 3/50\n",
      "--------------------------------------------------\n",
      "🔄 Training Phase...\n"
     ]
    },
    {
     "name": "stderr",
     "output_type": "stream",
     "text": [
      "Training: 100%|██████████████████████████████| 54/54 [01:18<00:00,  1.45s/it, Loss=1.5081, Acc=0.3908]\n"
     ]
    },
    {
     "name": "stdout",
     "output_type": "stream",
     "text": [
      "✅ Training completed in 78.17s\n",
      "🔍 Validation Phase...\n"
     ]
    },
    {
     "name": "stderr",
     "output_type": "stream",
     "text": [
      "Validation: 100%|██████████████████████████████| 14/14 [00:08<00:00,  1.64it/s, Loss=1.9126, Acc=0.2165]\n"
     ]
    },
    {
     "name": "stdout",
     "output_type": "stream",
     "text": [
      "✅ Validation completed in 8.53s\n",
      "\n",
      "📊 Epoch 3 Summary:\n",
      "│ Train Loss: 1.5081 | Train Acc: 0.3908\n",
      "│ Val Loss:   1.9126 | Val Acc:   0.2165\n",
      "│ Train Time: 78.17s | Val Time: 8.53s\n",
      "│ Total Epoch Time: 86.70s\n",
      "│ Best Val Acc: 0.3929 (Epoch 2)\n",
      "│ GPU Memory: 1.3GB / 6.7GB\n",
      "================================================================================\n",
      "\n",
      "📈 Epoch 4/50\n",
      "--------------------------------------------------\n",
      "🔄 Training Phase...\n"
     ]
    },
    {
     "name": "stderr",
     "output_type": "stream",
     "text": [
      "Training: 100%|██████████████████████████████| 54/54 [01:17<00:00,  1.44s/it, Loss=1.4695, Acc=0.3820]\n"
     ]
    },
    {
     "name": "stdout",
     "output_type": "stream",
     "text": [
      "✅ Training completed in 77.99s\n",
      "🔍 Validation Phase...\n"
     ]
    },
    {
     "name": "stderr",
     "output_type": "stream",
     "text": [
      "Validation: 100%|██████████████████████████████| 14/14 [00:08<00:00,  1.65it/s, Loss=1.6436, Acc=0.3348]\n"
     ]
    },
    {
     "name": "stdout",
     "output_type": "stream",
     "text": [
      "✅ Validation completed in 8.46s\n",
      "\n",
      "📊 Epoch 4 Summary:\n",
      "│ Train Loss: 1.4695 | Train Acc: 0.3820\n",
      "│ Val Loss:   1.6436 | Val Acc:   0.3348\n",
      "│ Train Time: 77.99s | Val Time: 8.46s\n",
      "│ Total Epoch Time: 86.45s\n",
      "│ Best Val Acc: 0.3929 (Epoch 2)\n",
      "│ GPU Memory: 1.3GB / 6.7GB\n",
      "================================================================================\n",
      "\n",
      "📈 Epoch 5/50\n",
      "--------------------------------------------------\n",
      "🔄 Training Phase...\n"
     ]
    },
    {
     "name": "stderr",
     "output_type": "stream",
     "text": [
      "Training: 100%|██████████████████████████████| 54/54 [01:18<00:00,  1.45s/it, Loss=1.4754, Acc=0.3867]\n"
     ]
    },
    {
     "name": "stdout",
     "output_type": "stream",
     "text": [
      "✅ Training completed in 78.19s\n",
      "🔍 Validation Phase...\n"
     ]
    },
    {
     "name": "stderr",
     "output_type": "stream",
     "text": [
      "Validation: 100%|██████████████████████████████| 14/14 [00:08<00:00,  1.63it/s, Loss=1.6317, Acc=0.3482]\n"
     ]
    },
    {
     "name": "stdout",
     "output_type": "stream",
     "text": [
      "✅ Validation completed in 8.59s\n",
      "\n",
      "📊 Epoch 5 Summary:\n",
      "│ Train Loss: 1.4754 | Train Acc: 0.3867\n",
      "│ Val Loss:   1.6317 | Val Acc:   0.3482\n",
      "│ Train Time: 78.19s | Val Time: 8.59s\n",
      "│ Total Epoch Time: 86.78s\n",
      "│ Best Val Acc: 0.3929 (Epoch 2)\n",
      "│ GPU Memory: 1.3GB / 6.7GB\n",
      "================================================================================\n",
      "\n",
      "📈 Epoch 6/50\n",
      "--------------------------------------------------\n",
      "🔄 Training Phase...\n"
     ]
    },
    {
     "name": "stderr",
     "output_type": "stream",
     "text": [
      "Training: 100%|██████████████████████████████| 54/54 [01:18<00:00,  1.45s/it, Loss=1.4463, Acc=0.3791]\n"
     ]
    },
    {
     "name": "stdout",
     "output_type": "stream",
     "text": [
      "✅ Training completed in 78.19s\n",
      "🔍 Validation Phase...\n"
     ]
    },
    {
     "name": "stderr",
     "output_type": "stream",
     "text": [
      "Validation: 100%|██████████████████████████████| 14/14 [00:08<00:00,  1.66it/s, Loss=1.8175, Acc=0.3616]\n"
     ]
    },
    {
     "name": "stdout",
     "output_type": "stream",
     "text": [
      "✅ Validation completed in 8.46s\n",
      "\n",
      "📊 Epoch 6 Summary:\n",
      "│ Train Loss: 1.4463 | Train Acc: 0.3791\n",
      "│ Val Loss:   1.8175 | Val Acc:   0.3616\n",
      "│ Train Time: 78.19s | Val Time: 8.46s\n",
      "│ Total Epoch Time: 86.65s\n",
      "│ Best Val Acc: 0.3929 (Epoch 2)\n",
      "│ GPU Memory: 1.3GB / 6.7GB\n",
      "================================================================================\n",
      "\n",
      "📈 Epoch 7/50\n",
      "--------------------------------------------------\n",
      "🔄 Training Phase...\n"
     ]
    },
    {
     "name": "stderr",
     "output_type": "stream",
     "text": [
      "Training: 100%|██████████████████████████████| 54/54 [01:17<00:00,  1.44s/it, Loss=1.4672, Acc=0.3844]\n"
     ]
    },
    {
     "name": "stdout",
     "output_type": "stream",
     "text": [
      "✅ Training completed in 77.95s\n",
      "🔍 Validation Phase...\n"
     ]
    },
    {
     "name": "stderr",
     "output_type": "stream",
     "text": [
      "Validation: 100%|██████████████████████████████| 14/14 [00:08<00:00,  1.64it/s, Loss=1.6947, Acc=0.2321]\n"
     ]
    },
    {
     "name": "stdout",
     "output_type": "stream",
     "text": [
      "✅ Validation completed in 8.53s\n",
      "\n",
      "📊 Epoch 7 Summary:\n",
      "│ Train Loss: 1.4672 | Train Acc: 0.3844\n",
      "│ Val Loss:   1.6947 | Val Acc:   0.2321\n",
      "│ Train Time: 77.95s | Val Time: 8.53s\n",
      "│ Total Epoch Time: 86.49s\n",
      "│ Best Val Acc: 0.3929 (Epoch 2)\n",
      "│ GPU Memory: 1.3GB / 6.7GB\n",
      "================================================================================\n",
      "\n",
      "📈 Epoch 8/50\n",
      "--------------------------------------------------\n",
      "🔄 Training Phase...\n"
     ]
    },
    {
     "name": "stderr",
     "output_type": "stream",
     "text": [
      "Training: 100%|██████████████████████████████| 54/54 [01:17<00:00,  1.44s/it, Loss=1.4604, Acc=0.3685]\n"
     ]
    },
    {
     "name": "stdout",
     "output_type": "stream",
     "text": [
      "✅ Training completed in 77.82s\n",
      "🔍 Validation Phase...\n"
     ]
    },
    {
     "name": "stderr",
     "output_type": "stream",
     "text": [
      "Validation: 100%|██████████████████████████████| 14/14 [00:08<00:00,  1.62it/s, Loss=1.5870, Acc=0.3192]\n"
     ]
    },
    {
     "name": "stdout",
     "output_type": "stream",
     "text": [
      "✅ Validation completed in 8.63s\n",
      "\n",
      "📊 Epoch 8 Summary:\n",
      "│ Train Loss: 1.4604 | Train Acc: 0.3685\n",
      "│ Val Loss:   1.5870 | Val Acc:   0.3192\n",
      "│ Train Time: 77.82s | Val Time: 8.63s\n",
      "│ Total Epoch Time: 86.45s\n",
      "│ Best Val Acc: 0.3929 (Epoch 2)\n",
      "│ GPU Memory: 1.3GB / 6.7GB\n",
      "================================================================================\n",
      "\n",
      "📈 Epoch 9/50\n",
      "--------------------------------------------------\n",
      "🔄 Training Phase...\n"
     ]
    },
    {
     "name": "stderr",
     "output_type": "stream",
     "text": [
      "Training: 100%|██████████████████████████████| 54/54 [01:17<00:00,  1.44s/it, Loss=1.4770, Acc=0.3691]\n"
     ]
    },
    {
     "name": "stdout",
     "output_type": "stream",
     "text": [
      "✅ Training completed in 77.98s\n",
      "🔍 Validation Phase...\n"
     ]
    },
    {
     "name": "stderr",
     "output_type": "stream",
     "text": [
      "Validation: 100%|██████████████████████████████| 14/14 [00:08<00:00,  1.63it/s, Loss=1.5302, Acc=0.3638]\n"
     ]
    },
    {
     "name": "stdout",
     "output_type": "stream",
     "text": [
      "✅ Validation completed in 8.58s\n",
      "\n",
      "📊 Epoch 9 Summary:\n",
      "│ Train Loss: 1.4770 | Train Acc: 0.3691\n",
      "│ Val Loss:   1.5302 | Val Acc:   0.3638\n",
      "│ Train Time: 77.98s | Val Time: 8.58s\n",
      "│ Total Epoch Time: 86.57s\n",
      "│ Best Val Acc: 0.3929 (Epoch 2)\n",
      "│ GPU Memory: 1.3GB / 6.7GB\n",
      "================================================================================\n",
      "\n",
      "📈 Epoch 10/50\n",
      "--------------------------------------------------\n",
      "🔄 Training Phase...\n"
     ]
    },
    {
     "name": "stderr",
     "output_type": "stream",
     "text": [
      "Training: 100%|██████████████████████████████| 54/54 [01:17<00:00,  1.44s/it, Loss=1.4445, Acc=0.3867]\n"
     ]
    },
    {
     "name": "stdout",
     "output_type": "stream",
     "text": [
      "✅ Training completed in 77.81s\n",
      "🔍 Validation Phase...\n"
     ]
    },
    {
     "name": "stderr",
     "output_type": "stream",
     "text": [
      "Validation: 100%|██████████████████████████████| 14/14 [00:08<00:00,  1.66it/s, Loss=1.5058, Acc=0.3549]\n"
     ]
    },
    {
     "name": "stdout",
     "output_type": "stream",
     "text": [
      "✅ Validation completed in 8.43s\n",
      "\n",
      "📊 Epoch 10 Summary:\n",
      "│ Train Loss: 1.4445 | Train Acc: 0.3867\n",
      "│ Val Loss:   1.5058 | Val Acc:   0.3549\n",
      "│ Train Time: 77.81s | Val Time: 8.43s\n",
      "│ Total Epoch Time: 86.25s\n",
      "│ Best Val Acc: 0.3929 (Epoch 2)\n",
      "│ GPU Memory: 1.3GB / 6.7GB\n",
      "================================================================================\n",
      "\n",
      "📈 Epoch 11/50\n",
      "--------------------------------------------------\n",
      "🔄 Training Phase...\n"
     ]
    },
    {
     "name": "stderr",
     "output_type": "stream",
     "text": [
      "Training: 100%|██████████████████████████████| 54/54 [01:17<00:00,  1.44s/it, Loss=1.4602, Acc=0.3744]\n"
     ]
    },
    {
     "name": "stdout",
     "output_type": "stream",
     "text": [
      "✅ Training completed in 77.79s\n",
      "🔍 Validation Phase...\n"
     ]
    },
    {
     "name": "stderr",
     "output_type": "stream",
     "text": [
      "Validation: 100%|██████████████████████████████| 14/14 [00:08<00:00,  1.64it/s, Loss=1.5499, Acc=0.2812]\n"
     ]
    },
    {
     "name": "stdout",
     "output_type": "stream",
     "text": [
      "✅ Validation completed in 8.52s\n",
      "\n",
      "📊 Epoch 11 Summary:\n",
      "│ Train Loss: 1.4602 | Train Acc: 0.3744\n",
      "│ Val Loss:   1.5499 | Val Acc:   0.2812\n",
      "│ Train Time: 77.79s | Val Time: 8.52s\n",
      "│ Total Epoch Time: 86.32s\n",
      "│ Best Val Acc: 0.3929 (Epoch 2)\n",
      "│ GPU Memory: 1.3GB / 6.7GB\n",
      "================================================================================\n",
      "\n",
      "📈 Epoch 12/50\n",
      "--------------------------------------------------\n",
      "🔄 Training Phase...\n"
     ]
    },
    {
     "name": "stderr",
     "output_type": "stream",
     "text": [
      "Training: 100%|██████████████████████████████| 54/54 [01:17<00:00,  1.44s/it, Loss=1.4801, Acc=0.3768]\n"
     ]
    },
    {
     "name": "stdout",
     "output_type": "stream",
     "text": [
      "✅ Training completed in 77.70s\n",
      "🔍 Validation Phase...\n"
     ]
    },
    {
     "name": "stderr",
     "output_type": "stream",
     "text": [
      "Validation: 100%|██████████████████████████████| 14/14 [00:08<00:00,  1.66it/s, Loss=1.5601, Acc=0.3438]\n"
     ]
    },
    {
     "name": "stdout",
     "output_type": "stream",
     "text": [
      "✅ Validation completed in 8.44s\n",
      "\n",
      "📊 Epoch 12 Summary:\n",
      "│ Train Loss: 1.4801 | Train Acc: 0.3768\n",
      "│ Val Loss:   1.5601 | Val Acc:   0.3438\n",
      "│ Train Time: 77.70s | Val Time: 8.44s\n",
      "│ Total Epoch Time: 86.15s\n",
      "│ Best Val Acc: 0.3929 (Epoch 2)\n",
      "│ GPU Memory: 1.3GB / 6.7GB\n",
      "================================================================================\n",
      "\n",
      "📈 Epoch 13/50\n",
      "--------------------------------------------------\n",
      "🔄 Training Phase...\n"
     ]
    },
    {
     "name": "stderr",
     "output_type": "stream",
     "text": [
      "Training: 100%|██████████████████████████████| 54/54 [01:17<00:00,  1.44s/it, Loss=1.4202, Acc=0.3938]\n"
     ]
    },
    {
     "name": "stdout",
     "output_type": "stream",
     "text": [
      "✅ Training completed in 77.79s\n",
      "🔍 Validation Phase...\n"
     ]
    },
    {
     "name": "stderr",
     "output_type": "stream",
     "text": [
      "Validation: 100%|██████████████████████████████| 14/14 [00:08<00:00,  1.65it/s, Loss=1.5587, Acc=0.4040]\n"
     ]
    },
    {
     "name": "stdout",
     "output_type": "stream",
     "text": [
      "✅ Validation completed in 8.47s\n",
      "🌟 New best Vision Transformer model found! Validation Accuracy: 0.4040\n",
      "\n",
      "📊 Epoch 13 Summary:\n",
      "│ Train Loss: 1.4202 | Train Acc: 0.3938\n",
      "│ Val Loss:   1.5587 | Val Acc:   0.4040\n",
      "│ Train Time: 77.79s | Val Time: 8.47s\n",
      "│ Total Epoch Time: 86.27s\n",
      "│ Best Val Acc: 0.4040 (Epoch 13)\n",
      "│ GPU Memory: 1.3GB / 6.7GB\n",
      "================================================================================\n",
      "\n",
      "📈 Epoch 14/50\n",
      "--------------------------------------------------\n",
      "🔄 Training Phase...\n"
     ]
    },
    {
     "name": "stderr",
     "output_type": "stream",
     "text": [
      "Training: 100%|██████████████████████████████| 54/54 [01:18<00:00,  1.45s/it, Loss=1.4059, Acc=0.4184]\n"
     ]
    },
    {
     "name": "stdout",
     "output_type": "stream",
     "text": [
      "✅ Training completed in 78.06s\n",
      "🔍 Validation Phase...\n"
     ]
    },
    {
     "name": "stderr",
     "output_type": "stream",
     "text": [
      "Validation: 100%|██████████████████████████████| 14/14 [00:08<00:00,  1.64it/s, Loss=1.4723, Acc=0.3795]\n"
     ]
    },
    {
     "name": "stdout",
     "output_type": "stream",
     "text": [
      "✅ Validation completed in 8.55s\n",
      "\n",
      "📊 Epoch 14 Summary:\n",
      "│ Train Loss: 1.4059 | Train Acc: 0.4184\n",
      "│ Val Loss:   1.4723 | Val Acc:   0.3795\n",
      "│ Train Time: 78.06s | Val Time: 8.55s\n",
      "│ Total Epoch Time: 86.61s\n",
      "│ Best Val Acc: 0.4040 (Epoch 13)\n",
      "│ GPU Memory: 1.3GB / 6.7GB\n",
      "================================================================================\n",
      "\n",
      "📈 Epoch 15/50\n",
      "--------------------------------------------------\n",
      "🔄 Training Phase...\n"
     ]
    },
    {
     "name": "stderr",
     "output_type": "stream",
     "text": [
      "Training: 100%|██████████████████████████████| 54/54 [01:18<00:00,  1.45s/it, Loss=1.4136, Acc=0.3955]\n"
     ]
    },
    {
     "name": "stdout",
     "output_type": "stream",
     "text": [
      "✅ Training completed in 78.20s\n",
      "🔍 Validation Phase...\n"
     ]
    },
    {
     "name": "stderr",
     "output_type": "stream",
     "text": [
      "Validation: 100%|██████████████████████████████| 14/14 [00:08<00:00,  1.64it/s, Loss=1.5087, Acc=0.3728]\n"
     ]
    },
    {
     "name": "stdout",
     "output_type": "stream",
     "text": [
      "✅ Validation completed in 8.53s\n",
      "\n",
      "📊 Epoch 15 Summary:\n",
      "│ Train Loss: 1.4136 | Train Acc: 0.3955\n",
      "│ Val Loss:   1.5087 | Val Acc:   0.3728\n",
      "│ Train Time: 78.20s | Val Time: 8.53s\n",
      "│ Total Epoch Time: 86.73s\n",
      "│ Best Val Acc: 0.4040 (Epoch 13)\n",
      "│ GPU Memory: 1.3GB / 6.7GB\n",
      "================================================================================\n",
      "\n",
      "📈 Epoch 16/50\n",
      "--------------------------------------------------\n",
      "🔄 Training Phase...\n"
     ]
    },
    {
     "name": "stderr",
     "output_type": "stream",
     "text": [
      "Training: 100%|██████████████████████████████| 54/54 [01:18<00:00,  1.45s/it, Loss=1.3895, Acc=0.4237]\n"
     ]
    },
    {
     "name": "stdout",
     "output_type": "stream",
     "text": [
      "✅ Training completed in 78.05s\n",
      "🔍 Validation Phase...\n"
     ]
    },
    {
     "name": "stderr",
     "output_type": "stream",
     "text": [
      "Validation: 100%|██████████████████████████████| 14/14 [00:08<00:00,  1.62it/s, Loss=1.5104, Acc=0.3906]\n"
     ]
    },
    {
     "name": "stdout",
     "output_type": "stream",
     "text": [
      "✅ Validation completed in 8.63s\n",
      "\n",
      "📊 Epoch 16 Summary:\n",
      "│ Train Loss: 1.3895 | Train Acc: 0.4237\n",
      "│ Val Loss:   1.5104 | Val Acc:   0.3906\n",
      "│ Train Time: 78.05s | Val Time: 8.63s\n",
      "│ Total Epoch Time: 86.68s\n",
      "│ Best Val Acc: 0.4040 (Epoch 13)\n",
      "│ GPU Memory: 1.3GB / 6.7GB\n",
      "================================================================================\n",
      "\n",
      "📈 Epoch 17/50\n",
      "--------------------------------------------------\n",
      "🔄 Training Phase...\n"
     ]
    },
    {
     "name": "stderr",
     "output_type": "stream",
     "text": [
      "Training: 100%|██████████████████████████████| 54/54 [01:17<00:00,  1.44s/it, Loss=1.3741, Acc=0.4290]\n"
     ]
    },
    {
     "name": "stdout",
     "output_type": "stream",
     "text": [
      "✅ Training completed in 77.98s\n",
      "🔍 Validation Phase...\n"
     ]
    },
    {
     "name": "stderr",
     "output_type": "stream",
     "text": [
      "Validation: 100%|██████████████████████████████| 14/14 [00:08<00:00,  1.64it/s, Loss=1.5460, Acc=0.4174]\n"
     ]
    },
    {
     "name": "stdout",
     "output_type": "stream",
     "text": [
      "✅ Validation completed in 8.53s\n",
      "🌟 New best Vision Transformer model found! Validation Accuracy: 0.4174\n",
      "\n",
      "📊 Epoch 17 Summary:\n",
      "│ Train Loss: 1.3741 | Train Acc: 0.4290\n",
      "│ Val Loss:   1.5460 | Val Acc:   0.4174\n",
      "│ Train Time: 77.98s | Val Time: 8.53s\n",
      "│ Total Epoch Time: 86.52s\n",
      "│ Best Val Acc: 0.4174 (Epoch 17)\n",
      "│ GPU Memory: 1.3GB / 6.7GB\n",
      "================================================================================\n",
      "\n",
      "📈 Epoch 18/50\n",
      "--------------------------------------------------\n",
      "🔄 Training Phase...\n"
     ]
    },
    {
     "name": "stderr",
     "output_type": "stream",
     "text": [
      "Training: 100%|██████████████████████████████| 54/54 [01:17<00:00,  1.44s/it, Loss=1.3716, Acc=0.4249]\n"
     ]
    },
    {
     "name": "stdout",
     "output_type": "stream",
     "text": [
      "✅ Training completed in 77.92s\n",
      "🔍 Validation Phase...\n"
     ]
    },
    {
     "name": "stderr",
     "output_type": "stream",
     "text": [
      "Validation: 100%|██████████████████████████████| 14/14 [00:08<00:00,  1.65it/s, Loss=1.4719, Acc=0.3795]\n"
     ]
    },
    {
     "name": "stdout",
     "output_type": "stream",
     "text": [
      "✅ Validation completed in 8.47s\n",
      "\n",
      "📊 Epoch 18 Summary:\n",
      "│ Train Loss: 1.3716 | Train Acc: 0.4249\n",
      "│ Val Loss:   1.4719 | Val Acc:   0.3795\n",
      "│ Train Time: 77.92s | Val Time: 8.47s\n",
      "│ Total Epoch Time: 86.40s\n",
      "│ Best Val Acc: 0.4174 (Epoch 17)\n",
      "│ GPU Memory: 1.3GB / 6.7GB\n",
      "================================================================================\n",
      "\n",
      "📈 Epoch 19/50\n",
      "--------------------------------------------------\n",
      "🔄 Training Phase...\n"
     ]
    },
    {
     "name": "stderr",
     "output_type": "stream",
     "text": [
      "Training: 100%|██████████████████████████████| 54/54 [01:18<00:00,  1.45s/it, Loss=1.3452, Acc=0.4454]\n"
     ]
    },
    {
     "name": "stdout",
     "output_type": "stream",
     "text": [
      "✅ Training completed in 78.16s\n",
      "🔍 Validation Phase...\n"
     ]
    },
    {
     "name": "stderr",
     "output_type": "stream",
     "text": [
      "Validation: 100%|██████████████████████████████| 14/14 [00:08<00:00,  1.65it/s, Loss=1.4653, Acc=0.3728]\n"
     ]
    },
    {
     "name": "stdout",
     "output_type": "stream",
     "text": [
      "✅ Validation completed in 8.48s\n",
      "\n",
      "📊 Epoch 19 Summary:\n",
      "│ Train Loss: 1.3452 | Train Acc: 0.4454\n",
      "│ Val Loss:   1.4653 | Val Acc:   0.3728\n",
      "│ Train Time: 78.16s | Val Time: 8.48s\n",
      "│ Total Epoch Time: 86.64s\n",
      "│ Best Val Acc: 0.4174 (Epoch 17)\n",
      "│ GPU Memory: 1.3GB / 6.7GB\n",
      "================================================================================\n",
      "\n",
      "📈 Epoch 20/50\n",
      "--------------------------------------------------\n",
      "🔄 Training Phase...\n"
     ]
    },
    {
     "name": "stderr",
     "output_type": "stream",
     "text": [
      "Training: 100%|██████████████████████████████| 54/54 [01:18<00:00,  1.45s/it, Loss=1.3396, Acc=0.4536]\n"
     ]
    },
    {
     "name": "stdout",
     "output_type": "stream",
     "text": [
      "✅ Training completed in 78.18s\n",
      "🔍 Validation Phase...\n"
     ]
    },
    {
     "name": "stderr",
     "output_type": "stream",
     "text": [
      "Validation: 100%|██████████████████████████████| 14/14 [00:08<00:00,  1.65it/s, Loss=1.4419, Acc=0.3884]\n"
     ]
    },
    {
     "name": "stdout",
     "output_type": "stream",
     "text": [
      "✅ Validation completed in 8.49s\n",
      "\n",
      "📊 Epoch 20 Summary:\n",
      "│ Train Loss: 1.3396 | Train Acc: 0.4536\n",
      "│ Val Loss:   1.4419 | Val Acc:   0.3884\n",
      "│ Train Time: 78.18s | Val Time: 8.49s\n",
      "│ Total Epoch Time: 86.68s\n",
      "│ Best Val Acc: 0.4174 (Epoch 17)\n",
      "│ GPU Memory: 1.3GB / 6.7GB\n",
      "================================================================================\n",
      "\n",
      "📈 Epoch 21/50\n",
      "--------------------------------------------------\n",
      "🔄 Training Phase...\n"
     ]
    },
    {
     "name": "stderr",
     "output_type": "stream",
     "text": [
      "Training: 100%|██████████████████████████████| 54/54 [01:18<00:00,  1.45s/it, Loss=1.3224, Acc=0.4431]\n"
     ]
    },
    {
     "name": "stdout",
     "output_type": "stream",
     "text": [
      "✅ Training completed in 78.15s\n",
      "🔍 Validation Phase...\n"
     ]
    },
    {
     "name": "stderr",
     "output_type": "stream",
     "text": [
      "Validation: 100%|██████████████████████████████| 14/14 [00:08<00:00,  1.64it/s, Loss=1.5228, Acc=0.3862]\n"
     ]
    },
    {
     "name": "stdout",
     "output_type": "stream",
     "text": [
      "✅ Validation completed in 8.52s\n",
      "\n",
      "📊 Epoch 21 Summary:\n",
      "│ Train Loss: 1.3224 | Train Acc: 0.4431\n",
      "│ Val Loss:   1.5228 | Val Acc:   0.3862\n",
      "│ Train Time: 78.15s | Val Time: 8.52s\n",
      "│ Total Epoch Time: 86.67s\n",
      "│ Best Val Acc: 0.4174 (Epoch 17)\n",
      "│ GPU Memory: 1.3GB / 6.7GB\n",
      "================================================================================\n",
      "\n",
      "📈 Epoch 22/50\n",
      "--------------------------------------------------\n",
      "🔄 Training Phase...\n"
     ]
    },
    {
     "name": "stderr",
     "output_type": "stream",
     "text": [
      "Training: 100%|██████████████████████████████| 54/54 [01:18<00:00,  1.45s/it, Loss=1.3063, Acc=0.4442]\n"
     ]
    },
    {
     "name": "stdout",
     "output_type": "stream",
     "text": [
      "✅ Training completed in 78.10s\n",
      "🔍 Validation Phase...\n"
     ]
    },
    {
     "name": "stderr",
     "output_type": "stream",
     "text": [
      "Validation: 100%|██████████████████████████████| 14/14 [00:08<00:00,  1.62it/s, Loss=1.4558, Acc=0.4353]\n"
     ]
    },
    {
     "name": "stdout",
     "output_type": "stream",
     "text": [
      "✅ Validation completed in 8.63s\n",
      "🌟 New best Vision Transformer model found! Validation Accuracy: 0.4353\n",
      "\n",
      "📊 Epoch 22 Summary:\n",
      "│ Train Loss: 1.3063 | Train Acc: 0.4442\n",
      "│ Val Loss:   1.4558 | Val Acc:   0.4353\n",
      "│ Train Time: 78.10s | Val Time: 8.63s\n",
      "│ Total Epoch Time: 86.73s\n",
      "│ Best Val Acc: 0.4353 (Epoch 22)\n",
      "│ GPU Memory: 1.3GB / 6.7GB\n",
      "================================================================================\n",
      "\n",
      "📈 Epoch 23/50\n",
      "--------------------------------------------------\n",
      "🔄 Training Phase...\n"
     ]
    },
    {
     "name": "stderr",
     "output_type": "stream",
     "text": [
      "Training: 100%|██████████████████████████████| 54/54 [01:17<00:00,  1.44s/it, Loss=1.3051, Acc=0.4589]\n"
     ]
    },
    {
     "name": "stdout",
     "output_type": "stream",
     "text": [
      "✅ Training completed in 77.94s\n",
      "🔍 Validation Phase...\n"
     ]
    },
    {
     "name": "stderr",
     "output_type": "stream",
     "text": [
      "Validation: 100%|██████████████████████████████| 14/14 [00:08<00:00,  1.64it/s, Loss=1.4754, Acc=0.3973]\n"
     ]
    },
    {
     "name": "stdout",
     "output_type": "stream",
     "text": [
      "✅ Validation completed in 8.56s\n",
      "\n",
      "📊 Epoch 23 Summary:\n",
      "│ Train Loss: 1.3051 | Train Acc: 0.4589\n",
      "│ Val Loss:   1.4754 | Val Acc:   0.3973\n",
      "│ Train Time: 77.94s | Val Time: 8.56s\n",
      "│ Total Epoch Time: 86.50s\n",
      "│ Best Val Acc: 0.4353 (Epoch 22)\n",
      "│ GPU Memory: 1.3GB / 6.7GB\n",
      "================================================================================\n",
      "\n",
      "📈 Epoch 24/50\n",
      "--------------------------------------------------\n",
      "🔄 Training Phase...\n"
     ]
    },
    {
     "name": "stderr",
     "output_type": "stream",
     "text": [
      "Training: 100%|██████████████████████████████| 54/54 [01:17<00:00,  1.44s/it, Loss=1.2926, Acc=0.4519]\n"
     ]
    },
    {
     "name": "stdout",
     "output_type": "stream",
     "text": [
      "✅ Training completed in 77.71s\n",
      "🔍 Validation Phase...\n"
     ]
    },
    {
     "name": "stderr",
     "output_type": "stream",
     "text": [
      "Validation: 100%|██████████████████████████████| 14/14 [00:08<00:00,  1.65it/s, Loss=1.4567, Acc=0.4464]\n"
     ]
    },
    {
     "name": "stdout",
     "output_type": "stream",
     "text": [
      "✅ Validation completed in 8.50s\n",
      "🌟 New best Vision Transformer model found! Validation Accuracy: 0.4464\n",
      "\n",
      "📊 Epoch 24 Summary:\n",
      "│ Train Loss: 1.2926 | Train Acc: 0.4519\n",
      "│ Val Loss:   1.4567 | Val Acc:   0.4464\n",
      "│ Train Time: 77.71s | Val Time: 8.50s\n",
      "│ Total Epoch Time: 86.21s\n",
      "│ Best Val Acc: 0.4464 (Epoch 24)\n",
      "│ GPU Memory: 1.3GB / 6.7GB\n",
      "================================================================================\n",
      "\n",
      "📈 Epoch 25/50\n",
      "--------------------------------------------------\n",
      "🔄 Training Phase...\n"
     ]
    },
    {
     "name": "stderr",
     "output_type": "stream",
     "text": [
      "Training: 100%|██████████████████████████████| 54/54 [01:17<00:00,  1.44s/it, Loss=1.2979, Acc=0.4601]\n"
     ]
    },
    {
     "name": "stdout",
     "output_type": "stream",
     "text": [
      "✅ Training completed in 77.82s\n",
      "🔍 Validation Phase...\n"
     ]
    },
    {
     "name": "stderr",
     "output_type": "stream",
     "text": [
      "Validation: 100%|██████████████████████████████| 14/14 [00:08<00:00,  1.64it/s, Loss=1.4601, Acc=0.3862]\n"
     ]
    },
    {
     "name": "stdout",
     "output_type": "stream",
     "text": [
      "✅ Validation completed in 8.55s\n",
      "\n",
      "📊 Epoch 25 Summary:\n",
      "│ Train Loss: 1.2979 | Train Acc: 0.4601\n",
      "│ Val Loss:   1.4601 | Val Acc:   0.3862\n",
      "│ Train Time: 77.82s | Val Time: 8.55s\n",
      "│ Total Epoch Time: 86.37s\n",
      "│ Best Val Acc: 0.4464 (Epoch 24)\n",
      "│ GPU Memory: 1.3GB / 6.7GB\n",
      "================================================================================\n",
      "\n",
      "📈 Epoch 26/50\n",
      "--------------------------------------------------\n",
      "🔄 Training Phase...\n"
     ]
    },
    {
     "name": "stderr",
     "output_type": "stream",
     "text": [
      "Training: 100%|██████████████████████████████| 54/54 [01:17<00:00,  1.44s/it, Loss=1.2991, Acc=0.4560]\n"
     ]
    },
    {
     "name": "stdout",
     "output_type": "stream",
     "text": [
      "✅ Training completed in 77.81s\n",
      "🔍 Validation Phase...\n"
     ]
    },
    {
     "name": "stderr",
     "output_type": "stream",
     "text": [
      "Validation: 100%|██████████████████████████████| 14/14 [00:08<00:00,  1.65it/s, Loss=1.4287, Acc=0.3638]\n"
     ]
    },
    {
     "name": "stdout",
     "output_type": "stream",
     "text": [
      "✅ Validation completed in 8.47s\n",
      "\n",
      "📊 Epoch 26 Summary:\n",
      "│ Train Loss: 1.2991 | Train Acc: 0.4560\n",
      "│ Val Loss:   1.4287 | Val Acc:   0.3638\n",
      "│ Train Time: 77.81s | Val Time: 8.47s\n",
      "│ Total Epoch Time: 86.29s\n",
      "│ Best Val Acc: 0.4464 (Epoch 24)\n",
      "│ GPU Memory: 1.3GB / 6.7GB\n",
      "================================================================================\n",
      "\n",
      "📈 Epoch 27/50\n",
      "--------------------------------------------------\n",
      "🔄 Training Phase...\n"
     ]
    },
    {
     "name": "stderr",
     "output_type": "stream",
     "text": [
      "Training: 100%|██████████████████████████████| 54/54 [01:17<00:00,  1.44s/it, Loss=1.2978, Acc=0.4478]\n"
     ]
    },
    {
     "name": "stdout",
     "output_type": "stream",
     "text": [
      "✅ Training completed in 77.84s\n",
      "🔍 Validation Phase...\n"
     ]
    },
    {
     "name": "stderr",
     "output_type": "stream",
     "text": [
      "Validation: 100%|██████████████████████████████| 14/14 [00:08<00:00,  1.65it/s, Loss=1.4581, Acc=0.4375]\n"
     ]
    },
    {
     "name": "stdout",
     "output_type": "stream",
     "text": [
      "✅ Validation completed in 8.48s\n",
      "\n",
      "📊 Epoch 27 Summary:\n",
      "│ Train Loss: 1.2978 | Train Acc: 0.4478\n",
      "│ Val Loss:   1.4581 | Val Acc:   0.4375\n",
      "│ Train Time: 77.84s | Val Time: 8.48s\n",
      "│ Total Epoch Time: 86.32s\n",
      "│ Best Val Acc: 0.4464 (Epoch 24)\n",
      "│ GPU Memory: 1.3GB / 6.7GB\n",
      "================================================================================\n",
      "\n",
      "📈 Epoch 28/50\n",
      "--------------------------------------------------\n",
      "🔄 Training Phase...\n"
     ]
    },
    {
     "name": "stderr",
     "output_type": "stream",
     "text": [
      "Training: 100%|██████████████████████████████| 54/54 [01:18<00:00,  1.45s/it, Loss=1.2751, Acc=0.4683]\n"
     ]
    },
    {
     "name": "stdout",
     "output_type": "stream",
     "text": [
      "✅ Training completed in 78.13s\n",
      "🔍 Validation Phase...\n"
     ]
    },
    {
     "name": "stderr",
     "output_type": "stream",
     "text": [
      "Validation: 100%|██████████████████████████████| 14/14 [00:08<00:00,  1.65it/s, Loss=1.4691, Acc=0.3482]\n"
     ]
    },
    {
     "name": "stdout",
     "output_type": "stream",
     "text": [
      "✅ Validation completed in 8.48s\n",
      "\n",
      "📊 Epoch 28 Summary:\n",
      "│ Train Loss: 1.2751 | Train Acc: 0.4683\n",
      "│ Val Loss:   1.4691 | Val Acc:   0.3482\n",
      "│ Train Time: 78.13s | Val Time: 8.48s\n",
      "│ Total Epoch Time: 86.61s\n",
      "│ Best Val Acc: 0.4464 (Epoch 24)\n",
      "│ GPU Memory: 1.3GB / 6.7GB\n",
      "================================================================================\n",
      "\n",
      "📈 Epoch 29/50\n",
      "--------------------------------------------------\n",
      "🔄 Training Phase...\n"
     ]
    },
    {
     "name": "stderr",
     "output_type": "stream",
     "text": [
      "Training: 100%|██████████████████████████████| 54/54 [01:18<00:00,  1.44s/it, Loss=1.2991, Acc=0.4525]\n"
     ]
    },
    {
     "name": "stdout",
     "output_type": "stream",
     "text": [
      "✅ Training completed in 78.02s\n",
      "🔍 Validation Phase...\n"
     ]
    },
    {
     "name": "stderr",
     "output_type": "stream",
     "text": [
      "Validation: 100%|██████████████████████████████| 14/14 [00:08<00:00,  1.66it/s, Loss=1.4708, Acc=0.3393]\n"
     ]
    },
    {
     "name": "stdout",
     "output_type": "stream",
     "text": [
      "✅ Validation completed in 8.42s\n",
      "\n",
      "📊 Epoch 29 Summary:\n",
      "│ Train Loss: 1.2991 | Train Acc: 0.4525\n",
      "│ Val Loss:   1.4708 | Val Acc:   0.3393\n",
      "│ Train Time: 78.02s | Val Time: 8.42s\n",
      "│ Total Epoch Time: 86.44s\n",
      "│ Best Val Acc: 0.4464 (Epoch 24)\n",
      "│ GPU Memory: 1.3GB / 6.7GB\n",
      "================================================================================\n",
      "\n",
      "📈 Epoch 30/50\n",
      "--------------------------------------------------\n",
      "🔄 Training Phase...\n"
     ]
    },
    {
     "name": "stderr",
     "output_type": "stream",
     "text": [
      "Training: 100%|██████████████████████████████| 54/54 [01:18<00:00,  1.44s/it, Loss=1.2655, Acc=0.4648]\n"
     ]
    },
    {
     "name": "stdout",
     "output_type": "stream",
     "text": [
      "✅ Training completed in 78.01s\n",
      "🔍 Validation Phase...\n"
     ]
    },
    {
     "name": "stderr",
     "output_type": "stream",
     "text": [
      "Validation: 100%|██████████████████████████████| 14/14 [00:08<00:00,  1.64it/s, Loss=1.5678, Acc=0.3393]\n"
     ]
    },
    {
     "name": "stdout",
     "output_type": "stream",
     "text": [
      "✅ Validation completed in 8.53s\n",
      "\n",
      "📊 Epoch 30 Summary:\n",
      "│ Train Loss: 1.2655 | Train Acc: 0.4648\n",
      "│ Val Loss:   1.5678 | Val Acc:   0.3393\n",
      "│ Train Time: 78.01s | Val Time: 8.53s\n",
      "│ Total Epoch Time: 86.54s\n",
      "│ Best Val Acc: 0.4464 (Epoch 24)\n",
      "│ GPU Memory: 1.3GB / 6.7GB\n",
      "================================================================================\n",
      "\n",
      "📈 Epoch 31/50\n",
      "--------------------------------------------------\n",
      "🔄 Training Phase...\n"
     ]
    },
    {
     "name": "stderr",
     "output_type": "stream",
     "text": [
      "Training: 100%|██████████████████████████████| 54/54 [01:18<00:00,  1.44s/it, Loss=1.2804, Acc=0.4712]\n"
     ]
    },
    {
     "name": "stdout",
     "output_type": "stream",
     "text": [
      "✅ Training completed in 78.02s\n",
      "🔍 Validation Phase...\n"
     ]
    },
    {
     "name": "stderr",
     "output_type": "stream",
     "text": [
      "Validation: 100%|██████████████████████████████| 14/14 [00:08<00:00,  1.64it/s, Loss=1.5022, Acc=0.4040]\n"
     ]
    },
    {
     "name": "stdout",
     "output_type": "stream",
     "text": [
      "✅ Validation completed in 8.53s\n",
      "\n",
      "📊 Epoch 31 Summary:\n",
      "│ Train Loss: 1.2804 | Train Acc: 0.4712\n",
      "│ Val Loss:   1.5022 | Val Acc:   0.4040\n",
      "│ Train Time: 78.02s | Val Time: 8.53s\n",
      "│ Total Epoch Time: 86.55s\n",
      "│ Best Val Acc: 0.4464 (Epoch 24)\n",
      "│ GPU Memory: 1.3GB / 6.7GB\n",
      "================================================================================\n",
      "\n",
      "📈 Epoch 32/50\n",
      "--------------------------------------------------\n",
      "🔄 Training Phase...\n"
     ]
    },
    {
     "name": "stderr",
     "output_type": "stream",
     "text": [
      "Training: 100%|██████████████████████████████| 54/54 [01:17<00:00,  1.44s/it, Loss=1.2732, Acc=0.4883]\n"
     ]
    },
    {
     "name": "stdout",
     "output_type": "stream",
     "text": [
      "✅ Training completed in 77.77s\n",
      "🔍 Validation Phase...\n"
     ]
    },
    {
     "name": "stderr",
     "output_type": "stream",
     "text": [
      "Validation: 100%|██████████████████████████████| 14/14 [00:08<00:00,  1.62it/s, Loss=1.4101, Acc=0.4062]\n"
     ]
    },
    {
     "name": "stdout",
     "output_type": "stream",
     "text": [
      "✅ Validation completed in 8.63s\n",
      "\n",
      "📊 Epoch 32 Summary:\n",
      "│ Train Loss: 1.2732 | Train Acc: 0.4883\n",
      "│ Val Loss:   1.4101 | Val Acc:   0.4062\n",
      "│ Train Time: 77.77s | Val Time: 8.63s\n",
      "│ Total Epoch Time: 86.40s\n",
      "│ Best Val Acc: 0.4464 (Epoch 24)\n",
      "│ GPU Memory: 1.3GB / 6.7GB\n",
      "================================================================================\n",
      "\n",
      "📈 Epoch 33/50\n",
      "--------------------------------------------------\n",
      "🔄 Training Phase...\n"
     ]
    },
    {
     "name": "stderr",
     "output_type": "stream",
     "text": [
      "Training: 100%|██████████████████████████████| 54/54 [01:17<00:00,  1.44s/it, Loss=1.2617, Acc=0.4707]\n"
     ]
    },
    {
     "name": "stdout",
     "output_type": "stream",
     "text": [
      "✅ Training completed in 77.84s\n",
      "🔍 Validation Phase...\n"
     ]
    },
    {
     "name": "stderr",
     "output_type": "stream",
     "text": [
      "Validation: 100%|██████████████████████████████| 14/14 [00:08<00:00,  1.65it/s, Loss=1.4722, Acc=0.3973]\n"
     ]
    },
    {
     "name": "stdout",
     "output_type": "stream",
     "text": [
      "✅ Validation completed in 8.49s\n",
      "\n",
      "📊 Epoch 33 Summary:\n",
      "│ Train Loss: 1.2617 | Train Acc: 0.4707\n",
      "│ Val Loss:   1.4722 | Val Acc:   0.3973\n",
      "│ Train Time: 77.84s | Val Time: 8.49s\n",
      "│ Total Epoch Time: 86.33s\n",
      "│ Best Val Acc: 0.4464 (Epoch 24)\n",
      "│ GPU Memory: 1.3GB / 6.7GB\n",
      "================================================================================\n",
      "\n",
      "📈 Epoch 34/50\n",
      "--------------------------------------------------\n",
      "🔄 Training Phase...\n"
     ]
    },
    {
     "name": "stderr",
     "output_type": "stream",
     "text": [
      "Training: 100%|██████████████████████████████| 54/54 [01:17<00:00,  1.44s/it, Loss=1.2915, Acc=0.4777]\n"
     ]
    },
    {
     "name": "stdout",
     "output_type": "stream",
     "text": [
      "✅ Training completed in 77.96s\n",
      "🔍 Validation Phase...\n"
     ]
    },
    {
     "name": "stderr",
     "output_type": "stream",
     "text": [
      "Validation: 100%|██████████████████████████████| 14/14 [00:08<00:00,  1.65it/s, Loss=1.4210, Acc=0.4062]\n"
     ]
    },
    {
     "name": "stdout",
     "output_type": "stream",
     "text": [
      "✅ Validation completed in 8.49s\n",
      "\n",
      "📊 Epoch 34 Summary:\n",
      "│ Train Loss: 1.2915 | Train Acc: 0.4777\n",
      "│ Val Loss:   1.4210 | Val Acc:   0.4062\n",
      "│ Train Time: 77.96s | Val Time: 8.49s\n",
      "│ Total Epoch Time: 86.45s\n",
      "│ Best Val Acc: 0.4464 (Epoch 24)\n",
      "│ GPU Memory: 1.3GB / 6.7GB\n",
      "================================================================================\n",
      "\n",
      "📈 Epoch 35/50\n",
      "--------------------------------------------------\n",
      "🔄 Training Phase...\n"
     ]
    },
    {
     "name": "stderr",
     "output_type": "stream",
     "text": [
      "Training: 100%|██████████████████████████████| 54/54 [01:17<00:00,  1.44s/it, Loss=1.2649, Acc=0.4847]\n"
     ]
    },
    {
     "name": "stdout",
     "output_type": "stream",
     "text": [
      "✅ Training completed in 77.93s\n",
      "🔍 Validation Phase...\n"
     ]
    },
    {
     "name": "stderr",
     "output_type": "stream",
     "text": [
      "Validation: 100%|██████████████████████████████| 14/14 [00:08<00:00,  1.66it/s, Loss=1.4506, Acc=0.3750]\n"
     ]
    },
    {
     "name": "stdout",
     "output_type": "stream",
     "text": [
      "✅ Validation completed in 8.42s\n",
      "\n",
      "📊 Epoch 35 Summary:\n",
      "│ Train Loss: 1.2649 | Train Acc: 0.4847\n",
      "│ Val Loss:   1.4506 | Val Acc:   0.3750\n",
      "│ Train Time: 77.93s | Val Time: 8.42s\n",
      "│ Total Epoch Time: 86.35s\n",
      "│ Best Val Acc: 0.4464 (Epoch 24)\n",
      "│ GPU Memory: 1.3GB / 6.7GB\n",
      "================================================================================\n",
      "\n",
      "📈 Epoch 36/50\n",
      "--------------------------------------------------\n",
      "🔄 Training Phase...\n"
     ]
    },
    {
     "name": "stderr",
     "output_type": "stream",
     "text": [
      "Training: 100%|██████████████████████████████| 54/54 [01:17<00:00,  1.44s/it, Loss=1.2870, Acc=0.4589]\n"
     ]
    },
    {
     "name": "stdout",
     "output_type": "stream",
     "text": [
      "✅ Training completed in 77.93s\n",
      "🔍 Validation Phase...\n"
     ]
    },
    {
     "name": "stderr",
     "output_type": "stream",
     "text": [
      "Validation: 100%|██████████████████████████████| 14/14 [00:08<00:00,  1.66it/s, Loss=1.5091, Acc=0.3214]\n"
     ]
    },
    {
     "name": "stdout",
     "output_type": "stream",
     "text": [
      "✅ Validation completed in 8.43s\n",
      "\n",
      "📊 Epoch 36 Summary:\n",
      "│ Train Loss: 1.2870 | Train Acc: 0.4589\n",
      "│ Val Loss:   1.5091 | Val Acc:   0.3214\n",
      "│ Train Time: 77.93s | Val Time: 8.43s\n",
      "│ Total Epoch Time: 86.36s\n",
      "│ Best Val Acc: 0.4464 (Epoch 24)\n",
      "│ GPU Memory: 1.3GB / 6.7GB\n",
      "================================================================================\n",
      "\n",
      "📈 Epoch 37/50\n",
      "--------------------------------------------------\n",
      "🔄 Training Phase...\n"
     ]
    },
    {
     "name": "stderr",
     "output_type": "stream",
     "text": [
      "Training: 100%|██████████████████████████████| 54/54 [01:17<00:00,  1.44s/it, Loss=1.2652, Acc=0.4759]\n"
     ]
    },
    {
     "name": "stdout",
     "output_type": "stream",
     "text": [
      "✅ Training completed in 77.98s\n",
      "🔍 Validation Phase...\n"
     ]
    },
    {
     "name": "stderr",
     "output_type": "stream",
     "text": [
      "Validation: 100%|██████████████████████████████| 14/14 [00:08<00:00,  1.66it/s, Loss=1.5752, Acc=0.3661]\n"
     ]
    },
    {
     "name": "stdout",
     "output_type": "stream",
     "text": [
      "✅ Validation completed in 8.45s\n",
      "\n",
      "📊 Epoch 37 Summary:\n",
      "│ Train Loss: 1.2652 | Train Acc: 0.4759\n",
      "│ Val Loss:   1.5752 | Val Acc:   0.3661\n",
      "│ Train Time: 77.98s | Val Time: 8.45s\n",
      "│ Total Epoch Time: 86.43s\n",
      "│ Best Val Acc: 0.4464 (Epoch 24)\n",
      "│ GPU Memory: 1.3GB / 6.7GB\n",
      "================================================================================\n",
      "\n",
      "📈 Epoch 38/50\n",
      "--------------------------------------------------\n",
      "🔄 Training Phase...\n"
     ]
    },
    {
     "name": "stderr",
     "output_type": "stream",
     "text": [
      "Training: 100%|██████████████████████████████| 54/54 [01:17<00:00,  1.44s/it, Loss=1.2731, Acc=0.4783]\n"
     ]
    },
    {
     "name": "stdout",
     "output_type": "stream",
     "text": [
      "✅ Training completed in 77.90s\n",
      "🔍 Validation Phase...\n"
     ]
    },
    {
     "name": "stderr",
     "output_type": "stream",
     "text": [
      "Validation: 100%|██████████████████████████████| 14/14 [00:08<00:00,  1.65it/s, Loss=1.4002, Acc=0.4040]\n"
     ]
    },
    {
     "name": "stdout",
     "output_type": "stream",
     "text": [
      "✅ Validation completed in 8.50s\n",
      "\n",
      "📊 Epoch 38 Summary:\n",
      "│ Train Loss: 1.2731 | Train Acc: 0.4783\n",
      "│ Val Loss:   1.4002 | Val Acc:   0.4040\n",
      "│ Train Time: 77.90s | Val Time: 8.50s\n",
      "│ Total Epoch Time: 86.41s\n",
      "│ Best Val Acc: 0.4464 (Epoch 24)\n",
      "│ GPU Memory: 1.3GB / 6.7GB\n",
      "================================================================================\n",
      "\n",
      "📈 Epoch 39/50\n",
      "--------------------------------------------------\n",
      "🔄 Training Phase...\n"
     ]
    },
    {
     "name": "stderr",
     "output_type": "stream",
     "text": [
      "Training: 100%|██████████████████████████████| 54/54 [01:18<00:00,  1.45s/it, Loss=1.2365, Acc=0.5000]\n"
     ]
    },
    {
     "name": "stdout",
     "output_type": "stream",
     "text": [
      "✅ Training completed in 78.08s\n",
      "🔍 Validation Phase...\n"
     ]
    },
    {
     "name": "stderr",
     "output_type": "stream",
     "text": [
      "Validation: 100%|██████████████████████████████| 14/14 [00:08<00:00,  1.64it/s, Loss=1.4741, Acc=0.3772]\n"
     ]
    },
    {
     "name": "stdout",
     "output_type": "stream",
     "text": [
      "✅ Validation completed in 8.56s\n",
      "\n",
      "📊 Epoch 39 Summary:\n",
      "│ Train Loss: 1.2365 | Train Acc: 0.5000\n",
      "│ Val Loss:   1.4741 | Val Acc:   0.3772\n",
      "│ Train Time: 78.08s | Val Time: 8.56s\n",
      "│ Total Epoch Time: 86.65s\n",
      "│ Best Val Acc: 0.4464 (Epoch 24)\n",
      "│ GPU Memory: 1.3GB / 6.7GB\n",
      "================================================================================\n",
      "\n",
      "📈 Epoch 40/50\n",
      "--------------------------------------------------\n",
      "🔄 Training Phase...\n"
     ]
    },
    {
     "name": "stderr",
     "output_type": "stream",
     "text": [
      "Training: 100%|██████████████████████████████| 54/54 [01:17<00:00,  1.44s/it, Loss=1.3227, Acc=0.4536]\n"
     ]
    },
    {
     "name": "stdout",
     "output_type": "stream",
     "text": [
      "✅ Training completed in 77.76s\n",
      "🔍 Validation Phase...\n"
     ]
    },
    {
     "name": "stderr",
     "output_type": "stream",
     "text": [
      "Validation: 100%|██████████████████████████████| 14/14 [00:08<00:00,  1.65it/s, Loss=1.5513, Acc=0.4018]\n"
     ]
    },
    {
     "name": "stdout",
     "output_type": "stream",
     "text": [
      "✅ Validation completed in 8.49s\n",
      "\n",
      "📊 Epoch 40 Summary:\n",
      "│ Train Loss: 1.3227 | Train Acc: 0.4536\n",
      "│ Val Loss:   1.5513 | Val Acc:   0.4018\n",
      "│ Train Time: 77.76s | Val Time: 8.49s\n",
      "│ Total Epoch Time: 86.26s\n",
      "│ Best Val Acc: 0.4464 (Epoch 24)\n",
      "│ GPU Memory: 1.3GB / 6.7GB\n",
      "================================================================================\n",
      "\n",
      "📈 Epoch 41/50\n",
      "--------------------------------------------------\n",
      "🔄 Training Phase...\n"
     ]
    },
    {
     "name": "stderr",
     "output_type": "stream",
     "text": [
      "Training: 100%|██████████████████████████████| 54/54 [01:18<00:00,  1.45s/it, Loss=1.2867, Acc=0.4642]\n"
     ]
    },
    {
     "name": "stdout",
     "output_type": "stream",
     "text": [
      "✅ Training completed in 78.12s\n",
      "🔍 Validation Phase...\n"
     ]
    },
    {
     "name": "stderr",
     "output_type": "stream",
     "text": [
      "Validation: 100%|██████████████████████████████| 14/14 [00:08<00:00,  1.61it/s, Loss=1.4715, Acc=0.4018]\n"
     ]
    },
    {
     "name": "stdout",
     "output_type": "stream",
     "text": [
      "✅ Validation completed in 8.69s\n",
      "\n",
      "📊 Epoch 41 Summary:\n",
      "│ Train Loss: 1.2867 | Train Acc: 0.4642\n",
      "│ Val Loss:   1.4715 | Val Acc:   0.4018\n",
      "│ Train Time: 78.12s | Val Time: 8.69s\n",
      "│ Total Epoch Time: 86.81s\n",
      "│ Best Val Acc: 0.4464 (Epoch 24)\n",
      "│ GPU Memory: 1.3GB / 6.7GB\n",
      "================================================================================\n",
      "\n",
      "📈 Epoch 42/50\n",
      "--------------------------------------------------\n",
      "🔄 Training Phase...\n"
     ]
    },
    {
     "name": "stderr",
     "output_type": "stream",
     "text": [
      "Training: 100%|██████████████████████████████| 54/54 [01:17<00:00,  1.44s/it, Loss=1.2643, Acc=0.4888]\n"
     ]
    },
    {
     "name": "stdout",
     "output_type": "stream",
     "text": [
      "✅ Training completed in 77.93s\n",
      "🔍 Validation Phase...\n"
     ]
    },
    {
     "name": "stderr",
     "output_type": "stream",
     "text": [
      "Validation: 100%|██████████████████████████████| 14/14 [00:08<00:00,  1.65it/s, Loss=1.4194, Acc=0.4152]\n"
     ]
    },
    {
     "name": "stdout",
     "output_type": "stream",
     "text": [
      "✅ Validation completed in 8.49s\n",
      "\n",
      "📊 Epoch 42 Summary:\n",
      "│ Train Loss: 1.2643 | Train Acc: 0.4888\n",
      "│ Val Loss:   1.4194 | Val Acc:   0.4152\n",
      "│ Train Time: 77.93s | Val Time: 8.49s\n",
      "│ Total Epoch Time: 86.42s\n",
      "│ Best Val Acc: 0.4464 (Epoch 24)\n",
      "│ GPU Memory: 1.3GB / 6.7GB\n",
      "================================================================================\n",
      "\n",
      "📈 Epoch 43/50\n",
      "--------------------------------------------------\n",
      "🔄 Training Phase...\n"
     ]
    },
    {
     "name": "stderr",
     "output_type": "stream",
     "text": [
      "Training: 100%|██████████████████████████████| 54/54 [01:17<00:00,  1.44s/it, Loss=1.2622, Acc=0.4812]\n"
     ]
    },
    {
     "name": "stdout",
     "output_type": "stream",
     "text": [
      "✅ Training completed in 77.93s\n",
      "🔍 Validation Phase...\n"
     ]
    },
    {
     "name": "stderr",
     "output_type": "stream",
     "text": [
      "Validation: 100%|██████████████████████████████| 14/14 [00:08<00:00,  1.63it/s, Loss=1.4974, Acc=0.3951]\n"
     ]
    },
    {
     "name": "stdout",
     "output_type": "stream",
     "text": [
      "✅ Validation completed in 8.60s\n",
      "\n",
      "📊 Epoch 43 Summary:\n",
      "│ Train Loss: 1.2622 | Train Acc: 0.4812\n",
      "│ Val Loss:   1.4974 | Val Acc:   0.3951\n",
      "│ Train Time: 77.93s | Val Time: 8.60s\n",
      "│ Total Epoch Time: 86.53s\n",
      "│ Best Val Acc: 0.4464 (Epoch 24)\n",
      "│ GPU Memory: 1.3GB / 6.7GB\n",
      "================================================================================\n",
      "\n",
      "📈 Epoch 44/50\n",
      "--------------------------------------------------\n",
      "🔄 Training Phase...\n"
     ]
    },
    {
     "name": "stderr",
     "output_type": "stream",
     "text": [
      "Training: 100%|██████████████████████████████| 54/54 [01:17<00:00,  1.44s/it, Loss=1.2622, Acc=0.4759]\n"
     ]
    },
    {
     "name": "stdout",
     "output_type": "stream",
     "text": [
      "✅ Training completed in 77.89s\n",
      "🔍 Validation Phase...\n"
     ]
    },
    {
     "name": "stderr",
     "output_type": "stream",
     "text": [
      "Validation: 100%|██████████████████████████████| 14/14 [00:08<00:00,  1.67it/s, Loss=1.5278, Acc=0.4286]\n"
     ]
    },
    {
     "name": "stdout",
     "output_type": "stream",
     "text": [
      "✅ Validation completed in 8.40s\n",
      "\n",
      "📊 Epoch 44 Summary:\n",
      "│ Train Loss: 1.2622 | Train Acc: 0.4759\n",
      "│ Val Loss:   1.5278 | Val Acc:   0.4286\n",
      "│ Train Time: 77.89s | Val Time: 8.40s\n",
      "│ Total Epoch Time: 86.29s\n",
      "│ Best Val Acc: 0.4464 (Epoch 24)\n",
      "│ GPU Memory: 1.3GB / 6.7GB\n",
      "================================================================================\n",
      "\n",
      "📈 Epoch 45/50\n",
      "--------------------------------------------------\n",
      "🔄 Training Phase...\n"
     ]
    },
    {
     "name": "stderr",
     "output_type": "stream",
     "text": [
      "Training: 100%|██████████████████████████████| 54/54 [01:17<00:00,  1.44s/it, Loss=1.2442, Acc=0.4877]\n"
     ]
    },
    {
     "name": "stdout",
     "output_type": "stream",
     "text": [
      "✅ Training completed in 77.65s\n",
      "🔍 Validation Phase...\n"
     ]
    },
    {
     "name": "stderr",
     "output_type": "stream",
     "text": [
      "Validation: 100%|██████████████████████████████| 14/14 [00:08<00:00,  1.65it/s, Loss=1.4478, Acc=0.3772]\n"
     ]
    },
    {
     "name": "stdout",
     "output_type": "stream",
     "text": [
      "✅ Validation completed in 8.49s\n",
      "\n",
      "📊 Epoch 45 Summary:\n",
      "│ Train Loss: 1.2442 | Train Acc: 0.4877\n",
      "│ Val Loss:   1.4478 | Val Acc:   0.3772\n",
      "│ Train Time: 77.65s | Val Time: 8.49s\n",
      "│ Total Epoch Time: 86.15s\n",
      "│ Best Val Acc: 0.4464 (Epoch 24)\n",
      "│ GPU Memory: 1.3GB / 6.7GB\n",
      "================================================================================\n",
      "\n",
      "📈 Epoch 46/50\n",
      "--------------------------------------------------\n",
      "🔄 Training Phase...\n"
     ]
    },
    {
     "name": "stderr",
     "output_type": "stream",
     "text": [
      "Training: 100%|██████████████████████████████| 54/54 [01:17<00:00,  1.44s/it, Loss=1.2313, Acc=0.4906]\n"
     ]
    },
    {
     "name": "stdout",
     "output_type": "stream",
     "text": [
      "✅ Training completed in 77.98s\n",
      "🔍 Validation Phase...\n"
     ]
    },
    {
     "name": "stderr",
     "output_type": "stream",
     "text": [
      "Validation: 100%|██████████████████████████████| 14/14 [00:08<00:00,  1.65it/s, Loss=1.5260, Acc=0.3772]\n"
     ]
    },
    {
     "name": "stdout",
     "output_type": "stream",
     "text": [
      "✅ Validation completed in 8.50s\n",
      "\n",
      "📊 Epoch 46 Summary:\n",
      "│ Train Loss: 1.2313 | Train Acc: 0.4906\n",
      "│ Val Loss:   1.5260 | Val Acc:   0.3772\n",
      "│ Train Time: 77.98s | Val Time: 8.50s\n",
      "│ Total Epoch Time: 86.48s\n",
      "│ Best Val Acc: 0.4464 (Epoch 24)\n",
      "│ GPU Memory: 1.3GB / 6.7GB\n",
      "================================================================================\n",
      "\n",
      "📈 Epoch 47/50\n",
      "--------------------------------------------------\n",
      "🔄 Training Phase...\n"
     ]
    },
    {
     "name": "stderr",
     "output_type": "stream",
     "text": [
      "Training: 100%|██████████████████████████████| 54/54 [01:18<00:00,  1.45s/it, Loss=1.2252, Acc=0.4965]\n"
     ]
    },
    {
     "name": "stdout",
     "output_type": "stream",
     "text": [
      "✅ Training completed in 78.06s\n",
      "🔍 Validation Phase...\n"
     ]
    },
    {
     "name": "stderr",
     "output_type": "stream",
     "text": [
      "Validation: 100%|██████████████████████████████| 14/14 [00:08<00:00,  1.65it/s, Loss=1.4535, Acc=0.3951]\n"
     ]
    },
    {
     "name": "stdout",
     "output_type": "stream",
     "text": [
      "✅ Validation completed in 8.47s\n",
      "\n",
      "📊 Epoch 47 Summary:\n",
      "│ Train Loss: 1.2252 | Train Acc: 0.4965\n",
      "│ Val Loss:   1.4535 | Val Acc:   0.3951\n",
      "│ Train Time: 78.06s | Val Time: 8.47s\n",
      "│ Total Epoch Time: 86.53s\n",
      "│ Best Val Acc: 0.4464 (Epoch 24)\n",
      "│ GPU Memory: 1.3GB / 6.7GB\n",
      "================================================================================\n",
      "\n",
      "📈 Epoch 48/50\n",
      "--------------------------------------------------\n",
      "🔄 Training Phase...\n"
     ]
    },
    {
     "name": "stderr",
     "output_type": "stream",
     "text": [
      "Training: 100%|██████████████████████████████| 54/54 [01:18<00:00,  1.44s/it, Loss=1.2408, Acc=0.4988]\n"
     ]
    },
    {
     "name": "stdout",
     "output_type": "stream",
     "text": [
      "✅ Training completed in 78.01s\n",
      "🔍 Validation Phase...\n"
     ]
    },
    {
     "name": "stderr",
     "output_type": "stream",
     "text": [
      "Validation: 100%|██████████████████████████████| 14/14 [00:08<00:00,  1.62it/s, Loss=1.5112, Acc=0.3929]\n"
     ]
    },
    {
     "name": "stdout",
     "output_type": "stream",
     "text": [
      "✅ Validation completed in 8.63s\n",
      "\n",
      "📊 Epoch 48 Summary:\n",
      "│ Train Loss: 1.2408 | Train Acc: 0.4988\n",
      "│ Val Loss:   1.5112 | Val Acc:   0.3929\n",
      "│ Train Time: 78.01s | Val Time: 8.63s\n",
      "│ Total Epoch Time: 86.64s\n",
      "│ Best Val Acc: 0.4464 (Epoch 24)\n",
      "│ GPU Memory: 1.3GB / 6.7GB\n",
      "================================================================================\n",
      "\n",
      "📈 Epoch 49/50\n",
      "--------------------------------------------------\n",
      "🔄 Training Phase...\n"
     ]
    },
    {
     "name": "stderr",
     "output_type": "stream",
     "text": [
      "Training: 100%|██████████████████████████████| 54/54 [01:17<00:00,  1.44s/it, Loss=1.2766, Acc=0.4736]\n"
     ]
    },
    {
     "name": "stdout",
     "output_type": "stream",
     "text": [
      "✅ Training completed in 77.89s\n",
      "🔍 Validation Phase...\n"
     ]
    },
    {
     "name": "stderr",
     "output_type": "stream",
     "text": [
      "Validation: 100%|██████████████████████████████| 14/14 [00:08<00:00,  1.66it/s, Loss=1.4276, Acc=0.4219]\n"
     ]
    },
    {
     "name": "stdout",
     "output_type": "stream",
     "text": [
      "✅ Validation completed in 8.44s\n",
      "\n",
      "📊 Epoch 49 Summary:\n",
      "│ Train Loss: 1.2766 | Train Acc: 0.4736\n",
      "│ Val Loss:   1.4276 | Val Acc:   0.4219\n",
      "│ Train Time: 77.89s | Val Time: 8.44s\n",
      "│ Total Epoch Time: 86.33s\n",
      "│ Best Val Acc: 0.4464 (Epoch 24)\n",
      "│ GPU Memory: 1.3GB / 6.7GB\n",
      "================================================================================\n",
      "\n",
      "📈 Epoch 50/50\n",
      "--------------------------------------------------\n",
      "🔄 Training Phase...\n"
     ]
    },
    {
     "name": "stderr",
     "output_type": "stream",
     "text": [
      "Training: 100%|██████████████████████████████| 54/54 [01:17<00:00,  1.44s/it, Loss=1.2543, Acc=0.4994]\n"
     ]
    },
    {
     "name": "stdout",
     "output_type": "stream",
     "text": [
      "✅ Training completed in 77.59s\n",
      "🔍 Validation Phase...\n"
     ]
    },
    {
     "name": "stderr",
     "output_type": "stream",
     "text": [
      "Validation: 100%|██████████████████████████████| 14/14 [00:08<00:00,  1.64it/s, Loss=1.4121, Acc=0.4219]\n"
     ]
    },
    {
     "name": "stdout",
     "output_type": "stream",
     "text": [
      "✅ Validation completed in 8.56s\n",
      "\n",
      "📊 Epoch 50 Summary:\n",
      "│ Train Loss: 1.2543 | Train Acc: 0.4994\n",
      "│ Val Loss:   1.4121 | Val Acc:   0.4219\n",
      "│ Train Time: 77.59s | Val Time: 8.56s\n",
      "│ Total Epoch Time: 86.15s\n",
      "│ Best Val Acc: 0.4464 (Epoch 24)\n",
      "│ GPU Memory: 1.3GB / 6.7GB\n",
      "================================================================================\n",
      "\n",
      "💾 Best Vision Transformer model saved as 'best_vit_model.pth'\n",
      "📊 Best model stats:\n",
      "│ Best Epoch: 24\n",
      "│ Best Val Acc: 0.4464\n",
      "\n",
      "💾 Vision Transformer training history saved to 'vit_training_history.csv'\n",
      "\n",
      "🎉 Vision Transformer Training Complete!\n",
      "Total Training Time: 4331.52s (72.2 minutes)\n",
      "Average Epoch Time: 86.63s\n",
      "\n",
      "⏱️  Epoch Timing Breakdown:\n",
      "│ Epoch 1: 94.30s\n",
      "│ Epoch 2: 86.64s\n",
      "│ Epoch 3: 86.70s\n",
      "│ Epoch 4: 86.45s\n",
      "│ Epoch 5: 86.78s\n",
      "│ Epoch 6: 86.65s\n",
      "│ Epoch 7: 86.49s\n",
      "│ Epoch 8: 86.45s\n",
      "│ Epoch 9: 86.57s\n",
      "│ Epoch 10: 86.25s\n",
      "│ Epoch 11: 86.32s\n",
      "│ Epoch 12: 86.15s\n",
      "│ Epoch 13: 86.27s\n",
      "│ Epoch 14: 86.61s\n",
      "│ Epoch 15: 86.73s\n",
      "│ Epoch 16: 86.68s\n",
      "│ Epoch 17: 86.52s\n",
      "│ Epoch 18: 86.40s\n",
      "│ Epoch 19: 86.64s\n",
      "│ Epoch 20: 86.68s\n",
      "│ Epoch 21: 86.67s\n",
      "│ Epoch 22: 86.73s\n",
      "│ Epoch 23: 86.50s\n",
      "│ Epoch 24: 86.21s\n",
      "│ Epoch 25: 86.37s\n",
      "│ Epoch 26: 86.29s\n",
      "│ Epoch 27: 86.32s\n",
      "│ Epoch 28: 86.61s\n",
      "│ Epoch 29: 86.44s\n",
      "│ Epoch 30: 86.54s\n",
      "│ Epoch 31: 86.55s\n",
      "│ Epoch 32: 86.40s\n",
      "│ Epoch 33: 86.33s\n",
      "│ Epoch 34: 86.45s\n",
      "│ Epoch 35: 86.35s\n",
      "│ Epoch 36: 86.36s\n",
      "│ Epoch 37: 86.43s\n",
      "│ Epoch 38: 86.41s\n",
      "│ Epoch 39: 86.65s\n",
      "│ Epoch 40: 86.26s\n",
      "│ Epoch 41: 86.81s\n",
      "│ Epoch 42: 86.42s\n",
      "│ Epoch 43: 86.53s\n",
      "│ Epoch 44: 86.29s\n",
      "│ Epoch 45: 86.15s\n",
      "│ Epoch 46: 86.48s\n",
      "│ Epoch 47: 86.53s\n",
      "│ Epoch 48: 86.64s\n",
      "│ Epoch 49: 86.33s\n",
      "│ Epoch 50: 86.15s\n",
      "\n",
      "🧪 Loading Best Vision Transformer Model for Testing...\n",
      "✅ Best Vision Transformer model from epoch 24 loaded successfully!\n"
     ]
    },
    {
     "name": "stderr",
     "output_type": "stream",
     "text": [
      "Testing Vision Transformer: 100%|██████████████████████████████| 18/18 [00:15<00:00,  1.18it/s]\n"
     ]
    },
    {
     "name": "stdout",
     "output_type": "stream",
     "text": [
      "✅ Vision Transformer Testing completed in 15.30s\n",
      "\n",
      "📋 Vision Transformer Classification Report:\n",
      "                 precision    recall  f1-score   support\n",
      "\n",
      "  boundary_save       0.45      0.66      0.54       152\n",
      "catching_a_ball       0.00      0.00      0.00       104\n",
      "    diving_stop       0.00      0.00      0.00        56\n",
      "        run_out       0.45      0.48      0.46       128\n",
      "       stumping       0.25      0.35      0.29       120\n",
      "\n",
      "       accuracy                           0.36       560\n",
      "      macro avg       0.23      0.30      0.26       560\n",
      "   weighted avg       0.28      0.36      0.31       560\n",
      "\n",
      "🎯 Vision Transformer Test Accuracy: 0.3643\n",
      "\n",
      "📊 Vision Transformer Model Performance Summary:\n",
      "│ Best Validation Acc:  0.4464 (Epoch 24)\n",
      "│ Final Test Accuracy:  0.3643\n",
      "│ Val-Test Gap:         0.0821\n"
     ]
    },
    {
     "data": {
      "image/png": "[encoded data removed]",
      "text/plain": [
       "<Figure size 800x600 with 2 Axes>"
      ]
     },
     "metadata": {},
     "output_type": "display_data"
    },
    {
     "data": {
      "image/png": "[encoded data removed]",
      "text/plain": [
       "<Figure size 2000x500 with 4 Axes>"
      ]
     },
     "metadata": {},
     "output_type": "display_data"
    },
    {
     "name": "stdout",
     "output_type": "stream",
     "text": [
      "\n",
      "⏰ Vision Transformer Final Timing Summary:\n",
      "│ Total Training: 4331.52s\n",
      "│ Average per Epoch: 86.63s\n",
      "│ Testing Time: 15.30s\n",
      "│ Total Runtime: 4346.82s\n",
      "\n",
      "💾 Vision Transformer Files saved:\n",
      "│ best_vit_model.pth - Best validation accuracy model\n",
      "│ vit_training_history.csv - Training metrics for later plotting\n",
      "\n",
      "🏗️  Vision Transformer Architecture Summary:\n",
      "│ Total Parameters: 85,802,501\n",
      "│ Trainable Parameters: 85,802,501\n",
      "│ Model Size: 327.31 MB\n",
      "│ Input Size: 224x224x3\n",
      "│ Patch Size: 16x16\n",
      "│ Number of Patches: 196\n",
      "│ Embed Dimension: 768\n",
      "│ Number of Heads: 12\n",
      "│ Number of Layers: 12\n",
      "│ MLP Ratio: 4.0\n",
      "│ Output Classes: 5\n",
      "│ Activation: GELU\n",
      "│ Attention Dropout: 0.1\n",
      "│ Embedding Dropout: 0.1\n"
     ]
    }
   ],
   "source": [
    "# -----------------------------\n",
    "# 4. Training Loop with Best Model Saving (Val Accuracy) - Vision Transformer\n",
    "# -----------------------------\n",
    "train_losses, val_losses = [], []\n",
    "train_accs, val_accs = [], []\n",
    "epoch_times = []\n",
    "epochs = 50\n",
    "\n",
    "# Initialize best model tracking\n",
    "best_val_acc = 0.0\n",
    "best_model_state = None\n",
    "best_epoch = 0\n",
    "\n",
    "print(f\"\\n🚀 Starting Vision Transformer Training for {epochs} epochs...\")\n",
    "print(\"=\" * 80)\n",
    "\n",
    "total_start_time = time.time()\n",
    "\n",
    "for epoch in range(epochs):\n",
    "    epoch_start_time = time.time()\n",
    "    \n",
    "    print(f\"\\n📈 Epoch {epoch+1}/{epochs}\")\n",
    "    print(\"-\" * 50)\n",
    "    \n",
    "    # Training Phase\n",
    "    print(\"🔄 Training Phase...\")\n",
    "    model.train()\n",
    "    running_loss, correct, total = 0, 0, 0\n",
    "    \n",
    "    train_pbar = tqdm(train_loader, desc=f\"Training\", \n",
    "                     bar_format='{l_bar}{bar:30}{r_bar}{bar:-30b}')\n",
    "    \n",
    "    train_phase_start = time.time()\n",
    "    \n",
    "    for batch_idx, (imgs, labels) in enumerate(train_pbar):\n",
    "        imgs, labels = imgs.to(device), labels.to(device)\n",
    "        \n",
    "        optimizer.zero_grad()\n",
    "        outputs = model(imgs)\n",
    "        loss = criterion(outputs, labels)\n",
    "        loss.backward()\n",
    "        \n",
    "        # Gradient clipping for stability\n",
    "        torch.nn.utils.clip_grad_norm_(model.parameters(), max_norm=1.0)\n",
    "        \n",
    "        optimizer.step()\n",
    "        \n",
    "        running_loss += loss.item()\n",
    "        _, preds = torch.max(outputs, 1)\n",
    "        correct += (preds == labels).sum().item()\n",
    "        total += labels.size(0)\n",
    "        \n",
    "        current_acc = correct / total\n",
    "        train_pbar.set_postfix({\n",
    "            'Loss': f'{running_loss/(batch_idx+1):.4f}',\n",
    "            'Acc': f'{current_acc:.4f}'\n",
    "        })\n",
    "        \n",
    "        if device.type == 'cuda' and batch_idx % 10 == 0:\n",
    "            gpu_memory = torch.cuda.memory_allocated() / 1024**3\n",
    "            train_pbar.set_postfix({\n",
    "                'Loss': f'{running_loss/(batch_idx+1):.4f}',\n",
    "                'Acc': f'{current_acc:.4f}',\n",
    "                'GPU': f'{gpu_memory:.1f}GB'\n",
    "            })\n",
    "    \n",
    "    train_phase_time = time.time() - train_phase_start\n",
    "    train_loss = running_loss / len(train_loader)\n",
    "    train_acc = correct / total\n",
    "    train_losses.append(train_loss)\n",
    "    train_accs.append(train_acc)\n",
    "    \n",
    "    print(f\"✅ Training completed in {train_phase_time:.2f}s\")\n",
    "    \n",
    "    # Validation Phase\n",
    "    print(\"🔍 Validation Phase...\")\n",
    "    model.eval()\n",
    "    running_loss, correct, total = 0, 0, 0\n",
    "    \n",
    "    val_phase_start = time.time()\n",
    "    val_pbar = tqdm(val_loader, desc=f\"Validation\", \n",
    "                   bar_format='{l_bar}{bar:30}{r_bar}{bar:-30b}')\n",
    "    \n",
    "    with torch.no_grad():\n",
    "        for batch_idx, (imgs, labels) in enumerate(val_pbar):\n",
    "            imgs, labels = imgs.to(device), labels.to(device)\n",
    "            outputs = model(imgs)\n",
    "            loss = criterion(outputs, labels)\n",
    "            \n",
    "            running_loss += loss.item()\n",
    "            _, preds = torch.max(outputs, 1)\n",
    "            correct += (preds == labels).sum().item()\n",
    "            total += labels.size(0)\n",
    "            \n",
    "            current_acc = correct / total\n",
    "            val_pbar.set_postfix({\n",
    "                'Loss': f'{running_loss/(batch_idx+1):.4f}',\n",
    "                'Acc': f'{current_acc:.4f}'\n",
    "            })\n",
    "    \n",
    "    val_phase_time = time.time() - val_phase_start\n",
    "    val_loss = running_loss / len(val_loader)\n",
    "    val_acc = correct / total\n",
    "    val_losses.append(val_loss)\n",
    "    val_accs.append(val_acc)\n",
    "    \n",
    "    print(f\"✅ Validation completed in {val_phase_time:.2f}s\")\n",
    "    \n",
    "    # Check if this is the best model so far based on val_acc\n",
    "    is_best = val_acc > best_val_acc\n",
    "    if is_best:\n",
    "        best_val_acc = val_acc\n",
    "        best_epoch = epoch + 1\n",
    "        best_model_state = model.state_dict().copy()\n",
    "        print(f\"🌟 New best Vision Transformer model found! Validation Accuracy: {val_acc:.4f}\")\n",
    "    \n",
    "    # Epoch Summary\n",
    "    epoch_time = time.time() - epoch_start_time\n",
    "    epoch_times.append(epoch_time)\n",
    "    \n",
    "    print(f\"\\n📊 Epoch {epoch+1} Summary:\")\n",
    "    print(f\"│ Train Loss: {train_loss:.4f} | Train Acc: {train_acc:.4f}\")\n",
    "    print(f\"│ Val Loss:   {val_loss:.4f} | Val Acc:   {val_acc:.4f}\")\n",
    "    print(f\"│ Train Time: {train_phase_time:.2f}s | Val Time: {val_phase_time:.2f}s\")\n",
    "    print(f\"│ Total Epoch Time: {epoch_time:.2f}s\")\n",
    "    print(f\"│ Best Val Acc: {best_val_acc:.4f} (Epoch {best_epoch})\")\n",
    "    \n",
    "    if device.type == 'cuda':\n",
    "        print(f\"│ GPU Memory: {torch.cuda.memory_allocated()/1024**3:.1f}GB / {torch.cuda.memory_reserved()/1024**3:.1f}GB\")\n",
    "    \n",
    "    print(\"=\" * 80)\n",
    "\n",
    "total_training_time = time.time() - total_start_time\n",
    "\n",
    "# Save the best model\n",
    "if best_model_state is not None:\n",
    "    torch.save(best_model_state, 'best_vit_model.pth')\n",
    "    print(f\"\\n💾 Best Vision Transformer model saved as 'best_vit_model.pth'\")\n",
    "    print(f\"📊 Best model stats:\")\n",
    "    print(f\"│ Best Epoch: {best_epoch}\")\n",
    "    print(f\"│ Best Val Acc: {best_val_acc:.4f}\")\n",
    "\n",
    "# Save training history data to CSV\n",
    "history_data = {\n",
    "    'epoch': list(range(1, epochs+1)),\n",
    "    'train_loss': train_losses,\n",
    "    'val_loss': val_losses,\n",
    "    'train_acc': train_accs,\n",
    "    'val_acc': val_accs,\n",
    "    'epoch_time': epoch_times\n",
    "}\n",
    "history_df = pd.DataFrame(history_data)\n",
    "history_df.to_csv('vit_training_history.csv', index=False)\n",
    "print(\"\\n💾 Vision Transformer training history saved to 'vit_training_history.csv'\")\n",
    "\n",
    "# Training Summary\n",
    "print(f\"\\n🎉 Vision Transformer Training Complete!\")\n",
    "print(f\"Total Training Time: {total_training_time:.2f}s ({total_training_time/60:.1f} minutes)\")\n",
    "print(f\"Average Epoch Time: {np.mean(epoch_times):.2f}s\")\n",
    "print(\"\\n⏱️  Epoch Timing Breakdown:\")\n",
    "for i, t in enumerate(epoch_times):\n",
    "    print(f\"│ Epoch {i+1}: {t:.2f}s\")\n",
    "\n",
    "# -----------------------------\n",
    "# 5. Load Best Model and Test\n",
    "# -----------------------------\n",
    "print(f\"\\n🧪 Loading Best Vision Transformer Model for Testing...\")\n",
    "\n",
    "# Load the best model state\n",
    "if best_model_state is not None:\n",
    "    model.load_state_dict(best_model_state)\n",
    "    print(f\"✅ Best Vision Transformer model from epoch {best_epoch} loaded successfully!\")\n",
    "else:\n",
    "    print(\"⚠️  No best model found, using current model state\")\n",
    "\n",
    "test_start_time = time.time()\n",
    "y_true, y_pred = [], []\n",
    "model.eval()\n",
    "\n",
    "test_pbar = tqdm(test_loader, desc=\"Testing Vision Transformer\", \n",
    "                bar_format='{l_bar}{bar:30}{r_bar}{bar:-30b}')\n",
    "\n",
    "with torch.no_grad():\n",
    "    for imgs, labels in test_pbar:\n",
    "        imgs, labels = imgs.to(device), labels.to(device)\n",
    "        outputs = model(imgs)\n",
    "        _, preds = torch.max(outputs, 1)\n",
    "        y_true.extend(labels.cpu().numpy())\n",
    "        y_pred.extend(preds.cpu().numpy())\n",
    "\n",
    "test_time = time.time() - test_start_time\n",
    "test_accuracy = accuracy_score(y_true, y_pred)\n",
    "\n",
    "print(f\"✅ Vision Transformer Testing completed in {test_time:.2f}s\")\n",
    "print(\"\\n📋 Vision Transformer Classification Report:\")\n",
    "print(classification_report(y_true, y_pred, target_names=classes))\n",
    "print(f\"🎯 Vision Transformer Test Accuracy: {test_accuracy:.4f}\")\n",
    "\n",
    "# Model Performance Summary\n",
    "print(f\"\\n📊 Vision Transformer Model Performance Summary:\")\n",
    "print(f\"│ Best Validation Acc:  {best_val_acc:.4f} (Epoch {best_epoch})\")\n",
    "print(f\"│ Final Test Accuracy:  {test_accuracy:.4f}\")\n",
    "print(f\"│ Val-Test Gap:         {abs(best_val_acc - test_accuracy):.4f}\")\n",
    "\n",
    "# Confusion Matrix\n",
    "cm = confusion_matrix(y_true, y_pred)\n",
    "plt.figure(figsize=(8, 6))\n",
    "sns.heatmap(cm, annot=True, fmt=\"d\", cmap=\"Reds\", xticklabels=classes, yticklabels=classes)\n",
    "plt.xlabel(\"Predicted\")\n",
    "plt.ylabel(\"True\")\n",
    "plt.title(f\"Vision Transformer Confusion Matrix - Best Model (Epoch {best_epoch})\")\n",
    "plt.show()\n",
    "\n",
    "# -----------------------------\n",
    "# 6. Enhanced Visualizations\n",
    "# -----------------------------\n",
    "plt.figure(figsize=(20, 5))\n",
    "\n",
    "# Loss Plot\n",
    "plt.subplot(1, 4, 1)\n",
    "plt.plot(range(1, epochs+1), train_losses, 'b-', label=\"Train Loss\", marker='o', linewidth=2)\n",
    "plt.plot(range(1, epochs+1), val_losses, 'r-', label=\"Val Loss\", marker='s', linewidth=2)\n",
    "plt.axvline(x=best_epoch, color='red', linestyle='--', alpha=0.7, label=f'Best (Epoch {best_epoch})')\n",
    "plt.legend()\n",
    "plt.title(\"Vision Transformer Loss over Epochs\")\n",
    "plt.xlabel(\"Epoch\")\n",
    "plt.ylabel(\"Loss\")\n",
    "plt.grid(True, alpha=0.3)\n",
    "\n",
    "# Accuracy Plot\n",
    "plt.subplot(1, 4, 2)\n",
    "plt.plot(range(1, epochs+1), train_accs, 'b-', label=\"Train Accuracy\", marker='o', linewidth=2)\n",
    "plt.plot(range(1, epochs+1), val_accs, 'r-', label=\"Val Accuracy\", marker='s', linewidth=2)\n",
    "plt.axvline(x=best_epoch, color='red', linestyle='--', alpha=0.7, label=f'Best (Epoch {best_epoch})')\n",
    "plt.scatter([best_epoch], [best_val_acc], color='red', s=100, zorder=5)\n",
    "plt.legend()\n",
    "plt.title(\"Vision Transformer Accuracy over Epochs\")\n",
    "plt.xlabel(\"Epoch\")\n",
    "plt.ylabel(\"Accuracy\")\n",
    "plt.grid(True, alpha=0.3)\n",
    "\n",
    "# Timing Plot\n",
    "plt.subplot(1, 4, 3)\n",
    "bars = plt.bar(range(1, epochs+1), epoch_times, color='lightcoral', alpha=0.7)\n",
    "bars[best_epoch-1].set_color('red')\n",
    "plt.title(\"Vision Transformer Training Time per Epoch\")\n",
    "plt.xlabel(\"Epoch\")\n",
    "plt.ylabel(\"Time (seconds)\")\n",
    "plt.grid(True, alpha=0.3)\n",
    "for i, t in enumerate(epoch_times):\n",
    "    plt.text(i+1, t+0.5, f'{t:.1f}s', ha='center', va='bottom')\n",
    "\n",
    "# Performance Comparison\n",
    "plt.subplot(1, 4, 4)\n",
    "metrics = ['Best Val Acc', 'Test Acc']\n",
    "values = [best_val_acc, test_accuracy]\n",
    "colors = ['lightcoral', 'red']\n",
    "bars = plt.bar(metrics, values, color=colors, alpha=0.7)\n",
    "plt.title(\"Vision Transformer Final Model Performance\")\n",
    "plt.ylabel(\"Accuracy\")\n",
    "plt.ylim(0, 1)\n",
    "plt.grid(True, alpha=0.3)\n",
    "for bar, val in zip(bars, values):\n",
    "    plt.text(bar.get_x() + bar.get_width()/2, val + 0.01, \n",
    "             f'{val:.4f}', ha='center', va='bottom')\n",
    "\n",
    "plt.tight_layout()\n",
    "plt.show()\n",
    "\n",
    "print(f\"\\n⏰ Vision Transformer Final Timing Summary:\")\n",
    "print(f\"│ Total Training: {total_training_time:.2f}s\")\n",
    "print(f\"│ Average per Epoch: {np.mean(epoch_times):.2f}s\")\n",
    "print(f\"│ Testing Time: {test_time:.2f}s\")\n",
    "print(f\"│ Total Runtime: {total_training_time + test_time:.2f}s\")\n",
    "\n",
    "print(f\"\\n💾 Vision Transformer Files saved:\")\n",
    "print(f\"│ best_vit_model.pth - Best validation accuracy model\")\n",
    "print(f\"│ vit_training_history.csv - Training metrics for later plotting\")\n",
    "\n",
    "# -----------------------------\n",
    "# 7. Vision Transformer Architecture Summary\n",
    "# -----------------------------\n",
    "print(f\"\\n🏗️  Vision Transformer Architecture Summary:\")\n",
    "print(f\"│ Total Parameters: {sum(p.numel() for p in model.parameters()):,}\")\n",
    "print(f\"│ Trainable Parameters: {sum(p.numel() for p in model.parameters() if p.requires_grad):,}\")\n",
    "print(f\"│ Model Size: {sum(p.numel() * p.element_size() for p in model.parameters()) / 1024**2:.2f} MB\")\n",
    "print(f\"│ Input Size: 224x224x3\")\n",
    "print(f\"│ Patch Size: 16x16\")\n",
    "print(f\"│ Number of Patches: {model.patch_embed.n_patches}\")\n",
    "print(f\"│ Embed Dimension: {model.embed_dim}\")\n",
    "print(f\"│ Number of Heads: 12\")\n",
    "print(f\"│ Number of Layers: 12\")\n",
    "print(f\"│ MLP Ratio: 4.0\")\n",
    "print(f\"│ Output Classes: {len(classes)}\")\n",
    "print(f\"│ Activation: GELU\")\n",
    "print(f\"│ Attention Dropout: 0.1\")\n",
    "print(f\"│ Embedding Dropout: 0.1\")\n"
   ]
  }
 ],
 "metadata": {
  "kaggle": {
   "accelerator": "nvidiaTeslaT4",
   "dataSources": [
    {
     "datasetId": 7735666,
     "sourceId": 12275446,
     "sourceType": "datasetVersion"
    }
   ],
   "dockerImageVersionId": 31090,
   "isGpuEnabled": true,
   "isInternetEnabled": true,
   "language": "python",
   "sourceType": "notebook"
  },
  "kernelspec": {
   "display_name": "Python 3",
   "language": "python",
   "name": "python3"
  },
  "language_info": {
   "codemirror_mode": {
    "name": "ipython",
    "version": 3
   },
   "file_extension": ".py",
   "mimetype": "text/x-python",
   "name": "python",
   "nbconvert_exporter": "python",
   "pygments_lexer": "ipython3",
   "version": "3.11.13"
  },
  "papermill": {
   "default_parameters": {},
   "duration": 4383.221408,
   "end_time": "2025-09-08T17:31:25.949834",
   "environment_variables": {},
   "exception": null,
   "input_path": "__notebook__.ipynb",
   "output_path": "__notebook__.ipynb",
   "parameters": {},
   "start_time": "2025-09-08T16:18:22.728426",
   "version": "2.6.0"
  }
 },
 "nbformat": 4,
 "nbformat_minor": 5
}
